{
 "cells": [
  {
   "cell_type": "markdown",
   "id": "fresh-recipe",
   "metadata": {},
   "source": [
    "## Descriptors\n",
    "A descriptors is what we call nay object that defines __get__(), __set__(), or __delete__(). optionally descriptors cn gave a __set_name__() method also.\n",
    "\n",
    "Note: descriptors are called in another class they can't be used alone, if we want to use a descriptors then we need to initiate them in another class."
   ]
  },
  {
   "cell_type": "code",
   "execution_count": 7,
   "id": "atlantic-faith",
   "metadata": {},
   "outputs": [],
   "source": [
    "# a simple descriptors with get and set mehtod only\n",
    "class LoggedAccess:\n",
    "    \n",
    "    # set method takes three argument self, obj, object_class:\n",
    "    def __set__(self, obj, value):\n",
    "        \"\"\"\n",
    "        :param self: self is the object of the descriptors class.\n",
    "        :param obj:instance, an instance of the class in which a descriptor is initiated.\n",
    "        :param obje_class:type, it is the class itself in which we are using the descriptors.\n",
    "        \"\"\"\n",
    "        print(\"In LoggedAccess descriptors: inside __set__ method:\")\n",
    "        print(\"-----------------------------------------------------\")\n",
    "        # Now to check about each object we need to pring them\n",
    "        print(\"self: \",self)\n",
    "        print('obj: ', obj)\n",
    "        print('value: ', value)\n",
    "        \n",
    "    \n",
    "    def __get__(self, obj, owner=None):\n",
    "        \n",
    "        \"\"\"\n",
    "        :param self: self is the object of the descriptors class.\n",
    "        :param obj:instance, an instance of the class in which a descriptor is initiated.\n",
    "        :param owner:type, it is the class itself in which we are using the descriptors.\n",
    "        \"\"\"\n",
    "        \n",
    "        print(\"In LoggedAccess descriptors: inside __get__ method:\")\n",
    "        print(\"-----------------------------------------------------\")\n",
    "        # Now to check about each object we need to pring them\n",
    "        print(\"self: \",self)\n",
    "        print('obj: ', obj)\n",
    "        print('owner: ', owner)\n",
    "        "
   ]
  },
  {
   "cell_type": "code",
   "execution_count": 8,
   "id": "seasonal-dubai",
   "metadata": {},
   "outputs": [],
   "source": [
    "class Person:\n",
    "    \n",
    "    # Now in this call we need to make an instance of the descriptor class\n",
    "    age = LoggedAccess()"
   ]
  },
  {
   "cell_type": "markdown",
   "id": "mysterious-disability",
   "metadata": {},
   "source": [
    " Now we need to make an instance of the Person class. "
   ]
  },
  {
   "cell_type": "code",
   "execution_count": 9,
   "id": "other-carter",
   "metadata": {},
   "outputs": [],
   "source": [
    "manish = Person()\n",
    "# now we will access the age class variable by using the manish instance"
   ]
  },
  {
   "cell_type": "code",
   "execution_count": 10,
   "id": "vulnerable-orlando",
   "metadata": {},
   "outputs": [
    {
     "name": "stdout",
     "output_type": "stream",
     "text": [
      "In LoggedAccess descriptors: inside __get__ method:\n",
      "-----------------------------------------------------\n",
      "self:  <__main__.LoggedAccess object at 0x000001A8A1241EE0>\n",
      "obj:  <__main__.Person object at 0x000001A89F995B80>\n",
      "owner:  <class '__main__.Person'>\n"
     ]
    }
   ],
   "source": [
    "manish.age  # this will call the __get__ method form the descriptor"
   ]
  },
  {
   "cell_type": "markdown",
   "id": "serial-logan",
   "metadata": {},
   "source": [
    "Here you can see that:\\\n",
    "`self`: self is the instance of the LoggedAccess class.\\\n",
    "`obj`: obj is the instance of the Person class in which we have creted the LoaggedAccess object.\\\n",
    "`owner`: ii is the owner of class of the object and also LoggedAccess instance because we created it in this class.\n",
    "\n",
    "**Now we will invoke the __set__ method by assinging a value to the object**"
   ]
  },
  {
   "cell_type": "code",
   "execution_count": 11,
   "id": "eastern-bradford",
   "metadata": {},
   "outputs": [
    {
     "name": "stdout",
     "output_type": "stream",
     "text": [
      "In LoggedAccess descriptors: inside __set__ method:\n",
      "-----------------------------------------------------\n",
      "self:  <__main__.LoggedAccess object at 0x000001A8A1241EE0>\n",
      "obj:  <__main__.Person object at 0x000001A89F995B80>\n",
      "value:  10\n"
     ]
    }
   ],
   "source": [
    "manish.age = 10  # this will invoke the __set__ method from the descriptor"
   ]
  },
  {
   "cell_type": "markdown",
   "id": "imposed-penguin",
   "metadata": {},
   "source": [
    "Here you can see that:\\\n",
    "`self`: self is the instance of the LoggedAccess class.\\\n",
    "`obj`: obj is the instance of the Person class in which we have creted the LoaggedAccess object.\\\n",
    "`value`: it is the new value which is assigned in the age object.."
   ]
  },
  {
   "cell_type": "markdown",
   "id": "personal-member",
   "metadata": {},
   "source": [
    "___"
   ]
  },
  {
   "cell_type": "markdown",
   "id": "dressed-customer",
   "metadata": {},
   "source": [
    "Now we have seen that a __get__ and __set__ method takes three argument and also we have seen that what these three argument contains. \n",
    "\n",
    "So its time to move a step ahed an manupulate the age variabel by setting some computation inside both classes."
   ]
  },
  {
   "cell_type": "code",
   "execution_count": 16,
   "id": "demographic-savings",
   "metadata": {},
   "outputs": [],
   "source": [
    "# a simple descriptors with get and set mehtod only\n",
    "class LoggedAccess:\n",
    "    \n",
    "    # set method takes three argument self, obj, object_class:\n",
    "    def __set__(self, obj, value):\n",
    "        \"\"\"\n",
    "        :param self: self is the object of the descriptors class.\n",
    "        :param obj:instance, an instance of the class in which a descriptor is initiated.\n",
    "        :param obje_class:type, it is the class itself in which we are using the descriptors.\n",
    "        \"\"\"\n",
    "        print(\"In LoggedAccess descriptors: inside __set__ method:\")\n",
    "        print(\"-----------------------------------------------------\")\n",
    "        # Now to check about each object we need to pring them\n",
    "        print(\"self: \",self)\n",
    "        print('obj: ', obj)\n",
    "        print('value: ', value)\n",
    "        \n",
    "        # Now since obj is the instace of the class person so it will hold the age variable \n",
    "        # so we will use the obj.age to get the age variable then we will return it \n",
    "        \n",
    "        print(\"dict of the object: \",obj.__dict__)\n",
    "        obj._age = value   # here we need to use the private name of the object to avoid the infinite recursion\n",
    "        \n",
    "        # obj.age   --> it is the public name of the variable\n",
    "        # obj._age  --> it is the private name of the varable\n",
    "        \n",
    "    \n",
    "    def __get__(self, obj, owner=None):\n",
    "        \n",
    "        \"\"\"\n",
    "        :param self: self is the object of the descriptors class.\n",
    "        :param obj:instance, an instance of the class in which a descriptor is initiated.\n",
    "        :param owner:type, it is the class itself in which we are using the descriptors.\n",
    "        \"\"\"\n",
    "        \n",
    "        print(\"In LoggedAccess descriptors: inside __get__ method:\")\n",
    "        print(\"-----------------------------------------------------\")\n",
    "        # Now to check about each object we need to pring them\n",
    "        print(\"self: \",self)\n",
    "        print('obj: ', obj)\n",
    "        print('owner: ', owner)\n",
    "        \n",
    "        # Now in __set__() method also obj will contain the age variable so we need to access it.\n",
    "        # to modify its value.\n",
    "        return obj._age\n",
    "        \n",
    "        \n",
    "class Person:\n",
    "    \n",
    "    # Now in this call we need to make an instance of the descriptor class\n",
    "    age = LoggedAccess()          # Descriptor instacne\n",
    "    \n",
    "    # Now here also we will make some modification to store the age value in the instance of the Person object\n",
    "    def __init__(self, name, age):\n",
    "        \n",
    "        self.name  = name       # Regular instance attribute\n",
    "        self.age = age          # Calls __set__()\n",
    "        \n",
    "    # here now we will add a method which will increase the value of the age.\n",
    "    def addAge(self):\n",
    "        self.age += 1            # Calls __set__() and __get__() both"
   ]
  },
  {
   "cell_type": "code",
   "execution_count": 17,
   "id": "sensitive-lotus",
   "metadata": {},
   "outputs": [
    {
     "name": "stdout",
     "output_type": "stream",
     "text": [
      "In LoggedAccess descriptors: inside __set__ method:\n",
      "-----------------------------------------------------\n",
      "self:  <__main__.LoggedAccess object at 0x000001E2722C30D0>\n",
      "obj:  <__main__.Person object at 0x000001E272153C40>\n",
      "value:  25\n",
      "dict of the object:  {'name': 'manish'}\n"
     ]
    }
   ],
   "source": [
    "manish = Person('manish', 25)"
   ]
  },
  {
   "cell_type": "markdown",
   "id": "existing-clone",
   "metadata": {},
   "source": [
    "Caution: Note that here in above code to assign and retrieve the age attribute we have used _age (private name) of the variable to avoide the infinite recursion but in this case we have restricated with the name of the object of the class we cant change it. \n",
    "\n",
    "or in other word:\n",
    "\n",
    "One major issue with this example is that the private name _age is hardwired in the LoggedAccess class. That means that each instance can only have one logged attribute and that its name is unchangeable."
   ]
  },
  {
   "cell_type": "code",
   "execution_count": 26,
   "id": "informational-yield",
   "metadata": {},
   "outputs": [],
   "source": [
    "        \n",
    "class Person:\n",
    "    \n",
    "    # Changing the name of the age attribute to another to see the effect of __set__ and __get__ methods.\n",
    "    AGE = LoggedAccess()          # Descriptor instacne\n",
    "     \n",
    "    # Now here also we will make some modification to store the age value in the instance of the Person object\n",
    "    def __init__(self, name, age):\n",
    "        \n",
    "        self.name  = name       # Regular instance attribute\n",
    "        self.AGE = age          # Calls __set__()\n",
    "        \n",
    "    # here now we will add a method which will increase the value of the age.\n",
    "    def addAge(self):\n",
    "        self.AGE += 1            # Calls __set__() and __get__() both"
   ]
  },
  {
   "cell_type": "code",
   "execution_count": 27,
   "id": "federal-treat",
   "metadata": {},
   "outputs": [
    {
     "name": "stdout",
     "output_type": "stream",
     "text": [
      "In LoggedAccess descriptors: inside __set__ method:\n",
      "-----------------------------------------------------\n",
      "self:  <__main__.LoggedAccess object at 0x000001E2722EA850>\n",
      "obj:  <__main__.Person object at 0x000001E2722EA2B0>\n",
      "value:  25\n",
      "dict of the object:  {'name': 'manish'}\n"
     ]
    }
   ],
   "source": [
    "Name = Person('manish', 25)"
   ]
  },
  {
   "cell_type": "code",
   "execution_count": 28,
   "id": "reasonable-turning",
   "metadata": {},
   "outputs": [
    {
     "name": "stdout",
     "output_type": "stream",
     "text": [
      "In LoggedAccess descriptors: inside __get__ method:\n",
      "-----------------------------------------------------\n",
      "self:  <__main__.LoggedAccess object at 0x000001E2722EA850>\n",
      "obj:  <__main__.Person object at 0x000001E2722EA2B0>\n",
      "owner:  <class '__main__.Person'>\n"
     ]
    },
    {
     "data": {
      "text/plain": [
       "25"
      ]
     },
     "execution_count": 28,
     "metadata": {},
     "output_type": "execute_result"
    }
   ],
   "source": [
    "Name.AGE"
   ]
  },
  {
   "cell_type": "code",
   "execution_count": 32,
   "id": "stable-weekly",
   "metadata": {},
   "outputs": [
    {
     "name": "stdout",
     "output_type": "stream",
     "text": [
      "In LoggedAccess descriptors: inside __get__ method:\n",
      "-----------------------------------------------------\n",
      "self:  <__main__.LoggedAccess object at 0x000001E2722EA850>\n",
      "obj:  <__main__.Person object at 0x000001E2722EA2B0>\n",
      "owner:  <class '__main__.Person'>\n",
      "In LoggedAccess descriptors: inside __set__ method:\n",
      "-----------------------------------------------------\n",
      "self:  <__main__.LoggedAccess object at 0x000001E2722EA850>\n",
      "obj:  <__main__.Person object at 0x000001E2722EA2B0>\n",
      "value:  28\n",
      "dict of the object:  {'name': 'manish', '_age': 27}\n"
     ]
    }
   ],
   "source": [
    "Name.addAge()"
   ]
  },
  {
   "cell_type": "markdown",
   "id": "hairy-marketing",
   "metadata": {},
   "source": [
    "here you can see that the name of the object is still _age after changing the name of the object (`AGE = LoggedAccess()` )."
   ]
  },
  {
   "cell_type": "markdown",
   "id": "brilliant-briefing",
   "metadata": {},
   "source": [
    "Now we will resolve this problem by adding a new method called `__set_name__()` which will be invoked during the creatiion of the instance of the LoggedAccess Descriptor instance."
   ]
  },
  {
   "cell_type": "markdown",
   "id": "visible-sixth",
   "metadata": {},
   "source": [
    "## Adding name functionallity to the descriptor"
   ]
  },
  {
   "cell_type": "code",
   "execution_count": 39,
   "id": "exclusive-outreach",
   "metadata": {},
   "outputs": [
    {
     "name": "stdout",
     "output_type": "stream",
     "text": [
      "In LoggedAccess descriptors: inside __set_name__ method:\n",
      "-----------------------------------------------------\n",
      "self:  <__main__.LoggedAccess object at 0x000001E27213E940>\n",
      "owner:  <class '__main__.Person'>\n",
      "name:  name\n",
      "\n",
      "In LoggedAccess descriptors: inside __set_name__ method:\n",
      "-----------------------------------------------------\n",
      "self:  <__main__.LoggedAccess object at 0x000001E27213ED90>\n",
      "owner:  <class '__main__.Person'>\n",
      "name:  age\n",
      "\n"
     ]
    }
   ],
   "source": [
    "# a simple descriptors with get and set mehtod only\n",
    "class LoggedAccess:\n",
    "    \n",
    "    \n",
    "    def __set_name__(self, owner, name):\n",
    "        \n",
    "        \"\"\"\n",
    "        :param self: self is the object of the descriptors class.\n",
    "        :param owner:type, it is the class itself in which we are using the descriptors.\n",
    "        :param name:name, it is the name of the object of the self object.\n",
    "        \n",
    "        \"\"\"\n",
    "        print(\"In LoggedAccess descriptors: inside __set_name__ method:\")\n",
    "        print(\"-----------------------------------------------------\")\n",
    "        # Now to check about each object we need to pring them\n",
    "        print(\"self: \",self)\n",
    "        print('owner: ', owner)\n",
    "        print('name: ', name)\n",
    "        print()\n",
    "    \n",
    "    # set method takes three argument self, obj, object_class:\n",
    "    def __set__(self, obj, value):\n",
    "        \"\"\"\n",
    "        :param self: self is the object of the descriptors class.\n",
    "        :param obj:instance, an instance of the class in which a descriptor is initiated.\n",
    "        :param obje_class:type, it is the class itself in which we are using the descriptors.\n",
    "        \"\"\"\n",
    "        print(\"In LoggedAccess descriptors: inside __set__ method:\")\n",
    "        print(\"-----------------------------------------------------\")\n",
    "        # Now to check about each object we need to pring them\n",
    "        print(\"self: \",self)\n",
    "        print('obj: ', obj)\n",
    "        print('value: ', value)\n",
    "        \n",
    "        # Now since obj is the instace of the class person so it will hold the age variable \n",
    "        # so we will use the obj.age to get the age variable then we will return it \n",
    "        \n",
    "        print(\"dict of the object: \",obj.__dict__)\n",
    "        obj._age = value   # here we need to use the private name of the object to avoid the infinite recursion\n",
    "        \n",
    "        # obj.age   --> it is the public name of the variable\n",
    "        # obj._age  --> it is the private name of the varable\n",
    "        print()\n",
    "    \n",
    "    def __get__(self, obj, owner=None):\n",
    "        \n",
    "        \"\"\"\n",
    "        This method will be invoked as we creates the object of the LoggedAccess instance.\n",
    "        \n",
    "        :param self: self is the object of the descriptors class.\n",
    "        :param obj:instance, an instance of the class in which a descriptor is initiated.\n",
    "        :param owner:type, it is the class itself in which we are using the descriptors.\n",
    "        \"\"\"\n",
    "        \n",
    "        print(\"In LoggedAccess descriptors: inside __get__ method:\")\n",
    "        print(\"-----------------------------------------------------\")\n",
    "        # Now to check about each object we need to pring them\n",
    "        print(\"self: \",self)\n",
    "        print('obj: ', obj)\n",
    "        print('owner: ', owner)\n",
    "        print()\n",
    "        \n",
    "        # Now in __set__() method also obj will contain the age variable so we need to access it.\n",
    "        # to modify its value.\n",
    "        return obj._age\n",
    "        \n",
    "        \n",
    "class Person:\n",
    "    \n",
    "    # Now in this call we need to make an instance of the descriptor class\n",
    "    name = LoggedAccess()          # first Descriptor instacne\n",
    "    age = LoggedAccess()           # seconf Descriptor instance\n",
    "    \n",
    "    # Now here also we will make some modification to store the age value in the instance of the Person object\n",
    "    def __init__(self, name, age):\n",
    "        \n",
    "        self.name  = name       # Regular instance attribute\n",
    "        self.age = age          # Calls __set__()\n",
    "        \n",
    "    # here now we will add a method which will increase the value of the age.\n",
    "    def addAge(self):\n",
    "        self.age += 1            # Calls __set__() and __get__() both"
   ]
  },
  {
   "cell_type": "markdown",
   "id": "hidden-cambodia",
   "metadata": {},
   "source": [
    "As you can see that as soon as we creates the instance of the LoggedAccess then it will call the `__set_name__()` method.\n",
    "\n",
    "Now we will use this `__set_name__()` method to change the name of the attribute dynamically."
   ]
  },
  {
   "cell_type": "markdown",
   "id": "consistent-childhood",
   "metadata": {},
   "source": [
    "### Customize the name of the instance."
   ]
  },
  {
   "cell_type": "code",
   "execution_count": 40,
   "id": "tracked-marking",
   "metadata": {},
   "outputs": [
    {
     "name": "stdout",
     "output_type": "stream",
     "text": [
      "In LoggedAccess descriptors: inside __set_name__ method:\n",
      "-----------------------------------------------------\n",
      "self:  <__main__.LoggedAccess object at 0x000001E2724651F0>\n",
      "owner:  <class '__main__.Person'>\n",
      "name:  name\n",
      "\n",
      "In LoggedAccess descriptors: inside __set_name__ method:\n",
      "-----------------------------------------------------\n",
      "self:  <__main__.LoggedAccess object at 0x000001E2724657F0>\n",
      "owner:  <class '__main__.Person'>\n",
      "name:  age\n",
      "\n"
     ]
    }
   ],
   "source": [
    "# a simple descriptors with get and set mehtod only\n",
    "class LoggedAccess:\n",
    "    \n",
    "    \n",
    "    def __set_name__(self, owner, name):\n",
    "        \n",
    "        \"\"\"\n",
    "        :param self: self is the object of the descriptors class.\n",
    "        :param owner:type, it is the class itself in which we are using the descriptors.\n",
    "        :param name:name, it is the name of the object of the self object.\n",
    "        \n",
    "        \"\"\"\n",
    "        print(\"In LoggedAccess descriptors: inside __set_name__ method:\")\n",
    "        print(\"-----------------------------------------------------\")\n",
    "        # Now to check about each object we need to pring them\n",
    "        print(\"self: \",self)\n",
    "        print('owner: ', owner)\n",
    "        print('name: ', name)\n",
    "        print()\n",
    "        \n",
    "        # Now here we need to add variable for the self instance of the Descriptor.\n",
    "        self.public_name = name\n",
    "        self.private_name = '_' + name\n",
    "        \n",
    "        # Now after assigning the name of the instance we need to use these name in the __set__ and _get__ method.\n",
    "        # and also we can use setattr() and getattr() method since now we have the name of the instance.\n",
    "    \n",
    "    # set method takes three argument self, obj, object_class:\n",
    "    def __set__(self, obj, value):\n",
    "        \"\"\"\n",
    "        :param self: self is the object of the descriptors class.\n",
    "        :param obj:instance, an instance of the class in which a descriptor is initiated.\n",
    "        :param obje_class:type, it is the class itself in which we are using the descriptors.\n",
    "        \"\"\"\n",
    "        print(\"In LoggedAccess descriptors: inside __set__ method:\")\n",
    "        print(\"-----------------------------------------------------\")\n",
    "        # Now to check about each object we need to pring them\n",
    "        print(\"self: \",self)\n",
    "        print('obj: ', obj)\n",
    "        print('value: ', value)\n",
    "        \n",
    "        # Now since obj is the instace of the class person so it will hold the age variable \n",
    "        # so we will use the obj.age to get the age variable then we will return it \n",
    "        \n",
    "        print(\"dict of the object: \",obj.__dict__)\n",
    "        setattr(obj, self.private_name, value)   # using setattr() to assing the value in the instance.\n",
    "        \n",
    "        # obj.age   --> it is the public name of the variable\n",
    "        # obj._age  --> it is the private name of the varable\n",
    "        print()\n",
    "    \n",
    "    def __get__(self, obj, owner=None):\n",
    "        \n",
    "        \"\"\"\n",
    "        This method will be invoked as we creates the object of the LoggedAccess instance.\n",
    "        \n",
    "        :param self: self is the object of the descriptors class.\n",
    "        :param obj:instance, an instance of the class in which a descriptor is initiated.\n",
    "        :param owner:type, it is the class itself in which we are using the descriptors.\n",
    "        \"\"\"\n",
    "        \n",
    "        print(\"In LoggedAccess descriptors: inside __get__ method:\")\n",
    "        print(\"-----------------------------------------------------\")\n",
    "        # Now to check about each object we need to pring them\n",
    "        print(\"self: \",self)\n",
    "        print('obj: ', obj)\n",
    "        print('owner: ', owner)\n",
    "        print()\n",
    "        \n",
    "        # Now in __set__() method also obj will contain the age variable so we need to access it.\n",
    "        # to modify its value.\n",
    "        return getattr(obj, self.private_name)  # using getattr() to get the self value\n",
    "        \n",
    "        \n",
    "class Person:\n",
    "    \n",
    "    # Now in this call we need to make an instance of the descriptor class\n",
    "    name = LoggedAccess()          # first Descriptor instacne\n",
    "    age = LoggedAccess()           # seconf Descriptor instance\n",
    "    \n",
    "    # Now here also we will make some modification to store the age value in the instance of the Person object\n",
    "    def __init__(self, name, age):\n",
    "        \n",
    "        self.name  = name       # Regular instance attribute\n",
    "        self.age = age          # Calls __set__()\n",
    "        \n",
    "    # here now we will add a method which will increase the value of the age.\n",
    "    def addAge(self):\n",
    "        self.age += 1            # Calls __set__() and __get__() both"
   ]
  },
  {
   "cell_type": "markdown",
   "id": "negative-hopkins",
   "metadata": {},
   "source": [
    "Now we will make two instance of person class."
   ]
  },
  {
   "cell_type": "code",
   "execution_count": 41,
   "id": "peaceful-disco",
   "metadata": {},
   "outputs": [
    {
     "name": "stdout",
     "output_type": "stream",
     "text": [
      "In LoggedAccess descriptors: inside __set__ method:\n",
      "-----------------------------------------------------\n",
      "self:  <__main__.LoggedAccess object at 0x000001E2724651F0>\n",
      "obj:  <__main__.Person object at 0x000001E2721998B0>\n",
      "value:  manish\n",
      "dict of the object:  {}\n",
      "\n",
      "In LoggedAccess descriptors: inside __set__ method:\n",
      "-----------------------------------------------------\n",
      "self:  <__main__.LoggedAccess object at 0x000001E2724657F0>\n",
      "obj:  <__main__.Person object at 0x000001E2721998B0>\n",
      "value:  25\n",
      "dict of the object:  {'_name': 'manish'}\n",
      "\n",
      "In LoggedAccess descriptors: inside __set__ method:\n",
      "-----------------------------------------------------\n",
      "self:  <__main__.LoggedAccess object at 0x000001E2724651F0>\n",
      "obj:  <__main__.Person object at 0x000001E272037C40>\n",
      "value:  sagar\n",
      "dict of the object:  {}\n",
      "\n",
      "In LoggedAccess descriptors: inside __set__ method:\n",
      "-----------------------------------------------------\n",
      "self:  <__main__.LoggedAccess object at 0x000001E2724657F0>\n",
      "obj:  <__main__.Person object at 0x000001E272037C40>\n",
      "value:  24\n",
      "dict of the object:  {'_name': 'sagar'}\n",
      "\n"
     ]
    }
   ],
   "source": [
    "one = Person('manish', 25)\n",
    "two = Person('sagar', 24)"
   ]
  },
  {
   "cell_type": "markdown",
   "id": "unexpected-helen",
   "metadata": {},
   "source": [
    "Note: note that here` __set__` method is called twice for single Person() instance, because now we have two variable in Person() instance and both invokes the `__set__` method to set their corresponding value and also you can see the difference in each call of the `__set__` method."
   ]
  },
  {
   "cell_type": "code",
   "execution_count": 42,
   "id": "voluntary-divorce",
   "metadata": {},
   "outputs": [
    {
     "data": {
      "text/plain": [
       "{'_name': 'sagar', '_age': 24}"
      ]
     },
     "execution_count": 42,
     "metadata": {},
     "output_type": "execute_result"
    }
   ],
   "source": [
    "vars(two)"
   ]
  },
  {
   "cell_type": "code",
   "execution_count": 43,
   "id": "fifty-swing",
   "metadata": {},
   "outputs": [
    {
     "name": "stdout",
     "output_type": "stream",
     "text": [
      "In LoggedAccess descriptors: inside __get__ method:\n",
      "-----------------------------------------------------\n",
      "self:  <__main__.LoggedAccess object at 0x000001E2724657F0>\n",
      "obj:  <__main__.Person object at 0x000001E272037C40>\n",
      "owner:  <class '__main__.Person'>\n",
      "\n"
     ]
    },
    {
     "data": {
      "text/plain": [
       "24"
      ]
     },
     "execution_count": 43,
     "metadata": {},
     "output_type": "execute_result"
    }
   ],
   "source": [
    "two.age"
   ]
  },
  {
   "cell_type": "code",
   "execution_count": 44,
   "id": "transsexual-furniture",
   "metadata": {},
   "outputs": [
    {
     "name": "stdout",
     "output_type": "stream",
     "text": [
      "In LoggedAccess descriptors: inside __get__ method:\n",
      "-----------------------------------------------------\n",
      "self:  <__main__.LoggedAccess object at 0x000001E2724651F0>\n",
      "obj:  <__main__.Person object at 0x000001E272037C40>\n",
      "owner:  <class '__main__.Person'>\n",
      "\n"
     ]
    },
    {
     "data": {
      "text/plain": [
       "'sagar'"
      ]
     },
     "execution_count": 44,
     "metadata": {},
     "output_type": "execute_result"
    }
   ],
   "source": [
    "two.name"
   ]
  },
  {
   "cell_type": "code",
   "execution_count": 47,
   "id": "prostate-malta",
   "metadata": {},
   "outputs": [
    {
     "data": {
      "text/plain": [
       "{'public_name': 'name', 'private_name': '_name'}"
      ]
     },
     "execution_count": 47,
     "metadata": {},
     "output_type": "execute_result"
    }
   ],
   "source": [
    "vars(vars(Person)['name'])"
   ]
  },
  {
   "cell_type": "code",
   "execution_count": null,
   "id": "fatal-blair",
   "metadata": {},
   "outputs": [],
   "source": []
  }
 ],
 "metadata": {
  "kernelspec": {
   "display_name": "Python 3",
   "language": "python",
   "name": "python3"
  },
  "language_info": {
   "codemirror_mode": {
    "name": "ipython",
    "version": 3
   },
   "file_extension": ".py",
   "mimetype": "text/x-python",
   "name": "python",
   "nbconvert_exporter": "python",
   "pygments_lexer": "ipython3",
   "version": "3.8.3"
  }
 },
 "nbformat": 4,
 "nbformat_minor": 5
}
