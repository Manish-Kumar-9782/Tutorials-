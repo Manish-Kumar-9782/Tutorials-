{
 "cells": [
  {
   "cell_type": "markdown",
   "id": "f0dc2b66-66ad-42e4-8be2-9b2e3cf805e9",
   "metadata": {},
   "source": [
    "## lambda function\n",
    "```python\n",
    "lambda parameter_list: single_line_statement;\n",
    "\n",
    "lambda var : var**2\n",
    "```"
   ]
  },
  {
   "cell_type": "code",
   "execution_count": 4,
   "id": "f42f1368-3e0a-497e-950b-7030b32ca912",
   "metadata": {},
   "outputs": [],
   "source": [
    "import random"
   ]
  },
  {
   "cell_type": "code",
   "execution_count": 5,
   "id": "3b331153-b46c-417c-bb28-03eee7ba4da4",
   "metadata": {},
   "outputs": [],
   "source": [
    "def square(value):\n",
    "    return value**2"
   ]
  },
  {
   "cell_type": "code",
   "execution_count": 6,
   "id": "f8eec7dd-6efa-4c1b-ac4b-82eed0889706",
   "metadata": {},
   "outputs": [],
   "source": [
    "mynumbers = list(range(2,20, 2))"
   ]
  },
  {
   "cell_type": "code",
   "execution_count": 7,
   "id": "d141f314-3e8b-4ac5-bc6e-0d11e86e243b",
   "metadata": {},
   "outputs": [
    {
     "data": {
      "text/plain": [
       "[2, 4, 6, 8, 10, 12, 14, 16, 18]"
      ]
     },
     "execution_count": 7,
     "metadata": {},
     "output_type": "execute_result"
    }
   ],
   "source": [
    "mynumbers"
   ]
  },
  {
   "cell_type": "code",
   "execution_count": 9,
   "id": "b21e58dc-57cd-48e7-97b9-33ab61e10563",
   "metadata": {
    "tags": []
   },
   "outputs": [],
   "source": [
    "subjects = [\"hindi\",'english','science','math','social science']"
   ]
  },
  {
   "cell_type": "code",
   "execution_count": 10,
   "id": "98087cef-4cf7-418d-8c98-4b61d04a2fe0",
   "metadata": {},
   "outputs": [],
   "source": [
    "numbers = {subject:random.randint(30,100) for subject in subjects}"
   ]
  },
  {
   "cell_type": "code",
   "execution_count": 11,
   "id": "7bc5542b-27a0-450d-995d-acf2670de422",
   "metadata": {},
   "outputs": [
    {
     "data": {
      "text/plain": [
       "{'hindi': 75, 'english': 95, 'science': 60, 'math': 81, 'social science': 44}"
      ]
     },
     "execution_count": 11,
     "metadata": {},
     "output_type": "execute_result"
    }
   ],
   "source": [
    "numbers"
   ]
  },
  {
   "cell_type": "code",
   "execution_count": 12,
   "id": "09840eea-f1a1-4db3-ab84-1caf3cee5d9b",
   "metadata": {},
   "outputs": [],
   "source": [
    "mylist = []\n",
    "for i in range(20):\n",
    "    mylist.append(random.randint(10,30))"
   ]
  },
  {
   "cell_type": "code",
   "execution_count": 13,
   "id": "c156c694-17b2-4b9e-b2e5-84818c5df027",
   "metadata": {},
   "outputs": [
    {
     "name": "stdout",
     "output_type": "stream",
     "text": [
      "[21, 17, 17, 29, 26, 24, 20, 10, 27, 26, 21, 29, 24, 21, 25, 16, 30, 29, 28, 25]\n"
     ]
    }
   ],
   "source": [
    "print(mylist)"
   ]
  },
  {
   "cell_type": "code",
   "execution_count": 14,
   "id": "1510a314-9082-4092-b793-711cbaacb93d",
   "metadata": {},
   "outputs": [
    {
     "data": {
      "text/plain": [
       "[19, 29, 29, 14, 12]"
      ]
     },
     "execution_count": 14,
     "metadata": {},
     "output_type": "execute_result"
    }
   ],
   "source": [
    "[random.randint(10,30) for i in range(5)]"
   ]
  },
  {
   "cell_type": "code",
   "execution_count": 15,
   "id": "ab55b759-971e-4a0f-99eb-143504500c77",
   "metadata": {},
   "outputs": [
    {
     "data": {
      "text/plain": [
       "list"
      ]
     },
     "execution_count": 15,
     "metadata": {},
     "output_type": "execute_result"
    }
   ],
   "source": [
    "type(users['users'])"
   ]
  },
  {
   "cell_type": "markdown",
   "id": "425b407f-a50b-4573-aa90-c7e177906fe0",
   "metadata": {},
   "source": [
    "### slicing the list\n",
    "```python\n",
    "mylist[startPoint:endPoint]\n",
    "\n",
    "# note: end point is exclusive\n",
    "```"
   ]
  },
  {
   "cell_type": "code",
   "execution_count": 16,
   "id": "c7f28c3f-1e33-44ee-b8a7-0f79f2ddc4cb",
   "metadata": {},
   "outputs": [
    {
     "data": {
      "text/plain": [
       "[24, 20, 10, 27, 26]"
      ]
     },
     "execution_count": 16,
     "metadata": {},
     "output_type": "execute_result"
    }
   ],
   "source": [
    "mylist[5:10]"
   ]
  },
  {
   "cell_type": "code",
   "execution_count": 20,
   "id": "0b483500-4610-4dad-ba70-3a787f82e79f",
   "metadata": {},
   "outputs": [],
   "source": [
    "import json\n",
    "file = open(\"Person data.json\")\n",
    "data = json.load(file)\n",
    "users = data['users']"
   ]
  },
  {
   "cell_type": "code",
   "execution_count": null,
   "id": "2a830f40-d9aa-4bca-8d31-da3b2d999bce",
   "metadata": {},
   "outputs": [],
   "source": []
  },
  {
   "cell_type": "markdown",
   "id": "b8cd43c7-519e-4f05-9649-d8d1f3b5758b",
   "metadata": {},
   "source": [
    "### Steps to follow to get pass and fail result\n",
    "\n",
    "1. Extract only id, firstname,lastname,email;\n",
    "2. add subjects with random number in b/w 30 - 100\n",
    "3. calculate the passing result in individual subject.\n",
    "4. Calculate the final passing result.\n",
    "5. Dispay Passing result for each student."
   ]
  },
  {
   "cell_type": "markdown",
   "id": "6153c0f9-24b8-49e3-8cc9-137d966adf03",
   "metadata": {},
   "source": [
    "#### Extracting information which required only"
   ]
  },
  {
   "cell_type": "code",
   "execution_count": 21,
   "id": "a80233ab-ab0d-4f0d-9047-4f0e6df6f54d",
   "metadata": {},
   "outputs": [],
   "source": [
    "def extract_info(user, keys=[\"id\",'firstName','lastName', \n",
    "                             'age','gender','bloodGroup', 'email']):\n",
    "    user_data = {}\n",
    "    for key in keys:\n",
    "        user_data[key] = user.get(key,\"\")\n",
    "    \n",
    "    user_data[\"marks\"] = {subject:random.randint(30,100) for subject in subjects}\n",
    "    return user_data"
   ]
  },
  {
   "cell_type": "code",
   "execution_count": 22,
   "id": "18dc1c08-7ab6-4f70-ae21-90a96f5031b7",
   "metadata": {},
   "outputs": [
    {
     "data": {
      "text/plain": [
       "{'id': 1,\n",
       " 'firstName': 'Terry',\n",
       " 'lastName': 'Medhurst',\n",
       " 'age': 50,\n",
       " 'gender': 'male',\n",
       " 'bloodGroup': 'Aâˆ’',\n",
       " 'email': 'atuny0@sohu.com',\n",
       " 'marks': {'hindi': 79,\n",
       "  'english': 67,\n",
       "  'science': 84,\n",
       "  'math': 66,\n",
       "  'social science': 98}}"
      ]
     },
     "execution_count": 22,
     "metadata": {},
     "output_type": "execute_result"
    }
   ],
   "source": [
    "extract_info(users[0])"
   ]
  },
  {
   "cell_type": "code",
   "execution_count": 23,
   "id": "a0267e53-18a4-4da3-8d5c-28536acd5885",
   "metadata": {},
   "outputs": [],
   "source": [
    "students_info = list(map(extract_info, users))"
   ]
  },
  {
   "cell_type": "code",
   "execution_count": 24,
   "id": "8e1e324e-bcb8-49b3-804c-03350e029318",
   "metadata": {},
   "outputs": [
    {
     "data": {
      "text/plain": [
       "{'id': 1,\n",
       " 'firstName': 'Terry',\n",
       " 'lastName': 'Medhurst',\n",
       " 'age': 50,\n",
       " 'gender': 'male',\n",
       " 'bloodGroup': 'Aâˆ’',\n",
       " 'email': 'atuny0@sohu.com',\n",
       " 'marks': {'hindi': 69,\n",
       "  'english': 76,\n",
       "  'science': 43,\n",
       "  'math': 83,\n",
       "  'social science': 93}}"
      ]
     },
     "execution_count": 24,
     "metadata": {},
     "output_type": "execute_result"
    }
   ],
   "source": [
    "students_info[0]"
   ]
  },
  {
   "cell_type": "code",
   "execution_count": 25,
   "id": "5b5e579e-d4b7-4071-9db2-4fc381dcc11d",
   "metadata": {},
   "outputs": [],
   "source": [
    "def calculate_result(student, min_pass = 45):\n",
    "    \n",
    "    marks = student[\"marks\"]\n",
    "    test_result = {}\n",
    "    for subject, mark in marks.items():\n",
    "        \n",
    "        if mark > min_pass:\n",
    "            test_result[subject] = True\n",
    "        else:\n",
    "            test_result[subject] = False\n",
    "        \n",
    "    return (student['firstName']+\" \"+student[\"lastName\"], test_result)\n",
    "    "
   ]
  },
  {
   "cell_type": "code",
   "execution_count": 26,
   "id": "5e64800a-542e-4b67-801b-fc09c61d6f92",
   "metadata": {},
   "outputs": [
    {
     "data": {
      "text/plain": [
       "('Terry Medhurst',\n",
       " {'hindi': True,\n",
       "  'english': True,\n",
       "  'science': False,\n",
       "  'math': True,\n",
       "  'social science': True})"
      ]
     },
     "execution_count": 26,
     "metadata": {},
     "output_type": "execute_result"
    }
   ],
   "source": [
    "calculate_result(students_info[0])"
   ]
  },
  {
   "cell_type": "code",
   "execution_count": 27,
   "id": "338cdf2f-adc0-4f6a-81ad-fb5a9506038c",
   "metadata": {},
   "outputs": [],
   "source": [
    "test_result_score =  list(map(calculate_result, students_info))"
   ]
  },
  {
   "cell_type": "code",
   "execution_count": 28,
   "id": "4625a7f2-080c-4497-9706-3783de2eddfd",
   "metadata": {},
   "outputs": [],
   "source": [
    "def pass_fail(student):\n",
    "    name, subjects = student \n",
    "    return (name, all(subjects.values()))"
   ]
  },
  {
   "cell_type": "code",
   "execution_count": 29,
   "id": "14a97c03-573a-423d-b997-862d30c6849a",
   "metadata": {},
   "outputs": [
    {
     "data": {
      "text/plain": [
       "('Terry Medhurst', False)"
      ]
     },
     "execution_count": 29,
     "metadata": {},
     "output_type": "execute_result"
    }
   ],
   "source": [
    "pass_fail(test_result_score[0])"
   ]
  },
  {
   "cell_type": "code",
   "execution_count": 30,
   "id": "5b1dbe05-0dfb-4c68-8f0a-f82847a0d630",
   "metadata": {},
   "outputs": [
    {
     "name": "stdout",
     "output_type": "stream",
     "text": [
      "Terry Medhurst       Fail\n",
      "Sheldon Quigley      Pass\n",
      "Terrill Hills        Fail\n",
      "Miles Cummerata      Fail\n",
      "Mavis Schultz        Fail\n",
      "Alison Reichert      Fail\n",
      "Oleta Abbott         Fail\n",
      "Ewell Mueller        Fail\n",
      "Demetrius Corkery    Fail\n",
      "Eleanora Price       Fail\n",
      "Marcel Jones         Fail\n",
      "Assunta Rath         Pass\n",
      "Trace Douglas        Pass\n",
      "Enoch Lynch          Pass\n",
      "Jeanne Halvorson     Fail\n",
      "Trycia Fadel         Pass\n",
      "Bradford Prohaska    Fail\n",
      "Arely Skiles         Fail\n",
      "Gust Purdy           Pass\n",
      "Lenna Renner         Pass\n",
      "Doyle Ernser         Fail\n",
      "Tressa Weber         Fail\n",
      "Felicity O'Reilly    Fail\n",
      "Jocelyn Schuster     Fail\n",
      "Edwina Ernser        Fail\n",
      "Griffin Braun        Fail\n",
      "Piper Schowalter     Fail\n",
      "Kody Terry           Pass\n",
      "Macy Greenfelder     Fail\n",
      "Maurine Stracke      Fail\n"
     ]
    }
   ],
   "source": [
    "for student, result in list(map(pass_fail, test_result_score)):\n",
    "    if result:\n",
    "        print(f\"{student:20s} Pass\")\n",
    "    else:\n",
    "        print(f\"{student:20s} Fail\")"
   ]
  },
  {
   "cell_type": "code",
   "execution_count": 31,
   "id": "47948ec7-5f2b-4313-967c-23b854df8db1",
   "metadata": {},
   "outputs": [],
   "source": [
    "my_map =  map(pass_fail, test_result_score)"
   ]
  },
  {
   "cell_type": "code",
   "execution_count": 32,
   "id": "09d24aef-9513-4847-a747-0fa4029a0cf8",
   "metadata": {},
   "outputs": [
    {
     "data": {
      "text/plain": [
       "<map at 0x287923f7cd0>"
      ]
     },
     "execution_count": 32,
     "metadata": {},
     "output_type": "execute_result"
    }
   ],
   "source": [
    "my_map"
   ]
  },
  {
   "cell_type": "code",
   "execution_count": 33,
   "id": "d0f9ba3c-d6c3-4b46-a0aa-3dc94693b852",
   "metadata": {},
   "outputs": [
    {
     "data": {
      "text/plain": [
       "('Terry Medhurst', False)"
      ]
     },
     "execution_count": 33,
     "metadata": {},
     "output_type": "execute_result"
    }
   ],
   "source": [
    "next(my_map)"
   ]
  },
  {
   "cell_type": "code",
   "execution_count": null,
   "id": "6866015d-94c5-44fa-90d2-ca06693278a2",
   "metadata": {},
   "outputs": [],
   "source": []
  }
 ],
 "metadata": {
  "kernelspec": {
   "display_name": "Python 3 (ipykernel)",
   "language": "python",
   "name": "python3"
  },
  "language_info": {
   "codemirror_mode": {
    "name": "ipython",
    "version": 3
   },
   "file_extension": ".py",
   "mimetype": "text/x-python",
   "name": "python",
   "nbconvert_exporter": "python",
   "pygments_lexer": "ipython3",
   "version": "3.10.5"
  }
 },
 "nbformat": 4,
 "nbformat_minor": 5
}
