{
 "cells": [
  {
   "cell_type": "markdown",
   "id": "f0dc2b66-66ad-42e4-8be2-9b2e3cf805e9",
   "metadata": {},
   "source": [
    "## lambda function\n",
    "```python\n",
    "lambda parameter_list: single_line_statement;\n",
    "\n",
    "lambda var : var**2\n",
    "```"
   ]
  },
  {
   "cell_type": "code",
   "execution_count": 1,
   "id": "f42f1368-3e0a-497e-950b-7030b32ca912",
   "metadata": {},
   "outputs": [],
   "source": [
    "import random"
   ]
  },
  {
   "cell_type": "code",
   "execution_count": 2,
   "id": "3b331153-b46c-417c-bb28-03eee7ba4da4",
   "metadata": {},
   "outputs": [],
   "source": [
    "def square(value):\n",
    "    return value**2"
   ]
  },
  {
   "cell_type": "code",
   "execution_count": 3,
   "id": "f8eec7dd-6efa-4c1b-ac4b-82eed0889706",
   "metadata": {},
   "outputs": [],
   "source": [
    "mynumbers = list(range(2,20, 2))"
   ]
  },
  {
   "cell_type": "code",
   "execution_count": 4,
   "id": "d141f314-3e8b-4ac5-bc6e-0d11e86e243b",
   "metadata": {},
   "outputs": [
    {
     "data": {
      "text/plain": [
       "[2, 4, 6, 8, 10, 12, 14, 16, 18]"
      ]
     },
     "execution_count": 4,
     "metadata": {},
     "output_type": "execute_result"
    }
   ],
   "source": [
    "mynumbers"
   ]
  },
  {
   "cell_type": "code",
   "execution_count": 5,
   "id": "b21e58dc-57cd-48e7-97b9-33ab61e10563",
   "metadata": {
    "tags": []
   },
   "outputs": [],
   "source": [
    "subjects = [\"hindi\",'english','science','math','social science']"
   ]
  },
  {
   "cell_type": "code",
   "execution_count": 6,
   "id": "98087cef-4cf7-418d-8c98-4b61d04a2fe0",
   "metadata": {},
   "outputs": [],
   "source": [
    "numbers = {subject:random.randint(30,100) for subject in subjects}"
   ]
  },
  {
   "cell_type": "code",
   "execution_count": 7,
   "id": "7bc5542b-27a0-450d-995d-acf2670de422",
   "metadata": {},
   "outputs": [
    {
     "data": {
      "text/plain": [
       "{'hindi': 89, 'english': 92, 'science': 98, 'math': 64, 'social science': 44}"
      ]
     },
     "execution_count": 7,
     "metadata": {},
     "output_type": "execute_result"
    }
   ],
   "source": [
    "numbers"
   ]
  },
  {
   "cell_type": "code",
   "execution_count": 8,
   "id": "09840eea-f1a1-4db3-ab84-1caf3cee5d9b",
   "metadata": {},
   "outputs": [],
   "source": [
    "mylist = []\n",
    "for i in range(20):\n",
    "    mylist.append(random.randint(10,30))"
   ]
  },
  {
   "cell_type": "code",
   "execution_count": 9,
   "id": "c156c694-17b2-4b9e-b2e5-84818c5df027",
   "metadata": {},
   "outputs": [
    {
     "name": "stdout",
     "output_type": "stream",
     "text": [
      "[21, 14, 27, 29, 10, 12, 18, 20, 18, 23, 27, 17, 24, 16, 28, 28, 14, 21, 21, 17]\n"
     ]
    }
   ],
   "source": [
    "print(mylist)"
   ]
  },
  {
   "cell_type": "code",
   "execution_count": 10,
   "id": "1510a314-9082-4092-b793-711cbaacb93d",
   "metadata": {},
   "outputs": [
    {
     "data": {
      "text/plain": [
       "[29, 19, 16, 10, 28]"
      ]
     },
     "execution_count": 10,
     "metadata": {},
     "output_type": "execute_result"
    }
   ],
   "source": [
    "[random.randint(10,30) for i in range(5)]"
   ]
  },
  {
   "cell_type": "code",
   "execution_count": null,
   "id": "ab55b759-971e-4a0f-99eb-143504500c77",
   "metadata": {},
   "outputs": [],
   "source": []
  },
  {
   "cell_type": "markdown",
   "id": "425b407f-a50b-4573-aa90-c7e177906fe0",
   "metadata": {},
   "source": [
    "### slicing the list\n",
    "```python\n",
    "mylist[startPoint:endPoint]\n",
    "\n",
    "# note: end point is exclusive\n",
    "```"
   ]
  },
  {
   "cell_type": "code",
   "execution_count": 11,
   "id": "c7f28c3f-1e33-44ee-b8a7-0f79f2ddc4cb",
   "metadata": {},
   "outputs": [
    {
     "data": {
      "text/plain": [
       "[12, 18, 20, 18, 23]"
      ]
     },
     "execution_count": 11,
     "metadata": {},
     "output_type": "execute_result"
    }
   ],
   "source": [
    "mylist[5:10]"
   ]
  },
  {
   "cell_type": "code",
   "execution_count": 12,
   "id": "0b483500-4610-4dad-ba70-3a787f82e79f",
   "metadata": {},
   "outputs": [],
   "source": [
    "import json\n",
    "file = open(\"Person data.json\")\n",
    "data = json.load(file)\n",
    "users = data['users']"
   ]
  },
  {
   "cell_type": "code",
   "execution_count": null,
   "id": "2a830f40-d9aa-4bca-8d31-da3b2d999bce",
   "metadata": {},
   "outputs": [],
   "source": []
  },
  {
   "cell_type": "markdown",
   "id": "b8cd43c7-519e-4f05-9649-d8d1f3b5758b",
   "metadata": {},
   "source": [
    "### Steps to follow to get pass and fail result\n",
    "\n",
    "1. Extract only id, firstname,lastname,email;\n",
    "2. add subjects with random number in b/w 30 - 100\n",
    "3. calculate the passing result in individual subject.\n",
    "4. Calculate the final passing result.\n",
    "5. Dispay Passing result for each student."
   ]
  },
  {
   "cell_type": "markdown",
   "id": "6153c0f9-24b8-49e3-8cc9-137d966adf03",
   "metadata": {},
   "source": [
    "#### Extracting information which required only"
   ]
  },
  {
   "cell_type": "code",
   "execution_count": 13,
   "id": "a80233ab-ab0d-4f0d-9047-4f0e6df6f54d",
   "metadata": {},
   "outputs": [],
   "source": [
    "def extract_info(user, keys=[\"id\",'firstName','lastName', \n",
    "                             'age','gender','bloodGroup', 'email']):\n",
    "    user_data = {}\n",
    "    for key in keys:\n",
    "        user_data[key] = user.get(key,\"\")\n",
    "    \n",
    "    user_data[\"marks\"] = {subject:random.randint(30,100) for subject in subjects}\n",
    "    return user_data"
   ]
  },
  {
   "cell_type": "code",
   "execution_count": 14,
   "id": "18dc1c08-7ab6-4f70-ae21-90a96f5031b7",
   "metadata": {},
   "outputs": [
    {
     "data": {
      "text/plain": [
       "{'id': 1,\n",
       " 'firstName': 'Terry',\n",
       " 'lastName': 'Medhurst',\n",
       " 'age': 50,\n",
       " 'gender': 'male',\n",
       " 'bloodGroup': 'Aâˆ’',\n",
       " 'email': 'atuny0@sohu.com',\n",
       " 'marks': {'hindi': 87,\n",
       "  'english': 45,\n",
       "  'science': 71,\n",
       "  'math': 85,\n",
       "  'social science': 56}}"
      ]
     },
     "execution_count": 14,
     "metadata": {},
     "output_type": "execute_result"
    }
   ],
   "source": [
    "extract_info(users[0])"
   ]
  },
  {
   "cell_type": "code",
   "execution_count": 15,
   "id": "a0267e53-18a4-4da3-8d5c-28536acd5885",
   "metadata": {},
   "outputs": [],
   "source": [
    "students_info = list(map(extract_info, users))"
   ]
  },
  {
   "cell_type": "code",
   "execution_count": 16,
   "id": "8e1e324e-bcb8-49b3-804c-03350e029318",
   "metadata": {},
   "outputs": [
    {
     "data": {
      "text/plain": [
       "{'id': 1,\n",
       " 'firstName': 'Terry',\n",
       " 'lastName': 'Medhurst',\n",
       " 'age': 50,\n",
       " 'gender': 'male',\n",
       " 'bloodGroup': 'Aâˆ’',\n",
       " 'email': 'atuny0@sohu.com',\n",
       " 'marks': {'hindi': 61,\n",
       "  'english': 62,\n",
       "  'science': 83,\n",
       "  'math': 95,\n",
       "  'social science': 75}}"
      ]
     },
     "execution_count": 16,
     "metadata": {},
     "output_type": "execute_result"
    }
   ],
   "source": [
    "students_info[0]"
   ]
  },
  {
   "cell_type": "code",
   "execution_count": 17,
   "id": "5b5e579e-d4b7-4071-9db2-4fc381dcc11d",
   "metadata": {},
   "outputs": [],
   "source": [
    "def calculate_result(student, min_pass = 45):\n",
    "    \n",
    "    marks = student[\"marks\"]\n",
    "    test_result = {}\n",
    "    for subject, mark in marks.items():\n",
    "        \n",
    "        if mark > min_pass:\n",
    "            test_result[subject] = True\n",
    "        else:\n",
    "            test_result[subject] = False\n",
    "        \n",
    "    return (student['firstName']+\" \"+student[\"lastName\"], test_result)\n",
    "    "
   ]
  },
  {
   "cell_type": "code",
   "execution_count": 18,
   "id": "5e64800a-542e-4b67-801b-fc09c61d6f92",
   "metadata": {},
   "outputs": [
    {
     "data": {
      "text/plain": [
       "('Terry Medhurst',\n",
       " {'hindi': True,\n",
       "  'english': True,\n",
       "  'science': True,\n",
       "  'math': True,\n",
       "  'social science': True})"
      ]
     },
     "execution_count": 18,
     "metadata": {},
     "output_type": "execute_result"
    }
   ],
   "source": [
    "calculate_result(students_info[0])"
   ]
  },
  {
   "cell_type": "code",
   "execution_count": 19,
   "id": "338cdf2f-adc0-4f6a-81ad-fb5a9506038c",
   "metadata": {},
   "outputs": [],
   "source": [
    "test_result_score =  list(map(calculate_result, students_info))"
   ]
  },
  {
   "cell_type": "code",
   "execution_count": 20,
   "id": "4625a7f2-080c-4497-9706-3783de2eddfd",
   "metadata": {},
   "outputs": [],
   "source": [
    "def pass_fail(student):\n",
    "    name, subjects = student \n",
    "    return (name, all(subjects.values()))"
   ]
  },
  {
   "cell_type": "code",
   "execution_count": 21,
   "id": "14a97c03-573a-423d-b997-862d30c6849a",
   "metadata": {},
   "outputs": [
    {
     "data": {
      "text/plain": [
       "('Terry Medhurst', True)"
      ]
     },
     "execution_count": 21,
     "metadata": {},
     "output_type": "execute_result"
    }
   ],
   "source": [
    "pass_fail(test_result_score[0])"
   ]
  },
  {
   "cell_type": "code",
   "execution_count": 22,
   "id": "5b1dbe05-0dfb-4c68-8f0a-f82847a0d630",
   "metadata": {},
   "outputs": [
    {
     "name": "stdout",
     "output_type": "stream",
     "text": [
      "Terry Medhurst       Pass\n",
      "Sheldon Quigley      Pass\n",
      "Terrill Hills        Fail\n",
      "Miles Cummerata      Pass\n",
      "Mavis Schultz        Fail\n",
      "Alison Reichert      Fail\n",
      "Oleta Abbott         Fail\n",
      "Ewell Mueller        Pass\n",
      "Demetrius Corkery    Pass\n",
      "Eleanora Price       Fail\n",
      "Marcel Jones         Fail\n",
      "Assunta Rath         Pass\n",
      "Trace Douglas        Fail\n",
      "Enoch Lynch          Fail\n",
      "Jeanne Halvorson     Fail\n",
      "Trycia Fadel         Pass\n",
      "Bradford Prohaska    Fail\n",
      "Arely Skiles         Fail\n",
      "Gust Purdy           Fail\n",
      "Lenna Renner         Fail\n",
      "Doyle Ernser         Fail\n",
      "Tressa Weber         Fail\n",
      "Felicity O'Reilly    Fail\n",
      "Jocelyn Schuster     Fail\n",
      "Edwina Ernser        Fail\n",
      "Griffin Braun        Fail\n",
      "Piper Schowalter     Fail\n",
      "Kody Terry           Fail\n",
      "Macy Greenfelder     Pass\n",
      "Maurine Stracke      Fail\n"
     ]
    }
   ],
   "source": [
    "for student, result in list(map(pass_fail, test_result_score)):\n",
    "    if result:\n",
    "        print(f\"{student:20s} Pass\")\n",
    "    else:\n",
    "        print(f\"{student:20s} Fail\")"
   ]
  },
  {
   "cell_type": "code",
   "execution_count": 23,
   "id": "47948ec7-5f2b-4313-967c-23b854df8db1",
   "metadata": {},
   "outputs": [],
   "source": [
    "my_map =  map(pass_fail, test_result_score)"
   ]
  },
  {
   "cell_type": "code",
   "execution_count": 24,
   "id": "09d24aef-9513-4847-a747-0fa4029a0cf8",
   "metadata": {},
   "outputs": [
    {
     "data": {
      "text/plain": [
       "<map at 0x1a6939b6680>"
      ]
     },
     "execution_count": 24,
     "metadata": {},
     "output_type": "execute_result"
    }
   ],
   "source": [
    "my_map"
   ]
  },
  {
   "cell_type": "code",
   "execution_count": 25,
   "id": "d0f9ba3c-d6c3-4b46-a0aa-3dc94693b852",
   "metadata": {},
   "outputs": [
    {
     "data": {
      "text/plain": [
       "('Terry Medhurst', True)"
      ]
     },
     "execution_count": 25,
     "metadata": {},
     "output_type": "execute_result"
    }
   ],
   "source": [
    "next(my_map)"
   ]
  },
  {
   "cell_type": "code",
   "execution_count": 26,
   "id": "6866015d-94c5-44fa-90d2-ca06693278a2",
   "metadata": {},
   "outputs": [],
   "source": [
    "students  = list(map(extract_info, users))"
   ]
  },
  {
   "cell_type": "code",
   "execution_count": 27,
   "id": "abad1f83-9969-455a-8a30-01974bed247a",
   "metadata": {},
   "outputs": [
    {
     "data": {
      "text/plain": [
       "{'id': 1,\n",
       " 'firstName': 'Terry',\n",
       " 'lastName': 'Medhurst',\n",
       " 'age': 50,\n",
       " 'gender': 'male',\n",
       " 'bloodGroup': 'Aâˆ’',\n",
       " 'email': 'atuny0@sohu.com',\n",
       " 'marks': {'hindi': 94,\n",
       "  'english': 83,\n",
       "  'science': 34,\n",
       "  'math': 59,\n",
       "  'social science': 51}}"
      ]
     },
     "execution_count": 27,
     "metadata": {},
     "output_type": "execute_result"
    }
   ],
   "source": [
    "students[0]"
   ]
  },
  {
   "cell_type": "code",
   "execution_count": 28,
   "id": "fca922d1-f1e8-4641-acf6-3b1004680a85",
   "metadata": {},
   "outputs": [],
   "source": [
    "def markSheet(students):\n",
    "    \n",
    "    lw = 120\n",
    "    print(\"=\"*lw)\n",
    "    print(f\"{'Name':20s} {'Hindi':15s} {'English':15s} {'Science':15s} {'Math':15s} {'Social Science':15s}\")\n",
    "    print(\"=\"*lw)\n",
    "    \n",
    "    for student in students:\n",
    "        name = student.get(\"firstName\")\n",
    "        \n",
    "        marks = student.get(\"marks\")\n",
    "        \n",
    "        hindi_marks = marks.get(\"hindi\", 0)\n",
    "        english_marks = marks.get(\"english\", 0)\n",
    "        science_marks = marks.get(\"science\", 0)\n",
    "        math_marks = marks.get(\"math\", 0)\n",
    "        social_marks = marks.get(\"social science\", 0)\n",
    "        \n",
    "        print(f\"{name:20s} {hindi_marks:<15d} {english_marks:<15d} {science_marks:<15d} {math_marks:<15d} {social_marks:<15d}\")\n",
    "       \n",
    "    "
   ]
  },
  {
   "cell_type": "code",
   "execution_count": 29,
   "id": "6aab1a5c-c15c-4084-8f70-569907aad6d0",
   "metadata": {},
   "outputs": [
    {
     "name": "stdout",
     "output_type": "stream",
     "text": [
      "========================================================================================================================\n",
      "Name                 Hindi           English         Science         Math            Social Science \n",
      "========================================================================================================================\n",
      "Terry                94              83              34              59              51             \n",
      "Sheldon              70              97              97              74              59             \n",
      "Terrill              86              36              71              36              36             \n",
      "Miles                99              80              70              71              100            \n",
      "Mavis                36              87              58              42              82             \n",
      "Alison               58              53              68              82              68             \n",
      "Oleta                41              95              95              68              40             \n",
      "Ewell                82              100             99              35              85             \n",
      "Demetrius            40              67              64              57              86             \n",
      "Eleanora             78              100             36              39              98             \n",
      "Marcel               52              73              90              44              83             \n",
      "Assunta              36              73              65              90              96             \n",
      "Trace                71              49              49              85              79             \n",
      "Enoch                43              94              75              35              42             \n",
      "Jeanne               95              62              98              49              92             \n",
      "Trycia               37              96              80              83              46             \n",
      "Bradford             79              56              85              94              64             \n",
      "Arely                78              63              67              64              71             \n",
      "Gust                 95              52              42              78              50             \n",
      "Lenna                66              59              36              72              31             \n",
      "Doyle                92              58              72              62              73             \n",
      "Tressa               95              38              56              61              75             \n",
      "Felicity             73              93              60              32              97             \n",
      "Jocelyn              90              89              84              88              85             \n",
      "Edwina               71              84              66              62              39             \n",
      "Griffin              94              77              64              80              86             \n",
      "Piper                35              100             56              79              60             \n",
      "Kody                 36              69              92              45              35             \n",
      "Macy                 94              100             38              89              56             \n",
      "Maurine              57              59              39              72              75             \n"
     ]
    }
   ],
   "source": [
    "markSheet(students)"
   ]
  },
  {
   "cell_type": "markdown",
   "id": "eaf2decf-38d7-453a-97b8-204c2df5419a",
   "metadata": {},
   "source": [
    "___________\n",
    "___________"
   ]
  },
  {
   "cell_type": "code",
   "execution_count": 40,
   "id": "f7a34643-06ac-4f7a-a86f-d0cdd64b4668",
   "metadata": {},
   "outputs": [],
   "source": [
    "myMachine =  map(extract_info, users)"
   ]
  },
  {
   "cell_type": "code",
   "execution_count": 41,
   "id": "c7e592e0-8f41-4657-be96-f2bfe790ad84",
   "metadata": {},
   "outputs": [
    {
     "name": "stdout",
     "output_type": "stream",
     "text": [
      "Terry                55              40              96              56              89             \n",
      "Sheldon              66              51              68              36              33             \n",
      "Terrill              31              99              47              65              98             \n",
      "Miles                59              79              90              46              79             \n",
      "Mavis                70              38              76              92              41             \n",
      "Alison               85              32              87              40              98             \n",
      "Oleta                33              99              52              95              71             \n",
      "Ewell                80              71              78              56              84             \n",
      "Demetrius            63              70              63              36              36             \n",
      "Eleanora             78              48              95              86              52             \n",
      "Marcel               31              65              92              31              51             \n",
      "Assunta              41              100             44              84              50             \n",
      "Trace                47              63              58              52              80             \n",
      "Enoch                75              95              32              75              77             \n",
      "Jeanne               79              54              55              63              80             \n",
      "Trycia               92              91              61              55              41             \n",
      "Bradford             95              36              82              43              58             \n",
      "Arely                80              86              100             84              41             \n",
      "Gust                 79              47              40              58              90             \n",
      "Lenna                81              35              86              75              49             \n",
      "Doyle                43              36              89              65              41             \n",
      "Tressa               74              83              74              37              30             \n",
      "Felicity             57              56              42              56              88             \n",
      "Jocelyn              91              98              87              63              51             \n",
      "Edwina               65              69              51              61              63             \n",
      "Griffin              39              88              66              36              77             \n",
      "Piper                66              81              77              89              43             \n",
      "Kody                 58              78              80              44              36             \n",
      "Macy                 83              67              94              42              51             \n",
      "Maurine              84              93              40              91              90             \n"
     ]
    }
   ],
   "source": [
    "for student in myMachine:\n",
    "    name = student.get(\"firstName\")\n",
    "        \n",
    "    marks = student.get(\"marks\")\n",
    "        \n",
    "    hindi_marks = marks.get(\"hindi\", 0)\n",
    "    english_marks = marks.get(\"english\", 0)\n",
    "    science_marks = marks.get(\"science\", 0)\n",
    "    math_marks = marks.get(\"math\", 0)\n",
    "    social_marks = marks.get(\"social science\", 0)\n",
    "    \n",
    "    print(f\"{name:20s} {hindi_marks:<15d} {english_marks:<15d} {science_marks:<15d} {math_marks:<15d} {social_marks:<15d}\")"
   ]
  },
  {
   "cell_type": "code",
   "execution_count": 42,
   "id": "20aee93d-88a3-43ff-bd10-f7478746ecb2",
   "metadata": {},
   "outputs": [],
   "source": [
    "def square(x):\n",
    "    return x**2"
   ]
  },
  {
   "cell_type": "code",
   "execution_count": 43,
   "id": "7176bd56-a8a7-410f-8f8a-a352966bfc52",
   "metadata": {},
   "outputs": [],
   "source": [
    "mynumbers = [345,3462,53,3245,34,4352]"
   ]
  },
  {
   "cell_type": "code",
   "execution_count": 44,
   "id": "afe41b4f-ce03-4ce8-8e07-1b7c41fe9d19",
   "metadata": {},
   "outputs": [
    {
     "name": "stdout",
     "output_type": "stream",
     "text": [
      "119025\n",
      "11985444\n",
      "2809\n",
      "10530025\n",
      "1156\n",
      "18939904\n"
     ]
    }
   ],
   "source": [
    "for number in map(square, mynumbers):\n",
    "    print(number)"
   ]
  },
  {
   "cell_type": "code",
   "execution_count": null,
   "id": "a183258e-1334-42d2-b423-3512cc11cbe9",
   "metadata": {},
   "outputs": [],
   "source": []
  },
  {
   "cell_type": "code",
   "execution_count": 66,
   "id": "ed8cf4b7-fc7b-4a4b-b838-b14a8279135f",
   "metadata": {},
   "outputs": [],
   "source": [
    "def generate_result(student):\n",
    "    \n",
    "    max_marks = 500\n",
    "    marks = student.get(\"marks\", 0).values()\n",
    "    obtained_marks = sum(marks)\n",
    "    percentage = (obtained_marks/max_marks)*100\n",
    "    \n",
    "    student[\"obtained_marks\"] = obtained_marks\n",
    "    student[\"percentage\"] = percentage\n",
    "    \n",
    "    if percentage > 45:\n",
    "        student[\"isPass\"] = True\n",
    "    else:\n",
    "        student[\"isPass\"] = False\n",
    "        \n",
    "    return student"
   ]
  },
  {
   "cell_type": "code",
   "execution_count": 50,
   "id": "72829da4-fc5d-4bc8-a971-d6a61b0d9a58",
   "metadata": {},
   "outputs": [],
   "source": []
  },
  {
   "cell_type": "code",
   "execution_count": 51,
   "id": "d88fbf9a-247c-4f00-8bad-f14754624f2f",
   "metadata": {},
   "outputs": [
    {
     "data": {
      "text/plain": [
       "dict_values([98, 30, 51, 98, 93])"
      ]
     },
     "execution_count": 51,
     "metadata": {},
     "output_type": "execute_result"
    }
   ],
   "source": [
    "marks"
   ]
  },
  {
   "cell_type": "code",
   "execution_count": 52,
   "id": "8312db3b-11e0-4b02-b0c5-b61fa9d50864",
   "metadata": {},
   "outputs": [
    {
     "data": {
      "text/plain": [
       "370"
      ]
     },
     "execution_count": 52,
     "metadata": {},
     "output_type": "execute_result"
    }
   ],
   "source": [
    "sum(marks)"
   ]
  },
  {
   "cell_type": "code",
   "execution_count": 61,
   "id": "d0f0b85c-f835-4ef1-bf1f-92e59f246619",
   "metadata": {},
   "outputs": [
    {
     "data": {
      "text/plain": [
       "89.4"
      ]
     },
     "execution_count": 61,
     "metadata": {},
     "output_type": "execute_result"
    }
   ],
   "source": [
    "((sum(marks)+77)/500)*100"
   ]
  },
  {
   "cell_type": "code",
   "execution_count": 92,
   "id": "bc24e27a-04c2-4818-9bbb-d1ff7bf6ff9a",
   "metadata": {},
   "outputs": [],
   "source": [
    "def markSheet(students):\n",
    "    \n",
    "    lw = 140\n",
    "    print(\"=\"*lw)\n",
    "    print(f\"{'Name':20s} {'Hindi':15s} {'English':15s} {'Science':15s} {'Math':15s} {'Social Science':15s} {'obtained/500':15s} {'Percentage':15s} {'FinalResult':12s}\")\n",
    "    print(\"=\"*lw)\n",
    "    \n",
    "    for student in students:\n",
    "        name = student.get(\"firstName\")\n",
    "        \n",
    "        marks = student.get(\"marks\")\n",
    "        \n",
    "        hindi_marks = marks.get(\"hindi\", 0)\n",
    "        english_marks = marks.get(\"english\", 0)\n",
    "        science_marks = marks.get(\"science\", 0)\n",
    "        math_marks = marks.get(\"math\", 0)\n",
    "        social_marks = marks.get(\"social science\", 0)\n",
    "        obtained = student.get(\"obtained_marks\", 0)\n",
    "        percentage = student.get(\"percentage\", 0)\n",
    "        isPass = student.get(\"isPass\", 0)\n",
    "        \n",
    "        print(f\"{name:20s} {hindi_marks:<15d} {english_marks:<15d} {science_marks:<15d} {math_marks:<15d} {social_marks:<15d} {obtained:<15d} {percentage:<15.2f} {isPass}\")\n",
    "       \n",
    "    "
   ]
  },
  {
   "cell_type": "code",
   "execution_count": 93,
   "id": "682568b8-956d-472a-8c22-4247e3e8099c",
   "metadata": {},
   "outputs": [
    {
     "name": "stdout",
     "output_type": "stream",
     "text": [
      "============================================================================================================================================\n",
      "Name                 Hindi           English         Science         Math            Social Science  obtained/500    Percentage      FinalResult \n",
      "============================================================================================================================================\n",
      "Terry                78              53              32              90              37              290             58.00           True\n",
      "Sheldon              48              60              76              93              43              320             64.00           True\n",
      "Terrill              44              60              99              80              57              340             68.00           True\n",
      "Miles                88              94              87              47              69              385             77.00           True\n",
      "Mavis                93              35              31              68              92              319             63.80           True\n",
      "Alison               79              67              68              76              64              354             70.80           True\n",
      "Oleta                60              90              62              75              57              344             68.80           True\n",
      "Ewell                99              99              84              85              91              458             91.60           True\n",
      "Demetrius            60              45              35              51              58              249             49.80           True\n",
      "Eleanora             61              40              39              48              80              268             53.60           True\n",
      "Marcel               94              37              36              42              64              273             54.60           True\n",
      "Assunta              45              75              94              38              88              340             68.00           True\n",
      "Trace                80              47              65              87              99              378             75.60           True\n",
      "Enoch                55              53              67              93              92              360             72.00           True\n",
      "Jeanne               88              40              81              66              74              349             69.80           True\n",
      "Trycia               77              74              98              38              44              331             66.20           True\n",
      "Bradford             41              48              91              74              98              352             70.40           True\n",
      "Arely                78              58              75              39              47              297             59.40           True\n",
      "Gust                 63              74              96              89              66              388             77.60           True\n",
      "Lenna                82              94              91              45              60              372             74.40           True\n",
      "Doyle                70              47              59              80              38              294             58.80           True\n",
      "Tressa               81              48              50              79              81              339             67.80           True\n",
      "Felicity             51              90              70              78              78              367             73.40           True\n",
      "Jocelyn              47              98              84              30              54              313             62.60           True\n",
      "Edwina               76              80              64              81              37              338             67.60           True\n",
      "Griffin              74              54              49              63              64              304             60.80           True\n",
      "Piper                67              91              82              74              58              372             74.40           True\n",
      "Kody                 41              47              80              84              38              290             58.00           True\n",
      "Macy                 82              94              77              62              99              414             82.80           True\n",
      "Maurine              51              79              88              91              33              342             68.40           True\n"
     ]
    }
   ],
   "source": [
    "student_info = map(extract_info, users)\n",
    "generated_data = map(generate_result, student_info)\n",
    "final_data = list(generated_data)\n",
    "markSheet(final_data)"
   ]
  },
  {
   "cell_type": "code",
   "execution_count": null,
   "id": "77748e75-d547-4b65-8ed6-4f92e783ca83",
   "metadata": {},
   "outputs": [],
   "source": []
  }
 ],
 "metadata": {
  "kernelspec": {
   "display_name": "Python 3 (ipykernel)",
   "language": "python",
   "name": "python3"
  },
  "language_info": {
   "codemirror_mode": {
    "name": "ipython",
    "version": 3
   },
   "file_extension": ".py",
   "mimetype": "text/x-python",
   "name": "python",
   "nbconvert_exporter": "python",
   "pygments_lexer": "ipython3",
   "version": "3.10.5"
  }
 },
 "nbformat": 4,
 "nbformat_minor": 5
}
