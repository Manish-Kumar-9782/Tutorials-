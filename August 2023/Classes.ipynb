{
 "cells": [
  {
   "cell_type": "markdown",
   "id": "803d1a9e-e33e-4caf-b40b-51961a5de3df",
   "metadata": {},
   "source": [
    "## Python class\n",
    "\n",
    "\n",
    "```python\n",
    "class <class_name>(<super_class>):\n",
    "    \n",
    "    def __init__(self, args):\n",
    "        pass\n",
    "```"
   ]
  },
  {
   "cell_type": "markdown",
   "id": "78181cff-4a12-43f1-8f31-83b0e9664877",
   "metadata": {},
   "source": [
    "### Student Class \n",
    "\n",
    "attributes:\n",
    "    1. name\n",
    "    2. age\n",
    "    3. height\n",
    "    \n",
    "method\n",
    "\n",
    "    1.`__init__`\n",
    "    \n",
    "    2. `__str__` \n",
    "    \n",
    "    3. `__repr__`\n",
    "    "
   ]
  },
  {
   "cell_type": "code",
   "execution_count": 5,
   "id": "87ded433-0eef-4690-bacb-a61ca6b230b4",
   "metadata": {},
   "outputs": [],
   "source": [
    "class Person:\n",
    "    \n",
    "    def __init__(self, name, age, height):\n",
    "        self.name = name\n",
    "        self.age = age\n",
    "        self.height = height"
   ]
  },
  {
   "cell_type": "code",
   "execution_count": 2,
   "id": "975c2b5e-87e4-4766-9a07-066a1bb8ea42",
   "metadata": {},
   "outputs": [],
   "source": [
    "p1 = Person(\"kuldeep\",21,5.5)"
   ]
  },
  {
   "cell_type": "code",
   "execution_count": 3,
   "id": "2fdf6176-2e3d-4d52-b858-432e071d4e6e",
   "metadata": {},
   "outputs": [
    {
     "data": {
      "text/plain": [
       "<__main__.Person at 0x1bdb492bf70>"
      ]
     },
     "execution_count": 3,
     "metadata": {},
     "output_type": "execute_result"
    }
   ],
   "source": [
    "p1"
   ]
  },
  {
   "cell_type": "code",
   "execution_count": 4,
   "id": "fdb1cf07-825b-45ae-88ba-6686213592fb",
   "metadata": {},
   "outputs": [
    {
     "data": {
      "text/plain": [
       "__main__.Person"
      ]
     },
     "execution_count": 4,
     "metadata": {},
     "output_type": "execute_result"
    }
   ],
   "source": [
    "type(p1)"
   ]
  },
  {
   "cell_type": "code",
   "execution_count": 39,
   "id": "8e2ad441-80f1-46b5-940c-99483cf67ff7",
   "metadata": {},
   "outputs": [],
   "source": [
    "class Person:\n",
    "    \n",
    "    def __init__(self, name, age, height):\n",
    "        self.name = name\n",
    "        self.age = age\n",
    "        self.height = height\n",
    "        \n",
    "    def __str__(self):\n",
    "        return \"Person{\"+ f\"name:{self.name}, age:{self.age}, height:{self.height}\" +\"}\"\n",
    "    \n",
    "    def __repr__(self):\n",
    "        return \"Person(\" + f\"{self.name}, {self.age}, {self.height} \" + \")\"\n",
    "        "
   ]
  },
  {
   "cell_type": "code",
   "execution_count": 40,
   "id": "76768b5c-3046-4c3f-8b85-f33dd4c31cc0",
   "metadata": {},
   "outputs": [],
   "source": [
    "p1 = Person(\"kuldeep\", 21, 5.5)"
   ]
  },
  {
   "cell_type": "code",
   "execution_count": 41,
   "id": "8567d58b-6284-4083-bdcd-50ccf4c99b0f",
   "metadata": {},
   "outputs": [
    {
     "name": "stdout",
     "output_type": "stream",
     "text": [
      "Person{name:kuldeep, age:21, height:5.5}\n"
     ]
    }
   ],
   "source": [
    "print(p1)"
   ]
  },
  {
   "cell_type": "code",
   "execution_count": 42,
   "id": "7dd49483-2fcd-4c33-8236-962ebdac95c9",
   "metadata": {},
   "outputs": [
    {
     "data": {
      "text/plain": [
       "Person(kuldeep, 21, 5.5 )"
      ]
     },
     "execution_count": 42,
     "metadata": {},
     "output_type": "execute_result"
    }
   ],
   "source": [
    "p1"
   ]
  },
  {
   "cell_type": "markdown",
   "id": "73929534-078e-46cf-a246-55e50f8ec53c",
   "metadata": {},
   "source": [
    "### Operator overloading"
   ]
  },
  {
   "cell_type": "code",
   "execution_count": 43,
   "id": "2b2f49b8-6ed4-43b2-8db4-bc5c58df2a35",
   "metadata": {},
   "outputs": [],
   "source": [
    "class Person:\n",
    "    \n",
    "    def __init__(self, name, age, height):\n",
    "        self.name = name\n",
    "        self.age = age\n",
    "        self.height = height\n",
    "        \n",
    "    def __str__(self):\n",
    "        return \"Person{\"+ f\"name:{self.name}, age:{self.age}, height:{self.height}\" +\"}\"\n",
    "    \n",
    "    def __repr__(self):\n",
    "        return \"Person(\" + f\"{self.name}, {self.age}, {self.height} \" + \")\"\n",
    "    \n",
    "    def __lt__(self, person):\n",
    "        return self.age < person.age\n",
    "    \n",
    "    def __gt__(self,person):\n",
    "        return self.age > person.age\n",
    "        "
   ]
  },
  {
   "cell_type": "code",
   "execution_count": 48,
   "id": "4a1a69ac-f4df-4d27-a519-543af29ff825",
   "metadata": {},
   "outputs": [],
   "source": [
    "p1 = Person(\"kuldeep\", 21, 5.5)\n",
    "p2 = Person(\"bhanu\", 20, 5.6)"
   ]
  },
  {
   "cell_type": "code",
   "execution_count": 49,
   "id": "ef665a89-bc95-461c-8756-4cdff333a05c",
   "metadata": {},
   "outputs": [
    {
     "data": {
      "text/plain": [
       "Person(kuldeep, 21, 5.5 )"
      ]
     },
     "execution_count": 49,
     "metadata": {},
     "output_type": "execute_result"
    }
   ],
   "source": [
    "p1"
   ]
  },
  {
   "cell_type": "code",
   "execution_count": 50,
   "id": "7d057587-3df5-444c-a371-d6fb7f73e991",
   "metadata": {},
   "outputs": [
    {
     "data": {
      "text/plain": [
       "Person(bhanu, 20, 5.6 )"
      ]
     },
     "execution_count": 50,
     "metadata": {},
     "output_type": "execute_result"
    }
   ],
   "source": [
    "p2"
   ]
  },
  {
   "cell_type": "code",
   "execution_count": 51,
   "id": "ab7f0791-bea5-459d-ae80-18eb165fe23e",
   "metadata": {},
   "outputs": [
    {
     "data": {
      "text/plain": [
       "True"
      ]
     },
     "execution_count": 51,
     "metadata": {},
     "output_type": "execute_result"
    }
   ],
   "source": [
    "p1 > p2"
   ]
  },
  {
   "cell_type": "code",
   "execution_count": 52,
   "id": "3e7939c7-792f-4910-a21b-ba04a10e17b1",
   "metadata": {},
   "outputs": [
    {
     "data": {
      "text/plain": [
       "False"
      ]
     },
     "execution_count": 52,
     "metadata": {},
     "output_type": "execute_result"
    }
   ],
   "source": [
    "p1 < p2"
   ]
  },
  {
   "cell_type": "code",
   "execution_count": 53,
   "id": "9d7a002d-e020-48ee-8be3-770cdaa60a29",
   "metadata": {},
   "outputs": [
    {
     "data": {
      "text/plain": [
       "True"
      ]
     },
     "execution_count": 53,
     "metadata": {},
     "output_type": "execute_result"
    }
   ],
   "source": [
    "p2 < p1"
   ]
  },
  {
   "cell_type": "code",
   "execution_count": null,
   "id": "76ea6c03-0308-46e9-bc41-62e64cd057bf",
   "metadata": {},
   "outputs": [],
   "source": []
  }
 ],
 "metadata": {
  "kernelspec": {
   "display_name": "Python 3 (ipykernel)",
   "language": "python",
   "name": "python3"
  },
  "language_info": {
   "codemirror_mode": {
    "name": "ipython",
    "version": 3
   },
   "file_extension": ".py",
   "mimetype": "text/x-python",
   "name": "python",
   "nbconvert_exporter": "python",
   "pygments_lexer": "ipython3",
   "version": "3.10.5"
  }
 },
 "nbformat": 4,
 "nbformat_minor": 5
}
