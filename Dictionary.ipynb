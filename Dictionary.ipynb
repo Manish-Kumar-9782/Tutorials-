{
 "cells": [
  {
   "cell_type": "code",
   "execution_count": 1,
   "id": "3020b455-004d-40ae-9d69-efc8386b6d3d",
   "metadata": {},
   "outputs": [],
   "source": [
    "dict1 = {\"Name\": \"Manish\",\n",
    "        \"Age\": 26,\n",
    "        \"hight\": 5.5,\n",
    "        \"Contact\": 1234567890}"
   ]
  },
  {
   "cell_type": "code",
   "execution_count": 2,
   "id": "1d85f0d4-1805-4a77-a29a-40c89758f758",
   "metadata": {},
   "outputs": [
    {
     "data": {
      "text/plain": [
       "{'Name': 'Manish', 'Age': 26, 'hight': 5.5, 'Contact': 1234567890}"
      ]
     },
     "execution_count": 2,
     "metadata": {},
     "output_type": "execute_result"
    }
   ],
   "source": [
    "dict1"
   ]
  },
  {
   "cell_type": "code",
   "execution_count": 3,
   "id": "ce1cc4e3-1c04-4b1b-95fc-f5970bed6230",
   "metadata": {},
   "outputs": [],
   "source": [
    "dict2 = dict1.copy()"
   ]
  },
  {
   "cell_type": "code",
   "execution_count": 4,
   "id": "bcda4782-1db5-4b66-9af1-0ab683bc4161",
   "metadata": {},
   "outputs": [
    {
     "data": {
      "text/plain": [
       "{'Name': 'Manish', 'Age': 26, 'hight': 5.5, 'Contact': 1234567890}"
      ]
     },
     "execution_count": 4,
     "metadata": {},
     "output_type": "execute_result"
    }
   ],
   "source": [
    "dict2"
   ]
  },
  {
   "cell_type": "code",
   "execution_count": 5,
   "id": "f931970e-f210-48d5-9236-01c9c59e2d8d",
   "metadata": {},
   "outputs": [
    {
     "data": {
      "text/plain": [
       "{'Name': 'Manish', 'Age': 26, 'hight': 5.5, 'Contact': 1234567890}"
      ]
     },
     "execution_count": 5,
     "metadata": {},
     "output_type": "execute_result"
    }
   ],
   "source": [
    "dict1"
   ]
  },
  {
   "cell_type": "code",
   "execution_count": 6,
   "id": "380af385-55af-469c-8825-d70a4354e480",
   "metadata": {},
   "outputs": [],
   "source": [
    "#now we are going to clear dict2\n",
    "dict2.clear()"
   ]
  },
  {
   "cell_type": "code",
   "execution_count": 7,
   "id": "ab106cac-470f-4747-bb6b-58d1c890fed7",
   "metadata": {},
   "outputs": [
    {
     "data": {
      "text/plain": [
       "{}"
      ]
     },
     "execution_count": 7,
     "metadata": {},
     "output_type": "execute_result"
    }
   ],
   "source": [
    "dict2"
   ]
  },
  {
   "cell_type": "code",
   "execution_count": 8,
   "id": "d6fbf701-1d75-42d5-b426-638e7fed8230",
   "metadata": {},
   "outputs": [],
   "source": [
    "keys = [\"Pages\",\"Price\"]\n",
    "value = 0"
   ]
  },
  {
   "cell_type": "code",
   "execution_count": 9,
   "id": "f91f713f-517e-43fb-a985-c0f4849386a5",
   "metadata": {},
   "outputs": [
    {
     "data": {
      "text/plain": [
       "{'Pages': 0, 'Price': 0}"
      ]
     },
     "execution_count": 9,
     "metadata": {},
     "output_type": "execute_result"
    }
   ],
   "source": [
    "dict.fromkeys(keys, value)"
   ]
  },
  {
   "cell_type": "code",
   "execution_count": 10,
   "id": "18c0a82e-ca2a-44e2-9d2f-71827a164278",
   "metadata": {},
   "outputs": [
    {
     "data": {
      "text/plain": [
       "{'Pages': 0, 'Price': 0}"
      ]
     },
     "execution_count": 10,
     "metadata": {},
     "output_type": "execute_result"
    }
   ],
   "source": [
    "dict1.fromkeys(keys, value)"
   ]
  },
  {
   "cell_type": "code",
   "execution_count": 11,
   "id": "453871dd-813c-4d71-ab23-30da719670af",
   "metadata": {},
   "outputs": [
    {
     "data": {
      "text/plain": [
       "{'Name': 'Manish', 'Age': 26, 'hight': 5.5, 'Contact': 1234567890}"
      ]
     },
     "execution_count": 11,
     "metadata": {},
     "output_type": "execute_result"
    }
   ],
   "source": [
    "dict1"
   ]
  },
  {
   "cell_type": "code",
   "execution_count": 12,
   "id": "e48176b0-b134-4414-b294-bbbfa606f756",
   "metadata": {},
   "outputs": [
    {
     "data": {
      "text/plain": [
       "{'Name': 'Manish', 'Age': 26, 'hight': 5.5, 'Contact': 1234567890}"
      ]
     },
     "execution_count": 12,
     "metadata": {},
     "output_type": "execute_result"
    }
   ],
   "source": [
    "dict1"
   ]
  },
  {
   "cell_type": "code",
   "execution_count": 13,
   "id": "ef78a12d-b5f7-4686-a8cd-b4d16873c9cc",
   "metadata": {},
   "outputs": [],
   "source": [
    "dict1.update({\"Name\": \"Jigayasa\", \"Age\": 17})"
   ]
  },
  {
   "cell_type": "code",
   "execution_count": 14,
   "id": "ef6e706e-371a-477f-8972-33fa1af6a8eb",
   "metadata": {},
   "outputs": [
    {
     "data": {
      "text/plain": [
       "{'Name': 'Jigayasa', 'Age': 17, 'hight': 5.5, 'Contact': 1234567890}"
      ]
     },
     "execution_count": 14,
     "metadata": {},
     "output_type": "execute_result"
    }
   ],
   "source": [
    "dict1"
   ]
  },
  {
   "cell_type": "code",
   "execution_count": 15,
   "id": "6f0c4cfe-e6b8-4797-9da2-1c59fa4b1a3d",
   "metadata": {},
   "outputs": [
    {
     "data": {
      "text/plain": [
       "dict_keys(['Name', 'Age', 'hight', 'Contact'])"
      ]
     },
     "execution_count": 15,
     "metadata": {},
     "output_type": "execute_result"
    }
   ],
   "source": [
    "dict1.keys()"
   ]
  },
  {
   "cell_type": "code",
   "execution_count": 16,
   "id": "1535627c-1d51-48ea-ac23-56695e3c72dc",
   "metadata": {},
   "outputs": [
    {
     "data": {
      "text/plain": [
       "dict_items([('Name', 'Jigayasa'), ('Age', 17), ('hight', 5.5), ('Contact', 1234567890)])"
      ]
     },
     "execution_count": 16,
     "metadata": {},
     "output_type": "execute_result"
    }
   ],
   "source": [
    "dict1.items()"
   ]
  },
  {
   "cell_type": "code",
   "execution_count": 17,
   "id": "2d2ca5d6-1b43-4f78-9393-cd55a7f296e7",
   "metadata": {},
   "outputs": [],
   "source": [
    "dict1.update({\"RollNo\": 1234})"
   ]
  },
  {
   "cell_type": "code",
   "execution_count": 18,
   "id": "d5a85fc5-d594-497d-a1e0-792829307430",
   "metadata": {},
   "outputs": [
    {
     "data": {
      "text/plain": [
       "{'Name': 'Jigayasa',\n",
       " 'Age': 17,\n",
       " 'hight': 5.5,\n",
       " 'Contact': 1234567890,\n",
       " 'RollNo': 1234}"
      ]
     },
     "execution_count": 18,
     "metadata": {},
     "output_type": "execute_result"
    }
   ],
   "source": [
    "dict1"
   ]
  },
  {
   "cell_type": "code",
   "execution_count": 19,
   "id": "5e9f2b08-9346-4a1b-8272-fc5b2e2981f1",
   "metadata": {},
   "outputs": [
    {
     "data": {
      "text/plain": [
       "dict_keys(['Name', 'Age', 'hight', 'Contact', 'RollNo'])"
      ]
     },
     "execution_count": 19,
     "metadata": {},
     "output_type": "execute_result"
    }
   ],
   "source": [
    "dict1.keys()"
   ]
  },
  {
   "cell_type": "code",
   "execution_count": 20,
   "id": "627de7a9-0e2b-48b0-8cfa-5c1831e82130",
   "metadata": {},
   "outputs": [
    {
     "data": {
      "text/plain": [
       "dict_values(['Jigayasa', 17, 5.5, 1234567890, 1234])"
      ]
     },
     "execution_count": 20,
     "metadata": {},
     "output_type": "execute_result"
    }
   ],
   "source": [
    "dict1.values()"
   ]
  },
  {
   "cell_type": "code",
   "execution_count": 21,
   "id": "5061e5b5-70b0-4b81-aec6-171fc1f55332",
   "metadata": {},
   "outputs": [
    {
     "data": {
      "text/plain": [
       "dict_items([('Name', 'Jigayasa'), ('Age', 17), ('hight', 5.5), ('Contact', 1234567890), ('RollNo', 1234)])"
      ]
     },
     "execution_count": 21,
     "metadata": {},
     "output_type": "execute_result"
    }
   ],
   "source": [
    "dict1.items()"
   ]
  },
  {
   "cell_type": "code",
   "execution_count": 22,
   "id": "11b80eec-6ffd-415d-a1cf-2c088db904fe",
   "metadata": {},
   "outputs": [],
   "source": [
    "dict1.update({\"id\": 12344})"
   ]
  },
  {
   "cell_type": "code",
   "execution_count": 23,
   "id": "189612b7-0649-4893-85db-5e8894ce83ab",
   "metadata": {},
   "outputs": [
    {
     "data": {
      "text/plain": [
       "{'Name': 'Jigayasa',\n",
       " 'Age': 17,\n",
       " 'hight': 5.5,\n",
       " 'Contact': 1234567890,\n",
       " 'RollNo': 1234,\n",
       " 'id': 12344}"
      ]
     },
     "execution_count": 23,
     "metadata": {},
     "output_type": "execute_result"
    }
   ],
   "source": [
    "dict1"
   ]
  },
  {
   "cell_type": "code",
   "execution_count": 24,
   "id": "72b317dc-d89d-4706-afe2-6db32c782e02",
   "metadata": {},
   "outputs": [
    {
     "data": {
      "text/plain": [
       "12344"
      ]
     },
     "execution_count": 24,
     "metadata": {},
     "output_type": "execute_result"
    }
   ],
   "source": [
    "dict1.pop('id')"
   ]
  },
  {
   "cell_type": "code",
   "execution_count": 25,
   "id": "6509b982-065a-4ed5-9c03-726a612fa090",
   "metadata": {},
   "outputs": [
    {
     "data": {
      "text/plain": [
       "{'Name': 'Jigayasa',\n",
       " 'Age': 17,\n",
       " 'hight': 5.5,\n",
       " 'Contact': 1234567890,\n",
       " 'RollNo': 1234}"
      ]
     },
     "execution_count": 25,
     "metadata": {},
     "output_type": "execute_result"
    }
   ],
   "source": [
    "dict1"
   ]
  },
  {
   "cell_type": "code",
   "execution_count": 26,
   "id": "457f12de-cf69-4a85-857c-194c16e314d8",
   "metadata": {},
   "outputs": [],
   "source": [
    "dict1.update({\"id\": 12344})"
   ]
  },
  {
   "cell_type": "code",
   "execution_count": 27,
   "id": "c235478b-3d22-4951-9080-9b3e94433c82",
   "metadata": {},
   "outputs": [
    {
     "data": {
      "text/plain": [
       "('id', 12344)"
      ]
     },
     "execution_count": 27,
     "metadata": {},
     "output_type": "execute_result"
    }
   ],
   "source": [
    "dict1.popitem()"
   ]
  },
  {
   "cell_type": "code",
   "execution_count": 28,
   "id": "669a252d-8a75-4216-8964-c3328d092814",
   "metadata": {},
   "outputs": [
    {
     "data": {
      "text/plain": [
       "{'Name': 'Jigayasa',\n",
       " 'Age': 17,\n",
       " 'hight': 5.5,\n",
       " 'Contact': 1234567890,\n",
       " 'RollNo': 1234}"
      ]
     },
     "execution_count": 28,
     "metadata": {},
     "output_type": "execute_result"
    }
   ],
   "source": [
    "dict1"
   ]
  },
  {
   "cell_type": "code",
   "execution_count": 29,
   "id": "b67758e8-fd9f-4d18-840d-6e5ad48ce7f9",
   "metadata": {},
   "outputs": [
    {
     "data": {
      "text/plain": [
       "'Jigayasa'"
      ]
     },
     "execution_count": 29,
     "metadata": {},
     "output_type": "execute_result"
    }
   ],
   "source": [
    "dict1[\"Name\"]"
   ]
  },
  {
   "cell_type": "code",
   "execution_count": 30,
   "id": "ce6dfc6b-0024-4f1c-b20a-282a2d0382e1",
   "metadata": {},
   "outputs": [
    {
     "ename": "KeyError",
     "evalue": "'id'",
     "output_type": "error",
     "traceback": [
      "\u001b[1;31m---------------------------------------------------------------------------\u001b[0m",
      "\u001b[1;31mKeyError\u001b[0m                                  Traceback (most recent call last)",
      "Cell \u001b[1;32mIn [30], line 1\u001b[0m\n\u001b[1;32m----> 1\u001b[0m \u001b[43mdict1\u001b[49m\u001b[43m[\u001b[49m\u001b[38;5;124;43m'\u001b[39;49m\u001b[38;5;124;43mid\u001b[39;49m\u001b[38;5;124;43m'\u001b[39;49m\u001b[43m]\u001b[49m\n",
      "\u001b[1;31mKeyError\u001b[0m: 'id'"
     ]
    }
   ],
   "source": [
    "dict1['id']"
   ]
  },
  {
   "cell_type": "code",
   "execution_count": 31,
   "id": "e396700f-8e0d-4b53-8a23-9805103511b8",
   "metadata": {},
   "outputs": [
    {
     "data": {
      "text/plain": [
       "'Jigayasa'"
      ]
     },
     "execution_count": 31,
     "metadata": {},
     "output_type": "execute_result"
    }
   ],
   "source": [
    "dict1.get(\"Name\", \"\")"
   ]
  },
  {
   "cell_type": "code",
   "execution_count": 32,
   "id": "e44cdf26-2047-4fce-ba25-2adcc058bfb9",
   "metadata": {},
   "outputs": [
    {
     "data": {
      "text/plain": [
       "''"
      ]
     },
     "execution_count": 32,
     "metadata": {},
     "output_type": "execute_result"
    }
   ],
   "source": [
    "dict1.get('id', \"\")"
   ]
  },
  {
   "cell_type": "code",
   "execution_count": 33,
   "id": "b09509eb-9f44-4ebc-87c0-3a7cf17d6d73",
   "metadata": {},
   "outputs": [
    {
     "data": {
      "text/plain": [
       "0"
      ]
     },
     "execution_count": 33,
     "metadata": {},
     "output_type": "execute_result"
    }
   ],
   "source": [
    "dict1.setdefault('id', 0)"
   ]
  },
  {
   "cell_type": "code",
   "execution_count": 34,
   "id": "f90a31a1-013d-4eb2-a2b7-b88f951e0d3e",
   "metadata": {},
   "outputs": [
    {
     "data": {
      "text/plain": [
       "{'Name': 'Jigayasa',\n",
       " 'Age': 17,\n",
       " 'hight': 5.5,\n",
       " 'Contact': 1234567890,\n",
       " 'RollNo': 1234,\n",
       " 'id': 0}"
      ]
     },
     "execution_count": 34,
     "metadata": {},
     "output_type": "execute_result"
    }
   ],
   "source": [
    "dict1"
   ]
  },
  {
   "cell_type": "code",
   "execution_count": null,
   "id": "cf863798-a235-4481-a67e-0cdec4729386",
   "metadata": {},
   "outputs": [],
   "source": []
  }
 ],
 "metadata": {
  "kernelspec": {
   "display_name": "Python 3 (ipykernel)",
   "language": "python",
   "name": "python3"
  },
  "language_info": {
   "codemirror_mode": {
    "name": "ipython",
    "version": 3
   },
   "file_extension": ".py",
   "mimetype": "text/x-python",
   "name": "python",
   "nbconvert_exporter": "python",
   "pygments_lexer": "ipython3",
   "version": "3.10.5"
  }
 },
 "nbformat": 4,
 "nbformat_minor": 5
}
