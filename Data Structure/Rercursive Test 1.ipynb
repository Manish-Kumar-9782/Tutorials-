{
 "cells": [
  {
   "cell_type": "code",
   "execution_count": 9,
   "metadata": {},
   "outputs": [],
   "source": [
    "def rec(n):\n",
    "    if n<=0:\n",
    "        return n\n",
    "    else:\n",
    "        output = rec(n-1)\n",
    "        return output"
   ]
  },
  {
   "cell_type": "markdown",
   "metadata": {},
   "source": [
    "## Recursive Function"
   ]
  },
  {
   "cell_type": "markdown",
   "metadata": {},
   "source": [
    "## 1.Shack hand problem\n",
    "\n",
    "In a party of N people, each person will shake her/his hand with each other person only once. On total how many hand-shakes would happen?"
   ]
  },
  {
   "cell_type": "markdown",
   "metadata": {},
   "source": [
    "### First with itration Method"
   ]
  },
  {
   "cell_type": "code",
   "execution_count": 3,
   "metadata": {},
   "outputs": [
    {
     "name": "stdout",
     "output_type": "stream",
     "text": [
      "30\n",
      "90\n",
      "870\n"
     ]
    }
   ],
   "source": [
    "def shack_hand(n):\n",
    "    # there is a total number of N Person\n",
    "    # each person shack to each other except itself.\n",
    "    total_shake = 0\n",
    "    # T(N) = (N-1) + T(N)\n",
    "    for i in range(n):\n",
    "        total_shake += (n-1)\n",
    "    return total_shake\n",
    "\n",
    "print(shack_hand(6))\n",
    "print(shack_hand(10))\n",
    "print(shack_hand(30))"
   ]
  },
  {
   "cell_type": "markdown",
   "metadata": {},
   "source": [
    "### Recursively Shack hand"
   ]
  },
  {
   "cell_type": "code",
   "execution_count": 57,
   "metadata": {},
   "outputs": [
    {
     "name": "stdout",
     "output_type": "stream",
     "text": [
      "30\n"
     ]
    }
   ],
   "source": [
    "def recShack_hand(n,rec=False):\n",
    "    \n",
    "    \n",
    "    # if it reaches to 1 or one one person is there \n",
    "    # then there will be no sjhack hand\n",
    "    if n==1:\n",
    "        return 0\n",
    "    \n",
    "    # if there is only two person \n",
    "    # then there will only 1 shack hand\n",
    "    \n",
    "    if n==2 and rec==False:\n",
    "        return 1\n",
    "    \n",
    "    # if there is N number of persorn then there will be  n*(n-1) shack hand \n",
    "    else:\n",
    "        rec=True\n",
    "        return 2*(n-1)+recShack_hand(n-1,rec)\n",
    "\n",
    "print(recShack_hand(6))"
   ]
  },
  {
   "cell_type": "markdown",
   "metadata": {},
   "source": [
    "## 2.Fibonacci Sequence"
   ]
  },
  {
   "cell_type": "code",
   "execution_count": 31,
   "metadata": {},
   "outputs": [],
   "source": [
    "def fib(position):\n",
    "    \n",
    "    first, second = 0,1\n",
    "    \n",
    "    print(first,end=\" \")\n",
    "    print(second,end=\" \")\n",
    "    \n",
    "    if position == 0:\n",
    "        return 0\n",
    "    elif position ==1:\n",
    "        return 1\n",
    "    \n",
    "    else:\n",
    "        \n",
    "        for i in range(position):\n",
    "            \n",
    "            next_num = first+second\n",
    "            first = second\n",
    "            second = next_num\n",
    "            \n",
    "            print(next_num,end=\" \")\n",
    "    "
   ]
  },
  {
   "cell_type": "code",
   "execution_count": 32,
   "metadata": {},
   "outputs": [
    {
     "name": "stdout",
     "output_type": "stream",
     "text": [
      "0 1 1 2 3 5 8 13 21 34 55 89 144 233 377 610 987 1597 2584 4181 6765 10946 "
     ]
    }
   ],
   "source": [
    "fib(20)"
   ]
  },
  {
   "cell_type": "markdown",
   "metadata": {},
   "source": [
    "### Fibonic series with recursive "
   ]
  },
  {
   "cell_type": "code",
   "execution_count": 79,
   "metadata": {},
   "outputs": [],
   "source": [
    "def rec_fib(n,first=0,second=1):\n",
    "    \n",
    "    \n",
    "    if n==0:\n",
    "        return 0\n",
    "    \n",
    "    else:\n",
    "        next_num = first + second \n",
    "        print(next_num,end=\" \")\n",
    "        \n",
    "        return rec_fib(n-1,first=second, second=next_num)\n",
    "            "
   ]
  },
  {
   "cell_type": "code",
   "execution_count": 80,
   "metadata": {
    "scrolled": true
   },
   "outputs": [
    {
     "name": "stdout",
     "output_type": "stream",
     "text": [
      "1 2 3 5 8 "
     ]
    },
    {
     "data": {
      "text/plain": [
       "0"
      ]
     },
     "execution_count": 80,
     "metadata": {},
     "output_type": "execute_result"
    }
   ],
   "source": [
    "rec_fib(5)"
   ]
  },
  {
   "cell_type": "markdown",
   "metadata": {},
   "source": [
    "### Fibonacci number at a Particular position "
   ]
  },
  {
   "cell_type": "code",
   "execution_count": 15,
   "metadata": {},
   "outputs": [],
   "source": [
    "def fib_num(pos):\n",
    "    \n",
    "    print(pos,end=\" \" )\n",
    "    \n",
    "    if pos==0 or pos == 1:\n",
    "        return pos\n",
    "    print()\n",
    "    \n",
    "    return fib_num(pos-1) + fib_num(pos-2)"
   ]
  },
  {
   "cell_type": "code",
   "execution_count": 16,
   "metadata": {},
   "outputs": [
    {
     "name": "stdout",
     "output_type": "stream",
     "text": [
      "4 \n",
      "3 \n",
      "2 \n",
      "1 0 1 2 \n",
      "1 0 "
     ]
    },
    {
     "data": {
      "text/plain": [
       "3"
      ]
     },
     "execution_count": 16,
     "metadata": {},
     "output_type": "execute_result"
    }
   ],
   "source": [
    "fib_num(4)"
   ]
  },
  {
   "cell_type": "markdown",
   "metadata": {},
   "source": [
    "## 3.N factirial"
   ]
  },
  {
   "cell_type": "code",
   "execution_count": 11,
   "metadata": {},
   "outputs": [],
   "source": [
    "def factorial(n):\n",
    "    \n",
    "    if n<=1:\n",
    "        return 1\n",
    "    else:\n",
    "        return n * factorial(n-1)\n"
   ]
  },
  {
   "cell_type": "code",
   "execution_count": 12,
   "metadata": {},
   "outputs": [
    {
     "data": {
      "text/plain": [
       "6"
      ]
     },
     "execution_count": 12,
     "metadata": {},
     "output_type": "execute_result"
    }
   ],
   "source": [
    "factorial(3)"
   ]
  },
  {
   "cell_type": "markdown",
   "metadata": {},
   "source": [
    "## 4. print pattern\n",
    "\n",
    "Given a number n, print following a pattern without using any loop.\n",
    "\n",
    "Examples :\n",
    "\n",
    "Input: n = 16\n",
    "Output: 16, 11, 6, 1, -4, 1, 6, 11, 16\n",
    "\n",
    "Input: n = 10\n",
    "Output: 10, 5, 0, 5, 10"
   ]
  },
  {
   "cell_type": "code",
   "execution_count": 12,
   "metadata": {},
   "outputs": [],
   "source": [
    "def printPattern(n):\n",
    "    \n",
    "    if n<=0:\n",
    "        print(n,end=\", \")\n",
    "        return\n",
    "    \n",
    "    print(n, end=\", \")  #\n",
    "    printPattern(n-5 )  # These two line will excute untill it reaches to n<=0\n",
    "    \n",
    "    print(n, end=\", \")  # after reaching at n<=0 this will strat to run in every call of the function \n",
    "    "
   ]
  },
  {
   "cell_type": "code",
   "execution_count": 14,
   "metadata": {},
   "outputs": [
    {
     "name": "stdout",
     "output_type": "stream",
     "text": [
      "16, 11, 6, 1, -4, 1, 6, 11, 16, "
     ]
    }
   ],
   "source": [
    "printPattern(16)"
   ]
  },
  {
   "cell_type": "code",
   "execution_count": null,
   "metadata": {},
   "outputs": [],
   "source": []
  }
 ],
 "metadata": {
  "kernelspec": {
   "display_name": "Python 3",
   "language": "python",
   "name": "python3"
  },
  "language_info": {
   "codemirror_mode": {
    "name": "ipython",
    "version": 3
   },
   "file_extension": ".py",
   "mimetype": "text/x-python",
   "name": "python",
   "nbconvert_exporter": "python",
   "pygments_lexer": "ipython3",
   "version": "3.8.3"
  }
 },
 "nbformat": 4,
 "nbformat_minor": 4
}
