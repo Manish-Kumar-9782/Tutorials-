{
 "cells": [
  {
   "cell_type": "code",
   "execution_count": null,
   "metadata": {},
   "outputs": [],
   "source": [
    "5\n",
    "4 67 13 12 15\n",
    "16\n",
    "\n"
   ]
  },
  {
   "cell_type": "markdown",
   "metadata": {},
   "source": [
    "## 1. Immediate smaller than X"
   ]
  },
  {
   "cell_type": "code",
   "execution_count": 3,
   "metadata": {},
   "outputs": [],
   "source": [
    "n =5 \n",
    "\n",
    "arr = [4,67,13,12,15]\n",
    "x = 16\n",
    "\n",
    "def immediate_Smaller(arr,n,x):\n",
    "    \n",
    "    \"\"\"\n",
    "    to solve this problem we need to check the element b/w [smallest,X]\n",
    "    and after every itration we need to reach to near the immediate smaller item.\n",
    "    \n",
    "    \"\"\"\n",
    "    for i in arr:\n",
    "        small = -1\n",
    "        \n",
    "        # now if we dont found any number which satisfy below conition then we will return -1\n",
    "        # in another case if we found some eleements which is smaller than x then we need the colsest number to x\n",
    "        # for that we need to check two condition\n",
    "        # 1. ith element should small to x\n",
    "        # 2 ith element should greater then the previous small.\n",
    "        # By donig this we will reach at the nearest element of the array\n",
    "        \n",
    "        \n",
    "        if i < x and i > small:\n",
    "            small = i\n",
    "        \n",
    "    return small"
   ]
  },
  {
   "cell_type": "markdown",
   "metadata": {},
   "source": [
    "### 2. immediate greater than x "
   ]
  },
  {
   "cell_type": "code",
   "execution_count": 45,
   "metadata": {},
   "outputs": [],
   "source": [
    "n =5 \n",
    "\n",
    "arr = [4,67,13,12,15]\n",
    "x = 12\n",
    "\n",
    "\n",
    "def immediate_Greater(arr,n,x):\n",
    "    ref = max(arr)\n",
    "    \n",
    "    if ref>x:\n",
    "        for i in arr:\n",
    "            if i > x and i < ref:\n",
    "                print(i,x,ref)    \n",
    "                ref = i\n",
    "        return ref\n",
    "    else:\n",
    "        return -1\n",
    "        \n",
    "    "
   ]
  },
  {
   "cell_type": "code",
   "execution_count": 46,
   "metadata": {},
   "outputs": [
    {
     "name": "stdout",
     "output_type": "stream",
     "text": [
      "13 12 67\n"
     ]
    },
    {
     "data": {
      "text/plain": [
       "13"
      ]
     },
     "execution_count": 46,
     "metadata": {},
     "output_type": "execute_result"
    }
   ],
   "source": [
    "immediate_Greater(arr,n,x)"
   ]
  },
  {
   "cell_type": "code",
   "execution_count": 10,
   "metadata": {},
   "outputs": [
    {
     "name": "stdout",
     "output_type": "stream",
     "text": [
      "4\n",
      "13\n",
      "15\n",
      "15\n"
     ]
    }
   ],
   "source": [
    "arr = [4, 67, 13, 12, 15]\n",
    "X = 16\n",
    "\n",
    "smaller = -1\n",
    "zero = 0\n",
    "for i in arr:\n",
    "    if 0 < X - i < X - smaller:\n",
    "        smaller = i\n",
    "        \n",
    "        print(smaller)\n",
    "\n",
    "print(smaller) "
   ]
  },
  {
   "cell_type": "markdown",
   "metadata": {},
   "source": [
    "#### 3.Who has the Majority?"
   ]
  },
  {
   "cell_type": "code",
   "execution_count": 10,
   "metadata": {},
   "outputs": [],
   "source": [
    "arr = [1,2,1,2,3,4,5,4,5,6,6,7,8,7,5,1,3,8,9,4,5,7,6,2,5,3,4,6,2,1,5,5,5]\n",
    "\n",
    "def major_count(arr):\n",
    "    \n",
    "    res = {}\n",
    "    max_count = 0\n",
    "    key  = 0\n",
    "    \n",
    "    for i in arr:\n",
    "        \n",
    "        if i in res:\n",
    "            res[i] = res.get(i)+1\n",
    "        else:\n",
    "            res[i] = 1\n",
    "    \n",
    "    for k,v in res.items():\n",
    "        \n",
    "        if v > max_count:\n",
    "            max_count = v\n",
    "            key = k\n",
    "            \n",
    "    return key,max_count"
   ]
  },
  {
   "cell_type": "code",
   "execution_count": 11,
   "metadata": {},
   "outputs": [
    {
     "data": {
      "text/plain": [
       "(5, 8)"
      ]
     },
     "execution_count": 11,
     "metadata": {},
     "output_type": "execute_result"
    }
   ],
   "source": [
    "major_count(arr)"
   ]
  },
  {
   "cell_type": "markdown",
   "metadata": {},
   "source": [
    "#### 4. Who has the majority in b/w two numbers."
   ]
  },
  {
   "cell_type": "code",
   "execution_count": 18,
   "metadata": {},
   "outputs": [],
   "source": [
    "#User function Template for python3\n",
    "N = 11\n",
    "arr = [1,1,2,2,3,3,4,4,4,4,5]\n",
    "x,y = 4,5\n",
    "def majorityWins(arr, n,  x,y):\n",
    "    # code here\n",
    "    \n",
    "    print(f\"x is {x} and y is {y}\")\n",
    "    counterx = 0\n",
    "    countery = 0\n",
    "    for i in arr:\n",
    "        \n",
    "        if i==x:\n",
    "            counterx +=1\n",
    "            \n",
    "        if i==y:\n",
    "            countery +=1\n",
    "    \n",
    "    print(f\"counterx is {counterx}\")\n",
    "    print(f\"countery is {countery}\")\n",
    "    if counterx>countery:\n",
    "        return x\n",
    "    elif counterx==countery and x<y:\n",
    "        return x\n",
    "    elif counterx==countery and x>y:\n",
    "        return y\n",
    "    else:\n",
    "        return y"
   ]
  },
  {
   "cell_type": "code",
   "execution_count": 19,
   "metadata": {},
   "outputs": [
    {
     "name": "stdout",
     "output_type": "stream",
     "text": [
      "x is 4 and y is 5\n",
      "counterx is 4\n",
      "countery is 1\n"
     ]
    },
    {
     "data": {
      "text/plain": [
       "4"
      ]
     },
     "execution_count": 19,
     "metadata": {},
     "output_type": "execute_result"
    }
   ],
   "source": [
    "majorityWins(arr,N,x,y)"
   ]
  },
  {
   "cell_type": "code",
   "execution_count": 20,
   "metadata": {},
   "outputs": [
    {
     "name": "stdout",
     "output_type": "stream",
     "text": [
      "x is 13 and y is 32\n",
      "counterx is 0\n",
      "countery is 0\n"
     ]
    },
    {
     "data": {
      "text/plain": [
       "13"
      ]
     },
     "execution_count": 20,
     "metadata": {},
     "output_type": "execute_result"
    }
   ],
   "source": [
    "N=5\n",
    "arr = [40, 85, 9, 14, 53]\n",
    "x=13\n",
    "y=32\n",
    "\n",
    "majorityWins(arr,N,x,y)"
   ]
  },
  {
   "cell_type": "code",
   "execution_count": 40,
   "metadata": {},
   "outputs": [],
   "source": [
    "arr = [1,2,3,4,5,6,7,8,9]\n",
    "N=9 \n",
    "def reverse(arr,n):\n",
    "        \n",
    "    for i in range(int(n/2)):\n",
    "        \n",
    "        arr[i] , arr[n-i-1] = arr[n-i-1], arr[i]\n",
    "  \n",
    "    return arr "
   ]
  },
  {
   "cell_type": "code",
   "execution_count": 41,
   "metadata": {},
   "outputs": [
    {
     "data": {
      "text/plain": [
       "[9, 8, 7, 6, 5, 4, 3, 2, 1]"
      ]
     },
     "execution_count": 41,
     "metadata": {},
     "output_type": "execute_result"
    }
   ],
   "source": [
    "reverse(arr,N)"
   ]
  },
  {
   "cell_type": "code",
   "execution_count": 43,
   "metadata": {},
   "outputs": [
    {
     "data": {
      "text/plain": [
       "[0, 9, 8, 7, 6, 5, 4, 3, 2, 1]"
      ]
     },
     "execution_count": 43,
     "metadata": {},
     "output_type": "execute_result"
    }
   ],
   "source": [
    "arr = [1,2,3,4,5,6,7,8,9,0]\n",
    "N=10\n",
    "reverse(arr,N)"
   ]
  },
  {
   "cell_type": "code",
   "execution_count": 71,
   "metadata": {},
   "outputs": [],
   "source": [
    "from array import array\n",
    "\n",
    "arr = array('i',[2,4,6,8,10,12,14,16,18,20])\n",
    "N = 10\n",
    "D = 3 \n",
    "\n",
    "#Output: 8 10 12 14 16 18 20 2 4 6\n",
    "#Explanation: 2 4 6 8 10 12 14 16 18 20 \n",
    "#when rotated by 3 elements, it becomes \n",
    "# 8 10 12 14 16 18 20 2 4 6.\n",
    "\n",
    "def popfirst(arr,n):\n",
    "    \n",
    "    temp =arr[0] \n",
    "    \n",
    "    for i in range(n-1):\n",
    "        \n",
    "    return temp, arr\n",
    "    \n",
    "\n",
    "def rotateArr(arr,N,D):\n",
    "    \n",
    "    # Step1. Perform Pop operation of every first element \n",
    "    # Step2. Perform append operation after pop\n",
    "    \n",
    "    \n",
    "    return arr\n",
    "            \n",
    "            \n",
    "    "
   ]
  },
  {
   "cell_type": "code",
   "execution_count": 72,
   "metadata": {},
   "outputs": [
    {
     "data": {
      "text/plain": [
       "(2, array('i', [4, 6, 8, 10, 12, 14, 16, 18, 20, 2]))"
      ]
     },
     "execution_count": 72,
     "metadata": {},
     "output_type": "execute_result"
    }
   ],
   "source": [
    "popfirst(arr,10)"
   ]
  },
  {
   "cell_type": "code",
   "execution_count": 56,
   "metadata": {},
   "outputs": [
    {
     "name": "stdout",
     "output_type": "stream",
     "text": [
      "0\n",
      "[2, 4, 6, 8, 10, 12, 14, 16, 18, 20]\n",
      "1\n",
      "[4, 6, 8, 10, 12, 14, 16, 18, 20, 2]\n",
      "2\n",
      "[6, 8, 10, 12, 14, 16, 18, 20, 2, 4]\n"
     ]
    },
    {
     "data": {
      "text/plain": [
       "[8, 10, 12, 14, 16, 18, 20, 2, 4, 6]"
      ]
     },
     "execution_count": 56,
     "metadata": {},
     "output_type": "execute_result"
    }
   ],
   "source": [
    "rotateArr(arr,N,D)"
   ]
  },
  {
   "cell_type": "code",
   "execution_count": 58,
   "metadata": {},
   "outputs": [],
   "source": [
    "from array import array"
   ]
  },
  {
   "cell_type": "code",
   "execution_count": 60,
   "metadata": {},
   "outputs": [],
   "source": [
    "arr = array('b',[1,2,3])"
   ]
  },
  {
   "cell_type": "code",
   "execution_count": 61,
   "metadata": {},
   "outputs": [
    {
     "data": {
      "text/plain": [
       "array('b', [1, 2, 3])"
      ]
     },
     "execution_count": 61,
     "metadata": {},
     "output_type": "execute_result"
    }
   ],
   "source": [
    "arr"
   ]
  },
  {
   "cell_type": "code",
   "execution_count": null,
   "metadata": {},
   "outputs": [],
   "source": []
  }
 ],
 "metadata": {
  "kernelspec": {
   "display_name": "Python 3",
   "language": "python",
   "name": "python3"
  },
  "language_info": {
   "codemirror_mode": {
    "name": "ipython",
    "version": 3
   },
   "file_extension": ".py",
   "mimetype": "text/x-python",
   "name": "python",
   "nbconvert_exporter": "python",
   "pygments_lexer": "ipython3",
   "version": "3.8.3"
  }
 },
 "nbformat": 4,
 "nbformat_minor": 4
}
