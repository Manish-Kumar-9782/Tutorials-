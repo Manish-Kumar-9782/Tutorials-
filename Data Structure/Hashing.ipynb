{
 "cells": [
  {
   "cell_type": "markdown",
   "metadata": {},
   "source": [
    "## my hash class\n",
    "\n",
    "This is a normal hash function class which does the hashing of the numirical data and also consist the insert , deletion, search, one normal hash function , print func for the hash table "
   ]
  },
  {
   "cell_type": "code",
   "execution_count": 96,
   "metadata": {},
   "outputs": [],
   "source": [
    "class myhash(object):\n",
    "    \n",
    "    # firt of all we will initialize the init function\n",
    "    \n",
    "    def __init__(self, bucket):\n",
    "        \n",
    "        self.bucket =  bucket\n",
    "        self.HashList = [[] for i in range(bucket) ]\n",
    "        \n",
    "        \n",
    "    \n",
    "    def hashfunc(self, value):\n",
    "        \n",
    "        return value % self.bucket\n",
    "        \n",
    "    \n",
    "    def insert(self, value):\n",
    "        \n",
    "        hashvalue = self.hashfunc(value)\n",
    "        \n",
    "        self.HashList[hashvalue].append(value)\n",
    "        \n",
    "        \n",
    "    def print_bucket_list(self):\n",
    "        \n",
    "        print(self.HashList)\n",
    "        \n",
    "    def remove(self, value):\n",
    "        \n",
    "        hashvalue = self.hashfunc(value)\n",
    "        \n",
    "        self.HashList[hashvalue].remove(value)\n",
    "        \n",
    "        \n",
    "    def search(self, value):\n",
    "        \n",
    "        hashvalue = self.hashfunc(value)\n",
    "        \n",
    "        if value in self.HashList[hashvalue]:\n",
    "            \n",
    "            return True\n",
    "        else:\n",
    "            return False"
   ]
  },
  {
   "cell_type": "code",
   "execution_count": 97,
   "metadata": {},
   "outputs": [],
   "source": [
    "h =  myhash(7)"
   ]
  },
  {
   "cell_type": "code",
   "execution_count": 98,
   "metadata": {},
   "outputs": [
    {
     "data": {
      "text/plain": [
       "2"
      ]
     },
     "execution_count": 98,
     "metadata": {},
     "output_type": "execute_result"
    }
   ],
   "source": [
    "h.hashfunc(16)"
   ]
  },
  {
   "cell_type": "code",
   "execution_count": 99,
   "metadata": {},
   "outputs": [
    {
     "name": "stdout",
     "output_type": "stream",
     "text": [
      "[[], [], [], [], [], [], []]\n"
     ]
    }
   ],
   "source": [
    "h.print_bucket_list()"
   ]
  },
  {
   "cell_type": "code",
   "execution_count": 100,
   "metadata": {},
   "outputs": [],
   "source": [
    "h.insert(56)\n",
    "h.insert(26)\n",
    "h.insert(48)\n",
    "h.insert(21)"
   ]
  },
  {
   "cell_type": "code",
   "execution_count": 101,
   "metadata": {},
   "outputs": [
    {
     "name": "stdout",
     "output_type": "stream",
     "text": [
      "[[56, 21], [], [], [], [], [26], [48]]\n"
     ]
    }
   ],
   "source": [
    "h.print_bucket_list()"
   ]
  },
  {
   "cell_type": "code",
   "execution_count": 102,
   "metadata": {},
   "outputs": [],
   "source": [
    "h.remove(56)"
   ]
  },
  {
   "cell_type": "code",
   "execution_count": 103,
   "metadata": {},
   "outputs": [
    {
     "name": "stdout",
     "output_type": "stream",
     "text": [
      "[[21], [], [], [], [], [26], [48]]\n"
     ]
    }
   ],
   "source": [
    "h.print_bucket_list()"
   ]
  },
  {
   "cell_type": "code",
   "execution_count": 105,
   "metadata": {},
   "outputs": [
    {
     "data": {
      "text/plain": [
       "True"
      ]
     },
     "execution_count": 105,
     "metadata": {},
     "output_type": "execute_result"
    }
   ],
   "source": [
    "h.search(21)"
   ]
  },
  {
   "cell_type": "code",
   "execution_count": null,
   "metadata": {},
   "outputs": [],
   "source": []
  }
 ],
 "metadata": {
  "kernelspec": {
   "display_name": "Python 3",
   "language": "python",
   "name": "python3"
  },
  "language_info": {
   "codemirror_mode": {
    "name": "ipython",
    "version": 3
   },
   "file_extension": ".py",
   "mimetype": "text/x-python",
   "name": "python",
   "nbconvert_exporter": "python",
   "pygments_lexer": "ipython3",
   "version": "3.8.3"
  }
 },
 "nbformat": 4,
 "nbformat_minor": 4
}
