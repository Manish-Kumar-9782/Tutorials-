{
 "cells": [
  {
   "cell_type": "code",
   "execution_count": null,
   "metadata": {},
   "outputs": [],
   "source": [
    "5\n",
    "4 67 13 12 15\n",
    "16\n",
    "\n"
   ]
  },
  {
   "cell_type": "markdown",
   "metadata": {},
   "source": [
    "## 1. Immediate smaller than X"
   ]
  },
  {
   "cell_type": "code",
   "execution_count": 3,
   "metadata": {},
   "outputs": [],
   "source": [
    "n =5 \n",
    "\n",
    "arr = [4,67,13,12,15]\n",
    "x = 16\n",
    "\n",
    "def immediate_Smaller(arr,n,x):\n",
    "    \n",
    "    \"\"\"\n",
    "    to solve this problem we need to check the element b/w [smallest,X]\n",
    "    and after every itration we need to reach to near the immediate smaller item.\n",
    "    \n",
    "    \"\"\"\n",
    "    for i in arr:\n",
    "        small = -1\n",
    "        \n",
    "        # now if we dont found any number which satisfy below conition then we will return -1\n",
    "        # in another case if we found some eleements which is smaller than x then we need the colsest number to x\n",
    "        # for that we need to check two condition\n",
    "        # 1. ith element should small to x\n",
    "        # 2 ith element should greater then the previous small.\n",
    "        # By donig this we will reach at the nearest element of the array\n",
    "        \n",
    "        \n",
    "        if i < x and i > small:\n",
    "            small = i\n",
    "        \n",
    "    return small"
   ]
  },
  {
   "cell_type": "code",
   "execution_count": 6,
   "metadata": {},
   "outputs": [
    {
     "name": "stdout",
     "output_type": "stream",
     "text": [
      "4\n"
     ]
    },
    {
     "data": {
      "text/plain": [
       "4"
      ]
     },
     "execution_count": 6,
     "metadata": {},
     "output_type": "execute_result"
    }
   ],
   "source": [
    "immediate_Smaller(arr,n,x=12)"
   ]
  },
  {
   "cell_type": "code",
   "execution_count": 10,
   "metadata": {},
   "outputs": [
    {
     "name": "stdout",
     "output_type": "stream",
     "text": [
      "4\n",
      "13\n",
      "15\n",
      "15\n"
     ]
    }
   ],
   "source": [
    "arr = [4, 67, 13, 12, 15]\n",
    "X = 16\n",
    "\n",
    "smaller = -1\n",
    "zero = 0\n",
    "for i in arr:\n",
    "    if 0 < X - i < X - smaller:\n",
    "        smaller = i\n",
    "        \n",
    "        print(smaller)\n",
    "\n",
    "print(smaller) "
   ]
  },
  {
   "cell_type": "code",
   "execution_count": 8,
   "metadata": {},
   "outputs": [
    {
     "data": {
      "text/plain": [
       "12"
      ]
     },
     "execution_count": 8,
     "metadata": {},
     "output_type": "execute_result"
    }
   ],
   "source": [
    "16-4 "
   ]
  },
  {
   "cell_type": "code",
   "execution_count": 9,
   "metadata": {},
   "outputs": [
    {
     "data": {
      "text/plain": [
       "17"
      ]
     },
     "execution_count": 9,
     "metadata": {},
     "output_type": "execute_result"
    }
   ],
   "source": [
    "16 -(-1)"
   ]
  },
  {
   "cell_type": "code",
   "execution_count": null,
   "metadata": {},
   "outputs": [],
   "source": []
  }
 ],
 "metadata": {
  "kernelspec": {
   "display_name": "Python 3",
   "language": "python",
   "name": "python3"
  },
  "language_info": {
   "codemirror_mode": {
    "name": "ipython",
    "version": 3
   },
   "file_extension": ".py",
   "mimetype": "text/x-python",
   "name": "python",
   "nbconvert_exporter": "python",
   "pygments_lexer": "ipython3",
   "version": "3.8.3"
  }
 },
 "nbformat": 4,
 "nbformat_minor": 4
}
