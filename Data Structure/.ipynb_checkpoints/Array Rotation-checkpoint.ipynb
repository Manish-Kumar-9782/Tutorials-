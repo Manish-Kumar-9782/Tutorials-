{
 "cells": [
  {
   "cell_type": "markdown",
   "metadata": {},
   "source": [
    "## 1. Rotate Array"
   ]
  },
  {
   "cell_type": "markdown",
   "metadata": {},
   "source": [
    "#### Method 1\n",
    "\n",
    "Time Complexity = O(n*d)\n",
    "\n",
    "Auxiliary Space : O(1)"
   ]
  },
  {
   "cell_type": "code",
   "execution_count": null,
   "metadata": {},
   "outputs": [],
   "source": [
    "\n",
    "\n",
    "from array import array\n",
    "\n",
    "arr = array('i',[1,2,3,4,5,6,7,8,9])\n",
    "N=9\n",
    "D=3\n",
    "\n",
    "# Step1. Rotate array by one element by iterating each element\n",
    "# Step2. repeate first step for D elements.\n",
    "def rotateArrayByOne(arr,n):\n",
    "    temp = arr[0]\n",
    "    for i in range(n-1):\n",
    "        arr[i]=arr[i+1]\n",
    "    \n",
    "    arr[i+1]=temp\n",
    "\n",
    "def rotateArray(arr,n,d):\n",
    "    \n",
    "    for  i in range(d):\n",
    "        rotateArrayByOne(arr,n)\n",
    "    return arr\n"
   ]
  },
  {
   "cell_type": "code",
   "execution_count": null,
   "metadata": {},
   "outputs": [],
   "source": [
    "rotateArray(arr,N,D)"
   ]
  },
  {
   "cell_type": "markdown",
   "metadata": {},
   "source": [
    "#### Method 2\n",
    "\n",
    "Time Complexity = O(n)\n",
    "\n",
    "Auxiliary Space = O(d)"
   ]
  },
  {
   "cell_type": "code",
   "execution_count": null,
   "metadata": {},
   "outputs": [],
   "source": [
    "# Step1. Store elements in temp variable which is going to be rotated\n",
    "# Step2. Shift rest of the arr \n",
    "# Step3. now perform append operation on arr and append temp at the end of it. \n",
    "\n",
    "\n",
    "arr = [1,2,3,4,5,6,7,8,9,]\n",
    "N,D = 9,3\n",
    "\n",
    "def rotateArray3(arr,N,D):\n",
    "    \n",
    "    temp = arr[0:D]\n",
    "    \n",
    "    for i in range(N-D):\n",
    "        arr[i] =arr[i+D]\n",
    "    \n",
    "    for i in range(D):\n",
    "        arr[N-D+i] = temp[i]\n",
    "        \n",
    "    return arr"
   ]
  },
  {
   "cell_type": "code",
   "execution_count": null,
   "metadata": {},
   "outputs": [],
   "source": [
    "rotateArray3(arr,N,D)"
   ]
  },
  {
   "cell_type": "code",
   "execution_count": null,
   "metadata": {},
   "outputs": [],
   "source": [
    "arr = [1,2,3,4,5,6,7,8,9,]\n",
    "N,D = 9,3\n",
    "rotateArray3(arr,N,D)"
   ]
  },
  {
   "cell_type": "code",
   "execution_count": null,
   "metadata": {},
   "outputs": [],
   "source": [
    "arr = [1,2,3,4,5,6,7,8,9,0]\n",
    "N,D = 10,5\n",
    "rotateArray3(arr,N,D)"
   ]
  },
  {
   "cell_type": "markdown",
   "metadata": {},
   "source": [
    "#### Method 3  (Juggling Method)\n",
    "Time Complexity = O(n)\n",
    "\n",
    "Auciliary Space = O(1)"
   ]
  },
  {
   "cell_type": "code",
   "execution_count": null,
   "metadata": {},
   "outputs": [],
   "source": [
    "# In this method we will devide the array in subsets eual to the number of GCD of the n and d\n",
    "# GCD = gretest common diviser\n",
    "# where n = length of the array and d = number of element to rotate\n",
    "\n",
    "arr = [1,2,3,4,5,6,7,8,9,0]\n",
    "N,D = 10,5\n",
    "\n",
    "def find_gcd(n,d):\n",
    " \n",
    "    \n",
    "    for i in range(d):\n",
    "        \n",
    "        D = d-i\n",
    "        # here d%D == n%D will check for which number is dividing both compliting\n",
    "        # after we need to check that the number is common for both n and d\n",
    "        \n",
    "        if d%D == n%D and d%D == 0 and n%D == 0:\n",
    "            \n",
    "            return D\n",
    "        \n",
    "\n",
    "\n",
    "def rotateArray4(arr,n,d):\n",
    "    \n",
    "    # first we need to find the common diviser (GCD)\n",
    "    d = d%n\n",
    "    gcd = find_gcd(n,d)\n",
    "    k =0\n",
    "    j = n//gcd\n",
    "    print(f\"gcd is {j}\")\n",
    "    \n",
    "    for i in range(gcd):\n",
    "        \n",
    "        j=i             # In this Variable (j) we will track the very first block of the \n",
    "                        # rotation array in which we have to rotate.\n",
    "            \n",
    "                            \n",
    "        temp = arr[i]   # Now here on every call of this line in the loop , we will copy the \n",
    "                        # i-th elements arr[i] into temp to swap it on the last block\n",
    "        \n",
    "        while 1:\n",
    "            \n",
    "                        # from here our rotation is starts\n",
    "                        # First off all we will have to track the three things\n",
    "                        # 1. working blocks (swaping block)\n",
    "                        # 2. Which elements are going to swap their position\n",
    "                        # 3. we also need to track the position of the swaping elements in ecach and every block\n",
    "            k = j+d\n",
    "                        # k = j + d || here j refers to the previous block element position\n",
    "                        #           || k refers to the next block  element position \n",
    "                        #           || d is the distance to go to the next block\n",
    "                        #           || in every iteration we will move to the next block\n",
    "                        #           || Previous block -> next block   (j -> j+d) \n",
    "                        \n",
    "            print(f\"{k} = {j}+{d}\")\n",
    "            \n",
    "            if k>=n:\n",
    "                k2 = k\n",
    "                k = k-n\n",
    "                        # Here we will calculate the k value \n",
    "                        # if the k >= n then we will go to the first block \n",
    "                print()\n",
    "                print(f\"{k} = {k2}-{n}\")\n",
    "                print()\n",
    "                 \n",
    "            if k==i:\n",
    "                break\n",
    "                       # Here in this section we will break the loop if the condition satisfy\n",
    "                       # if the while loop breaks we will go to the next iteration in for loop\n",
    "            \n",
    "            # here if while loop does not breaks then\n",
    "            # we will swap the two elements\n",
    "            # Note:- note that these elements are not in same block (or set)\n",
    "            # here we will swap j-th <-> k-th elements\n",
    "            # where j-th denoths to the next block elements\n",
    "            # and k-th denots to the next block element\n",
    "            arr[j] = arr[k]\n",
    "            j = k    \n",
    "            \n",
    "            # here we will make j as k to put temp element at k-th location in last block (set) of the array \n",
    "        arr[j] = temp \n",
    "            # putting the temp element at the k-th position after breaking the while loop\n",
    "        \n",
    "    return arr  "
   ]
  },
  {
   "cell_type": "code",
   "execution_count": null,
   "metadata": {},
   "outputs": [],
   "source": [
    "rotateArray4(arr,N,D)"
   ]
  },
  {
   "cell_type": "markdown",
   "metadata": {},
   "source": [
    "#### Method 4 (Reversal Method) \n",
    "\n",
    "Procedure:\n",
    "\n",
    "1. Seperate the array into two subset A and B\n",
    "2. A is the left side array and B is the Right side array\n",
    "3. Now we will reverse the both array A and B seperatly\n",
    "4. Now reverse the Whole array"
   ]
  },
  {
   "cell_type": "code",
   "execution_count": null,
   "metadata": {},
   "outputs": [],
   "source": [
    "## Step1. Write an algorithm to reverse the array \n",
    "\n",
    "def reverse(arr,first,last):\n",
    "    \n",
    "    rng = len(arr[first:last])\n",
    "    \n",
    "    for i in range(int(rng//2)):\n",
    "        j = i + first\n",
    "        k = rng-i-1+first\n",
    "        \n",
    "        arr[j] , arr[k] = arr[k], arr[j]\n",
    "        \n",
    "    # dont return anything we you dont need it\n",
    "    \n",
    "def Reverse_Rotate(arr,n,d):\n",
    "    \n",
    "    # here A = arr[0:d]\n",
    "    # and B = arr[d:]\n",
    "    print(arr)\n",
    "    reverse(arr,0,d)\n",
    "    print(arr)\n",
    "    reverse(arr,d,n)\n",
    "    print(arr)\n",
    "    reverse(arr,0,n)\n",
    "    print(arr)\n",
    "    "
   ]
  },
  {
   "cell_type": "code",
   "execution_count": null,
   "metadata": {},
   "outputs": [],
   "source": [
    "arr = [1,2,3,4,5,6,7,8,9,0]\n",
    "n = len(arr)\n",
    "d = 4\n",
    "Reverse_Rotate(arr,n,d)\n"
   ]
  },
  {
   "cell_type": "code",
   "execution_count": 1,
   "metadata": {},
   "outputs": [],
   "source": [
    "def array_sum(arr,n):\n",
    "    \n",
    "    Sum = 0\n",
    "    \n",
    "    for i in arr:\n",
    "        \n",
    "        Sum +=i\n",
    "        \n",
    "    return Sum\n",
    "\n",
    "def rec_array_sum(arr,n):\n",
    "    \n",
    "    \n",
    "    \n",
    "    if n == 0:\n",
    "        return 0\n",
    "    #Sum+= rec_array_sum(arr,n-1,Sum)\n",
    "    \n",
    "    \n",
    "    return arr[n-1] + rec_array_sum(arr,n-1)\n",
    "    \n",
    "    "
   ]
  },
  {
   "cell_type": "code",
   "execution_count": 2,
   "metadata": {},
   "outputs": [
    {
     "data": {
      "text/plain": [
       "45"
      ]
     },
     "execution_count": 2,
     "metadata": {},
     "output_type": "execute_result"
    }
   ],
   "source": [
    "arr = [1,2,3,4,5,6,7,8,9,0]\n",
    "rec_array_sum(arr,len(arr))"
   ]
  },
  {
   "cell_type": "code",
   "execution_count": 3,
   "metadata": {},
   "outputs": [
    {
     "data": {
      "text/plain": [
       "45"
      ]
     },
     "execution_count": 3,
     "metadata": {},
     "output_type": "execute_result"
    }
   ],
   "source": [
    "array_sum(arr,len(arr))"
   ]
  },
  {
   "cell_type": "code",
   "execution_count": 4,
   "metadata": {},
   "outputs": [],
   "source": [
    "arr2 = [8, 10, 12, 14, 16, 18, 20, 2, 4, 6]"
   ]
  },
  {
   "cell_type": "code",
   "execution_count": 5,
   "metadata": {},
   "outputs": [
    {
     "data": {
      "text/plain": [
       "45"
      ]
     },
     "execution_count": 5,
     "metadata": {},
     "output_type": "execute_result"
    }
   ],
   "source": [
    "sum(arr)"
   ]
  },
  {
   "cell_type": "code",
   "execution_count": 6,
   "metadata": {},
   "outputs": [
    {
     "data": {
      "text/plain": [
       "110"
      ]
     },
     "execution_count": 6,
     "metadata": {},
     "output_type": "execute_result"
    }
   ],
   "source": [
    "sum(arr2)"
   ]
  },
  {
   "cell_type": "code",
   "execution_count": 9,
   "metadata": {},
   "outputs": [
    {
     "data": {
      "text/plain": [
       "110"
      ]
     },
     "execution_count": 9,
     "metadata": {},
     "output_type": "execute_result"
    }
   ],
   "source": [
    "rec_array_sum(arr2,len(arr2))"
   ]
  },
  {
   "cell_type": "code",
   "execution_count": null,
   "metadata": {},
   "outputs": [],
   "source": []
  }
 ],
 "metadata": {
  "kernelspec": {
   "display_name": "Python 3",
   "language": "python",
   "name": "python3"
  },
  "language_info": {
   "codemirror_mode": {
    "name": "ipython",
    "version": 3
   },
   "file_extension": ".py",
   "mimetype": "text/x-python",
   "name": "python",
   "nbconvert_exporter": "python",
   "pygments_lexer": "ipython3",
   "version": "3.8.3"
  }
 },
 "nbformat": 4,
 "nbformat_minor": 4
}
