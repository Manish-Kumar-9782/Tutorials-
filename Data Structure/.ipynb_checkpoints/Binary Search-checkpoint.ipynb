{
 "cells": [
  {
   "cell_type": "markdown",
   "metadata": {},
   "source": [
    "## Binary search\n",
    "\n",
    "\"\"\"You're going to write a binary search function.\n",
    "You should use an iterative approach - meaning\n",
    "using loops.\n",
    "Your function should take two inputs:\n",
    "a Python list to search through, and the value\n",
    "you're searching for.\n",
    "Assume the list only has distinct elements,\n",
    "meaning there are no repeated values, and \n",
    "elements are in a strictly increasing order.\n",
    "Return the index of value, or -1 if the value\n",
    "doesn't exist in the list.\"\"\""
   ]
  },
  {
   "cell_type": "markdown",
   "metadata": {},
   "source": [
    "## Mehtod 1"
   ]
  },
  {
   "cell_type": "code",
   "execution_count": null,
   "metadata": {},
   "outputs": [],
   "source": [
    "def binary_search(input_array, value):\n",
    "    \"\"\"Your code goes here.\"\"\"\n",
    "    steps = 0\n",
    "    length = len(input_array)\n",
    "    index = 0\n",
    "    \n",
    "    \n",
    "    if input_array:\n",
    "        index = int(length/2)\n",
    "        while length!=0 :\n",
    "            steps += 1\n",
    "            #print(f\"steps: {steps}\")\n",
    "            #print(f\"index: {index}\")\n",
    "            #print(f\"length:{length}\\n\")\n",
    "    #------------------------------------------------------------------------\n",
    "    \n",
    "    \n",
    "    \n",
    "            if input_array[0]==value:\n",
    "                 print(f\"value {value} is found at 0 \")\n",
    "                 break   \n",
    "            elif length%2==0:\n",
    "                # for even numbers\n",
    "                #print(\"\\n Even Condition is here.\\n\")\n",
    "                \n",
    "                if input_array[index] == value:\n",
    "                    print(f\"value {value} is found at {index} \")\n",
    "                    break\n",
    "                    \n",
    "                elif input_array[index]>value:\n",
    "                    index -= int(len(input_array[:index])/2)\n",
    "                    length = len(input_array[:index])\n",
    "                    \n",
    "                    \n",
    "                elif input_array[index]<value:\n",
    "                    index += int(len(input_array[index:])/2)\n",
    "                    length = len(input_array[index:])\n",
    "                \n",
    "                else:\n",
    "                    print(\"Value not found\")\n",
    "                    break\n",
    "            \n",
    "            #-------------------------------------------------------------\n",
    "            else:\n",
    "                # fro odd numbers\n",
    "                #print(\"\\n Odd Condition is here.\\n\")\n",
    "            \n",
    "                if input_array[index] == value:\n",
    "                    print(f\"value {value} is found at {index} \")\n",
    "                    break\n",
    "                \n",
    "                elif input_array[index]>value:\n",
    "                    # Go to left side to array\n",
    "                    \n",
    "                    index -= int(len(input_array[:index])/2)\n",
    "                    length = len(input_array[:index])\n",
    "                    \n",
    "                    \n",
    "                elif input_array[index]<value:\n",
    "                    # Go to right side of the array\n",
    "                    \n",
    "                    index += int(len(input_array[index:])/2)\n",
    "                    length = len(input_array[index:])\n",
    "                    \n",
    "                    \n",
    "                \n",
    "                else:\n",
    "                    print(\"Value not found\")\n",
    "                    break\n",
    "            \n",
    "           \n",
    "        #---------------------------------------------------------------------------------\n",
    "            \n",
    "            \n",
    "    else:\n",
    "        print(\"List is Empty\")\n",
    "        return -1\n",
    "    "
   ]
  },
  {
   "cell_type": "code",
   "execution_count": null,
   "metadata": {},
   "outputs": [],
   "source": [
    "A = [1,3,9,11,15,19,29,30,31]"
   ]
  },
  {
   "cell_type": "code",
   "execution_count": null,
   "metadata": {},
   "outputs": [],
   "source": [
    "binary_search(A,30)"
   ]
  },
  {
   "cell_type": "markdown",
   "metadata": {},
   "source": [
    "## Method 2"
   ]
  },
  {
   "cell_type": "code",
   "execution_count": 76,
   "metadata": {},
   "outputs": [],
   "source": [
    "class Binary_search:\n",
    "    \n",
    "    def __init__(self):\n",
    "        self.steps = 0\n",
    "        self.index = 0\n",
    "        self.length = 0\n",
    "        self.value_index = 0\n",
    "        self.break_loop = False\n",
    "        self.array = None\n",
    "        self.main_index = 0\n",
    "        \n",
    "    def search(self,value):\n",
    "        \n",
    "        if self.array[self.index-1] == value:\n",
    "            self.break_loop = True\n",
    "            return (self.index ,self.main_index, value ) \n",
    "        \n",
    "        elif self.array[self.index-1]>value:\n",
    "                    # Go to left side to array\n",
    "                \n",
    "            self.array = self.array[:self.index]\n",
    "            \n",
    "            self.index = len(self.array)//2\n",
    "            \n",
    "            self.length = len(self.array[:self.index])\n",
    "            \n",
    "            self.main_index -= self.index\n",
    "            \n",
    "            \n",
    "                    \n",
    "        elif self.array[self.index-1]<value:\n",
    "                    # Go to right side of the array\n",
    "                \n",
    "            self.array = self.array[self.index:]\n",
    "            \n",
    "            self.index = len(self.array)//2\n",
    "            \n",
    "            self.length = len(self.array[self.index:])\n",
    "            \n",
    "            self.main_index += self.index      \n",
    "                    \n",
    "        else:\n",
    "             print(\"Value not found\")\n",
    "        \n",
    "    def binary_search(self,Array,value):\n",
    "        index = None\n",
    "        self.array = Array\n",
    "        self.length = len(Array)\n",
    "        if self.array:\n",
    "            \n",
    "            self.index = self.length//2\n",
    "            self.main_index = self.index - 1\n",
    "            \n",
    "            while self.length!=1 and self.break_loop==False:\n",
    "                self.steps += 1\n",
    "                \n",
    "                if Array[0] == value:\n",
    "                    return  0 , value\n",
    "                \n",
    "                elif self.length %2 ==0:\n",
    "                    self.search(value)\n",
    "                else:\n",
    "                    self.search(value)\n",
    "                \n",
    "            return self.steps,self.main_index, value\n",
    "            "
   ]
  },
  {
   "cell_type": "code",
   "execution_count": 77,
   "metadata": {},
   "outputs": [
    {
     "name": "stdout",
     "output_type": "stream",
     "text": [
      "(4, 8, 8)\n"
     ]
    }
   ],
   "source": [
    "b_search = Binary_search()\n",
    "Array = [i for i in range(20)]\n",
    "\n",
    "print(b_search.binary_search(Array,8))"
   ]
  },
  {
   "cell_type": "code",
   "execution_count": 78,
   "metadata": {},
   "outputs": [
    {
     "data": {
      "text/plain": [
       "[0, 1, 2, 3, 4, 5, 6, 7, 8, 9]"
      ]
     },
     "execution_count": 78,
     "metadata": {},
     "output_type": "execute_result"
    }
   ],
   "source": [
    "Array[:10]"
   ]
  },
  {
   "cell_type": "code",
   "execution_count": 79,
   "metadata": {},
   "outputs": [
    {
     "data": {
      "text/plain": [
       "[5, 6, 7, 8, 9]"
      ]
     },
     "execution_count": 79,
     "metadata": {},
     "output_type": "execute_result"
    }
   ],
   "source": [
    "Array[5:10]"
   ]
  },
  {
   "cell_type": "code",
   "execution_count": 81,
   "metadata": {},
   "outputs": [
    {
     "name": "stdout",
     "output_type": "stream",
     "text": [
      "(0, 0)\n",
      "(2, 1, 1)\n",
      "(3, 2, 2)\n",
      "(3, 4, 3)\n",
      "(1, 3, 4)\n",
      "(2, 5, 5)\n",
      "(2, 5, 6)\n",
      "(3, 6, 7)\n",
      "(3, 8, 8)\n",
      "(3, 8, 9)\n"
     ]
    }
   ],
   "source": [
    "for i in range(10):\n",
    "    b_search = Binary_search()\n",
    "    Array = [i for i in range(10)]\n",
    "    print(b_search.binary_search(Array,i))"
   ]
  },
  {
   "cell_type": "markdown",
   "metadata": {},
   "source": [
    "## Mehod 3  Best Solution"
   ]
  },
  {
   "cell_type": "code",
   "execution_count": 110,
   "metadata": {},
   "outputs": [],
   "source": [
    "def Binary_search(array, value):\n",
    "    low =0\n",
    "    high = len(array)-1\n",
    "\n",
    "    if array:\n",
    "        \n",
    "        while low <= high:\n",
    "            \n",
    "            mid = low + (high-low)//2\n",
    "            \n",
    "            if array[mid]==value:\n",
    "                return mid\n",
    "            \n",
    "            elif array[mid]<value:\n",
    "                # shift to right side\n",
    "                low = mid + 1\n",
    "            else:\n",
    "                # shift to left side\n",
    "                high = mid - 1\n",
    "    else:\n",
    "        return -1\n",
    "    "
   ]
  },
  {
   "cell_type": "code",
   "execution_count": 111,
   "metadata": {},
   "outputs": [],
   "source": [
    "A = [i for i in range(10)]"
   ]
  },
  {
   "cell_type": "code",
   "execution_count": 112,
   "metadata": {},
   "outputs": [
    {
     "name": "stdout",
     "output_type": "stream",
     "text": [
      "[0, 1, 2, 3, 4, 5, 6, 7, 8, 9]\n"
     ]
    }
   ],
   "source": [
    "print(A)"
   ]
  },
  {
   "cell_type": "code",
   "execution_count": 113,
   "metadata": {},
   "outputs": [
    {
     "name": "stdout",
     "output_type": "stream",
     "text": [
      "5\n"
     ]
    }
   ],
   "source": [
    "print(Binary_search(A,5))"
   ]
  },
  {
   "cell_type": "code",
   "execution_count": null,
   "metadata": {},
   "outputs": [],
   "source": []
  },
  {
   "cell_type": "markdown",
   "metadata": {},
   "source": [
    "## Method 4"
   ]
  },
  {
   "cell_type": "code",
   "execution_count": null,
   "metadata": {},
   "outputs": [],
   "source": [
    "# Python3 Program for recursive binary search. \n",
    "\n",
    "# Returns index of x in arr if present, else -1 \n",
    "def binarySearch (arr, l, r, x): \n",
    "\n",
    "\t# Check base case \n",
    "\tif r >= l: \n",
    "\n",
    "\t\tmid = l + (r - l) // 2\n",
    "\n",
    "\t\t# If element is present at the middle itself \n",
    "\t\tif arr[mid] == x: \n",
    "\t\t\treturn mid \n",
    "\t\t\n",
    "\t\t# If element is smaller than mid, then it \n",
    "\t\t# can only be present in left subarray \n",
    "\t\telif arr[mid] > x: \n",
    "\t\t\treturn binarySearch(arr, l, mid-1, x) \n",
    "\n",
    "\t\t# Else the element can only be present \n",
    "\t\t# in right subarray \n",
    "\t\telse: \n",
    "\t\t\treturn binarySearch(arr, mid + 1, r, x) \n",
    "\n",
    "\telse: \n",
    "\t\t# Element is not present in the array \n",
    "\t\treturn -1\n",
    "\n",
    "# Driver Code \n",
    "arr = [ 2, 3, 4, 10, 40 ] \n",
    "x = 10\n",
    "\n",
    "# Function call \n",
    "result = binarySearch(arr, 0, len(arr)-1, x) \n",
    "\n",
    "if result != -1: \n",
    "\tprint (\"Element is present at index % d\" % result) \n",
    "else: \n",
    "\tprint (\"Element is not present in array\") \n"
   ]
  }
 ],
 "metadata": {
  "kernelspec": {
   "display_name": "Python 3",
   "language": "python",
   "name": "python3"
  },
  "language_info": {
   "codemirror_mode": {
    "name": "ipython",
    "version": 3
   },
   "file_extension": ".py",
   "mimetype": "text/x-python",
   "name": "python",
   "nbconvert_exporter": "python",
   "pygments_lexer": "ipython3",
   "version": "3.8.3"
  }
 },
 "nbformat": 4,
 "nbformat_minor": 4
}
