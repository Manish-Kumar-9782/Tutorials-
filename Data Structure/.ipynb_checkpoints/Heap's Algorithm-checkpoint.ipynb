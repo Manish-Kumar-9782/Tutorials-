{
 "cells": [
  {
   "cell_type": "markdown",
   "metadata": {},
   "source": [
    "## Heap's Algorithm  (permutation generator)"
   ]
  },
  {
   "cell_type": "code",
   "execution_count": 1,
   "metadata": {},
   "outputs": [
    {
     "name": "stdout",
     "output_type": "stream",
     "text": [
      "1 2 3 \n",
      "2 1 3 \n",
      "3 1 2 \n",
      "1 3 2 \n",
      "2 3 1 \n",
      "3 2 1 \n"
     ]
    }
   ],
   "source": [
    "# Python program to print all permutations using\n",
    "# Heap's algorithm\n",
    "\n",
    "# Prints the array\n",
    "\n",
    "\n",
    "def printArr(a, n):\n",
    "\tfor i in range(n):\n",
    "\t\tprint(a[i], end=\" \")\n",
    "\tprint()\n",
    "\n",
    "# Generating permutation using Heap Algorithm\n",
    "\n",
    "\n",
    "def heapPermutation(a, size, n):\n",
    "\n",
    "\t# if size becomes 1 then prints the obtained\n",
    "\t# permutation\n",
    "\tif (size == 1):\n",
    "\t\tprintArr(a, n)\n",
    "\t\treturn\n",
    "\n",
    "\tfor i in range(size):\n",
    "\t\theapPermutation(a, size-1, n)\n",
    "\n",
    "\t\t# if size is odd, swap 0th i.e (first) \n",
    "\t\t# and (size-1)th i.e (last) element\n",
    "\t\t# else If size is even, swap ith \n",
    "\t\t# and (size-1)th i.e (last) element\n",
    "\t\tif size & 1:\n",
    "\t\t\ta[0], a[size-1] = a[size-1], a[0]\n",
    "\t\telse:\n",
    "\t\t\ta[i], a[size-1] = a[size-1], a[i]\n",
    "\n",
    "\n",
    "# Driver code\n",
    "a = [1, 2, 3]\n",
    "n = len(a)\n",
    "heapPermutation(a, n, n)\n",
    "\n",
    "# This code is contributed by ankush_953\n"
   ]
  },
  {
   "cell_type": "code",
   "execution_count": 2,
   "metadata": {},
   "outputs": [],
   "source": [
    "def swap(a,b):\n",
    "    temp = a\n",
    "    a=b\n",
    "    b= temp\n",
    "    return a ,b"
   ]
  },
  {
   "cell_type": "code",
   "execution_count": 13,
   "metadata": {},
   "outputs": [],
   "source": [
    "def printArr(array, n_size):\n",
    "    for i in range(n_size):\n",
    "        print(array[i], end=\" \")\n",
    "    print()"
   ]
  },
  {
   "cell_type": "code",
   "execution_count": 14,
   "metadata": {},
   "outputs": [],
   "source": [
    "array = [10,50,62,78,26]"
   ]
  },
  {
   "cell_type": "code",
   "execution_count": 15,
   "metadata": {},
   "outputs": [
    {
     "name": "stdout",
     "output_type": "stream",
     "text": [
      "10 50 62 78 26 \n"
     ]
    }
   ],
   "source": [
    "printArr(array, len(array))"
   ]
  },
  {
   "cell_type": "code",
   "execution_count": 38,
   "metadata": {},
   "outputs": [],
   "source": [
    "def Heap_Permutation(a,k,n):\n",
    "    \n",
    "    if k==1:\n",
    "        printArr(a,n)\n",
    "        return 0\n",
    "        \n",
    "    for i in range(k):\n",
    "        Heap_Permutation(a,k-1,n)\n",
    "        if k & 1: # This lis means if K % 2 == 0 (even number) \n",
    "            a[0], a[k-1] = a[k-1], a[0]\n",
    "        else:\n",
    "            a[i], a[k-1] = a[k-1], a[i]\n",
    "            "
   ]
  },
  {
   "cell_type": "code",
   "execution_count": 39,
   "metadata": {},
   "outputs": [],
   "source": [
    "a = [1, 2, 3]\n",
    "n = len(a)"
   ]
  },
  {
   "cell_type": "code",
   "execution_count": 40,
   "metadata": {},
   "outputs": [
    {
     "name": "stdout",
     "output_type": "stream",
     "text": [
      "1 2 3 \n",
      "2 1 3 \n",
      "3 1 2 \n",
      "1 3 2 \n",
      "2 3 1 \n",
      "3 2 1 \n"
     ]
    }
   ],
   "source": [
    "Heap_Permutation(a,n,n)"
   ]
  },
  {
   "cell_type": "code",
   "execution_count": 44,
   "metadata": {},
   "outputs": [
    {
     "data": {
      "text/plain": [
       "1"
      ]
     },
     "execution_count": 44,
     "metadata": {},
     "output_type": "execute_result"
    }
   ],
   "source": [
    "5&1"
   ]
  },
  {
   "cell_type": "code",
   "execution_count": 42,
   "metadata": {},
   "outputs": [
    {
     "data": {
      "text/plain": [
       "1"
      ]
     },
     "execution_count": 42,
     "metadata": {},
     "output_type": "execute_result"
    }
   ],
   "source": [
    "3&1"
   ]
  },
  {
   "cell_type": "code",
   "execution_count": 18,
   "metadata": {},
   "outputs": [],
   "source": [
    "x , y = 10 ,20"
   ]
  },
  {
   "cell_type": "code",
   "execution_count": 19,
   "metadata": {},
   "outputs": [],
   "source": [
    "x,y = y,x"
   ]
  },
  {
   "cell_type": "code",
   "execution_count": 20,
   "metadata": {},
   "outputs": [
    {
     "name": "stdout",
     "output_type": "stream",
     "text": [
      "20 10\n"
     ]
    }
   ],
   "source": [
    "print(x ,y)"
   ]
  },
  {
   "cell_type": "code",
   "execution_count": 6,
   "metadata": {},
   "outputs": [
    {
     "data": {
      "text/plain": [
       "(20, 10)"
      ]
     },
     "execution_count": 6,
     "metadata": {},
     "output_type": "execute_result"
    }
   ],
   "source": [
    "swap(x,y)"
   ]
  },
  {
   "cell_type": "code",
   "execution_count": 7,
   "metadata": {},
   "outputs": [
    {
     "name": "stdout",
     "output_type": "stream",
     "text": [
      "10 20\n"
     ]
    }
   ],
   "source": [
    "print(x,y)"
   ]
  },
  {
   "cell_type": "code",
   "execution_count": 8,
   "metadata": {},
   "outputs": [],
   "source": [
    "x,y = swap(x,y)"
   ]
  },
  {
   "cell_type": "code",
   "execution_count": 9,
   "metadata": {},
   "outputs": [
    {
     "data": {
      "text/plain": [
       "(20, 10)"
      ]
     },
     "execution_count": 9,
     "metadata": {},
     "output_type": "execute_result"
    }
   ],
   "source": [
    "x,y"
   ]
  },
  {
   "cell_type": "code",
   "execution_count": null,
   "metadata": {},
   "outputs": [],
   "source": []
  }
 ],
 "metadata": {
  "kernelspec": {
   "display_name": "Python 3",
   "language": "python",
   "name": "python3"
  },
  "language_info": {
   "codemirror_mode": {
    "name": "ipython",
    "version": 3
   },
   "file_extension": ".py",
   "mimetype": "text/x-python",
   "name": "python",
   "nbconvert_exporter": "python",
   "pygments_lexer": "ipython3",
   "version": "3.8.3"
  }
 },
 "nbformat": 4,
 "nbformat_minor": 4
}
