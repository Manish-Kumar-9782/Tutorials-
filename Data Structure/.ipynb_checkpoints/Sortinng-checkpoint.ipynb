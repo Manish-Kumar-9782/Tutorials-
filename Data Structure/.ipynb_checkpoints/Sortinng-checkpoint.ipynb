{
 "cells": [
  {
   "cell_type": "markdown",
   "metadata": {},
   "source": [
    "## 1.Bubble Sort"
   ]
  },
  {
   "cell_type": "code",
   "execution_count": 7,
   "metadata": {},
   "outputs": [],
   "source": [
    "arr = [5,4,12,10,0,6,56,8]\n",
    "\n",
    "def Bubble_sort(a,n):\n",
    "    \n",
    "    for i in range(n-1):\n",
    "        \n",
    "        if a[i]>a[i+1]:\n",
    "            a[i],a[i+1] = a[i+1],a[i]\n",
    "        else:\n",
    "            pass\n",
    "    if n==0:\n",
    "        return\n",
    "    else:\n",
    "        Bubble_sort(a,n-1)\n",
    "    \n",
    "    return arr\n",
    "        "
   ]
  },
  {
   "cell_type": "code",
   "execution_count": 8,
   "metadata": {},
   "outputs": [
    {
     "data": {
      "text/plain": [
       "[0, 4, 5, 6, 8, 10, 12, 56]"
      ]
     },
     "execution_count": 8,
     "metadata": {},
     "output_type": "execute_result"
    }
   ],
   "source": [
    "Bubble_sort(arr,len(arr))"
   ]
  },
  {
   "cell_type": "markdown",
   "metadata": {},
   "source": [
    "## 2. Merge sort"
   ]
  },
  {
   "cell_type": "code",
   "execution_count": 90,
   "metadata": {},
   "outputs": [],
   "source": [
    "def merge_sort(a):\n",
    "    \n",
    "    \"\"\"\n",
    "    first we need to make a seperate sort method\n",
    "    a is the the input array\n",
    "    \n",
    "    n is the total number of element inside the array\n",
    "    \n",
    "    \"\"\"\n",
    "    al=len(a)\n",
    "    \n",
    "    def sort(n_ar):\n",
    "        \n",
    "        if al%2==0:\n",
    "            \n",
    "            # for even condition\n",
    "            n = len(n_ar)\n",
    "            for i in range(n):\n",
    "\n",
    "                if i<n:\n",
    "\n",
    "                    if n_ar[i][0] > n_ar[i][1]:\n",
    "\n",
    "                        n_ar[i][0], n_ar[i][1] = n_ar[i][1], n_ar[i][0]\n",
    "                    else:\n",
    "                        pass\n",
    "\n",
    "                    i+=2\n",
    "            \n",
    "        else:\n",
    "            # for odd condition\n",
    "            pass\n",
    "        return n_ar\n",
    "\n",
    "#=================================================================================================================    \n",
    "    # Now we nee to call this sort method for every segment of the original array\n",
    "    \n",
    "    def Divide_array(a,fd=False):\n",
    "        \n",
    "        al = len(a)\n",
    "        Array = []\n",
    "        \n",
    "        if al%2 == 0:\n",
    "            # if the number of element iside the array is even then we will divide it into 2 enlement for every array\n",
    "            \n",
    "            #print(\"even condition is here....\\n\")\n",
    "            new_array = al // 2\n",
    "            \n",
    "            for i in range(new_array):\n",
    "                Array.append(a[2*i : 2*i+2])\n",
    "\n",
    "        else:\n",
    "            \n",
    "            # arr has odd number of elements\n",
    "            #print(\"odd condition is here....\\n\")\n",
    "            new_array = al//2\n",
    "            \n",
    "            Array.append([a[0]])\n",
    "            \n",
    "            for i in range(new_array):\n",
    "                Array.append(a[2*i+1 : 2*i+2+1])\n",
    "                \n",
    "        return Array\n",
    "            \n",
    "    n_ar = Divide_array(a)\n",
    "    print(n_ar)\n",
    "\n",
    "#=================================================================================================================\n",
    "    def merge_ar(ar):\n",
    "        \n",
    "        n_ar =[]\n",
    "        # merge every two sub array\n",
    "        al = len(ar) # length of the diveded arrayss\n",
    "        \n",
    "        for i in range(al):\n",
    "            i*=2\n",
    "            if i<al:\n",
    "                n_ar.append(ar[i]+ar[i+1])\n",
    "            \n",
    "        ar = None\n",
    "        \n",
    "        return n_ar \n",
    "    \n",
    "\n",
    "#=================================================================================================================    \n",
    "    \"\"\" \n",
    "    if al%2==0:\n",
    "        n = al//2\n",
    "        for i in range(n):\n",
    "            \n",
    "            if i<n:\n",
    "\n",
    "                if n_ar[i][0] > n_ar[i][1]:\n",
    "\n",
    "                    n_ar[i][0], n_ar[i][1] = n_ar[i][1], n_ar[i][0]\n",
    "                else:\n",
    "                    pass\n",
    "                i+=2\n",
    "                \n",
    "    # Above code needs to call from a sort function\n",
    "\n",
    "    else:\n",
    "        pass\n",
    "    \"\"\"\n",
    "    \n",
    "    n_ar = sort(n_ar)\n",
    "    print(n_ar)\n",
    "        \n",
    "    # now we need to sort every sub sort array"
   ]
  },
  {
   "cell_type": "code",
   "execution_count": 76,
   "metadata": {},
   "outputs": [
    {
     "name": "stdout",
     "output_type": "stream",
     "text": [
      "[[5, 4], [12, 10], [6, 0], [56, 8]]\n",
      "[[4, 5], [10, 12], [0, 6], [8, 56]]\n"
     ]
    }
   ],
   "source": [
    "arr = [5,4,12,10,6,0,56,8]\n",
    "merge_sort(arr)"
   ]
  },
  {
   "cell_type": "code",
   "execution_count": 25,
   "metadata": {},
   "outputs": [
    {
     "data": {
      "text/plain": [
       "0"
      ]
     },
     "execution_count": 25,
     "metadata": {},
     "output_type": "execute_result"
    }
   ],
   "source": [
    "len(arr) % 2 "
   ]
  },
  {
   "cell_type": "code",
   "execution_count": null,
   "metadata": {},
   "outputs": [],
   "source": [
    "a"
   ]
  },
  {
   "cell_type": "code",
   "execution_count": 9,
   "metadata": {},
   "outputs": [],
   "source": []
  },
  {
   "cell_type": "code",
   "execution_count": 13,
   "metadata": {},
   "outputs": [
    {
     "data": {
      "text/plain": [
       "[6, 56]"
      ]
     },
     "execution_count": 13,
     "metadata": {},
     "output_type": "execute_result"
    }
   ],
   "source": [
    "arr[5:7]"
   ]
  },
  {
   "cell_type": "code",
   "execution_count": 30,
   "metadata": {},
   "outputs": [],
   "source": [
    "a = [1,2]\n",
    "b = [3,4]"
   ]
  },
  {
   "cell_type": "code",
   "execution_count": 31,
   "metadata": {},
   "outputs": [
    {
     "data": {
      "text/plain": [
       "[1, 2, 3, 4]"
      ]
     },
     "execution_count": 31,
     "metadata": {},
     "output_type": "execute_result"
    }
   ],
   "source": [
    "a+b"
   ]
  },
  {
   "cell_type": "code",
   "execution_count": 47,
   "metadata": {},
   "outputs": [],
   "source": [
    "a = [[5, 4], [12, 10], [0, 6], [56, 8]]"
   ]
  },
  {
   "cell_type": "code",
   "execution_count": 48,
   "metadata": {},
   "outputs": [
    {
     "data": {
      "text/plain": [
       "[5, 4]"
      ]
     },
     "execution_count": 48,
     "metadata": {},
     "output_type": "execute_result"
    }
   ],
   "source": [
    "a[0]"
   ]
  },
  {
   "cell_type": "code",
   "execution_count": 50,
   "metadata": {},
   "outputs": [
    {
     "data": {
      "text/plain": [
       "4"
      ]
     },
     "execution_count": 50,
     "metadata": {},
     "output_type": "execute_result"
    }
   ],
   "source": [
    "a[0][1]"
   ]
  },
  {
   "cell_type": "code",
   "execution_count": 87,
   "metadata": {},
   "outputs": [],
   "source": [
    "a =[[4, 10], [5, 12], [0, 6], [8, 56]]"
   ]
  },
  {
   "cell_type": "code",
   "execution_count": 88,
   "metadata": {},
   "outputs": [
    {
     "data": {
      "text/plain": [
       "False"
      ]
     },
     "execution_count": 88,
     "metadata": {},
     "output_type": "execute_result"
    }
   ],
   "source": [
    "a[0][-1] <a[1][0]"
   ]
  },
  {
   "cell_type": "code",
   "execution_count": 89,
   "metadata": {},
   "outputs": [
    {
     "name": "stdout",
     "output_type": "stream",
     "text": [
      "True\n",
      "[[4, 5], [10, 12], [0, 6], [8, 56]]\n"
     ]
    }
   ],
   "source": [
    "if a[0][-1] >a[1][0]:\n",
    "    print(\"True\")\n",
    "    \n",
    "    a[0][-1] , a[1][0] = a[1][0],a[0][-1]\n",
    "    print(a)\n",
    "else:\n",
    "    print(a)"
   ]
  },
  {
   "cell_type": "markdown",
   "metadata": {},
   "source": [
    "## Merge Sort Algorithm"
   ]
  },
  {
   "cell_type": "markdown",
   "metadata": {},
   "source": [
    "```ruby\n",
    "\n",
    "def Mergesort(arr,l,r):\n",
    "    \n",
    "    if l<r:\n",
    "        mid = (l+r) // 2\n",
    "        \n",
    "        # devide the array\n",
    "        \n",
    "        Mergesort(arr,l,mid)\n",
    "        Mergesort(arr,mid+1,r)\n",
    "        Merge(arr,l,mid,r)\n",
    "        \n",
    "        # These all three function are called recursively\n",
    "        \n",
    "```"
   ]
  },
  {
   "cell_type": "code",
   "execution_count": 13,
   "metadata": {},
   "outputs": [],
   "source": [
    "def mergesort(arr, l ,r):\n",
    "      \n",
    "    if l==0:\n",
    "        print(arr[l:r])\n",
    "    else:\n",
    "        print()\n",
    "        print(arr[l-1:r])\n",
    "    if l<r:\n",
    "        \n",
    "        mid = (l+r)//2\n",
    "\n",
    "        mergesort(arr,l,mid)  # This will divide the current array and got to left side\n",
    "      \n",
    "        mergesort(arr,mid+1,r) # This will divide the current array and got to right side\n",
    "        "
   ]
  },
  {
   "cell_type": "code",
   "execution_count": 14,
   "metadata": {},
   "outputs": [
    {
     "name": "stdout",
     "output_type": "stream",
     "text": [
      "[5, 4, 12, 10, 6, 0, 56, 8]\n",
      "[5, 4, 12, 10]\n",
      "[5, 4]\n",
      "[5]\n",
      "[]\n",
      "\n",
      "[5]\n",
      "\n",
      "[4]\n",
      "\n",
      "[12, 10]\n",
      "\n",
      "[12]\n",
      "\n",
      "[10]\n",
      "\n",
      "[6, 0, 56, 8]\n",
      "\n",
      "[6, 0]\n",
      "\n",
      "[6]\n",
      "\n",
      "[0]\n",
      "\n",
      "[56, 8]\n",
      "\n",
      "[56]\n",
      "\n",
      "[8]\n"
     ]
    }
   ],
   "source": [
    "arr = [5,4,12,10,6,0,56,8]\n",
    "mergesort(arr,0,len(arr))"
   ]
  },
  {
   "cell_type": "code",
   "execution_count": 46,
   "metadata": {},
   "outputs": [],
   "source": [
    "def mergesort(arr, l ,r):\n",
    "      \n",
    "    \n",
    "    \n",
    "    if l==0:\n",
    "        print(arr[l:r])\n",
    "    else:\n",
    "        print()\n",
    "        print(arr[l-1:r])\n",
    "        \n",
    "        \n",
    "        \n",
    "    def merge(arr,l,mid,r):\n",
    "        \n",
    "        # but before merge we need to sort every array\n",
    "        i = j= k= 0\n",
    "        \n",
    "        while i< len(L)  and j< len(R):\n",
    "            \n",
    "            if L[i] < R[j]:\n",
    "                \n",
    "                arr[k] = L[i]\n",
    "                arr[k+1] = R[j]\n",
    "                i+=1\n",
    "            else:\n",
    "                arr[k] = R[j]\n",
    "                arr[k+1] = L[i]\n",
    "                j+=1\n",
    "            \n",
    "            k+=1\n",
    "        print(f\"durig merge at {k}\")  \n",
    "        print(arr)\n",
    "\n",
    "    if l<r:\n",
    "        \n",
    "        mid = (l+r)//2\n",
    "        \n",
    "        L = arr[:mid]\n",
    "        R = arr[mid:]\n",
    "        \n",
    "        mergesort(arr,l,mid)\n",
    "      \n",
    "        mergesort(arr,mid+1,r)\n",
    "        \n",
    "        merge(arr,l,mid,r)"
   ]
  },
  {
   "cell_type": "code",
   "execution_count": 47,
   "metadata": {},
   "outputs": [
    {
     "name": "stdout",
     "output_type": "stream",
     "text": [
      "[5, 4, 12, 10, 6, 0, 56, 8]\n",
      "[5, 4, 12, 10]\n",
      "[5, 4]\n",
      "[5]\n",
      "[]\n",
      "\n",
      "[5]\n",
      "durig merge at 0\n",
      "[5, 4, 12, 10, 6, 0, 56, 8]\n",
      "\n",
      "[4]\n",
      "durig merge at 2\n",
      "[4, 5, 12, 10, 6, 0, 56, 8]\n",
      "\n",
      "[12, 10]\n",
      "\n",
      "[12]\n",
      "\n",
      "[10]\n",
      "durig merge at 6\n",
      "[4, 5, 10, 6, 0, 12, 56, 8]\n",
      "durig merge at 2\n",
      "[5, 4, 12, 6, 0, 12, 56, 8]\n",
      "\n",
      "[0, 12, 56, 8]\n",
      "\n",
      "[0, 12]\n",
      "\n",
      "[0]\n",
      "\n",
      "[12]\n",
      "durig merge at 6\n",
      "[5, 4, 12, 12, 6, 0, 56, 8]\n",
      "\n",
      "[56, 8]\n",
      "\n",
      "[56]\n",
      "\n",
      "[8]\n",
      "durig merge at 3\n",
      "[5, 4, 8, 12, 6, 0, 56, 8]\n",
      "durig merge at 6\n",
      "[5, 4, 12, 6, 0, 12, 56, 8]\n",
      "durig merge at 6\n",
      "[5, 4, 6, 0, 12, 10, 56, 8]\n"
     ]
    }
   ],
   "source": [
    "arr = [5,4,12,10,6,0,56,8]\n",
    "mergesort(arr,0,len(arr))"
   ]
  },
  {
   "cell_type": "code",
   "execution_count": 18,
   "metadata": {},
   "outputs": [
    {
     "data": {
      "text/plain": [
       "12"
      ]
     },
     "execution_count": 18,
     "metadata": {},
     "output_type": "execute_result"
    }
   ],
   "source": [
    "arr[0:4][2]"
   ]
  },
  {
   "cell_type": "code",
   "execution_count": 58,
   "metadata": {},
   "outputs": [],
   "source": [
    "def MergeSort(arr):\n",
    "    \n",
    "    print(arr)\n",
    "    \n",
    "    if len(arr)>1:\n",
    "        \n",
    "        mid = len(arr)// 2\n",
    "        \n",
    "        L = arr[:mid] # copying the data to temp array\n",
    "        R = arr[mid:]\n",
    "        \n",
    "        MergeSort(L)\n",
    "        MergeSort(R)\n",
    "        \n",
    "       \n",
    "        \n",
    "        # excuting the loop until the i reaches to the end of the array\n",
    "        while i < len(L) and j< len(R):\n",
    "            \n",
    "            if L[i]<=R[j]:\n",
    "                \n",
    "                # if L[i] element is less then R[j] then copy l[i] to \n",
    "                # arr[] at k location \n",
    "                # k will be increaces in after evey assignment \n",
    "                arr[k] = L[i] \n",
    "                i+=1\n",
    "                \n",
    "            else:\n",
    "                \n",
    "                arr[k] = R[j]\n",
    "                j+=1\n",
    "            \n",
    "            k+=1\n",
    "                \n",
    "                \n",
    "        # check evey last position for the left array\n",
    "        while i < len(L):\n",
    "            arr[k] = L[i]\n",
    "            \n",
    "            i += 1\n",
    "            k += 1\n",
    "        \n",
    "        # Check every position for the right array \n",
    "        while j < len(R):\n",
    "            arr[k] = R[j]\n",
    "            \n",
    "            j += 1\n",
    "            k += 1\n",
    "        \n",
    "        \n",
    "        \n",
    "        \n",
    "        "
   ]
  },
  {
   "cell_type": "code",
   "execution_count": 59,
   "metadata": {},
   "outputs": [
    {
     "name": "stdout",
     "output_type": "stream",
     "text": [
      "[5, 4, 12, 10, 6, 0, 56, 8]\n",
      "[5, 4, 12, 10]\n",
      "[5, 4]\n",
      "[5]\n",
      "[4]\n",
      "[12, 10]\n",
      "[12]\n",
      "[10]\n",
      "[6, 0, 56, 8]\n",
      "[6, 0]\n",
      "[6]\n",
      "[0]\n",
      "[56, 8]\n",
      "[56]\n",
      "[8]\n"
     ]
    }
   ],
   "source": [
    "arr = [5,4,12,10,6,0,56,8]\n",
    "\n",
    "MergeSort(arr)"
   ]
  },
  {
   "cell_type": "code",
   "execution_count": 60,
   "metadata": {},
   "outputs": [
    {
     "data": {
      "text/plain": [
       "[0, 4, 5, 6, 8, 10, 12, 56]"
      ]
     },
     "execution_count": 60,
     "metadata": {},
     "output_type": "execute_result"
    }
   ],
   "source": [
    "arr"
   ]
  },
  {
   "cell_type": "markdown",
   "metadata": {},
   "source": [
    "## Merge sort Class"
   ]
  },
  {
   "cell_type": "code",
   "execution_count": 106,
   "metadata": {},
   "outputs": [],
   "source": [
    "class Merge_sort:\n",
    "    \n",
    "        \n",
    "#================================================================================================    \n",
    "    def merge(self,arr,L_arr,R_arr):\n",
    "        \n",
    "        print(\"Out side While in merge \")\n",
    "        print(arr)\n",
    "        print()\n",
    "        i = j = k =0\n",
    "        \n",
    "        while i< len(L_arr) and j < len(R_arr):\n",
    "            \n",
    "            print(f\"Inside First Condition at k               {k}\")\n",
    "            if L_arr[i] < R_arr[j]:\n",
    "                # condition:\n",
    "                #           if left array element is small to right one\n",
    "                #           This will excute and we will copy the l_arr[i]\n",
    "                #           at arr[k] location k will increase in every iteration\n",
    "                \n",
    "                arr[k] = L_arr[i]\n",
    "                i += 1\n",
    "                print(arr)\n",
    "                print()\n",
    "            else:\n",
    "                # condition:\n",
    "                #           if Right array element is small to Left one\n",
    "                #           This will excute and we will copy the R_arr[i]\n",
    "                #           at arr[k] location k will increase in every iteration\n",
    "                \n",
    "                arr[k] = R_arr[j]\n",
    "                j += 1\n",
    "                print(arr)\n",
    "                print()\n",
    "            k +=1 # k will increase after assignment of array element\n",
    "            \n",
    "            \n",
    "            # Now we need to check for other (remaining element)\n",
    "            \n",
    "            \n",
    "            # In this section suppose that we have reached at point i=2\n",
    "            # and j=1 then we will check remaining element for the present \n",
    "            # sub array for both left sub array and Right sub array\n",
    "            \n",
    "        while i < len(L_arr): \n",
    "                \n",
    "                print(f\"In first extra while at k                {k}\")\n",
    "                arr[k] = L_arr[i]\n",
    "                \n",
    "                i += 1\n",
    "                k += 1\n",
    "                print(arr)\n",
    "                \n",
    "        while j < len(R_arr):\n",
    "                \n",
    "                print(f\"In second extra while at k               {k}\")\n",
    "                arr[k] = R_arr[j]\n",
    "                \n",
    "                j += 1\n",
    "                k += 1\n",
    "                print(arr)\n",
    "#================================================================================================                \n",
    "    def MergeSort(self,arr):\n",
    "        \n",
    "            print(arr)\n",
    "            \n",
    "            if len(arr) > 1:\n",
    "                \n",
    "                mid = len(arr) // 2\n",
    "                \n",
    "                L_arr = arr[:mid] # this will copy the left sub-array into temp array \n",
    "                R_arr = arr[mid:] # this will copy the Right sub-array into temp array\n",
    "                \n",
    "                \n",
    "                # This recursion will cover the left part of the every sub array \n",
    "                self.MergeSort(L_arr)\n",
    "                \n",
    "                # This recursion will cover the Right part of the every sub array\n",
    "                self.MergeSort(R_arr)\n",
    "                \n",
    "                # Now we will call our merge function to merge our divided array\n",
    "                # but before that we will sort every element \n",
    "                # sorting code is inside the merge() function\n",
    "                \n",
    "                self.merge(arr,L_arr,R_arr)"
   ]
  },
  {
   "cell_type": "code",
   "execution_count": 109,
   "metadata": {},
   "outputs": [
    {
     "name": "stdout",
     "output_type": "stream",
     "text": [
      "None\n"
     ]
    }
   ],
   "source": [
    "arr = [5,4,12,10,6,0,56,8]\n",
    "sort = Merge_sort()"
   ]
  },
  {
   "cell_type": "code",
   "execution_count": 110,
   "metadata": {},
   "outputs": [
    {
     "name": "stdout",
     "output_type": "stream",
     "text": [
      "[5, 4, 12, 10, 6, 0, 56, 8]\n",
      "[5, 4, 12, 10]\n",
      "[5, 4]\n",
      "[5]\n",
      "[4]\n",
      "Out side While in merge \n",
      "[5, 4]\n",
      "\n",
      "Inside First Condition at k               0\n",
      "[4, 4]\n",
      "\n",
      "In first extra while at k                1\n",
      "[4, 5]\n",
      "[12, 10]\n",
      "[12]\n",
      "[10]\n",
      "Out side While in merge \n",
      "[12, 10]\n",
      "\n",
      "Inside First Condition at k               0\n",
      "[10, 10]\n",
      "\n",
      "In first extra while at k                1\n",
      "[10, 12]\n",
      "Out side While in merge \n",
      "[5, 4, 12, 10]\n",
      "\n",
      "Inside First Condition at k               0\n",
      "[4, 4, 12, 10]\n",
      "\n",
      "Inside First Condition at k               1\n",
      "[4, 5, 12, 10]\n",
      "\n",
      "In second extra while at k               2\n",
      "[4, 5, 10, 10]\n",
      "In second extra while at k               3\n",
      "[4, 5, 10, 12]\n",
      "[6, 0, 56, 8]\n",
      "[6, 0]\n",
      "[6]\n",
      "[0]\n",
      "Out side While in merge \n",
      "[6, 0]\n",
      "\n",
      "Inside First Condition at k               0\n",
      "[0, 0]\n",
      "\n",
      "In first extra while at k                1\n",
      "[0, 6]\n",
      "[56, 8]\n",
      "[56]\n",
      "[8]\n",
      "Out side While in merge \n",
      "[56, 8]\n",
      "\n",
      "Inside First Condition at k               0\n",
      "[8, 8]\n",
      "\n",
      "In first extra while at k                1\n",
      "[8, 56]\n",
      "Out side While in merge \n",
      "[6, 0, 56, 8]\n",
      "\n",
      "Inside First Condition at k               0\n",
      "[0, 0, 56, 8]\n",
      "\n",
      "Inside First Condition at k               1\n",
      "[0, 6, 56, 8]\n",
      "\n",
      "In second extra while at k               2\n",
      "[0, 6, 8, 8]\n",
      "In second extra while at k               3\n",
      "[0, 6, 8, 56]\n",
      "Out side While in merge \n",
      "[5, 4, 12, 10, 6, 0, 56, 8]\n",
      "\n",
      "Inside First Condition at k               0\n",
      "[0, 4, 12, 10, 6, 0, 56, 8]\n",
      "\n",
      "Inside First Condition at k               1\n",
      "[0, 4, 12, 10, 6, 0, 56, 8]\n",
      "\n",
      "Inside First Condition at k               2\n",
      "[0, 4, 5, 10, 6, 0, 56, 8]\n",
      "\n",
      "Inside First Condition at k               3\n",
      "[0, 4, 5, 6, 6, 0, 56, 8]\n",
      "\n",
      "Inside First Condition at k               4\n",
      "[0, 4, 5, 6, 8, 0, 56, 8]\n",
      "\n",
      "Inside First Condition at k               5\n",
      "[0, 4, 5, 6, 8, 10, 56, 8]\n",
      "\n",
      "Inside First Condition at k               6\n",
      "[0, 4, 5, 6, 8, 10, 12, 8]\n",
      "\n",
      "In second extra while at k               7\n",
      "[0, 4, 5, 6, 8, 10, 12, 56]\n"
     ]
    }
   ],
   "source": [
    "sort.MergeSort(arr)"
   ]
  },
  {
   "cell_type": "markdown",
   "metadata": {},
   "source": [
    "\n",
    "\n"
   ]
  },
  {
   "cell_type": "markdown",
   "metadata": {},
   "source": [
    "## 3. Insertion Sort"
   ]
  },
  {
   "cell_type": "markdown",
   "metadata": {},
   "source": [
    "``` ruby\n",
    "\n",
    "def insertion_sort(array):\n",
    "    \n",
    "    \"\"\"\n",
    "    1. This insertion sort function wil be divided into two sub array\n",
    "    2. first one will called sorted array and second one is called unsorted array \n",
    "    3. now we will pick one element from the unsorted check a suitable position for that element inside the sorted array\n",
    "    \n",
    "    \n",
    "    \"\"\"\n",
    "    \n",
    "    i = 1\n",
    "    j = 0 \n",
    "    # i will track the position for the sorted array\n",
    "    \n",
    "    if len(array)>1 :\n",
    "        \n",
    "        \n",
    "        \n",
    "        while i != len(array) :\n",
    "            temp = array[i]\n",
    "            \n",
    "            print(array)\n",
    "            print(f\"                                                   i  at {i}\")\n",
    "            \n",
    "            for j in range(len(array[:i])):\n",
    "                \n",
    "                if array[i-j-1] < temp:\n",
    "                    \n",
    "                    array[i-j] = temp\n",
    "                    print()\n",
    "                    print(\"Breaking loop \")\n",
    "                    \n",
    "                else:\n",
    "                    print(f\"swaping array element  {array[i-j-1]}  and {array[i-j]} \")\n",
    "                    array[i-j] = array[i-j-1]  \n",
    "                \n",
    "                \n",
    "                \n",
    "                print(array)\n",
    "            \n",
    "            i += 1 \n",
    "                  # increase the position inside the unsorted array\n",
    "  ```          "
   ]
  },
  {
   "cell_type": "code",
   "execution_count": 58,
   "metadata": {},
   "outputs": [],
   "source": [
    "def Insertion_Sort(arr):\n",
    "    \n",
    "    \n",
    "    for i in range(1,len(arr)):  # This loop if to go right side in current array \n",
    "        \n",
    "        temp = arr[i]\n",
    "        j = i - 1\n",
    "        \n",
    "        while j >=0 and arr[j] > temp:  # this loop will run unitl the j is not equal zero\n",
    "                                        # of if the temp is temp > arr[j] this will it will terminate                             \n",
    "            \n",
    "            arr[j+1] = arr[j]\n",
    "            j -= 1 \n",
    "        \n",
    "        arr[j+1] = temp\n",
    "        \n",
    "    print(arr)"
   ]
  },
  {
   "cell_type": "code",
   "execution_count": 59,
   "metadata": {},
   "outputs": [
    {
     "name": "stdout",
     "output_type": "stream",
     "text": [
      "[0, 4, 5, 6, 8, 10, 12, 56]\n"
     ]
    }
   ],
   "source": [
    "arr = [4,5,12,10,6,0,56,8]\n",
    "Insertion_Sort(arr)"
   ]
  },
  {
   "cell_type": "code",
   "execution_count": 106,
   "metadata": {},
   "outputs": [],
   "source": [
    "def insertion_sort(array):\n",
    "\n",
    "    \"\"\"\n",
    "    1. This insertion sort function wil be divided into two sub array\n",
    "    2. first one will called sorted array and second one is called unsorted array \n",
    "    3. now we will pick one element from the unsorted check a suitable position for that element inside the sorted array\n",
    "\n",
    "\n",
    "    \"\"\"\n",
    "\n",
    "    i = 1\n",
    "    j = 0 \n",
    "    # i will track the position for the sorted array\n",
    "\n",
    "    if len(array)>1 :  # first of all we will check the array length , if it is one then there is  no need to sort the array\n",
    "\n",
    "\n",
    "\n",
    "        while i != len(array) :   # lopp will excute untill it reaches to the end of the array\n",
    "            temp = array[i]       # make a copy to current working element    \n",
    "\n",
    "            for j in range(len(array[:i])):   # This loop is for will search suitable location for the current element\n",
    "                                              # inside the sorted array \n",
    "                \n",
    "                if array[i-j-1] < temp:      # if the temp element is large from sorted array's element then \n",
    "                                             # loop will break and moves to next element\n",
    "                    break\n",
    "                    \n",
    "                else:\n",
    "                    \n",
    "                    array[i-j] = array[i-j-1]  # if temp element is samall then we will find the suitable location for it \n",
    "                                                # for that we moves the before element to current until it find location \n",
    "                    if array[i-j-1] > temp:    #  This will check if location is found or not if yes then it will place \n",
    "                        array[i-j-1] = temp    # the temp element to new location \n",
    "            i += 1 \n",
    "                  # increase the position inside the unsorted array\n",
    "    return array"
   ]
  },
  {
   "cell_type": "code",
   "execution_count": 109,
   "metadata": {
    "scrolled": false
   },
   "outputs": [
    {
     "data": {
      "text/plain": [
       "[0, 4, 5, 6, 8, 10, 12, 15, 20, 56]"
      ]
     },
     "execution_count": 109,
     "metadata": {},
     "output_type": "execute_result"
    }
   ],
   "source": [
    "arr = [15,5,4,12,10,6,0,56,8,20]\n",
    "insertion_sort(arr)"
   ]
  },
  {
   "cell_type": "code",
   "execution_count": null,
   "metadata": {},
   "outputs": [],
   "source": []
  }
 ],
 "metadata": {
  "kernelspec": {
   "display_name": "Python 3",
   "language": "python",
   "name": "python3"
  },
  "language_info": {
   "codemirror_mode": {
    "name": "ipython",
    "version": 3
   },
   "file_extension": ".py",
   "mimetype": "text/x-python",
   "name": "python",
   "nbconvert_exporter": "python",
   "pygments_lexer": "ipython3",
   "version": "3.8.3"
  }
 },
 "nbformat": 4,
 "nbformat_minor": 4
}
