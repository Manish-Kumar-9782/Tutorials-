{
 "cells": [
  {
   "cell_type": "markdown",
   "metadata": {},
   "source": [
    "## 1.Bubble Sort"
   ]
  },
  {
   "cell_type": "code",
   "execution_count": 7,
   "metadata": {},
   "outputs": [],
   "source": [
    "arr = [5,4,12,10,0,6,56,8]\n",
    "\n",
    "def Bubble_sort(a,n):\n",
    "    \n",
    "    for i in range(n-1):\n",
    "        \n",
    "        if a[i]>a[i+1]:\n",
    "            a[i],a[i+1] = a[i+1],a[i]\n",
    "        else:\n",
    "            pass\n",
    "    if n==0:\n",
    "        return\n",
    "    else:\n",
    "        Bubble_sort(a,n-1)\n",
    "    \n",
    "    return arr\n",
    "        "
   ]
  },
  {
   "cell_type": "code",
   "execution_count": 8,
   "metadata": {},
   "outputs": [
    {
     "data": {
      "text/plain": [
       "[0, 4, 5, 6, 8, 10, 12, 56]"
      ]
     },
     "execution_count": 8,
     "metadata": {},
     "output_type": "execute_result"
    }
   ],
   "source": [
    "Bubble_sort(arr,len(arr))"
   ]
  },
  {
   "cell_type": "markdown",
   "metadata": {},
   "source": [
    "## 2. Merge sort"
   ]
  },
  {
   "cell_type": "code",
   "execution_count": 90,
   "metadata": {},
   "outputs": [],
   "source": [
    "def merge_sort(a):\n",
    "    \n",
    "    \"\"\"\n",
    "    first we need to make a seperate sort method\n",
    "    a is the the input array\n",
    "    \n",
    "    n is the total number of element inside the array\n",
    "    \n",
    "    \"\"\"\n",
    "    al=len(a)\n",
    "    \n",
    "    def sort(n_ar):\n",
    "        \n",
    "        if al%2==0:\n",
    "            \n",
    "            # for even condition\n",
    "            n = len(n_ar)\n",
    "            for i in range(n):\n",
    "\n",
    "                if i<n:\n",
    "\n",
    "                    if n_ar[i][0] > n_ar[i][1]:\n",
    "\n",
    "                        n_ar[i][0], n_ar[i][1] = n_ar[i][1], n_ar[i][0]\n",
    "                    else:\n",
    "                        pass\n",
    "\n",
    "                    i+=2\n",
    "            \n",
    "        else:\n",
    "            # for odd condition\n",
    "            pass\n",
    "        return n_ar\n",
    "\n",
    "#=================================================================================================================    \n",
    "    # Now we nee to call this sort method for every segment of the original array\n",
    "    \n",
    "    def Divide_array(a,fd=False):\n",
    "        \n",
    "        al = len(a)\n",
    "        Array = []\n",
    "        \n",
    "        if al%2 == 0:\n",
    "            # if the number of element iside the array is even then we will divide it into 2 enlement for every array\n",
    "            \n",
    "            #print(\"even condition is here....\\n\")\n",
    "            new_array = al // 2\n",
    "            \n",
    "            for i in range(new_array):\n",
    "                Array.append(a[2*i : 2*i+2])\n",
    "\n",
    "        else:\n",
    "            \n",
    "            # arr has odd number of elements\n",
    "            #print(\"odd condition is here....\\n\")\n",
    "            new_array = al//2\n",
    "            \n",
    "            Array.append([a[0]])\n",
    "            \n",
    "            for i in range(new_array):\n",
    "                Array.append(a[2*i+1 : 2*i+2+1])\n",
    "                \n",
    "        return Array\n",
    "            \n",
    "    n_ar = Divide_array(a)\n",
    "    print(n_ar)\n",
    "\n",
    "#=================================================================================================================\n",
    "    def merge_ar(ar):\n",
    "        \n",
    "        n_ar =[]\n",
    "        # merge every two sub array\n",
    "        al = len(ar) # length of the diveded arrayss\n",
    "        \n",
    "        for i in range(al):\n",
    "            i*=2\n",
    "            if i<al:\n",
    "                n_ar.append(ar[i]+ar[i+1])\n",
    "            \n",
    "        ar = None\n",
    "        \n",
    "        return n_ar \n",
    "    \n",
    "\n",
    "#=================================================================================================================    \n",
    "    \"\"\" \n",
    "    if al%2==0:\n",
    "        n = al//2\n",
    "        for i in range(n):\n",
    "            \n",
    "            if i<n:\n",
    "\n",
    "                if n_ar[i][0] > n_ar[i][1]:\n",
    "\n",
    "                    n_ar[i][0], n_ar[i][1] = n_ar[i][1], n_ar[i][0]\n",
    "                else:\n",
    "                    pass\n",
    "                i+=2\n",
    "                \n",
    "    # Above code needs to call from a sort function\n",
    "\n",
    "    else:\n",
    "        pass\n",
    "    \"\"\"\n",
    "    \n",
    "    n_ar = sort(n_ar)\n",
    "    print(n_ar)\n",
    "        \n",
    "    # now we need to sort every sub sort array"
   ]
  },
  {
   "cell_type": "code",
   "execution_count": 76,
   "metadata": {},
   "outputs": [
    {
     "name": "stdout",
     "output_type": "stream",
     "text": [
      "[[5, 4], [12, 10], [6, 0], [56, 8]]\n",
      "[[4, 5], [10, 12], [0, 6], [8, 56]]\n"
     ]
    }
   ],
   "source": [
    "arr = [5,4,12,10,6,0,56,8]\n",
    "merge_sort(arr)"
   ]
  },
  {
   "cell_type": "code",
   "execution_count": 25,
   "metadata": {},
   "outputs": [
    {
     "data": {
      "text/plain": [
       "0"
      ]
     },
     "execution_count": 25,
     "metadata": {},
     "output_type": "execute_result"
    }
   ],
   "source": [
    "len(arr) % 2 "
   ]
  },
  {
   "cell_type": "code",
   "execution_count": null,
   "metadata": {},
   "outputs": [],
   "source": [
    "a"
   ]
  },
  {
   "cell_type": "code",
   "execution_count": 9,
   "metadata": {},
   "outputs": [],
   "source": []
  },
  {
   "cell_type": "code",
   "execution_count": 13,
   "metadata": {},
   "outputs": [
    {
     "data": {
      "text/plain": [
       "[6, 56]"
      ]
     },
     "execution_count": 13,
     "metadata": {},
     "output_type": "execute_result"
    }
   ],
   "source": [
    "arr[5:7]"
   ]
  },
  {
   "cell_type": "code",
   "execution_count": 30,
   "metadata": {},
   "outputs": [],
   "source": [
    "a = [1,2]\n",
    "b = [3,4]"
   ]
  },
  {
   "cell_type": "code",
   "execution_count": 31,
   "metadata": {},
   "outputs": [
    {
     "data": {
      "text/plain": [
       "[1, 2, 3, 4]"
      ]
     },
     "execution_count": 31,
     "metadata": {},
     "output_type": "execute_result"
    }
   ],
   "source": [
    "a+b"
   ]
  },
  {
   "cell_type": "code",
   "execution_count": 47,
   "metadata": {},
   "outputs": [],
   "source": [
    "a = [[5, 4], [12, 10], [0, 6], [56, 8]]"
   ]
  },
  {
   "cell_type": "code",
   "execution_count": 48,
   "metadata": {},
   "outputs": [
    {
     "data": {
      "text/plain": [
       "[5, 4]"
      ]
     },
     "execution_count": 48,
     "metadata": {},
     "output_type": "execute_result"
    }
   ],
   "source": [
    "a[0]"
   ]
  },
  {
   "cell_type": "code",
   "execution_count": 50,
   "metadata": {},
   "outputs": [
    {
     "data": {
      "text/plain": [
       "4"
      ]
     },
     "execution_count": 50,
     "metadata": {},
     "output_type": "execute_result"
    }
   ],
   "source": [
    "a[0][1]"
   ]
  },
  {
   "cell_type": "code",
   "execution_count": 87,
   "metadata": {},
   "outputs": [],
   "source": [
    "a =[[4, 10], [5, 12], [0, 6], [8, 56]]"
   ]
  },
  {
   "cell_type": "code",
   "execution_count": 88,
   "metadata": {},
   "outputs": [
    {
     "data": {
      "text/plain": [
       "False"
      ]
     },
     "execution_count": 88,
     "metadata": {},
     "output_type": "execute_result"
    }
   ],
   "source": [
    "a[0][-1] <a[1][0]"
   ]
  },
  {
   "cell_type": "code",
   "execution_count": 89,
   "metadata": {},
   "outputs": [
    {
     "name": "stdout",
     "output_type": "stream",
     "text": [
      "True\n",
      "[[4, 5], [10, 12], [0, 6], [8, 56]]\n"
     ]
    }
   ],
   "source": [
    "if a[0][-1] >a[1][0]:\n",
    "    print(\"True\")\n",
    "    \n",
    "    a[0][-1] , a[1][0] = a[1][0],a[0][-1]\n",
    "    print(a)\n",
    "else:\n",
    "    print(a)"
   ]
  },
  {
   "cell_type": "markdown",
   "metadata": {},
   "source": [
    "## Merge Sort Algorithm"
   ]
  },
  {
   "cell_type": "markdown",
   "metadata": {},
   "source": [
    "```ruby\n",
    "\n",
    "def Mergesort(arr,l,r):\n",
    "    \n",
    "    if l<r:\n",
    "        mid = (l+r) // 2\n",
    "        \n",
    "        # devide the array\n",
    "        \n",
    "        Mergesort(arr,l,mid)\n",
    "        Mergesort(arr,mid+1,r)\n",
    "        Merge(arr,l,mid,r)\n",
    "        \n",
    "        # These all three function are called recursively\n",
    "        \n",
    "```"
   ]
  },
  {
   "cell_type": "code",
   "execution_count": 13,
   "metadata": {},
   "outputs": [],
   "source": [
    "def mergesort(arr, l ,r):\n",
    "      \n",
    "    if l==0:\n",
    "        print(arr[l:r])\n",
    "    else:\n",
    "        print()\n",
    "        print(arr[l-1:r])\n",
    "    if l<r:\n",
    "        \n",
    "        mid = (l+r)//2\n",
    "\n",
    "        mergesort(arr,l,mid)  # This will divide the current array and got to left side\n",
    "      \n",
    "        mergesort(arr,mid+1,r) # This will divide the current array and got to right side\n",
    "        "
   ]
  },
  {
   "cell_type": "code",
   "execution_count": 14,
   "metadata": {},
   "outputs": [
    {
     "name": "stdout",
     "output_type": "stream",
     "text": [
      "[5, 4, 12, 10, 6, 0, 56, 8]\n",
      "[5, 4, 12, 10]\n",
      "[5, 4]\n",
      "[5]\n",
      "[]\n",
      "\n",
      "[5]\n",
      "\n",
      "[4]\n",
      "\n",
      "[12, 10]\n",
      "\n",
      "[12]\n",
      "\n",
      "[10]\n",
      "\n",
      "[6, 0, 56, 8]\n",
      "\n",
      "[6, 0]\n",
      "\n",
      "[6]\n",
      "\n",
      "[0]\n",
      "\n",
      "[56, 8]\n",
      "\n",
      "[56]\n",
      "\n",
      "[8]\n"
     ]
    }
   ],
   "source": [
    "arr = [5,4,12,10,6,0,56,8]\n",
    "mergesort(arr,0,len(arr))"
   ]
  },
  {
   "cell_type": "code",
   "execution_count": 46,
   "metadata": {},
   "outputs": [],
   "source": [
    "def mergesort(arr, l ,r):\n",
    "      \n",
    "    \n",
    "    \n",
    "    if l==0:\n",
    "        print(arr[l:r])\n",
    "    else:\n",
    "        print()\n",
    "        print(arr[l-1:r])\n",
    "        \n",
    "        \n",
    "        \n",
    "    def merge(arr,l,mid,r):\n",
    "        \n",
    "        # but before merge we need to sort every array\n",
    "        i = j= k= 0\n",
    "        \n",
    "        while i< len(L)  and j< len(R):\n",
    "            \n",
    "            if L[i] < R[j]:\n",
    "                \n",
    "                arr[k] = L[i]\n",
    "                arr[k+1] = R[j]\n",
    "                i+=1\n",
    "            else:\n",
    "                arr[k] = R[j]\n",
    "                arr[k+1] = L[i]\n",
    "                j+=1\n",
    "            \n",
    "            k+=1\n",
    "        print(f\"durig merge at {k}\")  \n",
    "        print(arr)\n",
    "\n",
    "    if l<r:\n",
    "        \n",
    "        mid = (l+r)//2\n",
    "        \n",
    "        L = arr[:mid]\n",
    "        R = arr[mid:]\n",
    "        \n",
    "        mergesort(arr,l,mid)\n",
    "      \n",
    "        mergesort(arr,mid+1,r)\n",
    "        \n",
    "        merge(arr,l,mid,r)"
   ]
  },
  {
   "cell_type": "code",
   "execution_count": 47,
   "metadata": {},
   "outputs": [
    {
     "name": "stdout",
     "output_type": "stream",
     "text": [
      "[5, 4, 12, 10, 6, 0, 56, 8]\n",
      "[5, 4, 12, 10]\n",
      "[5, 4]\n",
      "[5]\n",
      "[]\n",
      "\n",
      "[5]\n",
      "durig merge at 0\n",
      "[5, 4, 12, 10, 6, 0, 56, 8]\n",
      "\n",
      "[4]\n",
      "durig merge at 2\n",
      "[4, 5, 12, 10, 6, 0, 56, 8]\n",
      "\n",
      "[12, 10]\n",
      "\n",
      "[12]\n",
      "\n",
      "[10]\n",
      "durig merge at 6\n",
      "[4, 5, 10, 6, 0, 12, 56, 8]\n",
      "durig merge at 2\n",
      "[5, 4, 12, 6, 0, 12, 56, 8]\n",
      "\n",
      "[0, 12, 56, 8]\n",
      "\n",
      "[0, 12]\n",
      "\n",
      "[0]\n",
      "\n",
      "[12]\n",
      "durig merge at 6\n",
      "[5, 4, 12, 12, 6, 0, 56, 8]\n",
      "\n",
      "[56, 8]\n",
      "\n",
      "[56]\n",
      "\n",
      "[8]\n",
      "durig merge at 3\n",
      "[5, 4, 8, 12, 6, 0, 56, 8]\n",
      "durig merge at 6\n",
      "[5, 4, 12, 6, 0, 12, 56, 8]\n",
      "durig merge at 6\n",
      "[5, 4, 6, 0, 12, 10, 56, 8]\n"
     ]
    }
   ],
   "source": [
    "arr = [5,4,12,10,6,0,56,8]\n",
    "mergesort(arr,0,len(arr))"
   ]
  },
  {
   "cell_type": "code",
   "execution_count": 18,
   "metadata": {},
   "outputs": [
    {
     "data": {
      "text/plain": [
       "12"
      ]
     },
     "execution_count": 18,
     "metadata": {},
     "output_type": "execute_result"
    }
   ],
   "source": [
    "arr[0:4][2]"
   ]
  },
  {
   "cell_type": "code",
   "execution_count": 58,
   "metadata": {},
   "outputs": [],
   "source": [
    "def MergeSort(arr):\n",
    "    \n",
    "    print(arr)\n",
    "    \n",
    "    if len(arr)>1:\n",
    "        \n",
    "        mid = len(arr)// 2\n",
    "        \n",
    "        L = arr[:mid] # copying the data to temp array\n",
    "        R = arr[mid:]\n",
    "        \n",
    "        MergeSort(L)\n",
    "        MergeSort(R)\n",
    "        \n",
    "       \n",
    "        \n",
    "        # excuting the loop until the i reaches to the end of the array\n",
    "        while i < len(L) and j< len(R):\n",
    "            \n",
    "            if L[i]<=R[j]:\n",
    "                \n",
    "                # if L[i] element is less then R[j] then copy l[i] to \n",
    "                # arr[] at k location \n",
    "                # k will be increaces in after evey assignment \n",
    "                arr[k] = L[i] \n",
    "                i+=1\n",
    "                \n",
    "            else:\n",
    "                \n",
    "                arr[k] = R[j]\n",
    "                j+=1\n",
    "            \n",
    "            k+=1\n",
    "                \n",
    "                \n",
    "        # check evey last position for the left array\n",
    "        while i < len(L):\n",
    "            arr[k] = L[i]\n",
    "            \n",
    "            i += 1\n",
    "            k += 1\n",
    "        \n",
    "        # Check every position for the right array \n",
    "        while j < len(R):\n",
    "            arr[k] = R[j]\n",
    "            \n",
    "            j += 1\n",
    "            k += 1\n",
    "        \n",
    "        \n",
    "        \n",
    "        \n",
    "        "
   ]
  },
  {
   "cell_type": "code",
   "execution_count": 59,
   "metadata": {},
   "outputs": [
    {
     "name": "stdout",
     "output_type": "stream",
     "text": [
      "[5, 4, 12, 10, 6, 0, 56, 8]\n",
      "[5, 4, 12, 10]\n",
      "[5, 4]\n",
      "[5]\n",
      "[4]\n",
      "[12, 10]\n",
      "[12]\n",
      "[10]\n",
      "[6, 0, 56, 8]\n",
      "[6, 0]\n",
      "[6]\n",
      "[0]\n",
      "[56, 8]\n",
      "[56]\n",
      "[8]\n"
     ]
    }
   ],
   "source": [
    "arr = [5,4,12,10,6,0,56,8]\n",
    "\n",
    "MergeSort(arr)"
   ]
  },
  {
   "cell_type": "code",
   "execution_count": 60,
   "metadata": {},
   "outputs": [
    {
     "data": {
      "text/plain": [
       "[0, 4, 5, 6, 8, 10, 12, 56]"
      ]
     },
     "execution_count": 60,
     "metadata": {},
     "output_type": "execute_result"
    }
   ],
   "source": [
    "arr"
   ]
  },
  {
   "cell_type": "markdown",
   "metadata": {},
   "source": [
    "## Merge sort Class"
   ]
  },
  {
   "cell_type": "code",
   "execution_count": 106,
   "metadata": {},
   "outputs": [],
   "source": [
    "class Merge_sort:\n",
    "    \n",
    "        \n",
    "#================================================================================================    \n",
    "    def merge(self,arr,L_arr,R_arr):\n",
    "        \n",
    "        print(\"Out side While in merge \")\n",
    "        print(arr)\n",
    "        print()\n",
    "        i = j = k =0\n",
    "        \n",
    "        while i< len(L_arr) and j < len(R_arr):\n",
    "            \n",
    "            print(f\"Inside First Condition at k               {k}\")\n",
    "            if L_arr[i] < R_arr[j]:\n",
    "                # condition:\n",
    "                #           if left array element is small to right one\n",
    "                #           This will excute and we will copy the l_arr[i]\n",
    "                #           at arr[k] location k will increase in every iteration\n",
    "                \n",
    "                arr[k] = L_arr[i]\n",
    "                i += 1\n",
    "                print(arr)\n",
    "                print()\n",
    "            else:\n",
    "                # condition:\n",
    "                #           if Right array element is small to Left one\n",
    "                #           This will excute and we will copy the R_arr[i]\n",
    "                #           at arr[k] location k will increase in every iteration\n",
    "                \n",
    "                arr[k] = R_arr[j]\n",
    "                j += 1\n",
    "                print(arr)\n",
    "                print()\n",
    "            k +=1 # k will increase after assignment of array element\n",
    "            \n",
    "            \n",
    "            # Now we need to check for other (remaining element)\n",
    "            \n",
    "            \n",
    "            # In this section suppose that we have reached at point i=2\n",
    "            # and j=1 then we will check remaining element for the present \n",
    "            # sub array for both left sub array and Right sub array\n",
    "            \n",
    "        while i < len(L_arr): \n",
    "                \n",
    "                print(f\"In first extra while at k                {k}\")\n",
    "                arr[k] = L_arr[i]\n",
    "                \n",
    "                i += 1\n",
    "                k += 1\n",
    "                print(arr)\n",
    "                \n",
    "        while j < len(R_arr):\n",
    "                \n",
    "                print(f\"In second extra while at k               {k}\")\n",
    "                arr[k] = R_arr[j]\n",
    "                \n",
    "                j += 1\n",
    "                k += 1\n",
    "                print(arr)\n",
    "#================================================================================================                \n",
    "    def MergeSort(self,arr):\n",
    "        \n",
    "            print(arr)\n",
    "            \n",
    "            if len(arr) > 1:\n",
    "                \n",
    "                mid = len(arr) // 2\n",
    "                \n",
    "                L_arr = arr[:mid] # this will copy the left sub-array into temp array \n",
    "                R_arr = arr[mid:] # this will copy the Right sub-array into temp array\n",
    "                \n",
    "                \n",
    "                # This recursion will cover the left part of the every sub array \n",
    "                self.MergeSort(L_arr)\n",
    "                \n",
    "                # This recursion will cover the Right part of the every sub array\n",
    "                self.MergeSort(R_arr)\n",
    "                \n",
    "                # Now we will call our merge function to merge our divided array\n",
    "                # but before that we will sort every element \n",
    "                # sorting code is inside the merge() function\n",
    "                \n",
    "                self.merge(arr,L_arr,R_arr)"
   ]
  },
  {
   "cell_type": "code",
   "execution_count": 109,
   "metadata": {},
   "outputs": [
    {
     "name": "stdout",
     "output_type": "stream",
     "text": [
      "None\n"
     ]
    }
   ],
   "source": [
    "arr = [5,4,12,10,6,0,56,8]\n",
    "sort = Merge_sort()"
   ]
  },
  {
   "cell_type": "code",
   "execution_count": 110,
   "metadata": {},
   "outputs": [
    {
     "name": "stdout",
     "output_type": "stream",
     "text": [
      "[5, 4, 12, 10, 6, 0, 56, 8]\n",
      "[5, 4, 12, 10]\n",
      "[5, 4]\n",
      "[5]\n",
      "[4]\n",
      "Out side While in merge \n",
      "[5, 4]\n",
      "\n",
      "Inside First Condition at k               0\n",
      "[4, 4]\n",
      "\n",
      "In first extra while at k                1\n",
      "[4, 5]\n",
      "[12, 10]\n",
      "[12]\n",
      "[10]\n",
      "Out side While in merge \n",
      "[12, 10]\n",
      "\n",
      "Inside First Condition at k               0\n",
      "[10, 10]\n",
      "\n",
      "In first extra while at k                1\n",
      "[10, 12]\n",
      "Out side While in merge \n",
      "[5, 4, 12, 10]\n",
      "\n",
      "Inside First Condition at k               0\n",
      "[4, 4, 12, 10]\n",
      "\n",
      "Inside First Condition at k               1\n",
      "[4, 5, 12, 10]\n",
      "\n",
      "In second extra while at k               2\n",
      "[4, 5, 10, 10]\n",
      "In second extra while at k               3\n",
      "[4, 5, 10, 12]\n",
      "[6, 0, 56, 8]\n",
      "[6, 0]\n",
      "[6]\n",
      "[0]\n",
      "Out side While in merge \n",
      "[6, 0]\n",
      "\n",
      "Inside First Condition at k               0\n",
      "[0, 0]\n",
      "\n",
      "In first extra while at k                1\n",
      "[0, 6]\n",
      "[56, 8]\n",
      "[56]\n",
      "[8]\n",
      "Out side While in merge \n",
      "[56, 8]\n",
      "\n",
      "Inside First Condition at k               0\n",
      "[8, 8]\n",
      "\n",
      "In first extra while at k                1\n",
      "[8, 56]\n",
      "Out side While in merge \n",
      "[6, 0, 56, 8]\n",
      "\n",
      "Inside First Condition at k               0\n",
      "[0, 0, 56, 8]\n",
      "\n",
      "Inside First Condition at k               1\n",
      "[0, 6, 56, 8]\n",
      "\n",
      "In second extra while at k               2\n",
      "[0, 6, 8, 8]\n",
      "In second extra while at k               3\n",
      "[0, 6, 8, 56]\n",
      "Out side While in merge \n",
      "[5, 4, 12, 10, 6, 0, 56, 8]\n",
      "\n",
      "Inside First Condition at k               0\n",
      "[0, 4, 12, 10, 6, 0, 56, 8]\n",
      "\n",
      "Inside First Condition at k               1\n",
      "[0, 4, 12, 10, 6, 0, 56, 8]\n",
      "\n",
      "Inside First Condition at k               2\n",
      "[0, 4, 5, 10, 6, 0, 56, 8]\n",
      "\n",
      "Inside First Condition at k               3\n",
      "[0, 4, 5, 6, 6, 0, 56, 8]\n",
      "\n",
      "Inside First Condition at k               4\n",
      "[0, 4, 5, 6, 8, 0, 56, 8]\n",
      "\n",
      "Inside First Condition at k               5\n",
      "[0, 4, 5, 6, 8, 10, 56, 8]\n",
      "\n",
      "Inside First Condition at k               6\n",
      "[0, 4, 5, 6, 8, 10, 12, 8]\n",
      "\n",
      "In second extra while at k               7\n",
      "[0, 4, 5, 6, 8, 10, 12, 56]\n"
     ]
    }
   ],
   "source": [
    "sort.MergeSort(arr)"
   ]
  },
  {
   "cell_type": "markdown",
   "metadata": {},
   "source": [
    "\n",
    "\n"
   ]
  },
  {
   "cell_type": "markdown",
   "metadata": {},
   "source": [
    "## 3. Insertion Sort"
   ]
  },
  {
   "cell_type": "markdown",
   "metadata": {},
   "source": [
    "``` ruby\n",
    "\n",
    "def insertion_sort(array):\n",
    "    \n",
    "    \"\"\"\n",
    "    1. This insertion sort function wil be divided into two sub array\n",
    "    2. first one will called sorted array and second one is called unsorted array \n",
    "    3. now we will pick one element from the unsorted check a suitable position for that element inside the sorted array\n",
    "    \n",
    "    \n",
    "    \"\"\"\n",
    "    \n",
    "    i = 1\n",
    "    j = 0 \n",
    "    # i will track the position for the sorted array\n",
    "    \n",
    "    if len(array)>1 :\n",
    "        \n",
    "        \n",
    "        \n",
    "        while i != len(array) :\n",
    "            temp = array[i]\n",
    "            \n",
    "            print(array)\n",
    "            print(f\"                                                   i  at {i}\")\n",
    "            \n",
    "            for j in range(len(array[:i])):\n",
    "                \n",
    "                if array[i-j-1] < temp:\n",
    "                    \n",
    "                    array[i-j] = temp\n",
    "                    print()\n",
    "                    print(\"Breaking loop \")\n",
    "                    \n",
    "                else:\n",
    "                    print(f\"swaping array element  {array[i-j-1]}  and {array[i-j]} \")\n",
    "                    array[i-j] = array[i-j-1]  \n",
    "                \n",
    "                \n",
    "                \n",
    "                print(array)\n",
    "            \n",
    "            i += 1 \n",
    "                  # increase the position inside the unsorted array\n",
    "  ```          "
   ]
  },
  {
   "cell_type": "markdown",
   "metadata": {},
   "source": [
    "### Insertion sort my code"
   ]
  },
  {
   "cell_type": "code",
   "execution_count": 58,
   "metadata": {},
   "outputs": [],
   "source": [
    "def Insertion_Sort(arr):\n",
    "    \n",
    "    \n",
    "    for i in range(1,len(arr)):  # This loop if to go right side in current array \n",
    "        \n",
    "        temp = arr[i]\n",
    "        j = i - 1\n",
    "        \n",
    "        while j >=0 and arr[j] > temp:  # this loop will run unitl the j is not equal zero\n",
    "                                        # of if the temp is temp > arr[j] this will it will terminate                             \n",
    "            \n",
    "            arr[j+1] = arr[j]\n",
    "            j -= 1 \n",
    "        \n",
    "        arr[j+1] = temp\n",
    "        \n",
    "    print(arr)"
   ]
  },
  {
   "cell_type": "code",
   "execution_count": 59,
   "metadata": {},
   "outputs": [
    {
     "name": "stdout",
     "output_type": "stream",
     "text": [
      "[0, 4, 5, 6, 8, 10, 12, 56]\n"
     ]
    }
   ],
   "source": [
    "arr = [4,5,12,10,6,0,56,8]\n",
    "Insertion_Sort(arr)"
   ]
  },
  {
   "cell_type": "code",
   "execution_count": 106,
   "metadata": {},
   "outputs": [],
   "source": [
    "def insertion_sort(array):\n",
    "\n",
    "    \"\"\"\n",
    "    1. This insertion sort function wil be divided into two sub array\n",
    "    2. first one will called sorted array and second one is called unsorted array \n",
    "    3. now we will pick one element from the unsorted check a suitable position for that element inside the sorted array\n",
    "\n",
    "\n",
    "    \"\"\"\n",
    "\n",
    "    i = 1\n",
    "    j = 0 \n",
    "    # i will track the position for the sorted array\n",
    "\n",
    "    if len(array)>1 :  # first of all we will check the array length , if it is one then there is  no need to sort the array\n",
    "\n",
    "\n",
    "\n",
    "        while i != len(array) :   # lopp will excute untill it reaches to the end of the array\n",
    "            temp = array[i]       # make a copy to current working element    \n",
    "\n",
    "            for j in range(len(array[:i])):   # This loop is for will search suitable location for the current element\n",
    "                                              # inside the sorted array \n",
    "                \n",
    "                if array[i-j-1] < temp:      # if the temp element is large from sorted array's element then \n",
    "                                             # loop will break and moves to next element\n",
    "                    break\n",
    "                    \n",
    "                else:\n",
    "                    \n",
    "                    array[i-j] = array[i-j-1]  # if temp element is samall then we will find the suitable location for it \n",
    "                                                # for that we moves the before element to current until it find location \n",
    "                    if array[i-j-1] > temp:    #  This will check if location is found or not if yes then it will place \n",
    "                        array[i-j-1] = temp    # the temp element to new location \n",
    "            i += 1 \n",
    "                  # increase the position inside the unsorted array\n",
    "    return array"
   ]
  },
  {
   "cell_type": "code",
   "execution_count": 109,
   "metadata": {
    "scrolled": false
   },
   "outputs": [
    {
     "data": {
      "text/plain": [
       "[0, 4, 5, 6, 8, 10, 12, 15, 20, 56]"
      ]
     },
     "execution_count": 109,
     "metadata": {},
     "output_type": "execute_result"
    }
   ],
   "source": [
    "arr = [15,5,4,12,10,6,0,56,8,20]\n",
    "insertion_sort(arr)"
   ]
  },
  {
   "cell_type": "markdown",
   "metadata": {},
   "source": [
    "## 4. Selection Sort"
   ]
  },
  {
   "cell_type": "code",
   "execution_count": 44,
   "metadata": {},
   "outputs": [],
   "source": [
    "def Selection_sort(arr):\n",
    "    \n",
    "    \"\"\"\n",
    "    1. In selection sort we have two sub array one is sorted and anoter is unsorted.\n",
    "    2. initially sorted array is empty\n",
    "    3. now our task is to find minimum element inside the main array and swap it with current location.\n",
    "    4. repeate this task for every element\n",
    "    \"\"\"\n",
    "    \n",
    "    for i in range(len(arr)-1):  # excute n-1 times\n",
    "            Min = i  # for tracing the location of minimum element\n",
    "            print(arr)\n",
    "            print()\n",
    "            \n",
    "            for j in range(len(arr)-i):  # will excute n times\n",
    "                \n",
    "                if arr[j+i] < arr[Min]:   # Now we will compare every last element to find minimum element  \n",
    "                    \n",
    "                    Min = j+i    # if we get our minimum element then we need to come out of the loop\n",
    "                    print(f\"In loop Min element {arr[Min]}\")  \n",
    "            # after this we will get our Minimum element \n",
    "              \n",
    "            if arr[Min] != arr[i]:\n",
    "                print(f\"\\nSwaping Min element {arr[Min]} \")    \n",
    "                arr[i] , arr[Min] = arr[Min], arr[i]\n",
    "              \n",
    "            \n",
    "    return arr"
   ]
  },
  {
   "cell_type": "code",
   "execution_count": 45,
   "metadata": {},
   "outputs": [],
   "source": [
    "arr = [15,5,4,12,10,6,0,56,8,20]"
   ]
  },
  {
   "cell_type": "code",
   "execution_count": 46,
   "metadata": {},
   "outputs": [
    {
     "name": "stdout",
     "output_type": "stream",
     "text": [
      "[15, 5, 4, 12, 10, 6, 0, 56, 8, 20]\n",
      "\n",
      "In loop Min element 5\n",
      "In loop Min element 4\n",
      "In loop Min element 0\n",
      "\n",
      "Swaping Min element 0 \n",
      "[0, 5, 4, 12, 10, 6, 15, 56, 8, 20]\n",
      "\n",
      "In loop Min element 4\n",
      "\n",
      "Swaping Min element 4 \n",
      "[0, 4, 5, 12, 10, 6, 15, 56, 8, 20]\n",
      "\n",
      "[0, 4, 5, 12, 10, 6, 15, 56, 8, 20]\n",
      "\n",
      "In loop Min element 10\n",
      "In loop Min element 6\n",
      "\n",
      "Swaping Min element 6 \n",
      "[0, 4, 5, 6, 10, 12, 15, 56, 8, 20]\n",
      "\n",
      "In loop Min element 8\n",
      "\n",
      "Swaping Min element 8 \n",
      "[0, 4, 5, 6, 8, 12, 15, 56, 10, 20]\n",
      "\n",
      "In loop Min element 10\n",
      "\n",
      "Swaping Min element 10 \n",
      "[0, 4, 5, 6, 8, 10, 15, 56, 12, 20]\n",
      "\n",
      "In loop Min element 12\n",
      "\n",
      "Swaping Min element 12 \n",
      "[0, 4, 5, 6, 8, 10, 12, 56, 15, 20]\n",
      "\n",
      "In loop Min element 15\n",
      "\n",
      "Swaping Min element 15 \n",
      "[0, 4, 5, 6, 8, 10, 12, 15, 56, 20]\n",
      "\n",
      "In loop Min element 20\n",
      "\n",
      "Swaping Min element 20 \n"
     ]
    },
    {
     "data": {
      "text/plain": [
       "[0, 4, 5, 6, 8, 10, 12, 15, 20, 56]"
      ]
     },
     "execution_count": 46,
     "metadata": {},
     "output_type": "execute_result"
    }
   ],
   "source": [
    "Selection_sort(arr)"
   ]
  },
  {
   "cell_type": "markdown",
   "metadata": {},
   "source": [
    "## 5. Quick sort\n",
    "\n",
    "\n",
    "1. First of all we will se the partition part of the quick alogorithm\n",
    "2. then we will apply this partition algotithm inside the Quick sort function "
   ]
  },
  {
   "cell_type": "code",
   "execution_count": 33,
   "metadata": {},
   "outputs": [],
   "source": [
    "def partition(arr, lb,ub):\n",
    "    \n",
    "    print(arr)\n",
    "    \n",
    "    \"\"\"\n",
    "        1. First of all select the Pivot element\n",
    "        2. make start and end variable  to track the elements which is need to swap after every check\n",
    "        3. As start we will go left to right \n",
    "        4. and as end we will go Right to left\n",
    "        5. if end crosses the start we will stop swaping \n",
    "        6. Now our New Pivot will be at end position\n",
    "        7. Pivot = end \n",
    "    \n",
    "    \"\"\"\n",
    "    \n",
    "    \n",
    "    start = lb    # This will track the smaller element  to pivot\n",
    "    end = ub-1      # Ths will track the large element to pivot \n",
    "    \n",
    "    Pivot = (start + (end+1))// 2   # As Pivot we will start from mid \n",
    "        \n",
    "    print(f\"\\nstart point: {start}      end point: {end}      Pivot point: {Pivot}      Pivot element: {arr[Pivot]}\\n\")    \n",
    "        \n",
    "        \n",
    "    while start < end:   # if arr[end] is large then arr[start] value then this will \n",
    "        \n",
    "        while  arr[start] < arr[Pivot]:\n",
    "            \n",
    "            \n",
    "            start += 1\n",
    "            \n",
    "        while arr[end] > arr[Pivot]:\n",
    "            \n",
    "            end -= 1\n",
    "            \n",
    "        print(f\"start point: {start}      end point: {end}      Pivot point: {Pivot}      Pivot element: {arr[Pivot]}\")\n",
    "        print(arr)\n",
    "        arr[start] , arr[end]  = arr[end] , arr[start]\n",
    "        print()\n",
    "    print(arr)"
   ]
  },
  {
   "cell_type": "code",
   "execution_count": 34,
   "metadata": {},
   "outputs": [
    {
     "name": "stdout",
     "output_type": "stream",
     "text": [
      "[15, 5, 4, 12, 10, 6, 0, 56, 8, 20]\n",
      "\n",
      "start point: 0      end point: 9      Pivot point: 5      Pivot element: 6\n",
      "\n",
      "start point: 0      end point: 6      Pivot point: 5      Pivot element: 6\n",
      "[15, 5, 4, 12, 10, 6, 0, 56, 8, 20]\n",
      "\n",
      "start point: 3      end point: 5      Pivot point: 5      Pivot element: 6\n",
      "[0, 5, 4, 12, 10, 6, 15, 56, 8, 20]\n",
      "\n",
      "start point: 5      end point: 5      Pivot point: 5      Pivot element: 12\n",
      "[0, 5, 4, 6, 10, 12, 15, 56, 8, 20]\n",
      "\n",
      "[0, 5, 4, 6, 10, 12, 15, 56, 8, 20]\n"
     ]
    }
   ],
   "source": [
    "arr = [15,5,4,12,10,6,0,56,8,20]\n",
    "partition(arr,0, len(arr))"
   ]
  },
  {
   "cell_type": "code",
   "execution_count": 36,
   "metadata": {},
   "outputs": [
    {
     "name": "stdout",
     "output_type": "stream",
     "text": [
      "[0, 4, 5, 6, 10, 12, 15, 56, 8, 20]\n",
      "\n",
      "start point: 0      end point: 3      Pivot point: 2      Pivot element: 5\n",
      "\n",
      "start point: 2      end point: 2      Pivot point: 2      Pivot element: 5\n",
      "[0, 4, 5, 6, 10, 12, 15, 56, 8, 20]\n",
      "\n",
      "[0, 4, 5, 6, 10, 12, 15, 56, 8, 20]\n"
     ]
    }
   ],
   "source": [
    "partition(arr,0,5-1)"
   ]
  },
  {
   "cell_type": "code",
   "execution_count": 37,
   "metadata": {},
   "outputs": [
    {
     "name": "stdout",
     "output_type": "stream",
     "text": [
      "[0, 4, 5, 6, 10, 12, 15, 56, 8, 20]\n",
      "\n",
      "start point: 6      end point: 8      Pivot point: 7      Pivot element: 56\n",
      "\n",
      "start point: 7      end point: 8      Pivot point: 7      Pivot element: 56\n",
      "[0, 4, 5, 6, 10, 12, 15, 56, 8, 20]\n",
      "\n",
      "start point: 7      end point: 7      Pivot point: 7      Pivot element: 8\n",
      "[0, 4, 5, 6, 10, 12, 15, 8, 56, 20]\n",
      "\n",
      "[0, 4, 5, 6, 10, 12, 15, 8, 56, 20]\n"
     ]
    }
   ],
   "source": [
    "partition(arr,5+1,len(arr)-1)"
   ]
  },
  {
   "cell_type": "code",
   "execution_count": 65,
   "metadata": {},
   "outputs": [],
   "source": [
    "def Quick_Sort(arr,lb, ub):\n",
    "    \n",
    "    \n",
    "    # First we will apply the partition\n",
    "\n",
    "        start = lb\n",
    "        end = ub-1   \n",
    "        pivot = (lb+ub) // 2\n",
    "\n",
    "        if end >= lb: \n",
    "            \n",
    "            while start < end:\n",
    "\n",
    "                    #print(f\" start is: {start}      end is: {end}      Pivot is: {pivot}\")\n",
    "                    #print(arr[start:end])\n",
    "\n",
    "                    while arr[start] <arr[pivot]:\n",
    "                        start += 1\n",
    "\n",
    "                    while arr[end] > arr[pivot]:\n",
    "                        end -= 1\n",
    "\n",
    "                    if start < end:\n",
    "\n",
    "                        arr[start] , arr[end]  = arr[end] , arr[start]\n",
    "\n",
    "           # print(f\" lb : {lb} and end: {end}   and pivot:{pivot}\")\n",
    "\n",
    "\n",
    "            \n",
    "\n",
    "            Quick_Sort(arr,lb , end-1 )\n",
    "            Quick_Sort(arr, end+1,ub)\n",
    "            \n",
    "        \n",
    "#====================================================================================================\n",
    "        # after above excution we will get the sorted sub array up to pivot point in every block of recurion\n",
    "        # in which one last element if laft to sort that is pivot element \n",
    "        # we will swap the pivot element if it is smaller than the prevoius one\n",
    "\n",
    "            if pivot >= (lb+ub)//2 and pivot <len(arr)-1: # check for the pivot point in every stage \n",
    "                last = pivot+1\n",
    "\n",
    "                if arr[last]<arr[last-1]:    # we get back to the pivot point we will check the  our pivot element is samml or not \n",
    "\n",
    "                    while arr[last] < arr[last-1]: # if is is small then swap until it gets right position for it\n",
    "\n",
    "                        arr[last] , arr[last-1] = arr[last-1], arr[last] # if it \n",
    "\n",
    "                        last -=1\n"
   ]
  },
  {
   "cell_type": "code",
   "execution_count": 63,
   "metadata": {},
   "outputs": [
    {
     "data": {
      "text/plain": [
       "[0, 4, 5, 6, 8, 10, 12, 15, 17, 20, 21, 25, 56, 32]"
      ]
     },
     "execution_count": 63,
     "metadata": {},
     "output_type": "execute_result"
    }
   ],
   "source": [
    "\n",
    "arr = [15,5,4,12,10,17,6,0,56,8,20,21,25,32]\n",
    "Quick_Sort(arr, 0 , len(arr))\n",
    "arr"
   ]
  },
  {
   "cell_type": "code",
   "execution_count": 67,
   "metadata": {},
   "outputs": [],
   "source": [
    "test = [21, 4, 1, 3, 9, 20, 25, 6, 21, 14]"
   ]
  },
  {
   "cell_type": "code",
   "execution_count": 7,
   "metadata": {},
   "outputs": [],
   "source": [
    "def quick_sort(arr, lb , ub):\n",
    "        \n",
    "    start = lb\n",
    "    end = ub    \n",
    "    \n",
    "    if lb< len(arr) and end>=lb:\n",
    "        \n",
    "        pivot = arr[lb]\n",
    " \n",
    "        while start< end:\n",
    "            \n",
    "            while arr[start] <= pivot:\n",
    "                start += 1\n",
    "                \n",
    "            while arr[end] > pivot:\n",
    "                end -= 1\n",
    "                \n",
    "            if start < end:\n",
    "                \n",
    "                arr[start] , arr[end] = arr[end] , arr[start]\n",
    "                \n",
    "                #print(arr)\n",
    "        \n",
    "        #print(f\"\\nswaping Pivot  and start point {arr[start-1]}   at pivot {arr[lb]}\")\n",
    "        #\n",
    "        if arr[lb]> arr[end]:\n",
    "            \n",
    "            arr[lb], arr[end]  = arr[end] , arr[lb]\n",
    "       \n",
    "        quick_sort(arr, lb,end-1)\n",
    "        quick_sort(arr,end+1,ub)"
   ]
  },
  {
   "cell_type": "code",
   "execution_count": 8,
   "metadata": {},
   "outputs": [
    {
     "data": {
      "text/plain": [
       "[1, 3, 4, 6, 9, 14, 20, 21, 21, 25]"
      ]
     },
     "execution_count": 8,
     "metadata": {},
     "output_type": "execute_result"
    }
   ],
   "source": [
    "arr = [21, 4, 1, 3, 9, 20, 25, 6, 21, 14]\n",
    "\n",
    "quick_sort(arr, 0 , len(arr)-1)\n",
    "arr"
   ]
  },
  {
   "cell_type": "code",
   "execution_count": 35,
   "metadata": {},
   "outputs": [
    {
     "data": {
      "text/plain": [
       "[25, 4, 1, 6, 9, 20, 14, 21, 21, 3]"
      ]
     },
     "execution_count": 35,
     "metadata": {},
     "output_type": "execute_result"
    }
   ],
   "source": [
    "arr"
   ]
  },
  {
   "cell_type": "code",
   "execution_count": 9,
   "metadata": {},
   "outputs": [
    {
     "ename": "IndexError",
     "evalue": "list index out of range",
     "output_type": "error",
     "traceback": [
      "\u001b[1;31m---------------------------------------------------------------------------\u001b[0m",
      "\u001b[1;31mIndexError\u001b[0m                                Traceback (most recent call last)",
      "\u001b[1;32m<ipython-input-9-e543ec4cf4b6>\u001b[0m in \u001b[0;36m<module>\u001b[1;34m\u001b[0m\n\u001b[0;32m      1\u001b[0m \u001b[0marr\u001b[0m \u001b[1;33m=\u001b[0m \u001b[1;33m[\u001b[0m\u001b[1;36m15\u001b[0m\u001b[1;33m,\u001b[0m\u001b[1;36m5\u001b[0m\u001b[1;33m,\u001b[0m\u001b[1;36m4\u001b[0m\u001b[1;33m,\u001b[0m\u001b[1;36m12\u001b[0m\u001b[1;33m,\u001b[0m\u001b[1;36m10\u001b[0m\u001b[1;33m,\u001b[0m\u001b[1;36m17\u001b[0m\u001b[1;33m,\u001b[0m\u001b[1;36m6\u001b[0m\u001b[1;33m,\u001b[0m\u001b[1;36m0\u001b[0m\u001b[1;33m,\u001b[0m\u001b[1;36m56\u001b[0m\u001b[1;33m,\u001b[0m\u001b[1;36m8\u001b[0m\u001b[1;33m,\u001b[0m\u001b[1;36m20\u001b[0m\u001b[1;33m,\u001b[0m\u001b[1;36m21\u001b[0m\u001b[1;33m,\u001b[0m\u001b[1;36m25\u001b[0m\u001b[1;33m,\u001b[0m\u001b[1;36m32\u001b[0m\u001b[1;33m]\u001b[0m\u001b[1;33m\u001b[0m\u001b[1;33m\u001b[0m\u001b[0m\n\u001b[1;32m----> 2\u001b[1;33m \u001b[0mquick_sort\u001b[0m\u001b[1;33m(\u001b[0m\u001b[0marr\u001b[0m\u001b[1;33m,\u001b[0m \u001b[1;36m0\u001b[0m \u001b[1;33m,\u001b[0m \u001b[0mlen\u001b[0m\u001b[1;33m(\u001b[0m\u001b[0marr\u001b[0m\u001b[1;33m)\u001b[0m\u001b[1;33m-\u001b[0m\u001b[1;36m1\u001b[0m\u001b[1;33m)\u001b[0m\u001b[1;33m\u001b[0m\u001b[1;33m\u001b[0m\u001b[0m\n\u001b[0m\u001b[0;32m      3\u001b[0m \u001b[0marr\u001b[0m\u001b[1;33m\u001b[0m\u001b[1;33m\u001b[0m\u001b[0m\n",
      "\u001b[1;32m<ipython-input-7-a94df40fc487>\u001b[0m in \u001b[0;36mquick_sort\u001b[1;34m(arr, lb, ub)\u001b[0m\n\u001b[0;32m     29\u001b[0m \u001b[1;33m\u001b[0m\u001b[0m\n\u001b[0;32m     30\u001b[0m         \u001b[0mquick_sort\u001b[0m\u001b[1;33m(\u001b[0m\u001b[0marr\u001b[0m\u001b[1;33m,\u001b[0m \u001b[0mlb\u001b[0m\u001b[1;33m,\u001b[0m\u001b[0mend\u001b[0m\u001b[1;33m-\u001b[0m\u001b[1;36m1\u001b[0m\u001b[1;33m)\u001b[0m\u001b[1;33m\u001b[0m\u001b[1;33m\u001b[0m\u001b[0m\n\u001b[1;32m---> 31\u001b[1;33m         \u001b[0mquick_sort\u001b[0m\u001b[1;33m(\u001b[0m\u001b[0marr\u001b[0m\u001b[1;33m,\u001b[0m\u001b[0mend\u001b[0m\u001b[1;33m+\u001b[0m\u001b[1;36m1\u001b[0m\u001b[1;33m,\u001b[0m\u001b[0mub\u001b[0m\u001b[1;33m)\u001b[0m\u001b[1;33m\u001b[0m\u001b[1;33m\u001b[0m\u001b[0m\n\u001b[0m",
      "\u001b[1;32m<ipython-input-7-a94df40fc487>\u001b[0m in \u001b[0;36mquick_sort\u001b[1;34m(arr, lb, ub)\u001b[0m\n\u001b[0;32m     10\u001b[0m         \u001b[1;32mwhile\u001b[0m \u001b[0mstart\u001b[0m\u001b[1;33m<\u001b[0m \u001b[0mend\u001b[0m\u001b[1;33m:\u001b[0m\u001b[1;33m\u001b[0m\u001b[1;33m\u001b[0m\u001b[0m\n\u001b[0;32m     11\u001b[0m \u001b[1;33m\u001b[0m\u001b[0m\n\u001b[1;32m---> 12\u001b[1;33m             \u001b[1;32mwhile\u001b[0m \u001b[0marr\u001b[0m\u001b[1;33m[\u001b[0m\u001b[0mstart\u001b[0m\u001b[1;33m]\u001b[0m \u001b[1;33m<=\u001b[0m \u001b[0mpivot\u001b[0m\u001b[1;33m:\u001b[0m\u001b[1;33m\u001b[0m\u001b[1;33m\u001b[0m\u001b[0m\n\u001b[0m\u001b[0;32m     13\u001b[0m                 \u001b[0mstart\u001b[0m \u001b[1;33m+=\u001b[0m \u001b[1;36m1\u001b[0m\u001b[1;33m\u001b[0m\u001b[1;33m\u001b[0m\u001b[0m\n\u001b[0;32m     14\u001b[0m \u001b[1;33m\u001b[0m\u001b[0m\n",
      "\u001b[1;31mIndexError\u001b[0m: list index out of range"
     ]
    }
   ],
   "source": [
    "arr = [15,5,4,12,10,17,6,0,56,8,20,21,25,32]\n",
    "quick_sort(arr, 0 , len(arr)-1)\n",
    "arr"
   ]
  },
  {
   "cell_type": "code",
   "execution_count": null,
   "metadata": {},
   "outputs": [],
   "source": []
  }
 ],
 "metadata": {
  "kernelspec": {
   "display_name": "Python 3",
   "language": "python",
   "name": "python3"
  },
  "language_info": {
   "codemirror_mode": {
    "name": "ipython",
    "version": 3
   },
   "file_extension": ".py",
   "mimetype": "text/x-python",
   "name": "python",
   "nbconvert_exporter": "python",
   "pygments_lexer": "ipython3",
   "version": "3.8.3"
  }
 },
 "nbformat": 4,
 "nbformat_minor": 4
}
