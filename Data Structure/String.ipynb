{
 "cells": [
  {
   "cell_type": "code",
   "execution_count": 1,
   "metadata": {},
   "outputs": [
    {
     "data": {
      "text/plain": [
       "97"
      ]
     },
     "execution_count": 1,
     "metadata": {},
     "output_type": "execute_result"
    }
   ],
   "source": [
    "ord('a')"
   ]
  },
  {
   "cell_type": "code",
   "execution_count": 2,
   "metadata": {},
   "outputs": [
    {
     "data": {
      "text/plain": [
       "105"
      ]
     },
     "execution_count": 2,
     "metadata": {},
     "output_type": "execute_result"
    }
   ],
   "source": [
    "ord('i')"
   ]
  },
  {
   "cell_type": "code",
   "execution_count": 3,
   "metadata": {},
   "outputs": [],
   "source": [
    "s1 = 'a'\n",
    "s2 = 'i'"
   ]
  },
  {
   "cell_type": "code",
   "execution_count": 4,
   "metadata": {},
   "outputs": [
    {
     "data": {
      "text/plain": [
       "True"
      ]
     },
     "execution_count": 4,
     "metadata": {},
     "output_type": "execute_result"
    }
   ],
   "source": [
    "s1<s2"
   ]
  },
  {
   "cell_type": "code",
   "execution_count": 5,
   "metadata": {},
   "outputs": [
    {
     "data": {
      "text/plain": [
       "65"
      ]
     },
     "execution_count": 5,
     "metadata": {},
     "output_type": "execute_result"
    }
   ],
   "source": [
    "ord('A')"
   ]
  },
  {
   "cell_type": "code",
   "execution_count": 20,
   "metadata": {},
   "outputs": [
    {
     "data": {
      "text/plain": [
       "17"
      ]
     },
     "execution_count": 20,
     "metadata": {},
     "output_type": "execute_result"
    }
   ],
   "source": [
    "# String Opertation \n",
    "\n",
    "#1. Find the index of Sub string\n",
    "\n",
    "s1 = \"Hello my name is manish and i am an engineer and my full name is manish Kumar\"\n",
    "\n",
    "s2  = \"manish\"\n",
    "\n",
    "s1.index(s2)"
   ]
  },
  {
   "cell_type": "code",
   "execution_count": 21,
   "metadata": {},
   "outputs": [
    {
     "data": {
      "text/plain": [
       "'manish'"
      ]
     },
     "execution_count": 21,
     "metadata": {},
     "output_type": "execute_result"
    }
   ],
   "source": [
    "s1[17:int(17+len(s2))]"
   ]
  },
  {
   "cell_type": "code",
   "execution_count": 22,
   "metadata": {},
   "outputs": [
    {
     "data": {
      "text/plain": [
       "'manish'"
      ]
     },
     "execution_count": 22,
     "metadata": {},
     "output_type": "execute_result"
    }
   ],
   "source": [
    "s1[17:23]"
   ]
  },
  {
   "cell_type": "code",
   "execution_count": 23,
   "metadata": {},
   "outputs": [
    {
     "data": {
      "text/plain": [
       "65"
      ]
     },
     "execution_count": 23,
     "metadata": {},
     "output_type": "execute_result"
    }
   ],
   "source": [
    "s1.rindex(s2)"
   ]
  },
  {
   "cell_type": "code",
   "execution_count": 24,
   "metadata": {},
   "outputs": [],
   "source": [
    "s3 = \"Manish\""
   ]
  },
  {
   "cell_type": "code",
   "execution_count": 25,
   "metadata": {},
   "outputs": [
    {
     "data": {
      "text/plain": [
       "False"
      ]
     },
     "execution_count": 25,
     "metadata": {},
     "output_type": "execute_result"
    }
   ],
   "source": [
    "s1.islower()"
   ]
  },
  {
   "cell_type": "code",
   "execution_count": 32,
   "metadata": {},
   "outputs": [],
   "source": [
    "s1 = s1.lower()"
   ]
  },
  {
   "cell_type": "code",
   "execution_count": 33,
   "metadata": {},
   "outputs": [
    {
     "data": {
      "text/plain": [
       "True"
      ]
     },
     "execution_count": 33,
     "metadata": {},
     "output_type": "execute_result"
    }
   ],
   "source": [
    "s1.islower()"
   ]
  },
  {
   "cell_type": "code",
   "execution_count": 26,
   "metadata": {},
   "outputs": [
    {
     "data": {
      "text/plain": [
       "True"
      ]
     },
     "execution_count": 26,
     "metadata": {},
     "output_type": "execute_result"
    }
   ],
   "source": [
    "s2.islower()"
   ]
  },
  {
   "cell_type": "code",
   "execution_count": 27,
   "metadata": {},
   "outputs": [
    {
     "data": {
      "text/plain": [
       "False"
      ]
     },
     "execution_count": 27,
     "metadata": {},
     "output_type": "execute_result"
    }
   ],
   "source": [
    "s3.islower()"
   ]
  },
  {
   "cell_type": "code",
   "execution_count": 34,
   "metadata": {},
   "outputs": [],
   "source": [
    "# Startwith and endwith operation on String\n"
   ]
  },
  {
   "cell_type": "markdown",
   "metadata": {},
   "source": [
    "### 1. Pattern Searching"
   ]
  },
  {
   "cell_type": "code",
   "execution_count": 81,
   "metadata": {},
   "outputs": [],
   "source": [
    "s1 = \"hello geeks for geeks\"\n",
    "s2 = \"AAAAA\"\n",
    "\n",
    "def search_pattern(String,pattern):\n",
    "    \n",
    "    \"\"\" String is the data set type of string in which we are going to find\n",
    "        the pattern it means 'pattern' is a string to be which found out \n",
    "    \"\"\"\n",
    "    \n",
    "    index = 0   # index variable will track the result and will move to \n",
    "                # the next result if it exist\n",
    "            \n",
    "    locs = []   # This locs variable will save all the index result\n",
    "    \n",
    "    while 1: \n",
    "        \n",
    "        #  Since find method only return onlr first occurence of the matched\n",
    "        #  string so we are going to exxute inside the while loop\n",
    "        index = String.find(pattern,index,len(String))\n",
    "        \n",
    "        # if it founds some result then we will append the result in locs\n",
    "        # list and then we increase the index by one to find next occurence \n",
    "        # of the 'pattern string'\n",
    "        \n",
    "        # if no result is found we will get -1 as result \n",
    "        # if result is -1, we breaks the while loop\n",
    "        \n",
    "        if index == -1:\n",
    "            break\n",
    "        \n",
    "        else:\n",
    "            locs.append(index)\n",
    "            index +=1 \n",
    "        \n",
    "       \n",
    "    if len(locs)>0:\n",
    "        # if list is not empty\n",
    "        # we returns the all occurence index as list ('locs')\n",
    "        return locs\n",
    "    else:\n",
    "        \n",
    "        # if locs list is empty it means there is no occurence of the pattern\n",
    "        # string inside the data set\n",
    "        # then we will return -1 as a sign of Not found\n",
    "        return -1"
   ]
  },
  {
   "cell_type": "markdown",
   "metadata": {},
   "source": [
    "### 2.check for  Palindrome "
   ]
  },
  {
   "cell_type": "code",
   "execution_count": 36,
   "metadata": {},
   "outputs": [],
   "source": [
    "# first method will be as reverse functions \n",
    "\n",
    "def palindrome_reverse(string):\n",
    "    \n",
    "    reverse = \"\"\n",
    "    \n",
    "    for i in string:\n",
    "        reverse = i + reverse\n",
    "        \n",
    "    if reverse == string: \n",
    "        print(\"string is palindrome : yes\")\n",
    "    else: \n",
    "        print(\"string is palindrome : No\")\n",
    "\n",
    "        \n",
    "#______________________________________________________        \n",
    "def palindrome(string):\n",
    "    \n",
    "    low = 0\n",
    "    high = len(string)-1\n",
    "    pdm = False\n",
    "    \n",
    "    if len(string)==1:\n",
    "        pdm = True\n",
    "    \n",
    "    elif len(string)%2 == 0:\n",
    "        \n",
    "        while low !=high +1 :\n",
    "            print(low , high)\n",
    "            if string[low] == string[high]:\n",
    "                \n",
    "                low +=1\n",
    "                high -=1\n",
    "                pdm = True\n",
    "            else:\n",
    "                pdm = False\n",
    "                break\n",
    "    else:\n",
    "\n",
    "        while low != high:\n",
    "            print(low, high)\n",
    "            if string[low] == string[high]:\n",
    "                low +=1\n",
    "                high -=1\n",
    "                pdm = True\n",
    "\n",
    "            else:\n",
    "                pdm = False\n",
    "                break\n",
    "\n",
    "    if pdm == True:\n",
    "        print(\"yes\")\n",
    "    else:\n",
    "        print(\"no\")\n",
    "        \n",
    "        \n",
    "\n",
    "#_____________________________________________________________________________\n",
    "\n",
    "def palindrome2(string):\n",
    "    \n",
    "    low = 0 \n",
    "    high = len(string)-1\n",
    "    \n",
    "    while low < high :\n",
    "        \n",
    "        if string[low] != string[high]:\n",
    "            print(\"no\")\n",
    "            break\n",
    "        \n",
    "        low +=1\n",
    "        high -=1\n",
    "    \n",
    "    else:\n",
    "        print(\"yes\")"
   ]
  },
  {
   "cell_type": "code",
   "execution_count": 37,
   "metadata": {},
   "outputs": [
    {
     "name": "stdout",
     "output_type": "stream",
     "text": [
      "yes\n"
     ]
    }
   ],
   "source": [
    "palindrome2(\"ABGBA\")"
   ]
  },
  {
   "cell_type": "code",
   "execution_count": 39,
   "metadata": {},
   "outputs": [
    {
     "name": "stdout",
     "output_type": "stream",
     "text": [
      "yes\n"
     ]
    }
   ],
   "source": [
    "palindrome2(\"abgba\")"
   ]
  },
  {
   "cell_type": "code",
   "execution_count": 40,
   "metadata": {},
   "outputs": [
    {
     "name": "stdout",
     "output_type": "stream",
     "text": [
      "no\n"
     ]
    }
   ],
   "source": [
    "palindrome2('abc')"
   ]
  },
  {
   "cell_type": "code",
   "execution_count": 41,
   "metadata": {},
   "outputs": [
    {
     "name": "stdout",
     "output_type": "stream",
     "text": [
      "yes\n"
     ]
    }
   ],
   "source": [
    "palindrome2(\"abba\")"
   ]
  },
  {
   "cell_type": "code",
   "execution_count": 42,
   "metadata": {},
   "outputs": [
    {
     "name": "stdout",
     "output_type": "stream",
     "text": [
      "yes\n"
     ]
    }
   ],
   "source": [
    "palindrome2(\"a\")"
   ]
  },
  {
   "cell_type": "markdown",
   "metadata": {},
   "source": [
    "### 3. Check the string for anagram"
   ]
  },
  {
   "cell_type": "markdown",
   "metadata": {},
   "source": [
    "#### Method 1"
   ]
  },
  {
   "cell_type": "code",
   "execution_count": 43,
   "metadata": {},
   "outputs": [],
   "source": [
    "def Are_Anagram(s1,s2):\n",
    "    \n",
    "    if len(s1) !=len(s2):\n",
    "        return False\n",
    "    \n",
    "    s1 = sorted(s1)\n",
    "    s2 = sorted(s2)\n",
    "    \n",
    "    return (s1==s2)"
   ]
  },
  {
   "cell_type": "code",
   "execution_count": 47,
   "metadata": {},
   "outputs": [
    {
     "data": {
      "text/plain": [
       "True"
      ]
     },
     "execution_count": 47,
     "metadata": {},
     "output_type": "execute_result"
    }
   ],
   "source": [
    "s1 = 'listen'\n",
    "s2 = \"silent\"\n",
    "Are_Anagram(s1,s2)"
   ]
  },
  {
   "cell_type": "code",
   "execution_count": 46,
   "metadata": {},
   "outputs": [
    {
     "data": {
      "text/plain": [
       "True"
      ]
     },
     "execution_count": 46,
     "metadata": {},
     "output_type": "execute_result"
    }
   ],
   "source": [
    "s1 = \"abbacd\"\n",
    "s2 = \"ababdc\"\n",
    "\n",
    "Are_Anagram(s1,s2)"
   ]
  },
  {
   "cell_type": "code",
   "execution_count": 80,
   "metadata": {},
   "outputs": [],
   "source": [
    "def Are_Anagram2(s1, s2):\n",
    "    \n",
    "    if len(s1) != len(s2):\n",
    "        return False\n",
    "    \n",
    "\n",
    "    def str_to_dic(string):\n",
    "        dic = {}\n",
    "        \n",
    "        for i in string:\n",
    "            if i not in dic:\n",
    "                dic[i] = 1\n",
    "            else:\n",
    "                dic[i] = 1 + dic.get(i)\n",
    "        return dic\n",
    "           \n",
    "    \n",
    "    dic1 = str_to_dic(s1)\n",
    "    dic2 = str_to_dic(s2)\n",
    "    \n",
    "    key1 = dic1.keys()\n",
    "    key2 = dic2.keys()\n",
    "    \n",
    "    \n",
    "    \n",
    "    print(key1)\n",
    "    print(key2)\n",
    "    \n",
    "    for i,j in zip(key1,key2):\n",
    "        \n",
    "        print(i,j)\n",
    "        \n",
    "        if i in key2 and j in key1:\n",
    "            \n",
    "            if dic1[i] != dic2[i]:\n",
    "                return False         \n",
    "             \n",
    "        else:\n",
    "            return False            \n",
    "    \n",
    "    return True\n"
   ]
  },
  {
   "cell_type": "code",
   "execution_count": 81,
   "metadata": {},
   "outputs": [
    {
     "name": "stdout",
     "output_type": "stream",
     "text": [
      "dict_keys(['l', 'i', 's', 't', 'e', 'n'])\n",
      "dict_keys(['s', 'i', 'l', 'e', 'n', 't'])\n",
      "l s\n",
      "i i\n",
      "s l\n",
      "t e\n",
      "e n\n",
      "n t\n"
     ]
    },
    {
     "data": {
      "text/plain": [
       "True"
      ]
     },
     "execution_count": 81,
     "metadata": {},
     "output_type": "execute_result"
    }
   ],
   "source": [
    "s1 = 'listen'\n",
    "s2 = \"silent\"\n",
    "\n",
    "Are_Anagram2(s1,s2)"
   ]
  },
  {
   "cell_type": "code",
   "execution_count": 82,
   "metadata": {},
   "outputs": [
    {
     "name": "stdout",
     "output_type": "stream",
     "text": [
      "dict_keys(['a', 'b', 'c', 'd'])\n",
      "dict_keys(['a', 'b', 'd', 'c'])\n",
      "a a\n",
      "b b\n",
      "c d\n",
      "d c\n"
     ]
    },
    {
     "data": {
      "text/plain": [
       "True"
      ]
     },
     "execution_count": 82,
     "metadata": {},
     "output_type": "execute_result"
    }
   ],
   "source": [
    "s1 = \"abbacd\"\n",
    "s2 = \"ababdc\"\n",
    "\n",
    "Are_Anagram2(s1,s2)"
   ]
  },
  {
   "cell_type": "code",
   "execution_count": 83,
   "metadata": {},
   "outputs": [
    {
     "name": "stdout",
     "output_type": "stream",
     "text": [
      "dict_keys(['a', 'b', 'c', 'f'])\n",
      "dict_keys(['a', 'b', 'd', 'c'])\n",
      "a a\n",
      "b b\n",
      "c d\n"
     ]
    },
    {
     "data": {
      "text/plain": [
       "False"
      ]
     },
     "execution_count": 83,
     "metadata": {},
     "output_type": "execute_result"
    }
   ],
   "source": [
    "s1 = \"abbacf\"\n",
    "s2 = \"ababdc\"\n",
    "\n",
    "Are_Anagram2(s1,s2)"
   ]
  },
  {
   "cell_type": "markdown",
   "metadata": {},
   "source": [
    "#### method 3"
   ]
  },
  {
   "cell_type": "code",
   "execution_count": 91,
   "metadata": {},
   "outputs": [],
   "source": [
    "def Are_Anagram3(s1, s2):\n",
    "    \n",
    "    if len(s1) != len(s2):\n",
    "        return False\n",
    "    \n",
    "           \n",
    "    def str_to_intvalue(string):\n",
    "        \n",
    "        value = 0\n",
    "        \n",
    "        for i in string:\n",
    "            \n",
    "            value += ord(i)\n",
    "            \n",
    "        return value\n",
    "        \n",
    "#_______________________________________________________________        \n",
    "   \n",
    "    val1 = str_to_intvalue(s1)\n",
    "    val2 = str_to_intvalue(s2)\n",
    "    \n",
    "    if (val1-val2) == 0:\n",
    "        return True\n",
    "    else:\n",
    "        return False\n"
   ]
  },
  {
   "cell_type": "code",
   "execution_count": 92,
   "metadata": {},
   "outputs": [
    {
     "data": {
      "text/plain": [
       "True"
      ]
     },
     "execution_count": 92,
     "metadata": {},
     "output_type": "execute_result"
    }
   ],
   "source": [
    "s1 = 'listen'\n",
    "s2 = \"silent\"\n",
    "\n",
    "Are_Anagram3(s1,s2)"
   ]
  },
  {
   "cell_type": "code",
   "execution_count": 93,
   "metadata": {},
   "outputs": [
    {
     "data": {
      "text/plain": [
       "True"
      ]
     },
     "execution_count": 93,
     "metadata": {},
     "output_type": "execute_result"
    }
   ],
   "source": [
    "s1 = \"abbacd\"\n",
    "s2 = \"ababdc\"\n",
    "\n",
    "Are_Anagram3(s1,s2)"
   ]
  },
  {
   "cell_type": "code",
   "execution_count": 94,
   "metadata": {},
   "outputs": [
    {
     "data": {
      "text/plain": [
       "False"
      ]
     },
     "execution_count": 94,
     "metadata": {},
     "output_type": "execute_result"
    }
   ],
   "source": [
    "s1 = \"abbacf\"\n",
    "s2 = \"ababdc\"\n",
    "\n",
    "Are_Anagram3(s1,s2)"
   ]
  },
  {
   "cell_type": "markdown",
   "metadata": {},
   "source": [
    "### 4. Length of the string\n"
   ]
  },
  {
   "cell_type": "code",
   "execution_count": 1,
   "metadata": {},
   "outputs": [],
   "source": [
    "def slen(string):\n",
    "    \n",
    "    count = 0\n",
    "    \n",
    "    for i in string:\n",
    "        count += 1\n",
    "        \n",
    "    return count"
   ]
  },
  {
   "cell_type": "code",
   "execution_count": 2,
   "metadata": {},
   "outputs": [
    {
     "data": {
      "text/plain": [
       "18"
      ]
     },
     "execution_count": 2,
     "metadata": {},
     "output_type": "execute_result"
    }
   ],
   "source": [
    "slen(\"hello manish kumar\")"
   ]
  },
  {
   "cell_type": "code",
   "execution_count": 3,
   "metadata": {},
   "outputs": [
    {
     "data": {
      "text/plain": [
       "18"
      ]
     },
     "execution_count": 3,
     "metadata": {},
     "output_type": "execute_result"
    }
   ],
   "source": [
    "len(\"hello manish kumar\")"
   ]
  },
  {
   "cell_type": "markdown",
   "metadata": {},
   "source": [
    "### 5. vowels in string"
   ]
  },
  {
   "cell_type": "code",
   "execution_count": 13,
   "metadata": {},
   "outputs": [],
   "source": [
    "def count_vowels(string):\n",
    "    vowels = ['a','e','i','o','u','y']\n",
    "    count = 0 \n",
    "    \n",
    "    for i in string:\n",
    "        \n",
    "        if i.lower() in vowels:\n",
    "            count += 1\n",
    "            print(i)\n",
    "    return count"
   ]
  },
  {
   "cell_type": "code",
   "execution_count": 14,
   "metadata": {},
   "outputs": [
    {
     "name": "stdout",
     "output_type": "stream",
     "text": [
      "e\n",
      "a\n",
      "i\n",
      "o\n",
      "a\n",
      "i\n",
      "i\n",
      "A\n",
      "A\n",
      "I\n"
     ]
    },
    {
     "data": {
      "text/plain": [
       "10"
      ]
     },
     "execution_count": 14,
     "metadata": {},
     "output_type": "execute_result"
    }
   ],
   "source": [
    "a = \"email to mainish  AMANISH\"\n",
    "count_vowels(a)"
   ]
  },
  {
   "cell_type": "markdown",
   "metadata": {},
   "source": [
    "### 6. Count distinct vowels in string|"
   ]
  },
  {
   "cell_type": "code",
   "execution_count": 19,
   "metadata": {},
   "outputs": [],
   "source": [
    "def count_dvowels(string):\n",
    "    \n",
    "    v_dic = {'a':0 , 'e':0, 'i':0,'o':0, 'u':0, 'y':0}\n",
    "    v_dic_keys = v_dic.keys()\n",
    "    \n",
    "    for i in string:\n",
    "        \n",
    "        if i.lower() in v_dic_keys:\n",
    "            \n",
    "            v_dic[i.lower()] = v_dic.get(i.lower()) + 1\n",
    "            \n",
    "    return v_dic"
   ]
  },
  {
   "cell_type": "code",
   "execution_count": 20,
   "metadata": {},
   "outputs": [
    {
     "data": {
      "text/plain": [
       "{'a': 4, 'e': 1, 'i': 4, 'o': 1, 'u': 0, 'y': 0}"
      ]
     },
     "execution_count": 20,
     "metadata": {},
     "output_type": "execute_result"
    }
   ],
   "source": [
    "count_dvowels(a)"
   ]
  },
  {
   "cell_type": "markdown",
   "metadata": {},
   "source": [
    "### 7. Lowercase to uppercase"
   ]
  },
  {
   "cell_type": "code",
   "execution_count": 47,
   "metadata": {},
   "outputs": [],
   "source": [
    "def uppercase(string):\n",
    "    \n",
    "    diff = 32\n",
    "    ustr = ''\n",
    "    \n",
    "    for i in string:\n",
    "        \n",
    "        if 97<= ord(i) <= 122:\n",
    "            \n",
    "            ustr += chr(ord(i)-diff)\n",
    "        else:\n",
    "            ustr += i\n",
    "        \n",
    "    return ustr\n",
    "        "
   ]
  },
  {
   "cell_type": "code",
   "execution_count": 48,
   "metadata": {},
   "outputs": [
    {
     "data": {
      "text/plain": [
       "'MANISH KUMAR'"
      ]
     },
     "execution_count": 48,
     "metadata": {},
     "output_type": "execute_result"
    }
   ],
   "source": [
    "uppercase(\"manish kumar\")"
   ]
  },
  {
   "cell_type": "markdown",
   "metadata": {},
   "source": [
    "### 8. Uppercase to lowercase"
   ]
  },
  {
   "cell_type": "code",
   "execution_count": 51,
   "metadata": {},
   "outputs": [],
   "source": [
    "def lowercase(string):\n",
    "    \n",
    "    diff = 32\n",
    "    lstr = ''\n",
    "    for i in string:\n",
    "        \n",
    "        if 65<= ord(i) <= 90:\n",
    "            lstr += chr(ord(i) + diff )\n",
    "            \n",
    "        else:\n",
    "            lstr += i\n",
    "            \n",
    "    return lstr"
   ]
  },
  {
   "cell_type": "code",
   "execution_count": 52,
   "metadata": {},
   "outputs": [
    {
     "data": {
      "text/plain": [
       "'manish kumar'"
      ]
     },
     "execution_count": 52,
     "metadata": {},
     "output_type": "execute_result"
    }
   ],
   "source": [
    "lowercase(\"MANISH KUMAR\")"
   ]
  },
  {
   "cell_type": "code",
   "execution_count": 26,
   "metadata": {},
   "outputs": [],
   "source": [
    "def count_words(s):\n",
    "    \n",
    "    words = 0 \n",
    "    cspace = 0\n",
    "    if len(s)> 0:\n",
    "    \n",
    "        words = 1\n",
    "        \n",
    "        for i in s:\n",
    "            \n",
    "            \n",
    "            \n",
    "            if i == \" \":\n",
    "                cspace = 1\n",
    "            \n",
    "            if cspace == 1 and i != \" \":\n",
    "                \n",
    "                words +=1\n",
    "                cspace = 0\n",
    "            \n",
    "            \n",
    "    return words"
   ]
  },
  {
   "cell_type": "code",
   "execution_count": 33,
   "metadata": {},
   "outputs": [
    {
     "data": {
      "text/plain": [
       "3"
      ]
     },
     "execution_count": 33,
     "metadata": {},
     "output_type": "execute_result"
    }
   ],
   "source": [
    "count_words(\"hello Manish  Kumar\")"
   ]
  },
  {
   "cell_type": "code",
   "execution_count": 83,
   "metadata": {},
   "outputs": [],
   "source": [
    "def countWords(s):\n",
    "    #code here\n",
    "    words = 0\n",
    "    Letter = False\n",
    "    \n",
    "    if len(s)>=1:\n",
    "    \n",
    "        for i in s :\n",
    "            \n",
    "            if i != \" \":\n",
    "                \n",
    "                # if there i is not a space in the string, letter will be turns True.\n",
    "                Letter = True\n",
    "            \n",
    "            # 1. NOw if i is a space, then letter will remain the same as the previous excution of Letter. \n",
    "            # 2. it means if Letter was False then then it will remain same as False.\n",
    "            # 3. if Letter was True it remains True.\n",
    "                \n",
    "                \n",
    "            else:\n",
    "                \n",
    "                # 1. NOw if and only if Letter is True and current i is space we count the word.\n",
    "                # 2. This statement shows us that we have reached the end of the word and now we have reached to the space\n",
    "                #    and we need to count the word by one.\n",
    "                if Letter == True and i == \" \":\n",
    "                    words += 1\n",
    "                    \n",
    "                    # 3. After counting the word by one we make the Letter as False because we have counted the word.\n",
    "                    # 4. Now if we do not make it False then it will add the extra count of the word which is not needed.\n",
    "                    Letter = False\n",
    "        \n",
    "        \n",
    "        # 5. This section of the statement will excute at the end of the string\n",
    "        # 6. In this section if there is any letter counted in above section and the last of i element is not a space\n",
    "        #    Then we will count the one more word which is at the end of the string.\n",
    "        \n",
    "        if Letter == True and i != \" \":\n",
    "            \n",
    "            words += 1\n",
    "                \n",
    "            \n",
    "    else:\n",
    "        return 0\n",
    "                \n",
    "    return words"
   ]
  },
  {
   "cell_type": "code",
   "execution_count": 84,
   "metadata": {},
   "outputs": [
    {
     "data": {
      "text/plain": [
       "2"
      ]
     },
     "execution_count": 84,
     "metadata": {},
     "output_type": "execute_result"
    }
   ],
   "source": [
    "countWords('vnjb nsjpjbjlmbvrekhawnvrmpytfvdgqbjznxwruzlkkyi')"
   ]
  },
  {
   "cell_type": "code",
   "execution_count": 88,
   "metadata": {},
   "outputs": [
    {
     "data": {
      "text/plain": [
       "3"
      ]
     },
     "execution_count": 88,
     "metadata": {},
     "output_type": "execute_result"
    }
   ],
   "source": [
    "countWords(\" manish  kumar  Meena\")"
   ]
  },
  {
   "cell_type": "code",
   "execution_count": 89,
   "metadata": {},
   "outputs": [
    {
     "data": {
      "text/plain": [
       "97"
      ]
     },
     "execution_count": 89,
     "metadata": {},
     "output_type": "execute_result"
    }
   ],
   "source": [
    "ord(\"a\")"
   ]
  },
  {
   "cell_type": "code",
   "execution_count": 91,
   "metadata": {},
   "outputs": [
    {
     "data": {
      "text/plain": [
       "122"
      ]
     },
     "execution_count": 91,
     "metadata": {},
     "output_type": "execute_result"
    }
   ],
   "source": [
    "ord('z')"
   ]
  },
  {
   "cell_type": "code",
   "execution_count": 92,
   "metadata": {},
   "outputs": [
    {
     "data": {
      "text/plain": [
       "65"
      ]
     },
     "execution_count": 92,
     "metadata": {},
     "output_type": "execute_result"
    }
   ],
   "source": [
    "ord(\"A\")"
   ]
  },
  {
   "cell_type": "code",
   "execution_count": 93,
   "metadata": {},
   "outputs": [
    {
     "data": {
      "text/plain": [
       "90"
      ]
     },
     "execution_count": 93,
     "metadata": {},
     "output_type": "execute_result"
    }
   ],
   "source": [
    "ord(\"Z\")"
   ]
  },
  {
   "cell_type": "code",
   "execution_count": null,
   "metadata": {},
   "outputs": [],
   "source": []
  }
 ],
 "metadata": {
  "kernelspec": {
   "display_name": "Python 3",
   "language": "python",
   "name": "python3"
  },
  "language_info": {
   "codemirror_mode": {
    "name": "ipython",
    "version": 3
   },
   "file_extension": ".py",
   "mimetype": "text/x-python",
   "name": "python",
   "nbconvert_exporter": "python",
   "pygments_lexer": "ipython3",
   "version": "3.8.3"
  }
 },
 "nbformat": 4,
 "nbformat_minor": 4
}
