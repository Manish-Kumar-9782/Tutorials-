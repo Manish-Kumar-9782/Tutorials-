{
 "cells": [
  {
   "cell_type": "markdown",
   "metadata": {},
   "source": [
    "##  My string\n",
    "\n",
    "we have a string\n",
    "\n",
    "```ruby\n",
    "mystring = 'abkefabakef'\n",
    "```\n",
    "\n",
    "* every element occured same numbers of time\n",
    "* at mac, one element occurence is extra by one than all the other elements\n",
    "\n",
    "if above conditions are setisfied then print mystring.\n",
    "\n",
    "else print not satisfied."
   ]
  },
  {
   "cell_type": "markdown",
   "metadata": {},
   "source": [
    "**Creating the dic using general method**"
   ]
  },
  {
   "cell_type": "code",
   "execution_count": 3,
   "metadata": {},
   "outputs": [],
   "source": [
    "from collections import Counter\n",
    "String = \"abkefabakef\""
   ]
  },
  {
   "cell_type": "code",
   "execution_count": 8,
   "metadata": {},
   "outputs": [],
   "source": [
    "# method one\n",
    "def mystring(String):\n",
    "    Dic = {}\n",
    "    \n",
    "    for i in String:\n",
    "        if i in Dic.keys():\n",
    "            \n",
    "            Dic[i] = Dic[i] +1\n",
    "        else:\n",
    "            Dic[i] =  1\n",
    "    return Dic\n",
    "\n",
    "# method two \n",
    "\n",
    "#------------------------------------------------------------------------------------------------------\n",
    "# this is my approach to find the my string in my knowledge yet.\n",
    "def mystring2(String):\n",
    "    \"\"\"\n",
    "    This function is designed to make a dic in which key will be the letter sof the strong and the value will \n",
    "    be the numer of occurance of that letter.\n",
    "    \n",
    "    \"\"\"\n",
    "    dic ={}\n",
    "    for i in String:\n",
    "        dic[i] = dic.get(i,0)+1\n",
    "        \n",
    "    return dic\n",
    "\n",
    "# above task can be done by using Counter method\n",
    "_dic = Counter(String)\n",
    "#----------------------------------------------------------------------------------------------------\n",
    "\n",
    "def unique_values(List):\n",
    "    \"\"\"This function is made to compute that how much unique values are present in the given list\n",
    "    \"\"\"\n",
    "    unique = []\n",
    "    \n",
    "    for i in List:\n",
    "        if i not in unique:\n",
    "            unique.append(i)\n",
    "    return unique\n",
    "\n",
    "# Note: this can be done by cionverting the list into a set, a set only contain unique values.\n",
    "#------------------------------------------------------------------------------------    \n",
    "def is_mystring(Str):\n",
    "    \n",
    "    dic = mystring2(Str)\n",
    "    unique = unique_values(dic.values())\n",
    "    \n",
    "    if len(unique)>2:\n",
    "        print(\"not satisfied\")\n",
    "    else:\n",
    "        if unique[0]-unique[1]>1:\n",
    "            print(\"not satisfied\")\n",
    "        else:\n",
    "            print(\"This is my string\")\n",
    "            \n",
    "#---------------------------------------------------------------------------\n",
    "\n",
    "def is_mystring(Str):\n",
    "    \n",
    "    dic = Counter(Str)\n",
    "    unique = unique_values(dic.values())\n",
    "    \n",
    "    if len(unique)>2:\n",
    "        print(\"not satisfied\")\n",
    "    else:\n",
    "        if abs(unique[0]-unique[1])>1:\n",
    "            print(\"not satisfied\")\n",
    "        else:\n",
    "            print(\"This is my string\")\n"
   ]
  },
  {
   "cell_type": "markdown",
   "metadata": {},
   "source": [
    "## mystring task "
   ]
  },
  {
   "cell_type": "code",
   "execution_count": 18,
   "metadata": {},
   "outputs": [],
   "source": [
    "# 1. first make a counter \n",
    "# 2. Second make a set of uniqe values\n",
    "# 3. apply the remaining function.\n",
    "\n",
    "def is_mystring2(Str):\n",
    "    \n",
    "    \n",
    "    unique = [i for i in Counter(Str).values()]\n",
    "    appearence = Counter(unique)\n",
    "    \n",
    "    if len(unique)>2 or max(appearence.keys()).values > 1 :\n",
    "        print(\"not satisfied\")\n",
    "    else:\n",
    "        unique[0]-unique[1]>1:\n",
    "            print(\"not satisfied\")\n",
    "        else:\n",
    "            print(\"This is my string\")\n"
   ]
  },
  {
   "cell_type": "code",
   "execution_count": 19,
   "metadata": {},
   "outputs": [
    {
     "name": "stdout",
     "output_type": "stream",
     "text": [
      "{2, 3}\n",
      "This is my string\n"
     ]
    }
   ],
   "source": [
    "is_mystring2('abkefabakef')"
   ]
  },
  {
   "cell_type": "code",
   "execution_count": null,
   "metadata": {},
   "outputs": [],
   "source": []
  },
  {
   "cell_type": "code",
   "execution_count": null,
   "metadata": {},
   "outputs": [],
   "source": [
    "Str = mystring2('abkefabakef')"
   ]
  },
  {
   "cell_type": "code",
   "execution_count": null,
   "metadata": {},
   "outputs": [],
   "source": [
    "Str"
   ]
  },
  {
   "cell_type": "code",
   "execution_count": null,
   "metadata": {},
   "outputs": [],
   "source": [
    "unique_values(Str.values())"
   ]
  },
  {
   "cell_type": "code",
   "execution_count": null,
   "metadata": {},
   "outputs": [],
   "source": [
    "# comprehensive way to make the unique list\n",
    "unique = []\n",
    "unique = [i for i in Str.values() if i not in unique]\n",
    "\n",
    "print(unique)\n",
    "# Note: not working"
   ]
  },
  {
   "cell_type": "code",
   "execution_count": null,
   "metadata": {},
   "outputs": [],
   "source": [
    "# improting Counter from collections\n",
    "\n",
    "from collections import Counter\n",
    "# this is also used to make the count"
   ]
  },
  {
   "cell_type": "code",
   "execution_count": null,
   "metadata": {},
   "outputs": [],
   "source": [
    "Counter(Str.values())"
   ]
  },
  {
   "cell_type": "code",
   "execution_count": null,
   "metadata": {},
   "outputs": [],
   "source": [
    "numbers = [1,1,2,4,5,3,2,1,6,3,1,6]\n",
    "sixes = [\n",
    "   number\n",
    "   for number in numbers\n",
    "   if number == 6\n",
    "]\n",
    "count_sixes = len(sixes)"
   ]
  },
  {
   "cell_type": "code",
   "execution_count": null,
   "metadata": {},
   "outputs": [],
   "source": [
    "is_mystring(String)"
   ]
  },
  {
   "cell_type": "code",
   "execution_count": null,
   "metadata": {},
   "outputs": [],
   "source": [
    "is_mystring(\"abakefabakeyabkey\")"
   ]
  },
  {
   "cell_type": "code",
   "execution_count": 21,
   "metadata": {},
   "outputs": [],
   "source": [
    "List = [3,3,2,2,1,1]"
   ]
  },
  {
   "cell_type": "code",
   "execution_count": 22,
   "metadata": {},
   "outputs": [
    {
     "data": {
      "text/plain": [
       "Counter({3: 2, 2: 2, 1: 2})"
      ]
     },
     "execution_count": 22,
     "metadata": {},
     "output_type": "execute_result"
    }
   ],
   "source": [
    "Counter(List)"
   ]
  },
  {
   "cell_type": "code",
   "execution_count": 26,
   "metadata": {},
   "outputs": [],
   "source": [
    "_dic =  Counter(List)"
   ]
  },
  {
   "cell_type": "code",
   "execution_count": 27,
   "metadata": {},
   "outputs": [
    {
     "data": {
      "text/plain": [
       "Counter({3: 2, 2: 2, 1: 2})"
      ]
     },
     "execution_count": 27,
     "metadata": {},
     "output_type": "execute_result"
    }
   ],
   "source": [
    "_dic"
   ]
  },
  {
   "cell_type": "code",
   "execution_count": 30,
   "metadata": {},
   "outputs": [
    {
     "data": {
      "text/plain": [
       "False"
      ]
     },
     "execution_count": 30,
     "metadata": {},
     "output_type": "execute_result"
    }
   ],
   "source": [
    "max(_dic.keys()) == 1"
   ]
  },
  {
   "cell_type": "code",
   "execution_count": null,
   "metadata": {},
   "outputs": [],
   "source": []
  }
 ],
 "metadata": {
  "kernelspec": {
   "display_name": "Python 3",
   "language": "python",
   "name": "python3"
  },
  "language_info": {
   "codemirror_mode": {
    "name": "ipython",
    "version": 3
   },
   "file_extension": ".py",
   "mimetype": "text/x-python",
   "name": "python",
   "nbconvert_exporter": "python",
   "pygments_lexer": "ipython3",
   "version": "3.8.3"
  },
  "latex_envs": {
   "LaTeX_envs_menu_present": true,
   "autoclose": false,
   "autocomplete": true,
   "bibliofile": "biblio.bib",
   "cite_by": "apalike",
   "current_citInitial": 1,
   "eqLabelWithNumbers": true,
   "eqNumInitial": 1,
   "hotkeys": {
    "equation": "Ctrl-E",
    "itemize": "Ctrl-I"
   },
   "labels_anchors": false,
   "latex_user_defs": false,
   "report_style_numbering": false,
   "user_envs_cfg": false
  },
  "toc": {
   "base_numbering": 1,
   "nav_menu": {},
   "number_sections": true,
   "sideBar": true,
   "skip_h1_title": false,
   "title_cell": "Table of Contents",
   "title_sidebar": "Contents",
   "toc_cell": false,
   "toc_position": {},
   "toc_section_display": true,
   "toc_window_display": false
  }
 },
 "nbformat": 4,
 "nbformat_minor": 4
}
