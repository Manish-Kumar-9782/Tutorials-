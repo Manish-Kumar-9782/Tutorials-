{
 "cells": [
  {
   "cell_type": "markdown",
   "id": "separate-spelling",
   "metadata": {},
   "source": [
    "# Numpy \n",
    "This notebook  will contain the some basic cocepts of the numpy and their usage in the other fields  such as data science.\n",
    "\n",
    "NumPy is the fundamental package for scientific computing in Python. It is a Python library that provides a multidimensional array object, various derived objects (such as masked arrays and matrices), and an assortment of routines for fast operations on arrays, including mathematical, logical, shape manipulation, sorting, selecting, I/O, discrete Fourier transforms, basic linear algebra, basic statistical operations, random simulation and much more.\n"
   ]
  },
  {
   "cell_type": "markdown",
   "id": "studied-report",
   "metadata": {},
   "source": [
    "# Numpy Data types"
   ]
  },
  {
   "cell_type": "markdown",
   "id": "optional-learning",
   "metadata": {},
   "source": [
    "### 1. Array types and conversions between types\n",
    "\n",
    "NumPy supports a much greater variety of numerical types than Python does. This section shows which are available, and how to modify an array’s data-type.\n",
    "\n",
    "There are 5 basic numerical types representing booleans (bool), integers (int), unsigned integers (uint) floating point (float) and complex. Those with numbers in their name indicate the bitsize of the type (i.e. how many bits are needed to represent a single value in memory). Some types, such as int and intp, have differing bitsizes, dependent on the platforms (e.g. 32-bit vs. 64-bit machines). This should be taken into account when interfacing with low-level code (such as C or Fortran) where the raw memory is addressed.\n",
    "\n",
    "Data-types can be used as functions to convert python numbers to array scalars python sequences of numbers to arrays of that type, or as arguments to the dtype keyword that many numpy functions or methods accept.\n",
    "\n",
    "Now we will see the most commonly used data types.\n",
    "\n",
    "* int\n",
    "* bool\n",
    "* uint\n",
    "* float\n",
    "* complex\n",
    "\n",
    "but before doing any action we need to import the numpy module."
   ]
  },
  {
   "cell_type": "code",
   "execution_count": 1,
   "id": "closed-johnson",
   "metadata": {},
   "outputs": [],
   "source": [
    "import numpy as np"
   ]
  },
  {
   "cell_type": "markdown",
   "id": "derived-gambling",
   "metadata": {},
   "source": [
    "#### 1.int dtype"
   ]
  },
  {
   "cell_type": "code",
   "execution_count": 8,
   "id": "molecular-penny",
   "metadata": {},
   "outputs": [],
   "source": [
    "int_array = np.array([1,2,3,4],dtype=int)"
   ]
  },
  {
   "cell_type": "code",
   "execution_count": 9,
   "id": "cutting-airline",
   "metadata": {},
   "outputs": [],
   "source": [
    "# now we wiil see the int_array"
   ]
  },
  {
   "cell_type": "code",
   "execution_count": 10,
   "id": "adaptive-passing",
   "metadata": {},
   "outputs": [
    {
     "data": {
      "text/plain": [
       "array([1, 2, 3, 4])"
      ]
     },
     "execution_count": 10,
     "metadata": {},
     "output_type": "execute_result"
    }
   ],
   "source": [
    "int_array"
   ]
  },
  {
   "cell_type": "code",
   "execution_count": 11,
   "id": "recent-division",
   "metadata": {},
   "outputs": [
    {
     "data": {
      "text/plain": [
       "dtype('int32')"
      ]
     },
     "execution_count": 11,
     "metadata": {},
     "output_type": "execute_result"
    }
   ],
   "source": [
    "int_array.dtype"
   ]
  },
  {
   "cell_type": "markdown",
   "id": "interim-trust",
   "metadata": {},
   "source": [
    "As you can see by default 'int' data type makes it as 'int32' data type it shows that it is a integer type of data and it has 32 bits data which is normal these days. \n",
    "\n",
    "we can also make a data type which has a 'int64' notation. which means that this integer data has a 64 bits longer transformation. it contains the 64 bits on its core level."
   ]
  },
  {
   "cell_type": "markdown",
   "id": "acknowledged-notion",
   "metadata": {},
   "source": [
    "|numpy type | C type | Description|\n",
    "|----------|---------|--------|\n",
    "|numpy.int8 | int8_t | Byte (-128 to 127)|\n",
    "|numpy.int16| int16_t| Integer (-32768 to 32767)|\n",
    "|numpy.int32 |int32_t| Integer (-2147483648 to 2147483647)|\n",
    "|numpy.int64| int64_t|Integer (-9223372036854775808 to 9223372036854775807)|"
   ]
  },
  {
   "cell_type": "markdown",
   "id": "collectible-solid",
   "metadata": {},
   "source": [
    "now we will make the other int type of the numpy array. "
   ]
  },
  {
   "cell_type": "code",
   "execution_count": 30,
   "id": "hairy-metallic",
   "metadata": {},
   "outputs": [],
   "source": [
    "# int8 type array\n",
    "LA = [1,2,3,4]\n",
    "int8_array = np.array(LA , dtype = np.int8)\n",
    "\n",
    "# int16 type array\n",
    "int16_array = np.array(LA , dtype = np.int16)\n",
    "\n",
    "# int32 type array\n",
    "int32_array = np.array(LA , dtype = np.int32)\n",
    "\n",
    "# int64 type array\n",
    "int64_array = np.array(LA , dtype = np.int64)\n"
   ]
  },
  {
   "cell_type": "markdown",
   "id": "informal-jewel",
   "metadata": {},
   "source": [
    "Now we will check their size and data type after printing them"
   ]
  },
  {
   "cell_type": "code",
   "execution_count": 40,
   "id": "living-orientation",
   "metadata": {},
   "outputs": [
    {
     "name": "stdout",
     "output_type": "stream",
     "text": [
      "|          data type          |          Result            |          Memory size (bytes)          | \n",
      "__________________________________________________________________________________________\n",
      "|          int8          |          [1 2 3 4]            |          1          | \n",
      "|          int16          |          [1 2 3 4]            |          2          | \n",
      "|          int32          |          [1 2 3 4]            |          4          | \n",
      "|          int64          |          [1 2 3 4]            |          8          | \n"
     ]
    }
   ],
   "source": [
    "k =' '*10\n",
    "print(f\"|{k}data type{k}|{k}Result {k} |{k}{'Memory size (bytes)'}{k}| \" )\n",
    "print(\"_\"*90)\n",
    "\n",
    "print(f\"|{k}{'int8'}{k}|{k}{int8_array} {k} |{k}{int8_array.itemsize}{k}| \" )\n",
    "print(f\"|{k}{'int16'}{k}|{k}{int16_array} {k} |{k}{int16_array.itemsize}{k}| \" )\n",
    "print(f\"|{k}{'int32'}{k}|{k}{int32_array} {k} |{k}{int32_array.itemsize}{k}| \" )\n",
    "print(f\"|{k}{'int64'}{k}|{k}{int64_array} {k} |{k}{int64_array.itemsize}{k}| \" )"
   ]
  },
  {
   "cell_type": "markdown",
   "id": "expired-savage",
   "metadata": {},
   "source": [
    "Now we can see the differece b/w the data types and where should we use that. this size of the data type is in bytes which has 8-bits in it."
   ]
  },
  {
   "cell_type": "markdown",
   "id": "violent-undergraduate",
   "metadata": {},
   "source": [
    "#### 2. float"
   ]
  },
  {
   "cell_type": "markdown",
   "id": "monetary-intranet",
   "metadata": {},
   "source": [
    "Now we will see the array of the foat data types"
   ]
  },
  {
   "cell_type": "code",
   "execution_count": 33,
   "id": "constant-equity",
   "metadata": {},
   "outputs": [],
   "source": [
    "float_array = np.array(LA, dtype = float)\n",
    "# in this simple flot we dont need to give it as np.float because this attribute has been deprecated from the numpy so we need to use the float itself."
   ]
  },
  {
   "cell_type": "code",
   "execution_count": 43,
   "id": "parental-composer",
   "metadata": {},
   "outputs": [
    {
     "name": "stdout",
     "output_type": "stream",
     "text": [
      "Float Array  [1. 2. 3. 4.]\n",
      "Memory size of the array in bytes: 8\n"
     ]
    }
   ],
   "source": [
    "# now we will check the array itself and the memeory size of the foat_array\n",
    "print(\"Float Array \",float_array)\n",
    "print(\"Memory size of the array in bytes:\",float_array.itemsize)"
   ]
  },
  {
   "cell_type": "markdown",
   "id": "pregnant-window",
   "metadata": {},
   "source": [
    "As you can see that what is the difference b/w an integer data and a float data. both has different data type and also the are different in size.\n",
    "\n",
    "Now we will see more of the float data types."
   ]
  },
  {
   "cell_type": "markdown",
   "id": "wired-subject",
   "metadata": {},
   "source": [
    "|numpy type | C type | Description|\n",
    "|----------|---------|--------|\n",
    "|numpy.foat16 | float | |\n",
    "|numpy.foat32| float| |\n",
    "|numpy.foat64 |double| |\n"
   ]
  },
  {
   "cell_type": "code",
   "execution_count": 47,
   "id": "saved-recipient",
   "metadata": {},
   "outputs": [],
   "source": [
    "# now we will see all of above things.\n",
    "\n",
    "# float16 array\n",
    "float16_array = np.array(LA, dtype = np.float16)\n",
    "\n",
    "# float32 array\n",
    "float32_array = np.array(LA, dtype = np.float32)\n",
    "\n",
    "# float64 array\n",
    "float64_array  = np.array(LA, dtype = np.float64)"
   ]
  },
  {
   "cell_type": "code",
   "execution_count": 48,
   "id": "precious-agreement",
   "metadata": {},
   "outputs": [
    {
     "name": "stdout",
     "output_type": "stream",
     "text": [
      "|          data type          |          Result            |          Memory size (bytes)          | \n",
      "__________________________________________________________________________________________\n",
      "|          float16          |          [1. 2. 3. 4.]            |          2          | \n",
      "|          float32          |          [1. 2. 3. 4.]            |          4          | \n",
      "|          float64          |          [1. 2. 3. 4.]            |          8          | \n"
     ]
    }
   ],
   "source": [
    "k =' '*10\n",
    "print(f\"|{k}data type{k}|{k}Result {k} |{k}{'Memory size (bytes)'}{k}| \" )\n",
    "print(\"_\"*90)\n",
    "\n",
    "print(f\"|{k}{'float16'}{k}|{k}{float16_array} {k} |{k}{float16_array.itemsize}{k}| \" )\n",
    "print(f\"|{k}{'float32'}{k}|{k}{float32_array} {k} |{k}{float32_array.itemsize}{k}| \" )\n",
    "print(f\"|{k}{'float64'}{k}|{k}{float64_array} {k} |{k}{float64_array.itemsize}{k}| \" )\n"
   ]
  },
  {
   "cell_type": "markdown",
   "id": "daily-rolling",
   "metadata": {},
   "source": [
    "#### 3. bool "
   ]
  },
  {
   "cell_type": "markdown",
   "id": "intended-confusion",
   "metadata": {},
   "source": [
    "It is the bool type data which contains only True and False. "
   ]
  },
  {
   "cell_type": "code",
   "execution_count": 53,
   "id": "naughty-provincial",
   "metadata": {},
   "outputs": [
    {
     "name": "stdout",
     "output_type": "stream",
     "text": [
      "bool array:  [ True  True  True  True]\n"
     ]
    }
   ],
   "source": [
    "# now, if we make an array with LA variable?\n",
    "bool_array = np.array(LA, dtype = bool)\n",
    "# chek the result\n",
    "print(\"bool array: \",bool_array)"
   ]
  },
  {
   "cell_type": "markdown",
   "id": "technical-introduction",
   "metadata": {},
   "source": [
    "As you can see that the input was different type of data but the output is in the boolen type data.\n",
    "\n",
    "Now if we make a bool_array with [0,1,0,1,0,0,1,1,2,0]."
   ]
  },
  {
   "cell_type": "code",
   "execution_count": 54,
   "id": "convenient-fellowship",
   "metadata": {},
   "outputs": [
    {
     "name": "stdout",
     "output_type": "stream",
     "text": [
      "bool array :  [False  True False  True False False  True  True  True False]\n"
     ]
    }
   ],
   "source": [
    "BLA = [0,1,0,1,0,0,1,1,2,0]\n",
    "\n",
    "bool_array = np.array(BLA, dtype = np.bool_) # we can make it bool array by passing the np.bool_ attribue.\n",
    "\n",
    "# checking the bool_array.\n",
    "print(\"bool array : \", bool_array)"
   ]
  },
  {
   "cell_type": "code",
   "execution_count": 55,
   "id": "metropolitan-pavilion",
   "metadata": {},
   "outputs": [
    {
     "name": "stdout",
     "output_type": "stream",
     "text": [
      "bool array :  [False  True  True  True False  True  True  True  True False]\n"
     ]
    }
   ],
   "source": [
    "BLA = [0,-1,-2,1,0,-3,1,1,2,0]\n",
    "\n",
    "bool_array = np.array(BLA, dtype = np.bool_) # we can make it bool array by passing the np.bool_ attribue.\n",
    "\n",
    "# checking the bool_array.\n",
    "print(\"bool array : \", bool_array)"
   ]
  },
  {
   "cell_type": "markdown",
   "id": "suitable-facing",
   "metadata": {},
   "source": [
    "As you can see that we have 'False' where '0' is present in the above 'BLA' list. It means that we will get False only when it comes to '0' Zero otherewise it will be True."
   ]
  },
  {
   "cell_type": "markdown",
   "id": "polar-fraction",
   "metadata": {},
   "source": [
    "#### 4. uint\n",
    "\n",
    "unit: it is a unsigned interger data type. similar to the integer it also has the varient in the form of the memory size.\n",
    "\n",
    "|numpy type | C type | Description|\n",
    "|----------|---------|--------|\n",
    "|numpy.uint8 | uint8_t |Unsigned integer (0 to 255) |\n",
    "|numpy.uint16| uint16_t|Unsigned integer (0 to 65535) |\n",
    "|numpy.uint32 |uint32_t|Unsigned integer (0 to 4294967295) |\n",
    "|numpy.uint64 |uint64_t| Unsigned integer (0 to 18446744073709551615)|\n",
    "\n",
    "Now we will see the each type of uint data type. "
   ]
  },
  {
   "cell_type": "code",
   "execution_count": 57,
   "id": "every-sweet",
   "metadata": {},
   "outputs": [],
   "source": [
    "# uint8 type of data \n",
    "uint8_array = np.array(LA, dtype = np.uint8)\n",
    "\n",
    "# uint16 type of data\n",
    "uint16_array = np.array(LA, dtype = np.uint16)\n",
    "\n",
    "# uint32 type of data\n",
    "uint32_array = np.array(LA, dtype = np.uint32)\n",
    "\n",
    "# uint64 type of data\n",
    "uint64_array = np.array(LA, dtype = np.uint64)"
   ]
  },
  {
   "cell_type": "code",
   "execution_count": 58,
   "id": "voluntary-philippines",
   "metadata": {},
   "outputs": [
    {
     "name": "stdout",
     "output_type": "stream",
     "text": [
      "|          data type          |          Result            |          Memory size (bytes)          | \n",
      "__________________________________________________________________________________________\n",
      "|          uint8          |          [1 2 3 4]            |          1          | \n",
      "|          uint16          |          [1 2 3 4]            |          2          | \n",
      "|          uint32          |          [1 2 3 4]            |          4          | \n",
      "|          uint64          |          [1 2 3 4]            |          8          | \n"
     ]
    }
   ],
   "source": [
    "k =' '*10\n",
    "print(f\"|{k}data type{k}|{k}Result {k} |{k}{'Memory size (bytes)'}{k}| \" )\n",
    "print(\"_\"*90)\n",
    "\n",
    "print(f\"|{k}{'uint8'}{k}|{k}{uint8_array} {k} |{k}{uint8_array.itemsize}{k}| \" )\n",
    "print(f\"|{k}{'uint16'}{k}|{k}{uint16_array} {k} |{k}{uint16_array.itemsize}{k}| \" )\n",
    "print(f\"|{k}{'uint32'}{k}|{k}{uint32_array} {k} |{k}{uint32_array.itemsize}{k}| \" )\n",
    "print(f\"|{k}{'uint64'}{k}|{k}{uint64_array} {k} |{k}{uint64_array.itemsize}{k}| \" )"
   ]
  },
  {
   "cell_type": "markdown",
   "id": "committed-family",
   "metadata": {},
   "source": [
    "#### 5. Complex dtype\n",
    "complex dtype is the data type which contains the real number and also imaginary numbers.\n",
    "\n",
    "|numpy type | C type | Description|\n",
    "|:----------|:---------|:--------|\n",
    "|numpy.complex_ | double complex|Note that this matches the precision of the builtin python complex. |\n",
    "|numpy.complex64| float complex |Complex number, represented by two 32-bit floats (real and imaginary components)|\n",
    "|numpy.complex128| double compex|Note that this matches the precision of the builtin python complex. |\n",
    "\n",
    "\n",
    "`Note:` numpy.complex_ and numpy.complex128 are same thing "
   ]
  },
  {
   "cell_type": "code",
   "execution_count": 63,
   "id": "neural-somewhere",
   "metadata": {},
   "outputs": [],
   "source": [
    "# complex_ \n",
    "complex_array = np.ndarray([1,2], dtype = np.complex_)\n",
    "\n",
    "# complex64 \n",
    "complex64_array = np.ndarray([1,2], dtype = np.complex64)\n",
    "\n",
    "# complex128\n",
    "complex128_array = np.ndarray([1,2], dtype = np.complex128)"
   ]
  },
  {
   "cell_type": "code",
   "execution_count": 83,
   "id": "sunset-patent",
   "metadata": {},
   "outputs": [
    {
     "name": "stdout",
     "output_type": "stream",
     "text": [
      "17\n",
      "|    data type    |                 Result                   |          Memory size (bytes)          | \n",
      "______________________________________________________________________________________________________________________________________________________\n",
      "|    complex    | [[2.12199579e-314+1.13526775e-311j 4.56516657e-321+6.95229564e-310j]]   |          16          | \n",
      "|    complex64    |                 [[0.+2.j   0.+2.25j]]                   |          8          | \n",
      "|    complex128    |                 [[1.+2.j 3.+4.j]]                   |          16          | \n"
     ]
    }
   ],
   "source": [
    "k =' '*10\n",
    "i =' '*4\n",
    "j = ' '*int(len(str(complex_array))/4)\n",
    "print(int(len(str(complex_array))/4))\n",
    "print(f\"|{i}data type{}|{j}Result {j} |{k}{'Memory size (bytes)'}{k}| \" )\n",
    "print(\"_\"*150)\n",
    "\n",
    "print(f\"|{i}{'complex'}{i}|{' '}{complex_array} {' '} |{k}{complex_array.itemsize}{k}| \" )  \n",
    "print(f\"|{i}{'complex64'}{i}|{j}{complex64_array} {j} |{k}{complex64_array.itemsize}{k}| \" )\n",
    "print(f\"|{i}{'complex128'}{i}|{j}{complex128_array} {j} |{k}{complex128_array.itemsize}{k}| \" )\n"
   ]
  },
  {
   "cell_type": "markdown",
   "id": "electronic-launch",
   "metadata": {},
   "source": [
    "As you can see that the size of the complex and complex128 are same so we can say that they are same data types."
   ]
  },
  {
   "cell_type": "code",
   "execution_count": null,
   "id": "french-agency",
   "metadata": {},
   "outputs": [],
   "source": []
  }
 ],
 "metadata": {
  "kernelspec": {
   "display_name": "Python 3",
   "language": "python",
   "name": "python3"
  },
  "language_info": {
   "codemirror_mode": {
    "name": "ipython",
    "version": 3
   },
   "file_extension": ".py",
   "mimetype": "text/x-python",
   "name": "python",
   "nbconvert_exporter": "python",
   "pygments_lexer": "ipython3",
   "version": "3.8.3"
  }
 },
 "nbformat": 4,
 "nbformat_minor": 5
}
