{
 "cells": [
  {
   "cell_type": "markdown",
   "id": "mysterious-dining",
   "metadata": {},
   "source": [
    "# Introduction"
   ]
  },
  {
   "cell_type": "markdown",
   "id": "appreciated-august",
   "metadata": {},
   "source": [
    "There are 5 general mechanisms for creating arrays:\n",
    "\n",
    "1. Conversion from other Python structures (e.g., lists, tuples)\n",
    "2. Intrinsic numpy array creation objects (e.g., arange, ones, zeros, etc.)\n",
    "3. Reading arrays from disk, either from standard or custom formats\n",
    "4. Creating arrays from raw bytes through the use of strings or buffers\n",
    "5. Use of special library functions (e.g., random)\n",
    "\n",
    "This section will not cover means of replicating, joining, or otherwise expanding or mutating existing arrays. Nor will it cover creating object arrays or structured arrays. Both of those are covered in their own sections."
   ]
  },
  {
   "cell_type": "markdown",
   "id": "configured-lucas",
   "metadata": {},
   "source": [
    "# Numpy Data Science basic operations."
   ]
  },
  {
   "cell_type": "markdown",
   "id": "charming-entrance",
   "metadata": {},
   "source": [
    "In this tutorial we will perform some of the basic operation of the numpy array such as..\n",
    "\n",
    "* Creating array\n",
    "* Getting the array size\n",
    "* accessing the array elements \n",
    "* slicing the array\n",
    "\n",
    "Importing the numpy module"
   ]
  },
  {
   "cell_type": "code",
   "execution_count": 2,
   "id": "canadian-monster",
   "metadata": {},
   "outputs": [],
   "source": [
    "import numpy as np"
   ]
  },
  {
   "cell_type": "markdown",
   "id": "armed-symposium",
   "metadata": {},
   "source": [
    "# 1. Creating an array \n",
    "In this section we will see the creation of the array and what are the ways to create the array using the numpy mdule. first of all we will see the `numpy.array()` module which can be used to create an nd-array.\n",
    "\n",
    "```ruby\n",
    "numpy.array(object, dtype=None, *, copy=True, order='K', subok=False, ndmin=0, like=None)\n",
    "```\n",
    "For documentation see the below like.\n",
    "\n",
    "<a href=\"https://numpy.org/doc/stable/reference/generated/numpy.array.html?highlight=numpy%20array#numpy.array\">numpy.array()</a>"
   ]
  },
  {
   "cell_type": "markdown",
   "id": "living-likelihood",
   "metadata": {},
   "source": [
    "First of all we will see that how we create an arrya object with the help of the `numpy.array()` and the list.\n",
    "\n",
    "Suppose that we have a list: \n",
    "```ruby\n",
    "List: [1,2,3,4,5,6] \n",
    "```\n",
    "Now we will pass that list into the numpy.array() in object parameter.\n",
    "```ruby\n",
    "object: # object is a variable or instance which holds the values or the data strucuture which need to be converted into the numpy array.\n",
    "\n",
    "dtype: # dtype will defines the data type of the array which we are creating, you should check the tutorial on Numpy data types.\n",
    "```\n",
    "\n",
    "For now we will only see these two parameters of the."
   ]
  },
  {
   "cell_type": "code",
   "execution_count": 3,
   "id": "single-thing",
   "metadata": {},
   "outputs": [
    {
     "name": "stdout",
     "output_type": "stream",
     "text": [
      "[1 2 3 4 5 6]\n"
     ]
    }
   ],
   "source": [
    "# creating the numpy array with numpy.array()\n",
    "List = [1,2,3,4,5,6] \n",
    "array1 = np.array(List,int) # here first parameter is object and the second one is for the datatype of the numpy object\n",
    "\n",
    "print(array1)"
   ]
  },
  {
   "cell_type": "code",
   "execution_count": 4,
   "id": "likely-first",
   "metadata": {},
   "outputs": [
    {
     "data": {
      "text/plain": [
       "array([1, 2, 3, 4, 5, 6])"
      ]
     },
     "execution_count": 4,
     "metadata": {},
     "output_type": "execute_result"
    }
   ],
   "source": [
    "array1"
   ]
  },
  {
   "cell_type": "markdown",
   "id": "particular-texas",
   "metadata": {},
   "source": [
    "## Creating multi dimensional array\n",
    "\n",
    "Suppose that we have two list or a nested list with two sub list then if we pass thid nested list into the array object we can create the nd- array.\n",
    "\n",
    "```ruby\n",
    "List1 : [1,2,3,4,5,6,7,8,9]\n",
    "List2 : [1,2,3,4,5,6,7,8,9]\n",
    "List3 : [1,2,3,4,5,6,7,8,9]\n",
    "```\n",
    "Now we have three list, we will use them to create the nd-array"
   ]
  },
  {
   "cell_type": "code",
   "execution_count": 10,
   "id": "weekly-girlfriend",
   "metadata": {},
   "outputs": [
    {
     "name": "stdout",
     "output_type": "stream",
     "text": [
      "this is my 2d array: \n",
      " [[1 2 3 4 5 6 7 8 9]\n",
      " [1 2 3 4 5 6 7 8 9]]\n",
      "\n",
      "this is my another 2d array: \n",
      " [[1 2 3 4 5 6 7 8 9]\n",
      " [1 2 3 4 5 6 7 8 9]\n",
      " [1 2 3 4 5 6 7 8 9]]\n"
     ]
    }
   ],
   "source": [
    "List1 = [1,2,3,4,5,6,7,8,9]\n",
    "List2 = [1,2,3,4,5,6,7,8,9]\n",
    "List3 = [1,2,3,4,5,6,7,8,9]\n",
    "\n",
    "# now we have three list list1, list2, list3 \n",
    "# making a 2d array\n",
    "\n",
    "array_2d = np.array([List1, List2], int)\n",
    "\n",
    "# pritnting the array \n",
    "print(\"this is my 2d array: \\n\", array_2d)\n",
    "\n",
    "array_2d = np.array([List1,List2,List3])\n",
    "\n",
    "# printing the array\n",
    "print(\"\\nthis is my another 2d array: \\n\", array_2d)"
   ]
  },
  {
   "cell_type": "markdown",
   "id": "organized-diary",
   "metadata": {},
   "source": [
    "As you can see that we have made a numpy array with the help of the numpy.array() and a list. We can also use the tuple insted of the list.\n",
    "\n",
    "For now we will not see the 3d array we will make a seprate array on the 3d array.\n",
    "\n",
    "Now we will see some inbuilt function to create the array.\n",
    "\n",
    "***"
   ]
  },
  {
   "cell_type": "markdown",
   "id": "coated-annual",
   "metadata": {},
   "source": [
    "## Creating array with some inbuilt function of the numpy\n",
    "\n",
    "Numpy module is a wast module operation on the array or multi dimensional array in which we have some inbult funciton which can create a particular type of array. LIke:\n",
    "\n",
    "* zeros()\n",
    "* ones()\n",
    "* empty()\n",
    "* full()\n",
    "* empty_like()\n",
    "* zeros_like()\n",
    "* ones_like()\n",
    "* full_like()\n",
    "* arange()\n",
    "* linspace()\n",
    "* indices()"
   ]
  },
  {
   "cell_type": "markdown",
   "id": "white-wonder",
   "metadata": {},
   "source": [
    "## Zeros array\n",
    "\n",
    "we can make the zeros array with a shape.\n",
    "\n",
    "```ruby\n",
    "zeros(shape, dtype=float, order='C', *, like=None)\n",
    "```\n",
    "Return a new array of given shape and type, filled with zeros.\n",
    " \n",
    " You can see the additional reference of the numpy.zeros form the link.\n",
    "<a href=\"https://numpy.org/doc/stable/reference/generated/numpy.zeros.html?highlight=numpy%20zeros#numpy.zeros\">numpy.zeros()</a>"
   ]
  },
  {
   "cell_type": "code",
   "execution_count": 14,
   "id": "representative-benchmark",
   "metadata": {},
   "outputs": [
    {
     "name": "stdout",
     "output_type": "stream",
     "text": [
      "This is the int type (2,2) array:\n",
      " [[0 0]\n",
      " [0 0]]\n",
      "\n",
      "this is the float type (3,2) array:\n",
      " [[0. 0.]\n",
      " [0. 0.]\n",
      " [0. 0.]]\n"
     ]
    }
   ],
   "source": [
    "# here also we will see the most commonly used parameters \n",
    "# shape: this will define the shape of the array and it takes a list or a tuple as input\n",
    "# dtype: this will define the data type of the array.\n",
    "\n",
    "# 1. dtype: int    and  shape:(2,2)\n",
    "zeros_array = np.zeros((2,2), dtype=int)\n",
    "\n",
    "print(\"This is the int type (2,2) array:\\n\",zeros_array)\n",
    "\n",
    "# 1. dtype: float    and  shape:(3,2)\n",
    "zeros_array = np.zeros((3,2), dtype=float)\n",
    "print(\"\\nthis is the float type (3,2) array:\\n\",zeros_array)"
   ]
  },
  {
   "cell_type": "markdown",
   "id": "scientific-retention",
   "metadata": {},
   "source": [
    "Here array is created in this format ----> (R,C,P)\n",
    "* R: Rows\n",
    "* C: Columns\n",
    "* P: Plane"
   ]
  },
  {
   "cell_type": "markdown",
   "id": "interpreted-validity",
   "metadata": {},
   "source": [
    "## Ones array\n",
    "\n",
    "Now we will see ones array and the syntax is:\n",
    "```ruby\n",
    " np.ones(shape, dtype=None, order='C', *, like=None)\n",
    "```\n",
    "Return a new array of given shape and type, filled with ones.\n",
    "\n"
   ]
  },
  {
   "cell_type": "code",
   "execution_count": 15,
   "id": "governmental-product",
   "metadata": {},
   "outputs": [
    {
     "name": "stdout",
     "output_type": "stream",
     "text": [
      "This is the ones array of int type and a shape of (2,2) :\n",
      " [[1 1]\n",
      " [1 1]]\n",
      "\n",
      "This is the ones array of float type and a shape of (3,2) :\n",
      " [[1. 1.]\n",
      " [1. 1.]\n",
      " [1. 1.]]\n"
     ]
    }
   ],
   "source": [
    "# now we will se ones array with int and float data type\n",
    "\n",
    "# dtype: int     and   shape: (2,2)\n",
    "ones_array = np.ones((2,2),int)\n",
    "print(\"This is the ones array of int type and a shape of (2,2) :\\n\", ones_array)\n",
    "\n",
    "# dtype: int     and   shape: (3,2)\n",
    "ones_array = np.ones((3,2),float)\n",
    "print(\"\\nThis is the ones array of float type and a shape of (3,2) :\\n\", ones_array)"
   ]
  },
  {
   "cell_type": "code",
   "execution_count": null,
   "id": "split-peace",
   "metadata": {},
   "outputs": [],
   "source": [
    "np.empty()"
   ]
  },
  {
   "cell_type": "markdown",
   "id": "stuffed-summer",
   "metadata": {},
   "source": [
    "## Empty array\n",
    "Now we will see the empty array\n",
    "\n",
    "```ruby\n",
    "np.empty(shape, dtype=float, order='C', *, like=None)\n",
    "```\n",
    "Return a new array of given shape and type, without initializing entries.\n",
    "\n",
    "For furthur detail see this: \n",
    "<a href=\"https://numpy.org/doc/stable/reference/generated/numpy.empty.html?highlight=numpy%20empty#numpy.empty\">numpy.empty() </a>\n",
    "    "
   ]
  },
  {
   "cell_type": "code",
   "execution_count": 33,
   "id": "smart-conversion",
   "metadata": {},
   "outputs": [
    {
     "name": "stdout",
     "output_type": "stream",
     "text": [
      "This is the empty array of int type and a shape of (2,2) :\n",
      " [[-1997275216         453           0]\n",
      " [          0           1  2098768637]]\n",
      "\n",
      "This is the empty array of float type and a shape of (2,3) :\n",
      " [[0.00e+000 0.00e+000 0.00e+000 0.00e+000]\n",
      " [0.00e+000 4.07e-321 0.00e+000 0.00e+000]]\n"
     ]
    }
   ],
   "source": [
    "# now we will see the empty array of n-shape\n",
    "\n",
    "# dtype: int    and          shape:(2,2)\n",
    "empty_array = np.empty((2,3), int)\n",
    "print(\"This is the empty array of int type and a shape of (2,2) :\\n\", empty_array)\n",
    "\n",
    "\n",
    "# dtype:float    and          shape:(2,4)\n",
    "empty_array = np.empty((2,4), float)\n",
    "print(\"\\nThis is the empty array of float type and a shape of (2,3) :\\n\", empty_array)"
   ]
  },
  {
   "cell_type": "markdown",
   "id": "stupid-joining",
   "metadata": {},
   "source": [
    "`Note:` empty, unlike zeros, does not set the array values to zero, and may therefore be marginally faster. On the other hand, it requires the user to manually set all the values in the array, and should be used with caution."
   ]
  },
  {
   "cell_type": "markdown",
   "id": "negative-return",
   "metadata": {},
   "source": [
    "## Full array\n",
    "Now we will see the full array, creatinf full arry is different form the above defined arrays.\n",
    "\n",
    "```ruby\n",
    " np.full(shape, fill_value, dtype=None, order='C', *, like=None)\n",
    "```\n",
    "Return a new array of given shape and type, filled with `fill_value`.\n",
    "\n",
    "See the full documentation on the `numpy.full()` array: \n",
    "<a href=\"https://numpy.org/doc/stable/reference/generated/numpy.full.html#numpy.full\">numpy.full()</a>\n"
   ]
  },
  {
   "cell_type": "code",
   "execution_count": 37,
   "id": "equipped-nation",
   "metadata": {},
   "outputs": [
    {
     "name": "stdout",
     "output_type": "stream",
     "text": [
      "This is the full array of int type and the shape is (2,2) : \n",
      " [[<class 'int'> <class 'int'>]\n",
      " [<class 'int'> <class 'int'>]]\n",
      "\n",
      "This is the full array of float type and the shape is (2,4) : \n",
      " [[<class 'float'> <class 'float'> <class 'float'> <class 'float'>]\n",
      " [<class 'float'> <class 'float'> <class 'float'> <class 'float'>]]\n"
     ]
    }
   ],
   "source": [
    "# now we will see the full array in the numpy module \n",
    "# Since this full array is different from the other whcih is defined above so we will see in details\n",
    "\n",
    "# the main thing which is different in this is that fill_values.\n",
    "# so we will do some work on the fill_values.\n",
    "\n",
    "# dtype: int       and          shape:(2,2)\n",
    "full_array = np.full((2,2),int)\n",
    "print(\"This is the full array of int type and the shape is (2,2) : \\n\",full_array)\n",
    "\n",
    "# dtype: float       and          shape:(2,4)\n",
    "full_array = np.full((2,4), float)\n",
    "print(\"\\nThis is the full array of float type and the shape is (2,4) : \\n\",full_array)"
   ]
  },
  {
   "cell_type": "markdown",
   "id": "sixth-bacteria",
   "metadata": {},
   "source": [
    "Now we have done the same thing which have made in previous all of the array but in this case we can see that there is no values in this. Because in this we need to provide the values in the `fill_values` parameters.\n",
    "\n",
    "So, let's do some test with some values."
   ]
  },
  {
   "cell_type": "markdown",
   "id": "arranged-workstation",
   "metadata": {},
   "source": [
    "#  Non-square shape full array"
   ]
  },
  {
   "cell_type": "markdown",
   "id": "congressional-amendment",
   "metadata": {},
   "source": [
    "## Case 1: Only passing a single value to fill_vlaue "
   ]
  },
  {
   "cell_type": "code",
   "execution_count": 38,
   "id": "unnecessary-livestock",
   "metadata": {},
   "outputs": [
    {
     "data": {
      "text/plain": [
       "array([[1, 1, 1],\n",
       "       [1, 1, 1]])"
      ]
     },
     "execution_count": 38,
     "metadata": {},
     "output_type": "execute_result"
    }
   ],
   "source": [
    "# in this we will provide only one value \n",
    "\n",
    "# dtype : int       shape: (2,3)      fill_value:[1]\n",
    "# carefull: here the second parameter is \"fill_values\" so we need to pass some values in that\n",
    "np.full((2,3),[1],int )"
   ]
  },
  {
   "cell_type": "markdown",
   "id": "passive-brand",
   "metadata": {},
   "source": [
    " "
   ]
  },
  {
   "cell_type": "markdown",
   "id": "happy-benjamin",
   "metadata": {},
   "source": [
    "Note: we need to see the above output. in this result we have made an array a shape of (2,2) and only passed [1].\n",
    "\n",
    "In this case 1 will be filled to all allocated location. "
   ]
  },
  {
   "cell_type": "markdown",
   "id": "printable-sampling",
   "metadata": {},
   "source": [
    "***"
   ]
  },
  {
   "cell_type": "markdown",
   "id": "baking-opposition",
   "metadata": {},
   "source": [
    "## Case 2: Passing two values to fill_vlaue"
   ]
  },
  {
   "cell_type": "code",
   "execution_count": 41,
   "id": "miniature-seven",
   "metadata": {},
   "outputs": [
    {
     "ename": "ValueError",
     "evalue": "could not broadcast input array from shape (2,) into shape (2,3)",
     "output_type": "error",
     "traceback": [
      "\u001b[1;31m---------------------------------------------------------------------------\u001b[0m",
      "\u001b[1;31mValueError\u001b[0m                                Traceback (most recent call last)",
      "\u001b[1;32m<ipython-input-41-fceee9adb289>\u001b[0m in \u001b[0;36m<module>\u001b[1;34m\u001b[0m\n\u001b[0;32m      3\u001b[0m \u001b[1;31m# dtype : int       shape: (2,3)      fill_value:[1,2]\u001b[0m\u001b[1;33m\u001b[0m\u001b[1;33m\u001b[0m\u001b[1;33m\u001b[0m\u001b[0m\n\u001b[0;32m      4\u001b[0m \u001b[1;31m# carefull: here the second parameter is \"fill_values\" so we need to pass some values in that\u001b[0m\u001b[1;33m\u001b[0m\u001b[1;33m\u001b[0m\u001b[1;33m\u001b[0m\u001b[0m\n\u001b[1;32m----> 5\u001b[1;33m \u001b[0mnp\u001b[0m\u001b[1;33m.\u001b[0m\u001b[0mfull\u001b[0m\u001b[1;33m(\u001b[0m\u001b[1;33m(\u001b[0m\u001b[1;36m2\u001b[0m\u001b[1;33m,\u001b[0m\u001b[1;36m3\u001b[0m\u001b[1;33m)\u001b[0m\u001b[1;33m,\u001b[0m\u001b[1;33m[\u001b[0m\u001b[1;36m1\u001b[0m\u001b[1;33m,\u001b[0m\u001b[1;36m2\u001b[0m\u001b[1;33m]\u001b[0m\u001b[1;33m,\u001b[0m\u001b[0mint\u001b[0m \u001b[1;33m)\u001b[0m\u001b[1;33m\u001b[0m\u001b[1;33m\u001b[0m\u001b[0m\n\u001b[0m",
      "\u001b[1;32mc:\\python\\python38\\lib\\site-packages\\numpy\\core\\numeric.py\u001b[0m in \u001b[0;36mfull\u001b[1;34m(shape, fill_value, dtype, order, like)\u001b[0m\n\u001b[0;32m    341\u001b[0m         \u001b[0mdtype\u001b[0m \u001b[1;33m=\u001b[0m \u001b[0mfill_value\u001b[0m\u001b[1;33m.\u001b[0m\u001b[0mdtype\u001b[0m\u001b[1;33m\u001b[0m\u001b[1;33m\u001b[0m\u001b[0m\n\u001b[0;32m    342\u001b[0m     \u001b[0ma\u001b[0m \u001b[1;33m=\u001b[0m \u001b[0mempty\u001b[0m\u001b[1;33m(\u001b[0m\u001b[0mshape\u001b[0m\u001b[1;33m,\u001b[0m \u001b[0mdtype\u001b[0m\u001b[1;33m,\u001b[0m \u001b[0morder\u001b[0m\u001b[1;33m)\u001b[0m\u001b[1;33m\u001b[0m\u001b[1;33m\u001b[0m\u001b[0m\n\u001b[1;32m--> 343\u001b[1;33m     \u001b[0mmultiarray\u001b[0m\u001b[1;33m.\u001b[0m\u001b[0mcopyto\u001b[0m\u001b[1;33m(\u001b[0m\u001b[0ma\u001b[0m\u001b[1;33m,\u001b[0m \u001b[0mfill_value\u001b[0m\u001b[1;33m,\u001b[0m \u001b[0mcasting\u001b[0m\u001b[1;33m=\u001b[0m\u001b[1;34m'unsafe'\u001b[0m\u001b[1;33m)\u001b[0m\u001b[1;33m\u001b[0m\u001b[1;33m\u001b[0m\u001b[0m\n\u001b[0m\u001b[0;32m    344\u001b[0m     \u001b[1;32mreturn\u001b[0m \u001b[0ma\u001b[0m\u001b[1;33m\u001b[0m\u001b[1;33m\u001b[0m\u001b[0m\n\u001b[0;32m    345\u001b[0m \u001b[1;33m\u001b[0m\u001b[0m\n",
      "\u001b[1;32m<__array_function__ internals>\u001b[0m in \u001b[0;36mcopyto\u001b[1;34m(*args, **kwargs)\u001b[0m\n",
      "\u001b[1;31mValueError\u001b[0m: could not broadcast input array from shape (2,) into shape (2,3)"
     ]
    }
   ],
   "source": [
    "# in this we will provide two value \n",
    "\n",
    "# dtype : int       shape: (2,3)      fill_value:[1,2]\n",
    "# carefull: here the second parameter is \"fill_values\" so we need to pass some values in that\n",
    "np.full((2,3),[1,2],int )"
   ]
  },
  {
   "cell_type": "markdown",
   "id": "innovative-request",
   "metadata": {},
   "source": [
    "`Note:` We can see that when we try to pass value which are not equal to the column of the shape of the array. Then it will show the ValueError message.\n",
    "like,\n",
    "```ruby\n",
    "List: [1,2] or [1,2,3,4]\n",
    "```"
   ]
  },
  {
   "cell_type": "markdown",
   "id": "russian-parcel",
   "metadata": {},
   "source": [
    "**Now we will pass the values equal to the column of the array**"
   ]
  },
  {
   "cell_type": "code",
   "execution_count": 46,
   "id": "urban-indication",
   "metadata": {},
   "outputs": [
    {
     "data": {
      "text/plain": [
       "array([[1, 2, 3],\n",
       "       [1, 2, 3]])"
      ]
     },
     "execution_count": 46,
     "metadata": {},
     "output_type": "execute_result"
    }
   ],
   "source": [
    "# in this we will provide three value \n",
    "\n",
    "# dtype : int       shape: (2,3)      fill_value:[1,2,3]\n",
    "# Carefull: here the shape of the array is (2,3)\n",
    "# then the column values should be 3.\n",
    "\n",
    "np.full((2,3),[1,2,3],int )"
   ]
  },
  {
   "cell_type": "markdown",
   "id": "indirect-depression",
   "metadata": {},
   "source": [
    "Now we can see the we have created the an array with a shape of (2,3) and fill_values:[1,2,3].\n",
    "\n",
    "But as you can notice that these values are repeting in each row. So if we dont want to repeat the values in the row then what?"
   ]
  },
  {
   "cell_type": "markdown",
   "id": "hindu-prison",
   "metadata": {},
   "source": [
    "**Now we will give the values equal to the rows and columns**"
   ]
  },
  {
   "cell_type": "code",
   "execution_count": 47,
   "id": "tough-combining",
   "metadata": {},
   "outputs": [
    {
     "data": {
      "text/plain": [
       "array([[1, 2, 3],\n",
       "       [4, 5, 6]])"
      ]
     },
     "execution_count": 47,
     "metadata": {},
     "output_type": "execute_result"
    }
   ],
   "source": [
    "# in this we will provide two list containg the equal value \n",
    "\n",
    "# dtype : int       shape: (2,3)      fill_value:[1,2,3],[4, 5,6]\n",
    "# Carefull: here the shape of the array is (2,3)\n",
    "# then the column values should be 3.\n",
    "# and rows are 2.\n",
    "\n",
    "np.full((2,3),[[1,2,3],[4,5,6]],int )"
   ]
  },
  {
   "cell_type": "markdown",
   "id": "proof-refund",
   "metadata": {},
   "source": [
    "Now as you can see that we have eleminate the problem of repetation of the values by providing the values equl to the rows and columns. \n",
    "\n",
    "`Note:` Be carefull when passing the *fill_values*. it should be equal to the number of columns or both columns and rows."
   ]
  },
  {
   "cell_type": "markdown",
   "id": "latin-snake",
   "metadata": {},
   "source": [
    "**Now we will double the shpae of the previous one**"
   ]
  },
  {
   "cell_type": "code",
   "execution_count": 50,
   "id": "greenhouse-minute",
   "metadata": {},
   "outputs": [
    {
     "ename": "ValueError",
     "evalue": "could not broadcast input array from shape (2,3) into shape (2,6)",
     "output_type": "error",
     "traceback": [
      "\u001b[1;31m---------------------------------------------------------------------------\u001b[0m",
      "\u001b[1;31mValueError\u001b[0m                                Traceback (most recent call last)",
      "\u001b[1;32m<ipython-input-50-dd59c9521e6e>\u001b[0m in \u001b[0;36m<module>\u001b[1;34m\u001b[0m\n\u001b[0;32m      6\u001b[0m \u001b[1;31m# and rows are 2.\u001b[0m\u001b[1;33m\u001b[0m\u001b[1;33m\u001b[0m\u001b[1;33m\u001b[0m\u001b[0m\n\u001b[0;32m      7\u001b[0m \u001b[1;33m\u001b[0m\u001b[0m\n\u001b[1;32m----> 8\u001b[1;33m \u001b[0mnp\u001b[0m\u001b[1;33m.\u001b[0m\u001b[0mfull\u001b[0m\u001b[1;33m(\u001b[0m\u001b[1;33m(\u001b[0m\u001b[1;36m2\u001b[0m\u001b[1;33m,\u001b[0m\u001b[1;36m6\u001b[0m\u001b[1;33m)\u001b[0m\u001b[1;33m,\u001b[0m\u001b[1;33m[\u001b[0m\u001b[1;33m[\u001b[0m\u001b[1;36m1\u001b[0m\u001b[1;33m,\u001b[0m\u001b[1;36m2\u001b[0m\u001b[1;33m,\u001b[0m\u001b[1;36m3\u001b[0m\u001b[1;33m]\u001b[0m\u001b[1;33m,\u001b[0m\u001b[1;33m[\u001b[0m\u001b[1;36m4\u001b[0m\u001b[1;33m,\u001b[0m\u001b[1;36m5\u001b[0m\u001b[1;33m,\u001b[0m\u001b[1;36m6\u001b[0m\u001b[1;33m]\u001b[0m\u001b[1;33m]\u001b[0m\u001b[1;33m,\u001b[0m\u001b[0mint\u001b[0m \u001b[1;33m)\u001b[0m\u001b[1;33m\u001b[0m\u001b[1;33m\u001b[0m\u001b[0m\n\u001b[0m",
      "\u001b[1;32mc:\\python\\python38\\lib\\site-packages\\numpy\\core\\numeric.py\u001b[0m in \u001b[0;36mfull\u001b[1;34m(shape, fill_value, dtype, order, like)\u001b[0m\n\u001b[0;32m    341\u001b[0m         \u001b[0mdtype\u001b[0m \u001b[1;33m=\u001b[0m \u001b[0mfill_value\u001b[0m\u001b[1;33m.\u001b[0m\u001b[0mdtype\u001b[0m\u001b[1;33m\u001b[0m\u001b[1;33m\u001b[0m\u001b[0m\n\u001b[0;32m    342\u001b[0m     \u001b[0ma\u001b[0m \u001b[1;33m=\u001b[0m \u001b[0mempty\u001b[0m\u001b[1;33m(\u001b[0m\u001b[0mshape\u001b[0m\u001b[1;33m,\u001b[0m \u001b[0mdtype\u001b[0m\u001b[1;33m,\u001b[0m \u001b[0morder\u001b[0m\u001b[1;33m)\u001b[0m\u001b[1;33m\u001b[0m\u001b[1;33m\u001b[0m\u001b[0m\n\u001b[1;32m--> 343\u001b[1;33m     \u001b[0mmultiarray\u001b[0m\u001b[1;33m.\u001b[0m\u001b[0mcopyto\u001b[0m\u001b[1;33m(\u001b[0m\u001b[0ma\u001b[0m\u001b[1;33m,\u001b[0m \u001b[0mfill_value\u001b[0m\u001b[1;33m,\u001b[0m \u001b[0mcasting\u001b[0m\u001b[1;33m=\u001b[0m\u001b[1;34m'unsafe'\u001b[0m\u001b[1;33m)\u001b[0m\u001b[1;33m\u001b[0m\u001b[1;33m\u001b[0m\u001b[0m\n\u001b[0m\u001b[0;32m    344\u001b[0m     \u001b[1;32mreturn\u001b[0m \u001b[0ma\u001b[0m\u001b[1;33m\u001b[0m\u001b[1;33m\u001b[0m\u001b[0m\n\u001b[0;32m    345\u001b[0m \u001b[1;33m\u001b[0m\u001b[0m\n",
      "\u001b[1;32m<__array_function__ internals>\u001b[0m in \u001b[0;36mcopyto\u001b[1;34m(*args, **kwargs)\u001b[0m\n",
      "\u001b[1;31mValueError\u001b[0m: could not broadcast input array from shape (2,3) into shape (2,6)"
     ]
    }
   ],
   "source": [
    "# in this we will increase the colulmns by twice but the input will be same as was in previous one.\n",
    "\n",
    "# dtype : int       shape: (2,3)      fill_value:[1,2,3],[4, 5,6]\n",
    "# Carefull: here the shape of the array is (2,3)\n",
    "# then the column values should be 3.\n",
    "# and rows are 2.\n",
    "\n",
    "np.full((2,6),[[1,2,3],[4,5,6]],int )"
   ]
  },
  {
   "cell_type": "markdown",
   "id": "enormous-accommodation",
   "metadata": {},
   "source": [
    "`Error:` As can see that we have *ValueError* because we didn't pass the values in the right shape. So to solve this problem we have three option.\n",
    "\n",
    "* We can pass a single value which will fill all the (i,j) loaction\n",
    "* We can pass a single list which will fill the all row with same values.\n",
    "* We can pass an array or array_like object with the same shape of the current one. Like if the shape of the current full() array is (4,6) then we can pass an array with this shape.\n",
    "\n",
    "But for now we will only do the first two method."
   ]
  },
  {
   "cell_type": "markdown",
   "id": "removable-practice",
   "metadata": {},
   "source": [
    "#### Method 1"
   ]
  },
  {
   "cell_type": "code",
   "execution_count": 51,
   "id": "swedish-eugene",
   "metadata": {},
   "outputs": [
    {
     "data": {
      "text/plain": [
       "array([[1, 1, 1, 1, 1, 1],\n",
       "       [1, 1, 1, 1, 1, 1]])"
      ]
     },
     "execution_count": 51,
     "metadata": {},
     "output_type": "execute_result"
    }
   ],
   "source": [
    "np.full((2,6),[1],int )"
   ]
  },
  {
   "cell_type": "markdown",
   "id": "solved-standard",
   "metadata": {},
   "source": [
    "#### Method 2"
   ]
  },
  {
   "cell_type": "code",
   "execution_count": 53,
   "id": "intellectual-theory",
   "metadata": {},
   "outputs": [
    {
     "data": {
      "text/plain": [
       "array([[1, 2, 3, 4, 5, 6],\n",
       "       [1, 2, 3, 4, 5, 6]])"
      ]
     },
     "execution_count": 53,
     "metadata": {},
     "output_type": "execute_result"
    }
   ],
   "source": [
    "np.full((2,6),[1,2,3,4,5,6],int )"
   ]
  },
  {
   "cell_type": "code",
   "execution_count": 54,
   "id": "expanded-reading",
   "metadata": {},
   "outputs": [
    {
     "data": {
      "text/plain": [
       "array([[1, 2],\n",
       "       [1, 2],\n",
       "       [1, 2],\n",
       "       [1, 2],\n",
       "       [1, 2],\n",
       "       [1, 2]])"
      ]
     },
     "execution_count": 54,
     "metadata": {},
     "output_type": "execute_result"
    }
   ],
   "source": [
    "np.full((6,2),[1,2],int )"
   ]
  },
  {
   "cell_type": "markdown",
   "id": "invalid-agreement",
   "metadata": {},
   "source": [
    "`Note:` As we can see that we have resolved the ValueError problem in this by using the first two methods.\n",
    "\n",
    "We didn't use the third method because if we want to fill all the values by ourself then we should use the *numpy.array()* funtion not this *numpy.full()* funtion to create an array which is having the all vlaues defined by user."
   ]
  },
  {
   "cell_type": "markdown",
   "id": "narrative-scotland",
   "metadata": {},
   "source": [
    "**Now we will see the like version of zeros, ones, empty and full arrays**\n",
    "\n",
    "These funciton are similar to the normal function of the numpy module.  \n",
    "\n",
    "* zeros_like\n",
    "* ones_like\n",
    "* empty_like\n",
    "* full_like\n",
    "\n",
    "For furthur reading on them see this:\n",
    "* <a href=\"zeros_link\">zeros_like()</a>\n",
    "* <a href=\"zeros_link\">ones_like()</a>\n",
    "* <a href=\"zeros_link\">empty_like()</a>\n",
    "* <a href=\"zeros_link\">full_like()</a>"
   ]
  },
  {
   "cell_type": "markdown",
   "id": "architectural-fleece",
   "metadata": {},
   "source": [
    "## zeros_like array\n",
    "```ruby\n",
    "np.zeros_like(a, dtype=None, order='K', subok=True, shape=None)\n",
    "```\n",
    "Return an array of zeros with the same shape and type as a given array.\n",
    "\n",
    "`a:` a is the list or array like structure whcih is the input\n"
   ]
  },
  {
   "cell_type": "markdown",
   "id": "charged-camel",
   "metadata": {},
   "source": [
    "#### Case 1: if we pass 1d array."
   ]
  },
  {
   "cell_type": "code",
   "execution_count": 58,
   "id": "trained-aviation",
   "metadata": {},
   "outputs": [
    {
     "data": {
      "text/plain": [
       "array([0, 0, 0])"
      ]
     },
     "execution_count": 58,
     "metadata": {},
     "output_type": "execute_result"
    }
   ],
   "source": [
    "# we will give 'a' as a 1d array with a random shape\n",
    "\n",
    "a = [1,2,3]\n",
    "np.zeros_like(a)"
   ]
  },
  {
   "cell_type": "markdown",
   "id": "unique-ladder",
   "metadata": {},
   "source": [
    "#### Case2: if we pass 2d array."
   ]
  },
  {
   "cell_type": "code",
   "execution_count": 61,
   "id": "complete-split",
   "metadata": {},
   "outputs": [
    {
     "data": {
      "text/plain": [
       "array([[0, 0, 0],\n",
       "       [0, 0, 0]])"
      ]
     },
     "execution_count": 61,
     "metadata": {},
     "output_type": "execute_result"
    }
   ],
   "source": [
    "# Now we will give 'a' as a 2d array with a random shape\n",
    "\n",
    "a = [[1,2,3],[4,5,3]]\n",
    "np.zeros_like(a, dtype=int)"
   ]
  },
  {
   "cell_type": "markdown",
   "id": "french-counter",
   "metadata": {},
   "source": [
    "#### Case 3: if we pass 3d array."
   ]
  },
  {
   "cell_type": "code",
   "execution_count": 64,
   "id": "valuable-album",
   "metadata": {},
   "outputs": [
    {
     "data": {
      "text/plain": [
       "array([[[0, 0],\n",
       "        [0, 0]],\n",
       "\n",
       "       [[0, 0],\n",
       "        [0, 0]],\n",
       "\n",
       "       [[0, 0],\n",
       "        [0, 0]]])"
      ]
     },
     "execution_count": 64,
     "metadata": {},
     "output_type": "execute_result"
    }
   ],
   "source": [
    "# Now we will pass 'a' as a 3d array with a random shape\n",
    " \n",
    "a = [    [[1,2], [3,4]],\n",
    "     \n",
    "         [[5,6], [7,8]],\n",
    "     \n",
    "         [[9,10],[11,12]]\n",
    "]\n",
    "\n",
    "np.zeros_like(a, dtype=int)"
   ]
  },
  {
   "cell_type": "markdown",
   "id": "banner-discount",
   "metadata": {},
   "source": [
    "**difference b/w the `np.zeros` and `np.zeros_like`**\n",
    "\n",
    "Now we will use both np.zeros and np.zeros_like funtion\n",
    "1. Zeros method"
   ]
  },
  {
   "cell_type": "code",
   "execution_count": 67,
   "id": "spiritual-handbook",
   "metadata": {},
   "outputs": [
    {
     "data": {
      "text/plain": [
       "array([[[0, 0, 0, 0],\n",
       "        [0, 0, 0, 0]],\n",
       "\n",
       "       [[0, 0, 0, 0],\n",
       "        [0, 0, 0, 0]],\n",
       "\n",
       "       [[0, 0, 0, 0],\n",
       "        [0, 0, 0, 0]]])"
      ]
     },
     "execution_count": 67,
     "metadata": {},
     "output_type": "execute_result"
    }
   ],
   "source": [
    "# Now we will use the zeros method \n",
    "np.zeros((3,2,4), dtype=int)"
   ]
  },
  {
   "cell_type": "markdown",
   "id": "identical-persian",
   "metadata": {},
   "source": [
    "`Note:` In zeros function\n",
    "\n",
    "* We need to give the shape of the desired array."
   ]
  },
  {
   "cell_type": "code",
   "execution_count": 70,
   "id": "excess-dollar",
   "metadata": {},
   "outputs": [
    {
     "data": {
      "text/plain": [
       "array([[[0, 0, 0, 0],\n",
       "        [0, 0, 0, 0]],\n",
       "\n",
       "       [[0, 0, 0, 0],\n",
       "        [0, 0, 0, 0]],\n",
       "\n",
       "       [[0, 0, 0, 0],\n",
       "        [0, 0, 0, 0]]])"
      ]
     },
     "execution_count": 70,
     "metadata": {},
     "output_type": "execute_result"
    }
   ],
   "source": [
    "# NOw we will use the zeros_like function\n",
    "a = a = [[[0, 0, 0, 0],\n",
    "        [0, 0, 0, 0]],\n",
    "\n",
    "       [[0, 0, 0, 0],\n",
    "        [0, 0, 0, 0]],\n",
    "\n",
    "       [[0, 0, 0, 0],\n",
    "        [0, 0, 0, 0]]]\n",
    "np.zeros_like(a, dtype=int)"
   ]
  },
  {
   "cell_type": "markdown",
   "id": "adverse-peeing",
   "metadata": {},
   "source": [
    "`Note:` In zeros_like function\n",
    "* We need to give the an array and we will get an array of zeros which has the same shape of input array."
   ]
  },
  {
   "cell_type": "markdown",
   "id": "powered-functionality",
   "metadata": {},
   "source": [
    "**Conclusion**\n",
    "* In zeros we need to give the array shape and gets the array with a given shape.\n",
    "* In zeros_like we need to give an array and gets the array with a shape  same as the shape of the input array."
   ]
  },
  {
   "cell_type": "markdown",
   "id": "regulated-recycling",
   "metadata": {},
   "source": [
    "## ones_like array\n",
    "\n",
    "`Note:` Since ones and ones_like are similar to the zeros and zeros_like respectively. So we will perfrom the 3d array."
   ]
  },
  {
   "cell_type": "code",
   "execution_count": 83,
   "id": "thick-milton",
   "metadata": {},
   "outputs": [
    {
     "name": "stdout",
     "output_type": "stream",
     "text": [
      "shape: (4, 3, 2)\n"
     ]
    },
    {
     "data": {
      "text/plain": [
       "array([[[1, 1],\n",
       "        [1, 1],\n",
       "        [1, 1]],\n",
       "\n",
       "       [[1, 1],\n",
       "        [1, 1],\n",
       "        [1, 1]],\n",
       "\n",
       "       [[1, 1],\n",
       "        [1, 1],\n",
       "        [1, 1]],\n",
       "\n",
       "       [[1, 1],\n",
       "        [1, 1],\n",
       "        [1, 1]]])"
      ]
     },
     "execution_count": 83,
     "metadata": {},
     "output_type": "execute_result"
    }
   ],
   "source": [
    "# Ones array\n",
    "print(\"shape:\",np.ones(shape=[4,3,2] , dtype=int).shape)\n",
    "np.ones(shape=[4,3,2] , dtype=int)"
   ]
  },
  {
   "cell_type": "code",
   "execution_count": 82,
   "id": "another-roman",
   "metadata": {},
   "outputs": [
    {
     "name": "stdout",
     "output_type": "stream",
     "text": [
      "shape: (4, 3, 2)\n"
     ]
    }
   ],
   "source": []
  },
  {
   "cell_type": "code",
   "execution_count": 84,
   "id": "engaging-hospital",
   "metadata": {},
   "outputs": [
    {
     "name": "stdout",
     "output_type": "stream",
     "text": [
      "shape: (4, 2, 2)\n"
     ]
    },
    {
     "data": {
      "text/plain": [
       "array([[[1, 1],\n",
       "        [1, 1]],\n",
       "\n",
       "       [[1, 1],\n",
       "        [1, 1]],\n",
       "\n",
       "       [[1, 1],\n",
       "        [1, 1]],\n",
       "\n",
       "       [[1, 1],\n",
       "        [1, 1]]])"
      ]
     },
     "execution_count": 84,
     "metadata": {},
     "output_type": "execute_result"
    }
   ],
   "source": [
    "# ones_like array\n",
    "\n",
    "# Now we will pass 'a' as a 3d array with a random shape\n",
    " \n",
    "a = [    [[1,2], [3,4]],\n",
    "     \n",
    "         [[5,6], [7,8]],\n",
    "     \n",
    "         [[9,10],[11,12]],\n",
    "     \n",
    "         [[13,14],[15,16]]\n",
    "]\n",
    "print(\"shape:\",np.ones_like(a , dtype=int).shape)\n",
    "np.ones_like(a , dtype=int)"
   ]
  },
  {
   "cell_type": "markdown",
   "id": "supreme-group",
   "metadata": {},
   "source": [
    "**Conclusion**\n",
    "* In ones we need to give the array shape and gets the array with a given shape.\n",
    "* In ones_like we need to give an array and gets the array with a shape  same as the shape of the input array."
   ]
  },
  {
   "cell_type": "markdown",
   "id": "simplified-shareware",
   "metadata": {},
   "source": [
    "## empty_like array"
   ]
  },
  {
   "cell_type": "code",
   "execution_count": 89,
   "id": "catholic-stephen",
   "metadata": {},
   "outputs": [
    {
     "name": "stdout",
     "output_type": "stream",
     "text": [
      "shape: (4, 2, 2)\n"
     ]
    },
    {
     "data": {
      "text/plain": [
       "array([[[6.23042070e-307, 4.67296746e-307],\n",
       "        [1.69121096e-306, 1.33511018e-306]],\n",
       "\n",
       "       [[8.34441742e-308, 1.78022342e-306],\n",
       "        [6.23058028e-307, 9.79107872e-307]],\n",
       "\n",
       "       [[6.89807188e-307, 7.56594375e-307],\n",
       "        [6.23060065e-307, 1.78021527e-306]],\n",
       "\n",
       "       [[8.34454050e-308, 1.11261027e-306],\n",
       "        [1.15706896e-306, 1.33512173e-306]]])"
      ]
     },
     "execution_count": 89,
     "metadata": {},
     "output_type": "execute_result"
    }
   ],
   "source": [
    "# we are making a empty array of a shape:[4,2,2]\n",
    "print(\"shape:\",np.ones_like(a , dtype=int).shape)\n",
    "np.empty([4,2,2])"
   ]
  },
  {
   "cell_type": "code",
   "execution_count": 90,
   "id": "inappropriate-disco",
   "metadata": {},
   "outputs": [
    {
     "name": "stdout",
     "output_type": "stream",
     "text": [
      "shape: (4, 2, 2)\n"
     ]
    },
    {
     "data": {
      "text/plain": [
       "array([[[1, 1],\n",
       "        [1, 1]],\n",
       "\n",
       "       [[1, 1],\n",
       "        [1, 1]],\n",
       "\n",
       "       [[1, 1],\n",
       "        [1, 1]],\n",
       "\n",
       "       [[1, 1],\n",
       "        [1, 1]]])"
      ]
     },
     "execution_count": 90,
     "metadata": {},
     "output_type": "execute_result"
    }
   ],
   "source": [
    "# we are making a empty_like array of a shape:[4,2,2]\n",
    "\n",
    "# this is the input array for the empty_like array which is float in dtype\n",
    "a = [[[6.23042070e-307, 4.67296746e-307],\n",
    "        [1.69121096e-306, 1.33511018e-306]],\n",
    "\n",
    "       [[8.34441742e-308, 1.78022342e-306],\n",
    "        [6.23058028e-307, 9.79107872e-307]],\n",
    "\n",
    "       [[6.89807188e-307, 7.56594375e-307],\n",
    "        [6.23060065e-307, 1.78021527e-306]],\n",
    "\n",
    "       [[8.34454050e-308, 1.11261027e-306],\n",
    "        [1.15706896e-306, 1.33512173e-306]]]\n",
    "\n",
    "# the shape of this a is (4,2,2)\n",
    "print(\"shape:\",np.empty_like(a, dtype=int).shape)\n",
    "\n",
    "# now we will make an int dtype array from the input float dtype array. \n",
    "np.empty_like(a, dtype=int)"
   ]
  },
  {
   "cell_type": "markdown",
   "id": "contemporary-imagination",
   "metadata": {},
   "source": [
    "**Conclusion**\n",
    "* In empty we need to give the array shape and gets the array with a given shape.\n",
    "* In empty_like we need to give an array and gets the array with a shape  same as the shape of the input array."
   ]
  },
  {
   "cell_type": "markdown",
   "id": "electronic-desperate",
   "metadata": {},
   "source": [
    "## full_like array"
   ]
  },
  {
   "cell_type": "code",
   "execution_count": 97,
   "id": "conscious-posting",
   "metadata": {},
   "outputs": [
    {
     "name": "stdout",
     "output_type": "stream",
     "text": [
      "shape:  (4, 3)\n"
     ]
    },
    {
     "data": {
      "text/plain": [
       "array([[1, 2, 3],\n",
       "       [1, 2, 3],\n",
       "       [1, 2, 3],\n",
       "       [1, 2, 3]])"
      ]
     },
     "execution_count": 97,
     "metadata": {},
     "output_type": "execute_result"
    }
   ],
   "source": [
    "# here fv variable represent the fill_value parameter values in the full and full_like array\n",
    "fv = [[1,2,3]]\n",
    "\n",
    "print(\"shape: \",np.full((4,3),fv ,dtype=int).shape)\n",
    "np.full((4,3),fv ,dtype=int)"
   ]
  },
  {
   "cell_type": "code",
   "execution_count": 99,
   "id": "tested-travel",
   "metadata": {},
   "outputs": [
    {
     "name": "stdout",
     "output_type": "stream",
     "text": [
      "shape:  (4, 3)\n"
     ]
    },
    {
     "data": {
      "text/plain": [
       "array([[-1,  0, -1],\n",
       "       [-1,  0, -1],\n",
       "       [-1,  0, -1],\n",
       "       [-1,  0, -1]])"
      ]
     },
     "execution_count": 99,
     "metadata": {},
     "output_type": "execute_result"
    }
   ],
   "source": [
    "a = [[1, 2, 3],\n",
    "       [1, 2, 3],\n",
    "       [1, 2, 3],\n",
    "       [1, 2, 3]]\n",
    "\n",
    "# here a is the input array which will help to get the shape of the desired array.\n",
    "\n",
    "fv = [[-1,0,-1]]\n",
    "# after getting the shape from the above array we will fill fv values in that array\n",
    "\n",
    "print(\"shape: \",np.full_like(a,fv ,dtype=int).shape)\n",
    "\n",
    "#\n",
    "np.full_like(a,fv, dtype=int)"
   ]
  },
  {
   "cell_type": "markdown",
   "id": "beneficial-return",
   "metadata": {},
   "source": [
    "**Over All Conclusion**\n",
    "We have seen that normal version of zeros, ones, empty and full need a shape of the desired array to create the array but in the *'_like'*  version of these function we need to give an array or an array like object such as list. "
   ]
  },
  {
   "cell_type": "markdown",
   "id": "baking-bidder",
   "metadata": {},
   "source": [
    "***\n",
    "---"
   ]
  },
  {
   "cell_type": "markdown",
   "id": "minus-region",
   "metadata": {},
   "source": [
    "***Now we will do the rest of the function***\n",
    "* arange()\n",
    "* linspace()\n",
    "* indices()\n",
    "* ogrid()\n",
    "* mgrid()"
   ]
  },
  {
   "cell_type": "markdown",
   "id": "reported-carter",
   "metadata": {},
   "source": [
    "## arange() array\n",
    "Now we will do some operation on the arange funtion\n",
    "`arange:` arange function is very similar to the `range()` function. `range()` function generates the a series of number with a  step (constant diffenrene).\n",
    "\n",
    "**Like**"
   ]
  },
  {
   "cell_type": "code",
   "execution_count": 106,
   "id": "postal-slope",
   "metadata": {},
   "outputs": [
    {
     "name": "stdout",
     "output_type": "stream",
     "text": [
      "1 11 21 31 41 51 61 71 81 91 101 "
     ]
    }
   ],
   "source": [
    "for i in range(1,111,10):\n",
    "    print(i, end=\" \")"
   ]
  },
  {
   "cell_type": "markdown",
   "id": "veterinary-essence",
   "metadata": {},
   "source": [
    "`Note`: Here we have a series from 1 to 111 with a step or a constant difference b/w each number. Like this arange function also generate the array containg a series like range function."
   ]
  },
  {
   "cell_type": "code",
   "execution_count": 108,
   "id": "brown-hollywood",
   "metadata": {},
   "outputs": [
    {
     "data": {
      "text/plain": [
       "array([ 1, 11, 21, 31, 41, 51, 61, 71, 81, 91])"
      ]
     },
     "execution_count": 108,
     "metadata": {},
     "output_type": "execute_result"
    }
   ],
   "source": [
    "# now we will make a arange array\n",
    "\n",
    "np.arange(1,100,10)"
   ]
  },
  {
   "cell_type": "code",
   "execution_count": null,
   "id": "solar-raise",
   "metadata": {},
   "outputs": [],
   "source": []
  }
 ],
 "metadata": {
  "kernelspec": {
   "display_name": "Python 3",
   "language": "python",
   "name": "python3"
  },
  "language_info": {
   "codemirror_mode": {
    "name": "ipython",
    "version": 3
   },
   "file_extension": ".py",
   "mimetype": "text/x-python",
   "name": "python",
   "nbconvert_exporter": "python",
   "pygments_lexer": "ipython3",
   "version": "3.8.3"
  }
 },
 "nbformat": 4,
 "nbformat_minor": 5
}
