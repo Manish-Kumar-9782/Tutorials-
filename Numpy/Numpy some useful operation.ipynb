{
 "cells": [
  {
   "cell_type": "markdown",
   "id": "handy-asian",
   "metadata": {},
   "source": [
    "# Introduction"
   ]
  },
  {
   "cell_type": "markdown",
   "id": "controlling-battle",
   "metadata": {},
   "source": [
    "There are 5 general mechanisms for creating arrays:\n",
    "\n",
    "1. Conversion from other Python structures (e.g., lists, tuples)\n",
    "2. Intrinsic numpy array creation objects (e.g., arange, ones, zeros, etc.)\n",
    "3. Reading arrays from disk, either from standard or custom formats\n",
    "4. Creating arrays from raw bytes through the use of strings or buffers\n",
    "5. Use of special library functions (e.g., random)\n",
    "\n",
    "This section will not cover means of replicating, joining, or otherwise expanding or mutating existing arrays. Nor will it cover creating object arrays or structured arrays. Both of those are covered in their own sections."
   ]
  },
  {
   "cell_type": "markdown",
   "id": "typical-chancellor",
   "metadata": {},
   "source": [
    "# Numpy Data Science basic operations."
   ]
  },
  {
   "cell_type": "markdown",
   "id": "utility-manual",
   "metadata": {},
   "source": [
    "In this tutorial we will perform some of the basic operation of the numpy array such as..\n",
    "\n",
    "* Creating array\n",
    "* Getting the array size\n",
    "* accessing the array elements \n",
    "* slicing the array\n",
    "\n",
    "Importing the numpy module"
   ]
  },
  {
   "cell_type": "code",
   "execution_count": 2,
   "id": "unavailable-characteristic",
   "metadata": {},
   "outputs": [],
   "source": [
    "import numpy as np"
   ]
  },
  {
   "cell_type": "markdown",
   "id": "charged-irrigation",
   "metadata": {},
   "source": [
    "# 1. Creating an array \n",
    "In this section we will see the creation of the array and what are the ways to create the array using the numpy mdule. first of all we will see the `numpy.array()` module which can be used to create an nd-array.\n",
    "\n",
    "```ruby\n",
    "numpy.array(object, dtype=None, *, copy=True, order='K', subok=False, ndmin=0, like=None)\n",
    "```\n",
    "For documentation see the below like.\n",
    "\n",
    "<a href=\"https://numpy.org/doc/stable/reference/generated/numpy.array.html?highlight=numpy%20array#numpy.array\">numpy.array()</a>"
   ]
  },
  {
   "cell_type": "markdown",
   "id": "organized-cricket",
   "metadata": {},
   "source": [
    "First of all we will see that how we create an arrya object with the help of the `numpy.array()` and the list.\n",
    "\n",
    "Suppose that we have a list: \n",
    "```ruby\n",
    "List: [1,2,3,4,5,6] \n",
    "```\n",
    "Now we will pass that list into the numpy.array() in object parameter.\n",
    "```ruby\n",
    "object: # object is a variable or instance which holds the values or the data strucuture which need to be converted into the numpy array.\n",
    "\n",
    "dtype: # dtype will defines the data type of the array which we are creating, you should check the tutorial on Numpy data types.\n",
    "```\n",
    "\n",
    "For now we will only see these two parameters of the."
   ]
  },
  {
   "cell_type": "code",
   "execution_count": 3,
   "id": "greater-defendant",
   "metadata": {},
   "outputs": [
    {
     "name": "stdout",
     "output_type": "stream",
     "text": [
      "[1 2 3 4 5 6]\n"
     ]
    }
   ],
   "source": [
    "# creating the numpy array with numpy.array()\n",
    "List = [1,2,3,4,5,6] \n",
    "array1 = np.array(List,int) # here first parameter is object and the second one is for the datatype of the numpy object\n",
    "\n",
    "print(array1)"
   ]
  },
  {
   "cell_type": "code",
   "execution_count": 4,
   "id": "consecutive-nowhere",
   "metadata": {},
   "outputs": [
    {
     "data": {
      "text/plain": [
       "array([1, 2, 3, 4, 5, 6])"
      ]
     },
     "execution_count": 4,
     "metadata": {},
     "output_type": "execute_result"
    }
   ],
   "source": [
    "array1"
   ]
  },
  {
   "cell_type": "markdown",
   "id": "brutal-dominant",
   "metadata": {},
   "source": [
    "## Creating multi dimensional array\n",
    "\n",
    "Suppose that we have two list or a nested list with two sub list then if we pass thid nested list into the array object we can create the nd- array.\n",
    "\n",
    "```ruby\n",
    "List1 : [1,2,3,4,5,6,7,8,9]\n",
    "List2 : [1,2,3,4,5,6,7,8,9]\n",
    "List3 : [1,2,3,4,5,6,7,8,9]\n",
    "```\n",
    "Now we have three list, we will use them to create the nd-array"
   ]
  },
  {
   "cell_type": "code",
   "execution_count": 10,
   "id": "stainless-windows",
   "metadata": {},
   "outputs": [
    {
     "name": "stdout",
     "output_type": "stream",
     "text": [
      "this is my 2d array: \n",
      " [[1 2 3 4 5 6 7 8 9]\n",
      " [1 2 3 4 5 6 7 8 9]]\n",
      "\n",
      "this is my another 2d array: \n",
      " [[1 2 3 4 5 6 7 8 9]\n",
      " [1 2 3 4 5 6 7 8 9]\n",
      " [1 2 3 4 5 6 7 8 9]]\n"
     ]
    }
   ],
   "source": [
    "List1 = [1,2,3,4,5,6,7,8,9]\n",
    "List2 = [1,2,3,4,5,6,7,8,9]\n",
    "List3 = [1,2,3,4,5,6,7,8,9]\n",
    "\n",
    "# now we have three list list1, list2, list3 \n",
    "# making a 2d array\n",
    "\n",
    "array_2d = np.array([List1, List2], int)\n",
    "\n",
    "# pritnting the array \n",
    "print(\"this is my 2d array: \\n\", array_2d)\n",
    "\n",
    "array_2d = np.array([List1,List2,List3])\n",
    "\n",
    "# printing the array\n",
    "print(\"\\nthis is my another 2d array: \\n\", array_2d)"
   ]
  },
  {
   "cell_type": "markdown",
   "id": "nonprofit-pledge",
   "metadata": {},
   "source": [
    "As you can see that we have made a numpy array with the help of the numpy.array() and a list. We can also use the tuple insted of the list.\n",
    "\n",
    "For now we will not see the 3d array we will make a seprate array on the 3d array.\n",
    "\n",
    "Now we will see some inbuilt function to create the array.\n",
    "\n",
    "***"
   ]
  },
  {
   "cell_type": "markdown",
   "id": "rational-delta",
   "metadata": {},
   "source": [
    "## Creating array with some inbuilt function of the numpy\n",
    "\n",
    "Numpy module is a wast module operation on the array or multi dimensional array in which we have some inbult funciton which can create a particular type of array. LIke:\n",
    "\n",
    "* zeros()\n",
    "* ones()\n",
    "* empty()\n",
    "* arange()\n",
    "* linspace()\n",
    "* indices()\n",
    "* empty_like()\n",
    "* zeros_like()\n",
    "* ones_like()\n",
    "* em"
   ]
  },
  {
   "cell_type": "code",
   "execution_count": null,
   "id": "literary-horizontal",
   "metadata": {},
   "outputs": [],
   "source": []
  }
 ],
 "metadata": {
  "kernelspec": {
   "display_name": "Python 3",
   "language": "python",
   "name": "python3"
  },
  "language_info": {
   "codemirror_mode": {
    "name": "ipython",
    "version": 3
   },
   "file_extension": ".py",
   "mimetype": "text/x-python",
   "name": "python",
   "nbconvert_exporter": "python",
   "pygments_lexer": "ipython3",
   "version": "3.8.3"
  }
 },
 "nbformat": 4,
 "nbformat_minor": 5
}
