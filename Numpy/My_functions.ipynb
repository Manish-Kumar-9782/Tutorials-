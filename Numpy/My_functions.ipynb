{
 "cells": [
  {
   "cell_type": "code",
   "execution_count": 2,
   "id": "protecting-manufacturer",
   "metadata": {},
   "outputs": [],
   "source": [
    "import numpy as np"
   ]
  },
  {
   "cell_type": "code",
   "execution_count": 3,
   "id": "premier-ownership",
   "metadata": {},
   "outputs": [],
   "source": [
    "def get_all_method(object,Pad = 2, Max_print_space=110):\n",
    "    \n",
    "    \"\"\"\n",
    "    This method will Makes Create a table of attribute, class, method etc. of the given object in the parameters.\n",
    "    \n",
    "    Like we have a module collections then we can see the all the attribute, class, method etc. in the formate of table, \n",
    "    which is very useful to make the them visible in a good readable way.\n",
    "    \n",
    "    add function: Make a function to create the pdf file of the result.\n",
    "    \n",
    "    \"\"\"\n",
    "    All_List = object.__all__\n",
    "    \n",
    "    max_len = max([len(i) for i in All_List])\n",
    "    # max_len is the maximum len of section of the table. in addition we can add some padding in this to give some space.\n",
    "    \n",
    "    print_length = Max_print_space\n",
    "    count = 0\n",
    "    \n",
    "    # our table max length has benn counted so now we can make our table with a max space \n",
    "\n",
    "    max_space = max_len + Pad\n",
    "    # here max_space is the addition of the man_len and the padding \n",
    "    # _padding: This is the initial extra space b/w the two columns.\n",
    "    \n",
    "\n",
    "        \n",
    "    # now we will iterate over all of the list.\n",
    "    for obj in All_List:\n",
    "            \n",
    "        # here we need to count the padding, Since we need to make the alignment for every string output.\n",
    "        # here we have three thing max_space, padding and max_len   \n",
    "        # padding will be the difference of the current string len and the max_space.\n",
    "            \n",
    "        padding = abs(max_space-len(obj))\n",
    "            \n",
    "        # count will count the length of the current length for the current line.\n",
    "        count += len(obj) + padding\n",
    "            \n",
    "                       \n",
    "        print(obj, end=\" \"*padding)\n",
    "            \n",
    "        # if the count becomes equal or gretar than the print_len then we will make a new line for the alignment.\n",
    "        if count >= print_length:\n",
    "                print()\n",
    "                count = 0\n",
    "            \n",
    "    \n"
   ]
  },
  {
   "cell_type": "code",
   "execution_count": 4,
   "id": "noticed-lambda",
   "metadata": {},
   "outputs": [
    {
     "name": "stdout",
     "output_type": "stream",
     "text": [
      "beta                     binomial                 bytes                    chisquare                choice                   \n",
      "dirichlet                exponential              f                        gamma                    geometric                \n",
      "get_state                gumbel                   hypergeometric           laplace                  logistic                 \n",
      "lognormal                logseries                multinomial              multivariate_normal      negative_binomial        \n",
      "noncentral_chisquare     noncentral_f             normal                   pareto                   permutation              \n",
      "poisson                  power                    rand                     randint                  randn                    \n",
      "random                   random_integers          random_sample            ranf                     rayleigh                 \n",
      "sample                   seed                     set_state                shuffle                  standard_cauchy          \n",
      "standard_exponential     standard_gamma           standard_normal          standard_t               triangular               \n",
      "uniform                  vonmises                 wald                     weibull                  zipf                     \n",
      "Generator                RandomState              SeedSequence             MT19937                  Philox                   \n",
      "PCG64                    SFC64                    default_rng              BitGenerator             "
     ]
    }
   ],
   "source": [
    "get_all_method(np.random,Pad=5)"
   ]
  },
  {
   "cell_type": "code",
   "execution_count": 9,
   "id": "certain-chart",
   "metadata": {},
   "outputs": [
    {
     "data": {
      "text/plain": [
       "10"
      ]
     },
     "execution_count": 9,
     "metadata": {},
     "output_type": "execute_result"
    }
   ],
   "source": [
    "sum([1,2,3,4])"
   ]
  },
  {
   "cell_type": "markdown",
   "id": "swiss-tulsa",
   "metadata": {},
   "source": []
  },
  {
   "cell_type": "raw",
   "id": "meaning-lover",
   "metadata": {},
   "source": [
    "_padding =5"
   ]
  },
  {
   "cell_type": "code",
   "execution_count": 55,
   "id": "global-sperm",
   "metadata": {},
   "outputs": [
    {
     "data": {
      "text/plain": [
       "int"
      ]
     },
     "execution_count": 55,
     "metadata": {},
     "output_type": "execute_result"
    }
   ],
   "source": [
    "type(_padding)"
   ]
  },
  {
   "cell_type": "code",
   "execution_count": 9,
   "id": "recognized-combining",
   "metadata": {},
   "outputs": [
    {
     "name": "stdout",
     "output_type": "stream",
     "text": [
      "\n",
      "========================\n",
      "Random Number Generation\n",
      "========================\n",
      "\n",
      "Use ``default_rng()`` to create a `Generator` and call its methods.\n",
      "\n",
      "=============== =========================================================\n",
      "Generator\n",
      "--------------- ---------------------------------------------------------\n",
      "Generator       Class implementing all of the random number distributions\n",
      "default_rng     Default constructor for ``Generator``\n",
      "=============== =========================================================\n",
      "\n",
      "============================================= ===\n",
      "BitGenerator Streams that work with Generator\n",
      "--------------------------------------------- ---\n",
      "MT19937\n",
      "PCG64\n",
      "Philox\n",
      "SFC64\n",
      "============================================= ===\n",
      "\n",
      "============================================= ===\n",
      "Getting entropy to initialize a BitGenerator\n",
      "--------------------------------------------- ---\n",
      "SeedSequence\n",
      "============================================= ===\n",
      "\n",
      "\n",
      "Legacy\n",
      "------\n",
      "\n",
      "For backwards compatibility with previous versions of numpy before 1.17, the\n",
      "various aliases to the global `RandomState` methods are left alone and do not\n",
      "use the new `Generator` API.\n",
      "\n",
      "==================== =========================================================\n",
      "Utility functions\n",
      "-------------------- ---------------------------------------------------------\n",
      "random               Uniformly distributed floats over ``[0, 1)``\n",
      "bytes                Uniformly distributed random bytes.\n",
      "permutation          Randomly permute a sequence / generate a random sequence.\n",
      "shuffle              Randomly permute a sequence in place.\n",
      "choice               Random sample from 1-D array.\n",
      "==================== =========================================================\n",
      "\n",
      "==================== =========================================================\n",
      "Compatibility\n",
      "functions - removed\n",
      "in the new API\n",
      "-------------------- ---------------------------------------------------------\n",
      "rand                 Uniformly distributed values.\n",
      "randn                Normally distributed values.\n",
      "ranf                 Uniformly distributed floating point numbers.\n",
      "random_integers      Uniformly distributed integers in a given range.\n",
      "                     (deprecated, use ``integers(..., closed=True)`` instead)\n",
      "random_sample        Alias for `random_sample`\n",
      "randint              Uniformly distributed integers in a given range\n",
      "seed                 Seed the legacy random number generator.\n",
      "==================== =========================================================\n",
      "\n",
      "==================== =========================================================\n",
      "Univariate\n",
      "distributions\n",
      "-------------------- ---------------------------------------------------------\n",
      "beta                 Beta distribution over ``[0, 1]``.\n",
      "binomial             Binomial distribution.\n",
      "chisquare            :math:`\\chi^2` distribution.\n",
      "exponential          Exponential distribution.\n",
      "f                    F (Fisher-Snedecor) distribution.\n",
      "gamma                Gamma distribution.\n",
      "geometric            Geometric distribution.\n",
      "gumbel               Gumbel distribution.\n",
      "hypergeometric       Hypergeometric distribution.\n",
      "laplace              Laplace distribution.\n",
      "logistic             Logistic distribution.\n",
      "lognormal            Log-normal distribution.\n",
      "logseries            Logarithmic series distribution.\n",
      "negative_binomial    Negative binomial distribution.\n",
      "noncentral_chisquare Non-central chi-square distribution.\n",
      "noncentral_f         Non-central F distribution.\n",
      "normal               Normal / Gaussian distribution.\n",
      "pareto               Pareto distribution.\n",
      "poisson              Poisson distribution.\n",
      "power                Power distribution.\n",
      "rayleigh             Rayleigh distribution.\n",
      "triangular           Triangular distribution.\n",
      "uniform              Uniform distribution.\n",
      "vonmises             Von Mises circular distribution.\n",
      "wald                 Wald (inverse Gaussian) distribution.\n",
      "weibull              Weibull distribution.\n",
      "zipf                 Zipf's distribution over ranked data.\n",
      "==================== =========================================================\n",
      "\n",
      "==================== ==========================================================\n",
      "Multivariate\n",
      "distributions\n",
      "-------------------- ----------------------------------------------------------\n",
      "dirichlet            Multivariate generalization of Beta distribution.\n",
      "multinomial          Multivariate generalization of the binomial distribution.\n",
      "multivariate_normal  Multivariate generalization of the normal distribution.\n",
      "==================== ==========================================================\n",
      "\n",
      "==================== =========================================================\n",
      "Standard\n",
      "distributions\n",
      "-------------------- ---------------------------------------------------------\n",
      "standard_cauchy      Standard Cauchy-Lorentz distribution.\n",
      "standard_exponential Standard exponential distribution.\n",
      "standard_gamma       Standard Gamma distribution.\n",
      "standard_normal      Standard normal distribution.\n",
      "standard_t           Standard Student's t-distribution.\n",
      "==================== =========================================================\n",
      "\n",
      "==================== =========================================================\n",
      "Internal functions\n",
      "-------------------- ---------------------------------------------------------\n",
      "get_state            Get tuple representing internal state of generator.\n",
      "set_state            Set state of generator.\n",
      "==================== =========================================================\n",
      "\n",
      "\n",
      "\n"
     ]
    }
   ],
   "source": [
    "print(np.random.__doc__)"
   ]
  },
  {
   "cell_type": "code",
   "execution_count": null,
   "id": "pressed-implementation",
   "metadata": {},
   "outputs": [],
   "source": []
  }
 ],
 "metadata": {
  "kernelspec": {
   "display_name": "Python 3",
   "language": "python",
   "name": "python3"
  },
  "language_info": {
   "codemirror_mode": {
    "name": "ipython",
    "version": 3
   },
   "file_extension": ".py",
   "mimetype": "text/x-python",
   "name": "python",
   "nbconvert_exporter": "python",
   "pygments_lexer": "ipython3",
   "version": "3.8.3"
  }
 },
 "nbformat": 4,
 "nbformat_minor": 5
}
