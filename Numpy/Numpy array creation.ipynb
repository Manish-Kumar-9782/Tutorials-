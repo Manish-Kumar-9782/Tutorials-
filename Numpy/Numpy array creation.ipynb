{
 "cells": [
  {
   "cell_type": "markdown",
   "id": "fuzzy-blair",
   "metadata": {},
   "source": [
    "# Introduction"
   ]
  },
  {
   "cell_type": "markdown",
   "id": "moved-confidence",
   "metadata": {},
   "source": [
    "There are 5 general mechanisms for creating arrays:\n",
    "\n",
    "1. Conversion from other Python structures (e.g., lists, tuples)\n",
    "2. Intrinsic numpy array creation objects (e.g., arange, ones, zeros, etc.)\n",
    "3. Reading arrays from disk, either from standard or custom formats\n",
    "4. Creating arrays from raw bytes through the use of strings or buffers\n",
    "5. Use of special library functions (e.g., random)\n",
    "\n",
    "This section will not cover means of replicating, joining, or otherwise expanding or mutating existing arrays. Nor will it cover creating object arrays or structured arrays. Both of those are covered in their own sections."
   ]
  },
  {
   "cell_type": "markdown",
   "id": "intellectual-vegetable",
   "metadata": {},
   "source": [
    "# Numpy Data Science basic operations."
   ]
  },
  {
   "cell_type": "markdown",
   "id": "frozen-hammer",
   "metadata": {},
   "source": [
    "In this tutorial we will perform some of the basic operation of the numpy array such as..\n",
    "\n",
    "* Creating array\n",
    "* Getting the array size\n",
    "* accessing the array elements \n",
    "* slicing the array\n",
    "\n",
    "Importing the numpy module"
   ]
  },
  {
   "cell_type": "code",
   "execution_count": 1,
   "id": "attractive-disposition",
   "metadata": {},
   "outputs": [],
   "source": [
    "import numpy as np"
   ]
  },
  {
   "cell_type": "markdown",
   "id": "closing-afternoon",
   "metadata": {},
   "source": [
    "# 1. Creating an array \n",
    "In this section we will see the creation of the array and what are the ways to create the array using the numpy mdule. first of all we will see the `numpy.array()` module which can be used to create an nd-array.\n",
    "\n",
    "```ruby\n",
    "numpy.array(object, dtype=None, *, copy=True, order='K', subok=False, ndmin=0, like=None)\n",
    "```\n",
    "For documentation see the below like.\n",
    "\n",
    "<a href=\"https://numpy.org/doc/stable/reference/generated/numpy.array.html?highlight=numpy%20array#numpy.array\">numpy.array()</a>"
   ]
  },
  {
   "cell_type": "markdown",
   "id": "desirable-leader",
   "metadata": {},
   "source": [
    "First of all we will see that how we create an arrya object with the help of the `numpy.array()` and the list.\n",
    "\n",
    "Suppose that we have a list: \n",
    "```ruby\n",
    "List: [1,2,3,4,5,6] \n",
    "```\n",
    "Now we will pass that list into the numpy.array() in object parameter.\n",
    "```ruby\n",
    "object: # object is a variable or instance which holds the values or the data strucuture which need to be converted into the numpy array.\n",
    "\n",
    "dtype: # dtype will defines the data type of the array which we are creating, you should check the tutorial on Numpy data types.\n",
    "```\n",
    "\n",
    "For now we will only see these two parameters of the."
   ]
  },
  {
   "cell_type": "code",
   "execution_count": 3,
   "id": "painted-blade",
   "metadata": {},
   "outputs": [
    {
     "name": "stdout",
     "output_type": "stream",
     "text": [
      "[1 2 3 4 5 6]\n"
     ]
    }
   ],
   "source": [
    "# creating the numpy array with numpy.array()\n",
    "List = [1,2,3,4,5,6] \n",
    "array1 = np.array(List,int) # here first parameter is object and the second one is for the datatype of the numpy object\n",
    "\n",
    "print(array1)"
   ]
  },
  {
   "cell_type": "code",
   "execution_count": 4,
   "id": "initial-hello",
   "metadata": {},
   "outputs": [
    {
     "data": {
      "text/plain": [
       "array([1, 2, 3, 4, 5, 6])"
      ]
     },
     "execution_count": 4,
     "metadata": {},
     "output_type": "execute_result"
    }
   ],
   "source": [
    "array1"
   ]
  },
  {
   "cell_type": "markdown",
   "id": "stuck-plenty",
   "metadata": {},
   "source": [
    "## Creating multi dimensional array\n",
    "\n",
    "Suppose that we have two list or a nested list with two sub list then if we pass thid nested list into the array object we can create the nd- array.\n",
    "\n",
    "```ruby\n",
    "List1 : [1,2,3,4,5,6,7,8,9]\n",
    "List2 : [1,2,3,4,5,6,7,8,9]\n",
    "List3 : [1,2,3,4,5,6,7,8,9]\n",
    "```\n",
    "Now we have three list, we will use them to create the nd-array"
   ]
  },
  {
   "cell_type": "code",
   "execution_count": 10,
   "id": "desirable-recording",
   "metadata": {},
   "outputs": [
    {
     "name": "stdout",
     "output_type": "stream",
     "text": [
      "this is my 2d array: \n",
      " [[1 2 3 4 5 6 7 8 9]\n",
      " [1 2 3 4 5 6 7 8 9]]\n",
      "\n",
      "this is my another 2d array: \n",
      " [[1 2 3 4 5 6 7 8 9]\n",
      " [1 2 3 4 5 6 7 8 9]\n",
      " [1 2 3 4 5 6 7 8 9]]\n"
     ]
    }
   ],
   "source": [
    "List1 = [1,2,3,4,5,6,7,8,9]\n",
    "List2 = [1,2,3,4,5,6,7,8,9]\n",
    "List3 = [1,2,3,4,5,6,7,8,9]\n",
    "\n",
    "# now we have three list list1, list2, list3 \n",
    "# making a 2d array\n",
    "\n",
    "array_2d = np.array([List1, List2], int)\n",
    "\n",
    "# pritnting the array \n",
    "print(\"this is my 2d array: \\n\", array_2d)\n",
    "\n",
    "array_2d = np.array([List1,List2,List3])\n",
    "\n",
    "# printing the array\n",
    "print(\"\\nthis is my another 2d array: \\n\", array_2d)"
   ]
  },
  {
   "cell_type": "markdown",
   "id": "dominant-spank",
   "metadata": {},
   "source": [
    "As you can see that we have made a numpy array with the help of the numpy.array() and a list. We can also use the tuple insted of the list.\n",
    "\n",
    "For now we will not see the 3d array we will make a seprate array on the 3d array.\n",
    "\n",
    "Now we will see some inbuilt function to create the array.\n",
    "\n",
    "***"
   ]
  },
  {
   "cell_type": "markdown",
   "id": "threaded-combat",
   "metadata": {},
   "source": [
    "## Creating array with some inbuilt function of the numpy\n",
    "\n",
    "Numpy module is a wast module operation on the array or multi dimensional array in which we have some inbult funciton which can create a particular type of array. LIke:\n",
    "\n",
    "* zeros()\n",
    "* ones()\n",
    "* empty()\n",
    "* full()\n",
    "* empty_like()\n",
    "* zeros_like()\n",
    "* ones_like()\n",
    "* full_like()\n",
    "* arange()\n",
    "* linspace()\n",
    "* indices()"
   ]
  },
  {
   "cell_type": "markdown",
   "id": "registered-alberta",
   "metadata": {},
   "source": [
    "## Zeros array\n",
    "\n",
    "we can make the zeros array with a shape.\n",
    "\n",
    "```ruby\n",
    "zeros(shape, dtype=float, order='C', *, like=None)\n",
    "```\n",
    "Return a new array of given shape and type, filled with zeros.\n",
    " \n",
    " You can see the additional reference of the numpy.zeros form the link.\n",
    "<a href=\"https://numpy.org/doc/stable/reference/generated/numpy.zeros.html?highlight=numpy%20zeros#numpy.zeros\">numpy.zeros()</a>"
   ]
  },
  {
   "cell_type": "code",
   "execution_count": 14,
   "id": "spare-aruba",
   "metadata": {},
   "outputs": [
    {
     "name": "stdout",
     "output_type": "stream",
     "text": [
      "This is the int type (2,2) array:\n",
      " [[0 0]\n",
      " [0 0]]\n",
      "\n",
      "this is the float type (3,2) array:\n",
      " [[0. 0.]\n",
      " [0. 0.]\n",
      " [0. 0.]]\n"
     ]
    }
   ],
   "source": [
    "# here also we will see the most commonly used parameters \n",
    "# shape: this will define the shape of the array and it takes a list or a tuple as input\n",
    "# dtype: this will define the data type of the array.\n",
    "\n",
    "# 1. dtype: int    and  shape:(2,2)\n",
    "zeros_array = np.zeros((2,2), dtype=int)\n",
    "\n",
    "print(\"This is the int type (2,2) array:\\n\",zeros_array)\n",
    "\n",
    "# 1. dtype: float    and  shape:(3,2)\n",
    "zeros_array = np.zeros((3,2), dtype=float)\n",
    "print(\"\\nthis is the float type (3,2) array:\\n\",zeros_array)"
   ]
  },
  {
   "cell_type": "markdown",
   "id": "weekly-poland",
   "metadata": {},
   "source": [
    "Here array is created in this format ----> (R,C,P)\n",
    "* R: Rows\n",
    "* C: Columns\n",
    "* P: Plane"
   ]
  },
  {
   "cell_type": "markdown",
   "id": "funded-annual",
   "metadata": {},
   "source": [
    "## Ones array\n",
    "\n",
    "Now we will see ones array and the syntax is:\n",
    "```ruby\n",
    " np.ones(shape, dtype=None, order='C', *, like=None)\n",
    "```\n",
    "Return a new array of given shape and type, filled with ones.\n",
    "\n"
   ]
  },
  {
   "cell_type": "code",
   "execution_count": 15,
   "id": "polish-introduction",
   "metadata": {},
   "outputs": [
    {
     "name": "stdout",
     "output_type": "stream",
     "text": [
      "This is the ones array of int type and a shape of (2,2) :\n",
      " [[1 1]\n",
      " [1 1]]\n",
      "\n",
      "This is the ones array of float type and a shape of (3,2) :\n",
      " [[1. 1.]\n",
      " [1. 1.]\n",
      " [1. 1.]]\n"
     ]
    }
   ],
   "source": [
    "# now we will se ones array with int and float data type\n",
    "\n",
    "# dtype: int     and   shape: (2,2)\n",
    "ones_array = np.ones((2,2),int)\n",
    "print(\"This is the ones array of int type and a shape of (2,2) :\\n\", ones_array)\n",
    "\n",
    "# dtype: int     and   shape: (3,2)\n",
    "ones_array = np.ones((3,2),float)\n",
    "print(\"\\nThis is the ones array of float type and a shape of (3,2) :\\n\", ones_array)"
   ]
  },
  {
   "cell_type": "code",
   "execution_count": null,
   "id": "cardiovascular-mortgage",
   "metadata": {},
   "outputs": [],
   "source": [
    "np.empty()"
   ]
  },
  {
   "cell_type": "markdown",
   "id": "overhead-million",
   "metadata": {},
   "source": [
    "## Empty array\n",
    "Now we will see the empty array\n",
    "\n",
    "```ruby\n",
    "np.empty(shape, dtype=float, order='C', *, like=None)\n",
    "```\n",
    "Return a new array of given shape and type, without initializing entries.\n",
    "\n",
    "For furthur detail see this: \n",
    "<a href=\"https://numpy.org/doc/stable/reference/generated/numpy.empty.html?highlight=numpy%20empty#numpy.empty\">numpy.empty() </a>\n",
    "    "
   ]
  },
  {
   "cell_type": "code",
   "execution_count": 33,
   "id": "finnish-personality",
   "metadata": {},
   "outputs": [
    {
     "name": "stdout",
     "output_type": "stream",
     "text": [
      "This is the empty array of int type and a shape of (2,2) :\n",
      " [[-1997275216         453           0]\n",
      " [          0           1  2098768637]]\n",
      "\n",
      "This is the empty array of float type and a shape of (2,3) :\n",
      " [[0.00e+000 0.00e+000 0.00e+000 0.00e+000]\n",
      " [0.00e+000 4.07e-321 0.00e+000 0.00e+000]]\n"
     ]
    }
   ],
   "source": [
    "# now we will see the empty array of n-shape\n",
    "\n",
    "# dtype: int    and          shape:(2,2)\n",
    "empty_array = np.empty((2,3), int)\n",
    "print(\"This is the empty array of int type and a shape of (2,2) :\\n\", empty_array)\n",
    "\n",
    "\n",
    "# dtype:float    and          shape:(2,4)\n",
    "empty_array = np.empty((2,4), float)\n",
    "print(\"\\nThis is the empty array of float type and a shape of (2,3) :\\n\", empty_array)"
   ]
  },
  {
   "cell_type": "markdown",
   "id": "twenty-implementation",
   "metadata": {},
   "source": [
    "`Note:` empty, unlike zeros, does not set the array values to zero, and may therefore be marginally faster. On the other hand, it requires the user to manually set all the values in the array, and should be used with caution."
   ]
  },
  {
   "cell_type": "markdown",
   "id": "sonic-letter",
   "metadata": {},
   "source": [
    "## Full array\n",
    "Now we will see the full array, creatinf full arry is different form the above defined arrays.\n",
    "\n",
    "```ruby\n",
    " np.full(shape, fill_value, dtype=None, order='C', *, like=None)\n",
    "```\n",
    "Return a new array of given shape and type, filled with `fill_value`.\n",
    "\n",
    "See the full documentation on the `numpy.full()` array: \n",
    "<a href=\"https://numpy.org/doc/stable/reference/generated/numpy.full.html#numpy.full\">numpy.full()</a>\n"
   ]
  },
  {
   "cell_type": "code",
   "execution_count": 37,
   "id": "rough-supervision",
   "metadata": {},
   "outputs": [
    {
     "name": "stdout",
     "output_type": "stream",
     "text": [
      "This is the full array of int type and the shape is (2,2) : \n",
      " [[<class 'int'> <class 'int'>]\n",
      " [<class 'int'> <class 'int'>]]\n",
      "\n",
      "This is the full array of float type and the shape is (2,4) : \n",
      " [[<class 'float'> <class 'float'> <class 'float'> <class 'float'>]\n",
      " [<class 'float'> <class 'float'> <class 'float'> <class 'float'>]]\n"
     ]
    }
   ],
   "source": [
    "# now we will see the full array in the numpy module \n",
    "# Since this full array is different from the other whcih is defined above so we will see in details\n",
    "\n",
    "# the main thing which is different in this is that fill_values.\n",
    "# so we will do some work on the fill_values.\n",
    "\n",
    "# dtype: int       and          shape:(2,2)\n",
    "full_array = np.full((2,2),int)\n",
    "print(\"This is the full array of int type and the shape is (2,2) : \\n\",full_array)\n",
    "\n",
    "# dtype: float       and          shape:(2,4)\n",
    "full_array = np.full((2,4), float)\n",
    "print(\"\\nThis is the full array of float type and the shape is (2,4) : \\n\",full_array)"
   ]
  },
  {
   "cell_type": "markdown",
   "id": "retired-cheese",
   "metadata": {},
   "source": [
    "Now we have done the same thing which have made in previous all of the array but in this case we can see that there is no values in this. Because in this we need to provide the values in the `fill_values` parameters.\n",
    "\n",
    "So, let's do some test with some values."
   ]
  },
  {
   "cell_type": "markdown",
   "id": "literary-allen",
   "metadata": {},
   "source": [
    "#  Non-square shape full array"
   ]
  },
  {
   "cell_type": "markdown",
   "id": "specific-vulnerability",
   "metadata": {},
   "source": [
    "## Case 1: Only passing a single value to fill_vlaue "
   ]
  },
  {
   "cell_type": "code",
   "execution_count": 38,
   "id": "secure-geometry",
   "metadata": {},
   "outputs": [
    {
     "data": {
      "text/plain": [
       "array([[1, 1, 1],\n",
       "       [1, 1, 1]])"
      ]
     },
     "execution_count": 38,
     "metadata": {},
     "output_type": "execute_result"
    }
   ],
   "source": [
    "# in this we will provide only one value \n",
    "\n",
    "# dtype : int       shape: (2,3)      fill_value:[1]\n",
    "# carefull: here the second parameter is \"fill_values\" so we need to pass some values in that\n",
    "np.full((2,3),[1],int )"
   ]
  },
  {
   "cell_type": "markdown",
   "id": "falling-aspect",
   "metadata": {},
   "source": [
    " "
   ]
  },
  {
   "cell_type": "markdown",
   "id": "outstanding-prize",
   "metadata": {},
   "source": [
    "Note: we need to see the above output. in this result we have made an array a shape of (2,2) and only passed [1].\n",
    "\n",
    "In this case 1 will be filled to all allocated location. "
   ]
  },
  {
   "cell_type": "markdown",
   "id": "entire-motion",
   "metadata": {},
   "source": [
    "***"
   ]
  },
  {
   "cell_type": "markdown",
   "id": "mental-boutique",
   "metadata": {},
   "source": [
    "## Case 2: Passing two values to fill_vlaue"
   ]
  },
  {
   "cell_type": "code",
   "execution_count": 41,
   "id": "average-commerce",
   "metadata": {},
   "outputs": [
    {
     "ename": "ValueError",
     "evalue": "could not broadcast input array from shape (2,) into shape (2,3)",
     "output_type": "error",
     "traceback": [
      "\u001b[1;31m---------------------------------------------------------------------------\u001b[0m",
      "\u001b[1;31mValueError\u001b[0m                                Traceback (most recent call last)",
      "\u001b[1;32m<ipython-input-41-fceee9adb289>\u001b[0m in \u001b[0;36m<module>\u001b[1;34m\u001b[0m\n\u001b[0;32m      3\u001b[0m \u001b[1;31m# dtype : int       shape: (2,3)      fill_value:[1,2]\u001b[0m\u001b[1;33m\u001b[0m\u001b[1;33m\u001b[0m\u001b[1;33m\u001b[0m\u001b[0m\n\u001b[0;32m      4\u001b[0m \u001b[1;31m# carefull: here the second parameter is \"fill_values\" so we need to pass some values in that\u001b[0m\u001b[1;33m\u001b[0m\u001b[1;33m\u001b[0m\u001b[1;33m\u001b[0m\u001b[0m\n\u001b[1;32m----> 5\u001b[1;33m \u001b[0mnp\u001b[0m\u001b[1;33m.\u001b[0m\u001b[0mfull\u001b[0m\u001b[1;33m(\u001b[0m\u001b[1;33m(\u001b[0m\u001b[1;36m2\u001b[0m\u001b[1;33m,\u001b[0m\u001b[1;36m3\u001b[0m\u001b[1;33m)\u001b[0m\u001b[1;33m,\u001b[0m\u001b[1;33m[\u001b[0m\u001b[1;36m1\u001b[0m\u001b[1;33m,\u001b[0m\u001b[1;36m2\u001b[0m\u001b[1;33m]\u001b[0m\u001b[1;33m,\u001b[0m\u001b[0mint\u001b[0m \u001b[1;33m)\u001b[0m\u001b[1;33m\u001b[0m\u001b[1;33m\u001b[0m\u001b[0m\n\u001b[0m",
      "\u001b[1;32mc:\\python\\python38\\lib\\site-packages\\numpy\\core\\numeric.py\u001b[0m in \u001b[0;36mfull\u001b[1;34m(shape, fill_value, dtype, order, like)\u001b[0m\n\u001b[0;32m    341\u001b[0m         \u001b[0mdtype\u001b[0m \u001b[1;33m=\u001b[0m \u001b[0mfill_value\u001b[0m\u001b[1;33m.\u001b[0m\u001b[0mdtype\u001b[0m\u001b[1;33m\u001b[0m\u001b[1;33m\u001b[0m\u001b[0m\n\u001b[0;32m    342\u001b[0m     \u001b[0ma\u001b[0m \u001b[1;33m=\u001b[0m \u001b[0mempty\u001b[0m\u001b[1;33m(\u001b[0m\u001b[0mshape\u001b[0m\u001b[1;33m,\u001b[0m \u001b[0mdtype\u001b[0m\u001b[1;33m,\u001b[0m \u001b[0morder\u001b[0m\u001b[1;33m)\u001b[0m\u001b[1;33m\u001b[0m\u001b[1;33m\u001b[0m\u001b[0m\n\u001b[1;32m--> 343\u001b[1;33m     \u001b[0mmultiarray\u001b[0m\u001b[1;33m.\u001b[0m\u001b[0mcopyto\u001b[0m\u001b[1;33m(\u001b[0m\u001b[0ma\u001b[0m\u001b[1;33m,\u001b[0m \u001b[0mfill_value\u001b[0m\u001b[1;33m,\u001b[0m \u001b[0mcasting\u001b[0m\u001b[1;33m=\u001b[0m\u001b[1;34m'unsafe'\u001b[0m\u001b[1;33m)\u001b[0m\u001b[1;33m\u001b[0m\u001b[1;33m\u001b[0m\u001b[0m\n\u001b[0m\u001b[0;32m    344\u001b[0m     \u001b[1;32mreturn\u001b[0m \u001b[0ma\u001b[0m\u001b[1;33m\u001b[0m\u001b[1;33m\u001b[0m\u001b[0m\n\u001b[0;32m    345\u001b[0m \u001b[1;33m\u001b[0m\u001b[0m\n",
      "\u001b[1;32m<__array_function__ internals>\u001b[0m in \u001b[0;36mcopyto\u001b[1;34m(*args, **kwargs)\u001b[0m\n",
      "\u001b[1;31mValueError\u001b[0m: could not broadcast input array from shape (2,) into shape (2,3)"
     ]
    }
   ],
   "source": [
    "# in this we will provide two value \n",
    "\n",
    "# dtype : int       shape: (2,3)      fill_value:[1,2]\n",
    "# carefull: here the second parameter is \"fill_values\" so we need to pass some values in that\n",
    "np.full((2,3),[1,2],int )"
   ]
  },
  {
   "cell_type": "markdown",
   "id": "quiet-cambridge",
   "metadata": {},
   "source": [
    "`Note:` We can see that when we try to pass value which are not equal to the column of the shape of the array. Then it will show the ValueError message.\n",
    "like,\n",
    "```ruby\n",
    "List: [1,2] or [1,2,3,4]\n",
    "```"
   ]
  },
  {
   "cell_type": "markdown",
   "id": "radical-financing",
   "metadata": {},
   "source": [
    "**Now we will pass the values equal to the column of the array**"
   ]
  },
  {
   "cell_type": "code",
   "execution_count": 46,
   "id": "consecutive-andrews",
   "metadata": {},
   "outputs": [
    {
     "data": {
      "text/plain": [
       "array([[1, 2, 3],\n",
       "       [1, 2, 3]])"
      ]
     },
     "execution_count": 46,
     "metadata": {},
     "output_type": "execute_result"
    }
   ],
   "source": [
    "# in this we will provide three value \n",
    "\n",
    "# dtype : int       shape: (2,3)      fill_value:[1,2,3]\n",
    "# Carefull: here the shape of the array is (2,3)\n",
    "# then the column values should be 3.\n",
    "\n",
    "np.full((2,3),[1,2,3],int )"
   ]
  },
  {
   "cell_type": "markdown",
   "id": "civilian-water",
   "metadata": {},
   "source": [
    "Now we can see the we have created the an array with a shape of (2,3) and fill_values:[1,2,3].\n",
    "\n",
    "But as you can notice that these values are repeting in each row. So if we dont want to repeat the values in the row then what?"
   ]
  },
  {
   "cell_type": "markdown",
   "id": "trained-treaty",
   "metadata": {},
   "source": [
    "**Now we will give the values equal to the rows and columns**"
   ]
  },
  {
   "cell_type": "code",
   "execution_count": 47,
   "id": "executed-weapon",
   "metadata": {},
   "outputs": [
    {
     "data": {
      "text/plain": [
       "array([[1, 2, 3],\n",
       "       [4, 5, 6]])"
      ]
     },
     "execution_count": 47,
     "metadata": {},
     "output_type": "execute_result"
    }
   ],
   "source": [
    "# in this we will provide two list containg the equal value \n",
    "\n",
    "# dtype : int       shape: (2,3)      fill_value:[1,2,3],[4, 5,6]\n",
    "# Carefull: here the shape of the array is (2,3)\n",
    "# then the column values should be 3.\n",
    "# and rows are 2.\n",
    "\n",
    "np.full((2,3),[[1,2,3],[4,5,6]],int )"
   ]
  },
  {
   "cell_type": "markdown",
   "id": "celtic-stone",
   "metadata": {},
   "source": [
    "Now as you can see that we have eleminate the problem of repetation of the values by providing the values equl to the rows and columns. \n",
    "\n",
    "`Note:` Be carefull when passing the *fill_values*. it should be equal to the number of columns or both columns and rows."
   ]
  },
  {
   "cell_type": "markdown",
   "id": "voluntary-visit",
   "metadata": {},
   "source": [
    "**Now we will double the shpae of the previous one**"
   ]
  },
  {
   "cell_type": "code",
   "execution_count": 50,
   "id": "running-guest",
   "metadata": {},
   "outputs": [
    {
     "ename": "ValueError",
     "evalue": "could not broadcast input array from shape (2,3) into shape (2,6)",
     "output_type": "error",
     "traceback": [
      "\u001b[1;31m---------------------------------------------------------------------------\u001b[0m",
      "\u001b[1;31mValueError\u001b[0m                                Traceback (most recent call last)",
      "\u001b[1;32m<ipython-input-50-dd59c9521e6e>\u001b[0m in \u001b[0;36m<module>\u001b[1;34m\u001b[0m\n\u001b[0;32m      6\u001b[0m \u001b[1;31m# and rows are 2.\u001b[0m\u001b[1;33m\u001b[0m\u001b[1;33m\u001b[0m\u001b[1;33m\u001b[0m\u001b[0m\n\u001b[0;32m      7\u001b[0m \u001b[1;33m\u001b[0m\u001b[0m\n\u001b[1;32m----> 8\u001b[1;33m \u001b[0mnp\u001b[0m\u001b[1;33m.\u001b[0m\u001b[0mfull\u001b[0m\u001b[1;33m(\u001b[0m\u001b[1;33m(\u001b[0m\u001b[1;36m2\u001b[0m\u001b[1;33m,\u001b[0m\u001b[1;36m6\u001b[0m\u001b[1;33m)\u001b[0m\u001b[1;33m,\u001b[0m\u001b[1;33m[\u001b[0m\u001b[1;33m[\u001b[0m\u001b[1;36m1\u001b[0m\u001b[1;33m,\u001b[0m\u001b[1;36m2\u001b[0m\u001b[1;33m,\u001b[0m\u001b[1;36m3\u001b[0m\u001b[1;33m]\u001b[0m\u001b[1;33m,\u001b[0m\u001b[1;33m[\u001b[0m\u001b[1;36m4\u001b[0m\u001b[1;33m,\u001b[0m\u001b[1;36m5\u001b[0m\u001b[1;33m,\u001b[0m\u001b[1;36m6\u001b[0m\u001b[1;33m]\u001b[0m\u001b[1;33m]\u001b[0m\u001b[1;33m,\u001b[0m\u001b[0mint\u001b[0m \u001b[1;33m)\u001b[0m\u001b[1;33m\u001b[0m\u001b[1;33m\u001b[0m\u001b[0m\n\u001b[0m",
      "\u001b[1;32mc:\\python\\python38\\lib\\site-packages\\numpy\\core\\numeric.py\u001b[0m in \u001b[0;36mfull\u001b[1;34m(shape, fill_value, dtype, order, like)\u001b[0m\n\u001b[0;32m    341\u001b[0m         \u001b[0mdtype\u001b[0m \u001b[1;33m=\u001b[0m \u001b[0mfill_value\u001b[0m\u001b[1;33m.\u001b[0m\u001b[0mdtype\u001b[0m\u001b[1;33m\u001b[0m\u001b[1;33m\u001b[0m\u001b[0m\n\u001b[0;32m    342\u001b[0m     \u001b[0ma\u001b[0m \u001b[1;33m=\u001b[0m \u001b[0mempty\u001b[0m\u001b[1;33m(\u001b[0m\u001b[0mshape\u001b[0m\u001b[1;33m,\u001b[0m \u001b[0mdtype\u001b[0m\u001b[1;33m,\u001b[0m \u001b[0morder\u001b[0m\u001b[1;33m)\u001b[0m\u001b[1;33m\u001b[0m\u001b[1;33m\u001b[0m\u001b[0m\n\u001b[1;32m--> 343\u001b[1;33m     \u001b[0mmultiarray\u001b[0m\u001b[1;33m.\u001b[0m\u001b[0mcopyto\u001b[0m\u001b[1;33m(\u001b[0m\u001b[0ma\u001b[0m\u001b[1;33m,\u001b[0m \u001b[0mfill_value\u001b[0m\u001b[1;33m,\u001b[0m \u001b[0mcasting\u001b[0m\u001b[1;33m=\u001b[0m\u001b[1;34m'unsafe'\u001b[0m\u001b[1;33m)\u001b[0m\u001b[1;33m\u001b[0m\u001b[1;33m\u001b[0m\u001b[0m\n\u001b[0m\u001b[0;32m    344\u001b[0m     \u001b[1;32mreturn\u001b[0m \u001b[0ma\u001b[0m\u001b[1;33m\u001b[0m\u001b[1;33m\u001b[0m\u001b[0m\n\u001b[0;32m    345\u001b[0m \u001b[1;33m\u001b[0m\u001b[0m\n",
      "\u001b[1;32m<__array_function__ internals>\u001b[0m in \u001b[0;36mcopyto\u001b[1;34m(*args, **kwargs)\u001b[0m\n",
      "\u001b[1;31mValueError\u001b[0m: could not broadcast input array from shape (2,3) into shape (2,6)"
     ]
    }
   ],
   "source": [
    "# in this we will increase the colulmns by twice but the input will be same as was in previous one.\n",
    "\n",
    "# dtype : int       shape: (2,3)      fill_value:[1,2,3],[4, 5,6]\n",
    "# Carefull: here the shape of the array is (2,3)\n",
    "# then the column values should be 3.\n",
    "# and rows are 2.\n",
    "\n",
    "np.full((2,6),[[1,2,3],[4,5,6]],int )"
   ]
  },
  {
   "cell_type": "markdown",
   "id": "norman-stability",
   "metadata": {},
   "source": [
    "`Error:` As can see that we have *ValueError* because we didn't pass the values in the right shape. So to solve this problem we have three option.\n",
    "\n",
    "* We can pass a single value which will fill all the (i,j) loaction\n",
    "* We can pass a single list which will fill the all row with same values.\n",
    "* We can pass an array or array_like object with the same shape of the current one. Like if the shape of the current full() array is (4,6) then we can pass an array with this shape.\n",
    "\n",
    "But for now we will only do the first two method."
   ]
  },
  {
   "cell_type": "markdown",
   "id": "faced-butterfly",
   "metadata": {},
   "source": [
    "#### Method 1"
   ]
  },
  {
   "cell_type": "code",
   "execution_count": 51,
   "id": "grateful-lounge",
   "metadata": {},
   "outputs": [
    {
     "data": {
      "text/plain": [
       "array([[1, 1, 1, 1, 1, 1],\n",
       "       [1, 1, 1, 1, 1, 1]])"
      ]
     },
     "execution_count": 51,
     "metadata": {},
     "output_type": "execute_result"
    }
   ],
   "source": [
    "np.full((2,6),[1],int )"
   ]
  },
  {
   "cell_type": "markdown",
   "id": "informed-completion",
   "metadata": {},
   "source": [
    "#### Method 2"
   ]
  },
  {
   "cell_type": "code",
   "execution_count": 53,
   "id": "isolated-picking",
   "metadata": {},
   "outputs": [
    {
     "data": {
      "text/plain": [
       "array([[1, 2, 3, 4, 5, 6],\n",
       "       [1, 2, 3, 4, 5, 6]])"
      ]
     },
     "execution_count": 53,
     "metadata": {},
     "output_type": "execute_result"
    }
   ],
   "source": [
    "np.full((2,6),[1,2,3,4,5,6],int )"
   ]
  },
  {
   "cell_type": "code",
   "execution_count": 54,
   "id": "grand-relative",
   "metadata": {},
   "outputs": [
    {
     "data": {
      "text/plain": [
       "array([[1, 2],\n",
       "       [1, 2],\n",
       "       [1, 2],\n",
       "       [1, 2],\n",
       "       [1, 2],\n",
       "       [1, 2]])"
      ]
     },
     "execution_count": 54,
     "metadata": {},
     "output_type": "execute_result"
    }
   ],
   "source": [
    "np.full((6,2),[1,2],int )"
   ]
  },
  {
   "cell_type": "markdown",
   "id": "lined-amazon",
   "metadata": {},
   "source": [
    "`Note:` As we can see that we have resolved the ValueError problem in this by using the first two methods.\n",
    "\n",
    "We didn't use the third method because if we want to fill all the values by ourself then we should use the *numpy.array()* funtion not this *numpy.full()* funtion to create an array which is having the all vlaues defined by user."
   ]
  },
  {
   "cell_type": "markdown",
   "id": "minute-bleeding",
   "metadata": {},
   "source": [
    "**Now we will see the like version of zeros, ones, empty and full arrays**\n",
    "\n",
    "These funciton are similar to the normal function of the numpy module.  \n",
    "\n",
    "* zeros_like\n",
    "* ones_like\n",
    "* empty_like\n",
    "* full_like\n",
    "\n",
    "For furthur reading on them see this:\n",
    "* <a href=\"zeros_link\">zeros_like()</a>\n",
    "* <a href=\"zeros_link\">ones_like()</a>\n",
    "* <a href=\"zeros_link\">empty_like()</a>\n",
    "* <a href=\"zeros_link\">full_like()</a>"
   ]
  },
  {
   "cell_type": "markdown",
   "id": "inclusive-wisconsin",
   "metadata": {},
   "source": [
    "## zeros_like array\n",
    "```ruby\n",
    "np.zeros_like(a, dtype=None, order='K', subok=True, shape=None)\n",
    "```\n",
    "Return an array of zeros with the same shape and type as a given array.\n",
    "\n",
    "`a:` a is the list or array like structure whcih is the input\n"
   ]
  },
  {
   "cell_type": "markdown",
   "id": "written-freeware",
   "metadata": {},
   "source": [
    "#### Case 1: if we pass 1d array."
   ]
  },
  {
   "cell_type": "code",
   "execution_count": 58,
   "id": "swedish-tattoo",
   "metadata": {},
   "outputs": [
    {
     "data": {
      "text/plain": [
       "array([0, 0, 0])"
      ]
     },
     "execution_count": 58,
     "metadata": {},
     "output_type": "execute_result"
    }
   ],
   "source": [
    "# we will give 'a' as a 1d array with a random shape\n",
    "\n",
    "a = [1,2,3]\n",
    "np.zeros_like(a)"
   ]
  },
  {
   "cell_type": "markdown",
   "id": "given-monitor",
   "metadata": {},
   "source": [
    "#### Case2: if we pass 2d array."
   ]
  },
  {
   "cell_type": "code",
   "execution_count": 61,
   "id": "ordered-lebanon",
   "metadata": {},
   "outputs": [
    {
     "data": {
      "text/plain": [
       "array([[0, 0, 0],\n",
       "       [0, 0, 0]])"
      ]
     },
     "execution_count": 61,
     "metadata": {},
     "output_type": "execute_result"
    }
   ],
   "source": [
    "# Now we will give 'a' as a 2d array with a random shape\n",
    "\n",
    "a = [[1,2,3],[4,5,3]]\n",
    "np.zeros_like(a, dtype=int)"
   ]
  },
  {
   "cell_type": "markdown",
   "id": "urban-david",
   "metadata": {},
   "source": [
    "#### Case 3: if we pass 3d array."
   ]
  },
  {
   "cell_type": "code",
   "execution_count": 64,
   "id": "nonprofit-bridal",
   "metadata": {},
   "outputs": [
    {
     "data": {
      "text/plain": [
       "array([[[0, 0],\n",
       "        [0, 0]],\n",
       "\n",
       "       [[0, 0],\n",
       "        [0, 0]],\n",
       "\n",
       "       [[0, 0],\n",
       "        [0, 0]]])"
      ]
     },
     "execution_count": 64,
     "metadata": {},
     "output_type": "execute_result"
    }
   ],
   "source": [
    "# Now we will pass 'a' as a 3d array with a random shape\n",
    " \n",
    "a = [    [[1,2], [3,4]],\n",
    "     \n",
    "         [[5,6], [7,8]],\n",
    "     \n",
    "         [[9,10],[11,12]]\n",
    "]\n",
    "\n",
    "np.zeros_like(a, dtype=int)"
   ]
  },
  {
   "cell_type": "markdown",
   "id": "owned-jordan",
   "metadata": {},
   "source": [
    "**difference b/w the `np.zeros` and `np.zeros_like`**\n",
    "\n",
    "Now we will use both np.zeros and np.zeros_like funtion\n",
    "1. Zeros method"
   ]
  },
  {
   "cell_type": "code",
   "execution_count": 67,
   "id": "fifth-development",
   "metadata": {},
   "outputs": [
    {
     "data": {
      "text/plain": [
       "array([[[0, 0, 0, 0],\n",
       "        [0, 0, 0, 0]],\n",
       "\n",
       "       [[0, 0, 0, 0],\n",
       "        [0, 0, 0, 0]],\n",
       "\n",
       "       [[0, 0, 0, 0],\n",
       "        [0, 0, 0, 0]]])"
      ]
     },
     "execution_count": 67,
     "metadata": {},
     "output_type": "execute_result"
    }
   ],
   "source": [
    "# Now we will use the zeros method \n",
    "np.zeros((3,2,4), dtype=int)"
   ]
  },
  {
   "cell_type": "markdown",
   "id": "narrative-costa",
   "metadata": {},
   "source": [
    "`Note:` In zeros function\n",
    "\n",
    "* We need to give the shape of the desired array."
   ]
  },
  {
   "cell_type": "code",
   "execution_count": 70,
   "id": "fitted-height",
   "metadata": {},
   "outputs": [
    {
     "data": {
      "text/plain": [
       "array([[[0, 0, 0, 0],\n",
       "        [0, 0, 0, 0]],\n",
       "\n",
       "       [[0, 0, 0, 0],\n",
       "        [0, 0, 0, 0]],\n",
       "\n",
       "       [[0, 0, 0, 0],\n",
       "        [0, 0, 0, 0]]])"
      ]
     },
     "execution_count": 70,
     "metadata": {},
     "output_type": "execute_result"
    }
   ],
   "source": [
    "# NOw we will use the zeros_like function\n",
    "a = a = [[[0, 0, 0, 0],\n",
    "        [0, 0, 0, 0]],\n",
    "\n",
    "       [[0, 0, 0, 0],\n",
    "        [0, 0, 0, 0]],\n",
    "\n",
    "       [[0, 0, 0, 0],\n",
    "        [0, 0, 0, 0]]]\n",
    "np.zeros_like(a, dtype=int)"
   ]
  },
  {
   "cell_type": "markdown",
   "id": "serial-charles",
   "metadata": {},
   "source": [
    "`Note:` In zeros_like function\n",
    "* We need to give the an array and we will get an array of zeros which has the same shape of input array."
   ]
  },
  {
   "cell_type": "markdown",
   "id": "spiritual-classification",
   "metadata": {},
   "source": [
    "**Conclusion**\n",
    "* In zeros we need to give the array shape and gets the array with a given shape.\n",
    "* In zeros_like we need to give an array and gets the array with a shape  same as the shape of the input array."
   ]
  },
  {
   "cell_type": "markdown",
   "id": "moved-jerusalem",
   "metadata": {},
   "source": [
    "## ones_like array\n",
    "\n",
    "`Note:` Since ones and ones_like are similar to the zeros and zeros_like respectively. So we will perfrom the 3d array."
   ]
  },
  {
   "cell_type": "code",
   "execution_count": 83,
   "id": "quiet-dairy",
   "metadata": {},
   "outputs": [
    {
     "name": "stdout",
     "output_type": "stream",
     "text": [
      "shape: (4, 3, 2)\n"
     ]
    },
    {
     "data": {
      "text/plain": [
       "array([[[1, 1],\n",
       "        [1, 1],\n",
       "        [1, 1]],\n",
       "\n",
       "       [[1, 1],\n",
       "        [1, 1],\n",
       "        [1, 1]],\n",
       "\n",
       "       [[1, 1],\n",
       "        [1, 1],\n",
       "        [1, 1]],\n",
       "\n",
       "       [[1, 1],\n",
       "        [1, 1],\n",
       "        [1, 1]]])"
      ]
     },
     "execution_count": 83,
     "metadata": {},
     "output_type": "execute_result"
    }
   ],
   "source": [
    "# Ones array\n",
    "print(\"shape:\",np.ones(shape=[4,3,2] , dtype=int).shape)\n",
    "np.ones(shape=[4,3,2] , dtype=int)"
   ]
  },
  {
   "cell_type": "code",
   "execution_count": 82,
   "id": "considerable-sequence",
   "metadata": {},
   "outputs": [
    {
     "name": "stdout",
     "output_type": "stream",
     "text": [
      "shape: (4, 3, 2)\n"
     ]
    }
   ],
   "source": []
  },
  {
   "cell_type": "code",
   "execution_count": 84,
   "id": "careful-toner",
   "metadata": {},
   "outputs": [
    {
     "name": "stdout",
     "output_type": "stream",
     "text": [
      "shape: (4, 2, 2)\n"
     ]
    },
    {
     "data": {
      "text/plain": [
       "array([[[1, 1],\n",
       "        [1, 1]],\n",
       "\n",
       "       [[1, 1],\n",
       "        [1, 1]],\n",
       "\n",
       "       [[1, 1],\n",
       "        [1, 1]],\n",
       "\n",
       "       [[1, 1],\n",
       "        [1, 1]]])"
      ]
     },
     "execution_count": 84,
     "metadata": {},
     "output_type": "execute_result"
    }
   ],
   "source": [
    "# ones_like array\n",
    "\n",
    "# Now we will pass 'a' as a 3d array with a random shape\n",
    " \n",
    "a = [    [[1,2], [3,4]],\n",
    "     \n",
    "         [[5,6], [7,8]],\n",
    "     \n",
    "         [[9,10],[11,12]],\n",
    "     \n",
    "         [[13,14],[15,16]]\n",
    "]\n",
    "print(\"shape:\",np.ones_like(a , dtype=int).shape)\n",
    "np.ones_like(a , dtype=int)"
   ]
  },
  {
   "cell_type": "markdown",
   "id": "secret-blade",
   "metadata": {},
   "source": [
    "**Conclusion**\n",
    "* In ones we need to give the array shape and gets the array with a given shape.\n",
    "* In ones_like we need to give an array and gets the array with a shape  same as the shape of the input array."
   ]
  },
  {
   "cell_type": "markdown",
   "id": "median-baghdad",
   "metadata": {},
   "source": [
    "## empty_like array"
   ]
  },
  {
   "cell_type": "code",
   "execution_count": 89,
   "id": "present-abortion",
   "metadata": {},
   "outputs": [
    {
     "name": "stdout",
     "output_type": "stream",
     "text": [
      "shape: (4, 2, 2)\n"
     ]
    },
    {
     "data": {
      "text/plain": [
       "array([[[6.23042070e-307, 4.67296746e-307],\n",
       "        [1.69121096e-306, 1.33511018e-306]],\n",
       "\n",
       "       [[8.34441742e-308, 1.78022342e-306],\n",
       "        [6.23058028e-307, 9.79107872e-307]],\n",
       "\n",
       "       [[6.89807188e-307, 7.56594375e-307],\n",
       "        [6.23060065e-307, 1.78021527e-306]],\n",
       "\n",
       "       [[8.34454050e-308, 1.11261027e-306],\n",
       "        [1.15706896e-306, 1.33512173e-306]]])"
      ]
     },
     "execution_count": 89,
     "metadata": {},
     "output_type": "execute_result"
    }
   ],
   "source": [
    "# we are making a empty array of a shape:[4,2,2]\n",
    "print(\"shape:\",np.ones_like(a , dtype=int).shape)\n",
    "np.empty([4,2,2])"
   ]
  },
  {
   "cell_type": "code",
   "execution_count": 90,
   "id": "sustainable-atmosphere",
   "metadata": {},
   "outputs": [
    {
     "name": "stdout",
     "output_type": "stream",
     "text": [
      "shape: (4, 2, 2)\n"
     ]
    },
    {
     "data": {
      "text/plain": [
       "array([[[1, 1],\n",
       "        [1, 1]],\n",
       "\n",
       "       [[1, 1],\n",
       "        [1, 1]],\n",
       "\n",
       "       [[1, 1],\n",
       "        [1, 1]],\n",
       "\n",
       "       [[1, 1],\n",
       "        [1, 1]]])"
      ]
     },
     "execution_count": 90,
     "metadata": {},
     "output_type": "execute_result"
    }
   ],
   "source": [
    "# we are making a empty_like array of a shape:[4,2,2]\n",
    "\n",
    "# this is the input array for the empty_like array which is float in dtype\n",
    "a = [[[6.23042070e-307, 4.67296746e-307],\n",
    "        [1.69121096e-306, 1.33511018e-306]],\n",
    "\n",
    "       [[8.34441742e-308, 1.78022342e-306],\n",
    "        [6.23058028e-307, 9.79107872e-307]],\n",
    "\n",
    "       [[6.89807188e-307, 7.56594375e-307],\n",
    "        [6.23060065e-307, 1.78021527e-306]],\n",
    "\n",
    "       [[8.34454050e-308, 1.11261027e-306],\n",
    "        [1.15706896e-306, 1.33512173e-306]]]\n",
    "\n",
    "# the shape of this a is (4,2,2)\n",
    "print(\"shape:\",np.empty_like(a, dtype=int).shape)\n",
    "\n",
    "# now we will make an int dtype array from the input float dtype array. \n",
    "np.empty_like(a, dtype=int)"
   ]
  },
  {
   "cell_type": "markdown",
   "id": "flexible-repeat",
   "metadata": {},
   "source": [
    "**Conclusion**\n",
    "* In empty we need to give the array shape and gets the array with a given shape.\n",
    "* In empty_like we need to give an array and gets the array with a shape  same as the shape of the input array."
   ]
  },
  {
   "cell_type": "markdown",
   "id": "surgical-destination",
   "metadata": {},
   "source": [
    "## full_like array"
   ]
  },
  {
   "cell_type": "code",
   "execution_count": 97,
   "id": "imposed-recall",
   "metadata": {},
   "outputs": [
    {
     "name": "stdout",
     "output_type": "stream",
     "text": [
      "shape:  (4, 3)\n"
     ]
    },
    {
     "data": {
      "text/plain": [
       "array([[1, 2, 3],\n",
       "       [1, 2, 3],\n",
       "       [1, 2, 3],\n",
       "       [1, 2, 3]])"
      ]
     },
     "execution_count": 97,
     "metadata": {},
     "output_type": "execute_result"
    }
   ],
   "source": [
    "# here fv variable represent the fill_value parameter values in the full and full_like array\n",
    "fv = [[1,2,3]]\n",
    "\n",
    "print(\"shape: \",np.full((4,3),fv ,dtype=int).shape)\n",
    "np.full((4,3),fv ,dtype=int)"
   ]
  },
  {
   "cell_type": "code",
   "execution_count": 99,
   "id": "special-stanford",
   "metadata": {},
   "outputs": [
    {
     "name": "stdout",
     "output_type": "stream",
     "text": [
      "shape:  (4, 3)\n"
     ]
    },
    {
     "data": {
      "text/plain": [
       "array([[-1,  0, -1],\n",
       "       [-1,  0, -1],\n",
       "       [-1,  0, -1],\n",
       "       [-1,  0, -1]])"
      ]
     },
     "execution_count": 99,
     "metadata": {},
     "output_type": "execute_result"
    }
   ],
   "source": [
    "a = [[1, 2, 3],\n",
    "       [1, 2, 3],\n",
    "       [1, 2, 3],\n",
    "       [1, 2, 3]]\n",
    "\n",
    "# here a is the input array which will help to get the shape of the desired array.\n",
    "\n",
    "fv = [[-1,0,-1]]\n",
    "# after getting the shape from the above array we will fill fv values in that array\n",
    "\n",
    "print(\"shape: \",np.full_like(a,fv ,dtype=int).shape)\n",
    "\n",
    "#\n",
    "np.full_like(a,fv, dtype=int)"
   ]
  },
  {
   "cell_type": "markdown",
   "id": "mobile-rehabilitation",
   "metadata": {},
   "source": [
    "**Over All Conclusion**\n",
    "We have seen that normal version of zeros, ones, empty and full need a shape of the desired array to create the array but in the *'_like'*  version of these function we need to give an array or an array like object such as list. "
   ]
  },
  {
   "cell_type": "markdown",
   "id": "automotive-manitoba",
   "metadata": {},
   "source": [
    "***\n",
    "---"
   ]
  },
  {
   "cell_type": "markdown",
   "id": "alive-statistics",
   "metadata": {},
   "source": [
    "***Now we will do the rest of the function***\n",
    "* arange()\n",
    "* linspace()\n",
    "* indices()\n",
    "* ogrid()\n",
    "* mgrid()"
   ]
  },
  {
   "cell_type": "markdown",
   "id": "african-montgomery",
   "metadata": {},
   "source": [
    "## arange() array\n",
    "Now we will do some operation on the arange funtion\n",
    "`arange:` arange function is very similar to the `range()` function. `range()` function generates the a series of number with a  step (constant diffenrene).\n",
    "\n",
    "```ruby\n",
    "numpy.arange([start, ]stop, [step, ]dtype=None, *, like=None)\n",
    "```\n",
    "Return evenly spaced values within a given interval.\n",
    "\n",
    "Values are generated within the half-open interval [start, stop) (in other words, the interval including start but excluding stop). \n",
    "\n",
    "For integer arguments the function is equivalent to the Python built-in range function, but returns an ndarray rather than a list.\n",
    "\n",
    "For furthur reading see this:\n",
    "<a href=\"https://numpy.org/doc/stable/reference/generated/numpy.arange.html?highlight=arange#numpy.arange\">numpy.arange()</a>\n",
    "\n",
    "**Like**"
   ]
  },
  {
   "cell_type": "code",
   "execution_count": 106,
   "id": "commercial-blank",
   "metadata": {},
   "outputs": [
    {
     "name": "stdout",
     "output_type": "stream",
     "text": [
      "1 11 21 31 41 51 61 71 81 91 101 "
     ]
    }
   ],
   "source": [
    "for i in range(1,111,10):\n",
    "    print(i, end=\" \")"
   ]
  },
  {
   "cell_type": "markdown",
   "id": "pleased-rainbow",
   "metadata": {},
   "source": [
    "`Note`: Here we have a series from 1 to 111 with a step or a constant difference b/w each number. Like this arange function also generate the array containg a series like range function."
   ]
  },
  {
   "cell_type": "code",
   "execution_count": 108,
   "id": "separated-coordinate",
   "metadata": {},
   "outputs": [
    {
     "data": {
      "text/plain": [
       "array([ 1, 11, 21, 31, 41, 51, 61, 71, 81, 91])"
      ]
     },
     "execution_count": 108,
     "metadata": {},
     "output_type": "execute_result"
    }
   ],
   "source": [
    "# now we will make a arange array\n",
    "\n",
    "np.arange(1,100,10)"
   ]
  },
  {
   "cell_type": "code",
   "execution_count": 109,
   "id": "thrown-selling",
   "metadata": {},
   "outputs": [
    {
     "data": {
      "text/plain": [
       "array([100, 110, 120, 130, 140, 150, 160, 170, 180, 190, 200, 210, 220,\n",
       "       230, 240, 250, 260, 270, 280, 290, 300, 310, 320, 330, 340, 350,\n",
       "       360, 370, 380, 390, 400, 410, 420, 430, 440, 450, 460, 470, 480,\n",
       "       490])"
      ]
     },
     "execution_count": 109,
     "metadata": {},
     "output_type": "execute_result"
    }
   ],
   "source": [
    "np.arange(100,500,10)"
   ]
  },
  {
   "cell_type": "markdown",
   "id": "distant-france",
   "metadata": {},
   "source": [
    "As you can see that `arange()` function return a ndarray."
   ]
  },
  {
   "cell_type": "markdown",
   "id": "compatible-converter",
   "metadata": {},
   "source": [
    "***Now we will use the `like` parameter in the arange function***\n",
    "\n",
    "`like:` like is an array or array like object in which we pass an array or array like object like list then it will generate the array having "
   ]
  },
  {
   "cell_type": "code",
   "execution_count": 114,
   "id": "military-population",
   "metadata": {},
   "outputs": [
    {
     "name": "stdout",
     "output_type": "stream",
     "text": [
      "[[1 1 1]\n",
      " [1 1 1]\n",
      " [1 1 1]\n",
      " [1 1 1]]\n"
     ]
    },
    {
     "data": {
      "text/plain": [
       "array([ 1,  2,  3,  4,  5,  6,  7,  8,  9, 10, 11, 12, 13, 14, 15, 16, 17,\n",
       "       18, 19, 20, 21, 22, 23, 24, 25, 26, 27, 28, 29, 30, 31, 32, 33, 34,\n",
       "       35, 36, 37, 38, 39, 40, 41, 42, 43, 44, 45, 46, 47, 48, 49, 50, 51,\n",
       "       52, 53, 54, 55, 56, 57, 58, 59, 60, 61, 62, 63, 64, 65, 66, 67, 68,\n",
       "       69, 70, 71, 72, 73, 74, 75, 76, 77, 78, 79, 80, 81, 82, 83, 84, 85,\n",
       "       86, 87, 88, 89, 90, 91, 92, 93, 94, 95, 96, 97, 98, 99])"
      ]
     },
     "execution_count": 114,
     "metadata": {},
     "output_type": "execute_result"
    }
   ],
   "source": [
    "alike = [[1, 2, 3],\n",
    "       [1, 2, 3],\n",
    "       [1, 2, 3],\n",
    "       [1, 2, 3]]\n",
    "alike = np.ones_like(alike)\n",
    "# here alike is the value of the like parameter in the arange function\n",
    "print(alike)\n",
    "np.arange(1,100,like=alike)"
   ]
  },
  {
   "cell_type": "markdown",
   "id": "numeric-least",
   "metadata": {},
   "source": [
    "`Note:` **The task of the creation of arange array with like parameter is not completed.**"
   ]
  },
  {
   "cell_type": "markdown",
   "id": "southeast-bearing",
   "metadata": {},
   "source": [
    "***"
   ]
  },
  {
   "cell_type": "markdown",
   "id": "intensive-production",
   "metadata": {},
   "source": [
    "## linspace() array\n",
    "\n",
    "When using a non-integer step, such as 0.1, the results will often not be consistent. It is better to use` numpy.linspace `for these cases.\n",
    "\n",
    "```ruby\n",
    "numpy.linspace(start, stop, num=50, endpoint=True, retstep=False, dtype=None, axis=0)\n",
    "```\n",
    "Return evenly spaced numbers over a specified interval.\n",
    "\n",
    "Returns num evenly spaced samples, calculated over the interval [start, stop].\n",
    "\n",
    "\n",
    "For furthur reading see this:\n",
    "<a href=\"https://numpy.org/doc/stable/reference/generated/numpy.linspace.html#numpy.linspace\" >numpy.linspace()</a>"
   ]
  },
  {
   "cell_type": "code",
   "execution_count": 119,
   "id": "alleged-significance",
   "metadata": {},
   "outputs": [
    {
     "name": "stdout",
     "output_type": "stream",
     "text": [
      "[ 1.          1.3877551   1.7755102   2.16326531  2.55102041  2.93877551\n",
      "  3.32653061  3.71428571  4.10204082  4.48979592  4.87755102  5.26530612\n",
      "  5.65306122  6.04081633  6.42857143  6.81632653  7.20408163  7.59183673\n",
      "  7.97959184  8.36734694  8.75510204  9.14285714  9.53061224  9.91836735\n",
      " 10.30612245 10.69387755 11.08163265 11.46938776 11.85714286 12.24489796\n",
      " 12.63265306 13.02040816 13.40816327 13.79591837 14.18367347 14.57142857\n",
      " 14.95918367 15.34693878 15.73469388 16.12244898 16.51020408 16.89795918\n",
      " 17.28571429 17.67346939 18.06122449 18.44897959 18.83673469 19.2244898\n",
      " 19.6122449  20.        ]\n",
      "\n",
      "length of the linspace array:  50\n"
     ]
    }
   ],
   "source": [
    "# As we can see in the syntex of the numpy.linspace all the values are given except start and stop.\n",
    "# start: this is the starting value of the series\n",
    "# stop: this ts the ending value of the series.\n",
    "\n",
    "linspace_array = np.linspace(1,20)\n",
    "print(linspace_array)\n",
    "\n",
    "print(\"\\nlength of the linspace array: \",len(linspace_array)) "
   ]
  },
  {
   "cell_type": "markdown",
   "id": "lesser-commission",
   "metadata": {},
   "source": [
    "As you can see that by default `linspace` generates the 50 values which are evenly spaced. \n",
    "\n",
    "Now if we change the `linspace(num=' 10' )` parameter to other value like 10 then it will generate only 10 values with evenly spaced."
   ]
  },
  {
   "cell_type": "code",
   "execution_count": 125,
   "id": "attractive-vocabulary",
   "metadata": {},
   "outputs": [
    {
     "name": "stdout",
     "output_type": "stream",
     "text": [
      "linspace array:\n",
      " [ 1.          3.11111111  5.22222222  7.33333333  9.44444444 11.55555556\n",
      " 13.66666667 15.77777778 17.88888889 20.        ]\n",
      "\n",
      "length of the linspace array:  10\n"
     ]
    }
   ],
   "source": [
    "linspace_array = np.linspace(1,20, num=10)\n",
    "print(\"linspace array:\\n\",linspace_array)\n",
    "\n",
    "print(\"\\nlength of the linspace array: \",len(linspace_array)) "
   ]
  },
  {
   "cell_type": "markdown",
   "id": "intense-maine",
   "metadata": {},
   "source": [
    "**if we make the `dtype=int` in the above code**"
   ]
  },
  {
   "cell_type": "code",
   "execution_count": 126,
   "id": "contemporary-prior",
   "metadata": {},
   "outputs": [
    {
     "name": "stdout",
     "output_type": "stream",
     "text": [
      "linspace array:\n",
      " [ 1  3  5  7  9 11 13 15 17 20]\n",
      "\n",
      "length of the linspace array:  10\n"
     ]
    }
   ],
   "source": [
    "linspace_array = np.linspace(1,20, num=10, dtype=int)\n",
    "print(\"linspace array:\\n\",linspace_array)\n",
    "\n",
    "print(\"\\nlength of the linspace array: \",len(linspace_array)) "
   ]
  },
  {
   "cell_type": "markdown",
   "id": "miniature-hunter",
   "metadata": {},
   "source": [
    "**if we give the `axis=1` in the above code**"
   ]
  },
  {
   "cell_type": "code",
   "execution_count": 131,
   "id": "empty-railway",
   "metadata": {},
   "outputs": [
    {
     "name": "stdout",
     "output_type": "stream",
     "text": [
      "linspace array:\n",
      " [ 1  3  5  7  9 11 13 15 17 20]\n",
      "\n",
      "length of the linspace array:  10\n"
     ]
    }
   ],
   "source": [
    "linspace_array = np.linspace(1,20, num=10, dtype=int , axis=-1)\n",
    "print(\"linspace array:\\n\",linspace_array)\n",
    "\n",
    "print(\"\\nlength of the linspace array: \",len(linspace_array)) "
   ]
  },
  {
   "cell_type": "markdown",
   "id": "swedish-torture",
   "metadata": {},
   "source": [
    "***"
   ]
  },
  {
   "cell_type": "markdown",
   "id": "listed-gamma",
   "metadata": {},
   "source": [
    "## indices() array\n",
    "```ruby\n",
    "numpy.indices(dimensions, dtype=<class 'int'>, sparse=False)\n",
    "```\n",
    "Return an array representing the indices of a grid.\n",
    "\n",
    "Compute an array where the subarrays contain index values 0, 1, … varying only along the corresponding axis.\n",
    "\n",
    "You can see this for furthur reading.\n",
    "<a href=\"https://numpy.org/doc/stable/reference/generated/numpy.indices.html?highlight=numpy%20indices#numpy.indices\" > numpy.indices()</a>"
   ]
  },
  {
   "cell_type": "code",
   "execution_count": 137,
   "id": "specific-inspector",
   "metadata": {},
   "outputs": [
    {
     "data": {
      "text/plain": [
       "array([[[0, 0, 0, 0],\n",
       "        [1, 1, 1, 1],\n",
       "        [2, 2, 2, 2],\n",
       "        [3, 3, 3, 3]],\n",
       "\n",
       "       [[0, 1, 2, 3],\n",
       "        [0, 1, 2, 3],\n",
       "        [0, 1, 2, 3],\n",
       "        [0, 1, 2, 3]]])"
      ]
     },
     "execution_count": 137,
     "metadata": {},
     "output_type": "execute_result"
    }
   ],
   "source": [
    "np.indices((4,4))"
   ]
  },
  {
   "cell_type": "code",
   "execution_count": 138,
   "id": "undefined-thomas",
   "metadata": {},
   "outputs": [
    {
     "data": {
      "text/plain": [
       "array([[[0, 0, 0, 0, 0],\n",
       "        [1, 1, 1, 1, 1],\n",
       "        [2, 2, 2, 2, 2],\n",
       "        [3, 3, 3, 3, 3]],\n",
       "\n",
       "       [[0, 1, 2, 3, 4],\n",
       "        [0, 1, 2, 3, 4],\n",
       "        [0, 1, 2, 3, 4],\n",
       "        [0, 1, 2, 3, 4]]])"
      ]
     },
     "execution_count": 138,
     "metadata": {},
     "output_type": "execute_result"
    }
   ],
   "source": [
    "np.indices((4,5))"
   ]
  },
  {
   "cell_type": "markdown",
   "id": "forced-acrylic",
   "metadata": {},
   "source": [
    "**if `sparse=True`**"
   ]
  },
  {
   "cell_type": "code",
   "execution_count": 139,
   "id": "strong-democracy",
   "metadata": {},
   "outputs": [
    {
     "data": {
      "text/plain": [
       "(array([[0],\n",
       "        [1],\n",
       "        [2],\n",
       "        [3]]),\n",
       " array([[0, 1, 2, 3, 4]]))"
      ]
     },
     "execution_count": 139,
     "metadata": {},
     "output_type": "execute_result"
    }
   ],
   "source": [
    "np.indices((4,5), sparse=True)"
   ]
  },
  {
   "cell_type": "markdown",
   "id": "alert-worth",
   "metadata": {},
   "source": [
    "***"
   ]
  },
  {
   "cell_type": "markdown",
   "id": "downtown-cheese",
   "metadata": {},
   "source": [
    "## ogrid() array\n",
    "```ruby\n",
    "numpy.ogrid = <numpy.lib.index_tricks.OGridClass object>\n",
    "```\n",
    "nd_grid instance which returns an open multi-dimensional “meshgrid”.\n",
    "\n",
    "An instance of numpy.lib.index_tricks.nd_grid which returns an open (i.e. not fleshed out) mesh-grid when indexed, so that only one dimension of each returned array is greater than 1. The dimension and number of the output arrays are equal to the number of indexing dimensions. If the step length is not a complex number, then the stop is not inclusive.\n",
    "\n",
    "However, if the step length is a complex number (e.g. 5j), then the integer part of its magnitude is interpreted as specifying the number of points to create between the start and stop values, where the stop value is inclusive.\n",
    "\n",
    "You can see this for furthur reading.\n",
    "<a href=\"https://numpy.org/doc/stable/reference/generated/numpy.ogrid.html?highlight=numpy%20ogrid#numpy.ogrid\" > numpy.ogrid()</a>"
   ]
  },
  {
   "cell_type": "code",
   "execution_count": 142,
   "id": "signed-brook",
   "metadata": {},
   "outputs": [
    {
     "data": {
      "text/plain": [
       "[array([[0],\n",
       "        [1],\n",
       "        [2],\n",
       "        [3],\n",
       "        [4],\n",
       "        [5],\n",
       "        [6],\n",
       "        [7],\n",
       "        [8],\n",
       "        [9]]),\n",
       " array([[ 0,  1,  2,  3,  4,  5,  6,  7,  8,  9, 10, 11, 12, 13, 14]])]"
      ]
     },
     "execution_count": 142,
     "metadata": {},
     "output_type": "execute_result"
    }
   ],
   "source": [
    "np.ogrid[0:10,0:15]"
   ]
  },
  {
   "cell_type": "code",
   "execution_count": 150,
   "id": "baking-boundary",
   "metadata": {},
   "outputs": [
    {
     "data": {
      "text/plain": [
       "array([-1.        , -0.42105263,  0.15789474,  0.73684211,  1.31578947,\n",
       "        1.89473684,  2.47368421,  3.05263158,  3.63157895,  4.21052632,\n",
       "        4.78947368,  5.36842105,  5.94736842,  6.52631579,  7.10526316,\n",
       "        7.68421053,  8.26315789,  8.84210526,  9.42105263, 10.        ])"
      ]
     },
     "execution_count": 150,
     "metadata": {},
     "output_type": "execute_result"
    }
   ],
   "source": [
    "np.ogrid[-1:10:20j]"
   ]
  },
  {
   "cell_type": "markdown",
   "id": "assisted-worker",
   "metadata": {},
   "source": [
    "***"
   ]
  },
  {
   "cell_type": "markdown",
   "id": "sharp-excuse",
   "metadata": {},
   "source": [
    "## mgrid() array\n",
    "```ruby\n",
    "numpy.mgrid = <numpy.lib.index_tricks.MGridClass object>\n",
    "```\n",
    "nd_grid instance which returns a dense multi-dimensional “meshgrid”.\n",
    "\n",
    "An instance of numpy.lib.index_tricks.nd_grid which returns an dense (or fleshed out) mesh-grid when indexed, so that each returned argument has the same shape. The dimensions and number of the output arrays are equal to the number of indexing dimensions. If the step length is not a complex number, then the stop is not inclusive.\n",
    "\n",
    "However, if the step length is a complex number (e.g. 5j), then the integer part of its magnitude is interpreted as specifying the number of points to create between the start and stop values, where the stop value is inclusive.\n",
    "\n",
    "You can see this for furthur reading.\n",
    "<a href=\"https://numpy.org/doc/stable/reference/generated/numpy.mgrid.html#numpy.mgrid\" > numpy.mgrid()</a>"
   ]
  },
  {
   "cell_type": "code",
   "execution_count": 143,
   "id": "heated-wiring",
   "metadata": {},
   "outputs": [
    {
     "data": {
      "text/plain": [
       "array([[[ 0,  0,  0,  0,  0,  0,  0,  0,  0,  0,  0,  0,  0,  0,  0],\n",
       "        [ 1,  1,  1,  1,  1,  1,  1,  1,  1,  1,  1,  1,  1,  1,  1],\n",
       "        [ 2,  2,  2,  2,  2,  2,  2,  2,  2,  2,  2,  2,  2,  2,  2],\n",
       "        [ 3,  3,  3,  3,  3,  3,  3,  3,  3,  3,  3,  3,  3,  3,  3],\n",
       "        [ 4,  4,  4,  4,  4,  4,  4,  4,  4,  4,  4,  4,  4,  4,  4],\n",
       "        [ 5,  5,  5,  5,  5,  5,  5,  5,  5,  5,  5,  5,  5,  5,  5],\n",
       "        [ 6,  6,  6,  6,  6,  6,  6,  6,  6,  6,  6,  6,  6,  6,  6],\n",
       "        [ 7,  7,  7,  7,  7,  7,  7,  7,  7,  7,  7,  7,  7,  7,  7],\n",
       "        [ 8,  8,  8,  8,  8,  8,  8,  8,  8,  8,  8,  8,  8,  8,  8],\n",
       "        [ 9,  9,  9,  9,  9,  9,  9,  9,  9,  9,  9,  9,  9,  9,  9]],\n",
       "\n",
       "       [[ 0,  1,  2,  3,  4,  5,  6,  7,  8,  9, 10, 11, 12, 13, 14],\n",
       "        [ 0,  1,  2,  3,  4,  5,  6,  7,  8,  9, 10, 11, 12, 13, 14],\n",
       "        [ 0,  1,  2,  3,  4,  5,  6,  7,  8,  9, 10, 11, 12, 13, 14],\n",
       "        [ 0,  1,  2,  3,  4,  5,  6,  7,  8,  9, 10, 11, 12, 13, 14],\n",
       "        [ 0,  1,  2,  3,  4,  5,  6,  7,  8,  9, 10, 11, 12, 13, 14],\n",
       "        [ 0,  1,  2,  3,  4,  5,  6,  7,  8,  9, 10, 11, 12, 13, 14],\n",
       "        [ 0,  1,  2,  3,  4,  5,  6,  7,  8,  9, 10, 11, 12, 13, 14],\n",
       "        [ 0,  1,  2,  3,  4,  5,  6,  7,  8,  9, 10, 11, 12, 13, 14],\n",
       "        [ 0,  1,  2,  3,  4,  5,  6,  7,  8,  9, 10, 11, 12, 13, 14],\n",
       "        [ 0,  1,  2,  3,  4,  5,  6,  7,  8,  9, 10, 11, 12, 13, 14]]])"
      ]
     },
     "execution_count": 143,
     "metadata": {},
     "output_type": "execute_result"
    }
   ],
   "source": [
    "np.mgrid[0:10,0:15]"
   ]
  },
  {
   "cell_type": "code",
   "execution_count": 148,
   "id": "indirect-retailer",
   "metadata": {},
   "outputs": [
    {
     "data": {
      "text/plain": [
       "array([-1.        ,  0.22222222,  1.44444444,  2.66666667,  3.88888889,\n",
       "        5.11111111,  6.33333333,  7.55555556,  8.77777778, 10.        ])"
      ]
     },
     "execution_count": 148,
     "metadata": {},
     "output_type": "execute_result"
    }
   ],
   "source": [
    "np.mgrid[-1:10:10j]"
   ]
  },
  {
   "cell_type": "markdown",
   "id": "massive-mixture",
   "metadata": {},
   "source": []
  },
  {
   "cell_type": "markdown",
   "id": "environmental-barcelona",
   "metadata": {},
   "source": [
    "***\n",
    "---"
   ]
  },
  {
   "cell_type": "markdown",
   "id": "growing-makeup",
   "metadata": {},
   "source": [
    "## ndarray() \n",
    "\n",
    "Now we will see the another method to create the n-dimensional array which is `numpy.ndarray()`.\n",
    "\n",
    "```ruby\n",
    "class numpy.ndarray(shape, dtype=float, buffer=None, offset=0, strides=None, order=None)\n",
    "```\n",
    "An array object represents a multidimensional, homogeneous array of fixed-size items. An associated data-type object describes the format of each element in the array (its byte-order, how many bytes it occupies in memory, whether it is an integer, a floating point number, or something else, etc.)\n",
    "\n",
    "Arrays should be constructed using `array`, `zeros` or `empty` (refer to the See Also section below). The parameters given here refer to a low-level method (ndarray(…)) for instantiating an array.\n",
    "\n",
    "For more information, refer to the `numpy` module and examine the methods and attributes of an array.\n",
    "\n",
    "\n",
    "You can see this for furthur reading.\n",
    "<a href=\"https://numpy.org/doc/stable/reference/generated/numpy.ndarray.html?\" > numpy.ndarray()</a>"
   ]
  },
  {
   "cell_type": "markdown",
   "id": "listed-transfer",
   "metadata": {},
   "source": [
    "**ndarray** has some other argument compare to the above function such as *array, zeros, and empty*.\n",
    "\n",
    "```ruby\n",
    "buffer: # Used to fill the array with data.\n",
    "offset: # Offset of array data in buffer.\n",
    "strides: # Strides of data in memory. \n",
    "```"
   ]
  },
  {
   "cell_type": "markdown",
   "id": "sunset-turtle",
   "metadata": {},
   "source": [
    "#### making the simple ndarry"
   ]
  },
  {
   "cell_type": "code",
   "execution_count": 2,
   "id": "brilliant-baseball",
   "metadata": {},
   "outputs": [
    {
     "data": {
      "text/plain": [
       "array([[[0, 0],\n",
       "        [0, 0],\n",
       "        [0, 0]],\n",
       "\n",
       "       [[0, 0],\n",
       "        [0, 0],\n",
       "        [0, 0]],\n",
       "\n",
       "       [[0, 0],\n",
       "        [0, 0],\n",
       "        [0, 0]],\n",
       "\n",
       "       [[0, 0],\n",
       "        [0, 0],\n",
       "        [0, 0]]])"
      ]
     },
     "execution_count": 2,
     "metadata": {},
     "output_type": "execute_result"
    }
   ],
   "source": [
    "# In the making of the simple array we need at least one or two arguments.\n",
    "# one is the shape of the array and other is the dtype of the array if you want to specify.\n",
    "\n",
    "# now we will make an array shape of (4,3,2).\n",
    "np.ndarray([4,3,2] , dtype=int)"
   ]
  },
  {
   "cell_type": "markdown",
   "id": "daily-contamination",
   "metadata": {},
   "source": [
    "As we can see that, by default in a simple ndarray creats an array of zeros, Now if we want to make an array with some predefined array like object then we can use the buffer parameter."
   ]
  },
  {
   "cell_type": "markdown",
   "id": "educated-doctrine",
   "metadata": {},
   "source": [
    "#### ndarray with the `buffer` argument.\n",
    "\n",
    "There are two modes of creating an array using __new__:\n",
    "\n",
    "1. If buffer is None, then only shape, dtype, and order are used.\n",
    "\n",
    "2. If buffer is an object exposing the buffer interface, then all keywords are interpreted.\n",
    "\n",
    "No __init__ method is needed because the array is fully initialized after the __new__ method.\n",
    "\n",
    "**Examples**\n",
    "***\n",
    "These examples illustrate the low-level ndarray constructor. Refer to the See Also section above for easier ways of constructing an ndarray.\n",
    "\n",
    "First mode, buffer is None:"
   ]
  },
  {
   "cell_type": "code",
   "execution_count": 13,
   "id": "hired-logistics",
   "metadata": {},
   "outputs": [
    {
     "name": "stdout",
     "output_type": "stream",
     "text": [
      "\n",
      "one-dimensional array: \n",
      " [ 1  2  3  4  5  6  7  8  9 10]\n",
      "\n",
      "two-dimensional array: \n",
      " [[ 1  2  3]\n",
      " [ 4  5  6]\n",
      " [ 7  8  9]\n",
      " [10 11 12]]\n",
      "\n",
      "three-dimensional array: \n",
      " [[[ 1  2]\n",
      "  [ 3  4]\n",
      "  [ 5  6]]\n",
      "\n",
      " [[ 7  8]\n",
      "  [ 9 10]\n",
      "  [11 12]]\n",
      "\n",
      " [[13 14]\n",
      "  [15 16]\n",
      "  [17 18]]\n",
      "\n",
      " [[19 20]\n",
      "  [21 22]\n",
      "  [23 24]]]\n"
     ]
    }
   ],
   "source": [
    "# this time we will store the array into in a object\n",
    "\n",
    "# buffer: buffer is used to pass the values or some other array like object which will be used to create the new ndarray\n",
    "\n",
    "# creating an 1d array with the help of the buffer.\n",
    "nd_array_1d = np.ndarray([10,], dtype=int, buffer=np.arange(1,20))\n",
    "print(\"\\none-dimensional array: \\n\", nd_array_1d)\n",
    "\n",
    "# creating an 2d array with the help of the buffer.\n",
    "nd_array_2d = np.ndarray([4,3], dtype=int, buffer=np.arange(1,20))\n",
    "print(\"\\ntwo-dimensional array: \\n\", nd_array_2d)\n",
    "\n",
    "\n",
    "# creating an 3d array with the help of the buffer.\n",
    "nd_array_3d = np.ndarray([4,3,2], dtype=int, buffer=np.arange(1,25))\n",
    "print(\"\\nthree-dimensional array: \\n\", nd_array_3d)"
   ]
  },
  {
   "cell_type": "markdown",
   "id": "beginning-bicycle",
   "metadata": {},
   "source": [
    "`Note:` if we passing the an array or array like object in the buffer then the length of the array should be equel to the size of the array or gretar then the size of the array.\n",
    "\n",
    "**TypeError:** buffer is too small for requested array\n",
    "\n",
    "This TypeError will come when over buffer length is small than the array size as showing in the below cell."
   ]
  },
  {
   "cell_type": "code",
   "execution_count": 14,
   "id": "exterior-interim",
   "metadata": {},
   "outputs": [
    {
     "ename": "TypeError",
     "evalue": "buffer is too small for requested array",
     "output_type": "error",
     "traceback": [
      "\u001b[1;31m---------------------------------------------------------------------------\u001b[0m",
      "\u001b[1;31mTypeError\u001b[0m                                 Traceback (most recent call last)",
      "\u001b[1;32m<ipython-input-14-2c23d38f9102>\u001b[0m in \u001b[0;36m<module>\u001b[1;34m\u001b[0m\n\u001b[1;32m----> 1\u001b[1;33m \u001b[0mnp\u001b[0m\u001b[1;33m.\u001b[0m\u001b[0mndarray\u001b[0m\u001b[1;33m(\u001b[0m\u001b[1;33m[\u001b[0m\u001b[1;36m4\u001b[0m\u001b[1;33m,\u001b[0m\u001b[1;36m3\u001b[0m\u001b[1;33m,\u001b[0m\u001b[1;36m2\u001b[0m\u001b[1;33m]\u001b[0m\u001b[1;33m,\u001b[0m \u001b[0mdtype\u001b[0m\u001b[1;33m=\u001b[0m\u001b[0mint\u001b[0m\u001b[1;33m,\u001b[0m \u001b[0mbuffer\u001b[0m\u001b[1;33m=\u001b[0m\u001b[0mnp\u001b[0m\u001b[1;33m.\u001b[0m\u001b[0marange\u001b[0m\u001b[1;33m(\u001b[0m\u001b[1;36m1\u001b[0m\u001b[1;33m,\u001b[0m\u001b[1;36m15\u001b[0m\u001b[1;33m)\u001b[0m\u001b[1;33m)\u001b[0m\u001b[1;33m\u001b[0m\u001b[1;33m\u001b[0m\u001b[0m\n\u001b[0m",
      "\u001b[1;31mTypeError\u001b[0m: buffer is too small for requested array"
     ]
    }
   ],
   "source": [
    "np.ndarray([4,3,2], dtype=int, buffer=np.arange(1,15))"
   ]
  },
  {
   "cell_type": "markdown",
   "id": "royal-cuisine",
   "metadata": {},
   "source": [
    "if we want to check the length of the both buffer array and ndarry then we have to use size property on both of them."
   ]
  },
  {
   "cell_type": "code",
   "execution_count": 16,
   "id": "fluid-jimmy",
   "metadata": {},
   "outputs": [
    {
     "name": "stdout",
     "output_type": "stream",
     "text": [
      "Size of the ndarray: 24\n",
      "Size of the buffer array: 14\n"
     ]
    }
   ],
   "source": [
    "print(\"Size of the ndarray:\",np.ndarray([4,3,2]).size )\n",
    "print(\"Size of the buffer array:\",np.arange(1,15).size)"
   ]
  },
  {
   "cell_type": "markdown",
   "id": "elder-review",
   "metadata": {},
   "source": [
    "As you can see that the size of ndarray and buffer array are not same that's why it show `TypeError`.\n",
    "\n",
    "**Solution:** we need to pass an array in buffer which has the same or large size to the ndarray. Like in above code if we make the buffer array as\n",
    "```ruby\n",
    "np.arange(1,25).size  or  np.arange(1,30).size\n",
    "\n",
    "```\n",
    "then in both situation we can create the desired ndarray."
   ]
  },
  {
   "cell_type": "code",
   "execution_count": 17,
   "id": "chicken-planet",
   "metadata": {},
   "outputs": [
    {
     "name": "stdout",
     "output_type": "stream",
     "text": [
      "Size of the ndarray: 24\n",
      "Size of the buffer array: 24\n"
     ]
    }
   ],
   "source": [
    "print(\"Size of the ndarray:\",np.ndarray([4,3,2]).size )\n",
    "print(\"Size of the buffer array:\",np.arange(1,25).size)"
   ]
  },
  {
   "cell_type": "code",
   "execution_count": 18,
   "id": "bulgarian-stream",
   "metadata": {},
   "outputs": [
    {
     "name": "stdout",
     "output_type": "stream",
     "text": [
      "[[[ 1  2]\n",
      "  [ 3  4]\n",
      "  [ 5  6]]\n",
      "\n",
      " [[ 7  8]\n",
      "  [ 9 10]\n",
      "  [11 12]]\n",
      "\n",
      " [[13 14]\n",
      "  [15 16]\n",
      "  [17 18]]\n",
      "\n",
      " [[19 20]\n",
      "  [21 22]\n",
      "  [23 24]]]\n"
     ]
    }
   ],
   "source": [
    "array = np.ndarray([4,3,2], dtype=int, buffer=np.arange(1,25))\n",
    "print(array)"
   ]
  },
  {
   "cell_type": "markdown",
   "id": "surgical-victim",
   "metadata": {},
   "source": [
    "Now we are done with the buffer argument. Now we will see offset argument with buffer.\n",
    "\n",
    "#### 3. ndarray with `buffer & offset` arguments."
   ]
  },
  {
   "cell_type": "code",
   "execution_count": 41,
   "id": "alive-spanking",
   "metadata": {},
   "outputs": [
    {
     "name": "stdout",
     "output_type": "stream",
     "text": [
      "ndarry without the offset in buffer:\n",
      " [[ 1  2  3]\n",
      " [ 4  5  6]\n",
      " [ 7  8  9]\n",
      " [10 11 12]]\n",
      "\n",
      "arry with the offset in buffer:\n",
      " [[ 3  4  5]\n",
      " [ 6  7  8]\n",
      " [ 9 10 11]\n",
      " [12 13 14]]\n"
     ]
    }
   ],
   "source": [
    "# offset works with the buffer lets see that how offset effets the buffer and the ndarray.\n",
    "\n",
    "# 1. first of all we will make a 2d aray without offet.\n",
    "array = np.ndarray([4,3], dtype=int, buffer=np.arange(1,13))\n",
    "print(\"ndarry without the offset in buffer:\\n\",array)\n",
    "\n",
    "# 2. array with an offset in the buffer\n",
    "# note that when we use the offset then we need to give the extra number of vaues to the buffer.\n",
    "# since we in the above array we have passed 13 item but in then we need to give  some extra values according to the offset.\n",
    "\n",
    "# if offset is 2*itemsize then pass we need ot pass 2 extra item in the buffer\n",
    "itemsize = np.int_().itemsize\n",
    "n = 2 # here n can be 1,2,,3,4,5,6,7,8....upto size of the array.\n",
    "\n",
    "array = np.ndarray([4,3], dtype=int, buffer=np.arange(1,20), offset=n*itemsize)\n",
    "print(\"\\narry with the offset in buffer:\\n\",array)"
   ]
  },
  {
   "cell_type": "markdown",
   "id": "national-ambassador",
   "metadata": {},
   "source": [
    "Here in above result there is some difference in the result. the difference is that in second array with offset is do not have the first two element of the `np.arange(1,20)` array.\n",
    "\n",
    "Because by using the  `offset` we have skipped two  items form the `np.arange(1,20)` array."
   ]
  },
  {
   "cell_type": "markdown",
   "id": "superb-newcastle",
   "metadata": {},
   "source": [
    "#### 4. Exoloring the `buffer` with `offset`.\n",
    "\n",
    "To explore the offset with buffer we need to answer some the questions.\n",
    "\n",
    "*  How offset works.\n",
    "* Why we used the itemsize in the offset\n",
    "* How offset skips the values.\n",
    "* How to use the offset."
   ]
  },
  {
   "cell_type": "markdown",
   "id": "italic-powell",
   "metadata": {},
   "source": [
    "***1. How offset works***\n",
    "\n",
    "offset takes the integer value as input but the problem is that it does not takes any integer value. we have to give it according to the our ndarray `dtype.itemsize`. It means we need to calculate the memory size of the one single vlaue which is placed in the array."
   ]
  },
  {
   "cell_type": "code",
   "execution_count": 50,
   "id": "lined-pleasure",
   "metadata": {},
   "outputs": [
    {
     "name": "stdout",
     "output_type": "stream",
     "text": [
      "array: \n",
      " [[ 2  3  4]\n",
      " [ 5  6  7]\n",
      " [ 8  9 10]\n",
      " [11 12 13]]\n",
      "\n",
      "Data type of the array:  int32\n",
      "\n",
      "Memory size of the single item: 4\n"
     ]
    }
   ],
   "source": [
    "# calculating the intemsize of the items in the array.\n",
    "array = np.ndarray([4,3], dtype=int, buffer=np.arange(1,20), offset=1*np.int_().itemsize)\n",
    "\n",
    "# we can use also np.int32().intemsize both will give the same result.\n",
    "\n",
    "print(\"array: \\n\",array)\n",
    "print(\"\\nData type of the array: \",array.dtype)\n",
    "print(\"\\nMemory size of the single item:\",array.itemsize)"
   ]
  },
  {
   "cell_type": "markdown",
   "id": "meaning-calendar",
   "metadata": {},
   "source": [
    "Now if we replace our code\n",
    "```ruby\n",
    "array = np.ndarray([4,3], dtype=int, buffer=np.arange(1,20), offset=1*np.int_().itemsize)\n",
    "```\n",
    "as\n",
    "```ruby\n",
    "n=1 # factor of the itemsize\n",
    "itemsize = np.int32().itemsize\n",
    "array = np.ndarray([4,3], dtype=int, buffer=np.arange(1,20), offset=n*itemsize)\n",
    "```\n",
    "Then `n` will be the factor of the itemsize of the array. now we can simple skip the items by changing the n since we have computed the itemsize.\n",
    "\n",
    "Now this time we will use the float as the dtype of the array."
   ]
  },
  {
   "cell_type": "code",
   "execution_count": 62,
   "id": "convenient-alaska",
   "metadata": {},
   "outputs": [
    {
     "name": "stdout",
     "output_type": "stream",
     "text": [
      "original array:\n",
      " [[4.24399158e-314 8.48798317e-314 1.27319747e-313]\n",
      " [1.69759663e-313 2.12199579e-313 2.54639495e-313]\n",
      " [2.97079411e-313 3.39519327e-313 3.81959242e-313]\n",
      " [4.24399158e-313 4.66839074e-313 5.09278990e-313]]\n",
      "\n",
      "array: skipping first 3 items:\n",
      " [[1.69759663e-313 2.12199579e-313 2.54639495e-313]\n",
      " [2.97079411e-313 3.39519327e-313 3.81959242e-313]\n",
      " [4.24399158e-313 4.66839074e-313 5.09278990e-313]\n",
      " [5.51718906e-313 5.94158822e-313 6.36598737e-313]]\n",
      "\n",
      "Data type of the array:  float64\n",
      "\n",
      "Memory size of the single item: 8\n"
     ]
    }
   ],
   "source": [
    "# This time array has float type of data, So we need to change the dtype also to compute the itemsize\n",
    "\n",
    "array = np.ndarray([4,3], dtype=np.float_, buffer=np.arange(1,50))\n",
    "print(\"original array:\\n\",array)\n",
    "\n",
    "n=3 # factor of the itemsize\n",
    "itemsize = np.float_().itemsize\n",
    "array = np.ndarray([4,3], dtype=np.float_, buffer=np.arange(1,50), offset=n*itemsize)\n",
    "\n",
    "\n",
    "print(f\"\\narray: skipping first {n} items:\\n\",array)\n",
    "print(\"\\nData type of the array: \",array.dtype)\n",
    "print(\"\\nMemory size of the single item:\",array.itemsize)"
   ]
  },
  {
   "cell_type": "markdown",
   "id": "prescription-seven",
   "metadata": {},
   "source": [
    "***2. why we use the itemsize***\n",
    "\n",
    "`Ans:` We use the itemsize becaues offset basically takes the memory size of an item. Suppose we have an array with *int* dtype then we need ot pass the offest as 4,8,12,16......and so on, because we need to tell the offeset that this much amout of the data need to be skipped.\n",
    "\n",
    "***3. How offset skips the values***\n",
    "\n",
    "`Ans:` indxing or number of element does not work in the offset directly. if we want to make it as the numbers of elements need to be skipped, then we need to compute the itemsize of the array then we can make it as `n*itemsize`. Where *itemsize* is the factor of the real number and the value of the itemsize depends on the array dtype.\n",
    "\n",
    "***4. How to use the offset.***\n",
    "\n",
    "`Ans:` To use the offset we need to give some values.\n",
    "* We need pass the memory size of the item, suppose that if we want to skip first ***n*** number of item then we need to pass `n*(memory size of one item)`. \n",
    "* We need to know that what type of data is using in the ndarray to use the offset."
   ]
  },
  {
   "cell_type": "markdown",
   "id": "stainless-navigation",
   "metadata": {},
   "source": [
    "#### 5. ndarray with `strides`.\n",
    "\n",
    "`ndarray.strides:`\n",
    "Tuple of bytes to step in each dimension when traversing an array.\n",
    "\n",
    "The byte offset of element (i[0], i[1], ..., i[n]) in an array a is:\n",
    "```ruby\n",
    "offset = sum(np.array(i) * a.strides)\n",
    "```\n",
    "A more detailed explanation of strides can be found in the “ndarray.rst” file in the NumPy reference guide."
   ]
  },
  {
   "cell_type": "code",
   "execution_count": 77,
   "id": "surrounded-childhood",
   "metadata": {},
   "outputs": [
    {
     "name": "stdout",
     "output_type": "stream",
     "text": [
      "original array:\n",
      " [[ 1  2  3  4  5]\n",
      " [ 6  7  8  9 10]\n",
      " [11 12 13 14 15]\n",
      " [16 17 18 19 20]]\n",
      "\n",
      "array:\n",
      " [[ 1  3  5  7  9]\n",
      " [ 3  5  7  9 11]\n",
      " [ 5  7  9 11 13]\n",
      " [ 7  9 11 13 15]]\n",
      "\n",
      "Data type of the array:  int32\n",
      "\n",
      "Memory size of the single item: 4\n"
     ]
    }
   ],
   "source": [
    "# This time array has float type of data, So we need to change the dtype also to compute the itemsize\n",
    "\n",
    "array = np.ndarray([4,5], dtype=int, buffer=np.arange(1,50))\n",
    "print(\"original array:\\n\",array)\n",
    "\n",
    "\n",
    "array = np.ndarray([4,5], dtype=int, buffer=np.arange(1,50) , strides= [8,8])\n",
    "\n",
    "\n",
    "print(f\"\\narray:\\n\",array)\n",
    "print(\"\\nData type of the array: \",array.dtype)\n",
    "print(\"\\nMemory size of the single item:\",array.itemsize)"
   ]
  },
  {
   "cell_type": "markdown",
   "id": "continental-guide",
   "metadata": {},
   "source": [
    "From the above result we can see that strides are noting but the another method of applying offset to the buffer. offset works in only one-dimensional but the strides can make the offset in n-dimensions.\n",
    "\n",
    "Suppose that we have a 3d-array then the shape of the 3d-array will be [rows, columns, planes].\n",
    "\n",
    "Then strides can be applied in the 3d-array in this way.\n",
    "```ruby\n",
    "np.ndarray([4,5,2], dtype=int, buffer=np.arange(1,50) , strides= [4,8,4])\n",
    "```\n",
    "Here in above code we have passed three values they are for rows, columns, and planes respectively. it means that we are passing an offest for each dimension.\n",
    "\n",
    "Now if we comput the itemsize and `r=rows, c=columns, p=plane` then the above code can be written as.\n",
    "\n",
    "```ruby\n",
    "r = 1 , c=2, p=1\n",
    "itmesize = np.int_().intemsize\n",
    "np.ndarray([4,5,2], dtype=int, buffer=np.arange(1,50) , strides= [4,8,4])\n",
    "```\n"
   ]
  },
  {
   "cell_type": "code",
   "execution_count": 84,
   "id": "technological-denmark",
   "metadata": {},
   "outputs": [
    {
     "name": "stdout",
     "output_type": "stream",
     "text": [
      "Array without the strides:\n",
      " [[[ 1  2  3  4  5]\n",
      "  [ 6  7  8  9 10]]\n",
      "\n",
      " [[11 12 13 14 15]\n",
      "  [16 17 18 19 20]]\n",
      "\n",
      " [[21 22 23 24 25]\n",
      "  [26 27 28 29 30]]\n",
      "\n",
      " [[31 32 33 34 35]\n",
      "  [36 37 38 39 40]]]\n",
      "\n",
      "\n",
      "Array after strides in all dimensions:\n",
      " [[[ 1  3  5  7  9]\n",
      "  [ 5  7  9 11 13]]\n",
      "\n",
      " [[ 3  5  7  9 11]\n",
      "  [ 7  9 11 13 15]]\n",
      "\n",
      " [[ 5  7  9 11 13]\n",
      "  [ 9 11 13 15 17]]\n",
      "\n",
      " [[ 7  9 11 13 15]\n",
      "  [11 13 15 17 19]]]\n"
     ]
    }
   ],
   "source": [
    "# original array without strides\n",
    "array = np.ndarray([4,2,5], dtype=int, buffer=np.arange(1,50))\n",
    "print(\"Array without the strides:\\n\",array)\n",
    "\n",
    "\n",
    "# Array which is using the strides arguments\n",
    "\n",
    "r = 1 # this will make the offset in rows  \n",
    "c = 2 # this will make the offset in columns\n",
    "p = 1 # this will make the offset in planes\n",
    "\n",
    "\n",
    "itmesize = np.int_().itemsize\n",
    "# itemsize is needed to compute that how much amount of data is going to be skipped in each row, column and plane. \n",
    "\n",
    "array = np.ndarray([4,2,5], dtype=int, buffer=np.arange(1,50) , strides= [r*itemsize,c*itemsize,p*itemsize])\n",
    "\n",
    "print(\"\\n\\nArray after strides in all dimensions:\\n\",array)"
   ]
  },
  {
   "cell_type": "markdown",
   "id": "biological-board",
   "metadata": {},
   "source": [
    "`Note:` Now from all of the above work we can say that strides is the advance offset in which we can make the offset in each dimension by placing the offset at the place of each dimension.\n",
    "\n",
    "***For example:***\n",
    "* `r*itemsize:`  this makes the offset in rows\n",
    "* `c*itemsize:` this makes the offset in columns\n",
    "* `p*itemsize:` this makes the offset in planes\n",
    "\n",
    "These all "
   ]
  },
  {
   "cell_type": "markdown",
   "id": "considerable-elephant",
   "metadata": {},
   "source": [
    "***\n",
    "---"
   ]
  },
  {
   "cell_type": "code",
   "execution_count": null,
   "id": "inside-texas",
   "metadata": {},
   "outputs": [],
   "source": []
  }
 ],
 "metadata": {
  "kernelspec": {
   "display_name": "Python 3",
   "language": "python",
   "name": "python3"
  },
  "language_info": {
   "codemirror_mode": {
    "name": "ipython",
    "version": 3
   },
   "file_extension": ".py",
   "mimetype": "text/x-python",
   "name": "python",
   "nbconvert_exporter": "python",
   "pygments_lexer": "ipython3",
   "version": "3.8.3"
  }
 },
 "nbformat": 4,
 "nbformat_minor": 5
}
