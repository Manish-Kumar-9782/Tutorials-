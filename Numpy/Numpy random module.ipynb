{
 "cells": [
  {
   "cell_type": "markdown",
   "id": "impressive-implementation",
   "metadata": {},
   "source": [
    "## First of all import the numpy module"
   ]
  },
  {
   "cell_type": "code",
   "execution_count": 1,
   "id": "confused-institute",
   "metadata": {},
   "outputs": [],
   "source": [
    "import numpy as np"
   ]
  },
  {
   "cell_type": "markdown",
   "id": "fossil-basement",
   "metadata": {},
   "source": [
    "# numpy.random() Module\n",
    "\n",
    "In this section we will work on the numpy.random module and its implimantation in the data science\n",
    "\n",
    "Most common funcion of the random modules are.\n",
    "\n",
    "* numpy.random.random()\n",
    "* numpy.random.rand()\n",
    "* numpy.random.randn()\n",
    "* numpy.random.randint()\n",
    "* numpy.random.random_sample()\n",
    "* numpy.random.random_integers()\n",
    "* numpy.random.choice()"
   ]
  },
  {
   "cell_type": "markdown",
   "id": "competent-spectacular",
   "metadata": {},
   "source": [
    "### 1. numpy.random.random()\n",
    "```ruby\n",
    "random(size=None)\n",
    "```\n",
    "Return random floats in the half-open interval [0.0, 1.0). Alias for\n",
    "`random_sample` to ease forward-porting to the new random API.\n",
    "\n",
    "\n",
    "* First of all we will see that how random works. Since random only takes one argument and that argument is the size of the array.\n"
   ]
  },
  {
   "cell_type": "code",
   "execution_count": 5,
   "id": "insured-bailey",
   "metadata": {},
   "outputs": [
    {
     "data": {
      "text/plain": [
       "array([[0.72952913, 0.42908422],\n",
       "       [0.47079735, 0.243812  ],\n",
       "       [0.393077  , 0.99590081],\n",
       "       [0.32099304, 0.97212375]])"
      ]
     },
     "execution_count": 5,
     "metadata": {},
     "output_type": "execute_result"
    }
   ],
   "source": [
    "# 1. random function of the random class in numpy.\n",
    "\n",
    "np.random.random((4,2))"
   ]
  },
  {
   "cell_type": "markdown",
   "id": "specialized-platform",
   "metadata": {},
   "source": [
    "Random function of the random class does not have any other argument so we are done with the `np.random.random()` function.\n",
    "***"
   ]
  },
  {
   "cell_type": "markdown",
   "id": "imposed-equipment",
   "metadata": {},
   "source": [
    "## 2. numpy.random.rand()\n",
    "```ruby\n",
    "rand(d0, d1, ..., dn)\n",
    "```\n",
    "Random values in a given shape.\n",
    "\n",
    "This function takes the n parameters as shape of the output or desired result in which all the argument are the shape values. The output will be according to the given shape.\n",
    "\n",
    "**creating an array having a shape of (3,2,1)**"
   ]
  },
  {
   "cell_type": "code",
   "execution_count": 7,
   "id": "premier-yeast",
   "metadata": {},
   "outputs": [
    {
     "data": {
      "text/plain": [
       "array([[[0.55684481],\n",
       "        [0.49152949]],\n",
       "\n",
       "       [[0.63178713],\n",
       "        [0.16742483]],\n",
       "\n",
       "       [[0.03846722],\n",
       "        [0.68848692]]])"
      ]
     },
     "execution_count": 7,
     "metadata": {},
     "output_type": "execute_result"
    }
   ],
   "source": [
    "# 2. rand function in the random class.\n",
    "\n",
    "np.random.rand(3,2,1)"
   ]
  },
  {
   "cell_type": "markdown",
   "id": "ranking-warrant",
   "metadata": {},
   "source": [
    "**creating an array having a shape of (5,4,3,2)** "
   ]
  },
  {
   "cell_type": "code",
   "execution_count": 11,
   "id": "spare-depth",
   "metadata": {
    "tags": []
   },
   "outputs": [
    {
     "name": "stdout",
     "output_type": "stream",
     "text": [
      "[[[[0.63890261 0.07504637]\n",
      "   [0.66434503 0.05465705]\n",
      "   [0.38981777 0.54450993]]\n",
      "\n",
      "  [[0.94618289 0.97252164]\n",
      "   [0.93946935 0.90217431]\n",
      "   [0.76110369 0.24627802]]\n",
      "\n",
      "  [[0.85494758 0.76054344]\n",
      "   [0.05901945 0.3087478 ]\n",
      "   [0.9367858  0.02845257]]\n",
      "\n",
      "  [[0.35563543 0.88613542]\n",
      "   [0.46544782 0.96180228]\n",
      "   [0.51596369 0.18883559]]]\n",
      "\n",
      "\n",
      " [[[0.93917668 0.3252935 ]\n",
      "   [0.67805158 0.51468751]\n",
      "   [0.02201133 0.88526434]]\n",
      "\n",
      "  [[0.63140171 0.82079545]\n",
      "   [0.03346929 0.51380735]\n",
      "   [0.42626078 0.66365645]]\n",
      "\n",
      "  [[0.75064095 0.33721963]\n",
      "   [0.75514139 0.47260839]\n",
      "   [0.98114615 0.33688789]]\n",
      "\n",
      "  [[0.20953854 0.62241718]\n",
      "   [0.13714061 0.63788332]\n",
      "   [0.56770895 0.07137547]]]\n",
      "\n",
      "\n",
      " [[[0.05329385 0.81839523]\n",
      "   [0.15171122 0.77114964]\n",
      "   [0.63359429 0.590501  ]]\n",
      "\n",
      "  [[0.51534257 0.89221415]\n",
      "   [0.34459237 0.56245487]\n",
      "   [0.88104408 0.97649887]]\n",
      "\n",
      "  [[0.37489805 0.2032884 ]\n",
      "   [0.81492133 0.5542299 ]\n",
      "   [0.86175628 0.61191274]]\n",
      "\n",
      "  [[0.93076259 0.32200435]\n",
      "   [0.86417596 0.73668626]\n",
      "   [0.59513072 0.9522764 ]]]\n",
      "\n",
      "\n",
      " [[[0.83570083 0.36575322]\n",
      "   [0.26141333 0.0097623 ]\n",
      "   [0.11458642 0.11653147]]\n",
      "\n",
      "  [[0.04367822 0.33149155]\n",
      "   [0.4444495  0.37572505]\n",
      "   [0.74338026 0.06446666]]\n",
      "\n",
      "  [[0.41548224 0.69796438]\n",
      "   [0.31339087 0.16429022]\n",
      "   [0.46414188 0.50853052]]\n",
      "\n",
      "  [[0.12073945 0.11004659]\n",
      "   [0.5585257  0.58034924]\n",
      "   [0.77514676 0.22457034]]]\n",
      "\n",
      "\n",
      " [[[0.38809826 0.03320359]\n",
      "   [0.11373988 0.25141652]\n",
      "   [0.88658115 0.89274964]]\n",
      "\n",
      "  [[0.82390149 0.83560137]\n",
      "   [0.10076697 0.11909316]\n",
      "   [0.26952441 0.7817108 ]]\n",
      "\n",
      "  [[0.08036201 0.27619726]\n",
      "   [0.45665282 0.70701381]\n",
      "   [0.8471156  0.40808698]]\n",
      "\n",
      "  [[0.32963284 0.46155669]\n",
      "   [0.34040015 0.76740204]\n",
      "   [0.11950906 0.01165343]]]]\n"
     ]
    }
   ],
   "source": [
    "# shape = (5,4,3,2)\n",
    "\n",
    "rand_array = np.random.rand(5,4,3,2)\n",
    "print(rand_array)"
   ]
  },
  {
   "cell_type": "markdown",
   "id": "anonymous-learning",
   "metadata": {
    "tags": []
   },
   "source": [
    "As you can see that our result is very long and very large, so we can see that our `np.random.rand()` function does not takes  any other parameters other than shape of the desired array. \n",
    "\n",
    "if you want to check the shape and dimension of the array then we can do it with the help of the ndarray property attributes."
   ]
  },
  {
   "cell_type": "code",
   "execution_count": 12,
   "id": "french-shaft",
   "metadata": {},
   "outputs": [
    {
     "name": "stdout",
     "output_type": "stream",
     "text": [
      "Shape of the above rand array:  (5, 4, 3, 2)\n",
      "Dimension of the above rand array:  4\n"
     ]
    }
   ],
   "source": [
    "# to check the shape we use ndarray.shape\n",
    "print(\"Shape of the above rand array: \",rand_array.shape)\n",
    "\n",
    "# to check the dimension we need to use ndarray.ndim\n",
    "print(\"Dimension of the above rand array: \",rand_array.ndim)"
   ]
  },
  {
   "cell_type": "markdown",
   "id": "statutory-malaysia",
   "metadata": {},
   "source": [
    "As we given we have got our result now we should move on to the `randn` function. "
   ]
  },
  {
   "cell_type": "markdown",
   "id": "vulnerable-extreme",
   "metadata": {},
   "source": [
    "## 3. numpy.random.randn()\n",
    "```ruby\n",
    "numpy.random.randn(d0, d1, ..., dn)\n",
    "```\n",
    "Return a sample (or samples) from the \"standard normal\" distribution.\n",
    "\n",
    "This function generates N-dimensional array which contains both negative and positive values. This method use the gaussion distribution method to generate the uniform random numbers."
   ]
  },
  {
   "cell_type": "code",
   "execution_count": 14,
   "id": "enormous-definition",
   "metadata": {},
   "outputs": [
    {
     "data": {
      "text/plain": [
       "array([[[ 0.68007514, -0.08385047],\n",
       "        [ 1.57425745,  1.06391927],\n",
       "        [-0.57639136, -0.8983189 ]],\n",
       "\n",
       "       [[-2.16935359,  2.4493302 ],\n",
       "        [ 1.62496659, -0.46989534],\n",
       "        [ 0.63610703, -0.64561476]],\n",
       "\n",
       "       [[ 0.93314148,  0.37388158],\n",
       "        [ 0.44468941,  0.36993568],\n",
       "        [ 0.10303313, -0.80758421]],\n",
       "\n",
       "       [[-2.20014653, -0.64536125],\n",
       "        [-0.69997252, -1.66649297],\n",
       "        [-1.31251828,  0.48167002]]])"
      ]
     },
     "execution_count": 14,
     "metadata": {},
     "output_type": "execute_result"
    }
   ],
   "source": [
    "np.random.randn(4,3,2)"
   ]
  },
  {
   "cell_type": "markdown",
   "id": "falling-circular",
   "metadata": {},
   "source": [
    "***"
   ]
  },
  {
   "cell_type": "markdown",
   "id": "broadband-retro",
   "metadata": {},
   "source": [
    "## numpy.random.randint()\n",
    "```ruby\n",
    "randint(low, high=None, size=None, dtype=int)\n",
    "```\n",
    "Return random integers from `low` (inclusive) to `high` (exclusive).\n",
    "\n",
    "Return random integers from the \"discrete uniform\" distribution of\n",
    "the specified dtype in the \"half-open\" interval [`low`, `high`). If\n",
    "`high` is None (the default), then results are from [0, `low`)."
   ]
  },
  {
   "cell_type": "code",
   "execution_count": null,
   "id": "radio-excerpt",
   "metadata": {},
   "outputs": [],
   "source": [
    "np.random.randint()"
   ]
  }
 ],
 "metadata": {
  "kernelspec": {
   "display_name": "Python 3",
   "language": "python",
   "name": "python3"
  },
  "language_info": {
   "codemirror_mode": {
    "name": "ipython",
    "version": 3
   },
   "file_extension": ".py",
   "mimetype": "text/x-python",
   "name": "python",
   "nbconvert_exporter": "python",
   "pygments_lexer": "ipython3",
   "version": "3.8.3"
  }
 },
 "nbformat": 4,
 "nbformat_minor": 5
}
