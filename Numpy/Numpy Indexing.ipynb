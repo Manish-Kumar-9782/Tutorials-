{
 "cells": [
  {
   "cell_type": "code",
   "execution_count": 1,
   "id": "hazardous-start",
   "metadata": {},
   "outputs": [],
   "source": [
    "import numpy as np\n",
    "from numpy import arange , ndarray\n",
    "from numpy.random import randint , choice"
   ]
  },
  {
   "cell_type": "markdown",
   "id": "answering-devon",
   "metadata": {},
   "source": [
    "# Indexing\n",
    "\n",
    "Indexing is a method to access an item of an object by using their contigous loaction like array.  Since we are working on the array and numpy arrays are N-dimensioal so there are some complexity comes when we try to access an item by using indexing in a N-dimensional array. Now we will try to understand them by starting from a single item accessing in 1D array.\n",
    "\n",
    "In this section for now we will only see upto 3-dimesional array.\n",
    "\n",
    "### 1. Access an item from a single array:\n",
    "\n",
    "first of all we need an array so we will create an array with arange function."
   ]
  },
  {
   "cell_type": "code",
   "execution_count": 3,
   "id": "convenient-pepper",
   "metadata": {},
   "outputs": [
    {
     "name": "stdout",
     "output_type": "stream",
     "text": [
      "Array:  [0 1 2 3 4 5 6 7 8 9]\n"
     ]
    }
   ],
   "source": [
    "array =  arange(10)\n",
    "\n",
    "# Now we have an array let's print it \n",
    "print(\"Array: \", array)"
   ]
  },
  {
   "cell_type": "markdown",
   "id": "contemporary-mixer",
   "metadata": {},
   "source": [
    "Now if we want to access any item from like 7 then we need to start from 0 because indexing always starts from 0, so if we want to access it then we need to count from 0 to up to the element position in this case element 7 is at the index number 7th."
   ]
  },
  {
   "cell_type": "code",
   "execution_count": 5,
   "id": "swiss-building",
   "metadata": {},
   "outputs": [
    {
     "data": {
      "text/plain": [
       "7"
      ]
     },
     "execution_count": 5,
     "metadata": {},
     "output_type": "execute_result"
    }
   ],
   "source": [
    "# To access an element we need to use the square bracket [] after the array object like \n",
    "# array[index]\n",
    "\n",
    "array[7]"
   ]
  },
  {
   "cell_type": "markdown",
   "id": "positive-romania",
   "metadata": {},
   "source": [
    "As you can see that we have got 7 now we will use an random number array to see the it againl."
   ]
  },
  {
   "cell_type": "code",
   "execution_count": 9,
   "id": "pretty-world",
   "metadata": {},
   "outputs": [
    {
     "name": "stdout",
     "output_type": "stream",
     "text": [
      "array:  [13 25 33 36 36  2  1 41 31  7 47 36 48 28 45 46  7 46 29  9]\n"
     ]
    }
   ],
   "source": [
    "# creating an random array with randint\n",
    "\n",
    "array = randint(1,50,size=(20,))\n",
    "print(\"array: \", array)"
   ]
  },
  {
   "cell_type": "markdown",
   "id": "boolean-immunology",
   "metadata": {},
   "source": [
    "As you can see that we have a new random array in which all are int type not lets say we want to access 10th element of the array. then we need to pass `(n-1)` for the indexing. We can see that the 10th element is 7 and by using indexing we will access it."
   ]
  },
  {
   "cell_type": "code",
   "execution_count": 10,
   "id": "proper-precipitation",
   "metadata": {},
   "outputs": [
    {
     "data": {
      "text/plain": [
       "7"
      ]
     },
     "execution_count": 10,
     "metadata": {},
     "output_type": "execute_result"
    }
   ],
   "source": [
    "# accessing the 10th element\n",
    "array[9] # (n-1) indexing number "
   ]
  },
  {
   "cell_type": "code",
   "execution_count": 11,
   "id": "duplicate-hebrew",
   "metadata": {},
   "outputs": [
    {
     "data": {
      "text/plain": [
       "45"
      ]
     },
     "execution_count": 11,
     "metadata": {},
     "output_type": "execute_result"
    }
   ],
   "source": [
    "# accessing teh 15th element\n",
    "array[14]"
   ]
  },
  {
   "cell_type": "markdown",
   "id": "intense-limit",
   "metadata": {},
   "source": [
    "**Reversive indexing**\n",
    "\n",
    "We can access the 14th element from the right side of the array by using the negative indexing [-n]. Like , if we want to access the 15th element of the array then we count it from the right side and put a negative sign on the number at which the element is present. Like 45 is present at the 6th location from right side of the array then we need to use indexing like this `array[-6]`."
   ]
  },
  {
   "cell_type": "code",
   "execution_count": 12,
   "id": "instrumental-gathering",
   "metadata": {},
   "outputs": [
    {
     "data": {
      "text/plain": [
       "45"
      ]
     },
     "execution_count": 12,
     "metadata": {},
     "output_type": "execute_result"
    }
   ],
   "source": [
    "# accessing the 15th element form the right side (negagtive indexing.)\n",
    "array[-6]"
   ]
  },
  {
   "cell_type": "markdown",
   "id": "sixth-estimate",
   "metadata": {},
   "source": [
    "## Single element idexing with 2-d array\n",
    "\n",
    "Since Numpy contains N-dimensional array like this 2-d array also comes in the N-dimensional but in 2d array we have only two sub array in a single thats why its dimension is 2d. Now when we create an 2d array then there are two thing comes in picture these are Row and Column of the array which can be seen like this `array[Row ,  Column]`.\n",
    "\n",
    "Let's see how it looks like:"
   ]
  },
  {
   "cell_type": "code",
   "execution_count": 14,
   "id": "southwest-sessions",
   "metadata": {},
   "outputs": [
    {
     "name": "stdout",
     "output_type": "stream",
     "text": [
      "2D array:\n",
      " [[ 1 10 17 16]\n",
      " [ 9 11 10  8]\n",
      " [ 1 14 19 19]\n",
      " [17  7 16  8]\n",
      " [ 4 15  1 18]]\n",
      "\n",
      "Shape of the array: (5, 4)\n",
      "Dimension of the array:  2\n"
     ]
    }
   ],
   "source": [
    "# creating a 2d array\n",
    "array = randint(1,20,size=(5,4))\n",
    "print(\"2D array:\\n\", array)\n",
    "print(\"\\nShape of the array:\",array.shape)\n",
    "print(\"Dimension of the array: \",array.ndim)"
   ]
  },
  {
   "cell_type": "markdown",
   "id": "portable-airline",
   "metadata": {},
   "source": [
    "As you can see that we have got an  2d array and also we have checked its shape and the dimension with `shape` and `ndim` property of the array. Now since it is a two dimension then we need also two index number one is for the `rows` of the array and the other number is for the the `Column` of the array."
   ]
  },
  {
   "cell_type": "code",
   "execution_count": 16,
   "id": "broadband-collins",
   "metadata": {},
   "outputs": [
    {
     "data": {
      "text/plain": [
       "14"
      ]
     },
     "execution_count": 16,
     "metadata": {},
     "output_type": "execute_result"
    }
   ],
   "source": [
    "# accessing  an item from the 2d array\n",
    "# So we need Rows number and Column number to access the element of the array \n",
    "# sicne from the shape of the array we can see that new array conatains 5 Rows and 4 Columns for we cant got beyond these numbers.\n",
    "\n",
    "# Lets acces an element which is present in 3rd row and 2nd Conlumn\n",
    "array[2,1] # 2 is for the row indexing and 1 is for the column indexing \n",
    "\n",
    "# Since indexing starts from the 0 number "
   ]
  },
  {
   "cell_type": "code",
   "execution_count": 17,
   "id": "flexible-graph",
   "metadata": {},
   "outputs": [
    {
     "data": {
      "text/plain": [
       "array([[ 1, 10, 17, 16],\n",
       "       [ 9, 11, 10,  8],\n",
       "       [ 1, 14, 19, 19],\n",
       "       [17,  7, 16,  8],\n",
       "       [ 4, 15,  1, 18]])"
      ]
     },
     "execution_count": 17,
     "metadata": {},
     "output_type": "execute_result"
    }
   ],
   "source": [
    "array"
   ]
  },
  {
   "cell_type": "markdown",
   "id": "floral-moore",
   "metadata": {},
   "source": [
    "As you can see in above array then element 14 is placed at the 3rd row and 2nd column. So we have seen that for accessing an element in a 2d array we need two indexing number first one is for the `Rows` of the array and the other one if for `Columns` of the array.\n",
    "\n",
    "## Selecting a Row or a Column of an arrray:\n",
    "\n",
    "After selecting an array we will select an entire Row and an entire Column of the array. Because we have already have an 2D array so we don't need to make another one."
   ]
  },
  {
   "cell_type": "code",
   "execution_count": 18,
   "id": "mathematical-enzyme",
   "metadata": {},
   "outputs": [
    {
     "name": "stdout",
     "output_type": "stream",
     "text": [
      "[[ 1 10 17 16]\n",
      " [ 9 11 10  8]\n",
      " [ 1 14 19 19]\n",
      " [17  7 16  8]\n",
      " [ 4 15  1 18]]\n"
     ]
    }
   ],
   "source": [
    "# Printing the over old 2D array \n",
    "print(array)"
   ]
  },
  {
   "cell_type": "markdown",
   "id": "convertible-azerbaijan",
   "metadata": {},
   "source": [
    "**Selecting an Row of 2D array**\n",
    "\n",
    "Selecting a row and Column is very simple we just need to give only one number any of two number `(Rows and Column)`. if we want to select a row then we need to give that rows number. Like we want to select 3rd row then we need to use the `array[2]`. \n",
    "\n",
    "In this we are only accessing Row element and do not specifing any colulmns, by doing this it will count all the column and return all the items from all the column."
   ]
  },
  {
   "cell_type": "code",
   "execution_count": 19,
   "id": "postal-helmet",
   "metadata": {},
   "outputs": [
    {
     "data": {
      "text/plain": [
       "array([ 1, 14, 19, 19])"
      ]
     },
     "execution_count": 19,
     "metadata": {},
     "output_type": "execute_result"
    }
   ],
   "source": [
    "# Accessing 3rd row of the array\n",
    "array[2]"
   ]
  },
  {
   "cell_type": "code",
   "execution_count": 20,
   "id": "inside-dominican",
   "metadata": {},
   "outputs": [
    {
     "data": {
      "text/plain": [
       "array([ 1, 14, 19, 19])"
      ]
     },
     "execution_count": 20,
     "metadata": {},
     "output_type": "execute_result"
    }
   ],
   "source": [
    "# the above accesing of 3rd row is also written as\n",
    "array[2,:]"
   ]
  },
  {
   "cell_type": "markdown",
   "id": "theoretical-department",
   "metadata": {},
   "source": [
    "Here `:` represents slicing of the element which has the real representation as `n1:n2` . but in the above cell we didn't provide any n1 and n2  and the single `:` represents that we need all the element of the current dimension and in this case the current dimension is Column of the array.\n",
    "\n",
    "**Accessing Column of the array**\n",
    "\n",
    "Like Accessing the row of the array , selection of column is also similar to the the selection of the row, we just need to left blank the rows indexing and just need to specify the column which we want to access.\n"
   ]
  },
  {
   "cell_type": "code",
   "execution_count": 21,
   "id": "closed-blend",
   "metadata": {},
   "outputs": [
    {
     "ename": "SyntaxError",
     "evalue": "invalid syntax (<ipython-input-21-873bd565f691>, line 4)",
     "output_type": "error",
     "traceback": [
      "\u001b[1;36m  File \u001b[1;32m\"<ipython-input-21-873bd565f691>\"\u001b[1;36m, line \u001b[1;32m4\u001b[0m\n\u001b[1;33m    array[,2]\u001b[0m\n\u001b[1;37m          ^\u001b[0m\n\u001b[1;31mSyntaxError\u001b[0m\u001b[1;31m:\u001b[0m invalid syntax\n"
     ]
    }
   ],
   "source": [
    "# Like we want to access 3rd Column of the array\n",
    "# we need to left empty of the rows index\n",
    "\n",
    "array[,2]"
   ]
  },
  {
   "cell_type": "markdown",
   "id": "beautiful-reply",
   "metadata": {},
   "source": [
    "OH NOO! We have got an error but we left the rows place empty and provided the columns index number then what is wrong with it. \n",
    "\n",
    "The problem is that here empty means we need to specify `:` to the rows. it means that we need all from this dimenion (row). So let's try again with `:` this."
   ]
  },
  {
   "cell_type": "code",
   "execution_count": 22,
   "id": "innocent-english",
   "metadata": {},
   "outputs": [
    {
     "data": {
      "text/plain": [
       "array([17, 10, 19, 16,  1])"
      ]
     },
     "execution_count": 22,
     "metadata": {},
     "output_type": "execute_result"
    }
   ],
   "source": [
    "array[:,2]"
   ]
  },
  {
   "cell_type": "markdown",
   "id": "polyphonic-density",
   "metadata": {},
   "source": [
    "See that we have got the 3rd column of the array. Now we will access a section of an array.\n",
    "\n",
    "## Select a section of a 2D-array:\n",
    "\n",
    "Lets say that we have a big 2D array of 36 element which is 6 x 6  and we want to access a particular section of that array then we need to use the slicing of the array which can be done by using `n1:n2` in a that dimension in which we want to slice the array. \n",
    "\n",
    "First of all we will make a new big array:"
   ]
  },
  {
   "cell_type": "code",
   "execution_count": 25,
   "id": "compressed-stocks",
   "metadata": {},
   "outputs": [
    {
     "name": "stdout",
     "output_type": "stream",
     "text": [
      "Array: \n",
      " [[85 10 91 31 56 51]\n",
      " [21 30 20 94 45 37]\n",
      " [55 24 52 38 81 11]\n",
      " [ 6 89 92 65 39 19]\n",
      " [62 45 57 25 94 88]\n",
      " [84 62  9 26 57 47]]\n",
      "\n",
      "Shape of the array: (6, 6)\n",
      "Total elements in the array:  36\n"
     ]
    }
   ],
   "source": [
    "# Making a 6 x 6 array\n",
    "array = randint(1,100, size = (6,6))\n",
    "print(\"Array: \\n\",array)\n",
    "print(\"\\nShape of the array:\", array.shape)\n",
    "print(\"Total elements in the array: \", array.size)"
   ]
  },
  {
   "cell_type": "markdown",
   "id": "reverse-wallet",
   "metadata": {},
   "source": [
    "Now from the above output we can see that we have an 2D array with a shape of (6,6 ) and it has 36 elements. So now we need to select a particular area of the element.\n",
    "```ruby\n",
    " array =      [[24 52 38]\n",
    "               [89 92 65]\n",
    "               [45 57 25]]\n",
    "```\n",
    "\n",
    "Now we will select the above section of the current array:"
   ]
  },
  {
   "cell_type": "code",
   "execution_count": 26,
   "id": "patient-stage",
   "metadata": {},
   "outputs": [
    {
     "data": {
      "text/plain": [
       "array([[24, 52],\n",
       "       [89, 92]])"
      ]
     },
     "execution_count": 26,
     "metadata": {},
     "output_type": "execute_result"
    }
   ],
   "source": [
    "# To select this kind of section we need to use the slicing of the array n1:n2\n",
    "# we need slicing in the both row and column so we need to use like this\n",
    "\n",
    "# array[n1:n2 , n1:n2]\n",
    "\n",
    "# first n1:n2 is for the slicing of the the Rows\n",
    "# Second n1:n2 is for the slicing of the columns\n",
    "\n",
    "# we can write this as also --------> array[start:end , start:end]\n",
    "# This clear the confusion that we need a starting point and ending point in both rows and columns\n",
    "\n",
    "# now count the rows starting point and ending point of the rows and columns\n",
    "# rows----> 2:4  # these are index nunbers not position number\n",
    "# column------> 1:3\n",
    "\n",
    "# Now accessing the section\n",
    "array[2:4 , 1:3]"
   ]
  },
  {
   "cell_type": "markdown",
   "id": "documented-macro",
   "metadata": {},
   "source": [
    "Oh no....! the result is not seem to match our task, So what happened.\n",
    "\n",
    "`Note:` End point in the slicing is not inclusive so we need of proved the `n+1` in the end indexing point. So our New slicing becomes as.\n",
    "\n",
    "Rows = 2:5 \n",
    "\n",
    "Columns = 1:4\n"
   ]
  },
  {
   "cell_type": "code",
   "execution_count": 27,
   "id": "executive-policy",
   "metadata": {},
   "outputs": [
    {
     "data": {
      "text/plain": [
       "array([[24, 52, 38],\n",
       "       [89, 92, 65],\n",
       "       [45, 57, 25]])"
      ]
     },
     "execution_count": 27,
     "metadata": {},
     "output_type": "execute_result"
    }
   ],
   "source": [
    "# accessing again\n",
    "array[2:5, 1:4]"
   ]
  },
  {
   "cell_type": "markdown",
   "id": "mounted-nebraska",
   "metadata": {},
   "source": [
    "Now we can see that, we have got our desired result but the thing is to be remember is that `end` point in the slicing of the array dimension is not inclusive so we need to provide `(n+1)`  index number to get the desired result."
   ]
  },
  {
   "cell_type": "markdown",
   "id": "ecological-salon",
   "metadata": {},
   "source": [
    "#### Selection without start or end point:\n",
    "\n",
    "Selection without start point or end point is used when we need to slice something from begning of the column or the row and slicing something upto end of the rows and the columns.\n",
    "\n",
    "**Example 1**\n",
    "```ruby\n",
    "array([[85, 10, 91],\n",
    "       [21, 30, 20],\n",
    "       [55, 24, 52],\n",
    "       [ 6, 89, 92]])\n",
    "```\n",
    "\n",
    "Select this setion from the array:(old array which is used in previous selection)"
   ]
  },
  {
   "cell_type": "code",
   "execution_count": 30,
   "id": "governing-investment",
   "metadata": {},
   "outputs": [
    {
     "name": "stdout",
     "output_type": "stream",
     "text": [
      "[[85 10 91 31 56 51]\n",
      " [21 30 20 94 45 37]\n",
      " [55 24 52 38 81 11]\n",
      " [ 6 89 92 65 39 19]\n",
      " [62 45 57 25 94 88]\n",
      " [84 62  9 26 57 47]]\n"
     ]
    }
   ],
   "source": [
    "# printing array again\n",
    "print(array)"
   ]
  },
  {
   "cell_type": "markdown",
   "id": "following-stupid",
   "metadata": {},
   "source": [
    "As from the example 1 task we can see that section starts from 0th row and 0th column, in this case we do not need to provide the starting point during the slicing of the array. we can use `array[:end, :end]` like slicing beacause both start point are at 0th indexing."
   ]
  },
  {
   "cell_type": "code",
   "execution_count": 31,
   "id": "deluxe-silly",
   "metadata": {},
   "outputs": [
    {
     "data": {
      "text/plain": [
       "array([[85, 10, 91],\n",
       "       [21, 30, 20],\n",
       "       [55, 24, 52],\n",
       "       [ 6, 89, 92]])"
      ]
     },
     "execution_count": 31,
     "metadata": {},
     "output_type": "execute_result"
    }
   ],
   "source": [
    "# accesing the given array on example 1\n",
    "array[:4,:3] # since we need first four rows 0 to 3 ||| and we need first three column from 0 to 2 \n",
    "# Since end point of indexing need to provide as (n+1)"
   ]
  },
  {
   "cell_type": "markdown",
   "id": "thorough-restriction",
   "metadata": {},
   "source": [
    "As you can see that we have got our result.\n",
    "\n",
    "**Example 2**\n",
    "\n",
    "```ruby\n",
    "array([[39, 19],\n",
    "       [94, 88],\n",
    "       [57, 47]])\n",
    "```"
   ]
  },
  {
   "cell_type": "code",
   "execution_count": 38,
   "id": "clean-denmark",
   "metadata": {},
   "outputs": [
    {
     "data": {
      "text/plain": [
       "array([[39, 19],\n",
       "       [94, 88],\n",
       "       [57, 47]])"
      ]
     },
     "execution_count": 38,
     "metadata": {},
     "output_type": "execute_result"
    }
   ],
   "source": [
    "# Count the rows and columns to match the start:points of exampel 2 section\n",
    "\n",
    "# Rows------------>  3:6  # since we have only 6 rows so we can write this as => 3: this says count all the rows after 3rd row\n",
    "# Columns--------->  4:6  # can be written as => 4: count all column after 4\n",
    "array[3:, 4:]"
   ]
  },
  {
   "cell_type": "markdown",
   "id": "seeing-ending",
   "metadata": {},
   "source": [
    "**Example 3**\n",
    "\n",
    "```ruby\n",
    "array([[21, 30, 20, 94],\n",
    "       [55, 24, 52, 38],\n",
    "       [ 6, 89, 92, 65]])\n",
    "```"
   ]
  },
  {
   "cell_type": "code",
   "execution_count": 39,
   "id": "combined-induction",
   "metadata": {},
   "outputs": [
    {
     "data": {
      "text/plain": [
       "array([[21, 30, 20, 94],\n",
       "       [55, 24, 52, 38],\n",
       "       [ 6, 89, 92, 65]])"
      ]
     },
     "execution_count": 39,
     "metadata": {},
     "output_type": "execute_result"
    }
   ],
   "source": [
    "# Count the rows and columns to match the start:points of exampel 4 section\n",
    "\n",
    "# Rows------------>  1:(3+1)  \n",
    "# Columns--------->  0:(3+1)  can be written as => :4\n",
    "\n",
    "array[1:4 , :4]"
   ]
  },
  {
   "cell_type": "code",
   "execution_count": null,
   "id": "concerned-enforcement",
   "metadata": {},
   "outputs": [],
   "source": []
  },
  {
   "cell_type": "markdown",
   "id": "successful-warrior",
   "metadata": {},
   "source": [
    "**Example 4**\n",
    "```ruby\n",
    "array([[20, 94, 45, 37],\n",
    "       [52, 38, 81, 11],\n",
    "       [92, 65, 39, 19]])\n",
    "```"
   ]
  },
  {
   "cell_type": "code",
   "execution_count": 40,
   "id": "lasting-thong",
   "metadata": {},
   "outputs": [
    {
     "data": {
      "text/plain": [
       "array([[20, 94, 45, 37],\n",
       "       [52, 38, 81, 11],\n",
       "       [92, 65, 39, 19]])"
      ]
     },
     "execution_count": 40,
     "metadata": {},
     "output_type": "execute_result"
    }
   ],
   "source": [
    "# Count the rows and columns to match the start:points of exampel 4 section\n",
    "\n",
    "# Rows------------>  1:(3+1)  \n",
    "# Columns--------->  2:6  can be written as => 2:\n",
    "\n",
    "array[1:4 , 2:]"
   ]
  },
  {
   "cell_type": "markdown",
   "id": "material-humanitarian",
   "metadata": {},
   "source": [
    "`Conclusion:` From  all of the above example in the slection (slicing) of an array  gives us the overall overview that we can access any section of the array with the help of the slicing in this syntex `array[start:end+1 , start:end+1]`. Since end point is not inclusive in the slicing."
   ]
  },
  {
   "cell_type": "markdown",
   "id": "large-integration",
   "metadata": {},
   "source": [
    "***\n",
    "***"
   ]
  },
  {
   "cell_type": "markdown",
   "id": "whole-stranger",
   "metadata": {},
   "source": [
    "## Index arrays with other arrays\n",
    "NumPy arrays may be indexed with other arrays (or any other sequence- like object that can be converted to an array, such as lists, with the exception of tuples; see the end of this document for why this is). The use of index arrays ranges from simple, straightforward cases to complex, hard-to-understand cases. For all cases of index arrays, what is returned is a copy of the original data, not a view as one gets for slices.\n"
   ]
  },
  {
   "cell_type": "code",
   "execution_count": 48,
   "id": "restricted-relation",
   "metadata": {},
   "outputs": [
    {
     "name": "stdout",
     "output_type": "stream",
     "text": [
      "[[85 10 91 31 56 51]\n",
      " [21 30 20 94 45 37]\n",
      " [55 24 52 38 81 11]\n",
      " [ 6 89 92 65 39 19]\n",
      " [62 45 57 25 94 88]\n",
      " [84 62  9 26 57 47]]\n"
     ]
    }
   ],
   "source": [
    "# like we have and array which is showing below\n",
    "print(array)"
   ]
  },
  {
   "cell_type": "code",
   "execution_count": 49,
   "id": "secret-anniversary",
   "metadata": {},
   "outputs": [
    {
     "name": "stdout",
     "output_type": "stream",
     "text": [
      "[0 1 2 3 4 5]\n"
     ]
    }
   ],
   "source": [
    "# now we have another array \n",
    "seq = np.arange(6)\n",
    "print(seq)"
   ]
  },
  {
   "cell_type": "markdown",
   "id": "surgical-wagon",
   "metadata": {},
   "source": [
    "Now we will pass this array into the our old array on which we are working."
   ]
  },
  {
   "cell_type": "code",
   "execution_count": 50,
   "id": "destroyed-dynamics",
   "metadata": {},
   "outputs": [
    {
     "data": {
      "text/plain": [
       "array([[85, 10, 91, 31, 56, 51],\n",
       "       [21, 30, 20, 94, 45, 37],\n",
       "       [55, 24, 52, 38, 81, 11],\n",
       "       [ 6, 89, 92, 65, 39, 19],\n",
       "       [62, 45, 57, 25, 94, 88],\n",
       "       [84, 62,  9, 26, 57, 47]])"
      ]
     },
     "execution_count": 50,
     "metadata": {},
     "output_type": "execute_result"
    }
   ],
   "source": [
    "# poassing the seq into the array\n",
    "array[seq]"
   ]
  },
  {
   "cell_type": "markdown",
   "id": "bulgarian-desktop",
   "metadata": {},
   "source": [
    "As you can see that we have got the same result but this is not the same as the simple call of `array` because this time we have selected the rows with the help of the another sequence which is like another array. you can see that our seq contains [0 1 2 3 4 5] which are the index numbers of the `array's` rows and by putting this seq into the array we select every row of the array.\n",
    "\n",
    "Now this time we will make a random array and we will use that to select the row of the array."
   ]
  },
  {
   "cell_type": "code",
   "execution_count": 57,
   "id": "inclusive-restaurant",
   "metadata": {},
   "outputs": [
    {
     "name": "stdout",
     "output_type": "stream",
     "text": [
      "[5 4 0 1 4 3]\n"
     ]
    }
   ],
   "source": [
    "# random array \n",
    "seq = randint(6, size=[6,])\n",
    "print(seq)"
   ]
  },
  {
   "cell_type": "code",
   "execution_count": 61,
   "id": "every-reaction",
   "metadata": {},
   "outputs": [
    {
     "name": "stdout",
     "output_type": "stream",
     "text": [
      "Original array: \n",
      " [[85 10 91 31 56 51]\n",
      " [21 30 20 94 45 37]\n",
      " [55 24 52 38 81 11]\n",
      " [ 6 89 92 65 39 19]\n",
      " [62 45 57 25 94 88]\n",
      " [84 62  9 26 57 47]]\n",
      "\n",
      "Selected array:\n",
      " [[84 62  9 26 57 47]\n",
      " [62 45 57 25 94 88]\n",
      " [85 10 91 31 56 51]\n",
      " [21 30 20 94 45 37]\n",
      " [62 45 57 25 94 88]\n",
      " [ 6 89 92 65 39 19]]\n"
     ]
    }
   ],
   "source": [
    "# selecting the random rows by using the random values which are inside a seq\n",
    "print(\"Original array: \\n\",array)\n",
    "print(\"\\nSelected array:\\n\",array[seq])"
   ]
  },
  {
   "cell_type": "markdown",
   "id": "capital-kelly",
   "metadata": {},
   "source": [
    "As you can see that we this time also we have selected 6 row but these 6 rows are not in  order if you look carefully you can found that there is a difference b/e the `Original array` and the `Selected array`. In selected array we have choosen 4th number of index twice and these are placed at 1st and 4h number of index in selected array.\n",
    "\n",
    "`Conclusion:` Now we have understand that an array like sequence which contains some integer which are not greater than the index number of the array then these number is treated as the index number of the array. They also can be used  in slicing ."
   ]
  },
  {
   "cell_type": "markdown",
   "id": "thousand-infrared",
   "metadata": {},
   "source": [
    "##### What if we have a sequence containing numbers greater than  index numbers?"
   ]
  },
  {
   "cell_type": "code",
   "execution_count": 62,
   "id": "enclosed-residence",
   "metadata": {},
   "outputs": [
    {
     "name": "stdout",
     "output_type": "stream",
     "text": [
      "[0 1 2 3 4 5 6 7]\n"
     ]
    }
   ],
   "source": [
    "seq = np.arange(8)\n",
    "print(seq)"
   ]
  },
  {
   "cell_type": "markdown",
   "id": "purple-creek",
   "metadata": {},
   "source": [
    "We have a seq which contains the nmbers which are greater than then index of our curent array.\n",
    "\n",
    "Our current array is :\n"
   ]
  },
  {
   "cell_type": "code",
   "execution_count": 63,
   "id": "altered-salon",
   "metadata": {},
   "outputs": [
    {
     "data": {
      "text/plain": [
       "array([[85, 10, 91, 31, 56, 51],\n",
       "       [21, 30, 20, 94, 45, 37],\n",
       "       [55, 24, 52, 38, 81, 11],\n",
       "       [ 6, 89, 92, 65, 39, 19],\n",
       "       [62, 45, 57, 25, 94, 88],\n",
       "       [84, 62,  9, 26, 57, 47]])"
      ]
     },
     "execution_count": 63,
     "metadata": {},
     "output_type": "execute_result"
    }
   ],
   "source": [
    "array"
   ]
  },
  {
   "cell_type": "code",
   "execution_count": 64,
   "id": "dietary-vanilla",
   "metadata": {},
   "outputs": [
    {
     "ename": "IndexError",
     "evalue": "index 6 is out of bounds for axis 0 with size 6",
     "output_type": "error",
     "traceback": [
      "\u001b[1;31m---------------------------------------------------------------------------\u001b[0m",
      "\u001b[1;31mIndexError\u001b[0m                                Traceback (most recent call last)",
      "\u001b[1;32m<ipython-input-64-ea77e853344c>\u001b[0m in \u001b[0;36m<module>\u001b[1;34m\u001b[0m\n\u001b[0;32m      1\u001b[0m \u001b[1;31m# passing the sequenct into the array:\u001b[0m\u001b[1;33m\u001b[0m\u001b[1;33m\u001b[0m\u001b[1;33m\u001b[0m\u001b[0m\n\u001b[1;32m----> 2\u001b[1;33m \u001b[0marray\u001b[0m\u001b[1;33m[\u001b[0m\u001b[0mseq\u001b[0m\u001b[1;33m]\u001b[0m\u001b[1;33m\u001b[0m\u001b[1;33m\u001b[0m\u001b[0m\n\u001b[0m",
      "\u001b[1;31mIndexError\u001b[0m: index 6 is out of bounds for axis 0 with size 6"
     ]
    }
   ],
   "source": [
    "# passing the sequenct into the array:\n",
    "array[seq]"
   ]
  },
  {
   "cell_type": "markdown",
   "id": "supported-profession",
   "metadata": {},
   "source": [
    "As you can see that we have got `IndexError` as we thought because it contains some vaues whcih are greater then the index or they do not meet to he index range. "
   ]
  },
  {
   "cell_type": "markdown",
   "id": "minimal-commission",
   "metadata": {},
   "source": [
    "### Slicing with sequence\n",
    "\n",
    "Since a sequence contains some interger which meets to the index range of the array then they can be used to slice the array:"
   ]
  },
  {
   "cell_type": "code",
   "execution_count": 66,
   "id": "private-arbitration",
   "metadata": {},
   "outputs": [
    {
     "name": "stdout",
     "output_type": "stream",
     "text": [
      "[1 1 5] [3 4 3]\n"
     ]
    }
   ],
   "source": [
    "# Now we will use two random seq\n",
    "seq1   = randint(6, size=[3])\n",
    "seq2   = randint(6, size=[3])\n",
    "\n",
    "print(seq1 , seq2)"
   ]
  },
  {
   "cell_type": "markdown",
   "id": "defined-station",
   "metadata": {},
   "source": [
    "Now we have two sequece which are random and also in the range of the index of the current array:"
   ]
  },
  {
   "cell_type": "code",
   "execution_count": 67,
   "id": "satellite-modification",
   "metadata": {},
   "outputs": [
    {
     "data": {
      "text/plain": [
       "array([[85, 10, 91, 31, 56, 51],\n",
       "       [21, 30, 20, 94, 45, 37],\n",
       "       [55, 24, 52, 38, 81, 11],\n",
       "       [ 6, 89, 92, 65, 39, 19],\n",
       "       [62, 45, 57, 25, 94, 88],\n",
       "       [84, 62,  9, 26, 57, 47]])"
      ]
     },
     "execution_count": 67,
     "metadata": {},
     "output_type": "execute_result"
    }
   ],
   "source": [
    "# printing the current array again\n",
    "array"
   ]
  },
  {
   "cell_type": "markdown",
   "id": "heard-traffic",
   "metadata": {},
   "source": [
    "***Example 1***"
   ]
  },
  {
   "cell_type": "code",
   "execution_count": 68,
   "id": "intermediate-wedding",
   "metadata": {},
   "outputs": [
    {
     "ename": "TypeError",
     "evalue": "only integer scalar arrays can be converted to a scalar index",
     "output_type": "error",
     "traceback": [
      "\u001b[1;31m---------------------------------------------------------------------------\u001b[0m",
      "\u001b[1;31mTypeError\u001b[0m                                 Traceback (most recent call last)",
      "\u001b[1;32m<ipython-input-68-9b0ee02299be>\u001b[0m in \u001b[0;36m<module>\u001b[1;34m\u001b[0m\n\u001b[1;32m----> 1\u001b[1;33m \u001b[0marray\u001b[0m\u001b[1;33m[\u001b[0m\u001b[0mseq1\u001b[0m\u001b[1;33m:\u001b[0m\u001b[0mseq2\u001b[0m\u001b[1;33m]\u001b[0m\u001b[1;33m\u001b[0m\u001b[1;33m\u001b[0m\u001b[0m\n\u001b[0m",
      "\u001b[1;31mTypeError\u001b[0m: only integer scalar arrays can be converted to a scalar index"
     ]
    }
   ],
   "source": [
    "array[seq1:seq2]"
   ]
  },
  {
   "cell_type": "markdown",
   "id": "found-prerequisite",
   "metadata": {},
   "source": [
    "***Example 2***"
   ]
  },
  {
   "cell_type": "code",
   "execution_count": 69,
   "id": "spectacular-values",
   "metadata": {},
   "outputs": [
    {
     "ename": "TypeError",
     "evalue": "only integer scalar arrays can be converted to a scalar index",
     "output_type": "error",
     "traceback": [
      "\u001b[1;31m---------------------------------------------------------------------------\u001b[0m",
      "\u001b[1;31mTypeError\u001b[0m                                 Traceback (most recent call last)",
      "\u001b[1;32m<ipython-input-69-2d429600d0e4>\u001b[0m in \u001b[0;36m<module>\u001b[1;34m\u001b[0m\n\u001b[1;32m----> 1\u001b[1;33m \u001b[0marray\u001b[0m\u001b[1;33m[\u001b[0m\u001b[0mseq1\u001b[0m\u001b[1;33m:\u001b[0m\u001b[1;33m]\u001b[0m\u001b[1;33m\u001b[0m\u001b[1;33m\u001b[0m\u001b[0m\n\u001b[0m",
      "\u001b[1;31mTypeError\u001b[0m: only integer scalar arrays can be converted to a scalar index"
     ]
    }
   ],
   "source": [
    "array[seq1:]"
   ]
  },
  {
   "cell_type": "markdown",
   "id": "constant-capacity",
   "metadata": {},
   "source": [
    "***Example 3 Combining index arrays with slices***"
   ]
  },
  {
   "cell_type": "code",
   "execution_count": 70,
   "id": "packed-parish",
   "metadata": {},
   "outputs": [
    {
     "data": {
      "text/plain": [
       "array([[30, 20],\n",
       "       [30, 20],\n",
       "       [62,  9]])"
      ]
     },
     "execution_count": 70,
     "metadata": {},
     "output_type": "execute_result"
    }
   ],
   "source": [
    "array[seq1, 1:3]"
   ]
  },
  {
   "cell_type": "markdown",
   "id": "afraid-barrier",
   "metadata": {},
   "source": [
    "***Example 4 Combining index arrays with slices***"
   ]
  },
  {
   "cell_type": "code",
   "execution_count": 71,
   "id": "controlling-championship",
   "metadata": {},
   "outputs": [
    {
     "data": {
      "text/plain": [
       "array([[94, 45, 94],\n",
       "       [38, 81, 38]])"
      ]
     },
     "execution_count": 71,
     "metadata": {},
     "output_type": "execute_result"
    }
   ],
   "source": [
    "array[1:3, seq2]"
   ]
  },
  {
   "cell_type": "markdown",
   "id": "opponent-vegetation",
   "metadata": {},
   "source": [
    "From the example 1,2 we have seen that we cant do the slicing by using the seq1:seq2 becaues because for slicing we need only single integer value not a sequence of the integer.\n",
    "\n",
    "From the example 2,3 we have seen that we can use the slicing and seq combination but they must be used in the seperate dimension like in above example we have used slicing in row and index array used in column or vise -versa."
   ]
  },
  {
   "cell_type": "markdown",
   "id": "inside-customer",
   "metadata": {},
   "source": [
    "### Indexing wiht multi-dimensional arrays.\n",
    "\n",
    "Multi-dimesional array are not used often but they are permitted in the array indexing. Multi-dimensional index arrays are complex to use but they are very usefull for some problems.\n",
    "\n",
    "The shape of the output array after using the 'multi-dimensional index array'  will be equal to the shape of the index array if their values are in the range of the index of  the array.\n",
    "\n",
    "For this section also we will use the old array which are being used in the above sections and also we have two sequence seq1 and seq2."
   ]
  },
  {
   "cell_type": "code",
   "execution_count": 72,
   "id": "fatal-harvest",
   "metadata": {},
   "outputs": [
    {
     "data": {
      "text/plain": [
       "array([[85, 10, 91, 31, 56, 51],\n",
       "       [21, 30, 20, 94, 45, 37],\n",
       "       [55, 24, 52, 38, 81, 11],\n",
       "       [ 6, 89, 92, 65, 39, 19],\n",
       "       [62, 45, 57, 25, 94, 88],\n",
       "       [84, 62,  9, 26, 57, 47]])"
      ]
     },
     "execution_count": 72,
     "metadata": {},
     "output_type": "execute_result"
    }
   ],
   "source": [
    "# printing the array\n",
    "array"
   ]
  },
  {
   "cell_type": "code",
   "execution_count": 73,
   "id": "successful-decline",
   "metadata": {},
   "outputs": [
    {
     "name": "stdout",
     "output_type": "stream",
     "text": [
      "[1 1 5]\n",
      "[3 4 3]\n"
     ]
    }
   ],
   "source": [
    "# printing the sequences\n",
    "\n",
    "print(seq1)\n",
    "print(seq2)"
   ]
  },
  {
   "cell_type": "code",
   "execution_count": 74,
   "id": "stretch-separate",
   "metadata": {},
   "outputs": [
    {
     "data": {
      "text/plain": [
       "array([94, 45, 26])"
      ]
     },
     "execution_count": 74,
     "metadata": {},
     "output_type": "execute_result"
    }
   ],
   "source": [
    "# using the multi dimensional array\n",
    "array[seq1, seq2] # length of the seq1 == seq2"
   ]
  },
  {
   "cell_type": "markdown",
   "id": "cloudy-property",
   "metadata": {},
   "source": [
    "**What if the length of the seq1 and the seq2 are diffenrent**"
   ]
  },
  {
   "cell_type": "code",
   "execution_count": 79,
   "id": "distributed-aspect",
   "metadata": {},
   "outputs": [
    {
     "name": "stdout",
     "output_type": "stream",
     "text": [
      "[0 2 0 5 2]\n",
      "[0 5 0 2]\n"
     ]
    }
   ],
   "source": [
    "# making two array with diffennt length\n",
    "seq1 = randint(6, size=(5,))\n",
    "seq2 = randint(6, size=(4,))\n",
    "\n",
    "# now we have two sequence of different size\n",
    "print(seq1)\n",
    "print(seq2)"
   ]
  },
  {
   "cell_type": "code",
   "execution_count": 80,
   "id": "isolated-crash",
   "metadata": {},
   "outputs": [
    {
     "ename": "IndexError",
     "evalue": "shape mismatch: indexing arrays could not be broadcast together with shapes (5,) (4,) ",
     "output_type": "error",
     "traceback": [
      "\u001b[1;31m---------------------------------------------------------------------------\u001b[0m",
      "\u001b[1;31mIndexError\u001b[0m                                Traceback (most recent call last)",
      "\u001b[1;32m<ipython-input-80-db13487ec7c7>\u001b[0m in \u001b[0;36m<module>\u001b[1;34m\u001b[0m\n\u001b[0;32m      1\u001b[0m \u001b[1;31m# using the tow sequence have different length\u001b[0m\u001b[1;33m\u001b[0m\u001b[1;33m\u001b[0m\u001b[1;33m\u001b[0m\u001b[0m\n\u001b[0;32m      2\u001b[0m \u001b[1;33m\u001b[0m\u001b[0m\n\u001b[1;32m----> 3\u001b[1;33m \u001b[0marray\u001b[0m\u001b[1;33m[\u001b[0m\u001b[0mseq1\u001b[0m \u001b[1;33m,\u001b[0m \u001b[0mseq2\u001b[0m\u001b[1;33m]\u001b[0m\u001b[1;33m\u001b[0m\u001b[1;33m\u001b[0m\u001b[0m\n\u001b[0m",
      "\u001b[1;31mIndexError\u001b[0m: shape mismatch: indexing arrays could not be broadcast together with shapes (5,) (4,) "
     ]
    }
   ],
   "source": [
    "# using the tow sequence have different length\n",
    "\n",
    "array[seq1 , seq2]"
   ]
  },
  {
   "cell_type": "markdown",
   "id": "coated-private",
   "metadata": {},
   "source": [
    "See, we cannot do indexing with multi-dimensioanl array which are having the different length. This will gives us a IndexError."
   ]
  },
  {
   "cell_type": "markdown",
   "id": "dynamic-secretary",
   "metadata": {},
   "source": [
    "***\n",
    "`Conclusion:`\n",
    "Indexing an array with other arrays or array like sequence:\n",
    "* It must be iterable object.\n",
    "* It must not contains the value which is out of index number.\n",
    "* It must contains only interger\n",
    "* The length of the array like sequence can have values in N-dimensions  \n",
    "* Slicing like seq1:seq2 are not permettied in a single dimension\n",
    "* Slicing and index array combination are permitted.\n",
    "* Multi dimensional index array are also permitted to make a new array by using the elements of the array.\n",
    "* Multi dimensional index array of diffenent length are not permitted."
   ]
  },
  {
   "cell_type": "markdown",
   "id": "strategic-compact",
   "metadata": {},
   "source": [
    "***\n",
    "---"
   ]
  },
  {
   "cell_type": "markdown",
   "id": "european-smoke",
   "metadata": {},
   "source": [
    "## Boolean or Mask index array:\n",
    "\n",
    "Boolean or mask index array is different from the genearal index array, general index array contains the interger value as the index number but the boolean or mask index array contains only Boolean values like `True and False`. \n",
    "\n",
    "Boolean array Can be generated with the help of various technique or it can be given as munual to the array:\n",
    "\n",
    "A Boolena array looks like this:\n",
    "```ruby\n",
    "array([[False,  True, False,  True, False, False],\n",
    "       [ True,  True,  True, False,  True,  True],\n",
    "       [False,  True, False,  True, False,  True],\n",
    "       [ True, False, False, False,  True,  True],\n",
    "       [False,  True, False,  True, False, False],\n",
    "       [False, False,  True,  True, False,  True]])\n",
    "```\n",
    "\n",
    "A boolean array contains both `True` and the `False` values in the index array. but the resulted array will be short to the boolean array because in this it will only select those element which are having `True` at their corresponding index location in the original array.\n",
    "\n",
    "We can see it by using an example: we have 1d index array and also having a array which is to be indexed.\n"
   ]
  },
  {
   "cell_type": "code",
   "execution_count": 86,
   "id": "varied-functionality",
   "metadata": {},
   "outputs": [
    {
     "data": {
      "text/plain": [
       "array([9, 0, 6, 6, 5, 8, 8, 5, 9, 4])"
      ]
     },
     "execution_count": 86,
     "metadata": {},
     "output_type": "execute_result"
    }
   ],
   "source": [
    "# array to be indexed named as test\n",
    "test = randint(10, size=(10,))\n",
    "test"
   ]
  },
  {
   "cell_type": "code",
   "execution_count": 89,
   "id": "trying-republican",
   "metadata": {},
   "outputs": [
    {
     "data": {
      "text/plain": [
       "array([ True, False, False, False,  True,  True,  True, False, False,\n",
       "       False])"
      ]
     },
     "execution_count": 89,
     "metadata": {},
     "output_type": "execute_result"
    }
   ],
   "source": [
    "# boolean array with randomness\n",
    "# making a boolean array with numpy.random.choice() function\n",
    "choose = [True, False]\n",
    "bool_array = choice(choose, size=(10, ))\n",
    "bool_array"
   ]
  },
  {
   "cell_type": "markdown",
   "id": "daily-manufacturer",
   "metadata": {},
   "source": [
    "Now we have both 1d array and the boolean array now we will see that how it works when we pass this bool_array (index_array) into the array."
   ]
  },
  {
   "cell_type": "code",
   "execution_count": 92,
   "id": "gorgeous-newark",
   "metadata": {},
   "outputs": [
    {
     "name": "stdout",
     "output_type": "stream",
     "text": [
      "Our original array:\n",
      " [9 0 6 6 5 8 8 5 9 4]\n",
      "\n",
      "boolean array:\n",
      " [ True False False False  True  True  True False False False]\n",
      "\n",
      "indexd array:\n",
      " [9 5 8 8]\n"
     ]
    }
   ],
   "source": [
    "print(\"Our original array:\\n\",test)\n",
    "print(\"\\nboolean array:\\n\",bool_array)\n",
    "print(\"\\nindexd array:\\n\",test[bool_array])\n"
   ]
  },
  {
   "cell_type": "markdown",
   "id": "opponent-reaction",
   "metadata": {},
   "source": [
    "As you can see that our indexed array shape is different, this is like filterring of the elements which do meet the filter conditions we often use this method to filter things in the pandas dataframe and series during the data analysing. \n",
    "\n",
    "`Note:` The shape and the size of the output array depends on the boolean array, if the boolean array has the 2D index array then it can give us the 2D indexed array.\n",
    "\n",
    "Let's Work on the 2d array:"
   ]
  },
  {
   "cell_type": "code",
   "execution_count": 93,
   "id": "entertaining-chess",
   "metadata": {},
   "outputs": [
    {
     "data": {
      "text/plain": [
       "array([[85, 10, 91, 31, 56, 51],\n",
       "       [21, 30, 20, 94, 45, 37],\n",
       "       [55, 24, 52, 38, 81, 11],\n",
       "       [ 6, 89, 92, 65, 39, 19],\n",
       "       [62, 45, 57, 25, 94, 88],\n",
       "       [84, 62,  9, 26, 57, 47]])"
      ]
     },
     "execution_count": 93,
     "metadata": {},
     "output_type": "execute_result"
    }
   ],
   "source": [
    "# Our oringinal array is \n",
    "array"
   ]
  },
  {
   "cell_type": "code",
   "execution_count": 102,
   "id": "occasional-tongue",
   "metadata": {},
   "outputs": [
    {
     "data": {
      "text/plain": [
       "array([[ True, False,  True, False,  True,  True],\n",
       "       [False, False, False,  True, False, False],\n",
       "       [ True, False,  True, False,  True, False],\n",
       "       [False,  True,  True,  True, False, False],\n",
       "       [ True, False,  True, False,  True,  True],\n",
       "       [ True,  True, False, False,  True, False]])"
      ]
     },
     "execution_count": 102,
     "metadata": {},
     "output_type": "execute_result"
    }
   ],
   "source": [
    "# Making a 2d boolen array wiht some making\n",
    "# masking can be done with some logican operantion b/w the array and some condition\n",
    "# like array > 24 ; it means the select all the element which are greater than the 24 inside the  array.\n",
    "\n",
    "# This operation returns a boolean array with True and False values\n",
    "\n",
    "bool_array = array > 50\n",
    "bool_array"
   ]
  },
  {
   "cell_type": "code",
   "execution_count": 103,
   "id": "innocent-giving",
   "metadata": {},
   "outputs": [
    {
     "name": "stdout",
     "output_type": "stream",
     "text": [
      "Shape of the bool array:  (6, 6)\n",
      "Size of the bool array:  36\n"
     ]
    }
   ],
   "source": [
    "print(\"Shape of the bool array: \", bool_array.shape )\n",
    "print(\"Size of the bool array: \",bool_array.size)"
   ]
  },
  {
   "cell_type": "markdown",
   "id": "rubber-method",
   "metadata": {},
   "source": [
    "We have the size and shape of the boolen array now we will do the indexing with the boolean array:"
   ]
  },
  {
   "cell_type": "code",
   "execution_count": 104,
   "id": "severe-tongue",
   "metadata": {},
   "outputs": [
    {
     "data": {
      "text/plain": [
       "array([85, 91, 56, 51, 94, 55, 52, 81, 89, 92, 65, 62, 57, 94, 88, 84, 62,\n",
       "       57])"
      ]
     },
     "execution_count": 104,
     "metadata": {},
     "output_type": "execute_result"
    }
   ],
   "source": [
    "array[bool_array]"
   ]
  },
  {
   "cell_type": "markdown",
   "id": "noticed-southeast",
   "metadata": {},
   "source": [
    "As you can see that we have got our result according to the bool_array. bool_array contains True to corresponding location where element is greater then the 50 into the array and returns it during the indexing. Since boolean indexing is different from the general indexing , it is more like filtering something from the array with some logic in this we dont need to know the index value of that particular values. \n",
    "\n",
    "`Note:` The esult will be multidimensional if array has more dimension then boolean array. \n",
    "\n",
    "**Example 1**"
   ]
  },
  {
   "cell_type": "code",
   "execution_count": 106,
   "id": "artificial-transition",
   "metadata": {},
   "outputs": [
    {
     "data": {
      "text/plain": [
       "array([ True,  True,  True, False, False, False])"
      ]
     },
     "execution_count": 106,
     "metadata": {},
     "output_type": "execute_result"
    }
   ],
   "source": [
    "# Suppose that we have a 1d array in which we need to match the size of that dimension in which we are indexing it.\n",
    "\n",
    "# boolean array accoriding to the row indexing\n",
    "# Since our array has 6 x 6 shape we dont need to worry about the shape of the boolean array.\n",
    "choose = [True, False]\n",
    "bool_array = choice(choose, size=(6, ))\n",
    "bool_array"
   ]
  },
  {
   "cell_type": "code",
   "execution_count": 107,
   "id": "reduced-prior",
   "metadata": {},
   "outputs": [
    {
     "data": {
      "text/plain": [
       "array([[85, 10, 91, 31, 56, 51],\n",
       "       [21, 30, 20, 94, 45, 37],\n",
       "       [55, 24, 52, 38, 81, 11]])"
      ]
     },
     "execution_count": 107,
     "metadata": {},
     "output_type": "execute_result"
    }
   ],
   "source": [
    "array[bool_array]"
   ]
  },
  {
   "cell_type": "markdown",
   "id": "further-nitrogen",
   "metadata": {},
   "source": [
    "As You can see that now we have a 2d indexed array after passing the boolen array into the array. Because the dimension of the boolean array is less than the array. \n",
    "\n",
    "In this case the boolean array do not have the True and False vlaues corresponding to the array items instead this time they are corresponding to the rows of the array it is similar to the 1d index array which has the interger values less than the index range of the array.\n",
    "\n",
    "**Example 2:**  Passing boolean index array at the place of column of the array:"
   ]
  },
  {
   "cell_type": "code",
   "execution_count": 108,
   "id": "micro-thesaurus",
   "metadata": {},
   "outputs": [
    {
     "data": {
      "text/plain": [
       "array([[85, 10, 91],\n",
       "       [21, 30, 20],\n",
       "       [55, 24, 52],\n",
       "       [ 6, 89, 92],\n",
       "       [62, 45, 57],\n",
       "       [84, 62,  9]])"
      ]
     },
     "execution_count": 108,
     "metadata": {},
     "output_type": "execute_result"
    }
   ],
   "source": [
    "# array[rows, columns]\n",
    "array[:,bool_array]"
   ]
  },
  {
   "cell_type": "markdown",
   "id": "purple-costs",
   "metadata": {},
   "source": [
    "Here `:` represents that select all the available row of the array.\n",
    "\n",
    "**Example 3:** Indexing of Non-square array.\n",
    "\n",
    "For that we need to create a new array, Let's Create an random array with a shape of (5,6)."
   ]
  },
  {
   "cell_type": "code",
   "execution_count": 109,
   "id": "professional-circumstances",
   "metadata": {},
   "outputs": [
    {
     "data": {
      "text/plain": [
       "array([[64, 89, 47, 58, 97, 23],\n",
       "       [23, 20, 66, 23, 13, 80],\n",
       "       [61, 47, 39, 53, 78,  4],\n",
       "       [ 6, 98, 13, 88,  6, 72],\n",
       "       [29,  2,  0, 32, 47, 79]])"
      ]
     },
     "execution_count": 109,
     "metadata": {},
     "output_type": "execute_result"
    }
   ],
   "source": [
    "# creating a random non-square array\n",
    "array2 = randint(100, size=(5,6))\n",
    "array2"
   ]
  },
  {
   "cell_type": "code",
   "execution_count": 110,
   "id": "aggressive-illustration",
   "metadata": {},
   "outputs": [
    {
     "data": {
      "text/plain": [
       "array([ True,  True,  True, False, False, False])"
      ]
     },
     "execution_count": 110,
     "metadata": {},
     "output_type": "execute_result"
    }
   ],
   "source": [
    "bool_array"
   ]
  },
  {
   "cell_type": "markdown",
   "id": "restricted-portsmouth",
   "metadata": {},
   "source": [
    "Now we need two different bool_array which matches the size of the both rows and columns, In this case we need one bool_array for row and one bool_array for the column which matches size of the row and columns."
   ]
  },
  {
   "cell_type": "code",
   "execution_count": 111,
   "id": "annoying-import",
   "metadata": {},
   "outputs": [
    {
     "data": {
      "text/plain": [
       "array([ True, False, False,  True,  True])"
      ]
     },
     "execution_count": 111,
     "metadata": {},
     "output_type": "execute_result"
    }
   ],
   "source": [
    "# since our first bool_array alreay meets the requirment for the size of rows so we need the array for the column size\n",
    "\n",
    "choose = [True, False]\n",
    "bool_array2 = choice(choose, size=(5, )) # size is 5 for the columns\n",
    "bool_array2"
   ]
  },
  {
   "cell_type": "markdown",
   "id": "athletic-assessment",
   "metadata": {},
   "source": [
    "Now we have two different boolean arrays one for the rows and another for the columns."
   ]
  },
  {
   "cell_type": "code",
   "execution_count": 112,
   "id": "improved-lunch",
   "metadata": {},
   "outputs": [
    {
     "name": "stdout",
     "output_type": "stream",
     "text": [
      "Boolean array for the rows of the array:  [ True  True  True False False False]\n",
      "Boolean array for the columns of the array:  [ True False False  True  True]\n"
     ]
    }
   ],
   "source": [
    "print(\"Boolean array for the rows of the array: \",bool_array)\n",
    "print(\"Boolean array for the columns of the array: \", bool_array2)"
   ]
  },
  {
   "cell_type": "code",
   "execution_count": 114,
   "id": "binary-senator",
   "metadata": {},
   "outputs": [
    {
     "data": {
      "text/plain": [
       "array([[64, 89, 47, 58, 97, 23],\n",
       "       [ 6, 98, 13, 88,  6, 72],\n",
       "       [29,  2,  0, 32, 47, 79]])"
      ]
     },
     "execution_count": 114,
     "metadata": {},
     "output_type": "execute_result"
    }
   ],
   "source": [
    "# indexing using the row of the array2\n",
    "array2[bool_array2]"
   ]
  },
  {
   "cell_type": "code",
   "execution_count": 115,
   "id": "based-zimbabwe",
   "metadata": {},
   "outputs": [
    {
     "data": {
      "text/plain": [
       "array([[85, 10, 91],\n",
       "       [21, 30, 20],\n",
       "       [55, 24, 52],\n",
       "       [ 6, 89, 92],\n",
       "       [62, 45, 57],\n",
       "       [84, 62,  9]])"
      ]
     },
     "execution_count": 115,
     "metadata": {},
     "output_type": "execute_result"
    }
   ],
   "source": [
    "# indexing using the column of the array2\n",
    "array[:, bool_array]"
   ]
  },
  {
   "cell_type": "markdown",
   "id": "acoustic-cradle",
   "metadata": {},
   "source": [
    "As you can see that we need different size of the boolean index array for the non-square 2d array. Otherwise it will raise the IndexError.\n",
    "***\n",
    "***"
   ]
  },
  {
   "cell_type": "markdown",
   "id": "beautiful-validity",
   "metadata": {},
   "source": [
    "## Structural Indexing tools\n",
    "\n",
    "`Structural indexing:` To facilitate easy matching of array shapes with expresions and in assingnments , the np.newaxis  objects can be used wthin array indeces to add new dimnsions with a size of 1."
   ]
  },
  {
   "cell_type": "code",
   "execution_count": 125,
   "id": "alleged-corps",
   "metadata": {},
   "outputs": [
    {
     "name": "stdout",
     "output_type": "stream",
     "text": [
      "[[11  3 15]\n",
      " [ 4  2 14]\n",
      " [12  7 19]\n",
      " [12 13  0]]\n",
      "\n",
      " Shape of the array:  (4, 3)\n"
     ]
    }
   ],
   "source": [
    "# creating a new array \n",
    "temp = randint(20, size=(4,3))\n",
    "print(temp)\n",
    "print(\"\\n Shape of the array: \",temp.shape)"
   ]
  },
  {
   "cell_type": "markdown",
   "id": "dynamic-istanbul",
   "metadata": {},
   "source": [
    "Now we have a new temp array, we will add a new axis into the temp array."
   ]
  },
  {
   "cell_type": "code",
   "execution_count": 122,
   "id": "developing-consequence",
   "metadata": {},
   "outputs": [
    {
     "data": {
      "text/plain": [
       "array([[[15,  7, 16]],\n",
       "\n",
       "       [[ 9, 17, 16]],\n",
       "\n",
       "       [[ 6, 18,  7]],\n",
       "\n",
       "       [[19,  6, 18]]])"
      ]
     },
     "execution_count": 122,
     "metadata": {},
     "output_type": "execute_result"
    }
   ],
   "source": [
    "temp[:,np.newaxis,:]"
   ]
  },
  {
   "cell_type": "code",
   "execution_count": 123,
   "id": "unavailable-sandwich",
   "metadata": {},
   "outputs": [
    {
     "data": {
      "text/plain": [
       "(4, 1, 3)"
      ]
     },
     "execution_count": 123,
     "metadata": {},
     "output_type": "execute_result"
    }
   ],
   "source": [
    "temp[:,np.newaxis,:].shape"
   ]
  },
  {
   "cell_type": "markdown",
   "id": "absolute-shark",
   "metadata": {},
   "source": [
    "Now, as you can see that we have added a new axis.\n",
    "\n",
    "`Note:` Notice that there are no new elements in the array, just that the dimensionality is incereased. This can be handy to combine two arrats in a wat that otherwie would require explicitly reshaping operations.\n",
    "\n",
    "***Adding two arrays***"
   ]
  },
  {
   "cell_type": "code",
   "execution_count": 126,
   "id": "false-parent",
   "metadata": {},
   "outputs": [
    {
     "data": {
      "text/plain": [
       "array([[11,  3, 15],\n",
       "       [ 4,  2, 14],\n",
       "       [12,  7, 19],\n",
       "       [12, 13,  0]])"
      ]
     },
     "execution_count": 126,
     "metadata": {},
     "output_type": "execute_result"
    }
   ],
   "source": [
    "temp"
   ]
  },
  {
   "cell_type": "code",
   "execution_count": 129,
   "id": "guilty-attack",
   "metadata": {},
   "outputs": [
    {
     "name": "stdout",
     "output_type": "stream",
     "text": [
      "[[[ 6  3 12]]\n",
      "\n",
      " [[16  2 18]]\n",
      "\n",
      " [[ 4  9 17]]\n",
      "\n",
      " [[ 5 17  8]]]\n",
      "shape of the temp2 array:  (4, 1, 3)\n"
     ]
    }
   ],
   "source": [
    "# we already have one temp array we need one more temp array to perorm this task\n",
    "temp2 = randint(20, size=(4,1,3))\n",
    "print(temp2)\n",
    "print(\"shape of the temp2 array: \", temp2.shape)"
   ]
  },
  {
   "cell_type": "code",
   "execution_count": 131,
   "id": "eligible-aerospace",
   "metadata": {},
   "outputs": [
    {
     "data": {
      "text/plain": [
       "(4, 3)"
      ]
     },
     "execution_count": 131,
     "metadata": {},
     "output_type": "execute_result"
    }
   ],
   "source": [
    "# adding the temp one and temp2\n",
    "temp.shape"
   ]
  },
  {
   "cell_type": "code",
   "execution_count": 132,
   "id": "electoral-integer",
   "metadata": {},
   "outputs": [
    {
     "data": {
      "text/plain": [
       "array([[[17,  6, 27],\n",
       "        [10,  5, 26],\n",
       "        [18, 10, 31],\n",
       "        [18, 16, 12]],\n",
       "\n",
       "       [[27,  5, 33],\n",
       "        [20,  4, 32],\n",
       "        [28,  9, 37],\n",
       "        [28, 15, 18]],\n",
       "\n",
       "       [[15, 12, 32],\n",
       "        [ 8, 11, 31],\n",
       "        [16, 16, 36],\n",
       "        [16, 22, 17]],\n",
       "\n",
       "       [[16, 20, 23],\n",
       "        [ 9, 19, 22],\n",
       "        [17, 24, 27],\n",
       "        [17, 30,  8]]])"
      ]
     },
     "execution_count": 132,
     "metadata": {},
     "output_type": "execute_result"
    }
   ],
   "source": [
    "temp + temp2"
   ]
  },
  {
   "cell_type": "code",
   "execution_count": 133,
   "id": "adult-hudson",
   "metadata": {},
   "outputs": [
    {
     "data": {
      "text/plain": [
       "(4, 4, 3)"
      ]
     },
     "execution_count": 133,
     "metadata": {},
     "output_type": "execute_result"
    }
   ],
   "source": [
    "(temp + temp2).shape"
   ]
  },
  {
   "cell_type": "markdown",
   "id": "numerical-cause",
   "metadata": {},
   "source": [
    "***Combining the arrays***"
   ]
  },
  {
   "cell_type": "code",
   "execution_count": 135,
   "id": "virgin-keeping",
   "metadata": {},
   "outputs": [
    {
     "data": {
      "text/plain": [
       "array([0, 1, 2, 3, 4])"
      ]
     },
     "execution_count": 135,
     "metadata": {},
     "output_type": "execute_result"
    }
   ],
   "source": [
    "# let's create an 1d array for that \n",
    "temp = arange(5)\n",
    "temp"
   ]
  },
  {
   "cell_type": "code",
   "execution_count": 136,
   "id": "raised-secondary",
   "metadata": {},
   "outputs": [
    {
     "name": "stdout",
     "output_type": "stream",
     "text": [
      "adding a newaxis at row:\n",
      "  [[0 1 2 3 4]]\n",
      "\n",
      "adding a newaxis at column:\n",
      "  [[0]\n",
      " [1]\n",
      " [2]\n",
      " [3]\n",
      " [4]]\n"
     ]
    }
   ],
   "source": [
    "# lets create a new axis at the row and the columns places\n",
    "print(\"adding a newaxis at row:\\n \", temp[np.newaxis,:])\n",
    "print(\"\\nadding a newaxis at column:\\n \",temp[:,np.newaxis])"
   ]
  },
  {
   "cell_type": "code",
   "execution_count": 137,
   "id": "frank-passenger",
   "metadata": {},
   "outputs": [
    {
     "data": {
      "text/plain": [
       "array([[0, 1, 2, 3, 4],\n",
       "       [1, 2, 3, 4, 5],\n",
       "       [2, 3, 4, 5, 6],\n",
       "       [3, 4, 5, 6, 7],\n",
       "       [4, 5, 6, 7, 8]])"
      ]
     },
     "execution_count": 137,
     "metadata": {},
     "output_type": "execute_result"
    }
   ],
   "source": [
    "# combining the new temp array after the adding newaxis \n",
    "temp[np.newaxis,: ] + temp[:, np.newaxis]"
   ]
  },
  {
   "cell_type": "markdown",
   "id": "foster-preparation",
   "metadata": {},
   "source": [
    "**Ellipsis syntax:** ellopssis syntax maybe used to indicate selecting in full any remaining unspecified dimensions.\n",
    "\n",
    "For example:"
   ]
  },
  {
   "cell_type": "code",
   "execution_count": 138,
   "id": "leading-tension",
   "metadata": {},
   "outputs": [
    {
     "data": {
      "text/plain": [
       "array([ 0,  1,  2,  3,  4,  5,  6,  7,  8,  9, 10, 11, 12, 13, 14, 15, 16,\n",
       "       17, 18, 19, 20, 21, 22, 23, 24, 25, 26, 27, 28, 29, 30, 31, 32, 33,\n",
       "       34, 35, 36, 37, 38, 39, 40, 41, 42, 43, 44, 45, 46, 47, 48, 49, 50,\n",
       "       51, 52, 53, 54, 55, 56, 57, 58, 59, 60, 61, 62, 63, 64, 65, 66, 67,\n",
       "       68, 69, 70, 71, 72, 73, 74, 75, 76, 77, 78, 79, 80])"
      ]
     },
     "execution_count": 138,
     "metadata": {},
     "output_type": "execute_result"
    }
   ],
   "source": [
    "temp = np.arange(81)\n",
    "temp"
   ]
  },
  {
   "cell_type": "code",
   "execution_count": 140,
   "id": "portable-scientist",
   "metadata": {},
   "outputs": [
    {
     "data": {
      "text/plain": [
       "array([[[[ 0,  1,  2],\n",
       "         [ 3,  4,  5],\n",
       "         [ 6,  7,  8]],\n",
       "\n",
       "        [[ 9, 10, 11],\n",
       "         [12, 13, 14],\n",
       "         [15, 16, 17]],\n",
       "\n",
       "        [[18, 19, 20],\n",
       "         [21, 22, 23],\n",
       "         [24, 25, 26]]],\n",
       "\n",
       "\n",
       "       [[[27, 28, 29],\n",
       "         [30, 31, 32],\n",
       "         [33, 34, 35]],\n",
       "\n",
       "        [[36, 37, 38],\n",
       "         [39, 40, 41],\n",
       "         [42, 43, 44]],\n",
       "\n",
       "        [[45, 46, 47],\n",
       "         [48, 49, 50],\n",
       "         [51, 52, 53]]],\n",
       "\n",
       "\n",
       "       [[[54, 55, 56],\n",
       "         [57, 58, 59],\n",
       "         [60, 61, 62]],\n",
       "\n",
       "        [[63, 64, 65],\n",
       "         [66, 67, 68],\n",
       "         [69, 70, 71]],\n",
       "\n",
       "        [[72, 73, 74],\n",
       "         [75, 76, 77],\n",
       "         [78, 79, 80]]]])"
      ]
     },
     "execution_count": 140,
     "metadata": {},
     "output_type": "execute_result"
    }
   ],
   "source": [
    "# now we will reshape it \n",
    "temp.reshape(3,3,3,3)"
   ]
  },
  {
   "cell_type": "markdown",
   "id": "excess-wednesday",
   "metadata": {},
   "source": [
    "Now you can see that we have a new temp which has new shape. "
   ]
  },
  {
   "cell_type": "code",
   "execution_count": 144,
   "id": "fossil-pledge",
   "metadata": {},
   "outputs": [
    {
     "data": {
      "text/plain": [
       "(3, 3, 3, 3)"
      ]
     },
     "execution_count": 144,
     "metadata": {},
     "output_type": "execute_result"
    }
   ],
   "source": [
    "temp = temp.reshape(3,3,3,3)\n",
    "temp.shape"
   ]
  },
  {
   "cell_type": "code",
   "execution_count": 149,
   "id": "vital-video",
   "metadata": {},
   "outputs": [
    {
     "data": {
      "text/plain": [
       "array([[29, 32, 35],\n",
       "       [38, 41, 44],\n",
       "       [47, 50, 53]])"
      ]
     },
     "execution_count": 149,
     "metadata": {},
     "output_type": "execute_result"
    }
   ],
   "source": [
    "# Ellipsis syntax to slice the array\n",
    "temp[1,...,2]"
   ]
  },
  {
   "cell_type": "markdown",
   "id": "chief-wealth",
   "metadata": {},
   "source": [
    "The above syntax is equivalent to:"
   ]
  },
  {
   "cell_type": "code",
   "execution_count": 150,
   "id": "personal-fellowship",
   "metadata": {},
   "outputs": [
    {
     "data": {
      "text/plain": [
       "array([[29, 32, 35],\n",
       "       [38, 41, 44],\n",
       "       [47, 50, 53]])"
      ]
     },
     "execution_count": 150,
     "metadata": {},
     "output_type": "execute_result"
    }
   ],
   "source": [
    "temp[1,:,:,2]"
   ]
  },
  {
   "cell_type": "code",
   "execution_count": 152,
   "id": "median-march",
   "metadata": {},
   "outputs": [
    {
     "data": {
      "text/plain": [
       "array([[[ 2,  5,  8],\n",
       "        [11, 14, 17],\n",
       "        [20, 23, 26]],\n",
       "\n",
       "       [[29, 32, 35],\n",
       "        [38, 41, 44],\n",
       "        [47, 50, 53]],\n",
       "\n",
       "       [[56, 59, 62],\n",
       "        [65, 68, 71],\n",
       "        [74, 77, 80]]])"
      ]
     },
     "execution_count": 152,
     "metadata": {},
     "output_type": "execute_result"
    }
   ],
   "source": [
    "# or we can also use different dimensions in slicing \n",
    "temp[...,2]"
   ]
  },
  {
   "cell_type": "markdown",
   "id": "parental-sunday",
   "metadata": {},
   "source": [
    "The ellipsis syntax `...` shows that we are counting all the dimension and all the elements corresponding to the selected dimension. the syntax `...` select the all dimensions which are not specified in the contigous manner.\n",
    "\n",
    "suppose that we have an array of 6 dimension then ellipsis syntax `...` will be used to select contigous dimensions."
   ]
  },
  {
   "cell_type": "code",
   "execution_count": 153,
   "id": "reduced-strip",
   "metadata": {},
   "outputs": [
    {
     "name": "stdout",
     "output_type": "stream",
     "text": [
      "[ 0  1  2  3  4  5  6  7  8  9 10 11 12 13 14 15 16 17 18 19 20 21 22 23\n",
      " 24 25 26 27 28 29 30 31 32 33 34 35 36 37 38 39 40 41 42 43 44 45 46 47\n",
      " 48 49 50 51 52 53 54 55 56 57 58 59 60 61 62 63]\n"
     ]
    }
   ],
   "source": [
    "temp = np.arange(64)\n",
    "print(temp)"
   ]
  },
  {
   "cell_type": "code",
   "execution_count": 154,
   "id": "respiratory-major",
   "metadata": {},
   "outputs": [
    {
     "name": "stdout",
     "output_type": "stream",
     "text": [
      "shape of the array:  (2, 2, 2, 2, 2, 2)\n"
     ]
    }
   ],
   "source": [
    "# changing the shape of the array\n",
    "temp = temp.reshape(2,2,2,2,2,2)\n",
    "print(\"shape of the array: \",temp.shape)"
   ]
  },
  {
   "cell_type": "code",
   "execution_count": 155,
   "id": "threaded-visibility",
   "metadata": {},
   "outputs": [
    {
     "data": {
      "text/plain": [
       "array([[[[[[ 0,  1],\n",
       "           [ 2,  3]],\n",
       "\n",
       "          [[ 4,  5],\n",
       "           [ 6,  7]]],\n",
       "\n",
       "\n",
       "         [[[ 8,  9],\n",
       "           [10, 11]],\n",
       "\n",
       "          [[12, 13],\n",
       "           [14, 15]]]],\n",
       "\n",
       "\n",
       "\n",
       "        [[[[16, 17],\n",
       "           [18, 19]],\n",
       "\n",
       "          [[20, 21],\n",
       "           [22, 23]]],\n",
       "\n",
       "\n",
       "         [[[24, 25],\n",
       "           [26, 27]],\n",
       "\n",
       "          [[28, 29],\n",
       "           [30, 31]]]]],\n",
       "\n",
       "\n",
       "\n",
       "\n",
       "       [[[[[32, 33],\n",
       "           [34, 35]],\n",
       "\n",
       "          [[36, 37],\n",
       "           [38, 39]]],\n",
       "\n",
       "\n",
       "         [[[40, 41],\n",
       "           [42, 43]],\n",
       "\n",
       "          [[44, 45],\n",
       "           [46, 47]]]],\n",
       "\n",
       "\n",
       "\n",
       "        [[[[48, 49],\n",
       "           [50, 51]],\n",
       "\n",
       "          [[52, 53],\n",
       "           [54, 55]]],\n",
       "\n",
       "\n",
       "         [[[56, 57],\n",
       "           [58, 59]],\n",
       "\n",
       "          [[60, 61],\n",
       "           [62, 63]]]]]])"
      ]
     },
     "execution_count": 155,
     "metadata": {},
     "output_type": "execute_result"
    }
   ],
   "source": [
    "temp"
   ]
  },
  {
   "cell_type": "markdown",
   "id": "potential-glance",
   "metadata": {},
   "source": [
    "**Example 1**"
   ]
  },
  {
   "cell_type": "code",
   "execution_count": 156,
   "id": "specific-detection",
   "metadata": {},
   "outputs": [
    {
     "data": {
      "text/plain": [
       "array([[[[ 1,  5],\n",
       "         [ 9, 13]],\n",
       "\n",
       "        [[17, 21],\n",
       "         [25, 29]]],\n",
       "\n",
       "\n",
       "       [[[33, 37],\n",
       "         [41, 45]],\n",
       "\n",
       "        [[49, 53],\n",
       "         [57, 61]]]])"
      ]
     },
     "execution_count": 156,
     "metadata": {},
     "output_type": "execute_result"
    }
   ],
   "source": [
    "# ellipsis syntax\n",
    "# Now we will apply the silcing on the 4th and 5th dimension and the rest of it will be selected by the ellipsis method\n",
    "temp[...,0,1] "
   ]
  },
  {
   "cell_type": "markdown",
   "id": "everyday-nebraska",
   "metadata": {},
   "source": [
    "**Example 2**"
   ]
  },
  {
   "cell_type": "code",
   "execution_count": 157,
   "id": "significant-plate",
   "metadata": {},
   "outputs": [
    {
     "data": {
      "text/plain": [
       "array([[[[ 2,  3],\n",
       "         [10, 11]],\n",
       "\n",
       "        [[18, 19],\n",
       "         [26, 27]]],\n",
       "\n",
       "\n",
       "       [[[34, 35],\n",
       "         [42, 43]],\n",
       "\n",
       "        [[50, 51],\n",
       "         [58, 59]]]])"
      ]
     },
     "execution_count": 157,
     "metadata": {},
     "output_type": "execute_result"
    }
   ],
   "source": [
    "temp[...,0,1,:]"
   ]
  },
  {
   "cell_type": "markdown",
   "id": "careful-present",
   "metadata": {},
   "source": [
    "We can see that in both example the result is different because in:\n",
    "\n",
    "Example 1: first we used the ellipsis syntax, by using this we counts all the dimensions upto the manual specification. in this example we have specified some indexing in two dimension. Since `...` syntax count all the contigous dimension up to the manual specification like this , we have counted all the first 4 dimension becaues we only specifed 2 manual dimension in the indexing.\n",
    "\n",
    "Note: if we would give only one dimension manually then the `...` syntax would taken the first 5 dimension itself. This confusion is cleared from the example 2.\n",
    "\n",
    "Example 2: in this we have mentioned last three dimensions manually for the indexing and by using this with `...` syntax, ellipsis syntax counts the remaining all off the dimenisons itself.\n",
    "***\n",
    "***"
   ]
  },
  {
   "cell_type": "markdown",
   "id": "julian-glenn",
   "metadata": {},
   "source": [
    "## Assigning values to indexed arrays:\n",
    "\n",
    "Assigning is similar to the assigning some values into the some object like `a =2 `. in this we have assigned '2' in an object 'a'. but there are some additional feature and constraint of the assigning of arrays:\n",
    "\n",
    "* ine can select a subset of an array to assign to using a single index, slices, and index and mask arrays. \n",
    "* The value being assigned to the indexed array must be shpae consistent (the same shape or broadcastable to the shpae the index produces)."
   ]
  },
  {
   "cell_type": "code",
   "execution_count": 158,
   "id": "creative-christopher",
   "metadata": {},
   "outputs": [
    {
     "data": {
      "text/plain": [
       "array([ 0,  1,  2,  3,  4,  5,  6,  7,  8,  9, 10, 11, 12, 13, 14])"
      ]
     },
     "execution_count": 158,
     "metadata": {},
     "output_type": "execute_result"
    }
   ],
   "source": [
    "temp = arange(15)\n",
    "temp"
   ]
  },
  {
   "cell_type": "code",
   "execution_count": 160,
   "id": "considerable-missouri",
   "metadata": {},
   "outputs": [
    {
     "data": {
      "text/plain": [
       "array([ 0,  1,  2,  3,  4,  0,  0,  0,  0,  0,  0, 11, 12, 13, 14])"
      ]
     },
     "execution_count": 160,
     "metadata": {},
     "output_type": "execute_result"
    }
   ],
   "source": [
    "# assign 0 to all the values from 5 to 10 position.\n",
    "temp[5:11] = 0  # 11 is for the 10+1 becuse 11 is not inclusive \n",
    "temp"
   ]
  },
  {
   "cell_type": "markdown",
   "id": "honey-labor",
   "metadata": {},
   "source": [
    "As you can see that we have assigned some zeros to the array.\n",
    "\n",
    "##### Case 1: Assigning values to the Nd-arrays:"
   ]
  },
  {
   "cell_type": "code",
   "execution_count": 162,
   "id": "interstate-norman",
   "metadata": {},
   "outputs": [
    {
     "data": {
      "text/plain": [
       "array([[ 2, 25, 13],\n",
       "       [39, 43, 45],\n",
       "       [46, 38, 29],\n",
       "       [23, 16, 19]])"
      ]
     },
     "execution_count": 162,
     "metadata": {},
     "output_type": "execute_result"
    }
   ],
   "source": [
    "# createing a 2d array\n",
    "temp = randint(50, size=(4,3))\n",
    "temp"
   ]
  },
  {
   "cell_type": "markdown",
   "id": "present-korean",
   "metadata": {},
   "source": [
    " now assigning 0 at the place of 43 and 38.\n",
    " \n",
    " Sicne this location are in same column so we can do it using the slicing:\n",
    " \n",
    " 1. Select those rows in which 43 and 48 are present \n",
    " 2. Select the column of the corresponding values"
   ]
  },
  {
   "cell_type": "code",
   "execution_count": 165,
   "id": "proud-bracelet",
   "metadata": {},
   "outputs": [
    {
     "data": {
      "text/plain": [
       "array([[ 2, 25, 13],\n",
       "       [39,  0, 45],\n",
       "       [46,  0, 29],\n",
       "       [23, 16, 19]])"
      ]
     },
     "execution_count": 165,
     "metadata": {},
     "output_type": "execute_result"
    }
   ],
   "source": [
    "# rows -------------> 2nd and 3rd\n",
    "# columns ----------> 2nd \n",
    "temp[1:3, 1] = 0\n",
    "temp"
   ]
  },
  {
   "cell_type": "markdown",
   "id": "empirical-account",
   "metadata": {},
   "source": [
    "As you can see that we have assingned values in the indexed arrays"
   ]
  },
  {
   "cell_type": "code",
   "execution_count": null,
   "id": "literary-navigation",
   "metadata": {},
   "outputs": [],
   "source": []
  }
 ],
 "metadata": {
  "kernelspec": {
   "display_name": "Python 3",
   "language": "python",
   "name": "python3"
  },
  "language_info": {
   "codemirror_mode": {
    "name": "ipython",
    "version": 3
   },
   "file_extension": ".py",
   "mimetype": "text/x-python",
   "name": "python",
   "nbconvert_exporter": "python",
   "pygments_lexer": "ipython3",
   "version": "3.8.3"
  }
 },
 "nbformat": 4,
 "nbformat_minor": 5
}
