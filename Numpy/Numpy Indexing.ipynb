{
 "cells": [
  {
   "cell_type": "code",
   "execution_count": 4,
   "id": "suspended-nebraska",
   "metadata": {},
   "outputs": [],
   "source": [
    "import numpy as np\n",
    "from numpy import arange , ndarray\n",
    "from numpy.random import randint"
   ]
  },
  {
   "cell_type": "markdown",
   "id": "surprised-strand",
   "metadata": {},
   "source": [
    "# Indexing\n",
    "\n",
    "Indexing is a method to access an item of an object by using their contigous loaction like array.  Since we are working on the array and numpy arrays are N-dimensioal so there are some complexity comes when we try to access an item by using indexing in a N-dimensional array. Now we will try to understand them by starting from a single item accessing in 1D array.\n",
    "\n",
    "In this section for now we will only see upto 3-dimesional array.\n",
    "\n",
    "### 1. Access an item from a single array:\n",
    "\n",
    "first of all we need an array so we will create an array with arange function."
   ]
  },
  {
   "cell_type": "code",
   "execution_count": 3,
   "id": "voluntary-wallet",
   "metadata": {},
   "outputs": [
    {
     "name": "stdout",
     "output_type": "stream",
     "text": [
      "Array:  [0 1 2 3 4 5 6 7 8 9]\n"
     ]
    }
   ],
   "source": [
    "array =  arange(10)\n",
    "\n",
    "# Now we have an array let's print it \n",
    "print(\"Array: \", array)"
   ]
  },
  {
   "cell_type": "markdown",
   "id": "spoken-savings",
   "metadata": {},
   "source": [
    "Now if we want to access any item from like 7 then we need to start from 0 because indexing always starts from 0, so if we want to access it then we need to count from 0 to up to the element position in this case element 7 is at the index number 7th."
   ]
  },
  {
   "cell_type": "code",
   "execution_count": 5,
   "id": "radio-reggae",
   "metadata": {},
   "outputs": [
    {
     "data": {
      "text/plain": [
       "7"
      ]
     },
     "execution_count": 5,
     "metadata": {},
     "output_type": "execute_result"
    }
   ],
   "source": [
    "# To access an element we need to use the square bracket [] after the array object like \n",
    "# array[index]\n",
    "\n",
    "array[7]"
   ]
  },
  {
   "cell_type": "markdown",
   "id": "advance-opportunity",
   "metadata": {},
   "source": [
    "As you can see that we have got 7 now we will use an random number array to see the it againl."
   ]
  },
  {
   "cell_type": "code",
   "execution_count": 9,
   "id": "interracial-folks",
   "metadata": {},
   "outputs": [
    {
     "name": "stdout",
     "output_type": "stream",
     "text": [
      "array:  [13 25 33 36 36  2  1 41 31  7 47 36 48 28 45 46  7 46 29  9]\n"
     ]
    }
   ],
   "source": [
    "# creating an random array with randint\n",
    "\n",
    "array = randint(1,50,size=(20,))\n",
    "print(\"array: \", array)"
   ]
  },
  {
   "cell_type": "markdown",
   "id": "fixed-family",
   "metadata": {},
   "source": [
    "As you can see that we have a new random array in which all are int type not lets say we want to access 10th element of the array. then we need to pass `(n-1)` for the indexing. We can see that the 10th element is 7 and by using indexing we will access it."
   ]
  },
  {
   "cell_type": "code",
   "execution_count": 10,
   "id": "national-polish",
   "metadata": {},
   "outputs": [
    {
     "data": {
      "text/plain": [
       "7"
      ]
     },
     "execution_count": 10,
     "metadata": {},
     "output_type": "execute_result"
    }
   ],
   "source": [
    "# accessing the 10th element\n",
    "array[9] # (n-1) indexing number "
   ]
  },
  {
   "cell_type": "code",
   "execution_count": 11,
   "id": "hungarian-friend",
   "metadata": {},
   "outputs": [
    {
     "data": {
      "text/plain": [
       "45"
      ]
     },
     "execution_count": 11,
     "metadata": {},
     "output_type": "execute_result"
    }
   ],
   "source": [
    "# accessing teh 15th element\n",
    "array[14]"
   ]
  },
  {
   "cell_type": "markdown",
   "id": "united-petersburg",
   "metadata": {},
   "source": [
    "**Reversive indexing**\n",
    "\n",
    "We can access the 14th element from the right side of the array by using the negative indexing [-n]. Like , if we want to access the 15th element of the array then we count it from the right side and put a negative sign on the number at which the element is present. Like 45 is present at the 6th location from right side of the array then we need to use indexing like this `array[-6]`."
   ]
  },
  {
   "cell_type": "code",
   "execution_count": 12,
   "id": "medium-treaty",
   "metadata": {},
   "outputs": [
    {
     "data": {
      "text/plain": [
       "45"
      ]
     },
     "execution_count": 12,
     "metadata": {},
     "output_type": "execute_result"
    }
   ],
   "source": [
    "# accessing the 15th element form the right side (negagtive indexing.)\n",
    "array[-6]"
   ]
  },
  {
   "cell_type": "markdown",
   "id": "practical-question",
   "metadata": {},
   "source": [
    "## Single element idexing with 2-d array\n",
    "\n",
    "Since Numpy contains N-dimensional array like this 2-d array also comes in the N-dimensional but in 2d array we have only two sub array in a single thats why its dimension is 2d. Now when we create an 2d array then there are two thing comes in picture these are Row and Column of the array which can be seen like this `array[Row ,  Column]`.\n",
    "\n",
    "Let's see how it looks like:"
   ]
  },
  {
   "cell_type": "code",
   "execution_count": 14,
   "id": "recreational-catalog",
   "metadata": {},
   "outputs": [
    {
     "name": "stdout",
     "output_type": "stream",
     "text": [
      "2D array:\n",
      " [[ 1 10 17 16]\n",
      " [ 9 11 10  8]\n",
      " [ 1 14 19 19]\n",
      " [17  7 16  8]\n",
      " [ 4 15  1 18]]\n",
      "\n",
      "Shape of the array: (5, 4)\n",
      "Dimension of the array:  2\n"
     ]
    }
   ],
   "source": [
    "# creating a 2d array\n",
    "array = randint(1,20,size=(5,4))\n",
    "print(\"2D array:\\n\", array)\n",
    "print(\"\\nShape of the array:\",array.shape)\n",
    "print(\"Dimension of the array: \",array.ndim)"
   ]
  },
  {
   "cell_type": "markdown",
   "id": "scientific-sucking",
   "metadata": {},
   "source": [
    "As you can see that we have got an  2d array and also we have checked its shape and the dimension with `shape` and `ndim` property of the array. Now since it is a two dimension then we need also two index number one is for the `rows` of the array and the other number is for the the `Column` of the array."
   ]
  },
  {
   "cell_type": "code",
   "execution_count": 16,
   "id": "expensive-service",
   "metadata": {},
   "outputs": [
    {
     "data": {
      "text/plain": [
       "14"
      ]
     },
     "execution_count": 16,
     "metadata": {},
     "output_type": "execute_result"
    }
   ],
   "source": [
    "# accessing  an item from the 2d array\n",
    "# So we need Rows number and Column number to access the element of the array \n",
    "# sicne from the shape of the array we can see that new array conatains 5 Rows and 4 Columns for we cant got beyond these numbers.\n",
    "\n",
    "# Lets acces an element which is present in 3rd row and 2nd Conlumn\n",
    "array[2,1] # 2 is for the row indexing and 1 is for the column indexing \n",
    "\n",
    "# Since indexing starts from the 0 number "
   ]
  },
  {
   "cell_type": "code",
   "execution_count": 17,
   "id": "excellent-picnic",
   "metadata": {},
   "outputs": [
    {
     "data": {
      "text/plain": [
       "array([[ 1, 10, 17, 16],\n",
       "       [ 9, 11, 10,  8],\n",
       "       [ 1, 14, 19, 19],\n",
       "       [17,  7, 16,  8],\n",
       "       [ 4, 15,  1, 18]])"
      ]
     },
     "execution_count": 17,
     "metadata": {},
     "output_type": "execute_result"
    }
   ],
   "source": [
    "array"
   ]
  },
  {
   "cell_type": "markdown",
   "id": "coated-scott",
   "metadata": {},
   "source": [
    "As you can see in above array then element 14 is placed at the 3rd row and 2nd column. So we have seen that for accessing an element in a 2d array we need two indexing number first one is for the `Rows` of the array and the other one if for `Columns` of the array.\n",
    "\n",
    "## Selecting a Row or a Column of an arrray:\n",
    "\n",
    "After selecting an array we will select an entire Row and an entire Column of the array. Because we have already have an 2D array so we don't need to make another one."
   ]
  },
  {
   "cell_type": "code",
   "execution_count": 18,
   "id": "sonic-cruise",
   "metadata": {},
   "outputs": [
    {
     "name": "stdout",
     "output_type": "stream",
     "text": [
      "[[ 1 10 17 16]\n",
      " [ 9 11 10  8]\n",
      " [ 1 14 19 19]\n",
      " [17  7 16  8]\n",
      " [ 4 15  1 18]]\n"
     ]
    }
   ],
   "source": [
    "# Printing the over old 2D array \n",
    "print(array)"
   ]
  },
  {
   "cell_type": "markdown",
   "id": "specified-duplicate",
   "metadata": {},
   "source": [
    "**Selecting an Row of 2D array**\n",
    "\n",
    "Selecting a row and Column is very simple we just need to give only one number any of two number `(Rows and Column)`. if we want to select a row then we need to give that rows number. Like we want to select 3rd row then we need to use the `array[2]`. \n",
    "\n",
    "In this we are only accessing Row element and do not specifing any colulmns, by doing this it will count all the column and return all the items from all the column."
   ]
  },
  {
   "cell_type": "code",
   "execution_count": 19,
   "id": "medieval-crawford",
   "metadata": {},
   "outputs": [
    {
     "data": {
      "text/plain": [
       "array([ 1, 14, 19, 19])"
      ]
     },
     "execution_count": 19,
     "metadata": {},
     "output_type": "execute_result"
    }
   ],
   "source": [
    "# Accessing 3rd row of the array\n",
    "array[2]"
   ]
  },
  {
   "cell_type": "code",
   "execution_count": 20,
   "id": "radical-financing",
   "metadata": {},
   "outputs": [
    {
     "data": {
      "text/plain": [
       "array([ 1, 14, 19, 19])"
      ]
     },
     "execution_count": 20,
     "metadata": {},
     "output_type": "execute_result"
    }
   ],
   "source": [
    "# the above accesing of 3rd row is also written as\n",
    "array[2,:]"
   ]
  },
  {
   "cell_type": "markdown",
   "id": "creative-spiritual",
   "metadata": {},
   "source": [
    "Here `:` represents slicing of the element which has the real representation as `n1:n2` . but in the above cell we didn't provide any n1 and n2  and the single `:` represents that we need all the element of the current dimension and in this case the current dimension is Column of the array.\n",
    "\n",
    "**Accessing Column of the array**\n",
    "\n",
    "Like Accessing the row of the array , selection of column is also similar to the the selection of the row, we just need to left blank the rows indexing and just need to specify the column which we want to access.\n"
   ]
  },
  {
   "cell_type": "code",
   "execution_count": 21,
   "id": "periodic-marshall",
   "metadata": {},
   "outputs": [
    {
     "ename": "SyntaxError",
     "evalue": "invalid syntax (<ipython-input-21-873bd565f691>, line 4)",
     "output_type": "error",
     "traceback": [
      "\u001b[1;36m  File \u001b[1;32m\"<ipython-input-21-873bd565f691>\"\u001b[1;36m, line \u001b[1;32m4\u001b[0m\n\u001b[1;33m    array[,2]\u001b[0m\n\u001b[1;37m          ^\u001b[0m\n\u001b[1;31mSyntaxError\u001b[0m\u001b[1;31m:\u001b[0m invalid syntax\n"
     ]
    }
   ],
   "source": [
    "# Like we want to access 3rd Column of the array\n",
    "# we need to left empty of the rows index\n",
    "\n",
    "array[,2]"
   ]
  },
  {
   "cell_type": "markdown",
   "id": "competent-sheriff",
   "metadata": {},
   "source": [
    "OH NOO! We have got an error but we left the rows place empty and provided the columns index number then what is wrong with it. \n",
    "\n",
    "The problem is that here empty means we need to specify `:` to the rows. it means that we need all from this dimenion (row). So let's try again with `:` this."
   ]
  },
  {
   "cell_type": "code",
   "execution_count": 22,
   "id": "upper-airplane",
   "metadata": {},
   "outputs": [
    {
     "data": {
      "text/plain": [
       "array([17, 10, 19, 16,  1])"
      ]
     },
     "execution_count": 22,
     "metadata": {},
     "output_type": "execute_result"
    }
   ],
   "source": [
    "array[:,2]"
   ]
  },
  {
   "cell_type": "markdown",
   "id": "pleasant-carroll",
   "metadata": {},
   "source": [
    "See that we have got the 3rd column of the array. Now we will access a section of an array.\n",
    "\n",
    "## Select a section of a 2D-array:\n",
    "\n",
    "Lets say that we have a big 2D array of 36 element which is 6 x 6  and we want to access a particular section of that array then we need to use the slicing of the array which can be done by using `n1:n2` in a that dimension in which we want to slice the array. \n",
    "\n",
    "First of all we will make a new big array:"
   ]
  },
  {
   "cell_type": "code",
   "execution_count": 25,
   "id": "interior-facing",
   "metadata": {},
   "outputs": [
    {
     "name": "stdout",
     "output_type": "stream",
     "text": [
      "Array: \n",
      " [[85 10 91 31 56 51]\n",
      " [21 30 20 94 45 37]\n",
      " [55 24 52 38 81 11]\n",
      " [ 6 89 92 65 39 19]\n",
      " [62 45 57 25 94 88]\n",
      " [84 62  9 26 57 47]]\n",
      "\n",
      "Shape of the array: (6, 6)\n",
      "Total elements in the array:  36\n"
     ]
    }
   ],
   "source": [
    "# Making a 6 x 6 array\n",
    "array = randint(1,100, size = (6,6))\n",
    "print(\"Array: \\n\",array)\n",
    "print(\"\\nShape of the array:\", array.shape)\n",
    "print(\"Total elements in the array: \", array.size)"
   ]
  },
  {
   "cell_type": "markdown",
   "id": "central-progressive",
   "metadata": {},
   "source": [
    "Now from the above output we can see that we have an 2D array with a shape of (6,6 ) and it has 36 elements. So now we need to select a particular area of the element.\n",
    "```ruby\n",
    " array =      [[24 52 38]\n",
    "               [89 92 65]\n",
    "               [45 57 25]]\n",
    "```\n",
    "\n",
    "Now we will select the above section of the current array:"
   ]
  },
  {
   "cell_type": "code",
   "execution_count": 26,
   "id": "binding-dispute",
   "metadata": {},
   "outputs": [
    {
     "data": {
      "text/plain": [
       "array([[24, 52],\n",
       "       [89, 92]])"
      ]
     },
     "execution_count": 26,
     "metadata": {},
     "output_type": "execute_result"
    }
   ],
   "source": [
    "# To select this kind of section we need to use the slicing of the array n1:n2\n",
    "# we need slicing in the both row and column so we need to use like this\n",
    "\n",
    "# array[n1:n2 , n1:n2]\n",
    "\n",
    "# first n1:n2 is for the slicing of the the Rows\n",
    "# Second n1:n2 is for the slicing of the columns\n",
    "\n",
    "# we can write this as also --------> array[start:end , start:end]\n",
    "# This clear the confusion that we need a starting point and ending point in both rows and columns\n",
    "\n",
    "# now count the rows starting point and ending point of the rows and columns\n",
    "# rows----> 2:4  # these are index nunbers not position number\n",
    "# column------> 1:3\n",
    "\n",
    "# Now accessing the section\n",
    "array[2:4 , 1:3]"
   ]
  },
  {
   "cell_type": "markdown",
   "id": "civilian-private",
   "metadata": {},
   "source": [
    "Oh no....! the result is not seem to match our task, So what happened.\n",
    "\n",
    "`Note:` End point in the slicing is not inclusive so we need of proved the `n+1` in the end indexing point. So our New slicing becomes as.\n",
    "\n",
    "Rows = 2:5 \n",
    "\n",
    "Columns = 1:4\n"
   ]
  },
  {
   "cell_type": "code",
   "execution_count": 27,
   "id": "bottom-playlist",
   "metadata": {},
   "outputs": [
    {
     "data": {
      "text/plain": [
       "array([[24, 52, 38],\n",
       "       [89, 92, 65],\n",
       "       [45, 57, 25]])"
      ]
     },
     "execution_count": 27,
     "metadata": {},
     "output_type": "execute_result"
    }
   ],
   "source": [
    "# accessing again\n",
    "array[2:5, 1:4]"
   ]
  },
  {
   "cell_type": "markdown",
   "id": "employed-bracelet",
   "metadata": {},
   "source": [
    "Now we can see that, we have got our desired result but the thing is to be remember is that `end` point in the slicing of the array dimension is not inclusive so we need to provide `(n+1)`  index number to get the desired result."
   ]
  },
  {
   "cell_type": "markdown",
   "id": "accompanied-nevada",
   "metadata": {},
   "source": [
    "#### Selection without start or end point:\n",
    "\n",
    "Selection without start point or end point is used when we need to slice something from begning of the column or the row and slicing something upto end of the rows and the columns.\n",
    "\n",
    "**Example 1**\n",
    "```ruby\n",
    "array([[85, 10, 91],\n",
    "       [21, 30, 20],\n",
    "       [55, 24, 52],\n",
    "       [ 6, 89, 92]])\n",
    "```\n",
    "\n",
    "Select this setion from the array:(old array which is used in previous selection)"
   ]
  },
  {
   "cell_type": "code",
   "execution_count": 30,
   "id": "distinct-cleaner",
   "metadata": {},
   "outputs": [
    {
     "name": "stdout",
     "output_type": "stream",
     "text": [
      "[[85 10 91 31 56 51]\n",
      " [21 30 20 94 45 37]\n",
      " [55 24 52 38 81 11]\n",
      " [ 6 89 92 65 39 19]\n",
      " [62 45 57 25 94 88]\n",
      " [84 62  9 26 57 47]]\n"
     ]
    }
   ],
   "source": [
    "# printing array again\n",
    "print(array)"
   ]
  },
  {
   "cell_type": "markdown",
   "id": "spoken-natural",
   "metadata": {},
   "source": [
    "As from the example 1 task we can see that section starts from 0th row and 0th column, in this case we do not need to provide the starting point during the slicing of the array. we can use `array[:end, :end]` like slicing beacause both start point are at 0th indexing."
   ]
  },
  {
   "cell_type": "code",
   "execution_count": 31,
   "id": "dying-liver",
   "metadata": {},
   "outputs": [
    {
     "data": {
      "text/plain": [
       "array([[85, 10, 91],\n",
       "       [21, 30, 20],\n",
       "       [55, 24, 52],\n",
       "       [ 6, 89, 92]])"
      ]
     },
     "execution_count": 31,
     "metadata": {},
     "output_type": "execute_result"
    }
   ],
   "source": [
    "# accesing the given array on example 1\n",
    "array[:4,:3] # since we need first four rows 0 to 3 ||| and we need first three column from 0 to 2 \n",
    "# Since end point of indexing need to provide as (n+1)"
   ]
  },
  {
   "cell_type": "markdown",
   "id": "superior-peter",
   "metadata": {},
   "source": [
    "As you can see that we have got our result.\n",
    "\n",
    "**Example 2**\n",
    "\n",
    "```ruby\n",
    "array([[39, 19],\n",
    "       [94, 88],\n",
    "       [57, 47]])\n",
    "```"
   ]
  },
  {
   "cell_type": "code",
   "execution_count": 38,
   "id": "delayed-viewer",
   "metadata": {},
   "outputs": [
    {
     "data": {
      "text/plain": [
       "array([[39, 19],\n",
       "       [94, 88],\n",
       "       [57, 47]])"
      ]
     },
     "execution_count": 38,
     "metadata": {},
     "output_type": "execute_result"
    }
   ],
   "source": [
    "# Count the rows and columns to match the start:points of exampel 2 section\n",
    "\n",
    "# Rows------------>  3:6  # since we have only 6 rows so we can write this as => 3: this says count all the rows after 3rd row\n",
    "# Columns--------->  4:6  # can be written as => 4: count all column after 4\n",
    "array[3:, 4:]"
   ]
  },
  {
   "cell_type": "markdown",
   "id": "traditional-cocktail",
   "metadata": {},
   "source": [
    "**Example 3**\n",
    "\n",
    "```ruby\n",
    "array([[21, 30, 20, 94],\n",
    "       [55, 24, 52, 38],\n",
    "       [ 6, 89, 92, 65]])\n",
    "```"
   ]
  },
  {
   "cell_type": "code",
   "execution_count": 39,
   "id": "mental-beach",
   "metadata": {},
   "outputs": [
    {
     "data": {
      "text/plain": [
       "array([[21, 30, 20, 94],\n",
       "       [55, 24, 52, 38],\n",
       "       [ 6, 89, 92, 65]])"
      ]
     },
     "execution_count": 39,
     "metadata": {},
     "output_type": "execute_result"
    }
   ],
   "source": [
    "# Count the rows and columns to match the start:points of exampel 4 section\n",
    "\n",
    "# Rows------------>  1:(3+1)  \n",
    "# Columns--------->  0:(3+1)  can be written as => :4\n",
    "\n",
    "array[1:4 , :4]"
   ]
  },
  {
   "cell_type": "code",
   "execution_count": null,
   "id": "selected-youth",
   "metadata": {},
   "outputs": [],
   "source": []
  },
  {
   "cell_type": "markdown",
   "id": "bottom-oxygen",
   "metadata": {},
   "source": [
    "**Example 4**\n",
    "```ruby\n",
    "array([[20, 94, 45, 37],\n",
    "       [52, 38, 81, 11],\n",
    "       [92, 65, 39, 19]])\n",
    "```"
   ]
  },
  {
   "cell_type": "code",
   "execution_count": 40,
   "id": "colored-salmon",
   "metadata": {},
   "outputs": [
    {
     "data": {
      "text/plain": [
       "array([[20, 94, 45, 37],\n",
       "       [52, 38, 81, 11],\n",
       "       [92, 65, 39, 19]])"
      ]
     },
     "execution_count": 40,
     "metadata": {},
     "output_type": "execute_result"
    }
   ],
   "source": [
    "# Count the rows and columns to match the start:points of exampel 4 section\n",
    "\n",
    "# Rows------------>  1:(3+1)  \n",
    "# Columns--------->  2:6  can be written as => 2:\n",
    "\n",
    "array[1:4 , 2:]"
   ]
  },
  {
   "cell_type": "markdown",
   "id": "equivalent-dublin",
   "metadata": {},
   "source": [
    "`Conclusion:` From  all of the above example in the slection (slicing) of an array  gives us the overall overview that we can access any section of the array with the help of the slicing in this syntex `array[start:end+1 , start:end+1]`. Since end point is not inclusive in the slicing."
   ]
  },
  {
   "cell_type": "markdown",
   "id": "norman-pursuit",
   "metadata": {},
   "source": [
    "***\n",
    "***"
   ]
  },
  {
   "cell_type": "markdown",
   "id": "rapid-assist",
   "metadata": {},
   "source": [
    "## Index arrays with other arrays\n",
    "NumPy arrays may be indexed with other arrays (or any other sequence- like object that can be converted to an array, such as lists, with the exception of tuples; see the end of this document for why this is). The use of index arrays ranges from simple, straightforward cases to complex, hard-to-understand cases. For all cases of index arrays, what is returned is a copy of the original data, not a view as one gets for slices.\n"
   ]
  },
  {
   "cell_type": "code",
   "execution_count": 48,
   "id": "dental-character",
   "metadata": {},
   "outputs": [
    {
     "name": "stdout",
     "output_type": "stream",
     "text": [
      "[[85 10 91 31 56 51]\n",
      " [21 30 20 94 45 37]\n",
      " [55 24 52 38 81 11]\n",
      " [ 6 89 92 65 39 19]\n",
      " [62 45 57 25 94 88]\n",
      " [84 62  9 26 57 47]]\n"
     ]
    }
   ],
   "source": [
    "# like we have and array which is showing below\n",
    "print(array)"
   ]
  },
  {
   "cell_type": "code",
   "execution_count": 49,
   "id": "female-amazon",
   "metadata": {},
   "outputs": [
    {
     "name": "stdout",
     "output_type": "stream",
     "text": [
      "[0 1 2 3 4 5]\n"
     ]
    }
   ],
   "source": [
    "# now we have another array \n",
    "seq = np.arange(6)\n",
    "print(seq)"
   ]
  },
  {
   "cell_type": "markdown",
   "id": "asian-milan",
   "metadata": {},
   "source": [
    "Now we will pass this array into the our old array on which we are working."
   ]
  },
  {
   "cell_type": "code",
   "execution_count": 50,
   "id": "decent-demand",
   "metadata": {},
   "outputs": [
    {
     "data": {
      "text/plain": [
       "array([[85, 10, 91, 31, 56, 51],\n",
       "       [21, 30, 20, 94, 45, 37],\n",
       "       [55, 24, 52, 38, 81, 11],\n",
       "       [ 6, 89, 92, 65, 39, 19],\n",
       "       [62, 45, 57, 25, 94, 88],\n",
       "       [84, 62,  9, 26, 57, 47]])"
      ]
     },
     "execution_count": 50,
     "metadata": {},
     "output_type": "execute_result"
    }
   ],
   "source": [
    "# poassing the seq into the array\n",
    "array[seq]"
   ]
  },
  {
   "cell_type": "markdown",
   "id": "outside-conservation",
   "metadata": {},
   "source": [
    "As you can see that we have got the same result but this is not the same as the simple call of `array` because this time we have selected the rows with the help of the another sequence which is like another array. you can see that our seq contains [0 1 2 3 4 5] which are the index numbers of the `array's` rows and by putting this seq into the array we select every row of the array.\n",
    "\n",
    "Now this time we will make a random array and we will use that to select the row of the array."
   ]
  },
  {
   "cell_type": "code",
   "execution_count": 57,
   "id": "alternative-fourth",
   "metadata": {},
   "outputs": [
    {
     "name": "stdout",
     "output_type": "stream",
     "text": [
      "[5 4 0 1 4 3]\n"
     ]
    }
   ],
   "source": [
    "# random array \n",
    "seq = randint(6, size=[6,])\n",
    "print(seq)"
   ]
  },
  {
   "cell_type": "code",
   "execution_count": 61,
   "id": "diverse-single",
   "metadata": {},
   "outputs": [
    {
     "name": "stdout",
     "output_type": "stream",
     "text": [
      "Original array: \n",
      " [[85 10 91 31 56 51]\n",
      " [21 30 20 94 45 37]\n",
      " [55 24 52 38 81 11]\n",
      " [ 6 89 92 65 39 19]\n",
      " [62 45 57 25 94 88]\n",
      " [84 62  9 26 57 47]]\n",
      "\n",
      "Selected array:\n",
      " [[84 62  9 26 57 47]\n",
      " [62 45 57 25 94 88]\n",
      " [85 10 91 31 56 51]\n",
      " [21 30 20 94 45 37]\n",
      " [62 45 57 25 94 88]\n",
      " [ 6 89 92 65 39 19]]\n"
     ]
    }
   ],
   "source": [
    "# selecting the random rows by using the random values which are inside a seq\n",
    "print(\"Original array: \\n\",array)\n",
    "print(\"\\nSelected array:\\n\",array[seq])"
   ]
  },
  {
   "cell_type": "markdown",
   "id": "abroad-oliver",
   "metadata": {},
   "source": [
    "As you can see that we this time also we have selected 6 row but these 6 rows are not in  order if you look carefully you can found that there is a difference b/e the `Original array` and the `Selected array`. In selected array we have choosen 4th number of index twice and these are placed at 1st and 4h number of index in selected array.\n",
    "\n",
    "`Conclusion:` Now we have understand that an array like sequence which contains some integer which are not greater than the index number of the array then these number is treated as the index number of the array. They also can be used  in slicing ."
   ]
  },
  {
   "cell_type": "markdown",
   "id": "requested-vertex",
   "metadata": {},
   "source": [
    "##### What if we have a sequence containing numbers greater than  index numbers?"
   ]
  },
  {
   "cell_type": "code",
   "execution_count": 62,
   "id": "satisfactory-beads",
   "metadata": {},
   "outputs": [
    {
     "name": "stdout",
     "output_type": "stream",
     "text": [
      "[0 1 2 3 4 5 6 7]\n"
     ]
    }
   ],
   "source": [
    "seq = np.arange(8)\n",
    "print(seq)"
   ]
  },
  {
   "cell_type": "markdown",
   "id": "simplified-blowing",
   "metadata": {},
   "source": [
    "We have a seq which contains the nmbers which are greater than then index of our curent array.\n",
    "\n",
    "Our current array is :\n"
   ]
  },
  {
   "cell_type": "code",
   "execution_count": 63,
   "id": "copyrighted-northeast",
   "metadata": {},
   "outputs": [
    {
     "data": {
      "text/plain": [
       "array([[85, 10, 91, 31, 56, 51],\n",
       "       [21, 30, 20, 94, 45, 37],\n",
       "       [55, 24, 52, 38, 81, 11],\n",
       "       [ 6, 89, 92, 65, 39, 19],\n",
       "       [62, 45, 57, 25, 94, 88],\n",
       "       [84, 62,  9, 26, 57, 47]])"
      ]
     },
     "execution_count": 63,
     "metadata": {},
     "output_type": "execute_result"
    }
   ],
   "source": [
    "array"
   ]
  },
  {
   "cell_type": "code",
   "execution_count": 64,
   "id": "ranging-seeker",
   "metadata": {},
   "outputs": [
    {
     "ename": "IndexError",
     "evalue": "index 6 is out of bounds for axis 0 with size 6",
     "output_type": "error",
     "traceback": [
      "\u001b[1;31m---------------------------------------------------------------------------\u001b[0m",
      "\u001b[1;31mIndexError\u001b[0m                                Traceback (most recent call last)",
      "\u001b[1;32m<ipython-input-64-ea77e853344c>\u001b[0m in \u001b[0;36m<module>\u001b[1;34m\u001b[0m\n\u001b[0;32m      1\u001b[0m \u001b[1;31m# passing the sequenct into the array:\u001b[0m\u001b[1;33m\u001b[0m\u001b[1;33m\u001b[0m\u001b[1;33m\u001b[0m\u001b[0m\n\u001b[1;32m----> 2\u001b[1;33m \u001b[0marray\u001b[0m\u001b[1;33m[\u001b[0m\u001b[0mseq\u001b[0m\u001b[1;33m]\u001b[0m\u001b[1;33m\u001b[0m\u001b[1;33m\u001b[0m\u001b[0m\n\u001b[0m",
      "\u001b[1;31mIndexError\u001b[0m: index 6 is out of bounds for axis 0 with size 6"
     ]
    }
   ],
   "source": [
    "# passing the sequenct into the array:\n",
    "array[seq]"
   ]
  },
  {
   "cell_type": "markdown",
   "id": "assumed-queensland",
   "metadata": {},
   "source": [
    "As you can see that we have got `IndexError` as we thought because it contains some vaues whcih are greater then the index or they do not meet to he index range. "
   ]
  },
  {
   "cell_type": "markdown",
   "id": "presidential-trademark",
   "metadata": {},
   "source": [
    "### Slicing with sequence\n",
    "\n",
    "Since a sequence contains some interger which meets to the index range of the array then they can be used to slice the array:"
   ]
  },
  {
   "cell_type": "code",
   "execution_count": 66,
   "id": "labeled-sherman",
   "metadata": {},
   "outputs": [
    {
     "name": "stdout",
     "output_type": "stream",
     "text": [
      "[1 1 5] [3 4 3]\n"
     ]
    }
   ],
   "source": [
    "# Now we will use two random seq\n",
    "seq1   = randint(6, size=[3])\n",
    "seq2   = randint(6, size=[3])\n",
    "\n",
    "print(seq1 , seq2)"
   ]
  },
  {
   "cell_type": "markdown",
   "id": "single-wheel",
   "metadata": {},
   "source": [
    "Now we have two sequece which are random and also in the range of the index of the current array:"
   ]
  },
  {
   "cell_type": "code",
   "execution_count": 67,
   "id": "roman-quest",
   "metadata": {},
   "outputs": [
    {
     "data": {
      "text/plain": [
       "array([[85, 10, 91, 31, 56, 51],\n",
       "       [21, 30, 20, 94, 45, 37],\n",
       "       [55, 24, 52, 38, 81, 11],\n",
       "       [ 6, 89, 92, 65, 39, 19],\n",
       "       [62, 45, 57, 25, 94, 88],\n",
       "       [84, 62,  9, 26, 57, 47]])"
      ]
     },
     "execution_count": 67,
     "metadata": {},
     "output_type": "execute_result"
    }
   ],
   "source": [
    "# printing the current array again\n",
    "array"
   ]
  },
  {
   "cell_type": "markdown",
   "id": "palestinian-mediterranean",
   "metadata": {},
   "source": [
    "***Example 1***"
   ]
  },
  {
   "cell_type": "code",
   "execution_count": 68,
   "id": "bigger-library",
   "metadata": {},
   "outputs": [
    {
     "ename": "TypeError",
     "evalue": "only integer scalar arrays can be converted to a scalar index",
     "output_type": "error",
     "traceback": [
      "\u001b[1;31m---------------------------------------------------------------------------\u001b[0m",
      "\u001b[1;31mTypeError\u001b[0m                                 Traceback (most recent call last)",
      "\u001b[1;32m<ipython-input-68-9b0ee02299be>\u001b[0m in \u001b[0;36m<module>\u001b[1;34m\u001b[0m\n\u001b[1;32m----> 1\u001b[1;33m \u001b[0marray\u001b[0m\u001b[1;33m[\u001b[0m\u001b[0mseq1\u001b[0m\u001b[1;33m:\u001b[0m\u001b[0mseq2\u001b[0m\u001b[1;33m]\u001b[0m\u001b[1;33m\u001b[0m\u001b[1;33m\u001b[0m\u001b[0m\n\u001b[0m",
      "\u001b[1;31mTypeError\u001b[0m: only integer scalar arrays can be converted to a scalar index"
     ]
    }
   ],
   "source": [
    "array[seq1:seq2]"
   ]
  },
  {
   "cell_type": "markdown",
   "id": "invalid-delivery",
   "metadata": {},
   "source": [
    "***Example 2***"
   ]
  },
  {
   "cell_type": "code",
   "execution_count": 69,
   "id": "personal-screw",
   "metadata": {},
   "outputs": [
    {
     "ename": "TypeError",
     "evalue": "only integer scalar arrays can be converted to a scalar index",
     "output_type": "error",
     "traceback": [
      "\u001b[1;31m---------------------------------------------------------------------------\u001b[0m",
      "\u001b[1;31mTypeError\u001b[0m                                 Traceback (most recent call last)",
      "\u001b[1;32m<ipython-input-69-2d429600d0e4>\u001b[0m in \u001b[0;36m<module>\u001b[1;34m\u001b[0m\n\u001b[1;32m----> 1\u001b[1;33m \u001b[0marray\u001b[0m\u001b[1;33m[\u001b[0m\u001b[0mseq1\u001b[0m\u001b[1;33m:\u001b[0m\u001b[1;33m]\u001b[0m\u001b[1;33m\u001b[0m\u001b[1;33m\u001b[0m\u001b[0m\n\u001b[0m",
      "\u001b[1;31mTypeError\u001b[0m: only integer scalar arrays can be converted to a scalar index"
     ]
    }
   ],
   "source": [
    "array[seq1:]"
   ]
  },
  {
   "cell_type": "markdown",
   "id": "stone-mathematics",
   "metadata": {},
   "source": [
    "***Example 3***"
   ]
  },
  {
   "cell_type": "code",
   "execution_count": 70,
   "id": "heated-longitude",
   "metadata": {},
   "outputs": [
    {
     "data": {
      "text/plain": [
       "array([[30, 20],\n",
       "       [30, 20],\n",
       "       [62,  9]])"
      ]
     },
     "execution_count": 70,
     "metadata": {},
     "output_type": "execute_result"
    }
   ],
   "source": [
    "array[seq1, 1:3]"
   ]
  },
  {
   "cell_type": "markdown",
   "id": "digital-bridges",
   "metadata": {},
   "source": [
    "***Example 4***"
   ]
  },
  {
   "cell_type": "code",
   "execution_count": 71,
   "id": "forbidden-stick",
   "metadata": {},
   "outputs": [
    {
     "data": {
      "text/plain": [
       "array([[94, 45, 94],\n",
       "       [38, 81, 38]])"
      ]
     },
     "execution_count": 71,
     "metadata": {},
     "output_type": "execute_result"
    }
   ],
   "source": [
    "array[1:3, seq2]"
   ]
  },
  {
   "cell_type": "markdown",
   "id": "noticed-exception",
   "metadata": {},
   "source": [
    "From the example 1,2 we have seen that we cant do the slicing by using the seq1:seq2 becaues because for slicing we need only single integer value not a sequence of the integer.\n",
    "\n",
    "From the example 2,3 we have seen that we can use the slicing and seq combination but they must be used in the seperate dimension like in above example we have used slicing in row and index array used in column or vise -versa."
   ]
  },
  {
   "cell_type": "markdown",
   "id": "chicken-payment",
   "metadata": {},
   "source": [
    "### Indexing wiht multi-dimensional arrays.\n",
    "\n",
    "Multi-dimesional array are not used often but they are permitted in the array indexing. Multi-dimensional index arrays are complex to use but they are very usefull for some problems.\n",
    "\n",
    "The shape of the output array after using the 'multi-dimensional index array'  will be equal to the shape of the index array if their values are in the range of the index of  the array.\n",
    "\n",
    "For this section also we will use the old array which are being used in the above sections and also we have two sequence seq1 and seq2."
   ]
  },
  {
   "cell_type": "code",
   "execution_count": 72,
   "id": "mysterious-ecuador",
   "metadata": {},
   "outputs": [
    {
     "data": {
      "text/plain": [
       "array([[85, 10, 91, 31, 56, 51],\n",
       "       [21, 30, 20, 94, 45, 37],\n",
       "       [55, 24, 52, 38, 81, 11],\n",
       "       [ 6, 89, 92, 65, 39, 19],\n",
       "       [62, 45, 57, 25, 94, 88],\n",
       "       [84, 62,  9, 26, 57, 47]])"
      ]
     },
     "execution_count": 72,
     "metadata": {},
     "output_type": "execute_result"
    }
   ],
   "source": [
    "# printing the array\n",
    "array"
   ]
  },
  {
   "cell_type": "code",
   "execution_count": 73,
   "id": "collective-relationship",
   "metadata": {},
   "outputs": [
    {
     "name": "stdout",
     "output_type": "stream",
     "text": [
      "[1 1 5]\n",
      "[3 4 3]\n"
     ]
    }
   ],
   "source": [
    "# printing the sequences\n",
    "\n",
    "print(seq1)\n",
    "print(seq2)"
   ]
  },
  {
   "cell_type": "code",
   "execution_count": 74,
   "id": "capable-restriction",
   "metadata": {},
   "outputs": [
    {
     "data": {
      "text/plain": [
       "array([94, 45, 26])"
      ]
     },
     "execution_count": 74,
     "metadata": {},
     "output_type": "execute_result"
    }
   ],
   "source": [
    "# using the multi dimensional array\n",
    "array[seq1, seq2] # length of the seq1 == seq2"
   ]
  },
  {
   "cell_type": "markdown",
   "id": "boxed-robinson",
   "metadata": {},
   "source": [
    "**What if the length of the seq1 and the seq2 are diffenrent**"
   ]
  },
  {
   "cell_type": "code",
   "execution_count": 79,
   "id": "lyric-participation",
   "metadata": {},
   "outputs": [
    {
     "name": "stdout",
     "output_type": "stream",
     "text": [
      "[0 2 0 5 2]\n",
      "[0 5 0 2]\n"
     ]
    }
   ],
   "source": [
    "# making two array with diffennt length\n",
    "seq1 = randint(6, size=(5,))\n",
    "seq2 = randint(6, size=(4,))\n",
    "\n",
    "# now we have two sequence of different size\n",
    "print(seq1)\n",
    "print(seq2)"
   ]
  },
  {
   "cell_type": "code",
   "execution_count": 80,
   "id": "median-journey",
   "metadata": {},
   "outputs": [
    {
     "ename": "IndexError",
     "evalue": "shape mismatch: indexing arrays could not be broadcast together with shapes (5,) (4,) ",
     "output_type": "error",
     "traceback": [
      "\u001b[1;31m---------------------------------------------------------------------------\u001b[0m",
      "\u001b[1;31mIndexError\u001b[0m                                Traceback (most recent call last)",
      "\u001b[1;32m<ipython-input-80-db13487ec7c7>\u001b[0m in \u001b[0;36m<module>\u001b[1;34m\u001b[0m\n\u001b[0;32m      1\u001b[0m \u001b[1;31m# using the tow sequence have different length\u001b[0m\u001b[1;33m\u001b[0m\u001b[1;33m\u001b[0m\u001b[1;33m\u001b[0m\u001b[0m\n\u001b[0;32m      2\u001b[0m \u001b[1;33m\u001b[0m\u001b[0m\n\u001b[1;32m----> 3\u001b[1;33m \u001b[0marray\u001b[0m\u001b[1;33m[\u001b[0m\u001b[0mseq1\u001b[0m \u001b[1;33m,\u001b[0m \u001b[0mseq2\u001b[0m\u001b[1;33m]\u001b[0m\u001b[1;33m\u001b[0m\u001b[1;33m\u001b[0m\u001b[0m\n\u001b[0m",
      "\u001b[1;31mIndexError\u001b[0m: shape mismatch: indexing arrays could not be broadcast together with shapes (5,) (4,) "
     ]
    }
   ],
   "source": [
    "# using the tow sequence have different length\n",
    "\n",
    "array[seq1 , seq2]"
   ]
  },
  {
   "cell_type": "markdown",
   "id": "vital-decimal",
   "metadata": {},
   "source": [
    "See, we cannot do indexing with multi-dimensioanl array which are having the different length. This will gives us a IndexError."
   ]
  },
  {
   "cell_type": "markdown",
   "id": "lonely-malta",
   "metadata": {},
   "source": [
    "***\n",
    "***\n",
    "`Conclusion:`\n",
    "Indexing an array with other arrays or array like sequence:\n",
    "* It must be iterable object.\n",
    "* It must not contains the value which is out of index number.\n",
    "* It must contains only interger\n",
    "* The length of the array like sequence can have values in N-dimensions  \n",
    "* Slicing like seq1:seq2 are not permettied in a single dimension\n",
    "* Slicing and index array combination are permitted.\n",
    "* Multi dimensional index array are also permitted to make a new array by using the elements of the array.\n",
    "* Multi dimensional index array of diffenent length are not permitted."
   ]
  },
  {
   "cell_type": "code",
   "execution_count": null,
   "id": "historical-mainstream",
   "metadata": {},
   "outputs": [],
   "source": []
  }
 ],
 "metadata": {
  "kernelspec": {
   "display_name": "Python 3",
   "language": "python",
   "name": "python3"
  },
  "language_info": {
   "codemirror_mode": {
    "name": "ipython",
    "version": 3
   },
   "file_extension": ".py",
   "mimetype": "text/x-python",
   "name": "python",
   "nbconvert_exporter": "python",
   "pygments_lexer": "ipython3",
   "version": "3.8.3"
  }
 },
 "nbformat": 4,
 "nbformat_minor": 5
}
