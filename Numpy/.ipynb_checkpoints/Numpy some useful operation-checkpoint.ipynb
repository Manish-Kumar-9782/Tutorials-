{
 "cells": [
  {
   "cell_type": "markdown",
   "id": "banned-moment",
   "metadata": {},
   "source": [
    "# Introduction"
   ]
  },
  {
   "cell_type": "markdown",
   "id": "random-headset",
   "metadata": {},
   "source": [
    "There are 5 general mechanisms for creating arrays:\n",
    "\n",
    "1. Conversion from other Python structures (e.g., lists, tuples)\n",
    "2. Intrinsic numpy array creation objects (e.g., arange, ones, zeros, etc.)\n",
    "3. Reading arrays from disk, either from standard or custom formats\n",
    "4. Creating arrays from raw bytes through the use of strings or buffers\n",
    "5. Use of special library functions (e.g., random)\n",
    "\n",
    "This section will not cover means of replicating, joining, or otherwise expanding or mutating existing arrays. Nor will it cover creating object arrays or structured arrays. Both of those are covered in their own sections."
   ]
  },
  {
   "cell_type": "markdown",
   "id": "ahead-cleveland",
   "metadata": {},
   "source": [
    "# Numpy Data Science basic operations."
   ]
  },
  {
   "cell_type": "markdown",
   "id": "continued-stick",
   "metadata": {},
   "source": [
    "In this tutorial we will perform some of the basic operation of the numpy array such as..\n",
    "\n",
    "* Creating array\n",
    "* Getting the array size\n",
    "* accessing the array elements \n",
    "* slicing the array"
   ]
  },
  {
   "cell_type": "markdown",
   "id": "amended-gather",
   "metadata": {},
   "source": [
    "# 1. Creating an array \n",
    "In this section we will see the creation of the array and what are the ways to create the array using the numpy mdule. first of all we will see the `numpy.array()` module which can be used to create an nd-array.\n",
    "\n",
    "```ruby\n",
    "numpy.array(object, dtype=None, *, copy=True, order='K', subok=False, ndmin=0, like=None)\n",
    "```\n",
    "For documentation see the below like.\n",
    "\n",
    "<a href=\"https://numpy.org/doc/stable/reference/generated/numpy.array.html?highlight=numpy%20array#numpy.array\">numpy.array()</a>"
   ]
  },
  {
   "cell_type": "code",
   "execution_count": null,
   "id": "bright-hammer",
   "metadata": {},
   "outputs": [],
   "source": []
  }
 ],
 "metadata": {
  "kernelspec": {
   "display_name": "Python 3",
   "language": "python",
   "name": "python3"
  },
  "language_info": {
   "codemirror_mode": {
    "name": "ipython",
    "version": 3
   },
   "file_extension": ".py",
   "mimetype": "text/x-python",
   "name": "python",
   "nbconvert_exporter": "python",
   "pygments_lexer": "ipython3",
   "version": "3.8.3"
  }
 },
 "nbformat": 4,
 "nbformat_minor": 5
}
