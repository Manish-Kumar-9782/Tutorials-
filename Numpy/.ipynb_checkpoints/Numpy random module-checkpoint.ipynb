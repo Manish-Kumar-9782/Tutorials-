{
 "cells": [
  {
   "cell_type": "markdown",
   "id": "subsequent-beauty",
   "metadata": {},
   "source": [
    "## First of all import the numpy module"
   ]
  },
  {
   "cell_type": "code",
   "execution_count": 1,
   "id": "known-grocery",
   "metadata": {},
   "outputs": [],
   "source": [
    "import numpy as np"
   ]
  },
  {
   "cell_type": "markdown",
   "id": "higher-history",
   "metadata": {},
   "source": [
    "# numpy.random() Module\n",
    "\n",
    "In this section we will work on the numpy.random module and its implimantation in the data science\n",
    "\n",
    "Most common funcion of the random modules are.\n",
    "\n",
    "* numpy.random.random()\n",
    "* numpy.random.rand()\n",
    "* numpy.random.randn()\n",
    "* numpy.random.randint()\n",
    "* numpy.random.random_sample()\n",
    "* numpy.random.random_integers()\n",
    "* numpy.random.choice()"
   ]
  },
  {
   "cell_type": "markdown",
   "id": "atmospheric-finland",
   "metadata": {},
   "source": [
    "### 1. numpy.random.random()\n",
    "```ruby\n",
    "random(size=None)\n",
    "```\n",
    "Return random floats in the half-open interval [0.0, 1.0). Alias for\n",
    "`random_sample` to ease forward-porting to the new random API.\n",
    "\n",
    "\n",
    "* First of all we will see that how random works. Since random only takes one argument and that argument is the size of the array.\n"
   ]
  },
  {
   "cell_type": "code",
   "execution_count": 5,
   "id": "experimental-circus",
   "metadata": {},
   "outputs": [
    {
     "data": {
      "text/plain": [
       "array([[0.72952913, 0.42908422],\n",
       "       [0.47079735, 0.243812  ],\n",
       "       [0.393077  , 0.99590081],\n",
       "       [0.32099304, 0.97212375]])"
      ]
     },
     "execution_count": 5,
     "metadata": {},
     "output_type": "execute_result"
    }
   ],
   "source": [
    "# 1. random function of the random class in numpy.\n",
    "\n",
    "np.random.random((4,2))"
   ]
  },
  {
   "cell_type": "markdown",
   "id": "amended-mortgage",
   "metadata": {},
   "source": [
    "Random function of the random class does not have any other argument so we are done with the `np.random.random()` function.\n",
    "***"
   ]
  },
  {
   "cell_type": "markdown",
   "id": "forced-ethiopia",
   "metadata": {},
   "source": [
    "## 2. numpy.random.rand()\n",
    "```ruby\n",
    "rand(d0, d1, ..., dn)\n",
    "```\n",
    "Random values in a given shape.\n",
    "\n",
    "This function takes the n parameters as shape of the output or desired result in which all the argument are the shape values. The output will be according to the given shape.\n",
    "\n",
    "**creating an array having a shape of (3,2,1)**"
   ]
  },
  {
   "cell_type": "code",
   "execution_count": 7,
   "id": "crazy-discretion",
   "metadata": {},
   "outputs": [
    {
     "data": {
      "text/plain": [
       "array([[[0.55684481],\n",
       "        [0.49152949]],\n",
       "\n",
       "       [[0.63178713],\n",
       "        [0.16742483]],\n",
       "\n",
       "       [[0.03846722],\n",
       "        [0.68848692]]])"
      ]
     },
     "execution_count": 7,
     "metadata": {},
     "output_type": "execute_result"
    }
   ],
   "source": [
    "# 2. rand function in the random class.\n",
    "\n",
    "np.random.rand(3,2,1)"
   ]
  },
  {
   "cell_type": "markdown",
   "id": "curious-payday",
   "metadata": {},
   "source": [
    "**creating an array having a shape of (5,4,3,2)** "
   ]
  },
  {
   "cell_type": "code",
   "execution_count": 11,
   "id": "least-sentence",
   "metadata": {
    "tags": []
   },
   "outputs": [
    {
     "name": "stdout",
     "output_type": "stream",
     "text": [
      "[[[[0.63890261 0.07504637]\n",
      "   [0.66434503 0.05465705]\n",
      "   [0.38981777 0.54450993]]\n",
      "\n",
      "  [[0.94618289 0.97252164]\n",
      "   [0.93946935 0.90217431]\n",
      "   [0.76110369 0.24627802]]\n",
      "\n",
      "  [[0.85494758 0.76054344]\n",
      "   [0.05901945 0.3087478 ]\n",
      "   [0.9367858  0.02845257]]\n",
      "\n",
      "  [[0.35563543 0.88613542]\n",
      "   [0.46544782 0.96180228]\n",
      "   [0.51596369 0.18883559]]]\n",
      "\n",
      "\n",
      " [[[0.93917668 0.3252935 ]\n",
      "   [0.67805158 0.51468751]\n",
      "   [0.02201133 0.88526434]]\n",
      "\n",
      "  [[0.63140171 0.82079545]\n",
      "   [0.03346929 0.51380735]\n",
      "   [0.42626078 0.66365645]]\n",
      "\n",
      "  [[0.75064095 0.33721963]\n",
      "   [0.75514139 0.47260839]\n",
      "   [0.98114615 0.33688789]]\n",
      "\n",
      "  [[0.20953854 0.62241718]\n",
      "   [0.13714061 0.63788332]\n",
      "   [0.56770895 0.07137547]]]\n",
      "\n",
      "\n",
      " [[[0.05329385 0.81839523]\n",
      "   [0.15171122 0.77114964]\n",
      "   [0.63359429 0.590501  ]]\n",
      "\n",
      "  [[0.51534257 0.89221415]\n",
      "   [0.34459237 0.56245487]\n",
      "   [0.88104408 0.97649887]]\n",
      "\n",
      "  [[0.37489805 0.2032884 ]\n",
      "   [0.81492133 0.5542299 ]\n",
      "   [0.86175628 0.61191274]]\n",
      "\n",
      "  [[0.93076259 0.32200435]\n",
      "   [0.86417596 0.73668626]\n",
      "   [0.59513072 0.9522764 ]]]\n",
      "\n",
      "\n",
      " [[[0.83570083 0.36575322]\n",
      "   [0.26141333 0.0097623 ]\n",
      "   [0.11458642 0.11653147]]\n",
      "\n",
      "  [[0.04367822 0.33149155]\n",
      "   [0.4444495  0.37572505]\n",
      "   [0.74338026 0.06446666]]\n",
      "\n",
      "  [[0.41548224 0.69796438]\n",
      "   [0.31339087 0.16429022]\n",
      "   [0.46414188 0.50853052]]\n",
      "\n",
      "  [[0.12073945 0.11004659]\n",
      "   [0.5585257  0.58034924]\n",
      "   [0.77514676 0.22457034]]]\n",
      "\n",
      "\n",
      " [[[0.38809826 0.03320359]\n",
      "   [0.11373988 0.25141652]\n",
      "   [0.88658115 0.89274964]]\n",
      "\n",
      "  [[0.82390149 0.83560137]\n",
      "   [0.10076697 0.11909316]\n",
      "   [0.26952441 0.7817108 ]]\n",
      "\n",
      "  [[0.08036201 0.27619726]\n",
      "   [0.45665282 0.70701381]\n",
      "   [0.8471156  0.40808698]]\n",
      "\n",
      "  [[0.32963284 0.46155669]\n",
      "   [0.34040015 0.76740204]\n",
      "   [0.11950906 0.01165343]]]]\n"
     ]
    }
   ],
   "source": [
    "# shape = (5,4,3,2)\n",
    "\n",
    "rand_array = np.random.rand(5,4,3,2)\n",
    "print(rand_array)"
   ]
  },
  {
   "cell_type": "markdown",
   "id": "parliamentary-diabetes",
   "metadata": {
    "tags": []
   },
   "source": [
    "As you can see that our result is very long and very large, so we can see that our `np.random.rand()` function does not takes  any other parameters other than shape of the desired array. \n",
    "\n",
    "if you want to check the shape and dimension of the array then we can do it with the help of the ndarray property attributes."
   ]
  },
  {
   "cell_type": "code",
   "execution_count": 12,
   "id": "spatial-duplicate",
   "metadata": {},
   "outputs": [
    {
     "name": "stdout",
     "output_type": "stream",
     "text": [
      "Shape of the above rand array:  (5, 4, 3, 2)\n",
      "Dimension of the above rand array:  4\n"
     ]
    }
   ],
   "source": [
    "# to check the shape we use ndarray.shape\n",
    "print(\"Shape of the above rand array: \",rand_array.shape)\n",
    "\n",
    "# to check the dimension we need to use ndarray.ndim\n",
    "print(\"Dimension of the above rand array: \",rand_array.ndim)"
   ]
  },
  {
   "cell_type": "markdown",
   "id": "varying-house",
   "metadata": {},
   "source": [
    "As we given we have got our result now we should move on to the `randn` function. "
   ]
  },
  {
   "cell_type": "markdown",
   "id": "essential-coordinator",
   "metadata": {},
   "source": [
    "## 3. numpy.random.randn()\n",
    "```ruby\n",
    "numpy.random.randn(d0, d1, ..., dn)\n",
    "```\n",
    "Return a sample (or samples) from the \"standard normal\" distribution.\n",
    "\n",
    "This function generates N-dimensional array which contains both negative and positive values. This method use the gaussion distribution method to generate the uniform random numbers."
   ]
  },
  {
   "cell_type": "code",
   "execution_count": 14,
   "id": "interior-framework",
   "metadata": {},
   "outputs": [
    {
     "data": {
      "text/plain": [
       "array([[[ 0.68007514, -0.08385047],\n",
       "        [ 1.57425745,  1.06391927],\n",
       "        [-0.57639136, -0.8983189 ]],\n",
       "\n",
       "       [[-2.16935359,  2.4493302 ],\n",
       "        [ 1.62496659, -0.46989534],\n",
       "        [ 0.63610703, -0.64561476]],\n",
       "\n",
       "       [[ 0.93314148,  0.37388158],\n",
       "        [ 0.44468941,  0.36993568],\n",
       "        [ 0.10303313, -0.80758421]],\n",
       "\n",
       "       [[-2.20014653, -0.64536125],\n",
       "        [-0.69997252, -1.66649297],\n",
       "        [-1.31251828,  0.48167002]]])"
      ]
     },
     "execution_count": 14,
     "metadata": {},
     "output_type": "execute_result"
    }
   ],
   "source": [
    "np.random.randn(4,3,2)"
   ]
  },
  {
   "cell_type": "markdown",
   "id": "opponent-ebony",
   "metadata": {},
   "source": [
    "***"
   ]
  },
  {
   "cell_type": "markdown",
   "id": "becoming-nebraska",
   "metadata": {},
   "source": [
    "## numpy.random.randint()\n",
    "```ruby\n",
    "randint(low, high=None, size=None, dtype=int)\n",
    "```\n",
    "Return random integers from `low` (inclusive) to `high` (exclusive).\n",
    "\n",
    "Return random integers from the \"discrete uniform\" distribution of the specified dtype in the \"half-open\" interval [`low`, `high`). If `high` is None (the default), then results are from [0, `low`).\n",
    "\n",
    "This function contains 4 arguments in which:\n",
    "\n",
    "`low:` low is the lower range in which the random numbers are going to generate.(*inclusive*)\n",
    "\n",
    "`high:` High is the upper range in which the random numbers are going to be generates.(*exclusive*)\n",
    "\n",
    "`size:` size is shape of the desired array.\n",
    "\n",
    "`dtype:` dtype is the data type of the array items."
   ]
  },
  {
   "cell_type": "code",
   "execution_count": 21,
   "id": "passive-arlington",
   "metadata": {},
   "outputs": [
    {
     "name": "stdout",
     "output_type": "stream",
     "text": [
      "[[42  2 51 11 17]\n",
      " [90 16 91 51 21]\n",
      " [33 27 93 41  5]]\n"
     ]
    }
   ],
   "source": [
    "# making the random numbers in b/w (1,100)\n",
    "# dtype = int\n",
    "randint_array = np.random.randint(1,100, (3,5))\n",
    "print(randint_array)"
   ]
  },
  {
   "cell_type": "markdown",
   "id": "duplicate-wayne",
   "metadata": {},
   "source": [
    "We can see that we have created an array which  is having iterm in b/w a particular range defined by the low and high parameters. The dtype of the array is int by default but we will ensure that it is really int on something else.\n",
    "\n",
    "Now we will check some peoperties like shape, size, itemisze, dtype etc."
   ]
  },
  {
   "cell_type": "code",
   "execution_count": 20,
   "id": "directed-mercy",
   "metadata": {},
   "outputs": [
    {
     "name": "stdout",
     "output_type": "stream",
     "text": [
      "Shape of the array: (3, 5)\n",
      "Size of the array: 15\n",
      "Itemsize of the array: 4\n",
      "Dtype of the array: int32\n"
     ]
    }
   ],
   "source": [
    "# checking the shape of the array\n",
    "print(\"Shape of the array:\", randint_array.shape)\n",
    "\n",
    "# checking the size of the array\n",
    "print(\"Size of the array:\",randint_array.size)\n",
    "\n",
    "# checking the itemsize of the array\n",
    "print(\"Itemsize of the array:\",randint_array.itemsize)\n",
    "\n",
    "# checking the dtype of the array.\n",
    "print(\"Dtype of the array:\",randint_array.dtype)"
   ]
  },
  {
   "cell_type": "markdown",
   "id": "suspected-arrival",
   "metadata": {},
   "source": [
    "  "
   ]
  },
  {
   "cell_type": "markdown",
   "id": "creative-toilet",
   "metadata": {},
   "source": [
    "As you can see that we have created an array and checked it again, and found that array is created as we thought and we have confirmed by using the some of the array properties like shape, size , itemsize and dtype of the array.\n",
    "\n",
    "***"
   ]
  },
  {
   "cell_type": "markdown",
   "id": "enclosed-circular",
   "metadata": {},
   "source": [
    "## numpy.random.sampel()\n",
    "\n",
    "This is an alias of `random_sample`."
   ]
  },
  {
   "cell_type": "code",
   "execution_count": 22,
   "id": "beautiful-southwest",
   "metadata": {},
   "outputs": [],
   "source": [
    "#np.random.sample()"
   ]
  },
  {
   "cell_type": "markdown",
   "id": "global-chocolate",
   "metadata": {},
   "source": [
    "## numpy.random.random_sample()\n",
    "```ruby\n",
    "random_sample(size=None)\n",
    "```\n",
    "Return random floats in the half-open interval [0.0, 1.0).\n",
    "\n",
    "Results are from the \"continuous uniform\" distribution over the\n",
    "stated interval.  To sample :math:`Unif[a, b), b > a` multiply\n",
    "the output of `random_sample` by `(b-a)` and add `a`::\n",
    "\n",
    " ` (b - a) * random_sample() + a`\n",
    " \n",
    " Here:\n",
    " \n",
    " `a:` it is the *lower* value which is *inclusive* in the range of random generator\n",
    " \n",
    " `b:` It is the *upper* value which is *exclusive* in the range of the random generator.\n",
    " \n",
    " This random_sample function also takes an argument which is the size (shape) of the array (output array).\n",
    " \n",
    " **1. random_sample without any size**"
   ]
  },
  {
   "cell_type": "code",
   "execution_count": 23,
   "id": "suited-fault",
   "metadata": {},
   "outputs": [
    {
     "name": "stdout",
     "output_type": "stream",
     "text": [
      "0.06040143374463225\n"
     ]
    }
   ],
   "source": [
    "# since we are generating an array without passing any size then.\n",
    "\n",
    "rsample = np.random.random_sample()\n",
    "print(rsample) # this will generate a float dtype array."
   ]
  },
  {
   "cell_type": "markdown",
   "id": "laughing-trademark",
   "metadata": {},
   "source": [
    "As we can see that it when we do not pass any size then this generates a single random value which is float in dtype, this function do not give us any argument or functionality to change the dtype of generating values it will be always float in dtype.\n",
    "\n",
    "**2. random_sample with a size**"
   ]
  },
  {
   "cell_type": "code",
   "execution_count": 24,
   "id": "imported-robinson",
   "metadata": {},
   "outputs": [
    {
     "name": "stdout",
     "output_type": "stream",
     "text": [
      "[[0.70946128 0.15879374 0.27626707 0.33284567]\n",
      " [0.25413469 0.39854497 0.02079602 0.85118969]\n",
      " [0.01793492 0.05300143 0.30826969 0.88573902]]\n"
     ]
    }
   ],
   "source": [
    "# This time we will pass an shape of the array.\n",
    "\n",
    "rsample = np.random.random_sample(size=(3,4))\n",
    "print(rsample)"
   ]
  },
  {
   "cell_type": "markdown",
   "id": "photographic-batch",
   "metadata": {},
   "source": [
    "Now we can see that this generates an array with a given shape and the dtype of the items are also float in nature. but this array is random there is no range of the output values.\n",
    "\n",
    "What if we want to generates some random values in a particular range, then we will follow the method `(b-a)*random_sample()+a` to generate the random numbers in the range[a,b). in which a is inclusive and the b is exclusive.\n",
    "\n",
    "**3. random_sample in a given range**"
   ]
  },
  {
   "cell_type": "code",
   "execution_count": 31,
   "id": "aquatic-marker",
   "metadata": {},
   "outputs": [
    {
     "name": "stdout",
     "output_type": "stream",
     "text": [
      "random sample without range :\n",
      " [[0.21133031 0.21247784 0.17399014 0.7028964 ]\n",
      " [0.84585352 0.06970864 0.52219589 0.59743636]\n",
      " [0.18351814 0.14212707 0.927996   0.44974801]]\n",
      "\n",
      "\n",
      "random sample with a range:\n",
      " [[-3.72929418  1.24295917  1.8040077   4.37740952]\n",
      " [-2.19979613 -2.04008613 -3.90458452  2.72976718]\n",
      " [ 2.76194438  2.31641551 -1.16567728 -0.31111729]]\n"
     ]
    }
   ],
   "source": [
    "# Now we wil generates some numuber in the given range.\n",
    "\n",
    "rsample = np.random.random_sample(size=(3,4)) # we are using the same size as the previous one so we con compare the result.\n",
    "print(\"random sample without range :\\n\",rsample)\n",
    "\n",
    "b,a = 5,-5  # this will generates the numbers in b/w [-5,10) \n",
    "rsample = (b-a)* np.random.random_sample(size=(3,4)) + a\n",
    "print(\"\\n\\nrandom sample with a range:\\n\",rsample)\n"
   ]
  },
  {
   "cell_type": "code",
   "execution_count": 34,
   "id": "better-disco",
   "metadata": {},
   "outputs": [
    {
     "name": "stdout",
     "output_type": "stream",
     "text": [
      "[ 1.54611098  2.11429992 -4.93073963 -0.70835665  4.18323288 -1.36067667\n",
      " -4.60723531  2.15059125  0.93310887 -1.47010793]\n"
     ]
    }
   ],
   "source": [
    "# another example with an vector \n",
    "b,a = 5,-5\n",
    "rsample = (b-a) * np.random.random_sample(size=(10,)) + a\n",
    "# this will generates the 1d array or a vector in a range of [-5,5) \n",
    "\n",
    "print(rsample)"
   ]
  },
  {
   "cell_type": "markdown",
   "id": "floating-moscow",
   "metadata": {},
   "source": [
    "To understand the range concept we wil make another array in another range.\n",
    "\n",
    "Target range:------> [5,0)\n",
    "\n",
    "it means that our a = 5 and b = 0\n",
    "\n",
    "now according to the the formula to create the range function is that we need to multiply `(b-a)` with  `rndom_sample()` and need to add `a`. by doing  this it will generate the random number in the Target range.\n",
    "\n",
    "**Example 1**"
   ]
  },
  {
   "cell_type": "code",
   "execution_count": 63,
   "id": "celtic-newspaper",
   "metadata": {},
   "outputs": [
    {
     "name": "stdout",
     "output_type": "stream",
     "text": [
      "Lower range a: 0\n",
      "Upper range b: 5\n",
      "\n",
      "\n",
      " 5 * np.random.random_sample(size=(10,)) + (0)\n",
      "____________________________________________________________________________________________________\n",
      "\n",
      "random_sample in the half-open interval [0,5)\n",
      "\n",
      " [1.46044041 4.86694928 0.95407778 0.39286663 3.98789528 0.08531375\n",
      " 3.82579891 4.46372758 0.21860775 1.16465465]\n",
      "____________________________________________________________________________________________________\n"
     ]
    }
   ],
   "source": [
    "# Taget range:----------> [0,5)  where b > a\n",
    "\n",
    "b,a = 5 , 0 \n",
    "line = 100\n",
    "# a and b are taken from the range.\n",
    "print(f\"Lower range a: {a}\")\n",
    "print(f\"Upper range b: {b}\\n\")\n",
    "\n",
    "# Geenrating a 1d random array in the given range.\n",
    "\n",
    "rsample = (b-a) * np.random.random_sample(size=(10,)) + a\n",
    "\n",
    "print(f\"\\n {(b-a)} * {'np.random.random_sample(size=(10,))'} + ({a})\")\n",
    "\n",
    "# the above line can be written as the 5 * np.random.random_sample(size=(10,)) + 0\n",
    "print(f\"{'_'*line}\")\n",
    "print(\"\\nrandom_sample in the half-open interval [0,5)\\n\\n\", rsample)\n",
    "print(f\"{'_'*line}\")"
   ]
  },
  {
   "cell_type": "markdown",
   "id": "posted-generator",
   "metadata": {},
   "source": [
    "**Example 2**"
   ]
  },
  {
   "cell_type": "code",
   "execution_count": 62,
   "id": "comprehensive-strategy",
   "metadata": {},
   "outputs": [
    {
     "name": "stdout",
     "output_type": "stream",
     "text": [
      "Lower range a: -5\n",
      "Upper range b: 0\n",
      "\n",
      "\n",
      " 5 * np.random.random_sample(size=(10,)) + (-5)\n",
      "____________________________________________________________________________________________________\n",
      "\n",
      "random_sample in the half-open interval [-5,0)\n",
      "\n",
      " [-2.10616978 -0.60560178 -2.86851344 -1.98063182 -3.04817592 -3.48397826\n",
      " -2.76213706 -2.17490407 -4.31277699 -3.21696853]\n",
      "____________________________________________________________________________________________________\n"
     ]
    }
   ],
   "source": [
    "# Taget range:----------> [-5,0) where b > a\n",
    "line = 100\n",
    "\n",
    "b, a  = 0, -5 # a and b are taken from the range.\n",
    "# a and b are taken from the range.\n",
    "print(f\"Lower range a: {a}\")\n",
    "print(f\"Upper range b: {b}\\n\")\n",
    "\n",
    "# Geenrating a 1d random array in the given range.\n",
    "\n",
    "rsample = (b-a) * np.random.random_sample(size=(10,)) + a\n",
    "print(f\"\\n {(b-a)} * {'np.random.random_sample(size=(10,))'} + ({a})\")\n",
    "# the above line can be written as the 5 * np.random.random_sample(size=(10,)) - 5\n",
    "print(f\"{'_'*line}\")\n",
    "print(\"\\nrandom_sample in the half-open interval [-5,0)\\n\\n\", rsample)\n",
    "print(f\"{'_'*line}\")"
   ]
  },
  {
   "cell_type": "markdown",
   "id": "classical-danish",
   "metadata": {},
   "source": [
    "As we can see in the both Example 1 and the Example 2, we have got our desired result in the desired range as we thaught but still we need to understand that how it works, for that we need to break the code into three parts.\n",
    "\n",
    "* random_sample()\n",
    "* multiply (b-a) \n",
    "* add a\n",
    "\n",
    "**Breaking the above result code**\n",
    "\n",
    "first of all we need to see about the random_sample."
   ]
  },
  {
   "cell_type": "code",
   "execution_count": 65,
   "id": "familiar-associate",
   "metadata": {},
   "outputs": [
    {
     "data": {
      "text/plain": [
       "array([0.32499663, 0.85421945, 0.50933069, 0.12742628, 0.97398831,\n",
       "       0.34586032, 0.51319776, 0.67346228, 0.57546226, 0.42283627])"
      ]
     },
     "execution_count": 65,
     "metadata": {},
     "output_type": "execute_result"
    }
   ],
   "source": [
    "# creating the random sample to analysis it\n",
    "np.random.random_sample(size=(10,))"
   ]
  },
  {
   "cell_type": "markdown",
   "id": "fitting-connectivity",
   "metadata": {},
   "source": [
    "Now we can see that all the values are b/w the (0.0,1.0), From the documentation we have found that it generates the values in half-open interval in `[0.0, 1.0) ` \n",
    "\n",
    "So if we muliply it  from some value (X) then all the values multiplied from that valuea and we can generate values from 0 to X. "
   ]
  },
  {
   "cell_type": "code",
   "execution_count": 69,
   "id": "grateful-server",
   "metadata": {},
   "outputs": [
    {
     "name": "stdout",
     "output_type": "stream",
     "text": [
      "[0.72985836 0.05728082 2.16953448 4.11911885 1.16731283 0.25994343\n",
      " 2.66289224 2.53783647 3.54802013 3.91487207]\n"
     ]
    }
   ],
   "source": [
    "# multiplying the random_sample form the X value\n",
    "X = 5\n",
    "\n",
    "rsample = X * np.random.random_sample(size=(10,))\n",
    "print(rsample)"
   ]
  },
  {
   "cell_type": "markdown",
   "id": "pointed-analyst",
   "metadata": {},
   "source": [
    "As we can see that we have created values form the [0,5) but in this 5 is not incluive becaues 1 was not inclusive during the generation of the random values. so we can create the random values in b/w [0.0, 5.0) half open interval.\n",
    "\n",
    "Now if we add some other value say Y in the `rsample` result then it will generate the number in b/w `[X,Y)` range in which X would be inclusive. \n",
    "\n",
    "`Note:` In this whole process Y > X"
   ]
  },
  {
   "cell_type": "code",
   "execution_count": 70,
   "id": "lightweight-employee",
   "metadata": {},
   "outputs": [
    {
     "data": {
      "text/plain": [
       "array([-4.27014164, -4.94271918, -2.83046552, -0.88088115, -3.83268717,\n",
       "       -4.74005657, -2.33710776, -2.46216353, -1.45197987, -1.08512793])"
      ]
     },
     "execution_count": 70,
     "metadata": {},
     "output_type": "execute_result"
    }
   ],
   "source": [
    "# since X > Y then Y should be small then the X so we take the Y as the -5\n",
    "\n",
    "Y = -5\n",
    "\n",
    "# adding the in the rsample\n",
    "rsample + Y"
   ]
  },
  {
   "cell_type": "markdown",
   "id": "flying-decade",
   "metadata": {},
   "source": [
    "Now you can see that all the values are negative or we can say that all values are in b/w [0.0 ,  -5) . \n",
    "\n",
    "but if we take non negative value of Y then."
   ]
  },
  {
   "cell_type": "code",
   "execution_count": 71,
   "id": "ordinary-cartoon",
   "metadata": {},
   "outputs": [
    {
     "data": {
      "text/plain": [
       "array([2.72985836, 2.05728082, 4.16953448, 6.11911885, 3.16731283,\n",
       "       2.25994343, 4.66289224, 4.53783647, 5.54802013, 5.91487207])"
      ]
     },
     "execution_count": 71,
     "metadata": {},
     "output_type": "execute_result"
    }
   ],
   "source": [
    "# taking the Y as positive and small to X\n",
    "\n",
    "Y = 2  # Y < X\n",
    "\n",
    "rsample + Y"
   ]
  },
  {
   "cell_type": "markdown",
   "id": "entitled-dimension",
   "metadata": {},
   "source": [
    "Now you can see that the range is changed from `[0.0 , 5.0)` ---------------------> `[2,0, 7.0)`\n",
    "\n",
    "but the problem we didn't used the value 7.0 to get this range so what happend. Well this is just simple Mathematics. Let's break all the operations.\n",
    "\n",
    "**Point 1**"
   ]
  },
  {
   "cell_type": "code",
   "execution_count": 72,
   "id": "heated-wallpaper",
   "metadata": {},
   "outputs": [
    {
     "data": {
      "text/plain": [
       "array([0.16039843, 0.8577194 , 0.48684179, 0.59724195, 0.29276744,\n",
       "       0.47218278, 0.70777807, 0.74815284, 0.98184573, 0.3069532 ])"
      ]
     },
     "execution_count": 72,
     "metadata": {},
     "output_type": "execute_result"
    }
   ],
   "source": [
    "np.random.random_sample(size=(10,))"
   ]
  },
  {
   "cell_type": "markdown",
   "id": "material-philippines",
   "metadata": {},
   "source": [
    "_np.random.random_smple()_  generates some random values from 0 to 1 in float in which 1 is not inclusive so all the values are in b/w 0 to 1 but there will no 1 incuded.\n",
    "\n",
    "**Point 2**\n",
    "\n",
    "So if we muliply some X value then this X will be multiplied to all the values if we use the for loop to visulize the all computation then we can see that what is going on."
   ]
  },
  {
   "cell_type": "code",
   "execution_count": 85,
   "id": "formal-federal",
   "metadata": {},
   "outputs": [
    {
     "name": "stdout",
     "output_type": "stream",
     "text": [
      "Our oringianl values are: \n",
      "\n",
      " [0.99460423 0.10049994 0.1753754  0.34073775 0.72674755 0.09511575\n",
      " 0.20043972 0.40826225 0.01564071 0.03258093]\n",
      "\n",
      "Our new values after the multiplying the X values in the rsample\n",
      "\n",
      "5 * 0.9946042292772675 = 4.973021146386338\n",
      "5 * 0.100499937750122 = 0.50249968875061\n",
      "5 * 0.1753754044201714 = 0.876877022100857\n",
      "5 * 0.34073775476562507 = 1.7036887738281252\n",
      "5 * 0.7267475490417133 = 3.633737745208567\n",
      "5 * 0.09511575267932626 = 0.4755787633966313\n",
      "5 * 0.20043971761490875 = 1.0021985880745437\n",
      "5 * 0.40826224627998364 = 2.041311231399918\n",
      "5 * 0.01564070869399925 = 0.07820354346999625\n",
      "5 * 0.03258092719347494 = 0.1629046359673747\n"
     ]
    }
   ],
   "source": [
    "# Since we need to match the result so we will take the X as 5\n",
    "X = 5\n",
    "\n",
    "# but we need to create a fresh  a new rsample \n",
    "\n",
    "rsample = np.random.random_sample(size=(10,))\n",
    "\n",
    "print(\"Our oringianl values are: \\n\\n\", rsample)\n",
    "# iterating over the all values \n",
    "\n",
    "print(\"\\nOur new values after the multiplying the X values in the rsample\\n\")\n",
    "for values in rsample:\n",
    "    \n",
    "    # using the rsample which is saved in the memories already and by this our result will match.\n",
    "\n",
    "    # we will print all the vlaues to understand the computation\n",
    "    \n",
    "    print(f\"{X} * {values} = {X*values}\")"
   ]
  },
  {
   "cell_type": "markdown",
   "id": "limiting-phone",
   "metadata": {},
   "source": [
    "Now we use our direct mehod to multiply the vlaues to crate the array. "
   ]
  },
  {
   "cell_type": "code",
   "execution_count": 86,
   "id": "southeast-diary",
   "metadata": {},
   "outputs": [
    {
     "data": {
      "text/plain": [
       "array([4.97302115, 0.50249969, 0.87687702, 1.70368877, 3.63373775,\n",
       "       0.47557876, 1.00219859, 2.04131123, 0.07820354, 0.16290464])"
      ]
     },
     "execution_count": 86,
     "metadata": {},
     "output_type": "execute_result"
    }
   ],
   "source": [
    "X * rsample"
   ]
  },
  {
   "cell_type": "markdown",
   "id": "official-corrections",
   "metadata": {},
   "source": [
    "As you can see that all values are same to the above result by doing this we have created the range from 0 ot 5,\n",
    "\n",
    "but now we will add the Y, but the Y is small to the X"
   ]
  },
  {
   "cell_type": "code",
   "execution_count": 87,
   "id": "respiratory-ceiling",
   "metadata": {},
   "outputs": [
    {
     "data": {
      "text/plain": [
       "array([6.97302115, 2.50249969, 2.87687702, 3.70368877, 5.63373775,\n",
       "       2.47557876, 3.00219859, 4.04131123, 2.07820354, 2.16290464])"
      ]
     },
     "execution_count": 87,
     "metadata": {},
     "output_type": "execute_result"
    }
   ],
   "source": [
    "Y =2\n",
    "X * rsample + 2"
   ]
  },
  {
   "cell_type": "markdown",
   "id": "automated-wallace",
   "metadata": {},
   "source": [
    "Now we will see the all values in the for loop"
   ]
  },
  {
   "cell_type": "code",
   "execution_count": 90,
   "id": "unnecessary-friendly",
   "metadata": {},
   "outputs": [
    {
     "name": "stdout",
     "output_type": "stream",
     "text": [
      " 4.973021146386338 + 2  =  6.973021146386338\n",
      " 0.50249968875061 + 2  =  2.50249968875061\n",
      " 0.876877022100857 + 2  =  2.876877022100857\n",
      " 1.7036887738281252 + 2  =  3.7036887738281252\n",
      " 3.633737745208567 + 2  =  5.633737745208567\n",
      " 0.4755787633966313 + 2  =  2.4755787633966313\n",
      " 1.0021985880745437 + 2  =  3.0021985880745437\n",
      " 2.041311231399918 + 2  =  4.041311231399918\n",
      " 0.07820354346999625 + 2  =  2.0782035434699964\n",
      " 0.1629046359673747 + 2  =  2.162904635967375\n"
     ]
    }
   ],
   "source": [
    "Y = 2\n",
    "X_rsample = X*rsample\n",
    "\n",
    "for values in X_rsample:\n",
    "    \n",
    "    print(f\" {values} + {Y}  =  {values+Y}\")"
   ]
  },
  {
   "cell_type": "markdown",
   "id": "living-irrigation",
   "metadata": {},
   "source": [
    "Now we can see that we have got our new vlaues in the b/w the 2 to 7. From all of this we can say that range can be manuplate by using the X and Y but still we need to be clear that how we decide the range. use the all computation b/w the X and Y.\n",
    "\n",
    "X = 5 ||\n",
    "Y = 2\n",
    "\n",
    "all possible computation are add, multiply, deivde, subtract.\n",
    "\n",
    "`X + Y = 7 `       |       `X -Y = 3`         |            `X /Y = 2.5`           |           `X*Y = 10`\n",
    "\n",
    "from this we have found the relation to get the final range of the values.\n",
    "\n",
    "So we found two result as the range is that .\n",
    "\n",
    "Y = 2 and X+Y = 7\n",
    "\n",
    "Now if we take the `Y = a` as the lower range  and `X+Y = b` as the upper range in which *y > a*.\n",
    "\n",
    "So from all this computation we have got the lower value and the upper value of the range.\n",
    "Now the equation `X+Y=b` becomes `X+a = b`  and then X becomes  `X = b-a`."
   ]
  },
  {
   "cell_type": "code",
   "execution_count": 93,
   "id": "organizational-circulation",
   "metadata": {},
   "outputs": [
    {
     "name": "stdout",
     "output_type": "stream",
     "text": [
      " range :[2,7)\n"
     ]
    }
   ],
   "source": [
    "# Now if we compute the above valus\n",
    "\n",
    "X = 5\n",
    "Y = 2\n",
    "\n",
    "print(f\" range :[{Y},{X+Y})\")"
   ]
  },
  {
   "cell_type": "markdown",
   "id": "twelve-prince",
   "metadata": {},
   "source": [
    "from the above result we have got the if we want to generate an array in b/w [a,b) range then as showing in the above reslut [2,7) we need to give the input as \n",
    "\n",
    "`lower range  = 2`  and `upper range = X + lower range`\n",
    "\n",
    "but in the Above example we have used X and Y as to generate the random values `X*random_sample(size)+Y` but in after Computation this gives us the different range output from the input range as X and Y, but also we have found that our lower range is `lower range = a = Y`  and then the X becomes `             X = upper range - lower range` and we know that our lower range is `a` and the upper range `b`.\n",
    "\n",
    "So X and Y becomes: \n",
    "\n",
    "`X = b-a`  \n",
    "\n",
    "`Y = a`\n",
    "\n",
    "So our equation of  `rsample = X * random_sample(size) + Y` becomes  ` rsample = (b-a) * random_sample(size) + a`. Where `a` is the lower value of the range and the `b` is the upper value of the range array.\n",
    "\n",
    "Now we have understand the concept of the random_sample() now we will generate the values in b/w the [10 . 20)"
   ]
  },
  {
   "cell_type": "code",
   "execution_count": 97,
   "id": "outstanding-landing",
   "metadata": {},
   "outputs": [
    {
     "data": {
      "text/plain": [
       "array([16.8765738 , 14.22567961, 16.23765942, 15.52789411, 13.27575265,\n",
       "       18.86995207, 19.56821628, 10.39116099, 14.54947583, 11.71462581])"
      ]
     },
     "execution_count": 97,
     "metadata": {},
     "output_type": "execute_result"
    }
   ],
   "source": [
    "# creating the values in b/w the the range [10 . 20) where b > a\n",
    "\n",
    "# from the range we have\n",
    "a = 10  # lower value\n",
    "b = 20  # upper value\n",
    "\n",
    "# so our final sample is\n",
    "\n",
    "(b-a) * np.random.random_sample(size=(10,)) + a"
   ]
  },
  {
   "cell_type": "markdown",
   "id": "fitting-respondent",
   "metadata": {},
   "source": [
    "From the above result we have got the desired result in b/w the 10 to 20."
   ]
  },
  {
   "cell_type": "markdown",
   "id": "legitimate-olive",
   "metadata": {},
   "source": [
    "***\n",
    "***"
   ]
  },
  {
   "cell_type": "markdown",
   "id": "suitable-latvia",
   "metadata": {},
   "source": [
    "## numpy.random.random_integer()\n",
    "\n",
    " This function is deprecated. Please call randint(L, H + 1)\n",
    " \n",
    " where L is the lower value and H is the higer vlaue\n",
    "\n",
    "To sample from N evenly spaced floating-point numbers between a and b, use:\n",
    "\n",
    "`a + (b - a) * (np.random.random_integers(N) - 1) / (N - 1.)`"
   ]
  },
  {
   "cell_type": "code",
   "execution_count": 99,
   "id": "substantial-wealth",
   "metadata": {},
   "outputs": [
    {
     "name": "stderr",
     "output_type": "stream",
     "text": [
      "<ipython-input-99-4a687f18bea8>:1: DeprecationWarning: This function is deprecated. Please call randint(0, 10 + 1) instead\n",
      "  np.random.random_integers(0,10 , size = (2,5))\n"
     ]
    },
    {
     "data": {
      "text/plain": [
       "array([[4, 1, 6, 6, 3],\n",
       "       [6, 4, 3, 1, 6]])"
      ]
     },
     "execution_count": 99,
     "metadata": {},
     "output_type": "execute_result"
    }
   ],
   "source": [
    "np.random.random_integers(0,10 , size = (2,5))"
   ]
  },
  {
   "cell_type": "markdown",
   "id": "sticky-transsexual",
   "metadata": {},
   "source": [
    "**Since this function has been deprecated so we will use the randint**\n",
    "\n",
    "Now we will do all the operation on the randint function \n",
    "\n",
    "***1. Generating an array using randint***"
   ]
  },
  {
   "cell_type": "code",
   "execution_count": 28,
   "id": "still-dealing",
   "metadata": {},
   "outputs": [
    {
     "data": {
      "text/plain": [
       "array([[6, 5, 9, 7, 4, 1, 1, 7, 6, 6],\n",
       "       [5, 2, 9, 7, 3, 3, 7, 9, 2, 9]])"
      ]
     },
     "execution_count": 28,
     "metadata": {},
     "output_type": "execute_result"
    }
   ],
   "source": [
    "# Since randint is the similar function as the random_intergers\n",
    "\n",
    "# Here we will generate an array with in 1 to 10 range. with a size of (2,10)\n",
    "np.random.randint(1, 10, size=(2,10))"
   ]
  },
  {
   "cell_type": "markdown",
   "id": "expected-preserve",
   "metadata": {},
   "source": [
    "similarly here first argument is for the lower value of the range and the second value is for the higher value of the range.\n",
    "\n",
    "***2. Generating N evenly spaced floating point b/w a and b***"
   ]
  },
  {
   "cell_type": "code",
   "execution_count": 30,
   "id": "executive-communications",
   "metadata": {},
   "outputs": [
    {
     "data": {
      "text/plain": [
       "array([10. , 17.5, 17.5, 15. ,  7.5,  7.5, 15. , 17.5, 10. , 17.5])"
      ]
     },
     "execution_count": 30,
     "metadata": {},
     "output_type": "execute_result"
    }
   ],
   "source": [
    "# this is similar to the random_sample \n",
    "# here also we have a range [a,b] in which b > a \n",
    "\n",
    "a = 10 \n",
    "b = 20 \n",
    "N = 5\n",
    "\n",
    "# for now we will simply put the method directly after that we will break it\n",
    "# we will make an vector of 10 dimensions \n",
    "\n",
    "(b-a) * ( np.random.randint(N , size=(10, )) - 1 ) /(N - 1.0)  + a    "
   ]
  },
  {
   "cell_type": "markdown",
   "id": "aggressive-archives",
   "metadata": {},
   "source": [
    "As you can see that it generates some evenly spaced floating - point in b/w a and b.\n",
    "\n",
    "Now we will break this code so we can understand that what is going on in this. Here we have four parts in this:\n",
    "\n",
    "1. `(b-a)`\n",
    "2. `( np.random.randint(N , size=(n,)) -1)`\n",
    "3. `(N -1.)`\n",
    "4. `a`\n",
    "\n",
    "\n",
    "we have already seen the 1st and 4th part in the random_sample function so we will do not repeat it here. now we will focus on the only the 2nd and 3rd part of the code. So now will generates another sample and store it in a variable so we can track our result.\n",
    "\n",
    "###### 1. Generating the sample"
   ]
  },
  {
   "cell_type": "code",
   "execution_count": 32,
   "id": "billion-casting",
   "metadata": {},
   "outputs": [
    {
     "name": "stdout",
     "output_type": "stream",
     "text": [
      "[4 2 0 2 4 0 4 1 2 3 2 1 0 2 3 0 0 2 3 2]\n"
     ]
    }
   ],
   "source": [
    "# genrating and storing it in a variable \n",
    "# here we will take the 5 as the N value.\n",
    "\n",
    "sample = np.random.randint(5, size=(20, ))\n",
    "print(sample)"
   ]
  },
  {
   "cell_type": "markdown",
   "id": "induced-latvia",
   "metadata": {},
   "source": [
    "Note that here we have passed only the low value in this case it genereates the values 0 to low value and in this case it generates 0 to 5 since it takes the low values as the high and low becomes 0.\n",
    "\n",
    "Now it have generated some values from 0 to 5 so now we will subtract 1 from it.\n",
    "\n",
    "###### 2. Subtracting the 1 from all vaues "
   ]
  },
  {
   "cell_type": "code",
   "execution_count": 33,
   "id": "silver-kenya",
   "metadata": {},
   "outputs": [
    {
     "data": {
      "text/plain": [
       "array([ 3,  1, -1,  1,  3, -1,  3,  0,  1,  2,  1,  0, -1,  1,  2, -1, -1,\n",
       "        1,  2,  1])"
      ]
     },
     "execution_count": 33,
     "metadata": {},
     "output_type": "execute_result"
    }
   ],
   "source": [
    "sample - 1"
   ]
  },
  {
   "cell_type": "markdown",
   "id": "hispanic-auditor",
   "metadata": {},
   "source": [
    "As you can see that we have got all the values after minus one. Now we will devide it from the (N - 1.) where N is the low value which is passed in the low argument.\n",
    "\n",
    "###### 3. deviding from (N -1.)"
   ]
  },
  {
   "cell_type": "code",
   "execution_count": 34,
   "id": "empty-mentor",
   "metadata": {},
   "outputs": [
    {
     "data": {
      "text/plain": [
       "array([ 0.75,  0.25, -0.25,  0.25,  0.75, -0.25,  0.75,  0.  ,  0.25,\n",
       "        0.5 ,  0.25,  0.  , -0.25,  0.25,  0.5 , -0.25, -0.25,  0.25,\n",
       "        0.5 ,  0.25])"
      ]
     },
     "execution_count": 34,
     "metadata": {},
     "output_type": "execute_result"
    }
   ],
   "source": [
    "# deviding the sample -1 from the (N - 1.) \n",
    "(sample - 1) / (N -1.)"
   ]
  },
  {
   "cell_type": "markdown",
   "id": "several-season",
   "metadata": {},
   "source": [
    "Now after deviding it we can see that the range of the output array becomes from `-1 to 1` . Now we can make our desired range because we have got the array range from `1 to 1`  and we can multiply and add in it to get the desired range.\n",
    "\n",
    "###### 4. getting the N evenly spaced floating numbers.\n",
    "\n",
    "We will seperate this in two parts:\n",
    "1. multiply the `(b-a)`\n",
    "2. add `a`"
   ]
  },
  {
   "cell_type": "code",
   "execution_count": 36,
   "id": "educational-leadership",
   "metadata": {},
   "outputs": [
    {
     "data": {
      "text/plain": [
       "array([ 7.5,  2.5, -2.5,  2.5,  7.5, -2.5,  7.5,  0. ,  2.5,  5. ,  2.5,\n",
       "        0. , -2.5,  2.5,  5. , -2.5, -2.5,  2.5,  5. ,  2.5])"
      ]
     },
     "execution_count": 36,
     "metadata": {},
     "output_type": "execute_result"
    }
   ],
   "source": [
    "# we have already defined the a and b but we will again defining it.\n",
    "a = 10 \n",
    "b = 20   # b > a \n",
    "N = 5\n",
    "# This is the range in b/w we are going to making the floating points.\n",
    "\n",
    "(b-a) * (sample -1)/(N -1.)"
   ]
  },
  {
   "cell_type": "markdown",
   "id": "latest-credit",
   "metadata": {},
   "source": [
    "By multplying `(b-a)` we have generated the values below a now to get over desired result we will add `a` in above result. by multiplying the `(b-a)` the range of the array becomes [-9 ,  10]"
   ]
  },
  {
   "cell_type": "code",
   "execution_count": 37,
   "id": "considered-penguin",
   "metadata": {},
   "outputs": [
    {
     "data": {
      "text/plain": [
       "array([17.5, 12.5,  7.5, 12.5, 17.5,  7.5, 17.5, 10. , 12.5, 15. , 12.5,\n",
       "       10. ,  7.5, 12.5, 15. ,  7.5,  7.5, 12.5, 15. , 12.5])"
      ]
     },
     "execution_count": 37,
     "metadata": {},
     "output_type": "execute_result"
    }
   ],
   "source": [
    "(b-a) * (sample -1)/(N -1.) + a"
   ]
  },
  {
   "cell_type": "markdown",
   "id": "still-amazon",
   "metadata": {},
   "source": [
    "As you can see that we have got some values which are in  b/w 10 to 20.  By adding `a` the lower value of the range all the values are shifted in b/w a and b .\n",
    "\n",
    "Now we will make a function which will make all above result in single hit and we will be able to see this result on different N values.\n",
    "\n",
    "#### randint_float_sample()"
   ]
  },
  {
   "cell_type": "code",
   "execution_count": 40,
   "id": "postal-snake",
   "metadata": {},
   "outputs": [],
   "source": [
    "def randint_float_sample(N, shape, a,b):\n",
    "    \n",
    "    \"\"\" This function will generate N evenly spaced floating-points in b/w a and b values and also it will so all operation of \n",
    "    generating the sample\n",
    "    \n",
    "    N = This is the lowest value for the randint() function and also it will be used to make the even space b/w values.\n",
    "    shape = this is the shape of the output array\n",
    "    \n",
    "    a = This is the lower value of the range [a,b]\n",
    "    b = This is the highest value of the array or sample in range [a,b]\n",
    "    \"\"\"\n",
    "    \n",
    "    # output result\n",
    "    # (b-a) * ( np.random.randint(N , size= shape) - 1 ) /(N - 1.0)  + a    \n",
    "    \n",
    "    # first of all we need to generate a randint sample with a size and N .\n",
    "    \n",
    "    sample = np.random.randint(N, size = shape)\n",
    "    \n",
    "    #  Need to print the original sample\n",
    "    print(\"1. Our original sample:\\n\",sample)\n",
    "    \n",
    "    # now we will do sample -1 operation\n",
    "    sample =  sample -1\n",
    "    \n",
    "    # need to print new sample which have all new values less one from the original\n",
    "    print(\"\\n2. Sample after 'sample -1':\\n\",sample)\n",
    "    \n",
    "    # now we need do devide the (N -1.) from the new sample\n",
    "    sample = sample / (N -1.)\n",
    "    \n",
    "    # printing the new sample\n",
    "    print(f\"\\n3. Sample after '(sample - 1) / ({N} - 1.)':\\n\", sample)\n",
    "    \n",
    "    # now we will multiply the (b-a) to sample\n",
    "    sample = sample * (b-a)\n",
    "    \n",
    "    # printing the new sample\n",
    "    print(f\"\\n4. Sample after '({b}-{a}) * (sample - 1)/ ({N}-1.) ':\\n\", sample)\n",
    "    \n",
    "    # adding a into the newest sample\n",
    "    sample = sample + a\n",
    "    \n",
    "    # printing the finale result\n",
    "    print(f\"\\n5. Sample after '({b}-{a}) * (sample - 1) /({N} - 1.0)  + {a} ':\\n\",sample)\n"
   ]
  },
  {
   "cell_type": "markdown",
   "id": "settled-guarantee",
   "metadata": {},
   "source": [
    "**Example 1**"
   ]
  },
  {
   "cell_type": "code",
   "execution_count": 41,
   "id": "seven-forth",
   "metadata": {},
   "outputs": [
    {
     "name": "stdout",
     "output_type": "stream",
     "text": [
      "1. Our original sample:\n",
      " [3 3 2 0 2 2 4 2 1 2]\n",
      "\n",
      "2. Sample after 'sample -1':\n",
      " [ 2  2  1 -1  1  1  3  1  0  1]\n",
      "\n",
      "3. Sample after '(sample - 1) / (5 - 1.)':\n",
      " [ 0.5   0.5   0.25 -0.25  0.25  0.25  0.75  0.25  0.    0.25]\n",
      "\n",
      "4. Sample after '(20-10) * (sample - 1)/ (5-1.) ':\n",
      " [ 5.   5.   2.5 -2.5  2.5  2.5  7.5  2.5  0.   2.5]\n",
      "\n",
      "5. Sample after '(20-10) * (sample - 1) /(5 - 1.0)  + 10 ':\n",
      " [15.  15.  12.5  7.5 12.5 12.5 17.5 12.5 10.  12.5]\n"
     ]
    }
   ],
   "source": [
    "randint_float_sample(5,(10,),10,20) "
   ]
  },
  {
   "cell_type": "markdown",
   "id": "naughty-sudan",
   "metadata": {},
   "source": [
    "**Example 2**"
   ]
  },
  {
   "cell_type": "code",
   "execution_count": 43,
   "id": "extra-validation",
   "metadata": {},
   "outputs": [
    {
     "name": "stdout",
     "output_type": "stream",
     "text": [
      "1. Our original sample:\n",
      " [2 2 1 9 8 8 2 1 2 6]\n",
      "\n",
      "2. Sample after 'sample -1':\n",
      " [1 1 0 8 7 7 1 0 1 5]\n",
      "\n",
      "3. Sample after '(sample - 1) / (10 - 1.)':\n",
      " [0.11111111 0.11111111 0.         0.88888889 0.77777778 0.77777778\n",
      " 0.11111111 0.         0.11111111 0.55555556]\n",
      "\n",
      "4. Sample after '(20-10) * (sample - 1)/ (10-1.) ':\n",
      " [1.11111111 1.11111111 0.         8.88888889 7.77777778 7.77777778\n",
      " 1.11111111 0.         1.11111111 5.55555556]\n",
      "\n",
      "5. Sample after '(20-10) * (sample - 1) /(10 - 1.0)  + 10 ':\n",
      " [11.11111111 11.11111111 10.         18.88888889 17.77777778 17.77777778\n",
      " 11.11111111 10.         11.11111111 15.55555556]\n"
     ]
    }
   ],
   "source": [
    "randint_float_sample(10,(10,),10,20) "
   ]
  },
  {
   "cell_type": "markdown",
   "id": "administrative-juvenile",
   "metadata": {},
   "source": [
    "**Example 3**"
   ]
  },
  {
   "cell_type": "code",
   "execution_count": 47,
   "id": "controlling-directory",
   "metadata": {},
   "outputs": [
    {
     "name": "stdout",
     "output_type": "stream",
     "text": [
      "1. Our original sample:\n",
      " [[14 10  1]\n",
      " [ 8  5  1]\n",
      " [14 13 14]\n",
      " [ 3 10  3]\n",
      " [ 6  9  8]]\n",
      "\n",
      "2. Sample after 'sample -1':\n",
      " [[13  9  0]\n",
      " [ 7  4  0]\n",
      " [13 12 13]\n",
      " [ 2  9  2]\n",
      " [ 5  8  7]]\n",
      "\n",
      "3. Sample after '(sample - 1) / (15 - 1.)':\n",
      " [[0.92857143 0.64285714 0.        ]\n",
      " [0.5        0.28571429 0.        ]\n",
      " [0.92857143 0.85714286 0.92857143]\n",
      " [0.14285714 0.64285714 0.14285714]\n",
      " [0.35714286 0.57142857 0.5       ]]\n",
      "\n",
      "4. Sample after '(20-10) * (sample - 1)/ (15-1.) ':\n",
      " [[9.28571429 6.42857143 0.        ]\n",
      " [5.         2.85714286 0.        ]\n",
      " [9.28571429 8.57142857 9.28571429]\n",
      " [1.42857143 6.42857143 1.42857143]\n",
      " [3.57142857 5.71428571 5.        ]]\n",
      "\n",
      "5. Sample after '(20-10) * (sample - 1) /(15 - 1.0)  + 10 ':\n",
      " [[19.28571429 16.42857143 10.        ]\n",
      " [15.         12.85714286 10.        ]\n",
      " [19.28571429 18.57142857 19.28571429]\n",
      " [11.42857143 16.42857143 11.42857143]\n",
      " [13.57142857 15.71428571 15.        ]]\n"
     ]
    }
   ],
   "source": [
    "randint_float_sample(15,(5,3,),10,20) "
   ]
  },
  {
   "cell_type": "markdown",
   "id": "surprised-summary",
   "metadata": {},
   "source": [
    "**Example 4**"
   ]
  },
  {
   "cell_type": "code",
   "execution_count": 48,
   "id": "magnetic-father",
   "metadata": {},
   "outputs": [
    {
     "name": "stdout",
     "output_type": "stream",
     "text": [
      "1. Our original sample:\n",
      " [[ 8 12]\n",
      " [ 5 13]\n",
      " [12  7]\n",
      " [ 7  3]\n",
      " [ 3 14]\n",
      " [11 14]\n",
      " [11  8]\n",
      " [ 8 16]\n",
      " [ 1 13]\n",
      " [14 14]]\n",
      "\n",
      "2. Sample after 'sample -1':\n",
      " [[ 7 11]\n",
      " [ 4 12]\n",
      " [11  6]\n",
      " [ 6  2]\n",
      " [ 2 13]\n",
      " [10 13]\n",
      " [10  7]\n",
      " [ 7 15]\n",
      " [ 0 12]\n",
      " [13 13]]\n",
      "\n",
      "3. Sample after '(sample - 1) / (20 - 1.)':\n",
      " [[0.36842105 0.57894737]\n",
      " [0.21052632 0.63157895]\n",
      " [0.57894737 0.31578947]\n",
      " [0.31578947 0.10526316]\n",
      " [0.10526316 0.68421053]\n",
      " [0.52631579 0.68421053]\n",
      " [0.52631579 0.36842105]\n",
      " [0.36842105 0.78947368]\n",
      " [0.         0.63157895]\n",
      " [0.68421053 0.68421053]]\n",
      "\n",
      "4. Sample after '(20-10) * (sample - 1)/ (20-1.) ':\n",
      " [[3.68421053 5.78947368]\n",
      " [2.10526316 6.31578947]\n",
      " [5.78947368 3.15789474]\n",
      " [3.15789474 1.05263158]\n",
      " [1.05263158 6.84210526]\n",
      " [5.26315789 6.84210526]\n",
      " [5.26315789 3.68421053]\n",
      " [3.68421053 7.89473684]\n",
      " [0.         6.31578947]\n",
      " [6.84210526 6.84210526]]\n",
      "\n",
      "5. Sample after '(20-10) * (sample - 1) /(20 - 1.0)  + 10 ':\n",
      " [[13.68421053 15.78947368]\n",
      " [12.10526316 16.31578947]\n",
      " [15.78947368 13.15789474]\n",
      " [13.15789474 11.05263158]\n",
      " [11.05263158 16.84210526]\n",
      " [15.26315789 16.84210526]\n",
      " [15.26315789 13.68421053]\n",
      " [13.68421053 17.89473684]\n",
      " [10.         16.31578947]\n",
      " [16.84210526 16.84210526]]\n"
     ]
    }
   ],
   "source": [
    "randint_float_sample(20,(10,2),10,20) "
   ]
  },
  {
   "cell_type": "markdown",
   "id": "following-office",
   "metadata": {},
   "source": [
    "### Note:\n",
    "As you can see that Whatever the N is but the values of the array are in the range of `[a , b]`. \n",
    "\n",
    "So this is how we can generates some floating point from randint function."
   ]
  },
  {
   "cell_type": "markdown",
   "id": "sought-instrument",
   "metadata": {},
   "source": [
    "***\n",
    "***"
   ]
  },
  {
   "cell_type": "markdown",
   "id": "confirmed-execution",
   "metadata": {},
   "source": [
    "## numpy.random.choice()\n",
    "```ruby\n",
    "random.choice(a, size=None, replace=True, p=None)\n",
    "```\n",
    "\n",
    "Generates a random sample from a given 1-D array\n",
    "\n",
    "\n",
    "`a:`\n",
    "If an ndarray, a random sample is generated from its elements. If an int, the random sample is generated as if a were np.arange(a)\n",
    "\n",
    "`size:`\n",
    "Output shape. If the given shape is, e.g., (m, n, k), then m * n * k samples are drawn. Default is None, in which case a single value is returned.\n",
    "\n",
    "`replace:`\n",
    "Whether the sample is with or without replacement\n",
    "\n",
    "`p:`\n",
    "The probabilities associated with each entry in a. If not given the sample assumes a uniform distribution over all entries in a.\n",
    "\n",
    "This choice function is basically used to pick someting from a sample space randomly. or like generating an event randomly such as Head and Tail of the coins, rolling of six side die and randomly getting any number b/w 1 to 6. We we see some example to understand that how choice function works.\n",
    "\n",
    "###### 1. Generate a uniform random sample from `np.arange(5)` of size `3`:"
   ]
  },
  {
   "cell_type": "code",
   "execution_count": 52,
   "id": "interior-ethiopia",
   "metadata": {},
   "outputs": [
    {
     "name": "stdout",
     "output_type": "stream",
     "text": [
      "array sampel from the np.arange():  [0 1 2 3 4]\n"
     ]
    },
    {
     "data": {
      "text/plain": [
       "array([1, 0, 4])"
      ]
     },
     "execution_count": 52,
     "metadata": {},
     "output_type": "execute_result"
    }
   ],
   "source": [
    "print(\"array sampel from the np.arange(): \",np.arange(5))\n",
    "\n",
    "# uniform sample by using the random.choice()\n",
    "np.random.choice(5,3)\n",
    "\n",
    "# here 5 is a= 5 and 3 is the size = (3,) 1d array"
   ]
  },
  {
   "cell_type": "markdown",
   "id": "beneficial-singer",
   "metadata": {},
   "source": [
    "As you can see that here `np.arange()` function genretes a perfect array in a series but the choice has `a=5` in this a is int and it will select any number from 0 to 4 and Since we have given that we need an array of `size = (3,)` so  it generates 3 elements.Let's now see the above code with the help of the for loop. \n",
    "\n",
    "In this for loop we will pick any number b/w 0 to 5 and loop will run up to 10 to 20 times."
   ]
  },
  {
   "cell_type": "code",
   "execution_count": 57,
   "id": "danish-popularity",
   "metadata": {},
   "outputs": [
    {
     "name": "stdout",
     "output_type": "stream",
     "text": [
      "1st Loop\n",
      "1,4,1,1,3,1,2,2,1,1,\n",
      "\n",
      "2nd Loop\n",
      "2,4,0,0,1,4,1,4,2,2,4,3,2,0,1,0,2,2,3,3,"
     ]
    }
   ],
   "source": [
    "# we will run a loop two times 1st loop is 10 times and 2nd loop will run 20 times\n",
    "print(\"1st Loop\")\n",
    "for i in range(10):\n",
    "    print(np.random.choice(5), end=\",\")\n",
    "    \n",
    "print(\"\\n\\n2nd Loop\")\n",
    "for i in range(20):\n",
    "    print(np.random.choice(5), end=\",\")"
   ]
  },
  {
   "cell_type": "markdown",
   "id": "lesbian-authentication",
   "metadata": {},
   "source": [
    "As you cnd see that this choice function randomly choose one element form 0 to 4 but do not include 5 in picking, because when we pass an integer this will generats a `np.arange(5)` array and pass it to `a` then it randomly pick values from it. \n",
    "\n",
    "Now this time we will pass a `np.arange(n)` into `a`."
   ]
  },
  {
   "cell_type": "code",
   "execution_count": 59,
   "id": "turkish-coordinator",
   "metadata": {},
   "outputs": [
    {
     "name": "stdout",
     "output_type": "stream",
     "text": [
      "Our np.arange values are:  [0 1 2 3 4]\n",
      "1st Loop\n",
      "0,0,0,2,3,2,2,2,1,1,\n",
      "\n",
      "2nd Loop\n",
      "2,0,3,1,4,2,1,2,3,3,4,3,4,0,1,1,3,2,4,3,"
     ]
    }
   ],
   "source": [
    "# passing a np.arange(n) into a \n",
    "arange = np.arange(5)\n",
    "\n",
    "print(\"Our np.arange values are: \",arange)\n",
    "\n",
    "# passing to a in the choice function\n",
    "\n",
    "print(\"1st Loop\")\n",
    "for i in range(10):\n",
    "    print(np.random.choice(arange), end=\",\")\n",
    "    \n",
    "print(\"\\n\\n2nd Loop\")\n",
    "for i in range(20):\n",
    "    print(np.random.choice(arange), end=\",\")"
   ]
  },
  {
   "cell_type": "code",
   "execution_count": null,
   "id": "arabic-hollow",
   "metadata": {},
   "outputs": [],
   "source": []
  },
  {
   "cell_type": "markdown",
   "id": "congressional-bangkok",
   "metadata": {},
   "source": [
    "###### 2. Generate a non-uniform random sample"
   ]
  },
  {
   "cell_type": "code",
   "execution_count": null,
   "id": "solar-emerald",
   "metadata": {},
   "outputs": [],
   "source": []
  }
 ],
 "metadata": {
  "kernelspec": {
   "display_name": "Python 3",
   "language": "python",
   "name": "python3"
  },
  "language_info": {
   "codemirror_mode": {
    "name": "ipython",
    "version": 3
   },
   "file_extension": ".py",
   "mimetype": "text/x-python",
   "name": "python",
   "nbconvert_exporter": "python",
   "pygments_lexer": "ipython3",
   "version": "3.8.3"
  }
 },
 "nbformat": 4,
 "nbformat_minor": 5
}
