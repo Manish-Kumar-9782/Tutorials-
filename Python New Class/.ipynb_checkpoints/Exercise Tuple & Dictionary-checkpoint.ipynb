{
 "cells": [
  {
   "cell_type": "markdown",
   "id": "39833baa-792e-4e03-bc9a-614fb1987941",
   "metadata": {},
   "source": [
    "`Question 1:` **. Write a program to read email IDs of n number of\n",
    "students and store them in a tuple. Create two new\n",
    "tuples, one to store only the usernames from the\n",
    "email IDs and second to store domain names from\n",
    "the email IDs. Print all three tuples at the end of the\n",
    "program. [Hint: You may use the function split()]** "
   ]
  },
  {
   "cell_type": "code",
   "execution_count": 2,
   "id": "44a0e71c-1417-42a8-a629-19ceaed778d3",
   "metadata": {},
   "outputs": [],
   "source": [
    "def Students():\n",
    "    nStudents = int(input(\"Number of students: \"))\n",
    "    Students = ()  # to store all the students email id \n",
    "    domains = () # to store all the students domain names.    \n",
    "    usernames = () # to store all the student usernames.\n",
    "    for i in range(nStudents):\n",
    "        st = input(f\"Enter Student {i}: \")\n",
    "        Students += st,  # extending our tuple\n",
    "        user, domain = st.split(\"@\") # [usrname, domain]\n",
    "        domains += domain, # adding a new domain into our domains tuple\n",
    "        usernames += user, # adding a new username into our usernames tuple\n",
    "    \n",
    "    print(\"Students Emails: \", Students)\n",
    "    print(\"Student Username: \", usernames)\n",
    "    print(\"Student domains: \", domains)\n",
    "    "
   ]
  },
  {
   "cell_type": "code",
   "execution_count": 3,
   "id": "2d48f3dc-cd36-4b44-95df-4abd4e511c6f",
   "metadata": {},
   "outputs": [
    {
     "name": "stdin",
     "output_type": "stream",
     "text": [
      "Number of students:  2\n",
      "Enter Student 0:  kuldeepFaltu@bekar.com\n",
      "Enter Student 1:  bhanuBhondu@fukera.com\n"
     ]
    },
    {
     "name": "stdout",
     "output_type": "stream",
     "text": [
      "Students Emails:  ('kuldeepFaltu@bekar.com', 'bhanuBhondu@fukera.com')\n",
      "Student Username:  ('kuldeepFaltu', 'bhanuBhondu')\n",
      "Student domains:  ('bekar.com', 'fukera.com')\n"
     ]
    }
   ],
   "source": [
    "Students()"
   ]
  },
  {
   "cell_type": "markdown",
   "id": "5c029650-4552-4241-a81e-67c2dc0529c2",
   "metadata": {},
   "source": [
    "_____\n",
    "\n",
    "___"
   ]
  },
  {
   "cell_type": "markdown",
   "id": "eb97410a-d1fb-4b6d-ba03-9abd9453efed",
   "metadata": {},
   "source": [
    "`Question 2:` **Write a program to input names of n students and\n",
    "store them in a tuple. Also, input a name from the\n",
    "user and find if this student is present in the tuple or not. <br>\n",
    "(a) writing a user defined function <br>\n",
    "(b) using the built-in function <br>** \n",
    "\n",
    "**Using Funciton**\n",
    "\n",
    "* make a function\n",
    "* take input prompt(Number of students n)\n",
    "* input n number of student in loop and add them into tuple\n",
    "* out of loop.\n",
    "* input a name to search in names tuple.\n",
    "* return True or False\n"
   ]
  },
  {
   "cell_type": "markdown",
   "id": "4c4904fa-462e-44ba-b037-4191ddaedc61",
   "metadata": {},
   "source": [
    "**Using in-bulit function**"
   ]
  },
  {
   "cell_type": "code",
   "execution_count": 1,
   "id": "7c187dd7-caf9-4d62-b0ee-36f8dd89ec19",
   "metadata": {},
   "outputs": [],
   "source": [
    "Name = (\"kuldeep\",\"karan\",\"bhanu\",\"Sachin\")"
   ]
  },
  {
   "cell_type": "code",
   "execution_count": 4,
   "id": "a8c9402d-5e92-4988-86d4-81e2f532d767",
   "metadata": {},
   "outputs": [
    {
     "name": "stdout",
     "output_type": "stream",
     "text": [
      "Student:  bhanu  Present in tuple.\n"
     ]
    }
   ],
   "source": [
    "st_name = \"bhanu\"\n",
    "if Name.count(st_name)>0:\n",
    "    print(\"Student: \", st_name, \" Present in tuple.\")\n",
    "else:\n",
    "    print(\"Student: \", st_name, \" Not Present in tuple.\")"
   ]
  },
  {
   "cell_type": "code",
   "execution_count": null,
   "id": "dda12943-dea8-454f-8ca6-88111620fc26",
   "metadata": {},
   "outputs": [],
   "source": []
  },
  {
   "cell_type": "markdown",
   "id": "5d5902df-9667-4d08-a799-103e796277d7",
   "metadata": {},
   "source": [
    "`Question 3:` **Write a program to input your friends’ names\n",
    "and their Phone Numbers and store them in the\n",
    "dictionary as the key-value pair. Perform the\n",
    "following operations on the dictionary: <br> <br>\n",
    "a) Display the name and phone number of all your\n",
    "friends  <br>\n",
    "b) Add a new key-value pair in this dictionary and\n",
    "display the modified dictionary  <br>\n",
    "c) Delete a particular friend from the dictionary <br>\n",
    "d) Modify the phone number of an existing friend  <br>\n",
    "e) Check if a friend is present in the dictionary or\n",
    "not <br>\n",
    "f) Display the dictionary in sorted order of names**"
   ]
  },
  {
   "cell_type": "code",
   "execution_count": null,
   "id": "02ed430b-1756-44cc-968e-f11953bb0cc6",
   "metadata": {},
   "outputs": [],
   "source": []
  }
 ],
 "metadata": {
  "kernelspec": {
   "display_name": "Python 3 (ipykernel)",
   "language": "python",
   "name": "python3"
  },
  "language_info": {
   "codemirror_mode": {
    "name": "ipython",
    "version": 3
   },
   "file_extension": ".py",
   "mimetype": "text/x-python",
   "name": "python",
   "nbconvert_exporter": "python",
   "pygments_lexer": "ipython3",
   "version": "3.10.5"
  }
 },
 "nbformat": 4,
 "nbformat_minor": 5
}
