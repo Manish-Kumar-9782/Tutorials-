{
 "cells": [
  {
   "cell_type": "markdown",
   "id": "39833baa-792e-4e03-bc9a-614fb1987941",
   "metadata": {},
   "source": [
    "`Question 1:` **. Write a program to read email IDs of n number of\n",
    "students and store them in a tuple. Create two new\n",
    "tuples, one to store only the usernames from the\n",
    "email IDs and second to store domain names from\n",
    "the email IDs. Print all three tuples at the end of the\n",
    "program. [Hint: You may use the function split()]** "
   ]
  },
  {
   "cell_type": "code",
   "execution_count": null,
   "id": "84973686-ccda-4c18-add8-eb16bc593ffb",
   "metadata": {},
   "outputs": [],
   "source": []
  }
 ],
 "metadata": {
  "kernelspec": {
   "display_name": "Python 3 (ipykernel)",
   "language": "python",
   "name": "python3"
  },
  "language_info": {
   "codemirror_mode": {
    "name": "ipython",
    "version": 3
   },
   "file_extension": ".py",
   "mimetype": "text/x-python",
   "name": "python",
   "nbconvert_exporter": "python",
   "pygments_lexer": "ipython3",
   "version": "3.10.5"
  }
 },
 "nbformat": 4,
 "nbformat_minor": 5
}
