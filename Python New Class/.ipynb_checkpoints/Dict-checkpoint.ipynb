{
 "cells": [
  {
   "cell_type": "markdown",
   "id": "a5980df3-8747-4b3d-977a-f1c86ecb1c20",
   "metadata": {},
   "source": [
    "## Syntax\n",
    "\n",
    "```python\n",
    "myDict = {\"name\":chandan, \"age\": 21, \"userid\":1}\n",
    "```"
   ]
  },
  {
   "cell_type": "code",
   "execution_count": 1,
   "id": "9608a8a8-e7ac-44a0-9921-f674bc673289",
   "metadata": {},
   "outputs": [
    {
     "ename": "NameError",
     "evalue": "name 'chandan' is not defined",
     "output_type": "error",
     "traceback": [
      "\u001b[1;31m---------------------------------------------------------------------------\u001b[0m",
      "\u001b[1;31mNameError\u001b[0m                                 Traceback (most recent call last)",
      "Cell \u001b[1;32mIn [1], line 2\u001b[0m\n\u001b[0;32m      1\u001b[0m \u001b[38;5;66;03m# Note: chandan is not defined\u001b[39;00m\n\u001b[1;32m----> 2\u001b[0m myDict \u001b[38;5;241m=\u001b[39m {\u001b[38;5;124m\"\u001b[39m\u001b[38;5;124mname\u001b[39m\u001b[38;5;124m\"\u001b[39m:\u001b[43mchandan\u001b[49m, \u001b[38;5;124m\"\u001b[39m\u001b[38;5;124mage\u001b[39m\u001b[38;5;124m\"\u001b[39m: \u001b[38;5;241m21\u001b[39m, \u001b[38;5;124m\"\u001b[39m\u001b[38;5;124muserid\u001b[39m\u001b[38;5;124m\"\u001b[39m:\u001b[38;5;241m1\u001b[39m}\n",
      "\u001b[1;31mNameError\u001b[0m: name 'chandan' is not defined"
     ]
    }
   ],
   "source": [
    "# Note: chandan is not defined\n",
    "myDict = {\"name\":chandan, \"age\": 21, \"userid\":1}"
   ]
  },
  {
   "cell_type": "code",
   "execution_count": 1,
   "id": "d3c7ee71-7f59-4b31-816f-7aecaf84516a",
   "metadata": {},
   "outputs": [],
   "source": [
    "# defining the chand identifier\n",
    "chandan = \"chandan\"\n",
    "myDict = {\"name\":chandan, \"age\": 21, \"userid\":1}"
   ]
  },
  {
   "cell_type": "code",
   "execution_count": 3,
   "id": "d71f0bb1-02b2-4df3-9093-97a9c55e2458",
   "metadata": {},
   "outputs": [
    {
     "data": {
      "text/plain": [
       "{'name': 'chandan', 'age': 21, 'userid': 1}"
      ]
     },
     "execution_count": 3,
     "metadata": {},
     "output_type": "execute_result"
    }
   ],
   "source": [
    "myDict"
   ]
  },
  {
   "cell_type": "markdown",
   "id": "a17ae846-453e-4f4f-83af-aff391919c4f",
   "metadata": {},
   "source": [
    "## accessing the value from dict"
   ]
  },
  {
   "cell_type": "code",
   "execution_count": 5,
   "id": "7b156522-73a4-4283-ab00-a49ea46ff599",
   "metadata": {},
   "outputs": [
    {
     "data": {
      "text/plain": [
       "'chandan'"
      ]
     },
     "execution_count": 5,
     "metadata": {},
     "output_type": "execute_result"
    }
   ],
   "source": [
    "myDict[\"name\"]\n",
    "# if key 'name' is not define, KeyError we be raised."
   ]
  },
  {
   "cell_type": "code",
   "execution_count": 6,
   "id": "7db8143c-63a1-42a8-8541-2e9e763e9f1e",
   "metadata": {},
   "outputs": [
    {
     "ename": "KeyError",
     "evalue": "'Hello'",
     "output_type": "error",
     "traceback": [
      "\u001b[1;31m---------------------------------------------------------------------------\u001b[0m",
      "\u001b[1;31mKeyError\u001b[0m                                  Traceback (most recent call last)",
      "Cell \u001b[1;32mIn [6], line 1\u001b[0m\n\u001b[1;32m----> 1\u001b[0m \u001b[43mmyDict\u001b[49m\u001b[43m[\u001b[49m\u001b[38;5;124;43m\"\u001b[39;49m\u001b[38;5;124;43mHello\u001b[39;49m\u001b[38;5;124;43m\"\u001b[39;49m\u001b[43m]\u001b[49m\n",
      "\u001b[1;31mKeyError\u001b[0m: 'Hello'"
     ]
    }
   ],
   "source": [
    "myDict[\"Hello\"]\n",
    "# there is no key named as \"Hello\""
   ]
  },
  {
   "cell_type": "code",
   "execution_count": 7,
   "id": "9a0b8b40-fdd8-4377-a186-ab33c741b0c8",
   "metadata": {},
   "outputs": [],
   "source": [
    "# alternative way to access the valur from dict.\n",
    "myDict.get(\"Hello\")"
   ]
  },
  {
   "cell_type": "markdown",
   "id": "dc22f765-172e-4973-ad6d-d47fe781d9f0",
   "metadata": {},
   "source": [
    "## reterival of key and values in sequence\n",
    "\n",
    "1. items\n",
    "2. keys\n",
    "3. values"
   ]
  },
  {
   "cell_type": "markdown",
   "id": "aae00bad-6dac-49c8-bfc7-60e57c501837",
   "metadata": {},
   "source": [
    "```python\n",
    "for value in myDict:\n",
    "    print(value)\n",
    "   print(value) # Note this is out of the scop // IndentationError\n",
    "    \n",
    "```"
   ]
  },
  {
   "cell_type": "code",
   "execution_count": 10,
   "id": "e9dae7c7-1c82-4b63-9e75-4e15feb496e2",
   "metadata": {},
   "outputs": [
    {
     "name": "stdout",
     "output_type": "stream",
     "text": [
      "name  ===>  chandan\n",
      "age  ===>  21\n",
      "userid  ===>  1\n"
     ]
    }
   ],
   "source": [
    "for value in myDict:\n",
    "    print(value, \" ===> \", myDict[value])"
   ]
  },
  {
   "cell_type": "markdown",
   "id": "6978d5a4-18a4-41f2-a1ac-c8f156f5f50b",
   "metadata": {},
   "source": [
    "# keys, values, items"
   ]
  },
  {
   "cell_type": "code",
   "execution_count": 11,
   "id": "a8df4af5-1cf5-4b15-ac8c-b1224c8c31ad",
   "metadata": {},
   "outputs": [
    {
     "data": {
      "text/plain": [
       "dict_keys(['name', 'age', 'userid'])"
      ]
     },
     "execution_count": 11,
     "metadata": {},
     "output_type": "execute_result"
    }
   ],
   "source": [
    "# keys\n",
    "myDict.keys()"
   ]
  },
  {
   "cell_type": "code",
   "execution_count": 12,
   "id": "908cb330-dcf3-4b81-af59-7221c5fd91eb",
   "metadata": {},
   "outputs": [
    {
     "data": {
      "text/plain": [
       "dict_keys"
      ]
     },
     "execution_count": 12,
     "metadata": {},
     "output_type": "execute_result"
    }
   ],
   "source": [
    "type(myDict.keys())"
   ]
  },
  {
   "cell_type": "code",
   "execution_count": 14,
   "id": "29e387c2-824f-47f0-8088-843f62ccbb70",
   "metadata": {},
   "outputs": [
    {
     "data": {
      "text/plain": [
       "dict_keys(['name', 'age', 'userid'])"
      ]
     },
     "execution_count": 14,
     "metadata": {},
     "output_type": "execute_result"
    }
   ],
   "source": [
    "keys = myDict.keys()\n",
    "keys"
   ]
  },
  {
   "cell_type": "code",
   "execution_count": 15,
   "id": "2f9db4c0-40b1-466c-adb2-d01040387629",
   "metadata": {},
   "outputs": [
    {
     "ename": "TypeError",
     "evalue": "'dict_keys' object is not subscriptable",
     "output_type": "error",
     "traceback": [
      "\u001b[1;31m---------------------------------------------------------------------------\u001b[0m",
      "\u001b[1;31mTypeError\u001b[0m                                 Traceback (most recent call last)",
      "Cell \u001b[1;32mIn [15], line 1\u001b[0m\n\u001b[1;32m----> 1\u001b[0m \u001b[43mkeys\u001b[49m\u001b[43m[\u001b[49m\u001b[38;5;241;43m0\u001b[39;49m\u001b[43m]\u001b[49m\n",
      "\u001b[1;31mTypeError\u001b[0m: 'dict_keys' object is not subscriptable"
     ]
    }
   ],
   "source": [
    "keys[0]"
   ]
  },
  {
   "cell_type": "code",
   "execution_count": 16,
   "id": "247f071c-9af7-4179-9c3a-99cc4172c6f0",
   "metadata": {},
   "outputs": [
    {
     "data": {
      "text/plain": [
       "['name', 'age', 'userid']"
      ]
     },
     "execution_count": 16,
     "metadata": {},
     "output_type": "execute_result"
    }
   ],
   "source": [
    "# converting the dict_keys into a list\n",
    "list(keys)"
   ]
  },
  {
   "cell_type": "code",
   "execution_count": 19,
   "id": "f62d9eac-4876-4f46-871b-f6a96294ca2e",
   "metadata": {},
   "outputs": [
    {
     "data": {
      "text/plain": [
       "dict_values(['chandan', 21, 1])"
      ]
     },
     "execution_count": 19,
     "metadata": {},
     "output_type": "execute_result"
    }
   ],
   "source": [
    "values = myDict.values()\n",
    "values"
   ]
  },
  {
   "cell_type": "code",
   "execution_count": 20,
   "id": "4d56625f-c02d-4a0b-891d-46df46d4ac0a",
   "metadata": {},
   "outputs": [
    {
     "data": {
      "text/plain": [
       "dict_values"
      ]
     },
     "execution_count": 20,
     "metadata": {},
     "output_type": "execute_result"
    }
   ],
   "source": [
    "type(values)"
   ]
  },
  {
   "cell_type": "markdown",
   "id": "07ef8f43-2c4d-4685-bbbc-b8216010e0fd",
   "metadata": {},
   "source": [
    "#### items"
   ]
  },
  {
   "cell_type": "code",
   "execution_count": 21,
   "id": "a423baa4-59c1-4d0e-be48-e9f383f7c718",
   "metadata": {},
   "outputs": [
    {
     "data": {
      "text/plain": [
       "dict_items([('name', 'chandan'), ('age', 21), ('userid', 1)])"
      ]
     },
     "execution_count": 21,
     "metadata": {},
     "output_type": "execute_result"
    }
   ],
   "source": [
    "items = myDict.items()\n",
    "items"
   ]
  },
  {
   "cell_type": "code",
   "execution_count": 22,
   "id": "723533b7-1513-4857-bd8c-0a8d7494cd31",
   "metadata": {},
   "outputs": [
    {
     "data": {
      "text/plain": [
       "dict_items"
      ]
     },
     "execution_count": 22,
     "metadata": {},
     "output_type": "execute_result"
    }
   ],
   "source": [
    "type(items)"
   ]
  },
  {
   "cell_type": "code",
   "execution_count": 23,
   "id": "d8fe478a-cb43-4114-99de-9da85b578d0b",
   "metadata": {},
   "outputs": [],
   "source": [
    "# all of three dict_keys, dict_items, dict_values are iterable\n"
   ]
  },
  {
   "cell_type": "code",
   "execution_count": 28,
   "id": "0ed7c4f9-a9cd-4a42-9994-3f69a4580d10",
   "metadata": {},
   "outputs": [],
   "source": [
    "Items = ('name', \"aasif\")\n",
    "    "
   ]
  },
  {
   "cell_type": "code",
   "execution_count": 27,
   "id": "660c3a58-0b56-49d5-b7da-e76619d6b084",
   "metadata": {},
   "outputs": [
    {
     "ename": "ValueError",
     "evalue": "too many values to unpack (expected 2)",
     "output_type": "error",
     "traceback": [
      "\u001b[1;31m---------------------------------------------------------------------------\u001b[0m",
      "\u001b[1;31mValueError\u001b[0m                                Traceback (most recent call last)",
      "Cell \u001b[1;32mIn [27], line 1\u001b[0m\n\u001b[1;32m----> 1\u001b[0m key, value \u001b[38;5;241m=\u001b[39m Items\n",
      "\u001b[1;31mValueError\u001b[0m: too many values to unpack (expected 2)"
     ]
    }
   ],
   "source": [
    "key, value = Items # unpacking "
   ]
  },
  {
   "cell_type": "code",
   "execution_count": 29,
   "id": "49d6a1df-e7f5-492c-a714-99b34b0ee131",
   "metadata": {},
   "outputs": [
    {
     "name": "stdout",
     "output_type": "stream",
     "text": [
      "name ==> chandan\n",
      "age ==> 21\n",
      "userid ==> 1\n"
     ]
    }
   ],
   "source": [
    "for key, value in myDict.items():\n",
    "    print(f\"{key} ==> {value}\")"
   ]
  },
  {
   "cell_type": "code",
   "execution_count": 30,
   "id": "ea9f4e35-27b3-4b43-a9f8-5f40b9aa6ac6",
   "metadata": {},
   "outputs": [
    {
     "name": "stdout",
     "output_type": "stream",
     "text": [
      "Help on class dict in module builtins:\n",
      "\n",
      "class dict(object)\n",
      " |  dict() -> new empty dictionary\n",
      " |  dict(mapping) -> new dictionary initialized from a mapping object's\n",
      " |      (key, value) pairs\n",
      " |  dict(iterable) -> new dictionary initialized as if via:\n",
      " |      d = {}\n",
      " |      for k, v in iterable:\n",
      " |          d[k] = v\n",
      " |  dict(**kwargs) -> new dictionary initialized with the name=value pairs\n",
      " |      in the keyword argument list.  For example:  dict(one=1, two=2)\n",
      " |  \n",
      " |  Built-in subclasses:\n",
      " |      StgDict\n",
      " |  \n",
      " |  Methods defined here:\n",
      " |  \n",
      " |  __contains__(self, key, /)\n",
      " |      True if the dictionary has the specified key, else False.\n",
      " |  \n",
      " |  __delitem__(self, key, /)\n",
      " |      Delete self[key].\n",
      " |  \n",
      " |  __eq__(self, value, /)\n",
      " |      Return self==value.\n",
      " |  \n",
      " |  __ge__(self, value, /)\n",
      " |      Return self>=value.\n",
      " |  \n",
      " |  __getattribute__(self, name, /)\n",
      " |      Return getattr(self, name).\n",
      " |  \n",
      " |  __getitem__(...)\n",
      " |      x.__getitem__(y) <==> x[y]\n",
      " |  \n",
      " |  __gt__(self, value, /)\n",
      " |      Return self>value.\n",
      " |  \n",
      " |  __init__(self, /, *args, **kwargs)\n",
      " |      Initialize self.  See help(type(self)) for accurate signature.\n",
      " |  \n",
      " |  __ior__(self, value, /)\n",
      " |      Return self|=value.\n",
      " |  \n",
      " |  __iter__(self, /)\n",
      " |      Implement iter(self).\n",
      " |  \n",
      " |  __le__(self, value, /)\n",
      " |      Return self<=value.\n",
      " |  \n",
      " |  __len__(self, /)\n",
      " |      Return len(self).\n",
      " |  \n",
      " |  __lt__(self, value, /)\n",
      " |      Return self<value.\n",
      " |  \n",
      " |  __ne__(self, value, /)\n",
      " |      Return self!=value.\n",
      " |  \n",
      " |  __or__(self, value, /)\n",
      " |      Return self|value.\n",
      " |  \n",
      " |  __repr__(self, /)\n",
      " |      Return repr(self).\n",
      " |  \n",
      " |  __reversed__(self, /)\n",
      " |      Return a reverse iterator over the dict keys.\n",
      " |  \n",
      " |  __ror__(self, value, /)\n",
      " |      Return value|self.\n",
      " |  \n",
      " |  __setitem__(self, key, value, /)\n",
      " |      Set self[key] to value.\n",
      " |  \n",
      " |  __sizeof__(...)\n",
      " |      D.__sizeof__() -> size of D in memory, in bytes\n",
      " |  \n",
      " |  clear(...)\n",
      " |      D.clear() -> None.  Remove all items from D.\n",
      " |  \n",
      " |  copy(...)\n",
      " |      D.copy() -> a shallow copy of D\n",
      " |  \n",
      " |  get(self, key, default=None, /)\n",
      " |      Return the value for key if key is in the dictionary, else default.\n",
      " |  \n",
      " |  items(...)\n",
      " |      D.items() -> a set-like object providing a view on D's items\n",
      " |  \n",
      " |  keys(...)\n",
      " |      D.keys() -> a set-like object providing a view on D's keys\n",
      " |  \n",
      " |  pop(...)\n",
      " |      D.pop(k[,d]) -> v, remove specified key and return the corresponding value.\n",
      " |      \n",
      " |      If the key is not found, return the default if given; otherwise,\n",
      " |      raise a KeyError.\n",
      " |  \n",
      " |  popitem(self, /)\n",
      " |      Remove and return a (key, value) pair as a 2-tuple.\n",
      " |      \n",
      " |      Pairs are returned in LIFO (last-in, first-out) order.\n",
      " |      Raises KeyError if the dict is empty.\n",
      " |  \n",
      " |  setdefault(self, key, default=None, /)\n",
      " |      Insert key with a value of default if key is not in the dictionary.\n",
      " |      \n",
      " |      Return the value for key if key is in the dictionary, else default.\n",
      " |  \n",
      " |  update(...)\n",
      " |      D.update([E, ]**F) -> None.  Update D from dict/iterable E and F.\n",
      " |      If E is present and has a .keys() method, then does:  for k in E: D[k] = E[k]\n",
      " |      If E is present and lacks a .keys() method, then does:  for k, v in E: D[k] = v\n",
      " |      In either case, this is followed by: for k in F:  D[k] = F[k]\n",
      " |  \n",
      " |  values(...)\n",
      " |      D.values() -> an object providing a view on D's values\n",
      " |  \n",
      " |  ----------------------------------------------------------------------\n",
      " |  Class methods defined here:\n",
      " |  \n",
      " |  __class_getitem__(...) from builtins.type\n",
      " |      See PEP 585\n",
      " |  \n",
      " |  fromkeys(iterable, value=None, /) from builtins.type\n",
      " |      Create a new dictionary with keys from iterable and values set to value.\n",
      " |  \n",
      " |  ----------------------------------------------------------------------\n",
      " |  Static methods defined here:\n",
      " |  \n",
      " |  __new__(*args, **kwargs) from builtins.type\n",
      " |      Create and return a new object.  See help(type) for accurate signature.\n",
      " |  \n",
      " |  ----------------------------------------------------------------------\n",
      " |  Data and other attributes defined here:\n",
      " |  \n",
      " |  __hash__ = None\n",
      "\n"
     ]
    }
   ],
   "source": [
    "help(dict)"
   ]
  },
  {
   "cell_type": "code",
   "execution_count": 2,
   "id": "0502f1ea-5924-4a21-8a48-42e280ca49d2",
   "metadata": {},
   "outputs": [
    {
     "data": {
      "text/plain": [
       "{'name': 'chandan', 'age': 21, 'userid': 1}"
      ]
     },
     "execution_count": 2,
     "metadata": {},
     "output_type": "execute_result"
    }
   ],
   "source": [
    "myDict"
   ]
  },
  {
   "cell_type": "code",
   "execution_count": 3,
   "id": "befabe9d-0c59-47e8-a4b1-3b968f1c5745",
   "metadata": {},
   "outputs": [
    {
     "data": {
      "text/plain": [
       "21"
      ]
     },
     "execution_count": 3,
     "metadata": {},
     "output_type": "execute_result"
    }
   ],
   "source": [
    "myDict.pop(\"age\")"
   ]
  },
  {
   "cell_type": "code",
   "execution_count": 4,
   "id": "0de5e7c2-89ec-4a98-b73a-145d91a79be6",
   "metadata": {},
   "outputs": [
    {
     "data": {
      "text/plain": [
       "{'name': 'chandan', 'userid': 1}"
      ]
     },
     "execution_count": 4,
     "metadata": {},
     "output_type": "execute_result"
    }
   ],
   "source": [
    "myDict"
   ]
  },
  {
   "cell_type": "code",
   "execution_count": 5,
   "id": "2b3e888c-1595-4f8e-a89d-2c617b159e12",
   "metadata": {},
   "outputs": [
    {
     "data": {
      "text/plain": [
       "('userid', 1)"
      ]
     },
     "execution_count": 5,
     "metadata": {},
     "output_type": "execute_result"
    }
   ],
   "source": [
    "myDict.popitem()"
   ]
  },
  {
   "cell_type": "code",
   "execution_count": 6,
   "id": "8e24ce6d-764b-4c2a-8fbf-f1e8c27b1008",
   "metadata": {},
   "outputs": [],
   "source": [
    "List =[('name', 'chandan'), ('age', 21), ('userid', 1)]"
   ]
  },
  {
   "cell_type": "code",
   "execution_count": 7,
   "id": "537f06f1-acdd-41c1-a2a3-7339125d19b5",
   "metadata": {},
   "outputs": [
    {
     "data": {
      "text/plain": [
       "[('name', 'chandan'), ('age', 21), ('userid', 1)]"
      ]
     },
     "execution_count": 7,
     "metadata": {},
     "output_type": "execute_result"
    }
   ],
   "source": [
    "List"
   ]
  },
  {
   "cell_type": "code",
   "execution_count": 8,
   "id": "5bfa9008-84c9-4dae-87c5-61cd9e1b1894",
   "metadata": {},
   "outputs": [
    {
     "data": {
      "text/plain": [
       "{'name': 'chandan'}"
      ]
     },
     "execution_count": 8,
     "metadata": {},
     "output_type": "execute_result"
    }
   ],
   "source": [
    "myDict"
   ]
  },
  {
   "cell_type": "code",
   "execution_count": 10,
   "id": "ac70098b-d8fc-4d53-b239-75499ab6e707",
   "metadata": {},
   "outputs": [],
   "source": [
    "myDict = dict([('name', 'chandan'), ('age', 21), ('userid', 1)])"
   ]
  },
  {
   "cell_type": "code",
   "execution_count": 11,
   "id": "cd90deb3-84dc-47e7-a167-9a9176d96c64",
   "metadata": {},
   "outputs": [
    {
     "data": {
      "text/plain": [
       "{'name': 'chandan', 'age': 21, 'userid': 1}"
      ]
     },
     "execution_count": 11,
     "metadata": {},
     "output_type": "execute_result"
    }
   ],
   "source": [
    "myDict"
   ]
  },
  {
   "cell_type": "code",
   "execution_count": 12,
   "id": "fad17f0a-116c-4557-91cf-fdbeb52d9472",
   "metadata": {},
   "outputs": [
    {
     "data": {
      "text/plain": [
       "('userid', 1)"
      ]
     },
     "execution_count": 12,
     "metadata": {},
     "output_type": "execute_result"
    }
   ],
   "source": [
    "myDict.popitem()"
   ]
  },
  {
   "cell_type": "code",
   "execution_count": 13,
   "id": "57f4c06d-0673-4c8d-b23f-8d2609028310",
   "metadata": {},
   "outputs": [
    {
     "data": {
      "text/plain": [
       "{'name': 'chandan', 'age': 21}"
      ]
     },
     "execution_count": 13,
     "metadata": {},
     "output_type": "execute_result"
    }
   ],
   "source": [
    "myDict"
   ]
  },
  {
   "cell_type": "code",
   "execution_count": 17,
   "id": "ac79dad7-62f5-4fbb-ac4b-627ae56f0fbb",
   "metadata": {},
   "outputs": [
    {
     "data": {
      "text/plain": [
       "('name', 'chandan')"
      ]
     },
     "execution_count": 17,
     "metadata": {},
     "output_type": "execute_result"
    }
   ],
   "source": [
    "myDict.popitem()"
   ]
  },
  {
   "cell_type": "code",
   "execution_count": 15,
   "id": "f17bcad5-4e23-4816-b659-3c4d0af6b118",
   "metadata": {},
   "outputs": [
    {
     "data": {
      "text/plain": [
       "{'name': 'chandan'}"
      ]
     },
     "execution_count": 15,
     "metadata": {},
     "output_type": "execute_result"
    }
   ],
   "source": [
    "myDict"
   ]
  },
  {
   "cell_type": "code",
   "execution_count": null,
   "id": "011a34cc-00a6-482f-97a8-655e171b9724",
   "metadata": {},
   "outputs": [],
   "source": []
  }
 ],
 "metadata": {
  "kernelspec": {
   "display_name": "Python 3 (ipykernel)",
   "language": "python",
   "name": "python3"
  },
  "language_info": {
   "codemirror_mode": {
    "name": "ipython",
    "version": 3
   },
   "file_extension": ".py",
   "mimetype": "text/x-python",
   "name": "python",
   "nbconvert_exporter": "python",
   "pygments_lexer": "ipython3",
   "version": "3.10.5"
  }
 },
 "nbformat": 4,
 "nbformat_minor": 5
}
