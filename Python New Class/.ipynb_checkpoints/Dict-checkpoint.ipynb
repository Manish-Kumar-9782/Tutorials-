{
 "cells": [
  {
   "cell_type": "markdown",
   "id": "a5980df3-8747-4b3d-977a-f1c86ecb1c20",
   "metadata": {},
   "source": [
    "## Syntax\n",
    "\n",
    "```python\n",
    "myDict = {\"name\":chandan, \"age\": 21, \"userid\":1}\n",
    "```"
   ]
  },
  {
   "cell_type": "code",
   "execution_count": 22,
   "id": "9608a8a8-e7ac-44a0-9921-f674bc673289",
   "metadata": {},
   "outputs": [],
   "source": [
    "# Note: chandan is not defined\n",
    "myDict = {\"name\":chandan, \"age\": 21, \"userid\":1}"
   ]
  },
  {
   "cell_type": "code",
   "execution_count": 23,
   "id": "d3c7ee71-7f59-4b31-816f-7aecaf84516a",
   "metadata": {},
   "outputs": [],
   "source": [
    "# defining the chand identifier\n",
    "chandan = \"chandan\"\n",
    "myDict = {\"name\":chandan, \"age\": 21, \"userid\":1}"
   ]
  },
  {
   "cell_type": "code",
   "execution_count": 24,
   "id": "d71f0bb1-02b2-4df3-9093-97a9c55e2458",
   "metadata": {},
   "outputs": [
    {
     "data": {
      "text/plain": [
       "{'name': 'chandan', 'age': 21, 'userid': 1}"
      ]
     },
     "execution_count": 24,
     "metadata": {},
     "output_type": "execute_result"
    }
   ],
   "source": [
    "myDict"
   ]
  },
  {
   "cell_type": "markdown",
   "id": "a17ae846-453e-4f4f-83af-aff391919c4f",
   "metadata": {},
   "source": [
    "## accessing the value from dict"
   ]
  },
  {
   "cell_type": "code",
   "execution_count": 25,
   "id": "7b156522-73a4-4283-ab00-a49ea46ff599",
   "metadata": {},
   "outputs": [
    {
     "data": {
      "text/plain": [
       "'chandan'"
      ]
     },
     "execution_count": 25,
     "metadata": {},
     "output_type": "execute_result"
    }
   ],
   "source": [
    "myDict[\"name\"]\n",
    "# if key 'name' is not define, KeyError we be raised."
   ]
  },
  {
   "cell_type": "code",
   "execution_count": 26,
   "id": "7db8143c-63a1-42a8-8541-2e9e763e9f1e",
   "metadata": {},
   "outputs": [
    {
     "ename": "KeyError",
     "evalue": "'Hello'",
     "output_type": "error",
     "traceback": [
      "\u001b[1;31m---------------------------------------------------------------------------\u001b[0m",
      "\u001b[1;31mKeyError\u001b[0m                                  Traceback (most recent call last)",
      "Cell \u001b[1;32mIn [26], line 1\u001b[0m\n\u001b[1;32m----> 1\u001b[0m \u001b[43mmyDict\u001b[49m\u001b[43m[\u001b[49m\u001b[38;5;124;43m\"\u001b[39;49m\u001b[38;5;124;43mHello\u001b[39;49m\u001b[38;5;124;43m\"\u001b[39;49m\u001b[43m]\u001b[49m\n",
      "\u001b[1;31mKeyError\u001b[0m: 'Hello'"
     ]
    }
   ],
   "source": [
    "myDict[\"Hello\"]\n",
    "# there is no key named as \"Hello\""
   ]
  },
  {
   "cell_type": "code",
   "execution_count": 27,
   "id": "9a0b8b40-fdd8-4377-a186-ab33c741b0c8",
   "metadata": {},
   "outputs": [],
   "source": [
    "# alternative way to access the valur from dict.\n",
    "myDict.get(\"Hello\")"
   ]
  },
  {
   "cell_type": "markdown",
   "id": "dc22f765-172e-4973-ad6d-d47fe781d9f0",
   "metadata": {},
   "source": [
    "## reterival of key and values in sequence\n",
    "\n",
    "1. items\n",
    "2. keys\n",
    "3. values"
   ]
  },
  {
   "cell_type": "markdown",
   "id": "aae00bad-6dac-49c8-bfc7-60e57c501837",
   "metadata": {},
   "source": [
    "```python\n",
    "for value in myDict:\n",
    "    print(value)\n",
    "   print(value) # Note this is out of the scop // IndentationError\n",
    "    \n",
    "```"
   ]
  },
  {
   "cell_type": "code",
   "execution_count": 28,
   "id": "e9dae7c7-1c82-4b63-9e75-4e15feb496e2",
   "metadata": {},
   "outputs": [
    {
     "name": "stdout",
     "output_type": "stream",
     "text": [
      "name  ===>  chandan\n",
      "age  ===>  21\n",
      "userid  ===>  1\n"
     ]
    }
   ],
   "source": [
    "for value in myDict:\n",
    "    print(value, \" ===> \", myDict[value])"
   ]
  },
  {
   "cell_type": "markdown",
   "id": "6978d5a4-18a4-41f2-a1ac-c8f156f5f50b",
   "metadata": {},
   "source": [
    "# keys, values, items"
   ]
  },
  {
   "cell_type": "code",
   "execution_count": 29,
   "id": "a8df4af5-1cf5-4b15-ac8c-b1224c8c31ad",
   "metadata": {},
   "outputs": [
    {
     "data": {
      "text/plain": [
       "dict_keys(['name', 'age', 'userid'])"
      ]
     },
     "execution_count": 29,
     "metadata": {},
     "output_type": "execute_result"
    }
   ],
   "source": [
    "# keys\n",
    "myDict.keys()"
   ]
  },
  {
   "cell_type": "code",
   "execution_count": 30,
   "id": "908cb330-dcf3-4b81-af59-7221c5fd91eb",
   "metadata": {},
   "outputs": [
    {
     "data": {
      "text/plain": [
       "dict_keys"
      ]
     },
     "execution_count": 30,
     "metadata": {},
     "output_type": "execute_result"
    }
   ],
   "source": [
    "type(myDict.keys())"
   ]
  },
  {
   "cell_type": "code",
   "execution_count": 31,
   "id": "29e387c2-824f-47f0-8088-843f62ccbb70",
   "metadata": {},
   "outputs": [
    {
     "data": {
      "text/plain": [
       "dict_keys(['name', 'age', 'userid'])"
      ]
     },
     "execution_count": 31,
     "metadata": {},
     "output_type": "execute_result"
    }
   ],
   "source": [
    "keys = myDict.keys()\n",
    "keys"
   ]
  },
  {
   "cell_type": "code",
   "execution_count": 32,
   "id": "2f9db4c0-40b1-466c-adb2-d01040387629",
   "metadata": {},
   "outputs": [
    {
     "ename": "TypeError",
     "evalue": "'dict_keys' object is not subscriptable",
     "output_type": "error",
     "traceback": [
      "\u001b[1;31m---------------------------------------------------------------------------\u001b[0m",
      "\u001b[1;31mTypeError\u001b[0m                                 Traceback (most recent call last)",
      "Cell \u001b[1;32mIn [32], line 1\u001b[0m\n\u001b[1;32m----> 1\u001b[0m \u001b[43mkeys\u001b[49m\u001b[43m[\u001b[49m\u001b[38;5;241;43m0\u001b[39;49m\u001b[43m]\u001b[49m\n",
      "\u001b[1;31mTypeError\u001b[0m: 'dict_keys' object is not subscriptable"
     ]
    }
   ],
   "source": [
    "keys[0]"
   ]
  },
  {
   "cell_type": "code",
   "execution_count": 33,
   "id": "247f071c-9af7-4179-9c3a-99cc4172c6f0",
   "metadata": {},
   "outputs": [
    {
     "data": {
      "text/plain": [
       "['name', 'age', 'userid']"
      ]
     },
     "execution_count": 33,
     "metadata": {},
     "output_type": "execute_result"
    }
   ],
   "source": [
    "# converting the dict_keys into a list\n",
    "list(keys)"
   ]
  },
  {
   "cell_type": "code",
   "execution_count": 34,
   "id": "f62d9eac-4876-4f46-871b-f6a96294ca2e",
   "metadata": {},
   "outputs": [
    {
     "data": {
      "text/plain": [
       "dict_values(['chandan', 21, 1])"
      ]
     },
     "execution_count": 34,
     "metadata": {},
     "output_type": "execute_result"
    }
   ],
   "source": [
    "values = myDict.values()\n",
    "values"
   ]
  },
  {
   "cell_type": "code",
   "execution_count": 35,
   "id": "4d56625f-c02d-4a0b-891d-46df46d4ac0a",
   "metadata": {},
   "outputs": [
    {
     "data": {
      "text/plain": [
       "dict_values"
      ]
     },
     "execution_count": 35,
     "metadata": {},
     "output_type": "execute_result"
    }
   ],
   "source": [
    "type(values)"
   ]
  },
  {
   "cell_type": "markdown",
   "id": "07ef8f43-2c4d-4685-bbbc-b8216010e0fd",
   "metadata": {},
   "source": [
    "#### items"
   ]
  },
  {
   "cell_type": "code",
   "execution_count": 36,
   "id": "a423baa4-59c1-4d0e-be48-e9f383f7c718",
   "metadata": {},
   "outputs": [
    {
     "data": {
      "text/plain": [
       "dict_items([('name', 'chandan'), ('age', 21), ('userid', 1)])"
      ]
     },
     "execution_count": 36,
     "metadata": {},
     "output_type": "execute_result"
    }
   ],
   "source": [
    "items = myDict.items()\n",
    "items"
   ]
  },
  {
   "cell_type": "code",
   "execution_count": 37,
   "id": "723533b7-1513-4857-bd8c-0a8d7494cd31",
   "metadata": {},
   "outputs": [
    {
     "data": {
      "text/plain": [
       "dict_items"
      ]
     },
     "execution_count": 37,
     "metadata": {},
     "output_type": "execute_result"
    }
   ],
   "source": [
    "type(items)"
   ]
  },
  {
   "cell_type": "code",
   "execution_count": 38,
   "id": "d8fe478a-cb43-4114-99de-9da85b578d0b",
   "metadata": {},
   "outputs": [],
   "source": [
    "# all of three dict_keys, dict_items, dict_values are iterable\n"
   ]
  },
  {
   "cell_type": "code",
   "execution_count": 39,
   "id": "0ed7c4f9-a9cd-4a42-9994-3f69a4580d10",
   "metadata": {},
   "outputs": [],
   "source": [
    "Items = ('name', \"aasif\")\n",
    "    "
   ]
  },
  {
   "cell_type": "code",
   "execution_count": 40,
   "id": "660c3a58-0b56-49d5-b7da-e76619d6b084",
   "metadata": {},
   "outputs": [],
   "source": [
    "key, value = Items # unpacking "
   ]
  },
  {
   "cell_type": "code",
   "execution_count": 41,
   "id": "49d6a1df-e7f5-492c-a714-99b34b0ee131",
   "metadata": {},
   "outputs": [
    {
     "name": "stdout",
     "output_type": "stream",
     "text": [
      "name ==> chandan\n",
      "age ==> 21\n",
      "userid ==> 1\n"
     ]
    }
   ],
   "source": [
    "for key, value in myDict.items():\n",
    "    print(f\"{key} ==> {value}\")"
   ]
  },
  {
   "cell_type": "code",
   "execution_count": 42,
   "id": "ea9f4e35-27b3-4b43-a9f8-5f40b9aa6ac6",
   "metadata": {},
   "outputs": [
    {
     "name": "stdout",
     "output_type": "stream",
     "text": [
      "Help on class dict in module builtins:\n",
      "\n",
      "class dict(object)\n",
      " |  dict() -> new empty dictionary\n",
      " |  dict(mapping) -> new dictionary initialized from a mapping object's\n",
      " |      (key, value) pairs\n",
      " |  dict(iterable) -> new dictionary initialized as if via:\n",
      " |      d = {}\n",
      " |      for k, v in iterable:\n",
      " |          d[k] = v\n",
      " |  dict(**kwargs) -> new dictionary initialized with the name=value pairs\n",
      " |      in the keyword argument list.  For example:  dict(one=1, two=2)\n",
      " |  \n",
      " |  Built-in subclasses:\n",
      " |      StgDict\n",
      " |  \n",
      " |  Methods defined here:\n",
      " |  \n",
      " |  __contains__(self, key, /)\n",
      " |      True if the dictionary has the specified key, else False.\n",
      " |  \n",
      " |  __delitem__(self, key, /)\n",
      " |      Delete self[key].\n",
      " |  \n",
      " |  __eq__(self, value, /)\n",
      " |      Return self==value.\n",
      " |  \n",
      " |  __ge__(self, value, /)\n",
      " |      Return self>=value.\n",
      " |  \n",
      " |  __getattribute__(self, name, /)\n",
      " |      Return getattr(self, name).\n",
      " |  \n",
      " |  __getitem__(...)\n",
      " |      x.__getitem__(y) <==> x[y]\n",
      " |  \n",
      " |  __gt__(self, value, /)\n",
      " |      Return self>value.\n",
      " |  \n",
      " |  __init__(self, /, *args, **kwargs)\n",
      " |      Initialize self.  See help(type(self)) for accurate signature.\n",
      " |  \n",
      " |  __ior__(self, value, /)\n",
      " |      Return self|=value.\n",
      " |  \n",
      " |  __iter__(self, /)\n",
      " |      Implement iter(self).\n",
      " |  \n",
      " |  __le__(self, value, /)\n",
      " |      Return self<=value.\n",
      " |  \n",
      " |  __len__(self, /)\n",
      " |      Return len(self).\n",
      " |  \n",
      " |  __lt__(self, value, /)\n",
      " |      Return self<value.\n",
      " |  \n",
      " |  __ne__(self, value, /)\n",
      " |      Return self!=value.\n",
      " |  \n",
      " |  __or__(self, value, /)\n",
      " |      Return self|value.\n",
      " |  \n",
      " |  __repr__(self, /)\n",
      " |      Return repr(self).\n",
      " |  \n",
      " |  __reversed__(self, /)\n",
      " |      Return a reverse iterator over the dict keys.\n",
      " |  \n",
      " |  __ror__(self, value, /)\n",
      " |      Return value|self.\n",
      " |  \n",
      " |  __setitem__(self, key, value, /)\n",
      " |      Set self[key] to value.\n",
      " |  \n",
      " |  __sizeof__(...)\n",
      " |      D.__sizeof__() -> size of D in memory, in bytes\n",
      " |  \n",
      " |  clear(...)\n",
      " |      D.clear() -> None.  Remove all items from D.\n",
      " |  \n",
      " |  copy(...)\n",
      " |      D.copy() -> a shallow copy of D\n",
      " |  \n",
      " |  get(self, key, default=None, /)\n",
      " |      Return the value for key if key is in the dictionary, else default.\n",
      " |  \n",
      " |  items(...)\n",
      " |      D.items() -> a set-like object providing a view on D's items\n",
      " |  \n",
      " |  keys(...)\n",
      " |      D.keys() -> a set-like object providing a view on D's keys\n",
      " |  \n",
      " |  pop(...)\n",
      " |      D.pop(k[,d]) -> v, remove specified key and return the corresponding value.\n",
      " |      \n",
      " |      If the key is not found, return the default if given; otherwise,\n",
      " |      raise a KeyError.\n",
      " |  \n",
      " |  popitem(self, /)\n",
      " |      Remove and return a (key, value) pair as a 2-tuple.\n",
      " |      \n",
      " |      Pairs are returned in LIFO (last-in, first-out) order.\n",
      " |      Raises KeyError if the dict is empty.\n",
      " |  \n",
      " |  setdefault(self, key, default=None, /)\n",
      " |      Insert key with a value of default if key is not in the dictionary.\n",
      " |      \n",
      " |      Return the value for key if key is in the dictionary, else default.\n",
      " |  \n",
      " |  update(...)\n",
      " |      D.update([E, ]**F) -> None.  Update D from dict/iterable E and F.\n",
      " |      If E is present and has a .keys() method, then does:  for k in E: D[k] = E[k]\n",
      " |      If E is present and lacks a .keys() method, then does:  for k, v in E: D[k] = v\n",
      " |      In either case, this is followed by: for k in F:  D[k] = F[k]\n",
      " |  \n",
      " |  values(...)\n",
      " |      D.values() -> an object providing a view on D's values\n",
      " |  \n",
      " |  ----------------------------------------------------------------------\n",
      " |  Class methods defined here:\n",
      " |  \n",
      " |  __class_getitem__(...) from builtins.type\n",
      " |      See PEP 585\n",
      " |  \n",
      " |  fromkeys(iterable, value=None, /) from builtins.type\n",
      " |      Create a new dictionary with keys from iterable and values set to value.\n",
      " |  \n",
      " |  ----------------------------------------------------------------------\n",
      " |  Static methods defined here:\n",
      " |  \n",
      " |  __new__(*args, **kwargs) from builtins.type\n",
      " |      Create and return a new object.  See help(type) for accurate signature.\n",
      " |  \n",
      " |  ----------------------------------------------------------------------\n",
      " |  Data and other attributes defined here:\n",
      " |  \n",
      " |  __hash__ = None\n",
      "\n"
     ]
    }
   ],
   "source": [
    "help(dict)"
   ]
  },
  {
   "cell_type": "code",
   "execution_count": 43,
   "id": "0502f1ea-5924-4a21-8a48-42e280ca49d2",
   "metadata": {},
   "outputs": [
    {
     "data": {
      "text/plain": [
       "{'name': 'chandan', 'age': 21, 'userid': 1}"
      ]
     },
     "execution_count": 43,
     "metadata": {},
     "output_type": "execute_result"
    }
   ],
   "source": [
    "myDict"
   ]
  },
  {
   "cell_type": "code",
   "execution_count": 44,
   "id": "befabe9d-0c59-47e8-a4b1-3b968f1c5745",
   "metadata": {},
   "outputs": [
    {
     "data": {
      "text/plain": [
       "21"
      ]
     },
     "execution_count": 44,
     "metadata": {},
     "output_type": "execute_result"
    }
   ],
   "source": [
    "myDict.pop(\"age\")"
   ]
  },
  {
   "cell_type": "code",
   "execution_count": 45,
   "id": "0de5e7c2-89ec-4a98-b73a-145d91a79be6",
   "metadata": {},
   "outputs": [
    {
     "data": {
      "text/plain": [
       "{'name': 'chandan', 'userid': 1}"
      ]
     },
     "execution_count": 45,
     "metadata": {},
     "output_type": "execute_result"
    }
   ],
   "source": [
    "myDict"
   ]
  },
  {
   "cell_type": "code",
   "execution_count": 46,
   "id": "2b3e888c-1595-4f8e-a89d-2c617b159e12",
   "metadata": {},
   "outputs": [
    {
     "data": {
      "text/plain": [
       "('userid', 1)"
      ]
     },
     "execution_count": 46,
     "metadata": {},
     "output_type": "execute_result"
    }
   ],
   "source": [
    "myDict.popitem()"
   ]
  },
  {
   "cell_type": "code",
   "execution_count": 47,
   "id": "8e24ce6d-764b-4c2a-8fbf-f1e8c27b1008",
   "metadata": {},
   "outputs": [],
   "source": [
    "List =[('name', 'chandan'), ('age', 21), ('userid', 1)]"
   ]
  },
  {
   "cell_type": "code",
   "execution_count": 48,
   "id": "537f06f1-acdd-41c1-a2a3-7339125d19b5",
   "metadata": {},
   "outputs": [
    {
     "data": {
      "text/plain": [
       "[('name', 'chandan'), ('age', 21), ('userid', 1)]"
      ]
     },
     "execution_count": 48,
     "metadata": {},
     "output_type": "execute_result"
    }
   ],
   "source": [
    "List"
   ]
  },
  {
   "cell_type": "code",
   "execution_count": 49,
   "id": "5bfa9008-84c9-4dae-87c5-61cd9e1b1894",
   "metadata": {},
   "outputs": [
    {
     "data": {
      "text/plain": [
       "{'name': 'chandan'}"
      ]
     },
     "execution_count": 49,
     "metadata": {},
     "output_type": "execute_result"
    }
   ],
   "source": [
    "myDict"
   ]
  },
  {
   "cell_type": "code",
   "execution_count": 57,
   "id": "ac70098b-d8fc-4d53-b239-75499ab6e707",
   "metadata": {},
   "outputs": [],
   "source": [
    "myDict = dict([('name', 'chandan'), ('age', 21), ('userid', 1)])"
   ]
  },
  {
   "cell_type": "code",
   "execution_count": 51,
   "id": "cd90deb3-84dc-47e7-a167-9a9176d96c64",
   "metadata": {},
   "outputs": [
    {
     "data": {
      "text/plain": [
       "{'name': 'chandan', 'age': 21, 'userid': 1}"
      ]
     },
     "execution_count": 51,
     "metadata": {},
     "output_type": "execute_result"
    }
   ],
   "source": [
    "myDict"
   ]
  },
  {
   "cell_type": "code",
   "execution_count": 52,
   "id": "fad17f0a-116c-4557-91cf-fdbeb52d9472",
   "metadata": {},
   "outputs": [
    {
     "data": {
      "text/plain": [
       "('userid', 1)"
      ]
     },
     "execution_count": 52,
     "metadata": {},
     "output_type": "execute_result"
    }
   ],
   "source": [
    "myDict.popitem()"
   ]
  },
  {
   "cell_type": "code",
   "execution_count": 53,
   "id": "57f4c06d-0673-4c8d-b23f-8d2609028310",
   "metadata": {},
   "outputs": [
    {
     "data": {
      "text/plain": [
       "{'name': 'chandan', 'age': 21}"
      ]
     },
     "execution_count": 53,
     "metadata": {},
     "output_type": "execute_result"
    }
   ],
   "source": [
    "myDict"
   ]
  },
  {
   "cell_type": "code",
   "execution_count": 54,
   "id": "ac79dad7-62f5-4fbb-ac4b-627ae56f0fbb",
   "metadata": {},
   "outputs": [
    {
     "data": {
      "text/plain": [
       "('age', 21)"
      ]
     },
     "execution_count": 54,
     "metadata": {},
     "output_type": "execute_result"
    }
   ],
   "source": [
    "myDict.popitem()"
   ]
  },
  {
   "cell_type": "code",
   "execution_count": 55,
   "id": "f17bcad5-4e23-4816-b659-3c4d0af6b118",
   "metadata": {},
   "outputs": [
    {
     "data": {
      "text/plain": [
       "{'name': 'chandan'}"
      ]
     },
     "execution_count": 55,
     "metadata": {},
     "output_type": "execute_result"
    }
   ],
   "source": [
    "myDict"
   ]
  },
  {
   "cell_type": "code",
   "execution_count": 58,
   "id": "011a34cc-00a6-482f-97a8-655e171b9724",
   "metadata": {},
   "outputs": [
    {
     "data": {
      "text/plain": [
       "{'name': 'chandan', 'age': 21, 'userid': 1}"
      ]
     },
     "execution_count": 58,
     "metadata": {},
     "output_type": "execute_result"
    }
   ],
   "source": [
    "myDict"
   ]
  },
  {
   "cell_type": "code",
   "execution_count": 59,
   "id": "3d30479c-d3d4-49a1-8ad8-4ed899572172",
   "metadata": {},
   "outputs": [
    {
     "data": {
      "text/plain": [
       "58"
      ]
     },
     "execution_count": 59,
     "metadata": {},
     "output_type": "execute_result"
    }
   ],
   "source": [
    "myDict.setdefault(\"weight\", 58)"
   ]
  },
  {
   "cell_type": "code",
   "execution_count": 60,
   "id": "595175cb-cc16-437a-940e-d10decfa72db",
   "metadata": {},
   "outputs": [
    {
     "data": {
      "text/plain": [
       "{'name': 'chandan', 'age': 21, 'userid': 1, 'weight': 58}"
      ]
     },
     "execution_count": 60,
     "metadata": {},
     "output_type": "execute_result"
    }
   ],
   "source": [
    "myDict"
   ]
  },
  {
   "cell_type": "code",
   "execution_count": 61,
   "id": "c90792a2-3ce4-4aa2-b271-35101505ad2b",
   "metadata": {},
   "outputs": [
    {
     "data": {
      "text/plain": [
       "21"
      ]
     },
     "execution_count": 61,
     "metadata": {},
     "output_type": "execute_result"
    }
   ],
   "source": [
    "myDict.setdefault(\"age\",45)"
   ]
  },
  {
   "cell_type": "code",
   "execution_count": 62,
   "id": "aa94249d-9c71-4a3d-96b3-2d7d5ea02618",
   "metadata": {},
   "outputs": [
    {
     "data": {
      "text/plain": [
       "{'name': 'chandan', 'age': 21, 'userid': 1, 'weight': 58}"
      ]
     },
     "execution_count": 62,
     "metadata": {},
     "output_type": "execute_result"
    }
   ],
   "source": [
    "myDict"
   ]
  },
  {
   "cell_type": "code",
   "execution_count": 63,
   "id": "13b00a3e-3ad4-4572-8164-374ba1efc034",
   "metadata": {},
   "outputs": [],
   "source": [
    "myDict.update({\"age\":45})"
   ]
  },
  {
   "cell_type": "code",
   "execution_count": 64,
   "id": "4bc00346-9ae5-42d5-b658-eec05ff2a9ec",
   "metadata": {},
   "outputs": [
    {
     "data": {
      "text/plain": [
       "{'name': 'chandan', 'age': 45, 'userid': 1, 'weight': 58}"
      ]
     },
     "execution_count": 64,
     "metadata": {},
     "output_type": "execute_result"
    }
   ],
   "source": [
    "myDict"
   ]
  },
  {
   "cell_type": "code",
   "execution_count": 66,
   "id": "6f5fe864-b82b-400e-9d65-bdf5b17c2946",
   "metadata": {},
   "outputs": [],
   "source": [
    "myDict.update({\"name\":\"Aasif\", \"height\":5.6, 'weight':60})"
   ]
  },
  {
   "cell_type": "code",
   "execution_count": 67,
   "id": "69590e6c-616b-4f33-9aee-b79466eae558",
   "metadata": {},
   "outputs": [
    {
     "data": {
      "text/plain": [
       "{'name': 'Aasif', 'age': 45, 'userid': 1, 'weight': 60, 'height': 5.6}"
      ]
     },
     "execution_count": 67,
     "metadata": {},
     "output_type": "execute_result"
    }
   ],
   "source": [
    "myDict"
   ]
  },
  {
   "cell_type": "markdown",
   "id": "5a2c90da-998b-426e-89b3-28ff05fa14e1",
   "metadata": {},
   "source": [
    "## function and for loop"
   ]
  },
  {
   "cell_type": "code",
   "execution_count": 70,
   "id": "6b279449-b9d9-4839-9768-58b5cc3f0889",
   "metadata": {},
   "outputs": [],
   "source": [
    "def Sum(a,b):\n",
    "    print(\"value of a: \", a)\n",
    "    print(\"value of b: \", b)\n",
    "    return a+b"
   ]
  },
  {
   "cell_type": "code",
   "execution_count": 71,
   "id": "59d71310-c2a8-427f-9afd-48cdfb2b7f0a",
   "metadata": {},
   "outputs": [
    {
     "name": "stdout",
     "output_type": "stream",
     "text": [
      "value of a:  10\n",
      "value of b:  39\n"
     ]
    },
    {
     "data": {
      "text/plain": [
       "49"
      ]
     },
     "execution_count": 71,
     "metadata": {},
     "output_type": "execute_result"
    }
   ],
   "source": [
    "Sum(10,39)"
   ]
  },
  {
   "cell_type": "code",
   "execution_count": 72,
   "id": "60f82bc5-ebc2-4505-84f3-e99e3a30c4f7",
   "metadata": {},
   "outputs": [
    {
     "name": "stdout",
     "output_type": "stream",
     "text": [
      "value of a:  45\n",
      "value of b:  84\n"
     ]
    },
    {
     "data": {
      "text/plain": [
       "129"
      ]
     },
     "execution_count": 72,
     "metadata": {},
     "output_type": "execute_result"
    }
   ],
   "source": [
    "Sum(b=84, a = 45)"
   ]
  },
  {
   "cell_type": "markdown",
   "id": "9e4fd8aa-af21-437a-9e8c-7004cc9cbe66",
   "metadata": {},
   "source": [
    "#### range()"
   ]
  },
  {
   "cell_type": "code",
   "execution_count": 78,
   "id": "748c8d43-83c6-4ddd-b7a1-947c30aeb65d",
   "metadata": {},
   "outputs": [
    {
     "data": {
      "text/plain": [
       "[-10, -7, -4, -1, 2, 5, 8]"
      ]
     },
     "execution_count": 78,
     "metadata": {},
     "output_type": "execute_result"
    }
   ],
   "source": [
    "list(range(-10,10, 3))"
   ]
  },
  {
   "cell_type": "markdown",
   "id": "ee082a74-24a4-45d7-aa45-7cd76bb709f6",
   "metadata": {},
   "source": [
    "## for loop"
   ]
  },
  {
   "cell_type": "code",
   "execution_count": null,
   "id": "5a897291-0fc9-4f67-ba41-a6aaed80b52b",
   "metadata": {},
   "outputs": [],
   "source": []
  },
  {
   "cell_type": "code",
   "execution_count": 83,
   "id": "33c270cd-9759-4d7b-8182-1ec1883dbbbc",
   "metadata": {},
   "outputs": [
    {
     "name": "stdout",
     "output_type": "stream",
     "text": [
      "Hello-world----Hello-world----"
     ]
    }
   ],
   "source": [
    "print(\"Hello\", \"world\",sep=\"-\",end=\"----\")\n",
    "print(\"Hello\", \"world\",sep=\"-\",end=\"----\")"
   ]
  },
  {
   "cell_type": "code",
   "execution_count": 84,
   "id": "14c0842f-791b-4a6d-a7b5-ac8c4ccf6f7e",
   "metadata": {},
   "outputs": [
    {
     "name": "stdout",
     "output_type": "stream",
     "text": [
      "1--2--3--4--5--6--7--8--9--10--11--12--13--14--15--16--17--18--19--"
     ]
    }
   ],
   "source": [
    "for value in range(1,20):\n",
    "    print(value, end=\"--\")"
   ]
  },
  {
   "cell_type": "code",
   "execution_count": 1,
   "id": "08b28c07-3520-42db-a11f-4d9cb743b8e4",
   "metadata": {},
   "outputs": [
    {
     "name": "stdin",
     "output_type": "stream",
     "text": [
      "User Input:  i am good\n"
     ]
    },
    {
     "data": {
      "text/plain": [
       "'i am good'"
      ]
     },
     "execution_count": 1,
     "metadata": {},
     "output_type": "execute_result"
    }
   ],
   "source": [
    "input(\"User Input: \")"
   ]
  },
  {
   "cell_type": "code",
   "execution_count": 4,
   "id": "403dac3f-5467-46e5-9280-03b5c3e318a5",
   "metadata": {},
   "outputs": [
    {
     "name": "stdin",
     "output_type": "stream",
     "text": [
      "User Input:  1\n"
     ]
    }
   ],
   "source": [
    "userInput = input(\"User Input: \")"
   ]
  },
  {
   "cell_type": "code",
   "execution_count": 6,
   "id": "2f7dfc63-0338-46a3-9041-9f33bd321e1c",
   "metadata": {},
   "outputs": [
    {
     "data": {
      "text/plain": [
       "str"
      ]
     },
     "execution_count": 6,
     "metadata": {},
     "output_type": "execute_result"
    }
   ],
   "source": [
    "type(userInput)"
   ]
  },
  {
   "cell_type": "code",
   "execution_count": 7,
   "id": "26f8fb41-c6e2-43df-b57b-3c030c35135a",
   "metadata": {},
   "outputs": [
    {
     "data": {
      "text/plain": [
       "int"
      ]
     },
     "execution_count": 7,
     "metadata": {},
     "output_type": "execute_result"
    }
   ],
   "source": [
    "type(int(userInput))"
   ]
  },
  {
   "cell_type": "code",
   "execution_count": 8,
   "id": "5d47ff4d-e846-4513-bd8e-ac8ee7dd526c",
   "metadata": {},
   "outputs": [],
   "source": [
    "# int(), float(), str(), list(), tuple(), set(), dict()"
   ]
  },
  {
   "cell_type": "code",
   "execution_count": 28,
   "id": "f61836e9-6b53-4131-8627-84244cc25f6e",
   "metadata": {},
   "outputs": [],
   "source": [
    "def isPrime(number):\n",
    "    \n",
    "    if number == 1:\n",
    "        return True\n",
    "    \n",
    "    if number > 1:\n",
    "        # here number is exclusive\n",
    "        for i in range(2,number):\n",
    "            # print(f\"{number}%{i}==> {number%i}\")\n",
    "            if number % i == 0:\n",
    "                return False\n",
    "        return True"
   ]
  },
  {
   "cell_type": "code",
   "execution_count": 29,
   "id": "87744514-8037-4c43-b2d4-a61e5a49fed6",
   "metadata": {},
   "outputs": [
    {
     "data": {
      "text/plain": [
       "True"
      ]
     },
     "execution_count": 29,
     "metadata": {},
     "output_type": "execute_result"
    }
   ],
   "source": [
    "isPrime(5)"
   ]
  },
  {
   "cell_type": "code",
   "execution_count": 30,
   "id": "3c730c82-d540-426b-a06e-2ba50d863c97",
   "metadata": {},
   "outputs": [
    {
     "data": {
      "text/plain": [
       "False"
      ]
     },
     "execution_count": 30,
     "metadata": {},
     "output_type": "execute_result"
    }
   ],
   "source": [
    "isPrime(4)"
   ]
  },
  {
   "cell_type": "code",
   "execution_count": 31,
   "id": "ae8d2564-c719-4d56-988b-434e6b084ddf",
   "metadata": {},
   "outputs": [
    {
     "data": {
      "text/plain": [
       "True"
      ]
     },
     "execution_count": 31,
     "metadata": {},
     "output_type": "execute_result"
    }
   ],
   "source": [
    "isPrime(7)"
   ]
  },
  {
   "cell_type": "code",
   "execution_count": 32,
   "id": "f6b28d08-ffd5-422a-bcdc-fb17f2c5f262",
   "metadata": {},
   "outputs": [
    {
     "data": {
      "text/plain": [
       "True"
      ]
     },
     "execution_count": 32,
     "metadata": {},
     "output_type": "execute_result"
    }
   ],
   "source": [
    "isPrime(179)"
   ]
  },
  {
   "cell_type": "code",
   "execution_count": 39,
   "id": "6ccf78b2-2bfd-4c6a-ba53-1cbb62f9b50f",
   "metadata": {},
   "outputs": [],
   "source": [
    "def primeNumbers(start, end):\n",
    "    primes = []  # to store all prime number\n",
    "    for i in range(start, end):\n",
    "        if isPrime(i):\n",
    "            primes.append(i)\n",
    "            \n",
    "    return (primes, len(primes)) # tuple"
   ]
  },
  {
   "cell_type": "code",
   "execution_count": 40,
   "id": "0f538d86-2a76-4195-a0b3-7c758b094e14",
   "metadata": {},
   "outputs": [
    {
     "data": {
      "text/plain": [
       "([101,\n",
       "  103,\n",
       "  107,\n",
       "  109,\n",
       "  113,\n",
       "  127,\n",
       "  131,\n",
       "  137,\n",
       "  139,\n",
       "  149,\n",
       "  151,\n",
       "  157,\n",
       "  163,\n",
       "  167,\n",
       "  173,\n",
       "  179,\n",
       "  181,\n",
       "  191,\n",
       "  193,\n",
       "  197,\n",
       "  199],\n",
       " 21)"
      ]
     },
     "execution_count": 40,
     "metadata": {},
     "output_type": "execute_result"
    }
   ],
   "source": [
    "primeNumbers(100, 200)"
   ]
  },
  {
   "cell_type": "code",
   "execution_count": 41,
   "id": "b7907447-a415-4b71-8128-833d45867922",
   "metadata": {},
   "outputs": [],
   "source": [
    "import random"
   ]
  },
  {
   "cell_type": "code",
   "execution_count": 42,
   "id": "307a9da0-b65b-4aad-ac9a-aa575b662b92",
   "metadata": {},
   "outputs": [],
   "source": [
    "randomNumber = [random.randint(1,20) for i in range(100)]"
   ]
  },
  {
   "cell_type": "code",
   "execution_count": 43,
   "id": "4c172290-fb2a-45ba-905d-d1b7762d8287",
   "metadata": {},
   "outputs": [
    {
     "name": "stdout",
     "output_type": "stream",
     "text": [
      "[16, 20, 12, 8, 2, 15, 10, 17, 3, 12, 18, 13, 15, 7, 17, 18, 14, 14, 5, 1, 6, 17, 6, 13, 16, 11, 4, 14, 2, 20, 12, 18, 2, 7, 17, 14, 9, 8, 7, 7, 9, 16, 5, 16, 11, 19, 16, 4, 2, 19, 17, 19, 11, 2, 14, 12, 11, 2, 18, 15, 7, 10, 17, 11, 6, 5, 5, 11, 10, 2, 13, 20, 3, 14, 2, 6, 7, 9, 19, 3, 1, 16, 12, 16, 11, 13, 7, 4, 10, 10, 18, 7, 10, 7, 2, 7, 12, 4, 14, 17]\n"
     ]
    }
   ],
   "source": [
    "print(randomNumber)"
   ]
  },
  {
   "cell_type": "code",
   "execution_count": 46,
   "id": "5e6ddd67-267d-4537-afc0-07e71f0c4e42",
   "metadata": {},
   "outputs": [
    {
     "data": {
      "text/plain": [
       "{12: 16, 19: 20}"
      ]
     },
     "execution_count": 46,
     "metadata": {},
     "output_type": "execute_result"
    }
   ],
   "source": [
    "{\n",
    "    12: 16,\n",
    "    19: 20,\n",
    "}"
   ]
  },
  {
   "cell_type": "code",
   "execution_count": 64,
   "id": "b9b2d779-b080-4cf2-aa3e-958df686b723",
   "metadata": {},
   "outputs": [],
   "source": [
    "def duplicates(seq):\n",
    "    dups = {}  # to store duplicate info\n",
    "    for i in seq:\n",
    "        if dups.get(i):\n",
    "            dups[i] += 1 # dups[i] = dups[i]+1\n",
    "        else:\n",
    "            dups[i] = 1\n",
    "            \n",
    "    return dups"
   ]
  },
  {
   "cell_type": "code",
   "execution_count": 66,
   "id": "c79b46a7-042c-4489-9f51-a7ed235c6b6f",
   "metadata": {},
   "outputs": [],
   "source": [
    "dups =  duplicates(randomNumber)"
   ]
  },
  {
   "cell_type": "code",
   "execution_count": 67,
   "id": "83585be4-72af-434d-aa53-70eef4bb5ca0",
   "metadata": {},
   "outputs": [
    {
     "name": "stdout",
     "output_type": "stream",
     "text": [
      "no\n"
     ]
    }
   ],
   "source": [
    "a = 0\n",
    "if a:\n",
    "    print(\"yes\")\n",
    "else:\n",
    "    print(\"no\")"
   ]
  },
  {
   "cell_type": "code",
   "execution_count": 68,
   "id": "1322fd97-71f9-4308-a00b-93b7a4b054cd",
   "metadata": {},
   "outputs": [
    {
     "data": {
      "text/plain": [
       "{16: 7,\n",
       " 20: 3,\n",
       " 12: 6,\n",
       " 8: 2,\n",
       " 2: 9,\n",
       " 15: 3,\n",
       " 10: 6,\n",
       " 17: 7,\n",
       " 3: 3,\n",
       " 18: 5,\n",
       " 13: 4,\n",
       " 7: 10,\n",
       " 14: 7,\n",
       " 5: 4,\n",
       " 1: 2,\n",
       " 6: 4,\n",
       " 11: 7,\n",
       " 4: 4,\n",
       " 9: 3,\n",
       " 19: 4}"
      ]
     },
     "execution_count": 68,
     "metadata": {},
     "output_type": "execute_result"
    }
   ],
   "source": [
    "dups"
   ]
  },
  {
   "cell_type": "code",
   "execution_count": 73,
   "id": "859d2bca-2002-4dd5-9e6d-9df850e3735a",
   "metadata": {},
   "outputs": [],
   "source": [
    "import operator"
   ]
  },
  {
   "cell_type": "code",
   "execution_count": 78,
   "id": "ebc48110-fa4a-4bfe-956a-ac5ea86f9df5",
   "metadata": {},
   "outputs": [
    {
     "data": {
      "text/plain": [
       "{1: 2,\n",
       " 2: 9,\n",
       " 3: 3,\n",
       " 4: 4,\n",
       " 5: 4,\n",
       " 6: 4,\n",
       " 7: 10,\n",
       " 8: 2,\n",
       " 9: 3,\n",
       " 10: 6,\n",
       " 11: 7,\n",
       " 12: 6,\n",
       " 13: 4,\n",
       " 14: 7,\n",
       " 15: 3,\n",
       " 16: 7,\n",
       " 17: 7,\n",
       " 18: 5,\n",
       " 19: 4,\n",
       " 20: 3}"
      ]
     },
     "execution_count": 78,
     "metadata": {},
     "output_type": "execute_result"
    }
   ],
   "source": [
    "dict(sorted(dups.items(), key = operator.itemgetter(0)))"
   ]
  },
  {
   "cell_type": "code",
   "execution_count": 76,
   "id": "02e6ce21-4f28-4291-84e2-9b4afd503f0f",
   "metadata": {},
   "outputs": [
    {
     "data": {
      "text/plain": [
       "dict_items([(16, 7), (20, 3), (12, 6), (8, 2), (2, 9), (15, 3), (10, 6), (17, 7), (3, 3), (18, 5), (13, 4), (7, 10), (14, 7), (5, 4), (1, 2), (6, 4), (11, 7), (4, 4), (9, 3), (19, 4)])"
      ]
     },
     "execution_count": 76,
     "metadata": {},
     "output_type": "execute_result"
    }
   ],
   "source": [
    "dups.items()"
   ]
  },
  {
   "cell_type": "code",
   "execution_count": null,
   "id": "d38c5733-9e22-4f8a-9d7c-61625f91b7ab",
   "metadata": {},
   "outputs": [],
   "source": []
  }
 ],
 "metadata": {
  "kernelspec": {
   "display_name": "Python 3 (ipykernel)",
   "language": "python",
   "name": "python3"
  },
  "language_info": {
   "codemirror_mode": {
    "name": "ipython",
    "version": 3
   },
   "file_extension": ".py",
   "mimetype": "text/x-python",
   "name": "python",
   "nbconvert_exporter": "python",
   "pygments_lexer": "ipython3",
   "version": "3.10.5"
  }
 },
 "nbformat": 4,
 "nbformat_minor": 5
}
