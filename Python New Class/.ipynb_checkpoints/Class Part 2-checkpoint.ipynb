{
 "cells": [
  {
   "cell_type": "markdown",
   "id": "a16eb1d1-4d00-46de-98c5-106ee6b00b63",
   "metadata": {},
   "source": [
    "### Class CSVReader and CSVWriter"
   ]
  },
  {
   "cell_type": "code",
   "execution_count": 5,
   "id": "46e0085e-4cd8-4b97-bcec-1fb8dfccf1af",
   "metadata": {},
   "outputs": [],
   "source": [
    "\n",
    "class CSVReader:\n",
    "    \"\"\"\n",
    "        CSVReader is simple csv file reader class, this can read a file line by line and return\n",
    "        list of fileds and data.\n",
    "        \n",
    "        by default delimiter \",\" we can specify and character. \n",
    "        default file opening mode is \"r\n",
    "    \"\"\"\n",
    "    \n",
    "    def __init__(self, file, delimeter=\",\"):\n",
    "        self.file = open(file, \"r\")\n",
    "        self.delimeter = delimeter\n",
    "        self.headers = self.__get_row__()  # very first row inside file.\n",
    "        self.__filePos_inital = self.file.tell();\n",
    "        self.__data = []\n",
    "        \n",
    "    def __get_row__(self):\n",
    "        \n",
    "        \"\"\"\n",
    "        this function will return a list of values from string after spliting\n",
    "        by using delimeter as separator.\n",
    "        \n",
    "        return: list, if it has non-empty string, else False.\n",
    "            \n",
    "        \"\"\"\n",
    "        \n",
    "        line = self.file.readline().strip(\"\\n\")\n",
    "        if line: \n",
    "            return line.split(self.delimeter) # Columns\n",
    "        # it will return all fileds and values in the form of \n",
    "        # list.\n",
    "        else:\n",
    "            # if we don't find any value inside the getting\n",
    "            # line from file then only we will return False.\n",
    "            return False\n",
    "        \n",
    "    def __lineSep__(self, char=\"-\", n=100):\n",
    "        value = char*int(n)\n",
    "        print(value)\n",
    "        \n",
    "    def getData(self):\n",
    "        return self.__data\n",
    "        \n",
    "    def readData(self):\n",
    "        \"\"\"\n",
    "        To reterive the data from given file in the form of list.\n",
    "        \"\"\"\n",
    "        self.file.seek(self.__filePos_inital)\n",
    "        # Note: reseting the file pointer to read data from begenning \n",
    "        # of data\n",
    "        line = self.__get_row__();\n",
    "        while line:\n",
    "            self.__data.append(line)\n",
    "            line = self.__get_row__()\n",
    "            # getting next row\n",
    "        return self.__data\n",
    "    \n",
    "    \n",
    "    def displayTable(self): \n",
    "        self.file.seek(self.__filePos_inital)\n",
    "        line = self.__get_row__() ## \n",
    "        # line: as list of all data for each field.\n",
    "        self.__lineSep__(\"=\")\n",
    "        for field in self.headers:\n",
    "            print(field.ljust(30), end=\"\")\n",
    "        print() # after for loop we need to maintain the newline\n",
    "        self.__lineSep__(\"=\")\n",
    "        # first of all we need to show the header.\n",
    "        while line:\n",
    "            row = \"\"\n",
    "            for col in line:\n",
    "                row +=col.ljust(30) \n",
    "                # concatnating extra white space after the data string \n",
    "            print(row)\n",
    "            self.__lineSep__(\"-\")\n",
    "            line = self.__get_row__()\n",
    "            \n",
    "#============================================================================= #\n",
    "\n",
    "class CSVWriter:\n",
    "    \n",
    "    def __init__(self,file,filemode,header=None,delimeter=','):\n",
    "        self.file  = file\n",
    "        self.filemode = filemode\n",
    "        self.delimeter = delimeter\n",
    "        self.fileWriter = None\n",
    "        self.header = None # this will hold the header data\n",
    "        if header:\n",
    "            self.writeHeader(header)\n",
    "        \n",
    "    def __writeRow(self, data:list):\n",
    "        if isinstance(data, (list, tuple)):\n",
    "            print(\"Writing data: \", data, \"by seperator: \", self.delimeter)\n",
    "            self.fileWriter.write(self.delimeter.join(data)+\"\\n\")\n",
    "        else:\n",
    "            print(\"data must be instance of list or tuple\")\n",
    "            \n",
    "    def writeRow(self, data):\n",
    "        self.fileWriter = open(self.file, self.filemode)\n",
    "        self.__writeRow([str(value) for value in data])\n",
    "        self.fileWriter.close()\n",
    "        \n",
    "    def writeRows(self, data):\n",
    "        self.fileWriter = open(self.file, self.filemode)\n",
    "        for row in data:\n",
    "            self.__writeRow(row)\n",
    "        self.fileWriter.close()\n",
    "        \n",
    "    def writeHeader(self,header=None):\n",
    "        \n",
    "        if not header and not self.header:\n",
    "            print(\"Error: header is not registered.\")\n",
    "        # now we will write header\n",
    "        else:\n",
    "            print(\"Header must be instance of the list or tuple.\")\n",
    "            \n",
    "        if header:\n",
    "                # if header is provided in this function\n",
    "                # then overwrite this header.\n",
    "                self.header = header        \n",
    "        self.__writeRow(self.header)"
   ]
  },
  {
   "cell_type": "code",
   "execution_count": 138,
   "id": "352f45df-f525-4453-bcdf-b1202d524532",
   "metadata": {},
   "outputs": [],
   "source": [
    "class Person:\n",
    "    \n",
    "    def __init__(self,name,age,height,bloodGroup):\n",
    "        \n",
    "        self.name = name\n",
    "        self.age = age\n",
    "        self.height = height\n",
    "        self.bloodGroup = bloodGroup\n",
    "        \n",
    "    def __str__(self):\n",
    "        return f\"{self.name}\"\n",
    "    \n",
    "    def __repr__(self):\n",
    "        return f\"Person({self.name},{self.age},{self.height},{self.bloodGroup})\"\n",
    "    \n",
    "    def __lt__(self,other):\n",
    "        print(\"self : \", self)\n",
    "        print(\"other : \", other)\n",
    "        if isinstance(other, Person):\n",
    "            return self.age < other.age\n",
    "        else:\n",
    "            return f\"Error:{type(self)} object can't be compared with {type(other)} object..!\"\n",
    "        \n",
    "    def __gt__(self, other):\n",
    "        print(\"self : \", self)\n",
    "        print(\"other : \", other)\n",
    "        if isinstance(other, Person):\n",
    "            return self.age > other.age\n",
    "        else:\n",
    "            return f\"Error:{type(self)} object can't be compared with {type(other)} object..!\""
   ]
  },
  {
   "cell_type": "code",
   "execution_count": 139,
   "id": "03ebadbf-c413-4b09-8295-3f626acb2420",
   "metadata": {},
   "outputs": [],
   "source": [
    "class Student:\n",
    "    \n",
    "    def __init__(self,name):\n",
    "        self.name = name"
   ]
  },
  {
   "cell_type": "code",
   "execution_count": 140,
   "id": "2abcc251-30af-4eac-bf78-2870ce52d2f1",
   "metadata": {},
   "outputs": [],
   "source": [
    "st1 = Student(\"manish\")"
   ]
  },
  {
   "cell_type": "code",
   "execution_count": 141,
   "id": "631ec0ab-df72-4049-b03a-1b1c05a553e6",
   "metadata": {},
   "outputs": [],
   "source": [
    "person1 = Person(\"Mansi\", 20, 5.6, \"A+\")\n",
    "person2 = Person(\"Chandan\",21, 5.5,\"B+\")"
   ]
  },
  {
   "cell_type": "code",
   "execution_count": 113,
   "id": "0428e2e6-1ff9-4473-a3a1-9ba7a4b7adec",
   "metadata": {},
   "outputs": [
    {
     "data": {
      "text/plain": [
       "Person(Mansi,20,5.6,A+)"
      ]
     },
     "execution_count": 113,
     "metadata": {},
     "output_type": "execute_result"
    }
   ],
   "source": [
    "person1 # object representation of person object"
   ]
  },
  {
   "cell_type": "code",
   "execution_count": 114,
   "id": "b61e239c-b132-4a07-9481-9f89cc3de940",
   "metadata": {},
   "outputs": [
    {
     "name": "stdout",
     "output_type": "stream",
     "text": [
      "Mansi\n"
     ]
    }
   ],
   "source": [
    "print(person1)"
   ]
  },
  {
   "cell_type": "code",
   "execution_count": 115,
   "id": "292feeb2-da5e-4bc1-8cb2-09a6ce30dee1",
   "metadata": {},
   "outputs": [
    {
     "data": {
      "text/plain": [
       "Person(Mansi,20,5.6,A+)"
      ]
     },
     "execution_count": 115,
     "metadata": {},
     "output_type": "execute_result"
    }
   ],
   "source": [
    "person1"
   ]
  },
  {
   "cell_type": "code",
   "execution_count": 116,
   "id": "e1820fcc-9608-49ca-a0a5-33c8ca7568bc",
   "metadata": {},
   "outputs": [
    {
     "data": {
      "text/plain": [
       "'Mansi'"
      ]
     },
     "execution_count": 116,
     "metadata": {},
     "output_type": "execute_result"
    }
   ],
   "source": [
    "str(person1)"
   ]
  },
  {
   "cell_type": "code",
   "execution_count": 117,
   "id": "a258ed2c-994a-440d-921b-6da2197f700f",
   "metadata": {},
   "outputs": [],
   "source": [
    "evaluatedPerson = eval(\"Person('Mansi',20,5.6,'A+')\")"
   ]
  },
  {
   "cell_type": "code",
   "execution_count": 118,
   "id": "a04a8c23-e47d-42b3-8e99-d1e7f094461d",
   "metadata": {},
   "outputs": [
    {
     "data": {
      "text/plain": [
       "Person(Mansi,20,5.6,A+)"
      ]
     },
     "execution_count": 118,
     "metadata": {},
     "output_type": "execute_result"
    }
   ],
   "source": [
    "evaluatedPerson"
   ]
  },
  {
   "cell_type": "code",
   "execution_count": 119,
   "id": "e3c472e8-ae27-4284-a5db-5178935f97bf",
   "metadata": {},
   "outputs": [
    {
     "name": "stdout",
     "output_type": "stream",
     "text": [
      "Mansi\n"
     ]
    }
   ],
   "source": [
    "print(evaluatedPerson)"
   ]
  },
  {
   "cell_type": "code",
   "execution_count": 122,
   "id": "1c928378-6998-4c13-b614-77cf8b5b5654",
   "metadata": {},
   "outputs": [
    {
     "name": "stdout",
     "output_type": "stream",
     "text": [
      "self :  Mansi\n",
      "other :  Chandan\n"
     ]
    }
   ],
   "source": [
    "person1 < person2 # is person1 is less than person2\n",
    "# person1 is younger in age compare to person2"
   ]
  },
  {
   "cell_type": "code",
   "execution_count": 142,
   "id": "f485af90-2679-484c-ab62-e9f963ce225b",
   "metadata": {},
   "outputs": [
    {
     "name": "stdout",
     "output_type": "stream",
     "text": [
      "self :  Mansi\n",
      "other :  <__main__.Student object at 0x00000229B1E1F0A0>\n"
     ]
    },
    {
     "data": {
      "text/plain": [
       "\"Error:<class '__main__.Person'> object can't be compared with <class '__main__.Student'> object..!\""
      ]
     },
     "execution_count": 142,
     "metadata": {},
     "output_type": "execute_result"
    }
   ],
   "source": [
    "person1 < st1"
   ]
  },
  {
   "cell_type": "code",
   "execution_count": null,
   "id": "65a6bfac-e17f-4673-a2bf-c3061a4f2745",
   "metadata": {},
   "outputs": [],
   "source": []
  }
 ],
 "metadata": {
  "kernelspec": {
   "display_name": "Python 3 (ipykernel)",
   "language": "python",
   "name": "python3"
  },
  "language_info": {
   "codemirror_mode": {
    "name": "ipython",
    "version": 3
   },
   "file_extension": ".py",
   "mimetype": "text/x-python",
   "name": "python",
   "nbconvert_exporter": "python",
   "pygments_lexer": "ipython3",
   "version": "3.10.5"
  }
 },
 "nbformat": 4,
 "nbformat_minor": 5
}
