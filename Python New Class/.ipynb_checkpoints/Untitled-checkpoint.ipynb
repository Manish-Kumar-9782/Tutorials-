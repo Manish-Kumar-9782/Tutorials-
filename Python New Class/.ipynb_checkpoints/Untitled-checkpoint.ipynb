{
 "cells": [
  {
   "cell_type": "code",
   "execution_count": 1,
   "id": "e35ce7ee-6224-4e01-81ef-1227b89c349b",
   "metadata": {},
   "outputs": [],
   "source": [
    "myVar = \"new variable\""
   ]
  },
  {
   "cell_type": "code",
   "execution_count": 2,
   "id": "504f8de8-520b-4d79-9e5d-330c7d6f9f37",
   "metadata": {},
   "outputs": [
    {
     "data": {
      "text/plain": [
       "'new variable'"
      ]
     },
     "execution_count": 2,
     "metadata": {},
     "output_type": "execute_result"
    }
   ],
   "source": [
    "myVar"
   ]
  },
  {
   "cell_type": "code",
   "execution_count": 3,
   "id": "245a9d78-37ef-4641-a2e9-9d74db301c7b",
   "metadata": {},
   "outputs": [
    {
     "name": "stdout",
     "output_type": "stream",
     "text": [
      "My varaible text:  new variable\n"
     ]
    }
   ],
   "source": [
    "print(\"My varaible text: \",myVar)"
   ]
  },
  {
   "cell_type": "code",
   "execution_count": 4,
   "id": "af19dbc8-a8e5-44ac-a427-8507315dde55",
   "metadata": {},
   "outputs": [
    {
     "name": "stdin",
     "output_type": "stream",
     "text": [
      "Enter something Hello world\n"
     ]
    }
   ],
   "source": [
    "Inputed_Value = input(\"Enter something\")"
   ]
  },
  {
   "cell_type": "code",
   "execution_count": 5,
   "id": "8d145524-08b5-4131-85d4-0882199a71fd",
   "metadata": {},
   "outputs": [
    {
     "data": {
      "text/plain": [
       "'Hello world'"
      ]
     },
     "execution_count": 5,
     "metadata": {},
     "output_type": "execute_result"
    }
   ],
   "source": [
    "Inputed_Value"
   ]
  },
  {
   "cell_type": "code",
   "execution_count": 6,
   "id": "e7fa87a3-4cce-40ea-a6df-b2dde9efc188",
   "metadata": {},
   "outputs": [],
   "source": [
    "myList = [\"item1\", \"item2\", myVar, Inputed_Value]"
   ]
  },
  {
   "cell_type": "code",
   "execution_count": 7,
   "id": "36ed03c6-250c-444b-b56d-6e5d6d24c074",
   "metadata": {},
   "outputs": [
    {
     "data": {
      "text/plain": [
       "['item1', 'item2', 'new variable', 'Hello world']"
      ]
     },
     "execution_count": 7,
     "metadata": {},
     "output_type": "execute_result"
    }
   ],
   "source": [
    "myList"
   ]
  },
  {
   "cell_type": "code",
   "execution_count": 8,
   "id": "720275eb-e07c-41e9-b3da-fa2084bfe4a9",
   "metadata": {},
   "outputs": [
    {
     "data": {
      "text/plain": [
       "list"
      ]
     },
     "execution_count": 8,
     "metadata": {},
     "output_type": "execute_result"
    }
   ],
   "source": [
    "type(myList)"
   ]
  },
  {
   "cell_type": "markdown",
   "id": "4b9c8a3a-27f4-4266-b796-e4abd14bef4e",
   "metadata": {},
   "source": [
    "**javaScript for loop**\n",
    "```js\n",
    "for(let i=i; i<0;i++){\n",
    "     statement\n",
    "}\n",
    "```\n",
    "**python for loop**\n",
    "```python\n",
    "    for i in range(n):\n",
    "        statement\n",
    "```"
   ]
  },
  {
   "cell_type": "code",
   "execution_count": null,
   "id": "d2772289-0e0c-4e79-81c1-5080de250d0e",
   "metadata": {},
   "outputs": [],
   "source": []
  }
 ],
 "metadata": {
  "kernelspec": {
   "display_name": "Python 3 (ipykernel)",
   "language": "python",
   "name": "python3"
  },
  "language_info": {
   "codemirror_mode": {
    "name": "ipython",
    "version": 3
   },
   "file_extension": ".py",
   "mimetype": "text/x-python",
   "name": "python",
   "nbconvert_exporter": "python",
   "pygments_lexer": "ipython3",
   "version": "3.10.5"
  }
 },
 "nbformat": 4,
 "nbformat_minor": 5
}
