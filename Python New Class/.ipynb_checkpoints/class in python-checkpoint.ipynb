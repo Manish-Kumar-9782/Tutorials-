{
 "cells": [
  {
   "cell_type": "markdown",
   "id": "bb6cce2d-5e6a-4c81-be90-631eae850c1b",
   "metadata": {},
   "source": [
    "## Class In Python"
   ]
  },
  {
   "cell_type": "markdown",
   "id": "a071a6f8-bb0f-41cb-8d8e-d123fb170f2e",
   "metadata": {},
   "source": [
    "```python\n",
    "class MyClass:\n",
    "    \n",
    "    def __init__(self):\n",
    "        # constructor attributes and statements\n",
    "```    "
   ]
  },
  {
   "cell_type": "code",
   "execution_count": 26,
   "id": "85b14be7-18cc-4ef6-a03d-f70a5233d421",
   "metadata": {},
   "outputs": [],
   "source": [
    "class Student:\n",
    "\n",
    "    # constructor\n",
    "    def __init__(self, name, age, height, bloodGroup):\n",
    "        # self: implicit argument, it is the object or instance of student class\n",
    "        # on which we are currently working.\n",
    "        self.name = name\n",
    "        self.age = age\n",
    "        self.height = height\n",
    "        self.bloodGroup = bloodGroup\n",
    "        \n",
    "        \n",
    "    def showInfo(self):\n",
    "        print(\"Name: \", self.name)\n",
    "        print(\"Age: \", self.age)\n",
    "        print(\"Height: \", self.height)\n",
    "        print(\"bloodGroup: \", self.bloodGroup)"
   ]
  },
  {
   "cell_type": "code",
   "execution_count": 27,
   "id": "f5a35895-891a-41b4-998e-595bd8f01531",
   "metadata": {},
   "outputs": [
    {
     "data": {
      "text/plain": [
       "<__main__.Student at 0x1f79a402830>"
      ]
     },
     "execution_count": 27,
     "metadata": {},
     "output_type": "execute_result"
    }
   ],
   "source": [
    "Student(\"chandan\",21,5.5, \"A+\")"
   ]
  },
  {
   "cell_type": "code",
   "execution_count": 28,
   "id": "9f1e38cb-8cea-4266-8183-69617b4b077e",
   "metadata": {},
   "outputs": [
    {
     "data": {
      "text/plain": [
       "<__main__.Student at 0x1f79a400eb0>"
      ]
     },
     "execution_count": 28,
     "metadata": {},
     "output_type": "execute_result"
    }
   ],
   "source": [
    "Student(\"Aasish\", 20, 5.7, \"B+\")"
   ]
  },
  {
   "cell_type": "markdown",
   "id": "5149cebb-1a51-4f0d-b382-b5a9682423f9",
   "metadata": {},
   "source": [
    "### CSVWriter"
   ]
  },
  {
   "cell_type": "code",
   "execution_count": 4,
   "id": "0effceca-e359-41e1-b619-f2e3b897027b",
   "metadata": {},
   "outputs": [],
   "source": [
    "class CSVReader:\n",
    "    \n",
    "    def __init__(self, file, delimeter=\",\"):\n",
    "        self.file = open(file, \"r\")\n",
    "        self.delimeter = delimeter\n",
    "        self.headers = self.__get_row__()\n",
    "        \n",
    "    def __get_row__(self):\n",
    "        \n",
    "        \"\"\"\n",
    "        this function will return a list of values from string after spliting\n",
    "        by using delimeter as separator.\n",
    "        \n",
    "        return: list, if it has non-empty string, else False.\n",
    "            \n",
    "        \"\"\"\n",
    "        \n",
    "        line = self.file.readline().strip(\"\\n\")\n",
    "        if line: \n",
    "            return line.split(self.delimeter) # Columns\n",
    "        else:\n",
    "            return False\n",
    "    \n",
    "    def displayTable(self): \n",
    "        line = self.__get_row__() ## \n",
    "        while line:\n",
    "            row = \"\"\n",
    "            for col in line:\n",
    "                row += col.ljust(30) \n",
    "            print(row)\n",
    "            line = self.__get_row__()"
   ]
  },
  {
   "cell_type": "code",
   "execution_count": 5,
   "id": "443c6ff0-5c20-4a1b-9ded-978ef299210d",
   "metadata": {},
   "outputs": [],
   "source": [
    "reader = CSVReader(\"studentIds.csv\")"
   ]
  },
  {
   "cell_type": "code",
   "execution_count": 6,
   "id": "95b87578-aa09-4c93-a36d-2d24cc892400",
   "metadata": {},
   "outputs": [
    {
     "name": "stdout",
     "output_type": "stream",
     "text": [
      "AasishKumar@gmail.com         gmail.com                     AasishKumar                   \n",
      "MansiJangid@gmail.com         MansiJangid                   gmail.com                     \n",
      "ManishKumar9782@gmail.com     ManishKumar9782               gmail.com                     \n",
      "AasifKhan007@gmail.com        AasifKhan007                  gmail.com                     \n",
      "ChandanLakashkar@gmail.com    ChandanLakashkar              gmail.com                     \n",
      "KuldeepSingh123@gmail.com     KuldeepSingh123               gmail.com                     \n"
     ]
    }
   ],
   "source": [
    "reader.displayTable()"
   ]
  },
  {
   "cell_type": "code",
   "execution_count": 7,
   "id": "ea811c96-8e44-4e20-8b47-d08e338c3eea",
   "metadata": {},
   "outputs": [],
   "source": [
    "reader.displayTable()"
   ]
  },
  {
   "cell_type": "code",
   "execution_count": 39,
   "id": "24a08132-312e-4c33-8224-2147e5565b26",
   "metadata": {},
   "outputs": [
    {
     "data": {
      "text/plain": [
       "False"
      ]
     },
     "execution_count": 39,
     "metadata": {},
     "output_type": "execute_result"
    }
   ],
   "source": [
    "bool(\"\")"
   ]
  },
  {
   "cell_type": "code",
   "execution_count": 44,
   "id": "7a664e48-5966-45b6-b3d2-12708b435240",
   "metadata": {},
   "outputs": [
    {
     "name": "stdout",
     "output_type": "stream",
     "text": [
      "Help on class CSVReader in module __main__:\n",
      "\n",
      "class CSVReader(builtins.object)\n",
      " |  CSVReader(file, delimeter=',')\n",
      " |  \n",
      " |  Methods defined here:\n",
      " |  \n",
      " |  __get_row__(self)\n",
      " |      this function will return a list of values from string after spliting\n",
      " |      by using delimeter as separator.\n",
      " |      \n",
      " |      return: list, if it has non-empty string, else False.\n",
      " |  \n",
      " |  __init__(self, file, delimeter=',')\n",
      " |      Initialize self.  See help(type(self)) for accurate signature.\n",
      " |  \n",
      " |  displayTable(self)\n",
      " |  \n",
      " |  ----------------------------------------------------------------------\n",
      " |  Data descriptors defined here:\n",
      " |  \n",
      " |  __dict__\n",
      " |      dictionary for instance variables (if defined)\n",
      " |  \n",
      " |  __weakref__\n",
      " |      list of weak references to the object (if defined)\n",
      "\n"
     ]
    }
   ],
   "source": [
    "help(CSVReader)"
   ]
  },
  {
   "cell_type": "code",
   "execution_count": null,
   "id": "689e7468-7596-43f1-bdd0-26185704ee8a",
   "metadata": {},
   "outputs": [],
   "source": []
  }
 ],
 "metadata": {
  "kernelspec": {
   "display_name": "Python 3 (ipykernel)",
   "language": "python",
   "name": "python3"
  },
  "language_info": {
   "codemirror_mode": {
    "name": "ipython",
    "version": 3
   },
   "file_extension": ".py",
   "mimetype": "text/x-python",
   "name": "python",
   "nbconvert_exporter": "python",
   "pygments_lexer": "ipython3",
   "version": "3.10.5"
  }
 },
 "nbformat": 4,
 "nbformat_minor": 5
}
