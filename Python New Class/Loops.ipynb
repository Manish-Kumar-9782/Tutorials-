{
 "cells": [
  {
   "cell_type": "markdown",
   "id": "7ade1b62-9fab-4339-8ee5-6e16bc47972d",
   "metadata": {},
   "source": [
    "### While Loop"
   ]
  },
  {
   "cell_type": "markdown",
   "id": "84d1f90b-3004-4452-b602-aa2817bf669d",
   "metadata": {},
   "source": [
    "```python\n",
    "while expression:\n",
    "    # note expression must give boolean result as true and false.\n",
    "    break\n",
    "```"
   ]
  },
  {
   "cell_type": "code",
   "execution_count": 7,
   "id": "46fe2a6a-e0c6-4c1c-8eb8-560de2592c65",
   "metadata": {},
   "outputs": [
    {
     "name": "stdout",
     "output_type": "stream",
     "text": [
      "a is :  1\n",
      "a is :  2\n",
      "a is :  3\n",
      "a is :  4\n",
      "a is :  5\n",
      "a is :  7\n",
      "a is :  8\n",
      "a is :  9\n"
     ]
    }
   ],
   "source": [
    "a = 1\n",
    "while a<10:\n",
    "    if a == 6:\n",
    "        a+=1 # increasing a by 1.\n",
    "        continue # skipping all the statement below this line.\n",
    "    print(\"a is : \", a) \n",
    "    a += 1 # increasing a by 1."
   ]
  },
  {
   "cell_type": "markdown",
   "id": "2a5a33e1-d44b-4d57-b28c-90f2005a8027",
   "metadata": {},
   "source": [
    "```python\n",
    "for var in range(0, 10):\n",
    "    print(var)\n",
    "```"
   ]
  },
  {
   "cell_type": "code",
   "execution_count": 9,
   "id": "a4b41a81-f930-4ad9-b5ce-43b1e1239c7f",
   "metadata": {},
   "outputs": [
    {
     "name": "stdout",
     "output_type": "stream",
     "text": [
      "0 1 2 3 4 5 6 7 8 9 "
     ]
    }
   ],
   "source": [
    "for var in range(0, 10):\n",
    "    print(var, end=\" \")"
   ]
  },
  {
   "cell_type": "code",
   "execution_count": 12,
   "id": "bd6d528d-dcaa-4a60-ad06-a2cd72bcaa15",
   "metadata": {},
   "outputs": [],
   "source": [
    "def square(x):\n",
    "    return x*x"
   ]
  },
  {
   "cell_type": "code",
   "execution_count": 13,
   "id": "13a9a5d9-1516-4272-9f51-183960aaac4a",
   "metadata": {},
   "outputs": [
    {
     "data": {
      "text/plain": [
       "25"
      ]
     },
     "execution_count": 13,
     "metadata": {},
     "output_type": "execute_result"
    }
   ],
   "source": [
    "square(5)"
   ]
  },
  {
   "cell_type": "code",
   "execution_count": 19,
   "id": "c4e11c0c-85e3-4cbc-b71c-e1ca5c4ac577",
   "metadata": {},
   "outputs": [],
   "source": [
    "squares =  map(square(), [1,2,3,4,5,6])"
   ]
  },
  {
   "cell_type": "code",
   "execution_count": 27,
   "id": "33339a89-23b8-4d51-99bd-e694bcefab37",
   "metadata": {},
   "outputs": [
    {
     "data": {
      "text/plain": [
       "[]"
      ]
     },
     "execution_count": 27,
     "metadata": {},
     "output_type": "execute_result"
    }
   ],
   "source": [
    "list(squares)"
   ]
  },
  {
   "cell_type": "code",
   "execution_count": 28,
   "id": "eee3090c-0b6f-449c-81d2-dbd2990816b9",
   "metadata": {},
   "outputs": [
    {
     "ename": "StopIteration",
     "evalue": "",
     "output_type": "error",
     "traceback": [
      "\u001b[1;31m---------------------------------------------------------------------------\u001b[0m",
      "\u001b[1;31mStopIteration\u001b[0m                             Traceback (most recent call last)",
      "Cell \u001b[1;32mIn [28], line 1\u001b[0m\n\u001b[1;32m----> 1\u001b[0m \u001b[38;5;28;43mnext\u001b[39;49m\u001b[43m(\u001b[49m\u001b[43msquares\u001b[49m\u001b[43m)\u001b[49m\n",
      "\u001b[1;31mStopIteration\u001b[0m: "
     ]
    }
   ],
   "source": [
    "next(squares()) # Note this will return next item from iterable"
   ]
  },
  {
   "cell_type": "code",
   "execution_count": 29,
   "id": "8a74f200-75f7-4e23-9c42-28bffebe75b2",
   "metadata": {},
   "outputs": [
    {
     "data": {
      "text/plain": [
       "[1, 4, 9, 16, 25, 36]"
      ]
     },
     "execution_count": 29,
     "metadata": {},
     "output_type": "execute_result"
    }
   ],
   "source": [
    "list(map(lambda x: x*x, [1,2,3,4,5,6]))"
   ]
  },
  {
   "cell_type": "markdown",
   "id": "ab387fc4-3e48-4688-a7ba-277ebb6fcc25",
   "metadata": {},
   "source": [
    "1. if our function is too short which can be converted into a single.\n",
    "2. if our function is not going to be used only once.\n",
    "3. if we want to wrap a function into another function."
   ]
  },
  {
   "cell_type": "code",
   "execution_count": null,
   "id": "288e7929-44fa-4f85-9562-9a35cea8906c",
   "metadata": {},
   "outputs": [],
   "source": []
  }
 ],
 "metadata": {
  "kernelspec": {
   "display_name": "Python 3 (ipykernel)",
   "language": "python",
   "name": "python3"
  },
  "language_info": {
   "codemirror_mode": {
    "name": "ipython",
    "version": 3
   },
   "file_extension": ".py",
   "mimetype": "text/x-python",
   "name": "python",
   "nbconvert_exporter": "python",
   "pygments_lexer": "ipython3",
   "version": "3.10.5"
  }
 },
 "nbformat": 4,
 "nbformat_minor": 5
}
