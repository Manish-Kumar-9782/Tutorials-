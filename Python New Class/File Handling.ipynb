{
 "cells": [
  {
   "cell_type": "markdown",
   "id": "915e2df4-b3a7-4fdc-b05b-88e1ffb804b6",
   "metadata": {},
   "source": [
    "# File Handling\n",
    "```python\n",
    "open(file, mode='r', buffering=-1, encoding=None, errors=None, newline=None, closefd=True, opener=None)\n",
    "# we have open() funtion to open a file in a specified format.\n",
    "```"
   ]
  },
  {
   "cell_type": "markdown",
   "id": "5e5d6371-ffe0-4b84-a73a-58b2e46daaac",
   "metadata": {},
   "source": [
    "First we will creata a new file by using the file mode `w`."
   ]
  },
  {
   "cell_type": "code",
   "execution_count": 1,
   "id": "cbd7f999-1112-4538-ad3e-db952308555a",
   "metadata": {},
   "outputs": [],
   "source": [
    "def Students():\n",
    "    nStudents = int(input(\"Number of students: \"))\n",
    "    Students = ()  # to store all the students email id \n",
    "    domains = () # to store all the students domain names.    \n",
    "    usernames = () # to store all the student usernames.\n",
    "    for i in range(nStudents):\n",
    "        st = input(f\"Enter Student {i}: \")\n",
    "        Students += st,  # extending our tuple\n",
    "        user, domain = st.split(\"@\") # [usrname, domain]\n",
    "        domains += domain, # adding a new domain into our domains tuple\n",
    "        usernames += user, # adding a new username into our usernames tuple\n",
    "    \n",
    "    return Students,domains,usernames\n",
    "    "
   ]
  },
  {
   "cell_type": "code",
   "execution_count": 5,
   "id": "18cb9eb1-2631-475f-86b4-a39d354a4853",
   "metadata": {},
   "outputs": [],
   "source": [
    "file = open(\"studentIds.csv\", \"w\")"
   ]
  },
  {
   "cell_type": "code",
   "execution_count": 6,
   "id": "d4442f3a-8e49-4a56-bfab-ae178d26fba6",
   "metadata": {},
   "outputs": [],
   "source": [
    "# first of all we are going to write the header.\n",
    "file.write(\"Email Id,Username,Domain\")\n",
    "file.close() # after performing all operation we must close the file."
   ]
  },
  {
   "cell_type": "markdown",
   "id": "a6290b7f-6e3a-4ef3-a44f-8248497a76a9",
   "metadata": {},
   "source": [
    "## File write operation on csv file"
   ]
  },
  {
   "cell_type": "code",
   "execution_count": 2,
   "id": "2de97330-64dd-44d0-a28f-1e8b8313a529",
   "metadata": {},
   "outputs": [],
   "source": [
    "import os # os work on the operating system related operation.\n",
    "# 1. file exist or not\n",
    "# 2. directory exist or not"
   ]
  },
  {
   "cell_type": "code",
   "execution_count": 12,
   "id": "62ec9ab2-0cef-4c7d-a92b-3afe09f8df3f",
   "metadata": {},
   "outputs": [],
   "source": [
    "def writeStudentData():\n",
    "    \n",
    "    students, domains, usernames = Students()\n",
    "    filename = \"studentIds.csv\"\n",
    "    header = \"Email Id,Username,Domain\\n\"\n",
    "    \n",
    "    if os.path.isfile(filename):\n",
    "        file  = open(filename, \"a\")\n",
    "        for i in range(len(students)):\n",
    "            file.write(f\"{students[i]},{usernames[i]},{domains[i]}\\n\")\n",
    "        file.close()\n",
    "    else:\n",
    "        file = open(filename, \"w\")\n",
    "        file.write(header)\n",
    "        for i in range(len(students)):\n",
    "            file.write(f\"{students[i]},{usernames[i]},{domains[i]}\\n\")\n",
    "        file.close()\n",
    "        "
   ]
  },
  {
   "cell_type": "code",
   "execution_count": 13,
   "id": "9bbb6231-fdbb-4494-9210-26d1c9932f7a",
   "metadata": {},
   "outputs": [
    {
     "name": "stdin",
     "output_type": "stream",
     "text": [
      "Number of students:  3\n",
      "Enter Student 0:  AasifKhan007@gmail.com\n",
      "Enter Student 1:  ChandanLakashkar@gmail.com\n",
      "Enter Student 2:  KuldeepSingh123@gmail.com\n"
     ]
    }
   ],
   "source": [
    "writeStudentData()"
   ]
  },
  {
   "cell_type": "code",
   "execution_count": 44,
   "id": "b98e2cba-89d9-41e3-888b-6e3672eaf6f8",
   "metadata": {},
   "outputs": [],
   "source": [
    "def readStudentData(filename):\n",
    "    \n",
    "    file = open(filename, \"r\")\n",
    "    line = file.readline().split(\",\") # reading very first line\n",
    "    print(f\"{line[0].ljust(50)}{line[1].ljust(20)}{line[2].ljust(20)}\")\n",
    "    while line:\n",
    "        line = file.readline();\n",
    "        if line:\n",
    "            emailId, username, domain = line.split(\",\")\n",
    "            print(f\"{emailId.ljust(50)}{username.ljust(20)}{domain.ljust(20)}\")\n",
    "    file.close()"
   ]
  },
  {
   "cell_type": "code",
   "execution_count": 45,
   "id": "db2a8214-e6e3-407b-bf45-07d9f70f22e3",
   "metadata": {},
   "outputs": [
    {
     "name": "stdout",
     "output_type": "stream",
     "text": [
      "Email Id                                          Username            Domain\n",
      "             \n",
      "AasishKumar@gmail.com                             gmail.com           AasishKumar\n",
      "        \n",
      "MansiJangid@gmail.com                             MansiJangid         gmail.com\n",
      "          \n",
      "ManishKumar9782@gmail.com                         ManishKumar9782     gmail.com\n",
      "          \n",
      "AasifKhan007@gmail.com                            AasifKhan007        gmail.com\n",
      "          \n",
      "ChandanLakashkar@gmail.com                        ChandanLakashkar    gmail.com\n",
      "          \n",
      "KuldeepSingh123@gmail.com                         KuldeepSingh123     gmail.com\n",
      "          \n"
     ]
    }
   ],
   "source": [
    "readStudentData(\"studentIds.csv\")"
   ]
  },
  {
   "cell_type": "code",
   "execution_count": 17,
   "id": "67cbdb6b-afc1-43d3-a0e1-fc367eef45c5",
   "metadata": {},
   "outputs": [],
   "source": [
    "file = open(\"studentIds\")"
   ]
  },
  {
   "cell_type": "code",
   "execution_count": 20,
   "id": "5f92391a-ed32-4602-9a0a-0f1efbd186ec",
   "metadata": {},
   "outputs": [],
   "source": [
    "line = \"Email Id,Username,Domain\\n\""
   ]
  },
  {
   "cell_type": "code",
   "execution_count": 21,
   "id": "73261a57-a1ad-4443-af7c-b0282b8ead35",
   "metadata": {},
   "outputs": [
    {
     "data": {
      "text/plain": [
       "['Email Id', 'Username', 'Domain\\n']"
      ]
     },
     "execution_count": 21,
     "metadata": {},
     "output_type": "execute_result"
    }
   ],
   "source": [
    "line.split(\",\")"
   ]
  },
  {
   "cell_type": "code",
   "execution_count": 37,
   "id": "6852f8d2-d91d-405c-b52e-a8c2d9c78892",
   "metadata": {},
   "outputs": [
    {
     "name": "stdout",
     "output_type": "stream",
     "text": [
      "Help on method_descriptor:\n",
      "\n",
      "rjust(self, width, fillchar=' ', /)\n",
      "    Return a right-justified string of length width.\n",
      "    \n",
      "    Padding is done using the specified fill character (default is a space).\n",
      "\n"
     ]
    }
   ],
   "source": [
    "help(str.rjust)"
   ]
  },
  {
   "cell_type": "code",
   "execution_count": null,
   "id": "e93fe416-4abd-4d1c-8c9b-02a156763367",
   "metadata": {},
   "outputs": [],
   "source": []
  }
 ],
 "metadata": {
  "kernelspec": {
   "display_name": "Python 3 (ipykernel)",
   "language": "python",
   "name": "python3"
  },
  "language_info": {
   "codemirror_mode": {
    "name": "ipython",
    "version": 3
   },
   "file_extension": ".py",
   "mimetype": "text/x-python",
   "name": "python",
   "nbconvert_exporter": "python",
   "pygments_lexer": "ipython3",
   "version": "3.10.5"
  }
 },
 "nbformat": 4,
 "nbformat_minor": 5
}
