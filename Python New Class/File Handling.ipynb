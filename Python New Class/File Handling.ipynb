{
 "cells": [
  {
   "cell_type": "markdown",
   "id": "915e2df4-b3a7-4fdc-b05b-88e1ffb804b6",
   "metadata": {},
   "source": [
    "# File Handling\n",
    "```python\n",
    "open(file, mode='r', buffering=-1, encoding=None, errors=None, newline=None, closefd=True, opener=None)\n",
    "# we have open() funtion to open a file in a specified format.\n",
    "```"
   ]
  },
  {
   "cell_type": "markdown",
   "id": "5e5d6371-ffe0-4b84-a73a-58b2e46daaac",
   "metadata": {},
   "source": [
    "First we will creata a new file by using the file mode `w`."
   ]
  },
  {
   "cell_type": "code",
   "execution_count": 2,
   "id": "cbd7f999-1112-4538-ad3e-db952308555a",
   "metadata": {},
   "outputs": [],
   "source": [
    "def Students():\n",
    "    nStudents = int(input(\"Number of students: \"))\n",
    "    Students = ()  # to store all the students email id \n",
    "    domains = () # to store all the students domain names.    \n",
    "    usernames = () # to store all the student usernames.\n",
    "    for i in range(nStudents):\n",
    "        st = input(f\"Enter Student {i}: \")\n",
    "        Students += st,  # extending our tuple\n",
    "        user, domain = st.split(\"@\") # [usrname, domain]\n",
    "        domains += domain, # adding a new domain into our domains tuple\n",
    "        usernames += user, # adding a new username into our usernames tuple\n",
    "    \n",
    "    return Students,domains,usernames\n",
    "    "
   ]
  },
  {
   "cell_type": "code",
   "execution_count": 5,
   "id": "18cb9eb1-2631-475f-86b4-a39d354a4853",
   "metadata": {},
   "outputs": [],
   "source": [
    "file = open(\"studentIds.csv\", \"w\")"
   ]
  },
  {
   "cell_type": "code",
   "execution_count": 6,
   "id": "d4442f3a-8e49-4a56-bfab-ae178d26fba6",
   "metadata": {},
   "outputs": [],
   "source": [
    "# first of all we are going to write the header.\n",
    "file.write(\"Email Id,Username,Domain\")\n",
    "file.close() # after performing all operation we must close the file."
   ]
  },
  {
   "cell_type": "code",
   "execution_count": null,
   "id": "a4facec0-07f0-4b65-b406-a5b8f782a0c0",
   "metadata": {},
   "outputs": [],
   "source": []
  }
 ],
 "metadata": {
  "kernelspec": {
   "display_name": "Python 3 (ipykernel)",
   "language": "python",
   "name": "python3"
  },
  "language_info": {
   "codemirror_mode": {
    "name": "ipython",
    "version": 3
   },
   "file_extension": ".py",
   "mimetype": "text/x-python",
   "name": "python",
   "nbconvert_exporter": "python",
   "pygments_lexer": "ipython3",
   "version": "3.10.5"
  }
 },
 "nbformat": 4,
 "nbformat_minor": 5
}
