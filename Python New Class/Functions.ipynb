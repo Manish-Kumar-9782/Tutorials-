{
 "cells": [
  {
   "cell_type": "markdown",
   "id": "146f4f75-c18d-4316-bdc7-9f9fe0c1bb7e",
   "metadata": {},
   "source": [
    "### default parameters"
   ]
  },
  {
   "cell_type": "code",
   "execution_count": 8,
   "id": "19c5b391-a4f9-4927-b02b-525dd213b427",
   "metadata": {},
   "outputs": [],
   "source": [
    "def student(name,age, height=5.5):\n",
    "    print(\"Student Name: \", name)\n",
    "    print(\"Student Age: \", age)\n",
    "    print(\"Student Height: \", height)"
   ]
  },
  {
   "cell_type": "code",
   "execution_count": 9,
   "id": "b7d44587-3f3c-4325-8784-89a84ade83e2",
   "metadata": {},
   "outputs": [
    {
     "name": "stdout",
     "output_type": "stream",
     "text": [
      "Student Name:  Mansi\n",
      "Student Age:  21\n",
      "Student Height:  5.5\n"
     ]
    }
   ],
   "source": [
    "student(\"Mansi\",21)"
   ]
  },
  {
   "cell_type": "code",
   "execution_count": 10,
   "id": "592bcfd2-9e6f-4cfb-8e05-1b0d4760335c",
   "metadata": {},
   "outputs": [
    {
     "ename": "SyntaxError",
     "evalue": "non-default argument follows default argument (3452497139.py, line 3)",
     "output_type": "error",
     "traceback": [
      "\u001b[1;36m  Cell \u001b[1;32mIn [10], line 3\u001b[1;36m\u001b[0m\n\u001b[1;33m    def student(name, height=5.5, age):\u001b[0m\n\u001b[1;37m                                  ^\u001b[0m\n\u001b[1;31mSyntaxError\u001b[0m\u001b[1;31m:\u001b[0m non-default argument follows default argument\n"
     ]
    }
   ],
   "source": [
    "# if we place our default argument in b/w the other parameters\n",
    "# in this case we will have error.\n",
    "def student(name, height=5.5, age):\n",
    "    print(\"Student Name: \", name)\n",
    "    print(\"Student Age: \", age)\n",
    "    print(\"Student Height: \", height)"
   ]
  },
  {
   "cell_type": "markdown",
   "id": "61b9a8d1-4a17-4926-a5c1-97f0db42ed9f",
   "metadata": {},
   "source": [
    "***args** VS ****kwargs**"
   ]
  },
  {
   "cell_type": "code",
   "execution_count": 11,
   "id": "d6f7fa79-fcab-4137-aef9-796ec484ff8f",
   "metadata": {},
   "outputs": [],
   "source": [
    "def Sum(a,b):\n",
    "    print(a+b)"
   ]
  },
  {
   "cell_type": "code",
   "execution_count": 12,
   "id": "7cfe5ec7-c7e1-43ed-af58-6793147c4133",
   "metadata": {},
   "outputs": [
    {
     "name": "stdout",
     "output_type": "stream",
     "text": [
      "42\n"
     ]
    }
   ],
   "source": [
    "Sum(10,32)"
   ]
  },
  {
   "cell_type": "code",
   "execution_count": 17,
   "id": "d0c7da45-1665-41f7-a622-165c8575ee15",
   "metadata": {},
   "outputs": [],
   "source": [
    "def Sum(*myArguments):\n",
    "    result = 0\n",
    "    for i in myArguments:\n",
    "        result += i\n",
    "        \n",
    "    return result\n",
    "    "
   ]
  },
  {
   "cell_type": "code",
   "execution_count": 19,
   "id": "40834465-bcfa-488c-8b6a-75f72d2e57ad",
   "metadata": {},
   "outputs": [
    {
     "data": {
      "text/plain": [
       "150"
      ]
     },
     "execution_count": 19,
     "metadata": {},
     "output_type": "execute_result"
    }
   ],
   "source": [
    "Sum(10,30,20,40,50)"
   ]
  },
  {
   "cell_type": "code",
   "execution_count": 27,
   "id": "cf8e00b5-be53-454b-b49e-ef382f30355d",
   "metadata": {},
   "outputs": [],
   "source": [
    "def studentInfo(**kwargs):\n",
    "    validKeys = (\"name\",\"age\",\"height\",\"bloodGroup\",\"weight\")\n",
    "    \n",
    "    for key in kwargs:\n",
    "        if key not in validKeys:\n",
    "            print(f\"Error: {key} is not valid key...\")\n",
    "            print(f\"Valid key must one of them {validKeys}\")\n",
    "    \n",
    "    "
   ]
  },
  {
   "cell_type": "code",
   "execution_count": 28,
   "id": "ba419472-6d54-4136-bda7-3e964cb1cf7f",
   "metadata": {},
   "outputs": [
    {
     "name": "stdout",
     "output_type": "stream",
     "text": [
      "Error: faltu is not valid key...\n",
      "Valid key must one of them ('name', 'age', 'height', 'bloodGroup', 'weight')\n"
     ]
    }
   ],
   "source": [
    "studentInfo(name=\"Mansi\", age=21, height=5.6, faltu=\"faltu\")"
   ]
  },
  {
   "cell_type": "markdown",
   "id": "b28a760d-a540-45af-8a07-79b38f1ca0dd",
   "metadata": {},
   "source": [
    "Question: Write a function that returns the largest element of\n",
    "the list passed as parameter."
   ]
  },
  {
   "cell_type": "code",
   "execution_count": 29,
   "id": "af6420f9-a8dc-4437-873b-a436d0a2ba00",
   "metadata": {},
   "outputs": [],
   "source": [
    "def largest(*args):\n",
    "    return max(args)"
   ]
  },
  {
   "cell_type": "code",
   "execution_count": 30,
   "id": "50519ee5-9e2a-4862-88ce-7c02f6dcd637",
   "metadata": {},
   "outputs": [
    {
     "data": {
      "text/plain": [
       "634"
      ]
     },
     "execution_count": 30,
     "metadata": {},
     "output_type": "execute_result"
    }
   ],
   "source": [
    "largest(4,343,4,6,4,6,4,634,6,34,45,63,45,56,435)"
   ]
  },
  {
   "cell_type": "code",
   "execution_count": 31,
   "id": "54a8519e-5933-4ef8-9b98-d7eb8624aac8",
   "metadata": {},
   "outputs": [],
   "source": [
    "def lowest(*args):\n",
    "    return min(args)"
   ]
  },
  {
   "cell_type": "code",
   "execution_count": 32,
   "id": "848574b0-966d-4708-ac0d-a72d88e0939a",
   "metadata": {},
   "outputs": [
    {
     "data": {
      "text/plain": [
       "4"
      ]
     },
     "execution_count": 32,
     "metadata": {},
     "output_type": "execute_result"
    }
   ],
   "source": [
    "lowest(4,343,4,6,4,6,4,634,6,34,45,63,45,56,435)"
   ]
  },
  {
   "cell_type": "code",
   "execution_count": null,
   "id": "9ba8d345-fb7f-40ef-a241-7b77f844fd41",
   "metadata": {},
   "outputs": [],
   "source": []
  }
 ],
 "metadata": {
  "kernelspec": {
   "display_name": "Python 3 (ipykernel)",
   "language": "python",
   "name": "python3"
  },
  "language_info": {
   "codemirror_mode": {
    "name": "ipython",
    "version": 3
   },
   "file_extension": ".py",
   "mimetype": "text/x-python",
   "name": "python",
   "nbconvert_exporter": "python",
   "pygments_lexer": "ipython3",
   "version": "3.10.5"
  }
 },
 "nbformat": 4,
 "nbformat_minor": 5
}
