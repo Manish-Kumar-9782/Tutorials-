{
 "cells": [
  {
   "cell_type": "markdown",
   "id": "bb6cce2d-5e6a-4c81-be90-631eae850c1b",
   "metadata": {},
   "source": [
    "## Class In Python"
   ]
  },
  {
   "cell_type": "markdown",
   "id": "a071a6f8-bb0f-41cb-8d8e-d123fb170f2e",
   "metadata": {},
   "source": [
    "```python\n",
    "class MyClass:\n",
    "    \n",
    "    def __init__(self):\n",
    "        # constructor attributes and statements\n",
    "```    "
   ]
  },
  {
   "cell_type": "code",
   "execution_count": 3,
   "id": "85b14be7-18cc-4ef6-a03d-f70a5233d421",
   "metadata": {},
   "outputs": [],
   "source": [
    "class Student:\n",
    "\n",
    "    # constructor\n",
    "    def __init__(self, name, age, height, bloodGroup):\n",
    "        # self: implicit argument, it is the object or instance of student class\n",
    "        # on which we are currently working.\n",
    "        self.name = name\n",
    "        self.age = age\n",
    "        self.height = height\n",
    "        self.bloodGroup = bloodGroup\n",
    "        print(\"init method invoked\")\n",
    "        \n",
    "        \n",
    "    def showInfo(self):\n",
    "        print(\"Name: \", self.name)\n",
    "        print(\"Age: \", self.age)\n",
    "        print(\"Height: \", self.height)\n",
    "        print(\"bloodGroup: \", self.bloodGroup)"
   ]
  },
  {
   "cell_type": "code",
   "execution_count": 4,
   "id": "f5a35895-891a-41b4-998e-595bd8f01531",
   "metadata": {},
   "outputs": [
    {
     "name": "stdout",
     "output_type": "stream",
     "text": [
      "init method invoked\n"
     ]
    }
   ],
   "source": [
    "st1 =  Student(\"chandan\",21,5.5, \"A+\")"
   ]
  },
  {
   "cell_type": "code",
   "execution_count": null,
   "id": "6e2c3575-ba23-44c1-b508-16eb876314f0",
   "metadata": {},
   "outputs": [],
   "source": [
    "st1."
   ]
  },
  {
   "cell_type": "code",
   "execution_count": 28,
   "id": "9f1e38cb-8cea-4266-8183-69617b4b077e",
   "metadata": {},
   "outputs": [
    {
     "data": {
      "text/plain": [
       "<__main__.Student at 0x1f79a400eb0>"
      ]
     },
     "execution_count": 28,
     "metadata": {},
     "output_type": "execute_result"
    }
   ],
   "source": [
    "Student(\"Aasish\", 20, 5.7, \"B+\")"
   ]
  },
  {
   "cell_type": "markdown",
   "id": "5149cebb-1a51-4f0d-b382-b5a9682423f9",
   "metadata": {},
   "source": [
    "### CSVReader"
   ]
  },
  {
   "cell_type": "code",
   "execution_count": 68,
   "id": "0effceca-e359-41e1-b619-f2e3b897027b",
   "metadata": {},
   "outputs": [],
   "source": [
    "class CSVReader:\n",
    "    \n",
    "    def __init__(self, file, delimeter=\",\"):\n",
    "        self.file = open(file, \"r\")\n",
    "        self.delimeter = delimeter\n",
    "        self.headers = self.__get_row__()  # very first row inside file.\n",
    "        self.__filePos_inital = self.file.tell();\n",
    "        self.__data = []\n",
    "        \n",
    "    def __get_row__(self):\n",
    "        \n",
    "        \"\"\"\n",
    "        this function will return a list of values from string after spliting\n",
    "        by using delimeter as separator.\n",
    "        \n",
    "        return: list, if it has non-empty string, else False.\n",
    "            \n",
    "        \"\"\"\n",
    "        \n",
    "        line = self.file.readline().strip(\"\\n\")\n",
    "        if line: \n",
    "            return line.split(self.delimeter) # Columns\n",
    "        # it will return all fileds and values in the form of \n",
    "        # list.\n",
    "        else:\n",
    "            # if we don't find any value inside the getting\n",
    "            # line from file then only we will return False.\n",
    "            return False\n",
    "        \n",
    "    def __lineSep__(self, char=\"-\", n=100):\n",
    "        value = char*int(n)\n",
    "        print(value)\n",
    "        \n",
    "    def getData(self):\n",
    "        return self.__data\n",
    "        \n",
    "    def readData(self):\n",
    "        \"\"\"\n",
    "        To reterive the data from given file in the form of list.\n",
    "        \"\"\"\n",
    "        self.file.seek(self.__filePos_inital)\n",
    "        # Note: reseting the file pointer to read data from begenning \n",
    "        # of data\n",
    "        line = self.__get_row__();\n",
    "        while line:\n",
    "            self.__data.append(line)\n",
    "            line = self.__get_row__()\n",
    "            # getting next row\n",
    "        return self.__data\n",
    "    \n",
    "    \n",
    "    def displayTable(self): \n",
    "        self.file.seek(self.__filePos_inital)\n",
    "        line = self.__get_row__() ## \n",
    "        # line: as list of all data for each field.\n",
    "        self.__lineSep__(\"=\")\n",
    "        for field in self.headers:\n",
    "            print(field.ljust(30), end=\"\")\n",
    "        print() # after for loop we need to maintain the newline\n",
    "        self.__lineSep__(\"=\")\n",
    "        # first of all we need to show the header.\n",
    "        while line:\n",
    "            row = \"\"\n",
    "            for col in line:\n",
    "                row +=col.ljust(30) \n",
    "                # concatnating extra white space after the data string \n",
    "            print(row)\n",
    "            self.__lineSep__(\"-\")\n",
    "            line = self.__get_row__()"
   ]
  },
  {
   "cell_type": "code",
   "execution_count": 69,
   "id": "443c6ff0-5c20-4a1b-9ded-978ef299210d",
   "metadata": {},
   "outputs": [],
   "source": [
    "reader = CSVReader(\"studentIds.csv\")"
   ]
  },
  {
   "cell_type": "code",
   "execution_count": 70,
   "id": "95b87578-aa09-4c93-a36d-2d24cc892400",
   "metadata": {},
   "outputs": [
    {
     "name": "stdout",
     "output_type": "stream",
     "text": [
      "====================================================================================================\n",
      "Email Id                      Username                      Domain                        \n",
      "====================================================================================================\n",
      "AasishKumar@gmail.com         gmail.com                     AasishKumar                   \n",
      "----------------------------------------------------------------------------------------------------\n",
      "MansiJangid@gmail.com         MansiJangid                   gmail.com                     \n",
      "----------------------------------------------------------------------------------------------------\n",
      "ManishKumar9782@gmail.com     ManishKumar9782               gmail.com                     \n",
      "----------------------------------------------------------------------------------------------------\n",
      "AasifKhan007@gmail.com        AasifKhan007                  gmail.com                     \n",
      "----------------------------------------------------------------------------------------------------\n",
      "ChandanLakashkar@gmail.com    ChandanLakashkar              gmail.com                     \n",
      "----------------------------------------------------------------------------------------------------\n",
      "KuldeepSingh123@gmail.com     KuldeepSingh123               gmail.com                     \n",
      "----------------------------------------------------------------------------------------------------\n"
     ]
    }
   ],
   "source": [
    "reader.displayTable()"
   ]
  },
  {
   "cell_type": "code",
   "execution_count": 72,
   "id": "ea811c96-8e44-4e20-8b47-d08e338c3eea",
   "metadata": {},
   "outputs": [
    {
     "data": {
      "text/plain": [
       "[['AasishKumar@gmail.com', 'gmail.com', 'AasishKumar'],\n",
       " ['MansiJangid@gmail.com', 'MansiJangid', 'gmail.com'],\n",
       " ['ManishKumar9782@gmail.com', 'ManishKumar9782', 'gmail.com'],\n",
       " ['AasifKhan007@gmail.com', 'AasifKhan007', 'gmail.com'],\n",
       " ['ChandanLakashkar@gmail.com', 'ChandanLakashkar', 'gmail.com'],\n",
       " ['KuldeepSingh123@gmail.com', 'KuldeepSingh123', 'gmail.com']]"
      ]
     },
     "execution_count": 72,
     "metadata": {},
     "output_type": "execute_result"
    }
   ],
   "source": []
  },
  {
   "cell_type": "markdown",
   "id": "ec48cf21-2303-404d-895e-9b72c206d923",
   "metadata": {},
   "source": [
    "_____\n",
    "_____"
   ]
  },
  {
   "cell_type": "markdown",
   "id": "59545f9a-dfb9-4e9a-a2da-9d51c3af77fa",
   "metadata": {},
   "source": [
    "## CSVWriter"
   ]
  },
  {
   "cell_type": "code",
   "execution_count": 38,
   "id": "21f05c99-7b27-4aa8-b8f3-8d419b80bfc1",
   "metadata": {},
   "outputs": [],
   "source": [
    "class CSVWriter:\n",
    "    \n",
    "    def __init__(self,file,filemode,header=None,delimeter=','):\n",
    "        self.file  = file\n",
    "        self.filemode = filemode\n",
    "        self.delimeter = delimeter\n",
    "        self.fileWriter = None\n",
    "        self.header = None # this will hold the header data\n",
    "        if header:\n",
    "            self.writeHeader(header)\n",
    "        \n",
    "    def __writeRow(self, data:list):\n",
    "        if isinstance(data, (list, tuple)):\n",
    "            print(\"Writing data: \", data, \"by seperator: \", self.delimeter)\n",
    "            self.fileWriter.write(self.delimeter.join(data)+\"\\n\")\n",
    "        else:\n",
    "            print(\"data must be instance of list or tuple\")\n",
    "            \n",
    "    def writeRow(self, data):\n",
    "        self.fileWriter = open(self.file, self.filemode)\n",
    "        self.__writeRow([str(value) for value in data])\n",
    "        self.fileWriter.close()\n",
    "        \n",
    "    def writeRows(self, data):\n",
    "        self.fileWriter = open(self.file, self.filemode)\n",
    "        for row in data:\n",
    "            self.__writeRow(row)\n",
    "        self.fileWriter.close()\n",
    "        \n",
    "    def writeHeader(self,header=None):\n",
    "        \n",
    "        if not header and not self.header:\n",
    "            print(\"Error: header is not registered.\")\n",
    "        # now we will write header\n",
    "        else:\n",
    "            print(\"Header must be instance of the list or tuple.\")\n",
    "            \n",
    "        if header:\n",
    "                # if header is provided in this function\n",
    "                # then overwrite this header.\n",
    "                self.header = header        \n",
    "        self.__writeRow(self.header)"
   ]
  },
  {
   "cell_type": "code",
   "execution_count": 39,
   "id": "6383b936-9da5-4ee0-967c-bf293dea9e8b",
   "metadata": {},
   "outputs": [],
   "source": []
  },
  {
   "cell_type": "code",
   "execution_count": 40,
   "id": "f35bda07-d05d-437d-8fc9-a40f1b009c93",
   "metadata": {},
   "outputs": [
    {
     "name": "stdout",
     "output_type": "stream",
     "text": [
      "Writing data:  ['Mansi', '21', '5.6'] by seperator:  ,\n"
     ]
    }
   ],
   "source": [
    "writer.writeRow([\"Mansi\",21,5.6])"
   ]
  },
  {
   "cell_type": "code",
   "execution_count": 32,
   "id": "245d395b-45ce-4f46-97ba-c1cb302b959e",
   "metadata": {},
   "outputs": [
    {
     "ename": "TypeError",
     "evalue": "sequence item 1: expected str instance, int found",
     "output_type": "error",
     "traceback": [
      "\u001b[1;31m---------------------------------------------------------------------------\u001b[0m",
      "\u001b[1;31mTypeError\u001b[0m                                 Traceback (most recent call last)",
      "Cell \u001b[1;32mIn [32], line 1\u001b[0m\n\u001b[1;32m----> 1\u001b[0m \u001b[38;5;124;43m\"\u001b[39;49m\u001b[38;5;124;43m,\u001b[39;49m\u001b[38;5;124;43m\"\u001b[39;49m\u001b[38;5;241;43m.\u001b[39;49m\u001b[43mjoin\u001b[49m\u001b[43m(\u001b[49m\u001b[43m[\u001b[49m\u001b[38;5;124;43m\"\u001b[39;49m\u001b[38;5;124;43mMansi\u001b[39;49m\u001b[38;5;124;43m\"\u001b[39;49m\u001b[43m,\u001b[49m\u001b[38;5;241;43m21\u001b[39;49m\u001b[43m,\u001b[49m\u001b[38;5;241;43m5.6\u001b[39;49m\u001b[43m]\u001b[49m\u001b[43m)\u001b[49m\n",
      "\u001b[1;31mTypeError\u001b[0m: sequence item 1: expected str instance, int found"
     ]
    }
   ],
   "source": []
  },
  {
   "cell_type": "code",
   "execution_count": 34,
   "id": "c621027b-eacc-483c-9961-08c1db019799",
   "metadata": {},
   "outputs": [
    {
     "name": "stdout",
     "output_type": "stream",
     "text": [
      "Help on method_descriptor:\n",
      "\n",
      "join(self, iterable, /)\n",
      "    Concatenate any number of strings.\n",
      "    \n",
      "    The string whose method is called is inserted in between each given string.\n",
      "    The result is returned as a new string.\n",
      "    \n",
      "    Example: '.'.join(['ab', 'pq', 'rs']) -> 'ab.pq.rs'\n",
      "\n"
     ]
    }
   ],
   "source": []
  },
  {
   "cell_type": "code",
   "execution_count": 35,
   "id": "7877d7e1-593f-4278-a549-d3678568d10b",
   "metadata": {},
   "outputs": [],
   "source": [
    "data = [\"Mansi\",21,5.6]"
   ]
  },
  {
   "cell_type": "code",
   "execution_count": 37,
   "id": "1df3e439-b995-4398-8a06-f8f7cc580b3c",
   "metadata": {},
   "outputs": [
    {
     "data": {
      "text/plain": [
       "['Mansi', '21', '5.6']"
      ]
     },
     "execution_count": 37,
     "metadata": {},
     "output_type": "execute_result"
    }
   ],
   "source": [
    "[str(value) for value in data]"
   ]
  },
  {
   "cell_type": "code",
   "execution_count": null,
   "id": "4d156eaa-afd5-467f-bf7b-1338549a204d",
   "metadata": {},
   "outputs": [],
   "source": []
  }
 ],
 "metadata": {
  "kernelspec": {
   "display_name": "Python 3 (ipykernel)",
   "language": "python",
   "name": "python3"
  },
  "language_info": {
   "codemirror_mode": {
    "name": "ipython",
    "version": 3
   },
   "file_extension": ".py",
   "mimetype": "text/x-python",
   "name": "python",
   "nbconvert_exporter": "python",
   "pygments_lexer": "ipython3",
   "version": "3.10.5"
  }
 },
 "nbformat": 4,
 "nbformat_minor": 5
}
