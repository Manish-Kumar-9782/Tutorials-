{
 "cells": [
  {
   "cell_type": "markdown",
   "id": "bb6cce2d-5e6a-4c81-be90-631eae850c1b",
   "metadata": {},
   "source": [
    "## Class In Python"
   ]
  },
  {
   "cell_type": "markdown",
   "id": "a071a6f8-bb0f-41cb-8d8e-d123fb170f2e",
   "metadata": {},
   "source": [
    "```python\n",
    "class MyClass:\n",
    "    \n",
    "    def __init__(self):\n",
    "        # constructor attributes and statements\n",
    "```    "
   ]
  },
  {
   "cell_type": "code",
   "execution_count": 3,
   "id": "85b14be7-18cc-4ef6-a03d-f70a5233d421",
   "metadata": {},
   "outputs": [],
   "source": [
    "class Student:\n",
    "\n",
    "    # constructor\n",
    "    def __init__(self, name, age, height, bloodGroup):\n",
    "        # self: implicit argument, it is the object or instance of student class\n",
    "        # on which we are currently working.\n",
    "        self.name = name\n",
    "        self.age = age\n",
    "        self.height = height\n",
    "        self.bloodGroup = bloodGroup\n",
    "        print(\"init method invoked\")\n",
    "        \n",
    "        \n",
    "    def showInfo(self):\n",
    "        print(\"Name: \", self.name)\n",
    "        print(\"Age: \", self.age)\n",
    "        print(\"Height: \", self.height)\n",
    "        print(\"bloodGroup: \", self.bloodGroup)"
   ]
  },
  {
   "cell_type": "code",
   "execution_count": 4,
   "id": "f5a35895-891a-41b4-998e-595bd8f01531",
   "metadata": {},
   "outputs": [
    {
     "name": "stdout",
     "output_type": "stream",
     "text": [
      "init method invoked\n"
     ]
    }
   ],
   "source": [
    "st1 =  Student(\"chandan\",21,5.5, \"A+\")"
   ]
  },
  {
   "cell_type": "code",
   "execution_count": null,
   "id": "6e2c3575-ba23-44c1-b508-16eb876314f0",
   "metadata": {},
   "outputs": [],
   "source": [
    "st1."
   ]
  },
  {
   "cell_type": "code",
   "execution_count": 28,
   "id": "9f1e38cb-8cea-4266-8183-69617b4b077e",
   "metadata": {},
   "outputs": [
    {
     "data": {
      "text/plain": [
       "<__main__.Student at 0x1f79a400eb0>"
      ]
     },
     "execution_count": 28,
     "metadata": {},
     "output_type": "execute_result"
    }
   ],
   "source": [
    "Student(\"Aasish\", 20, 5.7, \"B+\")"
   ]
  },
  {
   "cell_type": "markdown",
   "id": "5149cebb-1a51-4f0d-b382-b5a9682423f9",
   "metadata": {},
   "source": [
    "### CSVReader"
   ]
  },
  {
   "cell_type": "code",
   "execution_count": 68,
   "id": "0effceca-e359-41e1-b619-f2e3b897027b",
   "metadata": {},
   "outputs": [],
   "source": [
    "class CSVReader:\n",
    "    \n",
    "    def __init__(self, file, delimeter=\",\"):\n",
    "        self.file = open(file, \"r\")\n",
    "        self.delimeter = delimeter\n",
    "        self.headers = self.__get_row__()  # very first row inside file.\n",
    "        self.__filePos_inital = self.file.tell();\n",
    "        self.__data = []\n",
    "        \n",
    "    def __get_row__(self):\n",
    "        \n",
    "        \"\"\"\n",
    "        this function will return a list of values from string after spliting\n",
    "        by using delimeter as separator.\n",
    "        \n",
    "        return: list, if it has non-empty string, else False.\n",
    "            \n",
    "        \"\"\"\n",
    "        \n",
    "        line = self.file.readline().strip(\"\\n\")\n",
    "        if line: \n",
    "            return line.split(self.delimeter) # Columns\n",
    "        # it will return all fileds and values in the form of \n",
    "        # list.\n",
    "        else:\n",
    "            # if we don't find any value inside the getting\n",
    "            # line from file then only we will return False.\n",
    "            return False\n",
    "        \n",
    "    def __lineSep__(self, char=\"-\", n=100):\n",
    "        value = char*int(n)\n",
    "        print(value)\n",
    "        \n",
    "    def getData(self):\n",
    "        return self.__data\n",
    "        \n",
    "    def readData(self):\n",
    "        \"\"\"\n",
    "        To reterive the data from given file in the form of list.\n",
    "        \"\"\"\n",
    "        self.file.seek(self.__filePos_inital)\n",
    "        # Note: reseting the file pointer to read data from begenning \n",
    "        # of data\n",
    "        line = self.__get_row__();\n",
    "        while line:\n",
    "            self.__data.append(line)\n",
    "            line = self.__get_row__()\n",
    "            # getting next row\n",
    "        return self.__data\n",
    "    \n",
    "    \n",
    "    def displayTable(self): \n",
    "        self.file.seek(self.__filePos_inital)\n",
    "        line = self.__get_row__() ## \n",
    "        # line: as list of all data for each field.\n",
    "        self.__lineSep__(\"=\")\n",
    "        for field in self.headers:\n",
    "            print(field.ljust(30), end=\"\")\n",
    "        print() # after for loop we need to maintain the newline\n",
    "        self.__lineSep__(\"=\")\n",
    "        # first of all we need to show the header.\n",
    "        while line:\n",
    "            row = \"\"\n",
    "            for col in line:\n",
    "                row +=col.ljust(30) \n",
    "                # concatnating extra white space after the data string \n",
    "            print(row)\n",
    "            self.__lineSep__(\"-\")\n",
    "            line = self.__get_row__()"
   ]
  },
  {
   "cell_type": "code",
   "execution_count": 69,
   "id": "443c6ff0-5c20-4a1b-9ded-978ef299210d",
   "metadata": {},
   "outputs": [],
   "source": [
    "reader = CSVReader(\"studentIds.csv\")"
   ]
  },
  {
   "cell_type": "code",
   "execution_count": 70,
   "id": "95b87578-aa09-4c93-a36d-2d24cc892400",
   "metadata": {},
   "outputs": [
    {
     "name": "stdout",
     "output_type": "stream",
     "text": [
      "====================================================================================================\n",
      "Email Id                      Username                      Domain                        \n",
      "====================================================================================================\n",
      "AasishKumar@gmail.com         gmail.com                     AasishKumar                   \n",
      "----------------------------------------------------------------------------------------------------\n",
      "MansiJangid@gmail.com         MansiJangid                   gmail.com                     \n",
      "----------------------------------------------------------------------------------------------------\n",
      "ManishKumar9782@gmail.com     ManishKumar9782               gmail.com                     \n",
      "----------------------------------------------------------------------------------------------------\n",
      "AasifKhan007@gmail.com        AasifKhan007                  gmail.com                     \n",
      "----------------------------------------------------------------------------------------------------\n",
      "ChandanLakashkar@gmail.com    ChandanLakashkar              gmail.com                     \n",
      "----------------------------------------------------------------------------------------------------\n",
      "KuldeepSingh123@gmail.com     KuldeepSingh123               gmail.com                     \n",
      "----------------------------------------------------------------------------------------------------\n"
     ]
    }
   ],
   "source": [
    "reader.displayTable()"
   ]
  },
  {
   "cell_type": "code",
   "execution_count": 72,
   "id": "ea811c96-8e44-4e20-8b47-d08e338c3eea",
   "metadata": {},
   "outputs": [
    {
     "data": {
      "text/plain": [
       "[['AasishKumar@gmail.com', 'gmail.com', 'AasishKumar'],\n",
       " ['MansiJangid@gmail.com', 'MansiJangid', 'gmail.com'],\n",
       " ['ManishKumar9782@gmail.com', 'ManishKumar9782', 'gmail.com'],\n",
       " ['AasifKhan007@gmail.com', 'AasifKhan007', 'gmail.com'],\n",
       " ['ChandanLakashkar@gmail.com', 'ChandanLakashkar', 'gmail.com'],\n",
       " ['KuldeepSingh123@gmail.com', 'KuldeepSingh123', 'gmail.com']]"
      ]
     },
     "execution_count": 72,
     "metadata": {},
     "output_type": "execute_result"
    }
   ],
   "source": [
    "reader.readData()"
   ]
  },
  {
   "cell_type": "code",
   "execution_count": null,
   "id": "24a08132-312e-4c33-8224-2147e5565b26",
   "metadata": {},
   "outputs": [],
   "source": []
  },
  {
   "cell_type": "code",
   "execution_count": 44,
   "id": "7a664e48-5966-45b6-b3d2-12708b435240",
   "metadata": {},
   "outputs": [
    {
     "name": "stdout",
     "output_type": "stream",
     "text": [
      "Help on class CSVReader in module __main__:\n",
      "\n",
      "class CSVReader(builtins.object)\n",
      " |  CSVReader(file, delimeter=',')\n",
      " |  \n",
      " |  Methods defined here:\n",
      " |  \n",
      " |  __get_row__(self)\n",
      " |      this function will return a list of values from string after spliting\n",
      " |      by using delimeter as separator.\n",
      " |      \n",
      " |      return: list, if it has non-empty string, else False.\n",
      " |  \n",
      " |  __init__(self, file, delimeter=',')\n",
      " |      Initialize self.  See help(type(self)) for accurate signature.\n",
      " |  \n",
      " |  displayTable(self)\n",
      " |  \n",
      " |  ----------------------------------------------------------------------\n",
      " |  Data descriptors defined here:\n",
      " |  \n",
      " |  __dict__\n",
      " |      dictionary for instance variables (if defined)\n",
      " |  \n",
      " |  __weakref__\n",
      " |      list of weak references to the object (if defined)\n",
      "\n"
     ]
    }
   ],
   "source": [
    "help(CSVReader)"
   ]
  },
  {
   "cell_type": "code",
   "execution_count": 6,
   "id": "689e7468-7596-43f1-bdd0-26185704ee8a",
   "metadata": {},
   "outputs": [
    {
     "data": {
      "text/plain": [
       "'----------------------------------------------------------------------------------------------------'"
      ]
     },
     "execution_count": 6,
     "metadata": {},
     "output_type": "execute_result"
    }
   ],
   "source": [
    "\"-\"*100"
   ]
  },
  {
   "cell_type": "code",
   "execution_count": 36,
   "id": "4139b45a-c526-4025-8e46-e87e767b352f",
   "metadata": {},
   "outputs": [],
   "source": [
    "file = open(\"studentIds\")"
   ]
  },
  {
   "cell_type": "code",
   "execution_count": 51,
   "id": "e3fc0cb0-7b24-46e9-a84d-3085af92e8da",
   "metadata": {},
   "outputs": [
    {
     "name": "stdout",
     "output_type": "stream",
     "text": [
      "Help on TextIOWrapper object:\n",
      "\n",
      "class TextIOWrapper(_TextIOBase)\n",
      " |  TextIOWrapper(buffer, encoding=None, errors=None, newline=None, line_buffering=False, write_through=False)\n",
      " |  \n",
      " |  Character and line based layer over a BufferedIOBase object, buffer.\n",
      " |  \n",
      " |  encoding gives the name of the encoding that the stream will be\n",
      " |  decoded or encoded with. It defaults to locale.getpreferredencoding(False).\n",
      " |  \n",
      " |  errors determines the strictness of encoding and decoding (see\n",
      " |  help(codecs.Codec) or the documentation for codecs.register) and\n",
      " |  defaults to \"strict\".\n",
      " |  \n",
      " |  newline controls how line endings are handled. It can be None, '',\n",
      " |  '\\n', '\\r', and '\\r\\n'.  It works as follows:\n",
      " |  \n",
      " |  * On input, if newline is None, universal newlines mode is\n",
      " |    enabled. Lines in the input can end in '\\n', '\\r', or '\\r\\n', and\n",
      " |    these are translated into '\\n' before being returned to the\n",
      " |    caller. If it is '', universal newline mode is enabled, but line\n",
      " |    endings are returned to the caller untranslated. If it has any of\n",
      " |    the other legal values, input lines are only terminated by the given\n",
      " |    string, and the line ending is returned to the caller untranslated.\n",
      " |  \n",
      " |  * On output, if newline is None, any '\\n' characters written are\n",
      " |    translated to the system default line separator, os.linesep. If\n",
      " |    newline is '' or '\\n', no translation takes place. If newline is any\n",
      " |    of the other legal values, any '\\n' characters written are translated\n",
      " |    to the given string.\n",
      " |  \n",
      " |  If line_buffering is True, a call to flush is implied when a call to\n",
      " |  write contains a newline character.\n",
      " |  \n",
      " |  Method resolution order:\n",
      " |      TextIOWrapper\n",
      " |      _TextIOBase\n",
      " |      _IOBase\n",
      " |      builtins.object\n",
      " |  \n",
      " |  Methods defined here:\n",
      " |  \n",
      " |  __init__(self, /, *args, **kwargs)\n",
      " |      Initialize self.  See help(type(self)) for accurate signature.\n",
      " |  \n",
      " |  __next__(self, /)\n",
      " |      Implement next(self).\n",
      " |  \n",
      " |  __repr__(self, /)\n",
      " |      Return repr(self).\n",
      " |  \n",
      " |  close(self, /)\n",
      " |      Flush and close the IO object.\n",
      " |      \n",
      " |      This method has no effect if the file is already closed.\n",
      " |  \n",
      " |  detach(self, /)\n",
      " |      Separate the underlying buffer from the TextIOBase and return it.\n",
      " |      \n",
      " |      After the underlying buffer has been detached, the TextIO is in an\n",
      " |      unusable state.\n",
      " |  \n",
      " |  fileno(self, /)\n",
      " |      Returns underlying file descriptor if one exists.\n",
      " |      \n",
      " |      OSError is raised if the IO object does not use a file descriptor.\n",
      " |  \n",
      " |  flush(self, /)\n",
      " |      Flush write buffers, if applicable.\n",
      " |      \n",
      " |      This is not implemented for read-only and non-blocking streams.\n",
      " |  \n",
      " |  isatty(self, /)\n",
      " |      Return whether this is an 'interactive' stream.\n",
      " |      \n",
      " |      Return False if it can't be determined.\n",
      " |  \n",
      " |  read(self, size=-1, /)\n",
      " |      Read at most n characters from stream.\n",
      " |      \n",
      " |      Read from underlying buffer until we have n characters or we hit EOF.\n",
      " |      If n is negative or omitted, read until EOF.\n",
      " |  \n",
      " |  readable(self, /)\n",
      " |      Return whether object was opened for reading.\n",
      " |      \n",
      " |      If False, read() will raise OSError.\n",
      " |  \n",
      " |  readline(self, size=-1, /)\n",
      " |      Read until newline or EOF.\n",
      " |      \n",
      " |      Returns an empty string if EOF is hit immediately.\n",
      " |  \n",
      " |  reconfigure(self, /, *, encoding=None, errors=None, newline=None, line_buffering=None, write_through=None)\n",
      " |      Reconfigure the text stream with new parameters.\n",
      " |      \n",
      " |      This also does an implicit stream flush.\n",
      " |  \n",
      " |  seek(self, cookie, whence=0, /)\n",
      " |      Change stream position.\n",
      " |      \n",
      " |      Change the stream position to the given byte offset. The offset is\n",
      " |      interpreted relative to the position indicated by whence.  Values\n",
      " |      for whence are:\n",
      " |      \n",
      " |      * 0 -- start of stream (the default); offset should be zero or positive\n",
      " |      * 1 -- current stream position; offset may be negative\n",
      " |      * 2 -- end of stream; offset is usually negative\n",
      " |      \n",
      " |      Return the new absolute position.\n",
      " |  \n",
      " |  seekable(self, /)\n",
      " |      Return whether object supports random access.\n",
      " |      \n",
      " |      If False, seek(), tell() and truncate() will raise OSError.\n",
      " |      This method may need to do a test seek().\n",
      " |  \n",
      " |  tell(self, /)\n",
      " |      Return current stream position.\n",
      " |  \n",
      " |  truncate(self, pos=None, /)\n",
      " |      Truncate file to size bytes.\n",
      " |      \n",
      " |      File pointer is left unchanged.  Size defaults to the current IO\n",
      " |      position as reported by tell().  Returns the new size.\n",
      " |  \n",
      " |  writable(self, /)\n",
      " |      Return whether object was opened for writing.\n",
      " |      \n",
      " |      If False, write() will raise OSError.\n",
      " |  \n",
      " |  write(self, text, /)\n",
      " |      Write string to stream.\n",
      " |      Returns the number of characters written (which is always equal to\n",
      " |      the length of the string).\n",
      " |  \n",
      " |  ----------------------------------------------------------------------\n",
      " |  Static methods defined here:\n",
      " |  \n",
      " |  __new__(*args, **kwargs) from builtins.type\n",
      " |      Create and return a new object.  See help(type) for accurate signature.\n",
      " |  \n",
      " |  ----------------------------------------------------------------------\n",
      " |  Data descriptors defined here:\n",
      " |  \n",
      " |  buffer\n",
      " |  \n",
      " |  closed\n",
      " |  \n",
      " |  encoding\n",
      " |      Encoding of the text stream.\n",
      " |      \n",
      " |      Subclasses should override.\n",
      " |  \n",
      " |  errors\n",
      " |      The error setting of the decoder or encoder.\n",
      " |      \n",
      " |      Subclasses should override.\n",
      " |  \n",
      " |  line_buffering\n",
      " |  \n",
      " |  name\n",
      " |  \n",
      " |  newlines\n",
      " |      Line endings translated so far.\n",
      " |      \n",
      " |      Only line endings translated during reading are considered.\n",
      " |      \n",
      " |      Subclasses should override.\n",
      " |  \n",
      " |  write_through\n",
      " |  \n",
      " |  ----------------------------------------------------------------------\n",
      " |  Methods inherited from _IOBase:\n",
      " |  \n",
      " |  __del__(...)\n",
      " |  \n",
      " |  __enter__(...)\n",
      " |  \n",
      " |  __exit__(...)\n",
      " |  \n",
      " |  __iter__(self, /)\n",
      " |      Implement iter(self).\n",
      " |  \n",
      " |  readlines(self, hint=-1, /)\n",
      " |      Return a list of lines from the stream.\n",
      " |      \n",
      " |      hint can be specified to control the number of lines read: no more\n",
      " |      lines will be read if the total size (in bytes/characters) of all\n",
      " |      lines so far exceeds hint.\n",
      " |  \n",
      " |  writelines(self, lines, /)\n",
      " |      Write a list of lines to stream.\n",
      " |      \n",
      " |      Line separators are not added, so it is usual for each of the\n",
      " |      lines provided to have a line separator at the end.\n",
      " |  \n",
      " |  ----------------------------------------------------------------------\n",
      " |  Data descriptors inherited from _IOBase:\n",
      " |  \n",
      " |  __dict__\n",
      "\n"
     ]
    }
   ],
   "source": [
    "help(file)"
   ]
  },
  {
   "cell_type": "code",
   "execution_count": null,
   "id": "937d2433-4b61-48be-b4aa-5a06c49720c8",
   "metadata": {},
   "outputs": [],
   "source": []
  }
 ],
 "metadata": {
  "kernelspec": {
   "display_name": "Python 3 (ipykernel)",
   "language": "python",
   "name": "python3"
  },
  "language_info": {
   "codemirror_mode": {
    "name": "ipython",
    "version": 3
   },
   "file_extension": ".py",
   "mimetype": "text/x-python",
   "name": "python",
   "nbconvert_exporter": "python",
   "pygments_lexer": "ipython3",
   "version": "3.10.5"
  }
 },
 "nbformat": 4,
 "nbformat_minor": 5
}
