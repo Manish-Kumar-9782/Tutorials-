{
 "cells": [
  {
   "cell_type": "markdown",
   "id": "41f1ba25-36e2-473a-8dc2-baf0a8d68543",
   "metadata": {},
   "source": [
    "## Class Inheritance\n",
    "\n",
    "```python\n",
    "class SubClass(SuperClass):\n",
    "    \n",
    "    def __init__(self, *args):\n",
    "        # Now we need to call super class constructor.\n",
    "        super().__init__(*args)\n",
    "        self.attributes = attributes\n",
    "```\n",
    "\n",
    "**type of inheritance**\n",
    "\n",
    "1. Single level inheritance\n",
    "2. multilevel inheritance\n",
    "3. multiple inheritance\n",
    "4. Hierarchical Inheritance\n",
    "5. hybrid inheritance"
   ]
  },
  {
   "cell_type": "code",
   "execution_count": 19,
   "id": "c370da2e-acfd-4b11-ac05-cf88b32c8308",
   "metadata": {},
   "outputs": [],
   "source": [
    "class Date:\n",
    "    \n",
    "    def __init__(self,day,month,year):\n",
    "        self.day = day\n",
    "        self.month = month\n",
    "        self.year = year\n",
    "    \n",
    "    def __str__(self):\n",
    "        return f\"{self.day}-{self.month}-{self.year}\"\n",
    "    \n",
    "    def __repr__(self):\n",
    "        return f\"Date({self.day},{self.month},{self.year})\""
   ]
  },
  {
   "cell_type": "code",
   "execution_count": 23,
   "id": "4bf8584b-60a0-4b53-8768-495abe565f50",
   "metadata": {},
   "outputs": [],
   "source": [
    "class Person:\n",
    "    \n",
    "    def __init__(self,name, age, height, bloodGroup, date:Date):\n",
    "        self.name = name\n",
    "        self.age = age\n",
    "        self.height = height\n",
    "        self.bloodGroup = bloodGroup\n",
    "        self.dob = date\n",
    "        \n",
    "    def showInfo(self):\n",
    "        # print(\"student object id: \", id(self))\n",
    "        print(\"Calling from Person class\")   \n",
    "        print(\"Student Name: \", self.name)\n",
    "        print(\"Student Age: \", self.age)\n",
    "        print(\"Student Height: \", self.height)\n",
    "        print(\"Student bloodGroup\", self.bloodGroup)"
   ]
  },
  {
   "cell_type": "code",
   "execution_count": 30,
   "id": "c9718fdd-7369-44fc-a962-54ca2524f604",
   "metadata": {},
   "outputs": [],
   "source": [
    "class Student(Person):\n",
    "    \n",
    "    def __init__(self, name,age,height,bloodGroup,date,\n",
    "                 rollNo, _class, school, session):\n",
    "        # calling Person constructor by using super() function\n",
    "        # in that constructor passing all the required \n",
    "        # values to person constructor.\n",
    "        super().__init__(name,age,height,bloodGroup, date)\n",
    "        self.rollNo = rollNo\n",
    "        self._class = _class\n",
    "        self.school = school\n",
    "        self.session = session\n",
    "        \n",
    "        \n",
    "    \n",
    "    # overriding\n",
    "    def showInfo(self):\n",
    "        print(\"Calling from student class\")\n",
    "        \n",
    "        print(\"======================================\")\n",
    "        print(\"RollNo: \", self.rollNo)\n",
    "        print(\"Class: \", self._class)\n",
    "        print(\"School: \", self.school)\n",
    "        print(\"Sesson: \", self.session)  \n",
    "        print(\"======================================\")\n",
    "        super().showInfo()\n",
    "        \n",
    "    "
   ]
  },
  {
   "cell_type": "code",
   "execution_count": 31,
   "id": "bf0932f9-cfbb-45b2-9f29-a0e0027005a5",
   "metadata": {},
   "outputs": [],
   "source": [
    "st = Student(\"mansi\",21,5.6, \"AB+\",Date(11,5,2023),\n",
    "             12345, 11, \"Tech Innovation\", 2023)"
   ]
  },
  {
   "cell_type": "code",
   "execution_count": 32,
   "id": "4006a14d-3057-400a-927a-a05c71d1be40",
   "metadata": {},
   "outputs": [
    {
     "name": "stdout",
     "output_type": "stream",
     "text": [
      "Calling from student class\n",
      "======================================\n",
      "RollNo:  12345\n",
      "Class:  11\n",
      "School:  Tech Innovation\n",
      "Sesson:  2023\n",
      "======================================\n",
      "Calling from Person class\n",
      "Student Name:  mansi\n",
      "Student Age:  21\n",
      "Student Height:  5.6\n",
      "Student bloodGroup AB+\n"
     ]
    }
   ],
   "source": [
    "st.showInfo()"
   ]
  },
  {
   "cell_type": "code",
   "execution_count": 21,
   "id": "072c4d69-23da-4f85-8a2e-b86c755e917e",
   "metadata": {},
   "outputs": [],
   "source": [
    "person = Person(\"mansi\",21,5.6, \"AB+\", Date(11,5,2023))"
   ]
  },
  {
   "cell_type": "code",
   "execution_count": 22,
   "id": "d26000b0-367f-4a85-b742-298a87759575",
   "metadata": {},
   "outputs": [
    {
     "data": {
      "text/plain": [
       "Date(11,5,2023)"
      ]
     },
     "execution_count": 22,
     "metadata": {},
     "output_type": "execute_result"
    }
   ],
   "source": [
    "person.dob"
   ]
  },
  {
   "cell_type": "code",
   "execution_count": 12,
   "id": "13de3060-de51-4f9f-8e8f-8882bae70cc1",
   "metadata": {},
   "outputs": [
    {
     "name": "stdout",
     "output_type": "stream",
     "text": [
      "Student Name:  mansi\n",
      "Student Age:  21\n",
      "Student Height:  5.6\n",
      "Student bloodGroup AB+\n"
     ]
    }
   ],
   "source": [
    "st.showInfo()"
   ]
  },
  {
   "cell_type": "code",
   "execution_count": 13,
   "id": "551e2162-d5c8-4d4f-816d-d5f46d69809d",
   "metadata": {},
   "outputs": [
    {
     "data": {
      "text/plain": [
       "'mansi'"
      ]
     },
     "execution_count": 13,
     "metadata": {},
     "output_type": "execute_result"
    }
   ],
   "source": [
    "st.name"
   ]
  },
  {
   "cell_type": "code",
   "execution_count": 10,
   "id": "ac1b285c-8f7c-4747-a54b-f5de1102fcdd",
   "metadata": {},
   "outputs": [
    {
     "data": {
      "text/plain": [
       "21"
      ]
     },
     "execution_count": 10,
     "metadata": {},
     "output_type": "execute_result"
    }
   ],
   "source": [
    "st.age"
   ]
  },
  {
   "cell_type": "code",
   "execution_count": null,
   "id": "bdf93d04-5435-4fa3-8bb9-cf81b32ca669",
   "metadata": {},
   "outputs": [],
   "source": []
  }
 ],
 "metadata": {
  "kernelspec": {
   "display_name": "Python 3 (ipykernel)",
   "language": "python",
   "name": "python3"
  },
  "language_info": {
   "codemirror_mode": {
    "name": "ipython",
    "version": 3
   },
   "file_extension": ".py",
   "mimetype": "text/x-python",
   "name": "python",
   "nbconvert_exporter": "python",
   "pygments_lexer": "ipython3",
   "version": "3.10.5"
  }
 },
 "nbformat": 4,
 "nbformat_minor": 5
}
