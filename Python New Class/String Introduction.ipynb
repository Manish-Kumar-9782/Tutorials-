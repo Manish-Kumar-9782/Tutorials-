{
 "cells": [
  {
   "cell_type": "markdown",
   "id": "a1713245-851b-4305-9ddf-faf48abf1eb3",
   "metadata": {},
   "source": [
    "## String Introduction"
   ]
  },
  {
   "cell_type": "markdown",
   "id": "c8e23bb5-bc59-4378-8961-16141d3612e6",
   "metadata": {},
   "source": [
    "Stirng: String is a data type which have the text based content. all strings are wrapped inside the single, double, or tripple quotes.\n",
    "\n",
    "```python\n",
    "singlQuotesString = 'This is single quotes string.'\n",
    "doubleQuotesString = \"This is single quotes string.\"\n",
    "trippleQuotesString = \"\"\"This is single quotes string.\"\"\"\n",
    "```"
   ]
  },
  {
   "cell_type": "code",
   "execution_count": 1,
   "id": "fd6c2253-995a-4042-810c-de576df6ad09",
   "metadata": {},
   "outputs": [],
   "source": [
    "# single qutoe string\n",
    "greeting = \"Hello, my name is Himanshu and who are you?\""
   ]
  },
  {
   "cell_type": "markdown",
   "id": "73ae8933-6c06-492c-bafc-22fc3b23cef5",
   "metadata": {},
   "source": [
    "### Acceesing Characters"
   ]
  },
  {
   "cell_type": "markdown",
   "id": "694faf13-17c5-4b5e-9b9f-c1755cbc9707",
   "metadata": {},
   "source": [
    "Note: Since string is a sequence of characters then we can access each character by using the `[]` bracket with index number.\n",
    "\n",
    "```python\n",
    "# accessing string characters\n",
    "string[index]\n",
    "```\n",
    "\n",
    "`Note:` Note that each sequence in string starts from 0."
   ]
  },
  {
   "cell_type": "code",
   "execution_count": 2,
   "id": "69fdf707-7675-4bec-aa61-f99bf0675bf4",
   "metadata": {},
   "outputs": [
    {
     "data": {
      "text/plain": [
       "'o'"
      ]
     },
     "execution_count": 2,
     "metadata": {},
     "output_type": "execute_result"
    }
   ],
   "source": [
    "# nOw we will access the 5th number of charcter from the greeting string.\n",
    "# index number of 5th charcter is 4, since we are starting from zero.\n",
    "greeting[4]"
   ]
  },
  {
   "cell_type": "markdown",
   "id": "4dc58ae0-7a0d-46be-93c5-c9e3d41dbbb9",
   "metadata": {},
   "source": [
    "### String as Object\n",
    "\n",
    "Since each entity in python is consider as object. So string is also an object.\n",
    "\n",
    "Each object contains two things:\n",
    "\n",
    "1. data\n",
    "2. function/method/behavior\n",
    "\n",
    "if String is a Object:\n",
    "\n",
    "* data: text content.\n",
    "* method: string  methods like, find, format, islower, isdigit etc.\n",
    "\n",
    "Note: All method are accessed by using the `'.'` dot member operator.\n",
    "\n",
    "```python\n",
    "    stringObject.methodName(parameters)\n",
    "```\n",
    "\n",
    "`parameters: ` parameters are the input values to the functions/methods."
   ]
  },
  {
   "cell_type": "markdown",
   "id": "a5bbb1d4-12b3-4bc6-9ca0-a35b32ab3655",
   "metadata": {},
   "source": [
    "## Working with string methods\n",
    "\n",
    "### 1. find() method\n",
    "\n",
    "find method will find the given substring from the original string."
   ]
  },
  {
   "cell_type": "code",
   "execution_count": 4,
   "id": "05040f69-a7a0-4f2a-8e57-fa36c23b48ca",
   "metadata": {},
   "outputs": [
    {
     "data": {
      "text/plain": [
       "'Hello, my name is Himanshu and who are you?'"
      ]
     },
     "execution_count": 4,
     "metadata": {},
     "output_type": "execute_result"
    }
   ],
   "source": [
    "greeting"
   ]
  },
  {
   "cell_type": "code",
   "execution_count": 5,
   "id": "15e8de73-da29-4a54-88dd-90c1128395c4",
   "metadata": {},
   "outputs": [
    {
     "name": "stdout",
     "output_type": "stream",
     "text": [
      "Help on method_descriptor:\n",
      "\n",
      "find(...)\n",
      "    S.find(sub[, start[, end]]) -> int\n",
      "    \n",
      "    Return the lowest index in S where substring sub is found,\n",
      "    such that sub is contained within S[start:end].  Optional\n",
      "    arguments start and end are interpreted as in slice notation.\n",
      "    \n",
      "    Return -1 on failure.\n",
      "\n"
     ]
    }
   ],
   "source": [
    "help(str.find)"
   ]
  },
  {
   "cell_type": "code",
   "execution_count": 8,
   "id": "36f5dc79-bfcc-4034-b0cf-0a11f59dda2b",
   "metadata": {},
   "outputs": [
    {
     "data": {
      "text/plain": [
       "18"
      ]
     },
     "execution_count": 8,
     "metadata": {},
     "output_type": "execute_result"
    }
   ],
   "source": [
    "# Testing that Himanshu is preseint in the greeting message.\n",
    "greeting.find(\"Himanshu\") \n",
    "# return --> index number at where our Himanshu is found\n"
   ]
  },
  {
   "cell_type": "markdown",
   "id": "ef311c80-1900-4002-abe8-3d3b0127109c",
   "metadata": {},
   "source": [
    "### String length\n",
    "\n",
    "To find the lenght of the string we use `len()` funciton."
   ]
  },
  {
   "cell_type": "code",
   "execution_count": 9,
   "id": "50ec664e-9d57-4446-99b9-1a42b6e01edb",
   "metadata": {},
   "outputs": [
    {
     "name": "stdout",
     "output_type": "stream",
     "text": [
      "Length of the greeting:  43\n"
     ]
    }
   ],
   "source": [
    "print(\"Length of the greeting: \", len(greeting))"
   ]
  },
  {
   "cell_type": "markdown",
   "id": "b4ff8d51-2148-4d12-976a-30db63824738",
   "metadata": {},
   "source": [
    "___"
   ]
  },
  {
   "cell_type": "markdown",
   "id": "ff8c12a3-ecc8-4fc4-9b2d-f03f0991f2b0",
   "metadata": {},
   "source": [
    "### LoweCase and UpperCase"
   ]
  },
  {
   "cell_type": "code",
   "execution_count": 10,
   "id": "f5883b82-02fe-4890-b7c2-5a738fb3055f",
   "metadata": {},
   "outputs": [],
   "source": [
    "Name = \"Himanshu Kumar\""
   ]
  },
  {
   "cell_type": "code",
   "execution_count": 11,
   "id": "eeb06e84-68c9-44bc-a87b-706e2335fb04",
   "metadata": {},
   "outputs": [
    {
     "data": {
      "text/plain": [
       "'himanshu kumar'"
      ]
     },
     "execution_count": 11,
     "metadata": {},
     "output_type": "execute_result"
    }
   ],
   "source": [
    "# Now we want to convert all the charcter of name into small letter.\n",
    "Name.lower()"
   ]
  },
  {
   "cell_type": "code",
   "execution_count": 12,
   "id": "734700cc-b55c-431f-bea8-ece965b185ca",
   "metadata": {},
   "outputs": [
    {
     "data": {
      "text/plain": [
       "'HIMANSHU KUMAR'"
      ]
     },
     "execution_count": 12,
     "metadata": {},
     "output_type": "execute_result"
    }
   ],
   "source": [
    "# converting into uppercase letter.\n",
    "Name.upper()"
   ]
  },
  {
   "cell_type": "code",
   "execution_count": 13,
   "id": "28e34989-8307-43c3-af13-fb24e8455ac3",
   "metadata": {},
   "outputs": [],
   "source": [
    "anotherName = \"manish kumar\""
   ]
  },
  {
   "cell_type": "code",
   "execution_count": 14,
   "id": "e563e2db-6454-4934-8fd8-95470ed90b03",
   "metadata": {},
   "outputs": [
    {
     "data": {
      "text/plain": [
       "'Manish kumar'"
      ]
     },
     "execution_count": 14,
     "metadata": {},
     "output_type": "execute_result"
    }
   ],
   "source": [
    "anotherName.capitalize()"
   ]
  },
  {
   "cell_type": "markdown",
   "id": "41936837-b085-42a0-9303-f522432c0b29",
   "metadata": {},
   "source": [
    "**Casefold method**"
   ]
  },
  {
   "cell_type": "code",
   "execution_count": 2,
   "id": "aecd0abb-99b2-48f3-9b50-404202065336",
   "metadata": {},
   "outputs": [],
   "source": [
    "fullName = \"Himanshu Kumar\""
   ]
  },
  {
   "cell_type": "code",
   "execution_count": 3,
   "id": "e2916b2b-3833-49ad-ba07-c675c43ce833",
   "metadata": {},
   "outputs": [
    {
     "data": {
      "text/plain": [
       "'himanshu kumar'"
      ]
     },
     "execution_count": 3,
     "metadata": {},
     "output_type": "execute_result"
    }
   ],
   "source": [
    "fullName.casefold()"
   ]
  },
  {
   "cell_type": "code",
   "execution_count": 4,
   "id": "185468d4-2346-4083-ac6a-81e9631a98ff",
   "metadata": {},
   "outputs": [
    {
     "name": "stdout",
     "output_type": "stream",
     "text": [
      "Help on method_descriptor:\n",
      "\n",
      "count(...)\n",
      "    S.count(sub[, start[, end]]) -> int\n",
      "    \n",
      "    Return the number of non-overlapping occurrences of substring sub in\n",
      "    string S[start:end].  Optional arguments start and end are\n",
      "    interpreted as in slice notation.\n",
      "\n"
     ]
    }
   ],
   "source": [
    "help(str.count)"
   ]
  },
  {
   "cell_type": "code",
   "execution_count": null,
   "id": "ba292a32-ad66-4c8a-898e-b206211f278b",
   "metadata": {},
   "outputs": [],
   "source": [
    "# Now we are making a new string. ok.\n",
    "greeting = \"Hello, how are you, what is your name.\"\n",
    "\n",
    "# ok this is our string and we want to count the repeating words/characters.\n"
   ]
  }
 ],
 "metadata": {
  "kernelspec": {
   "display_name": "Python 3 (ipykernel)",
   "language": "python",
   "name": "python3"
  },
  "language_info": {
   "codemirror_mode": {
    "name": "ipython",
    "version": 3
   },
   "file_extension": ".py",
   "mimetype": "text/x-python",
   "name": "python",
   "nbconvert_exporter": "python",
   "pygments_lexer": "ipython3",
   "version": "3.10.5"
  }
 },
 "nbformat": 4,
 "nbformat_minor": 5
}
