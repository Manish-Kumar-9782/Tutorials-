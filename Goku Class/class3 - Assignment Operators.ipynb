{
 "cells": [
  {
   "cell_type": "markdown",
   "id": "ec623dae-b8fc-4db2-8117-c178aa148e09",
   "metadata": {},
   "source": [
    "### Assignment operators in Python"
   ]
  },
  {
   "cell_type": "markdown",
   "id": "2735f196-2819-48b5-9afe-f1e78d50d332",
   "metadata": {},
   "source": [
    "1. `=` Assignment operator\n",
    "2. `+=` add and assignment operator\n",
    "3. `-=` minus and assignement operator\n",
    "4. `*=` multipy and assignement operator\n",
    "5. `/=` divide and assignement operator\n",
    "6. `%=` modulo and assignement operator"
   ]
  },
  {
   "cell_type": "markdown",
   "id": "f95ada8d-652f-482e-83f8-70eac41e25fd",
   "metadata": {},
   "source": [
    "#### `+=` operator"
   ]
  },
  {
   "cell_type": "code",
   "execution_count": 1,
   "id": "c4012bc2-4f9c-4f99-be4b-5b43bb33c5b5",
   "metadata": {},
   "outputs": [],
   "source": [
    "a = 10"
   ]
  },
  {
   "cell_type": "code",
   "execution_count": 2,
   "id": "a3c6d09c-063b-4907-8253-27d025493c75",
   "metadata": {},
   "outputs": [
    {
     "data": {
      "text/plain": [
       "30"
      ]
     },
     "execution_count": 2,
     "metadata": {},
     "output_type": "execute_result"
    }
   ],
   "source": [
    "a + 20"
   ]
  },
  {
   "cell_type": "code",
   "execution_count": 3,
   "id": "cd7bc72a-90ca-40f7-bf5e-e48ccdcf9623",
   "metadata": {},
   "outputs": [
    {
     "data": {
      "text/plain": [
       "10"
      ]
     },
     "execution_count": 3,
     "metadata": {},
     "output_type": "execute_result"
    }
   ],
   "source": [
    "a"
   ]
  },
  {
   "cell_type": "code",
   "execution_count": 4,
   "id": "97d2936d-d691-4033-8187-2367c1b93425",
   "metadata": {},
   "outputs": [],
   "source": [
    "a = a + 20 "
   ]
  },
  {
   "cell_type": "code",
   "execution_count": 5,
   "id": "5184d59f-4c5b-4c2e-972f-ed9119624645",
   "metadata": {},
   "outputs": [
    {
     "data": {
      "text/plain": [
       "30"
      ]
     },
     "execution_count": 5,
     "metadata": {},
     "output_type": "execute_result"
    }
   ],
   "source": [
    "a"
   ]
  },
  {
   "cell_type": "code",
   "execution_count": 7,
   "id": "f48902bf-93d9-4b5d-be71-e48b4a2b05f1",
   "metadata": {},
   "outputs": [],
   "source": [
    "a = 10"
   ]
  },
  {
   "cell_type": "code",
   "execution_count": 8,
   "id": "96c48d95-a010-479f-bcf5-f747460caba1",
   "metadata": {},
   "outputs": [
    {
     "data": {
      "text/plain": [
       "10"
      ]
     },
     "execution_count": 8,
     "metadata": {},
     "output_type": "execute_result"
    }
   ],
   "source": [
    "a"
   ]
  },
  {
   "cell_type": "code",
   "execution_count": 9,
   "id": "34c4f51d-fca5-4a90-bb54-6f2b7d4dcb97",
   "metadata": {},
   "outputs": [
    {
     "data": {
      "text/plain": [
       "30"
      ]
     },
     "execution_count": 9,
     "metadata": {},
     "output_type": "execute_result"
    }
   ],
   "source": [
    "a += 20 # a = a + 20\n",
    "a"
   ]
  },
  {
   "cell_type": "code",
   "execution_count": 10,
   "id": "f4cd6065-5070-4ab6-95fd-98d6a3ff9d0f",
   "metadata": {},
   "outputs": [
    {
     "data": {
      "text/plain": [
       "30"
      ]
     },
     "execution_count": 10,
     "metadata": {},
     "output_type": "execute_result"
    }
   ],
   "source": [
    "a"
   ]
  },
  {
   "cell_type": "markdown",
   "id": "a6761331-bd63-4d1a-9d2c-06c828e59e03",
   "metadata": {},
   "source": [
    "#### `-=` Operator"
   ]
  },
  {
   "cell_type": "code",
   "execution_count": 11,
   "id": "6e6067f8-2ec6-4c09-887b-5db48aeae9a9",
   "metadata": {},
   "outputs": [
    {
     "data": {
      "text/plain": [
       "30"
      ]
     },
     "execution_count": 11,
     "metadata": {},
     "output_type": "execute_result"
    }
   ],
   "source": [
    "a"
   ]
  },
  {
   "cell_type": "code",
   "execution_count": 12,
   "id": "4c027ef2-d7e2-40e1-bb4d-fcc45b41f8a7",
   "metadata": {},
   "outputs": [
    {
     "data": {
      "text/plain": [
       "10"
      ]
     },
     "execution_count": 12,
     "metadata": {},
     "output_type": "execute_result"
    }
   ],
   "source": [
    "a - 20"
   ]
  },
  {
   "cell_type": "code",
   "execution_count": 13,
   "id": "9bdaaafe-1698-41c3-bcce-b0c2ee3a6f44",
   "metadata": {},
   "outputs": [
    {
     "data": {
      "text/plain": [
       "30"
      ]
     },
     "execution_count": 13,
     "metadata": {},
     "output_type": "execute_result"
    }
   ],
   "source": [
    "a"
   ]
  },
  {
   "cell_type": "code",
   "execution_count": 15,
   "id": "b8a6f046-e776-41d7-982f-4ccef167b28e",
   "metadata": {},
   "outputs": [],
   "source": [
    "a -= 20 # a = a - 20"
   ]
  },
  {
   "cell_type": "code",
   "execution_count": 16,
   "id": "dc130e64-5b82-45d4-b50c-707d769280fb",
   "metadata": {},
   "outputs": [
    {
     "data": {
      "text/plain": [
       "10"
      ]
     },
     "execution_count": 16,
     "metadata": {},
     "output_type": "execute_result"
    }
   ],
   "source": [
    "a"
   ]
  },
  {
   "cell_type": "code",
   "execution_count": 17,
   "id": "c067c4f5-42c6-4218-8b1f-0c6e9a2fad61",
   "metadata": {},
   "outputs": [],
   "source": [
    "a -= 20"
   ]
  },
  {
   "cell_type": "code",
   "execution_count": 18,
   "id": "9e3a6a0c-b6db-40c6-818a-9c13ca36f714",
   "metadata": {},
   "outputs": [
    {
     "data": {
      "text/plain": [
       "-10"
      ]
     },
     "execution_count": 18,
     "metadata": {},
     "output_type": "execute_result"
    }
   ],
   "source": [
    "a"
   ]
  },
  {
   "cell_type": "markdown",
   "id": "a22cf87c-56ba-4b57-b353-8ebec74e42e2",
   "metadata": {},
   "source": [
    "#### `*=` Operator"
   ]
  },
  {
   "cell_type": "code",
   "execution_count": 19,
   "id": "9990d343-286f-4f20-a068-f5b5eae65796",
   "metadata": {},
   "outputs": [],
   "source": [
    "a = 20"
   ]
  },
  {
   "cell_type": "code",
   "execution_count": 20,
   "id": "f9a0dcc3-092b-4485-90ff-89f7bafbdd5f",
   "metadata": {},
   "outputs": [
    {
     "data": {
      "text/plain": [
       "200"
      ]
     },
     "execution_count": 20,
     "metadata": {},
     "output_type": "execute_result"
    }
   ],
   "source": [
    "a * 10"
   ]
  },
  {
   "cell_type": "code",
   "execution_count": 21,
   "id": "715610c9-f7bf-444e-b1c7-3574e7bfc94d",
   "metadata": {},
   "outputs": [
    {
     "data": {
      "text/plain": [
       "20"
      ]
     },
     "execution_count": 21,
     "metadata": {},
     "output_type": "execute_result"
    }
   ],
   "source": [
    "a"
   ]
  },
  {
   "cell_type": "code",
   "execution_count": 22,
   "id": "abdc34d5-be8d-4229-b3d9-5a964a826614",
   "metadata": {},
   "outputs": [],
   "source": [
    "a *= 10 # a = a * 10"
   ]
  },
  {
   "cell_type": "code",
   "execution_count": 23,
   "id": "a491910d-cb07-4d53-8a0c-37d2aeb08718",
   "metadata": {},
   "outputs": [
    {
     "data": {
      "text/plain": [
       "200"
      ]
     },
     "execution_count": 23,
     "metadata": {},
     "output_type": "execute_result"
    }
   ],
   "source": [
    "a"
   ]
  },
  {
   "cell_type": "markdown",
   "id": "5f1ebd81-a25f-4c84-9cfa-ff0ffe015176",
   "metadata": {},
   "source": [
    "#### `/=` Opearator"
   ]
  },
  {
   "cell_type": "code",
   "execution_count": 29,
   "id": "93a5236e-a1ab-4d70-83e5-352ba41fe034",
   "metadata": {},
   "outputs": [],
   "source": [
    "a = 50"
   ]
  },
  {
   "cell_type": "code",
   "execution_count": 30,
   "id": "54ddc6ba-ff74-4ab4-bc8e-f462bcf36da1",
   "metadata": {},
   "outputs": [
    {
     "data": {
      "text/plain": [
       "50"
      ]
     },
     "execution_count": 30,
     "metadata": {},
     "output_type": "execute_result"
    }
   ],
   "source": [
    "a"
   ]
  },
  {
   "cell_type": "code",
   "execution_count": 31,
   "id": "257ce9b4-4363-44b6-9329-33798102189d",
   "metadata": {},
   "outputs": [
    {
     "data": {
      "text/plain": [
       "5.0"
      ]
     },
     "execution_count": 31,
     "metadata": {},
     "output_type": "execute_result"
    }
   ],
   "source": [
    "a/10"
   ]
  },
  {
   "cell_type": "code",
   "execution_count": 32,
   "id": "9ed1f17e-2a61-4d37-a211-70df9d334cb8",
   "metadata": {},
   "outputs": [],
   "source": [
    "a /= 10 # a = a / 10"
   ]
  },
  {
   "cell_type": "code",
   "execution_count": 33,
   "id": "31224971-4823-466f-8013-6c9e52e70e9e",
   "metadata": {},
   "outputs": [
    {
     "data": {
      "text/plain": [
       "5.0"
      ]
     },
     "execution_count": 33,
     "metadata": {},
     "output_type": "execute_result"
    }
   ],
   "source": [
    "a"
   ]
  },
  {
   "cell_type": "markdown",
   "id": "e9193419-525e-4408-b166-0a12e05a4b7f",
   "metadata": {},
   "source": [
    "#### `%=` Operator"
   ]
  },
  {
   "cell_type": "code",
   "execution_count": 35,
   "id": "4d319f4b-3748-4f2e-9d11-3cbcfb14e45e",
   "metadata": {},
   "outputs": [],
   "source": [
    "a = 24"
   ]
  },
  {
   "cell_type": "code",
   "execution_count": 36,
   "id": "18c84c78-716f-4e36-8639-4c9f2fada20d",
   "metadata": {},
   "outputs": [
    {
     "data": {
      "text/plain": [
       "24"
      ]
     },
     "execution_count": 36,
     "metadata": {},
     "output_type": "execute_result"
    }
   ],
   "source": [
    "a"
   ]
  },
  {
   "cell_type": "code",
   "execution_count": 39,
   "id": "8d65df4d-eede-4a9f-9c6c-1804970d1fc1",
   "metadata": {},
   "outputs": [
    {
     "data": {
      "text/plain": [
       "3"
      ]
     },
     "execution_count": 39,
     "metadata": {},
     "output_type": "execute_result"
    }
   ],
   "source": [
    "a % 7"
   ]
  },
  {
   "cell_type": "code",
   "execution_count": 40,
   "id": "79770019-14d8-4388-8770-8b30af8124d6",
   "metadata": {},
   "outputs": [
    {
     "data": {
      "text/plain": [
       "24"
      ]
     },
     "execution_count": 40,
     "metadata": {},
     "output_type": "execute_result"
    }
   ],
   "source": [
    "a"
   ]
  },
  {
   "cell_type": "code",
   "execution_count": 41,
   "id": "aaa247c9-7130-4b5d-a928-8cee5c619f37",
   "metadata": {},
   "outputs": [],
   "source": [
    "a %= 7 # a = a % 7"
   ]
  },
  {
   "cell_type": "code",
   "execution_count": 42,
   "id": "9b786df5-3a79-44e3-b821-15f5ed33b3c3",
   "metadata": {},
   "outputs": [
    {
     "data": {
      "text/plain": [
       "3"
      ]
     },
     "execution_count": 42,
     "metadata": {},
     "output_type": "execute_result"
    }
   ],
   "source": [
    "a"
   ]
  },
  {
   "cell_type": "markdown",
   "id": "041a4e7d-e0f9-4983-9a8c-bcd405ceb002",
   "metadata": {},
   "source": [
    "____"
   ]
  },
  {
   "cell_type": "markdown",
   "id": "0655c070-571e-47b4-8396-cbe8154775c0",
   "metadata": {},
   "source": [
    "#### Relational Operators\n",
    "\n",
    "1. `==` Operator\n",
    "2. `<=` Operator\n",
    "3. `>=` Operator\n",
    "4. `<` Operator\n",
    "5. `>` Operator\n",
    "6. `!=` Operator\n",
    "\n",
    "all relational operator give output as `True` or `False`"
   ]
  },
  {
   "cell_type": "code",
   "execution_count": 44,
   "id": "770514b3-04fb-4bb4-ac0b-835c1dd56104",
   "metadata": {},
   "outputs": [],
   "source": [
    "a = 10\n",
    "b = 5"
   ]
  },
  {
   "cell_type": "code",
   "execution_count": 45,
   "id": "2cb933dd-2363-42ee-a7fc-ba9d41b7ad8c",
   "metadata": {},
   "outputs": [
    {
     "name": "stdout",
     "output_type": "stream",
     "text": [
      "a:  10\n",
      "b:  5\n"
     ]
    }
   ],
   "source": [
    "print(\"a: \", a)\n",
    "print(\"b: \", b)"
   ]
  },
  {
   "cell_type": "markdown",
   "id": "19a11ec8-b167-46fa-9870-96626cdf3b8f",
   "metadata": {},
   "source": [
    "#### `==` Operator\n",
    "\n",
    "it used to compare two object/variable that, they are equal or not.\n"
   ]
  },
  {
   "cell_type": "code",
   "execution_count": 46,
   "id": "8b6364f2-75c7-4827-ba10-8003183da2cd",
   "metadata": {},
   "outputs": [
    {
     "name": "stdout",
     "output_type": "stream",
     "text": [
      "a:  10\n",
      "b:  5\n"
     ]
    }
   ],
   "source": [
    "print(\"a: \", a)\n",
    "print(\"b: \", b)"
   ]
  },
  {
   "cell_type": "code",
   "execution_count": 47,
   "id": "739ed655-cc23-4f12-8009-552a4021047d",
   "metadata": {},
   "outputs": [
    {
     "data": {
      "text/plain": [
       "False"
      ]
     },
     "execution_count": 47,
     "metadata": {},
     "output_type": "execute_result"
    }
   ],
   "source": [
    "a == b # comparing a with b by using == operator"
   ]
  },
  {
   "cell_type": "code",
   "execution_count": 48,
   "id": "a3622622-c077-4156-8eed-1cd94c0cdc78",
   "metadata": {},
   "outputs": [
    {
     "data": {
      "text/plain": [
       "False"
      ]
     },
     "execution_count": 48,
     "metadata": {},
     "output_type": "execute_result"
    }
   ],
   "source": [
    "b == a"
   ]
  },
  {
   "cell_type": "code",
   "execution_count": 49,
   "id": "f8be2c6b-acce-4022-8660-228f87a729f1",
   "metadata": {},
   "outputs": [],
   "source": [
    "a = 10 \n",
    "b = 10"
   ]
  },
  {
   "cell_type": "code",
   "execution_count": 50,
   "id": "ac3844bb-6113-4a5e-a8bf-94ff3842e6f2",
   "metadata": {},
   "outputs": [
    {
     "data": {
      "text/plain": [
       "True"
      ]
     },
     "execution_count": 50,
     "metadata": {},
     "output_type": "execute_result"
    }
   ],
   "source": [
    "a == b"
   ]
  },
  {
   "cell_type": "code",
   "execution_count": 51,
   "id": "a7c52153-5698-417a-90db-9743cf254417",
   "metadata": {},
   "outputs": [],
   "source": [
    "a = 3.4\n",
    "b = 6.8"
   ]
  },
  {
   "cell_type": "code",
   "execution_count": 52,
   "id": "5e1787b7-73e9-4a6c-94f7-2d2e50b6eac4",
   "metadata": {},
   "outputs": [
    {
     "data": {
      "text/plain": [
       "False"
      ]
     },
     "execution_count": 52,
     "metadata": {},
     "output_type": "execute_result"
    }
   ],
   "source": [
    "a == b"
   ]
  },
  {
   "cell_type": "code",
   "execution_count": 53,
   "id": "2a493fdf-da83-4a8b-856a-4ca56d540a6b",
   "metadata": {},
   "outputs": [],
   "source": [
    "a = 3.4\n",
    "b = 3.4"
   ]
  },
  {
   "cell_type": "code",
   "execution_count": 54,
   "id": "7a099a23-a3d6-477b-b7d1-a631366b9812",
   "metadata": {},
   "outputs": [
    {
     "data": {
      "text/plain": [
       "True"
      ]
     },
     "execution_count": 54,
     "metadata": {},
     "output_type": "execute_result"
    }
   ],
   "source": [
    "a == b"
   ]
  },
  {
   "cell_type": "code",
   "execution_count": 69,
   "id": "a7f0c962-f5cc-4b17-9664-a79732d1c646",
   "metadata": {},
   "outputs": [],
   "source": [
    "a = \"Kushal\"\n",
    "b = \"Ravi\""
   ]
  },
  {
   "cell_type": "code",
   "execution_count": 70,
   "id": "8ec2ebc8-4d43-44a1-b36d-e8df53084fd6",
   "metadata": {},
   "outputs": [
    {
     "data": {
      "text/plain": [
       "False"
      ]
     },
     "execution_count": 70,
     "metadata": {},
     "output_type": "execute_result"
    }
   ],
   "source": [
    "a == b"
   ]
  },
  {
   "cell_type": "code",
   "execution_count": 71,
   "id": "d956b5e9-90fc-43a6-8586-ccc30492ab14",
   "metadata": {},
   "outputs": [],
   "source": [
    "x = \"Kushal\"\n",
    "y = \"Ravi\""
   ]
  },
  {
   "cell_type": "code",
   "execution_count": 72,
   "id": "ca79b8ac-f742-47ae-9929-21480e11c787",
   "metadata": {},
   "outputs": [
    {
     "data": {
      "text/plain": [
       "True"
      ]
     },
     "execution_count": 72,
     "metadata": {},
     "output_type": "execute_result"
    }
   ],
   "source": [
    "a == x"
   ]
  },
  {
   "cell_type": "code",
   "execution_count": 73,
   "id": "ce8e1503-b0b6-41c6-944c-82574b447b6a",
   "metadata": {},
   "outputs": [
    {
     "data": {
      "text/plain": [
       "False"
      ]
     },
     "execution_count": 73,
     "metadata": {},
     "output_type": "execute_result"
    }
   ],
   "source": [
    "a == y"
   ]
  },
  {
   "cell_type": "code",
   "execution_count": 74,
   "id": "e83509dd-cba2-4e11-8f53-246d08ee617a",
   "metadata": {},
   "outputs": [
    {
     "data": {
      "text/plain": [
       "False"
      ]
     },
     "execution_count": 74,
     "metadata": {},
     "output_type": "execute_result"
    }
   ],
   "source": [
    "b == x"
   ]
  },
  {
   "cell_type": "code",
   "execution_count": 75,
   "id": "3930d1e7-6e27-4cd5-8b25-05f3b8a53135",
   "metadata": {},
   "outputs": [
    {
     "data": {
      "text/plain": [
       "True"
      ]
     },
     "execution_count": 75,
     "metadata": {},
     "output_type": "execute_result"
    }
   ],
   "source": [
    "b == y"
   ]
  },
  {
   "cell_type": "markdown",
   "id": "c2c833e4-9026-4295-a56c-01af198ce57b",
   "metadata": {},
   "source": [
    "#### `<=` & `>=` Operator\n",
    "\n",
    "`<=`: less than or equal \n",
    "\n",
    "`>=`: greater than or equal"
   ]
  },
  {
   "cell_type": "code",
   "execution_count": 87,
   "id": "ce92f35a-d7a6-4bf5-ba16-4ad1af74c184",
   "metadata": {},
   "outputs": [],
   "source": [
    "a = 10 \n",
    "b = 20\n",
    "c = 40\n",
    "d = 40"
   ]
  },
  {
   "cell_type": "code",
   "execution_count": 88,
   "id": "ae4907f5-63d7-40db-baa5-ae03a3b06c61",
   "metadata": {},
   "outputs": [
    {
     "data": {
      "text/plain": [
       "True"
      ]
     },
     "execution_count": 88,
     "metadata": {},
     "output_type": "execute_result"
    }
   ],
   "source": [
    "# checkidng that a is less than or equal to b \n",
    "a <= b"
   ]
  },
  {
   "cell_type": "code",
   "execution_count": 89,
   "id": "44333562-30d9-4af1-aedc-63f5578fc718",
   "metadata": {},
   "outputs": [
    {
     "data": {
      "text/plain": [
       "False"
      ]
     },
     "execution_count": 89,
     "metadata": {},
     "output_type": "execute_result"
    }
   ],
   "source": [
    "# checking that b is less than or equal to a\n",
    "b <= a"
   ]
  },
  {
   "cell_type": "code",
   "execution_count": 90,
   "id": "5be8b23a-8a48-4f61-a75e-2b5542b0ac19",
   "metadata": {},
   "outputs": [
    {
     "data": {
      "text/plain": [
       "True"
      ]
     },
     "execution_count": 90,
     "metadata": {},
     "output_type": "execute_result"
    }
   ],
   "source": [
    "# checking that c is greater than or equal to b\n",
    "c >= b"
   ]
  },
  {
   "cell_type": "code",
   "execution_count": 91,
   "id": "1b445adb-0ea2-4912-b6d9-565b3f9097ae",
   "metadata": {},
   "outputs": [
    {
     "data": {
      "text/plain": [
       "True"
      ]
     },
     "execution_count": 91,
     "metadata": {},
     "output_type": "execute_result"
    }
   ],
   "source": [
    "# checking that c is greater than or equal to a\n",
    "c >= a"
   ]
  },
  {
   "cell_type": "code",
   "execution_count": 92,
   "id": "df3af2ca-8dd7-4563-96ba-9d3c377b36a5",
   "metadata": {},
   "outputs": [
    {
     "data": {
      "text/plain": [
       "False"
      ]
     },
     "execution_count": 92,
     "metadata": {},
     "output_type": "execute_result"
    }
   ],
   "source": [
    "# checking that b is greater than or equal to c\n",
    "b >= c"
   ]
  },
  {
   "cell_type": "code",
   "execution_count": 94,
   "id": "37fe987c-6724-4560-a9f0-95e05676cc64",
   "metadata": {},
   "outputs": [
    {
     "data": {
      "text/plain": [
       "True"
      ]
     },
     "execution_count": 94,
     "metadata": {},
     "output_type": "execute_result"
    }
   ],
   "source": [
    "# checking that c is greater than or equal to d\n",
    "c >= d"
   ]
  },
  {
   "cell_type": "code",
   "execution_count": 95,
   "id": "00539d7b-f292-4444-b983-cce4962fd3bc",
   "metadata": {},
   "outputs": [
    {
     "data": {
      "text/plain": [
       "True"
      ]
     },
     "execution_count": 95,
     "metadata": {},
     "output_type": "execute_result"
    }
   ],
   "source": [
    "# checking that c is less than or equal to d\n",
    "c <= d"
   ]
  },
  {
   "cell_type": "markdown",
   "id": "9ed9102f-47cb-4d30-b56a-5f2097a29077",
   "metadata": {},
   "source": [
    "#### `<` & `>` less than or greater than operator"
   ]
  },
  {
   "cell_type": "code",
   "execution_count": 96,
   "id": "c2111ee7-c8f5-4e58-ae14-2b3bd3ead8f7",
   "metadata": {},
   "outputs": [],
   "source": [
    "a = 10 \n",
    "b = 20\n",
    "c = 40\n",
    "d = 40"
   ]
  },
  {
   "cell_type": "code",
   "execution_count": 97,
   "id": "818460b9-a963-4b02-a8e0-d6a5901fc3e1",
   "metadata": {},
   "outputs": [
    {
     "data": {
      "text/plain": [
       "False"
      ]
     },
     "execution_count": 97,
     "metadata": {},
     "output_type": "execute_result"
    }
   ],
   "source": [
    "# checking that a is greater than b\n",
    "a > b"
   ]
  },
  {
   "cell_type": "code",
   "execution_count": 99,
   "id": "f7dd906f-73f0-4a4b-974c-5092a281cbea",
   "metadata": {},
   "outputs": [
    {
     "data": {
      "text/plain": [
       "True"
      ]
     },
     "execution_count": 99,
     "metadata": {},
     "output_type": "execute_result"
    }
   ],
   "source": [
    "# checking that a is less than b\n",
    "a < b"
   ]
  },
  {
   "cell_type": "code",
   "execution_count": 101,
   "id": "9e62a5ed-2471-4728-ae24-10887e42b6d8",
   "metadata": {},
   "outputs": [
    {
     "data": {
      "text/plain": [
       "True"
      ]
     },
     "execution_count": 101,
     "metadata": {},
     "output_type": "execute_result"
    }
   ],
   "source": [
    "# checking that c is greater than b\n",
    "c > b"
   ]
  },
  {
   "cell_type": "code",
   "execution_count": 102,
   "id": "63310606-e705-40fd-ab1b-f70368183ec2",
   "metadata": {},
   "outputs": [
    {
     "data": {
      "text/plain": [
       "False"
      ]
     },
     "execution_count": 102,
     "metadata": {},
     "output_type": "execute_result"
    }
   ],
   "source": [
    "# checking that c is less thab d\n",
    "c < d"
   ]
  },
  {
   "cell_type": "code",
   "execution_count": 104,
   "id": "30d1087d-d4b5-4dd9-b317-83a659ef3de9",
   "metadata": {},
   "outputs": [
    {
     "data": {
      "text/plain": [
       "False"
      ]
     },
     "execution_count": 104,
     "metadata": {},
     "output_type": "execute_result"
    }
   ],
   "source": [
    "# checking that c is greater tahn d\n",
    "c > d"
   ]
  },
  {
   "cell_type": "markdown",
   "id": "ae89da5b-6927-4667-9b13-bb2bb23bc491",
   "metadata": {},
   "source": [
    "#### `!=` Note equal Operator"
   ]
  },
  {
   "cell_type": "code",
   "execution_count": 108,
   "id": "aa1f1268-abe8-483a-997d-7b2662335db0",
   "metadata": {},
   "outputs": [],
   "source": [
    "a = 10 \n",
    "b = 20\n",
    "c = 40\n",
    "d = 40"
   ]
  },
  {
   "cell_type": "code",
   "execution_count": 109,
   "id": "8b5d0daa-c759-41b7-9cb2-45a4fd7cd924",
   "metadata": {},
   "outputs": [
    {
     "data": {
      "text/plain": [
       "True"
      ]
     },
     "execution_count": 109,
     "metadata": {},
     "output_type": "execute_result"
    }
   ],
   "source": [
    "# checking that a is not equal to b\n",
    "a != b"
   ]
  },
  {
   "cell_type": "code",
   "execution_count": 110,
   "id": "761a9fb7-f6ce-4e51-8bd6-2c235e4c2fe0",
   "metadata": {},
   "outputs": [
    {
     "data": {
      "text/plain": [
       "False"
      ]
     },
     "execution_count": 110,
     "metadata": {},
     "output_type": "execute_result"
    }
   ],
   "source": [
    "c != d"
   ]
  },
  {
   "cell_type": "code",
   "execution_count": null,
   "id": "18ea16f1-d111-49b8-8530-8065991e6eeb",
   "metadata": {},
   "outputs": [],
   "source": []
  },
  {
   "cell_type": "markdown",
   "id": "3023a321-03db-40a7-b40f-2b7eec36a987",
   "metadata": {},
   "source": [
    "##### Program: guss a number which is less or greater or equal to ?."
   ]
  },
  {
   "cell_type": "code",
   "execution_count": 105,
   "id": "1f8d99d1-3451-4263-a3c9-cf826ef20e0b",
   "metadata": {},
   "outputs": [],
   "source": [
    "from random import randint"
   ]
  },
  {
   "cell_type": "code",
   "execution_count": 118,
   "id": "3428c724-9344-4b5e-8339-fbe23ddf0b0b",
   "metadata": {},
   "outputs": [],
   "source": [
    "def guess(user,computer, option):\n",
    "    \n",
    "    if user > computer:\n",
    "        print(\"user is greater than computer\")\n",
    "        \n",
    "        if option == 1:\n",
    "            print(\"User Wins!\")\n",
    "        else:\n",
    "            print(\"Computer Wins!\")\n",
    "    \n",
    "    elif user < computer:\n",
    "        print(\"user is less than computer\")\n",
    "        \n",
    "        if option == 2:\n",
    "            print(\"User Wins!\")\n",
    "        else:\n",
    "            print(\"Computer Wins!\")\n",
    "        \n",
    "    else:\n",
    "        print(\"user is equal to the computer\")\n",
    "        \n",
    "        if option == 3:\n",
    "            print(\"User Wins!\")\n",
    "        else:\n",
    "            print(\"Computer Wins!\")\n",
    "        \n",
    "    print(\"user input: \", user)\n",
    "    print(\"computer input: \", computer)\n",
    "        "
   ]
  },
  {
   "cell_type": "code",
   "execution_count": 119,
   "id": "e833769d-6537-4a71-8e38-0f7758a7bd92",
   "metadata": {},
   "outputs": [],
   "source": [
    "ch = ''"
   ]
  },
  {
   "cell_type": "code",
   "execution_count": 120,
   "id": "793d3c2e-1022-4e59-8af1-b9dc6f8769f7",
   "metadata": {},
   "outputs": [
    {
     "name": "stdin",
     "output_type": "stream",
     "text": [
      "Enter your number:  6\n"
     ]
    },
    {
     "name": "stdout",
     "output_type": "stream",
     "text": [
      "1. You are greater than computer.\n",
      "2. You are less than computer.\n",
      "3. You are equal to computer\n",
      "--------------------\n"
     ]
    },
    {
     "name": "stdin",
     "output_type": "stream",
     "text": [
      "Select One Option:  1\n"
     ]
    },
    {
     "name": "stdout",
     "output_type": "stream",
     "text": [
      "user is greater than computer\n",
      "User Wins!\n",
      "user input:  6\n",
      "computer input:  4\n"
     ]
    },
    {
     "name": "stdin",
     "output_type": "stream",
     "text": [
      "Enter your number:  9\n"
     ]
    },
    {
     "name": "stdout",
     "output_type": "stream",
     "text": [
      "1. You are greater than computer.\n",
      "2. You are less than computer.\n",
      "3. You are equal to computer\n",
      "--------------------\n"
     ]
    },
    {
     "name": "stdin",
     "output_type": "stream",
     "text": [
      "Select One Option:  2\n"
     ]
    },
    {
     "name": "stdout",
     "output_type": "stream",
     "text": [
      "user is greater than computer\n",
      "Computer Wins!\n",
      "user input:  9\n",
      "computer input:  4\n"
     ]
    },
    {
     "ename": "KeyboardInterrupt",
     "evalue": "Interrupted by user",
     "output_type": "error",
     "traceback": [
      "\u001b[1;31m---------------------------------------------------------------------------\u001b[0m",
      "\u001b[1;31mKeyboardInterrupt\u001b[0m                         Traceback (most recent call last)",
      "Input \u001b[1;32mIn [120]\u001b[0m, in \u001b[0;36m<cell line: 1>\u001b[1;34m()\u001b[0m\n\u001b[0;32m      1\u001b[0m \u001b[38;5;28;01mwhile\u001b[39;00m ch \u001b[38;5;241m!=\u001b[39m \u001b[38;5;124m\"\u001b[39m\u001b[38;5;124mq\u001b[39m\u001b[38;5;124m\"\u001b[39m:\n\u001b[0;32m      3\u001b[0m     computer \u001b[38;5;241m=\u001b[39m randint(\u001b[38;5;241m1\u001b[39m,\u001b[38;5;241m10\u001b[39m)\n\u001b[1;32m----> 5\u001b[0m     user \u001b[38;5;241m=\u001b[39m \u001b[38;5;28mint\u001b[39m(\u001b[38;5;28;43minput\u001b[39;49m\u001b[43m(\u001b[49m\u001b[38;5;124;43m\"\u001b[39;49m\u001b[38;5;124;43mEnter your number: \u001b[39;49m\u001b[38;5;124;43m\"\u001b[39;49m\u001b[43m)\u001b[49m)\n\u001b[0;32m      7\u001b[0m     \u001b[38;5;28mprint\u001b[39m(\u001b[38;5;124m\"\u001b[39m\u001b[38;5;124m1. You are greater than computer.\u001b[39m\u001b[38;5;124m\"\u001b[39m)\n\u001b[0;32m      8\u001b[0m     \u001b[38;5;28mprint\u001b[39m(\u001b[38;5;124m\"\u001b[39m\u001b[38;5;124m2. You are less than computer.\u001b[39m\u001b[38;5;124m\"\u001b[39m)\n",
      "File \u001b[1;32mi:\\programs\\python\\python 3.8.3\\lib\\site-packages\\ipykernel\\kernelbase.py:1177\u001b[0m, in \u001b[0;36mKernel.raw_input\u001b[1;34m(self, prompt)\u001b[0m\n\u001b[0;32m   1173\u001b[0m \u001b[38;5;28;01mif\u001b[39;00m \u001b[38;5;129;01mnot\u001b[39;00m \u001b[38;5;28mself\u001b[39m\u001b[38;5;241m.\u001b[39m_allow_stdin:\n\u001b[0;32m   1174\u001b[0m     \u001b[38;5;28;01mraise\u001b[39;00m StdinNotImplementedError(\n\u001b[0;32m   1175\u001b[0m         \u001b[38;5;124m\"\u001b[39m\u001b[38;5;124mraw_input was called, but this frontend does not support input requests.\u001b[39m\u001b[38;5;124m\"\u001b[39m\n\u001b[0;32m   1176\u001b[0m     )\n\u001b[1;32m-> 1177\u001b[0m \u001b[38;5;28;01mreturn\u001b[39;00m \u001b[38;5;28;43mself\u001b[39;49m\u001b[38;5;241;43m.\u001b[39;49m\u001b[43m_input_request\u001b[49m\u001b[43m(\u001b[49m\n\u001b[0;32m   1178\u001b[0m \u001b[43m    \u001b[49m\u001b[38;5;28;43mstr\u001b[39;49m\u001b[43m(\u001b[49m\u001b[43mprompt\u001b[49m\u001b[43m)\u001b[49m\u001b[43m,\u001b[49m\n\u001b[0;32m   1179\u001b[0m \u001b[43m    \u001b[49m\u001b[38;5;28;43mself\u001b[39;49m\u001b[38;5;241;43m.\u001b[39;49m\u001b[43m_parent_ident\u001b[49m\u001b[43m[\u001b[49m\u001b[38;5;124;43m\"\u001b[39;49m\u001b[38;5;124;43mshell\u001b[39;49m\u001b[38;5;124;43m\"\u001b[39;49m\u001b[43m]\u001b[49m\u001b[43m,\u001b[49m\n\u001b[0;32m   1180\u001b[0m \u001b[43m    \u001b[49m\u001b[38;5;28;43mself\u001b[39;49m\u001b[38;5;241;43m.\u001b[39;49m\u001b[43mget_parent\u001b[49m\u001b[43m(\u001b[49m\u001b[38;5;124;43m\"\u001b[39;49m\u001b[38;5;124;43mshell\u001b[39;49m\u001b[38;5;124;43m\"\u001b[39;49m\u001b[43m)\u001b[49m\u001b[43m,\u001b[49m\n\u001b[0;32m   1181\u001b[0m \u001b[43m    \u001b[49m\u001b[43mpassword\u001b[49m\u001b[38;5;241;43m=\u001b[39;49m\u001b[38;5;28;43;01mFalse\u001b[39;49;00m\u001b[43m,\u001b[49m\n\u001b[0;32m   1182\u001b[0m \u001b[43m\u001b[49m\u001b[43m)\u001b[49m\n",
      "File \u001b[1;32mi:\\programs\\python\\python 3.8.3\\lib\\site-packages\\ipykernel\\kernelbase.py:1219\u001b[0m, in \u001b[0;36mKernel._input_request\u001b[1;34m(self, prompt, ident, parent, password)\u001b[0m\n\u001b[0;32m   1216\u001b[0m             \u001b[38;5;28;01mbreak\u001b[39;00m\n\u001b[0;32m   1217\u001b[0m \u001b[38;5;28;01mexcept\u001b[39;00m \u001b[38;5;167;01mKeyboardInterrupt\u001b[39;00m:\n\u001b[0;32m   1218\u001b[0m     \u001b[38;5;66;03m# re-raise KeyboardInterrupt, to truncate traceback\u001b[39;00m\n\u001b[1;32m-> 1219\u001b[0m     \u001b[38;5;28;01mraise\u001b[39;00m \u001b[38;5;167;01mKeyboardInterrupt\u001b[39;00m(\u001b[38;5;124m\"\u001b[39m\u001b[38;5;124mInterrupted by user\u001b[39m\u001b[38;5;124m\"\u001b[39m) \u001b[38;5;28;01mfrom\u001b[39;00m \u001b[38;5;28mNone\u001b[39m\n\u001b[0;32m   1220\u001b[0m \u001b[38;5;28;01mexcept\u001b[39;00m \u001b[38;5;167;01mException\u001b[39;00m:\n\u001b[0;32m   1221\u001b[0m     \u001b[38;5;28mself\u001b[39m\u001b[38;5;241m.\u001b[39mlog\u001b[38;5;241m.\u001b[39mwarning(\u001b[38;5;124m\"\u001b[39m\u001b[38;5;124mInvalid Message:\u001b[39m\u001b[38;5;124m\"\u001b[39m, exc_info\u001b[38;5;241m=\u001b[39m\u001b[38;5;28;01mTrue\u001b[39;00m)\n",
      "\u001b[1;31mKeyboardInterrupt\u001b[0m: Interrupted by user"
     ]
    }
   ],
   "source": [
    "while ch != \"q\":\n",
    "    \n",
    "    computer = randint(1,10)\n",
    "    \n",
    "    user = int(input(\"Enter your number: \"))\n",
    "    \n",
    "    print(\"1. You are greater than computer.\")\n",
    "    print(\"2. You are less than computer.\")\n",
    "    print(\"3. You are equal to computer\")\n",
    "    print(\"-\"*20)\n",
    "    \n",
    "    option = int(input(\"Select One Option: \"))\n",
    "    \n",
    "    if option == 1:\n",
    "        guess(user, computer, option)\n",
    "    elif option == 2:\n",
    "        guess(user, computer, option)\n",
    "    elif option == 3:\n",
    "        guess(user, computer, option)\n",
    "    else:\n",
    "        print(\"invalid selection\")"
   ]
  },
  {
   "cell_type": "code",
   "execution_count": null,
   "id": "e0cc32d4-275d-46c0-9e18-faee30a48ac0",
   "metadata": {},
   "outputs": [],
   "source": []
  }
 ],
 "metadata": {
  "kernelspec": {
   "display_name": "Python 3 (ipykernel)",
   "language": "python",
   "name": "python3"
  },
  "language_info": {
   "codemirror_mode": {
    "name": "ipython",
    "version": 3
   },
   "file_extension": ".py",
   "mimetype": "text/x-python",
   "name": "python",
   "nbconvert_exporter": "python",
   "pygments_lexer": "ipython3",
   "version": "3.8.3"
  }
 },
 "nbformat": 4,
 "nbformat_minor": 5
}
