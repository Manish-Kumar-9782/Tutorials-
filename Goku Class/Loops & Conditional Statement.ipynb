{
 "cells": [
  {
   "cell_type": "markdown",
   "id": "012b71ae-0d7f-4239-9b69-3e6b5926ed1c",
   "metadata": {},
   "source": [
    "# For loop in python"
   ]
  },
  {
   "cell_type": "markdown",
   "id": "0f7723c9-f606-4798-94f9-17b4e4008166",
   "metadata": {},
   "source": [
    "1. To make/run a for loop we need to use the `for` keyword.\n",
    "2. make/name variable after `for` keyword.\n",
    "3. Now we need use `in` keyword.\n",
    "4. Now we need to mention the iterable object. (sequentional data.)\n",
    "\n",
    "```python\n",
    "    for <varibale> in <iterator>:\n",
    "        statement;\n",
    "```"
   ]
  },
  {
   "cell_type": "markdown",
   "id": "e7792be0-7b24-42bd-a3ef-4a0ce0e3efb5",
   "metadata": {},
   "source": [
    "### range function as the sequential data"
   ]
  },
  {
   "cell_type": "code",
   "execution_count": 1,
   "id": "ba224678-8643-461f-9a0f-a18db463b31b",
   "metadata": {},
   "outputs": [
    {
     "data": {
      "text/plain": [
       "range(0, 10)"
      ]
     },
     "execution_count": 1,
     "metadata": {},
     "output_type": "execute_result"
    }
   ],
   "source": [
    "range(0, 10)"
   ]
  },
  {
   "cell_type": "code",
   "execution_count": 2,
   "id": "bb6080a7-99da-4e4c-b0da-1719a9bd3417",
   "metadata": {},
   "outputs": [],
   "source": [
    "rng = range(0,20)"
   ]
  },
  {
   "cell_type": "code",
   "execution_count": 3,
   "id": "acf8ca39-5b93-4dc4-abb7-1bb0195beaa1",
   "metadata": {},
   "outputs": [
    {
     "data": {
      "text/plain": [
       "range(0, 20)"
      ]
     },
     "execution_count": 3,
     "metadata": {},
     "output_type": "execute_result"
    }
   ],
   "source": [
    "rng"
   ]
  },
  {
   "cell_type": "markdown",
   "id": "e1a2db65-cabf-40bd-8adc-cc42806e78e3",
   "metadata": {},
   "source": [
    "Now we need to use the range with our for loop.\n",
    "\n",
    "##### 1. for loop with range object."
   ]
  },
  {
   "cell_type": "code",
   "execution_count": 6,
   "id": "65a63670-b1f9-4716-8ddc-7b68f9ec77ed",
   "metadata": {},
   "outputs": [
    {
     "name": "stdout",
     "output_type": "stream",
     "text": [
      "0\n",
      "1\n",
      "2\n",
      "3\n",
      "4\n",
      "5\n",
      "6\n",
      "7\n",
      "8\n",
      "9\n",
      "10\n",
      "11\n",
      "12\n",
      "13\n",
      "14\n",
      "15\n",
      "16\n",
      "17\n",
      "18\n",
      "19\n"
     ]
    }
   ],
   "source": [
    "for i in rng:\n",
    "    print(i)"
   ]
  },
  {
   "cell_type": "markdown",
   "id": "21e33a1d-e56e-427e-b3fb-fab5b00e42db",
   "metadata": {},
   "source": [
    "##### 2. for loop with list"
   ]
  },
  {
   "cell_type": "code",
   "execution_count": 7,
   "id": "4354d4ae-c948-4c22-a5fb-985abb185892",
   "metadata": {},
   "outputs": [],
   "source": [
    "our_list = [\"hello\", \"jello\", \"kello\", \"pello\"]"
   ]
  },
  {
   "cell_type": "code",
   "execution_count": 9,
   "id": "ad7bdbe6-d497-4eb7-ae2d-2d227c792416",
   "metadata": {},
   "outputs": [
    {
     "name": "stdout",
     "output_type": "stream",
     "text": [
      "hello\n",
      "jello\n",
      "kello\n",
      "pello\n"
     ]
    }
   ],
   "source": [
    "for item in our_list:\n",
    "    print(item)"
   ]
  },
  {
   "cell_type": "markdown",
   "id": "c1dfb6d8-a155-441a-b571-5f508038317a",
   "metadata": {},
   "source": [
    "##### 3. for loop with string"
   ]
  },
  {
   "cell_type": "code",
   "execution_count": 10,
   "id": "4ef6031f-ed53-4f00-9ccb-0a8ff3eb6350",
   "metadata": {},
   "outputs": [],
   "source": [
    "string = \"hello this is string    hello again!\""
   ]
  },
  {
   "cell_type": "code",
   "execution_count": 11,
   "id": "dc4c68ca-c6f9-4ca3-b921-5a7dde627cf1",
   "metadata": {},
   "outputs": [
    {
     "name": "stdout",
     "output_type": "stream",
     "text": [
      "h\n",
      "e\n",
      "l\n",
      "l\n",
      "o\n",
      " \n",
      "t\n",
      "h\n",
      "i\n",
      "s\n",
      " \n",
      "i\n",
      "s\n",
      " \n",
      "s\n",
      "t\n",
      "r\n",
      "i\n",
      "n\n",
      "g\n",
      " \n",
      " \n",
      " \n",
      " \n",
      "h\n",
      "e\n",
      "l\n",
      "l\n",
      "o\n",
      " \n",
      "a\n",
      "g\n",
      "a\n",
      "i\n",
      "n\n",
      "!\n"
     ]
    }
   ],
   "source": [
    "for ch in string:\n",
    "    print(ch)"
   ]
  },
  {
   "cell_type": "markdown",
   "id": "bf1014cf-4e93-4a6a-970c-eac4b7f7dd56",
   "metadata": {},
   "source": [
    "# while loop in python\n",
    "\n",
    "* while loop is another loop in which we need to specify that at which condition we need to break the loop.\n",
    "\n",
    "```python\n",
    "    while <conditions>:\n",
    "        # statmentes\n",
    "```"
   ]
  },
  {
   "cell_type": "code",
   "execution_count": 2,
   "id": "837f1db8-daca-45aa-ae44-437880111cb7",
   "metadata": {},
   "outputs": [
    {
     "name": "stdin",
     "output_type": "stream",
     "text": [
      "command up\n"
     ]
    },
    {
     "name": "stdout",
     "output_type": "stream",
     "text": [
      "Selected--->  up\n"
     ]
    },
    {
     "name": "stdin",
     "output_type": "stream",
     "text": [
      "command down\n"
     ]
    },
    {
     "name": "stdout",
     "output_type": "stream",
     "text": [
      "Selected--->  down\n"
     ]
    },
    {
     "name": "stdin",
     "output_type": "stream",
     "text": [
      "command forward\n"
     ]
    },
    {
     "name": "stdout",
     "output_type": "stream",
     "text": [
      "Selected--->  forward\n"
     ]
    },
    {
     "name": "stdin",
     "output_type": "stream",
     "text": [
      "command backword\n"
     ]
    },
    {
     "name": "stdout",
     "output_type": "stream",
     "text": [
      "Selected--->  backword\n"
     ]
    },
    {
     "name": "stdin",
     "output_type": "stream",
     "text": [
      "command run\n"
     ]
    },
    {
     "name": "stdout",
     "output_type": "stream",
     "text": [
      "Selected--->  run\n"
     ]
    },
    {
     "name": "stdin",
     "output_type": "stream",
     "text": [
      "command walk\n"
     ]
    },
    {
     "name": "stdout",
     "output_type": "stream",
     "text": [
      "Selected--->  walk\n"
     ]
    },
    {
     "name": "stdin",
     "output_type": "stream",
     "text": [
      "command quit\n"
     ]
    },
    {
     "name": "stdout",
     "output_type": "stream",
     "text": [
      "Selected--->  quit\n"
     ]
    }
   ],
   "source": [
    "Input = None\n",
    "while Input != \"quit\":\n",
    "    Input = input(\"command\")\n",
    "    \n",
    "    print(\"Selected---> \", Input)"
   ]
  },
  {
   "cell_type": "markdown",
   "id": "eadd1676-6237-4df0-a7b2-14aef9c9d5ca",
   "metadata": {},
   "source": [
    "# if-else statement"
   ]
  },
  {
   "cell_type": "markdown",
   "id": "c867ed4d-6e55-4cea-8d5b-d15be5a6de01",
   "metadata": {},
   "source": [
    "```python\n",
    "    if condition1:\n",
    "        statement \n",
    "    elif condition2:\n",
    "        statement\n",
    "    elif condition3:\n",
    "        statement\n",
    "    else:\n",
    "        else_statment\n",
    "```"
   ]
  },
  {
   "cell_type": "code",
   "execution_count": 5,
   "id": "b99d26d6-cf47-4c4c-b631-7eaa08a2a5de",
   "metadata": {},
   "outputs": [
    {
     "name": "stdin",
     "output_type": "stream",
     "text": [
      "cmd:  up\n"
     ]
    },
    {
     "name": "stdout",
     "output_type": "stream",
     "text": [
      "going up\n",
      "\n",
      "\n"
     ]
    },
    {
     "name": "stdin",
     "output_type": "stream",
     "text": [
      "cmd:  down\n"
     ]
    },
    {
     "name": "stdout",
     "output_type": "stream",
     "text": [
      "going down\n",
      "\n",
      "\n"
     ]
    },
    {
     "name": "stdin",
     "output_type": "stream",
     "text": [
      "cmd:  bhago\n"
     ]
    },
    {
     "name": "stdout",
     "output_type": "stream",
     "text": [
      "invalid command...!\n",
      "\n",
      "\n"
     ]
    },
    {
     "name": "stdin",
     "output_type": "stream",
     "text": [
      "cmd:  chalo\n"
     ]
    },
    {
     "name": "stdout",
     "output_type": "stream",
     "text": [
      "invalid command...!\n",
      "\n",
      "\n"
     ]
    },
    {
     "name": "stdin",
     "output_type": "stream",
     "text": [
      "cmd:  chalo bhago\n"
     ]
    },
    {
     "name": "stdout",
     "output_type": "stream",
     "text": [
      "invalid command...!\n",
      "\n",
      "\n"
     ]
    },
    {
     "name": "stdin",
     "output_type": "stream",
     "text": [
      "cmd:  run\n"
     ]
    },
    {
     "name": "stdout",
     "output_type": "stream",
     "text": [
      "running\n",
      "\n",
      "\n"
     ]
    },
    {
     "name": "stdin",
     "output_type": "stream",
     "text": [
      "cmd:  wal\n"
     ]
    },
    {
     "name": "stdout",
     "output_type": "stream",
     "text": [
      "invalid command...!\n",
      "\n",
      "\n"
     ]
    },
    {
     "name": "stdin",
     "output_type": "stream",
     "text": [
      "cmd:  walk\n"
     ]
    },
    {
     "name": "stdout",
     "output_type": "stream",
     "text": [
      "walking\n",
      "\n",
      "\n"
     ]
    },
    {
     "name": "stdin",
     "output_type": "stream",
     "text": [
      "cmd:  quit\n"
     ]
    },
    {
     "name": "stdout",
     "output_type": "stream",
     "text": [
      "invalid command...!\n",
      "\n",
      "\n"
     ]
    }
   ],
   "source": [
    "Input = None # initiating the Input variable.\n",
    "while Input != 'quit':\n",
    "    # valid commands up, down , forward, backword, run, walk.\n",
    "    Input = input(\"cmd: \")\n",
    "    \n",
    "    \n",
    "    if Input == 'up':\n",
    "        print(\"going up\")\n",
    "    \n",
    "    elif Input == \"down\":\n",
    "        print(\"going down\")\n",
    "    \n",
    "    elif Input == \"forward\":\n",
    "        print(\"going forward\")\n",
    "        \n",
    "    elif Input == \"backward\":\n",
    "        print(\"going backward\")\n",
    "        \n",
    "    elif Input == \"run\":\n",
    "        print(\"running\")\n",
    "    \n",
    "    elif Input == \"walk\":\n",
    "        print(\"walking\")\n",
    "        \n",
    "    else:\n",
    "        print(\"invalid command...!\")\n",
    "    print(\"\\n\") # \\n new line character"
   ]
  },
  {
   "cell_type": "code",
   "execution_count": 49,
   "id": "cebe19b3-c513-4e8e-8773-90eb94503140",
   "metadata": {},
   "outputs": [],
   "source": [
    "import time , os\n",
    "from IPython.display import clear_output"
   ]
  },
  {
   "cell_type": "code",
   "execution_count": 95,
   "id": "772caeda-1354-421b-91ed-cd9d84a5cd0e",
   "metadata": {},
   "outputs": [],
   "source": [
    "def up(delay_time = 0.5):\n",
    "    clear_output()\n",
    "    \n",
    "def down(delay_time=0.5):\n",
    "    for i in range(1,6):\n",
    "        print(\"-\"*3*i,\"@\", end='\\n')\n",
    "        time.sleep(delay_time)\n",
    "    \n",
    "def forward(delay_time=0.01, steps=200):\n",
    "    \n",
    "    for i in range(1,steps):\n",
    "        \n",
    "        print(\"-\"*i+\"@\",end=\"\\r\")\n",
    "        time.sleep(delay_time)\n",
    "        \n",
    "def backward(delay_time=0.01, steps=200):\n",
    "    \n",
    "    for i in range(1,steps):\n",
    "        reverse_move = steps - i    \n",
    "        print(\"-\"*reverse_move+\"@\",end=\"\\r\")\n",
    "        time.sleep(delay_time)\n",
    "        \n",
    "def run(delay_time=0.001, steps=200):\n",
    "    forward(delay_time, steps)\n",
    "\n",
    "def walk(delay_time=0.8, steps=50):\n",
    "    forward(delay_time, steps)"
   ]
  },
  {
   "cell_type": "code",
   "execution_count": null,
   "id": "7fbc4072-42d7-4c9c-b203-039f83327789",
   "metadata": {},
   "outputs": [],
   "source": []
  },
  {
   "cell_type": "code",
   "execution_count": null,
   "id": "685c54c0-5a8b-4f57-b6d3-cd459e0e4d6f",
   "metadata": {},
   "outputs": [],
   "source": []
  },
  {
   "cell_type": "code",
   "execution_count": 98,
   "id": "0bc7fbe9-a9af-4e77-952a-2b12b90a4eff",
   "metadata": {},
   "outputs": [
    {
     "name": "stdin",
     "output_type": "stream",
     "text": [
      "cmd:  run\n"
     ]
    },
    {
     "name": "stdout",
     "output_type": "stream",
     "text": [
      "-------------------------------------------------------------------------------------------------------------------------------------------------------------------------------------------------------@\n",
      "\n"
     ]
    },
    {
     "name": "stdin",
     "output_type": "stream",
     "text": [
      "cmd:  forward\n"
     ]
    },
    {
     "name": "stdout",
     "output_type": "stream",
     "text": [
      "-------------------------------------------------------------------------------------------------------------------------------------------------------------------------------------------------------@\n",
      "\n"
     ]
    },
    {
     "name": "stdin",
     "output_type": "stream",
     "text": [
      "cmd:  backward\n"
     ]
    },
    {
     "name": "stdout",
     "output_type": "stream",
     "text": [
      "-@@@@@@@@@@@@@@@@@@@@@@@@@@@@@@@@@@@@@@@@@@@@@@@@@@@@@@@@@@@@@@@@@@@@@@@@@@@@@@@@@@@@@@@@@@@@@@@@@@@@@@@@@@@@@@@@@@@@@@@@@@@@@@@@@@@@@@@@@@@@@@@@@@@@@@@@@@@@@@@@@@@@@@@@@@@@@@@@@@@@@@@@@@@@@@@@@@@@@@@\n",
      "\n"
     ]
    },
    {
     "name": "stdin",
     "output_type": "stream",
     "text": [
      "cmd:  quit\n"
     ]
    }
   ],
   "source": [
    "Input = None # initiating the Input variable.\n",
    "while True:\n",
    "    # valid commands up, down , forward, backword, run, walk.\n",
    "    Input = input(\"cmd: \")\n",
    "    \n",
    "    \n",
    "    if Input == 'up':\n",
    "        up()\n",
    "    \n",
    "    elif Input == \"down\":\n",
    "        down()\n",
    "    \n",
    "    elif Input == \"forward\":\n",
    "        forward()\n",
    "        \n",
    "    elif Input == \"backward\":\n",
    "        backward()\n",
    "        \n",
    "    elif Input == \"run\":\n",
    "        run()\n",
    "    \n",
    "    elif Input == \"walk\":\n",
    "        walk()\n",
    "        \n",
    "    elif Input == \"quit\":\n",
    "        break\n",
    "    else:\n",
    "        print(\"invalid command...!\")\n",
    "    print(\"\\n\") # \\n new line character"
   ]
  },
  {
   "cell_type": "code",
   "execution_count": 14,
   "id": "075e7e29-dc1a-4a20-9529-911a5a8ba6b5",
   "metadata": {},
   "outputs": [],
   "source": [
    "print(\"hello\")\n",
    "print(\"hello\")\n",
    "print(\"hello\")\n",
    "clear_output()"
   ]
  },
  {
   "cell_type": "code",
   "execution_count": null,
   "id": "e26dc3e2-b28d-4081-aa7a-3f27a72ee5e8",
   "metadata": {},
   "outputs": [],
   "source": []
  }
 ],
 "metadata": {
  "kernelspec": {
   "display_name": "Python 3 (ipykernel)",
   "language": "python",
   "name": "python3"
  },
  "language_info": {
   "codemirror_mode": {
    "name": "ipython",
    "version": 3
   },
   "file_extension": ".py",
   "mimetype": "text/x-python",
   "name": "python",
   "nbconvert_exporter": "python",
   "pygments_lexer": "ipython3",
   "version": "3.8.3"
  }
 },
 "nbformat": 4,
 "nbformat_minor": 5
}
