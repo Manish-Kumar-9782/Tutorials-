{
 "cells": [
  {
   "cell_type": "markdown",
   "id": "b0a102ba-12c5-456c-9f49-415dbdb52357",
   "metadata": {},
   "source": [
    "data types"
   ]
  },
  {
   "cell_type": "markdown",
   "id": "5f2a670d-8c7b-44fd-92f1-cff4d2a8b39c",
   "metadata": {},
   "source": [
    "1. int, float (numaric)\n",
    "    * int: whole number 1,2,3,4....n.\n",
    "    * float: decimal number 1.23,434.55.\n",
    "\n",
    "2. string: sequence of character\n",
    "\n",
    "3. boolen: True, False\n",
    "\n",
    "4. list: \n",
    "```ruby\n",
    "list: [\"Manish\", 256, 52.526, object, True] \n",
    "```"
   ]
  },
  {
   "cell_type": "markdown",
   "id": "ecced25d-5a92-4272-9b43-37a01af02fc1",
   "metadata": {},
   "source": [
    "primitive data types"
   ]
  },
  {
   "cell_type": "markdown",
   "id": "5ec6108a-174b-4e46-83f0-c17f0249a09a",
   "metadata": {},
   "source": [
    "### Assignment operator (=)\n",
    "Assignment operator is used to assign/place right value to left_operand."
   ]
  },
  {
   "cell_type": "code",
   "execution_count": 4,
   "id": "c7054963-f35a-417a-a3e9-efd741cd3945",
   "metadata": {},
   "outputs": [],
   "source": [
    "a = 10  # 'a' is a variable"
   ]
  },
  {
   "cell_type": "code",
   "execution_count": 5,
   "id": "7e288f6c-d96f-462e-b7fc-77b404d2b2e6",
   "metadata": {},
   "outputs": [
    {
     "data": {
      "text/plain": [
       "10"
      ]
     },
     "execution_count": 5,
     "metadata": {},
     "output_type": "execute_result"
    }
   ],
   "source": [
    "a"
   ]
  },
  {
   "cell_type": "markdown",
   "id": "06c309e1-a7ad-4e24-8459-ad8472552856",
   "metadata": {},
   "source": [
    "`=` is an assignment operator\n",
    "\n",
    "left_part = right_part\n",
    "\n",
    "left_operand/lvalue = right_operand/rlvalue"
   ]
  },
  {
   "cell_type": "markdown",
   "id": "517e83a6-db46-4cab-9ccf-e78f9972565f",
   "metadata": {},
   "source": [
    "#### int data type\n",
    "int data types are numaric value (whole number) (-infinite to +inifinte by concept)"
   ]
  },
  {
   "cell_type": "code",
   "execution_count": 6,
   "id": "95866cd9-7512-4f67-bc9a-7d348a7e441f",
   "metadata": {},
   "outputs": [],
   "source": [
    "value1 = 12344"
   ]
  },
  {
   "cell_type": "markdown",
   "id": "417d988e-3d72-44f6-aaf6-c26948d7327d",
   "metadata": {},
   "source": [
    "Note: `value1` is a identifier (variable, function name, class name) (all of them object) "
   ]
  },
  {
   "cell_type": "code",
   "execution_count": 22,
   "id": "d93df061-f572-49a1-9f90-84563e1199d2",
   "metadata": {},
   "outputs": [],
   "source": [
    "kushal = '1' # '1' is a string\n",
    "ravi = 2 "
   ]
  },
  {
   "cell_type": "markdown",
   "id": "0c1a439f-99b8-46f0-985a-c205be4a2e2f",
   "metadata": {},
   "source": [
    "kushal and ravi (are identifier) variables to hold the given value"
   ]
  },
  {
   "cell_type": "code",
   "execution_count": 19,
   "id": "c3805bb8-e697-4d1e-80d8-e8e4ed11901a",
   "metadata": {},
   "outputs": [],
   "source": [
    "Name1 = \"kushal\"   # \"kushal\" is a string"
   ]
  },
  {
   "cell_type": "code",
   "execution_count": 20,
   "id": "44602194-3fd7-4876-9ab8-6ad427797662",
   "metadata": {},
   "outputs": [],
   "source": [
    "Name2 = \"ravi\"   # \"ravi\" is a string"
   ]
  },
  {
   "cell_type": "code",
   "execution_count": 15,
   "id": "9ad43d2c-d1d5-4015-a887-5842a86d7501",
   "metadata": {},
   "outputs": [
    {
     "data": {
      "text/plain": [
       "'kushal'"
      ]
     },
     "execution_count": 15,
     "metadata": {},
     "output_type": "execute_result"
    }
   ],
   "source": [
    "Name1"
   ]
  },
  {
   "cell_type": "code",
   "execution_count": 16,
   "id": "81d90eb6-fe18-4b90-9c6c-ff6632d02291",
   "metadata": {},
   "outputs": [
    {
     "data": {
      "text/plain": [
       "'1'"
      ]
     },
     "execution_count": 16,
     "metadata": {},
     "output_type": "execute_result"
    }
   ],
   "source": [
    "kushal"
   ]
  },
  {
   "cell_type": "code",
   "execution_count": 18,
   "id": "8f43dd6e-fbfc-4669-bd5e-d61cc939f87d",
   "metadata": {},
   "outputs": [
    {
     "data": {
      "text/plain": [
       "2"
      ]
     },
     "execution_count": 18,
     "metadata": {},
     "output_type": "execute_result"
    }
   ],
   "source": [
    "ravi"
   ]
  },
  {
   "cell_type": "markdown",
   "id": "f5791aaf-5695-4fb6-a0b9-d8f63fc8a268",
   "metadata": {},
   "source": [
    "**checking the type of variables**\n",
    "to check the type of a varible we use `type()` function."
   ]
  },
  {
   "cell_type": "code",
   "execution_count": 23,
   "id": "54da172a-36cd-4857-86f9-d289c5798996",
   "metadata": {},
   "outputs": [
    {
     "data": {
      "text/plain": [
       "str"
      ]
     },
     "execution_count": 23,
     "metadata": {},
     "output_type": "execute_result"
    }
   ],
   "source": [
    "# checking the Name1 \n",
    "type(Name1)"
   ]
  },
  {
   "cell_type": "code",
   "execution_count": 24,
   "id": "078efd96-811c-4952-af94-833c7e0b921c",
   "metadata": {},
   "outputs": [
    {
     "data": {
      "text/plain": [
       "str"
      ]
     },
     "execution_count": 24,
     "metadata": {},
     "output_type": "execute_result"
    }
   ],
   "source": [
    "# checking the kushal\n",
    "type(kushal)"
   ]
  },
  {
   "cell_type": "code",
   "execution_count": 25,
   "id": "27389657-bbdc-4ef6-b2b4-fa14f0b38c5e",
   "metadata": {},
   "outputs": [
    {
     "data": {
      "text/plain": [
       "int"
      ]
     },
     "execution_count": 25,
     "metadata": {},
     "output_type": "execute_result"
    }
   ],
   "source": [
    "# chekcing the ravi\n",
    "type(ravi)"
   ]
  },
  {
   "cell_type": "markdown",
   "id": "4a00ab58-061d-445e-b035-4109dee4f4f3",
   "metadata": {},
   "source": [
    "**Trying to add kushal and ravi**"
   ]
  },
  {
   "cell_type": "code",
   "execution_count": 26,
   "id": "a793c83e-108f-4377-991d-0f31c3f22ebe",
   "metadata": {},
   "outputs": [
    {
     "ename": "TypeError",
     "evalue": "can only concatenate str (not \"int\") to str",
     "output_type": "error",
     "traceback": [
      "\u001b[1;31m---------------------------------------------------------------------------\u001b[0m",
      "\u001b[1;31mTypeError\u001b[0m                                 Traceback (most recent call last)",
      "Input \u001b[1;32mIn [26]\u001b[0m, in \u001b[0;36m<cell line: 1>\u001b[1;34m()\u001b[0m\n\u001b[1;32m----> 1\u001b[0m \u001b[43mkushal\u001b[49m\u001b[43m \u001b[49m\u001b[38;5;241;43m+\u001b[39;49m\u001b[43m \u001b[49m\u001b[43mravi\u001b[49m\n",
      "\u001b[1;31mTypeError\u001b[0m: can only concatenate str (not \"int\") to str"
     ]
    }
   ],
   "source": [
    "kushal + ravi"
   ]
  },
  {
   "cell_type": "code",
   "execution_count": 27,
   "id": "c2fa9d0b-f94d-4014-bd7c-b4953a734968",
   "metadata": {},
   "outputs": [
    {
     "data": {
      "text/plain": [
       "2"
      ]
     },
     "execution_count": 27,
     "metadata": {},
     "output_type": "execute_result"
    }
   ],
   "source": [
    "ravi"
   ]
  },
  {
   "cell_type": "code",
   "execution_count": 31,
   "id": "f7a04ee7-c38e-4e97-9b62-452c1ec54e15",
   "metadata": {},
   "outputs": [
    {
     "data": {
      "text/plain": [
       "str"
      ]
     },
     "execution_count": 31,
     "metadata": {},
     "output_type": "execute_result"
    }
   ],
   "source": [
    "ravi = '2'\n",
    "type(ravi)"
   ]
  },
  {
   "cell_type": "code",
   "execution_count": 30,
   "id": "4b2d9964-c62b-42cb-b52d-345605d1fd99",
   "metadata": {},
   "outputs": [
    {
     "data": {
      "text/plain": [
       "'12'"
      ]
     },
     "execution_count": 30,
     "metadata": {},
     "output_type": "execute_result"
    }
   ],
   "source": [
    "kushal + ravi"
   ]
  },
  {
   "cell_type": "markdown",
   "id": "2095a4f8-db37-46c5-9c7b-30712a698190",
   "metadata": {},
   "source": [
    "Making two new variables to store int type data"
   ]
  },
  {
   "cell_type": "code",
   "execution_count": 38,
   "id": "6c2fe67b-6162-49ac-bb3c-e3cd3fbcf17f",
   "metadata": {},
   "outputs": [],
   "source": [
    "num1 = 1\n",
    "num2 = 2"
   ]
  },
  {
   "cell_type": "code",
   "execution_count": 39,
   "id": "b3fddd3b-2d98-4b5d-a09c-ade7303a2203",
   "metadata": {},
   "outputs": [
    {
     "data": {
      "text/plain": [
       "3"
      ]
     },
     "execution_count": 39,
     "metadata": {},
     "output_type": "execute_result"
    }
   ],
   "source": [
    "num1 + num2"
   ]
  },
  {
   "cell_type": "code",
   "execution_count": 40,
   "id": "ff2838a2-a094-4844-80da-9c3b66a841e7",
   "metadata": {},
   "outputs": [],
   "source": [
    "x1 = 2"
   ]
  },
  {
   "cell_type": "code",
   "execution_count": null,
   "id": "fd00d85e-31f8-4f82-bd93-ff18ffd3e5bc",
   "metadata": {},
   "outputs": [],
   "source": []
  },
  {
   "cell_type": "markdown",
   "id": "4acde86e-eaab-49a0-8b0f-7a66fba169a8",
   "metadata": {},
   "source": [
    "### Arithmatic Operators"
   ]
  },
  {
   "cell_type": "markdown",
   "id": "0f023a7f-1271-45f8-8028-27d89b1371c9",
   "metadata": {},
   "source": [
    "* `+` plus/add operator\n",
    "* `-` minus/Negative Operator\n",
    "* `*` Multiply perator\n",
    "* `/` Divison Operator\n",
    "* '//' floor division operator\n",
    "* `%` modulos operator"
   ]
  },
  {
   "cell_type": "code",
   "execution_count": 1,
   "id": "0fc1be26-f68f-4bfd-bc86-09eabad811b7",
   "metadata": {},
   "outputs": [],
   "source": [
    "num1 = 10\n",
    "num2 = 5"
   ]
  },
  {
   "cell_type": "code",
   "execution_count": 2,
   "id": "3663107a-4419-4377-94a3-207c00f8fb9d",
   "metadata": {},
   "outputs": [
    {
     "data": {
      "text/plain": [
       "10"
      ]
     },
     "execution_count": 2,
     "metadata": {},
     "output_type": "execute_result"
    }
   ],
   "source": [
    "num1"
   ]
  },
  {
   "cell_type": "code",
   "execution_count": 3,
   "id": "ea10549f-8a31-4a80-9a41-6ab5f8fbad8c",
   "metadata": {},
   "outputs": [
    {
     "data": {
      "text/plain": [
       "5"
      ]
     },
     "execution_count": 3,
     "metadata": {},
     "output_type": "execute_result"
    }
   ],
   "source": [
    "num2"
   ]
  },
  {
   "cell_type": "code",
   "execution_count": 10,
   "id": "8e60908b-695c-43e0-a5c6-64c4d8234ec9",
   "metadata": {},
   "outputs": [
    {
     "name": "stdout",
     "output_type": "stream",
     "text": [
      "num1:  10\n"
     ]
    }
   ],
   "source": [
    "print(\"num1: \", num1)"
   ]
  },
  {
   "cell_type": "code",
   "execution_count": 7,
   "id": "3a6a036f-0891-44b2-81dd-4bb9266b68bf",
   "metadata": {},
   "outputs": [
    {
     "name": "stdout",
     "output_type": "stream",
     "text": [
      "num2: 5\n"
     ]
    }
   ],
   "source": [
    "print(\"num2:\",num2)"
   ]
  },
  {
   "cell_type": "markdown",
   "id": "e8ddfc6a-1a7a-4e17-bae3-fc313acde437",
   "metadata": {},
   "source": [
    "#### `+` Plus operator on int and float"
   ]
  },
  {
   "cell_type": "markdown",
   "id": "884f1aee-7a51-46fc-828f-5fdf37f572f6",
   "metadata": {},
   "source": [
    "**plus operator with int**"
   ]
  },
  {
   "cell_type": "code",
   "execution_count": 20,
   "id": "3aa29e7a-7cfc-4252-a53d-6bb5fbb269a4",
   "metadata": {},
   "outputs": [],
   "source": [
    "x = 100\n",
    "y = 200"
   ]
  },
  {
   "cell_type": "code",
   "execution_count": 21,
   "id": "5eadabf1-61c8-4bcc-802c-e50382e9da37",
   "metadata": {},
   "outputs": [
    {
     "name": "stdout",
     "output_type": "stream",
     "text": [
      "type of x:  <class 'int'>\n",
      "type of y:  <class 'int'>\n"
     ]
    }
   ],
   "source": [
    "print(\"type of x: \", type(x))\n",
    "print(\"type of y: \", type(y))"
   ]
  },
  {
   "cell_type": "code",
   "execution_count": 22,
   "id": "e34f2717-0f18-49e4-9f15-7e052619fd1c",
   "metadata": {},
   "outputs": [
    {
     "data": {
      "text/plain": [
       "300"
      ]
     },
     "execution_count": 22,
     "metadata": {},
     "output_type": "execute_result"
    }
   ],
   "source": [
    "x + y # adding x and y by using + operator"
   ]
  },
  {
   "cell_type": "code",
   "execution_count": 23,
   "id": "2e7922f6-93fb-4c7a-8ec9-33f2eab03170",
   "metadata": {},
   "outputs": [
    {
     "name": "stdout",
     "output_type": "stream",
     "text": [
      "add of x + y : 300\n"
     ]
    }
   ],
   "source": [
    "print(\"add of x + y :\", x+y)"
   ]
  },
  {
   "cell_type": "markdown",
   "id": "3da046f2-4ef6-402b-9493-0ecaa63769cf",
   "metadata": {},
   "source": [
    "**plus operator with float**"
   ]
  },
  {
   "cell_type": "code",
   "execution_count": 33,
   "id": "8277af6a-9a3c-4edd-913a-3a856e4d8f4e",
   "metadata": {},
   "outputs": [],
   "source": [
    "x = 3.14129\n",
    "y = 7.127"
   ]
  },
  {
   "cell_type": "code",
   "execution_count": 34,
   "id": "52584068-3511-47ea-9c36-3744eb71a75f",
   "metadata": {},
   "outputs": [
    {
     "data": {
      "text/plain": [
       "10.26829"
      ]
     },
     "execution_count": 34,
     "metadata": {},
     "output_type": "execute_result"
    }
   ],
   "source": [
    "x+y"
   ]
  },
  {
   "cell_type": "code",
   "execution_count": 25,
   "id": "fd485099-1e47-45c6-9f1a-618a9da18fcb",
   "metadata": {},
   "outputs": [
    {
     "data": {
      "text/plain": [
       "float"
      ]
     },
     "execution_count": 25,
     "metadata": {},
     "output_type": "execute_result"
    }
   ],
   "source": [
    "type(x)"
   ]
  },
  {
   "cell_type": "code",
   "execution_count": 26,
   "id": "25fa096d-76a5-42eb-ba88-2f94aca4d8ba",
   "metadata": {},
   "outputs": [
    {
     "data": {
      "text/plain": [
       "float"
      ]
     },
     "execution_count": 26,
     "metadata": {},
     "output_type": "execute_result"
    }
   ],
   "source": [
    "type(y)"
   ]
  },
  {
   "cell_type": "code",
   "execution_count": 27,
   "id": "08e4880a-ff2f-49c7-a678-c51b89ed60fa",
   "metadata": {},
   "outputs": [
    {
     "name": "stdout",
     "output_type": "stream",
     "text": [
      "type of x:  <class 'float'>\n",
      "type of y:  <class 'float'>\n"
     ]
    }
   ],
   "source": [
    "print(\"type of x: \", type(x))\n",
    "print(\"type of y: \", type(y))"
   ]
  },
  {
   "cell_type": "code",
   "execution_count": 28,
   "id": "03d20ed2-2ebf-4ad6-ab6f-0ef0f354247f",
   "metadata": {},
   "outputs": [
    {
     "name": "stdout",
     "output_type": "stream",
     "text": [
      "add of x + y : 10.26829\n"
     ]
    }
   ],
   "source": [
    "print(\"add of x + y :\", x+y)"
   ]
  },
  {
   "cell_type": "markdown",
   "id": "583f8c1f-5e89-4e1a-9fae-bc1eb6b8149d",
   "metadata": {},
   "source": [
    "___"
   ]
  },
  {
   "cell_type": "markdown",
   "id": "d55354bf-1048-4ee1-a003-67e60b6caade",
   "metadata": {},
   "source": [
    "**plus operator with int and float**"
   ]
  },
  {
   "cell_type": "code",
   "execution_count": 29,
   "id": "04a37a2f-f9ae-45e4-b027-973bca6765a8",
   "metadata": {},
   "outputs": [],
   "source": [
    "x = 3\n",
    "y = 3.12345"
   ]
  },
  {
   "cell_type": "code",
   "execution_count": 30,
   "id": "fa4df748-a084-4982-8683-7e3c099aae5d",
   "metadata": {},
   "outputs": [
    {
     "name": "stdout",
     "output_type": "stream",
     "text": [
      "type of x:  <class 'int'>\n",
      "type of y:  <class 'float'>\n"
     ]
    }
   ],
   "source": [
    "print(\"type of x: \", type(x))\n",
    "print(\"type of y: \", type(y))"
   ]
  },
  {
   "cell_type": "code",
   "execution_count": 31,
   "id": "59c16e91-7536-45a0-b1bd-6dce9a609736",
   "metadata": {},
   "outputs": [
    {
     "data": {
      "text/plain": [
       "6.12345"
      ]
     },
     "execution_count": 31,
     "metadata": {},
     "output_type": "execute_result"
    }
   ],
   "source": [
    "x+y"
   ]
  },
  {
   "cell_type": "code",
   "execution_count": 32,
   "id": "08c14c60-ecce-486a-a1fe-d5bc6ec1b29c",
   "metadata": {},
   "outputs": [
    {
     "name": "stdout",
     "output_type": "stream",
     "text": [
      "add of x + y : 6.12345\n"
     ]
    }
   ],
   "source": [
    "print(\"add of x + y :\", x+y)"
   ]
  },
  {
   "cell_type": "markdown",
   "id": "ef078b85-e3d5-49df-a968-c473aee39a41",
   "metadata": {},
   "source": [
    "____\n",
    "____"
   ]
  },
  {
   "cell_type": "markdown",
   "id": "247a733e-857c-40b6-a602-61fb21f228ff",
   "metadata": {},
   "source": [
    "#### `-` Minus Operator with int and float"
   ]
  },
  {
   "cell_type": "code",
   "execution_count": 35,
   "id": "fa97b8cb-c2c9-4fc1-99b8-976fe166873e",
   "metadata": {},
   "outputs": [],
   "source": [
    "x = 200 \n",
    "y = 100"
   ]
  },
  {
   "cell_type": "code",
   "execution_count": 36,
   "id": "2dabfc11-2126-42ad-9ccc-f7be8de0193f",
   "metadata": {},
   "outputs": [
    {
     "data": {
      "text/plain": [
       "200"
      ]
     },
     "execution_count": 36,
     "metadata": {},
     "output_type": "execute_result"
    }
   ],
   "source": [
    "x"
   ]
  },
  {
   "cell_type": "code",
   "execution_count": 37,
   "id": "228964fb-793d-46ad-aa49-394a2163c27c",
   "metadata": {},
   "outputs": [
    {
     "data": {
      "text/plain": [
       "100"
      ]
     },
     "execution_count": 37,
     "metadata": {},
     "output_type": "execute_result"
    }
   ],
   "source": [
    "y "
   ]
  },
  {
   "cell_type": "code",
   "execution_count": 38,
   "id": "b154b61d-90cd-4af4-a43d-f2b809d27486",
   "metadata": {},
   "outputs": [
    {
     "name": "stdout",
     "output_type": "stream",
     "text": [
      "x: 200\n",
      "y: 100\n"
     ]
    }
   ],
   "source": [
    "print(\"x:\",x)\n",
    "print(\"y:\",y)"
   ]
  },
  {
   "cell_type": "code",
   "execution_count": 40,
   "id": "7d7f186d-e63e-489a-b070-adbd6ea25bbe",
   "metadata": {},
   "outputs": [
    {
     "data": {
      "text/plain": [
       "100"
      ]
     },
     "execution_count": 40,
     "metadata": {},
     "output_type": "execute_result"
    }
   ],
   "source": [
    "x-y"
   ]
  },
  {
   "cell_type": "code",
   "execution_count": 41,
   "id": "dbfd9c2d-67d7-4a85-88d5-c34a98a2cc55",
   "metadata": {},
   "outputs": [
    {
     "name": "stdout",
     "output_type": "stream",
     "text": [
      "x-y: 100\n"
     ]
    }
   ],
   "source": [
    "print(\"x-y:\", x-y)"
   ]
  },
  {
   "cell_type": "markdown",
   "id": "90489bec-497c-4f9c-8a55-f37b238066c9",
   "metadata": {},
   "source": [
    "**minus operator with float**"
   ]
  },
  {
   "cell_type": "code",
   "execution_count": 42,
   "id": "56f5790e-9c7b-47f1-a4d7-0ceefbb990a2",
   "metadata": {},
   "outputs": [],
   "source": [
    "x = 2.345\n",
    "y = 5.433"
   ]
  },
  {
   "cell_type": "code",
   "execution_count": 43,
   "id": "6188dd7c-1e19-4ad5-870d-0dec04713b83",
   "metadata": {},
   "outputs": [
    {
     "name": "stdout",
     "output_type": "stream",
     "text": [
      "x: 2.345\n",
      "y: 5.433\n"
     ]
    }
   ],
   "source": [
    "print(\"x:\",x)\n",
    "print(\"y:\",y)"
   ]
  },
  {
   "cell_type": "code",
   "execution_count": 44,
   "id": "4fddff71-9584-4af9-bd23-3fd33b47ff9a",
   "metadata": {},
   "outputs": [
    {
     "data": {
      "text/plain": [
       "-3.0879999999999996"
      ]
     },
     "execution_count": 44,
     "metadata": {},
     "output_type": "execute_result"
    }
   ],
   "source": [
    "x-y"
   ]
  },
  {
   "cell_type": "code",
   "execution_count": 45,
   "id": "ea7ebd32-1ced-4115-bd54-d12989980620",
   "metadata": {},
   "outputs": [
    {
     "name": "stdout",
     "output_type": "stream",
     "text": [
      "x-y: -3.0879999999999996\n"
     ]
    }
   ],
   "source": [
    "print(\"x-y:\", x-y)"
   ]
  },
  {
   "cell_type": "code",
   "execution_count": 46,
   "id": "6725bcff-a1e1-4650-8b5a-24159126b2ca",
   "metadata": {},
   "outputs": [
    {
     "name": "stdout",
     "output_type": "stream",
     "text": [
      "y-x: 3.0879999999999996\n"
     ]
    }
   ],
   "source": [
    "print(\"y-x:\", y-x)"
   ]
  },
  {
   "cell_type": "markdown",
   "id": "8514140b-61e2-4e71-ac13-e6e3cf86610e",
   "metadata": {},
   "source": [
    "**Minus Operator with int and float**"
   ]
  },
  {
   "cell_type": "code",
   "execution_count": 53,
   "id": "718cfadc-d3cc-43b5-a807-aa88ef3118c8",
   "metadata": {},
   "outputs": [],
   "source": [
    "x = 3\n",
    "y = 3.423"
   ]
  },
  {
   "cell_type": "code",
   "execution_count": 54,
   "id": "cbf192ff-b326-47f5-820f-c75b7bc74ef7",
   "metadata": {},
   "outputs": [
    {
     "name": "stdout",
     "output_type": "stream",
     "text": [
      "x: 3\n",
      "y: 3.423\n"
     ]
    }
   ],
   "source": [
    "print(\"x:\",x)\n",
    "print(\"y:\",y)"
   ]
  },
  {
   "cell_type": "code",
   "execution_count": 55,
   "id": "d893196b-0390-4e85-baba-d3f5c23685b0",
   "metadata": {},
   "outputs": [
    {
     "data": {
      "text/plain": [
       "-0.42300000000000004"
      ]
     },
     "execution_count": 55,
     "metadata": {},
     "output_type": "execute_result"
    }
   ],
   "source": [
    "x-y"
   ]
  },
  {
   "cell_type": "code",
   "execution_count": 56,
   "id": "871a8c20-5cb6-4903-b46b-934440e2d163",
   "metadata": {},
   "outputs": [
    {
     "data": {
      "text/plain": [
       "0.42300000000000004"
      ]
     },
     "execution_count": 56,
     "metadata": {},
     "output_type": "execute_result"
    }
   ],
   "source": [
    "y - x"
   ]
  },
  {
   "cell_type": "code",
   "execution_count": 60,
   "id": "a73c495f-0701-46c1-94b7-d70cd60ca9ed",
   "metadata": {},
   "outputs": [
    {
     "name": "stdout",
     "output_type": "stream",
     "text": [
      "x-y: -0.42300000000000004\n",
      "y-x: 0.42300000000000004\n"
     ]
    }
   ],
   "source": [
    "print(\"x-y:\", x-y)\n",
    "print(\"y-x:\", y-x)"
   ]
  },
  {
   "cell_type": "code",
   "execution_count": 61,
   "id": "0135bb04-1e9b-434f-9193-561c37ce280d",
   "metadata": {},
   "outputs": [
    {
     "name": "stdout",
     "output_type": "stream",
     "text": [
      "-0.42300000000000004\n",
      "0.42300000000000004\n"
     ]
    }
   ],
   "source": [
    "print(x-y)\n",
    "print(y-x)"
   ]
  },
  {
   "cell_type": "markdown",
   "id": "ad6f1b45-408d-45d4-a4ec-abaa3cf36523",
   "metadata": {},
   "source": [
    "___\n",
    "___"
   ]
  },
  {
   "cell_type": "markdown",
   "id": "4c6b54cf-408f-4204-9df5-83d84b3a4289",
   "metadata": {},
   "source": [
    "#### `*` Multipy Operator with int and float"
   ]
  },
  {
   "cell_type": "markdown",
   "id": "4748f417-01f7-46c3-9fb4-d4c7e0617b10",
   "metadata": {},
   "source": [
    "**Multiply operator with int**"
   ]
  },
  {
   "cell_type": "code",
   "execution_count": 62,
   "id": "3b202fd8-45af-4216-9c6c-9f7ede1304a4",
   "metadata": {},
   "outputs": [],
   "source": [
    "x = 2\n",
    "y = 4"
   ]
  },
  {
   "cell_type": "code",
   "execution_count": 65,
   "id": "84ad74c2-9714-47ae-bf19-976dbea2934b",
   "metadata": {},
   "outputs": [
    {
     "data": {
      "text/plain": [
       "8"
      ]
     },
     "execution_count": 65,
     "metadata": {},
     "output_type": "execute_result"
    }
   ],
   "source": [
    "x * y"
   ]
  },
  {
   "cell_type": "code",
   "execution_count": 67,
   "id": "95b8ae7a-158f-4bce-95ef-866c28bcbd76",
   "metadata": {},
   "outputs": [
    {
     "name": "stdout",
     "output_type": "stream",
     "text": [
      "x: 2\n",
      "y: 4\n",
      "Multiplication of x * y: 8\n"
     ]
    }
   ],
   "source": [
    "print(\"x:\",x)\n",
    "print(\"y:\",y)\n",
    "print(\"Multiplication of x * y:\", x*y)"
   ]
  },
  {
   "cell_type": "markdown",
   "id": "adfa968d-4c0a-4638-a7af-a966f05d2098",
   "metadata": {},
   "source": [
    "**Mulitply Operator with float**"
   ]
  },
  {
   "cell_type": "code",
   "execution_count": 69,
   "id": "7a8c7ff1-2ea5-45fe-8a59-fbf8ec4d5174",
   "metadata": {},
   "outputs": [],
   "source": [
    "x = 2.43\n",
    "y = 5.64"
   ]
  },
  {
   "cell_type": "code",
   "execution_count": 70,
   "id": "d7f5cebd-7649-4b66-b473-2a80ff862b9b",
   "metadata": {},
   "outputs": [
    {
     "name": "stdout",
     "output_type": "stream",
     "text": [
      "type of x: <class 'float'>\n",
      "type of y: <class 'float'>\n"
     ]
    }
   ],
   "source": [
    "#checking the x and y type\n",
    "print(\"type of x:\", type(x))\n",
    "print(\"type of y:\", type(y))"
   ]
  },
  {
   "cell_type": "code",
   "execution_count": 71,
   "id": "9684115a-02a5-4040-a585-5c795c4dbb76",
   "metadata": {},
   "outputs": [
    {
     "name": "stdout",
     "output_type": "stream",
     "text": [
      "x: 2.43\n",
      "y: 5.64\n",
      "Multiplication of x * y: 13.7052\n"
     ]
    }
   ],
   "source": [
    "print(\"x:\",x)\n",
    "print(\"y:\",y)\n",
    "print(\"Multiplication of x * y:\", x*y)"
   ]
  },
  {
   "cell_type": "markdown",
   "id": "68b6069e-4dc5-4900-8190-f7b5778d80c2",
   "metadata": {},
   "source": [
    "**Multiply Operator with int and flaot**"
   ]
  },
  {
   "cell_type": "code",
   "execution_count": 79,
   "id": "bbcf9d27-5853-4dcc-b820-663cd291822c",
   "metadata": {},
   "outputs": [],
   "source": [
    "x = 4\n",
    "y = 5.25"
   ]
  },
  {
   "cell_type": "code",
   "execution_count": 80,
   "id": "9685ee16-8335-4011-ac54-2f3a083c6ab7",
   "metadata": {},
   "outputs": [
    {
     "name": "stdout",
     "output_type": "stream",
     "text": [
      "type of x: <class 'int'>\n",
      "type of y: <class 'float'>\n"
     ]
    }
   ],
   "source": [
    "#checking the x and y type\n",
    "print(\"type of x:\", type(x))\n",
    "print(\"type of y:\", type(y))"
   ]
  },
  {
   "cell_type": "code",
   "execution_count": 81,
   "id": "35e1f845-54fd-457e-b87b-e78f24f5d7e9",
   "metadata": {},
   "outputs": [
    {
     "name": "stdout",
     "output_type": "stream",
     "text": [
      "x: 4\n",
      "y: 5.25\n",
      "Multiplication of x * y: 21.0\n"
     ]
    }
   ],
   "source": [
    "print(\"x:\",x)\n",
    "print(\"y:\",y)\n",
    "print(\"Multiplication of x * y:\", x*y)"
   ]
  },
  {
   "cell_type": "markdown",
   "id": "900462e4-0ed6-44d4-935f-38e25aefe274",
   "metadata": {},
   "source": [
    "___\n",
    "___"
   ]
  },
  {
   "cell_type": "markdown",
   "id": "26d0a0d1-cabb-43a3-9051-6f0881fa9ed3",
   "metadata": {},
   "source": [
    "#### `/` Division Operator with int and float"
   ]
  },
  {
   "cell_type": "markdown",
   "id": "186cc37e-f93b-426d-a679-8c393a442a9a",
   "metadata": {},
   "source": [
    "**Division Operator with int**"
   ]
  },
  {
   "cell_type": "code",
   "execution_count": 82,
   "id": "1f79062c-0247-48d8-ba41-2dd9e5cb78a7",
   "metadata": {},
   "outputs": [],
   "source": [
    "# case1: x is greater than y\n",
    "x = 10\n",
    "y = 5"
   ]
  },
  {
   "cell_type": "code",
   "execution_count": 83,
   "id": "e30e0a27-b005-413b-9d8d-4ab60dc57f78",
   "metadata": {},
   "outputs": [
    {
     "name": "stdout",
     "output_type": "stream",
     "text": [
      "type of x: <class 'int'>\n",
      "type of y: <class 'int'>\n"
     ]
    }
   ],
   "source": [
    "#checking the x and y type\n",
    "print(\"type of x:\", type(x))\n",
    "print(\"type of y:\", type(y))"
   ]
  },
  {
   "cell_type": "code",
   "execution_count": 88,
   "id": "39508b28-c66a-44df-99d4-3a0ed7a5b8e8",
   "metadata": {},
   "outputs": [
    {
     "name": "stdout",
     "output_type": "stream",
     "text": [
      "x: 5\n",
      "y: 10\n",
      "Division of x / y: 0.5\n"
     ]
    }
   ],
   "source": [
    "print(\"x:\",x)\n",
    "print(\"y:\",y)\n",
    "print(\"Division of x / y:\", x/y)"
   ]
  },
  {
   "cell_type": "code",
   "execution_count": 86,
   "id": "42a62b48-3100-4c55-af10-671430e6bb88",
   "metadata": {},
   "outputs": [
    {
     "name": "stdout",
     "output_type": "stream",
     "text": [
      "type of result of x/y: <class 'float'>\n"
     ]
    }
   ],
   "source": [
    "print(\"type of result of x/y:\", type(x/y))"
   ]
  },
  {
   "cell_type": "code",
   "execution_count": 90,
   "id": "cf02a003-cb8f-470c-be1c-7b5372e0a7d9",
   "metadata": {},
   "outputs": [],
   "source": [
    "# case2: x is less than y\n",
    "x = 5\n",
    "y = 10"
   ]
  },
  {
   "cell_type": "code",
   "execution_count": 91,
   "id": "db138288-4dc3-4125-8f61-adf1d4b7b855",
   "metadata": {},
   "outputs": [
    {
     "name": "stdout",
     "output_type": "stream",
     "text": [
      "x: 5\n",
      "y: 10\n",
      "Division of x / y: 0.5\n"
     ]
    }
   ],
   "source": [
    "print(\"x:\",x)\n",
    "print(\"y:\",y)\n",
    "print(\"Division of x / y:\", x/y)"
   ]
  },
  {
   "cell_type": "markdown",
   "id": "497bd825-d6bb-4d7b-abcc-dadccaa5c1e6",
   "metadata": {},
   "source": [
    "**Division Operator with float**"
   ]
  },
  {
   "cell_type": "code",
   "execution_count": 92,
   "id": "d7b844ec-884d-42d4-a3b5-5c75c6b31339",
   "metadata": {},
   "outputs": [],
   "source": [
    "x = 3.4\n",
    "y = 2.1"
   ]
  },
  {
   "cell_type": "code",
   "execution_count": 93,
   "id": "e3a8ae1f-f5cc-40e3-9d66-def70ca3c90c",
   "metadata": {},
   "outputs": [
    {
     "name": "stdout",
     "output_type": "stream",
     "text": [
      "x: 3.4\n",
      "y: 2.1\n",
      "Division of x / y: 1.6190476190476188\n"
     ]
    }
   ],
   "source": [
    "print(\"x:\",x)\n",
    "print(\"y:\",y)\n",
    "print(\"Division of x / y:\", x/y)"
   ]
  },
  {
   "cell_type": "markdown",
   "id": "90bc9ac5-89ea-4260-a370-be6dd3cff004",
   "metadata": {},
   "source": [
    "**Division Operator with int and float**`"
   ]
  },
  {
   "cell_type": "code",
   "execution_count": 95,
   "id": "67b2fd64-b03b-4bb6-a4c0-f0d3b2fe78b4",
   "metadata": {},
   "outputs": [],
   "source": [
    "x = 3\n",
    "y = 1.4"
   ]
  },
  {
   "cell_type": "code",
   "execution_count": 96,
   "id": "e477c17e-8840-4ddc-ad58-ee140df740d3",
   "metadata": {},
   "outputs": [
    {
     "name": "stdout",
     "output_type": "stream",
     "text": [
      "x: 3\n",
      "y: 1.4\n",
      "Division of x / y: 2.142857142857143\n"
     ]
    }
   ],
   "source": [
    "print(\"x:\",x)\n",
    "print(\"y:\",y)\n",
    "print(\"Division of x / y:\", x/y)"
   ]
  },
  {
   "cell_type": "markdown",
   "id": "83cabe0b-532a-425b-a86f-395eba301c9c",
   "metadata": {},
   "source": [
    "___\n",
    "___"
   ]
  },
  {
   "cell_type": "markdown",
   "id": "750c44f6-d175-4a90-85bd-05115b6a679b",
   "metadata": {},
   "source": [
    "#### `//` floor division with int and float"
   ]
  },
  {
   "cell_type": "code",
   "execution_count": 106,
   "id": "781d84a5-ca0c-4c7a-b708-7ddfa96723c8",
   "metadata": {},
   "outputs": [],
   "source": [
    "x = 3\n",
    "y = 1.4\n",
    "z = 1.7"
   ]
  },
  {
   "cell_type": "code",
   "execution_count": 107,
   "id": "8056a7ae-c487-468a-8985-af5c12d5316b",
   "metadata": {},
   "outputs": [
    {
     "name": "stdout",
     "output_type": "stream",
     "text": [
      "x: 3\n",
      "y: 1.4\n",
      "Division of x / y: 2.142857142857143\n",
      "floor Division of x//y: 2.0\n"
     ]
    }
   ],
   "source": [
    "print(\"x:\",x)\n",
    "print(\"y:\",y)\n",
    "print(\"Division of x / y:\", x/y)\n",
    "print(\"floor Division of x//y:\", x//y)"
   ]
  },
  {
   "cell_type": "code",
   "execution_count": 109,
   "id": "8da3fcfd-cdee-4561-af46-55a00df45e33",
   "metadata": {},
   "outputs": [
    {
     "name": "stdout",
     "output_type": "stream",
     "text": [
      "x: 3\n",
      "z: 1.7\n",
      "Division of x / z: 1.7647058823529411\n",
      "floor Division of x//z: 1.0\n"
     ]
    }
   ],
   "source": [
    "print(\"x:\",x)\n",
    "print(\"z:\",z)\n",
    "print(\"Division of x / z:\", x/z)\n",
    "print(\"floor Division of x//z:\", x//z)"
   ]
  },
  {
   "cell_type": "markdown",
   "id": "adbc0368-1980-498e-8458-313c81cd9af1",
   "metadata": {},
   "source": [
    "___\n",
    "___"
   ]
  },
  {
   "cell_type": "markdown",
   "id": "f0dbf2a2-9f63-4e48-9987-b771e2b39af3",
   "metadata": {},
   "source": [
    "#### `%` Modulos Operator with int and float"
   ]
  },
  {
   "cell_type": "code",
   "execution_count": 111,
   "id": "34c8e44f-118f-48ca-a255-a4285b6c2d58",
   "metadata": {},
   "outputs": [],
   "source": [
    "# case1: x is greater than y\n",
    "x = 25\n",
    "y = 7"
   ]
  },
  {
   "cell_type": "code",
   "execution_count": 112,
   "id": "7be0f394-3f95-47b8-ac35-6b2bba5553e6",
   "metadata": {},
   "outputs": [
    {
     "name": "stdout",
     "output_type": "stream",
     "text": [
      "x: 25\n",
      "y: 7\n",
      "Modulus of x % y: 4\n"
     ]
    }
   ],
   "source": [
    "print(\"x:\",x)\n",
    "print(\"y:\",y)\n",
    "print(\"Modulus of x % y:\", x%y)"
   ]
  },
  {
   "cell_type": "markdown",
   "id": "877541d6-71a3-4043-8962-ec7443886910",
   "metadata": {},
   "source": [
    "**Counting Modulo of every value 1 to 50 by 7**"
   ]
  },
  {
   "cell_type": "code",
   "execution_count": 118,
   "id": "9c129212-2760-4baf-b69d-5394876b8b21",
   "metadata": {},
   "outputs": [
    {
     "name": "stdout",
     "output_type": "stream",
     "text": [
      "1%7: 1\n",
      "2%7: 2\n",
      "3%7: 3\n",
      "4%7: 4\n",
      "5%7: 5\n",
      "6%7: 6\n",
      "7%7: 0\n",
      "8%7: 1\n",
      "9%7: 2\n",
      "10%7: 3\n",
      "11%7: 4\n",
      "12%7: 5\n",
      "13%7: 6\n",
      "14%7: 0\n",
      "15%7: 1\n",
      "16%7: 2\n",
      "17%7: 3\n",
      "18%7: 4\n",
      "19%7: 5\n",
      "20%7: 6\n",
      "21%7: 0\n",
      "22%7: 1\n",
      "23%7: 2\n",
      "24%7: 3\n",
      "25%7: 4\n",
      "26%7: 5\n",
      "27%7: 6\n",
      "28%7: 0\n",
      "29%7: 1\n",
      "30%7: 2\n",
      "31%7: 3\n",
      "32%7: 4\n",
      "33%7: 5\n",
      "34%7: 6\n",
      "35%7: 0\n",
      "36%7: 1\n",
      "37%7: 2\n",
      "38%7: 3\n",
      "39%7: 4\n",
      "40%7: 5\n",
      "41%7: 6\n",
      "42%7: 0\n",
      "43%7: 1\n",
      "44%7: 2\n",
      "45%7: 3\n",
      "46%7: 4\n",
      "47%7: 5\n",
      "48%7: 6\n",
      "49%7: 0\n",
      "50%7: 1\n"
     ]
    }
   ],
   "source": [
    "for i in range(1,51):\n",
    "    print(f\"{i}%7:\", i%7)"
   ]
  },
  {
   "cell_type": "code",
   "execution_count": 122,
   "id": "5b869110-dcbf-4360-a52a-6787d18b6a6f",
   "metadata": {},
   "outputs": [
    {
     "data": {
      "text/plain": [
       "1"
      ]
     },
     "execution_count": 122,
     "metadata": {},
     "output_type": "execute_result"
    }
   ],
   "source": []
  },
  {
   "cell_type": "code",
   "execution_count": null,
   "id": "31c70ed8-8b53-4459-a69f-ea29ef89df43",
   "metadata": {},
   "outputs": [],
   "source": []
  }
 ],
 "metadata": {
  "kernelspec": {
   "display_name": "Python 3 (ipykernel)",
   "language": "python",
   "name": "python3"
  },
  "language_info": {
   "codemirror_mode": {
    "name": "ipython",
    "version": 3
   },
   "file_extension": ".py",
   "mimetype": "text/x-python",
   "name": "python",
   "nbconvert_exporter": "python",
   "pygments_lexer": "ipython3",
   "version": "3.8.3"
  }
 },
 "nbformat": 4,
 "nbformat_minor": 5
}
