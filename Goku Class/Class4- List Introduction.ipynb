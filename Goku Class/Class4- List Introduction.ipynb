{
 "cells": [
  {
   "cell_type": "markdown",
   "id": "2e9ca7a9-15e0-42e1-b220-db1ee26244eb",
   "metadata": {},
   "source": [
    "## List Introduction"
   ]
  },
  {
   "cell_type": "markdown",
   "id": "fcdc9301-f63f-4ce8-9b81-de9bb7b26633",
   "metadata": {},
   "source": [
    "List is a inbulit data structure to contain multiple type of data in a sequence with dynamic memory allocation."
   ]
  },
  {
   "cell_type": "markdown",
   "id": "bea627a8-e038-4336-80f5-20c8a263120b",
   "metadata": {},
   "source": [
    "`<listName>` = `[item1, item2, item3, ...., itemN]`"
   ]
  },
  {
   "cell_type": "code",
   "execution_count": 3,
   "id": "f4f2110d-244f-4e38-8f5d-2a5f684ebc8d",
   "metadata": {},
   "outputs": [],
   "source": [
    "Shopping_list = [\"banana\", \"Apple\", \"Mango\"]"
   ]
  },
  {
   "cell_type": "code",
   "execution_count": 4,
   "id": "8e1b0082-57a7-4def-8844-3fd1ad891069",
   "metadata": {},
   "outputs": [
    {
     "data": {
      "text/plain": [
       "['banana', 'Apple', 'Mango']"
      ]
     },
     "execution_count": 4,
     "metadata": {},
     "output_type": "execute_result"
    }
   ],
   "source": [
    "Shopping_list"
   ]
  },
  {
   "cell_type": "markdown",
   "id": "2f16c484-f03e-4a0f-ab54-7952fdce88c5",
   "metadata": {},
   "source": [
    "Student = `[studentName, studentAge, studentHeight ,studentClass, studentPhoneNumber]`"
   ]
  },
  {
   "cell_type": "code",
   "execution_count": 5,
   "id": "b3ceb241-eb99-4a03-a337-a0be0ac07533",
   "metadata": {},
   "outputs": [],
   "source": [
    "Student = [\"Kushal\", 18, 5.6,\"1st-year\", 1234567890]"
   ]
  },
  {
   "cell_type": "code",
   "execution_count": 23,
   "id": "78db8394-4160-418b-8625-d726c000e5b8",
   "metadata": {},
   "outputs": [
    {
     "data": {
      "text/plain": [
       "'Kushal'"
      ]
     },
     "execution_count": 23,
     "metadata": {},
     "output_type": "execute_result"
    }
   ],
   "source": [
    "# selectng 0th item\n",
    "Student[0]"
   ]
  },
  {
   "cell_type": "markdown",
   "id": "141174c1-8dcd-47af-a782-43e079790060",
   "metadata": {},
   "source": [
    "To calculate the size or number of elements in list or lenght of list we use `len()` function."
   ]
  },
  {
   "cell_type": "code",
   "execution_count": 17,
   "id": "2c4861b8-32ec-4f96-b101-f219f66aa0ae",
   "metadata": {},
   "outputs": [
    {
     "data": {
      "text/plain": [
       "5"
      ]
     },
     "execution_count": 17,
     "metadata": {},
     "output_type": "execute_result"
    }
   ],
   "source": [
    "len(Student)"
   ]
  },
  {
   "cell_type": "code",
   "execution_count": null,
   "id": "796aa26d-0dfb-46c2-b44b-dc22efb732c6",
   "metadata": {},
   "outputs": [],
   "source": []
  },
  {
   "cell_type": "markdown",
   "id": "0c8dc4ca-77a6-4046-9ee0-0874023950d9",
   "metadata": {},
   "source": [
    "**List items Accessing method**\n",
    "\n",
    "accessing with subscript `[]` using index number.\n",
    "\n",
    "Index number is the position of the item inside the list.\n",
    "\n",
    "Index number always starts from 0 and end's at n-1 position."
   ]
  },
  {
   "cell_type": "code",
   "execution_count": 18,
   "id": "aeb27191-fb0b-4ba0-83a0-dea8d99961fb",
   "metadata": {},
   "outputs": [
    {
     "data": {
      "text/plain": [
       "'Kushal'"
      ]
     },
     "execution_count": 18,
     "metadata": {},
     "output_type": "execute_result"
    }
   ],
   "source": [
    "Student[0]"
   ]
  },
  {
   "cell_type": "code",
   "execution_count": 19,
   "id": "a806ebad-a374-4040-86ba-51fb8a2072a8",
   "metadata": {
    "tags": []
   },
   "outputs": [
    {
     "data": {
      "text/plain": [
       "'1st-year'"
      ]
     },
     "execution_count": 19,
     "metadata": {},
     "output_type": "execute_result"
    }
   ],
   "source": [
    "Student[3]"
   ]
  },
  {
   "cell_type": "code",
   "execution_count": 20,
   "id": "dd92dffd-8d6a-4a08-acfa-a3086488dd70",
   "metadata": {},
   "outputs": [
    {
     "ename": "IndexError",
     "evalue": "list index out of range",
     "output_type": "error",
     "traceback": [
      "\u001b[1;31m---------------------------------------------------------------------------\u001b[0m",
      "\u001b[1;31mIndexError\u001b[0m                                Traceback (most recent call last)",
      "Input \u001b[1;32mIn [20]\u001b[0m, in \u001b[0;36m<cell line: 1>\u001b[1;34m()\u001b[0m\n\u001b[1;32m----> 1\u001b[0m \u001b[43mStudent\u001b[49m\u001b[43m[\u001b[49m\u001b[38;5;241;43m5\u001b[39;49m\u001b[43m]\u001b[49m\n",
      "\u001b[1;31mIndexError\u001b[0m: list index out of range"
     ]
    }
   ],
   "source": [
    "Student[5]"
   ]
  },
  {
   "cell_type": "markdown",
   "id": "a5aab612-6d15-4fd3-9b20-c23994883de8",
   "metadata": {},
   "source": [
    "if we put/pass any number which it greater then `n-1` where n is number of elements present in list. it will give `IndexError`."
   ]
  },
  {
   "cell_type": "markdown",
   "id": "d772c6d9-9fd6-4125-8552-751ea80648b7",
   "metadata": {},
   "source": [
    "**updating the list items**\n",
    "\n",
    "-> Steps to update an item of any list\n",
    "\n",
    "1. Select the element by using the index number with subscript `[]`.\n",
    "2. put `=` assignment operator in b/w the list and value.\n",
    "3. pass the value"
   ]
  },
  {
   "cell_type": "code",
   "execution_count": 36,
   "id": "f7a8dac9-7396-4532-a839-6480cce555c0",
   "metadata": {},
   "outputs": [],
   "source": [
    "# selected item = \"value\"\n",
    "\n",
    "Student[4] = 7878094559 \n",
    "# updating the 4th element of Student's list"
   ]
  },
  {
   "cell_type": "code",
   "execution_count": 37,
   "id": "d77f8827-aff1-4952-8e5e-92951f6b1c28",
   "metadata": {},
   "outputs": [
    {
     "data": {
      "text/plain": [
       "['Ravi', 18, 5.6, '1st-year', 7878094559]"
      ]
     },
     "execution_count": 37,
     "metadata": {},
     "output_type": "execute_result"
    }
   ],
   "source": [
    "Student"
   ]
  },
  {
   "cell_type": "code",
   "execution_count": 38,
   "id": "ccc55778-197b-4f48-9444-7c0fb1ae8b89",
   "metadata": {},
   "outputs": [],
   "source": [
    "Student[0] = \"Ravi\""
   ]
  },
  {
   "cell_type": "code",
   "execution_count": 39,
   "id": "69910d0e-468c-4360-895d-27356c2c5ed2",
   "metadata": {},
   "outputs": [
    {
     "data": {
      "text/plain": [
       "['Ravi', 18, 5.6, '1st-year', 7878094559]"
      ]
     },
     "execution_count": 39,
     "metadata": {},
     "output_type": "execute_result"
    }
   ],
   "source": [
    "Student"
   ]
  },
  {
   "cell_type": "markdown",
   "id": "dc42decb-bca8-4ad7-afd5-c89515322ce4",
   "metadata": {},
   "source": [
    "#### add an item in a list"
   ]
  },
  {
   "cell_type": "code",
   "execution_count": 40,
   "id": "9fe7e464-022b-4f61-9c2c-687887b3ecc7",
   "metadata": {},
   "outputs": [
    {
     "data": {
      "text/plain": [
       "['banana', 'Apple', 'Mango', 'MOMOZ', 'MAZA']"
      ]
     },
     "execution_count": 40,
     "metadata": {},
     "output_type": "execute_result"
    }
   ],
   "source": [
    "Shopping_list"
   ]
  },
  {
   "cell_type": "code",
   "execution_count": 41,
   "id": "a32a5e3e-4cdb-48a8-9cdb-6208cc75c515",
   "metadata": {},
   "outputs": [
    {
     "data": {
      "text/plain": [
       "list"
      ]
     },
     "execution_count": 41,
     "metadata": {},
     "output_type": "execute_result"
    }
   ],
   "source": [
    "type(Shopping_list)"
   ]
  },
  {
   "cell_type": "code",
   "execution_count": 42,
   "id": "ea75b7b0-0a6d-464b-bca8-19ebe99be1b7",
   "metadata": {},
   "outputs": [
    {
     "data": {
      "text/plain": [
       "['banana', 'Apple', 'Mango', 'MOMOZ', 'MAZA']"
      ]
     },
     "execution_count": 42,
     "metadata": {},
     "output_type": "execute_result"
    }
   ],
   "source": [
    "# checking the list before adding any item\n",
    "Shopping_list"
   ]
  },
  {
   "cell_type": "markdown",
   "id": "292508e0-3bf6-46a3-8b79-2948d7c86d54",
   "metadata": {},
   "source": [
    "Here we need to use a member method of list `append()` to add an item by using `.` operator"
   ]
  },
  {
   "cell_type": "code",
   "execution_count": 43,
   "id": "6dfd297f-1df0-4700-b11d-8ac4abb1003e",
   "metadata": {},
   "outputs": [],
   "source": [
    "Shopping_list.append(\"MOMOZ\")"
   ]
  },
  {
   "cell_type": "code",
   "execution_count": 44,
   "id": "17562ef3-a5a1-42c0-94a3-31c33cf49771",
   "metadata": {},
   "outputs": [
    {
     "data": {
      "text/plain": [
       "['banana', 'Apple', 'Mango', 'MOMOZ', 'MAZA', 'MOMOZ']"
      ]
     },
     "execution_count": 44,
     "metadata": {},
     "output_type": "execute_result"
    }
   ],
   "source": [
    "Shopping_list"
   ]
  },
  {
   "cell_type": "code",
   "execution_count": 45,
   "id": "cefddbeb-daa0-4078-a5be-d26054f67e30",
   "metadata": {},
   "outputs": [],
   "source": [
    "Shopping_list.append(\"Coal Drik\")"
   ]
  },
  {
   "cell_type": "code",
   "execution_count": 46,
   "id": "bc4ac00b-7e34-4967-9343-3b670f344911",
   "metadata": {},
   "outputs": [],
   "source": [
    "Shopping_list[4] = \"MAZA\""
   ]
  },
  {
   "cell_type": "code",
   "execution_count": 47,
   "id": "e5242604-1fd1-480c-8ffc-1e3d3eb4147f",
   "metadata": {},
   "outputs": [
    {
     "data": {
      "text/plain": [
       "['banana', 'Apple', 'Mango', 'MOMOZ', 'MAZA', 'MOMOZ', 'Coal Drik']"
      ]
     },
     "execution_count": 47,
     "metadata": {},
     "output_type": "execute_result"
    }
   ],
   "source": [
    "Shopping_list"
   ]
  },
  {
   "cell_type": "markdown",
   "id": "8af3fe47-42b9-45e4-9767-d706daa8b3bf",
   "metadata": {},
   "source": [
    "___"
   ]
  },
  {
   "cell_type": "code",
   "execution_count": null,
   "id": "24510062-8418-491f-ba86-c4d21ee74ba3",
   "metadata": {},
   "outputs": [],
   "source": []
  },
  {
   "cell_type": "markdown",
   "id": "5f31f511-5e31-4708-ab2f-742d74b2cd51",
   "metadata": {},
   "source": [
    "## Tuple Indroduction\n",
    "\n",
    "Tuple is also a data structure like list, it can store multiple data type value in sequence with dynamic memory allocation.\n",
    "\n",
    "-> Note: once tuple is created it cannot be changed. (Immutable data structure)"
   ]
  },
  {
   "cell_type": "code",
   "execution_count": null,
   "id": "21c4c425-a45f-4a35-9976-ebf9a9d63a8e",
   "metadata": {},
   "outputs": [],
   "source": []
  }
 ],
 "metadata": {
  "kernelspec": {
   "display_name": "Python 3 (ipykernel)",
   "language": "python",
   "name": "python3"
  },
  "language_info": {
   "codemirror_mode": {
    "name": "ipython",
    "version": 3
   },
   "file_extension": ".py",
   "mimetype": "text/x-python",
   "name": "python",
   "nbconvert_exporter": "python",
   "pygments_lexer": "ipython3",
   "version": "3.8.3"
  }
 },
 "nbformat": 4,
 "nbformat_minor": 5
}
