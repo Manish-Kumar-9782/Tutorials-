{
 "cells": [
  {
   "cell_type": "markdown",
   "id": "2e9ca7a9-15e0-42e1-b220-db1ee26244eb",
   "metadata": {},
   "source": [
    "## List Introduction"
   ]
  },
  {
   "cell_type": "markdown",
   "id": "fcdc9301-f63f-4ce8-9b81-de9bb7b26633",
   "metadata": {},
   "source": [
    "List is a inbulit data structure to contain multiple type of data in a sequence with dynamic memory allocation."
   ]
  },
  {
   "cell_type": "markdown",
   "id": "bea627a8-e038-4336-80f5-20c8a263120b",
   "metadata": {},
   "source": [
    "`<listName>` = `[item1, item2, item3, ...., itemN]`"
   ]
  },
  {
   "cell_type": "code",
   "execution_count": 1,
   "id": "f4f2110d-244f-4e38-8f5d-2a5f684ebc8d",
   "metadata": {},
   "outputs": [],
   "source": [
    "Shopping_list = [\"banana\", \"Apple\", \"Mango\"]"
   ]
  },
  {
   "cell_type": "code",
   "execution_count": 2,
   "id": "8e1b0082-57a7-4def-8844-3fd1ad891069",
   "metadata": {},
   "outputs": [
    {
     "data": {
      "text/plain": [
       "['banana', 'Apple', 'Mango']"
      ]
     },
     "execution_count": 2,
     "metadata": {},
     "output_type": "execute_result"
    }
   ],
   "source": [
    "Shopping_list"
   ]
  },
  {
   "cell_type": "markdown",
   "id": "2f16c484-f03e-4a0f-ab54-7952fdce88c5",
   "metadata": {},
   "source": [
    "Student = `[studentName, studentAge, studentHeight ,studentClass, studentPhoneNumber]`"
   ]
  },
  {
   "cell_type": "code",
   "execution_count": 3,
   "id": "b3ceb241-eb99-4a03-a337-a0be0ac07533",
   "metadata": {},
   "outputs": [],
   "source": [
    "Student = [\"Kushal\", 18, 5.6,\"1st-year\", 1234567890]"
   ]
  },
  {
   "cell_type": "code",
   "execution_count": 4,
   "id": "78db8394-4160-418b-8625-d726c000e5b8",
   "metadata": {},
   "outputs": [
    {
     "data": {
      "text/plain": [
       "'Kushal'"
      ]
     },
     "execution_count": 4,
     "metadata": {},
     "output_type": "execute_result"
    }
   ],
   "source": [
    "# selectng 0th item\n",
    "Student[0]"
   ]
  },
  {
   "cell_type": "markdown",
   "id": "141174c1-8dcd-47af-a782-43e079790060",
   "metadata": {},
   "source": [
    "To calculate the size or number of elements in list or lenght of list we use `len()` function."
   ]
  },
  {
   "cell_type": "code",
   "execution_count": 5,
   "id": "2c4861b8-32ec-4f96-b101-f219f66aa0ae",
   "metadata": {},
   "outputs": [
    {
     "data": {
      "text/plain": [
       "5"
      ]
     },
     "execution_count": 5,
     "metadata": {},
     "output_type": "execute_result"
    }
   ],
   "source": [
    "len(Student)"
   ]
  },
  {
   "cell_type": "code",
   "execution_count": null,
   "id": "796aa26d-0dfb-46c2-b44b-dc22efb732c6",
   "metadata": {},
   "outputs": [],
   "source": []
  },
  {
   "cell_type": "markdown",
   "id": "0c8dc4ca-77a6-4046-9ee0-0874023950d9",
   "metadata": {},
   "source": [
    "**List items Accessing method**\n",
    "\n",
    "accessing with subscript `[]` using index number.\n",
    "\n",
    "Index number is the position of the item inside the list.\n",
    "\n",
    "Index number always starts from 0 and end's at n-1 position."
   ]
  },
  {
   "cell_type": "code",
   "execution_count": 6,
   "id": "aeb27191-fb0b-4ba0-83a0-dea8d99961fb",
   "metadata": {},
   "outputs": [
    {
     "data": {
      "text/plain": [
       "'Kushal'"
      ]
     },
     "execution_count": 6,
     "metadata": {},
     "output_type": "execute_result"
    }
   ],
   "source": [
    "Student[0]"
   ]
  },
  {
   "cell_type": "code",
   "execution_count": 7,
   "id": "a806ebad-a374-4040-86ba-51fb8a2072a8",
   "metadata": {
    "tags": []
   },
   "outputs": [
    {
     "data": {
      "text/plain": [
       "'1st-year'"
      ]
     },
     "execution_count": 7,
     "metadata": {},
     "output_type": "execute_result"
    }
   ],
   "source": [
    "Student[3]"
   ]
  },
  {
   "cell_type": "code",
   "execution_count": 8,
   "id": "dd92dffd-8d6a-4a08-acfa-a3086488dd70",
   "metadata": {},
   "outputs": [
    {
     "ename": "IndexError",
     "evalue": "list index out of range",
     "output_type": "error",
     "traceback": [
      "\u001b[1;31m---------------------------------------------------------------------------\u001b[0m",
      "\u001b[1;31mIndexError\u001b[0m                                Traceback (most recent call last)",
      "Input \u001b[1;32mIn [8]\u001b[0m, in \u001b[0;36m<cell line: 1>\u001b[1;34m()\u001b[0m\n\u001b[1;32m----> 1\u001b[0m \u001b[43mStudent\u001b[49m\u001b[43m[\u001b[49m\u001b[38;5;241;43m5\u001b[39;49m\u001b[43m]\u001b[49m\n",
      "\u001b[1;31mIndexError\u001b[0m: list index out of range"
     ]
    }
   ],
   "source": [
    "Student[5]"
   ]
  },
  {
   "cell_type": "markdown",
   "id": "a5aab612-6d15-4fd3-9b20-c23994883de8",
   "metadata": {},
   "source": [
    "if we put/pass any number which it greater then `n-1` where n is number of elements present in list. it will give `IndexError`."
   ]
  },
  {
   "cell_type": "markdown",
   "id": "d772c6d9-9fd6-4125-8552-751ea80648b7",
   "metadata": {},
   "source": [
    "**updating the list items**\n",
    "\n",
    "-> Steps to update an item of any list\n",
    "\n",
    "1. Select the element by using the index number with subscript `[]`.\n",
    "2. put `=` assignment operator in b/w the list and value.\n",
    "3. pass the value"
   ]
  },
  {
   "cell_type": "code",
   "execution_count": 9,
   "id": "f7a8dac9-7396-4532-a839-6480cce555c0",
   "metadata": {},
   "outputs": [],
   "source": [
    "# selected item = \"value\"\n",
    "\n",
    "Student[4] = 7878094559 \n",
    "# updating the 4th element of Student's list"
   ]
  },
  {
   "cell_type": "code",
   "execution_count": 10,
   "id": "d77f8827-aff1-4952-8e5e-92951f6b1c28",
   "metadata": {},
   "outputs": [
    {
     "data": {
      "text/plain": [
       "['Kushal', 18, 5.6, '1st-year', 7878094559]"
      ]
     },
     "execution_count": 10,
     "metadata": {},
     "output_type": "execute_result"
    }
   ],
   "source": [
    "Student"
   ]
  },
  {
   "cell_type": "code",
   "execution_count": 11,
   "id": "ccc55778-197b-4f48-9444-7c0fb1ae8b89",
   "metadata": {},
   "outputs": [],
   "source": [
    "Student[0] = \"Ravi\""
   ]
  },
  {
   "cell_type": "code",
   "execution_count": 12,
   "id": "69910d0e-468c-4360-895d-27356c2c5ed2",
   "metadata": {},
   "outputs": [
    {
     "data": {
      "text/plain": [
       "['Ravi', 18, 5.6, '1st-year', 7878094559]"
      ]
     },
     "execution_count": 12,
     "metadata": {},
     "output_type": "execute_result"
    }
   ],
   "source": [
    "Student"
   ]
  },
  {
   "cell_type": "markdown",
   "id": "dc42decb-bca8-4ad7-afd5-c89515322ce4",
   "metadata": {},
   "source": [
    "#### add an item in a list"
   ]
  },
  {
   "cell_type": "code",
   "execution_count": 13,
   "id": "9fe7e464-022b-4f61-9c2c-687887b3ecc7",
   "metadata": {},
   "outputs": [
    {
     "data": {
      "text/plain": [
       "['banana', 'Apple', 'Mango']"
      ]
     },
     "execution_count": 13,
     "metadata": {},
     "output_type": "execute_result"
    }
   ],
   "source": [
    "Shopping_list"
   ]
  },
  {
   "cell_type": "code",
   "execution_count": 14,
   "id": "a32a5e3e-4cdb-48a8-9cdb-6208cc75c515",
   "metadata": {},
   "outputs": [
    {
     "data": {
      "text/plain": [
       "list"
      ]
     },
     "execution_count": 14,
     "metadata": {},
     "output_type": "execute_result"
    }
   ],
   "source": [
    "type(Shopping_list)"
   ]
  },
  {
   "cell_type": "code",
   "execution_count": 15,
   "id": "ea75b7b0-0a6d-464b-bca8-19ebe99be1b7",
   "metadata": {},
   "outputs": [
    {
     "data": {
      "text/plain": [
       "['banana', 'Apple', 'Mango']"
      ]
     },
     "execution_count": 15,
     "metadata": {},
     "output_type": "execute_result"
    }
   ],
   "source": [
    "# checking the list before adding any item\n",
    "Shopping_list"
   ]
  },
  {
   "cell_type": "markdown",
   "id": "292508e0-3bf6-46a3-8b79-2948d7c86d54",
   "metadata": {},
   "source": [
    "Here we need to use a member method of list `append()` to add an item by using `.` operator"
   ]
  },
  {
   "cell_type": "code",
   "execution_count": 16,
   "id": "6dfd297f-1df0-4700-b11d-8ac4abb1003e",
   "metadata": {},
   "outputs": [],
   "source": [
    "Shopping_list.append(\"MOMOZ\")"
   ]
  },
  {
   "cell_type": "code",
   "execution_count": 17,
   "id": "17562ef3-a5a1-42c0-94a3-31c33cf49771",
   "metadata": {},
   "outputs": [
    {
     "data": {
      "text/plain": [
       "['banana', 'Apple', 'Mango', 'MOMOZ']"
      ]
     },
     "execution_count": 17,
     "metadata": {},
     "output_type": "execute_result"
    }
   ],
   "source": [
    "Shopping_list"
   ]
  },
  {
   "cell_type": "code",
   "execution_count": 18,
   "id": "cefddbeb-daa0-4078-a5be-d26054f67e30",
   "metadata": {},
   "outputs": [],
   "source": [
    "Shopping_list.append(\"Coal Drik\")"
   ]
  },
  {
   "cell_type": "code",
   "execution_count": 19,
   "id": "bc4ac00b-7e34-4967-9343-3b670f344911",
   "metadata": {},
   "outputs": [],
   "source": [
    "Shopping_list[4] = \"MAZA\""
   ]
  },
  {
   "cell_type": "code",
   "execution_count": 20,
   "id": "e5242604-1fd1-480c-8ffc-1e3d3eb4147f",
   "metadata": {},
   "outputs": [
    {
     "data": {
      "text/plain": [
       "['banana', 'Apple', 'Mango', 'MOMOZ', 'MAZA']"
      ]
     },
     "execution_count": 20,
     "metadata": {},
     "output_type": "execute_result"
    }
   ],
   "source": [
    "Shopping_list"
   ]
  },
  {
   "cell_type": "markdown",
   "id": "19fbff96-06b3-4c8e-a3ea-64ee462ef397",
   "metadata": {},
   "source": [
    "### Checking how many methods/functions this list has?"
   ]
  },
  {
   "cell_type": "markdown",
   "id": "a8e5b784-b534-4fae-b9a4-b5cab55d756b",
   "metadata": {},
   "source": [
    "To check that, how many methods/functions an object (in this case list) contains. for that use the following function (in-built function) `help(object/variable)` "
   ]
  },
  {
   "cell_type": "code",
   "execution_count": 21,
   "id": "cd2570cc-f3f2-4593-a387-2bd33b082697",
   "metadata": {},
   "outputs": [
    {
     "data": {
      "text/plain": [
       "['banana', 'Apple', 'Mango', 'MOMOZ', 'MAZA']"
      ]
     },
     "execution_count": 21,
     "metadata": {},
     "output_type": "execute_result"
    }
   ],
   "source": [
    "Shopping_list"
   ]
  },
  {
   "cell_type": "code",
   "execution_count": 22,
   "id": "2b84fe8e-1f4b-4891-9d7c-aa363287adb4",
   "metadata": {},
   "outputs": [
    {
     "data": {
      "text/plain": [
       "list"
      ]
     },
     "execution_count": 22,
     "metadata": {},
     "output_type": "execute_result"
    }
   ],
   "source": [
    "#checcking the type of Shoppling_list\n",
    "type(Shopping_list)"
   ]
  },
  {
   "cell_type": "code",
   "execution_count": 23,
   "id": "ab81ad01-30bb-495d-a60d-6cc79929d6d4",
   "metadata": {},
   "outputs": [
    {
     "name": "stdout",
     "output_type": "stream",
     "text": [
      "Help on list object:\n",
      "\n",
      "class list(object)\n",
      " |  list(iterable=(), /)\n",
      " |  \n",
      " |  Built-in mutable sequence.\n",
      " |  \n",
      " |  If no argument is given, the constructor creates a new empty list.\n",
      " |  The argument must be an iterable if specified.\n",
      " |  \n",
      " |  Methods defined here:\n",
      " |  \n",
      " |  __add__(self, value, /)\n",
      " |      Return self+value.\n",
      " |  \n",
      " |  __contains__(self, key, /)\n",
      " |      Return key in self.\n",
      " |  \n",
      " |  __delitem__(self, key, /)\n",
      " |      Delete self[key].\n",
      " |  \n",
      " |  __eq__(self, value, /)\n",
      " |      Return self==value.\n",
      " |  \n",
      " |  __ge__(self, value, /)\n",
      " |      Return self>=value.\n",
      " |  \n",
      " |  __getattribute__(self, name, /)\n",
      " |      Return getattr(self, name).\n",
      " |  \n",
      " |  __getitem__(...)\n",
      " |      x.__getitem__(y) <==> x[y]\n",
      " |  \n",
      " |  __gt__(self, value, /)\n",
      " |      Return self>value.\n",
      " |  \n",
      " |  __iadd__(self, value, /)\n",
      " |      Implement self+=value.\n",
      " |  \n",
      " |  __imul__(self, value, /)\n",
      " |      Implement self*=value.\n",
      " |  \n",
      " |  __init__(self, /, *args, **kwargs)\n",
      " |      Initialize self.  See help(type(self)) for accurate signature.\n",
      " |  \n",
      " |  __iter__(self, /)\n",
      " |      Implement iter(self).\n",
      " |  \n",
      " |  __le__(self, value, /)\n",
      " |      Return self<=value.\n",
      " |  \n",
      " |  __len__(self, /)\n",
      " |      Return len(self).\n",
      " |  \n",
      " |  __lt__(self, value, /)\n",
      " |      Return self<value.\n",
      " |  \n",
      " |  __mul__(self, value, /)\n",
      " |      Return self*value.\n",
      " |  \n",
      " |  __ne__(self, value, /)\n",
      " |      Return self!=value.\n",
      " |  \n",
      " |  __repr__(self, /)\n",
      " |      Return repr(self).\n",
      " |  \n",
      " |  __reversed__(self, /)\n",
      " |      Return a reverse iterator over the list.\n",
      " |  \n",
      " |  __rmul__(self, value, /)\n",
      " |      Return value*self.\n",
      " |  \n",
      " |  __setitem__(self, key, value, /)\n",
      " |      Set self[key] to value.\n",
      " |  \n",
      " |  __sizeof__(self, /)\n",
      " |      Return the size of the list in memory, in bytes.\n",
      " |  \n",
      " |  append(self, object, /)\n",
      " |      Append object to the end of the list.\n",
      " |  \n",
      " |  clear(self, /)\n",
      " |      Remove all items from list.\n",
      " |  \n",
      " |  copy(self, /)\n",
      " |      Return a shallow copy of the list.\n",
      " |  \n",
      " |  count(self, value, /)\n",
      " |      Return number of occurrences of value.\n",
      " |  \n",
      " |  extend(self, iterable, /)\n",
      " |      Extend list by appending elements from the iterable.\n",
      " |  \n",
      " |  index(self, value, start=0, stop=9223372036854775807, /)\n",
      " |      Return first index of value.\n",
      " |      \n",
      " |      Raises ValueError if the value is not present.\n",
      " |  \n",
      " |  insert(self, index, object, /)\n",
      " |      Insert object before index.\n",
      " |  \n",
      " |  pop(self, index=-1, /)\n",
      " |      Remove and return item at index (default last).\n",
      " |      \n",
      " |      Raises IndexError if list is empty or index is out of range.\n",
      " |  \n",
      " |  remove(self, value, /)\n",
      " |      Remove first occurrence of value.\n",
      " |      \n",
      " |      Raises ValueError if the value is not present.\n",
      " |  \n",
      " |  reverse(self, /)\n",
      " |      Reverse *IN PLACE*.\n",
      " |  \n",
      " |  sort(self, /, *, key=None, reverse=False)\n",
      " |      Sort the list in ascending order and return None.\n",
      " |      \n",
      " |      The sort is in-place (i.e. the list itself is modified) and stable (i.e. the\n",
      " |      order of two equal elements is maintained).\n",
      " |      \n",
      " |      If a key function is given, apply it once to each list item and sort them,\n",
      " |      ascending or descending, according to their function values.\n",
      " |      \n",
      " |      The reverse flag can be set to sort in descending order.\n",
      " |  \n",
      " |  ----------------------------------------------------------------------\n",
      " |  Static methods defined here:\n",
      " |  \n",
      " |  __new__(*args, **kwargs) from builtins.type\n",
      " |      Create and return a new object.  See help(type) for accurate signature.\n",
      " |  \n",
      " |  ----------------------------------------------------------------------\n",
      " |  Data and other attributes defined here:\n",
      " |  \n",
      " |  __hash__ = None\n",
      "\n"
     ]
    }
   ],
   "source": [
    "# using help on list<Shopping_list>\n",
    "help(Shopping_list)  # help(list)"
   ]
  },
  {
   "cell_type": "markdown",
   "id": "8af3fe47-42b9-45e4-9767-d706daa8b3bf",
   "metadata": {},
   "source": [
    "___"
   ]
  },
  {
   "cell_type": "markdown",
   "id": "a4f31406-7c8d-419f-83d5-e06c4951b0e6",
   "metadata": {},
   "source": [
    "### Clear(), copy(), count()"
   ]
  },
  {
   "cell_type": "markdown",
   "id": "4e044d6b-2401-458c-b09c-5f339b03bb25",
   "metadata": {},
   "source": [
    "**1.clear() Method of list object**\n",
    "\n",
    "it is used to clear the list (remove all items from list)"
   ]
  },
  {
   "cell_type": "code",
   "execution_count": 24,
   "id": "f06ef9e1-2028-4e35-86ac-344d9e4b5b52",
   "metadata": {},
   "outputs": [
    {
     "data": {
      "text/plain": [
       "['banana', 'Apple', 'Mango', 'MOMOZ', 'MAZA']"
      ]
     },
     "execution_count": 24,
     "metadata": {},
     "output_type": "execute_result"
    }
   ],
   "source": [
    "Shopping_list"
   ]
  },
  {
   "cell_type": "code",
   "execution_count": 25,
   "id": "dc1f98c9-9aa0-403b-830b-529f7b2f7635",
   "metadata": {},
   "outputs": [],
   "source": [
    "Shopping_list.clear()"
   ]
  },
  {
   "cell_type": "code",
   "execution_count": 26,
   "id": "5af02749-1f26-40ac-8d5e-ae37330194fd",
   "metadata": {},
   "outputs": [
    {
     "data": {
      "text/plain": [
       "[]"
      ]
     },
     "execution_count": 26,
     "metadata": {},
     "output_type": "execute_result"
    }
   ],
   "source": [
    "Shopping_list"
   ]
  },
  {
   "cell_type": "code",
   "execution_count": 27,
   "id": "89242ed9-11b5-48f6-8828-307ce03b5135",
   "metadata": {},
   "outputs": [],
   "source": [
    "Shopping_list = ['banana', 'Apple', 'Mango', 'MOMOZ', 'MAZA']"
   ]
  },
  {
   "cell_type": "code",
   "execution_count": 28,
   "id": "51b64afe-be94-4fd4-be8a-0e1b39ba0483",
   "metadata": {},
   "outputs": [
    {
     "data": {
      "text/plain": [
       "['banana', 'Apple', 'Mango', 'MOMOZ', 'MAZA']"
      ]
     },
     "execution_count": 28,
     "metadata": {},
     "output_type": "execute_result"
    }
   ],
   "source": [
    "Shopping_list"
   ]
  },
  {
   "cell_type": "code",
   "execution_count": 29,
   "id": "7900681b-7294-424e-bd17-6e2cfc7f1b67",
   "metadata": {},
   "outputs": [],
   "source": [
    "shoppingList = Shopping_list.copy()"
   ]
  },
  {
   "cell_type": "markdown",
   "id": "4efaab95-1c49-4806-9473-fb13a0bb9f56",
   "metadata": {},
   "source": [
    "`Shopping_list.copy()` created a copy of the list which will be assigned to the `shoppingList` variable."
   ]
  },
  {
   "cell_type": "code",
   "execution_count": 30,
   "id": "4ee7655d-5674-4f75-ab20-74e12f3ba48c",
   "metadata": {},
   "outputs": [
    {
     "data": {
      "text/plain": [
       "['banana', 'Apple', 'Mango', 'MOMOZ', 'MAZA']"
      ]
     },
     "execution_count": 30,
     "metadata": {},
     "output_type": "execute_result"
    }
   ],
   "source": [
    "Shopping_list.copy()"
   ]
  },
  {
   "cell_type": "code",
   "execution_count": 31,
   "id": "4f117376-7cf1-4904-9f22-22cba36379db",
   "metadata": {},
   "outputs": [
    {
     "data": {
      "text/plain": [
       "['banana', 'Apple', 'Mango', 'MOMOZ', 'MAZA']"
      ]
     },
     "execution_count": 31,
     "metadata": {},
     "output_type": "execute_result"
    }
   ],
   "source": [
    "shoppingList"
   ]
  },
  {
   "cell_type": "markdown",
   "id": "f7723f9d-8ec0-40ea-a477-63f1986f35d1",
   "metadata": {},
   "source": [
    "To check that both list are different we need to use `id()` function on these lists."
   ]
  },
  {
   "cell_type": "code",
   "execution_count": 32,
   "id": "6d8a9ee3-46f1-4e03-ba61-d79c9ce48d9c",
   "metadata": {},
   "outputs": [
    {
     "data": {
      "text/plain": [
       "2527876596736"
      ]
     },
     "execution_count": 32,
     "metadata": {},
     "output_type": "execute_result"
    }
   ],
   "source": [
    "id(Shopping_list)"
   ]
  },
  {
   "cell_type": "markdown",
   "id": "6ac321a2-dc88-437f-9423-1c31711c2e75",
   "metadata": {},
   "source": [
    "**Comparing both ids**"
   ]
  },
  {
   "cell_type": "code",
   "execution_count": 33,
   "id": "37127336-1d8c-4631-9f28-676edcd3748e",
   "metadata": {},
   "outputs": [
    {
     "data": {
      "text/plain": [
       "False"
      ]
     },
     "execution_count": 33,
     "metadata": {},
     "output_type": "execute_result"
    }
   ],
   "source": [
    "id(Shopping_list) == id(shoppingList)"
   ]
  },
  {
   "cell_type": "markdown",
   "id": "0406c0ac-8a8c-44f0-aef8-29b6373bee0d",
   "metadata": {},
   "source": [
    "Since both ids are different, hence they may have differnt data with different memeory address."
   ]
  },
  {
   "cell_type": "code",
   "execution_count": 34,
   "id": "820af709-a50e-46bc-b172-a0c2cc2bb92b",
   "metadata": {},
   "outputs": [],
   "source": [
    "import random"
   ]
  },
  {
   "cell_type": "code",
   "execution_count": 35,
   "id": "97959f7c-2f6b-49c2-be4d-ebfb9c0610b8",
   "metadata": {},
   "outputs": [],
   "source": [
    "randomNumber = [random.randint(1,5) for i in range(20)]"
   ]
  },
  {
   "cell_type": "code",
   "execution_count": 36,
   "id": "67205c1f-5f0e-4246-9d2a-ab132c090677",
   "metadata": {},
   "outputs": [
    {
     "data": {
      "text/plain": [
       "[1, 4, 4, 5, 1, 5, 2, 3, 5, 3, 5, 5, 5, 1, 5, 5, 4, 3, 3, 5]"
      ]
     },
     "execution_count": 36,
     "metadata": {},
     "output_type": "execute_result"
    }
   ],
   "source": [
    "randomNumber"
   ]
  },
  {
   "cell_type": "code",
   "execution_count": 37,
   "id": "d4106c28-cbf2-4499-bf24-4e9f14d7f2e1",
   "metadata": {},
   "outputs": [
    {
     "data": {
      "text/plain": [
       "1"
      ]
     },
     "execution_count": 37,
     "metadata": {},
     "output_type": "execute_result"
    }
   ],
   "source": [
    "randomNumber.count(2)"
   ]
  },
  {
   "cell_type": "markdown",
   "id": "3c24ff49-b090-45ee-b09f-2416103fea07",
   "metadata": {},
   "source": [
    "Here count method returned the number of occurance of number 2 in our list."
   ]
  },
  {
   "cell_type": "markdown",
   "id": "34316c95-1d3f-4fec-9006-dc02ac098074",
   "metadata": {},
   "source": [
    "### extend(), index(), insert(), pop()"
   ]
  },
  {
   "cell_type": "markdown",
   "id": "bc2b2faf-2bd6-4df8-be20-308e027dab6d",
   "metadata": {},
   "source": [
    "#### extend() \n",
    "\n",
    "it is used to extend our list, it can take multiple items through another list.\n",
    "\n",
    "-> it works like append() method of list."
   ]
  },
  {
   "cell_type": "code",
   "execution_count": 38,
   "id": "3f7ad897-68ea-49fd-891d-903dc9f00250",
   "metadata": {},
   "outputs": [
    {
     "data": {
      "text/plain": [
       "['banana', 'Apple', 'Mango', 'MOMOZ', 'MAZA']"
      ]
     },
     "execution_count": 38,
     "metadata": {},
     "output_type": "execute_result"
    }
   ],
   "source": [
    "Shopping_list"
   ]
  },
  {
   "cell_type": "code",
   "execution_count": 39,
   "id": "0a3a862c-0dc9-4b50-aceb-6acf225164ee",
   "metadata": {},
   "outputs": [],
   "source": [
    "Shopping_list.extend([\"item1\", \"item2\", \"item3\"])"
   ]
  },
  {
   "cell_type": "code",
   "execution_count": 40,
   "id": "bafccacf-a69a-48cf-a4f9-1d6c0fd856bc",
   "metadata": {},
   "outputs": [
    {
     "data": {
      "text/plain": [
       "['banana', 'Apple', 'Mango', 'MOMOZ', 'MAZA', 'item1', 'item2', 'item3']"
      ]
     },
     "execution_count": 40,
     "metadata": {},
     "output_type": "execute_result"
    }
   ],
   "source": [
    "Shopping_list"
   ]
  },
  {
   "cell_type": "markdown",
   "id": "7d927c73-9a78-49cd-9797-83497a5d6721",
   "metadata": {},
   "source": [
    "#### index()\n",
    "it is used get the index number of an item. "
   ]
  },
  {
   "cell_type": "code",
   "execution_count": 41,
   "id": "851f13de-0c82-4484-93d0-a41d602c12e8",
   "metadata": {},
   "outputs": [
    {
     "data": {
      "text/plain": [
       "2"
      ]
     },
     "execution_count": 41,
     "metadata": {},
     "output_type": "execute_result"
    }
   ],
   "source": [
    "Shopping_list.index(\"Mango\")"
   ]
  },
  {
   "cell_type": "markdown",
   "id": "ae0b9872-6ce9-4ed7-8d14-6f3e5a2e419c",
   "metadata": {},
   "source": [
    "Now this method gives us the index number of list item \"Mango\".\n",
    "\n",
    "Note: index() method is case-sensitive , in this case \"Mango\" is not equal to \"mango\", if we try to search \n",
    "\"mango\" it will give ValueError."
   ]
  },
  {
   "cell_type": "code",
   "execution_count": 42,
   "id": "6a12d520-c344-40b3-b52a-1ecdc1443b06",
   "metadata": {},
   "outputs": [
    {
     "ename": "ValueError",
     "evalue": "'mango' is not in list",
     "output_type": "error",
     "traceback": [
      "\u001b[1;31m---------------------------------------------------------------------------\u001b[0m",
      "\u001b[1;31mValueError\u001b[0m                                Traceback (most recent call last)",
      "Input \u001b[1;32mIn [42]\u001b[0m, in \u001b[0;36m<cell line: 1>\u001b[1;34m()\u001b[0m\n\u001b[1;32m----> 1\u001b[0m \u001b[43mShopping_list\u001b[49m\u001b[38;5;241;43m.\u001b[39;49m\u001b[43mindex\u001b[49m\u001b[43m(\u001b[49m\u001b[38;5;124;43m\"\u001b[39;49m\u001b[38;5;124;43mmango\u001b[39;49m\u001b[38;5;124;43m\"\u001b[39;49m\u001b[43m)\u001b[49m\n",
      "\u001b[1;31mValueError\u001b[0m: 'mango' is not in list"
     ]
    }
   ],
   "source": [
    "Shopping_list.index(\"mango\")"
   ]
  },
  {
   "cell_type": "markdown",
   "id": "370ca1d6-7206-4693-92e5-c0a8474c9a81",
   "metadata": {},
   "source": [
    "#### insert() \n",
    "\n",
    "This method is used to insert an element/item into a list at any position."
   ]
  },
  {
   "cell_type": "code",
   "execution_count": 43,
   "id": "733ec70c-2166-417d-9869-1726e67d3f9c",
   "metadata": {},
   "outputs": [
    {
     "data": {
      "text/plain": [
       "['banana', 'Apple', 'Mango', 'MOMOZ', 'MAZA', 'item1', 'item2', 'item3']"
      ]
     },
     "execution_count": 43,
     "metadata": {},
     "output_type": "execute_result"
    }
   ],
   "source": [
    "Shopping_list"
   ]
  },
  {
   "cell_type": "code",
   "execution_count": 44,
   "id": "ea99389a-203a-48ad-8e90-f34ba334c61a",
   "metadata": {},
   "outputs": [],
   "source": [
    "i = Shopping_list.index(\"Mango\")"
   ]
  },
  {
   "cell_type": "code",
   "execution_count": 45,
   "id": "336a6a1a-ba4c-4416-9a65-7072fda50574",
   "metadata": {},
   "outputs": [
    {
     "data": {
      "text/plain": [
       "int"
      ]
     },
     "execution_count": 45,
     "metadata": {},
     "output_type": "execute_result"
    }
   ],
   "source": [
    "type(i)"
   ]
  },
  {
   "cell_type": "code",
   "execution_count": 46,
   "id": "cccb037e-5751-4d32-ae46-d3b20e36501f",
   "metadata": {},
   "outputs": [
    {
     "data": {
      "text/plain": [
       "2"
      ]
     },
     "execution_count": 46,
     "metadata": {},
     "output_type": "execute_result"
    }
   ],
   "source": [
    "i"
   ]
  },
  {
   "cell_type": "code",
   "execution_count": 47,
   "id": "55a0374d-78c7-4cee-82bb-17fb2fe68690",
   "metadata": {},
   "outputs": [],
   "source": [
    "Shopping_list.insert(i, \"StrawBerry\")"
   ]
  },
  {
   "cell_type": "code",
   "execution_count": 48,
   "id": "ce6345a6-9112-4a54-96a8-8ad0a4149ff3",
   "metadata": {},
   "outputs": [
    {
     "data": {
      "text/plain": [
       "['banana',\n",
       " 'Apple',\n",
       " 'StrawBerry',\n",
       " 'Mango',\n",
       " 'MOMOZ',\n",
       " 'MAZA',\n",
       " 'item1',\n",
       " 'item2',\n",
       " 'item3']"
      ]
     },
     "execution_count": 48,
     "metadata": {},
     "output_type": "execute_result"
    }
   ],
   "source": [
    "Shopping_list"
   ]
  },
  {
   "cell_type": "markdown",
   "id": "eba7a302-579e-494f-8a9f-ef97f08fe939",
   "metadata": {},
   "source": [
    "#### pop() \n",
    "\n",
    "This method is used to remove an element for specified index number. by default it removes the last item of list."
   ]
  },
  {
   "cell_type": "code",
   "execution_count": 49,
   "id": "89397025-82de-4d08-839d-354a8ded6d7b",
   "metadata": {},
   "outputs": [
    {
     "data": {
      "text/plain": [
       "'item3'"
      ]
     },
     "execution_count": 49,
     "metadata": {},
     "output_type": "execute_result"
    }
   ],
   "source": [
    "# removing last element from our Shopping_list\n",
    "Shopping_list.pop()"
   ]
  },
  {
   "cell_type": "code",
   "execution_count": 50,
   "id": "4b8b12b4-7932-48a2-ac27-355cc5b9cf55",
   "metadata": {},
   "outputs": [
    {
     "data": {
      "text/plain": [
       "['banana', 'Apple', 'StrawBerry', 'Mango', 'MOMOZ', 'MAZA', 'item1', 'item2']"
      ]
     },
     "execution_count": 50,
     "metadata": {},
     "output_type": "execute_result"
    }
   ],
   "source": [
    "Shopping_list"
   ]
  },
  {
   "cell_type": "markdown",
   "id": "f2df3c93-513e-4f50-8753-b3028cb20017",
   "metadata": {},
   "source": [
    "here pop() perfromed three operation\n",
    "1. returned the last item.\n",
    "2. deleted the last item.\n",
    "3. updated our list"
   ]
  },
  {
   "cell_type": "code",
   "execution_count": 51,
   "id": "c9268c41-30c8-44c4-a7b4-75c9032d3896",
   "metadata": {},
   "outputs": [
    {
     "data": {
      "text/plain": [
       "'StrawBerry'"
      ]
     },
     "execution_count": 51,
     "metadata": {},
     "output_type": "execute_result"
    }
   ],
   "source": [
    "# Now we will remove specific item from our Shopping list.\n",
    "# in our case we will remove \"StrawBerry\" item.\n",
    "i = Shopping_list.index(\"StrawBerry\")\n",
    "Shopping_list.pop(i)"
   ]
  },
  {
   "cell_type": "code",
   "execution_count": 52,
   "id": "8db9a4f6-e190-49ea-ad03-639b7bf48f24",
   "metadata": {},
   "outputs": [
    {
     "data": {
      "text/plain": [
       "['banana', 'Apple', 'Mango', 'MOMOZ', 'MAZA', 'item1', 'item2']"
      ]
     },
     "execution_count": 52,
     "metadata": {},
     "output_type": "execute_result"
    }
   ],
   "source": [
    "Shopping_list"
   ]
  },
  {
   "cell_type": "code",
   "execution_count": 53,
   "id": "3a27da3b-28e3-4996-97d7-312dab837929",
   "metadata": {},
   "outputs": [
    {
     "data": {
      "text/plain": [
       "'MAZA'"
      ]
     },
     "execution_count": 53,
     "metadata": {},
     "output_type": "execute_result"
    }
   ],
   "source": [
    "Shopping_list.index(\"MAZA\")\n",
    "Shopping_list.pop(4)"
   ]
  },
  {
   "cell_type": "code",
   "execution_count": 54,
   "id": "33c2914d-d027-4c50-958b-c6ffbec4480a",
   "metadata": {},
   "outputs": [
    {
     "name": "stdout",
     "output_type": "stream",
     "text": [
      "index of MOMOZ:  3\n",
      "Return value of pop method:  MOMOZ\n"
     ]
    }
   ],
   "source": [
    "# using print function to see the returned value\n",
    "print(\"index of MOMOZ: \", Shopping_list.index(\"MOMOZ\"))\n",
    "print(\"Return value of pop method: \", Shopping_list.pop(3))"
   ]
  },
  {
   "cell_type": "markdown",
   "id": "76d8bdf9-7cc6-46dd-b605-b52dad4a34b0",
   "metadata": {},
   "source": [
    "### remove(), reverse(), sort()"
   ]
  },
  {
   "cell_type": "markdown",
   "id": "8167c347-cc1b-471e-aae3-ead085368682",
   "metadata": {},
   "source": [
    "#### remove()\n",
    "\n",
    "It will remove the given value item if it is present in the list. if not then it will give us ValueError."
   ]
  },
  {
   "cell_type": "code",
   "execution_count": 55,
   "id": "d79310e3-391f-442f-bd2f-016a6880213b",
   "metadata": {},
   "outputs": [],
   "source": [
    "Shopping_list = ['banana', 'Apple', 'StrawBerry', 'Mango', 'MOMOZ', 'MAZA', 'item1', 'item2']"
   ]
  },
  {
   "cell_type": "code",
   "execution_count": 56,
   "id": "bc1acc49-15cf-4480-97d4-4184e71a37fa",
   "metadata": {},
   "outputs": [
    {
     "data": {
      "text/plain": [
       "['banana', 'Apple', 'StrawBerry', 'Mango', 'MOMOZ', 'MAZA', 'item1', 'item2']"
      ]
     },
     "execution_count": 56,
     "metadata": {},
     "output_type": "execute_result"
    }
   ],
   "source": [
    "Shopping_list"
   ]
  },
  {
   "cell_type": "code",
   "execution_count": 57,
   "id": "1e5c32ac-6c5b-40d4-bc34-93f4f1668fc8",
   "metadata": {},
   "outputs": [],
   "source": [
    "Shopping_list.remove(\"StrawBerry\")"
   ]
  },
  {
   "cell_type": "code",
   "execution_count": 58,
   "id": "89707634-3e19-470f-a09f-489248068ead",
   "metadata": {},
   "outputs": [
    {
     "data": {
      "text/plain": [
       "['banana', 'Apple', 'Mango', 'MOMOZ', 'MAZA', 'item1', 'item2']"
      ]
     },
     "execution_count": 58,
     "metadata": {},
     "output_type": "execute_result"
    }
   ],
   "source": [
    "Shopping_list"
   ]
  },
  {
   "cell_type": "markdown",
   "id": "13b338d7-9d70-498e-9bd7-0e4e812e72c5",
   "metadata": {},
   "source": [
    "#### reverse()\n",
    "\n",
    "This method will reverse all the item in the list."
   ]
  },
  {
   "cell_type": "code",
   "execution_count": 59,
   "id": "15ee76f7-2349-4241-a23b-246f5ba08bcc",
   "metadata": {},
   "outputs": [
    {
     "data": {
      "text/plain": [
       "['banana', 'Apple', 'Mango', 'MOMOZ', 'MAZA', 'item1', 'item2']"
      ]
     },
     "execution_count": 59,
     "metadata": {},
     "output_type": "execute_result"
    }
   ],
   "source": [
    "Shopping_list"
   ]
  },
  {
   "cell_type": "markdown",
   "id": "68332dda-cbda-46be-a144-78c098074b3b",
   "metadata": {},
   "source": [
    "Note: here in our list, before reversing our list. ('banana' comes first)"
   ]
  },
  {
   "cell_type": "code",
   "execution_count": 60,
   "id": "61beec29-18b2-44bf-94dc-005333c6339d",
   "metadata": {},
   "outputs": [],
   "source": [
    "Shopping_list.reverse()"
   ]
  },
  {
   "cell_type": "code",
   "execution_count": 61,
   "id": "c126206e-3be2-471b-b373-556aa13d4057",
   "metadata": {},
   "outputs": [
    {
     "data": {
      "text/plain": [
       "['item2', 'item1', 'MAZA', 'MOMOZ', 'Mango', 'Apple', 'banana']"
      ]
     },
     "execution_count": 61,
     "metadata": {},
     "output_type": "execute_result"
    }
   ],
   "source": [
    "Shopping_list"
   ]
  },
  {
   "cell_type": "markdown",
   "id": "fd145342-c0bf-4abd-b383-9467f975994c",
   "metadata": {},
   "source": [
    "Note: Now, here we have updated (reversed) list which has 'item2' as the first element."
   ]
  },
  {
   "cell_type": "markdown",
   "id": "00b8306d-074f-4b7d-8f5e-ffac6955237f",
   "metadata": {},
   "source": [
    "#### sort()\n",
    "\n",
    "This method will sort our list in accending or deccending order."
   ]
  },
  {
   "cell_type": "markdown",
   "id": "26347b61-1cbb-46ce-988b-b7f898214840",
   "metadata": {},
   "source": [
    "***sorting in accending order***"
   ]
  },
  {
   "cell_type": "code",
   "execution_count": 62,
   "id": "c262291c-d04e-46af-b820-586ccaa51e0f",
   "metadata": {},
   "outputs": [],
   "source": [
    "Shopping_list.sort()"
   ]
  },
  {
   "cell_type": "code",
   "execution_count": 63,
   "id": "44595151-47e5-44cf-90af-9f47c69df9e7",
   "metadata": {},
   "outputs": [
    {
     "data": {
      "text/plain": [
       "['Apple', 'MAZA', 'MOMOZ', 'Mango', 'banana', 'item1', 'item2']"
      ]
     },
     "execution_count": 63,
     "metadata": {},
     "output_type": "execute_result"
    }
   ],
   "source": [
    "Shopping_list"
   ]
  },
  {
   "cell_type": "markdown",
   "id": "a231b503-06f9-4e83-9cd2-99fe92fa5093",
   "metadata": {},
   "source": [
    "***sorting in deccending order***"
   ]
  },
  {
   "cell_type": "code",
   "execution_count": 64,
   "id": "08223b4b-160f-41c2-a0d1-d382ca801475",
   "metadata": {},
   "outputs": [],
   "source": [
    "# sorting in deccending order\n",
    "Shopping_list.sort(reverse=True)"
   ]
  },
  {
   "cell_type": "code",
   "execution_count": 65,
   "id": "7ac5c246-af7e-4f11-815f-ca2d4dacc290",
   "metadata": {},
   "outputs": [
    {
     "data": {
      "text/plain": [
       "['item2', 'item1', 'banana', 'Mango', 'MOMOZ', 'MAZA', 'Apple']"
      ]
     },
     "execution_count": 65,
     "metadata": {},
     "output_type": "execute_result"
    }
   ],
   "source": [
    "Shopping_list"
   ]
  },
  {
   "cell_type": "code",
   "execution_count": null,
   "id": "ed7b3e26-a7c2-4ffd-9530-c410b007cf17",
   "metadata": {},
   "outputs": [],
   "source": []
  },
  {
   "cell_type": "code",
   "execution_count": 66,
   "id": "15540194-dfe2-4057-98f5-d9d982ad7c35",
   "metadata": {},
   "outputs": [
    {
     "data": {
      "text/plain": [
       "'item2'"
      ]
     },
     "execution_count": 66,
     "metadata": {},
     "output_type": "execute_result"
    }
   ],
   "source": [
    "Shopping_list[0]"
   ]
  },
  {
   "cell_type": "code",
   "execution_count": 67,
   "id": "cca2e975-0f5f-44ca-b5df-3de8567a0c4a",
   "metadata": {},
   "outputs": [
    {
     "data": {
      "text/plain": [
       "'Apple'"
      ]
     },
     "execution_count": 67,
     "metadata": {},
     "output_type": "execute_result"
    }
   ],
   "source": [
    "# accessing last item by using index number -1\n",
    "Shopping_list[-1]"
   ]
  },
  {
   "cell_type": "code",
   "execution_count": 68,
   "id": "3eb048a1-4b30-4846-a5c1-16dead6e399c",
   "metadata": {},
   "outputs": [],
   "source": [
    "item = Shopping_list[-1]"
   ]
  },
  {
   "cell_type": "code",
   "execution_count": 69,
   "id": "792ab8e1-a1ca-497d-bcba-85805e50b913",
   "metadata": {},
   "outputs": [
    {
     "data": {
      "text/plain": [
       "'Apple'"
      ]
     },
     "execution_count": 69,
     "metadata": {},
     "output_type": "execute_result"
    }
   ],
   "source": [
    "item"
   ]
  },
  {
   "cell_type": "code",
   "execution_count": 70,
   "id": "f91d9f24-e149-4e93-9308-e6962f22a014",
   "metadata": {},
   "outputs": [
    {
     "data": {
      "text/plain": [
       "str"
      ]
     },
     "execution_count": 70,
     "metadata": {},
     "output_type": "execute_result"
    }
   ],
   "source": [
    "type(item)"
   ]
  },
  {
   "cell_type": "code",
   "execution_count": 71,
   "id": "18e5f24a-47c2-4482-a2c0-9cd9385f3113",
   "metadata": {},
   "outputs": [
    {
     "data": {
      "text/plain": [
       "'Apple'"
      ]
     },
     "execution_count": 71,
     "metadata": {},
     "output_type": "execute_result"
    }
   ],
   "source": [
    "item.capitalize()"
   ]
  },
  {
   "cell_type": "code",
   "execution_count": 72,
   "id": "536bd83d-e683-4343-a0a5-8756ee0963d2",
   "metadata": {},
   "outputs": [
    {
     "data": {
      "text/plain": [
       "'apple'"
      ]
     },
     "execution_count": 72,
     "metadata": {},
     "output_type": "execute_result"
    }
   ],
   "source": [
    "item.lower()"
   ]
  },
  {
   "cell_type": "code",
   "execution_count": 73,
   "id": "d106b5aa-9199-4461-a290-13ea94ce35fc",
   "metadata": {},
   "outputs": [
    {
     "data": {
      "text/plain": [
       "'APPLE'"
      ]
     },
     "execution_count": 73,
     "metadata": {},
     "output_type": "execute_result"
    }
   ],
   "source": [
    "item.upper()"
   ]
  },
  {
   "cell_type": "code",
   "execution_count": null,
   "id": "8609b673-0190-4426-8d24-8983ed2d91de",
   "metadata": {},
   "outputs": [],
   "source": []
  },
  {
   "cell_type": "code",
   "execution_count": null,
   "id": "593c0ce3-0363-4d85-b064-2001bb583838",
   "metadata": {},
   "outputs": [],
   "source": []
  }
 ],
 "metadata": {
  "kernelspec": {
   "display_name": "Python 3 (ipykernel)",
   "language": "python",
   "name": "python3"
  },
  "language_info": {
   "codemirror_mode": {
    "name": "ipython",
    "version": 3
   },
   "file_extension": ".py",
   "mimetype": "text/x-python",
   "name": "python",
   "nbconvert_exporter": "python",
   "pygments_lexer": "ipython3",
   "version": "3.8.3"
  }
 },
 "nbformat": 4,
 "nbformat_minor": 5
}
