{
 "cells": [
  {
   "cell_type": "markdown",
   "id": "98729889-77b3-4daa-8682-ab14d2f1acac",
   "metadata": {},
   "source": [
    "# Tuple and Dictionary"
   ]
  },
  {
   "cell_type": "markdown",
   "id": "d60fc44e-a262-4b8f-9f66-0a74f1073e52",
   "metadata": {},
   "source": [
    "## Tuple\n",
    "\n",
    "`Tuple`: tuple is another kin of data structure, which can contain multiple values like list, a value can be any type.\n",
    "\n",
    "we can't change the tuple items/values, they are immutable.\n",
    "\n",
    "**Syntax: tuple**\n",
    "```python\n",
    "    <variable name> = (values_list....)\n",
    "```"
   ]
  },
  {
   "cell_type": "code",
   "execution_count": 1,
   "id": "bbff2c00-e217-4d5a-8567-961c6be4603a",
   "metadata": {},
   "outputs": [],
   "source": [
    "person = (\"kushal\", 18, 5.7)\n",
    "person2 = (\"ravi\", 19, 5.8)"
   ]
  },
  {
   "cell_type": "markdown",
   "id": "90fc4598-82f2-435c-a549-4bf55bb1f216",
   "metadata": {},
   "source": [
    "Now we need to check that our object is tuple."
   ]
  },
  {
   "cell_type": "code",
   "execution_count": 2,
   "id": "4eb7bbb2-5b8d-4adc-b8af-84e0e07e5f4b",
   "metadata": {},
   "outputs": [
    {
     "data": {
      "text/plain": [
       "tuple"
      ]
     },
     "execution_count": 2,
     "metadata": {},
     "output_type": "execute_result"
    }
   ],
   "source": [
    "type(person)"
   ]
  },
  {
   "cell_type": "code",
   "execution_count": 3,
   "id": "ec6b6d69-47ef-46b0-a966-5e73d60218b5",
   "metadata": {},
   "outputs": [
    {
     "data": {
      "text/plain": [
       "tuple"
      ]
     },
     "execution_count": 3,
     "metadata": {},
     "output_type": "execute_result"
    }
   ],
   "source": [
    "type(person2)"
   ]
  },
  {
   "cell_type": "markdown",
   "id": "c930a78a-ff03-4d85-b416-8dc5ae3baea5",
   "metadata": {},
   "source": [
    "**accessing tupe**\n",
    "\n",
    "Accessing method is same as list item accessing."
   ]
  },
  {
   "cell_type": "code",
   "execution_count": 4,
   "id": "cbbcb3cc-96f0-4a95-8880-291e12a75710",
   "metadata": {},
   "outputs": [
    {
     "data": {
      "text/plain": [
       "'kushal'"
      ]
     },
     "execution_count": 4,
     "metadata": {},
     "output_type": "execute_result"
    }
   ],
   "source": [
    "person[0]"
   ]
  },
  {
   "cell_type": "code",
   "execution_count": 5,
   "id": "477abc6b-b484-4e62-8fde-cdfa34544658",
   "metadata": {},
   "outputs": [
    {
     "data": {
      "text/plain": [
       "18"
      ]
     },
     "execution_count": 5,
     "metadata": {},
     "output_type": "execute_result"
    }
   ],
   "source": [
    "person[1]"
   ]
  },
  {
   "cell_type": "code",
   "execution_count": 6,
   "id": "250f4ec7-dbd0-4bfc-80ff-f4f845e108f9",
   "metadata": {},
   "outputs": [
    {
     "data": {
      "text/plain": [
       "'ravi'"
      ]
     },
     "execution_count": 6,
     "metadata": {},
     "output_type": "execute_result"
    }
   ],
   "source": [
    "person2[0]"
   ]
  },
  {
   "cell_type": "markdown",
   "id": "5b3b20fb-096a-4d20-974f-54cda2342c98",
   "metadata": {},
   "source": [
    "**modifying the tuple values**"
   ]
  },
  {
   "cell_type": "code",
   "execution_count": 7,
   "id": "86e210e9-a141-4fa8-86f7-08128718b0e9",
   "metadata": {},
   "outputs": [
    {
     "ename": "TypeError",
     "evalue": "'tuple' object does not support item assignment",
     "output_type": "error",
     "traceback": [
      "\u001b[1;31m---------------------------------------------------------------------------\u001b[0m",
      "\u001b[1;31mTypeError\u001b[0m                                 Traceback (most recent call last)",
      "Input \u001b[1;32mIn [7]\u001b[0m, in \u001b[0;36m<cell line: 1>\u001b[1;34m()\u001b[0m\n\u001b[1;32m----> 1\u001b[0m person[\u001b[38;5;241m0\u001b[39m] \u001b[38;5;241m=\u001b[39m \u001b[38;5;124m\"\u001b[39m\u001b[38;5;124mravi\u001b[39m\u001b[38;5;124m\"\u001b[39m\n",
      "\u001b[1;31mTypeError\u001b[0m: 'tuple' object does not support item assignment"
     ]
    }
   ],
   "source": [
    "person[0] = \"ravi\""
   ]
  },
  {
   "cell_type": "markdown",
   "id": "729dc8d5-8ef9-442c-8fa4-877d8fc9d42d",
   "metadata": {},
   "source": [
    "**method on tuple**"
   ]
  },
  {
   "cell_type": "code",
   "execution_count": 8,
   "id": "22542121-4df3-4c1e-82b4-cd23b0f5b1f1",
   "metadata": {},
   "outputs": [
    {
     "name": "stdout",
     "output_type": "stream",
     "text": [
      "Help on tuple object:\n",
      "\n",
      "class tuple(object)\n",
      " |  tuple(iterable=(), /)\n",
      " |  \n",
      " |  Built-in immutable sequence.\n",
      " |  \n",
      " |  If no argument is given, the constructor returns an empty tuple.\n",
      " |  If iterable is specified the tuple is initialized from iterable's items.\n",
      " |  \n",
      " |  If the argument is a tuple, the return value is the same object.\n",
      " |  \n",
      " |  Built-in subclasses:\n",
      " |      asyncgen_hooks\n",
      " |      UnraisableHookArgs\n",
      " |  \n",
      " |  Methods defined here:\n",
      " |  \n",
      " |  __add__(self, value, /)\n",
      " |      Return self+value.\n",
      " |  \n",
      " |  __contains__(self, key, /)\n",
      " |      Return key in self.\n",
      " |  \n",
      " |  __eq__(self, value, /)\n",
      " |      Return self==value.\n",
      " |  \n",
      " |  __ge__(self, value, /)\n",
      " |      Return self>=value.\n",
      " |  \n",
      " |  __getattribute__(self, name, /)\n",
      " |      Return getattr(self, name).\n",
      " |  \n",
      " |  __getitem__(self, key, /)\n",
      " |      Return self[key].\n",
      " |  \n",
      " |  __getnewargs__(self, /)\n",
      " |  \n",
      " |  __gt__(self, value, /)\n",
      " |      Return self>value.\n",
      " |  \n",
      " |  __hash__(self, /)\n",
      " |      Return hash(self).\n",
      " |  \n",
      " |  __iter__(self, /)\n",
      " |      Implement iter(self).\n",
      " |  \n",
      " |  __le__(self, value, /)\n",
      " |      Return self<=value.\n",
      " |  \n",
      " |  __len__(self, /)\n",
      " |      Return len(self).\n",
      " |  \n",
      " |  __lt__(self, value, /)\n",
      " |      Return self<value.\n",
      " |  \n",
      " |  __mul__(self, value, /)\n",
      " |      Return self*value.\n",
      " |  \n",
      " |  __ne__(self, value, /)\n",
      " |      Return self!=value.\n",
      " |  \n",
      " |  __repr__(self, /)\n",
      " |      Return repr(self).\n",
      " |  \n",
      " |  __rmul__(self, value, /)\n",
      " |      Return value*self.\n",
      " |  \n",
      " |  count(self, value, /)\n",
      " |      Return number of occurrences of value.\n",
      " |  \n",
      " |  index(self, value, start=0, stop=9223372036854775807, /)\n",
      " |      Return first index of value.\n",
      " |      \n",
      " |      Raises ValueError if the value is not present.\n",
      " |  \n",
      " |  ----------------------------------------------------------------------\n",
      " |  Static methods defined here:\n",
      " |  \n",
      " |  __new__(*args, **kwargs) from builtins.type\n",
      " |      Create and return a new object.  See help(type) for accurate signature.\n",
      "\n"
     ]
    }
   ],
   "source": [
    "help(person)"
   ]
  },
  {
   "cell_type": "code",
   "execution_count": 9,
   "id": "b73b6cdd-0f81-43fc-b984-6eb89340cb48",
   "metadata": {},
   "outputs": [
    {
     "ename": "ValueError",
     "evalue": "tuple.index(x): x not in tuple",
     "output_type": "error",
     "traceback": [
      "\u001b[1;31m---------------------------------------------------------------------------\u001b[0m",
      "\u001b[1;31mValueError\u001b[0m                                Traceback (most recent call last)",
      "Input \u001b[1;32mIn [9]\u001b[0m, in \u001b[0;36m<cell line: 1>\u001b[1;34m()\u001b[0m\n\u001b[1;32m----> 1\u001b[0m \u001b[43mperson\u001b[49m\u001b[38;5;241;43m.\u001b[39;49m\u001b[43mindex\u001b[49m\u001b[43m(\u001b[49m\u001b[38;5;241;43m10\u001b[39;49m\u001b[43m)\u001b[49m\n",
      "\u001b[1;31mValueError\u001b[0m: tuple.index(x): x not in tuple"
     ]
    }
   ],
   "source": [
    "person.index(10)"
   ]
  },
  {
   "cell_type": "code",
   "execution_count": 10,
   "id": "8d5bc0b7-aa0d-48bf-a1ba-9e43a7fa0836",
   "metadata": {},
   "outputs": [
    {
     "data": {
      "text/plain": [
       "1"
      ]
     },
     "execution_count": 10,
     "metadata": {},
     "output_type": "execute_result"
    }
   ],
   "source": [
    "person.index(18)"
   ]
  },
  {
   "cell_type": "code",
   "execution_count": 2,
   "id": "21bd2bc6-b28c-4570-857d-69eb2bde0d8a",
   "metadata": {},
   "outputs": [
    {
     "data": {
      "text/plain": [
       "'kushal'"
      ]
     },
     "execution_count": 2,
     "metadata": {},
     "output_type": "execute_result"
    }
   ],
   "source": [
    "person[0]"
   ]
  },
  {
   "cell_type": "markdown",
   "id": "b1cf5278-8707-48c5-8821-f5e36ba3823b",
   "metadata": {},
   "source": [
    "____\n",
    "____"
   ]
  },
  {
   "cell_type": "markdown",
   "id": "3e89462b-d24d-42be-a2d3-203624f375c9",
   "metadata": {},
   "source": [
    "### Dictionaries\n",
    "\n",
    "Dictionaries are the mapping obejct which are used to map one object with a key, here a key can a string, integer, float,tupe, or an object. mapping objects use the hash table to store and reterieve the data.\n",
    "\n",
    "```python\n",
    "    # how to create a dictionary.\n",
    "    \n",
    "    1. var = {key1:value1, key2:value2.... keyn:valuen}\n",
    "    2. var = dict([(key, value), (key, value)])\n",
    "    \n",
    "    # Accessing the dictionary\n",
    "    \n",
    "    var[key] # if key is not present it will give us an error\n",
    "    \n",
    "    # another mehtod to access the vlaue of key\n",
    "    var.get(key, None)\n",
    "```"
   ]
  },
  {
   "cell_type": "markdown",
   "id": "40444240-de3d-4f73-93c5-f30671addc50",
   "metadata": {},
   "source": [
    "#### 1. Creating a dictionary"
   ]
  },
  {
   "cell_type": "code",
   "execution_count": 3,
   "id": "88d0cc8d-de63-46ab-b065-60338c4e52ba",
   "metadata": {},
   "outputs": [],
   "source": [
    "# 1 creating by using curly braces.\n",
    "\n",
    "dict1 = {\"Name\":\"Kushal\",\"Age\":20, \"Height\":5.6}"
   ]
  },
  {
   "cell_type": "code",
   "execution_count": 4,
   "id": "85f7d33e-8a1d-4083-8771-9519c64ff6bb",
   "metadata": {},
   "outputs": [
    {
     "data": {
      "text/plain": [
       "{'Name': 'Kushal', 'Age': 20, 'Height': 5.6}"
      ]
     },
     "execution_count": 4,
     "metadata": {},
     "output_type": "execute_result"
    }
   ],
   "source": [
    "dict1"
   ]
  },
  {
   "cell_type": "code",
   "execution_count": 5,
   "id": "476a4a80-3a26-44aa-8f11-dde14ff235fb",
   "metadata": {},
   "outputs": [],
   "source": [
    "# 2. creating by using the dict() fucntion\n",
    "dict2 = dict([(\"Name\", \"Ravi\"), (\"Age\", 19), (\"Height\", 5.6)])"
   ]
  },
  {
   "cell_type": "code",
   "execution_count": 6,
   "id": "b9fe05e1-081a-45e3-a317-17874a8d215b",
   "metadata": {},
   "outputs": [
    {
     "data": {
      "text/plain": [
       "{'Name': 'Ravi', 'Age': 19, 'Height': 5.6}"
      ]
     },
     "execution_count": 6,
     "metadata": {},
     "output_type": "execute_result"
    }
   ],
   "source": [
    "dict2"
   ]
  },
  {
   "cell_type": "markdown",
   "id": "f6bd0876-745f-4e7b-833d-0e0c6ec8505b",
   "metadata": {},
   "source": [
    "#### 2. Accessing the dict items."
   ]
  },
  {
   "cell_type": "code",
   "execution_count": 7,
   "id": "bd00bc80-805b-4fce-8d57-ed62d8f771a6",
   "metadata": {},
   "outputs": [
    {
     "data": {
      "text/plain": [
       "'Kushal'"
      ]
     },
     "execution_count": 7,
     "metadata": {},
     "output_type": "execute_result"
    }
   ],
   "source": [
    "# we can access the dict element by usnging the subscript [].\n",
    "dict1[\"Name\"]"
   ]
  },
  {
   "cell_type": "code",
   "execution_count": 8,
   "id": "03d25e58-3d10-48fc-ac38-453e79c37028",
   "metadata": {},
   "outputs": [
    {
     "data": {
      "text/plain": [
       "'Ravi'"
      ]
     },
     "execution_count": 8,
     "metadata": {},
     "output_type": "execute_result"
    }
   ],
   "source": [
    "dict2[\"Name\"]"
   ]
  },
  {
   "cell_type": "markdown",
   "id": "5996cd09-d214-4415-a56a-1f3159e155bc",
   "metadata": {},
   "source": [
    "<b style=\"color:red\">Warning:</b> if key value is not present in the dict object then it will raise an KeyError."
   ]
  },
  {
   "cell_type": "code",
   "execution_count": 9,
   "id": "69641a30-a1d8-4cfa-9ba7-0746e17419be",
   "metadata": {},
   "outputs": [
    {
     "ename": "KeyError",
     "evalue": "'name'",
     "output_type": "error",
     "traceback": [
      "\u001b[1;31m---------------------------------------------------------------------------\u001b[0m",
      "\u001b[1;31mKeyError\u001b[0m                                  Traceback (most recent call last)",
      "Input \u001b[1;32mIn [9]\u001b[0m, in \u001b[0;36m<cell line: 1>\u001b[1;34m()\u001b[0m\n\u001b[1;32m----> 1\u001b[0m \u001b[43mdict2\u001b[49m\u001b[43m[\u001b[49m\u001b[38;5;124;43m\"\u001b[39;49m\u001b[38;5;124;43mname\u001b[39;49m\u001b[38;5;124;43m\"\u001b[39;49m\u001b[43m]\u001b[49m\n",
      "\u001b[1;31mKeyError\u001b[0m: 'name'"
     ]
    }
   ],
   "source": [
    "dict2[\"name\"]"
   ]
  },
  {
   "cell_type": "markdown",
   "id": "4d071dcb-894b-44f7-b23c-0fb41c1fd9ca",
   "metadata": {},
   "source": [
    "To avode the KeyError we can use the .get() metod on the dict object. if we use get() method it will return the vlaue of paired key if present else return the defult given value."
   ]
  },
  {
   "cell_type": "code",
   "execution_count": 10,
   "id": "92879c9f-2265-424f-9f51-3599e6c09349",
   "metadata": {},
   "outputs": [],
   "source": [
    "dict2.get(\"name\", None)"
   ]
  },
  {
   "cell_type": "code",
   "execution_count": 11,
   "id": "1ecedb40-ca27-4226-b0b8-84ef2c7f9dfa",
   "metadata": {},
   "outputs": [
    {
     "data": {
      "text/plain": [
       "False"
      ]
     },
     "execution_count": 11,
     "metadata": {},
     "output_type": "execute_result"
    }
   ],
   "source": [
    "# if we change the default value\n",
    "dict2.get(\"name\", False)"
   ]
  },
  {
   "cell_type": "code",
   "execution_count": 12,
   "id": "fde8106d-324c-4696-8583-da7f0fc3be4b",
   "metadata": {},
   "outputs": [
    {
     "data": {
      "text/plain": [
       "'Ravi'"
      ]
     },
     "execution_count": 12,
     "metadata": {},
     "output_type": "execute_result"
    }
   ],
   "source": [
    "dict2.get(\"Name\", False)"
   ]
  },
  {
   "cell_type": "markdown",
   "id": "6e29cc96-6d09-4ba1-997c-61b7fca1be9b",
   "metadata": {},
   "source": [
    "#### 3. Some other method of dict object"
   ]
  },
  {
   "cell_type": "code",
   "execution_count": 13,
   "id": "cdacdc41-3dfa-4056-b0db-a9f1e0f9452c",
   "metadata": {},
   "outputs": [
    {
     "name": "stdout",
     "output_type": "stream",
     "text": [
      "Help on class dict in module builtins:\n",
      "\n",
      "class dict(object)\n",
      " |  dict() -> new empty dictionary\n",
      " |  dict(mapping) -> new dictionary initialized from a mapping object's\n",
      " |      (key, value) pairs\n",
      " |  dict(iterable) -> new dictionary initialized as if via:\n",
      " |      d = {}\n",
      " |      for k, v in iterable:\n",
      " |          d[k] = v\n",
      " |  dict(**kwargs) -> new dictionary initialized with the name=value pairs\n",
      " |      in the keyword argument list.  For example:  dict(one=1, two=2)\n",
      " |  \n",
      " |  Built-in subclasses:\n",
      " |      StgDict\n",
      " |  \n",
      " |  Methods defined here:\n",
      " |  \n",
      " |  __contains__(self, key, /)\n",
      " |      True if the dictionary has the specified key, else False.\n",
      " |  \n",
      " |  __delitem__(self, key, /)\n",
      " |      Delete self[key].\n",
      " |  \n",
      " |  __eq__(self, value, /)\n",
      " |      Return self==value.\n",
      " |  \n",
      " |  __ge__(self, value, /)\n",
      " |      Return self>=value.\n",
      " |  \n",
      " |  __getattribute__(self, name, /)\n",
      " |      Return getattr(self, name).\n",
      " |  \n",
      " |  __getitem__(...)\n",
      " |      x.__getitem__(y) <==> x[y]\n",
      " |  \n",
      " |  __gt__(self, value, /)\n",
      " |      Return self>value.\n",
      " |  \n",
      " |  __init__(self, /, *args, **kwargs)\n",
      " |      Initialize self.  See help(type(self)) for accurate signature.\n",
      " |  \n",
      " |  __iter__(self, /)\n",
      " |      Implement iter(self).\n",
      " |  \n",
      " |  __le__(self, value, /)\n",
      " |      Return self<=value.\n",
      " |  \n",
      " |  __len__(self, /)\n",
      " |      Return len(self).\n",
      " |  \n",
      " |  __lt__(self, value, /)\n",
      " |      Return self<value.\n",
      " |  \n",
      " |  __ne__(self, value, /)\n",
      " |      Return self!=value.\n",
      " |  \n",
      " |  __repr__(self, /)\n",
      " |      Return repr(self).\n",
      " |  \n",
      " |  __reversed__(self, /)\n",
      " |      Return a reverse iterator over the dict keys.\n",
      " |  \n",
      " |  __setitem__(self, key, value, /)\n",
      " |      Set self[key] to value.\n",
      " |  \n",
      " |  __sizeof__(...)\n",
      " |      D.__sizeof__() -> size of D in memory, in bytes\n",
      " |  \n",
      " |  clear(...)\n",
      " |      D.clear() -> None.  Remove all items from D.\n",
      " |  \n",
      " |  copy(...)\n",
      " |      D.copy() -> a shallow copy of D\n",
      " |  \n",
      " |  get(self, key, default=None, /)\n",
      " |      Return the value for key if key is in the dictionary, else default.\n",
      " |  \n",
      " |  items(...)\n",
      " |      D.items() -> a set-like object providing a view on D's items\n",
      " |  \n",
      " |  keys(...)\n",
      " |      D.keys() -> a set-like object providing a view on D's keys\n",
      " |  \n",
      " |  pop(...)\n",
      " |      D.pop(k[,d]) -> v, remove specified key and return the corresponding value.\n",
      " |      If key is not found, d is returned if given, otherwise KeyError is raised\n",
      " |  \n",
      " |  popitem(self, /)\n",
      " |      Remove and return a (key, value) pair as a 2-tuple.\n",
      " |      \n",
      " |      Pairs are returned in LIFO (last-in, first-out) order.\n",
      " |      Raises KeyError if the dict is empty.\n",
      " |  \n",
      " |  setdefault(self, key, default=None, /)\n",
      " |      Insert key with a value of default if key is not in the dictionary.\n",
      " |      \n",
      " |      Return the value for key if key is in the dictionary, else default.\n",
      " |  \n",
      " |  update(...)\n",
      " |      D.update([E, ]**F) -> None.  Update D from dict/iterable E and F.\n",
      " |      If E is present and has a .keys() method, then does:  for k in E: D[k] = E[k]\n",
      " |      If E is present and lacks a .keys() method, then does:  for k, v in E: D[k] = v\n",
      " |      In either case, this is followed by: for k in F:  D[k] = F[k]\n",
      " |  \n",
      " |  values(...)\n",
      " |      D.values() -> an object providing a view on D's values\n",
      " |  \n",
      " |  ----------------------------------------------------------------------\n",
      " |  Class methods defined here:\n",
      " |  \n",
      " |  fromkeys(iterable, value=None, /) from builtins.type\n",
      " |      Create a new dictionary with keys from iterable and values set to value.\n",
      " |  \n",
      " |  ----------------------------------------------------------------------\n",
      " |  Static methods defined here:\n",
      " |  \n",
      " |  __new__(*args, **kwargs) from builtins.type\n",
      " |      Create and return a new object.  See help(type) for accurate signature.\n",
      " |  \n",
      " |  ----------------------------------------------------------------------\n",
      " |  Data and other attributes defined here:\n",
      " |  \n",
      " |  __hash__ = None\n",
      "\n"
     ]
    }
   ],
   "source": [
    "help(dict)"
   ]
  },
  {
   "cell_type": "markdown",
   "id": "fcb2e01b-b3dd-4fd5-bca7-cd8da4d39859",
   "metadata": {},
   "source": [
    "#### items() & keys() & values()\n",
    "\n",
    "`items:` it will return an dict_items type object, which has items in the key value pair of tuple.\n",
    "\n",
    "`keys:` it will return an dict_keys type object, which will have all the keys presented in the dict object.\n",
    "\n",
    "`values:` it will return an dict_values type object, which will  ahve all the values presented in the dict object.\n"
   ]
  },
  {
   "cell_type": "markdown",
   "id": "33dce3cc-b0d1-45a1-b46a-2b090f919081",
   "metadata": {},
   "source": [
    "**items**"
   ]
  },
  {
   "cell_type": "code",
   "execution_count": 14,
   "id": "e0641711-f59c-4145-9451-b2911554c46b",
   "metadata": {},
   "outputs": [
    {
     "data": {
      "text/plain": [
       "{'Name': 'Kushal', 'Age': 20, 'Height': 5.6}"
      ]
     },
     "execution_count": 14,
     "metadata": {},
     "output_type": "execute_result"
    }
   ],
   "source": [
    "dict1"
   ]
  },
  {
   "cell_type": "code",
   "execution_count": 15,
   "id": "674cb059-ea15-4247-a195-c05c97fc2176",
   "metadata": {},
   "outputs": [
    {
     "data": {
      "text/plain": [
       "{'Name': 'Ravi', 'Age': 19, 'Height': 5.6}"
      ]
     },
     "execution_count": 15,
     "metadata": {},
     "output_type": "execute_result"
    }
   ],
   "source": [
    "dict2"
   ]
  },
  {
   "cell_type": "code",
   "execution_count": 16,
   "id": "3f83f8b9-3825-43e5-9813-57a462da85cf",
   "metadata": {},
   "outputs": [
    {
     "data": {
      "text/plain": [
       "dict_items([('Name', 'Ravi'), ('Age', 19), ('Height', 5.6)])"
      ]
     },
     "execution_count": 16,
     "metadata": {},
     "output_type": "execute_result"
    }
   ],
   "source": [
    "dict2.items()"
   ]
  },
  {
   "cell_type": "markdown",
   "id": "09a872d6-d8de-480b-bf28-f350ed034532",
   "metadata": {},
   "source": [
    "Note: as we can see that we have a output of dict_items."
   ]
  },
  {
   "cell_type": "markdown",
   "id": "e88555f8-720c-4e24-bfab-1ff46ff4b975",
   "metadata": {},
   "source": [
    "**keys**"
   ]
  },
  {
   "cell_type": "code",
   "execution_count": 17,
   "id": "69c4cb22-df73-4fa5-b2bc-c4c0249b3b1b",
   "metadata": {},
   "outputs": [
    {
     "data": {
      "text/plain": [
       "dict_keys(['Name', 'Age', 'Height'])"
      ]
     },
     "execution_count": 17,
     "metadata": {},
     "output_type": "execute_result"
    }
   ],
   "source": [
    "dict2.keys()"
   ]
  },
  {
   "cell_type": "markdown",
   "id": "be7e47ef-9571-4506-af6a-3c04faf5fe17",
   "metadata": {},
   "source": [
    "**values**"
   ]
  },
  {
   "cell_type": "code",
   "execution_count": 18,
   "id": "7e73f401-2300-437d-991b-91b992cbb2d3",
   "metadata": {},
   "outputs": [
    {
     "data": {
      "text/plain": [
       "dict_values(['Ravi', 19, 5.6])"
      ]
     },
     "execution_count": 18,
     "metadata": {},
     "output_type": "execute_result"
    }
   ],
   "source": [
    "dict2.values()"
   ]
  },
  {
   "cell_type": "markdown",
   "id": "4efeb3c2-b272-4680-af07-b713798afc24",
   "metadata": {},
   "source": [
    "#### pop() & popitem()"
   ]
  },
  {
   "cell_type": "markdown",
   "id": "4790e709-9d0f-4556-a4b0-2e2b8dea4d5d",
   "metadata": {},
   "source": [
    "`pop(...)`\n",
    "     D.pop(k[,d]) -> v, remove specified key and return the corresponding value.\n",
    "       If key is not found, d is returned if given, otherwise KeyError is raised\n",
    "   \n",
    "`popitem(self, /):`\n",
    "       Remove and return a (key, value) pair as a 2-tuple.\n",
    "       Pairs are returned in LIFO (last-in, first-out) order.\\\n",
    "       Raises KeyError if the dict is empty."
   ]
  },
  {
   "cell_type": "markdown",
   "id": "cdecbc32-92e6-49f9-88a1-ca30bb5f9989",
   "metadata": {},
   "source": [
    "**pop**\n",
    "\n",
    "it will remove the item and will return the value."
   ]
  },
  {
   "cell_type": "code",
   "execution_count": 19,
   "id": "2fcb27c4-7c03-4837-99c4-919899a53f33",
   "metadata": {},
   "outputs": [
    {
     "data": {
      "text/plain": [
       "5.6"
      ]
     },
     "execution_count": 19,
     "metadata": {},
     "output_type": "execute_result"
    }
   ],
   "source": [
    "dict2.pop(\"Height\")"
   ]
  },
  {
   "cell_type": "code",
   "execution_count": 20,
   "id": "cb934c61-64b5-41cf-9cd7-493a84fe729e",
   "metadata": {},
   "outputs": [
    {
     "data": {
      "text/plain": [
       "{'Name': 'Ravi', 'Age': 19}"
      ]
     },
     "execution_count": 20,
     "metadata": {},
     "output_type": "execute_result"
    }
   ],
   "source": [
    "dict2"
   ]
  },
  {
   "cell_type": "code",
   "execution_count": 21,
   "id": "08652693-c20f-4bbe-a23c-dda8facc7cdd",
   "metadata": {},
   "outputs": [
    {
     "data": {
      "text/plain": [
       "{'Name': 'Kushal', 'Age': 20, 'Height': 5.6}"
      ]
     },
     "execution_count": 21,
     "metadata": {},
     "output_type": "execute_result"
    }
   ],
   "source": [
    "dict1"
   ]
  },
  {
   "cell_type": "markdown",
   "id": "c5697a56-7281-447b-9b47-fa294989a882",
   "metadata": {},
   "source": [
    "**popitem**"
   ]
  },
  {
   "cell_type": "code",
   "execution_count": 23,
   "id": "71475f4a-7fee-44e4-b43a-4ac03924c35a",
   "metadata": {},
   "outputs": [
    {
     "data": {
      "text/plain": [
       "('Height', 5.6)"
      ]
     },
     "execution_count": 23,
     "metadata": {},
     "output_type": "execute_result"
    }
   ],
   "source": [
    "dict1.popitem()"
   ]
  },
  {
   "cell_type": "code",
   "execution_count": 24,
   "id": "089339fa-5fea-4221-9b40-ddd7c5e2ac5b",
   "metadata": {},
   "outputs": [
    {
     "data": {
      "text/plain": [
       "{'Name': 'Kushal', 'Age': 20}"
      ]
     },
     "execution_count": 24,
     "metadata": {},
     "output_type": "execute_result"
    }
   ],
   "source": [
    "dict1"
   ]
  },
  {
   "cell_type": "markdown",
   "id": "a7d9cf7d-a896-4c08-8862-05e2a8fde6f3",
   "metadata": {},
   "source": [
    "#### upate() method"
   ]
  },
  {
   "cell_type": "markdown",
   "id": "36f6f7f1-94ae-4620-b7f7-908a401d625c",
   "metadata": {},
   "source": [
    "`update(...)`\n",
    " |      D.update([E, ]**F) -> None.  Update D from dict/iterable E and F.\\\n",
    " |      If E is present and has a .keys() method, then does:  for k in E: `D[k] = E[k]`\\\n",
    " |      If E is present and lacks a .keys() method, then does:  for k, v in E:` D[k] = v`\n",
    " |      In either case, this is followed by: for k in F:  `D[k] = F[k]`"
   ]
  },
  {
   "cell_type": "code",
   "execution_count": 25,
   "id": "c777ca6d-7152-4911-b8cd-18f94dd1f17c",
   "metadata": {},
   "outputs": [
    {
     "data": {
      "text/plain": [
       "{'Name': 'Kushal', 'Age': 19}"
      ]
     },
     "execution_count": 25,
     "metadata": {},
     "output_type": "execute_result"
    }
   ],
   "source": [
    "## updateing only single value & existing value.\n",
    "dict1.update({\"Age\":19})\n",
    "dict1"
   ]
  },
  {
   "cell_type": "code",
   "execution_count": 27,
   "id": "a1863aac-90f2-4dc8-8f5b-2bc502a2a35a",
   "metadata": {},
   "outputs": [],
   "source": [
    "# updating the non existing key value.\n",
    "dict1.update({\"Height\":5.6})"
   ]
  },
  {
   "cell_type": "code",
   "execution_count": 28,
   "id": "e0e4d078-4aa4-4dfe-bdd9-aad31a1f9a96",
   "metadata": {},
   "outputs": [
    {
     "data": {
      "text/plain": [
       "{'Name': 'Kushal', 'Age': 19, 'Height': 5.6}"
      ]
     },
     "execution_count": 28,
     "metadata": {},
     "output_type": "execute_result"
    }
   ],
   "source": [
    "dict1"
   ]
  },
  {
   "cell_type": "code",
   "execution_count": 29,
   "id": "b52a84fc-3727-4bb9-91fa-b8701701652e",
   "metadata": {},
   "outputs": [
    {
     "data": {
      "text/plain": [
       "{'Name': 'Ravi', 'Age': 19}"
      ]
     },
     "execution_count": 29,
     "metadata": {},
     "output_type": "execute_result"
    }
   ],
   "source": [
    "dict2"
   ]
  },
  {
   "cell_type": "code",
   "execution_count": null,
   "id": "28d5311d-50a0-40fe-a191-3a2c3f7a523d",
   "metadata": {},
   "outputs": [],
   "source": [
    "dict2.update([(\"\"), ()])"
   ]
  }
 ],
 "metadata": {
  "kernelspec": {
   "display_name": "Python 3 (ipykernel)",
   "language": "python",
   "name": "python3"
  },
  "language_info": {
   "codemirror_mode": {
    "name": "ipython",
    "version": 3
   },
   "file_extension": ".py",
   "mimetype": "text/x-python",
   "name": "python",
   "nbconvert_exporter": "python",
   "pygments_lexer": "ipython3",
   "version": "3.8.3"
  }
 },
 "nbformat": 4,
 "nbformat_minor": 5
}
