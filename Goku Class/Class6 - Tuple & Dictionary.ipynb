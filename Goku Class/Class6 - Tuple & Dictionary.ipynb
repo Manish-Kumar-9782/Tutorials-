{
 "cells": [
  {
   "cell_type": "markdown",
   "id": "98729889-77b3-4daa-8682-ab14d2f1acac",
   "metadata": {},
   "source": [
    "# Tuple and Dictionary"
   ]
  },
  {
   "cell_type": "markdown",
   "id": "d60fc44e-a262-4b8f-9f66-0a74f1073e52",
   "metadata": {},
   "source": [
    "## Tuple\n",
    "\n",
    "`Tuple`: tuple is another kin of data structure, which can contain multiple values like list, a value can be any type.\n",
    "\n",
    "we can't change the tuple items/values, they are immutable.\n",
    "\n",
    "**Syntax: tuple**\n",
    "```python\n",
    "    <variable name> = (values_list....)\n",
    "```"
   ]
  },
  {
   "cell_type": "code",
   "execution_count": 1,
   "id": "bbff2c00-e217-4d5a-8567-961c6be4603a",
   "metadata": {},
   "outputs": [],
   "source": [
    "person = (\"kushal\", 18, 5.7)\n",
    "person2 = (\"ravi\", 19, 5.8)"
   ]
  },
  {
   "cell_type": "markdown",
   "id": "90fc4598-82f2-435c-a549-4bf55bb1f216",
   "metadata": {},
   "source": [
    "Now we need to check that our object is tuple."
   ]
  },
  {
   "cell_type": "code",
   "execution_count": 2,
   "id": "4eb7bbb2-5b8d-4adc-b8af-84e0e07e5f4b",
   "metadata": {},
   "outputs": [
    {
     "data": {
      "text/plain": [
       "tuple"
      ]
     },
     "execution_count": 2,
     "metadata": {},
     "output_type": "execute_result"
    }
   ],
   "source": [
    "type(person)"
   ]
  },
  {
   "cell_type": "code",
   "execution_count": 3,
   "id": "ec6b6d69-47ef-46b0-a966-5e73d60218b5",
   "metadata": {},
   "outputs": [
    {
     "data": {
      "text/plain": [
       "tuple"
      ]
     },
     "execution_count": 3,
     "metadata": {},
     "output_type": "execute_result"
    }
   ],
   "source": [
    "type(person2)"
   ]
  },
  {
   "cell_type": "markdown",
   "id": "c930a78a-ff03-4d85-b416-8dc5ae3baea5",
   "metadata": {},
   "source": [
    "**accessing tupe**\n",
    "\n",
    "Accessing method is same as list item accessing."
   ]
  },
  {
   "cell_type": "code",
   "execution_count": 4,
   "id": "cbbcb3cc-96f0-4a95-8880-291e12a75710",
   "metadata": {},
   "outputs": [
    {
     "data": {
      "text/plain": [
       "'kushal'"
      ]
     },
     "execution_count": 4,
     "metadata": {},
     "output_type": "execute_result"
    }
   ],
   "source": [
    "person[0]"
   ]
  },
  {
   "cell_type": "code",
   "execution_count": 5,
   "id": "477abc6b-b484-4e62-8fde-cdfa34544658",
   "metadata": {},
   "outputs": [
    {
     "data": {
      "text/plain": [
       "18"
      ]
     },
     "execution_count": 5,
     "metadata": {},
     "output_type": "execute_result"
    }
   ],
   "source": [
    "person[1]"
   ]
  },
  {
   "cell_type": "code",
   "execution_count": 6,
   "id": "250f4ec7-dbd0-4bfc-80ff-f4f845e108f9",
   "metadata": {},
   "outputs": [
    {
     "data": {
      "text/plain": [
       "'ravi'"
      ]
     },
     "execution_count": 6,
     "metadata": {},
     "output_type": "execute_result"
    }
   ],
   "source": [
    "person2[0]"
   ]
  },
  {
   "cell_type": "markdown",
   "id": "5b3b20fb-096a-4d20-974f-54cda2342c98",
   "metadata": {},
   "source": [
    "**modifying the tuple values**"
   ]
  },
  {
   "cell_type": "code",
   "execution_count": 7,
   "id": "86e210e9-a141-4fa8-86f7-08128718b0e9",
   "metadata": {},
   "outputs": [
    {
     "ename": "TypeError",
     "evalue": "'tuple' object does not support item assignment",
     "output_type": "error",
     "traceback": [
      "\u001b[1;31m---------------------------------------------------------------------------\u001b[0m",
      "\u001b[1;31mTypeError\u001b[0m                                 Traceback (most recent call last)",
      "Input \u001b[1;32mIn [7]\u001b[0m, in \u001b[0;36m<cell line: 1>\u001b[1;34m()\u001b[0m\n\u001b[1;32m----> 1\u001b[0m person[\u001b[38;5;241m0\u001b[39m] \u001b[38;5;241m=\u001b[39m \u001b[38;5;124m\"\u001b[39m\u001b[38;5;124mravi\u001b[39m\u001b[38;5;124m\"\u001b[39m\n",
      "\u001b[1;31mTypeError\u001b[0m: 'tuple' object does not support item assignment"
     ]
    }
   ],
   "source": [
    "person[0] = \"ravi\""
   ]
  },
  {
   "cell_type": "markdown",
   "id": "729dc8d5-8ef9-442c-8fa4-877d8fc9d42d",
   "metadata": {},
   "source": [
    "**method on tuple**"
   ]
  },
  {
   "cell_type": "code",
   "execution_count": 8,
   "id": "22542121-4df3-4c1e-82b4-cd23b0f5b1f1",
   "metadata": {},
   "outputs": [
    {
     "name": "stdout",
     "output_type": "stream",
     "text": [
      "Help on tuple object:\n",
      "\n",
      "class tuple(object)\n",
      " |  tuple(iterable=(), /)\n",
      " |  \n",
      " |  Built-in immutable sequence.\n",
      " |  \n",
      " |  If no argument is given, the constructor returns an empty tuple.\n",
      " |  If iterable is specified the tuple is initialized from iterable's items.\n",
      " |  \n",
      " |  If the argument is a tuple, the return value is the same object.\n",
      " |  \n",
      " |  Built-in subclasses:\n",
      " |      asyncgen_hooks\n",
      " |      UnraisableHookArgs\n",
      " |  \n",
      " |  Methods defined here:\n",
      " |  \n",
      " |  __add__(self, value, /)\n",
      " |      Return self+value.\n",
      " |  \n",
      " |  __contains__(self, key, /)\n",
      " |      Return key in self.\n",
      " |  \n",
      " |  __eq__(self, value, /)\n",
      " |      Return self==value.\n",
      " |  \n",
      " |  __ge__(self, value, /)\n",
      " |      Return self>=value.\n",
      " |  \n",
      " |  __getattribute__(self, name, /)\n",
      " |      Return getattr(self, name).\n",
      " |  \n",
      " |  __getitem__(self, key, /)\n",
      " |      Return self[key].\n",
      " |  \n",
      " |  __getnewargs__(self, /)\n",
      " |  \n",
      " |  __gt__(self, value, /)\n",
      " |      Return self>value.\n",
      " |  \n",
      " |  __hash__(self, /)\n",
      " |      Return hash(self).\n",
      " |  \n",
      " |  __iter__(self, /)\n",
      " |      Implement iter(self).\n",
      " |  \n",
      " |  __le__(self, value, /)\n",
      " |      Return self<=value.\n",
      " |  \n",
      " |  __len__(self, /)\n",
      " |      Return len(self).\n",
      " |  \n",
      " |  __lt__(self, value, /)\n",
      " |      Return self<value.\n",
      " |  \n",
      " |  __mul__(self, value, /)\n",
      " |      Return self*value.\n",
      " |  \n",
      " |  __ne__(self, value, /)\n",
      " |      Return self!=value.\n",
      " |  \n",
      " |  __repr__(self, /)\n",
      " |      Return repr(self).\n",
      " |  \n",
      " |  __rmul__(self, value, /)\n",
      " |      Return value*self.\n",
      " |  \n",
      " |  count(self, value, /)\n",
      " |      Return number of occurrences of value.\n",
      " |  \n",
      " |  index(self, value, start=0, stop=9223372036854775807, /)\n",
      " |      Return first index of value.\n",
      " |      \n",
      " |      Raises ValueError if the value is not present.\n",
      " |  \n",
      " |  ----------------------------------------------------------------------\n",
      " |  Static methods defined here:\n",
      " |  \n",
      " |  __new__(*args, **kwargs) from builtins.type\n",
      " |      Create and return a new object.  See help(type) for accurate signature.\n",
      "\n"
     ]
    }
   ],
   "source": [
    "help(person)"
   ]
  },
  {
   "cell_type": "code",
   "execution_count": 9,
   "id": "b73b6cdd-0f81-43fc-b984-6eb89340cb48",
   "metadata": {},
   "outputs": [
    {
     "ename": "ValueError",
     "evalue": "tuple.index(x): x not in tuple",
     "output_type": "error",
     "traceback": [
      "\u001b[1;31m---------------------------------------------------------------------------\u001b[0m",
      "\u001b[1;31mValueError\u001b[0m                                Traceback (most recent call last)",
      "Input \u001b[1;32mIn [9]\u001b[0m, in \u001b[0;36m<cell line: 1>\u001b[1;34m()\u001b[0m\n\u001b[1;32m----> 1\u001b[0m \u001b[43mperson\u001b[49m\u001b[38;5;241;43m.\u001b[39;49m\u001b[43mindex\u001b[49m\u001b[43m(\u001b[49m\u001b[38;5;241;43m10\u001b[39;49m\u001b[43m)\u001b[49m\n",
      "\u001b[1;31mValueError\u001b[0m: tuple.index(x): x not in tuple"
     ]
    }
   ],
   "source": [
    "person.index(10)"
   ]
  },
  {
   "cell_type": "code",
   "execution_count": 10,
   "id": "8d5bc0b7-aa0d-48bf-a1ba-9e43a7fa0836",
   "metadata": {},
   "outputs": [
    {
     "data": {
      "text/plain": [
       "1"
      ]
     },
     "execution_count": 10,
     "metadata": {},
     "output_type": "execute_result"
    }
   ],
   "source": [
    "person.index(18)"
   ]
  },
  {
   "cell_type": "code",
   "execution_count": 11,
   "id": "21bd2bc6-b28c-4570-857d-69eb2bde0d8a",
   "metadata": {},
   "outputs": [
    {
     "data": {
      "text/plain": [
       "('kushal', 18, 5.7)"
      ]
     },
     "execution_count": 11,
     "metadata": {},
     "output_type": "execute_result"
    }
   ],
   "source": [
    "person"
   ]
  },
  {
   "cell_type": "code",
   "execution_count": null,
   "id": "1f71d7ad-4a78-4a6c-a993-2e375c742b76",
   "metadata": {},
   "outputs": [],
   "source": []
  }
 ],
 "metadata": {
  "kernelspec": {
   "display_name": "Python 3 (ipykernel)",
   "language": "python",
   "name": "python3"
  },
  "language_info": {
   "codemirror_mode": {
    "name": "ipython",
    "version": 3
   },
   "file_extension": ".py",
   "mimetype": "text/x-python",
   "name": "python",
   "nbconvert_exporter": "python",
   "pygments_lexer": "ipython3",
   "version": "3.8.3"
  }
 },
 "nbformat": 4,
 "nbformat_minor": 5
}
