{
 "cells": [
  {
   "cell_type": "markdown",
   "id": "012b71ae-0d7f-4239-9b69-3e6b5926ed1c",
   "metadata": {},
   "source": [
    "# For loop in python"
   ]
  },
  {
   "cell_type": "markdown",
   "id": "0f7723c9-f606-4798-94f9-17b4e4008166",
   "metadata": {},
   "source": [
    "1. To make/run a for loop we need to use the `for` keyword.\n",
    "2. make/name variable after `for` keyword.\n",
    "3. Now we need use `in` keyword.\n",
    "4. Now we need to mention the iterable object. (sequentional data.)\n",
    "\n",
    "```python\n",
    "    for <varibale> in <iterator>:\n",
    "        statement;\n",
    "```"
   ]
  },
  {
   "cell_type": "markdown",
   "id": "e7792be0-7b24-42bd-a3ef-4a0ce0e3efb5",
   "metadata": {},
   "source": [
    "### range function as the sequential data"
   ]
  },
  {
   "cell_type": "code",
   "execution_count": 1,
   "id": "ba224678-8643-461f-9a0f-a18db463b31b",
   "metadata": {},
   "outputs": [
    {
     "data": {
      "text/plain": [
       "range(0, 10)"
      ]
     },
     "execution_count": 1,
     "metadata": {},
     "output_type": "execute_result"
    }
   ],
   "source": [
    "range(0, 10)"
   ]
  },
  {
   "cell_type": "code",
   "execution_count": 2,
   "id": "bb6080a7-99da-4e4c-b0da-1719a9bd3417",
   "metadata": {},
   "outputs": [],
   "source": [
    "rng = range(0,20)"
   ]
  },
  {
   "cell_type": "code",
   "execution_count": 3,
   "id": "acf8ca39-5b93-4dc4-abb7-1bb0195beaa1",
   "metadata": {},
   "outputs": [
    {
     "data": {
      "text/plain": [
       "range(0, 20)"
      ]
     },
     "execution_count": 3,
     "metadata": {},
     "output_type": "execute_result"
    }
   ],
   "source": [
    "rng"
   ]
  },
  {
   "cell_type": "markdown",
   "id": "e1a2db65-cabf-40bd-8adc-cc42806e78e3",
   "metadata": {},
   "source": [
    "Now we need to use the range with our for loop.\n",
    "\n",
    "##### 1. for loop with range object."
   ]
  },
  {
   "cell_type": "code",
   "execution_count": 6,
   "id": "65a63670-b1f9-4716-8ddc-7b68f9ec77ed",
   "metadata": {},
   "outputs": [
    {
     "name": "stdout",
     "output_type": "stream",
     "text": [
      "0\n",
      "1\n",
      "2\n",
      "3\n",
      "4\n",
      "5\n",
      "6\n",
      "7\n",
      "8\n",
      "9\n",
      "10\n",
      "11\n",
      "12\n",
      "13\n",
      "14\n",
      "15\n",
      "16\n",
      "17\n",
      "18\n",
      "19\n"
     ]
    }
   ],
   "source": [
    "for i in rng:\n",
    "    print(i)"
   ]
  },
  {
   "cell_type": "markdown",
   "id": "21e33a1d-e56e-427e-b3fb-fab5b00e42db",
   "metadata": {},
   "source": [
    "##### 2. for loop with list"
   ]
  },
  {
   "cell_type": "code",
   "execution_count": 7,
   "id": "4354d4ae-c948-4c22-a5fb-985abb185892",
   "metadata": {},
   "outputs": [],
   "source": [
    "our_list = [\"hello\", \"jello\", \"kello\", \"pello\"]"
   ]
  },
  {
   "cell_type": "code",
   "execution_count": 9,
   "id": "ad7bdbe6-d497-4eb7-ae2d-2d227c792416",
   "metadata": {},
   "outputs": [
    {
     "name": "stdout",
     "output_type": "stream",
     "text": [
      "hello\n",
      "jello\n",
      "kello\n",
      "pello\n"
     ]
    }
   ],
   "source": [
    "for item in our_list:\n",
    "    print(item)"
   ]
  },
  {
   "cell_type": "markdown",
   "id": "c1dfb6d8-a155-441a-b571-5f508038317a",
   "metadata": {},
   "source": [
    "##### 3. for loop with string"
   ]
  },
  {
   "cell_type": "code",
   "execution_count": 10,
   "id": "4ef6031f-ed53-4f00-9ccb-0a8ff3eb6350",
   "metadata": {},
   "outputs": [],
   "source": [
    "string = \"hello this is string    hello again!\""
   ]
  },
  {
   "cell_type": "code",
   "execution_count": 11,
   "id": "dc4c68ca-c6f9-4ca3-b921-5a7dde627cf1",
   "metadata": {},
   "outputs": [
    {
     "name": "stdout",
     "output_type": "stream",
     "text": [
      "h\n",
      "e\n",
      "l\n",
      "l\n",
      "o\n",
      " \n",
      "t\n",
      "h\n",
      "i\n",
      "s\n",
      " \n",
      "i\n",
      "s\n",
      " \n",
      "s\n",
      "t\n",
      "r\n",
      "i\n",
      "n\n",
      "g\n",
      " \n",
      " \n",
      " \n",
      " \n",
      "h\n",
      "e\n",
      "l\n",
      "l\n",
      "o\n",
      " \n",
      "a\n",
      "g\n",
      "a\n",
      "i\n",
      "n\n",
      "!\n"
     ]
    }
   ],
   "source": [
    "for ch in string:\n",
    "    print(ch)"
   ]
  },
  {
   "cell_type": "code",
   "execution_count": null,
   "id": "11019617-43d9-4b89-b4be-7c6d88478f7a",
   "metadata": {},
   "outputs": [],
   "source": []
  }
 ],
 "metadata": {
  "kernelspec": {
   "display_name": "Python 3 (ipykernel)",
   "language": "python",
   "name": "python3"
  },
  "language_info": {
   "codemirror_mode": {
    "name": "ipython",
    "version": 3
   },
   "file_extension": ".py",
   "mimetype": "text/x-python",
   "name": "python",
   "nbconvert_exporter": "python",
   "pygments_lexer": "ipython3",
   "version": "3.8.3"
  }
 },
 "nbformat": 4,
 "nbformat_minor": 5
}
