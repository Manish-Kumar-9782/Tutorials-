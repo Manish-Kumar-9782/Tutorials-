{
 "cells": [
  {
   "cell_type": "markdown",
   "id": "c3723361-727b-4241-8ab4-c99ae1b8e5c3",
   "metadata": {},
   "source": [
    "# Function\n",
    "\n",
    "`functions:` functions are the block of codes which contain many statements, they defined once and can be used again and again.\n",
    "\n",
    "function need to be called to use its internally defined statements.\n",
    "\n",
    "Note: A function contain function header and body block.\n",
    "\n",
    "```python\n",
    "    def <function name>(parameter list):\n",
    "        # statement\n",
    "        # body of the function.\n",
    "        # statement 1\n",
    "    #statment // this statement is not part of funciton.\n",
    "```"
   ]
  },
  {
   "cell_type": "code",
   "execution_count": 1,
   "id": "774ac0a5-0dfb-4606-a875-339a1b2a9905",
   "metadata": {},
   "outputs": [],
   "source": [
    "def greeting(name):\n",
    "    print(\"Hello \", name, \", how are you\")"
   ]
  },
  {
   "cell_type": "code",
   "execution_count": 2,
   "id": "5e0381d2-a8c6-4fe8-8ab8-4d27908457b6",
   "metadata": {},
   "outputs": [
    {
     "name": "stdout",
     "output_type": "stream",
     "text": [
      "Hello  kushal , how are you\n"
     ]
    }
   ],
   "source": [
    "greeting(\"kushal\")"
   ]
  },
  {
   "cell_type": "code",
   "execution_count": 3,
   "id": "e3caf960-3105-4129-aae4-9bb8e1b3600e",
   "metadata": {},
   "outputs": [
    {
     "name": "stdout",
     "output_type": "stream",
     "text": [
      "Hello  ravi , how are you\n"
     ]
    }
   ],
   "source": [
    "greeting(\"ravi\")"
   ]
  },
  {
   "cell_type": "code",
   "execution_count": 4,
   "id": "931d4e3f-dae3-4ca9-8d3d-089c57ddecbd",
   "metadata": {},
   "outputs": [
    {
     "name": "stdout",
     "output_type": "stream",
     "text": [
      "Hello  hello hello , how are you\n"
     ]
    }
   ],
   "source": [
    "greeting(\"hello hello\")"
   ]
  },
  {
   "cell_type": "markdown",
   "id": "b735df58",
   "metadata": {},
   "source": [
    "If we put number of argument greater than the defined number of parameter, then it will give us and error. "
   ]
  },
  {
   "cell_type": "code",
   "execution_count": 6,
   "id": "9d07852b",
   "metadata": {},
   "outputs": [
    {
     "ename": "TypeError",
     "evalue": "greeting() takes 1 positional argument but 2 were given",
     "output_type": "error",
     "traceback": [
      "\u001b[1;31m---------------------------------------------------------------------------\u001b[0m",
      "\u001b[1;31mTypeError\u001b[0m                                 Traceback (most recent call last)",
      "\u001b[1;32m<ipython-input-6-68e6ca27a251>\u001b[0m in \u001b[0;36m<module>\u001b[1;34m\u001b[0m\n\u001b[1;32m----> 1\u001b[1;33m \u001b[0mgreeting\u001b[0m\u001b[1;33m(\u001b[0m\u001b[1;36m10\u001b[0m\u001b[1;33m,\u001b[0m\u001b[1;36m20\u001b[0m\u001b[1;33m)\u001b[0m\u001b[1;33m\u001b[0m\u001b[1;33m\u001b[0m\u001b[0m\n\u001b[0m",
      "\u001b[1;31mTypeError\u001b[0m: greeting() takes 1 positional argument but 2 were given"
     ]
    }
   ],
   "source": [
    "greeting(10,20)"
   ]
  },
  {
   "cell_type": "markdown",
   "id": "1fbfa879-b3d8-4b06-bfd9-f0b9c7cb485b",
   "metadata": {},
   "source": [
    "Now we are making another function which will have three parameters."
   ]
  },
  {
   "cell_type": "code",
   "execution_count": 7,
   "id": "89b736fb-d103-472a-807d-2ed6e5dd5951",
   "metadata": {},
   "outputs": [],
   "source": [
    "def Description(name, age, course):\n",
    "    \n",
    "    print(\"hello my name is\", name,  \" and i am  \", age , \" years old.\")\n",
    "    print(\"Right now i am doing \", course , \" course.\")"
   ]
  },
  {
   "cell_type": "code",
   "execution_count": 8,
   "id": "0547cad3-6461-468a-b237-9e4c70d17f8e",
   "metadata": {},
   "outputs": [
    {
     "name": "stdout",
     "output_type": "stream",
     "text": [
      "hello my name is kushal  and i am   18  years old.\n",
      "Right now i am doing  python  course.\n"
     ]
    }
   ],
   "source": [
    "Description(\"kushal\", 18, \"python\")"
   ]
  },
  {
   "cell_type": "code",
   "execution_count": 9,
   "id": "79564fc5-1342-4e5d-b54e-c93fece9cc34",
   "metadata": {},
   "outputs": [],
   "source": [
    "def Description2(name, age, course):\n",
    "    \n",
    "    print(\"hello my name is {} and i am {}  years old\".format(name, age))\n",
    "    print(\"Right now i am doing {} course.\".format(course))"
   ]
  },
  {
   "cell_type": "code",
   "execution_count": 10,
   "id": "db85f5ef-2135-4eeb-99e6-7dbcb3de16dd",
   "metadata": {},
   "outputs": [
    {
     "name": "stdout",
     "output_type": "stream",
     "text": [
      "hello my name is Ravi and i am 19  years old\n",
      "Right now i am doing python3.8 course.\n"
     ]
    }
   ],
   "source": [
    "Description2(\"Ravi\", 19, \"python3.8\")"
   ]
  },
  {
   "cell_type": "code",
   "execution_count": 11,
   "id": "b03bc35f-f258-4646-b89c-a0d0bb2c9a71",
   "metadata": {},
   "outputs": [
    {
     "ename": "TypeError",
     "evalue": "Description2() missing 3 required positional arguments: 'name', 'age', and 'course'",
     "output_type": "error",
     "traceback": [
      "\u001b[1;31m---------------------------------------------------------------------------\u001b[0m",
      "\u001b[1;31mTypeError\u001b[0m                                 Traceback (most recent call last)",
      "\u001b[1;32m<ipython-input-11-95145e108a87>\u001b[0m in \u001b[0;36m<module>\u001b[1;34m\u001b[0m\n\u001b[1;32m----> 1\u001b[1;33m \u001b[0mDescription2\u001b[0m\u001b[1;33m(\u001b[0m\u001b[1;33m)\u001b[0m\u001b[1;33m\u001b[0m\u001b[1;33m\u001b[0m\u001b[0m\n\u001b[0m",
      "\u001b[1;31mTypeError\u001b[0m: Description2() missing 3 required positional arguments: 'name', 'age', and 'course'"
     ]
    }
   ],
   "source": [
    "Description2()"
   ]
  },
  {
   "cell_type": "markdown",
   "id": "faa43b68-05da-4d0e-b6fb-fb0acb5d28cb",
   "metadata": {},
   "source": [
    "### Game function "
   ]
  },
  {
   "cell_type": "code",
   "execution_count": 22,
   "id": "b0d965d7-1774-458c-a453-9d0a0475be58",
   "metadata": {},
   "outputs": [],
   "source": [
    "import time , os\n",
    "from IPython.display import clear_output\n",
    "\n",
    "#---------------------------------------------\n",
    "\n",
    "def up(delay_time = 0.5):\n",
    "    clear_output()\n",
    "    \n",
    "def down(delay_time=0.5):\n",
    "    for i in range(1,6):\n",
    "        print(\"-\"*3*i,\"@\", end='\\n')\n",
    "        time.sleep(delay_time)\n",
    "    \n",
    "def forward(delay_time=0.01, steps=200):\n",
    "    \n",
    "    for i in range(1,steps):\n",
    "        \n",
    "        print(\"-\"*i+\"@\",end=\"\\r\")\n",
    "        time.sleep(delay_time)\n",
    "        \n",
    "def backward(delay_time=0.01, steps=200):\n",
    "    \n",
    "    for i in range(1,steps):\n",
    "        reverse_move = steps - i    \n",
    "        print(\"-\"*reverse_move+\"@ \",end=\"\\r\")\n",
    "        time.sleep(delay_time)\n",
    "        \n",
    "def run(delay_time=0.001, steps=200):\n",
    "    forward(delay_time, steps)\n",
    "\n",
    "def walk(delay_time=0.8, steps=10):\n",
    "    forward(delay_time, steps)"
   ]
  },
  {
   "cell_type": "code",
   "execution_count": 23,
   "id": "e63c3e58-f398-4916-a403-bb2233baa72f",
   "metadata": {},
   "outputs": [],
   "source": [
    "def playGame():\n",
    "    \n",
    "    Input = None # initiating the Input variable.\n",
    "    while True:\n",
    "    # valid commands up, down , forward, backword, run, walk.\n",
    "        Input = input(\"cmd: \")\n",
    "\n",
    "\n",
    "        if Input == 'up':\n",
    "            up()\n",
    "\n",
    "        elif Input == \"down\":\n",
    "            down()\n",
    "\n",
    "        elif Input == \"forward\":\n",
    "            forward()\n",
    "\n",
    "        elif Input == \"backward\":\n",
    "            backward()\n",
    "\n",
    "        elif Input == \"run\":\n",
    "            run()\n",
    "\n",
    "        elif Input == \"walk\":\n",
    "            walk()\n",
    "\n",
    "        elif Input == \"quit\":\n",
    "            break\n",
    "        else:\n",
    "            print(\"invalid command...!\")\n",
    "        print(\"\\n\") # \\n new line character"
   ]
  },
  {
   "cell_type": "code",
   "execution_count": null,
   "id": "f87de501-7e9e-48f7-99b8-ed72ddba6e40",
   "metadata": {},
   "outputs": [],
   "source": []
  },
  {
   "cell_type": "code",
   "execution_count": 24,
   "id": "076899a8-d601-4834-b92d-082db933e2eb",
   "metadata": {},
   "outputs": [
    {
     "name": "stdout",
     "output_type": "stream",
     "text": [
      "cmd:  walk\n",
      "---------@\n",
      "\n",
      "cmd:  quit\n"
     ]
    }
   ],
   "source": [
    "playGame()"
   ]
  },
  {
   "cell_type": "markdown",
   "id": "73434874-9a17-4437-88f9-8747d018336d",
   "metadata": {},
   "source": [
    "### A fuction which return a value"
   ]
  },
  {
   "cell_type": "code",
   "execution_count": 26,
   "id": "06048f39-43eb-45ff-84a4-0ed254d4be02",
   "metadata": {},
   "outputs": [],
   "source": [
    "def get_descritption(name, age, course):\n",
    "    \n",
    "    s1 =\"hello my name is {} and i am {}  years old\".format(name, age)\n",
    "    s2 = \"Right now i am doing {} course.\".format(course)\n",
    "    return s1,s2"
   ]
  },
  {
   "cell_type": "code",
   "execution_count": 27,
   "id": "093da0d5-1823-46f4-9b83-ff8bc8ac36be",
   "metadata": {},
   "outputs": [
    {
     "data": {
      "text/plain": [
       "('hello my name is kushal and i am 18  years old',\n",
       " 'Right now i am doing python course.')"
      ]
     },
     "execution_count": 27,
     "metadata": {},
     "output_type": "execute_result"
    }
   ],
   "source": [
    "get_descritption(\"kushal\", 18, \"python\")"
   ]
  },
  {
   "cell_type": "markdown",
   "id": "82c5da44",
   "metadata": {},
   "source": []
  },
  {
   "cell_type": "code",
   "execution_count": null,
   "id": "055292b9-626f-45c1-ae0c-439c27f1147e",
   "metadata": {},
   "outputs": [],
   "source": []
  }
 ],
 "metadata": {
  "kernelspec": {
   "display_name": "Python 3 (ipykernel)",
   "language": "python",
   "name": "python3"
  },
  "language_info": {
   "codemirror_mode": {
    "name": "ipython",
    "version": 3
   },
   "file_extension": ".py",
   "mimetype": "text/x-python",
   "name": "python",
   "nbconvert_exporter": "python",
   "pygments_lexer": "ipython3",
   "version": "3.10.5"
  },
  "vscode": {
   "interpreter": {
    "hash": "afd0db894830fbeba69dc85c9ab5deb559c9a500a7d43d200583d4795b903711"
   }
  }
 },
 "nbformat": 4,
 "nbformat_minor": 5
}
