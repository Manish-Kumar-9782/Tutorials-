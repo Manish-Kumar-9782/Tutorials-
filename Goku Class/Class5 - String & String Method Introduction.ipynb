{
 "cells": [
  {
   "cell_type": "markdown",
   "id": "906d4fce-4e37-4fbe-9963-9268b1da7df3",
   "metadata": {},
   "source": [
    "### String Method and Functionality\n",
    "\n",
    "In this section we will see different method of string and try to see the use of these methods."
   ]
  },
  {
   "cell_type": "code",
   "execution_count": 1,
   "id": "fca7a177-67f7-43b8-9e92-13039e777a53",
   "metadata": {},
   "outputs": [
    {
     "name": "stdout",
     "output_type": "stream",
     "text": [
      "Help on class str in module builtins:\n",
      "\n",
      "class str(object)\n",
      " |  str(object='') -> str\n",
      " |  str(bytes_or_buffer[, encoding[, errors]]) -> str\n",
      " |  \n",
      " |  Create a new string object from the given object. If encoding or\n",
      " |  errors is specified, then the object must expose a data buffer\n",
      " |  that will be decoded using the given encoding and error handler.\n",
      " |  Otherwise, returns the result of object.__str__() (if defined)\n",
      " |  or repr(object).\n",
      " |  encoding defaults to sys.getdefaultencoding().\n",
      " |  errors defaults to 'strict'.\n",
      " |  \n",
      " |  Methods defined here:\n",
      " |  \n",
      " |  __add__(self, value, /)\n",
      " |      Return self+value.\n",
      " |  \n",
      " |  __contains__(self, key, /)\n",
      " |      Return key in self.\n",
      " |  \n",
      " |  __eq__(self, value, /)\n",
      " |      Return self==value.\n",
      " |  \n",
      " |  __format__(self, format_spec, /)\n",
      " |      Return a formatted version of the string as described by format_spec.\n",
      " |  \n",
      " |  __ge__(self, value, /)\n",
      " |      Return self>=value.\n",
      " |  \n",
      " |  __getattribute__(self, name, /)\n",
      " |      Return getattr(self, name).\n",
      " |  \n",
      " |  __getitem__(self, key, /)\n",
      " |      Return self[key].\n",
      " |  \n",
      " |  __getnewargs__(...)\n",
      " |  \n",
      " |  __gt__(self, value, /)\n",
      " |      Return self>value.\n",
      " |  \n",
      " |  __hash__(self, /)\n",
      " |      Return hash(self).\n",
      " |  \n",
      " |  __iter__(self, /)\n",
      " |      Implement iter(self).\n",
      " |  \n",
      " |  __le__(self, value, /)\n",
      " |      Return self<=value.\n",
      " |  \n",
      " |  __len__(self, /)\n",
      " |      Return len(self).\n",
      " |  \n",
      " |  __lt__(self, value, /)\n",
      " |      Return self<value.\n",
      " |  \n",
      " |  __mod__(self, value, /)\n",
      " |      Return self%value.\n",
      " |  \n",
      " |  __mul__(self, value, /)\n",
      " |      Return self*value.\n",
      " |  \n",
      " |  __ne__(self, value, /)\n",
      " |      Return self!=value.\n",
      " |  \n",
      " |  __repr__(self, /)\n",
      " |      Return repr(self).\n",
      " |  \n",
      " |  __rmod__(self, value, /)\n",
      " |      Return value%self.\n",
      " |  \n",
      " |  __rmul__(self, value, /)\n",
      " |      Return value*self.\n",
      " |  \n",
      " |  __sizeof__(self, /)\n",
      " |      Return the size of the string in memory, in bytes.\n",
      " |  \n",
      " |  __str__(self, /)\n",
      " |      Return str(self).\n",
      " |  \n",
      " |  capitalize(self, /)\n",
      " |      Return a capitalized version of the string.\n",
      " |      \n",
      " |      More specifically, make the first character have upper case and the rest lower\n",
      " |      case.\n",
      " |  \n",
      " |  casefold(self, /)\n",
      " |      Return a version of the string suitable for caseless comparisons.\n",
      " |  \n",
      " |  center(self, width, fillchar=' ', /)\n",
      " |      Return a centered string of length width.\n",
      " |      \n",
      " |      Padding is done using the specified fill character (default is a space).\n",
      " |  \n",
      " |  count(...)\n",
      " |      S.count(sub[, start[, end]]) -> int\n",
      " |      \n",
      " |      Return the number of non-overlapping occurrences of substring sub in\n",
      " |      string S[start:end].  Optional arguments start and end are\n",
      " |      interpreted as in slice notation.\n",
      " |  \n",
      " |  encode(self, /, encoding='utf-8', errors='strict')\n",
      " |      Encode the string using the codec registered for encoding.\n",
      " |      \n",
      " |      encoding\n",
      " |        The encoding in which to encode the string.\n",
      " |      errors\n",
      " |        The error handling scheme to use for encoding errors.\n",
      " |        The default is 'strict' meaning that encoding errors raise a\n",
      " |        UnicodeEncodeError.  Other possible values are 'ignore', 'replace' and\n",
      " |        'xmlcharrefreplace' as well as any other name registered with\n",
      " |        codecs.register_error that can handle UnicodeEncodeErrors.\n",
      " |  \n",
      " |  endswith(...)\n",
      " |      S.endswith(suffix[, start[, end]]) -> bool\n",
      " |      \n",
      " |      Return True if S ends with the specified suffix, False otherwise.\n",
      " |      With optional start, test S beginning at that position.\n",
      " |      With optional end, stop comparing S at that position.\n",
      " |      suffix can also be a tuple of strings to try.\n",
      " |  \n",
      " |  expandtabs(self, /, tabsize=8)\n",
      " |      Return a copy where all tab characters are expanded using spaces.\n",
      " |      \n",
      " |      If tabsize is not given, a tab size of 8 characters is assumed.\n",
      " |  \n",
      " |  find(...)\n",
      " |      S.find(sub[, start[, end]]) -> int\n",
      " |      \n",
      " |      Return the lowest index in S where substring sub is found,\n",
      " |      such that sub is contained within S[start:end].  Optional\n",
      " |      arguments start and end are interpreted as in slice notation.\n",
      " |      \n",
      " |      Return -1 on failure.\n",
      " |  \n",
      " |  format(...)\n",
      " |      S.format(*args, **kwargs) -> str\n",
      " |      \n",
      " |      Return a formatted version of S, using substitutions from args and kwargs.\n",
      " |      The substitutions are identified by braces ('{' and '}').\n",
      " |  \n",
      " |  format_map(...)\n",
      " |      S.format_map(mapping) -> str\n",
      " |      \n",
      " |      Return a formatted version of S, using substitutions from mapping.\n",
      " |      The substitutions are identified by braces ('{' and '}').\n",
      " |  \n",
      " |  index(...)\n",
      " |      S.index(sub[, start[, end]]) -> int\n",
      " |      \n",
      " |      Return the lowest index in S where substring sub is found,\n",
      " |      such that sub is contained within S[start:end].  Optional\n",
      " |      arguments start and end are interpreted as in slice notation.\n",
      " |      \n",
      " |      Raises ValueError when the substring is not found.\n",
      " |  \n",
      " |  isalnum(self, /)\n",
      " |      Return True if the string is an alpha-numeric string, False otherwise.\n",
      " |      \n",
      " |      A string is alpha-numeric if all characters in the string are alpha-numeric and\n",
      " |      there is at least one character in the string.\n",
      " |  \n",
      " |  isalpha(self, /)\n",
      " |      Return True if the string is an alphabetic string, False otherwise.\n",
      " |      \n",
      " |      A string is alphabetic if all characters in the string are alphabetic and there\n",
      " |      is at least one character in the string.\n",
      " |  \n",
      " |  isascii(self, /)\n",
      " |      Return True if all characters in the string are ASCII, False otherwise.\n",
      " |      \n",
      " |      ASCII characters have code points in the range U+0000-U+007F.\n",
      " |      Empty string is ASCII too.\n",
      " |  \n",
      " |  isdecimal(self, /)\n",
      " |      Return True if the string is a decimal string, False otherwise.\n",
      " |      \n",
      " |      A string is a decimal string if all characters in the string are decimal and\n",
      " |      there is at least one character in the string.\n",
      " |  \n",
      " |  isdigit(self, /)\n",
      " |      Return True if the string is a digit string, False otherwise.\n",
      " |      \n",
      " |      A string is a digit string if all characters in the string are digits and there\n",
      " |      is at least one character in the string.\n",
      " |  \n",
      " |  isidentifier(self, /)\n",
      " |      Return True if the string is a valid Python identifier, False otherwise.\n",
      " |      \n",
      " |      Call keyword.iskeyword(s) to test whether string s is a reserved identifier,\n",
      " |      such as \"def\" or \"class\".\n",
      " |  \n",
      " |  islower(self, /)\n",
      " |      Return True if the string is a lowercase string, False otherwise.\n",
      " |      \n",
      " |      A string is lowercase if all cased characters in the string are lowercase and\n",
      " |      there is at least one cased character in the string.\n",
      " |  \n",
      " |  isnumeric(self, /)\n",
      " |      Return True if the string is a numeric string, False otherwise.\n",
      " |      \n",
      " |      A string is numeric if all characters in the string are numeric and there is at\n",
      " |      least one character in the string.\n",
      " |  \n",
      " |  isprintable(self, /)\n",
      " |      Return True if the string is printable, False otherwise.\n",
      " |      \n",
      " |      A string is printable if all of its characters are considered printable in\n",
      " |      repr() or if it is empty.\n",
      " |  \n",
      " |  isspace(self, /)\n",
      " |      Return True if the string is a whitespace string, False otherwise.\n",
      " |      \n",
      " |      A string is whitespace if all characters in the string are whitespace and there\n",
      " |      is at least one character in the string.\n",
      " |  \n",
      " |  istitle(self, /)\n",
      " |      Return True if the string is a title-cased string, False otherwise.\n",
      " |      \n",
      " |      In a title-cased string, upper- and title-case characters may only\n",
      " |      follow uncased characters and lowercase characters only cased ones.\n",
      " |  \n",
      " |  isupper(self, /)\n",
      " |      Return True if the string is an uppercase string, False otherwise.\n",
      " |      \n",
      " |      A string is uppercase if all cased characters in the string are uppercase and\n",
      " |      there is at least one cased character in the string.\n",
      " |  \n",
      " |  join(self, iterable, /)\n",
      " |      Concatenate any number of strings.\n",
      " |      \n",
      " |      The string whose method is called is inserted in between each given string.\n",
      " |      The result is returned as a new string.\n",
      " |      \n",
      " |      Example: '.'.join(['ab', 'pq', 'rs']) -> 'ab.pq.rs'\n",
      " |  \n",
      " |  ljust(self, width, fillchar=' ', /)\n",
      " |      Return a left-justified string of length width.\n",
      " |      \n",
      " |      Padding is done using the specified fill character (default is a space).\n",
      " |  \n",
      " |  lower(self, /)\n",
      " |      Return a copy of the string converted to lowercase.\n",
      " |  \n",
      " |  lstrip(self, chars=None, /)\n",
      " |      Return a copy of the string with leading whitespace removed.\n",
      " |      \n",
      " |      If chars is given and not None, remove characters in chars instead.\n",
      " |  \n",
      " |  partition(self, sep, /)\n",
      " |      Partition the string into three parts using the given separator.\n",
      " |      \n",
      " |      This will search for the separator in the string.  If the separator is found,\n",
      " |      returns a 3-tuple containing the part before the separator, the separator\n",
      " |      itself, and the part after it.\n",
      " |      \n",
      " |      If the separator is not found, returns a 3-tuple containing the original string\n",
      " |      and two empty strings.\n",
      " |  \n",
      " |  replace(self, old, new, count=-1, /)\n",
      " |      Return a copy with all occurrences of substring old replaced by new.\n",
      " |      \n",
      " |        count\n",
      " |          Maximum number of occurrences to replace.\n",
      " |          -1 (the default value) means replace all occurrences.\n",
      " |      \n",
      " |      If the optional argument count is given, only the first count occurrences are\n",
      " |      replaced.\n",
      " |  \n",
      " |  rfind(...)\n",
      " |      S.rfind(sub[, start[, end]]) -> int\n",
      " |      \n",
      " |      Return the highest index in S where substring sub is found,\n",
      " |      such that sub is contained within S[start:end].  Optional\n",
      " |      arguments start and end are interpreted as in slice notation.\n",
      " |      \n",
      " |      Return -1 on failure.\n",
      " |  \n",
      " |  rindex(...)\n",
      " |      S.rindex(sub[, start[, end]]) -> int\n",
      " |      \n",
      " |      Return the highest index in S where substring sub is found,\n",
      " |      such that sub is contained within S[start:end].  Optional\n",
      " |      arguments start and end are interpreted as in slice notation.\n",
      " |      \n",
      " |      Raises ValueError when the substring is not found.\n",
      " |  \n",
      " |  rjust(self, width, fillchar=' ', /)\n",
      " |      Return a right-justified string of length width.\n",
      " |      \n",
      " |      Padding is done using the specified fill character (default is a space).\n",
      " |  \n",
      " |  rpartition(self, sep, /)\n",
      " |      Partition the string into three parts using the given separator.\n",
      " |      \n",
      " |      This will search for the separator in the string, starting at the end. If\n",
      " |      the separator is found, returns a 3-tuple containing the part before the\n",
      " |      separator, the separator itself, and the part after it.\n",
      " |      \n",
      " |      If the separator is not found, returns a 3-tuple containing two empty strings\n",
      " |      and the original string.\n",
      " |  \n",
      " |  rsplit(self, /, sep=None, maxsplit=-1)\n",
      " |      Return a list of the words in the string, using sep as the delimiter string.\n",
      " |      \n",
      " |        sep\n",
      " |          The delimiter according which to split the string.\n",
      " |          None (the default value) means split according to any whitespace,\n",
      " |          and discard empty strings from the result.\n",
      " |        maxsplit\n",
      " |          Maximum number of splits to do.\n",
      " |          -1 (the default value) means no limit.\n",
      " |      \n",
      " |      Splits are done starting at the end of the string and working to the front.\n",
      " |  \n",
      " |  rstrip(self, chars=None, /)\n",
      " |      Return a copy of the string with trailing whitespace removed.\n",
      " |      \n",
      " |      If chars is given and not None, remove characters in chars instead.\n",
      " |  \n",
      " |  split(self, /, sep=None, maxsplit=-1)\n",
      " |      Return a list of the words in the string, using sep as the delimiter string.\n",
      " |      \n",
      " |      sep\n",
      " |        The delimiter according which to split the string.\n",
      " |        None (the default value) means split according to any whitespace,\n",
      " |        and discard empty strings from the result.\n",
      " |      maxsplit\n",
      " |        Maximum number of splits to do.\n",
      " |        -1 (the default value) means no limit.\n",
      " |  \n",
      " |  splitlines(self, /, keepends=False)\n",
      " |      Return a list of the lines in the string, breaking at line boundaries.\n",
      " |      \n",
      " |      Line breaks are not included in the resulting list unless keepends is given and\n",
      " |      true.\n",
      " |  \n",
      " |  startswith(...)\n",
      " |      S.startswith(prefix[, start[, end]]) -> bool\n",
      " |      \n",
      " |      Return True if S starts with the specified prefix, False otherwise.\n",
      " |      With optional start, test S beginning at that position.\n",
      " |      With optional end, stop comparing S at that position.\n",
      " |      prefix can also be a tuple of strings to try.\n",
      " |  \n",
      " |  strip(self, chars=None, /)\n",
      " |      Return a copy of the string with leading and trailing whitespace removed.\n",
      " |      \n",
      " |      If chars is given and not None, remove characters in chars instead.\n",
      " |  \n",
      " |  swapcase(self, /)\n",
      " |      Convert uppercase characters to lowercase and lowercase characters to uppercase.\n",
      " |  \n",
      " |  title(self, /)\n",
      " |      Return a version of the string where each word is titlecased.\n",
      " |      \n",
      " |      More specifically, words start with uppercased characters and all remaining\n",
      " |      cased characters have lower case.\n",
      " |  \n",
      " |  translate(self, table, /)\n",
      " |      Replace each character in the string using the given translation table.\n",
      " |      \n",
      " |        table\n",
      " |          Translation table, which must be a mapping of Unicode ordinals to\n",
      " |          Unicode ordinals, strings, or None.\n",
      " |      \n",
      " |      The table must implement lookup/indexing via __getitem__, for instance a\n",
      " |      dictionary or list.  If this operation raises LookupError, the character is\n",
      " |      left untouched.  Characters mapped to None are deleted.\n",
      " |  \n",
      " |  upper(self, /)\n",
      " |      Return a copy of the string converted to uppercase.\n",
      " |  \n",
      " |  zfill(self, width, /)\n",
      " |      Pad a numeric string with zeros on the left, to fill a field of the given width.\n",
      " |      \n",
      " |      The string is never truncated.\n",
      " |  \n",
      " |  ----------------------------------------------------------------------\n",
      " |  Static methods defined here:\n",
      " |  \n",
      " |  __new__(*args, **kwargs) from builtins.type\n",
      " |      Create and return a new object.  See help(type) for accurate signature.\n",
      " |  \n",
      " |  maketrans(...)\n",
      " |      Return a translation table usable for str.translate().\n",
      " |      \n",
      " |      If there is only one argument, it must be a dictionary mapping Unicode\n",
      " |      ordinals (integers) or characters to Unicode ordinals, strings or None.\n",
      " |      Character keys will be then converted to ordinals.\n",
      " |      If there are two arguments, they must be strings of equal length, and\n",
      " |      in the resulting dictionary, each character in x will be mapped to the\n",
      " |      character at the same position in y. If there is a third argument, it\n",
      " |      must be a string, whose characters will be mapped to None in the result.\n",
      "\n"
     ]
    }
   ],
   "source": [
    "help(str)"
   ]
  },
  {
   "cell_type": "markdown",
   "id": "a2bc4d68-7aae-4615-bd5e-fa0dfaccfd71",
   "metadata": {},
   "source": [
    "**Mostly used String Methods**\n",
    "\n",
    "* isupper()\n",
    "* islower()\n",
    "* upper()\n",
    "* lower()\n",
    "* index()\n",
    "* find()\n",
    "* replace()\n",
    "* strip()\n",
    "* join()\n",
    "* split()\n",
    "* format()"
   ]
  },
  {
   "cell_type": "markdown",
   "id": "da4a127b-a637-4ef1-9f6f-6f86b1f76a19",
   "metadata": {},
   "source": [
    "#### upper(), lower(), isupper(), islower()\n",
    "\n",
    "* upper() it will convert our string into uppercase -> return string\n",
    "* lower() it will convert our string into lowercase -> return string\n",
    "* isupper() it will check that a string is in uppercase -> return Boolean \n",
    "* islower() it iwll check that a string is in lowercase -> return Boolean"
   ]
  },
  {
   "cell_type": "code",
   "execution_count": 2,
   "id": "ae872eee-2cbd-40be-a68a-3eb5918e4db7",
   "metadata": {},
   "outputs": [],
   "source": [
    "name = \"manish\""
   ]
  },
  {
   "cell_type": "code",
   "execution_count": 3,
   "id": "6e19b7d9-0c4a-4191-9ca3-7bcfa2b636d7",
   "metadata": {},
   "outputs": [
    {
     "data": {
      "text/plain": [
       "'MANISH'"
      ]
     },
     "execution_count": 3,
     "metadata": {},
     "output_type": "execute_result"
    }
   ],
   "source": [
    "name.upper()"
   ]
  },
  {
   "cell_type": "code",
   "execution_count": 4,
   "id": "65a63a09-b938-40e6-8695-759fa4bedbdc",
   "metadata": {},
   "outputs": [],
   "source": [
    "# if we have first character as upper in a word\n",
    "name = \"Manish\""
   ]
  },
  {
   "cell_type": "code",
   "execution_count": 5,
   "id": "95d99c14-1023-42de-86a4-f8fb7e82b30b",
   "metadata": {},
   "outputs": [
    {
     "data": {
      "text/plain": [
       "'manish'"
      ]
     },
     "execution_count": 5,
     "metadata": {},
     "output_type": "execute_result"
    }
   ],
   "source": [
    "name.lower() # Manish Kumar"
   ]
  },
  {
   "cell_type": "markdown",
   "id": "b6597a6a-f5e7-4db7-b45d-db78bffa2c4d",
   "metadata": {},
   "source": [
    "***checking that a string is upper or lower***"
   ]
  },
  {
   "cell_type": "code",
   "execution_count": 6,
   "id": "ebae448b-a095-471d-bd11-ace6277ad031",
   "metadata": {},
   "outputs": [
    {
     "data": {
      "text/plain": [
       "False"
      ]
     },
     "execution_count": 6,
     "metadata": {},
     "output_type": "execute_result"
    }
   ],
   "source": [
    "name.isupper()"
   ]
  },
  {
   "cell_type": "code",
   "execution_count": 14,
   "id": "d9e74918-f295-4cb5-929f-347542e1b983",
   "metadata": {},
   "outputs": [],
   "source": [
    "Name = name.upper()"
   ]
  },
  {
   "cell_type": "code",
   "execution_count": 15,
   "id": "5b3f04eb-8543-42ce-856d-ac85df8f2fe6",
   "metadata": {},
   "outputs": [
    {
     "data": {
      "text/plain": [
       "'MANISH'"
      ]
     },
     "execution_count": 15,
     "metadata": {},
     "output_type": "execute_result"
    }
   ],
   "source": [
    "Name"
   ]
  },
  {
   "cell_type": "code",
   "execution_count": 16,
   "id": "b7fc4848-fb70-4023-b3ce-4a9eaa575ae1",
   "metadata": {},
   "outputs": [
    {
     "data": {
      "text/plain": [
       "True"
      ]
     },
     "execution_count": 16,
     "metadata": {},
     "output_type": "execute_result"
    }
   ],
   "source": [
    "Name.isupper()"
   ]
  },
  {
   "cell_type": "code",
   "execution_count": 17,
   "id": "6e417638-1eef-4e11-88c6-c7d449ccfa19",
   "metadata": {},
   "outputs": [
    {
     "data": {
      "text/plain": [
       "False"
      ]
     },
     "execution_count": 17,
     "metadata": {},
     "output_type": "execute_result"
    }
   ],
   "source": [
    "# checking that our string is in lower case\n",
    "Name.islower()"
   ]
  },
  {
   "cell_type": "code",
   "execution_count": 18,
   "id": "76266f60-1b80-4225-b670-61252560e1f9",
   "metadata": {},
   "outputs": [
    {
     "data": {
      "text/plain": [
       "False"
      ]
     },
     "execution_count": 18,
     "metadata": {},
     "output_type": "execute_result"
    }
   ],
   "source": [
    "name.islower()"
   ]
  },
  {
   "cell_type": "markdown",
   "id": "3763e701-6835-4d4c-8f80-1e143448f14e",
   "metadata": {},
   "source": [
    "#### index(), find(), replace()\n",
    "\n",
    "* index(): it will return the index of the first match of string/substing..\n",
    "* find(): it will return the index of the first match of string/substring.\n",
    "* replace(): it will replace our substring with the given value\n"
   ]
  },
  {
   "cell_type": "code",
   "execution_count": 19,
   "id": "6d14ed9b-74fb-4c8c-b22a-4a95c81bd887",
   "metadata": {},
   "outputs": [
    {
     "data": {
      "text/plain": [
       "'Manish'"
      ]
     },
     "execution_count": 19,
     "metadata": {},
     "output_type": "execute_result"
    }
   ],
   "source": [
    "name"
   ]
  },
  {
   "cell_type": "code",
   "execution_count": 21,
   "id": "30dca465-ab2e-404a-91a3-d6fc5bf50c65",
   "metadata": {},
   "outputs": [
    {
     "ename": "ValueError",
     "evalue": "substring not found",
     "output_type": "error",
     "traceback": [
      "\u001b[1;31m---------------------------------------------------------------------------\u001b[0m",
      "\u001b[1;31mValueError\u001b[0m                                Traceback (most recent call last)",
      "Input \u001b[1;32mIn [21]\u001b[0m, in \u001b[0;36m<cell line: 1>\u001b[1;34m()\u001b[0m\n\u001b[1;32m----> 1\u001b[0m \u001b[43mname\u001b[49m\u001b[38;5;241;43m.\u001b[39;49m\u001b[43mindex\u001b[49m\u001b[43m(\u001b[49m\u001b[38;5;124;43m\"\u001b[39;49m\u001b[38;5;124;43mx\u001b[39;49m\u001b[38;5;124;43m\"\u001b[39;49m\u001b[43m)\u001b[49m\n",
      "\u001b[1;31mValueError\u001b[0m: substring not found"
     ]
    }
   ],
   "source": [
    "name.index(\"x\")"
   ]
  },
  {
   "cell_type": "markdown",
   "id": "de66e42b-0c32-42bd-a305-603778719eac",
   "metadata": {},
   "source": [
    "it return a index number of first character of substring if it is present in the original string else it will raise ValueError."
   ]
  },
  {
   "cell_type": "code",
   "execution_count": 24,
   "id": "03f8902a-f657-4164-b30d-3624ceab68aa",
   "metadata": {},
   "outputs": [],
   "source": [
    "desc= \"Hello! this is python class and i love python!\""
   ]
  },
  {
   "cell_type": "code",
   "execution_count": 32,
   "id": "cdb01a3e-0edf-410e-a100-cb9ce9e95019",
   "metadata": {},
   "outputs": [
    {
     "data": {
      "text/plain": [
       "34"
      ]
     },
     "execution_count": 32,
     "metadata": {},
     "output_type": "execute_result"
    }
   ],
   "source": [
    "desc.index(\"love\")"
   ]
  },
  {
   "cell_type": "code",
   "execution_count": 33,
   "id": "604beabe-cd0f-4c85-a0a8-303832fc6857",
   "metadata": {},
   "outputs": [
    {
     "data": {
      "text/plain": [
       "'l'"
      ]
     },
     "execution_count": 33,
     "metadata": {},
     "output_type": "execute_result"
    }
   ],
   "source": [
    "desc[34]"
   ]
  },
  {
   "cell_type": "markdown",
   "id": "9421d0d3-db9e-430b-8501-4960e8bb490b",
   "metadata": {},
   "source": [
    "Note: There is difference in `index()` method and `find()` method.\n",
    "\n",
    "-> if our string/substring is not present in our original string then `index()` method will raise ValueError.\n",
    "\n",
    "-> if string not present, `find()` method will return -1."
   ]
  },
  {
   "cell_type": "code",
   "execution_count": 35,
   "id": "735a50c6-7e93-4167-95f3-ccafcd658777",
   "metadata": {},
   "outputs": [
    {
     "data": {
      "text/plain": [
       "34"
      ]
     },
     "execution_count": 35,
     "metadata": {},
     "output_type": "execute_result"
    }
   ],
   "source": [
    "decs.find(\"love\")"
   ]
  },
  {
   "cell_type": "code",
   "execution_count": 45,
   "id": "5a43ac58-31f2-43d7-91a2-da48fefa219d",
   "metadata": {},
   "outputs": [
    {
     "name": "stdout",
     "output_type": "stream",
     "text": [
      "if statement\n",
      "Hello! this is python class and i hate python!\n",
      "Replaced\n"
     ]
    }
   ],
   "source": [
    "if decs.find(\"love\") != -1:\n",
    "    # if return number is not equal to -1 then if statement will run\n",
    "    print(\"if statement\")\n",
    "        \n",
    "    print(decs.replace(\"love\", \"hate\"))\n",
    "    print(\"Replaced\")\n",
    "else:\n",
    "    # if return number is  equal to -1 then else statement will run\n",
    "    print(\"else statement\")\n",
    "    print(\"not replaced!\")"
   ]
  },
  {
   "cell_type": "code",
   "execution_count": 40,
   "id": "1f999f3b-b46f-44d6-8916-18165635592f",
   "metadata": {},
   "outputs": [
    {
     "data": {
      "text/plain": [
       "'Hello! this is python class and i love python!'"
      ]
     },
     "execution_count": 40,
     "metadata": {},
     "output_type": "execute_result"
    }
   ],
   "source": [
    "decs"
   ]
  },
  {
   "cell_type": "code",
   "execution_count": 42,
   "id": "e8313113-8513-4933-8983-251f3c24b2e2",
   "metadata": {},
   "outputs": [
    {
     "data": {
      "text/plain": [
       "'Hello! this is python class and i love python!'"
      ]
     },
     "execution_count": 42,
     "metadata": {},
     "output_type": "execute_result"
    }
   ],
   "source": [
    "decs.replace(\"hate\", \"love\")"
   ]
  },
  {
   "cell_type": "code",
   "execution_count": 43,
   "id": "74c39c51-2a87-4f57-b2cd-2d065cbd0627",
   "metadata": {},
   "outputs": [],
   "source": [
    "word = \"Hey man\""
   ]
  },
  {
   "cell_type": "code",
   "execution_count": 44,
   "id": "8054e4b5-7552-4c25-9009-3f88ac55c9ff",
   "metadata": {},
   "outputs": [
    {
     "data": {
      "text/plain": [
       "'Hey man'"
      ]
     },
     "execution_count": 44,
     "metadata": {},
     "output_type": "execute_result"
    }
   ],
   "source": [
    "word.replace(\"bondhu\", \"crazy\")"
   ]
  },
  {
   "cell_type": "markdown",
   "id": "1b686599-d818-4ee5-9c90-107085e32153",
   "metadata": {},
   "source": [
    "#### strip(), split(), join(), format() "
   ]
  },
  {
   "cell_type": "markdown",
   "id": "e6fd3c2f-f66b-4b5a-8d9b-0c8f9d442268",
   "metadata": {},
   "source": [
    "**strip() method()**"
   ]
  },
  {
   "cell_type": "code",
   "execution_count": 1,
   "id": "823a97c1-6e0d-4f52-9e6c-f67cae06cc50",
   "metadata": {},
   "outputs": [
    {
     "name": "stdout",
     "output_type": "stream",
     "text": [
      "Help on method_descriptor:\n",
      "\n",
      "strip(self, chars=None, /)\n",
      "    Return a copy of the string with leading and trailing whitespace removed.\n",
      "    \n",
      "    If chars is given and not None, remove characters in chars instead.\n",
      "\n"
     ]
    }
   ],
   "source": [
    "help(str.strip)"
   ]
  },
  {
   "cell_type": "code",
   "execution_count": 2,
   "id": "250696c4-27a4-48ae-8777-20827100b733",
   "metadata": {},
   "outputs": [],
   "source": [
    "line = \"   hello this is python   class  !   \""
   ]
  },
  {
   "cell_type": "markdown",
   "id": "04de03ef-1a99-4444-80d8-cc0467f94af9",
   "metadata": {},
   "source": [
    "by default strip will remove all the extra space from both end of the string."
   ]
  },
  {
   "cell_type": "code",
   "execution_count": 3,
   "id": "09040faf-59c4-4d40-995d-0d238f666182",
   "metadata": {},
   "outputs": [
    {
     "data": {
      "text/plain": [
       "'hello this is python   class  !'"
      ]
     },
     "execution_count": 3,
     "metadata": {},
     "output_type": "execute_result"
    }
   ],
   "source": [
    "line.strip()"
   ]
  },
  {
   "cell_type": "code",
   "execution_count": 4,
   "id": "cd88d979-84dc-4415-b5e3-ad1908d4b7da",
   "metadata": {},
   "outputs": [],
   "source": [
    "line = \"xxxHelloxxx\""
   ]
  },
  {
   "cell_type": "code",
   "execution_count": 6,
   "id": "ec5707cb-12d8-4fd6-a452-ae824431e0af",
   "metadata": {},
   "outputs": [
    {
     "data": {
      "text/plain": [
       "'Hello'"
      ]
     },
     "execution_count": 6,
     "metadata": {},
     "output_type": "execute_result"
    }
   ],
   "source": [
    "line.strip(\"x\")\n",
    "# removeing all the x from the both leading edages of string."
   ]
  },
  {
   "cell_type": "code",
   "execution_count": 7,
   "id": "03ee3ecb-218f-41d3-b0b1-cfdb00f0228b",
   "metadata": {},
   "outputs": [
    {
     "data": {
      "text/plain": [
       "'xxxHelloxxx'"
      ]
     },
     "execution_count": 7,
     "metadata": {},
     "output_type": "execute_result"
    }
   ],
   "source": [
    "line"
   ]
  },
  {
   "cell_type": "code",
   "execution_count": 1,
   "id": "d8c3f663-20dd-452e-9939-d1fb52da4551",
   "metadata": {},
   "outputs": [],
   "source": [
    "word = \"--left-right-yellow--x---\""
   ]
  },
  {
   "cell_type": "code",
   "execution_count": 2,
   "id": "508e1743-7c6f-4133-92f1-b4bbfb9fdbae",
   "metadata": {},
   "outputs": [
    {
     "data": {
      "text/plain": [
       "'left-right-yellow--x'"
      ]
     },
     "execution_count": 2,
     "metadata": {},
     "output_type": "execute_result"
    }
   ],
   "source": [
    "word.strip('-')"
   ]
  },
  {
   "cell_type": "markdown",
   "id": "09c4e2cf-5707-4086-ab27-adf14b24e40b",
   "metadata": {},
   "source": [
    "Note: if we want to update our `line` variable with the output then we need to assign the output of the strip() method to the line variable. "
   ]
  },
  {
   "cell_type": "code",
   "execution_count": 10,
   "id": "2094dec3-ce95-4660-97f0-3561719d6486",
   "metadata": {},
   "outputs": [],
   "source": [
    "line = line.strip(\"x\")"
   ]
  },
  {
   "cell_type": "code",
   "execution_count": 11,
   "id": "fabde072-5af6-4afa-9c37-9b4e6a74f60a",
   "metadata": {},
   "outputs": [
    {
     "data": {
      "text/plain": [
       "'Hello'"
      ]
     },
     "execution_count": 11,
     "metadata": {},
     "output_type": "execute_result"
    }
   ],
   "source": [
    "line"
   ]
  },
  {
   "cell_type": "markdown",
   "id": "cedd6540-68e1-448f-884b-05e67d3d476f",
   "metadata": {},
   "source": [
    "**split() method**\n"
   ]
  },
  {
   "cell_type": "code",
   "execution_count": 12,
   "id": "b200ce9c-a504-4480-9eb9-702cf8a768d0",
   "metadata": {},
   "outputs": [
    {
     "name": "stdout",
     "output_type": "stream",
     "text": [
      "Help on method_descriptor:\n",
      "\n",
      "split(self, /, sep=None, maxsplit=-1)\n",
      "    Return a list of the words in the string, using sep as the delimiter string.\n",
      "    \n",
      "    sep\n",
      "      The delimiter according which to split the string.\n",
      "      None (the default value) means split according to any whitespace,\n",
      "      and discard empty strings from the result.\n",
      "    maxsplit\n",
      "      Maximum number of splits to do.\n",
      "      -1 (the default value) means no limit.\n",
      "\n"
     ]
    }
   ],
   "source": [
    "help(str.split)"
   ]
  },
  {
   "cell_type": "code",
   "execution_count": 3,
   "id": "297a34f1-1b29-42ee-8d94-b8f2060ed53d",
   "metadata": {},
   "outputs": [],
   "source": [
    "word = \"--left-right-yellow--x---\""
   ]
  },
  {
   "cell_type": "code",
   "execution_count": 4,
   "id": "54e1ff2d-f8c3-41c5-af1c-a67432954d54",
   "metadata": {},
   "outputs": [
    {
     "data": {
      "text/plain": [
       "['', '', 'left', 'right', 'yellow', '', 'x', '', '', '']"
      ]
     },
     "execution_count": 4,
     "metadata": {},
     "output_type": "execute_result"
    }
   ],
   "source": [
    "word.split('-')"
   ]
  },
  {
   "cell_type": "code",
   "execution_count": 20,
   "id": "09e59b87-08a4-41fe-aadc-6245c583e3ad",
   "metadata": {},
   "outputs": [],
   "source": [
    "line1 = \"First Name,Last Name,Age,Blood Group\"\n",
    "#------------------------------------------------#\n",
    "line2 = \"Manish,Kumar,26,O-Negative\"\n",
    "line3 = \"Joyti,Saini,31,A-Positive\"\n",
    "line4 = \"Sagar,Soni,26,O-Positive\"\n",
    "line5 = \"Rahul,Kumar,21,O-Negative\""
   ]
  },
  {
   "cell_type": "code",
   "execution_count": 14,
   "id": "0649c332-1fc9-441b-b339-0e7a817a2fe5",
   "metadata": {},
   "outputs": [
    {
     "data": {
      "text/plain": [
       "['First Name', 'Last Name', 'Age', 'Blood Group']"
      ]
     },
     "execution_count": 14,
     "metadata": {},
     "output_type": "execute_result"
    }
   ],
   "source": [
    "line.split(\",\")"
   ]
  },
  {
   "cell_type": "code",
   "execution_count": 15,
   "id": "fb1434c0-d4a7-4439-9f47-201b546fbeab",
   "metadata": {},
   "outputs": [],
   "source": [
    "header = line.split(',')"
   ]
  },
  {
   "cell_type": "code",
   "execution_count": 17,
   "id": "97c37f85-d57a-4787-bd7e-b2a4d9bc949d",
   "metadata": {},
   "outputs": [
    {
     "data": {
      "text/plain": [
       "['First Name', 'Last Name', 'Age', 'Blood Group']"
      ]
     },
     "execution_count": 17,
     "metadata": {},
     "output_type": "execute_result"
    }
   ],
   "source": [
    "header"
   ]
  },
  {
   "cell_type": "code",
   "execution_count": 18,
   "id": "12bf6f4d-03f8-4a6b-bf75-1e6a6216c8d1",
   "metadata": {},
   "outputs": [
    {
     "data": {
      "text/plain": [
       "list"
      ]
     },
     "execution_count": 18,
     "metadata": {},
     "output_type": "execute_result"
    }
   ],
   "source": [
    "type(header)"
   ]
  },
  {
   "cell_type": "code",
   "execution_count": 19,
   "id": "10d71564-8bc0-40d8-a568-9158a2ba95f2",
   "metadata": {},
   "outputs": [
    {
     "data": {
      "text/plain": [
       "'Last Name'"
      ]
     },
     "execution_count": 19,
     "metadata": {},
     "output_type": "execute_result"
    }
   ],
   "source": [
    "header[1]"
   ]
  },
  {
   "cell_type": "markdown",
   "id": "3d59ef31-77bd-404b-b277-763ad0e32c65",
   "metadata": {},
   "source": [
    "Now header is a list object so we need to use the list operator or method to work with header's values."
   ]
  },
  {
   "cell_type": "markdown",
   "id": "bed783b5-a16c-41b2-8025-23b960ef8001",
   "metadata": {},
   "source": [
    "**format() method**"
   ]
  },
  {
   "cell_type": "code",
   "execution_count": 21,
   "id": "969b6088-e51e-418f-9f82-0f0a569c5648",
   "metadata": {},
   "outputs": [
    {
     "name": "stdout",
     "output_type": "stream",
     "text": [
      "Help on method_descriptor:\n",
      "\n",
      "format(...)\n",
      "    S.format(*args, **kwargs) -> str\n",
      "    \n",
      "    Return a formatted version of S, using substitutions from args and kwargs.\n",
      "    The substitutions are identified by braces ('{' and '}').\n",
      "\n"
     ]
    }
   ],
   "source": [
    "help(str.format)"
   ]
  },
  {
   "cell_type": "code",
   "execution_count": 38,
   "id": "00fd9bb7-e1c4-420c-a735-c68b08931b84",
   "metadata": {},
   "outputs": [
    {
     "data": {
      "text/plain": [
       "'FistName  |SecondName  |Age  |Blood Groop '"
      ]
     },
     "execution_count": 38,
     "metadata": {},
     "output_type": "execute_result"
    }
   ],
   "source": [
    "\"{:10s}|{:12s}|{:5s}|{:10s} \".format(\"FistName\",\"SecondName\",\"Age\",\"Blood Groop\")"
   ]
  },
  {
   "cell_type": "markdown",
   "id": "095f5c15-942d-4ac3-b839-e99fd3d9961e",
   "metadata": {},
   "source": [
    "Here in the above expression `:10s` is defined for field width for string. "
   ]
  },
  {
   "cell_type": "markdown",
   "id": "146b94e4-fa24-420d-8544-8e55986b4087",
   "metadata": {},
   "source": [
    "**Making a table by using format method**"
   ]
  },
  {
   "cell_type": "code",
   "execution_count": 39,
   "id": "c61fbe5e-c638-4b7a-b55d-e4c7c4e8110c",
   "metadata": {},
   "outputs": [
    {
     "data": {
      "text/plain": [
       "['First Name', 'Last Name', 'Age', 'Blood Group']"
      ]
     },
     "execution_count": 39,
     "metadata": {},
     "output_type": "execute_result"
    }
   ],
   "source": [
    "header"
   ]
  },
  {
   "cell_type": "code",
   "execution_count": 40,
   "id": "eb818614-61b0-4572-b614-bc2d7276dad3",
   "metadata": {},
   "outputs": [],
   "source": [
    "values = [line2.split(\",\"), line3.split(\",\"), \n",
    "          line4.split(\",\"), line5.split(\",\") , \n",
    "          ]"
   ]
  },
  {
   "cell_type": "code",
   "execution_count": 41,
   "id": "cf476418-e98a-4a48-93e3-76bc2c05e772",
   "metadata": {},
   "outputs": [
    {
     "data": {
      "text/plain": [
       "[['Manish', 'Kumar', '26', 'O-Negative'],\n",
       " ['Joyti', 'Saini', '31', 'A-Positive'],\n",
       " ['Sagar', 'Soni', '26', 'O-Positive'],\n",
       " ['Rahul', 'Kumar', '21', 'O-Negative']]"
      ]
     },
     "execution_count": 41,
     "metadata": {},
     "output_type": "execute_result"
    }
   ],
   "source": [
    "values"
   ]
  },
  {
   "cell_type": "code",
   "execution_count": 42,
   "id": "ea19fa66-f039-4087-b5c6-9365d3fd0029",
   "metadata": {},
   "outputs": [
    {
     "data": {
      "text/plain": [
       "['Joyti', 'Saini', '31', 'A-Positive']"
      ]
     },
     "execution_count": 42,
     "metadata": {},
     "output_type": "execute_result"
    }
   ],
   "source": [
    "# acceesing each list by using index number\n",
    "values[1]"
   ]
  },
  {
   "cell_type": "markdown",
   "id": "f8cb8ecd-d1f7-4860-8c2e-891516c511bc",
   "metadata": {},
   "source": [
    "accessing all list and it's items by using manually subscript method."
   ]
  },
  {
   "cell_type": "code",
   "execution_count": 43,
   "id": "53a98cd9-ddf6-493d-9b15-aa90248c094f",
   "metadata": {},
   "outputs": [
    {
     "name": "stdout",
     "output_type": "stream",
     "text": [
      "FistName  |SecondName  |Age  |Blood Groop \n",
      "-----------------------------------------------------------\n",
      "Manish    |Kumar       |26   |O-Negative \n",
      "Joyti     |Saini       |31   |A-Positive \n",
      "Sagar     |Soni        |26   |O-Positive \n",
      "Rahul     |Kumar       |21   |O-Negative \n"
     ]
    }
   ],
   "source": [
    "print(\"{:10s}|{:12s}|{:5s}|{:10s} \".format(\"FistName\",\"SecondName\",\"Age\",\"Blood Groop\"))\n",
    "# first we will maek the header of the table.\n",
    "print(\"-----------------------------------------------------------\")\n",
    "\n",
    "# accessing the 1st list from values.\n",
    "value = values[0]\n",
    "print(\"{:10s}|{:12s}|{:5s}|{:10s} \".format(value[0],value[1],value[2],value[3]))\n",
    "\n",
    "# accessing the 2nd list from values.\n",
    "value = values[1]\n",
    "print(\"{:10s}|{:12s}|{:5s}|{:10s} \".format(value[0],value[1],value[2],value[3]))\n",
    "\n",
    "# accessing the 3rd list from values.\n",
    "value = values[2]\n",
    "print(\"{:10s}|{:12s}|{:5s}|{:10s} \".format(value[0],value[1],value[2],value[3]))\n",
    "\n",
    "# accessing the forth list from values.\n",
    "value = values[3]\n",
    "print(\"{:10s}|{:12s}|{:5s}|{:10s} \".format(value[0],value[1],value[2],value[3]))"
   ]
  },
  {
   "cell_type": "markdown",
   "id": "23c6edbe-00fd-4b76-b031-c5ba93c80ddb",
   "metadata": {},
   "source": [
    "**Making formatted table with for loop**\n"
   ]
  },
  {
   "cell_type": "code",
   "execution_count": 44,
   "id": "49223cc0-517c-4edb-a97d-3381b027ee55",
   "metadata": {},
   "outputs": [
    {
     "name": "stdout",
     "output_type": "stream",
     "text": [
      "FistName  |SecondName  |Age  |Blood Groop \n",
      "-----------------------------------------------------------\n",
      "Manish    |Kumar       |26   |O-Negative \n",
      "Joyti     |Saini       |31   |A-Positive \n",
      "Sagar     |Soni        |26   |O-Positive \n",
      "Rahul     |Kumar       |21   |O-Negative \n"
     ]
    }
   ],
   "source": [
    "print(\"{:10s}|{:12s}|{:5s}|{:10s} \".format(\"FistName\",\"SecondName\",\"Age\",\"Blood Groop\"))\n",
    "# first we will maek the header of the table.\n",
    "print(\"-----------------------------------------------------------\")\n",
    "\n",
    "# accessing the 1st list from values.\n",
    "for i in range(4):\n",
    "    value = values[i]\n",
    "    print(\"{:10s}|{:12s}|{:5s}|{:10s} \".format(value[0],value[1],value[2],value[3]))"
   ]
  },
  {
   "cell_type": "markdown",
   "id": "6223ea4a-b739-4996-9233-bd746824d6ee",
   "metadata": {},
   "source": [
    "**method 2**"
   ]
  },
  {
   "cell_type": "code",
   "execution_count": 45,
   "id": "36423f37-157b-43e9-ac73-db78a8effa50",
   "metadata": {},
   "outputs": [
    {
     "name": "stdout",
     "output_type": "stream",
     "text": [
      "FistName  |SecondName  |Age  |Blood Groop \n",
      "-----------------------------------------------------------\n",
      "Manish    |Kumar       |26   |O-Negative \n",
      "Joyti     |Saini       |31   |A-Positive \n",
      "Sagar     |Soni        |26   |O-Positive \n",
      "Rahul     |Kumar       |21   |O-Negative \n"
     ]
    }
   ],
   "source": [
    "print(\"{:10s}|{:12s}|{:5s}|{:10s} \".format(\"FistName\",\"SecondName\",\"Age\",\"Blood Groop\"))\n",
    "# first we will maek the header of the table.\n",
    "print(\"-----------------------------------------------------------\")\n",
    "\n",
    "# accessing the 1st list from values.\n",
    "for value in values:\n",
    "    # value = values[i]\n",
    "    print(\"{:10s}|{:12s}|{:5s}|{:10s} \".format(value[0],value[1],value[2],value[3]))"
   ]
  },
  {
   "cell_type": "markdown",
   "id": "b9856ce9-1ca4-4112-ac5c-81e5139bb4a7",
   "metadata": {},
   "source": [
    "**join() method**"
   ]
  },
  {
   "cell_type": "code",
   "execution_count": 46,
   "id": "d3c6ac7f-e657-44b8-9aac-61b47605ee9b",
   "metadata": {},
   "outputs": [
    {
     "name": "stdout",
     "output_type": "stream",
     "text": [
      "Help on method_descriptor:\n",
      "\n",
      "join(self, iterable, /)\n",
      "    Concatenate any number of strings.\n",
      "    \n",
      "    The string whose method is called is inserted in between each given string.\n",
      "    The result is returned as a new string.\n",
      "    \n",
      "    Example: '.'.join(['ab', 'pq', 'rs']) -> 'ab.pq.rs'\n",
      "\n"
     ]
    }
   ],
   "source": [
    "help(str.join)"
   ]
  },
  {
   "cell_type": "markdown",
   "id": "2267c2cd-1e06-4e55-bc93-c6ac88cc4912",
   "metadata": {},
   "source": [
    "It works as the opposite of `split()` method, in which we have a string and after spliting it gives the list of words separated by specified spearator."
   ]
  },
  {
   "cell_type": "code",
   "execution_count": 1,
   "id": "d03ee34f-eaac-4fa1-941d-8455c2a924db",
   "metadata": {},
   "outputs": [],
   "source": [
    "header = ['First Name', 'Last Name', 'Age', 'Blood Group']"
   ]
  },
  {
   "cell_type": "code",
   "execution_count": 2,
   "id": "8b2bb059-af9e-41f1-8deb-d4a269958611",
   "metadata": {},
   "outputs": [],
   "source": [
    "header[0] = \"FirstName\"\n",
    "header[1] = \"LastName\""
   ]
  },
  {
   "cell_type": "code",
   "execution_count": 3,
   "id": "d0f0a975-ef05-48be-b6f6-a400a432d2b3",
   "metadata": {},
   "outputs": [
    {
     "data": {
      "text/plain": [
       "['FirstName', 'LastName', 'Age', 'Blood Group']"
      ]
     },
     "execution_count": 3,
     "metadata": {},
     "output_type": "execute_result"
    }
   ],
   "source": [
    "header"
   ]
  },
  {
   "cell_type": "code",
   "execution_count": 9,
   "id": "1271db99-1125-41f9-b794-ce08d44573ac",
   "metadata": {},
   "outputs": [
    {
     "data": {
      "text/plain": [
       "'FirstName,LastName,Age,Blood Group'"
      ]
     },
     "execution_count": 9,
     "metadata": {},
     "output_type": "execute_result"
    }
   ],
   "source": [
    "\",\".join(header)"
   ]
  },
  {
   "cell_type": "code",
   "execution_count": 5,
   "id": "20f4b611-bae4-4262-a205-235b640e63fa",
   "metadata": {},
   "outputs": [
    {
     "data": {
      "text/plain": [
       "'FirstName,LastName,Age,Blood Group'"
      ]
     },
     "execution_count": 5,
     "metadata": {},
     "output_type": "execute_result"
    }
   ],
   "source": [
    "\",\".join(header)"
   ]
  },
  {
   "cell_type": "code",
   "execution_count": 10,
   "id": "c52c052c-d203-4d09-9943-ef5b97d61b3f",
   "metadata": {},
   "outputs": [],
   "source": [
    "Str = \"\""
   ]
  },
  {
   "cell_type": "markdown",
   "id": "4e6a2f92-c183-4ec8-82fe-3ddf055e339f",
   "metadata": {},
   "source": [
    "____\n",
    "____"
   ]
  },
  {
   "cell_type": "markdown",
   "id": "9fe7fb15-31a5-4fdd-8691-657692325e3b",
   "metadata": {},
   "source": [
    "#### Section 2 mehtods of string"
   ]
  },
  {
   "cell_type": "markdown",
   "id": "fcccaa79-ff43-41ea-ad51-897dad3afe1e",
   "metadata": {},
   "source": [
    "* center\n",
    "* endswith\n",
    "* startswith\n",
    "* rjust, ljust\n",
    "* partition\n",
    "* splitlines\n",
    "* zfill"
   ]
  },
  {
   "cell_type": "markdown",
   "id": "76ff598f-22bf-41cb-af4f-f21acb444f54",
   "metadata": {},
   "source": [
    "**center() method of string**"
   ]
  },
  {
   "cell_type": "code",
   "execution_count": 25,
   "id": "8fb06ca1-667d-4193-8dfd-89ac71acc065",
   "metadata": {},
   "outputs": [
    {
     "name": "stdout",
     "output_type": "stream",
     "text": [
      "Help on method_descriptor:\n",
      "\n",
      "center(self, width, fillchar=' ', /)\n",
      "    Return a centered string of length width.\n",
      "    \n",
      "    Padding is done using the specified fill character (default is a space).\n",
      "\n"
     ]
    }
   ],
   "source": [
    "help(str.center)"
   ]
  },
  {
   "cell_type": "markdown",
   "id": "febf81df-bce0-44bd-a29f-d40565a0e210",
   "metadata": {},
   "source": [
    "-> if our string lenght is less than specified width only then our center method will be applicable.\n",
    "otherwise it will ignore the string."
   ]
  },
  {
   "cell_type": "code",
   "execution_count": 13,
   "id": "84072699-c474-4b70-86c4-f026df14029f",
   "metadata": {},
   "outputs": [],
   "source": [
    "name = \"Kushal\""
   ]
  },
  {
   "cell_type": "code",
   "execution_count": 15,
   "id": "05ea1bca-c47a-435b-8710-8e24e2dd8ba2",
   "metadata": {},
   "outputs": [
    {
     "data": {
      "text/plain": [
       "'Kushal'"
      ]
     },
     "execution_count": 15,
     "metadata": {},
     "output_type": "execute_result"
    }
   ],
   "source": [
    "name.center(5, \"-\")"
   ]
  },
  {
   "cell_type": "code",
   "execution_count": 18,
   "id": "bb0615d8-68d7-43d6-89ec-4480dd0846ef",
   "metadata": {},
   "outputs": [
    {
     "data": {
      "text/plain": [
       "6"
      ]
     },
     "execution_count": 18,
     "metadata": {},
     "output_type": "execute_result"
    }
   ],
   "source": [
    "len(name)"
   ]
  },
  {
   "cell_type": "code",
   "execution_count": 24,
   "id": "949c7532-0200-4653-8037-ea000e6ea969",
   "metadata": {},
   "outputs": [
    {
     "data": {
      "text/plain": [
       "'-------Kushal-------'"
      ]
     },
     "execution_count": 24,
     "metadata": {},
     "output_type": "execute_result"
    }
   ],
   "source": [
    "name.center(20,'-')"
   ]
  },
  {
   "cell_type": "markdown",
   "id": "7ecb0ffa-c209-4144-9980-62df0b1e435e",
   "metadata": {},
   "source": [
    "**endsWith() method of string**"
   ]
  },
  {
   "cell_type": "code",
   "execution_count": 26,
   "id": "24e8b4e9-bd5f-4ecb-b9d3-ed1550166172",
   "metadata": {},
   "outputs": [
    {
     "name": "stdout",
     "output_type": "stream",
     "text": [
      "Help on method_descriptor:\n",
      "\n",
      "endswith(...)\n",
      "    S.endswith(suffix[, start[, end]]) -> bool\n",
      "    \n",
      "    Return True if S ends with the specified suffix, False otherwise.\n",
      "    With optional start, test S beginning at that position.\n",
      "    With optional end, stop comparing S at that position.\n",
      "    suffix can also be a tuple of strings to try.\n",
      "\n"
     ]
    }
   ],
   "source": [
    "help(str.endswith)"
   ]
  },
  {
   "cell_type": "code",
   "execution_count": 27,
   "id": "2bb95b0b-9ea7-45a2-98c2-823deaa394f2",
   "metadata": {},
   "outputs": [],
   "source": [
    "str1 = \"kushal420@gmail.com\""
   ]
  },
  {
   "cell_type": "code",
   "execution_count": 28,
   "id": "879104d8-49d2-4103-adb9-06a6a80d8bb8",
   "metadata": {},
   "outputs": [
    {
     "data": {
      "text/plain": [
       "True"
      ]
     },
     "execution_count": 28,
     "metadata": {},
     "output_type": "execute_result"
    }
   ],
   "source": [
    "str1.endswith(\".com\")"
   ]
  },
  {
   "cell_type": "code",
   "execution_count": 29,
   "id": "0a7c1ad1-bbc5-47aa-b5ed-5f41082615af",
   "metadata": {},
   "outputs": [
    {
     "data": {
      "text/plain": [
       "False"
      ]
     },
     "execution_count": 29,
     "metadata": {},
     "output_type": "execute_result"
    }
   ],
   "source": [
    "str1.endswith(\"japan\")"
   ]
  },
  {
   "cell_type": "code",
   "execution_count": 30,
   "id": "46c75fb3-f15c-48c1-b228-d21cdee84788",
   "metadata": {},
   "outputs": [],
   "source": [
    "filename = \"readme.md\""
   ]
  },
  {
   "cell_type": "code",
   "execution_count": 31,
   "id": "0361fc55-90c1-47bb-94bd-f031774f9e6c",
   "metadata": {},
   "outputs": [
    {
     "name": "stdout",
     "output_type": "stream",
     "text": [
      "it is a markdown file\n"
     ]
    }
   ],
   "source": [
    "if filename.endswith(\".md\"):\n",
    "    print(\"it is a markdown file\")\n",
    "else:\n",
    "    print(\"it is not a markdown file\")"
   ]
  },
  {
   "cell_type": "code",
   "execution_count": 32,
   "id": "83dd4b7b-44a1-404f-b34c-6ff317e73977",
   "metadata": {},
   "outputs": [],
   "source": [
    "filename = \"readme.txt\""
   ]
  },
  {
   "cell_type": "code",
   "execution_count": 33,
   "id": "83673df1-58ef-4bd6-9065-1292a85da77b",
   "metadata": {},
   "outputs": [
    {
     "name": "stdout",
     "output_type": "stream",
     "text": [
      "it is not a markdown file\n"
     ]
    }
   ],
   "source": [
    "if filename.endswith(\".md\"):\n",
    "    print(\"it is a markdown file\")\n",
    "else:\n",
    "    print(\"it is not a markdown file\")"
   ]
  },
  {
   "cell_type": "markdown",
   "id": "25519c42-46f0-49e5-a99a-075bd7749648",
   "metadata": {},
   "source": [
    "using the `start` and `end` argument of endswith() function.\\\n",
    "`start`: it will be 0 by default.\\\n",
    "`end`: it will be length of the string."
   ]
  },
  {
   "cell_type": "code",
   "execution_count": 36,
   "id": "02d3849d-0c5f-4662-b46b-6f30952a81ab",
   "metadata": {},
   "outputs": [
    {
     "data": {
      "text/plain": [
       "False"
      ]
     },
     "execution_count": 36,
     "metadata": {},
     "output_type": "execute_result"
    }
   ],
   "source": [
    "# now we will change the start and end argument.\n",
    "str1.endswith(\".com\",0, 7)"
   ]
  },
  {
   "cell_type": "code",
   "execution_count": 37,
   "id": "f62d41dc-69cb-4f25-9b77-8f53ff73cdfd",
   "metadata": {},
   "outputs": [],
   "source": [
    "phnumber = \"+91-1234567890\""
   ]
  },
  {
   "cell_type": "code",
   "execution_count": 38,
   "id": "65af346d-1e2e-4538-8286-824ef363ee6a",
   "metadata": {},
   "outputs": [
    {
     "name": "stdout",
     "output_type": "stream",
     "text": [
      "it may be an phone number\n"
     ]
    }
   ],
   "source": [
    "if(phnumber.startswith(\"+91\") or phnumber.startswith(\"+91-\")):\n",
    "    print(\"it may be an phone number\")\n",
    "else:\n",
    "    print(\"it may be any number\")"
   ]
  },
  {
   "cell_type": "markdown",
   "id": "fb54e6fe-762b-4b5b-9303-6c04d3ef033b",
   "metadata": {},
   "source": [
    "**rjust() & ljust() method of string**"
   ]
  },
  {
   "cell_type": "code",
   "execution_count": 40,
   "id": "b10a3c4b-a185-4dcc-9f9e-b4cc4ffd929c",
   "metadata": {},
   "outputs": [
    {
     "name": "stdout",
     "output_type": "stream",
     "text": [
      "Help on method_descriptor:\n",
      "\n",
      "rjust(self, width, fillchar=' ', /)\n",
      "    Return a right-justified string of length width.\n",
      "    \n",
      "    Padding is done using the specified fill character (default is a space).\n",
      "\n"
     ]
    }
   ],
   "source": [
    "help(str.rjust)"
   ]
  },
  {
   "cell_type": "code",
   "execution_count": 41,
   "id": "4bda7f87-f6af-450b-b874-d4e6d9de5d00",
   "metadata": {},
   "outputs": [
    {
     "data": {
      "text/plain": [
       "'Kushal'"
      ]
     },
     "execution_count": 41,
     "metadata": {},
     "output_type": "execute_result"
    }
   ],
   "source": [
    "name"
   ]
  },
  {
   "cell_type": "code",
   "execution_count": 42,
   "id": "debf3c32-99d3-4399-8170-341580b8cabd",
   "metadata": {},
   "outputs": [
    {
     "data": {
      "text/plain": [
       "'              Kushal'"
      ]
     },
     "execution_count": 42,
     "metadata": {},
     "output_type": "execute_result"
    }
   ],
   "source": [
    "name.rjust(20)"
   ]
  },
  {
   "cell_type": "code",
   "execution_count": 43,
   "id": "358a2207-ece2-48e1-bde5-e89e1b99023e",
   "metadata": {},
   "outputs": [
    {
     "data": {
      "text/plain": [
       "'Kushal              '"
      ]
     },
     "execution_count": 43,
     "metadata": {},
     "output_type": "execute_result"
    }
   ],
   "source": [
    "name.ljust(20)"
   ]
  },
  {
   "cell_type": "markdown",
   "id": "f1968a1a-c8a2-4e58-b40a-c62b22c820c4",
   "metadata": {},
   "source": [
    "**partition() method of string**"
   ]
  },
  {
   "cell_type": "code",
   "execution_count": 44,
   "id": "0d4268bc-a6c2-4dec-bdde-b5a0119967e8",
   "metadata": {},
   "outputs": [
    {
     "name": "stdout",
     "output_type": "stream",
     "text": [
      "Help on method_descriptor:\n",
      "\n",
      "partition(self, sep, /)\n",
      "    Partition the string into three parts using the given separator.\n",
      "    \n",
      "    This will search for the separator in the string.  If the separator is found,\n",
      "    returns a 3-tuple containing the part before the separator, the separator\n",
      "    itself, and the part after it.\n",
      "    \n",
      "    If the separator is not found, returns a 3-tuple containing the original string\n",
      "    and two empty strings.\n",
      "\n"
     ]
    }
   ],
   "source": [
    "help(str.partition)"
   ]
  },
  {
   "cell_type": "code",
   "execution_count": 45,
   "id": "a21da7a6-092f-434d-913c-45cf17f3fe8f",
   "metadata": {},
   "outputs": [
    {
     "data": {
      "text/plain": [
       "'kushal420@gmail.com'"
      ]
     },
     "execution_count": 45,
     "metadata": {},
     "output_type": "execute_result"
    }
   ],
   "source": [
    "str1"
   ]
  },
  {
   "cell_type": "code",
   "execution_count": 46,
   "id": "b02f9c4c-d543-4999-b167-d89f73caf67b",
   "metadata": {},
   "outputs": [
    {
     "data": {
      "text/plain": [
       "('kushal420', '@', 'gmail.com')"
      ]
     },
     "execution_count": 46,
     "metadata": {},
     "output_type": "execute_result"
    }
   ],
   "source": [
    "str1.partition(\"@\")"
   ]
  },
  {
   "cell_type": "code",
   "execution_count": 47,
   "id": "ab86c787-175f-42e4-b014-04d250a9a587",
   "metadata": {},
   "outputs": [
    {
     "data": {
      "text/plain": [
       "('kushal420@gmail.com', '', '')"
      ]
     },
     "execution_count": 47,
     "metadata": {},
     "output_type": "execute_result"
    }
   ],
   "source": [
    "str1.partition(\",\")"
   ]
  },
  {
   "cell_type": "markdown",
   "id": "512b6c37-07c8-45fa-858d-a76aa97b62e6",
   "metadata": {},
   "source": [
    "**splitlines() method of the string**"
   ]
  },
  {
   "cell_type": "code",
   "execution_count": 48,
   "id": "242fb81f-4566-4e1e-9089-03907df272ce",
   "metadata": {},
   "outputs": [
    {
     "name": "stdout",
     "output_type": "stream",
     "text": [
      "Help on method_descriptor:\n",
      "\n",
      "splitlines(self, /, keepends=False)\n",
      "    Return a list of the lines in the string, breaking at line boundaries.\n",
      "    \n",
      "    Line breaks are not included in the resulting list unless keepends is given and\n",
      "    true.\n",
      "\n"
     ]
    }
   ],
   "source": [
    "help(str.splitlines)"
   ]
  },
  {
   "cell_type": "code",
   "execution_count": 50,
   "id": "a11d09f8-1ebb-4d9b-b716-fa095b916e86",
   "metadata": {},
   "outputs": [],
   "source": [
    "lines = \"This is line one\\nThis is line two\\n\""
   ]
  },
  {
   "cell_type": "code",
   "execution_count": 51,
   "id": "0db8ac45-a757-496a-bc4a-58c47a22a377",
   "metadata": {},
   "outputs": [
    {
     "data": {
      "text/plain": [
       "['This is line one', 'This is line two']"
      ]
     },
     "execution_count": 51,
     "metadata": {},
     "output_type": "execute_result"
    }
   ],
   "source": [
    "lines.splitlines()"
   ]
  },
  {
   "cell_type": "code",
   "execution_count": 52,
   "id": "b85ca506-5346-4622-9bc0-afda9fc67500",
   "metadata": {},
   "outputs": [
    {
     "name": "stdout",
     "output_type": "stream",
     "text": [
      "This is line one\n",
      "This is line two\n",
      "\n"
     ]
    }
   ],
   "source": [
    "print(lines)"
   ]
  },
  {
   "cell_type": "markdown",
   "id": "3c065e8e-044f-42d7-949a-2c0c0f187995",
   "metadata": {},
   "source": [
    "**zfill() method of string**"
   ]
  },
  {
   "cell_type": "code",
   "execution_count": 53,
   "id": "773faf9b-efd7-4265-bd7d-42b2d1234f51",
   "metadata": {},
   "outputs": [
    {
     "name": "stdout",
     "output_type": "stream",
     "text": [
      "Help on method_descriptor:\n",
      "\n",
      "zfill(self, width, /)\n",
      "    Pad a numeric string with zeros on the left, to fill a field of the given width.\n",
      "    \n",
      "    The string is never truncated.\n",
      "\n"
     ]
    }
   ],
   "source": [
    "help(str.zfill)"
   ]
  },
  {
   "cell_type": "code",
   "execution_count": 54,
   "id": "8d554f37-23e3-4e91-88e1-eaea0fd321e4",
   "metadata": {},
   "outputs": [
    {
     "data": {
      "text/plain": [
       "'Kushal'"
      ]
     },
     "execution_count": 54,
     "metadata": {},
     "output_type": "execute_result"
    }
   ],
   "source": [
    "name"
   ]
  },
  {
   "cell_type": "code",
   "execution_count": 56,
   "id": "078aa09e-20ac-4067-a20d-11e52b73f54c",
   "metadata": {},
   "outputs": [
    {
     "data": {
      "text/plain": [
       "'0000Kushal'"
      ]
     },
     "execution_count": 56,
     "metadata": {},
     "output_type": "execute_result"
    }
   ],
   "source": [
    "name.zfill(10)"
   ]
  },
  {
   "cell_type": "code",
   "execution_count": null,
   "id": "ff7c33fa-1c27-4ccf-ad58-87fba7846b94",
   "metadata": {},
   "outputs": [],
   "source": []
  }
 ],
 "metadata": {
  "kernelspec": {
   "display_name": "Python 3 (ipykernel)",
   "language": "python",
   "name": "python3"
  },
  "language_info": {
   "codemirror_mode": {
    "name": "ipython",
    "version": 3
   },
   "file_extension": ".py",
   "mimetype": "text/x-python",
   "name": "python",
   "nbconvert_exporter": "python",
   "pygments_lexer": "ipython3",
   "version": "3.8.3"
  }
 },
 "nbformat": 4,
 "nbformat_minor": 5
}
