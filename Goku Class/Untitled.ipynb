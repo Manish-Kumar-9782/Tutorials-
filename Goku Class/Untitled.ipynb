{
 "cells": [
  {
   "cell_type": "code",
   "execution_count": 5,
   "id": "6d5e2675-4e4e-492c-98fa-be5d42f35cb2",
   "metadata": {},
   "outputs": [],
   "source": [
    "a = 11"
   ]
  },
  {
   "cell_type": "code",
   "execution_count": 6,
   "id": "b04d192f-3ea6-4d91-a00b-b74df0e15ce9",
   "metadata": {},
   "outputs": [
    {
     "data": {
      "text/plain": [
       "int"
      ]
     },
     "execution_count": 6,
     "metadata": {},
     "output_type": "execute_result"
    }
   ],
   "source": [
    "type(a)"
   ]
  },
  {
   "cell_type": "code",
   "execution_count": 9,
   "id": "1f638c64-c03d-4872-85d4-eb8b48dd39b0",
   "metadata": {},
   "outputs": [],
   "source": [
    "b = 1.23"
   ]
  },
  {
   "cell_type": "code",
   "execution_count": 10,
   "id": "30449813-6909-458e-8192-5b2a4fa5c09b",
   "metadata": {},
   "outputs": [
    {
     "data": {
      "text/plain": [
       "float"
      ]
     },
     "execution_count": 10,
     "metadata": {},
     "output_type": "execute_result"
    }
   ],
   "source": [
    "type(b)"
   ]
  },
  {
   "cell_type": "code",
   "execution_count": 11,
   "id": "a5ac5bfd-9a2a-4321-bf08-8cb4f71dc2fe",
   "metadata": {},
   "outputs": [],
   "source": [
    "List1 = [1,2,3.3, \"hello\"]"
   ]
  },
  {
   "cell_type": "code",
   "execution_count": 13,
   "id": "34748e36-634f-42ef-bdc6-24733bc053e3",
   "metadata": {},
   "outputs": [
    {
     "name": "stdout",
     "output_type": "stream",
     "text": [
      "Help on list object:\n",
      "\n",
      "class list(object)\n",
      " |  list(iterable=(), /)\n",
      " |  \n",
      " |  Built-in mutable sequence.\n",
      " |  \n",
      " |  If no argument is given, the constructor creates a new empty list.\n",
      " |  The argument must be an iterable if specified.\n",
      " |  \n",
      " |  Methods defined here:\n",
      " |  \n",
      " |  __add__(self, value, /)\n",
      " |      Return self+value.\n",
      " |  \n",
      " |  __contains__(self, key, /)\n",
      " |      Return key in self.\n",
      " |  \n",
      " |  __delitem__(self, key, /)\n",
      " |      Delete self[key].\n",
      " |  \n",
      " |  __eq__(self, value, /)\n",
      " |      Return self==value.\n",
      " |  \n",
      " |  __ge__(self, value, /)\n",
      " |      Return self>=value.\n",
      " |  \n",
      " |  __getattribute__(self, name, /)\n",
      " |      Return getattr(self, name).\n",
      " |  \n",
      " |  __getitem__(...)\n",
      " |      x.__getitem__(y) <==> x[y]\n",
      " |  \n",
      " |  __gt__(self, value, /)\n",
      " |      Return self>value.\n",
      " |  \n",
      " |  __iadd__(self, value, /)\n",
      " |      Implement self+=value.\n",
      " |  \n",
      " |  __imul__(self, value, /)\n",
      " |      Implement self*=value.\n",
      " |  \n",
      " |  __init__(self, /, *args, **kwargs)\n",
      " |      Initialize self.  See help(type(self)) for accurate signature.\n",
      " |  \n",
      " |  __iter__(self, /)\n",
      " |      Implement iter(self).\n",
      " |  \n",
      " |  __le__(self, value, /)\n",
      " |      Return self<=value.\n",
      " |  \n",
      " |  __len__(self, /)\n",
      " |      Return len(self).\n",
      " |  \n",
      " |  __lt__(self, value, /)\n",
      " |      Return self<value.\n",
      " |  \n",
      " |  __mul__(self, value, /)\n",
      " |      Return self*value.\n",
      " |  \n",
      " |  __ne__(self, value, /)\n",
      " |      Return self!=value.\n",
      " |  \n",
      " |  __repr__(self, /)\n",
      " |      Return repr(self).\n",
      " |  \n",
      " |  __reversed__(self, /)\n",
      " |      Return a reverse iterator over the list.\n",
      " |  \n",
      " |  __rmul__(self, value, /)\n",
      " |      Return value*self.\n",
      " |  \n",
      " |  __setitem__(self, key, value, /)\n",
      " |      Set self[key] to value.\n",
      " |  \n",
      " |  __sizeof__(self, /)\n",
      " |      Return the size of the list in memory, in bytes.\n",
      " |  \n",
      " |  append(self, object, /)\n",
      " |      Append object to the end of the list.\n",
      " |  \n",
      " |  clear(self, /)\n",
      " |      Remove all items from list.\n",
      " |  \n",
      " |  copy(self, /)\n",
      " |      Return a shallow copy of the list.\n",
      " |  \n",
      " |  count(self, value, /)\n",
      " |      Return number of occurrences of value.\n",
      " |  \n",
      " |  extend(self, iterable, /)\n",
      " |      Extend list by appending elements from the iterable.\n",
      " |  \n",
      " |  index(self, value, start=0, stop=9223372036854775807, /)\n",
      " |      Return first index of value.\n",
      " |      \n",
      " |      Raises ValueError if the value is not present.\n",
      " |  \n",
      " |  insert(self, index, object, /)\n",
      " |      Insert object before index.\n",
      " |  \n",
      " |  pop(self, index=-1, /)\n",
      " |      Remove and return item at index (default last).\n",
      " |      \n",
      " |      Raises IndexError if list is empty or index is out of range.\n",
      " |  \n",
      " |  remove(self, value, /)\n",
      " |      Remove first occurrence of value.\n",
      " |      \n",
      " |      Raises ValueError if the value is not present.\n",
      " |  \n",
      " |  reverse(self, /)\n",
      " |      Reverse *IN PLACE*.\n",
      " |  \n",
      " |  sort(self, /, *, key=None, reverse=False)\n",
      " |      Sort the list in ascending order and return None.\n",
      " |      \n",
      " |      The sort is in-place (i.e. the list itself is modified) and stable (i.e. the\n",
      " |      order of two equal elements is maintained).\n",
      " |      \n",
      " |      If a key function is given, apply it once to each list item and sort them,\n",
      " |      ascending or descending, according to their function values.\n",
      " |      \n",
      " |      The reverse flag can be set to sort in descending order.\n",
      " |  \n",
      " |  ----------------------------------------------------------------------\n",
      " |  Static methods defined here:\n",
      " |  \n",
      " |  __new__(*args, **kwargs) from builtins.type\n",
      " |      Create and return a new object.  See help(type) for accurate signature.\n",
      " |  \n",
      " |  ----------------------------------------------------------------------\n",
      " |  Data and other attributes defined here:\n",
      " |  \n",
      " |  __hash__ = None\n",
      "\n"
     ]
    }
   ],
   "source": [
    "help(List1)"
   ]
  },
  {
   "cell_type": "markdown",
   "id": "92c4206a-10ca-43d6-be21-4f36f51d61a3",
   "metadata": {},
   "source": [
    "This is mark down\n",
    "\n",
    "a = 10"
   ]
  },
  {
   "cell_type": "code",
   "execution_count": 14,
   "id": "9cb2495b-4757-4ef2-bc88-1ef52da62ca7",
   "metadata": {},
   "outputs": [
    {
     "data": {
      "text/plain": [
       "[1, 2, 3.3, 'hello']"
      ]
     },
     "execution_count": 14,
     "metadata": {},
     "output_type": "execute_result"
    }
   ],
   "source": [
    "List1"
   ]
  },
  {
   "cell_type": "code",
   "execution_count": 15,
   "id": "9b67bdb0-1573-422e-967b-dc9931a3918a",
   "metadata": {},
   "outputs": [],
   "source": [
    "List1.append(3.14)"
   ]
  },
  {
   "cell_type": "code",
   "execution_count": 16,
   "id": "2564b17d-5605-4fd7-939f-293f59db48f1",
   "metadata": {},
   "outputs": [
    {
     "data": {
      "text/plain": [
       "[1, 2, 3.3, 'hello', 3.14]"
      ]
     },
     "execution_count": 16,
     "metadata": {},
     "output_type": "execute_result"
    }
   ],
   "source": [
    "List1"
   ]
  },
  {
   "cell_type": "code",
   "execution_count": 17,
   "id": "b569f221-33e3-406a-8349-a86da0034df5",
   "metadata": {},
   "outputs": [],
   "source": [
    "List1.extend([\"apple\", 1.34, 2.6, \"Banana\"])"
   ]
  },
  {
   "cell_type": "code",
   "execution_count": 18,
   "id": "e5649775-dde5-4fbc-a9bb-285bcb9afda0",
   "metadata": {},
   "outputs": [
    {
     "data": {
      "text/plain": [
       "[1, 2, 3.3, 'hello', 3.14, 'apple', 1.34, 2.6, 'Banana']"
      ]
     },
     "execution_count": 18,
     "metadata": {},
     "output_type": "execute_result"
    }
   ],
   "source": [
    "List1"
   ]
  },
  {
   "cell_type": "code",
   "execution_count": 19,
   "id": "358f55fb-d7dd-4269-aefe-054be1127592",
   "metadata": {},
   "outputs": [],
   "source": [
    "List1.append(2)"
   ]
  },
  {
   "cell_type": "code",
   "execution_count": 20,
   "id": "c15e2126-6968-43a3-b06e-9fa636b6787b",
   "metadata": {},
   "outputs": [
    {
     "data": {
      "text/plain": [
       "[1, 2, 3.3, 'hello', 3.14, 'apple', 1.34, 2.6, 'Banana', 2]"
      ]
     },
     "execution_count": 20,
     "metadata": {},
     "output_type": "execute_result"
    }
   ],
   "source": [
    "List1"
   ]
  },
  {
   "cell_type": "code",
   "execution_count": 21,
   "id": "c89961e3-c7d7-48c8-8f69-5ca72ebf8363",
   "metadata": {},
   "outputs": [],
   "source": [
    "List1.remove(2)"
   ]
  },
  {
   "cell_type": "code",
   "execution_count": 22,
   "id": "fb297112-d8d6-4aae-aedb-51af3c011f13",
   "metadata": {},
   "outputs": [
    {
     "data": {
      "text/plain": [
       "[1, 3.3, 'hello', 3.14, 'apple', 1.34, 2.6, 'Banana', 2]"
      ]
     },
     "execution_count": 22,
     "metadata": {},
     "output_type": "execute_result"
    }
   ],
   "source": [
    "List1"
   ]
  },
  {
   "cell_type": "code",
   "execution_count": 24,
   "id": "8901d429-2a2d-4ab1-860f-e161a8d2c6b1",
   "metadata": {},
   "outputs": [
    {
     "data": {
      "text/plain": [
       "1"
      ]
     },
     "execution_count": 24,
     "metadata": {},
     "output_type": "execute_result"
    }
   ],
   "source": [
    "List1[0]"
   ]
  },
  {
   "cell_type": "code",
   "execution_count": 25,
   "id": "c6dbfa8b-9fc7-4fb8-ae6b-1ac685577ef0",
   "metadata": {},
   "outputs": [
    {
     "data": {
      "text/plain": [
       "3.3"
      ]
     },
     "execution_count": 25,
     "metadata": {},
     "output_type": "execute_result"
    }
   ],
   "source": [
    "List1[1]"
   ]
  },
  {
   "cell_type": "code",
   "execution_count": 26,
   "id": "a60c2439-c5d9-4ee2-91db-06737bf7ab0d",
   "metadata": {},
   "outputs": [
    {
     "data": {
      "text/plain": [
       "2"
      ]
     },
     "execution_count": 26,
     "metadata": {},
     "output_type": "execute_result"
    }
   ],
   "source": [
    "List1[-1]"
   ]
  },
  {
   "cell_type": "code",
   "execution_count": 27,
   "id": "8357e324-c1dd-485f-b5b2-6230facfef49",
   "metadata": {},
   "outputs": [
    {
     "data": {
      "text/plain": [
       "2"
      ]
     },
     "execution_count": 27,
     "metadata": {},
     "output_type": "execute_result"
    }
   ],
   "source": [
    "List1.pop()"
   ]
  },
  {
   "cell_type": "code",
   "execution_count": 29,
   "id": "76b7737c-2278-4f7f-b9bf-c77bf2ee83ce",
   "metadata": {},
   "outputs": [
    {
     "data": {
      "text/plain": [
       "'apple'"
      ]
     },
     "execution_count": 29,
     "metadata": {},
     "output_type": "execute_result"
    }
   ],
   "source": [
    "List1.pop(4)"
   ]
  },
  {
   "cell_type": "code",
   "execution_count": 30,
   "id": "bec4d69a-923d-4a6f-ab60-90243ef09e28",
   "metadata": {},
   "outputs": [
    {
     "data": {
      "text/plain": [
       "[1, 3.3, 'hello', 3.14, 1.34, 2.6, 'Banana']"
      ]
     },
     "execution_count": 30,
     "metadata": {},
     "output_type": "execute_result"
    }
   ],
   "source": [
    "List1"
   ]
  },
  {
   "cell_type": "code",
   "execution_count": 31,
   "id": "46324e81-94e3-4d53-8ae5-c0d6bf8575aa",
   "metadata": {},
   "outputs": [
    {
     "data": {
      "text/plain": [
       "2"
      ]
     },
     "execution_count": 31,
     "metadata": {},
     "output_type": "execute_result"
    }
   ],
   "source": [
    "List1.index('hello')"
   ]
  },
  {
   "cell_type": "code",
   "execution_count": 32,
   "id": "ce6baf16-944c-464b-8156-effcc84f1c7b",
   "metadata": {},
   "outputs": [
    {
     "data": {
      "text/plain": [
       "6"
      ]
     },
     "execution_count": 32,
     "metadata": {},
     "output_type": "execute_result"
    }
   ],
   "source": [
    "List1.index('Banana')"
   ]
  },
  {
   "cell_type": "code",
   "execution_count": 33,
   "id": "8f756d58-93ee-49c7-99bb-0f1be32eb21e",
   "metadata": {},
   "outputs": [
    {
     "name": "stdout",
     "output_type": "stream",
     "text": [
      "Help on list object:\n",
      "\n",
      "class list(object)\n",
      " |  list(iterable=(), /)\n",
      " |  \n",
      " |  Built-in mutable sequence.\n",
      " |  \n",
      " |  If no argument is given, the constructor creates a new empty list.\n",
      " |  The argument must be an iterable if specified.\n",
      " |  \n",
      " |  Methods defined here:\n",
      " |  \n",
      " |  __add__(self, value, /)\n",
      " |      Return self+value.\n",
      " |  \n",
      " |  __contains__(self, key, /)\n",
      " |      Return key in self.\n",
      " |  \n",
      " |  __delitem__(self, key, /)\n",
      " |      Delete self[key].\n",
      " |  \n",
      " |  __eq__(self, value, /)\n",
      " |      Return self==value.\n",
      " |  \n",
      " |  __ge__(self, value, /)\n",
      " |      Return self>=value.\n",
      " |  \n",
      " |  __getattribute__(self, name, /)\n",
      " |      Return getattr(self, name).\n",
      " |  \n",
      " |  __getitem__(...)\n",
      " |      x.__getitem__(y) <==> x[y]\n",
      " |  \n",
      " |  __gt__(self, value, /)\n",
      " |      Return self>value.\n",
      " |  \n",
      " |  __iadd__(self, value, /)\n",
      " |      Implement self+=value.\n",
      " |  \n",
      " |  __imul__(self, value, /)\n",
      " |      Implement self*=value.\n",
      " |  \n",
      " |  __init__(self, /, *args, **kwargs)\n",
      " |      Initialize self.  See help(type(self)) for accurate signature.\n",
      " |  \n",
      " |  __iter__(self, /)\n",
      " |      Implement iter(self).\n",
      " |  \n",
      " |  __le__(self, value, /)\n",
      " |      Return self<=value.\n",
      " |  \n",
      " |  __len__(self, /)\n",
      " |      Return len(self).\n",
      " |  \n",
      " |  __lt__(self, value, /)\n",
      " |      Return self<value.\n",
      " |  \n",
      " |  __mul__(self, value, /)\n",
      " |      Return self*value.\n",
      " |  \n",
      " |  __ne__(self, value, /)\n",
      " |      Return self!=value.\n",
      " |  \n",
      " |  __repr__(self, /)\n",
      " |      Return repr(self).\n",
      " |  \n",
      " |  __reversed__(self, /)\n",
      " |      Return a reverse iterator over the list.\n",
      " |  \n",
      " |  __rmul__(self, value, /)\n",
      " |      Return value*self.\n",
      " |  \n",
      " |  __setitem__(self, key, value, /)\n",
      " |      Set self[key] to value.\n",
      " |  \n",
      " |  __sizeof__(self, /)\n",
      " |      Return the size of the list in memory, in bytes.\n",
      " |  \n",
      " |  append(self, object, /)\n",
      " |      Append object to the end of the list.\n",
      " |  \n",
      " |  clear(self, /)\n",
      " |      Remove all items from list.\n",
      " |  \n",
      " |  copy(self, /)\n",
      " |      Return a shallow copy of the list.\n",
      " |  \n",
      " |  count(self, value, /)\n",
      " |      Return number of occurrences of value.\n",
      " |  \n",
      " |  extend(self, iterable, /)\n",
      " |      Extend list by appending elements from the iterable.\n",
      " |  \n",
      " |  index(self, value, start=0, stop=9223372036854775807, /)\n",
      " |      Return first index of value.\n",
      " |      \n",
      " |      Raises ValueError if the value is not present.\n",
      " |  \n",
      " |  insert(self, index, object, /)\n",
      " |      Insert object before index.\n",
      " |  \n",
      " |  pop(self, index=-1, /)\n",
      " |      Remove and return item at index (default last).\n",
      " |      \n",
      " |      Raises IndexError if list is empty or index is out of range.\n",
      " |  \n",
      " |  remove(self, value, /)\n",
      " |      Remove first occurrence of value.\n",
      " |      \n",
      " |      Raises ValueError if the value is not present.\n",
      " |  \n",
      " |  reverse(self, /)\n",
      " |      Reverse *IN PLACE*.\n",
      " |  \n",
      " |  sort(self, /, *, key=None, reverse=False)\n",
      " |      Sort the list in ascending order and return None.\n",
      " |      \n",
      " |      The sort is in-place (i.e. the list itself is modified) and stable (i.e. the\n",
      " |      order of two equal elements is maintained).\n",
      " |      \n",
      " |      If a key function is given, apply it once to each list item and sort them,\n",
      " |      ascending or descending, according to their function values.\n",
      " |      \n",
      " |      The reverse flag can be set to sort in descending order.\n",
      " |  \n",
      " |  ----------------------------------------------------------------------\n",
      " |  Static methods defined here:\n",
      " |  \n",
      " |  __new__(*args, **kwargs) from builtins.type\n",
      " |      Create and return a new object.  See help(type) for accurate signature.\n",
      " |  \n",
      " |  ----------------------------------------------------------------------\n",
      " |  Data and other attributes defined here:\n",
      " |  \n",
      " |  __hash__ = None\n",
      "\n"
     ]
    }
   ],
   "source": [
    "help(List1)"
   ]
  },
  {
   "cell_type": "code",
   "execution_count": 34,
   "id": "756ad3bb-8db7-4f1e-86e2-a688922fa1fc",
   "metadata": {},
   "outputs": [
    {
     "data": {
      "text/plain": [
       "[1, 3.3, 'hello', 3.14, 1.34, 2.6, 'Banana']"
      ]
     },
     "execution_count": 34,
     "metadata": {},
     "output_type": "execute_result"
    }
   ],
   "source": [
    "List1"
   ]
  },
  {
   "cell_type": "code",
   "execution_count": 35,
   "id": "19982af4-f53e-42e1-8ec1-d47e18e3d263",
   "metadata": {},
   "outputs": [],
   "source": [
    "List2 = List1.copy()"
   ]
  },
  {
   "cell_type": "code",
   "execution_count": 36,
   "id": "f3a806b1-1375-4e50-b780-44d4579aaced",
   "metadata": {},
   "outputs": [
    {
     "data": {
      "text/plain": [
       "[1, 3.3, 'hello', 3.14, 1.34, 2.6, 'Banana']"
      ]
     },
     "execution_count": 36,
     "metadata": {},
     "output_type": "execute_result"
    }
   ],
   "source": [
    "List2"
   ]
  },
  {
   "cell_type": "code",
   "execution_count": 37,
   "id": "a88c1526-d58d-4291-b6e3-ede2f0907464",
   "metadata": {},
   "outputs": [],
   "source": [
    "List1.clear()"
   ]
  },
  {
   "cell_type": "code",
   "execution_count": 38,
   "id": "07001b18-4629-4c7f-b023-fda054446f03",
   "metadata": {},
   "outputs": [
    {
     "data": {
      "text/plain": [
       "[]"
      ]
     },
     "execution_count": 38,
     "metadata": {},
     "output_type": "execute_result"
    }
   ],
   "source": [
    "List1"
   ]
  },
  {
   "cell_type": "code",
   "execution_count": 39,
   "id": "4657d29d-b98e-401e-8719-17e456c2deed",
   "metadata": {},
   "outputs": [
    {
     "data": {
      "text/plain": [
       "[1, 3.3, 'hello', 3.14, 1.34, 2.6, 'Banana']"
      ]
     },
     "execution_count": 39,
     "metadata": {},
     "output_type": "execute_result"
    }
   ],
   "source": [
    "List2"
   ]
  },
  {
   "cell_type": "code",
   "execution_count": 45,
   "id": "01722755-f65a-4852-8e6c-6130b4ebabbe",
   "metadata": {},
   "outputs": [
    {
     "name": "stdout",
     "output_type": "stream",
     "text": [
      "item:  1\n",
      "item:  3.3\n",
      "item:  hello\n",
      "item:  3.14\n",
      "item:  1.34\n",
      "item:  2.6\n",
      "item:  Banana\n"
     ]
    }
   ],
   "source": [
    "for i in List2:\n",
    "    print(f\"item:  {i}\")"
   ]
  },
  {
   "cell_type": "code",
   "execution_count": 48,
   "id": "d05b7901-0b48-4d0d-a512-00a3520f8fe4",
   "metadata": {},
   "outputs": [],
   "source": [
    "class Student:\n",
    "    \n",
    "    def __init__(self, name, age, std):\n",
    "        self.name = name\n",
    "        self.age = age\n",
    "        self.std= std\n",
    "        \n",
    "    "
   ]
  },
  {
   "cell_type": "code",
   "execution_count": 49,
   "id": "38721280-ad5d-4be6-a4b7-a49131176fde",
   "metadata": {},
   "outputs": [],
   "source": [
    "a = Student(\"Manish\", 26, 16)"
   ]
  },
  {
   "cell_type": "code",
   "execution_count": 50,
   "id": "73f66aa7-406c-4512-ae21-d555a003dbc7",
   "metadata": {},
   "outputs": [
    {
     "data": {
      "text/plain": [
       "<__main__.Student at 0x289ac3c83a0>"
      ]
     },
     "execution_count": 50,
     "metadata": {},
     "output_type": "execute_result"
    }
   ],
   "source": [
    "a"
   ]
  },
  {
   "cell_type": "code",
   "execution_count": 51,
   "id": "cb07942b-e4f8-4b52-9a45-a9ac8945d347",
   "metadata": {},
   "outputs": [
    {
     "data": {
      "text/plain": [
       "__main__.Student"
      ]
     },
     "execution_count": 51,
     "metadata": {},
     "output_type": "execute_result"
    }
   ],
   "source": [
    "type(a)"
   ]
  },
  {
   "cell_type": "code",
   "execution_count": 52,
   "id": "bf7015a9-44f5-4d54-a502-42d5adf0b626",
   "metadata": {},
   "outputs": [
    {
     "data": {
      "text/plain": [
       "[1, 3.3, 'hello', 3.14, 1.34, 2.6, 'Banana']"
      ]
     },
     "execution_count": 52,
     "metadata": {},
     "output_type": "execute_result"
    }
   ],
   "source": [
    "List2"
   ]
  },
  {
   "cell_type": "code",
   "execution_count": 53,
   "id": "deae3653-6e9a-4dd3-9da4-a3162f69f33d",
   "metadata": {},
   "outputs": [
    {
     "data": {
      "text/plain": [
       "7"
      ]
     },
     "execution_count": 53,
     "metadata": {},
     "output_type": "execute_result"
    }
   ],
   "source": [
    "len(List2)"
   ]
  },
  {
   "cell_type": "code",
   "execution_count": 54,
   "id": "e947347f-19ff-44e3-802b-7a190b5d1f39",
   "metadata": {},
   "outputs": [
    {
     "ename": "IndexError",
     "evalue": "list index out of range",
     "output_type": "error",
     "traceback": [
      "\u001b[1;31m---------------------------------------------------------------------------\u001b[0m",
      "\u001b[1;31mIndexError\u001b[0m                                Traceback (most recent call last)",
      "Input \u001b[1;32mIn [54]\u001b[0m, in \u001b[0;36m<cell line: 1>\u001b[1;34m()\u001b[0m\n\u001b[1;32m----> 1\u001b[0m \u001b[43mList2\u001b[49m\u001b[43m[\u001b[49m\u001b[38;5;241;43m7\u001b[39;49m\u001b[43m]\u001b[49m\n",
      "\u001b[1;31mIndexError\u001b[0m: list index out of range"
     ]
    }
   ],
   "source": [
    "List2[7]"
   ]
  },
  {
   "cell_type": "code",
   "execution_count": 55,
   "id": "480875a3-1d09-42af-afec-343ca67efd58",
   "metadata": {},
   "outputs": [],
   "source": [
    "name = \"Manish\""
   ]
  },
  {
   "cell_type": "code",
   "execution_count": 56,
   "id": "31cce1d8-4ece-433a-b848-1a0104eba0c8",
   "metadata": {},
   "outputs": [
    {
     "data": {
      "text/plain": [
       "str"
      ]
     },
     "execution_count": 56,
     "metadata": {},
     "output_type": "execute_result"
    }
   ],
   "source": [
    "type(name)"
   ]
  },
  {
   "cell_type": "code",
   "execution_count": 57,
   "id": "2e2ebaeb-6b9d-4dde-93a5-b61017302c48",
   "metadata": {},
   "outputs": [
    {
     "data": {
      "text/plain": [
       "3"
      ]
     },
     "execution_count": 57,
     "metadata": {},
     "output_type": "execute_result"
    }
   ],
   "source": [
    "name.index('i')"
   ]
  },
  {
   "cell_type": "code",
   "execution_count": 58,
   "id": "1d298974-e68a-4239-a799-eb0b07e2eb56",
   "metadata": {},
   "outputs": [
    {
     "data": {
      "text/plain": [
       "'Manzsh'"
      ]
     },
     "execution_count": 58,
     "metadata": {},
     "output_type": "execute_result"
    }
   ],
   "source": [
    "name.replace('i','z')"
   ]
  },
  {
   "cell_type": "code",
   "execution_count": 1,
   "id": "4283c3d6-178f-4663-ba71-67da604a6d86",
   "metadata": {},
   "outputs": [],
   "source": [
    "friends= [\"kushal\", \"ravi\",\"manish\",\"yogesh\"] + [\"kushal\", \"ravi\",\"manish\",\"yogesh\"]+ [\"kushal\", \"ravi\",\"manish\",\"yogesh\"]"
   ]
  },
  {
   "cell_type": "code",
   "execution_count": 2,
   "id": "01409415-7dba-4b80-a67b-cf80710727f4",
   "metadata": {},
   "outputs": [
    {
     "data": {
      "text/plain": [
       "['kushal',\n",
       " 'ravi',\n",
       " 'manish',\n",
       " 'yogesh',\n",
       " 'kushal',\n",
       " 'ravi',\n",
       " 'manish',\n",
       " 'yogesh',\n",
       " 'kushal',\n",
       " 'ravi',\n",
       " 'manish',\n",
       " 'yogesh']"
      ]
     },
     "execution_count": 2,
     "metadata": {},
     "output_type": "execute_result"
    }
   ],
   "source": [
    "friends"
   ]
  },
  {
   "cell_type": "code",
   "execution_count": 7,
   "id": "5e487342-bc84-4981-b118-185e9c6bc381",
   "metadata": {},
   "outputs": [
    {
     "data": {
      "text/plain": [
       "'kushal'"
      ]
     },
     "execution_count": 7,
     "metadata": {},
     "output_type": "execute_result"
    }
   ],
   "source": [
    "i = 5\n",
    "friends.pop(i)"
   ]
  },
  {
   "cell_type": "code",
   "execution_count": null,
   "id": "e55da7d6-a40b-4599-b796-0c289fbeaf83",
   "metadata": {},
   "outputs": [],
   "source": []
  }
 ],
 "metadata": {
  "kernelspec": {
   "display_name": "Python 3 (ipykernel)",
   "language": "python",
   "name": "python3"
  },
  "language_info": {
   "codemirror_mode": {
    "name": "ipython",
    "version": 3
   },
   "file_extension": ".py",
   "mimetype": "text/x-python",
   "name": "python",
   "nbconvert_exporter": "python",
   "pygments_lexer": "ipython3",
   "version": "3.8.3"
  }
 },
 "nbformat": 4,
 "nbformat_minor": 5
}
