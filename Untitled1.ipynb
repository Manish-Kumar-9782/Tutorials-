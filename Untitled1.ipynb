{
 "cells": [
  {
   "cell_type": "code",
   "execution_count": 1,
   "id": "4fbd2f51-389a-46ae-84b8-43d908c9034a",
   "metadata": {},
   "outputs": [],
   "source": [
    "import time"
   ]
  },
  {
   "cell_type": "code",
   "execution_count": 2,
   "id": "dfc5d533-9454-4f99-be2f-0cb952da5076",
   "metadata": {},
   "outputs": [],
   "source": [
    "def calculate_tine(func):\n",
    "    \n",
    "    \n",
    "    def inner(*agrs, **kwargs):\n",
    "        \n",
    "        st_time = time.time()\n",
    "        \n",
    "        func(*args, **kwargs)\n",
    "        \n",
    "        end_time = time.time()\n",
    "        \n",
    "        print(\"Total time taken: \", end_time - st_time)\n",
    "        "
   ]
  },
  {
   "cell_type": "code",
   "execution_count": null,
   "id": "ca8437ed-5fe7-4549-b4e2-3e5545487517",
   "metadata": {},
   "outputs": [],
   "source": [
    "def "
   ]
  }
 ],
 "metadata": {
  "kernelspec": {
   "display_name": "Python 3 (ipykernel)",
   "language": "python",
   "name": "python3"
  },
  "language_info": {
   "codemirror_mode": {
    "name": "ipython",
    "version": 3
   },
   "file_extension": ".py",
   "mimetype": "text/x-python",
   "name": "python",
   "nbconvert_exporter": "python",
   "pygments_lexer": "ipython3",
   "version": "3.8.3"
  }
 },
 "nbformat": 4,
 "nbformat_minor": 5
}
