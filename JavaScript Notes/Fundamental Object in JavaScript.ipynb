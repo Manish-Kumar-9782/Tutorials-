{
 "cells": [
  {
   "cell_type": "markdown",
   "metadata": {},
   "source": [
    "# Fundaments Object type in JavaScript\n",
    "\n",
    "The **object** type represents one of JavaScript's data types. it is used to store various keyed collection and more complex entities. Objects can be created using the `Object()` constructor or the Object _initializer/ literal syntax_.\n",
    "\n",
    "Nearly all objects in JavaScript are instance of **`Object`**, a typical object inherits properties (including methods) from Object.prototype, although these properties may be overridden. \n",
    "\n",
    "However an `object` may be on purpose created for which this is not true (e.g by Object.create(null)) or it may be altered so that this is no longer true (e.g with Object.setPrototypeof).\n",
    "\n",
    "Changes to the `Object` prototype object are seen by all objects through prototype chaining, unless the properties and methods subject to those changes are overridden further along the prototype chain. This provides a very powerful although potentially dangerous mechanism to override or extend object behavior."
   ]
  },
  {
   "cell_type": "markdown",
   "metadata": {},
   "source": [
    "## Object() constructor\n",
    "\n",
    "The **`Object`** constructor turns the input into an object. its behavior depends on the input's type\n",
    "\n",
    "* If the value is null or undefined, it will create and return an empty object.\n",
    "* Otherwise, it will return an object of a Type that corresponds to the given value.\n",
    "* If the value is an object already, it will return the value.\n",
    "\n",
    "syntax:\n",
    "```js\n",
    "new Object(value)\n",
    "// or\n",
    "Object(value)\n",
    "```\n",
    "\n",
    "Note: `Object()` can be called with or without new. Both create a new object."
   ]
  },
  {
   "cell_type": "code",
   "execution_count": 2,
   "metadata": {},
   "outputs": [
    {
     "data": {
      "text/plain": [
       "{}"
      ]
     },
     "execution_count": 2,
     "metadata": {},
     "output_type": "execute_result"
    }
   ],
   "source": [
    "// creating the object with null, it will create an empty array.\n",
    "new Object(null)"
   ]
  },
  {
   "cell_type": "code",
   "execution_count": 3,
   "metadata": {},
   "outputs": [
    {
     "data": {
      "text/plain": [
       "{}"
      ]
     },
     "execution_count": 3,
     "metadata": {},
     "output_type": "execute_result"
    }
   ],
   "source": [
    "// creating the object with undefined, it will also create an empty array.\n",
    "Object(undefined)"
   ]
  },
  {
   "cell_type": "markdown",
   "metadata": {},
   "source": [
    "## Static Methods\n",
    "\n",
    "Object has various static method which can be useful on a specific situation.\n",
    "\n",
    "* Object.assign()\n",
    "* Object.create()\n",
    "* Object.defineProperty()\n",
    "* Object.defineProperties()\n",
    "* Object.entries()\n",
    "* Object.freeze()\n",
    "* Object.fromEntries()\n",
    "* Object.getOwnPropertyDescriptor()\n",
    "* Object.getOwnPropertyDescriptors()\n",
    "* Object.getOwnPropertyNames()\n",
    "* Object.getOwnPropertySymbols()\n",
    "* Object.getPrototypeOf()\n",
    "* Object.is()\n",
    "* Object.isExtensible()\n",
    "* Object.isFrozen()\n",
    "* Object.isSealed()\n",
    "* Object.keys()\n",
    "* Object.preventExtensions()\n",
    "* Object.seal()\n",
    "* Object.setPrototypeOf()\n",
    "* Object.values()"
   ]
  },
  {
   "cell_type": "markdown",
   "metadata": {},
   "source": [
    "### Object.assign() static method\n",
    "\n",
    "The `Object.assign()` method copies all enumerable own properties from on or more source objects to a target object. it returns the modified target object.\n",
    "\n",
    "```js\n",
    "Object.assign(target, ...sources);\n",
    "```\n",
    "\n",
    "Properties in the target object are overwritten by properties in the sources if they have the same key. Later sources properties overwrite earlier ones.\n",
    "\n",
    "The `Object.assign()` method only copies enumerable and own properties from a source object to a target object. it uses `[[Get]]` on the source and `[[Set]]` on the target, so it will invoke getters and setters. Therefore it assigns properties, versus copying or defining new properties. This amy make it unsuitable for merging new properties into a prototype if the merge sources contain getters.\n",
    "\n",
    "For copying property definition (including their enumerability) into prototype, use `Object.getOwnPropertyDescriptor()` and `Object.defineProperty()` instead.\n",
    "\n",
    "Both `String` and `Symbol` properties are copied.\n",
    "\n",
    "in case of an error, for example if a property is non-writable, a TypeError is raised, and the target object is changed if any properties are added before the error is raised."
   ]
  },
  {
   "cell_type": "code",
   "execution_count": 1,
   "metadata": {},
   "outputs": [],
   "source": [
    "// first we will make an object\n",
    "let student = {\n",
    "    name: \"manish\",\n",
    "    age: 26, \n",
    "    height: 5.7\n",
    "}\n"
   ]
  },
  {
   "cell_type": "code",
   "execution_count": 2,
   "metadata": {},
   "outputs": [
    {
     "name": "stdout",
     "output_type": "stream",
     "text": [
      "{ standard: '11th', rollno: 101, name: 'manish', age: 26, height: 5.7 }\n"
     ]
    }
   ],
   "source": [
    "// Now we will assign all that property to the other object.\n",
    "\n",
    "let st = {\n",
    "    standard: \"11th\",\n",
    "    rollno: 101\n",
    "}\n",
    "let newst = Object.assign(st, student);\n",
    "\n",
    "// now displaying the newst\n",
    "console.log(newst);"
   ]
  },
  {
   "cell_type": "markdown",
   "metadata": {},
   "source": [
    "As we can see that all the properties of `student` has been assigned to the st, Now if we inspect the `st object` it will have both st and student properties."
   ]
  },
  {
   "cell_type": "code",
   "execution_count": 4,
   "metadata": {},
   "outputs": [
    {
     "data": {
      "text/plain": [
       "{ standard: '11th', rollno: 101, name: 'manish', age: 26, height: 5.7 }"
      ]
     },
     "execution_count": 4,
     "metadata": {},
     "output_type": "execute_result"
    }
   ],
   "source": [
    "st"
   ]
  },
  {
   "cell_type": "markdown",
   "metadata": {},
   "source": [
    "#### Parameters\n",
    "\n",
    "<span style='color:#0077b6; font-weight:bold;'>target:</span>\n",
    "\n",
    "- The target object, on which we need to apply the sources properties to, which is returned after it is modified.\n",
    "\n",
    "<span style='color:#0077b6; font-weight:bold;'>sources:</span>\n",
    "\n",
    "- The source object(s), objects containing the properties we want to apply.\n",
    "\n",
    "<span style='color:#BB6B24; font-weight:bold;'>Return:</span>\n",
    "\n",
    "- The  target object.\n",
    "\n",
    "____"
   ]
  },
  {
   "cell_type": "markdown",
   "metadata": {},
   "source": [
    "### Object.create() static method\n",
    "\n",
    "The `object.create()` method creates a new object, using an existing object as the prototype of the newly created object.\n",
    "\n",
    "```js\n",
    "Object.create(proto);\n",
    "Object.create(proto, propertiesObject);\n",
    "```\n"
   ]
  },
  {
   "cell_type": "code",
   "execution_count": 1,
   "metadata": {},
   "outputs": [],
   "source": [
    "// first we will make an object\n",
    "let Student = {\n",
    "    show: function() {\n",
    "        console.log(\"Name:\".padEnd(12, \" \"), this.name);\n",
    "        console.log(\"Age:\".padEnd(12, \" \"), this.age);\n",
    "        console.log(\"height:\".padEnd(12, \" \"), this.height);\n",
    "    }\n",
    "}"
   ]
  },
  {
   "cell_type": "code",
   "execution_count": 2,
   "metadata": {},
   "outputs": [
    {
     "name": "stdout",
     "output_type": "stream",
     "text": [
      "Name:        manish\n",
      "Age:         26\n",
      "height:      5.7\n"
     ]
    }
   ],
   "source": [
    "// this student only contains the show function, now we will create a new object\n",
    "// by using this prototype.\n",
    "let new_st = Object.create(Student);\n",
    "// Now adding new properties\n",
    "new_st.name = \"manish\";\n",
    "new_st.age = 26\n",
    "new_st.height = 5.7\n",
    "\n",
    "// Now we will display the new_st object details by using the show \n",
    "// method.\n",
    "new_st.show();"
   ]
  },
  {
   "cell_type": "code",
   "execution_count": 3,
   "metadata": {},
   "outputs": [
    {
     "name": "stdout",
     "output_type": "stream",
     "text": [
      "Name:        manish\n",
      "Age:         26\n",
      "height:      5.7\n"
     ]
    }
   ],
   "source": [
    "// Creating the new object by properties with proto.\n",
    "\n",
    "let new_st2 = Object.create(Student, {\n",
    "    name:{value:\"manish\", enumerable:true},\n",
    "    age: {value:26, enumerable:true}, \n",
    "    height: {value:5.7, enumerable:true}\n",
    "})\n",
    "\n",
    "// Now we will display the new_st2 by using the show method.\n",
    "new_st2.show() "
   ]
  },
  {
   "cell_type": "markdown",
   "metadata": {},
   "source": [
    "Note: here in the above code we have use a propertiesObject which allow us to define more internal setting on the properties."
   ]
  },
  {
   "cell_type": "markdown",
   "metadata": {},
   "source": [
    "#### Parameters\n",
    "\n",
    "<span style='color:#0077b6; font-weight:bold;'>proto:</span>\n",
    "\n",
    "- The object which should be the prototype of the newly-created object.\n",
    "\n",
    "<span style='color:#0077b6; font-weight:bold;'>propertiesObject</span>`(Optional)`\n",
    "\n",
    "- if specified and not `undefined`, an object whose enumerable own properties specify property descriptors to be added to the newly-created object, with the corresponding property names. These properties correspond to the second argument of `Object.defineProperties()`.\n",
    "\n",
    "<span style='color:#BB6B24; font-weight:bold;'>Return:</span>\n",
    "\n",
    "- A new object with the specified prototype object and properties.\n",
    "\n",
    "___"
   ]
  },
  {
   "cell_type": "markdown",
   "metadata": {},
   "source": [
    "### Object.defineProperty() static method\n",
    "\n",
    "The static method `Object.defineProperty()` defines a new property directly on an object, or modifies an existing property on an object, and returns the object.\n",
    "\n",
    "This method allows a precise addition to or modification of a property on an object. Normal property addition through assignment creates properties which show up during property enumeration (`for...in` loop or `Object.keys()` method), whose values many be changed, and which may be deleted. This method allows these extra details to be changed from their defaults. By default, properties added using `Object.defineProperty()` are not writable, not enumerable, adn not configurable.\n",
    "\n",
    "Property descriptors present in object come in tow amin flavors: data descriptors and accessor descriptors.\n",
    "\n",
    "- A **data descriptor** is a property that has a value, which may or may not be writable.\n",
    "- An **accessor descriptor** is a property described by a getter-setter pair of functions. A descriptor must be one of theses two flavors; it cannot be both.\n",
    "\n",
    "Both data and accessor descriptors are objects. They share following optional keys.\n",
    "\n",
    "<span style='color:#0077b6; font-weight:bold;'>configurable:</span>\n",
    "\n",
    "- when this is set to `false`,\n",
    "  * the type of this property cannot be changed b/w data property and accessor property.\n",
    "  * the property may not be deleted,\n",
    "  * other attributes of its descriptr cannot be changed (however, if it's data descriptor with `writable:true`, the `value` can be changed, and writable can be changed to `false`).\n",
    "\n",
    "- Defaults to `false`.\n",
    "\n",
    "<span style='color:#0077b6; font-weight:bold;'>enumerable:</span>\n",
    "\n",
    "- `true` if and only if this property shows up during enumeration of the properties on the corresponding object. Defaults to `false`.\n",
    "\n",
    "\n",
    "<span style='color:#0077b6; font-weight:bold;'>value:</span>\n",
    "\n",
    "- The value associated with the property. can be any valid JavaScript value (number, object, function, etc..). Defaults to undefined.\n",
    "\n",
    "<span style='color:#0077b6; font-weight:bold;'>writable:</span>\n",
    "\n",
    "- `true` if the value associated with the property may be changed with an assignment operator. Defaults to `false`.\n",
    "- An **accessor descriptor** also has the following optional keys.\n",
    "  \n",
    "  - <span style='color:#0077b6; font-weight:bold;'>get:</span>\n",
    "    - A function which serves as a getter for the property, or undefined if there is no getter, when the property is accessed, this function is called without arguments and with this set to the object through which the property is accessed (this may not be the object on which the property is defined due to inheritance). The returned value will be used as the value of the property. Defaults to undefined.\n",
    "    \n",
    "  - <span style='color:#0077b6; font-weight:bold;'>set:</span>\n",
    "    - A function which serves as a setter for the property, or undefined if there is no setter, when the property is assigned, this function is called with one argument (the value being assigned to the property) and with `this` set to the object through which the property is assigned. Defaults to undefined.\n",
    "\n",
    "Note: if a descriptor ahs neither of `value`, `writable`, `get` and `set` keys, it is treated as a data descriptor. if a descriptor has both [`value` or `writable`] and [`get` or `set`] keys, an exception it thrown.\n"
   ]
  },
  {
   "cell_type": "markdown",
   "metadata": {},
   "source": [
    "**Syntax:**\n",
    "```js\n",
    "Object.defineProperty(obj, prop, descriptor)\n",
    "```"
   ]
  },
  {
   "cell_type": "code",
   "execution_count": 1,
   "metadata": {},
   "outputs": [],
   "source": [
    "// Now we will create new oject and we will add some \n",
    "// properties to that object.\n",
    "let object = {};"
   ]
  },
  {
   "cell_type": "code",
   "execution_count": 2,
   "metadata": {},
   "outputs": [
    {
     "name": "stdout",
     "output_type": "stream",
     "text": [
      "manish\n"
     ]
    }
   ],
   "source": [
    "// Now we need to add some property that object.\n",
    "Object.defineProperty(object, \"Name\", {\n",
    "    value: \"manish\",\n",
    "    writable: false,\n",
    "    enumerable: false\n",
    "})\n",
    "\n",
    "// Now property Name, can not be set with different value.\n",
    "// this property will not be visible while using with the\n",
    "// for loop.\n",
    "console.log(object.Name);"
   ]
  },
  {
   "cell_type": "code",
   "execution_count": 3,
   "metadata": {},
   "outputs": [
    {
     "data": {
      "text/plain": [
       "10"
      ]
     },
     "execution_count": 3,
     "metadata": {},
     "output_type": "execute_result"
    }
   ],
   "source": [
    "// if we now to set the Name then it will throw an error.\n",
    "object.Name = 10;"
   ]
  },
  {
   "cell_type": "code",
   "execution_count": 4,
   "metadata": {},
   "outputs": [
    {
     "data": {
      "text/plain": [
       "'manish'"
      ]
     },
     "execution_count": 4,
     "metadata": {},
     "output_type": "execute_result"
    }
   ],
   "source": [
    "// Now if we want to test the object Name again it will show the\n",
    "// old value.\n",
    "object.Name"
   ]
  },
  {
   "cell_type": "markdown",
   "metadata": {},
   "source": [
    "#### Parameters\n",
    "\n",
    "<span style='color:#0077b6; font-weight:bold;'>obj:</span>\n",
    "\n",
    "- The object on which to define the property\n",
    "\n",
    "<span style='color:#0077b6; font-weight:bold;'>prop:</span>\n",
    "\n",
    "- The name or Symbol of the property to be defined or modified.\n",
    "\n",
    "<span style='color:#0077b6; font-weight:bold;'>descriptor:</span>\n",
    "\n",
    "- the descriptor for the property being defined or modified.\n",
    "\n",
    "<span style='color:#BB6B24; font-weight:bold;'>Return:</span>\n",
    "\n",
    "- The object that was passed to the function.\n",
    "\n",
    "____"
   ]
  },
  {
   "cell_type": "markdown",
   "metadata": {},
   "source": [
    "### Object.defineProperties() static method\n",
    "\n",
    "The `Object.defineProperties()` method defines new or modifies existing properties directly on an object, returning the object.\n",
    "\n",
    "```js\n",
    "Object.defineProperties(obj, props)\n",
    "```"
   ]
  },
  {
   "cell_type": "code",
   "execution_count": 1,
   "metadata": {},
   "outputs": [
    {
     "data": {
      "text/plain": [
       "{}"
      ]
     },
     "execution_count": 1,
     "metadata": {},
     "output_type": "execute_result"
    }
   ],
   "source": [
    "let obj = {};\n",
    "Object.defineProperties(obj, {\n",
    "  'Name': {\n",
    "    value: \"Manish\",\n",
    "    writable: true\n",
    "  },\n",
    "  'Age': {\n",
    "    value: 26,\n",
    "    writable: false,\n",
    "    enumerable: false // by default it will be false\n",
    "  }\n",
    "  // etc. etc.\n",
    "});"
   ]
  },
  {
   "cell_type": "code",
   "execution_count": 2,
   "metadata": {},
   "outputs": [
    {
     "data": {
      "text/plain": [
       "{}"
      ]
     },
     "execution_count": 2,
     "metadata": {},
     "output_type": "execute_result"
    }
   ],
   "source": [
    "// if we inspect the element on the console it will show the \n",
    "// properties or may be not on the outside the console.\n",
    "obj"
   ]
  },
  {
   "cell_type": "code",
   "execution_count": 3,
   "metadata": {},
   "outputs": [
    {
     "data": {
      "text/plain": [
       "'Manish'"
      ]
     },
     "execution_count": 3,
     "metadata": {},
     "output_type": "execute_result"
    }
   ],
   "source": [
    "// if we try to access the Name property we can access that.\n",
    "obj.Name"
   ]
  },
  {
   "cell_type": "code",
   "execution_count": 4,
   "metadata": {},
   "outputs": [
    {
     "data": {
      "text/plain": [
       "26"
      ]
     },
     "execution_count": 4,
     "metadata": {},
     "output_type": "execute_result"
    }
   ],
   "source": [
    "// we can also access the Age property\n",
    "obj.Age"
   ]
  },
  {
   "cell_type": "code",
   "execution_count": 5,
   "metadata": {},
   "outputs": [
    {
     "data": {
      "text/plain": [
       "[]"
      ]
     },
     "execution_count": 5,
     "metadata": {},
     "output_type": "execute_result"
    }
   ],
   "source": [
    "// If we try to get the all keys form the object\n",
    "Object.keys(obj);"
   ]
  },
  {
   "cell_type": "markdown",
   "metadata": {},
   "source": [
    "### Parameters\n",
    "\n",
    "<span style='color:#0077b6; font-weight:bold;'>obj</span>\n",
    "\n",
    "- The object on which the define or modify properties.\n",
    "\n",
    "<span style='color:#0077b6; font-weight:bold;'>props</span>\n",
    "\n",
    "- An object whose keys represent the names of properties to be defined or modified and whose values are objects describing those properties. Each value in `props` must be either a data descriptor or an accessor descriptor; it cannot be both.\n",
    "- Data descriptor and accessor descriptors many optionally contain the following keys:\n",
    "\n",
    "\n",
    "  - <span style='color:#0077b6; font-weight:bold;'>configurable</span>\n",
    "    - `true` if and only if the type of this property descriptor may be changed and if the property may be deleted from the corresponding object. Default to `false`.\n",
    "  \n",
    "  - <span style='color:#0077b6; font-weight:bold;'>enumerable</span>\n",
    "    - `true` if and only if this property shows up during enumeration of the properties on the corresponding object. Defaults to `false`.\n",
    "  - A data descriptor also has the following optional keys.\n",
    "  \n",
    "  - <span style='color:#0077b6; font-weight:bold;'>value</span>\n",
    "    - The value associated with the property. Can be any valid JavaScript value (number, object, function, string, etc.). Defaults to undefined.\n",
    "  \n",
    "  - <span style='color:#0077b6; font-weight:bold;'>writable</span>\n",
    "    - `true` if and only if the value associated with the property may be changed with an assignment operator. Defaults to `false`.\n",
    "  \n",
    "  - An accessor descriptor also has the following optional keys:\n",
    "  \n",
    "  - <span style='color:#0077b6; font-weight:bold;'>get</span>\n",
    "    - A function which serves as a getter for the property, or undefined if there is no getter. The function's return value will be used as the value of the property. Defaults to undefined.\n",
    "  \n",
    "  - <span style='color:#0077b6; font-weight:bold;'>set</span>\n",
    "    - A function which serves as a setter for the property, or undefined if there is no setter. The function will receive as its only argument the new value being assigned to the property. Defaults to undefined.\n",
    "\n",
    "Note: if a descriptor has neither of value, writable, get and set keys, it is treated as a data descriptor. if a descriptor has both value or writable and get or set keys an exception is thrown.\n",
    "\n",
    "<span style='color:#BB6B24; font-weight:bold;'>Return:</span>\n",
    "\n",
    "- The object that was passed to the function.\n",
    "\n",
    "___"
   ]
  },
  {
   "cell_type": "markdown",
   "metadata": {},
   "source": [
    "### Object.entries() static method\n",
    "\n",
    "The Object.entries() method returns an array of a given object's own enumerable string-keyed property `[key, value]` pairs. This is the same as iterating with a `for...in` loop, except that a for...in loop enumerates properties in the prototype chain as well.\n",
    "\n",
    "The order of the array returned by `Object.entries()` is the same as that provided by a `for...in` loop. if there is a need for different ordering, then the array should be sorted first, like \n",
    "\n",
    "```js\n",
    "Object.entries(obj).sort((a,b) =>\n",
    "    a[0].localCompare(b[0]))\n",
    "```"
   ]
  },
  {
   "cell_type": "code",
   "execution_count": 6,
   "metadata": {},
   "outputs": [],
   "source": [
    "let man = {\n",
    "    name: \"manish\",\n",
    "    age: 26,\n",
    "    height: 5.7\n",
    "}"
   ]
  },
  {
   "cell_type": "code",
   "execution_count": 7,
   "metadata": {},
   "outputs": [
    {
     "data": {
      "text/plain": [
       "[ [ 'name', 'manish' ], [ 'age', 26 ], [ 'height', 5.7 ] ]"
      ]
     },
     "execution_count": 7,
     "metadata": {},
     "output_type": "execute_result"
    }
   ],
   "source": [
    "// first we will use the Object.entries() \n",
    "Object.entries(man);"
   ]
  },
  {
   "cell_type": "code",
   "execution_count": 9,
   "metadata": {},
   "outputs": [
    {
     "name": "stdout",
     "output_type": "stream",
     "text": [
      "name:\tmanish\n",
      "age:\t26\n",
      "height:\t5.7\n"
     ]
    }
   ],
   "source": [
    "// now Object.entries() with the for...of loop.\n",
    "for(let [key, value] of Object.entries(man)){\n",
    "    console.log(`${key}:\\t${value}`)\n",
    "}"
   ]
  },
  {
   "cell_type": "code",
   "execution_count": null,
   "metadata": {},
   "outputs": [],
   "source": []
  }
 ],
 "metadata": {
  "kernelspec": {
   "display_name": "JavaScript (Node.js)",
   "language": "javascript",
   "name": "javascript"
  },
  "language_info": {
   "file_extension": ".js",
   "mimetype": "application/javascript",
   "name": "javascript",
   "version": "16.17.0"
  },
  "orig_nbformat": 4
 },
 "nbformat": 4,
 "nbformat_minor": 2
}
