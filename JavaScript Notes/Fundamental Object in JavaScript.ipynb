{
 "cells": [
  {
   "cell_type": "markdown",
   "metadata": {},
   "source": [
    "# Fundaments Object type in JavaScript\n",
    "\n",
    "The **object** type represents one of JavaScript's data types. it is used to store various keyed collection and more complex entities. Objects can be created using the `Object()` constructor or the Object _initializer/ literal syntax_.\n",
    "\n",
    "Nearly all objects in JavaScript are instance of **`Object`**, a typical object inherits properties (including methods) from Object.prototype, although these properties may be overridden. \n",
    "\n",
    "However an `object` may be on purpose created for which this is not true (e.g by Object.create(null)) or it may be altered so that this is no longer true (e.g with Object.setPrototypeof).\n",
    "\n",
    "Changes to the `Object` prototype object are seen by all objects through prototype chaining, unless the properties and methods subject to those changes are overridden further along the prototype chain. This provides a very powerful although potentially dangerous mechanism to override or extend object behavior."
   ]
  },
  {
   "cell_type": "markdown",
   "metadata": {},
   "source": [
    "## Object() constructor\n",
    "\n",
    "The **`Object`** constructor turns the input into an object. its behavior depends on the input's type\n",
    "\n",
    "* If the value is null or undefined, it will create and return an empty object.\n",
    "* Otherwise, it will return an object of a Type that corresponds to the given value.\n",
    "* If the value is an object already, it will return the value.\n",
    "\n",
    "syntax:\n",
    "```js\n",
    "new Object(value)\n",
    "// or\n",
    "Object(value)\n",
    "```\n",
    "\n",
    "Note: `Object()` can be called with or without new. Both create a new object."
   ]
  },
  {
   "cell_type": "code",
   "execution_count": 2,
   "metadata": {},
   "outputs": [
    {
     "data": {
      "text/plain": [
       "{}"
      ]
     },
     "execution_count": 2,
     "metadata": {},
     "output_type": "execute_result"
    }
   ],
   "source": [
    "// creating the object with null, it will create an empty array.\n",
    "new Object(null)"
   ]
  },
  {
   "cell_type": "code",
   "execution_count": 3,
   "metadata": {},
   "outputs": [
    {
     "data": {
      "text/plain": [
       "{}"
      ]
     },
     "execution_count": 3,
     "metadata": {},
     "output_type": "execute_result"
    }
   ],
   "source": [
    "// creating the object with undefined, it will also create an empty array.\n",
    "Object(undefined)"
   ]
  },
  {
   "cell_type": "markdown",
   "metadata": {},
   "source": [
    "## Static Methods\n",
    "\n",
    "Object has various static method which can be useful on a specific situation.\n",
    "\n",
    "* Object.assign()\n",
    "* Object.create()\n",
    "* Object.defineProperty()\n",
    "* Object.defineProperties()\n",
    "* Object.entries()\n",
    "* Object.freeze()\n",
    "* Object.fromEntries()\n",
    "* Object.getOwnPropertyDescriptor()\n",
    "* Object.getOwnPropertyDescriptors()\n",
    "* Object.getOwnPropertyNames()\n",
    "* Object.getOwnPropertySymbols()\n",
    "* Object.getPrototypeOf()\n",
    "* Object.is()\n",
    "* Object.isExtensible()\n",
    "* Object.isFrozen()\n",
    "* Object.isSealed()\n",
    "* Object.keys()\n",
    "* Object.preventExtensions()\n",
    "* Object.seal()\n",
    "* Object.setPrototypeOf()\n",
    "* Object.values()"
   ]
  },
  {
   "cell_type": "markdown",
   "metadata": {},
   "source": [
    "### Object.assign() static method\n",
    "\n",
    "The `Object.assign()` method copies all enumerable own properties from on or more source objects to a target object. it returns the modified target object.\n",
    "\n",
    "```js\n",
    "Object.assign(target, ...sources);\n",
    "```\n",
    "\n",
    "Properties in the target object are overwritten by properties in the sources if they have the same key. Later sources properties overwrite earlier ones.\n",
    "\n",
    "The `Object.assign()` method only copies enumerable and own properties from a source object to a target object. it uses `[[Get]]` on the source and `[[Set]]` on the target, so it will invoke getters and setters. Therefore it assigns properties, versus copying or defining new properties. This amy make it unsuitable for merging new properties into a prototype if the merge sources contain getters.\n",
    "\n",
    "For copying property definition (including their enumerability) into prototype, use `Object.getOwnPropertyDescriptor()` and `Object.defineProperty()` instead.\n",
    "\n",
    "Both `String` and `Symbol` properties are copied.\n",
    "\n",
    "in case of an error, for example if a property is non-writable, a TypeError is raised, and the target object is changed if any properties are added before the error is raised."
   ]
  },
  {
   "cell_type": "code",
   "execution_count": 1,
   "metadata": {},
   "outputs": [],
   "source": [
    "// first we will make an object\n",
    "let student = {\n",
    "    name: \"manish\",\n",
    "    age: 26, \n",
    "    height: 5.7\n",
    "}\n"
   ]
  },
  {
   "cell_type": "code",
   "execution_count": 2,
   "metadata": {},
   "outputs": [
    {
     "name": "stdout",
     "output_type": "stream",
     "text": [
      "{ standard: '11th', rollno: 101, name: 'manish', age: 26, height: 5.7 }\n"
     ]
    }
   ],
   "source": [
    "// Now we will assign all that property to the other object.\n",
    "\n",
    "let st = {\n",
    "    standard: \"11th\",\n",
    "    rollno: 101\n",
    "}\n",
    "let newst = Object.assign(st, student);\n",
    "\n",
    "// now displaying the newst\n",
    "console.log(newst);"
   ]
  },
  {
   "cell_type": "markdown",
   "metadata": {},
   "source": [
    "As we can see that all the properties of `student` has been assigned to the st, Now if we inspect the `st object` it will have both st and student properties."
   ]
  },
  {
   "cell_type": "code",
   "execution_count": 4,
   "metadata": {},
   "outputs": [
    {
     "data": {
      "text/plain": [
       "{ standard: '11th', rollno: 101, name: 'manish', age: 26, height: 5.7 }"
      ]
     },
     "execution_count": 4,
     "metadata": {},
     "output_type": "execute_result"
    }
   ],
   "source": [
    "st"
   ]
  },
  {
   "cell_type": "markdown",
   "metadata": {},
   "source": [
    "#### Parameters\n",
    "\n",
    "<span style='color:#0077b6; font-weight:bold;'>target:</span>\n",
    "\n",
    "- The target object, on which we need to apply the sources properties to, which is returned after it is modified.\n",
    "\n",
    "<span style='color:#0077b6; font-weight:bold;'>sources:</span>\n",
    "\n",
    "- The source object(s), objects containing the properties we want to apply.\n",
    "\n",
    "<span style='color:#BB6B24; font-weight:bold;'>Return:</span>\n",
    "\n",
    "- The  target object.\n",
    "\n",
    "____"
   ]
  },
  {
   "cell_type": "markdown",
   "metadata": {},
   "source": [
    "### Object.create() static method\n",
    "\n",
    "The `object.create()` method creates a new object, using an existing object as the prototype of the newly created object.\n",
    "\n",
    "```js\n",
    "Object.create(proto);\n",
    "Object.create(proto, propertiesObject);\n",
    "```\n"
   ]
  },
  {
   "cell_type": "code",
   "execution_count": 1,
   "metadata": {},
   "outputs": [],
   "source": [
    "// first we will make an object\n",
    "let Student = {\n",
    "    show: function() {\n",
    "        console.log(\"Name:\".padEnd(12, \" \"), this.name);\n",
    "        console.log(\"Age:\".padEnd(12, \" \"), this.age);\n",
    "        console.log(\"height:\".padEnd(12, \" \"), this.height);\n",
    "    }\n",
    "}"
   ]
  },
  {
   "cell_type": "code",
   "execution_count": 2,
   "metadata": {},
   "outputs": [
    {
     "name": "stdout",
     "output_type": "stream",
     "text": [
      "Name:        manish\n",
      "Age:         26\n",
      "height:      5.7\n"
     ]
    }
   ],
   "source": [
    "// this student only contains the show function, now we will create a new object\n",
    "// by using this prototype.\n",
    "let new_st = Object.create(Student);\n",
    "// Now adding new properties\n",
    "new_st.name = \"manish\";\n",
    "new_st.age = 26\n",
    "new_st.height = 5.7\n",
    "\n",
    "// Now we will display the new_st object details by using the show \n",
    "// method.\n",
    "new_st.show();"
   ]
  },
  {
   "cell_type": "code",
   "execution_count": 3,
   "metadata": {},
   "outputs": [
    {
     "name": "stdout",
     "output_type": "stream",
     "text": [
      "Name:        manish\n",
      "Age:         26\n",
      "height:      5.7\n"
     ]
    }
   ],
   "source": [
    "// Creating the new object by properties with proto.\n",
    "\n",
    "let new_st2 = Object.create(Student, {\n",
    "    name:{value:\"manish\", enumerable:true},\n",
    "    age: {value:26, enumerable:true}, \n",
    "    height: {value:5.7, enumerable:true}\n",
    "})\n",
    "\n",
    "// Now we will display the new_st2 by using the show method.\n",
    "new_st2.show() "
   ]
  },
  {
   "cell_type": "markdown",
   "metadata": {},
   "source": [
    "Note: here in the above code we have use a propertiesObject which allow us to define more internal setting on the properties."
   ]
  },
  {
   "cell_type": "markdown",
   "metadata": {},
   "source": [
    "#### Parameters\n",
    "\n",
    "<span style='color:#0077b6; font-weight:bold;'>proto:</span>\n",
    "\n",
    "- The object which should be the prototype of the newly-created object.\n",
    "\n",
    "<span style='color:#0077b6; font-weight:bold;'>propertiesObject</span>`(Optional)`\n",
    "\n",
    "- if specified and not `undefined`, an object whose enumerable own properties specify property descriptors to be added to the newly-created object, with the corresponding property names. These properties correspond to the second argument of `Object.defineProperties()`.\n",
    "\n",
    "<span style='color:#BB6B24; font-weight:bold;'>Return:</span>\n",
    "\n",
    "- A new object with the specified prototype object and properties.\n",
    "\n",
    "___"
   ]
  },
  {
   "cell_type": "markdown",
   "metadata": {},
   "source": [
    "### Object.defineProperty() static method\n",
    "\n",
    "The static method `Object.defineProperty()` defines a new property directly on an object, or modifies an existing property on an object, and returns the object.\n",
    "\n",
    "This method allows a precise addition to or modification of a property on an object. Normal property addition through assignment creates properties which show up during property enumeration (`for...in` loop or `Object.keys()` method), whose values many be changed, and which may be deleted. This method allows these extra details to be changed from their defaults. By default, properties added using `Object.defineProperty()` are not writable, not enumerable, adn not configurable.\n",
    "\n",
    "Property descriptors present in object come in tow amin flavors: data descriptors and accessor descriptors.\n",
    "\n",
    "- A **data descriptor** is a property that has a value, which may or may not be writable.\n",
    "- An **accessor descriptor** is a property described by a getter-setter pair of functions. A descriptor must be one of theses two flavors; it cannot be both.\n",
    "\n",
    "Both data and accessor descriptors are objects. They share following optional keys.\n",
    "\n",
    "<span style='color:#0077b6; font-weight:bold;'>configurable:</span>\n",
    "\n",
    "- when this is set to `false`,\n",
    "  * the type of this property cannot be changed b/w data property and accessor property.\n",
    "  * the property may not be deleted,\n",
    "  * other attributes of its descriptr cannot be changed (however, if it's data descriptor with `writable:true`, the `value` can be changed, and writable can be changed to `false`).\n",
    "\n",
    "- Defaults to `false`.\n",
    "\n",
    "<span style='color:#0077b6; font-weight:bold;'>enumerable:</span>\n",
    "\n",
    "- `true` if and only if this property shows up during enumeration of the properties on the corresponding object. Defaults to `false`.\n",
    "\n",
    "\n",
    "<span style='color:#0077b6; font-weight:bold;'>value:</span>\n",
    "\n",
    "- The value associated with the property. can be any valid JavaScript value (number, object, function, etc..). Defaults to undefined.\n",
    "\n",
    "<span style='color:#0077b6; font-weight:bold;'>writable:</span>\n",
    "\n",
    "- `true` if the value associated with the property may be changed with an assignment operator. Defaults to `false`.\n",
    "- An **accessor descriptor** also has the following optional keys.\n",
    "  \n",
    "  - <span style='color:#0077b6; font-weight:bold;'>get:</span>\n",
    "    - A function which serves as a getter for the property, or undefined if there is no getter, when the property is accessed, this function is called without arguments and with this set to the object through which the property is accessed (this may not be the object on which the property is defined due to inheritance). The returned value will be used as the value of the property. Defaults to undefined.\n",
    "    \n",
    "  - <span style='color:#0077b6; font-weight:bold;'>set:</span>\n",
    "    - A function which serves as a setter for the property, or undefined if there is no setter, when the property is assigned, this function is called with one argument (the value being assigned to the property) and with `this` set to the object through which the property is assigned. Defaults to undefined.\n",
    "\n",
    "Note: if a descriptor ahs neither of `value`, `writable`, `get` and `set` keys, it is treated as a data descriptor. if a descriptor has both [`value` or `writable`] and [`get` or `set`] keys, an exception it thrown.\n"
   ]
  },
  {
   "cell_type": "markdown",
   "metadata": {},
   "source": [
    "**Syntax:**\n",
    "```js\n",
    "Object.defineProperty(obj, prop, descriptor)\n",
    "```"
   ]
  },
  {
   "cell_type": "code",
   "execution_count": 1,
   "metadata": {},
   "outputs": [],
   "source": [
    "// Now we will create new oject and we will add some \n",
    "// properties to that object.\n",
    "let object = {};"
   ]
  },
  {
   "cell_type": "code",
   "execution_count": 2,
   "metadata": {},
   "outputs": [
    {
     "name": "stdout",
     "output_type": "stream",
     "text": [
      "manish\n"
     ]
    }
   ],
   "source": [
    "// Now we need to add some property that object.\n",
    "Object.defineProperty(object, \"Name\", {\n",
    "    value: \"manish\",\n",
    "    writable: false,\n",
    "    enumerable: false\n",
    "})\n",
    "\n",
    "// Now property Name, can not be set with different value.\n",
    "// this property will not be visible while using with the\n",
    "// for loop.\n",
    "console.log(object.Name);"
   ]
  },
  {
   "cell_type": "code",
   "execution_count": 3,
   "metadata": {},
   "outputs": [
    {
     "data": {
      "text/plain": [
       "10"
      ]
     },
     "execution_count": 3,
     "metadata": {},
     "output_type": "execute_result"
    }
   ],
   "source": [
    "// if we now to set the Name then it will throw an error.\n",
    "object.Name = 10;"
   ]
  },
  {
   "cell_type": "code",
   "execution_count": 4,
   "metadata": {},
   "outputs": [
    {
     "data": {
      "text/plain": [
       "'manish'"
      ]
     },
     "execution_count": 4,
     "metadata": {},
     "output_type": "execute_result"
    }
   ],
   "source": [
    "// Now if we want to test the object Name again it will show the\n",
    "// old value.\n",
    "object.Name"
   ]
  },
  {
   "cell_type": "markdown",
   "metadata": {},
   "source": [
    "#### Parameters\n",
    "\n",
    "<span style='color:#0077b6; font-weight:bold;'>obj:</span>\n",
    "\n",
    "- The object on which to define the property\n",
    "\n",
    "<span style='color:#0077b6; font-weight:bold;'>prop:</span>\n",
    "\n",
    "- The name or Symbol of the property to be defined or modified.\n",
    "\n",
    "<span style='color:#0077b6; font-weight:bold;'>descriptor:</span>\n",
    "\n",
    "- the descriptor for the property being defined or modified.\n",
    "\n",
    "<span style='color:#BB6B24; font-weight:bold;'>Return:</span>\n",
    "\n",
    "- The object that was passed to the function.\n",
    "\n",
    "____"
   ]
  },
  {
   "cell_type": "markdown",
   "metadata": {},
   "source": [
    "### Object.defineProperties() static method\n",
    "\n",
    "The `Object.defineProperties()` method defines new or modifies existing properties directly on an object, returning the object.\n",
    "\n",
    "```js\n",
    "Object.defineProperties(obj, props)\n",
    "```"
   ]
  },
  {
   "cell_type": "code",
   "execution_count": 1,
   "metadata": {},
   "outputs": [
    {
     "data": {
      "text/plain": [
       "{}"
      ]
     },
     "execution_count": 1,
     "metadata": {},
     "output_type": "execute_result"
    }
   ],
   "source": [
    "let obj = {};\n",
    "Object.defineProperties(obj, {\n",
    "  'Name': {\n",
    "    value: \"Manish\",\n",
    "    writable: true\n",
    "  },\n",
    "  'Age': {\n",
    "    value: 26,\n",
    "    writable: false,\n",
    "    enumerable: false // by default it will be false\n",
    "  }\n",
    "  // etc. etc.\n",
    "});"
   ]
  },
  {
   "cell_type": "code",
   "execution_count": 2,
   "metadata": {},
   "outputs": [
    {
     "data": {
      "text/plain": [
       "{}"
      ]
     },
     "execution_count": 2,
     "metadata": {},
     "output_type": "execute_result"
    }
   ],
   "source": [
    "// if we inspect the element on the console it will show the \n",
    "// properties or may be not on the outside the console.\n",
    "obj"
   ]
  },
  {
   "cell_type": "code",
   "execution_count": 3,
   "metadata": {},
   "outputs": [
    {
     "data": {
      "text/plain": [
       "'Manish'"
      ]
     },
     "execution_count": 3,
     "metadata": {},
     "output_type": "execute_result"
    }
   ],
   "source": [
    "// if we try to access the Name property we can access that.\n",
    "obj.Name"
   ]
  },
  {
   "cell_type": "code",
   "execution_count": 4,
   "metadata": {},
   "outputs": [
    {
     "data": {
      "text/plain": [
       "26"
      ]
     },
     "execution_count": 4,
     "metadata": {},
     "output_type": "execute_result"
    }
   ],
   "source": [
    "// we can also access the Age property\n",
    "obj.Age"
   ]
  },
  {
   "cell_type": "code",
   "execution_count": 5,
   "metadata": {},
   "outputs": [
    {
     "data": {
      "text/plain": [
       "[]"
      ]
     },
     "execution_count": 5,
     "metadata": {},
     "output_type": "execute_result"
    }
   ],
   "source": [
    "// If we try to get the all keys form the object\n",
    "Object.keys(obj);"
   ]
  },
  {
   "cell_type": "markdown",
   "metadata": {},
   "source": [
    "### Parameters\n",
    "\n",
    "<span style='color:#0077b6; font-weight:bold;'>obj</span>\n",
    "\n",
    "- The object on which the define or modify properties.\n",
    "\n",
    "<span style='color:#0077b6; font-weight:bold;'>props</span>\n",
    "\n",
    "- An object whose keys represent the names of properties to be defined or modified and whose values are objects describing those properties. Each value in `props` must be either a data descriptor or an accessor descriptor; it cannot be both.\n",
    "- Data descriptor and accessor descriptors many optionally contain the following keys:\n",
    "\n",
    "\n",
    "  - <span style='color:#0077b6; font-weight:bold;'>configurable</span>\n",
    "    - `true` if and only if the type of this property descriptor may be changed and if the property may be deleted from the corresponding object. Default to `false`.\n",
    "  \n",
    "  - <span style='color:#0077b6; font-weight:bold;'>enumerable</span>\n",
    "    - `true` if and only if this property shows up during enumeration of the properties on the corresponding object. Defaults to `false`.\n",
    "  - A data descriptor also has the following optional keys.\n",
    "  \n",
    "  - <span style='color:#0077b6; font-weight:bold;'>value</span>\n",
    "    - The value associated with the property. Can be any valid JavaScript value (number, object, function, string, etc.). Defaults to undefined.\n",
    "  \n",
    "  - <span style='color:#0077b6; font-weight:bold;'>writable</span>\n",
    "    - `true` if and only if the value associated with the property may be changed with an assignment operator. Defaults to `false`.\n",
    "  \n",
    "  - An accessor descriptor also has the following optional keys:\n",
    "  \n",
    "  - <span style='color:#0077b6; font-weight:bold;'>get</span>\n",
    "    - A function which serves as a getter for the property, or undefined if there is no getter. The function's return value will be used as the value of the property. Defaults to undefined.\n",
    "  \n",
    "  - <span style='color:#0077b6; font-weight:bold;'>set</span>\n",
    "    - A function which serves as a setter for the property, or undefined if there is no setter. The function will receive as its only argument the new value being assigned to the property. Defaults to undefined.\n",
    "\n",
    "Note: if a descriptor has neither of value, writable, get and set keys, it is treated as a data descriptor. if a descriptor has both value or writable and get or set keys an exception is thrown.\n",
    "\n",
    "<span style='color:#BB6B24; font-weight:bold;'>Return:</span>\n",
    "\n",
    "- The object that was passed to the function.\n",
    "\n",
    "___"
   ]
  },
  {
   "cell_type": "markdown",
   "metadata": {},
   "source": [
    "### Object.entries() static method\n",
    "\n",
    "The Object.entries() method returns an array of a given object's own enumerable string-keyed property `[key, value]` pairs. This is the same as iterating with a `for...in` loop, except that a for...in loop enumerates properties in the prototype chain as well.\n",
    "\n",
    "The order of the array returned by `Object.entries()` is the same as that provided by a `for...in` loop. if there is a need for different ordering, then the array should be sorted first, like \n",
    "\n",
    "```js\n",
    "Object.entries(obj).sort((a,b) =>\n",
    "    a[0].localCompare(b[0]))\n",
    "```\n",
    "\n",
    "`Object.entries()` returns an array whose element ara arrays corresponding to the enumerable string-keyed property [key, value] pairs found directly upon `object`. The ordering of the properties is the same as that given by looping over the property values of the object manually."
   ]
  },
  {
   "cell_type": "code",
   "execution_count": 6,
   "metadata": {},
   "outputs": [],
   "source": [
    "let man = {\n",
    "    name: \"manish\",\n",
    "    age: 26,\n",
    "    height: 5.7\n",
    "}"
   ]
  },
  {
   "cell_type": "code",
   "execution_count": 7,
   "metadata": {},
   "outputs": [
    {
     "data": {
      "text/plain": [
       "[ [ 'name', 'manish' ], [ 'age', 26 ], [ 'height', 5.7 ] ]"
      ]
     },
     "execution_count": 7,
     "metadata": {},
     "output_type": "execute_result"
    }
   ],
   "source": [
    "// first we will use the Object.entries() \n",
    "Object.entries(man);"
   ]
  },
  {
   "cell_type": "code",
   "execution_count": 9,
   "metadata": {},
   "outputs": [
    {
     "name": "stdout",
     "output_type": "stream",
     "text": [
      "name:\tmanish\n",
      "age:\t26\n",
      "height:\t5.7\n"
     ]
    }
   ],
   "source": [
    "// now Object.entries() with the for...of loop.\n",
    "for(let [key, value] of Object.entries(man)){\n",
    "    console.log(`${key}:\\t${value}`)\n",
    "}"
   ]
  },
  {
   "cell_type": "markdown",
   "metadata": {},
   "source": [
    "#### Parameters\n",
    "\n",
    "<span style='color:#0077b6; font-weight:bold;'>obj:</span>\n",
    "\n",
    "- The object whose own enumerable string-keyed property `[key, value]` pairs are to be returned.\n",
    "\n",
    "<span style='color:#BB6B24; font-weight:bold;'>Return:</span>\n",
    "\n",
    "- An array of the given object's own enumerable string-keyed property `[key, value]` pairs.\n",
    "\n",
    "____"
   ]
  },
  {
   "cell_type": "markdown",
   "metadata": {},
   "source": [
    "### Object.freeze() static method\n",
    "\n",
    "The `Object.freeze()` method freezes an object. Freezing an object prevents extensions and makes existing properties non-writable and non-configurable. A frozen object can no longer be changed: new properties cannot be added, existing properties cannot be removed, their enumerability, configurability, writability, or value cannot be changed, and the object's prototype cannot be re-assigned. \n",
    "\n",
    "`freeze()` returns the same object that was passed in.\n",
    "\n",
    "Freezing an object is the highest integrity level that JavaScript provides.\n",
    "\n",
    "Syntax:\n",
    "```js\n",
    "Object.freeze(obj)\n",
    "```\n",
    "\n",
    "Freezing an object is equivalent to preventing extensions and then changing all existing properties' descriptors' `configurable` to `false`-and for data properties, `writable` to `false` as well. Nothing can be added to or removed from the properties set of frozen object. Any attempt to do so will fail, either silently or by throwing a TypeError exception.\n",
    "\n",
    "For data properties of a frozen object, their values cannot be changed since the writable and configurable attributes are set false. Accessor properties (getter and setters) work the same -- the property value returned by the getter may still change, and the setter can still be called without throwing errors when setting the property. Note that values that are objects can still be modified, unless they are also frozen. \n",
    "\n",
    "As an object, an array can be frozen; after doing so, its element cannot be altered and no elements can be added to or removed from the array.\n",
    "\n",
    "Note: `freeze()` returns the same object that was passed into the function. it does not create a frozen copy."
   ]
  },
  {
   "cell_type": "markdown",
   "metadata": {},
   "source": []
  },
  {
   "cell_type": "code",
   "execution_count": 1,
   "metadata": {},
   "outputs": [],
   "source": [
    "// Now we will make an object first then we will freeze it.\n",
    "let obj = {\n",
    "    name: \"manish\",\n",
    "    age: 21, \n",
    "    height: 5.67\n",
    "}"
   ]
  },
  {
   "cell_type": "code",
   "execution_count": 2,
   "metadata": {},
   "outputs": [
    {
     "data": {
      "text/plain": [
       "{ name: 'manish', age: 21, height: 5.67 }"
      ]
     },
     "execution_count": 2,
     "metadata": {},
     "output_type": "execute_result"
    }
   ],
   "source": [
    "// Now we will freeze that object\n",
    "Object.freeze(obj);\n",
    "// this will return the same object which is now restricted."
   ]
  },
  {
   "cell_type": "code",
   "execution_count": 4,
   "metadata": {},
   "outputs": [
    {
     "data": {
      "text/plain": [
       "'manish'"
      ]
     },
     "execution_count": 4,
     "metadata": {},
     "output_type": "execute_result"
    }
   ],
   "source": [
    "obj.name"
   ]
  },
  {
   "cell_type": "code",
   "execution_count": 5,
   "metadata": {},
   "outputs": [
    {
     "data": {
      "text/plain": [
       "'new Name'"
      ]
     },
     "execution_count": 5,
     "metadata": {},
     "output_type": "execute_result"
    }
   ],
   "source": [
    "obj.name = \"new Name\""
   ]
  },
  {
   "cell_type": "code",
   "execution_count": 6,
   "metadata": {},
   "outputs": [
    {
     "data": {
      "text/plain": [
       "'manish'"
      ]
     },
     "execution_count": 6,
     "metadata": {},
     "output_type": "execute_result"
    }
   ],
   "source": [
    "obj.name"
   ]
  },
  {
   "cell_type": "markdown",
   "metadata": {},
   "source": [
    "As we can see that there is no error throw but after assigning the name, it does not change the original name"
   ]
  },
  {
   "cell_type": "markdown",
   "metadata": {},
   "source": [
    "#### Parameters\n",
    "\n",
    "<span style='color:#0077b6; font-weight:bold;'>obj</span>\n",
    "\n",
    "- The object to freeze\n",
    "\n",
    "<span style='color:#BB6B24; font-weight:bold;'>Return</span>\n",
    "\n",
    "- The object that was passed to the function.\n",
    "\n",
    "___"
   ]
  },
  {
   "cell_type": "markdown",
   "metadata": {},
   "source": [
    "\n",
    "### Object.fromEntries()\n",
    "\n",
    "The `Object.fromEntries()` method transforms a list of key-value pairs into an object.\n",
    "\n",
    "The `Object.fromEntries()` method takes a list of key-value pairs and returns a new object whose properties are given by those entries. The iterable argument is expected to be an object that implements an `@@iterator` method, that returns an iterator object, that produces a two element array-like object, whose first element is a value that will be as a property key, and whose second element is the value to associate with that property key.\n",
    "\n",
    "`Object.fromEntries()` performs the reverse of `Object.entries()`.\n",
    "\n",
    "```js\n",
    "Object.fromEntries(iterable);\n",
    "```"
   ]
  },
  {
   "cell_type": "code",
   "execution_count": 8,
   "metadata": {},
   "outputs": [],
   "source": [
    "// first we will make a 2d array in each each sub array is \n",
    "// a pair of the key and value.\n",
    "\n",
    "let twoD_array = [\n",
    "    [\"name\", \"manish\"],\n",
    "    [\"age\", 26],\n",
    "    [\"height\", 5.7]\n",
    "]"
   ]
  },
  {
   "cell_type": "code",
   "execution_count": 10,
   "metadata": {},
   "outputs": [
    {
     "name": "stdout",
     "output_type": "stream",
     "text": [
      "{ name: 'manish', age: 26, height: 5.7 }\n"
     ]
    }
   ],
   "source": [
    "// Now we will pass that array into the \n",
    "// the fromEntries() static method.\n",
    "let obj_fromEntries = Object.fromEntries(twoD_array);\n",
    "console.log(obj_fromEntries);"
   ]
  },
  {
   "cell_type": "markdown",
   "metadata": {},
   "source": [
    "### Parameters\n",
    "\n",
    "<span style='color:#0077b6; font-weight:bold;'>iterable</span>\n",
    "\n",
    "- An iterable such as `Array` or `Map` or other object implementing the iterable `protocol`.\n",
    "\n",
    "<span style='color:#BB6B24; font-weight:bold;'>Return:</span>\n",
    "\n",
    "- a new object whose properties are given by the entries of the iterable."
   ]
  },
  {
   "cell_type": "markdown",
   "metadata": {},
   "source": [
    "### Object.getOwnPropertyDescriptor()\n",
    "\n",
    "The `Object.getOwnPropertyDescriptor()` method returns an object describing the configuration of a specific property on a given object (that is, one directly present on an object and not in the object's prototype chain). The object returned is mutable but mutating it has no effect on the original property's configuration.\n",
    "\n",
    "This method permits examination of the precise description of a property. A property in JavaScript consists a string-valued name or a Symbol and a property descriptor. Further information about property descriptor types and their attributes can be found in `Object.defineProperty()` section.\n",
    "\n",
    "A property descriptor is a record with some of the following attributes:\n",
    "\n",
    "<span style='color:#0077b6; font-weight:bold;'>value:</span>\n",
    "\n",
    "- The value associated with the property (data descriptors only)\n",
    "\n",
    "<span style='color:#0077b6; font-weight:bold;'>writable:</span>\n",
    "\n",
    "- `true` if and only if the value associated with the property may be changed (data descriptors only).\n",
    "\n",
    "<span style='color:#0077b6; font-weight:bold;'>get:</span>\n",
    "\n",
    "- A function which serves as getter for the property, or `undefined` if there is no getter (accessor descriptors only).\n",
    "\n",
    "<span style='color:#0077b6; font-weight:bold;'>set:</span>\n",
    "\n",
    "- A function which serves as a setter for the property, or `undefined` if there is no setter (accessor descriptor only.)\n",
    "\n",
    "<span style='color:#0077b6; font-weight:bold;'>configurable:</span>\n",
    "\n",
    "- `true` if and only if the type of this property descriptor many be changed and if the property may be deleted from the corresponding object.\n",
    "\n",
    "<span style='color:#0077b6; font-weight:bold;'>enumerable:</span>\n",
    "\n",
    "- `true` if and only if this property shows up during enumeration of the properties on the corresponding object."
   ]
  },
  {
   "cell_type": "code",
   "execution_count": 11,
   "metadata": {},
   "outputs": [],
   "source": [
    "// new object.\n",
    "\n",
    "let obj2 = { name: 'manish', age: 26, height: 5.7 };"
   ]
  },
  {
   "cell_type": "code",
   "execution_count": 15,
   "metadata": {},
   "outputs": [
    {
     "data": {
      "text/plain": [
       "{\n",
       "  value: 'hello',\n",
       "  writable: true,\n",
       "  enumerable: true,\n",
       "  configurable: true\n",
       "}"
      ]
     },
     "execution_count": 15,
     "metadata": {},
     "output_type": "execute_result"
    }
   ],
   "source": [
    "// Now we will get the descriptor properties.\n",
    "Object.getOwnPropertyDescriptor(obj2, \"name\");"
   ]
  },
  {
   "cell_type": "markdown",
   "metadata": {},
   "source": [
    "Note: by default all the data descriptor properties are true. it means our object property is not restricted."
   ]
  },
  {
   "cell_type": "markdown",
   "metadata": {},
   "source": [
    "#### Parameters\n",
    "\n",
    "<span style='color:#0077b6; font-weight:bold;'>obj:</span>\n",
    "\n",
    "- The object in which to look for the property.\n",
    "\n",
    "<span style='color:#0077b6; font-weight:bold;'>prop:</span>\n",
    "\n",
    "- The name or `Symbol` of the property whose description is to be retrieved.\n",
    "\n",
    "<span style='color:#BB6B24; font-weight:bold;'>Return:</span>\n",
    "\n",
    "- A property descriptor of the given property if it exists on the object, `undefined` otherwise.\n",
    "\n",
    "___"
   ]
  },
  {
   "cell_type": "markdown",
   "metadata": {},
   "source": [
    "### Object.getOwnPropertyDescriptors()\n",
    "\n",
    "The `Object.getOwnPropertyDescriptors()` method returns all own property descriptor of a given object.\n",
    "\n",
    "This method permits examination of the precise description of all own properties of an object. A property in JavaScript consists of either a string-valued name or a Symbol and property descriptor. Further information about property descriptor types and their attributes can be found in `Object.defineProperty()`."
   ]
  },
  {
   "cell_type": "markdown",
   "metadata": {},
   "source": [
    "\n",
    "A property descriptor is a record with some of the following attributes:\n",
    "\n",
    "<span style='color:#0077b6; font-weight:bold;'>value:</span>\n",
    "\n",
    "- The value associated with the property (data descriptors only)\n",
    "\n",
    "<span style='color:#0077b6; font-weight:bold;'>writable:</span>\n",
    "\n",
    "- `true` if and only if the value associated with the property may be changed (data descriptors only).\n",
    "\n",
    "<span style='color:#0077b6; font-weight:bold;'>get:</span>\n",
    "\n",
    "- A function which serves as getter for the property, or `undefined` if there is no getter (accessor descriptors only).\n",
    "\n",
    "<span style='color:#0077b6; font-weight:bold;'>set:</span>\n",
    "\n",
    "- A function which serves as a setter for the property, or `undefined` if there is no setter (accessor descriptor only.)\n",
    "\n",
    "<span style='color:#0077b6; font-weight:bold;'>configurable:</span>\n",
    "\n",
    "- `true` if and only if the type of this property descriptor many be changed and if the property may be deleted from the corresponding object.\n",
    "\n",
    "<span style='color:#0077b6; font-weight:bold;'>enumerable:</span>\n",
    "\n",
    "- `true` if and only if this property shows up during enumeration of the properties on the corresponding object."
   ]
  },
  {
   "cell_type": "code",
   "execution_count": 16,
   "metadata": {},
   "outputs": [
    {
     "name": "stdout",
     "output_type": "stream",
     "text": [
      "{ name: 'hello', age: 26, height: 5.7 }\n"
     ]
    }
   ],
   "source": [
    "// we are using the obj2 from the above section.\n",
    "console.log(obj2)"
   ]
  },
  {
   "cell_type": "code",
   "execution_count": 19,
   "metadata": {},
   "outputs": [
    {
     "data": {
      "text/plain": [
       "{\n",
       "  name: {\n",
       "    value: 'hello',\n",
       "    writable: true,\n",
       "    enumerable: true,\n",
       "    configurable: true\n",
       "  },\n",
       "  age: { value: 26, writable: true, enumerable: true, configurable: true },\n",
       "  height: { value: 5.7, writable: true, enumerable: true, configurable: true }\n",
       "}"
      ]
     },
     "execution_count": 19,
     "metadata": {},
     "output_type": "execute_result"
    }
   ],
   "source": [
    "// Now we will use the Object.getOwnPropertyDescriptors()\n",
    "Object.getOwnPropertyDescriptors(obj2) \n",
    "// here we just need to pass the whole object \n",
    "// this will return the descriptors for all own properties."
   ]
  },
  {
   "cell_type": "markdown",
   "metadata": {},
   "source": [
    "### Parameters\n",
    "\n",
    "<span style='color:#0077b6; font-weight:bold;'>obj</span>\n",
    "\n",
    "- The object for which to get all own property descriptors.\n",
    "\n",
    "<span style='color:#BB6B24; font-weight:bold;'>Return:</span>\n",
    "\n",
    "- An object containing all own property descriptors of an object. Might be an empty object, if there are no properties.\n",
    "\n",
    "____"
   ]
  },
  {
   "cell_type": "markdown",
   "metadata": {},
   "source": [
    "### Object.getOwnPropertyNames()\n",
    "\n",
    "The `Object.getOwnPropertyNames()` method returns an array of all properties (including non-enumerable properties except for those which use Symbol) found directly in a given object.\n",
    "\n",
    "`Object.getOwnPropertyNames()` returns an array whose elements are strings corresponding to the enumerable an non-enumerable properties found directly in a given object obj. The ordering of the enumerable properties in the array is consistent with the ordering exposed by a for...in loop (or by `Object.keys()`) over the properties of the object. The non-negative integer keys of the object (both enumerable an non-enumerable) are added in scending order to the array first, followed by the string keys in the order of insertion."
   ]
  },
  {
   "cell_type": "code",
   "execution_count": 1,
   "metadata": {},
   "outputs": [
    {
     "name": "stdout",
     "output_type": "stream",
     "text": [
      "[ 'name', 'age', 'height' ]\n"
     ]
    }
   ],
   "source": [
    "// we will use new object here\n",
    "let obj = {\n",
    "        name:\"manish\",\n",
    "        age: 26, \n",
    "        height: 5.7\n",
    "        }\n",
    "\n",
    "console.log(Object.getOwnPropertyNames(obj));"
   ]
  },
  {
   "cell_type": "markdown",
   "metadata": {},
   "source": [
    "#### Parameters\n",
    "\n",
    "<span style='color:#0077b6; font-weight:bold;'>obj</span>\n",
    "\n",
    "- The object whose enumerable and non-enumerable properties are to be returned.\n",
    "\n",
    "<span style='color:#BB6B24; font-weight:bold;'>Return:</span>\n",
    "\n",
    "- An array of string that corresponding to the properties found directly in the given object.\n",
    "\n",
    "____"
   ]
  },
  {
   "cell_type": "markdown",
   "metadata": {},
   "source": [
    "### Object.getOwnPropertySymbols()\n",
    "\n",
    "The `Object.getOwnPropertySymbols()` method returns an array of all symbol properties found directly upon a given object.\n",
    "\n",
    "It is similar to `Object.getOwnPropertyNames()`, we can get all symbol properties of a given object as an array of symbols. Note that `Object.getOwnPropertyNames()` itself does not contain the symbol properties of an object and only the string properties.\n",
    "\n",
    "As all objects have no own symbol properties initially, Object.`getOwnPropertySymbols()` returns an empty array unless we have set symbol properties on our object.\n",
    "\n",
    "Syntax:\n",
    "\n",
    "```js\n",
    "Object.getOwnPropertySymbols(obj)\n",
    "```\n",
    "\n"
   ]
  },
  {
   "cell_type": "code",
   "execution_count": null,
   "metadata": {},
   "outputs": [],
   "source": []
  },
  {
   "cell_type": "code",
   "execution_count": null,
   "metadata": {},
   "outputs": [],
   "source": []
  },
  {
   "cell_type": "markdown",
   "metadata": {},
   "source": [
    "#### Parameters\n",
    "\n",
    "<span style='color:#0077b6; font-weight:bold;'>obj:</span>\n",
    "\n",
    "- The object whose symbol properties are to be returned.\n",
    "\n",
    "<span style='color:#BB6B24; font-weight:bold;'>Return:</span>\n",
    "\n",
    "- An array of all symbol properties found directly upon the given object."
   ]
  }
 ],
 "metadata": {
  "kernelspec": {
   "display_name": "JavaScript (Node.js)",
   "language": "javascript",
   "name": "javascript"
  },
  "language_info": {
   "file_extension": ".js",
   "mimetype": "application/javascript",
   "name": "javascript",
   "version": "16.17.0"
  },
  "orig_nbformat": 4
 },
 "nbformat": 4,
 "nbformat_minor": 2
}
