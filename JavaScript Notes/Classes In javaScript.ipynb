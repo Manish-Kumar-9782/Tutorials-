{
 "cells": [
  {
   "cell_type": "markdown",
   "metadata": {},
   "source": [
    "# Classes in javaScript\n",
    "\n",
    "A Javascript class is a blueprint for creating Objects. A class ecapsulates (bind mulitple things in an entity) data and functions that munipulate data.\n",
    "\n",
    "In JavaScript classes are the simple way to design the objects, it works like a syntatic sugar over the *prototypal inheritance*. In other words,classes are just special functtions."
   ]
  },
  {
   "cell_type": "markdown",
   "metadata": {},
   "source": [
    "**Note:** if we don't use the classes then we have to use the constructor/prototype pattern to bind the object data and method which is a very tidious task. an example of the constructor and prototypal can be seen as showing below."
   ]
  },
  {
   "cell_type": "code",
   "execution_count": 1,
   "metadata": {},
   "outputs": [
    {
     "name": "stdout",
     "output_type": "stream",
     "text": [
      "Person { name: 'person', age: 22, height: 5.6 }\n"
     ]
    }
   ],
   "source": [
    "// first we need to create a constructor function\n",
    "function Person(name, age, height){\n",
    "    this.name = name;\n",
    "    this.age = age;\n",
    "    this.height = height;\n",
    "};\n",
    "\n",
    "// Now if we want to add any method to work on the Person then we need \n",
    "// to use the proptotypal method as shown below.\n",
    "Person.prototype.showinfo = function(){\n",
    "    console.log(`Name:\\t ${this.name}`);\n",
    "    console.log(`Age:\\t ${this.age}`);\n",
    "    console.log(`Height:\\t ${this.height}`);\n",
    "};\n",
    "\n",
    "// Now if we create an object of the person then we can use\n",
    "let person = new Person(\"person\", 22, 5.6);\n",
    "console.log(person)"
   ]
  },
  {
   "cell_type": "markdown",
   "metadata": {},
   "source": [
    "**Process of object with constructor & prototypal mechanism**\n",
    "\n",
    "1. First it creates the `Person` as a constructor function that has some properties.\n",
    "2. The `showinfo()` function is assigned to the prototype so that it can be shared by all instance of the Person type.\n",
    "3. The, create a new instance of the `Person` type using the `new` operator. \n",
    "4. Now an object is create `person` (in our case) and `Object` through prototypal inheritance."
   ]
  },
  {
   "cell_type": "markdown",
   "metadata": {},
   "source": [
    "## Classes in JavaScript\n",
    "\n",
    "If we use the classes in the javascript the above process will be very easy to do since all the code will be written a single block which does not require any prototypal inheritance."
   ]
  },
  {
   "cell_type": "markdown",
   "metadata": {},
   "source": [
    "**Syntax**\n",
    "\n",
    "```js\n",
    "    class <class_name>{\n",
    "        // static or non static properties\n",
    "        // constructor for the Person.\n",
    "        // some method for the Person.\n",
    "    }\n",
    "```\n",
    "\n",
    "**`constructor:`** Constructor is special kind of function inside the javascirpt class which called during creating the new object of that class. by constructor we can assign the values to the object properties and we can provide some security layer over the assigning value during the construction of the object.\n",
    "\n",
    "**`properties:`** These are the variable which hold the data of the object, these variables are known as the properties of the object.\n",
    "\n",
    "**`method:`** These are the function binded to the object and used for manipulate/(to work on) the data of the object."
   ]
  },
  {
   "cell_type": "code",
   "execution_count": 2,
   "metadata": {},
   "outputs": [],
   "source": [
    "class Person1{\n",
    "\n",
    "    // constructor which will take some arguments.\n",
    "    constructor(name, age, height){\n",
    "        this.name = name;\n",
    "        this.age = age;\n",
    "        this.height = height;\n",
    "        // this constructor will take and assign all the values to their\n",
    "        // corresponding properties.\n",
    "    }\n",
    "\n",
    "    showinfo(){\n",
    "        console.log(`Name:\\t ${this.name}`);\n",
    "        console.log(`Age:\\t ${this.age}`);\n",
    "        console.log(`Height:\\t ${this.height}`);\n",
    "    }\n",
    "}"
   ]
  },
  {
   "cell_type": "markdown",
   "metadata": {},
   "source": [
    "Now if we want to create a Person1 class object then we can do it by using the new operator. the result will be same as we have got by using the constructor & prototypal inheritance."
   ]
  },
  {
   "cell_type": "code",
   "execution_count": 4,
   "metadata": {},
   "outputs": [
    {
     "name": "stdout",
     "output_type": "stream",
     "text": [
      "Person { name: 'person', age: 22, height: 5.6 }\n"
     ]
    }
   ],
   "source": [
    "let person1 = new Person1(\"person\", 22, 5.6);\n",
    "console.log(person)"
   ]
  },
  {
   "cell_type": "markdown",
   "metadata": {},
   "source": [
    "**Process of the above code**\n",
    "\n",
    "1. As we run the `new Person1()` it will start to construct the object for `Person1` class and automatically calls the constructor which is defined inside the class.\n",
    "2. That constructor assigns the given values to their corresponding properties.\n",
    "3. In result we get a new object of the `Person1` class which  is stored in the `person1` varible.\n",
    "\n",
    "Now this object also have the `showinfo` method to show the details of it's properties."
   ]
  },
  {
   "cell_type": "code",
   "execution_count": 5,
   "metadata": {},
   "outputs": [
    {
     "name": "stdout",
     "output_type": "stream",
     "text": [
      "Name:\t person\n",
      "Age:\t 22\n",
      "Height:\t 5.6\n"
     ]
    }
   ],
   "source": [
    "person1.showinfo()"
   ]
  },
  {
   "cell_type": "markdown",
   "metadata": {},
   "source": [
    "**use of `instanceof` operator**\n",
    "\n",
    "Note: if we are working with the classes or object then we should know that how to verify that which object belongs to which kind of class, for that we have an operator which is called *`instanceof`* operator.\n",
    "\n",
    "Syntax:\n",
    "```js\n",
    "object instanceof class\n",
    "```\n",
    "it will return `true` or `false` according to the relation b/w the object and the class type."
   ]
  },
  {
   "cell_type": "code",
   "execution_count": 8,
   "metadata": {},
   "outputs": [
    {
     "name": "stdout",
     "output_type": "stream",
     "text": [
      "is person1 instanceof Person1 class:  true\n",
      "is person1 instanceof Object class:  true\n"
     ]
    }
   ],
   "source": [
    "// Now we will check that person1 is the instanceof the Person1 class.\n",
    "console.log(\"is person1 instanceof Person1 class: \", person1 instanceof Person1);\n",
    "\n",
    "// here also we will test that person1 is an instanceof the Object class also. \n",
    "console.log(\"is person1 instanceof Object class: \", person1 instanceof Object);\n",
    "\n"
   ]
  },
  {
   "cell_type": "markdown",
   "metadata": {},
   "source": [
    "**Note:** Every class inherit the Object class since it is the base class for each object in the javascript. here object class act as a prototype for the Each derived class."
   ]
  },
  {
   "cell_type": "markdown",
   "metadata": {},
   "source": [
    "If we test the `typeof` of our class then we will see that it it's type is function, because in javascript classes are special kind of functions."
   ]
  },
  {
   "cell_type": "code",
   "execution_count": 3,
   "metadata": {},
   "outputs": [
    {
     "data": {
      "text/plain": [
       "'function'"
      ]
     },
     "execution_count": 3,
     "metadata": {},
     "output_type": "execute_result"
    }
   ],
   "source": [
    "typeof Person1"
   ]
  },
  {
   "cell_type": "markdown",
   "metadata": {},
   "source": [
    "----\n",
    "## JavaScript Getters & Setters\n",
    "\n",
    "In Javascript class we have the constructor to create the object and handle the process of the creating of new instance of that class. but what if we want to set some rule on the property while assigning some value to them or getting some value from then.\n",
    "\n",
    "it is a very important to implement that only a valid values should be assigned to the property or only after perfoming after some security checkup we need to get the value.\n",
    "\n",
    "This kind of functionality can be applied by using the get and set keyword.\n",
    "\n",
    "Now suppose that we have a `Person` class. as defined below."
   ]
  },
  {
   "cell_type": "code",
   "execution_count": 1,
   "metadata": {},
   "outputs": [
    {
     "name": "stdout",
     "output_type": "stream",
     "text": [
      "manish\n"
     ]
    }
   ],
   "source": [
    "class Person{\n",
    "    constructor(name){\n",
    "        this.name = name;\n",
    "    }\n",
    "}\n",
    "\n",
    "let person = new Person(\"manish\");\n",
    "\n",
    "console.log(person.name);"
   ]
  },
  {
   "cell_type": "markdown",
   "metadata": {},
   "source": [
    "**Note:** in above definition we have a class `Person` class has a property `name` and a constructor. The constructor initialize the `name` property to a string.\n",
    "\n",
    "But in this defintion we can access the `name` property directly, like this."
   ]
  },
  {
   "cell_type": "code",
   "execution_count": 2,
   "metadata": {},
   "outputs": [
    {
     "data": {
      "text/plain": [
       "'manish'"
      ]
     },
     "execution_count": 2,
     "metadata": {},
     "output_type": "execute_result"
    }
   ],
   "source": [
    "person.name"
   ]
  },
  {
   "cell_type": "markdown",
   "metadata": {},
   "source": [
    "But In some situation we don't want to access the directly our class property then we can have two method.\n",
    "\n",
    "1. method to set & get the properteis.\n",
    "2. get and set keyword."
   ]
  },
  {
   "cell_type": "markdown",
   "metadata": {},
   "source": [
    "**getter and setter methods**"
   ]
  },
  {
   "cell_type": "code",
   "execution_count": 1,
   "metadata": {},
   "outputs": [
    {
     "name": "stdout",
     "output_type": "stream",
     "text": [
      "Person {}\n",
      "manish kumar\n"
     ]
    }
   ],
   "source": [
    "class Person{\n",
    "    constructor(name){\n",
    "\n",
    "    }\n",
    "\n",
    "    getName(){\n",
    "        return this.name;\n",
    "        // this method provieds an additional layer during \n",
    "        // getting the name.\n",
    "    }\n",
    "\n",
    "    setName(name){\n",
    "\n",
    "        name = name.trim(); // removing the extra spaces.\n",
    "        if(name === \"\"){\n",
    "            throw \"The name cannot be empty\"\n",
    "        }\n",
    "        this.name = name;\n",
    "        // this method provieds the additional layer to set the name.\n",
    "    }\n",
    "}\n",
    "\n",
    "let person = new Person('manish');\n",
    "console.log(person);\n",
    "\n",
    "// now we can use the getName or setName to change the name\n",
    "person.setName(\"manish kumar\");\n",
    "console.log(person.getName());"
   ]
  },
  {
   "cell_type": "markdown",
   "metadata": {},
   "source": [
    "In the above defination of the `Person` class we have a property and the _setName()_ and _getName()_ methods to set the name and to get the name."
   ]
  },
  {
   "cell_type": "markdown",
   "metadata": {},
   "source": [
    "* The `getName()` method return the value of the name property of Person object.\n",
    "* The `setName()` method first remove all the whitespace and then checkt the empty string, if string is empty throws an error, if string is not empty then assign the string to the name property.\n",
    "* The `constructor()` calls the `setName()` method to initalize the name property.\n",
    "\n",
    "Note: Here this `getName()` and `setName()` provides some basic security layer but still it is note fully protected from directly accessing the propetyr from object, and still we can assign the values and get the values directly."
   ]
  },
  {
   "cell_type": "code",
   "execution_count": 3,
   "metadata": {},
   "outputs": [
    {
     "name": "stdout",
     "output_type": "stream",
     "text": [
      "joni moni\n"
     ]
    }
   ],
   "source": [
    "// setting the value.\n",
    "person.name = \"joni moni\"\n",
    "\n",
    "// getting the value.\n",
    "console.log(person.name)"
   ]
  },
  {
   "cell_type": "markdown",
   "metadata": {},
   "source": [
    "`Conclusion:` _getName()_ and _setName()_ does not provide the fully protection over the direct access the property of the Person object.\n",
    "\n",
    "To provide this kind of security we have the `get` and `set` keyword provided by the javascript, which automatically create a security hidden layer of function which will run during the access the property. "
   ]
  },
  {
   "cell_type": "markdown",
   "metadata": {},
   "source": [
    "**Person class  with `get` and `set` keywords**"
   ]
  },
  {
   "cell_type": "code",
   "execution_count": 1,
   "metadata": {},
   "outputs": [],
   "source": [
    "class Person{\n",
    "    constructor(name){\n",
    "        this.name = name;\n",
    "    }\n",
    "\n",
    "    // now we need to make get and set method with the \n",
    "    // exact same name of our property on which we want to add the\n",
    "    // get and set method.\n",
    "\n",
    "    get name(){\n",
    "        console.log(\"Getter is called.!\")\n",
    "        return this._name;\n",
    "    }\n",
    "\n",
    "    set name(name){\n",
    "        console.log(\"Setter is called.!\")\n",
    "        name = name.trim(); // removing the extra spaces.\n",
    "        if(name === \"\"){\n",
    "            throw \"The name cannot be empty\"\n",
    "        }\n",
    "        this._name = name;\n",
    "    }\n",
    "}"
   ]
  },
  {
   "cell_type": "markdown",
   "metadata": {},
   "source": [
    "**`Expalanation of Above code: `**\n",
    "\n",
    "1. whenever we use the `set` or `get` keywrod before the property named function then our property name change from `property_name` to `_property_name`.\n",
    "2. Here in our case our property `name` changes to `_name`, this is happen to avoid the the name collision with the getter and setter.\n",
    "3. Now if we use try to access the property it will call the getter.\n",
    "4. if we try to set the property it will call the setter."
   ]
  },
  {
   "cell_type": "code",
   "execution_count": 2,
   "metadata": {},
   "outputs": [
    {
     "name": "stdout",
     "output_type": "stream",
     "text": [
      "Setter is called.!\n",
      "Setter is called.!\n"
     ]
    },
    {
     "data": {
      "text/plain": [
       "'manish kumar'"
      ]
     },
     "execution_count": 2,
     "metadata": {},
     "output_type": "execute_result"
    }
   ],
   "source": [
    "let person = new Person(\"manish\");\n",
    "\n",
    "// first we will update the property\n",
    "person.name = \"manish kumar\""
   ]
  },
  {
   "cell_type": "markdown",
   "metadata": {},
   "source": [
    "When JavaScript see the assinging some values to the property it cheks if the `Person` class has any name property.\n",
    "\n",
    "if not it will find for the method which is binded to the `name` property, in our case a method with `set` keyword is binded, this method will be called."
   ]
  },
  {
   "cell_type": "code",
   "execution_count": 3,
   "metadata": {},
   "outputs": [
    {
     "name": "stdout",
     "output_type": "stream",
     "text": [
      "Getter is called.!\n"
     ]
    },
    {
     "data": {
      "text/plain": [
       "'manish kumar'"
      ]
     },
     "execution_count": 3,
     "metadata": {},
     "output_type": "execute_result"
    }
   ],
   "source": [
    "// Now we will get the name of the person.\n",
    "person.name"
   ]
  },
  {
   "cell_type": "markdown",
   "metadata": {},
   "source": [
    "When JavaScript sees the access to `name` property of the `Person` class, it check if the `Person` class has any name property.\n",
    "\n",
    "if not, JavaScript checks if the Person class has any method that binds to the name property. Once JavaScript finds the getter method, it executes the getter method and return value."
   ]
  },
  {
   "cell_type": "markdown",
   "metadata": {},
   "source": [
    "As we have seen that whenever we access the property, getter or setter will be called automatically, this kind of mechanism is good to provide a strong security layer to access and update the property values."
   ]
  },
  {
   "cell_type": "markdown",
   "metadata": {},
   "source": [
    "### `Summary`\n",
    "\n",
    "* Use the `get` and `set` keyword to define the JavaScript getter and setters for a class or an object.\n",
    "* The `get` keyword binds an object property to a method that will be invoked when that property is looked up.\n",
    "* The `set` keyword binds an object property to a method that will be invoked when that property is assigned."
   ]
  },
  {
   "cell_type": "markdown",
   "metadata": {},
   "source": []
  },
  {
   "cell_type": "markdown",
   "metadata": {},
   "source": []
  }
 ],
 "metadata": {
  "kernelspec": {
   "display_name": "JavaScript (Node.js)",
   "language": "javascript",
   "name": "javascript"
  },
  "language_info": {
   "file_extension": ".js",
   "mimetype": "application/javascript",
   "name": "javascript",
   "version": "16.17.0"
  }
 },
 "nbformat": 4,
 "nbformat_minor": 4
}
