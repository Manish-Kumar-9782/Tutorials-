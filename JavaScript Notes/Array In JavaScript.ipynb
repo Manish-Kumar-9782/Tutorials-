{
 "cells": [
  {
   "cell_type": "markdown",
   "metadata": {},
   "source": [
    "# Array in JavaScript\n",
    "\n",
    "An Array is an ordered list of values that we refer to with a name and index. For example, consider an array called `emp`, which contains employees' names indexed by their numerical employee number. So `emp[0]` would be employee number zero, `emp[1]` employee number one, and so on.\n",
    "\n",
    "In Javascript we have a Array class which helps us to create array object and also it provides us various method to work on the array. The `Array` object has methods for manipulating array in various ways, such as joining, reversing, and sorting them."
   ]
  },
  {
   "cell_type": "markdown",
   "metadata": {},
   "source": [
    "## 1. Creating an array\n",
    "\n",
    "We can create an array by using the following ways."
   ]
  },
  {
   "cell_type": "markdown",
   "metadata": {},
   "source": [
    "```js\n",
    "// 1. by using the new operator \n",
    "let arr1 = new Array(item1, item2, item3, ... , itemN);\n",
    "\n",
    "// 2. create array with Array class without new operator..\n",
    "let arr2 = new Array(item1, item2, item3, ... , itemN);\n",
    "\n",
    "// 3. Create array by using the the square brackets\n",
    "let arr3 = [item1, item2, item3, ... , itemN];\n",
    "\n",
    "```\n",
    "\n",
    "`{item1, item2, item3, ... , itemN}`is a list of values for the array's elements. When these values are specified, thearray is initialized with them as the array's elements. The array's `length` property is set to the number of arguments.\n",
    "\n",
    "Note: Te bracket syntax is called and \"array literal\" or \"array initializer.\" it's shorter than other forms of array creating, and so is generally preferred.\n",
    "\n",
    "\n",
    "**Creating a blank array**\n",
    "\n",
    "To create an array with non-zero length, bu without any items, we can use any of the following way.\n",
    "\n",
    "```js\n",
    "// 1. by using the new operator with Array class.\n",
    "let arr1 = new Array(arrayLength);\n",
    "\n",
    "// 2. by using the array class without the new operator.\n",
    "let arr2 = Array(arrayLength);\n",
    "\n",
    "// 3. by using the square bracket or \"array literal\"\n",
    "let arr3 = [];\n",
    "arr3.length = arrayLength;\n",
    "```"
   ]
  },
  {
   "cell_type": "code",
   "execution_count": 1,
   "metadata": {},
   "outputs": [
    {
     "data": {
      "text/plain": [
       "[ <10 empty items> ]"
      ]
     },
     "execution_count": 1,
     "metadata": {},
     "output_type": "execute_result"
    }
   ],
   "source": [
    "new Array(10);\n",
    "// see the returned output."
   ]
  },
  {
   "cell_type": "code",
   "execution_count": 2,
   "metadata": {},
   "outputs": [
    {
     "data": {
      "text/plain": [
       "[ <10 empty items> ]"
      ]
     },
     "execution_count": 2,
     "metadata": {},
     "output_type": "execute_result"
    }
   ],
   "source": [
    "Array(10)\n",
    "// creating array without new operator"
   ]
  },
  {
   "cell_type": "code",
   "execution_count": 3,
   "metadata": {},
   "outputs": [
    {
     "data": {
      "text/plain": [
       "[ <10 empty items> ]"
      ]
     },
     "execution_count": 3,
     "metadata": {},
     "output_type": "execute_result"
    }
   ],
   "source": [
    "// creating array by using square brackets.\n",
    "let arr = [];\n",
    "arr.length = 10;\n",
    "arr"
   ]
  },
  {
   "cell_type": "markdown",
   "metadata": {},
   "source": [
    "**`Note:`** in the above code, `arrayLength` must be a number. Otherwise, an array with a single element will be created. Calling `arr.length` will return `arrayLength`, but the array doesn't contains any elements.\n",
    "\n",
    "**`Note2:`** If we want to initialize an array with a single element, and the element happens to be a Number, we must use the bracket syntax. When a single `Number` value is passed to the `Array()` constructor or function, it is interpreted as an arrayLength, not as a single element.\n",
    "\n",
    "```js\n",
    "\n",
    "// This creates an array with only one element: the number 42.\n",
    "const arr = [42];\n",
    "\n",
    "// This creates an array with no elements and arr.length set to 42.\n",
    "const arr = Array(42);\n",
    "\n",
    "// This is equivalent to:\n",
    "const arr = [];\n",
    "arr.length = 42;\n",
    "\n",
    "```\n",
    "\n",
    "If we want to create an array of single element by using the Array class, we can use `Array.of()` static method to create arrays with single elements or multiple elements."
   ]
  },
  {
   "cell_type": "code",
   "execution_count": 4,
   "metadata": {},
   "outputs": [
    {
     "data": {
      "text/plain": [
       "[ 2.3 ]"
      ]
     },
     "execution_count": 4,
     "metadata": {},
     "output_type": "execute_result"
    }
   ],
   "source": [
    "Array.of(2.3);"
   ]
  },
  {
   "cell_type": "markdown",
   "metadata": {},
   "source": [
    "## 2. Referring to array elements\n",
    "\n",
    "Because elements are also properties, you can access the using property accessors or in other words by using the `[]` brackets.\n",
    "\n",
    "Suppose that we have a defined array.\n",
    "\n",
    "```js\n",
    "let arr = ['hello', 14, 5.6];\n",
    "```\n",
    "\n",
    "Now we can refer the first element of the array as `arr[0]`, the second element of the array as `arr[1]`, etc.\n",
    "\n",
    "Note: The index of the array begins with zero."
   ]
  },
  {
   "cell_type": "markdown",
   "metadata": {},
   "source": [
    "## 3. Populating an array\n",
    "\n",
    "we can populate an array be assigning values to its elements. For example \n",
    "\n",
    "if we create an empty array.\n",
    "\n",
    "```js\n",
    "let arr = []; // empty array.\n",
    "\n",
    "// Now we can add more element by specifying the the index number \n",
    "// inside teh square brackets.\n",
    "arr[0] = 10;\n",
    "arr[1] =\"hello\";\n",
    "arr[3] = 4.33;\n",
    "```"
   ]
  },
  {
   "cell_type": "code",
   "execution_count": 6,
   "metadata": {},
   "outputs": [
    {
     "data": {
      "text/plain": [
       "[ 'hello', 10, 34.34 ]"
      ]
     },
     "execution_count": 6,
     "metadata": {},
     "output_type": "execute_result"
    }
   ],
   "source": [
    "let arr2 = []; // emtpy array.\n",
    "arr2[0] = \"hello\";\n",
    "arr2[1] = 10;\n",
    "arr2[2] = 34.34;\n",
    "arr2"
   ]
  },
  {
   "cell_type": "markdown",
   "metadata": {},
   "source": [
    "**`Note:`** if we supply a non-integer value to the array operator in the code, above a property will be created in the object representing the array, instead of an array element.\n",
    "\n",
    "```js\n",
    "const arr = [];\n",
    "arr[3.4] = 'Oranges'; // this will create the array property.\n",
    "console.log(arr.length); // it will not add any array element.\n",
    "console.log(Object.hasOwn(arr, 3.4)); // true\n",
    "// if we check that Object arr has any property by 3.4.\n",
    "```"
   ]
  },
  {
   "cell_type": "code",
   "execution_count": 7,
   "metadata": {},
   "outputs": [
    {
     "data": {
      "text/plain": [
       "'we are jackel'"
      ]
     },
     "execution_count": 7,
     "metadata": {},
     "output_type": "execute_result"
    }
   ],
   "source": [
    "// Now we will do the above test with our arr2.\n",
    "arr2[\"jackel\"] =\"we are jackel\";"
   ]
  },
  {
   "cell_type": "code",
   "execution_count": 8,
   "metadata": {},
   "outputs": [
    {
     "data": {
      "text/plain": [
       "[ 'hello', 10, 34.34, jackel: 'we are jackel' ]"
      ]
     },
     "execution_count": 8,
     "metadata": {},
     "output_type": "execute_result"
    }
   ],
   "source": [
    "// now if we try to see the length of the arr2 and inspect it.\n",
    "arr2"
   ]
  },
  {
   "cell_type": "code",
   "execution_count": 9,
   "metadata": {},
   "outputs": [
    {
     "data": {
      "text/plain": [
       "3"
      ]
     },
     "execution_count": 9,
     "metadata": {},
     "output_type": "execute_result"
    }
   ],
   "source": [
    "arr2.length"
   ]
  },
  {
   "cell_type": "markdown",
   "metadata": {},
   "source": [
    "As we can see that it is still showing three length of the `arr2` element as 3. since we the last insertion was not a item, it was a property."
   ]
  },
  {
   "cell_type": "markdown",
   "metadata": {},
   "source": [
    "we can populate an array while creating it by filling the square bracket or Array constructor list with items, as doing in below.\n",
    "\n",
    "```js\n",
    "const arr = new Array('Hello', \"jackel\", 3.21);\n",
    "// OR\n",
    "const colors = ['red', 'green', 'blue'];\n",
    "```"
   ]
  },
  {
   "cell_type": "markdown",
   "metadata": {},
   "source": [
    "## 4. Array length Property\n",
    "\n",
    "At the implementation level, JavaScript's Arrays actually store their elements as standards objects properties, using the array index as the property name.\n",
    "\n",
    "The `length` property is special. its value is always as positive integer greater than index of the last element if one exists.\n",
    "\n",
    "Note: JavaScript array indexes are 0-based: they starts form 0 not 1, This means that the `length` property will be one more than the highest index stored in the array."
   ]
  },
  {
   "cell_type": "code",
   "execution_count": 13,
   "metadata": {},
   "outputs": [
    {
     "name": "stdout",
     "output_type": "stream",
     "text": [
      "length of the array:  3\n",
      "highest index of array:  blue\n"
     ]
    }
   ],
   "source": [
    "let Colors = ['red', 'green', 'blue'];\n",
    "// Here the length of the array is 3 but the highest index is two.\n",
    "\n",
    "console.log(\"length of the array: \", colors.length);\n",
    "console.log(\"highest index of array: \", colors[2]);\n",
    "// getting the index by accessing its last value.\n"
   ]
  },
  {
   "cell_type": "markdown",
   "metadata": {},
   "source": [
    "**Assigning values to the length property**\n",
    "\n",
    "We can also assign to the  `length` property.\n",
    "\n",
    "1. if we assign the value greater then the actual length of the array. it will create more empty slots for array elements.\n",
    "2. if we assign the value shorter then the actual length of the array. it will truncate the array.\n",
    "3. if we assign the 0 then it will clear (empties) the the array.  "
   ]
  },
  {
   "cell_type": "code",
   "execution_count": 14,
   "metadata": {},
   "outputs": [],
   "source": [
    "let Colorsx = [\"red\", \"green\", \"blue\", \"yellow\"];\n",
    "// the length of the this array is 4."
   ]
  },
  {
   "cell_type": "code",
   "execution_count": 15,
   "metadata": {},
   "outputs": [
    {
     "data": {
      "text/plain": [
       "[ 'red', 'green', 'blue', 'yellow', <3 empty items> ]"
      ]
     },
     "execution_count": 15,
     "metadata": {},
     "output_type": "execute_result"
    }
   ],
   "source": [
    "// 1. setting the array length as 7.\n",
    "Colorsx.length  = 7;\n",
    "// inspecting the array.\n",
    "Colorsx"
   ]
  },
  {
   "cell_type": "code",
   "execution_count": 16,
   "metadata": {},
   "outputs": [
    {
     "data": {
      "text/plain": [
       "[ 'red', 'green', 'blue' ]"
      ]
     },
     "execution_count": 16,
     "metadata": {},
     "output_type": "execute_result"
    }
   ],
   "source": [
    "// 2. assigning the length less then the actual length.\n",
    "Colorsx.length = 3;\n",
    "Colorsx\n",
    "// it will truncate the array."
   ]
  },
  {
   "cell_type": "code",
   "execution_count": 17,
   "metadata": {},
   "outputs": [
    {
     "data": {
      "text/plain": [
       "[]"
      ]
     },
     "execution_count": 17,
     "metadata": {},
     "output_type": "execute_result"
    }
   ],
   "source": [
    "// 3. assigning zero to the array length\n",
    "Colorsx.length = 0;\n",
    "Colorsx"
   ]
  },
  {
   "cell_type": "markdown",
   "metadata": {},
   "source": [
    "## 5. Iterating over arrays.\n",
    "\n",
    "A common operation is to iterate over the values of an array, processing each one in some way. The simplest way to iterate over the array is given below.\n"
   ]
  },
  {
   "cell_type": "code",
   "execution_count": 1,
   "metadata": {},
   "outputs": [
    {
     "name": "stdout",
     "output_type": "stream",
     "text": [
      "cup\n",
      "glass\n",
      "bowl\n",
      "spoon\n",
      "knife\n"
     ]
    }
   ],
   "source": [
    "let items = [\"cup\", \"glass\", \"bowl\", \"spoon\", \"knife\"];\n",
    "\n",
    "// to iterate over the array we need to use the for loop\n",
    "for (let i = 0; i < items.length; i++) {\n",
    "    let element = items[i];\n",
    "    console.log(element);\n",
    "}"
   ]
  },
  {
   "cell_type": "markdown",
   "metadata": {},
   "source": [
    "if we don't know the length of the array and none of the element in our array evaluate to `false` in a boolean context, then we can use the more efficient way."
   ]
  },
  {
   "cell_type": "code",
   "execution_count": 2,
   "metadata": {},
   "outputs": [
    {
     "name": "stdout",
     "output_type": "stream",
     "text": [
      "cup\n",
      "glass\n",
      "bowl\n",
      "spoon\n",
      "knife\n"
     ]
    }
   ],
   "source": [
    "for (let i = 0, item; item = items[i]; i++) {\n",
    "    // let element = items[i];\n",
    "    console.log(item);\n",
    "}"
   ]
  },
  {
   "cell_type": "markdown",
   "metadata": {},
   "source": [
    "This avoids the overhead of checking the length of the array, and ensures that the `item` variable is reassigned to the current item each time around the loop for added convenience."
   ]
  },
  {
   "cell_type": "markdown",
   "metadata": {},
   "source": [
    "The `forEach()` method provides another way of iterating over an array."
   ]
  },
  {
   "cell_type": "code",
   "execution_count": 3,
   "metadata": {},
   "outputs": [
    {
     "data": {
      "text/plain": [
       "[ 'cup', 'glass', 'bowl', 'spoon', 'knife' ]"
      ]
     },
     "execution_count": 3,
     "metadata": {},
     "output_type": "execute_result"
    }
   ],
   "source": [
    "items"
   ]
  },
  {
   "cell_type": "code",
   "execution_count": 4,
   "metadata": {},
   "outputs": [
    {
     "name": "stdout",
     "output_type": "stream",
     "text": [
      "cup\n",
      "glass\n",
      "bowl\n",
      "spoon\n",
      "knife\n"
     ]
    }
   ],
   "source": [
    "items.forEach((x) => console.log(x));"
   ]
  },
  {
   "cell_type": "markdown",
   "metadata": {},
   "source": [
    " The function passed to `forEach` is executed once for every item in the array, with the array item passed as the argument to the function. Unassigned values are not iterated in a `forEach` loop."
   ]
  },
  {
   "cell_type": "markdown",
   "metadata": {},
   "source": [
    "**`Note:`** Note that the elements of an array that are omitted when the array is defined are not listed when iterating by `forEach`, but are listed when `undefined` has been manually assigned to the element."
   ]
  },
  {
   "cell_type": "code",
   "execution_count": 5,
   "metadata": {},
   "outputs": [
    {
     "data": {
      "text/plain": [
       "[ 'first', 'second', <1 empty item>, 'fourth' ]"
      ]
     },
     "execution_count": 5,
     "metadata": {},
     "output_type": "execute_result"
    }
   ],
   "source": [
    "let array = [\"first\", \"second\", ,\"fourth\"];\n",
    "array "
   ]
  },
  {
   "cell_type": "code",
   "execution_count": 6,
   "metadata": {},
   "outputs": [
    {
     "name": "stdout",
     "output_type": "stream",
     "text": [
      "first\n",
      "second\n",
      "fourth\n"
     ]
    }
   ],
   "source": [
    "array.forEach((x) => console.log(x));"
   ]
  },
  {
   "cell_type": "markdown",
   "metadata": {},
   "source": [
    "In above case `empty` element is omitted. hence we have got only three values. but if we have undefined instead of empty then it will not omit the undefined value."
   ]
  },
  {
   "cell_type": "code",
   "execution_count": 7,
   "metadata": {},
   "outputs": [
    {
     "name": "stdout",
     "output_type": "stream",
     "text": [
      "first\n",
      "second\n",
      "undefined\n",
      "fourth\n"
     ]
    }
   ],
   "source": [
    "let array2 = [\"first\", \"second\",undefined,\"fourth\"]; \n",
    "\n",
    "array2.forEach((x) => console.log(x));"
   ]
  },
  {
   "cell_type": "markdown",
   "metadata": {},
   "source": [
    "**`Note:`** Since JavaScript elements are saved as standard object properties, it is not advisable to iterate through JavaScript arrays using `for...in` loops, because normal elements and all enumerable properties will be listed."
   ]
  },
  {
   "cell_type": "markdown",
   "metadata": {},
   "source": [
    "____\n",
    "____"
   ]
  },
  {
   "cell_type": "markdown",
   "metadata": {},
   "source": [
    "## Array Methods\n",
    "\n",
    "Array has various type of method which allow us to perform various kind of operations on the array.\n",
    "\n",
    "Note: we will use the common array for most of the method until we don't have to make a new one."
   ]
  },
  {
   "cell_type": "code",
   "execution_count": 1,
   "metadata": {},
   "outputs": [],
   "source": [
    "let array = [\"Hello\", 12, 3.45, undefined, true, false, null];\n",
    "// it contain various kind of values."
   ]
  },
  {
   "cell_type": "markdown",
   "metadata": {},
   "source": [
    "### Array.at() method\n",
    "\n",
    "* The `at()` method takes an integer value and return the item at the index.\n",
    "* It allows for both positive and negative values.\n",
    "* Negative integers count back from the last item in the array.\n",
    "\n",
    "Note: This is not suggest there we should not use the square bracket notation. but sometimes we have to use the `at()` method over the square bracket notation like if we want to perform like this `array[array.length -1]` for the last item, for this kind of situation we can use `array.at(-1)`."
   ]
  },
  {
   "cell_type": "code",
   "execution_count": 2,
   "metadata": {},
   "outputs": [],
   "source": [
    "// using -1 with the square bracket will give undefined value.\n",
    "array[-1];"
   ]
  },
  {
   "cell_type": "code",
   "execution_count": 3,
   "metadata": {},
   "outputs": [
    {
     "data": {
      "text/plain": [
       "null"
      ]
     },
     "execution_count": 3,
     "metadata": {},
     "output_type": "execute_result"
    }
   ],
   "source": [
    "// now if we us the at() method we will get the last value.\n",
    "array.at(-1);"
   ]
  },
  {
   "cell_type": "markdown",
   "metadata": {},
   "source": [
    "#### Parameters\n",
    "\n",
    "<span style='color:#0077b6; font-weight:bold;'>index:</span>\n",
    "\n",
    "-  The index (position) of the array element to be returned. \n",
    "-  It supports both positive and negative values. if a negative number is used, the element returned will be found by counting back from the end of the array.\n",
    "\n",
    "<span style='color:#BB6B24; font-weight:bold;'>Return:</span> \n",
    "\n",
    "- The element in the array matching the given index. \n",
    "- Return `undefined` if the given index can not be found."
   ]
  },
  {
   "cell_type": "markdown",
   "metadata": {},
   "source": [
    "_____"
   ]
  },
  {
   "cell_type": "markdown",
   "metadata": {},
   "source": [
    "### Array.concat() method\n",
    "\n",
    "This method is used to join two or more arrays and returns a new array. This method does not change the existing arrays, but instead returns a new array."
   ]
  },
  {
   "cell_type": "code",
   "execution_count": 4,
   "metadata": {},
   "outputs": [
    {
     "data": {
      "text/plain": [
       "[\n",
       "  1,   2,   3,   4,   5,\n",
       "  'a', 'b', 'c', 'd'\n",
       "]"
      ]
     },
     "execution_count": 4,
     "metadata": {},
     "output_type": "execute_result"
    }
   ],
   "source": [
    "// Suppose that we have two array and if we want to add them we can use \n",
    "// concat method.\n",
    "\n",
    "let arr1 = [1,2,3,4,5];\n",
    "let arr2 = ['a', 'b', 'c', 'd'];\n",
    "\n",
    "// now if we add them\n",
    "arr1.concat(arr2); // it will return new array."
   ]
  },
  {
   "cell_type": "markdown",
   "metadata": {},
   "source": [
    "#### Parameters\n",
    "\n",
    "<span style='color:#0077b6; font-weight:bold;'>ValueN:</span>\n",
    "\n",
    "- it can take multiple value of multiple arrays to concatenate into a new array.\n",
    "- if all `ValueN` parameters are omitted, `concat` return a _shallow copy_ of the existing array on which it is called.\n",
    "\n",
    "<span style='color:#BB6B24; font-weight:bold;'>Return:</span>\n",
    "\n",
    "- It return a new instance of array.\n",
    "\n",
    "____"
   ]
  },
  {
   "cell_type": "markdown",
   "metadata": {},
   "source": [
    "### Array.join() method\n",
    "\n",
    "This method  is used to creates and returns a new string by concatenating all of the elements in array, separated by commas or a specified separator string.\n",
    "\n",
    "if the array has only one item, then that item will be returned without using the separator."
   ]
  },
  {
   "cell_type": "code",
   "execution_count": 5,
   "metadata": {},
   "outputs": [
    {
     "data": {
      "text/plain": [
       "'manish,26,5.6,O-,true'"
      ]
     },
     "execution_count": 5,
     "metadata": {},
     "output_type": "execute_result"
    }
   ],
   "source": [
    "// suppose that we have an array of some elements.\n",
    "\n",
    "// Array in this order: name, age,height, bloodGroup, isStudent\n",
    "\n",
    "let person = [\"manish\", 26, 5.6, \"O-\", true];\n",
    "\n",
    "// Now if use the join on this array.\n",
    "person.join() // without passing the any argument"
   ]
  },
  {
   "cell_type": "code",
   "execution_count": 6,
   "metadata": {},
   "outputs": [
    {
     "data": {
      "text/plain": [
       "'manish-26-5.6-O--true'"
      ]
     },
     "execution_count": 6,
     "metadata": {},
     "output_type": "execute_result"
    }
   ],
   "source": [
    "person.join('-'); // joining the array by using the dash character."
   ]
  },
  {
   "cell_type": "markdown",
   "metadata": {},
   "source": [
    "#### Parameters\n",
    "\n",
    "<span style='color:#0077b6; font-weight:bold;'>separator:</span> \n",
    "\n",
    "- It specifies a string to separate each pair of adjacent elements of the array.\n",
    "- The separator is converted to a string if necessary.\n",
    "- if separator is omitted, the array elements are separated with a comma `(\",\")`.\n",
    "- if a separator is empty string, all elements are joined without any character in b/w them.\n",
    "\n",
    "<span style='color:#BB6B24; font-weight:bold;'>Return:</span>\n",
    "\n",
    "- It returns a string with all array elements joined.\n",
    "- if `arr.length` is 0, the empty string is returned.\n",
    "\n",
    "\n",
    "_____\n"
   ]
  },
  {
   "cell_type": "markdown",
   "metadata": {},
   "source": [
    "### Array.push() method\n",
    "\n",
    "This method is used to add one or more elements to the end of the array and returns the new length of the array."
   ]
  },
  {
   "cell_type": "code",
   "execution_count": 7,
   "metadata": {},
   "outputs": [],
   "source": [
    "let array2 = ['one', 'two', 'three'];"
   ]
  },
  {
   "cell_type": "code",
   "execution_count": 8,
   "metadata": {},
   "outputs": [
    {
     "data": {
      "text/plain": [
       "4"
      ]
     },
     "execution_count": 8,
     "metadata": {},
     "output_type": "execute_result"
    }
   ],
   "source": [
    "// Now we will add one more element\n",
    "array2.push(\"four\");"
   ]
  },
  {
   "cell_type": "code",
   "execution_count": 9,
   "metadata": {},
   "outputs": [
    {
     "data": {
      "text/plain": [
       "7"
      ]
     },
     "execution_count": 9,
     "metadata": {},
     "output_type": "execute_result"
    }
   ],
   "source": [
    "// Now we will add multiple items.\n",
    "array2.push(\"five\", \"six\", \"seven\");"
   ]
  },
  {
   "cell_type": "code",
   "execution_count": 10,
   "metadata": {},
   "outputs": [
    {
     "name": "stdout",
     "output_type": "stream",
     "text": [
      "[\n",
      "  'one',   'two',\n",
      "  'three', 'four',\n",
      "  'five',  'six',\n",
      "  'seven'\n",
      "]\n"
     ]
    }
   ],
   "source": [
    "// Now new length of the array is 7.\n",
    "console.log(array2);"
   ]
  },
  {
   "cell_type": "markdown",
   "metadata": {},
   "source": [
    "#### Parameters\n",
    "\n",
    "<span style='color:#0077b6; font-weight:bold;'>elementN:</span>\n",
    "\n",
    "- The element(s) to add to the end of the array.\n",
    "- Number of element can be one or two or more than two.\n",
    "\n",
    "\n",
    "<span style='color:#BB6B24; font-weight:bold;'>Return:</span>\n",
    "\n",
    "- It return the new length of the array.\n",
    "\n",
    "____"
   ]
  },
  {
   "cell_type": "markdown",
   "metadata": {},
   "source": [
    "### Array.pop() method\n",
    "\n",
    "This method is used to remove the _last_ element from an array and return that element.\n",
    "\n",
    "This method also changes the length of the array."
   ]
  },
  {
   "cell_type": "code",
   "execution_count": 1,
   "metadata": {},
   "outputs": [],
   "source": [
    "let numbers = ['one','two','three', 'four','five','six','seven'];"
   ]
  },
  {
   "cell_type": "code",
   "execution_count": 2,
   "metadata": {},
   "outputs": [
    {
     "data": {
      "text/plain": [
       "'seven'"
      ]
     },
     "execution_count": 2,
     "metadata": {},
     "output_type": "execute_result"
    }
   ],
   "source": [
    "// now if we use the pop on teh array element it will remove the and \n",
    "// return the last element.\n",
    "numbers.pop();"
   ]
  },
  {
   "cell_type": "code",
   "execution_count": 3,
   "metadata": {},
   "outputs": [
    {
     "data": {
      "text/plain": [
       "'six'"
      ]
     },
     "execution_count": 3,
     "metadata": {},
     "output_type": "execute_result"
    }
   ],
   "source": [
    "// again removing the last element.\n",
    "numbers.pop();"
   ]
  },
  {
   "cell_type": "code",
   "execution_count": 4,
   "metadata": {},
   "outputs": [
    {
     "data": {
      "text/plain": [
       "[ 'one', 'two', 'three', 'four', 'five' ]"
      ]
     },
     "execution_count": 4,
     "metadata": {},
     "output_type": "execute_result"
    }
   ],
   "source": [
    "// inspecting the array.\n",
    "numbers"
   ]
  },
  {
   "cell_type": "markdown",
   "metadata": {},
   "source": [
    "As we can see that `pop()` method removed last two element after using the `pop()` method twice on the array.\n",
    "\n",
    "<span style='color:#BB6B24; font-weight:bold;'>Return:</span>\n",
    "\n",
    "- It returns the removed element from the array.\n",
    "- will return `undefined` if the array is empty.\n",
    "\n",
    "____"
   ]
  },
  {
   "cell_type": "markdown",
   "metadata": {},
   "source": [
    "### Array.shift() method\n",
    "\n",
    "This method is used to removes the _first_ element from an array and returns that removed element. \n",
    "\n",
    "The `shift()` method removes the element at the zeroth index and shifts the values at consecutive indexes down, then returns the removed value. if the `length` property is 0, `undefined` is returned.\n",
    "\n",
    "This method changes the length of the array."
   ]
  },
  {
   "cell_type": "code",
   "execution_count": 5,
   "metadata": {},
   "outputs": [
    {
     "data": {
      "text/plain": [
       "'one'"
      ]
     },
     "execution_count": 5,
     "metadata": {},
     "output_type": "execute_result"
    }
   ],
   "source": [
    "// Using the numbers from the above codes.\n",
    "numbers.shift(); // removing the first element."
   ]
  },
  {
   "cell_type": "code",
   "execution_count": 6,
   "metadata": {},
   "outputs": [
    {
     "data": {
      "text/plain": [
       "[ 'two', 'three', 'four', 'five' ]"
      ]
     },
     "execution_count": 6,
     "metadata": {},
     "output_type": "execute_result"
    }
   ],
   "source": [
    "numbers"
   ]
  },
  {
   "cell_type": "markdown",
   "metadata": {},
   "source": [
    "As we can see that `shift()` method removed the first element from the `numbers` array.\n",
    "\n",
    "<span style='color:#BB6B24; font-weight:bold;'>Return:</span>\n",
    "\n",
    "- it will return the removed element from the array.\n",
    "- will return `undefined` if the array is empty. \n",
    "\n",
    "_____"
   ]
  },
  {
   "cell_type": "markdown",
   "metadata": {},
   "source": [
    "### Array.unshift() method.\n",
    "\n",
    "The `unshift()` method adds one or more elements to the beginning of an array and returns the new length of the array.\n",
    "\n",
    "Note: if multiple elements are passed as parameters, they're inserted in chunk at the beginning of the object, in the exact same order they were passed as parameters. Hence, calling `unshift()` with n arguments once, or calling it n times with 1 argument (with a loop, for example), don't yield the same results."
   ]
  },
  {
   "cell_type": "code",
   "execution_count": 7,
   "metadata": {},
   "outputs": [],
   "source": [
    "// Creating a new array.\n",
    "let num = [\"one\", \"two\"];"
   ]
  },
  {
   "cell_type": "code",
   "execution_count": 8,
   "metadata": {},
   "outputs": [
    {
     "data": {
      "text/plain": [
       "[ 'three', 'one', 'two' ]"
      ]
     },
     "execution_count": 8,
     "metadata": {},
     "output_type": "execute_result"
    }
   ],
   "source": [
    "// now we will add one element at the beginning of the array.\n",
    "num.unshift(\"three\");\n",
    "num // inspecting the num"
   ]
  },
  {
   "cell_type": "code",
   "execution_count": 9,
   "metadata": {},
   "outputs": [
    {
     "data": {
      "text/plain": [
       "[ 'four', 'five', 'six', 'three', 'one', 'two' ]"
      ]
     },
     "execution_count": 9,
     "metadata": {},
     "output_type": "execute_result"
    }
   ],
   "source": [
    "// now we wll add multiple elements.\n",
    "num.unshift(\"four\", \"five\", \"six\");\n",
    "num // inspecting the num"
   ]
  },
  {
   "cell_type": "markdown",
   "metadata": {},
   "source": [
    "#### Parameters\n",
    "\n",
    "<span style='color:#0077b6; font-weight:bold;'>elementsN:</span>\n",
    "\n",
    "- Elements to add to the front of the array.\n",
    "\n",
    "<span style='color:#BB6B24; font-weight:bold;'>Return:</span>\n",
    "\n",
    "- It return a new `length` property of the object upon which the method was called.\n",
    "\n",
    "_____"
   ]
  },
  {
   "cell_type": "markdown",
   "metadata": {},
   "source": [
    "### Array.slice() method\n",
    "\n",
    "This method returns a `shallow copy` of a portion of an array into a new array object selected from `start` to `end` (`end` not included) where `start` and `end` represent the index of items in that array. \n",
    "\n",
    "The original array will not be modified.\n",
    "\n",
    "The `slice()` method preserves empty slots. If the sliced portion is sparse, the returned array is sparse as well."
   ]
  },
  {
   "cell_type": "code",
   "execution_count": 10,
   "metadata": {},
   "outputs": [],
   "source": [
    "let names = [\"manish\", \"sager\", \"rahul\", \"abhishek\", 'yogi', \"kaushal\"];"
   ]
  },
  {
   "cell_type": "code",
   "execution_count": 11,
   "metadata": {},
   "outputs": [
    {
     "data": {
      "text/plain": [
       "[ 'rahul', 'abhishek', 'yogi' ]"
      ]
     },
     "execution_count": 11,
     "metadata": {},
     "output_type": "execute_result"
    }
   ],
   "source": [
    "// Now if use the slice on the names then it will return the \n",
    "// shallow copy.\n",
    "names.slice(2,5); // start = 2, end = 5, it will return 3 items containing array."
   ]
  },
  {
   "cell_type": "code",
   "execution_count": 12,
   "metadata": {},
   "outputs": [
    {
     "data": {
      "text/plain": [
       "[ 'yogi', 'kaushal' ]"
      ]
     },
     "execution_count": 12,
     "metadata": {},
     "output_type": "execute_result"
    }
   ],
   "source": [
    "// if we do not specify the end then it will give the element upto the end of \n",
    "// the array.\n",
    "names.slice(4); // slicing the array from 4 upto the last element."
   ]
  },
  {
   "cell_type": "code",
   "execution_count": 13,
   "metadata": {},
   "outputs": [
    {
     "data": {
      "text/plain": [
       "[ 'abhishek', 'yogi', 'kaushal' ]"
      ]
     },
     "execution_count": 13,
     "metadata": {},
     "output_type": "execute_result"
    }
   ],
   "source": [
    "// if we give the negative values, it will count the last -n element.\n",
    "names.slice(-3); // slice the last three element."
   ]
  },
  {
   "cell_type": "code",
   "execution_count": 15,
   "metadata": {},
   "outputs": [
    {
     "data": {
      "text/plain": [
       "[ 'rahul', 'abhishek' ]"
      ]
     },
     "execution_count": 15,
     "metadata": {},
     "output_type": "execute_result"
    }
   ],
   "source": [
    "// if we use the positive and negative both with start and end.\n",
    "names.slice(2,-2); // slice the names array from 2 to last 2 elements.\n",
    "// here second last element will not be included."
   ]
  },
  {
   "cell_type": "markdown",
   "metadata": {},
   "source": [
    "#### Parameters\n",
    "\n",
    "<span style='color:#0077b6; font-weight:bold;'>start:</span> `(optional)`\n",
    "\n",
    "- Zero-based index at which to start extraction. \n",
    "\n",
    "- A Negative index can be used, indicating an offset from the end of the sequence. `slice(-2)` extracts the last two elements in the sequence.\n",
    "\n",
    "- if `start` is undefined, slice `starts` from the index 0. \n",
    "\n",
    "- if `start` is greater than the index range of the sequence, an empty array is returned.\n",
    "\n",
    "<span style='color:#0077b6; font-weight:bold;'>end:</span> `(optional)` \n",
    "\n",
    "- The index of the `first` element to exclude from the returned array. slice extracted up to but not including `end`.\n",
    "\n",
    "- A negative index can be used, indicating an offset from the end of the sequence. `slice(2,-1)` will extracts the elements from third position upto the second last element, because -1 is not included.\n",
    "\n",
    "- if `end` is omitted, slice extracts through the end of the sequence.\n",
    "\n",
    "- if `end` is greater than the length of the sequence, `slice` extracts through to the end of the sequence.\n",
    "\n",
    "\n",
    "<span style='color:#BB6B24; font-weight:bold;'>Return:</span>\n",
    "\n",
    "- A new array containing the extracted elements.\n",
    "\n",
    "____"
   ]
  },
  {
   "cell_type": "markdown",
   "metadata": {},
   "source": [
    "### Array.splice() method\n",
    "\n",
    "This method changes the content of an array by removing or replacing existing elements and/or adding new elements in place.\n",
    "\n",
    "In other words, The `splice()` method removes elements from an array and optionally replaces them, it returns the items which were removed from the array.\n",
    "\n",
    "```js\n",
    "Array.splice(start, deleteCount, ...items);\n",
    "```"
   ]
  },
  {
   "cell_type": "code",
   "execution_count": 19,
   "metadata": {},
   "outputs": [
    {
     "data": {
      "text/plain": [
       "[ 'manish', 'sager', 'rahul', 'abhishek', 'yogi', 'kaushal' ]"
      ]
     },
     "execution_count": 19,
     "metadata": {},
     "output_type": "execute_result"
    }
   ],
   "source": [
    "// redefining the names array.\n",
    "names =  [\"manish\", \"sager\", \"rahul\", \"abhishek\", 'yogi', \"kaushal\"];\n",
    "// now we will do some splice operation."
   ]
  },
  {
   "cell_type": "code",
   "execution_count": 20,
   "metadata": {},
   "outputs": [
    {
     "name": "stdout",
     "output_type": "stream",
     "text": [
      "[\n",
      "  'manish',   'kumar',\n",
      "  'sager',    'rahul',\n",
      "  'abhishek', 'yogi',\n",
      "  'kaushal'\n",
      "]\n"
     ]
    }
   ],
   "source": [
    "// 1. inserting an element, without deleting any item\n",
    "names.splice(1, 0, \"kumar\"); // inserting at 1.\n",
    "console.log(names) // inspecting names array"
   ]
  },
  {
   "cell_type": "code",
   "execution_count": 21,
   "metadata": {},
   "outputs": [
    {
     "name": "stdout",
     "output_type": "stream",
     "text": [
      "[\n",
      "  'manish',   'Anil',\n",
      "  'sager',    'rahul',\n",
      "  'abhishek', 'yogi',\n",
      "  'kaushal'\n",
      "]\n"
     ]
    }
   ],
   "source": [
    "// 2. replacing the element by using the deleteCount\n",
    "names.splice(1,1,\"Anil\"); // replacing the \"kumar\" by \"Anil\".\n",
    "console.log(names);"
   ]
  },
  {
   "cell_type": "code",
   "execution_count": 22,
   "metadata": {},
   "outputs": [
    {
     "name": "stdout",
     "output_type": "stream",
     "text": [
      "[ 'manish', 'sager', 'rahul', 'abhishek', 'yogi', 'kaushal' ]\n"
     ]
    }
   ],
   "source": [
    "// 3. deleting an items from a position.\n",
    "names.splice(1,1); // removing the 1th position name\n",
    "console.log(names)"
   ]
  },
  {
   "cell_type": "markdown",
   "metadata": {},
   "source": [
    "#### Parameters\n",
    "\n",
    "<span style='color:#0077b6; font-weight:bold;'>start:</span>\n",
    "- The index at which to start changing the array.\n",
    "\n",
    "\n",
    "- if greater than the length of the array, `start` will be set to the length of the array. in this case, no element will be deleted but the method will behaves as adding function, adding as many elements as items provided.\n",
    "\n",
    "- if negative, it will begin that many elements from the end of the array. (in this case the origin `-1`, meaning `-n` is the index of the nth last element, and is therefore equivalent to the index of `array.length - n`). if start is -Infinity, it will begin from index `0`.\n",
    "\n",
    "<span style='color:#0077b6; font-weight:bold;'>deleteCount:</span>`(Optional)`\n",
    "\n",
    "- An integer indicating the number of elements in the array to remove from `start`.\n",
    "- if `deleteCount` is omitted, or its value is equal to or larger than `array.length - start` (that is, if it is equal to or greater than the number of elements left in the array, starting at `start`), then all the elements from `start` to the end of the array will be deleted. However, it must not be omitted if there is any item1 parameter.\n",
    "- if `deleteCount` is 0 or negative, no elements are removed.in this case, you should specify at least one new element.\n",
    "\n",
    "<span style='color:#0077b6; font-weight:bold;'>itemN:</span>`(Optional)`\n",
    "\n",
    "- The elements to add the array, beginning from start.\n",
    "- if we do not specify any elements, `splice()` will only remove elements from the array.\n",
    "\n",
    "<span style='color:#BB6B24; font-weight:bold;'>Return:</span>\n",
    "\n",
    "- An array containing the deleted elements.\n",
    "- if only one element is removed, an array of on element is removed.\n",
    "- if no element are removed, an empty array is returned. \n",
    "\n",
    "____"
   ]
  },
  {
   "cell_type": "markdown",
   "metadata": {},
   "source": [
    "### Array.reverse() method\n",
    "\n",
    "This method reverse an array in place and return the reference to the same array, the first array element no becoming the last, and the last array element becoming the first. \n",
    "\n",
    "The `reverse()` method transposes the elements of the calling array object in place, mutating the array, and returning a reference to the array.\n",
    "\n",
    "The `reverse()` method preserves empty slots. if the source array is _sparse_, the empty slots' corresponding new indices are deleted and also become empty slots.   "
   ]
  },
  {
   "cell_type": "code",
   "execution_count": 24,
   "metadata": {},
   "outputs": [
    {
     "data": {
      "text/plain": [
       "[ 'manish', 'sager', 'rahul', 'abhishek', 'yogi', 'kaushal' ]"
      ]
     },
     "execution_count": 24,
     "metadata": {},
     "output_type": "execute_result"
    }
   ],
   "source": [
    "names"
   ]
  },
  {
   "cell_type": "markdown",
   "metadata": {},
   "source": [
    "Now we will reverse the names array, by using the `reverse()` method."
   ]
  },
  {
   "cell_type": "code",
   "execution_count": 25,
   "metadata": {},
   "outputs": [
    {
     "data": {
      "text/plain": [
       "[ 'kaushal', 'yogi', 'abhishek', 'rahul', 'sager', 'manish' ]"
      ]
     },
     "execution_count": 25,
     "metadata": {},
     "output_type": "execute_result"
    }
   ],
   "source": [
    "names.reverse()"
   ]
  },
  {
   "cell_type": "markdown",
   "metadata": {},
   "source": [
    "As we can see that the order of the array has been changed."
   ]
  },
  {
   "cell_type": "markdown",
   "metadata": {},
   "source": [
    "<span style='color:#BB6B24; font-weight:bold;'>Return:</span>\n",
    "\n",
    "The reference to the original array, now reversed. Note that the array is reversed in place, and no copy is made.\n",
    "\n",
    "___"
   ]
  },
  {
   "cell_type": "markdown",
   "metadata": {},
   "source": [
    "### Array.flat() method\n",
    "\n",
    "This methods creates a new array with all sub-array elements concatenated into it recursively up to the specified depth.\n",
    "\n",
    "The `flat()` method is a _copying method_. it does note alter `this` but instead returns a shallow copy that contains the same elements as the ones from the original array."
   ]
  },
  {
   "cell_type": "code",
   "execution_count": 26,
   "metadata": {},
   "outputs": [],
   "source": [
    "let arr1 = [0, 1, 2, [3, 4]];\n",
    "let arr2 = [0, 1, 2, [[[3, 4]]]];\n"
   ]
  },
  {
   "cell_type": "code",
   "execution_count": 27,
   "metadata": {},
   "outputs": [
    {
     "data": {
      "text/plain": [
       "[ 0, 1, 2, 3, 4 ]"
      ]
     },
     "execution_count": 27,
     "metadata": {},
     "output_type": "execute_result"
    }
   ],
   "source": [
    "// first we will flat the arr1\n",
    "arr1.flat();"
   ]
  },
  {
   "cell_type": "code",
   "execution_count": 28,
   "metadata": {},
   "outputs": [
    {
     "data": {
      "text/plain": [
       "[ 0, 1, 2, [ [ 3, 4 ] ] ]"
      ]
     },
     "execution_count": 28,
     "metadata": {},
     "output_type": "execute_result"
    }
   ],
   "source": [
    "// flatting the arr2.\n",
    "arr2.flat();"
   ]
  },
  {
   "cell_type": "code",
   "execution_count": 29,
   "metadata": {},
   "outputs": [
    {
     "data": {
      "text/plain": [
       "[ 0, 1, 2, 3, 4 ]"
      ]
     },
     "execution_count": 29,
     "metadata": {},
     "output_type": "execute_result"
    }
   ],
   "source": [
    "// if we specify the depth of the flatting then the result will be different.\n",
    "arr2.flat(3);"
   ]
  },
  {
   "cell_type": "markdown",
   "metadata": {},
   "source": [
    "#### Parameters\n",
    "\n",
    "<span style='color:#0077b6; font-weight:bold;'>depth:</span>`(Optional)`\n",
    "\n",
    "- The depth level specifying how deep a nested array structure should be flattened Defaults to 1.\n",
    "\n",
    "<span style='color:#BB6B24; font-weight:bold;'>Return:</span>\n",
    "\n",
    "- A new array with the sub-array elements concatenated into it.\n",
    "\n",
    "____\n"
   ]
  },
  {
   "cell_type": "markdown",
   "metadata": {},
   "source": [
    "### Array.sort() method\n",
    "\n",
    "The `sort()` method sorts the elements of an array in place and returns the reference to the same array, now sorted. The default sort order is ascending, built upon converting the elements strings, then comparing their sequences of UTF-16 code units values.\n",
    "\n",
    "additionally it takes an compare function.\n",
    "\n",
    "if `conpareFn` is not supplied, all non-undefined array elements are sorted by converting them to string and comparing strings in UTF-16 code units order. \n",
    "\n",
    "The sort() method preserves empty slots. if the source array is sparse, the empty slots are moved to the end of the array, and always comes after all the `undefined`.\n",
    "\n",
    "if `compareFn` is supplied, all non-undefined array elements are sorted according to the return value of the compare function."
   ]
  },
  {
   "cell_type": "code",
   "execution_count": 30,
   "metadata": {},
   "outputs": [
    {
     "data": {
      "text/plain": [
       "[ 'kaushal', 'yogi', 'abhishek', 'rahul', 'sager', 'manish' ]"
      ]
     },
     "execution_count": 30,
     "metadata": {},
     "output_type": "execute_result"
    }
   ],
   "source": [
    "// we will use the names array to test the sort method.\n",
    "names"
   ]
  },
  {
   "cell_type": "code",
   "execution_count": 31,
   "metadata": {},
   "outputs": [
    {
     "data": {
      "text/plain": [
       "[ 'abhishek', 'kaushal', 'manish', 'rahul', 'sager', 'yogi' ]"
      ]
     },
     "execution_count": 31,
     "metadata": {},
     "output_type": "execute_result"
    }
   ],
   "source": [
    "// Now we will sort our array by using the names array.\n",
    "// here we will not use the any kind of compareFn.\n",
    "names.sort();"
   ]
  },
  {
   "cell_type": "markdown",
   "metadata": {},
   "source": [
    "#### Parameters\n",
    "\n",
    "<span style='color:#0077b6; font-weight:bold;'>compareFn:</span>`(Optional)`\n",
    "\n",
    "- Specifies a function that defines the sort order. if omitted, the array elements are converted to strings, then sorted according to each characters's Unicode code point value.\n",
    "  - **`a:`** The first element for comparison.\n",
    "  - **`b:`** The second element for comparison.\n",
    "\n",
    "<span style='color:#BB6B24; font-weight:bold;'>Return:</span>\n",
    "\n",
    "- The reference to the original array, no sorted. Note that the array is sorted in place, and no copy is made."
   ]
  },
  {
   "cell_type": "markdown",
   "metadata": {},
   "source": []
  }
 ],
 "metadata": {
  "kernelspec": {
   "display_name": "JavaScript (Node.js)",
   "language": "javascript",
   "name": "javascript"
  },
  "language_info": {
   "file_extension": ".js",
   "mimetype": "application/javascript",
   "name": "javascript",
   "version": "16.17.0"
  },
  "orig_nbformat": 4
 },
 "nbformat": 4,
 "nbformat_minor": 2
}
