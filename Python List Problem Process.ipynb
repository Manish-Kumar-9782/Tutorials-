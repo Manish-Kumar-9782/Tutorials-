{
 "cells": [
  {
   "cell_type": "markdown",
   "id": "f0529141-1e61-47e8-9d67-83359aa06ddf",
   "metadata": {},
   "source": [
    "## Prblem  1\n",
    "\n",
    "Write a program to read a list of n integers (positive as well as negative). Create two new lists, one\n",
    "having all positive numbers and the other having all negative numbers from the given list. Print all three lists.\n",
    "\n",
    "1. Mylist: negative and Postive values.\n",
    "2. Positive: `[]` initially blank list assigning.\n",
    "3. Negative: `[]` initially blank list assigning.\n",
    "4. Now Running for loop on Mylist.\n",
    "5. Now we will make  `if-else` statement. \n",
    "6. if value is positive then append that value into Postive list\n",
    "7. if value is not positive then append that vlaue into Negative list. "
   ]
  },
  {
   "cell_type": "markdown",
   "id": "e57649f6-efca-4645-b1f8-f9d171daa161",
   "metadata": {},
   "source": [
    "## Problem 2\n",
    "\n",
    "Write a function that returns the largest element of\n",
    "the list passed as parameter.\n",
    "\n",
    "1. make a function with name as `largest`.\n",
    "2. make a parameter inside parameter list.\n",
    "3. return max on list\n",
    "\n",
    "```python\n",
    "    def largest(myList):\n",
    "        return max(MyList)\n",
    "```"
   ]
  },
  {
   "cell_type": "markdown",
   "id": "79f0debf-603e-4fb0-82f0-eff88b401a22",
   "metadata": {},
   "source": [
    "## Problem 3\n",
    "\n",
    "Write a program to read a list of n integers and find their median.\n",
    "\n",
    "`Note`: The median value of a list of values is the middle one when they are arranged in order. If there are two middle values then take their average.\n",
    "\n",
    "`Hint`: You can use an built-in function to sort the list\n",
    "\n",
    "1. first sort the list.\n",
    "2. find the length of the list.\n",
    "3. if length value is odd find the middle value. (it is the median value )\n",
    "4. if length value is even then find the average of two middle values "
   ]
  },
  {
   "cell_type": "code",
   "execution_count": null,
   "id": "c2d2b696-5852-40fd-84cb-d524b8501b14",
   "metadata": {},
   "outputs": [],
   "source": []
  }
 ],
 "metadata": {
  "kernelspec": {
   "display_name": "Python 3 (ipykernel)",
   "language": "python",
   "name": "python3"
  },
  "language_info": {
   "codemirror_mode": {
    "name": "ipython",
    "version": 3
   },
   "file_extension": ".py",
   "mimetype": "text/x-python",
   "name": "python",
   "nbconvert_exporter": "python",
   "pygments_lexer": "ipython3",
   "version": "3.10.5"
  }
 },
 "nbformat": 4,
 "nbformat_minor": 5
}
