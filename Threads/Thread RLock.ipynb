{
 "cells": [
  {
   "cell_type": "markdown",
   "id": "528ac93a-02cb-46fd-b654-e17c7c8cdc5d",
   "metadata": {},
   "source": [
    "## Thread RLocks\n",
    "\n",
    "A reentrant lock is a synchronization primitive that may be acuired multiple times by the same thread. Internally, it uses the concepts of 'owing thread' and 'recursion level' in addition to the locked/unlocked states used be perimitive locks. in the locked state; some thread owns the lock; in the unlocked state, no thread owns it.\n",
    "\n",
    "A code is re-entrant if it can be safely called again. in other wors, re-entrant code can be called more than once, evem though called by different threads, it still works correctly. So, the re-entrant se3ction of dcode usually use local varibales only in such a way that each and every call to the code getys its own unique copy of data.\n",
    "\n",
    "Re-entrant methods ar more constrained than thread-safe methods. This is because it is safe to call re-entrant methods simultaneously from multiple threads only if each invocation results only in uinque data being accessed, such a local variable."
   ]
  },
  {
   "cell_type": "markdown",
   "id": "293e1311-a4e3-4eb0-94b1-b7292c98d097",
   "metadata": {},
   "source": [
    "### An example of non-entrant code"
   ]
  },
  {
   "cell_type": "code",
   "execution_count": 1,
   "id": "ae7556dd-236b-4b31-a773-f064199b661e",
   "metadata": {},
   "outputs": [],
   "source": [
    "g = 1\n",
    "\n",
    "def f1():\n",
    "    g = g + 2;\n",
    "    return g;\n",
    "\n",
    "def f2():\n",
    "    return f1() + 2;"
   ]
  },
  {
   "cell_type": "markdown",
   "id": "c96a7a92-0dea-4564-b967-c717c25aaae0",
   "metadata": {},
   "source": [
    "if two concurrent threads access g_var, the result depends on the time of execution of each thread."
   ]
  },
  {
   "cell_type": "markdown",
   "id": "7b2817e0-f0e5-4bc4-a1d6-3770b9493a3c",
   "metadata": {},
   "source": [
    "### An example of re-entrant code."
   ]
  },
  {
   "cell_type": "code",
   "execution_count": 2,
   "id": "f4767219-2486-4b9a-8bdb-4cceb07bcbd6",
   "metadata": {},
   "outputs": [],
   "source": [
    "def f(i):\n",
    "    return i + 2 \n",
    "\n",
    "def h(i): \n",
    "    return f(i) + 2; "
   ]
  },
  {
   "cell_type": "markdown",
   "id": "59cc7a2d-a49e-4440-8c0d-505cb2f6e0ae",
   "metadata": {},
   "source": [
    "### RLock objects\n",
    "\n",
    "Normal locks objects cannot be acquired more than once, even by the same thread. This can be introduce undesirable side-effect if a lock is accessed by more than one functon in the same call chain:\n",
    "\n",
    "In order to simulate this problem we will use the print() function."
   ]
  },
  {
   "cell_type": "code",
   "execution_count": 1,
   "id": "0225e6b9-f60b-4fca-8c71-0394cb315615",
   "metadata": {},
   "outputs": [
    {
     "name": "stdout",
     "output_type": "stream",
     "text": [
      "First Try to acquire the lock:  True\n",
      "Second Try to acquire the lock: False\n",
      "print this if not blockes!\n"
     ]
    }
   ],
   "source": [
    "# first import the threading module/\n",
    "import threading\n",
    "\n",
    "# Now we will create a simple lock\n",
    "lock = threading.Lock()\n",
    "\n",
    "# now we will acquire this lock on print() function in a sequence\n",
    "# lock.acquire()\n",
    "print(\"First Try to acquire the lock: \", lock.acquire())\n",
    "print(f\"Second Try to acquire the lock: {lock.acquire(0)}\" )\n",
    "print(\"print this if not blockes!\")"
   ]
  },
  {
   "cell_type": "markdown",
   "id": "1efaa731-2154-4184-a6ea-5fca207893dd",
   "metadata": {},
   "source": [
    "`Conclusion:` Here we might get confused that when the lock is acquired by the MainThread then why the second and third print statement get executed. To understand that we need to see that how a lock is acquired.\n",
    "\n",
    "* a simple lock can only be acquired once, to acquire it again we need to release it first.\n",
    "\n",
    "* So in first print statement, we first print the literal string and then acquire the lock and it will return True hence we gets True from printing statement.\n",
    "\n",
    "* Note: Since the lock is now in blocking state it means it will block next statement for another attempt of acquiring the lock.\n",
    "\n",
    "* Since in next acquiring of lock statement we dont use the blocking (blocking=0/False) so it does not block the thread which is trying to acquire the lock and in result thread does not acquire the lock but the statement execution remain continue.\n"
   ]
  },
  {
   "cell_type": "markdown",
   "id": "8fc4c59a-e6d4-4301-a7d2-d8ed52704587",
   "metadata": {},
   "source": [
    "`Note:` So, as in the example above, in a situation where separate code from the same thread needs to 're-acquire' the lock, we need to use an **threading.RLock()** insted of a simple **threading.Lock()**."
   ]
  },
  {
   "cell_type": "code",
   "execution_count": 3,
   "id": "e41bc7e9-8714-40da-ab11-ce3c79d09a35",
   "metadata": {},
   "outputs": [
    {
     "name": "stdout",
     "output_type": "stream",
     "text": [
      "First Try to acquire the lock:  True\n",
      "Second Try to acquire the lock: True\n",
      "print this if not blockes!\n"
     ]
    }
   ],
   "source": [
    "import threading\n",
    "\n",
    "# Now here we will create a RLock() object\n",
    "lock = threading.RLock()\n",
    "\n",
    "# now we will acquire this lock on print() function in a sequence\n",
    "# lock.acquire()\n",
    "print(\"First Try to acquire the lock: \", lock.acquire())\n",
    "# here we will use use the blocking=False, and still it will able to \n",
    "# acquire the lock by the same thread.\n",
    "print(f\"Second Try to acquire the lock: {lock.acquire()}\" )\n",
    "print(\"print this if not blockes!\")"
   ]
  },
  {
   "cell_type": "markdown",
   "id": "d8bb1d7c-ee40-4b61-b9e9-54d7913bb855",
   "metadata": {},
   "source": [
    "`Conclusion:` As we can see from the above result that in both try we are able to acquire the lock from the same thread in a sequence.\n",
    "\n",
    "* `Use of this RLock:` As we have noticied that the lock is acquired in different print() function which is a kind of a Re-entrant function, now if any other thread try to access those two function then it will block them.\n",
    "\n",
    "* To illustrate this more clear we will use the logging so we can show that which thread is acquiring the lock."
   ]
  },
  {
   "cell_type": "code",
   "execution_count": 4,
   "id": "c5141d73-96cb-4abc-82d3-548354d4a2ca",
   "metadata": {},
   "outputs": [
    {
     "name": "stderr",
     "output_type": "stream",
     "text": [
      "MainThread: First Try to acquire the lock: True\n",
      "MainThread: Second Try to acquire the lock: True\n",
      "MainThread: print this if not blockes!\n"
     ]
    }
   ],
   "source": [
    "import threading\n",
    "import logging\n",
    "\n",
    "# now first we need to config the logging basicConfig()\n",
    "\n",
    "logging.basicConfig(level=logging.DEBUG,\n",
    "                   format=f'%(threadName)s: %(message)s')\n",
    "\n",
    "# Now here we will create a RLock() object\n",
    "lock = threading.RLock()\n",
    "\n",
    "# now we will acquire this lock on print() function in a sequence\n",
    "# lock.acquire()\n",
    "logging.debug(f\"First Try to acquire the lock: {lock.acquire()}\")\n",
    "\n",
    "# here we will use use the blocking=False, and still it will able to \n",
    "# acquire the lock by the same thread.\n",
    "\n",
    "logging.debug(f\"Second Try to acquire the lock: {lock.acquire()}\" )\n",
    "logging.debug(\"print this if not blockes!\")"
   ]
  },
  {
   "cell_type": "markdown",
   "id": "745db3dd-a961-474f-b2ee-9bca677eeb65",
   "metadata": {},
   "source": [
    "As you can see that MainThread is able to acquire the same lock two times.\n",
    "\n",
    "`Conclusing:` So until now we have seen that a **threading.RLock()** object can be acquired by the same thread multiple time. "
   ]
  },
  {
   "cell_type": "code",
   "execution_count": null,
   "id": "c299c9be-11d9-4604-9b18-f992c3705481",
   "metadata": {},
   "outputs": [],
   "source": []
  }
 ],
 "metadata": {
  "kernelspec": {
   "display_name": "Python 3 (ipykernel)",
   "language": "python",
   "name": "python3"
  },
  "language_info": {
   "codemirror_mode": {
    "name": "ipython",
    "version": 3
   },
   "file_extension": ".py",
   "mimetype": "text/x-python",
   "name": "python",
   "nbconvert_exporter": "python",
   "pygments_lexer": "ipython3",
   "version": "3.8.3"
  }
 },
 "nbformat": 4,
 "nbformat_minor": 5
}
