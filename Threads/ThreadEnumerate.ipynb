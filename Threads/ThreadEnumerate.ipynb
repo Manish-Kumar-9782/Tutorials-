{
 "cells": [
  {
   "cell_type": "markdown",
   "id": "9d6f2129-b930-4ced-8f48-776ffc2d8df3",
   "metadata": {},
   "source": [
    "## Threading enumerate\n",
    "\n",
    "it is not necessary to retain an explicit handle to all the daemon threads in order to ensure they have completed before exiting the main process.\n",
    "\n",
    "`threading.enumerate()` returns a list of all Thread objects currently alive. The list includes daemonic threads, dummy thread objects created by current_thread(), and the main thread. it excludes terminated threads and threads that have not yet been started."
   ]
  },
  {
   "cell_type": "code",
   "execution_count": 1,
   "id": "65f282bf-78fc-4487-bc60-adcdfd2489f5",
   "metadata": {},
   "outputs": [],
   "source": [
    "import threading\n",
    "import time\n",
    "import logging\n",
    "import random   # to wait for ranodom time for each thread."
   ]
  },
  {
   "cell_type": "markdown",
   "id": "354417b8-ea30-40b3-b0d0-890f8d02c6f1",
   "metadata": {},
   "source": [
    "Now we need to cofig our logging format and level."
   ]
  },
  {
   "cell_type": "code",
   "execution_count": 2,
   "id": "0ee9dabd-b0b9-498e-8ae0-ed5755527ffd",
   "metadata": {},
   "outputs": [],
   "source": [
    "logging.basicConfig(level=logging.DEBUG,\n",
    "                   format='%(threadName)s: %(message)s')\n",
    "\n",
    "# a function to for logging \n",
    "def log(msg):\n",
    "    logging.debug(msg)"
   ]
  },
  {
   "cell_type": "markdown",
   "id": "85626097-97cf-4122-85bd-8be960dd004c",
   "metadata": {},
   "source": [
    "Now we will create a function to which will be called by each thread."
   ]
  },
  {
   "cell_type": "code",
   "execution_count": 3,
   "id": "9996f55f-3b35-47ef-88d6-ed585e9ded9d",
   "metadata": {},
   "outputs": [],
   "source": [
    "def func():\n",
    "    \n",
    "    r = random.randint(30,60)\n",
    "    log(f'sleeping in {r} seconds!')\n",
    "    time.sleep(r)\n",
    "    log('ending')\n",
    "    return"
   ]
  },
  {
   "cell_type": "markdown",
   "id": "2d93bdf0-84a2-49e0-bb85-80c0fe7d0ff2",
   "metadata": {},
   "source": [
    "Now we will make threads and run them in the main section."
   ]
  },
  {
   "cell_type": "markdown",
   "id": "8b892275-aa1d-4b6c-985d-9560b56de1aa",
   "metadata": {},
   "source": [
    "since in jupyter notebook we have some extra threads running in the background so we need to avoide those threads for that we will store them in a list to ignore them."
   ]
  },
  {
   "cell_type": "code",
   "execution_count": 4,
   "id": "761c0124-836e-42c4-a438-597c26446952",
   "metadata": {},
   "outputs": [
    {
     "data": {
      "text/plain": [
       "[<_MainThread(MainThread, started 22048)>,\n",
       " <Thread(IOPub, started daemon 11324)>,\n",
       " <Heartbeat(Heartbeat, started daemon 13952)>,\n",
       " <ControlThread(Control, started daemon 25924)>,\n",
       " <HistorySavingThread(IPythonHistorySavingThread, started 19836)>,\n",
       " <ParentPollerWindows(Thread-4, started daemon 13784)>]"
      ]
     },
     "execution_count": 4,
     "metadata": {},
     "output_type": "execute_result"
    }
   ],
   "source": [
    "pre_threads = [t for t in threading.enumerate()]\n",
    "pre_threads"
   ]
  },
  {
   "cell_type": "markdown",
   "id": "509502ca-7c2e-4a43-a221-f0c075be4721",
   "metadata": {},
   "source": [
    "Now we have all the thread which are not needed."
   ]
  },
  {
   "cell_type": "code",
   "execution_count": 11,
   "id": "f44393b4-8eb1-44f9-9abe-c68bd2f45045",
   "metadata": {},
   "outputs": [
    {
     "name": "stderr",
     "output_type": "stream",
     "text": [
      "Dameon-0: sleeping in 33 seconds!\n",
      "Dameon-1: sleeping in 56 seconds!\n",
      "Dameon-2: sleeping in 52 seconds!\n",
      "NonDameon-0: sleeping in 41 seconds!\n",
      "NonDameon-1: sleeping in 36 seconds!\n",
      "NonDameon-2: sleeping in 39 seconds!\n",
      "MainThread: joining thread Dameon-0\n"
     ]
    },
    {
     "name": "stdout",
     "output_type": "stream",
     "text": [
      "<_MainThread(MainThread, started 22048)>\n",
      "<Thread(IOPub, started daemon 11324)>\n",
      "<Heartbeat(Heartbeat, started daemon 13952)>\n",
      "<ControlThread(Control, started daemon 25924)>\n",
      "<HistorySavingThread(IPythonHistorySavingThread, started 19836)>\n",
      "<ParentPollerWindows(Thread-4, started daemon 13784)>\n",
      "<Thread(Dameon-0, started daemon 9560)>\n",
      "<Thread(Dameon-1, started daemon 23248)>\n",
      "<Thread(Dameon-2, started daemon 12060)>\n",
      "<Thread(NonDameon-0, started 19912)>\n",
      "<Thread(NonDameon-1, started 10760)>\n",
      "<Thread(NonDameon-2, started 4688)>\n"
     ]
    },
    {
     "name": "stderr",
     "output_type": "stream",
     "text": [
      "Dameon-0: ending\n",
      "MainThread: joining thread Dameon-1\n",
      "NonDameon-1: ending\n",
      "NonDameon-2: ending\n",
      "NonDameon-0: ending\n",
      "Dameon-2: ending\n",
      "Dameon-1: ending\n",
      "MainThread: joining thread Dameon-2\n",
      "MainThread: joining thread NonDameon-0\n",
      "MainThread: joining thread NonDameon-1\n",
      "MainThread: joining thread NonDameon-2\n"
     ]
    },
    {
     "name": "stdout",
     "output_type": "stream",
     "text": [
      "<_MainThread(MainThread, started 22048)>\n",
      "<Thread(IOPub, started daemon 11324)>\n",
      "<Heartbeat(Heartbeat, started daemon 13952)>\n",
      "<ControlThread(Control, started daemon 25924)>\n",
      "<HistorySavingThread(IPythonHistorySavingThread, started 19836)>\n",
      "<ParentPollerWindows(Thread-4, started daemon 13784)>\n"
     ]
    }
   ],
   "source": [
    "if __name__ == \"__main__\":\n",
    "    \n",
    "    # first we will create some threads.\n",
    "    # 3 threads as daemong and 3 threads as non-daemon\n",
    "    for i in range(3):\n",
    "        t = threading.Thread(target=func, name=f\"Dameon-{i}\",\n",
    "                            daemon=True)\n",
    "        t.start()\n",
    "     \n",
    "    # 3 non-daemon thread\n",
    "    for i in range(3):\n",
    "        t = threading.Thread(target=func, name=f\"NonDameon-{i}\")\n",
    "        t.start()\n",
    "        \n",
    "    # Now we will get the Main thread which can be get by using the \n",
    "    # threading.current_thread() method.\n",
    "    main_thread = threading.current_thread()\n",
    "    \n",
    "    # Now we will join each thread non-daemon and daemon thread to main \n",
    "    # thread.\n",
    "    for i in threading.enumerate():\n",
    "        print(i)\n",
    "    \n",
    "    for thread in threading.enumerate():\n",
    "        \n",
    "        if thread in pre_threads:\n",
    "            continue\n",
    "        \n",
    "        log(f'joining thread {thread.getName()}')\n",
    "        thread.join()\n",
    "    \n",
    "    for i in threading.enumerate():\n",
    "        print(i)"
   ]
  },
  {
   "cell_type": "markdown",
   "id": "de45d85e-1956-4254-a3cf-32c05096e5f0",
   "metadata": {},
   "source": [
    "As you can see that we have 6 threads 3-Daemon and 3-nonDaemon and we access them by using the threading.enumerate() method, which is very usefull to access any thread which is linked to the current program or MainThread.\n",
    "\n",
    "At the end of the all thread processing we can see the list of all active thread in that we don't see our 6 threads created by us.\n",
    "\n",
    "The reason of not being included in the list is that they are not alive threads and the enumerate() method only gives the alive threads."
   ]
  },
  {
   "cell_type": "code",
   "execution_count": null,
   "id": "aafe7c84-93d7-4846-837a-80f0ae40557d",
   "metadata": {},
   "outputs": [],
   "source": []
  },
  {
   "cell_type": "code",
   "execution_count": null,
   "id": "306446fe-0798-4133-b0b8-28810d4d51f2",
   "metadata": {},
   "outputs": [],
   "source": []
  }
 ],
 "metadata": {
  "kernelspec": {
   "display_name": "Python 3 (ipykernel)",
   "language": "python",
   "name": "python3"
  },
  "language_info": {
   "codemirror_mode": {
    "name": "ipython",
    "version": 3
   },
   "file_extension": ".py",
   "mimetype": "text/x-python",
   "name": "python",
   "nbconvert_exporter": "python",
   "pygments_lexer": "ipython3",
   "version": "3.8.3"
  }
 },
 "nbformat": 4,
 "nbformat_minor": 5
}
