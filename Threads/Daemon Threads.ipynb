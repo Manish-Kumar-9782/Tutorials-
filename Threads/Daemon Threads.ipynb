{
 "cells": [
  {
   "cell_type": "markdown",
   "id": "4d5038d0-a526-40e6-83ba-93c31b5a15e1",
   "metadata": {},
   "source": [
    "## Daemon Threads\n",
    "\n",
    "Daemon threads is a background service thread which runs as a low priority thread and performs background like garbage collection.\n",
    "\n",
    "* Daemons threads are only useful when the main program is running, and it's okay to kill them off once the other non-daemon threads have exited.\n",
    "\n",
    "* Without daemon threads, we have to keep track of them, and tell them to exit, before our program can completerly quit.\n",
    "\n",
    "* By Setting them as daemon threads, we can let them run and forget about them, and when our program quits, any daemon threads are killed automatically.\n",
    "\n",
    "* Usually our main program implicitly waits until all other threads have completed their work. However, sometimes programs spawn a thread as a daemon that runs without blocking the main program from exiting.\n",
    "\n",
    "* Using daemon threads is useful for services where there may not be an easy way to interrupt the thread or where letting the thread die in the middle of its work without losing or currpting data.\n",
    "\n",
    "* To designate a thread as a daemon, we call its setDaemon() method with a boolean argument. The default setting for a threads is non-daemon. so, passing True turn the daemon mode on.\n",
    "\n",
    "* We can also use the daemon argument set as True to make a thread as Daemon in the Thread() class."
   ]
  },
  {
   "cell_type": "code",
   "execution_count": 2,
   "id": "09e5952e-d243-4f0d-b66a-b5d458ff1a3b",
   "metadata": {},
   "outputs": [],
   "source": [
    "# first of all we will import the using modules\n",
    "from threading import Thread\n",
    "import time\n",
    "import logging"
   ]
  },
  {
   "cell_type": "code",
   "execution_count": 3,
   "id": "05aaa186-6191-4dbe-a75c-6e49244adfe6",
   "metadata": {},
   "outputs": [],
   "source": [
    "# first of all we need to define the logging level and foramt\n",
    "logging.basicConfig(level=logging.DEBUG, \n",
    "                   format='%(threadName)s: %(message)s')\n",
    "\n",
    "def log(msg):\n",
    "    logging.debug(msg)"
   ]
  },
  {
   "cell_type": "markdown",
   "id": "cc0946af-da44-427d-9b9d-fe1ce945f2bc",
   "metadata": {},
   "source": [
    "Now here we will define the two different kind of function for daemon and non-daemon thread."
   ]
  },
  {
   "cell_type": "code",
   "execution_count": 4,
   "id": "a570ff4a-ad70-49b9-a5dc-47a42f893563",
   "metadata": {},
   "outputs": [],
   "source": [
    "def n_func():\n",
    "    # a function for non-daemon thread.\n",
    "    log(\"Starting!\")\n",
    "    time.sleep(10)\n",
    "    log(\"Exiting!\")\n",
    "    \n",
    "def d_func():\n",
    "    # a function for daemon thread.\n",
    "    log('Starting!')\n",
    "    time.sleep(15)\n",
    "    log(\"Exiting!\")"
   ]
  },
  {
   "cell_type": "markdown",
   "id": "e32993e2-8e91-4963-a27a-7c3de2a74403",
   "metadata": {},
   "source": [
    "In above function what will a daemon thread and non-daemon thread will do.\n",
    "\n",
    "* Daemon thread: it will wait for 5 second before exiting.\n",
    "* Non-Daemon thread: it will only wait for 1 seconds.\n",
    "\n",
    "From above code we can say that non-daemon thread will exit after the non-daemon thread."
   ]
  },
  {
   "cell_type": "markdown",
   "id": "5c85aedc-7a50-46f4-9bc6-678c8b5db51b",
   "metadata": {},
   "source": [
    "Now we will create two thread one is daemon and one is non-daemon thread."
   ]
  },
  {
   "cell_type": "code",
   "execution_count": 5,
   "id": "4345096e-3336-42ee-b951-e2dc62a218a7",
   "metadata": {},
   "outputs": [],
   "source": [
    "thread_n = Thread(target=n_func, name='non-daemon')\n",
    "thread_d = Thread(target=d_func, name='daemon', daemon=True)\n",
    "# making the thread_d daemon by setting the daemon argument as True."
   ]
  },
  {
   "cell_type": "code",
   "execution_count": 6,
   "id": "123e0b8b-bada-495c-a932-a6c75ca3d6f9",
   "metadata": {},
   "outputs": [
    {
     "name": "stderr",
     "output_type": "stream",
     "text": [
      "non-daemon: Starting!\n",
      "daemon: Starting!\n",
      "MainThread: Hello!\n",
      "non-daemon: Exiting!\n"
     ]
    }
   ],
   "source": [
    "thread_n.start()\n",
    "thread_d.start()\n",
    "exit()  # exiting from the main thread and closing the \n",
    "log(f\"Hello!\")\n",
    "# Note here we are exiting the thread Forcefully so it will only wait for the \n",
    "# non-daemon thread to complete."
   ]
  },
  {
   "cell_type": "markdown",
   "id": "0dba3c24-fe3b-4f9d-8c6c-10792903c08e",
   "metadata": {},
   "source": [
    "`Conclusion:` Here in the above example we will see what happend.\n",
    "\n",
    "1. n_func: it is a non-daemon thread function which will wait for 10s before exiting.\n",
    "\n",
    "2. d_func: it is a daemon thread function which will wait for 15s before exiting.\n",
    "\n",
    "3. We creates one non-daemon and daemon thread with their respective targeted function.\n",
    "\n",
    "4. we starts the both threads.\n",
    "\n",
    "5. After starting the threads we tell the mainThread for exit() it will close all the running code or kill the kernel.\n",
    "\n",
    "6. But before exiting from the MainThread it will wait for the non-daemon thread to completed it's work.\n",
    "\n",
    "7. Note: the kernel won't wait for the daemon thread for exit that why we don't get the Exiting message from the daemon thread."
   ]
  },
  {
   "cell_type": "markdown",
   "id": "814eb0a1-02ed-4d67-8f8b-df663263926d",
   "metadata": {},
   "source": [
    "**Another example of the Daemon thread**"
   ]
  },
  {
   "cell_type": "code",
   "execution_count": 4,
   "id": "22977eb8-e4ee-41c1-a8bd-e34e67f7bc81",
   "metadata": {},
   "outputs": [],
   "source": [
    "from threading import Thread\n",
    "import logging"
   ]
  },
  {
   "cell_type": "code",
   "execution_count": 5,
   "id": "8af926de-46a3-46c1-a530-811d30d80849",
   "metadata": {},
   "outputs": [],
   "source": [
    "# first of all we need to define the logging level and foramt\n",
    "logging.basicConfig(level=logging.DEBUG, \n",
    "                   format='%(threadName)s: %(message)s')\n",
    "\n",
    "def log(msg):\n",
    "    logging.debug(msg)"
   ]
  },
  {
   "cell_type": "code",
   "execution_count": 6,
   "id": "8a0f136e-793e-4e13-952e-806e6da05164",
   "metadata": {},
   "outputs": [],
   "source": [
    "def n_func():\n",
    "    # a function for non-daemon thread.\n",
    "    log(\"Starting!\")\n",
    "    for i in range(1000000):\n",
    "        pass\n",
    "    log(\"Exiting!\")\n",
    "    \n",
    "def d_func():\n",
    "    # a function for daemon thread.\n",
    "    log('Starting!')\n",
    "    for i in range(10000000000):\n",
    "        pass\n",
    "    log(\"Exiting!\")"
   ]
  },
  {
   "cell_type": "markdown",
   "id": "3c619972-ff6e-4837-85cd-39924f0be86a",
   "metadata": {},
   "source": [
    "In this section insetead of waiting we are running a loop with very large value, but we are taking the less value for the n_func for non-daemon thread so we can see that the MainThread does not wait for the daemon thread to complete it's task."
   ]
  },
  {
   "cell_type": "code",
   "execution_count": 7,
   "id": "01062774-4fac-49d3-b738-b35c1dee0a55",
   "metadata": {},
   "outputs": [
    {
     "name": "stderr",
     "output_type": "stream",
     "text": [
      "non-daemon: Starting!\n",
      "daemon: Starting!\n",
      "non-daemon: Exiting!\n",
      "MainThread: Exiting\n"
     ]
    },
    {
     "name": "stdout",
     "output_type": "stream",
     "text": [
      "hello\n"
     ]
    }
   ],
   "source": [
    "if __name__ == \"__main__\":\n",
    "    \n",
    "    thread_n = Thread(target=n_func, name='non-daemon')\n",
    "    thread_d = Thread(target=d_func, name='daemon', daemon=True)\n",
    "    thread_n.start()\n",
    "    thread_d.start()\n",
    "    log('Exiting')\n",
    "    exit()\n",
    "    print(\"hello\")\n",
    "\n",
    "    # Note: after killin the Mainthread and the kernel we will note \n",
    "    # see the hello message as well as Exiting message from the daemon thread"
   ]
  },
  {
   "cell_type": "markdown",
   "id": "c6dcffd0-88a1-4875-86d8-9be06abc3f09",
   "metadata": {},
   "source": [
    "If we are still getting the hello message then run this piece of code from the python terminal after saving in a DaemonThread.py file."
   ]
  },
  {
   "cell_type": "markdown",
   "id": "65b28dc8-6d8b-4e47-8b6a-029941bcff7b",
   "metadata": {},
   "source": [
    "### !DaemonThread.py"
   ]
  },
  {
   "cell_type": "code",
   "execution_count": 1,
   "id": "d0e4fe1b-a41a-4d1d-a11c-90372848eac0",
   "metadata": {},
   "outputs": [
    {
     "name": "stderr",
     "output_type": "stream",
     "text": [
      "daemon: Starting\n",
      "non-daemon: Starting\n",
      "non-daemon: Exiting\n",
      "MainThread: Exiting!\n",
      "MainThread: Hello!\n"
     ]
    },
    {
     "name": "stdout",
     "output_type": "stream",
     "text": [
      "Daemon thread is alive:  True\n"
     ]
    },
    {
     "name": "stderr",
     "output_type": "stream",
     "text": [
      "Exception in thread daemon:\n",
      "Traceback (most recent call last):\n",
      "  File \"i:\\programs\\python\\python 3.8.3\\lib\\threading.py\", line 932, in _bootstrap_inner\n",
      "    self.run()\n",
      "  File \"i:\\programs\\python\\python 3.8.3\\lib\\threading.py\", line 870, in run\n",
      "    self._target(*self._args, **self._kwargs)\n",
      "  File \"C:\\Users\\manis\\AppData\\Local\\Temp\\ipykernel_25404\\2560864786.py\", line 21, in d\n",
      "NameError: name 'log' is not defined\n"
     ]
    }
   ],
   "source": [
    "# save below code inside the DaemonThread.py file\n",
    "\n",
    "import threading\n",
    "import time\n",
    "import logging\n",
    "\n",
    "logging.basicConfig(level=logging.DEBUG,\n",
    "                    format='%(threadName)s: %(message)s')\n",
    "\n",
    "def log(msg):\n",
    "    logging.debug(msg)\n",
    "\n",
    "def n():\n",
    "    log('Starting')\n",
    "    for i in range(100000):\n",
    "        pass\n",
    "    log('Exiting')\n",
    "\n",
    "def d():\n",
    "    log('Starting')\n",
    "    for i in range(100000000000000):log\n",
    "    log('Exiting')\n",
    "\n",
    "if __name__ == '__main__':\n",
    "\n",
    "    t = threading.Thread(name='non-daemon', target=n)\n",
    "    d = threading.Thread(name='daemon', target=d)\n",
    "    d.setDaemon(True)\n",
    "\n",
    "    d.start()\n",
    "    t.start()\n",
    "    print(\"Daemon thread is alive: \", d.is_alive())\n",
    "    log(\"Exiting!\")\n",
    "    exit()\n",
    "    log('Hello!')"
   ]
  },
  {
   "cell_type": "markdown",
   "id": "5f5ba9be-7aea-48e3-8c52-6b041bbb434f",
   "metadata": {},
   "source": []
  }
 ],
 "metadata": {
  "kernelspec": {
   "display_name": "Python 3 (ipykernel)",
   "language": "python",
   "name": "python3"
  },
  "language_info": {
   "codemirror_mode": {
    "name": "ipython",
    "version": 3
   },
   "file_extension": ".py",
   "mimetype": "text/x-python",
   "name": "python",
   "nbconvert_exporter": "python",
   "pygments_lexer": "ipython3",
   "version": "3.8.3"
  }
 },
 "nbformat": 4,
 "nbformat_minor": 5
}
