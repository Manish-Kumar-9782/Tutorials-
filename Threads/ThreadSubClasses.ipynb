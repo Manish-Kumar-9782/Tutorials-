{
 "cells": [
  {
   "cell_type": "markdown",
   "id": "4f40ad4a-6c89-46b0-9dda-bec98ed24f27",
   "metadata": {},
   "source": [
    "## Thread's subclasses\n",
    "\n",
    "In this section we will see that how to create a subclass from the Thread class by using that we can make our custom thread with additionl attributes and functionality.\n",
    "\n",
    "Like any other class we will create a new class but in this we will inherit the Thread class and override the `__init__() and run()` methods."
   ]
  },
  {
   "cell_type": "markdown",
   "id": "d60ef0c9-ba62-4627-be40-72e27bd3726c",
   "metadata": {},
   "source": [
    "* When the thread starts up it dows some basic initialization and then calls its run() method, which calls the target funciton passed to the constructor.\n",
    "\n",
    "* The Thread class represents an activity that runs in a separate thread of control. There are two ways to specify the activity:\n",
    "    1. by apssing a callable object to the constructor\n",
    "    2. by overriding the run() method in a subclass.\n",
    "    \n",
    "* Note: NO other methods (except for the constructor ) should be overridden in a subclass. in other words, we only override the `__init__` and `run()` methods of a class."
   ]
  },
  {
   "cell_type": "markdown",
   "id": "f3ddfa77-6a59-417a-b842-a9ece6c455a0",
   "metadata": {},
   "source": [
    "In this section we will create a subclass of Thread and override the run() to do whatever is necessary. "
   ]
  },
  {
   "cell_type": "code",
   "execution_count": 4,
   "id": "f35a0352-acec-448a-ac4f-3898b424b0d4",
   "metadata": {},
   "outputs": [],
   "source": [
    "from threading import Thread\n",
    "import time"
   ]
  },
  {
   "cell_type": "code",
   "execution_count": 7,
   "id": "dd0ee07c-2fcc-4bf6-8b07-7d3fb9824dd3",
   "metadata": {},
   "outputs": [],
   "source": [
    "# creating a new subclass.\n",
    "\n",
    "class MyThread(Thread):\n",
    "    \n",
    "    # in this only we are overriding the run method \n",
    "    # it will show the starting message at start.\n",
    "    # after wating 5 seconds it will exit\n",
    "    \n",
    "    def run(self):\n",
    "        print(\"starting the mythread!\")\n",
    "        time.sleep(5)\n",
    "        print(\"Exiting from the thread!\")\n",
    "        \n",
    "# Now we will make an instance of this thread and start this thread.\n"
   ]
  },
  {
   "cell_type": "code",
   "execution_count": 8,
   "id": "6f433182-5e60-4ecc-a2b4-ba5882f4f24b",
   "metadata": {},
   "outputs": [
    {
     "name": "stdout",
     "output_type": "stream",
     "text": [
      "starting the mythread!\n",
      "Exiting from the thread!\n"
     ]
    }
   ],
   "source": [
    "if __name__ == \"__main__\":\n",
    "    \n",
    "    thread = MyThread()   \n",
    "    # not that here we are not passing any target funciton.\n",
    "    thread.start()"
   ]
  },
  {
   "cell_type": "markdown",
   "id": "9baaf705-12a2-4407-b001-411c5859e79e",
   "metadata": {},
   "source": [
    "Note: Once a thread object is created, its activity must be started by calling the thread's start() method. This invokes the run() method in a separate thread of control.\n",
    "\n",
    "* Once a thread's activity is started, the thread is considered 'alive'. it stops being alive when its run() method terminates either noramlly, or by raising and unhandled exception. The is_alive() method tests whether the thread is alive."
   ]
  },
  {
   "cell_type": "markdown",
   "id": "6a0365bb-81d1-41cb-98cc-32f787887c49",
   "metadata": {},
   "source": [
    "Now we will create multiple object of our new subclass and check that they are alive or not."
   ]
  },
  {
   "cell_type": "code",
   "execution_count": 14,
   "id": "5458283a-df17-48ce-90e4-c0a22ae05bf7",
   "metadata": {},
   "outputs": [],
   "source": [
    "threads = []\n",
    "\n",
    "for i in range(4):\n",
    "    thread = MyThread()\n",
    "    threads.append(thread)\n",
    "    # not that here we are not passing any target funciton."
   ]
  },
  {
   "cell_type": "markdown",
   "id": "afe967bc-2c69-4d8f-8f0a-fd70930cc0d7",
   "metadata": {},
   "source": [
    "Since we haven't started them, so if we check that they are alive or not then it will show false."
   ]
  },
  {
   "cell_type": "code",
   "execution_count": 15,
   "id": "c572f3b4-0d63-4077-bc67-7db763541434",
   "metadata": {},
   "outputs": [
    {
     "name": "stdout",
     "output_type": "stream",
     "text": [
      "Thread-11 is alive: False\n",
      "Thread-12 is alive: False\n",
      "Thread-13 is alive: False\n",
      "Thread-14 is alive: False\n"
     ]
    }
   ],
   "source": [
    "for t in threads:\n",
    "    print(f\"{t.getName()} is alive: {t.is_alive()}\")"
   ]
  },
  {
   "cell_type": "markdown",
   "id": "cc3b291b-cf46-4121-8e70-1ecb959e56d9",
   "metadata": {},
   "source": [
    "As you can see that all the threads are not running to start them we need to use the start mehtod."
   ]
  },
  {
   "cell_type": "code",
   "execution_count": 16,
   "id": "6cf262e8-4f6f-480c-ac83-4044d2ac8234",
   "metadata": {},
   "outputs": [
    {
     "name": "stdout",
     "output_type": "stream",
     "text": [
      "starting the mythread!\n",
      "Thread-11 is alive: True\n",
      "starting the mythread!\n",
      "Thread-12 is alive: True\n",
      "starting the mythread!\n",
      "Thread-13 is alive: True\n",
      "starting the mythread!\n",
      "Thread-14 is alive: True\n",
      "Exiting from the thread!\n",
      "Exiting from the thread!\n",
      "Exiting from the thread!\n",
      "Exiting from the thread!\n",
      "Thread-11 is alive: False\n",
      "Thread-12 is alive: False\n",
      "Thread-13 is alive: False\n",
      "Thread-14 is alive: False\n"
     ]
    }
   ],
   "source": [
    "# starting every thread and then we will check their status.\n",
    "\n",
    "for t in threads:\n",
    "    t.start()\n",
    "    time.sleep(1)   # wait for 1sec before checking the status.\n",
    "    print(f\"{t.getName()} is alive: {t.is_alive()}\")\n",
    "    \n",
    "# now we will again test that the thread is alive or not after \n",
    "# waiting 4 seconds.\n",
    "for t in threads:\n",
    "    time.sleep(4)\n",
    "    print(f\"{t.getName()} is alive: {t.is_alive()}\")"
   ]
  },
  {
   "cell_type": "markdown",
   "id": "eb38b302-82b0-45db-a366-0b36eaf5eb85",
   "metadata": {},
   "source": [
    "In above we can see that after the Exititng message thread become dead because, after the Exiting message run() function of our subclass terminates and in result our thread became dead."
   ]
  },
  {
   "cell_type": "markdown",
   "id": "479b8808-15a7-476b-b738-286847ed0368",
   "metadata": {},
   "source": [
    "___"
   ]
  },
  {
   "cell_type": "markdown",
   "id": "7249e36e-7ae0-4ab3-8b57-f9cdfee95eae",
   "metadata": {},
   "source": [
    "### Passing args to the customized thread"
   ]
  },
  {
   "cell_type": "markdown",
   "id": "55d86400-c9a7-465c-8e3a-0a2f0bb3385b",
   "metadata": {},
   "source": [
    "Because the **`*args`** and **`**kwargs`** values passed to the Thread constructor are saved in private vairables, they ar not easily accessed from a subclass. to passs arguments to a custom thread type, we need to redefient the constructor to save the value in an instance attribute that can be seen in the subclass."
   ]
  },
  {
   "cell_type": "code",
   "execution_count": 18,
   "id": "3e30bfe6-e51a-460c-9c69-9316a3697905",
   "metadata": {},
   "outputs": [],
   "source": [
    "from threading import Thread\n",
    "import time\n",
    "import logging\n",
    "# in this we will use the logging."
   ]
  },
  {
   "cell_type": "code",
   "execution_count": 21,
   "id": "754c5167-246d-4337-bc9d-5b86ddd51ecf",
   "metadata": {},
   "outputs": [],
   "source": [
    "# basicConfig fo the logging;\n",
    "logging.basicConfig(level=logging.DEBUG, \n",
    "             format='%(threadName)s: %(message)s')"
   ]
  },
  {
   "cell_type": "code",
   "execution_count": 25,
   "id": "6ede4961-98d9-4684-a0be-e0a1c62c9846",
   "metadata": {},
   "outputs": [],
   "source": [
    "# Now we will create our new subclass with passing args.\n",
    "# creating a new subclass.\n",
    "\n",
    "class MyThread(Thread):\n",
    "    \n",
    "    # first of all we need to override the __init__ method.\n",
    "    def __init__(self, group=None, target=None, name=None, args=(), kwargs=None,\n",
    "                verbose=None, daemon=False):\n",
    "        # Now in this __init__ we need to inherit the Thread class __init__method\n",
    "        # so we can hold it's attributes.\n",
    "        Thread.__init__(self, group=group, target=target, args=args,\n",
    "                       kwargs=kwargs, name=name,daemon=daemon)\n",
    "    \n",
    "        # now we will save the args and kwargs\n",
    "        self.args = args\n",
    "        self.kwargs = kwargs\n",
    "    \n",
    "    # NOw we will override the run method.\n",
    "    def run(self):\n",
    "        logging.debug(\"starting the mythread!\")\n",
    "        \n",
    "        # Now we want to show the args and kwargs \n",
    "        # since we want to know that they are stored in the class instance \n",
    "        # or not.\n",
    "        logging.debug(f\"args: {self.args}\")\n",
    "        logging.debug(f\"kwargs: {self.kwargs}\")\n",
    "        time.sleep(5)\n",
    "        logging.debug(\"Exiting from the thread!\")\n",
    "        \n",
    "# Now we will make an instance of this thread and start this thread.\n"
   ]
  },
  {
   "cell_type": "markdown",
   "id": "b24fda71-63fc-47f2-aeb1-10c5f286184e",
   "metadata": {},
   "source": [
    "Now we will create two threads with different args."
   ]
  },
  {
   "cell_type": "code",
   "execution_count": 26,
   "id": "f3cdbd42-3a6b-4267-9d95-374318ec3f99",
   "metadata": {},
   "outputs": [],
   "source": [
    "thread1 = MyThread(name='Thread1', args=(1,2,3), \n",
    "                   kwargs={'value1':\"Thread1\",\n",
    "                          'value2': \"t_call\"})\n",
    "\n",
    "thread2 = MyThread(name='Thread2', args=(10,20), \n",
    "                   kwargs={'value1':'jakal',\n",
    "                          'value2': \"__call__\"})"
   ]
  },
  {
   "cell_type": "markdown",
   "id": "710bb93e-267e-4f88-a701-3bf80904b677",
   "metadata": {},
   "source": [
    "Now we will run those threads."
   ]
  },
  {
   "cell_type": "code",
   "execution_count": 28,
   "id": "1129db20-a5eb-4e87-a63a-42e6417aa45d",
   "metadata": {},
   "outputs": [
    {
     "name": "stderr",
     "output_type": "stream",
     "text": [
      "Thread1: starting the mythread!\n",
      "Thread1: args: (1, 2, 3)\n",
      "Thread2: starting the mythread!\n",
      "Thread1: kwargs: {'value1': 'Thread1', 'value2': 't_call'}\n",
      "Thread2: args: (10, 20)\n",
      "Thread2: kwargs: {'value1': 'jakal', 'value2': '__call__'}\n",
      "Thread2: Exiting from the thread!\n",
      "Thread1: Exiting from the thread!\n"
     ]
    }
   ],
   "source": [
    "thread1.start()\n",
    "thread2.start()"
   ]
  },
  {
   "cell_type": "markdown",
   "id": "fe08fe0a-a77b-45f0-9dfc-5ac7350c0500",
   "metadata": {},
   "source": [
    "As you can see that we can now see the args and kwargs which shows that now we are also able to access the passed args and kwargs, we can use them according to our need and project type and also we can add more argument in our subclass."
   ]
  },
  {
   "cell_type": "code",
   "execution_count": null,
   "id": "2707be45-a1d9-44f8-8519-15131c81d6ff",
   "metadata": {},
   "outputs": [],
   "source": []
  }
 ],
 "metadata": {
  "kernelspec": {
   "display_name": "Python 3 (ipykernel)",
   "language": "python",
   "name": "python3"
  },
  "language_info": {
   "codemirror_mode": {
    "name": "ipython",
    "version": 3
   },
   "file_extension": ".py",
   "mimetype": "text/x-python",
   "name": "python",
   "nbconvert_exporter": "python",
   "pygments_lexer": "ipython3",
   "version": "3.8.3"
  }
 },
 "nbformat": 4,
 "nbformat_minor": 5
}
