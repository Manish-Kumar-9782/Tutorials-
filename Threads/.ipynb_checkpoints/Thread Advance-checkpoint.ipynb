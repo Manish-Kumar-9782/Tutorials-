{
 "cells": [
  {
   "cell_type": "markdown",
   "id": "c4eff285-0437-4aa0-b6aa-03cdf8c34d94",
   "metadata": {},
   "source": [
    "## Thread Advance\n",
    "\n",
    "In this section we will see how to inherit the Thread class and create a subclass with additional functionallity\n",
    "\n",
    "in this section we will learn:\n",
    "1. Create a subclass by using Thread class.\n",
    "2. How to use threading.Lock() on a thread.\n",
    "3. how to use threading.Event() on the thread."
   ]
  },
  {
   "cell_type": "markdown",
   "id": "f7104fd4-1cbb-4132-9dbe-6385bc23a07c",
   "metadata": {},
   "source": [
    "___"
   ]
  },
  {
   "cell_type": "markdown",
   "id": "07478658-29a0-4956-bd22-d865ea5e34a6",
   "metadata": {},
   "source": [
    "### 1. Creating a subclass by using Thread class\n",
    "\n",
    "We can create a subclass by using the Thread class but with some limitation. see steps to create a subclass of Thread.\n",
    "\n",
    "1. Define a new subclass of Thread class\n",
    "2. Override the `__init__(self, args)` method to add additional arguments.\n",
    "3. Then override the run(self, args) method to implement what the thread should do when started.\n",
    "\n",
    "Once you have created the new Thread subclass, you can create an instance of it and then start a new thread by invoking the start(), which in turn calls run() method."
   ]
  },
  {
   "cell_type": "code",
   "execution_count": 1,
   "id": "991f7694-afaf-47ad-bc98-56c1b112de19",
   "metadata": {},
   "outputs": [],
   "source": [
    "from threading import Thread\n",
    "import time"
   ]
  },
  {
   "cell_type": "code",
   "execution_count": 2,
   "id": "bff90027-0bdd-4b86-ae23-8c2fa3d589d0",
   "metadata": {},
   "outputs": [],
   "source": [
    "class MyThread(Thread):\n",
    "    # inheriting the Thread class\n",
    "    # Now override the __init__ method.\n",
    "    def __init__(self, threadID, name, delay):\n",
    "        Thread.__init__(self)\n",
    "        \"\"\"\n",
    "        threadID: a unique value for thread identification.\n",
    "        name: name of the thread.\n",
    "        counter: a counter to define the iteration \n",
    "        \"\"\"\n",
    "        self.threadID = threadID\n",
    "        self.name = name\n",
    "        self.delay = delay\n",
    "        self.counter = 5\n",
    "        self.ex_time = 0\n",
    "        \n",
    "    def print_time(self):\n",
    "        \n",
    "        while self.counter:\n",
    "            time.sleep(self.delay)\n",
    "            print(\"%s: %s \" % (self.name, time.ctime(time.time())))\n",
    "            self.counter -=1\n",
    "            \n",
    "    def run(self):\n",
    "        \n",
    "        st_time = time.perf_counter()\n",
    "        print(f\"starting {self.name}!\")\n",
    "        self.print_time()\n",
    "        print(f\"Exiting {self.name}\")\n",
    "        end_time = time.perf_counter()\n",
    "        self.ex_time = round(end_time - st_time, 5)\n",
    "        "
   ]
  },
  {
   "cell_type": "markdown",
   "id": "2978d574-08a4-4a9d-b812-64a2db8a42db",
   "metadata": {},
   "source": [
    "Now we need to create some thread to test them."
   ]
  },
  {
   "cell_type": "code",
   "execution_count": 3,
   "id": "74ff548d-0900-4862-8ee3-fe769efca144",
   "metadata": {},
   "outputs": [],
   "source": [
    "thread1 = MyThread(1, \"Thread-1\", 3)\n",
    "thread2 =  MyThread(2, \"Thread-2\", 5)"
   ]
  },
  {
   "cell_type": "code",
   "execution_count": 4,
   "id": "41ced045-5039-4934-b0d2-e8123872d0b9",
   "metadata": {},
   "outputs": [
    {
     "name": "stdout",
     "output_type": "stream",
     "text": [
      "starting Thread-1!\n",
      "starting Thread-2!\n",
      "Thread-1: Wed Jul  6 14:50:58 2022 \n",
      "Thread-2: Wed Jul  6 14:51:00 2022 \n",
      "Thread-1: Wed Jul  6 14:51:01 2022 \n",
      "Thread-1: Wed Jul  6 14:51:04 2022 \n",
      "Thread-2: Wed Jul  6 14:51:05 2022 \n",
      "Thread-1: Wed Jul  6 14:51:07 2022 \n",
      "Thread-2: Wed Jul  6 14:51:10 2022 \n",
      "Thread-1: Wed Jul  6 14:51:10 2022 \n",
      "Exiting Thread-1\n",
      "Thread-2: Wed Jul  6 14:51:15 2022 \n",
      "Thread-2: Wed Jul  6 14:51:20 2022 \n",
      "Exiting Thread-2\n",
      "CPU times: total: 62.5 ms\n",
      "Wall time: 25 s\n"
     ]
    }
   ],
   "source": [
    "%%time\n",
    "# Now we need to start and join them\n",
    "thread1.start()\n",
    "thread2.start()\n",
    "thread1.join()\n",
    "thread2.join()"
   ]
  },
  {
   "cell_type": "code",
   "execution_count": 5,
   "id": "8b34e368-8668-4cc0-a2cd-6ff9902ad895",
   "metadata": {},
   "outputs": [
    {
     "name": "stdout",
     "output_type": "stream",
     "text": [
      "Time taken by thread1:  15.03281\n",
      "Time taken by thread2:  25.03463\n"
     ]
    }
   ],
   "source": [
    "print(\"Time taken by thread1: \", thread1.ex_time)\n",
    "print(\"Time taken by thread2: \", thread2.ex_time)"
   ]
  },
  {
   "cell_type": "markdown",
   "id": "4caded4f-6989-46dd-8f57-b158468269ee",
   "metadata": {},
   "source": [
    "As we can see that in this section we have create a subclass of Thread in which we can define the work of the thread without defining the target and args.\n",
    "\n",
    "This kind of inheritance is usefull in complex code where we need to mulitple things by a single threads and save the result in Thread subclass instance."
   ]
  },
  {
   "cell_type": "markdown",
   "id": "25254699-ad7c-47d6-a22d-e9b1f5eedf12",
   "metadata": {},
   "source": [
    "___"
   ]
  },
  {
   "cell_type": "markdown",
   "id": "a6fbe9e3-775d-4b5d-b4ac-491c732515cc",
   "metadata": {},
   "source": [
    "### 2. Synchronizing Thread: threading.Lock()"
   ]
  },
  {
   "cell_type": "markdown",
   "id": "1a09c79c-0c8f-4874-af13-eeb244def583",
   "metadata": {},
   "source": [
    "The threading module provide with Python includes a simple-to-implement locking mechanism that allows you to synchronize threads. A new lock is created by calling the Lock() method, which returns a new lock.\n",
    "\n",
    "`acquire:` The acquire(blocking) method of the new lock object is used to force threads to run synchronously.\n",
    "\n",
    "`blocking:` if blocking is set to 0, the thread returns immediately with a 0 value if the lock cannot be acquired and with 1 if the lock was acquired. if blocking is set to 1, the thread blocks and wait for the lock to be releasd.\n",
    "\n",
    "`release:` The release method fo the new lock object is used to release the lock when it is no longer required."
   ]
  },
  {
   "cell_type": "code",
   "execution_count": 6,
   "id": "20bf6811-8a68-4f30-b08b-238060ad4e2c",
   "metadata": {},
   "outputs": [],
   "source": [
    "from threading import Thread\n",
    "import threading\n",
    "import time"
   ]
  },
  {
   "cell_type": "code",
   "execution_count": 7,
   "id": "ff48b0ae-a24e-4b40-ba68-003b868836b2",
   "metadata": {},
   "outputs": [],
   "source": [
    "# In this before creating the Thread subclass we need to create a new\n",
    "# lock and lock must be global to the all new threads\n",
    "\n",
    "threadLock = threading.Lock()\n",
    "\n",
    "class MyThread(Thread):\n",
    "    # inheriting the Thread class\n",
    "    # Now override the __init__ method.\n",
    "    def __init__(self, threadID, name, delay):\n",
    "        Thread.__init__(self)\n",
    "        \"\"\"\n",
    "        threadID: a unique value for thread identification.\n",
    "        name: name of the thread.\n",
    "        counter: a counter to define the iteration \n",
    "        \"\"\"\n",
    "        self.threadID = threadID\n",
    "        self.name = name\n",
    "        self.delay = delay\n",
    "        self.counter = 5\n",
    "        self.ex_time = 0\n",
    "        \n",
    "    def print_time(self):\n",
    "        \n",
    "        while self.counter:\n",
    "            time.sleep(self.delay)\n",
    "            print(\"%s: %s \" % (self.name, time.ctime(time.time())))\n",
    "            self.counter -=1\n",
    "            \n",
    "    def run(self):\n",
    "        \n",
    "        # Now here we will acquire the lock\n",
    "        threadLock.acquire()\n",
    "        # after acquring the lock by the current thread, no other thread\n",
    "        # cannot exeute the code defined after threadLock.acquire()\n",
    "        st_time = time.perf_counter()\n",
    "        print(f\"starting {self.name}!\")\n",
    "        self.print_time()\n",
    "        print(f\"Exiting {self.name}\")\n",
    "        end_time = time.perf_counter()\n",
    "        self.ex_time = round(end_time - st_time, 5)\n",
    "        threadLock.release()\n",
    "        # after releasing the lock another thread can access the above piece of code.\n",
    "        # Note: all the threads will wait for releasing the lock.\n",
    "        "
   ]
  },
  {
   "cell_type": "code",
   "execution_count": 8,
   "id": "a61bb1c8-f60a-4549-a976-f88714c167d8",
   "metadata": {},
   "outputs": [],
   "source": [
    "# Now we will create two threads\n",
    "thread1 = MyThread(1, \"Thread-1\", 3)\n",
    "thread2 =  MyThread(2, \"Thread-2\", 5)"
   ]
  },
  {
   "cell_type": "code",
   "execution_count": 9,
   "id": "fee4c2f4-acd9-4b68-aba7-21414b3b6f96",
   "metadata": {},
   "outputs": [
    {
     "name": "stdout",
     "output_type": "stream",
     "text": [
      "starting Thread-1!\n",
      "Thread-1: Wed Jul  6 14:51:23 2022 \n",
      "Thread-1: Wed Jul  6 14:51:26 2022 \n",
      "Thread-1: Wed Jul  6 14:51:29 2022 \n",
      "Thread-1: Wed Jul  6 14:51:32 2022 \n",
      "Thread-1: Wed Jul  6 14:51:35 2022 \n",
      "Exiting Thread-1\n",
      "starting Thread-2!\n",
      "Thread-2: Wed Jul  6 14:51:40 2022 \n",
      "Thread-2: Wed Jul  6 14:51:45 2022 \n",
      "Thread-2: Wed Jul  6 14:51:50 2022 \n",
      "Thread-2: Wed Jul  6 14:51:55 2022 \n",
      "Thread-2: Wed Jul  6 14:52:00 2022 \n",
      "Exiting Thread-2\n",
      "Time taken by thread1:  15.05335\n",
      "Time taken by thread2:  25.04042\n",
      "CPU times: total: 0 ns\n",
      "Wall time: 40.1 s\n"
     ]
    }
   ],
   "source": [
    "%%time\n",
    "# starting and joing each thread\n",
    "thread1.start()\n",
    "thread2.start()\n",
    "thread1.join()\n",
    "thread2.join()\n",
    "\n",
    "print(\"Time taken by thread1: \", thread1.ex_time)\n",
    "print(\"Time taken by thread2: \", thread2.ex_time)"
   ]
  },
  {
   "cell_type": "markdown",
   "id": "c6b8f683-28a2-44f0-af21-356ced4cd1cc",
   "metadata": {},
   "source": [
    "`Conclusion:` Here you can see that, thread1 started first in result it acquire the lock first and then print_time in the mean time no other thread allow to access the print_time method until lock is released by the thread1.\n",
    "\n",
    "Locking is usefull to apply a security layer on the shared data accessing by the multiple threads. it allow us to safely read and modify the data and avoid the data currption posibility."
   ]
  },
  {
   "cell_type": "markdown",
   "id": "fcc6f138-fdfb-4263-84ba-42dc338d14fd",
   "metadata": {},
   "source": [
    "___"
   ]
  },
  {
   "cell_type": "markdown",
   "id": "0cc86a91-6954-470a-b306-be40a8aff8ab",
   "metadata": {},
   "source": [
    "### 3. Synchronizing thread: threading.Event()"
   ]
  },
  {
   "cell_type": "markdown",
   "id": "ba5dce6b-f3c7-4bb6-bbcc-9da95d8d66c2",
   "metadata": {},
   "source": [
    "Whenever we use multiple threads to spin separate operations off to run concurrently, however, there are tiems when it is important to be able to synchronize two more threads operations. \n",
    "\n",
    "Using Event object is the simple way to communicate b/w threads.\n",
    "\n",
    "`Event:` An event manages an internal flag that callers can either set() or clear(). Other threads can wait() for the flag to be set(). \n",
    "\n",
    "Note: the wait() method blocks until the flag is true.\n",
    "\n",
    "Note: Threads who need to be synchronize should share the common event object."
   ]
  },
  {
   "cell_type": "code",
   "execution_count": 10,
   "id": "2657cc3b-658d-45a8-a176-076111f42d37",
   "metadata": {},
   "outputs": [],
   "source": [
    "import threading\n",
    "from threading import Thread, Event\n",
    "import time\n",
    "import logging"
   ]
  },
  {
   "cell_type": "markdown",
   "id": "e068094e-7f44-4871-8ec8-57d0092da6ab",
   "metadata": {},
   "source": [
    "Since in this section we are using the logging module to display the message so we need to config the logging basic."
   ]
  },
  {
   "cell_type": "code",
   "execution_count": 11,
   "id": "c9998abf-c80a-403c-80e6-9ed041942ac3",
   "metadata": {},
   "outputs": [],
   "source": [
    "# configuring the logging basic config\n",
    "logging.basicConfig(level=logging.DEBUG, \n",
    "                   format='%(threadName)s :: %(message)s')"
   ]
  },
  {
   "cell_type": "markdown",
   "id": "fdcbd30e-b6e3-4362-bdd5-a32cab5b0192",
   "metadata": {},
   "source": [
    "Note: in above basicConfig() method we have used the format, where we have used formatting attributes `%(threadName)s` and `%(message)s` in b/w the strings"
   ]
  },
  {
   "cell_type": "markdown",
   "id": "28f515d8-dd7b-4412-aa36-7962a2bc13e4",
   "metadata": {},
   "source": [
    "Now we will make two function `wait_for_event` and `wait_for_event_timeout`.\n",
    "\n",
    "`wait_for_event:` this function will wait for event after being set().\n",
    "\n",
    "`wait_for_event_timeout:` this function will wait until the event is clear(). if event is set then this will show processing event else it will show other process are in place."
   ]
  },
  {
   "cell_type": "code",
   "execution_count": 24,
   "id": "f7626c9a-c2d2-42ca-b8f3-784432d5189f",
   "metadata": {},
   "outputs": [],
   "source": [
    "# wait_for_event function defination.\n",
    "def wait_for_event(e):\n",
    "    logging.debug(\"Paused\")\n",
    "    logging.debug('wait_for_event starting!')\n",
    "    event_is_set = e.wait()\n",
    "    logging.debug('event set: %s' % event_is_set)\n",
    "    logging.debug(\"Resumed\")"
   ]
  },
  {
   "cell_type": "code",
   "execution_count": 25,
   "id": "c918842f-796f-4233-9c11-49c8cef7bbeb",
   "metadata": {},
   "outputs": [],
   "source": [
    "# wait_for_event_timeout function defination.\n",
    "def wait_for_event_timeout(e, t):\n",
    "    \n",
    "    logging.debug(\"Paused\")\n",
    "    logging.debug('wait_for_event_timeout stariting!')\n",
    "    event_is_set = e.wait(t)\n",
    "    logging.debug('event set: %s' % event_is_set)\n",
    "    logging.debug(\"Resumed\")\n",
    "    \n",
    "    if event_is_set:\n",
    "        logging.debug('processing event')\n",
    "    else:\n",
    "        logging.debug('doing other things')"
   ]
  },
  {
   "cell_type": "markdown",
   "id": "7bc949da-70c6-4ada-bb6c-919ae4fda8df",
   "metadata": {},
   "source": [
    "After defining the funciton we need to create an Event object and threads and set the event."
   ]
  },
  {
   "cell_type": "code",
   "execution_count": 26,
   "id": "1a82b4a8-5518-4ba5-8714-4a6fa3486219",
   "metadata": {},
   "outputs": [],
   "source": [
    "# creating an event object\n",
    "e = Event()\n",
    "\n",
    "# NOw we will create two threads.\n",
    "\n",
    "thread1 = Thread(name='blocking', \n",
    "                 target= wait_for_event,\n",
    "                args= (e,))\n",
    "\n",
    "thread2 = Thread(name='non-blocking',\n",
    "                target=wait_for_event_timeout,\n",
    "                args=(e,2))\n",
    "\n"
   ]
  },
  {
   "cell_type": "markdown",
   "id": "b2f628da-9721-4d79-824f-cbbaf46668bd",
   "metadata": {},
   "source": [
    "Now after creating the threads we will start them and set the event after waiting few seconds"
   ]
  },
  {
   "cell_type": "code",
   "execution_count": 27,
   "id": "ce27f96b-48ab-48ef-a5c9-fdbfc098d757",
   "metadata": {},
   "outputs": [
    {
     "name": "stderr",
     "output_type": "stream",
     "text": [
      "blocking :: Paused\n",
      "blocking :: wait_for_event starting!\n",
      "non-blocking :: Paused\n",
      "MainThread :: waiting before calling Event.set()\n",
      "non-blocking :: wait_for_event_timeout stariting!\n",
      "non-blocking :: event set: False\n",
      "non-blocking :: Resumed\n",
      "non-blocking :: doing other things\n",
      "MainThread :: Event is set\n",
      "blocking :: event set: True\n",
      "blocking :: Resumed\n"
     ]
    }
   ],
   "source": [
    "# starting both the threads\n",
    "thread1.start()\n",
    "time.sleep(0.5)\n",
    "thread2.start()\n",
    "\n",
    "# waiting few seconds before setting the event\n",
    "logging.debug('waiting before calling Event.set()')\n",
    "time.sleep(10)\n",
    "# Note no process will go ahead until the Event is not set. (block the all thread who are sharing the the e event)\n",
    "# only after setting the Event as True (resume all threads.)\n",
    "e.set()\n",
    "logging.debug('Event is set')"
   ]
  },
  {
   "cell_type": "markdown",
   "id": "06bd4cb6-e2b7-41ff-953a-f0989b4cacdc",
   "metadata": {},
   "source": [
    "`Conclusion`: Here we have two threads _blocking_ and _non-blocking_ threads.\n",
    "\n",
    "* _blocking_ thread does not have wait time out but _non-blocking_ has wait timeout.\n",
    "* both threads will wait until the MainThread does not set the Evet.\n",
    "* MainThread will wait for 10 second before setting the Event.\n",
    "* Along with this _blocking_ and _non-blocking_ are waiting for the Event to be set True.\n",
    "* Since _non-blocking_ thread have wait timeout so it will be remain resume for t-seconds before event is set.\n",
    "\n",
    "* Here the main thing to notice that since the waiting time in the _non-blocking_ is less then the Event Setting time in MainThread, so it will wait only for t-seconds which is less then Event Setting time, and resume it's task."
   ]
  },
  {
   "cell_type": "code",
   "execution_count": 28,
   "id": "4b9667ac-c3f8-45a3-94b7-c8bee1985eb8",
   "metadata": {},
   "outputs": [
    {
     "name": "stderr",
     "output_type": "stream",
     "text": [
      "blocking :: Paused\n",
      "blocking :: wait_for_event starting!\n",
      "non-blocking :: Paused\n",
      "non-blocking :: wait_for_event_timeout stariting!\n",
      "MainThread :: waiting before calling Event.set()\n",
      "MainThread :: Event is set\n",
      "blocking :: event set: True\n",
      "non-blocking :: event set: True\n",
      "blocking :: Resumed\n",
      "non-blocking :: Resumed\n",
      "non-blocking :: processing event\n"
     ]
    }
   ],
   "source": [
    "e = Event()\n",
    "\n",
    "# NOw we will create two threads.\n",
    "\n",
    "thread1 = Thread(name='blocking', \n",
    "                 target= wait_for_event,\n",
    "                args= (e,))\n",
    "\n",
    "thread2 = Thread(name='non-blocking',\n",
    "                target=wait_for_event_timeout,\n",
    "                args=(e,5))\n",
    "\n",
    "\n",
    "# starting both the threads\n",
    "thread1.start()\n",
    "time.sleep(0.5)\n",
    "thread2.start()\n",
    "\n",
    "# waiting few seconds before setting the event\n",
    "logging.debug('waiting before calling Event.set()')\n",
    "time.sleep(2)\n",
    "# Note no process will go ahead until the Event is not set. (block the all thread who are sharing the the e event)\n",
    "# only after setting the Event as True (resume all threads.)\n",
    "e.set()\n",
    "logging.debug('Event is set')"
   ]
  },
  {
   "cell_type": "code",
   "execution_count": null,
   "id": "bc9bfe26-9977-4d1f-aa67-92adc84dc3a7",
   "metadata": {},
   "outputs": [],
   "source": []
  }
 ],
 "metadata": {
  "kernelspec": {
   "display_name": "Python 3 (ipykernel)",
   "language": "python",
   "name": "python3"
  },
  "language_info": {
   "codemirror_mode": {
    "name": "ipython",
    "version": 3
   },
   "file_extension": ".py",
   "mimetype": "text/x-python",
   "name": "python",
   "nbconvert_exporter": "python",
   "pygments_lexer": "ipython3",
   "version": "3.8.3"
  }
 },
 "nbformat": 4,
 "nbformat_minor": 5
}
