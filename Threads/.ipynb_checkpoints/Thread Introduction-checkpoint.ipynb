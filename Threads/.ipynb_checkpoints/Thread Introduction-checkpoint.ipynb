{
 "cells": [
  {
   "cell_type": "markdown",
   "id": "89fda295-9d98-4ff8-988d-64ed53530c65",
   "metadata": {},
   "source": [
    "## A simple Thread\n",
    "In this section we will see that how to use multiple thread do so things concurrently.\n",
    "\n",
    "To use the Thread we wil use the threading.Thread "
   ]
  },
  {
   "cell_type": "code",
   "execution_count": 2,
   "id": "881123cc-50ba-4f39-bb90-fe04d8bc0b3c",
   "metadata": {},
   "outputs": [],
   "source": [
    "from threading import Thread\n",
    "import threading"
   ]
  },
  {
   "cell_type": "markdown",
   "id": "6acc5eea-583d-487d-b049-1e4641bb4e1f",
   "metadata": {},
   "source": [
    "After importing the thread we need to create instance of the thread which will allow us to run multiple code at the same time.\n",
    "\n",
    "This will increase the speed of the program and reduce the wating time for next process."
   ]
  },
  {
   "cell_type": "markdown",
   "id": "808687a7-a409-4d94-af5b-3ccec3ee7ec3",
   "metadata": {},
   "source": [
    "`Create Thread`\n",
    "\n",
    "```ruby\n",
    "thread1 = threading.Thread(function, args, kwargs)\n",
    "```\n",
    "`funciton:` here function is the piece of code which need to be executed inside the thread, thread will be alive until the all piece of code is executed.\n",
    "\n",
    "`args:` args are the function argument which need to pass to the function.\n",
    "\n",
    "`kwargs:` kwargs are optional dictionary keyword argument which need to pass to the function.\n",
    "\n",
    "In return this instance gives us the thread_id by using that we can identify a thread or we can use the name of the thread but id is a unique value to identify the thread."
   ]
  },
  {
   "cell_type": "markdown",
   "id": "7cb0345e-74e2-4251-ab82-3fe8b75eff06",
   "metadata": {},
   "source": [
    "### Example 1. Printing time\n",
    "\n",
    "In this section we will print the current time by using the different threads, (two threads) through this we can how multiple code executes at the same time."
   ]
  },
  {
   "cell_type": "code",
   "execution_count": 5,
   "id": "b1ff4630-4298-4dfb-bbae-ee604a3b5347",
   "metadata": {},
   "outputs": [],
   "source": [
    "# a function to print the time\n",
    "import time\n",
    "def print_time(threadName, delay):\n",
    "\n",
    "    \"\"\"\n",
    "    threadName: Name of the thread to identify that in which thread this code is running.\n",
    "    dealy: time in seconds to delay in b/w exeuction of the each iteration to print the time.\n",
    "    \"\"\"\n",
    "    count = 0\n",
    "\n",
    "    # notify that the thread is started.\n",
    "    print(f\"{threadName} has started\")\n",
    "    \n",
    "    while count < 5:\n",
    "        time.sleep(delay)  # pause the thread process for given time interval.\n",
    "        count += 1   # increase the count of exuctuion of printing time.\n",
    "        print(\"%s: %s\" % (threadName, time.ctime(time.time())))\n",
    "        print()\n",
    "        \n",
    "    # notify that the thread has completed it's task\n",
    "    print(f\"{threadName} task is completed!\")"
   ]
  },
  {
   "cell_type": "code",
   "execution_count": 8,
   "id": "8b0c09ae-ff61-4228-9325-0d63c6fcee38",
   "metadata": {},
   "outputs": [],
   "source": [
    "# Now we will create the two new threads.\n",
    "thread1 = Thread(target=print_time, args=('Thread-1', 5))\n",
    "thread2 = Thread(target=print_time, args=('Thread-2', 3))"
   ]
  },
  {
   "cell_type": "markdown",
   "id": "954892df-341d-4365-8be3-fb240860a2ba",
   "metadata": {},
   "source": [
    "Now after creating the thread we need to start them by using the start() method and also we will use the join() method to pause the next line of code which out outside those thread."
   ]
  },
  {
   "cell_type": "code",
   "execution_count": 9,
   "id": "63bd8a76-0877-4789-a46f-502991a39d8b",
   "metadata": {},
   "outputs": [
    {
     "name": "stdout",
     "output_type": "stream",
     "text": [
      "Thread-1 has started\n",
      "Thread-2 has started\n",
      "Thread-2: Tue Jul  5 23:31:41 2022\n",
      "Thread-1: Tue Jul  5 23:31:43 2022\n",
      "Thread-2: Tue Jul  5 23:31:44 2022\n",
      "Thread-2: Tue Jul  5 23:31:47 2022\n",
      "Thread-1: Tue Jul  5 23:31:48 2022\n",
      "Thread-2: Tue Jul  5 23:31:50 2022\n",
      "Thread-1: Tue Jul  5 23:31:53 2022\n",
      "Thread-2: Tue Jul  5 23:31:53 2022\n",
      "Thread-2 task is completed!\n",
      "Thread-1: Tue Jul  5 23:31:58 2022\n",
      "Thread-1: Tue Jul  5 23:32:03 2022\n",
      "Thread-1 task is completed!\n",
      "\n",
      "All threads task completed.\n",
      "\n"
     ]
    }
   ],
   "source": [
    "# startign the threads.\n",
    "thread1.start()\n",
    "thread2.start()\n",
    "\n",
    "# joing the thread to pause the execution the below line of code \n",
    "thread1.join()\n",
    "thread2.join()\n",
    "\n",
    "print(\"\\nAll threads task completed.\\n\")"
   ]
  },
  {
   "cell_type": "markdown",
   "id": "cfd6e0f8-6eaa-43d7-94fe-0e6584c33a53",
   "metadata": {},
   "source": [
    "`Conclusion:` Since in thread1 each printing time delay is 5 seconds that way it runs longer than the thread2 but both are running parallel."
   ]
  },
  {
   "cell_type": "markdown",
   "id": "678a5803-c359-4f33-8619-fc7522cefe88",
   "metadata": {},
   "source": [
    "### Example 2: Reading multiple files in background\n",
    "\n",
    "In this section we will read multiple files and each file will be readed in the background concurrently."
   ]
  },
  {
   "cell_type": "code",
   "execution_count": 1,
   "id": "833f9907-9e64-4490-8cc3-634f2299584c",
   "metadata": {},
   "outputs": [],
   "source": [
    "# in this we will see the total time of whole script of execution \n",
    "# and time to load each file \n",
    "pages_path = r'Pages'"
   ]
  },
  {
   "cell_type": "code",
   "execution_count": 33,
   "id": "77df6a2f-6395-4fe7-9892-1c08eef58954",
   "metadata": {},
   "outputs": [],
   "source": [
    "import os\n",
    "import time\n",
    "from threading import Thread\n",
    "from pathlib import Path\n",
    "from random import randint"
   ]
  },
  {
   "cell_type": "code",
   "execution_count": 3,
   "id": "b90e6061-4ceb-41e6-a7bd-a4ca1973be8d",
   "metadata": {},
   "outputs": [],
   "source": [
    "# first of all we will change the working directory\n",
    "os.chdir(\"Pages\")"
   ]
  },
  {
   "cell_type": "code",
   "execution_count": 4,
   "id": "550871a6-992f-49d8-bc1a-a6bc3b076642",
   "metadata": {},
   "outputs": [],
   "source": [
    "pages = []\n",
    "path = Path(os.getcwd())\n",
    "for page in os.listdir():\n",
    "    _path = path.joinpath(page)\n",
    "    if _path.suffix == '.html':\n",
    "        pages.append(_path)"
   ]
  },
  {
   "cell_type": "markdown",
   "id": "ece2c0cd-6d06-4252-9995-8aea4a6c66dc",
   "metadata": {},
   "source": [
    "Now we have the pathlike object to where our file more like html files are located now we need to read them concurrently and calculate the time."
   ]
  },
  {
   "cell_type": "code",
   "execution_count": 41,
   "id": "c204e70a-3ed5-4abb-9762-377ae9dbda08",
   "metadata": {},
   "outputs": [],
   "source": [
    "# function to read a file.\n",
    "ex_times = []\n",
    "def read_file(file_address):\n",
    "    \n",
    "    # file_address will be the pathlike object which will be saved in pages list.\n",
    "    st_time = time.perf_counter()\n",
    "    # here we will add a delay of random seconds \n",
    "    time.sleep(randint(1,5))\n",
    "    print(f'reading file {os.path.basename(file_address)}')\n",
    "    file = open(os.path.abspath(file_address), 'r+b')\n",
    "    data = file.read()\n",
    "    file.close()\n",
    "    end_time = time.perf_counter()\n",
    "    ex_times.append(round(end_time-st_time, 5))\n",
    "    print(f\"file {os.path.basename(file_address)} reading completed. \\ntime: {round(end_time - st_time, 5)} \")\n",
    "    print('\\n')"
   ]
  },
  {
   "cell_type": "code",
   "execution_count": 42,
   "id": "f142584b-5e97-4ff5-81d7-c30b7cd7b012",
   "metadata": {},
   "outputs": [],
   "source": [
    "# Now we will make inidividual thread for each file reading.\n",
    "threads = []\n",
    "for index, _file in enumerate(pages):\n",
    "    thread_x = Thread(target=read_file, args=(_file, ))\n",
    "    threads.append(thread_x)"
   ]
  },
  {
   "cell_type": "code",
   "execution_count": 43,
   "id": "69469b2a-b809-49df-a3c4-ee5f0afe5bb9",
   "metadata": {},
   "outputs": [
    {
     "name": "stdout",
     "output_type": "stream",
     "text": [
      "reading file Multithreading in Python _ Set 1 - GeeksforGeeks.html\n",
      "reading file A Practical Guide to Python Threading By Examples.html\n",
      "reading file x86 Assembly_GNU assembly syntax - Wikibooks, open books for an open world.html\n",
      "file Multithreading in Python _ Set 1 - GeeksforGeeks.html reading completed. \n",
      "time: 1.00842 \n",
      "\n",
      "\n",
      "file A Practical Guide to Python Threading By Examples.html reading completed. \n",
      "time: 1.00931 \n",
      "\n",
      "\n",
      "file x86 Assembly_GNU assembly syntax - Wikibooks, open books for an open world.html reading completed. \n",
      "time: 1.00776 \n",
      "\n",
      "\n",
      "reading file Python - Multithreaded Programming.html\n",
      "reading file queue — A synchronized queue class — Python 3.10.5 documentation.html\n",
      "file queue — A synchronized queue class — Python 3.10.5 documentation.html reading completed. \n",
      "time: 2.01361 \n",
      "\n",
      "\n",
      "file Python - Multithreaded Programming.html reading completed. \n",
      "time: 2.01455 \n",
      "\n",
      "\n",
      "reading file Python Multithreading Tutorial_ daemon threads & join method - 2020.html\n",
      "file Python Multithreading Tutorial_ daemon threads & join method - 2020.html reading completed. \n",
      "time: 4.00848 \n",
      "\n",
      "\n",
      "all files reading completed\n",
      "Total execution time: 4.01114\n",
      "total file reading time: 11.06213\n"
     ]
    }
   ],
   "source": [
    "# after creating we need to start and join each thread.\n",
    "st_time = time.perf_counter()\n",
    "for thread in threads:\n",
    "    thread.start()\n",
    "    \n",
    "# Note that we have to join all the threads after starting them \n",
    "# to measure the pref_count.\n",
    "for thread in threads:\n",
    "    thread.join()\n",
    "end_time = time.perf_counter()\n",
    "print(\"all files reading completed\")\n",
    "print(f\"Total execution time: {round(end_time-st_time, 5)}\")\n",
    "print(f\"total file reading time: {sum(ex_times)}\")"
   ]
  },
  {
   "cell_type": "code",
   "execution_count": 40,
   "id": "23fd5451-4674-4356-b85e-4cd8685cb0b1",
   "metadata": {},
   "outputs": [
    {
     "data": {
      "text/plain": [
       "[3.01767,\n",
       " 1.01104,\n",
       " 2.01885,\n",
       " 3.01828,\n",
       " 2.01079,\n",
       " 2.01176,\n",
       " 1.00999,\n",
       " 1.01063,\n",
       " 2.01706,\n",
       " 2.01847,\n",
       " 3.01125,\n",
       " 4.00822]"
      ]
     },
     "execution_count": 40,
     "metadata": {},
     "output_type": "execute_result"
    }
   ],
   "source": [
    "ex_times"
   ]
  },
  {
   "cell_type": "code",
   "execution_count": 22,
   "id": "59916f8f-c81f-4548-9e67-e530bf85e47e",
   "metadata": {},
   "outputs": [
    {
     "data": {
      "text/plain": [
       "487.6948743"
      ]
     },
     "execution_count": 22,
     "metadata": {},
     "output_type": "execute_result"
    }
   ],
   "source": [
    "time.perf_counter()"
   ]
  },
  {
   "cell_type": "code",
   "execution_count": null,
   "id": "fd8bd04b-4903-419d-88f0-4d17a5874dec",
   "metadata": {},
   "outputs": [],
   "source": []
  }
 ],
 "metadata": {
  "kernelspec": {
   "display_name": "Python 3 (ipykernel)",
   "language": "python",
   "name": "python3"
  },
  "language_info": {
   "codemirror_mode": {
    "name": "ipython",
    "version": 3
   },
   "file_extension": ".py",
   "mimetype": "text/x-python",
   "name": "python",
   "nbconvert_exporter": "python",
   "pygments_lexer": "ipython3",
   "version": "3.8.3"
  }
 },
 "nbformat": 4,
 "nbformat_minor": 5
}
