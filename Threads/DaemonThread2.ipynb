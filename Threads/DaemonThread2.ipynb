{
 "cells": [
  {
   "cell_type": "markdown",
   "id": "2818e44c-5dd7-404a-a81a-c6b6c7863be7",
   "metadata": {},
   "source": [
    "## Daemon Thread with join method\n",
    "\n",
    "In this section we will use the join method after starting the non-daemon and daemon thread in result the MainThread or application will wait for all thread before exiting itself."
   ]
  },
  {
   "cell_type": "code",
   "execution_count": 3,
   "id": "72c9f28f-64c4-4ac0-92c0-40c53313d7da",
   "metadata": {},
   "outputs": [
    {
     "name": "stderr",
     "output_type": "stream",
     "text": [
      "daemon: Starting\n",
      "non-daemon: Starting\n",
      "non-daemon: Exiting: total thread time-> 0.0823\n",
      "daemon: Exiting: total thread time-> 0.2107\n"
     ]
    },
    {
     "name": "stdout",
     "output_type": "stream",
     "text": [
      "Daemon thread is alive:  True\n"
     ]
    },
    {
     "name": "stderr",
     "output_type": "stream",
     "text": [
      "MainThread: Exiting!\n",
      "MainThread: Hello!\n"
     ]
    }
   ],
   "source": [
    "#DaemonThread2.py\n",
    "\n",
    "# In this section we will use the join() method to tell MainThread the wait for all threads to complete it's work\n",
    "# it includes the non-daemon and daemon threads.\n",
    "\n",
    "\n",
    "# save below code inside the DaemonThread.py file\n",
    "\n",
    "import threading\n",
    "import time\n",
    "import logging\n",
    "\n",
    "logging.basicConfig(level=logging.DEBUG,\n",
    "                    format='%(threadName)s: %(message)s')\n",
    "\n",
    "def log(msg):\n",
    "    logging.debug(msg)\n",
    "\n",
    "def n():\n",
    "    st_time = time.perf_counter()\n",
    "    log('Starting')\n",
    "    for i in range(100000):\n",
    "        pass\n",
    "    end_time = time.perf_counter()\n",
    "    extime = round(end_time - st_time, 4)\n",
    "    log(f'Exiting: total thread time-> {extime}')\n",
    "\n",
    "def d():\n",
    "    st_time = time.perf_counter()\n",
    "    log('Starting')\n",
    "    for i in range(10000000):\n",
    "        pass\n",
    "    \"\"\"here we can't use the log method since log method is defined inside the MainThread and it will exit \n",
    "        after completing the non-daemon thread so it will raise the NameError on the log.\"\"\"\n",
    "    end_time = time.perf_counter()\n",
    "    extime = round(end_time - st_time, 4)\n",
    "    logging.debug(f'Exiting: total thread time-> {extime}')\n",
    "\n",
    "if __name__ == '__main__':\n",
    "\n",
    "    t_thread = threading.Thread(name='non-daemon', target=n)\n",
    "    d_thread = threading.Thread(name='daemon', target=d)\n",
    "    d_thread.setDaemon(True)\n",
    "\n",
    "    d_thread.start()\n",
    "    t_thread.start()\n",
    "    print(\"Daemon thread is alive: \", d_thread.is_alive())\n",
    "    d_thread.join()\n",
    "    t_thread.join()\n",
    "    log(\"Exiting!\")\n",
    "    exit()\t\n",
    "    log('Hello!')  # log won't run, since the MainThread is killed.\n",
    "\n",
    "\n",
    "    \"\"\"\n",
    "    In Result we will get:\n",
    "\n",
    "    ---------------------------------\n",
    "        daemon: Starting\n",
    "        non-daemon: Starting\n",
    "        non-daemon: Exiting: total thread time-> 0.0177\n",
    "        Daemon thread is alive:  True\n",
    "        daemon: Exiting: total thread time-> 0.1916\n",
    "        MainThread: Exiting!\n",
    "    ---------------------------------\n",
    "    Now in this case, since we have used the join method on both thread we will see the exiting method from Daemon thread.\n",
    "    \"\"\""
   ]
  },
  {
   "cell_type": "markdown",
   "id": "010248aa-6a1e-443c-a075-77401b6f4b27",
   "metadata": {},
   "source": [
    "Note: total thread time for each thread can vary from system to system and also in per call of the program."
   ]
  },
  {
   "cell_type": "code",
   "execution_count": null,
   "id": "095ad0e0-36e4-46cb-a3dd-d586246d63e7",
   "metadata": {},
   "outputs": [],
   "source": []
  }
 ],
 "metadata": {
  "kernelspec": {
   "display_name": "Python 3 (ipykernel)",
   "language": "python",
   "name": "python3"
  },
  "language_info": {
   "codemirror_mode": {
    "name": "ipython",
    "version": 3
   },
   "file_extension": ".py",
   "mimetype": "text/x-python",
   "name": "python",
   "nbconvert_exporter": "python",
   "pygments_lexer": "ipython3",
   "version": "3.8.3"
  }
 },
 "nbformat": 4,
 "nbformat_minor": 5
}
