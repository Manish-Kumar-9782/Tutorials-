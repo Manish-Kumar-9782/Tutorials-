{
 "cells": [
  {
   "cell_type": "code",
   "execution_count": 1,
   "id": "d9ece90e-2782-4186-ab02-b26eb942def3",
   "metadata": {},
   "outputs": [
    {
     "name": "stdout",
     "output_type": "stream",
     "text": [
      "1\n",
      "X    1\n",
      "Y    4\n",
      "Z    7\n",
      "Name: A, dtype: int64\n",
      "   X  Y  Z\n",
      "A  1  4  7\n",
      "B  2  5  8\n",
      "   X  Y  Z\n",
      "A  1  4  7\n",
      "B  2  5  8\n",
      "   X  Y  Z\n",
      "B  2  5  8\n",
      "C  3  6  9\n"
     ]
    }
   ],
   "source": [
    "import pandas as pd\n",
    "\n",
    "# Create a DataFrame\n",
    "data = {'X': [1, 2, 3], 'Y': [4, 5, 6], 'Z': [7, 8, 9]}\n",
    "df = pd.DataFrame(data, index=['A', 'B', 'C'])\n",
    "\n",
    "# Access a single value\n",
    "print(df.loc['A', 'X'])  # Output: 1\n",
    "\n",
    "# Access a row\n",
    "print(df.loc['A'])  # Output: X    1\n",
    "                    #         Y    4\n",
    "                    #         Z    7\n",
    "                    #         Name: A, dtype: int64\n",
    "\n",
    "# Access multiple rows\n",
    "print(df.loc[['A', 'B']])  # Output:    X  Y  Z\n",
    "                           #         A  1  4  7\n",
    "                           #         B  2  5  8\n",
    "\n",
    "# Access a slice of rows\n",
    "print(df.loc['A':'B'])  # Output:    X  Y  Z\n",
    "                        #         A  1  4  7\n",
    "                        #         B  2  5  8\n",
    "\n",
    "# Conditional selection\n",
    "print(df.loc[df['X'] > 1])  # Output:    X  Y  Z\n",
    "                            #         B  2  5  8\n",
    "                            #         C  3  6  9\n"
   ]
  },
  {
   "cell_type": "code",
   "execution_count": 6,
   "id": "3f749db9-fc6c-462b-afd0-16745a3ee6a6",
   "metadata": {},
   "outputs": [
    {
     "data": {
      "text/html": [
       "<div>\n",
       "<style scoped>\n",
       "    .dataframe tbody tr th:only-of-type {\n",
       "        vertical-align: middle;\n",
       "    }\n",
       "\n",
       "    .dataframe tbody tr th {\n",
       "        vertical-align: top;\n",
       "    }\n",
       "\n",
       "    .dataframe thead th {\n",
       "        text-align: right;\n",
       "    }\n",
       "</style>\n",
       "<table border=\"1\" class=\"dataframe\">\n",
       "  <thead>\n",
       "    <tr style=\"text-align: right;\">\n",
       "      <th></th>\n",
       "      <th>X</th>\n",
       "      <th>Y</th>\n",
       "      <th>Z</th>\n",
       "    </tr>\n",
       "  </thead>\n",
       "  <tbody>\n",
       "    <tr>\n",
       "      <th>A</th>\n",
       "      <td>1</td>\n",
       "      <td>4</td>\n",
       "      <td>7</td>\n",
       "    </tr>\n",
       "  </tbody>\n",
       "</table>\n",
       "</div>"
      ],
      "text/plain": [
       "   X  Y  Z\n",
       "A  1  4  7"
      ]
     },
     "execution_count": 6,
     "metadata": {},
     "output_type": "execute_result"
    }
   ],
   "source": [
    "df.loc[[\"A\"]]"
   ]
  },
  {
   "cell_type": "code",
   "execution_count": 7,
   "id": "495ec5ab-f5b2-41b0-822d-56da79b2c576",
   "metadata": {},
   "outputs": [
    {
     "ename": "NameError",
     "evalue": "name 'world_datax' is not defined",
     "output_type": "error",
     "traceback": [
      "\u001b[1;31m---------------------------------------------------------------------------\u001b[0m",
      "\u001b[1;31mNameError\u001b[0m                                 Traceback (most recent call last)",
      "Cell \u001b[1;32mIn[7], line 1\u001b[0m\n\u001b[1;32m----> 1\u001b[0m \u001b[43mworld_datax\u001b[49m\n",
      "\u001b[1;31mNameError\u001b[0m: name 'world_datax' is not defined"
     ]
    }
   ],
   "source": [
    "world_datax"
   ]
  },
  {
   "cell_type": "code",
   "execution_count": null,
   "id": "c935dbf0-2e9d-4f4e-b818-c9b15f6043db",
   "metadata": {},
   "outputs": [],
   "source": [
    "epsg_codes = [\n",
    "    # Mexico\n",
    "    32613,  # WGS 84 / UTM zone 13N\n",
    "    32614,  # WGS 84 / UTM zone 14N\n",
    "    # 32615,  # WGS 84 / UTM zone 15N\n",
    "\n",
    "    # Alaska\n",
    "    32606,  # WGS 84 / UTM zone 6N\n",
    "    32607,  # WGS 84 / UTM zone 7N\n",
    "    # 32608,  # WGS 84 / UTM zone 8N\n",
    "\n",
    "    # Greenland\n",
    "    32622,  # WGS 84 / UTM zone 22N\n",
    "    32623,  # WGS 84 / UTM zone 23N\n",
    "    # 32624   # WGS 84 / UTM zone 24N\n",
    "]"
   ]
  }
 ],
 "metadata": {
  "kernelspec": {
   "display_name": "Python 3 (GIS)",
   "language": "python",
   "name": "gisenv"
  },
  "language_info": {
   "codemirror_mode": {
    "name": "ipython",
    "version": 3
   },
   "file_extension": ".py",
   "mimetype": "text/x-python",
   "name": "python",
   "nbconvert_exporter": "python",
   "pygments_lexer": "ipython3",
   "version": "3.10.5"
  }
 },
 "nbformat": 4,
 "nbformat_minor": 5
}
