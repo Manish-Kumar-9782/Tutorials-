{
 "cells": [
  {
   "cell_type": "code",
   "execution_count": 1,
   "id": "0d2f0c20-68e6-47d0-a53f-097f7d285ca6",
   "metadata": {},
   "outputs": [],
   "source": [
    "import pandas as pd\n",
    "import numpy as np\n",
    "import geopandas as gpd\n",
    "import matplotlib.pyplot as plt"
   ]
  },
  {
   "cell_type": "code",
   "execution_count": 2,
   "id": "9b43e18b-10f9-4e0a-89ff-3fcd8da823b4",
   "metadata": {},
   "outputs": [],
   "source": [
    "c_code_file = \"../data/Countries Codes.csv\"\n",
    "life_file  = \"../data/Life Expectancy Data.csv\"\n",
    "countries_file = \"../data/ne_10m_admin_0_countries/ne_10m_admin_0_countries.shp\""
   ]
  },
  {
   "cell_type": "code",
   "execution_count": 3,
   "id": "ee5b857b-7f3c-4db0-bf70-745b58ec8ffd",
   "metadata": {},
   "outputs": [],
   "source": [
    "life_df = pd.read_csv(life_file)\n",
    "code_df = pd.read_csv(c_code_file)\n",
    "countries_gdf = gpd.read_file(countries_file)"
   ]
  },
  {
   "cell_type": "markdown",
   "id": "edac808c-3030-4e87-9425-3256c2b68812",
   "metadata": {},
   "source": [
    "**removing all columns extra space**"
   ]
  },
  {
   "cell_type": "code",
   "execution_count": 4,
   "id": "01620b24-7acc-4982-abb5-0ee5b9c2cac7",
   "metadata": {},
   "outputs": [
    {
     "name": "stdout",
     "output_type": "stream",
     "text": [
      "<class 'pandas.core.frame.DataFrame'>\n",
      "RangeIndex: 2938 entries, 0 to 2937\n",
      "Data columns (total 22 columns):\n",
      " #   Column                           Non-Null Count  Dtype  \n",
      "---  ------                           --------------  -----  \n",
      " 0   Country                          2938 non-null   object \n",
      " 1   Year                             2938 non-null   int64  \n",
      " 2   Status                           2938 non-null   object \n",
      " 3   Life expectancy                  2928 non-null   float64\n",
      " 4   Adult Mortality                  2928 non-null   float64\n",
      " 5   infant deaths                    2938 non-null   int64  \n",
      " 6   Alcohol                          2744 non-null   float64\n",
      " 7   percentage expenditure           2938 non-null   float64\n",
      " 8   Hepatitis B                      2385 non-null   float64\n",
      " 9   Measles                          2938 non-null   int64  \n",
      " 10  BMI                              2904 non-null   float64\n",
      " 11  under-five deaths                2938 non-null   int64  \n",
      " 12  Polio                            2919 non-null   float64\n",
      " 13  Total expenditure                2712 non-null   float64\n",
      " 14  Diphtheria                       2919 non-null   float64\n",
      " 15  HIV/AIDS                         2938 non-null   float64\n",
      " 16  GDP                              2490 non-null   float64\n",
      " 17  Population                       2286 non-null   float64\n",
      " 18  thinness  1-19 years             2904 non-null   float64\n",
      " 19  thinness 5-9 years               2904 non-null   float64\n",
      " 20  Income composition of resources  2771 non-null   float64\n",
      " 21  Schooling                        2775 non-null   float64\n",
      "dtypes: float64(16), int64(4), object(2)\n",
      "memory usage: 505.1+ KB\n"
     ]
    }
   ],
   "source": [
    "life_df.columns = life_df.columns.str.strip()\n",
    "life_df.info()"
   ]
  },
  {
   "cell_type": "code",
   "execution_count": 5,
   "id": "cb1581b4-87ec-47fd-b145-81c524ddec64",
   "metadata": {},
   "outputs": [
    {
     "data": {
      "text/plain": [
       "0       10.1\n",
       "1       10.0\n",
       "2        9.9\n",
       "3        9.8\n",
       "4        9.5\n",
       "        ... \n",
       "2933     9.2\n",
       "2934     9.5\n",
       "2935    10.0\n",
       "2936     9.8\n",
       "2937     9.8\n",
       "Name: Schooling, Length: 2938, dtype: float64"
      ]
     },
     "execution_count": 5,
     "metadata": {},
     "output_type": "execute_result"
    }
   ],
   "source": [
    "life_df[\"Schooling\"]"
   ]
  },
  {
   "cell_type": "code",
   "execution_count": 7,
   "id": "089dd72e-b111-4be6-89f5-1c2b661e4836",
   "metadata": {},
   "outputs": [
    {
     "data": {
      "text/plain": [
       "0       False\n",
       "1       False\n",
       "2       False\n",
       "3       False\n",
       "4       False\n",
       "        ...  \n",
       "2933    False\n",
       "2934    False\n",
       "2935    False\n",
       "2936    False\n",
       "2937    False\n",
       "Name: Schooling, Length: 2938, dtype: bool"
      ]
     },
     "execution_count": 7,
     "metadata": {},
     "output_type": "execute_result"
    }
   ],
   "source": [
    "school_na_mask =  life_df[\"Schooling\"].isna()\n",
    "school_na_mask"
   ]
  },
  {
   "cell_type": "code",
   "execution_count": null,
   "id": "e233e72d-eb51-45b6-b2f9-b0e4377f2242",
   "metadata": {},
   "outputs": [],
   "source": []
  }
 ],
 "metadata": {
  "kernelspec": {
   "display_name": "Python 3 (GIS)",
   "language": "python",
   "name": "gisenv"
  },
  "language_info": {
   "codemirror_mode": {
    "name": "ipython",
    "version": 3
   },
   "file_extension": ".py",
   "mimetype": "text/x-python",
   "name": "python",
   "nbconvert_exporter": "python",
   "pygments_lexer": "ipython3",
   "version": "3.10.5"
  }
 },
 "nbformat": 4,
 "nbformat_minor": 5
}
