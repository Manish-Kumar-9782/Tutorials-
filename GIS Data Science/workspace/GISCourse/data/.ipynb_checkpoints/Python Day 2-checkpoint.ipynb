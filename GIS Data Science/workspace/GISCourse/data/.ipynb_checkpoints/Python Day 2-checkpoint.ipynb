{
 "cells": [
  {
   "cell_type": "code",
   "execution_count": 5,
   "id": "f70cca69-91f9-423b-b9f3-5090c773ec5a",
   "metadata": {},
   "outputs": [
    {
     "name": "stdout",
     "output_type": "stream",
     "text": [
      "Person's age is less than 18\n"
     ]
    }
   ],
   "source": [
    "age = 12\n",
    "\n",
    "if age > 18:\n",
    "    print(\"person is an adult\")\n",
    "    print(\"you can't not do a job...\")\n",
    "\n",
    "elif age < 18:\n",
    "    print(\"Person's age is less than 18\")\n",
    "\n",
    "else:\n",
    "    print(\"Person is just 18 years old\")"
   ]
  },
  {
   "cell_type": "markdown",
   "id": "337805ca-2eb1-4049-a3bd-5dfe07edc709",
   "metadata": {},
   "source": [
    "**range of coords**"
   ]
  },
  {
   "cell_type": "code",
   "execution_count": 14,
   "id": "7cb99de1-d252-409e-86ff-c6c080fb0f96",
   "metadata": {},
   "outputs": [],
   "source": [
    "coords = range(-180, 181, 10)"
   ]
  },
  {
   "cell_type": "code",
   "execution_count": 15,
   "id": "2c8ef328-3f67-4cd2-bbf9-a9830c8b3824",
   "metadata": {},
   "outputs": [
    {
     "data": {
      "text/plain": [
       "range(-180, 181, 10)"
      ]
     },
     "execution_count": 15,
     "metadata": {},
     "output_type": "execute_result"
    }
   ],
   "source": [
    "coords"
   ]
  },
  {
   "cell_type": "code",
   "execution_count": 16,
   "id": "96450844-ff9c-48b7-9859-94d5e9eb81e7",
   "metadata": {},
   "outputs": [],
   "source": [
    "#passing coords in list function\n",
    "coords =  list(coords)"
   ]
  },
  {
   "cell_type": "code",
   "execution_count": 17,
   "id": "b070774d-3b0b-4183-ab9a-845eccca26f2",
   "metadata": {},
   "outputs": [
    {
     "name": "stdout",
     "output_type": "stream",
     "text": [
      "[-180, -170, -160, -150, -140, -130, -120, -110, -100, -90, -80, -70, -60, -50, -40, -30, -20, -10, 0, 10, 20, 30, 40, 50, 60, 70, 80, 90, 100, 110, 120, 130, 140, 150, 160, 170, 180]\n"
     ]
    }
   ],
   "source": [
    "print(coords)"
   ]
  },
  {
   "cell_type": "code",
   "execution_count": 23,
   "id": "d70e3143-551b-410a-a648-f4e660f86efa",
   "metadata": {},
   "outputs": [
    {
     "name": "stdout",
     "output_type": "stream",
     "text": [
      "180°W 170°W 160°W 150°W 140°W 130°W 120°W 110°W 100°W 90°W 80°W 70°W 60°W 50°W 40°W 30°W 20°W 10°W 0 10°N 20°N 30°N 40°N 50°N 60°N 70°N 80°N 90°N 100°N 110°N 120°N 130°N 140°N 150°N 160°N 170°N 180°N "
     ]
    }
   ],
   "source": [
    "for coord in coords:\n",
    "    str_coord = str(abs(coord))\n",
    "    if coord < 0:\n",
    "        str_coord = str_coord + \"°W\"\n",
    "    elif coord > 0:\n",
    "        str_coord = str_coord + \"°N\"\n",
    "        \n",
    "    print(str_coord, end=\" \")"
   ]
  },
  {
   "cell_type": "markdown",
   "id": "d21deefc-f57f-4197-98ba-6bde59d327cd",
   "metadata": {},
   "source": [
    "$\\degree  w$"
   ]
  },
  {
   "cell_type": "markdown",
   "id": "0431a3fa-0ddf-4d06-bd1c-a577ba0c07e1",
   "metadata": {},
   "source": [
    "test\\\n",
    "\n",
    "$\\degree  w$"
   ]
  },
  {
   "cell_type": "code",
   "execution_count": 24,
   "id": "0c6d0967-14bc-4cef-8f28-068961215784",
   "metadata": {},
   "outputs": [
    {
     "name": "stdout",
     "output_type": "stream",
     "text": [
      "[0, 10, 20, 30, 40, 50, 60, 70, 80, 90, 100, 110, 120, 130, 140, 150, 160, 170, 180, 190, 200, 210, 220, 230, 240, 250, 260, 270, 280, 290, 300, 310, 320, 330, 340, 350, 360]\n"
     ]
    }
   ],
   "source": [
    "coords = list( range(0,361, 10))\n",
    "print(coords)"
   ]
  },
  {
   "cell_type": "code",
   "execution_count": 32,
   "id": "68bfcafc-a0b8-4738-9224-a87b4fa27b7d",
   "metadata": {
    "scrolled": true
   },
   "outputs": [
    {
     "name": "stdout",
     "output_type": "stream",
     "text": [
      "0 \t N\n",
      "10 \t N 10° E\n",
      "20 \t N 20° E\n",
      "30 \t N 30° E\n",
      "40 \t N 40° E\n",
      "50 \t N 50° E\n",
      "60 \t N 60° E\n",
      "70 \t N 70° E\n",
      "80 \t N 80° E\n",
      "90 \t E\n",
      "100 \t S 10° E\n",
      "110 \t S 20° E\n",
      "120 \t S 30° E\n",
      "130 \t S 40° E\n",
      "140 \t S 50° E\n",
      "150 \t S 60° E\n",
      "160 \t S 70° E\n",
      "170 \t S 80° E\n",
      "180 \t S\n",
      "190 \t S 10°W\n",
      "200 \t S 20°W\n",
      "210 \t S 30°W\n",
      "220 \t S 40°W\n",
      "230 \t S 50°W\n",
      "240 \t S 60°W\n",
      "250 \t S 70°W\n",
      "260 \t S 80°W\n",
      "270 \t W\n",
      "280 \t N 10°W\n",
      "290 \t N 20°W\n",
      "300 \t N 30°W\n",
      "310 \t N 40°W\n",
      "320 \t N 50°W\n",
      "330 \t N 60°W\n",
      "340 \t N 70°W\n",
      "350 \t N 80°W\n",
      "360 \t N\n"
     ]
    }
   ],
   "source": [
    "for coord in coords:\n",
    "    str_coord = str(abs(coord))\n",
    "    \n",
    "    if coord > 0 and coord < 90:\n",
    "        str_coord = \"N \" + str_coord + \"° E\"\n",
    "    \n",
    "    elif coord > 90 and coord < 180:\n",
    "        # 135 -> S 45* E\n",
    "        coord_value = coord - 90  # numerical int value\n",
    "        str_coord = str(coord_value)  # again converting to str\n",
    "        str_coord = \"S \" + str_coord + \"° E\"\n",
    "\n",
    "    elif coord > 180 and coord < 270:\n",
    "        coord_value = coord - 180  # numerical int value\n",
    "        str_coord = str(coord_value)  # again converting to str\n",
    "        str_coord = \"S \" + str_coord + \"°W\"\n",
    "\n",
    "    elif coord > 270 and coord < 360:\n",
    "        coord_value = coord - 270  # numerical int value\n",
    "        str_coord = str(coord_value)  # again converting to str\n",
    "        str_coord = \"N \" + str_coord + \"°W\"\n",
    "\n",
    "    if coord == 0 or coord == 360:\n",
    "        str_coord = \"N\"\n",
    "    elif coord == 90:\n",
    "        str_coord = \"E\"\n",
    "    elif coord == 180:\n",
    "        str_coord = \"S\"\n",
    "    elif coord == 270:\n",
    "        str_coord = \"W\"\n",
    "        \n",
    "    print(coord , \"\\t\", str_coord)"
   ]
  },
  {
   "cell_type": "markdown",
   "id": "62c813a7-0152-43fd-8005-a0ff7c4c04ac",
   "metadata": {},
   "source": [
    "### Dictionary Data Structure\n",
    "\n",
    "```python\n",
    "\n",
    "mydict = {\n",
    "    \"key1\": value1,\n",
    "    \"key2\": value2,\n",
    "    #...\n",
    "    \"key3\": value3,\n",
    "}\n",
    "\n",
    "```"
   ]
  },
  {
   "cell_type": "code",
   "execution_count": 36,
   "id": "932daec8-fc37-48f2-9064-5dbeeed2cdb9",
   "metadata": {},
   "outputs": [],
   "source": [
    "person = {\n",
    "    \"age\":45,\n",
    "    \"name\": \"ganesh\",\n",
    "    \"height\": 5.6\n",
    "}"
   ]
  },
  {
   "cell_type": "code",
   "execution_count": 42,
   "id": "06542104-8d20-4c2f-bb6e-3d3a2fbb92e7",
   "metadata": {},
   "outputs": [],
   "source": [
    "point = {\n",
    "    \"long\": 135,\n",
    "    \"lat\": 45\n",
    "}\n",
    "point1 = {\n",
    "    \"long\": 135,\n",
    "    \"lat\": 45\n",
    "}"
   ]
  },
  {
   "cell_type": "code",
   "execution_count": 45,
   "id": "0c6cfdbe-5e80-4dbf-95dd-40da7ad4feb9",
   "metadata": {},
   "outputs": [],
   "source": [
    "import pandas as pd\n",
    "import random"
   ]
  },
  {
   "cell_type": "code",
   "execution_count": 44,
   "id": "d19364d8-1d97-47a4-bed9-9dd84ce306ed",
   "metadata": {},
   "outputs": [
    {
     "data": {
      "text/html": [
       "<div>\n",
       "<style scoped>\n",
       "    .dataframe tbody tr th:only-of-type {\n",
       "        vertical-align: middle;\n",
       "    }\n",
       "\n",
       "    .dataframe tbody tr th {\n",
       "        vertical-align: top;\n",
       "    }\n",
       "\n",
       "    .dataframe thead th {\n",
       "        text-align: right;\n",
       "    }\n",
       "</style>\n",
       "<table border=\"1\" class=\"dataframe\">\n",
       "  <thead>\n",
       "    <tr style=\"text-align: right;\">\n",
       "      <th></th>\n",
       "      <th>long</th>\n",
       "      <th>lat</th>\n",
       "    </tr>\n",
       "  </thead>\n",
       "  <tbody>\n",
       "    <tr>\n",
       "      <th>0</th>\n",
       "      <td>135</td>\n",
       "      <td>45</td>\n",
       "    </tr>\n",
       "    <tr>\n",
       "      <th>1</th>\n",
       "      <td>135</td>\n",
       "      <td>45</td>\n",
       "    </tr>\n",
       "  </tbody>\n",
       "</table>\n",
       "</div>"
      ],
      "text/plain": [
       "   long  lat\n",
       "0   135   45\n",
       "1   135   45"
      ]
     },
     "execution_count": 44,
     "metadata": {},
     "output_type": "execute_result"
    }
   ],
   "source": [
    "pd.DataFrame([point, point1])"
   ]
  },
  {
   "cell_type": "code",
   "execution_count": 48,
   "id": "c617c4b1-b2b6-4cc0-a53e-f0d146c3461d",
   "metadata": {},
   "outputs": [],
   "source": [
    "data_points = [] # to store all points\n",
    "\n",
    "for i in range(50):\n",
    "    point = {\n",
    "        \"long\": random.randint(-180,180) ,\n",
    "        \"lat\": random.randint(-90,90)\n",
    "    }\n",
    "\n",
    "    data_points.append(point)"
   ]
  },
  {
   "cell_type": "code",
   "execution_count": 52,
   "id": "43f63a40-282c-4361-abc7-748434c0336e",
   "metadata": {},
   "outputs": [
    {
     "data": {
      "text/plain": [
       "[{'long': 104, 'lat': -64},\n",
       " {'long': 23, 'lat': -11},\n",
       " {'long': 150, 'lat': 24},\n",
       " {'long': 140, 'lat': 4},\n",
       " {'long': 146, 'lat': 17},\n",
       " {'long': 47, 'lat': 50},\n",
       " {'long': -75, 'lat': -56},\n",
       " {'long': 154, 'lat': 18},\n",
       " {'long': -52, 'lat': 30},\n",
       " {'long': 171, 'lat': -23}]"
      ]
     },
     "execution_count": 52,
     "metadata": {},
     "output_type": "execute_result"
    }
   ],
   "source": [
    "data_points"
   ]
  },
  {
   "cell_type": "code",
   "execution_count": null,
   "id": "66179f94-12b6-47b5-a44b-b600fa4991a0",
   "metadata": {},
   "outputs": [],
   "source": []
  }
 ],
 "metadata": {
  "kernelspec": {
   "display_name": "Python 3 (GIS)",
   "language": "python",
   "name": "gisenv"
  },
  "language_info": {
   "codemirror_mode": {
    "name": "ipython",
    "version": 3
   },
   "file_extension": ".py",
   "mimetype": "text/x-python",
   "name": "python",
   "nbconvert_exporter": "python",
   "pygments_lexer": "ipython3",
   "version": "3.10.5"
  }
 },
 "nbformat": 4,
 "nbformat_minor": 5
}
