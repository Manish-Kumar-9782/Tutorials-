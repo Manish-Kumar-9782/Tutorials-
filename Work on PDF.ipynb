{
 "cells": [
  {
   "cell_type": "markdown",
   "id": "dense-region",
   "metadata": {},
   "source": [
    "## PyPDF2 Module \n",
    "In this section we will work on the PyPDF2 module. in this we will learn that how to import, extract text, split and merge in a pdf document.\n",
    "\n",
    "This section will cover:\n",
    "* Extract document information from a PDF \n",
    "* Rotate pages\n",
    "* Merge PDFs\n",
    "* Split PDFs\n",
    "* Add watermarks\n",
    "* Encrypt a PDF"
   ]
  },
  {
   "cell_type": "code",
   "execution_count": 4,
   "id": "particular-agreement",
   "metadata": {},
   "outputs": [],
   "source": [
    "import PyPDF2 as pdf # to work on the pdf files\n",
    "import os # to use the os path and dir method."
   ]
  },
  {
   "cell_type": "markdown",
   "id": "musical-counter",
   "metadata": {},
   "source": [
    "## 1. Extract the document information from a PDF file\n",
    "In this section we will extract some information of the documents like author, creator  , producer, subject, title and number of pages."
   ]
  },
  {
   "cell_type": "code",
   "execution_count": 17,
   "id": "forty-anger",
   "metadata": {},
   "outputs": [
    {
     "name": "stdout",
     "output_type": "stream",
     "text": [
      "\n",
      "        Information about testpdf.pdf file: \n",
      "\n",
      "        Author: None\n",
      "        Creator: Chromium\n",
      "        Producer: Skia/PDF m88\n",
      "        Subject: None\n",
      "        Title: None\n",
      "        Number of pages: 5\n",
      "        \n"
     ]
    }
   ],
   "source": [
    "# in this we will make a dictionary for some \n",
    "# imformation like author, creator, producer, subject, title.\n",
    "\n",
    "# we need to use the PdfFileReader() mthod or class read the pdf file.\n",
    "\n",
    "with open('testpdf.pdf', 'rb') as file:\n",
    "    # note we need to read this pdf files in the binary mode.\n",
    "    read = pdf.PdfFileReader(file)\n",
    "\n",
    "# now we have created a PdfFile reading object now we need to get the \n",
    "# information about the document\n",
    "\n",
    "    doc_info = read.getDocumentInfo()\n",
    "    Pages = read.getNumPages()\n",
    "\n",
    "    # now we have \n",
    "\n",
    "    txt = f\"\"\"\n",
    "        Information about testpdf.pdf file: \n",
    "\n",
    "        Author: {doc_info.author}\n",
    "        Creator: {doc_info.creator}\n",
    "        Producer: {doc_info.producer}\n",
    "        Subject: {doc_info.subject}\n",
    "        Title: {doc_info.title}\n",
    "        Number of pages: {Pages}\n",
    "        \"\"\"\n",
    "    print(txt)"
   ]
  },
  {
   "cell_type": "markdown",
   "id": "united-gasoline",
   "metadata": {},
   "source": [
    "Since this a pdf file which is downloaded from the wikipedia so this will not have many information."
   ]
  },
  {
   "cell_type": "markdown",
   "id": "signal-behavior",
   "metadata": {},
   "source": [
    "## 2. Rotate a pdf page\n",
    "In this section we will see about the rotation of the pdf pages. there are many situation where we need to rotate the pdf pages. in this we will learn that."
   ]
  },
  {
   "cell_type": "code",
   "execution_count": 20,
   "id": "compressed-canal",
   "metadata": {},
   "outputs": [],
   "source": [
    "# Rotating the pdf page\n",
    "\n",
    "    \n",
    "# in this we have opened a file in two mode.\n",
    "# read mode to read the file.\n",
    "pdf_reader = pdf.PdfFileReader(\"testpdf.pdf\")\n",
    "    \n",
    "# We need a Pdf writer object to write the file\n",
    "pdf_writer = pdf.PdfFileWriter()\n",
    "# this object will be used to write a new or existing pdf file.\n",
    "    \n",
    "# Now we need to choose that which one page need to be rotated.\n",
    "# Selected page 1. (indexed as 0)\n",
    "    \n",
    "# we will rotate this at 90 degree \n",
    "    \n",
    "page_1 = pdf_reader.getPage(0)\n",
    "# this pdf_reader.getPage() will return a page object\n",
    "    \n",
    "rotate_page_1 = page_1.rotateClockwise(90)\n",
    "# page object will be rotated by using the rotateClockwise() method.\n",
    "# this will return the rotated page of the page_1\n",
    "    \n",
    "# Now we need to write this page\n",
    "# To write the page we need to use two steps\n",
    "# 1. first we need to write the pagess in the pdf_writer object by \n",
    "        # using the pdf_writer.AddPage() method.\n",
    "# After adding the page in the pdf_writer object we need to save the\n",
    "        # data in a file.\n",
    "        \n",
    "# 1. Adding the page in the pdf_writer object\n",
    "pdf_writer.addPage(rotate_page_1)\n",
    "    \n",
    "    # 2. now we need to save this file in the local disk.\n",
    "    # in this we need to use the .write() method of the pdf_writer object.\n",
    "with open(\"testedpdf.pdf\",'wb') as file:\n",
    "    pdf_writer.write(file)\n",
    "    \n",
    "    # after above statement we can see the local disk that we have \n",
    "    # rotated the the page of the testpdf.pdf file.\n"
   ]
  },
  {
   "cell_type": "markdown",
   "id": "simplified-sally",
   "metadata": {},
   "source": [
    "For this example, you need to import the PdfFileWriter in addition to PdfFileReader because you will need to write out a new PDF. rotate_pages() takes in the path to the PDF that you want to modify. Within that function, you will need to create a writer object that you can name pdf_writer and a reader object called pdf_reader.\n",
    "\n",
    "Next, you can use .GetPage() to get the desired page. Here you grab page zero, which is the first page. Then you call the page object’s .rotateClockwise() method and pass in 90 degrees. Then for page two, you call .rotateCounterClockwise() and pass it 90 degrees as well.\n",
    "\n",
    "After each call to the rotation methods, you call .addPage(). This will add the rotated version of the page to the writer object. The last page that you add to the writer object is page 3 without any rotation done to it.\n",
    "\n",
    "Finally you write out the new PDF using .write(). It takes a file-like object as its parameter. This new PDF will contain three pages. The first two will be rotated in opposite directions of each other and be in landscape while the third page is a normal page.\n",
    "\n",
    "Now let’s learn how you can merge multiple PDFs into one."
   ]
  },
  {
   "cell_type": "markdown",
   "id": "accessible-registration",
   "metadata": {},
   "source": [
    "## 3. Merge pdf files\n",
    "There are many situation where we need to mere some pdf to each other in an order or as it is. we can do this with the help of the  addpage.\n",
    "\n",
    "Note: we have some pdf files in the \"./test/pdf\" diretory, so we will use them to perform the merging operation on the file.\n",
    "\n",
    "we will store the merged file in the  \"./test/pdf/merged\" location. "
   ]
  },
  {
   "cell_type": "code",
   "execution_count": 8,
   "id": "biblical-electricity",
   "metadata": {},
   "outputs": [],
   "source": [
    "# first of all we need to get the all file location (directory address)\n",
    "# this can be done in a simple list comprehension.\n",
    "pdfs = [os.path.join(os.getcwd(),\"test\\pdf\", i) for i in os.listdir(\"./test/pdf\")]\n",
    "\n",
    "# with the help of the above line we will get the all the files to be merged\n",
    "# Now we need we need a pdf_writer object to write and stores the pages \n",
    "# in the memory and after all of the work we will dump these pages in the file.\n",
    "\n",
    "pdf_writer = pdf.PdfFileWriter()\n",
    "# Now we have a pdf_writer object , we will use this in the rading loop \n",
    "# while we will read each page of the pdf file.\n",
    "\n",
    "for file in pdfs:\n",
    "    # we will pass the file addres into the pdfFileReader class \n",
    "    # so it can make a reader object for each file.\n",
    "    pdf_reader = pdf.PdfFileReader(file)\n",
    "    \n",
    "    # Now we need to get the total number of pages in the current pdf file\n",
    "    # we can do this by using the getNumPages() method\n",
    "    total_pages = pdf_reader.getNumPages()\n",
    "    \n",
    "    # now we will run another loop up to the number of pages \n",
    "    # to add the each page in the paf_writer object.\n",
    "    for page in range(total_pages):\n",
    "        \n",
    "        # now we need to add the pages in the pdf_writer object.\n",
    "        pdf_writer.addPage(pdf_reader.getPage(page))\n",
    "        # this will get and write each page of the file.\n",
    "        \n",
    "# after writing all the pages in the pdf_writer object \n",
    "# we need to dump all the pages in the a pdf file on the local disk.\n",
    "\n",
    "with open(\"./test/pdf_merged/merged_file.pdf\",'wb') as mergedfile:\n",
    "    pdf_writer.write(mergedfile)\n",
    "    "
   ]
  },
  {
   "cell_type": "markdown",
   "id": "quarterly-second",
   "metadata": {},
   "source": [
    "You can use merge_pdfs() when you have a list of PDFs that you want to merge together. You will also need to know where to save the result, so this function takes a list of input paths and an output path.\n",
    "\n",
    "Then you loop over the inputs and create a PDF reader object for each of them. Next you will iterate over all the pages in the PDF file and use .addPage() to add each of those pages to itself.\n",
    "\n",
    "Once you’re finished iterating over all of the pages of all of the PDFs in your list, you will write out the result at the end.\n",
    "\n",
    "One item I would like to point out is that you could enhance this script a bit by adding in a range of pages to be added if you didn’t want to merge all the pages of each PDF. If you’d like a challenge, you could also create a command line interface for this function using Python’s argparse module.\n",
    "\n",
    "Let’s find out how to do the opposite of merging!"
   ]
  },
  {
   "cell_type": "markdown",
   "id": "radical-alpha",
   "metadata": {},
   "source": [
    "---\n",
    "## 4. Splitting the pdf file.\n",
    "In this section we will split a pdf file into a single page with the number of the page."
   ]
  },
  {
   "cell_type": "code",
   "execution_count": 12,
   "id": "jewish-wednesday",
   "metadata": {},
   "outputs": [],
   "source": [
    "# the concept of spliting of a pdf file.\n",
    "'''\n",
    "To split a pdf file we need to write each page individually on the \n",
    "local disk by using the pdf_writer object. To do that we need to use\n",
    "the pdf_writer object in the for loop up to the end of the pdf.\n",
    "''' \n",
    "\n",
    "# first of all we need a pdf_reader object to read the pages and also to get the numbero of pages in the paf file.\n",
    "read_path = './test/pdf/1.pdf'\n",
    "write_path ='./test/pdf_splited'\n",
    "\n",
    "pdf_reader = pdf.PdfFileReader(read_path)\n",
    "\n",
    "# now we need to run the a for loop over the page number of the file\n",
    "for page in range(pdf_reader.getNumPages()):\n",
    "    # here we need to create a separate writer for each page\n",
    "    pdf_writer = pdf.PdfFileWriter()\n",
    "    # here page is the number of the page (current page) of pdf file.\n",
    "    # Now after creating the pdf_writer object we need to add and write the page\n",
    "    \n",
    "    pdf_writer.addPage(pdf_reader.getPage(page))\n",
    "    # after adding the page we need to save it into paf doc with the page number\n",
    "    \n",
    "    path = os.path.normcase(os.path.join(write_path ,f\"Page-{page}.pdf\"))\n",
    "    \n",
    "    with open(path, 'wb') as write_pdf:\n",
    "        pdf_writer.write(write_pdf)\n",
    "    "
   ]
  },
  {
   "cell_type": "markdown",
   "id": "studied-supplier",
   "metadata": {},
   "source": [
    "In this example, you once again create a PDF reader object and loop over its pages. For each page in the PDF, you will create a new PDF writer instance and add a single page to it. Then you will write that page out to a uniquely named file. When the script is finished running, you should have each page of the original PDF split into separate PDFs."
   ]
  },
  {
   "cell_type": "markdown",
   "id": "spiritual-belief",
   "metadata": {},
   "source": [
    "---\n",
    "## 5. Add Watermarks\n",
    "Watermarks are identifying images or patterns on printed and digital documents. Some watermarks can only be sseen in special lighting conditions. The reason of watermarking is importnt is that it allows you to protect your intellectual property, such as your images or PDFs. "
   ]
  },
  {
   "cell_type": "markdown",
   "id": "parliamentary-tournament",
   "metadata": {},
   "source": [
    "To add a mater we need a pdf file which contains watermarks, after this we need to get the page on which the water mark is presented and then we need to merge the pages by using the `mergePage()` method. "
   ]
  },
  {
   "cell_type": "code",
   "execution_count": 16,
   "id": "neutral-extraction",
   "metadata": {},
   "outputs": [
    {
     "name": "stderr",
     "output_type": "stream",
     "text": [
      "PdfReadWarning: Superfluous whitespace found in object header b'1' b'0' [pdf.py:1665]\n",
      "PdfReadWarning: Superfluous whitespace found in object header b'2' b'0' [pdf.py:1665]\n",
      "PdfReadWarning: Superfluous whitespace found in object header b'3' b'0' [pdf.py:1665]\n",
      "PdfReadWarning: Superfluous whitespace found in object header b'14' b'0' [pdf.py:1665]\n",
      "PdfReadWarning: Superfluous whitespace found in object header b'13' b'0' [pdf.py:1665]\n",
      "PdfReadWarning: Superfluous whitespace found in object header b'11' b'0' [pdf.py:1665]\n",
      "PdfReadWarning: Superfluous whitespace found in object header b'4' b'0' [pdf.py:1665]\n",
      "PdfReadWarning: Superfluous whitespace found in object header b'5' b'0' [pdf.py:1665]\n",
      "PdfReadWarning: Superfluous whitespace found in object header b'6' b'0' [pdf.py:1665]\n",
      "PdfReadWarning: Superfluous whitespace found in object header b'8' b'0' [pdf.py:1665]\n",
      "PdfReadWarning: Superfluous whitespace found in object header b'7' b'0' [pdf.py:1665]\n",
      "PdfReadWarning: Superfluous whitespace found in object header b'9' b'0' [pdf.py:1665]\n",
      "PdfReadWarning: Superfluous whitespace found in object header b'10' b'0' [pdf.py:1665]\n",
      "PdfReadWarning: Superfluous whitespace found in object header b'12' b'0' [pdf.py:1665]\n"
     ]
    }
   ],
   "source": [
    "# first of all we need to read two pdf_reader object:\n",
    "# one for the watermark file and another for the actual file on which we want to put the water mark.\n",
    "\n",
    "wm_file = './test/watermark.pdf'\n",
    "test_file = 'testpdf.pdf'\n",
    "out_put = './test/watermarked_testpdf.pdf'\n",
    "\n",
    "watermark_reader = pdf.PdfFileReader(wm_file)\n",
    "watermark = watermark_reader.getPage(0) # \n",
    "\n",
    "# Now we have got our watermark.\n",
    "# now we need a file on which we want to put the watermark\n",
    "pdf_reader = pdf.PdfFileReader(test_file)\n",
    "\n",
    "# here we also need a pdf_writer object\n",
    "pdf_writer = pdf.PdfFileWriter()\n",
    "\n",
    "for page in range(pdf_reader.getNumPages()):\n",
    "    \n",
    "    # now here we need to merge every page with the water mark.\n",
    "    # but first we need to get the pages\n",
    "    \n",
    "    real_page = pdf_reader.getPage(page)\n",
    "    \n",
    "    real_page.mergePage(watermark)\n",
    "    # after merging we need to add the merged page on the pdf_writer object\n",
    "    \n",
    "    pdf_writer.addPage(real_page)\n",
    "    \n",
    "    # in this every page will be watermarked   \n",
    "    \n",
    "# now we have merged our real pages with the watermark \n",
    "# now we need to save the final data of the pdf_writer object.\n",
    "\n",
    "with open(out_put, 'wb') as out:\n",
    "    pdf_writer.write(out)\n"
   ]
  },
  {
   "cell_type": "markdown",
   "id": "chicken-visit",
   "metadata": {},
   "source": [
    "Note: we will ignore the warning for now."
   ]
  },
  {
   "cell_type": "markdown",
   "id": "supported-noise",
   "metadata": {},
   "source": [
    "In the code, you open up the watermark PDF and grab just the first page from the document as that is where your watermark should reside. Then you create a PDF reader object using the input_pdf and a generic pdf_writer object for writing out the watermarked PDF.\n",
    "\n",
    "The next step is to iterate over the pages in the input_pdf. This is where the magic happens. You will need to call .mergePage() and pass it the watermark_page. When you do that, it will overlay the watermark_page on top of the current page. Then you add that newly merged page to your pdf_writer object."
   ]
  },
  {
   "cell_type": "markdown",
   "id": "liable-cassette",
   "metadata": {},
   "source": [
    "---\n",
    "## 6. Encrypt a pdf file."
   ]
  },
  {
   "cell_type": "markdown",
   "id": "compatible-inflation",
   "metadata": {},
   "source": [
    "There are many situation where we want to protect our pdf document from a password with some encryption we can do it by using the encrypt method of the pdfFileWriter() object of the PyPDF2 module."
   ]
  },
  {
   "cell_type": "markdown",
   "id": "pleased-pittsburgh",
   "metadata": {},
   "source": [
    "PyPDF2 currently only supports adding a user password and an owner password to a preexisting PDF. In PDF land, an owner password will basically give you administrator privileges over the PDF and allow you to set permissions on the document. On the other hand, the user password just allows you to open the document.\n",
    "\n",
    "As far as I can tell, PyPDF2 doesn’t actually allow you to set any permissions on the document even though it does allow you to set the owner password.\n",
    "\n",
    "Regardless, this is how you can add a password, which will also inherently encrypt the PDF:\n",
    "\n"
   ]
  },
  {
   "cell_type": "code",
   "execution_count": 19,
   "id": "removed-sperm",
   "metadata": {},
   "outputs": [],
   "source": [
    "# To encrypt a pdf file we need to make to object \n",
    "# one pdf_reader object to read the file to be encrypted.\n",
    "# one pdf_writer object to add the encryption on the file.\n",
    "\n",
    "test_file = 'testpdf.pdf'\n",
    "out_put = './test/encrypted_testpdf.pdf'\n",
    "\n",
    "pdf_reader = pdf.PdfFileReader(test_file)\n",
    "pdf_writer = pdf.PdfFileWriter()\n",
    "# now get the total number of page to itrate through the pdf file.\n",
    "\n",
    "for page in range(pdf_reader.getNumPages()):\n",
    "    pdf_writer.addPage(pdf_reader.getPage(page))\n",
    "    \n",
    "# after adding all the pages in the pdf_writer object we will apply the encryption on the object.\n",
    "pdf_writer.encrypt(user_pwd=\"manishaim\")\n",
    "\n",
    "# after applying the encryption on the object we need to write this object on the local system.\n",
    "with open(out_put , 'wb') as outfile:\n",
    "    pdf_writer.write(outfile)"
   ]
  },
  {
   "cell_type": "markdown",
   "id": "sunrise-chaos",
   "metadata": {},
   "source": [
    "----"
   ]
  },
  {
   "cell_type": "markdown",
   "id": "breathing-saskatchewan",
   "metadata": {},
   "source": [
    "## 7. tkPdfviewer"
   ]
  },
  {
   "cell_type": "code",
   "execution_count": null,
   "id": "affiliated-inclusion",
   "metadata": {},
   "outputs": [],
   "source": []
  }
 ],
 "metadata": {
  "kernelspec": {
   "display_name": "Python 3",
   "language": "python",
   "name": "python3"
  },
  "language_info": {
   "codemirror_mode": {
    "name": "ipython",
    "version": 3
   },
   "file_extension": ".py",
   "mimetype": "text/x-python",
   "name": "python",
   "nbconvert_exporter": "python",
   "pygments_lexer": "ipython3",
   "version": "3.8.3"
  }
 },
 "nbformat": 4,
 "nbformat_minor": 5
}
