{
 "cells": [
  {
   "cell_type": "markdown",
   "id": "facial-cookie",
   "metadata": {},
   "source": [
    "## Fonts in Tkinter\n",
    "\n",
    "Depending on your platform, there may be up to three ways to specify type style.\n",
    "\n",
    "* As a tuple whose first element is the font family followed by a size (in points if positive, in pixels if negative), optionally followed by a string containing one or more of the style modifiers bold, italic, underline, and overstrike.\n",
    "    * ('Helvetica' , '16' )\n",
    "    * ('Times', '24' , 'bolditalic')\n",
    "\n",
    "You cna create a \"font obect\" by importing the tkFont moidule and using its Font class constructor:\n",
    "```ruby \n",
    "    from tkinter.font as tkFont\n",
    "```\n",
    "    "
   ]
  },
  {
   "cell_type": "markdown",
   "id": "moved-phone",
   "metadata": {},
   "source": [
    "#### Importing the tkFont"
   ]
  },
  {
   "cell_type": "code",
   "execution_count": 2,
   "id": "immediate-contractor",
   "metadata": {},
   "outputs": [],
   "source": [
    "import tkinter as tk\n",
    "import tkinter.font as tkFont"
   ]
  },
  {
   "cell_type": "markdown",
   "id": "removed-thesaurus",
   "metadata": {},
   "source": [
    "##### Styling the font without making tkFont object"
   ]
  },
  {
   "cell_type": "code",
   "execution_count": 38,
   "id": "generic-today",
   "metadata": {},
   "outputs": [],
   "source": [
    "root = tk.Tk()\n",
    "\n",
    "root.title(\"styling font\")\n",
    "root.geometry(\"600x500\")\n",
    "\n",
    "even_pad = 20\n",
    "# now we will define the multiple font style \n",
    "\n",
    "Label1 = tk.Label(root, text=\"Helvetica font\").grid(row=0, column=0, pady=even_pad)\n",
    "Entry1 = tk.Entry(root, font=(\"Helvetica\",\"12\")).grid(row=0, column=1, padx=20,  columnspan = 1)\n",
    "\n",
    "\n",
    "Label2 = tk.Label(root, text=\"Times font\").grid(row=1, column=0, pady=even_pad)\n",
    "Entry2 = tk.Entry(root, font=(\"Times\",\"12\")).grid(row=1, column=1, padx=20,  columnspan = 1)\n",
    "\n",
    "\n",
    "Label3 = tk.Label(root, text=\"Serif font bold\").grid(row=2, column=0 , pady=even_pad)\n",
    "Entry3 = tk.Entry(root, font=(\"serif\",\"12\",\"bold\")).grid(row=2, column=1, padx=20, columnspan = 1 )\n",
    "\n",
    "Label4 = tk.Label(root, text=\"Terminal font\").grid(row=3, column=0, pady=even_pad )\n",
    "Entry4 = tk.Entry(root, font=(\"Terminal\",\"12\")).grid(row=3, column=1, padx=20,  columnspan = 1)\n",
    "\n",
    "\n",
    "root.mainloop()"
   ]
  },
  {
   "cell_type": "markdown",
   "id": "close-preserve",
   "metadata": {},
   "source": [
    "As you can see that we have used the font parameter to change the font of the text which is displayed in the Entry widget.\n",
    "\n",
    "* Entry1:  In this entry we have defined the font as ('Helvetica','12') , which defines the font size as 12 and the familiy is Helvetica\n",
    "* Entry2: In this we defined font family as 'Times' and the size is '12'.\n",
    "* Entry3: In this we added the one more option of the font which is style modifier 'bold' which makes the text more darker and increase the weight of the text.\n",
    "* Entry4: In this we used the 'Terminal' Font family .\n",
    "\n",
    "<img src=\"./Tutorial Images/font style 1.png \">"
   ]
  },
  {
   "cell_type": "markdown",
   "id": "opening-familiar",
   "metadata": {},
   "source": [
    "#### Styling the font by using the tkFont object\n",
    "\n",
    "To make the tkFont we need to import the `tkinter.font`. but we have already imported it so we will directly make the tkinter object and we will use the same code which is used above, we just change the font style by using the font object"
   ]
  },
  {
   "cell_type": "code",
   "execution_count": 40,
   "id": "appointed-mining",
   "metadata": {},
   "outputs": [],
   "source": [
    "# first of all we will see the available font families\n",
    "root = tk.Tk()\n",
    "\n",
    "# NOte: we need to provide a window name to access the all the available font families in tkinter\n",
    "fontfamilies = tkFont.families(root)"
   ]
  },
  {
   "cell_type": "code",
   "execution_count": 41,
   "id": "alternative-treaty",
   "metadata": {},
   "outputs": [
    {
     "data": {
      "text/plain": [
       "('System',\n",
       " '8514oem',\n",
       " 'Fixedsys',\n",
       " 'Terminal',\n",
       " 'Modern',\n",
       " 'Roman',\n",
       " 'Script',\n",
       " 'Courier',\n",
       " 'MS Serif',\n",
       " 'MS Sans Serif',\n",
       " 'Small Fonts',\n",
       " 'ADMUI3Lg',\n",
       " 'ADMUI3Sm',\n",
       " 'Marlett',\n",
       " 'Arial',\n",
       " 'Arabic Transparent',\n",
       " 'Arial Baltic',\n",
       " 'Arial CE',\n",
       " 'Arial CYR',\n",
       " 'Arial Greek',\n",
       " 'Arial TUR',\n",
       " 'Arial Black',\n",
       " 'Bahnschrift Light',\n",
       " 'Bahnschrift SemiLight',\n",
       " 'Bahnschrift',\n",
       " 'Bahnschrift SemiBold',\n",
       " 'Bahnschrift Light SemiCondensed',\n",
       " 'Bahnschrift SemiLight SemiConde',\n",
       " 'Bahnschrift SemiCondensed',\n",
       " 'Bahnschrift SemiBold SemiConden',\n",
       " 'Bahnschrift Light Condensed',\n",
       " 'Bahnschrift SemiLight Condensed',\n",
       " 'Bahnschrift Condensed',\n",
       " 'Bahnschrift SemiBold Condensed',\n",
       " 'Calibri',\n",
       " 'Calibri Light',\n",
       " 'Cambria',\n",
       " 'Cambria Math',\n",
       " 'Candara',\n",
       " 'Candara Light',\n",
       " 'Comic Sans MS',\n",
       " 'Consolas',\n",
       " 'Constantia',\n",
       " 'Corbel',\n",
       " 'Corbel Light',\n",
       " 'Courier New',\n",
       " 'Courier New Baltic',\n",
       " 'Courier New CE',\n",
       " 'Courier New CYR',\n",
       " 'Courier New Greek',\n",
       " 'Courier New TUR',\n",
       " 'Ebrima',\n",
       " 'Franklin Gothic Medium',\n",
       " 'Gabriola',\n",
       " 'Gadugi',\n",
       " 'Georgia',\n",
       " 'Impact',\n",
       " 'Ink Free',\n",
       " 'Javanese Text',\n",
       " 'Leelawadee UI',\n",
       " 'Leelawadee UI Semilight',\n",
       " 'Lucida Console',\n",
       " 'Lucida Sans Unicode',\n",
       " 'Malgun Gothic',\n",
       " '@Malgun Gothic',\n",
       " 'Malgun Gothic Semilight',\n",
       " '@Malgun Gothic Semilight',\n",
       " 'Microsoft Himalaya',\n",
       " 'Microsoft JhengHei',\n",
       " '@Microsoft JhengHei',\n",
       " 'Microsoft JhengHei UI',\n",
       " '@Microsoft JhengHei UI',\n",
       " 'Microsoft JhengHei Light',\n",
       " '@Microsoft JhengHei Light',\n",
       " 'Microsoft JhengHei UI Light',\n",
       " '@Microsoft JhengHei UI Light',\n",
       " 'Microsoft New Tai Lue',\n",
       " 'Microsoft PhagsPa',\n",
       " 'Microsoft Sans Serif',\n",
       " 'Microsoft Tai Le',\n",
       " 'Microsoft YaHei',\n",
       " '@Microsoft YaHei',\n",
       " 'Microsoft YaHei UI',\n",
       " '@Microsoft YaHei UI',\n",
       " 'Microsoft YaHei Light',\n",
       " '@Microsoft YaHei Light',\n",
       " 'Microsoft YaHei UI Light',\n",
       " '@Microsoft YaHei UI Light',\n",
       " 'Microsoft Yi Baiti',\n",
       " 'MingLiU-ExtB',\n",
       " '@MingLiU-ExtB',\n",
       " 'PMingLiU-ExtB',\n",
       " '@PMingLiU-ExtB',\n",
       " 'MingLiU_HKSCS-ExtB',\n",
       " '@MingLiU_HKSCS-ExtB',\n",
       " 'Mongolian Baiti',\n",
       " 'MS Gothic',\n",
       " '@MS Gothic',\n",
       " 'MS UI Gothic',\n",
       " '@MS UI Gothic',\n",
       " 'MS PGothic',\n",
       " '@MS PGothic',\n",
       " 'MV Boli',\n",
       " 'Myanmar Text',\n",
       " 'Nirmala UI',\n",
       " 'Nirmala UI Semilight',\n",
       " 'Palatino Linotype',\n",
       " 'Segoe MDL2 Assets',\n",
       " 'Segoe Print',\n",
       " 'Segoe Script',\n",
       " 'Segoe UI',\n",
       " 'Segoe UI Black',\n",
       " 'Segoe UI Emoji',\n",
       " 'Segoe UI Historic',\n",
       " 'Segoe UI Light',\n",
       " 'Segoe UI Semibold',\n",
       " 'Segoe UI Semilight',\n",
       " 'Segoe UI Symbol',\n",
       " 'SimSun',\n",
       " '@SimSun',\n",
       " 'NSimSun',\n",
       " '@NSimSun',\n",
       " 'SimSun-ExtB',\n",
       " '@SimSun-ExtB',\n",
       " 'Sitka Small',\n",
       " 'Sitka Text',\n",
       " 'Sitka Subheading',\n",
       " 'Sitka Heading',\n",
       " 'Sitka Display',\n",
       " 'Sitka Banner',\n",
       " 'Sylfaen',\n",
       " 'Symbol',\n",
       " 'Tahoma',\n",
       " 'Times New Roman',\n",
       " 'Times New Roman Baltic',\n",
       " 'Times New Roman CE',\n",
       " 'Times New Roman CYR',\n",
       " 'Times New Roman Greek',\n",
       " 'Times New Roman TUR',\n",
       " 'Trebuchet MS',\n",
       " 'Verdana',\n",
       " 'Webdings',\n",
       " 'Wingdings',\n",
       " 'Yu Gothic',\n",
       " '@Yu Gothic',\n",
       " 'Yu Gothic UI',\n",
       " '@Yu Gothic UI',\n",
       " 'Yu Gothic UI Semibold',\n",
       " '@Yu Gothic UI Semibold',\n",
       " 'Yu Gothic Light',\n",
       " '@Yu Gothic Light',\n",
       " 'Yu Gothic UI Light',\n",
       " '@Yu Gothic UI Light',\n",
       " 'Yu Gothic Medium',\n",
       " '@Yu Gothic Medium',\n",
       " 'Yu Gothic UI Semilight',\n",
       " '@Yu Gothic UI Semilight',\n",
       " 'HoloLens MDL2 Assets',\n",
       " 'Aparajita',\n",
       " 'Kokila',\n",
       " 'Mangal',\n",
       " 'Sanskrit Text',\n",
       " 'Utsaah',\n",
       " 'Agency FB',\n",
       " 'Algerian',\n",
       " 'Arial Narrow',\n",
       " 'Arial Rounded MT Bold',\n",
       " 'Baskerville Old Face',\n",
       " 'Bauhaus 93',\n",
       " 'Bell MT',\n",
       " 'Berlin Sans FB',\n",
       " 'Berlin Sans FB Demi',\n",
       " 'Bernard MT Condensed',\n",
       " 'Blackadder ITC',\n",
       " 'Bodoni MT',\n",
       " 'Bodoni MT Black',\n",
       " 'Bodoni MT Condensed',\n",
       " 'Bodoni MT Poster Compressed',\n",
       " 'Book Antiqua',\n",
       " 'Bookman Old Style',\n",
       " 'Bookshelf Symbol 7',\n",
       " 'Bradley Hand ITC',\n",
       " 'Britannic Bold',\n",
       " 'Broadway',\n",
       " 'Brush Script MT',\n",
       " 'Californian FB',\n",
       " 'Calisto MT',\n",
       " 'Castellar',\n",
       " 'Centaur',\n",
       " 'Century',\n",
       " 'Century Gothic',\n",
       " 'Century Schoolbook',\n",
       " 'Chiller',\n",
       " 'Colonna MT',\n",
       " 'Cooper Black',\n",
       " 'Copperplate Gothic Bold',\n",
       " 'Copperplate Gothic Light',\n",
       " 'Curlz MT',\n",
       " 'Dubai',\n",
       " 'Dubai Light',\n",
       " 'Dubai Medium',\n",
       " 'Edwardian Script ITC',\n",
       " 'Elephant',\n",
       " 'Engravers MT',\n",
       " 'Eras Bold ITC',\n",
       " 'Eras Demi ITC',\n",
       " 'Eras Light ITC',\n",
       " 'Eras Medium ITC',\n",
       " 'Felix Titling',\n",
       " 'Footlight MT Light',\n",
       " 'Forte',\n",
       " 'Franklin Gothic Book',\n",
       " 'Franklin Gothic Demi',\n",
       " 'Franklin Gothic Demi Cond',\n",
       " 'Franklin Gothic Heavy',\n",
       " 'Franklin Gothic Medium Cond',\n",
       " 'Freestyle Script',\n",
       " 'French Script MT',\n",
       " 'Garamond',\n",
       " 'Gigi',\n",
       " 'Gill Sans MT',\n",
       " 'Gill Sans MT Condensed',\n",
       " 'Gill Sans MT Ext Condensed Bold',\n",
       " 'Gill Sans Ultra Bold',\n",
       " 'Gill Sans Ultra Bold Condensed',\n",
       " 'Gloucester MT Extra Condensed',\n",
       " 'Goudy Old Style',\n",
       " 'Goudy Stout',\n",
       " 'Haettenschweiler',\n",
       " 'Harlow Solid Italic',\n",
       " 'Harrington',\n",
       " 'High Tower Text',\n",
       " 'Imprint MT Shadow',\n",
       " 'Informal Roman',\n",
       " 'Jokerman',\n",
       " 'Juice ITC',\n",
       " 'Kristen ITC',\n",
       " 'Kunstler Script',\n",
       " 'Lucida Bright',\n",
       " 'Lucida Calligraphy',\n",
       " 'Lucida Fax',\n",
       " 'Lucida Handwriting',\n",
       " 'Lucida Sans',\n",
       " 'Lucida Sans Typewriter',\n",
       " 'Magneto',\n",
       " 'Maiandra GD',\n",
       " 'Matura MT Script Capitals',\n",
       " 'Mistral',\n",
       " 'Modern No. 20',\n",
       " 'Monotype Corsiva',\n",
       " 'MS Outlook',\n",
       " 'MS Reference Sans Serif',\n",
       " 'MS Reference Specialty',\n",
       " 'MT Extra',\n",
       " 'Niagara Engraved',\n",
       " 'Niagara Solid',\n",
       " 'OCR A Extended',\n",
       " 'Old English Text MT',\n",
       " 'Onyx',\n",
       " 'Palace Script MT',\n",
       " 'Papyrus',\n",
       " 'Parchment',\n",
       " 'Perpetua',\n",
       " 'Perpetua Titling MT',\n",
       " 'Playbill',\n",
       " 'Poor Richard',\n",
       " 'Pristina',\n",
       " 'Rage Italic',\n",
       " 'Ravie',\n",
       " 'Rockwell',\n",
       " 'Rockwell Condensed',\n",
       " 'Rockwell Extra Bold',\n",
       " 'Script MT Bold',\n",
       " 'Showcard Gothic',\n",
       " 'Snap ITC',\n",
       " 'Stencil',\n",
       " 'Tempus Sans ITC',\n",
       " 'Tw Cen MT',\n",
       " 'Tw Cen MT Condensed',\n",
       " 'Tw Cen MT Condensed Extra Bold',\n",
       " 'Viner Hand ITC',\n",
       " 'Vivaldi',\n",
       " 'Vladimir Script',\n",
       " 'Wide Latin',\n",
       " 'Wingdings 2',\n",
       " 'Wingdings 3',\n",
       " 'Cascadia Code ExtraLight',\n",
       " 'Cascadia Code Light',\n",
       " 'Cascadia Code SemiLight',\n",
       " 'Cascadia Code',\n",
       " 'Cascadia Code SemiBold',\n",
       " 'Cascadia Mono ExtraLight',\n",
       " 'Cascadia Mono Light',\n",
       " 'Cascadia Mono SemiLight',\n",
       " 'Cascadia Mono',\n",
       " 'Cascadia Mono SemiBold')"
      ]
     },
     "execution_count": 41,
     "metadata": {},
     "output_type": "execute_result"
    }
   ],
   "source": [
    "fontfamilies"
   ]
  },
  {
   "cell_type": "markdown",
   "id": "balanced-tractor",
   "metadata": {},
   "source": [
    "**now we will select some of the family from the list**\n",
    "\n",
    "* 'Lucida Console',\n",
    "* 'Cascadia Mono Light',\n",
    "* 'Lucida Sans Typewriter',\n",
    "* 'Times New Roman',\n",
    "\n",
    "Now we will make some font object which contains the font style properties"
   ]
  },
  {
   "cell_type": "markdown",
   "id": "brave-investigator",
   "metadata": {},
   "source": [
    "```ruby\n",
    "tkFont.Font(root=None, font=None, name=None, exists=False, **options)\n",
    "```\n",
    "\n",
    "Constructor options are:\n",
    "\n",
    "font -- font specifier (name, system font, or (family, size, style)-tuple)\n",
    "name -- name to use for this font configuration (defaults to a unique name)\n",
    "exists -- does a named font by this name already exist?\n",
    "\n",
    "   Creates a new named font if False, points to the existing font if True.\n",
    "   \n",
    "   Raises _tkinter.TclError if the assertion is false.\n",
    "\n",
    "   the following are ignored if font is specified:\n",
    "\n",
    "family -- font 'family', e.g. Courier, Times, Helvetica\n",
    "\n",
    "size -- font size in points\n",
    "\n",
    "weight -- font thickness: NORMAL, BOLD\n",
    "\n",
    "slant -- font slant: ROMAN, ITALIC\n",
    "\n",
    "underline -- font underlining: false (0), true (1)\n",
    "\n",
    "overstrike -- font strikeout: false (0), true (1)\n"
   ]
  },
  {
   "cell_type": "code",
   "execution_count": 48,
   "id": "inappropriate-smooth",
   "metadata": {},
   "outputs": [],
   "source": [
    "# Making the font styles\n",
    "\n",
    "# options of the font object in order\n",
    "# family , size, weight, slant, underline, overstrike\n",
    "\n",
    "root = tk.Tk()\n",
    "\n",
    "root.title(\"styling font\")\n",
    "root.geometry(\"600x500\")\n",
    "\n",
    "Lucida_console = tkFont.Font(root,family='Lucida Console',size='12')\n",
    "\n",
    "Cascadia_monolight = tkFont.Font(root, family='Cascadia Mono Light', size='12')\n",
    "Lucida_snas = tkFont.Font(root, family='Lucida Sans Typewriter' , size='12')\n",
    "Times_roman = tkFont.Font(root, family='Times New Roman',size='12')\n",
    "\n",
    "\n",
    "\n",
    "even_pad = 20\n",
    "# now we will define the multiple font style \n",
    "\n",
    "Label1 = tk.Label(root, text=\"Lucida Console font\").grid(row=0, column=0, pady=even_pad)\n",
    "Entry1 = tk.Entry(root, font=Lucida_console).grid(row=0, column=1, padx=20,  columnspan = 1)\n",
    "\n",
    "\n",
    "Label2 = tk.Label(root, text=\"Cascadia Mono Light font\").grid(row=1, column=0, pady=even_pad)\n",
    "Entry2 = tk.Entry(root, font=Cascadia_monolight).grid(row=1, column=1, padx=20,  columnspan = 1)\n",
    "\n",
    "\n",
    "Label3 = tk.Label(root, text=\"Lucida Sans Typewriter\").grid(row=2, column=0 , pady=even_pad)\n",
    "Entry3 = tk.Entry(root, font=Lucida_snas).grid(row=2, column=1, padx=20, columnspan = 1 )\n",
    "\n",
    "Label4 = tk.Label(root, text=\"Times New Roman font\").grid(row=3, column=0, pady=even_pad )\n",
    "Entry4 = tk.Entry(root, font=Times_roman).grid(row=3, column=1, padx=20,  columnspan = 1)\n",
    "\n",
    "\n",
    "root.mainloop()"
   ]
  },
  {
   "cell_type": "markdown",
   "id": "cutting-hudson",
   "metadata": {},
   "source": [
    "<img src = \"./Tutorial Images/font style 2.png\">"
   ]
  },
  {
   "cell_type": "markdown",
   "id": "instrumental-league",
   "metadata": {},
   "source": [
    "As you can see that we have successfully created the `tkFont` object in which.\n",
    "\n",
    "`Note:` To run the tkFont object we need to provide it the root window name in which this font is going to be applied after that we have some more name parameters of the object like font,name and exists.\n",
    "\n",
    "font - font specifier tuple (family, size, options)\n",
    "\n",
    "name - unique font name\n",
    "\n",
    "exists - self points to existing named font if true\n",
    "\n",
    "if we provides the font values then we don't need to give the other options like family, size, weight, slant, underline, overstrike.\n",
    "\n",
    "Let's see more of the `tkFont`: We have some function available to the tkFont object, by using them we can access the details of the current font style and their properties and we can modify them.\n"
   ]
  },
  {
   "cell_type": "markdown",
   "id": "rising-patrick",
   "metadata": {},
   "source": [
    "#### Font function "
   ]
  },
  {
   "cell_type": "code",
   "execution_count": 49,
   "id": "hybrid-north",
   "metadata": {},
   "outputs": [],
   "source": [
    "# Since we need a window to apply the font style\n",
    "root = tk.Tk()\n",
    "\n",
    "# making the font \n",
    "new_font = tkFont.Font(root , font=('Lucida Console', '12'))"
   ]
  },
  {
   "cell_type": "markdown",
   "id": "moved-editor",
   "metadata": {},
   "source": [
    "`Note:` This will not create a window, because we didn't call the mainloop funtion to create the window. but on somewhere on the memory we have generated the window we just need to show it on the screen but we dont want to show the window, we want to do some work on the `tkFont` object."
   ]
  },
  {
   "cell_type": "markdown",
   "id": "minute-directory",
   "metadata": {},
   "source": [
    "**1. actual() fuction**\n"
   ]
  },
  {
   "cell_type": "code",
   "execution_count": 50,
   "id": "relevant-macedonia",
   "metadata": {},
   "outputs": [
    {
     "data": {
      "text/plain": [
       "{'family': 'Lucida Console',\n",
       " 'size': 12,\n",
       " 'weight': 'normal',\n",
       " 'slant': 'roman',\n",
       " 'underline': 0,\n",
       " 'overstrike': 0}"
      ]
     },
     "execution_count": 50,
     "metadata": {},
     "output_type": "execute_result"
    }
   ],
   "source": [
    "# applying the actual option\n",
    "\n",
    "# passing No argument\n",
    "new_font.actual()"
   ]
  },
  {
   "cell_type": "code",
   "execution_count": 54,
   "id": "black-fortune",
   "metadata": {},
   "outputs": [
    {
     "name": "stdout",
     "output_type": "stream",
     "text": [
      "font family:  Lucida Console\n",
      "font size:  12\n"
     ]
    }
   ],
   "source": [
    "# you can pass any option which is available in the dic. like\n",
    "print(\"font family: \",new_font.actual('family'))\n",
    "print(\"font size: \",new_font.actual('size'))\n",
    "\n",
    "# you can pass other options also to get the values of other options"
   ]
  },
  {
   "cell_type": "markdown",
   "id": "chubby-clarity",
   "metadata": {},
   "source": [
    "**2. cget() function**"
   ]
  },
  {
   "cell_type": "code",
   "execution_count": 57,
   "id": "promising-exhaust",
   "metadata": {},
   "outputs": [
    {
     "name": "stdout",
     "output_type": "stream",
     "text": [
      "Font family:  Lucida Console\n",
      "Font Size:  12\n",
      "Font weight:  normal\n",
      "Font slant:  roman\n"
     ]
    }
   ],
   "source": [
    "# using the cget function\n",
    "# \n",
    "\n",
    "print(\"Font family: \", new_font.cget('family'))\n",
    "print(\"Font Size: \",new_font.cget(\"size\"))\n",
    "print(\"Font weight: \",new_font.cget(\"weight\"))\n",
    "print(\"Font slant: \",new_font.cget(\"slant\"))"
   ]
  },
  {
   "cell_type": "markdown",
   "id": "direct-monroe",
   "metadata": {},
   "source": [
    "As you can see that `cget` and the `actual` function are similar.\n",
    "\n",
    "**3. configure() function**\n",
    "\n",
    "This fucntion is used to config the font style. By using this function we can modify te font style."
   ]
  },
  {
   "cell_type": "code",
   "execution_count": 58,
   "id": "soviet-testimony",
   "metadata": {},
   "outputs": [],
   "source": [
    "# configuring the font\n",
    "# We are modifying the font style \n",
    "new_font.configure(family=\"Times New Roman\" , size=\"20\", weight='bold', slant='italic')\n",
    "\n",
    "# Now we will use the actual method to see the modified details"
   ]
  },
  {
   "cell_type": "code",
   "execution_count": 59,
   "id": "signed-commission",
   "metadata": {},
   "outputs": [
    {
     "data": {
      "text/plain": [
       "{'family': 'Times New Roman',\n",
       " 'size': 20,\n",
       " 'weight': 'bold',\n",
       " 'slant': 'italic',\n",
       " 'underline': 0,\n",
       " 'overstrike': 0}"
      ]
     },
     "execution_count": 59,
     "metadata": {},
     "output_type": "execute_result"
    }
   ],
   "source": [
    "new_font.actual()"
   ]
  },
  {
   "cell_type": "markdown",
   "id": "ceramic-annotation",
   "metadata": {},
   "source": [
    "As you can see that we have modified the style option of the new_font objcet.\n",
    "\n",
    "**4. copy() function**\n",
    "\n",
    "if we want to make another font object and we want to make a duplicate copy of an existed font object to modify it so that over original font object do not get effect then we can use the copy funtion of the font object."
   ]
  },
  {
   "cell_type": "code",
   "execution_count": 60,
   "id": "convertible-proxy",
   "metadata": {},
   "outputs": [],
   "source": [
    "# we have new_font object now we will copy it inside the font1 object\n",
    "\n",
    "font1 = new_font.copy()"
   ]
  },
  {
   "cell_type": "code",
   "execution_count": 62,
   "id": "violent-design",
   "metadata": {},
   "outputs": [
    {
     "data": {
      "text/plain": [
       "{'family': 'Times New Roman',\n",
       " 'size': 20,\n",
       " 'weight': 'bold',\n",
       " 'slant': 'italic',\n",
       " 'underline': 0,\n",
       " 'overstrike': 0}"
      ]
     },
     "execution_count": 62,
     "metadata": {},
     "output_type": "execute_result"
    }
   ],
   "source": [
    "# we have copied the object now we will see the details of the font1\n",
    "font1.actual()"
   ]
  },
  {
   "cell_type": "code",
   "execution_count": 63,
   "id": "regular-stockholm",
   "metadata": {},
   "outputs": [
    {
     "data": {
      "text/plain": [
       "{'family': 'Times New Roman',\n",
       " 'size': 20,\n",
       " 'weight': 'bold',\n",
       " 'slant': 'italic',\n",
       " 'underline': 0,\n",
       " 'overstrike': 0}"
      ]
     },
     "execution_count": 63,
     "metadata": {},
     "output_type": "execute_result"
    }
   ],
   "source": [
    "new_font.actual()"
   ]
  },
  {
   "cell_type": "markdown",
   "id": "worst-whale",
   "metadata": {},
   "source": [
    "As you can see that we have made a copy of the `new_font` object and we have verified it by printing them. now we will modify the font1 object"
   ]
  },
  {
   "cell_type": "code",
   "execution_count": 64,
   "id": "express-validation",
   "metadata": {},
   "outputs": [
    {
     "data": {
      "text/plain": [
       "{'family': 'Lucida Console',\n",
       " 'size': 34,\n",
       " 'weight': 'bold',\n",
       " 'slant': 'roman',\n",
       " 'underline': 0,\n",
       " 'overstrike': 0}"
      ]
     },
     "execution_count": 64,
     "metadata": {},
     "output_type": "execute_result"
    }
   ],
   "source": [
    "font1.configure(family=\"Lucida Console\", size=34, slant='roman')\n",
    "font1.actual()"
   ]
  },
  {
   "cell_type": "code",
   "execution_count": 65,
   "id": "bright-spending",
   "metadata": {},
   "outputs": [
    {
     "data": {
      "text/plain": [
       "{'family': 'Times New Roman',\n",
       " 'size': 20,\n",
       " 'weight': 'bold',\n",
       " 'slant': 'italic',\n",
       " 'underline': 0,\n",
       " 'overstrike': 0}"
      ]
     },
     "execution_count": 65,
     "metadata": {},
     "output_type": "execute_result"
    }
   ],
   "source": [
    "new_font.actual()"
   ]
  },
  {
   "cell_type": "markdown",
   "id": "proprietary-drama",
   "metadata": {},
   "source": [
    "Now you can see that we have modified the font1 object and it is defferent from the new_font object.\n",
    "\n",
    "**5. measure() fucntion**\n",
    "\n",
    "This method takes the stering as an argument and it will return the number of pixels of width that string will takes in the font."
   ]
  },
  {
   "cell_type": "code",
   "execution_count": 66,
   "id": "naked-dress",
   "metadata": {},
   "outputs": [
    {
     "data": {
      "text/plain": [
       "336"
      ]
     },
     "execution_count": 66,
     "metadata": {},
     "output_type": "execute_result"
    }
   ],
   "source": [
    "font1.measure(\"Manish Kumar\")"
   ]
  },
  {
   "cell_type": "code",
   "execution_count": 67,
   "id": "favorite-mapping",
   "metadata": {},
   "outputs": [
    {
     "data": {
      "text/plain": [
       "173"
      ]
     },
     "execution_count": 67,
     "metadata": {},
     "output_type": "execute_result"
    }
   ],
   "source": [
    "new_font.measure(\"Manish Kumar\")"
   ]
  },
  {
   "cell_type": "markdown",
   "id": "bottom-french",
   "metadata": {},
   "source": [
    "Now you can see that both font style object takes different pixels to show the given string on the display.\n",
    "\n",
    "**6. metrics() function**\n",
    "\n",
    "if you call this method with no arguments it returns a dictionary of all the font metrics. you can retrieve the value of just one metric by passing its name as an argument.\n",
    "\n",
    "`Metrics includes:`\n",
    "* ascent: Number of picles of height b/w the baseline and the toop of the highest ascender.\n",
    "* decent: Number of piixels of height b/w the baseline and the bottom of the lowest ascender.\n",
    "* fixed : This value is 0 for a variable-width font 1 for a monospaced font.\n",
    "* linespace: Number of pixels of height total. This is the leading of type set solid in the given font."
   ]
  },
  {
   "cell_type": "code",
   "execution_count": 68,
   "id": "concerned-wrist",
   "metadata": {},
   "outputs": [
    {
     "data": {
      "text/plain": [
       "{'ascent': 25, 'descent': 6, 'linespace': 31, 'fixed': 0}"
      ]
     },
     "execution_count": 68,
     "metadata": {},
     "output_type": "execute_result"
    }
   ],
   "source": [
    "# metrics of the new_font object\n",
    "new_font.metrics()"
   ]
  },
  {
   "cell_type": "code",
   "execution_count": 69,
   "id": "electrical-harrison",
   "metadata": {},
   "outputs": [
    {
     "data": {
      "text/plain": [
       "{'ascent': 36, 'descent': 9, 'linespace': 45, 'fixed': 1}"
      ]
     },
     "execution_count": 69,
     "metadata": {},
     "output_type": "execute_result"
    }
   ],
   "source": [
    "font1.metrics()"
   ]
  },
  {
   "cell_type": "markdown",
   "id": "rapid-telescope",
   "metadata": {},
   "source": [
    "Now we will can the our window and we will see that how our font is displayed."
   ]
  },
  {
   "cell_type": "code",
   "execution_count": 75,
   "id": "adjacent-latitude",
   "metadata": {},
   "outputs": [],
   "source": [
    "root = tk.Tk()\n",
    "\n",
    "# making the font \n",
    "new_font = tkFont.Font(root , font=('Lucida Console', '12'))\n",
    "new_font.configure(family=\"Times New Roman\" , size=\"20\", weight='bold', slant='italic')\n",
    "font1 = new_font.copy()\n",
    "font1.configure(family=\"Lucida Console\", size=34, slant='roman')\n",
    "\n",
    "Label1 = tk.Label(root, text=\"Times New Roman\").grid(row=0, column=0)\n",
    "Entry1 = tk.Entry(root, font=new_font).grid(row=0, column=1, padx=20, pady=20)\n",
    "\n",
    "Label2 = tk.Label(root, text=\"Lucida Console\").grid(row=1, column=0)\n",
    "Entry2 = tk.Entry(root, font=font1).grid(row=1, column=1, padx=20, pady=20)\n",
    "\n",
    "root.mainloop()"
   ]
  },
  {
   "cell_type": "markdown",
   "id": "sixth-consensus",
   "metadata": {},
   "source": [
    "**output**"
   ]
  },
  {
   "cell_type": "markdown",
   "id": "smart-table",
   "metadata": {},
   "source": [
    "<img src=\"./Tutorial Images/font style 3.png\">"
   ]
  },
  {
   "cell_type": "code",
   "execution_count": null,
   "id": "daily-perception",
   "metadata": {},
   "outputs": [],
   "source": []
  }
 ],
 "metadata": {
  "kernelspec": {
   "display_name": "Python 3",
   "language": "python",
   "name": "python3"
  },
  "language_info": {
   "codemirror_mode": {
    "name": "ipython",
    "version": 3
   },
   "file_extension": ".py",
   "mimetype": "text/x-python",
   "name": "python",
   "nbconvert_exporter": "python",
   "pygments_lexer": "ipython3",
   "version": "3.8.3"
  }
 },
 "nbformat": 4,
 "nbformat_minor": 5
}
