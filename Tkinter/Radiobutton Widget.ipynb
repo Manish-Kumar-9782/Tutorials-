{
 "cells": [
  {
   "cell_type": "markdown",
   "id": "sized-appraisal",
   "metadata": {},
   "source": [
    "#### Radiobutton widget\n",
    "\n",
    "Radiobuttions are sets of related widgets that allow the user to select only one of a set of choices. Each radiobutton consists of two parts, the indicator and the label:\n",
    "\n",
    "* The label is the text, although you can use an image or bitmap as the label.\n",
    "* if you prefer, you can dispense with the indiactor. this makes the raiobuttons look like \"push-push\" buttons, with the selected entry appearing sunken and the rest appearing raised.\n",
    "* To form several radiobuttons into a functonal group create a single control variable, and set the variable options of each radiobuttons to that variable.\n",
    "    - The control variable can be either and IntVar or a StringVar if two or more radiobuttons sare the same dcomtrol variable, setting any  of them will clear the others.. \n",
    "* Each radiobutton in a group must have a unique option of the same type as the control variable :\n",
    "    - For example, a group of three radiobutton might share an _IntVar_ and have values of 0,1 and 99. Or you can use a _StringVar_ control varable and give the value options like 'too hot', 'too cold', and 'just right'.\n",
    "    \n",
    "To crate a new radiobuttn widget as the child of a root window or frame named parent:\n",
    "```ruby\n",
    "RB = tk.Radiobutton(parent, options.....)\n",
    "```\n"
   ]
  },
  {
   "cell_type": "markdown",
   "id": "bridal-elder",
   "metadata": {},
   "source": [
    "**Radiobutton contains These optons**\n",
    "\n",
    "`Comman options:`\n",
    " * anchor          \n",
    " * bg or background \n",
    "* bitmap \n",
    "* fg or foreground\n",
    "* corsor\n",
    "* font\n",
    "* bd or borderwidth\n",
    "* height and width\n",
    "* disabledforeground\n",
    "* highlightbackground\n",
    "* highlightcolor\n",
    "* highlightthickness\n",
    "* image\n",
    "* justify\n",
    "* padx and pady\n",
    "* relief\n",
    "* state\n",
    "* takefocus\n",
    "* text \n",
    "* textvariable\n",
    "\n",
    "`Additional options:`\n",
    "* activebackground\n",
    "* activeforeground\n",
    "* command\n",
    "* compound\n",
    "* indicatoron\n",
    "* offrelief \n",
    "* overrelief\n",
    "* selectimage\n",
    "* selectcolor\n",
    "* underline\n",
    "* value\n",
    "* variable\n",
    "* wraplength\n",
    "\n",
    "`options are used in button and checkbutton:`\n",
    "* activebackground and activeforeground \n",
    "* command\n",
    "* compound\n",
    "* indicatoron\n",
    "* offrelief\n",
    "* overrelief\n",
    "* underline\n",
    "* variable\n",
    "* wraplength\n",
    "* value\n",
    "* selectimage\n",
    "* selectcolor\n",
    "\n",
    "From above options we can say that most options are common and additional options are same as uesed in the button and the Check button So we dont need to perform extra task here for each option. To see the effect of the additional option please see the `Checkbutton widget` tutorial.\n",
    "\n",
    "##### Methods of the Radiobuttons\n",
    "\n",
    "* deselect()\n",
    "* flash()\n",
    "* invoke()\n",
    "* select()\n",
    "\n",
    "See the full reference in the reference pdf."
   ]
  },
  {
   "cell_type": "markdown",
   "id": "interim-mother",
   "metadata": {},
   "source": [
    "***Improting tkinter***"
   ]
  },
  {
   "cell_type": "code",
   "execution_count": 2,
   "id": "educational-wallace",
   "metadata": {},
   "outputs": [],
   "source": [
    "import tkinter as tk"
   ]
  },
  {
   "cell_type": "markdown",
   "id": "democratic-bridge",
   "metadata": {},
   "source": [
    "#### Creating a root window"
   ]
  },
  {
   "cell_type": "code",
   "execution_count": 4,
   "id": "coupled-dimension",
   "metadata": {},
   "outputs": [],
   "source": [
    "# Now we will create the root window\n",
    "\n",
    "root = tk.Tk()\n",
    "\n",
    "root.title(\"Radiobuttons Tutorial\")\n",
    "root.geometry(\"300x300\")\n",
    "root.iconbitmap(\"./bitmap icons/home.ico\")\n",
    "#--------------------------------------------------------------------------------------------------------------------\n",
    "\n",
    "    # here we will put the radiobuttons statements \n",
    "\n",
    "#--------------------------------------------------------------------------------------------------------------------\n",
    "\n",
    "\n",
    "root.mainloop()"
   ]
  },
  {
   "cell_type": "markdown",
   "id": "convinced-valuable",
   "metadata": {},
   "source": [
    "#### Creating a simple Radiobutton"
   ]
  },
  {
   "cell_type": "code",
   "execution_count": 7,
   "id": "oriented-psychology",
   "metadata": {},
   "outputs": [],
   "source": [
    "# Now we will create the root window\n",
    "\n",
    "root = tk.Tk()\n",
    "\n",
    "root.title(\"Radiobuttons Tutorial\")\n",
    "root.geometry(\"300x300\")\n",
    "root.iconbitmap(\"./bitmap icons/home.ico\")\n",
    "#--------------------------------------------------------------------------------------------------------------------\n",
    "\n",
    "    #Now we will create a radiobutton widget object\n",
    "    \n",
    "    # we need a Text varable also\n",
    "\n",
    "Var = tk.StringVar()\n",
    "    \n",
    "rb1 = tk.Radiobutton(root, text = \"options 1\" , variable = Var)\n",
    "rb1.pack(pady = 10)\n",
    "\n",
    "rb2 = tk.Radiobutton(root, text = \"options 2\" , variable = Var)\n",
    "rb2.pack(pady = 10)\n",
    "\n",
    "rb2 = tk.Radiobutton(root, text = \"options 3\" , variable = Var)\n",
    "rb2.pack(pady = 10)\n",
    "\n",
    "rb2 = tk.Radiobutton(root, text = \"options 4\" , variable = Var)\n",
    "rb2.pack(pady = 10)\n",
    "\n",
    "\n",
    "\"\"\"\n",
    "    Result: Now we have created a and packed the tk.Radiobutton() but it is still some control over the selection in this we need to use \n",
    "            some other options like command and control variable. In next cell we will see the control over the selection.\n",
    "    \n",
    "\"\"\"\n",
    "\n",
    "#--------------------------------------------------------------------------------------------------------------------\n",
    "\n",
    "\n",
    "root.mainloop()"
   ]
  },
  {
   "cell_type": "markdown",
   "id": "judicial-premium",
   "metadata": {},
   "source": [
    "#### Creating a Radiobutton with some Control"
   ]
  },
  {
   "cell_type": "code",
   "execution_count": 4,
   "id": "religious-mounting",
   "metadata": {},
   "outputs": [
    {
     "name": "stdout",
     "output_type": "stream",
     "text": [
      "slected  1\n",
      "slected  2\n",
      "slected  3\n",
      "slected  4\n"
     ]
    }
   ],
   "source": [
    "# Now we will create the root window\n",
    "\n",
    "root = tk.Tk()\n",
    "\n",
    "root.title(\"Radiobuttons Tutorial\")\n",
    "root.geometry(\"300x300\")\n",
    "root.iconbitmap(\"./bitmap icons/home.ico\")\n",
    "#--------------------------------------------------------------------------------------------------------------------\n",
    "\n",
    "    #Now we will create a radiobutton widget object\n",
    "    \n",
    "    # we need a Text varable also\n",
    "    \n",
    "def select():\n",
    "    \n",
    "    print(\"slected \",Var.get())\n",
    "\n",
    "Var = tk.IntVar() # This variable will control will hold values of the selected option\n",
    "    \n",
    "rb1 = tk.Radiobutton(root, text = \"options 1\" , variable = Var , value = 1 , command = select)\n",
    "rb1.pack(pady = 10)\n",
    "\n",
    "rb2 = tk.Radiobutton(root, text = \"options 2\" , variable = Var , value = 2 , command = select)\n",
    "rb2.pack(pady = 10)\n",
    "\n",
    "rb2 = tk.Radiobutton(root, text = \"options 3\" , variable = Var , value = 3 , command = select)\n",
    "rb2.pack(pady = 10)\n",
    "\n",
    "rb2 = tk.Radiobutton(root, text = \"options 4\" , variable = Var , value = 4 , command = select)\n",
    "rb2.pack(pady = 10)\n",
    "\n",
    "# Now the thing is we have to use 4 things to make a usable radiobutton:\n",
    "    \n",
    "    # 1. text: In this we need to give the name of the option (value should be unique)\n",
    "    # 2. variable: This will control the value which is returned by the selected option, the value is given in value option.\n",
    "    # 3. value: In this we will give the values to the option which is holds by the variable option. this value is the key \n",
    "                # whcih allows choose the single option any of them in behind the scene.\n",
    "    # 4. command: command takes a function, this function holds the statements which is should called when the option is selected.\n",
    "        \n",
    "\n",
    "\n",
    "\"\"\"\n",
    "    Result: Now we have created a and packed the tk.Radiobutton() but it is still some control over the selection in this we need to use \n",
    "            some other options like command and control variable. In next cell we will see the control over the selection.\n",
    "    \n",
    "\"\"\"\n",
    "\n",
    "#--------------------------------------------------------------------------------------------------------------------\n",
    "\n",
    "\n",
    "root.mainloop()"
   ]
  },
  {
   "cell_type": "code",
   "execution_count": null,
   "id": "technological-register",
   "metadata": {},
   "outputs": [],
   "source": []
  }
 ],
 "metadata": {
  "kernelspec": {
   "display_name": "Python 3",
   "language": "python",
   "name": "python3"
  },
  "language_info": {
   "codemirror_mode": {
    "name": "ipython",
    "version": 3
   },
   "file_extension": ".py",
   "mimetype": "text/x-python",
   "name": "python",
   "nbconvert_exporter": "python",
   "pygments_lexer": "ipython3",
   "version": "3.8.3"
  }
 },
 "nbformat": 4,
 "nbformat_minor": 5
}
