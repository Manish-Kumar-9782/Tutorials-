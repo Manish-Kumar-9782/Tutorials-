{
 "cells": [
  {
   "cell_type": "markdown",
   "id": "metric-junction",
   "metadata": {},
   "source": [
    "## Entry Widget\n",
    "\n",
    "The purpose of an Entry widger is to let the user see and modify a single line of text.\n",
    "\n",
    "Typically the selection is made by the user with the mouse, and selected thext is copied to the system's clopborrd. However, Tkinter allows yoou to control whether or not selected text gets copoied to the clipboard. you can also select thex in an Entry under program control.\n",
    "\n",
    "The _insertion cursor_ shows wher new text will be inserted. it is displayed only when the user clicks the mouse somewhere in the widget. it usually appears as blinking vertical line inside the widget. You acn customize its appearance in several ways.\n",
    "\n",
    "Position within the widget's displayed text are given as an index. There are several ways to to specify an index\n",
    "* As normal python indexes, starting form the 0.\n",
    "* The constand tk.END refers to the position after the existing text.\n",
    "* The xonstant tk.INSERT refers to the current position of the insertion cursor.\n",
    "* The constant tk.ANCHOR refers to the first character of the selection, if there is a selection.\n",
    "\n",
    "To create an Entry Widget first we need to import the module `Tkinter`"
   ]
  },
  {
   "cell_type": "code",
   "execution_count": 1,
   "id": "amateur-crisis",
   "metadata": {},
   "outputs": [],
   "source": [
    "import tkinter as tk"
   ]
  },
  {
   "cell_type": "markdown",
   "id": "amino-indicator",
   "metadata": {},
   "source": [
    "Now we need to make a main window in which we will create and pack the Entery Widget.\n",
    "\n",
    "#### 1. Simple Entry Widget"
   ]
  },
  {
   "cell_type": "code",
   "execution_count": 11,
   "id": "impossible-running",
   "metadata": {},
   "outputs": [],
   "source": [
    "root = tk.Tk()\n",
    "\n",
    "# congiguring the main window\n",
    "\n",
    "# Resizing the main window\n",
    "root.geometry(\"600x400\")\n",
    "\n",
    "# making the title of the window\n",
    "root.title(\"Entry widget\")\n",
    "\n",
    "# this is the Entry widger defination\n",
    "Entry1 = tk.Entry(root) \n",
    "Entry1.pack()\n",
    "\n",
    "\n",
    "# making the infinite loop for the mainwindow\n",
    "root.mainloop()"
   ]
  },
  {
   "cell_type": "markdown",
   "id": "professional-theater",
   "metadata": {},
   "source": [
    "This is the simplest entry widget which is packed by used the pack geometry layout.\n",
    "\n",
    "`tk.Entry(root)`: This is the simplest defination of the Entry widget in which we just defined that _Entry1_ is our Entry widget and the master window is the root in which we will display this Entry widget. The position of the Entry Widget can be defined by using the pack,grid or place geometry system."
   ]
  },
  {
   "cell_type": "markdown",
   "id": "corrected-comment",
   "metadata": {},
   "source": [
    "#### 2. Entry widget Options part 1\n",
    "\n",
    "We will see the different kind of option of the Entry widget in the different section. In this section we will see:\n",
    "\n",
    "*  background \n",
    "*  borderwidth\n",
    "*  foreground\n",
    "*  font\n",
    "* disablebackground\n",
    "* disableforeground\n",
    "* state"
   ]
  },
  {
   "cell_type": "code",
   "execution_count": 13,
   "id": "advisory-eclipse",
   "metadata": {},
   "outputs": [],
   "source": [
    "root = tk.Tk()\n",
    "\n",
    "# congiguring the main window\n",
    "\n",
    "# Resizing the main window\n",
    "root.geometry(\"600x400\")\n",
    "\n",
    "# making the title of the window\n",
    "root.title(\"Entry widget Options part 1\")\n",
    "\n",
    "# Now we will use the Label widget with the Entry widget so we can show that Which Entry is used for what?\n",
    "Labelconfig = {\"justify\":tk.LEFT}\n",
    "\n",
    "# For each Entry we will use seperate Label\n",
    "\n",
    "# Background\n",
    "# we need to specify the background property inside the Entry widget arguments\n",
    "Label1 = tk.Label(root, text=\"Background effect of the Entry\").grid(row=0, column=0)\n",
    "Entry1 = tk.Entry(root, background='red',foreground='white', text=\"hello world\").grid(row=0, column=1,padx=15)\n",
    "\n",
    "\n",
    "# Borderwidth\n",
    "# Now we will specify the foreground property of the Entry widget\n",
    "Label2 = tk.Label(root, text=\"Borderwidth effect of the Entry\").grid(row=1, column=0)\n",
    "Entry2 = tk.Entry(root,bd=10 , text='Hello' ).grid(row=1, column=1,padx=15)\n",
    "\n",
    "# Foreground\n",
    "#  Here you can defiend the text color of the Entry\n",
    "Label3 = tk.Label(root, text=\"Foreground effect of the Entry\").grid(row=2, column=0)\n",
    "Entry3 = tk.Entry(root, foreground=\"blue\").grid(row=2, column=1,padx=15)\n",
    "\n",
    "# Font\n",
    "# Here we will define the font of the text dispayed in the Entry widget\n",
    "# you can change the style of the font here\n",
    "Label4 = tk.Label(root, text=\"Font of the Entry\").grid(row=3, column=0)\n",
    "Entry4 = tk.Entry(root , font=('Times', '24','bold')).grid(row=3, column=1,padx=15)\n",
    "\n",
    "\n",
    "# Disable-Background\n",
    "# Disable the background color of the entry widget\n",
    "Label5 = tk.Label(root, text=\"DisableBackground effect of the Entry\").grid(row=4, column=0)\n",
    "Entry5 = tk.Entry(root , state=tk.DISABLED).grid(row=4, column=1,padx=15)\n",
    "\n",
    "\n",
    "# Disable-Foreground \n",
    "# Disable the forground of the Entry widget in this we will not change the color of the text\n",
    "Label6 = tk.Label(root, text=\"DisableForeground effect of the Entry\").grid(row=5, column=0)\n",
    "Entry6 = tk.Entry(root , state=tk.DISABLED).grid(row=5, column=1,padx=15)\n",
    "\n",
    "\n",
    "\n",
    "# making the infinite loop for the mainwindow\n",
    "root.mainloop()"
   ]
  },
  {
   "cell_type": "markdown",
   "id": "latter-summit",
   "metadata": {},
   "source": [
    "**output**\n",
    "\n",
    "<img src=\"./Tutorial Images/Entry widget 1.png\">"
   ]
  },
  {
   "cell_type": "markdown",
   "id": "solar-vegetation",
   "metadata": {},
   "source": [
    "`Explanation:`\n",
    "\n",
    "* Entry 1: we made the background color as red and the text color as white by using the foreground property.\n",
    "* Entry 2: In this we changed the border width of the Entry widget.\n",
    "* Entry 3: In this we just changed the font color as blue by using the foreground property.\n",
    "* Entry 4: In this Entry we changed the font style by given a tuple with some vlaues to the font argument.\n",
    "* Entry 5: This Entry is disabled.\n",
    "* Entry 6: This Entry is disabled. In both of them we cant make any user input becaues both are disabled by given the `state=tk.DISABLED` property.\n",
    "\n"
   ]
  },
  {
   "cell_type": "code",
   "execution_count": null,
   "id": "together-trigger",
   "metadata": {},
   "outputs": [],
   "source": []
  }
 ],
 "metadata": {
  "kernelspec": {
   "display_name": "Python 3",
   "language": "python",
   "name": "python3"
  },
  "language_info": {
   "codemirror_mode": {
    "name": "ipython",
    "version": 3
   },
   "file_extension": ".py",
   "mimetype": "text/x-python",
   "name": "python",
   "nbconvert_exporter": "python",
   "pygments_lexer": "ipython3",
   "version": "3.8.3"
  }
 },
 "nbformat": 4,
 "nbformat_minor": 5
}
