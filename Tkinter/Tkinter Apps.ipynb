{
 "cells": [
  {
   "cell_type": "markdown",
   "id": "renewable-verification",
   "metadata": {},
   "source": [
    "# Tkinter Apps\n",
    "In this section we will make some small apps and their requirments with step by steps."
   ]
  },
  {
   "cell_type": "markdown",
   "id": "printable-interaction",
   "metadata": {},
   "source": [
    "## 1. Clock App\n",
    "In this app tutorial we will see that how we can make a simple clock with the tkinter using the time module of the python. in this tutorial we will see the strftime() funtion to get the local current time. but for that we first need to import the time module. "
   ]
  },
  {
   "cell_type": "code",
   "execution_count": 2,
   "id": "announced-cross",
   "metadata": {},
   "outputs": [],
   "source": [
    "import time\n",
    "import tkinter as tk # for GUI application"
   ]
  },
  {
   "cell_type": "markdown",
   "id": "settled-pitch",
   "metadata": {},
   "source": [
    "Now in this time module we need to use the strftime() method to get the each and individual part of the time lik hour, minut, second. Look in the python time document for the character field to use the formated string.\n",
    "\n",
    "In this we will use:\\\n",
    "`%H`: Hour (24-hour clock) as a decimal number [00,23]\\\n",
    "`%I`: Hour (12-hour clock) as a decimal nunber [01,12]\\\n",
    "`%M`: Munute as a decimal number [00,59]\\\n",
    "`%p`: Local's equivalent of either AM or PM\\\n",
    "`%S`: Second as a decimal number [00,61]\n",
    "\n",
    "Now we need to make a root window in which we can put the clock values."
   ]
  },
  {
   "cell_type": "code",
   "execution_count": 14,
   "id": "automotive-plant",
   "metadata": {},
   "outputs": [],
   "source": [
    "# making the root window\n",
    "root  = tk.Tk()\n",
    "# main root window \n",
    "root.title(\"Local clock\")\n",
    "root.geometry(\"600x200\")\n",
    "\n",
    "# now here we can define our time Label to show the time.\n",
    "Time = tk.Label(root, bg = '#575348', fg='white', font = ('sarif', 50, 'bold') , text = time.strftime(\"%I:%M:%S  %p\"))\n",
    "Time.pack(pady = 60)\n",
    "\n",
    "# here in this we just made some configuration for the Time label object\n",
    "# now we need to make a function which will do the main work of the time\n",
    "\n",
    "def clock():\n",
    "    \n",
    "    # now this method will do the real work to run the clock\n",
    "    # This method will get the current time (in real time sync) and it will show on the label\n",
    "    # Now we need to use the strftime() method by using the character fields\n",
    "    # We wil use the %I for a 12 hour clock\n",
    "    current_time = time.strftime(\"%I:%M:%S  %p\")\n",
    "    # now this will returns a string of time in this format Hour : Minute : Second  \n",
    "    \n",
    "    # Now this current time string need to be passed in the Time label's text parametrs to update the time continuously.\n",
    "    Time.config(text = current_time)\n",
    "    # now to update the time in every second we need to use the w.after() method to re-run the clock mehtod.\n",
    "    Time.after(1, clock)\n",
    "    \n",
    "# Now outside the clock function we need to call the clock method to initoate our clock\n",
    "clock()\n",
    "\n",
    "# in this we just delayed the loop by 1 milisecond so it can update time like real time.\n",
    "\n",
    "root.mainloop()"
   ]
  },
  {
   "cell_type": "markdown",
   "id": "matched-coordinator",
   "metadata": {},
   "source": [
    "Now we have completed our first tutorial related to the time (clock time) we can add more things in this clock like current date with moth and year in date format.\n",
    "date format: `9-may-2021 sunday`\n",
    "\n",
    "To show this kind of format we can use `time.strftime(\"%d-%b-%Y  %A\")` in above code."
   ]
  },
  {
   "cell_type": "markdown",
   "id": "oriented-baker",
   "metadata": {},
   "source": [
    "### 1.2 Clock App With Date Format\n",
    "\n",
    "In this we just need to define the date format inside the clock function and also we need a separate lable of the Date format"
   ]
  },
  {
   "cell_type": "code",
   "execution_count": 31,
   "id": "toxic-tourist",
   "metadata": {},
   "outputs": [],
   "source": [
    "# making the root window\n",
    "root  = tk.Tk()\n",
    "# main root window \n",
    "root.title(\"Local clock\")\n",
    "root.geometry(\"600x300\")\n",
    "\n",
    "# now here we can define our time Label to show the time.\n",
    "Time = tk.Label(root, bg = '#575348', fg='white', font = ('sarif', 50, 'bold') , text = time.strftime(\"%I:%M:%S  %p\"))\n",
    "Time.pack(pady = (60,10))\n",
    "\n",
    "# here we will define the Date format label\n",
    "Date = tk.Label(root, fg='#261e82', font = ('sarif', 20, 'bold') , text = time.strftime(\"%d-%b-%Y  %A\"))\n",
    "Date.pack()\n",
    "\n",
    "# here in this we just made some configuration for the Time label object\n",
    "# now we need to make a function which will do the main work of the time\n",
    "\n",
    "def clock():\n",
    "    \n",
    "    # now this method will do the real work to run the clock\n",
    "    # This method will get the current time (in real time sync) and it will show on the label\n",
    "    # Now we need to use the strftime() method by using the character fields\n",
    "    # We wil use the %I for a 12 hour clock\n",
    "    current_time = time.strftime(\"%I:%M:%S  %p\")\n",
    "    current_date = time.strftime(\"%d-%b-%Y  %A\")\n",
    "    # now this will returns a string of time in this format Hour : Minute : Second  \n",
    "    \n",
    "    # Now this current time string need to be passed in the Time label's text parametrs to update the time continuously.\n",
    "    Time.config(text = current_time)\n",
    "    # now with this we need to update the date also\n",
    "    Date.config(text = current_date)\n",
    "    # now to update the time in every second we need to use the w.after() method to re-run the clock mehtod.\n",
    "    Time.after(1, clock)\n",
    "    \n",
    "# Now outside the clock function we need to call the clock method to initoate our clock\n",
    "clock()\n",
    "\n",
    "# in this we just delayed the loop by 1 milisecond so it can update time like real time.\n",
    "\n",
    "root.mainloop()"
   ]
  },
  {
   "cell_type": "markdown",
   "id": "japanese-alcohol",
   "metadata": {},
   "source": [
    "As you can see that with a small modification we can make a simple clock we can add more functionallity to record the Database with time stamps.\n",
    "\n",
    "---"
   ]
  },
  {
   "cell_type": "markdown",
   "id": "municipal-auckland",
   "metadata": {},
   "source": [
    "## 2. Timer App\n",
    "\n",
    "Now in this section we will see a timer app with the help of the time module. in previous section we have seen a real time clock but in this secion we will make a timer App in which we will make a forward timer (stopwatch) and a backward timer (countdown timer).\n",
    "\n",
    "### 2.1 Stopwatch timer \n",
    "First of all we will se a stop watch timer, in this we will only use a second property of  the time.strftime() method."
   ]
  },
  {
   "cell_type": "code",
   "execution_count": 10,
   "id": "cellular-tracker",
   "metadata": {},
   "outputs": [
    {
     "name": "stdout",
     "output_type": "stream",
     "text": [
      "One Minute is completed\n",
      "One Minute is completed\n"
     ]
    }
   ],
   "source": [
    "# To make a timer we need to make a root window\n",
    "import tkinter as tk\n",
    "import time\n",
    "\n",
    "root = tk.Tk()\n",
    "root.title(\"Stopwatch timer\")\n",
    "root.geometry(\"600x300\")\n",
    "\n",
    "# now here we need to make a label to show the timer.\n",
    "Timer = tk.Label(root, bg = '#575348', fg='white', font = ('sarif', 50, 'bold'), text = \"00:00:00\")\n",
    "Timer.pack(pady = 60)\n",
    "\n",
    "# Now we need to initiate the second to get the current running second \n",
    "init_sec = time.time()\n",
    "# Now this initial sec will be used to reset the second and it will help us to restart the second from zero\n",
    "Hour = int()\n",
    "Min = int()\n",
    "Sec = int()\n",
    "\n",
    "def show_timer():\n",
    "    global init_sec, Hour, Min , Sec\n",
    "    # now to make a timer we need to define hr,min,sec variable\n",
    "    Sec = abs(int(time.time()) - int(init_sec))\n",
    "    \n",
    "    if Sec == 60:\n",
    "        init_sec = time.time()\n",
    "        #print(\"One Minute is completed\")\n",
    "        Min +=1\n",
    "        \n",
    "    if Min == 60:\n",
    "        # here if 60 minutes are completed then we need to increase the \n",
    "        #print(\"One hour/60 min is completed.\")\n",
    "        Min = 0\n",
    "        Hour +=1\n",
    "        \n",
    "    #print(f\"{Hour}:{Min}:{Sec}\")\n",
    "    # Now we will configure the Timer label with the Timer\n",
    "    # To display the number with 2-digits we need to apply the digit leading formating by using f\"{int:02d}\" in f string formatting.\n",
    "    Timer.config(text =f\"{Hour:02d}:{Min:02d}:{Sec:02d}\")\n",
    "    root.after(999, show_timer)\n",
    "\n",
    "show_timer()\n",
    "    \n",
    "root.mainloop()"
   ]
  },
  {
   "cell_type": "markdown",
   "id": "coordinated-opposition",
   "metadata": {},
   "source": [
    "### 2.2 Countdown timer\n",
    "Now after making the stopwatch timer we will see that how can we make a countdown timer, in this we need to Provide the time and then we need to reduce the time as it goes on."
   ]
  },
  {
   "cell_type": "code",
   "execution_count": 82,
   "id": "grand-cincinnati",
   "metadata": {},
   "outputs": [],
   "source": [
    "# this function will be used to convert the seconds into the hr:min:sec format\n",
    "# we have used the artimatic modular to convert the sec---> hr:min:sec format.\n",
    "def sec_hr(time):\n",
    "    hour,minute,sec = int(),int(),int()\n",
    "    \n",
    "    sec = time%60\n",
    "    \n",
    "    if sec == 0:\n",
    "        minute = time//60\n",
    "        \n",
    "        if minute%60 == 0:\n",
    "            hour = minute//60\n",
    "            minute = minute%60\n",
    "        else:\n",
    "            hour = (minute - minute%60)//60\n",
    "            minute = minute%60\n",
    "            \n",
    "            \n",
    "    else:\n",
    "        minute = (time-sec)//60\n",
    "        \n",
    "        if minute%60 == 0:\n",
    "            hour = minute//60\n",
    "            minute = minute%60\n",
    "        else:\n",
    "            hour = (minute - minute%60)//60\n",
    "            minute = minute%60\n",
    "            \n",
    "    return hour,minute,sec"
   ]
  },
  {
   "cell_type": "code",
   "execution_count": 95,
   "id": "thermal-patent",
   "metadata": {},
   "outputs": [
    {
     "name": "stdin",
     "output_type": "stream",
     "text": [
      "Countdown time:  01:00:00\n"
     ]
    }
   ],
   "source": [
    "# To make a timer we need to make a root window\n",
    "import tkinter as tk\n",
    "import time\n",
    "\n",
    "root = tk.Tk()\n",
    "root.title(\"Stopwatch timer\")\n",
    "root.geometry(\"600x300\")\n",
    "\n",
    "# now here we need to make a label to show the timer.\n",
    "Timer = tk.Label(root, bg = '#575348', fg='white', font = ('sarif', 50, 'bold'), text = \"00:00:00\")\n",
    "Timer.pack(pady = 60)\n",
    "\n",
    "# Now we need to initiate the second to get the current running second \n",
    "init_sec = time.time()\n",
    "# Now this initial sec will be used to reset the second and it will help us to restart the second from zero\n",
    "\n",
    "hour,minute,second = [int(i) for i in input(\"Countdown time: \").split(\":\")]\n",
    "\n",
    "seconds = hour*60*60 + minute*60 + second\n",
    "\n",
    "def countdown_timer():\n",
    "    # now her in this we need to make the count down for that we need current sec and init_sec\n",
    "    global seconds\n",
    "    \n",
    "    seconds -=1\n",
    "    \n",
    "    hour, minute,second = sec_hr(seconds)\n",
    "    # now here we need to minus the time\n",
    "    # if \n",
    "    Timer.config(text = f\"{hour:02d}:{minute:02d}:{second:02d}\")\n",
    "    #print(hour,minute,second)\n",
    "    root.after(1000, countdown_timer)\n",
    "#countdown_timer(H=timer[0], M=timer[1],S=timer[2])\n",
    "countdown_timer()\n",
    "    \n",
    "root.mainloop()"
   ]
  },
  {
   "cell_type": "code",
   "execution_count": null,
   "id": "beginning-order",
   "metadata": {},
   "outputs": [],
   "source": []
  },
  {
   "cell_type": "code",
   "execution_count": null,
   "id": "german-alignment",
   "metadata": {},
   "outputs": [],
   "source": []
  }
 ],
 "metadata": {
  "kernelspec": {
   "display_name": "Python 3",
   "language": "python",
   "name": "python3"
  },
  "language_info": {
   "codemirror_mode": {
    "name": "ipython",
    "version": 3
   },
   "file_extension": ".py",
   "mimetype": "text/x-python",
   "name": "python",
   "nbconvert_exporter": "python",
   "pygments_lexer": "ipython3",
   "version": "3.8.3"
  }
 },
 "nbformat": 4,
 "nbformat_minor": 5
}
