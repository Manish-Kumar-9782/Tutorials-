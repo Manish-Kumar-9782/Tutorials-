{
 "cells": [
  {
   "cell_type": "markdown",
   "id": "popular-integer",
   "metadata": {},
   "source": [
    "## The LabelFrame widget\n",
    "\n",
    "The **LabelFrame** widget, like the **Frame** widget, is a spatial container, a rectangular area that can contain other widgets. However, unlike the Frame widget, the LabelFrame widget allows you to display a label as part of the border around the area.\n",
    "\n",
    "To create a new LabelFrame widget inside a root window or frame parent:\n",
    "```ruby\n",
    "    LFrame = tk.LabelFrame(parent, options .....)\n",
    "```\n",
    "The LabelFrame also contains many options but many of them are common and some of them are additional.\n",
    "\n",
    "`Common options:`\n",
    "* bg or background\n",
    "* bd or borderwidth\n",
    "* cursor\n",
    "* fg or foreground\n",
    "* height and width\n",
    "* hightlightbackgrund\n",
    "* highlightcolor\n",
    "* hightlightthickness\n",
    "* padx and pandy\n",
    "* relief\n",
    "* takefocus\n",
    "* text\n",
    "\n",
    "`Additional options:`\n",
    "* labelanchor\n",
    "* labelwidget\n",
    "\n",
    "***labelanchor:*** Use this option to specify the position of the label on the widgets border. The default position is 'nw', which places the label at the left end of the top border. For the nine possible label positions. please see the tkinter reference.\n",
    "\n",
    "\n",
    "***labelwidget:*** Instead of a text label, you can use any widget as the label by passing that widget as the value of this option. if  you supply both labelwidget and _text_ options  the text option is ignored."
   ]
  },
  {
   "cell_type": "code",
   "execution_count": 1,
   "id": "trying-qualification",
   "metadata": {},
   "outputs": [],
   "source": [
    "import tkinter as tk"
   ]
  },
  {
   "cell_type": "code",
   "execution_count": 22,
   "id": "transparent-arrest",
   "metadata": {},
   "outputs": [],
   "source": [
    "# first of all we need a root window\n",
    "\n",
    "root = tk.Tk()\n",
    "\n",
    "root.title(\"mainwindow\")\n",
    "root.geometry(\"400x300\")\n",
    "\n",
    "#------------------\n",
    " # contant of the window\n",
    "#---------------------\n",
    "\n",
    "root.mainloop()"
   ]
  },
  {
   "cell_type": "markdown",
   "id": "alpine-agent",
   "metadata": {},
   "source": [
    "<img src = \"./Tutorial Images/LabelFrame 1.png\"  width = 400 height= 500 > "
   ]
  },
  {
   "cell_type": "markdown",
   "id": "complimentary-mexican",
   "metadata": {},
   "source": [
    "#### Making a LabelFrame \n",
    "\n",
    "Since we have a root or a parent window so we can make a _LabelFrame_ widget.\n",
    "\n",
    "This LabelFrame Tutorial will contains a seperate cell for a differnt additional feature so we can identify that which option doing what."
   ]
  },
  {
   "cell_type": "code",
   "execution_count": 33,
   "id": "central-courage",
   "metadata": {},
   "outputs": [],
   "source": [
    "# first of all we need a root window\n",
    "\n",
    "root = tk.Tk()\n",
    "\n",
    "root.title(\"mainwindow\")\n",
    "root.geometry(\"400x300\")\n",
    "\n",
    "#-------------------------------------------------------------------------------------------------------------------------------\n",
    " # now we will create a LabelFrame which is similar to creating a label and frame.\n",
    "    # In this we will use the some common option but we will not use any additional options.\n",
    "    \n",
    "window_1 = tk.LabelFrame(root, height=100, width = 150 , background = 'white')\n",
    "window_1.pack()\n",
    "    \n",
    "    \n",
    "# Here we have created and packed a LabelFrame but this label frame does not contain any thing yet\n",
    "    \n",
    "#-------------------------------------------------------------------------------------------------------------------------------\n",
    "\n",
    "root.mainloop()"
   ]
  },
  {
   "cell_type": "markdown",
   "id": "hispanic-arizona",
   "metadata": {},
   "source": [
    "<img src = \"./Tutorial Images/LabelFrame 2.png\"  width = 400 height= 500 > "
   ]
  },
  {
   "cell_type": "markdown",
   "id": "ahead-material",
   "metadata": {},
   "source": [
    "**Now we will add some label  text to the LabelFrame** "
   ]
  },
  {
   "cell_type": "code",
   "execution_count": 34,
   "id": "shared-continuity",
   "metadata": {},
   "outputs": [],
   "source": [
    "# first of all we need a root window\n",
    "\n",
    "root = tk.Tk()\n",
    "\n",
    "root.title(\"mainwindow\")\n",
    "root.geometry(\"400x300\")\n",
    "\n",
    "#-------------------------------------------------------------------------------------------------------------------------------\n",
    " # now we will create a LabelFrame which is similar to creating a label and frame.\n",
    "    # NOw we will add some more options like text\n",
    "    \n",
    "window_1 = tk.LabelFrame(root, height=100, width = 150 , background = 'white' , text = 'Hello! World')\n",
    "window_1.pack(pady=20)\n",
    "    \n",
    "# Added some padding in y direction inside the pack, so we can see the clearly    \n",
    "\n",
    "# Here we have created and packed a LabelFrame and addes some text which is displayed at the top left corner of the LabelFreame border.\n",
    "# This is the simplest form of the LabelFrame in which it contains A label for the current Frame and also we can put any widget inside\n",
    "# it.\n",
    "    \n",
    "#-------------------------------------------------------------------------------------------------------------------------------\n",
    "\n",
    "root.mainloop()"
   ]
  },
  {
   "cell_type": "markdown",
   "id": "digital-negative",
   "metadata": {},
   "source": [
    "<img src = \"./Tutorial Images/LabelFrame 3.png\"  width = 400 height= 500 > "
   ]
  },
  {
   "cell_type": "markdown",
   "id": "administrative-yesterday",
   "metadata": {},
   "source": [
    "**Adding some widget inside the LabelFrme**"
   ]
  },
  {
   "cell_type": "code",
   "execution_count": 37,
   "id": "failing-willow",
   "metadata": {},
   "outputs": [],
   "source": [
    "# first of all we need a root window\n",
    "\n",
    "root = tk.Tk()\n",
    "\n",
    "root.title(\"mainwindow\")\n",
    "root.geometry(\"400x300\")\n",
    "\n",
    "#-------------------------------------------------------------------------------------------------------------------------------\n",
    " # now we will create a LabelFrame which is similar to creating a label and frame.\n",
    "    # NOw we will add some more options like text\n",
    "    \n",
    "window_1 = tk.LabelFrame(root, height=100, width = 150 , background = 'white' , text = 'Hello! World')\n",
    "window_1.pack(pady=20)\n",
    "    \n",
    "\n",
    "# adding a label and Entry in the LabelFrame\n",
    "\n",
    "# adding a label\n",
    "# here the root window for the label will be 'window_1', Since we are creating the label inside the window_1 LabelFrame\n",
    "Label1 = tk.Label(window_1, text=\"This is the label\")\n",
    "Label1.pack(side=tk.LEFT)\n",
    "\n",
    "# adding an Entry widget \n",
    "# here also the root window for the Entry will be the 'window_1'\n",
    "Text = tk.StringVar() # text variable\n",
    "Text.set(\"This is the Entry widget\")\n",
    "Entry1 = tk.Entry(window_1, textvariable = Text)\n",
    "Entry1.pack(side = tk.LEFT, padx=10)\n",
    "\n",
    "\n",
    "# Now we have added one Label and one Entry widget inside the LabelFrame , Since this LabelFrame is similar to the Frame \n",
    "# So we dont need to add more extra feature inside this LabelFrame \n",
    "# if we want to add then we can add more widget by providing them LabeFrame's as the root window. \n",
    "#-------------------------------------------------------------------------------------------------------------------------------\n",
    "\n",
    "root.mainloop()"
   ]
  },
  {
   "cell_type": "markdown",
   "id": "geological-cradle",
   "metadata": {},
   "source": [
    "<img src = \"./Tutorial Images/LabelFrame 6.png\"  width = 400 height= 500 > "
   ]
  },
  {
   "cell_type": "markdown",
   "id": "embedded-criterion",
   "metadata": {},
   "source": [
    "**Adding the labelanchor**\n",
    "\n",
    "Now we will change the postion of the label or text which is placed on the LabelFrame border. we will change its position by using the _labelanchor_ option."
   ]
  },
  {
   "cell_type": "code",
   "execution_count": 38,
   "id": "fantastic-colony",
   "metadata": {},
   "outputs": [],
   "source": [
    "# first of all we need a root window\n",
    "\n",
    "root = tk.Tk()\n",
    "\n",
    "root.title(\"mainwindow\")\n",
    "root.geometry(\"400x300\")\n",
    "\n",
    "#-------------------------------------------------------------------------------------------------------------------------------\n",
    " # now we will create a LabelFrame which is similar to creating a label and frame.\n",
    "    # NOw we will add some more options like text\n",
    "    \n",
    "    # Chaning the label text positon\n",
    "window_1 = tk.LabelFrame(root, height=100, width = 150 , background = 'white' , text = 'Hello! World' , labelanchor = 'n')\n",
    "window_1.pack(pady=20)\n",
    "\n",
    "# we have provided it as north ('n'), we can give any value from below list\n",
    "\n",
    "# ['nw' , 'n' ,'ne', \n",
    "#  'wn' ,      'en'. \n",
    "#  'w' ,       'e', \n",
    "#  'ws',       'es', \n",
    "#  'sw', 's', 'se']\n",
    "\n",
    "# you can give the value to get the corresponding position.\n",
    "\n",
    "# adding a label and Entry in the LabelFrame\n",
    "\n",
    "# adding a label\n",
    "# here the root window for the label will be 'window_1', Since we are creating the label inside the window_1 LabelFrame\n",
    "Label1 = tk.Label(window_1, text=\"This is the label\")\n",
    "Label1.pack(side=tk.LEFT)\n",
    "\n",
    "# adding an Entry widget \n",
    "# here also the root window for the Entry will be the 'window_1'\n",
    "Text = tk.StringVar() # text variable\n",
    "Text.set(\"This is the Entry widget\")\n",
    "Entry1 = tk.Entry(window_1, textvariable = Text)\n",
    "Entry1.pack(side = tk.LEFT, padx=10)\n",
    "\n",
    "\n",
    "# Now we have added one Label and one Entry widget inside the LabelFrame , Since this LabelFrame is similar to the Frame \n",
    "# So we dont need to add more extra feature inside this LabelFrame \n",
    "# if we want to add then we can add more widget by providing them LabeFrame's as the root window. \n",
    "#-------------------------------------------------------------------------------------------------------------------------------\n",
    "\n",
    "root.mainloop()"
   ]
  },
  {
   "cell_type": "markdown",
   "id": "virgin-relation",
   "metadata": {},
   "source": [
    "<img src = \"./Tutorial Images/LabelFrame 4.png\"  width = 400 height= 500 > "
   ]
  },
  {
   "cell_type": "markdown",
   "id": "subtle-winter",
   "metadata": {},
   "source": [
    "**Adding  the labelwidget**\n",
    "\n",
    "Now we will use the labelwidget, if we use this then the text parameter would be ignored.\n",
    "\n",
    "labelwidget: this can contains any other widget to show on the border by replacing the text, we can show there a Entry, button, anther label etc"
   ]
  },
  {
   "cell_type": "code",
   "execution_count": 32,
   "id": "treated-variety",
   "metadata": {},
   "outputs": [],
   "source": [
    "# first of all we need a root window\n",
    "\n",
    "root = tk.Tk()\n",
    "\n",
    "root.title(\"mainwindow\")\n",
    "root.geometry(\"400x300\")\n",
    "\n",
    "    \n",
    "#-------------------------------------------------------------------------------------------------------------------------------\n",
    "    # here in this section we will add some wiget to show at the border of the LabelFrame.\n",
    "    \n",
    "# 1. creating a label\n",
    "# here we need to define the root window as the LabelFrame's parent window\n",
    "border_label = tk.Label(root, text=\"this is the label widget\" , background='blue')\n",
    "# we dont need to pack this border_label widget because it will be packed by using the window_1 LabelFrame.\n",
    "\n",
    "# 2. creating a Entry\n",
    "Text = tk.StringVar()\n",
    "Text.set(\"Hello! Manish\")\n",
    "border_entry = tk.Entry(root, textvariable = Text)\n",
    "\n",
    "# 3. Creating a button\n",
    "border_button = tk.Button(root, text=\"this is border's button\")\n",
    "\n",
    "#-------we can only use one lablewidget at time so if you want to check all of them you need ot put one at a time---------------\n",
    "\n",
    "window_1 = tk.LabelFrame(root, height=100, width = 150 , background = 'white' ,labelwidget = border_entry)\n",
    "window_1.pack(pady=20)\n",
    "\n",
    "# adding a label and Entry in the LabelFrame\n",
    "\n",
    "# adding a label\n",
    "# here the root window for the label will be 'window_1', Since we are creating the label inside the window_1 LabelFrame\n",
    "Label1 = tk.Label(window_1, text=\"This is the label\")\n",
    "Label1.pack(side=tk.LEFT)\n",
    "\n",
    "# adding an Entry widget \n",
    "# here also the root window for the Entry will be the 'window_1'\n",
    "Text = tk.StringVar() # text variable\n",
    "Text.set(\"This is the Entry widget\")\n",
    "Entry1 = tk.Entry(window_1, textvariable = Text)\n",
    "Entry1.pack(side = tk.LEFT, padx=10)\n",
    "\n",
    "\n",
    "# Now we have added one Label and one Entry widget inside the LabelFrame , Since this LabelFrame is similar to the Frame \n",
    "# So we dont need to add more extra feature inside this LabelFrame \n",
    "# if we want to add then we can add more widget by providing them LabeFrame's as the root window. \n",
    "#-------------------------------------------------------------------------------------------------------------------------------\n",
    "\n",
    "root.mainloop()"
   ]
  },
  {
   "cell_type": "markdown",
   "id": "unnecessary-comedy",
   "metadata": {},
   "source": [
    "--\n",
    "<img src = \"./Tutorial Images/LabelFrame 5.1.png\"  width = 300 height= 400 > \n",
    "--\n",
    "<img src = \"./Tutorial Images/LabelFrame 5.2.png\"  width = 300 height= 400 > \n",
    "--\n",
    "<img src = \"./Tutorial Images/LabelFrame 5.3.png\"  width = 300 height= 400 > "
   ]
  },
  {
   "cell_type": "markdown",
   "id": "sealed-publicity",
   "metadata": {},
   "source": [
    "---------------------------------------------------------**End of the tutorial**---------------------------------------------------------------------------"
   ]
  }
 ],
 "metadata": {
  "kernelspec": {
   "display_name": "Python 3",
   "language": "python",
   "name": "python3"
  },
  "language_info": {
   "codemirror_mode": {
    "name": "ipython",
    "version": 3
   },
   "file_extension": ".py",
   "mimetype": "text/x-python",
   "name": "python",
   "nbconvert_exporter": "python",
   "pygments_lexer": "ipython3",
   "version": "3.8.3"
  }
 },
 "nbformat": 4,
 "nbformat_minor": 5
}
