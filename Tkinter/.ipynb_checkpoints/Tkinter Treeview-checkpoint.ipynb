{
 "cells": [
  {
   "cell_type": "markdown",
   "id": "98cea105-a7b9-4f52-af44-b7e14a5e9512",
   "metadata": {},
   "source": [
    "## Treeview"
   ]
  },
  {
   "cell_type": "markdown",
   "id": "de928bfe-8a6e-4add-a0ee-5d1908aafea6",
   "metadata": {},
   "source": [
    "Treeview allow us to view a hierarchy of elements in which we can easily understand that which element comes \n",
    "before which one so we can define the parent-child order which allow us to perform some security related operation and also allow us to perform many tasks with in less time"
   ]
  },
  {
   "cell_type": "markdown",
   "id": "fa664cd7-f8b6-4476-aee1-b69dda7831fa",
   "metadata": {},
   "source": [
    "### 1. importing the modules "
   ]
  },
  {
   "cell_type": "code",
   "execution_count": 22,
   "id": "c2b1ad67-ae52-4e67-b496-b507f9fd985d",
   "metadata": {},
   "outputs": [],
   "source": [
    "import tkinter as tk\n",
    "from tkinter import ttk\n",
    "from tkinter.messagebox import showinfo"
   ]
  },
  {
   "cell_type": "markdown",
   "id": "d32cb7b1-53de-49a8-af60-b844e50e50a7",
   "metadata": {},
   "source": [
    "### 2. Making the main window"
   ]
  },
  {
   "cell_type": "code",
   "execution_count": 23,
   "id": "600138b4-ca0c-4d39-a36c-ea3be408614d",
   "metadata": {},
   "outputs": [
    {
     "data": {
      "text/plain": [
       "''"
      ]
     },
     "execution_count": 23,
     "metadata": {},
     "output_type": "execute_result"
    }
   ],
   "source": [
    "root = tk.Tk()  \n",
    "root.title(\"Treeview Demo\")\n",
    "root.geometry(\"620x200\")\n",
    "\n",
    "# Note: don't call the root.mainloop() until definition are defined\n",
    "# mainloop should be called at the end of the all definition."
   ]
  },
  {
   "cell_type": "markdown",
   "id": "6189263f-d5ca-4999-9d9c-ca2784667ca9",
   "metadata": {},
   "source": [
    "### 3. Make a Treeview object "
   ]
  },
  {
   "cell_type": "code",
   "execution_count": 24,
   "id": "b49c49b4-ea42-46f7-bffe-6fae9466f22d",
   "metadata": {},
   "outputs": [],
   "source": [
    "# Now we will make a treeviw object but before that we will define\n",
    "# some columns to display the row and column on the tree view\n",
    "columns = (\"first_name\", \"last_name\", \"email\")\n",
    "# Now we will create a treeview object by using the ttk.Treeview class\n",
    "tree = ttk.Treeview(root, columns=columns, show=\"headings\")\n"
   ]
  },
  {
   "cell_type": "markdown",
   "id": "6236e419-ff99-4636-8276-faa91df71efd",
   "metadata": {},
   "source": [
    "The show option accepts one of the following values:\n",
    "\n",
    "`tree` – shows the column #0.\n",
    "\n",
    "`heading` – shows the header row.\n",
    "\n",
    "`tree headings` – shows both column #0 and the header row. This is the default value.\n",
    "\n",
    "`''` – doesn’t show the column #0 or the header row."
   ]
  },
  {
   "cell_type": "code",
   "execution_count": 25,
   "id": "fca5330d-83cf-46dc-ab72-4c29eb876dcf",
   "metadata": {},
   "outputs": [
    {
     "data": {
      "text/plain": [
       "{}"
      ]
     },
     "execution_count": 25,
     "metadata": {},
     "output_type": "execute_result"
    }
   ],
   "source": [
    "# Now we will specify the headings by using the tree.heading() function\n",
    "tree.heading(\"first_name\", text=\"First Name\")\n",
    "tree.heading(\"last_name\", text=\"Last Name\")\n",
    "tree.heading(\"email\", text=\"Email\")"
   ]
  },
  {
   "cell_type": "markdown",
   "id": "02ce2f81-c34e-407e-b92a-2c4de2658194",
   "metadata": {},
   "source": [
    "### 4. Generate some data to dispaly "
   ]
  },
  {
   "cell_type": "code",
   "execution_count": 26,
   "id": "afb11dd5-3a81-4821-b989-0ac7a6fc4abb",
   "metadata": {},
   "outputs": [],
   "source": [
    "# now we will generate some data to display on the tree\n",
    "contacts = []\n",
    "for n in range(1, 10):\n",
    "    # in contact list we will append a tuple which will contain \n",
    "    # the first name, last name and email and the contact list\n",
    "    # will contain all the tuples\n",
    "    contacts.append((f\"first{n}\", f\"last {n}\", f\"email{n}@random.com\"))"
   ]
  },
  {
   "cell_type": "code",
   "execution_count": 27,
   "id": "877c2041-0647-4d56-8aa6-21253502c124",
   "metadata": {},
   "outputs": [
    {
     "data": {
      "text/plain": [
       "[('first1', 'last 1', 'email1@random.com'),\n",
       " ('first2', 'last 2', 'email2@random.com'),\n",
       " ('first3', 'last 3', 'email3@random.com'),\n",
       " ('first4', 'last 4', 'email4@random.com'),\n",
       " ('first5', 'last 5', 'email5@random.com'),\n",
       " ('first6', 'last 6', 'email6@random.com'),\n",
       " ('first7', 'last 7', 'email7@random.com'),\n",
       " ('first8', 'last 8', 'email8@random.com'),\n",
       " ('first9', 'last 9', 'email9@random.com')]"
      ]
     },
     "execution_count": 27,
     "metadata": {},
     "output_type": "execute_result"
    }
   ],
   "source": [
    "contacts"
   ]
  },
  {
   "cell_type": "markdown",
   "id": "5b70813c-df64-4a6f-999e-f09bad1d3a66",
   "metadata": {},
   "source": [
    "### 5. Insert the values into treeview"
   ]
  },
  {
   "cell_type": "code",
   "execution_count": 28,
   "id": "8012e6c4-8fa2-467b-b596-0a6540cb932b",
   "metadata": {},
   "outputs": [],
   "source": [
    "# Now we will insert the above generated values by using \n",
    "# the tree.insert() metod\n",
    "for contact in contacts:\n",
    "    tree.insert('', tk.END, values=contact)"
   ]
  },
  {
   "cell_type": "markdown",
   "id": "7bc2950e-47d7-4d36-a02c-2ff06af5f211",
   "metadata": {},
   "source": [
    "### 6. Event for selected item"
   ]
  },
  {
   "cell_type": "code",
   "execution_count": 29,
   "id": "268bcc6c-de6d-4d59-9955-09816014928a",
   "metadata": {},
   "outputs": [
    {
     "data": {
      "text/plain": [
       "'2075786167616item_selected'"
      ]
     },
     "execution_count": 29,
     "metadata": {},
     "output_type": "execute_result"
    }
   ],
   "source": [
    "def item_selected(event):\n",
    "    for selected_item in tree.selection():\n",
    "        item = tree.item(selected_item)\n",
    "        record = item[\"values\"]\n",
    "        showinfo(title=\"Information\", message=\",\".join(record))\n",
    "        \n",
    "tree.bind('<<TreeviewSelect>>', item_selected)"
   ]
  },
  {
   "cell_type": "code",
   "execution_count": 30,
   "id": "b293dab5-f2f1-43e6-9048-519b302697fa",
   "metadata": {},
   "outputs": [],
   "source": [
    "tree.pack(expand=True, fill='both')"
   ]
  },
  {
   "cell_type": "markdown",
   "id": "8b564b6e-aa2b-474b-b14f-1b21d4caf61d",
   "metadata": {},
   "source": [
    "### 7. Add a vertical scrollbar"
   ]
  },
  {
   "cell_type": "code",
   "execution_count": 31,
   "id": "6aa642e4-8bef-4901-906b-45eb9c599786",
   "metadata": {},
   "outputs": [],
   "source": [
    "scrollbar = ttk.Scrollbar(root, orient='vertical', command=tree.yview)\n",
    "tree.configure(yscroll=scrollbar.set)\n",
    "scrollbar.pack(side='left')"
   ]
  },
  {
   "cell_type": "code",
   "execution_count": 32,
   "id": "01c7c023-84ef-4a91-9e78-6af7243911d2",
   "metadata": {},
   "outputs": [
    {
     "name": "stderr",
     "output_type": "stream",
     "text": [
      "Exception in Tkinter callback\n",
      "Traceback (most recent call last):\n",
      "  File \"i:\\programs\\python\\python 3.8.3\\lib\\tkinter\\__init__.py\", line 1883, in __call__\n",
      "    return self.func(*args)\n",
      "  File \"C:\\Users\\manis\\AppData\\Local\\Temp\\ipykernel_31808\\992276173.py\", line 5, in item_selected\n",
      "    showinfo(title=\"Information\", messag=\",\".join(record))\n",
      "  File \"i:\\programs\\python\\python 3.8.3\\lib\\tkinter\\messagebox.py\", line 84, in showinfo\n",
      "    return _show(title, message, INFO, OK, **options)\n",
      "  File \"i:\\programs\\python\\python 3.8.3\\lib\\tkinter\\messagebox.py\", line 72, in _show\n",
      "    res = Message(**options).show()\n",
      "  File \"i:\\programs\\python\\python 3.8.3\\lib\\tkinter\\commondialog.py\", line 44, in show\n",
      "    s = w.tk.call(self.command, *w._options(self.options))\n",
      "_tkinter.TclError: bad option \"-messag\": must be -default, -detail, -icon, -message, -parent, -title, or -type\n"
     ]
    }
   ],
   "source": [
    "root.mainloop()"
   ]
  },
  {
   "cell_type": "code",
   "execution_count": null,
   "id": "d4c6be7e-d64f-4646-b263-6e860f256446",
   "metadata": {},
   "outputs": [],
   "source": []
  }
 ],
 "metadata": {
  "kernelspec": {
   "display_name": "Python 3 (ipykernel)",
   "language": "python",
   "name": "python3"
  },
  "language_info": {
   "codemirror_mode": {
    "name": "ipython",
    "version": 3
   },
   "file_extension": ".py",
   "mimetype": "text/x-python",
   "name": "python",
   "nbconvert_exporter": "python",
   "pygments_lexer": "ipython3",
   "version": "3.8.3"
  }
 },
 "nbformat": 4,
 "nbformat_minor": 5
}
