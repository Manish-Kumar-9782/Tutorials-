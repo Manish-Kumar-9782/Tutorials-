{
 "cells": [
  {
   "cell_type": "markdown",
   "id": "imported-composition",
   "metadata": {},
   "source": [
    "## Menubutton widget"
   ]
  },
  {
   "cell_type": "markdown",
   "id": "single-deposit",
   "metadata": {},
   "source": [
    "A menubutton is the part of a drop-down menu that stays on the screen all the time. Every menuybutton is associated with a Menuy widget that can display the choices for that menubutton when the user clicks on it.\n",
    "\n",
    "To create a menubutton within a root window or frame parent:\n",
    "```ruby\n",
    "mb = tk.Menubutton(parent , option.....)\n",
    "```\n"
   ]
  },
  {
   "cell_type": "markdown",
   "id": "plastic-impression",
   "metadata": {},
   "source": [
    "***options containing the Menubutton***\n",
    "\n",
    "`Common options:`\n",
    "* anchor\n",
    "* bg or background\n",
    "*  bd or borderwidth\n",
    "* cursor\n",
    "* font\n",
    "* fg or foreground\n",
    "* height and width\n",
    "* highlightbackground\n",
    "* highlightcolor\n",
    "* highlightthickness\n",
    "* justify\n",
    "* relief\n",
    "* padx and pady\n",
    "* state\n",
    "* text \n",
    "* takefocus\n",
    "* textvariable\n",
    "\n",
    "`Additional options:`\n",
    "* activebackground\n",
    "* activeforeground\n",
    "* bitmap\n",
    "* compound\n",
    "* direction\n",
    "* menu\n",
    "* disabledforeground\n",
    "* image\n",
    "* underline\n",
    "* wraplength\n",
    "\n",
    "`Options are used in Checkbutton, button:`\n",
    "* activebackground\n",
    "* activeforeground\n",
    "* bitmap\n",
    "* compound\n",
    "* image\n",
    "* disabledforeground\n",
    "* underline\n",
    "* wraplength\n"
   ]
  },
  {
   "cell_type": "markdown",
   "id": "mature-michael",
   "metadata": {},
   "source": [
    "***Importing tkinter***"
   ]
  },
  {
   "cell_type": "code",
   "execution_count": 1,
   "id": "shared-happening",
   "metadata": {},
   "outputs": [],
   "source": [
    "import tkinter as tk"
   ]
  },
  {
   "cell_type": "markdown",
   "id": "authorized-hospital",
   "metadata": {},
   "source": [
    "#### creating a root window"
   ]
  },
  {
   "cell_type": "code",
   "execution_count": 4,
   "id": "rough-target",
   "metadata": {},
   "outputs": [],
   "source": [
    "# creating a root winodow\n",
    "\n",
    "root = tk.Tk()\n",
    "\n",
    "root.title(\"Menubutton Tutorial\")\n",
    "root.geometry(\"400x300\")\n",
    "root.iconbitmap(\"./bitmap icons/home.ico\")\n",
    "#-------------------------------------------------------------------------------------------------------------------\n",
    "\n",
    "    # Here we will add the Menubutton widget and other widgets also.\n",
    "\n",
    "#-------------------------------------------------------------------------------------------------------------------\n",
    "\n",
    "root.mainloop()"
   ]
  },
  {
   "cell_type": "markdown",
   "id": "conceptual-bangladesh",
   "metadata": {},
   "source": [
    "#### Creating a simple menubutton"
   ]
  },
  {
   "cell_type": "code",
   "execution_count": 2,
   "id": "adult-fraction",
   "metadata": {},
   "outputs": [],
   "source": [
    "# creating a root winodow\n",
    "\n",
    "root = tk.Tk()\n",
    "\n",
    "root.title(\"Menubutton Tutorial\")\n",
    "root.geometry(\"400x300\")\n",
    "root.iconbitmap(\"./bitmap icons/home.ico\")\n",
    "#-------------------------------------------------------------------------------------------------------------------\n",
    "\n",
    "    # Now we will make menubutton widget\n",
    "    \n",
    "mb = tk.Menubutton(root, text= \"Menu\" , relief = tk.RAISED , activebackground = 'blue' , activeforeground = 'white')\n",
    "mb.pack(pady=10)\n",
    "\n",
    "\n",
    "\"\"\"\n",
    "    Result: Now we have created a button but it is useless untill we dont attach it to the menu, So now in the next cell\n",
    "            we will create some menu items, which will be shown on click on the Menubutton.\n",
    "    \n",
    "\"\"\"\n",
    "#-------------------------------------------------------------------------------------------------------------------\n",
    "\n",
    "root.mainloop()"
   ]
  },
  {
   "cell_type": "markdown",
   "id": "individual-history",
   "metadata": {},
   "source": [
    "#### Adding menu item to the Menubuttons"
   ]
  },
  {
   "cell_type": "code",
   "execution_count": null,
   "id": "based-insurance",
   "metadata": {},
   "outputs": [],
   "source": [
    "# creating a root winodow\n",
    "\n",
    "root = tk.Tk()\n",
    "\n",
    "root.title(\"Menubutton Tutorial\")\n",
    "root.geometry(\"400x300\")\n",
    "root.iconbitmap(\"./bitmap icons/home.ico\")\n",
    "#-------------------------------------------------------------------------------------------------------------------\n",
    "\n",
    "    # Now we will make menubutton widget\n",
    "    \n",
    "mb = tk.Menubutton(root, text= \"Menu\" , relief = tk.RAISED , activebackground = 'blue' , activeforeground = 'white')\n",
    "mb.pack(pady=10)\n",
    "\n",
    "    # Now we have created a Menubutton now we have to add some item to the menu \n",
    "    # before adding items to a menu we need to create it. menu is always create inside the Menubutton.\n",
    "    \n",
    "    # Now we will create a menu inside the Menubutton\n",
    "    \n",
    "    \n",
    "menu_ = tk.Menu(mb , tearoff = 0)   # here we need to give the mb as the master of the menu, Since it is the base of the menu\n",
    "# Now we need to configure this menu inside the Menubutton\n",
    "mb.config(menu = menu_ )\n",
    "\n",
    "# Now we will make menuitems \n",
    "\n",
    "# but before making item we need to create some control variable to handle the values for those items.\n",
    "item1 = tk.IntVar()\n",
    "item2 = tk.IntVar()\n",
    "\n",
    "# now we will make add items as the checkbutton by using the add_checkbutton of the menu object.\n",
    "\n",
    "menu_.add_checkbutton(label = 'option 1' , variable = item1)\n",
    "menu_.add_checkbutton(label = 'option 2' , variable = item2)\n",
    "\n",
    "# here now we have added some checkbutton inside the drop-down menu \n",
    "# The drop-down menu is created with the help of the Menubutton\n",
    "  \n",
    "\n",
    "\n",
    "\"\"\"\n",
    "    Result: Now this time you will see that Menu button is working fine and we can see some items when it is pressed.\n",
    "            In this we have used the checkbutton, but we can also use the cascade, radiobutton, and also we can add some\n",
    "            Commands in same manner as we have created the checkbuttons.\n",
    "            \n",
    "    Note:   Since we are adding the checkbutton, we had to use the multiple control valriable (item1, item2) to control the selection \n",
    "            of the checkbutton, because checkbutton does not share the control variable, it needs a seperate variable for every choice.\n",
    "            So it can return multiple different vaules after selection.\n",
    "    \n",
    "\"\"\"\n",
    "#-------------------------------------------------------------------------------------------------------------------\n",
    "\n",
    "root.mainloop()"
   ]
  },
  {
   "cell_type": "code",
   "execution_count": null,
   "id": "strong-siemens",
   "metadata": {},
   "outputs": [],
   "source": []
  }
 ],
 "metadata": {
  "kernelspec": {
   "display_name": "Python 3",
   "language": "python",
   "name": "python3"
  },
  "language_info": {
   "codemirror_mode": {
    "name": "ipython",
    "version": 3
   },
   "file_extension": ".py",
   "mimetype": "text/x-python",
   "name": "python",
   "nbconvert_exporter": "python",
   "pygments_lexer": "ipython3",
   "version": "3.8.3"
  }
 },
 "nbformat": 4,
 "nbformat_minor": 5
}
