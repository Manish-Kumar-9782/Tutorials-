{
 "cells": [
  {
   "cell_type": "markdown",
   "id": "dying-arrest",
   "metadata": {},
   "source": [
    "## Scrolling frame widgets\n",
    "Since in our tkinter module we can scroll the frame directly so to do this we will create a class in which we will use a canvas widgets to perform the scrolling effect on its parent items. the canvas parent widgets will be our mainframe in which we will put all of our content."
   ]
  },
  {
   "cell_type": "code",
   "execution_count": 1,
   "id": "social-happiness",
   "metadata": {},
   "outputs": [],
   "source": [
    "import tkinter as tk\n",
    "from tkinter import ttk"
   ]
  },
  {
   "cell_type": "code",
   "execution_count": 105,
   "id": "continental-symphony",
   "metadata": {},
   "outputs": [],
   "source": [
    "class ScrollFrame(tk.Frame):\n",
    "    \"\"\"\n",
    "    This class will be used to define and set a scrollbar on a frame widgets and it unable us to scroll through a frame.\n",
    "    widgets.\n",
    "    \"\"\"\n",
    "    def __init__(self, master=None):\n",
    "        \"\"\"\n",
    "        init constructor will initialize all the feature of the frame in which will put our scrollbar and a canvas which\n",
    "        will help us to scroll through the whole region.\n",
    "        :param master:master, a master window in which we will put our our ScrollFrame window.\n",
    "        :param mainframe:widget, it is the main frame in which we will put all of our other content or widgets of the application.\n",
    "        \"\"\"\n",
    "        super().__init__(master)\n",
    "        # Now first of all we need to create a ttk.scrollbar widget and put it into the ScrollFrame object\n",
    "        self.scroll = ttk.Scrollbar(self, orient='vertical')\n",
    "        self.scroll.pack(side='right', anchor='e', fill='y')\n",
    "\n",
    "        # Now we need to make a canvas which will hold our main frame in which we will put our mainframe\n",
    "        self.canvas = tk.Canvas(self, background='green')\n",
    "        self.canvas.pack(side='left', anchor='w', fill='both', expand=1)\n",
    "\n",
    "        # Now we need to configure the scrollbar and canvas also.\n",
    "        self.scroll.config(command = self.canvas.yview)\n",
    "        self.canvas.config(yscrollcommand = self.scroll.set, confine=True)\n",
    "        self.canvas.bind(\"<Configure>\", lambda e: self.canvas.configure(scrollregion=self.canvas.bbox('all')))\n",
    "\n",
    "        # Now we need to put our mainframe inside the canvas.\n",
    "        self.ContentFrame = tk.Frame(self.canvas)\n",
    "        self.canvas.create_window(0,0,anchor='nw', window=self.ContentFrame, tags='contentframe')\n",
    "        self.bind(\"<Configure>\", self._configure_content_frame)\n",
    "        self.ContentFrame.bind(\"<Enter>\", self._bound_to_mousewheel)\n",
    "        self.ContentFrame.bind(\"<Leave>\", self._unbound_to_mousewheel)\n",
    "        self.update_idletasks()\n",
    "        \n",
    "    def _bound_to_mousewheel(self, event):\n",
    "        self.bind_all(\"<MouseWheel>\", self._on_mousewheel)\n",
    "        \n",
    "    def _unbound_to_mousewheel(self, event):\n",
    "        self.unbind_all(\"<MouseWheel>\")\n",
    "        \n",
    "    def _on_mousewheel(self, event):\n",
    "        self.canvas.yview_scroll(int(-1*(event.delta/120)), \"units\")\n",
    "        # here delta is used for mouse , delta is a integer value which is eaual to 120\n",
    "        # if we dont devide event.delta by 120 then our frame will move very fast. \n",
    "    \n",
    "    def _configure_content_frame(self,event):\n",
    "        # this method will be used to update the size of the content frame as it updates.\n",
    "        self.canvas.update_idletasks()\n",
    "        self.ContentFrame.update_idletasks()\n",
    "        size = (self.canvas.winfo_height(), self.canvas.winfo_width())\n",
    "        print(\"size of the canvas: \", size)\n",
    "        if self.canvas.winfo_height() != self.ContentFrame.winfo_height():\n",
    "            print(\"chnaging canvas height: \", self.ContentFrame.winfo_height())\n",
    "            self.canvas.config(height=self.ContentFrame.winfo_height())\n",
    "        print(\"size of the canvas: \", size)\n",
    "        if self.canvas.winfo_width() != self.ContentFrame.winfo_width():\n",
    "            self.canvas.itemconfigure('contentframe', width= self.canvas.winfo_width())\n",
    "            print(\"chnaging canvas width: \", self.ContentFrame.winfo_width())\n",
    "            \n",
    "        "
   ]
  },
  {
   "cell_type": "markdown",
   "id": "pending-portuguese",
   "metadata": {},
   "source": [
    "Now we need to make a root window in which we will place a mainframe in which we will put some fake items to produce a scrolling effect."
   ]
  },
  {
   "cell_type": "code",
   "execution_count": 106,
   "id": "canadian-persian",
   "metadata": {},
   "outputs": [
    {
     "name": "stdout",
     "output_type": "stream",
     "text": [
      "size of the canvas:  (400, 383)\n",
      "chnaging canvas height:  1400\n",
      "size of the canvas:  (400, 383)\n",
      "chnaging canvas width:  180\n",
      "size of the canvas:  (801, 1519)\n",
      "chnaging canvas height:  1400\n",
      "size of the canvas:  (801, 1519)\n",
      "chnaging canvas width:  383\n",
      "size of the canvas:  (400, 383)\n",
      "chnaging canvas height:  1400\n",
      "size of the canvas:  (400, 383)\n",
      "chnaging canvas width:  1519\n"
     ]
    }
   ],
   "source": [
    "root = tk.Tk()\n",
    "root.geometry(\"400x400\")\n",
    "\n",
    "# creating a mainframe.\n",
    "# we will configure our master inside the class\n",
    "\n",
    "Container = ScrollFrame(root)\n",
    "Container.pack(fill='both', expand=1)\n",
    "# Now we need to put \n",
    "\n",
    "for i in range(20):\n",
    "    label = tk.Label(Container.ContentFrame, text=f\"Hello World! {i}\", font=('sarif', 15,'bold'))\n",
    "    label.pack(padx=15, pady=20)\n",
    "\n",
    "root.mainloop()"
   ]
  },
  {
   "cell_type": "code",
   "execution_count": null,
   "id": "owned-italian",
   "metadata": {},
   "outputs": [],
   "source": []
  }
 ],
 "metadata": {
  "kernelspec": {
   "display_name": "Python 3",
   "language": "python",
   "name": "python3"
  },
  "language_info": {
   "codemirror_mode": {
    "name": "ipython",
    "version": 3
   },
   "file_extension": ".py",
   "mimetype": "text/x-python",
   "name": "python",
   "nbconvert_exporter": "python",
   "pygments_lexer": "ipython3",
   "version": "3.8.3"
  }
 },
 "nbformat": 4,
 "nbformat_minor": 5
}
