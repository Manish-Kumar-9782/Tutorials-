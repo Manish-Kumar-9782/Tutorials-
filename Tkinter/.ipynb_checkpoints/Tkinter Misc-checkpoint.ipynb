{
 "cells": [
  {
   "cell_type": "markdown",
   "id": "cheap-probability",
   "metadata": {},
   "source": [
    "# Tkinter  tkwait\n",
    "\n",
    "`tk.wait_variable:`\\\n",
    "The tkwait command waits for one of several things to happen, then it returns without taking any other actions.The return value is alwys an empty string. If the first argument is variable (or any abbriviation of it) then the second argument is the nameof a global varible and the command waits for that variable to be modified.\n",
    "\n",
    "`tk.wait_visibility:`\\\n",
    "If the first argument is visibility (or any other abbreviation of it) then the second argument is the name of a window and the tkwait command waits for a change in its visibility state (as indicated by the arrival of a VisibilityNotify event).  This form is typically used to wait for a newly-created window to appear on the screen before taking some action.\n",
    "\n",
    "`tk.wait_window:`\\\n",
    "If the first argument is window (or any other abbreviation of it) then the second argument is the name of a window and the tkwait command waits for that window to be destroyed. This form is typically used to wait for a user to finish interacting with a dialog box before using the result of that interaction.\n",
    "\n",
    "`Note:` While the tkwait command is waintin it processes envents in the normal fashion. so the application will continue to respond to user interactions. If an event handler invokes tkwait again. the nested call to tkwait must complete before the outer call can complete.\n",
    "\n",
    "### 1. tk.wait_variable()"
   ]
  },
  {
   "cell_type": "markdown",
   "id": "conscious-ethiopia",
   "metadata": {},
   "source": [
    "This is used to wait until the variable is not modified.\n",
    "A parameter of type IntVar, StringVar, DoubleVar or BooleanVar must be given.\n",
    "\n",
    "Now we will see how can we use the tk.wait_variable() method ."
   ]
  },
  {
   "cell_type": "code",
   "execution_count": 1,
   "id": "infrared-fitting",
   "metadata": {},
   "outputs": [
    {
     "name": "stdout",
     "output_type": "stream",
     "text": [
      "waiting...\n",
      "submitted\n",
      "done waiting.\n",
      "submitted\n",
      "submitted\n",
      "submitted\n",
      "submitted\n"
     ]
    }
   ],
   "source": [
    "# first of all we will import tkinter module.\n",
    "from tkinter import *\n",
    "\n",
    "# Now we need to create a new window.\n",
    "windowItem1 = Tk()\n",
    "windowItem1.title(\"Item1\")\n",
    "\n",
    "# to wait for a variable it must be a tk variable means it must be\n",
    "# A parameter of type IntVar, StringVar, DoubleVar or BooleanVar \n",
    "WaitState = IntVar()\n",
    "\n",
    "# we dont provide this type of parameter then it will raise an error.\n",
    "\n",
    "# Now we will make a method which will be called by pressing a button.\n",
    "# and in this we will modify the Waitstate variable with a submit button.\n",
    "def submit():\n",
    "    WaitState.set(1)\n",
    "    print(\"submitted\")\n",
    "    \n",
    "# Here we need to make  button to which will be placed on the root \n",
    "# window and it will be used to call the submit function.\n",
    "button = Button(windowItem1, text=\"Submit\", command=submit)\n",
    "button.grid(column=0, row=1)\n",
    "      \n",
    "\n",
    "#######\n",
    "#    NOTE: Here is the most intersting part, here we will wait for\n",
    "# the Waitstate variable to be modified.\n",
    "    \n",
    "print(\"waiting...\") # Since this statement is before the waiting statement\n",
    "# So it will be printed before waiting.\n",
    "\n",
    "button.wait_variable(WaitState) # Now here we have definied the wait_variable.\n",
    "# statement so programme will not go furthur until the variable is not modified.\n",
    "\n",
    "#After modifiying the WaitState variable we will print below statement.\n",
    "print(\"done waiting.\")  \n",
    "\n",
    "# And this is the mailoop to create the windowItem1 window.\n",
    "windowItem1.mainloop()"
   ]
  },
  {
   "cell_type": "markdown",
   "id": "color-comment",
   "metadata": {},
   "source": [
    "----\n",
    "### Example 2:\n",
    "Now we will see another example on the tk.wait_variable, in this example we wil do:\n",
    "\n",
    "1.  We will create a root window and then we will put a button-Select in that root window.\n",
    "2. if we press this button-Select then it should create a new window, it can be a Toplevel window or a new Tk root window.\n",
    "\n",
    "3. Now after creating a new winow we will put a second button-Submit in this and we will wait for the WaitState varibale to be modified."
   ]
  },
  {
   "cell_type": "code",
   "execution_count": 1,
   "id": "tough-stuart",
   "metadata": {},
   "outputs": [
    {
     "name": "stdout",
     "output_type": "stream",
     "text": [
      "waiting...\n",
      "submitted\n",
      "done waiting\n",
      "submitted\n",
      "submitted\n"
     ]
    }
   ],
   "source": [
    "from tkinter import *\n",
    "windowMenu = Tk()\n",
    "windowMenu.title(\"Menu\")\n",
    "\n",
    "def SelectItem1():\n",
    "    # windowItem1 = Tk()\n",
    "    # if we make a new root Tk() window here then wait_variable wont work.\n",
    "    windowItem1 = Toplevel()\n",
    "    windowItem1.title(\"Item1\")\n",
    "    WaitState = IntVar()    \n",
    "      \n",
    "    def submit():\n",
    "        WaitState.set(1)\n",
    "        print(\"submitted\")\n",
    "        \n",
    "    button = Button(windowItem1, text=\"Submit\", command=submit)\n",
    "    button.grid(column=0, row=1)\n",
    "      \n",
    "    print(\"waiting...\")\n",
    "    button.wait_variable(WaitState)\n",
    "    print(\"done waiting\")   \n",
    "      \n",
    "lblItem1 = Label(windowMenu, text=\"Item 1 : \")\n",
    "lblItem1.grid(column=0, row=0)\n",
    "\n",
    "btnItem1 = Button(windowMenu, text=\"Select\", command=SelectItem1)\n",
    "btnItem1.grid(column=1, row=0)\n",
    "\n",
    "windowMenu.mainloop()"
   ]
  },
  {
   "cell_type": "markdown",
   "id": "blond-athletics",
   "metadata": {},
   "source": [
    "## Tinter Notebook event Handling\n",
    "In this section we will see that how can we perform an action when a tab is changed.\\\n",
    "Whenever a tab is selected it generates a virtual event `<<NotebookTabChanged>>`, we can use this event to perform an action whenever a tab is canged."
   ]
  },
  {
   "cell_type": "code",
   "execution_count": 28,
   "id": "ordered-forwarding",
   "metadata": {},
   "outputs": [
    {
     "name": "stdout",
     "output_type": "stream",
     "text": [
      ".!managernotebook\n",
      ".!managernotebook.!dispatchertab\n",
      "widget on tab changed:  .!managernotebook.!dispatchertab    0\n",
      "First tab is viewed\n"
     ]
    }
   ],
   "source": [
    "from tkinter import *\n",
    "from tkinter import ttk\n",
    "\n",
    "# Now we will create a class which will be used to create notebooks.\n",
    "class TestTabs():\n",
    "    \n",
    "    # In this we will create another subclasss, this class will be used to manage the event whenever the tab is changed.\n",
    "    class ManagerNotebook(ttk.Notebook):\n",
    "        \n",
    "        # Now we will initiate some attribute during the initialization of the notebook object.\n",
    "        def __init__(self, master):\n",
    "            ttk.Notebook.__init__(self, master) # Now first of all we will inherit all the functionallity of the notebook.\n",
    "            self.bind(\"<<NotebookTabChanged>>\", self.onTabChange)\n",
    "            # Now we will  bind a handler method to perform some task whenever a tab is changed.\n",
    "            self.visit_str = 'viewed' # To show the string when tab is visited.\n",
    "            self.leave_str = 'left' # to show the string when tab is leaves.\n",
    "            self.prev_id = [None] #mutable list\n",
    "\n",
    "        def onTabChange(self, event): \n",
    "            # This is the handler method which will be invoked whenever the tab is changed.\n",
    "            \n",
    "            #print(\"widget on tab changed: \", event.widget, \"  \",event.widget.index(\"current\"))\n",
    "            current_id = [event.widget.index(\"current\")]\n",
    "            print(\"widget on tab changed: \", event.widget.winfo_children()[current_id[0]], \"  \",event.widget.index(\"current\"))\n",
    "            # Now event.widget will give us the notebook object, and this object contains all the tabs.\n",
    "            # we can access any tab by providing index of the tab, and to get the current tab \n",
    "            # we need to pass 'current' in the notebook.index() method and it will give us the selected tab index.\n",
    "            \n",
    "            # Now event.widget.winfo_children() will give us the DispatcherTab object which is defined below.\n",
    "            # this object will contain Frames , and we will add these frames in the tab after creating \n",
    "            #  a DispatcherTab class object.\n",
    "            \n",
    "            # Now we will show that which tab is selected and which one is leaved.\n",
    "            event.widget.winfo_children()[current_id[0]].onVisibleIn(self, current_id[0], self.visit_str)\n",
    "            \n",
    "            if self.prev_id[0] is not None:\n",
    "                event.widget.winfo_children()[self.prev_id[0]].onVisibleOut(self, self.prev_id[0], self.leave_str)\n",
    "            self.prev_id[0] = current_id[0]\n",
    "            \n",
    "#---------------------------------------------------------------------------------------------------------------------------------------\n",
    "#---------------------------------------------------------------------------------------------------------------------------------------\n",
    "\n",
    "    class DispatcherTab(ttk.Frame): # Since we will create Frame by using this DispatcherTab, so we will inherit the tk.Frame\n",
    "        \n",
    "        def __init__(self, parent):  # Here in init constructor we will create the frame.\n",
    "            self.parent = parent\n",
    "            ttk.Frame.__init__(self, parent) \n",
    "            # this statement will construct a Frame object and it will be passed to the DispatcherTab\n",
    "            # class object and Now the DispatcherTab class will have all the functionallity of the Frame object\n",
    "            # so now we can use this class object as a Frame object.\n",
    "            \n",
    "            Label(self, text='Sample text').pack()\n",
    "            # Now Since our DispatcherTab have all the ttk.Frame functionallity so we can pass its object \n",
    "            # at the place of the master parameter of the Label, because our object have all the functinalliy of ttk.Frame\n",
    "            # object so we can use our DispatcherTab object as parent frame on which it is going to place\n",
    "\n",
    "        def onVisibleIn(self, parent, id, str): \n",
    "            # DispatcherTab method which will be invoked when a tab is selected.\n",
    "            print('%s is %s' % (parent.tab(id, 'text'), str))\n",
    "\n",
    "        def onVisibleOut(self, parent, id, str):\n",
    "            # DispatcherTab method which will be invoked when a tab is selected.\n",
    "            print('%s is %s' % (parent.tab(id, 'text'), str))\n",
    "            \n",
    "#---------------------------------------------------------------------------------------------------------------------------------------\n",
    "    def __init__(self,root):  # init method of the TestTabs class\n",
    "        \n",
    "        # in this we will initiate te MangerNotebook and Dispatcher object. \n",
    "        self.tabControl = self.ManagerNotebook(root)\n",
    "        print(self.tabControl)\n",
    "        # self.tabControl object initiate the Notbook and create a notbook\n",
    "        \n",
    "        self.mainTab = self.DispatcherTab(self.tabControl)\n",
    "        print(self.mainTab)\n",
    "        self.tabControl.add(self.mainTab, text='First tab')\n",
    "        \n",
    "        self.nextTab = self.DispatcherTab(self.tabControl)\n",
    "        self.tabControl.add(self.nextTab, text='Second tab')\n",
    "        \n",
    "        self.tabControl.pack(fill=\"both\", expand=True)\n",
    "#---------------------------------------------------------------------------------------------------------------------------------------\n",
    "#---------------------------------------------------------------------------------------------------------------------------------------      \n",
    "def main():\n",
    "    tk_root = Tk()\n",
    "    test_gui = TestTabs(tk_root)\n",
    "    tk_root.mainloop()\n",
    "\n",
    "\n",
    "if __name__ == '__main__':\n",
    "    main()"
   ]
  },
  {
   "cell_type": "code",
   "execution_count": 23,
   "id": "norwegian-personality",
   "metadata": {},
   "outputs": [],
   "source": [
    "from tkinter import *\n",
    "from tkinter import ttk\n",
    "class DispatcherTab(ttk.Entry): # Since we will create Frame by using this DispatcherTab, so we will inherit the tk.Frame\n",
    "        \n",
    "        def __init__(self, parent):  # Here in init constructor we will create the frame.\n",
    "            self.parent = parent\n",
    "            ttk.Entry.__init__(self, parent, width = 50)\n",
    "            Label(self, text='Sample text').pack()\n",
    "\n",
    "        def onVisibleIn(self, parent, id, str):\n",
    "            print('%s is %s' % (parent.tab(id, 'text'), str))\n",
    "\n",
    "        def onVisibleOut(self, parent, id, str):\n",
    "            print('%s is %s' % (parent.tab(id, 'text'), str))\n",
    "            "
   ]
  },
  {
   "cell_type": "code",
   "execution_count": 17,
   "id": "insured-malpractice",
   "metadata": {},
   "outputs": [],
   "source": [
    "root = Tk()\n",
    "\n",
    "frame = DispatcherTab(root)\n",
    "frame.pack()\n",
    "# root.mainloop()"
   ]
  },
  {
   "cell_type": "code",
   "execution_count": null,
   "id": "incorporate-brass",
   "metadata": {},
   "outputs": [],
   "source": []
  },
  {
   "cell_type": "code",
   "execution_count": null,
   "id": "designed-chile",
   "metadata": {},
   "outputs": [],
   "source": []
  },
  {
   "cell_type": "code",
   "execution_count": null,
   "id": "meaning-moldova",
   "metadata": {},
   "outputs": [],
   "source": []
  }
 ],
 "metadata": {
  "kernelspec": {
   "display_name": "Python 3",
   "language": "python",
   "name": "python3"
  },
  "language_info": {
   "codemirror_mode": {
    "name": "ipython",
    "version": 3
   },
   "file_extension": ".py",
   "mimetype": "text/x-python",
   "name": "python",
   "nbconvert_exporter": "python",
   "pygments_lexer": "ipython3",
   "version": "3.8.3"
  }
 },
 "nbformat": 4,
 "nbformat_minor": 5
}
