{
 "cells": [
  {
   "cell_type": "markdown",
   "id": "fresh-intention",
   "metadata": {},
   "source": [
    "## Entry Widget\n",
    "\n",
    "The purpose of an Entry widger is to let the user see and modify a single line of text.\n",
    "\n",
    "Typically the selection is made by the user with the mouse, and selected thext is copied to the system's clopborrd. However, Tkinter allows yoou to control whether or not selected text gets copoied to the clipboard. you can also select thex in an Entry under program control.\n",
    "\n",
    "The _insertion cursor_ shows wher new text will be inserted. it is displayed only when the user clicks the mouse somewhere in the widget. it usually appears as blinking vertical line inside the widget. You acn customize its appearance in several ways.\n",
    "\n",
    "Position within the widget's displayed text are given as an index. There are several ways to to specify an index\n",
    "* As normal python indexes, starting form the 0.\n",
    "* The constand tk.END refers to the position after the existing text.\n",
    "* The xonstant tk.INSERT refers to the current position of the insertion cursor.\n",
    "* The constant tk.ANCHOR refers to the first character of the selection, if there is a selection.\n",
    "\n",
    "To create an Entry Widget first we need to import the module `Tkinter`"
   ]
  },
  {
   "cell_type": "code",
   "execution_count": 1,
   "id": "technological-cruise",
   "metadata": {},
   "outputs": [],
   "source": [
    "import tkinter as tk"
   ]
  },
  {
   "cell_type": "markdown",
   "id": "known-quantum",
   "metadata": {},
   "source": [
    "Now we need to make a main window in which we will create and pack the Entery Widget.\n",
    "\n",
    "#### 1. Simple Entry Widget"
   ]
  },
  {
   "cell_type": "code",
   "execution_count": 11,
   "id": "joined-belfast",
   "metadata": {},
   "outputs": [],
   "source": [
    "root = tk.Tk()\n",
    "\n",
    "# congiguring the main window\n",
    "\n",
    "# Resizing the main window\n",
    "root.geometry(\"600x400\")\n",
    "\n",
    "# making the title of the window\n",
    "root.title(\"Entry widget\")\n",
    "\n",
    "# this is the Entry widger defination\n",
    "Entry1 = tk.Entry(root) \n",
    "Entry1.pack()\n",
    "\n",
    "\n",
    "# making the infinite loop for the mainwindow\n",
    "root.mainloop()"
   ]
  },
  {
   "cell_type": "markdown",
   "id": "artificial-prince",
   "metadata": {},
   "source": [
    "This is the simplest entry widget which is packed by used the pack geometry layout.\n",
    "\n",
    "`tk.Entry(root)`: This is the simplest defination of the Entry widget in which we just defined that _Entry1_ is our Entry widget and the master window is the root in which we will display this Entry widget. The position of the Entry Widget can be defined by using the pack,grid or place geometry system."
   ]
  },
  {
   "cell_type": "markdown",
   "id": "noted-finance",
   "metadata": {},
   "source": [
    "#### 2. Entry widget Options part 1\n",
    "\n",
    "We will see the different kind of option of the Entry widget in the different section. In this section we will see:\n",
    "\n",
    "*  background \n",
    "*  borderwidth\n",
    "*  foreground\n",
    "*  font\n",
    "* disablebackground\n",
    "* disableforeground\n",
    "* state"
   ]
  },
  {
   "cell_type": "code",
   "execution_count": 13,
   "id": "worst-girlfriend",
   "metadata": {},
   "outputs": [],
   "source": [
    "root = tk.Tk()\n",
    "\n",
    "# congiguring the main window\n",
    "\n",
    "# Resizing the main window\n",
    "root.geometry(\"600x400\")\n",
    "\n",
    "# making the title of the window\n",
    "root.title(\"Entry widget Options part 1\")\n",
    "\n",
    "# Now we will use the Label widget with the Entry widget so we can show that Which Entry is used for what?\n",
    "Labelconfig = {\"justify\":tk.LEFT}\n",
    "\n",
    "# For each Entry we will use seperate Label\n",
    "\n",
    "# Background\n",
    "# we need to specify the background property inside the Entry widget arguments\n",
    "Label1 = tk.Label(root, text=\"Background effect of the Entry\").grid(row=0, column=0)\n",
    "Entry1 = tk.Entry(root, background='red',foreground='white', text=\"hello world\").grid(row=0, column=1,padx=15)\n",
    "\n",
    "\n",
    "# Borderwidth\n",
    "# Now we will specify the foreground property of the Entry widget\n",
    "Label2 = tk.Label(root, text=\"Borderwidth effect of the Entry\").grid(row=1, column=0)\n",
    "Entry2 = tk.Entry(root,bd=10 , text='Hello' ).grid(row=1, column=1,padx=15)\n",
    "\n",
    "# Foreground\n",
    "#  Here you can defiend the text color of the Entry\n",
    "Label3 = tk.Label(root, text=\"Foreground effect of the Entry\").grid(row=2, column=0)\n",
    "Entry3 = tk.Entry(root, foreground=\"blue\").grid(row=2, column=1,padx=15)\n",
    "\n",
    "# Font\n",
    "# Here we will define the font of the text dispayed in the Entry widget\n",
    "# you can change the style of the font here\n",
    "Label4 = tk.Label(root, text=\"Font of the Entry\").grid(row=3, column=0)\n",
    "Entry4 = tk.Entry(root , font=('Times', '24','bold')).grid(row=3, column=1,padx=15)\n",
    "\n",
    "\n",
    "# Disable-Background\n",
    "# Disable the background color of the entry widget\n",
    "Label5 = tk.Label(root, text=\"DisableBackground effect of the Entry\").grid(row=4, column=0)\n",
    "Entry5 = tk.Entry(root , state=tk.DISABLED).grid(row=4, column=1,padx=15)\n",
    "\n",
    "\n",
    "# Disable-Foreground \n",
    "# Disable the forground of the Entry widget in this we will not change the color of the text\n",
    "Label6 = tk.Label(root, text=\"DisableForeground effect of the Entry\").grid(row=5, column=0)\n",
    "Entry6 = tk.Entry(root , state=tk.DISABLED).grid(row=5, column=1,padx=15)\n",
    "\n",
    "\n",
    "\n",
    "# making the infinite loop for the mainwindow\n",
    "root.mainloop()"
   ]
  },
  {
   "cell_type": "markdown",
   "id": "printable-replacement",
   "metadata": {},
   "source": [
    "**output**\n",
    "\n",
    "<img src=\"./Tutorial Images/Entry widget 1.png\">"
   ]
  },
  {
   "cell_type": "markdown",
   "id": "powered-finance",
   "metadata": {},
   "source": [
    "`Explanation:`\n",
    "\n",
    "* Entry 1: we made the background color as red and the text color as white by using the foreground property.\n",
    "* Entry 2: In this we changed the border width of the Entry widget.\n",
    "* Entry 3: In this we just changed the font color as blue by using the foreground property.\n",
    "* Entry 4: In this Entry we changed the font style by given a tuple with some vlaues to the font argument.\n",
    "* Entry 5: This Entry is disabled.\n",
    "* Entry 6: This Entry is disabled. In both of them we cant make any user input becaues both are disabled by given the `state=tk.DISABLED` property.\n",
    "\n"
   ]
  },
  {
   "cell_type": "markdown",
   "id": "lightweight-assembly",
   "metadata": {},
   "source": [
    "***\n",
    "#### 3. Entry widget options part 2.\n",
    "\n",
    "Cursor effect during inside the Entry widget.\n",
    "*  cursor\n",
    "*  insertbackground\n",
    "*  insertborderwidth\n",
    "*  insertofftime\n",
    "*  isertontime\n",
    "*  insertwidth"
   ]
  },
  {
   "cell_type": "markdown",
   "id": "improved-blink",
   "metadata": {},
   "source": [
    "**1. cursor effect**"
   ]
  },
  {
   "cell_type": "code",
   "execution_count": 22,
   "id": "forced-government",
   "metadata": {},
   "outputs": [],
   "source": [
    "root = tk.Tk()\n",
    "\n",
    "# congiguring the main window\n",
    "\n",
    "# Resizing the main window\n",
    "root.geometry(\"600x400\")\n",
    "\n",
    "# making the title of the window\n",
    "root.title(\"Entry widget Options part 1\")\n",
    "\n",
    "# Background\n",
    "# we need to specify the background property inside the Entry widget arguments\n",
    "Label1 = tk.Label(root, text=\"Cursor heart \").grid(row=0, column=0)\n",
    "Entry1 = tk.Entry(root , cursor='heart').grid(row=0, column=1,padx=15 , pady=20)\n",
    "\n",
    "Label1 = tk.Label(root, text=\"Cursor hand \").grid(row=1, column=0)\n",
    "Entry1 = tk.Entry(root , cursor='hand2').grid(row=1, column=1,padx=15 , pady=20)\n",
    "\n",
    "Label1 = tk.Label(root, text=\"Cursor star \").grid(row=2, column=0)\n",
    "Entry1 = tk.Entry(root , cursor='star').grid(row=2, column=1,padx=15 , pady=20)\n",
    "\n",
    "Label1 = tk.Label(root, text=\"Cursor tcross \").grid(row=3, column=0)\n",
    "Entry1 = tk.Entry(root , cursor='tcross').grid(row=3, column=1,padx=15 , pady=20)\n",
    "\n",
    "Label1 = tk.Label(root, text=\"Cursor double_arrow \").grid(row=4, column=0)\n",
    "Entry1 = tk.Entry(root , cursor='double_arrow').grid(row=4, column=1,padx=15 , pady=20)\n",
    "\n",
    "root.mainloop()"
   ]
  },
  {
   "cell_type": "markdown",
   "id": "fatty-watch",
   "metadata": {},
   "source": [
    "      "
   ]
  },
  {
   "cell_type": "markdown",
   "id": "geographic-understanding",
   "metadata": {},
   "source": [
    "**2. insertbackground:**\n",
    "  By default, insertion cursor  (which shows the point within the text where new keyboard input will be inserted)  is black. to get a different color of insertion cursor, set insertbackground to any color."
   ]
  },
  {
   "cell_type": "code",
   "execution_count": 25,
   "id": "floral-hypothesis",
   "metadata": {},
   "outputs": [],
   "source": [
    "root = tk.Tk()\n",
    "\n",
    "# congiguring the main window\n",
    "\n",
    "# Resizing the main window\n",
    "root.geometry(\"300x350\")\n",
    "\n",
    "# making the title of the window\n",
    "root.title(\"Entry widget Options part 1\")\n",
    "\n",
    "# Background\n",
    "# we need to specify the background property inside the Entry widget arguments\n",
    "Label1 = tk.Label(root, text=\"insertbackground red\").grid(row=0, column=0)\n",
    "Entry1 = tk.Entry(root , insertbackground = 'red').grid(row=0, column=1,padx=15 , pady=20)\n",
    "\n",
    "Label1 = tk.Label(root, text=\"insertbackground blue\").grid(row=1, column=0)\n",
    "Entry1 = tk.Entry(root , insertbackground = 'blue').grid(row=1, column=1,padx=15 , pady=20)\n",
    "\n",
    "Label1 = tk.Label(root, text=\"insertbackground green\").grid(row=2, column=0)\n",
    "Entry1 = tk.Entry(root , insertbackground = 'green').grid(row=2, column=1,padx=15 , pady=20)\n",
    "\n",
    "root.mainloop()"
   ]
  },
  {
   "cell_type": "markdown",
   "id": "functioning-colorado",
   "metadata": {},
   "source": [
    "         "
   ]
  },
  {
   "cell_type": "markdown",
   "id": "useful-treasury",
   "metadata": {},
   "source": [
    "**3. insertborderwidth  and insertwidth:**\n",
    "\n",
    "By default, the inserion cursor is a simple rectangle. You can get the cursor with the `tk.RAISED` relief effect. by setting insertboderwidth to the dimension of the 3-d border. if you do, make sure that the insertwidth option is at least twice that value.\n",
    "\n",
    "Insertwidth: by default, the insertion cursor is 2 pixels wide. you can adjust this by setting insertwidth to any dimension."
   ]
  },
  {
   "cell_type": "code",
   "execution_count": 31,
   "id": "precise-geology",
   "metadata": {},
   "outputs": [
    {
     "ename": "TclError",
     "evalue": "bad screen distance \"raised\"",
     "output_type": "error",
     "traceback": [
      "\u001b[1;31m---------------------------------------------------------------------------\u001b[0m",
      "\u001b[1;31mTclError\u001b[0m                                  Traceback (most recent call last)",
      "\u001b[1;32m<ipython-input-31-6dd7dfba4832>\u001b[0m in \u001b[0;36m<module>\u001b[1;34m\u001b[0m\n\u001b[0;32m     12\u001b[0m \u001b[1;31m# we need to specify the background property inside the Entry widget arguments\u001b[0m\u001b[1;33m\u001b[0m\u001b[1;33m\u001b[0m\u001b[1;33m\u001b[0m\u001b[0m\n\u001b[0;32m     13\u001b[0m \u001b[0mLabel1\u001b[0m \u001b[1;33m=\u001b[0m \u001b[0mtk\u001b[0m\u001b[1;33m.\u001b[0m\u001b[0mLabel\u001b[0m\u001b[1;33m(\u001b[0m\u001b[0mroot\u001b[0m\u001b[1;33m,\u001b[0m \u001b[0mtext\u001b[0m\u001b[1;33m=\u001b[0m\u001b[1;34m\"insertborderwidth \"\u001b[0m\u001b[1;33m)\u001b[0m\u001b[1;33m.\u001b[0m\u001b[0mgrid\u001b[0m\u001b[1;33m(\u001b[0m\u001b[0mrow\u001b[0m\u001b[1;33m=\u001b[0m\u001b[1;36m0\u001b[0m\u001b[1;33m,\u001b[0m \u001b[0mcolumn\u001b[0m\u001b[1;33m=\u001b[0m\u001b[1;36m0\u001b[0m\u001b[1;33m)\u001b[0m\u001b[1;33m\u001b[0m\u001b[1;33m\u001b[0m\u001b[0m\n\u001b[1;32m---> 14\u001b[1;33m \u001b[0mEntry1\u001b[0m \u001b[1;33m=\u001b[0m \u001b[0mtk\u001b[0m\u001b[1;33m.\u001b[0m\u001b[0mEntry\u001b[0m\u001b[1;33m(\u001b[0m\u001b[0mroot\u001b[0m \u001b[1;33m,\u001b[0m \u001b[0minsertborderwidth\u001b[0m \u001b[1;33m=\u001b[0m \u001b[0mtk\u001b[0m\u001b[1;33m.\u001b[0m\u001b[0mRAISED\u001b[0m \u001b[1;33m,\u001b[0m \u001b[0minsertwidth\u001b[0m\u001b[1;33m=\u001b[0m\u001b[1;36m2\u001b[0m\u001b[1;33m)\u001b[0m\u001b[1;33m.\u001b[0m\u001b[0mgrid\u001b[0m\u001b[1;33m(\u001b[0m\u001b[0mrow\u001b[0m\u001b[1;33m=\u001b[0m\u001b[1;36m0\u001b[0m\u001b[1;33m,\u001b[0m \u001b[0mcolumn\u001b[0m\u001b[1;33m=\u001b[0m\u001b[1;36m1\u001b[0m\u001b[1;33m,\u001b[0m\u001b[0mpadx\u001b[0m\u001b[1;33m=\u001b[0m\u001b[1;36m15\u001b[0m \u001b[1;33m,\u001b[0m \u001b[0mpady\u001b[0m\u001b[1;33m=\u001b[0m\u001b[1;36m20\u001b[0m\u001b[1;33m)\u001b[0m\u001b[1;33m\u001b[0m\u001b[1;33m\u001b[0m\u001b[0m\n\u001b[0m\u001b[0;32m     15\u001b[0m \u001b[1;33m\u001b[0m\u001b[0m\n\u001b[0;32m     16\u001b[0m \u001b[0mLabel1\u001b[0m \u001b[1;33m=\u001b[0m \u001b[0mtk\u001b[0m\u001b[1;33m.\u001b[0m\u001b[0mLabel\u001b[0m\u001b[1;33m(\u001b[0m\u001b[0mroot\u001b[0m\u001b[1;33m,\u001b[0m \u001b[0mtext\u001b[0m\u001b[1;33m=\u001b[0m\u001b[1;34m\"insertborderwidth  blue\"\u001b[0m\u001b[1;33m)\u001b[0m\u001b[1;33m.\u001b[0m\u001b[0mgrid\u001b[0m\u001b[1;33m(\u001b[0m\u001b[0mrow\u001b[0m\u001b[1;33m=\u001b[0m\u001b[1;36m1\u001b[0m\u001b[1;33m,\u001b[0m \u001b[0mcolumn\u001b[0m\u001b[1;33m=\u001b[0m\u001b[1;36m0\u001b[0m\u001b[1;33m)\u001b[0m\u001b[1;33m\u001b[0m\u001b[1;33m\u001b[0m\u001b[0m\n",
      "\u001b[1;32mc:\\python\\python38\\lib\\tkinter\\__init__.py\u001b[0m in \u001b[0;36m__init__\u001b[1;34m(self, master, cnf, **kw)\u001b[0m\n\u001b[0;32m   3028\u001b[0m         \u001b[0mtextvariable\u001b[0m\u001b[1;33m,\u001b[0m \u001b[0mvalidate\u001b[0m\u001b[1;33m,\u001b[0m \u001b[0mvalidatecommand\u001b[0m\u001b[1;33m,\u001b[0m \u001b[0mvcmd\u001b[0m\u001b[1;33m,\u001b[0m \u001b[0mwidth\u001b[0m\u001b[1;33m,\u001b[0m\u001b[1;33m\u001b[0m\u001b[1;33m\u001b[0m\u001b[0m\n\u001b[0;32m   3029\u001b[0m         xscrollcommand.\"\"\"\n\u001b[1;32m-> 3030\u001b[1;33m         \u001b[0mWidget\u001b[0m\u001b[1;33m.\u001b[0m\u001b[0m__init__\u001b[0m\u001b[1;33m(\u001b[0m\u001b[0mself\u001b[0m\u001b[1;33m,\u001b[0m \u001b[0mmaster\u001b[0m\u001b[1;33m,\u001b[0m \u001b[1;34m'entry'\u001b[0m\u001b[1;33m,\u001b[0m \u001b[0mcnf\u001b[0m\u001b[1;33m,\u001b[0m \u001b[0mkw\u001b[0m\u001b[1;33m)\u001b[0m\u001b[1;33m\u001b[0m\u001b[1;33m\u001b[0m\u001b[0m\n\u001b[0m\u001b[0;32m   3031\u001b[0m \u001b[1;33m\u001b[0m\u001b[0m\n\u001b[0;32m   3032\u001b[0m     \u001b[1;32mdef\u001b[0m \u001b[0mdelete\u001b[0m\u001b[1;33m(\u001b[0m\u001b[0mself\u001b[0m\u001b[1;33m,\u001b[0m \u001b[0mfirst\u001b[0m\u001b[1;33m,\u001b[0m \u001b[0mlast\u001b[0m\u001b[1;33m=\u001b[0m\u001b[1;32mNone\u001b[0m\u001b[1;33m)\u001b[0m\u001b[1;33m:\u001b[0m\u001b[1;33m\u001b[0m\u001b[1;33m\u001b[0m\u001b[0m\n",
      "\u001b[1;32mc:\\python\\python38\\lib\\tkinter\\__init__.py\u001b[0m in \u001b[0;36m__init__\u001b[1;34m(self, master, widgetName, cnf, kw, extra)\u001b[0m\n\u001b[0;32m   2565\u001b[0m         \u001b[1;32mfor\u001b[0m \u001b[0mk\u001b[0m\u001b[1;33m,\u001b[0m \u001b[0mv\u001b[0m \u001b[1;32min\u001b[0m \u001b[0mclasses\u001b[0m\u001b[1;33m:\u001b[0m\u001b[1;33m\u001b[0m\u001b[1;33m\u001b[0m\u001b[0m\n\u001b[0;32m   2566\u001b[0m             \u001b[1;32mdel\u001b[0m \u001b[0mcnf\u001b[0m\u001b[1;33m[\u001b[0m\u001b[0mk\u001b[0m\u001b[1;33m]\u001b[0m\u001b[1;33m\u001b[0m\u001b[1;33m\u001b[0m\u001b[0m\n\u001b[1;32m-> 2567\u001b[1;33m         self.tk.call(\n\u001b[0m\u001b[0;32m   2568\u001b[0m             (widgetName, self._w) + extra + self._options(cnf))\n\u001b[0;32m   2569\u001b[0m         \u001b[1;32mfor\u001b[0m \u001b[0mk\u001b[0m\u001b[1;33m,\u001b[0m \u001b[0mv\u001b[0m \u001b[1;32min\u001b[0m \u001b[0mclasses\u001b[0m\u001b[1;33m:\u001b[0m\u001b[1;33m\u001b[0m\u001b[1;33m\u001b[0m\u001b[0m\n",
      "\u001b[1;31mTclError\u001b[0m: bad screen distance \"raised\""
     ]
    }
   ],
   "source": [
    "root = tk.Tk()\n",
    "\n",
    "# congiguring the main window\n",
    "\n",
    "# Resizing the main window\n",
    "root.geometry(\"300x350\")\n",
    "\n",
    "# making the title of the window\n",
    "root.title(\"Entry widget Options part 1\")\n",
    "\n",
    "# Background\n",
    "# we need to specify the background property inside the Entry widget arguments\n",
    "Label1 = tk.Label(root, text=\"insertborderwidth \").grid(row=0, column=0)\n",
    "Entry1 = tk.Entry(root , insertborderwidth = tk.RAISED , insertwidth=2).grid(row=0, column=1,padx=15 , pady=20)\n",
    "\n",
    "Label1 = tk.Label(root, text=\"insertborderwidth  blue\").grid(row=1, column=0)\n",
    "Entry1 = tk.Entry(root , insertborderwidth = tk.RIDGE).grid(row=1, column=1,padx=15 , pady=20)\n",
    "\n",
    "Label1 = tk.Label(root, text=\"insertborderwidth  green\").grid(row=2, column=0)\n",
    "Entry1 = tk.Entry(root , insertborderwidth = tk.GROOVE).grid(row=2, column=1,padx=15 , pady=20)\n",
    "\n",
    "root.mainloop()"
   ]
  },
  {
   "cell_type": "markdown",
   "id": "binary-radar",
   "metadata": {},
   "source": [
    "      "
   ]
  },
  {
   "cell_type": "markdown",
   "id": "wooden-booking",
   "metadata": {},
   "source": [
    "**4. Inertofftime and insertontime:**\n",
    "\n",
    "`Insertofftime:` by default,  the insertion cursor blinks, you can set insertofftime to a balue in miliseconds to specify how much time the insertionn cursor spends off Default is 300. if you use insertofftime=9 , the insertion cursor won't blink at all.\n",
    "\n",
    "`Insertontime:` similar to insertfftime, this optionspecifies how much time the curso r spends on per blink. Default is 600 miliseconds."
   ]
  },
  {
   "cell_type": "code",
   "execution_count": 33,
   "id": "stable-pride",
   "metadata": {},
   "outputs": [],
   "source": [
    "root = tk.Tk()\n",
    "\n",
    "# congiguring the main window\n",
    "\n",
    "# Resizing the main window\n",
    "root.geometry(\"300x350\")\n",
    "\n",
    "# making the title of the window\n",
    "root.title(\"Entry widget Options part 1\")\n",
    "\n",
    "\n",
    "# Effect will be shown when the Entry widget is on the foucus state.\n",
    " \n",
    "Label1 = tk.Label(root, text=\" insertofftime 300 inserton time 1000 \").grid(row=0, column=0)\n",
    "Entry1 = tk.Entry(root , insertofftime=300 , insertontime=1000).grid(row=0, column=1,padx=15 , pady=20)\n",
    "\n",
    "Label2 = tk.Label(root, text=\" insertofftime 0 inserton time 1000\").grid(row=1, column=0)\n",
    "Entry2 = tk.Entry(root ,  insertofftime=0 , insertontime=1000).grid(row=1, column=1,padx=15 , pady=20)\n",
    "\n",
    "Label3 = tk.Label(root, text=\" insertofftime 300 inserton time 1000\").grid(row=2, column=0)\n",
    "Entry3 = tk.Entry(root , insertofftime=1000 , insertontime=200).grid(row=2, column=1,padx=15 , pady=20)\n",
    "\n",
    "root.mainloop()"
   ]
  },
  {
   "cell_type": "markdown",
   "id": "cleared-belly",
   "metadata": {},
   "source": [
    "`Explanation:` \n",
    "\n",
    "* Entry 1: In this the cursor will remain on for 1000 miliseconds and it will be off for 300 miliseconds , Blinking is on.\n",
    "* Entry 2: In this the cursor will remain on for 1000 miliseconds and it will be off for 0 seconds , Blinking is Off.\n",
    "* Entry 3:  In this the cursor will remain off for 1000 miliseconds and it will be on for 200 seconds , Blinking is on."
   ]
  },
  {
   "cell_type": "markdown",
   "id": "interstate-slovenia",
   "metadata": {},
   "source": [
    "#### 4. Entry widget options part 3\n",
    "\n",
    "* exportselection\n",
    "* justify\n",
    "* show\n",
    "* readonlybackground\n",
    "* textvariable\n",
    "* relief\n",
    "* state"
   ]
  },
  {
   "cell_type": "code",
   "execution_count": 46,
   "id": "friendly-enough",
   "metadata": {},
   "outputs": [],
   "source": [
    "root = tk.Tk()\n",
    "\n",
    "# congiguring the main window\n",
    "\n",
    "# Resizing the main window\n",
    "root.geometry(\"600x400\")\n",
    "\n",
    "# making the title of the window\n",
    "root.title(\"Entry widget Options part 1\")\n",
    "\n",
    "# Now we will use the Label widget with the Entry widget so we can show that Which Entry is used for what?\n",
    "Labelconfig = {\"justify\":tk.LEFT}\n",
    "\n",
    "# For each Entry we will use seperate Label\n",
    "\n",
    "# exportselection on\n",
    "# by default exportselection is on  \n",
    "Label1 = tk.Label(root, text=\"exportselection on :\").grid(row=0, column=0)\n",
    "Entry1 = tk.Entry(root).grid(row=0, column=1,padx=15)\n",
    "\n",
    "\n",
    "# exportselection off\n",
    "# making the export selection is off \n",
    "Label2 = tk.Label(root, text=\"exportselection off :\").grid(row=1, column=0)\n",
    "Entry2 = tk.Entry(root, exportselection =  0 ).grid(row=1, column=1,padx=15)\n",
    "\n",
    "# justify\n",
    "# it is used to jutify the text alignment \n",
    "# by default it is left now we will make it right\n",
    "Label3 = tk.Label(root, text=\"Justify right \").grid(row=2, column=0)\n",
    "Entry3 = tk.Entry(root, justify=tk.RIGHT).grid(row=2, column=1,padx=15)\n",
    "\n",
    "# justify center\n",
    "Label4 = tk.Label(root, text=\"Justify Center\").grid(row=3, column=0)\n",
    "Entry4 = tk.Entry(root ,justify = tk.CENTER).grid(row=3, column=1,padx=15)\n",
    "\n",
    "\n",
    "# readonlybackground  and state\n",
    "# need to make the state as 'readonly'\n",
    "Label5 = tk.Label(root, text=\"state readonly background\").grid(row=4, column=0)\n",
    "Entry5 = tk.Entry(root , state='readonly' ,readonlybackground='blue', fg = 'white').grid(row=4, column=1,padx=15)\n",
    "\n",
    "\n",
    "# textvariabel + state + readonlybackground\n",
    "# In this we will show some text inside the Entry but can't make any input because the state is readonly\n",
    "# Also we will set the readonlybackground\n",
    "\n",
    "Text = tk.StringVar() # to control the string which is used in the Entry widget\n",
    "\n",
    "Text.set('Hello! Manish')\n",
    "Label6 = tk.Label(root, text=\"Text on readonly mode\").grid(row=5, column=0)\n",
    "Entry6 = tk.Entry(root , state='readonly', readonlybackground = 'blue', fg='white', textvariable = Text).grid(row=5, column=1,padx=15)\n",
    "\n",
    "\n",
    "R_label1 =  tk.Label(root, text=\"readonly mode NO text is set\" , justify = tk.RIGHT).grid(row=4, column=2)\n",
    "R_label2 =  tk.Label(root, text=\"readonly mode text is set\" ,  justify = tk.LEFT).grid(row=5, column=2)\n",
    "# making the infinite loop for the mainwindow\n",
    "root.mainloop()"
   ]
  },
  {
   "cell_type": "markdown",
   "id": "accessible-mauritius",
   "metadata": {},
   "source": [
    "<img src = \"./Tutorial Images/Entry widget 2.png\">"
   ]
  },
  {
   "cell_type": "markdown",
   "id": "eight-kennedy",
   "metadata": {},
   "source": [
    "`Explanation:` \n",
    "\n",
    "* Entry 1: In this we didn't do anything this is the simple default entry in which exportselection is on by default.\n",
    "* Entry 2: exportselection is disabled \n",
    "* Entry 3: In this we used the text alignment inside the entry widget, we set the justify as right \n",
    "* Entry 4: In this we set the justify as Center.\n",
    "* Entry 5: This is the readonly mode of the Entry widget in this we have a readonly background color as blue but we didn't put any text in this.\n",
    "* Entry 6: This is also a readonly mode but in this we put some text to show the information to the user but the user can't input because of the readonly mode."
   ]
  },
  {
   "cell_type": "markdown",
   "id": "elegant-mapping",
   "metadata": {},
   "source": [
    "# Tkinter Entery widget functions"
   ]
  },
  {
   "cell_type": "markdown",
   "id": "typical-petersburg",
   "metadata": {},
   "source": [
    "### 1. delete() funtion\n",
    "\n",
    "Deletes character from the widget, starting with the one at index _first_ up to but not including the character at position _last_, if the second argument in omitted, only the single character at position _first_ is deleted."
   ]
  },
  {
   "cell_type": "code",
   "execution_count": 59,
   "id": "certified-humidity",
   "metadata": {},
   "outputs": [],
   "source": [
    "root = tk.Tk()\n",
    "\n",
    "# congiguring the main window\n",
    "\n",
    "# Resizing the main window\n",
    "root.geometry(\"250x100\")\n",
    "\n",
    "# making the title of the window\n",
    "root.title(\"Entry string delete\")\n",
    "\n",
    "# string variable this will control the string \n",
    "Text_var = tk.StringVar()\n",
    "Text_var.set(\"Hello this is manish\")\n",
    "\n",
    "# after setting the text this string will show inside the Entry widget\n",
    "\n",
    "Label1 = tk.Label(root, text=\"Main string\").grid(row=0, column=0)\n",
    "Entry1 = tk.Entry(root , textvariable = Text_var )\n",
    "Entry1.grid(row=0, column=1,padx=15)\n",
    "\n",
    "# Now we will use the tk.tkinter.delete(start , last) fucntion to remove some text\n",
    "\n",
    "root.mainloop()"
   ]
  },
  {
   "cell_type": "markdown",
   "id": "monetary-infrastructure",
   "metadata": {},
   "source": [
    "\n",
    "In this above code we will see that the string is visible in the Entry widget. Now we will remove the some word in this  by using the delete method."
   ]
  },
  {
   "cell_type": "code",
   "execution_count": 60,
   "id": "saving-panama",
   "metadata": {},
   "outputs": [],
   "source": [
    "root = tk.Tk()\n",
    "\n",
    "# congiguring the main window\n",
    "\n",
    "# Resizing the main window\n",
    "root.geometry(\"250x100\")\n",
    "\n",
    "# making the title of the window\n",
    "root.title(\"Entry string delete\")\n",
    "\n",
    "# string variable this will control the string \n",
    "Text_var = tk.StringVar()\n",
    "Text_var.set(\"Hello this is manish\")\n",
    "\n",
    "# after setting the text this string will show inside the Entry widget\n",
    "\n",
    "\n",
    "Label1 = tk.Label(root, text=\"Main string\").grid(row=0, column=0)\n",
    "Entry1 = tk.Entry(root , textvariable = Text_var )\n",
    "Entry1.grid(row=0, column=1,padx=15)\n",
    "\n",
    "# Now we will use the tk.tkinter.delete(start , last) fucntion to remove some text\n",
    "# removing the Hello\n",
    "\n",
    "\n",
    "Entry1.delete(0,5) # Here 0 is the starting point to delete the character form the string and the 5 is the last point to delete the \n",
    "# string \n",
    "\n",
    "# \n",
    "\n",
    "\n",
    "root.mainloop()"
   ]
  },
  {
   "cell_type": "markdown",
   "id": "blind-temple",
   "metadata": {},
   "source": [
    "### 2. get() funtion\n",
    "\n",
    "This funtion return's current text as a string."
   ]
  },
  {
   "cell_type": "code",
   "execution_count": 69,
   "id": "altered-ridge",
   "metadata": {},
   "outputs": [
    {
     "name": "stdout",
     "output_type": "stream",
     "text": [
      "Hello this is manish\n",
      "Hello this is manish\n",
      "Hello this is manish\n"
     ]
    }
   ],
   "source": [
    "root = tk.Tk()\n",
    "\n",
    "# congiguring the main window\n",
    "\n",
    "# Resizing the main window\n",
    "root.geometry(\"300x100\")\n",
    "\n",
    "# making the title of the window\n",
    "root.title(\"Get the string \")\n",
    "\n",
    "# string variable this will control the string \n",
    "Text_var = tk.StringVar()\n",
    "Text_var.set(\"Hello this is manish\")\n",
    "\n",
    "# after setting the text this string will show inside the Entry widget\n",
    "\n",
    "\n",
    "Label1 = tk.Label(root, text=\"Main string\").grid(row=0, column=0)\n",
    "Entry1 = tk.Entry(root , textvariable = Text_var )\n",
    "Entry1.grid(row=0, column=1,padx=15 , pady=30)\n",
    "\n",
    "# Now we will use the tk.tkinter.delete(start , last) fucntion to remove some text\n",
    "# removing the Hello\n",
    "\n",
    "# we will add a button to get the text and print it to the consle\n",
    "\n",
    "# Since button need a funtion which will be called when the button is pressed.\n",
    "\n",
    "def get_text():\n",
    "\n",
    "    text = Entry1.get()\n",
    "    print(text)\n",
    "\n",
    "    \n",
    "    \n",
    "button = tk.Button(root, text='get text' , command  = get_text)\n",
    "button.grid(row = 0 , column=2)\n",
    "\n",
    "root.mainloop()"
   ]
  },
  {
   "cell_type": "markdown",
   "id": "dangerous-discovery",
   "metadata": {},
   "source": [
    "### 3. icursor() funtion\n",
    "\n",
    "Set the insertion cursor just before the character at the given _index_. by default isertion cursor is not present during the initialization of the widget."
   ]
  },
  {
   "cell_type": "code",
   "execution_count": 76,
   "id": "built-suspension",
   "metadata": {},
   "outputs": [
    {
     "name": "stdout",
     "output_type": "stream",
     "text": [
      "5\n",
      "5\n",
      "5\n"
     ]
    }
   ],
   "source": [
    "root = tk.Tk()\n",
    "\n",
    "# congiguring the main window\n",
    "\n",
    "# Resizing the main window\n",
    "root.geometry(\"300x100\")\n",
    "# making the title of the window\n",
    "root.title(\"Insertion cursor\")\n",
    "\n",
    "# string variable this will control the string \n",
    "Text_var = tk.StringVar()\n",
    "Text_var.set(\"Hello this is manish\")\n",
    "\n",
    "# after setting the text this string will show inside the Entry widget\n",
    "\n",
    "\n",
    "Label1 = tk.Label(root, text=\"Main string\").grid(row=0, column=0)\n",
    "Entry1 = tk.Entry(root , textvariable = Text_var )\n",
    "Entry1.grid(row=0, column=1,padx=15 , pady=30)\n",
    "\n",
    "# putting the cursor after hello\n",
    "\n",
    "def put_cursor():\n",
    "\n",
    "    pos = len('Hello')\n",
    "    print(pos)\n",
    "    Entry1.icursor(pos)\n",
    "\n",
    "button = tk.Button(root, text='put cursor' , command  = put_cursor)\n",
    "button.grid(row = 0 , column=2)\n",
    "\n",
    "root.mainloop()"
   ]
  },
  {
   "cell_type": "markdown",
   "id": "automatic-compact",
   "metadata": {},
   "source": [
    "After intialising the Entry widget we need to acive the Entry widget by clicking on it after that the cursor will be visible. Now click on the put cursor button this will shift the cursor at the 5th number of the index.\n",
    "\n",
    "### 4. index() function\n",
    "\n",
    "Shift the contents of the entry so that the character at the given _index_ is the leftmost visible character. Has no effect if the text fits entirely within the entry."
   ]
  },
  {
   "cell_type": "code",
   "execution_count": 85,
   "id": "minus-germany",
   "metadata": {},
   "outputs": [
    {
     "name": "stdout",
     "output_type": "stream",
     "text": [
      "30\n",
      "30\n",
      "30\n",
      "30\n",
      "30\n"
     ]
    }
   ],
   "source": [
    "root = tk.Tk()\n",
    "\n",
    "# congiguring the main window\n",
    "\n",
    "# Resizing the main window\n",
    "root.geometry(\"300x100\")\n",
    "# making the title of the window\n",
    "root.title(\"Change the index \")\n",
    "\n",
    "# string variable this will control the string \n",
    "Text_var = tk.StringVar()\n",
    "Text_var.set(\"Hello this is manish, you need to put the cursor on the text\")\n",
    "\n",
    "# after setting the text this string will show inside the Entry widget\n",
    "\n",
    "\n",
    "Label1 = tk.Label(root, text=\"Main string\").grid(row=0, column=0)\n",
    "Entry1 = tk.Entry(root , textvariable = Text_var )\n",
    "Entry1.grid(row=0, column=1,padx=15 , pady=30)\n",
    "\n",
    "# putting the cursor after hello\n",
    "\n",
    "def put_cursor():\n",
    "\n",
    "    Entry1.index(30)\n",
    "    print(Entry1.index(30))\n",
    "\n",
    "button = tk.Button(root, text='put cursor' , command  = put_cursor)\n",
    "button.grid(row = 0 , column=2)\n",
    "\n",
    "root.mainloop()"
   ]
  },
  {
   "cell_type": "markdown",
   "id": "marine-roulette",
   "metadata": {},
   "source": [
    "### 5. insert() funtion\n",
    "\n",
    "Inserts string S before  the character at the given _index_."
   ]
  },
  {
   "cell_type": "code",
   "execution_count": 86,
   "id": "engaging-attitude",
   "metadata": {},
   "outputs": [],
   "source": [
    "root = tk.Tk()\n",
    "\n",
    "# congiguring the main window\n",
    "\n",
    "# Resizing the main window\n",
    "root.geometry(\"300x100\")\n",
    "# making the title of the window\n",
    "root.title(\"Insert String\")\n",
    "\n",
    "# string variable this will control the string \n",
    "Text_var = tk.StringVar()\n",
    "Text_var.set(\"Hello this is manish, you need to put the cursor on the text\")\n",
    "\n",
    "# after setting the text this string will show inside the Entry widget\n",
    "\n",
    "\n",
    "Label1 = tk.Label(root, text=\"Main string\").grid(row=0, column=0)\n",
    "Entry1 = tk.Entry(root , textvariable = Text_var )\n",
    "Entry1.grid(row=0, column=1,padx=15 , pady=30)\n",
    "\n",
    "# putting the cursor after hello\n",
    "\n",
    "def insert_string():\n",
    "\n",
    "    Entry1.insert(6, \"Hi, \")\n",
    "\n",
    "button = tk.Button(root, text='Insert Hi,' , command  = insert_string)\n",
    "button.grid(row = 0 , column=2)\n",
    "\n",
    "root.mainloop()"
   ]
  },
  {
   "cell_type": "code",
   "execution_count": null,
   "id": "welsh-moderator",
   "metadata": {},
   "outputs": [],
   "source": []
  },
  {
   "cell_type": "markdown",
   "id": "national-texture",
   "metadata": {},
   "source": [
    "### 6. select_adjust()\n",
    "\n",
    "This method is used to make sure that the selection inclusdes the character at the specified _index_. if the selection already includes that character, nothing happends. if not, the selection is expanded from its current position (if any) to include position _index_."
   ]
  },
  {
   "cell_type": "code",
   "execution_count": 88,
   "id": "casual-clinton",
   "metadata": {},
   "outputs": [],
   "source": [
    "root = tk.Tk()\n",
    "\n",
    "# congiguring the main window\n",
    "\n",
    "# Resizing the main window\n",
    "root.geometry(\"300x100\")\n",
    "# making the title of the window\n",
    "root.title(\"Insert String\")\n",
    "\n",
    "# string variable this will control the string \n",
    "Text_var = tk.StringVar()\n",
    "Text_var.set(\"Hello this is manish\")\n",
    "\n",
    "# after setting the text this string will show inside the Entry widget\n",
    "\n",
    "\n",
    "Label1 = tk.Label(root, text=\"Main string\").grid(row=0, column=0)\n",
    "Entry1 = tk.Entry(root , textvariable = Text_var )\n",
    "Entry1.grid(row=0, column=1,padx=15 , pady=30)\n",
    "\n",
    "# putting the cursor after hello\n",
    "\n",
    "def select_adjust():\n",
    "\n",
    "    Entry1.select_adjust(5)\n",
    "    # This will select the all the character in b/w the given index and the current postion of the insertion cursor.\n",
    "    # Suppose that the insertion cursor is at the 0th positon of the string \n",
    "    # select_adjust is at the 5th index number then it will select all the charater in b/w 0-5.\n",
    "\n",
    "button = tk.Button(root, text='Insert Hi,' , command  = select_adjust )\n",
    "button.grid(row = 0 , column=2)\n",
    "\n",
    "root.mainloop()"
   ]
  },
  {
   "cell_type": "markdown",
   "id": "shared-seventh",
   "metadata": {},
   "source": [
    "### 7. select_clear() function\n",
    "\n",
    "Clears the selection. if there isn't currenrly a selection, has no effect."
   ]
  },
  {
   "cell_type": "code",
   "execution_count": null,
   "id": "acceptable-medline",
   "metadata": {},
   "outputs": [],
   "source": [
    "root = tk.Tk()\n",
    "\n",
    "# congiguring the main window\n",
    "\n",
    "# Resizing the main window\n",
    "root.geometry(\"300x200\")\n",
    "# making the title of the window\n",
    "root.title(\"Insert String\")\n",
    "\n",
    "# string variable this will control the string \n",
    "Text_var = tk.StringVar()\n",
    "Text_var.set(\"Hello this is manish\")\n",
    "\n",
    "# after setting the text this string will show inside the Entry widget\n",
    "\n",
    "\n",
    "Label1 = tk.Label(root, text=\"Main string\").grid(row=0, column=0)\n",
    "Entry1 = tk.Entry(root , textvariable = Text_var )\n",
    "Entry1.grid(row=0, column=1,padx=15 , pady=30)\n",
    "\n",
    "# putting the cursor after hello\n",
    "\n",
    "def select_adjust():\n",
    "\n",
    "    Entry1.select_adjust(5)\n",
    "    # This will select the all the character in b/w the given index and the current postion of the insertion cursor.\n",
    "    # Suppose that the insertion cursor is at the 0th positon of the string \n",
    "    # select_adjust is at the 5th index number then it will select all the charater in b/w 0-5.\n",
    "    \n",
    "def clear_select():\n",
    "    \n",
    "    Entry1.select_clear()\n",
    "    \n",
    "    # This function clear the selection of the string. \n",
    "    # Note: this does not delete (remove) the string from the Entry, it just unselect the the selected text.\n",
    "\n",
    "button = tk.Button(root, text='Insert Hi,' , command  = select_adjust )\n",
    "button.grid(row = 0 , column=2)\n",
    "\n",
    "button2 = tk.Button(root, text='Clear selection' , command  = clear_select )\n",
    "button2.grid(row = 1 , column=1)\n",
    "\n",
    "root.mainloop()"
   ]
  },
  {
   "cell_type": "markdown",
   "id": "hydraulic-groove",
   "metadata": {},
   "source": [
    "### 8. Select_present()\n",
    "\n",
    "if there is a selection, returns true, else returns false."
   ]
  },
  {
   "cell_type": "code",
   "execution_count": null,
   "id": "polyphonic-balloon",
   "metadata": {},
   "outputs": [],
   "source": [
    "root = tk.Tk()\n",
    "\n",
    "# congiguring the main window\n",
    "\n",
    "# Resizing the main window\n",
    "root.geometry(\"300x200\")\n",
    "# making the title of the window\n",
    "root.title(\"Insert String\")\n",
    "\n",
    "# string variable this will control the string \n",
    "Text_var = tk.StringVar()\n",
    "Text_var.set(\"Hello this is manish\")\n",
    "\n",
    "# after setting the text this string will show inside the Entry widget\n",
    "\n",
    "\n",
    "Label1 = tk.Label(root, text=\"Main string\").grid(row=0, column=0)\n",
    "Entry1 = tk.Entry(root , textvariable = Text_var )\n",
    "Entry1.grid(row=0, column=1,padx=15 , pady=30)\n",
    "\n",
    "# putting the cursor after hello\n",
    "\n",
    "def select_adjust():\n",
    "\n",
    "    Entry1.select_adjust(5)\n",
    "    # This will select the all the character in b/w the given index and the current postion of the insertion cursor.\n",
    "    # Suppose that the insertion cursor is at the 0th positon of the string \n",
    "    # select_adjust is at the 5th index number then it will select all the charater in b/w 0-5.\n",
    "    \n",
    "def clear_select():\n",
    "    \n",
    "    Entry1.select_clear()\n",
    "    \n",
    "    # This function clear the selection of the string. \n",
    "    # Note: this does not delete (remove) the string from the Entry, it just unselect the the selected text.\n",
    "\n",
    "def check_selection():\n",
    "    \n",
    "    # check selection will be put on the 2nd row and 3rd column\n",
    "    value = tk.StringVar()\n",
    "    Entry1.select_present()\n",
    "    check = tk.Label(root, ).grid(row=0, column=0)\n",
    "    \n",
    "    \n",
    "button = tk.Button(root, text='Insert Hi,' , command  = select_adjust )\n",
    "button.grid(row = 0 , column=2)\n",
    "\n",
    "button2 = tk.Button(root, text='Clear selection' , command  = clear_select )\n",
    "button2.grid(row = 1 , column=1)\n",
    "\n",
    "\n",
    "button3 = tk.Button(root, text='Check selection' , command  = check_selection )\n",
    "button3.grid(row = 1 , column=1)\n",
    "root.mainloop()"
   ]
  }
 ],
 "metadata": {
  "kernelspec": {
   "display_name": "Python 3",
   "language": "python",
   "name": "python3"
  },
  "language_info": {
   "codemirror_mode": {
    "name": "ipython",
    "version": 3
   },
   "file_extension": ".py",
   "mimetype": "text/x-python",
   "name": "python",
   "nbconvert_exporter": "python",
   "pygments_lexer": "ipython3",
   "version": "3.8.3"
  }
 },
 "nbformat": 4,
 "nbformat_minor": 5
}
