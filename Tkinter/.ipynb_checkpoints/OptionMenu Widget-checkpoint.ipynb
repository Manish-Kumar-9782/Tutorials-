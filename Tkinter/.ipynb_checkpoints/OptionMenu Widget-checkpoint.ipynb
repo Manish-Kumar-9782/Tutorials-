{
 "cells": [
  {
   "cell_type": "markdown",
   "id": "female-police",
   "metadata": {},
   "source": [
    "## OptionMenu widget\n",
    "\n",
    "The Optionmenu widget is similar to the Menu with a Menubutton, it alos contains the Menubutton, when the menu button is pressed then some option will be dragged down by default. \n",
    "\n",
    "`Note:`\n",
    "* In this we don't have to make an additional Menubutton it will construct by itself.\n",
    "* This OptionMenu does not contains options; but it contains (Parent_window, variable, choice1, choice2..... )\n",
    "* Parent_window: it is used to hold the OptionMenu\n",
    "* Variable: it is used to hold the value of the choice from the option choices.\n",
    "* choices: they will be visible when the button is clicked.\n",
    "\n",
    "```ruby\n",
    "OM = tk.OptionMenu(root, variable, choice1, choice2....)\n",
    "```\n",
    "\n",
    "This constructor returns the new OptionsMenu widget. The variable is a StringVar instance  that is associated with the widget, and the remaining arguments are the choices to be displayted in the widget as strings.\n",
    "\n",
    "\n",
    "Note: We can get the selected option value when it is needed by accessing the control variable _get_ method."
   ]
  },
  {
   "cell_type": "markdown",
   "id": "amber-associate",
   "metadata": {},
   "source": [
    "***Importing tkinter***"
   ]
  },
  {
   "cell_type": "code",
   "execution_count": 1,
   "id": "beneficial-treat",
   "metadata": {},
   "outputs": [],
   "source": [
    "import tkinter as tk"
   ]
  },
  {
   "cell_type": "markdown",
   "id": "controlling-cream",
   "metadata": {},
   "source": [
    "### Making a Option Menu "
   ]
  },
  {
   "cell_type": "code",
   "execution_count": 5,
   "id": "excess-toddler",
   "metadata": {},
   "outputs": [
    {
     "name": "stdout",
     "output_type": "stream",
     "text": [
      "Selected option: Select option\n"
     ]
    }
   ],
   "source": [
    "# creating a root winodow\n",
    "\n",
    "root = tk.Tk()\n",
    "\n",
    "root.title(\"OptionMenu Tutorial\")\n",
    "root.geometry(\"400x300\")\n",
    "root.iconbitmap(\"./bitmap icons/home.ico\")\n",
    "#-------------------------------------------------------------------------------------------------------------------\n",
    "\n",
    "    # Here, we will make OptionMenu widget\n",
    "\n",
    "# Now first of all we need to make a list of option \n",
    "# like: 'option 1', 'option 2', 'option 3' , 'option 4'\n",
    "\n",
    "# Now we will make a widget for the optionmenu\n",
    "var = tk.StringVar()\n",
    "var.set('Select option')\n",
    "OptionMenu = tk.OptionMenu(root, var, 'option 1', 'option 2', 'option 3' , 'option 4' )\n",
    "OptionMenu.pack()\n",
    "\n",
    "print(\"Selected option:\",var.get())\n",
    "    \n",
    "#-------------------------------------------------------------------------------------------------------------------\n",
    "\n",
    "root.mainloop()#"
   ]
  },
  {
   "cell_type": "markdown",
   "id": "consistent-legend",
   "metadata": {},
   "source": [
    "### Making OptionMenu by using a List"
   ]
  },
  {
   "cell_type": "code",
   "execution_count": 2,
   "id": "durable-visibility",
   "metadata": {},
   "outputs": [
    {
     "name": "stdout",
     "output_type": "stream",
     "text": [
      ".\n"
     ]
    }
   ],
   "source": [
    "# creating a root winodow\n",
    "\n",
    "root = tk.Tk()\n",
    "\n",
    "root.title(\"OptionMenu Tutorial\")\n",
    "root.geometry(\"400x300\")\n",
    "root.iconbitmap(\"./bitmap icons/home.ico\")\n",
    "#-------------------------------------------------------------------------------------------------------------------\n",
    "\n",
    "    # Here, we will make OptionMenu widget\n",
    "\n",
    "# Now first of all we need to make a list of option \n",
    "# like: 'option 1', 'option 2', 'option 3' , 'option 4'\n",
    "\n",
    "# now we will make a list of options. NOw suppose that we want to by some items and we need to choose one of them.\n",
    "# itemLIst\n",
    "Options = ['Curd', 'Rice', 'Tea' , 'Seeds' ]\n",
    "\n",
    "# Now we will make a widget for the optionmenu\n",
    "var = tk.StringVar()\n",
    "var.set('Tea') # by Setting this we will can initilized the default choice.\n",
    "\n",
    "OptionMenu = tk.OptionMenu(root, var, *Options )\n",
    "OptionMenu.pack(side= 'left' , padx= 50  ,anchor = 'nw')\n",
    "\n",
    "# now to get the selected item we will use a submit button for the current choice.\n",
    "\n",
    "# first we will make an function\n",
    "def get_item():\n",
    "    \n",
    "    print(\"Item Selecte: \", var.get())\n",
    "    \n",
    "submit = tk.Button(root, text=\"Submit\" ,command =get_item)\n",
    "submit.pack(side = 'left' , padx = 20 ,anchor = 'nw' )\n",
    "\n",
    "# Result: Now by using this 'submit' button we can retive the currently selectd item. \n",
    "\n",
    "#-------------------------------------------------------------------------------------------------------------------\n",
    "\n",
    "root.mainloop()#"
   ]
  },
  {
   "cell_type": "markdown",
   "id": "empirical-reasoning",
   "metadata": {},
   "source": [
    "##### Note:\n",
    "Since this OptionMenu is very short and dont contains any other functionallity So we are finished here with this OptionMenu."
   ]
  },
  {
   "cell_type": "code",
   "execution_count": null,
   "id": "negative-complex",
   "metadata": {},
   "outputs": [],
   "source": []
  }
 ],
 "metadata": {
  "kernelspec": {
   "display_name": "Python 3",
   "language": "python",
   "name": "python3"
  },
  "language_info": {
   "codemirror_mode": {
    "name": "ipython",
    "version": 3
   },
   "file_extension": ".py",
   "mimetype": "text/x-python",
   "name": "python",
   "nbconvert_exporter": "python",
   "pygments_lexer": "ipython3",
   "version": "3.8.3"
  }
 },
 "nbformat": 4,
 "nbformat_minor": 5
}
