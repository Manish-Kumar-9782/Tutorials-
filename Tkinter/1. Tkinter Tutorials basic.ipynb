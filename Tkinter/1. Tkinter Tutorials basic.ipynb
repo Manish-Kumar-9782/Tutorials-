{
 "cells": [
  {
   "cell_type": "markdown",
   "metadata": {},
   "source": [
    "<h1 style=\"font-family:serif; color:blue; text-align:center;\">Tkinter Basic </h1>\n",
    "\n",
    "<p style=\"font-family:serif; font-size:17px;\"> \n",
    "    Hello this is very first tutorial in Tkinter tutorial series in which we will see the all the Basic part of the Tkinter classes like windows, button, canvas, Entry, Frame, Lable, Menu etc.\n",
    "   \n",
    "</p>"
   ]
  },
  {
   "cell_type": "markdown",
   "metadata": {},
   "source": [
    "``Common attribute for all of the widgets ``\n",
    "- anchor\n",
    "- bg and bd (background and border size)\n",
    "- fg (forground)\n",
    "- height and width\n",
    "- padx and pady\n",
    "- image\n",
    "- text and textvariable"
   ]
  },
  {
   "cell_type": "markdown",
   "metadata": {},
   "source": [
    "## 1.Main Window"
   ]
  },
  {
   "cell_type": "code",
   "execution_count": 1,
   "metadata": {},
   "outputs": [],
   "source": [
    "import tkinter as tk"
   ]
  },
  {
   "cell_type": "code",
   "execution_count": 8,
   "metadata": {},
   "outputs": [],
   "source": [
    "# Since this first tutorial only to create the simple window so we dont need any extra module.\n",
    "\n",
    "# first of all we need ot call the tk() class which contains all the main window attribute\n",
    "# calling tk() \n",
    "root = tk.Tk() # here root is the name variable for the main window. This name can be used to create some other widgets,  \n",
    "            # lable, Entry, Frame, Button etc. to do this we need to use the master window name for a child widget \n",
    "            # or window.\n",
    "    \n",
    "root.mainloop() \n"
   ]
  },
  {
   "cell_type": "markdown",
   "metadata": {},
   "source": [
    "<img src=\"Tutorial Images/very first window.png\"  />"
   ]
  },
  {
   "cell_type": "markdown",
   "metadata": {},
   "source": [
    "\n",
    "``window.mainloop():  `` <span style=\"font-family:serif; font-size:17px;\"> windows.mainloop() tells Python to run the Tkinter event loop. This method listens for events, such as button clicks or keypresses, and blocks any code that comes after it from running until the window it’s called on is closed.\n",
    "   \n",
    "</span>\n",
    "\n",
    "**Now we have seen the very first tutorial now we will add a lable to it.**"
   ]
  },
  {
   "cell_type": "markdown",
   "metadata": {},
   "source": [
    "## 2.Label \n",
    "\n",
    "<p style=\"font-family:serif; font-size:17px;\"> We have created the very basic of the tkinter window now we need to add some new things like label which displays the text on the screen.\n",
    "   \n",
    "</p>"
   ]
  },
  {
   "cell_type": "code",
   "execution_count": 7,
   "metadata": {},
   "outputs": [],
   "source": [
    "root = tk.Tk()\n",
    " # this section is the most fundamental part in which we can add some more widgets and give their property.\n",
    "    # In this we add a Label to add a label we need one things which is master window \n",
    "    # This master window is the parent window in which the label is going to placed. \n",
    "    # like every widget a Label can have many option which can be usefull to make it stylish.\n",
    "    \n",
    "label = tk.Label(root,text=\"hello world!\")\n",
    "\n",
    "# In this label function, the very first argument is for the master window, here the master window is root in which this \n",
    "# label is going to display. there are other option also which can be seen from the below link\n",
    "\n",
    "label.pack()\n",
    "\n",
    "# here we used one additional function on the label is pack() which is used to pack the widget into the master window\n",
    "# if we dont pack the widget (label) then nothing will be appear on the master window\n",
    "\n",
    "root.mainloop()"
   ]
  },
  {
   "cell_type": "markdown",
   "metadata": {},
   "source": [
    "<img src=\"Tutorial Images/Label1.png\">"
   ]
  },
  {
   "cell_type": "markdown",
   "metadata": {},
   "source": [
    " <span style=\"color:red\"> Note: </span> we shoud use pack() function seperately after applying all the attributes.\n",
    " \n",
    " Here you can find some useful option which can be used in Label widget https://www.tutorialspoint.com/python/tk_label.htm\n",
    " \n",
    " #### Packing or Tkinter Layout Management\n",
    " \n",
    " <p style =\"font-family:serif; font-size:17px; \"> Tkinter has three built-in layout managers: the pack, grid, and place managers. The place geometry manager positions widgets using absolute positioning. The pack geometry manager organizes widgets in horizontal and vertical boxes. The grid geometry manager places widgets in a two dimensional grid. </p>\n",
    " \n",
    " <ol style= \"font-family:serif; font-size:17px; \"> \n",
    "    <li> Place: we use this for absulate positioning. </li>\n",
    "    <li> Grid: if we want the full control over the widget in two dimensional then use grid. </li>\n",
    "    <li> Pack: this is also used in two dimensional horizontal and vertical but in this we can not control the postion of the widget </li>\n",
    " </ol>\n",
    " \n",
    " ``Note: ``<span style=\"font-size: 17px \">  we will see the each individual layout management later in their section for now we will se the Label and ther attributes\n",
    " </span> "
   ]
  },
  {
   "cell_type": "markdown",
   "metadata": {},
   "source": [
    "### 2.1 Label options and attributes\n",
    "\n",
    "\n",
    "\n",
    "|Options|Discriptions |\n",
    "|:------------------|:-------|\n",
    "|**activebackgriound**|Background coloe to be displayed when the mouse is ouver the widget. |\n",
    "|**actibeforegriound** |Foreground color to be displayed when the mouse is ouver the widget. |\n",
    "|**anchor**|This options controls where the text is positoned, if the the widget has more space than the text needs. The default is *anchor=tk.CENTER*, which centers the text in the available space. |\n",
    "|**bg** or **background** |The background color of the label area.|\n",
    "|**bitmap**|Set this option equal to a bitmap or image objext and the label will display that graphic.|\n",
    "|**bd** or **borderwidth**|Width of the border around the label. The default value is 2px.|\n",
    "|**compound**|if uou would like the **Label** widget to display both text and a graphic, the *compound* iption specifies the relative orientation of the graphic relative to the text. Values may be any of **tk.LEFT, tk.RIGHT, tk.CENTER, tk.BOTTOM, or tk.TOP**. for example uf you specify **compound=BOTTOM,** the graphic will be displayed below the text. |\n",
    "|**cursor**|Cursor that appears when the mouse is over the label.|\n",
    "|**disabledforeground**|The foreground color to be displayed when the widget's **state** is **tk.DISABLED.**|\n",
    "|**font**|if you are displaying thext in this label (with *text* or *textvariable*, the **font** option specifies in what font that text will ve diaplayed|\n",
    "|**fg** or **foreground** |if you are displaying text or a bitmap in this label, this option specifies the color of the text. if you are displaying bitmap, this is the color that will appear at the position of the 1-bits in the bitmap.|\n",
    "|**height**|Height of the label in *lines* (not pixles). if this is not set, the label will be sozed to fit its contents.|\n",
    "|**highlightbackground**|Color of the focus highlight when the widget does not have focus.|\n",
    "|**highlightcolor**|The color of the focus highlight when the widget has focus.|\n",
    "|**highlightthickness**|Thickness of the highlight.|\n",
    "|**image**|To display a static image in the label widget, set this option to an image object.|\n",
    "|**justify**|Specifies how multiple lines of text will be aligned with respec to each other: **tk.LEFT** for flush left, **tk.CENTER** for centered, **tk.RIGHT** for right-justified. |\n",
    "|**padx and pady**|**padx:** Extra space added to the left and right of the text within the widget. **pady:** Extra space added above and below the text within the widget. by default both values are 1.|\n",
    "|**relief**|Specifies the appearance of a decorative borader around the label. The default is **tk.FLAT**; check other relief in that perticular page|\n",
    "|**state**|By defult, an **Entry** widget is in the **tk.NORMAL** state. set **tk.DISABLED** to make it unresponsive to mouse events. The state will be **tk.ACTIVE** when the mouse is over the widget.|\n",
    "|**takefocus**|NOrmally, focus does not cycke through **Label** widgets; \"Focus routing keyboard input\". if you want this widget to be visited by the focus, set **takefocus=1** |\n",
    "|**text**|To display one or more lines of thext in a label widget, set this option a string containing the text. internal newlines ('\\n') will fouce a line break.|\n",
    "|**textvariable**|To slave the text displayed in a label widget to a control variable of class **StringVar**m set this option to that variable. \"Control variables: the values behind the widgets\"|\n",
    "|**underline**|You can display an underline ( _ ) below the nth letter of the text, counting from 0, by setting this option to n. The defaults is **undelines=-1** which means no underlining.  |\n",
    "|**width**|Width of the label in *characters* (not pixles). if this option is not set, the label will be sized to fit its contents.|\n",
    "|**wraplength**|You can limit the number of characters in each line by setting this option to the desired number. The defauylt value, 0, means that lines will be broken only at newlines.|"
   ]
  },
  {
   "cell_type": "markdown",
   "metadata": {},
   "source": []
  },
  {
   "cell_type": "code",
   "execution_count": null,
   "metadata": {},
   "outputs": [],
   "source": []
  }
 ],
 "metadata": {
  "kernelspec": {
   "display_name": "Python 3",
   "language": "python",
   "name": "python3"
  },
  "language_info": {
   "codemirror_mode": {
    "name": "ipython",
    "version": 3
   },
   "file_extension": ".py",
   "mimetype": "text/x-python",
   "name": "python",
   "nbconvert_exporter": "python",
   "pygments_lexer": "ipython3",
   "version": "3.8.3"
  }
 },
 "nbformat": 4,
 "nbformat_minor": 4
}
