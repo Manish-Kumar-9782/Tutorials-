{
 "cells": [
  {
   "cell_type": "markdown",
   "id": "dying-white",
   "metadata": {},
   "source": [
    "## The Toplevel widget\n",
    "\n",
    "a top-level window is a window that has an independent existence under the window managar. it is decorated with the window manager's decorations, and can be moved and resized independently. Your applocation can use any number of top-level windows.\n",
    "\n",
    "* For any widget W, you can get to its top-level widget using W.winfo_toplevel()\n",
    "\n",
    "To create a new top level window:\n",
    "```ruby\n",
    "TopLevel = tk.Toplevel(options...)\n",
    "```\n",
    "\n",
    "`Comman options:` \n",
    "* bg or backgrund\n",
    "* bd or borderwidth\n",
    "* cursor\n",
    "* hight and width\n",
    "* highlightbackground\n",
    "* highlightcolor\n",
    "* highlightthickness\n",
    "* padx and pady\n",
    "* relief\n",
    "* takefocus\n",
    "\n",
    "`Additional options:`\n",
    "* class_\n",
    "* menu\n",
    "\n",
    "---\n",
    "\n",
    "`Available methods for the top-level window:`\n",
    "\n",
    "* aspect(n_min, d_min, n_max, d_max)\n",
    "* deiconify()\n",
    "* geometry()\n",
    "* iconify()\n",
    "* lift()\n",
    "* lower()\n",
    "* maxsize()\n",
    "* minsize()\n",
    "* overriderdirect()\n",
    "* resizable(width, height)\n",
    "* title(text)\n",
    "* transient()\n",
    "* withdraw()\n",
    "---"
   ]
  },
  {
   "cell_type": "markdown",
   "id": "minute-argument",
   "metadata": {},
   "source": [
    "#### Importing tkinter "
   ]
  },
  {
   "cell_type": "code",
   "execution_count": 1,
   "id": "specialized-fault",
   "metadata": {},
   "outputs": [],
   "source": [
    "import tkinter as tk"
   ]
  },
  {
   "cell_type": "markdown",
   "id": "military-relevance",
   "metadata": {},
   "source": [
    "### Creating a root window\n"
   ]
  },
  {
   "cell_type": "code",
   "execution_count": null,
   "id": "fluid-placement",
   "metadata": {},
   "outputs": [],
   "source": [
    "# creating a root winodow\n",
    "\n",
    "root = tk.Tk()\n",
    "\n",
    "root.title(\"Spinbox Tutorial\")\n",
    "root.geometry(\"400x300\")\n",
    "root.iconbitmap(\"./bitmap icons/home.ico\")\n",
    "#-------------------------------------------------------------------------------------------------------------------\n",
    "\n",
    "    # Here, we will make a top-level code.\n",
    "    \n",
    "#-------------------------------------------------------------------------------------------------------------------\n",
    "\n",
    "root.mainloop()"
   ]
  },
  {
   "cell_type": "markdown",
   "id": "entitled-illness",
   "metadata": {},
   "source": [
    "### Creating a top level window\n",
    "\n",
    "In this we will use a button to create a top-level window."
   ]
  },
  {
   "cell_type": "code",
   "execution_count": 1,
   "id": "strong-bulgarian",
   "metadata": {},
   "outputs": [],
   "source": [
    "# creating a root winodow\n",
    "import tkinter as tk\n",
    "root = tk.Tk()\n",
    "\n",
    "root.title(\"Spinbox Tutorial\")\n",
    "root.geometry(\"400x300\")\n",
    "root.iconbitmap(\"./bitmap icons/home.ico\")\n",
    "#-------------------------------------------------------------------------------------------------------------------\n",
    "\n",
    "    # Now first we will make a button then we will set a funciton to the command option \n",
    "    # in this function we will make the top-level window call./\n",
    "    \n",
    "button = tk.Button(root, text=\"Top Level Window\" , height = 5, width = 20 , background = '#e635d1' , activebackground = '#351dcf'\n",
    "                  , activeforeground = 'white' , font = ('serif', 15) )\n",
    "button.pack(pady = 30)\n",
    "\n",
    "# Now we will create a funciton to call the toplevel window\n",
    "\n",
    "\n",
    "def top_level():\n",
    "        \n",
    "        top = tk.Toplevel()\n",
    "        top.title(\"top level window\")\n",
    "        top.geometry('300x300')\n",
    "\n",
    "        tk.Label(top, text=\"This is the top label window\" ).pack()\n",
    "  \n",
    "        top.mainloop()\n",
    "\n",
    "#-------------------------------------------------------------------------------------------------------------------\n",
    "    # now we need to configure top_level function to the button command options so we can create a top level window\n",
    "        # by pressing the button\n",
    "button.config(command = top_level)\n",
    "\n",
    "\n",
    "#-------------------------------------------------------------------------------------------------------------------\n",
    "\n",
    "root.mainloop()"
   ]
  },
  {
   "cell_type": "code",
   "execution_count": null,
   "id": "metallic-nebraska",
   "metadata": {},
   "outputs": [],
   "source": []
  },
  {
   "cell_type": "code",
   "execution_count": null,
   "id": "governing-decrease",
   "metadata": {},
   "outputs": [],
   "source": []
  }
 ],
 "metadata": {
  "kernelspec": {
   "display_name": "Python 3",
   "language": "python",
   "name": "python3"
  },
  "language_info": {
   "codemirror_mode": {
    "name": "ipython",
    "version": 3
   },
   "file_extension": ".py",
   "mimetype": "text/x-python",
   "name": "python",
   "nbconvert_exporter": "python",
   "pygments_lexer": "ipython3",
   "version": "3.8.3"
  }
 },
 "nbformat": 4,
 "nbformat_minor": 5
}
