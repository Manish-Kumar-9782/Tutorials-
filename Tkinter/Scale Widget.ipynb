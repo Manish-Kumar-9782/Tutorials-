{
 "cells": [
  {
   "cell_type": "markdown",
   "id": "remarkable-encyclopedia",
   "metadata": {},
   "source": [
    "## The Scale widget\n",
    "\n",
    "The purpose of the scale widget is to allow ithe user to set some int or flot value within a apecified range. Each scale dispalys a slider that the user can drag along a trough to change the value. \n",
    "\n",
    "```ruby\n",
    "Scale = tk.Scale(root , option.....)\n",
    "```\n",
    "* You can drag the slider to a new value with mouse button 1.\n",
    "* if you click buttton 1 in the trough, the slider will move one increent in that direction per click. Holding down button 1 in the trough will, after a delay, start to auto-repeat its function.\n",
    "*  if the scale has keyboard focus, left arrow and up arrow keystrokes will moves the slider up (for vertical slider) or left (for horizontal slider). Right arrow and down arrow keystrokes will moves the slider down or to the right."
   ]
  },
  {
   "cell_type": "markdown",
   "id": "under-institution",
   "metadata": {},
   "source": [
    "`common options:`\n",
    "* activebackground\n",
    "* bg or background\n",
    "* bd or borderwidth\n",
    "* cursor\n",
    "* command\n",
    "* fonts\n",
    "* fg or foreground\n",
    "* highlightbackground\n",
    "* highlightcolor\n",
    "* label\n",
    "* length\n",
    "* relief\n",
    "* state\n",
    "* takefocus\n",
    "* variable\n",
    "* width\n",
    "\n",
    "`Addittional options;`\n",
    "* digits\n",
    "* from_\n",
    "* repeatdelay\n",
    "* resolution\n",
    "* orient\n",
    "* repeatdelay\n",
    "* resolution\n",
    "* showvlaue\n",
    "* sliderlength\n",
    "* tickinterval\n",
    "* to\n",
    "* troughcolor"
   ]
  },
  {
   "cell_type": "markdown",
   "id": "difficult-serbia",
   "metadata": {},
   "source": [
    "#### Importing tkinter "
   ]
  },
  {
   "cell_type": "code",
   "execution_count": 1,
   "id": "tender-point",
   "metadata": {},
   "outputs": [],
   "source": [
    "import tkinter as tk"
   ]
  },
  {
   "cell_type": "markdown",
   "id": "reserved-title",
   "metadata": {},
   "source": [
    "### Making a root window "
   ]
  },
  {
   "cell_type": "code",
   "execution_count": null,
   "id": "photographic-gather",
   "metadata": {},
   "outputs": [],
   "source": [
    "# creating a root winodow\n",
    "\n",
    "root = tk.Tk()\n",
    "\n",
    "root.title(\"Scale Tutorial\")\n",
    "root.geometry(\"400x300\")\n",
    "root.iconbitmap(\"./bitmap icons/home.ico\")\n",
    "#-------------------------------------------------------------------------------------------------------------------\n",
    "\n",
    "    # Here, we will make statemets to create the  Scale\n",
    "    \n",
    "#-------------------------------------------------------------------------------------------------------------------\n",
    "\n",
    "root.mainloop()"
   ]
  },
  {
   "cell_type": "markdown",
   "id": "latest-guess",
   "metadata": {},
   "source": [
    "### Creating a Scale widget"
   ]
  },
  {
   "cell_type": "code",
   "execution_count": 2,
   "id": "spectacular-sharp",
   "metadata": {},
   "outputs": [],
   "source": [
    "# creating a root winodow\n",
    "\n",
    "root = tk.Tk()\n",
    "\n",
    "root.title(\"Scale Tutorial\")\n",
    "root.geometry(\"400x300\")\n",
    "root.iconbitmap(\"./bitmap icons/home.ico\")\n",
    "#-------------------------------------------------------------------------------------------------------------------\n",
    "\n",
    "    # Here Now we will create a scale widget , To create the Scale widget we need to\n",
    "    # make a scale object \n",
    "\n",
    "# creating scale object\n",
    "Scale = tk.Scale(root, label = \"Scale\", background = \"#d7faa2\" , activebackground = \"#62b9c4\")\n",
    "Scale.pack()\n",
    "\n",
    "# Now if you run this you will see that the scale widget is packed on the root \n",
    "# window\n",
    "#-------------------------------------------------------------------------------------------------------------------\n",
    "\"\"\"\n",
    "Result: by default the range of the scale widget is form 0 to 100. You can set the range of this widget bu using the \n",
    "        'from_' and 'to' option.\n",
    "        \n",
    "        from_: This option sets the starting value of the range.\n",
    "        to:    This option sets the last value of the range.\n",
    "\n",
    "\"\"\"\n",
    "\n",
    "\n",
    "\n",
    "root.mainloop()"
   ]
  },
  {
   "cell_type": "markdown",
   "id": "medieval-excellence",
   "metadata": {},
   "source": [
    "### Creating a scale widget with some range"
   ]
  },
  {
   "cell_type": "code",
   "execution_count": 3,
   "id": "stone-solomon",
   "metadata": {},
   "outputs": [],
   "source": [
    "# creating a root winodow\n",
    "\n",
    "root = tk.Tk()\n",
    "\n",
    "root.title(\"Scale Tutorial\")\n",
    "root.geometry(\"400x300\")\n",
    "root.iconbitmap(\"./bitmap icons/home.ico\")\n",
    "#-------------------------------------------------------------------------------------------------------------------\n",
    "\n",
    "    # Here Now we will create a scale widget , To create the Scale widget we need to\n",
    "    # make a scale object \n",
    "\n",
    "# creating scale object\n",
    "Scale = tk.Scale(root, label = \"Scale\", background = \"#d7faa2\" , activebackground = \"#62b9c4\")\n",
    "Scale.pack()\n",
    "\n",
    "# Now we will set some additional range to the widget\n",
    "Scale.config(from_ = -200 , to = 200)\n",
    "\n",
    "# Here from_ sets the initial value of the scale range\n",
    "#      to sets the last vlaue of the rante.\n",
    "\n",
    "# Now if you run this you will see that the scale widget with new range.\n",
    "#-------------------------------------------------------------------------------------------------------------------\n",
    "\"\"\"\n",
    "Result: Now we have set new range to the scale widget bu using the \n",
    "\n",
    "\"\"\"\n",
    "\n",
    "\n",
    "\n",
    "root.mainloop()"
   ]
  },
  {
   "cell_type": "code",
   "execution_count": null,
   "id": "prospective-anderson",
   "metadata": {},
   "outputs": [],
   "source": []
  },
  {
   "cell_type": "code",
   "execution_count": null,
   "id": "spare-monaco",
   "metadata": {},
   "outputs": [],
   "source": []
  },
  {
   "cell_type": "code",
   "execution_count": null,
   "id": "underlying-fighter",
   "metadata": {},
   "outputs": [],
   "source": []
  }
 ],
 "metadata": {
  "kernelspec": {
   "display_name": "Python 3",
   "language": "python",
   "name": "python3"
  },
  "language_info": {
   "codemirror_mode": {
    "name": "ipython",
    "version": 3
   },
   "file_extension": ".py",
   "mimetype": "text/x-python",
   "name": "python",
   "nbconvert_exporter": "python",
   "pygments_lexer": "ipython3",
   "version": "3.8.3"
  }
 },
 "nbformat": 4,
 "nbformat_minor": 5
}
