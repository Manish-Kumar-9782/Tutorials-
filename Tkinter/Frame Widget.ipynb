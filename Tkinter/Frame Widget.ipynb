{
 "cells": [
  {
   "cell_type": "markdown",
   "id": "continuous-colon",
   "metadata": {},
   "source": [
    "## The Frame widget\n",
    "\n",
    "A frame is basiclly just a container for other widgets.\n",
    "* Your appliaction's root window is basically a frame.\n",
    "* Each frame has its own grid layout, so the gridding of widgets within each frame works independently.\n",
    "* Frame widgets are a valuable tool in a making your application modular. you can grounp a set of realated widgets into a compound widget by putting them into a frame. Better yet, you can declare a newclass that inherits from Frame, adding your own interface to it. This is a good way to hide the details of interactions within a group of related widgets from the outside world.\n",
    "\n",
    "To create a new frame widget in a root window r frame named prarent: \n",
    "\n",
    "we need to make a frame object which must have a parent window or a root window:"
   ]
  },
  {
   "cell_type": "code",
   "execution_count": 1,
   "id": "sapphire-plasma",
   "metadata": {},
   "outputs": [],
   "source": [
    "# first we need to import the necessary module \n",
    "import tkinter as tk"
   ]
  },
  {
   "cell_type": "code",
   "execution_count": 2,
   "id": "meaning-seeker",
   "metadata": {},
   "outputs": [],
   "source": [
    "# first of all we need to make a root window\n",
    "\n",
    "root = tk.Tk()\n",
    "\n",
    "root.geometry('400x400')\n",
    "root.title(\"Root window\")\n",
    "\n",
    "root.mainloop()"
   ]
  },
  {
   "cell_type": "markdown",
   "id": "anticipated-indonesia",
   "metadata": {},
   "source": [
    "#### 1. Creating a frame widget\n",
    "\n",
    "Since every widget or a frame needs a parent needs a window so we created one parent window which is like the container of all the other frame and widget."
   ]
  },
  {
   "cell_type": "code",
   "execution_count": 35,
   "id": "prescription-formation",
   "metadata": {},
   "outputs": [],
   "source": [
    "\n",
    "root = tk.Tk()\n",
    "\n",
    "root.geometry('400x400')\n",
    "root.title(\"Root window\")\n",
    "\n",
    "# now we will create the frame, this is not deifferent to others, creating a Frame is also similar to the creating label or an entry \n",
    "# widgets.\n",
    "\n",
    "frame1 = tk.Frame(root, height=200, width=200 , borderwidth=10  , background = 'white' , relief = tk.GROOVE)\n",
    "frame1.pack(side=tk.LEFT , anchor = tk.NW)\n",
    "\n",
    "# In this we have created one frame, the size of the frmame is given by the height and width parameter of the frame.\n",
    "# border width and the background color is given so we can see that where is our frame, because if we don't do this frame would be not \n",
    "# visible # We applied the pack layout on the root window \n",
    "\n",
    "\n",
    "frame2 = tk.Frame(root, height=200, width=200 , borderwidth=10  , background = 'white' , relief = tk.GROOVE)\n",
    "frame2.pack(side=tk.LEFT ,anchor = tk.NW)\n",
    "\n",
    "frame3 = tk.Frame(root, height=200, width=200 , borderwidth=10  , background = 'white' , relief = tk.GROOVE)\n",
    "frame3.pack(side=tk.LEFT , anchor = tk.NW)\n",
    "\n",
    "# These are the three frames aligned together and can be used to add some more things inside them\n",
    "root.mainloop()"
   ]
  },
  {
   "cell_type": "markdown",
   "id": "friendly-lebanon",
   "metadata": {},
   "source": [
    "`Application of Frame:`\n",
    "\n",
    "* Frames are usefull while we are using the pack layout management to make the group of some widget and align them.\n",
    "* Frames are usefull when we want ot use the pack and grid both individually.\n",
    "* Creating frames to make the group of the tkinter widgets helps us to align them control them and also working on a single frame does not effect to other one, that's why they are usefull, they isolates other widget from itself adding an effect on one widget does not effect other one which is in another frame.\n"
   ]
  },
  {
   "cell_type": "markdown",
   "id": "infectious-deviation",
   "metadata": {},
   "source": [
    "#### Creating a from page.\n",
    "\n",
    "Now we will creating a form page with the help of the frame, we will use the pack management layout not grid. In this we will see that how pack can be usefull to make things isolate them and work on them individually."
   ]
  },
  {
   "cell_type": "code",
   "execution_count": 60,
   "id": "encouraging-documentation",
   "metadata": {},
   "outputs": [],
   "source": [
    "# First of all we need a root window\n",
    "\n",
    "root = tk.Tk() # this our root window\n",
    "\n",
    "root.geometry('400x400') # window initial size\n",
    "root.title(\"Root window\") # window title\n",
    "\n",
    "# now we need to create some frames which contains the 1 Label and 1 Entry widget.\n",
    "\n",
    "# now first of all we need to decide that how many frames we need or we can say that what are the detals we need\n",
    "\n",
    "# Name of the user\n",
    "# Name of the user's Father name\n",
    "# Age\n",
    "# Adhar number\n",
    "# Qualificarion\n",
    "# Address\n",
    "\n",
    "# for the demonstration purpose we will work only this details\n",
    "# So from the above details we need 6 frames,\n",
    "\n",
    "h=20\n",
    "pad_distance = 10\n",
    "\n",
    "Entry_width = 30\n",
    "\n",
    "# Name of the User\n",
    "frame1 = tk.Frame(root, width=300, height=h )\n",
    "frame1.pack(fill = tk.BOTH)\n",
    "\n",
    "username_label = tk.Label(frame1, text=\"User Name\")\n",
    "username_label.pack(side = tk.LEFT)\n",
    "\n",
    "username_entry = tk.Entry(frame1 , width= Entry_width)\n",
    "username_entry.pack(side = tk.LEFT, padx = 30)\n",
    "#-----------------------------------------------------------------------------------------------------\n",
    "\n",
    "# Father's Name\n",
    "frame2 = tk.Frame(root, width=300, height=h , pady = pad_distance)\n",
    "frame2.pack(fill = tk.BOTH)\n",
    "\n",
    "fathername_label = tk.Label(frame2, text=\"Father's Name\")\n",
    "fathername_label.pack(side = tk.LEFT)\n",
    "\n",
    "fathername_entry = tk.Entry(frame2 , width= Entry_width)\n",
    "fathername_entry.pack(side = tk.LEFT , padx=12)\n",
    "\n",
    "#-----------------------------------------------------------------------------------------------------\n",
    "\n",
    "# Date of birth of the user\n",
    "frame3 = tk.Frame(root, width=300, height=h,pady = pad_distance)\n",
    "frame3.pack(fill = tk.BOTH)\n",
    "\n",
    "dob_label = tk.Label(frame3, text=\"Date of Birth\")\n",
    "dob_label.pack(side = tk.LEFT)\n",
    "\n",
    "dob_entry = tk.Entry(frame3 , width= Entry_width)\n",
    "dob_entry.pack(side = tk.LEFT , padx = 20)\n",
    "\n",
    "#-----------------------------------------------------------------------------------------------------\n",
    "\n",
    "# Aadhar Number\n",
    "frame4 = tk.Frame(root, width=300, height=h,  pady = pad_distance)\n",
    "frame4.pack(fill = tk.BOTH)\n",
    "\n",
    "Aadhar_label = tk.Label(frame4, text=\"Aadhar Number\")\n",
    "Aadhar_label.pack(side = tk.LEFT)\n",
    "\n",
    "Aadhar_entry = tk.Entry(frame4 , width= Entry_width)\n",
    "Aadhar_entry.pack(side = tk.LEFT)\n",
    "\n",
    "\n",
    "#-----------------------------------------------------------------------------------------------------\n",
    "\n",
    "# Qualification\n",
    "frame5 = tk.Frame(root, width=300, height=h, pady = pad_distance)\n",
    "frame5.pack(fill = tk.BOTH)\n",
    "\n",
    "Qualification_label = tk.Label(frame5, text=\"Highest qualification\")\n",
    "Qualification_label.pack(side = tk.LEFT)\n",
    "\n",
    "Qualification_entry = tk.Entry(frame5 , width= Entry_width)\n",
    "Qualification_entry.pack(side = tk.LEFT)\n",
    "\n",
    "#-----------------------------------------------------------------------------------------------------\n",
    "frame6 = tk.Frame(root, width=300, height=h , pady = pad_distance)\n",
    "frame6.pack(fill = tk.BOTH)\n",
    "\n",
    "Address_label = tk.Label(frame6, text=\"Date of Birth\")\n",
    "Address_label.pack(side = tk.LEFT)\n",
    "\n",
    "Address_entry = tk.Entry(frame6 , width= Entry_width)\n",
    "Address_entry.pack(side = tk.LEFT)\n",
    "\n",
    "#-----------------------------------------------------------------------------------------------------\n",
    "\n",
    "root.mainloop()"
   ]
  },
  {
   "cell_type": "markdown",
   "id": "powerful-alabama",
   "metadata": {},
   "source": [
    "<img src=\"./Tutorial Images/Frame 1.png\">"
   ]
  },
  {
   "cell_type": "markdown",
   "id": "fundamental-establishment",
   "metadata": {},
   "source": [
    "This is the simple application which is made by using the frames with pack management layout. this application can also made by the grid system, while using the grid system we don't need to use the extra frame we can do this on the main root window.\n",
    "\n",
    "**Note:** But note that this is just the demonstaration to show that how we can use the frame to isolate the one widget to other one. this is very usefull when we work on a complex application which contains the different kind of widgets. \n",
    "\n",
    "Frame object do not have any other function and additional options, the options of the  frame objects are common which are shared by the every widget so we dont ne"
   ]
  },
  {
   "cell_type": "code",
   "execution_count": null,
   "id": "buried-xerox",
   "metadata": {},
   "outputs": [],
   "source": []
  }
 ],
 "metadata": {
  "kernelspec": {
   "display_name": "Python 3",
   "language": "python",
   "name": "python3"
  },
  "language_info": {
   "codemirror_mode": {
    "name": "ipython",
    "version": 3
   },
   "file_extension": ".py",
   "mimetype": "text/x-python",
   "name": "python",
   "nbconvert_exporter": "python",
   "pygments_lexer": "ipython3",
   "version": "3.8.3"
  }
 },
 "nbformat": 4,
 "nbformat_minor": 5
}
