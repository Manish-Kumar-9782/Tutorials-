{
 "cells": [
  {
   "cell_type": "markdown",
   "id": "driven-aging",
   "metadata": {},
   "source": [
    "## Message widget\n",
    "\n",
    "This widget is similar to the Label widget but it is intended for displayting messages over multiple lines . All the text will be displayed in the same font; if you need to display text with more than one font, use the font object or use a tuple of having some text style.\n",
    "```ruby\n",
    "Message = tk.Message(root, options.....)\n",
    "```\n",
    "`Comman options:`\n",
    "* bg or background \n",
    "* bd or borderwidth\n",
    "* cursor\n",
    "* font\n",
    "* fg or foreground\n",
    "* highlightbackgroud\n",
    "* highlightcolor\n",
    "* highlightthickness\n",
    "* justify\n",
    "* pdx and pady\n",
    "* relief\n",
    "* takefocus\n",
    "* textvariable\n",
    "* width\n",
    "\n",
    "` Additional options:`\n",
    "* aspect\n",
    "\n",
    "aspect is the only one additional option in the message widget and other options are common so we dont need to work in the additional options.\n",
    "\n",
    "**Aspect:** Use this opton to specify the radio of width to height as a percentage. \n",
    "       \n",
    "       - for example: \n",
    "       aspect = 100 would give you a text messag fit into a square.\n",
    "       aspect = 200 , the text area would be twice as wide as hight. \n",
    "       the default vaue is 150, that is, the text will be fit into a box 50% wider than its high. "
   ]
  },
  {
   "cell_type": "markdown",
   "id": "hawaiian-policy",
   "metadata": {},
   "source": [
    "***Improting the tkinter***"
   ]
  },
  {
   "cell_type": "code",
   "execution_count": 2,
   "id": "mineral-advertising",
   "metadata": {},
   "outputs": [],
   "source": [
    "import tkinter as tk"
   ]
  },
  {
   "cell_type": "code",
   "execution_count": 2,
   "id": "empty-stomach",
   "metadata": {},
   "outputs": [],
   "source": [
    "# First of all we need to create the root window.\n",
    "# creating a root winodow\n",
    "\n",
    "root = tk.Tk()\n",
    "\n",
    "root.title(\"Message Tutorial\")\n",
    "root.geometry(\"400x300\")\n",
    "root.iconbitmap(\"./bitmap icons/home.ico\")\n",
    "#-------------------------------------------------------------------------------------------------------------------\n",
    "\n",
    "    # Here, we will make the Message statement\n",
    "    \n",
    "#-------------------------------------------------------------------------------------------------------------------\n",
    "\n",
    "root.mainloop()"
   ]
  },
  {
   "cell_type": "markdown",
   "id": "environmental-legend",
   "metadata": {},
   "source": [
    "### Making a simple Message box"
   ]
  },
  {
   "cell_type": "code",
   "execution_count": 7,
   "id": "environmental-roller",
   "metadata": {},
   "outputs": [],
   "source": [
    "# Now we will make a message box\n",
    "\n",
    "root = tk.Tk()\n",
    "\n",
    "root.title(\"Message Tutorial\")\n",
    "root.geometry(\"400x300\")\n",
    "root.iconbitmap(\"./bitmap icons/home.ico\")\n",
    "#-------------------------------------------------------------------------------------------------------------------\n",
    "\n",
    "    # Now we will create the message box, the parent of the messagebox will be the root window.\n",
    "    # Since it is similar to the Label widget but it is used to display the muliline Message\n",
    "    # So for that we need to create the multiline text\n",
    "    \n",
    "Text = tk.StringVar()\n",
    "Str = \"\"\" \n",
    "Hello this is the tutorial fo the Messagebox.\n",
    "This message box is similar to the Label widget but in this it is used to display a message for a particular thing.\n",
    "This message box support many function wchich are used in the Label funtion relatied to the text styling and displaying text.\n",
    "Like:- justify , font, By default the State of the widget is 'disabled' and we cant change that.\n",
    "\"\"\"\n",
    "    \n",
    "Text.set(Str)\n",
    "msg = tk.Message(root, textvariable = Text)\n",
    "msg.pack()\n",
    "    \n",
    "    \n",
    "# Result: by default-\n",
    "            # Justify: left\n",
    "            # relief: flat\n",
    "            # font: Normal\n",
    "            # background : default\n",
    "            # forground: black\n",
    "            # width: 150\n",
    "\n",
    "#-------------------------------------------------------------------------------------------------------------------\n",
    "\n",
    "root.mainloop()"
   ]
  },
  {
   "cell_type": "markdown",
   "id": "immune-piano",
   "metadata": {},
   "source": [
    "### Making another Messagebox with some change in the option:"
   ]
  },
  {
   "cell_type": "code",
   "execution_count": 10,
   "id": "perceived-castle",
   "metadata": {},
   "outputs": [],
   "source": [
    "# Now we will make a message box\n",
    "\n",
    "root = tk.Tk()\n",
    "\n",
    "root.title(\"Message Tutorial\")\n",
    "root.geometry(\"400x300\")\n",
    "root.iconbitmap(\"./bitmap icons/home.ico\")\n",
    "#-------------------------------------------------------------------------------------------------------------------\n",
    "\n",
    "    # Now we will create the message box, the parent of the messagebox will be the root window.\n",
    "    # Since it is similar to the Label widget but it is used to display the muliline Message\n",
    "    # So for that we need to create the multiline text\n",
    "    \n",
    "Text = tk.StringVar()\n",
    "Str = \"\"\" \n",
    "Hello this is the tutorial fo the Messagebox.\n",
    "This message box is similar to the Label widget but in this it is used to display a message for a particular thing.\n",
    "This message box support many function wchich are used in the Label funtion relatied to the text styling and displaying text.\n",
    "Like:- justify , font, By default the State of the widget is 'disabled' and we cant change that.\n",
    "\"\"\"\n",
    "\n",
    "# This Text is the control variable which is used to set the multiline string to the Messagebox.\n",
    "Text.set(Str)\n",
    "\n",
    "# Now we will add some of the option to change the Message box default style.\n",
    "msg = tk.Message(root, textvariable = Text , background = 'white' , foreground='blue' , relief = \"groove\" , font =(\"serief\") , \n",
    "                    justify = 'center' , width = 400)\n",
    "msg.pack()\n",
    "    \n",
    "    \n",
    "# Result: by default-\n",
    "            # Justify: center\n",
    "            # relief: groove\n",
    "            # font: serief\n",
    "            # background : white\n",
    "            # forground: blue\n",
    "            # width: 400\n",
    "\n",
    "# Now in this we have changed some of the option to change the style of the Message\n",
    "#-------------------------------------------------------------------------------------------------------------------\n",
    "\n",
    "root.mainloop()"
   ]
  },
  {
   "cell_type": "code",
   "execution_count": null,
   "id": "liked-hawaii",
   "metadata": {},
   "outputs": [],
   "source": []
  }
 ],
 "metadata": {
  "kernelspec": {
   "display_name": "Python 3",
   "language": "python",
   "name": "python3"
  },
  "language_info": {
   "codemirror_mode": {
    "name": "ipython",
    "version": 3
   },
   "file_extension": ".py",
   "mimetype": "text/x-python",
   "name": "python",
   "nbconvert_exporter": "python",
   "pygments_lexer": "ipython3",
   "version": "3.8.3"
  }
 },
 "nbformat": 4,
 "nbformat_minor": 5
}
