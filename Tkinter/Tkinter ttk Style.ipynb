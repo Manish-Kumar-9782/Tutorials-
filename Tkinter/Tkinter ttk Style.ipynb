{
 "cells": [
  {
   "cell_type": "markdown",
   "id": "geographic-census",
   "metadata": {},
   "source": [
    "# Tkinter ttk Style"
   ]
  },
  {
   "cell_type": "code",
   "execution_count": 9,
   "id": "bearing-convertible",
   "metadata": {},
   "outputs": [],
   "source": [
    "from tkinter import ttk"
   ]
  },
  {
   "cell_type": "code",
   "execution_count": 10,
   "id": "delayed-sphere",
   "metadata": {},
   "outputs": [],
   "source": [
    "S = ttk.Style()"
   ]
  },
  {
   "cell_type": "code",
   "execution_count": 11,
   "id": "promising-retail",
   "metadata": {},
   "outputs": [
    {
     "data": {
      "text/plain": [
       "[('Button.button',\n",
       "  {'sticky': 'nswe',\n",
       "   'children': [('Button.focus',\n",
       "     {'sticky': 'nswe',\n",
       "      'children': [('Button.padding',\n",
       "        {'sticky': 'nswe',\n",
       "         'children': [('Button.label', {'sticky': 'nswe'})]})]})]})]"
      ]
     },
     "execution_count": 11,
     "metadata": {},
     "output_type": "execute_result"
    }
   ],
   "source": [
    "S.layout(\"TButton\")"
   ]
  },
  {
   "cell_type": "code",
   "execution_count": 12,
   "id": "exterior-triumph",
   "metadata": {},
   "outputs": [
    {
     "data": {
      "text/plain": [
       "('padding', 'relief', 'shiftrelief')"
      ]
     },
     "execution_count": 12,
     "metadata": {},
     "output_type": "execute_result"
    }
   ],
   "source": [
    "S.element_options('Button.padding')"
   ]
  },
  {
   "cell_type": "code",
   "execution_count": 14,
   "id": "banner-macro",
   "metadata": {},
   "outputs": [
    {
     "data": {
      "text/plain": [
       "'vista'"
      ]
     },
     "execution_count": 14,
     "metadata": {},
     "output_type": "execute_result"
    }
   ],
   "source": [
    "S."
   ]
  },
  {
   "cell_type": "code",
   "execution_count": 15,
   "id": "numerical-dylan",
   "metadata": {},
   "outputs": [
    {
     "data": {
      "text/plain": [
       "('winnative', 'clam', 'alt', 'default', 'classic', 'vista', 'xpnative')"
      ]
     },
     "execution_count": 15,
     "metadata": {},
     "output_type": "execute_result"
    }
   ],
   "source": [
    "S.theme_names()"
   ]
  },
  {
   "cell_type": "code",
   "execution_count": 17,
   "id": "enhanced-beverage",
   "metadata": {},
   "outputs": [],
   "source": [
    "\"\"\"\n",
    "Author: RedFantom\n",
    "License: GNU GPLv3\n",
    "Copyright (c) 2018 RedFantom\n",
    "\"\"\"\n",
    "import os\n",
    "import tkinter as tk\n",
    "from tkinter import ttk\n",
    "from ttkthemes import ThemedTk, THEMES\n",
    "from ttkwidgets import ScaleEntry\n",
    "from ttkwidgets.autocomplete import AutocompleteCombobox\n",
    "from PIL import Image\n",
    "\n",
    "\n",
    "class Example(ThemedTk):\n",
    "    \"\"\"\n",
    "    Example that is used to create screenshots for new themes.\n",
    "    \"\"\"\n",
    "    def __init__(self, theme=\"arc\"):\n",
    "        \"\"\"\n",
    "        :param theme: Theme to show off\n",
    "        \"\"\"\n",
    "        ThemedTk.__init__(self, fonts=True, themebg=True)\n",
    "        self.set_theme(theme)\n",
    "        # Create widgets\n",
    "        self.notebook = ttk.Notebook(self)\n",
    "        self.notebook.add(ttk.Button(self, text=\"Hello World\"), text=\"Frame One\")\n",
    "        self.notebook.add(ttk.Button(self, text=\"Hello Universe\"), text=\"Frame Two\")\n",
    "        self.menu = tk.Menu(self, tearoff=False)\n",
    "        self.sub_menu = tk.Menu(self.menu, tearoff=False)\n",
    "        self.sub_menu.add_command(label=\"Exit\", command=self.destroy)\n",
    "        self.menu.add_cascade(menu=self.sub_menu, label=\"General\")\n",
    "        self.config(menu=self.menu)\n",
    "        self.label = ttk.Label(self, text=\"This is an example label.\")\n",
    "        self.dropdown = ttk.OptionMenu(self, tk.StringVar(), \"First value\", \"Second Value\")\n",
    "        self.entry = ttk.Entry(self, textvariable=tk.StringVar(value=\"Default entry value.\"))\n",
    "        self.button = ttk.Button(self, text=\"Button\")\n",
    "        self.radio_one = ttk.Radiobutton(self, text=\"Radio one\", value=True)\n",
    "        self.radio_two = ttk.Radiobutton(self, text=\"Radio two\", value=False)\n",
    "        self.scroll = ttk.Scrollbar(self, orient=tk.VERTICAL)\n",
    "        self.checked = ttk.Checkbutton(self, text=\"Checked\", variable=tk.BooleanVar(value=True))\n",
    "        self.unchecked = ttk.Checkbutton(self, text=\"Unchecked\")\n",
    "        self.tree = ttk.Treeview(self, height=4, show=(\"tree\", \"headings\"))\n",
    "        self.setup_tree()\n",
    "        self.scale_entry = ScaleEntry(self, from_=0, to=50, orient=tk.HORIZONTAL, compound=tk.RIGHT)\n",
    "        self.combo = AutocompleteCombobox(self, completevalues=[\"something\", \"something else\"])\n",
    "        self.progress = ttk.Progressbar(self, maximum=100, value=50)\n",
    "        # Grid widgets\n",
    "        self.grid_widgets()\n",
    "        # Bind screenshot button\n",
    "        self.bind(\"<F10>\", self.screenshot)\n",
    "        self.bind(\"<F9>\", self.screenshot_themes)\n",
    "\n",
    "    def setup_tree(self):\n",
    "        \"\"\"Setup an example Treeview\"\"\"\n",
    "        self.tree.insert(\"\", tk.END, text=\"Example 1\", iid=\"1\")\n",
    "        self.tree.insert(\"\", tk.END, text=\"Example 2\", iid=\"2\")\n",
    "        self.tree.insert(\"2\", tk.END, text=\"Example Child\")\n",
    "        self.tree.heading(\"#0\", text=\"Example heading\")\n",
    "\n",
    "    def grid_widgets(self):\n",
    "        \"\"\"Put widgets in the grid\"\"\"\n",
    "        sticky = {\"sticky\": \"nswe\"}\n",
    "        self.notebook.grid(row=0, column=1, columnspan=2, **sticky)\n",
    "        self.label.grid(row=1, column=1, columnspan=2, **sticky)\n",
    "        self.dropdown.grid(row=2, column=1, **sticky)\n",
    "        self.entry.grid(row=2, column=2, **sticky)\n",
    "        self.button.grid(row=3, column=1, columnspan=2, **sticky)\n",
    "        self.radio_one.grid(row=4, column=1, **sticky)\n",
    "        self.radio_two.grid(row=4, column=2, **sticky)\n",
    "        self.checked.grid(row=5, column=1, **sticky)\n",
    "        self.unchecked.grid(row=5, column=2, **sticky)\n",
    "        self.scroll.grid(row=1, column=3, rowspan=8, padx=5, **sticky)\n",
    "        self.tree.grid(row=6, column=1, columnspan=2, **sticky)\n",
    "        self.scale_entry.grid(row=7, column=1, columnspan=2, **sticky)\n",
    "        self.combo.grid(row=8, column=1, columnspan=2, **sticky)\n",
    "        self.progress.grid(row=9, column=1, columnspan=2, padx=5, pady=5, **sticky)\n",
    "\n",
    "    def screenshot(self, *args):\n",
    "        \"\"\"Take a screenshot, crop and save\"\"\"\n",
    "        from mss import mss\n",
    "        if not os.path.exists(\"screenshots\"):\n",
    "            os.makedirs(\"screenshots\")\n",
    "        box = {\n",
    "            \"top\": self.winfo_y(),\n",
    "            \"left\": self.winfo_x(),\n",
    "            \"width\": self.winfo_width(),\n",
    "            \"height\": self.winfo_height()\n",
    "        }\n",
    "        screenshot = mss().grab(box)\n",
    "        screenshot = Image.frombytes(\"RGB\", screenshot.size, screenshot.rgb)\n",
    "        screenshot.save(\"screenshots/{}.png\".format(ttk.Style(self).theme_use()))\n",
    "\n",
    "    def screenshot_themes(self, *args):\n",
    "        \"\"\"Take a screenshot for all themes available\"\"\"\n",
    "        from time import sleep\n",
    "        for theme in THEMES:\n",
    "            self.set_theme(theme)\n",
    "            self.update()\n",
    "            sleep(0.05)\n",
    "            self.screenshot()\n",
    "\n",
    "\n",
    "if __name__ == '__main__':\n",
    "    example = Example()\n",
    "    example.set_theme(\"adapta\")\n",
    "    example.mainloop()"
   ]
  },
  {
   "cell_type": "code",
   "execution_count": null,
   "id": "eligible-first",
   "metadata": {},
   "outputs": [],
   "source": []
  }
 ],
 "metadata": {
  "kernelspec": {
   "display_name": "Python 3",
   "language": "python",
   "name": "python3"
  },
  "language_info": {
   "codemirror_mode": {
    "name": "ipython",
    "version": 3
   },
   "file_extension": ".py",
   "mimetype": "text/x-python",
   "name": "python",
   "nbconvert_exporter": "python",
   "pygments_lexer": "ipython3",
   "version": "3.8.3"
  }
 },
 "nbformat": 4,
 "nbformat_minor": 5
}
