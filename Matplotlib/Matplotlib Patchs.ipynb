{
 "cells": [
  {
   "cell_type": "markdown",
   "id": "orange-complexity",
   "metadata": {},
   "source": [
    "# Patches"
   ]
  },
  {
   "cell_type": "code",
   "execution_count": 1,
   "id": "faced-salad",
   "metadata": {},
   "outputs": [],
   "source": [
    "# importing requird modules\n",
    "import matplotlib.patches as mpatches\n",
    "import matplotlib.pyplot as plt"
   ]
  },
  {
   "cell_type": "markdown",
   "id": "communist-probe",
   "metadata": {},
   "source": [
    "### Arrow\n",
    "\n",
    "Arrow patch: In this we will learn that how can we draw an arrow pointing towards to another patch, text or you can say another artist."
   ]
  },
  {
   "cell_type": "code",
   "execution_count": 43,
   "id": "antique-plate",
   "metadata": {},
   "outputs": [
    {
     "name": "stdout",
     "output_type": "stream",
     "text": [
      "arrow tail: 0.2 0.2\n"
     ]
    },
    {
     "data": {
      "text/plain": [
       "<matplotlib.patches.Arrow at 0x1f51935a9a0>"
      ]
     },
     "execution_count": 43,
     "metadata": {},
     "output_type": "execute_result"
    },
    {
     "data": {
      "image/png": "[encoded data removed]",
      "text/plain": [
       "<Figure size 700x500 with 1 Axes>"
      ]
     },
     "metadata": {
      "needs_background": "light"
     },
     "output_type": "display_data"
    }
   ],
   "source": [
    "# now first of all we will make an figure and axis.\n",
    "fig, ax = plt.subplots(figsize=(7,5), dpi=100)\n",
    "\n",
    "ax.set_xlim(0,100)\n",
    "ax.set_ylim(0,100)\n",
    "# Now we will make a circle point or circle patch on the axs\n",
    "p = mpatches.Circle((.20,.20) ,.02, transform = ax.transAxes)\n",
    "x,y =  p.get_center()\n",
    "print(\"arrow tail:\", x, y)\n",
    "ax.add_patch(p)\n",
    "\n",
    "# Now we will add an arrow pointing towards this circle\n",
    "# we can do this thing one way is using the annotation\n",
    "# and another way is the adding an arrow patch\n",
    "\n",
    "# we will do this by adding the arrow patch\n",
    "annot = mpatches.Arrow(2*x,y,-x,0, width=0.05, transform=ax.transAxes,\n",
    "                      hatch='-')\n",
    "                     \n",
    "ax.add_patch(annot)\n",
    "\n"
   ]
  },
  {
   "cell_type": "markdown",
   "id": "efficient-thought",
   "metadata": {},
   "source": [
    "___"
   ]
  },
  {
   "cell_type": "markdown",
   "id": "brown-silver",
   "metadata": {},
   "source": [
    "### Fancy Arrow\n",
    "Like Arrow, but lets you set head width and head height independently."
   ]
  },
  {
   "cell_type": "code",
   "execution_count": 91,
   "id": "opposite-homeless",
   "metadata": {},
   "outputs": [],
   "source": [
    "def draw_patch(p_obj, annot):\n",
    "    # now first of all we will make an figure and axis.\n",
    "    fig, ax = plt.subplots(figsize=(7,5), dpi=60)\n",
    "\n",
    "    ax.set_xlim(0,100)\n",
    "    ax.set_ylim(0,100)\n",
    "    # Now we will make a circle point or circle patch on the axs\n",
    "\n",
    "    ax.add_patch(p_obj)\n",
    "\n",
    "    # Now we will add an arrow pointing towards this circle\n",
    "    # we can do this thing one way is using the annotation\n",
    "    # and another way is the adding an arrow patch\n",
    "\n",
    "    # we will do this by adding the arrow patch\n",
    "    ax.add_patch(annot)"
   ]
  },
  {
   "cell_type": "code",
   "execution_count": 92,
   "id": "restricted-coaching",
   "metadata": {},
   "outputs": [
    {
     "data": {
      "image/png": "[encoded data removed]",
      "text/plain": [
       "<Figure size 420x300 with 1 Axes>"
      ]
     },
     "metadata": {
      "needs_background": "light"
     },
     "output_type": "display_data"
    }
   ],
   "source": [
    "p = mpatches.Circle((.20,.20) ,.02, transform = ax.transAxes)\n",
    "x,y =  p.get_center()\n",
    "\n",
    "annot = mpatches.FancyArrow(2*x+x*0.3,y,-x,0, width=0.01, \n",
    "                            transform=ax.transAxes,head_length=0.03,\n",
    "                            shape='full',overhang=-0\n",
    "                      )\n",
    "\n",
    "draw_patch(p,annot)"
   ]
  },
  {
   "cell_type": "markdown",
   "id": "large-indication",
   "metadata": {},
   "source": [
    "**With half shape**"
   ]
  },
  {
   "cell_type": "code",
   "execution_count": 93,
   "id": "waiting-terrace",
   "metadata": {},
   "outputs": [
    {
     "data": {
      "image/png": "[encoded data removed]",
      "text/plain": [
       "<Figure size 420x300 with 1 Axes>"
      ]
     },
     "metadata": {
      "needs_background": "light"
     },
     "output_type": "display_data"
    }
   ],
   "source": [
    "p = mpatches.Circle((.20,.20) ,.02, transform = ax.transAxes)\n",
    "x,y =  p.get_center()\n",
    "\n",
    "annot = mpatches.FancyArrow(2*x+x*0.3,y,-x,0, width=0.01, \n",
    "                            transform=ax.transAxes,head_length=0.03,\n",
    "                            shape='right'\n",
    "                      )\n",
    "\n",
    "draw_patch(p,annot)"
   ]
  },
  {
   "cell_type": "markdown",
   "id": "killing-prefix",
   "metadata": {},
   "source": [
    "___"
   ]
  },
  {
   "cell_type": "code",
   "execution_count": 94,
   "id": "loved-confirmation",
   "metadata": {},
   "outputs": [
    {
     "data": {
      "image/png": "[encoded data removed]",
      "text/plain": [
       "<Figure size 420x300 with 1 Axes>"
      ]
     },
     "metadata": {
      "needs_background": "light"
     },
     "output_type": "display_data"
    }
   ],
   "source": [
    "p = mpatches.Circle((.20,.20) ,.02, transform = ax.transAxes)\n",
    "x,y =  p.get_center()\n",
    "\n",
    "annot = mpatches.FancyArrow(2*x+x*0.3,y,-x,0, width=0.01, \n",
    "                            transform=ax.transAxes,head_length=0.03,\n",
    "                            shape='left'\n",
    "                      )\n",
    "\n",
    "draw_patch(p,annot)"
   ]
  },
  {
   "cell_type": "markdown",
   "id": "collectible-bench",
   "metadata": {},
   "source": [
    "**Overhung**"
   ]
  },
  {
   "cell_type": "code",
   "execution_count": 98,
   "id": "daily-saudi",
   "metadata": {},
   "outputs": [
    {
     "data": {
      "image/png": "[encoded data removed]",
      "text/plain": [
       "<Figure size 420x300 with 1 Axes>"
      ]
     },
     "metadata": {
      "needs_background": "light"
     },
     "output_type": "display_data"
    }
   ],
   "source": [
    "p = mpatches.Circle((.20,.20) ,.02, transform = ax.transAxes)\n",
    "x,y =  p.get_center()\n",
    "\n",
    "annot = mpatches.FancyArrow(2*x+x*0.3,y,-x,0, width=0.01, \n",
    "                            transform=ax.transAxes,head_length=0.03,\n",
    "                            shape='full',overhang=5\n",
    "                      )\n",
    "\n",
    "draw_patch(p,annot)"
   ]
  },
  {
   "cell_type": "code",
   "execution_count": 99,
   "id": "fewer-thomson",
   "metadata": {},
   "outputs": [
    {
     "data": {
      "image/png": "[encoded data removed]",
      "text/plain": [
       "<Figure size 420x300 with 1 Axes>"
      ]
     },
     "metadata": {
      "needs_background": "light"
     },
     "output_type": "display_data"
    }
   ],
   "source": [
    "p = mpatches.Circle((.20,.20) ,.02, transform = ax.transAxes)\n",
    "x,y =  p.get_center()\n",
    "\n",
    "annot = mpatches.FancyArrow(2*x+x*0.3,y,-x,0, width=0.01, \n",
    "                            transform=ax.transAxes,head_length=0.03,\n",
    "                            shape='full',overhang=-5\n",
    "                      )\n",
    "\n",
    "draw_patch(p,annot)"
   ]
  },
  {
   "cell_type": "markdown",
   "id": "instrumental-excitement",
   "metadata": {},
   "source": [
    "**Head**"
   ]
  },
  {
   "cell_type": "code",
   "execution_count": 102,
   "id": "british-opera",
   "metadata": {},
   "outputs": [
    {
     "data": {
      "image/png": "[encoded data removed]",
      "text/plain": [
       "<Figure size 420x300 with 1 Axes>"
      ]
     },
     "metadata": {
      "needs_background": "light"
     },
     "output_type": "display_data"
    }
   ],
   "source": [
    "p = mpatches.Circle((.20,.20) ,.02, transform = ax.transAxes)\n",
    "x,y =  p.get_center()\n",
    "\n",
    "annot = mpatches.FancyArrow(2*x+x*0.3,y,-x,0, width=0.01, \n",
    "                            transform=ax.transAxes,head_length=0.03,\n",
    "                            shape='full',\n",
    "                            head_width=0.5\n",
    "                      )\n",
    "\n",
    "draw_patch(p,annot)"
   ]
  },
  {
   "cell_type": "markdown",
   "id": "differential-adjustment",
   "metadata": {},
   "source": [
    "**Capstyle**"
   ]
  },
  {
   "cell_type": "code",
   "execution_count": 109,
   "id": "strong-allowance",
   "metadata": {},
   "outputs": [
    {
     "data": {
      "image/png": "[encoded data removed]",
      "text/plain": [
       "<Figure size 420x300 with 1 Axes>"
      ]
     },
     "metadata": {
      "needs_background": "light"
     },
     "output_type": "display_data"
    }
   ],
   "source": [
    "p = mpatches.Circle((.20,.20) ,.02, transform = ax.transAxes)\n",
    "x,y =  p.get_center()\n",
    "\n",
    "annot = mpatches.FancyArrow(2*x+x*0.3,y,-x,0, width=0.05, \n",
    "                            transform=ax.transAxes,head_length=0.03,\n",
    "                            capstyle = 'round', fc='k', ec='r',\n",
    "                            hatch='/'\n",
    "                      )\n",
    "\n",
    "draw_patch(p,annot)"
   ]
  },
  {
   "cell_type": "code",
   "execution_count": 110,
   "id": "medium-detector",
   "metadata": {},
   "outputs": [],
   "source": []
  },
  {
   "cell_type": "code",
   "execution_count": null,
   "id": "communist-latvia",
   "metadata": {},
   "outputs": [],
   "source": []
  }
 ],
 "metadata": {
  "kernelspec": {
   "display_name": "Python 3",
   "language": "python",
   "name": "python3"
  },
  "language_info": {
   "codemirror_mode": {
    "name": "ipython",
    "version": 3
   },
   "file_extension": ".py",
   "mimetype": "text/x-python",
   "name": "python",
   "nbconvert_exporter": "python",
   "pygments_lexer": "ipython3",
   "version": "3.8.3"
  }
 },
 "nbformat": 4,
 "nbformat_minor": 5
}
