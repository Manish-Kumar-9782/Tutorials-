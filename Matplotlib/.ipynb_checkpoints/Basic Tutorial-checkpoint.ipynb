{
 "cells": [
  {
   "cell_type": "markdown",
   "id": "expressed-directory",
   "metadata": {},
   "source": [
    "# Annotation Style"
   ]
  },
  {
   "cell_type": "code",
   "execution_count": 2,
   "id": "abandoned-ranch",
   "metadata": {},
   "outputs": [],
   "source": [
    "# importing all the required modules\n",
    "import matplotlib.patches as mpatches\n",
    "import matplotlib.pyplot as plt\n"
   ]
  },
  {
   "cell_type": "code",
   "execution_count": 3,
   "id": "compact-guyana",
   "metadata": {},
   "outputs": [],
   "source": [
    "def to_texstring(s):\n",
    "    s = s.replace(\"<\", r\"$<$\")\n",
    "    s = s.replace(\">\", r\"$>$\")\n",
    "    s = s.replace(\"|\", r\"$|$\")\n",
    "    return s"
   ]
  },
  {
   "cell_type": "code",
   "execution_count": 4,
   "id": "considerable-wrestling",
   "metadata": {},
   "outputs": [],
   "source": [
    "styles = mpatches.ArrowStyle.get_styles()"
   ]
  },
  {
   "cell_type": "code",
   "execution_count": 7,
   "id": "primary-pixel",
   "metadata": {},
   "outputs": [],
   "source": [
    "sta = styles[']-']"
   ]
  },
  {
   "cell_type": "code",
   "execution_count": null,
   "id": "european-azerbaijan",
   "metadata": {},
   "outputs": [],
   "source": []
  },
  {
   "cell_type": "code",
   "execution_count": null,
   "id": "promotional-commonwealth",
   "metadata": {},
   "outputs": [],
   "source": [
    "# Now we will make a figure \n",
    "fig, axs = plt.subplots(figsize=(7, 5,), dpi=100)\n",
    "\n"
   ]
  }
 ],
 "metadata": {
  "kernelspec": {
   "display_name": "Python 3",
   "language": "python",
   "name": "python3"
  },
  "language_info": {
   "codemirror_mode": {
    "name": "ipython",
    "version": 3
   },
   "file_extension": ".py",
   "mimetype": "text/x-python",
   "name": "python",
   "nbconvert_exporter": "python",
   "pygments_lexer": "ipython3",
   "version": "3.8.3"
  }
 },
 "nbformat": 4,
 "nbformat_minor": 5
}
