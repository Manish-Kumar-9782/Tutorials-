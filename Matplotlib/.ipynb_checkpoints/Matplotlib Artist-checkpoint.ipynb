{
 "cells": [
  {
   "cell_type": "markdown",
   "id": "related-wagon",
   "metadata": {},
   "source": [
    "# Artist"
   ]
  },
  {
   "cell_type": "markdown",
   "id": "thrown-arnold",
   "metadata": {},
   "source": [
    "There are three layers to the Matplotlib API.\n",
    "\n",
    "* the `matplotlib.backend_bases.FigureCanvas` is the area onto which the figure is drawn\n",
    "* the `matplotlib.backend_bases.Renderer` is the object which knows how to draw on the FigureCanvas\n",
    "* and the `matplotlib.artist.Artist` is the object that knows how to use a renderer to paint onto the canvas."
   ]
  },
  {
   "cell_type": "markdown",
   "id": "historical-albania",
   "metadata": {},
   "source": [
    "The `FigureCanvas` and `Renderer` handle all the details of talking to user interface toolkits like wxPython or drawing languages like PostScript®, and the `Artist` handles all the high level constructs like representing and laying out the figure, text, and lines. The typical user will spend 95% of their time working with the Artists."
   ]
  },
  {
   "cell_type": "markdown",
   "id": "superb-policy",
   "metadata": {},
   "source": [
    "There are two types of Artist: Primitives and Container\n",
    "* Primitives: The premitives represent the standard graphical objects we want to paint onto our canvas like Line2D, Rectangle, Text, AxesImage, etc.\n",
    "* Container: The containers are places to put all the primitives in Axis, Axes and Figure so here these three are called containers. In which Figure is called the Top level container in all of them becaues it can contain Axes and which contains Axis."
   ]
  },
  {
   "cell_type": "markdown",
   "id": "promotional-mauritius",
   "metadata": {},
   "source": [
    "The standard use is to create a Figure instance, use the Figure to create one or more Axes or Subplot instances, and use the Axes instance helper methods to create the primitives. "
   ]
  },
  {
   "cell_type": "markdown",
   "id": "about-rally",
   "metadata": {},
   "source": [
    " In the example below, we create a Figure instance using `matplotlib.pyplot.figure()`, which is a convenience method for instantiating Figure instances and connecting them with your user interface or drawing toolkit FigureCanvas."
   ]
  },
  {
   "cell_type": "code",
   "execution_count": 23,
   "id": "explicit-maker",
   "metadata": {},
   "outputs": [],
   "source": [
    "import matplotlib.pyplot as plt\n",
    "import numpy as np"
   ]
  },
  {
   "cell_type": "code",
   "execution_count": 2,
   "id": "supported-sight",
   "metadata": {},
   "outputs": [
    {
     "data": {
      "image/png": "[encoded data removed]",
      "text/plain": [
       "<Figure size 432x288 with 1 Axes>"
      ]
     },
     "metadata": {
      "needs_background": "light"
     },
     "output_type": "display_data"
    }
   ],
   "source": [
    "# creating a figure \n",
    "fig = plt.figure()   # creating an instance of figure\n",
    "# in this figure we will make some axes instance.\n",
    "\n",
    "# Adding the axes with the help of the fig.add_subplot()\n",
    "ax = fig.add_subplot(2, 1, 1)\n",
    "# two row, one column and first plot or you can say at index 1."
   ]
  },
  {
   "cell_type": "markdown",
   "id": "equal-candidate",
   "metadata": {},
   "source": [
    "The Axes is probably the most important class in the Matplotlib API, and the one you will be working with most of the time. This is because the Axes is the plotting area into which most of the objects go, and the Axes has many special helper methods ($\\color{#d68354}{\\text{plot(), text(), hist(), imshow()}}$) to create the most common graphics primitives ($\\color{#d68354}{\\text{Line2D, Text, Rectangle, AxesImage, respectively}}$). "
   ]
  },
  {
   "cell_type": "markdown",
   "id": "greater-reducing",
   "metadata": {},
   "source": [
    " These helper methods will take your data (e.g., numpy arrays and strings) and create primitive Artist instances as needed (e.g., Line2D), add them to the relevant containers, and draw them when requested. Most of you are probably familiar with the Subplot, which is just a special case of an Axes that lives on a regular rows by columns grid of Subplot instances."
   ]
  },
  {
   "cell_type": "markdown",
   "id": "american-angel",
   "metadata": {},
   "source": [
    "If you want to create an Axes at an arbitrary location, simply use the add_axes() method which takes a list of **[left, bottom, width, height]** values in 0-1 relative figure coordinates:"
   ]
  },
  {
   "cell_type": "code",
   "execution_count": 7,
   "id": "incorrect-hammer",
   "metadata": {},
   "outputs": [
    {
     "data": {
      "image/png": "[encoded data removed]",
      "text/plain": [
       "<Figure size 432x288 with 1 Axes>"
      ]
     },
     "metadata": {
      "needs_background": "light"
     },
     "output_type": "display_data"
    }
   ],
   "source": [
    "fig2 = plt.figure()\n",
    "ax1 = fig2.add_axes([0.15, 0.1, 0.7, 0.3])"
   ]
  },
  {
   "cell_type": "markdown",
   "id": "configured-evolution",
   "metadata": {},
   "source": [
    "Note: since in fig2 there is only one axes so we will not see the relative position of the new axes so to see the effect of the add_axes() with position value we need to add two axes on the save figure."
   ]
  },
  {
   "cell_type": "code",
   "execution_count": 8,
   "id": "vulnerable-transsexual",
   "metadata": {},
   "outputs": [
    {
     "data": {
      "image/png": "[encoded data removed]",
      "text/plain": [
       "<Figure size 432x288 with 2 Axes>"
      ]
     },
     "metadata": {
      "needs_background": "light"
     },
     "output_type": "display_data"
    }
   ],
   "source": [
    "fig2 = plt.figure()\n",
    "ax1 = fig2.add_axes([0.15, 0.1, 0.7, 0.3])\n",
    "ax2 = fig2.add_axes([0.45, 0.1, 0.7, 0.3])"
   ]
  },
  {
   "cell_type": "markdown",
   "id": "martial-injection",
   "metadata": {},
   "source": [
    "As you can see that we have added a new axes on the same figure by providing the relative positon coords to the figure.\n",
    "\n",
    "In this example, ax is the Axes instance created by the fig.add_subplot call above (remember Subplot is just a subclass of Axes) and when you call ax.plot, it creates a Line2D instance and adds it to the `Axes.lines` list."
   ]
  },
  {
   "cell_type": "markdown",
   "id": "widespread-affair",
   "metadata": {},
   "source": [
    "### Adding lines"
   ]
  },
  {
   "cell_type": "code",
   "execution_count": 30,
   "id": "broadband-touch",
   "metadata": {},
   "outputs": [
    {
     "data": {
      "image/png": "[encoded data removed]",
      "text/plain": [
       "<Figure size 700x600 with 1 Axes>"
      ]
     },
     "metadata": {
      "needs_background": "light"
     },
     "output_type": "display_data"
    }
   ],
   "source": [
    "# adding a line instance by using the plot method in the axes instance.\n",
    "fig = plt.figure(figsize=(7,6), dpi=100)\n",
    "ax = fig.add_axes([0.15, 0.1, 0.7, 0.3])\n",
    "\n",
    "# creating a random data to draw the line.\n",
    "t = np.arange(0.0, 1.0, 0.01)\n",
    "s = np.sin(2*np.pi*t)\n",
    "\n",
    "# creating the line by using the plot method,\n",
    "lines = ax.plot(t, s, color='blue', lw=2)\n",
    "# here line is a list of lines"
   ]
  },
  {
   "cell_type": "code",
   "execution_count": 31,
   "id": "negative-pizza",
   "metadata": {},
   "outputs": [
    {
     "name": "stdout",
     "output_type": "stream",
     "text": [
      "[<matplotlib.lines.Line2D object at 0x000002780E634D60>]\n",
      "[<matplotlib.lines.Line2D object at 0x000002780E634D60>]\n"
     ]
    }
   ],
   "source": [
    "# inspecting the lines\n",
    "print(lines)\n",
    "# we can see all the lines are drawn in the current axes\n",
    "# by using the Axes.lines attribute.\n",
    "print(ax.lines)"
   ]
  },
  {
   "cell_type": "markdown",
   "id": "organizational-scanning",
   "metadata": {},
   "source": [
    "As you can see that it is a list in which we have a LIne2D object. Since we have only added one line by using .plot() method that's why here is only one line.\n",
    "\n",
    "if we add another line then we can see two Line2D object in our Axes.lines list"
   ]
  },
  {
   "cell_type": "code",
   "execution_count": 32,
   "id": "exciting-guatemala",
   "metadata": {},
   "outputs": [
    {
     "data": {
      "image/png": "[encoded data removed]",
      "text/plain": [
       "<Figure size 700x600 with 1 Axes>"
      ]
     },
     "metadata": {
      "needs_background": "light"
     },
     "output_type": "display_data"
    }
   ],
   "source": [
    "# adding a line instance by using the plot method in the axes instance.\n",
    "fig = plt.figure(figsize=(7,6), dpi=100)\n",
    "ax = fig.add_axes([0.15, 0.1, 0.7, 0.3])\n",
    "\n",
    "# creating a random data to draw the line.\n",
    "t = np.arange(0.0, 1.0, 0.01)\n",
    "s = np.sin(2*np.pi*t)\n",
    "\n",
    "# creating the line by using the plot method,\n",
    "lines = ax.plot(t, s, color='blue', lw=2)\n",
    "# here line is a list of lines\n",
    "c = np.cos(2*np.pi*t)\n",
    "# adding another line in the axes.\n",
    "\n",
    "lines = ax.plot(t,c)\n",
    "plt.show()"
   ]
  },
  {
   "cell_type": "markdown",
   "id": "prescribed-ebony",
   "metadata": {},
   "source": [
    "Now if we see the lines then we will get two lines in the lines list."
   ]
  },
  {
   "cell_type": "code",
   "execution_count": 33,
   "id": "suited-amount",
   "metadata": {},
   "outputs": [
    {
     "name": "stdout",
     "output_type": "stream",
     "text": [
      "[<matplotlib.lines.Line2D object at 0x000002780E692430>]\n",
      "[<matplotlib.lines.Line2D object at 0x000002780E6920D0>, <matplotlib.lines.Line2D object at 0x000002780E692430>]\n"
     ]
    }
   ],
   "source": [
    "# inspecting lines\n",
    "print(lines)\n",
    "print(ax.lines)"
   ]
  },
  {
   "cell_type": "markdown",
   "id": "chronic-steal",
   "metadata": {},
   "source": [
    "As you can that ther are now two line present in the `ax.lines` attribute.\n",
    "\n",
    "If you make subsequent calls to ax.plot (and the hold state is \"on\" which is the default) then additional lines will be added to the list. You can remove lines later simply by calling the list methods"
   ]
  },
  {
   "cell_type": "markdown",
   "id": "roman-rachel",
   "metadata": {},
   "source": [
    "### Deleting Lines"
   ]
  },
  {
   "cell_type": "code",
   "execution_count": 38,
   "id": "american-ranking",
   "metadata": {},
   "outputs": [
    {
     "data": {
      "image/png": "[encoded data removed]",
      "text/plain": [
       "<Figure size 700x600 with 1 Axes>"
      ]
     },
     "metadata": {
      "needs_background": "light"
     },
     "output_type": "display_data"
    }
   ],
   "source": [
    "# adding a line instance by using the plot method in the axes instance.\n",
    "fig = plt.figure(figsize=(7,6), dpi=100)\n",
    "ax = fig.add_axes([0.15, 0.1, 0.7, 0.3])\n",
    "\n",
    "# creating a random data to draw the line.\n",
    "t = np.arange(0.0, 1.0, 0.01)\n",
    "s = np.sin(2*np.pi*t)\n",
    "\n",
    "# creating the line by using the plot method,\n",
    "lines = ax.plot(t, s, color='blue', lw=2)\n",
    "# here line is a list of lines\n",
    "c = np.cos(2*np.pi*t)\n",
    "# adding another line in the axes.\n",
    "lines = ax.plot(t,c)\n",
    "\n",
    "# Now will delete the lines by using the del keyword\n",
    "del ax.lines[-1] #deleting the  last line in the ax.list\n",
    "plt.show()"
   ]
  },
  {
   "cell_type": "code",
   "execution_count": 39,
   "id": "express-accessory",
   "metadata": {},
   "outputs": [
    {
     "name": "stdout",
     "output_type": "stream",
     "text": [
      "[<matplotlib.lines.Line2D object at 0x000002780E8D3A30>]\n"
     ]
    }
   ],
   "source": [
    "# Now if we inspect the ax.lines\n",
    "print(ax.lines)"
   ]
  },
  {
   "cell_type": "code",
   "execution_count": 43,
   "id": "parental-brisbane",
   "metadata": {},
   "outputs": [
    {
     "name": "stdout",
     "output_type": "stream",
     "text": [
      "\n",
      "Total lines before deleting:  [<matplotlib.lines.Line2D object at 0x00000278118ED6A0>, <matplotlib.lines.Line2D object at 0x00000278118ED400>]\n",
      "\n",
      "Total lines after deleting:  [<matplotlib.lines.Line2D object at 0x00000278118ED6A0>]\n"
     ]
    },
    {
     "data": {
      "image/png": "[encoded data removed]",
      "text/plain": [
       "<Figure size 700x600 with 1 Axes>"
      ]
     },
     "metadata": {
      "needs_background": "light"
     },
     "output_type": "display_data"
    }
   ],
   "source": [
    "# adding a line instance by using the plot method in the axes instance.\n",
    "fig = plt.figure(figsize=(7,6), dpi=100)\n",
    "ax = fig.add_axes([0.15, 0.1, 0.7, 0.3])\n",
    "\n",
    "# creating a random data to draw the line.\n",
    "t = np.arange(0.0, 1.0, 0.01)\n",
    "s = np.sin(2*np.pi*t)\n",
    "\n",
    "# creating the line by using the plot method,\n",
    "lines = ax.plot(t, s, color='blue', lw=2)\n",
    "# here line is a list of lines\n",
    "c = np.cos(2*np.pi*t)\n",
    "# adding another line in the axes.\n",
    "new_line = ax.plot(t,c)\n",
    "\n",
    "print(\"\\nTotal lines before deleting: \", ax.lines)\n",
    "# Now will delete the lines by using helper method.\n",
    "ax.lines.remove(ax.lines[-1])  # deleting the last line.\n",
    "print(\"\\nTotal lines after deleting: \", ax.lines)\n",
    "plt.show()"
   ]
  },
  {
   "cell_type": "markdown",
   "id": "pressing-compact",
   "metadata": {},
   "source": [
    "### Setting Labels"
   ]
  },
  {
   "cell_type": "markdown",
   "id": "necessary-domestic",
   "metadata": {},
   "source": [
    "The Axes also has helper methods to configure and decorate the x-axis and y-axis tick, tick labels and axis labels:"
   ]
  },
  {
   "cell_type": "code",
   "execution_count": 45,
   "id": "union-dylan",
   "metadata": {},
   "outputs": [
    {
     "data": {
      "image/png": "[encoded data removed]",
      "text/plain": [
       "<Figure size 700x600 with 1 Axes>"
      ]
     },
     "metadata": {
      "needs_background": "light"
     },
     "output_type": "display_data"
    }
   ],
   "source": [
    "# adding a line instance by using the plot method in the axes instance.\n",
    "fig = plt.figure(figsize=(7,6), dpi=100)\n",
    "ax = fig.add_axes([0.15, 0.1, 0.7, 0.3])\n",
    "\n",
    "# creating a random data to draw the line.\n",
    "t = np.arange(0.0, 1.0, 0.01)\n",
    "s = np.sin(2*np.pi*t)\n",
    "\n",
    "# creating the line by using the plot method,\n",
    "lines = ax.plot(t, s, color='blue', lw=2)\n",
    "\n",
    "# adding labels\n",
    "xtext = ax.set_xlabel(\"Angles\")\n",
    "ytext = ax.set_ylabel('Values')\n",
    "\n",
    "plt.show()"
   ]
  },
  {
   "cell_type": "markdown",
   "id": "referenced-needle",
   "metadata": {},
   "source": [
    "When you call `ax.set_xlabel`, it passes the information on the Text instance of the XAxis. Each Axes instance contains an `XAxis` and a `YAxis` instance, which handle the layout and drawing of the ticks, tick labels and axis labels."
   ]
  },
  {
   "cell_type": "code",
   "execution_count": 46,
   "id": "varying-promotion",
   "metadata": {},
   "outputs": [
    {
     "name": "stdout",
     "output_type": "stream",
     "text": [
      "xtext object:  Text(0.5, 24.0, 'Angles')\n",
      "ytext object:  Text(24.00000000000002, 0.5, 'Values')\n"
     ]
    }
   ],
   "source": [
    "# if we inspect the xtext and ytext\n",
    "print(\"xtext object: \", xtext)\n",
    "print(\"ytext object: \", ytext)"
   ]
  },
  {
   "cell_type": "markdown",
   "id": "beginning-movie",
   "metadata": {},
   "source": [
    "As you can see that set_xlabel and set_ylabel give us the text object which is placed as the labels.\n",
    "\n",
    "we can directly use these object to change the property of the xlabel and ylabel. if we want ot see the "
   ]
  },
  {
   "cell_type": "code",
   "execution_count": 49,
   "id": "decreased-credit",
   "metadata": {},
   "outputs": [
    {
     "data": {
      "text/plain": [
       "{'agg_filter': None,\n",
       " 'alpha': None,\n",
       " 'animated': False,\n",
       " 'bbox_patch': None,\n",
       " 'children': [],\n",
       " 'clip_box': None,\n",
       " 'clip_on': True,\n",
       " 'clip_path': None,\n",
       " 'color': 'black',\n",
       " 'contains': None,\n",
       " 'figure': <Figure size 700x600 with 1 Axes>,\n",
       " 'fontfamily': ['sans-serif'],\n",
       " 'fontname': 'DejaVu Sans',\n",
       " 'fontproperties': <matplotlib.font_manager.FontProperties at 0x27810b446d0>,\n",
       " 'fontsize': 10.0,\n",
       " 'fontstyle': 'normal',\n",
       " 'fontvariant': 'normal',\n",
       " 'fontweight': 'normal',\n",
       " 'gid': None,\n",
       " 'horizontalalignment': 'center',\n",
       " 'in_layout': True,\n",
       " 'label': '',\n",
       " 'path_effects': [],\n",
       " 'picker': None,\n",
       " 'position': (0.5, 24.0),\n",
       " 'prop_tup': (0.5,\n",
       "  24.0,\n",
       "  'Angles',\n",
       "  'black',\n",
       "  'top',\n",
       "  'center',\n",
       "  8148757912991194678,\n",
       "  None,\n",
       "  None,\n",
       "  100,\n",
       "  <weakref at 0x0000027810EDD5E0; to 'RendererAgg' at 0x0000027810BFC9A0>,\n",
       "  1.2),\n",
       " 'rasterized': None,\n",
       " 'rotation': 0.0,\n",
       " 'rotation_mode': None,\n",
       " 'sketch_params': None,\n",
       " 'snap': None,\n",
       " 'stretch': 'normal',\n",
       " 'text': 'Angles',\n",
       " 'transform': <matplotlib.transforms.BlendedAffine2D at 0x27810b449a0>,\n",
       " 'transformed_clip_path_and_affine': (None, None),\n",
       " 'unitless_position': (0.5, 24.0),\n",
       " 'url': None,\n",
       " 'usetex': False,\n",
       " 'verticalalignment': 'top',\n",
       " 'visible': True,\n",
       " 'window_extent': Bbox([[326.6875, 10.0], [373.3125, 24.0]]),\n",
       " 'wrap': False,\n",
       " 'zorder': 3}"
      ]
     },
     "execution_count": 49,
     "metadata": {},
     "output_type": "execute_result"
    }
   ],
   "source": [
    "xtext.properties()"
   ]
  },
  {
   "cell_type": "code",
   "execution_count": null,
   "id": "linear-border",
   "metadata": {},
   "outputs": [],
   "source": []
  }
 ],
 "metadata": {
  "kernelspec": {
   "display_name": "Python 3",
   "language": "python",
   "name": "python3"
  },
  "language_info": {
   "codemirror_mode": {
    "name": "ipython",
    "version": 3
   },
   "file_extension": ".py",
   "mimetype": "text/x-python",
   "name": "python",
   "nbconvert_exporter": "python",
   "pygments_lexer": "ipython3",
   "version": "3.8.3"
  }
 },
 "nbformat": 4,
 "nbformat_minor": 5
}
