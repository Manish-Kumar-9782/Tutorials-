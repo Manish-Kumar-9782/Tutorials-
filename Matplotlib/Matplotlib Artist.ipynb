{
 "cells": [
  {
   "cell_type": "markdown",
   "id": "scheduled-arrival",
   "metadata": {},
   "source": [
    "# Artist"
   ]
  },
  {
   "cell_type": "markdown",
   "id": "tight-adelaide",
   "metadata": {},
   "source": [
    "There are three layers to the Matplotlib API.\n",
    "\n",
    "* the `matplotlib.backend_bases.FigureCanvas` is the area onto which the figure is drawn\n",
    "* the `matplotlib.backend_bases.Renderer` is the object which knows how to draw on the FigureCanvas\n",
    "* and the `matplotlib.artist.Artist` is the object that knows how to use a renderer to paint onto the canvas."
   ]
  },
  {
   "cell_type": "markdown",
   "id": "contrary-boundary",
   "metadata": {},
   "source": [
    "The `FigureCanvas` and `Renderer` handle all the details of talking to user interface toolkits like wxPython or drawing languages like PostScript®, and the `Artist` handles all the high level constructs like representing and laying out the figure, text, and lines. The typical user will spend 95% of their time working with the Artists."
   ]
  },
  {
   "cell_type": "markdown",
   "id": "undefined-administrator",
   "metadata": {},
   "source": [
    "There are two types of Artist: Primitives and Container\n",
    "* Primitives: The premitives represent the standard graphical objects we want to paint onto our canvas like Line2D, Rectangle, Text, AxesImage, etc.\n",
    "* Container: The containers are places to put all the primitives in Axis, Axes and Figure so here these three are called containers. In which Figure is called the Top level container in all of them becaues it can contain Axes and which contains Axis."
   ]
  },
  {
   "cell_type": "markdown",
   "id": "hungry-default",
   "metadata": {},
   "source": [
    "The standard use is to create a Figure instance, use the Figure to create one or more Axes or Subplot instances, and use the Axes instance helper methods to create the primitives. "
   ]
  },
  {
   "cell_type": "markdown",
   "id": "suspected-protest",
   "metadata": {},
   "source": [
    " In the example below, we create a Figure instance using `matplotlib.pyplot.figure()`, which is a convenience method for instantiating Figure instances and connecting them with your user interface or drawing toolkit FigureCanvas."
   ]
  },
  {
   "cell_type": "code",
   "execution_count": 23,
   "id": "incredible-christmas",
   "metadata": {},
   "outputs": [],
   "source": [
    "import matplotlib.pyplot as plt\n",
    "import numpy as np"
   ]
  },
  {
   "cell_type": "code",
   "execution_count": 2,
   "id": "designed-milton",
   "metadata": {},
   "outputs": [
    {
     "data": {
      "image/png": "[encoded data removed]",
      "text/plain": [
       "<Figure size 432x288 with 1 Axes>"
      ]
     },
     "metadata": {
      "needs_background": "light"
     },
     "output_type": "display_data"
    }
   ],
   "source": [
    "# creating a figure \n",
    "fig = plt.figure()   # creating an instance of figure\n",
    "# in this figure we will make some axes instance.\n",
    "\n",
    "# Adding the axes with the help of the fig.add_subplot()\n",
    "ax = fig.add_subplot(2, 1, 1)\n",
    "# two row, one column and first plot or you can say at index 1."
   ]
  },
  {
   "cell_type": "markdown",
   "id": "civic-monster",
   "metadata": {},
   "source": [
    "The Axes is probably the most important class in the Matplotlib API, and the one you will be working with most of the time. This is because the Axes is the plotting area into which most of the objects go, and the Axes has many special helper methods ($\\color{#d68354}{\\text{plot(), text(), hist(), imshow()}}$) to create the most common graphics primitives ($\\color{#d68354}{\\text{Line2D, Text, Rectangle, AxesImage, respectively}}$). "
   ]
  },
  {
   "cell_type": "markdown",
   "id": "sacred-physiology",
   "metadata": {},
   "source": [
    " These helper methods will take your data (e.g., numpy arrays and strings) and create primitive Artist instances as needed (e.g., Line2D), add them to the relevant containers, and draw them when requested. Most of you are probably familiar with the Subplot, which is just a special case of an Axes that lives on a regular rows by columns grid of Subplot instances."
   ]
  },
  {
   "cell_type": "markdown",
   "id": "painful-comment",
   "metadata": {},
   "source": [
    "If you want to create an Axes at an arbitrary location, simply use the add_axes() method which takes a list of **[left, bottom, width, height]** values in 0-1 relative figure coordinates:"
   ]
  },
  {
   "cell_type": "code",
   "execution_count": 7,
   "id": "applicable-ukraine",
   "metadata": {},
   "outputs": [
    {
     "data": {
      "image/png": "[encoded data removed]",
      "text/plain": [
       "<Figure size 432x288 with 1 Axes>"
      ]
     },
     "metadata": {
      "needs_background": "light"
     },
     "output_type": "display_data"
    }
   ],
   "source": [
    "fig2 = plt.figure()\n",
    "ax1 = fig2.add_axes([0.15, 0.1, 0.7, 0.3])"
   ]
  },
  {
   "cell_type": "markdown",
   "id": "rising-battlefield",
   "metadata": {},
   "source": [
    "Note: since in fig2 there is only one axes so we will not see the relative position of the new axes so to see the effect of the add_axes() with position value we need to add two axes on the save figure."
   ]
  },
  {
   "cell_type": "code",
   "execution_count": 8,
   "id": "altered-modification",
   "metadata": {},
   "outputs": [
    {
     "data": {
      "image/png": "[encoded data removed]",
      "text/plain": [
       "<Figure size 432x288 with 2 Axes>"
      ]
     },
     "metadata": {
      "needs_background": "light"
     },
     "output_type": "display_data"
    }
   ],
   "source": [
    "fig2 = plt.figure()\n",
    "ax1 = fig2.add_axes([0.15, 0.1, 0.7, 0.3])\n",
    "ax2 = fig2.add_axes([0.45, 0.1, 0.7, 0.3])"
   ]
  },
  {
   "cell_type": "markdown",
   "id": "linear-expression",
   "metadata": {},
   "source": [
    "As you can see that we have added a new axes on the same figure by providing the relative positon coords to the figure.\n",
    "\n",
    "In this example, ax is the Axes instance created by the fig.add_subplot call above (remember Subplot is just a subclass of Axes) and when you call ax.plot, it creates a Line2D instance and adds it to the `Axes.lines` list."
   ]
  },
  {
   "cell_type": "markdown",
   "id": "sixth-rider",
   "metadata": {},
   "source": [
    "### Adding lines"
   ]
  },
  {
   "cell_type": "code",
   "execution_count": 30,
   "id": "victorian-procurement",
   "metadata": {},
   "outputs": [
    {
     "data": {
      "image/png": "[encoded data removed]",
      "text/plain": [
       "<Figure size 700x600 with 1 Axes>"
      ]
     },
     "metadata": {
      "needs_background": "light"
     },
     "output_type": "display_data"
    }
   ],
   "source": [
    "# adding a line instance by using the plot method in the axes instance.\n",
    "fig = plt.figure(figsize=(7,6), dpi=100)\n",
    "ax = fig.add_axes([0.15, 0.1, 0.7, 0.3])\n",
    "\n",
    "# creating a random data to draw the line.\n",
    "t = np.arange(0.0, 1.0, 0.01)\n",
    "s = np.sin(2*np.pi*t)\n",
    "\n",
    "# creating the line by using the plot method,\n",
    "lines = ax.plot(t, s, color='blue', lw=2)\n",
    "# here line is a list of lines"
   ]
  },
  {
   "cell_type": "code",
   "execution_count": 31,
   "id": "burning-civilization",
   "metadata": {},
   "outputs": [
    {
     "name": "stdout",
     "output_type": "stream",
     "text": [
      "[<matplotlib.lines.Line2D object at 0x000002780E634D60>]\n",
      "[<matplotlib.lines.Line2D object at 0x000002780E634D60>]\n"
     ]
    }
   ],
   "source": [
    "# inspecting the lines\n",
    "print(lines)\n",
    "# we can see all the lines are drawn in the current axes\n",
    "# by using the Axes.lines attribute.\n",
    "print(ax.lines)"
   ]
  },
  {
   "cell_type": "markdown",
   "id": "painted-robertson",
   "metadata": {},
   "source": [
    "As you can see that it is a list in which we have a LIne2D object. Since we have only added one line by using .plot() method that's why here is only one line.\n",
    "\n",
    "if we add another line then we can see two Line2D object in our Axes.lines list"
   ]
  },
  {
   "cell_type": "code",
   "execution_count": 32,
   "id": "suspended-teens",
   "metadata": {},
   "outputs": [
    {
     "data": {
      "image/png": "[encoded data removed]",
      "text/plain": [
       "<Figure size 700x600 with 1 Axes>"
      ]
     },
     "metadata": {
      "needs_background": "light"
     },
     "output_type": "display_data"
    }
   ],
   "source": [
    "# adding a line instance by using the plot method in the axes instance.\n",
    "fig = plt.figure(figsize=(7,6), dpi=100)\n",
    "ax = fig.add_axes([0.15, 0.1, 0.7, 0.3])\n",
    "\n",
    "# creating a random data to draw the line.\n",
    "t = np.arange(0.0, 1.0, 0.01)\n",
    "s = np.sin(2*np.pi*t)\n",
    "\n",
    "# creating the line by using the plot method,\n",
    "lines = ax.plot(t, s, color='blue', lw=2)\n",
    "# here line is a list of lines\n",
    "c = np.cos(2*np.pi*t)\n",
    "# adding another line in the axes.\n",
    "\n",
    "lines = ax.plot(t,c)\n",
    "plt.show()"
   ]
  },
  {
   "cell_type": "markdown",
   "id": "excessive-surprise",
   "metadata": {},
   "source": [
    "Now if we see the lines then we will get two lines in the lines list."
   ]
  },
  {
   "cell_type": "code",
   "execution_count": 33,
   "id": "hundred-guess",
   "metadata": {},
   "outputs": [
    {
     "name": "stdout",
     "output_type": "stream",
     "text": [
      "[<matplotlib.lines.Line2D object at 0x000002780E692430>]\n",
      "[<matplotlib.lines.Line2D object at 0x000002780E6920D0>, <matplotlib.lines.Line2D object at 0x000002780E692430>]\n"
     ]
    }
   ],
   "source": [
    "# inspecting lines\n",
    "print(lines)\n",
    "print(ax.lines)"
   ]
  },
  {
   "cell_type": "markdown",
   "id": "elementary-surgery",
   "metadata": {},
   "source": [
    "As you can that ther are now two line present in the `ax.lines` attribute.\n",
    "\n",
    "If you make subsequent calls to ax.plot (and the hold state is \"on\" which is the default) then additional lines will be added to the list. You can remove lines later simply by calling the list methods"
   ]
  },
  {
   "cell_type": "markdown",
   "id": "indonesian-minutes",
   "metadata": {},
   "source": [
    "### Deleting Lines"
   ]
  },
  {
   "cell_type": "code",
   "execution_count": 38,
   "id": "enhanced-burton",
   "metadata": {},
   "outputs": [
    {
     "data": {
      "image/png": "[encoded data removed]",
      "text/plain": [
       "<Figure size 700x600 with 1 Axes>"
      ]
     },
     "metadata": {
      "needs_background": "light"
     },
     "output_type": "display_data"
    }
   ],
   "source": [
    "# adding a line instance by using the plot method in the axes instance.\n",
    "fig = plt.figure(figsize=(7,6), dpi=100)\n",
    "ax = fig.add_axes([0.15, 0.1, 0.7, 0.3])\n",
    "\n",
    "# creating a random data to draw the line.\n",
    "t = np.arange(0.0, 1.0, 0.01)\n",
    "s = np.sin(2*np.pi*t)\n",
    "\n",
    "# creating the line by using the plot method,\n",
    "lines = ax.plot(t, s, color='blue', lw=2)\n",
    "# here line is a list of lines\n",
    "c = np.cos(2*np.pi*t)\n",
    "# adding another line in the axes.\n",
    "lines = ax.plot(t,c)\n",
    "\n",
    "# Now will delete the lines by using the del keyword\n",
    "del ax.lines[-1] #deleting the  last line in the ax.list\n",
    "plt.show()"
   ]
  },
  {
   "cell_type": "code",
   "execution_count": 39,
   "id": "pending-practitioner",
   "metadata": {},
   "outputs": [
    {
     "name": "stdout",
     "output_type": "stream",
     "text": [
      "[<matplotlib.lines.Line2D object at 0x000002780E8D3A30>]\n"
     ]
    }
   ],
   "source": [
    "# Now if we inspect the ax.lines\n",
    "print(ax.lines)"
   ]
  },
  {
   "cell_type": "code",
   "execution_count": 43,
   "id": "unexpected-mirror",
   "metadata": {},
   "outputs": [
    {
     "name": "stdout",
     "output_type": "stream",
     "text": [
      "\n",
      "Total lines before deleting:  [<matplotlib.lines.Line2D object at 0x00000278118ED6A0>, <matplotlib.lines.Line2D object at 0x00000278118ED400>]\n",
      "\n",
      "Total lines after deleting:  [<matplotlib.lines.Line2D object at 0x00000278118ED6A0>]\n"
     ]
    },
    {
     "data": {
      "image/png": "[encoded data removed]",
      "text/plain": [
       "<Figure size 700x600 with 1 Axes>"
      ]
     },
     "metadata": {
      "needs_background": "light"
     },
     "output_type": "display_data"
    }
   ],
   "source": [
    "# adding a line instance by using the plot method in the axes instance.\n",
    "fig = plt.figure(figsize=(7,6), dpi=100)\n",
    "ax = fig.add_axes([0.15, 0.1, 0.7, 0.3])\n",
    "\n",
    "# creating a random data to draw the line.\n",
    "t = np.arange(0.0, 1.0, 0.01)\n",
    "s = np.sin(2*np.pi*t)\n",
    "\n",
    "# creating the line by using the plot method,\n",
    "lines = ax.plot(t, s, color='blue', lw=2)\n",
    "# here line is a list of lines\n",
    "c = np.cos(2*np.pi*t)\n",
    "# adding another line in the axes.\n",
    "new_line = ax.plot(t,c)\n",
    "\n",
    "print(\"\\nTotal lines before deleting: \", ax.lines)\n",
    "# Now will delete the lines by using helper method.\n",
    "ax.lines.remove(ax.lines[-1])  # deleting the last line.\n",
    "print(\"\\nTotal lines after deleting: \", ax.lines)\n",
    "plt.show()"
   ]
  },
  {
   "cell_type": "markdown",
   "id": "excited-bracelet",
   "metadata": {},
   "source": [
    "### Setting Labels"
   ]
  },
  {
   "cell_type": "markdown",
   "id": "precise-reserve",
   "metadata": {},
   "source": [
    "The Axes also has helper methods to configure and decorate the x-axis and y-axis tick, tick labels and axis labels:"
   ]
  },
  {
   "cell_type": "code",
   "execution_count": 45,
   "id": "romance-amazon",
   "metadata": {},
   "outputs": [
    {
     "data": {
      "image/png": "[encoded data removed]",
      "text/plain": [
       "<Figure size 700x600 with 1 Axes>"
      ]
     },
     "metadata": {
      "needs_background": "light"
     },
     "output_type": "display_data"
    }
   ],
   "source": [
    "# adding a line instance by using the plot method in the axes instance.\n",
    "fig = plt.figure(figsize=(7,6), dpi=100)\n",
    "ax = fig.add_axes([0.15, 0.1, 0.7, 0.3])\n",
    "\n",
    "# creating a random data to draw the line.\n",
    "t = np.arange(0.0, 1.0, 0.01)\n",
    "s = np.sin(2*np.pi*t)\n",
    "\n",
    "# creating the line by using the plot method,\n",
    "lines = ax.plot(t, s, color='blue', lw=2)\n",
    "\n",
    "# adding labels\n",
    "xtext = ax.set_xlabel(\"Angles\")\n",
    "ytext = ax.set_ylabel('Values')\n",
    "\n",
    "plt.show()"
   ]
  },
  {
   "cell_type": "markdown",
   "id": "comprehensive-pilot",
   "metadata": {},
   "source": [
    "When you call `ax.set_xlabel`, it passes the information on the Text instance of the XAxis. Each Axes instance contains an `XAxis` and a `YAxis` instance, which handle the layout and drawing of the ticks, tick labels and axis labels."
   ]
  },
  {
   "cell_type": "code",
   "execution_count": 46,
   "id": "analyzed-corruption",
   "metadata": {},
   "outputs": [
    {
     "name": "stdout",
     "output_type": "stream",
     "text": [
      "xtext object:  Text(0.5, 24.0, 'Angles')\n",
      "ytext object:  Text(24.00000000000002, 0.5, 'Values')\n"
     ]
    }
   ],
   "source": [
    "# if we inspect the xtext and ytext\n",
    "print(\"xtext object: \", xtext)\n",
    "print(\"ytext object: \", ytext)"
   ]
  },
  {
   "cell_type": "markdown",
   "id": "consistent-evanescence",
   "metadata": {},
   "source": [
    "As you can see that set_xlabel and set_ylabel give us the text object which is placed as the labels.\n",
    "\n",
    "we can directly use these object to change the property of the xlabel and ylabel. if we want ot see the all current properties of the xtext or ytext then we can use the \n",
    "`Text.properties()` method to see all the current properties."
   ]
  },
  {
   "cell_type": "code",
   "execution_count": 49,
   "id": "fundamental-lunch",
   "metadata": {},
   "outputs": [
    {
     "data": {
      "text/plain": [
       "{'agg_filter': None,\n",
       " 'alpha': None,\n",
       " 'animated': False,\n",
       " 'bbox_patch': None,\n",
       " 'children': [],\n",
       " 'clip_box': None,\n",
       " 'clip_on': True,\n",
       " 'clip_path': None,\n",
       " 'color': 'black',\n",
       " 'contains': None,\n",
       " 'figure': <Figure size 700x600 with 1 Axes>,\n",
       " 'fontfamily': ['sans-serif'],\n",
       " 'fontname': 'DejaVu Sans',\n",
       " 'fontproperties': <matplotlib.font_manager.FontProperties at 0x27810b446d0>,\n",
       " 'fontsize': 10.0,\n",
       " 'fontstyle': 'normal',\n",
       " 'fontvariant': 'normal',\n",
       " 'fontweight': 'normal',\n",
       " 'gid': None,\n",
       " 'horizontalalignment': 'center',\n",
       " 'in_layout': True,\n",
       " 'label': '',\n",
       " 'path_effects': [],\n",
       " 'picker': None,\n",
       " 'position': (0.5, 24.0),\n",
       " 'prop_tup': (0.5,\n",
       "  24.0,\n",
       "  'Angles',\n",
       "  'black',\n",
       "  'top',\n",
       "  'center',\n",
       "  8148757912991194678,\n",
       "  None,\n",
       "  None,\n",
       "  100,\n",
       "  <weakref at 0x0000027810EDD5E0; to 'RendererAgg' at 0x0000027810BFC9A0>,\n",
       "  1.2),\n",
       " 'rasterized': None,\n",
       " 'rotation': 0.0,\n",
       " 'rotation_mode': None,\n",
       " 'sketch_params': None,\n",
       " 'snap': None,\n",
       " 'stretch': 'normal',\n",
       " 'text': 'Angles',\n",
       " 'transform': <matplotlib.transforms.BlendedAffine2D at 0x27810b449a0>,\n",
       " 'transformed_clip_path_and_affine': (None, None),\n",
       " 'unitless_position': (0.5, 24.0),\n",
       " 'url': None,\n",
       " 'usetex': False,\n",
       " 'verticalalignment': 'top',\n",
       " 'visible': True,\n",
       " 'window_extent': Bbox([[326.6875, 10.0], [373.3125, 24.0]]),\n",
       " 'wrap': False,\n",
       " 'zorder': 3}"
      ]
     },
     "execution_count": 49,
     "metadata": {},
     "output_type": "execute_result"
    }
   ],
   "source": [
    "xtext.properties()"
   ]
  },
  {
   "cell_type": "markdown",
   "id": "young-pepper",
   "metadata": {},
   "source": [
    "### Setting label and title on Multiple Axes"
   ]
  },
  {
   "cell_type": "code",
   "execution_count": 61,
   "id": "recovered-penny",
   "metadata": {},
   "outputs": [
    {
     "data": {
      "image/png": "[encoded data removed]",
      "text/plain": [
       "<Figure size 432x288 with 2 Axes>"
      ]
     },
     "metadata": {
      "needs_background": "light"
     },
     "output_type": "display_data"
    }
   ],
   "source": [
    "# In this we will create two Axes in a single figure and we will \n",
    "# set their properties individually.\n",
    "\n",
    "# Creating a figure.\n",
    "fig = plt.figure()\n",
    "\n",
    "# adding two axes on the same figure.\n",
    "ax1 = fig.add_axes([0,0.7,1,0.5])\n",
    "ax2 = fig.add_axes([0,0,1,0.5])\n",
    "\n",
    "# Now we will add some data in these axes individually\n",
    "\n",
    "# adding a line to ax1\n",
    "t = np.arange(0.0, 1.0, 0.01)\n",
    "s = np.sin(2*np.pi*t)\n",
    "line, = ax1.plot(t, s, color='blue', lw=2)\n",
    "\n",
    "# adding bars in ax2\n",
    "n, bins, patches = ax2.hist(np.random.randn(1000), 50,\n",
    "                            facecolor='yellow', edgecolor='blue')\n",
    "\n",
    "# adding title on both axes.\n",
    "ax1.set_title(\"A Sine Wave\", fontsize=20)\n",
    "ax2.set_title(\"Bars\", fontsize=20)\n",
    "\n",
    "# adding labels on ax1\n",
    "ax1.set_xlabel(\"Angel\")\n",
    "ax1.set_ylabel(\"values\")\n",
    "\n",
    "# adding labels on ax2\n",
    "ax2.set_xlabel(\"Time\")\n",
    "ax2.set_ylabel(\"height\")\n",
    "\n",
    "plt.show()"
   ]
  },
  {
   "cell_type": "markdown",
   "id": "forty-cursor",
   "metadata": {},
   "source": [
    "___"
   ]
  },
  {
   "cell_type": "markdown",
   "id": "average-publicity",
   "metadata": {},
   "source": [
    "### Customizing your objects\n",
    "* Every element in the figure is represented by a Matplotlib `Artist`, and each has an extensive list of properties to configure its appearance.\n",
    "\n",
    "* The figure itself contains a `Rectangle` exactly the size of the figure, which you can use to set the background color and transparency of the figures.\n",
    "\n",
    "* Each Axes bounding box (the standard white box with black edges in the typical Matplotlib plot, has a Rectangle instance that determines the color, transparency, and other properties of the Axes. These instances are stored as member variables `Figure.patch` and `Axes.patch`. Every Matplotlib Artist has the following properties\n",
    "\n",
    "* To get the property we need to ues .get_'property-name' and to set the property use .set_'property-name'.\n",
    "\n",
    "* If you want to set a number of properties at once, you can also use the set method with keyword arguments. for example:\n",
    "```ruby\n",
    "x.set(alpha=0.5*a)\n",
    "```"
   ]
  },
  {
   "cell_type": "markdown",
   "id": "trained-basement",
   "metadata": {},
   "source": [
    "### Getting all properties of an artist\n",
    "if we want to get the all properties of an artist then we can get the property of the artist by using the `matplotlib.artist.getp(artist_name)` or if we are using pyplot as plt then we can get all the properties by using `plt.getp(atrist_name)`."
   ]
  },
  {
   "cell_type": "code",
   "execution_count": 68,
   "id": "regular-european",
   "metadata": {},
   "outputs": [
    {
     "name": "stdout",
     "output_type": "stream",
     "text": [
      "    agg_filter = None\n",
      "    alpha = None\n",
      "    animated = False\n",
      "    axes = [<matplotlib.axes._axes.Axes object at 0x000002781...\n",
      "    children = [<matplotlib.patches.Rectangle object at 0x0000027...\n",
      "    clip_box = None\n",
      "    clip_on = True\n",
      "    clip_path = None\n",
      "    constrained_layout = False\n",
      "    constrained_layout_pads = (0.04167, 0.04167, 0.02, 0.02)\n",
      "    contains = None\n",
      "    default_bbox_extra_artists = [<matplotlib.axes._axes.Axes object at 0x000002781...\n",
      "    dpi = 72.0\n",
      "    edgecolor = (1.0, 1.0, 1.0, 0.0)\n",
      "    facecolor = (1.0, 1.0, 1.0, 0.0)\n",
      "    figheight = 4.0\n",
      "    figure = None\n",
      "    figwidth = 6.0\n",
      "    frameon = True\n",
      "    gid = None\n",
      "    in_layout = True\n",
      "    label = \n",
      "    path_effects = []\n",
      "    picker = None\n",
      "    rasterized = None\n",
      "    size_inches = [6. 4.]\n",
      "    sketch_params = None\n",
      "    snap = None\n",
      "    tight_layout = False\n",
      "    transform = IdentityTransform()\n",
      "    transformed_clip_path_and_affine = (None, None)\n",
      "    url = None\n",
      "    visible = True\n",
      "    window_extent = TransformedBbox(     Bbox(x0=0.0, y0=0.0, x1=6.0, ...\n",
      "    zorder = 0\n"
     ]
    }
   ],
   "source": [
    "# by using pypot getting all properties\n",
    "plt.getp(fig)\n",
    "\n",
    "# Note: if we need properties in (OO) interface then we need to use\n",
    "# matplotlib.artist.getp(artist_name)"
   ]
  },
  {
   "cell_type": "code",
   "execution_count": 78,
   "id": "brazilian-establishment",
   "metadata": {},
   "outputs": [
    {
     "name": "stdout",
     "output_type": "stream",
     "text": [
      "    agg_filter = None\n",
      "    alpha = None\n",
      "    animated = False\n",
      "    axes = [<matplotlib.axes._axes.Axes object at 0x000002781...\n",
      "    children = [<matplotlib.patches.Rectangle object at 0x0000027...\n",
      "    clip_box = None\n",
      "    clip_on = True\n",
      "    clip_path = None\n",
      "    constrained_layout = False\n",
      "    constrained_layout_pads = (0.04167, 0.04167, 0.02, 0.02)\n",
      "    contains = None\n",
      "    default_bbox_extra_artists = [<matplotlib.axes._axes.Axes object at 0x000002781...\n",
      "    dpi = 72.0\n",
      "    edgecolor = (1.0, 1.0, 1.0, 0.0)\n",
      "    facecolor = (1.0, 1.0, 1.0, 0.0)\n",
      "    figheight = 4.0\n",
      "    figure = None\n",
      "    figwidth = 6.0\n",
      "    frameon = True\n",
      "    gid = None\n",
      "    in_layout = True\n",
      "    label = \n",
      "    path_effects = []\n",
      "    picker = None\n",
      "    rasterized = None\n",
      "    size_inches = [6. 4.]\n",
      "    sketch_params = None\n",
      "    snap = None\n",
      "    tight_layout = False\n",
      "    transform = IdentityTransform()\n",
      "    transformed_clip_path_and_affine = (None, None)\n",
      "    url = None\n",
      "    visible = True\n",
      "    window_extent = TransformedBbox(     Bbox(x0=0.0, y0=0.0, x1=6.0, ...\n",
      "    zorder = 0\n"
     ]
    }
   ],
   "source": [
    "from matplotlib import artist as art\n",
    "art.getp(fig)"
   ]
  },
  {
   "cell_type": "markdown",
   "id": "plain-charm",
   "metadata": {},
   "source": [
    "## 1. Object containers\n",
    "Now that we know how to inspect and set the properties of a given object we want to configure, we need to know how to get at that object. As mentioned in the introduction, there are two kinds of objects: primitives and containers. The primitives are usually the things you want to configure (the font of a Text instance, the width of a Line2D) although the containers also have some properties as well -- for example the Axes Artist is a container that contains many of the primitives in your plot, but it also has properties like the xscale to control whether the xaxis is 'linear' or 'log'. In this section we'll review where the various container objects store the Artists that you want to get at."
   ]
  },
  {
   "cell_type": "markdown",
   "id": "blind-intake",
   "metadata": {},
   "source": [
    "### Figure container"
   ]
  },
  {
   "cell_type": "markdown",
   "id": "employed-myanmar",
   "metadata": {},
   "source": [
    "The top level container Artist is the `matplotlib.figure.Figure`, and it contains everything in the figure. The background of the figure is a `Rectangle` which is stored in `Figure.patch`. As you add subplots (add_subplot()) and axes (add_axes()) to the figure these will be appended to the `Figure.axes`. These are also returned by the methods that create them:"
   ]
  },
  {
   "cell_type": "markdown",
   "id": "attempted-coral",
   "metadata": {},
   "source": [
    "```ruby\n",
    "fig = plt.figure()\n",
    "\n",
    "ax1 = fig.add_subplot(211)\n",
    "\n",
    "ax2 = fig.add_axes([0.1, 0.1, 0.7, 0.3])\n",
    "\n",
    "ax1\n",
    "<AxesSubplot:>\n",
    "\n",
    "print(fig.axes)\n",
    "[<AxesSubplot:>, <matplotlib.axes._axes.Axes object at 0x7f0768702be0>]\n",
    "```"
   ]
  },
  {
   "cell_type": "markdown",
   "id": "racial-sperm",
   "metadata": {},
   "source": [
    "### Adding lines on the figure\n",
    "Since figure is a container object can have all the primitive object, so we can make our own custom figure layout by using all the primitives.\n",
    "\n",
    "The figure also has its own images, lines, patches and text attributes, which you can use to add primitives directly. When doing so, the default coordinate system for the Figure will simply be in pixels (which is not usually what you want). If you instead use Figure-level methods to add Artists (e.g., using Figure.text to add text), then the default coordinate system will be \"figure coordinates\" where (0, 0) is the bottom-left of the figure and (1, 1) is the top-right of the figure.\n",
    "\n",
    "As with all Artists, you can control this coordinate system by setting the transform property. You can explicitly use \"figure coordinates\" by setting the Artist transform to fig.transFigure:\n",
    "\n",
    "In this we will add some lines in the figure.\n",
    "Note: pass the values as `(left-x1, right-x2) and (left-y1, right-y2)`"
   ]
  },
  {
   "cell_type": "code",
   "execution_count": 79,
   "id": "eight-electronics",
   "metadata": {},
   "outputs": [],
   "source": [
    "from matplotlib.lines import Line2D"
   ]
  },
  {
   "cell_type": "code",
   "execution_count": 171,
   "id": "false-slovak",
   "metadata": {},
   "outputs": [
    {
     "data": {
      "image/png": "[encoded data removed]",
      "text/plain": [
       "<Figure size 504x360 with 0 Axes>"
      ]
     },
     "metadata": {},
     "output_type": "display_data"
    }
   ],
   "source": [
    "# first of all we need to create a figure \n",
    "fig = plt.figure(figsize=(7, 5), facecolor='white')\n",
    "\n",
    "# adding lines in the figure\n",
    "# creating a L-R diagonale line on the figure\n",
    "# (left-x1, right-x2) and (left-y1, right-y2)  # \n",
    "l1 = Line2D([0,1], [0,1], figure=fig, transform = fig.transFigure)\n",
    "l2 = Line2D([0, 1], [1, 0], transform=fig.transFigure, figure=fig)\n",
    "\n",
    "# transform used to set the coordinate of the line relative to the figure\n",
    "fig.lines.extend([l1, l2])\n",
    "\n",
    "# adding all four border in red color\n",
    "top =  Line2D([1,0],[1,1], figure=fig, transform = fig.transFigure, color='red')\n",
    "bottom = Line2D([0,1],[0,0], figure=fig, transform = fig.transFigure, color='red')\n",
    "left = Line2D([0, 0], [1, 0], transform=fig.transFigure, figure=fig, color='red')\n",
    "right = Line2D([1, 1], [0, 1], transform=fig.transFigure, figure=fig, color='red')\n",
    "fig.lines.extend([top, left, right, bottom])\n",
    "plt.show()"
   ]
  },
  {
   "cell_type": "markdown",
   "id": "mental-melbourne",
   "metadata": {},
   "source": [
    "___"
   ]
  },
  {
   "cell_type": "markdown",
   "id": "effective-tract",
   "metadata": {},
   "source": [
    "## 2. Axes Container\n",
    "\n",
    "The matplotlib.axes.Axes is the center of the Matplotlib universe -- it contains the vast majority of all the Artists used in a figure with many helper methods to create and add these Artists to itself, as well as helper methods to access and customize the Artists it contains. Like the Figure, it contains a Patch patch which is a Rectangle for Cartesian coordinates and a Circle for polar coordinates.\n",
    "\n",
    "This patch determines the shape, background and border of the plotting region.\n",
    "\n",
    "**Axes Patch**"
   ]
  },
  {
   "cell_type": "code",
   "execution_count": 172,
   "id": "lightweight-motel",
   "metadata": {},
   "outputs": [
    {
     "data": {
      "image/png": "[encoded data removed]",
      "text/plain": [
       "<Figure size 432x288 with 1 Axes>"
      ]
     },
     "metadata": {
      "needs_background": "light"
     },
     "output_type": "display_data"
    }
   ],
   "source": [
    "# creating a figure\n",
    "fig = plt.figure()\n",
    "\n",
    "# adding a subplot which will give use an axes instance\n",
    "ax = fig.add_subplot()\n",
    "\n",
    "rect = ax.patch   # Rectangle instance\n",
    "\n",
    "# Now we will change the properties of the rect\n",
    "rect.set_facecolor('green')\n",
    "plt.show()"
   ]
  },
  {
   "cell_type": "markdown",
   "id": "after-lease",
   "metadata": {},
   "source": [
    "### adding lines in the axes"
   ]
  },
  {
   "cell_type": "code",
   "execution_count": 173,
   "id": "personal-apache",
   "metadata": {},
   "outputs": [
    {
     "data": {
      "image/png": "[encoded data removed]",
      "text/plain": [
       "<Figure size 432x288 with 1 Axes>"
      ]
     },
     "metadata": {
      "needs_background": "light"
     },
     "output_type": "display_data"
    }
   ],
   "source": [
    "# creating a figure\n",
    "fig = plt.figure()\n",
    "\n",
    "# adding a subplot which will give use an axes instance\n",
    "ax = fig.add_subplot()\n",
    "\n",
    "rect = ax.patch   # Rectangle instance\n",
    "\n",
    "# Note: all the Rectange instance will be found in ax.patch\n",
    "\n",
    "# Now we will change the properties of the rect\n",
    "rect.set_facecolor('green')\n",
    "\n",
    "t = np.arange(0.0, 1.0, 0.01)\n",
    "s = np.sin(2*np.pi*t)\n",
    "line, = ax.plot(t, s, color='white', lw=2) # a sine wave in white color\n",
    "# all the lines added to the ax will be appedned in the \n",
    "# axes.lines\n",
    "\n",
    "\n",
    "\n",
    "plt.show()"
   ]
  },
  {
   "cell_type": "markdown",
   "id": "linear-injury",
   "metadata": {},
   "source": [
    "**`Note:`**\n",
    "\n",
    "You should not add objects directly to the Axes.lines or Axes.patches lists unless you know exactly what you are doing, because the Axes needs to do a few things when it creates and adds an object. It sets the figure and axes property of the Artist, as well as the default Axes transformation (unless a transformation is set). It also inspects the data contained in the Artist to update the data structures controlling auto-scaling, so that the view limits can be adjusted to contain the plotted data. You can, nonetheless, create objects yourself and add them directly to the Axes using helper methods like add_line() and add_patch(). "
   ]
  },
  {
   "cell_type": "markdown",
   "id": "christian-treasure",
   "metadata": {},
   "source": [
    "## 3. Axis Containers: XAxis & YAxis\n",
    "In addition to all of these Artists, the Axes contains two important Artist containers: the XAxis and YAxis, which handle the drawing of the ticks and labels. These are stored as instance variables xaxis and yaxis."
   ]
  },
  {
   "cell_type": "markdown",
   "id": "three-nicaragua",
   "metadata": {},
   "source": [
    "The matplotlib.axis.Axis instances handle the drawing of the tick lines, the grid lines, the tick labels and the axis label. You can configure the left and right ticks separately for the y-axis, and the upper and lower ticks separately for the x-axis."
   ]
  },
  {
   "cell_type": "markdown",
   "id": "italic-pittsburgh",
   "metadata": {},
   "source": [
    "* The Axis also stores the data and view intervals used in auto-scaling, panning and zooming, as well as the Locator and Formatter instances which control where the ticks are placed and how they are represented as strings.\n",
    "\n",
    "* Each Axis object contains a label attribute (this is what pyplot modifies in calls to xlabel and ylabel) as well as a list of major and minor ticks. The ticks are axis.XTick and axis.YTick instances, which contain the actual line and text primitives that render the ticks and ticklabels. Because the ticks are dynamically created as needed (e.g., when panning and zooming), you should access the lists of major and minor ticks through their accessor methods axis.Axis.get_major_ticks and axis.Axis.get_minor_ticks. \n",
    "\n",
    "* Although the ticks contain all the primitives and will be covered below, Axis instances have accessor methods that return the tick lines, tick labels, tick locations etc."
   ]
  },
  {
   "cell_type": "code",
   "execution_count": 179,
   "id": "greater-enhancement",
   "metadata": {},
   "outputs": [
    {
     "name": "stdout",
     "output_type": "stream",
     "text": [
      "ticklocs:  [0.  0.2 0.4 0.6 0.8 1. ]\n"
     ]
    },
    {
     "data": {
      "image/png": "[encoded data removed]",
      "text/plain": [
       "<Figure size 432x288 with 1 Axes>"
      ]
     },
     "metadata": {
      "needs_background": "light"
     },
     "output_type": "display_data"
    }
   ],
   "source": [
    "fig, ax = plt.subplots()\n",
    "axis = ax.xaxis\n",
    "print(\"ticklocs: \", axis.get_ticklocs())"
   ]
  },
  {
   "cell_type": "code",
   "execution_count": 178,
   "id": "visible-minister",
   "metadata": {},
   "outputs": [
    {
     "data": {
      "text/plain": [
       "[Text(0.0, 0, '0.0'),\n",
       " Text(0.2, 0, '0.2'),\n",
       " Text(0.4, 0, '0.4'),\n",
       " Text(0.6000000000000001, 0, '0.6'),\n",
       " Text(0.8, 0, '0.8'),\n",
       " Text(1.0, 0, '1.0')]"
      ]
     },
     "execution_count": 178,
     "metadata": {},
     "output_type": "execute_result"
    }
   ],
   "source": [
    "axis.get_ticklabels()"
   ]
  },
  {
   "cell_type": "code",
   "execution_count": 183,
   "id": "impossible-reverse",
   "metadata": {},
   "outputs": [
    {
     "data": {
      "text/plain": [
       "[<matplotlib.lines.Line2D at 0x27812199ac0>,\n",
       " <matplotlib.lines.Line2D at 0x2780e21eeb0>,\n",
       " <matplotlib.lines.Line2D at 0x2780e7be100>,\n",
       " <matplotlib.lines.Line2D at 0x2780e21e970>,\n",
       " <matplotlib.lines.Line2D at 0x27812199280>,\n",
       " <matplotlib.lines.Line2D at 0x278121992e0>,\n",
       " <matplotlib.lines.Line2D at 0x27811f677f0>,\n",
       " <matplotlib.lines.Line2D at 0x27811f670a0>,\n",
       " <matplotlib.lines.Line2D at 0x2780e21e2e0>,\n",
       " <matplotlib.lines.Line2D at 0x2780e229070>,\n",
       " <matplotlib.lines.Line2D at 0x2780e229310>,\n",
       " <matplotlib.lines.Line2D at 0x2780e229820>]"
      ]
     },
     "execution_count": 183,
     "metadata": {},
     "output_type": "execute_result"
    }
   ],
   "source": [
    "list(axis.get_ticklines())"
   ]
  },
  {
   "cell_type": "code",
   "execution_count": null,
   "id": "capable-olympus",
   "metadata": {},
   "outputs": [],
   "source": []
  },
  {
   "cell_type": "code",
   "execution_count": null,
   "id": "described-message",
   "metadata": {},
   "outputs": [],
   "source": []
  },
  {
   "cell_type": "markdown",
   "id": "parental-following",
   "metadata": {},
   "source": [
    "<table border=\"1\" class=\"docutils align-default\">\n",
    "<colgroup>\n",
    "<col width=\"39%\">\n",
    "<col width=\"61%\">\n",
    "</colgroup>\n",
    "<thead valign=\"bottom\">\n",
    "<tr class=\"row-odd\"><th class=\"head\">Axis accessor method</th>\n",
    "<th class=\"head\">Description</th>\n",
    "</tr>\n",
    "</thead>\n",
    "<tbody valign=\"top\">\n",
    "<tr class=\"row-even\"><td><a class=\"reference internal\" href=\"../../api/_as_gen/matplotlib.axis.Axis.get_scale.html#matplotlib.axis.Axis.get_scale\" title=\"matplotlib.axis.Axis.get_scale\"><code class=\"xref py py-obj docutils literal notranslate\"><span class=\"pre\">get_scale</span></code></a></td>\n",
    "<td>The scale of the Axis, e.g., 'log' or 'linear'</td>\n",
    "</tr>\n",
    "<tr class=\"row-odd\"><td><a class=\"reference internal\" href=\"../../api/_as_gen/matplotlib.axis.Axis.get_view_interval.html#matplotlib.axis.Axis.get_view_interval\" title=\"matplotlib.axis.Axis.get_view_interval\"><code class=\"xref py py-obj docutils literal notranslate\"><span class=\"pre\">get_view_interval</span></code></a></td>\n",
    "<td>The interval instance of the Axis view limits</td>\n",
    "</tr>\n",
    "<tr class=\"row-even\"><td><a class=\"reference internal\" href=\"../../api/_as_gen/matplotlib.axis.Axis.get_data_interval.html#matplotlib.axis.Axis.get_data_interval\" title=\"matplotlib.axis.Axis.get_data_interval\"><code class=\"xref py py-obj docutils literal notranslate\"><span class=\"pre\">get_data_interval</span></code></a></td>\n",
    "<td>The interval instance of the Axis data limits</td>\n",
    "</tr>\n",
    "<tr class=\"row-odd\"><td><a class=\"reference internal\" href=\"../../api/_as_gen/matplotlib.axis.Axis.get_gridlines.html#matplotlib.axis.Axis.get_gridlines\" title=\"matplotlib.axis.Axis.get_gridlines\"><code class=\"xref py py-obj docutils literal notranslate\"><span class=\"pre\">get_gridlines</span></code></a></td>\n",
    "<td>A list of grid lines for the Axis</td>\n",
    "</tr>\n",
    "<tr class=\"row-even\"><td><a class=\"reference internal\" href=\"../../api/_as_gen/matplotlib.axis.Axis.get_label.html#matplotlib.axis.Axis.get_label\" title=\"matplotlib.axis.Axis.get_label\"><code class=\"xref py py-obj docutils literal notranslate\"><span class=\"pre\">get_label</span></code></a></td>\n",
    "<td>The Axis label - a <a class=\"reference internal\" href=\"../../api/text_api.html#matplotlib.text.Text\" title=\"matplotlib.text.Text\"><code class=\"xref py py-obj docutils literal notranslate\"><span class=\"pre\">Text</span></code></a> instance</td>\n",
    "</tr>\n",
    "<tr class=\"row-odd\"><td><a class=\"reference internal\" href=\"../../api/_as_gen/matplotlib.axis.Axis.get_offset_text.html#matplotlib.axis.Axis.get_offset_text\" title=\"matplotlib.axis.Axis.get_offset_text\"><code class=\"xref py py-obj docutils literal notranslate\"><span class=\"pre\">get_offset_text</span></code></a></td>\n",
    "<td>The Axis offset text - a <a class=\"reference internal\" href=\"../../api/text_api.html#matplotlib.text.Text\" title=\"matplotlib.text.Text\"><code class=\"xref py py-obj docutils literal notranslate\"><span class=\"pre\">Text</span></code></a> instance</td>\n",
    "</tr>\n",
    "<tr class=\"row-even\"><td><a class=\"reference internal\" href=\"../../api/_as_gen/matplotlib.axis.Axis.get_ticklabels.html#matplotlib.axis.Axis.get_ticklabels\" title=\"matplotlib.axis.Axis.get_ticklabels\"><code class=\"xref py py-obj docutils literal notranslate\"><span class=\"pre\">get_ticklabels</span></code></a></td>\n",
    "<td>A list of <a class=\"reference internal\" href=\"../../api/text_api.html#matplotlib.text.Text\" title=\"matplotlib.text.Text\"><code class=\"xref py py-obj docutils literal notranslate\"><span class=\"pre\">Text</span></code></a> instances -\n",
    "keyword minor=True|False</td>\n",
    "</tr>\n",
    "<tr class=\"row-odd\"><td><a class=\"reference internal\" href=\"../../api/_as_gen/matplotlib.axis.Axis.get_ticklines.html#matplotlib.axis.Axis.get_ticklines\" title=\"matplotlib.axis.Axis.get_ticklines\"><code class=\"xref py py-obj docutils literal notranslate\"><span class=\"pre\">get_ticklines</span></code></a></td>\n",
    "<td>A list of <a class=\"reference internal\" href=\"../../api/_as_gen/matplotlib.lines.Line2D.html#matplotlib.lines.Line2D\" title=\"matplotlib.lines.Line2D\"><code class=\"xref py py-obj docutils literal notranslate\"><span class=\"pre\">Line2D</span></code></a> instances -\n",
    "keyword minor=True|False</td>\n",
    "</tr>\n",
    "<tr class=\"row-even\"><td><a class=\"reference internal\" href=\"../../api/_as_gen/matplotlib.axis.Axis.get_ticklocs.html#matplotlib.axis.Axis.get_ticklocs\" title=\"matplotlib.axis.Axis.get_ticklocs\"><code class=\"xref py py-obj docutils literal notranslate\"><span class=\"pre\">get_ticklocs</span></code></a></td>\n",
    "<td>A list of Tick locations -\n",
    "keyword minor=True|False</td>\n",
    "</tr>\n",
    "<tr class=\"row-odd\"><td><a class=\"reference internal\" href=\"../../api/_as_gen/matplotlib.axis.Axis.get_major_locator.html#matplotlib.axis.Axis.get_major_locator\" title=\"matplotlib.axis.Axis.get_major_locator\"><code class=\"xref py py-obj docutils literal notranslate\"><span class=\"pre\">get_major_locator</span></code></a></td>\n",
    "<td>The <a class=\"reference internal\" href=\"../../api/ticker_api.html#matplotlib.ticker.Locator\" title=\"matplotlib.ticker.Locator\"><code class=\"xref py py-obj docutils literal notranslate\"><span class=\"pre\">ticker.Locator</span></code></a> instance for major ticks</td>\n",
    "</tr>\n",
    "<tr class=\"row-even\"><td><a class=\"reference internal\" href=\"../../api/_as_gen/matplotlib.axis.Axis.get_major_formatter.html#matplotlib.axis.Axis.get_major_formatter\" title=\"matplotlib.axis.Axis.get_major_formatter\"><code class=\"xref py py-obj docutils literal notranslate\"><span class=\"pre\">get_major_formatter</span></code></a></td>\n",
    "<td>The <a class=\"reference internal\" href=\"../../api/ticker_api.html#matplotlib.ticker.Formatter\" title=\"matplotlib.ticker.Formatter\"><code class=\"xref py py-obj docutils literal notranslate\"><span class=\"pre\">ticker.Formatter</span></code></a> instance for major\n",
    "ticks</td>\n",
    "</tr>\n",
    "<tr class=\"row-odd\"><td><a class=\"reference internal\" href=\"../../api/_as_gen/matplotlib.axis.Axis.get_minor_locator.html#matplotlib.axis.Axis.get_minor_locator\" title=\"matplotlib.axis.Axis.get_minor_locator\"><code class=\"xref py py-obj docutils literal notranslate\"><span class=\"pre\">get_minor_locator</span></code></a></td>\n",
    "<td>The <a class=\"reference internal\" href=\"../../api/ticker_api.html#matplotlib.ticker.Locator\" title=\"matplotlib.ticker.Locator\"><code class=\"xref py py-obj docutils literal notranslate\"><span class=\"pre\">ticker.Locator</span></code></a> instance for minor ticks</td>\n",
    "</tr>\n",
    "<tr class=\"row-even\"><td><a class=\"reference internal\" href=\"../../api/_as_gen/matplotlib.axis.Axis.get_minor_formatter.html#matplotlib.axis.Axis.get_minor_formatter\" title=\"matplotlib.axis.Axis.get_minor_formatter\"><code class=\"xref py py-obj docutils literal notranslate\"><span class=\"pre\">get_minor_formatter</span></code></a></td>\n",
    "<td>The <a class=\"reference internal\" href=\"../../api/ticker_api.html#matplotlib.ticker.Formatter\" title=\"matplotlib.ticker.Formatter\"><code class=\"xref py py-obj docutils literal notranslate\"><span class=\"pre\">ticker.Formatter</span></code></a> instance for minor\n",
    "ticks</td>\n",
    "</tr>\n",
    "<tr class=\"row-odd\"><td><a class=\"reference internal\" href=\"../../api/_as_gen/matplotlib.axis.Axis.get_major_ticks.html#matplotlib.axis.Axis.get_major_ticks\" title=\"matplotlib.axis.Axis.get_major_ticks\"><code class=\"xref py py-obj docutils literal notranslate\"><span class=\"pre\">get_major_ticks</span></code></a></td>\n",
    "<td>A list of <a class=\"reference internal\" href=\"../../api/axis_api.html#matplotlib.axis.Tick\" title=\"matplotlib.axis.Tick\"><code class=\"xref py py-obj docutils literal notranslate\"><span class=\"pre\">Tick</span></code></a> instances for major ticks</td>\n",
    "</tr>\n",
    "<tr class=\"row-even\"><td><a class=\"reference internal\" href=\"../../api/_as_gen/matplotlib.axis.Axis.get_minor_ticks.html#matplotlib.axis.Axis.get_minor_ticks\" title=\"matplotlib.axis.Axis.get_minor_ticks\"><code class=\"xref py py-obj docutils literal notranslate\"><span class=\"pre\">get_minor_ticks</span></code></a></td>\n",
    "<td>A list of <a class=\"reference internal\" href=\"../../api/axis_api.html#matplotlib.axis.Tick\" title=\"matplotlib.axis.Tick\"><code class=\"xref py py-obj docutils literal notranslate\"><span class=\"pre\">Tick</span></code></a> instances for minor ticks</td>\n",
    "</tr>\n",
    "<tr class=\"row-odd\"><td><a class=\"reference internal\" href=\"../../api/_as_gen/matplotlib.axis.Axis.grid.html#matplotlib.axis.Axis.grid\" title=\"matplotlib.axis.Axis.grid\"><code class=\"xref py py-obj docutils literal notranslate\"><span class=\"pre\">grid</span></code></a></td>\n",
    "<td>Turn the grid on or off for the major or minor\n",
    "ticks</td>\n",
    "</tr>\n",
    "</tbody>\n",
    "</table>"
   ]
  },
  {
   "cell_type": "code",
   "execution_count": 185,
   "id": "radio-cherry",
   "metadata": {},
   "outputs": [
    {
     "data": {
      "image/png": "[encoded data removed]",
      "text/plain": [
       "<Figure size 700x500 with 1 Axes>"
      ]
     },
     "metadata": {},
     "output_type": "display_data"
    }
   ],
   "source": [
    "# plt.figure creates a matplotlib.figure.Figure instance\n",
    "fig = plt.figure(figsize=(7, 5), dpi=100)\n",
    "rect = fig.patch  # a rectangle instance\n",
    "rect.set_facecolor('lightgoldenrodyellow')\n",
    "\n",
    "ax1 = fig.add_axes([0.1, 0.3, 0.4, 0.4])\n",
    "rect = ax1.patch\n",
    "rect.set_facecolor('lightslategray')\n",
    "\n",
    "\n",
    "for label in ax1.xaxis.get_ticklabels():\n",
    "    # label is a Text instance\n",
    "    label.set_color('red')\n",
    "    label.set_rotation(45)\n",
    "    label.set_fontsize(16)\n",
    "\n",
    "for line in ax1.yaxis.get_ticklines():\n",
    "    # line is a Line2D instance\n",
    "    line.set_color('green')\n",
    "    line.set_markersize(25)\n",
    "    line.set_markeredgewidth(3)\n",
    "\n",
    "plt.show()"
   ]
  },
  {
   "cell_type": "markdown",
   "id": "fixed-color",
   "metadata": {},
   "source": [
    "## 4. Tick containers \n",
    "The `matplotlib.axis.Tick` is the final container object in our descent from the Figure to the Axes to the Axis to the Tick. The Tick contains the tick and grid line instances, as well as the label instances for the upper and lower ticks. Each of these is accessible directly as an attribute of the Tick."
   ]
  },
  {
   "cell_type": "code",
   "execution_count": 233,
   "id": "frequent-discretion",
   "metadata": {},
   "outputs": [
    {
     "name": "stdout",
     "output_type": "stream",
     "text": [
      "None\n",
      "None\n",
      "None\n",
      "None\n",
      "None\n",
      "None\n",
      "None\n",
      "None\n",
      "None\n"
     ]
    },
    {
     "data": {
      "image/png": "[encoded data removed]",
      "text/plain": [
       "<Figure size 432x288 with 1 Axes>"
      ]
     },
     "metadata": {
      "needs_background": "light"
     },
     "output_type": "display_data"
    }
   ],
   "source": [
    "import numpy as np\n",
    "import matplotlib.pyplot as plt\n",
    "\n",
    "# Fixing random state for reproducibility\n",
    "np.random.seed(19680801)\n",
    "\n",
    "fig, ax = plt.subplots()\n",
    "ax.plot(100*np.random.rand(20))\n",
    "\n",
    "# Use automatic StrMethodFormatter\n",
    "ax.yaxis.set_major_formatter('${x:1.2f}')\n",
    "ax.yaxis.set_ticks_position('both')\n",
    "ax.yaxis.set_ticks([i/10 for i in range(10)], minor=True, )\n",
    "# ax.yaxis.set_tick_params(labelright=True)\n",
    "yTickLabels = ax.yaxis.set_ticklabels([str(i) for i in range(10)], minor=True)\n",
    "for label in yTickLabels:\n",
    "    print(label.set_position((1, label.get_position()[1])))\n",
    "yTicks = ax.yaxis.get_minor_ticks()\n",
    "# setting False to labelleft will disable the ticklabel on the left side\n",
    "# setting True to labelright will show the ticklabel on the left side\n",
    "\n",
    "plt.show()"
   ]
  },
  {
   "cell_type": "code",
   "execution_count": 218,
   "id": "higher-sender",
   "metadata": {},
   "outputs": [
    {
     "name": "stdout",
     "output_type": "stream",
     "text": [
      "0.1\n",
      "0.2\n",
      "0.3\n",
      "0.4\n",
      "0.5\n",
      "0.6\n",
      "0.7\n",
      "0.8\n",
      "0.9\n"
     ]
    }
   ],
   "source": [
    "for tick in yTicks:\n",
    "    print(tick.get_loc(), tick.)\n"
   ]
  },
  {
   "cell_type": "code",
   "execution_count": 231,
   "id": "oriental-binary",
   "metadata": {},
   "outputs": [
    {
     "name": "stdout",
     "output_type": "stream",
     "text": [
      "None\n",
      "None\n",
      "None\n",
      "None\n",
      "None\n",
      "None\n",
      "None\n",
      "None\n",
      "None\n"
     ]
    }
   ],
   "source": [
    "for label in yTickLabels:\n",
    "    print(label.set_position((1, label.get_position()[1])))"
   ]
  },
  {
   "cell_type": "code",
   "execution_count": 232,
   "id": "viral-audit",
   "metadata": {},
   "outputs": [
    {
     "data": {
      "text/plain": [
       "[Text(1, 0.1, '1'),\n",
       " Text(1, 0.2, '2'),\n",
       " Text(1, 0.3, '3'),\n",
       " Text(1, 0.4, '4'),\n",
       " Text(1, 0.5, '5'),\n",
       " Text(1, 0.6, '6'),\n",
       " Text(1, 0.7, '7'),\n",
       " Text(1, 0.8, '8'),\n",
       " Text(1, 0.9, '9')]"
      ]
     },
     "execution_count": 232,
     "metadata": {},
     "output_type": "execute_result"
    }
   ],
   "source": [
    "yTickLabels"
   ]
  },
  {
   "cell_type": "code",
   "execution_count": null,
   "id": "functioning-gospel",
   "metadata": {},
   "outputs": [],
   "source": []
  }
 ],
 "metadata": {
  "kernelspec": {
   "display_name": "Python 3",
   "language": "python",
   "name": "python3"
  },
  "language_info": {
   "codemirror_mode": {
    "name": "ipython",
    "version": 3
   },
   "file_extension": ".py",
   "mimetype": "text/x-python",
   "name": "python",
   "nbconvert_exporter": "python",
   "pygments_lexer": "ipython3",
   "version": "3.8.3"
  }
 },
 "nbformat": 4,
 "nbformat_minor": 5
}
