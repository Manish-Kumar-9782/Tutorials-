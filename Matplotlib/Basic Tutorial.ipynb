{
 "cells": [
  {
   "cell_type": "markdown",
   "id": "regional-peace",
   "metadata": {},
   "source": [
    "# Annotation Style"
   ]
  },
  {
   "cell_type": "code",
   "execution_count": 1,
   "id": "monthly-promise",
   "metadata": {},
   "outputs": [],
   "source": [
    "# importing all the required modules\n",
    "import matplotlib.patches as mpatches\n",
    "import matplotlib.pyplot as plt\n"
   ]
  },
  {
   "cell_type": "code",
   "execution_count": 2,
   "id": "convertible-banks",
   "metadata": {},
   "outputs": [],
   "source": [
    "def to_texstring(s):\n",
    "    s = s.replace(\"<\", r\"$<$\")\n",
    "    s = s.replace(\">\", r\"$>$\")\n",
    "    s = s.replace(\"|\", r\"$|$\")\n",
    "    return s"
   ]
  },
  {
   "cell_type": "code",
   "execution_count": 3,
   "id": "prostate-panic",
   "metadata": {},
   "outputs": [],
   "source": [
    "styles = mpatches.ArrowStyle.get_styles()"
   ]
  },
  {
   "cell_type": "code",
   "execution_count": 4,
   "id": "african-mercy",
   "metadata": {},
   "outputs": [],
   "source": [
    "sta = styles[']-']"
   ]
  },
  {
   "cell_type": "code",
   "execution_count": null,
   "id": "proved-phase",
   "metadata": {},
   "outputs": [],
   "source": []
  },
  {
   "cell_type": "code",
   "execution_count": 5,
   "id": "related-burke",
   "metadata": {},
   "outputs": [
    {
     "data": {
      "text/plain": [
       "<matplotlib.collections.LineCollection at 0x23bff887430>"
      ]
     },
     "execution_count": 5,
     "metadata": {},
     "output_type": "execute_result"
    },
    {
     "data": {
      "image/png": "[encoded data removed]",
      "text/plain": [
       "<Figure size 700x500 with 1 Axes>"
      ]
     },
     "metadata": {
      "needs_background": "light"
     },
     "output_type": "display_data"
    }
   ],
   "source": [
    "# Now we will make a figure \n",
    "fig, axs = plt.subplots(figsize=(7, 5,), dpi=100)\n",
    "p = mpatches.Circle((10, 20), 1)\n",
    "q = mpatches.Circle((10, 50), 1)\n",
    "\n",
    "axs.add_patch(p)\n",
    "axs.add_patch(q)\n",
    "\n",
    "axs.set_xlim(0,100)\n",
    "axs.set_ylim(0,100)\n",
    "arrow = dict(arrowstyle='<|-', shrinkA=1, shrinkB=1, fc='k', ec='k',\n",
    "            connectionstyle='arc, rad=-0.05', patchB=q, relpos=(0.5,0.5)\n",
    "            )\n",
    "axs.annotate(None, (30,50), (12,50), \n",
    "             ha='right', va='center',\n",
    "            size=30,  arrowprops=dict(arrowstyle='<|-', shrinkA=1, shrinkB=1, fc='k', ec='k',\n",
    "            connectionstyle='arc, rad=-0.05', patchB=q, relpos=(0.5,0.5)\n",
    "            ))\n",
    "axs.annotate(None, (30,20), (12,20), \n",
    "             ha='right', va='center',\n",
    "            size=30,  arrowprops=dict(arrowstyle='<|-', shrinkA=1, shrinkB=1, fc='k', ec='k',\n",
    "            connectionstyle='arc, rad=-0.05', patchB=q, relpos=(0.5,0.5)\n",
    "            ))\n",
    "\n",
    "\n",
    "axs.vlines(29.6, ymin=20, ymax=50, color='k')\n",
    "axs.hlines(35, xmin=30, xmax=40, color='k')"
   ]
  },
  {
   "cell_type": "code",
   "execution_count": 7,
   "id": "parallel-intent",
   "metadata": {},
   "outputs": [
    {
     "data": {
      "text/plain": [
       "\u001b[1;31mSignature:\u001b[0m \u001b[0maxs\u001b[0m\u001b[1;33m.\u001b[0m\u001b[0mannotate\u001b[0m\u001b[1;33m(\u001b[0m\u001b[0mtext\u001b[0m\u001b[1;33m,\u001b[0m \u001b[0mxy\u001b[0m\u001b[1;33m,\u001b[0m \u001b[1;33m*\u001b[0m\u001b[0margs\u001b[0m\u001b[1;33m,\u001b[0m \u001b[1;33m**\u001b[0m\u001b[0mkwargs\u001b[0m\u001b[1;33m)\u001b[0m\u001b[1;33m\u001b[0m\u001b[1;33m\u001b[0m\u001b[0m\n",
       "\u001b[1;31mDocstring:\u001b[0m\n",
       "Annotate the point *xy* with text *text*.\n",
       "\n",
       "In the simplest form, the text is placed at *xy*.\n",
       "\n",
       "Optionally, the text can be displayed in another position *xytext*.\n",
       "An arrow pointing from the text to the annotated point *xy* can then\n",
       "be added by defining *arrowprops*.\n",
       "\n",
       "Parameters\n",
       "----------\n",
       "text : str\n",
       "    The text of the annotation.  *s* is a deprecated synonym for this\n",
       "    parameter.\n",
       "\n",
       "xy : (float, float)\n",
       "    The point *(x, y)* to annotate. The coordinate system is determined\n",
       "    by *xycoords*.\n",
       "\n",
       "xytext : (float, float), default: *xy*\n",
       "    The position *(x, y)* to place the text at. The coordinate system\n",
       "    is determined by *textcoords*.\n",
       "\n",
       "xycoords : str or `.Artist` or `.Transform` or callable or (float, float), default: 'data'\n",
       "\n",
       "    The coordinate system that *xy* is given in. The following types\n",
       "    of values are supported:\n",
       "\n",
       "    - One of the following strings:\n",
       "\n",
       "      =================   =============================================\n",
       "      Value               Description\n",
       "      =================   =============================================\n",
       "      'figure points'     Points from the lower left of the figure\n",
       "      'figure pixels'     Pixels from the lower left of the figure\n",
       "      'figure fraction'   Fraction of figure from lower left\n",
       "      'axes points'       Points from lower left corner of axes\n",
       "      'axes pixels'       Pixels from lower left corner of axes\n",
       "      'axes fraction'     Fraction of axes from lower left\n",
       "      'data'              Use the coordinate system of the object being\n",
       "                          annotated (default)\n",
       "      'polar'             *(theta, r)* if not native 'data' coordinates\n",
       "      =================   =============================================\n",
       "\n",
       "    - An `.Artist`: *xy* is interpreted as a fraction of the artist's\n",
       "      `~matplotlib.transforms.Bbox`. E.g. *(0, 0)* would be the lower\n",
       "      left corner of the bounding box and *(0.5, 1)* would be the\n",
       "      center top of the bounding box.\n",
       "\n",
       "    - A `.Transform` to transform *xy* to screen coordinates.\n",
       "\n",
       "    - A function with one of the following signatures::\n",
       "\n",
       "        def transform(renderer) -> Bbox\n",
       "        def transform(renderer) -> Transform\n",
       "\n",
       "      where *renderer* is a `.RendererBase` subclass.\n",
       "\n",
       "      The result of the function is interpreted like the `.Artist` and\n",
       "      `.Transform` cases above.\n",
       "\n",
       "    - A tuple *(xcoords, ycoords)* specifying separate coordinate\n",
       "      systems for *x* and *y*. *xcoords* and *ycoords* must each be\n",
       "      of one of the above described types.\n",
       "\n",
       "    See :ref:`plotting-guide-annotation` for more details.\n",
       "\n",
       "textcoords : str or `.Artist` or `.Transform` or callable or (float, float), default: value of *xycoords*\n",
       "    The coordinate system that *xytext* is given in.\n",
       "\n",
       "    All *xycoords* values are valid as well as the following\n",
       "    strings:\n",
       "\n",
       "    =================   =========================================\n",
       "    Value               Description\n",
       "    =================   =========================================\n",
       "    'offset points'     Offset (in points) from the *xy* value\n",
       "    'offset pixels'     Offset (in pixels) from the *xy* value\n",
       "    =================   =========================================\n",
       "\n",
       "arrowprops : dict, optional\n",
       "    The properties used to draw a `.FancyArrowPatch` arrow between the\n",
       "    positions *xy* and *xytext*.\n",
       "\n",
       "    If *arrowprops* does not contain the key 'arrowstyle' the\n",
       "    allowed keys are:\n",
       "\n",
       "    ==========   ======================================================\n",
       "    Key          Description\n",
       "    ==========   ======================================================\n",
       "    width        The width of the arrow in points\n",
       "    headwidth    The width of the base of the arrow head in points\n",
       "    headlength   The length of the arrow head in points\n",
       "    shrink       Fraction of total length to shrink from both ends\n",
       "    ?            Any key to :class:`matplotlib.patches.FancyArrowPatch`\n",
       "    ==========   ======================================================\n",
       "\n",
       "    If *arrowprops* contains the key 'arrowstyle' the\n",
       "    above keys are forbidden.  The allowed values of\n",
       "    ``'arrowstyle'`` are:\n",
       "\n",
       "    ============   =============================================\n",
       "    Name           Attrs\n",
       "    ============   =============================================\n",
       "    ``'-'``        None\n",
       "    ``'->'``       head_length=0.4,head_width=0.2\n",
       "    ``'-['``       widthB=1.0,lengthB=0.2,angleB=None\n",
       "    ``'|-|'``      widthA=1.0,widthB=1.0\n",
       "    ``'-|>'``      head_length=0.4,head_width=0.2\n",
       "    ``'<-'``       head_length=0.4,head_width=0.2\n",
       "    ``'<->'``      head_length=0.4,head_width=0.2\n",
       "    ``'<|-'``      head_length=0.4,head_width=0.2\n",
       "    ``'<|-|>'``    head_length=0.4,head_width=0.2\n",
       "    ``'fancy'``    head_length=0.4,head_width=0.4,tail_width=0.4\n",
       "    ``'simple'``   head_length=0.5,head_width=0.5,tail_width=0.2\n",
       "    ``'wedge'``    tail_width=0.3,shrink_factor=0.5\n",
       "    ============   =============================================\n",
       "\n",
       "    Valid keys for `~matplotlib.patches.FancyArrowPatch` are:\n",
       "\n",
       "    ===============  ==================================================\n",
       "    Key              Description\n",
       "    ===============  ==================================================\n",
       "    arrowstyle       the arrow style\n",
       "    connectionstyle  the connection style\n",
       "    relpos           default is (0.5, 0.5)\n",
       "    patchA           default is bounding box of the text\n",
       "    patchB           default is None\n",
       "    shrinkA          default is 2 points\n",
       "    shrinkB          default is 2 points\n",
       "    mutation_scale   default is text size (in points)\n",
       "    mutation_aspect  default is 1.\n",
       "    ?                any key for :class:`matplotlib.patches.PathPatch`\n",
       "    ===============  ==================================================\n",
       "\n",
       "    Defaults to None, i.e. no arrow is drawn.\n",
       "\n",
       "annotation_clip : bool or None, default: None\n",
       "    Whether to draw the annotation when the annotation point *xy* is\n",
       "    outside the axes area.\n",
       "\n",
       "    - If *True*, the annotation will only be drawn when *xy* is\n",
       "      within the axes.\n",
       "    - If *False*, the annotation will always be drawn.\n",
       "    - If *None*, the annotation will only be drawn when *xy* is\n",
       "      within the axes and *xycoords* is 'data'.\n",
       "\n",
       "**kwargs\n",
       "    Additional kwargs are passed to `~matplotlib.text.Text`.\n",
       "\n",
       "Returns\n",
       "-------\n",
       "`.Annotation`\n",
       "\n",
       "See Also\n",
       "--------\n",
       ":ref:`plotting-guide-annotation`\n",
       "\u001b[1;31mFile:\u001b[0m      c:\\python\\python38\\lib\\site-packages\\matplotlib\\axes\\_axes.py\n",
       "\u001b[1;31mType:\u001b[0m      method\n"
      ]
     },
     "metadata": {},
     "output_type": "display_data"
    }
   ],
   "source": [
    "axs.annotate?"
   ]
  },
  {
   "cell_type": "code",
   "execution_count": null,
   "id": "becoming-juvenile",
   "metadata": {},
   "outputs": [],
   "source": [
    "import matplotlib.patches as mpatches\n",
    "import matplotlib.pyplot as plt\n",
    "\n",
    "styles = mpatches.ArrowStyle.get_styles()\n",
    "\n",
    "ncol = 2\n",
    "nrow = (len(styles) + 1) // ncol\n",
    "figheight = (nrow + 0.5)\n",
    "fig = plt.figure(figsize=(4 * ncol / 1.5, figheight / 1.5))\n",
    "fontsize = 0.2 * 70\n",
    "\n",
    "\n",
    "ax = fig.add_axes([0, 0, 1, 1], frameon=False, aspect=1.)\n",
    "\n",
    "ax.set_xlim(0, 4 * ncol)\n",
    "ax.set_ylim(0, figheight)\n",
    "\n",
    "\n",
    "def to_texstring(s):\n",
    "    s = s.replace(\"<\", r\"$<$\")\n",
    "    s = s.replace(\">\", r\"$>$\")\n",
    "    s = s.replace(\"|\", r\"$|$\")\n",
    "    return s\n",
    "\n",
    "\n",
    "for i, (stylename, styleclass) in enumerate(sorted(styles.items())):\n",
    "    x = 3.2 + (i // nrow) * 4\n",
    "    y = (figheight - 0.7 - i % nrow)  # /figheight\n",
    "    p = mpatches.Circle((x, y), 0.2)\n",
    "    ax.add_patch(p)\n",
    "\n",
    "    ax.annotate(to_texstring(stylename), (x, y),\n",
    "                (x - 1.2, y),\n",
    "                ha=\"right\", va=\"center\",\n",
    "                size=fontsize,\n",
    "                arrowprops=dict(arrowstyle=stylename,\n",
    "                                patchB=p,\n",
    "#                                 shrinkA=5,\n",
    "#                                 shrinkB=5,\n",
    "                                fc=\"k\", ec=\"k\",\n",
    "                                connectionstyle=\"arc3,rad=-0.05\",\n",
    "                                ),\n",
    "                bbox=dict(boxstyle=\"square\", fc=\"w\"))\n",
    "\n",
    "ax.xaxis.set_visible(False)\n",
    "ax.yaxis.set_visible(False)\n",
    "\n",
    "plt.show()"
   ]
  },
  {
   "cell_type": "code",
   "execution_count": null,
   "id": "aggregate-asbestos",
   "metadata": {},
   "outputs": [],
   "source": [
    "stylename"
   ]
  },
  {
   "cell_type": "code",
   "execution_count": 1,
   "id": "devoted-factor",
   "metadata": {},
   "outputs": [],
   "source": [
    "import time"
   ]
  },
  {
   "cell_type": "code",
   "execution_count": 5,
   "id": "approximate-revision",
   "metadata": {},
   "outputs": [],
   "source": [
    "day = time.localtime()"
   ]
  },
  {
   "cell_type": "code",
   "execution_count": 6,
   "id": "initial-bridal",
   "metadata": {},
   "outputs": [],
   "source": [
    "day = time.strftime(\"%d-%b-%Y\")"
   ]
  },
  {
   "cell_type": "code",
   "execution_count": 7,
   "id": "seeing-parcel",
   "metadata": {},
   "outputs": [
    {
     "data": {
      "text/plain": [
       "'15-Jul-2021'"
      ]
     },
     "execution_count": 7,
     "metadata": {},
     "output_type": "execute_result"
    }
   ],
   "source": [
    "day"
   ]
  },
  {
   "cell_type": "code",
   "execution_count": null,
   "id": "residential-resistance",
   "metadata": {},
   "outputs": [],
   "source": []
  }
 ],
 "metadata": {
  "kernelspec": {
   "display_name": "Python 3",
   "language": "python",
   "name": "python3"
  },
  "language_info": {
   "codemirror_mode": {
    "name": "ipython",
    "version": 3
   },
   "file_extension": ".py",
   "mimetype": "text/x-python",
   "name": "python",
   "nbconvert_exporter": "python",
   "pygments_lexer": "ipython3",
   "version": "3.8.3"
  }
 },
 "nbformat": 4,
 "nbformat_minor": 5
}
