{
 "cells": [
  {
   "cell_type": "markdown",
   "metadata": {},
   "source": [
    "# Itertools.product()\n",
    "\n",
    "**What does itertools.product() do?**\n",
    "\n",
    "itertools.product() is used to find the cartesian product from the given iterator, output is lexicographic ordered. The itertools.product() can used in two different ways:\n",
    "\n",
    "**itertools.product(*iterables, repeat=1):**\n",
    "\n",
    "It returns the cartesian product of the provided itrable with itself for the number of times specified by the optional keyword “repeat”. For example, product(arr, repeat=3) means the same as product(arr, arr, arr).\n",
    "\n",
    "\n",
    "**itertools.product(*iterables):**\n",
    "\n",
    "It returns the cartesian product of all the itrable provieded as the argument. For example, product(arr1, arr2, arr3)."
   ]
  },
  {
   "cell_type": "code",
   "execution_count": 1,
   "metadata": {},
   "outputs": [],
   "source": [
    "from itertools import product"
   ]
  },
  {
   "cell_type": "code",
   "execution_count": 2,
   "metadata": {},
   "outputs": [],
   "source": [
    "arr1 = [1, 2, 3] \n",
    "arr2 = [5, 6, 7] "
   ]
  },
  {
   "cell_type": "code",
   "execution_count": 4,
   "metadata": {},
   "outputs": [
    {
     "data": {
      "text/plain": [
       "[(1, 5), (1, 6), (1, 7), (2, 5), (2, 6), (2, 7), (3, 5), (3, 6), (3, 7)]"
      ]
     },
     "execution_count": 4,
     "metadata": {},
     "output_type": "execute_result"
    }
   ],
   "source": [
    "list(product(arr1, arr2))"
   ]
  },
  {
   "cell_type": "code",
   "execution_count": 5,
   "metadata": {},
   "outputs": [
    {
     "data": {
      "text/plain": [
       "[('a', 'c'), ('a', 'd'), ('b', 'c'), ('b', 'd')]"
      ]
     },
     "execution_count": 5,
     "metadata": {},
     "output_type": "execute_result"
    }
   ],
   "source": [
    "arr1 = ['a','b']\n",
    "arr2 = ['c','d']\n",
    "\n",
    "list(product(arr1,arr2))"
   ]
  },
  {
   "cell_type": "markdown",
   "metadata": {},
   "source": [
    "#### 25. Write a Python program to print a dictionary in table format."
   ]
  },
  {
   "cell_type": "code",
   "execution_count": 11,
   "metadata": {},
   "outputs": [
    {
     "name": "stdout",
     "output_type": "stream",
     "text": [
      "id          success          name\n",
      "1          True          Lary\n",
      "2          False          Rabi\n",
      "3          True          Alex\n"
     ]
    }
   ],
   "source": [
    "data = [{'id': '1', 'success': 'True', 'name': 'Lary'}, \n",
    "         {'id': '2', 'success': 'False', 'name': 'Rabi'}, \n",
    "         {'id': '3', 'success': 'True', 'name': 'Alex'}]\n",
    "    \n",
    "def dic_table(dic):\n",
    "    \n",
    "    head = [i for i in dic[0].keys()]\n",
    "    print(\"{}\".format(\" \"*10).join(head))\n",
    "    \n",
    "    \n",
    "    for dic in data:\n",
    "        \n",
    "        print(\"{}\".format(\" \"*10).join([i for i in dic.values()]))\n",
    "            \n",
    "            \n",
    "dic_table(data)"
   ]
  },
  {
   "cell_type": "code",
   "execution_count": 23,
   "metadata": {},
   "outputs": [
    {
     "name": "stdout",
     "output_type": "stream",
     "text": [
      "id             success        name           \n",
      "1              True           Lary           \n",
      "2              False          Rabi           \n",
      "3              True           Alex           "
     ]
    }
   ],
   "source": [
    "data = [{'id': 1, 'success': True, 'name': 'Lary'}, \n",
    "         {'id': 2, 'success': False, 'name': 'Rabi'}, \n",
    "         {'id': 3, 'success': True, 'name': 'Alex'}]\n",
    "\n",
    "def dic_table2(dics):\n",
    "    \n",
    "    head = [i for i in dics[0].keys()]\n",
    "    \n",
    "    total_len = 15\n",
    "    spaces = 0\n",
    "    \n",
    "    \n",
    "    for st in head:\n",
    "        spaces = total_len - len(st)\n",
    "        print(\"{}{}\".format(st,' '*spaces), end=\"\")\n",
    "     \n",
    "    for dic in dics:\n",
    "        data  = [d for d in dic.values()]\n",
    "        print()\n",
    "        for st in data:\n",
    "            spaces = total_len - len(str(st))\n",
    "            print(\"{}{}\".format(st,' '*spaces), end=\"\")\n",
    "    \n",
    "        \n",
    "dic_table2(data)"
   ]
  },
  {
   "cell_type": "code",
   "execution_count": 81,
   "metadata": {},
   "outputs": [
    {
     "name": "stdout",
     "output_type": "stream",
     "text": [
      "id sucess name\n",
      "1 True Lary\n",
      "2 False Rabi\n",
      "3 True Alex\n"
     ]
    }
   ],
   "source": [
    "data = [{'id': 1, 'success': True, 'name': 'Lary'}, \n",
    "         {'id': 2, 'success': False, 'name': 'Rabi'}, \n",
    "         {'id': 3, 'success': True, 'name': 'Alex'}]\n",
    "\n",
    "data2 = [{'id':[1,2,3] ,\n",
    "          'sucess':[True,False,True],\n",
    "          'name':['Lary', 'Rabi','Alex']}]\n",
    "\n",
    "for row in zip(*([key]+val for key,val in data2[0].items())):\n",
    "    print(*row)\n",
    "    "
   ]
  },
  {
   "cell_type": "code",
   "execution_count": 27,
   "metadata": {},
   "outputs": [
    {
     "name": "stdout",
     "output_type": "stream",
     "text": [
      "C1 C2 C3\n",
      "1 5 9\n",
      "2 6 10\n",
      "3 7 11\n"
     ]
    }
   ],
   "source": [
    "my_dict = {'C1':[1,2,3],'C2':[5,6,7],'C3':[9,10,11]}\n",
    "for row in zip(*([key] + (value) for key, value in sorted(my_dict.items()))):\n",
    "    print(*row)\n"
   ]
  },
  {
   "cell_type": "code",
   "execution_count": 110,
   "metadata": {},
   "outputs": [],
   "source": []
  },
  {
   "cell_type": "code",
   "execution_count": 134,
   "metadata": {},
   "outputs": [
    {
     "name": "stdout",
     "output_type": "stream",
     "text": [
      "['C1', 1, 2, 3] ['C2', 5, 6, 7] ['C3', 9, 10, 11]\n"
     ]
    }
   ],
   "source": [
    "a = ([key]+value for key,value in sorted(my_dict.items()))\n",
    "print(*a)"
   ]
  },
  {
   "cell_type": "code",
   "execution_count": 135,
   "metadata": {},
   "outputs": [
    {
     "name": "stdout",
     "output_type": "stream",
     "text": [
      "('C1', 'C2', 'C3')\n",
      "(1, 5, 9)\n",
      "(2, 6, 10)\n",
      "(3, 7, 11)\n"
     ]
    }
   ],
   "source": [
    "a = ([key]+value for key,value in sorted(my_dict.items()))\n",
    "for i in zip(*a):\n",
    "    print(i)"
   ]
  },
  {
   "cell_type": "code",
   "execution_count": 140,
   "metadata": {},
   "outputs": [
    {
     "data": {
      "text/plain": [
       "{True: 2, False: 1}"
      ]
     },
     "execution_count": 140,
     "metadata": {},
     "output_type": "execute_result"
    }
   ],
   "source": [
    "from collections import Counter\n",
    "\n",
    "data = [{'id': 1, 'success': True, 'name': 'Lary'}, \n",
    "        {'id': 2, 'success': False, 'name': 'Rabi'}, \n",
    "        {'id': 3, 'success': True, 'name': 'Alex'}]\n",
    "\n",
    "def count_success(dics,key):\n",
    "    \n",
    "    count_list = []\n",
    "    \n",
    "    for dic in dics:\n",
    "        \n",
    "        count_list.append(dic[key])\n",
    "        \n",
    "    return dict(Counter(count_list))\n",
    "\n",
    "\n",
    "count_success(data,'success')\n",
    "            \n",
    "            \n",
    "        "
   ]
  },
  {
   "cell_type": "code",
   "execution_count": null,
   "metadata": {},
   "outputs": [],
   "source": []
  }
 ],
 "metadata": {
  "kernelspec": {
   "display_name": "Python 3",
   "language": "python",
   "name": "python3"
  },
  "language_info": {
   "codemirror_mode": {
    "name": "ipython",
    "version": 3
   },
   "file_extension": ".py",
   "mimetype": "text/x-python",
   "name": "python",
   "nbconvert_exporter": "python",
   "pygments_lexer": "ipython3",
   "version": "3.8.3"
  }
 },
 "nbformat": 4,
 "nbformat_minor": 4
}
