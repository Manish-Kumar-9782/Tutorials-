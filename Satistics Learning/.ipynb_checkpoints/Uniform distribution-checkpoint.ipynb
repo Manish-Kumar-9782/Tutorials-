{
 "cells": [
  {
   "cell_type": "markdown",
   "id": "least-flexibility",
   "metadata": {},
   "source": [
    "# Uniform distribution \n",
    "Uniform distribution is the distribution in which all the samples or outcomes having the same probability distribution in a given range. In this tutorial we will make a uniform distribution by using the `scipy.stats.uniform()` module.\n",
    "\n",
    "scipy.stats.uniform() is a continuous random variable. To produce a uniform distribution we need to import the Uniform from the scipy.Stats"
   ]
  },
  {
   "cell_type": "markdown",
   "id": "common-popularity",
   "metadata": {},
   "source": [
    "q : lower and upper tail probability\\\n",
    "x : quantiles\\\n",
    "loc : [optional]location parameter. Default = 0\\\n",
    "scale : [optional]scale parameter. Default = 1\\\n",
    "size : [tuple of ints, optional] shape or random variates.\\\n",
    "moments : [optional] composed of letters [‘mvsk’]; ‘m’ = mean, ‘v’ = variance, ‘s’ = Fisher’s skew and ‘k’ = Fisher’s kurtosis. (default = ‘mv’)."
   ]
  },
  {
   "cell_type": "code",
   "execution_count": 2,
   "id": "republican-programming",
   "metadata": {},
   "outputs": [],
   "source": [
    "from scipy.stats import uniform"
   ]
  },
  {
   "cell_type": "markdown",
   "id": "cooked-satisfaction",
   "metadata": {},
   "source": [
    "## 1. Creating a random variable"
   ]
  },
  {
   "cell_type": "code",
   "execution_count": 3,
   "id": "particular-xerox",
   "metadata": {},
   "outputs": [
    {
     "name": "stdout",
     "output_type": "stream",
     "text": [
      "Random Variable:  <scipy.stats._distn_infrastructure.rv_frozen object at 0x0000027B36A9CB20>\n"
     ]
    }
   ],
   "source": [
    "# first of all we will decide the \n",
    "a,b = 0,1\n",
    "\n",
    "# Now we will create a random variable with the help of uniform\n",
    "rv = uniform(a, b)\n",
    "# This will create a random variable from the uniform distribution\n",
    "\n",
    "# Now if we want to check the the rv.\n",
    "print(\"Random Variable: \",rv)"
   ]
  },
  {
   "cell_type": "markdown",
   "id": "brilliant-cookbook",
   "metadata": {},
   "source": [
    "___"
   ]
  },
  {
   "cell_type": "markdown",
   "id": "emotional-elimination",
   "metadata": {},
   "source": [
    "## 2. Uniform continuous variates and probability distribution"
   ]
  },
  {
   "cell_type": "code",
   "execution_count": 4,
   "id": "median-mongolia",
   "metadata": {},
   "outputs": [],
   "source": [
    "import numpy as np"
   ]
  },
  {
   "cell_type": "code",
   "execution_count": 6,
   "id": "extensive-cover",
   "metadata": {},
   "outputs": [
    {
     "data": {
      "text/plain": [
       "array([0.01, 0.11, 0.21, 0.31, 0.41, 0.51, 0.61, 0.71, 0.81, 0.91, 1.01,\n",
       "       1.11, 1.21, 1.31, 1.41])"
      ]
     },
     "execution_count": 6,
     "metadata": {},
     "output_type": "execute_result"
    }
   ],
   "source": [
    "# generating the quantiles\n",
    "quantiles = np.arange(0.01, 1.5, 0.1)\n",
    "quantiles"
   ]
  },
  {
   "cell_type": "code",
   "execution_count": 8,
   "id": "apart-carter",
   "metadata": {},
   "outputs": [
    {
     "data": {
      "text/plain": [
       "array([0.25155042, 0.11188634, 0.11702836, 0.40555149, 0.10720272,\n",
       "       0.20428928, 0.58130189, 0.96693887, 0.22905324, 0.73842546])"
      ]
     },
     "execution_count": 8,
     "metadata": {},
     "output_type": "execute_result"
    }
   ],
   "source": [
    "# Random Variates\n",
    "R = uniform.rvs(a,b,size=10)  \n",
    "R"
   ]
  },
  {
   "cell_type": "code",
   "execution_count": 9,
   "id": "capable-museum",
   "metadata": {},
   "outputs": [],
   "source": [
    "# Generating the PDF\n",
    "x = np.linspace(uniform.pdf(0.01,a,b), uniform.pdf(0.99, a,b), 10)\n",
    "pdf = uniform.pdf(x,1,3)"
   ]
  },
  {
   "cell_type": "code",
   "execution_count": 12,
   "id": "possible-county",
   "metadata": {},
   "outputs": [
    {
     "name": "stdout",
     "output_type": "stream",
     "text": [
      "Probability Distribution:\n",
      " [0.33333333 0.33333333 0.33333333 0.33333333 0.33333333 0.33333333\n",
      " 0.33333333 0.33333333 0.33333333 0.33333333]\n"
     ]
    }
   ],
   "source": [
    "print(\"Probability Distribution:\\n\", pdf)"
   ]
  },
  {
   "cell_type": "markdown",
   "id": "precious-pantyhose",
   "metadata": {},
   "source": [
    "## Graphical Represntation"
   ]
  },
  {
   "cell_type": "code",
   "execution_count": 15,
   "id": "brown-puppy",
   "metadata": {},
   "outputs": [
    {
     "name": "stdout",
     "output_type": "stream",
     "text": [
      "Distribution: \n",
      " [0.         0.02040816 0.04081633 0.06122449 0.08163265 0.10204082\n",
      " 0.12244898 0.14285714 0.16326531 0.18367347 0.20408163 0.2244898\n",
      " 0.24489796 0.26530612 0.28571429 0.30612245 0.32653061 0.34693878\n",
      " 0.36734694 0.3877551  0.40816327 0.42857143 0.44897959 0.46938776\n",
      " 0.48979592 0.51020408 0.53061224 0.55102041 0.57142857 0.59183673\n",
      " 0.6122449  0.63265306 0.65306122 0.67346939 0.69387755 0.71428571\n",
      " 0.73469388 0.75510204 0.7755102  0.79591837 0.81632653 0.83673469\n",
      " 0.85714286 0.87755102 0.89795918 0.91836735 0.93877551 0.95918367\n",
      " 0.97959184 1.        ]\n"
     ]
    }
   ],
   "source": [
    "import matplotlib.pyplot as plt\n",
    "\n",
    "distribution = np.linspace(0, np.minimum(rv.dist.b, 3))\n",
    "print(\"Distribution: \\n\", distribution)"
   ]
  },
  {
   "cell_type": "markdown",
   "id": "legislative-printing",
   "metadata": {},
   "source": [
    "Now after generating the distribution we will plot this distribution by using the pyplot"
   ]
  },
  {
   "cell_type": "code",
   "execution_count": 16,
   "id": "convinced-inspection",
   "metadata": {},
   "outputs": [
    {
     "data": {
      "text/plain": [
       "[<matplotlib.lines.Line2D at 0x27b59a69130>]"
      ]
     },
     "execution_count": 16,
     "metadata": {},
     "output_type": "execute_result"
    },
    {
     "data": {
      "image/png": "[encoded data removed]",
      "text/plain": [
       "<Figure size 432x288 with 1 Axes>"
      ]
     },
     "metadata": {
      "needs_background": "light"
     },
     "output_type": "display_data"
    }
   ],
   "source": [
    "plt.plot(distribution, rv.pdf(distribution))"
   ]
  },
  {
   "cell_type": "code",
   "execution_count": null,
   "id": "upper-drink",
   "metadata": {},
   "outputs": [],
   "source": []
  }
 ],
 "metadata": {
  "kernelspec": {
   "display_name": "Python 3",
   "language": "python",
   "name": "python3"
  },
  "language_info": {
   "codemirror_mode": {
    "name": "ipython",
    "version": 3
   },
   "file_extension": ".py",
   "mimetype": "text/x-python",
   "name": "python",
   "nbconvert_exporter": "python",
   "pygments_lexer": "ipython3",
   "version": "3.8.3"
  }
 },
 "nbformat": 4,
 "nbformat_minor": 5
}
