{
 "cells": [
  {
   "cell_type": "code",
   "execution_count": 37,
   "id": "2d28f737-e57e-4704-a10f-aad43ea8769d",
   "metadata": {},
   "outputs": [],
   "source": [
    "MyList = [1,2,5,5]"
   ]
  },
  {
   "cell_type": "code",
   "execution_count": 38,
   "id": "f5924ea5-ec1c-48a6-a725-2979811dcaee",
   "metadata": {},
   "outputs": [
    {
     "data": {
      "text/plain": [
       "list"
      ]
     },
     "execution_count": 38,
     "metadata": {},
     "output_type": "execute_result"
    }
   ],
   "source": [
    "type(MyList)"
   ]
  },
  {
   "cell_type": "code",
   "execution_count": 39,
   "id": "7fda06d2-5f76-4ce4-993b-0586a93b9b8a",
   "metadata": {},
   "outputs": [
    {
     "data": {
      "text/plain": [
       "2"
      ]
     },
     "execution_count": 39,
     "metadata": {},
     "output_type": "execute_result"
    }
   ],
   "source": [
    "MyList[1]"
   ]
  },
  {
   "cell_type": "code",
   "execution_count": 40,
   "id": "44e983b1-0fb6-43a7-b901-fe797437fd7c",
   "metadata": {},
   "outputs": [],
   "source": [
    "import random\n",
    "number = [random.randint(1,10) for i in range(20)]"
   ]
  },
  {
   "cell_type": "code",
   "execution_count": 41,
   "id": "00ce5f21-2b5c-49fe-a3a3-ff4afec26304",
   "metadata": {},
   "outputs": [
    {
     "data": {
      "text/plain": [
       "[5, 4, 8, 4, 10, 3, 1, 6, 10, 1, 7, 3, 5, 9, 7, 3, 5, 6, 1, 1]"
      ]
     },
     "execution_count": 41,
     "metadata": {},
     "output_type": "execute_result"
    }
   ],
   "source": [
    "number"
   ]
  },
  {
   "cell_type": "code",
   "execution_count": 42,
   "id": "150167f9-d6b9-4143-af8a-6676cc560fed",
   "metadata": {},
   "outputs": [
    {
     "data": {
      "text/plain": [
       "1"
      ]
     },
     "execution_count": 42,
     "metadata": {},
     "output_type": "execute_result"
    }
   ],
   "source": [
    "number.index(4)"
   ]
  },
  {
   "cell_type": "code",
   "execution_count": 43,
   "id": "ecb51096-75bf-4105-8c92-51e78a160511",
   "metadata": {},
   "outputs": [
    {
     "ename": "ValueError",
     "evalue": "4 is not in list",
     "output_type": "error",
     "traceback": [
      "\u001b[1;31m---------------------------------------------------------------------------\u001b[0m",
      "\u001b[1;31mValueError\u001b[0m                                Traceback (most recent call last)",
      "Cell \u001b[1;32mIn [43], line 1\u001b[0m\n\u001b[1;32m----> 1\u001b[0m \u001b[43mnumber\u001b[49m\u001b[38;5;241;43m.\u001b[39;49m\u001b[43mindex\u001b[49m\u001b[43m(\u001b[49m\u001b[38;5;241;43m4\u001b[39;49m\u001b[43m,\u001b[49m\u001b[43m \u001b[49m\u001b[38;5;241;43m6\u001b[39;49m\u001b[38;5;241;43m+\u001b[39;49m\u001b[38;5;241;43m1\u001b[39;49m\u001b[43m)\u001b[49m\n",
      "\u001b[1;31mValueError\u001b[0m: 4 is not in list"
     ]
    }
   ],
   "source": [
    "number.index(4, 6+1)"
   ]
  },
  {
   "cell_type": "code",
   "execution_count": 44,
   "id": "0d809b09-5121-4155-8ab3-f2066edc0d03",
   "metadata": {},
   "outputs": [
    {
     "ename": "ValueError",
     "evalue": "4 is not in list",
     "output_type": "error",
     "traceback": [
      "\u001b[1;31m---------------------------------------------------------------------------\u001b[0m",
      "\u001b[1;31mValueError\u001b[0m                                Traceback (most recent call last)",
      "Cell \u001b[1;32mIn [44], line 1\u001b[0m\n\u001b[1;32m----> 1\u001b[0m \u001b[43mnumber\u001b[49m\u001b[38;5;241;43m.\u001b[39;49m\u001b[43mindex\u001b[49m\u001b[43m(\u001b[49m\u001b[38;5;241;43m4\u001b[39;49m\u001b[43m,\u001b[49m\u001b[38;5;241;43m10\u001b[39;49m\u001b[38;5;241;43m+\u001b[39;49m\u001b[38;5;241;43m1\u001b[39;49m\u001b[43m)\u001b[49m\n",
      "\u001b[1;31mValueError\u001b[0m: 4 is not in list"
     ]
    }
   ],
   "source": [
    "number.index(4,10+1)"
   ]
  },
  {
   "cell_type": "code",
   "execution_count": 45,
   "id": "b1f73479-c936-48a8-a2d7-3c268a48ef31",
   "metadata": {},
   "outputs": [
    {
     "data": {
      "text/plain": [
       "20"
      ]
     },
     "execution_count": 45,
     "metadata": {},
     "output_type": "execute_result"
    }
   ],
   "source": [
    "len(number)"
   ]
  },
  {
   "cell_type": "code",
   "execution_count": 46,
   "id": "a6a3089a-ffaf-4108-8a86-01d49ca7200e",
   "metadata": {},
   "outputs": [
    {
     "data": {
      "text/plain": [
       "2"
      ]
     },
     "execution_count": 46,
     "metadata": {},
     "output_type": "execute_result"
    }
   ],
   "source": [
    "number.count(4)"
   ]
  },
  {
   "cell_type": "code",
   "execution_count": 47,
   "id": "4457cceb-66f1-4557-b2f1-6e0b87953f29",
   "metadata": {},
   "outputs": [],
   "source": [
    "number100 = [random.randint(1,30) for i in range(100)]"
   ]
  },
  {
   "cell_type": "code",
   "execution_count": 48,
   "id": "028ed878-11b7-40c5-956c-f58dce3cdd2e",
   "metadata": {},
   "outputs": [
    {
     "data": {
      "text/plain": [
       "4"
      ]
     },
     "execution_count": 48,
     "metadata": {},
     "output_type": "execute_result"
    }
   ],
   "source": [
    "number100.count(13)"
   ]
  },
  {
   "cell_type": "code",
   "execution_count": 49,
   "id": "179e146e-dcc3-4e4d-a179-071d04d9dc5a",
   "metadata": {},
   "outputs": [],
   "source": [
    "nextStart = 0\n",
    "value = 13 # number to count and get the occurence index number\n",
    "counts = number100.count(value) # couting that how many times values \n",
    "# came in list\n",
    "numberIndexs = []  # An empty list to hold all index numbers.\n",
    "\n",
    "for i in range(counts):\n",
    "    indexNumber = number100.index(value,nextStart) # returns the index number\n",
    "    nextStart = indexNumber + 1\n",
    "    numberIndexs.append(indexNumber)\n",
    "    # print(\"index: \", indexNumber)"
   ]
  },
  {
   "cell_type": "code",
   "execution_count": 50,
   "id": "d54fd736-6c9b-421d-b88f-91fb0750a145",
   "metadata": {},
   "outputs": [
    {
     "name": "stdout",
     "output_type": "stream",
     "text": [
      "[16, 16, 4, 21, 24, 16, 9, 23, 27, 15, 27, 5, 5, 8, 28, 3, 19, 27, 26, 27, 5, 20, 8, 27, 22, 21, 12, 28, 21, 13, 10, 3, 20, 6, 7, 21, 14, 23, 29, 2, 21, 24, 25, 8, 13, 13, 24, 7, 15, 16, 10, 14, 29, 17, 19, 22, 30, 23, 7, 28, 21, 20, 7, 9, 21, 1, 7, 29, 28, 11, 11, 6, 9, 21, 16, 2, 10, 18, 29, 24, 29, 18, 20, 9, 16, 9, 28, 16, 2, 16, 13, 19, 24, 26, 21, 14, 12, 10, 25, 5]\n"
     ]
    }
   ],
   "source": [
    "print(number100)"
   ]
  },
  {
   "cell_type": "code",
   "execution_count": 51,
   "id": "e1b2213f-fc19-4f35-8075-36505b3acd6b",
   "metadata": {},
   "outputs": [
    {
     "data": {
      "text/plain": [
       "[29, 44, 45, 90]"
      ]
     },
     "execution_count": 51,
     "metadata": {},
     "output_type": "execute_result"
    }
   ],
   "source": [
    "numberIndexs"
   ]
  },
  {
   "cell_type": "code",
   "execution_count": 52,
   "id": "380133cb-ac9d-4636-9ad9-611c1cf47ca8",
   "metadata": {},
   "outputs": [
    {
     "data": {
      "text/plain": [
       "range(0, 20)"
      ]
     },
     "execution_count": 52,
     "metadata": {},
     "output_type": "execute_result"
    }
   ],
   "source": [
    "range(20)"
   ]
  },
  {
   "cell_type": "code",
   "execution_count": 53,
   "id": "c0712a10-e016-4d87-84be-de7c05272eff",
   "metadata": {},
   "outputs": [
    {
     "data": {
      "text/plain": [
       "[1, 2, 5, 5]"
      ]
     },
     "execution_count": 53,
     "metadata": {},
     "output_type": "execute_result"
    }
   ],
   "source": [
    "MyList"
   ]
  },
  {
   "cell_type": "code",
   "execution_count": 54,
   "id": "415a932b-c9e0-4b6e-989a-f2256df18035",
   "metadata": {},
   "outputs": [
    {
     "name": "stdout",
     "output_type": "stream",
     "text": [
      "Help on built-in function insert:\n",
      "\n",
      "insert(index, object, /) method of builtins.list instance\n",
      "    Insert object before index.\n",
      "\n"
     ]
    }
   ],
   "source": [
    "help(MyList.insert)"
   ]
  },
  {
   "cell_type": "code",
   "execution_count": 55,
   "id": "fef52b54-dfd6-4a4b-bb55-bf70b9a00017",
   "metadata": {},
   "outputs": [],
   "source": [
    "MyList.insert(2,3)"
   ]
  },
  {
   "cell_type": "code",
   "execution_count": 56,
   "id": "8f6bb54c-7829-41fc-b893-916fd639fc7f",
   "metadata": {},
   "outputs": [
    {
     "data": {
      "text/plain": [
       "[1, 2, 3, 5, 5]"
      ]
     },
     "execution_count": 56,
     "metadata": {},
     "output_type": "execute_result"
    }
   ],
   "source": [
    "MyList"
   ]
  },
  {
   "cell_type": "code",
   "execution_count": 57,
   "id": "75cd0883-2997-4664-9101-816398bfb5a9",
   "metadata": {},
   "outputs": [],
   "source": [
    "MyList.insert(2,6)"
   ]
  },
  {
   "cell_type": "code",
   "execution_count": 58,
   "id": "f50f8962-6f39-40d0-8fbf-81de47959714",
   "metadata": {},
   "outputs": [
    {
     "data": {
      "text/plain": [
       "[1, 2, 6, 3, 5, 5]"
      ]
     },
     "execution_count": 58,
     "metadata": {},
     "output_type": "execute_result"
    }
   ],
   "source": [
    "MyList"
   ]
  },
  {
   "cell_type": "code",
   "execution_count": 59,
   "id": "1fc7de50-658f-4a66-87f7-888038a88152",
   "metadata": {},
   "outputs": [],
   "source": [
    "MyList.insert(5,13)"
   ]
  },
  {
   "cell_type": "code",
   "execution_count": 60,
   "id": "60157692-c3c6-47a1-9baa-ffd9af50e968",
   "metadata": {},
   "outputs": [
    {
     "data": {
      "text/plain": [
       "[1, 2, 6, 3, 5, 13, 5]"
      ]
     },
     "execution_count": 60,
     "metadata": {},
     "output_type": "execute_result"
    }
   ],
   "source": [
    "MyList"
   ]
  },
  {
   "cell_type": "code",
   "execution_count": 62,
   "id": "6d2ae86c-caf0-4022-9e0d-7c84c67f7e24",
   "metadata": {},
   "outputs": [
    {
     "data": {
      "text/plain": [
       "[1, 2, 6, 3, 7, 5, 9, 13, 5]"
      ]
     },
     "execution_count": 62,
     "metadata": {},
     "output_type": "execute_result"
    }
   ],
   "source": [
    "MyList.insert(4,7)\n",
    "MyList"
   ]
  },
  {
   "cell_type": "code",
   "execution_count": 61,
   "id": "11fbd68e-51ab-4702-82b5-ebe16e3c7731",
   "metadata": {},
   "outputs": [
    {
     "data": {
      "text/plain": [
       "[1, 2, 6, 3, 5, 9, 13, 5]"
      ]
     },
     "execution_count": 61,
     "metadata": {},
     "output_type": "execute_result"
    }
   ],
   "source": [
    "MyList.insert(5,9)\n",
    "MyList"
   ]
  },
  {
   "cell_type": "code",
   "execution_count": 63,
   "id": "56d28a53-7303-4a45-a663-65ee97a471a7",
   "metadata": {},
   "outputs": [],
   "source": [
    "MyList.insert(6,12)"
   ]
  },
  {
   "cell_type": "code",
   "execution_count": 64,
   "id": "ea20cdc3-3fa3-49ba-8db4-6b67279bee10",
   "metadata": {},
   "outputs": [
    {
     "data": {
      "text/plain": [
       "[1, 2, 6, 3, 7, 5, 12, 9, 13, 5]"
      ]
     },
     "execution_count": 64,
     "metadata": {},
     "output_type": "execute_result"
    }
   ],
   "source": [
    "MyList"
   ]
  },
  {
   "cell_type": "code",
   "execution_count": 65,
   "id": "1b5a753c-cef0-4062-8148-d16d465b2769",
   "metadata": {},
   "outputs": [
    {
     "data": {
      "text/plain": [
       "[1, 2, 6, 3, 7, 5, 12, 9, 16, 13, 5]"
      ]
     },
     "execution_count": 65,
     "metadata": {},
     "output_type": "execute_result"
    }
   ],
   "source": [
    "MyList.insert(8,16)\n",
    "MyList"
   ]
  },
  {
   "cell_type": "markdown",
   "id": "f7b9e06c-0e2c-4535-95d6-629b31059504",
   "metadata": {},
   "source": [
    "## append vs extend"
   ]
  },
  {
   "cell_type": "code",
   "execution_count": 66,
   "id": "d8dec26f-5d22-49a3-a60b-f96a1459678c",
   "metadata": {},
   "outputs": [],
   "source": [
    "yourList = [10,20,30,40]"
   ]
  },
  {
   "cell_type": "code",
   "execution_count": 67,
   "id": "52147d15-2c76-4e3a-9f0a-e94688b1364e",
   "metadata": {},
   "outputs": [
    {
     "data": {
      "text/plain": [
       "[1, 2, 6, 3, 7, 5, 12, 9, 16, 13, 5]"
      ]
     },
     "execution_count": 67,
     "metadata": {},
     "output_type": "execute_result"
    }
   ],
   "source": [
    "MyList"
   ]
  },
  {
   "cell_type": "code",
   "execution_count": 68,
   "id": "77348dc0-316f-4b1c-b55c-3d202cf70bf9",
   "metadata": {},
   "outputs": [
    {
     "data": {
      "text/plain": [
       "[1, 2, 6, 3, 7, 5, 12, 9, 16, 13, 5]"
      ]
     },
     "execution_count": 68,
     "metadata": {},
     "output_type": "execute_result"
    }
   ],
   "source": [
    "MyList.copy()"
   ]
  },
  {
   "cell_type": "code",
   "execution_count": 70,
   "id": "166a5e31-2285-412b-9caf-30ba960d6e28",
   "metadata": {},
   "outputs": [],
   "source": [
    "kuldeep = MyList.copy()"
   ]
  },
  {
   "cell_type": "code",
   "execution_count": 71,
   "id": "f36fc91a-a50b-4f4c-bcb3-cd1708f9b191",
   "metadata": {},
   "outputs": [
    {
     "data": {
      "text/plain": [
       "[1, 2, 6, 3, 7, 5, 12, 9, 16, 13, 5]"
      ]
     },
     "execution_count": 71,
     "metadata": {},
     "output_type": "execute_result"
    }
   ],
   "source": [
    "kuldeep"
   ]
  },
  {
   "cell_type": "code",
   "execution_count": 73,
   "id": "582784eb-ec08-467a-aa42-db3987a8a36d",
   "metadata": {},
   "outputs": [
    {
     "data": {
      "text/plain": [
       "False"
      ]
     },
     "execution_count": 73,
     "metadata": {},
     "output_type": "execute_result"
    }
   ],
   "source": [
    "kuldeep is MyList"
   ]
  },
  {
   "cell_type": "code",
   "execution_count": null,
   "id": "d3f3482f-ffae-47ea-aa87-e3cbcdad1cdc",
   "metadata": {},
   "outputs": [],
   "source": []
  }
 ],
 "metadata": {
  "kernelspec": {
   "display_name": "Python 3 (ipykernel)",
   "language": "python",
   "name": "python3"
  },
  "language_info": {
   "codemirror_mode": {
    "name": "ipython",
    "version": 3
   },
   "file_extension": ".py",
   "mimetype": "text/x-python",
   "name": "python",
   "nbconvert_exporter": "python",
   "pygments_lexer": "ipython3",
   "version": "3.10.5"
  }
 },
 "nbformat": 4,
 "nbformat_minor": 5
}
