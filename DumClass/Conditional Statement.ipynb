{
 "cells": [
  {
   "cell_type": "markdown",
   "id": "cba0913e-46b4-4313-a5f3-f9290c5715bb",
   "metadata": {},
   "source": [
    "## Conditional Statements"
   ]
  },
  {
   "cell_type": "markdown",
   "id": "b7067b90-ad06-4396-a987-ddef69639faf",
   "metadata": {},
   "source": [
    "```python\n",
    "if expression:\n",
    "    # statements\n",
    "else:\n",
    "    # statements\n",
    "```\n",
    "\n",
    "```python\n",
    "if expression:\n",
    "    # statements\n",
    "elif expression:\n",
    "    # statements\n",
    "else:\n",
    "    # final statement\n",
    "```\n",
    "\n",
    "```python\n",
    "if expression:\n",
    "    # statements\n",
    "elif expression:\n",
    "    # statements\n",
    "elif expression:\n",
    "    # statements\n",
    "else:\n",
    "    # final statement\n",
    "```"
   ]
  },
  {
   "cell_type": "code",
   "execution_count": 6,
   "id": "915f8e1d-5b84-489a-8c3f-d1119b142687",
   "metadata": {},
   "outputs": [],
   "source": [
    "def trafficLight(light):\n",
    "    \n",
    "    if light == \"yellow\":\n",
    "        print(\"Signal is green, You may Go...\")\n",
    "        \n",
    "    elif light == \"pink\":\n",
    "        print(\"Signale is orange, be Carefull...\")\n",
    "        \n",
    "    elif light == \"blue\":\n",
    "        print(\"Signal is red, danger is head...\")\n",
    "        \n",
    "    else:\n",
    "        print(\"Traffic System has been failed, call traffic light\")\n",
    "        "
   ]
  },
  {
   "cell_type": "code",
   "execution_count": 9,
   "id": "9e54a9ca-495b-4001-ab2f-e715638191ce",
   "metadata": {},
   "outputs": [
    {
     "name": "stdout",
     "output_type": "stream",
     "text": [
      "Signal is red, danger is head...\n"
     ]
    }
   ],
   "source": [
    "trafficLight(\"blue\")"
   ]
  },
  {
   "cell_type": "code",
   "execution_count": null,
   "id": "e1977a16-d6b5-4dc3-a008-2874783f6060",
   "metadata": {},
   "outputs": [],
   "source": []
  },
  {
   "cell_type": "code",
   "execution_count": null,
   "id": "faafd38f-9142-402a-bded-a36ec9979e06",
   "metadata": {},
   "outputs": [],
   "source": []
  }
 ],
 "metadata": {
  "kernelspec": {
   "display_name": "Python 3 (ipykernel)",
   "language": "python",
   "name": "python3"
  },
  "language_info": {
   "codemirror_mode": {
    "name": "ipython",
    "version": 3
   },
   "file_extension": ".py",
   "mimetype": "text/x-python",
   "name": "python",
   "nbconvert_exporter": "python",
   "pygments_lexer": "ipython3",
   "version": "3.10.5"
  }
 },
 "nbformat": 4,
 "nbformat_minor": 5
}
