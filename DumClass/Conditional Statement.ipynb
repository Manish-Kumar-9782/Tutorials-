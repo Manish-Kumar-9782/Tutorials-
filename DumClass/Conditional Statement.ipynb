{
 "cells": [
  {
   "cell_type": "markdown",
   "id": "cba0913e-46b4-4313-a5f3-f9290c5715bb",
   "metadata": {},
   "source": [
    "## Conditional Statements"
   ]
  },
  {
   "cell_type": "markdown",
   "id": "b7067b90-ad06-4396-a987-ddef69639faf",
   "metadata": {},
   "source": [
    "```python\n",
    "if expression:\n",
    "    # statements\n",
    "else:\n",
    "    # statements\n",
    "```\n",
    "\n",
    "```python\n",
    "if expression:\n",
    "    # statements\n",
    "elif expression:\n",
    "    # statements\n",
    "else:\n",
    "    # final statement\n",
    "```\n",
    "\n",
    "```python\n",
    "if expression:\n",
    "    # statements\n",
    "elif expression:\n",
    "    # statements\n",
    "elif expression:\n",
    "    # statements\n",
    "else:\n",
    "    # final statement\n",
    "```"
   ]
  },
  {
   "cell_type": "code",
   "execution_count": 6,
   "id": "915f8e1d-5b84-489a-8c3f-d1119b142687",
   "metadata": {},
   "outputs": [],
   "source": [
    "def trafficLight(light):\n",
    "    \n",
    "    if light == \"yellow\":\n",
    "        print(\"Signal is green, You may Go...\")\n",
    "        \n",
    "    elif light == \"pink\":\n",
    "        print(\"Signale is orange, be Carefull...\")\n",
    "        \n",
    "    elif light == \"blue\":\n",
    "        print(\"Signal is red, danger is head...\")\n",
    "        \n",
    "    else:\n",
    "        print(\"Traffic System has been failed, call traffic light\")\n",
    "        "
   ]
  },
  {
   "cell_type": "code",
   "execution_count": 9,
   "id": "9e54a9ca-495b-4001-ab2f-e715638191ce",
   "metadata": {},
   "outputs": [
    {
     "name": "stdout",
     "output_type": "stream",
     "text": [
      "Signal is red, danger is head...\n"
     ]
    }
   ],
   "source": [
    "trafficLight(\"blue\")"
   ]
  },
  {
   "cell_type": "markdown",
   "id": "939f98ed-ac94-497a-8823-def07bce5683",
   "metadata": {},
   "source": [
    "# tuple"
   ]
  },
  {
   "cell_type": "code",
   "execution_count": 13,
   "id": "faafd38f-9142-402a-bded-a36ec9979e06",
   "metadata": {},
   "outputs": [],
   "source": [
    "myTuple = (1,1,2,3,5,4)\n",
    "# tuples are immutable"
   ]
  },
  {
   "cell_type": "code",
   "execution_count": 8,
   "id": "0a0644a3-08f8-426b-9bdd-66effb3f9faf",
   "metadata": {},
   "outputs": [
    {
     "ename": "TypeError",
     "evalue": "'tuple' object does not support item assignment",
     "output_type": "error",
     "traceback": [
      "\u001b[1;31m---------------------------------------------------------------------------\u001b[0m",
      "\u001b[1;31mTypeError\u001b[0m                                 Traceback (most recent call last)",
      "Cell \u001b[1;32mIn [8], line 1\u001b[0m\n\u001b[1;32m----> 1\u001b[0m \u001b[43mmyTuple\u001b[49m\u001b[43m[\u001b[49m\u001b[38;5;241;43m0\u001b[39;49m\u001b[43m]\u001b[49m \u001b[38;5;241m=\u001b[39m \u001b[38;5;241m10\u001b[39m\n",
      "\u001b[1;31mTypeError\u001b[0m: 'tuple' object does not support item assignment"
     ]
    }
   ],
   "source": [
    "myTuple[0] = 10 # tuple does not support item assignment"
   ]
  },
  {
   "cell_type": "code",
   "execution_count": 9,
   "id": "08a28597-ae00-4d0f-a6d8-e0c7e61688f0",
   "metadata": {},
   "outputs": [
    {
     "data": {
      "text/plain": [
       "2"
      ]
     },
     "execution_count": 9,
     "metadata": {},
     "output_type": "execute_result"
    }
   ],
   "source": [
    "myTuple.count(1)"
   ]
  },
  {
   "cell_type": "code",
   "execution_count": 15,
   "id": "19f5acb7-e88d-468a-8c4a-333dd981af84",
   "metadata": {},
   "outputs": [
    {
     "data": {
      "text/plain": [
       "4"
      ]
     },
     "execution_count": 15,
     "metadata": {},
     "output_type": "execute_result"
    }
   ],
   "source": [
    "myTuple.index(5)"
   ]
  },
  {
   "cell_type": "code",
   "execution_count": 16,
   "id": "a93d579f-a784-4f53-9354-f294bf58753c",
   "metadata": {},
   "outputs": [
    {
     "data": {
      "text/plain": [
       "1"
      ]
     },
     "execution_count": 16,
     "metadata": {},
     "output_type": "execute_result"
    }
   ],
   "source": [
    "myTuple[0]"
   ]
  },
  {
   "cell_type": "code",
   "execution_count": 17,
   "id": "23cffc06-22f3-4c82-b21e-6a5e3dda85a4",
   "metadata": {},
   "outputs": [],
   "source": [
    "yourTuple = (10,29,40)"
   ]
  },
  {
   "cell_type": "code",
   "execution_count": 18,
   "id": "81202797-3634-420d-ad36-6012b3c8c5ad",
   "metadata": {},
   "outputs": [
    {
     "data": {
      "text/plain": [
       "(1, 1, 2, 3, 5, 4, 10, 29, 40)"
      ]
     },
     "execution_count": 18,
     "metadata": {},
     "output_type": "execute_result"
    }
   ],
   "source": [
    "myTuple + yourTuple"
   ]
  },
  {
   "cell_type": "markdown",
   "id": "e4e10e58-408b-4877-86fe-fc92026909ae",
   "metadata": {},
   "source": [
    "## Dictionary"
   ]
  },
  {
   "cell_type": "code",
   "execution_count": 20,
   "id": "1488a855-6611-47b9-94a5-2512e4b402be",
   "metadata": {},
   "outputs": [],
   "source": [
    "myDict = {\n",
    "    \"name\":\"manish\",\n",
    "    \"age\": 21,\n",
    "    \"height\": 5.6,\n",
    "    \"bloodGroup\": \"AB+\"\n",
    "}"
   ]
  },
  {
   "cell_type": "code",
   "execution_count": 22,
   "id": "e5f12335-2c00-46ed-ba6b-e91a01fad65c",
   "metadata": {},
   "outputs": [
    {
     "data": {
      "text/plain": [
       "{'name': 'manish', 'age': 21, 'height': 5.6, 'bloodGroup': 'AB+'}"
      ]
     },
     "execution_count": 22,
     "metadata": {},
     "output_type": "execute_result"
    }
   ],
   "source": [
    "myDict"
   ]
  },
  {
   "cell_type": "code",
   "execution_count": 24,
   "id": "03aae3be-2bbe-4c85-a951-a4655762b2aa",
   "metadata": {},
   "outputs": [
    {
     "data": {
      "text/plain": [
       "'manish'"
      ]
     },
     "execution_count": 24,
     "metadata": {},
     "output_type": "execute_result"
    }
   ],
   "source": [
    "myDict[\"name\"] # accessing name by using key. \"name\""
   ]
  },
  {
   "cell_type": "code",
   "execution_count": 25,
   "id": "e2e50ea9-945c-4cae-9899-7d3071fba473",
   "metadata": {},
   "outputs": [
    {
     "ename": "KeyError",
     "evalue": "'Hello'",
     "output_type": "error",
     "traceback": [
      "\u001b[1;31m---------------------------------------------------------------------------\u001b[0m",
      "\u001b[1;31mKeyError\u001b[0m                                  Traceback (most recent call last)",
      "Cell \u001b[1;32mIn [25], line 1\u001b[0m\n\u001b[1;32m----> 1\u001b[0m \u001b[43mmyDict\u001b[49m\u001b[43m[\u001b[49m\u001b[38;5;124;43m\"\u001b[39;49m\u001b[38;5;124;43mHello\u001b[39;49m\u001b[38;5;124;43m\"\u001b[39;49m\u001b[43m]\u001b[49m\n",
      "\u001b[1;31mKeyError\u001b[0m: 'Hello'"
     ]
    }
   ],
   "source": [
    "myDict[\"Hello\"]"
   ]
  },
  {
   "cell_type": "code",
   "execution_count": 29,
   "id": "c8da2730-d34a-4382-a401-0eda76cd5fd0",
   "metadata": {},
   "outputs": [
    {
     "data": {
      "text/plain": [
       "True"
      ]
     },
     "execution_count": 29,
     "metadata": {},
     "output_type": "execute_result"
    }
   ],
   "source": [
    "myDict.get(\"Hello\",True)"
   ]
  },
  {
   "cell_type": "markdown",
   "id": "6a22194b-571a-4176-afb2-97ac691f4e0d",
   "metadata": {},
   "source": [
    "### items(), keys(), values() method of dict"
   ]
  },
  {
   "cell_type": "code",
   "execution_count": 38,
   "id": "e0453e88-3138-47a2-b537-a69aa851a90e",
   "metadata": {},
   "outputs": [
    {
     "data": {
      "text/plain": [
       "dict_keys(['name', 'age', 'height', 'bloodGroup'])"
      ]
     },
     "execution_count": 38,
     "metadata": {},
     "output_type": "execute_result"
    }
   ],
   "source": [
    "keys = myDict.keys()\n",
    "keys"
   ]
  },
  {
   "cell_type": "code",
   "execution_count": 39,
   "id": "d7df31e3-368e-4d51-a76f-1701f5fcae68",
   "metadata": {},
   "outputs": [
    {
     "data": {
      "text/plain": [
       "dict_values(['manish', 21, 5.6, 'AB+'])"
      ]
     },
     "execution_count": 39,
     "metadata": {},
     "output_type": "execute_result"
    }
   ],
   "source": [
    "values = myDict.values()\n",
    "values"
   ]
  },
  {
   "cell_type": "code",
   "execution_count": 35,
   "id": "4a4f823c-191f-4e18-bd14-a767c9b0b002",
   "metadata": {},
   "outputs": [
    {
     "data": {
      "text/plain": [
       "dict_keys"
      ]
     },
     "execution_count": 35,
     "metadata": {},
     "output_type": "execute_result"
    }
   ],
   "source": [
    "type(keys)"
   ]
  },
  {
   "cell_type": "code",
   "execution_count": 36,
   "id": "574a762b-2ece-45e0-b025-f91ca10898d2",
   "metadata": {},
   "outputs": [
    {
     "data": {
      "text/plain": [
       "dict_values"
      ]
     },
     "execution_count": 36,
     "metadata": {},
     "output_type": "execute_result"
    }
   ],
   "source": [
    "type(values)"
   ]
  },
  {
   "cell_type": "code",
   "execution_count": 37,
   "id": "04602c8c-ef5c-4c78-8160-4b5352e4a18f",
   "metadata": {},
   "outputs": [
    {
     "data": {
      "text/plain": [
       "dict_items([('name', 'manish'), ('age', 21), ('height', 5.6), ('bloodGroup', 'AB+')])"
      ]
     },
     "execution_count": 37,
     "metadata": {},
     "output_type": "execute_result"
    }
   ],
   "source": [
    "myDict.items()"
   ]
  },
  {
   "cell_type": "markdown",
   "id": "729a0a91-eb2d-4957-af15-4bbc7155883a",
   "metadata": {},
   "source": [
    "### pop() and popitem() methoe of dict"
   ]
  },
  {
   "cell_type": "code",
   "execution_count": 40,
   "id": "9f89f898-45ea-49e5-a02d-7e3d404f9969",
   "metadata": {},
   "outputs": [
    {
     "data": {
      "text/plain": [
       "{'name': 'manish', 'age': 21, 'height': 5.6, 'bloodGroup': 'AB+'}"
      ]
     },
     "execution_count": 40,
     "metadata": {},
     "output_type": "execute_result"
    }
   ],
   "source": [
    "myDict"
   ]
  },
  {
   "cell_type": "code",
   "execution_count": 41,
   "id": "9371c0af-ad09-4718-b354-7eea78841993",
   "metadata": {},
   "outputs": [
    {
     "data": {
      "text/plain": [
       "'AB+'"
      ]
     },
     "execution_count": 41,
     "metadata": {},
     "output_type": "execute_result"
    }
   ],
   "source": [
    "myDict.pop(\"bloodGroup\")"
   ]
  },
  {
   "cell_type": "code",
   "execution_count": 42,
   "id": "7d56ef9d-8208-4df2-b30a-4fd05511bdb1",
   "metadata": {},
   "outputs": [
    {
     "data": {
      "text/plain": [
       "{'name': 'manish', 'age': 21, 'height': 5.6}"
      ]
     },
     "execution_count": 42,
     "metadata": {},
     "output_type": "execute_result"
    }
   ],
   "source": [
    "myDict"
   ]
  },
  {
   "cell_type": "code",
   "execution_count": 43,
   "id": "38c3731c-1512-4837-a1de-2c9762b6016b",
   "metadata": {},
   "outputs": [
    {
     "data": {
      "text/plain": [
       "('height', 5.6)"
      ]
     },
     "execution_count": 43,
     "metadata": {},
     "output_type": "execute_result"
    }
   ],
   "source": [
    "myDict.popitem()"
   ]
  },
  {
   "cell_type": "code",
   "execution_count": 44,
   "id": "85ca0a31-3976-4c4b-8033-32c5c8da373d",
   "metadata": {},
   "outputs": [
    {
     "data": {
      "text/plain": [
       "{'name': 'manish', 'age': 21}"
      ]
     },
     "execution_count": 44,
     "metadata": {},
     "output_type": "execute_result"
    }
   ],
   "source": [
    "myDict"
   ]
  },
  {
   "cell_type": "code",
   "execution_count": 45,
   "id": "b21bf57d-ba0d-4396-bf1d-34d56038e397",
   "metadata": {},
   "outputs": [],
   "source": [
    "myDict[\"height\"] = 5.6\n",
    "myDict[\"bloodGroup\"] = \"B+\""
   ]
  },
  {
   "cell_type": "code",
   "execution_count": 46,
   "id": "36427406-4926-4643-82d7-c1e55a583922",
   "metadata": {},
   "outputs": [
    {
     "data": {
      "text/plain": [
       "{'name': 'manish', 'age': 21, 'height': 5.6, 'bloodGroup': 'B+'}"
      ]
     },
     "execution_count": 46,
     "metadata": {},
     "output_type": "execute_result"
    }
   ],
   "source": [
    "myDict"
   ]
  },
  {
   "cell_type": "code",
   "execution_count": 47,
   "id": "d71d9240-ed1b-4e6d-a7e5-94ef4d1c4cf7",
   "metadata": {},
   "outputs": [
    {
     "data": {
      "text/plain": [
       "('bloodGroup', 'B+')"
      ]
     },
     "execution_count": 47,
     "metadata": {},
     "output_type": "execute_result"
    }
   ],
   "source": [
    "myDict.popitem()"
   ]
  },
  {
   "cell_type": "code",
   "execution_count": 48,
   "id": "4e737c81-3f55-4feb-ac40-3eb87251657f",
   "metadata": {},
   "outputs": [
    {
     "data": {
      "text/plain": [
       "('height', 5.6)"
      ]
     },
     "execution_count": 48,
     "metadata": {},
     "output_type": "execute_result"
    }
   ],
   "source": [
    "myDict.popitem()"
   ]
  },
  {
   "cell_type": "markdown",
   "id": "244ac20b-094c-4bdd-85f8-91dea41b71ed",
   "metadata": {},
   "source": [
    "### setdefault() and update() method"
   ]
  },
  {
   "cell_type": "code",
   "execution_count": 49,
   "id": "9fba53be-6652-4267-879f-4f760ba1dffc",
   "metadata": {},
   "outputs": [
    {
     "data": {
      "text/plain": [
       "5.6"
      ]
     },
     "execution_count": 49,
     "metadata": {},
     "output_type": "execute_result"
    }
   ],
   "source": [
    "myDict.setdefault(\"height\",5.6)"
   ]
  },
  {
   "cell_type": "code",
   "execution_count": 54,
   "id": "3ef844c6-82bb-40db-9db6-246082fa5100",
   "metadata": {},
   "outputs": [
    {
     "data": {
      "text/plain": [
       "'manish'"
      ]
     },
     "execution_count": 54,
     "metadata": {},
     "output_type": "execute_result"
    }
   ],
   "source": [
    "myDict.setdefault(\"name\", \"kuldeep\")\n",
    "# if we use here item assignment operation then it will replace the value."
   ]
  },
  {
   "cell_type": "code",
   "execution_count": 53,
   "id": "53807ef7-b728-44a6-86ac-765b12d82775",
   "metadata": {},
   "outputs": [
    {
     "data": {
      "text/plain": [
       "{'name': 'manish', 'age': 21, 'height': 5.6}"
      ]
     },
     "execution_count": 53,
     "metadata": {},
     "output_type": "execute_result"
    }
   ],
   "source": [
    "myDict"
   ]
  },
  {
   "cell_type": "code",
   "execution_count": 56,
   "id": "00aefb17-1cd1-4d74-8352-f7f040f1b382",
   "metadata": {},
   "outputs": [],
   "source": [
    "myDict[\"name\"] = \"kuldeep\" "
   ]
  },
  {
   "cell_type": "code",
   "execution_count": 57,
   "id": "7123e053-5a85-4797-ac26-0ca89761b62b",
   "metadata": {},
   "outputs": [
    {
     "data": {
      "text/plain": [
       "{'name': 'kuldeep', 'age': 21, 'height': 5.6}"
      ]
     },
     "execution_count": 57,
     "metadata": {},
     "output_type": "execute_result"
    }
   ],
   "source": [
    "myDict"
   ]
  },
  {
   "cell_type": "markdown",
   "id": "58fcddf9-2216-45b5-afca-fd965e3b87df",
   "metadata": {},
   "source": [
    "**update method**"
   ]
  },
  {
   "cell_type": "code",
   "execution_count": 68,
   "id": "06a8d0cf-898a-42c0-8086-267707d60f3d",
   "metadata": {},
   "outputs": [],
   "source": [
    "myDict.update([(\"age\", 22), (\"weight\", 56), (\"bloodGroup\", \"O-\")])"
   ]
  },
  {
   "cell_type": "code",
   "execution_count": 69,
   "id": "a3139db2-f531-4fc8-9b12-9d5cfbb0f9e5",
   "metadata": {},
   "outputs": [
    {
     "data": {
      "text/plain": [
       "{'name': 'kuldeep', 'age': 22, 'height': 5.6, 'weight': 56, 'bloodGroup': 'O-'}"
      ]
     },
     "execution_count": 69,
     "metadata": {},
     "output_type": "execute_result"
    }
   ],
   "source": [
    "myDict"
   ]
  },
  {
   "cell_type": "code",
   "execution_count": 70,
   "id": "ca61b32b-b80c-4897-9670-d763a648793c",
   "metadata": {},
   "outputs": [],
   "source": [
    "myDict.update({\"age\": 28, \"wight\": 45, \"bloodGroup\": \"A+\"})"
   ]
  },
  {
   "cell_type": "code",
   "execution_count": 71,
   "id": "8a050baf-d9e7-4a8d-8a08-1689abd23b69",
   "metadata": {},
   "outputs": [
    {
     "data": {
      "text/plain": [
       "{'name': 'kuldeep',\n",
       " 'age': 28,\n",
       " 'height': 5.6,\n",
       " 'weight': 56,\n",
       " 'bloodGroup': 'A+',\n",
       " 'wight': 45}"
      ]
     },
     "execution_count": 71,
     "metadata": {},
     "output_type": "execute_result"
    }
   ],
   "source": [
    "myDict"
   ]
  },
  {
   "cell_type": "code",
   "execution_count": null,
   "id": "e8b18b15-bb5c-47d3-88e6-058860fefc84",
   "metadata": {},
   "outputs": [],
   "source": []
  },
  {
   "cell_type": "code",
   "execution_count": 30,
   "id": "3a7855a7-fba4-4780-a2ed-f96cfe93609a",
   "metadata": {},
   "outputs": [
    {
     "name": "stdout",
     "output_type": "stream",
     "text": [
      "Help on dict object:\n",
      "\n",
      "class dict(object)\n",
      " |  dict() -> new empty dictionary\n",
      " |  dict(mapping) -> new dictionary initialized from a mapping object's\n",
      " |      (key, value) pairs\n",
      " |  dict(iterable) -> new dictionary initialized as if via:\n",
      " |      d = {}\n",
      " |      for k, v in iterable:\n",
      " |          d[k] = v\n",
      " |  dict(**kwargs) -> new dictionary initialized with the name=value pairs\n",
      " |      in the keyword argument list.  For example:  dict(one=1, two=2)\n",
      " |  \n",
      " |  Built-in subclasses:\n",
      " |      StgDict\n",
      " |  \n",
      " |  Methods defined here:\n",
      " |  \n",
      " |  __contains__(self, key, /)\n",
      " |      True if the dictionary has the specified key, else False.\n",
      " |  \n",
      " |  __delitem__(self, key, /)\n",
      " |      Delete self[key].\n",
      " |  \n",
      " |  __eq__(self, value, /)\n",
      " |      Return self==value.\n",
      " |  \n",
      " |  __ge__(self, value, /)\n",
      " |      Return self>=value.\n",
      " |  \n",
      " |  __getattribute__(self, name, /)\n",
      " |      Return getattr(self, name).\n",
      " |  \n",
      " |  __getitem__(...)\n",
      " |      x.__getitem__(y) <==> x[y]\n",
      " |  \n",
      " |  __gt__(self, value, /)\n",
      " |      Return self>value.\n",
      " |  \n",
      " |  __init__(self, /, *args, **kwargs)\n",
      " |      Initialize self.  See help(type(self)) for accurate signature.\n",
      " |  \n",
      " |  __ior__(self, value, /)\n",
      " |      Return self|=value.\n",
      " |  \n",
      " |  __iter__(self, /)\n",
      " |      Implement iter(self).\n",
      " |  \n",
      " |  __le__(self, value, /)\n",
      " |      Return self<=value.\n",
      " |  \n",
      " |  __len__(self, /)\n",
      " |      Return len(self).\n",
      " |  \n",
      " |  __lt__(self, value, /)\n",
      " |      Return self<value.\n",
      " |  \n",
      " |  __ne__(self, value, /)\n",
      " |      Return self!=value.\n",
      " |  \n",
      " |  __or__(self, value, /)\n",
      " |      Return self|value.\n",
      " |  \n",
      " |  __repr__(self, /)\n",
      " |      Return repr(self).\n",
      " |  \n",
      " |  __reversed__(self, /)\n",
      " |      Return a reverse iterator over the dict keys.\n",
      " |  \n",
      " |  __ror__(self, value, /)\n",
      " |      Return value|self.\n",
      " |  \n",
      " |  __setitem__(self, key, value, /)\n",
      " |      Set self[key] to value.\n",
      " |  \n",
      " |  __sizeof__(...)\n",
      " |      D.__sizeof__() -> size of D in memory, in bytes\n",
      " |  \n",
      " |  clear(...)\n",
      " |      D.clear() -> None.  Remove all items from D.\n",
      " |  \n",
      " |  copy(...)\n",
      " |      D.copy() -> a shallow copy of D\n",
      " |  \n",
      " |  get(self, key, default=None, /)\n",
      " |      Return the value for key if key is in the dictionary, else default.\n",
      " |  \n",
      " |  items(...)\n",
      " |      D.items() -> a set-like object providing a view on D's items\n",
      " |  \n",
      " |  keys(...)\n",
      " |      D.keys() -> a set-like object providing a view on D's keys\n",
      " |  \n",
      " |  pop(...)\n",
      " |      D.pop(k[,d]) -> v, remove specified key and return the corresponding value.\n",
      " |      \n",
      " |      If the key is not found, return the default if given; otherwise,\n",
      " |      raise a KeyError.\n",
      " |  \n",
      " |  popitem(self, /)\n",
      " |      Remove and return a (key, value) pair as a 2-tuple.\n",
      " |      \n",
      " |      Pairs are returned in LIFO (last-in, first-out) order.\n",
      " |      Raises KeyError if the dict is empty.\n",
      " |  \n",
      " |  setdefault(self, key, default=None, /)\n",
      " |      Insert key with a value of default if key is not in the dictionary.\n",
      " |      \n",
      " |      Return the value for key if key is in the dictionary, else default.\n",
      " |  \n",
      " |  update(...)\n",
      " |      D.update([E, ]**F) -> None.  Update D from dict/iterable E and F.\n",
      " |      If E is present and has a .keys() method, then does:  for k in E: D[k] = E[k]\n",
      " |      If E is present and lacks a .keys() method, then does:  for k, v in E: D[k] = v\n",
      " |      In either case, this is followed by: for k in F:  D[k] = F[k]\n",
      " |  \n",
      " |  values(...)\n",
      " |      D.values() -> an object providing a view on D's values\n",
      " |  \n",
      " |  ----------------------------------------------------------------------\n",
      " |  Class methods defined here:\n",
      " |  \n",
      " |  __class_getitem__(...) from builtins.type\n",
      " |      See PEP 585\n",
      " |  \n",
      " |  fromkeys(iterable, value=None, /) from builtins.type\n",
      " |      Create a new dictionary with keys from iterable and values set to value.\n",
      " |  \n",
      " |  ----------------------------------------------------------------------\n",
      " |  Static methods defined here:\n",
      " |  \n",
      " |  __new__(*args, **kwargs) from builtins.type\n",
      " |      Create and return a new object.  See help(type) for accurate signature.\n",
      " |  \n",
      " |  ----------------------------------------------------------------------\n",
      " |  Data and other attributes defined here:\n",
      " |  \n",
      " |  __hash__ = None\n",
      "\n"
     ]
    }
   ],
   "source": [
    "help(myDict)"
   ]
  },
  {
   "cell_type": "code",
   "execution_count": null,
   "id": "28a3e18f-fe24-4a7b-8d07-95113e5f399c",
   "metadata": {},
   "outputs": [],
   "source": []
  }
 ],
 "metadata": {
  "kernelspec": {
   "display_name": "Python 3 (ipykernel)",
   "language": "python",
   "name": "python3"
  },
  "language_info": {
   "codemirror_mode": {
    "name": "ipython",
    "version": 3
   },
   "file_extension": ".py",
   "mimetype": "text/x-python",
   "name": "python",
   "nbconvert_exporter": "python",
   "pygments_lexer": "ipython3",
   "version": "3.10.5"
  }
 },
 "nbformat": 4,
 "nbformat_minor": 5
}
