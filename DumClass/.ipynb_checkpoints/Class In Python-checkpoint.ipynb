{
 "cells": [
  {
   "cell_type": "markdown",
   "id": "3eaddc38-cf7f-4ceb-aea2-b83a34a88f3c",
   "metadata": {},
   "source": [
    "### Class In Python\n",
    "\n",
    "```python\n",
    "class className:\n",
    "    \n",
    "    # Now we need to use constructor if needed.\n",
    "    def __init__(self, arg1, agr2, ..., argn):\n",
    "        # now we can make here attribute of className object\n",
    "        # or we can perform a generel statement operation.\n",
    "        \n",
    "    \n",
    "```"
   ]
  },
  {
   "cell_type": "markdown",
   "id": "29c411e4-e96d-452b-a3be-a2c308cdf19a",
   "metadata": {},
   "source": [
    "**`Task:` 1. Create a class to hold information about a student in its attribute and\n",
    "make a method to display all information**"
   ]
  },
  {
   "cell_type": "code",
   "execution_count": 10,
   "id": "7cbd5efd-0501-40fa-a4b3-e6ca923d0949",
   "metadata": {},
   "outputs": [],
   "source": [
    "class Student:\n",
    "    student = None\n",
    "    # class attribute\n",
    "    def __init__(self,name, age, height, bloodGroup):\n",
    "        self.name = name;\n",
    "        self.age = age;\n",
    "        self.height = height;\n",
    "        self.bloodGroup= bloodGroup\n",
    "        # instance attribute.\n",
    "        \n",
    "    def showInfo(self):\n",
    "        print(\"Name: \", self.name)\n",
    "        print(\"Age: \", self.age)\n",
    "        print(\"Height: \", self.height)\n",
    "        print(\"BlooGroup: \", self.bloodGroup)"
   ]
  },
  {
   "cell_type": "code",
   "execution_count": 11,
   "id": "e028342f-a071-447b-b342-16898c4113a6",
   "metadata": {},
   "outputs": [
    {
     "name": "stdout",
     "output_type": "stream",
     "text": [
      "Name:  Karan\n",
      "Age:  21\n",
      "Height:  5.6\n",
      "BlooGroup:  AB+\n"
     ]
    }
   ],
   "source": [
    "st= Student(\"Karan\", 21, 5.6, \"AB+\")\n",
    "st.showInfo()"
   ]
  },
  {
   "cell_type": "code",
   "execution_count": 3,
   "id": "536826b5-8065-41f9-a77f-ccab035fa0bc",
   "metadata": {},
   "outputs": [
    {
     "data": {
      "text/plain": [
       "'Karan'"
      ]
     },
     "execution_count": 3,
     "metadata": {},
     "output_type": "execute_result"
    }
   ],
   "source": [
    "st.name"
   ]
  },
  {
   "cell_type": "code",
   "execution_count": 12,
   "id": "12d22fce-8be0-4d0f-9f6e-010f6d252556",
   "metadata": {},
   "outputs": [],
   "source": [
    "Student.student"
   ]
  },
  {
   "cell_type": "code",
   "execution_count": 5,
   "id": "fdfc9c72-2422-4549-9d6c-812cd2fe9868",
   "metadata": {},
   "outputs": [
    {
     "data": {
      "text/plain": [
       "5.6"
      ]
     },
     "execution_count": 5,
     "metadata": {},
     "output_type": "execute_result"
    }
   ],
   "source": [
    "st.height"
   ]
  },
  {
   "cell_type": "code",
   "execution_count": 6,
   "id": "58c2f52a-5a91-4d17-9a79-2bc5717fcdfb",
   "metadata": {},
   "outputs": [
    {
     "ename": "AttributeError",
     "evalue": "'Student' object has no attribute 'error'",
     "output_type": "error",
     "traceback": [
      "\u001b[1;31m---------------------------------------------------------------------------\u001b[0m",
      "\u001b[1;31mAttributeError\u001b[0m                            Traceback (most recent call last)",
      "Cell \u001b[1;32mIn [6], line 1\u001b[0m\n\u001b[1;32m----> 1\u001b[0m \u001b[43mst\u001b[49m\u001b[38;5;241;43m.\u001b[39;49m\u001b[43merror\u001b[49m\n",
      "\u001b[1;31mAttributeError\u001b[0m: 'Student' object has no attribute 'error'"
     ]
    }
   ],
   "source": [
    "st.error"
   ]
  },
  {
   "cell_type": "code",
   "execution_count": null,
   "id": "82505bdd-2c95-45fe-92f1-4541665e179f",
   "metadata": {},
   "outputs": [],
   "source": []
  }
 ],
 "metadata": {
  "kernelspec": {
   "display_name": "Python 3 (ipykernel)",
   "language": "python",
   "name": "python3"
  },
  "language_info": {
   "codemirror_mode": {
    "name": "ipython",
    "version": 3
   },
   "file_extension": ".py",
   "mimetype": "text/x-python",
   "name": "python",
   "nbconvert_exporter": "python",
   "pygments_lexer": "ipython3",
   "version": "3.10.5"
  }
 },
 "nbformat": 4,
 "nbformat_minor": 5
}
