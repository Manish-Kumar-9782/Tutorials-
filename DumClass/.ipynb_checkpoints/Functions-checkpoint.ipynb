{
 "cells": [
  {
   "cell_type": "markdown",
   "id": "c08c7616-ea16-41df-8369-fc54775d9663",
   "metadata": {},
   "source": [
    "## Functions In Python"
   ]
  },
  {
   "cell_type": "markdown",
   "id": "4a1d62d9-d7a0-45d5-8740-5d3976d5a58f",
   "metadata": {},
   "source": [
    "```python\n",
    "def <functionName>(<paramterlist>):\n",
    "    # statements\n",
    "    \n",
    "    # optionaly we can provide a return valuel\n",
    "    return something\n",
    "```"
   ]
  },
  {
   "cell_type": "markdown",
   "id": "8b603460-3e08-4524-af92-f794ab7c0a22",
   "metadata": {},
   "source": [
    "**`Question:` Check that whether a number is prime number or not.**"
   ]
  },
  {
   "cell_type": "code",
   "execution_count": 1,
   "id": "bc737194-59d0-498b-8916-b58ecbf877f3",
   "metadata": {},
   "outputs": [],
   "source": [
    "def isPrime(number):\n",
    "    \n",
    "    if number == 1:\n",
    "        return True\n",
    "    \n",
    "    for i in range(2,number):\n",
    "        if number%i == 0:\n",
    "            return False\n",
    "    return True"
   ]
  },
  {
   "cell_type": "code",
   "execution_count": null,
   "id": "7dc4ace0-0549-4ed6-ab2b-f43ddea2969d",
   "metadata": {},
   "outputs": [],
   "source": []
  }
 ],
 "metadata": {
  "kernelspec": {
   "display_name": "Python 3 (ipykernel)",
   "language": "python",
   "name": "python3"
  },
  "language_info": {
   "codemirror_mode": {
    "name": "ipython",
    "version": 3
   },
   "file_extension": ".py",
   "mimetype": "text/x-python",
   "name": "python",
   "nbconvert_exporter": "python",
   "pygments_lexer": "ipython3",
   "version": "3.10.5"
  }
 },
 "nbformat": 4,
 "nbformat_minor": 5
}
