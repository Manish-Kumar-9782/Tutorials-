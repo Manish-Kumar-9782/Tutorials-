{
 "cells": [
  {
   "cell_type": "markdown",
   "id": "fe541970-be28-4679-b31b-05635ef33fb0",
   "metadata": {},
   "source": [
    "### Class in python"
   ]
  },
  {
   "cell_type": "markdown",
   "id": "fa5d0bf1-e9ef-490b-b097-f23ec2857c49",
   "metadata": {},
   "source": [
    "```python\n",
    "class ClassName:\n",
    "    \n",
    "   # constructor\n",
    "   def __init__(self):\n",
    "        # statement \n",
    "\n",
    "```"
   ]
  },
  {
   "cell_type": "code",
   "execution_count": 9,
   "id": "b67ffb29-3182-4ec7-b16b-3639a5df47e0",
   "metadata": {},
   "outputs": [],
   "source": [
    "class Student:\n",
    "    \n",
    "    def __init__(self,name, age, height, bloodGroup):\n",
    "        self.name = name\n",
    "        self.age = age\n",
    "        self.height = height\n",
    "        self.bloodGroup = bloodGroup\n",
    "        \n",
    "    "
   ]
  },
  {
   "cell_type": "code",
   "execution_count": 10,
   "id": "547d94ed-1357-4289-9fe7-eae5b0b3e185",
   "metadata": {},
   "outputs": [],
   "source": [
    "# don't pass self value, \n",
    "firstStudent = Student(\"lokesh\",22,5.6,\"B+\")"
   ]
  },
  {
   "cell_type": "code",
   "execution_count": 7,
   "id": "879370b7-e452-4fa3-a163-412280db0f76",
   "metadata": {},
   "outputs": [
    {
     "data": {
      "text/plain": [
       "'lokesh'"
      ]
     },
     "execution_count": 7,
     "metadata": {},
     "output_type": "execute_result"
    }
   ],
   "source": []
  },
  {
   "cell_type": "markdown",
   "id": "0bf15301-6d00-4a4d-ad58-a1d4240c3a21",
   "metadata": {},
   "source": [
    "**Adding showInfo Function**"
   ]
  },
  {
   "cell_type": "code",
   "execution_count": 20,
   "id": "689e8686-9d9d-4c82-a44b-f28478edcf6b",
   "metadata": {},
   "outputs": [],
   "source": [
    "class Student:\n",
    "    \n",
    "    def __init__(self,name, age, height, bloodGroup):\n",
    "        self.name = name\n",
    "        self.age = age\n",
    "        self.height = height\n",
    "        self.bloodGroup = bloodGroup\n",
    "        \n",
    "    def showInfo(self):\n",
    "        print(\"student object id: \", id(self))\n",
    "        print(\"Student Name: \", self.name)\n",
    "        print(\"Student Age: \", self.age)\n",
    "        print(\"Student Height: \", self.height)\n",
    "        print(\"Student bloodGroup\", self.bloodGroup)\n",
    "    "
   ]
  },
  {
   "cell_type": "code",
   "execution_count": 16,
   "id": "8a7ee4c3-e5ac-4784-8740-fb74c656ea9f",
   "metadata": {},
   "outputs": [],
   "source": [
    "secondStudent = Student(\"Mahesh\", 22, 5.7, \"A+\")"
   ]
  },
  {
   "cell_type": "code",
   "execution_count": 17,
   "id": "325065e7-8909-4bf2-ab93-5c114be64aa5",
   "metadata": {},
   "outputs": [
    {
     "data": {
      "text/plain": [
       "2160847228064"
      ]
     },
     "execution_count": 17,
     "metadata": {},
     "output_type": "execute_result"
    }
   ],
   "source": [
    "id(secondStudent)"
   ]
  },
  {
   "cell_type": "code",
   "execution_count": 18,
   "id": "79e085ed-25fa-41f6-9ae2-e075eae1b283",
   "metadata": {},
   "outputs": [
    {
     "name": "stdout",
     "output_type": "stream",
     "text": [
      "student object id:  2160847228064\n",
      "Student Name:  Mahesh\n",
      "Student Age:  22\n",
      "Student Height:  5.7\n",
      "Student bloodGroup A+\n"
     ]
    }
   ],
   "source": [
    "secondStudent.showInfo()"
   ]
  },
  {
   "cell_type": "code",
   "execution_count": 21,
   "id": "bf67928b-295c-4efe-a250-734f7d829c6c",
   "metadata": {},
   "outputs": [],
   "source": [
    "\n",
    "    "
   ]
  },
  {
   "cell_type": "markdown",
   "id": "a724e7a6-6859-454a-bf5e-4444e795ea02",
   "metadata": {},
   "source": [
    "### Inheritance"
   ]
  },
  {
   "cell_type": "code",
   "execution_count": 22,
   "id": "83d491af-0257-4fad-8481-0cc22046aae3",
   "metadata": {},
   "outputs": [],
   "source": [
    "class Person:\n",
    "    \n",
    "    def __init__(self,name, age, height, bloodGroup):\n",
    "        self.name = name\n",
    "        self.age = age\n",
    "        self.height = height\n",
    "        self.bloodGroup = bloodGroup\n",
    "        \n",
    "    def showInfo(self):\n",
    "        print(\"student object id: \", id(self))\n",
    "        print(\"Student Name: \", self.name)\n",
    "        print(\"Student Age: \", self.age)\n",
    "        print(\"Student Height: \", self.height)\n",
    "        print(\"Student bloodGroup\", self.bloodGroup)"
   ]
  },
  {
   "cell_type": "markdown",
   "id": "f4c56399-863a-4258-8b6b-49f87b96dc8b",
   "metadata": {},
   "source": [
    "**Student Class inheriting Person Class**"
   ]
  },
  {
   "cell_type": "code",
   "execution_count": 26,
   "id": "09c7ea6b-83e7-46ab-a2bd-34f76f9960e3",
   "metadata": {},
   "outputs": [],
   "source": [
    "class Student(Person):\n",
    "    \n",
    "    def __init__(self, name,age,height,bloodGroup,\n",
    "                 rollNo, _class, school, session):\n",
    "        # calling Person constructor by using super() function\n",
    "        # in that constructor passing all the required \n",
    "        # values to person constructor.\n",
    "        super().__init__(name,age,height)\n",
    "        self.rollNo = rollNo\n",
    "        self._class = _class\n",
    "        self.school = school\n",
    "        self.session = session"
   ]
  },
  {
   "cell_type": "code",
   "execution_count": 28,
   "id": "cb063aa0-7f52-4f8a-a283-eb93cd9e9776",
   "metadata": {},
   "outputs": [],
   "source": [
    "thirdStudent = Student(\"Kushal\", 19, 5.5, \"O-\", \n",
    "                       420,11,\"james bond school\", 2024)"
   ]
  },
  {
   "cell_type": "code",
   "execution_count": null,
   "id": "d0e50a24-5d8c-4afa-8819-b1e7ed0c902a",
   "metadata": {},
   "outputs": [],
   "source": []
  }
 ],
 "metadata": {
  "kernelspec": {
   "display_name": "Python 3 (ipykernel)",
   "language": "python",
   "name": "python3"
  },
  "language_info": {
   "codemirror_mode": {
    "name": "ipython",
    "version": 3
   },
   "file_extension": ".py",
   "mimetype": "text/x-python",
   "name": "python",
   "nbconvert_exporter": "python",
   "pygments_lexer": "ipython3",
   "version": "3.10.5"
  }
 },
 "nbformat": 4,
 "nbformat_minor": 5
}
