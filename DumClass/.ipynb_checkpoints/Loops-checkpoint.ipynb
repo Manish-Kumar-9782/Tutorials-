{
 "cells": [
  {
   "cell_type": "code",
   "execution_count": 1,
   "id": "b5698d04-3e4d-47d3-aed4-3c1fe3cf9669",
   "metadata": {},
   "outputs": [
    {
     "name": "stdout",
     "output_type": "stream",
     "text": [
      "Hello world\n"
     ]
    }
   ],
   "source": [
    "print(\"Hello world\")"
   ]
  },
  {
   "cell_type": "code",
   "execution_count": 3,
   "id": "163de115-9d08-4dba-81b1-5bfc4892a550",
   "metadata": {},
   "outputs": [],
   "source": [
    "values = range(1,10)"
   ]
  },
  {
   "cell_type": "code",
   "execution_count": 4,
   "id": "2996fea7-8d40-4006-aae8-59d29dc2f105",
   "metadata": {},
   "outputs": [
    {
     "data": {
      "text/plain": [
       "[1, 2, 3, 4, 5, 6, 7, 8, 9]"
      ]
     },
     "execution_count": 4,
     "metadata": {},
     "output_type": "execute_result"
    }
   ],
   "source": [
    "list(values)"
   ]
  },
  {
   "cell_type": "code",
   "execution_count": 6,
   "id": "1d3c8b82-7054-4c72-b12e-110e816c46f0",
   "metadata": {},
   "outputs": [
    {
     "name": "stdout",
     "output_type": "stream",
     "text": [
      "0\n",
      "1\n",
      "2\n",
      "3\n",
      "4\n",
      "5\n",
      "6\n",
      "7\n",
      "8\n",
      "9\n"
     ]
    }
   ],
   "source": [
    "for i in range(10):\n",
    "    print(i)"
   ]
  },
  {
   "cell_type": "markdown",
   "id": "22be390e-efdc-4409-8707-3fd358f8db77",
   "metadata": {},
   "source": [
    "# while loop"
   ]
  },
  {
   "cell_type": "markdown",
   "id": "069967cc-56dc-4224-9c16-ec53f1560e06",
   "metadata": {},
   "source": [
    "```python\n",
    "while expression:\n",
    "    # statements\n",
    "    # expression --> True or False\n",
    "```"
   ]
  },
  {
   "cell_type": "code",
   "execution_count": 11,
   "id": "25a252c0-fa9a-42fa-a085-bfb4237b0d6b",
   "metadata": {},
   "outputs": [
    {
     "name": "stdout",
     "output_type": "stream",
     "text": [
      "a is :  1\n",
      "a is :  2\n",
      "a is :  3\n",
      "a is :  4\n",
      "a is :  5\n",
      "a is :  6\n",
      "a is :  7\n",
      "a is :  8\n",
      "a is :  9\n"
     ]
    }
   ],
   "source": [
    "a = 1\n",
    "while a < 10:\n",
    "    print(\"a is : \", a)\n",
    "    a += 1\n"
   ]
  },
  {
   "cell_type": "markdown",
   "id": "f7ca3536-0875-4bda-a764-0f5f8c01a72f",
   "metadata": {},
   "source": [
    "### break keyword\n",
    "\n",
    "`break:` it is used to terminate the loop in b/w the iteration. "
   ]
  },
  {
   "cell_type": "code",
   "execution_count": 13,
   "id": "9a639e7c-90f6-4047-a473-f9ccc9514026",
   "metadata": {},
   "outputs": [
    {
     "name": "stdout",
     "output_type": "stream",
     "text": [
      "A is :  1\n",
      "A is :  2\n",
      "A is :  3\n",
      "A is :  4\n",
      "A is :  5\n",
      "we have got 6\n"
     ]
    }
   ],
   "source": [
    "a = 1\n",
    "while a< 100:\n",
    "    if a == 6:\n",
    "        print(\"we have got 6\")\n",
    "        break\n",
    "    print(\"A is : \", a)\n",
    "    a += 1\n",
    "    "
   ]
  },
  {
   "cell_type": "code",
   "execution_count": 17,
   "id": "9472d509-b31b-459f-b436-453067388767",
   "metadata": {},
   "outputs": [
    {
     "name": "stdout",
     "output_type": "stream",
     "text": [
      "A is :  1\n",
      "A is :  2\n",
      "A is :  3\n",
      "A is :  4\n",
      "A is :  5\n",
      "we have got 6\n",
      "A is :  7\n",
      "A is :  8\n",
      "A is :  9\n"
     ]
    }
   ],
   "source": [
    "a = 1\n",
    "while a< 10:\n",
    "    if a == 6:\n",
    "        print(\"we have got 6\")\n",
    "        a += 1\n",
    "        continue\n",
    "    print(\"A is : \", a)\n",
    "    a += 1"
   ]
  },
  {
   "cell_type": "code",
   "execution_count": 20,
   "id": "4fc21a61-7d93-412c-a018-1438765f692e",
   "metadata": {},
   "outputs": [
    {
     "name": "stdout",
     "output_type": "stream",
     "text": [
      "1\n",
      "2\n",
      "3\n",
      "4\n",
      "5\n",
      "6\n"
     ]
    }
   ],
   "source": [
    "myList = [1,2,3,4,5,6]\n",
    "for var in myList:\n",
    "    print(var)"
   ]
  },
  {
   "cell_type": "code",
   "execution_count": 23,
   "id": "d1d39329-111a-458a-88ef-4fa560241109",
   "metadata": {},
   "outputs": [
    {
     "name": "stdout",
     "output_type": "stream",
     "text": [
      "i is:  1\n",
      "i is:  2\n",
      "i is:  3\n",
      "i is:  4\n",
      "i is:  5\n",
      "We have got 7\n",
      "We have got 7\n"
     ]
    }
   ],
   "source": [
    "for i in range(1,10):\n",
    "    if i == 7:\n",
    "        print(\"We have got 7\")\n",
    "        continue\n",
    "    print(\"i is: \", i)"
   ]
  },
  {
   "cell_type": "code",
   "execution_count": null,
   "id": "da4a31ed-d033-4683-903f-cb099ed63760",
   "metadata": {},
   "outputs": [],
   "source": [
    "# even number\n",
    "for i in range(1,100):\n",
    "    if i % 2 != 0:\n",
    "        #print(\"We have got 7\")\n",
    "        continue\n",
    "    print(i, end=\" \")"
   ]
  }
 ],
 "metadata": {
  "kernelspec": {
   "display_name": "Python 3 (ipykernel)",
   "language": "python",
   "name": "python3"
  },
  "language_info": {
   "codemirror_mode": {
    "name": "ipython",
    "version": 3
   },
   "file_extension": ".py",
   "mimetype": "text/x-python",
   "name": "python",
   "nbconvert_exporter": "python",
   "pygments_lexer": "ipython3",
   "version": "3.10.5"
  }
 },
 "nbformat": 4,
 "nbformat_minor": 5
}
