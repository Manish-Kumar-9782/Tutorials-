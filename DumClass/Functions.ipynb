{
 "cells": [
  {
   "cell_type": "markdown",
   "id": "c08c7616-ea16-41df-8369-fc54775d9663",
   "metadata": {},
   "source": [
    "## Functions In Python"
   ]
  },
  {
   "cell_type": "markdown",
   "id": "4a1d62d9-d7a0-45d5-8740-5d3976d5a58f",
   "metadata": {},
   "source": [
    "```python\n",
    "def <functionName>(<paramterlist>):\n",
    "    # statements\n",
    "    \n",
    "    # optionaly we can provide a return valuel\n",
    "    return something\n",
    "```"
   ]
  },
  {
   "cell_type": "markdown",
   "id": "8b603460-3e08-4524-af92-f794ab7c0a22",
   "metadata": {},
   "source": [
    "**`Question:` Check that whether a number is prime number or not.**"
   ]
  },
  {
   "cell_type": "code",
   "execution_count": 2,
   "id": "bc737194-59d0-498b-8916-b58ecbf877f3",
   "metadata": {},
   "outputs": [],
   "source": [
    "def isPrime(number):\n",
    "    \n",
    "    if number == 1:\n",
    "        return True\n",
    "    \n",
    "    for i in range(2,number):\n",
    "        if number%i == 0:\n",
    "            return False\n",
    "    return True"
   ]
  },
  {
   "cell_type": "code",
   "execution_count": 4,
   "id": "7dc4ace0-0549-4ed6-ab2b-f43ddea2969d",
   "metadata": {},
   "outputs": [
    {
     "data": {
      "text/plain": [
       "True"
      ]
     },
     "execution_count": 4,
     "metadata": {},
     "output_type": "execute_result"
    }
   ],
   "source": [
    "isPrime(11)"
   ]
  },
  {
   "cell_type": "markdown",
   "id": "ea2d6372-9a95-4115-96a5-ed2acb6dc236",
   "metadata": {},
   "source": [
    "**`Question: ` find out how many prime number are present in b/w the given range.**"
   ]
  },
  {
   "cell_type": "code",
   "execution_count": 9,
   "id": "89b1ce0b-db4d-40a6-9914-3ca4ab51401b",
   "metadata": {},
   "outputs": [],
   "source": [
    "def primeNumbers(start, end):\n",
    "    numbers = []\n",
    "    for i in range(start, end+1):\n",
    "        if isPrime(i):\n",
    "            numbers.append(i)\n",
    "            \n",
    "    return numbers"
   ]
  },
  {
   "cell_type": "code",
   "execution_count": 12,
   "id": "e8f197de-44df-4ee5-8cb5-7eb941f0c22e",
   "metadata": {},
   "outputs": [
    {
     "name": "stdout",
     "output_type": "stream",
     "text": [
      "total prime number:  5\n",
      "prime numbers:  [1, 2, 3, 5, 7]\n"
     ]
    }
   ],
   "source": [
    "primes = primeNumbers(1,10)\n",
    "print(\"total prime number: \", len(primes))\n",
    "print(\"prime numbers: \", primes)"
   ]
  },
  {
   "cell_type": "markdown",
   "id": "cf5d2baf-0ea5-4407-b49b-d38c98be3910",
   "metadata": {},
   "source": [
    "### Passing argument in random order"
   ]
  },
  {
   "cell_type": "code",
   "execution_count": 20,
   "id": "d8dab495-eb76-4055-ae91-560d8c6180ad",
   "metadata": {},
   "outputs": [],
   "source": [
    "def add(a,b):\n",
    "    print(\"a is: \",a)\n",
    "    print(\"b is: \",b)\n",
    "    return a+b\n"
   ]
  },
  {
   "cell_type": "code",
   "execution_count": 16,
   "id": "fd9497c7-8188-4235-8bb7-7e809dd27474",
   "metadata": {},
   "outputs": [
    {
     "name": "stdout",
     "output_type": "stream",
     "text": [
      "a is:  10\n",
      "b is:  1\n"
     ]
    },
    {
     "data": {
      "text/plain": [
       "11"
      ]
     },
     "execution_count": 16,
     "metadata": {},
     "output_type": "execute_result"
    }
   ],
   "source": [
    "add(10,1) # passing argument in a sequecne"
   ]
  },
  {
   "cell_type": "code",
   "execution_count": 21,
   "id": "01b80fcf-1940-4ce4-be19-937136b348a7",
   "metadata": {},
   "outputs": [
    {
     "name": "stdout",
     "output_type": "stream",
     "text": [
      "a is:  20\n",
      "b is:  1\n"
     ]
    },
    {
     "data": {
      "text/plain": [
       "21"
      ]
     },
     "execution_count": 21,
     "metadata": {},
     "output_type": "execute_result"
    }
   ],
   "source": [
    "add(b =1 , a = 20)"
   ]
  },
  {
   "cell_type": "markdown",
   "id": "aff779ab-4fe4-43ad-870e-b4ef1564f0af",
   "metadata": {},
   "source": [
    "## function with default argument"
   ]
  },
  {
   "cell_type": "code",
   "execution_count": 22,
   "id": "73ac3006-5fdc-4596-bef4-337be2933c35",
   "metadata": {},
   "outputs": [],
   "source": [
    "def student(name,age,height,bloodGroup):\n",
    "    print(\"Name: \", name)\n",
    "    print(\"Age: \", age)\n",
    "    print(\"Height: \", height)\n",
    "    print(\"bloodGroup: \", bloodGroup)"
   ]
  },
  {
   "cell_type": "code",
   "execution_count": 23,
   "id": "a2936e1c-d272-49c9-b4f6-f30301b17b2a",
   "metadata": {},
   "outputs": [
    {
     "name": "stdout",
     "output_type": "stream",
     "text": [
      "Name:  Kushal\n",
      "Age:  21\n",
      "Height:  5.6\n",
      "bloodGroup:  AB+\n"
     ]
    }
   ],
   "source": [
    "student(\"Kushal\", 21, 5.6, \"AB+\")"
   ]
  },
  {
   "cell_type": "code",
   "execution_count": 24,
   "id": "5b27c220-78ae-48cd-80b6-b72c2972a766",
   "metadata": {},
   "outputs": [
    {
     "ename": "SyntaxError",
     "evalue": "non-default argument follows default argument (1512950991.py, line 2)",
     "output_type": "error",
     "traceback": [
      "\u001b[1;36m  Cell \u001b[1;32mIn [24], line 2\u001b[1;36m\u001b[0m\n\u001b[1;33m    def student(name,age,height=20,bloodGroup):\u001b[0m\n\u001b[1;37m                                   ^\u001b[0m\n\u001b[1;31mSyntaxError\u001b[0m\u001b[1;31m:\u001b[0m non-default argument follows default argument\n"
     ]
    }
   ],
   "source": [
    "# a function with default height\n",
    "def student(name,age,height=20,bloodGroup):\n",
    "    print(\"Name: \", name)\n",
    "    print(\"Age: \", age)\n",
    "    print(\"Height: \", height)\n",
    "    print(\"bloodGroup: \", bloodGroup)"
   ]
  },
  {
   "cell_type": "code",
   "execution_count": 27,
   "id": "4fe32d15-ffcd-41dc-946d-1ffaa519ece3",
   "metadata": {},
   "outputs": [],
   "source": [
    "def student(name,age,bloodGroup,height=5.6):\n",
    "    print(\"Name: \", name)\n",
    "    print(\"Age: \", age)\n",
    "    print(\"Height: \", height)\n",
    "    print(\"bloodGroup: \", bloodGroup)"
   ]
  },
  {
   "cell_type": "code",
   "execution_count": 28,
   "id": "5e4d0fdb-6857-4938-b850-bdf3aa6e3032",
   "metadata": {},
   "outputs": [
    {
     "name": "stdout",
     "output_type": "stream",
     "text": [
      "Name:  Kuldeep\n",
      "Age:  21\n",
      "Height:  5.6\n",
      "bloodGroup:  AB+\n"
     ]
    }
   ],
   "source": [
    "student(\"Kuldeep\",21,\"AB+\")"
   ]
  },
  {
   "cell_type": "markdown",
   "id": "682bccaa-aef5-4006-a097-b3262d684d4f",
   "metadata": {},
   "source": [
    "### *args and **kwargs\n",
    "\n",
    "`args:` arguments\n",
    "\n",
    "`kwargs:` keyword arguments"
   ]
  },
  {
   "cell_type": "code",
   "execution_count": 32,
   "id": "90446d15-daef-428c-a016-baf887cb7eae",
   "metadata": {},
   "outputs": [],
   "source": [
    "def add(*args):\n",
    "    print(args)\n",
    "    result = 0\n",
    "    for i in args:\n",
    "        result += i\n",
    "    return result"
   ]
  },
  {
   "cell_type": "code",
   "execution_count": 33,
   "id": "2ebd8ac0-0b38-4e61-bb4e-8f8da93302c7",
   "metadata": {},
   "outputs": [
    {
     "name": "stdout",
     "output_type": "stream",
     "text": [
      "(1, 2, 'hello', 'keloo', 'jello', 5)\n"
     ]
    },
    {
     "ename": "TypeError",
     "evalue": "unsupported operand type(s) for +=: 'int' and 'str'",
     "output_type": "error",
     "traceback": [
      "\u001b[1;31m---------------------------------------------------------------------------\u001b[0m",
      "\u001b[1;31mTypeError\u001b[0m                                 Traceback (most recent call last)",
      "Cell \u001b[1;32mIn [33], line 1\u001b[0m\n\u001b[1;32m----> 1\u001b[0m \u001b[43madd\u001b[49m\u001b[43m(\u001b[49m\u001b[38;5;241;43m1\u001b[39;49m\u001b[43m,\u001b[49m\u001b[38;5;241;43m2\u001b[39;49m\u001b[43m,\u001b[49m\u001b[38;5;124;43m\"\u001b[39;49m\u001b[38;5;124;43mhello\u001b[39;49m\u001b[38;5;124;43m\"\u001b[39;49m\u001b[43m,\u001b[49m\u001b[38;5;124;43m\"\u001b[39;49m\u001b[38;5;124;43mkeloo\u001b[39;49m\u001b[38;5;124;43m\"\u001b[39;49m\u001b[43m,\u001b[49m\u001b[38;5;124;43m\"\u001b[39;49m\u001b[38;5;124;43mjello\u001b[39;49m\u001b[38;5;124;43m\"\u001b[39;49m\u001b[43m,\u001b[49m\u001b[38;5;241;43m5\u001b[39;49m\u001b[43m)\u001b[49m\n",
      "Cell \u001b[1;32mIn [32], line 5\u001b[0m, in \u001b[0;36madd\u001b[1;34m(*args)\u001b[0m\n\u001b[0;32m      3\u001b[0m result \u001b[38;5;241m=\u001b[39m \u001b[38;5;241m0\u001b[39m\n\u001b[0;32m      4\u001b[0m \u001b[38;5;28;01mfor\u001b[39;00m i \u001b[38;5;129;01min\u001b[39;00m args:\n\u001b[1;32m----> 5\u001b[0m     result \u001b[38;5;241m+\u001b[39m\u001b[38;5;241m=\u001b[39m i\n\u001b[0;32m      6\u001b[0m \u001b[38;5;28;01mreturn\u001b[39;00m result\n",
      "\u001b[1;31mTypeError\u001b[0m: unsupported operand type(s) for +=: 'int' and 'str'"
     ]
    }
   ],
   "source": [
    "add(1,2,\"hello\",\"keloo\",\"jello\",5)"
   ]
  },
  {
   "cell_type": "code",
   "execution_count": 34,
   "id": "ce7f2113-5544-434e-aee7-28b534681ee2",
   "metadata": {},
   "outputs": [
    {
     "name": "stdout",
     "output_type": "stream",
     "text": [
      "(1, 2, 3)\n"
     ]
    },
    {
     "data": {
      "text/plain": [
       "6"
      ]
     },
     "execution_count": 34,
     "metadata": {},
     "output_type": "execute_result"
    }
   ],
   "source": [
    "add(1,2,3)"
   ]
  },
  {
   "cell_type": "code",
   "execution_count": 35,
   "id": "790f6b91-3749-486c-8363-3f14b57fb6f7",
   "metadata": {},
   "outputs": [
    {
     "name": "stdout",
     "output_type": "stream",
     "text": [
      "(1, 2, 3, 4, 5, 6, 7, 8, 9, 10)\n"
     ]
    },
    {
     "data": {
      "text/plain": [
       "55"
      ]
     },
     "execution_count": 35,
     "metadata": {},
     "output_type": "execute_result"
    }
   ],
   "source": [
    "add(1,2,3,4,5,6,7,8,9,10)"
   ]
  },
  {
   "cell_type": "markdown",
   "id": "df2fde16-9293-426f-a98f-c2ccae9ca292",
   "metadata": {},
   "source": [
    "### **kwargs"
   ]
  },
  {
   "cell_type": "code",
   "execution_count": 36,
   "id": "0f4f5ce1-1ea4-48fe-b4fc-107d4782e770",
   "metadata": {},
   "outputs": [],
   "source": [
    "def values(**kwargs):\n",
    "    print(kwargs)"
   ]
  },
  {
   "cell_type": "code",
   "execution_count": 37,
   "id": "03dfeb4d-0af6-4862-8457-20e8c7e9ff82",
   "metadata": {},
   "outputs": [
    {
     "name": "stdout",
     "output_type": "stream",
     "text": [
      "{'name': 'kuldeep', 'age': 26, 'height': 5.6, 'bloodGroup': 'O+'}\n"
     ]
    }
   ],
   "source": [
    "values(name=\"kuldeep\", age=26, height=5.6, bloodGroup=\"O+\")"
   ]
  },
  {
   "cell_type": "code",
   "execution_count": 38,
   "id": "adb7c4d1-f91d-4593-91fd-386b2ddfeaf2",
   "metadata": {},
   "outputs": [],
   "source": [
    "def circleArea(radius,**kwargs):\n",
    "    # PI x r^2\n",
    "    return 3.15 * radius * radius"
   ]
  },
  {
   "cell_type": "code",
   "execution_count": 39,
   "id": "056a6d58-e891-4725-acf7-330d9b0f757b",
   "metadata": {},
   "outputs": [
    {
     "ename": "TypeError",
     "evalue": "circleArea() missing 1 required positional argument: 'radius'",
     "output_type": "error",
     "traceback": [
      "\u001b[1;31m---------------------------------------------------------------------------\u001b[0m",
      "\u001b[1;31mTypeError\u001b[0m                                 Traceback (most recent call last)",
      "Cell \u001b[1;32mIn [39], line 1\u001b[0m\n\u001b[1;32m----> 1\u001b[0m \u001b[43mcircleArea\u001b[49m\u001b[43m(\u001b[49m\u001b[43m)\u001b[49m\n",
      "\u001b[1;31mTypeError\u001b[0m: circleArea() missing 1 required positional argument: 'radius'"
     ]
    }
   ],
   "source": [
    "circleArea()"
   ]
  },
  {
   "cell_type": "code",
   "execution_count": 40,
   "id": "4de1bc3e-9e36-43d5-a157-0fe219613917",
   "metadata": {},
   "outputs": [
    {
     "data": {
      "text/plain": [
       "16.663499999999996"
      ]
     },
     "execution_count": 40,
     "metadata": {},
     "output_type": "execute_result"
    }
   ],
   "source": [
    "circleArea(2.3)"
   ]
  },
  {
   "cell_type": "code",
   "execution_count": null,
   "id": "686ccf5d-1dd6-44b6-831f-2849f64dfed5",
   "metadata": {},
   "outputs": [],
   "source": []
  }
 ],
 "metadata": {
  "kernelspec": {
   "display_name": "Python 3 (ipykernel)",
   "language": "python",
   "name": "python3"
  },
  "language_info": {
   "codemirror_mode": {
    "name": "ipython",
    "version": 3
   },
   "file_extension": ".py",
   "mimetype": "text/x-python",
   "name": "python",
   "nbconvert_exporter": "python",
   "pygments_lexer": "ipython3",
   "version": "3.10.5"
  }
 },
 "nbformat": 4,
 "nbformat_minor": 5
}
