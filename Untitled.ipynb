{
 "cells": [
  {
   "cell_type": "code",
   "execution_count": 1,
   "id": "9f26c12f-b1ba-4640-ba44-d07052f76c9b",
   "metadata": {},
   "outputs": [],
   "source": [
    "dict1 = {\"Name\": \"Manihs\",\n",
    "        \"Age\": 26,\n",
    "        \"hight\": 5.5,\n",
    "        \"Contact\": 1234567890}"
   ]
  },
  {
   "cell_type": "code",
   "execution_count": 68,
   "id": "ad71bfdb-5620-441e-b493-3de33430a32b",
   "metadata": {},
   "outputs": [],
   "source": [
    "String = \"Hello tHis is good Python\""
   ]
  },
  {
   "cell_type": "code",
   "execution_count": 69,
   "id": "b89cc779-0834-4072-960b-b5bf184330a6",
   "metadata": {},
   "outputs": [],
   "source": [
    "def CountChar(Str):\n",
    "    \n",
    "    result = {}\n",
    "    \n",
    "    for ch in Str:\n",
    "        if ch in result:\n",
    "            result[ch] += 1\n",
    "        else:\n",
    "            result[ch] = 1  # initial found of that character and increase the number\n",
    "        \n",
    "    return result"
   ]
  },
  {
   "cell_type": "code",
   "execution_count": 81,
   "id": "164674e7-cb68-4623-853c-dda03d261ce8",
   "metadata": {},
   "outputs": [],
   "source": [
    "def CountChar2(Str):\n",
    "    result = {}\n",
    "    for ch in Str:\n",
    "        result.update({ch:result.get(ch,0)+1})\n",
    "        \n",
    "    return result"
   ]
  },
  {
   "cell_type": "code",
   "execution_count": 84,
   "id": "b0165c41-6271-4be3-b102-5be2cab14e24",
   "metadata": {},
   "outputs": [],
   "source": [
    "students = {\"Manish\": [\"Manish\", \"SMDJ\", \"Jagtpura\"],\n",
    "           \"Sagar\": [\"Sager\", \"JCA\", \"Jagatpura\"],\n",
    "           \"Jyoti\": [\"Jyoti\", \"BL\", \"Jhohari\"]}"
   ]
  },
  {
   "cell_type": "code",
   "execution_count": 85,
   "id": "efb9fce3-d975-4766-a0d0-8b25518a2324",
   "metadata": {},
   "outputs": [
    {
     "data": {
      "text/plain": [
       "{'Manish': ['Manish', 'SMDJ', 'Jagtpura'],\n",
       " 'Sagar': ['Sager', 'JCA', 'Jagatpura'],\n",
       " 'Jyoti': ['Jyoti', 'BL', 'Jhohari']}"
      ]
     },
     "execution_count": 85,
     "metadata": {},
     "output_type": "execute_result"
    }
   ],
   "source": [
    "students"
   ]
  },
  {
   "cell_type": "code",
   "execution_count": 128,
   "id": "2ae33e5e-0cab-48f4-8462-459874e3aabc",
   "metadata": {},
   "outputs": [
    {
     "data": {
      "text/plain": [
       "{'Name': 'Manihs', 'Age': 26, 'hight': 5.5, 'Contact': 1234567890}"
      ]
     },
     "execution_count": 128,
     "metadata": {},
     "output_type": "execute_result"
    }
   ],
   "source": [
    "dict1"
   ]
  },
  {
   "cell_type": "code",
   "execution_count": 129,
   "id": "2a3827ff-b494-4b8f-ba55-2ac9550ed6bd",
   "metadata": {},
   "outputs": [
    {
     "data": {
      "text/plain": [
       "dict_keys(['Name', 'Age', 'hight', 'Contact'])"
      ]
     },
     "execution_count": 129,
     "metadata": {},
     "output_type": "execute_result"
    }
   ],
   "source": [
    "dict1.keys()"
   ]
  },
  {
   "cell_type": "code",
   "execution_count": 131,
   "id": "1558b32f-e53b-4d87-9a35-fa0aae2372c3",
   "metadata": {},
   "outputs": [
    {
     "data": {
      "text/plain": [
       "dict_values(['Manihs', 26, 5.5, 1234567890])"
      ]
     },
     "execution_count": 131,
     "metadata": {},
     "output_type": "execute_result"
    }
   ],
   "source": [
    "dict1.values()"
   ]
  },
  {
   "cell_type": "code",
   "execution_count": 133,
   "id": "fc6381c2-0271-4f10-89f7-1f2476930eb0",
   "metadata": {},
   "outputs": [
    {
     "data": {
      "text/plain": [
       "dict_items([('Name', 'Manihs'), ('Age', 26), ('hight', 5.5), ('Contact', 1234567890)])"
      ]
     },
     "execution_count": 133,
     "metadata": {},
     "output_type": "execute_result"
    }
   ],
   "source": [
    "dict1.items()"
   ]
  },
  {
   "cell_type": "code",
   "execution_count": 136,
   "id": "8092e915-4a1a-404c-aa74-0a98f3f62eca",
   "metadata": {},
   "outputs": [],
   "source": [
    "dict1.update({\"Number\": 1234567890})"
   ]
  },
  {
   "cell_type": "code",
   "execution_count": 137,
   "id": "486242b8-6540-4091-8b3b-88c25533648d",
   "metadata": {},
   "outputs": [
    {
     "data": {
      "text/plain": [
       "{'Name': 'Manihs',\n",
       " 'Age': 26,\n",
       " 'hight': 5.5,\n",
       " 'Contact': 1234567890,\n",
       " 'Number': 1234567890}"
      ]
     },
     "execution_count": 137,
     "metadata": {},
     "output_type": "execute_result"
    }
   ],
   "source": [
    "dict1"
   ]
  },
  {
   "cell_type": "code",
   "execution_count": 139,
   "id": "8bb799ab-c783-49c9-aea5-e0c5df7b69dc",
   "metadata": {},
   "outputs": [],
   "source": [
    "def reverseLookup(Dict, value):\n",
    "    \n",
    "    result = []\n",
    "    \n",
    "    for key , val in Dict.items():\n",
    "        if val == value:\n",
    "            result.append(key)\n",
    "            \n",
    "    return result"
   ]
  },
  {
   "cell_type": "code",
   "execution_count": 140,
   "id": "e23123ac-e69f-47b4-a6dd-97ebb05aacdc",
   "metadata": {},
   "outputs": [
    {
     "data": {
      "text/plain": [
       "['Contact', 'Number']"
      ]
     },
     "execution_count": 140,
     "metadata": {},
     "output_type": "execute_result"
    }
   ],
   "source": [
    "reverseLookup(dict1, 1234567890)"
   ]
  },
  {
   "cell_type": "code",
   "execution_count": 141,
   "id": "72709530-edc0-4f88-a4a4-8bfd7f751964",
   "metadata": {},
   "outputs": [],
   "source": [
    "def reverseLookup2(Dict, value):\n",
    "    \n",
    "    result = []\n",
    "    \n",
    "    for key , val in Dict.items():\n",
    "        if val == value:\n",
    "            result.append(key)\n",
    "            \n",
    "    return result"
   ]
  },
  {
   "cell_type": "code",
   "execution_count": 144,
   "id": "e9ef34d2-d260-4a99-b0dc-a055091678e0",
   "metadata": {},
   "outputs": [],
   "source": [
    "def reverseLookup2(data, value):\n",
    "    \n",
    "    keys = []\n",
    "    \n",
    "    for key in data:\n",
    "        if data[key] == value:\n",
    "            keys.append(key)\n",
    "            \n",
    "    return keys"
   ]
  },
  {
   "cell_type": "code",
   "execution_count": 143,
   "id": "67b518dc-a145-4442-8a9b-1d2e2f5ae715",
   "metadata": {},
   "outputs": [
    {
     "name": "stdout",
     "output_type": "stream",
     "text": [
      "Name\n",
      "Age\n",
      "hight\n",
      "Contact\n",
      "Number\n"
     ]
    }
   ],
   "source": [
    "for key in dict1:\n",
    "    print(key)"
   ]
  },
  {
   "cell_type": "code",
   "execution_count": 145,
   "id": "93b27157-009e-42b2-a61e-ea2421ae42e1",
   "metadata": {},
   "outputs": [],
   "source": []
  },
  {
   "cell_type": "code",
   "execution_count": 147,
   "id": "55c8a1f2-da0d-400e-a64e-e3ea2c1af84f",
   "metadata": {},
   "outputs": [
    {
     "data": {
      "text/plain": [
       "['__and__',\n",
       " '__class__',\n",
       " '__contains__',\n",
       " '__delattr__',\n",
       " '__dir__',\n",
       " '__doc__',\n",
       " '__eq__',\n",
       " '__format__',\n",
       " '__ge__',\n",
       " '__getattribute__',\n",
       " '__gt__',\n",
       " '__hash__',\n",
       " '__iand__',\n",
       " '__init__',\n",
       " '__init_subclass__',\n",
       " '__ior__',\n",
       " '__isub__',\n",
       " '__iter__',\n",
       " '__ixor__',\n",
       " '__le__',\n",
       " '__len__',\n",
       " '__lt__',\n",
       " '__ne__',\n",
       " '__new__',\n",
       " '__or__',\n",
       " '__rand__',\n",
       " '__reduce__',\n",
       " '__reduce_ex__',\n",
       " '__repr__',\n",
       " '__ror__',\n",
       " '__rsub__',\n",
       " '__rxor__',\n",
       " '__setattr__',\n",
       " '__sizeof__',\n",
       " '__str__',\n",
       " '__sub__',\n",
       " '__subclasshook__',\n",
       " '__xor__',\n",
       " 'add',\n",
       " 'clear',\n",
       " 'copy',\n",
       " 'difference',\n",
       " 'difference_update',\n",
       " 'discard',\n",
       " 'intersection',\n",
       " 'intersection_update',\n",
       " 'isdisjoint',\n",
       " 'issubset',\n",
       " 'issuperset',\n",
       " 'pop',\n",
       " 'remove',\n",
       " 'symmetric_difference',\n",
       " 'symmetric_difference_update',\n",
       " 'union',\n",
       " 'update']"
      ]
     },
     "execution_count": 147,
     "metadata": {},
     "output_type": "execute_result"
    }
   ],
   "source": [
    "dir(set)"
   ]
  },
  {
   "cell_type": "code",
   "execution_count": 148,
   "id": "35d4ef72-d9ca-4ca9-ac69-fdd7fcaa2260",
   "metadata": {},
   "outputs": [],
   "source": [
    "a = {1,2,3}"
   ]
  },
  {
   "cell_type": "code",
   "execution_count": 151,
   "id": "6ad00f7d-f262-418a-b1b3-16d2d2ea8481",
   "metadata": {},
   "outputs": [],
   "source": [
    "b = {3,2,4,5}"
   ]
  },
  {
   "cell_type": "code",
   "execution_count": 152,
   "id": "7173acc3-fda0-430f-99cd-c30faf96b628",
   "metadata": {},
   "outputs": [
    {
     "data": {
      "text/plain": [
       "{2, 3}"
      ]
     },
     "execution_count": 152,
     "metadata": {},
     "output_type": "execute_result"
    }
   ],
   "source": [
    "a.intersection(b)"
   ]
  },
  {
   "cell_type": "code",
   "execution_count": 153,
   "id": "c439d14e-bbb3-4d63-a525-ea459f80fd68",
   "metadata": {},
   "outputs": [
    {
     "data": {
      "text/plain": [
       "{1, 2, 3, 4, 5}"
      ]
     },
     "execution_count": 153,
     "metadata": {},
     "output_type": "execute_result"
    }
   ],
   "source": [
    "a.union(b)"
   ]
  },
  {
   "cell_type": "code",
   "execution_count": null,
   "id": "dd43fabf-0305-4a8b-a2cb-304476d1209e",
   "metadata": {},
   "outputs": [],
   "source": []
  }
 ],
 "metadata": {
  "kernelspec": {
   "display_name": "Python 3 (ipykernel)",
   "language": "python",
   "name": "python3"
  },
  "language_info": {
   "codemirror_mode": {
    "name": "ipython",
    "version": 3
   },
   "file_extension": ".py",
   "mimetype": "text/x-python",
   "name": "python",
   "nbconvert_exporter": "python",
   "pygments_lexer": "ipython3",
   "version": "3.8.3"
  },
  "toc-autonumbering": false
 },
 "nbformat": 4,
 "nbformat_minor": 5
}
