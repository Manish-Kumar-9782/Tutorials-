{
 "cells": [
  {
   "cell_type": "code",
   "execution_count": 420,
   "id": "aging-relative",
   "metadata": {},
   "outputs": [],
   "source": [
    "import pandas as pd\n",
    "import numpy as np\n",
    "import matplotlib.pyplot as plt\n",
    "import seaborn as sns"
   ]
  },
  {
   "cell_type": "code",
   "execution_count": 421,
   "id": "protective-qatar",
   "metadata": {},
   "outputs": [],
   "source": [
    "adult = open(\"adult.data\")"
   ]
  },
  {
   "cell_type": "code",
   "execution_count": 422,
   "id": "fourth-hungarian",
   "metadata": {},
   "outputs": [],
   "source": [
    "columns = [\n",
    "'age' ,  'type_employer' , 'fnlwgt' ,\n",
    "'education', 'education_num','marital',\n",
    "'occupation','relationship', 'race',\n",
    "'sex', 'capital_gain', 'capital_loss',\n",
    "'hr_per_week', 'country' , 'income'\n",
    "]"
   ]
  },
  {
   "cell_type": "code",
   "execution_count": 423,
   "id": "tired-flooring",
   "metadata": {},
   "outputs": [
    {
     "data": {
      "text/plain": [
       "'39, State-gov, 77516, Bachelors, 13, Never-married, Adm-clerical, Not-in-family, White, Male, 2174, 0, 40, United-States, <=50K\\n'"
      ]
     },
     "execution_count": 423,
     "metadata": {},
     "output_type": "execute_result"
    }
   ],
   "source": [
    "adult.readline()"
   ]
  },
  {
   "cell_type": "markdown",
   "id": "overall-neutral",
   "metadata": {},
   "source": [
    "Since our data is in plain text so we need to prepare this data to readable format, for that we need to split all the column separated by the comma (,). To split the each column data we can use the str.split() method."
   ]
  },
  {
   "cell_type": "code",
   "execution_count": 424,
   "id": "fatal-milton",
   "metadata": {},
   "outputs": [
    {
     "data": {
      "text/plain": [
       "['50',\n",
       " 'Self-emp-not-inc',\n",
       " '83311',\n",
       " 'Bachelors',\n",
       " '13',\n",
       " 'Married-civ-spouse',\n",
       " 'Exec-managerial',\n",
       " 'Husband',\n",
       " 'White',\n",
       " 'Male',\n",
       " '0',\n",
       " '0',\n",
       " '13',\n",
       " 'United-States',\n",
       " '<=50K\\n']"
      ]
     },
     "execution_count": 424,
     "metadata": {},
     "output_type": "execute_result"
    }
   ],
   "source": [
    "line = adult.readline().split(', ')\n",
    "line"
   ]
  },
  {
   "cell_type": "markdown",
   "id": "soviet-dutch",
   "metadata": {},
   "source": [
    "Now if you see the result after splitting the line by comma we  can have our value but these values are still in text format we need to convert their data type before doing some computation on them. As we can see that there are ony two types of data in our dataset. one is the string or text format and the another is in integer.\n",
    "\n",
    "Now the string object will remain same but we need to conver the numerical value in the format of integer."
   ]
  },
  {
   "cell_type": "code",
   "execution_count": 425,
   "id": "lovely-simpson",
   "metadata": {},
   "outputs": [],
   "source": [
    "def chr_int(a):\n",
    "    if a.isdigit() : return int(a)\n",
    "    else : return 0"
   ]
  },
  {
   "cell_type": "code",
   "execution_count": 426,
   "id": "intense-words",
   "metadata": {},
   "outputs": [],
   "source": [
    "data = []\n"
   ]
  },
  {
   "cell_type": "code",
   "execution_count": 427,
   "id": "crazy-interface",
   "metadata": {},
   "outputs": [],
   "source": [
    "for line in adult:\n",
    "    data1 = line.split(\", \")\n",
    "    if len(data1) == 15:\n",
    "        data.append([ chr_int ( data1 [0]) , data1 [1] ,\n",
    "                        chr_int ( data1 [2]) , data1 [3] ,\n",
    "                        chr_int ( data1 [4]) , data1 [5] ,\n",
    "                        data1 [6] , data1 [7] , data1 [8] ,\n",
    "                        data1 [9] , chr_int ( data1 [10]) ,\n",
    "                        chr_int ( data1 [11]) ,\n",
    "                        chr_int ( data1 [12]) ,\n",
    "                        data1 [13] , data1 [14].strip()\n",
    "                        ])\n",
    "        "
   ]
  },
  {
   "cell_type": "markdown",
   "id": "recorded-brick",
   "metadata": {},
   "source": [
    "Now we check the appended data by slicing the data. "
   ]
  },
  {
   "cell_type": "code",
   "execution_count": 428,
   "id": "electronic-accountability",
   "metadata": {},
   "outputs": [
    {
     "name": "stdout",
     "output_type": "stream",
     "text": [
      "[38, 'Private', 215646, 'HS-grad', 9, 'Divorced', 'Handlers-cleaners', 'Not-in-family', 'White', 'Male', 0, 0, 40, 'United-States', '<=50K']\n",
      "[53, 'Private', 234721, '11th', 7, 'Married-civ-spouse', 'Handlers-cleaners', 'Husband', 'Black', 'Male', 0, 0, 40, 'United-States', '<=50K']\n",
      "[28, 'Private', 338409, 'Bachelors', 13, 'Married-civ-spouse', 'Prof-specialty', 'Wife', 'Black', 'Female', 0, 0, 40, 'Cuba', '<=50K']\n",
      "[37, 'Private', 284582, 'Masters', 14, 'Married-civ-spouse', 'Exec-managerial', 'Wife', 'White', 'Female', 0, 0, 40, 'United-States', '<=50K']\n",
      "[49, 'Private', 160187, '9th', 5, 'Married-spouse-absent', 'Other-service', 'Not-in-family', 'Black', 'Female', 0, 0, 16, 'Jamaica', '<=50K']\n",
      "[52, 'Self-emp-not-inc', 209642, 'HS-grad', 9, 'Married-civ-spouse', 'Exec-managerial', 'Husband', 'White', 'Male', 0, 0, 45, 'United-States', '>50K']\n",
      "[31, 'Private', 45781, 'Masters', 14, 'Never-married', 'Prof-specialty', 'Not-in-family', 'White', 'Female', 14084, 0, 50, 'United-States', '>50K']\n",
      "[42, 'Private', 159449, 'Bachelors', 13, 'Married-civ-spouse', 'Exec-managerial', 'Husband', 'White', 'Male', 5178, 0, 40, 'United-States', '>50K']\n",
      "[37, 'Private', 280464, 'Some-college', 10, 'Married-civ-spouse', 'Exec-managerial', 'Husband', 'Black', 'Male', 0, 0, 80, 'United-States', '>50K']\n",
      "[30, 'State-gov', 141297, 'Bachelors', 13, 'Married-civ-spouse', 'Prof-specialty', 'Husband', 'Asian-Pac-Islander', 'Male', 0, 0, 40, 'India', '>50K']\n"
     ]
    }
   ],
   "source": [
    "for line in data[:10]:\n",
    "    print(line)"
   ]
  },
  {
   "cell_type": "markdown",
   "id": "affected-lyric",
   "metadata": {},
   "source": [
    "Now we will put this data into a DataFrame by using the pandas module"
   ]
  },
  {
   "cell_type": "code",
   "execution_count": 429,
   "id": "invisible-headquarters",
   "metadata": {},
   "outputs": [],
   "source": [
    "df = pd.DataFrame(data, columns=columns)"
   ]
  },
  {
   "cell_type": "code",
   "execution_count": 430,
   "id": "understood-neutral",
   "metadata": {},
   "outputs": [
    {
     "data": {
      "text/html": [
       "<div>\n",
       "<style scoped>\n",
       "    .dataframe tbody tr th:only-of-type {\n",
       "        vertical-align: middle;\n",
       "    }\n",
       "\n",
       "    .dataframe tbody tr th {\n",
       "        vertical-align: top;\n",
       "    }\n",
       "\n",
       "    .dataframe thead th {\n",
       "        text-align: right;\n",
       "    }\n",
       "</style>\n",
       "<table border=\"1\" class=\"dataframe\">\n",
       "  <thead>\n",
       "    <tr style=\"text-align: right;\">\n",
       "      <th></th>\n",
       "      <th>age</th>\n",
       "      <th>type_employer</th>\n",
       "      <th>fnlwgt</th>\n",
       "      <th>education</th>\n",
       "      <th>education_num</th>\n",
       "      <th>marital</th>\n",
       "      <th>occupation</th>\n",
       "      <th>relationship</th>\n",
       "      <th>race</th>\n",
       "      <th>sex</th>\n",
       "      <th>capital_gain</th>\n",
       "      <th>capital_loss</th>\n",
       "      <th>hr_per_week</th>\n",
       "      <th>country</th>\n",
       "      <th>income</th>\n",
       "    </tr>\n",
       "  </thead>\n",
       "  <tbody>\n",
       "    <tr>\n",
       "      <th>0</th>\n",
       "      <td>38</td>\n",
       "      <td>Private</td>\n",
       "      <td>215646</td>\n",
       "      <td>HS-grad</td>\n",
       "      <td>9</td>\n",
       "      <td>Divorced</td>\n",
       "      <td>Handlers-cleaners</td>\n",
       "      <td>Not-in-family</td>\n",
       "      <td>White</td>\n",
       "      <td>Male</td>\n",
       "      <td>0</td>\n",
       "      <td>0</td>\n",
       "      <td>40</td>\n",
       "      <td>United-States</td>\n",
       "      <td>&lt;=50K</td>\n",
       "    </tr>\n",
       "    <tr>\n",
       "      <th>1</th>\n",
       "      <td>53</td>\n",
       "      <td>Private</td>\n",
       "      <td>234721</td>\n",
       "      <td>11th</td>\n",
       "      <td>7</td>\n",
       "      <td>Married-civ-spouse</td>\n",
       "      <td>Handlers-cleaners</td>\n",
       "      <td>Husband</td>\n",
       "      <td>Black</td>\n",
       "      <td>Male</td>\n",
       "      <td>0</td>\n",
       "      <td>0</td>\n",
       "      <td>40</td>\n",
       "      <td>United-States</td>\n",
       "      <td>&lt;=50K</td>\n",
       "    </tr>\n",
       "    <tr>\n",
       "      <th>2</th>\n",
       "      <td>28</td>\n",
       "      <td>Private</td>\n",
       "      <td>338409</td>\n",
       "      <td>Bachelors</td>\n",
       "      <td>13</td>\n",
       "      <td>Married-civ-spouse</td>\n",
       "      <td>Prof-specialty</td>\n",
       "      <td>Wife</td>\n",
       "      <td>Black</td>\n",
       "      <td>Female</td>\n",
       "      <td>0</td>\n",
       "      <td>0</td>\n",
       "      <td>40</td>\n",
       "      <td>Cuba</td>\n",
       "      <td>&lt;=50K</td>\n",
       "    </tr>\n",
       "    <tr>\n",
       "      <th>3</th>\n",
       "      <td>37</td>\n",
       "      <td>Private</td>\n",
       "      <td>284582</td>\n",
       "      <td>Masters</td>\n",
       "      <td>14</td>\n",
       "      <td>Married-civ-spouse</td>\n",
       "      <td>Exec-managerial</td>\n",
       "      <td>Wife</td>\n",
       "      <td>White</td>\n",
       "      <td>Female</td>\n",
       "      <td>0</td>\n",
       "      <td>0</td>\n",
       "      <td>40</td>\n",
       "      <td>United-States</td>\n",
       "      <td>&lt;=50K</td>\n",
       "    </tr>\n",
       "    <tr>\n",
       "      <th>4</th>\n",
       "      <td>49</td>\n",
       "      <td>Private</td>\n",
       "      <td>160187</td>\n",
       "      <td>9th</td>\n",
       "      <td>5</td>\n",
       "      <td>Married-spouse-absent</td>\n",
       "      <td>Other-service</td>\n",
       "      <td>Not-in-family</td>\n",
       "      <td>Black</td>\n",
       "      <td>Female</td>\n",
       "      <td>0</td>\n",
       "      <td>0</td>\n",
       "      <td>16</td>\n",
       "      <td>Jamaica</td>\n",
       "      <td>&lt;=50K</td>\n",
       "    </tr>\n",
       "  </tbody>\n",
       "</table>\n",
       "</div>"
      ],
      "text/plain": [
       "   age type_employer  fnlwgt  education  education_num                marital  \\\n",
       "0   38       Private  215646    HS-grad              9               Divorced   \n",
       "1   53       Private  234721       11th              7     Married-civ-spouse   \n",
       "2   28       Private  338409  Bachelors             13     Married-civ-spouse   \n",
       "3   37       Private  284582    Masters             14     Married-civ-spouse   \n",
       "4   49       Private  160187        9th              5  Married-spouse-absent   \n",
       "\n",
       "          occupation   relationship   race     sex  capital_gain  \\\n",
       "0  Handlers-cleaners  Not-in-family  White    Male             0   \n",
       "1  Handlers-cleaners        Husband  Black    Male             0   \n",
       "2     Prof-specialty           Wife  Black  Female             0   \n",
       "3    Exec-managerial           Wife  White  Female             0   \n",
       "4      Other-service  Not-in-family  Black  Female             0   \n",
       "\n",
       "   capital_loss  hr_per_week        country income  \n",
       "0             0           40  United-States  <=50K  \n",
       "1             0           40  United-States  <=50K  \n",
       "2             0           40           Cuba  <=50K  \n",
       "3             0           40  United-States  <=50K  \n",
       "4             0           16        Jamaica  <=50K  "
      ]
     },
     "execution_count": 430,
     "metadata": {},
     "output_type": "execute_result"
    }
   ],
   "source": [
    "df.head()"
   ]
  },
  {
   "cell_type": "markdown",
   "id": "tender-litigation",
   "metadata": {},
   "source": [
    "Now our data is ready to do some preprocessing steps on the data. Now we can perform cleaning, fitering, handling missing values etc. but before moving ahead we will put all the above code in one fucntion so we dont have to write the each line again and again."
   ]
  },
  {
   "cell_type": "code",
   "execution_count": 431,
   "id": "figured-bracket",
   "metadata": {},
   "outputs": [],
   "source": [
    "def get_adultdata(file = \"adult.data\"):\n",
    "    \n",
    "    data = []\n",
    "    columns = [ 'age' ,  'type_employer' , 'fnlwgt' ,\n",
    "                'education', 'education_num','marital',\n",
    "                'occupation','relationship', 'race',\n",
    "                'sex', 'capital_gain', 'capital_loss',\n",
    "                'hr_per_week', 'country' , 'income'\n",
    "                ]\n",
    "    with open(file, 'r') as adult:\n",
    "        \n",
    "        for line in adult:\n",
    "            data1 = line.split(\", \")\n",
    "            if len(data1) == 15:\n",
    "                data.append([ chr_int ( data1 [0]) , data1 [1] ,\n",
    "                                chr_int ( data1 [2]) , data1 [3] ,\n",
    "                                chr_int ( data1 [4]) , data1 [5] ,\n",
    "                                data1 [6] , data1 [7] , data1 [8] ,\n",
    "                                data1 [9] , chr_int ( data1 [10]) ,\n",
    "                                chr_int ( data1 [11]) ,\n",
    "                                chr_int ( data1 [12]) ,\n",
    "                                data1 [13] , data1 [14].strip()\n",
    "                                ])\n",
    "        \n",
    "        df = pd.DataFrame(data, columns=columns)\n",
    "        \n",
    "        return df"
   ]
  },
  {
   "cell_type": "code",
   "execution_count": 432,
   "id": "approved-midnight",
   "metadata": {},
   "outputs": [],
   "source": [
    "data = get_adultdata()"
   ]
  },
  {
   "cell_type": "code",
   "execution_count": 433,
   "id": "professional-aircraft",
   "metadata": {},
   "outputs": [
    {
     "data": {
      "text/html": [
       "<div>\n",
       "<style scoped>\n",
       "    .dataframe tbody tr th:only-of-type {\n",
       "        vertical-align: middle;\n",
       "    }\n",
       "\n",
       "    .dataframe tbody tr th {\n",
       "        vertical-align: top;\n",
       "    }\n",
       "\n",
       "    .dataframe thead th {\n",
       "        text-align: right;\n",
       "    }\n",
       "</style>\n",
       "<table border=\"1\" class=\"dataframe\">\n",
       "  <thead>\n",
       "    <tr style=\"text-align: right;\">\n",
       "      <th></th>\n",
       "      <th>age</th>\n",
       "      <th>type_employer</th>\n",
       "      <th>fnlwgt</th>\n",
       "      <th>education</th>\n",
       "      <th>education_num</th>\n",
       "      <th>marital</th>\n",
       "      <th>occupation</th>\n",
       "      <th>relationship</th>\n",
       "      <th>race</th>\n",
       "      <th>sex</th>\n",
       "      <th>capital_gain</th>\n",
       "      <th>capital_loss</th>\n",
       "      <th>hr_per_week</th>\n",
       "      <th>country</th>\n",
       "      <th>income</th>\n",
       "    </tr>\n",
       "  </thead>\n",
       "  <tbody>\n",
       "    <tr>\n",
       "      <th>0</th>\n",
       "      <td>39</td>\n",
       "      <td>State-gov</td>\n",
       "      <td>77516</td>\n",
       "      <td>Bachelors</td>\n",
       "      <td>13</td>\n",
       "      <td>Never-married</td>\n",
       "      <td>Adm-clerical</td>\n",
       "      <td>Not-in-family</td>\n",
       "      <td>White</td>\n",
       "      <td>Male</td>\n",
       "      <td>2174</td>\n",
       "      <td>0</td>\n",
       "      <td>40</td>\n",
       "      <td>United-States</td>\n",
       "      <td>&lt;=50K</td>\n",
       "    </tr>\n",
       "    <tr>\n",
       "      <th>1</th>\n",
       "      <td>50</td>\n",
       "      <td>Self-emp-not-inc</td>\n",
       "      <td>83311</td>\n",
       "      <td>Bachelors</td>\n",
       "      <td>13</td>\n",
       "      <td>Married-civ-spouse</td>\n",
       "      <td>Exec-managerial</td>\n",
       "      <td>Husband</td>\n",
       "      <td>White</td>\n",
       "      <td>Male</td>\n",
       "      <td>0</td>\n",
       "      <td>0</td>\n",
       "      <td>13</td>\n",
       "      <td>United-States</td>\n",
       "      <td>&lt;=50K</td>\n",
       "    </tr>\n",
       "    <tr>\n",
       "      <th>2</th>\n",
       "      <td>38</td>\n",
       "      <td>Private</td>\n",
       "      <td>215646</td>\n",
       "      <td>HS-grad</td>\n",
       "      <td>9</td>\n",
       "      <td>Divorced</td>\n",
       "      <td>Handlers-cleaners</td>\n",
       "      <td>Not-in-family</td>\n",
       "      <td>White</td>\n",
       "      <td>Male</td>\n",
       "      <td>0</td>\n",
       "      <td>0</td>\n",
       "      <td>40</td>\n",
       "      <td>United-States</td>\n",
       "      <td>&lt;=50K</td>\n",
       "    </tr>\n",
       "    <tr>\n",
       "      <th>3</th>\n",
       "      <td>53</td>\n",
       "      <td>Private</td>\n",
       "      <td>234721</td>\n",
       "      <td>11th</td>\n",
       "      <td>7</td>\n",
       "      <td>Married-civ-spouse</td>\n",
       "      <td>Handlers-cleaners</td>\n",
       "      <td>Husband</td>\n",
       "      <td>Black</td>\n",
       "      <td>Male</td>\n",
       "      <td>0</td>\n",
       "      <td>0</td>\n",
       "      <td>40</td>\n",
       "      <td>United-States</td>\n",
       "      <td>&lt;=50K</td>\n",
       "    </tr>\n",
       "    <tr>\n",
       "      <th>4</th>\n",
       "      <td>28</td>\n",
       "      <td>Private</td>\n",
       "      <td>338409</td>\n",
       "      <td>Bachelors</td>\n",
       "      <td>13</td>\n",
       "      <td>Married-civ-spouse</td>\n",
       "      <td>Prof-specialty</td>\n",
       "      <td>Wife</td>\n",
       "      <td>Black</td>\n",
       "      <td>Female</td>\n",
       "      <td>0</td>\n",
       "      <td>0</td>\n",
       "      <td>40</td>\n",
       "      <td>Cuba</td>\n",
       "      <td>&lt;=50K</td>\n",
       "    </tr>\n",
       "  </tbody>\n",
       "</table>\n",
       "</div>"
      ],
      "text/plain": [
       "   age     type_employer  fnlwgt  education  education_num  \\\n",
       "0   39         State-gov   77516  Bachelors             13   \n",
       "1   50  Self-emp-not-inc   83311  Bachelors             13   \n",
       "2   38           Private  215646    HS-grad              9   \n",
       "3   53           Private  234721       11th              7   \n",
       "4   28           Private  338409  Bachelors             13   \n",
       "\n",
       "              marital         occupation   relationship   race     sex  \\\n",
       "0       Never-married       Adm-clerical  Not-in-family  White    Male   \n",
       "1  Married-civ-spouse    Exec-managerial        Husband  White    Male   \n",
       "2            Divorced  Handlers-cleaners  Not-in-family  White    Male   \n",
       "3  Married-civ-spouse  Handlers-cleaners        Husband  Black    Male   \n",
       "4  Married-civ-spouse     Prof-specialty           Wife  Black  Female   \n",
       "\n",
       "   capital_gain  capital_loss  hr_per_week        country income  \n",
       "0          2174             0           40  United-States  <=50K  \n",
       "1             0             0           13  United-States  <=50K  \n",
       "2             0             0           40  United-States  <=50K  \n",
       "3             0             0           40  United-States  <=50K  \n",
       "4             0             0           40           Cuba  <=50K  "
      ]
     },
     "execution_count": 433,
     "metadata": {},
     "output_type": "execute_result"
    }
   ],
   "source": [
    "data.head()"
   ]
  },
  {
   "cell_type": "markdown",
   "id": "conventional-romania",
   "metadata": {},
   "source": [
    "#### Checking the number of items by country\n",
    "\n",
    "To check the number of items by country we can perform the groupby function and after that we can perform size() aggrigate method on it."
   ]
  },
  {
   "cell_type": "code",
   "execution_count": 434,
   "id": "above-calendar",
   "metadata": {},
   "outputs": [],
   "source": [
    "cout_items = df.groupby(\"country\").size()"
   ]
  },
  {
   "cell_type": "code",
   "execution_count": 435,
   "id": "contrary-african",
   "metadata": {},
   "outputs": [
    {
     "name": "stdout",
     "output_type": "stream",
     "text": [
      "country\n",
      "?                               583\n",
      "Cambodia                         19\n",
      "Canada                          121\n",
      "China                            75\n",
      "Columbia                         59\n",
      "Cuba                             95\n",
      "Dominican-Republic               70\n",
      "Ecuador                          28\n",
      "El-Salvador                     106\n",
      "England                          90\n",
      "France                           29\n",
      "Germany                         137\n",
      "Greece                           29\n",
      "Guatemala                        64\n",
      "Haiti                            44\n",
      "Holand-Netherlands                1\n",
      "Honduras                         13\n",
      "Hong                             20\n",
      "Hungary                          13\n",
      "India                           100\n",
      "Iran                             43\n",
      "Ireland                          24\n",
      "Italy                            73\n",
      "Jamaica                          81\n",
      "Japan                            62\n",
      "Laos                             18\n",
      "Mexico                          643\n",
      "Nicaragua                        34\n",
      "Outlying-US(Guam-USVI-etc)       14\n",
      "Peru                             31\n",
      "Philippines                     198\n",
      "Poland                           60\n",
      "Portugal                         37\n",
      "Puerto-Rico                     114\n",
      "Scotland                         12\n",
      "South                            80\n",
      "Taiwan                           51\n",
      "Thailand                         18\n",
      "Trinadad&Tobago                  19\n",
      "United-States                 29168\n",
      "Vietnam                          67\n",
      "Yugoslavia                       16\n",
      "dtype: int64\n"
     ]
    }
   ],
   "source": [
    "print(cout_items)"
   ]
  },
  {
   "cell_type": "markdown",
   "id": "acknowledged-switzerland",
   "metadata": {},
   "source": [
    "Now we can see that we have got items per country and there are 583 items which do not have any country value."
   ]
  },
  {
   "cell_type": "code",
   "execution_count": 436,
   "id": "attempted-maximum",
   "metadata": {},
   "outputs": [
    {
     "data": {
      "text/plain": [
       "37.0"
      ]
     },
     "execution_count": 436,
     "metadata": {},
     "output_type": "execute_result"
    }
   ],
   "source": [
    "df[\"age\"].median()"
   ]
  },
  {
   "cell_type": "code",
   "execution_count": 437,
   "id": "piano-success",
   "metadata": {},
   "outputs": [
    {
     "data": {
      "text/plain": [
       "<AxesSubplot:>"
      ]
     },
     "execution_count": 437,
     "metadata": {},
     "output_type": "execute_result"
    },
    {
     "data": {
      "image/png": "[encoded data removed]",
      "text/plain": [
       "<Figure size 720x504 with 1 Axes>"
      ]
     },
     "metadata": {
      "needs_background": "light"
     },
     "output_type": "display_data"
    }
   ],
   "source": [
    "df[\"age\"].hist(bins=40, figsize=(10,7))"
   ]
  },
  {
   "cell_type": "code",
   "execution_count": null,
   "id": "detected-thong",
   "metadata": {},
   "outputs": [],
   "source": []
  },
  {
   "cell_type": "code",
   "execution_count": 438,
   "id": "rolled-participant",
   "metadata": {},
   "outputs": [],
   "source": [
    "male1 = df.loc[(df.sex == 'Male') & (df.income == \">50K\")]\n",
    "male = df.loc[(df.sex == 'Male')]\n",
    "male_median_before = male.median()"
   ]
  },
  {
   "cell_type": "code",
   "execution_count": 439,
   "id": "chronic-kruger",
   "metadata": {},
   "outputs": [],
   "source": [
    "female = df.loc[(df.sex == 'Female')]\n",
    "female1 = df.loc[(df.sex == 'Female') & (df.income == \">50K\")]\n",
    "female_median_before = female.median()"
   ]
  },
  {
   "cell_type": "code",
   "execution_count": 440,
   "id": "detected-mirror",
   "metadata": {},
   "outputs": [
    {
     "data": {
      "text/plain": [
       "0        Male\n",
       "1        Male\n",
       "5        Male\n",
       "7        Male\n",
       "8        Male\n",
       "         ... \n",
       "32551    Male\n",
       "32552    Male\n",
       "32553    Male\n",
       "32555    Male\n",
       "32557    Male\n",
       "Name: sex, Length: 21788, dtype: object"
      ]
     },
     "execution_count": 440,
     "metadata": {},
     "output_type": "execute_result"
    }
   ],
   "source": [
    "df.sex[df.sex == 'Male']"
   ]
  },
  {
   "cell_type": "code",
   "execution_count": 441,
   "id": "competitive-diversity",
   "metadata": {},
   "outputs": [
    {
     "data": {
      "text/plain": [
       "Text(0, 0.5, 'male samples')"
      ]
     },
     "execution_count": 441,
     "metadata": {},
     "output_type": "execute_result"
    },
    {
     "data": {
      "image/png": "[encoded data removed]",
      "text/plain": [
       "<Figure size 864x648 with 1 Axes>"
      ]
     },
     "metadata": {
      "needs_background": "light"
     },
     "output_type": "display_data"
    }
   ],
   "source": [
    "a = male.age.hist(figsize=(12,9), bins=40)\n",
    "a.set_xlabel(\"Male's Age\", fontsize=20, loc='center')\n",
    "a.set_ylabel(\"male samples\",  fontsize=20)"
   ]
  },
  {
   "cell_type": "code",
   "execution_count": 442,
   "id": "valued-participant",
   "metadata": {},
   "outputs": [
    {
     "data": {
      "text/plain": [
       "Text(0, 0.5, 'female samples')"
      ]
     },
     "execution_count": 442,
     "metadata": {},
     "output_type": "execute_result"
    },
    {
     "data": {
      "image/png": "[encoded data removed]",
      "text/plain": [
       "<Figure size 864x648 with 1 Axes>"
      ]
     },
     "metadata": {
      "needs_background": "light"
     },
     "output_type": "display_data"
    }
   ],
   "source": [
    "a = female.age.hist(figsize=(12,9), bins=40, histtype = \"stepfilled\" )\n",
    "a.set_xlabel(\"Female's Age\", fontsize=20, loc='center')\n",
    "a.set_ylabel(\"female samples\",  fontsize=20)"
   ]
  },
  {
   "cell_type": "markdown",
   "id": "adjustable-collaboration",
   "metadata": {},
   "source": [
    "#### Overlapping of ages of male and female samples"
   ]
  },
  {
   "cell_type": "code",
   "execution_count": 443,
   "id": "indonesian-strap",
   "metadata": {},
   "outputs": [
    {
     "data": {
      "text/plain": [
       "Text(0, 0.5, 'samples')"
      ]
     },
     "execution_count": 443,
     "metadata": {},
     "output_type": "execute_result"
    },
    {
     "data": {
      "image/png": "[encoded data removed]",
      "text/plain": [
       "<Figure size 864x648 with 1 Axes>"
      ]
     },
     "metadata": {
      "needs_background": "light"
     },
     "output_type": "display_data"
    }
   ],
   "source": [
    "male.age.hist(figsize=(12,9), bins=40, histtype = \"stepfilled\" , color='blue', alpha=0.5, label='Male')\n",
    "a = female.age.hist(figsize=(12,9), bins=40, histtype = \"stepfilled\" ,color=\"red\", alpha=0.5, label = 'Female')\n",
    "a = female.age.hist(figsize=(12,9), bins=40, histtype = \"stepfilled\" ,color=\"red\", alpha=0.0, legend = True)\n",
    "a.set_xlabel(\"Age\", fontsize=20, loc='center')\n",
    "a.set_ylabel(\"samples\",  fontsize=20)\n"
   ]
  },
  {
   "cell_type": "code",
   "execution_count": 444,
   "id": "blank-thesaurus",
   "metadata": {},
   "outputs": [
    {
     "data": {
      "text/plain": [
       "22"
      ]
     },
     "execution_count": 444,
     "metadata": {},
     "output_type": "execute_result"
    }
   ],
   "source": [
    "37-15"
   ]
  },
  {
   "cell_type": "markdown",
   "id": "spoken-program",
   "metadata": {},
   "source": [
    "### Removing Outlier  (Outlier Treatment)\n",
    "we are interested in the age statistics of men bersus women with high incomes and we can see that in our dataset, the minimum age is 17 years and the maximum is 90 years. we can consider that some of these samples are due to error or are not representable.\n",
    "\n",
    "Applying the domain knowledge, we focus on the median age (37, in our case ) up to 72 and down to 22 years old, and we consider the rest as outliers."
   ]
  },
  {
   "cell_type": "code",
   "execution_count": 445,
   "id": "younger-water",
   "metadata": {},
   "outputs": [],
   "source": [
    "# removing the outliers below the 22 and greater than 72\n",
    "\n",
    "outliers = df.drop(df.index[(df.income == \">50K\" ) & (df.age > df.age.median()+32)&(df.age > df.age.median()-15)])"
   ]
  },
  {
   "cell_type": "code",
   "execution_count": 446,
   "id": "front-catering",
   "metadata": {},
   "outputs": [],
   "source": [
    "ol = df.drop(df.index[(df.income == \">50K\") & (df['age'] > df['age'].median()+32) & (df['age'] > df['age'].median() -15) ])"
   ]
  },
  {
   "cell_type": "code",
   "execution_count": 447,
   "id": "seeing-shopper",
   "metadata": {},
   "outputs": [
    {
     "data": {
      "text/html": [
       "<div>\n",
       "<style scoped>\n",
       "    .dataframe tbody tr th:only-of-type {\n",
       "        vertical-align: middle;\n",
       "    }\n",
       "\n",
       "    .dataframe tbody tr th {\n",
       "        vertical-align: top;\n",
       "    }\n",
       "\n",
       "    .dataframe thead th {\n",
       "        text-align: right;\n",
       "    }\n",
       "</style>\n",
       "<table border=\"1\" class=\"dataframe\">\n",
       "  <thead>\n",
       "    <tr style=\"text-align: right;\">\n",
       "      <th></th>\n",
       "      <th>age</th>\n",
       "      <th>type_employer</th>\n",
       "      <th>fnlwgt</th>\n",
       "      <th>education</th>\n",
       "      <th>education_num</th>\n",
       "      <th>marital</th>\n",
       "      <th>occupation</th>\n",
       "      <th>relationship</th>\n",
       "      <th>race</th>\n",
       "      <th>sex</th>\n",
       "      <th>capital_gain</th>\n",
       "      <th>capital_loss</th>\n",
       "      <th>hr_per_week</th>\n",
       "      <th>country</th>\n",
       "      <th>income</th>\n",
       "    </tr>\n",
       "  </thead>\n",
       "  <tbody>\n",
       "    <tr>\n",
       "      <th>0</th>\n",
       "      <td>38</td>\n",
       "      <td>Private</td>\n",
       "      <td>215646</td>\n",
       "      <td>HS-grad</td>\n",
       "      <td>9</td>\n",
       "      <td>Divorced</td>\n",
       "      <td>Handlers-cleaners</td>\n",
       "      <td>Not-in-family</td>\n",
       "      <td>White</td>\n",
       "      <td>Male</td>\n",
       "      <td>0</td>\n",
       "      <td>0</td>\n",
       "      <td>40</td>\n",
       "      <td>United-States</td>\n",
       "      <td>&lt;=50K</td>\n",
       "    </tr>\n",
       "    <tr>\n",
       "      <th>1</th>\n",
       "      <td>53</td>\n",
       "      <td>Private</td>\n",
       "      <td>234721</td>\n",
       "      <td>11th</td>\n",
       "      <td>7</td>\n",
       "      <td>Married-civ-spouse</td>\n",
       "      <td>Handlers-cleaners</td>\n",
       "      <td>Husband</td>\n",
       "      <td>Black</td>\n",
       "      <td>Male</td>\n",
       "      <td>0</td>\n",
       "      <td>0</td>\n",
       "      <td>40</td>\n",
       "      <td>United-States</td>\n",
       "      <td>&lt;=50K</td>\n",
       "    </tr>\n",
       "    <tr>\n",
       "      <th>2</th>\n",
       "      <td>28</td>\n",
       "      <td>Private</td>\n",
       "      <td>338409</td>\n",
       "      <td>Bachelors</td>\n",
       "      <td>13</td>\n",
       "      <td>Married-civ-spouse</td>\n",
       "      <td>Prof-specialty</td>\n",
       "      <td>Wife</td>\n",
       "      <td>Black</td>\n",
       "      <td>Female</td>\n",
       "      <td>0</td>\n",
       "      <td>0</td>\n",
       "      <td>40</td>\n",
       "      <td>Cuba</td>\n",
       "      <td>&lt;=50K</td>\n",
       "    </tr>\n",
       "    <tr>\n",
       "      <th>3</th>\n",
       "      <td>37</td>\n",
       "      <td>Private</td>\n",
       "      <td>284582</td>\n",
       "      <td>Masters</td>\n",
       "      <td>14</td>\n",
       "      <td>Married-civ-spouse</td>\n",
       "      <td>Exec-managerial</td>\n",
       "      <td>Wife</td>\n",
       "      <td>White</td>\n",
       "      <td>Female</td>\n",
       "      <td>0</td>\n",
       "      <td>0</td>\n",
       "      <td>40</td>\n",
       "      <td>United-States</td>\n",
       "      <td>&lt;=50K</td>\n",
       "    </tr>\n",
       "    <tr>\n",
       "      <th>4</th>\n",
       "      <td>49</td>\n",
       "      <td>Private</td>\n",
       "      <td>160187</td>\n",
       "      <td>9th</td>\n",
       "      <td>5</td>\n",
       "      <td>Married-spouse-absent</td>\n",
       "      <td>Other-service</td>\n",
       "      <td>Not-in-family</td>\n",
       "      <td>Black</td>\n",
       "      <td>Female</td>\n",
       "      <td>0</td>\n",
       "      <td>0</td>\n",
       "      <td>16</td>\n",
       "      <td>Jamaica</td>\n",
       "      <td>&lt;=50K</td>\n",
       "    </tr>\n",
       "    <tr>\n",
       "      <th>...</th>\n",
       "      <td>...</td>\n",
       "      <td>...</td>\n",
       "      <td>...</td>\n",
       "      <td>...</td>\n",
       "      <td>...</td>\n",
       "      <td>...</td>\n",
       "      <td>...</td>\n",
       "      <td>...</td>\n",
       "      <td>...</td>\n",
       "      <td>...</td>\n",
       "      <td>...</td>\n",
       "      <td>...</td>\n",
       "      <td>...</td>\n",
       "      <td>...</td>\n",
       "      <td>...</td>\n",
       "    </tr>\n",
       "    <tr>\n",
       "      <th>32554</th>\n",
       "      <td>27</td>\n",
       "      <td>Private</td>\n",
       "      <td>257302</td>\n",
       "      <td>Assoc-acdm</td>\n",
       "      <td>12</td>\n",
       "      <td>Married-civ-spouse</td>\n",
       "      <td>Tech-support</td>\n",
       "      <td>Wife</td>\n",
       "      <td>White</td>\n",
       "      <td>Female</td>\n",
       "      <td>0</td>\n",
       "      <td>0</td>\n",
       "      <td>38</td>\n",
       "      <td>United-States</td>\n",
       "      <td>&lt;=50K</td>\n",
       "    </tr>\n",
       "    <tr>\n",
       "      <th>32555</th>\n",
       "      <td>40</td>\n",
       "      <td>Private</td>\n",
       "      <td>154374</td>\n",
       "      <td>HS-grad</td>\n",
       "      <td>9</td>\n",
       "      <td>Married-civ-spouse</td>\n",
       "      <td>Machine-op-inspct</td>\n",
       "      <td>Husband</td>\n",
       "      <td>White</td>\n",
       "      <td>Male</td>\n",
       "      <td>0</td>\n",
       "      <td>0</td>\n",
       "      <td>40</td>\n",
       "      <td>United-States</td>\n",
       "      <td>&gt;50K</td>\n",
       "    </tr>\n",
       "    <tr>\n",
       "      <th>32556</th>\n",
       "      <td>58</td>\n",
       "      <td>Private</td>\n",
       "      <td>151910</td>\n",
       "      <td>HS-grad</td>\n",
       "      <td>9</td>\n",
       "      <td>Widowed</td>\n",
       "      <td>Adm-clerical</td>\n",
       "      <td>Unmarried</td>\n",
       "      <td>White</td>\n",
       "      <td>Female</td>\n",
       "      <td>0</td>\n",
       "      <td>0</td>\n",
       "      <td>40</td>\n",
       "      <td>United-States</td>\n",
       "      <td>&lt;=50K</td>\n",
       "    </tr>\n",
       "    <tr>\n",
       "      <th>32557</th>\n",
       "      <td>22</td>\n",
       "      <td>Private</td>\n",
       "      <td>201490</td>\n",
       "      <td>HS-grad</td>\n",
       "      <td>9</td>\n",
       "      <td>Never-married</td>\n",
       "      <td>Adm-clerical</td>\n",
       "      <td>Own-child</td>\n",
       "      <td>White</td>\n",
       "      <td>Male</td>\n",
       "      <td>0</td>\n",
       "      <td>0</td>\n",
       "      <td>20</td>\n",
       "      <td>United-States</td>\n",
       "      <td>&lt;=50K</td>\n",
       "    </tr>\n",
       "    <tr>\n",
       "      <th>32558</th>\n",
       "      <td>52</td>\n",
       "      <td>Self-emp-inc</td>\n",
       "      <td>287927</td>\n",
       "      <td>HS-grad</td>\n",
       "      <td>9</td>\n",
       "      <td>Married-civ-spouse</td>\n",
       "      <td>Exec-managerial</td>\n",
       "      <td>Wife</td>\n",
       "      <td>White</td>\n",
       "      <td>Female</td>\n",
       "      <td>15024</td>\n",
       "      <td>0</td>\n",
       "      <td>40</td>\n",
       "      <td>United-States</td>\n",
       "      <td>&gt;50K</td>\n",
       "    </tr>\n",
       "  </tbody>\n",
       "</table>\n",
       "<p>32446 rows × 15 columns</p>\n",
       "</div>"
      ],
      "text/plain": [
       "       age type_employer  fnlwgt   education  education_num  \\\n",
       "0       38       Private  215646     HS-grad              9   \n",
       "1       53       Private  234721        11th              7   \n",
       "2       28       Private  338409   Bachelors             13   \n",
       "3       37       Private  284582     Masters             14   \n",
       "4       49       Private  160187         9th              5   \n",
       "...    ...           ...     ...         ...            ...   \n",
       "32554   27       Private  257302  Assoc-acdm             12   \n",
       "32555   40       Private  154374     HS-grad              9   \n",
       "32556   58       Private  151910     HS-grad              9   \n",
       "32557   22       Private  201490     HS-grad              9   \n",
       "32558   52  Self-emp-inc  287927     HS-grad              9   \n",
       "\n",
       "                     marital         occupation   relationship   race     sex  \\\n",
       "0                   Divorced  Handlers-cleaners  Not-in-family  White    Male   \n",
       "1         Married-civ-spouse  Handlers-cleaners        Husband  Black    Male   \n",
       "2         Married-civ-spouse     Prof-specialty           Wife  Black  Female   \n",
       "3         Married-civ-spouse    Exec-managerial           Wife  White  Female   \n",
       "4      Married-spouse-absent      Other-service  Not-in-family  Black  Female   \n",
       "...                      ...                ...            ...    ...     ...   \n",
       "32554     Married-civ-spouse       Tech-support           Wife  White  Female   \n",
       "32555     Married-civ-spouse  Machine-op-inspct        Husband  White    Male   \n",
       "32556                Widowed       Adm-clerical      Unmarried  White  Female   \n",
       "32557          Never-married       Adm-clerical      Own-child  White    Male   \n",
       "32558     Married-civ-spouse    Exec-managerial           Wife  White  Female   \n",
       "\n",
       "       capital_gain  capital_loss  hr_per_week        country income  \n",
       "0                 0             0           40  United-States  <=50K  \n",
       "1                 0             0           40  United-States  <=50K  \n",
       "2                 0             0           40           Cuba  <=50K  \n",
       "3                 0             0           40  United-States  <=50K  \n",
       "4                 0             0           16        Jamaica  <=50K  \n",
       "...             ...           ...          ...            ...    ...  \n",
       "32554             0             0           38  United-States  <=50K  \n",
       "32555             0             0           40  United-States   >50K  \n",
       "32556             0             0           40  United-States  <=50K  \n",
       "32557             0             0           20  United-States  <=50K  \n",
       "32558         15024             0           40  United-States   >50K  \n",
       "\n",
       "[32446 rows x 15 columns]"
      ]
     },
     "execution_count": 447,
     "metadata": {},
     "output_type": "execute_result"
    }
   ],
   "source": [
    "ol"
   ]
  },
  {
   "cell_type": "code",
   "execution_count": null,
   "id": "southwest-progress",
   "metadata": {},
   "outputs": [],
   "source": []
  },
  {
   "cell_type": "code",
   "execution_count": null,
   "id": "anonymous-triangle",
   "metadata": {},
   "outputs": [],
   "source": []
  },
  {
   "cell_type": "code",
   "execution_count": 448,
   "id": "appreciated-carolina",
   "metadata": {},
   "outputs": [
    {
     "data": {
      "text/plain": [
       "<AxesSubplot:>"
      ]
     },
     "execution_count": 448,
     "metadata": {},
     "output_type": "execute_result"
    },
    {
     "data": {
      "image/png": "[encoded data removed]",
      "text/plain": [
       "<Figure size 864x648 with 1 Axes>"
      ]
     },
     "metadata": {
      "needs_background": "light"
     },
     "output_type": "display_data"
    }
   ],
   "source": [
    "outliers.loc[outliers.sex == 'Male'].age.hist(figsize = (12, 9))"
   ]
  },
  {
   "cell_type": "code",
   "execution_count": 449,
   "id": "synthetic-boring",
   "metadata": {},
   "outputs": [
    {
     "data": {
      "text/plain": [
       "age                  38.0\n",
       "fnlwgt           180146.0\n",
       "education_num        10.0\n",
       "capital_gain          0.0\n",
       "capital_loss          0.0\n",
       "hr_per_week          40.0\n",
       "dtype: float64"
      ]
     },
     "execution_count": 449,
     "metadata": {},
     "output_type": "execute_result"
    }
   ],
   "source": [
    "df.loc[df.sex == 'Male'].median()"
   ]
  },
  {
   "cell_type": "code",
   "execution_count": 450,
   "id": "dependent-mayor",
   "metadata": {},
   "outputs": [
    {
     "data": {
      "text/plain": [
       "age                  38.0\n",
       "fnlwgt           180242.5\n",
       "education_num        10.0\n",
       "capital_gain          0.0\n",
       "capital_loss          0.0\n",
       "hr_per_week          40.0\n",
       "dtype: float64"
      ]
     },
     "execution_count": 450,
     "metadata": {},
     "output_type": "execute_result"
    }
   ],
   "source": [
    "outliers.loc[outliers.sex == 'Male'].median()"
   ]
  },
  {
   "cell_type": "code",
   "execution_count": 451,
   "id": "single-polymer",
   "metadata": {},
   "outputs": [
    {
     "data": {
      "text/html": [
       "<div>\n",
       "<style scoped>\n",
       "    .dataframe tbody tr th:only-of-type {\n",
       "        vertical-align: middle;\n",
       "    }\n",
       "\n",
       "    .dataframe tbody tr th {\n",
       "        vertical-align: top;\n",
       "    }\n",
       "\n",
       "    .dataframe thead th {\n",
       "        text-align: right;\n",
       "    }\n",
       "</style>\n",
       "<table border=\"1\" class=\"dataframe\">\n",
       "  <thead>\n",
       "    <tr style=\"text-align: right;\">\n",
       "      <th></th>\n",
       "      <th>age</th>\n",
       "      <th>type_employer</th>\n",
       "      <th>fnlwgt</th>\n",
       "      <th>education</th>\n",
       "      <th>education_num</th>\n",
       "      <th>marital</th>\n",
       "      <th>occupation</th>\n",
       "      <th>relationship</th>\n",
       "      <th>race</th>\n",
       "      <th>sex</th>\n",
       "      <th>capital_gain</th>\n",
       "      <th>capital_loss</th>\n",
       "      <th>hr_per_week</th>\n",
       "      <th>country</th>\n",
       "      <th>income</th>\n",
       "    </tr>\n",
       "  </thead>\n",
       "  <tbody>\n",
       "    <tr>\n",
       "      <th>0</th>\n",
       "      <td>38</td>\n",
       "      <td>Private</td>\n",
       "      <td>215646</td>\n",
       "      <td>HS-grad</td>\n",
       "      <td>9</td>\n",
       "      <td>Divorced</td>\n",
       "      <td>Handlers-cleaners</td>\n",
       "      <td>Not-in-family</td>\n",
       "      <td>White</td>\n",
       "      <td>Male</td>\n",
       "      <td>0</td>\n",
       "      <td>0</td>\n",
       "      <td>40</td>\n",
       "      <td>United-States</td>\n",
       "      <td>&lt;=50K</td>\n",
       "    </tr>\n",
       "    <tr>\n",
       "      <th>1</th>\n",
       "      <td>53</td>\n",
       "      <td>Private</td>\n",
       "      <td>234721</td>\n",
       "      <td>11th</td>\n",
       "      <td>7</td>\n",
       "      <td>Married-civ-spouse</td>\n",
       "      <td>Handlers-cleaners</td>\n",
       "      <td>Husband</td>\n",
       "      <td>Black</td>\n",
       "      <td>Male</td>\n",
       "      <td>0</td>\n",
       "      <td>0</td>\n",
       "      <td>40</td>\n",
       "      <td>United-States</td>\n",
       "      <td>&lt;=50K</td>\n",
       "    </tr>\n",
       "    <tr>\n",
       "      <th>2</th>\n",
       "      <td>28</td>\n",
       "      <td>Private</td>\n",
       "      <td>338409</td>\n",
       "      <td>Bachelors</td>\n",
       "      <td>13</td>\n",
       "      <td>Married-civ-spouse</td>\n",
       "      <td>Prof-specialty</td>\n",
       "      <td>Wife</td>\n",
       "      <td>Black</td>\n",
       "      <td>Female</td>\n",
       "      <td>0</td>\n",
       "      <td>0</td>\n",
       "      <td>40</td>\n",
       "      <td>Cuba</td>\n",
       "      <td>&lt;=50K</td>\n",
       "    </tr>\n",
       "    <tr>\n",
       "      <th>3</th>\n",
       "      <td>37</td>\n",
       "      <td>Private</td>\n",
       "      <td>284582</td>\n",
       "      <td>Masters</td>\n",
       "      <td>14</td>\n",
       "      <td>Married-civ-spouse</td>\n",
       "      <td>Exec-managerial</td>\n",
       "      <td>Wife</td>\n",
       "      <td>White</td>\n",
       "      <td>Female</td>\n",
       "      <td>0</td>\n",
       "      <td>0</td>\n",
       "      <td>40</td>\n",
       "      <td>United-States</td>\n",
       "      <td>&lt;=50K</td>\n",
       "    </tr>\n",
       "    <tr>\n",
       "      <th>4</th>\n",
       "      <td>49</td>\n",
       "      <td>Private</td>\n",
       "      <td>160187</td>\n",
       "      <td>9th</td>\n",
       "      <td>5</td>\n",
       "      <td>Married-spouse-absent</td>\n",
       "      <td>Other-service</td>\n",
       "      <td>Not-in-family</td>\n",
       "      <td>Black</td>\n",
       "      <td>Female</td>\n",
       "      <td>0</td>\n",
       "      <td>0</td>\n",
       "      <td>16</td>\n",
       "      <td>Jamaica</td>\n",
       "      <td>&lt;=50K</td>\n",
       "    </tr>\n",
       "    <tr>\n",
       "      <th>...</th>\n",
       "      <td>...</td>\n",
       "      <td>...</td>\n",
       "      <td>...</td>\n",
       "      <td>...</td>\n",
       "      <td>...</td>\n",
       "      <td>...</td>\n",
       "      <td>...</td>\n",
       "      <td>...</td>\n",
       "      <td>...</td>\n",
       "      <td>...</td>\n",
       "      <td>...</td>\n",
       "      <td>...</td>\n",
       "      <td>...</td>\n",
       "      <td>...</td>\n",
       "      <td>...</td>\n",
       "    </tr>\n",
       "    <tr>\n",
       "      <th>32554</th>\n",
       "      <td>27</td>\n",
       "      <td>Private</td>\n",
       "      <td>257302</td>\n",
       "      <td>Assoc-acdm</td>\n",
       "      <td>12</td>\n",
       "      <td>Married-civ-spouse</td>\n",
       "      <td>Tech-support</td>\n",
       "      <td>Wife</td>\n",
       "      <td>White</td>\n",
       "      <td>Female</td>\n",
       "      <td>0</td>\n",
       "      <td>0</td>\n",
       "      <td>38</td>\n",
       "      <td>United-States</td>\n",
       "      <td>&lt;=50K</td>\n",
       "    </tr>\n",
       "    <tr>\n",
       "      <th>32555</th>\n",
       "      <td>40</td>\n",
       "      <td>Private</td>\n",
       "      <td>154374</td>\n",
       "      <td>HS-grad</td>\n",
       "      <td>9</td>\n",
       "      <td>Married-civ-spouse</td>\n",
       "      <td>Machine-op-inspct</td>\n",
       "      <td>Husband</td>\n",
       "      <td>White</td>\n",
       "      <td>Male</td>\n",
       "      <td>0</td>\n",
       "      <td>0</td>\n",
       "      <td>40</td>\n",
       "      <td>United-States</td>\n",
       "      <td>&gt;50K</td>\n",
       "    </tr>\n",
       "    <tr>\n",
       "      <th>32556</th>\n",
       "      <td>58</td>\n",
       "      <td>Private</td>\n",
       "      <td>151910</td>\n",
       "      <td>HS-grad</td>\n",
       "      <td>9</td>\n",
       "      <td>Widowed</td>\n",
       "      <td>Adm-clerical</td>\n",
       "      <td>Unmarried</td>\n",
       "      <td>White</td>\n",
       "      <td>Female</td>\n",
       "      <td>0</td>\n",
       "      <td>0</td>\n",
       "      <td>40</td>\n",
       "      <td>United-States</td>\n",
       "      <td>&lt;=50K</td>\n",
       "    </tr>\n",
       "    <tr>\n",
       "      <th>32557</th>\n",
       "      <td>22</td>\n",
       "      <td>Private</td>\n",
       "      <td>201490</td>\n",
       "      <td>HS-grad</td>\n",
       "      <td>9</td>\n",
       "      <td>Never-married</td>\n",
       "      <td>Adm-clerical</td>\n",
       "      <td>Own-child</td>\n",
       "      <td>White</td>\n",
       "      <td>Male</td>\n",
       "      <td>0</td>\n",
       "      <td>0</td>\n",
       "      <td>20</td>\n",
       "      <td>United-States</td>\n",
       "      <td>&lt;=50K</td>\n",
       "    </tr>\n",
       "    <tr>\n",
       "      <th>32558</th>\n",
       "      <td>52</td>\n",
       "      <td>Self-emp-inc</td>\n",
       "      <td>287927</td>\n",
       "      <td>HS-grad</td>\n",
       "      <td>9</td>\n",
       "      <td>Married-civ-spouse</td>\n",
       "      <td>Exec-managerial</td>\n",
       "      <td>Wife</td>\n",
       "      <td>White</td>\n",
       "      <td>Female</td>\n",
       "      <td>15024</td>\n",
       "      <td>0</td>\n",
       "      <td>40</td>\n",
       "      <td>United-States</td>\n",
       "      <td>&gt;50K</td>\n",
       "    </tr>\n",
       "  </tbody>\n",
       "</table>\n",
       "<p>32559 rows × 15 columns</p>\n",
       "</div>"
      ],
      "text/plain": [
       "       age type_employer  fnlwgt   education  education_num  \\\n",
       "0       38       Private  215646     HS-grad              9   \n",
       "1       53       Private  234721        11th              7   \n",
       "2       28       Private  338409   Bachelors             13   \n",
       "3       37       Private  284582     Masters             14   \n",
       "4       49       Private  160187         9th              5   \n",
       "...    ...           ...     ...         ...            ...   \n",
       "32554   27       Private  257302  Assoc-acdm             12   \n",
       "32555   40       Private  154374     HS-grad              9   \n",
       "32556   58       Private  151910     HS-grad              9   \n",
       "32557   22       Private  201490     HS-grad              9   \n",
       "32558   52  Self-emp-inc  287927     HS-grad              9   \n",
       "\n",
       "                     marital         occupation   relationship   race     sex  \\\n",
       "0                   Divorced  Handlers-cleaners  Not-in-family  White    Male   \n",
       "1         Married-civ-spouse  Handlers-cleaners        Husband  Black    Male   \n",
       "2         Married-civ-spouse     Prof-specialty           Wife  Black  Female   \n",
       "3         Married-civ-spouse    Exec-managerial           Wife  White  Female   \n",
       "4      Married-spouse-absent      Other-service  Not-in-family  Black  Female   \n",
       "...                      ...                ...            ...    ...     ...   \n",
       "32554     Married-civ-spouse       Tech-support           Wife  White  Female   \n",
       "32555     Married-civ-spouse  Machine-op-inspct        Husband  White    Male   \n",
       "32556                Widowed       Adm-clerical      Unmarried  White  Female   \n",
       "32557          Never-married       Adm-clerical      Own-child  White    Male   \n",
       "32558     Married-civ-spouse    Exec-managerial           Wife  White  Female   \n",
       "\n",
       "       capital_gain  capital_loss  hr_per_week        country income  \n",
       "0                 0             0           40  United-States  <=50K  \n",
       "1                 0             0           40  United-States  <=50K  \n",
       "2                 0             0           40           Cuba  <=50K  \n",
       "3                 0             0           40  United-States  <=50K  \n",
       "4                 0             0           16        Jamaica  <=50K  \n",
       "...             ...           ...          ...            ...    ...  \n",
       "32554             0             0           38  United-States  <=50K  \n",
       "32555             0             0           40  United-States   >50K  \n",
       "32556             0             0           40  United-States  <=50K  \n",
       "32557             0             0           20  United-States  <=50K  \n",
       "32558         15024             0           40  United-States   >50K  \n",
       "\n",
       "[32559 rows x 15 columns]"
      ]
     },
     "execution_count": 451,
     "metadata": {},
     "output_type": "execute_result"
    }
   ],
   "source": [
    "df"
   ]
  },
  {
   "cell_type": "code",
   "execution_count": 452,
   "id": "expired-syntax",
   "metadata": {},
   "outputs": [
    {
     "data": {
      "text/html": [
       "<div>\n",
       "<style scoped>\n",
       "    .dataframe tbody tr th:only-of-type {\n",
       "        vertical-align: middle;\n",
       "    }\n",
       "\n",
       "    .dataframe tbody tr th {\n",
       "        vertical-align: top;\n",
       "    }\n",
       "\n",
       "    .dataframe thead th {\n",
       "        text-align: right;\n",
       "    }\n",
       "</style>\n",
       "<table border=\"1\" class=\"dataframe\">\n",
       "  <thead>\n",
       "    <tr style=\"text-align: right;\">\n",
       "      <th></th>\n",
       "      <th>age</th>\n",
       "      <th>type_employer</th>\n",
       "      <th>fnlwgt</th>\n",
       "      <th>education</th>\n",
       "      <th>education_num</th>\n",
       "      <th>marital</th>\n",
       "      <th>occupation</th>\n",
       "      <th>relationship</th>\n",
       "      <th>race</th>\n",
       "      <th>sex</th>\n",
       "      <th>capital_gain</th>\n",
       "      <th>capital_loss</th>\n",
       "      <th>hr_per_week</th>\n",
       "      <th>country</th>\n",
       "      <th>income</th>\n",
       "    </tr>\n",
       "  </thead>\n",
       "  <tbody>\n",
       "    <tr>\n",
       "      <th>0</th>\n",
       "      <td>38</td>\n",
       "      <td>Private</td>\n",
       "      <td>215646</td>\n",
       "      <td>HS-grad</td>\n",
       "      <td>9</td>\n",
       "      <td>Divorced</td>\n",
       "      <td>Handlers-cleaners</td>\n",
       "      <td>Not-in-family</td>\n",
       "      <td>White</td>\n",
       "      <td>Male</td>\n",
       "      <td>0</td>\n",
       "      <td>0</td>\n",
       "      <td>40</td>\n",
       "      <td>United-States</td>\n",
       "      <td>&lt;=50K</td>\n",
       "    </tr>\n",
       "    <tr>\n",
       "      <th>1</th>\n",
       "      <td>53</td>\n",
       "      <td>Private</td>\n",
       "      <td>234721</td>\n",
       "      <td>11th</td>\n",
       "      <td>7</td>\n",
       "      <td>Married-civ-spouse</td>\n",
       "      <td>Handlers-cleaners</td>\n",
       "      <td>Husband</td>\n",
       "      <td>Black</td>\n",
       "      <td>Male</td>\n",
       "      <td>0</td>\n",
       "      <td>0</td>\n",
       "      <td>40</td>\n",
       "      <td>United-States</td>\n",
       "      <td>&lt;=50K</td>\n",
       "    </tr>\n",
       "    <tr>\n",
       "      <th>2</th>\n",
       "      <td>28</td>\n",
       "      <td>Private</td>\n",
       "      <td>338409</td>\n",
       "      <td>Bachelors</td>\n",
       "      <td>13</td>\n",
       "      <td>Married-civ-spouse</td>\n",
       "      <td>Prof-specialty</td>\n",
       "      <td>Wife</td>\n",
       "      <td>Black</td>\n",
       "      <td>Female</td>\n",
       "      <td>0</td>\n",
       "      <td>0</td>\n",
       "      <td>40</td>\n",
       "      <td>Cuba</td>\n",
       "      <td>&lt;=50K</td>\n",
       "    </tr>\n",
       "    <tr>\n",
       "      <th>3</th>\n",
       "      <td>37</td>\n",
       "      <td>Private</td>\n",
       "      <td>284582</td>\n",
       "      <td>Masters</td>\n",
       "      <td>14</td>\n",
       "      <td>Married-civ-spouse</td>\n",
       "      <td>Exec-managerial</td>\n",
       "      <td>Wife</td>\n",
       "      <td>White</td>\n",
       "      <td>Female</td>\n",
       "      <td>0</td>\n",
       "      <td>0</td>\n",
       "      <td>40</td>\n",
       "      <td>United-States</td>\n",
       "      <td>&lt;=50K</td>\n",
       "    </tr>\n",
       "    <tr>\n",
       "      <th>4</th>\n",
       "      <td>49</td>\n",
       "      <td>Private</td>\n",
       "      <td>160187</td>\n",
       "      <td>9th</td>\n",
       "      <td>5</td>\n",
       "      <td>Married-spouse-absent</td>\n",
       "      <td>Other-service</td>\n",
       "      <td>Not-in-family</td>\n",
       "      <td>Black</td>\n",
       "      <td>Female</td>\n",
       "      <td>0</td>\n",
       "      <td>0</td>\n",
       "      <td>16</td>\n",
       "      <td>Jamaica</td>\n",
       "      <td>&lt;=50K</td>\n",
       "    </tr>\n",
       "    <tr>\n",
       "      <th>...</th>\n",
       "      <td>...</td>\n",
       "      <td>...</td>\n",
       "      <td>...</td>\n",
       "      <td>...</td>\n",
       "      <td>...</td>\n",
       "      <td>...</td>\n",
       "      <td>...</td>\n",
       "      <td>...</td>\n",
       "      <td>...</td>\n",
       "      <td>...</td>\n",
       "      <td>...</td>\n",
       "      <td>...</td>\n",
       "      <td>...</td>\n",
       "      <td>...</td>\n",
       "      <td>...</td>\n",
       "    </tr>\n",
       "    <tr>\n",
       "      <th>32554</th>\n",
       "      <td>27</td>\n",
       "      <td>Private</td>\n",
       "      <td>257302</td>\n",
       "      <td>Assoc-acdm</td>\n",
       "      <td>12</td>\n",
       "      <td>Married-civ-spouse</td>\n",
       "      <td>Tech-support</td>\n",
       "      <td>Wife</td>\n",
       "      <td>White</td>\n",
       "      <td>Female</td>\n",
       "      <td>0</td>\n",
       "      <td>0</td>\n",
       "      <td>38</td>\n",
       "      <td>United-States</td>\n",
       "      <td>&lt;=50K</td>\n",
       "    </tr>\n",
       "    <tr>\n",
       "      <th>32555</th>\n",
       "      <td>40</td>\n",
       "      <td>Private</td>\n",
       "      <td>154374</td>\n",
       "      <td>HS-grad</td>\n",
       "      <td>9</td>\n",
       "      <td>Married-civ-spouse</td>\n",
       "      <td>Machine-op-inspct</td>\n",
       "      <td>Husband</td>\n",
       "      <td>White</td>\n",
       "      <td>Male</td>\n",
       "      <td>0</td>\n",
       "      <td>0</td>\n",
       "      <td>40</td>\n",
       "      <td>United-States</td>\n",
       "      <td>&gt;50K</td>\n",
       "    </tr>\n",
       "    <tr>\n",
       "      <th>32556</th>\n",
       "      <td>58</td>\n",
       "      <td>Private</td>\n",
       "      <td>151910</td>\n",
       "      <td>HS-grad</td>\n",
       "      <td>9</td>\n",
       "      <td>Widowed</td>\n",
       "      <td>Adm-clerical</td>\n",
       "      <td>Unmarried</td>\n",
       "      <td>White</td>\n",
       "      <td>Female</td>\n",
       "      <td>0</td>\n",
       "      <td>0</td>\n",
       "      <td>40</td>\n",
       "      <td>United-States</td>\n",
       "      <td>&lt;=50K</td>\n",
       "    </tr>\n",
       "    <tr>\n",
       "      <th>32557</th>\n",
       "      <td>22</td>\n",
       "      <td>Private</td>\n",
       "      <td>201490</td>\n",
       "      <td>HS-grad</td>\n",
       "      <td>9</td>\n",
       "      <td>Never-married</td>\n",
       "      <td>Adm-clerical</td>\n",
       "      <td>Own-child</td>\n",
       "      <td>White</td>\n",
       "      <td>Male</td>\n",
       "      <td>0</td>\n",
       "      <td>0</td>\n",
       "      <td>20</td>\n",
       "      <td>United-States</td>\n",
       "      <td>&lt;=50K</td>\n",
       "    </tr>\n",
       "    <tr>\n",
       "      <th>32558</th>\n",
       "      <td>52</td>\n",
       "      <td>Self-emp-inc</td>\n",
       "      <td>287927</td>\n",
       "      <td>HS-grad</td>\n",
       "      <td>9</td>\n",
       "      <td>Married-civ-spouse</td>\n",
       "      <td>Exec-managerial</td>\n",
       "      <td>Wife</td>\n",
       "      <td>White</td>\n",
       "      <td>Female</td>\n",
       "      <td>15024</td>\n",
       "      <td>0</td>\n",
       "      <td>40</td>\n",
       "      <td>United-States</td>\n",
       "      <td>&gt;50K</td>\n",
       "    </tr>\n",
       "  </tbody>\n",
       "</table>\n",
       "<p>32446 rows × 15 columns</p>\n",
       "</div>"
      ],
      "text/plain": [
       "       age type_employer  fnlwgt   education  education_num  \\\n",
       "0       38       Private  215646     HS-grad              9   \n",
       "1       53       Private  234721        11th              7   \n",
       "2       28       Private  338409   Bachelors             13   \n",
       "3       37       Private  284582     Masters             14   \n",
       "4       49       Private  160187         9th              5   \n",
       "...    ...           ...     ...         ...            ...   \n",
       "32554   27       Private  257302  Assoc-acdm             12   \n",
       "32555   40       Private  154374     HS-grad              9   \n",
       "32556   58       Private  151910     HS-grad              9   \n",
       "32557   22       Private  201490     HS-grad              9   \n",
       "32558   52  Self-emp-inc  287927     HS-grad              9   \n",
       "\n",
       "                     marital         occupation   relationship   race     sex  \\\n",
       "0                   Divorced  Handlers-cleaners  Not-in-family  White    Male   \n",
       "1         Married-civ-spouse  Handlers-cleaners        Husband  Black    Male   \n",
       "2         Married-civ-spouse     Prof-specialty           Wife  Black  Female   \n",
       "3         Married-civ-spouse    Exec-managerial           Wife  White  Female   \n",
       "4      Married-spouse-absent      Other-service  Not-in-family  Black  Female   \n",
       "...                      ...                ...            ...    ...     ...   \n",
       "32554     Married-civ-spouse       Tech-support           Wife  White  Female   \n",
       "32555     Married-civ-spouse  Machine-op-inspct        Husband  White    Male   \n",
       "32556                Widowed       Adm-clerical      Unmarried  White  Female   \n",
       "32557          Never-married       Adm-clerical      Own-child  White    Male   \n",
       "32558     Married-civ-spouse    Exec-managerial           Wife  White  Female   \n",
       "\n",
       "       capital_gain  capital_loss  hr_per_week        country income  \n",
       "0                 0             0           40  United-States  <=50K  \n",
       "1                 0             0           40  United-States  <=50K  \n",
       "2                 0             0           40           Cuba  <=50K  \n",
       "3                 0             0           40  United-States  <=50K  \n",
       "4                 0             0           16        Jamaica  <=50K  \n",
       "...             ...           ...          ...            ...    ...  \n",
       "32554             0             0           38  United-States  <=50K  \n",
       "32555             0             0           40  United-States   >50K  \n",
       "32556             0             0           40  United-States  <=50K  \n",
       "32557             0             0           20  United-States  <=50K  \n",
       "32558         15024             0           40  United-States   >50K  \n",
       "\n",
       "[32446 rows x 15 columns]"
      ]
     },
     "execution_count": 452,
     "metadata": {},
     "output_type": "execute_result"
    }
   ],
   "source": [
    "outliers"
   ]
  },
  {
   "cell_type": "markdown",
   "id": "supposed-convert",
   "metadata": {},
   "source": [
    "#### Checking after removing the outliers"
   ]
  },
  {
   "cell_type": "code",
   "execution_count": 453,
   "id": "novel-skirt",
   "metadata": {},
   "outputs": [
    {
     "data": {
      "text/plain": [
       "<AxesSubplot:>"
      ]
     },
     "execution_count": 453,
     "metadata": {},
     "output_type": "execute_result"
    },
    {
     "data": {
      "image/png": "[encoded data removed]",
      "text/plain": [
       "<Figure size 936x648 with 1 Axes>"
      ]
     },
     "metadata": {
      "needs_background": "light"
     },
     "output_type": "display_data"
    }
   ],
   "source": [
    "plt.figure(figsize=(13,9))\n",
    "df.age[df.income == '>50K'].plot(alpha = 0.25, color='blue')\n",
    "outliers.age[df.income == \">50K\"].plot(alpha = 0.5, color = 'red')"
   ]
  },
  {
   "cell_type": "code",
   "execution_count": 454,
   "id": "stone-inclusion",
   "metadata": {},
   "outputs": [],
   "source": [
    "male_age1 = male1.drop(male1.index[(male1.age > df.age.median()+35) & (male1.age > df.age.median()-15)])\n",
    "female_age1 = female1.drop(female1.index[(female1.age > df.age.median()+35) & (female1.age > df.age.median()-15)])"
   ]
  },
  {
   "cell_type": "code",
   "execution_count": 455,
   "id": "political-xerox",
   "metadata": {},
   "outputs": [
    {
     "data": {
      "text/plain": [
       "age                  38.0\n",
       "fnlwgt           180146.0\n",
       "education_num        10.0\n",
       "capital_gain          0.0\n",
       "capital_loss          0.0\n",
       "hr_per_week          40.0\n",
       "dtype: float64"
      ]
     },
     "execution_count": 455,
     "metadata": {},
     "output_type": "execute_result"
    }
   ],
   "source": [
    "male_median_before"
   ]
  },
  {
   "cell_type": "code",
   "execution_count": 456,
   "id": "academic-spice",
   "metadata": {},
   "outputs": [
    {
     "data": {
      "text/plain": [
       "age                  44.0\n",
       "fnlwgt           176839.0\n",
       "education_num        12.0\n",
       "capital_gain          0.0\n",
       "capital_loss          0.0\n",
       "hr_per_week          44.0\n",
       "dtype: float64"
      ]
     },
     "execution_count": 456,
     "metadata": {},
     "output_type": "execute_result"
    }
   ],
   "source": [
    "male_median_after = male_age1.median()\n",
    "male_median_after"
   ]
  },
  {
   "cell_type": "code",
   "execution_count": 457,
   "id": "informal-symbol",
   "metadata": {},
   "outputs": [
    {
     "data": {
      "text/plain": [
       "age                  35.0\n",
       "fnlwgt           176077.0\n",
       "education_num        10.0\n",
       "capital_gain          0.0\n",
       "capital_loss          0.0\n",
       "hr_per_week          40.0\n",
       "dtype: float64"
      ]
     },
     "execution_count": 457,
     "metadata": {},
     "output_type": "execute_result"
    }
   ],
   "source": [
    "female_median_before"
   ]
  },
  {
   "cell_type": "code",
   "execution_count": 458,
   "id": "departmental-simple",
   "metadata": {},
   "outputs": [
    {
     "data": {
      "text/plain": [
       "age                  41.0\n",
       "fnlwgt           173093.0\n",
       "education_num        13.0\n",
       "capital_gain          0.0\n",
       "capital_loss          0.0\n",
       "hr_per_week          40.0\n",
       "dtype: float64"
      ]
     },
     "execution_count": 458,
     "metadata": {},
     "output_type": "execute_result"
    }
   ],
   "source": [
    "female_median_after = female_age1.median() # this median is filtered by income (>50K)\n",
    "female_median_after"
   ]
  },
  {
   "cell_type": "code",
   "execution_count": null,
   "id": "extra-variance",
   "metadata": {},
   "outputs": [],
   "source": []
  },
  {
   "cell_type": "markdown",
   "id": "accessible-running",
   "metadata": {},
   "source": [
    "#### mean difference b/w men and women ages"
   ]
  },
  {
   "cell_type": "code",
   "execution_count": 470,
   "id": "horizontal-flexibility",
   "metadata": {},
   "outputs": [
    {
     "name": "stdout",
     "output_type": "stream",
     "text": [
      "The mean difference with outliers is : 2.57\n"
     ]
    }
   ],
   "source": [
    "print(f\"The mean difference with outliers is : {(male.age.mean()-female.age.mean()):4.2f}\")"
   ]
  },
  {
   "cell_type": "code",
   "execution_count": 471,
   "id": "scheduled-nickname",
   "metadata": {},
   "outputs": [
    {
     "name": "stdout",
     "output_type": "stream",
     "text": [
      "The mean difference without outliers is : 2.44\n"
     ]
    }
   ],
   "source": [
    "print(f\"The mean difference without outliers is : {(male_age1.age.mean()-female_age1.age.mean()):4.2f}\")"
   ]
  },
  {
   "cell_type": "markdown",
   "id": "color-label",
   "metadata": {},
   "source": [
    "As we can see that there is the mean values before removing the outliers men than women. if the difference in the mean values before removing the outliers is 2.5 after removing them it slightly decreased to 2.44"
   ]
  },
  {
   "cell_type": "code",
   "execution_count": 463,
   "id": "forward-hepatitis",
   "metadata": {},
   "outputs": [
    {
     "data": {
      "text/plain": [
       "(6601, 15)"
      ]
     },
     "execution_count": 463,
     "metadata": {},
     "output_type": "execute_result"
    }
   ],
   "source": [
    "male_age1.shape"
   ]
  },
  {
   "cell_type": "markdown",
   "id": "printable-citizen",
   "metadata": {},
   "source": [
    "#### Observing the difference of men and women incomes in the cleaned subset "
   ]
  },
  {
   "cell_type": "code",
   "execution_count": 536,
   "id": "martial-search",
   "metadata": {},
   "outputs": [],
   "source": [
    "countx, divisionx = np.histogram(male_age1.age, density=True)\n",
    "county, divisiony = np.histogram(female_age1.age, density=True)"
   ]
  },
  {
   "cell_type": "code",
   "execution_count": 537,
   "id": "fabulous-allocation",
   "metadata": {},
   "outputs": [
    {
     "data": {
      "text/plain": [
       "[<matplotlib.lines.Line2D at 0x27b27fc8bb0>]"
      ]
     },
     "execution_count": 537,
     "metadata": {},
     "output_type": "execute_result"
    },
    {
     "data": {
      "image/png": "[encoded data removed]",
      "text/plain": [
       "<Figure size 936x648 with 1 Axes>"
      ]
     },
     "metadata": {
      "needs_background": "light"
     },
     "output_type": "display_data"
    }
   ],
   "source": [
    "val = [(divisionx[i] + divisionx[i+1])/2 for i in range(len(divisionx)-1)]\n",
    "plt.figure( figsize=(13, 9))\n",
    "plt.plot(val, countx-county, 'o-')\n"
   ]
  },
  {
   "cell_type": "code",
   "execution_count": 481,
   "id": "bizarre-inflation",
   "metadata": {},
   "outputs": [
    {
     "data": {
      "text/plain": [
       "array([0.00125767, 0.0096612 , 0.02309541, 0.03804455, 0.03395712,\n",
       "       0.03147036, 0.02669693, 0.01469188, 0.00651702, 0.00328709])"
      ]
     },
     "execution_count": 481,
     "metadata": {},
     "output_type": "execute_result"
    }
   ],
   "source": [
    "countx"
   ]
  },
  {
   "cell_type": "code",
   "execution_count": 482,
   "id": "blessed-auction",
   "metadata": {},
   "outputs": [
    {
     "data": {
      "text/plain": [
       "array([0.00273915, 0.01804618, 0.02723039, 0.04334305, 0.0327087 ,\n",
       "       0.02626364, 0.02030195, 0.01111774, 0.00467267, 0.00225577])"
      ]
     },
     "execution_count": 482,
     "metadata": {},
     "output_type": "execute_result"
    }
   ],
   "source": [
    "county"
   ]
  },
  {
   "cell_type": "code",
   "execution_count": 521,
   "id": "stuck-deposit",
   "metadata": {},
   "outputs": [],
   "source": [
    "x, y = np.histogram(male_age1.age, density=True)"
   ]
  },
  {
   "cell_type": "code",
   "execution_count": 522,
   "id": "usual-knowing",
   "metadata": {},
   "outputs": [
    {
     "data": {
      "text/plain": [
       "array([0.00125767, 0.0096612 , 0.02309541, 0.03804455, 0.03395712,\n",
       "       0.03147036, 0.02669693, 0.01469188, 0.00651702, 0.00328709])"
      ]
     },
     "execution_count": 522,
     "metadata": {},
     "output_type": "execute_result"
    }
   ],
   "source": [
    "x"
   ]
  },
  {
   "cell_type": "code",
   "execution_count": 523,
   "id": "northern-funeral",
   "metadata": {},
   "outputs": [
    {
     "data": {
      "text/plain": [
       "array([19. , 24.3, 29.6, 34.9, 40.2, 45.5, 50.8, 56.1, 61.4, 66.7, 72. ])"
      ]
     },
     "execution_count": 523,
     "metadata": {},
     "output_type": "execute_result"
    }
   ],
   "source": [
    "y"
   ]
  },
  {
   "cell_type": "code",
   "execution_count": 524,
   "id": "canadian-cyprus",
   "metadata": {},
   "outputs": [
    {
     "data": {
      "text/plain": [
       "[<matplotlib.lines.Line2D at 0x27b28d43d30>]"
      ]
     },
     "execution_count": 524,
     "metadata": {},
     "output_type": "execute_result"
    },
    {
     "data": {
      "image/png": "[encoded data removed]",
      "text/plain": [
       "<Figure size 864x576 with 1 Axes>"
      ]
     },
     "metadata": {
      "needs_background": "light"
     },
     "output_type": "display_data"
    }
   ],
   "source": [
    "plt.figure(figsize = (12,8))\n",
    "plt.plot(y[:10], x)"
   ]
  },
  {
   "cell_type": "code",
   "execution_count": 538,
   "id": "breathing-course",
   "metadata": {},
   "outputs": [
    {
     "data": {
      "text/plain": [
       "<AxesSubplot:>"
      ]
     },
     "execution_count": 538,
     "metadata": {},
     "output_type": "execute_result"
    },
    {
     "data": {
      "image/png": "[encoded data removed]",
      "text/plain": [
       "<Figure size 864x648 with 1 Axes>"
      ]
     },
     "metadata": {
      "needs_background": "light"
     },
     "output_type": "display_data"
    }
   ],
   "source": [
    "male_age1.age.hist(figsize= (12, 9))"
   ]
  },
  {
   "cell_type": "markdown",
   "id": "indoor-semiconductor",
   "metadata": {},
   "source": [
    "___"
   ]
  },
  {
   "cell_type": "markdown",
   "id": "incorporated-wagner",
   "metadata": {},
   "source": [
    "#### Kernel Density\n",
    "In Real problems, we may not be interested in the parameters of a particular distribution of data, but just continuous representation of the data. In this case., We should estimate the distribution ono-parametrically using kernel density estimetion.\n",
    "\n",
    "We can use the Gaussian kernel to generate the density around the data."
   ]
  },
  {
   "cell_type": "code",
   "execution_count": 539,
   "id": "neither-garden",
   "metadata": {},
   "outputs": [],
   "source": [
    "# first of all we will make some random data with normal distributation\n",
    "x1 = np.random.normal(-1, 0.5, 15)  # loc, scale , size\n",
    "x2 = np.random.normal(6, 1, 10)"
   ]
  },
  {
   "cell_type": "code",
   "execution_count": 553,
   "id": "changing-ottawa",
   "metadata": {},
   "outputs": [
    {
     "data": {
      "text/plain": [
       "(array([2., 0., 1., 0., 1., 0., 1., 2., 1., 2.]),\n",
       " array([4.06192851, 4.35450046, 4.6470724 , 4.93964434, 5.23221628,\n",
       "        5.52478823, 5.81736017, 6.10993211, 6.40250406, 6.695076  ,\n",
       "        6.98764794]),\n",
       " <BarContainer object of 10 artists>)"
      ]
     },
     "execution_count": 553,
     "metadata": {},
     "output_type": "execute_result"
    },
    {
     "data": {
      "image/png": "[encoded data removed]",
      "text/plain": [
       "<Figure size 720x360 with 2 Axes>"
      ]
     },
     "metadata": {
      "needs_background": "light"
     },
     "output_type": "display_data"
    }
   ],
   "source": [
    "fig, ax = plt.subplots(1,2, figsize = (10, 5))\n",
    "ax[0].hist(x1, color='pink')\n",
    "ax[1].hist(x2, color = 'violet')"
   ]
  },
  {
   "cell_type": "code",
   "execution_count": 556,
   "id": "guilty-removal",
   "metadata": {},
   "outputs": [],
   "source": [
    "# stacking the both x1 and x2 in one axis\n",
    "y = np.r_[x1, x2]\n",
    "# r_ translates slices objects to concatenation along the first axis."
   ]
  },
  {
   "cell_type": "code",
   "execution_count": 557,
   "id": "short-vintage",
   "metadata": {},
   "outputs": [
    {
     "data": {
      "text/plain": [
       "array([-1.31296243, -0.69554368, -1.10832413, -0.68950547, -1.29004004,\n",
       "       -1.07754131, -1.58204581, -1.21480007, -0.95557019, -0.5625289 ,\n",
       "       -1.04530976, -0.80850634, -0.98458871, -1.50854471, -0.7570668 ,\n",
       "        4.11826912,  6.98764794,  6.39398185,  5.88960847,  6.2619153 ,\n",
       "        4.72479124,  6.74922159,  6.61616176,  4.06192851,  5.28449547])"
      ]
     },
     "execution_count": 557,
     "metadata": {},
     "output_type": "execute_result"
    }
   ],
   "source": [
    "y"
   ]
  },
  {
   "cell_type": "code",
   "execution_count": 558,
   "id": "turkish-clinic",
   "metadata": {},
   "outputs": [
    {
     "data": {
      "text/plain": [
       "(array([-1.31296243, -0.69554368, -1.10832413, -0.68950547, -1.29004004,\n",
       "        -1.07754131, -1.58204581, -1.21480007, -0.95557019, -0.5625289 ,\n",
       "        -1.04530976, -0.80850634, -0.98458871, -1.50854471, -0.7570668 ]),\n",
       " array([4.11826912, 6.98764794, 6.39398185, 5.88960847, 6.2619153 ,\n",
       "        4.72479124, 6.74922159, 6.61616176, 4.06192851, 5.28449547]))"
      ]
     },
     "execution_count": 558,
     "metadata": {},
     "output_type": "execute_result"
    }
   ],
   "source": [
    "x1, x2"
   ]
  },
  {
   "cell_type": "code",
   "execution_count": 559,
   "id": "specific-madrid",
   "metadata": {},
   "outputs": [],
   "source": [
    "# making a equally spaced sample with 100 values\n",
    "x = np.linspace(min(y), max(y), 100)"
   ]
  },
  {
   "cell_type": "code",
   "execution_count": 563,
   "id": "iraqi-cradle",
   "metadata": {},
   "outputs": [],
   "source": [
    "# Now we will selecti ou smoothing parameter\n",
    "s = 0.4"
   ]
  },
  {
   "cell_type": "code",
   "execution_count": 566,
   "id": "respected-phoenix",
   "metadata": {},
   "outputs": [],
   "source": [
    "# normal distribution of the datasample\n",
    "# we need to import the norm calss from the scipy stat\n",
    "from scipy.stats import norm\n",
    "\n",
    "distribution = [norm.pdf(x, yi, s) for yi in y]\n"
   ]
  },
  {
   "cell_type": "code",
   "execution_count": 575,
   "id": "proud-lease",
   "metadata": {},
   "outputs": [
    {
     "data": {
      "text/plain": [
       "[<matplotlib.lines.Line2D at 0x27b30d72cd0>]"
      ]
     },
     "execution_count": 575,
     "metadata": {},
     "output_type": "execute_result"
    },
    {
     "data": {
      "image/png": "[encoded data removed]",
      "text/plain": [
       "<Figure size 432x288 with 1 Axes>"
      ]
     },
     "metadata": {
      "needs_background": "light"
     },
     "output_type": "display_data"
    }
   ],
   "source": [
    "# Here if we want to see the normal distribution for each point in the x array by using the yi \n",
    "# we can see the result by applying the normal distributation on one value and plot it\n",
    "plt.plot(norm.pdf(x, y[0] , s))"
   ]
  },
  {
   "cell_type": "markdown",
   "id": "interpreted-manner",
   "metadata": {},
   "source": [
    "As you can see that this is the pdf function on the very first poit of the y value, Now we will make the pdf for all the point."
   ]
  },
  {
   "cell_type": "code",
   "execution_count": null,
   "id": "hindu-basis",
   "metadata": {},
   "outputs": [],
   "source": []
  },
  {
   "cell_type": "code",
   "execution_count": 579,
   "id": "external-viking",
   "metadata": {},
   "outputs": [],
   "source": [
    "# calculating the kernel\n",
    "# since we have already got the distribution for each and every point from the dataset so we need \n",
    "# to make its transpose so its dimension  can match\n",
    "kernels = np.transpose(distribution)"
   ]
  },
  {
   "cell_type": "code",
   "execution_count": 582,
   "id": "ancient-dependence",
   "metadata": {},
   "outputs": [
    {
     "name": "stdout",
     "output_type": "stream",
     "text": [
      "shape of the distribution:  (100,)\n",
      "shape of the kernel (transpose of the distribution) : (100, 25)\n"
     ]
    }
   ],
   "source": [
    "# checking the distribution after making its transpose\n",
    "print(\"shape of the distribution: \", distribution[0].shape)\n",
    "print(\"shape of the kernel (transpose of the distribution) :\", kernels.shape)"
   ]
  },
  {
   "cell_type": "markdown",
   "id": "disabled-impossible",
   "metadata": {},
   "source": [
    "#### Plotting the kernels "
   ]
  },
  {
   "cell_type": "code",
   "execution_count": 589,
   "id": "actual-retention",
   "metadata": {},
   "outputs": [
    {
     "data": {
      "image/png": "[encoded data removed]",
      "text/plain": [
       "<Figure size 1440x432 with 1 Axes>"
      ]
     },
     "metadata": {
      "needs_background": "light"
     },
     "output_type": "display_data"
    }
   ],
   "source": [
    "plt.figure(figsize = (20, 6))\n",
    "plt.plot(x, kernels, 'k:')\n",
    "plt.show()"
   ]
  },
  {
   "cell_type": "markdown",
   "id": "musical-bulgaria",
   "metadata": {},
   "source": [
    "In above figure we have plotted pdf fuction for each data point now, these data points shows us the distributation of the values from a given point.\n",
    "NOw we will add up all the pdf function to generate a finale pdf function which will give us the overall value of the distribution on all over data points."
   ]
  },
  {
   "cell_type": "code",
   "execution_count": 591,
   "id": "final-reasoning",
   "metadata": {},
   "outputs": [
    {
     "data": {
      "image/png": "[encoded data removed]",
      "text/plain": [
       "<Figure size 1440x576 with 1 Axes>"
      ]
     },
     "metadata": {
      "needs_background": "light"
     },
     "output_type": "display_data"
    }
   ],
   "source": [
    "plt.figure(figsize = (20, 8))\n",
    "plt.plot(x, kernels, 'k:')\n",
    "plt.plot(x, kernels.sum(1), 'r')  # summing the all pdf function in axis 1\n",
    "plt.show()"
   ]
  },
  {
   "cell_type": "markdown",
   "id": "searching-green",
   "metadata": {},
   "source": [
    "Now as you can see that we have a over all pdf function which can give us the more robust information about the data distribution."
   ]
  },
  {
   "cell_type": "code",
   "execution_count": 599,
   "id": "acoustic-jewel",
   "metadata": {},
   "outputs": [
    {
     "data": {
      "image/png": "[encoded data removed]",
      "text/plain": [
       "<Figure size 1440x576 with 1 Axes>"
      ]
     },
     "metadata": {
      "needs_background": "light"
     },
     "output_type": "display_data"
    }
   ],
   "source": [
    "plt.figure(figsize = (20, 8))\n",
    "plt.plot(x, kernels, 'k:')\n",
    "plt.plot(x, kernels.sum(1), 'r')  # summing the all pdf function in axis 1\n",
    "plt.plot(y, np.zeros(len(y)), 'bo', ms=7)  # showing the each data point on which we have plotted the pdf function seperately.\n",
    "plt.show()"
   ]
  },
  {
   "cell_type": "markdown",
   "id": "smart-register",
   "metadata": {},
   "source": [
    "by using Scipy, If we implements a Gaussian kernel density estimation that automatically chooses the appropriate bandwith parameter for the kernel. thus, the final construction of the denstiry estimate will be obtaind by the below code."
   ]
  },
  {
   "cell_type": "code",
   "execution_count": 604,
   "id": "matched-mission",
   "metadata": {},
   "outputs": [
    {
     "data": {
      "text/plain": [
       "[<matplotlib.lines.Line2D at 0x27b30557b50>]"
      ]
     },
     "execution_count": 604,
     "metadata": {},
     "output_type": "execute_result"
    },
    {
     "data": {
      "image/png": "[encoded data removed]",
      "text/plain": [
       "<Figure size 864x576 with 1 Axes>"
      ]
     },
     "metadata": {
      "needs_background": "light"
     },
     "output_type": "display_data"
    }
   ],
   "source": [
    "from scipy.stats import kde\n",
    "density = kde.gaussian_kde(y)\n",
    "xgrid = np.linspace(x.min(), y.max(), 200)\n",
    "plt.figure(figsize = (12, 8))\n",
    "plt.hist(y, bins=100)\n",
    "plt.plot(xgrid, density(xgrid), 'r-')"
   ]
  },
  {
   "cell_type": "code",
   "execution_count": 605,
   "id": "nonprofit-qatar",
   "metadata": {},
   "outputs": [
    {
     "data": {
      "text/plain": [
       "<scipy.stats.kde.gaussian_kde at 0x27b30575370>"
      ]
     },
     "execution_count": 605,
     "metadata": {},
     "output_type": "execute_result"
    }
   ],
   "source": []
  },
  {
   "cell_type": "code",
   "execution_count": null,
   "id": "expected-concord",
   "metadata": {},
   "outputs": [],
   "source": []
  }
 ],
 "metadata": {
  "kernelspec": {
   "display_name": "Python 3",
   "language": "python",
   "name": "python3"
  },
  "language_info": {
   "codemirror_mode": {
    "name": "ipython",
    "version": 3
   },
   "file_extension": ".py",
   "mimetype": "text/x-python",
   "name": "python",
   "nbconvert_exporter": "python",
   "pygments_lexer": "ipython3",
   "version": "3.8.3"
  }
 },
 "nbformat": 4,
 "nbformat_minor": 5
}
