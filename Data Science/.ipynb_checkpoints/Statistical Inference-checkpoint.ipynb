{
 "cells": [
  {
   "cell_type": "markdown",
   "id": "cubic-missouri",
   "metadata": {},
   "source": [
    "## Statical Inference\n",
    "To understand the all the concepts of the statical inference we will use a Data of  ACCIDIENT_GU_BCN which is retrieved from the Barcelona City Hall's open data service.\n",
    "\n",
    "In this, Each register in the dataset represent an accident via a series of features: weekday, hour, address, number of dead and injured people, etc. This dataset will represent our population: the set of all reported traffic accidents in Barcelona during 2013"
   ]
  },
  {
   "cell_type": "markdown",
   "id": "amended-frank",
   "metadata": {},
   "source": [
    "NOw first of all we need to import the necessary modules"
   ]
  },
  {
   "cell_type": "code",
   "execution_count": 1,
   "id": "moral-psychology",
   "metadata": {},
   "outputs": [],
   "source": [
    "import matplotlib.pyplot as plt\n",
    "import numpy as np\n",
    "import pandas as pd"
   ]
  },
  {
   "cell_type": "markdown",
   "id": "brutal-branch",
   "metadata": {},
   "source": [
    "**Reading the Dataset**"
   ]
  },
  {
   "cell_type": "code",
   "execution_count": 4,
   "id": "related-convention",
   "metadata": {},
   "outputs": [],
   "source": [
    "bcn = pd.read_csv(\"2013_ACCIDENTS_GU_BCN_2013.csv\")"
   ]
  },
  {
   "cell_type": "markdown",
   "id": "beautiful-utilization",
   "metadata": {},
   "source": [
    "Now first of all we will see the dataset and all the availbel parameters."
   ]
  },
  {
   "cell_type": "code",
   "execution_count": 5,
   "id": "integral-lucas",
   "metadata": {},
   "outputs": [
    {
     "data": {
      "text/html": [
       "<div>\n",
       "<style scoped>\n",
       "    .dataframe tbody tr th:only-of-type {\n",
       "        vertical-align: middle;\n",
       "    }\n",
       "\n",
       "    .dataframe tbody tr th {\n",
       "        vertical-align: top;\n",
       "    }\n",
       "\n",
       "    .dataframe thead th {\n",
       "        text-align: right;\n",
       "    }\n",
       "</style>\n",
       "<table border=\"1\" class=\"dataframe\">\n",
       "  <thead>\n",
       "    <tr style=\"text-align: right;\">\n",
       "      <th></th>\n",
       "      <th>N�mero d'expedient</th>\n",
       "      <th>Codi districte</th>\n",
       "      <th>Nom districte</th>\n",
       "      <th>NK barri</th>\n",
       "      <th>Nom barri</th>\n",
       "      <th>Codi carrer</th>\n",
       "      <th>Nom carrer</th>\n",
       "      <th>Num postal caption</th>\n",
       "      <th>Descripci� dia setmana</th>\n",
       "      <th>Dia de setmana</th>\n",
       "      <th>...</th>\n",
       "      <th>Hora de dia</th>\n",
       "      <th>Descripci� torn</th>\n",
       "      <th>Descripci� causa vianant</th>\n",
       "      <th>N�mero de morts</th>\n",
       "      <th>N�mero de lesionats lleus</th>\n",
       "      <th>N�mero de lesionats greus</th>\n",
       "      <th>N�mero de v�ctimes</th>\n",
       "      <th>N�mero de vehicles implicats</th>\n",
       "      <th>Coordenada UTM (Y)</th>\n",
       "      <th>Coordenada UTM (X)</th>\n",
       "    </tr>\n",
       "  </thead>\n",
       "  <tbody>\n",
       "    <tr>\n",
       "      <th>0</th>\n",
       "      <td>2013S007360</td>\n",
       "      <td>-1</td>\n",
       "      <td>Desconegut</td>\n",
       "      <td>-1--1--1</td>\n",
       "      <td>Desconegut</td>\n",
       "      <td>-1</td>\n",
       "      <td>Desconegut</td>\n",
       "      <td>Desconegut</td>\n",
       "      <td>Dimecres</td>\n",
       "      <td>3</td>\n",
       "      <td>...</td>\n",
       "      <td>21</td>\n",
       "      <td>Tarda</td>\n",
       "      <td>Desconegut</td>\n",
       "      <td>0</td>\n",
       "      <td>1</td>\n",
       "      <td>0</td>\n",
       "      <td>1</td>\n",
       "      <td>2</td>\n",
       "      <td>-1</td>\n",
       "      <td>-1</td>\n",
       "    </tr>\n",
       "    <tr>\n",
       "      <th>1</th>\n",
       "      <td>2013S007723</td>\n",
       "      <td>10</td>\n",
       "      <td>Sant Mart�</td>\n",
       "      <td>101-10-64</td>\n",
       "      <td>el Camp de l'Arpa del Clot</td>\n",
       "      <td>152600</td>\n",
       "      <td>Guinard�</td>\n",
       "      <td>0028 0032</td>\n",
       "      <td>Dimarts</td>\n",
       "      <td>2</td>\n",
       "      <td>...</td>\n",
       "      <td>21</td>\n",
       "      <td>Tarda</td>\n",
       "      <td>Desconegut</td>\n",
       "      <td>0</td>\n",
       "      <td>1</td>\n",
       "      <td>0</td>\n",
       "      <td>1</td>\n",
       "      <td>2</td>\n",
       "      <td>4585218,67</td>\n",
       "      <td>431621,41</td>\n",
       "    </tr>\n",
       "    <tr>\n",
       "      <th>2</th>\n",
       "      <td>2013S005373</td>\n",
       "      <td>10</td>\n",
       "      <td>Sant Mart�</td>\n",
       "      <td>101-10-64</td>\n",
       "      <td>el Camp de l'Arpa del Clot</td>\n",
       "      <td>134801</td>\n",
       "      <td>Freser</td>\n",
       "      <td>0053 0053</td>\n",
       "      <td>Dimarts</td>\n",
       "      <td>2</td>\n",
       "      <td>...</td>\n",
       "      <td>10</td>\n",
       "      <td>Mat�</td>\n",
       "      <td>Creuar per fora pas de vianants</td>\n",
       "      <td>0</td>\n",
       "      <td>1</td>\n",
       "      <td>0</td>\n",
       "      <td>1</td>\n",
       "      <td>1</td>\n",
       "      <td>4585049,89</td>\n",
       "      <td>431605,09</td>\n",
       "    </tr>\n",
       "    <tr>\n",
       "      <th>3</th>\n",
       "      <td>2013S001486</td>\n",
       "      <td>10</td>\n",
       "      <td>Sant Mart�</td>\n",
       "      <td>101-10-64</td>\n",
       "      <td>el Camp de l'Arpa del Clot</td>\n",
       "      <td>161407</td>\n",
       "      <td>Ind�stria</td>\n",
       "      <td>0224 0224</td>\n",
       "      <td>Dimarts</td>\n",
       "      <td>2</td>\n",
       "      <td>...</td>\n",
       "      <td>10</td>\n",
       "      <td>Mat�</td>\n",
       "      <td>Altres</td>\n",
       "      <td>0</td>\n",
       "      <td>1</td>\n",
       "      <td>0</td>\n",
       "      <td>1</td>\n",
       "      <td>1</td>\n",
       "      <td>4584836,20</td>\n",
       "      <td>431302,26</td>\n",
       "    </tr>\n",
       "    <tr>\n",
       "      <th>4</th>\n",
       "      <td>2013S008254</td>\n",
       "      <td>10</td>\n",
       "      <td>Sant Mart�</td>\n",
       "      <td>101-10-64</td>\n",
       "      <td>el Camp de l'Arpa del Clot</td>\n",
       "      <td>161101</td>\n",
       "      <td>Independ�ncia</td>\n",
       "      <td>0357 0357</td>\n",
       "      <td>Dilluns</td>\n",
       "      <td>1</td>\n",
       "      <td>...</td>\n",
       "      <td>16</td>\n",
       "      <td>Tarda</td>\n",
       "      <td>Desconegut</td>\n",
       "      <td>0</td>\n",
       "      <td>1</td>\n",
       "      <td>0</td>\n",
       "      <td>1</td>\n",
       "      <td>2</td>\n",
       "      <td>4584704,26</td>\n",
       "      <td>431385,76</td>\n",
       "    </tr>\n",
       "  </tbody>\n",
       "</table>\n",
       "<p>5 rows × 25 columns</p>\n",
       "</div>"
      ],
      "text/plain": [
       "  N�mero d'expedient  Codi districte Nom districte   NK barri  \\\n",
       "0        2013S007360              -1    Desconegut   -1--1--1   \n",
       "1        2013S007723              10    Sant Mart�  101-10-64   \n",
       "2        2013S005373              10    Sant Mart�  101-10-64   \n",
       "3        2013S001486              10    Sant Mart�  101-10-64   \n",
       "4        2013S008254              10    Sant Mart�  101-10-64   \n",
       "\n",
       "                    Nom barri  Codi carrer     Nom carrer Num postal caption  \\\n",
       "0                  Desconegut           -1     Desconegut         Desconegut   \n",
       "1  el Camp de l'Arpa del Clot       152600       Guinard�          0028 0032   \n",
       "2  el Camp de l'Arpa del Clot       134801         Freser          0053 0053   \n",
       "3  el Camp de l'Arpa del Clot       161407      Ind�stria          0224 0224   \n",
       "4  el Camp de l'Arpa del Clot       161101  Independ�ncia          0357 0357   \n",
       "\n",
       "  Descripci� dia setmana  Dia de setmana  ... Hora de dia  Descripci� torn  \\\n",
       "0               Dimecres               3  ...          21            Tarda   \n",
       "1                Dimarts               2  ...          21            Tarda   \n",
       "2                Dimarts               2  ...          10             Mat�   \n",
       "3                Dimarts               2  ...          10             Mat�   \n",
       "4                Dilluns               1  ...          16            Tarda   \n",
       "\n",
       "          Descripci� causa vianant N�mero de morts  N�mero de lesionats lleus  \\\n",
       "0                       Desconegut               0                          1   \n",
       "1                       Desconegut               0                          1   \n",
       "2  Creuar per fora pas de vianants               0                          1   \n",
       "3                           Altres               0                          1   \n",
       "4                       Desconegut               0                          1   \n",
       "\n",
       "   N�mero de lesionats greus N�mero de v�ctimes N�mero de vehicles implicats  \\\n",
       "0                          0                  1                            2   \n",
       "1                          0                  1                            2   \n",
       "2                          0                  1                            1   \n",
       "3                          0                  1                            1   \n",
       "4                          0                  1                            2   \n",
       "\n",
       "   Coordenada UTM (Y)  Coordenada UTM (X)  \n",
       "0                  -1                  -1  \n",
       "1          4585218,67           431621,41  \n",
       "2          4585049,89           431605,09  \n",
       "3          4584836,20           431302,26  \n",
       "4          4584704,26           431385,76  \n",
       "\n",
       "[5 rows x 25 columns]"
      ]
     },
     "execution_count": 5,
     "metadata": {},
     "output_type": "execute_result"
    }
   ],
   "source": [
    "bcn.head()"
   ]
  },
  {
   "cell_type": "code",
   "execution_count": 6,
   "id": "fitting-selection",
   "metadata": {},
   "outputs": [
    {
     "data": {
      "text/plain": [
       "Index(['N�mero d'expedient', 'Codi districte', 'Nom districte', 'NK barri',\n",
       "       'Nom barri', 'Codi carrer', 'Nom carrer', 'Num postal caption',\n",
       "       'Descripci� dia setmana', 'Dia de setmana', 'Descripci� tipus dia',\n",
       "       'NK Any', 'Mes de any', 'Nom mes', 'Dia de mes', 'Hora de dia',\n",
       "       'Descripci� torn', 'Descripci� causa vianant', 'N�mero de morts',\n",
       "       'N�mero de lesionats lleus', 'N�mero de lesionats greus',\n",
       "       'N�mero de v�ctimes', 'N�mero de vehicles implicats',\n",
       "       'Coordenada UTM (Y)', 'Coordenada UTM (X)'],\n",
       "      dtype='object')"
      ]
     },
     "execution_count": 6,
     "metadata": {},
     "output_type": "execute_result"
    }
   ],
   "source": [
    "bcn.columns"
   ]
  },
  {
   "cell_type": "markdown",
   "id": "bibliographic-trinidad",
   "metadata": {},
   "source": [
    "* Dia de mes - Day of the month\n",
    "* Mes de any -  Month of the Year"
   ]
  },
  {
   "cell_type": "markdown",
   "id": "changing-watch",
   "metadata": {},
   "source": [
    "Now we will add a column of date in the data set so we can show the data according to date. "
   ]
  },
  {
   "cell_type": "code",
   "execution_count": 19,
   "id": "opened-instruction",
   "metadata": {},
   "outputs": [],
   "source": [
    "# Now we will concate two column to make the date column\n",
    "# those columns are 'Dia de mes' and 'Mes de any'\n",
    "\n",
    "bcn['Date'] = bcn[u'Dia de mes'].apply(lambda x: str(x)) +'-'+ bcn[u'Mes de any'].apply(lambda x: str(x))+'-'+'2013'\n",
    "# Now we have added a column in the dataset "
   ]
  },
  {
   "cell_type": "code",
   "execution_count": 20,
   "id": "exclusive-engineer",
   "metadata": {},
   "outputs": [
    {
     "data": {
      "text/html": [
       "<div>\n",
       "<style scoped>\n",
       "    .dataframe tbody tr th:only-of-type {\n",
       "        vertical-align: middle;\n",
       "    }\n",
       "\n",
       "    .dataframe tbody tr th {\n",
       "        vertical-align: top;\n",
       "    }\n",
       "\n",
       "    .dataframe thead th {\n",
       "        text-align: right;\n",
       "    }\n",
       "</style>\n",
       "<table border=\"1\" class=\"dataframe\">\n",
       "  <thead>\n",
       "    <tr style=\"text-align: right;\">\n",
       "      <th></th>\n",
       "      <th>N�mero d'expedient</th>\n",
       "      <th>Codi districte</th>\n",
       "      <th>Nom districte</th>\n",
       "      <th>NK barri</th>\n",
       "      <th>Nom barri</th>\n",
       "      <th>Codi carrer</th>\n",
       "      <th>Nom carrer</th>\n",
       "      <th>Num postal caption</th>\n",
       "      <th>Descripci� dia setmana</th>\n",
       "      <th>Dia de setmana</th>\n",
       "      <th>...</th>\n",
       "      <th>Descripci� torn</th>\n",
       "      <th>Descripci� causa vianant</th>\n",
       "      <th>N�mero de morts</th>\n",
       "      <th>N�mero de lesionats lleus</th>\n",
       "      <th>N�mero de lesionats greus</th>\n",
       "      <th>N�mero de v�ctimes</th>\n",
       "      <th>N�mero de vehicles implicats</th>\n",
       "      <th>Coordenada UTM (Y)</th>\n",
       "      <th>Coordenada UTM (X)</th>\n",
       "      <th>Date</th>\n",
       "    </tr>\n",
       "  </thead>\n",
       "  <tbody>\n",
       "    <tr>\n",
       "      <th>0</th>\n",
       "      <td>2013S007360</td>\n",
       "      <td>-1</td>\n",
       "      <td>Desconegut</td>\n",
       "      <td>-1--1--1</td>\n",
       "      <td>Desconegut</td>\n",
       "      <td>-1</td>\n",
       "      <td>Desconegut</td>\n",
       "      <td>Desconegut</td>\n",
       "      <td>Dimecres</td>\n",
       "      <td>3</td>\n",
       "      <td>...</td>\n",
       "      <td>Tarda</td>\n",
       "      <td>Desconegut</td>\n",
       "      <td>0</td>\n",
       "      <td>1</td>\n",
       "      <td>0</td>\n",
       "      <td>1</td>\n",
       "      <td>2</td>\n",
       "      <td>-1</td>\n",
       "      <td>-1</td>\n",
       "      <td>16-10-2013</td>\n",
       "    </tr>\n",
       "    <tr>\n",
       "      <th>1</th>\n",
       "      <td>2013S007723</td>\n",
       "      <td>10</td>\n",
       "      <td>Sant Mart�</td>\n",
       "      <td>101-10-64</td>\n",
       "      <td>el Camp de l'Arpa del Clot</td>\n",
       "      <td>152600</td>\n",
       "      <td>Guinard�</td>\n",
       "      <td>0028 0032</td>\n",
       "      <td>Dimarts</td>\n",
       "      <td>2</td>\n",
       "      <td>...</td>\n",
       "      <td>Tarda</td>\n",
       "      <td>Desconegut</td>\n",
       "      <td>0</td>\n",
       "      <td>1</td>\n",
       "      <td>0</td>\n",
       "      <td>1</td>\n",
       "      <td>2</td>\n",
       "      <td>4585218,67</td>\n",
       "      <td>431621,41</td>\n",
       "      <td>29-10-2013</td>\n",
       "    </tr>\n",
       "    <tr>\n",
       "      <th>2</th>\n",
       "      <td>2013S005373</td>\n",
       "      <td>10</td>\n",
       "      <td>Sant Mart�</td>\n",
       "      <td>101-10-64</td>\n",
       "      <td>el Camp de l'Arpa del Clot</td>\n",
       "      <td>134801</td>\n",
       "      <td>Freser</td>\n",
       "      <td>0053 0053</td>\n",
       "      <td>Dimarts</td>\n",
       "      <td>2</td>\n",
       "      <td>...</td>\n",
       "      <td>Mat�</td>\n",
       "      <td>Creuar per fora pas de vianants</td>\n",
       "      <td>0</td>\n",
       "      <td>1</td>\n",
       "      <td>0</td>\n",
       "      <td>1</td>\n",
       "      <td>1</td>\n",
       "      <td>4585049,89</td>\n",
       "      <td>431605,09</td>\n",
       "      <td>23-7-2013</td>\n",
       "    </tr>\n",
       "    <tr>\n",
       "      <th>3</th>\n",
       "      <td>2013S001486</td>\n",
       "      <td>10</td>\n",
       "      <td>Sant Mart�</td>\n",
       "      <td>101-10-64</td>\n",
       "      <td>el Camp de l'Arpa del Clot</td>\n",
       "      <td>161407</td>\n",
       "      <td>Ind�stria</td>\n",
       "      <td>0224 0224</td>\n",
       "      <td>Dimarts</td>\n",
       "      <td>2</td>\n",
       "      <td>...</td>\n",
       "      <td>Mat�</td>\n",
       "      <td>Altres</td>\n",
       "      <td>0</td>\n",
       "      <td>1</td>\n",
       "      <td>0</td>\n",
       "      <td>1</td>\n",
       "      <td>1</td>\n",
       "      <td>4584836,20</td>\n",
       "      <td>431302,26</td>\n",
       "      <td>26-2-2013</td>\n",
       "    </tr>\n",
       "    <tr>\n",
       "      <th>4</th>\n",
       "      <td>2013S008254</td>\n",
       "      <td>10</td>\n",
       "      <td>Sant Mart�</td>\n",
       "      <td>101-10-64</td>\n",
       "      <td>el Camp de l'Arpa del Clot</td>\n",
       "      <td>161101</td>\n",
       "      <td>Independ�ncia</td>\n",
       "      <td>0357 0357</td>\n",
       "      <td>Dilluns</td>\n",
       "      <td>1</td>\n",
       "      <td>...</td>\n",
       "      <td>Tarda</td>\n",
       "      <td>Desconegut</td>\n",
       "      <td>0</td>\n",
       "      <td>1</td>\n",
       "      <td>0</td>\n",
       "      <td>1</td>\n",
       "      <td>2</td>\n",
       "      <td>4584704,26</td>\n",
       "      <td>431385,76</td>\n",
       "      <td>18-11-2013</td>\n",
       "    </tr>\n",
       "  </tbody>\n",
       "</table>\n",
       "<p>5 rows × 26 columns</p>\n",
       "</div>"
      ],
      "text/plain": [
       "  N�mero d'expedient  Codi districte Nom districte   NK barri  \\\n",
       "0        2013S007360              -1    Desconegut   -1--1--1   \n",
       "1        2013S007723              10    Sant Mart�  101-10-64   \n",
       "2        2013S005373              10    Sant Mart�  101-10-64   \n",
       "3        2013S001486              10    Sant Mart�  101-10-64   \n",
       "4        2013S008254              10    Sant Mart�  101-10-64   \n",
       "\n",
       "                    Nom barri  Codi carrer     Nom carrer Num postal caption  \\\n",
       "0                  Desconegut           -1     Desconegut         Desconegut   \n",
       "1  el Camp de l'Arpa del Clot       152600       Guinard�          0028 0032   \n",
       "2  el Camp de l'Arpa del Clot       134801         Freser          0053 0053   \n",
       "3  el Camp de l'Arpa del Clot       161407      Ind�stria          0224 0224   \n",
       "4  el Camp de l'Arpa del Clot       161101  Independ�ncia          0357 0357   \n",
       "\n",
       "  Descripci� dia setmana  Dia de setmana  ... Descripci� torn  \\\n",
       "0               Dimecres               3  ...           Tarda   \n",
       "1                Dimarts               2  ...           Tarda   \n",
       "2                Dimarts               2  ...            Mat�   \n",
       "3                Dimarts               2  ...            Mat�   \n",
       "4                Dilluns               1  ...           Tarda   \n",
       "\n",
       "          Descripci� causa vianant  N�mero de morts N�mero de lesionats lleus  \\\n",
       "0                       Desconegut                0                         1   \n",
       "1                       Desconegut                0                         1   \n",
       "2  Creuar per fora pas de vianants                0                         1   \n",
       "3                           Altres                0                         1   \n",
       "4                       Desconegut                0                         1   \n",
       "\n",
       "   N�mero de lesionats greus  N�mero de v�ctimes N�mero de vehicles implicats  \\\n",
       "0                          0                   1                            2   \n",
       "1                          0                   1                            2   \n",
       "2                          0                   1                            1   \n",
       "3                          0                   1                            1   \n",
       "4                          0                   1                            2   \n",
       "\n",
       "  Coordenada UTM (Y)  Coordenada UTM (X)        Date  \n",
       "0                 -1                  -1  16-10-2013  \n",
       "1         4585218,67           431621,41  29-10-2013  \n",
       "2         4585049,89           431605,09   23-7-2013  \n",
       "3         4584836,20           431302,26   26-2-2013  \n",
       "4         4584704,26           431385,76  18-11-2013  \n",
       "\n",
       "[5 rows x 26 columns]"
      ]
     },
     "execution_count": 20,
     "metadata": {},
     "output_type": "execute_result"
    }
   ],
   "source": [
    "# checking the Date column in the dataset, it will be appended on the last column\n",
    "bcn.head()"
   ]
  },
  {
   "cell_type": "markdown",
   "id": "brave-production",
   "metadata": {},
   "source": [
    "NOw we need to convert this coumn in datetime format to perform some date time related operations."
   ]
  },
  {
   "cell_type": "code",
   "execution_count": 21,
   "id": "czech-meditation",
   "metadata": {},
   "outputs": [],
   "source": [
    "bcn['Date']  = pd.to_datetime(bcn['Date'])"
   ]
  },
  {
   "cell_type": "code",
   "execution_count": 22,
   "id": "dressed-underwear",
   "metadata": {},
   "outputs": [
    {
     "data": {
      "text/html": [
       "<div>\n",
       "<style scoped>\n",
       "    .dataframe tbody tr th:only-of-type {\n",
       "        vertical-align: middle;\n",
       "    }\n",
       "\n",
       "    .dataframe tbody tr th {\n",
       "        vertical-align: top;\n",
       "    }\n",
       "\n",
       "    .dataframe thead th {\n",
       "        text-align: right;\n",
       "    }\n",
       "</style>\n",
       "<table border=\"1\" class=\"dataframe\">\n",
       "  <thead>\n",
       "    <tr style=\"text-align: right;\">\n",
       "      <th></th>\n",
       "      <th>N�mero d'expedient</th>\n",
       "      <th>Codi districte</th>\n",
       "      <th>Nom districte</th>\n",
       "      <th>NK barri</th>\n",
       "      <th>Nom barri</th>\n",
       "      <th>Codi carrer</th>\n",
       "      <th>Nom carrer</th>\n",
       "      <th>Num postal caption</th>\n",
       "      <th>Descripci� dia setmana</th>\n",
       "      <th>Dia de setmana</th>\n",
       "      <th>...</th>\n",
       "      <th>Descripci� torn</th>\n",
       "      <th>Descripci� causa vianant</th>\n",
       "      <th>N�mero de morts</th>\n",
       "      <th>N�mero de lesionats lleus</th>\n",
       "      <th>N�mero de lesionats greus</th>\n",
       "      <th>N�mero de v�ctimes</th>\n",
       "      <th>N�mero de vehicles implicats</th>\n",
       "      <th>Coordenada UTM (Y)</th>\n",
       "      <th>Coordenada UTM (X)</th>\n",
       "      <th>Date</th>\n",
       "    </tr>\n",
       "  </thead>\n",
       "  <tbody>\n",
       "    <tr>\n",
       "      <th>0</th>\n",
       "      <td>2013S007360</td>\n",
       "      <td>-1</td>\n",
       "      <td>Desconegut</td>\n",
       "      <td>-1--1--1</td>\n",
       "      <td>Desconegut</td>\n",
       "      <td>-1</td>\n",
       "      <td>Desconegut</td>\n",
       "      <td>Desconegut</td>\n",
       "      <td>Dimecres</td>\n",
       "      <td>3</td>\n",
       "      <td>...</td>\n",
       "      <td>Tarda</td>\n",
       "      <td>Desconegut</td>\n",
       "      <td>0</td>\n",
       "      <td>1</td>\n",
       "      <td>0</td>\n",
       "      <td>1</td>\n",
       "      <td>2</td>\n",
       "      <td>-1</td>\n",
       "      <td>-1</td>\n",
       "      <td>2013-10-16</td>\n",
       "    </tr>\n",
       "    <tr>\n",
       "      <th>1</th>\n",
       "      <td>2013S007723</td>\n",
       "      <td>10</td>\n",
       "      <td>Sant Mart�</td>\n",
       "      <td>101-10-64</td>\n",
       "      <td>el Camp de l'Arpa del Clot</td>\n",
       "      <td>152600</td>\n",
       "      <td>Guinard�</td>\n",
       "      <td>0028 0032</td>\n",
       "      <td>Dimarts</td>\n",
       "      <td>2</td>\n",
       "      <td>...</td>\n",
       "      <td>Tarda</td>\n",
       "      <td>Desconegut</td>\n",
       "      <td>0</td>\n",
       "      <td>1</td>\n",
       "      <td>0</td>\n",
       "      <td>1</td>\n",
       "      <td>2</td>\n",
       "      <td>4585218,67</td>\n",
       "      <td>431621,41</td>\n",
       "      <td>2013-10-29</td>\n",
       "    </tr>\n",
       "    <tr>\n",
       "      <th>2</th>\n",
       "      <td>2013S005373</td>\n",
       "      <td>10</td>\n",
       "      <td>Sant Mart�</td>\n",
       "      <td>101-10-64</td>\n",
       "      <td>el Camp de l'Arpa del Clot</td>\n",
       "      <td>134801</td>\n",
       "      <td>Freser</td>\n",
       "      <td>0053 0053</td>\n",
       "      <td>Dimarts</td>\n",
       "      <td>2</td>\n",
       "      <td>...</td>\n",
       "      <td>Mat�</td>\n",
       "      <td>Creuar per fora pas de vianants</td>\n",
       "      <td>0</td>\n",
       "      <td>1</td>\n",
       "      <td>0</td>\n",
       "      <td>1</td>\n",
       "      <td>1</td>\n",
       "      <td>4585049,89</td>\n",
       "      <td>431605,09</td>\n",
       "      <td>2013-07-23</td>\n",
       "    </tr>\n",
       "    <tr>\n",
       "      <th>3</th>\n",
       "      <td>2013S001486</td>\n",
       "      <td>10</td>\n",
       "      <td>Sant Mart�</td>\n",
       "      <td>101-10-64</td>\n",
       "      <td>el Camp de l'Arpa del Clot</td>\n",
       "      <td>161407</td>\n",
       "      <td>Ind�stria</td>\n",
       "      <td>0224 0224</td>\n",
       "      <td>Dimarts</td>\n",
       "      <td>2</td>\n",
       "      <td>...</td>\n",
       "      <td>Mat�</td>\n",
       "      <td>Altres</td>\n",
       "      <td>0</td>\n",
       "      <td>1</td>\n",
       "      <td>0</td>\n",
       "      <td>1</td>\n",
       "      <td>1</td>\n",
       "      <td>4584836,20</td>\n",
       "      <td>431302,26</td>\n",
       "      <td>2013-02-26</td>\n",
       "    </tr>\n",
       "    <tr>\n",
       "      <th>4</th>\n",
       "      <td>2013S008254</td>\n",
       "      <td>10</td>\n",
       "      <td>Sant Mart�</td>\n",
       "      <td>101-10-64</td>\n",
       "      <td>el Camp de l'Arpa del Clot</td>\n",
       "      <td>161101</td>\n",
       "      <td>Independ�ncia</td>\n",
       "      <td>0357 0357</td>\n",
       "      <td>Dilluns</td>\n",
       "      <td>1</td>\n",
       "      <td>...</td>\n",
       "      <td>Tarda</td>\n",
       "      <td>Desconegut</td>\n",
       "      <td>0</td>\n",
       "      <td>1</td>\n",
       "      <td>0</td>\n",
       "      <td>1</td>\n",
       "      <td>2</td>\n",
       "      <td>4584704,26</td>\n",
       "      <td>431385,76</td>\n",
       "      <td>2013-11-18</td>\n",
       "    </tr>\n",
       "  </tbody>\n",
       "</table>\n",
       "<p>5 rows × 26 columns</p>\n",
       "</div>"
      ],
      "text/plain": [
       "  N�mero d'expedient  Codi districte Nom districte   NK barri  \\\n",
       "0        2013S007360              -1    Desconegut   -1--1--1   \n",
       "1        2013S007723              10    Sant Mart�  101-10-64   \n",
       "2        2013S005373              10    Sant Mart�  101-10-64   \n",
       "3        2013S001486              10    Sant Mart�  101-10-64   \n",
       "4        2013S008254              10    Sant Mart�  101-10-64   \n",
       "\n",
       "                    Nom barri  Codi carrer     Nom carrer Num postal caption  \\\n",
       "0                  Desconegut           -1     Desconegut         Desconegut   \n",
       "1  el Camp de l'Arpa del Clot       152600       Guinard�          0028 0032   \n",
       "2  el Camp de l'Arpa del Clot       134801         Freser          0053 0053   \n",
       "3  el Camp de l'Arpa del Clot       161407      Ind�stria          0224 0224   \n",
       "4  el Camp de l'Arpa del Clot       161101  Independ�ncia          0357 0357   \n",
       "\n",
       "  Descripci� dia setmana  Dia de setmana  ... Descripci� torn  \\\n",
       "0               Dimecres               3  ...           Tarda   \n",
       "1                Dimarts               2  ...           Tarda   \n",
       "2                Dimarts               2  ...            Mat�   \n",
       "3                Dimarts               2  ...            Mat�   \n",
       "4                Dilluns               1  ...           Tarda   \n",
       "\n",
       "          Descripci� causa vianant  N�mero de morts N�mero de lesionats lleus  \\\n",
       "0                       Desconegut                0                         1   \n",
       "1                       Desconegut                0                         1   \n",
       "2  Creuar per fora pas de vianants                0                         1   \n",
       "3                           Altres                0                         1   \n",
       "4                       Desconegut                0                         1   \n",
       "\n",
       "   N�mero de lesionats greus  N�mero de v�ctimes N�mero de vehicles implicats  \\\n",
       "0                          0                   1                            2   \n",
       "1                          0                   1                            2   \n",
       "2                          0                   1                            1   \n",
       "3                          0                   1                            1   \n",
       "4                          0                   1                            2   \n",
       "\n",
       "  Coordenada UTM (Y)  Coordenada UTM (X)       Date  \n",
       "0                 -1                  -1 2013-10-16  \n",
       "1         4585218,67           431621,41 2013-10-29  \n",
       "2         4585049,89           431605,09 2013-07-23  \n",
       "3         4584836,20           431302,26 2013-02-26  \n",
       "4         4584704,26           431385,76 2013-11-18  \n",
       "\n",
       "[5 rows x 26 columns]"
      ]
     },
     "execution_count": 22,
     "metadata": {},
     "output_type": "execute_result"
    }
   ],
   "source": [
    "bcn.head()"
   ]
  },
  {
   "cell_type": "markdown",
   "id": "experienced-minutes",
   "metadata": {},
   "source": [
    "Now we have converted our Date coulumn from object dtype to datetime format. Now we can perform date time operation on the dataset."
   ]
  },
  {
   "cell_type": "markdown",
   "id": "competent-wrist",
   "metadata": {},
   "source": [
    "### Sampling Distribution of Point Estimation"
   ]
  },
  {
   "cell_type": "markdown",
   "id": "rotary-destruction",
   "metadata": {},
   "source": [
    "Now after converting the date column in datetime format we will make the group of dataset by using the date column."
   ]
  },
  {
   "cell_type": "code",
   "execution_count": 23,
   "id": "ruled-hydrogen",
   "metadata": {},
   "outputs": [],
   "source": [
    "accidents = bcn.groupby([\"Date\"])"
   ]
  },
  {
   "cell_type": "code",
   "execution_count": 27,
   "id": "residential-challenge",
   "metadata": {},
   "outputs": [
    {
     "name": "stdout",
     "output_type": "stream",
     "text": [
      "Date\n",
      "2013-01-01    16\n",
      "2013-01-02    28\n",
      "2013-01-03    28\n",
      "2013-01-04    12\n",
      "2013-01-05    15\n",
      "              ..\n",
      "2013-12-27    21\n",
      "2013-12-28    12\n",
      "2013-12-29    13\n",
      "2013-12-30    26\n",
      "2013-12-31    19\n",
      "Length: 365, dtype: int64\n"
     ]
    }
   ],
   "source": [
    "ac = accidents.size()  # this will compute the group size for each group of data as you can see below the cell\n",
    "print(ac)"
   ]
  },
  {
   "cell_type": "markdown",
   "id": "enclosed-beverage",
   "metadata": {},
   "source": [
    "Now we will compute the mean of the distribution of this dataset, Since we are considering complete dataset to compute the mean of the distribution so  we will say that we are doing compution on the population. to do that we will just use the mean on the series.\n",
    "\n",
    "Note: We are considering the complete dataset as the population."
   ]
  },
  {
   "cell_type": "markdown",
   "id": "productive-coaching",
   "metadata": {},
   "source": [
    "**Population Mean**"
   ]
  },
  {
   "cell_type": "code",
   "execution_count": 32,
   "id": "flush-casting",
   "metadata": {},
   "outputs": [
    {
     "name": "stdout",
     "output_type": "stream",
     "text": [
      "Estimated accident in a day: 25.91\n"
     ]
    }
   ],
   "source": [
    "ac_mean = ac.mean()\n",
    "print(f\"Estimated accident in a day: {ac_mean:.2f}\")"
   ]
  },
  {
   "cell_type": "markdown",
   "id": "great-diving",
   "metadata": {},
   "source": [
    "Note: we should note that above point estimation (mean) has ben computed on the population so we will say it as the population mean."
   ]
  },
  {
   "cell_type": "markdown",
   "id": "loved-romance",
   "metadata": {},
   "source": [
    "#### Empirical distribution (sampling distribution of sample mean)\n",
    "\n",
    "In our dataset, we have access to the population, we can empirically build the sampling distribution of the smplle mean for a fiven number of the mean for 10000 samples with 200 observation from our dataset.\n",
    "\n",
    "We will make this empirical distribution with the following way:\n",
    "\n",
    "1. Draw a loarge number independent samples from the population.\n",
    "2. Evaluate the sample mean for each samples.\n",
    "3. Estimate the sampling distribution of sample mean by the empirical distribution of the sample replication."
   ]
  },
  {
   "cell_type": "code",
   "execution_count": 37,
   "id": "moved-picture",
   "metadata": {},
   "outputs": [],
   "source": [
    "# first of all we will see that how can we draw a sample from our pupulation\n",
    "# To draw the sample from pupulation we will use np.random.choice method on the dataset dataframe.\n",
    "# Now since we will perform the empiral distribution on the groupby dataframe so we need to convert \n",
    "# ac series which accomplished by the groupby method.\n",
    "\n",
    "# now we will convert this ac series into a dataframe.\n",
    "df = ac.to_frame()  # NOw we will perform index operation on this df."
   ]
  },
  {
   "cell_type": "code",
   "execution_count": 39,
   "id": "international-yield",
   "metadata": {},
   "outputs": [],
   "source": [
    "# NOw we will chosse a sample of 200 values from this population.\n",
    "test_sample = np.random.choice(df.index.values, 200)\n",
    "# in this df.index.values will gives us the index values and we will choose 200 values from them randomly"
   ]
  },
  {
   "cell_type": "code",
   "execution_count": 42,
   "id": "careful-apparatus",
   "metadata": {},
   "outputs": [
    {
     "data": {
      "text/plain": [
       "array(['2013-08-23T00:00:00.000000000', '2013-11-19T00:00:00.000000000',\n",
       "       '2013-04-29T00:00:00.000000000', '2013-12-13T00:00:00.000000000',\n",
       "       '2013-11-30T00:00:00.000000000', '2013-01-13T00:00:00.000000000',\n",
       "       '2013-09-05T00:00:00.000000000', '2013-11-23T00:00:00.000000000',\n",
       "       '2013-08-10T00:00:00.000000000', '2013-06-07T00:00:00.000000000'],\n",
       "      dtype='datetime64[ns]')"
      ]
     },
     "execution_count": 42,
     "metadata": {},
     "output_type": "execute_result"
    }
   ],
   "source": [
    "test_sample[:10]"
   ]
  },
  {
   "cell_type": "code",
   "execution_count": 51,
   "id": "governing-magnet",
   "metadata": {},
   "outputs": [
    {
     "data": {
      "text/html": [
       "<div>\n",
       "<style scoped>\n",
       "    .dataframe tbody tr th:only-of-type {\n",
       "        vertical-align: middle;\n",
       "    }\n",
       "\n",
       "    .dataframe tbody tr th {\n",
       "        vertical-align: top;\n",
       "    }\n",
       "\n",
       "    .dataframe thead th {\n",
       "        text-align: right;\n",
       "    }\n",
       "</style>\n",
       "<table border=\"1\" class=\"dataframe\">\n",
       "  <thead>\n",
       "    <tr style=\"text-align: right;\">\n",
       "      <th></th>\n",
       "      <th>0</th>\n",
       "    </tr>\n",
       "    <tr>\n",
       "      <th>Date</th>\n",
       "      <th></th>\n",
       "    </tr>\n",
       "  </thead>\n",
       "  <tbody>\n",
       "    <tr>\n",
       "      <th>2013-08-23</th>\n",
       "      <td>19</td>\n",
       "    </tr>\n",
       "    <tr>\n",
       "      <th>2013-11-19</th>\n",
       "      <td>19</td>\n",
       "    </tr>\n",
       "    <tr>\n",
       "      <th>2013-04-29</th>\n",
       "      <td>31</td>\n",
       "    </tr>\n",
       "    <tr>\n",
       "      <th>2013-12-13</th>\n",
       "      <td>46</td>\n",
       "    </tr>\n",
       "    <tr>\n",
       "      <th>2013-11-30</th>\n",
       "      <td>19</td>\n",
       "    </tr>\n",
       "    <tr>\n",
       "      <th>...</th>\n",
       "      <td>...</td>\n",
       "    </tr>\n",
       "    <tr>\n",
       "      <th>2013-01-26</th>\n",
       "      <td>17</td>\n",
       "    </tr>\n",
       "    <tr>\n",
       "      <th>2013-04-21</th>\n",
       "      <td>15</td>\n",
       "    </tr>\n",
       "    <tr>\n",
       "      <th>2013-08-06</th>\n",
       "      <td>23</td>\n",
       "    </tr>\n",
       "    <tr>\n",
       "      <th>2013-10-24</th>\n",
       "      <td>21</td>\n",
       "    </tr>\n",
       "    <tr>\n",
       "      <th>2013-07-27</th>\n",
       "      <td>23</td>\n",
       "    </tr>\n",
       "  </tbody>\n",
       "</table>\n",
       "<p>200 rows × 1 columns</p>\n",
       "</div>"
      ],
      "text/plain": [
       "             0\n",
       "Date          \n",
       "2013-08-23  19\n",
       "2013-11-19  19\n",
       "2013-04-29  31\n",
       "2013-12-13  46\n",
       "2013-11-30  19\n",
       "...         ..\n",
       "2013-01-26  17\n",
       "2013-04-21  15\n",
       "2013-08-06  23\n",
       "2013-10-24  21\n",
       "2013-07-27  23\n",
       "\n",
       "[200 rows x 1 columns]"
      ]
     },
     "execution_count": 51,
     "metadata": {},
     "output_type": "execute_result"
    }
   ],
   "source": [
    "df.loc[test_sample]"
   ]
  },
  {
   "cell_type": "markdown",
   "id": "thirty-dutch",
   "metadata": {},
   "source": [
    "Now as you can see that we have some random values fromt he dataset and if we want to compare the total values in the test_sample from the df dataset we can use tha  shape on them."
   ]
  },
  {
   "cell_type": "code",
   "execution_count": 43,
   "id": "difficult-climb",
   "metadata": {},
   "outputs": [
    {
     "name": "stdout",
     "output_type": "stream",
     "text": [
      "Total element in df :  (365, 1)\n",
      "Total element in the test_sample:  (200,)\n"
     ]
    }
   ],
   "source": [
    "print(\"Total element in df : \", df.shape)\n",
    "print(\"Total element in the test_sample: \", test_sample.shape)"
   ]
  },
  {
   "cell_type": "markdown",
   "id": "pressing-invention",
   "metadata": {},
   "source": [
    "As you can see that there are 365 elements inside the 'df' dataset and we have only selected 200 from them in test_sample. Now we will do this sampling method by 10000 times so we can compute the sampling mean which will be tends to population mean so we can compute the population mean without compution of population mean on the population."
   ]
  },
  {
   "cell_type": "code",
   "execution_count": 65,
   "id": "otherwise-needle",
   "metadata": {},
   "outputs": [],
   "source": [
    "# Now we will get the empirical distribution by making the 10000 samples from the population \n",
    "# so we can get the population mean from the empirical distribution of sample mean.\n",
    "\n",
    "def empirical_distribution(df,N_test, elements):\n",
    "    \n",
    "    # Now first of all we will make a mean array of zeros. \n",
    "    # later we will insert the mean valus\n",
    "    sample_means = [0]*N_test\n",
    "    \n",
    "    # NOw we will genereate the sample by using the for loop \n",
    "    for i in range(N_test):\n",
    "        rows = np.random.choice(df.index.values, elements)\n",
    "        # Now we have got the samples of index so now we need to choose the rows according\n",
    "        # to the randomly selected index values.\n",
    "        sampled_df = df.loc[rows]\n",
    "        # Now after selecting the sample of the df \n",
    "        # NOw we will compute the mean for each sample\n",
    "        sample_means[i] = sampled_df.mean().values[0]\n",
    "    return np.array(sample_means)"
   ]
  },
  {
   "cell_type": "code",
   "execution_count": 66,
   "id": "atlantic-journey",
   "metadata": {},
   "outputs": [],
   "source": [
    "# Now generating the empirical distribution\n",
    "emp_dis=empirical_distribution(df,10000,200)  # this will return the sampled mean distribution"
   ]
  },
  {
   "cell_type": "code",
   "execution_count": 106,
   "id": "floral-hawaii",
   "metadata": {},
   "outputs": [],
   "source": [
    "# making histogram \n",
    "x, y = np.histogram(emp_dis, bins=50)"
   ]
  },
  {
   "cell_type": "code",
   "execution_count": 107,
   "id": "eligible-bangkok",
   "metadata": {},
   "outputs": [
    {
     "data": {
      "text/plain": [
       "592"
      ]
     },
     "execution_count": 107,
     "metadata": {},
     "output_type": "execute_result"
    }
   ],
   "source": [
    "x.max()"
   ]
  },
  {
   "cell_type": "code",
   "execution_count": 108,
   "id": "direct-wellington",
   "metadata": {},
   "outputs": [
    {
     "data": {
      "text/plain": [
       "array([23.52  , 23.6147, 23.7094, 23.8041, 23.8988, 23.9935, 24.0882,\n",
       "       24.1829, 24.2776, 24.3723, 24.467 , 24.5617, 24.6564, 24.7511,\n",
       "       24.8458, 24.9405, 25.0352, 25.1299, 25.2246, 25.3193, 25.414 ,\n",
       "       25.5087, 25.6034, 25.6981, 25.7928, 25.8875, 25.9822, 26.0769,\n",
       "       26.1716, 26.2663, 26.361 , 26.4557, 26.5504, 26.6451, 26.7398,\n",
       "       26.8345, 26.9292, 27.0239, 27.1186, 27.2133, 27.308 , 27.4027,\n",
       "       27.4974, 27.5921, 27.6868, 27.7815, 27.8762, 27.9709, 28.0656,\n",
       "       28.1603, 28.255 ])"
      ]
     },
     "execution_count": 108,
     "metadata": {},
     "output_type": "execute_result"
    }
   ],
   "source": [
    "y"
   ]
  },
  {
   "cell_type": "markdown",
   "id": "protected-mention",
   "metadata": {},
   "source": [
    "Now we will compute the histogram of the values."
   ]
  },
  {
   "cell_type": "code",
   "execution_count": 112,
   "id": "dirty-calcium",
   "metadata": {},
   "outputs": [
    {
     "data": {
      "image/png": "[encoded data removed]",
      "text/plain": [
       "<Figure size 864x648 with 1 Axes>"
      ]
     },
     "metadata": {
      "needs_background": "light"
     },
     "output_type": "display_data"
    }
   ],
   "source": [
    "plt.figure(figsize = (12, 9))\n",
    "plt.hist(emp_dis, bins=50, ec='blue')\n",
    "plt.title(\"Emplical distribution of the sample mean\")\n",
    "plt.vlines(emp_dis.mean(), 0,x.max(), color='red', label='smaple distribution mean')\n",
    "plt.legend()\n",
    "plt.show()"
   ]
  },
  {
   "cell_type": "code",
   "execution_count": 75,
   "id": "ordinary-michael",
   "metadata": {},
   "outputs": [
    {
     "data": {
      "text/plain": [
       "array([25.92 , 26.67 , 26.615, ..., 26.42 , 25.185, 25.17 ])"
      ]
     },
     "execution_count": 75,
     "metadata": {},
     "output_type": "execute_result"
    }
   ],
   "source": [
    "emp_dis"
   ]
  },
  {
   "cell_type": "code",
   "execution_count": 79,
   "id": "rough-phoenix",
   "metadata": {},
   "outputs": [
    {
     "data": {
      "text/plain": [
       "(array([  13,   98,  531, 1589, 2666, 2735, 1628,  607,  116,   17],\n",
       "       dtype=int64),\n",
       " array([23.52  , 23.9935, 24.467 , 24.9405, 25.414 , 25.8875, 26.361 ,\n",
       "        26.8345, 27.308 , 27.7815, 28.255 ]))"
      ]
     },
     "execution_count": 79,
     "metadata": {},
     "output_type": "execute_result"
    }
   ],
   "source": []
  },
  {
   "cell_type": "code",
   "execution_count": null,
   "id": "rapid-marker",
   "metadata": {},
   "outputs": [],
   "source": []
  }
 ],
 "metadata": {
  "kernelspec": {
   "display_name": "Python 3",
   "language": "python",
   "name": "python3"
  },
  "language_info": {
   "codemirror_mode": {
    "name": "ipython",
    "version": 3
   },
   "file_extension": ".py",
   "mimetype": "text/x-python",
   "name": "python",
   "nbconvert_exporter": "python",
   "pygments_lexer": "ipython3",
   "version": "3.8.3"
  }
 },
 "nbformat": 4,
 "nbformat_minor": 5
}
