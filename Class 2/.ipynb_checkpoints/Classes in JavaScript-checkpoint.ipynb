{
 "cells": [
  {
   "cell_type": "markdown",
   "id": "0383325f-ba42-41cf-bc56-0e946e972b92",
   "metadata": {},
   "source": [
    "# Classes in JavaScript"
   ]
  },
  {
   "cell_type": "markdown",
   "id": "501be35c-ab3c-43a9-9524-fedd917a421e",
   "metadata": {},
   "source": [
    "```js\n",
    "    \n",
    "    class <class_name>{\n",
    "        // class block\n",
    "        // properties.\n",
    "        // constructor() method. no return value.\n",
    "        // methods.\n",
    "    }\n",
    "\n",
    "```"
   ]
  },
  {
   "cell_type": "markdown",
   "id": "cac8caf6-214e-4329-a8a6-ffb3f48b420a",
   "metadata": {},
   "source": [
    "### 1. Introduction sample of class"
   ]
  },
  {
   "cell_type": "code",
   "execution_count": 1,
   "id": "5de99823-4aba-4997-ad2d-7f3697272925",
   "metadata": {},
   "outputs": [],
   "source": [
    "class Person{\n",
    "    \n",
    "    // constructor will create the object of Person.\n",
    "    constructor(){\n",
    "        // body of constructor.\n",
    "        console.log(\"constructor is called, Creating a Person object..\")\n",
    "    }\n",
    "}"
   ]
  },
  {
   "cell_type": "code",
   "execution_count": 2,
   "id": "e4762468-957b-4cff-bd2e-de5e1f7a78d2",
   "metadata": {},
   "outputs": [
    {
     "name": "stdout",
     "output_type": "stream",
     "text": [
      "constructor is called, Creating a Person object..\n"
     ]
    },
    {
     "data": {
      "text/plain": [
       "Person {}"
      ]
     },
     "execution_count": 2,
     "metadata": {},
     "output_type": "execute_result"
    }
   ],
   "source": [
    "new Person();"
   ]
  },
  {
   "cell_type": "markdown",
   "id": "06056e6d-58c3-4f39-b5bf-87589c2e0534",
   "metadata": {},
   "source": [
    "### 2. adding some attribute/properties to class"
   ]
  },
  {
   "cell_type": "code",
   "execution_count": 3,
   "id": "f699c4da-9c0d-42b7-98e7-a63a9d5b3507",
   "metadata": {},
   "outputs": [],
   "source": [
    "class Person1{\n",
    "    \n",
    "    // constructor will create the object of Person.\n",
    "    constructor(){\n",
    "        // body of constructor.\n",
    "        console.log(\"constructor is called, Creating a Person object..\")\n",
    "        this.name;\n",
    "        this.age;\n",
    "        this.height;\n",
    "        this.bloodgroup;\n",
    "    }\n",
    "}"
   ]
  },
  {
   "cell_type": "code",
   "execution_count": 4,
   "id": "b92a79ff-2a0d-4055-8a13-e7a791eaa214",
   "metadata": {},
   "outputs": [
    {
     "name": "stdout",
     "output_type": "stream",
     "text": [
      "constructor is called, Creating a Person object..\n"
     ]
    },
    {
     "data": {
      "text/plain": [
       "Person1 {}"
      ]
     },
     "execution_count": 4,
     "metadata": {},
     "output_type": "execute_result"
    }
   ],
   "source": [
    "new Person1();"
   ]
  },
  {
   "cell_type": "markdown",
   "id": "ec920c13-5564-46f8-ace1-d1ca43370e1c",
   "metadata": {},
   "source": [
    "### 3. assining some values to properties."
   ]
  },
  {
   "cell_type": "code",
   "execution_count": null,
   "id": "fa38dd6e-c1b8-477f-87c7-58572233a47d",
   "metadata": {},
   "outputs": [],
   "source": [
    "class Person1{\n",
    "    \n",
    "    // constructor will create the object of Person.\n",
    "    constructor(name, age, height, bloodgroup){\n",
    "        // body of constructor.\n",
    "        console.log(\"constructor is called, Creating a Person object..\")\n",
    "        this.name = name;\n",
    "        this.age =  age;\n",
    "        this.height = height;\n",
    "        this.bloodgroup = bloodgroup;\n",
    "    }\n",
    "}"
   ]
  }
 ],
 "metadata": {
  "kernelspec": {
   "display_name": "JavaScript (Node.js)",
   "language": "javascript",
   "name": "javascript"
  },
  "language_info": {
   "file_extension": ".js",
   "mimetype": "application/javascript",
   "name": "javascript",
   "version": "16.17.0"
  }
 },
 "nbformat": 4,
 "nbformat_minor": 5
}
