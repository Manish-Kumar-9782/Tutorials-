{
 "cells": [
  {
   "cell_type": "markdown",
   "id": "6e233f9f-b48b-4c2e-81a0-b159e1fd7094",
   "metadata": {},
   "source": [
    "## Objects in JavaScript"
   ]
  },
  {
   "cell_type": "code",
   "execution_count": 3,
   "id": "e71aa762-6504-4319-bca2-a68b3d5c796c",
   "metadata": {},
   "outputs": [],
   "source": [
    "let Student = {\n",
    "    name: \"Varsha\",\n",
    "    age: 21,\n",
    "    height: 5.4,\n",
    "    bloodGroup: \"AB+\"\n",
    "}"
   ]
  },
  {
   "cell_type": "code",
   "execution_count": 4,
   "id": "0574f146-6367-4b4e-8173-684d2403dd4f",
   "metadata": {},
   "outputs": [
    {
     "data": {
      "text/plain": [
       "'object'"
      ]
     },
     "execution_count": 4,
     "metadata": {},
     "output_type": "execute_result"
    }
   ],
   "source": [
    "typeof(Student)"
   ]
  },
  {
   "cell_type": "code",
   "execution_count": 5,
   "id": "ffbe8ba5-7ba3-4449-86da-04681c9aa710",
   "metadata": {},
   "outputs": [
    {
     "data": {
      "text/plain": [
       "'Varsha'"
      ]
     },
     "execution_count": 5,
     "metadata": {},
     "output_type": "execute_result"
    }
   ],
   "source": [
    "Student.name"
   ]
  },
  {
   "cell_type": "code",
   "execution_count": 6,
   "id": "7a5e9654-7c11-4a79-85b0-c9af57c47fc9",
   "metadata": {},
   "outputs": [
    {
     "data": {
      "text/plain": [
       "21"
      ]
     },
     "execution_count": 6,
     "metadata": {},
     "output_type": "execute_result"
    }
   ],
   "source": [
    "Student.age"
   ]
  },
  {
   "cell_type": "code",
   "execution_count": 7,
   "id": "aeff9629-af3b-4fee-a0fa-875b3cb20ab0",
   "metadata": {},
   "outputs": [
    {
     "data": {
      "text/plain": [
       "5.4"
      ]
     },
     "execution_count": 7,
     "metadata": {},
     "output_type": "execute_result"
    }
   ],
   "source": [
    "Student.height"
   ]
  },
  {
   "cell_type": "code",
   "execution_count": 8,
   "id": "23a82c40-d0b6-438f-99ad-8c69a06026ef",
   "metadata": {},
   "outputs": [
    {
     "data": {
      "text/plain": [
       "'AB+'"
      ]
     },
     "execution_count": 8,
     "metadata": {},
     "output_type": "execute_result"
    }
   ],
   "source": [
    "Student.bloodGroup"
   ]
  },
  {
   "cell_type": "code",
   "execution_count": 9,
   "id": "36ea4d36-fcd6-4022-b096-3f7cf0e455ae",
   "metadata": {},
   "outputs": [
    {
     "ename": "SyntaxError",
     "evalue": "Identifier 'Student' has already been declared",
     "execution_count": 9,
     "output_type": "error",
     "traceback": [
      "evalmachine.<anonymous>:1",
      "let Student = {",
      "^",
      "",
      "SyntaxError: Identifier 'Student' has already been declared",
      "    at Script.runInThisContext (node:vm:129:12)",
      "    at Object.runInThisContext (node:vm:313:38)",
      "    at run ([eval]:1020:15)",
      "    at onRunRequest ([eval]:864:18)",
      "    at onMessage ([eval]:828:13)",
      "    at process.emit (node:events:513:28)",
      "    at emit (node:internal/child_process:939:14)",
      "    at processTicksAndRejections (node:internal/process/task_queues:84:21)"
     ]
    }
   ],
   "source": [
    "let Student = {\n",
    "    name: \"Varsha\",\n",
    "    age: 21,\n",
    "    height: 5.4,\n",
    "    bloodGroup: \"AB+\",\n",
    "}"
   ]
  },
  {
   "cell_type": "code",
   "execution_count": 14,
   "id": "c3f817e5-5e85-4aba-a5a8-fe5730f16859",
   "metadata": {},
   "outputs": [],
   "source": [
    "function show_info(){\n",
    "    \n",
    "    console.log(\"Name: \\t\\t\", Student.name)\n",
    "    console.log(\"Age: \\t\\t\", Student.age)\n",
    "    console.log(\"Height:\\t\\t\", Student.height)\n",
    "    console.log(\"BloodGroup: \\t\", Student.bloodGroup)\n",
    "}"
   ]
  },
  {
   "cell_type": "code",
   "execution_count": 15,
   "id": "193c55eb-9fb0-4525-bdb5-b9611766159b",
   "metadata": {},
   "outputs": [
    {
     "name": "stdout",
     "output_type": "stream",
     "text": [
      "Name: \t\t Varsha\n",
      "Age: \t\t 21\n",
      "Height:\t\t 5.4\n",
      "BloodGroup: \t AB+\n"
     ]
    }
   ],
   "source": [
    "show_info()"
   ]
  },
  {
   "cell_type": "markdown",
   "id": "09b9e88c-bff0-42d2-922c-398d52f5f6cc",
   "metadata": {},
   "source": [
    "Making our function for other student objects."
   ]
  },
  {
   "cell_type": "code",
   "execution_count": null,
   "id": "02aca29e-1715-4c12-b369-e3e33c4de10c",
   "metadata": {},
   "outputs": [],
   "source": [
    "function show_info(st){\n",
    "    \n",
    "    console.log(\"Name: \\t\\t\", st.name)\n",
    "    console.log(\"Age: \\t\\t\", st.age)\n",
    "    console.log(\"Height:\\t\\t\", st.height)\n",
    "    console.log(\"BloodGroup: \\t\", st.bloodGroup)\n",
    "}"
   ]
  }
 ],
 "metadata": {
  "kernelspec": {
   "display_name": "JavaScript (Node.js)",
   "language": "javascript",
   "name": "javascript"
  },
  "language_info": {
   "file_extension": ".js",
   "mimetype": "application/javascript",
   "name": "javascript",
   "version": "16.17.0"
  }
 },
 "nbformat": 4,
 "nbformat_minor": 5
}
