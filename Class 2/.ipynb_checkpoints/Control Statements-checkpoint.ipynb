{
 "cells": [
  {
   "cell_type": "markdown",
   "id": "dc8666b9-b1d8-48ca-9a22-144c92f5b863",
   "metadata": {},
   "source": [
    "# Control statements"
   ]
  },
  {
   "cell_type": "markdown",
   "id": "e71eae70-d99c-46db-a480-03f9922f9e03",
   "metadata": {},
   "source": [
    "Control statements are used to control the flow execution of the program or multiple statment."
   ]
  },
  {
   "cell_type": "code",
   "execution_count": null,
   "id": "f0a00757-e8ce-4287-abfa-a4a189617a44",
   "metadata": {},
   "outputs": [],
   "source": [
    "event1 = \"CAT\";\n",
    "event2 = \"BG\";\n",
    "event3 = \"CAR\"\n",
    "event = \"DF\"  \n",
    "if(event == event1){\n",
    "    console.log(\"going home with friend\");\n",
    "}\n",
    "else if (event == event2){\n",
    "    console.log(\"going home straight\");\n",
    "}\n",
    "else if (event == event3){\n",
    "    console.log(\"going home with friend but late.\");\n",
    "}\n",
    "else{\n",
    "    console.log(\"wait and sleep on road, then go home.\");\n",
    "}"
   ]
  },
  {
   "cell_type": "code",
   "execution_count": 1,
   "id": "35f6b24b-e9a6-4a90-8934-1a0932d6648c",
   "metadata": {},
   "outputs": [
    {
     "ename": "SyntaxError",
     "evalue": "Unexpected token ')'",
     "execution_count": 1,
     "output_type": "error",
     "traceback": [
      "evalmachine.<anonymous>:6",
      "else if (color = )",
      "                 ^",
      "",
      "SyntaxError: Unexpected token ')'",
      "    at new Script (node:vm:100:7)",
      "    at createScript (node:vm:265:10)",
      "    at Object.runInThisContext (node:vm:313:10)",
      "    at run ([eval]:1020:15)",
      "    at onRunRequest ([eval]:864:18)",
      "    at onMessage ([eval]:828:13)",
      "    at process.emit (node:events:513:28)",
      "    at emit (node:internal/child_process:939:14)",
      "    at processTicksAndRejections (node:internal/process/task_queues:84:21)"
     ]
    }
   ],
   "source": [
    "let color  = \"r\"\n",
    "\n",
    "if (color = \"r\"){\n",
    "    console.log(\"red\")\n",
    "}\n",
    "else if (color = \"g\"){\n",
    "    console.log(\"green\")\n",
    "}\n",
    "else if (color = \"b\"){\n",
    "    console.log(\"blue\")\n",
    "}\n",
    "else{\n",
    "    console.log(\"black\")\n",
    "}"
   ]
  },
  {
   "cell_type": "code",
   "execution_count": null,
   "id": "d55c3106-eef3-4f6e-85ac-feab738b1894",
   "metadata": {},
   "outputs": [],
   "source": []
  }
 ],
 "metadata": {
  "kernelspec": {
   "display_name": "JavaScript (Node.js)",
   "language": "javascript",
   "name": "javascript"
  },
  "language_info": {
   "file_extension": ".js",
   "mimetype": "application/javascript",
   "name": "javascript",
   "version": "16.17.0"
  }
 },
 "nbformat": 4,
 "nbformat_minor": 5
}
