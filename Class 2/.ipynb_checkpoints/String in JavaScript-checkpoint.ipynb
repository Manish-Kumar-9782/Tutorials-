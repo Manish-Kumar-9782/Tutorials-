{
 "cells": [
  {
   "cell_type": "markdown",
   "id": "90a70f65-a033-42d9-9471-eaab06d280e9",
   "metadata": {},
   "source": [
    "# String in JavaScript"
   ]
  },
  {
   "cell_type": "markdown",
   "id": "85d8de34-6aa4-4e70-bf92-66b452d53251",
   "metadata": {},
   "source": [
    "1. Object string\n",
    "2. Literal string\n",
    "3. template string"
   ]
  },
  {
   "cell_type": "code",
   "execution_count": 1,
   "id": "121a35f7-fe88-47a1-8e24-d8d822ffaf41",
   "metadata": {},
   "outputs": [],
   "source": [
    "// literal string with double quotes\n",
    "let str= \"hello this is string\""
   ]
  },
  {
   "cell_type": "code",
   "execution_count": 2,
   "id": "6cad6bd8-d9b2-436a-8493-de07e8297cd1",
   "metadata": {},
   "outputs": [
    {
     "data": {
      "text/plain": [
       "'hello this is string'"
      ]
     },
     "execution_count": 2,
     "metadata": {},
     "output_type": "execute_result"
    }
   ],
   "source": [
    "str"
   ]
  },
  {
   "cell_type": "code",
   "execution_count": 3,
   "id": "bf7aaca7-12b4-419a-ad12-861c31dce3bc",
   "metadata": {},
   "outputs": [],
   "source": [
    "//  literal string with single quotes\n",
    "let str2 = 'this is single qoute string'"
   ]
  },
  {
   "cell_type": "code",
   "execution_count": 4,
   "id": "8a505a62-dfba-46e9-9354-622c3d708fec",
   "metadata": {},
   "outputs": [
    {
     "data": {
      "text/plain": [
       "'this is single qoute string'"
      ]
     },
     "execution_count": 4,
     "metadata": {},
     "output_type": "execute_result"
    }
   ],
   "source": [
    "str2"
   ]
  },
  {
   "cell_type": "code",
   "execution_count": 5,
   "id": "cdda74c8-ac6e-4be0-b1c3-68bb371d82ba",
   "metadata": {},
   "outputs": [],
   "source": [
    "// literal string with template string (backtiks)\n",
    "let str3 = `this is also a template string`"
   ]
  },
  {
   "cell_type": "code",
   "execution_count": 6,
   "id": "d379878a-b1ee-4e64-8a78-f05c3c0903e1",
   "metadata": {},
   "outputs": [
    {
     "data": {
      "text/plain": [
       "'this is also a template string'"
      ]
     },
     "execution_count": 6,
     "metadata": {},
     "output_type": "execute_result"
    }
   ],
   "source": [
    "str3"
   ]
  },
  {
   "cell_type": "code",
   "execution_count": 7,
   "id": "7be22339-93fd-4960-8306-29e60a8e3d39",
   "metadata": {},
   "outputs": [],
   "source": [
    "let str4 = \"hello 'this' is string\" "
   ]
  },
  {
   "cell_type": "code",
   "execution_count": 8,
   "id": "104bdaef-9c58-4b74-b386-a3eacc889ae9",
   "metadata": {},
   "outputs": [
    {
     "data": {
      "text/plain": [
       "\"hello 'this' is string\""
      ]
     },
     "execution_count": 8,
     "metadata": {},
     "output_type": "execute_result"
    }
   ],
   "source": [
    "str4"
   ]
  },
  {
   "cell_type": "code",
   "execution_count": 9,
   "id": "acbdaccd-f85f-48bb-9e45-829f472fb900",
   "metadata": {},
   "outputs": [],
   "source": [
    "let name = \"abhishek\"\n",
    "let hobby = \"codding\""
   ]
  },
  {
   "cell_type": "code",
   "execution_count": 11,
   "id": "de6d0bdc-361d-4ef7-8cb8-2d22468b6aac",
   "metadata": {},
   "outputs": [
    {
     "data": {
      "text/plain": [
       "'my name is abhishek and my hobby is codding'"
      ]
     },
     "execution_count": 11,
     "metadata": {},
     "output_type": "execute_result"
    }
   ],
   "source": [
    "// literal string with some variables or object.\n",
    "\n",
    "`my name is ${name} and my hobby is ${hobby}`"
   ]
  },
  {
   "cell_type": "code",
   "execution_count": 12,
   "id": "3976393f-f1a0-45f3-a5d9-d82671e04a29",
   "metadata": {},
   "outputs": [],
   "source": [
    "let arr = [\"helo\", \"jello\", 1,23]"
   ]
  },
  {
   "cell_type": "code",
   "execution_count": 13,
   "id": "56efecdd-6fff-4adf-b538-30c59c569336",
   "metadata": {},
   "outputs": [
    {
     "data": {
      "text/plain": [
       "'this is an array helo,jello,1,23'"
      ]
     },
     "execution_count": 13,
     "metadata": {},
     "output_type": "execute_result"
    }
   ],
   "source": [
    "`this is an array ${arr}`"
   ]
  },
  {
   "cell_type": "markdown",
   "id": "af53b25e-d1c0-40c8-b845-d323efde1dce",
   "metadata": {},
   "source": [
    "**object string**\n",
    "\n",
    "these string are made by using the `String` constructor."
   ]
  },
  {
   "cell_type": "code",
   "execution_count": 14,
   "id": "deef0967-7578-4ffc-bffe-03da14ad9aae",
   "metadata": {},
   "outputs": [],
   "source": [
    "let strx = new String(\"hello this is object string\")"
   ]
  },
  {
   "cell_type": "code",
   "execution_count": 15,
   "id": "f2f1cf76-4cce-4b14-bf71-b55c9c7fc36c",
   "metadata": {},
   "outputs": [
    {
     "data": {
      "text/plain": [
       "[String: 'hello this is object string']"
      ]
     },
     "execution_count": 15,
     "metadata": {},
     "output_type": "execute_result"
    }
   ],
   "source": [
    "strx"
   ]
  },
  {
   "cell_type": "code",
   "execution_count": 16,
   "id": "1547fc7b-50fb-4bd5-9a7f-c26f97f47f11",
   "metadata": {},
   "outputs": [
    {
     "data": {
      "text/plain": [
       "'this is a object string: hello this is object string'"
      ]
     },
     "execution_count": 16,
     "metadata": {},
     "output_type": "execute_result"
    }
   ],
   "source": [
    "`this is a object string: ${strx}`"
   ]
  },
  {
   "cell_type": "code",
   "execution_count": 18,
   "id": "bacb968f-06fb-4dae-88e2-e19ef024c8bf",
   "metadata": {},
   "outputs": [
    {
     "data": {
      "text/plain": [
       "'hello this is string'"
      ]
     },
     "execution_count": 18,
     "metadata": {},
     "output_type": "execute_result"
    }
   ],
   "source": [
    "str"
   ]
  },
  {
   "cell_type": "markdown",
   "id": "08cf282f-4b8a-4630-bf14-7ec185751e19",
   "metadata": {},
   "source": [
    "**accessing the string characters**"
   ]
  },
  {
   "cell_type": "code",
   "execution_count": 19,
   "id": "23e3e19e-3015-4463-9fe6-4ff2cba05b9c",
   "metadata": {},
   "outputs": [
    {
     "data": {
      "text/plain": [
       "'e'"
      ]
     },
     "execution_count": 19,
     "metadata": {},
     "output_type": "execute_result"
    }
   ],
   "source": [
    "str.charAt(1)"
   ]
  },
  {
   "cell_type": "code",
   "execution_count": 21,
   "id": "5e152c98-99ec-4bf7-bebd-b17ddc461c7f",
   "metadata": {},
   "outputs": [
    {
     "data": {
      "text/plain": [
       "'e'"
      ]
     },
     "execution_count": 21,
     "metadata": {},
     "output_type": "execute_result"
    }
   ],
   "source": [
    "str[1]"
   ]
  },
  {
   "cell_type": "markdown",
   "id": "cebc4e9f-860e-4e1e-8cb4-484c301dba06",
   "metadata": {},
   "source": [
    "**indexOf() string method** "
   ]
  },
  {
   "cell_type": "code",
   "execution_count": 22,
   "id": "c3639d6b-3b91-4c89-bcd9-125399c3abb4",
   "metadata": {},
   "outputs": [
    {
     "data": {
      "text/plain": [
       "6"
      ]
     },
     "execution_count": 22,
     "metadata": {},
     "output_type": "execute_result"
    }
   ],
   "source": [
    "str.indexOf(\"this\")"
   ]
  },
  {
   "cell_type": "code",
   "execution_count": 23,
   "id": "2f25a04b-b18d-4c8e-909b-65012566d37a",
   "metadata": {},
   "outputs": [
    {
     "data": {
      "text/plain": [
       "'t'"
      ]
     },
     "execution_count": 23,
     "metadata": {},
     "output_type": "execute_result"
    }
   ],
   "source": [
    "str[6]"
   ]
  },
  {
   "cell_type": "code",
   "execution_count": 24,
   "id": "9939a661-a2eb-4aba-bb45-7025b9c1f24f",
   "metadata": {},
   "outputs": [
    {
     "data": {
      "text/plain": [
       "'hello this is string'"
      ]
     },
     "execution_count": 24,
     "metadata": {},
     "output_type": "execute_result"
    }
   ],
   "source": [
    "str"
   ]
  },
  {
   "cell_type": "code",
   "execution_count": 26,
   "id": "6868c1df-db86-4ddc-9720-e933e060efd2",
   "metadata": {},
   "outputs": [
    {
     "ename": "TypeError",
     "evalue": "str.formCharAt is not a function",
     "execution_count": 26,
     "output_type": "error",
     "traceback": [
      "evalmachine.<anonymous>:1",
      "str.formCharAt(\"hello\")",
      "    ^",
      "",
      "TypeError: str.formCharAt is not a function",
      "    at evalmachine.<anonymous>:1:5",
      "    at Script.runInThisContext (node:vm:129:12)",
      "    at Object.runInThisContext (node:vm:313:38)",
      "    at run ([eval]:1020:15)",
      "    at onRunRequest ([eval]:864:18)",
      "    at onMessage ([eval]:828:13)",
      "    at process.emit (node:events:513:28)",
      "    at emit (node:internal/child_process:939:14)",
      "    at processTicksAndRejections (node:internal/process/task_queues:84:21)"
     ]
    }
   ],
   "source": []
  },
  {
   "cell_type": "code",
   "execution_count": null,
   "id": "78e33b28-68a9-429f-832f-e2e1411d4707",
   "metadata": {},
   "outputs": [],
   "source": []
  }
 ],
 "metadata": {
  "kernelspec": {
   "display_name": "JavaScript (Node.js)",
   "language": "javascript",
   "name": "javascript"
  },
  "language_info": {
   "file_extension": ".js",
   "mimetype": "application/javascript",
   "name": "javascript",
   "version": "16.17.0"
  }
 },
 "nbformat": 4,
 "nbformat_minor": 5
}
