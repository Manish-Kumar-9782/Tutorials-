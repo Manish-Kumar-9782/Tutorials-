{
 "cells": [
  {
   "cell_type": "markdown",
   "id": "90a70f65-a033-42d9-9471-eaab06d280e9",
   "metadata": {},
   "source": [
    "# String in JavaScript"
   ]
  },
  {
   "cell_type": "markdown",
   "id": "85d8de34-6aa4-4e70-bf92-66b452d53251",
   "metadata": {},
   "source": [
    "1. Object string\n",
    "2. Literal string\n",
    "3. template string"
   ]
  },
  {
   "cell_type": "code",
   "execution_count": 1,
   "id": "121a35f7-fe88-47a1-8e24-d8d822ffaf41",
   "metadata": {},
   "outputs": [],
   "source": [
    "// literal string with double quotes\n",
    "let str= \"hello this is string\""
   ]
  },
  {
   "cell_type": "code",
   "execution_count": 2,
   "id": "6cad6bd8-d9b2-436a-8493-de07e8297cd1",
   "metadata": {},
   "outputs": [
    {
     "data": {
      "text/plain": [
       "'hello this is string'"
      ]
     },
     "execution_count": 2,
     "metadata": {},
     "output_type": "execute_result"
    }
   ],
   "source": [
    "str"
   ]
  },
  {
   "cell_type": "code",
   "execution_count": 3,
   "id": "bf7aaca7-12b4-419a-ad12-861c31dce3bc",
   "metadata": {},
   "outputs": [],
   "source": [
    "//  literal string with single quotes\n",
    "let str2 = 'this is single qoute string'"
   ]
  },
  {
   "cell_type": "code",
   "execution_count": 4,
   "id": "8a505a62-dfba-46e9-9354-622c3d708fec",
   "metadata": {},
   "outputs": [
    {
     "data": {
      "text/plain": [
       "'this is single qoute string'"
      ]
     },
     "execution_count": 4,
     "metadata": {},
     "output_type": "execute_result"
    }
   ],
   "source": [
    "str2"
   ]
  },
  {
   "cell_type": "code",
   "execution_count": 5,
   "id": "cdda74c8-ac6e-4be0-b1c3-68bb371d82ba",
   "metadata": {},
   "outputs": [],
   "source": [
    "// literal string with template string (backtiks)\n",
    "let str3 = `this is also a template string`"
   ]
  },
  {
   "cell_type": "code",
   "execution_count": 6,
   "id": "d379878a-b1ee-4e64-8a78-f05c3c0903e1",
   "metadata": {},
   "outputs": [
    {
     "data": {
      "text/plain": [
       "'this is also a template string'"
      ]
     },
     "execution_count": 6,
     "metadata": {},
     "output_type": "execute_result"
    }
   ],
   "source": [
    "str3"
   ]
  },
  {
   "cell_type": "code",
   "execution_count": 7,
   "id": "7be22339-93fd-4960-8306-29e60a8e3d39",
   "metadata": {},
   "outputs": [],
   "source": [
    "let str4 = \"hello 'this' is string\" "
   ]
  },
  {
   "cell_type": "code",
   "execution_count": 8,
   "id": "104bdaef-9c58-4b74-b386-a3eacc889ae9",
   "metadata": {},
   "outputs": [
    {
     "data": {
      "text/plain": [
       "\"hello 'this' is string\""
      ]
     },
     "execution_count": 8,
     "metadata": {},
     "output_type": "execute_result"
    }
   ],
   "source": [
    "str4"
   ]
  },
  {
   "cell_type": "code",
   "execution_count": 9,
   "id": "acbdaccd-f85f-48bb-9e45-829f472fb900",
   "metadata": {},
   "outputs": [],
   "source": [
    "let name = \"abhishek\"\n",
    "let hobby = \"codding\""
   ]
  },
  {
   "cell_type": "code",
   "execution_count": 11,
   "id": "de6d0bdc-361d-4ef7-8cb8-2d22468b6aac",
   "metadata": {},
   "outputs": [
    {
     "data": {
      "text/plain": [
       "'my name is abhishek and my hobby is codding'"
      ]
     },
     "execution_count": 11,
     "metadata": {},
     "output_type": "execute_result"
    }
   ],
   "source": [
    "// literal string with some variables or object.\n",
    "\n",
    "`my name is ${name} and my hobby is ${hobby}`"
   ]
  },
  {
   "cell_type": "code",
   "execution_count": 12,
   "id": "3976393f-f1a0-45f3-a5d9-d82671e04a29",
   "metadata": {},
   "outputs": [],
   "source": [
    "let arr = [\"helo\", \"jello\", 1,23]"
   ]
  },
  {
   "cell_type": "code",
   "execution_count": 13,
   "id": "56efecdd-6fff-4adf-b538-30c59c569336",
   "metadata": {},
   "outputs": [
    {
     "data": {
      "text/plain": [
       "'this is an array helo,jello,1,23'"
      ]
     },
     "execution_count": 13,
     "metadata": {},
     "output_type": "execute_result"
    }
   ],
   "source": [
    "`this is an array ${arr}`"
   ]
  },
  {
   "cell_type": "markdown",
   "id": "af53b25e-d1c0-40c8-b845-d323efde1dce",
   "metadata": {},
   "source": [
    "**object string**\n",
    "\n",
    "these string are made by using the `String` constructor."
   ]
  },
  {
   "cell_type": "code",
   "execution_count": 14,
   "id": "deef0967-7578-4ffc-bffe-03da14ad9aae",
   "metadata": {},
   "outputs": [],
   "source": [
    "let strx = new String(\"hello this is object string\")"
   ]
  },
  {
   "cell_type": "code",
   "execution_count": 15,
   "id": "f2f1cf76-4cce-4b14-bf71-b55c9c7fc36c",
   "metadata": {},
   "outputs": [
    {
     "data": {
      "text/plain": [
       "[String: 'hello this is object string']"
      ]
     },
     "execution_count": 15,
     "metadata": {},
     "output_type": "execute_result"
    }
   ],
   "source": [
    "strx"
   ]
  },
  {
   "cell_type": "code",
   "execution_count": 16,
   "id": "1547fc7b-50fb-4bd5-9a7f-c26f97f47f11",
   "metadata": {},
   "outputs": [
    {
     "data": {
      "text/plain": [
       "'this is a object string: hello this is object string'"
      ]
     },
     "execution_count": 16,
     "metadata": {},
     "output_type": "execute_result"
    }
   ],
   "source": [
    "`this is a object string: ${strx}`"
   ]
  },
  {
   "cell_type": "code",
   "execution_count": 18,
   "id": "bacb968f-06fb-4dae-88e2-e19ef024c8bf",
   "metadata": {},
   "outputs": [
    {
     "data": {
      "text/plain": [
       "'hello this is string'"
      ]
     },
     "execution_count": 18,
     "metadata": {},
     "output_type": "execute_result"
    }
   ],
   "source": [
    "str"
   ]
  },
  {
   "cell_type": "markdown",
   "id": "08cf282f-4b8a-4630-bf14-7ec185751e19",
   "metadata": {},
   "source": [
    "**accessing the string characters**"
   ]
  },
  {
   "cell_type": "code",
   "execution_count": 19,
   "id": "23e3e19e-3015-4463-9fe6-4ff2cba05b9c",
   "metadata": {},
   "outputs": [
    {
     "data": {
      "text/plain": [
       "'e'"
      ]
     },
     "execution_count": 19,
     "metadata": {},
     "output_type": "execute_result"
    }
   ],
   "source": [
    "str.charAt(1)"
   ]
  },
  {
   "cell_type": "code",
   "execution_count": 21,
   "id": "5e152c98-99ec-4bf7-bebd-b17ddc461c7f",
   "metadata": {},
   "outputs": [
    {
     "data": {
      "text/plain": [
       "'e'"
      ]
     },
     "execution_count": 21,
     "metadata": {},
     "output_type": "execute_result"
    }
   ],
   "source": [
    "str[1]"
   ]
  },
  {
   "cell_type": "markdown",
   "id": "cebc4e9f-860e-4e1e-8cb4-484c301dba06",
   "metadata": {},
   "source": [
    "**indexOf() string method** "
   ]
  },
  {
   "cell_type": "code",
   "execution_count": 22,
   "id": "c3639d6b-3b91-4c89-bcd9-125399c3abb4",
   "metadata": {},
   "outputs": [
    {
     "data": {
      "text/plain": [
       "6"
      ]
     },
     "execution_count": 22,
     "metadata": {},
     "output_type": "execute_result"
    }
   ],
   "source": [
    "str.indexOf(\"this\")"
   ]
  },
  {
   "cell_type": "code",
   "execution_count": 23,
   "id": "2f25a04b-b18d-4c8e-909b-65012566d37a",
   "metadata": {},
   "outputs": [
    {
     "data": {
      "text/plain": [
       "'t'"
      ]
     },
     "execution_count": 23,
     "metadata": {},
     "output_type": "execute_result"
    }
   ],
   "source": [
    "str[6]"
   ]
  },
  {
   "cell_type": "code",
   "execution_count": 24,
   "id": "9939a661-a2eb-4aba-bb45-7025b9c1f24f",
   "metadata": {},
   "outputs": [
    {
     "data": {
      "text/plain": [
       "'hello this is string'"
      ]
     },
     "execution_count": 24,
     "metadata": {},
     "output_type": "execute_result"
    }
   ],
   "source": [
    "str"
   ]
  },
  {
   "cell_type": "code",
   "execution_count": 28,
   "id": "6868c1df-db86-4ddc-9720-e933e060efd2",
   "metadata": {},
   "outputs": [
    {
     "data": {
      "text/plain": [
       "104"
      ]
     },
     "execution_count": 28,
     "metadata": {},
     "output_type": "execute_result"
    }
   ],
   "source": [
    "str.charCodeAt(0)"
   ]
  },
  {
   "cell_type": "code",
   "execution_count": 29,
   "id": "78e33b28-68a9-429f-832f-e2e1411d4707",
   "metadata": {},
   "outputs": [
    {
     "data": {
      "text/plain": [
       "'UTF-16'"
      ]
     },
     "execution_count": 29,
     "metadata": {},
     "output_type": "execute_result"
    }
   ],
   "source": [
    "\"UTF-16\""
   ]
  },
  {
   "cell_type": "code",
   "execution_count": 49,
   "id": "616b4195-6ee7-4f04-bd81-fd19b656c3b3",
   "metadata": {},
   "outputs": [
    {
     "data": {
      "text/plain": [
       "'this is 😀 smily emoji '"
      ]
     },
     "execution_count": 49,
     "metadata": {},
     "output_type": "execute_result"
    }
   ],
   "source": [
    "'this is \\u{1F600} smily emoji '"
   ]
  },
  {
   "cell_type": "code",
   "execution_count": 44,
   "id": "3235d285-f206-420a-aa17-d0ca49f2067c",
   "metadata": {},
   "outputs": [
    {
     "data": {
      "text/plain": [
       "'😀'"
      ]
     },
     "execution_count": 44,
     "metadata": {},
     "output_type": "execute_result"
    }
   ],
   "source": [
    "String.fromCodePoint(55357, 56832)"
   ]
  },
  {
   "cell_type": "code",
   "execution_count": 42,
   "id": "f976f8b4-b774-47b9-93e7-0e7c5c193b5d",
   "metadata": {},
   "outputs": [
    {
     "data": {
      "text/plain": [
       "56832"
      ]
     },
     "execution_count": 42,
     "metadata": {},
     "output_type": "execute_result"
    }
   ],
   "source": [
    "'😀'.charCodeAt(1)"
   ]
  },
  {
   "cell_type": "code",
   "execution_count": 50,
   "id": "f3b09c77-0682-4bb6-82cd-1af995a24f69",
   "metadata": {},
   "outputs": [
    {
     "data": {
      "text/plain": [
       "'this is \\n slash n'"
      ]
     },
     "execution_count": 50,
     "metadata": {},
     "output_type": "execute_result"
    }
   ],
   "source": [
    "'this is \\u000A slash n'"
   ]
  },
  {
   "cell_type": "markdown",
   "id": "48797eba-dce8-4c7e-a6c2-7b6bf05f9ad2",
   "metadata": {},
   "source": [
    "**substring**"
   ]
  },
  {
   "cell_type": "code",
   "execution_count": 53,
   "id": "c7357861-7493-4422-9b90-dc20a0215c4a",
   "metadata": {},
   "outputs": [
    {
     "data": {
      "text/plain": [
       "'hello '"
      ]
     },
     "execution_count": 53,
     "metadata": {},
     "output_type": "execute_result"
    }
   ],
   "source": [
    "str.substring(0,6)"
   ]
  },
  {
   "cell_type": "code",
   "execution_count": 54,
   "id": "5f81ec69-5849-4606-af2f-e0b921969f1f",
   "metadata": {},
   "outputs": [
    {
     "data": {
      "text/plain": [
       "'hello'"
      ]
     },
     "execution_count": 54,
     "metadata": {},
     "output_type": "execute_result"
    }
   ],
   "source": [
    "str.substring(0,6).trim()"
   ]
  },
  {
   "cell_type": "code",
   "execution_count": 56,
   "id": "8ca17601-99dc-4ab3-85c5-6ecadfbcf240",
   "metadata": {},
   "outputs": [],
   "source": [
    "let dash = \"     hello this is bakwas   ! hsello   \""
   ]
  },
  {
   "cell_type": "code",
   "execution_count": 57,
   "id": "930c1ce7-ea24-4bba-b9cf-a37472f68860",
   "metadata": {},
   "outputs": [
    {
     "data": {
      "text/plain": [
       "'     hello this is bakwas   ! hsello   '"
      ]
     },
     "execution_count": 57,
     "metadata": {},
     "output_type": "execute_result"
    }
   ],
   "source": [
    "dash"
   ]
  },
  {
   "cell_type": "code",
   "execution_count": 59,
   "id": "e0a6f763-204b-46c4-b9f1-c3ee16386c66",
   "metadata": {},
   "outputs": [
    {
     "data": {
      "text/plain": [
       "'hello this is bakwas   ! hsello'"
      ]
     },
     "execution_count": 59,
     "metadata": {},
     "output_type": "execute_result"
    }
   ],
   "source": [
    "dash.trim(\"\")"
   ]
  },
  {
   "cell_type": "code",
   "execution_count": 60,
   "id": "100f6a29-95c0-4e9e-9d99-9c216f91557a",
   "metadata": {},
   "outputs": [],
   "source": [
    "let funny = \"----tin-tin-tin----\""
   ]
  },
  {
   "cell_type": "code",
   "execution_count": 62,
   "id": "2d97d5c3-f7ec-48d5-b0c5-8c5f30c5ba00",
   "metadata": {},
   "outputs": [
    {
     "data": {
      "text/plain": [
       "'----tin-tin-tin----'"
      ]
     },
     "execution_count": 62,
     "metadata": {},
     "output_type": "execute_result"
    }
   ],
   "source": [
    "funny.trim()"
   ]
  },
  {
   "cell_type": "code",
   "execution_count": 63,
   "id": "1763bfbc-0ad4-4750-92d8-ac55dcbde650",
   "metadata": {},
   "outputs": [
    {
     "data": {
      "text/plain": [
       "'     hello this is bakwas   ! hsello'"
      ]
     },
     "execution_count": 63,
     "metadata": {},
     "output_type": "execute_result"
    }
   ],
   "source": [
    "dash.trimRight()"
   ]
  },
  {
   "cell_type": "code",
   "execution_count": 64,
   "id": "62e21ce2-b57d-4fcd-8b4f-91f09b2447fa",
   "metadata": {},
   "outputs": [
    {
     "data": {
      "text/plain": [
       "'hello this is bakwas   ! hsello   '"
      ]
     },
     "execution_count": 64,
     "metadata": {},
     "output_type": "execute_result"
    }
   ],
   "source": [
    "dash.trimLeft()"
   ]
  },
  {
   "cell_type": "code",
   "execution_count": 66,
   "id": "60a808ec-94a9-4d3f-952f-c78330e7233f",
   "metadata": {},
   "outputs": [
    {
     "data": {
      "text/plain": [
       "'     hello this is bakwas   ! hsello'"
      ]
     },
     "execution_count": 66,
     "metadata": {},
     "output_type": "execute_result"
    }
   ],
   "source": [
    "dash.trimEnd()"
   ]
  },
  {
   "cell_type": "code",
   "execution_count": 67,
   "id": "77a6bd52-4eea-4698-bf62-a6c728fb2305",
   "metadata": {},
   "outputs": [
    {
     "data": {
      "text/plain": [
       "'hello this is bakwas   ! hsello   '"
      ]
     },
     "execution_count": 67,
     "metadata": {},
     "output_type": "execute_result"
    }
   ],
   "source": [
    "dash.trimStart()"
   ]
  },
  {
   "cell_type": "code",
   "execution_count": 70,
   "id": "6f42a2fe-5a50-4365-8824-6835307a6f0f",
   "metadata": {},
   "outputs": [
    {
     "data": {
      "text/plain": [
       "'hello this is bakwas   ! hsello   Hello Jigyasa you are late'"
      ]
     },
     "execution_count": 70,
     "metadata": {},
     "output_type": "execute_result"
    }
   ],
   "source": [
    "dash.concat(\"Hello \", \"Jigyasa \", \"you are late\").trim()"
   ]
  },
  {
   "cell_type": "code",
   "execution_count": 1,
   "id": "3810adee-82a4-4331-b529-8217eaa6a407",
   "metadata": {},
   "outputs": [],
   "source": [
    "let firstname =\"jigyasa\"\n",
    "let secondname = \"verma\""
   ]
  },
  {
   "cell_type": "code",
   "execution_count": 2,
   "id": "b3786685-fd0a-4ad9-9bdc-1dc28585f43f",
   "metadata": {},
   "outputs": [
    {
     "data": {
      "text/plain": [
       "'jigyasaverma'"
      ]
     },
     "execution_count": 2,
     "metadata": {},
     "output_type": "execute_result"
    }
   ],
   "source": [
    "firstname+secondname"
   ]
  },
  {
   "cell_type": "code",
   "execution_count": 3,
   "id": "32047d4d-2782-4403-b3d4-da88852256cf",
   "metadata": {},
   "outputs": [
    {
     "data": {
      "text/plain": [
       "'jigyasa verma'"
      ]
     },
     "execution_count": 3,
     "metadata": {},
     "output_type": "execute_result"
    }
   ],
   "source": [
    "`${firstname} ${secondname}`"
   ]
  },
  {
   "cell_type": "code",
   "execution_count": 4,
   "id": "dac7cff1-4789-493a-b06f-9fa55e5b1c0c",
   "metadata": {},
   "outputs": [
    {
     "data": {
      "text/plain": [
       "'j'"
      ]
     },
     "execution_count": 4,
     "metadata": {},
     "output_type": "execute_result"
    }
   ],
   "source": [
    "firstname[0]"
   ]
  },
  {
   "cell_type": "code",
   "execution_count": 5,
   "id": "bbb8b64c-9c41-4458-ae37-673e98bce671",
   "metadata": {},
   "outputs": [
    {
     "data": {
      "text/plain": [
       "'i'"
      ]
     },
     "execution_count": 5,
     "metadata": {},
     "output_type": "execute_result"
    }
   ],
   "source": [
    "firstname[1]"
   ]
  },
  {
   "cell_type": "code",
   "execution_count": 6,
   "id": "ec3d115a-a506-4c14-99c9-e9ac6f9abd98",
   "metadata": {},
   "outputs": [
    {
     "data": {
      "text/plain": [
       "'j'"
      ]
     },
     "execution_count": 6,
     "metadata": {},
     "output_type": "execute_result"
    }
   ],
   "source": [
    "firstname.at(0)"
   ]
  },
  {
   "cell_type": "code",
   "execution_count": 7,
   "id": "6a44a0a3-19d3-4d5d-b422-de34301010a8",
   "metadata": {},
   "outputs": [
    {
     "data": {
      "text/plain": [
       "0"
      ]
     },
     "execution_count": 7,
     "metadata": {},
     "output_type": "execute_result"
    }
   ],
   "source": [
    "firstname.indexOf('j')"
   ]
  },
  {
   "cell_type": "code",
   "execution_count": 9,
   "id": "0c1af423-5333-459a-ba57-4b75fb555d75",
   "metadata": {},
   "outputs": [
    {
     "data": {
      "text/plain": [
       "'jigyasaverma'"
      ]
     },
     "execution_count": 9,
     "metadata": {},
     "output_type": "execute_result"
    }
   ],
   "source": [
    "firstname.concat(secondname)"
   ]
  },
  {
   "cell_type": "code",
   "execution_count": 11,
   "id": "8412486c-c6c3-4b66-845b-d24829796645",
   "metadata": {},
   "outputs": [
    {
     "data": {
      "text/plain": [
       "'jigyasa verma'"
      ]
     },
     "execution_count": 11,
     "metadata": {},
     "output_type": "execute_result"
    }
   ],
   "source": [
    "firstname.concat(\" \", secondname)"
   ]
  },
  {
   "cell_type": "code",
   "execution_count": 12,
   "id": "fe9be141-8aa4-4374-a878-ab1add67eee7",
   "metadata": {},
   "outputs": [],
   "source": [
    "let line = \"hello this is javascript class!\""
   ]
  },
  {
   "cell_type": "code",
   "execution_count": 13,
   "id": "6a9fac29-800c-46b7-a761-4b4a2f79f060",
   "metadata": {},
   "outputs": [
    {
     "data": {
      "text/plain": [
       "'hello this is javascript class!'"
      ]
     },
     "execution_count": 13,
     "metadata": {},
     "output_type": "execute_result"
    }
   ],
   "source": [
    "line"
   ]
  },
  {
   "cell_type": "code",
   "execution_count": 14,
   "id": "2e8a8192-bd9a-422a-a620-5405dfe583c1",
   "metadata": {},
   "outputs": [
    {
     "data": {
      "text/plain": [
       "'string'"
      ]
     },
     "execution_count": 14,
     "metadata": {},
     "output_type": "execute_result"
    }
   ],
   "source": [
    "typeof line"
   ]
  },
  {
   "cell_type": "code",
   "execution_count": 17,
   "id": "2b5336d9-1db6-43a6-9e0a-87a2e0d1d4ac",
   "metadata": {},
   "outputs": [
    {
     "data": {
      "text/plain": [
       "'j'"
      ]
     },
     "execution_count": 17,
     "metadata": {},
     "output_type": "execute_result"
    }
   ],
   "source": [
    "line[14]"
   ]
  },
  {
   "cell_type": "code",
   "execution_count": 18,
   "id": "05f170a5-7c41-49eb-88cb-58dccfd888c8",
   "metadata": {},
   "outputs": [
    {
     "data": {
      "text/plain": [
       "14"
      ]
     },
     "execution_count": 18,
     "metadata": {},
     "output_type": "execute_result"
    }
   ],
   "source": [
    "line.indexOf(\"javascript\")"
   ]
  },
  {
   "cell_type": "code",
   "execution_count": 20,
   "id": "f6c89dd0-f9f8-46bd-af27-65c9551f7d15",
   "metadata": {},
   "outputs": [
    {
     "data": {
      "text/plain": [
       "'javascript'"
      ]
     },
     "execution_count": 20,
     "metadata": {},
     "output_type": "execute_result"
    }
   ],
   "source": [
    "line.substring(14,24)"
   ]
  },
  {
   "cell_type": "code",
   "execution_count": 21,
   "id": "64e47ce3-5716-4045-9070-1200e09274e3",
   "metadata": {},
   "outputs": [],
   "source": [
    "let long_string = \"               hello this is long string          !        \""
   ]
  },
  {
   "cell_type": "code",
   "execution_count": 22,
   "id": "262a1e04-ba7d-4624-8da5-a6838f98a593",
   "metadata": {},
   "outputs": [
    {
     "data": {
      "text/plain": [
       "'hello this is long string          !'"
      ]
     },
     "execution_count": 22,
     "metadata": {},
     "output_type": "execute_result"
    }
   ],
   "source": [
    "long_string.trim()"
   ]
  },
  {
   "cell_type": "markdown",
   "id": "aea47c52-3d73-42fa-8ff3-5d1db692def4",
   "metadata": {},
   "source": [
    "_______\n",
    "_______"
   ]
  },
  {
   "cell_type": "code",
   "execution_count": 23,
   "id": "c0f0d201-46c3-461d-a1c9-164b3705cbb8",
   "metadata": {},
   "outputs": [],
   "source": [
    "let a = \"hello\""
   ]
  },
  {
   "cell_type": "code",
   "execution_count": 24,
   "id": "e397b637-0e38-473f-998d-ed5a664115b1",
   "metadata": {},
   "outputs": [
    {
     "data": {
      "text/plain": [
       "'hello-------'"
      ]
     },
     "execution_count": 24,
     "metadata": {},
     "output_type": "execute_result"
    }
   ],
   "source": [
    "a.padEnd(12,'-')"
   ]
  },
  {
   "cell_type": "code",
   "execution_count": 25,
   "id": "5fc4d777-c779-45e5-9735-8f1751c76f81",
   "metadata": {},
   "outputs": [
    {
     "data": {
      "text/plain": [
       "'hello'"
      ]
     },
     "execution_count": 25,
     "metadata": {},
     "output_type": "execute_result"
    }
   ],
   "source": [
    "a"
   ]
  },
  {
   "cell_type": "code",
   "execution_count": 26,
   "id": "b89cec96-dc60-459b-a2b6-0cfc09faa424",
   "metadata": {},
   "outputs": [
    {
     "data": {
      "text/plain": [
       "'-------hello'"
      ]
     },
     "execution_count": 26,
     "metadata": {},
     "output_type": "execute_result"
    }
   ],
   "source": [
    "a.padStart(12,\"-\")"
   ]
  },
  {
   "cell_type": "code",
   "execution_count": 42,
   "id": "b0df7064-fb2d-44fa-81aa-8bea39b4f745",
   "metadata": {},
   "outputs": [],
   "source": [
    "function pad(str,width, chars){\n",
    "    \n",
    "    width = width - str.length;  // width =12\n",
    "    // hello -> 12 - 5 == 7\n",
    "    \n",
    "    if(width<1)\n",
    "        return str\n",
    "    \n",
    "    w = width/2;\n",
    "    r = width%2;\n",
    "    \n",
    "    str = str.padStart(w+r+str.length,chars);\n",
    "    str = str.padEnd(w+str.length, chars);\n",
    "    \n",
    "    return str\n",
    "}"
   ]
  },
  {
   "cell_type": "code",
   "execution_count": 43,
   "id": "ff24560f-037a-4657-9ecb-7d08231196b0",
   "metadata": {},
   "outputs": [
    {
     "data": {
      "text/plain": [
       "'----hello---'"
      ]
     },
     "execution_count": 43,
     "metadata": {},
     "output_type": "execute_result"
    }
   ],
   "source": [
    "pad(a,12,\"-\")"
   ]
  },
  {
   "cell_type": "code",
   "execution_count": 44,
   "id": "ba80b22a-b85a-4e8d-aa0d-b01250862190",
   "metadata": {},
   "outputs": [
    {
     "data": {
      "text/plain": [
       "'----hello---'"
      ]
     },
     "execution_count": 44,
     "metadata": {},
     "output_type": "execute_result"
    }
   ],
   "source": [
    "new_str = pad(a,12,'-')"
   ]
  },
  {
   "cell_type": "code",
   "execution_count": 33,
   "id": "d81650ea-9bd5-455e-91bb-2b86e8a0c308",
   "metadata": {},
   "outputs": [
    {
     "data": {
      "text/plain": [
       "12"
      ]
     },
     "execution_count": 33,
     "metadata": {},
     "output_type": "execute_result"
    }
   ],
   "source": [
    "new_str.length"
   ]
  },
  {
   "cell_type": "code",
   "execution_count": 34,
   "id": "b701dac2-9ca8-41ef-94e2-ddb72d1a0a0b",
   "metadata": {},
   "outputs": [
    {
     "data": {
      "text/plain": [
       "3.5"
      ]
     },
     "execution_count": 34,
     "metadata": {},
     "output_type": "execute_result"
    }
   ],
   "source": [
    "7/2"
   ]
  },
  {
   "cell_type": "code",
   "execution_count": 35,
   "id": "bd483703-7bc0-4db3-8b4a-72a7aef1aa82",
   "metadata": {},
   "outputs": [
    {
     "data": {
      "text/plain": [
       "1"
      ]
     },
     "execution_count": 35,
     "metadata": {},
     "output_type": "execute_result"
    }
   ],
   "source": [
    "7%2"
   ]
  },
  {
   "cell_type": "code",
   "execution_count": 38,
   "id": "615db7c0-e358-442c-8696-37fd166776b9",
   "metadata": {},
   "outputs": [
    {
     "data": {
      "text/plain": [
       "'hello'"
      ]
     },
     "execution_count": 38,
     "metadata": {},
     "output_type": "execute_result"
    }
   ],
   "source": [
    "a\n"
   ]
  },
  {
   "cell_type": "code",
   "execution_count": 39,
   "id": "6471530a-9e02-44b4-9fd0-0f26beb50026",
   "metadata": {},
   "outputs": [
    {
     "data": {
      "text/plain": [
       "'----hello'"
      ]
     },
     "execution_count": 39,
     "metadata": {},
     "output_type": "execute_result"
    }
   ],
   "source": [
    "a.padStart(9,'-')"
   ]
  },
  {
   "cell_type": "code",
   "execution_count": 41,
   "id": "952239e0-e529-4d25-bed2-8d0c31dd9e97",
   "metadata": {},
   "outputs": [
    {
     "data": {
      "text/plain": [
       "'hello-------'"
      ]
     },
     "execution_count": 41,
     "metadata": {},
     "output_type": "execute_result"
    }
   ],
   "source": [
    "a.padEnd(9+3, '-')"
   ]
  },
  {
   "cell_type": "markdown",
   "id": "e951017b-875f-4883-be0c-3ba997b3a067",
   "metadata": {},
   "source": [
    "#### Objects in javascript"
   ]
  },
  {
   "cell_type": "code",
   "execution_count": 54,
   "id": "56fcaf8b-07fd-465d-a550-b3dbf903bc3e",
   "metadata": {},
   "outputs": [],
   "source": [
    "let Student = {\n",
    "    name:\"manish\",\n",
    "    age:20,\n",
    "    height:5.7\n",
    "}"
   ]
  },
  {
   "cell_type": "code",
   "execution_count": 55,
   "id": "ef0b628f-28fd-49cb-86b0-548de7a9ce33",
   "metadata": {},
   "outputs": [
    {
     "data": {
      "text/plain": [
       "{ name: 'manish', age: 20, height: 5.7 }"
      ]
     },
     "execution_count": 55,
     "metadata": {},
     "output_type": "execute_result"
    }
   ],
   "source": [
    "Student"
   ]
  },
  {
   "cell_type": "code",
   "execution_count": 56,
   "id": "bb2d9d2a-3693-4a70-9807-fc9d63fd4172",
   "metadata": {},
   "outputs": [
    {
     "data": {
      "text/plain": [
       "'manish'"
      ]
     },
     "execution_count": 56,
     "metadata": {},
     "output_type": "execute_result"
    }
   ],
   "source": [
    "Student.name"
   ]
  },
  {
   "cell_type": "code",
   "execution_count": 57,
   "id": "af90677b-1abc-4762-9599-619e5a4fe57b",
   "metadata": {},
   "outputs": [
    {
     "data": {
      "text/plain": [
       "20"
      ]
     },
     "execution_count": 57,
     "metadata": {},
     "output_type": "execute_result"
    }
   ],
   "source": [
    "Student.age"
   ]
  },
  {
   "cell_type": "code",
   "execution_count": 58,
   "id": "ad5097af-de9e-4b35-b410-f358663c9014",
   "metadata": {},
   "outputs": [
    {
     "data": {
      "text/plain": [
       "5.7"
      ]
     },
     "execution_count": 58,
     "metadata": {},
     "output_type": "execute_result"
    }
   ],
   "source": [
    "Student.height"
   ]
  },
  {
   "cell_type": "markdown",
   "id": "b8fb6999-8c7b-413d-9e11-bde79c141ebe",
   "metadata": {},
   "source": [
    "**function in objects**"
   ]
  },
  {
   "cell_type": "code",
   "execution_count": 67,
   "id": "2be9077b-1442-40e4-99f0-610f27b7119b",
   "metadata": {},
   "outputs": [
    {
     "data": {
      "text/plain": [
       "{ name: 'manish', age: 20, height: 5.7, show: [Function: show] }"
      ]
     },
     "execution_count": 67,
     "metadata": {},
     "output_type": "execute_result"
    }
   ],
   "source": [
    "Student2 = {\n",
    "    name:\"manish\",\n",
    "    age:20,\n",
    "    height:5.7,\n",
    "    show: function(){\n",
    "        console.log(\"Name:\\t\", this.name)\n",
    "        console.log(\"Age:\\t\", this.age)\n",
    "        console.log(\"Height:\\t\", this.height)\n",
    "    }\n",
    "}"
   ]
  },
  {
   "cell_type": "code",
   "execution_count": 68,
   "id": "298f467a-4ca2-4297-a966-e31bb65e6c3c",
   "metadata": {},
   "outputs": [
    {
     "name": "stdout",
     "output_type": "stream",
     "text": [
      "Name:\t manish\n",
      "Age:\t 20\n",
      "Height:\t 5.7\n"
     ]
    }
   ],
   "source": [
    "Student2.show()"
   ]
  },
  {
   "cell_type": "code",
   "execution_count": null,
   "id": "a30ac2d9-bc24-4172-a5c2-c7efcc5ec5a5",
   "metadata": {},
   "outputs": [],
   "source": []
  }
 ],
 "metadata": {
  "kernelspec": {
   "display_name": "JavaScript (Node.js)",
   "language": "javascript",
   "name": "javascript"
  },
  "language_info": {
   "file_extension": ".js",
   "mimetype": "application/javascript",
   "name": "javascript",
   "version": "16.17.0"
  }
 },
 "nbformat": 4,
 "nbformat_minor": 5
}
