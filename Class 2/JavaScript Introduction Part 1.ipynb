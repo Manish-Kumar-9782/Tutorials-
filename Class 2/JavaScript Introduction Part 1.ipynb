{
 "cells": [
  {
   "cell_type": "markdown",
   "id": "7b74ce33-d236-47f2-a74d-aef5f334a2a4",
   "metadata": {},
   "source": [
    "# JavaScript Introduction Part 1"
   ]
  },
  {
   "cell_type": "markdown",
   "id": "b69e9c18-41c6-4500-bb1b-61eb7fde82ed",
   "metadata": {},
   "source": [
    "___"
   ]
  },
  {
   "cell_type": "markdown",
   "id": "df9da7df-402d-4569-82f5-426cf511f65a",
   "metadata": {},
   "source": [
    "**Keyword:** Keywords are the name which are predefined, and each word has it's own meaning, like let, var, const."
   ]
  },
  {
   "cell_type": "markdown",
   "id": "7b3ec91e-a558-4f8d-b47f-dd956cd10101",
   "metadata": {},
   "source": [
    "**Identifier:** A user-defined name for variable, function, object, classes etc. we can't use keyword as a name of identifiers."
   ]
  },
  {
   "cell_type": "code",
   "execution_count": 51,
   "id": "82e5e318-310b-414d-ab98-12b7f53f69bc",
   "metadata": {},
   "outputs": [],
   "source": [
    "// here let , var, const are keyword which are used to create variables."
   ]
  },
  {
   "cell_type": "code",
   "execution_count": 52,
   "id": "c0766a27-8e1c-4652-8889-222cb3b564e6",
   "metadata": {},
   "outputs": [
    {
     "ename": "SyntaxError",
     "evalue": "Identifier 'a' has already been declared",
     "execution_count": 52,
     "output_type": "error",
     "traceback": [
      "evalmachine.<anonymous>:1",
      "let a = 10",
      "^",
      "",
      "SyntaxError: Identifier 'a' has already been declared",
      "    at Script.runInThisContext (node:vm:129:12)",
      "    at Object.runInThisContext (node:vm:313:38)",
      "    at run ([eval]:1020:15)",
      "    at onRunRequest ([eval]:864:18)",
      "    at onMessage ([eval]:828:13)",
      "    at process.emit (node:events:513:28)",
      "    at emit (node:internal/child_process:939:14)",
      "    at processTicksAndRejections (node:internal/process/task_queues:84:21)"
     ]
    }
   ],
   "source": [
    "let a = 10"
   ]
  },
  {
   "cell_type": "code",
   "execution_count": 53,
   "id": "f991b544-cc9e-4d78-a11b-461e7f436513",
   "metadata": {},
   "outputs": [
    {
     "data": {
      "text/plain": [
       "10"
      ]
     },
     "execution_count": 53,
     "metadata": {},
     "output_type": "execute_result"
    }
   ],
   "source": [
    "a"
   ]
  },
  {
   "cell_type": "code",
   "execution_count": 54,
   "id": "b4ab283a-81b5-4a66-884f-71d87d13327d",
   "metadata": {},
   "outputs": [
    {
     "ename": "SyntaxError",
     "evalue": "Identifier 'b' has already been declared",
     "execution_count": 54,
     "output_type": "error",
     "traceback": [
      "evalmachine.<anonymous>:1",
      "let b = 20",
      "^",
      "",
      "SyntaxError: Identifier 'b' has already been declared",
      "    at Script.runInThisContext (node:vm:129:12)",
      "    at Object.runInThisContext (node:vm:313:38)",
      "    at run ([eval]:1020:15)",
      "    at onRunRequest ([eval]:864:18)",
      "    at onMessage ([eval]:828:13)",
      "    at process.emit (node:events:513:28)",
      "    at emit (node:internal/child_process:939:14)",
      "    at processTicksAndRejections (node:internal/process/task_queues:84:21)"
     ]
    }
   ],
   "source": [
    "let b = 20"
   ]
  },
  {
   "cell_type": "code",
   "execution_count": 55,
   "id": "3c96ac90-04da-4e5d-a1d7-3428d3111933",
   "metadata": {},
   "outputs": [
    {
     "data": {
      "text/plain": [
       "20"
      ]
     },
     "execution_count": 55,
     "metadata": {},
     "output_type": "execute_result"
    }
   ],
   "source": [
    "b"
   ]
  },
  {
   "cell_type": "code",
   "execution_count": 56,
   "id": "9ec90935-064c-4c24-951b-6fc5c30aaf9e",
   "metadata": {},
   "outputs": [],
   "source": [
    "var c = 30"
   ]
  },
  {
   "cell_type": "code",
   "execution_count": 57,
   "id": "ba559e0a-d178-4669-8ab6-c54a76a628f4",
   "metadata": {},
   "outputs": [
    {
     "data": {
      "text/plain": [
       "30"
      ]
     },
     "execution_count": 57,
     "metadata": {},
     "output_type": "execute_result"
    }
   ],
   "source": [
    "c"
   ]
  },
  {
   "cell_type": "markdown",
   "id": "6352b0e3-82b1-4340-a5cc-d30e2dfa1259",
   "metadata": {},
   "source": [
    "Note: both `let` and `var` keyword are used to create normal varible but they works in different scope. `let` follows scope very ristrictly than `var` keyword."
   ]
  },
  {
   "cell_type": "code",
   "execution_count": 58,
   "id": "ded2abd0-1ffc-4bbe-89bb-3038cbfb828d",
   "metadata": {},
   "outputs": [
    {
     "ename": "SyntaxError",
     "evalue": "Identifier 'value1' has already been declared",
     "execution_count": 58,
     "output_type": "error",
     "traceback": [
      "evalmachine.<anonymous>:1",
      "const value1 = 1234",
      "^",
      "",
      "SyntaxError: Identifier 'value1' has already been declared",
      "    at Script.runInThisContext (node:vm:129:12)",
      "    at Object.runInThisContext (node:vm:313:38)",
      "    at run ([eval]:1020:15)",
      "    at onRunRequest ([eval]:864:18)",
      "    at onMessage ([eval]:828:13)",
      "    at process.emit (node:events:513:28)",
      "    at emit (node:internal/child_process:939:14)",
      "    at processTicksAndRejections (node:internal/process/task_queues:84:21)"
     ]
    }
   ],
   "source": [
    "const value1 = 1234"
   ]
  },
  {
   "cell_type": "markdown",
   "id": "dfd91efa-9572-457b-963b-b95034b7541a",
   "metadata": {},
   "source": [
    "Note: const variable are initialzed once after that we can't change them."
   ]
  },
  {
   "cell_type": "code",
   "execution_count": 59,
   "id": "b3a14e30-8c42-42f4-89e1-99359d789109",
   "metadata": {},
   "outputs": [
    {
     "ename": "TypeError",
     "evalue": "Assignment to constant variable.",
     "execution_count": 59,
     "output_type": "error",
     "traceback": [
      "evalmachine.<anonymous>:2",
      "value1 = 4321",
      "       ^",
      "",
      "TypeError: Assignment to constant variable.",
      "    at evalmachine.<anonymous>:2:8",
      "    at Script.runInThisContext (node:vm:129:12)",
      "    at Object.runInThisContext (node:vm:313:38)",
      "    at run ([eval]:1020:15)",
      "    at onRunRequest ([eval]:864:18)",
      "    at onMessage ([eval]:828:13)",
      "    at process.emit (node:events:513:28)",
      "    at emit (node:internal/child_process:939:14)",
      "    at processTicksAndRejections (node:internal/process/task_queues:84:21)"
     ]
    }
   ],
   "source": [
    "// try to change value1\n",
    "value1 = 4321"
   ]
  },
  {
   "cell_type": "markdown",
   "id": "c3c0c4b9-2e5e-4f59-9ccf-56cf80060324",
   "metadata": {},
   "source": [
    "### Arithmatic Operators\n",
    "\n",
    "1. `+` add Operator\n",
    "2. `-` minus Operator\n",
    "3. `*` multiply Operator\n",
    "4. `/` divide Operator"
   ]
  },
  {
   "cell_type": "markdown",
   "id": "b3a9cbec-af0c-41eb-95b1-89e1a5c5ec65",
   "metadata": {},
   "source": [
    "All Arithmatic operators are allowed on 'numbers' type data. like Integers (1,2,3,4,5,6.....n) and float like (1.2, 34.2, 4.3)"
   ]
  },
  {
   "cell_type": "markdown",
   "id": "fde7bff8-b1d2-45db-9daf-f7b1dca7cef4",
   "metadata": {},
   "source": [
    "**add Operator**"
   ]
  },
  {
   "cell_type": "code",
   "execution_count": 60,
   "id": "c5d0e2ac-3743-4c68-81e3-f1b2abb8b800",
   "metadata": {},
   "outputs": [
    {
     "ename": "SyntaxError",
     "evalue": "Identifier 'x' has already been declared",
     "execution_count": 60,
     "output_type": "error",
     "traceback": [
      "evalmachine.<anonymous>:1",
      "let x = 10;",
      "^",
      "",
      "SyntaxError: Identifier 'x' has already been declared",
      "    at Script.runInThisContext (node:vm:129:12)",
      "    at Object.runInThisContext (node:vm:313:38)",
      "    at run ([eval]:1020:15)",
      "    at onRunRequest ([eval]:864:18)",
      "    at onMessage ([eval]:828:13)",
      "    at process.emit (node:events:513:28)",
      "    at emit (node:internal/child_process:939:14)",
      "    at processTicksAndRejections (node:internal/process/task_queues:84:21)"
     ]
    }
   ],
   "source": [
    "let x = 10;\n",
    "let y = 20;"
   ]
  },
  {
   "cell_type": "code",
   "execution_count": 61,
   "id": "5b7288df-72d7-499a-bedf-3390a848eea9",
   "metadata": {},
   "outputs": [
    {
     "data": {
      "text/plain": [
       "30"
      ]
     },
     "execution_count": 61,
     "metadata": {},
     "output_type": "execute_result"
    }
   ],
   "source": [
    "// adding x and y\n",
    "x + y"
   ]
  },
  {
   "cell_type": "markdown",
   "id": "3aee8a60-9598-4d09-b372-7e25f077f23d",
   "metadata": {},
   "source": [
    "**minus operator**"
   ]
  },
  {
   "cell_type": "code",
   "execution_count": 62,
   "id": "0071b988-ff6d-4393-9d08-a29e3d08e042",
   "metadata": {},
   "outputs": [
    {
     "data": {
      "text/plain": [
       "-10"
      ]
     },
     "execution_count": 62,
     "metadata": {},
     "output_type": "execute_result"
    }
   ],
   "source": [
    "// subtracting x and y\n",
    "x - y"
   ]
  },
  {
   "cell_type": "code",
   "execution_count": 63,
   "id": "54863c3c-4f84-4e67-8670-154c9da0c1f2",
   "metadata": {},
   "outputs": [
    {
     "data": {
      "text/plain": [
       "10"
      ]
     },
     "execution_count": 63,
     "metadata": {},
     "output_type": "execute_result"
    }
   ],
   "source": [
    "y - x"
   ]
  },
  {
   "cell_type": "markdown",
   "id": "4f2fef34-3c66-46d5-8506-59222f562b8a",
   "metadata": {},
   "source": [
    "**multiply operator**"
   ]
  },
  {
   "cell_type": "code",
   "execution_count": 64,
   "id": "4b2518e6-2116-4ee8-b5d2-1031859dbc85",
   "metadata": {},
   "outputs": [
    {
     "data": {
      "text/plain": [
       "200"
      ]
     },
     "execution_count": 64,
     "metadata": {},
     "output_type": "execute_result"
    }
   ],
   "source": [
    "// multiply x with y\n",
    "x * y"
   ]
  },
  {
   "cell_type": "markdown",
   "id": "35772020-4d7e-4fa5-a237-cc2b35b28242",
   "metadata": {},
   "source": [
    "**divide operator**"
   ]
  },
  {
   "cell_type": "code",
   "execution_count": 65,
   "id": "67ceb721-08dd-4817-922c-de87372e2ce1",
   "metadata": {},
   "outputs": [
    {
     "data": {
      "text/plain": [
       "0.5"
      ]
     },
     "execution_count": 65,
     "metadata": {},
     "output_type": "execute_result"
    }
   ],
   "source": [
    "// dividing x with y -> x/y\n",
    "x/y"
   ]
  },
  {
   "cell_type": "code",
   "execution_count": 66,
   "id": "4ffa2648-28a3-4d87-8559-e4d4e25cdd46",
   "metadata": {},
   "outputs": [
    {
     "data": {
      "text/plain": [
       "2"
      ]
     },
     "execution_count": 66,
     "metadata": {},
     "output_type": "execute_result"
    }
   ],
   "source": [
    "// dividing x with y y/x\n",
    "y/x"
   ]
  },
  {
   "cell_type": "markdown",
   "id": "0c48f61f-1348-4344-b380-07c63ff98ced",
   "metadata": {},
   "source": [
    "**Modulus Operator**"
   ]
  },
  {
   "cell_type": "markdown",
   "id": "766df150-4fc1-485c-ad94-58fa4d4af259",
   "metadata": {},
   "source": [
    "Note: it gives the remainder of the expression "
   ]
  },
  {
   "cell_type": "code",
   "execution_count": 67,
   "id": "a56e41d6-766c-4e81-b807-fd16c4ac0030",
   "metadata": {},
   "outputs": [
    {
     "name": "stdout",
     "output_type": "stream",
     "text": [
      "x is:  10\n",
      "y is:  20\n"
     ]
    }
   ],
   "source": [
    "console.log(\"x is: \", x)\n",
    "console.log(\"y is: \", y)"
   ]
  },
  {
   "cell_type": "code",
   "execution_count": 68,
   "id": "d6ae1aee-2144-44e9-956f-cb11343b94ab",
   "metadata": {},
   "outputs": [
    {
     "data": {
      "text/plain": [
       "10"
      ]
     },
     "execution_count": 68,
     "metadata": {},
     "output_type": "execute_result"
    }
   ],
   "source": [
    "x%y"
   ]
  },
  {
   "cell_type": "markdown",
   "id": "567aee46-e343-4edb-a3ba-a656691892a0",
   "metadata": {},
   "source": [
    "Note: if dividant is less than the divider then it will return the smae value as divident."
   ]
  },
  {
   "cell_type": "code",
   "execution_count": 69,
   "id": "0c2032c8-bfb7-4362-9b2b-5d32fe5555b1",
   "metadata": {},
   "outputs": [
    {
     "data": {
      "text/plain": [
       "0"
      ]
     },
     "execution_count": 69,
     "metadata": {},
     "output_type": "execute_result"
    }
   ],
   "source": [
    "y%x"
   ]
  },
  {
   "cell_type": "markdown",
   "id": "2918d13f-015f-481f-89d3-1181240f816a",
   "metadata": {},
   "source": [
    "Note: if dividant is greater than the divider then it will return the remainder after fully dividing."
   ]
  },
  {
   "cell_type": "code",
   "execution_count": 70,
   "id": "9548504b-406e-4d0a-926b-1b17d46d372f",
   "metadata": {},
   "outputs": [
    {
     "name": "stdout",
     "output_type": "stream",
     "text": [
      "0%7 =  0\n",
      "1%7 =  1\n",
      "2%7 =  2\n",
      "3%7 =  3\n",
      "4%7 =  4\n",
      "5%7 =  5\n",
      "6%7 =  6\n",
      "7%7 =  0\n",
      "8%7 =  1\n",
      "9%7 =  2\n",
      "10%7 =  3\n",
      "11%7 =  4\n",
      "12%7 =  5\n",
      "13%7 =  6\n",
      "14%7 =  0\n",
      "15%7 =  1\n",
      "16%7 =  2\n",
      "17%7 =  3\n",
      "18%7 =  4\n",
      "19%7 =  5\n",
      "20%7 =  6\n",
      "21%7 =  0\n",
      "22%7 =  1\n",
      "23%7 =  2\n",
      "24%7 =  3\n",
      "25%7 =  4\n",
      "26%7 =  5\n",
      "27%7 =  6\n",
      "28%7 =  0\n",
      "29%7 =  1\n",
      "30%7 =  2\n"
     ]
    }
   ],
   "source": [
    "for(let i=0; i<31; i++){\n",
    "    console.log(i+\"%\"+7 +\" = \", i%7)\n",
    "}"
   ]
  },
  {
   "cell_type": "markdown",
   "id": "5a9e5191-83e0-4467-a9e3-3e90825988e2",
   "metadata": {},
   "source": [
    "___\n",
    "___"
   ]
  },
  {
   "cell_type": "markdown",
   "id": "68348cda-817e-4964-a42f-eef02b65db18",
   "metadata": {},
   "source": [
    "#### `+` Add Operator with Integer and String\n",
    "\n",
    "-> Add Operator with integer and String will concat the integer value with string, first our integer will be converted into the string then it will concat with string.\n",
    "\n",
    "concat: it is an operation to make, two or more string take place after another string."
   ]
  },
  {
   "cell_type": "code",
   "execution_count": 71,
   "id": "0b422ab0-1234-4a06-bea5-0f8d9eb10adb",
   "metadata": {},
   "outputs": [
    {
     "ename": "SyntaxError",
     "evalue": "Identifier 'str1' has already been declared",
     "execution_count": 71,
     "output_type": "error",
     "traceback": [
      "evalmachine.<anonymous>:1",
      "let str1 = \"Hello\"",
      "^",
      "",
      "SyntaxError: Identifier 'str1' has already been declared",
      "    at Script.runInThisContext (node:vm:129:12)",
      "    at Object.runInThisContext (node:vm:313:38)",
      "    at run ([eval]:1020:15)",
      "    at onRunRequest ([eval]:864:18)",
      "    at onMessage ([eval]:828:13)",
      "    at process.emit (node:events:513:28)",
      "    at emit (node:internal/child_process:939:14)",
      "    at processTicksAndRejections (node:internal/process/task_queues:84:21)"
     ]
    }
   ],
   "source": [
    "let str1 = \"Hello\"\n",
    "let str2 = \"World\""
   ]
  },
  {
   "cell_type": "code",
   "execution_count": 72,
   "id": "259fa0be-09fc-42aa-b66e-8953c4de3d05",
   "metadata": {},
   "outputs": [
    {
     "data": {
      "text/plain": [
       "'HelloWorld'"
      ]
     },
     "execution_count": 72,
     "metadata": {},
     "output_type": "execute_result"
    }
   ],
   "source": [
    "str1 + str2"
   ]
  },
  {
   "cell_type": "code",
   "execution_count": 73,
   "id": "40a30aa0-2efa-425f-95b8-e482f287b532",
   "metadata": {},
   "outputs": [
    {
     "data": {
      "text/plain": [
       "'10%7'"
      ]
     },
     "execution_count": 73,
     "metadata": {},
     "output_type": "execute_result"
    }
   ],
   "source": [
    "// adding our integer with string\n",
    "10 + \"%\"+ 7"
   ]
  },
  {
   "cell_type": "code",
   "execution_count": 74,
   "id": "8d4b87e7-d684-4cdb-84f2-8ed436b67686",
   "metadata": {},
   "outputs": [
    {
     "data": {
      "text/plain": [
       "'Hello100'"
      ]
     },
     "execution_count": 74,
     "metadata": {},
     "output_type": "execute_result"
    }
   ],
   "source": [
    "str1 + 100"
   ]
  },
  {
   "cell_type": "code",
   "execution_count": 75,
   "id": "e32f8ed0-4a2f-458f-aef2-47477c7dfebf",
   "metadata": {},
   "outputs": [
    {
     "data": {
      "text/plain": [
       "'100Hello'"
      ]
     },
     "execution_count": 75,
     "metadata": {},
     "output_type": "execute_result"
    }
   ],
   "source": [
    "100 + str1"
   ]
  },
  {
   "cell_type": "code",
   "execution_count": 76,
   "id": "c7ac69a8-684d-4e47-bcac-088f1453d148",
   "metadata": {},
   "outputs": [
    {
     "data": {
      "text/plain": [
       "'10px'"
      ]
     },
     "execution_count": 76,
     "metadata": {},
     "output_type": "execute_result"
    }
   ],
   "source": [
    "10 + \"px\""
   ]
  },
  {
   "cell_type": "markdown",
   "id": "7afe87a8-62f9-45bf-b6c3-79adf87e9d45",
   "metadata": {},
   "source": [
    "Note: No other arithmatic operation is available with string. Only `+` add operator allowed."
   ]
  },
  {
   "cell_type": "markdown",
   "id": "38173911-5450-46a0-8054-b950560bc91c",
   "metadata": {},
   "source": [
    "### Assignment Operators"
   ]
  },
  {
   "cell_type": "markdown",
   "id": "3da5ad08-891d-4928-b01a-09b182f69d52",
   "metadata": {},
   "source": [
    "* `+=` add and assign operator\n",
    "* `-=` minus and assign operator\n",
    "* `*=` multiply and assign operator\n",
    "* `/=` divide and assign operator"
   ]
  },
  {
   "cell_type": "markdown",
   "id": "fccae66f-7823-4353-a28a-7c6ec87d3cfa",
   "metadata": {},
   "source": [
    "Note: These operators work with two operand, left operand `(lvalue)` and right operand `rvalue`.\n",
    "\n",
    "In assignment operator right value always assigned to left value, but condition is that, left operand must be a variable."
   ]
  },
  {
   "cell_type": "code",
   "execution_count": 77,
   "id": "2c58466a-4227-4b81-a4dc-78690a9471c1",
   "metadata": {},
   "outputs": [
    {
     "ename": "SyntaxError",
     "evalue": "Invalid left-hand side in assignment",
     "execution_count": 77,
     "output_type": "error",
     "traceback": [
      "evalmachine.<anonymous>:2",
      "10 = 12",
      "^^",
      "",
      "SyntaxError: Invalid left-hand side in assignment",
      "    at new Script (node:vm:100:7)",
      "    at createScript (node:vm:265:10)",
      "    at Object.runInThisContext (node:vm:313:10)",
      "    at run ([eval]:1020:15)",
      "    at onRunRequest ([eval]:864:18)",
      "    at onMessage ([eval]:828:13)",
      "    at process.emit (node:events:513:28)",
      "    at emit (node:internal/child_process:939:14)",
      "    at processTicksAndRejections (node:internal/process/task_queues:84:21)"
     ]
    }
   ],
   "source": [
    "// left value must be a variable, if we try to assign a value to a value we will get error.\n",
    "10 = 12"
   ]
  },
  {
   "cell_type": "code",
   "execution_count": 78,
   "id": "232ab253-7059-45ec-a230-d243394a8d5a",
   "metadata": {},
   "outputs": [
    {
     "data": {
      "text/plain": [
       "10"
      ]
     },
     "execution_count": 78,
     "metadata": {},
     "output_type": "execute_result"
    }
   ],
   "source": [
    "// let a varaible\n",
    "a = 10"
   ]
  },
  {
   "cell_type": "code",
   "execution_count": 79,
   "id": "c02bd5e7-86d4-4d85-a264-761459b4ff07",
   "metadata": {},
   "outputs": [
    {
     "data": {
      "text/plain": [
       "14"
      ]
     },
     "execution_count": 79,
     "metadata": {},
     "output_type": "execute_result"
    }
   ],
   "source": [
    "// if we try to do bellow operation\n",
    "a + 4"
   ]
  },
  {
   "cell_type": "markdown",
   "id": "36cc6c7b-d924-4e88-92ba-194b78aeeeae",
   "metadata": {},
   "source": [
    "Here a will not be update, but a wil be used in the computation."
   ]
  },
  {
   "cell_type": "code",
   "execution_count": 80,
   "id": "b53a6c91-6a56-48e3-9d17-739808d65428",
   "metadata": {},
   "outputs": [
    {
     "data": {
      "text/plain": [
       "14"
      ]
     },
     "execution_count": 80,
     "metadata": {},
     "output_type": "execute_result"
    }
   ],
   "source": [
    "// Try to compute the bellow expression,\n",
    "a = a + 4\n",
    "// here first a will be added with 4, then result will be assigned to a itself."
   ]
  },
  {
   "cell_type": "markdown",
   "id": "85319ac9-5d91-4346-b3e0-f42693f34a32",
   "metadata": {},
   "source": [
    "The above operation can be done by using the `+=` add and assignment operator."
   ]
  },
  {
   "cell_type": "code",
   "execution_count": 81,
   "id": "2e49043a-5cc8-456a-b186-991b26b742cd",
   "metadata": {},
   "outputs": [
    {
     "data": {
      "text/plain": [
       "14"
      ]
     },
     "execution_count": 81,
     "metadata": {},
     "output_type": "execute_result"
    }
   ],
   "source": [
    "a = 10\n",
    "// a = a+4\n",
    "a += 4; // this expression is same as a = a + 4\n",
    "a"
   ]
  },
  {
   "cell_type": "markdown",
   "id": "937f02ff-2605-49f8-a707-525d10002985",
   "metadata": {},
   "source": [
    "Note: here in this kind of operation (`+=` add and assignment operator) `lvalue` will take part in the add/(any valid operator) operator with rvalue and after computation the result will be assigned to left operand."
   ]
  },
  {
   "cell_type": "markdown",
   "id": "782f4b70-7338-47d4-b073-33b530db1c30",
   "metadata": {},
   "source": [
    "**Other Assignment operators**"
   ]
  },
  {
   "cell_type": "code",
   "execution_count": 82,
   "id": "231db3ea-bd56-45dc-8b25-6b33d4eb69f8",
   "metadata": {},
   "outputs": [
    {
     "data": {
      "text/plain": [
       "5"
      ]
     },
     "execution_count": 82,
     "metadata": {},
     "output_type": "execute_result"
    }
   ],
   "source": [
    "// minus and assign\n",
    "a = 10  // assigning 10 to a\n",
    "a -= 5 // perfoming minus & assignment operator\n",
    "a // chekcing a "
   ]
  },
  {
   "cell_type": "code",
   "execution_count": 83,
   "id": "536d756b-65b6-41cc-b26a-647cab97a947",
   "metadata": {},
   "outputs": [
    {
     "data": {
      "text/plain": [
       "50"
      ]
     },
     "execution_count": 83,
     "metadata": {},
     "output_type": "execute_result"
    }
   ],
   "source": [
    "// multipy and assign\n",
    "a = 10 \n",
    "a *= 5\n",
    "a"
   ]
  },
  {
   "cell_type": "code",
   "execution_count": 84,
   "id": "201ae25d-e202-4ce7-a79c-1e386b02e45d",
   "metadata": {},
   "outputs": [
    {
     "data": {
      "text/plain": [
       "10"
      ]
     },
     "execution_count": 84,
     "metadata": {},
     "output_type": "execute_result"
    }
   ],
   "source": [
    "// divide and assign\n",
    "a = 100\n",
    "a /= 10\n",
    "a"
   ]
  },
  {
   "cell_type": "markdown",
   "id": "a34a62fb-cded-4356-b36d-56f0ca62e825",
   "metadata": {},
   "source": [
    "### Relational Operator\n",
    "\n",
    "1. `==` Comparision Operator (equal equal Operator)\n",
    "2. `<=` less than equl operator\n",
    "3. `>=` greater than equal operator\n",
    "4. `<` less than operator\n",
    "5. `>` greater than operator\n",
    "\n",
    "Note: These Operator always return boolean value (True/False)."
   ]
  },
  {
   "cell_type": "code",
   "execution_count": 85,
   "id": "8e793529-ac61-4ab8-8876-8fd30f761a9e",
   "metadata": {},
   "outputs": [
    {
     "data": {
      "text/plain": [
       "30"
      ]
     },
     "execution_count": 85,
     "metadata": {},
     "output_type": "execute_result"
    }
   ],
   "source": [
    "a = 10\n",
    "b = 20 \n",
    "c = 30"
   ]
  },
  {
   "cell_type": "code",
   "execution_count": 86,
   "id": "feb10985-6300-4eaf-aae1-d2231efdcf15",
   "metadata": {},
   "outputs": [
    {
     "data": {
      "text/plain": [
       "false"
      ]
     },
     "execution_count": 86,
     "metadata": {},
     "output_type": "execute_result"
    }
   ],
   "source": [
    "// comparing a and b with == operator\n",
    "\n",
    "//  is a is equal to b\n",
    "a == b"
   ]
  },
  {
   "cell_type": "code",
   "execution_count": 87,
   "id": "7c078671-2276-4b9c-8f9a-06a93fc119de",
   "metadata": {},
   "outputs": [
    {
     "data": {
      "text/plain": [
       "true"
      ]
     },
     "execution_count": 87,
     "metadata": {},
     "output_type": "execute_result"
    }
   ],
   "source": [
    "// is a less than b\n",
    "a < b"
   ]
  },
  {
   "cell_type": "code",
   "execution_count": 88,
   "id": "373072ba-ff6b-494b-b4cd-9d9a1222689d",
   "metadata": {},
   "outputs": [
    {
     "data": {
      "text/plain": [
       "true"
      ]
     },
     "execution_count": 88,
     "metadata": {},
     "output_type": "execute_result"
    }
   ],
   "source": [
    "// is a less than or equal to b\n",
    "a <= b"
   ]
  },
  {
   "cell_type": "code",
   "execution_count": 89,
   "id": "b9f6f8dc-8766-4cff-9c76-ad4745dcc9fa",
   "metadata": {},
   "outputs": [
    {
     "data": {
      "text/plain": [
       "false"
      ]
     },
     "execution_count": 89,
     "metadata": {},
     "output_type": "execute_result"
    }
   ],
   "source": [
    "// is a greatern than or equl to b\n",
    "a >= b"
   ]
  },
  {
   "cell_type": "code",
   "execution_count": 90,
   "id": "b7d3147b-6664-4a3e-b8a1-c264974eecfe",
   "metadata": {},
   "outputs": [
    {
     "data": {
      "text/plain": [
       "false"
      ]
     },
     "execution_count": 90,
     "metadata": {},
     "output_type": "execute_result"
    }
   ],
   "source": [
    "// is a greater than b\n",
    "a > b"
   ]
  },
  {
   "cell_type": "markdown",
   "id": "348d77d6-2af7-485f-b88c-7bf56ff46513",
   "metadata": {},
   "source": [
    "### Logical Operator\n",
    "\n",
    "1. `&&` and operator (work with two operand)\n",
    "2. `||` or operator (work with two operand) \n",
    "3. `!` not operator (work with only single operand)\n",
    "\n",
    "Note: Always return boolean value (true/false)"
   ]
  },
  {
   "cell_type": "code",
   "execution_count": 92,
   "id": "32194269-6a4e-4377-b013-ffb8671df537",
   "metadata": {},
   "outputs": [],
   "source": [
    "let Age = 12;\n",
    "let id = true;"
   ]
  },
  {
   "cell_type": "code",
   "execution_count": 93,
   "id": "ae6f3e9a-c401-4cae-b0ef-1b26791d07f7",
   "metadata": {},
   "outputs": [
    {
     "data": {
      "text/plain": [
       "'number'"
      ]
     },
     "execution_count": 93,
     "metadata": {},
     "output_type": "execute_result"
    }
   ],
   "source": [
    "// checking type of a Age by using typeof() operator\n",
    "typeof(Age)"
   ]
  },
  {
   "cell_type": "code",
   "execution_count": 94,
   "id": "4a03be39-d772-4c59-a6e4-d7efd1525d7c",
   "metadata": {},
   "outputs": [
    {
     "data": {
      "text/plain": [
       "'boolean'"
      ]
     },
     "execution_count": 94,
     "metadata": {},
     "output_type": "execute_result"
    }
   ],
   "source": [
    "// checking type of id \n",
    "typeof(id)"
   ]
  },
  {
   "cell_type": "markdown",
   "id": "76b3fe89-56ac-4974-a453-b60e14b2cb5e",
   "metadata": {},
   "source": [
    "**`&&` and operator**"
   ]
  },
  {
   "cell_type": "code",
   "execution_count": 95,
   "id": "76ae4f83-824e-44ef-9d3a-5ba302285de6",
   "metadata": {},
   "outputs": [
    {
     "data": {
      "text/plain": [
       "false"
      ]
     },
     "execution_count": 95,
     "metadata": {},
     "output_type": "execute_result"
    }
   ],
   "source": [
    "// false if one is true and another is false\n",
    "true && false"
   ]
  },
  {
   "cell_type": "code",
   "execution_count": 96,
   "id": "da2ab4a2-2aea-47d3-b9d1-d95ad85af788",
   "metadata": {},
   "outputs": [
    {
     "data": {
      "text/plain": [
       "true"
      ]
     },
     "execution_count": 96,
     "metadata": {},
     "output_type": "execute_result"
    }
   ],
   "source": [
    "// true if both true\n",
    "true && true"
   ]
  },
  {
   "cell_type": "code",
   "execution_count": 97,
   "id": "338a2ada-e7df-4d84-ac66-65816511817c",
   "metadata": {},
   "outputs": [
    {
     "data": {
      "text/plain": [
       "false"
      ]
     },
     "execution_count": 97,
     "metadata": {},
     "output_type": "execute_result"
    }
   ],
   "source": [
    "// false if both false\n",
    "false && false"
   ]
  },
  {
   "cell_type": "markdown",
   "id": "ce6e3dfb-c1ce-40a0-98b9-1dfd26ebec51",
   "metadata": {},
   "source": [
    "***A simple test that a boy is valid to go in pub***"
   ]
  },
  {
   "cell_type": "code",
   "execution_count": 99,
   "id": "54be04e1-cf8c-4ffa-b828-af08d4b4fc9f",
   "metadata": {},
   "outputs": [
    {
     "name": "stdout",
     "output_type": "stream",
     "text": [
      "Boy cany only play pubg\n"
     ]
    }
   ],
   "source": [
    "// for now boy is only 12\n",
    "if (Age > 21 && id == true){\n",
    "    console.log(\"Boy can go to pub\");\n",
    "}\n",
    "else{\n",
    "    console.log(\"Boy cany only play pubg\");\n",
    "}"
   ]
  },
  {
   "cell_type": "markdown",
   "id": "07a6d9e4-2971-43b7-808d-f3f070751a4d",
   "metadata": {},
   "source": [
    "Note: \n",
    "\n",
    "-> here `Age > 21` will give `false`.\n",
    "\n",
    "-> `id == true` will give `true`, because boy has id.\n",
    "\n",
    "-> expression will become `false && true` -> it will return `false`.\n",
    "\n",
    "Note: `if` statment will only run if it will have `true`. other wise else will run if defined."
   ]
  },
  {
   "cell_type": "markdown",
   "id": "60d1c716-3181-4b6e-9746-8fe47ecd5b10",
   "metadata": {},
   "source": [
    "**`||` or operator**"
   ]
  },
  {
   "cell_type": "code",
   "execution_count": 1,
   "id": "002631a8-5675-4b10-80a2-addf4a15ebc6",
   "metadata": {},
   "outputs": [
    {
     "data": {
      "text/plain": [
       "true"
      ]
     },
     "execution_count": 1,
     "metadata": {},
     "output_type": "execute_result"
    }
   ],
   "source": [
    "// true if one of lvalue or rvalue is true\n",
    "true || false"
   ]
  },
  {
   "cell_type": "code",
   "execution_count": 2,
   "id": "4c2cbcdb-68e9-490b-bf5c-3c4a59e3f2df",
   "metadata": {},
   "outputs": [
    {
     "data": {
      "text/plain": [
       "true"
      ]
     },
     "execution_count": 2,
     "metadata": {},
     "output_type": "execute_result"
    }
   ],
   "source": [
    "false || true"
   ]
  },
  {
   "cell_type": "code",
   "execution_count": 3,
   "id": "67a248db-9efa-4b73-92fb-f740be4941ac",
   "metadata": {},
   "outputs": [
    {
     "data": {
      "text/plain": [
       "true"
      ]
     },
     "execution_count": 3,
     "metadata": {},
     "output_type": "execute_result"
    }
   ],
   "source": [
    "// true if both values are true\n",
    "true || true"
   ]
  },
  {
   "cell_type": "code",
   "execution_count": 4,
   "id": "7153d219-6567-4387-9e4f-6e439fe3ce32",
   "metadata": {},
   "outputs": [
    {
     "data": {
      "text/plain": [
       "false"
      ]
     },
     "execution_count": 4,
     "metadata": {},
     "output_type": "execute_result"
    }
   ],
   "source": [
    "// false if both values are false\n",
    "false || false"
   ]
  },
  {
   "cell_type": "code",
   "execution_count": 1,
   "id": "e9aefaf0-a198-4074-b5f4-2a38cff80b66",
   "metadata": {},
   "outputs": [],
   "source": [
    "// colors r,g,o\n",
    "let color;"
   ]
  },
  {
   "cell_type": "code",
   "execution_count": 10,
   "id": "911fc33a-156f-4ed3-9a37-7ad62c4ceb4c",
   "metadata": {},
   "outputs": [
    {
     "name": "stdout",
     "output_type": "stream",
     "text": [
      "run car\n"
     ]
    }
   ],
   "source": [
    "color = 'g'\n",
    "\n",
    "// traffic system\n",
    "if(color == 'r' || color == 'o'){\n",
    "    console.log(\"stop car\");\n",
    "}\n",
    "else if(color == 'g'){\n",
    "    console.log(\"run car\");\n",
    "}\n",
    "else{\n",
    "    console.log(\"Traffic system has broken!\")\n",
    "}"
   ]
  },
  {
   "cell_type": "markdown",
   "id": "119c1cb4-81c5-48f0-b87c-ea4397b1a24c",
   "metadata": {},
   "source": [
    "Explanation:\n",
    "\n",
    "-> if color is `r-red` or `o-orange` then our car will stop.\n",
    "\n",
    "-> if color is `g-green` our car will run.\n",
    "\n",
    "-> if color is not in our defined set. (`r-red`, `o-orange`, `g-green`) then else part will run and will show a message _\"Traffic system has broken!\"_"
   ]
  },
  {
   "cell_type": "markdown",
   "id": "726aa5ce-d45d-4096-8964-60e0733bd275",
   "metadata": {},
   "source": [
    "**`!` not operator**\n",
    "\n",
    "-> not operator is a unary operator, it works only with single operand.\n",
    "\n",
    "-> not operator will reverse the boolean value. if we have `true` then it will make it `false`."
   ]
  },
  {
   "cell_type": "code",
   "execution_count": 11,
   "id": "c062d3ca-63bb-4027-8b9e-aec0eb67346d",
   "metadata": {},
   "outputs": [],
   "source": [
    "let value = true;"
   ]
  },
  {
   "cell_type": "code",
   "execution_count": 12,
   "id": "5a21873e-64b7-4dd5-860f-947927cd795b",
   "metadata": {},
   "outputs": [
    {
     "data": {
      "text/plain": [
       "true"
      ]
     },
     "execution_count": 12,
     "metadata": {},
     "output_type": "execute_result"
    }
   ],
   "source": [
    "value"
   ]
  },
  {
   "cell_type": "code",
   "execution_count": 13,
   "id": "9209c607-fe33-4a72-b061-671cc7a2a9b9",
   "metadata": {},
   "outputs": [
    {
     "data": {
      "text/plain": [
       "false"
      ]
     },
     "execution_count": 13,
     "metadata": {},
     "output_type": "execute_result"
    }
   ],
   "source": [
    "!value"
   ]
  },
  {
   "cell_type": "code",
   "execution_count": 18,
   "id": "26469e5a-568e-471e-be0a-ae94788321be",
   "metadata": {},
   "outputs": [
    {
     "name": "stdout",
     "output_type": "stream",
     "text": [
      "run car\n"
     ]
    }
   ],
   "source": [
    "// traffic system\n",
    "color ='g'\n",
    "if(!(color == 'r') || !(color == 'o')){\n",
    "    console.log(\"run car\");\n",
    "}\n",
    "else if(color=='r' || color == 'o'){\n",
    "    console.log(\"stop car\");\n",
    "}\n",
    "else{\n",
    "    console.log(\"Traffic system has broken!\")\n",
    "}"
   ]
  },
  {
   "cell_type": "markdown",
   "id": "4659d35c-4665-4e5b-afe5-bf6c69dd94ef",
   "metadata": {},
   "source": [
    "if `color = g`\n",
    "\n",
    "-> `color == 'r'` will return _false_ but `!` not operator convert it to true.\n",
    "\n",
    "->  `color == 'o'` will return _false_ but `!` not operator convert it to true."
   ]
  },
  {
   "cell_type": "markdown",
   "id": "fd330a10-0895-4497-a373-e771e87314a7",
   "metadata": {},
   "source": [
    "### Increment & Decrement Operator"
   ]
  },
  {
   "cell_type": "markdown",
   "id": "30ca3342-dc74-4ef8-b4c0-5974a1a5b0fc",
   "metadata": {},
   "source": [
    "-> if we want to increase one variable (numerical variable) by step one, we can use increment operator.\n",
    "\n",
    "-> if we want to decrease one variable (numerical variable) by step one, we can use decrement operator.\n",
    "\n",
    "\n",
    "* type of increment & decrement operator\n",
    "    - prefix  (++a, --a)\n",
    "    - postfix (a++, a--)\n",
    "    \n",
    "* `++` Increment Operator\n",
    "* `--` Decrement Operator"
   ]
  },
  {
   "cell_type": "code",
   "execution_count": 19,
   "id": "afe75f7f-4b39-4173-ba04-982ca112d9aa",
   "metadata": {},
   "outputs": [],
   "source": [
    "let x = 10"
   ]
  },
  {
   "cell_type": "code",
   "execution_count": 20,
   "id": "9511676e-11d1-4dee-9129-9349d19dc86b",
   "metadata": {},
   "outputs": [
    {
     "data": {
      "text/plain": [
       "10"
      ]
     },
     "execution_count": 20,
     "metadata": {},
     "output_type": "execute_result"
    }
   ],
   "source": [
    "x"
   ]
  },
  {
   "cell_type": "markdown",
   "id": "40906b8e-872b-4dd1-bdfa-e3512813a8cc",
   "metadata": {},
   "source": [
    "**postfix**"
   ]
  },
  {
   "cell_type": "code",
   "execution_count": 21,
   "id": "902fc264-845f-438f-b5f8-bd71c6377c11",
   "metadata": {},
   "outputs": [
    {
     "data": {
      "text/plain": [
       "10"
      ]
     },
     "execution_count": 21,
     "metadata": {},
     "output_type": "execute_result"
    }
   ],
   "source": [
    "// performing postfix increment operator\n",
    "x++"
   ]
  },
  {
   "cell_type": "code",
   "execution_count": 22,
   "id": "47292fae-051f-4d5f-a02c-2d49aeb7f70c",
   "metadata": {},
   "outputs": [
    {
     "data": {
      "text/plain": [
       "11"
      ]
     },
     "execution_count": 22,
     "metadata": {},
     "output_type": "execute_result"
    }
   ],
   "source": [
    "x"
   ]
  },
  {
   "cell_type": "markdown",
   "id": "8e309d32-7307-424c-906a-4acd48075f95",
   "metadata": {},
   "source": [
    "-> in postfix increment operator, old value is used first, then it increase the value. "
   ]
  },
  {
   "cell_type": "code",
   "execution_count": 23,
   "id": "57f4e2bf-fc9b-47cd-8dfb-cb8d19781426",
   "metadata": {},
   "outputs": [
    {
     "data": {
      "text/plain": [
       "11"
      ]
     },
     "execution_count": 23,
     "metadata": {},
     "output_type": "execute_result"
    }
   ],
   "source": [
    "x--"
   ]
  },
  {
   "cell_type": "code",
   "execution_count": 24,
   "id": "ff3b8fc4-0784-4ab5-b6f9-d52d0d05d31b",
   "metadata": {},
   "outputs": [
    {
     "data": {
      "text/plain": [
       "10"
      ]
     },
     "execution_count": 24,
     "metadata": {},
     "output_type": "execute_result"
    }
   ],
   "source": [
    "x"
   ]
  },
  {
   "cell_type": "markdown",
   "id": "bb6f4a24-df8f-4b21-bdfd-4410244f1c8e",
   "metadata": {},
   "source": [
    "-> in postfix decrement operator, old value is used first, then it decreases the value. "
   ]
  },
  {
   "cell_type": "markdown",
   "id": "2369a931-99dc-4d1f-9fa8-1872a2f5aad6",
   "metadata": {},
   "source": [
    "**prefix**"
   ]
  },
  {
   "cell_type": "code",
   "execution_count": 27,
   "id": "7347e420-e398-4035-a8ce-ff85fc433452",
   "metadata": {},
   "outputs": [
    {
     "data": {
      "text/plain": [
       "11"
      ]
     },
     "execution_count": 27,
     "metadata": {},
     "output_type": "execute_result"
    }
   ],
   "source": [
    "++x"
   ]
  },
  {
   "cell_type": "code",
   "execution_count": 28,
   "id": "5309ef47-a549-4604-ae6b-011c50c752c5",
   "metadata": {},
   "outputs": [
    {
     "data": {
      "text/plain": [
       "10"
      ]
     },
     "execution_count": 28,
     "metadata": {},
     "output_type": "execute_result"
    }
   ],
   "source": [
    "--x"
   ]
  },
  {
   "cell_type": "markdown",
   "id": "a0cde7b3-39cb-48ab-bad5-02e734b502a5",
   "metadata": {},
   "source": [
    "-> in prefix increment/decrement operator, old value is increases/decreases first, then it is used."
   ]
  },
  {
   "cell_type": "markdown",
   "id": "fbcabfe3-c6e0-490c-b7fb-01f5c5694041",
   "metadata": {},
   "source": [
    "**a simple use of ++ & -- operator**"
   ]
  },
  {
   "cell_type": "code",
   "execution_count": 30,
   "id": "e6f2ea52-b225-46f9-ab9f-0bab9e18b415",
   "metadata": {},
   "outputs": [
    {
     "name": "stdout",
     "output_type": "stream",
     "text": [
      "i increased -- > 0\n",
      "i increased -- > 1\n",
      "i increased -- > 2\n",
      "i increased -- > 3\n",
      "i increased -- > 4\n",
      "i increased -- > 5\n",
      "i increased -- > 6\n",
      "i increased -- > 7\n",
      "i increased -- > 8\n",
      "i increased -- > 9\n"
     ]
    }
   ],
   "source": [
    "// using ++ in a loop to increase the value in each iteration.\n",
    "for(let i=0; i<10; i++){\n",
    "    console.log(\"i increased -- >\" ,i)\n",
    "}"
   ]
  },
  {
   "cell_type": "code",
   "execution_count": 31,
   "id": "b2bbfba1-f161-4ea5-a889-bf4b5ad521c5",
   "metadata": {},
   "outputs": [
    {
     "name": "stdout",
     "output_type": "stream",
     "text": [
      "i increased -- > 10\n",
      "i increased -- > 9\n",
      "i increased -- > 8\n",
      "i increased -- > 7\n",
      "i increased -- > 6\n",
      "i increased -- > 5\n",
      "i increased -- > 4\n",
      "i increased -- > 3\n",
      "i increased -- > 2\n",
      "i increased -- > 1\n"
     ]
    }
   ],
   "source": [
    "// using -- in a loop to decrease the value in each iteration.\n",
    "for(let j=10; j>0; j--){\n",
    "    console.log(\"i increased -- >\" ,j)\n",
    "}"
   ]
  },
  {
   "cell_type": "code",
   "execution_count": null,
   "id": "6544a0c3-ce64-4420-939b-045378e08d4c",
   "metadata": {},
   "outputs": [],
   "source": []
  }
 ],
 "metadata": {
  "kernelspec": {
   "display_name": "JavaScript (Node.js)",
   "language": "javascript",
   "name": "javascript"
  },
  "language_info": {
   "file_extension": ".js",
   "mimetype": "application/javascript",
   "name": "javascript",
   "version": "16.17.0"
  }
 },
 "nbformat": 4,
 "nbformat_minor": 5
}
