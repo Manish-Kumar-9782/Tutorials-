{
 "cells": [
  {
   "cell_type": "markdown",
   "id": "dc8666b9-b1d8-48ca-9a22-144c92f5b863",
   "metadata": {},
   "source": [
    "# Control statements"
   ]
  },
  {
   "cell_type": "markdown",
   "id": "e71eae70-d99c-46db-a480-03f9922f9e03",
   "metadata": {},
   "source": [
    "Control statements are used to control the flow execution of the program or multiple statment."
   ]
  },
  {
   "cell_type": "code",
   "execution_count": null,
   "id": "f0a00757-e8ce-4287-abfa-a4a189617a44",
   "metadata": {},
   "outputs": [],
   "source": [
    "event1 = \"CAT\";\n",
    "event2 = \"BG\";\n",
    "event3 = \"CAR\"\n",
    "event = \"DF\"  \n",
    "if(event == event1){\n",
    "    console.log(\"going home with friend\");\n",
    "}\n",
    "else if (event == event2){\n",
    "    console.log(\"going home straight\");\n",
    "}\n",
    "else if (event == event3){\n",
    "    console.log(\"going home with friend but late.\");\n",
    "}\n",
    "else{\n",
    "    console.log(\"wait and sleep on road, then go home.\");\n",
    "}"
   ]
  },
  {
   "cell_type": "code",
   "execution_count": 8,
   "id": "35f6b24b-e9a6-4a90-8934-1a0932d6648c",
   "metadata": {},
   "outputs": [
    {
     "name": "stdout",
     "output_type": "stream",
     "text": [
      "black\n"
     ]
    }
   ],
   "source": [
    " color  = \"rgb\"\n",
    "\n",
    "if (color == \"r\"){\n",
    "    console.log(\"red\")\n",
    "}\n",
    "else if (color == \"g\"){\n",
    "    console.log(\"green\")\n",
    "}\n",
    "else if (color == \"b\"){\n",
    "    console.log(\"blue\")\n",
    "}\n",
    "else{\n",
    "    console.log(\"black\")\n",
    "}"
   ]
  },
  {
   "cell_type": "markdown",
   "id": "15ae242f-a544-4225-a2bb-d88f61d37cd3",
   "metadata": {},
   "source": [
    "##### Control statement\n",
    "\n",
    "In the above conditional statment only one section (if-else) statment will run other will be ignored. \n",
    "\n",
    "* if multiple `if` `else-if` conditinal statement are defined in an order, then each condition will be tested if the previous one is not qualified.\n",
    "\n",
    "* if any condition except `else` is qulified then other conditions will be ignored.\n",
    "\n",
    "* if all conditions are not qulified, and `else` is defined, else will execute."
   ]
  },
  {
   "cell_type": "code",
   "execution_count": 14,
   "id": "832c9133-25b4-41c2-b075-ab619c342f0f",
   "metadata": {},
   "outputs": [
    {
     "data": {
      "text/plain": [
       "{\n",
       "  color: 'lightblue',\n",
       "  width: '100px',\n",
       "  border: '1px solid lightblue',\n",
       "  fontFamily: 'roboto'\n",
       "}"
      ]
     },
     "execution_count": 14,
     "metadata": {},
     "output_type": "execute_result"
    }
   ],
   "source": [
    "// Class = 'card'\n",
    "\n",
    "// to apply some property\n",
    "/*\n",
    "    color: red;\n",
    "    border: 2px solid red;\n",
    "    font-family: xyz;\n",
    "    ...\n",
    "*/\n",
    "\n",
    "card = {\n",
    "    // key:value\n",
    "    color: 'lightblue',\n",
    "    width: '100px',\n",
    "    border: '1px solid lightblue',\n",
    "    fontFamily: 'roboto',\n",
    "}"
   ]
  },
  {
   "cell_type": "code",
   "execution_count": 16,
   "id": "690d26b0-be02-4126-a02f-8e0a35c4a232",
   "metadata": {},
   "outputs": [
    {
     "data": {
      "text/plain": [
       "{\n",
       "  color: 'red',\n",
       "  width: '250px',\n",
       "  border: '4px solid red',\n",
       "  fontFamily: 'roboto'\n",
       "}"
      ]
     },
     "execution_count": 16,
     "metadata": {},
     "output_type": "execute_result"
    }
   ],
   "source": [
    "redCard =  {\n",
    "    color: 'red',\n",
    "    width: '250px',\n",
    "    border: '4px solid red',\n",
    "    fontFamily: 'roboto',\n",
    "}"
   ]
  },
  {
   "cell_type": "code",
   "execution_count": 7,
   "id": "18d6aeac-8b4d-4f80-bbbd-3ce4940eb10e",
   "metadata": {},
   "outputs": [],
   "source": [
    "function apply_style(style){\n",
    "    console.log(`setting color -> ${style.color}`)\n",
    "    console.log(`setting width -> ${style.width}`)\n",
    "    console.log(`setting border -> ${style.border}`)\n",
    "    console.log(`setting font-family -> ${style.fontFamily}`)\n",
    "}"
   ]
  },
  {
   "cell_type": "code",
   "execution_count": 9,
   "id": "7d6ad913-789f-4219-a940-35755adadbe9",
   "metadata": {},
   "outputs": [],
   "source": [
    "let Class = \"card\""
   ]
  },
  {
   "cell_type": "code",
   "execution_count": 18,
   "id": "821740e8-ea36-48ee-8730-f67cf46f8fd4",
   "metadata": {},
   "outputs": [
    {
     "name": "stdout",
     "output_type": "stream",
     "text": [
      "setting color -> red\n",
      "setting width -> 250px\n",
      "setting border -> 4px solid red\n",
      "setting font-family -> roboto\n"
     ]
    }
   ],
   "source": [
    "Class = \"red card\"\n",
    "\n",
    "if(Class == \"card\"){\n",
    "    // normal properties\n",
    "    \n",
    "    apply_style(card);\n",
    "}else if (Class == \"red card\"){\n",
    "    // red card\n",
    "    apply_style(redCard)\n",
    "}\n",
    "else{\n",
    "    // if not card.\n",
    "    console.log(\"no card found!\")\n",
    "}"
   ]
  },
  {
   "cell_type": "markdown",
   "id": "fceaeb49-36ba-494f-b666-8145ec20cea6",
   "metadata": {},
   "source": [
    "### While loop"
   ]
  },
  {
   "cell_type": "markdown",
   "id": "7973296f-5065-4fb0-b582-720eb6fc2436",
   "metadata": {},
   "source": [
    "```js\n",
    "    \n",
    "    while(condition){\n",
    "        // body of the while loop\n",
    "    }\n",
    "```\n",
    "\n",
    "* loop will continuously if condition is remain true, if it becames false our loop will terminate.\n",
    "\n",
    "* loop can be terminated by using the break, statements inside the loop"
   ]
  },
  {
   "cell_type": "code",
   "execution_count": 26,
   "id": "c9320aab-9708-47aa-bb06-c0ab091b4e04",
   "metadata": {},
   "outputs": [],
   "source": [
    "let i = 2;"
   ]
  },
  {
   "cell_type": "code",
   "execution_count": 30,
   "id": "8427e7cb-af0f-4fdd-a687-1faad8b00fb8",
   "metadata": {},
   "outputs": [
    {
     "data": {
      "text/plain": [
       "11"
      ]
     },
     "execution_count": 30,
     "metadata": {},
     "output_type": "execute_result"
    }
   ],
   "source": [
    "number = 11;"
   ]
  },
  {
   "cell_type": "code",
   "execution_count": 31,
   "id": "f275c42d-2393-48fc-b124-f8d04273869e",
   "metadata": {},
   "outputs": [
    {
     "name": "stdout",
     "output_type": "stream",
     "text": [
      "i at ->  2\n",
      "i at ->  3\n",
      "i at ->  4\n",
      "i at ->  5\n",
      "i at ->  6\n",
      "i at ->  7\n",
      "i at ->  8\n",
      "i at ->  9\n",
      "i at ->  10\n",
      "i at ->  11\n",
      "number is prime\n"
     ]
    },
    {
     "data": {
      "text/plain": [
       "0"
      ]
     },
     "execution_count": 31,
     "metadata": {},
     "output_type": "execute_result"
    }
   ],
   "source": [
    "while(1){\n",
    "    \n",
    "    console.log(\"i at -> \", i)\n",
    "    \n",
    "    if (i==number){\n",
    "        console.log(\"number is prime\")\n",
    "        break  \n",
    "    }\n",
    "    else{\n",
    "        \n",
    "        if(number%i == 0){\n",
    "            console.log(\"number is not prime.\")\n",
    "            break  \n",
    "        }\n",
    "        \n",
    "    }\n",
    "    \n",
    "    \n",
    "    \n",
    "    i++;\n",
    "}\n",
    "number = 0"
   ]
  },
  {
   "cell_type": "code",
   "execution_count": 32,
   "id": "dfbbd8f0-3d6e-41a6-9d53-510dbafb9042",
   "metadata": {},
   "outputs": [
    {
     "name": "stdout",
     "output_type": "stream",
     "text": [
      "i at ->  2\n",
      "number is not prime.\n"
     ]
    },
    {
     "data": {
      "text/plain": [
       "0"
      ]
     },
     "execution_count": 32,
     "metadata": {},
     "output_type": "execute_result"
    }
   ],
   "source": [
    "i = 2;\n",
    "number = 6;\n",
    "\n",
    "while(1){\n",
    "    \n",
    "    console.log(\"i at -> \", i)\n",
    "    \n",
    "    if (i==number){\n",
    "        console.log(\"number is prime\")\n",
    "        break  \n",
    "    }\n",
    "    else{\n",
    "        \n",
    "        if(number%i == 0){\n",
    "            console.log(\"number is not prime.\")\n",
    "            break  \n",
    "        }\n",
    "        \n",
    "    }\n",
    "    \n",
    "    i++;\n",
    "}\n",
    "number = 0"
   ]
  },
  {
   "cell_type": "code",
   "execution_count": 38,
   "id": "5714f6da-643f-4c79-8d92-cd48ad646c56",
   "metadata": {},
   "outputs": [],
   "source": [
    "function isPrime(number){\n",
    "    \n",
    "    let i=2;\n",
    "    \n",
    "    while(1){\n",
    "    \n",
    "    // console.log(\"i at -> \", i);\n",
    "    \n",
    "    if (i==number){\n",
    "        console.log(`${number} is prime number.`);\n",
    "        break; \n",
    "    }\n",
    "    else{\n",
    "        \n",
    "        if(number%i == 0){\n",
    "            console.log(`${number} is not a prime number`);\n",
    "            break; \n",
    "        }\n",
    "    }\n",
    "    i++;\n",
    "}}"
   ]
  },
  {
   "cell_type": "code",
   "execution_count": 40,
   "id": "aa8ff100-0197-4f50-a131-1be1d92b03b9",
   "metadata": {},
   "outputs": [
    {
     "name": "stdout",
     "output_type": "stream",
     "text": [
      "7 is prime number.\n"
     ]
    }
   ],
   "source": [
    "isPrime(7)"
   ]
  },
  {
   "cell_type": "code",
   "execution_count": 42,
   "id": "2c9a45fa-39b4-4661-9d5a-1209c0d095e9",
   "metadata": {},
   "outputs": [],
   "source": [
    "function isPrime(number){\n",
    "    \n",
    "    let i=2;\n",
    "    \n",
    "    while(1){\n",
    "    \n",
    "    // console.log(\"i at -> \", i);\n",
    "    \n",
    "    if (i==number){\n",
    "        // console.log(`${number} is prime number.`);\n",
    "        // break; \n",
    "        return true\n",
    "    }\n",
    "    else{\n",
    "        \n",
    "        if(number%i == 0){\n",
    "            // console.log(`${number} is not a prime number`);\n",
    "            // break; \n",
    "            return false\n",
    "        }\n",
    "    }\n",
    "    i++;\n",
    "}}"
   ]
  },
  {
   "cell_type": "code",
   "execution_count": 44,
   "id": "432faf88-6462-4a64-bd72-d5c21b8ca388",
   "metadata": {},
   "outputs": [
    {
     "data": {
      "text/plain": [
       "true"
      ]
     },
     "execution_count": 44,
     "metadata": {},
     "output_type": "execute_result"
    }
   ],
   "source": [
    "isPrime(7)"
   ]
  },
  {
   "cell_type": "code",
   "execution_count": 45,
   "id": "941a9553-9789-4204-b51f-34dd29191ada",
   "metadata": {},
   "outputs": [],
   "source": [
    "let numbers = [23,49,29,45,99,68,49,86,39,934,34890,4034,8735,437823]"
   ]
  },
  {
   "cell_type": "code",
   "execution_count": 46,
   "id": "ea17eebb-62cd-476d-b2d0-7ebf9cb0af88",
   "metadata": {},
   "outputs": [
    {
     "data": {
      "text/plain": [
       "23"
      ]
     },
     "execution_count": 46,
     "metadata": {},
     "output_type": "execute_result"
    }
   ],
   "source": [
    "numbers[0]"
   ]
  },
  {
   "cell_type": "code",
   "execution_count": 47,
   "id": "d3c85ab2-6ae5-42f7-af3f-b28ab0366b71",
   "metadata": {},
   "outputs": [
    {
     "name": "stdout",
     "output_type": "stream",
     "text": [
      "23 is prime: true\n",
      "49 is prime: false\n",
      "29 is prime: true\n",
      "45 is prime: false\n",
      "99 is prime: false\n",
      "68 is prime: false\n",
      "49 is prime: false\n",
      "86 is prime: false\n",
      "39 is prime: false\n",
      "934 is prime: false\n",
      "34890 is prime: false\n",
      "4034 is prime: false\n",
      "8735 is prime: false\n",
      "437823 is prime: false\n"
     ]
    }
   ],
   "source": [
    "for(let i=0; i<numbers.length; i++){\n",
    "    console.log(`${numbers[i]} is prime: ${isPrime(numbers[i])}` )\n",
    "}"
   ]
  },
  {
   "cell_type": "code",
   "execution_count": 48,
   "id": "61a6dab7-6294-46a6-8e33-78843536ee28",
   "metadata": {},
   "outputs": [
    {
     "data": {
      "text/plain": [
       "[ 23, 29 ]"
      ]
     },
     "execution_count": 48,
     "metadata": {},
     "output_type": "execute_result"
    }
   ],
   "source": [
    "numbers.filter(isPrime)"
   ]
  },
  {
   "cell_type": "code",
   "execution_count": null,
   "id": "5c04239f-c1bb-45ff-a16a-9b0d28ab7f26",
   "metadata": {},
   "outputs": [],
   "source": []
  }
 ],
 "metadata": {
  "kernelspec": {
   "display_name": "JavaScript (Node.js)",
   "language": "javascript",
   "name": "javascript"
  },
  "language_info": {
   "file_extension": ".js",
   "mimetype": "application/javascript",
   "name": "javascript",
   "version": "16.17.0"
  }
 },
 "nbformat": 4,
 "nbformat_minor": 5
}
