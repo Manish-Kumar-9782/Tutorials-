{
 "cells": [
  {
   "cell_type": "markdown",
   "id": "dc8666b9-b1d8-48ca-9a22-144c92f5b863",
   "metadata": {},
   "source": [
    "# Control statements"
   ]
  },
  {
   "cell_type": "markdown",
   "id": "e71eae70-d99c-46db-a480-03f9922f9e03",
   "metadata": {},
   "source": [
    "Control statements are used to control the flow execution of the program or multiple statment."
   ]
  },
  {
   "cell_type": "code",
   "execution_count": null,
   "id": "f0a00757-e8ce-4287-abfa-a4a189617a44",
   "metadata": {},
   "outputs": [],
   "source": [
    "event1 = \"CAT\";\n",
    "event2 = \"BG\";\n",
    "event3 = \"CAR\"\n",
    "event = \"DF\"  \n",
    "if(event == event1){\n",
    "    console.log(\"going home with friend\");\n",
    "}\n",
    "else if (event == event2){\n",
    "    console.log(\"going home straight\");\n",
    "}\n",
    "else if (event == event3){\n",
    "    console.log(\"going home with friend but late.\");\n",
    "}\n",
    "else{\n",
    "    console.log(\"wait and sleep on road, then go home.\");\n",
    "}"
   ]
  },
  {
   "cell_type": "code",
   "execution_count": 8,
   "id": "35f6b24b-e9a6-4a90-8934-1a0932d6648c",
   "metadata": {},
   "outputs": [
    {
     "name": "stdout",
     "output_type": "stream",
     "text": [
      "black\n"
     ]
    }
   ],
   "source": [
    " color  = \"rgb\"\n",
    "\n",
    "if (color == \"r\"){\n",
    "    console.log(\"red\")\n",
    "}\n",
    "else if (color == \"g\"){\n",
    "    console.log(\"green\")\n",
    "}\n",
    "else if (color == \"b\"){\n",
    "    console.log(\"blue\")\n",
    "}\n",
    "else{\n",
    "    console.log(\"black\")\n",
    "}"
   ]
  },
  {
   "cell_type": "markdown",
   "id": "15ae242f-a544-4225-a2bb-d88f61d37cd3",
   "metadata": {},
   "source": [
    "##### Control statement\n",
    "\n",
    "In the above conditional statment only one section (if-else) statment will run other will be ignored. \n",
    "\n",
    "* if multiple `if` `else-if` conditinal statement are defined in an order, then each condition will be tested if the previous one is not qualified.\n",
    "\n",
    "* if any condition except `else` is qulified then other conditions will be ignored.\n",
    "\n",
    "* if all conditions are not qulified, and `else` is defined, else will execute."
   ]
  },
  {
   "cell_type": "code",
   "execution_count": 14,
   "id": "832c9133-25b4-41c2-b075-ab619c342f0f",
   "metadata": {},
   "outputs": [
    {
     "data": {
      "text/plain": [
       "{\n",
       "  color: 'lightblue',\n",
       "  width: '100px',\n",
       "  border: '1px solid lightblue',\n",
       "  fontFamily: 'roboto'\n",
       "}"
      ]
     },
     "execution_count": 14,
     "metadata": {},
     "output_type": "execute_result"
    }
   ],
   "source": [
    "// Class = 'card'\n",
    "\n",
    "// to apply some property\n",
    "/*\n",
    "    color: red;\n",
    "    border: 2px solid red;\n",
    "    font-family: xyz;\n",
    "    ...\n",
    "*/\n",
    "\n",
    "card = {\n",
    "    // key:value\n",
    "    color: 'lightblue',\n",
    "    width: '100px',\n",
    "    border: '1px solid lightblue',\n",
    "    fontFamily: 'roboto',\n",
    "}"
   ]
  },
  {
   "cell_type": "code",
   "execution_count": 16,
   "id": "690d26b0-be02-4126-a02f-8e0a35c4a232",
   "metadata": {},
   "outputs": [
    {
     "data": {
      "text/plain": [
       "{\n",
       "  color: 'red',\n",
       "  width: '250px',\n",
       "  border: '4px solid red',\n",
       "  fontFamily: 'roboto'\n",
       "}"
      ]
     },
     "execution_count": 16,
     "metadata": {},
     "output_type": "execute_result"
    }
   ],
   "source": [
    "redCard =  {\n",
    "    color: 'red',\n",
    "    width: '250px',\n",
    "    border: '4px solid red',\n",
    "    fontFamily: 'roboto',\n",
    "}"
   ]
  },
  {
   "cell_type": "code",
   "execution_count": 7,
   "id": "18d6aeac-8b4d-4f80-bbbd-3ce4940eb10e",
   "metadata": {},
   "outputs": [],
   "source": [
    "function apply_style(style){\n",
    "    console.log(`setting color -> ${style.color}`)\n",
    "    console.log(`setting width -> ${style.width}`)\n",
    "    console.log(`setting border -> ${style.border}`)\n",
    "    console.log(`setting font-family -> ${style.fontFamily}`)\n",
    "}"
   ]
  },
  {
   "cell_type": "code",
   "execution_count": 9,
   "id": "7d6ad913-789f-4219-a940-35755adadbe9",
   "metadata": {},
   "outputs": [],
   "source": [
    "let Class = \"card\""
   ]
  },
  {
   "cell_type": "code",
   "execution_count": 18,
   "id": "821740e8-ea36-48ee-8730-f67cf46f8fd4",
   "metadata": {},
   "outputs": [
    {
     "name": "stdout",
     "output_type": "stream",
     "text": [
      "setting color -> red\n",
      "setting width -> 250px\n",
      "setting border -> 4px solid red\n",
      "setting font-family -> roboto\n"
     ]
    }
   ],
   "source": [
    "Class = \"red card\"\n",
    "\n",
    "if(Class == \"card\"){\n",
    "    // normal properties\n",
    "    \n",
    "    apply_style(card);\n",
    "}else if (Class == \"red card\"){\n",
    "    // red card\n",
    "    apply_style(redCard)\n",
    "}\n",
    "else{\n",
    "    // if not card.\n",
    "    console.log(\"no card found!\")\n",
    "}"
   ]
  },
  {
   "cell_type": "markdown",
   "id": "fceaeb49-36ba-494f-b666-8145ec20cea6",
   "metadata": {},
   "source": [
    "### While loop"
   ]
  },
  {
   "cell_type": "markdown",
   "id": "7973296f-5065-4fb0-b582-720eb6fc2436",
   "metadata": {},
   "source": [
    "```js\n",
    "    \n",
    "    while(condition){\n",
    "        // body of the while loop\n",
    "    }\n",
    "```\n",
    "\n",
    "* loop will continuously if condition is remain true, if it becames false our loop will terminate.\n",
    "\n",
    "* loop can be terminated by using the break, statements inside the loop"
   ]
  },
  {
   "cell_type": "code",
   "execution_count": 26,
   "id": "c9320aab-9708-47aa-bb06-c0ab091b4e04",
   "metadata": {},
   "outputs": [],
   "source": [
    "let i = 2;"
   ]
  },
  {
   "cell_type": "code",
   "execution_count": 30,
   "id": "8427e7cb-af0f-4fdd-a687-1faad8b00fb8",
   "metadata": {},
   "outputs": [
    {
     "data": {
      "text/plain": [
       "11"
      ]
     },
     "execution_count": 30,
     "metadata": {},
     "output_type": "execute_result"
    }
   ],
   "source": [
    "number = 11;"
   ]
  },
  {
   "cell_type": "code",
   "execution_count": 31,
   "id": "f275c42d-2393-48fc-b124-f8d04273869e",
   "metadata": {},
   "outputs": [
    {
     "name": "stdout",
     "output_type": "stream",
     "text": [
      "i at ->  2\n",
      "i at ->  3\n",
      "i at ->  4\n",
      "i at ->  5\n",
      "i at ->  6\n",
      "i at ->  7\n",
      "i at ->  8\n",
      "i at ->  9\n",
      "i at ->  10\n",
      "i at ->  11\n",
      "number is prime\n"
     ]
    },
    {
     "data": {
      "text/plain": [
       "0"
      ]
     },
     "execution_count": 31,
     "metadata": {},
     "output_type": "execute_result"
    }
   ],
   "source": [
    "while(1){\n",
    "    \n",
    "    console.log(\"i at -> \", i)\n",
    "    \n",
    "    if (i==number){\n",
    "        console.log(\"number is prime\")\n",
    "        break  \n",
    "    }\n",
    "    else{\n",
    "        \n",
    "        if(number%i == 0){\n",
    "            console.log(\"number is not prime.\")\n",
    "            break  \n",
    "        }\n",
    "        \n",
    "    }\n",
    "    \n",
    "    \n",
    "    \n",
    "    i++;\n",
    "}\n",
    "number = 0"
   ]
  },
  {
   "cell_type": "code",
   "execution_count": 3,
   "id": "dfbbd8f0-3d6e-41a6-9d53-510dbafb9042",
   "metadata": {},
   "outputs": [
    {
     "name": "stdout",
     "output_type": "stream",
     "text": [
      "i at ->  2\n",
      "i at ->  3\n",
      "i at ->  4\n",
      "i at ->  5\n",
      "i at ->  6\n",
      "i at ->  7\n",
      "i at ->  8\n",
      "i at ->  9\n",
      "i at ->  10\n",
      "i at ->  11\n",
      "i at ->  12\n",
      "i at ->  13\n",
      "i at ->  14\n",
      "i at ->  15\n",
      "i at ->  16\n",
      "i at ->  17\n",
      "i at ->  18\n",
      "i at ->  19\n",
      "i at ->  20\n",
      "i at ->  21\n",
      "i at ->  22\n",
      "i at ->  23\n",
      "i at ->  24\n",
      "i at ->  25\n",
      "i at ->  26\n",
      "i at ->  27\n",
      "i at ->  28\n",
      "i at ->  29\n",
      "i at ->  30\n",
      "i at ->  31\n",
      "i at ->  32\n",
      "i at ->  33\n",
      "i at ->  34\n",
      "i at ->  35\n",
      "i at ->  36\n",
      "i at ->  37\n",
      "i at ->  38\n",
      "i at ->  39\n",
      "i at ->  40\n",
      "i at ->  41\n",
      "i at ->  42\n",
      "i at ->  43\n",
      "i at ->  44\n",
      "i at ->  45\n",
      "i at ->  46\n",
      "i at ->  47\n",
      "i at ->  48\n",
      "i at ->  49\n",
      "i at ->  50\n",
      "i at ->  51\n",
      "i at ->  52\n",
      "i at ->  53\n",
      "i at ->  54\n",
      "i at ->  55\n",
      "i at ->  56\n",
      "i at ->  57\n",
      "i at ->  58\n",
      "i at ->  59\n",
      "i at ->  60\n",
      "i at ->  61\n",
      "i at ->  62\n",
      "i at ->  63\n",
      "i at ->  64\n",
      "i at ->  65\n",
      "i at ->  66\n",
      "i at ->  67\n",
      "i at ->  68\n",
      "i at ->  69\n",
      "i at ->  70\n",
      "i at ->  71\n",
      "i at ->  72\n",
      "i at ->  73\n",
      "i at ->  74\n",
      "i at ->  75\n",
      "i at ->  76\n",
      "i at ->  77\n",
      "i at ->  78\n",
      "i at ->  79\n",
      "i at ->  80\n",
      "i at ->  81\n",
      "i at ->  82\n",
      "i at ->  83\n",
      "i at ->  84\n",
      "i at ->  85\n",
      "i at ->  86\n",
      "i at ->  87\n",
      "i at ->  88\n",
      "i at ->  89\n",
      "i at ->  90\n",
      "i at ->  91\n",
      "i at ->  92\n",
      "i at ->  93\n",
      "i at ->  94\n",
      "i at ->  95\n",
      "i at ->  96\n",
      "i at ->  97\n",
      "i at ->  98\n",
      "i at ->  99\n",
      "i at ->  100\n",
      "i at ->  101\n",
      "i at ->  102\n",
      "i at ->  103\n",
      "i at ->  104\n",
      "i at ->  105\n",
      "i at ->  106\n",
      "i at ->  107\n",
      "i at ->  108\n",
      "i at ->  109\n",
      "i at ->  110\n",
      "i at ->  111\n",
      "i at ->  112\n",
      "i at ->  113\n",
      "i at ->  114\n",
      "i at ->  115\n",
      "i at ->  116\n",
      "i at ->  117\n",
      "i at ->  118\n",
      "i at ->  119\n",
      "i at ->  120\n",
      "i at ->  121\n",
      "i at ->  122\n",
      "i at ->  123\n",
      "i at ->  124\n",
      "i at ->  125\n",
      "i at ->  126\n",
      "i at ->  127\n",
      "i at ->  128\n",
      "i at ->  129\n",
      "i at ->  130\n",
      "i at ->  131\n",
      "i at ->  132\n",
      "i at ->  133\n",
      "i at ->  134\n",
      "i at ->  135\n",
      "i at ->  136\n",
      "i at ->  137\n",
      "i at ->  138\n",
      "i at ->  139\n",
      "i at ->  140\n",
      "i at ->  141\n",
      "i at ->  142\n",
      "i at ->  143\n",
      "i at ->  144\n",
      "i at ->  145\n",
      "i at ->  146\n",
      "i at ->  147\n",
      "i at ->  148\n",
      "i at ->  149\n",
      "i at ->  150\n",
      "i at ->  151\n",
      "i at ->  152\n",
      "i at ->  153\n",
      "i at ->  154\n",
      "i at ->  155\n",
      "i at ->  156\n",
      "i at ->  157\n",
      "i at ->  158\n",
      "i at ->  159\n",
      "i at ->  160\n",
      "i at ->  161\n",
      "i at ->  162\n",
      "i at ->  163\n",
      "i at ->  164\n",
      "i at ->  165\n",
      "i at ->  166\n",
      "i at ->  167\n",
      "i at ->  168\n",
      "i at ->  169\n",
      "i at ->  170\n",
      "i at ->  171\n",
      "i at ->  172\n",
      "i at ->  173\n",
      "i at ->  174\n",
      "i at ->  175\n",
      "i at ->  176\n",
      "i at ->  177\n",
      "i at ->  178\n",
      "i at ->  179\n",
      "i at ->  180\n",
      "i at ->  181\n",
      "i at ->  182\n",
      "i at ->  183\n",
      "i at ->  184\n",
      "i at ->  185\n",
      "i at ->  186\n",
      "i at ->  187\n",
      "i at ->  188\n",
      "i at ->  189\n",
      "i at ->  190\n",
      "i at ->  191\n",
      "i at ->  192\n",
      "i at ->  193\n",
      "i at ->  194\n",
      "i at ->  195\n",
      "i at ->  196\n",
      "i at ->  197\n",
      "i at ->  198\n",
      "i at ->  199\n",
      "i at ->  200\n",
      "i at ->  201\n",
      "i at ->  202\n",
      "i at ->  203\n",
      "i at ->  204\n",
      "i at ->  205\n",
      "i at ->  206\n",
      "i at ->  207\n",
      "i at ->  208\n",
      "i at ->  209\n",
      "i at ->  210\n",
      "i at ->  211\n",
      "i at ->  212\n",
      "i at ->  213\n",
      "i at ->  214\n",
      "i at ->  215\n",
      "i at ->  216\n",
      "i at ->  217\n",
      "i at ->  218\n",
      "i at ->  219\n",
      "i at ->  220\n",
      "i at ->  221\n",
      "i at ->  222\n",
      "i at ->  223\n",
      "i at ->  224\n",
      "i at ->  225\n",
      "i at ->  226\n",
      "i at ->  227\n",
      "i at ->  228\n",
      "i at ->  229\n",
      "i at ->  230\n",
      "i at ->  231\n",
      "i at ->  232\n",
      "i at ->  233\n",
      "i at ->  234\n",
      "i at ->  235\n",
      "i at ->  236\n",
      "i at ->  237\n",
      "i at ->  238\n",
      "i at ->  239\n",
      "number is not prime.\n"
     ]
    },
    {
     "data": {
      "text/plain": [
       "0"
      ]
     },
     "execution_count": 3,
     "metadata": {},
     "output_type": "execute_result"
    }
   ],
   "source": [
    "i = 2;\n",
    "number = 1111111;\n",
    "\n",
    "while(1){\n",
    "    \n",
    "    console.log(\"i at -> \", i)\n",
    "    \n",
    "    if (i==number){\n",
    "        console.log(\"number is prime\")\n",
    "        break  \n",
    "    }\n",
    "    else{\n",
    "        \n",
    "        if(number%i == 0){\n",
    "            console.log(\"number is not prime.\")\n",
    "            break  \n",
    "        }   \n",
    "    }\n",
    "    \n",
    "    i++;\n",
    "}\n",
    "number = 0"
   ]
  },
  {
   "cell_type": "code",
   "execution_count": 38,
   "id": "5714f6da-643f-4c79-8d92-cd48ad646c56",
   "metadata": {},
   "outputs": [],
   "source": [
    "function isPrime(number){\n",
    "    \n",
    "    let i=2;\n",
    "    \n",
    "    while(1){\n",
    "    \n",
    "    // console.log(\"i at -> \", i);\n",
    "    \n",
    "    if (i==number){\n",
    "        console.log(`${number} is prime number.`);\n",
    "        break; \n",
    "    }\n",
    "    else{\n",
    "        \n",
    "        if(number%i == 0){\n",
    "            console.log(`${number} is not a prime number`);\n",
    "            break; \n",
    "        }\n",
    "    }\n",
    "    i++;\n",
    "}}"
   ]
  },
  {
   "cell_type": "code",
   "execution_count": 40,
   "id": "aa8ff100-0197-4f50-a131-1be1d92b03b9",
   "metadata": {},
   "outputs": [
    {
     "name": "stdout",
     "output_type": "stream",
     "text": [
      "7 is prime number.\n"
     ]
    }
   ],
   "source": [
    "isPrime(7)"
   ]
  },
  {
   "cell_type": "code",
   "execution_count": 42,
   "id": "2c9a45fa-39b4-4661-9d5a-1209c0d095e9",
   "metadata": {},
   "outputs": [],
   "source": [
    "function isPrime(number){\n",
    "    \n",
    "    let i=2;\n",
    "    \n",
    "    while(1){\n",
    "    \n",
    "    // console.log(\"i at -> \", i);\n",
    "    \n",
    "    if (i==number){\n",
    "        // console.log(`${number} is prime number.`);\n",
    "        // break; \n",
    "        return true\n",
    "    }\n",
    "    else{\n",
    "        \n",
    "        if(number%i == 0){\n",
    "            // console.log(`${number} is not a prime number`);\n",
    "            // break; \n",
    "            return false\n",
    "        }\n",
    "    }\n",
    "    i++;\n",
    "}}"
   ]
  },
  {
   "cell_type": "code",
   "execution_count": 44,
   "id": "432faf88-6462-4a64-bd72-d5c21b8ca388",
   "metadata": {},
   "outputs": [
    {
     "data": {
      "text/plain": [
       "true"
      ]
     },
     "execution_count": 44,
     "metadata": {},
     "output_type": "execute_result"
    }
   ],
   "source": [
    "isPrime(7)"
   ]
  },
  {
   "cell_type": "code",
   "execution_count": 45,
   "id": "941a9553-9789-4204-b51f-34dd29191ada",
   "metadata": {},
   "outputs": [],
   "source": [
    "let numbers = [23,49,29,45,99,68,49,86,39,934,34890,4034,8735,437823]"
   ]
  },
  {
   "cell_type": "code",
   "execution_count": 46,
   "id": "ea17eebb-62cd-476d-b2d0-7ebf9cb0af88",
   "metadata": {},
   "outputs": [
    {
     "data": {
      "text/plain": [
       "23"
      ]
     },
     "execution_count": 46,
     "metadata": {},
     "output_type": "execute_result"
    }
   ],
   "source": [
    "numbers[0]"
   ]
  },
  {
   "cell_type": "code",
   "execution_count": 47,
   "id": "d3c85ab2-6ae5-42f7-af3f-b28ab0366b71",
   "metadata": {},
   "outputs": [
    {
     "name": "stdout",
     "output_type": "stream",
     "text": [
      "23 is prime: true\n",
      "49 is prime: false\n",
      "29 is prime: true\n",
      "45 is prime: false\n",
      "99 is prime: false\n",
      "68 is prime: false\n",
      "49 is prime: false\n",
      "86 is prime: false\n",
      "39 is prime: false\n",
      "934 is prime: false\n",
      "34890 is prime: false\n",
      "4034 is prime: false\n",
      "8735 is prime: false\n",
      "437823 is prime: false\n"
     ]
    }
   ],
   "source": [
    "for(let i=0; i<numbers.length; i++){\n",
    "    console.log(`${numbers[i]} is prime: ${isPrime(numbers[i])}` )\n",
    "}"
   ]
  },
  {
   "cell_type": "code",
   "execution_count": 48,
   "id": "61a6dab7-6294-46a6-8e33-78843536ee28",
   "metadata": {},
   "outputs": [
    {
     "data": {
      "text/plain": [
       "[ 23, 29 ]"
      ]
     },
     "execution_count": 48,
     "metadata": {},
     "output_type": "execute_result"
    }
   ],
   "source": [
    "numbers.filter(isPrime)"
   ]
  },
  {
   "cell_type": "code",
   "execution_count": 3,
   "id": "fd9a1250-2805-45e2-afdc-ba9cd0b1f47b",
   "metadata": {},
   "outputs": [],
   "source": [
    "function print(str){\n",
    "    console.log(str)\n",
    "}"
   ]
  },
  {
   "cell_type": "code",
   "execution_count": 4,
   "id": "5c04239f-c1bb-45ff-a16a-9b0d28ab7f26",
   "metadata": {},
   "outputs": [],
   "source": [
    "function week(){\n",
    "    let day;\n",
    "    \n",
    "    day = prompt(\"Enter your day: \")\n",
    "    \n",
    "    if(day==\"sunday\"){\n",
    "        print(\"Hurreee Aaaj Chutti hai!!!\");\n",
    "    }\n",
    "    else if(day==\"monday\"){\n",
    "        print(\"OO yarrr aaj kam pe jaana pdega...\");\n",
    "    }\n",
    "    else if(day == \"tuesday\"){\n",
    "        print(\"aaj boss ko file submit karni hai\")\n",
    "    }\n",
    "    else if(day == \"wednesday\"){\n",
    "        print(\"work day 3\")\n",
    "    }\n",
    "    else if(day == \"thursday\"){\n",
    "        print(\"work day 4\")\n",
    "    }\n",
    "    else if(day==\"friday\"){\n",
    "        print(\"work day 5\")\n",
    "    }\n",
    "    else if(day == \"saturday\"){\n",
    "        print(\"Kal to sunday hai.\")\n",
    "    }\n",
    "}"
   ]
  },
  {
   "cell_type": "code",
   "execution_count": 5,
   "id": "d006f7aa-840c-4549-89a0-86b20e3ca2c6",
   "metadata": {},
   "outputs": [
    {
     "ename": "ReferenceError",
     "evalue": "prompt is not defined",
     "execution_count": 5,
     "output_type": "error",
     "traceback": [
      "evalmachine.<anonymous>:4",
      "    prompt(\"Enter your day: \")",
      "    ^",
      "",
      "ReferenceError: prompt is not defined",
      "    at week (evalmachine.<anonymous>:4:5)",
      "    at evalmachine.<anonymous>:1:1",
      "    at Script.runInThisContext (node:vm:129:12)",
      "    at Object.runInThisContext (node:vm:313:38)",
      "    at run ([eval]:1020:15)",
      "    at onRunRequest ([eval]:864:18)",
      "    at onMessage ([eval]:828:13)",
      "    at process.emit (node:events:513:28)",
      "    at emit (node:internal/child_process:939:14)",
      "    at processTicksAndRejections (node:internal/process/task_queues:84:21)"
     ]
    }
   ],
   "source": []
  },
  {
   "cell_type": "code",
   "execution_count": null,
   "id": "4f9cf975-a115-42af-9229-1fac0a12b4bb",
   "metadata": {},
   "outputs": [],
   "source": []
  }
 ],
 "metadata": {
  "kernelspec": {
   "display_name": "JavaScript (Node.js)",
   "language": "javascript",
   "name": "javascript"
  },
  "language_info": {
   "file_extension": ".js",
   "mimetype": "application/javascript",
   "name": "javascript",
   "version": "16.17.0"
  }
 },
 "nbformat": 4,
 "nbformat_minor": 5
}
