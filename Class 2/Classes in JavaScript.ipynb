{
 "cells": [
  {
   "cell_type": "markdown",
   "id": "0383325f-ba42-41cf-bc56-0e946e972b92",
   "metadata": {},
   "source": [
    "# Classes in JavaScript"
   ]
  },
  {
   "cell_type": "markdown",
   "id": "501be35c-ab3c-43a9-9524-fedd917a421e",
   "metadata": {},
   "source": [
    "```js\n",
    "    \n",
    "    class <class_name>{\n",
    "        // class block\n",
    "        // properties.\n",
    "        // constructor() method. no return value.\n",
    "        // methods.\n",
    "    }\n",
    "\n",
    "```"
   ]
  },
  {
   "cell_type": "markdown",
   "id": "cac8caf6-214e-4329-a8a6-ffb3f48b420a",
   "metadata": {},
   "source": [
    "### 1. Introduction sample of class"
   ]
  },
  {
   "cell_type": "code",
   "execution_count": null,
   "id": "5de99823-4aba-4997-ad2d-7f3697272925",
   "metadata": {},
   "outputs": [],
   "source": [
    "class Person{\n",
    "    \n",
    "    // constructor will create the object of Person.\n",
    "    constructor(){\n",
    "        // body of constructor.\n",
    "        console.log(\"constructor is called, Creating a Person object..\")\n",
    "    }\n",
    "}"
   ]
  },
  {
   "cell_type": "code",
   "execution_count": null,
   "id": "e4762468-957b-4cff-bd2e-de5e1f7a78d2",
   "metadata": {},
   "outputs": [],
   "source": [
    "new Person();"
   ]
  },
  {
   "cell_type": "markdown",
   "id": "06056e6d-58c3-4f39-b5bf-87589c2e0534",
   "metadata": {},
   "source": [
    "### 2. adding some attribute/properties to class"
   ]
  },
  {
   "cell_type": "code",
   "execution_count": null,
   "id": "f699c4da-9c0d-42b7-98e7-a63a9d5b3507",
   "metadata": {},
   "outputs": [],
   "source": [
    "class Person1{\n",
    "    \n",
    "    // constructor will create the object of Person.\n",
    "    constructor(){\n",
    "        // body of constructor.\n",
    "        console.log(\"constructor is called, Creating a Person object..\")\n",
    "        this.name;\n",
    "        this.age;\n",
    "        this.height;\n",
    "        this.bloodgroup;\n",
    "    }\n",
    "}"
   ]
  },
  {
   "cell_type": "code",
   "execution_count": null,
   "id": "b92a79ff-2a0d-4055-8a13-e7a791eaa214",
   "metadata": {},
   "outputs": [],
   "source": [
    "new Person1();"
   ]
  },
  {
   "cell_type": "markdown",
   "id": "ec920c13-5564-46f8-ace1-d1ca43370e1c",
   "metadata": {},
   "source": [
    "### 3. assining some values to properties."
   ]
  },
  {
   "cell_type": "code",
   "execution_count": null,
   "id": "fa38dd6e-c1b8-477f-87c7-58572233a47d",
   "metadata": {},
   "outputs": [],
   "source": [
    "class Person2{\n",
    "    \n",
    "    // constructor will create the object of Person.\n",
    "    constructor(name, age, height, bloodgroup){\n",
    "        // body of constructor.\n",
    "        console.log(\"constructor is called, Creating a Person object..\")\n",
    "        this.name = name;\n",
    "        this.age =  age;\n",
    "        this.height = height;\n",
    "        this.bloodgroup = bloodgroup;\n",
    "    }\n",
    "}"
   ]
  },
  {
   "cell_type": "code",
   "execution_count": null,
   "id": "a02b9301-80e2-4577-8d35-3cf262a7268b",
   "metadata": {},
   "outputs": [],
   "source": [
    "new Person2(\"jigyasa\", 18, 5.4, \"B+\");"
   ]
  },
  {
   "cell_type": "code",
   "execution_count": null,
   "id": "375eae80-a7c1-4ed0-b24c-bb0b0c7c7bc2",
   "metadata": {},
   "outputs": [],
   "source": [
    "let man = new Person2(\"jigyasa\", 18, 5.4, \"B+\");"
   ]
  },
  {
   "cell_type": "code",
   "execution_count": null,
   "id": "d3b25c00-e5ec-4811-ba74-addbfdb533ee",
   "metadata": {},
   "outputs": [],
   "source": [
    "man"
   ]
  },
  {
   "cell_type": "code",
   "execution_count": null,
   "id": "badedf99-5343-4158-a22c-17153dc2de7e",
   "metadata": {},
   "outputs": [],
   "source": [
    "man.age"
   ]
  },
  {
   "cell_type": "code",
   "execution_count": null,
   "id": "1867fab8-11f8-4fc5-8339-caeec274943d",
   "metadata": {},
   "outputs": [],
   "source": [
    "man.height"
   ]
  },
  {
   "cell_type": "code",
   "execution_count": null,
   "id": "032de909-06ee-4d4f-9dbe-37c1cfe4a774",
   "metadata": {},
   "outputs": [],
   "source": [
    "man.name"
   ]
  },
  {
   "cell_type": "markdown",
   "id": "45c73383-5db8-4b15-ab3b-9693c4747c23",
   "metadata": {},
   "source": [
    "### 4. adding some method/functionality "
   ]
  },
  {
   "cell_type": "code",
   "execution_count": 1,
   "id": "485e598a-f4b3-4f7e-9697-3a1566faef7b",
   "metadata": {},
   "outputs": [],
   "source": [
    "class Person3{\n",
    "    \n",
    "    // constructor will create the object of Person.\n",
    "    constructor(name, age, height, bloodgroup){\n",
    "        // body of constructor.\n",
    "        console.log(\"constructor is called, Creating a Person object..\")\n",
    "        this.name = name;\n",
    "        this.age =  age;\n",
    "        this.height = height;\n",
    "        this.bloodgroup = bloodgroup;\n",
    "    }\n",
    "    \n",
    "    greet(){\n",
    "        console.log(`Hello, I am ${this.name} and i am ${this.age} years old...!`)\n",
    "    }\n",
    "    \n",
    "    show_info(){\n",
    "        \n",
    "        console.log(`Name: \\t${this.name}`);\n",
    "        console.log(`Age: \\t${this.age}`);\n",
    "        console.log(`Height: \\t${this.height}`);\n",
    "        console.log(`BloodGroup: ${this.bloodgroup}`);\n",
    "    }\n",
    "    \n",
    "    inline_show_info(){\n",
    "        console.log(`${this.name}\\t${this.age}\\t${this.height}\\t${this.bloodgroup}`);\n",
    "    }\n",
    "}"
   ]
  },
  {
   "cell_type": "code",
   "execution_count": 6,
   "id": "9b58dbed-1994-4f71-b8ae-65b9536ef3e8",
   "metadata": {},
   "outputs": [
    {
     "name": "stdout",
     "output_type": "stream",
     "text": [
      "constructor is called, Creating a Person object..\n"
     ]
    }
   ],
   "source": [
    "let xman = new Person3(\"manish\", 25, 5.6, \"O-\");"
   ]
  },
  {
   "cell_type": "code",
   "execution_count": 7,
   "id": "faa2e7f7-1cae-4d7f-8faa-ae815158d15c",
   "metadata": {},
   "outputs": [
    {
     "name": "stdout",
     "output_type": "stream",
     "text": [
      "Name: \tmanish\n",
      "Age: \t25\n",
      "Height: \t5.6\n",
      "BloodGroup: O-\n"
     ]
    }
   ],
   "source": [
    "xman.show_info()"
   ]
  },
  {
   "cell_type": "code",
   "execution_count": 8,
   "id": "fed66db9-eb5a-4247-9b06-971b4ff09768",
   "metadata": {},
   "outputs": [
    {
     "name": "stdout",
     "output_type": "stream",
     "text": [
      "manish\t25\t5.6\tO-\n"
     ]
    }
   ],
   "source": [
    "xman.inline_show_info()"
   ]
  },
  {
   "cell_type": "code",
   "execution_count": 9,
   "id": "520b6556-e965-40eb-a1b0-31042403f530",
   "metadata": {},
   "outputs": [
    {
     "name": "stdout",
     "output_type": "stream",
     "text": [
      "Hello, I am manish and i am 25 years old...!\n"
     ]
    }
   ],
   "source": [
    "xman.greet()"
   ]
  },
  {
   "cell_type": "markdown",
   "id": "14cda518-c3b3-4689-9da5-33e1340170cb",
   "metadata": {},
   "source": [
    "### Adding `Static` variables and methods.\n",
    "\n",
    "Now in this section we will also see the CRUD application.\n",
    "\n",
    "1. C: Create\n",
    "2. R: Read\n",
    "3. U: Update\n",
    "4. D: Delete"
   ]
  },
  {
   "cell_type": "code",
   "execution_count": 1,
   "id": "ec09a167",
   "metadata": {},
   "outputs": [],
   "source": [
    "class Person{\n",
    "    \n",
    "    constructor(name, age, height){\n",
    "        this.name = name;\n",
    "        this.age = age;\n",
    "        this.height = height;\n",
    "    }\n",
    "\n",
    "    display(){\n",
    "        console.log(`Name:\\t${this.name}`);\n",
    "        console.log(`Age:\\t${this.age}`);\n",
    "        console.log(`Height:\\t${this.height}`);\n",
    "    }\n",
    "    \n",
    "    update(obj){\n",
    "\n",
    "        // obj: it is the object with key:value pairs\n",
    "\n",
    "        // first reterieve the keys and values.\n",
    "        let keys = Object.keys(obj);\n",
    "        let values = Object.values(obj);\n",
    "\n",
    "        for(let i=0; i<keys.length; i++){\n",
    "            this[keys[i]] = values[i];\n",
    "            console.log(`${keys[i]} = ${values[i]}  ----> this[${keys[i]}] = ${values[i]}`)\n",
    "        }\n",
    "\n",
    "    }\n",
    "}"
   ]
  },
  {
   "cell_type": "code",
   "execution_count": 2,
   "id": "227a4f97",
   "metadata": {},
   "outputs": [],
   "source": [
    "// 1. Creat the object of Person\n",
    "let man = new Person(\"abhi\", 19, 5.6);"
   ]
  },
  {
   "cell_type": "code",
   "execution_count": 3,
   "id": "69835aa3",
   "metadata": {},
   "outputs": [
    {
     "data": {
      "text/plain": [
       "Person { name: 'abhi', age: 19, height: 5.6 }"
      ]
     },
     "execution_count": 3,
     "metadata": {},
     "output_type": "execute_result"
    }
   ],
   "source": [
    "man"
   ]
  },
  {
   "cell_type": "code",
   "execution_count": 4,
   "id": "e816ab38",
   "metadata": {},
   "outputs": [
    {
     "name": "stdout",
     "output_type": "stream",
     "text": [
      "Name:\tabhi\n",
      "Age:\t19\n",
      "Height:\t5.6\n"
     ]
    }
   ],
   "source": [
    "// 2. Read the object data\n",
    "man.display();"
   ]
  },
  {
   "cell_type": "code",
   "execution_count": 5,
   "id": "d32448e4",
   "metadata": {},
   "outputs": [],
   "source": [
    "// 3. update the object.\n",
    "// 3.2 pack the updating values into object form \n",
    "let updated_details = {\n",
    "    name:\"abhishek sharma\",\n",
    "    height:5.7\n",
    "}"
   ]
  },
  {
   "cell_type": "code",
   "execution_count": 6,
   "id": "4477d936",
   "metadata": {},
   "outputs": [
    {
     "data": {
      "text/plain": [
       "{ name: 'abhishek sharma', height: 5.7 }"
      ]
     },
     "execution_count": 6,
     "metadata": {},
     "output_type": "execute_result"
    }
   ],
   "source": [
    "updated_details"
   ]
  },
  {
   "cell_type": "code",
   "execution_count": 7,
   "id": "ae7c04c0",
   "metadata": {},
   "outputs": [
    {
     "name": "stdout",
     "output_type": "stream",
     "text": [
      "name = abhishek sharma  ----> this[name] = abhishek sharma\n",
      "height = 5.7  ----> this[height] = 5.7\n"
     ]
    }
   ],
   "source": [
    "man.update(updated_details);"
   ]
  },
  {
   "cell_type": "code",
   "execution_count": 8,
   "id": "3e77a706",
   "metadata": {},
   "outputs": [
    {
     "name": "stdout",
     "output_type": "stream",
     "text": [
      "Name:\tabhishek sharma\n",
      "Age:\t19\n",
      "Height:\t5.7\n"
     ]
    }
   ],
   "source": [
    "man.display();"
   ]
  },
  {
   "cell_type": "code",
   "execution_count": 13,
   "id": "4cf2bf49",
   "metadata": {},
   "outputs": [
    {
     "data": {
      "text/plain": [
       "false"
      ]
     },
     "execution_count": 13,
     "metadata": {},
     "output_type": "execute_result"
    }
   ],
   "source": [
    "// 4. Delete the Person object\n",
    "delete man"
   ]
  },
  {
   "cell_type": "code",
   "execution_count": 10,
   "id": "8ef3ac42",
   "metadata": {},
   "outputs": [
    {
     "data": {
      "text/plain": [
       "Person { name: 'abhishek sharma', age: 19, height: 5.7 }"
      ]
     },
     "execution_count": 10,
     "metadata": {},
     "output_type": "execute_result"
    }
   ],
   "source": [
    "man"
   ]
  },
  {
   "cell_type": "markdown",
   "id": "fc300217",
   "metadata": {},
   "source": [
    "**adding statics**"
   ]
  },
  {
   "cell_type": "code",
   "execution_count": 14,
   "id": "da5ff0a0",
   "metadata": {},
   "outputs": [],
   "source": [
    "class Person1{\n",
    "    \n",
    "    static nPersons = 0;\n",
    "\n",
    "    constructor(name, age, height){\n",
    "        this.name = name;\n",
    "        this.age = age;\n",
    "        this.height = height;\n",
    "        \n",
    "        Person1.nPersons++;\n",
    "    }\n",
    "\n",
    "    display(){\n",
    "        console.log(`Name:\\t${this.name}`);\n",
    "        console.log(`Age:\\t${this.age}`);\n",
    "        console.log(`Height:\\t${this.height}`);\n",
    "    }\n",
    "    \n",
    "    update(obj){\n",
    "\n",
    "        // obj: it is the object with key:value pairs\n",
    "\n",
    "        // first reterieve the keys and values.\n",
    "        let keys = Object.keys(obj);\n",
    "        let values = Object.values(obj);\n",
    "\n",
    "        for(let i=0; i<keys.length; i++){\n",
    "            this[keys[i]] = values[i];\n",
    "            console.log(`${keys[i]} = ${values[i]}  ----> this[${keys[i]}] = ${values[i]}`)\n",
    "        }\n",
    "\n",
    "    }\n",
    "}"
   ]
  },
  {
   "cell_type": "code",
   "execution_count": 15,
   "id": "8f76ac0e",
   "metadata": {},
   "outputs": [
    {
     "data": {
      "text/plain": [
       "Person1 { name: 'varsha', age: 21, height: 5.5 }"
      ]
     },
     "execution_count": 15,
     "metadata": {},
     "output_type": "execute_result"
    }
   ],
   "source": [
    "new Person1(\"manish\", 26, 5.7);\n",
    "new Person1(\"abhishek\", 19, 5.4);\n",
    "new Person1(\"jigyasa\", 18, 5.6);\n",
    "new Person1(\"varsha\", 21, 5.5);\n",
    "\n",
    "// Note: here we are not asigning any object to the variable."
   ]
  },
  {
   "cell_type": "code",
   "execution_count": 16,
   "id": "b2722888",
   "metadata": {},
   "outputs": [
    {
     "data": {
      "text/plain": [
       "4"
      ]
     },
     "execution_count": 16,
     "metadata": {},
     "output_type": "execute_result"
    }
   ],
   "source": [
    "Person1.nPersons"
   ]
  },
  {
   "cell_type": "code",
   "execution_count": 17,
   "id": "28fc47d1",
   "metadata": {},
   "outputs": [
    {
     "data": {
      "text/plain": [
       "Person1 { name: 'komal', age: 21, height: 5.4 }"
      ]
     },
     "execution_count": 17,
     "metadata": {},
     "output_type": "execute_result"
    }
   ],
   "source": [
    "new Person1(\"komal\", 21, 5.4);"
   ]
  },
  {
   "cell_type": "code",
   "execution_count": 18,
   "id": "fd5d9c6a",
   "metadata": {},
   "outputs": [
    {
     "data": {
      "text/plain": [
       "5"
      ]
     },
     "execution_count": 18,
     "metadata": {},
     "output_type": "execute_result"
    }
   ],
   "source": [
    "Person1.nPersons"
   ]
  },
  {
   "cell_type": "code",
   "execution_count": 19,
   "id": "57274864",
   "metadata": {},
   "outputs": [],
   "source": [
    "class Person2{\n",
    "    \n",
    "    static nPersons = 0;\n",
    "    static Database = []; \n",
    "    \n",
    "    constructor(name, age, height){\n",
    "        this.name = name;\n",
    "        this.age = age;\n",
    "        this.height = height;\n",
    "        \n",
    "        Person2.Database.push(this);\n",
    "        Person2.nPersons++; // increasing the order\n",
    "\n",
    "    }\n",
    "\n",
    "    display(){\n",
    "        console.log(`Name:\\t${this.name}`);\n",
    "        console.log(`Age:\\t${this.age}`);\n",
    "        console.log(`Height:\\t${this.height}`);\n",
    "    }\n",
    "    \n",
    "    update(obj){\n",
    "\n",
    "        // obj: it is the object with key:value pairs\n",
    "\n",
    "        // first reterieve the keys and values.\n",
    "        let keys = Object.keys(obj);\n",
    "        let values = Object.values(obj);\n",
    "\n",
    "        for(let i=0; i<keys.length; i++){\n",
    "            this[keys[i]] = values[i];\n",
    "            console.log(`${keys[i]} = ${values[i]}  ----> this[${keys[i]}] = ${values[i]}`)\n",
    "        }\n",
    "\n",
    "    }\n",
    "}"
   ]
  },
  {
   "cell_type": "code",
   "execution_count": 20,
   "id": "bbf41ecf",
   "metadata": {},
   "outputs": [
    {
     "data": {
      "text/plain": [
       "Person2 { name: 'varsha', age: 21, height: 5.5 }"
      ]
     },
     "execution_count": 20,
     "metadata": {},
     "output_type": "execute_result"
    }
   ],
   "source": [
    "new Person2(\"manish\", 26, 5.7);\n",
    "new Person2(\"abhishek\", 19, 5.4);\n",
    "new Person2(\"jigyasa\", 18, 5.6);\n",
    "new Person2(\"varsha\", 21, 5.5);"
   ]
  },
  {
   "cell_type": "code",
   "execution_count": 21,
   "id": "8c541dec",
   "metadata": {},
   "outputs": [
    {
     "data": {
      "text/plain": [
       "4"
      ]
     },
     "execution_count": 21,
     "metadata": {},
     "output_type": "execute_result"
    }
   ],
   "source": [
    "Person2.nPersons"
   ]
  },
  {
   "cell_type": "code",
   "execution_count": 22,
   "id": "889d544f",
   "metadata": {},
   "outputs": [
    {
     "data": {
      "text/plain": [
       "[\n",
       "  Person2 { name: 'manish', age: 26, height: 5.7 },\n",
       "  Person2 { name: 'abhishek', age: 19, height: 5.4 },\n",
       "  Person2 { name: 'jigyasa', age: 18, height: 5.6 },\n",
       "  Person2 { name: 'varsha', age: 21, height: 5.5 }\n",
       "]"
      ]
     },
     "execution_count": 22,
     "metadata": {},
     "output_type": "execute_result"
    }
   ],
   "source": [
    "Person2.Database"
   ]
  },
  {
   "cell_type": "code",
   "execution_count": 25,
   "id": "8e7eedf2",
   "metadata": {},
   "outputs": [
    {
     "data": {
      "text/plain": [
       "Person2 { name: 'varsha', age: 21, height: 5.5 }"
      ]
     },
     "execution_count": 25,
     "metadata": {},
     "output_type": "execute_result"
    }
   ],
   "source": [
    "Person2.Database[3]"
   ]
  },
  {
   "cell_type": "code",
   "execution_count": null,
   "id": "8addced7",
   "metadata": {},
   "outputs": [],
   "source": []
  }
 ],
 "metadata": {
  "kernelspec": {
   "display_name": "JavaScript (Node.js)",
   "language": "javascript",
   "name": "javascript"
  },
  "language_info": {
   "file_extension": ".js",
   "mimetype": "application/javascript",
   "name": "javascript",
   "version": "16.17.0"
  }
 },
 "nbformat": 4,
 "nbformat_minor": 5
}
