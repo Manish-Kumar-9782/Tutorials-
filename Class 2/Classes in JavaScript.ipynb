{
 "cells": [
  {
   "cell_type": "markdown",
   "id": "0383325f-ba42-41cf-bc56-0e946e972b92",
   "metadata": {},
   "source": [
    "# Classes in JavaScript"
   ]
  },
  {
   "cell_type": "markdown",
   "id": "501be35c-ab3c-43a9-9524-fedd917a421e",
   "metadata": {},
   "source": [
    "```js\n",
    "    \n",
    "    class <class_name>{\n",
    "        // class block\n",
    "        // properties.\n",
    "        // constructor() method. no return value.\n",
    "        // methods.\n",
    "    }\n",
    "\n",
    "```"
   ]
  },
  {
   "cell_type": "markdown",
   "id": "cac8caf6-214e-4329-a8a6-ffb3f48b420a",
   "metadata": {},
   "source": [
    "### 1. Introduction sample of class"
   ]
  },
  {
   "cell_type": "code",
   "execution_count": null,
   "id": "5de99823-4aba-4997-ad2d-7f3697272925",
   "metadata": {},
   "outputs": [],
   "source": [
    "class Person{\n",
    "    \n",
    "    // constructor will create the object of Person.\n",
    "    constructor(){\n",
    "        // body of constructor.\n",
    "        console.log(\"constructor is called, Creating a Person object..\")\n",
    "    }\n",
    "}"
   ]
  },
  {
   "cell_type": "code",
   "execution_count": null,
   "id": "e4762468-957b-4cff-bd2e-de5e1f7a78d2",
   "metadata": {},
   "outputs": [],
   "source": [
    "new Person();"
   ]
  },
  {
   "cell_type": "markdown",
   "id": "06056e6d-58c3-4f39-b5bf-87589c2e0534",
   "metadata": {},
   "source": [
    "### 2. adding some attribute/properties to class"
   ]
  },
  {
   "cell_type": "code",
   "execution_count": null,
   "id": "f699c4da-9c0d-42b7-98e7-a63a9d5b3507",
   "metadata": {},
   "outputs": [],
   "source": [
    "class Person1{\n",
    "    \n",
    "    // constructor will create the object of Person.\n",
    "    constructor(){\n",
    "        // body of constructor.\n",
    "        console.log(\"constructor is called, Creating a Person object..\")\n",
    "        this.name;\n",
    "        this.age;\n",
    "        this.height;\n",
    "        this.bloodgroup;\n",
    "    }\n",
    "}"
   ]
  },
  {
   "cell_type": "code",
   "execution_count": null,
   "id": "b92a79ff-2a0d-4055-8a13-e7a791eaa214",
   "metadata": {},
   "outputs": [],
   "source": [
    "new Person1();"
   ]
  },
  {
   "cell_type": "markdown",
   "id": "ec920c13-5564-46f8-ace1-d1ca43370e1c",
   "metadata": {},
   "source": [
    "### 3. assining some values to properties."
   ]
  },
  {
   "cell_type": "code",
   "execution_count": null,
   "id": "fa38dd6e-c1b8-477f-87c7-58572233a47d",
   "metadata": {},
   "outputs": [],
   "source": [
    "class Person2{\n",
    "    \n",
    "    // constructor will create the object of Person.\n",
    "    constructor(name, age, height, bloodgroup){\n",
    "        // body of constructor.\n",
    "        console.log(\"constructor is called, Creating a Person object..\")\n",
    "        this.name = name;\n",
    "        this.age =  age;\n",
    "        this.height = height;\n",
    "        this.bloodgroup = bloodgroup;\n",
    "    }\n",
    "}"
   ]
  },
  {
   "cell_type": "code",
   "execution_count": null,
   "id": "a02b9301-80e2-4577-8d35-3cf262a7268b",
   "metadata": {},
   "outputs": [],
   "source": [
    "new Person2(\"jigyasa\", 18, 5.4, \"B+\");"
   ]
  },
  {
   "cell_type": "code",
   "execution_count": null,
   "id": "375eae80-a7c1-4ed0-b24c-bb0b0c7c7bc2",
   "metadata": {},
   "outputs": [],
   "source": [
    "let man = new Person2(\"jigyasa\", 18, 5.4, \"B+\");"
   ]
  },
  {
   "cell_type": "code",
   "execution_count": null,
   "id": "d3b25c00-e5ec-4811-ba74-addbfdb533ee",
   "metadata": {},
   "outputs": [],
   "source": [
    "man"
   ]
  },
  {
   "cell_type": "code",
   "execution_count": null,
   "id": "badedf99-5343-4158-a22c-17153dc2de7e",
   "metadata": {},
   "outputs": [],
   "source": [
    "man.age"
   ]
  },
  {
   "cell_type": "code",
   "execution_count": null,
   "id": "1867fab8-11f8-4fc5-8339-caeec274943d",
   "metadata": {},
   "outputs": [],
   "source": [
    "man.height"
   ]
  },
  {
   "cell_type": "code",
   "execution_count": null,
   "id": "032de909-06ee-4d4f-9dbe-37c1cfe4a774",
   "metadata": {},
   "outputs": [],
   "source": [
    "man.name"
   ]
  },
  {
   "cell_type": "markdown",
   "id": "45c73383-5db8-4b15-ab3b-9693c4747c23",
   "metadata": {},
   "source": [
    "### 4. adding some method/functionality "
   ]
  },
  {
   "cell_type": "code",
   "execution_count": 1,
   "id": "485e598a-f4b3-4f7e-9697-3a1566faef7b",
   "metadata": {},
   "outputs": [],
   "source": [
    "class Person3{\n",
    "    \n",
    "    // constructor will create the object of Person.\n",
    "    constructor(name, age, height, bloodgroup){\n",
    "        // body of constructor.\n",
    "        console.log(\"constructor is called, Creating a Person object..\")\n",
    "        this.name = name;\n",
    "        this.age =  age;\n",
    "        this.height = height;\n",
    "        this.bloodgroup = bloodgroup;\n",
    "    }\n",
    "    \n",
    "    greet(){\n",
    "        console.log(`Hello, I am ${this.name} and i am ${this.age} years old...!`)\n",
    "    }\n",
    "    \n",
    "    show_info(){\n",
    "        \n",
    "        console.log(`Name: \\t${this.name}`);\n",
    "        console.log(`Age: \\t${this.age}`);\n",
    "        console.log(`Height: \\t${this.height}`);\n",
    "        console.log(`BloodGroup: ${this.bloodgroup}`);\n",
    "    }\n",
    "    \n",
    "    inline_show_info(){\n",
    "        console.log(`${this.name}\\t${this.age}\\t${this.height}\\t${this.bloodgroup}`);\n",
    "    }\n",
    "}"
   ]
  },
  {
   "cell_type": "code",
   "execution_count": 6,
   "id": "9b58dbed-1994-4f71-b8ae-65b9536ef3e8",
   "metadata": {},
   "outputs": [
    {
     "name": "stdout",
     "output_type": "stream",
     "text": [
      "constructor is called, Creating a Person object..\n"
     ]
    }
   ],
   "source": [
    "let xman = new Person3(\"manish\", 25, 5.6, \"O-\");"
   ]
  },
  {
   "cell_type": "code",
   "execution_count": 7,
   "id": "faa2e7f7-1cae-4d7f-8faa-ae815158d15c",
   "metadata": {},
   "outputs": [
    {
     "name": "stdout",
     "output_type": "stream",
     "text": [
      "Name: \tmanish\n",
      "Age: \t25\n",
      "Height: \t5.6\n",
      "BloodGroup: O-\n"
     ]
    }
   ],
   "source": [
    "xman.show_info()"
   ]
  },
  {
   "cell_type": "code",
   "execution_count": 8,
   "id": "fed66db9-eb5a-4247-9b06-971b4ff09768",
   "metadata": {},
   "outputs": [
    {
     "name": "stdout",
     "output_type": "stream",
     "text": [
      "manish\t25\t5.6\tO-\n"
     ]
    }
   ],
   "source": [
    "xman.inline_show_info()"
   ]
  },
  {
   "cell_type": "code",
   "execution_count": 9,
   "id": "520b6556-e965-40eb-a1b0-31042403f530",
   "metadata": {},
   "outputs": [
    {
     "name": "stdout",
     "output_type": "stream",
     "text": [
      "Hello, I am manish and i am 25 years old...!\n"
     ]
    }
   ],
   "source": [
    "xman.greet()"
   ]
  },
  {
   "cell_type": "code",
   "execution_count": null,
   "id": "08fc3bf1-a89d-4a04-bcea-fb4fdea55a74",
   "metadata": {},
   "outputs": [],
   "source": []
  }
 ],
 "metadata": {
  "kernelspec": {
   "display_name": "JavaScript (Node.js)",
   "language": "javascript",
   "name": "javascript"
  },
  "language_info": {
   "file_extension": ".js",
   "mimetype": "application/javascript",
   "name": "javascript",
   "version": "16.17.0"
  }
 },
 "nbformat": 4,
 "nbformat_minor": 5
}
