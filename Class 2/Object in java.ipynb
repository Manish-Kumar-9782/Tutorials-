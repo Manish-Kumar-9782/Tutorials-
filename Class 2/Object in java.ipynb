{
 "cells": [
  {
   "cell_type": "markdown",
   "id": "6e233f9f-b48b-4c2e-81a0-b159e1fd7094",
   "metadata": {},
   "source": [
    "## Objects in JavaScript"
   ]
  },
  {
   "cell_type": "code",
   "execution_count": 3,
   "id": "e71aa762-6504-4319-bca2-a68b3d5c796c",
   "metadata": {},
   "outputs": [],
   "source": [
    "let Student = {\n",
    "    name: \"Varsha\",\n",
    "    age: 21,\n",
    "    height: 5.4,\n",
    "    bloodGroup: \"AB+\"\n",
    "}"
   ]
  },
  {
   "cell_type": "code",
   "execution_count": 4,
   "id": "0574f146-6367-4b4e-8173-684d2403dd4f",
   "metadata": {},
   "outputs": [
    {
     "data": {
      "text/plain": [
       "'object'"
      ]
     },
     "execution_count": 4,
     "metadata": {},
     "output_type": "execute_result"
    }
   ],
   "source": [
    "typeof(Student)"
   ]
  },
  {
   "cell_type": "code",
   "execution_count": 5,
   "id": "ffbe8ba5-7ba3-4449-86da-04681c9aa710",
   "metadata": {},
   "outputs": [
    {
     "data": {
      "text/plain": [
       "'Varsha'"
      ]
     },
     "execution_count": 5,
     "metadata": {},
     "output_type": "execute_result"
    }
   ],
   "source": [
    "Student.name"
   ]
  },
  {
   "cell_type": "code",
   "execution_count": 6,
   "id": "7a5e9654-7c11-4a79-85b0-c9af57c47fc9",
   "metadata": {},
   "outputs": [
    {
     "data": {
      "text/plain": [
       "21"
      ]
     },
     "execution_count": 6,
     "metadata": {},
     "output_type": "execute_result"
    }
   ],
   "source": [
    "Student.age"
   ]
  },
  {
   "cell_type": "code",
   "execution_count": 7,
   "id": "aeff9629-af3b-4fee-a0fa-875b3cb20ab0",
   "metadata": {},
   "outputs": [
    {
     "data": {
      "text/plain": [
       "5.4"
      ]
     },
     "execution_count": 7,
     "metadata": {},
     "output_type": "execute_result"
    }
   ],
   "source": [
    "Student.height"
   ]
  },
  {
   "cell_type": "code",
   "execution_count": 8,
   "id": "23a82c40-d0b6-438f-99ad-8c69a06026ef",
   "metadata": {},
   "outputs": [
    {
     "data": {
      "text/plain": [
       "'AB+'"
      ]
     },
     "execution_count": 8,
     "metadata": {},
     "output_type": "execute_result"
    }
   ],
   "source": [
    "Student.bloodGroup"
   ]
  },
  {
   "cell_type": "code",
   "execution_count": 9,
   "id": "36ea4d36-fcd6-4022-b096-3f7cf0e455ae",
   "metadata": {},
   "outputs": [
    {
     "ename": "SyntaxError",
     "evalue": "Identifier 'Student' has already been declared",
     "execution_count": 9,
     "output_type": "error",
     "traceback": [
      "evalmachine.<anonymous>:1",
      "let Student = {",
      "^",
      "",
      "SyntaxError: Identifier 'Student' has already been declared",
      "    at Script.runInThisContext (node:vm:129:12)",
      "    at Object.runInThisContext (node:vm:313:38)",
      "    at run ([eval]:1020:15)",
      "    at onRunRequest ([eval]:864:18)",
      "    at onMessage ([eval]:828:13)",
      "    at process.emit (node:events:513:28)",
      "    at emit (node:internal/child_process:939:14)",
      "    at processTicksAndRejections (node:internal/process/task_queues:84:21)"
     ]
    }
   ],
   "source": [
    "let Student = {\n",
    "    name: \"Varsha\",\n",
    "    age: 21,\n",
    "    height: 5.4,\n",
    "    bloodGroup: \"AB+\",\n",
    "}"
   ]
  },
  {
   "cell_type": "code",
   "execution_count": 14,
   "id": "c3f817e5-5e85-4aba-a5a8-fe5730f16859",
   "metadata": {},
   "outputs": [],
   "source": [
    "function show_info(){\n",
    "    \n",
    "    console.log(\"Name: \\t\\t\", Student.name)\n",
    "    console.log(\"Age: \\t\\t\", Student.age)\n",
    "    console.log(\"Height:\\t\\t\", Student.height)\n",
    "    console.log(\"BloodGroup: \\t\", Student.bloodGroup)\n",
    "}"
   ]
  },
  {
   "cell_type": "code",
   "execution_count": 15,
   "id": "193c55eb-9fb0-4525-bdb5-b9611766159b",
   "metadata": {},
   "outputs": [
    {
     "name": "stdout",
     "output_type": "stream",
     "text": [
      "Name: \t\t Varsha\n",
      "Age: \t\t 21\n",
      "Height:\t\t 5.4\n",
      "BloodGroup: \t AB+\n"
     ]
    }
   ],
   "source": [
    "show_info()"
   ]
  },
  {
   "cell_type": "markdown",
   "id": "09b9e88c-bff0-42d2-922c-398d52f5f6cc",
   "metadata": {},
   "source": [
    "Making our function for other student objects."
   ]
  },
  {
   "cell_type": "code",
   "execution_count": 16,
   "id": "02aca29e-1715-4c12-b369-e3e33c4de10c",
   "metadata": {},
   "outputs": [],
   "source": [
    "function show_info(st){\n",
    "    \n",
    "    console.log(\"Name: \\t\\t\", st.name)\n",
    "    console.log(\"Age: \\t\\t\", st.age)\n",
    "    console.log(\"Height:\\t\\t\", st.height)\n",
    "    console.log(\"BloodGroup: \\t\", st.bloodGroup)\n",
    "}"
   ]
  },
  {
   "cell_type": "code",
   "execution_count": 20,
   "id": "3d6490f0-aec6-4c65-a584-962c55750c13",
   "metadata": {},
   "outputs": [
    {
     "name": "stdout",
     "output_type": "stream",
     "text": [
      "Name: \t\t Varsha\n",
      "Age: \t\t 21\n",
      "Height:\t\t 5.4\n",
      "BloodGroup: \t AB+\n"
     ]
    }
   ],
   "source": [
    "show_info(st = Student)"
   ]
  },
  {
   "cell_type": "code",
   "execution_count": 21,
   "id": "0c340393-89dc-4906-a05d-f11abadcd191",
   "metadata": {},
   "outputs": [],
   "source": [
    "let Student1 = {\n",
    "    name: \"Abhishek\",\n",
    "    age: 20,\n",
    "    height: 5.3,\n",
    "    bloodGroup: \"B+\"\n",
    "}"
   ]
  },
  {
   "cell_type": "code",
   "execution_count": 22,
   "id": "de9ba0f6-4821-464f-8d89-c4c09e7c3e09",
   "metadata": {},
   "outputs": [],
   "source": [
    "let Student2 = {\n",
    "    name: \"Jigyasa\",\n",
    "    age: 18,\n",
    "    height: 5.2,\n",
    "    bloodGroup: \"O+\"\n",
    "}"
   ]
  },
  {
   "cell_type": "code",
   "execution_count": 24,
   "id": "6a67aba4-5820-4111-b9fb-d7d0fd8d9a21",
   "metadata": {},
   "outputs": [
    {
     "name": "stdout",
     "output_type": "stream",
     "text": [
      "Name: \t\t Abhishek\n",
      "Age: \t\t 20\n",
      "Height:\t\t 5.3\n",
      "BloodGroup: \t B+\n"
     ]
    }
   ],
   "source": [
    "show_info(st = Student1)"
   ]
  },
  {
   "cell_type": "code",
   "execution_count": 25,
   "id": "b4f3efc6-78f0-43ae-935f-06d6c632cb97",
   "metadata": {},
   "outputs": [
    {
     "name": "stdout",
     "output_type": "stream",
     "text": [
      "Name: \t\t Jigyasa\n",
      "Age: \t\t 18\n",
      "Height:\t\t 5.2\n",
      "BloodGroup: \t O+\n"
     ]
    }
   ],
   "source": [
    "show_info(st = Student2)"
   ]
  },
  {
   "cell_type": "code",
   "execution_count": 27,
   "id": "10462593-6728-4783-943b-b549afe8b4dc",
   "metadata": {},
   "outputs": [
    {
     "data": {
      "text/plain": [
       "'Varsha'"
      ]
     },
     "execution_count": 27,
     "metadata": {},
     "output_type": "execute_result"
    }
   ],
   "source": [
    "Student.name"
   ]
  },
  {
   "cell_type": "code",
   "execution_count": 29,
   "id": "908c27d7-f043-4960-9e3d-79dd56956694",
   "metadata": {},
   "outputs": [
    {
     "data": {
      "text/plain": [
       "{\n",
       "  name: 'Varsha',\n",
       "  age: 21,\n",
       "  height: 5.4,\n",
       "  bloodGroup: 'AB+',\n",
       "  show_info: [Function: show_info]\n",
       "}"
      ]
     },
     "execution_count": 29,
     "metadata": {},
     "output_type": "execute_result"
    }
   ],
   "source": [
    "Student = {\n",
    "    name: \"Varsha\",\n",
    "    age: 21,\n",
    "    height: 5.4,\n",
    "    bloodGroup: \"AB+\",\n",
    "    show_info: function (){\n",
    "    \n",
    "    console.log(\"Name: \\t\\t\", this.name)\n",
    "    console.log(\"Age: \\t\\t\", this.age)\n",
    "    console.log(\"Height:\\t\\t\", this.height)\n",
    "    console.log(\"BloodGroup: \\t\", this.bloodGroup)\n",
    "    }\n",
    "}"
   ]
  },
  {
   "cell_type": "code",
   "execution_count": 30,
   "id": "6fec7bf2-e6d0-4d68-87ef-f8cf7a68a772",
   "metadata": {},
   "outputs": [
    {
     "name": "stdout",
     "output_type": "stream",
     "text": [
      "Name: \t\t Varsha\n",
      "Age: \t\t 21\n",
      "Height:\t\t 5.4\n",
      "BloodGroup: \t AB+\n"
     ]
    }
   ],
   "source": [
    "Student.show_info()"
   ]
  },
  {
   "cell_type": "markdown",
   "id": "0965e259-f901-4915-b769-ecdaaa9f7d2a",
   "metadata": {},
   "source": [
    "##### Student Constructor to create many student dynamically"
   ]
  },
  {
   "cell_type": "code",
   "execution_count": 65,
   "id": "fb90be60-c010-44e6-91f2-becde66179b3",
   "metadata": {},
   "outputs": [],
   "source": [
    "function StudentX(name, age, height, bloodgroup){\n",
    "    this.name = name;\n",
    "    this.age = age;\n",
    "    this.height = height;\n",
    "    this.bloodgroup = bloodgroup;\n",
    "    \n",
    "}"
   ]
  },
  {
   "cell_type": "markdown",
   "id": "181c23c9-a4f6-4a30-ba14-0fa108caeeac",
   "metadata": {},
   "source": [
    "Now to create the objects of StudenX we need to use `new` keyword."
   ]
  },
  {
   "cell_type": "code",
   "execution_count": 66,
   "id": "ab7acaa6-e5a5-45ea-b52e-60d67a30ea98",
   "metadata": {},
   "outputs": [
    {
     "data": {
      "text/plain": [
       "StudentX { name: 'Varsha', age: 21, height: 5.4, bloodgroup: 'AB+' }"
      ]
     },
     "execution_count": 66,
     "metadata": {},
     "output_type": "execute_result"
    }
   ],
   "source": [
    "st1 = new StudentX(\"Varsha\", 21, 5.4, \"AB+\")"
   ]
  },
  {
   "cell_type": "code",
   "execution_count": 67,
   "id": "194238d0-0a84-4c52-9e6e-bec88d5fa294",
   "metadata": {},
   "outputs": [
    {
     "data": {
      "text/plain": [
       "'English'"
      ]
     },
     "execution_count": 67,
     "metadata": {},
     "output_type": "execute_result"
    }
   ],
   "source": [
    "StudentX.prototype.lang = \"English\";"
   ]
  },
  {
   "cell_type": "code",
   "execution_count": 68,
   "id": "939625f7-1997-4d84-a6af-8d63930eaab9",
   "metadata": {},
   "outputs": [],
   "source": [
    "StudentX.lang"
   ]
  },
  {
   "cell_type": "code",
   "execution_count": 57,
   "id": "664d3f58-d9b9-4d07-bda6-a2db3bf9408a",
   "metadata": {},
   "outputs": [
    {
     "data": {
      "text/plain": [
       "[Function (anonymous)]"
      ]
     },
     "execution_count": 57,
     "metadata": {},
     "output_type": "execute_result"
    }
   ],
   "source": [
    "StudentX.prototype.show_info =   function(){\n",
    "        console.log(\"Name: \\t\\t\", this.name)\n",
    "        console.log(\"Age: \\t\\t\", this.age)\n",
    "        console.log(\"Height:\\t\\t\", this.height)\n",
    "        console.log(\"BloodGroup: \\t\", this.bloodGroup)\n",
    "    }"
   ]
  },
  {
   "cell_type": "code",
   "execution_count": 58,
   "id": "a9a72f08-7582-4696-aef7-0a8655b32a4c",
   "metadata": {},
   "outputs": [
    {
     "data": {
      "text/plain": [
       "[Function: StudentX]"
      ]
     },
     "execution_count": 58,
     "metadata": {},
     "output_type": "execute_result"
    }
   ],
   "source": [
    "StudentX"
   ]
  },
  {
   "cell_type": "code",
   "execution_count": 53,
   "id": "c47f229e-725e-4f10-96f2-c83013954a2a",
   "metadata": {},
   "outputs": [
    {
     "data": {
      "text/plain": [
       "[Function: StudentX]"
      ]
     },
     "execution_count": 53,
     "metadata": {},
     "output_type": "execute_result"
    }
   ],
   "source": [
    "StudentX"
   ]
  },
  {
   "cell_type": "code",
   "execution_count": null,
   "id": "d683a32c-b7fc-4f8e-b2d1-936ef1a39289",
   "metadata": {},
   "outputs": [],
   "source": []
  }
 ],
 "metadata": {
  "kernelspec": {
   "display_name": "JavaScript (Node.js)",
   "language": "javascript",
   "name": "javascript"
  },
  "language_info": {
   "file_extension": ".js",
   "mimetype": "application/javascript",
   "name": "javascript",
   "version": "16.17.0"
  }
 },
 "nbformat": 4,
 "nbformat_minor": 5
}
