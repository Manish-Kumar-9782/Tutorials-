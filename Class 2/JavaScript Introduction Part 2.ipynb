{
 "cells": [
  {
   "cell_type": "markdown",
   "id": "d5596e06-78f0-429b-ab15-0b7132ee31b6",
   "metadata": {},
   "source": [
    "# JavaScript Introduction Part 2"
   ]
  },
  {
   "cell_type": "markdown",
   "id": "16340838-4fc0-4069-9de8-eb49d62bc705",
   "metadata": {},
   "source": [
    "### Array in JavaScript"
   ]
  },
  {
   "cell_type": "markdown",
   "id": "e9a61ad8-671b-40c5-a90d-24675792a641",
   "metadata": {},
   "source": [
    "-> Array is a container of multiple values in a sequence.\n",
    "\n",
    "-> In javascript we can have mutliple data type values in a an array.\n",
    "\n",
    "-> we can access array element by using the subscrpt `[]` with valid index. if index is not in range then we will get an error.\n",
    "\n",
    "-> Since JavaScript is a dynamic language so we don't need to specify the size of an array like we do in c & c++ language."
   ]
  },
  {
   "cell_type": "code",
   "execution_count": 1,
   "id": "b7becfa4-b149-4aac-8d74-2b46a5890a6f",
   "metadata": {},
   "outputs": [],
   "source": [
    "let arr = ['Hello', 12 , 12.34, \"1234\", true, false]"
   ]
  },
  {
   "cell_type": "code",
   "execution_count": 2,
   "id": "2d0e8cde-1533-4935-8294-3ac4ef87015a",
   "metadata": {},
   "outputs": [
    {
     "data": {
      "text/plain": [
       "[ 'Hello', 12, 12.34, '1234', true, false ]"
      ]
     },
     "execution_count": 2,
     "metadata": {},
     "output_type": "execute_result"
    }
   ],
   "source": [
    "arr"
   ]
  },
  {
   "cell_type": "code",
   "execution_count": 4,
   "id": "ade5c39a-e2e8-4a96-a646-81cc3ed35c7c",
   "metadata": {},
   "outputs": [
    {
     "data": {
      "text/plain": [
       "12"
      ]
     },
     "execution_count": 4,
     "metadata": {},
     "output_type": "execute_result"
    }
   ],
   "source": [
    "arr[1]"
   ]
  },
  {
   "cell_type": "code",
   "execution_count": 7,
   "id": "bc6e1ad3-5704-4ed2-bf77-a06cbce88f85",
   "metadata": {},
   "outputs": [
    {
     "name": "stdout",
     "output_type": "stream",
     "text": [
      "Hello\n",
      "12\n",
      "12.34\n",
      "1234\n",
      "true\n",
      "false\n"
     ]
    }
   ],
   "source": [
    "for(let i = 0; i<arr.length; i++){\n",
    "    console.log(arr[i])\n",
    "}"
   ]
  },
  {
   "cell_type": "markdown",
   "id": "47467658-0b08-43c2-837b-02b73c938ec3",
   "metadata": {},
   "source": [
    "**pop() & push() method of array**"
   ]
  },
  {
   "cell_type": "code",
   "execution_count": 13,
   "id": "ae11eb2a-8cd6-495b-80b9-5d20aa282e0b",
   "metadata": {},
   "outputs": [
    {
     "data": {
      "text/plain": [
       "[ 'Hello', 12, 12.34, '1234', true, false ]"
      ]
     },
     "execution_count": 13,
     "metadata": {},
     "output_type": "execute_result"
    }
   ],
   "source": [
    "arr"
   ]
  },
  {
   "cell_type": "code",
   "execution_count": 14,
   "id": "05dea435-e969-4c5e-97d8-a81717ba0058",
   "metadata": {},
   "outputs": [
    {
     "data": {
      "text/plain": [
       "false"
      ]
     },
     "execution_count": 14,
     "metadata": {},
     "output_type": "execute_result"
    }
   ],
   "source": [
    "arr.pop()\n",
    "// it will delete the last element from an array, "
   ]
  },
  {
   "cell_type": "code",
   "execution_count": 15,
   "id": "7de0426a-e3a0-47ba-bc67-4c6e8e92b2cf",
   "metadata": {},
   "outputs": [
    {
     "data": {
      "text/plain": [
       "[ 'Hello', 12, 12.34, '1234', true ]"
      ]
     },
     "execution_count": 15,
     "metadata": {},
     "output_type": "execute_result"
    }
   ],
   "source": [
    "arr"
   ]
  },
  {
   "cell_type": "code",
   "execution_count": 17,
   "id": "33147ccd-a1a6-4f17-be88-2e35da42cbc9",
   "metadata": {},
   "outputs": [
    {
     "data": {
      "text/plain": [
       "true"
      ]
     },
     "execution_count": 17,
     "metadata": {},
     "output_type": "execute_result"
    }
   ],
   "source": [
    "// again if we use the pop method on arr then it will remove the new last element.\n",
    "arr.pop()"
   ]
  },
  {
   "cell_type": "code",
   "execution_count": 18,
   "id": "fdf48e68-2b5b-4896-9449-46ef1ecba25f",
   "metadata": {},
   "outputs": [
    {
     "data": {
      "text/plain": [
       "[ 'Hello', 12, 12.34, '1234' ]"
      ]
     },
     "execution_count": 18,
     "metadata": {},
     "output_type": "execute_result"
    }
   ],
   "source": [
    "arr"
   ]
  },
  {
   "cell_type": "markdown",
   "id": "09328831-997c-4c3e-9e81-1e83685db0bb",
   "metadata": {},
   "source": [
    "**push() method on array**\n",
    "\n",
    "it will push an element at the end of the array."
   ]
  },
  {
   "cell_type": "code",
   "execution_count": 19,
   "id": "11375aeb-4de9-4612-98ad-aa099af3413a",
   "metadata": {},
   "outputs": [
    {
     "data": {
      "text/plain": [
       "5"
      ]
     },
     "execution_count": 19,
     "metadata": {},
     "output_type": "execute_result"
    }
   ],
   "source": [
    "arr.push(10)"
   ]
  },
  {
   "cell_type": "code",
   "execution_count": 20,
   "id": "0426c921-c493-41a8-a3c3-0a55b91cdfa5",
   "metadata": {},
   "outputs": [
    {
     "data": {
      "text/plain": [
       "[ 'Hello', 12, 12.34, '1234', 10 ]"
      ]
     },
     "execution_count": 20,
     "metadata": {},
     "output_type": "execute_result"
    }
   ],
   "source": [
    "arr"
   ]
  },
  {
   "cell_type": "code",
   "execution_count": 21,
   "id": "2d97c76d-3ae8-48f7-b9e2-56296183c101",
   "metadata": {},
   "outputs": [
    {
     "data": {
      "text/plain": [
       "6"
      ]
     },
     "execution_count": 21,
     "metadata": {},
     "output_type": "execute_result"
    }
   ],
   "source": [
    "arr.push(\"again\")"
   ]
  },
  {
   "cell_type": "code",
   "execution_count": 22,
   "id": "e277b9f1-c378-461f-b632-f8941dafc63a",
   "metadata": {},
   "outputs": [
    {
     "data": {
      "text/plain": [
       "[ 'Hello', 12, 12.34, '1234', 10, 'again' ]"
      ]
     },
     "execution_count": 22,
     "metadata": {},
     "output_type": "execute_result"
    }
   ],
   "source": [
    "arr"
   ]
  },
  {
   "cell_type": "markdown",
   "id": "ae8e7d7b-ee35-4db2-80b2-1db600d2834b",
   "metadata": {},
   "source": [
    "**indexOf() method on array**"
   ]
  },
  {
   "cell_type": "markdown",
   "id": "84b07d90-5712-42ad-a5b3-cc979f7787cd",
   "metadata": {},
   "source": [
    "it takes a value as an argument and it will return the index number of the value where it is present."
   ]
  },
  {
   "cell_type": "code",
   "execution_count": 24,
   "id": "8cb05a68-7f7f-4dd4-aeaf-4380526e92a0",
   "metadata": {},
   "outputs": [
    {
     "data": {
      "text/plain": [
       "1"
      ]
     },
     "execution_count": 24,
     "metadata": {},
     "output_type": "execute_result"
    }
   ],
   "source": [
    "arr.indexOf(12)"
   ]
  },
  {
   "cell_type": "code",
   "execution_count": 25,
   "id": "c3c88b01-c1f0-4125-82b3-1d2b9d054be6",
   "metadata": {},
   "outputs": [
    {
     "data": {
      "text/plain": [
       "-1"
      ]
     },
     "execution_count": 25,
     "metadata": {},
     "output_type": "execute_result"
    }
   ],
   "source": [
    "arr.indexOf(\"jax\")"
   ]
  },
  {
   "cell_type": "markdown",
   "id": "b4331646-d679-49c7-9530-4d30a97c728d",
   "metadata": {},
   "source": [
    "Note: if passed value is not present in the array then it will return `-1`, which shows that values is not present in array."
   ]
  },
  {
   "cell_type": "markdown",
   "id": "b5f6e4c1-17e1-4b22-b68b-cf79dda3e305",
   "metadata": {},
   "source": [
    "**sort() method on array**"
   ]
  },
  {
   "cell_type": "code",
   "execution_count": 31,
   "id": "badd1aa0-1cbb-46d2-9c81-b419f62a7639",
   "metadata": {},
   "outputs": [
    {
     "data": {
      "text/plain": [
       "[ 10, 12, 12.34, '1234', 'Hello', 'again' ]"
      ]
     },
     "execution_count": 31,
     "metadata": {},
     "output_type": "execute_result"
    }
   ],
   "source": [
    "arr.sort()"
   ]
  },
  {
   "cell_type": "markdown",
   "id": "97da8d54-3361-47a6-8186-883380a067ce",
   "metadata": {},
   "source": [
    "**reverse() method on array**"
   ]
  },
  {
   "cell_type": "code",
   "execution_count": 32,
   "id": "76468f6e-3047-494a-b348-2099cea51354",
   "metadata": {},
   "outputs": [
    {
     "data": {
      "text/plain": [
       "[ 'again', 'Hello', '1234', 12.34, 12, 10 ]"
      ]
     },
     "execution_count": 32,
     "metadata": {},
     "output_type": "execute_result"
    }
   ],
   "source": [
    "arr.reverse()"
   ]
  },
  {
   "cell_type": "code",
   "execution_count": 33,
   "id": "c317d09d-48a3-4e58-91ba-78e8344bd2de",
   "metadata": {},
   "outputs": [
    {
     "data": {
      "text/plain": [
       "[ 'again', 'Hello', '1234', 12.34, 12, 10 ]"
      ]
     },
     "execution_count": 33,
     "metadata": {},
     "output_type": "execute_result"
    }
   ],
   "source": [
    "arr"
   ]
  },
  {
   "cell_type": "markdown",
   "id": "65e87ca3-4562-4cdf-a1d4-8a103757913e",
   "metadata": {},
   "source": [
    "Note: both `sort()` and `reverse()` update our array they don't return copy, they update original array."
   ]
  },
  {
   "cell_type": "markdown",
   "id": "7a204e78-5438-4141-9690-4dcdbf51457d",
   "metadata": {},
   "source": [
    "**fill() method on array**\n",
    "\n",
    "-> it takes three argument \n",
    "    * value;\n",
    "    * start index number\n",
    "    * end index number\n",
    "\n",
    "-> Note: start and end index number define the range array to filled by given value."
   ]
  },
  {
   "cell_type": "code",
   "execution_count": 38,
   "id": "5edb4195-9083-47fd-9b2d-2c2a544cbd3d",
   "metadata": {},
   "outputs": [
    {
     "data": {
      "text/plain": [
       "[ 0, 1, 1, 1, 0, 0 ]"
      ]
     },
     "execution_count": 38,
     "metadata": {},
     "output_type": "execute_result"
    }
   ],
   "source": [
    "arr.fill(1, 1, 4)"
   ]
  },
  {
   "cell_type": "code",
   "execution_count": 36,
   "id": "5f4e9a1d-b295-4212-808b-66fff74f2d00",
   "metadata": {},
   "outputs": [
    {
     "data": {
      "text/plain": [
       "6"
      ]
     },
     "execution_count": 36,
     "metadata": {},
     "output_type": "execute_result"
    }
   ],
   "source": [
    "arr.length"
   ]
  },
  {
   "cell_type": "markdown",
   "id": "6e30a2a5-ac0f-4427-85a2-f84c55ec671c",
   "metadata": {},
   "source": [
    "**flat() method on array** "
   ]
  },
  {
   "cell_type": "code",
   "execution_count": 40,
   "id": "3a5dc549-a211-43c0-99a2-b5c91bc5fa9f",
   "metadata": {},
   "outputs": [],
   "source": [
    "let arr2 = [[true, \"kello\", false], [87,\"Jeloo\", false], 12,45.9, \"hello\"]"
   ]
  },
  {
   "cell_type": "code",
   "execution_count": 41,
   "id": "70658961-2d25-45fe-b3c7-9abe7d994c13",
   "metadata": {},
   "outputs": [
    {
     "data": {
      "text/plain": [
       "[ [ true, 'kello', false ], [ 87, 'Jeloo', false ], 12, 45.9, 'hello' ]"
      ]
     },
     "execution_count": 41,
     "metadata": {},
     "output_type": "execute_result"
    }
   ],
   "source": [
    "arr2"
   ]
  },
  {
   "cell_type": "code",
   "execution_count": 43,
   "id": "d7946c19-e51d-4c94-82e6-619e0ec6fe13",
   "metadata": {},
   "outputs": [],
   "source": [
    "let arr3 = arr2.flat()"
   ]
  },
  {
   "cell_type": "code",
   "execution_count": 44,
   "id": "e60e23dd-95d1-418b-9954-38fa538619ef",
   "metadata": {},
   "outputs": [
    {
     "data": {
      "text/plain": [
       "[\n",
       "  true,    'kello',\n",
       "  false,   87,\n",
       "  'Jeloo', false,\n",
       "  12,      45.9,\n",
       "  'hello'\n",
       "]"
      ]
     },
     "execution_count": 44,
     "metadata": {},
     "output_type": "execute_result"
    }
   ],
   "source": [
    "arr3"
   ]
  },
  {
   "cell_type": "code",
   "execution_count": 45,
   "id": "fc93591e-4fe2-45ce-bc9a-11f22e6e3d9c",
   "metadata": {},
   "outputs": [
    {
     "data": {
      "text/plain": [
       "false"
      ]
     },
     "execution_count": 45,
     "metadata": {},
     "output_type": "execute_result"
    }
   ],
   "source": [
    "arr3[5]"
   ]
  },
  {
   "cell_type": "code",
   "execution_count": 59,
   "id": "d3a95eae-75b2-4e1f-90be-fec9fc06be76",
   "metadata": {},
   "outputs": [
    {
     "name": "stdout",
     "output_type": "stream",
     "text": [
      "undefined\n"
     ]
    }
   ],
   "source": [
    "console.log(arr2[6])"
   ]
  },
  {
   "cell_type": "markdown",
   "id": "f5fa6409-f3a7-40ff-af85-1291b93f02d9",
   "metadata": {},
   "source": [
    "Note: here arr3 has some value at 5th position but arr2 does not have any value at 5th postion since arr3 is the flatted version of the arr2."
   ]
  },
  {
   "cell_type": "code",
   "execution_count": 52,
   "id": "6c20f51d-786f-4375-bb6b-90ee76acfba9",
   "metadata": {},
   "outputs": [],
   "source": [
    "let x = [[1,2,3],\n",
    "         [4,5,6],\n",
    "         [7,8,9]]"
   ]
  },
  {
   "cell_type": "code",
   "execution_count": 53,
   "id": "b90f6d11-35ce-4c60-8c99-07219a802efc",
   "metadata": {},
   "outputs": [
    {
     "data": {
      "text/plain": [
       "[ [ 1, 2, 3 ], [ 4, 5, 6 ], [ 7, 8, 9 ] ]"
      ]
     },
     "execution_count": 53,
     "metadata": {},
     "output_type": "execute_result"
    }
   ],
   "source": [
    "x"
   ]
  },
  {
   "cell_type": "code",
   "execution_count": 54,
   "id": "10224729-9843-43a9-955e-e6da671dcc96",
   "metadata": {},
   "outputs": [
    {
     "data": {
      "text/plain": [
       "[\n",
       "  1, 2, 3, 4, 5,\n",
       "  6, 7, 8, 9\n",
       "]"
      ]
     },
     "execution_count": 54,
     "metadata": {},
     "output_type": "execute_result"
    }
   ],
   "source": [
    "x.flat()"
   ]
  },
  {
   "cell_type": "code",
   "execution_count": 1,
   "id": "28735f9c-6c39-4ede-af77-084b99bf5c4f",
   "metadata": {},
   "outputs": [],
   "source": [
    "let jigyasa = 100"
   ]
  },
  {
   "cell_type": "code",
   "execution_count": 2,
   "id": "715aa0ff-af2c-4fe6-ae80-20dff40d8721",
   "metadata": {},
   "outputs": [
    {
     "data": {
      "text/plain": [
       "100"
      ]
     },
     "execution_count": 2,
     "metadata": {},
     "output_type": "execute_result"
    }
   ],
   "source": [
    "jigyasa"
   ]
  },
  {
   "cell_type": "code",
   "execution_count": 3,
   "id": "e61f3e70-a29b-4ede-82c3-d8ff9771ba92",
   "metadata": {},
   "outputs": [
    {
     "data": {
      "text/plain": [
       "'number'"
      ]
     },
     "execution_count": 3,
     "metadata": {},
     "output_type": "execute_result"
    }
   ],
   "source": [
    "typeof(jigyasa)"
   ]
  },
  {
   "cell_type": "code",
   "execution_count": 4,
   "id": "a73b2981-0445-4ffa-a53c-ce5ebf4d8a34",
   "metadata": {},
   "outputs": [
    {
     "data": {
      "text/plain": [
       "'jigyasa'"
      ]
     },
     "execution_count": 4,
     "metadata": {},
     "output_type": "execute_result"
    }
   ],
   "source": [
    "jigyasa = \"jigyasa\""
   ]
  },
  {
   "cell_type": "code",
   "execution_count": 5,
   "id": "311fce55-2407-46fe-8d48-a2019ae590cf",
   "metadata": {},
   "outputs": [
    {
     "data": {
      "text/plain": [
       "'string'"
      ]
     },
     "execution_count": 5,
     "metadata": {},
     "output_type": "execute_result"
    }
   ],
   "source": [
    "typeof(jigyasa)"
   ]
  },
  {
   "cell_type": "code",
   "execution_count": 6,
   "id": "dad5a5e3-f54a-45f9-8ad2-a1d670615312",
   "metadata": {},
   "outputs": [],
   "source": [
    "let arr = [234, 2.34, \"hello\", \"Jello\", true, false, null, undefined]"
   ]
  },
  {
   "cell_type": "code",
   "execution_count": 7,
   "id": "0be80fdd-fe5e-49ed-ab2e-5b674c3d9fd7",
   "metadata": {},
   "outputs": [
    {
     "data": {
      "text/plain": [
       "[\n",
       "  234,     2.34,\n",
       "  'hello', 'Jello',\n",
       "  true,    false,\n",
       "  null,    undefined\n",
       "]"
      ]
     },
     "execution_count": 7,
     "metadata": {},
     "output_type": "execute_result"
    }
   ],
   "source": [
    "arr"
   ]
  },
  {
   "cell_type": "code",
   "execution_count": 8,
   "id": "88684f48-5c20-418f-89ca-a2d4715dc99d",
   "metadata": {},
   "outputs": [
    {
     "data": {
      "text/plain": [
       "8"
      ]
     },
     "execution_count": 8,
     "metadata": {},
     "output_type": "execute_result"
    }
   ],
   "source": [
    "arr.length"
   ]
  },
  {
   "cell_type": "code",
   "execution_count": 9,
   "id": "2398d33f-26ad-4d0c-9530-5990cf382e75",
   "metadata": {},
   "outputs": [
    {
     "data": {
      "text/plain": [
       "2.34"
      ]
     },
     "execution_count": 9,
     "metadata": {},
     "output_type": "execute_result"
    }
   ],
   "source": [
    "arr[1]"
   ]
  },
  {
   "cell_type": "code",
   "execution_count": 11,
   "id": "1e230a97-0d5e-4441-a9c5-93aad0732675",
   "metadata": {},
   "outputs": [
    {
     "data": {
      "text/plain": [
       "'Jello'"
      ]
     },
     "execution_count": 11,
     "metadata": {},
     "output_type": "execute_result"
    }
   ],
   "source": [
    "arr[3]"
   ]
  },
  {
   "cell_type": "markdown",
   "id": "77baf9a9-56a9-4c29-985c-5681bc9c2063",
   "metadata": {},
   "source": [
    "**indexOf() method of array**"
   ]
  },
  {
   "cell_type": "markdown",
   "id": "b6d767c5-784e-41bf-beec-3de465cd437f",
   "metadata": {},
   "source": [
    "It will return the index number of the given value if it is present in the array else it will return the -1;\n",
    "\n",
    "-> it is case-sensitive to work with words."
   ]
  },
  {
   "cell_type": "code",
   "execution_count": 14,
   "id": "ae3fbe67-2ab4-44a8-8b04-4cce88b17b05",
   "metadata": {},
   "outputs": [
    {
     "data": {
      "text/plain": [
       "3"
      ]
     },
     "execution_count": 14,
     "metadata": {},
     "output_type": "execute_result"
    }
   ],
   "source": [
    "arr.indexOf(\"Jello\")"
   ]
  },
  {
   "cell_type": "markdown",
   "id": "57cd0d83-734d-4251-9737-3f98278f24cd",
   "metadata": {},
   "source": [
    "**at() method of array**\n",
    "\n",
    "-> An alternatvie method to access an element from the array."
   ]
  },
  {
   "cell_type": "code",
   "execution_count": 15,
   "id": "b47da499-89e3-473b-9ee3-522b65074d38",
   "metadata": {},
   "outputs": [
    {
     "data": {
      "text/plain": [
       "'Jello'"
      ]
     },
     "execution_count": 15,
     "metadata": {},
     "output_type": "execute_result"
    }
   ],
   "source": [
    "arr.at(3)"
   ]
  },
  {
   "cell_type": "markdown",
   "id": "9923d344-d028-491a-a99a-cfde539bc0f7",
   "metadata": {},
   "source": [
    "**join() method of array**\n",
    "\n",
    "-> it is used to join the element by using the given separator and it return a string object."
   ]
  },
  {
   "cell_type": "code",
   "execution_count": 16,
   "id": "95785aca-3dd0-472f-966a-c485cfaca23a",
   "metadata": {},
   "outputs": [],
   "source": [
    "let header = [\"Fist Name\", \"Second Name\", \"Age\", \"Class\", \"Address\"]"
   ]
  },
  {
   "cell_type": "code",
   "execution_count": 22,
   "id": "5a17e3f0-0b0e-4c37-863d-d2a2d4c868d1",
   "metadata": {},
   "outputs": [
    {
     "data": {
      "text/plain": [
       "'Fist Name,Second Name,Age,Class,Address'"
      ]
     },
     "execution_count": 22,
     "metadata": {},
     "output_type": "execute_result"
    }
   ],
   "source": [
    "header.join()"
   ]
  },
  {
   "cell_type": "code",
   "execution_count": 20,
   "id": "09ac64fc-4edf-4197-82a7-513d656b92c3",
   "metadata": {},
   "outputs": [],
   "source": [
    "let timeStamp = [5,4,35]"
   ]
  },
  {
   "cell_type": "code",
   "execution_count": 21,
   "id": "8f3db6b1-20a0-409e-886b-831dc0a7e168",
   "metadata": {},
   "outputs": [
    {
     "data": {
      "text/plain": [
       "'5:4:35'"
      ]
     },
     "execution_count": 21,
     "metadata": {},
     "output_type": "execute_result"
    }
   ],
   "source": [
    "timeStamp.join(\":\")"
   ]
  },
  {
   "cell_type": "code",
   "execution_count": 23,
   "id": "5b02d13a-2dc5-4961-b1de-002ceda354b2",
   "metadata": {},
   "outputs": [],
   "source": [
    "let dateStamp = [7,9,2022]"
   ]
  },
  {
   "cell_type": "code",
   "execution_count": 24,
   "id": "4988cdb4-e55e-40a2-b58f-ebbd84986329",
   "metadata": {},
   "outputs": [
    {
     "data": {
      "text/plain": [
       "'7-9-2022'"
      ]
     },
     "execution_count": 24,
     "metadata": {},
     "output_type": "execute_result"
    }
   ],
   "source": [
    "dateStamp.join(\"-\")"
   ]
  },
  {
   "cell_type": "markdown",
   "id": "7afcc74f-3812-4050-b10f-60bc938bd6f1",
   "metadata": {},
   "source": [
    "**include() method of array**\n",
    "\n",
    "-> it return a boolean value. (true or false)"
   ]
  },
  {
   "cell_type": "code",
   "execution_count": 25,
   "id": "81d10841-7289-4479-b2a5-bd6402fcb6de",
   "metadata": {},
   "outputs": [
    {
     "data": {
      "text/plain": [
       "[\n",
       "  234,     2.34,\n",
       "  'hello', 'Jello',\n",
       "  true,    false,\n",
       "  null,    undefined\n",
       "]"
      ]
     },
     "execution_count": 25,
     "metadata": {},
     "output_type": "execute_result"
    }
   ],
   "source": [
    "arr"
   ]
  },
  {
   "cell_type": "code",
   "execution_count": 29,
   "id": "9e4ed600-09ef-44c0-8ca2-be4817cf7f2b",
   "metadata": {},
   "outputs": [
    {
     "data": {
      "text/plain": [
       "false"
      ]
     },
     "execution_count": 29,
     "metadata": {},
     "output_type": "execute_result"
    }
   ],
   "source": [
    "//  trying to get the 'fello' value form the array\n",
    "arr.includes(\"fello\")"
   ]
  },
  {
   "cell_type": "code",
   "execution_count": 32,
   "id": "d77d9d03-c320-4b63-b339-6cb80b83f97a",
   "metadata": {},
   "outputs": [
    {
     "data": {
      "text/plain": [
       "true"
      ]
     },
     "execution_count": 32,
     "metadata": {},
     "output_type": "execute_result"
    }
   ],
   "source": [
    "// trying to get the 'jello' value from the array.\n",
    "arr.includes(\"Jello\")"
   ]
  },
  {
   "cell_type": "markdown",
   "id": "789502a1-c9ee-4c38-a7a6-ac4e24b95c00",
   "metadata": {},
   "source": [
    "**replacing 'Jello' from 'Fello' by using subscripting `[]`**"
   ]
  },
  {
   "cell_type": "code",
   "execution_count": 33,
   "id": "5ea2528a-3004-4523-8255-22a25b435e91",
   "metadata": {},
   "outputs": [
    {
     "data": {
      "text/plain": [
       "[\n",
       "  234,     2.34,\n",
       "  'hello', 'Fello',\n",
       "  true,    false,\n",
       "  null,    undefined\n",
       "]"
      ]
     },
     "execution_count": 33,
     "metadata": {},
     "output_type": "execute_result"
    }
   ],
   "source": [
    "// \n",
    "arr[3] = \"Fello\";\n",
    "arr"
   ]
  },
  {
   "cell_type": "code",
   "execution_count": 34,
   "id": "6c160ca4-e217-4f16-be26-1eb833c8cb9f",
   "metadata": {},
   "outputs": [
    {
     "data": {
      "text/plain": [
       "'Jello'"
      ]
     },
     "execution_count": 34,
     "metadata": {},
     "output_type": "execute_result"
    }
   ],
   "source": [
    "arr[2] = \"Jello\""
   ]
  },
  {
   "cell_type": "code",
   "execution_count": 35,
   "id": "c8a7ef5c-c662-45e6-b841-8d085f077fff",
   "metadata": {},
   "outputs": [
    {
     "data": {
      "text/plain": [
       "[\n",
       "  234,     2.34,\n",
       "  'Jello', 'Fello',\n",
       "  true,    false,\n",
       "  null,    undefined\n",
       "]"
      ]
     },
     "execution_count": 35,
     "metadata": {},
     "output_type": "execute_result"
    }
   ],
   "source": [
    "arr"
   ]
  },
  {
   "cell_type": "code",
   "execution_count": 38,
   "id": "85c74001-6a85-4e88-a6fc-8eee43ebda17",
   "metadata": {},
   "outputs": [
    {
     "data": {
      "text/plain": [
       "[ 234, 2.34, 'Jello' ]"
      ]
     },
     "execution_count": 38,
     "metadata": {},
     "output_type": "execute_result"
    }
   ],
   "source": [
    "arr.slice(0,3)"
   ]
  },
  {
   "cell_type": "code",
   "execution_count": 37,
   "id": "83e679eb-573e-4111-8007-b63e9b8f725d",
   "metadata": {},
   "outputs": [
    {
     "data": {
      "text/plain": [
       "[\n",
       "  234,     2.34,\n",
       "  'Jello', 'Fello',\n",
       "  true,    false,\n",
       "  null,    undefined\n",
       "]"
      ]
     },
     "execution_count": 37,
     "metadata": {},
     "output_type": "execute_result"
    }
   ],
   "source": [
    "let arr2 = "
   ]
  },
  {
   "cell_type": "markdown",
   "id": "988e2f9f-f552-4892-98f4-4516a40533c7",
   "metadata": {},
   "source": [
    "**concat() method of array**\n",
    "\n",
    "-> it addes current array with the give array."
   ]
  },
  {
   "cell_type": "code",
   "execution_count": 39,
   "id": "3b4e9a3e-993f-4693-aaa1-a8ad750ee1e2",
   "metadata": {},
   "outputs": [
    {
     "data": {
      "text/plain": [
       "[\n",
       "  234,     2.34,\n",
       "  'Jello', 'Fello',\n",
       "  true,    false,\n",
       "  null,    undefined\n",
       "]"
      ]
     },
     "execution_count": 39,
     "metadata": {},
     "output_type": "execute_result"
    }
   ],
   "source": [
    "arr"
   ]
  },
  {
   "cell_type": "code",
   "execution_count": 40,
   "id": "ee76a583-cada-4a0a-aa7f-f05c05c9680a",
   "metadata": {},
   "outputs": [
    {
     "data": {
      "text/plain": [
       "[ 'Fist Name', 'Second Name', 'Age', 'Class', 'Address' ]"
      ]
     },
     "execution_count": 40,
     "metadata": {},
     "output_type": "execute_result"
    }
   ],
   "source": [
    "header"
   ]
  },
  {
   "cell_type": "code",
   "execution_count": 41,
   "id": "65871b3a-166d-4947-97b9-2b0836ce20b4",
   "metadata": {},
   "outputs": [
    {
     "data": {
      "text/plain": [
       "[\n",
       "  234,         2.34,\n",
       "  'Jello',     'Fello',\n",
       "  true,        false,\n",
       "  null,        undefined,\n",
       "  'Fist Name', 'Second Name',\n",
       "  'Age',       'Class',\n",
       "  'Address'\n",
       "]"
      ]
     },
     "execution_count": 41,
     "metadata": {},
     "output_type": "execute_result"
    }
   ],
   "source": [
    "arr.concat(header)"
   ]
  },
  {
   "cell_type": "code",
   "execution_count": 42,
   "id": "0e640e07-93ae-43dc-989d-75efd94f6257",
   "metadata": {},
   "outputs": [
    {
     "data": {
      "text/plain": [
       "[\n",
       "  234,     2.34,\n",
       "  'Jello', 'Fello',\n",
       "  true,    false,\n",
       "  null,    undefined,\n",
       "  5,       4,\n",
       "  35\n",
       "]"
      ]
     },
     "execution_count": 42,
     "metadata": {},
     "output_type": "execute_result"
    }
   ],
   "source": [
    "arr.concat(timeStamp)"
   ]
  },
  {
   "cell_type": "code",
   "execution_count": 43,
   "id": "ead4ff3b-8f2d-4b65-999a-702d6cb5bf5a",
   "metadata": {},
   "outputs": [
    {
     "data": {
      "text/plain": [
       "[\n",
       "  234,     2.34,\n",
       "  'Jello', 'Fello',\n",
       "  true,    false,\n",
       "  null,    undefined,\n",
       "  7,       9,\n",
       "  2022\n",
       "]"
      ]
     },
     "execution_count": 43,
     "metadata": {},
     "output_type": "execute_result"
    }
   ],
   "source": [
    "arr.concat(dateStamp)"
   ]
  },
  {
   "cell_type": "markdown",
   "id": "740a733d-2ca4-4bdc-bb36-21e427db157b",
   "metadata": {},
   "source": [
    "   -> some method modify the array,\\\n",
    "   -> some method return something, \\\n",
    "   -> some method return the copy of the modified or asked array,\\\n",
    "   -> or some method don't return any thing."
   ]
  },
  {
   "cell_type": "code",
   "execution_count": 44,
   "id": "1c1e0dc9-f77d-428a-8983-1757ebfb48bd",
   "metadata": {},
   "outputs": [
    {
     "data": {
      "text/plain": [
       "[\n",
       "  234,         2.34,\n",
       "  'Jello',     'Fello',\n",
       "  true,        false,\n",
       "  null,        undefined,\n",
       "  'Fist Name', 'Second Name',\n",
       "  'Age',       'Class',\n",
       "  'Address'\n",
       "]"
      ]
     },
     "execution_count": 44,
     "metadata": {},
     "output_type": "execute_result"
    }
   ],
   "source": [
    "arr = arr.concat(header)"
   ]
  },
  {
   "cell_type": "code",
   "execution_count": 45,
   "id": "9d61c7c7-3c9a-4034-8725-dcb5f3ea0ef6",
   "metadata": {},
   "outputs": [
    {
     "data": {
      "text/plain": [
       "[\n",
       "  234,         2.34,\n",
       "  'Jello',     'Fello',\n",
       "  true,        false,\n",
       "  null,        undefined,\n",
       "  'Fist Name', 'Second Name',\n",
       "  'Age',       'Class',\n",
       "  'Address'\n",
       "]"
      ]
     },
     "execution_count": 45,
     "metadata": {},
     "output_type": "execute_result"
    }
   ],
   "source": [
    "arr"
   ]
  },
  {
   "cell_type": "code",
   "execution_count": 47,
   "id": "0449bce2-686e-4292-832f-32017ee7edfd",
   "metadata": {},
   "outputs": [
    {
     "data": {
      "text/plain": [
       "[\n",
       "  234,         2.34,\n",
       "  'Jello',     'Fello',\n",
       "  true,        false,\n",
       "  null,        undefined,\n",
       "  'Fist Name', 'Second Name',\n",
       "  'Age',       'Class',\n",
       "  'Address',   5,\n",
       "  4,           35,\n",
       "  7,           9,\n",
       "  2022\n",
       "]"
      ]
     },
     "execution_count": 47,
     "metadata": {},
     "output_type": "execute_result"
    }
   ],
   "source": [
    "arr = arr.concat(timeStamp,dateStamp)\n",
    "// arr = arr.concat(timeStamp)"
   ]
  },
  {
   "cell_type": "code",
   "execution_count": 48,
   "id": "dbc9bd65-ab48-4df9-b572-33a78e5a5670",
   "metadata": {},
   "outputs": [
    {
     "data": {
      "text/plain": [
       "[\n",
       "  234,         2.34,\n",
       "  'Jello',     'Fello',\n",
       "  true,        false,\n",
       "  null,        undefined,\n",
       "  'Fist Name', 'Second Name',\n",
       "  'Age',       'Class',\n",
       "  'Address',   5,\n",
       "  4,           35,\n",
       "  7,           9,\n",
       "  2022\n",
       "]"
      ]
     },
     "execution_count": 48,
     "metadata": {},
     "output_type": "execute_result"
    }
   ],
   "source": [
    "arr"
   ]
  },
  {
   "cell_type": "code",
   "execution_count": 49,
   "id": "1794d270-2444-43f0-b004-1a66620a0ef1",
   "metadata": {},
   "outputs": [
    {
     "data": {
      "text/plain": [
       "[ 'Fist Name', 'Second Name' ]"
      ]
     },
     "execution_count": 49,
     "metadata": {},
     "output_type": "execute_result"
    }
   ],
   "source": [
    "arr.slice(8,10)\n",
    "// it will not include the 10, works as n-1."
   ]
  },
  {
   "cell_type": "code",
   "execution_count": 50,
   "id": "6cd145c0-0278-4ec2-a224-0d5eeb0157f3",
   "metadata": {},
   "outputs": [
    {
     "data": {
      "text/plain": [
       "'Heloo this is string, i live in single or double qoutes symbols.'"
      ]
     },
     "execution_count": 50,
     "metadata": {},
     "output_type": "execute_result"
    }
   ],
   "source": [
    "\"Heloo this is string, i live in single or double qoutes symbols.\""
   ]
  },
  {
   "cell_type": "code",
   "execution_count": null,
   "id": "f4b24643-659c-43e2-8397-15bb01faf8c1",
   "metadata": {},
   "outputs": [],
   "source": []
  }
 ],
 "metadata": {
  "kernelspec": {
   "display_name": "JavaScript (Node.js)",
   "language": "javascript",
   "name": "javascript"
  },
  "language_info": {
   "file_extension": ".js",
   "mimetype": "application/javascript",
   "name": "javascript",
   "version": "16.17.0"
  }
 },
 "nbformat": 4,
 "nbformat_minor": 5
}
