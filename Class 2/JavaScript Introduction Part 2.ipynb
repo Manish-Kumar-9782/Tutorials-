{
 "cells": [
  {
   "cell_type": "markdown",
   "id": "d5596e06-78f0-429b-ab15-0b7132ee31b6",
   "metadata": {},
   "source": [
    "# JavaScript Introduction Part 2"
   ]
  },
  {
   "cell_type": "markdown",
   "id": "16340838-4fc0-4069-9de8-eb49d62bc705",
   "metadata": {},
   "source": [
    "### Array in JavaScript"
   ]
  },
  {
   "cell_type": "markdown",
   "id": "e9a61ad8-671b-40c5-a90d-24675792a641",
   "metadata": {},
   "source": [
    "-> Array is a container of multiple values in a sequence.\n",
    "\n",
    "-> In javascript we can have mutliple data type values in a an array.\n",
    "\n",
    "-> we can access array element by using the subscrpt `[]` with valid index. if index is not in range then we will get an error.\n",
    "\n",
    "-> Since JavaScript is a dynamic language so we don't need to specify the size of an array like we do in c & c++ language."
   ]
  },
  {
   "cell_type": "code",
   "execution_count": 1,
   "id": "b7becfa4-b149-4aac-8d74-2b46a5890a6f",
   "metadata": {},
   "outputs": [],
   "source": [
    "let arr = ['Hello', 12 , 12.34, \"1234\", true, false]"
   ]
  },
  {
   "cell_type": "code",
   "execution_count": 2,
   "id": "2d0e8cde-1533-4935-8294-3ac4ef87015a",
   "metadata": {},
   "outputs": [
    {
     "data": {
      "text/plain": [
       "[ 'Hello', 12, 12.34, '1234', true, false ]"
      ]
     },
     "execution_count": 2,
     "metadata": {},
     "output_type": "execute_result"
    }
   ],
   "source": [
    "arr"
   ]
  },
  {
   "cell_type": "code",
   "execution_count": 4,
   "id": "ade5c39a-e2e8-4a96-a646-81cc3ed35c7c",
   "metadata": {},
   "outputs": [
    {
     "data": {
      "text/plain": [
       "12"
      ]
     },
     "execution_count": 4,
     "metadata": {},
     "output_type": "execute_result"
    }
   ],
   "source": [
    "arr[1]"
   ]
  },
  {
   "cell_type": "code",
   "execution_count": 7,
   "id": "bc6e1ad3-5704-4ed2-bf77-a06cbce88f85",
   "metadata": {},
   "outputs": [
    {
     "name": "stdout",
     "output_type": "stream",
     "text": [
      "Hello\n",
      "12\n",
      "12.34\n",
      "1234\n",
      "true\n",
      "false\n"
     ]
    }
   ],
   "source": [
    "for(let i = 0; i<arr.length; i++){\n",
    "    console.log(arr[i])\n",
    "}"
   ]
  },
  {
   "cell_type": "markdown",
   "id": "47467658-0b08-43c2-837b-02b73c938ec3",
   "metadata": {},
   "source": [
    "**pop() & push() method of array**"
   ]
  },
  {
   "cell_type": "code",
   "execution_count": 13,
   "id": "ae11eb2a-8cd6-495b-80b9-5d20aa282e0b",
   "metadata": {},
   "outputs": [
    {
     "data": {
      "text/plain": [
       "[ 'Hello', 12, 12.34, '1234', true, false ]"
      ]
     },
     "execution_count": 13,
     "metadata": {},
     "output_type": "execute_result"
    }
   ],
   "source": [
    "arr"
   ]
  },
  {
   "cell_type": "code",
   "execution_count": 14,
   "id": "05dea435-e969-4c5e-97d8-a81717ba0058",
   "metadata": {},
   "outputs": [
    {
     "data": {
      "text/plain": [
       "false"
      ]
     },
     "execution_count": 14,
     "metadata": {},
     "output_type": "execute_result"
    }
   ],
   "source": [
    "arr.pop()\n",
    "// it will delete the last element from an array, "
   ]
  },
  {
   "cell_type": "code",
   "execution_count": 15,
   "id": "7de0426a-e3a0-47ba-bc67-4c6e8e92b2cf",
   "metadata": {},
   "outputs": [
    {
     "data": {
      "text/plain": [
       "[ 'Hello', 12, 12.34, '1234', true ]"
      ]
     },
     "execution_count": 15,
     "metadata": {},
     "output_type": "execute_result"
    }
   ],
   "source": [
    "arr"
   ]
  },
  {
   "cell_type": "code",
   "execution_count": 17,
   "id": "33147ccd-a1a6-4f17-be88-2e35da42cbc9",
   "metadata": {},
   "outputs": [
    {
     "data": {
      "text/plain": [
       "true"
      ]
     },
     "execution_count": 17,
     "metadata": {},
     "output_type": "execute_result"
    }
   ],
   "source": [
    "// again if we use the pop method on arr then it will remove the new last element.\n",
    "arr.pop()"
   ]
  },
  {
   "cell_type": "code",
   "execution_count": 18,
   "id": "fdf48e68-2b5b-4896-9449-46ef1ecba25f",
   "metadata": {},
   "outputs": [
    {
     "data": {
      "text/plain": [
       "[ 'Hello', 12, 12.34, '1234' ]"
      ]
     },
     "execution_count": 18,
     "metadata": {},
     "output_type": "execute_result"
    }
   ],
   "source": [
    "arr"
   ]
  },
  {
   "cell_type": "markdown",
   "id": "09328831-997c-4c3e-9e81-1e83685db0bb",
   "metadata": {},
   "source": [
    "**push() method on array**\n",
    "\n",
    "it will push an element at the end of the array."
   ]
  },
  {
   "cell_type": "code",
   "execution_count": 19,
   "id": "11375aeb-4de9-4612-98ad-aa099af3413a",
   "metadata": {},
   "outputs": [
    {
     "data": {
      "text/plain": [
       "5"
      ]
     },
     "execution_count": 19,
     "metadata": {},
     "output_type": "execute_result"
    }
   ],
   "source": [
    "arr.push(10)"
   ]
  },
  {
   "cell_type": "code",
   "execution_count": 20,
   "id": "0426c921-c493-41a8-a3c3-0a55b91cdfa5",
   "metadata": {},
   "outputs": [
    {
     "data": {
      "text/plain": [
       "[ 'Hello', 12, 12.34, '1234', 10 ]"
      ]
     },
     "execution_count": 20,
     "metadata": {},
     "output_type": "execute_result"
    }
   ],
   "source": [
    "arr"
   ]
  },
  {
   "cell_type": "code",
   "execution_count": 21,
   "id": "2d97c76d-3ae8-48f7-b9e2-56296183c101",
   "metadata": {},
   "outputs": [
    {
     "data": {
      "text/plain": [
       "6"
      ]
     },
     "execution_count": 21,
     "metadata": {},
     "output_type": "execute_result"
    }
   ],
   "source": [
    "arr.push(\"again\")"
   ]
  },
  {
   "cell_type": "code",
   "execution_count": 22,
   "id": "e277b9f1-c378-461f-b632-f8941dafc63a",
   "metadata": {},
   "outputs": [
    {
     "data": {
      "text/plain": [
       "[ 'Hello', 12, 12.34, '1234', 10, 'again' ]"
      ]
     },
     "execution_count": 22,
     "metadata": {},
     "output_type": "execute_result"
    }
   ],
   "source": [
    "arr"
   ]
  },
  {
   "cell_type": "markdown",
   "id": "ae8e7d7b-ee35-4db2-80b2-1db600d2834b",
   "metadata": {},
   "source": [
    "**indexOf() method on array**"
   ]
  },
  {
   "cell_type": "markdown",
   "id": "84b07d90-5712-42ad-a5b3-cc979f7787cd",
   "metadata": {},
   "source": [
    "it takes a value as an argument and it will return the index number of the value where it is present."
   ]
  },
  {
   "cell_type": "code",
   "execution_count": 24,
   "id": "8cb05a68-7f7f-4dd4-aeaf-4380526e92a0",
   "metadata": {},
   "outputs": [
    {
     "data": {
      "text/plain": [
       "1"
      ]
     },
     "execution_count": 24,
     "metadata": {},
     "output_type": "execute_result"
    }
   ],
   "source": [
    "arr.indexOf(12)"
   ]
  },
  {
   "cell_type": "code",
   "execution_count": 25,
   "id": "c3c88b01-c1f0-4125-82b3-1d2b9d054be6",
   "metadata": {},
   "outputs": [
    {
     "data": {
      "text/plain": [
       "-1"
      ]
     },
     "execution_count": 25,
     "metadata": {},
     "output_type": "execute_result"
    }
   ],
   "source": [
    "arr.indexOf(\"jax\")"
   ]
  },
  {
   "cell_type": "markdown",
   "id": "b4331646-d679-49c7-9530-4d30a97c728d",
   "metadata": {},
   "source": [
    "Note: if passed value is not present in the array then it will return `-1`, which shows that values is not present in array."
   ]
  },
  {
   "cell_type": "markdown",
   "id": "b5f6e4c1-17e1-4b22-b68b-cf79dda3e305",
   "metadata": {},
   "source": [
    "**sort() method on array**"
   ]
  },
  {
   "cell_type": "code",
   "execution_count": 31,
   "id": "badd1aa0-1cbb-46d2-9c81-b419f62a7639",
   "metadata": {},
   "outputs": [
    {
     "data": {
      "text/plain": [
       "[ 10, 12, 12.34, '1234', 'Hello', 'again' ]"
      ]
     },
     "execution_count": 31,
     "metadata": {},
     "output_type": "execute_result"
    }
   ],
   "source": [
    "arr.sort()"
   ]
  },
  {
   "cell_type": "markdown",
   "id": "97da8d54-3361-47a6-8186-883380a067ce",
   "metadata": {},
   "source": [
    "**reverse() method on array**"
   ]
  },
  {
   "cell_type": "code",
   "execution_count": 32,
   "id": "76468f6e-3047-494a-b348-2099cea51354",
   "metadata": {},
   "outputs": [
    {
     "data": {
      "text/plain": [
       "[ 'again', 'Hello', '1234', 12.34, 12, 10 ]"
      ]
     },
     "execution_count": 32,
     "metadata": {},
     "output_type": "execute_result"
    }
   ],
   "source": [
    "arr.reverse()"
   ]
  },
  {
   "cell_type": "code",
   "execution_count": 33,
   "id": "c317d09d-48a3-4e58-91ba-78e8344bd2de",
   "metadata": {},
   "outputs": [
    {
     "data": {
      "text/plain": [
       "[ 'again', 'Hello', '1234', 12.34, 12, 10 ]"
      ]
     },
     "execution_count": 33,
     "metadata": {},
     "output_type": "execute_result"
    }
   ],
   "source": [
    "arr"
   ]
  },
  {
   "cell_type": "markdown",
   "id": "65e87ca3-4562-4cdf-a1d4-8a103757913e",
   "metadata": {},
   "source": [
    "Note: both `sort()` and `reverse()` update our array they don't return copy, they update original array."
   ]
  },
  {
   "cell_type": "markdown",
   "id": "7a204e78-5438-4141-9690-4dcdbf51457d",
   "metadata": {},
   "source": [
    "**fill() method on array**\n",
    "\n",
    "-> it takes three argument \n",
    "    * value;\n",
    "    * start index number\n",
    "    * end index number\n",
    "\n",
    "-> Note: start and end index number define the range array to filled by given value."
   ]
  },
  {
   "cell_type": "code",
   "execution_count": 38,
   "id": "5edb4195-9083-47fd-9b2d-2c2a544cbd3d",
   "metadata": {},
   "outputs": [
    {
     "data": {
      "text/plain": [
       "[ 0, 1, 1, 1, 0, 0 ]"
      ]
     },
     "execution_count": 38,
     "metadata": {},
     "output_type": "execute_result"
    }
   ],
   "source": [
    "arr.fill(1, 1, 4)"
   ]
  },
  {
   "cell_type": "code",
   "execution_count": 36,
   "id": "5f4e9a1d-b295-4212-808b-66fff74f2d00",
   "metadata": {},
   "outputs": [
    {
     "data": {
      "text/plain": [
       "6"
      ]
     },
     "execution_count": 36,
     "metadata": {},
     "output_type": "execute_result"
    }
   ],
   "source": [
    "arr.length"
   ]
  },
  {
   "cell_type": "markdown",
   "id": "6e30a2a5-ac0f-4427-85a2-f84c55ec671c",
   "metadata": {},
   "source": [
    "**flat() method on array** "
   ]
  },
  {
   "cell_type": "code",
   "execution_count": 40,
   "id": "3a5dc549-a211-43c0-99a2-b5c91bc5fa9f",
   "metadata": {},
   "outputs": [],
   "source": [
    "let arr2 = [[true, \"kello\", false], [87,\"Jeloo\", false], 12,45.9, \"hello\"]"
   ]
  },
  {
   "cell_type": "code",
   "execution_count": 41,
   "id": "70658961-2d25-45fe-b3c7-9abe7d994c13",
   "metadata": {},
   "outputs": [
    {
     "data": {
      "text/plain": [
       "[ [ true, 'kello', false ], [ 87, 'Jeloo', false ], 12, 45.9, 'hello' ]"
      ]
     },
     "execution_count": 41,
     "metadata": {},
     "output_type": "execute_result"
    }
   ],
   "source": [
    "arr2"
   ]
  },
  {
   "cell_type": "code",
   "execution_count": 43,
   "id": "d7946c19-e51d-4c94-82e6-619e0ec6fe13",
   "metadata": {},
   "outputs": [],
   "source": [
    "let arr3 = arr2.flat()"
   ]
  },
  {
   "cell_type": "code",
   "execution_count": 44,
   "id": "e60e23dd-95d1-418b-9954-38fa538619ef",
   "metadata": {},
   "outputs": [
    {
     "data": {
      "text/plain": [
       "[\n",
       "  true,    'kello',\n",
       "  false,   87,\n",
       "  'Jeloo', false,\n",
       "  12,      45.9,\n",
       "  'hello'\n",
       "]"
      ]
     },
     "execution_count": 44,
     "metadata": {},
     "output_type": "execute_result"
    }
   ],
   "source": [
    "arr3"
   ]
  },
  {
   "cell_type": "code",
   "execution_count": 45,
   "id": "fc93591e-4fe2-45ce-bc9a-11f22e6e3d9c",
   "metadata": {},
   "outputs": [
    {
     "data": {
      "text/plain": [
       "false"
      ]
     },
     "execution_count": 45,
     "metadata": {},
     "output_type": "execute_result"
    }
   ],
   "source": [
    "arr3[5]"
   ]
  },
  {
   "cell_type": "code",
   "execution_count": 59,
   "id": "d3a95eae-75b2-4e1f-90be-fec9fc06be76",
   "metadata": {},
   "outputs": [
    {
     "name": "stdout",
     "output_type": "stream",
     "text": [
      "undefined\n"
     ]
    }
   ],
   "source": [
    "console.log(arr2[6])"
   ]
  },
  {
   "cell_type": "markdown",
   "id": "f5fa6409-f3a7-40ff-af85-1291b93f02d9",
   "metadata": {},
   "source": [
    "Note: here arr3 has some value at 5th position but arr2 does not have any value at 5th postion since arr3 is the flatted version of the arr2."
   ]
  },
  {
   "cell_type": "code",
   "execution_count": 52,
   "id": "6c20f51d-786f-4375-bb6b-90ee76acfba9",
   "metadata": {},
   "outputs": [],
   "source": [
    "let x = [[1,2,3],\n",
    "         [4,5,6],\n",
    "         [7,8,9]]"
   ]
  },
  {
   "cell_type": "code",
   "execution_count": 53,
   "id": "b90f6d11-35ce-4c60-8c99-07219a802efc",
   "metadata": {},
   "outputs": [
    {
     "data": {
      "text/plain": [
       "[ [ 1, 2, 3 ], [ 4, 5, 6 ], [ 7, 8, 9 ] ]"
      ]
     },
     "execution_count": 53,
     "metadata": {},
     "output_type": "execute_result"
    }
   ],
   "source": [
    "x"
   ]
  },
  {
   "cell_type": "code",
   "execution_count": 54,
   "id": "10224729-9843-43a9-955e-e6da671dcc96",
   "metadata": {},
   "outputs": [
    {
     "data": {
      "text/plain": [
       "[\n",
       "  1, 2, 3, 4, 5,\n",
       "  6, 7, 8, 9\n",
       "]"
      ]
     },
     "execution_count": 54,
     "metadata": {},
     "output_type": "execute_result"
    }
   ],
   "source": [
    "x.flat()"
   ]
  },
  {
   "cell_type": "code",
   "execution_count": null,
   "id": "28735f9c-6c39-4ede-af77-084b99bf5c4f",
   "metadata": {},
   "outputs": [],
   "source": []
  }
 ],
 "metadata": {
  "kernelspec": {
   "display_name": "JavaScript (Node.js)",
   "language": "javascript",
   "name": "javascript"
  },
  "language_info": {
   "file_extension": ".js",
   "mimetype": "application/javascript",
   "name": "javascript",
   "version": "16.17.0"
  }
 },
 "nbformat": 4,
 "nbformat_minor": 5
}
