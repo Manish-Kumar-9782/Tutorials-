{
 "cells": [
  {
   "cell_type": "markdown",
   "id": "59ab1b3e-2ce6-42a0-8538-baa3e534f1e9",
   "metadata": {},
   "source": [
    "# Loops (for and while loop)"
   ]
  },
  {
   "cell_type": "markdown",
   "id": "44205eef-0903-47ea-95dd-40261ccab7b8",
   "metadata": {},
   "source": [
    "**For loop**\n",
    "\n",
    "```python\n",
    "for var in sequence:\n",
    "    # statements\n",
    "```"
   ]
  },
  {
   "cell_type": "code",
   "execution_count": 1,
   "id": "256c7d00-3b7a-435c-8a48-652669fc8702",
   "metadata": {},
   "outputs": [
    {
     "data": {
      "text/plain": [
       "range(1, 10)"
      ]
     },
     "execution_count": 1,
     "metadata": {},
     "output_type": "execute_result"
    }
   ],
   "source": [
    "range(1,10)"
   ]
  },
  {
   "cell_type": "markdown",
   "id": "16284470-042d-44b9-af99-f9286e18c086",
   "metadata": {},
   "source": [
    "# range method\n",
    "```python\n",
    "range(start, stop[, step]) -> range object\n",
    "```\n",
    "it is used to generate a sequence of integer value in b/w the given values with a optional step."
   ]
  },
  {
   "cell_type": "code",
   "execution_count": 2,
   "id": "3c21ff4b-fee7-4e14-a7ab-5b4b346f7e61",
   "metadata": {},
   "outputs": [
    {
     "data": {
      "text/plain": [
       "\u001b[1;31mInit signature:\u001b[0m \u001b[0mrange\u001b[0m\u001b[1;33m(\u001b[0m\u001b[0mself\u001b[0m\u001b[1;33m,\u001b[0m \u001b[1;33m/\u001b[0m\u001b[1;33m,\u001b[0m \u001b[1;33m*\u001b[0m\u001b[0margs\u001b[0m\u001b[1;33m,\u001b[0m \u001b[1;33m**\u001b[0m\u001b[0mkwargs\u001b[0m\u001b[1;33m)\u001b[0m\u001b[1;33m\u001b[0m\u001b[1;33m\u001b[0m\u001b[0m\n",
       "\u001b[1;31mDocstring:\u001b[0m     \n",
       "range(stop) -> range object\n",
       "range(start, stop[, step]) -> range object\n",
       "\n",
       "Return an object that produces a sequence of integers from start (inclusive)\n",
       "to stop (exclusive) by step.  range(i, j) produces i, i+1, i+2, ..., j-1.\n",
       "start defaults to 0, and stop is omitted!  range(4) produces 0, 1, 2, 3.\n",
       "These are exactly the valid indices for a list of 4 elements.\n",
       "When step is given, it specifies the increment (or decrement).\n",
       "\u001b[1;31mType:\u001b[0m           type\n",
       "\u001b[1;31mSubclasses:\u001b[0m     \n"
      ]
     },
     "metadata": {},
     "output_type": "display_data"
    }
   ],
   "source": [
    "range?"
   ]
  },
  {
   "cell_type": "markdown",
   "id": "fb5e6979-772b-4c91-8ca7-f83ffce83fcb",
   "metadata": {},
   "source": [
    "**range function with in for loop**\n",
    "\n",
    "```python\n",
    "for value in range(end_value)  # if single then considered as end_value.\n",
    "\n",
    "for value in range(start_value, end_value)  # start with given start_value up to end_value\n",
    "\n",
    "# note: end_value is exclusive.\n",
    "\n",
    "for value in range(start_value, end_value, step)  # start with given start_value up to end_value\n",
    "# in this we it will give us number in given range with specified step value.\n",
    "```"
   ]
  },
  {
   "cell_type": "code",
   "execution_count": 3,
   "id": "7ec404d1-2cf6-47dd-b662-b2fb3fc9ad3e",
   "metadata": {},
   "outputs": [
    {
     "name": "stdout",
     "output_type": "stream",
     "text": [
      "0\n",
      "1\n",
      "2\n",
      "3\n",
      "4\n",
      "5\n",
      "6\n",
      "7\n",
      "8\n",
      "9\n"
     ]
    }
   ],
   "source": [
    "# for with range only single value\n",
    "for value in range(10):\n",
    "    print(value)"
   ]
  },
  {
   "cell_type": "code",
   "execution_count": 4,
   "id": "ff8e7a95-032e-4be2-bf2e-11f70367d0ea",
   "metadata": {},
   "outputs": [
    {
     "name": "stdout",
     "output_type": "stream",
     "text": [
      "10\n",
      "11\n",
      "12\n",
      "13\n",
      "14\n",
      "15\n",
      "16\n",
      "17\n",
      "18\n",
      "19\n"
     ]
    }
   ],
   "source": [
    "# for with range function with start and end value.\n",
    "for value in range(10, 20):\n",
    "    print(value)"
   ]
  },
  {
   "cell_type": "code",
   "execution_count": 5,
   "id": "18064684-3764-4eaf-8962-82d5a1f1ed21",
   "metadata": {},
   "outputs": [
    {
     "name": "stdout",
     "output_type": "stream",
     "text": [
      "10\n",
      "13\n",
      "16\n",
      "19\n"
     ]
    }
   ],
   "source": [
    "# for with range function with start and end value.\n",
    "# with given step\n",
    "for value in range(10, 20, 3):\n",
    "    print(value)"
   ]
  },
  {
   "cell_type": "code",
   "execution_count": 8,
   "id": "0d8ffcd1-466a-4082-a6bf-30275414d00e",
   "metadata": {},
   "outputs": [
    {
     "name": "stdout",
     "output_type": "stream",
     "text": [
      "3\n",
      "6\n",
      "9\n",
      "12\n",
      "15\n",
      "18\n",
      "21\n",
      "24\n",
      "27\n",
      "30\n"
     ]
    }
   ],
   "source": [
    "# creating a table.\n",
    "factor = 3\n",
    "for i in range(1,10+1):\n",
    "    print(i*factor)"
   ]
  },
  {
   "cell_type": "code",
   "execution_count": 9,
   "id": "43c496df-081d-4968-a29c-4863bb86dc2b",
   "metadata": {},
   "outputs": [
    {
     "name": "stdout",
     "output_type": "stream",
     "text": [
      "[2, 4, 6, 8, 10, 12, 14, 16, 18, 20]\n"
     ]
    }
   ],
   "source": [
    "# storing the given table in a list\n",
    "table1 = []\n",
    "factor = 2\n",
    "for i in range(1, 11):\n",
    "    table1.append(i*factor)\n",
    "    \n",
    "    \n",
    "print(table1)"
   ]
  },
  {
   "cell_type": "code",
   "execution_count": 5,
   "id": "fb486148-0f56-4341-be43-040b18ef6837",
   "metadata": {},
   "outputs": [
    {
     "name": "stdout",
     "output_type": "stream",
     "text": [
      "[2, 4, 6, 8, 10, 12, 14, 16, 18, 20]\n"
     ]
    }
   ],
   "source": [
    "# storing the given table in a list\n",
    "table1 = []\n",
    "factor = 2\n",
    "for i in range(1, 11):\n",
    "    table1.append(i*factor)\n",
    "    \n",
    "    \n",
    "print(table1)"
   ]
  },
  {
   "cell_type": "markdown",
   "id": "fc12a0b5-ac86-4c3d-8b1c-4e046562914d",
   "metadata": {},
   "source": [
    "## While Loop\n",
    "\n",
    "```python\n",
    "while expression:\n",
    "    # statement\n",
    "    \n",
    "# expression must give true and flase value only\n",
    "```"
   ]
  },
  {
   "cell_type": "code",
   "execution_count": 7,
   "id": "32a4b3a4-63c3-4ade-9760-45f8351f8012",
   "metadata": {},
   "outputs": [
    {
     "name": "stdout",
     "output_type": "stream",
     "text": [
      "8\n",
      "9\n",
      "10\n"
     ]
    }
   ],
   "source": [
    "i=7\n",
    "while i<10:  # i<10 expression must give true\n",
    "    i+=1  # increasing i by 1 in each cycle.\n",
    "    print(i)  # printing i in each cycle"
   ]
  },
  {
   "cell_type": "markdown",
   "id": "57460a2f-dd7a-4a05-b79f-b88ef320653c",
   "metadata": {},
   "source": [
    "## infinite loop\n",
    "\n",
    "To create an infinite loop we just need to use `True` after `while` keword.\n",
    "```python\n",
    "while True:\n",
    "    # statements.\n",
    "```"
   ]
  },
  {
   "cell_type": "markdown",
   "id": "9254e276-de01-4f83-a569-84aacc83549a",
   "metadata": {},
   "source": [
    "## Difference in b/w the for and while loop\n",
    "\n",
    "`for loop:` for is counter controlled loop, which already knows how many iteration it will perform.\n",
    "\n",
    "`while loop:` while loop is a sentinal loop, which do not have the controlled on the iteration, internal logic may decide how to stop the loop."
   ]
  },
  {
   "cell_type": "markdown",
   "id": "17c38d9f-90db-4619-9385-6677ff662527",
   "metadata": {},
   "source": [
    "## The `break` statement."
   ]
  },
  {
   "cell_type": "code",
   "execution_count": 6,
   "id": "7741201f-c4a7-4530-9069-3a894d183cc8",
   "metadata": {},
   "outputs": [
    {
     "name": "stdout",
     "output_type": "stream",
     "text": [
      "1\n",
      "2\n",
      "3\n",
      "4\n",
      "5\n",
      "6\n"
     ]
    }
   ],
   "source": [
    "i=0\n",
    "while i<20:  # i<10 expression must give true\n",
    "    i+=1  # increasing i by 1 in each cycle.\n",
    "    \n",
    "    # if a number stored in i, completely divided by 7 \n",
    "    # then we will break the loop\n",
    "    if i % 7 == 0:\n",
    "        break\n",
    "        # break the for loop in b/w the process.\n",
    "        \n",
    "    print(i)  # printing i in each cycle"
   ]
  },
  {
   "cell_type": "markdown",
   "id": "50d8ced6-11dc-47a4-85fa-e89a501e1785",
   "metadata": {},
   "source": [
    "## The `continue` statement"
   ]
  },
  {
   "cell_type": "code",
   "execution_count": 9,
   "id": "f225c0c2-680a-4b31-85cf-3ec4aaeda7ec",
   "metadata": {},
   "outputs": [
    {
     "name": "stdout",
     "output_type": "stream",
     "text": [
      "1\n",
      "2\n",
      "3\n",
      "4\n",
      "5\n",
      "6\n",
      "7\n",
      "9\n",
      "10\n"
     ]
    }
   ],
   "source": [
    "i=0\n",
    "while i<10:  # i<10 expression must give true\n",
    "    i+=1  # increasing i by 1 in each cycle.\n",
    "    \n",
    "    # if a number stored in i, completely divided by 7 \n",
    "    # then we will skip the below statements.\n",
    "    if i == 8:\n",
    "        continue\n",
    "        # continue skips the below statements.\n",
    "        \n",
    "    print(i)  # printing i in each cycle"
   ]
  },
  {
   "cell_type": "code",
   "execution_count": null,
   "id": "8a7dc2b9-e54f-4192-8641-837e0070bb23",
   "metadata": {},
   "outputs": [],
   "source": []
  }
 ],
 "metadata": {
  "kernelspec": {
   "display_name": "Python 3 (ipykernel)",
   "language": "python",
   "name": "python3"
  },
  "language_info": {
   "codemirror_mode": {
    "name": "ipython",
    "version": 3
   },
   "file_extension": ".py",
   "mimetype": "text/x-python",
   "name": "python",
   "nbconvert_exporter": "python",
   "pygments_lexer": "ipython3",
   "version": "3.10.5"
  }
 },
 "nbformat": 4,
 "nbformat_minor": 5
}
