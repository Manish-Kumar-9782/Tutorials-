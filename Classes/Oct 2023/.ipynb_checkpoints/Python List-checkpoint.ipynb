{
 "cells": [
  {
   "cell_type": "code",
   "execution_count": 3,
   "id": "ac1b77f1-aca5-4ec8-8fec-8289f9908208",
   "metadata": {},
   "outputs": [],
   "source": [
    "myList = [3,2,3,True,False]"
   ]
  },
  {
   "cell_type": "code",
   "execution_count": 5,
   "id": "2aab37a9-f0ce-4805-9d3e-138c1f9f7d77",
   "metadata": {},
   "outputs": [
    {
     "data": {
      "text/plain": [
       "3"
      ]
     },
     "execution_count": 5,
     "metadata": {},
     "output_type": "execute_result"
    }
   ],
   "source": [
    "myList.index(True)"
   ]
  },
  {
   "cell_type": "code",
   "execution_count": 7,
   "id": "a0f7b755-492d-4bd3-9aa9-03213446b82c",
   "metadata": {},
   "outputs": [
    {
     "name": "stdout",
     "output_type": "stream",
     "text": [
      "Help on class list in module builtins:\n",
      "\n",
      "class list(object)\n",
      " |  list(iterable=(), /)\n",
      " |  \n",
      " |  Built-in mutable sequence.\n",
      " |  \n",
      " |  If no argument is given, the constructor creates a new empty list.\n",
      " |  The argument must be an iterable if specified.\n",
      " |  \n",
      " |  Methods defined here:\n",
      " |  \n",
      " |  __add__(self, value, /)\n",
      " |      Return self+value.\n",
      " |  \n",
      " |  __contains__(self, key, /)\n",
      " |      Return key in self.\n",
      " |  \n",
      " |  __delitem__(self, key, /)\n",
      " |      Delete self[key].\n",
      " |  \n",
      " |  __eq__(self, value, /)\n",
      " |      Return self==value.\n",
      " |  \n",
      " |  __ge__(self, value, /)\n",
      " |      Return self>=value.\n",
      " |  \n",
      " |  __getattribute__(self, name, /)\n",
      " |      Return getattr(self, name).\n",
      " |  \n",
      " |  __getitem__(...)\n",
      " |      x.__getitem__(y) <==> x[y]\n",
      " |  \n",
      " |  __gt__(self, value, /)\n",
      " |      Return self>value.\n",
      " |  \n",
      " |  __iadd__(self, value, /)\n",
      " |      Implement self+=value.\n",
      " |  \n",
      " |  __imul__(self, value, /)\n",
      " |      Implement self*=value.\n",
      " |  \n",
      " |  __init__(self, /, *args, **kwargs)\n",
      " |      Initialize self.  See help(type(self)) for accurate signature.\n",
      " |  \n",
      " |  __iter__(self, /)\n",
      " |      Implement iter(self).\n",
      " |  \n",
      " |  __le__(self, value, /)\n",
      " |      Return self<=value.\n",
      " |  \n",
      " |  __len__(self, /)\n",
      " |      Return len(self).\n",
      " |  \n",
      " |  __lt__(self, value, /)\n",
      " |      Return self<value.\n",
      " |  \n",
      " |  __mul__(self, value, /)\n",
      " |      Return self*value.\n",
      " |  \n",
      " |  __ne__(self, value, /)\n",
      " |      Return self!=value.\n",
      " |  \n",
      " |  __repr__(self, /)\n",
      " |      Return repr(self).\n",
      " |  \n",
      " |  __reversed__(self, /)\n",
      " |      Return a reverse iterator over the list.\n",
      " |  \n",
      " |  __rmul__(self, value, /)\n",
      " |      Return value*self.\n",
      " |  \n",
      " |  __setitem__(self, key, value, /)\n",
      " |      Set self[key] to value.\n",
      " |  \n",
      " |  __sizeof__(self, /)\n",
      " |      Return the size of the list in memory, in bytes.\n",
      " |  \n",
      " |  append(self, object, /)\n",
      " |      Append object to the end of the list.\n",
      " |  \n",
      " |  clear(self, /)\n",
      " |      Remove all items from list.\n",
      " |  \n",
      " |  copy(self, /)\n",
      " |      Return a shallow copy of the list.\n",
      " |  \n",
      " |  count(self, value, /)\n",
      " |      Return number of occurrences of value.\n",
      " |  \n",
      " |  extend(self, iterable, /)\n",
      " |      Extend list by appending elements from the iterable.\n",
      " |  \n",
      " |  index(self, value, start=0, stop=9223372036854775807, /)\n",
      " |      Return first index of value.\n",
      " |      \n",
      " |      Raises ValueError if the value is not present.\n",
      " |  \n",
      " |  insert(self, index, object, /)\n",
      " |      Insert object before index.\n",
      " |  \n",
      " |  pop(self, index=-1, /)\n",
      " |      Remove and return item at index (default last).\n",
      " |      \n",
      " |      Raises IndexError if list is empty or index is out of range.\n",
      " |  \n",
      " |  remove(self, value, /)\n",
      " |      Remove first occurrence of value.\n",
      " |      \n",
      " |      Raises ValueError if the value is not present.\n",
      " |  \n",
      " |  reverse(self, /)\n",
      " |      Reverse *IN PLACE*.\n",
      " |  \n",
      " |  sort(self, /, *, key=None, reverse=False)\n",
      " |      Sort the list in ascending order and return None.\n",
      " |      \n",
      " |      The sort is in-place (i.e. the list itself is modified) and stable (i.e. the\n",
      " |      order of two equal elements is maintained).\n",
      " |      \n",
      " |      If a key function is given, apply it once to each list item and sort them,\n",
      " |      ascending or descending, according to their function values.\n",
      " |      \n",
      " |      The reverse flag can be set to sort in descending order.\n",
      " |  \n",
      " |  ----------------------------------------------------------------------\n",
      " |  Class methods defined here:\n",
      " |  \n",
      " |  __class_getitem__(...) from builtins.type\n",
      " |      See PEP 585\n",
      " |  \n",
      " |  ----------------------------------------------------------------------\n",
      " |  Static methods defined here:\n",
      " |  \n",
      " |  __new__(*args, **kwargs) from builtins.type\n",
      " |      Create and return a new object.  See help(type) for accurate signature.\n",
      " |  \n",
      " |  ----------------------------------------------------------------------\n",
      " |  Data and other attributes defined here:\n",
      " |  \n",
      " |  __hash__ = None\n",
      "\n"
     ]
    }
   ],
   "source": [
    "help(list)"
   ]
  },
  {
   "cell_type": "code",
   "execution_count": 8,
   "id": "6d69687d-d807-45ad-bab5-0a3c714fbac8",
   "metadata": {},
   "outputs": [
    {
     "data": {
      "text/plain": [
       "[3, 2, 3, True, False]"
      ]
     },
     "execution_count": 8,
     "metadata": {},
     "output_type": "execute_result"
    }
   ],
   "source": [
    "myList"
   ]
  },
  {
   "cell_type": "code",
   "execution_count": 9,
   "id": "b1002b12-3d87-4ff3-8999-2385169aabbe",
   "metadata": {},
   "outputs": [],
   "source": [
    "myList.append(21)"
   ]
  },
  {
   "cell_type": "code",
   "execution_count": 10,
   "id": "b6d99323-fc4e-439b-b0ad-6ca0302bd479",
   "metadata": {},
   "outputs": [
    {
     "data": {
      "text/plain": [
       "[3, 2, 3, True, False, 21]"
      ]
     },
     "execution_count": 10,
     "metadata": {},
     "output_type": "execute_result"
    }
   ],
   "source": [
    "myList"
   ]
  },
  {
   "cell_type": "code",
   "execution_count": 12,
   "id": "fcf00798-74c7-4ecf-bb61-b1401f29119e",
   "metadata": {},
   "outputs": [
    {
     "data": {
      "text/plain": [
       "[3, 2, 3, True, False, 21]"
      ]
     },
     "execution_count": 12,
     "metadata": {},
     "output_type": "execute_result"
    }
   ],
   "source": [
    "copyList = myList.copy()\n",
    "copyList"
   ]
  },
  {
   "cell_type": "code",
   "execution_count": 13,
   "id": "ff56be07-c85d-4ec7-9326-76e9463d83b0",
   "metadata": {},
   "outputs": [
    {
     "data": {
      "text/plain": [
       "[]"
      ]
     },
     "execution_count": 13,
     "metadata": {},
     "output_type": "execute_result"
    }
   ],
   "source": [
    "# clearing the copyList list.\n",
    "copyList.clear()\n",
    "copyList"
   ]
  },
  {
   "cell_type": "code",
   "execution_count": 14,
   "id": "f1c8a2fc-f3be-40fa-a163-141825507b7a",
   "metadata": {},
   "outputs": [
    {
     "data": {
      "text/plain": [
       "[3, 2, 3, True, False, 21]"
      ]
     },
     "execution_count": 14,
     "metadata": {},
     "output_type": "execute_result"
    }
   ],
   "source": [
    "# inspecting our myList\n",
    "myList"
   ]
  },
  {
   "cell_type": "code",
   "execution_count": 15,
   "id": "8051abef-6877-4af0-b18e-98ab92316c68",
   "metadata": {},
   "outputs": [],
   "source": [
    "# couting a value in a list.\n",
    "import random"
   ]
  },
  {
   "cell_type": "code",
   "execution_count": 16,
   "id": "8493441f-db7c-4b7b-8654-4c81df361b6e",
   "metadata": {},
   "outputs": [],
   "source": [
    "randomList = [random.randint(0,20) for i in range(50)]"
   ]
  },
  {
   "cell_type": "code",
   "execution_count": 18,
   "id": "9531263b-9c1e-4561-99a7-f08ed154a879",
   "metadata": {},
   "outputs": [
    {
     "name": "stdout",
     "output_type": "stream",
     "text": [
      "random List:  [20, 14, 14, 12, 8, 18, 10, 20, 13, 1, 19, 5, 11, 11, 6, 16, 9, 13, 7, 7, 12, 6, 15, 4, 17, 6, 9, 11, 4, 17, 13, 6, 14, 6, 15, 10, 3, 7, 0, 8, 20, 20, 18, 19, 7, 14, 11, 2, 18, 3]\n"
     ]
    }
   ],
   "source": [
    "print(\"random List: \", randomList)"
   ]
  },
  {
   "cell_type": "code",
   "execution_count": 21,
   "id": "e02e069e-31e9-467e-984e-784056d9edd2",
   "metadata": {},
   "outputs": [
    {
     "data": {
      "text/plain": [
       "4"
      ]
     },
     "execution_count": 21,
     "metadata": {},
     "output_type": "execute_result"
    }
   ],
   "source": [
    "# counting that how many time 20 occur in the randomList.\n",
    "randomList.count(20)"
   ]
  },
  {
   "cell_type": "code",
   "execution_count": 22,
   "id": "19249001-b3da-4572-82ef-84cb6c4174c7",
   "metadata": {},
   "outputs": [
    {
     "data": {
      "text/plain": [
       "50"
      ]
     },
     "execution_count": 22,
     "metadata": {},
     "output_type": "execute_result"
    }
   ],
   "source": [
    "# total item/values present in the randomList\n",
    "len(randomList)"
   ]
  },
  {
   "cell_type": "markdown",
   "id": "163d9938-611a-43c1-963b-2ab085c32a3a",
   "metadata": {},
   "source": [
    "**extend & insert method**"
   ]
  },
  {
   "cell_type": "code",
   "execution_count": 23,
   "id": "6603fdb9-9f9f-4119-9cf9-0bfb3201d659",
   "metadata": {},
   "outputs": [],
   "source": [
    "otherList = [\"hellow\", \"how\",\"this\"]"
   ]
  },
  {
   "cell_type": "code",
   "execution_count": 24,
   "id": "512fab55-8fef-4232-9f28-5d8628aacfdc",
   "metadata": {},
   "outputs": [
    {
     "data": {
      "text/plain": [
       "[3, 2, 3, True, False, 21]"
      ]
     },
     "execution_count": 24,
     "metadata": {},
     "output_type": "execute_result"
    }
   ],
   "source": [
    "myList"
   ]
  },
  {
   "cell_type": "code",
   "execution_count": 25,
   "id": "51ba3ac7-f65f-4446-b767-41edfa964060",
   "metadata": {},
   "outputs": [],
   "source": [
    "myList.insert(2, 40)"
   ]
  },
  {
   "cell_type": "code",
   "execution_count": 26,
   "id": "42e3cce8-c895-42ae-87c5-9338bbac25a5",
   "metadata": {},
   "outputs": [
    {
     "data": {
      "text/plain": [
       "[3, 2, 40, 3, True, False, 21]"
      ]
     },
     "execution_count": 26,
     "metadata": {},
     "output_type": "execute_result"
    }
   ],
   "source": [
    "# inserting a value in b/w the list.\n",
    "myList"
   ]
  },
  {
   "cell_type": "code",
   "execution_count": 27,
   "id": "586b9c61-1677-4df8-97eb-5b04b1a18e77",
   "metadata": {},
   "outputs": [
    {
     "data": {
      "text/plain": [
       "[100, 3, 2, 40, 3, True, False, 21]"
      ]
     },
     "execution_count": 27,
     "metadata": {},
     "output_type": "execute_result"
    }
   ],
   "source": [
    "# inserting the value at the start of the list\n",
    "myList.insert(0, 100)\n",
    "myList"
   ]
  },
  {
   "cell_type": "code",
   "execution_count": 28,
   "id": "63ce5653-a6c1-44fe-8243-6debd14d4dee",
   "metadata": {},
   "outputs": [],
   "source": [
    "# inserting the list at the end of the list\n",
    "myList.insert(-1, 200)"
   ]
  },
  {
   "cell_type": "code",
   "execution_count": 29,
   "id": "a96835bb-547d-4023-b941-266897b11078",
   "metadata": {},
   "outputs": [
    {
     "data": {
      "text/plain": [
       "[100, 3, 2, 40, 3, True, False, 200, 21]"
      ]
     },
     "execution_count": 29,
     "metadata": {},
     "output_type": "execute_result"
    }
   ],
   "source": [
    "myList"
   ]
  },
  {
   "cell_type": "code",
   "execution_count": 30,
   "id": "b45c6e1e-58db-4d28-a7ea-5cf2cb8e3360",
   "metadata": {},
   "outputs": [
    {
     "data": {
      "text/plain": [
       "[100, 3, 2, 40, 3, True, False, 200, 21, 300]"
      ]
     },
     "execution_count": 30,
     "metadata": {},
     "output_type": "execute_result"
    }
   ],
   "source": [
    "# appending an element\n",
    "myList.append(300)\n",
    "myList"
   ]
  },
  {
   "cell_type": "code",
   "execution_count": 31,
   "id": "f2f679fc-ce86-4109-aae1-a7721d1a3de3",
   "metadata": {},
   "outputs": [
    {
     "data": {
      "text/plain": [
       "[100, 3, 2, 40, 3, True, False, 200, 21, 300]"
      ]
     },
     "execution_count": 31,
     "metadata": {},
     "output_type": "execute_result"
    }
   ],
   "source": [
    "myListCopy = myList.copy()\n",
    "myListCopy"
   ]
  },
  {
   "cell_type": "code",
   "execution_count": 32,
   "id": "5fd03564-1779-4800-8ccf-d0032b71c4a2",
   "metadata": {},
   "outputs": [
    {
     "data": {
      "text/plain": [
       "[['hellow', 'how', 'this'], 100, 3, 2, 40, 3, True, False, 200, 21, 300]"
      ]
     },
     "execution_count": 32,
     "metadata": {},
     "output_type": "execute_result"
    }
   ],
   "source": [
    "# inserting other lsit.\n",
    "myListCopy.insert(0, otherList)\n",
    "myListCopy"
   ]
  },
  {
   "cell_type": "code",
   "execution_count": 34,
   "id": "1e2a015c-b213-495c-9af7-f70ed210a99d",
   "metadata": {},
   "outputs": [],
   "source": [
    "myList.extend(otherList)"
   ]
  },
  {
   "cell_type": "code",
   "execution_count": 35,
   "id": "7ab9e912-fdc0-428f-8792-dfd53b176458",
   "metadata": {},
   "outputs": [
    {
     "data": {
      "text/plain": [
       "[100, 3, 2, 40, 3, True, False, 200, 21, 300, 'hellow', 'how', 'this']"
      ]
     },
     "execution_count": 35,
     "metadata": {},
     "output_type": "execute_result"
    }
   ],
   "source": [
    "myList"
   ]
  },
  {
   "cell_type": "markdown",
   "id": "f52ecd69-4650-4d73-8300-7a614408ca4b",
   "metadata": {},
   "source": [
    "**pop and remove**"
   ]
  },
  {
   "cell_type": "code",
   "execution_count": 36,
   "id": "a816247e-70bb-4cfc-8131-4617e115db9f",
   "metadata": {},
   "outputs": [
    {
     "data": {
      "text/plain": [
       "'this'"
      ]
     },
     "execution_count": 36,
     "metadata": {},
     "output_type": "execute_result"
    }
   ],
   "source": [
    "# removing the last element by pop\n",
    "myList.pop()"
   ]
  },
  {
   "cell_type": "code",
   "execution_count": 37,
   "id": "40dc0c66-0c0f-4ec8-b346-2f5df7da3529",
   "metadata": {},
   "outputs": [
    {
     "data": {
      "text/plain": [
       "[100, 3, 2, 40, 3, True, False, 200, 21, 300, 'hellow', 'how']"
      ]
     },
     "execution_count": 37,
     "metadata": {},
     "output_type": "execute_result"
    }
   ],
   "source": [
    "myList"
   ]
  },
  {
   "cell_type": "code",
   "execution_count": 38,
   "id": "b1ffa074-4088-4c79-978d-01f06f6783f3",
   "metadata": {},
   "outputs": [],
   "source": [
    "# removing any value\n",
    "myList.remove(200)"
   ]
  },
  {
   "cell_type": "code",
   "execution_count": 39,
   "id": "75da2018-0708-4db6-bc61-f4c80b531774",
   "metadata": {},
   "outputs": [
    {
     "data": {
      "text/plain": [
       "[100, 3, 2, 40, 3, True, False, 21, 300, 'hellow', 'how']"
      ]
     },
     "execution_count": 39,
     "metadata": {},
     "output_type": "execute_result"
    }
   ],
   "source": [
    "myList"
   ]
  },
  {
   "cell_type": "markdown",
   "id": "57805dc0-f334-4e53-9bb5-e74374d1c4c8",
   "metadata": {},
   "source": [
    "**sort and reverse**"
   ]
  },
  {
   "cell_type": "code",
   "execution_count": 42,
   "id": "ee0cd948-4863-41d4-a627-7b76debfdf29",
   "metadata": {},
   "outputs": [
    {
     "data": {
      "text/plain": [
       "[20, 14, 14, 12, 8, 18, 10, 20, 13, 1]"
      ]
     },
     "execution_count": 42,
     "metadata": {},
     "output_type": "execute_result"
    }
   ],
   "source": [
    "randomList = randomList[:10]\n",
    "randomList"
   ]
  },
  {
   "cell_type": "code",
   "execution_count": 43,
   "id": "a3b06814-1d3c-4edb-b904-0f31fde0bb3e",
   "metadata": {},
   "outputs": [],
   "source": [
    "randomList.sort()"
   ]
  },
  {
   "cell_type": "code",
   "execution_count": 44,
   "id": "56a70ddb-3d31-42dd-9a76-e6d5e3c18594",
   "metadata": {},
   "outputs": [
    {
     "data": {
      "text/plain": [
       "[1, 8, 10, 12, 13, 14, 14, 18, 20, 20]"
      ]
     },
     "execution_count": 44,
     "metadata": {},
     "output_type": "execute_result"
    }
   ],
   "source": [
    "randomList"
   ]
  },
  {
   "cell_type": "code",
   "execution_count": 46,
   "id": "44ae7e83-ceb6-4433-a50e-919dd9534349",
   "metadata": {},
   "outputs": [],
   "source": [
    "randomList.reverse()"
   ]
  },
  {
   "cell_type": "code",
   "execution_count": 47,
   "id": "8eaf868d-c8f1-4f74-bfb8-c5a0aaa7ffad",
   "metadata": {},
   "outputs": [
    {
     "data": {
      "text/plain": [
       "[20, 20, 18, 14, 14, 13, 12, 10, 8, 1]"
      ]
     },
     "execution_count": 47,
     "metadata": {},
     "output_type": "execute_result"
    }
   ],
   "source": [
    "randomList"
   ]
  },
  {
   "cell_type": "code",
   "execution_count": null,
   "id": "0e226c68-5a92-4307-8294-1cde18d0777b",
   "metadata": {},
   "outputs": [],
   "source": []
  }
 ],
 "metadata": {
  "kernelspec": {
   "display_name": "Python 3 (ipykernel)",
   "language": "python",
   "name": "python3"
  },
  "language_info": {
   "codemirror_mode": {
    "name": "ipython",
    "version": 3
   },
   "file_extension": ".py",
   "mimetype": "text/x-python",
   "name": "python",
   "nbconvert_exporter": "python",
   "pygments_lexer": "ipython3",
   "version": "3.10.5"
  }
 },
 "nbformat": 4,
 "nbformat_minor": 5
}
