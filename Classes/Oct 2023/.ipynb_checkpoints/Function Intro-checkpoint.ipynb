{
 "cells": [
  {
   "cell_type": "markdown",
   "id": "ff42da41-c0ab-4598-a85b-56efdb6ce386",
   "metadata": {},
   "source": [
    "# Function\n",
    "\n",
    "**Syntax**\n",
    "```python\n",
    "def function_name(intpu_value #optional):\n",
    "    # statement\n",
    "    return value # optional\n",
    "```"
   ]
  },
  {
   "cell_type": "markdown",
   "id": "f4594d69-c28b-45cf-9b33-cf2293e80a69",
   "metadata": {},
   "source": [
    "**A function to test that given integer is a prime or not**"
   ]
  },
  {
   "cell_type": "code",
   "execution_count": 2,
   "id": "19bc88fa-0f11-4b39-97ca-5c6ecbd6825b",
   "metadata": {},
   "outputs": [],
   "source": [
    "def isPrime(n):\n",
    "    \n",
    "    if n < 1:\n",
    "        return False\n",
    "    \n",
    "    # starting the range from 2 to n-1;\n",
    "    # since range method exclude the stop value.\n",
    "    for i in range(2,n):\n",
    "        # if n completely divisiable from i\n",
    "        # it means number is not prime\n",
    "        if n%i == 0:\n",
    "            return False\n",
    "        \n",
    "    # after testing by each value in range(2,n)\n",
    "    # if any value not able to divide compeletly \n",
    "    # it means our number is prime.\n",
    "    return True\n",
    "        "
   ]
  },
  {
   "cell_type": "markdown",
   "id": "d315c29c-8203-4228-92b2-12ea1a78ef52",
   "metadata": {},
   "source": [
    "**Testing Prime Number**"
   ]
  },
  {
   "cell_type": "code",
   "execution_count": 3,
   "id": "1526c4b9-99e9-4eef-a0a9-d6c9a85776c0",
   "metadata": {},
   "outputs": [
    {
     "data": {
      "text/plain": [
       "True"
      ]
     },
     "execution_count": 3,
     "metadata": {},
     "output_type": "execute_result"
    }
   ],
   "source": [
    "isPrime(7)"
   ]
  },
  {
   "cell_type": "code",
   "execution_count": 4,
   "id": "ca195e04-8731-47b2-8556-faff55b78905",
   "metadata": {},
   "outputs": [
    {
     "data": {
      "text/plain": [
       "False"
      ]
     },
     "execution_count": 4,
     "metadata": {},
     "output_type": "execute_result"
    }
   ],
   "source": [
    "isPrime(12)"
   ]
  },
  {
   "cell_type": "markdown",
   "id": "c09c8b76-e4ac-4a64-a8e1-09366e1d2cee",
   "metadata": {},
   "source": [
    "## A Function to get prime numbert in a range."
   ]
  },
  {
   "cell_type": "code",
   "execution_count": 7,
   "id": "75ee70c5-d410-42de-83b3-ad01ecd95a5a",
   "metadata": {},
   "outputs": [],
   "source": [
    "def primes(start, stop):\n",
    "    primes_ = [] # a list to store all the prime numbers\n",
    "    \n",
    "    for i in range(start, stop):\n",
    "        # if number is prime then apped it to the list.\n",
    "        if isPrime(i):\n",
    "            primes_.append(i)\n",
    "            \n",
    "    # returning all the obtained prime numbers\n",
    "    return primes_"
   ]
  },
  {
   "cell_type": "code",
   "execution_count": 6,
   "id": "c776c82a-8d87-4fc6-9df0-4e4030a39448",
   "metadata": {},
   "outputs": [
    {
     "data": {
      "text/plain": [
       "[23, 29, 31, 37, 41, 43, 47]"
      ]
     },
     "execution_count": 6,
     "metadata": {},
     "output_type": "execute_result"
    }
   ],
   "source": [
    "primes(20,50)"
   ]
  },
  {
   "cell_type": "code",
   "execution_count": 1,
   "id": "048fdec7-6953-4363-8066-999acc15d430",
   "metadata": {},
   "outputs": [],
   "source": [
    "mylist = [23, 29, 31, 37, 41, 43, 47]"
   ]
  },
  {
   "cell_type": "code",
   "execution_count": 4,
   "id": "7c295ff9-17b3-48ab-8a65-5687ab203b01",
   "metadata": {},
   "outputs": [
    {
     "name": "stdout",
     "output_type": "stream",
     "text": [
      "[23, 29, 31, 37, 41, 43, 47]\n"
     ]
    }
   ],
   "source": [
    "new_list = []\n",
    "for i in mylist:\n",
    "    new_list.append(i)\n",
    "    # print(new_list)\n",
    "print(new_list)"
   ]
  },
  {
   "cell_type": "code",
   "execution_count": 5,
   "id": "ae43b90e-cf64-4f68-b9bd-6fc7bf66828c",
   "metadata": {},
   "outputs": [
    {
     "name": "stdout",
     "output_type": "stream",
     "text": [
      "['*']\n",
      "['*', '*']\n",
      "['*', '*', '*']\n",
      "['*', '*', '*', '*']\n",
      "['*', '*', '*', '*', '*']\n",
      "['*', '*', '*', '*', '*', '*']\n",
      "['*', '*', '*', '*', '*', '*', '*']\n",
      "['*', '*', '*', '*', '*', '*', '*', '*']\n",
      "['*', '*', '*', '*', '*', '*', '*', '*', '*']\n",
      "['*', '*', '*', '*', '*', '*', '*', '*', '*', '*']\n"
     ]
    }
   ],
   "source": [
    "my_stars = []\n",
    "for i in range(10):\n",
    "    my_stars.append(\"*\")\n",
    "    print(my_stars)"
   ]
  },
  {
   "cell_type": "code",
   "execution_count": 7,
   "id": "85548b57-e3bb-4a29-bb34-8523d1dae176",
   "metadata": {},
   "outputs": [
    {
     "ename": "IndentationError",
     "evalue": "unindent does not match any outer indentation level (<tokenize>, line 10)",
     "output_type": "error",
     "traceback": [
      "\u001b[1;36m  File \u001b[1;32m<tokenize>:10\u001b[1;36m\u001b[0m\n\u001b[1;33m    print(\"\")\u001b[0m\n\u001b[1;37m    ^\u001b[0m\n\u001b[1;31mIndentationError\u001b[0m\u001b[1;31m:\u001b[0m unindent does not match any outer indentation level\n"
     ]
    }
   ],
   "source": [
    "def rightAngle_start_pattern(nrows):\n",
    "    \n",
    "    #outer loop\n",
    "    for i in range(nrows):\n",
    "    \n",
    "        #inner loop\n",
    "        for j in range(nrows):\n",
    "            if j <= i:\n",
    "                print(\"*\")\n",
    "                break\n",
    "            \n",
    "        print(\"\")"
   ]
  },
  {
   "cell_type": "code",
   "execution_count": null,
   "id": "69161fa5-d2e9-42fb-afa6-510ee400c014",
   "metadata": {},
   "outputs": [],
   "source": []
  }
 ],
 "metadata": {
  "kernelspec": {
   "display_name": "Python 3 (ipykernel)",
   "language": "python",
   "name": "python3"
  },
  "language_info": {
   "codemirror_mode": {
    "name": "ipython",
    "version": 3
   },
   "file_extension": ".py",
   "mimetype": "text/x-python",
   "name": "python",
   "nbconvert_exporter": "python",
   "pygments_lexer": "ipython3",
   "version": "3.10.5"
  }
 },
 "nbformat": 4,
 "nbformat_minor": 5
}
