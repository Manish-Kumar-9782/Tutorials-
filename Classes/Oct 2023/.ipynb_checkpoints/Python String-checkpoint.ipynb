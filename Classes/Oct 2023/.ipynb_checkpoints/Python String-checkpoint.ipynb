{
 "cells": [
  {
   "cell_type": "code",
   "execution_count": 2,
   "id": "b3565c53-09e3-4541-b1cc-0801ef8e8e2c",
   "metadata": {},
   "outputs": [],
   "source": [
    "string1 = \"Hello how are you.\"\n",
    "# string is a sequence of characters.\n",
    "# string is immutable data type."
   ]
  },
  {
   "cell_type": "code",
   "execution_count": 5,
   "id": "72fe1cb1-755b-49fd-bae8-542d7be4ec5a",
   "metadata": {},
   "outputs": [
    {
     "ename": "TypeError",
     "evalue": "'str' object does not support item assignment",
     "output_type": "error",
     "traceback": [
      "\u001b[1;31m---------------------------------------------------------------------------\u001b[0m",
      "\u001b[1;31mTypeError\u001b[0m                                 Traceback (most recent call last)",
      "Cell \u001b[1;32mIn [5], line 1\u001b[0m\n\u001b[1;32m----> 1\u001b[0m \u001b[43mstring1\u001b[49m\u001b[43m[\u001b[49m\u001b[38;5;241;43m2\u001b[39;49m\u001b[43m]\u001b[49m \u001b[38;5;241m=\u001b[39m \u001b[38;5;124m\"\u001b[39m\u001b[38;5;124mx\u001b[39m\u001b[38;5;124m\"\u001b[39m\n",
      "\u001b[1;31mTypeError\u001b[0m: 'str' object does not support item assignment"
     ]
    }
   ],
   "source": [
    "string1[2] = \"x\"\n",
    "# changing inplace"
   ]
  },
  {
   "cell_type": "markdown",
   "id": "4d12376d-defd-4386-b603-1cf7faf63578",
   "metadata": {},
   "source": [
    "**find method**"
   ]
  },
  {
   "cell_type": "code",
   "execution_count": 7,
   "id": "28284fa2-d937-43f9-acea-267607c5966d",
   "metadata": {},
   "outputs": [
    {
     "data": {
      "text/plain": [
       "\u001b[1;31mDocstring:\u001b[0m\n",
       "S.find(sub[, start[, end]]) -> int\n",
       "\n",
       "Return the lowest index in S where substring sub is found,\n",
       "such that sub is contained within S[start:end].  Optional\n",
       "arguments start and end are interpreted as in slice notation.\n",
       "\n",
       "Return -1 on failure.\n",
       "\u001b[1;31mType:\u001b[0m      method_descriptor\n"
      ]
     },
     "metadata": {},
     "output_type": "display_data"
    }
   ],
   "source": [
    "# short description of the find method.\n",
    "str.find?"
   ]
  },
  {
   "cell_type": "code",
   "execution_count": 8,
   "id": "15e82c29-11f2-4a4e-8bae-d3b170cc69e5",
   "metadata": {},
   "outputs": [
    {
     "name": "stdout",
     "output_type": "stream",
     "text": [
      "Hello how are you.\n"
     ]
    }
   ],
   "source": [
    "print(string1)"
   ]
  },
  {
   "cell_type": "code",
   "execution_count": 9,
   "id": "55049d73-fd84-403b-8f4e-8df34ec2cfce",
   "metadata": {},
   "outputs": [
    {
     "data": {
      "text/plain": [
       "1"
      ]
     },
     "execution_count": 9,
     "metadata": {},
     "output_type": "execute_result"
    }
   ],
   "source": [
    "# find the index number of 'e'.\n",
    "# range(0, len(string1))\n",
    "string1.find('e')"
   ]
  },
  {
   "cell_type": "code",
   "execution_count": null,
   "id": "2a175818-1dcf-4d9f-972a-54201851f5dd",
   "metadata": {},
   "outputs": [],
   "source": []
  }
 ],
 "metadata": {
  "kernelspec": {
   "display_name": "Python 3 (ipykernel)",
   "language": "python",
   "name": "python3"
  },
  "language_info": {
   "codemirror_mode": {
    "name": "ipython",
    "version": 3
   },
   "file_extension": ".py",
   "mimetype": "text/x-python",
   "name": "python",
   "nbconvert_exporter": "python",
   "pygments_lexer": "ipython3",
   "version": "3.10.5"
  }
 },
 "nbformat": 4,
 "nbformat_minor": 5
}
