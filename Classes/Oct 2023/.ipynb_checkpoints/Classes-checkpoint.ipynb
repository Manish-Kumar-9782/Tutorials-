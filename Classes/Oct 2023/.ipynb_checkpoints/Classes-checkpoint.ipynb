{
 "cells": [
  {
   "cell_type": "code",
   "execution_count": 1,
   "id": "051baa26-cef3-4890-ae1d-ffc42b4f6bd2",
   "metadata": {},
   "outputs": [],
   "source": [
    "# class name must be capitalized.\n",
    "class Myclass:\n",
    "    \n",
    "    # now first of all create a method named as __init__\n",
    "    def __init__(self, value1, value2):\n",
    "        \n",
    "        print(\"MyClass object created...\")\n",
    "        \n",
    "        self.value1 = value1 # initializing attribute\n",
    "        \n",
    "        _value2 = value2 # initializing a local variable.\n",
    "    "
   ]
  },
  {
   "cell_type": "code",
   "execution_count": 2,
   "id": "3563f6ca-2920-4550-9911-e2380d5efb22",
   "metadata": {},
   "outputs": [
    {
     "ename": "TypeError",
     "evalue": "Myclass.__init__() missing 2 required positional arguments: 'value1' and 'value2'",
     "output_type": "error",
     "traceback": [
      "\u001b[1;31m---------------------------------------------------------------------------\u001b[0m",
      "\u001b[1;31mTypeError\u001b[0m                                 Traceback (most recent call last)",
      "Cell \u001b[1;32mIn [2], line 1\u001b[0m\n\u001b[1;32m----> 1\u001b[0m myclass_object \u001b[38;5;241m=\u001b[39m \u001b[43mMyclass\u001b[49m\u001b[43m(\u001b[49m\u001b[43m)\u001b[49m\n",
      "\u001b[1;31mTypeError\u001b[0m: Myclass.__init__() missing 2 required positional arguments: 'value1' and 'value2'"
     ]
    }
   ],
   "source": [
    "myclass_object = Myclass()"
   ]
  },
  {
   "cell_type": "code",
   "execution_count": 8,
   "id": "ef8a7819-9fb7-4845-8325-86217a651d39",
   "metadata": {},
   "outputs": [
    {
     "name": "stdout",
     "output_type": "stream",
     "text": [
      "MyClass object created...\n"
     ]
    }
   ],
   "source": [
    "# solving the above error\n",
    "# note, we need to pass the value1 and value2 arguments \n",
    "myclass_object = Myclass(10,20)"
   ]
  },
  {
   "cell_type": "code",
   "execution_count": 9,
   "id": "aa036acf-250c-419e-8724-b6a35ed29730",
   "metadata": {},
   "outputs": [
    {
     "data": {
      "text/plain": [
       "10"
      ]
     },
     "execution_count": 9,
     "metadata": {},
     "output_type": "execute_result"
    }
   ],
   "source": [
    "# accessing the object attribute value1.\n",
    "myclass_object.value1"
   ]
  },
  {
   "cell_type": "code",
   "execution_count": 10,
   "id": "d2dc5751-67e8-4dc5-92d5-5921c0e3883c",
   "metadata": {},
   "outputs": [
    {
     "ename": "AttributeError",
     "evalue": "'Myclass' object has no attribute '_value2'",
     "output_type": "error",
     "traceback": [
      "\u001b[1;31m---------------------------------------------------------------------------\u001b[0m",
      "\u001b[1;31mAttributeError\u001b[0m                            Traceback (most recent call last)",
      "Cell \u001b[1;32mIn [10], line 2\u001b[0m\n\u001b[0;32m      1\u001b[0m \u001b[38;5;66;03m# accessing the object local variable _value2\u001b[39;00m\n\u001b[1;32m----> 2\u001b[0m \u001b[43mmyclass_object\u001b[49m\u001b[38;5;241;43m.\u001b[39;49m\u001b[43m_value2\u001b[49m\n",
      "\u001b[1;31mAttributeError\u001b[0m: 'Myclass' object has no attribute '_value2'"
     ]
    }
   ],
   "source": [
    "# accessing the object local variable _value2\n",
    "myclass_object._value2"
   ]
  },
  {
   "cell_type": "markdown",
   "id": "a587a565-56de-4fff-982f-af53a857b03c",
   "metadata": {},
   "source": [
    "**Creating Another class**"
   ]
  },
  {
   "cell_type": "code",
   "execution_count": 3,
   "id": "c5f8c9d9-408d-4a79-ace0-159d506c8ba8",
   "metadata": {},
   "outputs": [],
   "source": [
    "# creating a c\n",
    "class Triangle:\n",
    "    \n",
    "    def __init__(self, a,b,c):\n",
    "        self.sideA = a\n",
    "        self.sideB = b\n",
    "        self.sideC = c\n",
    "    \n",
    "    # calculate the perimeter\n",
    "    def perimeter(self):\n",
    "        return self.sideA + self.sideB + self.sideC\n",
    "    \n",
    "    # a method to calculate the trianble area\n",
    "    def area(self):\n",
    "        # triable area : ab/2\n",
    "        return (self.sideA*self.sideB)/2\n",
    "    "
   ]
  },
  {
   "cell_type": "code",
   "execution_count": 5,
   "id": "e92cdb7a-da5d-4a07-92b6-8be37c6f5d7d",
   "metadata": {},
   "outputs": [],
   "source": [
    "triA = Triangle(10,20,30)"
   ]
  },
  {
   "cell_type": "code",
   "execution_count": 6,
   "id": "6ccae116-8dc2-4401-adb5-0a08952694d3",
   "metadata": {},
   "outputs": [
    {
     "data": {
      "text/plain": [
       "60"
      ]
     },
     "execution_count": 6,
     "metadata": {},
     "output_type": "execute_result"
    }
   ],
   "source": [
    "triA.perimeter()"
   ]
  },
  {
   "cell_type": "code",
   "execution_count": 7,
   "id": "9be2d506-31f5-4262-bd0d-8c15cb119c4f",
   "metadata": {},
   "outputs": [
    {
     "data": {
      "text/plain": [
       "100.0"
      ]
     },
     "execution_count": 7,
     "metadata": {},
     "output_type": "execute_result"
    }
   ],
   "source": [
    "triA.area()"
   ]
  },
  {
   "cell_type": "code",
   "execution_count": 8,
   "id": "26a658f7-31d1-4114-bd7a-345094dd8df7",
   "metadata": {},
   "outputs": [
    {
     "data": {
      "text/plain": [
       "10"
      ]
     },
     "execution_count": 8,
     "metadata": {},
     "output_type": "execute_result"
    }
   ],
   "source": [
    "triA.sideA"
   ]
  },
  {
   "cell_type": "code",
   "execution_count": 9,
   "id": "ef876445-a641-49dc-8bde-56acbe8b1191",
   "metadata": {},
   "outputs": [
    {
     "data": {
      "text/plain": [
       "20"
      ]
     },
     "execution_count": 9,
     "metadata": {},
     "output_type": "execute_result"
    }
   ],
   "source": [
    "triA.sideB"
   ]
  },
  {
   "cell_type": "code",
   "execution_count": 10,
   "id": "9adaf90f-e599-4de4-96a1-f3b9c512c3e6",
   "metadata": {},
   "outputs": [
    {
     "data": {
      "text/plain": [
       "30"
      ]
     },
     "execution_count": 10,
     "metadata": {},
     "output_type": "execute_result"
    }
   ],
   "source": [
    "triA.sideC"
   ]
  },
  {
   "cell_type": "code",
   "execution_count": 41,
   "id": "38306da3-04d5-43af-991f-6cdedf3a1a79",
   "metadata": {},
   "outputs": [],
   "source": [
    "class Circle:\n",
    "    \n",
    "    def __init__(self, r):\n",
    "        self.radius = r\n",
    "        \n",
    "    def perimeter(self):\n",
    "        return 2*3.14*self.radius\n",
    "    \n",
    "    def area(self):\n",
    "        return 3.14 * self.radius**2\n",
    "    "
   ]
  },
  {
   "cell_type": "code",
   "execution_count": 48,
   "id": "9549c5b6-782d-4cc9-ac0b-a265c1cf8e14",
   "metadata": {},
   "outputs": [],
   "source": [
    "cir2 = Circle(3)"
   ]
  },
  {
   "cell_type": "code",
   "execution_count": 49,
   "id": "24ae4b2d-cdc7-4de4-bf30-94f4689d0e6f",
   "metadata": {},
   "outputs": [
    {
     "data": {
      "text/plain": [
       "18.84"
      ]
     },
     "execution_count": 49,
     "metadata": {},
     "output_type": "execute_result"
    }
   ],
   "source": [
    "cir2.perimeter()"
   ]
  },
  {
   "cell_type": "code",
   "execution_count": 50,
   "id": "8f52a38e-9704-4a88-94c9-4d786794fcac",
   "metadata": {},
   "outputs": [
    {
     "data": {
      "text/plain": [
       "28.26"
      ]
     },
     "execution_count": 50,
     "metadata": {},
     "output_type": "execute_result"
    }
   ],
   "source": [
    "cir2.area()"
   ]
  },
  {
   "cell_type": "markdown",
   "id": "9766c4e1-ba10-4368-9119-3227e1a2ddcf",
   "metadata": {},
   "source": [
    "## Inheritance\n",
    "\n",
    "**syntax**\n",
    "```python\n",
    "class subClass_name(parent_class_name):\n",
    "    \n",
    "    def __init__(self, arguments):\n",
    "        super().__init__(arguments)\n",
    "        \n",
    "        # other statements\n",
    "```"
   ]
  },
  {
   "cell_type": "code",
   "execution_count": 1,
   "id": "c8ef55b3-0b06-4e81-b0ad-d36ee07ed3fb",
   "metadata": {},
   "outputs": [],
   "source": [
    "from time import sleep\n",
    "class AutoMobile:\n",
    "    \n",
    "    def __init__(self, name):\n",
    "        self.name = name\n",
    "        self.engine = \"type1\"\n",
    "        self.break_ = \"type1\"\n",
    "        self.emoji =  '🚗'\n",
    "        \n",
    "    def start(self):\n",
    "        print(f\"{self.name} is starting ... brrr ghrrr\")\n",
    "        \n",
    "    def move(self):\n",
    "        print(f\"{self.name} is moving .. hmmmmm\")\n",
    "        \n",
    "        # intial distance by single character.\n",
    "        pos = \"\"\n",
    "        for i in range(100):\n",
    "            pos += \"-\"\n",
    "\n",
    "            print(pos+self.emoji,end=\"\\r\")\n",
    "            sleep(0.1)\n",
    "            \n",
    "        self.stop()\n",
    "            \n",
    "    def stop(self):\n",
    "        print(f\"{self.name} stopped...\");"
   ]
  },
  {
   "cell_type": "code",
   "execution_count": 4,
   "id": "a77c3c37-0bae-450b-bf60-e2c335d91591",
   "metadata": {},
   "outputs": [],
   "source": [
    "am = AutoMobile(\"Truck\")"
   ]
  },
  {
   "cell_type": "code",
   "execution_count": 5,
   "id": "2995ee22-d178-4afa-b851-1b569c0d444f",
   "metadata": {},
   "outputs": [],
   "source": [
    "am2 = AutoMobile(\"Bus\")"
   ]
  },
  {
   "cell_type": "code",
   "execution_count": 7,
   "id": "c6a70de2-b210-4640-bfbd-eafe2459208f",
   "metadata": {},
   "outputs": [
    {
     "data": {
      "text/plain": [
       "('Truck', 'Bus')"
      ]
     },
     "execution_count": 7,
     "metadata": {},
     "output_type": "execute_result"
    }
   ],
   "source": [
    "am.name, am2.name"
   ]
  },
  {
   "cell_type": "code",
   "execution_count": 8,
   "id": "b9b4423a-4a98-485a-8610-7ac90d959411",
   "metadata": {},
   "outputs": [
    {
     "name": "stdout",
     "output_type": "stream",
     "text": [
      "am engine:  type1\n",
      "am2 engine:  type1\n"
     ]
    }
   ],
   "source": [
    "print(\"am engine: \", am.engine)\n",
    "print(\"am2 engine: \", am2.engine)"
   ]
  },
  {
   "cell_type": "code",
   "execution_count": 62,
   "id": "23718661-a8ff-41b4-9613-c25d9f2fb6f4",
   "metadata": {},
   "outputs": [
    {
     "name": "stdout",
     "output_type": "stream",
     "text": [
      "MyAuto is moving .. hmmmmm\n",
      "MyAuto stopped...-----------------------------------------------------------------------------------🚗\n"
     ]
    }
   ],
   "source": [
    "am.move()"
   ]
  },
  {
   "cell_type": "markdown",
   "id": "655a0a93-0984-4fbe-bd5b-50fb9fe15988",
   "metadata": {},
   "source": [
    "## Creating a SubClass Bike"
   ]
  },
  {
   "cell_type": "code",
   "execution_count": 56,
   "id": "82614291-90df-4ab0-af09-9a1edd574b04",
   "metadata": {},
   "outputs": [],
   "source": [
    "class Bike(AutoMobile):\n",
    "    \n",
    "    def __init__(self, name):\n",
    "        super().__init__(name)\n",
    "        self.emoji = \"🛵\"\n",
    "    "
   ]
  },
  {
   "cell_type": "code",
   "execution_count": 57,
   "id": "5514e0fa-9ec1-4e3b-b295-b5b98c475cf3",
   "metadata": {},
   "outputs": [],
   "source": [
    "scooter = Bike(\"Lml_vespa\")"
   ]
  },
  {
   "cell_type": "code",
   "execution_count": 58,
   "id": "d0a32a88-7916-4dbb-9f9f-b52480f2a2b3",
   "metadata": {},
   "outputs": [
    {
     "name": "stdout",
     "output_type": "stream",
     "text": [
      "Lml_vespa is starting ... brrr ghrrr\n",
      "Lml_vespa is moving .. hmmmmm\n",
      "Lml_vespa stopped...--------------------------------------------------------------------------------🛵\n"
     ]
    }
   ],
   "source": [
    "scooter.start()\n",
    "scooter.move()"
   ]
  },
  {
   "cell_type": "code",
   "execution_count": null,
   "id": "a7d29856-a5e0-42e9-bf1c-9d516e09a8b2",
   "metadata": {},
   "outputs": [],
   "source": []
  }
 ],
 "metadata": {
  "kernelspec": {
   "display_name": "Python 3 (ipykernel)",
   "language": "python",
   "name": "python3"
  },
  "language_info": {
   "codemirror_mode": {
    "name": "ipython",
    "version": 3
   },
   "file_extension": ".py",
   "mimetype": "text/x-python",
   "name": "python",
   "nbconvert_exporter": "python",
   "pygments_lexer": "ipython3",
   "version": "3.10.5"
  }
 },
 "nbformat": 4,
 "nbformat_minor": 5
}
