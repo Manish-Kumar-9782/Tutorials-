{
 "cells": [
  {
   "cell_type": "markdown",
   "id": "e724b13e-7a04-4e8f-a73c-3e69e98181b2",
   "metadata": {},
   "source": [
    "## Conditional Statement"
   ]
  },
  {
   "cell_type": "code",
   "execution_count": 1,
   "id": "7300d605-4716-4771-97ac-d26346887d4a",
   "metadata": {},
   "outputs": [],
   "source": [
    "a = 20\n",
    "b = 10"
   ]
  },
  {
   "cell_type": "markdown",
   "id": "32d7ec56-e022-4214-8c00-f11c678ebc7e",
   "metadata": {
    "tags": []
   },
   "source": [
    "## single condition \n",
    "\n",
    "```python\n",
    "if expression:\n",
    "    # first statement (inside if)\n",
    "    # second statement (inside if)\n",
    "    # third statement (inside if)\n",
    "    \n",
    "# another statement (outside the if)\n",
    "```"
   ]
  },
  {
   "cell_type": "code",
   "execution_count": 2,
   "id": "9b1e933a-5ffb-47c2-8ad9-5b57163dcaf3",
   "metadata": {},
   "outputs": [
    {
     "name": "stdout",
     "output_type": "stream",
     "text": [
      "a is greater than b\n"
     ]
    }
   ],
   "source": [
    "if a > b:\n",
    "    print(\"a is greater than b\")"
   ]
  },
  {
   "cell_type": "markdown",
   "id": "cad9b2c1-495e-40a7-ac8a-e7ffd21aa40d",
   "metadata": {},
   "source": [
    "## Two Condition (if - else )\n",
    "\n",
    "```python\n",
    "if expression:\n",
    "    # first statement (inside if)\n",
    "    # second statement (inside if)\n",
    "    # third statement (inside if)\n",
    "else:\n",
    "    # first statement (inside else)\n",
    "    # second statement (inside else)\n",
    "    # third statement (inside else)\n",
    "    \n",
    "# another statement (outside the if)\n",
    "```\n",
    "    "
   ]
  },
  {
   "cell_type": "code",
   "execution_count": 3,
   "id": "02e1d318-fed7-40ba-b74a-8ab336b25638",
   "metadata": {},
   "outputs": [
    {
     "name": "stdout",
     "output_type": "stream",
     "text": [
      "a is not greater than b\n"
     ]
    }
   ],
   "source": [
    "a = 10\n",
    "b = 20\n",
    "\n",
    "if a>b:\n",
    "    print(\"a is greater than b\")\n",
    "else:\n",
    "    print(\"a is not greater than b\")"
   ]
  },
  {
   "cell_type": "code",
   "execution_count": 4,
   "id": "b3c91b05-3be0-4927-80b0-947d7b70b95a",
   "metadata": {},
   "outputs": [
    {
     "data": {
      "text/plain": [
       "False"
      ]
     },
     "execution_count": 4,
     "metadata": {},
     "output_type": "execute_result"
    }
   ],
   "source": [
    "a > b"
   ]
  },
  {
   "cell_type": "markdown",
   "id": "dea138ea-647c-49c0-8ef9-989ac0064930",
   "metadata": {},
   "source": [
    "## multiple condition (if -elif condition)\n",
    "\n",
    "```python\n",
    "if expression:\n",
    "    # first statement (inside if)\n",
    "    # second statement (inside if)\n",
    "    # third statement (inside if)\n",
    "# other satement    X  (don't write any statment outside the if)\n",
    "elif expression:\n",
    "    # first statement (inside elif)\n",
    "    # second statement (inside elif)\n",
    "    # third statement (inside elif)\n",
    "    \n",
    "else:\n",
    "    # first statement (inside else)\n",
    "    # second statement (inside else)\n",
    "    # third statement (inside else)\n",
    "    \n",
    "# another statement (outside the if)\n",
    "```"
   ]
  },
  {
   "cell_type": "code",
   "execution_count": 5,
   "id": "dce13849-2829-4d09-8adc-75eb35e0239e",
   "metadata": {},
   "outputs": [
    {
     "name": "stdout",
     "output_type": "stream",
     "text": [
      "a is less than b\n"
     ]
    }
   ],
   "source": [
    "if a > b:\n",
    "    print(\"a is greater than b\")\n",
    "elif a < b:\n",
    "    print(\"a is less than b\")\n",
    "else:\n",
    "    print(\"a is equal to b\")"
   ]
  },
  {
   "cell_type": "code",
   "execution_count": null,
   "id": "7bed9581-26c4-4d5b-8e6a-e8cc5bfb5959",
   "metadata": {},
   "outputs": [],
   "source": []
  },
  {
   "cell_type": "code",
   "execution_count": 6,
   "id": "f9c24981-8cc4-4f8c-a674-0c8532acfe37",
   "metadata": {},
   "outputs": [],
   "source": [
    "a = 10\n",
    "b = 20\n",
    "c = 30"
   ]
  },
  {
   "cell_type": "code",
   "execution_count": 7,
   "id": "2b66347a-229e-4a4a-9a4f-449abfebc3eb",
   "metadata": {},
   "outputs": [
    {
     "data": {
      "text/plain": [
       "True"
      ]
     },
     "execution_count": 7,
     "metadata": {},
     "output_type": "execute_result"
    }
   ],
   "source": [
    "c>b>a"
   ]
  },
  {
   "cell_type": "code",
   "execution_count": 8,
   "id": "721d2416-914b-4faa-b95f-744a24c0dcef",
   "metadata": {},
   "outputs": [
    {
     "data": {
      "text/plain": [
       "False"
      ]
     },
     "execution_count": 8,
     "metadata": {},
     "output_type": "execute_result"
    }
   ],
   "source": [
    "a>b>c"
   ]
  },
  {
   "cell_type": "code",
   "execution_count": 10,
   "id": "d472237e-4e1f-40b4-850d-68c03ab15ebb",
   "metadata": {},
   "outputs": [
    {
     "data": {
      "text/plain": [
       "False"
      ]
     },
     "execution_count": 10,
     "metadata": {},
     "output_type": "execute_result"
    }
   ],
   "source": [
    "b>a>c"
   ]
  },
  {
   "cell_type": "code",
   "execution_count": 11,
   "id": "4b0e6ac5-bd1d-40ee-baba-c8a3f9132b53",
   "metadata": {},
   "outputs": [
    {
     "data": {
      "text/plain": [
       "True"
      ]
     },
     "execution_count": 11,
     "metadata": {},
     "output_type": "execute_result"
    }
   ],
   "source": [
    "b>a"
   ]
  },
  {
   "cell_type": "code",
   "execution_count": 12,
   "id": "59225cba-8d8d-40d8-9ed7-957a249046e5",
   "metadata": {},
   "outputs": [
    {
     "data": {
      "text/plain": [
       "False"
      ]
     },
     "execution_count": 12,
     "metadata": {},
     "output_type": "execute_result"
    }
   ],
   "source": [
    "a>c"
   ]
  },
  {
   "cell_type": "code",
   "execution_count": 13,
   "id": "a09510f5-7302-4953-9977-ca4216fd2d16",
   "metadata": {},
   "outputs": [
    {
     "data": {
      "text/plain": [
       "True"
      ]
     },
     "execution_count": 13,
     "metadata": {},
     "output_type": "execute_result"
    }
   ],
   "source": [
    "True > False"
   ]
  },
  {
   "cell_type": "code",
   "execution_count": 14,
   "id": "223e0530-a728-455c-a473-ee7317073208",
   "metadata": {},
   "outputs": [
    {
     "data": {
      "text/plain": [
       "False"
      ]
     },
     "execution_count": 14,
     "metadata": {},
     "output_type": "execute_result"
    }
   ],
   "source": [
    "False > True"
   ]
  },
  {
   "cell_type": "code",
   "execution_count": 15,
   "id": "5010fb33-acca-4604-9ef2-9be94ee0acd5",
   "metadata": {},
   "outputs": [
    {
     "data": {
      "text/plain": [
       "False"
      ]
     },
     "execution_count": 15,
     "metadata": {},
     "output_type": "execute_result"
    }
   ],
   "source": [
    "a>c"
   ]
  },
  {
   "cell_type": "code",
   "execution_count": 16,
   "id": "781c8c32-bf07-40aa-8a1c-7c68705a107a",
   "metadata": {},
   "outputs": [
    {
     "data": {
      "text/plain": [
       "True"
      ]
     },
     "execution_count": 16,
     "metadata": {},
     "output_type": "execute_result"
    }
   ],
   "source": [
    "b > False"
   ]
  },
  {
   "cell_type": "code",
   "execution_count": 18,
   "id": "ef95668b-c107-43da-a233-3d18d785dfcc",
   "metadata": {},
   "outputs": [
    {
     "data": {
      "text/plain": [
       "False"
      ]
     },
     "execution_count": 18,
     "metadata": {},
     "output_type": "execute_result"
    }
   ],
   "source": [
    "a = 10\n",
    "b = 40\n",
    "c = 30\n",
    "b>a and b<c"
   ]
  },
  {
   "cell_type": "code",
   "execution_count": null,
   "id": "898dc2c6-8c2d-48ff-9ce2-07e187bcccd3",
   "metadata": {},
   "outputs": [],
   "source": []
  }
 ],
 "metadata": {
  "kernelspec": {
   "display_name": "Python 3 (ipykernel)",
   "language": "python",
   "name": "python3"
  },
  "language_info": {
   "codemirror_mode": {
    "name": "ipython",
    "version": 3
   },
   "file_extension": ".py",
   "mimetype": "text/x-python",
   "name": "python",
   "nbconvert_exporter": "python",
   "pygments_lexer": "ipython3",
   "version": "3.10.5"
  }
 },
 "nbformat": 4,
 "nbformat_minor": 5
}
