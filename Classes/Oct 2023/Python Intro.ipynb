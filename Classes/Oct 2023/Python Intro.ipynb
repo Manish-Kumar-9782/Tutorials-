{
 "cells": [
  {
   "cell_type": "markdown",
   "id": "d42f713b-1a81-4e2b-be8c-2a3495a23554",
   "metadata": {},
   "source": [
    "## Logical Operator\n",
    "\n",
    "**AND Operator**"
   ]
  },
  {
   "cell_type": "code",
   "execution_count": 1,
   "id": "33163422-e150-4948-aac6-6b91de7a12c7",
   "metadata": {},
   "outputs": [
    {
     "name": "stdout",
     "output_type": "stream",
     "text": [
      "you can go to college:  True\n",
      "next day, you can go to college:  False\n"
     ]
    }
   ],
   "source": [
    "# and operator\n",
    "\n",
    "# suppose that you want to go to your college by your Bike.\n",
    "# for that your bike must be start,\n",
    "#  1. you must have the bike key.\n",
    "#  2. bike must have some fuel.\n",
    "isKey = True\n",
    "isFuel = True\n",
    "\n",
    "# can you go to your college via bike.\n",
    "print(\"you can go to college: \", isKey and isFuel)\n",
    "\n",
    "\n",
    "# suppose that next day, fuel is very very low in your bike\n",
    "isKey = True\n",
    "isFuel = False\n",
    "\n",
    "print(\"next day, you can go to college: \", isKey and isFuel)"
   ]
  },
  {
   "cell_type": "markdown",
   "id": "7b28f679-3e61-4ecf-adef-1633aff6f255",
   "metadata": {},
   "source": [
    "**OR Operator**"
   ]
  },
  {
   "cell_type": "code",
   "execution_count": 2,
   "id": "37cbdcb9-3143-4d6c-92b7-aae258fdc9b7",
   "metadata": {},
   "outputs": [
    {
     "name": "stdout",
     "output_type": "stream",
     "text": [
      "you can go to college:  True\n",
      "next day, you can go to college:  True\n"
     ]
    }
   ],
   "source": [
    "# and operator\n",
    "\n",
    "# suppose that you want to go to your college by your Bike or by a public Bus.\n",
    "# condition: \n",
    "#  1. bike must be start or \n",
    "#  2. you must catch the Bus,\n",
    "\n",
    "isBike = True\n",
    "isBus = True\n",
    "\n",
    "# can you go to your college via bike.\n",
    "print(\"you can go to college: \", isBike or isBus)\n",
    "\n",
    "\n",
    "# suppose that next day, fuel is very very low in your bike\n",
    "isBike = True\n",
    "isBus = False\n",
    "\n",
    "print(\"next day, you can go to college: \", isBike or isBus)"
   ]
  },
  {
   "cell_type": "code",
   "execution_count": 3,
   "id": "b3f761f3-9e06-45ab-9d02-c5abcdf187de",
   "metadata": {},
   "outputs": [
    {
     "data": {
      "text/plain": [
       "False"
      ]
     },
     "execution_count": 3,
     "metadata": {},
     "output_type": "execute_result"
    }
   ],
   "source": [
    "not True"
   ]
  },
  {
   "cell_type": "code",
   "execution_count": 4,
   "id": "03c24549-3c67-4aab-a670-4aea6a46a5b9",
   "metadata": {},
   "outputs": [
    {
     "data": {
      "text/plain": [
       "True"
      ]
     },
     "execution_count": 4,
     "metadata": {},
     "output_type": "execute_result"
    }
   ],
   "source": [
    "not False"
   ]
  },
  {
   "cell_type": "markdown",
   "id": "94da9919-ac4e-4612-8eba-224009c80cc2",
   "metadata": {},
   "source": [
    "## Assignment Operator"
   ]
  },
  {
   "cell_type": "code",
   "execution_count": 5,
   "id": "d3a06ee3-9178-4525-8e33-84d722474ac3",
   "metadata": {},
   "outputs": [],
   "source": [
    "var = 10"
   ]
  },
  {
   "cell_type": "code",
   "execution_count": null,
   "id": "698981ce-f3d2-460c-90e2-af4a12b811c5",
   "metadata": {},
   "outputs": [],
   "source": [
    "var += 8   # var = var + 8"
   ]
  },
  {
   "cell_type": "code",
   "execution_count": 6,
   "id": "b7e1665c-0808-4b05-b4fd-f7dd404799a9",
   "metadata": {},
   "outputs": [
    {
     "data": {
      "text/plain": [
       "18"
      ]
     },
     "execution_count": 6,
     "metadata": {},
     "output_type": "execute_result"
    }
   ],
   "source": [
    "var + 8"
   ]
  },
  {
   "cell_type": "code",
   "execution_count": 7,
   "id": "f0e283ab-3053-4724-ad52-e85fa04c6e0c",
   "metadata": {},
   "outputs": [],
   "source": [
    "var = 8"
   ]
  },
  {
   "cell_type": "code",
   "execution_count": 8,
   "id": "158946b9-4357-499a-9d14-946cea4afb48",
   "metadata": {},
   "outputs": [
    {
     "data": {
      "text/plain": [
       "8"
      ]
     },
     "execution_count": 8,
     "metadata": {},
     "output_type": "execute_result"
    }
   ],
   "source": [
    "var"
   ]
  },
  {
   "cell_type": "code",
   "execution_count": 9,
   "id": "d223451a-10bc-4489-b6e4-3c12cadcbc54",
   "metadata": {},
   "outputs": [],
   "source": [
    "## var = var + 8 # var += 8"
   ]
  },
  {
   "cell_type": "markdown",
   "id": "e91198c7-e534-4bd9-abeb-e3f6ae8897ba",
   "metadata": {},
   "source": [
    "## list"
   ]
  },
  {
   "cell_type": "code",
   "execution_count": 10,
   "id": "85f9905e-7112-4762-be4f-5176ea506016",
   "metadata": {},
   "outputs": [],
   "source": [
    "myList = [1,2,3.14,\"hello\",True,False,None]"
   ]
  },
  {
   "cell_type": "code",
   "execution_count": 11,
   "id": "86a10ffa-35c0-4c3d-b737-a2127defae74",
   "metadata": {},
   "outputs": [
    {
     "data": {
      "text/plain": [
       "[1, 2, 3.14, 'hello', True, False, None]"
      ]
     },
     "execution_count": 11,
     "metadata": {},
     "output_type": "execute_result"
    }
   ],
   "source": [
    "myList"
   ]
  },
  {
   "cell_type": "markdown",
   "id": "546d65bf-aee9-4025-8794-1908826fefa8",
   "metadata": {},
   "source": [
    "**Access**"
   ]
  },
  {
   "cell_type": "code",
   "execution_count": 16,
   "id": "adf67463-622f-4796-8b7b-c9e1fb3555bc",
   "metadata": {},
   "outputs": [
    {
     "data": {
      "text/plain": [
       "3.14"
      ]
     },
     "execution_count": 16,
     "metadata": {},
     "output_type": "execute_result"
    }
   ],
   "source": [
    "myList[2]"
   ]
  },
  {
   "cell_type": "code",
   "execution_count": 17,
   "id": "89b28ee1-a09d-4bb0-9dfa-013713ff0c62",
   "metadata": {},
   "outputs": [],
   "source": [
    "# assigning the returned value to a new variable\n",
    "myValue =  myList[2] "
   ]
  },
  {
   "cell_type": "code",
   "execution_count": 18,
   "id": "efbf02d3-02ae-4f0f-b370-243fdc38c5b5",
   "metadata": {},
   "outputs": [
    {
     "data": {
      "text/plain": [
       "31.400000000000002"
      ]
     },
     "execution_count": 18,
     "metadata": {},
     "output_type": "execute_result"
    }
   ],
   "source": [
    "# using the returned value in an expression\n",
    "myList[2] * 10"
   ]
  },
  {
   "cell_type": "markdown",
   "id": "f50e1175-30bf-4820-9784-993598613d1c",
   "metadata": {},
   "source": [
    "**Update**"
   ]
  },
  {
   "cell_type": "code",
   "execution_count": 19,
   "id": "a97bdeee-d910-4727-910a-802861c194a6",
   "metadata": {},
   "outputs": [],
   "source": [
    "# update the value stored at index number 2 inside the myList.\n",
    "myList[2] = 5.16"
   ]
  },
  {
   "cell_type": "code",
   "execution_count": 20,
   "id": "6cafffe6-f68a-4a67-ac55-70ab705f3be4",
   "metadata": {},
   "outputs": [
    {
     "data": {
      "text/plain": [
       "[1, 2, 5.16, 'hello', True, False, None]"
      ]
     },
     "execution_count": 20,
     "metadata": {},
     "output_type": "execute_result"
    }
   ],
   "source": [
    "myList"
   ]
  },
  {
   "cell_type": "markdown",
   "id": "6f97bb78-dbd8-4287-bf35-2926d493435b",
   "metadata": {},
   "source": [
    "**Slicing**\n",
    "\n",
    "```python\n",
    "List[start-index:end-index]\n",
    "\n",
    "# start-index (inclusive): it is the index number from where we want to start our slicing.\n",
    "# start-index < end-index, start-index < n.\n",
    "# n is size of list.\n",
    "\n",
    "# end-index (exclusive): it is the end number at where we want to stop our slicing\n",
    "```"
   ]
  },
  {
   "cell_type": "code",
   "execution_count": 22,
   "id": "660d7a9a-51d9-4ad3-88ca-8401cda4225c",
   "metadata": {},
   "outputs": [
    {
     "data": {
      "text/plain": [
       "[1, 2]"
      ]
     },
     "execution_count": 22,
     "metadata": {},
     "output_type": "execute_result"
    }
   ],
   "source": [
    "#slicing from left end\n",
    "myList[0:2]"
   ]
  },
  {
   "cell_type": "code",
   "execution_count": 24,
   "id": "bfdcbd73-c59a-4efa-8c3b-04aea1567708",
   "metadata": {},
   "outputs": [
    {
     "data": {
      "text/plain": [
       "[5.16, 'hello', True]"
      ]
     },
     "execution_count": 24,
     "metadata": {},
     "output_type": "execute_result"
    }
   ],
   "source": [
    "# slicing from mid point\n",
    "myList[2:5]"
   ]
  },
  {
   "cell_type": "markdown",
   "id": "62558bad-fb66-40d5-86e0-38193f3873a9",
   "metadata": {},
   "source": [
    "**getting the index number from value**"
   ]
  },
  {
   "cell_type": "code",
   "execution_count": 26,
   "id": "aeafe045-7496-4af3-af81-0479ccac37d7",
   "metadata": {},
   "outputs": [
    {
     "data": {
      "text/plain": [
       "2"
      ]
     },
     "execution_count": 26,
     "metadata": {},
     "output_type": "execute_result"
    }
   ],
   "source": [
    "myList.index(5.16)"
   ]
  },
  {
   "cell_type": "code",
   "execution_count": 27,
   "id": "2fd8a4c0-332e-41e1-a020-b9e2b0bfc8cc",
   "metadata": {},
   "outputs": [
    {
     "data": {
      "text/plain": [
       "5"
      ]
     },
     "execution_count": 27,
     "metadata": {},
     "output_type": "execute_result"
    }
   ],
   "source": [
    "myList.index(False)"
   ]
  },
  {
   "cell_type": "code",
   "execution_count": 29,
   "id": "12244dae-b4a2-45ce-ba27-38b2e26ef79d",
   "metadata": {},
   "outputs": [],
   "source": [
    "i1 = myList.index(5.16)\n",
    "i2 = myList.index(False)"
   ]
  },
  {
   "cell_type": "code",
   "execution_count": 30,
   "id": "f6ee07fe-cc07-49ce-ab35-34a5ec77aea2",
   "metadata": {},
   "outputs": [
    {
     "data": {
      "text/plain": [
       "[5.16, 'hello', True]"
      ]
     },
     "execution_count": 30,
     "metadata": {},
     "output_type": "execute_result"
    }
   ],
   "source": [
    "myList[i1:i2]"
   ]
  },
  {
   "cell_type": "code",
   "execution_count": null,
   "id": "e36480b0-6a01-4ac2-87ad-4ac522c74da2",
   "metadata": {},
   "outputs": [],
   "source": [
    "var2 = \"Hello\""
   ]
  }
 ],
 "metadata": {
  "kernelspec": {
   "display_name": "Python 3 (ipykernel)",
   "language": "python",
   "name": "python3"
  },
  "language_info": {
   "codemirror_mode": {
    "name": "ipython",
    "version": 3
   },
   "file_extension": ".py",
   "mimetype": "text/x-python",
   "name": "python",
   "nbconvert_exporter": "python",
   "pygments_lexer": "ipython3",
   "version": "3.10.5"
  }
 },
 "nbformat": 4,
 "nbformat_minor": 5
}
