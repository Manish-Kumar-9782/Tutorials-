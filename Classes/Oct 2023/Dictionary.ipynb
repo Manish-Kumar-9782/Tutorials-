{
 "cells": [
  {
   "cell_type": "markdown",
   "id": "8494cb7f-6e71-4551-81d7-3fe3484ea5e3",
   "metadata": {},
   "source": [
    "# Python Dictonaries\n",
    "\n",
    "It is data structure to store the values in `key` and `value` pair.\n",
    "\n",
    "for example:\n",
    "\n",
    "```python\n",
    "# do not't make a variable like dict.\n",
    "\n",
    "myDict = {\n",
    "    \"key1\" :\"value1\"\n",
    "    \"key2\": \"value2\"\n",
    "    ...\n",
    "    \"keyn\": \"valueN\"\n",
    "}\n",
    "```"
   ]
  },
  {
   "cell_type": "markdown",
   "id": "cc9bfe4d-b8a5-4fe6-aa54-4eaf26b8444f",
   "metadata": {},
   "source": [
    "## creating a dictionary"
   ]
  },
  {
   "cell_type": "code",
   "execution_count": 1,
   "id": "5cab61b0-f98b-43cd-95f4-b48af42b0818",
   "metadata": {},
   "outputs": [],
   "source": [
    "myDict = {\n",
    "    \"name\": \"kuldeep\",\n",
    "    \"age\": 20,\n",
    "    \"height\": 5.6\n",
    "}"
   ]
  },
  {
   "cell_type": "markdown",
   "id": "38abbf0c-84fa-4865-8ff4-8bbcd03d8920",
   "metadata": {},
   "source": [
    "## Accessing the dictionary data by key"
   ]
  },
  {
   "cell_type": "code",
   "execution_count": 2,
   "id": "5a72c864-8b62-4c4a-aa86-8cfe8c666213",
   "metadata": {},
   "outputs": [
    {
     "data": {
      "text/plain": [
       "'kuldeep'"
      ]
     },
     "execution_count": 2,
     "metadata": {},
     "output_type": "execute_result"
    }
   ],
   "source": [
    "myDict[\"name\"]"
   ]
  },
  {
   "cell_type": "code",
   "execution_count": 5,
   "id": "8ce9dd98-fa1e-4823-b5ca-02819d9790f0",
   "metadata": {},
   "outputs": [
    {
     "data": {
      "text/plain": [
       "20"
      ]
     },
     "execution_count": 5,
     "metadata": {},
     "output_type": "execute_result"
    }
   ],
   "source": [
    "myDict[\"age\"]"
   ]
  },
  {
   "cell_type": "markdown",
   "id": "235c0d83-8b76-464e-8630-8404b3e4cf49",
   "metadata": {},
   "source": [
    "**What if dictionary don't have the given key or misspelled the key**"
   ]
  },
  {
   "cell_type": "code",
   "execution_count": 8,
   "id": "ddf48b6b-fff1-402f-9d38-484ad9bf5870",
   "metadata": {},
   "outputs": [
    {
     "ename": "KeyError",
     "evalue": "'weight'",
     "output_type": "error",
     "traceback": [
      "\u001b[1;31m---------------------------------------------------------------------------\u001b[0m",
      "\u001b[1;31mKeyError\u001b[0m                                  Traceback (most recent call last)",
      "Cell \u001b[1;32mIn [8], line 2\u001b[0m\n\u001b[0;32m      1\u001b[0m \u001b[38;5;66;03m# if dictionary don't the the given key then we will have the KeyError.\u001b[39;00m\n\u001b[1;32m----> 2\u001b[0m \u001b[43mmyDict\u001b[49m\u001b[43m[\u001b[49m\u001b[38;5;124;43m\"\u001b[39;49m\u001b[38;5;124;43mweight\u001b[39;49m\u001b[38;5;124;43m\"\u001b[39;49m\u001b[43m]\u001b[49m\n",
      "\u001b[1;31mKeyError\u001b[0m: 'weight'"
     ]
    }
   ],
   "source": [
    "# if dictionary don't the the given key then we will have the KeyError.\n",
    "myDict[\"weight\"]"
   ]
  },
  {
   "cell_type": "code",
   "execution_count": 9,
   "id": "800f8607-5844-43cb-b5b9-478f0bb9eeea",
   "metadata": {},
   "outputs": [
    {
     "ename": "KeyError",
     "evalue": "'Age'",
     "output_type": "error",
     "traceback": [
      "\u001b[1;31m---------------------------------------------------------------------------\u001b[0m",
      "\u001b[1;31mKeyError\u001b[0m                                  Traceback (most recent call last)",
      "Cell \u001b[1;32mIn [9], line 2\u001b[0m\n\u001b[0;32m      1\u001b[0m \u001b[38;5;66;03m# if we pass the misspelled key to dictionary\u001b[39;00m\n\u001b[1;32m----> 2\u001b[0m \u001b[43mmyDict\u001b[49m\u001b[43m[\u001b[49m\u001b[38;5;124;43m\"\u001b[39;49m\u001b[38;5;124;43mAge\u001b[39;49m\u001b[38;5;124;43m\"\u001b[39;49m\u001b[43m]\u001b[49m\n",
      "\u001b[1;31mKeyError\u001b[0m: 'Age'"
     ]
    }
   ],
   "source": [
    "# if we pass the misspelled key to dictionary\n",
    "myDict[\"Age\"]"
   ]
  },
  {
   "cell_type": "markdown",
   "id": "a7e095b5-d786-41dd-8cf7-72fe2de3fb7b",
   "metadata": {},
   "source": [
    "### Dictionary keys, items and values"
   ]
  },
  {
   "cell_type": "code",
   "execution_count": 11,
   "id": "a776a297-efff-4cc2-be13-44bd93da56cc",
   "metadata": {},
   "outputs": [
    {
     "data": {
      "text/plain": [
       "{'name': 'kuldeep', 'age': 20, 'height': 5.6}"
      ]
     },
     "execution_count": 11,
     "metadata": {},
     "output_type": "execute_result"
    }
   ],
   "source": [
    "# inspecting dictionary\n",
    "myDict"
   ]
  },
  {
   "cell_type": "code",
   "execution_count": 13,
   "id": "8d8206ee-fe57-4519-8d38-4f620356ec52",
   "metadata": {},
   "outputs": [
    {
     "data": {
      "text/plain": [
       "dict_keys(['name', 'age', 'height'])"
      ]
     },
     "execution_count": 13,
     "metadata": {},
     "output_type": "execute_result"
    }
   ],
   "source": [
    "# to get only keys of the dictionary use keys() method.\n",
    "# myDict.keys() --> this is method bounded to the Object myDict.\n",
    "# print() --> this is function no bounded to any objecty\n",
    "myDict.keys()"
   ]
  },
  {
   "cell_type": "code",
   "execution_count": 14,
   "id": "cef0e61e-e8f4-4c71-8062-37cc1c3a2b49",
   "metadata": {},
   "outputs": [
    {
     "data": {
      "text/plain": [
       "dict_items([('name', 'kuldeep'), ('age', 20), ('height', 5.6)])"
      ]
     },
     "execution_count": 14,
     "metadata": {},
     "output_type": "execute_result"
    }
   ],
   "source": [
    "# to get only items of the dictionary\n",
    "myDict.items()"
   ]
  },
  {
   "cell_type": "code",
   "execution_count": 15,
   "id": "e989afa2-57c8-49a5-8dda-6d6f097ad6bd",
   "metadata": {},
   "outputs": [
    {
     "data": {
      "text/plain": [
       "dict_values(['kuldeep', 20, 5.6])"
      ]
     },
     "execution_count": 15,
     "metadata": {},
     "output_type": "execute_result"
    }
   ],
   "source": [
    "# to get only values of the Dictionary\n",
    "myDict.values()"
   ]
  },
  {
   "cell_type": "code",
   "execution_count": 16,
   "id": "0720c42f-6e89-4daa-a4ef-65aed5404d90",
   "metadata": {},
   "outputs": [
    {
     "name": "stdout",
     "output_type": "stream",
     "text": [
      "name\n",
      "age\n",
      "height\n"
     ]
    }
   ],
   "source": [
    "# using myDict.keys() sequence of dict_keys inside the for loop\n",
    "for key in myDict.keys():\n",
    "    print(key)"
   ]
  },
  {
   "cell_type": "code",
   "execution_count": 18,
   "id": "1a99daeb-a3a1-4851-bd44-e6682f58b32b",
   "metadata": {},
   "outputs": [
    {
     "name": "stdout",
     "output_type": "stream",
     "text": [
      "kuldeep\n",
      "20\n",
      "5.6\n"
     ]
    }
   ],
   "source": [
    "# using myDict.values() sequence of dict_values inside the for loop\n",
    "for value in myDict.values():\n",
    "    print(value)"
   ]
  },
  {
   "cell_type": "code",
   "execution_count": 19,
   "id": "f40acdff-5e80-4bb3-9304-cbae44398186",
   "metadata": {},
   "outputs": [
    {
     "name": "stdout",
     "output_type": "stream",
     "text": [
      "('name', 'kuldeep')\n",
      "('age', 20)\n",
      "('height', 5.6)\n"
     ]
    }
   ],
   "source": [
    "# using myDict.items() sequence of dict_items inside the for loop\n",
    "for pair in myDict.items():\n",
    "    print(pair) "
   ]
  },
  {
   "cell_type": "code",
   "execution_count": null,
   "id": "2d3b749b-f5ec-4823-8603-9798c7c05386",
   "metadata": {},
   "outputs": [],
   "source": []
  }
 ],
 "metadata": {
  "kernelspec": {
   "display_name": "Python 3 (ipykernel)",
   "language": "python",
   "name": "python3"
  },
  "language_info": {
   "codemirror_mode": {
    "name": "ipython",
    "version": 3
   },
   "file_extension": ".py",
   "mimetype": "text/x-python",
   "name": "python",
   "nbconvert_exporter": "python",
   "pygments_lexer": "ipython3",
   "version": "3.10.5"
  }
 },
 "nbformat": 4,
 "nbformat_minor": 5
}
