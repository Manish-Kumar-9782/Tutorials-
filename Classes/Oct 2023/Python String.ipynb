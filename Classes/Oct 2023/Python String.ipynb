{
 "cells": [
  {
   "cell_type": "code",
   "execution_count": 2,
   "id": "b3565c53-09e3-4541-b1cc-0801ef8e8e2c",
   "metadata": {},
   "outputs": [],
   "source": [
    "string1 = \"Hello how are you.\"\n",
    "# string is a sequence of characters.\n",
    "# string is immutable data type."
   ]
  },
  {
   "cell_type": "code",
   "execution_count": 5,
   "id": "72fe1cb1-755b-49fd-bae8-542d7be4ec5a",
   "metadata": {},
   "outputs": [
    {
     "ename": "TypeError",
     "evalue": "'str' object does not support item assignment",
     "output_type": "error",
     "traceback": [
      "\u001b[1;31m---------------------------------------------------------------------------\u001b[0m",
      "\u001b[1;31mTypeError\u001b[0m                                 Traceback (most recent call last)",
      "Cell \u001b[1;32mIn [5], line 1\u001b[0m\n\u001b[1;32m----> 1\u001b[0m \u001b[43mstring1\u001b[49m\u001b[43m[\u001b[49m\u001b[38;5;241;43m2\u001b[39;49m\u001b[43m]\u001b[49m \u001b[38;5;241m=\u001b[39m \u001b[38;5;124m\"\u001b[39m\u001b[38;5;124mx\u001b[39m\u001b[38;5;124m\"\u001b[39m\n",
      "\u001b[1;31mTypeError\u001b[0m: 'str' object does not support item assignment"
     ]
    }
   ],
   "source": [
    "string1[2] = \"x\"\n",
    "# changing inplace"
   ]
  },
  {
   "cell_type": "markdown",
   "id": "4d12376d-defd-4386-b603-1cf7faf63578",
   "metadata": {},
   "source": [
    "**find method**"
   ]
  },
  {
   "cell_type": "code",
   "execution_count": 7,
   "id": "28284fa2-d937-43f9-acea-267607c5966d",
   "metadata": {},
   "outputs": [
    {
     "data": {
      "text/plain": [
       "\u001b[1;31mDocstring:\u001b[0m\n",
       "S.find(sub[, start[, end]]) -> int\n",
       "\n",
       "Return the lowest index in S where substring sub is found,\n",
       "such that sub is contained within S[start:end].  Optional\n",
       "arguments start and end are interpreted as in slice notation.\n",
       "\n",
       "Return -1 on failure.\n",
       "\u001b[1;31mType:\u001b[0m      method_descriptor\n"
      ]
     },
     "metadata": {},
     "output_type": "display_data"
    }
   ],
   "source": [
    "# short description of the find method.\n",
    "str.find?"
   ]
  },
  {
   "cell_type": "code",
   "execution_count": 8,
   "id": "15e82c29-11f2-4a4e-8bae-d3b170cc69e5",
   "metadata": {},
   "outputs": [
    {
     "name": "stdout",
     "output_type": "stream",
     "text": [
      "Hello how are you.\n"
     ]
    }
   ],
   "source": [
    "print(string1)"
   ]
  },
  {
   "cell_type": "code",
   "execution_count": 9,
   "id": "55049d73-fd84-403b-8f4e-8df34ec2cfce",
   "metadata": {},
   "outputs": [
    {
     "data": {
      "text/plain": [
       "1"
      ]
     },
     "execution_count": 9,
     "metadata": {},
     "output_type": "execute_result"
    }
   ],
   "source": [
    "# find the index number of 'e'.\n",
    "# range(0, len(string1))\n",
    "string1.find('e')"
   ]
  },
  {
   "cell_type": "code",
   "execution_count": 10,
   "id": "2a175818-1dcf-4d9f-972a-54201851f5dd",
   "metadata": {},
   "outputs": [
    {
     "data": {
      "text/plain": [
       "12"
      ]
     },
     "execution_count": 10,
     "metadata": {},
     "output_type": "execute_result"
    }
   ],
   "source": [
    "string1.find('e', 2)"
   ]
  },
  {
   "cell_type": "code",
   "execution_count": 12,
   "id": "6ae7712e-e2f5-4f46-8e79-725d25db5a88",
   "metadata": {},
   "outputs": [
    {
     "data": {
      "text/plain": [
       "18"
      ]
     },
     "execution_count": 12,
     "metadata": {},
     "output_type": "execute_result"
    }
   ],
   "source": [
    "len(string1)"
   ]
  },
  {
   "cell_type": "markdown",
   "id": "5a4477e8-e4b9-4fdd-a55b-e3045efc64a6",
   "metadata": {},
   "source": [
    "**count the substring or char**"
   ]
  },
  {
   "cell_type": "code",
   "execution_count": 20,
   "id": "47c1c95a-24e4-4b0f-8ed6-7873a438efa4",
   "metadata": {},
   "outputs": [
    {
     "data": {
      "text/plain": [
       "\u001b[1;31mDocstring:\u001b[0m\n",
       "S.count(sub[, start[, end]]) -> int\n",
       "\n",
       "Return the number of non-overlapping occurrences of substring sub in\n",
       "string S[start:end].  Optional arguments start and end are\n",
       "interpreted as in slice notation.\n",
       "\u001b[1;31mType:\u001b[0m      method_descriptor\n"
      ]
     },
     "metadata": {},
     "output_type": "display_data"
    }
   ],
   "source": [
    "str.count?"
   ]
  },
  {
   "cell_type": "code",
   "execution_count": 13,
   "id": "0256398c-995d-411f-bfc0-1a4a6ba811f8",
   "metadata": {},
   "outputs": [
    {
     "data": {
      "text/plain": [
       "2"
      ]
     },
     "execution_count": 13,
     "metadata": {},
     "output_type": "execute_result"
    }
   ],
   "source": [
    "string1.count(\"e\")"
   ]
  },
  {
   "cell_type": "markdown",
   "id": "0744b08e-b484-44ce-90a9-01ee65d3756a",
   "metadata": {},
   "source": [
    "**replacing the substring or character**"
   ]
  },
  {
   "cell_type": "code",
   "execution_count": 18,
   "id": "0e54a0d9-0cb3-4a87-8e35-0a251624e841",
   "metadata": {},
   "outputs": [
    {
     "data": {
      "text/plain": [
       "\u001b[1;31mSignature:\u001b[0m \u001b[0mstr\u001b[0m\u001b[1;33m.\u001b[0m\u001b[0mreplace\u001b[0m\u001b[1;33m(\u001b[0m\u001b[0mself\u001b[0m\u001b[1;33m,\u001b[0m \u001b[0mold\u001b[0m\u001b[1;33m,\u001b[0m \u001b[0mnew\u001b[0m\u001b[1;33m,\u001b[0m \u001b[0mcount\u001b[0m\u001b[1;33m=\u001b[0m\u001b[1;33m-\u001b[0m\u001b[1;36m1\u001b[0m\u001b[1;33m,\u001b[0m \u001b[1;33m/\u001b[0m\u001b[1;33m)\u001b[0m\u001b[1;33m\u001b[0m\u001b[1;33m\u001b[0m\u001b[0m\n",
       "\u001b[1;31mDocstring:\u001b[0m\n",
       "Return a copy with all occurrences of substring old replaced by new.\n",
       "\n",
       "  count\n",
       "    Maximum number of occurrences to replace.\n",
       "    -1 (the default value) means replace all occurrences.\n",
       "\n",
       "If the optional argument count is given, only the first count occurrences are\n",
       "replaced.\n",
       "\u001b[1;31mType:\u001b[0m      method_descriptor\n"
      ]
     },
     "metadata": {},
     "output_type": "display_data"
    }
   ],
   "source": [
    "str.replace?"
   ]
  },
  {
   "cell_type": "code",
   "execution_count": 15,
   "id": "2b69d348-79e0-4d01-bd41-b93d5671a948",
   "metadata": {},
   "outputs": [
    {
     "ename": "TypeError",
     "evalue": "'str' object does not support item assignment",
     "output_type": "error",
     "traceback": [
      "\u001b[1;31m---------------------------------------------------------------------------\u001b[0m",
      "\u001b[1;31mTypeError\u001b[0m                                 Traceback (most recent call last)",
      "Cell \u001b[1;32mIn [15], line 1\u001b[0m\n\u001b[1;32m----> 1\u001b[0m \u001b[43mstring1\u001b[49m\u001b[43m[\u001b[49m\u001b[38;5;241;43m1\u001b[39;49m\u001b[43m]\u001b[49m \u001b[38;5;241m=\u001b[39m \u001b[38;5;124m'\u001b[39m\u001b[38;5;124mx\u001b[39m\u001b[38;5;124m'\u001b[39m\n",
      "\u001b[1;31mTypeError\u001b[0m: 'str' object does not support item assignment"
     ]
    }
   ],
   "source": [
    "string1[1] = 'x'\n",
    "# we can't do this operation, since item assignment does not supported by string."
   ]
  },
  {
   "cell_type": "code",
   "execution_count": 16,
   "id": "da5bb642-2b6c-4137-856c-5dbb520d6401",
   "metadata": {},
   "outputs": [
    {
     "data": {
      "text/plain": [
       "'Hxllo how arx you.'"
      ]
     },
     "execution_count": 16,
     "metadata": {},
     "output_type": "execute_result"
    }
   ],
   "source": [
    "# to do this we must use str.replace() method.\n",
    "string1.replace('e',\"x\")"
   ]
  },
  {
   "cell_type": "code",
   "execution_count": 17,
   "id": "7440f89b-2cb8-4ed6-8699-43d0a82efb5b",
   "metadata": {},
   "outputs": [
    {
     "data": {
      "text/plain": [
       "'Hello how are you.'"
      ]
     },
     "execution_count": 17,
     "metadata": {},
     "output_type": "execute_result"
    }
   ],
   "source": [
    "# original string\n",
    "string1"
   ]
  },
  {
   "cell_type": "markdown",
   "id": "e0415635-598d-4c25-8f11-bff2c6a16dd9",
   "metadata": {},
   "source": [
    "**spilt method**"
   ]
  },
  {
   "cell_type": "code",
   "execution_count": 21,
   "id": "4157b8eb-fcd3-45b5-ae78-d9b967c7a1b3",
   "metadata": {},
   "outputs": [
    {
     "data": {
      "text/plain": [
       "\u001b[1;31mSignature:\u001b[0m \u001b[0mstr\u001b[0m\u001b[1;33m.\u001b[0m\u001b[0msplit\u001b[0m\u001b[1;33m(\u001b[0m\u001b[0mself\u001b[0m\u001b[1;33m,\u001b[0m \u001b[1;33m/\u001b[0m\u001b[1;33m,\u001b[0m \u001b[0msep\u001b[0m\u001b[1;33m=\u001b[0m\u001b[1;32mNone\u001b[0m\u001b[1;33m,\u001b[0m \u001b[0mmaxsplit\u001b[0m\u001b[1;33m=\u001b[0m\u001b[1;33m-\u001b[0m\u001b[1;36m1\u001b[0m\u001b[1;33m)\u001b[0m\u001b[1;33m\u001b[0m\u001b[1;33m\u001b[0m\u001b[0m\n",
       "\u001b[1;31mDocstring:\u001b[0m\n",
       "Return a list of the substrings in the string, using sep as the separator string.\n",
       "\n",
       "  sep\n",
       "    The separator used to split the string.\n",
       "\n",
       "    When set to None (the default value), will split on any whitespace\n",
       "    character (including \\\\n \\\\r \\\\t \\\\f and spaces) and will discard\n",
       "    empty strings from the result.\n",
       "  maxsplit\n",
       "    Maximum number of splits (starting from the left).\n",
       "    -1 (the default value) means no limit.\n",
       "\n",
       "Note, str.split() is mainly useful for data that has been intentionally\n",
       "delimited.  With natural text that includes punctuation, consider using\n",
       "the regular expression module.\n",
       "\u001b[1;31mType:\u001b[0m      method_descriptor\n"
      ]
     },
     "metadata": {},
     "output_type": "display_data"
    }
   ],
   "source": [
    "str.split?"
   ]
  },
  {
   "cell_type": "code",
   "execution_count": 25,
   "id": "02638ea0-c520-4935-9ed6-8bffe6929032",
   "metadata": {},
   "outputs": [
    {
     "name": "stdout",
     "output_type": "stream",
     "text": [
      "str:  Hello how are you.\n"
     ]
    },
    {
     "data": {
      "text/plain": [
       "['Hello', 'how']"
      ]
     },
     "execution_count": 25,
     "metadata": {},
     "output_type": "execute_result"
    }
   ],
   "source": [
    "print(\"str: \", string1)\n",
    "string1.split(\" \")"
   ]
  },
  {
   "cell_type": "code",
   "execution_count": 24,
   "id": "b612a433-ddce-4802-ab3b-38139250b2ad",
   "metadata": {},
   "outputs": [
    {
     "data": {
      "text/plain": [
       "['Hello', 'how', 'are', 'you.']"
      ]
     },
     "execution_count": 24,
     "metadata": {},
     "output_type": "execute_result"
    }
   ],
   "source": [
    "splitted_string1 = string1.split(' ')\n",
    "splitted_string1"
   ]
  },
  {
   "cell_type": "code",
   "execution_count": 32,
   "id": "3afafa1d-840e-481f-89af-4b7da26d05a0",
   "metadata": {},
   "outputs": [
    {
     "data": {
      "text/plain": [
       "[0, 1, 2, 3, 4, 5, 6, 7, 8, 9, 10, 11, 12, 13, 14, 15, 16, 17, 18, 19]"
      ]
     },
     "execution_count": 32,
     "metadata": {},
     "output_type": "execute_result"
    }
   ],
   "source": [
    "alist =  list(range(0,20))\n",
    "alist"
   ]
  },
  {
   "cell_type": "code",
   "execution_count": 33,
   "id": "e49fb490-07e0-4946-89a9-9b253a3d87cd",
   "metadata": {},
   "outputs": [
    {
     "data": {
      "text/plain": [
       "['Hello', 'how', 'are', 'you.']"
      ]
     },
     "execution_count": 33,
     "metadata": {},
     "output_type": "execute_result"
    }
   ],
   "source": [
    "string1.split()"
   ]
  },
  {
   "cell_type": "markdown",
   "id": "1ea6db01-2e93-4c83-9c53-1c0e19bcc366",
   "metadata": {},
   "source": [
    "**endswith method**"
   ]
  },
  {
   "cell_type": "code",
   "execution_count": 34,
   "id": "c8e43e9a-8e96-44ed-99dc-7f6df3cb9afd",
   "metadata": {},
   "outputs": [
    {
     "data": {
      "text/plain": [
       "\u001b[1;31mDocstring:\u001b[0m\n",
       "S.endswith(suffix[, start[, end]]) -> bool\n",
       "\n",
       "Return True if S ends with the specified suffix, False otherwise.\n",
       "With optional start, test S beginning at that position.\n",
       "With optional end, stop comparing S at that position.\n",
       "suffix can also be a tuple of strings to try.\n",
       "\u001b[1;31mType:\u001b[0m      method_descriptor\n"
      ]
     },
     "metadata": {},
     "output_type": "display_data"
    }
   ],
   "source": [
    "str.endswith?"
   ]
  },
  {
   "cell_type": "code",
   "execution_count": 35,
   "id": "7c097ac1-d375-45c8-af2d-b5eb69713096",
   "metadata": {},
   "outputs": [],
   "source": [
    "myGmail = \"TechInnovation1996@gmail.com\""
   ]
  },
  {
   "cell_type": "code",
   "execution_count": 36,
   "id": "49613607-7888-43ed-8d7a-b461d3f45cc4",
   "metadata": {},
   "outputs": [
    {
     "data": {
      "text/plain": [
       "True"
      ]
     },
     "execution_count": 36,
     "metadata": {},
     "output_type": "execute_result"
    }
   ],
   "source": [
    "myGmail.endswith(\"@gmail.com\")"
   ]
  },
  {
   "cell_type": "code",
   "execution_count": 37,
   "id": "7966a75c-b400-4498-800b-608c85c4d9f5",
   "metadata": {},
   "outputs": [],
   "source": [
    "mNumber = \"+91-8978670989\""
   ]
  },
  {
   "cell_type": "code",
   "execution_count": 39,
   "id": "479f0519-6e47-44d6-bfad-c44726449d67",
   "metadata": {},
   "outputs": [
    {
     "data": {
      "text/plain": [
       "True"
      ]
     },
     "execution_count": 39,
     "metadata": {},
     "output_type": "execute_result"
    }
   ],
   "source": [
    "mNumber.endswith(\"9\")"
   ]
  },
  {
   "cell_type": "markdown",
   "id": "d76c18ef-f40e-4db6-9c66-6372a2cff2b8",
   "metadata": {},
   "source": [
    "**startwith method**"
   ]
  },
  {
   "cell_type": "code",
   "execution_count": 41,
   "id": "8726f25e-3510-4411-84b2-c86fc7b09bc8",
   "metadata": {},
   "outputs": [
    {
     "data": {
      "text/plain": [
       "\u001b[1;31mDocstring:\u001b[0m\n",
       "S.startswith(prefix[, start[, end]]) -> bool\n",
       "\n",
       "Return True if S starts with the specified prefix, False otherwise.\n",
       "With optional start, test S beginning at that position.\n",
       "With optional end, stop comparing S at that position.\n",
       "prefix can also be a tuple of strings to try.\n",
       "\u001b[1;31mType:\u001b[0m      method_descriptor\n"
      ]
     },
     "metadata": {},
     "output_type": "display_data"
    }
   ],
   "source": [
    "str.startswith?"
   ]
  },
  {
   "cell_type": "code",
   "execution_count": 45,
   "id": "74205412-ab56-4286-a1db-b85fd70d8de3",
   "metadata": {},
   "outputs": [
    {
     "name": "stdout",
     "output_type": "stream",
     "text": [
      "Given number is indian number:  +91-8978670989\n"
     ]
    }
   ],
   "source": [
    "if mNumber.startswith(\"+91\"):\n",
    "    print(\"Given number is indian number: \", mNumber)"
   ]
  },
  {
   "cell_type": "code",
   "execution_count": null,
   "id": "ef69a246-1f92-458f-9fa1-4d25f32fe9a0",
   "metadata": {},
   "outputs": [],
   "source": []
  }
 ],
 "metadata": {
  "kernelspec": {
   "display_name": "Python 3 (ipykernel)",
   "language": "python",
   "name": "python3"
  },
  "language_info": {
   "codemirror_mode": {
    "name": "ipython",
    "version": 3
   },
   "file_extension": ".py",
   "mimetype": "text/x-python",
   "name": "python",
   "nbconvert_exporter": "python",
   "pygments_lexer": "ipython3",
   "version": "3.10.5"
  }
 },
 "nbformat": 4,
 "nbformat_minor": 5
}
