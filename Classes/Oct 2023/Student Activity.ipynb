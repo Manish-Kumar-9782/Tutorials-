{
 "cells": [
  {
   "cell_type": "code",
   "execution_count": 1,
   "id": "f2b066b7-1279-4124-beb6-f5de46e28528",
   "metadata": {},
   "outputs": [],
   "source": [
    "import random"
   ]
  },
  {
   "cell_type": "code",
   "execution_count": 6,
   "id": "a0777f04-bcaa-47ea-aa07-49ba62ec244b",
   "metadata": {},
   "outputs": [
    {
     "data": {
      "text/plain": [
       "3"
      ]
     },
     "execution_count": 6,
     "metadata": {},
     "output_type": "execute_result"
    }
   ],
   "source": [
    "random.randint(0,4)"
   ]
  },
  {
   "cell_type": "code",
   "execution_count": 42,
   "id": "6df09364-9ba4-4660-91e1-9b8a397e40e6",
   "metadata": {},
   "outputs": [],
   "source": [
    "class Student:\n",
    "    \n",
    "    def __init__(self,name, rollno):\n",
    "        \n",
    "        self.name = name\n",
    "        self.rollno = rollno\n",
    "        self.subject = [\"hindi\",\"english\",'math','science',\"history\"]\n",
    "        self.marks = [0,0,0,0,0]\n",
    "        self.sports = [\"cricket\",'football','badminton']\n",
    "        self.sports_xp = [0,0,0]\n",
    "        self.rountine = [\"morning\",\"afternoon\",\"evening\",\"night\"]\n",
    "        \n",
    "    def study(self):\n",
    "        \n",
    "        # select random \n",
    "        idx  = random.randint(0,4)  # index number\n",
    "        \n",
    "        self.marks[idx] += random.randint(0,5)\n",
    "        # increasing the student number for randomaly select subject.\n",
    "        # number will be increased randomanly in b/w 0 to 5\n",
    "    \n",
    "    def play_sports(self):\n",
    "        \n",
    "        # slecting the random sport\n",
    "        idx = random.randint(0,2)\n",
    "        \n",
    "        # incresing the sports xp\n",
    "        self.sports_xp[idx] += random.randint(0,20)\n",
    "        \n",
    "    \n",
    "    def day_activity(self):\n",
    "        \n",
    "        activities = [\"study\",\"play\"]\n",
    "        \n",
    "        for _time in self.rountine:\n",
    "            activity_idx = random.randint(0,1)\n",
    "            \n",
    "            if activity_idx == 0:\n",
    "                # at study\n",
    "                self.study()\n",
    "            else:\n",
    "                self.play_sports()\n",
    "                \n",
    "    def get_records(self):\n",
    "        \n",
    "        print(\"Subject Records\")\n",
    "        print(\"-------------------------------------\")\n",
    "        \n",
    "        # printing the subjects\n",
    "        subject_str = \"\"\n",
    "        for subject in self.subject:\n",
    "            subject_str += subject + \"\\t\"\n",
    "        print(subject_str)\n",
    "        \n",
    "        # printing the subject marks\n",
    "        marks = \"\"\n",
    "        for mark in self.marks:\n",
    "            marks += str(mark) + '\\t'\n",
    "        print(marks)\n",
    "        \n",
    "        \n",
    "        # sports record\n",
    "        print(\"\\n\\n\")\n",
    "        print(\"Sports Records\")\n",
    "        print(\"-------------------------------------\")\n",
    "        \n",
    "        # printing the subjects\n",
    "        sports = \"\"\n",
    "        for sport in self.sports:\n",
    "            sports += sport + \"\\t\"\n",
    "        print(sports)\n",
    "        \n",
    "        # printing the subject marks\n",
    "        sports_xp = \"\"\n",
    "        for xp in self.sports_xp:\n",
    "            sports_xp += str(xp) + '\\t'\n",
    "        print(sports_xp)\n",
    "        "
   ]
  },
  {
   "cell_type": "code",
   "execution_count": 43,
   "id": "b306e934-b250-420b-a635-9c704f093b9c",
   "metadata": {},
   "outputs": [],
   "source": [
    "st1 = Student(\"Aasish\",12345)"
   ]
  },
  {
   "cell_type": "code",
   "execution_count": 34,
   "id": "8f7c2010-2530-4c4e-8dbe-ab669a4fa076",
   "metadata": {},
   "outputs": [
    {
     "data": {
      "text/plain": [
       "['hindi', 'english', 'math', 'science', 'history']"
      ]
     },
     "execution_count": 34,
     "metadata": {},
     "output_type": "execute_result"
    }
   ],
   "source": [
    "st1.subject"
   ]
  },
  {
   "cell_type": "code",
   "execution_count": 44,
   "id": "dc82616c-f962-4fc3-8fd9-cf71d05b3cce",
   "metadata": {},
   "outputs": [],
   "source": [
    "st1.day_activity()"
   ]
  },
  {
   "cell_type": "code",
   "execution_count": 45,
   "id": "d5ebc91c-9bb7-4c36-86e7-c2aadd99a8de",
   "metadata": {},
   "outputs": [
    {
     "name": "stdout",
     "output_type": "stream",
     "text": [
      "Subject Records\n",
      "-------------------------------------\n",
      "hindi\tenglish\tmath\tscience\thistory\t\n",
      "3\t0\t0\t0\t3\t\n",
      "\n",
      "\n",
      "\n",
      "Sports Records\n",
      "-------------------------------------\n",
      "cricket\tfootball\tbadminton\t\n",
      "0\t7\t0\t\n"
     ]
    }
   ],
   "source": [
    "st1.get_records()"
   ]
  },
  {
   "cell_type": "code",
   "execution_count": 47,
   "id": "c5918136-ac90-44f1-a21f-6008a355005f",
   "metadata": {},
   "outputs": [
    {
     "name": "stdout",
     "output_type": "stream",
     "text": [
      "Subject Records\n",
      "-------------------------------------\n",
      "hindi\tenglish\tmath\tscience\thistory\t\n",
      "116\t101\t80\t114\t95\t\n",
      "\n",
      "\n",
      "\n",
      "Sports Records\n",
      "-------------------------------------\n",
      "cricket\tfootball\tbadminton\t\n",
      "672\t446\t553\t\n"
     ]
    }
   ],
   "source": [
    "for i in range(60):\n",
    "    st1.day_activity()\n",
    "    \n",
    "st1.get_records()"
   ]
  },
  {
   "cell_type": "code",
   "execution_count": 13,
   "id": "a63d4c11-4d00-4525-998d-3456108341a0",
   "metadata": {},
   "outputs": [],
   "source": []
  },
  {
   "cell_type": "code",
   "execution_count": 14,
   "id": "349b8953-0a1b-434d-987c-83ee675cbd7a",
   "metadata": {},
   "outputs": [
    {
     "data": {
      "text/plain": [
       "[21, 14, 7, 12, 33]"
      ]
     },
     "execution_count": 14,
     "metadata": {},
     "output_type": "execute_result"
    }
   ],
   "source": [
    "st1.marks"
   ]
  },
  {
   "cell_type": "code",
   "execution_count": 15,
   "id": "9004758f-cf45-4e92-9f3c-351badf60dd0",
   "metadata": {},
   "outputs": [],
   "source": [
    "for i in range(30):\n",
    "    st1.study()"
   ]
  },
  {
   "cell_type": "code",
   "execution_count": 16,
   "id": "0260447c-7a6a-4b85-af84-ef7180543bad",
   "metadata": {},
   "outputs": [
    {
     "data": {
      "text/plain": [
       "[33, 46, 25, 17, 47]"
      ]
     },
     "execution_count": 16,
     "metadata": {},
     "output_type": "execute_result"
    }
   ],
   "source": [
    "st1.marks"
   ]
  },
  {
   "cell_type": "code",
   "execution_count": null,
   "id": "b9365301-59e3-474c-8c74-275573a51a1d",
   "metadata": {},
   "outputs": [],
   "source": []
  }
 ],
 "metadata": {
  "kernelspec": {
   "display_name": "Python 3 (ipykernel)",
   "language": "python",
   "name": "python3"
  },
  "language_info": {
   "codemirror_mode": {
    "name": "ipython",
    "version": 3
   },
   "file_extension": ".py",
   "mimetype": "text/x-python",
   "name": "python",
   "nbconvert_exporter": "python",
   "pygments_lexer": "ipython3",
   "version": "3.10.5"
  }
 },
 "nbformat": 4,
 "nbformat_minor": 5
}
