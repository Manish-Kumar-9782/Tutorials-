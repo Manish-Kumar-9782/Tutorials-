{
 "cells": [
  {
   "cell_type": "markdown",
   "id": "09394595-fa9b-4638-a237-57df0ed26f33",
   "metadata": {},
   "source": [
    "## Class Inheritance"
   ]
  },
  {
   "cell_type": "code",
   "execution_count": 50,
   "id": "f102b302-3d37-4676-b661-4f30d02f2d27",
   "metadata": {},
   "outputs": [],
   "source": [
    "class Animal:\n",
    "\n",
    "    def __init__(self, kind, place):\n",
    "        self.kind = kind\n",
    "        self.place = place\n",
    "\n",
    "    def walk(self):\n",
    "        print(\"Animal is walking...\")\n",
    "\n",
    "    def speak(self):\n",
    "        print(\"Animal is speaking..\")\n",
    "\n",
    "    def sleep(self):\n",
    "        print(\"Sleeping...\")\n"
   ]
  },
  {
   "cell_type": "code",
   "execution_count": 17,
   "id": "9a2ed564-3d79-4d08-a205-8a898d5cfd11",
   "metadata": {},
   "outputs": [],
   "source": [
    "animal1 = Animal(\"Mammal\", \"Normal Places\")"
   ]
  },
  {
   "cell_type": "code",
   "execution_count": 18,
   "id": "7cce6550-8995-4cc4-8354-9c3817f2f778",
   "metadata": {},
   "outputs": [],
   "source": [
    "animal2 = Animal(\"Mammal\", \"Normal Places\")"
   ]
  },
  {
   "cell_type": "code",
   "execution_count": 19,
   "id": "ccb47d11-db0a-4f00-ae95-dcd9e72ef379",
   "metadata": {},
   "outputs": [
    {
     "name": "stdout",
     "output_type": "stream",
     "text": [
      "Animal is walking...\n"
     ]
    }
   ],
   "source": [
    "animal1.walk()"
   ]
  },
  {
   "cell_type": "code",
   "execution_count": 20,
   "id": "890a29b6-d8db-4579-9708-d5142a04f0a9",
   "metadata": {},
   "outputs": [
    {
     "name": "stdout",
     "output_type": "stream",
     "text": [
      "Animal is walking...\n"
     ]
    }
   ],
   "source": [
    "animal2.walk()"
   ]
  },
  {
   "cell_type": "code",
   "execution_count": 21,
   "id": "1d0e4083-01ce-4ed2-9109-f1521ab069b2",
   "metadata": {},
   "outputs": [
    {
     "name": "stdout",
     "output_type": "stream",
     "text": [
      "Animal is speaking..\n"
     ]
    }
   ],
   "source": [
    "animal1.speak()"
   ]
  },
  {
   "cell_type": "code",
   "execution_count": 51,
   "id": "dfc95bd3-449f-406e-811a-294d6eb37bf8",
   "metadata": {},
   "outputs": [],
   "source": [
    "class Cat(Animal):\n",
    "\n",
    "    def __init__(self,kind, place, name,breed):\n",
    "        super().__init__(kind,place)\n",
    "        self.name = name\n",
    "        self.breed = breed\n",
    "\n",
    "    def walk(self):\n",
    "        print(\"cat is moving slowing in sneaking mode...\")\n",
    "\n",
    "    def speak(self):\n",
    "        print(\"meoww, meoww .... meoww\")\n",
    "    "
   ]
  },
  {
   "cell_type": "code",
   "execution_count": 52,
   "id": "97092575-1eb7-4dae-a381-e43c45d636a0",
   "metadata": {},
   "outputs": [],
   "source": [
    "class Dog(Animal):\n",
    "    def __init__(self,kind, place, name,breed):\n",
    "        super().__init__(kind,place)\n",
    "        self.name = name\n",
    "        self.breed = breed\n",
    "\n",
    "    def walk(self):\n",
    "        print(\"Dog is moving in attitude\")\n",
    "\n",
    "    def speak(self):\n",
    "        print(\"Bhooo, Bhooo, bhoo...\")"
   ]
  },
  {
   "cell_type": "code",
   "execution_count": 53,
   "id": "57c5cf2a-b4ca-4055-bdea-bdd891c8f0fd",
   "metadata": {},
   "outputs": [],
   "source": [
    "cat = Cat(\"Mammal\",\"Normal Places\",\"caty\",\"Ragdoll\")\n",
    "dog = Dog(\"Mammal\",\"Normal Places\", \"tom\", \"GermanShephard\")"
   ]
  },
  {
   "cell_type": "code",
   "execution_count": 54,
   "id": "d33d93c1-3bb2-4b06-8d3e-385141738012",
   "metadata": {},
   "outputs": [
    {
     "name": "stdout",
     "output_type": "stream",
     "text": [
      "cat is moving slowing in sneaking mode...\n"
     ]
    }
   ],
   "source": [
    "cat.walk()"
   ]
  },
  {
   "cell_type": "code",
   "execution_count": 55,
   "id": "08ffb2bf-baf6-4973-b897-085252cd88a2",
   "metadata": {},
   "outputs": [
    {
     "name": "stdout",
     "output_type": "stream",
     "text": [
      "Bhooo, Bhooo, bhoo...\n"
     ]
    }
   ],
   "source": [
    "dog.speak()"
   ]
  },
  {
   "cell_type": "code",
   "execution_count": 56,
   "id": "5331f067-37e0-4da2-b92e-27e5c72bdc32",
   "metadata": {},
   "outputs": [
    {
     "name": "stdout",
     "output_type": "stream",
     "text": [
      "Sleeping...\n"
     ]
    }
   ],
   "source": [
    "cat.sleep()"
   ]
  },
  {
   "cell_type": "code",
   "execution_count": 57,
   "id": "9a31cfd0-6738-4eb3-bd91-b862011f0b32",
   "metadata": {},
   "outputs": [
    {
     "name": "stdout",
     "output_type": "stream",
     "text": [
      "Sleeping...\n"
     ]
    }
   ],
   "source": [
    "dog.sleep()"
   ]
  },
  {
   "cell_type": "code",
   "execution_count": null,
   "id": "5dfcdc37-f767-44b8-92f6-a9433445077e",
   "metadata": {},
   "outputs": [],
   "source": []
  }
 ],
 "metadata": {
  "kernelspec": {
   "display_name": "Python 3 (ipykernel)",
   "language": "python",
   "name": "python3"
  },
  "language_info": {
   "codemirror_mode": {
    "name": "ipython",
    "version": 3
   },
   "file_extension": ".py",
   "mimetype": "text/x-python",
   "name": "python",
   "nbconvert_exporter": "python",
   "pygments_lexer": "ipython3",
   "version": "3.10.5"
  }
 },
 "nbformat": 4,
 "nbformat_minor": 5
}
