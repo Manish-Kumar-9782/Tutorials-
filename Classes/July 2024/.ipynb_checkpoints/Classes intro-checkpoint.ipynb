{
 "cells": [
  {
   "cell_type": "markdown",
   "id": "2099397a-d7f6-482d-843c-6257875105f8",
   "metadata": {},
   "source": [
    "## Python class\n",
    "\n",
    "```python\n",
    "class <ClassName>:\n",
    "\n",
    "    def __init__(self):\n",
    "        # statement1\n",
    "        # statement2\n",
    "        ...\n",
    "        # statementn\n",
    "\n",
    "```"
   ]
  },
  {
   "cell_type": "code",
   "execution_count": 2,
   "id": "4f815b49-a5f3-4ee7-b7ba-ac84b334f56b",
   "metadata": {},
   "outputs": [],
   "source": [
    "class Employee:\n",
    "\n",
    "    def __init__(self):\n",
    "\n",
    "        self.emp_id = None\n",
    "        self.name = None\n",
    "        self.salary = None\n",
    "        self.department = None\n",
    "\n",
    "    def display_info(self):\n",
    "\n",
    "        print(f\"emp_id: {self.emp_id}\")\n",
    "        print(f\"name: {self.name}\")\n",
    "        print(f\"salary: {self.salary}\")\n",
    "        print(f\"department: {self.department}\")\n",
    "        "
   ]
  },
  {
   "cell_type": "code",
   "execution_count": 3,
   "id": "16c324d1-597a-40b8-8c21-7fd9a9c3b8a8",
   "metadata": {},
   "outputs": [],
   "source": [
    "emp = Employee()"
   ]
  },
  {
   "cell_type": "code",
   "execution_count": 4,
   "id": "0dc0f6bd-34b4-479a-8969-3445797edec4",
   "metadata": {},
   "outputs": [],
   "source": [
    "emp.emp_id = \"emp01\"\n",
    "emp.name = \"suresh\"\n",
    "emp.salary = 30000\n",
    "emp.department = \"IT\""
   ]
  },
  {
   "cell_type": "code",
   "execution_count": 5,
   "id": "bc391580-09ee-484b-88b0-d30eb9e24585",
   "metadata": {},
   "outputs": [
    {
     "name": "stdout",
     "output_type": "stream",
     "text": [
      "emp_id: emp01\n",
      "name: suresh\n",
      "salary: 30000\n",
      "department: IT\n"
     ]
    }
   ],
   "source": [
    "emp.display_info()"
   ]
  },
  {
   "cell_type": "code",
   "execution_count": 9,
   "id": "7379e09a-efe3-4814-be81-2952b246e84b",
   "metadata": {},
   "outputs": [],
   "source": [
    "class Employee:\n",
    "\n",
    "    def __init__(self, emp_id, name, salary, department):\n",
    "\n",
    "        self.emp_id = emp_id\n",
    "        self.name = name\n",
    "        self.salary = salary\n",
    "        self.department = department\n",
    "\n",
    "    def display_info(self):\n",
    "\n",
    "        print(f\"emp_id: {self.emp_id}\")\n",
    "        print(f\"name: {self.name}\")\n",
    "        print(f\"salary: {self.salary}\")\n",
    "        print(f\"department: {self.department}\")\n",
    "\n",
    "    def increment(self, amount):\n",
    "        self.salary += amount"
   ]
  },
  {
   "cell_type": "code",
   "execution_count": 15,
   "id": "71bad08f-a6ad-4a91-825c-f6e171e2fe67",
   "metadata": {},
   "outputs": [],
   "source": [
    "emp1 = Employee(\"emp01\", \"ramesh\", 45000, \"HR\")"
   ]
  },
  {
   "cell_type": "code",
   "execution_count": 16,
   "id": "ea910266-7dca-4894-92fb-531c172a11d7",
   "metadata": {},
   "outputs": [
    {
     "name": "stdout",
     "output_type": "stream",
     "text": [
      "emp_id: emp01\n",
      "name: ramesh\n",
      "salary: 45000\n",
      "department: HR\n"
     ]
    }
   ],
   "source": [
    "emp1.display_info()"
   ]
  },
  {
   "cell_type": "code",
   "execution_count": 17,
   "id": "4ead8065-d1a0-4fb6-9a59-1d88f0eb4b4e",
   "metadata": {},
   "outputs": [],
   "source": [
    "emp1.increment(4000)"
   ]
  },
  {
   "cell_type": "code",
   "execution_count": 18,
   "id": "b500ab13-ef3e-45ec-b575-d07808f019fb",
   "metadata": {},
   "outputs": [
    {
     "name": "stdout",
     "output_type": "stream",
     "text": [
      "emp_id: emp01\n",
      "name: ramesh\n",
      "salary: 49000\n",
      "department: HR\n"
     ]
    }
   ],
   "source": [
    "emp1.display_info()"
   ]
  },
  {
   "cell_type": "markdown",
   "id": "473da156-5a79-447c-b32f-5a2ef773292d",
   "metadata": {},
   "source": [
    "## Small Company Architecture\n",
    "\n",
    "0 : HR\\\n",
    "1 : IT\\\n",
    "2 : Marketing\\\n",
    "3 : Research"
   ]
  },
  {
   "cell_type": "code",
   "execution_count": 19,
   "id": "77f8b653-c73c-4c4a-9779-e19b486a9ac9",
   "metadata": {},
   "outputs": [],
   "source": [
    "class Department:\n",
    "\n",
    "    def __init__(self):\n",
    "        self.departments = []\n",
    "\n",
    "    def add_department(self, department):\n",
    "        self.departments.append(department)\n",
    "\n",
    "    def get_department(self, _id):\n",
    "        return self.department[_id]"
   ]
  },
  {
   "cell_type": "code",
   "execution_count": 20,
   "id": "9fa502e4-9e41-447d-a23d-d0a056f0d3d3",
   "metadata": {},
   "outputs": [],
   "source": [
    "class Employee:\n",
    "\n",
    "    def __init__(self, emp_id, name, salary, department):\n",
    "\n",
    "        self.emp_id = emp_id\n",
    "        self.name = name\n",
    "        self.salary = salary\n",
    "        self.department = department\n",
    "\n",
    "    def display_info(self):\n",
    "\n",
    "        print(f\"emp_id: {self.emp_id}\")\n",
    "        print(f\"name: {self.name}\")\n",
    "        print(f\"salary: {self.salary}\")\n",
    "        print(f\"department: {self.department}\")\n",
    "\n",
    "    def increment(self, amount):\n",
    "        self.salary += amount"
   ]
  },
  {
   "cell_type": "code",
   "execution_count": 24,
   "id": "5ad32099-759f-4d2e-881d-95ec033de8b8",
   "metadata": {},
   "outputs": [],
   "source": [
    "class Company:\n",
    "\n",
    "    def __init__(self, name, departments):\n",
    "        self.name = name\n",
    "        self.employees = {}\n",
    "        # self.department = Department() # creating Department data type\n",
    "        \n",
    "        # for depart in departments:\n",
    "        #     self.department.add_department(depart)  # adding departments\n",
    "        #     self.employees[depart] = []\n",
    "\n",
    "    def add_employee(self, emp_object):\n",
    "        _dept = emp_object.department\n",
    "        self.employees[_dept].append(emp_object)\n",
    "        "
   ]
  },
  {
   "cell_type": "code",
   "execution_count": 25,
   "id": "2e4be846-3cad-4acc-9540-2634ee7061dc",
   "metadata": {},
   "outputs": [],
   "source": [
    "cmp = Company(\"IT Solution\", [\"HR\",\"IT\",\"Marketing\",\"Research\"])"
   ]
  },
  {
   "cell_type": "code",
   "execution_count": 26,
   "id": "092b0517-8c6c-4700-898c-f74057977669",
   "metadata": {},
   "outputs": [
    {
     "data": {
      "text/plain": [
       "{'HR': [], 'IT': [], 'Marketing': [], 'Research': []}"
      ]
     },
     "execution_count": 26,
     "metadata": {},
     "output_type": "execute_result"
    }
   ],
   "source": [
    "cmp.employees"
   ]
  },
  {
   "cell_type": "code",
   "execution_count": 28,
   "id": "22b58412-ed98-4e76-9f68-16a23d57b505",
   "metadata": {},
   "outputs": [
    {
     "data": {
      "text/plain": [
       "['HR', 'IT', 'Marketing', 'Research']"
      ]
     },
     "execution_count": 28,
     "metadata": {},
     "output_type": "execute_result"
    }
   ],
   "source": [
    "cmp.department.departments"
   ]
  },
  {
   "cell_type": "markdown",
   "id": "c409405a-ede9-45ac-a50a-9acc1a2fa117",
   "metadata": {},
   "source": [
    "**Adding Employee**"
   ]
  },
  {
   "cell_type": "code",
   "execution_count": 32,
   "id": "e6b2911c-e231-49c7-bff9-810ea9c18f6d",
   "metadata": {},
   "outputs": [],
   "source": [
    "emp = Employee(\"emp_it_01\",\"Kushal\", 34000, \"it\")"
   ]
  },
  {
   "cell_type": "code",
   "execution_count": 33,
   "id": "12dae383-2043-4161-a542-878b53162556",
   "metadata": {},
   "outputs": [
    {
     "ename": "KeyError",
     "evalue": "'it'",
     "output_type": "error",
     "traceback": [
      "\u001b[1;31m---------------------------------------------------------------------------\u001b[0m",
      "\u001b[1;31mKeyError\u001b[0m                                  Traceback (most recent call last)",
      "Cell \u001b[1;32mIn [33], line 1\u001b[0m\n\u001b[1;32m----> 1\u001b[0m \u001b[43mcmp\u001b[49m\u001b[38;5;241;43m.\u001b[39;49m\u001b[43madd_employee\u001b[49m\u001b[43m(\u001b[49m\u001b[43memp\u001b[49m\u001b[43m)\u001b[49m\n",
      "Cell \u001b[1;32mIn [24], line 14\u001b[0m, in \u001b[0;36mCompany.add_employee\u001b[1;34m(self, emp_object)\u001b[0m\n\u001b[0;32m     12\u001b[0m \u001b[38;5;28;01mdef\u001b[39;00m \u001b[38;5;21madd_employee\u001b[39m(\u001b[38;5;28mself\u001b[39m, emp_object):\n\u001b[0;32m     13\u001b[0m     _dept \u001b[38;5;241m=\u001b[39m emp_object\u001b[38;5;241m.\u001b[39mdepartment\n\u001b[1;32m---> 14\u001b[0m     \u001b[38;5;28;43mself\u001b[39;49m\u001b[38;5;241;43m.\u001b[39;49m\u001b[43memployees\u001b[49m\u001b[43m[\u001b[49m\u001b[43m_dept\u001b[49m\u001b[43m]\u001b[49m\u001b[38;5;241m.\u001b[39mappend(emp_object)\n",
      "\u001b[1;31mKeyError\u001b[0m: 'it'"
     ]
    }
   ],
   "source": [
    "cmp.add_employee(emp)"
   ]
  },
  {
   "cell_type": "code",
   "execution_count": 31,
   "id": "c509e05e-4e60-4946-ac0a-f9bcc2c0bfb3",
   "metadata": {},
   "outputs": [
    {
     "data": {
      "text/plain": [
       "{'HR': [<__main__.Employee at 0x228e07e0100>],\n",
       " 'IT': [],\n",
       " 'Marketing': [],\n",
       " 'Research': []}"
      ]
     },
     "execution_count": 31,
     "metadata": {},
     "output_type": "execute_result"
    }
   ],
   "source": [
    "cmp.employees"
   ]
  },
  {
   "cell_type": "code",
   "execution_count": null,
   "id": "b56befd6-e840-4567-a01f-b80cacf9f2a4",
   "metadata": {},
   "outputs": [],
   "source": []
  }
 ],
 "metadata": {
  "kernelspec": {
   "display_name": "Python 3 (ipykernel)",
   "language": "python",
   "name": "python3"
  },
  "language_info": {
   "codemirror_mode": {
    "name": "ipython",
    "version": 3
   },
   "file_extension": ".py",
   "mimetype": "text/x-python",
   "name": "python",
   "nbconvert_exporter": "python",
   "pygments_lexer": "ipython3",
   "version": "3.10.5"
  }
 },
 "nbformat": 4,
 "nbformat_minor": 5
}
