{
 "cells": [
  {
   "cell_type": "markdown",
   "id": "2099397a-d7f6-482d-843c-6257875105f8",
   "metadata": {},
   "source": [
    "## Python class\n",
    "\n",
    "```python\n",
    "class <ClassName>:\n",
    "\n",
    "    def __init__(self):\n",
    "        # statement1\n",
    "        # statement2\n",
    "        ...\n",
    "        # statementn\n",
    "\n",
    "```"
   ]
  },
  {
   "cell_type": "code",
   "execution_count": 2,
   "id": "4f815b49-a5f3-4ee7-b7ba-ac84b334f56b",
   "metadata": {},
   "outputs": [],
   "source": [
    "class Employee:\n",
    "\n",
    "    def __init__(self):\n",
    "\n",
    "        self.emp_id = None\n",
    "        self.name = None\n",
    "        self.salary = None\n",
    "        self.department = None\n",
    "\n",
    "    def display_info(self):\n",
    "\n",
    "        print(f\"emp_id: {self.emp_id}\")\n",
    "        print(f\"name: {self.name}\")\n",
    "        print(f\"salary: {self.salary}\")\n",
    "        print(f\"department: {self.department}\")\n",
    "        "
   ]
  },
  {
   "cell_type": "code",
   "execution_count": 3,
   "id": "16c324d1-597a-40b8-8c21-7fd9a9c3b8a8",
   "metadata": {},
   "outputs": [],
   "source": [
    "emp = Employee()"
   ]
  },
  {
   "cell_type": "code",
   "execution_count": 4,
   "id": "0dc0f6bd-34b4-479a-8969-3445797edec4",
   "metadata": {},
   "outputs": [],
   "source": [
    "emp.emp_id = \"emp01\"\n",
    "emp.name = \"suresh\"\n",
    "emp.salary = 30000\n",
    "emp.department = \"IT\""
   ]
  },
  {
   "cell_type": "code",
   "execution_count": 5,
   "id": "bc391580-09ee-484b-88b0-d30eb9e24585",
   "metadata": {},
   "outputs": [
    {
     "name": "stdout",
     "output_type": "stream",
     "text": [
      "emp_id: emp01\n",
      "name: suresh\n",
      "salary: 30000\n",
      "department: IT\n"
     ]
    }
   ],
   "source": [
    "emp.display_info()"
   ]
  },
  {
   "cell_type": "code",
   "execution_count": 9,
   "id": "7379e09a-efe3-4814-be81-2952b246e84b",
   "metadata": {},
   "outputs": [],
   "source": [
    "class Employee:\n",
    "\n",
    "    def __init__(self, emp_id, name, salary, department):\n",
    "\n",
    "        self.emp_id = emp_id\n",
    "        self.name = name\n",
    "        self.salary = salary\n",
    "        self.department = department\n",
    "\n",
    "    def display_info(self):\n",
    "\n",
    "        print(f\"emp_id: {self.emp_id}\")\n",
    "        print(f\"name: {self.name}\")\n",
    "        print(f\"salary: {self.salary}\")\n",
    "        print(f\"department: {self.department}\")\n",
    "\n",
    "    def increment(self, amount):\n",
    "        self.salary += amount"
   ]
  },
  {
   "cell_type": "code",
   "execution_count": 15,
   "id": "71bad08f-a6ad-4a91-825c-f6e171e2fe67",
   "metadata": {},
   "outputs": [],
   "source": [
    "emp1 = Employee(\"emp01\", \"ramesh\", 45000, \"HR\")"
   ]
  },
  {
   "cell_type": "code",
   "execution_count": 16,
   "id": "ea910266-7dca-4894-92fb-531c172a11d7",
   "metadata": {},
   "outputs": [
    {
     "name": "stdout",
     "output_type": "stream",
     "text": [
      "emp_id: emp01\n",
      "name: ramesh\n",
      "salary: 45000\n",
      "department: HR\n"
     ]
    }
   ],
   "source": [
    "emp1.display_info()"
   ]
  },
  {
   "cell_type": "code",
   "execution_count": 17,
   "id": "4ead8065-d1a0-4fb6-9a59-1d88f0eb4b4e",
   "metadata": {},
   "outputs": [],
   "source": [
    "emp1.increment(4000)"
   ]
  },
  {
   "cell_type": "code",
   "execution_count": 18,
   "id": "b500ab13-ef3e-45ec-b575-d07808f019fb",
   "metadata": {},
   "outputs": [
    {
     "name": "stdout",
     "output_type": "stream",
     "text": [
      "emp_id: emp01\n",
      "name: ramesh\n",
      "salary: 49000\n",
      "department: HR\n"
     ]
    }
   ],
   "source": [
    "emp1.display_info()"
   ]
  },
  {
   "cell_type": "markdown",
   "id": "473da156-5a79-447c-b32f-5a2ef773292d",
   "metadata": {},
   "source": [
    "## Small Company Architecture\n",
    "\n",
    "0 : HR\\\n",
    "1 : IT\\\n",
    "2 : Marketing\\\n",
    "3 : Research"
   ]
  },
  {
   "cell_type": "code",
   "execution_count": 1,
   "id": "a12ea1b0-15fe-44ba-a322-7dae11ccb4b5",
   "metadata": {},
   "outputs": [],
   "source": [
    "from enum import Enum"
   ]
  },
  {
   "cell_type": "code",
   "execution_count": 7,
   "id": "976bc553-c93a-4782-a5d8-737ad7de92a4",
   "metadata": {},
   "outputs": [],
   "source": [
    "class Departments(Enum):\n",
    "    HR = 'HR'\n",
    "    IT = 'IT'\n",
    "    MARKETING = \"Marketing\"\n",
    "    RESEARCH = 'Research'\n",
    "    "
   ]
  },
  {
   "cell_type": "code",
   "execution_count": 24,
   "id": "9a4e277d-43b7-4904-ba25-a62291097873",
   "metadata": {},
   "outputs": [
    {
     "data": {
      "text/plain": [
       "'HR'"
      ]
     },
     "execution_count": 24,
     "metadata": {},
     "output_type": "execute_result"
    }
   ],
   "source": [
    "Departments.HR.name"
   ]
  },
  {
   "cell_type": "code",
   "execution_count": 34,
   "id": "77f8b653-c73c-4c4a-9779-e19b486a9ac9",
   "metadata": {},
   "outputs": [],
   "source": [
    "class Department:\n",
    "\n",
    "    def __init__(self, dept_type):\n",
    "        self.Type = dept_type\n",
    "        self.head = None\n",
    "        self.employees = []\n",
    "        self.activity = None\n",
    "\n",
    "    def set_activity(self, activity):\n",
    "        self.activity = activity\n",
    "\n",
    "    def set_head(self, head_id):\n",
    "        self.head = head_id\n",
    "\n",
    "    def add_emp(self, emp):\n",
    "        self.employees.append(emp)"
   ]
  },
  {
   "cell_type": "code",
   "execution_count": 14,
   "id": "171da9cd-0109-4198-99fa-c5843af12dd9",
   "metadata": {},
   "outputs": [],
   "source": [
    "dept1 = Department(Departments.HR)"
   ]
  },
  {
   "cell_type": "code",
   "execution_count": 19,
   "id": "736aecbc-fc81-4678-be93-3436c6de539d",
   "metadata": {},
   "outputs": [],
   "source": [
    "dept1.head"
   ]
  },
  {
   "cell_type": "code",
   "execution_count": 60,
   "id": "9fa502e4-9e41-447d-a23d-d0a056f0d3d3",
   "metadata": {},
   "outputs": [],
   "source": [
    "class Employee:\n",
    "\n",
    "    def __init__(self, emp_id, name, salary):\n",
    "\n",
    "        self.emp_id = emp_id\n",
    "        self.name = name\n",
    "        self.salary = salary\n",
    "\n",
    "    def __repr__(self):\n",
    "        return f\"<Emp:{self.name}>\"\n",
    "\n",
    "    def display_info(self):\n",
    "\n",
    "        print(f\"emp_id: {self.emp_id}\")\n",
    "        print(f\"name: {self.name}\")\n",
    "        print(f\"salary: {self.salary}\")\n",
    "\n",
    "    def increment(self, amount):\n",
    "        self.salary += amount"
   ]
  },
  {
   "cell_type": "code",
   "execution_count": 64,
   "id": "5ad32099-759f-4d2e-881d-95ec033de8b8",
   "metadata": {},
   "outputs": [],
   "source": [
    "class Company:\n",
    "\n",
    "    def __init__(self, name, departments):\n",
    "        self.name = name\n",
    "        self.employees = {}\n",
    "        self.departments = []\n",
    "        \n",
    "        # creating departments using Department class with Department enum list.\n",
    "        for dept in departments:\n",
    "            _dept = Department(dept)\n",
    "            self.departments.append(_dept)\n",
    "            self.employees[_dept.Type] = _dept.employees\n",
    "\n",
    "    def add_department(self, department):\n",
    "        pass\n",
    "\n",
    "    def add_employee(self, emp_object, dept):\n",
    "\n",
    "        # _dept is Department type object\n",
    "        # dept is Departments enum list value\n",
    "        for _dept in self.departments:\n",
    "            # _dept.Type give Departments enum values\n",
    "            if _dept.Type == dept:\n",
    "                _dept.add_emp(emp_object)\n",
    "                \n",
    "        "
   ]
  },
  {
   "cell_type": "code",
   "execution_count": 72,
   "id": "2e4be846-3cad-4acc-9540-2634ee7061dc",
   "metadata": {},
   "outputs": [],
   "source": [
    "cmp = Company(\"IT Solution\", [Departments.HR, Departments.IT])"
   ]
  },
  {
   "cell_type": "markdown",
   "id": "c409405a-ede9-45ac-a50a-9acc1a2fa117",
   "metadata": {},
   "source": [
    "**Adding Employee**"
   ]
  },
  {
   "cell_type": "code",
   "execution_count": 73,
   "id": "e6b2911c-e231-49c7-bff9-810ea9c18f6d",
   "metadata": {},
   "outputs": [],
   "source": [
    "emp = Employee(\"emp_01\",\"Kushal\", 34000)\n",
    "emp1 = Employee(\"emp_02\",\"Ravi\", 45000)\n",
    "emp2 = Employee(\"emp_03\",\"Aashu\", 10000)\n",
    "emp3 = Employee(\"emp_04\",\"Sikander\", 60000)"
   ]
  },
  {
   "cell_type": "code",
   "execution_count": 74,
   "id": "12dae383-2043-4161-a542-878b53162556",
   "metadata": {},
   "outputs": [],
   "source": [
    "cmp.add_employee(emp, Departments.HR)\n",
    "cmp.add_employee(emp1, Departments.IT)\n",
    "cmp.add_employee(emp2, Departments.IT)\n",
    "cmp.add_employee(emp3, Departments.IT)"
   ]
  },
  {
   "cell_type": "code",
   "execution_count": 75,
   "id": "c509e05e-4e60-4946-ac0a-f9bcc2c0bfb3",
   "metadata": {},
   "outputs": [
    {
     "data": {
      "text/plain": [
       "{<Departments.HR: 'HR'>: [<Emp:Kushal>],\n",
       " <Departments.IT: 'IT'>: [<Emp:Ravi>, <Emp:Aashu>, <Emp:Sikander>]}"
      ]
     },
     "execution_count": 75,
     "metadata": {},
     "output_type": "execute_result"
    }
   ],
   "source": [
    "cmp.employees"
   ]
  },
  {
   "cell_type": "code",
   "execution_count": null,
   "id": "f9ca5c07-7911-42fb-8abb-3206acaadf44",
   "metadata": {},
   "outputs": [],
   "source": []
  },
  {
   "cell_type": "code",
   "execution_count": null,
   "id": "c6dcf8fd-f839-4485-b2a2-6d42ed0fc52c",
   "metadata": {},
   "outputs": [],
   "source": []
  }
 ],
 "metadata": {
  "kernelspec": {
   "display_name": "Python 3 (ipykernel)",
   "language": "python",
   "name": "python3"
  },
  "language_info": {
   "codemirror_mode": {
    "name": "ipython",
    "version": 3
   },
   "file_extension": ".py",
   "mimetype": "text/x-python",
   "name": "python",
   "nbconvert_exporter": "python",
   "pygments_lexer": "ipython3",
   "version": "3.10.5"
  }
 },
 "nbformat": 4,
 "nbformat_minor": 5
}
