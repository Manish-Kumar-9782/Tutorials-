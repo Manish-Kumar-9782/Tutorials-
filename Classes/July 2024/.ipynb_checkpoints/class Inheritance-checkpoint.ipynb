{
 "cells": [
  {
   "cell_type": "markdown",
   "id": "09394595-fa9b-4638-a237-57df0ed26f33",
   "metadata": {},
   "source": [
    "## Class Inheritance"
   ]
  },
  {
   "cell_type": "code",
   "execution_count": 1,
   "id": "f102b302-3d37-4676-b661-4f30d02f2d27",
   "metadata": {},
   "outputs": [],
   "source": [
    "class Animal:\n",
    "\n",
    "    def __init__(self, kind, place):\n",
    "        self.kind = kind\n",
    "        self.place = place\n",
    "\n",
    "    def walk(self):\n",
    "        print(\"Animal is walking...\")\n",
    "\n",
    "    def speak(self):\n",
    "        print(\"Animal is speaking..\")\n",
    "\n",
    "    def sleep(self):\n",
    "        print(\"Sleeping...\")\n"
   ]
  },
  {
   "cell_type": "code",
   "execution_count": 2,
   "id": "9a2ed564-3d79-4d08-a205-8a898d5cfd11",
   "metadata": {},
   "outputs": [],
   "source": [
    "animal1 = Animal(\"Mammal\", \"Normal Places\")"
   ]
  },
  {
   "cell_type": "code",
   "execution_count": 3,
   "id": "7cce6550-8995-4cc4-8354-9c3817f2f778",
   "metadata": {},
   "outputs": [],
   "source": [
    "animal2 = Animal(\"Mammal\", \"Normal Places\")"
   ]
  },
  {
   "cell_type": "code",
   "execution_count": 4,
   "id": "ccb47d11-db0a-4f00-ae95-dcd9e72ef379",
   "metadata": {},
   "outputs": [
    {
     "name": "stdout",
     "output_type": "stream",
     "text": [
      "Animal is walking...\n"
     ]
    }
   ],
   "source": [
    "animal1.walk()"
   ]
  },
  {
   "cell_type": "code",
   "execution_count": 5,
   "id": "890a29b6-d8db-4579-9708-d5142a04f0a9",
   "metadata": {},
   "outputs": [
    {
     "name": "stdout",
     "output_type": "stream",
     "text": [
      "Animal is walking...\n"
     ]
    }
   ],
   "source": [
    "animal2.walk()"
   ]
  },
  {
   "cell_type": "code",
   "execution_count": 6,
   "id": "1d0e4083-01ce-4ed2-9109-f1521ab069b2",
   "metadata": {},
   "outputs": [
    {
     "name": "stdout",
     "output_type": "stream",
     "text": [
      "Animal is speaking..\n"
     ]
    }
   ],
   "source": [
    "animal1.speak()"
   ]
  },
  {
   "cell_type": "code",
   "execution_count": 7,
   "id": "dfc95bd3-449f-406e-811a-294d6eb37bf8",
   "metadata": {},
   "outputs": [],
   "source": [
    "class Cat(Animal):\n",
    "\n",
    "    def __init__(self,kind, place, name,breed):\n",
    "        super().__init__(kind,place)\n",
    "        self.name = name\n",
    "        self.breed = breed\n",
    "\n",
    "    def walk(self):\n",
    "        print(\"cat is moving slowing in sneaking mode...\")\n",
    "\n",
    "    def speak(self):\n",
    "        print(\"meoww, meoww .... meoww\")\n",
    "    "
   ]
  },
  {
   "cell_type": "code",
   "execution_count": 8,
   "id": "97092575-1eb7-4dae-a381-e43c45d636a0",
   "metadata": {},
   "outputs": [],
   "source": [
    "class Dog(Animal):\n",
    "    def __init__(self,kind, place, name,breed):\n",
    "        super().__init__(kind,place)\n",
    "        self.name = name\n",
    "        self.breed = breed\n",
    "\n",
    "    def walk(self):\n",
    "        print(\"Dog is moving in attitude\")\n",
    "\n",
    "    def speak(self):\n",
    "        print(\"Bhooo, Bhooo, bhoo...\")"
   ]
  },
  {
   "cell_type": "code",
   "execution_count": 9,
   "id": "57c5cf2a-b4ca-4055-bdea-bdd891c8f0fd",
   "metadata": {},
   "outputs": [],
   "source": [
    "cat = Cat(\"Mammal\",\"Normal Places\",\"caty\",\"Ragdoll\")\n",
    "dog = Dog(\"Mammal\",\"Normal Places\", \"tom\", \"GermanShephard\")"
   ]
  },
  {
   "cell_type": "code",
   "execution_count": 10,
   "id": "d33d93c1-3bb2-4b06-8d3e-385141738012",
   "metadata": {},
   "outputs": [
    {
     "name": "stdout",
     "output_type": "stream",
     "text": [
      "cat is moving slowing in sneaking mode...\n"
     ]
    }
   ],
   "source": [
    "cat.walk()"
   ]
  },
  {
   "cell_type": "code",
   "execution_count": 11,
   "id": "08ffb2bf-baf6-4973-b897-085252cd88a2",
   "metadata": {},
   "outputs": [
    {
     "name": "stdout",
     "output_type": "stream",
     "text": [
      "Bhooo, Bhooo, bhoo...\n"
     ]
    }
   ],
   "source": [
    "dog.speak()"
   ]
  },
  {
   "cell_type": "code",
   "execution_count": 12,
   "id": "5331f067-37e0-4da2-b92e-27e5c72bdc32",
   "metadata": {},
   "outputs": [
    {
     "name": "stdout",
     "output_type": "stream",
     "text": [
      "Sleeping...\n"
     ]
    }
   ],
   "source": [
    "cat.sleep()"
   ]
  },
  {
   "cell_type": "code",
   "execution_count": 13,
   "id": "9a31cfd0-6738-4eb3-bd91-b862011f0b32",
   "metadata": {},
   "outputs": [
    {
     "name": "stdout",
     "output_type": "stream",
     "text": [
      "Sleeping...\n"
     ]
    }
   ],
   "source": [
    "dog.sleep()"
   ]
  },
  {
   "cell_type": "code",
   "execution_count": 24,
   "id": "5dfcdc37-f767-44b8-92f6-a9433445077e",
   "metadata": {},
   "outputs": [],
   "source": [
    "class Table:\n",
    "\n",
    "    def __init__(self, data):\n",
    "        self.data = data\n",
    "        self.rows = []\n",
    "        self.col_size = 20\n",
    "        self.col_space = \"{:\"+self.col_size+\"s}\"\n",
    "\n",
    "\n",
    "    def get_format(self):\n",
    "        return self.col_space*len(data[0])\n",
    "\n",
    "    def initalize_table(self):\n",
    "        for row in self.data:\n",
    "            self.insert_row(row)\n",
    "\n",
    "    def insert_row(self, row_data):\n",
    "        # [\"Aashutosh\",21,5.6,\"B+\"]\n",
    "        _row_data = []\n",
    "    \n",
    "        for x in row_data:\n",
    "            _row_data.append(str(x))\n",
    "    \n",
    "        _row = self.get_format().format(*_row_data)\n",
    "        self.rows.append(_row)\n",
    "\n",
    "    def display(self):\n",
    "        for row in self.rows:\n",
    "            print(row)\n",
    "\n",
    "    def delete_row(self):\n",
    "        pass\n",
    "        "
   ]
  },
  {
   "cell_type": "code",
   "execution_count": 15,
   "id": "c2f93d11-372d-41b4-8e98-02af5ee2bffc",
   "metadata": {},
   "outputs": [],
   "source": [
    "data = [\"Name\",\"age\",\"height\",\"BloodGroup\"]"
   ]
  },
  {
   "cell_type": "code",
   "execution_count": 16,
   "id": "0c3acafa-76f2-4676-a684-2457513c8636",
   "metadata": {},
   "outputs": [
    {
     "data": {
      "text/plain": [
       "'Name      '"
      ]
     },
     "execution_count": 16,
     "metadata": {},
     "output_type": "execute_result"
    }
   ],
   "source": [
    "value = 10\n",
    "(\"{:\"+f\"{value}s\"+\"}\").format(\"Name\")"
   ]
  },
  {
   "cell_type": "code",
   "execution_count": 17,
   "id": "8df9fcb9-2640-4059-8e79-3e31b0c6df29",
   "metadata": {},
   "outputs": [
    {
     "data": {
      "text/plain": [
       "'Name                age                 height              BloodGroup          '"
      ]
     },
     "execution_count": 17,
     "metadata": {},
     "output_type": "execute_result"
    }
   ],
   "source": [
    "(\"{:20s}\"*len(data)).format(*data)"
   ]
  },
  {
   "cell_type": "code",
   "execution_count": 18,
   "id": "dafb086b-6470-44c4-9d89-9b25bfff292d",
   "metadata": {},
   "outputs": [],
   "source": [
    "table = Table([ \n",
    "                [\"Name\",\"age\",\"height\",\"BloodGroup\"],\n",
    "                [\"Aashutosh\",21,5.6,\"B+\"]\n",
    "              ])"
   ]
  },
  {
   "cell_type": "code",
   "execution_count": 21,
   "id": "8103b65c-7f9c-499e-8bbb-24122779429a",
   "metadata": {},
   "outputs": [
    {
     "name": "stdout",
     "output_type": "stream",
     "text": [
      "Name                age                 height              BloodGroup          \n",
      "Aashutosh           21                  5.6                 B+                  \n"
     ]
    }
   ],
   "source": [
    "table.display()"
   ]
  },
  {
   "cell_type": "markdown",
   "id": "26ff6eff-9937-49dc-be05-318cd2b939c9",
   "metadata": {},
   "source": [
    "----------"
   ]
  },
  {
   "cell_type": "markdown",
   "id": "ffca94a6-0490-4ffe-9180-653e30a88dc2",
   "metadata": {},
   "source": [
    "## Enhanching the Table class"
   ]
  },
  {
   "cell_type": "code",
   "execution_count": null,
   "id": "12235f1c-0c99-4334-9b44-bdca380b67fd",
   "metadata": {},
   "outputs": [],
   "source": [
    "class DecoratedTable(Table):\n",
    "\n",
    "    def __init__(self, data):\n",
    "        super().__init__(data, header=False,  header_border=None, data_border=None, separator=None)\n",
    "        self.header_border = header_border\n",
    "        self.data_border = data_border\n",
    "        self.separator = separator\n",
    "        self.header = None\n",
    "        if header:\n",
    "            self.header = self.data[0]\n",
    "\n",
    "    def display(self):\n",
    "        print()\n",
    "    "
   ]
  }
 ],
 "metadata": {
  "kernelspec": {
   "display_name": "Python 3 (ipykernel)",
   "language": "python",
   "name": "python3"
  },
  "language_info": {
   "codemirror_mode": {
    "name": "ipython",
    "version": 3
   },
   "file_extension": ".py",
   "mimetype": "text/x-python",
   "name": "python",
   "nbconvert_exporter": "python",
   "pygments_lexer": "ipython3",
   "version": "3.10.5"
  }
 },
 "nbformat": 4,
 "nbformat_minor": 5
}
