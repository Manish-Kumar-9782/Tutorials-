{
 "cells": [
  {
   "cell_type": "markdown",
   "id": "1d824b70-bfd7-444e-9201-4cafd653b456",
   "metadata": {},
   "source": [
    "# Operators"
   ]
  },
  {
   "cell_type": "markdown",
   "id": "1a1549b9-98bd-450c-82b5-22f6aef33108",
   "metadata": {},
   "source": [
    "\n",
    "**keywords**\n",
    "\n",
    "```python\n",
    "if, else, class, while , for\n",
    "```"
   ]
  },
  {
   "cell_type": "code",
   "execution_count": 1,
   "id": "0f845776-7d7d-4851-9703-6a447d9957d7",
   "metadata": {},
   "outputs": [],
   "source": [
    "age = 10"
   ]
  },
  {
   "cell_type": "code",
   "execution_count": 2,
   "id": "32978472-8118-46d8-8f1f-5fa11ba1a55f",
   "metadata": {},
   "outputs": [
    {
     "data": {
      "text/plain": [
       "10"
      ]
     },
     "execution_count": 2,
     "metadata": {},
     "output_type": "execute_result"
    }
   ],
   "source": [
    "age"
   ]
  },
  {
   "cell_type": "code",
   "execution_count": 3,
   "id": "ba157d16-b68f-4dc7-95f5-b05dcdc6c0dc",
   "metadata": {},
   "outputs": [
    {
     "ename": "NameError",
     "evalue": "name 'Age' is not defined",
     "output_type": "error",
     "traceback": [
      "\u001b[1;31m---------------------------------------------------------------------------\u001b[0m",
      "\u001b[1;31mNameError\u001b[0m                                 Traceback (most recent call last)",
      "Cell \u001b[1;32mIn [3], line 1\u001b[0m\n\u001b[1;32m----> 1\u001b[0m \u001b[43mAge\u001b[49m\n",
      "\u001b[1;31mNameError\u001b[0m: name 'Age' is not defined"
     ]
    }
   ],
   "source": [
    "Age"
   ]
  },
  {
   "cell_type": "code",
   "execution_count": 5,
   "id": "ac298591-b401-4f7a-bad1-4615591a43fe",
   "metadata": {},
   "outputs": [],
   "source": [
    "studentName = \"nisha\""
   ]
  },
  {
   "cell_type": "code",
   "execution_count": 6,
   "id": "b1d212a4-56e1-4254-8815-2fe14ad57e7f",
   "metadata": {},
   "outputs": [
    {
     "data": {
      "text/plain": [
       "'nisha'"
      ]
     },
     "execution_count": 6,
     "metadata": {},
     "output_type": "execute_result"
    }
   ],
   "source": [
    "studentName"
   ]
  },
  {
   "cell_type": "code",
   "execution_count": 7,
   "id": "10da2680-24b4-4c02-8509-3304c6c982e9",
   "metadata": {},
   "outputs": [],
   "source": [
    "a = 10\n",
    "b = 30"
   ]
  },
  {
   "cell_type": "code",
   "execution_count": 8,
   "id": "f5760c7a-50d3-4c87-b572-bf8b59ac2061",
   "metadata": {},
   "outputs": [
    {
     "data": {
      "text/plain": [
       "40"
      ]
     },
     "execution_count": 8,
     "metadata": {},
     "output_type": "execute_result"
    }
   ],
   "source": [
    "a + b"
   ]
  },
  {
   "cell_type": "code",
   "execution_count": 10,
   "id": "c693bac8-920d-4907-9d7b-93bea04bcdd5",
   "metadata": {},
   "outputs": [],
   "source": [
    "x = a+b"
   ]
  },
  {
   "cell_type": "markdown",
   "id": "72358719-17af-45f9-8a2e-54dca3e4f4ab",
   "metadata": {},
   "source": [
    "## Operator\n",
    "\n",
    "1. artithmatic : `+, -, *, /, //, %, **`\n",
    "2. assignment : `=, +=, -=, *=, /=, //=, %=, **=`\n",
    "3. comparison: `<, >, <=, >=, ==, !=`\n",
    "4. logical: `and, or, not`\n",
    "5. bitwise: `&, | ..`\n",
    "6. membership: `in, not in`\n",
    "7. identity: `is, is not`"
   ]
  },
  {
   "cell_type": "code",
   "execution_count": 11,
   "id": "2c7f1635-ec3d-4838-ab4e-d7f1c13ca098",
   "metadata": {},
   "outputs": [],
   "source": [
    "a = 7\n",
    "b= 3"
   ]
  },
  {
   "cell_type": "code",
   "execution_count": 12,
   "id": "76da457e-07a3-406d-a358-2f7d2e9f8d36",
   "metadata": {},
   "outputs": [
    {
     "data": {
      "text/plain": [
       "2.3333333333333335"
      ]
     },
     "execution_count": 12,
     "metadata": {},
     "output_type": "execute_result"
    }
   ],
   "source": [
    "a / b"
   ]
  },
  {
   "cell_type": "code",
   "execution_count": 13,
   "id": "435a49b1-55e3-446f-b31a-50b6022ed18e",
   "metadata": {},
   "outputs": [
    {
     "data": {
      "text/plain": [
       "2"
      ]
     },
     "execution_count": 13,
     "metadata": {},
     "output_type": "execute_result"
    }
   ],
   "source": [
    "a // b"
   ]
  },
  {
   "cell_type": "code",
   "execution_count": 14,
   "id": "60e5166e-b25b-48be-8ff1-d8f51f4be336",
   "metadata": {},
   "outputs": [
    {
     "data": {
      "text/plain": [
       "1"
      ]
     },
     "execution_count": 14,
     "metadata": {},
     "output_type": "execute_result"
    }
   ],
   "source": [
    "a % b"
   ]
  },
  {
   "cell_type": "code",
   "execution_count": 15,
   "id": "ee048630-37d4-4b7b-afe7-4a8f15b5a6ca",
   "metadata": {},
   "outputs": [
    {
     "data": {
      "text/plain": [
       "7"
      ]
     },
     "execution_count": 15,
     "metadata": {},
     "output_type": "execute_result"
    }
   ],
   "source": [
    "(a//b)*b + (a%b)"
   ]
  },
  {
   "cell_type": "code",
   "execution_count": 17,
   "id": "025f2dce-c6e0-4e0f-80fc-e5417d6a95d0",
   "metadata": {},
   "outputs": [
    {
     "data": {
      "text/plain": [
       "[1, 2, 3, 4, 5, 6, 7, 8, 9, 10, 11, 12, 13, 14, 15, 16, 17, 18, 19, 20]"
      ]
     },
     "execution_count": 17,
     "metadata": {},
     "output_type": "execute_result"
    }
   ],
   "source": [
    "list(range(1,21))"
   ]
  },
  {
   "cell_type": "code",
   "execution_count": 67,
   "id": "2d9e77d4-db39-42fc-9594-a7e03019be46",
   "metadata": {},
   "outputs": [
    {
     "name": "stdout",
     "output_type": "stream",
     "text": [
      "1 % 6 == 0 : False\n",
      "do noting\n",
      "2 % 6 == 0 : False\n",
      "do noting\n",
      "3 % 6 == 0 : False\n",
      "do noting\n",
      "4 % 6 == 0 : False\n",
      "do noting\n",
      "5 % 6 == 0 : False\n",
      "do noting\n",
      "6 % 6 == 0 : True\n",
      "7 % 6 == 0 : False\n",
      "do noting\n",
      "8 % 6 == 0 : False\n",
      "do noting\n",
      "9 % 6 == 0 : False\n",
      "do noting\n",
      "10 % 6 == 0 : False\n",
      "do noting\n",
      "11 % 6 == 0 : False\n",
      "do noting\n",
      "12 % 6 == 0 : True\n",
      "13 % 6 == 0 : False\n",
      "do noting\n",
      "14 % 6 == 0 : False\n",
      "do noting\n",
      "15 % 6 == 0 : False\n",
      "do noting\n",
      "16 % 6 == 0 : False\n",
      "do noting\n",
      "17 % 6 == 0 : False\n",
      "do noting\n",
      "18 % 6 == 0 : True\n",
      "19 % 6 == 0 : False\n",
      "do noting\n",
      "20 % 6 == 0 : False\n",
      "do noting\n"
     ]
    }
   ],
   "source": [
    "seg = []\n",
    "cur = []\n",
    "sep = 6\n",
    "for x in list(range(1,21)):\n",
    "    cur.append(x)\n",
    "    print(f\"{x} % {sep} == 0 :\", x % sep == 0)\n",
    "    if x % sep == 0:\n",
    "        seg.append(cur.copy())\n",
    "        cur.clear()\n",
    "    else:\n",
    "        print(\"do noting\")"
   ]
  },
  {
   "cell_type": "code",
   "execution_count": 31,
   "id": "51211b06-40b2-4b99-b619-301375e9c252",
   "metadata": {},
   "outputs": [
    {
     "data": {
      "text/plain": [
       "[19, 20]"
      ]
     },
     "execution_count": 31,
     "metadata": {},
     "output_type": "execute_result"
    }
   ],
   "source": [
    "cur"
   ]
  },
  {
   "cell_type": "code",
   "execution_count": 32,
   "id": "0f2874cd-7926-47c3-b5da-b6549c5db8ab",
   "metadata": {},
   "outputs": [
    {
     "data": {
      "text/plain": [
       "[[1, 2, 3, 4, 5, 6], [7, 8, 9, 10, 11, 12], [13, 14, 15, 16, 17, 18]]"
      ]
     },
     "execution_count": 32,
     "metadata": {},
     "output_type": "execute_result"
    }
   ],
   "source": [
    "seg"
   ]
  },
  {
   "cell_type": "markdown",
   "id": "6623c0a7-2a19-4f85-8b24-b303b979b87a",
   "metadata": {},
   "source": [
    "**Assignment operator**"
   ]
  },
  {
   "cell_type": "code",
   "execution_count": 33,
   "id": "45ec1de7-5a24-435a-811b-9c87c479aa57",
   "metadata": {},
   "outputs": [],
   "source": [
    "age = 10"
   ]
  },
  {
   "cell_type": "code",
   "execution_count": 34,
   "id": "b2d765ae-3169-4d99-aeb6-bdedc0a0fe0a",
   "metadata": {},
   "outputs": [
    {
     "data": {
      "text/plain": [
       "11"
      ]
     },
     "execution_count": 34,
     "metadata": {},
     "output_type": "execute_result"
    }
   ],
   "source": [
    "age + 1"
   ]
  },
  {
   "cell_type": "code",
   "execution_count": 35,
   "id": "fa2563b2-745f-4c12-81c3-3604c7113108",
   "metadata": {},
   "outputs": [
    {
     "data": {
      "text/plain": [
       "10"
      ]
     },
     "execution_count": 35,
     "metadata": {},
     "output_type": "execute_result"
    }
   ],
   "source": [
    "age"
   ]
  },
  {
   "cell_type": "code",
   "execution_count": 36,
   "id": "6f2f4c1e-1fe4-45bc-8c13-6abff2bebf2a",
   "metadata": {},
   "outputs": [],
   "source": [
    "age = age + 1  # age += 1"
   ]
  },
  {
   "cell_type": "code",
   "execution_count": 37,
   "id": "72316870-a719-4629-8a76-648b95994843",
   "metadata": {},
   "outputs": [
    {
     "data": {
      "text/plain": [
       "11"
      ]
     },
     "execution_count": 37,
     "metadata": {},
     "output_type": "execute_result"
    }
   ],
   "source": [
    "age"
   ]
  },
  {
   "cell_type": "code",
   "execution_count": 38,
   "id": "5d2cbd43-6662-432c-9654-1a5e1195fbbf",
   "metadata": {},
   "outputs": [],
   "source": [
    "age += 1"
   ]
  },
  {
   "cell_type": "code",
   "execution_count": 40,
   "id": "158132c9-888b-40a2-a689-b2e2b01c186e",
   "metadata": {},
   "outputs": [],
   "source": [
    "age += 3"
   ]
  },
  {
   "cell_type": "code",
   "execution_count": 41,
   "id": "ca87d5eb-0faa-4420-bd76-6d72edbbb2b3",
   "metadata": {},
   "outputs": [],
   "source": [
    "age += 5"
   ]
  },
  {
   "cell_type": "code",
   "execution_count": 42,
   "id": "cb709634-26b8-4d10-b0e8-a3acbeba571e",
   "metadata": {},
   "outputs": [
    {
     "data": {
      "text/plain": [
       "20"
      ]
     },
     "execution_count": 42,
     "metadata": {},
     "output_type": "execute_result"
    }
   ],
   "source": [
    "age"
   ]
  },
  {
   "cell_type": "code",
   "execution_count": 43,
   "id": "2b07ca7e-2188-483f-baba-88fa8a94f300",
   "metadata": {},
   "outputs": [],
   "source": [
    "a = 7\n",
    "b = 4"
   ]
  },
  {
   "cell_type": "code",
   "execution_count": 44,
   "id": "f6e4434c-48d9-4ad7-9349-facef66639e2",
   "metadata": {},
   "outputs": [
    {
     "data": {
      "text/plain": [
       "True"
      ]
     },
     "execution_count": 44,
     "metadata": {},
     "output_type": "execute_result"
    }
   ],
   "source": [
    "a > b"
   ]
  },
  {
   "cell_type": "code",
   "execution_count": 47,
   "id": "f2ac8280-57ea-44df-9173-9bc9cf9a631a",
   "metadata": {},
   "outputs": [
    {
     "data": {
      "text/plain": [
       "False"
      ]
     },
     "execution_count": 47,
     "metadata": {},
     "output_type": "execute_result"
    }
   ],
   "source": [
    "a < b"
   ]
  },
  {
   "cell_type": "code",
   "execution_count": 48,
   "id": "7e7bdaed-c9dc-4ee5-b281-7c5bd4e7087f",
   "metadata": {},
   "outputs": [
    {
     "data": {
      "text/plain": [
       "False"
      ]
     },
     "execution_count": 48,
     "metadata": {},
     "output_type": "execute_result"
    }
   ],
   "source": [
    "a <= b"
   ]
  },
  {
   "cell_type": "code",
   "execution_count": 49,
   "id": "19ff3f63-45d2-4484-aa66-2529162fe141",
   "metadata": {},
   "outputs": [
    {
     "data": {
      "text/plain": [
       "True"
      ]
     },
     "execution_count": 49,
     "metadata": {},
     "output_type": "execute_result"
    }
   ],
   "source": [
    "a >= b"
   ]
  },
  {
   "cell_type": "code",
   "execution_count": 50,
   "id": "636076bb-d730-4d94-9a24-f6a94b2d3e01",
   "metadata": {},
   "outputs": [],
   "source": [
    "a = 10\n",
    "b = 10"
   ]
  },
  {
   "cell_type": "code",
   "execution_count": 51,
   "id": "a83bcb3d-a7f1-4e5c-8cce-672b7ea1ad1a",
   "metadata": {},
   "outputs": [
    {
     "data": {
      "text/plain": [
       "True"
      ]
     },
     "execution_count": 51,
     "metadata": {},
     "output_type": "execute_result"
    }
   ],
   "source": [
    "a <= b"
   ]
  },
  {
   "cell_type": "code",
   "execution_count": 52,
   "id": "45e70f7d-c208-466f-a0ce-745a58c65c8a",
   "metadata": {},
   "outputs": [
    {
     "data": {
      "text/plain": [
       "True"
      ]
     },
     "execution_count": 52,
     "metadata": {},
     "output_type": "execute_result"
    }
   ],
   "source": [
    "b >= a"
   ]
  },
  {
   "cell_type": "code",
   "execution_count": 53,
   "id": "c04e71e1-b265-455b-af3f-6e9cbb32775a",
   "metadata": {},
   "outputs": [
    {
     "data": {
      "text/plain": [
       "True"
      ]
     },
     "execution_count": 53,
     "metadata": {},
     "output_type": "execute_result"
    }
   ],
   "source": [
    "a == b"
   ]
  },
  {
   "cell_type": "code",
   "execution_count": 54,
   "id": "952904dc-a45d-41af-b33d-7727b2d93d5f",
   "metadata": {},
   "outputs": [
    {
     "data": {
      "text/plain": [
       "False"
      ]
     },
     "execution_count": 54,
     "metadata": {},
     "output_type": "execute_result"
    }
   ],
   "source": [
    "a != b"
   ]
  },
  {
   "cell_type": "code",
   "execution_count": 56,
   "id": "e573417c-caa8-404c-b2d1-b8180928c09f",
   "metadata": {},
   "outputs": [
    {
     "name": "stdout",
     "output_type": "stream",
     "text": [
      "1 % 6 == 0 : True\n",
      "2 % 6 == 0 : True\n",
      "3 % 6 == 0 : True\n",
      "4 % 6 == 0 : True\n",
      "5 % 6 == 0 : True\n",
      "6 % 6 == 0 : False\n",
      "7 % 6 == 0 : True\n",
      "8 % 6 == 0 : True\n",
      "9 % 6 == 0 : True\n",
      "10 % 6 == 0 : True\n",
      "11 % 6 == 0 : True\n",
      "12 % 6 == 0 : False\n",
      "13 % 6 == 0 : True\n",
      "14 % 6 == 0 : True\n",
      "15 % 6 == 0 : True\n",
      "16 % 6 == 0 : True\n",
      "17 % 6 == 0 : True\n",
      "18 % 6 == 0 : False\n",
      "19 % 6 == 0 : True\n",
      "20 % 6 == 0 : True\n"
     ]
    }
   ],
   "source": [
    "seg = []\n",
    "cur = []\n",
    "sep = 6\n",
    "for x in list(range(1,21)):\n",
    "    cur.append(x)\n",
    "    print(f\"{x} % {sep} == 0 :\", x % sep != 0)\n",
    "    \n",
    "    if x % sep != 0:\n",
    "        pass\n",
    "    else:\n",
    "        seg.append(cur.copy())\n",
    "        cur.clear()"
   ]
  },
  {
   "cell_type": "code",
   "execution_count": 57,
   "id": "00a48319-3176-414b-a0aa-38abe6065af4",
   "metadata": {},
   "outputs": [
    {
     "data": {
      "text/plain": [
       "[[1, 2, 3, 4, 5, 6], [7, 8, 9, 10, 11, 12], [13, 14, 15, 16, 17, 18]]"
      ]
     },
     "execution_count": 57,
     "metadata": {},
     "output_type": "execute_result"
    }
   ],
   "source": [
    "seg"
   ]
  },
  {
   "cell_type": "markdown",
   "id": "ea97940f-4355-461c-b970-ba58cc3e3c77",
   "metadata": {},
   "source": [
    "## logical opeartor\n",
    "\n",
    "**`and` operator**\n",
    "\n",
    "* `True` and `True`  ----> `True`\n",
    "* `True` and `False` ----> `False`\n",
    "* `False` and `True` ----> `False`\n",
    "* `False` and `False`----> `False`\n",
    "\n",
    "**`or` operator**\n",
    "\n",
    "* `True` or `True`  ----> `True`\n",
    "* `True` or `False` ----> `True`\n",
    "* `False` or `True` ----> `True`\n",
    "* `False` or `False`----> `False`"
   ]
  },
  {
   "cell_type": "code",
   "execution_count": 58,
   "id": "bbf0122b-db91-407d-9255-683db69350c8",
   "metadata": {},
   "outputs": [],
   "source": [
    "isBikeKey = False\n",
    "isPetrol = True"
   ]
  },
  {
   "cell_type": "code",
   "execution_count": 59,
   "id": "fc40ecdc-c640-4fd1-93db-429353125857",
   "metadata": {},
   "outputs": [
    {
     "name": "stdout",
     "output_type": "stream",
     "text": [
      "we can't use bike\n"
     ]
    }
   ],
   "source": [
    "if isBikeKey and isPetrol:\n",
    "    print(\"we can use bike\")\n",
    "else:\n",
    "    print(\"we can't use bike\")"
   ]
  },
  {
   "cell_type": "markdown",
   "id": "1f9aab3f-d1e7-4667-b02e-697cc0569003",
   "metadata": {},
   "source": [
    "**comparing a number**"
   ]
  },
  {
   "cell_type": "code",
   "execution_count": 65,
   "id": "9e0d0bce-880d-4120-8baf-bff35a3d9935",
   "metadata": {},
   "outputs": [],
   "source": [
    "age = 18"
   ]
  },
  {
   "cell_type": "code",
   "execution_count": 66,
   "id": "4e7b16fa-d12f-41a0-974e-dd1f3df87e92",
   "metadata": {},
   "outputs": [
    {
     "name": "stdout",
     "output_type": "stream",
     "text": [
      "congrat.., hurrrey , happy birthday bday\n"
     ]
    }
   ],
   "source": [
    "if age > 18:\n",
    "    print(\"person is adult\")\n",
    "elif age == 18:\n",
    "    print(\"congrat.., hurrrey , happy birthday bday\")\n",
    "else:\n",
    "    print(\"person is minor\")"
   ]
  },
  {
   "cell_type": "code",
   "execution_count": 68,
   "id": "0bd512a5-a941-484b-b2ae-62d124c0681f",
   "metadata": {},
   "outputs": [],
   "source": [
    "def isPrime(n):\n",
    "\n",
    "    if n < 1:\n",
    "        return False\n",
    "\n",
    "    for i in range(2, n):\n",
    "        if n%i == 0:\n",
    "            return False\n",
    "\n",
    "    return True\n",
    "    "
   ]
  },
  {
   "cell_type": "code",
   "execution_count": 70,
   "id": "3b538435-9864-4980-aa67-7403b90d7f2e",
   "metadata": {},
   "outputs": [
    {
     "data": {
      "text/plain": [
       "False"
      ]
     },
     "execution_count": 70,
     "metadata": {},
     "output_type": "execute_result"
    }
   ],
   "source": [
    "isPrime(22)"
   ]
  },
  {
   "cell_type": "code",
   "execution_count": null,
   "id": "f7011a1d-bd37-4cfa-8497-1a66dbb6132d",
   "metadata": {},
   "outputs": [],
   "source": []
  }
 ],
 "metadata": {
  "kernelspec": {
   "display_name": "Python 3 (ipykernel)",
   "language": "python",
   "name": "python3"
  },
  "language_info": {
   "codemirror_mode": {
    "name": "ipython",
    "version": 3
   },
   "file_extension": ".py",
   "mimetype": "text/x-python",
   "name": "python",
   "nbconvert_exporter": "python",
   "pygments_lexer": "ipython3",
   "version": "3.10.5"
  }
 },
 "nbformat": 4,
 "nbformat_minor": 5
}
