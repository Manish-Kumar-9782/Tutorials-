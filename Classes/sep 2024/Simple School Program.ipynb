{
 "cells": [
  {
   "cell_type": "markdown",
   "id": "3d4c6875-e9ab-4a08-9c23-3f9d1bbcb2f5",
   "metadata": {},
   "source": [
    "## Classes"
   ]
  },
  {
   "cell_type": "code",
   "execution_count": 6,
   "id": "e71a2548-4b4e-47d1-b43d-763faa192a9f",
   "metadata": {},
   "outputs": [],
   "source": [
    "class Student:\n",
    "\n",
    "    def __init__(self, name,age,height, bloodgroup, _class):\n",
    "        self.name = name\n",
    "        self.age = age\n",
    "        self.height = height\n",
    "        self.bloodgroup = bloodgroup\n",
    "        self.subject_marks = {}\n",
    "        self.standard = _class\n"
   ]
  },
  {
   "cell_type": "code",
   "execution_count": 4,
   "id": "4256ca34-fb95-4dbb-aae1-a323b2665be3",
   "metadata": {},
   "outputs": [],
   "source": [
    "class Teacher:\n",
    "\n",
    "    def __init__(self, name, department, subject):\n",
    "        self.name = name\n",
    "        self.department = department\n",
    "        self.subject = subject"
   ]
  },
  {
   "cell_type": "code",
   "execution_count": 41,
   "id": "2b7a1c60-6e66-4280-bb6d-ad3502dfaa11",
   "metadata": {},
   "outputs": [],
   "source": [
    "# This class will be used inside School \n",
    "class Standard:\n",
    "\n",
    "    def __init__(self, _class):\n",
    "        self.standard = _class\n",
    "        self.monitor = None\n",
    "        self.class_teacher = None\n",
    "        self.students = []\n",
    "\n",
    "    def __repr__(self):\n",
    "        total_students = len(self.students)\n",
    "        teacher = self.class_teacher\n",
    "        monitor = self.monitor\n",
    "        # if class teacher is not set\n",
    "        if not teacher:\n",
    "            teacher = \"NotAssigned\"\n",
    "\n",
    "\n",
    "        # if class monitor is not set\n",
    "        if not monitor:\n",
    "            monitor = \"NotAssigned\"\n",
    "        \n",
    "        return f\"<StudentClass:{self.standard}-th ,\\\n",
    "Students:{total_students}, \\\n",
    "Teacher:{teacher}, Monitor:{monitor}>\"\n",
    "\n",
    "    def add_student(self, student):\n",
    "        self.students.append(student)\n",
    "    "
   ]
  },
  {
   "cell_type": "code",
   "execution_count": 42,
   "id": "e38173fd-16ca-4d0f-8e5b-be568a4d38d9",
   "metadata": {},
   "outputs": [],
   "source": [
    "class School:\n",
    "\n",
    "    def __init__(self, name):\n",
    "\n",
    "        self.name = name\n",
    "        self.standards = []\n",
    "        self.teachers = []\n",
    "\n",
    "        for i in range(1,12):\n",
    "            # creating StudentClasses\n",
    "            st_class = Standard(i)\n",
    "            self.standards.append(st_class)\n",
    "\n",
    "    def hire_teacher(self, name, department, subject):\n",
    "\n",
    "        # first create teacher object\n",
    "        teacher = Teacher(name, department, subject)\n",
    "        self.teachers.append(teacher)\n",
    "    \n",
    "    # a method to add a new student\n",
    "    def adimit_student(self, name,age,height,bloodgroup, _class):\n",
    "\n",
    "        # first create a student object\n",
    "        student = Student(name,age,height,bloodgroup,_class)\n",
    "\n",
    "        for class_obj in self.students_classes:\n",
    "            if class_obj.standard == _class:\n",
    "                class_obj.add_student(student)\n",
    "                break\n",
    "        "
   ]
  },
  {
   "cell_type": "code",
   "execution_count": 37,
   "id": "c060b465-458d-4a69-8dd8-be0930e493bf",
   "metadata": {},
   "outputs": [],
   "source": [
    "school = School(\"SMDJ\")"
   ]
  },
  {
   "cell_type": "code",
   "execution_count": 38,
   "id": "03a88a11-73db-4939-92eb-a4f1ede58fdd",
   "metadata": {},
   "outputs": [
    {
     "data": {
      "text/plain": [
       "[<StudentClass:1-th ,Students:0, Teacher:NotAssigned, Monitor:NotAssigned>,\n",
       " <StudentClass:2-th ,Students:0, Teacher:NotAssigned, Monitor:NotAssigned>,\n",
       " <StudentClass:3-th ,Students:0, Teacher:NotAssigned, Monitor:NotAssigned>,\n",
       " <StudentClass:4-th ,Students:0, Teacher:NotAssigned, Monitor:NotAssigned>,\n",
       " <StudentClass:5-th ,Students:0, Teacher:NotAssigned, Monitor:NotAssigned>,\n",
       " <StudentClass:6-th ,Students:0, Teacher:NotAssigned, Monitor:NotAssigned>,\n",
       " <StudentClass:7-th ,Students:0, Teacher:NotAssigned, Monitor:NotAssigned>,\n",
       " <StudentClass:8-th ,Students:0, Teacher:NotAssigned, Monitor:NotAssigned>,\n",
       " <StudentClass:9-th ,Students:0, Teacher:NotAssigned, Monitor:NotAssigned>,\n",
       " <StudentClass:10-th ,Students:0, Teacher:NotAssigned, Monitor:NotAssigned>,\n",
       " <StudentClass:11-th ,Students:0, Teacher:NotAssigned, Monitor:NotAssigned>]"
      ]
     },
     "execution_count": 38,
     "metadata": {},
     "output_type": "execute_result"
    }
   ],
   "source": [
    "school.student_classes"
   ]
  },
  {
   "cell_type": "code",
   "execution_count": null,
   "id": "f7ca0725-bc60-4c99-900c-dfed7eac5261",
   "metadata": {},
   "outputs": [],
   "source": []
  }
 ],
 "metadata": {
  "kernelspec": {
   "display_name": "Python 3 (ipykernel)",
   "language": "python",
   "name": "python3"
  },
  "language_info": {
   "codemirror_mode": {
    "name": "ipython",
    "version": 3
   },
   "file_extension": ".py",
   "mimetype": "text/x-python",
   "name": "python",
   "nbconvert_exporter": "python",
   "pygments_lexer": "ipython3",
   "version": "3.10.5"
  }
 },
 "nbformat": 4,
 "nbformat_minor": 5
}
