{
 "cells": [
  {
   "cell_type": "markdown",
   "id": "3d4c6875-e9ab-4a08-9c23-3f9d1bbcb2f5",
   "metadata": {},
   "source": [
    "## Classes"
   ]
  },
  {
   "cell_type": "code",
   "execution_count": 1,
   "id": "e71a2548-4b4e-47d1-b43d-763faa192a9f",
   "metadata": {},
   "outputs": [],
   "source": [
    "class Student:\n",
    "\n",
    "    def __init__(self, name,age,height, bloodgroup, _class):\n",
    "        self.name = name\n",
    "        self.age = age\n",
    "        self.height = height\n",
    "        self.bloodgroup = bloodgroup\n",
    "        self.subject_marks = {}\n",
    "        self.standard = _class\n"
   ]
  },
  {
   "cell_type": "code",
   "execution_count": 2,
   "id": "4256ca34-fb95-4dbb-aae1-a323b2665be3",
   "metadata": {},
   "outputs": [],
   "source": [
    "class Teacher:\n",
    "\n",
    "    def __init__(self, name, department, subject):\n",
    "        self.name = name\n",
    "        self.department = department\n",
    "        self.subject = subject"
   ]
  },
  {
   "cell_type": "code",
   "execution_count": 7,
   "id": "2b7a1c60-6e66-4280-bb6d-ad3502dfaa11",
   "metadata": {},
   "outputs": [],
   "source": [
    "# This class will be used inside School \n",
    "class Standard:\n",
    "\n",
    "    def __init__(self, _class):\n",
    "        self.class_number = _class\n",
    "        self.monitor = None\n",
    "        self.class_teacher = None\n",
    "        self.students = []\n",
    "\n",
    "    def __repr__(self):\n",
    "        total_students = len(self.students)\n",
    "        teacher = self.class_teacher\n",
    "        monitor = self.monitor\n",
    "        # if class teacher is not set\n",
    "        if not teacher:\n",
    "            teacher = \"NotAssigned\"\n",
    "\n",
    "\n",
    "        # if class monitor is not set\n",
    "        if not monitor:\n",
    "            monitor = \"NotAssigned\"\n",
    "        \n",
    "        return f\"<StudentClass:{self.class_number}-th, Students:{total_students}, Teacher:{teacher}, Monitor:{monitor}>\"\n",
    "\n",
    "    def add_student(self, student):\n",
    "        self.students.append(student)\n",
    "    "
   ]
  },
  {
   "cell_type": "code",
   "execution_count": 25,
   "id": "e38173fd-16ca-4d0f-8e5b-be568a4d38d9",
   "metadata": {},
   "outputs": [],
   "source": [
    "class School:\n",
    "\n",
    "    def __init__(self, name):\n",
    "\n",
    "        self.name = name\n",
    "        self.standards = []\n",
    "        self.teachers = []\n",
    "\n",
    "        for i in range(1,13):\n",
    "            # st_standard : a Standard's class object to store information\n",
    "            # of a standard in which students will study.\n",
    "            st_standard = Standard(i)\n",
    "            self.standards.append(st_standard)\n",
    "\n",
    "    # a method to access a standard from standards list\n",
    "    def get_standard(self, n:int):\n",
    "        \"\"\"\n",
    "        n : n must be an positive integer type value.\n",
    "\n",
    "        =======\n",
    "        return : Standard object.\n",
    "        \"\"\"\n",
    "        n_standards = len(self.standards)\n",
    "\n",
    "        # if n is greater then n_starndards\n",
    "        if n > n_standards:\n",
    "            print(f\"This school only has {n_standards}, from 1 to {n_standards}\")\n",
    "\n",
    "        return self.standards[n-1]\n",
    "    \n",
    "    \n",
    "    def hire_teacher(self, name, department, subject):\n",
    "\n",
    "        # first create teacher object\n",
    "        teacher = Teacher(name, department, subject)\n",
    "        self.teachers.append(teacher)\n",
    "    \n",
    "    # a method to add a new student\n",
    "    def admit_student(self, name,age,height,bloodgroup, _class):\n",
    "\n",
    "        # first create a student object\n",
    "        student = Student(name,age,height,bloodgroup,_class)\n",
    "\n",
    "        # here standard represent a Standard's \n",
    "        std = self.get_standard(_class)\n",
    "        std.add_student(student)\n",
    "        "
   ]
  },
  {
   "cell_type": "code",
   "execution_count": 26,
   "id": "c060b465-458d-4a69-8dd8-be0930e493bf",
   "metadata": {},
   "outputs": [],
   "source": [
    "school = School(\"SMDJ\")"
   ]
  },
  {
   "cell_type": "code",
   "execution_count": 27,
   "id": "904f0040-fd71-46ab-be7d-40409d518dfb",
   "metadata": {},
   "outputs": [],
   "source": [
    "school.admit_student(\"Rahul\", 15, 4.7, \"B+\", 10)"
   ]
  },
  {
   "cell_type": "code",
   "execution_count": 28,
   "id": "03a88a11-73db-4939-92eb-a4f1ede58fdd",
   "metadata": {},
   "outputs": [
    {
     "data": {
      "text/plain": [
       "[<StudentClass:1-th, Students:0, Teacher:NotAssigned, Monitor:NotAssigned>,\n",
       " <StudentClass:2-th, Students:0, Teacher:NotAssigned, Monitor:NotAssigned>,\n",
       " <StudentClass:3-th, Students:0, Teacher:NotAssigned, Monitor:NotAssigned>,\n",
       " <StudentClass:4-th, Students:0, Teacher:NotAssigned, Monitor:NotAssigned>,\n",
       " <StudentClass:5-th, Students:0, Teacher:NotAssigned, Monitor:NotAssigned>,\n",
       " <StudentClass:6-th, Students:0, Teacher:NotAssigned, Monitor:NotAssigned>,\n",
       " <StudentClass:7-th, Students:0, Teacher:NotAssigned, Monitor:NotAssigned>,\n",
       " <StudentClass:8-th, Students:0, Teacher:NotAssigned, Monitor:NotAssigned>,\n",
       " <StudentClass:9-th, Students:0, Teacher:NotAssigned, Monitor:NotAssigned>,\n",
       " <StudentClass:10-th, Students:1, Teacher:NotAssigned, Monitor:NotAssigned>,\n",
       " <StudentClass:11-th, Students:0, Teacher:NotAssigned, Monitor:NotAssigned>,\n",
       " <StudentClass:12-th, Students:0, Teacher:NotAssigned, Monitor:NotAssigned>]"
      ]
     },
     "execution_count": 28,
     "metadata": {},
     "output_type": "execute_result"
    }
   ],
   "source": [
    "school.standards"
   ]
  },
  {
   "cell_type": "code",
   "execution_count": 62,
   "id": "f7ca0725-bc60-4c99-900c-dfed7eac5261",
   "metadata": {},
   "outputs": [],
   "source": [
    "new_studnet_standard  =  Standard(10)"
   ]
  },
  {
   "cell_type": "code",
   "execution_count": 64,
   "id": "5f1b020e-a1f0-404f-bb4b-09c305ed4dae",
   "metadata": {},
   "outputs": [],
   "source": [
    "new_studnet_standard.monitor = \"Himanshu\""
   ]
  },
  {
   "cell_type": "code",
   "execution_count": 65,
   "id": "4f582b37-ef67-4cd9-936f-dbd8f2ed7231",
   "metadata": {},
   "outputs": [
    {
     "data": {
      "text/plain": [
       "<StudentClass:10-th ,Students:0, Teacher:NotAssigned, Monitor:Himanshu>"
      ]
     },
     "execution_count": 65,
     "metadata": {},
     "output_type": "execute_result"
    }
   ],
   "source": [
    "new_studnet_standard"
   ]
  },
  {
   "cell_type": "code",
   "execution_count": 3,
   "id": "d9081b21-f101-4f05-bec0-d293a9e5e4b0",
   "metadata": {},
   "outputs": [],
   "source": [
    "teacher = Teacher(\"Ramesh\",\"Math\",\"Math\")"
   ]
  },
  {
   "cell_type": "code",
   "execution_count": 4,
   "id": "1f5a0ba5-0c69-4ecf-b14a-2e3d55cc06c7",
   "metadata": {},
   "outputs": [
    {
     "data": {
      "text/plain": [
       "<__main__.Teacher at 0x1d69c3c44f0>"
      ]
     },
     "execution_count": 4,
     "metadata": {},
     "output_type": "execute_result"
    }
   ],
   "source": [
    "teacher"
   ]
  },
  {
   "cell_type": "code",
   "execution_count": 31,
   "id": "03b4c976-918c-4858-a7d2-3cdb7977f7df",
   "metadata": {},
   "outputs": [],
   "source": [
    "indian_students = [\n",
    "    \"Aarav Sharma\", \"Vivaan Patel\", \"Aditya Singh\", \"Vihaan Gupta\", \"Arjun Kumar\",\n",
    "    \"Sai Reddy\", \"Reyansh Mehta\", \"Ayaan Joshi\", \"Krishna Nair\", \"Ishaan Verma\",\n",
    "    \"Dhruv Choudhary\", \"Kabir Rao\", \"Aarush Jain\", \"Atharv Mishra\", \"Rudra Thakur\",\n",
    "    \"Anay Bhatia\", \"Arnav Desai\", \"Advait Iyer\", \"Aarav Kapoor\", \"Vivaan Malhotra\",\n",
    "    \"Aditya Chauhan\", \"Vihaan Saxena\", \"Arjun Bhatt\", \"Sai Menon\", \"Reyansh Sinha\",\n",
    "    \"Ayaan Roy\", \"Krishna Das\", \"Ishaan Ghosh\", \"Dhruv Kulkarni\", \"Kabir Sharma\",\n",
    "    \"Aarush Pandey\", \"Atharv Reddy\", \"Rudra Joshi\", \"Anay Nair\", \"Arnav Gupta\",\n",
    "    \"Advait Singh\", \"Aarav Mehta\", \"Vivaan Kumar\", \"Aditya Rao\", \"Vihaan Kapoor\"\n",
    "]\n",
    "\n",
    "\n",
    "indian_students_2 = [\n",
    "    \"Rohan Sharma\", \"Ananya Patel\", \"Kunal Singh\", \"Meera Gupta\", \"Nikhil Kumar\",\n",
    "    \"Priya Reddy\", \"Riya Mehta\", \"Aman Joshi\", \"Siddharth Nair\", \"Tara Verma\",\n",
    "    \"Vikram Choudhary\", \"Neha Rao\", \"Rakesh Jain\", \"Sneha Mishra\", \"Rohit Thakur\",\n",
    "    \"Pooja Bhatia\", \"Arjun Desai\", \"Kavya Iyer\", \"Manish Kapoor\", \"Sana Malhotra\",\n",
    "    \"Raj Chauhan\", \"Anjali Saxena\", \"Karan Bhatt\", \"Divya Menon\", \"Rahul Sinha\",\n",
    "    \"Simran Roy\", \"Vivek Das\", \"Aditi Ghosh\", \"Harsh Kulkarni\", \"Nisha Sharma\",\n",
    "    \"Aakash Pandey\", \"Isha Reddy\", \"Ravi Joshi\", \"Swati Nair\", \"Gaurav Gupta\",\n",
    "    \"Shreya Singh\", \"Nitin Mehta\", \"Pallavi Kumar\", \"Suresh Rao\", \"Nidhi Kapoor\"\n",
    "]\n"
   ]
  },
  {
   "cell_type": "code",
   "execution_count": 33,
   "id": "5239232a-dbaa-41f6-b36b-ad2d7dbac7eb",
   "metadata": {},
   "outputs": [
    {
     "name": "stdout",
     "output_type": "stream",
     "text": [
      "['Aarav Sharma', 'Vivaan Patel', 'Aditya Singh', 'Vihaan Gupta', 'Arjun Kumar', 'Sai Reddy', 'Reyansh Mehta', 'Ayaan Joshi', 'Krishna Nair', 'Ishaan Verma', 'Dhruv Choudhary', 'Kabir Rao', 'Aarush Jain', 'Atharv Mishra', 'Rudra Thakur', 'Anay Bhatia', 'Arnav Desai', 'Advait Iyer', 'Aarav Kapoor', 'Vivaan Malhotra', 'Aditya Chauhan', 'Vihaan Saxena', 'Arjun Bhatt', 'Sai Menon', 'Reyansh Sinha', 'Ayaan Roy', 'Krishna Das', 'Ishaan Ghosh', 'Dhruv Kulkarni', 'Kabir Sharma', 'Aarush Pandey', 'Atharv Reddy', 'Rudra Joshi', 'Anay Nair', 'Arnav Gupta', 'Advait Singh', 'Aarav Mehta', 'Vivaan Kumar', 'Aditya Rao', 'Vihaan Kapoor', 'Rohan Sharma', 'Ananya Patel', 'Kunal Singh', 'Meera Gupta', 'Nikhil Kumar', 'Priya Reddy', 'Riya Mehta', 'Aman Joshi', 'Siddharth Nair', 'Tara Verma', 'Vikram Choudhary', 'Neha Rao', 'Rakesh Jain', 'Sneha Mishra', 'Rohit Thakur', 'Pooja Bhatia', 'Arjun Desai', 'Kavya Iyer', 'Manish Kapoor', 'Sana Malhotra', 'Raj Chauhan', 'Anjali Saxena', 'Karan Bhatt', 'Divya Menon', 'Rahul Sinha', 'Simran Roy', 'Vivek Das', 'Aditi Ghosh', 'Harsh Kulkarni', 'Nisha Sharma', 'Aakash Pandey', 'Isha Reddy', 'Ravi Joshi', 'Swati Nair', 'Gaurav Gupta', 'Shreya Singh', 'Nitin Mehta', 'Pallavi Kumar', 'Suresh Rao', 'Nidhi Kapoor']\n"
     ]
    }
   ],
   "source": [
    "print(indian_students + indian_students_2)"
   ]
  },
  {
   "cell_type": "code",
   "execution_count": 34,
   "id": "7e5b9f01-b6ed-465f-a6fa-c5eec0151a77",
   "metadata": {},
   "outputs": [],
   "source": [
    "import random "
   ]
  },
  {
   "cell_type": "code",
   "execution_count": 55,
   "id": "6276cfbb-589d-4cae-94c2-71943c0e8a7d",
   "metadata": {},
   "outputs": [
    {
     "data": {
      "text/plain": [
       "[6]"
      ]
     },
     "execution_count": 55,
     "metadata": {},
     "output_type": "execute_result"
    }
   ],
   "source": [
    "random.choices([6,7,8], weights=[0.7,0.2,0.1])"
   ]
  },
  {
   "cell_type": "code",
   "execution_count": 59,
   "id": "db27c667-bdd5-4402-adb4-7c44a7f97aa3",
   "metadata": {},
   "outputs": [
    {
     "data": {
      "text/plain": [
       "[120]"
      ]
     },
     "execution_count": 59,
     "metadata": {},
     "output_type": "execute_result"
    }
   ],
   "source": [
    "random.choices([110, 112, 114, 116, 118, 120, 122, 124, 126, 128], \n",
    "              weights=[0.20,0.20, 0.20,0.10,0.10, 0.5, 0.5, 0.04,0.03, 0.3]) "
   ]
  },
  {
   "cell_type": "code",
   "execution_count": 60,
   "id": "fb76c503-70cc-462a-a35d-72cbe5c5151d",
   "metadata": {},
   "outputs": [
    {
     "data": {
      "text/plain": [
       "[160, 162, 164, 166, 168, 170, 172, 174, 176, 178, 180]"
      ]
     },
     "execution_count": 60,
     "metadata": {},
     "output_type": "execute_result"
    }
   ],
   "source": [
    "[160, 162, 164, 166, 168, 170, 172, 174, 176, 178, 180]"
   ]
  },
  {
   "cell_type": "code",
   "execution_count": 61,
   "id": "18bb0a6a-cbaa-4e96-8403-7e72cad8df1f",
   "metadata": {},
   "outputs": [
    {
     "data": {
      "text/plain": [
       "50"
      ]
     },
     "execution_count": 61,
     "metadata": {},
     "output_type": "execute_result"
    }
   ],
   "source": [
    "160-110"
   ]
  },
  {
   "cell_type": "code",
   "execution_count": 72,
   "id": "b89f7807-be7d-4ae3-b0c8-cb90525001ac",
   "metadata": {},
   "outputs": [
    {
     "name": "stdout",
     "output_type": "stream",
     "text": [
      "[110, 112, 114, 116, 118, 120, 122, 124, 126, 128]\n",
      "[114, 116, 118, 120, 122, 124, 126, 128, 130, 132]\n",
      "[118, 120, 122, 124, 126, 128, 130, 132, 134, 136]\n",
      "[122, 124, 126, 128, 130, 132, 134, 136, 138, 140]\n",
      "[126, 128, 130, 132, 134, 136, 138, 140, 142, 144]\n",
      "[130, 132, 134, 136, 138, 140, 142, 144, 146, 148]\n",
      "[134, 136, 138, 140, 142, 144, 146, 148, 150, 152]\n",
      "[138, 140, 142, 144, 146, 148, 150, 152, 154, 156]\n",
      "[142, 144, 146, 148, 150, 152, 154, 156, 158, 160]\n",
      "[146, 148, 150, 152, 154, 156, 158, 160, 162, 164]\n",
      "[150, 152, 154, 156, 158, 160, 162, 164, 166, 168]\n",
      "[154, 156, 158, 160, 162, 164, 166, 168, 170, 172]\n",
      "[158, 160, 162, 164, 166, 168, 170, 172, 174, 176]\n"
     ]
    }
   ],
   "source": [
    "base_height = [110, 112, 114, 116, 118, 120, 122, 124, 126, 128]\n",
    "heights_data =[]\n",
    "for i in range(0,13):\n",
    "    heights = [height+(4*i) for height in base_height]\n",
    "    print(heights)\n",
    "    heights_data.append(heights)"
   ]
  },
  {
   "cell_type": "code",
   "execution_count": 74,
   "id": "74ad0e80-3599-4219-9319-129f932c6770",
   "metadata": {},
   "outputs": [
    {
     "data": {
      "text/plain": [
       "[[110, 112, 114, 116, 118, 120, 122, 124, 126, 128],\n",
       " [114, 116, 118, 120, 122, 124, 126, 128, 130, 132],\n",
       " [118, 120, 122, 124, 126, 128, 130, 132, 134, 136],\n",
       " [122, 124, 126, 128, 130, 132, 134, 136, 138, 140],\n",
       " [126, 128, 130, 132, 134, 136, 138, 140, 142, 144],\n",
       " [130, 132, 134, 136, 138, 140, 142, 144, 146, 148],\n",
       " [134, 136, 138, 140, 142, 144, 146, 148, 150, 152],\n",
       " [138, 140, 142, 144, 146, 148, 150, 152, 154, 156],\n",
       " [142, 144, 146, 148, 150, 152, 154, 156, 158, 160],\n",
       " [146, 148, 150, 152, 154, 156, 158, 160, 162, 164],\n",
       " [150, 152, 154, 156, 158, 160, 162, 164, 166, 168],\n",
       " [154, 156, 158, 160, 162, 164, 166, 168, 170, 172],\n",
       " [158, 160, 162, 164, 166, 168, 170, 172, 174, 176]]"
      ]
     },
     "execution_count": 74,
     "metadata": {},
     "output_type": "execute_result"
    }
   ],
   "source": [
    "heights_data"
   ]
  },
  {
   "cell_type": "code",
   "execution_count": 78,
   "id": "f37737b6-b1d0-4d41-aa0a-7923eeb81fce",
   "metadata": {},
   "outputs": [
    {
     "name": "stdout",
     "output_type": "stream",
     "text": [
      "[5, 6, 7, 8]\n",
      "[6, 7, 8, 9]\n",
      "[7, 8, 9, 10]\n",
      "[8, 9, 10, 11]\n",
      "[9, 10, 11, 12]\n",
      "[10, 11, 12, 13]\n",
      "[11, 12, 13, 14]\n",
      "[12, 13, 14, 15]\n",
      "[13, 14, 15, 16]\n",
      "[14, 15, 16, 17]\n",
      "[15, 16, 17, 18]\n",
      "[16, 17, 18, 19]\n",
      "[17, 18, 19, 20]\n"
     ]
    }
   ],
   "source": [
    "base_age = [5,6,7,8]\n",
    "ages_data = []\n",
    "for i in range(0,13):\n",
    "    age = [age+i for age in base_age]\n",
    "    print(age)\n",
    "    ages_data.append(age)"
   ]
  },
  {
   "cell_type": "code",
   "execution_count": 79,
   "id": "83b5dae2-f974-4436-8322-d587515d44bd",
   "metadata": {},
   "outputs": [
    {
     "data": {
      "text/plain": [
       "[[5, 6, 7, 8],\n",
       " [6, 7, 8, 9],\n",
       " [7, 8, 9, 10],\n",
       " [8, 9, 10, 11],\n",
       " [9, 10, 11, 12],\n",
       " [10, 11, 12, 13],\n",
       " [11, 12, 13, 14],\n",
       " [12, 13, 14, 15],\n",
       " [13, 14, 15, 16],\n",
       " [14, 15, 16, 17],\n",
       " [15, 16, 17, 18],\n",
       " [16, 17, 18, 19],\n",
       " [17, 18, 19, 20]]"
      ]
     },
     "execution_count": 79,
     "metadata": {},
     "output_type": "execute_result"
    }
   ],
   "source": [
    "ages_data"
   ]
  },
  {
   "cell_type": "code",
   "execution_count": 84,
   "id": "79396c45-1445-44b9-a45f-7ad52a1c8f26",
   "metadata": {},
   "outputs": [],
   "source": [
    "def generate_student():\n",
    "    student_standard = random.randint(1,12)\n",
    "\n",
    "    name = random.choice(indian_students)\n",
    "    age = random.choices(ages_data[student_standard-1], weights = [0.1, 0.4,0.4,0.1])\n",
    "    height = random.choices(heights_data[student_standard-1], \n",
    "                            weights = [0.20,0.20, 0.20,0.10,0.10, 0.5, 0.5, 0.04,0.03, 0.3])\n",
    "    return {\"name\":name, \"standard\":student_standard, \"age\":age[0], \"height\":height[0]}"
   ]
  },
  {
   "cell_type": "code",
   "execution_count": 85,
   "id": "a73a709c-e816-49d0-b71a-99a91beb2c1a",
   "metadata": {},
   "outputs": [
    {
     "data": {
      "text/plain": [
       "{'name': 'Ishaan Ghosh', 'standard': 2, 'age': 7, 'height': 124}"
      ]
     },
     "execution_count": 85,
     "metadata": {},
     "output_type": "execute_result"
    }
   ],
   "source": [
    "generate_student()"
   ]
  },
  {
   "cell_type": "code",
   "execution_count": null,
   "id": "a9849650-880e-48bd-be99-21cae70e079c",
   "metadata": {},
   "outputs": [],
   "source": []
  }
 ],
 "metadata": {
  "kernelspec": {
   "display_name": "Python 3 (ipykernel)",
   "language": "python",
   "name": "python3"
  },
  "language_info": {
   "codemirror_mode": {
    "name": "ipython",
    "version": 3
   },
   "file_extension": ".py",
   "mimetype": "text/x-python",
   "name": "python",
   "nbconvert_exporter": "python",
   "pygments_lexer": "ipython3",
   "version": "3.10.5"
  }
 },
 "nbformat": 4,
 "nbformat_minor": 5
}
