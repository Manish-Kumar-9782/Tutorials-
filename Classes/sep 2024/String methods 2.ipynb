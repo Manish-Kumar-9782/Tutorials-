{
 "cells": [
  {
   "cell_type": "code",
   "execution_count": 1,
   "id": "8ddfbc6c-7646-4d79-a14d-4a5869d4ad2e",
   "metadata": {},
   "outputs": [],
   "source": [
    "mylist=[2,25,56,4,8,36,54,21]"
   ]
  },
  {
   "cell_type": "code",
   "execution_count": 3,
   "id": "1ee711c4-c738-43ca-a144-90bff2a7a2c2",
   "metadata": {},
   "outputs": [
    {
     "data": {
      "text/plain": [
       "[2, 25, 56, 4, 8, 36, 54, 21]"
      ]
     },
     "execution_count": 3,
     "metadata": {},
     "output_type": "execute_result"
    }
   ],
   "source": [
    "mylist.copy()"
   ]
  },
  {
   "cell_type": "code",
   "execution_count": 4,
   "id": "d36c54c3-512f-4cc1-9693-826a42ee9709",
   "metadata": {},
   "outputs": [
    {
     "data": {
      "text/plain": [
       "False"
      ]
     },
     "execution_count": 4,
     "metadata": {},
     "output_type": "execute_result"
    }
   ],
   "source": [
    "mylist is mylist.copy"
   ]
  },
  {
   "cell_type": "code",
   "execution_count": 9,
   "id": "c207dbfa-4c00-46b7-9e5f-a139b486fc7f",
   "metadata": {},
   "outputs": [],
   "source": [
    "copy_list= mylist.copy()"
   ]
  },
  {
   "cell_type": "code",
   "execution_count": 10,
   "id": "6409aa56-d221-4cad-80c8-004a6e13d1bb",
   "metadata": {},
   "outputs": [
    {
     "data": {
      "text/plain": [
       "[2, 25, 56, 4, 8, 36, 54, 21]"
      ]
     },
     "execution_count": 10,
     "metadata": {},
     "output_type": "execute_result"
    }
   ],
   "source": [
    "copy_list"
   ]
  },
  {
   "cell_type": "code",
   "execution_count": 11,
   "id": "b3ea4529-a37f-4630-a142-569a7cdfcccd",
   "metadata": {},
   "outputs": [],
   "source": [
    "copy_list.clear()"
   ]
  },
  {
   "cell_type": "code",
   "execution_count": 13,
   "id": "20f22ee2-6324-4d5a-b9b4-5b62e47f8c96",
   "metadata": {},
   "outputs": [
    {
     "data": {
      "text/plain": [
       "[]"
      ]
     },
     "execution_count": 13,
     "metadata": {},
     "output_type": "execute_result"
    }
   ],
   "source": [
    "copy_list"
   ]
  },
  {
   "cell_type": "code",
   "execution_count": 14,
   "id": "5a05affd-7133-44b4-8b49-5038f3068f81",
   "metadata": {},
   "outputs": [],
   "source": [
    "import random"
   ]
  },
  {
   "cell_type": "code",
   "execution_count": 16,
   "id": "902db485-b9b1-498d-8cce-aca64b9c3c5d",
   "metadata": {},
   "outputs": [
    {
     "data": {
      "text/plain": [
       "15"
      ]
     },
     "execution_count": 16,
     "metadata": {},
     "output_type": "execute_result"
    }
   ],
   "source": [
    "random.randint(1,52)"
   ]
  },
  {
   "cell_type": "code",
   "execution_count": 18,
   "id": "8c82dd7f-78d6-4255-89d0-4f1a11479080",
   "metadata": {},
   "outputs": [
    {
     "name": "stdout",
     "output_type": "stream",
     "text": [
      "6\n",
      "1\n",
      "2\n",
      "7\n",
      "42\n",
      "10\n",
      "7\n",
      "8\n",
      "14\n",
      "5\n"
     ]
    }
   ],
   "source": [
    "for i in range (10):\n",
    "    x=random.randint(1,52)\n",
    "    print (x)"
   ]
  },
  {
   "cell_type": "code",
   "execution_count": 19,
   "id": "5912a503-f244-40d0-bbca-08ba83ddc22e",
   "metadata": {},
   "outputs": [],
   "source": [
    "random_list=[]\n",
    "for i in range (20):\n",
    "     x = random.randint(1,52)\n",
    "     random_list.append(x)\n",
    "    "
   ]
  },
  {
   "cell_type": "code",
   "execution_count": 20,
   "id": "38011d21-a381-427e-b547-e480edebfe30",
   "metadata": {},
   "outputs": [
    {
     "data": {
      "text/plain": [
       "[52, 18, 1, 22, 26, 31, 10, 46, 31, 23, 12, 19, 25, 17, 18, 7, 50, 32, 26, 8]"
      ]
     },
     "execution_count": 20,
     "metadata": {},
     "output_type": "execute_result"
    }
   ],
   "source": [
    "random_list"
   ]
  },
  {
   "cell_type": "code",
   "execution_count": 21,
   "id": "c2c9eeb7-fb7f-4a92-81c9-17f1b6ff0e55",
   "metadata": {},
   "outputs": [
    {
     "data": {
      "text/plain": [
       "1"
      ]
     },
     "execution_count": 21,
     "metadata": {},
     "output_type": "execute_result"
    }
   ],
   "source": [
    "random_list.count(10)"
   ]
  },
  {
   "cell_type": "code",
   "execution_count": 22,
   "id": "b7bf7a84-9dfc-40a0-b088-50d9750a94f0",
   "metadata": {},
   "outputs": [
    {
     "data": {
      "text/plain": [
       "[2, 25, 56, 4, 8, 36, 54, 21]"
      ]
     },
     "execution_count": 22,
     "metadata": {},
     "output_type": "execute_result"
    }
   ],
   "source": [
    "mylist"
   ]
  },
  {
   "cell_type": "code",
   "execution_count": 23,
   "id": "914b04b5-c4d0-47c5-ad6a-e1eb0786df80",
   "metadata": {},
   "outputs": [
    {
     "data": {
      "text/plain": [
       "5"
      ]
     },
     "execution_count": 23,
     "metadata": {},
     "output_type": "execute_result"
    }
   ],
   "source": [
    "mylist.index(36)"
   ]
  },
  {
   "cell_type": "code",
   "execution_count": 26,
   "id": "b059c998-c022-480f-8215-e52faab672af",
   "metadata": {},
   "outputs": [
    {
     "name": "stdout",
     "output_type": "stream",
     "text": [
      "1: 1\n",
      "2: 0\n",
      "3: 0\n",
      "4: 0\n",
      "5: 0\n",
      "6: 0\n",
      "7: 1\n",
      "8: 1\n",
      "9: 0\n"
     ]
    }
   ],
   "source": [
    "for n in range(1,10):\n",
    "    count=random_list.count(n)\n",
    "    print(f\"{n}: {count}\")\n",
    "    "
   ]
  },
  {
   "cell_type": "markdown",
   "id": "1989d6be-bcb3-43e3-926b-ee0a6bb74cf3",
   "metadata": {},
   "source": [
    "**string replace method**"
   ]
  },
  {
   "cell_type": "code",
   "execution_count": 1,
   "id": "c9860f3c-8afb-478f-8e92-2d286de342a2",
   "metadata": {},
   "outputs": [],
   "source": [
    "headers = \"Date;Date Time;Numerical Value;Financial Value;Address;Email;Phone Number;Employee ID;Department;Job Title\""
   ]
  },
  {
   "cell_type": "code",
   "execution_count": 3,
   "id": "6c74bdf4-a8d5-44fe-b36f-b8d1e1355287",
   "metadata": {},
   "outputs": [
    {
     "data": {
      "text/plain": [
       "['Date',\n",
       " 'Date Time',\n",
       " 'Numerical Value',\n",
       " 'Financial Value',\n",
       " 'Address',\n",
       " 'Email',\n",
       " 'Phone Number',\n",
       " 'Employee ID',\n",
       " 'Department',\n",
       " 'Job Title']"
      ]
     },
     "execution_count": 3,
     "metadata": {},
     "output_type": "execute_result"
    }
   ],
   "source": [
    "headers.split(\";\")\n",
    "# returned value of split method is list"
   ]
  },
  {
   "cell_type": "code",
   "execution_count": 8,
   "id": "40fd08bb-2c15-43aa-8c07-1b43d3c43b1d",
   "metadata": {},
   "outputs": [],
   "source": [
    "result = headers.split(\";\")"
   ]
  },
  {
   "cell_type": "code",
   "execution_count": 9,
   "id": "4cfa2ce0-92c4-4862-ae31-f0a4dffcae35",
   "metadata": {},
   "outputs": [
    {
     "data": {
      "text/plain": [
       "list"
      ]
     },
     "execution_count": 9,
     "metadata": {},
     "output_type": "execute_result"
    }
   ],
   "source": [
    "type(result)"
   ]
  },
  {
   "cell_type": "code",
   "execution_count": 6,
   "id": "5a6042ea-b607-4a50-8fcb-5dbcdb058be4",
   "metadata": {},
   "outputs": [
    {
     "data": {
      "text/plain": [
       "'Date'"
      ]
     },
     "execution_count": 6,
     "metadata": {},
     "output_type": "execute_result"
    }
   ],
   "source": [
    "result[0]"
   ]
  },
  {
   "cell_type": "code",
   "execution_count": 7,
   "id": "f0c2faff-1590-41e2-87dc-d9553f9cc294",
   "metadata": {},
   "outputs": [
    {
     "data": {
      "text/plain": [
       "'Date Time'"
      ]
     },
     "execution_count": 7,
     "metadata": {},
     "output_type": "execute_result"
    }
   ],
   "source": [
    "result[1]"
   ]
  },
  {
   "cell_type": "markdown",
   "id": "0e612c97-3197-4062-a130-3b91cdb9e63e",
   "metadata": {},
   "source": [
    "**joining all list items**"
   ]
  },
  {
   "cell_type": "code",
   "execution_count": 10,
   "id": "432b1d96-48fa-4d59-a3c8-4763458b90d4",
   "metadata": {},
   "outputs": [
    {
     "data": {
      "text/plain": [
       "'Date,Date Time,Numerical Value,Financial Value,Address,Email,Phone Number,Employee ID,Department,Job Title'"
      ]
     },
     "execution_count": 10,
     "metadata": {},
     "output_type": "execute_result"
    }
   ],
   "source": [
    "\",\".join(result)\n",
    "# join input is list/sequence/iterable and returns a joined string with "
   ]
  },
  {
   "cell_type": "code",
   "execution_count": 11,
   "id": "cf4c5f05-e72e-4cee-90bb-24daf975d03f",
   "metadata": {},
   "outputs": [
    {
     "data": {
      "text/plain": [
       "'Date#Date Time#Numerical Value#Financial Value#Address#Email#Phone Number#Employee ID#Department#Job Title'"
      ]
     },
     "execution_count": 11,
     "metadata": {},
     "output_type": "execute_result"
    }
   ],
   "source": [
    "\"#\".join(result)"
   ]
  },
  {
   "cell_type": "markdown",
   "id": "2052afb8-5692-40a0-a2ab-943816e62c6f",
   "metadata": {},
   "source": [
    "**replace method**"
   ]
  },
  {
   "cell_type": "code",
   "execution_count": 12,
   "id": "f8fc2c59-9c2c-438e-8cdb-1bed7a3e1aa7",
   "metadata": {},
   "outputs": [
    {
     "data": {
      "text/plain": [
       "'Date;DateTime;Numerical Value;Financial Value;Address;Email;Phone Number;Employee ID;Department;Job Title'"
      ]
     },
     "execution_count": 12,
     "metadata": {},
     "output_type": "execute_result"
    }
   ],
   "source": [
    "# Date Time -> DateTime\n",
    "headers.replace(\"Date Time\",\"DateTime\")\n",
    "# replace: returnes new string."
   ]
  },
  {
   "cell_type": "code",
   "execution_count": 13,
   "id": "8641fea2-4d58-4bb8-9b20-28a5c4b2733d",
   "metadata": {},
   "outputs": [
    {
     "data": {
      "text/plain": [
       "'Date;DateTime;Numerical Value;Financial Value;Address;Email;Phone Number;Employee ID;Department;Job Title'"
      ]
     },
     "execution_count": 13,
     "metadata": {},
     "output_type": "execute_result"
    }
   ],
   "source": [
    "# storing the returned value to xheaders\n",
    "xheaders = headers.replace(\"Date Time\",\"DateTime\")\n",
    "xheaders"
   ]
  },
  {
   "cell_type": "code",
   "execution_count": 14,
   "id": "416dd6ad-1ee3-4da6-9eac-b28d38c6bf45",
   "metadata": {},
   "outputs": [
    {
     "data": {
      "text/plain": [
       "'Date;DateTime;Age;Financial Value;Address;Email;Phone Number;Employee ID;Department;Job Title'"
      ]
     },
     "execution_count": 14,
     "metadata": {},
     "output_type": "execute_result"
    }
   ],
   "source": [
    "# Numerical Value -> Age\n",
    "xheaders.replace(\"Numerical Value\", \"Age\")"
   ]
  },
  {
   "cell_type": "code",
   "execution_count": 15,
   "id": "3a3db20f-90a4-420f-8bc1-edd25348f6f6",
   "metadata": {},
   "outputs": [],
   "source": [
    "xheaders = xheaders.replace(\"Numerical Value\", \"Age\")"
   ]
  },
  {
   "cell_type": "code",
   "execution_count": 16,
   "id": "88ee84c7-9f10-4c95-b750-8be5cfbd2b5e",
   "metadata": {},
   "outputs": [
    {
     "data": {
      "text/plain": [
       "'Date;DateTime;Age;Financial Value;Address;Email;Phone Number;Employee ID;Department;Job Title'"
      ]
     },
     "execution_count": 16,
     "metadata": {},
     "output_type": "execute_result"
    }
   ],
   "source": [
    "xheaders"
   ]
  },
  {
   "cell_type": "code",
   "execution_count": 17,
   "id": "5b9aa4ac-e2bf-4e7d-a5c7-ef0f60335c3a",
   "metadata": {},
   "outputs": [],
   "source": [
    "xheaders = xheaders.replace(\"Financial Value\", \"Salary\")"
   ]
  },
  {
   "cell_type": "code",
   "execution_count": 18,
   "id": "f6c50f71-0ec4-4b3b-826d-51d5d5ed834f",
   "metadata": {},
   "outputs": [
    {
     "data": {
      "text/plain": [
       "'Date;DateTime;Age;Salary;Address;Email;Phone Number;Employee ID;Department;Job Title'"
      ]
     },
     "execution_count": 18,
     "metadata": {},
     "output_type": "execute_result"
    }
   ],
   "source": [
    "xheaders"
   ]
  },
  {
   "cell_type": "markdown",
   "id": "2f9be2f1-264e-47dc-8246-91756de5665a",
   "metadata": {},
   "source": [
    "**Advance change technique 1: Using chain of methods on returned value**"
   ]
  },
  {
   "cell_type": "code",
   "execution_count": 19,
   "id": "e9abc0e3-f1b0-462e-a87a-e8282486a49b",
   "metadata": {},
   "outputs": [
    {
     "data": {
      "text/plain": [
       "'Date;DateTime;Age;Salary;Address;Email;Phone Number;Employee ID;Department;Job Title'"
      ]
     },
     "execution_count": 19,
     "metadata": {},
     "output_type": "execute_result"
    }
   ],
   "source": [
    "headers.replace(\"Date Time\",\"DateTime\").replace(\"Numerical Value\", \"Age\").replace(\"Financial Value\", \"Salary\")"
   ]
  },
  {
   "cell_type": "code",
   "execution_count": null,
   "id": "a0f69757-9702-4bca-8c36-a338198bd3ff",
   "metadata": {},
   "outputs": [],
   "source": []
  }
 ],
 "metadata": {
  "kernelspec": {
   "display_name": "Python 3 (ipykernel)",
   "language": "python",
   "name": "python3"
  },
  "language_info": {
   "codemirror_mode": {
    "name": "ipython",
    "version": 3
   },
   "file_extension": ".py",
   "mimetype": "text/x-python",
   "name": "python",
   "nbconvert_exporter": "python",
   "pygments_lexer": "ipython3",
   "version": "3.10.5"
  }
 },
 "nbformat": 4,
 "nbformat_minor": 5
}
