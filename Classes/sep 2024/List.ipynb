{
 "cells": [
  {
   "cell_type": "markdown",
   "id": "784106ea-ece7-4674-9892-7a9369e8ec21",
   "metadata": {},
   "source": [
    "## List"
   ]
  },
  {
   "cell_type": "code",
   "execution_count": 1,
   "id": "5149bd49-635e-4159-b090-4e1c4ec466fa",
   "metadata": {},
   "outputs": [],
   "source": [
    "my_list = [] # empty list\n",
    "my_list2 = [1,2,3,4]"
   ]
  },
  {
   "cell_type": "code",
   "execution_count": 5,
   "id": "8e986c25-1f01-496e-bd62-6f80c695cef6",
   "metadata": {},
   "outputs": [],
   "source": [
    "import random"
   ]
  },
  {
   "cell_type": "code",
   "execution_count": 7,
   "id": "de4826fc-2cca-4a1b-8958-d942b11c1697",
   "metadata": {},
   "outputs": [],
   "source": [
    "r_numbers = [] # an empty list to store random number\n",
    "\n",
    "for i in range(20):\n",
    "    r_number = random.randint(10,50)\n",
    "    r_numbers.append(r_number)"
   ]
  },
  {
   "cell_type": "code",
   "execution_count": 10,
   "id": "7d68408c-0d09-4d3a-9451-044bd3211045",
   "metadata": {},
   "outputs": [
    {
     "name": "stdout",
     "output_type": "stream",
     "text": [
      "[23, 37, 27, 22, 48, 18, 36, 28, 33, 12, 45, 29, 11, 26, 28, 46, 12, 12, 35, 20]\n"
     ]
    }
   ],
   "source": [
    "print(r_numbers)"
   ]
  },
  {
   "cell_type": "markdown",
   "id": "a463040d-0f96-4a87-af44-9ca983316a70",
   "metadata": {},
   "source": [
    "**finding max with max function**"
   ]
  },
  {
   "cell_type": "code",
   "execution_count": 11,
   "id": "c930950f-beb6-485c-831b-8f111d89cfca",
   "metadata": {},
   "outputs": [
    {
     "data": {
      "text/plain": [
       "48"
      ]
     },
     "execution_count": 11,
     "metadata": {},
     "output_type": "execute_result"
    }
   ],
   "source": [
    "max(r_numbers)"
   ]
  },
  {
   "cell_type": "markdown",
   "id": "1d3001f5-9c93-4c26-a0f7-8c7dfd42adaf",
   "metadata": {},
   "source": [
    "**finding max with sort function**"
   ]
  },
  {
   "cell_type": "code",
   "execution_count": 12,
   "id": "147772fb-39b5-47e7-9e72-b3b13b87c2f8",
   "metadata": {},
   "outputs": [],
   "source": [
    "r_number_copy = r_numbers.copy()"
   ]
  },
  {
   "cell_type": "code",
   "execution_count": 19,
   "id": "2cd73122-26b3-46d6-8023-5a39a0875c9e",
   "metadata": {},
   "outputs": [],
   "source": [
    "r_number_copy.sort(reverse=True)"
   ]
  },
  {
   "cell_type": "code",
   "execution_count": 21,
   "id": "c1f4bc1c-67ca-419a-b7d4-f89b0976df86",
   "metadata": {},
   "outputs": [
    {
     "data": {
      "text/plain": [
       "48"
      ]
     },
     "execution_count": 21,
     "metadata": {},
     "output_type": "execute_result"
    }
   ],
   "source": [
    "r_number_copy[0]"
   ]
  },
  {
   "cell_type": "markdown",
   "id": "62251e80-3be9-46c0-89a8-9b346d0a67b5",
   "metadata": {},
   "source": [
    "**finding max with custom algorithm**"
   ]
  },
  {
   "cell_type": "code",
   "execution_count": 24,
   "id": "d5ee52c4-f50d-48d2-8831-0dc3e5886c73",
   "metadata": {},
   "outputs": [],
   "source": [
    "max_item = r_numbers[0] # assuming that my 0th item is max_item\n",
    "\n",
    "for i in range(len(r_numbers)):\n",
    "    if max_item < r_numbers[i]:\n",
    "        max_item = r_numbers[i]"
   ]
  },
  {
   "cell_type": "code",
   "execution_count": 25,
   "id": "0b7665af-4624-44a8-a317-8877c320ff03",
   "metadata": {},
   "outputs": [
    {
     "data": {
      "text/plain": [
       "48"
      ]
     },
     "execution_count": 25,
     "metadata": {},
     "output_type": "execute_result"
    }
   ],
   "source": [
    "max_item"
   ]
  },
  {
   "cell_type": "markdown",
   "id": "01965bee-89ba-4163-a89b-39864e9af7f6",
   "metadata": {},
   "source": [
    "## Age Sample"
   ]
  },
  {
   "cell_type": "code",
   "execution_count": 26,
   "id": "ea6f4b70-ffcf-42bc-8c02-1606b7f53758",
   "metadata": {},
   "outputs": [],
   "source": [
    "age_sample = []\n",
    "for i in range(100):\n",
    "    age = random.randint(18, 30)\n",
    "    age_sample.append(age)"
   ]
  },
  {
   "cell_type": "code",
   "execution_count": 28,
   "id": "f4bcd113-604c-452a-b356-889430cc2bcd",
   "metadata": {},
   "outputs": [
    {
     "name": "stdout",
     "output_type": "stream",
     "text": [
      "[19, 27, 28, 30, 20, 21, 25, 20, 21, 18, 24, 29, 19, 25, 28, 28, 22, 26, 19, 20, 27, 23, 27, 26, 27, 25, 27, 22, 20, 18, 30, 24, 27, 18, 28, 19, 20, 21, 24, 18, 29, 26, 18, 20, 29, 21, 21, 22, 24, 19, 24, 25, 27, 26, 30, 30, 19, 26, 29, 24, 26, 21, 22, 26, 30, 24, 20, 23, 27, 28, 23, 27, 28, 30, 19, 20, 22, 21, 28, 28, 25, 28, 19, 29, 22, 21, 29, 24, 23, 25, 28, 25, 20, 29, 24, 29, 26, 27, 22, 28]\n"
     ]
    }
   ],
   "source": [
    "print(age_sample)"
   ]
  },
  {
   "cell_type": "code",
   "execution_count": 29,
   "id": "b4ba5d9d-85ae-430c-8684-bfe45428e8f0",
   "metadata": {},
   "outputs": [],
   "source": [
    "freq_sample = []\n",
    "for age in range(18,30+1):\n",
    "    age_freq = age_sample.count(age)\n",
    "    freq_sample.append((age, age_freq))"
   ]
  },
  {
   "cell_type": "code",
   "execution_count": 30,
   "id": "af78f25c-a67c-4d7c-b1ed-1b9fbb598aea",
   "metadata": {},
   "outputs": [
    {
     "name": "stdout",
     "output_type": "stream",
     "text": [
      "[(18, 5), (19, 8), (20, 9), (21, 8), (22, 7), (23, 4), (24, 9), (25, 7), (26, 8), (27, 10), (28, 11), (29, 8), (30, 6)]\n"
     ]
    }
   ],
   "source": [
    "print(freq_sample)"
   ]
  },
  {
   "cell_type": "code",
   "execution_count": 31,
   "id": "10246f96-ea7f-474a-a6c2-32464b5d532c",
   "metadata": {},
   "outputs": [
    {
     "name": "stdout",
     "output_type": "stream",
     "text": [
      "18 :| *****\n",
      "19 :| ********\n",
      "20 :| *********\n",
      "21 :| ********\n",
      "22 :| *******\n",
      "23 :| ****\n",
      "24 :| *********\n",
      "25 :| *******\n",
      "26 :| ********\n",
      "27 :| **********\n",
      "28 :| ***********\n",
      "29 :| ********\n",
      "30 :| ******\n"
     ]
    }
   ],
   "source": [
    "for pair in freq_sample:\n",
    "    age = pair[0]\n",
    "    freq = pair[1]\n",
    "    \n",
    "    print(f\"{age} :|\", \"*\"*freq)"
   ]
  },
  {
   "cell_type": "code",
   "execution_count": 32,
   "id": "66aee1a3-6f8a-4f2f-a40d-622e1772f69c",
   "metadata": {},
   "outputs": [],
   "source": [
    "name = \"aakash\""
   ]
  },
  {
   "cell_type": "code",
   "execution_count": 33,
   "id": "a207a902-5d5f-4d8f-b02f-198b30a9d7fb",
   "metadata": {},
   "outputs": [
    {
     "data": {
      "text/plain": [
       "'aakashaakashaakashaakashaakashaakashaakashaakashaakashaakash'"
      ]
     },
     "execution_count": 33,
     "metadata": {},
     "output_type": "execute_result"
    }
   ],
   "source": [
    "name*10"
   ]
  },
  {
   "cell_type": "code",
   "execution_count": 34,
   "id": "aaa93ab9-aaa1-48ac-a64a-479c3411e9a3",
   "metadata": {},
   "outputs": [
    {
     "data": {
      "text/plain": [
       "'**********'"
      ]
     },
     "execution_count": 34,
     "metadata": {},
     "output_type": "execute_result"
    }
   ],
   "source": [
    "\"*\"*10"
   ]
  },
  {
   "cell_type": "code",
   "execution_count": 35,
   "id": "08901e2a-39cd-42ff-b7b3-a085582c4fde",
   "metadata": {},
   "outputs": [
    {
     "data": {
      "text/plain": [
       "'my age is 19'"
      ]
     },
     "execution_count": 35,
     "metadata": {},
     "output_type": "execute_result"
    }
   ],
   "source": [
    "age = 19\n",
    "f\"my age is {age}\""
   ]
  },
  {
   "cell_type": "code",
   "execution_count": 36,
   "id": "99ceb85b-46b2-4540-ab66-be4250ebb689",
   "metadata": {},
   "outputs": [],
   "source": [
    "import time"
   ]
  },
  {
   "cell_type": "code",
   "execution_count": 38,
   "id": "1079e698-3854-423b-aa1c-1d300a0d9e4b",
   "metadata": {},
   "outputs": [
    {
     "name": "stdout",
     "output_type": "stream",
     "text": [
      "18 :| *****\n",
      "19 :| ********\n",
      "20 :| *********\n",
      "21 :| ********\n",
      "22 :| *******\n",
      "23 :| ****\n",
      "24 :| *********\n",
      "25 :| *******\n",
      "26 :| ********\n",
      "27 :| **********\n",
      "28 :| ***********\n",
      "29 :| ********\n",
      "30 :| ******\n"
     ]
    }
   ],
   "source": [
    "for pair in freq_sample:\n",
    "    age = pair[0]\n",
    "    freq = pair[1]\n",
    "    \n",
    "    print(f\"{age} :|\", \"*\"*freq)\n",
    "    time.sleep(0.7)"
   ]
  },
  {
   "cell_type": "markdown",
   "id": "1a3b0cbc-c373-4192-90e9-50b5053783fe",
   "metadata": {},
   "source": [
    "### Function for each process"
   ]
  },
  {
   "cell_type": "markdown",
   "id": "3426c424-23af-4ccd-872c-1a643730ae03",
   "metadata": {},
   "source": [
    "**a function for generating random number**"
   ]
  },
  {
   "cell_type": "code",
   "execution_count": 39,
   "id": "b98fe76f-9efd-479d-ac38-5e94c03bcb7b",
   "metadata": {},
   "outputs": [],
   "source": [
    "def generate_random(start, end, size):\n",
    "\n",
    "    random_numbers = [] # to store numbers\n",
    "    \n",
    "    for i in range(size):\n",
    "        rn = random.randint(start,end)\n",
    "        random_numbers.append(rn)\n",
    "    \n",
    "    return random_numbers"
   ]
  },
  {
   "cell_type": "code",
   "execution_count": 41,
   "id": "30430641-14ee-48ba-8b3d-ba56673a8190",
   "metadata": {},
   "outputs": [],
   "source": [
    "random_numbers =  generate_random(18,30,100)"
   ]
  },
  {
   "cell_type": "code",
   "execution_count": 42,
   "id": "2266ea71-f52c-469b-b76c-0d8526f75c07",
   "metadata": {},
   "outputs": [
    {
     "name": "stdout",
     "output_type": "stream",
     "text": [
      "[29, 28, 23, 28, 20, 18, 26, 23, 20, 28, 26, 19, 21, 29, 23, 19, 19, 20, 28, 27, 23, 28, 18, 28, 21, 21, 18, 28, 20, 18, 23, 23, 18, 30, 20, 30, 27, 30, 23, 29, 23, 21, 20, 22, 18, 24, 18, 20, 21, 25, 20, 21, 27, 20, 27, 24, 19, 19, 24, 27, 23, 21, 23, 21, 25, 27, 25, 23, 27, 21, 25, 20, 24, 24, 28, 20, 18, 29, 27, 20, 18, 22, 25, 19, 26, 20, 28, 27, 27, 20, 23, 30, 23, 18, 25, 18, 18, 18, 18, 28]\n"
     ]
    }
   ],
   "source": [
    "print(random_numbers)"
   ]
  },
  {
   "cell_type": "markdown",
   "id": "922e9dd4-c047-43a7-bee3-d55ffffd975e",
   "metadata": {},
   "source": [
    "**a function to get frequency of unique items from numbers**"
   ]
  },
  {
   "cell_type": "code",
   "execution_count": 46,
   "id": "e9fea1db-aa6d-4e1d-8175-78782c5030ea",
   "metadata": {},
   "outputs": [],
   "source": [
    "def frequency(list_item):\n",
    "    \n",
    "    unique_items = set(list_item) # returns only unique values from list.\n",
    "    freqs = [] # to store tuples as (item, freq) \n",
    "    \n",
    "    for item in unique_items:\n",
    "        freq = list_item.count(item)\n",
    "        freqs.append((item, freq))\n",
    "    \n",
    "    return freqs"
   ]
  },
  {
   "cell_type": "code",
   "execution_count": 48,
   "id": "660af096-5bd9-4254-802b-4e14e8fb0da2",
   "metadata": {},
   "outputs": [
    {
     "name": "stdout",
     "output_type": "stream",
     "text": [
      "[(18, 14), (19, 6), (20, 14), (21, 9), (22, 2), (23, 13), (24, 5), (25, 6), (26, 3), (27, 10), (28, 10), (29, 4), (30, 4)]\n"
     ]
    }
   ],
   "source": [
    "freqs =  frequency(random_numbers)\n",
    "print(freqs)"
   ]
  },
  {
   "cell_type": "markdown",
   "id": "f580cb8f-0ba4-4a90-ae30-149db78e447c",
   "metadata": {},
   "source": [
    "**a function to draw the histogram**"
   ]
  },
  {
   "cell_type": "code",
   "execution_count": 49,
   "id": "da245443-e475-45bd-8cd8-29b62695e2b7",
   "metadata": {},
   "outputs": [],
   "source": [
    "def histogram(freqs):\n",
    "    for item in freqs:\n",
    "        key  = item[0]\n",
    "        freq = item[1]\n",
    "\n",
    "        print(f\"{key}: |\", \"*\"*freq)"
   ]
  },
  {
   "cell_type": "code",
   "execution_count": 50,
   "id": "b6d6e0de-9257-4f37-b02e-ec6973d00cac",
   "metadata": {},
   "outputs": [
    {
     "name": "stdout",
     "output_type": "stream",
     "text": [
      "18: | **************\n",
      "19: | ******\n",
      "20: | **************\n",
      "21: | *********\n",
      "22: | **\n",
      "23: | *************\n",
      "24: | *****\n",
      "25: | ******\n",
      "26: | ***\n",
      "27: | **********\n",
      "28: | **********\n",
      "29: | ****\n",
      "30: | ****\n"
     ]
    }
   ],
   "source": [
    "histogram(freqs)"
   ]
  },
  {
   "cell_type": "markdown",
   "id": "3e8b93a7-aab3-4402-b279-9ff60bb958ca",
   "metadata": {},
   "source": [
    "## All at once"
   ]
  },
  {
   "cell_type": "code",
   "execution_count": 52,
   "id": "d5f80419-31f7-4490-80d4-e0792005dd21",
   "metadata": {},
   "outputs": [
    {
     "name": "stdout",
     "output_type": "stream",
     "text": [
      "100: | ****\n",
      "101: | *****\n",
      "102: | ****\n",
      "103: | ********\n",
      "104: | ***\n",
      "105: | ****\n",
      "106: | ******\n",
      "107: | ***\n",
      "108: | *\n",
      "109: | *******\n",
      "110: | *****\n",
      "111: | *****\n",
      "112: | ******\n",
      "113: | ********\n",
      "114: | ****\n",
      "115: | ****\n",
      "116: | ******\n",
      "117: | ****\n",
      "118: | *\n",
      "119: | *********\n",
      "120: | ***\n"
     ]
    }
   ],
   "source": [
    "numbers = generate_random(100, 120, 100)\n",
    "freqs = frequency(numbers)\n",
    "histogram(freqs)"
   ]
  },
  {
   "cell_type": "code",
   "execution_count": null,
   "id": "4744936e-6879-4769-9f92-291fa830dc19",
   "metadata": {},
   "outputs": [],
   "source": []
  }
 ],
 "metadata": {
  "kernelspec": {
   "display_name": "Python 3 (ipykernel)",
   "language": "python",
   "name": "python3"
  },
  "language_info": {
   "codemirror_mode": {
    "name": "ipython",
    "version": 3
   },
   "file_extension": ".py",
   "mimetype": "text/x-python",
   "name": "python",
   "nbconvert_exporter": "python",
   "pygments_lexer": "ipython3",
   "version": "3.10.5"
  }
 },
 "nbformat": 4,
 "nbformat_minor": 5
}
