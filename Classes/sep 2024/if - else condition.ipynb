{
 "cells": [
  {
   "cell_type": "markdown",
   "id": "f7102d7f-2033-4caa-8589-cf920730cfae",
   "metadata": {},
   "source": [
    "## If else statement\n",
    "\n",
    "**syntax**\n",
    "\n",
    "```python\n",
    "# single condition\n",
    "if <condition-expression>:\n",
    "    # statements.\n",
    "```"
   ]
  },
  {
   "cell_type": "code",
   "execution_count": 5,
   "id": "f96ca89a-dcf0-4e57-8f64-e40564750b1f",
   "metadata": {},
   "outputs": [],
   "source": [
    "a = 45\n",
    "b = 20"
   ]
  },
  {
   "cell_type": "code",
   "execution_count": 6,
   "id": "2513e460-63e8-4326-8b0b-4cdbbc948568",
   "metadata": {},
   "outputs": [],
   "source": [
    "# testing that b is greater than a\n",
    "if b > a:\n",
    "    print(\"b is greater than a\")\n",
    "    print(\"hello\")"
   ]
  },
  {
   "cell_type": "markdown",
   "id": "a02ed2e9-a187-44a7-8d14-2b610368ddb8",
   "metadata": {},
   "source": [
    "**if we want to run soem code when condition is `False`**"
   ]
  },
  {
   "cell_type": "markdown",
   "id": "c3c8f985-e31d-4eee-8e08-75fbc448333c",
   "metadata": {},
   "source": [
    "```python\n",
    "if b > a:\n",
    "    # statement for true condition\n",
    "else:\n",
    "    # statement for false condition\n",
    "```"
   ]
  },
  {
   "cell_type": "code",
   "execution_count": 7,
   "id": "1ecdbd0f-eb66-4d98-b4dd-77051458c62c",
   "metadata": {},
   "outputs": [],
   "source": [
    "a =10\n",
    "b = 20"
   ]
  },
  {
   "cell_type": "code",
   "execution_count": 8,
   "id": "013b59f0-4622-427c-937f-5c85712cf65d",
   "metadata": {},
   "outputs": [
    {
     "name": "stdout",
     "output_type": "stream",
     "text": [
      "b is greater than a\n"
     ]
    }
   ],
   "source": [
    "if b > a:\n",
    "    print(\"b is greater than a\")\n",
    "else:\n",
    "    print(\"b is less than a\")"
   ]
  },
  {
   "cell_type": "markdown",
   "id": "0e95af2e-0c2e-4e67-97fa-0a0d8fc7029a",
   "metadata": {},
   "source": [
    "**multiple condition**"
   ]
  },
  {
   "cell_type": "code",
   "execution_count": 11,
   "id": "eaac3163-2911-4181-88c7-254f8891f1e3",
   "metadata": {},
   "outputs": [
    {
     "name": "stdout",
     "output_type": "stream",
     "text": [
      "b is less than b\n"
     ]
    }
   ],
   "source": [
    "a = 520\n",
    "b = 20\n",
    "\n",
    "if b > a:\n",
    "    print(\"b is greater than a\")\n",
    "elif b < a:\n",
    "    print(\"b is less than b\")\n",
    "else:\n",
    "    print(\"b is equal to a\")"
   ]
  },
  {
   "cell_type": "markdown",
   "id": "1e118928-f2b9-4409-b10c-6e2411909218",
   "metadata": {},
   "source": [
    "**testing age limit**"
   ]
  },
  {
   "cell_type": "code",
   "execution_count": 21,
   "id": "68c3d414-655d-4696-a409-dab3f6dfc4f9",
   "metadata": {},
   "outputs": [
    {
     "name": "stdin",
     "output_type": "stream",
     "text": [
      "Enter age:  15\n"
     ]
    },
    {
     "ename": "TypeError",
     "evalue": "'>=' not supported between instances of 'str' and 'int'",
     "output_type": "error",
     "traceback": [
      "\u001b[1;31m---------------------------------------------------------------------------\u001b[0m",
      "\u001b[1;31mTypeError\u001b[0m                                 Traceback (most recent call last)",
      "Cell \u001b[1;32mIn [21], line 4\u001b[0m\n\u001b[0;32m      1\u001b[0m age \u001b[38;5;241m=\u001b[39m \u001b[38;5;28minput\u001b[39m(\u001b[38;5;124m\"\u001b[39m\u001b[38;5;124mEnter age: \u001b[39m\u001b[38;5;124m\"\u001b[39m)\n\u001b[0;32m      3\u001b[0m \u001b[38;5;66;03m# Note: age value is string value\u001b[39;00m\n\u001b[1;32m----> 4\u001b[0m \u001b[38;5;28;01mif\u001b[39;00m \u001b[43mage\u001b[49m\u001b[43m \u001b[49m\u001b[38;5;241;43m>\u001b[39;49m\u001b[38;5;241;43m=\u001b[39;49m\u001b[43m \u001b[49m\u001b[38;5;241;43m18\u001b[39;49m:\n\u001b[0;32m      5\u001b[0m     \u001b[38;5;28mprint\u001b[39m(\u001b[38;5;124m\"\u001b[39m\u001b[38;5;124mperson is adult\u001b[39m\u001b[38;5;124m\"\u001b[39m)\n\u001b[0;32m      6\u001b[0m \u001b[38;5;28;01melse\u001b[39;00m:\n",
      "\u001b[1;31mTypeError\u001b[0m: '>=' not supported between instances of 'str' and 'int'"
     ]
    }
   ],
   "source": [
    "age = input(\"Enter age: \")\n",
    "\n",
    "# Note: age value is string value\n",
    "if age >= 18:\n",
    "    print(\"person is adult\")\n",
    "else:\n",
    "    print(\"person is minor\")"
   ]
  },
  {
   "cell_type": "markdown",
   "id": "13f83115-991c-454a-8bb6-7d5bb815391d",
   "metadata": {},
   "source": [
    "Note: we can't compair two differnt type of values. in this case our `age` variable value type is `str` and `18` is a `integer` value.\n",
    "\n",
    "Note: if we use input to take integer value, then we need to convert input value into integer using int() function. because input function gives string value."
   ]
  },
  {
   "cell_type": "code",
   "execution_count": 15,
   "id": "8d9e0e91-7fe5-402d-b750-4de338ed86f5",
   "metadata": {},
   "outputs": [
    {
     "name": "stdin",
     "output_type": "stream",
     "text": [
      "Enter age:  15\n"
     ]
    },
    {
     "name": "stdout",
     "output_type": "stream",
     "text": [
      "person is minor\n"
     ]
    }
   ],
   "source": [
    "age = input(\"Enter age: \") # since our input returns as string value\n",
    "age = int(age)  # converting to integer value\n",
    "\n",
    "# after converting \n",
    "if age >= 18:\n",
    "    print(\"person is adult\")\n",
    "else:\n",
    "    print(\"person is minor\")"
   ]
  },
  {
   "cell_type": "code",
   "execution_count": 16,
   "id": "5cb5c78b-ac6e-43a4-abd6-168b3558d663",
   "metadata": {},
   "outputs": [
    {
     "name": "stdin",
     "output_type": "stream",
     "text": [
      "Enter a number:  45\n"
     ]
    }
   ],
   "source": [
    "number = input(\"Enter a number: \")"
   ]
  },
  {
   "cell_type": "code",
   "execution_count": 17,
   "id": "58e8b509-cc95-417f-8f38-d5415f5fed8e",
   "metadata": {},
   "outputs": [
    {
     "data": {
      "text/plain": [
       "'45'"
      ]
     },
     "execution_count": 17,
     "metadata": {},
     "output_type": "execute_result"
    }
   ],
   "source": [
    "number"
   ]
  },
  {
   "cell_type": "code",
   "execution_count": 18,
   "id": "1fc3240f-c55c-4e80-bbc5-ea84f1e3b20e",
   "metadata": {},
   "outputs": [
    {
     "data": {
      "text/plain": [
       "str"
      ]
     },
     "execution_count": 18,
     "metadata": {},
     "output_type": "execute_result"
    }
   ],
   "source": [
    "type(number)"
   ]
  },
  {
   "cell_type": "code",
   "execution_count": 19,
   "id": "7922cc9a-db0f-4f18-9d31-29c615290cdf",
   "metadata": {},
   "outputs": [],
   "source": [
    "number = int(number)"
   ]
  },
  {
   "cell_type": "code",
   "execution_count": 20,
   "id": "af16a8a3-6bee-4a67-851b-083bce3cad40",
   "metadata": {},
   "outputs": [
    {
     "data": {
      "text/plain": [
       "int"
      ]
     },
     "execution_count": 20,
     "metadata": {},
     "output_type": "execute_result"
    }
   ],
   "source": [
    "type(number)"
   ]
  },
  {
   "cell_type": "markdown",
   "id": "7f69af98-0a20-4980-9bc5-97de34f89351",
   "metadata": {},
   "source": [
    "**Testing that a number is positve or negative**"
   ]
  },
  {
   "cell_type": "code",
   "execution_count": 25,
   "id": "c98d112e-0f24-4df8-b092-5a4fbd901da3",
   "metadata": {},
   "outputs": [
    {
     "name": "stdin",
     "output_type": "stream",
     "text": [
      "Enter a number:  0\n"
     ]
    },
    {
     "name": "stdout",
     "output_type": "stream",
     "text": [
      "number is zero..\n"
     ]
    }
   ],
   "source": [
    "number = input(\"Enter a number: \")\n",
    "number = int(number)\n",
    "\n",
    "if number > 0:\n",
    "    print(\"number is positive\")\n",
    "elif number < 0:\n",
    "    print(\"number is negative\")\n",
    "else:\n",
    "    print(\"number is zero..\")"
   ]
  },
  {
   "cell_type": "markdown",
   "id": "a2113f79-e361-41fd-8dcc-de9afdf2ae6d",
   "metadata": {},
   "source": [
    "**Testig age limit**\n",
    "\n",
    "Testing age in b/w a range. for example in b/w [18, 36]"
   ]
  },
  {
   "cell_type": "code",
   "execution_count": 27,
   "id": "48898a68-62a9-4b5e-b0f2-286d7d636e76",
   "metadata": {},
   "outputs": [
    {
     "name": "stdin",
     "output_type": "stream",
     "text": [
      "Enter age:  32\n"
     ]
    },
    {
     "name": "stdout",
     "output_type": "stream",
     "text": [
      "person is within age limit\n"
     ]
    }
   ],
   "source": [
    "age = input(\"Enter age: \")\n",
    "age = int(age)\n",
    "\n",
    "if age >= 18 and age <= 36:\n",
    "    print(\"person is within age limit\")\n",
    "else:\n",
    "    print(\"Person is not in age limit\")"
   ]
  },
  {
   "cell_type": "code",
   "execution_count": null,
   "id": "9f6d1049-885b-4856-9e2a-982a1b0c97be",
   "metadata": {},
   "outputs": [],
   "source": []
  }
 ],
 "metadata": {
  "kernelspec": {
   "display_name": "Python 3 (ipykernel)",
   "language": "python",
   "name": "python3"
  },
  "language_info": {
   "codemirror_mode": {
    "name": "ipython",
    "version": 3
   },
   "file_extension": ".py",
   "mimetype": "text/x-python",
   "name": "python",
   "nbconvert_exporter": "python",
   "pygments_lexer": "ipython3",
   "version": "3.10.5"
  }
 },
 "nbformat": 4,
 "nbformat_minor": 5
}
