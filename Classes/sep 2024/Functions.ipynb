{
 "cells": [
  {
   "cell_type": "markdown",
   "id": "d89fddcc-f378-4666-b3f2-6c6e7f3d63a3",
   "metadata": {},
   "source": [
    "## Functions\n",
    "\n",
    "**Syntax**\n",
    "\n",
    "```python\n",
    "def <function_name>(arg1, arg2, ..., argn):\n",
    "    # statement .. 1\n",
    "    # statement .. 2\n",
    "\n",
    "    # statement .. n\n",
    "    return something  # return is optional\n",
    "\n",
    "```"
   ]
  },
  {
   "cell_type": "code",
   "execution_count": 18,
   "id": "14d9f846-da27-45e5-ac25-32211b06b418",
   "metadata": {},
   "outputs": [],
   "source": [
    "def add(a,b):\n",
    "    c = a + b\n",
    "    d = c*5\n",
    "    print(d)"
   ]
  },
  {
   "cell_type": "code",
   "execution_count": 19,
   "id": "338b5338-ab10-4a76-9f67-f5d55708711c",
   "metadata": {},
   "outputs": [
    {
     "name": "stdout",
     "output_type": "stream",
     "text": [
      "30\n"
     ]
    }
   ],
   "source": [
    "add(2,4)"
   ]
  },
  {
   "cell_type": "code",
   "execution_count": 20,
   "id": "99409a50-53ba-4109-8373-741251e9c947",
   "metadata": {},
   "outputs": [
    {
     "name": "stdout",
     "output_type": "stream",
     "text": [
      "25\n"
     ]
    },
    {
     "ename": "TypeError",
     "evalue": "unsupported operand type(s) for *: 'NoneType' and 'int'",
     "output_type": "error",
     "traceback": [
      "\u001b[1;31m---------------------------------------------------------------------------\u001b[0m",
      "\u001b[1;31mTypeError\u001b[0m                                 Traceback (most recent call last)",
      "Cell \u001b[1;32mIn [20], line 1\u001b[0m\n\u001b[1;32m----> 1\u001b[0m x \u001b[38;5;241m=\u001b[39m \u001b[43madd\u001b[49m\u001b[43m(\u001b[49m\u001b[38;5;241;43m2\u001b[39;49m\u001b[43m,\u001b[49m\u001b[38;5;241;43m3\u001b[39;49m\u001b[43m)\u001b[49m\u001b[43m \u001b[49m\u001b[38;5;241;43m*\u001b[39;49m\u001b[43m \u001b[49m\u001b[38;5;241;43m3\u001b[39;49m\n",
      "\u001b[1;31mTypeError\u001b[0m: unsupported operand type(s) for *: 'NoneType' and 'int'"
     ]
    }
   ],
   "source": [
    "x = add(2,3) * 3"
   ]
  },
  {
   "cell_type": "code",
   "execution_count": 17,
   "id": "2910baf1-a2e6-446f-a6cc-938b53e631c7",
   "metadata": {},
   "outputs": [],
   "source": [
    "x"
   ]
  },
  {
   "cell_type": "markdown",
   "id": "aed760cb-87a4-4d37-8519-5ef3ce6b5e06",
   "metadata": {},
   "source": [
    "**Using return statement**"
   ]
  },
  {
   "cell_type": "code",
   "execution_count": 21,
   "id": "fb2709e4-cd6f-4863-a61c-bf81d24db650",
   "metadata": {},
   "outputs": [],
   "source": [
    "def add(a,b):\n",
    "    c = a + b\n",
    "    return c"
   ]
  },
  {
   "cell_type": "code",
   "execution_count": 22,
   "id": "fa83a809-8f42-4354-b124-d8445419b455",
   "metadata": {},
   "outputs": [
    {
     "data": {
      "text/plain": [
       "30"
      ]
     },
     "execution_count": 22,
     "metadata": {},
     "output_type": "execute_result"
    }
   ],
   "source": [
    "add(10,20)"
   ]
  },
  {
   "cell_type": "code",
   "execution_count": 23,
   "id": "8993e657-025a-4aa9-91db-170769f154e7",
   "metadata": {},
   "outputs": [
    {
     "ename": "TypeError",
     "evalue": "add() missing 1 required positional argument: 'b'",
     "output_type": "error",
     "traceback": [
      "\u001b[1;31m---------------------------------------------------------------------------\u001b[0m",
      "\u001b[1;31mTypeError\u001b[0m                                 Traceback (most recent call last)",
      "Cell \u001b[1;32mIn [23], line 2\u001b[0m\n\u001b[0;32m      1\u001b[0m \u001b[38;5;66;03m# if you ommit any argument\u001b[39;00m\n\u001b[1;32m----> 2\u001b[0m \u001b[43madd\u001b[49m\u001b[43m(\u001b[49m\u001b[38;5;241;43m10\u001b[39;49m\u001b[43m)\u001b[49m\n",
      "\u001b[1;31mTypeError\u001b[0m: add() missing 1 required positional argument: 'b'"
     ]
    }
   ],
   "source": [
    "# if you ommit any argument\n",
    "add(10)"
   ]
  },
  {
   "cell_type": "code",
   "execution_count": 24,
   "id": "093ab8aa-a3d9-4776-a688-d525e8bc6e4c",
   "metadata": {},
   "outputs": [
    {
     "data": {
      "text/plain": [
       "82.12"
      ]
     },
     "execution_count": 24,
     "metadata": {},
     "output_type": "execute_result"
    }
   ],
   "source": [
    "add(49.56, 32.56)"
   ]
  },
  {
   "cell_type": "markdown",
   "id": "84340da0-c275-4b1d-bcaa-0730ea7ee3e4",
   "metadata": {},
   "source": [
    "**A function to find that a string/word is palindrome**"
   ]
  },
  {
   "cell_type": "code",
   "execution_count": 32,
   "id": "decc748e-3da4-44a3-9b85-806a80607003",
   "metadata": {},
   "outputs": [],
   "source": [
    "def isPalindrome(string):\n",
    "\n",
    "    # initially we need to convert all character into lower.\n",
    "    string = string.lower()\n",
    "    \n",
    "    # now we need to create lb and ub\n",
    "    lb = 0\n",
    "    ub = len(string) -1\n",
    "\n",
    "    while True:\n",
    "        if lb > ub:\n",
    "            break\n",
    "\n",
    "        if string[lb] != string[ub]:\n",
    "            return False\n",
    "\n",
    "        lb +=1\n",
    "        ub -=1\n",
    "\n",
    "    return True    \n",
    "        "
   ]
  },
  {
   "cell_type": "code",
   "execution_count": 33,
   "id": "0f08659a-b0e4-400a-bf46-4499a5b7f41b",
   "metadata": {},
   "outputs": [
    {
     "data": {
      "text/plain": [
       "True"
      ]
     },
     "execution_count": 33,
     "metadata": {},
     "output_type": "execute_result"
    }
   ],
   "source": [
    "isPalindrome(\"level\")"
   ]
  },
  {
   "cell_type": "code",
   "execution_count": 34,
   "id": "fd617009-ffe4-4c50-bb2a-0812195710da",
   "metadata": {},
   "outputs": [
    {
     "data": {
      "text/plain": [
       "False"
      ]
     },
     "execution_count": 34,
     "metadata": {},
     "output_type": "execute_result"
    }
   ],
   "source": [
    "isPalindrome(\"word\")"
   ]
  },
  {
   "cell_type": "code",
   "execution_count": 36,
   "id": "34ea7778-da9e-4e3c-ab37-2b971818599b",
   "metadata": {},
   "outputs": [
    {
     "data": {
      "text/plain": [
       "True"
      ]
     },
     "execution_count": 36,
     "metadata": {},
     "output_type": "execute_result"
    }
   ],
   "source": [
    "isPalindrome(\"MaDAm\")"
   ]
  },
  {
   "cell_type": "code",
   "execution_count": 37,
   "id": "6cfb3d1c-8deb-425a-89b6-3f5a2119729c",
   "metadata": {},
   "outputs": [],
   "source": [
    "para = \"On a sunny Sunday, the level lake beckoned. Ducks waddled, and geese honked \\\n",
    "in harmony. A kayak glided silently, its red hull reflecting the noonday sun. Nearby, a \\\n",
    "'radar'@ dish spun lazily, scanning the horizon for any anomalies. The picnic spread was a \\\n",
    "feast of palindromes: racecar-shaped sandwiches, taco cat wraps, and desserts like repapered\\\n",
    "eclairs. Even the lemonade—sipped by the reverent crowd—was a palindrome: 'madam', in Eden, \\\n",
    "I’m Adam.”\""
   ]
  },
  {
   "cell_type": "code",
   "execution_count": 43,
   "id": "910c9b06-cd8c-4e03-9ad2-6ad097b5e9dc",
   "metadata": {},
   "outputs": [],
   "source": [
    "def count_palindromes(string):\n",
    "\n",
    "    palindromes = [] # list of palindromes words\n",
    "    \n",
    "    words = string.split(\" \")\n",
    "\n",
    "    for word in words:\n",
    "\n",
    "        # skipping those words that contain only single character.\n",
    "        if len(word) <2:\n",
    "            continue\n",
    "        \n",
    "        if isPalindrome(word):\n",
    "            palindromes.append(word)\n",
    "\n",
    "    # after checking all words return the palindromes list\n",
    "    return palindromes\n",
    "    "
   ]
  },
  {
   "cell_type": "code",
   "execution_count": 44,
   "id": "efb3c7fe-85b7-40b7-949e-c627f68ad1d0",
   "metadata": {},
   "outputs": [
    {
     "data": {
      "text/plain": [
       "['level', 'kayak']"
      ]
     },
     "execution_count": 44,
     "metadata": {},
     "output_type": "execute_result"
    }
   ],
   "source": [
    "count_palindromes(para)"
   ]
  },
  {
   "cell_type": "code",
   "execution_count": null,
   "id": "b11e3301-bccb-4942-9dd2-8aede598015b",
   "metadata": {},
   "outputs": [],
   "source": []
  }
 ],
 "metadata": {
  "kernelspec": {
   "display_name": "Python 3 (ipykernel)",
   "language": "python",
   "name": "python3"
  },
  "language_info": {
   "codemirror_mode": {
    "name": "ipython",
    "version": 3
   },
   "file_extension": ".py",
   "mimetype": "text/x-python",
   "name": "python",
   "nbconvert_exporter": "python",
   "pygments_lexer": "ipython3",
   "version": "3.10.5"
  }
 },
 "nbformat": 4,
 "nbformat_minor": 5
}
