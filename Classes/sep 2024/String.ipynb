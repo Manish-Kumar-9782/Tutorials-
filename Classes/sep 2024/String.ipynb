{
 "cells": [
  {
   "cell_type": "code",
   "execution_count": 1,
   "id": "dcf384cc-dfd3-4de8-9386-d70175ad172d",
   "metadata": {},
   "outputs": [],
   "source": [
    "para = \"On a sunny Sunday, the level lake beckoned. Ducks waddled, and geese honked \\\n",
    "in harmony. A kayak glided silently, its red hull reflecting the noonday sun. Nearby, a \\\n",
    "'radar'@ dish spun lazily, scanning the horizon for any anomalies. The picnic spread was a \\\n",
    "feast of palindromes: racecar-shaped sandwiches, taco cat wraps, and desserts like repapered\\\n",
    "eclairs. Even the lemonade—sipped by the reverent crowd—was a palindrome: 'madam', in Eden, \\\n",
    "I’m Adam.”\""
   ]
  },
  {
   "cell_type": "markdown",
   "id": "d3fe8879-6536-465c-b497-9429adc40313",
   "metadata": {},
   "source": [
    "**find and index method**"
   ]
  },
  {
   "cell_type": "code",
   "execution_count": 6,
   "id": "27f494f0-e66b-4b65-86ad-d23c36715e1d",
   "metadata": {},
   "outputs": [
    {
     "data": {
      "text/plain": [
       "5"
      ]
     },
     "execution_count": 6,
     "metadata": {},
     "output_type": "execute_result"
    }
   ],
   "source": [
    "para.index(\"sunny\")"
   ]
  },
  {
   "cell_type": "code",
   "execution_count": 4,
   "id": "619913f6-7ff5-43b7-81f4-5c7789ef752f",
   "metadata": {},
   "outputs": [
    {
     "data": {
      "text/plain": [
       "'radar'"
      ]
     },
     "execution_count": 4,
     "metadata": {},
     "output_type": "execute_result"
    }
   ],
   "source": [
    "para[165:165+5]  # list slicing "
   ]
  },
  {
   "cell_type": "code",
   "execution_count": 22,
   "id": "ff57f109-953f-4c32-83b5-2f4aeaa0346d",
   "metadata": {},
   "outputs": [
    {
     "data": {
      "text/plain": [
       "1"
      ]
     },
     "execution_count": 22,
     "metadata": {},
     "output_type": "execute_result"
    }
   ],
   "source": [
    "para.count(\"is\")"
   ]
  },
  {
   "cell_type": "code",
   "execution_count": 12,
   "id": "2d487788-3a07-4350-a6ca-fd95622ea322",
   "metadata": {},
   "outputs": [
    {
     "data": {
      "text/plain": [
       "449"
      ]
     },
     "execution_count": 12,
     "metadata": {},
     "output_type": "execute_result"
    }
   ],
   "source": [
    "# couting total character\n",
    "len(para)"
   ]
  },
  {
   "cell_type": "code",
   "execution_count": 16,
   "id": "41650509-7229-4602-801a-22aa08e5dfd1",
   "metadata": {},
   "outputs": [
    {
     "data": {
      "text/plain": [
       "59"
      ]
     },
     "execution_count": 16,
     "metadata": {},
     "output_type": "execute_result"
    }
   ],
   "source": [
    "para.find(\"and\")"
   ]
  },
  {
   "cell_type": "markdown",
   "id": "584499f7-a472-4404-a8ea-2b95c884503b",
   "metadata": {},
   "source": [
    "**finding all index numbers of occurance of substring**"
   ]
  },
  {
   "cell_type": "code",
   "execution_count": 23,
   "id": "f62318a2-d8f2-4839-be39-1c74df620c52",
   "metadata": {},
   "outputs": [
    {
     "name": "stdout",
     "output_type": "stream",
     "text": [
      "[249, 403]\n"
     ]
    }
   ],
   "source": [
    "substring = \"was\"\n",
    "# a list to store all the index number at which that substring is present.\n",
    "sub_indexes = []\n",
    "\n",
    "_i = 0 # starting index number for searching.\n",
    "while True:\n",
    "\n",
    "    # _si : a variable to store the index number of occurance of substring.\n",
    "    _si = para.find(substring,_i)\n",
    "\n",
    "    if _si < 0:\n",
    "        break\n",
    "\n",
    "    sub_indexes.append(_si)\n",
    "    _i = _si + 1\n",
    "        \n",
    "print(sub_indexes)    "
   ]
  },
  {
   "cell_type": "markdown",
   "id": "60ca594e-de79-42b8-91a1-d08fb3aea048",
   "metadata": {},
   "source": [
    "------------"
   ]
  },
  {
   "cell_type": "markdown",
   "id": "dfd1ecd2-1530-40a1-b5cf-029ae6518887",
   "metadata": {},
   "source": [
    "**lower() and upper() methods**"
   ]
  },
  {
   "cell_type": "code",
   "execution_count": 1,
   "id": "90bd6940-e2b1-4c8b-bab9-e94104ce2c75",
   "metadata": {},
   "outputs": [],
   "source": [
    "text = \"hello How Are YOU\""
   ]
  },
  {
   "cell_type": "code",
   "execution_count": 2,
   "id": "3f90f57d-2892-4122-a5b8-1427583e8908",
   "metadata": {},
   "outputs": [
    {
     "data": {
      "text/plain": [
       "'hello how are you'"
      ]
     },
     "execution_count": 2,
     "metadata": {},
     "output_type": "execute_result"
    }
   ],
   "source": [
    "# lower\n",
    "text.lower()"
   ]
  },
  {
   "cell_type": "code",
   "execution_count": 3,
   "id": "2f791001-e693-4e6a-b8f4-cbc33ac22837",
   "metadata": {},
   "outputs": [
    {
     "data": {
      "text/plain": [
       "'HELLO HOW ARE YOU'"
      ]
     },
     "execution_count": 3,
     "metadata": {},
     "output_type": "execute_result"
    }
   ],
   "source": [
    "# upper \n",
    "text.upper()"
   ]
  },
  {
   "cell_type": "code",
   "execution_count": 4,
   "id": "00082e25-4e61-4b70-8e49-de3850744762",
   "metadata": {},
   "outputs": [
    {
     "data": {
      "text/plain": [
       "'Hello how are you'"
      ]
     },
     "execution_count": 4,
     "metadata": {},
     "output_type": "execute_result"
    }
   ],
   "source": [
    "# capitalize\n",
    "text.capitalize()"
   ]
  },
  {
   "cell_type": "code",
   "execution_count": 5,
   "id": "8ed67344-ad24-4018-9068-e7d0098d3a25",
   "metadata": {},
   "outputs": [
    {
     "name": "stdin",
     "output_type": "stream",
     "text": [
      "Eenter Email:       vikasKumar123@gmail.com     \n"
     ]
    }
   ],
   "source": [
    "mail = input(\"Eenter Email: \")"
   ]
  },
  {
   "cell_type": "code",
   "execution_count": 6,
   "id": "972df045-9d02-433b-bff6-ae3f2fe2001e",
   "metadata": {},
   "outputs": [
    {
     "data": {
      "text/plain": [
       "'     vikasKumar123@gmail.com     '"
      ]
     },
     "execution_count": 6,
     "metadata": {},
     "output_type": "execute_result"
    }
   ],
   "source": [
    "mail"
   ]
  },
  {
   "cell_type": "code",
   "execution_count": 8,
   "id": "c555a92c-e413-4108-8319-4de602886900",
   "metadata": {},
   "outputs": [
    {
     "data": {
      "text/plain": [
       "33"
      ]
     },
     "execution_count": 8,
     "metadata": {},
     "output_type": "execute_result"
    }
   ],
   "source": [
    "# length of string\n",
    "len(mail)"
   ]
  },
  {
   "cell_type": "code",
   "execution_count": 9,
   "id": "ce41d03c-475a-40c3-96af-5b4a9b614567",
   "metadata": {},
   "outputs": [
    {
     "data": {
      "text/plain": [
       "10"
      ]
     },
     "execution_count": 9,
     "metadata": {},
     "output_type": "execute_result"
    }
   ],
   "source": [
    "# counting whitespaces\n",
    "mail.count(\" \")"
   ]
  },
  {
   "cell_type": "code",
   "execution_count": 10,
   "id": "4e434cdd-07a8-46de-8844-edc2123435ad",
   "metadata": {},
   "outputs": [
    {
     "data": {
      "text/plain": [
       "'vikasKumar123@gmail.com'"
      ]
     },
     "execution_count": 10,
     "metadata": {},
     "output_type": "execute_result"
    }
   ],
   "source": [
    "mail.strip()"
   ]
  },
  {
   "cell_type": "code",
   "execution_count": 11,
   "id": "57ebdb76-a86d-4eed-85e5-8d88dac76e24",
   "metadata": {},
   "outputs": [],
   "source": [
    "headers = \"Date;Date Time;Numerical Value;Financial Value;Address;Email;Phone Number;Employee ID;Department;Job Title\""
   ]
  },
  {
   "cell_type": "markdown",
   "id": "9e28dc28-31f3-482e-8b44-facd6a8b38bf",
   "metadata": {},
   "source": [
    "**split() method**"
   ]
  },
  {
   "cell_type": "code",
   "execution_count": 14,
   "id": "0817a76b-5d18-4ab5-b848-1daedd165e1f",
   "metadata": {},
   "outputs": [
    {
     "data": {
      "text/plain": [
       "['Date',\n",
       " 'Date Time',\n",
       " 'Numerical Value',\n",
       " 'Financial Value',\n",
       " 'Address',\n",
       " 'Email',\n",
       " 'Phone Number',\n",
       " 'Employee ID',\n",
       " 'Department',\n",
       " 'Job Title']"
      ]
     },
     "execution_count": 14,
     "metadata": {},
     "output_type": "execute_result"
    }
   ],
   "source": [
    "# by using split method extracting headers.\n",
    "headers.split(\";\")"
   ]
  },
  {
   "cell_type": "markdown",
   "id": "e34f0a2a-cfa6-4bd2-b22a-fe300a64c6ad",
   "metadata": {},
   "source": [
    "**replace method**"
   ]
  },
  {
   "cell_type": "code",
   "execution_count": 15,
   "id": "a57aa00e-027f-43d5-890d-b8cd47d9bdd9",
   "metadata": {},
   "outputs": [
    {
     "data": {
      "text/plain": [
       "'Date;DateTime;Numerical Value;Financial Value;Address;Email;Phone Number;Employee ID;Department;Job Title'"
      ]
     },
     "execution_count": 15,
     "metadata": {},
     "output_type": "execute_result"
    }
   ],
   "source": [
    "headers.replace(\"Date Time\", \"DateTime\")\n",
    "# returned value: a new string with replaced value"
   ]
  },
  {
   "cell_type": "code",
   "execution_count": 16,
   "id": "b4aacbad-8d4e-422c-8919-bfc590f96f53",
   "metadata": {},
   "outputs": [
    {
     "data": {
      "text/plain": [
       "'Date;Date Time;Numerical Value;Financial Value;Address;Email;Phone Number;Employee ID;Department;Job Title'"
      ]
     },
     "execution_count": 16,
     "metadata": {},
     "output_type": "execute_result"
    }
   ],
   "source": [
    "headers"
   ]
  },
  {
   "cell_type": "code",
   "execution_count": 17,
   "id": "a8943e90-b92c-46f9-b888-7882fe361288",
   "metadata": {},
   "outputs": [
    {
     "name": "stdout",
     "output_type": "stream",
     "text": [
      "Date;DateTime;Numerical Value;Financial Value;Address;Email;Phone Number;Employee ID;Department;Job Title\n"
     ]
    }
   ],
   "source": [
    "new_headers = headers.replace(\"Date Time\", \"DateTime\")\n",
    "print(new_headers)"
   ]
  },
  {
   "cell_type": "markdown",
   "id": "8f5dc78a-aaa1-40af-a835-a9b901b452b3",
   "metadata": {},
   "source": [
    "**replacing mutliple values**"
   ]
  },
  {
   "cell_type": "code",
   "execution_count": 18,
   "id": "f9afa3f2-083a-4118-9b2c-f065dd529a99",
   "metadata": {},
   "outputs": [],
   "source": [
    "replace_map = [\n",
    "    (\"Date Time\", \"DateTime\"),\n",
    "    (\"Numerical Value\", \"Age\"),\n",
    "    (\"Financial Value\", \"Salary\"),\n",
    "    (\"Phone Number\", \"Contact Number\")\n",
    "]"
   ]
  },
  {
   "cell_type": "code",
   "execution_count": 20,
   "id": "22532e4f-2e44-4156-927c-95db4d43f368",
   "metadata": {},
   "outputs": [
    {
     "name": "stdout",
     "output_type": "stream",
     "text": [
      "Date;DateTime;Age;Salary;Address;Email;Contact Number;Employee ID;Department;Job Title\n"
     ]
    }
   ],
   "source": [
    "new_headers = str(headers)  # creating a new copy and storing it to new_headers variable.\n",
    "\n",
    "for item in replace_map:\n",
    "    old_value = item[0]\n",
    "    new_value = item[1]\n",
    "\n",
    "    new_headers = new_headers.replace(old_value, new_value)\n",
    "\n",
    "print(new_headers)"
   ]
  },
  {
   "cell_type": "markdown",
   "id": "f23af241-016a-41b5-bc56-7353992f76f2",
   "metadata": {},
   "source": [
    "**join method**"
   ]
  },
  {
   "cell_type": "code",
   "execution_count": 21,
   "id": "38f0607a-97fb-4b3a-a620-8cab6e6f8151",
   "metadata": {},
   "outputs": [],
   "source": [
    "join_by = \",\"\n",
    "delimeter = \";\""
   ]
  },
  {
   "cell_type": "code",
   "execution_count": 22,
   "id": "af341803-c42d-4932-bef9-4d8beb67c7a7",
   "metadata": {},
   "outputs": [
    {
     "data": {
      "text/plain": [
       "'Name,Age,Height,BloodGroup'"
      ]
     },
     "execution_count": 22,
     "metadata": {},
     "output_type": "execute_result"
    }
   ],
   "source": [
    "join_by.join([\"Name\", \"Age\", \"Height\",\"BloodGroup\"])"
   ]
  },
  {
   "cell_type": "code",
   "execution_count": 23,
   "id": "75a5ef9d-c15a-43e9-b70b-e22d6b0772cd",
   "metadata": {},
   "outputs": [
    {
     "data": {
      "text/plain": [
       "'Name;Age;Height;BloodGroup'"
      ]
     },
     "execution_count": 23,
     "metadata": {},
     "output_type": "execute_result"
    }
   ],
   "source": [
    "delimeter.join([\"Name\", \"Age\", \"Height\",\"BloodGroup\"])"
   ]
  },
  {
   "cell_type": "code",
   "execution_count": 24,
   "id": "0908d550-a01a-41ef-bdc2-a7a92add1316",
   "metadata": {},
   "outputs": [
    {
     "data": {
      "text/plain": [
       "'Name---Age---Height---BloodGroup'"
      ]
     },
     "execution_count": 24,
     "metadata": {},
     "output_type": "execute_result"
    }
   ],
   "source": [
    "\"---\".join([\"Name\", \"Age\", \"Height\",\"BloodGroup\"])"
   ]
  },
  {
   "cell_type": "markdown",
   "id": "0da8333e-7d16-41f0-9727-2504a5e41077",
   "metadata": {},
   "source": [
    "**format method**"
   ]
  },
  {
   "cell_type": "code",
   "execution_count": 25,
   "id": "2f4ef820-202a-4379-9d5f-e6dc27817bd1",
   "metadata": {},
   "outputs": [],
   "source": [
    "myText = \"My Name is manish and i am 26 year old\""
   ]
  },
  {
   "cell_type": "code",
   "execution_count": 26,
   "id": "3702b6b6-9bbd-4f4c-b30a-07ee70e4c9b7",
   "metadata": {},
   "outputs": [],
   "source": [
    "# converting myText with fill in the blank\n",
    "myText =  \"My Name is _name_ and i am _age_ year old\""
   ]
  },
  {
   "cell_type": "code",
   "execution_count": 29,
   "id": "7ca6197e-6ec2-4a6f-aefb-e8f052a4497f",
   "metadata": {},
   "outputs": [
    {
     "name": "stdin",
     "output_type": "stream",
     "text": [
      "Enter name:  parkash\n",
      "Enter age:  34\n"
     ]
    },
    {
     "name": "stdout",
     "output_type": "stream",
     "text": [
      "My Name is parkash and i am 34 year old\n"
     ]
    }
   ],
   "source": [
    "person_name = input(\"Enter name: \")\n",
    "person_age = input(\"Enter age: \")\n",
    "\n",
    "\n",
    "replace_map = [\n",
    "    (\"_name_\", person_name),\n",
    "    (\"_age_\", person_age),\n",
    "]\n",
    "\n",
    "newText = str(myText)  # creating a new copy and storing it to new_headers variable.\n",
    "\n",
    "for item in replace_map:\n",
    "    old_value = item[0]\n",
    "    new_value = item[1]\n",
    "\n",
    "    newText = newText.replace(old_value, new_value)\n",
    "\n",
    "print(newText)"
   ]
  },
  {
   "cell_type": "code",
   "execution_count": 31,
   "id": "8a9fbae3-9929-40a1-bba1-2fc6d4bfb8c7",
   "metadata": {},
   "outputs": [
    {
     "name": "stdin",
     "output_type": "stream",
     "text": [
      "Enter name:  rahul\n",
      "Enter age:  22\n"
     ]
    },
    {
     "data": {
      "text/plain": [
       "'My Name is rahul                and i am 22 year old'"
      ]
     },
     "execution_count": 31,
     "metadata": {},
     "output_type": "execute_result"
    }
   ],
   "source": [
    "myText = \"My Name is {:20s} and i am {} year old\"\n",
    "\n",
    "person_name = input(\"Enter name: \")\n",
    "person_age = input(\"Enter age: \")\n",
    "\n",
    "myText.format(person_name, person_age)"
   ]
  },
  {
   "cell_type": "code",
   "execution_count": null,
   "id": "946c0fd0-929a-4005-beb6-bfe39bb421b2",
   "metadata": {},
   "outputs": [],
   "source": []
  }
 ],
 "metadata": {
  "kernelspec": {
   "display_name": "Python 3 (ipykernel)",
   "language": "python",
   "name": "python3"
  },
  "language_info": {
   "codemirror_mode": {
    "name": "ipython",
    "version": 3
   },
   "file_extension": ".py",
   "mimetype": "text/x-python",
   "name": "python",
   "nbconvert_exporter": "python",
   "pygments_lexer": "ipython3",
   "version": "3.10.5"
  }
 },
 "nbformat": 4,
 "nbformat_minor": 5
}
