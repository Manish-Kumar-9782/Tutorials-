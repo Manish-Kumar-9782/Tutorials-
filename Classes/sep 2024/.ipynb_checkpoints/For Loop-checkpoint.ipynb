{
 "cells": [
  {
   "cell_type": "markdown",
   "id": "4e25c888-0062-4b32-a7c4-5fed4e35e443",
   "metadata": {},
   "source": [
    "## For Loop\n",
    "\n",
    "```python\n",
    "for <var> in <sequence>:\n",
    "    # statement 1\n",
    "    # statement 2\n",
    "    ...\n",
    "    # statement n\n",
    "```"
   ]
  },
  {
   "cell_type": "code",
   "execution_count": 4,
   "id": "d20444f7-2864-4e59-84ed-64f799c9fc31",
   "metadata": {},
   "outputs": [
    {
     "name": "stdout",
     "output_type": "stream",
     "text": [
      "hello world .... !\n",
      "hello world\n",
      "hello world\n",
      "hello world\n",
      "hello world\n",
      "hello world\n",
      "hello world\n",
      "hello world\n",
      "hello world\n",
      "hello world\n"
     ]
    }
   ],
   "source": [
    "print(\"hello world .... !\")\n",
    "print(\"hello world\")\n",
    "print(\"hello world\")\n",
    "print(\"hello world\")\n",
    "print(\"hello world\")\n",
    "print(\"hello world\")\n",
    "print(\"hello world\")\n",
    "print(\"hello world\")\n",
    "print(\"hello world\")\n",
    "print(\"hello world\")"
   ]
  },
  {
   "cell_type": "code",
   "execution_count": 8,
   "id": "938d282b-4d24-4e25-ba0b-07604092f75e",
   "metadata": {},
   "outputs": [
    {
     "name": "stdout",
     "output_type": "stream",
     "text": [
      "hello world 0\n",
      "hello world 1\n",
      "hello world 2\n",
      "hello world 3\n",
      "hello world 4\n"
     ]
    }
   ],
   "source": [
    "for i in range(5):\n",
    "    print(\"hello world\",i)"
   ]
  },
  {
   "cell_type": "markdown",
   "id": "ce6fb543-287a-41f8-8752-aa33d75f2f20",
   "metadata": {},
   "source": [
    "if we want to change the generated number starting point."
   ]
  },
  {
   "cell_type": "code",
   "execution_count": 10,
   "id": "8d77aa26-97ae-49a3-b1fb-1457c51d5827",
   "metadata": {},
   "outputs": [
    {
     "name": "stdout",
     "output_type": "stream",
     "text": [
      "hello world 10\n",
      "hello world 11\n",
      "hello world 12\n",
      "hello world 13\n",
      "hello world 14\n",
      "hello world 15\n",
      "hello world 16\n",
      "hello world 17\n",
      "hello world 18\n",
      "hello world 19\n"
     ]
    }
   ],
   "source": [
    "for i in range(10,20):\n",
    "    print(\"hello world\", i)"
   ]
  },
  {
   "cell_type": "markdown",
   "id": "4d20e236-9794-401c-b79a-fbc271fa52c1",
   "metadata": {},
   "source": [
    "if we want to change step value."
   ]
  },
  {
   "cell_type": "code",
   "execution_count": 26,
   "id": "f0860b12-f7ef-40dc-b5fe-77365a3fe459",
   "metadata": {},
   "outputs": [
    {
     "name": "stdout",
     "output_type": "stream",
     "text": [
      "hello world 10\n",
      "hello world 40\n",
      "hello world 70\n",
      "hello world 100\n",
      "hello world 130\n"
     ]
    }
   ],
   "source": [
    "for i in range(1,15,3):\n",
    "    print(\"hello world\", i*10)"
   ]
  },
  {
   "cell_type": "code",
   "execution_count": 25,
   "id": "0d84c949-a787-4f00-937a-848ad81210e2",
   "metadata": {},
   "outputs": [
    {
     "data": {
      "text/plain": [
       "1048576"
      ]
     },
     "execution_count": 25,
     "metadata": {},
     "output_type": "execute_result"
    }
   ],
   "source": [
    "4**10"
   ]
  },
  {
   "cell_type": "markdown",
   "id": "10967e40-e4b4-43de-a03e-d6879dcbb0c4",
   "metadata": {},
   "source": [
    "#### check number is positive or negative."
   ]
  },
  {
   "cell_type": "code",
   "execution_count": 12,
   "id": "37154454-2ca8-4a7c-b486-3e496ee43711",
   "metadata": {},
   "outputs": [
    {
     "name": "stdin",
     "output_type": "stream",
     "text": [
      "Enter a number:  12\n"
     ]
    },
    {
     "name": "stdout",
     "output_type": "stream",
     "text": [
      "number is positive\n"
     ]
    }
   ],
   "source": [
    "number = input(\"Enter a number: \")\n",
    "number = int(number)\n",
    "\n",
    "if number > 0:\n",
    "    print(\"number is positive\")\n",
    "elif number < 0:\n",
    "    print(\"number is negative\")\n",
    "else:\n",
    "    print(\"number is zero..\")"
   ]
  },
  {
   "cell_type": "code",
   "execution_count": 13,
   "id": "ff6c3a58-1ac6-4ab4-811b-91e9cfbc4a88",
   "metadata": {},
   "outputs": [
    {
     "name": "stdin",
     "output_type": "stream",
     "text": [
      "Enter a number:  45\n"
     ]
    },
    {
     "name": "stdout",
     "output_type": "stream",
     "text": [
      "number is positive\n"
     ]
    },
    {
     "name": "stdin",
     "output_type": "stream",
     "text": [
      "Enter a number:  12\n"
     ]
    },
    {
     "name": "stdout",
     "output_type": "stream",
     "text": [
      "number is positive\n"
     ]
    },
    {
     "name": "stdin",
     "output_type": "stream",
     "text": [
      "Enter a number:  -96\n"
     ]
    },
    {
     "name": "stdout",
     "output_type": "stream",
     "text": [
      "number is negative\n"
     ]
    },
    {
     "name": "stdin",
     "output_type": "stream",
     "text": [
      "Enter a number:  -85\n"
     ]
    },
    {
     "name": "stdout",
     "output_type": "stream",
     "text": [
      "number is negative\n"
     ]
    },
    {
     "name": "stdin",
     "output_type": "stream",
     "text": [
      "Enter a number:  -52\n"
     ]
    },
    {
     "name": "stdout",
     "output_type": "stream",
     "text": [
      "number is negative\n"
     ]
    }
   ],
   "source": [
    "for i in range(5):\n",
    "    number = input(\"Enter a number: \")\n",
    "    number = int(number)\n",
    "    \n",
    "    if number > 0:\n",
    "        print(\"number is positive\")\n",
    "    elif number < 0:\n",
    "        print(\"number is negative\")\n",
    "    else:\n",
    "        print(\"number is zero..\")"
   ]
  },
  {
   "cell_type": "markdown",
   "id": "fb025baf-3160-41bf-b75d-18b4510f531b",
   "metadata": {},
   "source": [
    "**maintaining a record for testing values**"
   ]
  },
  {
   "cell_type": "code",
   "execution_count": 14,
   "id": "3248176e-a1b2-43f2-a487-1216ccfce699",
   "metadata": {},
   "outputs": [
    {
     "name": "stdin",
     "output_type": "stream",
     "text": [
      "Enter a number:  45\n"
     ]
    },
    {
     "name": "stdout",
     "output_type": "stream",
     "text": [
      "number is positive\n"
     ]
    },
    {
     "name": "stdin",
     "output_type": "stream",
     "text": [
      "Enter a number:  -96\n"
     ]
    },
    {
     "name": "stdout",
     "output_type": "stream",
     "text": [
      "number is negative\n"
     ]
    },
    {
     "name": "stdin",
     "output_type": "stream",
     "text": [
      "Enter a number:  -6\n"
     ]
    },
    {
     "name": "stdout",
     "output_type": "stream",
     "text": [
      "number is negative\n"
     ]
    },
    {
     "name": "stdin",
     "output_type": "stream",
     "text": [
      "Enter a number:  0\n"
     ]
    },
    {
     "name": "stdout",
     "output_type": "stream",
     "text": [
      "number is zero..\n"
     ]
    },
    {
     "name": "stdin",
     "output_type": "stream",
     "text": [
      "Enter a number:  0\n"
     ]
    },
    {
     "name": "stdout",
     "output_type": "stream",
     "text": [
      "number is zero..\n"
     ]
    }
   ],
   "source": [
    "record = [] # an empty list\n",
    "\n",
    "for i in range(5):\n",
    "    number = input(\"Enter a number: \")\n",
    "    number = int(number)\n",
    "    \n",
    "    if number > 0:\n",
    "        print(\"number is positive\")\n",
    "        record.append(1)  # adding 1 to record list a\n",
    "        \n",
    "    elif number < 0:\n",
    "        print(\"number is negative\")\n",
    "        record.append(-1) # adding -1 to record list\n",
    "        \n",
    "    else:\n",
    "        print(\"number is zero..\")\n",
    "        record.append(0)  # adding 0 to record list"
   ]
  },
  {
   "cell_type": "code",
   "execution_count": 15,
   "id": "43f3fca1-6966-44de-ace1-c0c186fc2657",
   "metadata": {},
   "outputs": [
    {
     "data": {
      "text/plain": [
       "[1, -1, -1, 0, 0]"
      ]
     },
     "execution_count": 15,
     "metadata": {},
     "output_type": "execute_result"
    }
   ],
   "source": [
    "record"
   ]
  },
  {
   "cell_type": "code",
   "execution_count": 16,
   "id": "391e6d41-3076-4557-a8f0-4820c4b47aab",
   "metadata": {},
   "outputs": [
    {
     "name": "stdin",
     "output_type": "stream",
     "text": [
      "Number of entries:  3\n",
      "Enter a number:  1\n"
     ]
    },
    {
     "name": "stdout",
     "output_type": "stream",
     "text": [
      "number is positive\n"
     ]
    },
    {
     "name": "stdin",
     "output_type": "stream",
     "text": [
      "Enter a number:  2\n"
     ]
    },
    {
     "name": "stdout",
     "output_type": "stream",
     "text": [
      "number is positive\n"
     ]
    },
    {
     "name": "stdin",
     "output_type": "stream",
     "text": [
      "Enter a number:  0\n"
     ]
    },
    {
     "name": "stdout",
     "output_type": "stream",
     "text": [
      "number is zero..\n",
      "[1, 1, 0]\n"
     ]
    }
   ],
   "source": [
    "record = [] # an empty list\n",
    "\n",
    "n = input(\"Number of entries: \")\n",
    "n = int(n)\n",
    "\n",
    "for i in range(n):\n",
    "    number = input(\"Enter a number: \")\n",
    "    number = int(number)\n",
    "    \n",
    "    if number > 0:\n",
    "        print(\"number is positive\")\n",
    "        record.append(1)  # adding 1 to record list a\n",
    "        \n",
    "    elif number < 0:\n",
    "        print(\"number is negative\")\n",
    "        record.append(-1) # adding -1 to record list\n",
    "        \n",
    "    else:\n",
    "        print(\"number is zero..\")\n",
    "        record.append(0)  # adding 0 to record list\n",
    "\n",
    "# ---------- #\n",
    "print(record)"
   ]
  },
  {
   "cell_type": "markdown",
   "id": "ae965fe0-ba46-4f9b-ba51-3223e5a354d7",
   "metadata": {},
   "source": [
    "**testing that a number is prime**"
   ]
  },
  {
   "cell_type": "code",
   "execution_count": 21,
   "id": "2d8a4d61-756e-42f7-bbf8-81499e160a39",
   "metadata": {},
   "outputs": [
    {
     "name": "stdout",
     "output_type": "stream",
     "text": [
      "6 % 2\n",
      "number is not prime 2\n"
     ]
    }
   ],
   "source": [
    "n = 6\n",
    "\n",
    "for i in range(2,n):\n",
    "    print(f\"{n} % {i}\")\n",
    "    if n % i == 0:\n",
    "        print(\"number is not prime\", i)\n",
    "        break\n",
    "\n",
    "    "
   ]
  },
  {
   "cell_type": "code",
   "execution_count": null,
   "id": "60eb2bcf-f4ed-4b2a-b735-6ed0c5095782",
   "metadata": {},
   "outputs": [],
   "source": []
  }
 ],
 "metadata": {
  "kernelspec": {
   "display_name": "Python 3 (ipykernel)",
   "language": "python",
   "name": "python3"
  },
  "language_info": {
   "codemirror_mode": {
    "name": "ipython",
    "version": 3
   },
   "file_extension": ".py",
   "mimetype": "text/x-python",
   "name": "python",
   "nbconvert_exporter": "python",
   "pygments_lexer": "ipython3",
   "version": "3.10.5"
  }
 },
 "nbformat": 4,
 "nbformat_minor": 5
}
