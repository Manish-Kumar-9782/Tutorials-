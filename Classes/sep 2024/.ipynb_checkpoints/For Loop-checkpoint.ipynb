{
 "cells": [
  {
   "cell_type": "markdown",
   "id": "4e25c888-0062-4b32-a7c4-5fed4e35e443",
   "metadata": {},
   "source": [
    "## For Loop\n",
    "\n",
    "```python\n",
    "for <var> in <sequence>:\n",
    "    # statement 1\n",
    "    # statement 2\n",
    "    ...\n",
    "    # statement n\n",
    "```"
   ]
  },
  {
   "cell_type": "code",
   "execution_count": 4,
   "id": "d20444f7-2864-4e59-84ed-64f799c9fc31",
   "metadata": {},
   "outputs": [
    {
     "name": "stdout",
     "output_type": "stream",
     "text": [
      "hello world .... !\n",
      "hello world\n",
      "hello world\n",
      "hello world\n",
      "hello world\n",
      "hello world\n",
      "hello world\n",
      "hello world\n",
      "hello world\n",
      "hello world\n"
     ]
    }
   ],
   "source": [
    "print(\"hello world .... !\")\n",
    "print(\"hello world\")\n",
    "print(\"hello world\")\n",
    "print(\"hello world\")\n",
    "print(\"hello world\")\n",
    "print(\"hello world\")\n",
    "print(\"hello world\")\n",
    "print(\"hello world\")\n",
    "print(\"hello world\")\n",
    "print(\"hello world\")"
   ]
  },
  {
   "cell_type": "code",
   "execution_count": 1,
   "id": "938d282b-4d24-4e25-ba0b-07604092f75e",
   "metadata": {},
   "outputs": [
    {
     "name": "stdout",
     "output_type": "stream",
     "text": [
      "hello world 0\n",
      "hello world 1\n",
      "hello world 2\n",
      "hello world 3\n",
      "hello world 4\n"
     ]
    }
   ],
   "source": [
    "for i in range(5):\n",
    "    print(\"hello world\",i)"
   ]
  },
  {
   "cell_type": "markdown",
   "id": "ce6fb543-287a-41f8-8752-aa33d75f2f20",
   "metadata": {},
   "source": [
    "if we want to change the generated number starting point."
   ]
  },
  {
   "cell_type": "code",
   "execution_count": 10,
   "id": "8d77aa26-97ae-49a3-b1fb-1457c51d5827",
   "metadata": {},
   "outputs": [
    {
     "name": "stdout",
     "output_type": "stream",
     "text": [
      "hello world 10\n",
      "hello world 11\n",
      "hello world 12\n",
      "hello world 13\n",
      "hello world 14\n",
      "hello world 15\n",
      "hello world 16\n",
      "hello world 17\n",
      "hello world 18\n",
      "hello world 19\n"
     ]
    }
   ],
   "source": [
    "for i in range(10,20):\n",
    "    print(\"hello world\", i)"
   ]
  },
  {
   "cell_type": "markdown",
   "id": "4d20e236-9794-401c-b79a-fbc271fa52c1",
   "metadata": {},
   "source": [
    "if we want to change step value."
   ]
  },
  {
   "cell_type": "code",
   "execution_count": 2,
   "id": "f0860b12-f7ef-40dc-b5fe-77365a3fe459",
   "metadata": {},
   "outputs": [
    {
     "name": "stdout",
     "output_type": "stream",
     "text": [
      "hello world 1\n",
      "hello world 4\n",
      "hello world 7\n",
      "hello world 10\n",
      "hello world 13\n"
     ]
    }
   ],
   "source": [
    "for i in range(1,15,3):\n",
    "    print(\"hello world\", i)"
   ]
  },
  {
   "cell_type": "code",
   "execution_count": 25,
   "id": "0d84c949-a787-4f00-937a-848ad81210e2",
   "metadata": {},
   "outputs": [
    {
     "data": {
      "text/plain": [
       "1048576"
      ]
     },
     "execution_count": 25,
     "metadata": {},
     "output_type": "execute_result"
    }
   ],
   "source": [
    "4**10"
   ]
  },
  {
   "cell_type": "markdown",
   "id": "10967e40-e4b4-43de-a03e-d6879dcbb0c4",
   "metadata": {},
   "source": [
    "#### check number is positive or negative."
   ]
  },
  {
   "cell_type": "code",
   "execution_count": 12,
   "id": "37154454-2ca8-4a7c-b486-3e496ee43711",
   "metadata": {},
   "outputs": [
    {
     "name": "stdin",
     "output_type": "stream",
     "text": [
      "Enter a number:  12\n"
     ]
    },
    {
     "name": "stdout",
     "output_type": "stream",
     "text": [
      "number is positive\n"
     ]
    }
   ],
   "source": [
    "number = input(\"Enter a number: \")\n",
    "number = int(number)\n",
    "\n",
    "if number > 0:\n",
    "    print(\"number is positive\")\n",
    "elif number < 0:\n",
    "    print(\"number is negative\")\n",
    "else:\n",
    "    print(\"number is zero..\")"
   ]
  },
  {
   "cell_type": "markdown",
   "id": "d76da3b6-783c-49c4-9a25-898b33198fdb",
   "metadata": {},
   "source": [
    "**testing n number that n is positive or negative**"
   ]
  },
  {
   "cell_type": "code",
   "execution_count": 3,
   "id": "ff6c3a58-1ac6-4ab4-811b-91e9cfbc4a88",
   "metadata": {},
   "outputs": [
    {
     "name": "stdin",
     "output_type": "stream",
     "text": [
      "Enter a number:  5\n"
     ]
    },
    {
     "name": "stdout",
     "output_type": "stream",
     "text": [
      "number is positive\n"
     ]
    },
    {
     "name": "stdin",
     "output_type": "stream",
     "text": [
      "Enter a number:  40\n"
     ]
    },
    {
     "name": "stdout",
     "output_type": "stream",
     "text": [
      "number is positive\n"
     ]
    },
    {
     "name": "stdin",
     "output_type": "stream",
     "text": [
      "Enter a number:  -1\n"
     ]
    },
    {
     "name": "stdout",
     "output_type": "stream",
     "text": [
      "number is negative\n"
     ]
    },
    {
     "name": "stdin",
     "output_type": "stream",
     "text": [
      "Enter a number:  60\n"
     ]
    },
    {
     "name": "stdout",
     "output_type": "stream",
     "text": [
      "number is positive\n"
     ]
    },
    {
     "name": "stdin",
     "output_type": "stream",
     "text": [
      "Enter a number:  10\n"
     ]
    },
    {
     "name": "stdout",
     "output_type": "stream",
     "text": [
      "number is positive\n"
     ]
    }
   ],
   "source": [
    "for i in range(5):\n",
    "    number = input(\"Enter a number: \")\n",
    "    number = int(number)\n",
    "    \n",
    "    if number > 0:\n",
    "        print(\"number is positive\")\n",
    "    elif number < 0:\n",
    "        print(\"number is negative\")\n",
    "    else:\n",
    "        print(\"number is zero..\")"
   ]
  },
  {
   "cell_type": "code",
   "execution_count": 4,
   "id": "1e482840-e647-414f-93a2-d27f8a02c3c1",
   "metadata": {},
   "outputs": [],
   "source": [
    "import random # to generate random number"
   ]
  },
  {
   "cell_type": "code",
   "execution_count": 8,
   "id": "54b112f7-e64c-468f-becb-fb19729ef76d",
   "metadata": {},
   "outputs": [],
   "source": [
    "rn = [] # random number list\n",
    "for i in range(10):\n",
    "    rn.append(random.randint(-10,20))"
   ]
  },
  {
   "cell_type": "code",
   "execution_count": 9,
   "id": "b5f04ded-0389-4a87-8235-cae865e46595",
   "metadata": {},
   "outputs": [
    {
     "name": "stdout",
     "output_type": "stream",
     "text": [
      "number is negative\n",
      "-----------------------\n",
      "\n",
      "number is negative\n",
      "-----------------------\n",
      "\n",
      "number is negative\n",
      "-----------------------\n",
      "\n",
      "number is positive\n",
      "-----------------------\n",
      "\n",
      "number is positive\n",
      "-----------------------\n",
      "\n",
      "number is negative\n",
      "-----------------------\n",
      "\n",
      "number is positive\n",
      "-----------------------\n",
      "\n",
      "number is positive\n",
      "-----------------------\n",
      "\n",
      "number is positive\n",
      "-----------------------\n",
      "\n",
      "number is positive\n",
      "-----------------------\n",
      "\n"
     ]
    }
   ],
   "source": [
    "for n in rn:\n",
    "    if n > 0:\n",
    "        print(\"number is positive\")\n",
    "    elif n < 0:\n",
    "        print(\"number is negative\")\n",
    "    else:\n",
    "        print(\"number is zero..\")\n",
    "    print(\"-----------------------\\n\")"
   ]
  },
  {
   "cell_type": "markdown",
   "id": "22cf5ce7-9746-4dc8-8a27-d8263952a163",
   "metadata": {},
   "source": [
    "**counting negative and positive numbers**"
   ]
  },
  {
   "cell_type": "code",
   "execution_count": 10,
   "id": "362b14f1-f304-4cd5-8f72-df2833d42414",
   "metadata": {},
   "outputs": [
    {
     "name": "stdout",
     "output_type": "stream",
     "text": [
      "Positive:  6\n",
      "Negative:  4\n"
     ]
    }
   ],
   "source": [
    "count_negative = 0\n",
    "count_positive = 0\n",
    "for n in rn:\n",
    "\n",
    "    if n > 0:\n",
    "        count_positive += 1\n",
    "    elif n < 0:\n",
    "        count_negative += 1\n",
    "\n",
    "print(\"Positive: \", count_positive)\n",
    "print(\"Negative: \", count_negative)"
   ]
  },
  {
   "cell_type": "markdown",
   "id": "fb025baf-3160-41bf-b75d-18b4510f531b",
   "metadata": {},
   "source": [
    "**maintaining a record for testing values**"
   ]
  },
  {
   "cell_type": "code",
   "execution_count": 14,
   "id": "3248176e-a1b2-43f2-a487-1216ccfce699",
   "metadata": {},
   "outputs": [
    {
     "name": "stdin",
     "output_type": "stream",
     "text": [
      "Enter a number:  45\n"
     ]
    },
    {
     "name": "stdout",
     "output_type": "stream",
     "text": [
      "number is positive\n"
     ]
    },
    {
     "name": "stdin",
     "output_type": "stream",
     "text": [
      "Enter a number:  -96\n"
     ]
    },
    {
     "name": "stdout",
     "output_type": "stream",
     "text": [
      "number is negative\n"
     ]
    },
    {
     "name": "stdin",
     "output_type": "stream",
     "text": [
      "Enter a number:  -6\n"
     ]
    },
    {
     "name": "stdout",
     "output_type": "stream",
     "text": [
      "number is negative\n"
     ]
    },
    {
     "name": "stdin",
     "output_type": "stream",
     "text": [
      "Enter a number:  0\n"
     ]
    },
    {
     "name": "stdout",
     "output_type": "stream",
     "text": [
      "number is zero..\n"
     ]
    },
    {
     "name": "stdin",
     "output_type": "stream",
     "text": [
      "Enter a number:  0\n"
     ]
    },
    {
     "name": "stdout",
     "output_type": "stream",
     "text": [
      "number is zero..\n"
     ]
    }
   ],
   "source": [
    "record = [] # an empty list\n",
    "\n",
    "for i in range(5):\n",
    "    number = input(\"Enter a number: \")\n",
    "    number = int(number)\n",
    "    \n",
    "    if number > 0:\n",
    "        print(\"number is positive\")\n",
    "        record.append(1)  # adding 1 to record list a\n",
    "        \n",
    "    elif number < 0:\n",
    "        print(\"number is negative\")\n",
    "        record.append(-1) # adding -1 to record list\n",
    "        \n",
    "    else:\n",
    "        print(\"number is zero..\")\n",
    "        record.append(0)  # adding 0 to record list"
   ]
  },
  {
   "cell_type": "code",
   "execution_count": 15,
   "id": "43f3fca1-6966-44de-ace1-c0c186fc2657",
   "metadata": {},
   "outputs": [
    {
     "data": {
      "text/plain": [
       "[1, -1, -1, 0, 0]"
      ]
     },
     "execution_count": 15,
     "metadata": {},
     "output_type": "execute_result"
    }
   ],
   "source": [
    "record"
   ]
  },
  {
   "cell_type": "code",
   "execution_count": 16,
   "id": "391e6d41-3076-4557-a8f0-4820c4b47aab",
   "metadata": {},
   "outputs": [
    {
     "name": "stdin",
     "output_type": "stream",
     "text": [
      "Number of entries:  3\n",
      "Enter a number:  1\n"
     ]
    },
    {
     "name": "stdout",
     "output_type": "stream",
     "text": [
      "number is positive\n"
     ]
    },
    {
     "name": "stdin",
     "output_type": "stream",
     "text": [
      "Enter a number:  2\n"
     ]
    },
    {
     "name": "stdout",
     "output_type": "stream",
     "text": [
      "number is positive\n"
     ]
    },
    {
     "name": "stdin",
     "output_type": "stream",
     "text": [
      "Enter a number:  0\n"
     ]
    },
    {
     "name": "stdout",
     "output_type": "stream",
     "text": [
      "number is zero..\n",
      "[1, 1, 0]\n"
     ]
    }
   ],
   "source": [
    "record = [] # an empty list\n",
    "\n",
    "n = input(\"Number of entries: \")\n",
    "n = int(n)\n",
    "\n",
    "for i in range(n):\n",
    "    number = input(\"Enter a number: \")\n",
    "    number = int(number)\n",
    "    \n",
    "    if number > 0:\n",
    "        print(\"number is positive\")\n",
    "        record.append(1)  # adding 1 to record list a\n",
    "        \n",
    "    elif number < 0:\n",
    "        print(\"number is negative\")\n",
    "        record.append(-1) # adding -1 to record list\n",
    "        \n",
    "    else:\n",
    "        print(\"number is zero..\")\n",
    "        record.append(0)  # adding 0 to record list\n",
    "\n",
    "# ---------- #\n",
    "print(record)"
   ]
  },
  {
   "cell_type": "markdown",
   "id": "ae965fe0-ba46-4f9b-ba51-3223e5a354d7",
   "metadata": {},
   "source": [
    "**testing that a number is prime**"
   ]
  },
  {
   "cell_type": "code",
   "execution_count": 1,
   "id": "2d8a4d61-756e-42f7-bbf8-81499e160a39",
   "metadata": {},
   "outputs": [
    {
     "name": "stdout",
     "output_type": "stream",
     "text": [
      "6 % 2\n",
      "number is not prime 2\n",
      "6 % 3\n",
      "number is not prime 3\n",
      "6 % 4\n",
      "6 % 5\n"
     ]
    }
   ],
   "source": [
    "n = 6\n",
    "\n",
    "for i in range(2,n):\n",
    "    print(f\"{n} % {i}\")\n",
    "    if n % i == 0:\n",
    "        print(\"number is not prime\", i)\n",
    "        break\n",
    "\n",
    "    "
   ]
  },
  {
   "cell_type": "markdown",
   "id": "d2ed9103-0197-41f1-a02a-2d0b2b951ae6",
   "metadata": {},
   "source": [
    "**completeing the testing process of prime number**"
   ]
  },
  {
   "cell_type": "code",
   "execution_count": 6,
   "id": "dafc0b21-9160-40ba-935b-f07f7752b3ec",
   "metadata": {},
   "outputs": [
    {
     "name": "stdin",
     "output_type": "stream",
     "text": [
      "Enter a number:  15\n"
     ]
    },
    {
     "name": "stdout",
     "output_type": "stream",
     "text": [
      "2\n",
      "3\n",
      "number is not a prime number\n"
     ]
    }
   ],
   "source": [
    "# first taking user input\n",
    "number = input(\"Enter a number: \")\n",
    "number = int(number) # converting number to integer\n",
    "\n",
    "# testing number is divisible by value in b/w [2,n-1]\n",
    "isPrime = True  # a flag variable to denote that our number is prime or not\n",
    "# initally we are assuming that our number is prime\n",
    "for i in range(2,number):\n",
    "    print(i)\n",
    "    if number % i == 0:\n",
    "        # if number is divisible by any number in b/w [2, number-1]\n",
    "        # in this case our number is not a prime number\n",
    "        isPrime = False\n",
    "        break\n",
    "\n",
    "if isPrime:\n",
    "    print(\"number is prime number\")\n",
    "else:\n",
    "    print(\"number is not a prime number\")"
   ]
  },
  {
   "cell_type": "code",
   "execution_count": 13,
   "id": "e9156fc0-7112-4669-814a-b7ffeea6995e",
   "metadata": {},
   "outputs": [
    {
     "name": "stdout",
     "output_type": "stream",
     "text": [
      "*---------------\n",
      "**---------------\n",
      "***---------------\n",
      "****---------------\n"
     ]
    }
   ],
   "source": [
    "for i in range(1,5):\n",
    "    for j in range(i):\n",
    "        print(\"*\", end=\"\")\n",
    "    print(\"---------------\") # creating a new line"
   ]
  },
  {
   "cell_type": "code",
   "execution_count": 16,
   "id": "8156ba14-3c0c-4960-bdd4-cf007c70c77c",
   "metadata": {},
   "outputs": [
    {
     "name": "stdout",
     "output_type": "stream",
     "text": [
      "1 2 3 4 5 6 7 8 9 10 -----\n",
      "2 4 6 8 10 12 14 16 18 20 -----\n",
      "3 6 9 12 15 18 21 24 27 30 -----\n",
      "4 8 12 16 20 24 28 32 36 40 -----\n"
     ]
    }
   ],
   "source": [
    "for i in range(1,5):\n",
    "    for j in range(1,11):\n",
    "        print(i*j, end=\" \")\n",
    "\n",
    "    print(\"-----\")"
   ]
  },
  {
   "cell_type": "markdown",
   "id": "db37b030-7710-4f1c-9fd4-a871dca501fd",
   "metadata": {},
   "source": [
    "### Nested for loop"
   ]
  },
  {
   "cell_type": "code",
   "execution_count": 8,
   "id": "e97e8c30-8fc7-49d2-ba48-a9405b9c987b",
   "metadata": {},
   "outputs": [
    {
     "name": "stdout",
     "output_type": "stream",
     "text": [
      "0 ---------\n",
      "\t 10 ---------\n",
      "\t 11 ---------\n",
      "\t 12 ---------\n",
      "\t 13 ---------\n",
      "\t 14 ---------\n",
      "\t 15 ---------\n",
      "\t 16 ---------\n",
      "\t 17 ---------\n",
      "\t 18 ---------\n",
      "\t 19 ---------\n",
      "1 ---------\n",
      "\t 10 ---------\n",
      "\t 11 ---------\n",
      "\t 12 ---------\n",
      "\t 13 ---------\n",
      "\t 14 ---------\n",
      "\t 15 ---------\n",
      "\t 16 ---------\n",
      "\t 17 ---------\n",
      "\t 18 ---------\n",
      "\t 19 ---------\n",
      "2 ---------\n",
      "\t 10 ---------\n",
      "\t 11 ---------\n",
      "\t 12 ---------\n",
      "\t 13 ---------\n",
      "\t 14 ---------\n",
      "\t 15 ---------\n",
      "\t 16 ---------\n",
      "\t 17 ---------\n",
      "\t 18 ---------\n",
      "\t 19 ---------\n"
     ]
    }
   ],
   "source": [
    "# outer loop\n",
    "for i in range(3):\n",
    "    print(i,\"---------\")\n",
    "    # inner loop\n",
    "    for j in range(10,20):\n",
    "        print(\"\\t\",j, \"---------\")"
   ]
  },
  {
   "cell_type": "markdown",
   "id": "e4d20999-3fda-433c-b8b1-4e5a20f3d9b8",
   "metadata": {},
   "source": [
    "## Counting Vowels"
   ]
  },
  {
   "cell_type": "code",
   "execution_count": 2,
   "id": "927a3987-27ca-4ad1-95c0-e5945ca36d0c",
   "metadata": {},
   "outputs": [],
   "source": [
    "mystr = \"A not-so-active lifestyle can be damaging in more ways than one. Lack of movement weakens muscles, slows metabolism, and increases the risk of diseases like heart problems and diabetes. Small steps like daily walks or stretching can go a long way toward being a healthy human.\"\n",
    "vowels = [\"a\",\"e\",\"i\",\"o\",\"u\"]"
   ]
  },
  {
   "cell_type": "markdown",
   "id": "0dc3b734-bf59-401d-83d1-bdc9ca0f8c05",
   "metadata": {},
   "source": [
    "1. counting total number of vowels\n",
    "2. couting individual vowel charaters. (using if-else statement)"
   ]
  },
  {
   "cell_type": "code",
   "execution_count": 3,
   "id": "c09ba95b-f312-4b58-bf15-f6e370281178",
   "metadata": {},
   "outputs": [
    {
     "name": "stdout",
     "output_type": "stream",
     "text": [
      "A not-so-active lifestyle can be damaging in more ways than one. Lack of movement weakens muscles, slows metabolism, and increases the risk of diseases like heart problems and diabetes. Small steps like daily walks or stretching can go a long way toward being a healthy human.\n"
     ]
    }
   ],
   "source": [
    "print(mystr)"
   ]
  },
  {
   "cell_type": "code",
   "execution_count": 5,
   "id": "7318a365-6049-47fb-b4ef-7dd64d0f5eb4",
   "metadata": {},
   "outputs": [
    {
     "name": "stdout",
     "output_type": "stream",
     "text": [
      "Total number of vowel count:  82\n"
     ]
    }
   ],
   "source": [
    "# we need a varaible to store the counting\n",
    "vcount = 0\n",
    "# now we need to reach each character from mystr.\n",
    "for char in mystr:\n",
    "    # print(char)\n",
    "    # here i need to check that current character is vowel or not.\n",
    "    if char in vowels:\n",
    "        vcount +=1\n",
    "\n",
    "print(\"Total number of vowel count: \", vcount)"
   ]
  },
  {
   "cell_type": "markdown",
   "id": "c9beeb27-a3c1-4825-89e6-ad11bfc00631",
   "metadata": {},
   "source": [
    "Note: In Above code we have small bug. since it may be possible to count few less number of vowel. since it does not handling capital character."
   ]
  },
  {
   "cell_type": "code",
   "execution_count": 10,
   "id": "ff9ef8d5-76c3-47c0-86f1-b05310eba63f",
   "metadata": {},
   "outputs": [
    {
     "name": "stdout",
     "output_type": "stream",
     "text": [
      "Total number of vowel count:  18\n"
     ]
    }
   ],
   "source": [
    "small_str = \"a not-so-active lifEstylE cAn be damaging in more ways than one.\"\n",
    "\n",
    "# we need a varaible to store the counting\n",
    "vcount = 0\n",
    "# now we need to reach each character from small_str.\n",
    "for char in small_str:\n",
    "    # print(char)\n",
    "    # here i need to check that current character is vowel or not.\n",
    "    if char in vowels:\n",
    "        vcount +=1\n",
    "\n",
    "print(\"Total number of vowel count: \", vcount)"
   ]
  },
  {
   "cell_type": "markdown",
   "id": "aaff9dcb-e62c-4b0b-a507-73365f6b18d2",
   "metadata": {},
   "source": [
    "In this case we change some vowel charater to Capital then see changes."
   ]
  },
  {
   "cell_type": "markdown",
   "id": "6c5cbe04-571a-4408-b425-614c4bccb238",
   "metadata": {},
   "source": [
    "Solution: use lower() method on char."
   ]
  },
  {
   "cell_type": "code",
   "execution_count": 13,
   "id": "621218d9-9656-4f41-88f5-dc85af30fceb",
   "metadata": {},
   "outputs": [
    {
     "name": "stdout",
     "output_type": "stream",
     "text": [
      "Total number of vowel count:  21\n"
     ]
    }
   ],
   "source": [
    "small_str = \"a not-so-active lifEstylE cAn be damaging in more ways than one.\"\n",
    "\n",
    "# we need a varaible to store the counting\n",
    "vcount = 0\n",
    "# now we need to reach each character from small_str.\n",
    "for char in small_str:\n",
    "    # print(char)\n",
    "    # here i need to check that current character is vowel or not.\n",
    "    if char.lower() in vowels:\n",
    "        vcount +=1\n",
    "\n",
    "print(\"Total number of vowel count: \", vcount)"
   ]
  },
  {
   "cell_type": "markdown",
   "id": "c5fc3b2d-cb94-4118-a142-f5baa6341119",
   "metadata": {},
   "source": [
    "**Counting individual vowel**"
   ]
  },
  {
   "cell_type": "code",
   "execution_count": 17,
   "id": "a8ab63f9-4f94-4abd-ac2e-bd0cf81becb9",
   "metadata": {},
   "outputs": [],
   "source": [
    "# small_str = \"a not-so-active lifEstylE cAn be damaging in more ways than one.\"\n",
    "\n",
    "# vowel list\n",
    "vowels = [\"a\",\"e\",\"i\",\"o\",\"u\"]\n",
    "vcounts = [0,0,0,0,0]\n",
    "\n",
    "# wee need to read each character from small_str:\n",
    "for char in small_str:\n",
    "\n",
    "    if char == \"a\":\n",
    "        vcounts[0] += 1\n",
    "    elif char == \"e\":\n",
    "        vcounts[1] += 1\n",
    "    elif char == \"i\":\n",
    "        vcounts[2] += 1\n",
    "    elif char == \"o\":\n",
    "        vcounts[3] += 1\n",
    "    elif char == \"u\":\n",
    "        vcounts[4] += 1\n",
    "    \n",
    "        "
   ]
  },
  {
   "cell_type": "code",
   "execution_count": 18,
   "id": "6c4d0dfa-2e98-4142-817d-71b72ebcf919",
   "metadata": {},
   "outputs": [
    {
     "data": {
      "text/plain": [
       "[6, 4, 4, 4, 0]"
      ]
     },
     "execution_count": 18,
     "metadata": {},
     "output_type": "execute_result"
    }
   ],
   "source": [
    "vcounts"
   ]
  },
  {
   "cell_type": "code",
   "execution_count": 19,
   "id": "692d6eb3-5966-4dce-a8e3-c33f42f5de4f",
   "metadata": {},
   "outputs": [
    {
     "name": "stdout",
     "output_type": "stream",
     "text": [
      "vowel a counts: 6\n",
      "vowel e counts: 4\n",
      "vowel i counts: 4\n",
      "vowel o counts: 4\n",
      "vowel u counts: 0\n"
     ]
    }
   ],
   "source": [
    "for i in range(5):\n",
    "    char = vowels[i]  # getting vowel character\n",
    "    count = vcounts[i]\n",
    "    print(f\"vowel {char} counts: {count}\")"
   ]
  },
  {
   "cell_type": "code",
   "execution_count": 21,
   "id": "6bcff5b0-555b-41c6-b6d8-1f19c87660d6",
   "metadata": {},
   "outputs": [
    {
     "data": {
      "text/plain": [
       "'My name is Ruchika'"
      ]
     },
     "execution_count": 21,
     "metadata": {},
     "output_type": "execute_result"
    }
   ],
   "source": [
    "\"My name is Ruchika\""
   ]
  },
  {
   "cell_type": "code",
   "execution_count": 23,
   "id": "9237d9a0-6822-42d7-ba06-f72fe48e9a8c",
   "metadata": {},
   "outputs": [
    {
     "data": {
      "text/plain": [
       "'My Name is Kavita'"
      ]
     },
     "execution_count": 23,
     "metadata": {},
     "output_type": "execute_result"
    }
   ],
   "source": [
    "name = \"Kavita\"\n",
    "f\"My Name is {name}\""
   ]
  },
  {
   "cell_type": "code",
   "execution_count": null,
   "id": "be09a738-f44a-48c4-934c-4e1d7ae6ee6f",
   "metadata": {},
   "outputs": [],
   "source": []
  }
 ],
 "metadata": {
  "kernelspec": {
   "display_name": "Python 3 (ipykernel)",
   "language": "python",
   "name": "python3"
  },
  "language_info": {
   "codemirror_mode": {
    "name": "ipython",
    "version": 3
   },
   "file_extension": ".py",
   "mimetype": "text/x-python",
   "name": "python",
   "nbconvert_exporter": "python",
   "pygments_lexer": "ipython3",
   "version": "3.10.5"
  }
 },
 "nbformat": 4,
 "nbformat_minor": 5
}
