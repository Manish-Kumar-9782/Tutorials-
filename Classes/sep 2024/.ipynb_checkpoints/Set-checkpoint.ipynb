{
 "cells": [
  {
   "cell_type": "markdown",
   "id": "521f6c22-6122-4458-822f-00232a5b3a27",
   "metadata": {},
   "source": [
    "# Set"
   ]
  },
  {
   "cell_type": "code",
   "execution_count": 1,
   "id": "7c400ecb-b4e3-4077-98bc-de46b6f815b7",
   "metadata": {},
   "outputs": [],
   "source": [
    "xtuple = (29, 28, 23, 28, 20, 18, 26, 23, 20, 28, 26, 19, 21, 29, 23, 19, 19, 20, 28, \n",
    "          27, 23, 28, 18, 28, 21, 21, 18, 28, 20, 18, 23, 23, 18, 30, 20, 30, 27, 30, \n",
    "          23, 29, 23, 21, 20, 22, 18, 24, 18, 20, 21, 25, 20, 21, 27, 20, 27, 24, 19, \n",
    "          19, 24, 27, 23, 21, 23, 21, 25, 27, 25, 23, 27, 21, 25, 20, 24, 24, 28, 20, \n",
    "          18, 29, 27, 20, 18, 22, 25, 19, 26, 20, 28, 27, 27, 20, 23, 30, 23, 18, 25, \n",
    "          18, 18, 18, 18, 28)"
   ]
  },
  {
   "cell_type": "code",
   "execution_count": 4,
   "id": "7994f171-29a2-46d1-89b6-1c1146784d09",
   "metadata": {},
   "outputs": [],
   "source": [
    "set1 = {1,2,3,4,5,5,3,4}"
   ]
  },
  {
   "cell_type": "code",
   "execution_count": 5,
   "id": "ec44c5e4-d386-4a95-8439-19e41446845c",
   "metadata": {},
   "outputs": [
    {
     "data": {
      "text/plain": [
       "{1, 2, 3, 4, 5}"
      ]
     },
     "execution_count": 5,
     "metadata": {},
     "output_type": "execute_result"
    }
   ],
   "source": [
    "set1"
   ]
  },
  {
   "cell_type": "code",
   "execution_count": 6,
   "id": "3a7b3d9b-1c70-40f1-a1d3-1d0e5cb3ee7f",
   "metadata": {},
   "outputs": [],
   "source": [
    "xset = set(xtuple)"
   ]
  },
  {
   "cell_type": "code",
   "execution_count": 7,
   "id": "0e9a3147-56dc-4ab5-b649-afba9e1ccf87",
   "metadata": {},
   "outputs": [
    {
     "data": {
      "text/plain": [
       "{18, 19, 20, 21, 22, 23, 24, 25, 26, 27, 28, 29, 30}"
      ]
     },
     "execution_count": 7,
     "metadata": {},
     "output_type": "execute_result"
    }
   ],
   "source": [
    "xset"
   ]
  },
  {
   "cell_type": "markdown",
   "id": "86b1b0d4-369f-4243-ba00-90519a74ee24",
   "metadata": {},
   "source": [
    "**two different set**"
   ]
  },
  {
   "cell_type": "code",
   "execution_count": 8,
   "id": "75b8720d-2ca4-4df1-8359-bde87ba857ec",
   "metadata": {},
   "outputs": [],
   "source": [
    "set1 = {\"Rose\", \"Tulip\", \"Daisy\", \"Lily\"}\n",
    "set2 = {\"Tulip\", \"Sunflower\", \"Orchid\", \"Rose\"}\n",
    "set3 = {\"Lily\", \"Daffodil\", \"Carnation\", \"Peony\"}\n",
    "set4 = {\"Sunflower\", \"Daisy\", \"Hyacinth\", \"Tulip\"}"
   ]
  },
  {
   "cell_type": "markdown",
   "id": "a0ba85b0-a11a-47b6-92de-67c1fcad8e5e",
   "metadata": {},
   "source": [
    "**Union of sets**"
   ]
  },
  {
   "cell_type": "code",
   "execution_count": 9,
   "id": "572d9be2-142e-45f7-b178-9699af5937b6",
   "metadata": {},
   "outputs": [
    {
     "data": {
      "text/plain": [
       "{'Daisy', 'Hyacinth', 'Lily', 'Rose', 'Sunflower', 'Tulip'}"
      ]
     },
     "execution_count": 9,
     "metadata": {},
     "output_type": "execute_result"
    }
   ],
   "source": [
    "set1.union(set4)"
   ]
  },
  {
   "cell_type": "markdown",
   "id": "a34ac514-067d-44eb-9945-2fc16a4315ff",
   "metadata": {},
   "source": [
    "**difference**"
   ]
  },
  {
   "cell_type": "code",
   "execution_count": 11,
   "id": "7825f582-2d23-4f93-9900-ee135048fe74",
   "metadata": {},
   "outputs": [
    {
     "data": {
      "text/plain": [
       "{'Lily', 'Rose'}"
      ]
     },
     "execution_count": 11,
     "metadata": {},
     "output_type": "execute_result"
    }
   ],
   "source": [
    "# checking that which flower is not present in set1 and present in set4\n",
    "set1.difference(set4)"
   ]
  },
  {
   "cell_type": "code",
   "execution_count": 12,
   "id": "5f6695f4-1b47-4b5c-b191-12bde5f9d608",
   "metadata": {},
   "outputs": [
    {
     "data": {
      "text/plain": [
       "{'Hyacinth', 'Sunflower'}"
      ]
     },
     "execution_count": 12,
     "metadata": {},
     "output_type": "execute_result"
    }
   ],
   "source": [
    "set4.difference(set1)"
   ]
  },
  {
   "cell_type": "markdown",
   "id": "ddd9c393-4b17-4afb-a474-800fd7dd4741",
   "metadata": {},
   "source": [
    "**intersection**"
   ]
  },
  {
   "cell_type": "code",
   "execution_count": 13,
   "id": "bf1abaf7-4239-473d-a388-ad94642ed438",
   "metadata": {},
   "outputs": [
    {
     "data": {
      "text/plain": [
       "{'Daisy', 'Tulip'}"
      ]
     },
     "execution_count": 13,
     "metadata": {},
     "output_type": "execute_result"
    }
   ],
   "source": [
    "set1.intersection(set4)"
   ]
  },
  {
   "cell_type": "markdown",
   "id": "3e140cb0-d5d2-4d50-a8ad-bd9a104b7a4e",
   "metadata": {},
   "source": [
    "**add method**"
   ]
  },
  {
   "cell_type": "code",
   "execution_count": 17,
   "id": "5efa8eab-1352-47f3-8333-add5878f012e",
   "metadata": {},
   "outputs": [
    {
     "data": {
      "text/plain": [
       "{18, 19, 20, 21, 22, 23, 24, 25, 26, 27, 28, 29, 30}"
      ]
     },
     "execution_count": 17,
     "metadata": {},
     "output_type": "execute_result"
    }
   ],
   "source": [
    "xset"
   ]
  },
  {
   "cell_type": "code",
   "execution_count": 18,
   "id": "a78ad33c-d8b5-466e-b6e6-78ad9ea358f7",
   "metadata": {},
   "outputs": [],
   "source": [
    "xset.add(10)"
   ]
  },
  {
   "cell_type": "code",
   "execution_count": 19,
   "id": "466f660e-b5d8-45b2-a3c9-f2cab4cceb3a",
   "metadata": {},
   "outputs": [
    {
     "data": {
      "text/plain": [
       "{10, 18, 19, 20, 21, 22, 23, 24, 25, 26, 27, 28, 29, 30}"
      ]
     },
     "execution_count": 19,
     "metadata": {},
     "output_type": "execute_result"
    }
   ],
   "source": [
    "xset"
   ]
  },
  {
   "cell_type": "code",
   "execution_count": 23,
   "id": "6e5ad4c4-671a-4cd7-b1e1-68535c02cdad",
   "metadata": {},
   "outputs": [
    {
     "ename": "TypeError",
     "evalue": "set.add() takes exactly one argument (2 given)",
     "output_type": "error",
     "traceback": [
      "\u001b[1;31m---------------------------------------------------------------------------\u001b[0m",
      "\u001b[1;31mTypeError\u001b[0m                                 Traceback (most recent call last)",
      "Cell \u001b[1;32mIn [23], line 1\u001b[0m\n\u001b[1;32m----> 1\u001b[0m \u001b[43mxset\u001b[49m\u001b[38;5;241;43m.\u001b[39;49m\u001b[43madd\u001b[49m\u001b[43m(\u001b[49m\u001b[38;5;241;43m20\u001b[39;49m\u001b[43m,\u001b[49m\u001b[38;5;241;43m30\u001b[39;49m\u001b[43m)\u001b[49m\n",
      "\u001b[1;31mTypeError\u001b[0m: set.add() takes exactly one argument (2 given)"
     ]
    }
   ],
   "source": [
    "xset.add(20,30)"
   ]
  },
  {
   "cell_type": "code",
   "execution_count": 22,
   "id": "f303491b-5028-4f53-8ba3-1b7ed0bcd1f9",
   "metadata": {},
   "outputs": [
    {
     "data": {
      "text/plain": [
       "{10, 18, 19, 20, 21, 22, 23, 24, 25, 26, 27, 28, 29, 30}"
      ]
     },
     "execution_count": 22,
     "metadata": {},
     "output_type": "execute_result"
    }
   ],
   "source": [
    "xset"
   ]
  },
  {
   "cell_type": "code",
   "execution_count": 24,
   "id": "05e02f01-d9f1-4c7f-824b-eead2451a34c",
   "metadata": {},
   "outputs": [],
   "source": [
    "set1 = {\"Rose\", \"Tulip\", \"Daisy\", \"Lily\"}\n",
    "set2 = {\"Tulip\", \"Sunflower\", \"Orchid\", \"Rose\"}\n",
    "set3 = {\"Lily\", \"Daffodil\", \"Carnation\", \"Peony\"}\n",
    "set4 = {\"Sunflower\", \"Daisy\", \"Hyacinth\", \"Tulip\"}"
   ]
  },
  {
   "cell_type": "markdown",
   "id": "d2b018f0-fcab-47cb-b711-14bcbf252e2b",
   "metadata": {},
   "source": [
    "**isdisjoint**"
   ]
  },
  {
   "cell_type": "code",
   "execution_count": 25,
   "id": "502bd65e-6b99-410f-8461-0077abc38ac6",
   "metadata": {},
   "outputs": [
    {
     "data": {
      "text/plain": [
       "False"
      ]
     },
     "execution_count": 25,
     "metadata": {},
     "output_type": "execute_result"
    }
   ],
   "source": [
    "set1.isdisjoint(set2)"
   ]
  },
  {
   "cell_type": "code",
   "execution_count": 27,
   "id": "b98a7334-4fd5-4939-a539-6989638dcb04",
   "metadata": {},
   "outputs": [
    {
     "data": {
      "text/plain": [
       "True"
      ]
     },
     "execution_count": 27,
     "metadata": {},
     "output_type": "execute_result"
    }
   ],
   "source": [
    "set2.isdisjoint(set3)"
   ]
  },
  {
   "cell_type": "code",
   "execution_count": 28,
   "id": "45201385-d764-436d-9461-372cd88a2254",
   "metadata": {},
   "outputs": [],
   "source": [
    "set5 = set1.intersection(set4)"
   ]
  },
  {
   "cell_type": "code",
   "execution_count": 29,
   "id": "df4d9f57-daf1-4352-9c08-522c52db661d",
   "metadata": {},
   "outputs": [
    {
     "data": {
      "text/plain": [
       "{'Daisy', 'Tulip'}"
      ]
     },
     "execution_count": 29,
     "metadata": {},
     "output_type": "execute_result"
    }
   ],
   "source": [
    "set5"
   ]
  },
  {
   "cell_type": "code",
   "execution_count": 30,
   "id": "a3bda50e-a7aa-4c42-a38e-23a2af7de2dd",
   "metadata": {},
   "outputs": [
    {
     "data": {
      "text/plain": [
       "True"
      ]
     },
     "execution_count": 30,
     "metadata": {},
     "output_type": "execute_result"
    }
   ],
   "source": [
    "set5.issubset(set1)"
   ]
  },
  {
   "cell_type": "code",
   "execution_count": 31,
   "id": "8706688e-bacb-4d10-a2c7-0275e6740727",
   "metadata": {},
   "outputs": [
    {
     "data": {
      "text/plain": [
       "True"
      ]
     },
     "execution_count": 31,
     "metadata": {},
     "output_type": "execute_result"
    }
   ],
   "source": [
    "set5.issubset(set4)"
   ]
  },
  {
   "cell_type": "markdown",
   "id": "3e812b5a-12c7-420f-bd69-99b2acd9a610",
   "metadata": {},
   "source": [
    "**issuperset**"
   ]
  },
  {
   "cell_type": "code",
   "execution_count": 32,
   "id": "2df4d07d-74da-456b-99b4-6de5e2caa0c9",
   "metadata": {},
   "outputs": [
    {
     "data": {
      "text/plain": [
       "True"
      ]
     },
     "execution_count": 32,
     "metadata": {},
     "output_type": "execute_result"
    }
   ],
   "source": [
    "set1.issuperset(set5)"
   ]
  },
  {
   "cell_type": "code",
   "execution_count": null,
   "id": "8b8ae8f4-b34d-4a30-975d-a0aa544cee93",
   "metadata": {},
   "outputs": [],
   "source": []
  },
  {
   "cell_type": "code",
   "execution_count": null,
   "id": "93849fe8-50b0-4361-a988-15796798cd53",
   "metadata": {},
   "outputs": [],
   "source": []
  }
 ],
 "metadata": {
  "kernelspec": {
   "display_name": "Python 3 (ipykernel)",
   "language": "python",
   "name": "python3"
  },
  "language_info": {
   "codemirror_mode": {
    "name": "ipython",
    "version": 3
   },
   "file_extension": ".py",
   "mimetype": "text/x-python",
   "name": "python",
   "nbconvert_exporter": "python",
   "pygments_lexer": "ipython3",
   "version": "3.10.5"
  }
 },
 "nbformat": 4,
 "nbformat_minor": 5
}
