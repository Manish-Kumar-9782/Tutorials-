{
 "cells": [
  {
   "cell_type": "markdown",
   "id": "313af779-1c10-4496-8c12-891acda8fadf",
   "metadata": {},
   "source": [
    "## Problem: Counting Vowels from a text string"
   ]
  },
  {
   "cell_type": "code",
   "execution_count": 1,
   "id": "3a2026be-2e2a-453d-9bcd-ba693055cfa1",
   "metadata": {},
   "outputs": [],
   "source": [
    "myText = \"By understanding and acknowledging the signs, individuals can take \\\n",
    "proactive steps to improve their diets and overall health. Dr Rahul Sharma, Senior\\\n",
    "Consultant at BMG Global Hospital, Bhubaneswar, says that there are ways your body \\\n",
    "communicates nutritional deficiencies, highlighting the importance of balanced nutrition\\\n",
    "and the need for a well-rounded diet. Addressing these deficiencies not only enhances \\\n",
    "physical health but also promotes mental and emotional well-being, he says.\""
   ]
  },
  {
   "cell_type": "code",
   "execution_count": 2,
   "id": "68ce6f0c-585a-4600-8e6c-186619744b28",
   "metadata": {},
   "outputs": [
    {
     "name": "stdout",
     "output_type": "stream",
     "text": [
      "By understanding and acknowledging the signs, individuals can take proactive steps to improve their diets and overall health. Dr Rahul Sharma, SeniorConsultant at BMG Global Hospital, Bhubaneswar, says that there are ways your body communicates nutritional deficiencies, highlighting the importance of balanced nutritionand the need for a well-rounded diet. Addressing these deficiencies not only enhances physical health but also promotes mental and emotional well-being, he says.\n"
     ]
    }
   ],
   "source": [
    "print(myText)"
   ]
  },
  {
   "cell_type": "markdown",
   "id": "fe9769fa-d5cf-43b2-bcf3-8afa54abf88e",
   "metadata": {},
   "source": [
    "Note: counting process.\n",
    "\n",
    "0. create a counting varaible.\n",
    "1. first take a single (one by one) character form string.\n",
    "2. test that this character is vowels.\n",
    "3. if character is vowel then increase the counting by one.\n",
    "4. repeate this process until all character are checked."
   ]
  },
  {
   "cell_type": "code",
   "execution_count": 3,
   "id": "a04f9a28-b4f2-46f7-8e82-3da9fd681936",
   "metadata": {},
   "outputs": [],
   "source": [
    "count = 0"
   ]
  },
  {
   "cell_type": "code",
   "execution_count": 4,
   "id": "b8e368f0-c48a-4ffe-8f02-1f7ebc851fbc",
   "metadata": {},
   "outputs": [],
   "source": [
    "char = \"x\""
   ]
  },
  {
   "cell_type": "code",
   "execution_count": 5,
   "id": "9f4ffbc6-4009-4013-b559-c7208643f5f9",
   "metadata": {},
   "outputs": [],
   "source": [
    "vowels = [\"a\",\"e\",\"i\",\"o\",\"u\"]"
   ]
  },
  {
   "cell_type": "code",
   "execution_count": 7,
   "id": "f0675b10-979b-44ec-873b-b56723edeb8b",
   "metadata": {},
   "outputs": [
    {
     "data": {
      "text/plain": [
       "False"
      ]
     },
     "execution_count": 7,
     "metadata": {},
     "output_type": "execute_result"
    }
   ],
   "source": [
    "# testing that our char is present inside the list.\n",
    "char in vowels"
   ]
  },
  {
   "cell_type": "code",
   "execution_count": 8,
   "id": "94334b37-dea1-472f-b5ff-e28394046c9f",
   "metadata": {},
   "outputs": [
    {
     "data": {
      "text/plain": [
       "True"
      ]
     },
     "execution_count": 8,
     "metadata": {},
     "output_type": "execute_result"
    }
   ],
   "source": [
    "char = \"a\"\n",
    "char in vowels # expression for testing that char is a vowel."
   ]
  },
  {
   "cell_type": "code",
   "execution_count": 11,
   "id": "7e9aecf3-12fa-4b1d-a517-dca921f041ba",
   "metadata": {},
   "outputs": [
    {
     "name": "stdout",
     "output_type": "stream",
     "text": [
      "H---e---l---l---o--- ---w---o---r---l---d---.---.---.---!---"
     ]
    }
   ],
   "source": [
    "# applying for loop on string.\n",
    "myStr = 'Hello world...!'\n",
    "for char in myStr:\n",
    "    print(char, end=\"---\")"
   ]
  },
  {
   "cell_type": "markdown",
   "id": "ed7154ad-c72a-4ba3-a6bf-716bd91bbd25",
   "metadata": {},
   "source": [
    "Note: Now we can read each character by using for loop on string variable."
   ]
  },
  {
   "cell_type": "code",
   "execution_count": 12,
   "id": "5bcd9c2c-cca2-48ba-af19-c784a1988c56",
   "metadata": {},
   "outputs": [],
   "source": [
    "# Now counting vowels in myStr\n",
    "count = 0\n",
    "for char in myStr:\n",
    "    if char in vowels:\n",
    "        count += 1\n"
   ]
  },
  {
   "cell_type": "code",
   "execution_count": 13,
   "id": "016ea7fa-47a1-42b3-a4f2-e7af32cda126",
   "metadata": {},
   "outputs": [
    {
     "data": {
      "text/plain": [
       "3"
      ]
     },
     "execution_count": 13,
     "metadata": {},
     "output_type": "execute_result"
    }
   ],
   "source": [
    "count"
   ]
  },
  {
   "cell_type": "code",
   "execution_count": 17,
   "id": "d6922056-e7f7-4b96-a614-552f9e44b51c",
   "metadata": {},
   "outputs": [],
   "source": [
    "def countVowels(strVar):\n",
    "\n",
    "    vowels =  [\"a\",\"e\",\"i\",\"o\",\"u\"]\n",
    "    # first create a count variable\n",
    "    count = 0\n",
    "    # now read each character from strVar\n",
    "    for char in strVar:\n",
    "        # test that char is present in our vowels\n",
    "        if char in vowels:\n",
    "            count += 1\n",
    "\n",
    "    # This program does not count capital character of vowels\n",
    "    # exclude : A, E, I, O, U\n",
    "    return count"
   ]
  },
  {
   "cell_type": "code",
   "execution_count": 18,
   "id": "f140a87a-04e3-4d56-991a-792f071b5535",
   "metadata": {},
   "outputs": [
    {
     "data": {
      "text/plain": [
       "3"
      ]
     },
     "execution_count": 18,
     "metadata": {},
     "output_type": "execute_result"
    }
   ],
   "source": [
    "countVowels(myStr)"
   ]
  },
  {
   "cell_type": "code",
   "execution_count": 19,
   "id": "4d362a6e-47a6-4131-8a67-a36d00856288",
   "metadata": {},
   "outputs": [
    {
     "data": {
      "text/plain": [
       "150"
      ]
     },
     "execution_count": 19,
     "metadata": {},
     "output_type": "execute_result"
    }
   ],
   "source": [
    "countVowels(myText)"
   ]
  },
  {
   "cell_type": "markdown",
   "id": "fe2b6652-0f00-42b5-b90b-4234b44eb9d7",
   "metadata": {},
   "source": [
    "**Palindrome Test**"
   ]
  },
  {
   "cell_type": "code",
   "execution_count": null,
   "id": "5cf9c389-fe5c-459d-a248-85e8fe38a3f9",
   "metadata": {},
   "outputs": [],
   "source": [
    "palindrome_words = [\n",
    "    \"level\",\n",
    "    \"deified\",\n",
    "    \"rotor\",\n",
    "    \"civic\",\n",
    "    \"madam\",\n",
    "    \"refer\",\n",
    "    \"noon\",\n",
    "    \"radar\",\n",
    "    \"tenet\",\n",
    "    \"racecar\",\n",
    "    \"redder\",\n",
    "    \"kayak\",\n",
    "    \"repaper\",\n",
    "    \"stats\",\n",
    "    \"rotator\",\n",
    "    \"reviver\",\n",
    "    \"malayalam\",\n",
    "    \"peep\",\n",
    "    \"pop\",\n",
    "    \"taco cat\"\n",
    "]"
   ]
  },
  {
   "cell_type": "code",
   "execution_count": 5,
   "id": "fbbd480d-634a-4c33-adb0-dfb8c69d9918",
   "metadata": {},
   "outputs": [
    {
     "name": "stdout",
     "output_type": "stream",
     "text": [
      "lb :  0\n",
      "ub :  4\n",
      "word is palindrome:  False\n"
     ]
    }
   ],
   "source": [
    "word = \"Hello\"\n",
    "isPalindrome = True\n",
    "lb  = 0\n",
    "ub = len(word)-1\n",
    "\n",
    "while True:\n",
    "    print(\"lb : \", lb)\n",
    "    print(\"ub : \", ub)\n",
    "    \n",
    "    # if lb's index number become greater than ub's index\n",
    "    # then we need to stop the loop\n",
    "    if lb > ub:\n",
    "        break\n",
    "\n",
    "    # if char at lb's index and  char at ub's index number is not equal \n",
    "    # it means the word is not palindrome.\n",
    "    if word[lb] != word[ub]:\n",
    "        isPalindrome = False\n",
    "        break\n",
    "\n",
    "    # after test once cycle we need to update lb and ub\n",
    "    lb += 1 # shifting lb to right\n",
    "    ub -= 1 # shifting ub to left\n",
    "\n",
    "    print(\"------------------\")\n",
    "\n",
    "print(\"word is palindrome: \", isPalindrome)"
   ]
  },
  {
   "cell_type": "markdown",
   "id": "a9e9ba7c-c0ba-4592-9138-978e11ba80f8",
   "metadata": {},
   "source": [
    "**Alternative approach to stop while loop**"
   ]
  },
  {
   "cell_type": "code",
   "execution_count": 7,
   "id": "f7e80d87-d27a-459d-b359-705d1cf19789",
   "metadata": {},
   "outputs": [
    {
     "name": "stdout",
     "output_type": "stream",
     "text": [
      "lb :  0\n",
      "ub :  4\n",
      "------------------\n",
      "lb :  1\n",
      "ub :  3\n",
      "------------------\n",
      "word is palindrome:  True\n"
     ]
    }
   ],
   "source": [
    "word = \"level\"\n",
    "isPalindrome = True\n",
    "lb  = 0\n",
    "ub = len(word)-1\n",
    "\n",
    "# if lb's index number become greater than ub's index\n",
    "# then we need to stop the loop\n",
    "while lb<ub:\n",
    "    print(\"lb : \", lb)\n",
    "    print(\"ub : \", ub)\n",
    "    \n",
    "    # if char at lb's index and  char at ub's index number is not equal \n",
    "    # it means the word is not palindrome.\n",
    "    if word[lb] != word[ub]:\n",
    "        isPalindrome = False\n",
    "        break\n",
    "\n",
    "    # after test once cycle we need to update lb and ub\n",
    "    lb += 1 # shifting lb to right\n",
    "    ub -= 1 # shifting ub to left\n",
    "\n",
    "    print(\"------------------\")\n",
    "\n",
    "print(\"word is palindrome: \", isPalindrome)"
   ]
  },
  {
   "cell_type": "code",
   "execution_count": 55,
   "id": "f08d5efe-f0cb-4519-8340-f08c6279875a",
   "metadata": {},
   "outputs": [],
   "source": [
    "para = \"On a sunny Sunday, the level lake beckoned. Ducks waddled, and geese honked \\\n",
    "in harmony. A kayak glided silently, its red hull reflecting the noonday sun. Nearby, a \\\n",
    "'radar'@ dish spun lazily, scanning the horizon for any anomalies. The picnic spread was a \\\n",
    "feast of palindromes: racecar-shaped sandwiches, taco cat wraps, and desserts like repapered\\\n",
    "eclairs. Even the lemonade—sipped by the reverent crowd—was a palindrome: 'madam', in Eden, \\\n",
    "I’m Adam.”\""
   ]
  },
  {
   "cell_type": "code",
   "execution_count": 65,
   "id": "011d049f-835e-4121-9c02-f3d5de1dfd0e",
   "metadata": {},
   "outputs": [
    {
     "name": "stdout",
     "output_type": "stream",
     "text": [
      "['On', 'a', 'sunny', 'Sunday,', 'the', 'level', 'lake', 'beckoned.', 'Ducks', 'waddled,', 'and', 'geese', 'honked', 'in', 'harmony.', 'A', 'kayak', 'glided', 'silently,', 'its', 'red', 'hull', 'reflecting', 'the', 'noonday', 'sun.', 'Nearby,', 'a', \"'radar'@\", 'dish', 'spun', 'lazily,', 'scanning', 'the', 'horizon', 'for', 'any', 'anomalies.', 'The', 'picnic', 'spread', 'was', 'a', 'feast', 'of', 'palindromes:', 'racecar-shaped', 'sandwiches,', 'taco', 'cat', 'wraps,', 'and', 'desserts', 'like', 'repaperedeclairs.', 'Even', 'the', 'lemonade—sipped', 'by', 'the', 'reverent', 'crowd—was', 'a', 'palindrome:', \"'madam',\", 'in', 'Eden,', 'I’m', 'Adam.”']\n"
     ]
    }
   ],
   "source": [
    "print(para.split())"
   ]
  },
  {
   "cell_type": "code",
   "execution_count": 56,
   "id": "02375962-54ec-4013-916f-0987f69f463a",
   "metadata": {},
   "outputs": [],
   "source": [
    "para2 = \"As the day unfolded, the crowd reveled in the symmetry. Children played tag,\\\n",
    "shouting, “deified!” Older folks reminisced about their youth, recalling the time they\\\n",
    "danced the tango with a civic-minded llama. The air hummed with the rhythm of palindrome\\\n",
    "chants: “rotor, rotor, tenet!” And when the sun dipped low, casting long shadows, everyone \\\n",
    "gathered around the campfire to tell stories. Each tale had a twist—a mirror image \\\n",
    "hidden within. The storytellers leaned in, their eyes bright with anticipation.\""
   ]
  },
  {
   "cell_type": "markdown",
   "id": "e9f600fb-665d-4c2e-87cb-16f6ee119d7c",
   "metadata": {},
   "source": [
    "**Find palindrome words**"
   ]
  },
  {
   "cell_type": "code",
   "execution_count": 57,
   "id": "deaca0cb-7daf-4ee1-9320-57d8b794fab9",
   "metadata": {},
   "outputs": [
    {
     "name": "stdout",
     "output_type": "stream",
     "text": [
      "level\n",
      "kayak\n"
     ]
    }
   ],
   "source": [
    "for word in para.split():\n",
    "\n",
    "    # if we only have one character \n",
    "    if len(word) <2:\n",
    "        continue\n",
    "    \n",
    "    lb = 0\n",
    "    ub = len(word) - 1\n",
    "    isPalindrome = True\n",
    "    while lb < ub:\n",
    "\n",
    "        if word[lb] != word[ub]:\n",
    "            isPalindrome = False\n",
    "            break\n",
    "\n",
    "        lb +=1\n",
    "        ub -=1\n",
    "\n",
    "    if isPalindrome:\n",
    "        print(word)\n",
    "    "
   ]
  },
  {
   "cell_type": "markdown",
   "id": "31aa87a0-a4cc-456f-9674-a548c63e090e",
   "metadata": {},
   "source": [
    "**input: comman-separated numbers**"
   ]
  },
  {
   "cell_type": "code",
   "execution_count": 38,
   "id": "fd4b1b9b-6776-4f54-a594-1625508fe8ca",
   "metadata": {},
   "outputs": [
    {
     "name": "stdin",
     "output_type": "stream",
     "text": [
      "Enter Number:  1\n"
     ]
    }
   ],
   "source": [
    "numbers = input(\"Enter Number: \")"
   ]
  },
  {
   "cell_type": "code",
   "execution_count": 39,
   "id": "fb6cb9cc-864f-453f-9e74-f3b5217b6a06",
   "metadata": {},
   "outputs": [
    {
     "data": {
      "text/plain": [
       "'1'"
      ]
     },
     "execution_count": 39,
     "metadata": {},
     "output_type": "execute_result"
    }
   ],
   "source": [
    "numbers"
   ]
  },
  {
   "cell_type": "code",
   "execution_count": 40,
   "id": "d1ffa4e1-181f-4adf-940d-677ed4dab8da",
   "metadata": {},
   "outputs": [],
   "source": [
    "result = numbers.split(\",\")"
   ]
  },
  {
   "cell_type": "code",
   "execution_count": 41,
   "id": "e6b335be-d860-4f38-bb3a-d3bca0f2874f",
   "metadata": {},
   "outputs": [
    {
     "data": {
      "text/plain": [
       "['1']"
      ]
     },
     "execution_count": 41,
     "metadata": {},
     "output_type": "execute_result"
    }
   ],
   "source": [
    "result"
   ]
  },
  {
   "cell_type": "code",
   "execution_count": 42,
   "id": "e81014a7-0fe6-41e1-8e88-2c54f0bb09af",
   "metadata": {},
   "outputs": [
    {
     "name": "stdout",
     "output_type": "stream",
     "text": [
      "[1]\n"
     ]
    }
   ],
   "source": [
    "n_integers = []\n",
    "for x in result:\n",
    "    x = int(x)\n",
    "    n_integers.append(x)\n",
    "\n",
    "print(n_integers)"
   ]
  },
  {
   "cell_type": "markdown",
   "id": "6a03944f-d9cf-4cd5-b79f-98aa1b840472",
   "metadata": {},
   "source": [
    "**Removing non alphabate characters**"
   ]
  },
  {
   "cell_type": "code",
   "execution_count": 43,
   "id": "14d08818-88c0-47f8-a836-b9f8a54854cd",
   "metadata": {},
   "outputs": [
    {
     "data": {
      "text/plain": [
       "98"
      ]
     },
     "execution_count": 43,
     "metadata": {},
     "output_type": "execute_result"
    }
   ],
   "source": [
    "ord(\"b\")"
   ]
  },
  {
   "cell_type": "code",
   "execution_count": 44,
   "id": "bdcb9f9c-3320-45c9-b74b-c75e2b4eeb88",
   "metadata": {},
   "outputs": [
    {
     "data": {
      "text/plain": [
       "25"
      ]
     },
     "execution_count": 44,
     "metadata": {},
     "output_type": "execute_result"
    }
   ],
   "source": [
    "ord(\"z\") - ord(\"a\")"
   ]
  },
  {
   "cell_type": "code",
   "execution_count": 45,
   "id": "8a94999f-01e0-491c-abab-f459bff5c40d",
   "metadata": {},
   "outputs": [
    {
     "data": {
      "text/plain": [
       "65"
      ]
     },
     "execution_count": 45,
     "metadata": {},
     "output_type": "execute_result"
    }
   ],
   "source": [
    "ord(\"A\")"
   ]
  },
  {
   "cell_type": "code",
   "execution_count": 58,
   "id": "323abde2-7936-4077-a216-0a964363f9bc",
   "metadata": {},
   "outputs": [
    {
     "name": "stdout",
     "output_type": "stream",
     "text": [
      "non-alphabatic character\n"
     ]
    }
   ],
   "source": [
    "char = ord('1')\n",
    "if char >= ord(\"a\") and char <= ord(\"z\"):\n",
    "    print(\"small character\")\n",
    "elif char >= ord(\"A\") and char <= ord(\"Z\"):\n",
    "    print(\"capital character\")\n",
    "else:\n",
    "    print(\"non-alphabatic character\")"
   ]
  },
  {
   "cell_type": "code",
   "execution_count": 59,
   "id": "882d33d3-bff1-4b25-a8b5-91cc838c5d5f",
   "metadata": {},
   "outputs": [
    {
     "data": {
      "text/plain": [
       "49"
      ]
     },
     "execution_count": 59,
     "metadata": {},
     "output_type": "execute_result"
    }
   ],
   "source": [
    "ord(\"1\")"
   ]
  },
  {
   "cell_type": "code",
   "execution_count": 60,
   "id": "438872c8-0734-4482-a914-9312cb88eab2",
   "metadata": {},
   "outputs": [
    {
     "data": {
      "text/plain": [
       "False"
      ]
     },
     "execution_count": 60,
     "metadata": {},
     "output_type": "execute_result"
    }
   ],
   "source": [
    "\"/\".isalpha()"
   ]
  },
  {
   "cell_type": "code",
   "execution_count": 61,
   "id": "76c425ff-966b-4e2d-ae5c-8604e00a07ac",
   "metadata": {},
   "outputs": [
    {
     "name": "stdout",
     "output_type": "stream",
     "text": [
      "Help on method_descriptor:\n",
      "\n",
      "isalpha(self, /)\n",
      "    Return True if the string is an alphabetic string, False otherwise.\n",
      "    \n",
      "    A string is alphabetic if all characters in the string are alphabetic and there\n",
      "    is at least one character in the string.\n",
      "\n"
     ]
    }
   ],
   "source": [
    "help(str.isalpha)"
   ]
  },
  {
   "cell_type": "code",
   "execution_count": 62,
   "id": "7945a66e-4ed4-49d8-85ae-5cf84231bb2a",
   "metadata": {},
   "outputs": [],
   "source": [
    "new_words = []\n",
    "\n",
    "for word in para.split(\" \"):\n",
    "\n",
    "    if word.isalpha():\n",
    "        new_words.append(word)\n",
    "    else:\n",
    "        new_word = \"\"\n",
    "        for char in word:\n",
    "            if char.isalpha():\n",
    "                new_word += char\n",
    "        new_words.append(new_word)\n",
    "        "
   ]
  },
  {
   "cell_type": "code",
   "execution_count": 63,
   "id": "c5c8fbd6-dd81-422a-bea0-d90429e5c32c",
   "metadata": {},
   "outputs": [
    {
     "data": {
      "text/plain": [
       "['On',\n",
       " 'a',\n",
       " 'sunny',\n",
       " 'Sunday',\n",
       " 'the',\n",
       " 'level',\n",
       " 'lake',\n",
       " 'beckoned',\n",
       " 'Ducks',\n",
       " 'waddled',\n",
       " 'and',\n",
       " 'geese',\n",
       " 'honked',\n",
       " 'in',\n",
       " 'harmony',\n",
       " 'A',\n",
       " 'kayak',\n",
       " 'glided',\n",
       " 'silently',\n",
       " 'its',\n",
       " 'red',\n",
       " 'hull',\n",
       " 'reflecting',\n",
       " 'the',\n",
       " 'noonday',\n",
       " 'sun',\n",
       " 'Nearby',\n",
       " 'a',\n",
       " 'radar',\n",
       " 'dish',\n",
       " 'spun',\n",
       " 'lazily',\n",
       " 'scanning',\n",
       " 'the',\n",
       " 'horizon',\n",
       " 'for',\n",
       " 'any',\n",
       " 'anomalies',\n",
       " 'The',\n",
       " 'picnic',\n",
       " 'spread',\n",
       " 'was',\n",
       " 'a',\n",
       " 'feast',\n",
       " 'of',\n",
       " 'palindromes',\n",
       " 'racecarshaped',\n",
       " 'sandwiches',\n",
       " 'taco',\n",
       " 'cat',\n",
       " 'wraps',\n",
       " 'and',\n",
       " 'desserts',\n",
       " 'like',\n",
       " 'repaperedeclairs',\n",
       " 'Even',\n",
       " 'the',\n",
       " 'lemonadesipped',\n",
       " 'by',\n",
       " 'the',\n",
       " 'reverent',\n",
       " 'crowdwas',\n",
       " 'a',\n",
       " 'palindrome',\n",
       " 'madam',\n",
       " 'in',\n",
       " 'Eden',\n",
       " 'Im',\n",
       " 'Adam']"
      ]
     },
     "execution_count": 63,
     "metadata": {},
     "output_type": "execute_result"
    }
   ],
   "source": [
    "new_words"
   ]
  },
  {
   "cell_type": "markdown",
   "id": "07fbe9b7-84a0-4158-a9cb-a9e50b81b130",
   "metadata": {},
   "source": [
    "**Searching palindromes on new_words**"
   ]
  },
  {
   "cell_type": "code",
   "execution_count": 64,
   "id": "70742b3f-8cab-4cd7-ac88-aebff7e53c61",
   "metadata": {},
   "outputs": [
    {
     "name": "stdout",
     "output_type": "stream",
     "text": [
      "level\n",
      "kayak\n",
      "radar\n",
      "madam\n"
     ]
    }
   ],
   "source": [
    "for word in new_words:\n",
    "\n",
    "    # if we only have one character \n",
    "    if len(word) <2:\n",
    "        continue\n",
    "    \n",
    "    lb = 0\n",
    "    ub = len(word) - 1\n",
    "    isPalindrome = True\n",
    "    while lb < ub:\n",
    "\n",
    "        if word[lb] != word[ub]:\n",
    "            isPalindrome = False\n",
    "            break\n",
    "\n",
    "        lb +=1\n",
    "        ub -=1\n",
    "\n",
    "    if isPalindrome:\n",
    "        print(word)\n",
    "    "
   ]
  },
  {
   "cell_type": "markdown",
   "id": "1f134982-7775-4147-bbe6-47ec25b2defe",
   "metadata": {},
   "source": []
  }
 ],
 "metadata": {
  "kernelspec": {
   "display_name": "Python 3 (ipykernel)",
   "language": "python",
   "name": "python3"
  },
  "language_info": {
   "codemirror_mode": {
    "name": "ipython",
    "version": 3
   },
   "file_extension": ".py",
   "mimetype": "text/x-python",
   "name": "python",
   "nbconvert_exporter": "python",
   "pygments_lexer": "ipython3",
   "version": "3.10.5"
  }
 },
 "nbformat": 4,
 "nbformat_minor": 5
}
