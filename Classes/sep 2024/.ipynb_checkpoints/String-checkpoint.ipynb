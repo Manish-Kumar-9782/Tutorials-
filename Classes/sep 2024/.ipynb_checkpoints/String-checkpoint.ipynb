{
 "cells": [
  {
   "cell_type": "code",
   "execution_count": 1,
   "id": "dcf384cc-dfd3-4de8-9386-d70175ad172d",
   "metadata": {},
   "outputs": [],
   "source": [
    "para = \"On a sunny Sunday, the level lake beckoned. Ducks waddled, and geese honked \\\n",
    "in harmony. A kayak glided silently, its red hull reflecting the noonday sun. Nearby, a \\\n",
    "'radar'@ dish spun lazily, scanning the horizon for any anomalies. The picnic spread was a \\\n",
    "feast of palindromes: racecar-shaped sandwiches, taco cat wraps, and desserts like repapered\\\n",
    "eclairs. Even the lemonade—sipped by the reverent crowd—was a palindrome: 'madam', in Eden, \\\n",
    "I’m Adam.”\""
   ]
  },
  {
   "cell_type": "markdown",
   "id": "d3fe8879-6536-465c-b497-9429adc40313",
   "metadata": {},
   "source": [
    "**find and index method**"
   ]
  },
  {
   "cell_type": "code",
   "execution_count": 6,
   "id": "27f494f0-e66b-4b65-86ad-d23c36715e1d",
   "metadata": {},
   "outputs": [
    {
     "data": {
      "text/plain": [
       "5"
      ]
     },
     "execution_count": 6,
     "metadata": {},
     "output_type": "execute_result"
    }
   ],
   "source": [
    "para.index(\"sunny\")"
   ]
  },
  {
   "cell_type": "code",
   "execution_count": 4,
   "id": "619913f6-7ff5-43b7-81f4-5c7789ef752f",
   "metadata": {},
   "outputs": [
    {
     "data": {
      "text/plain": [
       "'radar'"
      ]
     },
     "execution_count": 4,
     "metadata": {},
     "output_type": "execute_result"
    }
   ],
   "source": [
    "para[165:165+5]  # list slicing "
   ]
  },
  {
   "cell_type": "code",
   "execution_count": 22,
   "id": "ff57f109-953f-4c32-83b5-2f4aeaa0346d",
   "metadata": {},
   "outputs": [
    {
     "data": {
      "text/plain": [
       "1"
      ]
     },
     "execution_count": 22,
     "metadata": {},
     "output_type": "execute_result"
    }
   ],
   "source": [
    "para.count(\"is\")"
   ]
  },
  {
   "cell_type": "code",
   "execution_count": 12,
   "id": "2d487788-3a07-4350-a6ca-fd95622ea322",
   "metadata": {},
   "outputs": [
    {
     "data": {
      "text/plain": [
       "449"
      ]
     },
     "execution_count": 12,
     "metadata": {},
     "output_type": "execute_result"
    }
   ],
   "source": [
    "# couting total character\n",
    "len(para)"
   ]
  },
  {
   "cell_type": "code",
   "execution_count": 16,
   "id": "41650509-7229-4602-801a-22aa08e5dfd1",
   "metadata": {},
   "outputs": [
    {
     "data": {
      "text/plain": [
       "59"
      ]
     },
     "execution_count": 16,
     "metadata": {},
     "output_type": "execute_result"
    }
   ],
   "source": [
    "para.find(\"and\")"
   ]
  },
  {
   "cell_type": "markdown",
   "id": "584499f7-a472-4404-a8ea-2b95c884503b",
   "metadata": {},
   "source": [
    "**finding all index numbers of occurance of substring**"
   ]
  },
  {
   "cell_type": "code",
   "execution_count": 23,
   "id": "f62318a2-d8f2-4839-be39-1c74df620c52",
   "metadata": {},
   "outputs": [
    {
     "name": "stdout",
     "output_type": "stream",
     "text": [
      "[249, 403]\n"
     ]
    }
   ],
   "source": [
    "substring = \"was\"\n",
    "# a list to store all the index number at which that substring is present.\n",
    "sub_indexes = []\n",
    "\n",
    "_i = 0 # starting index number for searching.\n",
    "while True:\n",
    "\n",
    "    # _si : a variable to store the index number of occurance of substring.\n",
    "    _si = para.find(substring,_i)\n",
    "\n",
    "    if _si < 0:\n",
    "        break\n",
    "\n",
    "    sub_indexes.append(_si)\n",
    "    _i = _si + 1\n",
    "        \n",
    "print(sub_indexes)    "
   ]
  },
  {
   "cell_type": "code",
   "execution_count": null,
   "id": "783fac11-7db2-4f8e-9ebf-e078224decb0",
   "metadata": {},
   "outputs": [],
   "source": []
  }
 ],
 "metadata": {
  "kernelspec": {
   "display_name": "Python 3 (ipykernel)",
   "language": "python",
   "name": "python3"
  },
  "language_info": {
   "codemirror_mode": {
    "name": "ipython",
    "version": 3
   },
   "file_extension": ".py",
   "mimetype": "text/x-python",
   "name": "python",
   "nbconvert_exporter": "python",
   "pygments_lexer": "ipython3",
   "version": "3.10.5"
  }
 },
 "nbformat": 4,
 "nbformat_minor": 5
}
