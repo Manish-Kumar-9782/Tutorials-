{
 "cells": [
  {
   "cell_type": "code",
   "execution_count": null,
   "id": "16325332-73bd-4107-a7fc-ae7d91b62c40",
   "metadata": {},
   "outputs": [],
   "source": [
    "raw_data = \"\"\"Date;Date Time;Numerical Value;Financial Value;Address;Email;Phone Number;Employee ID;Department;Job Title\n",
    "\"10/25/2024\";\"14:32:11\";\"3,451.98\";\"$12,543.00\";\"123 Main St; Anytown, USA 12345\";\"goKu_Ultra@goku.com\";\"555-123-4567\";\"IT-9876;1\";\"IT\";\"Software Developer\"\n",
    "\"2023-Nov-11\";\"9:15 AM\";\"N/A\";\"$4,987.23\";\"456 Elm Street; Anytown; CA 90210\";\"i.amGroot@edu.org\";\"098-765-4321\";\"ME-1234-002\";\"Mechanical Engineering\";\"Design Engineer\"\n",
    "\"Sometime;2023\";\"77\";\"$88.88\";\"7th Heaven; Neverland\";\"tonyStark1000@StarkIndustries.com\";\"4534   454  234\";\"EE;0005\";\"Electrical Engineering\";\"Electrical Technician\"\n",
    "\"24-Sept-2024\";\" \";\"100\";\"N/A\";\"1 Infinite Loop; Cupertino, CA\";\"Steve.Jobs@Apple.com\";\"Invalid Number\";\"CS-3421;03\";\"Computer Science\";\"Data Scientist\"\n",
    "\"10/26/2024\";\"08:00\";\"42\";\"$21,987.65\";\"221B Baker St; London\";\"Sherlock@Holmes.com\";\"(+44) 20 7224 3688\";\"RE-0987;001\";\"Renewable Energy\";\"Project Manager\"\n",
    "\"20-10-2024\";\"11 AM\";\" \";\"€12,345.67\";\"Rue de la Paix; Paris, France\";\"Coco.Chanel@Fashion.com\";\"Incorrect Format\";\"IT;1234\";\"IT\";\"Network Administrator\"\n",
    "\"\"\""
   ]
  }
 ],
 "metadata": {
  "kernelspec": {
   "display_name": "Python 3 (ipykernel)",
   "language": "python",
   "name": "python3"
  },
  "language_info": {
   "codemirror_mode": {
    "name": "ipython",
    "version": 3
   },
   "file_extension": ".py",
   "mimetype": "text/x-python",
   "name": "python",
   "nbconvert_exporter": "python",
   "pygments_lexer": "ipython3",
   "version": "3.10.5"
  }
 },
 "nbformat": 4,
 "nbformat_minor": 5
}
