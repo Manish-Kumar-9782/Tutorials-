{
 "cells": [
  {
   "cell_type": "code",
   "execution_count": 1,
   "id": "06a94b12-5eb2-40cd-bdfb-d5532d2edc5c",
   "metadata": {},
   "outputs": [],
   "source": [
    "MyList = [1,100,\"hello\", \"hi\", \"bye\"]"
   ]
  },
  {
   "cell_type": "code",
   "execution_count": 3,
   "id": "a5093a6c-c4f4-4a95-bd94-48b93a331ad0",
   "metadata": {},
   "outputs": [
    {
     "data": {
      "text/plain": [
       "[1, 100, 'hello', 'hi', 'bye']"
      ]
     },
     "execution_count": 3,
     "metadata": {},
     "output_type": "execute_result"
    }
   ],
   "source": [
    "MyList.copy()"
   ]
  },
  {
   "cell_type": "code",
   "execution_count": 4,
   "id": "5e609ce5-43db-4fc3-8b3f-8ddbae3d0b4b",
   "metadata": {},
   "outputs": [],
   "source": [
    "# storing list to a new variable\n",
    "copy_list = MyList.copy()"
   ]
  },
  {
   "cell_type": "code",
   "execution_count": 5,
   "id": "c5734493-f026-4617-96dd-db4653bb7a75",
   "metadata": {},
   "outputs": [
    {
     "data": {
      "text/plain": [
       "[1, 100, 'hello', 'hi', 'bye']"
      ]
     },
     "execution_count": 5,
     "metadata": {},
     "output_type": "execute_result"
    }
   ],
   "source": [
    "copy_list"
   ]
  },
  {
   "cell_type": "code",
   "execution_count": 6,
   "id": "3e9df885-e93b-4fd1-9e15-91106b74be9b",
   "metadata": {},
   "outputs": [
    {
     "data": {
      "text/plain": [
       "False"
      ]
     },
     "execution_count": 6,
     "metadata": {},
     "output_type": "execute_result"
    }
   ],
   "source": [
    "# testing identity of both lists\n",
    "MyList is copy_list"
   ]
  },
  {
   "cell_type": "code",
   "execution_count": 10,
   "id": "c7f5ee79-7a17-44f4-8a20-d4be3d7daf5a",
   "metadata": {},
   "outputs": [],
   "source": [
    "copy_list.clear()\n",
    "# removing all item from copy_list by using clear method on a list."
   ]
  },
  {
   "cell_type": "code",
   "execution_count": 8,
   "id": "785527b6-f7a1-4d2b-9091-f472bb376670",
   "metadata": {},
   "outputs": [
    {
     "data": {
      "text/plain": [
       "[]"
      ]
     },
     "execution_count": 8,
     "metadata": {},
     "output_type": "execute_result"
    }
   ],
   "source": [
    "copy_list"
   ]
  },
  {
   "cell_type": "code",
   "execution_count": 9,
   "id": "e4c617cc-5441-430c-9dc3-357691cc6767",
   "metadata": {},
   "outputs": [
    {
     "data": {
      "text/plain": [
       "[1, 100, 'hello', 'hi', 'bye']"
      ]
     },
     "execution_count": 9,
     "metadata": {},
     "output_type": "execute_result"
    }
   ],
   "source": [
    "MyList"
   ]
  },
  {
   "cell_type": "code",
   "execution_count": 11,
   "id": "429ee63b-5fcb-4a5f-8980-d339b4bcd319",
   "metadata": {},
   "outputs": [],
   "source": [
    "import random"
   ]
  },
  {
   "cell_type": "code",
   "execution_count": 17,
   "id": "49a5dccd-c635-48bf-9ee2-c171ea43c3f3",
   "metadata": {},
   "outputs": [
    {
     "data": {
      "text/plain": [
       "9"
      ]
     },
     "execution_count": 17,
     "metadata": {},
     "output_type": "execute_result"
    }
   ],
   "source": [
    "# generating a sinle number \n",
    "random.randint(1,10)"
   ]
  },
  {
   "cell_type": "code",
   "execution_count": 18,
   "id": "42db53ef-c72f-431d-b5d2-e025bef024b8",
   "metadata": {},
   "outputs": [
    {
     "name": "stdout",
     "output_type": "stream",
     "text": [
      "3\n",
      "10\n",
      "10\n",
      "3\n",
      "9\n",
      "8\n",
      "10\n",
      "4\n",
      "6\n",
      "5\n"
     ]
    }
   ],
   "source": [
    "for i in range(10):\n",
    "    x = random.randint(1,10)\n",
    "    print(x)"
   ]
  },
  {
   "cell_type": "markdown",
   "id": "089c3cc7-24e2-4965-86ce-148dc96c957f",
   "metadata": {},
   "source": [
    "**generating a random numbers list**"
   ]
  },
  {
   "cell_type": "code",
   "execution_count": 19,
   "id": "1fef9ce6-7e54-48a9-8f5e-d399f12f30a0",
   "metadata": {},
   "outputs": [],
   "source": [
    "# creating and storing random numbers\n",
    "random_number_list = []\n",
    "\n",
    "for i in range(10):\n",
    "    x = random.randint(1,10)\n",
    "    random_number_list.append(x)"
   ]
  },
  {
   "cell_type": "code",
   "execution_count": 20,
   "id": "62a29b01-8fde-4860-bd29-1e4df47a6d9b",
   "metadata": {},
   "outputs": [
    {
     "data": {
      "text/plain": [
       "[10, 7, 7, 3, 5, 1, 7, 4, 7, 7]"
      ]
     },
     "execution_count": 20,
     "metadata": {},
     "output_type": "execute_result"
    }
   ],
   "source": [
    "random_number_list"
   ]
  },
  {
   "cell_type": "markdown",
   "id": "54f55eac-e397-40a9-b3f6-9afdf0eb44be",
   "metadata": {},
   "source": [
    "**counting item in a list**"
   ]
  },
  {
   "cell_type": "code",
   "execution_count": 21,
   "id": "eb99148f-73b5-4410-a5e4-803a57771454",
   "metadata": {},
   "outputs": [
    {
     "data": {
      "text/plain": [
       "5"
      ]
     },
     "execution_count": 21,
     "metadata": {},
     "output_type": "execute_result"
    }
   ],
   "source": [
    "random_number_list.count(7)"
   ]
  },
  {
   "cell_type": "code",
   "execution_count": 22,
   "id": "feb06a88-d962-490d-a86c-c0be3a1b9650",
   "metadata": {},
   "outputs": [
    {
     "name": "stdout",
     "output_type": "stream",
     "text": [
      "1: 1\n",
      "2: 0\n",
      "3: 1\n",
      "4: 1\n",
      "5: 1\n",
      "6: 0\n",
      "7: 5\n",
      "8: 0\n",
      "9: 0\n"
     ]
    }
   ],
   "source": [
    "# now testing occurance of each number from 1, 10 in random_number_list\n",
    "for n in range(1,10):\n",
    "    count = random_number_list.count(n)\n",
    "    print(f\"{n}: {count}\")"
   ]
  },
  {
   "cell_type": "markdown",
   "id": "ba1445ab-a864-4eb6-9e0a-7f48e871c280",
   "metadata": {},
   "source": [
    "**index mehtod**"
   ]
  },
  {
   "cell_type": "code",
   "execution_count": 26,
   "id": "6117c929-89f1-4915-abf8-49e2bdabe38c",
   "metadata": {},
   "outputs": [
    {
     "data": {
      "text/plain": [
       "[1, 100, 'hello', 'hi', 'bye']"
      ]
     },
     "execution_count": 26,
     "metadata": {},
     "output_type": "execute_result"
    }
   ],
   "source": [
    "MyList"
   ]
  },
  {
   "cell_type": "code",
   "execution_count": 28,
   "id": "f82d042a-a71e-43a7-bcc6-395ae3691c8b",
   "metadata": {},
   "outputs": [
    {
     "data": {
      "text/plain": [
       "3"
      ]
     },
     "execution_count": 28,
     "metadata": {},
     "output_type": "execute_result"
    }
   ],
   "source": [
    "MyList.index(\"hi\")"
   ]
  },
  {
   "cell_type": "code",
   "execution_count": 29,
   "id": "7a66c88f-a2aa-484e-98cb-41a56764009b",
   "metadata": {},
   "outputs": [],
   "source": [
    "# searching an item which is not present in list"
   ]
  },
  {
   "cell_type": "code",
   "execution_count": 30,
   "id": "12804ea3-2454-4cc3-93e9-77c3d4cceca6",
   "metadata": {},
   "outputs": [
    {
     "ename": "ValueError",
     "evalue": "123 is not in list",
     "output_type": "error",
     "traceback": [
      "\u001b[1;31m---------------------------------------------------------------------------\u001b[0m",
      "\u001b[1;31mValueError\u001b[0m                                Traceback (most recent call last)",
      "Cell \u001b[1;32mIn [30], line 1\u001b[0m\n\u001b[1;32m----> 1\u001b[0m \u001b[43mMyList\u001b[49m\u001b[38;5;241;43m.\u001b[39;49m\u001b[43mindex\u001b[49m\u001b[43m(\u001b[49m\u001b[38;5;241;43m123\u001b[39;49m\u001b[43m)\u001b[49m\n",
      "\u001b[1;31mValueError\u001b[0m: 123 is not in list"
     ]
    }
   ],
   "source": [
    "MyList.index(123)"
   ]
  },
  {
   "cell_type": "markdown",
   "id": "88c953dc-dc6b-41b3-8b6b-52fb4c297f73",
   "metadata": {},
   "source": [
    "**Testing that an item is present in list**"
   ]
  },
  {
   "cell_type": "code",
   "execution_count": 34,
   "id": "b1920615-a2ad-4e63-bb8d-40ea775fe22d",
   "metadata": {},
   "outputs": [
    {
     "data": {
      "text/plain": [
       "False"
      ]
     },
     "execution_count": 34,
     "metadata": {},
     "output_type": "execute_result"
    }
   ],
   "source": [
    "item = \"helloo\"\n",
    "\n",
    "item in MyList"
   ]
  },
  {
   "cell_type": "code",
   "execution_count": 35,
   "id": "20407086-99fb-4105-ada8-411b3b0a12d1",
   "metadata": {},
   "outputs": [],
   "source": [
    "def isItemPresent(my_list, item):\n",
    "    return item in my_list"
   ]
  },
  {
   "cell_type": "code",
   "execution_count": 38,
   "id": "b441df7d-056e-410a-b6c3-0d701c804dff",
   "metadata": {},
   "outputs": [
    {
     "data": {
      "text/plain": [
       "True"
      ]
     },
     "execution_count": 38,
     "metadata": {},
     "output_type": "execute_result"
    }
   ],
   "source": [
    "isItemPresent(MyList, \"hello\")"
   ]
  },
  {
   "cell_type": "code",
   "execution_count": 41,
   "id": "58f8e32b-f86a-4ba5-ad36-f8c7ad17fa96",
   "metadata": {},
   "outputs": [
    {
     "name": "stdout",
     "output_type": "stream",
     "text": [
      "2\n"
     ]
    }
   ],
   "source": [
    "item = \"hello\"\n",
    "\n",
    "if isItemPresent(MyList, item):\n",
    "    print(MyList.index(item))\n",
    "else:\n",
    "    print(\"item is not present\")"
   ]
  },
  {
   "cell_type": "markdown",
   "id": "5c3f3194-47be-4c28-9306-e01188253a5d",
   "metadata": {},
   "source": [
    "**pop and remove**\n",
    "To delete items from list"
   ]
  },
  {
   "cell_type": "code",
   "execution_count": 1,
   "id": "ca8b4d00-14d7-4281-b11f-767bb073ff81",
   "metadata": {},
   "outputs": [],
   "source": [
    "MyList = [1,100,\"hello\", \"hi\", \"bye\"]"
   ]
  },
  {
   "cell_type": "code",
   "execution_count": 2,
   "id": "0813b624-0341-4699-9134-22ef52070106",
   "metadata": {},
   "outputs": [
    {
     "data": {
      "text/plain": [
       "'bye'"
      ]
     },
     "execution_count": 2,
     "metadata": {},
     "output_type": "execute_result"
    }
   ],
   "source": [
    "MyList.pop()"
   ]
  },
  {
   "cell_type": "code",
   "execution_count": 3,
   "id": "a181b5c1-cc27-4460-a543-e9cbb43112cf",
   "metadata": {},
   "outputs": [],
   "source": [
    "deleted_item = MyList.pop()"
   ]
  },
  {
   "cell_type": "code",
   "execution_count": 4,
   "id": "37c1e9e8-79b2-4a98-9cc2-dab0925cd852",
   "metadata": {},
   "outputs": [
    {
     "data": {
      "text/plain": [
       "'hi'"
      ]
     },
     "execution_count": 4,
     "metadata": {},
     "output_type": "execute_result"
    }
   ],
   "source": [
    "deleted_item"
   ]
  },
  {
   "cell_type": "code",
   "execution_count": 5,
   "id": "0c87a6a0-620a-40c7-8238-eb2ae74cd499",
   "metadata": {},
   "outputs": [
    {
     "data": {
      "text/plain": [
       "[1, 100, 'hello']"
      ]
     },
     "execution_count": 5,
     "metadata": {},
     "output_type": "execute_result"
    }
   ],
   "source": [
    "MyList"
   ]
  },
  {
   "cell_type": "code",
   "execution_count": 6,
   "id": "e6f1e260-5c0f-47cf-88d7-dc76f06ad35a",
   "metadata": {},
   "outputs": [],
   "source": [
    "MyList = [1,100,\"hello\", \"hi\", \"bye\"]"
   ]
  },
  {
   "cell_type": "code",
   "execution_count": 7,
   "id": "bf72f503-dc52-460b-bc0a-d9058ee5e0ad",
   "metadata": {},
   "outputs": [
    {
     "data": {
      "text/plain": [
       "[1, 100, 'hello', 'hi', 'bye']"
      ]
     },
     "execution_count": 7,
     "metadata": {},
     "output_type": "execute_result"
    }
   ],
   "source": [
    "MyList"
   ]
  },
  {
   "cell_type": "code",
   "execution_count": 8,
   "id": "646745ac-42fd-438b-b366-fbd3def33fd8",
   "metadata": {},
   "outputs": [],
   "source": [
    "MyList.remove(\"hello\")"
   ]
  },
  {
   "cell_type": "code",
   "execution_count": 9,
   "id": "5276666b-9ee1-4647-8b70-9a2a17e93aa0",
   "metadata": {},
   "outputs": [
    {
     "data": {
      "text/plain": [
       "[1, 100, 'hi', 'bye']"
      ]
     },
     "execution_count": 9,
     "metadata": {},
     "output_type": "execute_result"
    }
   ],
   "source": [
    "MyList"
   ]
  },
  {
   "cell_type": "code",
   "execution_count": 10,
   "id": "ace630ca-022e-4cf9-8571-02211e8598c4",
   "metadata": {},
   "outputs": [],
   "source": [
    "MyList.remove(\"hi\")"
   ]
  },
  {
   "cell_type": "code",
   "execution_count": 12,
   "id": "8b0bd027-4e18-4139-a51f-e4c9db87ecff",
   "metadata": {},
   "outputs": [
    {
     "data": {
      "text/plain": [
       "[1, 100, 'bye']"
      ]
     },
     "execution_count": 12,
     "metadata": {},
     "output_type": "execute_result"
    }
   ],
   "source": [
    "MyList"
   ]
  },
  {
   "cell_type": "code",
   "execution_count": 13,
   "id": "658e9a02-06ce-48ba-a252-0ef1995225a4",
   "metadata": {},
   "outputs": [
    {
     "ename": "ValueError",
     "evalue": "list.remove(x): x not in list",
     "output_type": "error",
     "traceback": [
      "\u001b[1;31m---------------------------------------------------------------------------\u001b[0m",
      "\u001b[1;31mValueError\u001b[0m                                Traceback (most recent call last)",
      "Cell \u001b[1;32mIn [13], line 1\u001b[0m\n\u001b[1;32m----> 1\u001b[0m \u001b[43mMyList\u001b[49m\u001b[38;5;241;43m.\u001b[39;49m\u001b[43mremove\u001b[49m\u001b[43m(\u001b[49m\u001b[38;5;124;43m\"\u001b[39;49m\u001b[38;5;124;43mone\u001b[39;49m\u001b[38;5;124;43m\"\u001b[39;49m\u001b[43m)\u001b[49m\n",
      "\u001b[1;31mValueError\u001b[0m: list.remove(x): x not in list"
     ]
    }
   ],
   "source": [
    "MyList.remove(\"one\")"
   ]
  },
  {
   "cell_type": "markdown",
   "id": "6cfb28f2-6b8b-4db3-b863-45669b730a8b",
   "metadata": {},
   "source": [
    "**reverse**\n",
    "\n",
    "Note: we need to similar type of data while performing sorting operation"
   ]
  },
  {
   "cell_type": "code",
   "execution_count": 17,
   "id": "c030523d-c247-4ea9-8a69-a1f6c918fa46",
   "metadata": {},
   "outputs": [
    {
     "data": {
      "text/plain": [
       "['bye', 100, 1]"
      ]
     },
     "execution_count": 17,
     "metadata": {},
     "output_type": "execute_result"
    }
   ],
   "source": [
    "MyList"
   ]
  },
  {
   "cell_type": "code",
   "execution_count": 20,
   "id": "f94bbe11-af08-4ece-921d-e5555215c3d9",
   "metadata": {},
   "outputs": [],
   "source": [
    "MyList.reverse()"
   ]
  },
  {
   "cell_type": "code",
   "execution_count": 21,
   "id": "79f27602-e088-434d-bdcc-8c30d70225c1",
   "metadata": {},
   "outputs": [
    {
     "data": {
      "text/plain": [
       "['bye', 100, 1]"
      ]
     },
     "execution_count": 21,
     "metadata": {},
     "output_type": "execute_result"
    }
   ],
   "source": [
    "MyList"
   ]
  },
  {
   "cell_type": "markdown",
   "id": "c8813173-691f-427f-be31-e919641ec8a9",
   "metadata": {},
   "source": [
    "**sort**"
   ]
  },
  {
   "cell_type": "code",
   "execution_count": 22,
   "id": "1954de6d-1844-4920-95fb-794950f3cffc",
   "metadata": {},
   "outputs": [
    {
     "ename": "TypeError",
     "evalue": "'<' not supported between instances of 'int' and 'str'",
     "output_type": "error",
     "traceback": [
      "\u001b[1;31m---------------------------------------------------------------------------\u001b[0m",
      "\u001b[1;31mTypeError\u001b[0m                                 Traceback (most recent call last)",
      "Cell \u001b[1;32mIn [22], line 1\u001b[0m\n\u001b[1;32m----> 1\u001b[0m \u001b[43mMyList\u001b[49m\u001b[38;5;241;43m.\u001b[39;49m\u001b[43msort\u001b[49m\u001b[43m(\u001b[49m\u001b[43m)\u001b[49m\n",
      "\u001b[1;31mTypeError\u001b[0m: '<' not supported between instances of 'int' and 'str'"
     ]
    }
   ],
   "source": [
    "MyList.sort()"
   ]
  },
  {
   "cell_type": "code",
   "execution_count": 23,
   "id": "2a5c0427-cec5-4f45-b900-c743444a7800",
   "metadata": {},
   "outputs": [],
   "source": [
    "items = [12,34,65,33,89,65,33,23]"
   ]
  },
  {
   "cell_type": "code",
   "execution_count": 24,
   "id": "bfc19649-ac47-419e-99cc-0895d9c3b04e",
   "metadata": {},
   "outputs": [
    {
     "data": {
      "text/plain": [
       "[12, 34, 65, 33, 89, 65, 33, 23]"
      ]
     },
     "execution_count": 24,
     "metadata": {},
     "output_type": "execute_result"
    }
   ],
   "source": [
    "items"
   ]
  },
  {
   "cell_type": "code",
   "execution_count": 27,
   "id": "9bf7c21d-95b1-4360-b4b7-f88010ae3616",
   "metadata": {},
   "outputs": [],
   "source": [
    "# sorting\n",
    "items.sort() # by default is ascending"
   ]
  },
  {
   "cell_type": "code",
   "execution_count": 28,
   "id": "6873e90d-b496-4a2e-aaf7-05931238289e",
   "metadata": {},
   "outputs": [
    {
     "data": {
      "text/plain": [
       "[12, 23, 33, 33, 34, 65, 65, 89]"
      ]
     },
     "execution_count": 28,
     "metadata": {},
     "output_type": "execute_result"
    }
   ],
   "source": [
    "items"
   ]
  },
  {
   "cell_type": "code",
   "execution_count": 29,
   "id": "4f43d837-38de-4296-a112-02135deb9333",
   "metadata": {},
   "outputs": [
    {
     "data": {
      "text/plain": [
       "[89, 65, 65, 34, 33, 33, 23, 12]"
      ]
     },
     "execution_count": 29,
     "metadata": {},
     "output_type": "execute_result"
    }
   ],
   "source": [
    "# descending order sorting\n",
    "items.sort(reverse=True)\n",
    "items"
   ]
  },
  {
   "cell_type": "code",
   "execution_count": null,
   "id": "3dc70098-0c6f-4467-a4f8-4bbdfe89ea07",
   "metadata": {},
   "outputs": [],
   "source": []
  }
 ],
 "metadata": {
  "kernelspec": {
   "display_name": "Python 3 (ipykernel)",
   "language": "python",
   "name": "python3"
  },
  "language_info": {
   "codemirror_mode": {
    "name": "ipython",
    "version": 3
   },
   "file_extension": ".py",
   "mimetype": "text/x-python",
   "name": "python",
   "nbconvert_exporter": "python",
   "pygments_lexer": "ipython3",
   "version": "3.10.5"
  }
 },
 "nbformat": 4,
 "nbformat_minor": 5
}
