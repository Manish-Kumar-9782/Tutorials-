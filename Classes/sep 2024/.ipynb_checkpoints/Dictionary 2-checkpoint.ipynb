{
 "cells": [
  {
   "cell_type": "markdown",
   "id": "b694ab45-f855-4ee0-b717-29e40db9969a",
   "metadata": {},
   "source": [
    "## Dictionary\n",
    "\n",
    "```python\n",
    "mydict = {\"keyName\":\"value\", \"keyName2\":\"value2\"}\n",
    "````"
   ]
  },
  {
   "cell_type": "markdown",
   "id": "e3cc2830-7e41-478a-bb7c-c2a944c9ea40",
   "metadata": {},
   "source": [
    "**Creating Dictionary**"
   ]
  },
  {
   "cell_type": "code",
   "execution_count": 2,
   "id": "cb870fe2-736a-4c92-9e24-3d87342dbae3",
   "metadata": {},
   "outputs": [],
   "source": [
    "person = {\"name\":\"sahil\",\"age\":18, \"height\":5.7, \"bloodgroup\":\"O+\"}"
   ]
  },
  {
   "cell_type": "code",
   "execution_count": 3,
   "id": "e67958ff-6783-4cd7-8d2c-e1cba3c381fa",
   "metadata": {},
   "outputs": [
    {
     "data": {
      "text/plain": [
       "{'name': 'sahil', 'age': 18, 'height': 5.7, 'bloodgroup': 'O+'}"
      ]
     },
     "execution_count": 3,
     "metadata": {},
     "output_type": "execute_result"
    }
   ],
   "source": [
    "person"
   ]
  },
  {
   "cell_type": "markdown",
   "id": "f32a0977-eef3-4cd1-8185-3b10a27821fb",
   "metadata": {},
   "source": [
    "**accessing values by using keys**"
   ]
  },
  {
   "cell_type": "code",
   "execution_count": 4,
   "id": "ba5d8763-449a-4596-ab77-4c40bbeed482",
   "metadata": {},
   "outputs": [
    {
     "data": {
      "text/plain": [
       "'sahil'"
      ]
     },
     "execution_count": 4,
     "metadata": {},
     "output_type": "execute_result"
    }
   ],
   "source": [
    "person[\"name\"]"
   ]
  },
  {
   "cell_type": "code",
   "execution_count": 5,
   "id": "c06ba041-1096-4eb2-b99b-08684d11d94a",
   "metadata": {},
   "outputs": [
    {
     "data": {
      "text/plain": [
       "18"
      ]
     },
     "execution_count": 5,
     "metadata": {},
     "output_type": "execute_result"
    }
   ],
   "source": [
    "person[\"age\"]"
   ]
  },
  {
   "cell_type": "markdown",
   "id": "14a856b8-8feb-49d4-a566-93674ba373ac",
   "metadata": {},
   "source": [
    "Note: if 'name' of the key is not present then dictionary object will raise and KeyError."
   ]
  },
  {
   "cell_type": "code",
   "execution_count": 6,
   "id": "9de522a6-8f19-4ff4-bab8-73e73946d2f5",
   "metadata": {},
   "outputs": [
    {
     "ename": "KeyError",
     "evalue": "'weight'",
     "output_type": "error",
     "traceback": [
      "\u001b[1;31m---------------------------------------------------------------------------\u001b[0m",
      "\u001b[1;31mKeyError\u001b[0m                                  Traceback (most recent call last)",
      "Cell \u001b[1;32mIn [6], line 3\u001b[0m\n\u001b[0;32m      1\u001b[0m \u001b[38;5;66;03m# for example: suppose that want ACCESS weight from person.\u001b[39;00m\n\u001b[0;32m      2\u001b[0m \u001b[38;5;66;03m# missing key: weight\u001b[39;00m\n\u001b[1;32m----> 3\u001b[0m \u001b[43mperson\u001b[49m\u001b[43m[\u001b[49m\u001b[38;5;124;43m\"\u001b[39;49m\u001b[38;5;124;43mweight\u001b[39;49m\u001b[38;5;124;43m\"\u001b[39;49m\u001b[43m]\u001b[49m\n",
      "\u001b[1;31mKeyError\u001b[0m: 'weight'"
     ]
    }
   ],
   "source": [
    "# for example: suppose that want ACCESS weight from person.\n",
    "# missing key: weight\n",
    "person[\"weight\"]"
   ]
  },
  {
   "cell_type": "markdown",
   "id": "28f5b51b-99f9-4bea-b1c2-b69cdd462af4",
   "metadata": {},
   "source": [
    "**updating values using keys**"
   ]
  },
  {
   "cell_type": "code",
   "execution_count": 7,
   "id": "9885c03d-0a73-4851-80b5-6992156c63e0",
   "metadata": {},
   "outputs": [
    {
     "data": {
      "text/plain": [
       "{'name': 'sahil', 'age': 19, 'height': 5.7, 'bloodgroup': 'O+'}"
      ]
     },
     "execution_count": 7,
     "metadata": {},
     "output_type": "execute_result"
    }
   ],
   "source": [
    "person[\"age\"] += 1\n",
    "person"
   ]
  },
  {
   "cell_type": "code",
   "execution_count": 10,
   "id": "3da7ccc3-a3d6-418a-904e-3595b4b5e1b0",
   "metadata": {},
   "outputs": [],
   "source": [
    "# during assignment operation, if key is present then it will be update\n",
    "# but if key is not present then the key value pair will be added.\n",
    "person[\"name\"] = \"Sahil Kumar\""
   ]
  },
  {
   "cell_type": "code",
   "execution_count": 11,
   "id": "cbbfb0e9-80e4-484d-ae9d-ffb68ed6d528",
   "metadata": {},
   "outputs": [
    {
     "data": {
      "text/plain": [
       "{'name': 'Sahil Kumar', 'age': 19, 'height': 5.7, 'bloodgroup': 'O+'}"
      ]
     },
     "execution_count": 11,
     "metadata": {},
     "output_type": "execute_result"
    }
   ],
   "source": [
    "person"
   ]
  },
  {
   "cell_type": "markdown",
   "id": "3d441d20-fdb6-46b2-8655-038d2b8e73c7",
   "metadata": {},
   "source": [
    "**Safe Accessing with get method**"
   ]
  },
  {
   "cell_type": "code",
   "execution_count": 12,
   "id": "9d7eaa31-ba91-4e1d-9759-71c165f2e4b9",
   "metadata": {},
   "outputs": [
    {
     "data": {
      "text/plain": [
       "'Sahil Kumar'"
      ]
     },
     "execution_count": 12,
     "metadata": {},
     "output_type": "execute_result"
    }
   ],
   "source": [
    "person.get(\"name\")"
   ]
  },
  {
   "cell_type": "code",
   "execution_count": 13,
   "id": "872ef259-59f7-4e4f-89ba-2a90ed9ad4ab",
   "metadata": {},
   "outputs": [],
   "source": [
    "# if key is not present then \n",
    "person.get(\"weight\")"
   ]
  },
  {
   "cell_type": "code",
   "execution_count": 14,
   "id": "2b10f209-73de-482a-b957-4ab00abda83e",
   "metadata": {},
   "outputs": [
    {
     "data": {
      "text/plain": [
       "60"
      ]
     },
     "execution_count": 14,
     "metadata": {},
     "output_type": "execute_result"
    }
   ],
   "source": [
    "# if key is not persent then return the default value.\n",
    "person.get(\"weight\", 60)"
   ]
  },
  {
   "cell_type": "code",
   "execution_count": 15,
   "id": "3a2ff7cc-ecb0-4236-a13b-45c545a18e73",
   "metadata": {},
   "outputs": [
    {
     "data": {
      "text/plain": [
       "{'name': 'Sahil Kumar', 'age': 19, 'height': 5.7, 'bloodgroup': 'O+'}"
      ]
     },
     "execution_count": 15,
     "metadata": {},
     "output_type": "execute_result"
    }
   ],
   "source": [
    "person"
   ]
  },
  {
   "cell_type": "markdown",
   "id": "7322a969-87dc-4c1e-84a0-a8e5ca9a70e3",
   "metadata": {},
   "source": [
    "**updating dictionary using update method**"
   ]
  },
  {
   "cell_type": "code",
   "execution_count": 16,
   "id": "945491f6-9c3f-4a4f-bab5-c6a14cdfd0ff",
   "metadata": {},
   "outputs": [],
   "source": [
    "# updating bloodGroup data\n",
    "person.update({\"bloodgroup\":\"B+\"})"
   ]
  },
  {
   "cell_type": "code",
   "execution_count": 17,
   "id": "8306dc19-523a-4824-bff6-5189c64c19d6",
   "metadata": {},
   "outputs": [
    {
     "data": {
      "text/plain": [
       "{'name': 'Sahil Kumar', 'age': 19, 'height': 5.7, 'bloodgroup': 'B+'}"
      ]
     },
     "execution_count": 17,
     "metadata": {},
     "output_type": "execute_result"
    }
   ],
   "source": [
    "person"
   ]
  },
  {
   "cell_type": "code",
   "execution_count": 18,
   "id": "c571f5ad-1f20-450f-83dc-c220a8da9619",
   "metadata": {},
   "outputs": [],
   "source": [
    "person.update({\"bloodgroup\":\"A+\",\"weight\":65})"
   ]
  },
  {
   "cell_type": "code",
   "execution_count": 19,
   "id": "e8faf298-e6f6-4881-a8bb-0dbb8aa0482c",
   "metadata": {},
   "outputs": [
    {
     "data": {
      "text/plain": [
       "{'name': 'Sahil Kumar',\n",
       " 'age': 19,\n",
       " 'height': 5.7,\n",
       " 'bloodgroup': 'A+',\n",
       " 'weight': 65}"
      ]
     },
     "execution_count": 19,
     "metadata": {},
     "output_type": "execute_result"
    }
   ],
   "source": [
    "person"
   ]
  },
  {
   "cell_type": "markdown",
   "id": "85db1c94-2142-4f6f-a43c-befdca5cd2c0",
   "metadata": {},
   "source": [
    "**removing data from dictionary using pop**"
   ]
  },
  {
   "cell_type": "code",
   "execution_count": 21,
   "id": "216e7ded-feb3-451c-8389-6df304e993cf",
   "metadata": {},
   "outputs": [
    {
     "data": {
      "text/plain": [
       "'A+'"
      ]
     },
     "execution_count": 21,
     "metadata": {},
     "output_type": "execute_result"
    }
   ],
   "source": [
    "# remove data with key name\n",
    "person.pop(\"bloodgroup\")\n",
    "# this removes the key from dictionry and returns the its value"
   ]
  },
  {
   "cell_type": "code",
   "execution_count": 22,
   "id": "5c4a8fa4-8137-4eca-8f1d-bb52539a2c5d",
   "metadata": {},
   "outputs": [
    {
     "data": {
      "text/plain": [
       "{'name': 'Sahil Kumar', 'age': 19, 'height': 5.7, 'weight': 65}"
      ]
     },
     "execution_count": 22,
     "metadata": {},
     "output_type": "execute_result"
    }
   ],
   "source": [
    "person"
   ]
  },
  {
   "cell_type": "markdown",
   "id": "c500b776-dd88-4f76-8546-03751bc2c7a5",
   "metadata": {},
   "source": [
    "**removing last added entry**"
   ]
  },
  {
   "cell_type": "code",
   "execution_count": 23,
   "id": "21b63831-e2e8-493f-babd-090e81e0f134",
   "metadata": {},
   "outputs": [
    {
     "data": {
      "text/plain": [
       "('weight', 65)"
      ]
     },
     "execution_count": 23,
     "metadata": {},
     "output_type": "execute_result"
    }
   ],
   "source": [
    "person.popitem()\n",
    "# this removes the last added entry from dictionary in (key,value) pair of tuple"
   ]
  },
  {
   "cell_type": "code",
   "execution_count": 25,
   "id": "6c4f723f-d7c1-4ac4-8811-d02aed8649d6",
   "metadata": {},
   "outputs": [
    {
     "data": {
      "text/plain": [
       "{'name': 'Sahil Kumar', 'age': 19, 'height': 5.7}"
      ]
     },
     "execution_count": 25,
     "metadata": {},
     "output_type": "execute_result"
    }
   ],
   "source": [
    "person"
   ]
  },
  {
   "cell_type": "markdown",
   "id": "1e7d636e-1bf9-4ea9-92f1-61698f1955c9",
   "metadata": {},
   "source": [
    "**Applying for loop in dictionary**"
   ]
  },
  {
   "cell_type": "code",
   "execution_count": 24,
   "id": "02198269-67a8-4cfc-9605-9e82d7d033be",
   "metadata": {},
   "outputs": [
    {
     "name": "stdout",
     "output_type": "stream",
     "text": [
      "name\n",
      "age\n",
      "height\n"
     ]
    }
   ],
   "source": [
    "for item in person:\n",
    "    print(item)"
   ]
  },
  {
   "cell_type": "markdown",
   "id": "088f2e1c-665d-48c5-8be6-4eb0cc947f3a",
   "metadata": {},
   "source": [
    "If we apply for loop on dictionary this will loop on key not on values."
   ]
  },
  {
   "cell_type": "code",
   "execution_count": 26,
   "id": "9cc42c50-1776-4129-956d-88e92e46b693",
   "metadata": {},
   "outputs": [
    {
     "name": "stdout",
     "output_type": "stream",
     "text": [
      "Name  Sahil Kumar\n",
      "Age  19\n",
      "Height  5.7\n"
     ]
    }
   ],
   "source": [
    "for key in person:\n",
    "    print(f\"{key.capitalize()} \", person[key])\n",
    "    "
   ]
  },
  {
   "cell_type": "markdown",
   "id": "b2be03fd-77df-4dff-9d4a-621cb2d36f9f",
   "metadata": {},
   "source": [
    "**Access all keys from dictionary : keys() method**"
   ]
  },
  {
   "cell_type": "code",
   "execution_count": 27,
   "id": "fbb748b4-145c-4267-b672-23d80c6a6992",
   "metadata": {},
   "outputs": [
    {
     "data": {
      "text/plain": [
       "dict_keys(['name', 'age', 'height'])"
      ]
     },
     "execution_count": 27,
     "metadata": {},
     "output_type": "execute_result"
    }
   ],
   "source": [
    "person.keys()"
   ]
  },
  {
   "cell_type": "code",
   "execution_count": 28,
   "id": "375c7935-e501-453c-8d98-ee4d4a24257e",
   "metadata": {},
   "outputs": [
    {
     "name": "stdout",
     "output_type": "stream",
     "text": [
      "name\n",
      "age\n",
      "height\n"
     ]
    }
   ],
   "source": [
    "# we can apply loop on object returned by .keys() method.\n",
    "for key in person.keys():\n",
    "    print(key)"
   ]
  },
  {
   "cell_type": "code",
   "execution_count": 29,
   "id": "36648e39-66e6-421f-b05f-b4af374e17d8",
   "metadata": {},
   "outputs": [],
   "source": [
    "person_keys = person.keys()"
   ]
  },
  {
   "cell_type": "code",
   "execution_count": 30,
   "id": "e142f8d3-9d2b-450e-b9aa-4b4af1f9d3ee",
   "metadata": {},
   "outputs": [
    {
     "name": "stdout",
     "output_type": "stream",
     "text": [
      "name\n",
      "age\n",
      "height\n"
     ]
    }
   ],
   "source": [
    "for key in person_keys:\n",
    "    print(key)"
   ]
  },
  {
   "cell_type": "markdown",
   "id": "1b1c5462-e299-47f8-a3ac-1bd6c2ec0553",
   "metadata": {},
   "source": [
    "**Access all values from dictionary: values() method**"
   ]
  },
  {
   "cell_type": "code",
   "execution_count": 31,
   "id": "06a80a2b-6b76-4401-b06b-0f1642b10532",
   "metadata": {},
   "outputs": [
    {
     "data": {
      "text/plain": [
       "dict_values(['Sahil Kumar', 19, 5.7])"
      ]
     },
     "execution_count": 31,
     "metadata": {},
     "output_type": "execute_result"
    }
   ],
   "source": [
    "person.values()"
   ]
  },
  {
   "cell_type": "code",
   "execution_count": 32,
   "id": "9e604127-44c0-4db2-a182-a47cbadaf9ad",
   "metadata": {},
   "outputs": [
    {
     "name": "stdout",
     "output_type": "stream",
     "text": [
      "Sahil Kumar\n",
      "19\n",
      "5.7\n"
     ]
    }
   ],
   "source": [
    "for value in person.values():\n",
    "    print(value)"
   ]
  },
  {
   "cell_type": "code",
   "execution_count": 33,
   "id": "26b95098-cf2d-4856-ac97-54c58684ecce",
   "metadata": {},
   "outputs": [],
   "source": [
    "# storing .values() emthod return value in a varaible \n",
    "person_values = person.values()"
   ]
  },
  {
   "cell_type": "code",
   "execution_count": 34,
   "id": "2917f335-a14e-4b71-a151-b25ed1c13c7d",
   "metadata": {},
   "outputs": [
    {
     "data": {
      "text/plain": [
       "dict_values(['Sahil Kumar', 19, 5.7])"
      ]
     },
     "execution_count": 34,
     "metadata": {},
     "output_type": "execute_result"
    }
   ],
   "source": [
    "person_values"
   ]
  },
  {
   "cell_type": "code",
   "execution_count": 35,
   "id": "21651b57-6d57-486e-9ee4-808d01952b23",
   "metadata": {},
   "outputs": [
    {
     "name": "stdout",
     "output_type": "stream",
     "text": [
      "Sahil Kumar\n",
      "19\n",
      "5.7\n"
     ]
    }
   ],
   "source": [
    "for value in person_values:\n",
    "    print(value)"
   ]
  },
  {
   "cell_type": "markdown",
   "id": "cb42be84-9fa8-475f-9b89-9afe0a3a6903",
   "metadata": {},
   "source": [
    "**Access all keys and value in (key,value) pair: items() method**"
   ]
  },
  {
   "cell_type": "code",
   "execution_count": 36,
   "id": "48d09fc0-d614-4849-800f-05e7743ce687",
   "metadata": {},
   "outputs": [
    {
     "data": {
      "text/plain": [
       "dict_items([('name', 'Sahil Kumar'), ('age', 19), ('height', 5.7)])"
      ]
     },
     "execution_count": 36,
     "metadata": {},
     "output_type": "execute_result"
    }
   ],
   "source": [
    "person.items()"
   ]
  },
  {
   "cell_type": "code",
   "execution_count": 38,
   "id": "8a641798-5fde-4889-ad2e-e4b5210cfe4d",
   "metadata": {},
   "outputs": [
    {
     "name": "stdout",
     "output_type": "stream",
     "text": [
      "('name', 'Sahil Kumar')\n",
      "('age', 19)\n",
      "('height', 5.7)\n"
     ]
    }
   ],
   "source": [
    "for item in person.items():\n",
    "    print(item)"
   ]
  },
  {
   "cell_type": "code",
   "execution_count": 40,
   "id": "2018717e-9c4c-489a-bc0d-bc7496c9ce2a",
   "metadata": {},
   "outputs": [
    {
     "name": "stdout",
     "output_type": "stream",
     "text": [
      "name \t Sahil Kumar\n",
      "age \t 19\n",
      "height \t 5.7\n"
     ]
    }
   ],
   "source": [
    "for item in person.items():\n",
    "    key,value = item\n",
    "    print(key, \"\\t\", value)"
   ]
  },
  {
   "cell_type": "code",
   "execution_count": null,
   "id": "edec09ea-e7c2-4d12-9249-88e1b75591d9",
   "metadata": {},
   "outputs": [],
   "source": []
  }
 ],
 "metadata": {
  "kernelspec": {
   "display_name": "Python 3 (ipykernel)",
   "language": "python",
   "name": "python3"
  },
  "language_info": {
   "codemirror_mode": {
    "name": "ipython",
    "version": 3
   },
   "file_extension": ".py",
   "mimetype": "text/x-python",
   "name": "python",
   "nbconvert_exporter": "python",
   "pygments_lexer": "ipython3",
   "version": "3.10.5"
  }
 },
 "nbformat": 4,
 "nbformat_minor": 5
}
