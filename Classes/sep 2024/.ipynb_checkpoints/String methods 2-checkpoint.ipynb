{
 "cells": [
  {
   "cell_type": "code",
   "execution_count": 1,
   "id": "8ddfbc6c-7646-4d79-a14d-4a5869d4ad2e",
   "metadata": {},
   "outputs": [],
   "source": [
    "mylist=[2,25,56,4,8,36,54,21]"
   ]
  },
  {
   "cell_type": "code",
   "execution_count": 3,
   "id": "1ee711c4-c738-43ca-a144-90bff2a7a2c2",
   "metadata": {},
   "outputs": [
    {
     "data": {
      "text/plain": [
       "[2, 25, 56, 4, 8, 36, 54, 21]"
      ]
     },
     "execution_count": 3,
     "metadata": {},
     "output_type": "execute_result"
    }
   ],
   "source": [
    "mylist.copy()"
   ]
  },
  {
   "cell_type": "code",
   "execution_count": 4,
   "id": "d36c54c3-512f-4cc1-9693-826a42ee9709",
   "metadata": {},
   "outputs": [
    {
     "data": {
      "text/plain": [
       "False"
      ]
     },
     "execution_count": 4,
     "metadata": {},
     "output_type": "execute_result"
    }
   ],
   "source": [
    "mylist is mylist.copy"
   ]
  },
  {
   "cell_type": "code",
   "execution_count": 9,
   "id": "c207dbfa-4c00-46b7-9e5f-a139b486fc7f",
   "metadata": {},
   "outputs": [],
   "source": [
    "copy_list= mylist.copy()"
   ]
  },
  {
   "cell_type": "code",
   "execution_count": 10,
   "id": "6409aa56-d221-4cad-80c8-004a6e13d1bb",
   "metadata": {},
   "outputs": [
    {
     "data": {
      "text/plain": [
       "[2, 25, 56, 4, 8, 36, 54, 21]"
      ]
     },
     "execution_count": 10,
     "metadata": {},
     "output_type": "execute_result"
    }
   ],
   "source": [
    "copy_list"
   ]
  },
  {
   "cell_type": "code",
   "execution_count": 11,
   "id": "b3ea4529-a37f-4630-a142-569a7cdfcccd",
   "metadata": {},
   "outputs": [],
   "source": [
    "copy_list.clear()"
   ]
  },
  {
   "cell_type": "code",
   "execution_count": 13,
   "id": "20f22ee2-6324-4d5a-b9b4-5b62e47f8c96",
   "metadata": {},
   "outputs": [
    {
     "data": {
      "text/plain": [
       "[]"
      ]
     },
     "execution_count": 13,
     "metadata": {},
     "output_type": "execute_result"
    }
   ],
   "source": [
    "copy_list"
   ]
  },
  {
   "cell_type": "code",
   "execution_count": 14,
   "id": "5a05affd-7133-44b4-8b49-5038f3068f81",
   "metadata": {},
   "outputs": [],
   "source": [
    "import random"
   ]
  },
  {
   "cell_type": "code",
   "execution_count": 16,
   "id": "902db485-b9b1-498d-8cce-aca64b9c3c5d",
   "metadata": {},
   "outputs": [
    {
     "data": {
      "text/plain": [
       "15"
      ]
     },
     "execution_count": 16,
     "metadata": {},
     "output_type": "execute_result"
    }
   ],
   "source": [
    "random.randint(1,52)"
   ]
  },
  {
   "cell_type": "code",
   "execution_count": 18,
   "id": "8c82dd7f-78d6-4255-89d0-4f1a11479080",
   "metadata": {},
   "outputs": [
    {
     "name": "stdout",
     "output_type": "stream",
     "text": [
      "6\n",
      "1\n",
      "2\n",
      "7\n",
      "42\n",
      "10\n",
      "7\n",
      "8\n",
      "14\n",
      "5\n"
     ]
    }
   ],
   "source": [
    "for i in range (10):\n",
    "    x=random.randint(1,52)\n",
    "    print (x)"
   ]
  },
  {
   "cell_type": "code",
   "execution_count": 19,
   "id": "5912a503-f244-40d0-bbca-08ba83ddc22e",
   "metadata": {},
   "outputs": [],
   "source": [
    "random_list=[]\n",
    "for i in range (20):\n",
    "     x = random.randint(1,52)\n",
    "     random_list.append(x)\n",
    "    "
   ]
  },
  {
   "cell_type": "code",
   "execution_count": 20,
   "id": "38011d21-a381-427e-b547-e480edebfe30",
   "metadata": {},
   "outputs": [
    {
     "data": {
      "text/plain": [
       "[52, 18, 1, 22, 26, 31, 10, 46, 31, 23, 12, 19, 25, 17, 18, 7, 50, 32, 26, 8]"
      ]
     },
     "execution_count": 20,
     "metadata": {},
     "output_type": "execute_result"
    }
   ],
   "source": [
    "random_list"
   ]
  },
  {
   "cell_type": "code",
   "execution_count": 21,
   "id": "c2c9eeb7-fb7f-4a92-81c9-17f1b6ff0e55",
   "metadata": {},
   "outputs": [
    {
     "data": {
      "text/plain": [
       "1"
      ]
     },
     "execution_count": 21,
     "metadata": {},
     "output_type": "execute_result"
    }
   ],
   "source": [
    "random_list.count(10)"
   ]
  },
  {
   "cell_type": "code",
   "execution_count": 22,
   "id": "b7bf7a84-9dfc-40a0-b088-50d9750a94f0",
   "metadata": {},
   "outputs": [
    {
     "data": {
      "text/plain": [
       "[2, 25, 56, 4, 8, 36, 54, 21]"
      ]
     },
     "execution_count": 22,
     "metadata": {},
     "output_type": "execute_result"
    }
   ],
   "source": [
    "mylist"
   ]
  },
  {
   "cell_type": "code",
   "execution_count": 23,
   "id": "914b04b5-c4d0-47c5-ad6a-e1eb0786df80",
   "metadata": {},
   "outputs": [
    {
     "data": {
      "text/plain": [
       "5"
      ]
     },
     "execution_count": 23,
     "metadata": {},
     "output_type": "execute_result"
    }
   ],
   "source": [
    "mylist.index(36)"
   ]
  },
  {
   "cell_type": "code",
   "execution_count": 26,
   "id": "b059c998-c022-480f-8215-e52faab672af",
   "metadata": {},
   "outputs": [
    {
     "name": "stdout",
     "output_type": "stream",
     "text": [
      "1: 1\n",
      "2: 0\n",
      "3: 0\n",
      "4: 0\n",
      "5: 0\n",
      "6: 0\n",
      "7: 1\n",
      "8: 1\n",
      "9: 0\n"
     ]
    }
   ],
   "source": [
    "for n in range(1,10):\n",
    "    count=random_list.count(n)\n",
    "    print(f\"{n}: {count}\")\n",
    "    "
   ]
  },
  {
   "cell_type": "markdown",
   "id": "1989d6be-bcb3-43e3-926b-ee0a6bb74cf3",
   "metadata": {},
   "source": [
    "**string replace method**"
   ]
  },
  {
   "cell_type": "code",
   "execution_count": 17,
   "id": "c9860f3c-8afb-478f-8e92-2d286de342a2",
   "metadata": {},
   "outputs": [],
   "source": [
    "headers = \"Date;Date Time;Numerical Value;Financial Value;Address;Email;Phone Number;Employee ID;Department;Job Title\""
   ]
  },
  {
   "cell_type": "code",
   "execution_count": 18,
   "id": "6c74bdf4-a8d5-44fe-b36f-b8d1e1355287",
   "metadata": {},
   "outputs": [
    {
     "data": {
      "text/plain": [
       "['Date',\n",
       " 'Date Time',\n",
       " 'Numerical Value',\n",
       " 'Financial Value',\n",
       " 'Address',\n",
       " 'Email',\n",
       " 'Phone Number',\n",
       " 'Employee ID',\n",
       " 'Department',\n",
       " 'Job Title']"
      ]
     },
     "execution_count": 18,
     "metadata": {},
     "output_type": "execute_result"
    }
   ],
   "source": [
    "headers.split(\";\")\n",
    "# returned value of split method is list"
   ]
  },
  {
   "cell_type": "code",
   "execution_count": 8,
   "id": "40fd08bb-2c15-43aa-8c07-1b43d3c43b1d",
   "metadata": {},
   "outputs": [],
   "source": [
    "result = headers.split(\";\")"
   ]
  },
  {
   "cell_type": "code",
   "execution_count": 9,
   "id": "4cfa2ce0-92c4-4862-ae31-f0a4dffcae35",
   "metadata": {},
   "outputs": [
    {
     "data": {
      "text/plain": [
       "list"
      ]
     },
     "execution_count": 9,
     "metadata": {},
     "output_type": "execute_result"
    }
   ],
   "source": [
    "type(result)"
   ]
  },
  {
   "cell_type": "code",
   "execution_count": 6,
   "id": "5a6042ea-b607-4a50-8fcb-5dbcdb058be4",
   "metadata": {},
   "outputs": [
    {
     "data": {
      "text/plain": [
       "'Date'"
      ]
     },
     "execution_count": 6,
     "metadata": {},
     "output_type": "execute_result"
    }
   ],
   "source": [
    "result[0]"
   ]
  },
  {
   "cell_type": "code",
   "execution_count": 7,
   "id": "f0c2faff-1590-41e2-87dc-d9553f9cc294",
   "metadata": {},
   "outputs": [
    {
     "data": {
      "text/plain": [
       "'Date Time'"
      ]
     },
     "execution_count": 7,
     "metadata": {},
     "output_type": "execute_result"
    }
   ],
   "source": [
    "result[1]"
   ]
  },
  {
   "cell_type": "markdown",
   "id": "0e612c97-3197-4062-a130-3b91cdb9e63e",
   "metadata": {},
   "source": [
    "**joining all list items**"
   ]
  },
  {
   "cell_type": "code",
   "execution_count": 10,
   "id": "432b1d96-48fa-4d59-a3c8-4763458b90d4",
   "metadata": {},
   "outputs": [
    {
     "data": {
      "text/plain": [
       "'Date,Date Time,Numerical Value,Financial Value,Address,Email,Phone Number,Employee ID,Department,Job Title'"
      ]
     },
     "execution_count": 10,
     "metadata": {},
     "output_type": "execute_result"
    }
   ],
   "source": [
    "\",\".join(result)\n",
    "# join input is list/sequence/iterable and returns a joined string with "
   ]
  },
  {
   "cell_type": "code",
   "execution_count": 11,
   "id": "cf4c5f05-e72e-4cee-90bb-24daf975d03f",
   "metadata": {},
   "outputs": [
    {
     "data": {
      "text/plain": [
       "'Date#Date Time#Numerical Value#Financial Value#Address#Email#Phone Number#Employee ID#Department#Job Title'"
      ]
     },
     "execution_count": 11,
     "metadata": {},
     "output_type": "execute_result"
    }
   ],
   "source": [
    "\"#\".join(result)"
   ]
  },
  {
   "cell_type": "markdown",
   "id": "2052afb8-5692-40a0-a2ab-943816e62c6f",
   "metadata": {},
   "source": [
    "**replace method**"
   ]
  },
  {
   "cell_type": "code",
   "execution_count": 12,
   "id": "f8fc2c59-9c2c-438e-8cdb-1bed7a3e1aa7",
   "metadata": {},
   "outputs": [
    {
     "data": {
      "text/plain": [
       "'Date;DateTime;Numerical Value;Financial Value;Address;Email;Phone Number;Employee ID;Department;Job Title'"
      ]
     },
     "execution_count": 12,
     "metadata": {},
     "output_type": "execute_result"
    }
   ],
   "source": [
    "# Date Time -> DateTime\n",
    "headers.replace(\"Date Time\",\"DateTime\")\n",
    "# replace: returnes new string."
   ]
  },
  {
   "cell_type": "code",
   "execution_count": 13,
   "id": "8641fea2-4d58-4bb8-9b20-28a5c4b2733d",
   "metadata": {},
   "outputs": [
    {
     "data": {
      "text/plain": [
       "'Date;DateTime;Numerical Value;Financial Value;Address;Email;Phone Number;Employee ID;Department;Job Title'"
      ]
     },
     "execution_count": 13,
     "metadata": {},
     "output_type": "execute_result"
    }
   ],
   "source": [
    "# storing the returned value to xheaders\n",
    "xheaders = headers.replace(\"Date Time\",\"DateTime\")\n",
    "xheaders"
   ]
  },
  {
   "cell_type": "code",
   "execution_count": 14,
   "id": "416dd6ad-1ee3-4da6-9eac-b28d38c6bf45",
   "metadata": {},
   "outputs": [
    {
     "data": {
      "text/plain": [
       "'Date;DateTime;Age;Financial Value;Address;Email;Phone Number;Employee ID;Department;Job Title'"
      ]
     },
     "execution_count": 14,
     "metadata": {},
     "output_type": "execute_result"
    }
   ],
   "source": [
    "# Numerical Value -> Age\n",
    "xheaders.replace(\"Numerical Value\", \"Age\")"
   ]
  },
  {
   "cell_type": "code",
   "execution_count": 15,
   "id": "3a3db20f-90a4-420f-8bc1-edd25348f6f6",
   "metadata": {},
   "outputs": [],
   "source": [
    "xheaders = xheaders.replace(\"Numerical Value\", \"Age\")"
   ]
  },
  {
   "cell_type": "code",
   "execution_count": 16,
   "id": "88ee84c7-9f10-4c95-b750-8be5cfbd2b5e",
   "metadata": {},
   "outputs": [
    {
     "data": {
      "text/plain": [
       "'Date;DateTime;Age;Financial Value;Address;Email;Phone Number;Employee ID;Department;Job Title'"
      ]
     },
     "execution_count": 16,
     "metadata": {},
     "output_type": "execute_result"
    }
   ],
   "source": [
    "xheaders"
   ]
  },
  {
   "cell_type": "code",
   "execution_count": 17,
   "id": "5b9aa4ac-e2bf-4e7d-a5c7-ef0f60335c3a",
   "metadata": {},
   "outputs": [],
   "source": [
    "xheaders = xheaders.replace(\"Financial Value\", \"Salary\")"
   ]
  },
  {
   "cell_type": "code",
   "execution_count": 18,
   "id": "f6c50f71-0ec4-4b3b-826d-51d5d5ed834f",
   "metadata": {},
   "outputs": [
    {
     "data": {
      "text/plain": [
       "'Date;DateTime;Age;Salary;Address;Email;Phone Number;Employee ID;Department;Job Title'"
      ]
     },
     "execution_count": 18,
     "metadata": {},
     "output_type": "execute_result"
    }
   ],
   "source": [
    "xheaders"
   ]
  },
  {
   "cell_type": "markdown",
   "id": "2f9be2f1-264e-47dc-8246-91756de5665a",
   "metadata": {},
   "source": [
    "**Advance change technique 1: Using chain of methods on returned value**"
   ]
  },
  {
   "cell_type": "code",
   "execution_count": 19,
   "id": "e9abc0e3-f1b0-462e-a87a-e8282486a49b",
   "metadata": {},
   "outputs": [
    {
     "data": {
      "text/plain": [
       "'Date;DateTime;Age;Salary;Address;Email;Phone Number;Employee ID;Department;Job Title'"
      ]
     },
     "execution_count": 19,
     "metadata": {},
     "output_type": "execute_result"
    }
   ],
   "source": [
    "headers.replace(\"Date Time\",\"DateTime\").replace(\"Numerical Value\", \"Age\").replace(\"Financial Value\", \"Salary\")"
   ]
  },
  {
   "cell_type": "markdown",
   "id": "bd944158-1f59-47c0-9892-f5acb7716ca6",
   "metadata": {},
   "source": [
    "**startswith and endswith**"
   ]
  },
  {
   "cell_type": "code",
   "execution_count": 1,
   "id": "1a8159e5-1891-4f31-a644-16291902b2e5",
   "metadata": {},
   "outputs": [],
   "source": [
    "emp1 = \"ME-8565-001\"\n",
    "emp2 = \"IT-9652-002\""
   ]
  },
  {
   "cell_type": "code",
   "execution_count": 5,
   "id": "4b741245-6440-41c6-868a-e4317e63ec29",
   "metadata": {},
   "outputs": [
    {
     "data": {
      "text/plain": [
       "True"
      ]
     },
     "execution_count": 5,
     "metadata": {},
     "output_type": "execute_result"
    }
   ],
   "source": [
    "# testing that emp id starting with ME\n",
    "emp1.startswith(\"ME\")"
   ]
  },
  {
   "cell_type": "code",
   "execution_count": 6,
   "id": "94415d40-54ac-40f8-9df6-1d2695c7f6bf",
   "metadata": {},
   "outputs": [
    {
     "data": {
      "text/plain": [
       "False"
      ]
     },
     "execution_count": 6,
     "metadata": {},
     "output_type": "execute_result"
    }
   ],
   "source": [
    "emp2.startswith(\"ME\")"
   ]
  },
  {
   "cell_type": "code",
   "execution_count": 7,
   "id": "24eacd01-b0a1-4e96-97e5-302adc8b36c2",
   "metadata": {},
   "outputs": [],
   "source": [
    "# ends with s substring"
   ]
  },
  {
   "cell_type": "code",
   "execution_count": 8,
   "id": "f5238788-dee5-4a4f-9271-356074db0313",
   "metadata": {},
   "outputs": [
    {
     "data": {
      "text/plain": [
       "True"
      ]
     },
     "execution_count": 8,
     "metadata": {},
     "output_type": "execute_result"
    }
   ],
   "source": [
    "emp1.endswith(\"001\")"
   ]
  },
  {
   "cell_type": "code",
   "execution_count": 10,
   "id": "0d88cb62-72b4-438b-aa35-7e68c7253495",
   "metadata": {},
   "outputs": [
    {
     "data": {
      "text/plain": [
       "False"
      ]
     },
     "execution_count": 10,
     "metadata": {},
     "output_type": "execute_result"
    }
   ],
   "source": [
    "emp2.endswith(\"001\")"
   ]
  },
  {
   "cell_type": "markdown",
   "id": "141cce1d-4332-42e9-ab68-d483b939509e",
   "metadata": {},
   "source": [
    "**removeprefix and removesuffix**"
   ]
  },
  {
   "cell_type": "code",
   "execution_count": 12,
   "id": "9b429dc3-1f44-430f-b4f7-0b18be0b50e1",
   "metadata": {},
   "outputs": [
    {
     "data": {
      "text/plain": [
       "'-8565-001'"
      ]
     },
     "execution_count": 12,
     "metadata": {},
     "output_type": "execute_result"
    }
   ],
   "source": [
    "emp1.removeprefix(\"ME\")"
   ]
  },
  {
   "cell_type": "code",
   "execution_count": 13,
   "id": "c9e4e1b0-7f99-42d6-a003-c03d075d9eba",
   "metadata": {},
   "outputs": [
    {
     "data": {
      "text/plain": [
       "'ME-8565-001'"
      ]
     },
     "execution_count": 13,
     "metadata": {},
     "output_type": "execute_result"
    }
   ],
   "source": [
    "emp1"
   ]
  },
  {
   "cell_type": "code",
   "execution_count": 15,
   "id": "ec623d9e-ae8d-4698-93d7-c65e8b85d390",
   "metadata": {},
   "outputs": [
    {
     "data": {
      "text/plain": [
       "'-9652-002'"
      ]
     },
     "execution_count": 15,
     "metadata": {},
     "output_type": "execute_result"
    }
   ],
   "source": [
    "emp2.removeprefix(\"IT\")"
   ]
  },
  {
   "cell_type": "code",
   "execution_count": 16,
   "id": "978a91fd-994c-4223-84df-e40efcbef567",
   "metadata": {},
   "outputs": [
    {
     "data": {
      "text/plain": [
       "'IT-9652-'"
      ]
     },
     "execution_count": 16,
     "metadata": {},
     "output_type": "execute_result"
    }
   ],
   "source": [
    "emp2.removesuffix(\"002\")"
   ]
  },
  {
   "cell_type": "markdown",
   "id": "744782c8-9371-47c7-a562-5c1b0c99fa47",
   "metadata": {},
   "source": [
    "**center, ljust, rjust**"
   ]
  },
  {
   "cell_type": "code",
   "execution_count": 19,
   "id": "cbecc913-80c4-4718-81d9-86cd58e806e5",
   "metadata": {},
   "outputs": [],
   "source": [
    "myStr = \"Sahil\""
   ]
  },
  {
   "cell_type": "code",
   "execution_count": 20,
   "id": "d4990605-3aed-47e4-b7bc-345b75d28892",
   "metadata": {},
   "outputs": [
    {
     "data": {
      "text/plain": [
       "'     Sahil     '"
      ]
     },
     "execution_count": 20,
     "metadata": {},
     "output_type": "execute_result"
    }
   ],
   "source": [
    "myStr.center(15)"
   ]
  },
  {
   "cell_type": "code",
   "execution_count": 21,
   "id": "a7734639-f43e-4e82-b558-28e38525ca2d",
   "metadata": {},
   "outputs": [
    {
     "data": {
      "text/plain": [
       "'Sahil          '"
      ]
     },
     "execution_count": 21,
     "metadata": {},
     "output_type": "execute_result"
    }
   ],
   "source": [
    "myStr.ljust(15)"
   ]
  },
  {
   "cell_type": "code",
   "execution_count": 22,
   "id": "7b1fb49a-34f0-4bc4-a7af-eea859e9a024",
   "metadata": {},
   "outputs": [
    {
     "data": {
      "text/plain": [
       "'          Sahil'"
      ]
     },
     "execution_count": 22,
     "metadata": {},
     "output_type": "execute_result"
    }
   ],
   "source": [
    "myStr.rjust(15)"
   ]
  },
  {
   "cell_type": "code",
   "execution_count": 24,
   "id": "6d686dc1-b346-45a2-9ed4-17f66610758d",
   "metadata": {},
   "outputs": [
    {
     "data": {
      "text/plain": [
       "['Date',\n",
       " 'Date Time',\n",
       " 'Numerical Value',\n",
       " 'Financial Value',\n",
       " 'Address',\n",
       " 'Email',\n",
       " 'Phone Number',\n",
       " 'Employee ID',\n",
       " 'Department',\n",
       " 'Job Title']"
      ]
     },
     "execution_count": 24,
     "metadata": {},
     "output_type": "execute_result"
    }
   ],
   "source": [
    "headers.split(\";\")"
   ]
  },
  {
   "cell_type": "code",
   "execution_count": 31,
   "id": "f3825849-54f9-46b2-bfc2-182207ad650f",
   "metadata": {},
   "outputs": [
    {
     "name": "stdout",
     "output_type": "stream",
     "text": [
      "Date               |        Date        |               Date\n",
      "Date Time          |     Date Time      |          Date Time\n",
      "Numerical Value    |  Numerical Value   |    Numerical Value\n",
      "Financial Value    |  Financial Value   |    Financial Value\n",
      "Address            |      Address       |            Address\n",
      "Email              |       Email        |              Email\n",
      "Phone Number       |    Phone Number    |       Phone Number\n",
      "Employee ID        |    Employee ID     |        Employee ID\n",
      "Department         |     Department     |         Department\n",
      "Job Title          |     Job Title      |          Job Title\n"
     ]
    }
   ],
   "source": [
    "for column in headers.split(\";\"):\n",
    "    print(column.ljust(18),\"|\", column.center(18),\"|\", column.rjust(18))"
   ]
  },
  {
   "cell_type": "code",
   "execution_count": 32,
   "id": "9a79c068-5e33-4dd6-b3d7-aef405db2c3e",
   "metadata": {},
   "outputs": [],
   "source": [
    "raw_data = \"\"\"Date;Date Time;Numerical Value;Financial Value;Address;Email;Phone Number;Employee ID;Department;Job Title\n",
    "\"10/25/2024\";\"14:32:11\";\"3,451.98\";\"$12,543.00\";\"123 Main St; Anytown, USA 12345\";\"goKu_Ultra@goku.com\";\"555-123-4567\";\"IT-9876;1\";\"IT\";\"Software Developer\"\n",
    "\"2023-Nov-11\";\"9:15 AM\";\"N/A\";\"$4,987.23\";\"456 Elm Street; Anytown; CA 90210\";\"i.amGroot@edu.org\";\"098-765-4321\";\"ME-1234-002\";\"Mechanical Engineering\";\"Design Engineer\"\n",
    "\"Sometime;2023\";\"77\";\"$88.88\";\"7th Heaven; Neverland\";\"tonyStark1000@StarkIndustries.com\";\"4534   454  234\";\"EE;0005\";\"Electrical Engineering\";\"Electrical Technician\"\n",
    "\"24-Sept-2024\";\" \";\"100\";\"N/A\";\"1 Infinite Loop; Cupertino, CA\";\"Steve.Jobs@Apple.com\";\"Invalid Number\";\"CS-3421;03\";\"Computer Science\";\"Data Scientist\"\n",
    "\"10/26/2024\";\"08:00\";\"42\";\"$21,987.65\";\"221B Baker St; London\";\"Sherlock@Holmes.com\";\"(+44) 20 7224 3688\";\"RE-0987;001\";\"Renewable Energy\";\"Project Manager\"\n",
    "\"20-10-2024\";\"11 AM\";\" \";\"€12,345.67\";\"Rue de la Paix; Paris, France\";\"Coco.Chanel@Fashion.com\";\"Incorrect Format\";\"IT;1234\";\"IT\";\"Network Administrator\"\n",
    "\"\"\""
   ]
  },
  {
   "cell_type": "markdown",
   "id": "2ebeafd0-801a-4f98-81ea-44e198837e61",
   "metadata": {},
   "source": [
    "**splitlines**"
   ]
  },
  {
   "cell_type": "code",
   "execution_count": 33,
   "id": "33c30b8d-3b4c-4fe4-add1-f4dd2d9172c8",
   "metadata": {},
   "outputs": [
    {
     "data": {
      "text/plain": [
       "['Date;Date Time;Numerical Value;Financial Value;Address;Email;Phone Number;Employee ID;Department;Job Title',\n",
       " '\"10/25/2024\";\"14:32:11\";\"3,451.98\";\"$12,543.00\";\"123 Main St; Anytown, USA 12345\";\"goKu_Ultra@goku.com\";\"555-123-4567\";\"IT-9876;1\";\"IT\";\"Software Developer\"',\n",
       " '\"2023-Nov-11\";\"9:15 AM\";\"N/A\";\"$4,987.23\";\"456 Elm Street; Anytown; CA 90210\";\"i.amGroot@edu.org\";\"098-765-4321\";\"ME-1234-002\";\"Mechanical Engineering\";\"Design Engineer\"',\n",
       " '\"Sometime;2023\";\"77\";\"$88.88\";\"7th Heaven; Neverland\";\"tonyStark1000@StarkIndustries.com\";\"4534   454  234\";\"EE;0005\";\"Electrical Engineering\";\"Electrical Technician\"',\n",
       " '\"24-Sept-2024\";\" \";\"100\";\"N/A\";\"1 Infinite Loop; Cupertino, CA\";\"Steve.Jobs@Apple.com\";\"Invalid Number\";\"CS-3421;03\";\"Computer Science\";\"Data Scientist\"',\n",
       " '\"10/26/2024\";\"08:00\";\"42\";\"$21,987.65\";\"221B Baker St; London\";\"Sherlock@Holmes.com\";\"(+44) 20 7224 3688\";\"RE-0987;001\";\"Renewable Energy\";\"Project Manager\"',\n",
       " '\"20-10-2024\";\"11 AM\";\" \";\"€12,345.67\";\"Rue de la Paix; Paris, France\";\"Coco.Chanel@Fashion.com\";\"Incorrect Format\";\"IT;1234\";\"IT\";\"Network Administrator\"']"
      ]
     },
     "execution_count": 33,
     "metadata": {},
     "output_type": "execute_result"
    }
   ],
   "source": [
    "raw_data.splitlines()"
   ]
  },
  {
   "cell_type": "code",
   "execution_count": 37,
   "id": "711e4490-84c5-4538-9e98-2a5f4427f2f3",
   "metadata": {},
   "outputs": [
    {
     "name": "stdout",
     "output_type": "stream",
     "text": [
      "Date;Date Time;Numerical Value;Financial Value;Address;Email;Phone Number;Employee ID;Department;Job Title \n",
      "\n",
      "\"10/25/2024\";\"14:32:11\";\"3,451.98\";\"$12,543.00\";\"123 Main St; Anytown, USA 12345\";\"goKu_Ultra@goku.com\";\"555-123-4567\";\"IT-9876;1\";\"IT\";\"Software Developer\" \n",
      "\n",
      "\"2023-Nov-11\";\"9:15 AM\";\"N/A\";\"$4,987.23\";\"456 Elm Street; Anytown; CA 90210\";\"i.amGroot@edu.org\";\"098-765-4321\";\"ME-1234-002\";\"Mechanical Engineering\";\"Design Engineer\" \n",
      "\n",
      "\"Sometime;2023\";\"77\";\"$88.88\";\"7th Heaven; Neverland\";\"tonyStark1000@StarkIndustries.com\";\"4534   454  234\";\"EE;0005\";\"Electrical Engineering\";\"Electrical Technician\" \n",
      "\n",
      "\"24-Sept-2024\";\" \";\"100\";\"N/A\";\"1 Infinite Loop; Cupertino, CA\";\"Steve.Jobs@Apple.com\";\"Invalid Number\";\"CS-3421;03\";\"Computer Science\";\"Data Scientist\" \n",
      "\n",
      "\"10/26/2024\";\"08:00\";\"42\";\"$21,987.65\";\"221B Baker St; London\";\"Sherlock@Holmes.com\";\"(+44) 20 7224 3688\";\"RE-0987;001\";\"Renewable Energy\";\"Project Manager\" \n",
      "\n",
      "\"20-10-2024\";\"11 AM\";\" \";\"€12,345.67\";\"Rue de la Paix; Paris, France\";\"Coco.Chanel@Fashion.com\";\"Incorrect Format\";\"IT;1234\";\"IT\";\"Network Administrator\" \n",
      "\n"
     ]
    }
   ],
   "source": [
    "for line in raw_data.splitlines():\n",
    "    print(line, \"\\n\")"
   ]
  },
  {
   "cell_type": "code",
   "execution_count": 39,
   "id": "a44bce27-092b-435a-b1be-00067fe4cb32",
   "metadata": {},
   "outputs": [
    {
     "name": "stdout",
     "output_type": "stream",
     "text": [
      "Date                 Date Time            Numerical Value      Financial Value      Address             \n",
      "\"10/25/2024\"         \"14:32:11\"           \"3,451.98\"           \"$12,543.00\"         \"123 Main St        \n",
      "\"2023-Nov-11\"        \"9:15 AM\"            \"N/A\"                \"$4,987.23\"          \"456 Elm Street     \n",
      "\"Sometime            2023\"                \"77\"                 \"$88.88\"             \"7th Heaven         \n",
      "\"24-Sept-2024\"       \" \"                  \"100\"                \"N/A\"                \"1 Infinite Loop    \n",
      "\"10/26/2024\"         \"08:00\"              \"42\"                 \"$21,987.65\"         \"221B Baker St      \n",
      "\"20-10-2024\"         \"11 AM\"              \" \"                  \"€12,345.67\"         \"Rue de la Paix     \n"
     ]
    }
   ],
   "source": [
    "for line in raw_data.splitlines():\n",
    "    data = line.split(\";\")[:5] \n",
    "    \n",
    "    col1,col2,col3,col4,col5 = data\n",
    "    print(col1.ljust(20),col2.ljust(20),col3.ljust(20),col4.ljust(20),col5.ljust(20))"
   ]
  },
  {
   "cell_type": "code",
   "execution_count": null,
   "id": "b3d6f95c-1b5f-4a19-916a-b76730bc98a5",
   "metadata": {},
   "outputs": [],
   "source": []
  },
  {
   "cell_type": "markdown",
   "id": "28a08b1f-cda2-44bc-9fa3-f9a86ae503ee",
   "metadata": {},
   "source": [
    "**is methods**\n",
    "\n",
    "1. isupper\n",
    "2. islower\n",
    "3. isalpha\n",
    "4. isnumeric\n",
    "5. isdigit\n",
    "6. istitle\n",
    "7. isalnum"
   ]
  },
  {
   "cell_type": "code",
   "execution_count": 1,
   "id": "c774221d-0c0b-4652-9edc-98d8316504ac",
   "metadata": {},
   "outputs": [],
   "source": [
    "myStr = \"hello\""
   ]
  },
  {
   "cell_type": "code",
   "execution_count": 2,
   "id": "4e992b67-4f87-4f5a-92fc-c13b5d5cceff",
   "metadata": {},
   "outputs": [
    {
     "data": {
      "text/plain": [
       "'HELLO'"
      ]
     },
     "execution_count": 2,
     "metadata": {},
     "output_type": "execute_result"
    }
   ],
   "source": [
    "myStr.upper()"
   ]
  },
  {
   "cell_type": "code",
   "execution_count": 4,
   "id": "eebe0cc7-69f0-4f9f-b3bd-8fd80037c6ae",
   "metadata": {},
   "outputs": [],
   "source": [
    "xmyStr = myStr.upper()"
   ]
  },
  {
   "cell_type": "code",
   "execution_count": 5,
   "id": "dfa29a97-7d91-4d0d-9324-69ee1234bbc6",
   "metadata": {},
   "outputs": [
    {
     "data": {
      "text/plain": [
       "True"
      ]
     },
     "execution_count": 5,
     "metadata": {},
     "output_type": "execute_result"
    }
   ],
   "source": [
    "xmyStr.isupper()"
   ]
  },
  {
   "cell_type": "code",
   "execution_count": 6,
   "id": "6ca6180d-d932-4012-b02c-6dfcd5d121b9",
   "metadata": {},
   "outputs": [
    {
     "data": {
      "text/plain": [
       "'HELLO'"
      ]
     },
     "execution_count": 6,
     "metadata": {},
     "output_type": "execute_result"
    }
   ],
   "source": [
    "xmyStr"
   ]
  },
  {
   "cell_type": "code",
   "execution_count": 7,
   "id": "a647fae6-27b2-47ad-beb4-fa1be594050c",
   "metadata": {},
   "outputs": [
    {
     "data": {
      "text/plain": [
       "False"
      ]
     },
     "execution_count": 7,
     "metadata": {},
     "output_type": "execute_result"
    }
   ],
   "source": [
    "# Hello is upper\n",
    "xmyStr = \"Hello\"\n",
    "xmyStr.isupper()"
   ]
  },
  {
   "cell_type": "code",
   "execution_count": 8,
   "id": "4397bb14-fd58-4058-9246-721d09058b3c",
   "metadata": {},
   "outputs": [
    {
     "data": {
      "text/plain": [
       "False"
      ]
     },
     "execution_count": 8,
     "metadata": {},
     "output_type": "execute_result"
    }
   ],
   "source": [
    "xmyStr.islower()"
   ]
  },
  {
   "cell_type": "code",
   "execution_count": 9,
   "id": "afeafbe1-9a5a-4450-b9c8-9b0fe171c870",
   "metadata": {},
   "outputs": [
    {
     "data": {
      "text/plain": [
       "'hello'"
      ]
     },
     "execution_count": 9,
     "metadata": {},
     "output_type": "execute_result"
    }
   ],
   "source": [
    "xmyStr.lower()"
   ]
  },
  {
   "cell_type": "code",
   "execution_count": 10,
   "id": "6e3764ce-9996-4569-977e-86860b0e1bc3",
   "metadata": {},
   "outputs": [],
   "source": [
    "xmyStr = xmyStr.lower()"
   ]
  },
  {
   "cell_type": "code",
   "execution_count": 11,
   "id": "42461ee4-026b-4abf-9053-a77e1ac9005d",
   "metadata": {},
   "outputs": [
    {
     "data": {
      "text/plain": [
       "'hello'"
      ]
     },
     "execution_count": 11,
     "metadata": {},
     "output_type": "execute_result"
    }
   ],
   "source": [
    "xmyStr"
   ]
  },
  {
   "cell_type": "code",
   "execution_count": 12,
   "id": "e455851e-1f3d-45c0-be64-546bd01a6704",
   "metadata": {},
   "outputs": [
    {
     "data": {
      "text/plain": [
       "True"
      ]
     },
     "execution_count": 12,
     "metadata": {},
     "output_type": "execute_result"
    }
   ],
   "source": [
    "xmyStr.islower()"
   ]
  },
  {
   "cell_type": "markdown",
   "id": "9d62efcc-d617-4a06-a7fe-a4f8b4905f1b",
   "metadata": {},
   "source": [
    "**isalpha, isalnum, isnumeric, isdigit**"
   ]
  },
  {
   "cell_type": "code",
   "execution_count": 13,
   "id": "92ff3d17-d640-4f7a-83a1-3052c2415100",
   "metadata": {},
   "outputs": [],
   "source": [
    "myStr = \"hello\"\n",
    "myStr1 = \"hello123\""
   ]
  },
  {
   "cell_type": "code",
   "execution_count": 15,
   "id": "b42fa11a-cee6-41a1-a4e8-dd4a233622ae",
   "metadata": {},
   "outputs": [
    {
     "data": {
      "text/plain": [
       "True"
      ]
     },
     "execution_count": 15,
     "metadata": {},
     "output_type": "execute_result"
    }
   ],
   "source": [
    "myStr.isalpha()"
   ]
  },
  {
   "cell_type": "code",
   "execution_count": 16,
   "id": "9f4cbef9-cc4b-47b9-9b55-e3d7628347a5",
   "metadata": {},
   "outputs": [
    {
     "data": {
      "text/plain": [
       "False"
      ]
     },
     "execution_count": 16,
     "metadata": {},
     "output_type": "execute_result"
    }
   ],
   "source": [
    "myStr1.isalpha()"
   ]
  },
  {
   "cell_type": "code",
   "execution_count": 17,
   "id": "bd05404b-aa1e-409d-afb3-1fd6f47df17c",
   "metadata": {},
   "outputs": [
    {
     "data": {
      "text/plain": [
       "True"
      ]
     },
     "execution_count": 17,
     "metadata": {},
     "output_type": "execute_result"
    }
   ],
   "source": [
    "myStr1.isalnum()"
   ]
  },
  {
   "cell_type": "code",
   "execution_count": 18,
   "id": "97e86aa9-3da4-4de0-8f03-1520c78e96d4",
   "metadata": {},
   "outputs": [],
   "source": [
    "xmyStr = \"hello 123\""
   ]
  },
  {
   "cell_type": "code",
   "execution_count": 20,
   "id": "a15d4c78-32a1-4ab9-8dd3-fb661ca9aff9",
   "metadata": {},
   "outputs": [
    {
     "data": {
      "text/plain": [
       "False"
      ]
     },
     "execution_count": 20,
     "metadata": {},
     "output_type": "execute_result"
    }
   ],
   "source": [
    "xmyStr.isalpha()"
   ]
  },
  {
   "cell_type": "code",
   "execution_count": 21,
   "id": "36392615-d00b-4123-8227-28c696b713b0",
   "metadata": {},
   "outputs": [
    {
     "data": {
      "text/plain": [
       "False"
      ]
     },
     "execution_count": 21,
     "metadata": {},
     "output_type": "execute_result"
    }
   ],
   "source": [
    "xmyStr.isalnum()"
   ]
  },
  {
   "cell_type": "markdown",
   "id": "dbb12e14-f3db-4a78-ac78-6370ec12bd8f",
   "metadata": {},
   "source": [
    "Note: `' '` (space) does not consider as alphabetic/numeric character "
   ]
  },
  {
   "cell_type": "code",
   "execution_count": 22,
   "id": "88803b6d-f679-44af-862d-e565ed76cd33",
   "metadata": {},
   "outputs": [],
   "source": [
    "xmyStr = \"123\""
   ]
  },
  {
   "cell_type": "code",
   "execution_count": 25,
   "id": "d422600f-6a06-4204-a0f9-9bda7c74a035",
   "metadata": {},
   "outputs": [
    {
     "data": {
      "text/plain": [
       "'hello123'"
      ]
     },
     "execution_count": 25,
     "metadata": {},
     "output_type": "execute_result"
    }
   ],
   "source": [
    "myStr1"
   ]
  },
  {
   "cell_type": "code",
   "execution_count": 26,
   "id": "1fdf585f-0e57-4645-a883-076dfb6d6cf7",
   "metadata": {},
   "outputs": [
    {
     "data": {
      "text/plain": [
       "False"
      ]
     },
     "execution_count": 26,
     "metadata": {},
     "output_type": "execute_result"
    }
   ],
   "source": [
    "myStr1.isdigit()"
   ]
  },
  {
   "cell_type": "code",
   "execution_count": 27,
   "id": "fb2da573-4ddb-4bed-bba3-f792ef1e7db8",
   "metadata": {},
   "outputs": [
    {
     "data": {
      "text/plain": [
       "True"
      ]
     },
     "execution_count": 27,
     "metadata": {},
     "output_type": "execute_result"
    }
   ],
   "source": [
    "xmyStr.isdigit()"
   ]
  },
  {
   "cell_type": "code",
   "execution_count": 28,
   "id": "0fb55252-540a-45f4-96ca-6bf3c3495c6d",
   "metadata": {},
   "outputs": [],
   "source": [
    "quadratic_formula = \"ax^2 + bx + c\""
   ]
  },
  {
   "cell_type": "code",
   "execution_count": 29,
   "id": "99639a42-1833-4ee3-b009-40974cd5cf83",
   "metadata": {},
   "outputs": [
    {
     "data": {
      "text/plain": [
       "'ax^2 + bx + c'"
      ]
     },
     "execution_count": 29,
     "metadata": {},
     "output_type": "execute_result"
    }
   ],
   "source": [
    "quadratic_formula"
   ]
  },
  {
   "cell_type": "code",
   "execution_count": 30,
   "id": "faccf5aa-fddf-41db-b7ac-15ed8e647108",
   "metadata": {},
   "outputs": [],
   "source": [
    "alpha = '\\u03B1'  # α (alpha)\n",
    "beta = '\\u03B2'   # β (beta)\n",
    "gamma = '\\u03B3'  # γ (gamma)"
   ]
  },
  {
   "cell_type": "code",
   "execution_count": 31,
   "id": "a9b662f3-502d-4dc7-985f-61b6e07eb3ac",
   "metadata": {},
   "outputs": [
    {
     "data": {
      "text/plain": [
       "('α', 'β', 'γ')"
      ]
     },
     "execution_count": 31,
     "metadata": {},
     "output_type": "execute_result"
    }
   ],
   "source": [
    "alpha,beta,gamma"
   ]
  },
  {
   "cell_type": "code",
   "execution_count": 32,
   "id": "343690df-250a-407d-82c8-5193a8908396",
   "metadata": {},
   "outputs": [
    {
     "data": {
      "text/plain": [
       "True"
      ]
     },
     "execution_count": 32,
     "metadata": {},
     "output_type": "execute_result"
    }
   ],
   "source": [
    "alpha.isalnum()"
   ]
  },
  {
   "cell_type": "code",
   "execution_count": 33,
   "id": "eea57471-df62-411e-b3c3-da0b4b164ed5",
   "metadata": {},
   "outputs": [],
   "source": [
    "subscript_1 = '\\u2081'  # ₁ (subscript 1)\n",
    "superscript_2 = '\\u00B2'  # ² (superscript 2)"
   ]
  },
  {
   "cell_type": "code",
   "execution_count": 36,
   "id": "c8f44149-f32c-49ab-8be1-2b008b543022",
   "metadata": {},
   "outputs": [
    {
     "data": {
      "text/plain": [
       "'x₁²'"
      ]
     },
     "execution_count": 36,
     "metadata": {},
     "output_type": "execute_result"
    }
   ],
   "source": [
    "myStr = \"x\\u2081\\u00B2\"\n",
    "myStr"
   ]
  },
  {
   "cell_type": "code",
   "execution_count": 37,
   "id": "ddcfb0fa-6a7a-4a53-8ea4-4b3b54063e7d",
   "metadata": {},
   "outputs": [
    {
     "data": {
      "text/plain": [
       "False"
      ]
     },
     "execution_count": 37,
     "metadata": {},
     "output_type": "execute_result"
    }
   ],
   "source": [
    "myStr.isnumeric()"
   ]
  },
  {
   "cell_type": "code",
   "execution_count": 38,
   "id": "628d1fa3-2a97-4d3f-a699-40cee4a9f11e",
   "metadata": {},
   "outputs": [
    {
     "data": {
      "text/plain": [
       "True"
      ]
     },
     "execution_count": 38,
     "metadata": {},
     "output_type": "execute_result"
    }
   ],
   "source": [
    "\"\\u2081\\u00B2\".isnumeric()"
   ]
  },
  {
   "cell_type": "code",
   "execution_count": 39,
   "id": "d73f6978-d4d4-4a9e-ae60-7809dc550fd9",
   "metadata": {},
   "outputs": [
    {
     "data": {
      "text/plain": [
       "'\\ud83d\\ude00'"
      ]
     },
     "execution_count": 39,
     "metadata": {},
     "output_type": "execute_result"
    }
   ],
   "source": [
    "\"\\uD83D\\uDE00\""
   ]
  },
  {
   "cell_type": "code",
   "execution_count": null,
   "id": "04f8f5c9-bec8-48ca-9138-fd8f3eae0ffd",
   "metadata": {},
   "outputs": [],
   "source": []
  },
  {
   "cell_type": "markdown",
   "id": "64b0bca1-6ac1-46cd-b997-15091e7fdd53",
   "metadata": {},
   "source": [
    "**title & istitle**"
   ]
  },
  {
   "cell_type": "code",
   "execution_count": 3,
   "id": "f51353cc-b12f-4989-99bb-924d4ce6bde1",
   "metadata": {},
   "outputs": [],
   "source": [
    "text = \"the lovely weather\""
   ]
  },
  {
   "cell_type": "code",
   "execution_count": 4,
   "id": "fd305756-51b2-46ab-aa62-36edccb834fc",
   "metadata": {},
   "outputs": [
    {
     "data": {
      "text/plain": [
       "'The Lovely Weather'"
      ]
     },
     "execution_count": 4,
     "metadata": {},
     "output_type": "execute_result"
    }
   ],
   "source": [
    "text.title()"
   ]
  },
  {
   "cell_type": "code",
   "execution_count": 5,
   "id": "8dc6b55a-0323-4001-86e1-891ed9a04ddb",
   "metadata": {},
   "outputs": [
    {
     "data": {
      "text/plain": [
       "False"
      ]
     },
     "execution_count": 5,
     "metadata": {},
     "output_type": "execute_result"
    }
   ],
   "source": [
    "text.istitle()"
   ]
  },
  {
   "cell_type": "code",
   "execution_count": 6,
   "id": "03f2a4e8-3c80-4f5a-af40-953abb556b81",
   "metadata": {},
   "outputs": [
    {
     "data": {
      "text/plain": [
       "'the lovely weather'"
      ]
     },
     "execution_count": 6,
     "metadata": {},
     "output_type": "execute_result"
    }
   ],
   "source": [
    "text"
   ]
  },
  {
   "cell_type": "code",
   "execution_count": 9,
   "id": "ed3b0301-f948-45cf-b0db-dac7cf30e098",
   "metadata": {},
   "outputs": [],
   "source": [
    "text2 = \"The Taskmanager Is Life Saving\""
   ]
  },
  {
   "cell_type": "code",
   "execution_count": 10,
   "id": "82336229-883f-4a1e-aa7e-5672b32eb2ac",
   "metadata": {},
   "outputs": [
    {
     "data": {
      "text/plain": [
       "True"
      ]
     },
     "execution_count": 10,
     "metadata": {},
     "output_type": "execute_result"
    }
   ],
   "source": [
    "text2.istitle()"
   ]
  },
  {
   "cell_type": "code",
   "execution_count": null,
   "id": "a26654a4-e3de-4481-ab80-3d49a6c2e117",
   "metadata": {},
   "outputs": [],
   "source": []
  }
 ],
 "metadata": {
  "kernelspec": {
   "display_name": "Python 3 (ipykernel)",
   "language": "python",
   "name": "python3"
  },
  "language_info": {
   "codemirror_mode": {
    "name": "ipython",
    "version": 3
   },
   "file_extension": ".py",
   "mimetype": "text/x-python",
   "name": "python",
   "nbconvert_exporter": "python",
   "pygments_lexer": "ipython3",
   "version": "3.10.5"
  }
 },
 "nbformat": 4,
 "nbformat_minor": 5
}
