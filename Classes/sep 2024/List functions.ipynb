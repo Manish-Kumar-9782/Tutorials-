{
 "cells": [
  {
   "cell_type": "code",
   "execution_count": 1,
   "id": "06a94b12-5eb2-40cd-bdfb-d5532d2edc5c",
   "metadata": {},
   "outputs": [],
   "source": [
    "MyList = [1,100,\"hello\", \"hi\", \"bye\"]"
   ]
  },
  {
   "cell_type": "code",
   "execution_count": 3,
   "id": "a5093a6c-c4f4-4a95-bd94-48b93a331ad0",
   "metadata": {},
   "outputs": [
    {
     "data": {
      "text/plain": [
       "[1, 100, 'hello', 'hi', 'bye']"
      ]
     },
     "execution_count": 3,
     "metadata": {},
     "output_type": "execute_result"
    }
   ],
   "source": [
    "MyList.copy()"
   ]
  },
  {
   "cell_type": "code",
   "execution_count": 4,
   "id": "5e609ce5-43db-4fc3-8b3f-8ddbae3d0b4b",
   "metadata": {},
   "outputs": [],
   "source": [
    "# storing list to a new variable\n",
    "copy_list = MyList.copy()"
   ]
  },
  {
   "cell_type": "code",
   "execution_count": 5,
   "id": "c5734493-f026-4617-96dd-db4653bb7a75",
   "metadata": {},
   "outputs": [
    {
     "data": {
      "text/plain": [
       "[1, 100, 'hello', 'hi', 'bye']"
      ]
     },
     "execution_count": 5,
     "metadata": {},
     "output_type": "execute_result"
    }
   ],
   "source": [
    "copy_list"
   ]
  },
  {
   "cell_type": "code",
   "execution_count": 6,
   "id": "3e9df885-e93b-4fd1-9e15-91106b74be9b",
   "metadata": {},
   "outputs": [
    {
     "data": {
      "text/plain": [
       "False"
      ]
     },
     "execution_count": 6,
     "metadata": {},
     "output_type": "execute_result"
    }
   ],
   "source": [
    "# testing identity of both lists\n",
    "MyList is copy_list"
   ]
  },
  {
   "cell_type": "code",
   "execution_count": 10,
   "id": "c7f5ee79-7a17-44f4-8a20-d4be3d7daf5a",
   "metadata": {},
   "outputs": [],
   "source": [
    "copy_list.clear()\n",
    "# removing all item from copy_list by using clear method on a list."
   ]
  },
  {
   "cell_type": "code",
   "execution_count": 8,
   "id": "785527b6-f7a1-4d2b-9091-f472bb376670",
   "metadata": {},
   "outputs": [
    {
     "data": {
      "text/plain": [
       "[]"
      ]
     },
     "execution_count": 8,
     "metadata": {},
     "output_type": "execute_result"
    }
   ],
   "source": [
    "copy_list"
   ]
  },
  {
   "cell_type": "code",
   "execution_count": 9,
   "id": "e4c617cc-5441-430c-9dc3-357691cc6767",
   "metadata": {},
   "outputs": [
    {
     "data": {
      "text/plain": [
       "[1, 100, 'hello', 'hi', 'bye']"
      ]
     },
     "execution_count": 9,
     "metadata": {},
     "output_type": "execute_result"
    }
   ],
   "source": [
    "MyList"
   ]
  },
  {
   "cell_type": "code",
   "execution_count": 11,
   "id": "429ee63b-5fcb-4a5f-8980-d339b4bcd319",
   "metadata": {},
   "outputs": [],
   "source": [
    "import random"
   ]
  },
  {
   "cell_type": "code",
   "execution_count": 17,
   "id": "49a5dccd-c635-48bf-9ee2-c171ea43c3f3",
   "metadata": {},
   "outputs": [
    {
     "data": {
      "text/plain": [
       "9"
      ]
     },
     "execution_count": 17,
     "metadata": {},
     "output_type": "execute_result"
    }
   ],
   "source": [
    "# generating a sinle number \n",
    "random.randint(1,10)"
   ]
  },
  {
   "cell_type": "code",
   "execution_count": 18,
   "id": "42db53ef-c72f-431d-b5d2-e025bef024b8",
   "metadata": {},
   "outputs": [
    {
     "name": "stdout",
     "output_type": "stream",
     "text": [
      "3\n",
      "10\n",
      "10\n",
      "3\n",
      "9\n",
      "8\n",
      "10\n",
      "4\n",
      "6\n",
      "5\n"
     ]
    }
   ],
   "source": [
    "for i in range(10):\n",
    "    x = random.randint(1,10)\n",
    "    print(x)"
   ]
  },
  {
   "cell_type": "markdown",
   "id": "089c3cc7-24e2-4965-86ce-148dc96c957f",
   "metadata": {},
   "source": [
    "**generating a random numbers list**"
   ]
  },
  {
   "cell_type": "code",
   "execution_count": 19,
   "id": "1fef9ce6-7e54-48a9-8f5e-d399f12f30a0",
   "metadata": {},
   "outputs": [],
   "source": [
    "# creating and storing random numbers\n",
    "random_number_list = []\n",
    "\n",
    "for i in range(10):\n",
    "    x = random.randint(1,10)\n",
    "    random_number_list.append(x)"
   ]
  },
  {
   "cell_type": "code",
   "execution_count": 20,
   "id": "62a29b01-8fde-4860-bd29-1e4df47a6d9b",
   "metadata": {},
   "outputs": [
    {
     "data": {
      "text/plain": [
       "[10, 7, 7, 3, 5, 1, 7, 4, 7, 7]"
      ]
     },
     "execution_count": 20,
     "metadata": {},
     "output_type": "execute_result"
    }
   ],
   "source": [
    "random_number_list"
   ]
  },
  {
   "cell_type": "markdown",
   "id": "54f55eac-e397-40a9-b3f6-9afdf0eb44be",
   "metadata": {},
   "source": [
    "**counting item in a list**"
   ]
  },
  {
   "cell_type": "code",
   "execution_count": 21,
   "id": "eb99148f-73b5-4410-a5e4-803a57771454",
   "metadata": {},
   "outputs": [
    {
     "data": {
      "text/plain": [
       "5"
      ]
     },
     "execution_count": 21,
     "metadata": {},
     "output_type": "execute_result"
    }
   ],
   "source": [
    "random_number_list.count(7)"
   ]
  },
  {
   "cell_type": "code",
   "execution_count": 22,
   "id": "feb06a88-d962-490d-a86c-c0be3a1b9650",
   "metadata": {},
   "outputs": [
    {
     "name": "stdout",
     "output_type": "stream",
     "text": [
      "1: 1\n",
      "2: 0\n",
      "3: 1\n",
      "4: 1\n",
      "5: 1\n",
      "6: 0\n",
      "7: 5\n",
      "8: 0\n",
      "9: 0\n"
     ]
    }
   ],
   "source": [
    "# now testing occurance of each number from 1, 10 in random_number_list\n",
    "for n in range(1,10):\n",
    "    count = random_number_list.count(n)\n",
    "    print(f\"{n}: {count}\")"
   ]
  },
  {
   "cell_type": "markdown",
   "id": "ba1445ab-a864-4eb6-9e0a-7f48e871c280",
   "metadata": {},
   "source": [
    "**index mehtod**"
   ]
  },
  {
   "cell_type": "code",
   "execution_count": 26,
   "id": "6117c929-89f1-4915-abf8-49e2bdabe38c",
   "metadata": {},
   "outputs": [
    {
     "data": {
      "text/plain": [
       "[1, 100, 'hello', 'hi', 'bye']"
      ]
     },
     "execution_count": 26,
     "metadata": {},
     "output_type": "execute_result"
    }
   ],
   "source": [
    "MyList"
   ]
  },
  {
   "cell_type": "code",
   "execution_count": 28,
   "id": "f82d042a-a71e-43a7-bcc6-395ae3691c8b",
   "metadata": {},
   "outputs": [
    {
     "data": {
      "text/plain": [
       "3"
      ]
     },
     "execution_count": 28,
     "metadata": {},
     "output_type": "execute_result"
    }
   ],
   "source": [
    "MyList.index(\"hi\")"
   ]
  },
  {
   "cell_type": "code",
   "execution_count": 29,
   "id": "7a66c88f-a2aa-484e-98cb-41a56764009b",
   "metadata": {},
   "outputs": [],
   "source": [
    "# searching an item which is not present in list"
   ]
  },
  {
   "cell_type": "code",
   "execution_count": 30,
   "id": "12804ea3-2454-4cc3-93e9-77c3d4cceca6",
   "metadata": {},
   "outputs": [
    {
     "ename": "ValueError",
     "evalue": "123 is not in list",
     "output_type": "error",
     "traceback": [
      "\u001b[1;31m---------------------------------------------------------------------------\u001b[0m",
      "\u001b[1;31mValueError\u001b[0m                                Traceback (most recent call last)",
      "Cell \u001b[1;32mIn [30], line 1\u001b[0m\n\u001b[1;32m----> 1\u001b[0m \u001b[43mMyList\u001b[49m\u001b[38;5;241;43m.\u001b[39;49m\u001b[43mindex\u001b[49m\u001b[43m(\u001b[49m\u001b[38;5;241;43m123\u001b[39;49m\u001b[43m)\u001b[49m\n",
      "\u001b[1;31mValueError\u001b[0m: 123 is not in list"
     ]
    }
   ],
   "source": [
    "MyList.index(123)"
   ]
  },
  {
   "cell_type": "markdown",
   "id": "88c953dc-dc6b-41b3-8b6b-52fb4c297f73",
   "metadata": {},
   "source": [
    "**Testing that an item is present in list**"
   ]
  },
  {
   "cell_type": "code",
   "execution_count": 34,
   "id": "b1920615-a2ad-4e63-bb8d-40ea775fe22d",
   "metadata": {},
   "outputs": [
    {
     "data": {
      "text/plain": [
       "False"
      ]
     },
     "execution_count": 34,
     "metadata": {},
     "output_type": "execute_result"
    }
   ],
   "source": [
    "item = \"helloo\"\n",
    "\n",
    "item in MyList"
   ]
  },
  {
   "cell_type": "code",
   "execution_count": 35,
   "id": "20407086-99fb-4105-ada8-411b3b0a12d1",
   "metadata": {},
   "outputs": [],
   "source": [
    "def isItemPresent(my_list, item):\n",
    "    return item in my_list"
   ]
  },
  {
   "cell_type": "code",
   "execution_count": 38,
   "id": "b441df7d-056e-410a-b6c3-0d701c804dff",
   "metadata": {},
   "outputs": [
    {
     "data": {
      "text/plain": [
       "True"
      ]
     },
     "execution_count": 38,
     "metadata": {},
     "output_type": "execute_result"
    }
   ],
   "source": [
    "isItemPresent(MyList, \"hello\")"
   ]
  },
  {
   "cell_type": "code",
   "execution_count": 41,
   "id": "58f8e32b-f86a-4ba5-ad36-f8c7ad17fa96",
   "metadata": {},
   "outputs": [
    {
     "name": "stdout",
     "output_type": "stream",
     "text": [
      "2\n"
     ]
    }
   ],
   "source": [
    "item = \"hello\"\n",
    "\n",
    "if isItemPresent(MyList, item):\n",
    "    print(MyList.index(item))\n",
    "else:\n",
    "    print(\"item is not present\")"
   ]
  },
  {
   "cell_type": "markdown",
   "id": "5c3f3194-47be-4c28-9306-e01188253a5d",
   "metadata": {},
   "source": [
    "**pop and remove**\n",
    "To delete items from list"
   ]
  },
  {
   "cell_type": "code",
   "execution_count": 1,
   "id": "ca8b4d00-14d7-4281-b11f-767bb073ff81",
   "metadata": {},
   "outputs": [],
   "source": [
    "MyList = [1,100,\"hello\", \"hi\", \"bye\"]"
   ]
  },
  {
   "cell_type": "code",
   "execution_count": 2,
   "id": "0813b624-0341-4699-9134-22ef52070106",
   "metadata": {},
   "outputs": [
    {
     "data": {
      "text/plain": [
       "'bye'"
      ]
     },
     "execution_count": 2,
     "metadata": {},
     "output_type": "execute_result"
    }
   ],
   "source": [
    "MyList.pop()"
   ]
  },
  {
   "cell_type": "code",
   "execution_count": 3,
   "id": "a181b5c1-cc27-4460-a543-e9cbb43112cf",
   "metadata": {},
   "outputs": [],
   "source": [
    "deleted_item = MyList.pop()"
   ]
  },
  {
   "cell_type": "code",
   "execution_count": 4,
   "id": "37c1e9e8-79b2-4a98-9cc2-dab0925cd852",
   "metadata": {},
   "outputs": [
    {
     "data": {
      "text/plain": [
       "'hi'"
      ]
     },
     "execution_count": 4,
     "metadata": {},
     "output_type": "execute_result"
    }
   ],
   "source": [
    "deleted_item"
   ]
  },
  {
   "cell_type": "code",
   "execution_count": 5,
   "id": "0c87a6a0-620a-40c7-8238-eb2ae74cd499",
   "metadata": {},
   "outputs": [
    {
     "data": {
      "text/plain": [
       "[1, 100, 'hello']"
      ]
     },
     "execution_count": 5,
     "metadata": {},
     "output_type": "execute_result"
    }
   ],
   "source": [
    "MyList"
   ]
  },
  {
   "cell_type": "code",
   "execution_count": 6,
   "id": "e6f1e260-5c0f-47cf-88d7-dc76f06ad35a",
   "metadata": {},
   "outputs": [],
   "source": [
    "MyList = [1,100,\"hello\", \"hi\", \"bye\"]"
   ]
  },
  {
   "cell_type": "code",
   "execution_count": 7,
   "id": "bf72f503-dc52-460b-bc0a-d9058ee5e0ad",
   "metadata": {},
   "outputs": [
    {
     "data": {
      "text/plain": [
       "[1, 100, 'hello', 'hi', 'bye']"
      ]
     },
     "execution_count": 7,
     "metadata": {},
     "output_type": "execute_result"
    }
   ],
   "source": [
    "MyList"
   ]
  },
  {
   "cell_type": "code",
   "execution_count": 8,
   "id": "646745ac-42fd-438b-b366-fbd3def33fd8",
   "metadata": {},
   "outputs": [],
   "source": [
    "MyList.remove(\"hello\")"
   ]
  },
  {
   "cell_type": "code",
   "execution_count": 9,
   "id": "5276666b-9ee1-4647-8b70-9a2a17e93aa0",
   "metadata": {},
   "outputs": [
    {
     "data": {
      "text/plain": [
       "[1, 100, 'hi', 'bye']"
      ]
     },
     "execution_count": 9,
     "metadata": {},
     "output_type": "execute_result"
    }
   ],
   "source": [
    "MyList"
   ]
  },
  {
   "cell_type": "code",
   "execution_count": 10,
   "id": "ace630ca-022e-4cf9-8571-02211e8598c4",
   "metadata": {},
   "outputs": [],
   "source": [
    "MyList.remove(\"hi\")"
   ]
  },
  {
   "cell_type": "code",
   "execution_count": 12,
   "id": "8b0bd027-4e18-4139-a51f-e4c9db87ecff",
   "metadata": {},
   "outputs": [
    {
     "data": {
      "text/plain": [
       "[1, 100, 'bye']"
      ]
     },
     "execution_count": 12,
     "metadata": {},
     "output_type": "execute_result"
    }
   ],
   "source": [
    "MyList"
   ]
  },
  {
   "cell_type": "code",
   "execution_count": 13,
   "id": "658e9a02-06ce-48ba-a252-0ef1995225a4",
   "metadata": {},
   "outputs": [
    {
     "ename": "ValueError",
     "evalue": "list.remove(x): x not in list",
     "output_type": "error",
     "traceback": [
      "\u001b[1;31m---------------------------------------------------------------------------\u001b[0m",
      "\u001b[1;31mValueError\u001b[0m                                Traceback (most recent call last)",
      "Cell \u001b[1;32mIn [13], line 1\u001b[0m\n\u001b[1;32m----> 1\u001b[0m \u001b[43mMyList\u001b[49m\u001b[38;5;241;43m.\u001b[39;49m\u001b[43mremove\u001b[49m\u001b[43m(\u001b[49m\u001b[38;5;124;43m\"\u001b[39;49m\u001b[38;5;124;43mone\u001b[39;49m\u001b[38;5;124;43m\"\u001b[39;49m\u001b[43m)\u001b[49m\n",
      "\u001b[1;31mValueError\u001b[0m: list.remove(x): x not in list"
     ]
    }
   ],
   "source": [
    "MyList.remove(\"one\")"
   ]
  },
  {
   "cell_type": "markdown",
   "id": "6cfb28f2-6b8b-4db3-b863-45669b730a8b",
   "metadata": {},
   "source": [
    "**reverse**\n",
    "\n",
    "Note: we need to similar type of data while performing sorting operation"
   ]
  },
  {
   "cell_type": "code",
   "execution_count": 17,
   "id": "c030523d-c247-4ea9-8a69-a1f6c918fa46",
   "metadata": {},
   "outputs": [
    {
     "data": {
      "text/plain": [
       "['bye', 100, 1]"
      ]
     },
     "execution_count": 17,
     "metadata": {},
     "output_type": "execute_result"
    }
   ],
   "source": [
    "MyList"
   ]
  },
  {
   "cell_type": "code",
   "execution_count": 20,
   "id": "f94bbe11-af08-4ece-921d-e5555215c3d9",
   "metadata": {},
   "outputs": [],
   "source": [
    "MyList.reverse()"
   ]
  },
  {
   "cell_type": "code",
   "execution_count": 21,
   "id": "79f27602-e088-434d-bdcc-8c30d70225c1",
   "metadata": {},
   "outputs": [
    {
     "data": {
      "text/plain": [
       "['bye', 100, 1]"
      ]
     },
     "execution_count": 21,
     "metadata": {},
     "output_type": "execute_result"
    }
   ],
   "source": [
    "MyList"
   ]
  },
  {
   "cell_type": "markdown",
   "id": "c8813173-691f-427f-be31-e919641ec8a9",
   "metadata": {},
   "source": [
    "**sort**"
   ]
  },
  {
   "cell_type": "code",
   "execution_count": 22,
   "id": "1954de6d-1844-4920-95fb-794950f3cffc",
   "metadata": {},
   "outputs": [
    {
     "ename": "TypeError",
     "evalue": "'<' not supported between instances of 'int' and 'str'",
     "output_type": "error",
     "traceback": [
      "\u001b[1;31m---------------------------------------------------------------------------\u001b[0m",
      "\u001b[1;31mTypeError\u001b[0m                                 Traceback (most recent call last)",
      "Cell \u001b[1;32mIn [22], line 1\u001b[0m\n\u001b[1;32m----> 1\u001b[0m \u001b[43mMyList\u001b[49m\u001b[38;5;241;43m.\u001b[39;49m\u001b[43msort\u001b[49m\u001b[43m(\u001b[49m\u001b[43m)\u001b[49m\n",
      "\u001b[1;31mTypeError\u001b[0m: '<' not supported between instances of 'int' and 'str'"
     ]
    }
   ],
   "source": [
    "MyList.sort()"
   ]
  },
  {
   "cell_type": "code",
   "execution_count": 23,
   "id": "2a5c0427-cec5-4f45-b900-c743444a7800",
   "metadata": {},
   "outputs": [],
   "source": [
    "items = [12,34,65,33,89,65,33,23]"
   ]
  },
  {
   "cell_type": "code",
   "execution_count": 24,
   "id": "bfc19649-ac47-419e-99cc-0895d9c3b04e",
   "metadata": {},
   "outputs": [
    {
     "data": {
      "text/plain": [
       "[12, 34, 65, 33, 89, 65, 33, 23]"
      ]
     },
     "execution_count": 24,
     "metadata": {},
     "output_type": "execute_result"
    }
   ],
   "source": [
    "items"
   ]
  },
  {
   "cell_type": "code",
   "execution_count": 27,
   "id": "9bf7c21d-95b1-4360-b4b7-f88010ae3616",
   "metadata": {},
   "outputs": [],
   "source": [
    "# sorting\n",
    "items.sort() # by default is ascending"
   ]
  },
  {
   "cell_type": "code",
   "execution_count": 28,
   "id": "6873e90d-b496-4a2e-aaf7-05931238289e",
   "metadata": {},
   "outputs": [
    {
     "data": {
      "text/plain": [
       "[12, 23, 33, 33, 34, 65, 65, 89]"
      ]
     },
     "execution_count": 28,
     "metadata": {},
     "output_type": "execute_result"
    }
   ],
   "source": [
    "items"
   ]
  },
  {
   "cell_type": "code",
   "execution_count": 29,
   "id": "4f43d837-38de-4296-a112-02135deb9333",
   "metadata": {},
   "outputs": [
    {
     "data": {
      "text/plain": [
       "[89, 65, 65, 34, 33, 33, 23, 12]"
      ]
     },
     "execution_count": 29,
     "metadata": {},
     "output_type": "execute_result"
    }
   ],
   "source": [
    "# descending order sorting\n",
    "items.sort(reverse=True)\n",
    "items"
   ]
  },
  {
   "cell_type": "markdown",
   "id": "1def3593-93b3-4aee-bd99-a9dc5377ac42",
   "metadata": {},
   "source": [
    "**insert**"
   ]
  },
  {
   "cell_type": "code",
   "execution_count": 1,
   "id": "0b130d99-ab12-49e9-aa8d-ab19c31140fa",
   "metadata": {},
   "outputs": [],
   "source": [
    "items = [1,100,\"hello\", \"hi\", \"bye\"]"
   ]
  },
  {
   "cell_type": "code",
   "execution_count": 2,
   "id": "207cc41b-cf0e-4781-8de7-dd7d739c8ba1",
   "metadata": {},
   "outputs": [
    {
     "data": {
      "text/plain": [
       "['xyz', 1, 100, 'hello', 'hi', 'bye']"
      ]
     },
     "execution_count": 2,
     "metadata": {},
     "output_type": "execute_result"
    }
   ],
   "source": [
    "# inserting item at the beginning of list\n",
    "items.insert(0,\"xyz\")\n",
    "items"
   ]
  },
  {
   "cell_type": "code",
   "execution_count": 3,
   "id": "374da05d-6713-43e9-ab2d-5b87fa25b2d7",
   "metadata": {},
   "outputs": [
    {
     "data": {
      "text/plain": [
       "0"
      ]
     },
     "execution_count": 3,
     "metadata": {},
     "output_type": "execute_result"
    }
   ],
   "source": [
    "items.index('xyz')"
   ]
  },
  {
   "cell_type": "code",
   "execution_count": 4,
   "id": "3eece1d7-1b19-471f-b590-a2d71dbbed34",
   "metadata": {},
   "outputs": [],
   "source": [
    "# inserting item at the in b/w the range\n",
    "items.insert(3,\"555\")"
   ]
  },
  {
   "cell_type": "code",
   "execution_count": 5,
   "id": "1528a9e7-1cc0-411a-b186-686baace7988",
   "metadata": {},
   "outputs": [
    {
     "data": {
      "text/plain": [
       "['xyz', 1, 100, '555', 'hello', 'hi', 'bye']"
      ]
     },
     "execution_count": 5,
     "metadata": {},
     "output_type": "execute_result"
    }
   ],
   "source": [
    "items"
   ]
  },
  {
   "cell_type": "code",
   "execution_count": 6,
   "id": "9b8fde0d-e26b-4a18-a85f-7024de0f54f8",
   "metadata": {},
   "outputs": [],
   "source": [
    "items.insert(6,\"999\")"
   ]
  },
  {
   "cell_type": "code",
   "execution_count": 7,
   "id": "0611fa22-6571-4582-b7fe-56163907a4d5",
   "metadata": {},
   "outputs": [
    {
     "data": {
      "text/plain": [
       "['xyz', 1, 100, '555', 'hello', 'hi', '999', 'bye']"
      ]
     },
     "execution_count": 7,
     "metadata": {},
     "output_type": "execute_result"
    }
   ],
   "source": [
    "items"
   ]
  },
  {
   "cell_type": "code",
   "execution_count": 11,
   "id": "21494438-b77c-4e5e-8a88-426523214862",
   "metadata": {},
   "outputs": [
    {
     "data": {
      "text/plain": [
       "'bye'"
      ]
     },
     "execution_count": 11,
     "metadata": {},
     "output_type": "execute_result"
    }
   ],
   "source": [
    "# inseting item at the last position\n",
    "items[7]"
   ]
  },
  {
   "cell_type": "code",
   "execution_count": 12,
   "id": "64f41bf4-5aac-446d-823b-1066bb28b670",
   "metadata": {},
   "outputs": [],
   "source": [
    "# since last item is placed at location 8th index so we need to use index number 9\n",
    "# to put an item at the end of the list\n",
    "items.insert(8, \"10000\")"
   ]
  },
  {
   "cell_type": "code",
   "execution_count": 13,
   "id": "3e21eaee-96d1-4922-8e08-5b040cf6c218",
   "metadata": {},
   "outputs": [
    {
     "data": {
      "text/plain": [
       "['xyz', 1, 100, '555', 'hello', 'hi', '999', 'bye', '10000']"
      ]
     },
     "execution_count": 13,
     "metadata": {},
     "output_type": "execute_result"
    }
   ],
   "source": [
    "items"
   ]
  },
  {
   "cell_type": "code",
   "execution_count": 14,
   "id": "ce6e5ca9-9a22-41a4-8d24-c8ddd1e11589",
   "metadata": {},
   "outputs": [],
   "source": [
    "items.insert(9, \"jkl\")"
   ]
  },
  {
   "cell_type": "code",
   "execution_count": 15,
   "id": "e2edee78-8824-4089-ba97-975b67191367",
   "metadata": {},
   "outputs": [
    {
     "data": {
      "text/plain": [
       "['xyz', 1, 100, '555', 'hello', 'hi', '999', 'bye', '10000', 'jkl']"
      ]
     },
     "execution_count": 15,
     "metadata": {},
     "output_type": "execute_result"
    }
   ],
   "source": [
    "items"
   ]
  },
  {
   "cell_type": "code",
   "execution_count": 16,
   "id": "ec0118c5-57bf-4d7b-b3a5-99befc202b7b",
   "metadata": {},
   "outputs": [],
   "source": [
    "# inserting an item dynamically\n",
    "items.insert(len(items), \"abcd\")"
   ]
  },
  {
   "cell_type": "code",
   "execution_count": 17,
   "id": "35443e2b-c55c-4d91-bcd9-4c6073f6c6fd",
   "metadata": {},
   "outputs": [
    {
     "data": {
      "text/plain": [
       "['xyz', 1, 100, '555', 'hello', 'hi', '999', 'bye', '10000', 'jkl', 'abcd']"
      ]
     },
     "execution_count": 17,
     "metadata": {},
     "output_type": "execute_result"
    }
   ],
   "source": [
    "items"
   ]
  },
  {
   "cell_type": "code",
   "execution_count": 18,
   "id": "d29f00a1-2100-48fd-8f43-7d426bcfba35",
   "metadata": {},
   "outputs": [],
   "source": [
    "xlist = [1,2,3,4]"
   ]
  },
  {
   "cell_type": "code",
   "execution_count": 19,
   "id": "30ea71b8-fdf5-4733-9c49-f8a6e9743aa1",
   "metadata": {},
   "outputs": [],
   "source": [
    "items.insert(len(items), xlist)"
   ]
  },
  {
   "cell_type": "code",
   "execution_count": 20,
   "id": "d25f7f00-1221-4f36-8153-2b9a8145d604",
   "metadata": {},
   "outputs": [
    {
     "data": {
      "text/plain": [
       "['xyz',\n",
       " 1,\n",
       " 100,\n",
       " '555',\n",
       " 'hello',\n",
       " 'hi',\n",
       " '999',\n",
       " 'bye',\n",
       " '10000',\n",
       " 'jkl',\n",
       " 'abcd',\n",
       " [1, 2, 3, 4]]"
      ]
     },
     "execution_count": 20,
     "metadata": {},
     "output_type": "execute_result"
    }
   ],
   "source": [
    "items"
   ]
  },
  {
   "cell_type": "markdown",
   "id": "e18cc084-50c1-4bbc-979c-2d8deb2151a7",
   "metadata": {},
   "source": [
    "**remove**"
   ]
  },
  {
   "cell_type": "code",
   "execution_count": 21,
   "id": "a9c01a8d-6410-4c15-92ed-1544fac76903",
   "metadata": {},
   "outputs": [],
   "source": [
    "items.remove(xlist)"
   ]
  },
  {
   "cell_type": "code",
   "execution_count": 22,
   "id": "50a8c867-a427-465c-96a8-345362d9a406",
   "metadata": {},
   "outputs": [
    {
     "data": {
      "text/plain": [
       "['xyz', 1, 100, '555', 'hello', 'hi', '999', 'bye', '10000', 'jkl', 'abcd']"
      ]
     },
     "execution_count": 22,
     "metadata": {},
     "output_type": "execute_result"
    }
   ],
   "source": [
    "items"
   ]
  },
  {
   "cell_type": "markdown",
   "id": "0aeb9eb2-6085-4535-9859-d90a0d0a4948",
   "metadata": {},
   "source": [
    "**pop**"
   ]
  },
  {
   "cell_type": "code",
   "execution_count": 23,
   "id": "af4a3d1c-8851-4703-ba75-1a6aecdf08e5",
   "metadata": {},
   "outputs": [
    {
     "data": {
      "text/plain": [
       "'999'"
      ]
     },
     "execution_count": 23,
     "metadata": {},
     "output_type": "execute_result"
    }
   ],
   "source": [
    "items.pop(6)"
   ]
  },
  {
   "cell_type": "code",
   "execution_count": 24,
   "id": "13636ded-a601-49c5-9d0b-a00a7e1ecd54",
   "metadata": {},
   "outputs": [
    {
     "data": {
      "text/plain": [
       "['xyz', 1, 100, '555', 'hello', 'hi', 'bye', '10000', 'jkl', 'abcd']"
      ]
     },
     "execution_count": 24,
     "metadata": {},
     "output_type": "execute_result"
    }
   ],
   "source": [
    "items"
   ]
  },
  {
   "cell_type": "code",
   "execution_count": 25,
   "id": "63d408c5-9dcd-4984-8368-f39909c5ad0f",
   "metadata": {},
   "outputs": [
    {
     "data": {
      "text/plain": [
       "'10000'"
      ]
     },
     "execution_count": 25,
     "metadata": {},
     "output_type": "execute_result"
    }
   ],
   "source": [
    "items.pop(-3)"
   ]
  },
  {
   "cell_type": "markdown",
   "id": "0a67be92-1b93-4f15-a264-19188110a7a5",
   "metadata": {},
   "source": [
    "## Tuple"
   ]
  },
  {
   "cell_type": "code",
   "execution_count": 26,
   "id": "28f2db7c-1f09-496d-98ea-07e756021fcd",
   "metadata": {},
   "outputs": [],
   "source": [
    "# assingment on list\n",
    "items[0] = \"123\""
   ]
  },
  {
   "cell_type": "code",
   "execution_count": 27,
   "id": "1ac2def3-fc86-46e4-b90c-c52656e6a495",
   "metadata": {},
   "outputs": [
    {
     "data": {
      "text/plain": [
       "['123', 1, 100, '555', 'hello', 'hi', 'bye', 'jkl', 'abcd']"
      ]
     },
     "execution_count": 27,
     "metadata": {},
     "output_type": "execute_result"
    }
   ],
   "source": [
    "items"
   ]
  },
  {
   "cell_type": "code",
   "execution_count": 28,
   "id": "0ffb9c92-564d-4469-ad54-6096bdb15463",
   "metadata": {},
   "outputs": [],
   "source": [
    "xtuple = (\"hello\", 1,\"3.44\", 5.6)"
   ]
  },
  {
   "cell_type": "code",
   "execution_count": 29,
   "id": "44222dd0-3960-4686-8e51-5e19bb92e99c",
   "metadata": {},
   "outputs": [
    {
     "ename": "TypeError",
     "evalue": "'tuple' object does not support item assignment",
     "output_type": "error",
     "traceback": [
      "\u001b[1;31m---------------------------------------------------------------------------\u001b[0m",
      "\u001b[1;31mTypeError\u001b[0m                                 Traceback (most recent call last)",
      "Cell \u001b[1;32mIn [29], line 2\u001b[0m\n\u001b[0;32m      1\u001b[0m \u001b[38;5;66;03m# assigning a new value at existing position\u001b[39;00m\n\u001b[1;32m----> 2\u001b[0m \u001b[43mxtuple\u001b[49m\u001b[43m[\u001b[49m\u001b[38;5;241;43m0\u001b[39;49m\u001b[43m]\u001b[49m \u001b[38;5;241m=\u001b[39m \u001b[38;5;124m\"\u001b[39m\u001b[38;5;124myellow\u001b[39m\u001b[38;5;124m\"\u001b[39m\n",
      "\u001b[1;31mTypeError\u001b[0m: 'tuple' object does not support item assignment"
     ]
    }
   ],
   "source": [
    "# assigning a new value at existing position\n",
    "xtuple[0] = \"yellow\""
   ]
  },
  {
   "cell_type": "code",
   "execution_count": 30,
   "id": "8e2dc3fe-8b3a-44eb-ab81-c87843ebb2ac",
   "metadata": {},
   "outputs": [],
   "source": [
    "# accessing item using indexing"
   ]
  },
  {
   "cell_type": "code",
   "execution_count": 31,
   "id": "33fe11f8-3499-4764-ae04-5c9da3ec7182",
   "metadata": {},
   "outputs": [
    {
     "data": {
      "text/plain": [
       "'hello'"
      ]
     },
     "execution_count": 31,
     "metadata": {},
     "output_type": "execute_result"
    }
   ],
   "source": [
    "xtuple[0]"
   ]
  },
  {
   "cell_type": "code",
   "execution_count": 32,
   "id": "9f3386ae-d0a6-45b0-8724-98be38dc54b5",
   "metadata": {},
   "outputs": [
    {
     "data": {
      "text/plain": [
       "5.6"
      ]
     },
     "execution_count": 32,
     "metadata": {},
     "output_type": "execute_result"
    }
   ],
   "source": [
    "xtuple[-1]"
   ]
  },
  {
   "cell_type": "code",
   "execution_count": 33,
   "id": "e00226a8-a61d-4509-8068-1df8bcbc81ec",
   "metadata": {},
   "outputs": [
    {
     "data": {
      "text/plain": [
       "('hello', 1, '3.44')"
      ]
     },
     "execution_count": 33,
     "metadata": {},
     "output_type": "execute_result"
    }
   ],
   "source": [
    "xtuple[:3]"
   ]
  },
  {
   "cell_type": "code",
   "execution_count": 33,
   "id": "90e98a09-cdb3-4d4e-b59e-4b0b714e7b5e",
   "metadata": {},
   "outputs": [
    {
     "data": {
      "text/plain": [
       "('hello', 1, '3.44')"
      ]
     },
     "execution_count": 33,
     "metadata": {},
     "output_type": "execute_result"
    }
   ],
   "source": [
    "xtuple[:3]"
   ]
  },
  {
   "cell_type": "markdown",
   "id": "946371ee-963a-499f-8db2-859b32bd193c",
   "metadata": {},
   "source": [
    "**methods**"
   ]
  },
  {
   "cell_type": "markdown",
   "id": "3301a157-df25-40f2-a692-fc4d29d82c59",
   "metadata": {},
   "source": [
    "**count**"
   ]
  },
  {
   "cell_type": "code",
   "execution_count": 35,
   "id": "67936b9d-252f-4dfd-807b-9af1267353ad",
   "metadata": {},
   "outputs": [],
   "source": [
    "xtuple = (29, 28, 23, 28, 20, 18, 26, 23, 20, 28, 26, 19, 21, 29, 23, 19, 19, 20, 28, \n",
    "          27, 23, 28, 18, 28, 21, 21, 18, 28, 20, 18, 23, 23, 18, 30, 20, 30, 27, 30, \n",
    "          23, 29, 23, 21, 20, 22, 18, 24, 18, 20, 21, 25, 20, 21, 27, 20, 27, 24, 19, \n",
    "          19, 24, 27, 23, 21, 23, 21, 25, 27, 25, 23, 27, 21, 25, 20, 24, 24, 28, 20, \n",
    "          18, 29, 27, 20, 18, 22, 25, 19, 26, 20, 28, 27, 27, 20, 23, 30, 23, 18, 25, \n",
    "          18, 18, 18, 18, 28)"
   ]
  },
  {
   "cell_type": "code",
   "execution_count": 36,
   "id": "05e937b3-50ee-4729-a246-eef2dc3b0af3",
   "metadata": {},
   "outputs": [
    {
     "data": {
      "text/plain": [
       "14"
      ]
     },
     "execution_count": 36,
     "metadata": {},
     "output_type": "execute_result"
    }
   ],
   "source": [
    "xtuple.count(18)"
   ]
  },
  {
   "cell_type": "markdown",
   "id": "5fa85b2d-57c9-4d1b-86ba-de5d25490ae1",
   "metadata": {},
   "source": [
    "**index**"
   ]
  },
  {
   "cell_type": "code",
   "execution_count": 37,
   "id": "602fe6f6-ed27-47af-b44e-80abf1262789",
   "metadata": {},
   "outputs": [
    {
     "data": {
      "text/plain": [
       "5"
      ]
     },
     "execution_count": 37,
     "metadata": {},
     "output_type": "execute_result"
    }
   ],
   "source": [
    "xtuple.index(18)"
   ]
  },
  {
   "cell_type": "markdown",
   "id": "f93d048a-34af-4faf-954d-fcbcdff54399",
   "metadata": {},
   "source": [
    "**extending tuple**"
   ]
  },
  {
   "cell_type": "code",
   "execution_count": 38,
   "id": "c2736f96-3c26-42a3-9c92-167b511a5916",
   "metadata": {},
   "outputs": [],
   "source": [
    "t1 = (1,2,3)\n",
    "t2 = (5,6,7)"
   ]
  },
  {
   "cell_type": "code",
   "execution_count": 39,
   "id": "97dbd854-5f2b-4593-853f-3a0fd3c8b44a",
   "metadata": {},
   "outputs": [
    {
     "data": {
      "text/plain": [
       "(1, 2, 3, 5, 6, 7)"
      ]
     },
     "execution_count": 39,
     "metadata": {},
     "output_type": "execute_result"
    }
   ],
   "source": [
    "t1 + t2"
   ]
  },
  {
   "cell_type": "markdown",
   "id": "7166e5dd-50f1-4ae5-8f49-c67ddda25468",
   "metadata": {},
   "source": [
    "**pitfall**"
   ]
  },
  {
   "cell_type": "code",
   "execution_count": 51,
   "id": "ce8c77b5-06cb-4f28-b489-274c977aaebe",
   "metadata": {},
   "outputs": [],
   "source": [
    "name = \"rahul\",\n",
    "# if we place a comman afger value, (by mistake)\n",
    "# it will create a tuple"
   ]
  },
  {
   "cell_type": "code",
   "execution_count": 52,
   "id": "4cba4e86-323b-416b-a977-13104771c0f4",
   "metadata": {},
   "outputs": [
    {
     "data": {
      "text/plain": [
       "('rahul',)"
      ]
     },
     "execution_count": 52,
     "metadata": {},
     "output_type": "execute_result"
    }
   ],
   "source": [
    "name"
   ]
  },
  {
   "cell_type": "code",
   "execution_count": 53,
   "id": "22d59fbc-99fa-4eb9-b108-f1edc45d805d",
   "metadata": {},
   "outputs": [
    {
     "data": {
      "text/plain": [
       "tuple"
      ]
     },
     "execution_count": 53,
     "metadata": {},
     "output_type": "execute_result"
    }
   ],
   "source": [
    "type(name)"
   ]
  },
  {
   "cell_type": "code",
   "execution_count": 46,
   "id": "daad4f7c-6a60-4a99-9315-8231eb00c292",
   "metadata": {},
   "outputs": [],
   "source": [
    "name, age, height = \"rahul\", 23, 5.6"
   ]
  },
  {
   "cell_type": "code",
   "execution_count": 47,
   "id": "cc894afd-a286-410e-bd38-a67a9b65fc5a",
   "metadata": {},
   "outputs": [
    {
     "data": {
      "text/plain": [
       "'rahul'"
      ]
     },
     "execution_count": 47,
     "metadata": {},
     "output_type": "execute_result"
    }
   ],
   "source": [
    "name"
   ]
  },
  {
   "cell_type": "code",
   "execution_count": 48,
   "id": "07e048f3-a7ee-4a51-ad87-196b704e9b2c",
   "metadata": {},
   "outputs": [
    {
     "data": {
      "text/plain": [
       "23"
      ]
     },
     "execution_count": 48,
     "metadata": {},
     "output_type": "execute_result"
    }
   ],
   "source": [
    "age"
   ]
  },
  {
   "cell_type": "code",
   "execution_count": 50,
   "id": "7096a52a-9a4a-4108-82d6-c278368eef93",
   "metadata": {},
   "outputs": [
    {
     "data": {
      "text/plain": [
       "5.6"
      ]
     },
     "execution_count": 50,
     "metadata": {},
     "output_type": "execute_result"
    }
   ],
   "source": [
    "height"
   ]
  },
  {
   "cell_type": "code",
   "execution_count": null,
   "id": "456d95a8-2a4b-4f11-96bd-4addf125be2f",
   "metadata": {},
   "outputs": [],
   "source": []
  }
 ],
 "metadata": {
  "kernelspec": {
   "display_name": "Python 3 (ipykernel)",
   "language": "python",
   "name": "python3"
  },
  "language_info": {
   "codemirror_mode": {
    "name": "ipython",
    "version": 3
   },
   "file_extension": ".py",
   "mimetype": "text/x-python",
   "name": "python",
   "nbconvert_exporter": "python",
   "pygments_lexer": "ipython3",
   "version": "3.10.5"
  }
 },
 "nbformat": 4,
 "nbformat_minor": 5
}
