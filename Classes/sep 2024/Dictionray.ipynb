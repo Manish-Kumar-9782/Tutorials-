{
 "cells": [
  {
   "cell_type": "markdown",
   "id": "5611ffe4-4853-449b-8bc7-31423daa00f1",
   "metadata": {},
   "source": [
    "**creating a dictionary**"
   ]
  },
  {
   "cell_type": "code",
   "execution_count": 1,
   "id": "78705ad5-c2fb-4f87-a192-e1cced1f9ca5",
   "metadata": {},
   "outputs": [],
   "source": [
    "data=   [\"sonali\", 23, 5.3, \"B+\"]"
   ]
  },
  {
   "cell_type": "code",
   "execution_count": 2,
   "id": "d1625203-8bf4-4a50-9943-896498e03a20",
   "metadata": {},
   "outputs": [],
   "source": [
    "mydict = {\"name\":\"sonali\", \"age\":23, \"height\":5.3, \"bloodGroup\":\"B+\"}"
   ]
  },
  {
   "cell_type": "code",
   "execution_count": 3,
   "id": "bb910be4-8359-477c-b9b0-43852a17110f",
   "metadata": {},
   "outputs": [
    {
     "data": {
      "text/plain": [
       "{'name': 'sonali', 'age': 23, 'height': 5.3, 'bloodGroup': 'B+'}"
      ]
     },
     "execution_count": 3,
     "metadata": {},
     "output_type": "execute_result"
    }
   ],
   "source": [
    "mydict"
   ]
  },
  {
   "cell_type": "code",
   "execution_count": 5,
   "id": "5500d646-dfe4-45ee-ab97-ebd5d3fe0580",
   "metadata": {},
   "outputs": [
    {
     "data": {
      "text/plain": [
       "'sonali'"
      ]
     },
     "execution_count": 5,
     "metadata": {},
     "output_type": "execute_result"
    }
   ],
   "source": [
    "# Access item of dict\n",
    "mydict[\"name\"]"
   ]
  },
  {
   "cell_type": "code",
   "execution_count": 6,
   "id": "4ee243ba-5ebe-4bee-bf62-3e87c4287787",
   "metadata": {},
   "outputs": [
    {
     "data": {
      "text/plain": [
       "23"
      ]
     },
     "execution_count": 6,
     "metadata": {},
     "output_type": "execute_result"
    }
   ],
   "source": [
    "mydict[\"age\"]"
   ]
  },
  {
   "cell_type": "code",
   "execution_count": 10,
   "id": "e3fa9f4c-feac-404b-a3f2-ed0d55a8b005",
   "metadata": {},
   "outputs": [],
   "source": [
    "# updating dict item value\n",
    "mydict[\"name\"] = \"sapna\""
   ]
  },
  {
   "cell_type": "code",
   "execution_count": 11,
   "id": "add40b8c-3cda-4c31-bcdd-3d5cb5064f54",
   "metadata": {},
   "outputs": [
    {
     "data": {
      "text/plain": [
       "{'name': 'sapna', 'age': 23, 'height': 5.3, 'bloodGroup': 'B+'}"
      ]
     },
     "execution_count": 11,
     "metadata": {},
     "output_type": "execute_result"
    }
   ],
   "source": [
    "mydict"
   ]
  },
  {
   "cell_type": "code",
   "execution_count": 12,
   "id": "740d577b-0a52-4e35-b2b3-73292174a8d0",
   "metadata": {},
   "outputs": [],
   "source": [
    "# updating dictionary using udpate\n",
    "mydict.update({\"age\":25, \"weight\":67})"
   ]
  },
  {
   "cell_type": "code",
   "execution_count": 13,
   "id": "81c5a793-ac43-4eef-8a15-a607c27256a4",
   "metadata": {},
   "outputs": [
    {
     "data": {
      "text/plain": [
       "{'name': 'sapna', 'age': 25, 'height': 5.3, 'bloodGroup': 'B+', 'weight': 67}"
      ]
     },
     "execution_count": 13,
     "metadata": {},
     "output_type": "execute_result"
    }
   ],
   "source": [
    "mydict"
   ]
  },
  {
   "cell_type": "code",
   "execution_count": 15,
   "id": "68d1a867-1b63-4617-9770-92a70fbab51d",
   "metadata": {},
   "outputs": [],
   "source": [
    "del mydict[\"name\"]"
   ]
  },
  {
   "cell_type": "code",
   "execution_count": 16,
   "id": "e26c61a1-b9fd-4338-a8ac-f7d0e96a38d0",
   "metadata": {},
   "outputs": [
    {
     "data": {
      "text/plain": [
       "{'age': 25, 'height': 5.3, 'bloodGroup': 'B+', 'weight': 67}"
      ]
     },
     "execution_count": 16,
     "metadata": {},
     "output_type": "execute_result"
    }
   ],
   "source": [
    "mydict"
   ]
  },
  {
   "cell_type": "code",
   "execution_count": 17,
   "id": "18f62a37-cf80-4711-bf15-c1e5badf2d07",
   "metadata": {},
   "outputs": [
    {
     "data": {
      "text/plain": [
       "67"
      ]
     },
     "execution_count": 17,
     "metadata": {},
     "output_type": "execute_result"
    }
   ],
   "source": [
    "# deleting a key using pop\n",
    "mydict.pop(\"weight\")"
   ]
  },
  {
   "cell_type": "code",
   "execution_count": 18,
   "id": "c20fd9cb-935e-4c20-88d9-c578843f09c1",
   "metadata": {},
   "outputs": [
    {
     "data": {
      "text/plain": [
       "{'age': 25, 'height': 5.3, 'bloodGroup': 'B+'}"
      ]
     },
     "execution_count": 18,
     "metadata": {},
     "output_type": "execute_result"
    }
   ],
   "source": [
    "mydict"
   ]
  },
  {
   "cell_type": "markdown",
   "id": "7136ff02-80f9-44e3-89e1-547d43c949f3",
   "metadata": {},
   "source": [
    "**keys, values, items method**"
   ]
  },
  {
   "cell_type": "code",
   "execution_count": 19,
   "id": "e58e6b8f-dbf9-43f7-9c7c-1a393dc4b757",
   "metadata": {},
   "outputs": [
    {
     "data": {
      "text/plain": [
       "dict_keys(['age', 'height', 'bloodGroup'])"
      ]
     },
     "execution_count": 19,
     "metadata": {},
     "output_type": "execute_result"
    }
   ],
   "source": [
    "mydict.keys()"
   ]
  },
  {
   "cell_type": "code",
   "execution_count": 20,
   "id": "2fe67646-1af6-40bd-8e11-a5367daaffa1",
   "metadata": {},
   "outputs": [
    {
     "data": {
      "text/plain": [
       "dict_keys(['age', 'height', 'bloodGroup'])"
      ]
     },
     "execution_count": 20,
     "metadata": {},
     "output_type": "execute_result"
    }
   ],
   "source": [
    "dk = mydict.keys()\n",
    "dk"
   ]
  },
  {
   "cell_type": "code",
   "execution_count": 21,
   "id": "5f493f50-3b60-47aa-ae84-8be40b3f5b29",
   "metadata": {},
   "outputs": [
    {
     "data": {
      "text/plain": [
       "dict_keys"
      ]
     },
     "execution_count": 21,
     "metadata": {},
     "output_type": "execute_result"
    }
   ],
   "source": [
    "type(dk)"
   ]
  },
  {
   "cell_type": "code",
   "execution_count": 24,
   "id": "fe998bae-28bc-4577-92fc-41f326cc125e",
   "metadata": {},
   "outputs": [
    {
     "data": {
      "text/plain": [
       "['age', 'height', 'bloodGroup']"
      ]
     },
     "execution_count": 24,
     "metadata": {},
     "output_type": "execute_result"
    }
   ],
   "source": [
    "list(dk)"
   ]
  },
  {
   "cell_type": "code",
   "execution_count": 25,
   "id": "b40ad019-8664-414a-8ec3-7659e7c4df62",
   "metadata": {},
   "outputs": [
    {
     "name": "stdout",
     "output_type": "stream",
     "text": [
      "age\n",
      "height\n",
      "bloodGroup\n"
     ]
    }
   ],
   "source": [
    "for key in dk:\n",
    "    print(key)"
   ]
  },
  {
   "cell_type": "markdown",
   "id": "63f32130-f44b-4c73-af47-e691a302e7c8",
   "metadata": {},
   "source": [
    "**for loop on dict object**"
   ]
  },
  {
   "cell_type": "code",
   "execution_count": 26,
   "id": "58bb7641-07a3-4579-9ba6-da9e9fdc8927",
   "metadata": {},
   "outputs": [
    {
     "name": "stdout",
     "output_type": "stream",
     "text": [
      "age\n",
      "height\n",
      "bloodGroup\n"
     ]
    }
   ],
   "source": [
    "for x in mydict:\n",
    "    print(x)"
   ]
  },
  {
   "cell_type": "markdown",
   "id": "bb10dd38-ed7b-4fba-9275-342a48aa387a",
   "metadata": {},
   "source": [
    "**values**"
   ]
  },
  {
   "cell_type": "code",
   "execution_count": 27,
   "id": "b76f3895-5a73-4f26-8c4b-170f3c4fafd6",
   "metadata": {},
   "outputs": [
    {
     "data": {
      "text/plain": [
       "dict_values([25, 5.3, 'B+'])"
      ]
     },
     "execution_count": 27,
     "metadata": {},
     "output_type": "execute_result"
    }
   ],
   "source": [
    "mydict.values()"
   ]
  },
  {
   "cell_type": "code",
   "execution_count": 30,
   "id": "4afb3e10-43a8-437e-a9a7-1f5c23d3b1d1",
   "metadata": {},
   "outputs": [
    {
     "name": "stdout",
     "output_type": "stream",
     "text": [
      "25\n",
      "5.3\n",
      "B+\n"
     ]
    }
   ],
   "source": [
    "for x in mydict.values():\n",
    "    print(x)"
   ]
  },
  {
   "cell_type": "markdown",
   "id": "52905541-ca68-4dfd-b202-deeaf0770078",
   "metadata": {},
   "source": [
    "**items**"
   ]
  },
  {
   "cell_type": "code",
   "execution_count": 31,
   "id": "0d5034e5-0dd9-4064-8ef4-387ea67956b2",
   "metadata": {},
   "outputs": [
    {
     "data": {
      "text/plain": [
       "dict_items([('age', 25), ('height', 5.3), ('bloodGroup', 'B+')])"
      ]
     },
     "execution_count": 31,
     "metadata": {},
     "output_type": "execute_result"
    }
   ],
   "source": [
    "mydict.items()"
   ]
  },
  {
   "cell_type": "code",
   "execution_count": 32,
   "id": "7fdd655c-d16e-462b-bc7d-0a4b9ba2b4ad",
   "metadata": {},
   "outputs": [
    {
     "name": "stdout",
     "output_type": "stream",
     "text": [
      "('age', 25)\n",
      "('height', 5.3)\n",
      "('bloodGroup', 'B+')\n"
     ]
    }
   ],
   "source": [
    "# applying for loop\n",
    "for pair in mydict.items():\n",
    "    print(pair)"
   ]
  },
  {
   "cell_type": "code",
   "execution_count": 34,
   "id": "5036c694-ff91-40d3-ad71-77c57bc8adf0",
   "metadata": {},
   "outputs": [
    {
     "name": "stdout",
     "output_type": "stream",
     "text": [
      "key:  age \t value:  25\n",
      "key:  height \t value:  5.3\n",
      "key:  bloodGroup \t value:  B+\n"
     ]
    }
   ],
   "source": [
    "# applying for loop\n",
    "for pair in mydict.items():\n",
    "    key,value = pair #unpacking pair object values.\n",
    "    print(\"key: \", key, \"\\t\", \"value: \",value)"
   ]
  },
  {
   "cell_type": "code",
   "execution_count": 35,
   "id": "ba77c247-9fbf-4431-ba56-26d5838a707f",
   "metadata": {},
   "outputs": [
    {
     "name": "stdout",
     "output_type": "stream",
     "text": [
      "key:  age \t value:  25\n",
      "key:  height \t value:  5.3\n",
      "key:  bloodGroup \t value:  B+\n"
     ]
    }
   ],
   "source": [
    "for key,value in mydict.items():\n",
    "    #unpacking pair object values.\n",
    "    print(\"key: \", key, \"\\t\", \"value: \",value)"
   ]
  },
  {
   "cell_type": "code",
   "execution_count": 36,
   "id": "97350771-4757-4e79-974c-eccfc1918b94",
   "metadata": {},
   "outputs": [
    {
     "name": "stdout",
     "output_type": "stream",
     "text": [
      "Help on class dict in module builtins:\n",
      "\n",
      "class dict(object)\n",
      " |  dict() -> new empty dictionary\n",
      " |  dict(mapping) -> new dictionary initialized from a mapping object's\n",
      " |      (key, value) pairs\n",
      " |  dict(iterable) -> new dictionary initialized as if via:\n",
      " |      d = {}\n",
      " |      for k, v in iterable:\n",
      " |          d[k] = v\n",
      " |  dict(**kwargs) -> new dictionary initialized with the name=value pairs\n",
      " |      in the keyword argument list.  For example:  dict(one=1, two=2)\n",
      " |  \n",
      " |  Built-in subclasses:\n",
      " |      StgDict\n",
      " |  \n",
      " |  Methods defined here:\n",
      " |  \n",
      " |  __contains__(self, key, /)\n",
      " |      True if the dictionary has the specified key, else False.\n",
      " |  \n",
      " |  __delitem__(self, key, /)\n",
      " |      Delete self[key].\n",
      " |  \n",
      " |  __eq__(self, value, /)\n",
      " |      Return self==value.\n",
      " |  \n",
      " |  __ge__(self, value, /)\n",
      " |      Return self>=value.\n",
      " |  \n",
      " |  __getattribute__(self, name, /)\n",
      " |      Return getattr(self, name).\n",
      " |  \n",
      " |  __getitem__(...)\n",
      " |      x.__getitem__(y) <==> x[y]\n",
      " |  \n",
      " |  __gt__(self, value, /)\n",
      " |      Return self>value.\n",
      " |  \n",
      " |  __init__(self, /, *args, **kwargs)\n",
      " |      Initialize self.  See help(type(self)) for accurate signature.\n",
      " |  \n",
      " |  __ior__(self, value, /)\n",
      " |      Return self|=value.\n",
      " |  \n",
      " |  __iter__(self, /)\n",
      " |      Implement iter(self).\n",
      " |  \n",
      " |  __le__(self, value, /)\n",
      " |      Return self<=value.\n",
      " |  \n",
      " |  __len__(self, /)\n",
      " |      Return len(self).\n",
      " |  \n",
      " |  __lt__(self, value, /)\n",
      " |      Return self<value.\n",
      " |  \n",
      " |  __ne__(self, value, /)\n",
      " |      Return self!=value.\n",
      " |  \n",
      " |  __or__(self, value, /)\n",
      " |      Return self|value.\n",
      " |  \n",
      " |  __repr__(self, /)\n",
      " |      Return repr(self).\n",
      " |  \n",
      " |  __reversed__(self, /)\n",
      " |      Return a reverse iterator over the dict keys.\n",
      " |  \n",
      " |  __ror__(self, value, /)\n",
      " |      Return value|self.\n",
      " |  \n",
      " |  __setitem__(self, key, value, /)\n",
      " |      Set self[key] to value.\n",
      " |  \n",
      " |  __sizeof__(...)\n",
      " |      D.__sizeof__() -> size of D in memory, in bytes\n",
      " |  \n",
      " |  clear(...)\n",
      " |      D.clear() -> None.  Remove all items from D.\n",
      " |  \n",
      " |  copy(...)\n",
      " |      D.copy() -> a shallow copy of D\n",
      " |  \n",
      " |  get(self, key, default=None, /)\n",
      " |      Return the value for key if key is in the dictionary, else default.\n",
      " |  \n",
      " |  items(...)\n",
      " |      D.items() -> a set-like object providing a view on D's items\n",
      " |  \n",
      " |  keys(...)\n",
      " |      D.keys() -> a set-like object providing a view on D's keys\n",
      " |  \n",
      " |  pop(...)\n",
      " |      D.pop(k[,d]) -> v, remove specified key and return the corresponding value.\n",
      " |      \n",
      " |      If the key is not found, return the default if given; otherwise,\n",
      " |      raise a KeyError.\n",
      " |  \n",
      " |  popitem(self, /)\n",
      " |      Remove and return a (key, value) pair as a 2-tuple.\n",
      " |      \n",
      " |      Pairs are returned in LIFO (last-in, first-out) order.\n",
      " |      Raises KeyError if the dict is empty.\n",
      " |  \n",
      " |  setdefault(self, key, default=None, /)\n",
      " |      Insert key with a value of default if key is not in the dictionary.\n",
      " |      \n",
      " |      Return the value for key if key is in the dictionary, else default.\n",
      " |  \n",
      " |  update(...)\n",
      " |      D.update([E, ]**F) -> None.  Update D from dict/iterable E and F.\n",
      " |      If E is present and has a .keys() method, then does:  for k in E: D[k] = E[k]\n",
      " |      If E is present and lacks a .keys() method, then does:  for k, v in E: D[k] = v\n",
      " |      In either case, this is followed by: for k in F:  D[k] = F[k]\n",
      " |  \n",
      " |  values(...)\n",
      " |      D.values() -> an object providing a view on D's values\n",
      " |  \n",
      " |  ----------------------------------------------------------------------\n",
      " |  Class methods defined here:\n",
      " |  \n",
      " |  __class_getitem__(...) from builtins.type\n",
      " |      See PEP 585\n",
      " |  \n",
      " |  fromkeys(iterable, value=None, /) from builtins.type\n",
      " |      Create a new dictionary with keys from iterable and values set to value.\n",
      " |  \n",
      " |  ----------------------------------------------------------------------\n",
      " |  Static methods defined here:\n",
      " |  \n",
      " |  __new__(*args, **kwargs) from builtins.type\n",
      " |      Create and return a new object.  See help(type) for accurate signature.\n",
      " |  \n",
      " |  ----------------------------------------------------------------------\n",
      " |  Data and other attributes defined here:\n",
      " |  \n",
      " |  __hash__ = None\n",
      "\n"
     ]
    }
   ],
   "source": [
    "help(dict)"
   ]
  },
  {
   "cell_type": "code",
   "execution_count": null,
   "id": "4fc0f43c-8419-4a99-89d3-90814e9a99bb",
   "metadata": {},
   "outputs": [],
   "source": []
  }
 ],
 "metadata": {
  "kernelspec": {
   "display_name": "Python 3 (ipykernel)",
   "language": "python",
   "name": "python3"
  },
  "language_info": {
   "codemirror_mode": {
    "name": "ipython",
    "version": 3
   },
   "file_extension": ".py",
   "mimetype": "text/x-python",
   "name": "python",
   "nbconvert_exporter": "python",
   "pygments_lexer": "ipython3",
   "version": "3.10.5"
  }
 },
 "nbformat": 4,
 "nbformat_minor": 5
}
