{
 "cells": [
  {
   "cell_type": "markdown",
   "id": "5611ffe4-4853-449b-8bc7-31423daa00f1",
   "metadata": {},
   "source": [
    "**creating a dictionary**"
   ]
  },
  {
   "cell_type": "code",
   "execution_count": 1,
   "id": "78705ad5-c2fb-4f87-a192-e1cced1f9ca5",
   "metadata": {},
   "outputs": [],
   "source": [
    "data=   [\"sonali\", 23, 5.3, \"B+\"]"
   ]
  },
  {
   "cell_type": "code",
   "execution_count": 2,
   "id": "d1625203-8bf4-4a50-9943-896498e03a20",
   "metadata": {},
   "outputs": [],
   "source": [
    "mydict = {\"name\":\"sonali\", \"age\":23, \"height\":5.3, \"bloodGroup\":\"B+\"}"
   ]
  },
  {
   "cell_type": "code",
   "execution_count": 3,
   "id": "bb910be4-8359-477c-b9b0-43852a17110f",
   "metadata": {},
   "outputs": [
    {
     "data": {
      "text/plain": [
       "{'name': 'sonali', 'age': 23, 'height': 5.3, 'bloodGroup': 'B+'}"
      ]
     },
     "execution_count": 3,
     "metadata": {},
     "output_type": "execute_result"
    }
   ],
   "source": [
    "mydict"
   ]
  },
  {
   "cell_type": "code",
   "execution_count": 4,
   "id": "5500d646-dfe4-45ee-ab97-ebd5d3fe0580",
   "metadata": {},
   "outputs": [
    {
     "data": {
      "text/plain": [
       "'sonali'"
      ]
     },
     "execution_count": 4,
     "metadata": {},
     "output_type": "execute_result"
    }
   ],
   "source": [
    "# Access item of dict\n",
    "mydict[\"name\"]"
   ]
  },
  {
   "cell_type": "code",
   "execution_count": 5,
   "id": "4ee243ba-5ebe-4bee-bf62-3e87c4287787",
   "metadata": {},
   "outputs": [
    {
     "data": {
      "text/plain": [
       "23"
      ]
     },
     "execution_count": 5,
     "metadata": {},
     "output_type": "execute_result"
    }
   ],
   "source": [
    "mydict[\"age\"]"
   ]
  },
  {
   "cell_type": "code",
   "execution_count": 6,
   "id": "e3fa9f4c-feac-404b-a3f2-ed0d55a8b005",
   "metadata": {},
   "outputs": [],
   "source": [
    "# updating dict item value\n",
    "mydict[\"name\"] = \"sapna\""
   ]
  },
  {
   "cell_type": "code",
   "execution_count": 7,
   "id": "add40b8c-3cda-4c31-bcdd-3d5cb5064f54",
   "metadata": {},
   "outputs": [
    {
     "data": {
      "text/plain": [
       "{'name': 'sapna', 'age': 23, 'height': 5.3, 'bloodGroup': 'B+'}"
      ]
     },
     "execution_count": 7,
     "metadata": {},
     "output_type": "execute_result"
    }
   ],
   "source": [
    "mydict"
   ]
  },
  {
   "cell_type": "code",
   "execution_count": 8,
   "id": "740d577b-0a52-4e35-b2b3-73292174a8d0",
   "metadata": {},
   "outputs": [],
   "source": [
    "# updating dictionary using udpate\n",
    "mydict.update({\"age\":25, \"weight\":67})"
   ]
  },
  {
   "cell_type": "code",
   "execution_count": 9,
   "id": "81c5a793-ac43-4eef-8a15-a607c27256a4",
   "metadata": {},
   "outputs": [
    {
     "data": {
      "text/plain": [
       "{'name': 'sapna', 'age': 25, 'height': 5.3, 'bloodGroup': 'B+', 'weight': 67}"
      ]
     },
     "execution_count": 9,
     "metadata": {},
     "output_type": "execute_result"
    }
   ],
   "source": [
    "mydict"
   ]
  },
  {
   "cell_type": "code",
   "execution_count": 10,
   "id": "68d1a867-1b63-4617-9770-92a70fbab51d",
   "metadata": {},
   "outputs": [],
   "source": [
    "del mydict[\"name\"]"
   ]
  },
  {
   "cell_type": "code",
   "execution_count": 11,
   "id": "e26c61a1-b9fd-4338-a8ac-f7d0e96a38d0",
   "metadata": {},
   "outputs": [
    {
     "data": {
      "text/plain": [
       "{'age': 25, 'height': 5.3, 'bloodGroup': 'B+', 'weight': 67}"
      ]
     },
     "execution_count": 11,
     "metadata": {},
     "output_type": "execute_result"
    }
   ],
   "source": [
    "mydict"
   ]
  },
  {
   "cell_type": "code",
   "execution_count": 12,
   "id": "18f62a37-cf80-4711-bf15-c1e5badf2d07",
   "metadata": {},
   "outputs": [
    {
     "data": {
      "text/plain": [
       "67"
      ]
     },
     "execution_count": 12,
     "metadata": {},
     "output_type": "execute_result"
    }
   ],
   "source": [
    "# deleting a key using pop\n",
    "mydict.pop(\"weight\")"
   ]
  },
  {
   "cell_type": "code",
   "execution_count": 13,
   "id": "c20fd9cb-935e-4c20-88d9-c578843f09c1",
   "metadata": {},
   "outputs": [
    {
     "data": {
      "text/plain": [
       "{'age': 25, 'height': 5.3, 'bloodGroup': 'B+'}"
      ]
     },
     "execution_count": 13,
     "metadata": {},
     "output_type": "execute_result"
    }
   ],
   "source": [
    "mydict"
   ]
  },
  {
   "cell_type": "markdown",
   "id": "7136ff02-80f9-44e3-89e1-547d43c949f3",
   "metadata": {},
   "source": [
    "**keys, values, items method**"
   ]
  },
  {
   "cell_type": "code",
   "execution_count": 14,
   "id": "e58e6b8f-dbf9-43f7-9c7c-1a393dc4b757",
   "metadata": {},
   "outputs": [
    {
     "data": {
      "text/plain": [
       "dict_keys(['age', 'height', 'bloodGroup'])"
      ]
     },
     "execution_count": 14,
     "metadata": {},
     "output_type": "execute_result"
    }
   ],
   "source": [
    "mydict.keys()"
   ]
  },
  {
   "cell_type": "code",
   "execution_count": 15,
   "id": "2fe67646-1af6-40bd-8e11-a5367daaffa1",
   "metadata": {},
   "outputs": [
    {
     "data": {
      "text/plain": [
       "dict_keys(['age', 'height', 'bloodGroup'])"
      ]
     },
     "execution_count": 15,
     "metadata": {},
     "output_type": "execute_result"
    }
   ],
   "source": [
    "dk = mydict.keys()\n",
    "dk"
   ]
  },
  {
   "cell_type": "code",
   "execution_count": 16,
   "id": "5f493f50-3b60-47aa-ae84-8be40b3f5b29",
   "metadata": {},
   "outputs": [
    {
     "data": {
      "text/plain": [
       "dict_keys"
      ]
     },
     "execution_count": 16,
     "metadata": {},
     "output_type": "execute_result"
    }
   ],
   "source": [
    "type(dk)"
   ]
  },
  {
   "cell_type": "code",
   "execution_count": 17,
   "id": "fe998bae-28bc-4577-92fc-41f326cc125e",
   "metadata": {},
   "outputs": [
    {
     "data": {
      "text/plain": [
       "['age', 'height', 'bloodGroup']"
      ]
     },
     "execution_count": 17,
     "metadata": {},
     "output_type": "execute_result"
    }
   ],
   "source": [
    "list(dk)"
   ]
  },
  {
   "cell_type": "code",
   "execution_count": 18,
   "id": "b40ad019-8664-414a-8ec3-7659e7c4df62",
   "metadata": {},
   "outputs": [
    {
     "name": "stdout",
     "output_type": "stream",
     "text": [
      "age\n",
      "height\n",
      "bloodGroup\n"
     ]
    }
   ],
   "source": [
    "for key in dk:\n",
    "    print(key)"
   ]
  },
  {
   "cell_type": "markdown",
   "id": "63f32130-f44b-4c73-af47-e691a302e7c8",
   "metadata": {},
   "source": [
    "**for loop on dict object**"
   ]
  },
  {
   "cell_type": "code",
   "execution_count": 19,
   "id": "58bb7641-07a3-4579-9ba6-da9e9fdc8927",
   "metadata": {},
   "outputs": [
    {
     "name": "stdout",
     "output_type": "stream",
     "text": [
      "age\n",
      "height\n",
      "bloodGroup\n"
     ]
    }
   ],
   "source": [
    "for x in mydict:\n",
    "    print(x)"
   ]
  },
  {
   "cell_type": "markdown",
   "id": "bb10dd38-ed7b-4fba-9275-342a48aa387a",
   "metadata": {},
   "source": [
    "**values**"
   ]
  },
  {
   "cell_type": "code",
   "execution_count": 20,
   "id": "b76f3895-5a73-4f26-8c4b-170f3c4fafd6",
   "metadata": {},
   "outputs": [
    {
     "data": {
      "text/plain": [
       "dict_values([25, 5.3, 'B+'])"
      ]
     },
     "execution_count": 20,
     "metadata": {},
     "output_type": "execute_result"
    }
   ],
   "source": [
    "mydict.values()"
   ]
  },
  {
   "cell_type": "code",
   "execution_count": 21,
   "id": "4afb3e10-43a8-437e-a9a7-1f5c23d3b1d1",
   "metadata": {},
   "outputs": [
    {
     "name": "stdout",
     "output_type": "stream",
     "text": [
      "25\n",
      "5.3\n",
      "B+\n"
     ]
    }
   ],
   "source": [
    "for x in mydict.values():\n",
    "    print(x)"
   ]
  },
  {
   "cell_type": "markdown",
   "id": "52905541-ca68-4dfd-b202-deeaf0770078",
   "metadata": {},
   "source": [
    "**items**"
   ]
  },
  {
   "cell_type": "code",
   "execution_count": 22,
   "id": "0d5034e5-0dd9-4064-8ef4-387ea67956b2",
   "metadata": {},
   "outputs": [
    {
     "data": {
      "text/plain": [
       "dict_items([('age', 25), ('height', 5.3), ('bloodGroup', 'B+')])"
      ]
     },
     "execution_count": 22,
     "metadata": {},
     "output_type": "execute_result"
    }
   ],
   "source": [
    "mydict.items()"
   ]
  },
  {
   "cell_type": "code",
   "execution_count": 23,
   "id": "7fdd655c-d16e-462b-bc7d-0a4b9ba2b4ad",
   "metadata": {},
   "outputs": [
    {
     "name": "stdout",
     "output_type": "stream",
     "text": [
      "('age', 25)\n",
      "('height', 5.3)\n",
      "('bloodGroup', 'B+')\n"
     ]
    }
   ],
   "source": [
    "# applying for loop\n",
    "for pair in mydict.items():\n",
    "    print(pair)"
   ]
  },
  {
   "cell_type": "code",
   "execution_count": 24,
   "id": "5036c694-ff91-40d3-ad71-77c57bc8adf0",
   "metadata": {},
   "outputs": [
    {
     "name": "stdout",
     "output_type": "stream",
     "text": [
      "key:  age \t value:  25\n",
      "key:  height \t value:  5.3\n",
      "key:  bloodGroup \t value:  B+\n"
     ]
    }
   ],
   "source": [
    "# applying for loop\n",
    "for pair in mydict.items():\n",
    "    key,value = pair #unpacking pair object values.\n",
    "    print(\"key: \", key, \"\\t\", \"value: \",value)"
   ]
  },
  {
   "cell_type": "code",
   "execution_count": 25,
   "id": "ba77c247-9fbf-4431-ba56-26d5838a707f",
   "metadata": {},
   "outputs": [
    {
     "name": "stdout",
     "output_type": "stream",
     "text": [
      "key:  age \t value:  25\n",
      "key:  height \t value:  5.3\n",
      "key:  bloodGroup \t value:  B+\n"
     ]
    }
   ],
   "source": [
    "for key,value in mydict.items():\n",
    "    #unpacking pair object values.\n",
    "    print(\"key: \", key, \"\\t\", \"value: \",value)"
   ]
  },
  {
   "cell_type": "markdown",
   "id": "de681805-75fe-4af2-8d0b-6ea0063d0ad3",
   "metadata": {},
   "source": [
    "**pop method**"
   ]
  },
  {
   "cell_type": "code",
   "execution_count": 27,
   "id": "4fc0f43c-8419-4a99-89d3-90814e9a99bb",
   "metadata": {},
   "outputs": [
    {
     "data": {
      "text/plain": [
       "{'age': 25, 'height': 5.3, 'bloodGroup': 'B+'}"
      ]
     },
     "execution_count": 27,
     "metadata": {},
     "output_type": "execute_result"
    }
   ],
   "source": [
    "mydict"
   ]
  },
  {
   "cell_type": "code",
   "execution_count": 28,
   "id": "2a94e2b2-bac6-4017-91d6-695307171c42",
   "metadata": {},
   "outputs": [
    {
     "data": {
      "text/plain": [
       "25"
      ]
     },
     "execution_count": 28,
     "metadata": {},
     "output_type": "execute_result"
    }
   ],
   "source": [
    "# removing age\n",
    "mydict.pop(\"age\")"
   ]
  },
  {
   "cell_type": "code",
   "execution_count": 29,
   "id": "6078a864-d226-46b2-add1-590d7f12c3d7",
   "metadata": {},
   "outputs": [
    {
     "data": {
      "text/plain": [
       "{'height': 5.3, 'bloodGroup': 'B+'}"
      ]
     },
     "execution_count": 29,
     "metadata": {},
     "output_type": "execute_result"
    }
   ],
   "source": [
    "mydict"
   ]
  },
  {
   "cell_type": "markdown",
   "id": "40ec4958-c6f1-4b19-86cf-7cdbfec7b7bd",
   "metadata": {},
   "source": [
    "**popitem method**"
   ]
  },
  {
   "cell_type": "code",
   "execution_count": 30,
   "id": "81902d2e-1049-4cd9-9a79-ea84aa68a87a",
   "metadata": {},
   "outputs": [
    {
     "data": {
      "text/plain": [
       "('bloodGroup', 'B+')"
      ]
     },
     "execution_count": 30,
     "metadata": {},
     "output_type": "execute_result"
    }
   ],
   "source": [
    "mydict.popitem()"
   ]
  },
  {
   "cell_type": "code",
   "execution_count": 31,
   "id": "091a752c-8b01-432f-aea2-96c22d8c8d0c",
   "metadata": {},
   "outputs": [
    {
     "data": {
      "text/plain": [
       "{'height': 5.3}"
      ]
     },
     "execution_count": 31,
     "metadata": {},
     "output_type": "execute_result"
    }
   ],
   "source": [
    "mydict"
   ]
  },
  {
   "cell_type": "code",
   "execution_count": 32,
   "id": "980c8668-16be-4346-829d-d6e472e9758b",
   "metadata": {},
   "outputs": [],
   "source": [
    "mydict = {\"name\":\"sonali\", \"age\":23, \"height\":5.3, \"bloodGroup\":\"B+\"}"
   ]
  },
  {
   "cell_type": "code",
   "execution_count": 33,
   "id": "4ca5152c-1dc2-45a9-b472-70c5abec0429",
   "metadata": {},
   "outputs": [
    {
     "data": {
      "text/plain": [
       "('bloodGroup', 'B+')"
      ]
     },
     "execution_count": 33,
     "metadata": {},
     "output_type": "execute_result"
    }
   ],
   "source": [
    "mydict.popitem()"
   ]
  },
  {
   "cell_type": "code",
   "execution_count": 34,
   "id": "b23806d6-a2b6-487c-80c8-50fe288415e6",
   "metadata": {},
   "outputs": [
    {
     "data": {
      "text/plain": [
       "{'name': 'sonali', 'age': 23, 'height': 5.3}"
      ]
     },
     "execution_count": 34,
     "metadata": {},
     "output_type": "execute_result"
    }
   ],
   "source": [
    "mydict"
   ]
  },
  {
   "cell_type": "code",
   "execution_count": null,
   "id": "a0506acd-109e-477c-824a-53bfd3df9e3f",
   "metadata": {},
   "outputs": [],
   "source": []
  }
 ],
 "metadata": {
  "kernelspec": {
   "display_name": "Python 3 (ipykernel)",
   "language": "python",
   "name": "python3"
  },
  "language_info": {
   "codemirror_mode": {
    "name": "ipython",
    "version": 3
   },
   "file_extension": ".py",
   "mimetype": "text/x-python",
   "name": "python",
   "nbconvert_exporter": "python",
   "pygments_lexer": "ipython3",
   "version": "3.10.5"
  }
 },
 "nbformat": 4,
 "nbformat_minor": 5
}
