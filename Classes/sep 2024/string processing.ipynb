{
 "cells": [
  {
   "cell_type": "code",
   "execution_count": null,
   "id": "16325332-73bd-4107-a7fc-ae7d91b62c40",
   "metadata": {},
   "outputs": [],
   "source": [
    "raw_data = \"\"\"Date;Date Time;Numerical Value;Financial Value;Address;Email;Phone Number;Employee ID;Department;Job Title\n",
    "\"10/25/2024\";\"14:32:11\";\"3,451.98\";\"$12,543.00\";\"123 Main St; Anytown, USA 12345\";\"goKu_Ultra@goku.com\";\"555-123-4567\";\"IT-9876;1\";\"IT\";\"Software Developer\"\n",
    "\"2023-Nov-11\";\"9:15 AM\";\"N/A\";\"$4,987.23\";\"456 Elm Street; Anytown; CA 90210\";\"i.amGroot@edu.org\";\"098-765-4321\";\"ME-1234-002\";\"Mechanical Engineering\";\"Design Engineer\"\n",
    "\"Sometime;2023\";\"77\";\"$88.88\";\"7th Heaven; Neverland\";\"tonyStark1000@StarkIndustries.com\";\"4534   454  234\";\"EE;0005\";\"Electrical Engineering\";\"Electrical Technician\"\n",
    "\"24-Sept-2024\";\" \";\"100\";\"N/A\";\"1 Infinite Loop; Cupertino, CA\";\"Steve.Jobs@Apple.com\";\"Invalid Number\";\"CS-3421;03\";\"Computer Science\";\"Data Scientist\"\n",
    "\"10/26/2024\";\"08:00\";\"42\";\"$21,987.65\";\"221B Baker St; London\";\"Sherlock@Holmes.com\";\"(+44) 20 7224 3688\";\"RE-0987;001\";\"Renewable Energy\";\"Project Manager\"\n",
    "\"20-10-2024\";\"11 AM\";\" \";\"€12,345.67\";\"Rue de la Paix; Paris, France\";\"Coco.Chanel@Fashion.com\";\"Incorrect Format\";\"IT;1234\";\"IT\";\"Network Administrator\"\n",
    "\"\"\""
   ]
  },
  {
   "cell_type": "code",
   "execution_count": 11,
   "id": "2941e4ca-8267-4569-a0ca-cfb5b982305d",
   "metadata": {},
   "outputs": [],
   "source": [
    "name = \"Sonali\"\n",
    "age = 22\n",
    "height = 5.3\n",
    "bloodGroup = \"B+\"\n",
    "\n",
    "message = f\"“Hey there! 👋 I’d like you to meet {name}. {name} is 28 years old, \\\n",
    "stands at a height of {height} feet, and has the blood type {bloodGroup}. {name} is a \\\n",
    "curious soul who loves exploring new technologies and programming languages. \\\n",
    "Feel free to strike up a conversation with {name} about Python, Java, or even the \\\n",
    "latest React features! 🚀”\""
   ]
  },
  {
   "cell_type": "code",
   "execution_count": 12,
   "id": "3c15409b-4f56-48f6-a2c1-4a9d10521c75",
   "metadata": {},
   "outputs": [
    {
     "data": {
      "text/plain": [
       "'“Hey there! 👋 I’d like you to meet Sonali. Sonali is 28 years old, stands at a height of 5.3 feet, and has the blood type B+. Sonali is a curious soul who loves exploring new technologies and programming languages. Feel free to strike up a conversation with Sonali about Python, Java, or even the latest React features! 🚀”'"
      ]
     },
     "execution_count": 12,
     "metadata": {},
     "output_type": "execute_result"
    }
   ],
   "source": [
    "message"
   ]
  },
  {
   "cell_type": "code",
   "execution_count": 6,
   "id": "8068c39a-7f44-4edb-9fbb-475702bf77b9",
   "metadata": {},
   "outputs": [
    {
     "data": {
      "text/plain": [
       "'“Hey there! 👋 I’d like you to meet Alex. Alex is 28 years old, stands at a height of 6 feet, and has the blood type {} positive. Alex is a curious soul who loves exploring new technologies and programming languages. Feel free to strike up a conversation with Alex about Python, Java, or even the latest React features! 🚀”'"
      ]
     },
     "execution_count": 6,
     "metadata": {},
     "output_type": "execute_result"
    }
   ],
   "source": []
  },
  {
   "cell_type": "code",
   "execution_count": 13,
   "id": "97a598be-a2b2-4b0f-8e47-6a4ea958bc36",
   "metadata": {},
   "outputs": [],
   "source": [
    "x = [52, 18, 1, 22, 26, 31, 10, 46, 31, 23, 12, 19, 25, 17, 18, 7, 50, 32, 26, 8]"
   ]
  },
  {
   "cell_type": "code",
   "execution_count": 14,
   "id": "ea3f21d1-6f92-4133-b7e6-323368eeb706",
   "metadata": {},
   "outputs": [
    {
     "data": {
      "text/plain": [
       "{1, 7, 8, 10, 12, 17, 18, 19, 22, 23, 25, 26, 31, 32, 46, 50, 52}"
      ]
     },
     "execution_count": 14,
     "metadata": {},
     "output_type": "execute_result"
    }
   ],
   "source": [
    "set(x)"
   ]
  },
  {
   "cell_type": "code",
   "execution_count": 15,
   "id": "ebd6b3a5-3069-435e-a286-0ebbcc5913fb",
   "metadata": {},
   "outputs": [],
   "source": [
    "import random"
   ]
  },
  {
   "cell_type": "code",
   "execution_count": 16,
   "id": "06d8d088-3476-4595-aa7b-1ef6e122dfec",
   "metadata": {},
   "outputs": [],
   "source": [
    "x_list = []\n",
    "for i in range(20):\n",
    "    x_list.append(random.randint(10,15))"
   ]
  },
  {
   "cell_type": "code",
   "execution_count": 18,
   "id": "60e99f0a-90b5-4eab-a2cd-605a2c4c246b",
   "metadata": {},
   "outputs": [
    {
     "name": "stdout",
     "output_type": "stream",
     "text": [
      "[13, 11, 11, 15, 14, 15, 15, 15, 11, 11, 12, 13, 15, 14, 12, 10, 12, 14, 12, 10]\n"
     ]
    }
   ],
   "source": [
    "print(x_list)"
   ]
  },
  {
   "cell_type": "code",
   "execution_count": 19,
   "id": "c157b506-43ca-4c71-a99f-bc5d807b5eeb",
   "metadata": {},
   "outputs": [
    {
     "data": {
      "text/plain": [
       "{10, 11, 12, 13, 14, 15}"
      ]
     },
     "execution_count": 19,
     "metadata": {},
     "output_type": "execute_result"
    }
   ],
   "source": [
    "set(x_list)"
   ]
  },
  {
   "cell_type": "code",
   "execution_count": 1,
   "id": "ebde1690-a220-4a99-bdbb-e15edd2f5bd3",
   "metadata": {},
   "outputs": [],
   "source": [
    "# order of detail\n",
    "# name, age, height, bloodgroup\n",
    "person_details = [\n",
    "    # first person detail\n",
    "    [\"sonali\", 23, 5.3, \"B+\"],\n",
    "    [\"ajay\", 22, 5.7, \"A-\"],\n",
    "    [\"Suraj\", 25, 5.9, \"AB+\"]\n",
    "]"
   ]
  },
  {
   "cell_type": "code",
   "execution_count": 4,
   "id": "c78c015a-3c2a-46a2-987f-b412495128ad",
   "metadata": {},
   "outputs": [],
   "source": [
    "messages = []\n",
    "\n",
    "for list_data in person_details:\n",
    "    name = list_data[0]\n",
    "    age = list_data[1]\n",
    "    height = list_data[2]\n",
    "    bloodGroup = list_data[3]\n",
    "\n",
    "    message = f\"“Hey there! 👋 I’d like you to meet {name}. {name} is {age} years old, \\\n",
    "    stands at a height of {height} feet, and has the blood type {bloodGroup}. {name} is a \\\n",
    "    curious soul who loves exploring new technologies and programming languages. \\\n",
    "    Feel free to strike up a conversation with {name} about Python, Java, or even the \\\n",
    "    latest React features! 🚀”\"\n",
    "\n",
    "    messages.append(message)"
   ]
  },
  {
   "cell_type": "code",
   "execution_count": 5,
   "id": "51d584af-6a7b-48f2-80c4-ead391b34942",
   "metadata": {},
   "outputs": [
    {
     "data": {
      "text/plain": [
       "['“Hey there! 👋 I’d like you to meet sonali. sonali is 23 years old,     stands at a height of 5.3 feet, and has the blood type B+. sonali is a     curious soul who loves exploring new technologies and programming languages.     Feel free to strike up a conversation with sonali about Python, Java, or even the     latest React features! 🚀”',\n",
       " '“Hey there! 👋 I’d like you to meet ajay. ajay is 22 years old,     stands at a height of 5.7 feet, and has the blood type A-. ajay is a     curious soul who loves exploring new technologies and programming languages.     Feel free to strike up a conversation with ajay about Python, Java, or even the     latest React features! 🚀”',\n",
       " '“Hey there! 👋 I’d like you to meet Suraj. Suraj is 25 years old,     stands at a height of 5.9 feet, and has the blood type AB+. Suraj is a     curious soul who loves exploring new technologies and programming languages.     Feel free to strike up a conversation with Suraj about Python, Java, or even the     latest React features! 🚀”']"
      ]
     },
     "execution_count": 5,
     "metadata": {},
     "output_type": "execute_result"
    }
   ],
   "source": [
    "messages"
   ]
  },
  {
   "cell_type": "markdown",
   "id": "01088cf1-0fa4-40de-ac5c-79721782da58",
   "metadata": {},
   "source": [
    "**list unpacking**"
   ]
  },
  {
   "cell_type": "code",
   "execution_count": 6,
   "id": "a0a2596d-cb46-4b76-8881-5821b93ed848",
   "metadata": {},
   "outputs": [],
   "source": [
    "messages = []\n",
    "\n",
    "for list_data in person_details:\n",
    "    name, age, height, bloodGroup = list_data\n",
    "\n",
    "    \n",
    "    message = f\"“Hey there! 👋 I’d like you to meet {name}. {name} is {age} years old, \\\n",
    "    stands at a height of {height} feet, and has the blood type {bloodGroup}. {name} is a \\\n",
    "    curious soul who loves exploring new technologies and programming languages. \\\n",
    "    Feel free to strike up a conversation with {name} about Python, Java, or even the \\\n",
    "    latest React features! 🚀”\"\n",
    "\n",
    "    messages.append(message)"
   ]
  },
  {
   "cell_type": "code",
   "execution_count": 7,
   "id": "0482210e-b52f-4f12-ba3e-cc71a5899b1e",
   "metadata": {},
   "outputs": [
    {
     "data": {
      "text/plain": [
       "['“Hey there! 👋 I’d like you to meet sonali. sonali is 23 years old,     stands at a height of 5.3 feet, and has the blood type B+. sonali is a     curious soul who loves exploring new technologies and programming languages.     Feel free to strike up a conversation with sonali about Python, Java, or even the     latest React features! 🚀”',\n",
       " '“Hey there! 👋 I’d like you to meet ajay. ajay is 22 years old,     stands at a height of 5.7 feet, and has the blood type A-. ajay is a     curious soul who loves exploring new technologies and programming languages.     Feel free to strike up a conversation with ajay about Python, Java, or even the     latest React features! 🚀”',\n",
       " '“Hey there! 👋 I’d like you to meet Suraj. Suraj is 25 years old,     stands at a height of 5.9 feet, and has the blood type AB+. Suraj is a     curious soul who loves exploring new technologies and programming languages.     Feel free to strike up a conversation with Suraj about Python, Java, or even the     latest React features! 🚀”']"
      ]
     },
     "execution_count": 7,
     "metadata": {},
     "output_type": "execute_result"
    }
   ],
   "source": [
    "messages"
   ]
  },
  {
   "cell_type": "code",
   "execution_count": 10,
   "id": "2c4f51d5-fc12-438a-8490-8df8cec12820",
   "metadata": {},
   "outputs": [],
   "source": [
    "testStr = \"hello {0} hi {1} how {2} are {0}\""
   ]
  },
  {
   "cell_type": "code",
   "execution_count": 11,
   "id": "81b2f8a5-7156-4652-9d9d-f37104b476a8",
   "metadata": {},
   "outputs": [
    {
     "data": {
      "text/plain": [
       "'hello manish hi 22 how 5.6 are manish'"
      ]
     },
     "execution_count": 11,
     "metadata": {},
     "output_type": "execute_result"
    }
   ],
   "source": [
    "testStr.format(\"manish\",22, 5.6)"
   ]
  },
  {
   "cell_type": "code",
   "execution_count": 12,
   "id": "20b36447-2b55-43a8-b897-e54f33707f7b",
   "metadata": {},
   "outputs": [],
   "source": [
    "testStr = \"hello {name} hi {age} how {age} are {name}\""
   ]
  },
  {
   "cell_type": "code",
   "execution_count": 13,
   "id": "4ea0d98e-7ffc-431e-b433-d700b65c80b0",
   "metadata": {},
   "outputs": [
    {
     "data": {
      "text/plain": [
       "'hello manish hi 22 how 22 are manish'"
      ]
     },
     "execution_count": 13,
     "metadata": {},
     "output_type": "execute_result"
    }
   ],
   "source": [
    "testStr.format(name=\"manish\", age=22)"
   ]
  },
  {
   "cell_type": "markdown",
   "id": "56918a11-15ff-4d63-8d99-e76dbb7f6c06",
   "metadata": {},
   "source": [
    "**Creating message with template**"
   ]
  },
  {
   "cell_type": "code",
   "execution_count": 16,
   "id": "f182e223-97f5-4416-9e3d-2c3435da4d8d",
   "metadata": {},
   "outputs": [],
   "source": [
    "messages = []\n",
    "message = \"“Hey there! 👋 I’d like you to meet {name}. {name} is {age} years old, \\\n",
    "    stands at a height of {height} feet, and has the blood type {bloodGroup}. {name} is a \\\n",
    "    curious soul who loves exploring new technologies and programming languages. \\\n",
    "    Feel free to strike up a conversation with {name} about Python, Java, or even the \\\n",
    "    latest React features! 🚀”\"\n",
    "\n",
    "for list_data in person_details:\n",
    "    name, age, height, bloodGroup = list_data\n",
    "    gen_msg = message.format(name=name, age=age, height=height, bloodGroup=bloodGroup)    \n",
    "    messages.append(gen_msg)"
   ]
  },
  {
   "cell_type": "code",
   "execution_count": 17,
   "id": "46bf1b1f-94e3-44cf-a51b-20cf8a6bc713",
   "metadata": {},
   "outputs": [
    {
     "data": {
      "text/plain": [
       "['“Hey there! 👋 I’d like you to meet sonali. sonali is 23 years old,     stands at a height of 5.3 feet, and has the blood type B+. sonali is a     curious soul who loves exploring new technologies and programming languages.     Feel free to strike up a conversation with sonali about Python, Java, or even the     latest React features! 🚀”',\n",
       " '“Hey there! 👋 I’d like you to meet ajay. ajay is 22 years old,     stands at a height of 5.7 feet, and has the blood type A-. ajay is a     curious soul who loves exploring new technologies and programming languages.     Feel free to strike up a conversation with ajay about Python, Java, or even the     latest React features! 🚀”',\n",
       " '“Hey there! 👋 I’d like you to meet Suraj. Suraj is 25 years old,     stands at a height of 5.9 feet, and has the blood type AB+. Suraj is a     curious soul who loves exploring new technologies and programming languages.     Feel free to strike up a conversation with Suraj about Python, Java, or even the     latest React features! 🚀”']"
      ]
     },
     "execution_count": 17,
     "metadata": {},
     "output_type": "execute_result"
    }
   ],
   "source": [
    "messages"
   ]
  },
  {
   "cell_type": "code",
   "execution_count": null,
   "id": "aed663ac-85db-44a6-b8cf-0ba845dc5b20",
   "metadata": {},
   "outputs": [],
   "source": []
  }
 ],
 "metadata": {
  "kernelspec": {
   "display_name": "Python 3 (ipykernel)",
   "language": "python",
   "name": "python3"
  },
  "language_info": {
   "codemirror_mode": {
    "name": "ipython",
    "version": 3
   },
   "file_extension": ".py",
   "mimetype": "text/x-python",
   "name": "python",
   "nbconvert_exporter": "python",
   "pygments_lexer": "ipython3",
   "version": "3.10.5"
  }
 },
 "nbformat": 4,
 "nbformat_minor": 5
}
