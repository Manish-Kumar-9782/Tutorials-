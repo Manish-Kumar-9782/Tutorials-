{
 "cells": [
  {
   "cell_type": "code",
   "execution_count": 7,
   "id": "7bf0d110-2c91-4af8-9a5f-b01cef858fe3",
   "metadata": {},
   "outputs": [],
   "source": [
    "mystr = \"A not-so-active lifestyle can be damaging in more ways than one. \\\n",
    "Lack of movement weakens muscles, slows metabolism, and increases the risk of \\\n",
    "diseases like heart problems and diabetes. Small steps like daily walks or \\\n",
    "stretching can go a long way toward being a healthy human.\"\n",
    "\n",
    "vowels = [\"a\",\"e\",\"i\",\"o\",\"u\"] "
   ]
  },
  {
   "cell_type": "markdown",
   "id": "5d97f39b-f002-4b0c-93c0-f00fc4fec5d1",
   "metadata": {},
   "source": [
    "1. total number of vowels\n",
    "2. individual vowel count"
   ]
  },
  {
   "cell_type": "code",
   "execution_count": 8,
   "id": "ded848a5-0b60-48e2-b649-6f105e358b99",
   "metadata": {},
   "outputs": [
    {
     "data": {
      "text/plain": [
       "['a', 'e', 'i', 'o', 'u']"
      ]
     },
     "execution_count": 8,
     "metadata": {},
     "output_type": "execute_result"
    }
   ],
   "source": [
    "vowels"
   ]
  },
  {
   "cell_type": "code",
   "execution_count": 12,
   "id": "d8407c36-0476-4304-947d-0e7ca340f84f",
   "metadata": {},
   "outputs": [
    {
     "data": {
      "text/plain": [
       "83"
      ]
     },
     "execution_count": 12,
     "metadata": {},
     "output_type": "execute_result"
    }
   ],
   "source": [
    "vcount = 0  # initiallly we don't have any counting.\n",
    "\n",
    "for char in mystr:\n",
    "    # now we want to test that this char values in persent inside our vowel list/string.\n",
    "    if char.lower() in vowels:\n",
    "        vcount += 1  \n",
    "vcount"
   ]
  },
  {
   "cell_type": "code",
   "execution_count": 11,
   "id": "2416852b-98b0-4872-b439-692badc6a1c7",
   "metadata": {
    "collapsed": true,
    "jupyter": {
     "outputs_hidden": true
    }
   },
   "outputs": [
    {
     "name": "stdout",
     "output_type": "stream",
     "text": [
      "A not-so-active lifestyle can be damaging in more ways than one. Lack of movement weakens muscles, slows metabolism, and increases the risk of diseases like heart problems and diabetes. Small steps like daily walks or stretching can go a long way toward being a healthy human.\n"
     ]
    }
   ],
   "source": [
    "print(mystr)"
   ]
  },
  {
   "cell_type": "code",
   "execution_count": null,
   "id": "c7c0f576-0369-4982-8480-8de48db316ae",
   "metadata": {},
   "outputs": [],
   "source": []
  },
  {
   "cell_type": "code",
   "execution_count": 17,
   "id": "01a67997-1a81-416b-aeae-92c5042c17f7",
   "metadata": {},
   "outputs": [
    {
     "data": {
      "text/plain": [
       "21"
      ]
     },
     "execution_count": 17,
     "metadata": {},
     "output_type": "execute_result"
    }
   ],
   "source": [
    "small_str = \"a not-so-active lifEstylE cAn be damaging in more ways than one.\"\n",
    "\n",
    "vcount = 0  # initiallly we don't have any counting.\n",
    "\n",
    "for char in small_str:\n",
    "    # now we want to test that this char values in persent inside our vowel list/string.\n",
    "    if char.lower() in vowels:\n",
    "        vcount += 1  \n",
    "vcount"
   ]
  },
  {
   "cell_type": "code",
   "execution_count": 16,
   "id": "c9fb6b3e-75d8-4927-8e08-ba93cc48ec6c",
   "metadata": {},
   "outputs": [
    {
     "data": {
      "text/plain": [
       "False"
      ]
     },
     "execution_count": 16,
     "metadata": {},
     "output_type": "execute_result"
    }
   ],
   "source": [
    "\"E\" in vowels"
   ]
  },
  {
   "cell_type": "code",
   "execution_count": 18,
   "id": "62044429-e220-47c9-bb29-cdc0c8ce940c",
   "metadata": {},
   "outputs": [
    {
     "data": {
      "text/plain": [
       "21"
      ]
     },
     "execution_count": 18,
     "metadata": {},
     "output_type": "execute_result"
    }
   ],
   "source": [
    "small_str = \"a not-so-active lifEstylE cAn be damaging in more ways than one.\"\n",
    "\n",
    "vcount = 0  # initiallly we don't have any counting.\n",
    "\n",
    "for char in small_str:\n",
    "    # now we want to test that this char values in persent inside our vowel list/string.\n",
    "    if char.lower() in vowels:\n",
    "        vcount += 1  \n",
    "vcount"
   ]
  },
  {
   "cell_type": "code",
   "execution_count": 25,
   "id": "48b8c006-70ce-4e3a-9f38-8c8f0efdb516",
   "metadata": {},
   "outputs": [
    {
     "data": {
      "text/plain": [
       "6"
      ]
     },
     "execution_count": 25,
     "metadata": {},
     "output_type": "execute_result"
    }
   ],
   "source": [
    "small_str.count(\"a\")\n",
    "# small_str.count(\"e\")\n",
    "# small_str.count(\"i\")\n",
    "# small_str.count(\"o\")\n",
    "# small_str.count(\"u\")"
   ]
  },
  {
   "cell_type": "code",
   "execution_count": 28,
   "id": "6750e091-4a5d-447c-9510-edae2288c437",
   "metadata": {},
   "outputs": [],
   "source": [
    "vcounts = [] # an empty list\n",
    "for char in vowels:\n",
    "    _count =  small_str.count(char)\n",
    "    vcounts.append(_count)"
   ]
  },
  {
   "cell_type": "code",
   "execution_count": 29,
   "id": "3ed89d27-310d-4932-8f26-9ca47a07f373",
   "metadata": {},
   "outputs": [
    {
     "name": "stdout",
     "output_type": "stream",
     "text": [
      "['a', 'e', 'i', 'o', 'u']\n",
      "[6, 4, 4, 4, 0]\n"
     ]
    }
   ],
   "source": [
    "print(vowels)\n",
    "print(vcounts)"
   ]
  },
  {
   "cell_type": "code",
   "execution_count": 32,
   "id": "31a395be-374f-42a8-8d09-2b75fae602a0",
   "metadata": {},
   "outputs": [],
   "source": [
    "vowels =  {\"a\":0,\"e\":0,\"i\":0,\"o\":0,\"u\":0}"
   ]
  },
  {
   "cell_type": "code",
   "execution_count": 34,
   "id": "d8dca65b-c173-498e-8e50-46b0e85e2a11",
   "metadata": {},
   "outputs": [
    {
     "name": "stdout",
     "output_type": "stream",
     "text": [
      "a\n",
      "e\n",
      "i\n",
      "o\n",
      "u\n"
     ]
    }
   ],
   "source": [
    "for item in vowels:\n",
    "    print(item)"
   ]
  },
  {
   "cell_type": "code",
   "execution_count": 35,
   "id": "ffed0f80-1ddb-4b12-9b78-c6244a71a80b",
   "metadata": {},
   "outputs": [],
   "source": [
    "for char in vowels:\n",
    "    _count = small_str.count(char)\n",
    "    vowels[char] = _count"
   ]
  },
  {
   "cell_type": "code",
   "execution_count": 36,
   "id": "6872fe6a-b113-49b0-8089-ec7e9e18c72e",
   "metadata": {},
   "outputs": [
    {
     "data": {
      "text/plain": [
       "{'a': 6, 'e': 4, 'i': 4, 'o': 4, 'u': 0}"
      ]
     },
     "execution_count": 36,
     "metadata": {},
     "output_type": "execute_result"
    }
   ],
   "source": [
    "vowels"
   ]
  },
  {
   "cell_type": "code",
   "execution_count": 37,
   "id": "b71333c6-d181-44de-9de3-ce1a71021a97",
   "metadata": {},
   "outputs": [],
   "source": [
    "person = {\n",
    "    \"name\": \"chandu\",\n",
    "    \"age\": 28,\n",
    "    \"bloodGroup\": \"B+\",\n",
    "    'height': 5.6\n",
    "}"
   ]
  },
  {
   "cell_type": "code",
   "execution_count": 38,
   "id": "1c353479-2e23-4759-bcd7-4384dec940b1",
   "metadata": {},
   "outputs": [
    {
     "data": {
      "text/plain": [
       "{'name': 'chandu', 'age': 28, 'bloodGroup': 'B+', 'height': 5.6}"
      ]
     },
     "execution_count": 38,
     "metadata": {},
     "output_type": "execute_result"
    }
   ],
   "source": [
    "person"
   ]
  },
  {
   "cell_type": "code",
   "execution_count": 39,
   "id": "1c35dd86-bbee-4edb-87ef-3ed65990753e",
   "metadata": {},
   "outputs": [
    {
     "data": {
      "text/plain": [
       "'chandu'"
      ]
     },
     "execution_count": 39,
     "metadata": {},
     "output_type": "execute_result"
    }
   ],
   "source": [
    "person[\"name\"]"
   ]
  },
  {
   "cell_type": "code",
   "execution_count": 40,
   "id": "3263bde1-59e0-4045-a035-bb98bcca8728",
   "metadata": {},
   "outputs": [
    {
     "data": {
      "text/plain": [
       "5.6"
      ]
     },
     "execution_count": 40,
     "metadata": {},
     "output_type": "execute_result"
    }
   ],
   "source": [
    "person[\"height\"]"
   ]
  },
  {
   "cell_type": "code",
   "execution_count": 41,
   "id": "801f3d2c-3a1b-421a-a047-be1607bc2897",
   "metadata": {},
   "outputs": [],
   "source": [
    "person[\"height\"]  = 5.8"
   ]
  },
  {
   "cell_type": "code",
   "execution_count": 42,
   "id": "79bc96fd-362a-44e2-a4df-5df070c72e3c",
   "metadata": {},
   "outputs": [
    {
     "data": {
      "text/plain": [
       "{'name': 'chandu', 'age': 28, 'bloodGroup': 'B+', 'height': 5.8}"
      ]
     },
     "execution_count": 42,
     "metadata": {},
     "output_type": "execute_result"
    }
   ],
   "source": [
    "person"
   ]
  },
  {
   "cell_type": "code",
   "execution_count": null,
   "id": "7785db85-9e6c-4e8a-a0f9-2ba01c47b2ec",
   "metadata": {},
   "outputs": [],
   "source": []
  },
  {
   "cell_type": "code",
   "execution_count": null,
   "id": "7304ab6b-a96f-4dcf-af13-2ad5c75b9c57",
   "metadata": {},
   "outputs": [],
   "source": []
  }
 ],
 "metadata": {
  "kernelspec": {
   "display_name": "Python 3 (ipykernel)",
   "language": "python",
   "name": "python3"
  },
  "language_info": {
   "codemirror_mode": {
    "name": "ipython",
    "version": 3
   },
   "file_extension": ".py",
   "mimetype": "text/x-python",
   "name": "python",
   "nbconvert_exporter": "python",
   "pygments_lexer": "ipython3",
   "version": "3.10.5"
  }
 },
 "nbformat": 4,
 "nbformat_minor": 5
}
