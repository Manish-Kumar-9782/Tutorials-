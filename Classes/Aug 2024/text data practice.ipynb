{
 "cells": [
  {
   "cell_type": "code",
   "execution_count": 1,
   "id": "fcde188e-f147-4c66-aac5-ffd6fcf16612",
   "metadata": {},
   "outputs": [],
   "source": [
    "para = \"On a sunny Sunday, the level lake beckoned. Ducks waddled, and geese honked \\\n",
    "in harmony. A kayak glided silently, its red hull reflecting the noonday sun. Nearby, \\\n",
    "a radar dish spun lazily, scanning the horizon for any anomalies. The picnic spread was \\\n",
    "a feast of palindromes: racecar-shaped sandwiches, taco cat wraps, and desserts like\\\n",
    "repapered eclairs. Even the lemonade—sipped by the reverent crowd—was a palindrome: “madam, \\\n",
    "in Eden, I’m Adam.”\""
   ]
  },
  {
   "cell_type": "code",
   "execution_count": 2,
   "id": "0516bff6-3d84-449b-89a3-390432557f83",
   "metadata": {},
   "outputs": [],
   "source": [
    "word = \"one\""
   ]
  },
  {
   "cell_type": "code",
   "execution_count": 4,
   "id": "a1870056-cd68-4e6e-8e77-cb6b1acf9fff",
   "metadata": {},
   "outputs": [
    {
     "data": {
      "text/plain": [
       "4"
      ]
     },
     "execution_count": 4,
     "metadata": {},
     "output_type": "execute_result"
    }
   ],
   "source": [
    "len(word) - 1"
   ]
  },
  {
   "cell_type": "code",
   "execution_count": 6,
   "id": "17758a22-61c3-48d5-87c7-f70abc72a771",
   "metadata": {},
   "outputs": [
    {
     "data": {
      "text/plain": [
       "'e'"
      ]
     },
     "execution_count": 6,
     "metadata": {},
     "output_type": "execute_result"
    }
   ],
   "source": [
    "word[1]"
   ]
  },
  {
   "cell_type": "code",
   "execution_count": 15,
   "id": "155151ea-5cd1-464f-a001-ecbbbdd07ce5",
   "metadata": {},
   "outputs": [
    {
     "name": "stdout",
     "output_type": "stream",
     "text": [
      "0:l 4:l\n",
      "1:e 3:e\n",
      "2:v 2:v\n",
      "now lb is greater than ub\n",
      "word is palindrome :  True\n"
     ]
    }
   ],
   "source": [
    "word = \"level\"\n",
    "\n",
    "lb = 0  # moves from left -> right\n",
    "ub = len(word) - 1  # moves from right -> left\n",
    "\n",
    "is_Palindrome = True  # initially we are assuming that our character is palindrome\n",
    "while True:\n",
    "\n",
    "    # lb (lower bound) become greater than ub (upper bound)\n",
    "    # in this case we need to stop the loop\n",
    "    if lb > ub:\n",
    "        print(\"now lb is greater than ub\")\n",
    "        break # break will stop the loop\n",
    "\n",
    "    # if lb < ub then we can check left and right values\n",
    "\n",
    "    left_value = word[lb]  # only single character\n",
    "    right_value = word[ub] # only single character\n",
    "\n",
    "    print(f\"{lb}:{left_value}\", f\"{ub}:{right_value}\")\n",
    "\n",
    "    # if any pair (left_value and right_value) is not matched then we need to stop\n",
    "    # also we need to make is_Palindrome to False.\n",
    "    if left_value != right_value:\n",
    "        is_Palindrome = False\n",
    "        break\n",
    "\n",
    "    lb += 1 # shifting lb from left -> right by 1 character\n",
    "    ub -= 1 # shifting ub from right -> left by 1 character\n",
    "\n",
    "print(\"word is palindrome : \", is_Palindrome)"
   ]
  },
  {
   "cell_type": "code",
   "execution_count": null,
   "id": "2f379680-6d18-4c0b-8201-245415618d03",
   "metadata": {},
   "outputs": [],
   "source": [
    "\"faltu\""
   ]
  }
 ],
 "metadata": {
  "kernelspec": {
   "display_name": "Python 3 (ipykernel)",
   "language": "python",
   "name": "python3"
  },
  "language_info": {
   "codemirror_mode": {
    "name": "ipython",
    "version": 3
   },
   "file_extension": ".py",
   "mimetype": "text/x-python",
   "name": "python",
   "nbconvert_exporter": "python",
   "pygments_lexer": "ipython3",
   "version": "3.10.5"
  }
 },
 "nbformat": 4,
 "nbformat_minor": 5
}
