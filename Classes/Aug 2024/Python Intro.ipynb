{
 "cells": [
  {
   "cell_type": "markdown",
   "id": "eb15399d-302c-467e-ae72-3a83a2ff1875",
   "metadata": {},
   "source": [
    "# Python Intro\n",
    "\n",
    "\n",
    "This is a simple python introduction."
   ]
  },
  {
   "cell_type": "markdown",
   "id": "fc7596d3-0a9a-41ad-b16b-f468211b4d5d",
   "metadata": {},
   "source": [
    "### Data types"
   ]
  },
  {
   "cell_type": "markdown",
   "id": "e60e58b2-51d2-42e6-8c13-9791d0cea424",
   "metadata": {},
   "source": [
    "* number : int, float\n",
    "* string\n",
    "* boolean\n",
    "* None\n",
    "* complex"
   ]
  },
  {
   "cell_type": "markdown",
   "id": "70f08a7f-bf62-43ba-a883-0b009f405302",
   "metadata": {},
   "source": [
    "### Data Structure"
   ]
  },
  {
   "cell_type": "markdown",
   "id": "fa573fd7-d51a-4124-bb9a-1c739dd48da4",
   "metadata": {},
   "source": [
    "* list (like array)\n",
    "* tuple (restricted list)\n",
    "* set (mathematical set)\n",
    "* dict (key value pair)"
   ]
  },
  {
   "cell_type": "markdown",
   "id": "4541f26a-be68-41d2-b6c6-c3ed27ce5cb5",
   "metadata": {},
   "source": [
    "#### differnt type variable"
   ]
  },
  {
   "cell_type": "code",
   "execution_count": 11,
   "id": "b0cb070e-2fbf-4bd1-9bce-2a66da49345c",
   "metadata": {},
   "outputs": [],
   "source": [
    "a = 20\n",
    "b = 3.4\n",
    "c = \"Hello World!\"\n",
    "d = True\n",
    "c = complex(1,10)"
   ]
  },
  {
   "cell_type": "code",
   "execution_count": 14,
   "id": "6d54a4e4-ed94-4ed1-a037-950e43d6196c",
   "metadata": {},
   "outputs": [
    {
     "data": {
      "text/plain": [
       "int"
      ]
     },
     "execution_count": 14,
     "metadata": {},
     "output_type": "execute_result"
    }
   ],
   "source": [
    "type(a)"
   ]
  },
  {
   "cell_type": "code",
   "execution_count": 7,
   "id": "cb30d430-506f-4091-8f81-d363fb431a7f",
   "metadata": {},
   "outputs": [
    {
     "data": {
      "text/plain": [
       "float"
      ]
     },
     "execution_count": 7,
     "metadata": {},
     "output_type": "execute_result"
    }
   ],
   "source": [
    "type(b)"
   ]
  },
  {
   "cell_type": "code",
   "execution_count": 8,
   "id": "710bb809-a332-4367-a0e2-c00ce317d287",
   "metadata": {},
   "outputs": [
    {
     "data": {
      "text/plain": [
       "str"
      ]
     },
     "execution_count": 8,
     "metadata": {},
     "output_type": "execute_result"
    }
   ],
   "source": [
    "type(c)"
   ]
  },
  {
   "cell_type": "code",
   "execution_count": 9,
   "id": "0f9e1849-3e7c-401d-91cb-4f48f6e0fff6",
   "metadata": {},
   "outputs": [
    {
     "data": {
      "text/plain": [
       "bool"
      ]
     },
     "execution_count": 9,
     "metadata": {},
     "output_type": "execute_result"
    }
   ],
   "source": [
    "type(d)"
   ]
  },
  {
   "cell_type": "code",
   "execution_count": 3,
   "id": "463b8f22-af5b-47f1-82cd-cd9892c173a8",
   "metadata": {},
   "outputs": [
    {
     "name": "stdout",
     "output_type": "stream",
     "text": [
      "hello python\n",
      "This is test of python program\n",
      "var a:30 + var b:40 70\n"
     ]
    }
   ],
   "source": [
    "print(\"hello python\")\n",
    "print(\"This is test of python program\")\n",
    "\n",
    "a = 30\n",
    "b = 40\n",
    "\n",
    "print(f\"var a:{a} + var b:{b}\", a+b)"
   ]
  },
  {
   "cell_type": "code",
   "execution_count": 16,
   "id": "f06c7249-29e7-4a28-80d3-98ee967aa7e5",
   "metadata": {},
   "outputs": [
    {
     "name": "stdin",
     "output_type": "stream",
     "text": [
      "Enter a Value 63\n"
     ]
    }
   ],
   "source": [
    "myvalue =  input(\"Enter a Value\")"
   ]
  },
  {
   "cell_type": "code",
   "execution_count": 17,
   "id": "50bade23-3ef5-4e81-adcd-1e487f521abd",
   "metadata": {},
   "outputs": [
    {
     "data": {
      "text/plain": [
       "'63'"
      ]
     },
     "execution_count": 17,
     "metadata": {},
     "output_type": "execute_result"
    }
   ],
   "source": [
    "myvalue"
   ]
  },
  {
   "cell_type": "code",
   "execution_count": null,
   "id": "67e65ae7-71bb-4d38-b062-62dddf8a0d2b",
   "metadata": {},
   "outputs": [],
   "source": [
    "print(\"Hello world\")"
   ]
  },
  {
   "cell_type": "markdown",
   "id": "8ff926fd-f6ce-48ba-9d38-d5d532f2a6f9",
   "metadata": {},
   "source": [
    "### Operators"
   ]
  },
  {
   "cell_type": "markdown",
   "id": "fb6cecf5-cc2b-489c-86a7-cd5f23cfaf29",
   "metadata": {},
   "source": [
    "1. Arithmatic operator: +, -, /, //, *, **, %\n",
    "2. assignment operator: =, +=, -=, /=, //=, *=, **=, %=\n",
    "3. comparison operator: <, >, <=, >=, ==, !=\n",
    "4. logical operator: `and`, `or`, `not`\n",
    "5. identity operator: `is`, `is not`\n",
    "6. membership operator: `in`, `not in`"
   ]
  },
  {
   "cell_type": "markdown",
   "id": "d470f79c-7d68-4d15-b05a-b391256b23ba",
   "metadata": {},
   "source": [
    "**division and floor division**"
   ]
  },
  {
   "cell_type": "code",
   "execution_count": 1,
   "id": "803e0409-45e4-4ce0-a7a9-5f089910d922",
   "metadata": {},
   "outputs": [],
   "source": [
    "a = 7 \n",
    "b = 2"
   ]
  },
  {
   "cell_type": "code",
   "execution_count": 2,
   "id": "eeee5713-7f2c-4c96-aeae-a517919e187e",
   "metadata": {},
   "outputs": [
    {
     "data": {
      "text/plain": [
       "3.5"
      ]
     },
     "execution_count": 2,
     "metadata": {},
     "output_type": "execute_result"
    }
   ],
   "source": [
    "a/b"
   ]
  },
  {
   "cell_type": "code",
   "execution_count": 3,
   "id": "f5382c94-0008-4f9b-a08e-919a0300272a",
   "metadata": {},
   "outputs": [
    {
     "data": {
      "text/plain": [
       "3"
      ]
     },
     "execution_count": 3,
     "metadata": {},
     "output_type": "execute_result"
    }
   ],
   "source": [
    "a//b"
   ]
  },
  {
   "cell_type": "markdown",
   "id": "afee7785-5258-4215-a42d-ab934235aab9",
   "metadata": {},
   "source": [
    "**multiplication and exponent**"
   ]
  },
  {
   "cell_type": "code",
   "execution_count": 4,
   "id": "6c16779e-5aa2-4e31-8238-d494e7125937",
   "metadata": {},
   "outputs": [],
   "source": [
    "a = 7\n",
    "b = 2"
   ]
  },
  {
   "cell_type": "code",
   "execution_count": 5,
   "id": "cc416122-b63b-4576-af1a-1e5e42918789",
   "metadata": {},
   "outputs": [
    {
     "data": {
      "text/plain": [
       "14"
      ]
     },
     "execution_count": 5,
     "metadata": {},
     "output_type": "execute_result"
    }
   ],
   "source": [
    "a*b"
   ]
  },
  {
   "cell_type": "code",
   "execution_count": 6,
   "id": "d6d9bba6-be5e-44ee-a930-e53694107ca8",
   "metadata": {},
   "outputs": [
    {
     "data": {
      "text/plain": [
       "49"
      ]
     },
     "execution_count": 6,
     "metadata": {},
     "output_type": "execute_result"
    }
   ],
   "source": [
    "a**b"
   ]
  },
  {
   "cell_type": "code",
   "execution_count": 7,
   "id": "00f60d54-e354-47ed-8e9c-2610916f4aa6",
   "metadata": {},
   "outputs": [
    {
     "data": {
      "text/plain": [
       "8"
      ]
     },
     "execution_count": 7,
     "metadata": {},
     "output_type": "execute_result"
    }
   ],
   "source": [
    "2**3"
   ]
  },
  {
   "cell_type": "code",
   "execution_count": 8,
   "id": "c4664c45-6829-43e9-a4dd-6dc193003a62",
   "metadata": {},
   "outputs": [
    {
     "data": {
      "text/plain": [
       "256"
      ]
     },
     "execution_count": 8,
     "metadata": {},
     "output_type": "execute_result"
    }
   ],
   "source": [
    "2**8"
   ]
  },
  {
   "cell_type": "markdown",
   "id": "fdea07e9-e5dd-487c-ba86-d491039bead5",
   "metadata": {},
   "source": [
    "**modulus operator**"
   ]
  },
  {
   "cell_type": "code",
   "execution_count": 9,
   "id": "16ad201c-45f6-45d8-b1bc-ce71222a0901",
   "metadata": {},
   "outputs": [],
   "source": [
    "a = 7\n",
    "b = 2"
   ]
  },
  {
   "cell_type": "code",
   "execution_count": 10,
   "id": "61a8d89e-0e15-4b4d-8bb4-4f198baff9d4",
   "metadata": {},
   "outputs": [
    {
     "data": {
      "text/plain": [
       "1"
      ]
     },
     "execution_count": 10,
     "metadata": {},
     "output_type": "execute_result"
    }
   ],
   "source": [
    "a%b"
   ]
  },
  {
   "cell_type": "code",
   "execution_count": 11,
   "id": "d6ed0ddc-b2b3-4157-83ef-0b25fb44012e",
   "metadata": {},
   "outputs": [
    {
     "data": {
      "text/plain": [
       "2"
      ]
     },
     "execution_count": 11,
     "metadata": {},
     "output_type": "execute_result"
    }
   ],
   "source": [
    "b%a"
   ]
  },
  {
   "cell_type": "markdown",
   "id": "c8fa1319-bada-4c07-933d-6feee35546da",
   "metadata": {},
   "source": [
    "Note: if numerator is less than denominator, numerator will be returned else remainder will be returned."
   ]
  },
  {
   "cell_type": "markdown",
   "id": "86ab4087-ee6c-4cd7-94bd-46c4ce551c9b",
   "metadata": {},
   "source": [
    "**Assignment operator with arithmatic operation**\n",
    "\n",
    "lvalue = rvalue\n",
    "\n",
    "lvalue = rvalue + x_value\n",
    "\n",
    "lvalue = lvalue + x_value -> `lvalue += x_value`"
   ]
  },
  {
   "cell_type": "code",
   "execution_count": 12,
   "id": "abd712e8-c4c7-42e6-9e11-5a9b62ba2bc3",
   "metadata": {},
   "outputs": [],
   "source": [
    "a = 10\n",
    "b = 20"
   ]
  },
  {
   "cell_type": "code",
   "execution_count": 13,
   "id": "1b223441-2517-495e-a81b-3a5b2afb53cb",
   "metadata": {},
   "outputs": [],
   "source": [
    "a = a+b"
   ]
  },
  {
   "cell_type": "code",
   "execution_count": 14,
   "id": "e12d4887-65ec-44c9-a336-0d3d0324d5b9",
   "metadata": {},
   "outputs": [
    {
     "data": {
      "text/plain": [
       "30"
      ]
     },
     "execution_count": 14,
     "metadata": {},
     "output_type": "execute_result"
    }
   ],
   "source": [
    "a"
   ]
  },
  {
   "cell_type": "code",
   "execution_count": 15,
   "id": "d228ac8e-cbe2-420f-89f0-ec73065fbcd0",
   "metadata": {},
   "outputs": [],
   "source": [
    "a = 10\n",
    "b = 20"
   ]
  },
  {
   "cell_type": "code",
   "execution_count": 16,
   "id": "2cc9afd8-dd20-42b6-ab64-ad1b2b293a5f",
   "metadata": {},
   "outputs": [],
   "source": [
    "a += b #=> a = a + b"
   ]
  },
  {
   "cell_type": "code",
   "execution_count": 17,
   "id": "628782a5-3965-417b-ba5e-19f367f16ead",
   "metadata": {},
   "outputs": [
    {
     "data": {
      "text/plain": [
       "30"
      ]
     },
     "execution_count": 17,
     "metadata": {},
     "output_type": "execute_result"
    }
   ],
   "source": [
    "a"
   ]
  },
  {
   "cell_type": "markdown",
   "id": "01634d36-40f6-4dbb-a112-012eb760d3c0",
   "metadata": {},
   "source": [
    "**comparison operator**"
   ]
  },
  {
   "cell_type": "code",
   "execution_count": 18,
   "id": "59a29271-1b67-4804-bd19-5d8b178451ba",
   "metadata": {},
   "outputs": [],
   "source": [
    "a, b = 7, 2"
   ]
  },
  {
   "cell_type": "code",
   "execution_count": 22,
   "id": "e9030980-ada0-4549-bd6a-189e9e4a1396",
   "metadata": {},
   "outputs": [
    {
     "data": {
      "text/plain": [
       "(7, 2)"
      ]
     },
     "execution_count": 22,
     "metadata": {},
     "output_type": "execute_result"
    }
   ],
   "source": [
    "a,b"
   ]
  },
  {
   "cell_type": "code",
   "execution_count": 23,
   "id": "6815f80d-acba-496b-9132-45bb7bd0267c",
   "metadata": {},
   "outputs": [
    {
     "data": {
      "text/plain": [
       "False"
      ]
     },
     "execution_count": 23,
     "metadata": {},
     "output_type": "execute_result"
    }
   ],
   "source": [
    "a < b"
   ]
  },
  {
   "cell_type": "code",
   "execution_count": 24,
   "id": "5244204c-6ad1-4a50-8426-12ae2b391838",
   "metadata": {},
   "outputs": [
    {
     "data": {
      "text/plain": [
       "True"
      ]
     },
     "execution_count": 24,
     "metadata": {},
     "output_type": "execute_result"
    }
   ],
   "source": [
    "a > b"
   ]
  },
  {
   "cell_type": "code",
   "execution_count": 25,
   "id": "46ac1a25-b6fe-44fe-9323-35a0cc21eba6",
   "metadata": {},
   "outputs": [
    {
     "data": {
      "text/plain": [
       "False"
      ]
     },
     "execution_count": 25,
     "metadata": {},
     "output_type": "execute_result"
    }
   ],
   "source": [
    "a<=b"
   ]
  },
  {
   "cell_type": "code",
   "execution_count": 26,
   "id": "c758d79e-c048-40c5-a8f8-237fb5596926",
   "metadata": {},
   "outputs": [
    {
     "data": {
      "text/plain": [
       "True"
      ]
     },
     "execution_count": 26,
     "metadata": {},
     "output_type": "execute_result"
    }
   ],
   "source": [
    "b <= a"
   ]
  },
  {
   "cell_type": "code",
   "execution_count": 27,
   "id": "46722c86-e8d6-4c0a-9f09-3a417dd3943a",
   "metadata": {},
   "outputs": [],
   "source": [
    "c =2"
   ]
  },
  {
   "cell_type": "code",
   "execution_count": 28,
   "id": "11183f33-0b35-447b-abe6-2e2869e08d7c",
   "metadata": {},
   "outputs": [
    {
     "data": {
      "text/plain": [
       "False"
      ]
     },
     "execution_count": 28,
     "metadata": {},
     "output_type": "execute_result"
    }
   ],
   "source": [
    "c < b"
   ]
  },
  {
   "cell_type": "code",
   "execution_count": 29,
   "id": "3f79e1cc-9c66-404a-8d64-f3ac6e4d7de4",
   "metadata": {},
   "outputs": [
    {
     "data": {
      "text/plain": [
       "True"
      ]
     },
     "execution_count": 29,
     "metadata": {},
     "output_type": "execute_result"
    }
   ],
   "source": [
    "c<=b"
   ]
  },
  {
   "cell_type": "code",
   "execution_count": 30,
   "id": "f4d08360-0d44-4d25-bf1c-06f97558ae08",
   "metadata": {},
   "outputs": [
    {
     "data": {
      "text/plain": [
       "True"
      ]
     },
     "execution_count": 30,
     "metadata": {},
     "output_type": "execute_result"
    }
   ],
   "source": [
    "c == b"
   ]
  },
  {
   "cell_type": "code",
   "execution_count": 31,
   "id": "fef06a0a-afdc-4857-a938-c64cbfacf89f",
   "metadata": {},
   "outputs": [
    {
     "data": {
      "text/plain": [
       "True"
      ]
     },
     "execution_count": 31,
     "metadata": {},
     "output_type": "execute_result"
    }
   ],
   "source": [
    "a != b"
   ]
  },
  {
   "cell_type": "markdown",
   "id": "2e5ce98d-14a8-4424-bf49-598b5e86eb45",
   "metadata": {},
   "source": [
    "**assignment operatorss**"
   ]
  },
  {
   "cell_type": "code",
   "execution_count": 1,
   "id": "55d49b1d-41d4-4163-bb2e-9de555ac028a",
   "metadata": {},
   "outputs": [],
   "source": [
    "a = 20\n",
    "b = 50\n"
   ]
  },
  {
   "cell_type": "code",
   "execution_count": 2,
   "id": "6b84af81-f167-4c30-8966-50410f132d4c",
   "metadata": {},
   "outputs": [],
   "source": [
    "a += b"
   ]
  },
  {
   "cell_type": "code",
   "execution_count": 3,
   "id": "c6e566a5-0839-470a-830c-1f18aa0513dd",
   "metadata": {},
   "outputs": [
    {
     "data": {
      "text/plain": [
       "70"
      ]
     },
     "execution_count": 3,
     "metadata": {},
     "output_type": "execute_result"
    }
   ],
   "source": [
    "a"
   ]
  },
  {
   "cell_type": "code",
   "execution_count": 4,
   "id": "1ed8b6dd-2987-41ff-a20f-212d13efce86",
   "metadata": {},
   "outputs": [],
   "source": [
    "a -= b"
   ]
  },
  {
   "cell_type": "code",
   "execution_count": 5,
   "id": "96087157-2f0c-4b7c-a097-695dff164b99",
   "metadata": {},
   "outputs": [
    {
     "data": {
      "text/plain": [
       "20"
      ]
     },
     "execution_count": 5,
     "metadata": {},
     "output_type": "execute_result"
    }
   ],
   "source": [
    "a"
   ]
  },
  {
   "cell_type": "code",
   "execution_count": null,
   "id": "5afc9f93-4c02-4ba8-9a2c-ea89e832c48d",
   "metadata": {},
   "outputs": [],
   "source": []
  }
 ],
 "metadata": {
  "kernelspec": {
   "display_name": "Python 3 (ipykernel)",
   "language": "python",
   "name": "python3"
  },
  "language_info": {
   "codemirror_mode": {
    "name": "ipython",
    "version": 3
   },
   "file_extension": ".py",
   "mimetype": "text/x-python",
   "name": "python",
   "nbconvert_exporter": "python",
   "pygments_lexer": "ipython3",
   "version": "3.10.5"
  }
 },
 "nbformat": 4,
 "nbformat_minor": 5
}
