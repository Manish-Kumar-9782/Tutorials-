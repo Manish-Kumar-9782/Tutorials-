{
 "cells": [
  {
   "cell_type": "code",
   "execution_count": 1,
   "id": "9977ea5f-ee90-4e34-992d-d3a4d64d7b32",
   "metadata": {},
   "outputs": [],
   "source": [
    "mystr = \"name,age,height ,bloodgroup\""
   ]
  },
  {
   "cell_type": "code",
   "execution_count": 2,
   "id": "5d9c43f4-5dda-4f7e-b8d3-500a6082db9d",
   "metadata": {},
   "outputs": [
    {
     "data": {
      "text/plain": [
       "['name', 'age', 'height ', 'bloodgroup']"
      ]
     },
     "execution_count": 2,
     "metadata": {},
     "output_type": "execute_result"
    }
   ],
   "source": [
    "mystr.split(\",\")"
   ]
  },
  {
   "cell_type": "code",
   "execution_count": 3,
   "id": "077ec2a2-4f5f-4fe9-849c-92a898728fb8",
   "metadata": {},
   "outputs": [],
   "source": [
    "mystr = \"03:03:34\""
   ]
  },
  {
   "cell_type": "code",
   "execution_count": 4,
   "id": "611b3675-749d-427c-bfbd-12d0a4153a1a",
   "metadata": {},
   "outputs": [
    {
     "data": {
      "text/plain": [
       "['03:03:34']"
      ]
     },
     "execution_count": 4,
     "metadata": {},
     "output_type": "execute_result"
    }
   ],
   "source": [
    "mystr.split(\",\")"
   ]
  },
  {
   "cell_type": "code",
   "execution_count": 5,
   "id": "4604b187-c374-4b48-a2ce-6f125ddfd722",
   "metadata": {},
   "outputs": [
    {
     "name": "stdin",
     "output_type": "stream",
     "text": [
      "enter name     yash kasliwal\n"
     ]
    },
    {
     "data": {
      "text/plain": [
       "'    yash kasliwal'"
      ]
     },
     "execution_count": 5,
     "metadata": {},
     "output_type": "execute_result"
    }
   ],
   "source": [
    "myinput = input(\"enter name\")\n",
    "myinput"
   ]
  },
  {
   "cell_type": "code",
   "execution_count": 6,
   "id": "21f6ac0a-597e-4655-a4be-80859cdfc079",
   "metadata": {},
   "outputs": [
    {
     "data": {
      "text/plain": [
       "'yash kasliwal'"
      ]
     },
     "execution_count": 6,
     "metadata": {},
     "output_type": "execute_result"
    }
   ],
   "source": [
    "myinput.strip()"
   ]
  },
  {
   "cell_type": "code",
   "execution_count": 8,
   "id": "53de874b-0fe5-4055-8516-316d78239c89",
   "metadata": {},
   "outputs": [
    {
     "data": {
      "text/plain": [
       "'yash kasliwal'"
      ]
     },
     "execution_count": 8,
     "metadata": {},
     "output_type": "execute_result"
    }
   ],
   "source": [
    "myinput.lstrip()"
   ]
  },
  {
   "cell_type": "code",
   "execution_count": 10,
   "id": "f820536f-9f53-4d66-b647-5b5a4a7aef24",
   "metadata": {},
   "outputs": [],
   "source": [
    "empid = \"HR-15213256-002\""
   ]
  },
  {
   "cell_type": "code",
   "execution_count": null,
   "id": "e29c7dd8-f3a2-4cef-90bd-311ee3673648",
   "metadata": {},
   "outputs": [],
   "source": []
  }
 ],
 "metadata": {
  "kernelspec": {
   "display_name": "Python 3 (ipykernel)",
   "language": "python",
   "name": "python3"
  },
  "language_info": {
   "codemirror_mode": {
    "name": "ipython",
    "version": 3
   },
   "file_extension": ".py",
   "mimetype": "text/x-python",
   "name": "python",
   "nbconvert_exporter": "python",
   "pygments_lexer": "ipython3",
   "version": "3.10.5"
  }
 },
 "nbformat": 4,
 "nbformat_minor": 5
}
