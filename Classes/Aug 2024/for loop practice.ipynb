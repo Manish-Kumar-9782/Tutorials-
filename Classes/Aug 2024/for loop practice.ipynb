{
 "cells": [
  {
   "cell_type": "markdown",
   "id": "313af779-1c10-4496-8c12-891acda8fadf",
   "metadata": {},
   "source": [
    "## Problem: Counting Vowels from a text string"
   ]
  },
  {
   "cell_type": "code",
   "execution_count": 1,
   "id": "3a2026be-2e2a-453d-9bcd-ba693055cfa1",
   "metadata": {},
   "outputs": [],
   "source": [
    "myText = \"By understanding and acknowledging the signs, individuals can take \\\n",
    "proactive steps to improve their diets and overall health. Dr Rahul Sharma, Senior\\\n",
    "Consultant at BMG Global Hospital, Bhubaneswar, says that there are ways your body \\\n",
    "communicates nutritional deficiencies, highlighting the importance of balanced nutrition\\\n",
    "and the need for a well-rounded diet. Addressing these deficiencies not only enhances \\\n",
    "physical health but also promotes mental and emotional well-being, he says.\""
   ]
  },
  {
   "cell_type": "code",
   "execution_count": 2,
   "id": "68ce6f0c-585a-4600-8e6c-186619744b28",
   "metadata": {},
   "outputs": [
    {
     "name": "stdout",
     "output_type": "stream",
     "text": [
      "By understanding and acknowledging the signs, individuals can take proactive steps to improve their diets and overall health. Dr Rahul Sharma, SeniorConsultant at BMG Global Hospital, Bhubaneswar, says that there are ways your body communicates nutritional deficiencies, highlighting the importance of balanced nutritionand the need for a well-rounded diet. Addressing these deficiencies not only enhances physical health but also promotes mental and emotional well-being, he says.\n"
     ]
    }
   ],
   "source": [
    "print(myText)"
   ]
  },
  {
   "cell_type": "markdown",
   "id": "fe9769fa-d5cf-43b2-bcf3-8afa54abf88e",
   "metadata": {},
   "source": [
    "Note: counting process.\n",
    "\n",
    "0. create a counting varaible.\n",
    "1. first take a single (one by one) character form string.\n",
    "2. test that this character is vowels.\n",
    "3. if character is vowel then increase the counting by one.\n",
    "4. repeate this process until all character are checked."
   ]
  },
  {
   "cell_type": "code",
   "execution_count": 3,
   "id": "a04f9a28-b4f2-46f7-8e82-3da9fd681936",
   "metadata": {},
   "outputs": [],
   "source": [
    "count = 0"
   ]
  },
  {
   "cell_type": "code",
   "execution_count": 4,
   "id": "b8e368f0-c48a-4ffe-8f02-1f7ebc851fbc",
   "metadata": {},
   "outputs": [],
   "source": [
    "char = \"x\""
   ]
  },
  {
   "cell_type": "code",
   "execution_count": 5,
   "id": "9f4ffbc6-4009-4013-b559-c7208643f5f9",
   "metadata": {},
   "outputs": [],
   "source": [
    "vowels = [\"a\",\"e\",\"i\",\"o\",\"u\"]"
   ]
  },
  {
   "cell_type": "code",
   "execution_count": 7,
   "id": "f0675b10-979b-44ec-873b-b56723edeb8b",
   "metadata": {},
   "outputs": [
    {
     "data": {
      "text/plain": [
       "False"
      ]
     },
     "execution_count": 7,
     "metadata": {},
     "output_type": "execute_result"
    }
   ],
   "source": [
    "# testing that our char is present inside the list.\n",
    "char in vowels"
   ]
  },
  {
   "cell_type": "code",
   "execution_count": 8,
   "id": "94334b37-dea1-472f-b5ff-e28394046c9f",
   "metadata": {},
   "outputs": [
    {
     "data": {
      "text/plain": [
       "True"
      ]
     },
     "execution_count": 8,
     "metadata": {},
     "output_type": "execute_result"
    }
   ],
   "source": [
    "char = \"a\"\n",
    "char in vowels # expression for testing that char is a vowel."
   ]
  },
  {
   "cell_type": "code",
   "execution_count": 11,
   "id": "7e9aecf3-12fa-4b1d-a517-dca921f041ba",
   "metadata": {},
   "outputs": [
    {
     "name": "stdout",
     "output_type": "stream",
     "text": [
      "H---e---l---l---o--- ---w---o---r---l---d---.---.---.---!---"
     ]
    }
   ],
   "source": [
    "# applying for loop on string.\n",
    "myStr = 'Hello world...!'\n",
    "for char in myStr:\n",
    "    print(char, end=\"---\")"
   ]
  },
  {
   "cell_type": "markdown",
   "id": "ed7154ad-c72a-4ba3-a6bf-716bd91bbd25",
   "metadata": {},
   "source": [
    "Note: Now we can read each character by using for loop on string variable."
   ]
  },
  {
   "cell_type": "code",
   "execution_count": 12,
   "id": "5bcd9c2c-cca2-48ba-af19-c784a1988c56",
   "metadata": {},
   "outputs": [],
   "source": [
    "# Now counting vowels in myStr\n",
    "count = 0\n",
    "for char in myStr:\n",
    "    if char in vowels:\n",
    "        count += 1\n"
   ]
  },
  {
   "cell_type": "code",
   "execution_count": 13,
   "id": "016ea7fa-47a1-42b3-a4f2-e7af32cda126",
   "metadata": {},
   "outputs": [
    {
     "data": {
      "text/plain": [
       "3"
      ]
     },
     "execution_count": 13,
     "metadata": {},
     "output_type": "execute_result"
    }
   ],
   "source": [
    "count"
   ]
  },
  {
   "cell_type": "code",
   "execution_count": 17,
   "id": "d6922056-e7f7-4b96-a614-552f9e44b51c",
   "metadata": {},
   "outputs": [],
   "source": [
    "def countVowels(strVar):\n",
    "\n",
    "    vowels =  [\"a\",\"e\",\"i\",\"o\",\"u\"]\n",
    "    # first create a count variable\n",
    "    count = 0\n",
    "    # now read each character from strVar\n",
    "    for char in strVar:\n",
    "        # test that char is present in our vowels\n",
    "        if char in vowels:\n",
    "            count += 1\n",
    "\n",
    "    # This program does not count capital character of vowels\n",
    "    # exclude : A, E, I, O, U\n",
    "    return count"
   ]
  },
  {
   "cell_type": "code",
   "execution_count": 18,
   "id": "f140a87a-04e3-4d56-991a-792f071b5535",
   "metadata": {},
   "outputs": [
    {
     "data": {
      "text/plain": [
       "3"
      ]
     },
     "execution_count": 18,
     "metadata": {},
     "output_type": "execute_result"
    }
   ],
   "source": [
    "countVowels(myStr)"
   ]
  },
  {
   "cell_type": "code",
   "execution_count": 19,
   "id": "4d362a6e-47a6-4131-8a67-a36d00856288",
   "metadata": {},
   "outputs": [
    {
     "data": {
      "text/plain": [
       "150"
      ]
     },
     "execution_count": 19,
     "metadata": {},
     "output_type": "execute_result"
    }
   ],
   "source": [
    "countVowels(myText)"
   ]
  },
  {
   "cell_type": "markdown",
   "id": "fe2b6652-0f00-42b5-b90b-4234b44eb9d7",
   "metadata": {},
   "source": [
    "**Palindrome Test**"
   ]
  },
  {
   "cell_type": "code",
   "execution_count": null,
   "id": "5cf9c389-fe5c-459d-a248-85e8fe38a3f9",
   "metadata": {},
   "outputs": [],
   "source": [
    "palindrome_words = [\n",
    "    \"level\",\n",
    "    \"deified\",\n",
    "    \"rotor\",\n",
    "    \"civic\",\n",
    "    \"madam\",\n",
    "    \"refer\",\n",
    "    \"noon\",\n",
    "    \"radar\",\n",
    "    \"tenet\",\n",
    "    \"racecar\",\n",
    "    \"redder\",\n",
    "    \"kayak\",\n",
    "    \"repaper\",\n",
    "    \"stats\",\n",
    "    \"rotator\",\n",
    "    \"reviver\",\n",
    "    \"malayalam\",\n",
    "    \"peep\",\n",
    "    \"pop\",\n",
    "    \"taco cat\"\n",
    "]"
   ]
  },
  {
   "cell_type": "code",
   "execution_count": 5,
   "id": "fbbd480d-634a-4c33-adb0-dfb8c69d9918",
   "metadata": {},
   "outputs": [
    {
     "name": "stdout",
     "output_type": "stream",
     "text": [
      "lb :  0\n",
      "ub :  4\n",
      "word is palindrome:  False\n"
     ]
    }
   ],
   "source": [
    "word = \"Hello\"\n",
    "isPalindrome = True\n",
    "lb  = 0\n",
    "ub = len(word)-1\n",
    "\n",
    "while True:\n",
    "    print(\"lb : \", lb)\n",
    "    print(\"ub : \", ub)\n",
    "    \n",
    "    # if lb's index number become greater than ub's index\n",
    "    # then we need to stop the loop\n",
    "    if lb > ub:\n",
    "        break\n",
    "\n",
    "    # if char at lb's index and  char at ub's index number is not equal \n",
    "    # it means the word is not palindrome.\n",
    "    if word[lb] != word[ub]:\n",
    "        isPalindrome = False\n",
    "        break\n",
    "\n",
    "    # after test once cycle we need to update lb and ub\n",
    "    lb += 1 # shifting lb to right\n",
    "    ub -= 1 # shifting ub to left\n",
    "\n",
    "    print(\"------------------\")\n",
    "\n",
    "print(\"word is palindrome: \", isPalindrome)"
   ]
  },
  {
   "cell_type": "markdown",
   "id": "a9e9ba7c-c0ba-4592-9138-978e11ba80f8",
   "metadata": {},
   "source": [
    "**Alternative approach to stop while loop**"
   ]
  },
  {
   "cell_type": "code",
   "execution_count": 7,
   "id": "f7e80d87-d27a-459d-b359-705d1cf19789",
   "metadata": {},
   "outputs": [
    {
     "name": "stdout",
     "output_type": "stream",
     "text": [
      "lb :  0\n",
      "ub :  4\n",
      "------------------\n",
      "lb :  1\n",
      "ub :  3\n",
      "------------------\n",
      "word is palindrome:  True\n"
     ]
    }
   ],
   "source": [
    "word = \"level\"\n",
    "isPalindrome = True\n",
    "lb  = 0\n",
    "ub = len(word)-1\n",
    "\n",
    "# if lb's index number become greater than ub's index\n",
    "# then we need to stop the loop\n",
    "while lb<ub:\n",
    "    print(\"lb : \", lb)\n",
    "    print(\"ub : \", ub)\n",
    "    \n",
    "    # if char at lb's index and  char at ub's index number is not equal \n",
    "    # it means the word is not palindrome.\n",
    "    if word[lb] != word[ub]:\n",
    "        isPalindrome = False\n",
    "        break\n",
    "\n",
    "    # after test once cycle we need to update lb and ub\n",
    "    lb += 1 # shifting lb to right\n",
    "    ub -= 1 # shifting ub to left\n",
    "\n",
    "    print(\"------------------\")\n",
    "\n",
    "print(\"word is palindrome: \", isPalindrome)"
   ]
  },
  {
   "cell_type": "code",
   "execution_count": 19,
   "id": "f08d5efe-f0cb-4519-8340-f08c6279875a",
   "metadata": {},
   "outputs": [],
   "source": [
    "para = \"On a sunny Sunday, the level lake beckoned. Ducks waddled, and geese honked \\\n",
    "in harmony. A kayak glided silently, its red hull reflecting the noonday sun. Nearby, a \\\n",
    "radar dish spun lazily, scanning the horizon for any anomalies. The picnic spread was a \\\n",
    "feast of palindromes: racecar-shaped sandwiches, taco cat wraps, and desserts like repapered\\\n",
    "eclairs. Even the lemonade—sipped by the reverent crowd—was a palindrome: madam in Eden, \\\n",
    "I’m Adam.”\""
   ]
  },
  {
   "cell_type": "code",
   "execution_count": null,
   "id": "011d049f-835e-4121-9c02-f3d5de1dfd0e",
   "metadata": {},
   "outputs": [],
   "source": []
  },
  {
   "cell_type": "code",
   "execution_count": 22,
   "id": "02375962-54ec-4013-916f-0987f69f463a",
   "metadata": {},
   "outputs": [],
   "source": [
    "para2 = \"As the day unfolded, the crowd reveled in the symmetry. Children played tag,\\\n",
    "shouting, “deified!” Older folks reminisced about their youth, recalling the time they\\\n",
    "danced the tango with a civic-minded llama. The air hummed with the rhythm of palindrome\\\n",
    "chants: “rotor, rotor, tenet!” And when the sun dipped low, casting long shadows, everyone \\\n",
    "gathered around the campfire to tell stories. Each tale had a twist—a mirror image \\\n",
    "hidden within. The storytellers leaned in, their eyes bright with anticipation.\""
   ]
  },
  {
   "cell_type": "markdown",
   "id": "e9f600fb-665d-4c2e-87cb-16f6ee119d7c",
   "metadata": {},
   "source": [
    "**Find palindrome words**"
   ]
  },
  {
   "cell_type": "code",
   "execution_count": 23,
   "id": "deaca0cb-7daf-4ee1-9320-57d8b794fab9",
   "metadata": {},
   "outputs": [
    {
     "name": "stdout",
     "output_type": "stream",
     "text": [
      "rotor\n",
      "rotor\n",
      "tenet\n"
     ]
    }
   ],
   "source": [
    "for word in para2.split():\n",
    "\n",
    "    # if we only have one character \n",
    "    if len(word) <2:\n",
    "        continue\n",
    "    \n",
    "    lb = 0\n",
    "    ub = len(word) - 1\n",
    "    isPalindrome = True\n",
    "    while lb < ub:\n",
    "\n",
    "        if word[lb] != word[ub]:\n",
    "            isPalindrome = False\n",
    "            break\n",
    "\n",
    "        lb +=1\n",
    "        ub -=1\n",
    "\n",
    "    if isPalindrome:\n",
    "        print(word)\n",
    "    "
   ]
  },
  {
   "cell_type": "code",
   "execution_count": null,
   "id": "bf531a5f-b04e-43d2-817e-222a3cee27a1",
   "metadata": {},
   "outputs": [],
   "source": []
  }
 ],
 "metadata": {
  "kernelspec": {
   "display_name": "Python 3 (ipykernel)",
   "language": "python",
   "name": "python3"
  },
  "language_info": {
   "codemirror_mode": {
    "name": "ipython",
    "version": 3
   },
   "file_extension": ".py",
   "mimetype": "text/x-python",
   "name": "python",
   "nbconvert_exporter": "python",
   "pygments_lexer": "ipython3",
   "version": "3.10.5"
  }
 },
 "nbformat": 4,
 "nbformat_minor": 5
}
