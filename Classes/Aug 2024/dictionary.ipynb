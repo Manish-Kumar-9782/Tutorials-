{
 "cells": [
  {
   "cell_type": "markdown",
   "id": "dbe1acb8-3264-4c88-a90f-9baee6495549",
   "metadata": {},
   "source": [
    "## Dict\n",
    "\n",
    "**Creating dict**"
   ]
  },
  {
   "cell_type": "code",
   "execution_count": 2,
   "id": "b3dc16cf-7969-4f02-bbfc-65d0aeeed9cf",
   "metadata": {},
   "outputs": [],
   "source": [
    "mydict = {\"name\":\"rahul\", \"age\":22, \"height\":5.7, \"bloodgroup\":\"O-\"}"
   ]
  },
  {
   "cell_type": "markdown",
   "id": "a3288eae-1549-48d1-8fa4-776226d1ac88",
   "metadata": {},
   "source": [
    "**reading accessing data**"
   ]
  },
  {
   "cell_type": "code",
   "execution_count": 3,
   "id": "bfe10881-bcac-4703-8c11-54c0428956da",
   "metadata": {},
   "outputs": [
    {
     "data": {
      "text/plain": [
       "'rahul'"
      ]
     },
     "execution_count": 3,
     "metadata": {},
     "output_type": "execute_result"
    }
   ],
   "source": [
    "mydict[\"name\"]"
   ]
  },
  {
   "cell_type": "code",
   "execution_count": 4,
   "id": "937fe53d-a80c-461f-82f9-8b1c582a306c",
   "metadata": {},
   "outputs": [
    {
     "data": {
      "text/plain": [
       "22"
      ]
     },
     "execution_count": 4,
     "metadata": {},
     "output_type": "execute_result"
    }
   ],
   "source": [
    "mydict['age']"
   ]
  },
  {
   "cell_type": "code",
   "execution_count": 5,
   "id": "d771d57a-09ab-4d9a-b397-f06f7133d7ee",
   "metadata": {},
   "outputs": [
    {
     "data": {
      "text/plain": [
       "5.7"
      ]
     },
     "execution_count": 5,
     "metadata": {},
     "output_type": "execute_result"
    }
   ],
   "source": [
    "mydict[\"height\"]"
   ]
  },
  {
   "cell_type": "code",
   "execution_count": 6,
   "id": "bac83cd4-0cce-4187-b0fb-f8b4521e37c9",
   "metadata": {},
   "outputs": [
    {
     "data": {
      "text/plain": [
       "'rahul'"
      ]
     },
     "execution_count": 6,
     "metadata": {},
     "output_type": "execute_result"
    }
   ],
   "source": [
    "key = \"name\"\n",
    "mydict[key]"
   ]
  },
  {
   "cell_type": "markdown",
   "id": "f8b5cfa5-40d4-473e-8110-9d155eead214",
   "metadata": {},
   "source": [
    "**What if key is not in dictionary**"
   ]
  },
  {
   "cell_type": "code",
   "execution_count": 8,
   "id": "9b53f8bd-c966-426f-90d7-f209a4e99e94",
   "metadata": {},
   "outputs": [
    {
     "ename": "KeyError",
     "evalue": "'Name'",
     "output_type": "error",
     "traceback": [
      "\u001b[1;31m---------------------------------------------------------------------------\u001b[0m",
      "\u001b[1;31mKeyError\u001b[0m                                  Traceback (most recent call last)",
      "Cell \u001b[1;32mIn [8], line 1\u001b[0m\n\u001b[1;32m----> 1\u001b[0m \u001b[43mmydict\u001b[49m\u001b[43m[\u001b[49m\u001b[38;5;124;43m\"\u001b[39;49m\u001b[38;5;124;43mName\u001b[39;49m\u001b[38;5;124;43m\"\u001b[39;49m\u001b[43m]\u001b[49m\n",
      "\u001b[1;31mKeyError\u001b[0m: 'Name'"
     ]
    }
   ],
   "source": [
    "mydict[\"Name\"]"
   ]
  },
  {
   "cell_type": "markdown",
   "id": "67efcb2e-c1fc-4515-88d4-44d0a5cd1a27",
   "metadata": {},
   "source": [
    "Note: key \"Name\" is not present in our dictionary, so it gives KeyError. This will be handled very much in django course."
   ]
  },
  {
   "cell_type": "code",
   "execution_count": 10,
   "id": "e99deb9f-85e4-4dc8-8a47-3feaec0f4499",
   "metadata": {},
   "outputs": [],
   "source": [
    "mydict.get(\"Name\")"
   ]
  },
  {
   "cell_type": "markdown",
   "id": "c1db1e4e-5ab8-4b33-a986-fb34cc7a9f0f",
   "metadata": {},
   "source": [
    "Note: by using get method, we avoid the KeyError. but if key is not present then it will return \"None\" by default."
   ]
  },
  {
   "cell_type": "code",
   "execution_count": 11,
   "id": "6fa5b17f-4b01-4df8-bfd1-689327bfcaac",
   "metadata": {},
   "outputs": [
    {
     "name": "stdout",
     "output_type": "stream",
     "text": [
      "Help on method_descriptor:\n",
      "\n",
      "get(self, key, default=None, /)\n",
      "    Return the value for key if key is in the dictionary, else default.\n",
      "\n"
     ]
    }
   ],
   "source": [
    "help(dict.get)"
   ]
  },
  {
   "cell_type": "code",
   "execution_count": 16,
   "id": "607f232f-18a7-4580-ad21-e53ea6a80976",
   "metadata": {},
   "outputs": [
    {
     "data": {
      "text/plain": [
       "'unknown'"
      ]
     },
     "execution_count": 16,
     "metadata": {},
     "output_type": "execute_result"
    }
   ],
   "source": [
    "mydict.get(\"Name\",\"unknown\")"
   ]
  },
  {
   "cell_type": "code",
   "execution_count": 17,
   "id": "710d798c-359a-4341-ad6a-283b233dcfb3",
   "metadata": {},
   "outputs": [
    {
     "data": {
      "text/plain": [
       "'rahul'"
      ]
     },
     "execution_count": 17,
     "metadata": {},
     "output_type": "execute_result"
    }
   ],
   "source": [
    "mydict.get(\"name\",\"unknown\")"
   ]
  },
  {
   "cell_type": "markdown",
   "id": "ae40a319-41e0-40f0-a66c-bda52aefb88c",
   "metadata": {},
   "source": [
    "**updating the dictionary**"
   ]
  },
  {
   "cell_type": "code",
   "execution_count": 18,
   "id": "4473b225-15fa-4a74-92e0-3a8201ffc590",
   "metadata": {},
   "outputs": [
    {
     "data": {
      "text/plain": [
       "{'name': 'rahul', 'age': 22, 'height': 5.7, 'bloodgroup': 'O-'}"
      ]
     },
     "execution_count": 18,
     "metadata": {},
     "output_type": "execute_result"
    }
   ],
   "source": [
    "mydict\n",
    "# first inspecting the data"
   ]
  },
  {
   "cell_type": "code",
   "execution_count": 19,
   "id": "e477fac7-88fc-459d-bfe1-84d329b214ab",
   "metadata": {},
   "outputs": [],
   "source": [
    "# changing age\n",
    "mydict[\"age\"] = 23"
   ]
  },
  {
   "cell_type": "code",
   "execution_count": 20,
   "id": "ed31f420-ff3e-4da5-9f16-1974c615e68a",
   "metadata": {},
   "outputs": [
    {
     "data": {
      "text/plain": [
       "{'name': 'rahul', 'age': 23, 'height': 5.7, 'bloodgroup': 'O-'}"
      ]
     },
     "execution_count": 20,
     "metadata": {},
     "output_type": "execute_result"
    }
   ],
   "source": [
    "mydict"
   ]
  },
  {
   "cell_type": "code",
   "execution_count": 21,
   "id": "db1a2da3-4388-40c9-8e2c-0d0971cf1765",
   "metadata": {},
   "outputs": [
    {
     "data": {
      "text/plain": [
       "{'name': 'rahul', 'age': 24, 'height': 5.7, 'bloodgroup': 'O-'}"
      ]
     },
     "execution_count": 21,
     "metadata": {},
     "output_type": "execute_result"
    }
   ],
   "source": [
    "# incresing the age by 1\n",
    "mydict[\"age\"] += 1 # mydict[\"age\"] = mydict[\"age\"] + 1\n",
    "mydict"
   ]
  },
  {
   "cell_type": "markdown",
   "id": "df7e70c5-c1a3-437e-ba60-9289c5e75119",
   "metadata": {},
   "source": [
    "**What if key is not present during update/assignment operation**"
   ]
  },
  {
   "cell_type": "code",
   "execution_count": 22,
   "id": "c3f5d799-e696-4851-9b36-86276dc21439",
   "metadata": {},
   "outputs": [
    {
     "data": {
      "text/plain": [
       "{'name': 'rahul', 'age': 24, 'height': 5.7, 'bloodgroup': 'O-', 'weight': 62}"
      ]
     },
     "execution_count": 22,
     "metadata": {},
     "output_type": "execute_result"
    }
   ],
   "source": [
    "mydict[\"weight\"] = 62\n",
    "# in this case this new key will be inserted to the dictionary\n",
    "mydict"
   ]
  },
  {
   "cell_type": "code",
   "execution_count": null,
   "id": "d47c45d3-e5bc-4c8b-85a4-8e7f17906eb6",
   "metadata": {},
   "outputs": [],
   "source": []
  },
  {
   "cell_type": "markdown",
   "id": "7cfe42cf-6f6a-4de5-8725-b17f489116ba",
   "metadata": {},
   "source": [
    "**updating dictionary by using the update method**"
   ]
  },
  {
   "cell_type": "code",
   "execution_count": 23,
   "id": "1ec0feac-2881-4691-b025-350310e9fa12",
   "metadata": {},
   "outputs": [],
   "source": [
    "mydict.update({\"age\":26, \"height\":5.8, \"weight\":64})"
   ]
  },
  {
   "cell_type": "code",
   "execution_count": 24,
   "id": "01007260-35f8-4763-9f39-ab002f9fb0b3",
   "metadata": {},
   "outputs": [
    {
     "data": {
      "text/plain": [
       "{'name': 'rahul', 'age': 26, 'height': 5.8, 'bloodgroup': 'O-', 'weight': 64}"
      ]
     },
     "execution_count": 24,
     "metadata": {},
     "output_type": "execute_result"
    }
   ],
   "source": [
    "mydict"
   ]
  },
  {
   "cell_type": "markdown",
   "id": "150a0891-33ae-41aa-b958-f98caf5a5939",
   "metadata": {},
   "source": [
    "**Accessing data in for loop**"
   ]
  },
  {
   "cell_type": "code",
   "execution_count": 25,
   "id": "067a6392-105b-46fc-a4d7-d6487ab14b06",
   "metadata": {},
   "outputs": [
    {
     "name": "stdout",
     "output_type": "stream",
     "text": [
      "name\n",
      "age\n",
      "height\n",
      "bloodgroup\n",
      "weight\n"
     ]
    }
   ],
   "source": [
    "for key in mydict:\n",
    "    print(key)"
   ]
  },
  {
   "cell_type": "code",
   "execution_count": 26,
   "id": "8715e7f2-ae5b-46ec-9a57-b1ac7359a078",
   "metadata": {},
   "outputs": [
    {
     "name": "stdout",
     "output_type": "stream",
     "text": [
      "name           :rahul\n",
      "age            :26\n",
      "height         :5.8\n",
      "bloodgroup     :O-\n",
      "weight         :64\n"
     ]
    }
   ],
   "source": [
    "for key in mydict:\n",
    "    print(f\"{key:15s}:{mydict[key]}\")"
   ]
  },
  {
   "cell_type": "markdown",
   "id": "d5b12f9d-6fea-476b-8c4d-5f486fd2b9dc",
   "metadata": {},
   "source": [
    "**Accessing keys or values**"
   ]
  },
  {
   "cell_type": "code",
   "execution_count": 27,
   "id": "0ca4dcae-903e-473a-b5fe-9574fa352059",
   "metadata": {},
   "outputs": [
    {
     "data": {
      "text/plain": [
       "dict_keys(['name', 'age', 'height', 'bloodgroup', 'weight'])"
      ]
     },
     "execution_count": 27,
     "metadata": {},
     "output_type": "execute_result"
    }
   ],
   "source": [
    "mydict.keys()"
   ]
  },
  {
   "cell_type": "code",
   "execution_count": 30,
   "id": "08206616-463f-478c-b82f-e058011ed24f",
   "metadata": {},
   "outputs": [
    {
     "name": "stdout",
     "output_type": "stream",
     "text": [
      "name\n",
      "age\n",
      "height\n",
      "bloodgroup\n",
      "weight\n"
     ]
    }
   ],
   "source": [
    "for key in mydict.keys():\n",
    "    print(key)"
   ]
  },
  {
   "cell_type": "code",
   "execution_count": 28,
   "id": "26c8839a-9c15-4a62-bec4-26a3b7196268",
   "metadata": {},
   "outputs": [
    {
     "data": {
      "text/plain": [
       "dict_values(['rahul', 26, 5.8, 'O-', 64])"
      ]
     },
     "execution_count": 28,
     "metadata": {},
     "output_type": "execute_result"
    }
   ],
   "source": [
    "mydict.values()"
   ]
  },
  {
   "cell_type": "code",
   "execution_count": 31,
   "id": "81a94fab-f0eb-4358-9edf-d8458160cd20",
   "metadata": {},
   "outputs": [
    {
     "name": "stdout",
     "output_type": "stream",
     "text": [
      "rahul\n",
      "26\n",
      "5.8\n",
      "O-\n",
      "64\n"
     ]
    }
   ],
   "source": [
    "for value in mydict.values():\n",
    "    print(value)"
   ]
  },
  {
   "cell_type": "code",
   "execution_count": 29,
   "id": "023a3beb-a5ae-4609-8d73-5770ab0b509d",
   "metadata": {},
   "outputs": [
    {
     "data": {
      "text/plain": [
       "dict_items([('name', 'rahul'), ('age', 26), ('height', 5.8), ('bloodgroup', 'O-'), ('weight', 64)])"
      ]
     },
     "execution_count": 29,
     "metadata": {},
     "output_type": "execute_result"
    }
   ],
   "source": [
    "mydict.items()"
   ]
  },
  {
   "cell_type": "code",
   "execution_count": 36,
   "id": "bc0642d9-4ca8-466d-bbe3-4470686db5f9",
   "metadata": {},
   "outputs": [
    {
     "name": "stdout",
     "output_type": "stream",
     "text": [
      "('name', 'rahul')\n",
      "('age', 26)\n",
      "('height', 5.8)\n",
      "('bloodgroup', 'O-')\n",
      "('weight', 64)\n"
     ]
    }
   ],
   "source": [
    "# printing as a single object\n",
    "for item in mydict.items():\n",
    "    print(item)"
   ]
  },
  {
   "cell_type": "code",
   "execution_count": 39,
   "id": "af84c661-4a69-49f6-9ea8-c28f1b8be99c",
   "metadata": {},
   "outputs": [
    {
     "name": "stdout",
     "output_type": "stream",
     "text": [
      "name           :rahul\n",
      "age            :26\n",
      "height         :5.8\n",
      "bloodgroup     :O-\n",
      "weight         :64\n"
     ]
    }
   ],
   "source": [
    "# unpacking data from the item tuple\n",
    "for key,value in mydict.items():\n",
    "    print(f\"{key:15s}:{value}\")"
   ]
  },
  {
   "cell_type": "markdown",
   "id": "9f54f8ff-80fc-4829-83fe-0897bbe8860d",
   "metadata": {},
   "source": [
    "### Phone book example"
   ]
  },
  {
   "cell_type": "code",
   "execution_count": 46,
   "id": "1ea845f1-b5c9-4ae0-bc9e-01cd9971a954",
   "metadata": {},
   "outputs": [],
   "source": [
    "phonebook = [\n",
    "    {\n",
    "        'name': 'Amit Patel',\n",
    "        'number': '+91 98765 43210',\n",
    "        'email': 'amit.patel@example.in',\n",
    "        'address': '123 Gokhale Road, Mumbai'\n",
    "    },\n",
    "    {\n",
    "        'name': 'Priya Sharma',\n",
    "        'number': '+91 98765 67890',\n",
    "        'email': 'priya.sharma@example.in',\n",
    "        'address': '456 MG Street, New Delhi'\n",
    "    },\n",
    "    {\n",
    "        'name': 'Rajesh Gupta',\n",
    "        'number': '+91 98765 12345',\n",
    "        'email': 'rajesh.gupta@example.in',\n",
    "        'address': '789 Gandhi Nagar, Bengaluru'\n",
    "    },\n",
    "    {\n",
    "        'name': 'Sneha Reddy',\n",
    "        'number': '+91 98765 98765',\n",
    "        'email': 'sneha.reddy@example.in',\n",
    "        'address': '567 Jubilee Hills, Hyderabad'\n",
    "    },\n",
    "    {\n",
    "        'name': 'Vikram Singh',\n",
    "        'number': '+91 98765 54321',\n",
    "        'email': 'vikram.singh@example.in',\n",
    "        'address': '890 Civil Lines, Jaipur'\n",
    "    },\n",
    "    {\n",
    "        'name': 'Ananya Das',\n",
    "        'number': '+91 98765 87654',\n",
    "        'email': 'ananya.das@example.in',\n",
    "        'address': '234 Park Street, Kolkata'\n",
    "    },\n",
    "    {\n",
    "        'name': 'Naveen Kumar',\n",
    "        'number': '+91 98765 23456',\n",
    "        'email': 'naveen.kumar@example.in',\n",
    "        'address': '345 Brigade Road, Bengaluru'\n",
    "    },\n",
    "    {\n",
    "        'name': 'Meera Desai',\n",
    "        'number': '+91 98765 76543',\n",
    "        'email': 'meera.desai@example.in',\n",
    "        'address': '678 Marine Drive, Mumbai'\n",
    "    },\n",
    "    {\n",
    "        'name': 'Rahul Verma',\n",
    "        'number': '+91 98765 34567',\n",
    "        'email': 'rahul.verma@example.in',\n",
    "        'address': '456 Nehru Nagar, Pune'\n",
    "    },\n",
    "    {\n",
    "        'name': 'Kavita Joshi',\n",
    "        'number': '+91 98765 65432',\n",
    "        'email': 'kavita.joshi@example.in',\n",
    "        'address': '789 Rajpur Road, Dehradun'\n",
    "    },\n",
    "    [\"hello\",\"dummy data\"]\n",
    "]"
   ]
  },
  {
   "cell_type": "code",
   "execution_count": 47,
   "id": "3057b158-7226-486f-9960-39ae41e4e27a",
   "metadata": {},
   "outputs": [
    {
     "name": "stdout",
     "output_type": "stream",
     "text": [
      "{'name': 'Amit Patel', 'number': '+91 98765 43210', 'email': 'amit.patel@example.in', 'address': '123 Gokhale Road, Mumbai'}\n",
      "{'name': 'Priya Sharma', 'number': '+91 98765 67890', 'email': 'priya.sharma@example.in', 'address': '456 MG Street, New Delhi'}\n",
      "{'name': 'Rajesh Gupta', 'number': '+91 98765 12345', 'email': 'rajesh.gupta@example.in', 'address': '789 Gandhi Nagar, Bengaluru'}\n",
      "{'name': 'Sneha Reddy', 'number': '+91 98765 98765', 'email': 'sneha.reddy@example.in', 'address': '567 Jubilee Hills, Hyderabad'}\n",
      "{'name': 'Vikram Singh', 'number': '+91 98765 54321', 'email': 'vikram.singh@example.in', 'address': '890 Civil Lines, Jaipur'}\n",
      "{'name': 'Ananya Das', 'number': '+91 98765 87654', 'email': 'ananya.das@example.in', 'address': '234 Park Street, Kolkata'}\n",
      "{'name': 'Naveen Kumar', 'number': '+91 98765 23456', 'email': 'naveen.kumar@example.in', 'address': '345 Brigade Road, Bengaluru'}\n",
      "{'name': 'Meera Desai', 'number': '+91 98765 76543', 'email': 'meera.desai@example.in', 'address': '678 Marine Drive, Mumbai'}\n",
      "{'name': 'Rahul Verma', 'number': '+91 98765 34567', 'email': 'rahul.verma@example.in', 'address': '456 Nehru Nagar, Pune'}\n",
      "{'name': 'Kavita Joshi', 'number': '+91 98765 65432', 'email': 'kavita.joshi@example.in', 'address': '789 Rajpur Road, Dehradun'}\n",
      "['hello', 'dummy data']\n"
     ]
    }
   ],
   "source": [
    "# accesing individual person data using for loop.\n",
    "for item in phonebook:\n",
    "    print(item)"
   ]
  },
  {
   "cell_type": "markdown",
   "id": "3248f5e8-7f64-445b-8421-4f9e0e541e50",
   "metadata": {},
   "source": [
    "**Accessing only name and phone number**"
   ]
  },
  {
   "cell_type": "code",
   "execution_count": 48,
   "id": "ec4fccf0-337e-441a-bffc-3df39f4dbc6c",
   "metadata": {},
   "outputs": [
    {
     "name": "stdout",
     "output_type": "stream",
     "text": [
      "Amit Patel     :+91 98765 43210\n",
      "Priya Sharma   :+91 98765 67890\n",
      "Rajesh Gupta   :+91 98765 12345\n",
      "Sneha Reddy    :+91 98765 98765\n",
      "Vikram Singh   :+91 98765 54321\n",
      "Ananya Das     :+91 98765 87654\n",
      "Naveen Kumar   :+91 98765 23456\n",
      "Meera Desai    :+91 98765 76543\n",
      "Rahul Verma    :+91 98765 34567\n",
      "Kavita Joshi   :+91 98765 65432\n"
     ]
    },
    {
     "ename": "TypeError",
     "evalue": "list indices must be integers or slices, not str",
     "output_type": "error",
     "traceback": [
      "\u001b[1;31m---------------------------------------------------------------------------\u001b[0m",
      "\u001b[1;31mTypeError\u001b[0m                                 Traceback (most recent call last)",
      "Cell \u001b[1;32mIn [48], line 2\u001b[0m\n\u001b[0;32m      1\u001b[0m \u001b[38;5;28;01mfor\u001b[39;00m person_data \u001b[38;5;129;01min\u001b[39;00m phonebook:\n\u001b[1;32m----> 2\u001b[0m     name \u001b[38;5;241m=\u001b[39m \u001b[43mperson_data\u001b[49m\u001b[43m[\u001b[49m\u001b[38;5;124;43m'\u001b[39;49m\u001b[38;5;124;43mname\u001b[39;49m\u001b[38;5;124;43m'\u001b[39;49m\u001b[43m]\u001b[49m\n\u001b[0;32m      3\u001b[0m     number \u001b[38;5;241m=\u001b[39m person_data[\u001b[38;5;124m'\u001b[39m\u001b[38;5;124mnumber\u001b[39m\u001b[38;5;124m'\u001b[39m]\n\u001b[0;32m      4\u001b[0m     \u001b[38;5;28mprint\u001b[39m(\u001b[38;5;124mf\u001b[39m\u001b[38;5;124m\"\u001b[39m\u001b[38;5;132;01m{\u001b[39;00mname\u001b[38;5;132;01m:\u001b[39;00m\u001b[38;5;124m15s\u001b[39m\u001b[38;5;132;01m}\u001b[39;00m\u001b[38;5;124m:\u001b[39m\u001b[38;5;132;01m{\u001b[39;00mnumber\u001b[38;5;132;01m}\u001b[39;00m\u001b[38;5;124m\"\u001b[39m)\n",
      "\u001b[1;31mTypeError\u001b[0m: list indices must be integers or slices, not str"
     ]
    }
   ],
   "source": [
    "for person_data in phonebook:\n",
    "    name = person_data['name']\n",
    "    number = person_data['number']\n",
    "    print(f\"{name:15s}:{number}\")"
   ]
  },
  {
   "cell_type": "markdown",
   "id": "1a957285-27d3-4a33-bf9e-fc212a90b9b5",
   "metadata": {},
   "source": [
    "**Accessing data with verification**"
   ]
  },
  {
   "cell_type": "code",
   "execution_count": 49,
   "id": "8ac303bf-daee-49ce-addd-80588f4f2546",
   "metadata": {},
   "outputs": [
    {
     "name": "stdout",
     "output_type": "stream",
     "text": [
      "Amit Patel     :+91 98765 43210\n",
      "Priya Sharma   :+91 98765 67890\n",
      "Rajesh Gupta   :+91 98765 12345\n",
      "Sneha Reddy    :+91 98765 98765\n",
      "Vikram Singh   :+91 98765 54321\n",
      "Ananya Das     :+91 98765 87654\n",
      "Naveen Kumar   :+91 98765 23456\n",
      "Meera Desai    :+91 98765 76543\n",
      "Rahul Verma    :+91 98765 34567\n",
      "Kavita Joshi   :+91 98765 65432\n",
      "diffent data type found... <class 'list'>\n"
     ]
    }
   ],
   "source": [
    "for person_data in phonebook:\n",
    "    if type(person_data) == dict:\n",
    "        name = person_data['name']\n",
    "        number = person_data['number']\n",
    "        print(f\"{name:15s}:{number}\")\n",
    "    else:\n",
    "        print(\"diffent data type found...\", type(person_data))"
   ]
  },
  {
   "cell_type": "code",
   "execution_count": null,
   "id": "d9067a87-7ff0-4c93-99d7-2f79d0aed1c3",
   "metadata": {},
   "outputs": [],
   "source": []
  }
 ],
 "metadata": {
  "kernelspec": {
   "display_name": "Python 3 (ipykernel)",
   "language": "python",
   "name": "python3"
  },
  "language_info": {
   "codemirror_mode": {
    "name": "ipython",
    "version": 3
   },
   "file_extension": ".py",
   "mimetype": "text/x-python",
   "name": "python",
   "nbconvert_exporter": "python",
   "pygments_lexer": "ipython3",
   "version": "3.10.5"
  }
 },
 "nbformat": 4,
 "nbformat_minor": 5
}
