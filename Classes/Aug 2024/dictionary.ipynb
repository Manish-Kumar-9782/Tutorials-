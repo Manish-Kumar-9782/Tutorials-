{
 "cells": [
  {
   "cell_type": "markdown",
   "id": "dbe1acb8-3264-4c88-a90f-9baee6495549",
   "metadata": {},
   "source": [
    "## Dict\n",
    "\n",
    "**Creating dict**"
   ]
  },
  {
   "cell_type": "code",
   "execution_count": 2,
   "id": "b3dc16cf-7969-4f02-bbfc-65d0aeeed9cf",
   "metadata": {},
   "outputs": [],
   "source": [
    "mydict = {\"name\":\"rahul\", \"age\":22, \"height\":5.7, \"bloodgroup\":\"O-\"}"
   ]
  },
  {
   "cell_type": "markdown",
   "id": "a3288eae-1549-48d1-8fa4-776226d1ac88",
   "metadata": {},
   "source": [
    "**reading accessing data**"
   ]
  },
  {
   "cell_type": "code",
   "execution_count": 3,
   "id": "bfe10881-bcac-4703-8c11-54c0428956da",
   "metadata": {},
   "outputs": [
    {
     "data": {
      "text/plain": [
       "'rahul'"
      ]
     },
     "execution_count": 3,
     "metadata": {},
     "output_type": "execute_result"
    }
   ],
   "source": [
    "mydict[\"name\"]"
   ]
  },
  {
   "cell_type": "code",
   "execution_count": 4,
   "id": "937fe53d-a80c-461f-82f9-8b1c582a306c",
   "metadata": {},
   "outputs": [
    {
     "data": {
      "text/plain": [
       "22"
      ]
     },
     "execution_count": 4,
     "metadata": {},
     "output_type": "execute_result"
    }
   ],
   "source": [
    "mydict['age']"
   ]
  },
  {
   "cell_type": "code",
   "execution_count": 5,
   "id": "d771d57a-09ab-4d9a-b397-f06f7133d7ee",
   "metadata": {},
   "outputs": [
    {
     "data": {
      "text/plain": [
       "5.7"
      ]
     },
     "execution_count": 5,
     "metadata": {},
     "output_type": "execute_result"
    }
   ],
   "source": [
    "mydict[\"height\"]"
   ]
  },
  {
   "cell_type": "code",
   "execution_count": 6,
   "id": "bac83cd4-0cce-4187-b0fb-f8b4521e37c9",
   "metadata": {},
   "outputs": [
    {
     "data": {
      "text/plain": [
       "'rahul'"
      ]
     },
     "execution_count": 6,
     "metadata": {},
     "output_type": "execute_result"
    }
   ],
   "source": [
    "key = \"name\"\n",
    "mydict[key]"
   ]
  },
  {
   "cell_type": "markdown",
   "id": "f8b5cfa5-40d4-473e-8110-9d155eead214",
   "metadata": {},
   "source": [
    "**What if key is not in dictionary**"
   ]
  },
  {
   "cell_type": "code",
   "execution_count": 8,
   "id": "9b53f8bd-c966-426f-90d7-f209a4e99e94",
   "metadata": {},
   "outputs": [
    {
     "ename": "KeyError",
     "evalue": "'Name'",
     "output_type": "error",
     "traceback": [
      "\u001b[1;31m---------------------------------------------------------------------------\u001b[0m",
      "\u001b[1;31mKeyError\u001b[0m                                  Traceback (most recent call last)",
      "Cell \u001b[1;32mIn [8], line 1\u001b[0m\n\u001b[1;32m----> 1\u001b[0m \u001b[43mmydict\u001b[49m\u001b[43m[\u001b[49m\u001b[38;5;124;43m\"\u001b[39;49m\u001b[38;5;124;43mName\u001b[39;49m\u001b[38;5;124;43m\"\u001b[39;49m\u001b[43m]\u001b[49m\n",
      "\u001b[1;31mKeyError\u001b[0m: 'Name'"
     ]
    }
   ],
   "source": [
    "mydict[\"Name\"]"
   ]
  },
  {
   "cell_type": "markdown",
   "id": "67efcb2e-c1fc-4515-88d4-44d0a5cd1a27",
   "metadata": {},
   "source": [
    "Note: key \"Name\" is not present in our dictionary, so it gives KeyError. This will be handled very much in django course."
   ]
  },
  {
   "cell_type": "code",
   "execution_count": 10,
   "id": "e99deb9f-85e4-4dc8-8a47-3feaec0f4499",
   "metadata": {},
   "outputs": [],
   "source": [
    "mydict.get(\"Name\")"
   ]
  },
  {
   "cell_type": "markdown",
   "id": "c1db1e4e-5ab8-4b33-a986-fb34cc7a9f0f",
   "metadata": {},
   "source": [
    "Note: by using get method, we avoid the KeyError. but if key is not present then it will return \"None\" by default."
   ]
  },
  {
   "cell_type": "code",
   "execution_count": 11,
   "id": "6fa5b17f-4b01-4df8-bfd1-689327bfcaac",
   "metadata": {},
   "outputs": [
    {
     "name": "stdout",
     "output_type": "stream",
     "text": [
      "Help on method_descriptor:\n",
      "\n",
      "get(self, key, default=None, /)\n",
      "    Return the value for key if key is in the dictionary, else default.\n",
      "\n"
     ]
    }
   ],
   "source": [
    "help(dict.get)"
   ]
  },
  {
   "cell_type": "code",
   "execution_count": 16,
   "id": "607f232f-18a7-4580-ad21-e53ea6a80976",
   "metadata": {},
   "outputs": [
    {
     "data": {
      "text/plain": [
       "'unknown'"
      ]
     },
     "execution_count": 16,
     "metadata": {},
     "output_type": "execute_result"
    }
   ],
   "source": [
    "mydict.get(\"Name\",\"unknown\")"
   ]
  },
  {
   "cell_type": "code",
   "execution_count": 17,
   "id": "710d798c-359a-4341-ad6a-283b233dcfb3",
   "metadata": {},
   "outputs": [
    {
     "data": {
      "text/plain": [
       "'rahul'"
      ]
     },
     "execution_count": 17,
     "metadata": {},
     "output_type": "execute_result"
    }
   ],
   "source": [
    "mydict.get(\"name\",\"unknown\")"
   ]
  },
  {
   "cell_type": "markdown",
   "id": "ae40a319-41e0-40f0-a66c-bda52aefb88c",
   "metadata": {},
   "source": [
    "**updating the dictionary**"
   ]
  },
  {
   "cell_type": "code",
   "execution_count": 18,
   "id": "4473b225-15fa-4a74-92e0-3a8201ffc590",
   "metadata": {},
   "outputs": [
    {
     "data": {
      "text/plain": [
       "{'name': 'rahul', 'age': 22, 'height': 5.7, 'bloodgroup': 'O-'}"
      ]
     },
     "execution_count": 18,
     "metadata": {},
     "output_type": "execute_result"
    }
   ],
   "source": [
    "mydict\n",
    "# first inspecting the data"
   ]
  },
  {
   "cell_type": "code",
   "execution_count": 19,
   "id": "e477fac7-88fc-459d-bfe1-84d329b214ab",
   "metadata": {},
   "outputs": [],
   "source": [
    "# changing age\n",
    "mydict[\"age\"] = 23"
   ]
  },
  {
   "cell_type": "code",
   "execution_count": 20,
   "id": "ed31f420-ff3e-4da5-9f16-1974c615e68a",
   "metadata": {},
   "outputs": [
    {
     "data": {
      "text/plain": [
       "{'name': 'rahul', 'age': 23, 'height': 5.7, 'bloodgroup': 'O-'}"
      ]
     },
     "execution_count": 20,
     "metadata": {},
     "output_type": "execute_result"
    }
   ],
   "source": [
    "mydict"
   ]
  },
  {
   "cell_type": "code",
   "execution_count": 21,
   "id": "db1a2da3-4388-40c9-8e2c-0d0971cf1765",
   "metadata": {},
   "outputs": [
    {
     "data": {
      "text/plain": [
       "{'name': 'rahul', 'age': 24, 'height': 5.7, 'bloodgroup': 'O-'}"
      ]
     },
     "execution_count": 21,
     "metadata": {},
     "output_type": "execute_result"
    }
   ],
   "source": [
    "# incresing the age by 1\n",
    "mydict[\"age\"] += 1 # mydict[\"age\"] = mydict[\"age\"] + 1\n",
    "mydict"
   ]
  },
  {
   "cell_type": "markdown",
   "id": "df7e70c5-c1a3-437e-ba60-9289c5e75119",
   "metadata": {},
   "source": [
    "**What if key is not present during update/assignment operation**"
   ]
  },
  {
   "cell_type": "code",
   "execution_count": 22,
   "id": "c3f5d799-e696-4851-9b36-86276dc21439",
   "metadata": {},
   "outputs": [
    {
     "data": {
      "text/plain": [
       "{'name': 'rahul', 'age': 24, 'height': 5.7, 'bloodgroup': 'O-', 'weight': 62}"
      ]
     },
     "execution_count": 22,
     "metadata": {},
     "output_type": "execute_result"
    }
   ],
   "source": [
    "mydict[\"weight\"] = 62\n",
    "# in this case this new key will be inserted to the dictionary\n",
    "mydict"
   ]
  },
  {
   "cell_type": "code",
   "execution_count": null,
   "id": "d47c45d3-e5bc-4c8b-85a4-8e7f17906eb6",
   "metadata": {},
   "outputs": [],
   "source": []
  },
  {
   "cell_type": "markdown",
   "id": "7cfe42cf-6f6a-4de5-8725-b17f489116ba",
   "metadata": {},
   "source": [
    "**updating dictionary by using the update method**"
   ]
  },
  {
   "cell_type": "code",
   "execution_count": 23,
   "id": "1ec0feac-2881-4691-b025-350310e9fa12",
   "metadata": {},
   "outputs": [],
   "source": [
    "mydict.update({\"age\":26, \"height\":5.8, \"weight\":64})"
   ]
  },
  {
   "cell_type": "code",
   "execution_count": 24,
   "id": "01007260-35f8-4763-9f39-ab002f9fb0b3",
   "metadata": {},
   "outputs": [
    {
     "data": {
      "text/plain": [
       "{'name': 'rahul', 'age': 26, 'height': 5.8, 'bloodgroup': 'O-', 'weight': 64}"
      ]
     },
     "execution_count": 24,
     "metadata": {},
     "output_type": "execute_result"
    }
   ],
   "source": [
    "mydict"
   ]
  },
  {
   "cell_type": "markdown",
   "id": "150a0891-33ae-41aa-b958-f98caf5a5939",
   "metadata": {},
   "source": [
    "**Accessing data in for loop**"
   ]
  },
  {
   "cell_type": "code",
   "execution_count": 25,
   "id": "067a6392-105b-46fc-a4d7-d6487ab14b06",
   "metadata": {},
   "outputs": [
    {
     "name": "stdout",
     "output_type": "stream",
     "text": [
      "name\n",
      "age\n",
      "height\n",
      "bloodgroup\n",
      "weight\n"
     ]
    }
   ],
   "source": [
    "for key in mydict:\n",
    "    print(key)"
   ]
  },
  {
   "cell_type": "code",
   "execution_count": 26,
   "id": "8715e7f2-ae5b-46ec-9a57-b1ac7359a078",
   "metadata": {},
   "outputs": [
    {
     "name": "stdout",
     "output_type": "stream",
     "text": [
      "name           :rahul\n",
      "age            :26\n",
      "height         :5.8\n",
      "bloodgroup     :O-\n",
      "weight         :64\n"
     ]
    }
   ],
   "source": [
    "for key in mydict:\n",
    "    print(f\"{key:15s}:{mydict[key]}\")"
   ]
  },
  {
   "cell_type": "markdown",
   "id": "d5b12f9d-6fea-476b-8c4d-5f486fd2b9dc",
   "metadata": {},
   "source": [
    "**Accessing keys or values**"
   ]
  },
  {
   "cell_type": "code",
   "execution_count": 27,
   "id": "0ca4dcae-903e-473a-b5fe-9574fa352059",
   "metadata": {},
   "outputs": [
    {
     "data": {
      "text/plain": [
       "dict_keys(['name', 'age', 'height', 'bloodgroup', 'weight'])"
      ]
     },
     "execution_count": 27,
     "metadata": {},
     "output_type": "execute_result"
    }
   ],
   "source": [
    "mydict.keys()"
   ]
  },
  {
   "cell_type": "code",
   "execution_count": 30,
   "id": "08206616-463f-478c-b82f-e058011ed24f",
   "metadata": {},
   "outputs": [
    {
     "name": "stdout",
     "output_type": "stream",
     "text": [
      "name\n",
      "age\n",
      "height\n",
      "bloodgroup\n",
      "weight\n"
     ]
    }
   ],
   "source": [
    "for key in mydict.keys():\n",
    "    print(key)"
   ]
  },
  {
   "cell_type": "code",
   "execution_count": 28,
   "id": "26c8839a-9c15-4a62-bec4-26a3b7196268",
   "metadata": {},
   "outputs": [
    {
     "data": {
      "text/plain": [
       "dict_values(['rahul', 26, 5.8, 'O-', 64])"
      ]
     },
     "execution_count": 28,
     "metadata": {},
     "output_type": "execute_result"
    }
   ],
   "source": [
    "mydict.values()"
   ]
  },
  {
   "cell_type": "code",
   "execution_count": 31,
   "id": "81a94fab-f0eb-4358-9edf-d8458160cd20",
   "metadata": {},
   "outputs": [
    {
     "name": "stdout",
     "output_type": "stream",
     "text": [
      "rahul\n",
      "26\n",
      "5.8\n",
      "O-\n",
      "64\n"
     ]
    }
   ],
   "source": [
    "for value in mydict.values():\n",
    "    print(value)"
   ]
  },
  {
   "cell_type": "code",
   "execution_count": 29,
   "id": "023a3beb-a5ae-4609-8d73-5770ab0b509d",
   "metadata": {},
   "outputs": [
    {
     "data": {
      "text/plain": [
       "dict_items([('name', 'rahul'), ('age', 26), ('height', 5.8), ('bloodgroup', 'O-'), ('weight', 64)])"
      ]
     },
     "execution_count": 29,
     "metadata": {},
     "output_type": "execute_result"
    }
   ],
   "source": [
    "mydict.items()"
   ]
  },
  {
   "cell_type": "code",
   "execution_count": 36,
   "id": "bc0642d9-4ca8-466d-bbe3-4470686db5f9",
   "metadata": {},
   "outputs": [
    {
     "name": "stdout",
     "output_type": "stream",
     "text": [
      "('name', 'rahul')\n",
      "('age', 26)\n",
      "('height', 5.8)\n",
      "('bloodgroup', 'O-')\n",
      "('weight', 64)\n"
     ]
    }
   ],
   "source": [
    "# printing as a single object\n",
    "for item in mydict.items():\n",
    "    print(item)"
   ]
  },
  {
   "cell_type": "code",
   "execution_count": 39,
   "id": "af84c661-4a69-49f6-9ea8-c28f1b8be99c",
   "metadata": {},
   "outputs": [
    {
     "name": "stdout",
     "output_type": "stream",
     "text": [
      "name           :rahul\n",
      "age            :26\n",
      "height         :5.8\n",
      "bloodgroup     :O-\n",
      "weight         :64\n"
     ]
    }
   ],
   "source": [
    "# unpacking data from the item tuple\n",
    "for key,value in mydict.items():\n",
    "    print(f\"{key:15s}:{value}\")"
   ]
  },
  {
   "cell_type": "markdown",
   "id": "9f54f8ff-80fc-4829-83fe-0897bbe8860d",
   "metadata": {},
   "source": [
    "### Phone book example"
   ]
  },
  {
   "cell_type": "code",
   "execution_count": 46,
   "id": "1ea845f1-b5c9-4ae0-bc9e-01cd9971a954",
   "metadata": {},
   "outputs": [],
   "source": [
    "phonebook = [\n",
    "    {\n",
    "        'name': 'Amit Patel',\n",
    "        'number': '+91 98765 43210',\n",
    "        'email': 'amit.patel@example.in',\n",
    "        'address': '123 Gokhale Road, Mumbai'\n",
    "    },\n",
    "    {\n",
    "        'name': 'Priya Sharma',\n",
    "        'number': '+91 98765 67890',\n",
    "        'email': 'priya.sharma@example.in',\n",
    "        'address': '456 MG Street, New Delhi'\n",
    "    },\n",
    "    {\n",
    "        'name': 'Rajesh Gupta',\n",
    "        'number': '+91 98765 12345',\n",
    "        'email': 'rajesh.gupta@example.in',\n",
    "        'address': '789 Gandhi Nagar, Bengaluru'\n",
    "    },\n",
    "    {\n",
    "        'name': 'Sneha Reddy',\n",
    "        'number': '+91 98765 98765',\n",
    "        'email': 'sneha.reddy@example.in',\n",
    "        'address': '567 Jubilee Hills, Hyderabad'\n",
    "    },\n",
    "    {\n",
    "        'name': 'Vikram Singh',\n",
    "        'number': '+91 98765 54321',\n",
    "        'email': 'vikram.singh@example.in',\n",
    "        'address': '890 Civil Lines, Jaipur'\n",
    "    },\n",
    "    {\n",
    "        'name': 'Ananya Das',\n",
    "        'number': '+91 98765 87654',\n",
    "        'email': 'ananya.das@example.in',\n",
    "        'address': '234 Park Street, Kolkata'\n",
    "    },\n",
    "    {\n",
    "        'name': 'Naveen Kumar',\n",
    "        'number': '+91 98765 23456',\n",
    "        'email': 'naveen.kumar@example.in',\n",
    "        'address': '345 Brigade Road, Bengaluru'\n",
    "    },\n",
    "    {\n",
    "        'name': 'Meera Desai',\n",
    "        'number': '+91 98765 76543',\n",
    "        'email': 'meera.desai@example.in',\n",
    "        'address': '678 Marine Drive, Mumbai'\n",
    "    },\n",
    "    {\n",
    "        'name': 'Rahul Verma',\n",
    "        'number': '+91 98765 34567',\n",
    "        'email': 'rahul.verma@example.in',\n",
    "        'address': '456 Nehru Nagar, Pune'\n",
    "    },\n",
    "    {\n",
    "        'name': 'Kavita Joshi',\n",
    "        'number': '+91 98765 65432',\n",
    "        'email': 'kavita.joshi@example.in',\n",
    "        'address': '789 Rajpur Road, Dehradun'\n",
    "    },\n",
    "    [\"hello\",\"dummy data\"]\n",
    "]"
   ]
  },
  {
   "cell_type": "code",
   "execution_count": 47,
   "id": "3057b158-7226-486f-9960-39ae41e4e27a",
   "metadata": {},
   "outputs": [
    {
     "name": "stdout",
     "output_type": "stream",
     "text": [
      "{'name': 'Amit Patel', 'number': '+91 98765 43210', 'email': 'amit.patel@example.in', 'address': '123 Gokhale Road, Mumbai'}\n",
      "{'name': 'Priya Sharma', 'number': '+91 98765 67890', 'email': 'priya.sharma@example.in', 'address': '456 MG Street, New Delhi'}\n",
      "{'name': 'Rajesh Gupta', 'number': '+91 98765 12345', 'email': 'rajesh.gupta@example.in', 'address': '789 Gandhi Nagar, Bengaluru'}\n",
      "{'name': 'Sneha Reddy', 'number': '+91 98765 98765', 'email': 'sneha.reddy@example.in', 'address': '567 Jubilee Hills, Hyderabad'}\n",
      "{'name': 'Vikram Singh', 'number': '+91 98765 54321', 'email': 'vikram.singh@example.in', 'address': '890 Civil Lines, Jaipur'}\n",
      "{'name': 'Ananya Das', 'number': '+91 98765 87654', 'email': 'ananya.das@example.in', 'address': '234 Park Street, Kolkata'}\n",
      "{'name': 'Naveen Kumar', 'number': '+91 98765 23456', 'email': 'naveen.kumar@example.in', 'address': '345 Brigade Road, Bengaluru'}\n",
      "{'name': 'Meera Desai', 'number': '+91 98765 76543', 'email': 'meera.desai@example.in', 'address': '678 Marine Drive, Mumbai'}\n",
      "{'name': 'Rahul Verma', 'number': '+91 98765 34567', 'email': 'rahul.verma@example.in', 'address': '456 Nehru Nagar, Pune'}\n",
      "{'name': 'Kavita Joshi', 'number': '+91 98765 65432', 'email': 'kavita.joshi@example.in', 'address': '789 Rajpur Road, Dehradun'}\n",
      "['hello', 'dummy data']\n"
     ]
    }
   ],
   "source": [
    "# accesing individual person data using for loop.\n",
    "for item in phonebook:\n",
    "    print(item)"
   ]
  },
  {
   "cell_type": "markdown",
   "id": "3248f5e8-7f64-445b-8421-4f9e0e541e50",
   "metadata": {},
   "source": [
    "**Accessing only name and phone number**"
   ]
  },
  {
   "cell_type": "code",
   "execution_count": 48,
   "id": "ec4fccf0-337e-441a-bffc-3df39f4dbc6c",
   "metadata": {},
   "outputs": [
    {
     "name": "stdout",
     "output_type": "stream",
     "text": [
      "Amit Patel     :+91 98765 43210\n",
      "Priya Sharma   :+91 98765 67890\n",
      "Rajesh Gupta   :+91 98765 12345\n",
      "Sneha Reddy    :+91 98765 98765\n",
      "Vikram Singh   :+91 98765 54321\n",
      "Ananya Das     :+91 98765 87654\n",
      "Naveen Kumar   :+91 98765 23456\n",
      "Meera Desai    :+91 98765 76543\n",
      "Rahul Verma    :+91 98765 34567\n",
      "Kavita Joshi   :+91 98765 65432\n"
     ]
    },
    {
     "ename": "TypeError",
     "evalue": "list indices must be integers or slices, not str",
     "output_type": "error",
     "traceback": [
      "\u001b[1;31m---------------------------------------------------------------------------\u001b[0m",
      "\u001b[1;31mTypeError\u001b[0m                                 Traceback (most recent call last)",
      "Cell \u001b[1;32mIn [48], line 2\u001b[0m\n\u001b[0;32m      1\u001b[0m \u001b[38;5;28;01mfor\u001b[39;00m person_data \u001b[38;5;129;01min\u001b[39;00m phonebook:\n\u001b[1;32m----> 2\u001b[0m     name \u001b[38;5;241m=\u001b[39m \u001b[43mperson_data\u001b[49m\u001b[43m[\u001b[49m\u001b[38;5;124;43m'\u001b[39;49m\u001b[38;5;124;43mname\u001b[39;49m\u001b[38;5;124;43m'\u001b[39;49m\u001b[43m]\u001b[49m\n\u001b[0;32m      3\u001b[0m     number \u001b[38;5;241m=\u001b[39m person_data[\u001b[38;5;124m'\u001b[39m\u001b[38;5;124mnumber\u001b[39m\u001b[38;5;124m'\u001b[39m]\n\u001b[0;32m      4\u001b[0m     \u001b[38;5;28mprint\u001b[39m(\u001b[38;5;124mf\u001b[39m\u001b[38;5;124m\"\u001b[39m\u001b[38;5;132;01m{\u001b[39;00mname\u001b[38;5;132;01m:\u001b[39;00m\u001b[38;5;124m15s\u001b[39m\u001b[38;5;132;01m}\u001b[39;00m\u001b[38;5;124m:\u001b[39m\u001b[38;5;132;01m{\u001b[39;00mnumber\u001b[38;5;132;01m}\u001b[39;00m\u001b[38;5;124m\"\u001b[39m)\n",
      "\u001b[1;31mTypeError\u001b[0m: list indices must be integers or slices, not str"
     ]
    }
   ],
   "source": [
    "for person_data in phonebook:\n",
    "    name = person_data['name']\n",
    "    number = person_data['number']\n",
    "    print(f\"{name:15s}:{number}\")"
   ]
  },
  {
   "cell_type": "markdown",
   "id": "1a957285-27d3-4a33-bf9e-fc212a90b9b5",
   "metadata": {},
   "source": [
    "**Accessing data with verification**"
   ]
  },
  {
   "cell_type": "code",
   "execution_count": 49,
   "id": "8ac303bf-daee-49ce-addd-80588f4f2546",
   "metadata": {},
   "outputs": [
    {
     "name": "stdout",
     "output_type": "stream",
     "text": [
      "Amit Patel     :+91 98765 43210\n",
      "Priya Sharma   :+91 98765 67890\n",
      "Rajesh Gupta   :+91 98765 12345\n",
      "Sneha Reddy    :+91 98765 98765\n",
      "Vikram Singh   :+91 98765 54321\n",
      "Ananya Das     :+91 98765 87654\n",
      "Naveen Kumar   :+91 98765 23456\n",
      "Meera Desai    :+91 98765 76543\n",
      "Rahul Verma    :+91 98765 34567\n",
      "Kavita Joshi   :+91 98765 65432\n",
      "diffent data type found... <class 'list'>\n"
     ]
    }
   ],
   "source": [
    "for person_data in phonebook:\n",
    "    if type(person_data) == dict:\n",
    "        name = person_data['name']\n",
    "        number = person_data['number']\n",
    "        print(f\"{name:15s}:{number}\")\n",
    "    else:\n",
    "        print(\"diffent data type found...\", type(person_data))"
   ]
  },
  {
   "cell_type": "markdown",
   "id": "cb39f5b0-3dad-45a7-82fc-2c543b0e817f",
   "metadata": {},
   "source": [
    "## Task\n",
    "\n",
    "**Complete the Following Points**\n",
    "\n",
    "1. create random integer data points (100 data points) in b/w range(1,8)\n",
    "2. find the freq for each number.\n",
    "3. map each nuumber to a color\n",
    "4. create the histogram for colors"
   ]
  },
  {
   "cell_type": "code",
   "execution_count": 12,
   "id": "b35b8679-a130-48b9-9348-61f4c65594ac",
   "metadata": {},
   "outputs": [],
   "source": [
    "# importing the random module\n",
    "import random"
   ]
  },
  {
   "cell_type": "code",
   "execution_count": 13,
   "id": "18a2e695-10e9-4c64-ba83-8e5bfc455423",
   "metadata": {},
   "outputs": [],
   "source": [
    "# creating 100 random number in b/w 1 to 8\n",
    "balls = []\n",
    "for i in range(100):\n",
    "    _random_number = random.randint(1,8)\n",
    "    balls.append(_random_number)"
   ]
  },
  {
   "cell_type": "code",
   "execution_count": 14,
   "id": "833b178b-21af-424d-9695-3f4836d2f547",
   "metadata": {},
   "outputs": [
    {
     "name": "stdout",
     "output_type": "stream",
     "text": [
      "[5, 6, 2, 4, 3, 7, 6, 2, 3, 7, 2, 6, 2, 5, 8, 5, 3, 7, 8, 5, 5, 2, 8, 5, 1, 5, 8, 2, 3, 6, 7, 8, 7, 7, 2, 8, 2, 3, 8, 2, 7, 3, 2, 4, 1, 8, 7, 7, 8, 8, 3, 3, 1, 3, 6, 7, 7, 8, 5, 3, 5, 2, 8, 8, 2, 5, 6, 6, 6, 6, 5, 1, 6, 7, 4, 5, 6, 8, 5, 1, 3, 8, 8, 8, 1, 3, 4, 6, 3, 4, 1, 8, 8, 7, 5, 2, 1, 6, 3, 8]\n"
     ]
    }
   ],
   "source": [
    "# inspecting the balls list\n",
    "print(balls)"
   ]
  },
  {
   "cell_type": "code",
   "execution_count": 15,
   "id": "ef0b116e-0a39-4c77-9346-6f3a74ed24a5",
   "metadata": {},
   "outputs": [],
   "source": [
    "colors = [\"red\", \"green\", \"blue\", \"yellow\", \"orange\", \"purple\", \"pink\", \"brown\"]"
   ]
  },
  {
   "cell_type": "markdown",
   "id": "36942060-5c37-44c4-ac7c-62f0bd74aaac",
   "metadata": {},
   "source": [
    "**create another list color_balls**"
   ]
  },
  {
   "cell_type": "code",
   "execution_count": 16,
   "id": "2f1a6703-8560-4a16-b4a6-0aa6970ee65c",
   "metadata": {},
   "outputs": [],
   "source": [
    "color_balls = []\n",
    "for ball_number in balls:\n",
    "    ball_number_index = ball_number - 1\n",
    "    current_ball_color = colors[ball_number_index]\n",
    "    color_balls.append(current_ball_color)"
   ]
  },
  {
   "cell_type": "code",
   "execution_count": 17,
   "id": "069e2c35-4073-4930-bac0-5778e91d56b0",
   "metadata": {},
   "outputs": [
    {
     "name": "stdout",
     "output_type": "stream",
     "text": [
      "['orange', 'purple', 'green', 'yellow', 'blue', 'pink', 'purple', 'green', 'blue', 'pink', 'green', 'purple', 'green', 'orange', 'brown', 'orange', 'blue', 'pink', 'brown', 'orange', 'orange', 'green', 'brown', 'orange', 'red', 'orange', 'brown', 'green', 'blue', 'purple', 'pink', 'brown', 'pink', 'pink', 'green', 'brown', 'green', 'blue', 'brown', 'green', 'pink', 'blue', 'green', 'yellow', 'red', 'brown', 'pink', 'pink', 'brown', 'brown', 'blue', 'blue', 'red', 'blue', 'purple', 'pink', 'pink', 'brown', 'orange', 'blue', 'orange', 'green', 'brown', 'brown', 'green', 'orange', 'purple', 'purple', 'purple', 'purple', 'orange', 'red', 'purple', 'pink', 'yellow', 'orange', 'purple', 'brown', 'orange', 'red', 'blue', 'brown', 'brown', 'brown', 'red', 'blue', 'yellow', 'purple', 'blue', 'yellow', 'red', 'brown', 'brown', 'pink', 'orange', 'green', 'red', 'purple', 'blue', 'brown']\n"
     ]
    }
   ],
   "source": [
    "print(color_balls)"
   ]
  },
  {
   "cell_type": "markdown",
   "id": "6ef9e1ed-1226-4206-bc02-3abf09fe63ca",
   "metadata": {},
   "source": [
    "**Calculating the Frequency for each color**"
   ]
  },
  {
   "cell_type": "code",
   "execution_count": 18,
   "id": "cdb36e46-86ce-4c1d-8471-313a5a1dccd8",
   "metadata": {},
   "outputs": [],
   "source": [
    "color_count = {} # an empty dictionary to hold the counting for each\n",
    "# key: color name\n",
    "# value: frequency value as integer\n",
    "for color in color_balls:\n",
    "    if color not in color_count.keys():\n",
    "        color_count[color] = 1\n",
    "    else:\n",
    "        color_count[color] += 1\n",
    "        "
   ]
  },
  {
   "cell_type": "code",
   "execution_count": 19,
   "id": "6365dd33-bec4-4ea4-8fe8-369cba881c3e",
   "metadata": {},
   "outputs": [
    {
     "name": "stdout",
     "output_type": "stream",
     "text": [
      "{'orange': 14, 'purple': 13, 'green': 13, 'yellow': 5, 'blue': 14, 'pink': 13, 'brown': 20, 'red': 8}\n"
     ]
    }
   ],
   "source": [
    "print(color_count)"
   ]
  },
  {
   "cell_type": "code",
   "execution_count": 20,
   "id": "14e7a468-2e4d-4b96-b608-afc179fe2b9e",
   "metadata": {},
   "outputs": [
    {
     "data": {
      "text/plain": [
       "100"
      ]
     },
     "execution_count": 20,
     "metadata": {},
     "output_type": "execute_result"
    }
   ],
   "source": [
    "sum(color_count.values())"
   ]
  },
  {
   "cell_type": "markdown",
   "id": "60e34188-fc35-4c7f-a2cf-35fa370766fa",
   "metadata": {},
   "source": [
    "**Alternative way**"
   ]
  },
  {
   "cell_type": "code",
   "execution_count": 21,
   "id": "deda57e5-c499-4810-a627-3abb42582443",
   "metadata": {},
   "outputs": [],
   "source": [
    "color_count = {} # an empty dictionary to hold the counting for each\n",
    "# key: color name\n",
    "# value: frequency value as integer\n",
    "for color in color_balls:\n",
    "    if color_count.get(color):\n",
    "        color_count[color] += 1\n",
    "    else:\n",
    "        color_count[color] = 1\n",
    "        #\n",
    "# here in if else statement 0 will be treated as False\n",
    "# 1 or any other value except 0 will be treated as True."
   ]
  },
  {
   "cell_type": "code",
   "execution_count": 22,
   "id": "57cf2d74-e0ce-4f02-aed1-7ad1c1d5085b",
   "metadata": {},
   "outputs": [
    {
     "data": {
      "text/plain": [
       "{'orange': 14,\n",
       " 'purple': 13,\n",
       " 'green': 13,\n",
       " 'yellow': 5,\n",
       " 'blue': 14,\n",
       " 'pink': 13,\n",
       " 'brown': 20,\n",
       " 'red': 8}"
      ]
     },
     "execution_count": 22,
     "metadata": {},
     "output_type": "execute_result"
    }
   ],
   "source": [
    "color_count"
   ]
  },
  {
   "cell_type": "code",
   "execution_count": 23,
   "id": "7bbf0149-d651-4599-b6f9-233eafb04a46",
   "metadata": {},
   "outputs": [
    {
     "data": {
      "text/plain": [
       "100"
      ]
     },
     "execution_count": 23,
     "metadata": {},
     "output_type": "execute_result"
    }
   ],
   "source": [
    "sum(color_count.values())"
   ]
  },
  {
   "cell_type": "markdown",
   "id": "ab4b2abe-7927-4028-afd7-53baba21eb27",
   "metadata": {},
   "source": [
    "**Histogram for colors**"
   ]
  },
  {
   "cell_type": "code",
   "execution_count": 24,
   "id": "f0a11f16-acaf-4753-8e83-13f545051f58",
   "metadata": {},
   "outputs": [
    {
     "name": "stdout",
     "output_type": "stream",
     "text": [
      "orange     :| **************\n",
      "purple     :| *************\n",
      "green      :| *************\n",
      "yellow     :| *****\n",
      "blue       :| **************\n",
      "pink       :| *************\n",
      "brown      :| ********************\n",
      "red        :| ********\n"
     ]
    }
   ],
   "source": [
    "for color, freq in color_count.items():\n",
    "    print(f\"{color:10s} :|\", \"*\"*freq)"
   ]
  },
  {
   "cell_type": "markdown",
   "id": "d2a68dd7-4ce2-4337-8247-c91a7408b1f6",
   "metadata": {},
   "source": [
    "### Placing all together"
   ]
  },
  {
   "cell_type": "code",
   "execution_count": 25,
   "id": "86faad4a-1bdc-4f62-9699-90c01250e270",
   "metadata": {},
   "outputs": [],
   "source": [
    "def color_histogram(data, colors, pattern=\"*\"):\n",
    "    colors_list = []\n",
    "    colors_count = {}\n",
    "\n",
    "    # converting the data to color list\n",
    "    for number in data:\n",
    "        _index = number - 1\n",
    "        _color = colors[_index]\n",
    "        colors_list.append(_color)\n",
    "\n",
    "    # calculating the frequency for each color\n",
    "    for color in colors_list:\n",
    "        if colors_count.get(color):\n",
    "            colors_count[color] += 1\n",
    "        else:\n",
    "            colors_count[color] = 1\n",
    "\n",
    "    # now we have colors_count dictionary\n",
    "    # need to print the histogram\n",
    "    for color, freq in colors_count.items():\n",
    "        print(f\"{color:10s} :|\", pattern*freq)\n",
    "    "
   ]
  },
  {
   "cell_type": "code",
   "execution_count": 26,
   "id": "f3bfa775-036f-4fd0-9d9d-dbb03c0d426b",
   "metadata": {},
   "outputs": [
    {
     "name": "stdout",
     "output_type": "stream",
     "text": [
      "orange     :| ==============\n",
      "purple     :| =============\n",
      "green      :| =============\n",
      "yellow     :| =====\n",
      "blue       :| ==============\n",
      "pink       :| =============\n",
      "brown      :| ====================\n",
      "red        :| ========\n"
     ]
    }
   ],
   "source": [
    "color_histogram(balls, colors, '=')"
   ]
  },
  {
   "cell_type": "code",
   "execution_count": 27,
   "id": "b8a2b785-c22f-49a2-8e89-5edbe531abd7",
   "metadata": {},
   "outputs": [],
   "source": [
    "balls = []\n",
    "for i in range(100):\n",
    "    _random_number = random.randint(1,3)\n",
    "    balls.append(_random_number)"
   ]
  },
  {
   "cell_type": "code",
   "execution_count": 28,
   "id": "df76df1b-4ef3-481d-9922-f6ae99e3a4be",
   "metadata": {},
   "outputs": [
    {
     "name": "stdout",
     "output_type": "stream",
     "text": [
      "green      :| ***********************************\n",
      "blue       :| *******************************\n",
      "red        :| **********************************\n"
     ]
    }
   ],
   "source": [
    "color_histogram(balls, colors=[\"red\",\"green\",'blue',\"yellow\"])"
   ]
  },
  {
   "cell_type": "markdown",
   "id": "c8a90de7-aabd-4494-833d-6edda148e5c8",
   "metadata": {},
   "source": [
    "-------"
   ]
  },
  {
   "cell_type": "code",
   "execution_count": 30,
   "id": "74d11f11-02dd-4de6-8b3c-566c313fcf4b",
   "metadata": {},
   "outputs": [],
   "source": [
    "def generateNumber(start,end,count):\n",
    "    random_numbers  = [] # to store all the randomaly generated number\n",
    "\n",
    "    # ----- GENERATING RANDOM NUMBERS -----------\n",
    "    for i in range(count):\n",
    "        _random_number = random.randint(start, end) # generating single random number\n",
    "        random_numbers.append(_random_number) # appending generated random number is list.\n",
    "    #--------- END OF GENERATING & STORING RANDOM NUMBERS-------\n",
    "    \n",
    "    return random_numbers"
   ]
  },
  {
   "cell_type": "code",
   "execution_count": 35,
   "id": "550a2fce-d828-4b23-9627-78a6bf867dce",
   "metadata": {},
   "outputs": [],
   "source": [
    "def frequency(data:list):\n",
    "    freq = {} # to hold the key value pair of item\n",
    "    # key as on of  the unique value from data\n",
    "    # value: freq of the unique value.\n",
    "\n",
    "    # --------- CALCULATING THE FREQUENCY OF EACH UNIQUE VALUE --------- \n",
    "    for item in data:\n",
    "        if freq.get(item):\n",
    "            freq[item] += 1\n",
    "        else:\n",
    "            freq[item] = 1\n",
    "    # --------- END OF CALCULATION ---------\n",
    "\n",
    "    return freq"
   ]
  },
  {
   "cell_type": "code",
   "execution_count": 45,
   "id": "18442679-c340-4365-9d8f-9e658d988804",
   "metadata": {},
   "outputs": [],
   "source": [
    "def data_map(data,key,value):\n",
    "    # note: key and values must be unique and in order.\n",
    "    # converting to set items.\n",
    "\n",
    "    if(len(key) != len(value)):\n",
    "        print(\"Error: argument key's and values's length must be equal..!\")\n",
    "        return # going out of the function.\n",
    "\n",
    "    # a list to stor mapped data\n",
    "    mapped_list = []\n",
    "\n",
    "    # -------- MAPPING DATA USING KEY AND VALUES --------\n",
    "    for item in data:\n",
    "        _i = key.index(item)\n",
    "        map_item = value[_i]\n",
    "        mapped_list.append(map_item)\n",
    "\n",
    "    # -------- END OF KEY VALUE MAPPING --------\n",
    "\n",
    "    return mapped_list"
   ]
  },
  {
   "cell_type": "code",
   "execution_count": 68,
   "id": "a572ae8b-8c86-4ec7-9ca6-dc1f27ab629e",
   "metadata": {},
   "outputs": [],
   "source": [
    "def histogram(data:dict, pattern=\"*\"):\n",
    "    for key, value in data.items():\n",
    "        print(f\"{str(key):15s}:|\" , pattern*value)"
   ]
  },
  {
   "cell_type": "markdown",
   "id": "bf982d2d-ff08-4f8e-b404-70f7e7a97853",
   "metadata": {},
   "source": [
    "### Putting and using all together"
   ]
  },
  {
   "cell_type": "markdown",
   "id": "195f58d4-843d-4b04-8e69-a233a39842a9",
   "metadata": {},
   "source": [
    "**1. generate random number**"
   ]
  },
  {
   "cell_type": "code",
   "execution_count": 53,
   "id": "e1538c04-5345-4a6e-b530-8ad24b8c82be",
   "metadata": {},
   "outputs": [],
   "source": [
    "data =  generateNumber(100,150,200)"
   ]
  },
  {
   "cell_type": "code",
   "execution_count": 54,
   "id": "80e6c16a-e47e-4b49-a69f-da63e08f781e",
   "metadata": {},
   "outputs": [
    {
     "name": "stdout",
     "output_type": "stream",
     "text": [
      "[131, 150, 107, 118, 133, 128, 117, 102, 112, 116, 106, 149, 102, 126, 101, 146, 111, 135, 141, 149, 137, 138, 139, 142, 148, 127, 123, 123, 128, 145, 147, 126, 140, 135, 109, 131, 140, 117, 102, 119, 149, 149, 114, 118, 126, 138, 110, 144, 106, 125, 125, 124, 126, 148, 107, 103, 143, 110, 150, 121, 149, 143, 147, 127, 121, 150, 139, 133, 128, 144, 148, 125, 115, 128, 127, 146, 135, 135, 109, 111, 110, 125, 124, 120, 144, 147, 147, 141, 122, 138, 138, 143, 147, 111, 108, 113, 125, 145, 131, 120, 115, 123, 140, 139, 146, 139, 116, 143, 105, 133, 110, 129, 120, 115, 143, 101, 104, 132, 113, 120, 130, 133, 112, 122, 102, 107, 148, 100, 147, 109, 140, 114, 117, 129, 114, 108, 127, 150, 132, 144, 137, 111, 138, 125, 103, 121, 136, 106, 130, 106, 124, 137, 118, 107, 107, 129, 141, 107, 108, 137, 126, 128, 120, 124, 148, 113, 140, 115, 108, 117, 110, 108, 112, 100, 126, 119, 143, 149, 149, 149, 126, 133, 114, 125, 113, 103, 126, 115, 134, 148, 147, 145, 108, 127, 125, 124, 130, 110, 124, 107]\n"
     ]
    }
   ],
   "source": [
    "print(data)"
   ]
  },
  {
   "cell_type": "code",
   "execution_count": 57,
   "id": "ae559a08-f6bb-4369-91e7-1bf494d88051",
   "metadata": {},
   "outputs": [
    {
     "name": "stdout",
     "output_type": "stream",
     "text": [
      "[128, 129, 130, 131, 132, 133, 134, 135, 136, 137, 138, 139, 140, 141, 142, 143, 144, 145, 146, 147, 148, 149, 150, 100, 101, 102, 103, 104, 105, 106, 107, 108, 109, 110, 111, 112, 113, 114, 115, 116, 117, 118, 119, 120, 121, 122, 123, 124, 125, 126, 127]\n"
     ]
    }
   ],
   "source": [
    "unique_values = list(set(data))\n",
    "print(unique_values)"
   ]
  },
  {
   "cell_type": "markdown",
   "id": "5d2c728c-bd64-4820-8253-aa7e807b29b3",
   "metadata": {},
   "source": [
    "**2. mapping values**"
   ]
  },
  {
   "cell_type": "code",
   "execution_count": 60,
   "id": "7a2cc472-5755-46ff-9431-c4470a5fd660",
   "metadata": {},
   "outputs": [],
   "source": [
    "values = list(range(1000, 52000, 1000))"
   ]
  },
  {
   "cell_type": "code",
   "execution_count": 61,
   "id": "3b9f13ca-ac84-414f-b929-cc17f1fb999a",
   "metadata": {},
   "outputs": [],
   "source": [
    "mapped_values = data_map(data, unique_values, values)"
   ]
  },
  {
   "cell_type": "code",
   "execution_count": 63,
   "id": "e6eb9f59-503d-461c-bb0e-8b37cef725de",
   "metadata": {},
   "outputs": [
    {
     "name": "stdout",
     "output_type": "stream",
     "text": [
      "[5000, 46000, 13000, 28000, 37000, 16000, 12000, 35000, 34000, 39000, 40000, 30000, 35000, 38000, 3000, 25000, 18000, 26000, 4000, 30000, 15000, 31000, 43000, 20000, 14000, 11000, 49000, 49000, 16000, 9000, 41000, 38000, 47000, 26000, 45000, 5000, 47000, 12000, 35000, 44000, 30000, 30000, 7000, 28000, 38000, 31000, 2000, 27000, 40000, 22000, 22000, 6000, 38000, 14000, 13000, 51000, 36000, 2000, 46000, 17000, 30000, 36000, 41000, 11000, 17000, 46000, 43000, 37000, 16000, 27000, 14000, 22000, 23000, 16000, 11000, 25000, 26000, 26000, 45000, 18000, 2000, 22000, 6000, 1000, 27000, 41000, 41000, 4000, 33000, 31000, 31000, 36000, 41000, 18000, 29000, 50000, 22000, 9000, 5000, 1000, 23000, 49000, 47000, 43000, 25000, 43000, 39000, 36000, 24000, 37000, 2000, 32000, 1000, 23000, 36000, 3000, 8000, 21000, 50000, 1000, 48000, 37000, 34000, 33000, 35000, 13000, 14000, 19000, 41000, 45000, 47000, 7000, 12000, 32000, 7000, 29000, 11000, 46000, 21000, 27000, 15000, 18000, 31000, 22000, 51000, 17000, 42000, 40000, 48000, 40000, 6000, 15000, 28000, 13000, 13000, 32000, 4000, 13000, 29000, 15000, 38000, 16000, 1000, 6000, 14000, 50000, 47000, 23000, 29000, 12000, 2000, 29000, 34000, 19000, 38000, 44000, 36000, 30000, 30000, 30000, 38000, 37000, 7000, 22000, 50000, 51000, 38000, 23000, 10000, 14000, 41000, 9000, 29000, 11000, 22000, 6000, 48000, 2000, 6000, 13000]\n"
     ]
    }
   ],
   "source": [
    "print(mapped_values)"
   ]
  },
  {
   "cell_type": "markdown",
   "id": "402d5919-d5fa-43b5-ad7c-1161ba477e0e",
   "metadata": {},
   "source": [
    "**3. count frequency**"
   ]
  },
  {
   "cell_type": "code",
   "execution_count": 64,
   "id": "2c23a706-15b4-4432-94ff-1216eade902a",
   "metadata": {},
   "outputs": [],
   "source": [
    "freq = frequency(mapped_values)"
   ]
  },
  {
   "cell_type": "code",
   "execution_count": 66,
   "id": "18b77134-53a7-483f-9eb0-79f21438f398",
   "metadata": {},
   "outputs": [
    {
     "name": "stdout",
     "output_type": "stream",
     "text": [
      "{5000: 3, 46000: 4, 13000: 7, 28000: 3, 37000: 5, 16000: 5, 12000: 4, 35000: 4, 34000: 3, 39000: 2, 40000: 4, 30000: 8, 38000: 8, 3000: 2, 25000: 3, 18000: 4, 26000: 4, 4000: 3, 15000: 4, 31000: 5, 43000: 4, 20000: 1, 14000: 6, 11000: 5, 49000: 3, 9000: 3, 41000: 7, 47000: 5, 45000: 3, 44000: 2, 7000: 4, 2000: 6, 27000: 4, 22000: 8, 6000: 6, 51000: 3, 36000: 6, 17000: 3, 23000: 5, 1000: 5, 33000: 2, 29000: 6, 50000: 4, 24000: 1, 32000: 3, 8000: 1, 21000: 2, 48000: 3, 19000: 2, 42000: 1, 10000: 1}\n"
     ]
    }
   ],
   "source": [
    "print(freq)"
   ]
  },
  {
   "cell_type": "markdown",
   "id": "172f4835-bf88-4e7b-8bdb-22eb6ea4fe43",
   "metadata": {},
   "source": [
    "**4. histogram**"
   ]
  },
  {
   "cell_type": "code",
   "execution_count": 69,
   "id": "9fdbc135-89ad-4df4-93ca-f2986fe33d86",
   "metadata": {},
   "outputs": [
    {
     "name": "stdout",
     "output_type": "stream",
     "text": [
      "5000           :| ***\n",
      "46000          :| ****\n",
      "13000          :| *******\n",
      "28000          :| ***\n",
      "37000          :| *****\n",
      "16000          :| *****\n",
      "12000          :| ****\n",
      "35000          :| ****\n",
      "34000          :| ***\n",
      "39000          :| **\n",
      "40000          :| ****\n",
      "30000          :| ********\n",
      "38000          :| ********\n",
      "3000           :| **\n",
      "25000          :| ***\n",
      "18000          :| ****\n",
      "26000          :| ****\n",
      "4000           :| ***\n",
      "15000          :| ****\n",
      "31000          :| *****\n",
      "43000          :| ****\n",
      "20000          :| *\n",
      "14000          :| ******\n",
      "11000          :| *****\n",
      "49000          :| ***\n",
      "9000           :| ***\n",
      "41000          :| *******\n",
      "47000          :| *****\n",
      "45000          :| ***\n",
      "44000          :| **\n",
      "7000           :| ****\n",
      "2000           :| ******\n",
      "27000          :| ****\n",
      "22000          :| ********\n",
      "6000           :| ******\n",
      "51000          :| ***\n",
      "36000          :| ******\n",
      "17000          :| ***\n",
      "23000          :| *****\n",
      "1000           :| *****\n",
      "33000          :| **\n",
      "29000          :| ******\n",
      "50000          :| ****\n",
      "24000          :| *\n",
      "32000          :| ***\n",
      "8000           :| *\n",
      "21000          :| **\n",
      "48000          :| ***\n",
      "19000          :| **\n",
      "42000          :| *\n",
      "10000          :| *\n"
     ]
    }
   ],
   "source": [
    "histogram(freq)"
   ]
  },
  {
   "cell_type": "markdown",
   "id": "f4669649-7a99-46e8-ad02-e15cf4d942f0",
   "metadata": {},
   "source": [
    "**map function**"
   ]
  },
  {
   "cell_type": "code",
   "execution_count": null,
   "id": "ed6915f6-479d-4a38-a29c-9b9c9033c5de",
   "metadata": {},
   "outputs": [],
   "source": []
  },
  {
   "cell_type": "code",
   "execution_count": 71,
   "id": "b17f5a93-aa3d-4d99-87f9-8e60540f26f4",
   "metadata": {},
   "outputs": [],
   "source": [
    "def even_odd(value):\n",
    "    if value%2 == 0:\n",
    "        return \"even\"\n",
    "    else:\n",
    "        return \"odd\""
   ]
  },
  {
   "cell_type": "code",
   "execution_count": 74,
   "id": "276c6b02-8ea1-4eeb-9e5e-842e2b089f55",
   "metadata": {},
   "outputs": [
    {
     "name": "stdout",
     "output_type": "stream",
     "text": [
      "{'odd': 104, 'even': 96}\n"
     ]
    }
   ],
   "source": [
    "freq = frequency(map(even_odd, data))\n",
    "print(freq)"
   ]
  },
  {
   "cell_type": "code",
   "execution_count": 75,
   "id": "a1e951c0-f716-4b45-85ce-d7cc59e9e450",
   "metadata": {},
   "outputs": [
    {
     "data": {
      "text/plain": [
       "976.5625"
      ]
     },
     "execution_count": 75,
     "metadata": {},
     "output_type": "execute_result"
    }
   ],
   "source": [
    "10**6 / 1024"
   ]
  },
  {
   "cell_type": "code",
   "execution_count": null,
   "id": "201b1419-91c6-4a01-8450-3ca0c51f0e91",
   "metadata": {},
   "outputs": [],
   "source": []
  }
 ],
 "metadata": {
  "kernelspec": {
   "display_name": "Python 3 (ipykernel)",
   "language": "python",
   "name": "python3"
  },
  "language_info": {
   "codemirror_mode": {
    "name": "ipython",
    "version": 3
   },
   "file_extension": ".py",
   "mimetype": "text/x-python",
   "name": "python",
   "nbconvert_exporter": "python",
   "pygments_lexer": "ipython3",
   "version": "3.10.5"
  }
 },
 "nbformat": 4,
 "nbformat_minor": 5
}
