{
 "cells": [
  {
   "cell_type": "markdown",
   "id": "fbfe0a73-265b-430a-912f-b13111c20022",
   "metadata": {},
   "source": [
    "## String Methods\n",
    "\n",
    "1. capitalize, upper, lower, title\n",
    "2. center, ljust, rjust\n",
    "3. count(...)\n",
    "4. endswith, startswith\n",
    "5. find, rfind\n",
    "6. format\n",
    "7. index, rindex\n",
    "8. join\n",
    "9. split , rsplit\n",
    "10. splitlines\n",
    "11. strip, lstrip\n",
    "12. removesuffix, removeprefix\n",
    "13. zfill"
   ]
  },
  {
   "cell_type": "markdown",
   "id": "4ace9086-4600-47e8-abdd-94c03def608a",
   "metadata": {},
   "source": [
    "**capitalize, upper, lower and title**"
   ]
  },
  {
   "cell_type": "code",
   "execution_count": 1,
   "id": "2ba02bd6-5771-4361-83cd-0821472ac086",
   "metadata": {},
   "outputs": [],
   "source": [
    "myStr = \"mY plAn A readMore and b WriTEMore\""
   ]
  },
  {
   "cell_type": "code",
   "execution_count": 2,
   "id": "67e4e17d-8948-4589-b1b6-ad755907037f",
   "metadata": {},
   "outputs": [
    {
     "data": {
      "text/plain": [
       "'My plan a readmore and b writemore'"
      ]
     },
     "execution_count": 2,
     "metadata": {},
     "output_type": "execute_result"
    }
   ],
   "source": [
    "myStr.capitalize()"
   ]
  },
  {
   "cell_type": "code",
   "execution_count": 3,
   "id": "bbd9e2c3-b124-43c4-8191-4f9ae9a47be0",
   "metadata": {},
   "outputs": [
    {
     "data": {
      "text/plain": [
       "'MY PLAN A READMORE AND B WRITEMORE'"
      ]
     },
     "execution_count": 3,
     "metadata": {},
     "output_type": "execute_result"
    }
   ],
   "source": [
    "myStr.upper()"
   ]
  },
  {
   "cell_type": "code",
   "execution_count": 4,
   "id": "49e193ff-d641-4477-9f57-ba38e5454696",
   "metadata": {},
   "outputs": [
    {
     "data": {
      "text/plain": [
       "'my plan a readmore and b writemore'"
      ]
     },
     "execution_count": 4,
     "metadata": {},
     "output_type": "execute_result"
    }
   ],
   "source": [
    "myStr.lower()"
   ]
  },
  {
   "cell_type": "code",
   "execution_count": 5,
   "id": "8178024a-aa77-44a6-a13b-4dab7f15ee51",
   "metadata": {},
   "outputs": [
    {
     "data": {
      "text/plain": [
       "'My Plan A Readmore And B Writemore'"
      ]
     },
     "execution_count": 5,
     "metadata": {},
     "output_type": "execute_result"
    }
   ],
   "source": [
    "myStr.title()"
   ]
  },
  {
   "cell_type": "markdown",
   "id": "fe3d5769-8a40-4ea3-804b-02bffe55ee33",
   "metadata": {},
   "source": [
    "**count**"
   ]
  },
  {
   "cell_type": "code",
   "execution_count": 7,
   "id": "dba1a178-2358-4c88-b7e0-cd195b849a78",
   "metadata": {},
   "outputs": [
    {
     "data": {
      "text/plain": [
       "2"
      ]
     },
     "execution_count": 7,
     "metadata": {},
     "output_type": "execute_result"
    }
   ],
   "source": [
    "myStr.count(\"More\")"
   ]
  },
  {
   "cell_type": "code",
   "execution_count": 8,
   "id": "b8ab01b0-dd98-4b35-a1f2-6fbab54c65ae",
   "metadata": {},
   "outputs": [
    {
     "data": {
      "text/plain": [
       "2"
      ]
     },
     "execution_count": 8,
     "metadata": {},
     "output_type": "execute_result"
    }
   ],
   "source": [
    "myStr.count(\"a\")"
   ]
  },
  {
   "cell_type": "code",
   "execution_count": 9,
   "id": "167b6600-4f29-4724-9b6a-2016d10f7b42",
   "metadata": {},
   "outputs": [],
   "source": [
    "myStr = \"Sonali\""
   ]
  },
  {
   "cell_type": "code",
   "execution_count": 10,
   "id": "b00cb364-e22f-4677-ba06-6fc2bc2ae233",
   "metadata": {},
   "outputs": [
    {
     "data": {
      "text/plain": [
       "'Sonali         '"
      ]
     },
     "execution_count": 10,
     "metadata": {},
     "output_type": "execute_result"
    }
   ],
   "source": [
    "myStr.ljust(15)"
   ]
  },
  {
   "cell_type": "code",
   "execution_count": 11,
   "id": "f7769bf0-1a05-4d08-ac37-37d0d23f926c",
   "metadata": {},
   "outputs": [
    {
     "data": {
      "text/plain": [
       "'         Sonali'"
      ]
     },
     "execution_count": 11,
     "metadata": {},
     "output_type": "execute_result"
    }
   ],
   "source": [
    "myStr.rjust(15)"
   ]
  },
  {
   "cell_type": "code",
   "execution_count": 12,
   "id": "099e68d3-3077-43ce-ba58-c2de7e20344b",
   "metadata": {},
   "outputs": [
    {
     "data": {
      "text/plain": [
       "'     Sonali    '"
      ]
     },
     "execution_count": 12,
     "metadata": {},
     "output_type": "execute_result"
    }
   ],
   "source": [
    "myStr.center(15)"
   ]
  },
  {
   "cell_type": "markdown",
   "id": "8cb2aade-49a3-4df9-8e15-c5a39ff5a646",
   "metadata": {},
   "source": [
    "**using char instead of spaces**"
   ]
  },
  {
   "cell_type": "code",
   "execution_count": 13,
   "id": "a5dc43c7-dc12-41db-ba1c-a1aab7788453",
   "metadata": {},
   "outputs": [
    {
     "data": {
      "text/plain": [
       "'Sonali---------'"
      ]
     },
     "execution_count": 13,
     "metadata": {},
     "output_type": "execute_result"
    }
   ],
   "source": [
    "myStr.ljust(15,\"-\")"
   ]
  },
  {
   "cell_type": "code",
   "execution_count": 14,
   "id": "5ccc51a5-f225-4bac-bb79-a470d849750c",
   "metadata": {},
   "outputs": [
    {
     "data": {
      "text/plain": [
       "'---------Sonali'"
      ]
     },
     "execution_count": 14,
     "metadata": {},
     "output_type": "execute_result"
    }
   ],
   "source": [
    "myStr.rjust(15,\"-\")"
   ]
  },
  {
   "cell_type": "code",
   "execution_count": 15,
   "id": "b66f229d-42c0-4892-ba60-1f2617d64383",
   "metadata": {},
   "outputs": [
    {
     "data": {
      "text/plain": [
       "'-----Sonali----'"
      ]
     },
     "execution_count": 15,
     "metadata": {},
     "output_type": "execute_result"
    }
   ],
   "source": [
    "myStr.center(15,\"-\")"
   ]
  },
  {
   "cell_type": "markdown",
   "id": "67553119-b3f5-4ff5-9fe8-d8b910088e52",
   "metadata": {},
   "source": [
    "**endswith and startswith**"
   ]
  },
  {
   "cell_type": "code",
   "execution_count": 17,
   "id": "27584066-f28d-473f-8e4d-f7da55393264",
   "metadata": {},
   "outputs": [],
   "source": [
    "# emp code ME-54126-005\n",
    "myStr = \"ME-54126-005\""
   ]
  },
  {
   "cell_type": "code",
   "execution_count": 21,
   "id": "a655ee74-ce42-4633-a4d0-03b1a1ad4589",
   "metadata": {},
   "outputs": [
    {
     "data": {
      "text/plain": [
       "True"
      ]
     },
     "execution_count": 21,
     "metadata": {},
     "output_type": "execute_result"
    }
   ],
   "source": [
    "myStr.startswith(\"ME-\")"
   ]
  },
  {
   "cell_type": "code",
   "execution_count": 22,
   "id": "8fd423f3-c505-4ae9-afb5-b448b1220d12",
   "metadata": {},
   "outputs": [
    {
     "data": {
      "text/plain": [
       "True"
      ]
     },
     "execution_count": 22,
     "metadata": {},
     "output_type": "execute_result"
    }
   ],
   "source": [
    "myStr.endswith(\"005\")"
   ]
  },
  {
   "cell_type": "code",
   "execution_count": 24,
   "id": "d505fe06-2312-467d-846b-67354bf2ac58",
   "metadata": {},
   "outputs": [
    {
     "data": {
      "text/plain": [
       "False"
      ]
     },
     "execution_count": 24,
     "metadata": {},
     "output_type": "execute_result"
    }
   ],
   "source": [
    "myStr.endswith(\"0x5\")"
   ]
  },
  {
   "cell_type": "markdown",
   "id": "99545f47-4a66-4679-89f2-4321cc5aec50",
   "metadata": {},
   "source": [
    "**find and rfind**"
   ]
  },
  {
   "cell_type": "code",
   "execution_count": 25,
   "id": "e05cd784-6e62-400d-bea9-6e3eba2e44e1",
   "metadata": {},
   "outputs": [],
   "source": [
    "myStr = \"mY plAn A readMore and b WriTEMore\""
   ]
  },
  {
   "cell_type": "code",
   "execution_count": 26,
   "id": "2aed375b-7a74-4042-9f27-d26ed8d4e8e7",
   "metadata": {},
   "outputs": [
    {
     "data": {
      "text/plain": [
       "14"
      ]
     },
     "execution_count": 26,
     "metadata": {},
     "output_type": "execute_result"
    }
   ],
   "source": [
    "myStr.find(\"More\")"
   ]
  },
  {
   "cell_type": "code",
   "execution_count": 27,
   "id": "55217af6-fb9c-4e04-9f59-466b414efb91",
   "metadata": {},
   "outputs": [
    {
     "data": {
      "text/plain": [
       "-1"
      ]
     },
     "execution_count": 27,
     "metadata": {},
     "output_type": "execute_result"
    }
   ],
   "source": [
    "myStr.find(\"more\")"
   ]
  },
  {
   "cell_type": "code",
   "execution_count": 28,
   "id": "edaee293-e5a1-4c40-a4f5-c24dfed07668",
   "metadata": {},
   "outputs": [
    {
     "data": {
      "text/plain": [
       "30"
      ]
     },
     "execution_count": 28,
     "metadata": {},
     "output_type": "execute_result"
    }
   ],
   "source": [
    "myStr.rfind(\"More\")"
   ]
  },
  {
   "cell_type": "code",
   "execution_count": 29,
   "id": "be578d74-5e19-4083-bf0a-9a56e4e2d687",
   "metadata": {},
   "outputs": [
    {
     "data": {
      "text/plain": [
       "-1"
      ]
     },
     "execution_count": 29,
     "metadata": {},
     "output_type": "execute_result"
    }
   ],
   "source": [
    "myStr.rfind(\"more\")"
   ]
  },
  {
   "cell_type": "code",
   "execution_count": 2,
   "id": "dade1728-8ea0-4a62-897a-06de1904db64",
   "metadata": {},
   "outputs": [],
   "source": [
    "message1 = \"“Hey there! 👋 I’d like you to meet {name}. {name} is {age} years old, \\\n",
    "stands at a height of {height} feet, and has the blood type {bloodGroup}. {name} is a \\\n",
    "curious soul who loves exploring new technologies and programming languages. \\\n",
    "Feel free to strike up a conversation with {name} about Python, Java, or even the \\\n",
    "latest React features! 🚀”\""
   ]
  },
  {
   "cell_type": "code",
   "execution_count": 3,
   "id": "18e219b4-cce8-43c7-bdd9-1321e95d815c",
   "metadata": {},
   "outputs": [],
   "source": [
    "message2 = \"“Hey there! 👋 I’d like you to meet {1}. {1} is {2} years old, \\\n",
    "stands at a height of {3} feet, and has the blood type {4}. {1} is a \\\n",
    "curious soul who loves exploring new technologies and programming languages. \\\n",
    "Feel free to strike up a conversation with {1} about Python, Java, or even the \\\n",
    "latest React features! 🚀”\""
   ]
  },
  {
   "cell_type": "code",
   "execution_count": 4,
   "id": "342ac5fe-0adc-484f-a15f-7374ae1e71a6",
   "metadata": {},
   "outputs": [],
   "source": [
    "xyz = \"hello {} hi {} how {} you {} xyz\""
   ]
  },
  {
   "cell_type": "code",
   "execution_count": 5,
   "id": "6df2a7ff-0499-4aa9-b112-50ae9e85454b",
   "metadata": {},
   "outputs": [
    {
     "data": {
      "text/plain": [
       "'hello 001 hi 002 how 34 you 5.6 xyz'"
      ]
     },
     "execution_count": 5,
     "metadata": {},
     "output_type": "execute_result"
    }
   ],
   "source": [
    "xyz.format(\"001\",\"002\",34,5.6)"
   ]
  },
  {
   "cell_type": "code",
   "execution_count": 6,
   "id": "1afa849d-f09d-4fc8-9e47-8ecf08993b5c",
   "metadata": {},
   "outputs": [],
   "source": [
    "xyz = \"hello {0} hi {2} how {0} you {1} xyz\""
   ]
  },
  {
   "cell_type": "code",
   "execution_count": 7,
   "id": "96f52e85-6b08-4f2d-ac2d-2c54ed76636b",
   "metadata": {},
   "outputs": [
    {
     "data": {
      "text/plain": [
       "'hello cat hi 80 how cat you Dog xyz'"
      ]
     },
     "execution_count": 7,
     "metadata": {},
     "output_type": "execute_result"
    }
   ],
   "source": [
    "xyz.format(\"cat\",\"Dog\",80)"
   ]
  },
  {
   "cell_type": "code",
   "execution_count": 10,
   "id": "cd3de42a-de88-45e2-8c9e-878ef1b54a7b",
   "metadata": {},
   "outputs": [],
   "source": [
    "xyz = \"hello {value1} hi {value3} how {value2} you {value1} xyz\""
   ]
  },
  {
   "cell_type": "code",
   "execution_count": 11,
   "id": "28c7cb0f-3564-44c7-aec3-31c9613ed305",
   "metadata": {},
   "outputs": [
    {
     "data": {
      "text/plain": [
       "'hello part1 hi hooooo how chekmate you part1 xyz'"
      ]
     },
     "execution_count": 11,
     "metadata": {},
     "output_type": "execute_result"
    }
   ],
   "source": [
    "xyz.format(value1=\"part1\", value3=\"hooooo\", value2=\"chekmate\")"
   ]
  },
  {
   "cell_type": "code",
   "execution_count": 13,
   "id": "531dbcec-f173-4176-934c-99fae660ffdc",
   "metadata": {},
   "outputs": [
    {
     "data": {
      "text/plain": [
       "'“Hey there! 👋 I’d like you to meet sonali. sonali is 22 years old, stands at a height of 5.2 feet, and has the blood type AB-. sonali is a curious soul who loves exploring new technologies and programming languages. Feel free to strike up a conversation with sonali about Python, Java, or even the latest React features! 🚀”'"
      ]
     },
     "execution_count": 13,
     "metadata": {},
     "output_type": "execute_result"
    }
   ],
   "source": [
    "message1.format(name=\"sonali\",age=22,height=5.2, bloodGroup=\"AB-\")"
   ]
  },
  {
   "cell_type": "code",
   "execution_count": 14,
   "id": "aa56afde-b7b4-4aa9-945d-7b3ee16d88fa",
   "metadata": {},
   "outputs": [],
   "source": [
    "people_list = [\n",
    "    {\"name\": \"Alice\", \"age\": 30, \"height\": 165, \"bloodGroup\": \"A+\"},\n",
    "    {\"name\": \"Bob\", \"age\": 25, \"height\": 180, \"bloodGroup\": \"B-\"},\n",
    "    {\"name\": \"Charlie\", \"age\": 22, \"height\": 175, \"bloodGroup\": \"O+\"},\n",
    "]"
   ]
  },
  {
   "cell_type": "code",
   "execution_count": 17,
   "id": "ed73b755-bdae-446a-9511-a32639627f68",
   "metadata": {},
   "outputs": [
    {
     "name": "stdout",
     "output_type": "stream",
     "text": [
      "“Hey there! 👋 I’d like you to meet Alice. Alice is 30 years old, stands at a height of 165 feet, and has the blood type A+. Alice is a curious soul who loves exploring new technologies and programming languages. Feel free to strike up a conversation with Alice about Python, Java, or even the latest React features! 🚀”\n",
      "----------\n",
      "“Hey there! 👋 I’d like you to meet Bob. Bob is 25 years old, stands at a height of 180 feet, and has the blood type B-. Bob is a curious soul who loves exploring new technologies and programming languages. Feel free to strike up a conversation with Bob about Python, Java, or even the latest React features! 🚀”\n",
      "----------\n",
      "“Hey there! 👋 I’d like you to meet Charlie. Charlie is 22 years old, stands at a height of 175 feet, and has the blood type O+. Charlie is a curious soul who loves exploring new technologies and programming languages. Feel free to strike up a conversation with Charlie about Python, Java, or even the latest React features! 🚀”\n",
      "----------\n"
     ]
    }
   ],
   "source": [
    "for person in people_list:\n",
    "    name = person[\"name\"]\n",
    "    age = person[\"age\"]\n",
    "    height = person[\"height\"]\n",
    "    bloodGroup = person[\"bloodGroup\"]\n",
    "    x= message1.format(name=name,age=age,height=height, bloodGroup=bloodGroup)\n",
    "    print(x)\n",
    "    print(\"----------\")"
   ]
  },
  {
   "cell_type": "code",
   "execution_count": 18,
   "id": "777da046-c324-4fe9-81a7-6311038ba07a",
   "metadata": {},
   "outputs": [
    {
     "name": "stdout",
     "output_type": "stream",
     "text": [
      "“Hey there! 👋 I’d like you to meet Alice. Alice is 30 years old, stands at a height of 165 feet, and has the blood type A+. Alice is a curious soul who loves exploring new technologies and programming languages. Feel free to strike up a conversation with Alice about Python, Java, or even the latest React features! 🚀”\n",
      "----------\n",
      "“Hey there! 👋 I’d like you to meet Bob. Bob is 25 years old, stands at a height of 180 feet, and has the blood type B-. Bob is a curious soul who loves exploring new technologies and programming languages. Feel free to strike up a conversation with Bob about Python, Java, or even the latest React features! 🚀”\n",
      "----------\n",
      "“Hey there! 👋 I’d like you to meet Charlie. Charlie is 22 years old, stands at a height of 175 feet, and has the blood type O+. Charlie is a curious soul who loves exploring new technologies and programming languages. Feel free to strike up a conversation with Charlie about Python, Java, or even the latest React features! 🚀”\n",
      "----------\n"
     ]
    }
   ],
   "source": [
    "for person in people_list:\n",
    "    x= message1.format(**person)\n",
    "    print(x)\n",
    "    print(\"----------\")"
   ]
  },
  {
   "cell_type": "code",
   "execution_count": 19,
   "id": "246d4b43-e27c-427e-8776-7a146b1540d2",
   "metadata": {},
   "outputs": [],
   "source": [
    "people_list = [\n",
    "    {\"name\": \"Alice\", \"age\": 30, \"height\": 165, \"bloodGroup\": \"A+\"},\n",
    "    {\"name\": \"Bob\", \"age\": 25, \"height\": 180, \"bloodGroup\": \"B-\"},\n",
    "    {\"name\": \"Charlie\", \"age\": 22, \"height\": 175, \"bloodGroup\": \"O+\"},\n",
    "    {\"name\": \"David\", \"age\": 28, \"height\": 170, \"bloodGroup\": \"AB+\"},\n",
    "    {\"name\": \"Eva\", \"age\": 35, \"height\": 160, \"bloodGroup\": \"O-\"},\n",
    "    {\"name\": \"Frank\", \"age\": 40, \"height\": 185, \"bloodGroup\": \"A-\"},\n",
    "    {\"name\": \"Grace\", \"age\": 21, \"height\": 168, \"bloodGroup\": \"B+\"},\n",
    "    {\"name\": \"Henry\", \"age\": 32, \"height\": 175, \"bloodGroup\": \"O+\"},\n",
    "    {\"name\": \"Isabel\", \"age\": 27, \"height\": 172, \"bloodGroup\": \"AB-\"},\n",
    "    {\"name\": \"Jack\", \"age\": 24, \"height\": 178, \"bloodGroup\": \"A-\"},\n",
    "]"
   ]
  },
  {
   "cell_type": "code",
   "execution_count": 20,
   "id": "0983cfc1-4ad3-4eb5-b13e-438e6b28014d",
   "metadata": {},
   "outputs": [
    {
     "name": "stdout",
     "output_type": "stream",
     "text": [
      "“Hey there! 👋 I’d like you to meet Alice. Alice is 30 years old, stands at a height of 165 feet, and has the blood type A+. Alice is a curious soul who loves exploring new technologies and programming languages. Feel free to strike up a conversation with Alice about Python, Java, or even the latest React features! 🚀”\n",
      "-------------\n",
      "“Hey there! 👋 I’d like you to meet Bob. Bob is 25 years old, stands at a height of 180 feet, and has the blood type B-. Bob is a curious soul who loves exploring new technologies and programming languages. Feel free to strike up a conversation with Bob about Python, Java, or even the latest React features! 🚀”\n",
      "-------------\n",
      "“Hey there! 👋 I’d like you to meet Charlie. Charlie is 22 years old, stands at a height of 175 feet, and has the blood type O+. Charlie is a curious soul who loves exploring new technologies and programming languages. Feel free to strike up a conversation with Charlie about Python, Java, or even the latest React features! 🚀”\n",
      "-------------\n",
      "“Hey there! 👋 I’d like you to meet David. David is 28 years old, stands at a height of 170 feet, and has the blood type AB+. David is a curious soul who loves exploring new technologies and programming languages. Feel free to strike up a conversation with David about Python, Java, or even the latest React features! 🚀”\n",
      "-------------\n",
      "“Hey there! 👋 I’d like you to meet Eva. Eva is 35 years old, stands at a height of 160 feet, and has the blood type O-. Eva is a curious soul who loves exploring new technologies and programming languages. Feel free to strike up a conversation with Eva about Python, Java, or even the latest React features! 🚀”\n",
      "-------------\n",
      "“Hey there! 👋 I’d like you to meet Frank. Frank is 40 years old, stands at a height of 185 feet, and has the blood type A-. Frank is a curious soul who loves exploring new technologies and programming languages. Feel free to strike up a conversation with Frank about Python, Java, or even the latest React features! 🚀”\n",
      "-------------\n",
      "“Hey there! 👋 I’d like you to meet Grace. Grace is 21 years old, stands at a height of 168 feet, and has the blood type B+. Grace is a curious soul who loves exploring new technologies and programming languages. Feel free to strike up a conversation with Grace about Python, Java, or even the latest React features! 🚀”\n",
      "-------------\n",
      "“Hey there! 👋 I’d like you to meet Henry. Henry is 32 years old, stands at a height of 175 feet, and has the blood type O+. Henry is a curious soul who loves exploring new technologies and programming languages. Feel free to strike up a conversation with Henry about Python, Java, or even the latest React features! 🚀”\n",
      "-------------\n",
      "“Hey there! 👋 I’d like you to meet Isabel. Isabel is 27 years old, stands at a height of 172 feet, and has the blood type AB-. Isabel is a curious soul who loves exploring new technologies and programming languages. Feel free to strike up a conversation with Isabel about Python, Java, or even the latest React features! 🚀”\n",
      "-------------\n",
      "“Hey there! 👋 I’d like you to meet Jack. Jack is 24 years old, stands at a height of 178 feet, and has the blood type A-. Jack is a curious soul who loves exploring new technologies and programming languages. Feel free to strike up a conversation with Jack about Python, Java, or even the latest React features! 🚀”\n",
      "-------------\n"
     ]
    }
   ],
   "source": [
    "for person in people_list:\n",
    "    x = message1.format(**person)\n",
    "    print(x)\n",
    "    print(\"-------------\")"
   ]
  },
  {
   "cell_type": "markdown",
   "id": "5fae3d48-920e-4e44-b17f-2d2b4fd2c745",
   "metadata": {},
   "source": [
    "**index, rindex**"
   ]
  },
  {
   "cell_type": "code",
   "execution_count": 21,
   "id": "b76e8bea-4ab6-42f5-bf0e-a99e41ca65a4",
   "metadata": {},
   "outputs": [
    {
     "data": {
      "text/plain": [
       "'“Hey there! 👋 I’d like you to meet {name}. {name} is {age} years old, stands at a height of {height} feet, and has the blood type {bloodGroup}. {name} is a curious soul who loves exploring new technologies and programming languages. Feel free to strike up a conversation with {name} about Python, Java, or even the latest React features! 🚀”'"
      ]
     },
     "execution_count": 21,
     "metadata": {},
     "output_type": "execute_result"
    }
   ],
   "source": [
    "message1"
   ]
  },
  {
   "cell_type": "code",
   "execution_count": 23,
   "id": "d610346a-efcf-4dfc-9155-8b7dae1976c0",
   "metadata": {},
   "outputs": [
    {
     "data": {
      "text/plain": [
       "36"
      ]
     },
     "execution_count": 23,
     "metadata": {},
     "output_type": "execute_result"
    }
   ],
   "source": [
    "message1.index(\"name\")"
   ]
  },
  {
   "cell_type": "code",
   "execution_count": 24,
   "id": "3d4924c3-8178-4fdf-a1a3-b0fa7d643a24",
   "metadata": {},
   "outputs": [
    {
     "data": {
      "text/plain": [
       "277"
      ]
     },
     "execution_count": 24,
     "metadata": {},
     "output_type": "execute_result"
    }
   ],
   "source": [
    "message1.rindex(\"name\")"
   ]
  },
  {
   "cell_type": "code",
   "execution_count": 25,
   "id": "0fb23fd4-0f9e-447b-81a0-aedaf67e6682",
   "metadata": {},
   "outputs": [],
   "source": [
    "data = (\"name\",\"age\",\"height\",\"bloodGroup\")"
   ]
  },
  {
   "cell_type": "code",
   "execution_count": 26,
   "id": "a7c046de-7551-45d5-9420-462722bea3a9",
   "metadata": {},
   "outputs": [
    {
     "data": {
      "text/plain": [
       "'name-age-height-bloodGroup'"
      ]
     },
     "execution_count": 26,
     "metadata": {},
     "output_type": "execute_result"
    }
   ],
   "source": [
    "\"-\".join(data)"
   ]
  },
  {
   "cell_type": "code",
   "execution_count": 27,
   "id": "09e9ffb0-1fa1-4063-94a1-3a73d6711466",
   "metadata": {},
   "outputs": [],
   "source": [
    "xtime = (\"04\",\"34\",\"56\")"
   ]
  },
  {
   "cell_type": "code",
   "execution_count": 28,
   "id": "ecc134ca-c95f-4caf-8b6b-7f602e50b7ed",
   "metadata": {},
   "outputs": [
    {
     "data": {
      "text/plain": [
       "'04:34:56'"
      ]
     },
     "execution_count": 28,
     "metadata": {},
     "output_type": "execute_result"
    }
   ],
   "source": [
    "\":\".join(xtime)"
   ]
  },
  {
   "cell_type": "code",
   "execution_count": 29,
   "id": "33a8e796-fc4f-4098-b932-29575e513c2f",
   "metadata": {},
   "outputs": [],
   "source": [
    "# hour, min, sec\n",
    "time_value = (13,23,34)\n",
    "time_value2 = (3,3,34)"
   ]
  },
  {
   "cell_type": "code",
   "execution_count": 30,
   "id": "03c21649-2881-4517-afcc-e3eed44f37cc",
   "metadata": {},
   "outputs": [
    {
     "ename": "TypeError",
     "evalue": "sequence item 0: expected str instance, int found",
     "output_type": "error",
     "traceback": [
      "\u001b[1;31m---------------------------------------------------------------------------\u001b[0m",
      "\u001b[1;31mTypeError\u001b[0m                                 Traceback (most recent call last)",
      "Cell \u001b[1;32mIn [30], line 1\u001b[0m\n\u001b[1;32m----> 1\u001b[0m \u001b[38;5;124;43m\"\u001b[39;49m\u001b[38;5;124;43m:\u001b[39;49m\u001b[38;5;124;43m\"\u001b[39;49m\u001b[38;5;241;43m.\u001b[39;49m\u001b[43mjoin\u001b[49m\u001b[43m(\u001b[49m\u001b[43mtime_value\u001b[49m\u001b[43m)\u001b[49m\n",
      "\u001b[1;31mTypeError\u001b[0m: sequence item 0: expected str instance, int found"
     ]
    }
   ],
   "source": [
    "\":\".join(time_value)"
   ]
  },
  {
   "cell_type": "code",
   "execution_count": 32,
   "id": "9b3e7142-15e6-40dc-9bd8-521401872759",
   "metadata": {},
   "outputs": [
    {
     "data": {
      "text/plain": [
       "('13', '23', '34')"
      ]
     },
     "execution_count": 32,
     "metadata": {},
     "output_type": "execute_result"
    }
   ],
   "source": [
    "tuple(map(lambda x:str(x), time_value))"
   ]
  },
  {
   "cell_type": "code",
   "execution_count": 33,
   "id": "e663804f-bd9f-4be0-a653-927eb40edfdb",
   "metadata": {},
   "outputs": [],
   "source": [
    "def intToStr(x):\n",
    "    return str(x)"
   ]
  },
  {
   "cell_type": "code",
   "execution_count": 35,
   "id": "e4b0af67-baec-48d5-a066-c40f7a9592d9",
   "metadata": {},
   "outputs": [
    {
     "data": {
      "text/plain": [
       "('13', '23', '34')"
      ]
     },
     "execution_count": 35,
     "metadata": {},
     "output_type": "execute_result"
    }
   ],
   "source": [
    "tuple(map(intToStr, time_value))"
   ]
  },
  {
   "cell_type": "code",
   "execution_count": 37,
   "id": "b3a233e3-d007-4e91-aa40-c01b44be7781",
   "metadata": {},
   "outputs": [
    {
     "data": {
      "text/plain": [
       "('13', '23', '34')"
      ]
     },
     "execution_count": 37,
     "metadata": {},
     "output_type": "execute_result"
    }
   ],
   "source": [
    "x_list = []\n",
    "for x in time_value:\n",
    "    x_list.append(str(x))\n",
    "tuple(x_list)"
   ]
  },
  {
   "cell_type": "code",
   "execution_count": 38,
   "id": "e6146198-5bbb-48ee-8c59-f66a0b3670dc",
   "metadata": {},
   "outputs": [
    {
     "data": {
      "text/plain": [
       "'13:23:34'"
      ]
     },
     "execution_count": 38,
     "metadata": {},
     "output_type": "execute_result"
    }
   ],
   "source": [
    "\":\".join(x_list)"
   ]
  },
  {
   "cell_type": "code",
   "execution_count": 39,
   "id": "03671f0c-9606-42ab-9ac3-8ccbda627283",
   "metadata": {},
   "outputs": [
    {
     "data": {
      "text/plain": [
       "(3, 3, 34)"
      ]
     },
     "execution_count": 39,
     "metadata": {},
     "output_type": "execute_result"
    }
   ],
   "source": [
    "time_value2"
   ]
  },
  {
   "cell_type": "code",
   "execution_count": 40,
   "id": "330d16b2-9080-4514-a514-1f53db421356",
   "metadata": {},
   "outputs": [],
   "source": [
    "def intToStr(x):\n",
    "    return str(x).zfill(2)"
   ]
  },
  {
   "cell_type": "code",
   "execution_count": 41,
   "id": "fe10a767-af9a-4d4d-b152-a90d8f6243d3",
   "metadata": {},
   "outputs": [
    {
     "data": {
      "text/plain": [
       "('03', '03', '34')"
      ]
     },
     "execution_count": 41,
     "metadata": {},
     "output_type": "execute_result"
    }
   ],
   "source": [
    "tuple(map(intToStr, time_value2))"
   ]
  },
  {
   "cell_type": "code",
   "execution_count": 42,
   "id": "d7adb8ed-28e7-4cb4-b65c-7885912a9808",
   "metadata": {},
   "outputs": [
    {
     "data": {
      "text/plain": [
       "'000hello'"
      ]
     },
     "execution_count": 42,
     "metadata": {},
     "output_type": "execute_result"
    }
   ],
   "source": [
    "\"hello\".zfill(8)"
   ]
  },
  {
   "cell_type": "code",
   "execution_count": 44,
   "id": "e5f8c8bd-50a7-418a-bec4-7ca74475f599",
   "metadata": {},
   "outputs": [
    {
     "data": {
      "text/plain": [
       "('03', '03', '34')"
      ]
     },
     "execution_count": 44,
     "metadata": {},
     "output_type": "execute_result"
    }
   ],
   "source": [
    "x_list = []\n",
    "for x in time_value2:\n",
    "    x_list.append(intToStr(x))\n",
    "tuple(x_list)"
   ]
  },
  {
   "cell_type": "code",
   "execution_count": 45,
   "id": "d86d8939-c2b4-4c85-bc26-3c6c8f01c1f7",
   "metadata": {},
   "outputs": [
    {
     "data": {
      "text/plain": [
       "'03:03:34'"
      ]
     },
     "execution_count": 45,
     "metadata": {},
     "output_type": "execute_result"
    }
   ],
   "source": [
    "\":\".join(map(intToStr,time_value2))"
   ]
  },
  {
   "cell_type": "markdown",
   "id": "8833418e-06c9-4d42-9281-2e4750355d24",
   "metadata": {},
   "source": [
    "**split and rsplit**"
   ]
  },
  {
   "cell_type": "code",
   "execution_count": 1,
   "id": "10e12158-5674-4df7-8e64-aff626a8db81",
   "metadata": {},
   "outputs": [],
   "source": [
    "myStr = \"name,age,height,bloodgroup\""
   ]
  },
  {
   "cell_type": "code",
   "execution_count": 2,
   "id": "c859921d-ab5d-49bc-83df-04e777cdfe2e",
   "metadata": {},
   "outputs": [
    {
     "data": {
      "text/plain": [
       "['name', 'age', 'height', 'bloodgroup']"
      ]
     },
     "execution_count": 2,
     "metadata": {},
     "output_type": "execute_result"
    }
   ],
   "source": [
    "myStr.split(\",\")"
   ]
  },
  {
   "cell_type": "code",
   "execution_count": 3,
   "id": "d1f249ce-19d9-4643-808c-694cabf10f5b",
   "metadata": {},
   "outputs": [],
   "source": [
    "myStr = \"03:03:34\""
   ]
  },
  {
   "cell_type": "code",
   "execution_count": 4,
   "id": "c9eaaffe-f05f-4d6d-8580-1732640713ef",
   "metadata": {},
   "outputs": [
    {
     "data": {
      "text/plain": [
       "['03', '03', '34']"
      ]
     },
     "execution_count": 4,
     "metadata": {},
     "output_type": "execute_result"
    }
   ],
   "source": [
    "myStr.split(\":\")"
   ]
  },
  {
   "cell_type": "code",
   "execution_count": null,
   "id": "a40ac8e7-4113-4a0f-92b1-9b31d9baaeda",
   "metadata": {},
   "outputs": [],
   "source": []
  },
  {
   "cell_type": "code",
   "execution_count": 8,
   "id": "fbf3e02a-9a81-4485-976d-32382a5a5bb1",
   "metadata": {},
   "outputs": [
    {
     "data": {
      "text/plain": [
       "['03', '03:34']"
      ]
     },
     "execution_count": 8,
     "metadata": {},
     "output_type": "execute_result"
    }
   ],
   "source": [
    "myStr.split(\":\",maxsplit=1)"
   ]
  },
  {
   "cell_type": "code",
   "execution_count": 9,
   "id": "6284e17d-041f-490d-b253-49dc83594a7c",
   "metadata": {},
   "outputs": [],
   "source": [
    "myStr = \"name,age,height,bloodgroup\""
   ]
  },
  {
   "cell_type": "code",
   "execution_count": 10,
   "id": "f530d13a-5907-4b7f-b935-3a60c8a85e4f",
   "metadata": {},
   "outputs": [
    {
     "data": {
      "text/plain": [
       "['name', 'age', 'height,bloodgroup']"
      ]
     },
     "execution_count": 10,
     "metadata": {},
     "output_type": "execute_result"
    }
   ],
   "source": [
    "myStr.split(\",\",maxsplit=2)"
   ]
  },
  {
   "cell_type": "code",
   "execution_count": 11,
   "id": "716e85a8-b3e4-435d-9e6d-c269bd5cb84b",
   "metadata": {},
   "outputs": [
    {
     "data": {
      "text/plain": [
       "['name,age', 'height', 'bloodgroup']"
      ]
     },
     "execution_count": 11,
     "metadata": {},
     "output_type": "execute_result"
    }
   ],
   "source": [
    "myStr.rsplit(\",\", maxsplit=2)"
   ]
  },
  {
   "cell_type": "markdown",
   "id": "493597d0-2578-48c9-afaa-dada96cb562f",
   "metadata": {},
   "source": [
    "**strip**"
   ]
  },
  {
   "cell_type": "code",
   "execution_count": 12,
   "id": "c1914824-040e-416b-bdf4-93e2133dbbcb",
   "metadata": {},
   "outputs": [
    {
     "name": "stdin",
     "output_type": "stream",
     "text": [
      "Enter nam:      Aakash kumar     \n"
     ]
    },
    {
     "data": {
      "text/plain": [
       "'    Aakash kumar     '"
      ]
     },
     "execution_count": 12,
     "metadata": {},
     "output_type": "execute_result"
    }
   ],
   "source": [
    "myInput = input(\"Enter nam: \")\n",
    "myInput"
   ]
  },
  {
   "cell_type": "code",
   "execution_count": 13,
   "id": "e5c5c48f-d421-4866-a313-05613b947c72",
   "metadata": {},
   "outputs": [
    {
     "data": {
      "text/plain": [
       "'Aakash kumar'"
      ]
     },
     "execution_count": 13,
     "metadata": {},
     "output_type": "execute_result"
    }
   ],
   "source": [
    "myInput.strip()"
   ]
  },
  {
   "cell_type": "code",
   "execution_count": 14,
   "id": "3e69ad6b-3393-4405-82f5-42cc68bee72f",
   "metadata": {},
   "outputs": [],
   "source": [
    "# lstrip, rstrip"
   ]
  },
  {
   "cell_type": "code",
   "execution_count": 15,
   "id": "cb9c8aa3-127b-4790-b59f-88cceed73500",
   "metadata": {},
   "outputs": [
    {
     "data": {
      "text/plain": [
       "'Aakash kumar     '"
      ]
     },
     "execution_count": 15,
     "metadata": {},
     "output_type": "execute_result"
    }
   ],
   "source": [
    "myInput.lstrip()"
   ]
  },
  {
   "cell_type": "code",
   "execution_count": 16,
   "id": "a723da12-198e-4e5c-8e6e-5d06ff70121b",
   "metadata": {},
   "outputs": [
    {
     "data": {
      "text/plain": [
       "'    Aakash kumar'"
      ]
     },
     "execution_count": 16,
     "metadata": {},
     "output_type": "execute_result"
    }
   ],
   "source": [
    "myInput.rstrip()"
   ]
  },
  {
   "cell_type": "markdown",
   "id": "e58f74ef-e705-46d2-ba96-a882a2931e8b",
   "metadata": {},
   "source": [
    "**removeprefix and removesuffix**"
   ]
  },
  {
   "cell_type": "code",
   "execution_count": 17,
   "id": "74cbe6d2-429d-4a84-9472-e15720c19a3c",
   "metadata": {},
   "outputs": [],
   "source": [
    "empId = \"ME-456258-003\""
   ]
  },
  {
   "cell_type": "code",
   "execution_count": 20,
   "id": "5abf273f-39da-4297-87d8-33a7b7c02de8",
   "metadata": {},
   "outputs": [
    {
     "data": {
      "text/plain": [
       "'456258-003'"
      ]
     },
     "execution_count": 20,
     "metadata": {},
     "output_type": "execute_result"
    }
   ],
   "source": [
    "empId.removeprefix(\"ME-\")"
   ]
  },
  {
   "cell_type": "code",
   "execution_count": 21,
   "id": "b4c6b46e-8788-4d88-8d35-f48f03cc05e6",
   "metadata": {},
   "outputs": [
    {
     "data": {
      "text/plain": [
       "'ME-456258'"
      ]
     },
     "execution_count": 21,
     "metadata": {},
     "output_type": "execute_result"
    }
   ],
   "source": [
    "empId.removesuffix(\"-003\")"
   ]
  },
  {
   "cell_type": "code",
   "execution_count": 22,
   "id": "2d4968ba-9608-4381-8f1e-96c147671106",
   "metadata": {},
   "outputs": [],
   "source": [
    "result = empId.removeprefix(\"ME-\")"
   ]
  },
  {
   "cell_type": "code",
   "execution_count": 24,
   "id": "de731e90-7b86-4607-8038-4781f752bba7",
   "metadata": {},
   "outputs": [
    {
     "data": {
      "text/plain": [
       "'456258-003'"
      ]
     },
     "execution_count": 24,
     "metadata": {},
     "output_type": "execute_result"
    }
   ],
   "source": [
    "result"
   ]
  },
  {
   "cell_type": "code",
   "execution_count": 25,
   "id": "674ff43b-3d62-4530-a471-d087ec94aabf",
   "metadata": {},
   "outputs": [
    {
     "data": {
      "text/plain": [
       "'456258'"
      ]
     },
     "execution_count": 25,
     "metadata": {},
     "output_type": "execute_result"
    }
   ],
   "source": [
    "result.removesuffix(\"-003\")"
   ]
  },
  {
   "cell_type": "markdown",
   "id": "48760995-f9d9-49ed-afb5-09e514df731b",
   "metadata": {},
   "source": [
    "**zfill**"
   ]
  },
  {
   "cell_type": "code",
   "execution_count": 26,
   "id": "50ab8300-e9e4-44cc-a7bb-ce3abb1dc560",
   "metadata": {},
   "outputs": [],
   "source": [
    "myStr = \"x1\""
   ]
  },
  {
   "cell_type": "code",
   "execution_count": 27,
   "id": "decaebc4-64c3-4f81-9f8e-fa8a5b298564",
   "metadata": {},
   "outputs": [
    {
     "data": {
      "text/plain": [
       "'000x1'"
      ]
     },
     "execution_count": 27,
     "metadata": {},
     "output_type": "execute_result"
    }
   ],
   "source": [
    "myStr.zfill(5)"
   ]
  },
  {
   "cell_type": "code",
   "execution_count": null,
   "id": "36105335-3867-4c92-89ab-6d2c4814f158",
   "metadata": {},
   "outputs": [],
   "source": []
  }
 ],
 "metadata": {
  "kernelspec": {
   "display_name": "Python 3 (ipykernel)",
   "language": "python",
   "name": "python3"
  },
  "language_info": {
   "codemirror_mode": {
    "name": "ipython",
    "version": 3
   },
   "file_extension": ".py",
   "mimetype": "text/x-python",
   "name": "python",
   "nbconvert_exporter": "python",
   "pygments_lexer": "ipython3",
   "version": "3.10.5"
  }
 },
 "nbformat": 4,
 "nbformat_minor": 5
}
