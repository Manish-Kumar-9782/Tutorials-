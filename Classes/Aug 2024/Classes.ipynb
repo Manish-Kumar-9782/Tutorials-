{
 "cells": [
  {
   "cell_type": "markdown",
   "id": "cb08682f-07f9-44af-a6d2-16686c03f8e0",
   "metadata": {},
   "source": [
    "## classes in python"
   ]
  },
  {
   "cell_type": "markdown",
   "id": "1acf9c4c-d38c-4ead-922f-0591284aded3",
   "metadata": {},
   "source": [
    "```python\n",
    "class <class_name>:\n",
    "\n",
    "    def __init__(self):\n",
    "        pass\n",
    "\n",
    "    # some other method\n",
    "```"
   ]
  },
  {
   "cell_type": "markdown",
   "id": "fed7e61f-6784-4fa2-856c-5e4ca011dd89",
   "metadata": {},
   "source": [
    "**class for student information**"
   ]
  },
  {
   "cell_type": "code",
   "execution_count": 7,
   "id": "ac7ebd3d-c1a5-49fa-8937-7b8a39347e23",
   "metadata": {},
   "outputs": [],
   "source": [
    "class Student:\n",
    "\n",
    "    # initializer of attribute\n",
    "    def __init__(self):\n",
    "        self.name = \"no student\"\n",
    "        self.age = None"
   ]
  },
  {
   "cell_type": "markdown",
   "id": "69d12777-3c88-45e5-bc35-c40574d6689d",
   "metadata": {},
   "source": [
    "**creating student type object**"
   ]
  },
  {
   "cell_type": "code",
   "execution_count": 9,
   "id": "3522def7-ac32-4618-a5fe-068bd27e73c2",
   "metadata": {},
   "outputs": [],
   "source": [
    "student = Student()"
   ]
  },
  {
   "cell_type": "code",
   "execution_count": 10,
   "id": "0bbaa329-1713-47ab-83dc-3707fe88c06d",
   "metadata": {},
   "outputs": [
    {
     "data": {
      "text/plain": [
       "'no student'"
      ]
     },
     "execution_count": 10,
     "metadata": {},
     "output_type": "execute_result"
    }
   ],
   "source": [
    "student.name"
   ]
  },
  {
   "cell_type": "code",
   "execution_count": 11,
   "id": "87104941-e9a6-4336-84ea-9608c8cd85ce",
   "metadata": {},
   "outputs": [
    {
     "data": {
      "text/plain": [
       "'hello'"
      ]
     },
     "execution_count": 11,
     "metadata": {},
     "output_type": "execute_result"
    }
   ],
   "source": [
    "\"hello\""
   ]
  },
  {
   "cell_type": "markdown",
   "id": "d04cbba4-ed12-4efd-a5f3-dbd69ab2ea30",
   "metadata": {},
   "source": [
    "**Complete Code**"
   ]
  },
  {
   "cell_type": "code",
   "execution_count": 36,
   "id": "eed91528-d926-4a11-a929-5b46dbf6eac3",
   "metadata": {},
   "outputs": [
    {
     "name": "stdout",
     "output_type": "stream",
     "text": [
      "Student Name:  antima\n",
      "Student age:  23\n"
     ]
    },
    {
     "ename": "AttributeError",
     "evalue": "'Student' object has no attribute 'height'",
     "output_type": "error",
     "traceback": [
      "\u001b[1;31m---------------------------------------------------------------------------\u001b[0m",
      "\u001b[1;31mAttributeError\u001b[0m                            Traceback (most recent call last)",
      "Cell \u001b[1;32mIn [36], line 21\u001b[0m\n\u001b[0;32m     19\u001b[0m \u001b[38;5;66;03m# positional arguments\u001b[39;00m\n\u001b[0;32m     20\u001b[0m student \u001b[38;5;241m=\u001b[39m Student(\u001b[38;5;124m\"\u001b[39m\u001b[38;5;124mantima\u001b[39m\u001b[38;5;124m\"\u001b[39m, age\u001b[38;5;241m=\u001b[39m\u001b[38;5;241m23\u001b[39m)\n\u001b[1;32m---> 21\u001b[0m \u001b[43mstudent\u001b[49m\u001b[38;5;241;43m.\u001b[39;49m\u001b[43mdisplayInfo\u001b[49m\u001b[43m(\u001b[49m\u001b[43m)\u001b[49m\n",
      "Cell \u001b[1;32mIn [36], line 11\u001b[0m, in \u001b[0;36mStudent.displayInfo\u001b[1;34m(self)\u001b[0m\n\u001b[0;32m      9\u001b[0m \u001b[38;5;28mprint\u001b[39m(\u001b[38;5;124m\"\u001b[39m\u001b[38;5;124mStudent Name: \u001b[39m\u001b[38;5;124m\"\u001b[39m, \u001b[38;5;28mself\u001b[39m\u001b[38;5;241m.\u001b[39mname)\n\u001b[0;32m     10\u001b[0m \u001b[38;5;28mprint\u001b[39m(\u001b[38;5;124m\"\u001b[39m\u001b[38;5;124mStudent age: \u001b[39m\u001b[38;5;124m\"\u001b[39m, \u001b[38;5;28mself\u001b[39m\u001b[38;5;241m.\u001b[39mage)\n\u001b[1;32m---> 11\u001b[0m \u001b[38;5;28mprint\u001b[39m(\u001b[38;5;124m\"\u001b[39m\u001b[38;5;124mStudent height: \u001b[39m\u001b[38;5;124m\"\u001b[39m, \u001b[38;5;28;43mself\u001b[39;49m\u001b[38;5;241;43m.\u001b[39;49m\u001b[43mheight\u001b[49m)\n",
      "\u001b[1;31mAttributeError\u001b[0m: 'Student' object has no attribute 'height'"
     ]
    }
   ],
   "source": [
    "class Student:\n",
    "\n",
    "    def __init__(self, name,age):\n",
    "        self.name = name\n",
    "        self.age = age\n",
    "\n",
    "    def displayInfo(self):\n",
    "        name = \"xyz\"\n",
    "        print(\"Student Name: \", self.name)\n",
    "        print(\"Student age: \", self.age)\n",
    "        print(\"Student height: \", self.height)\n",
    "\n",
    "    def setHeight(self, height):\n",
    "        self.height = height\n",
    "\n",
    "\n",
    "\n",
    "\n",
    "# positional arguments\n",
    "student = Student(\"antima\", age=23)\n",
    "student.displayInfo()"
   ]
  },
  {
   "cell_type": "markdown",
   "id": "628e5f25-b617-49b2-bfca-23e5ce9c41dc",
   "metadata": {},
   "source": [
    "**updating Student information**"
   ]
  },
  {
   "cell_type": "code",
   "execution_count": 26,
   "id": "3aeba3d8-2932-4782-bc7a-f01cc0ba6ab6",
   "metadata": {},
   "outputs": [],
   "source": [
    "# assign new name and new age value\n",
    "student.name = \"antima\"\n",
    "student.age = 23"
   ]
  },
  {
   "cell_type": "code",
   "execution_count": 27,
   "id": "67d8269a-5625-48de-a2dc-2ccb37d8306e",
   "metadata": {},
   "outputs": [
    {
     "name": "stdout",
     "output_type": "stream",
     "text": [
      "Student Name:  antima\n",
      "Student age:  23\n"
     ]
    }
   ],
   "source": [
    "print(\"Student Name: \", student.name)\n",
    "print(\"Student age: \", student.age)"
   ]
  },
  {
   "cell_type": "code",
   "execution_count": 28,
   "id": "05c3d957-3f3b-4a98-b11e-15469fa12715",
   "metadata": {},
   "outputs": [
    {
     "name": "stdout",
     "output_type": "stream",
     "text": [
      "self object:  <__main__.Student object at 0x000001FED60421D0>\n"
     ]
    }
   ],
   "source": [
    "student.displayInfo()"
   ]
  },
  {
   "cell_type": "code",
   "execution_count": 29,
   "id": "4f760bb2-7921-44c5-9b91-2a18975e0c0f",
   "metadata": {},
   "outputs": [
    {
     "name": "stdout",
     "output_type": "stream",
     "text": [
      "self object:  <__main__.Student object at 0x000001FED60421D0>\n"
     ]
    }
   ],
   "source": [
    "student.newMethod()"
   ]
  },
  {
   "cell_type": "code",
   "execution_count": 32,
   "id": "7195328f-67b1-4ca4-aecb-a375d880ab4c",
   "metadata": {},
   "outputs": [
    {
     "data": {
      "text/plain": [
       "{'name': 'antima', 'age': 23}"
      ]
     },
     "execution_count": 32,
     "metadata": {},
     "output_type": "execute_result"
    }
   ],
   "source": [
    "student.__dict__"
   ]
  },
  {
   "cell_type": "code",
   "execution_count": 33,
   "id": "4eee533e-f3d0-45c5-8a86-0783c105a85d",
   "metadata": {},
   "outputs": [],
   "source": [
    "student.setHeight(5.6)"
   ]
  },
  {
   "cell_type": "code",
   "execution_count": 34,
   "id": "7a73d1cf-8d35-4d2e-940e-66b96a6a9d29",
   "metadata": {},
   "outputs": [
    {
     "data": {
      "text/plain": [
       "{'name': 'antima', 'age': 23, 'height': 5.6}"
      ]
     },
     "execution_count": 34,
     "metadata": {},
     "output_type": "execute_result"
    }
   ],
   "source": [
    "student.__dict__"
   ]
  },
  {
   "cell_type": "code",
   "execution_count": 35,
   "id": "0f4c1678-0dfa-4fac-850f-c7f1b4ee70dd",
   "metadata": {},
   "outputs": [
    {
     "name": "stdout",
     "output_type": "stream",
     "text": [
      "Student Name:  antima\n",
      "Student age:  23\n"
     ]
    }
   ],
   "source": [
    "student.displayInfo()"
   ]
  },
  {
   "cell_type": "markdown",
   "id": "a76c28c0-722f-4699-bf8a-c5bdada18bfa",
   "metadata": {},
   "source": [
    "### optimizing our Student code"
   ]
  },
  {
   "cell_type": "code",
   "execution_count": 37,
   "id": "5e248337-0826-41ec-8b85-293af0c4238b",
   "metadata": {},
   "outputs": [
    {
     "name": "stdout",
     "output_type": "stream",
     "text": [
      "Student Name:  antima\n",
      "Student age:  23\n",
      "Student height:  None\n"
     ]
    }
   ],
   "source": [
    "class Student:\n",
    "\n",
    "    def __init__(self, name,age):\n",
    "        self.name = name\n",
    "        self.age = age\n",
    "        self.height = None  # initalization height attribute with None\n",
    "    \n",
    "    def displayInfo(self):\n",
    "        name = \"xyz\"\n",
    "        print(\"Student Name: \", self.name)\n",
    "        print(\"Student age: \", self.age)\n",
    "        print(\"Student height: \", self.height)\n",
    "\n",
    "    # def setHeight(self, height):\n",
    "    #     self.height = height\n",
    "\n",
    "\n",
    "\n",
    "\n",
    "# positional arguments\n",
    "student = Student(\"antima\", age=23)\n",
    "student.displayInfo()"
   ]
  },
  {
   "cell_type": "markdown",
   "id": "53749d93-cdd1-4394-8c84-924add59f2dc",
   "metadata": {},
   "source": [
    "**adding height argument**"
   ]
  },
  {
   "cell_type": "code",
   "execution_count": 41,
   "id": "056ad5b8-bc9c-463f-a030-50629f302976",
   "metadata": {},
   "outputs": [
    {
     "name": "stdout",
     "output_type": "stream",
     "text": [
      "Student Name:  antima\n",
      "Student age:  23\n",
      "Student height:  4.5\n"
     ]
    }
   ],
   "source": [
    "class Student:\n",
    "\n",
    "    def __init__(self, a,b,c):\n",
    "        self.name = a\n",
    "        self.age = b\n",
    "        self.height = c\n",
    "\n",
    "    def displayInfo(self):\n",
    "        name = \"xyz\"\n",
    "        print(\"Student Name: \", self.name)\n",
    "        print(\"Student age: \", self.age)\n",
    "        print(\"Student height: \", self.height)\n",
    "\n",
    "\n",
    "# positional arguments\n",
    "student = Student(\"antima\", 23, 4.5)\n",
    "student.displayInfo()"
   ]
  },
  {
   "cell_type": "code",
   "execution_count": 42,
   "id": "af9818c3-99a1-43ac-8008-0eacd3aa1289",
   "metadata": {},
   "outputs": [
    {
     "ename": "TypeError",
     "evalue": "Student.__init__() missing 3 required positional arguments: 'name', 'age', and 'height'",
     "output_type": "error",
     "traceback": [
      "\u001b[1;31m---------------------------------------------------------------------------\u001b[0m",
      "\u001b[1;31mTypeError\u001b[0m                                 Traceback (most recent call last)",
      "Cell \u001b[1;32mIn [42], line 15\u001b[0m\n\u001b[0;32m     11\u001b[0m         \u001b[38;5;28mprint\u001b[39m(\u001b[38;5;124m\"\u001b[39m\u001b[38;5;124mStudent age: \u001b[39m\u001b[38;5;124m\"\u001b[39m, \u001b[38;5;28mself\u001b[39m\u001b[38;5;241m.\u001b[39mage)\n\u001b[0;32m     12\u001b[0m         \u001b[38;5;28mprint\u001b[39m(\u001b[38;5;124m\"\u001b[39m\u001b[38;5;124mStudent height: \u001b[39m\u001b[38;5;124m\"\u001b[39m, \u001b[38;5;28mself\u001b[39m\u001b[38;5;241m.\u001b[39mheight)\n\u001b[1;32m---> 15\u001b[0m student \u001b[38;5;241m=\u001b[39m \u001b[43mStudent\u001b[49m\u001b[43m(\u001b[49m\u001b[43m)\u001b[49m\n",
      "\u001b[1;31mTypeError\u001b[0m: Student.__init__() missing 3 required positional arguments: 'name', 'age', and 'height'"
     ]
    }
   ],
   "source": [
    "class Student:\n",
    "\n",
    "    def __init__(self, name: str, age: int, height: float):\n",
    "        self.name = name\n",
    "        self.age = age\n",
    "        self.height = height\n",
    "\n",
    "    def displayInfo(self):\n",
    "        name = \"xyz\"\n",
    "        print(\"Student Name: \", self.name)\n",
    "        print(\"Student age: \", self.age)\n",
    "        print(\"Student height: \", self.height)\n",
    "\n",
    "\n",
    "student = Student()\n"
   ]
  },
  {
   "cell_type": "code",
   "execution_count": null,
   "id": "438e15ba-72ba-4133-b043-c674eaf1761a",
   "metadata": {},
   "outputs": [],
   "source": []
  }
 ],
 "metadata": {
  "kernelspec": {
   "display_name": "Python 3 (ipykernel)",
   "language": "python",
   "name": "python3"
  },
  "language_info": {
   "codemirror_mode": {
    "name": "ipython",
    "version": 3
   },
   "file_extension": ".py",
   "mimetype": "text/x-python",
   "name": "python",
   "nbconvert_exporter": "python",
   "pygments_lexer": "ipython3",
   "version": "3.10.5"
  }
 },
 "nbformat": 4,
 "nbformat_minor": 5
}
