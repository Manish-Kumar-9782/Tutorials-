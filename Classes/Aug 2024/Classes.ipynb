{
 "cells": [
  {
   "cell_type": "markdown",
   "id": "cb08682f-07f9-44af-a6d2-16686c03f8e0",
   "metadata": {},
   "source": [
    "## classes in python"
   ]
  },
  {
   "cell_type": "markdown",
   "id": "1acf9c4c-d38c-4ead-922f-0591284aded3",
   "metadata": {},
   "source": [
    "```python\n",
    "class <class_name>:\n",
    "\n",
    "    def __init__(self):\n",
    "        pass\n",
    "\n",
    "    # some other method\n",
    "```"
   ]
  },
  {
   "cell_type": "markdown",
   "id": "fed7e61f-6784-4fa2-856c-5e4ca011dd89",
   "metadata": {},
   "source": [
    "**class for student information**"
   ]
  },
  {
   "cell_type": "code",
   "execution_count": 7,
   "id": "ac7ebd3d-c1a5-49fa-8937-7b8a39347e23",
   "metadata": {},
   "outputs": [],
   "source": [
    "class Student:\n",
    "\n",
    "    # initializer of attribute\n",
    "    def __init__(self):\n",
    "        self.name = \"no student\"\n",
    "        self.age = None"
   ]
  },
  {
   "cell_type": "markdown",
   "id": "69d12777-3c88-45e5-bc35-c40574d6689d",
   "metadata": {},
   "source": [
    "**creating student type object**"
   ]
  },
  {
   "cell_type": "code",
   "execution_count": 9,
   "id": "3522def7-ac32-4618-a5fe-068bd27e73c2",
   "metadata": {},
   "outputs": [],
   "source": [
    "student = Student()"
   ]
  },
  {
   "cell_type": "code",
   "execution_count": 10,
   "id": "0bbaa329-1713-47ab-83dc-3707fe88c06d",
   "metadata": {},
   "outputs": [
    {
     "data": {
      "text/plain": [
       "'no student'"
      ]
     },
     "execution_count": 10,
     "metadata": {},
     "output_type": "execute_result"
    }
   ],
   "source": [
    "student.name"
   ]
  },
  {
   "cell_type": "code",
   "execution_count": 11,
   "id": "87104941-e9a6-4336-84ea-9608c8cd85ce",
   "metadata": {},
   "outputs": [
    {
     "data": {
      "text/plain": [
       "'hello'"
      ]
     },
     "execution_count": 11,
     "metadata": {},
     "output_type": "execute_result"
    }
   ],
   "source": [
    "\"hello\""
   ]
  },
  {
   "cell_type": "markdown",
   "id": "d04cbba4-ed12-4efd-a5f3-dbd69ab2ea30",
   "metadata": {},
   "source": [
    "**Complete Code**"
   ]
  },
  {
   "cell_type": "code",
   "execution_count": 36,
   "id": "eed91528-d926-4a11-a929-5b46dbf6eac3",
   "metadata": {},
   "outputs": [
    {
     "name": "stdout",
     "output_type": "stream",
     "text": [
      "Student Name:  antima\n",
      "Student age:  23\n"
     ]
    },
    {
     "ename": "AttributeError",
     "evalue": "'Student' object has no attribute 'height'",
     "output_type": "error",
     "traceback": [
      "\u001b[1;31m---------------------------------------------------------------------------\u001b[0m",
      "\u001b[1;31mAttributeError\u001b[0m                            Traceback (most recent call last)",
      "Cell \u001b[1;32mIn [36], line 21\u001b[0m\n\u001b[0;32m     19\u001b[0m \u001b[38;5;66;03m# positional arguments\u001b[39;00m\n\u001b[0;32m     20\u001b[0m student \u001b[38;5;241m=\u001b[39m Student(\u001b[38;5;124m\"\u001b[39m\u001b[38;5;124mantima\u001b[39m\u001b[38;5;124m\"\u001b[39m, age\u001b[38;5;241m=\u001b[39m\u001b[38;5;241m23\u001b[39m)\n\u001b[1;32m---> 21\u001b[0m \u001b[43mstudent\u001b[49m\u001b[38;5;241;43m.\u001b[39;49m\u001b[43mdisplayInfo\u001b[49m\u001b[43m(\u001b[49m\u001b[43m)\u001b[49m\n",
      "Cell \u001b[1;32mIn [36], line 11\u001b[0m, in \u001b[0;36mStudent.displayInfo\u001b[1;34m(self)\u001b[0m\n\u001b[0;32m      9\u001b[0m \u001b[38;5;28mprint\u001b[39m(\u001b[38;5;124m\"\u001b[39m\u001b[38;5;124mStudent Name: \u001b[39m\u001b[38;5;124m\"\u001b[39m, \u001b[38;5;28mself\u001b[39m\u001b[38;5;241m.\u001b[39mname)\n\u001b[0;32m     10\u001b[0m \u001b[38;5;28mprint\u001b[39m(\u001b[38;5;124m\"\u001b[39m\u001b[38;5;124mStudent age: \u001b[39m\u001b[38;5;124m\"\u001b[39m, \u001b[38;5;28mself\u001b[39m\u001b[38;5;241m.\u001b[39mage)\n\u001b[1;32m---> 11\u001b[0m \u001b[38;5;28mprint\u001b[39m(\u001b[38;5;124m\"\u001b[39m\u001b[38;5;124mStudent height: \u001b[39m\u001b[38;5;124m\"\u001b[39m, \u001b[38;5;28;43mself\u001b[39;49m\u001b[38;5;241;43m.\u001b[39;49m\u001b[43mheight\u001b[49m)\n",
      "\u001b[1;31mAttributeError\u001b[0m: 'Student' object has no attribute 'height'"
     ]
    }
   ],
   "source": [
    "class Student:\n",
    "\n",
    "    def __init__(self, name,age):\n",
    "        self.name = name\n",
    "        self.age = age\n",
    "\n",
    "    def displayInfo(self):\n",
    "        name = \"xyz\"\n",
    "        print(\"Student Name: \", self.name)\n",
    "        print(\"Student age: \", self.age)\n",
    "        print(\"Student height: \", self.height)\n",
    "\n",
    "    def setHeight(self, height):\n",
    "        self.height = height\n",
    "\n",
    "\n",
    "\n",
    "\n",
    "# positional arguments\n",
    "student = Student(\"antima\", age=23)\n",
    "student.displayInfo()"
   ]
  },
  {
   "cell_type": "markdown",
   "id": "628e5f25-b617-49b2-bfca-23e5ce9c41dc",
   "metadata": {},
   "source": [
    "**updating Student information**"
   ]
  },
  {
   "cell_type": "code",
   "execution_count": 26,
   "id": "3aeba3d8-2932-4782-bc7a-f01cc0ba6ab6",
   "metadata": {},
   "outputs": [],
   "source": [
    "# assign new name and new age value\n",
    "student.name = \"antima\"\n",
    "student.age = 23"
   ]
  },
  {
   "cell_type": "code",
   "execution_count": 27,
   "id": "67d8269a-5625-48de-a2dc-2ccb37d8306e",
   "metadata": {},
   "outputs": [
    {
     "name": "stdout",
     "output_type": "stream",
     "text": [
      "Student Name:  antima\n",
      "Student age:  23\n"
     ]
    }
   ],
   "source": [
    "print(\"Student Name: \", student.name)\n",
    "print(\"Student age: \", student.age)"
   ]
  },
  {
   "cell_type": "code",
   "execution_count": 28,
   "id": "05c3d957-3f3b-4a98-b11e-15469fa12715",
   "metadata": {},
   "outputs": [
    {
     "name": "stdout",
     "output_type": "stream",
     "text": [
      "self object:  <__main__.Student object at 0x000001FED60421D0>\n"
     ]
    }
   ],
   "source": [
    "student.displayInfo()"
   ]
  },
  {
   "cell_type": "code",
   "execution_count": 29,
   "id": "4f760bb2-7921-44c5-9b91-2a18975e0c0f",
   "metadata": {},
   "outputs": [
    {
     "name": "stdout",
     "output_type": "stream",
     "text": [
      "self object:  <__main__.Student object at 0x000001FED60421D0>\n"
     ]
    }
   ],
   "source": [
    "student.newMethod()"
   ]
  },
  {
   "cell_type": "code",
   "execution_count": 32,
   "id": "7195328f-67b1-4ca4-aecb-a375d880ab4c",
   "metadata": {},
   "outputs": [
    {
     "data": {
      "text/plain": [
       "{'name': 'antima', 'age': 23}"
      ]
     },
     "execution_count": 32,
     "metadata": {},
     "output_type": "execute_result"
    }
   ],
   "source": [
    "student.__dict__"
   ]
  },
  {
   "cell_type": "code",
   "execution_count": 33,
   "id": "4eee533e-f3d0-45c5-8a86-0783c105a85d",
   "metadata": {},
   "outputs": [],
   "source": [
    "student.setHeight(5.6)"
   ]
  },
  {
   "cell_type": "code",
   "execution_count": 34,
   "id": "7a73d1cf-8d35-4d2e-940e-66b96a6a9d29",
   "metadata": {},
   "outputs": [
    {
     "data": {
      "text/plain": [
       "{'name': 'antima', 'age': 23, 'height': 5.6}"
      ]
     },
     "execution_count": 34,
     "metadata": {},
     "output_type": "execute_result"
    }
   ],
   "source": [
    "student.__dict__"
   ]
  },
  {
   "cell_type": "code",
   "execution_count": 35,
   "id": "0f4c1678-0dfa-4fac-850f-c7f1b4ee70dd",
   "metadata": {},
   "outputs": [
    {
     "name": "stdout",
     "output_type": "stream",
     "text": [
      "Student Name:  antima\n",
      "Student age:  23\n"
     ]
    }
   ],
   "source": [
    "student.displayInfo()"
   ]
  },
  {
   "cell_type": "markdown",
   "id": "a76c28c0-722f-4699-bf8a-c5bdada18bfa",
   "metadata": {},
   "source": [
    "### optimizing our Student code"
   ]
  },
  {
   "cell_type": "code",
   "execution_count": 37,
   "id": "5e248337-0826-41ec-8b85-293af0c4238b",
   "metadata": {},
   "outputs": [
    {
     "name": "stdout",
     "output_type": "stream",
     "text": [
      "Student Name:  antima\n",
      "Student age:  23\n",
      "Student height:  None\n"
     ]
    }
   ],
   "source": [
    "class Student:\n",
    "\n",
    "    def __init__(self, name,age):\n",
    "        self.name = name\n",
    "        self.age = age\n",
    "        self.height = None  # initalization height attribute with None\n",
    "    \n",
    "    def displayInfo(self):\n",
    "        name = \"xyz\"\n",
    "        print(\"Student Name: \", self.name)\n",
    "        print(\"Student age: \", self.age)\n",
    "        print(\"Student height: \", self.height)\n",
    "\n",
    "    # def setHeight(self, height):\n",
    "    #     self.height = height\n",
    "\n",
    "\n",
    "\n",
    "\n",
    "# positional arguments\n",
    "student = Student(\"antima\", age=23)\n",
    "student.displayInfo()"
   ]
  },
  {
   "cell_type": "markdown",
   "id": "53749d93-cdd1-4394-8c84-924add59f2dc",
   "metadata": {},
   "source": [
    "**adding height argument**"
   ]
  },
  {
   "cell_type": "code",
   "execution_count": 41,
   "id": "056ad5b8-bc9c-463f-a030-50629f302976",
   "metadata": {},
   "outputs": [
    {
     "name": "stdout",
     "output_type": "stream",
     "text": [
      "Student Name:  antima\n",
      "Student age:  23\n",
      "Student height:  4.5\n"
     ]
    }
   ],
   "source": [
    "class Student:\n",
    "\n",
    "    def __init__(self, a,b,c):\n",
    "        self.name = a\n",
    "        self.age = b\n",
    "        self.height = c\n",
    "\n",
    "    def displayInfo(self):\n",
    "        name = \"xyz\"\n",
    "        print(\"Student Name: \", self.name)\n",
    "        print(\"Student age: \", self.age)\n",
    "        print(\"Student height: \", self.height)\n",
    "\n",
    "\n",
    "# positional arguments\n",
    "student = Student(\"antima\", 23, 4.5)\n",
    "student.displayInfo()"
   ]
  },
  {
   "cell_type": "code",
   "execution_count": 10,
   "id": "af9818c3-99a1-43ac-8008-0eacd3aa1289",
   "metadata": {},
   "outputs": [],
   "source": [
    "class Student:\n",
    "\n",
    "    def __init__(self, name: str, age: int, height: float):\n",
    "        self.name = name\n",
    "        self.age = age\n",
    "        self.height = height\n",
    "\n",
    "    def displayInfo(self):\n",
    "          # local variable\n",
    "        greet = f\"Hello Good morning, My name is {self.name} and i am {self.age} year's old. my height is {self.height} feet.\"\n",
    "        print(\"Student Name: \", self.name)\n",
    "        print(\"Student age: \", self.age)\n",
    "        print(\"Student height: \", self.height)\n",
    "        print(\"greeting message: \", greet)\n",
    "\n",
    "\n",
    "student = Student(\"antima\", 21, 5.6)\n",
    "student2 = Student(\"kavita\", 22, 5.5)"
   ]
  },
  {
   "cell_type": "code",
   "execution_count": 11,
   "id": "438e15ba-72ba-4133-b043-c674eaf1761a",
   "metadata": {},
   "outputs": [
    {
     "name": "stdout",
     "output_type": "stream",
     "text": [
      "Student Name:  antima\n",
      "Student age:  21\n",
      "Student height:  5.6\n",
      "greeting message:  Hello Good morning, My name is antima and i am 21 year's old. my height is 5.6 feet.\n"
     ]
    }
   ],
   "source": [
    "student.displayInfo()"
   ]
  },
  {
   "cell_type": "code",
   "execution_count": 12,
   "id": "f8e7b3d3-9749-4388-aab5-0f12ed6e61c9",
   "metadata": {},
   "outputs": [
    {
     "name": "stdout",
     "output_type": "stream",
     "text": [
      "Student Name:  kavita\n",
      "Student age:  22\n",
      "Student height:  5.5\n",
      "greeting message:  Hello Good morning, My name is kavita and i am 22 year's old. my height is 5.5 feet.\n"
     ]
    }
   ],
   "source": [
    "student2.displayInfo()"
   ]
  },
  {
   "cell_type": "code",
   "execution_count": 9,
   "id": "19d58866-bbd5-4a32-86f4-abc4b28609a5",
   "metadata": {},
   "outputs": [
    {
     "data": {
      "text/plain": [
       "<__main__.Student at 0x1ef666a59f0>"
      ]
     },
     "execution_count": 9,
     "metadata": {},
     "output_type": "execute_result"
    }
   ],
   "source": [
    "student  ## using repr method"
   ]
  },
  {
   "cell_type": "code",
   "execution_count": 13,
   "id": "6a7642ec-4c5b-40df-ad2b-fd1c50dc64a5",
   "metadata": {},
   "outputs": [
    {
     "data": {
      "text/plain": [
       "<__main__.Student at 0x1ef67267ee0>"
      ]
     },
     "execution_count": 13,
     "metadata": {},
     "output_type": "execute_result"
    }
   ],
   "source": [
    "student2"
   ]
  },
  {
   "cell_type": "code",
   "execution_count": 14,
   "id": "d636eb14-b19d-41e8-8948-3a857f1e1f39",
   "metadata": {},
   "outputs": [],
   "source": [
    "myStudents = [student, student2]"
   ]
  },
  {
   "cell_type": "code",
   "execution_count": 16,
   "id": "a9d02508-a276-4be2-becc-874f499a49f0",
   "metadata": {},
   "outputs": [
    {
     "data": {
      "text/plain": [
       "[<__main__.Student at 0x1ef672641c0>, <__main__.Student at 0x1ef67267ee0>]"
      ]
     },
     "execution_count": 16,
     "metadata": {},
     "output_type": "execute_result"
    }
   ],
   "source": [
    "myStudents  # inspecting the Object representation."
   ]
  },
  {
   "cell_type": "markdown",
   "id": "97328a4a-b87b-465b-8ee6-0a37c01537ac",
   "metadata": {},
   "source": [
    "**Current Student Object**\n",
    "\n",
    "repr: `<__main__.Student at 0x1ef672641c0>`"
   ]
  },
  {
   "cell_type": "markdown",
   "id": "d5ceba1c-8104-4d60-b807-072eba772c71",
   "metadata": {},
   "source": [
    "**Changing Student object and string repersentation**"
   ]
  },
  {
   "cell_type": "code",
   "execution_count": 38,
   "id": "d4cd6bc8-0a07-4d80-8cd4-5fcdd6fc279f",
   "metadata": {},
   "outputs": [],
   "source": [
    "class Student:\n",
    "\n",
    "    def __init__(self, name: str, age: int, height: float, bloodGroup:str):\n",
    "        self.name = name\n",
    "        self.age = age\n",
    "        self.height = height\n",
    "        self.bloodGroup = bloodGroup\n",
    "\n",
    "    def __repr__(self):\n",
    "        return f\"<Student: {self.name}>\"\n",
    "\n",
    "    def __str__(self):\n",
    "        return  str(self.__dict__)\n",
    "    \n",
    "    def displayInfo(self):\n",
    "          # local variable\n",
    "        greet = f\"Hello Good morning, My name is {self.name} and i am {self.age} year's old. my height is {self.height} feet.\"\n",
    "        print(\"Student Name: \", self.name)\n",
    "        print(\"Student age: \", self.age)\n",
    "        print(\"Student height: \", self.height)\n",
    "        print(\"greeting message: \", greet)\n",
    "\n",
    "\n",
    "student = Student(\"antima\", 21, 5.6, \"A+\")\n",
    "student2 = Student(\"kavita\", 22, 5.5, \"B+\")"
   ]
  },
  {
   "cell_type": "code",
   "execution_count": 34,
   "id": "6c4939fd-da63-4c91-8c5c-53264c86994b",
   "metadata": {},
   "outputs": [
    {
     "data": {
      "text/plain": [
       "<Student: antima>"
      ]
     },
     "execution_count": 34,
     "metadata": {},
     "output_type": "execute_result"
    }
   ],
   "source": [
    "student"
   ]
  },
  {
   "cell_type": "code",
   "execution_count": 35,
   "id": "9bd7bac2-2010-4572-8444-d14541afc291",
   "metadata": {},
   "outputs": [
    {
     "data": {
      "text/plain": [
       "<Student: kavita>"
      ]
     },
     "execution_count": 35,
     "metadata": {},
     "output_type": "execute_result"
    }
   ],
   "source": [
    "student2"
   ]
  },
  {
   "cell_type": "code",
   "execution_count": 36,
   "id": "fb776f47-de39-4683-a7df-a9f6f4b2b1ca",
   "metadata": {},
   "outputs": [
    {
     "data": {
      "text/plain": [
       "[<Student: antima>, <Student: kavita>]"
      ]
     },
     "execution_count": 36,
     "metadata": {},
     "output_type": "execute_result"
    }
   ],
   "source": [
    "myStudents = [student, student2]\n",
    "myStudents"
   ]
  },
  {
   "cell_type": "code",
   "execution_count": 39,
   "id": "d77c3acf-834b-491b-9101-19db1aa5222a",
   "metadata": {},
   "outputs": [
    {
     "name": "stdout",
     "output_type": "stream",
     "text": [
      "{'name': 'antima', 'age': 21, 'height': 5.6, 'bloodGroup': 'A+'}\n"
     ]
    }
   ],
   "source": [
    "print(student)"
   ]
  },
  {
   "cell_type": "code",
   "execution_count": 30,
   "id": "577d7efc-b5ee-403c-8ffe-55711f2ffb39",
   "metadata": {},
   "outputs": [
    {
     "data": {
      "text/plain": [
       "{'name': 'antima', 'age': 21, 'height': 5.6}"
      ]
     },
     "execution_count": 30,
     "metadata": {},
     "output_type": "execute_result"
    }
   ],
   "source": [
    "student.__dict__"
   ]
  },
  {
   "cell_type": "markdown",
   "id": "63c8015e-0135-409e-8e0c-c2df7fe31db4",
   "metadata": {},
   "source": [
    "## Inheritance"
   ]
  },
  {
   "cell_type": "code",
   "execution_count": 44,
   "id": "460c8728-626d-49ba-8f1a-fe5248b15659",
   "metadata": {},
   "outputs": [],
   "source": [
    "class Employee(Student):\n",
    "    # while using inheritance we need to call super().__init__ method.\n",
    "    def __init__(self, name, age, height, bloodGroup, emp_id, department):\n",
    "        super().__init__(name,age,height,bloodGroup)\n",
    "\n",
    "        self.salary = None\n",
    "        self.department = None\n",
    "        self.emp_id = None\n",
    "\n",
    "    def setSalary(self, amount):\n",
    "        self.salary = amount\n",
    "\n",
    "    def increaseSalary(self, amount):\n",
    "        self.salary += amount\n",
    "\n",
    "\n",
    "\n",
    "# Creating new Employees \n",
    "emp = Employee('antima', 21,5.6,\"B+\", 10023, \"Web Development\")\n",
    "# setting salaray amount\n",
    "emp.setSalary(45000)"
   ]
  },
  {
   "cell_type": "code",
   "execution_count": 43,
   "id": "fe883855-8aa8-4aa3-b6a5-b16ab052b1c6",
   "metadata": {},
   "outputs": [
    {
     "name": "stdout",
     "output_type": "stream",
     "text": [
      "Student Name:  antima\n",
      "Student age:  21\n",
      "Student height:  5.6\n",
      "greeting message:  Hello Good morning, My name is antima and i am 21 year's old. my height is 5.6 feet.\n"
     ]
    }
   ],
   "source": [
    "emp.displayInfo()"
   ]
  },
  {
   "cell_type": "markdown",
   "id": "2e0eea56-94fe-4815-82e7-575816cb6768",
   "metadata": {},
   "source": [
    "**Overriding displayInfo method**"
   ]
  },
  {
   "cell_type": "code",
   "execution_count": 50,
   "id": "d09996cb-60f3-43dc-94c3-181df838d30c",
   "metadata": {},
   "outputs": [],
   "source": [
    "class Employee(Student):\n",
    "    # while using inheritance we need to call super().__init__ method.\n",
    "    def __init__(self, name, age, height, bloodGroup, emp_id, department):\n",
    "        super().__init__(name,age,height,bloodGroup)\n",
    "\n",
    "        self.salary = None\n",
    "        self.department = emp_id\n",
    "        self.emp_id = department\n",
    "\n",
    "    def setSalary(self, amount):\n",
    "        self.salary = amount\n",
    "\n",
    "    def increaseSalary(self, amount):\n",
    "        self.salary += amount\n",
    "\n",
    "\n",
    "    def displayInfo(self):\n",
    "        print(\"Name: \", self.name)\n",
    "        print(\"Emp Id: \", self.emp_id)\n",
    "        print(\"Department: \", self.department)\n",
    "        print(\"Salary: \", self.salary)\n",
    "\n",
    "    def extraInfo(self):\n",
    "        self.displayInfo() # acessing it's own displayInfo method\n",
    "        super().displayInfo();  # accessing super class displayInfo method\n",
    "\n",
    "# Creating new Employees \n",
    "emp = Employee('antima', 21,5.6,\"B+\", 10023, \"Web Development\")\n",
    "# setting salaray amount\n",
    "emp.setSalary(45000)"
   ]
  },
  {
   "cell_type": "code",
   "execution_count": 49,
   "id": "04761631-5d3f-484f-83fb-2c7b5a699178",
   "metadata": {},
   "outputs": [
    {
     "name": "stdout",
     "output_type": "stream",
     "text": [
      "Name:  antima\n",
      "Emp Id:  Web Development\n",
      "Department:  10023\n",
      "Salary:  45000\n"
     ]
    }
   ],
   "source": [
    "emp.displayInfo()  # calling overrided method displayInfo"
   ]
  },
  {
   "cell_type": "code",
   "execution_count": 51,
   "id": "415e687d-b1f6-437d-8236-f8a6ad5b5151",
   "metadata": {},
   "outputs": [
    {
     "name": "stdout",
     "output_type": "stream",
     "text": [
      "Name:  antima\n",
      "Emp Id:  Web Development\n",
      "Department:  10023\n",
      "Salary:  45000\n",
      "Student Name:  antima\n",
      "Student age:  21\n",
      "Student height:  5.6\n",
      "greeting message:  Hello Good morning, My name is antima and i am 21 year's old. my height is 5.6 feet.\n"
     ]
    }
   ],
   "source": [
    "emp.extraInfo()"
   ]
  },
  {
   "cell_type": "code",
   "execution_count": null,
   "id": "c0f102cc-04c9-47b8-abca-d06bf1c74ca9",
   "metadata": {},
   "outputs": [],
   "source": []
  }
 ],
 "metadata": {
  "kernelspec": {
   "display_name": "Python 3 (ipykernel)",
   "language": "python",
   "name": "python3"
  },
  "language_info": {
   "codemirror_mode": {
    "name": "ipython",
    "version": 3
   },
   "file_extension": ".py",
   "mimetype": "text/x-python",
   "name": "python",
   "nbconvert_exporter": "python",
   "pygments_lexer": "ipython3",
   "version": "3.10.5"
  }
 },
 "nbformat": 4,
 "nbformat_minor": 5
}
