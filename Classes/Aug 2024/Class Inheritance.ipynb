{
 "cells": [
  {
   "cell_type": "code",
   "execution_count": 88,
   "id": "40abb067-e65e-4bdc-abf5-91bae761451e",
   "metadata": {},
   "outputs": [],
   "source": [
    "from abc import abstractmethod,ABC\n",
    "import time"
   ]
  },
  {
   "cell_type": "code",
   "execution_count": 47,
   "id": "78b4be64-95e9-40a7-862d-5f473c446c21",
   "metadata": {},
   "outputs": [],
   "source": [
    "class Person:\n",
    "\n",
    "    def __init__(self, name,age, height,bloodgroup):\n",
    "\n",
    "        self.name = name\n",
    "        self.age = age\n",
    "        self.height = height\n",
    "        self.bloodgroup = bloodgroup\n",
    "\n",
    "    def show_info(self):\n",
    "        print(\"Name: \", self.name)\n",
    "        print(\"Age: \", self.age)\n",
    "        print(\"Height: \", self.height)\n",
    "        print(\"BloodGroup: \", self.bloodgroup)\n",
    "\n",
    "    def birthday(self):\n",
    "        self.age += 1\n",
    "        print(f\"Happy bday to you {self.name}\")\n",
    "\n",
    "    "
   ]
  },
  {
   "cell_type": "code",
   "execution_count": 67,
   "id": "6d8a160b-613d-40dc-95ab-ebedc1082eda",
   "metadata": {},
   "outputs": [],
   "source": [
    "class Employee(Person):\n",
    "\n",
    "    def __init__(self, name,age,height,bloodgroup, empId, salary, dept):\n",
    "        # super fuction is used to access the parent class.\n",
    "        super().__init__(name,age,height,bloodgroup)\n",
    "        self.empid = empId\n",
    "        self.salary = salary\n",
    "        self.dept = dept\n",
    "\n",
    "    # polymorphism example overridng the show info method\n",
    "    def show_info(self):\n",
    "        super().show_info()\n",
    "        print(\"Emp Id: \", self.empid)\n",
    "        print(\"Salary: \", self.salary)\n",
    "        print(\"Department: \", self.dept)\n",
    "    "
   ]
  },
  {
   "cell_type": "code",
   "execution_count": 61,
   "id": "144626f5-0d2c-4254-aa66-082436521a12",
   "metadata": {},
   "outputs": [],
   "source": [
    "pr = Person(\"rahul\", 21,5.6,\"B+\")"
   ]
  },
  {
   "cell_type": "code",
   "execution_count": 62,
   "id": "96d8fd11-4882-4053-8da3-6c196fd53a55",
   "metadata": {},
   "outputs": [
    {
     "name": "stdout",
     "output_type": "stream",
     "text": [
      "Name:  rahul\n",
      "Age:  21\n",
      "Height:  5.6\n",
      "BloodGroup:  B+\n"
     ]
    }
   ],
   "source": [
    "pr.show_info()"
   ]
  },
  {
   "cell_type": "code",
   "execution_count": 64,
   "id": "37e644bf-fa40-4c6c-9a61-0856f5bc9c68",
   "metadata": {},
   "outputs": [],
   "source": [
    "emp = Employee(\"Rahul\",21,5.7,\"B+\", 1001,20000,\"IT\")"
   ]
  },
  {
   "cell_type": "code",
   "execution_count": 65,
   "id": "6060f82a-dd22-4c38-adb9-f1f7568be8be",
   "metadata": {},
   "outputs": [],
   "source": [
    "emp.name = \"Kaushal\""
   ]
  },
  {
   "cell_type": "code",
   "execution_count": 66,
   "id": "4c9861ce-f5fa-4ecc-b6df-2f25534a05f3",
   "metadata": {},
   "outputs": [
    {
     "name": "stdout",
     "output_type": "stream",
     "text": [
      "Name:  Kaushal\n",
      "Age:  21\n",
      "Height:  5.7\n",
      "BloodGroup:  B+\n",
      "Emp Id:  1001\n",
      "Salary:  20000\n",
      "Department:  IT\n"
     ]
    }
   ],
   "source": [
    "emp.show_info()"
   ]
  },
  {
   "cell_type": "code",
   "execution_count": 56,
   "id": "b006dc3d-ba2d-44fe-a282-6fbcd8dc7c10",
   "metadata": {},
   "outputs": [
    {
     "name": "stdout",
     "output_type": "stream",
     "text": [
      "Happy bday to you Rahul\n"
     ]
    }
   ],
   "source": [
    "emp.birthday()"
   ]
  },
  {
   "cell_type": "code",
   "execution_count": 57,
   "id": "325871dc-0a62-4db1-80e7-102de6c16ca9",
   "metadata": {},
   "outputs": [
    {
     "name": "stdout",
     "output_type": "stream",
     "text": [
      "Name:  Rahul\n",
      "Age:  23\n",
      "Height:  5.7\n",
      "BloodGroup:  B+\n"
     ]
    }
   ],
   "source": [
    "emp.show_info()"
   ]
  },
  {
   "cell_type": "markdown",
   "id": "cf731276-9886-45f1-a81e-ffba725c54a2",
   "metadata": {},
   "source": [
    "## Abstraction"
   ]
  },
  {
   "cell_type": "code",
   "execution_count": 77,
   "id": "ce10298a-a6ea-4437-af35-9af70c50d983",
   "metadata": {},
   "outputs": [],
   "source": [
    "class Mobile(ABC):\n",
    "\n",
    "    def __init__(self,name):\n",
    "        self.name =name\n",
    "\n",
    "    @abstractmethod\n",
    "    def call(self):\n",
    "        pass"
   ]
  },
  {
   "cell_type": "code",
   "execution_count": 78,
   "id": "4012505a-23d9-4d1c-9416-bc75d1d9c25c",
   "metadata": {},
   "outputs": [
    {
     "ename": "TypeError",
     "evalue": "Can't instantiate abstract class Mobile with abstract method call",
     "output_type": "error",
     "traceback": [
      "\u001b[1;31m---------------------------------------------------------------------------\u001b[0m",
      "\u001b[1;31mTypeError\u001b[0m                                 Traceback (most recent call last)",
      "Cell \u001b[1;32mIn [78], line 1\u001b[0m\n\u001b[1;32m----> 1\u001b[0m mobile \u001b[38;5;241m=\u001b[39m \u001b[43mMobile\u001b[49m\u001b[43m(\u001b[49m\u001b[38;5;124;43m\"\u001b[39;49m\u001b[38;5;124;43mnokia\u001b[39;49m\u001b[38;5;124;43m\"\u001b[39;49m\u001b[43m)\u001b[49m\n",
      "\u001b[1;31mTypeError\u001b[0m: Can't instantiate abstract class Mobile with abstract method call"
     ]
    }
   ],
   "source": [
    "mobile = Mobile(\"nokia\")"
   ]
  },
  {
   "cell_type": "code",
   "execution_count": 74,
   "id": "b4ddb8d1-3878-4416-a273-b5b1450a2e5f",
   "metadata": {},
   "outputs": [],
   "source": [
    "mobile.call()"
   ]
  },
  {
   "cell_type": "code",
   "execution_count": 82,
   "id": "1f2f2e77-e460-45cd-a060-5c63a25ac394",
   "metadata": {},
   "outputs": [],
   "source": [
    "class Nokia(Mobile):\n",
    "\n",
    "    def __init__(self,name):\n",
    "        super().__init__(name)\n",
    "\n",
    "    def call(self):\n",
    "        print(f\"{self.name} mobile calling\")"
   ]
  },
  {
   "cell_type": "code",
   "execution_count": 85,
   "id": "0a0ec2be-5d25-405f-b1d0-44c367eba570",
   "metadata": {},
   "outputs": [],
   "source": [
    "nk = Nokia(\"3310\")"
   ]
  },
  {
   "cell_type": "code",
   "execution_count": 86,
   "id": "e1273229-ba78-4ead-9f1b-9b9043493060",
   "metadata": {},
   "outputs": [
    {
     "name": "stdout",
     "output_type": "stream",
     "text": [
      "3310 mobile calling\n"
     ]
    }
   ],
   "source": [
    "nk.call()"
   ]
  },
  {
   "cell_type": "code",
   "execution_count": 98,
   "id": "9a281dcd-fb61-4215-8659-b987a88762c0",
   "metadata": {},
   "outputs": [],
   "source": [
    "class Samsung(Mobile):\n",
    "    def __init__(self,name):\n",
    "        super().__init__(name)\n",
    "\n",
    "    # overriding call method\n",
    "    def call(self):\n",
    "        for i in range(1,10):\n",
    "            time.sleep(0.4)\n",
    "            print(\"Calling: \"+\".\"*i, end=\"\\r\")\n",
    "            \n",
    "        print(f\"{self.name} mobile calling\")"
   ]
  },
  {
   "cell_type": "code",
   "execution_count": 99,
   "id": "056810af-28b2-4c0f-b9ee-4ea775efd43f",
   "metadata": {},
   "outputs": [],
   "source": [
    "sm = Samsung(\"Galaxy 476\")"
   ]
  },
  {
   "cell_type": "code",
   "execution_count": 100,
   "id": "35048644-9aa7-4aa9-a203-b32d6793cafe",
   "metadata": {},
   "outputs": [
    {
     "name": "stdout",
     "output_type": "stream",
     "text": [
      "Galaxy 476 mobile calling\n"
     ]
    }
   ],
   "source": [
    "sm.call()"
   ]
  },
  {
   "cell_type": "code",
   "execution_count": 105,
   "id": "c61a6742-0a74-415e-9ca3-27802e75cf0f",
   "metadata": {},
   "outputs": [],
   "source": [
    "class PersonX:\n",
    "\n",
    "    def __init__(self, name, mobile):\n",
    "        self.name = name\n",
    "        self.mobile = mobile\n",
    "        \n",
    "    def to_call(self, name):\n",
    "        print(f\"{self.name} is calling to {name}\")\n",
    "        self.mobile.call()\n",
    "\n",
    "    def change_mobile(self, mobile):\n",
    "        self.mobile = mobile"
   ]
  },
  {
   "cell_type": "code",
   "execution_count": 106,
   "id": "ce6a341a-6c16-41bb-8a1e-3d6971753ed5",
   "metadata": {},
   "outputs": [],
   "source": [
    "pr = PersonX(\"Farzi Sarukhan\", nk)"
   ]
  },
  {
   "cell_type": "code",
   "execution_count": 107,
   "id": "4d69fe03-6c20-4cf4-8cdf-a9f243258e69",
   "metadata": {},
   "outputs": [
    {
     "name": "stdout",
     "output_type": "stream",
     "text": [
      "Farzi Sarukhan is calling to fazu\n",
      "3310 mobile calling\n"
     ]
    }
   ],
   "source": [
    "pr.to_call(\"fazu\")"
   ]
  },
  {
   "cell_type": "code",
   "execution_count": 108,
   "id": "e4225392-8c2e-4f0a-a5fb-b3bd15857e95",
   "metadata": {},
   "outputs": [],
   "source": [
    "pr.change_mobile(sm)"
   ]
  },
  {
   "cell_type": "code",
   "execution_count": 109,
   "id": "ec3c6b66-210b-4c45-8c28-1293312ad85f",
   "metadata": {},
   "outputs": [
    {
     "name": "stdout",
     "output_type": "stream",
     "text": [
      "Farzi Sarukhan is calling to fazu\n",
      "Galaxy 476 mobile calling\n"
     ]
    }
   ],
   "source": [
    "pr.to_call(\"fazu\")"
   ]
  },
  {
   "cell_type": "code",
   "execution_count": null,
   "id": "509de9bc-a19d-48ee-969a-212aaed78578",
   "metadata": {},
   "outputs": [],
   "source": []
  }
 ],
 "metadata": {
  "kernelspec": {
   "display_name": "Python 3 (ipykernel)",
   "language": "python",
   "name": "python3"
  },
  "language_info": {
   "codemirror_mode": {
    "name": "ipython",
    "version": 3
   },
   "file_extension": ".py",
   "mimetype": "text/x-python",
   "name": "python",
   "nbconvert_exporter": "python",
   "pygments_lexer": "ipython3",
   "version": "3.10.5"
  }
 },
 "nbformat": 4,
 "nbformat_minor": 5
}
