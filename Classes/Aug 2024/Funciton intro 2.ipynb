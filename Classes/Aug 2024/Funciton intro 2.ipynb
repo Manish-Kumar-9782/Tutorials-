{
 "cells": [
  {
   "cell_type": "markdown",
   "id": "44d5f1c1-9241-49f7-9921-a8dddd304332",
   "metadata": {},
   "source": [
    "## Function introduction\n",
    "\n",
    "**syntax**\n",
    "\n",
    "```python\n",
    "def <function_name>(<argument_list>):\n",
    "    # statements\n",
    "```"
   ]
  },
  {
   "cell_type": "code",
   "execution_count": 1,
   "id": "97dde7fa-d37b-4e6a-8a0e-e3ec8b637421",
   "metadata": {},
   "outputs": [],
   "source": [
    "def isAdult(age):\n",
    "\n",
    "    if age >= 18:\n",
    "        return True\n",
    "    else:\n",
    "        return False\n",
    "    "
   ]
  },
  {
   "cell_type": "code",
   "execution_count": 2,
   "id": "c11cf6a1-0721-4572-b5bf-460eca1ae9f8",
   "metadata": {},
   "outputs": [
    {
     "data": {
      "text/plain": [
       "False"
      ]
     },
     "execution_count": 2,
     "metadata": {},
     "output_type": "execute_result"
    }
   ],
   "source": [
    "isAdult(12) # call or run the isAdult function"
   ]
  },
  {
   "cell_type": "code",
   "execution_count": 5,
   "id": "e1b57001-7efc-4eb5-8fb0-e4960e0cc551",
   "metadata": {},
   "outputs": [],
   "source": [
    "def TestAge(age):\n",
    "\n",
    "    if age >= 18:\n",
    "        print(\"Person is adult\")\n",
    "    else:\n",
    "        print(\"Person is minor\")"
   ]
  },
  {
   "cell_type": "code",
   "execution_count": 6,
   "id": "8c3518dc-9755-417b-9d1f-639a49275dae",
   "metadata": {},
   "outputs": [
    {
     "name": "stdout",
     "output_type": "stream",
     "text": [
      "Person is minor\n"
     ]
    }
   ],
   "source": [
    "TestAge(12)"
   ]
  },
  {
   "cell_type": "code",
   "execution_count": 7,
   "id": "9ebf8ac6-0376-47c7-9429-38624340f7e8",
   "metadata": {},
   "outputs": [
    {
     "name": "stdin",
     "output_type": "stream",
     "text": [
      "Enter age 15\n"
     ]
    },
    {
     "name": "stdout",
     "output_type": "stream",
     "text": [
      "Person is minor\n"
     ]
    },
    {
     "name": "stdin",
     "output_type": "stream",
     "text": [
      "Enter age 45\n"
     ]
    },
    {
     "name": "stdout",
     "output_type": "stream",
     "text": [
      "Person is adult\n"
     ]
    },
    {
     "name": "stdin",
     "output_type": "stream",
     "text": [
      "Enter age 56\n"
     ]
    },
    {
     "name": "stdout",
     "output_type": "stream",
     "text": [
      "Person is adult\n"
     ]
    },
    {
     "name": "stdin",
     "output_type": "stream",
     "text": [
      "Enter age 23\n"
     ]
    },
    {
     "name": "stdout",
     "output_type": "stream",
     "text": [
      "Person is adult\n"
     ]
    },
    {
     "name": "stdin",
     "output_type": "stream",
     "text": [
      "Enter age 14\n"
     ]
    },
    {
     "name": "stdout",
     "output_type": "stream",
     "text": [
      "Person is minor\n"
     ]
    }
   ],
   "source": [
    "for i in range(5):\n",
    "    age = input(\"Enter age\")\n",
    "    age = int(age)\n",
    "\n",
    "    TestAge(age)"
   ]
  },
  {
   "cell_type": "code",
   "execution_count": null,
   "id": "08612407-0cf1-43ec-9023-e6bdf98a0a85",
   "metadata": {},
   "outputs": [],
   "source": []
  }
 ],
 "metadata": {
  "kernelspec": {
   "display_name": "Python 3 (ipykernel)",
   "language": "python",
   "name": "python3"
  },
  "language_info": {
   "codemirror_mode": {
    "name": "ipython",
    "version": 3
   },
   "file_extension": ".py",
   "mimetype": "text/x-python",
   "name": "python",
   "nbconvert_exporter": "python",
   "pygments_lexer": "ipython3",
   "version": "3.10.5"
  }
 },
 "nbformat": 4,
 "nbformat_minor": 5
}
