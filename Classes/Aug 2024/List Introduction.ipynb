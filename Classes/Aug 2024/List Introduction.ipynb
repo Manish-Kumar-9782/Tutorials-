{
 "cells": [
  {
   "cell_type": "markdown",
   "id": "dba451f3-9bf5-4030-af46-1ffb29b544d3",
   "metadata": {},
   "source": [
    "# List Introduction"
   ]
  },
  {
   "cell_type": "code",
   "execution_count": 1,
   "id": "447479ed-acae-4704-b727-91c919f813be",
   "metadata": {},
   "outputs": [],
   "source": [
    "my_list = [1,2,3,\"Hello\",True]"
   ]
  },
  {
   "cell_type": "code",
   "execution_count": 2,
   "id": "5f7030af-2e4c-46b0-b974-3338ed8392ae",
   "metadata": {},
   "outputs": [
    {
     "data": {
      "text/plain": [
       "list"
      ]
     },
     "execution_count": 2,
     "metadata": {},
     "output_type": "execute_result"
    }
   ],
   "source": [
    "type(my_list)"
   ]
  },
  {
   "cell_type": "code",
   "execution_count": 3,
   "id": "db9e4f3e-04fa-40a8-864c-b06cd5200c90",
   "metadata": {},
   "outputs": [],
   "source": [
    "# my_list = 10"
   ]
  },
  {
   "cell_type": "code",
   "execution_count": 4,
   "id": "62f162ae-4276-4f73-812e-2d6de5323132",
   "metadata": {},
   "outputs": [
    {
     "name": "stdout",
     "output_type": "stream",
     "text": [
      "This is list object\n"
     ]
    }
   ],
   "source": [
    "if type(my_list) == list:\n",
    "    print(\"This is list object\")\n",
    "else:\n",
    "    print(\"Not a list object\")"
   ]
  },
  {
   "cell_type": "code",
   "execution_count": 5,
   "id": "d86d91e2-655b-4a63-860c-6d4f6a017a47",
   "metadata": {},
   "outputs": [],
   "source": [
    "def isList(object):\n",
    "    \n",
    "    if type(object) == list:\n",
    "        return True\n",
    "\n",
    "    return False"
   ]
  },
  {
   "cell_type": "code",
   "execution_count": 6,
   "id": "0d1ce630-9c28-44aa-a18e-335512f86b86",
   "metadata": {},
   "outputs": [
    {
     "data": {
      "text/plain": [
       "True"
      ]
     },
     "execution_count": 6,
     "metadata": {},
     "output_type": "execute_result"
    }
   ],
   "source": [
    "isList(my_list)"
   ]
  },
  {
   "cell_type": "markdown",
   "id": "ff406973-7331-4104-b9ac-8831448fe12a",
   "metadata": {},
   "source": [
    "## list creating by constructor"
   ]
  },
  {
   "cell_type": "code",
   "execution_count": 7,
   "id": "9ec0e10b-47f2-4558-8c49-bd41b776e84a",
   "metadata": {},
   "outputs": [],
   "source": [
    "my_tuple = (1,2,3,4)\n",
    "my_list2 = list(my_tuple)"
   ]
  },
  {
   "cell_type": "code",
   "execution_count": 8,
   "id": "865248af-4ec9-4a04-a9e9-c5a38d139667",
   "metadata": {},
   "outputs": [
    {
     "data": {
      "text/plain": [
       "[1, 2, 3, 4]"
      ]
     },
     "execution_count": 8,
     "metadata": {},
     "output_type": "execute_result"
    }
   ],
   "source": [
    "my_list2"
   ]
  },
  {
   "cell_type": "code",
   "execution_count": 9,
   "id": "1f9be033-6851-4895-9cfa-d5df2d769a81",
   "metadata": {},
   "outputs": [
    {
     "data": {
      "text/plain": [
       "range(2, 10)"
      ]
     },
     "execution_count": 9,
     "metadata": {},
     "output_type": "execute_result"
    }
   ],
   "source": [
    "range(2,10)"
   ]
  },
  {
   "cell_type": "code",
   "execution_count": null,
   "id": "f862b9a8-1d0c-4d7b-9084-f0e9b2fbe821",
   "metadata": {},
   "outputs": [],
   "source": [
    "list(range(2,10))"
   ]
  },
  {
   "cell_type": "markdown",
   "id": "790ff106-02c6-4df9-927b-0e73357bdc13",
   "metadata": {},
   "source": [
    "**Item Accessing**"
   ]
  },
  {
   "cell_type": "code",
   "execution_count": 16,
   "id": "cdf00e43-0139-484c-8356-c7a94f7041c5",
   "metadata": {},
   "outputs": [],
   "source": [
    "my_list = [10, 20, 30, 40, \"Hello\"]\n",
    "first_item = my_list[0] # Accesses the first element\n",
    "# and assigning that element to first_item variable.\n",
    "third_item = my_list[2]"
   ]
  },
  {
   "cell_type": "code",
   "execution_count": 17,
   "id": "8585164b-a380-45c1-9ff7-eec438fd3191",
   "metadata": {},
   "outputs": [
    {
     "data": {
      "text/plain": [
       "10"
      ]
     },
     "execution_count": 17,
     "metadata": {},
     "output_type": "execute_result"
    }
   ],
   "source": [
    "my_list[0]"
   ]
  },
  {
   "cell_type": "code",
   "execution_count": 18,
   "id": "89c6e9e7-e563-41f6-b175-089285ed53a0",
   "metadata": {},
   "outputs": [
    {
     "name": "stdout",
     "output_type": "stream",
     "text": [
      "The first item of my_list:  10\n"
     ]
    }
   ],
   "source": [
    "print(\"The first item of my_list: \", my_list[0])"
   ]
  },
  {
   "cell_type": "code",
   "execution_count": 19,
   "id": "4520bffa-0fb0-48aa-b721-b4185457a620",
   "metadata": {},
   "outputs": [
    {
     "data": {
      "text/plain": [
       "'HelloHelloHelloHelloHelloHelloHelloHelloHelloHelloHelloHelloHelloHelloHelloHelloHelloHelloHelloHelloHelloHelloHelloHelloHelloHelloHelloHelloHelloHelloHelloHelloHelloHelloHelloHelloHelloHelloHelloHelloHelloHelloHelloHelloHelloHelloHelloHelloHelloHelloHelloHelloHelloHelloHelloHelloHelloHelloHelloHelloHelloHelloHelloHelloHelloHelloHelloHelloHelloHelloHelloHelloHelloHelloHelloHelloHelloHelloHelloHelloHelloHelloHelloHelloHelloHelloHelloHelloHelloHelloHelloHelloHelloHelloHelloHelloHelloHelloHelloHello'"
      ]
     },
     "execution_count": 19,
     "metadata": {},
     "output_type": "execute_result"
    }
   ],
   "source": [
    "my_list[4]*100"
   ]
  },
  {
   "cell_type": "code",
   "execution_count": 20,
   "id": "bd33aa90-2c69-492d-a7a7-8558d31d8f70",
   "metadata": {},
   "outputs": [
    {
     "name": "stdout",
     "output_type": "stream",
     "text": [
      "multiplication by 5:  \n",
      "5*10: 50\n",
      "5*20: 100\n",
      "5*30: 150\n",
      "5*40: 200\n",
      "5*Hello: HelloHelloHelloHelloHello\n"
     ]
    }
   ],
   "source": [
    "print(f\"multiplication by 5:  \")\n",
    "for i in my_list:\n",
    "    print(f\"5*{i}: {i*5}\")"
   ]
  },
  {
   "cell_type": "markdown",
   "id": "35640623-53c3-4b87-9f8c-f8b664755c54",
   "metadata": {},
   "source": [
    "## Accessing with negative indices"
   ]
  },
  {
   "cell_type": "code",
   "execution_count": 23,
   "id": "44e008ac-9ea7-400b-899d-097d34941d01",
   "metadata": {},
   "outputs": [
    {
     "name": "stdout",
     "output_type": "stream",
     "text": [
      "last itme of my_list:  Hello\n",
      "second last item of my_list:  40\n"
     ]
    }
   ],
   "source": [
    "print(\"last itme of my_list: \", my_list[-1])\n",
    "print(\"second last item of my_list: \", my_list[-2])"
   ]
  },
  {
   "cell_type": "code",
   "execution_count": 26,
   "id": "02c94655-1ca6-4d55-a904-f491e0ac1de6",
   "metadata": {},
   "outputs": [],
   "source": [
    "import random\n",
    "random_list = []\n",
    "for i in range(30):\n",
    "    _item = random.randint(10,20)\n",
    "    random_list.append(_item)"
   ]
  },
  {
   "cell_type": "code",
   "execution_count": 28,
   "id": "5e250dae-2cc2-4fc9-81be-66ad9059101b",
   "metadata": {},
   "outputs": [
    {
     "name": "stdout",
     "output_type": "stream",
     "text": [
      "[19, 15, 13, 12, 11, 14, 17, 11, 18, 10, 16, 12, 11, 11, 17, 20, 15, 12, 17, 18, 14, 20, 14, 11, 15, 15, 15, 13, 15, 20]\n"
     ]
    }
   ],
   "source": [
    "print(random_list)"
   ]
  },
  {
   "cell_type": "code",
   "execution_count": 29,
   "id": "e6422543-e192-4f25-b616-d9546172911b",
   "metadata": {},
   "outputs": [
    {
     "data": {
      "text/plain": [
       "1"
      ]
     },
     "execution_count": 29,
     "metadata": {},
     "output_type": "execute_result"
    }
   ],
   "source": [
    "random_list.count(19)"
   ]
  },
  {
   "cell_type": "code",
   "execution_count": 30,
   "id": "df816c1d-8f8f-433b-a470-020daab2bf18",
   "metadata": {},
   "outputs": [
    {
     "data": {
      "text/plain": [
       "5"
      ]
     },
     "execution_count": 30,
     "metadata": {},
     "output_type": "execute_result"
    }
   ],
   "source": [
    "random_list.count(11)"
   ]
  },
  {
   "cell_type": "code",
   "execution_count": 33,
   "id": "1749819b-8df2-4bdb-9adf-df10375f27aa",
   "metadata": {},
   "outputs": [
    {
     "name": "stdout",
     "output_type": "stream",
     "text": [
      "item: 10 \t counts:1\n",
      "item: 11 \t counts:5\n",
      "item: 12 \t counts:3\n",
      "item: 13 \t counts:2\n",
      "item: 14 \t counts:3\n",
      "item: 15 \t counts:6\n",
      "item: 16 \t counts:1\n",
      "item: 17 \t counts:3\n",
      "item: 18 \t counts:2\n",
      "item: 19 \t counts:1\n",
      "item: 20 \t counts:3\n"
     ]
    }
   ],
   "source": [
    "for item in set(random_list):\n",
    "    item_counts = random_list.count(item)\n",
    "    print(f\"item: {item} \\t counts:{item_counts}\")\n",
    "    "
   ]
  },
  {
   "cell_type": "code",
   "execution_count": 37,
   "id": "ac5f2ab8-007b-4ced-b297-dd3c5c4d1a74",
   "metadata": {},
   "outputs": [],
   "source": [
    "def max_count_item(sequence:list):\n",
    "    counts = 0\n",
    "    max_item = 0\n",
    "    \n",
    "    for item in set(sequence):\n",
    "        item_counts = sequence.count(item)\n",
    "        if item_counts > counts:\n",
    "            counts = item_counts\n",
    "            max_item = item\n",
    "    return (max_item, counts)"
   ]
  },
  {
   "cell_type": "code",
   "execution_count": 38,
   "id": "105c4701-abe4-4273-8747-e8c9f9afceb7",
   "metadata": {},
   "outputs": [
    {
     "data": {
      "text/plain": [
       "(15, 6)"
      ]
     },
     "execution_count": 38,
     "metadata": {},
     "output_type": "execute_result"
    }
   ],
   "source": [
    "max_count_item(random_list)"
   ]
  },
  {
   "cell_type": "code",
   "execution_count": null,
   "id": "1007d6f0-7562-48cf-8edd-fc73f3eb696c",
   "metadata": {},
   "outputs": [],
   "source": []
  }
 ],
 "metadata": {
  "kernelspec": {
   "display_name": "Python 3 (ipykernel)",
   "language": "python",
   "name": "python3"
  },
  "language_info": {
   "codemirror_mode": {
    "name": "ipython",
    "version": 3
   },
   "file_extension": ".py",
   "mimetype": "text/x-python",
   "name": "python",
   "nbconvert_exporter": "python",
   "pygments_lexer": "ipython3",
   "version": "3.10.5"
  }
 },
 "nbformat": 4,
 "nbformat_minor": 5
}
