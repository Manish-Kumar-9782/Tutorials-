{
 "cells": [
  {
   "cell_type": "markdown",
   "id": "dba451f3-9bf5-4030-af46-1ffb29b544d3",
   "metadata": {},
   "source": [
    "# List Introduction"
   ]
  },
  {
   "cell_type": "code",
   "execution_count": 1,
   "id": "447479ed-acae-4704-b727-91c919f813be",
   "metadata": {},
   "outputs": [],
   "source": [
    "my_list = [1,2,3,\"Hello\",True]"
   ]
  },
  {
   "cell_type": "code",
   "execution_count": 2,
   "id": "5f7030af-2e4c-46b0-b974-3338ed8392ae",
   "metadata": {},
   "outputs": [
    {
     "data": {
      "text/plain": [
       "list"
      ]
     },
     "execution_count": 2,
     "metadata": {},
     "output_type": "execute_result"
    }
   ],
   "source": [
    "type(my_list)"
   ]
  },
  {
   "cell_type": "code",
   "execution_count": 3,
   "id": "db9e4f3e-04fa-40a8-864c-b06cd5200c90",
   "metadata": {},
   "outputs": [],
   "source": [
    "# my_list = 10"
   ]
  },
  {
   "cell_type": "code",
   "execution_count": 4,
   "id": "62f162ae-4276-4f73-812e-2d6de5323132",
   "metadata": {},
   "outputs": [
    {
     "name": "stdout",
     "output_type": "stream",
     "text": [
      "This is list object\n"
     ]
    }
   ],
   "source": [
    "if type(my_list) == list:\n",
    "    print(\"This is list object\")\n",
    "else:\n",
    "    print(\"Not a list object\")"
   ]
  },
  {
   "cell_type": "code",
   "execution_count": 5,
   "id": "d86d91e2-655b-4a63-860c-6d4f6a017a47",
   "metadata": {},
   "outputs": [],
   "source": [
    "def isList(object):\n",
    "    \n",
    "    if type(object) == list:\n",
    "        return True\n",
    "\n",
    "    return False"
   ]
  },
  {
   "cell_type": "code",
   "execution_count": 6,
   "id": "0d1ce630-9c28-44aa-a18e-335512f86b86",
   "metadata": {},
   "outputs": [
    {
     "data": {
      "text/plain": [
       "True"
      ]
     },
     "execution_count": 6,
     "metadata": {},
     "output_type": "execute_result"
    }
   ],
   "source": [
    "isList(my_list)"
   ]
  },
  {
   "cell_type": "markdown",
   "id": "ff406973-7331-4104-b9ac-8831448fe12a",
   "metadata": {},
   "source": [
    "## list creating by constructor"
   ]
  },
  {
   "cell_type": "code",
   "execution_count": 7,
   "id": "9ec0e10b-47f2-4558-8c49-bd41b776e84a",
   "metadata": {},
   "outputs": [],
   "source": [
    "my_tuple = (1,2,3,4)\n",
    "my_list2 = list(my_tuple)"
   ]
  },
  {
   "cell_type": "code",
   "execution_count": 8,
   "id": "865248af-4ec9-4a04-a9e9-c5a38d139667",
   "metadata": {},
   "outputs": [
    {
     "data": {
      "text/plain": [
       "[1, 2, 3, 4]"
      ]
     },
     "execution_count": 8,
     "metadata": {},
     "output_type": "execute_result"
    }
   ],
   "source": [
    "my_list2"
   ]
  },
  {
   "cell_type": "code",
   "execution_count": 9,
   "id": "1f9be033-6851-4895-9cfa-d5df2d769a81",
   "metadata": {},
   "outputs": [
    {
     "data": {
      "text/plain": [
       "range(2, 10)"
      ]
     },
     "execution_count": 9,
     "metadata": {},
     "output_type": "execute_result"
    }
   ],
   "source": [
    "range(2,10)"
   ]
  },
  {
   "cell_type": "code",
   "execution_count": null,
   "id": "f862b9a8-1d0c-4d7b-9084-f0e9b2fbe821",
   "metadata": {},
   "outputs": [],
   "source": [
    "list(range(2,10))"
   ]
  },
  {
   "cell_type": "markdown",
   "id": "790ff106-02c6-4df9-927b-0e73357bdc13",
   "metadata": {},
   "source": [
    "**Item Accessing**"
   ]
  },
  {
   "cell_type": "code",
   "execution_count": 16,
   "id": "cdf00e43-0139-484c-8356-c7a94f7041c5",
   "metadata": {},
   "outputs": [],
   "source": [
    "my_list = [10, 20, 30, 40, \"Hello\"]\n",
    "first_item = my_list[0] # Accesses the first element\n",
    "# and assigning that element to first_item variable.\n",
    "third_item = my_list[2]"
   ]
  },
  {
   "cell_type": "code",
   "execution_count": 17,
   "id": "8585164b-a380-45c1-9ff7-eec438fd3191",
   "metadata": {},
   "outputs": [
    {
     "data": {
      "text/plain": [
       "10"
      ]
     },
     "execution_count": 17,
     "metadata": {},
     "output_type": "execute_result"
    }
   ],
   "source": [
    "my_list[0]"
   ]
  },
  {
   "cell_type": "code",
   "execution_count": 18,
   "id": "89c6e9e7-e563-41f6-b175-089285ed53a0",
   "metadata": {},
   "outputs": [
    {
     "name": "stdout",
     "output_type": "stream",
     "text": [
      "The first item of my_list:  10\n"
     ]
    }
   ],
   "source": [
    "print(\"The first item of my_list: \", my_list[0])"
   ]
  },
  {
   "cell_type": "code",
   "execution_count": 19,
   "id": "4520bffa-0fb0-48aa-b721-b4185457a620",
   "metadata": {},
   "outputs": [
    {
     "data": {
      "text/plain": [
       "'HelloHelloHelloHelloHelloHelloHelloHelloHelloHelloHelloHelloHelloHelloHelloHelloHelloHelloHelloHelloHelloHelloHelloHelloHelloHelloHelloHelloHelloHelloHelloHelloHelloHelloHelloHelloHelloHelloHelloHelloHelloHelloHelloHelloHelloHelloHelloHelloHelloHelloHelloHelloHelloHelloHelloHelloHelloHelloHelloHelloHelloHelloHelloHelloHelloHelloHelloHelloHelloHelloHelloHelloHelloHelloHelloHelloHelloHelloHelloHelloHelloHelloHelloHelloHelloHelloHelloHelloHelloHelloHelloHelloHelloHelloHelloHelloHelloHelloHelloHello'"
      ]
     },
     "execution_count": 19,
     "metadata": {},
     "output_type": "execute_result"
    }
   ],
   "source": [
    "my_list[4]*100"
   ]
  },
  {
   "cell_type": "code",
   "execution_count": 20,
   "id": "bd33aa90-2c69-492d-a7a7-8558d31d8f70",
   "metadata": {},
   "outputs": [
    {
     "name": "stdout",
     "output_type": "stream",
     "text": [
      "multiplication by 5:  \n",
      "5*10: 50\n",
      "5*20: 100\n",
      "5*30: 150\n",
      "5*40: 200\n",
      "5*Hello: HelloHelloHelloHelloHello\n"
     ]
    }
   ],
   "source": [
    "print(f\"multiplication by 5:  \")\n",
    "for i in my_list:\n",
    "    print(f\"5*{i}: {i*5}\")"
   ]
  },
  {
   "cell_type": "markdown",
   "id": "35640623-53c3-4b87-9f8c-f8b664755c54",
   "metadata": {},
   "source": [
    "## Accessing with negative indices"
   ]
  },
  {
   "cell_type": "code",
   "execution_count": 23,
   "id": "44e008ac-9ea7-400b-899d-097d34941d01",
   "metadata": {},
   "outputs": [
    {
     "name": "stdout",
     "output_type": "stream",
     "text": [
      "last itme of my_list:  Hello\n",
      "second last item of my_list:  40\n"
     ]
    }
   ],
   "source": [
    "print(\"last itme of my_list: \", my_list[-1])\n",
    "print(\"second last item of my_list: \", my_list[-2])"
   ]
  },
  {
   "cell_type": "code",
   "execution_count": 26,
   "id": "02c94655-1ca6-4d55-a904-f491e0ac1de6",
   "metadata": {},
   "outputs": [],
   "source": [
    "import random\n",
    "random_list = []\n",
    "for i in range(30):\n",
    "    _item = random.randint(10,20)\n",
    "    random_list.append(_item)"
   ]
  },
  {
   "cell_type": "code",
   "execution_count": 28,
   "id": "5e250dae-2cc2-4fc9-81be-66ad9059101b",
   "metadata": {},
   "outputs": [
    {
     "name": "stdout",
     "output_type": "stream",
     "text": [
      "[19, 15, 13, 12, 11, 14, 17, 11, 18, 10, 16, 12, 11, 11, 17, 20, 15, 12, 17, 18, 14, 20, 14, 11, 15, 15, 15, 13, 15, 20]\n"
     ]
    }
   ],
   "source": [
    "print(random_list)"
   ]
  },
  {
   "cell_type": "code",
   "execution_count": 29,
   "id": "e6422543-e192-4f25-b616-d9546172911b",
   "metadata": {},
   "outputs": [
    {
     "data": {
      "text/plain": [
       "1"
      ]
     },
     "execution_count": 29,
     "metadata": {},
     "output_type": "execute_result"
    }
   ],
   "source": [
    "random_list.count(19)"
   ]
  },
  {
   "cell_type": "code",
   "execution_count": 30,
   "id": "df816c1d-8f8f-433b-a470-020daab2bf18",
   "metadata": {},
   "outputs": [
    {
     "data": {
      "text/plain": [
       "5"
      ]
     },
     "execution_count": 30,
     "metadata": {},
     "output_type": "execute_result"
    }
   ],
   "source": [
    "random_list.count(11)"
   ]
  },
  {
   "cell_type": "code",
   "execution_count": 33,
   "id": "1749819b-8df2-4bdb-9adf-df10375f27aa",
   "metadata": {},
   "outputs": [
    {
     "name": "stdout",
     "output_type": "stream",
     "text": [
      "item: 10 \t counts:1\n",
      "item: 11 \t counts:5\n",
      "item: 12 \t counts:3\n",
      "item: 13 \t counts:2\n",
      "item: 14 \t counts:3\n",
      "item: 15 \t counts:6\n",
      "item: 16 \t counts:1\n",
      "item: 17 \t counts:3\n",
      "item: 18 \t counts:2\n",
      "item: 19 \t counts:1\n",
      "item: 20 \t counts:3\n"
     ]
    }
   ],
   "source": [
    "for item in set(random_list):\n",
    "    item_counts = random_list.count(item)\n",
    "    print(f\"item: {item} \\t counts:{item_counts}\")\n",
    "    "
   ]
  },
  {
   "cell_type": "code",
   "execution_count": 37,
   "id": "ac5f2ab8-007b-4ced-b297-dd3c5c4d1a74",
   "metadata": {},
   "outputs": [],
   "source": [
    "def max_count_item(sequence:list):\n",
    "    counts = 0\n",
    "    max_item = 0\n",
    "    \n",
    "    for item in set(sequence):\n",
    "        item_counts = sequence.count(item)\n",
    "        if item_counts > counts:\n",
    "            counts = item_counts\n",
    "            max_item = item\n",
    "    return (max_item, counts)"
   ]
  },
  {
   "cell_type": "code",
   "execution_count": 38,
   "id": "105c4701-abe4-4273-8747-e8c9f9afceb7",
   "metadata": {},
   "outputs": [
    {
     "data": {
      "text/plain": [
       "(15, 6)"
      ]
     },
     "execution_count": 38,
     "metadata": {},
     "output_type": "execute_result"
    }
   ],
   "source": [
    "max_count_item(random_list)"
   ]
  },
  {
   "cell_type": "markdown",
   "id": "4c82fbf3-50dc-40a9-bf8a-0be65d99ae3f",
   "metadata": {},
   "source": [
    "**Insert Method**"
   ]
  },
  {
   "cell_type": "code",
   "execution_count": 1,
   "id": "32b3583b-7750-4f85-9822-7ae423947dea",
   "metadata": {},
   "outputs": [],
   "source": [
    "my_list = [10, 20, 30, 40, \"Hello\"]"
   ]
  },
  {
   "cell_type": "code",
   "execution_count": 3,
   "id": "91d2ad7c-733c-47a3-8975-e8ec48b17e52",
   "metadata": {},
   "outputs": [
    {
     "data": {
      "text/plain": [
       "[100, 10, 20, 30, 40, 'Hello']"
      ]
     },
     "execution_count": 3,
     "metadata": {},
     "output_type": "execute_result"
    }
   ],
   "source": [
    "# inserting item at the beginning of list\n",
    "my_list.insert(0,100)\n",
    "my_list"
   ]
  },
  {
   "cell_type": "code",
   "execution_count": 4,
   "id": "e42b90ec-3e3e-4121-8d61-eb3d1bc95e8c",
   "metadata": {},
   "outputs": [
    {
     "data": {
      "text/plain": [
       "[100, 10, 20, 200, 30, 40, 'Hello']"
      ]
     },
     "execution_count": 4,
     "metadata": {},
     "output_type": "execute_result"
    }
   ],
   "source": [
    "# insertig item in b/w the list range\n",
    "my_list.insert(3,200)\n",
    "my_list"
   ]
  },
  {
   "cell_type": "code",
   "execution_count": 5,
   "id": "aae7ebda-60df-4fd0-8f25-f38925d116d1",
   "metadata": {},
   "outputs": [
    {
     "data": {
      "text/plain": [
       "[100, 10, 20, 200, 30, 40, 'Hello', 800]"
      ]
     },
     "execution_count": 5,
     "metadata": {},
     "output_type": "execute_result"
    }
   ],
   "source": [
    "# inserting item at the end of the list\n",
    "my_list.insert(7,800)\n",
    "my_list"
   ]
  },
  {
   "cell_type": "markdown",
   "id": "92fd44ad-8099-4832-8454-e5f0c70cdf33",
   "metadata": {},
   "source": [
    "**extend method**"
   ]
  },
  {
   "cell_type": "code",
   "execution_count": 6,
   "id": "b634f2db-3e37-4eff-88d3-2e6e06e0890b",
   "metadata": {},
   "outputs": [],
   "source": [
    "items = [\"x\",\"y\",\"z\"]"
   ]
  },
  {
   "cell_type": "code",
   "execution_count": 7,
   "id": "84c4dfc6-4b1e-4688-b693-ec6504348795",
   "metadata": {},
   "outputs": [
    {
     "data": {
      "text/plain": [
       "[100, 10, 20, 200, 30, 40, 'Hello', 800]"
      ]
     },
     "execution_count": 7,
     "metadata": {},
     "output_type": "execute_result"
    }
   ],
   "source": [
    "my_list_copy = my_list.copy()\n",
    "my_list_copy"
   ]
  },
  {
   "cell_type": "code",
   "execution_count": 8,
   "id": "1c5a8609-9cf2-43f9-ba3b-b389a5bbd644",
   "metadata": {},
   "outputs": [],
   "source": [
    "my_list_copy.append(items)"
   ]
  },
  {
   "cell_type": "code",
   "execution_count": 9,
   "id": "5ae65863-a805-4771-9e91-b758c440b953",
   "metadata": {},
   "outputs": [
    {
     "data": {
      "text/plain": [
       "[100, 10, 20, 200, 30, 40, 'Hello', 800, ['x', 'y', 'z']]"
      ]
     },
     "execution_count": 9,
     "metadata": {},
     "output_type": "execute_result"
    }
   ],
   "source": [
    "my_list_copy"
   ]
  },
  {
   "cell_type": "code",
   "execution_count": 11,
   "id": "ceb0c898-eea8-4fc2-9b80-2da144799eb5",
   "metadata": {},
   "outputs": [
    {
     "data": {
      "text/plain": [
       "['x', 'y', 'z']"
      ]
     },
     "execution_count": 11,
     "metadata": {},
     "output_type": "execute_result"
    }
   ],
   "source": [
    "# accessing the last added item\n",
    "my_list_copy[-1]"
   ]
  },
  {
   "cell_type": "code",
   "execution_count": 12,
   "id": "7d89c452-fa64-4813-8eec-7085ba2c80a8",
   "metadata": {},
   "outputs": [
    {
     "data": {
      "text/plain": [
       "[100, 10, 20, 200, 30, 40, 'Hello', 800]"
      ]
     },
     "execution_count": 12,
     "metadata": {},
     "output_type": "execute_result"
    }
   ],
   "source": [
    "my_list_copy2 = my_list.copy()\n",
    "my_list_copy2"
   ]
  },
  {
   "cell_type": "code",
   "execution_count": 13,
   "id": "924403d0-1a1f-4994-a2bd-17b3953f9d4d",
   "metadata": {},
   "outputs": [],
   "source": [
    "my_list_copy2.extend(items)"
   ]
  },
  {
   "cell_type": "code",
   "execution_count": 14,
   "id": "ed54f1a6-f1b8-4f2a-a1f2-2383d0deb394",
   "metadata": {},
   "outputs": [
    {
     "data": {
      "text/plain": [
       "[100, 10, 20, 200, 30, 40, 'Hello', 800, 'x', 'y', 'z']"
      ]
     },
     "execution_count": 14,
     "metadata": {},
     "output_type": "execute_result"
    }
   ],
   "source": [
    "my_list_copy2"
   ]
  },
  {
   "cell_type": "code",
   "execution_count": 15,
   "id": "f4bbb610-bf3a-4885-aed4-43ed55386ce4",
   "metadata": {},
   "outputs": [
    {
     "data": {
      "text/plain": [
       "'z'"
      ]
     },
     "execution_count": 15,
     "metadata": {},
     "output_type": "execute_result"
    }
   ],
   "source": [
    "my_list_copy2[-1]"
   ]
  },
  {
   "cell_type": "code",
   "execution_count": 16,
   "id": "3089fab1-ec6b-4532-83bf-948d0587b5a5",
   "metadata": {},
   "outputs": [],
   "source": [
    "item1 = [1,2,3]\n",
    "item2 = [3,4,5]"
   ]
  },
  {
   "cell_type": "code",
   "execution_count": 17,
   "id": "6c471ae9-b914-4d10-9090-c94309322ae1",
   "metadata": {},
   "outputs": [
    {
     "data": {
      "text/plain": [
       "[1, 2, 3, 3, 4, 5]"
      ]
     },
     "execution_count": 17,
     "metadata": {},
     "output_type": "execute_result"
    }
   ],
   "source": [
    "item1 + item2"
   ]
  },
  {
   "cell_type": "markdown",
   "id": "d17b1c83-2fde-4738-91c8-2b3d15ea5ec6",
   "metadata": {},
   "source": [
    "**index method**"
   ]
  },
  {
   "cell_type": "code",
   "execution_count": 19,
   "id": "052374ab-b3f4-429f-a81f-d9f77caa5355",
   "metadata": {},
   "outputs": [],
   "source": [
    "# generating random numbers\n",
    "import random"
   ]
  },
  {
   "cell_type": "code",
   "execution_count": 20,
   "id": "b292e226-57ac-4bac-aadb-7d2b768c275a",
   "metadata": {},
   "outputs": [],
   "source": [
    "r_items = []\n",
    "for i in range(20):\n",
    "    _item = random.randint(1,10)\n",
    "    r_items.append(_item)"
   ]
  },
  {
   "cell_type": "code",
   "execution_count": 21,
   "id": "7e7f4d0f-8d98-495b-9885-2afbe625182d",
   "metadata": {},
   "outputs": [
    {
     "data": {
      "text/plain": [
       "[6, 6, 1, 2, 4, 3, 2, 2, 7, 8, 3, 9, 7, 6, 8, 1, 4, 4, 3, 1]"
      ]
     },
     "execution_count": 21,
     "metadata": {},
     "output_type": "execute_result"
    }
   ],
   "source": [
    "r_items"
   ]
  },
  {
   "cell_type": "code",
   "execution_count": 22,
   "id": "c6a439de-35de-41bb-a0d5-83ce49ea3119",
   "metadata": {},
   "outputs": [
    {
     "data": {
      "text/plain": [
       "4"
      ]
     },
     "execution_count": 22,
     "metadata": {},
     "output_type": "execute_result"
    }
   ],
   "source": [
    "r_items.index(4)"
   ]
  },
  {
   "cell_type": "code",
   "execution_count": 40,
   "id": "2ce92814-c27f-435d-927b-dceaf720db81",
   "metadata": {},
   "outputs": [],
   "source": [
    "# finding all index number of occurance of an item.\n",
    "_indexs = [] # holds the all index number.\n",
    "_ci = 0  # denotes the current index number in a current cycle of loop.\n",
    "_find_item = 4 # item which index number need to find.\n",
    "\n",
    "while True:\n",
    "    # print(f\"Searching {_find_item} in list _ci = {_ci} :\", r_items[_ci:])\n",
    "    if _find_item not in r_items[_ci:]:\n",
    "        break\n",
    "\n",
    "    # first store the index number to _ci\n",
    "    _ci = r_items.index(_find_item, _ci)\n",
    "    # now appending _ci to the _indexes list\n",
    "    _indexs.append(_ci)\n",
    "    # increasing the _ci by 1 for next search.\n",
    "    _ci += 1\n",
    "    # print(_indexs)\n",
    "    "
   ]
  },
  {
   "cell_type": "code",
   "execution_count": 41,
   "id": "50e318c4-c63c-41c1-a407-d5d40d31b53c",
   "metadata": {},
   "outputs": [
    {
     "data": {
      "text/plain": [
       "[4, 16, 17]"
      ]
     },
     "execution_count": 41,
     "metadata": {},
     "output_type": "execute_result"
    }
   ],
   "source": [
    "_indexs"
   ]
  },
  {
   "cell_type": "markdown",
   "id": "39f23e33-259f-4f13-aa54-f81ff16d2032",
   "metadata": {},
   "source": [
    "**pop and remove methods**"
   ]
  },
  {
   "cell_type": "code",
   "execution_count": 42,
   "id": "cb73ac63-2075-417c-9621-4b17e7154b5b",
   "metadata": {},
   "outputs": [
    {
     "data": {
      "text/plain": [
       "[100, 10, 20, 200, 30, 40, 'Hello', 800]"
      ]
     },
     "execution_count": 42,
     "metadata": {},
     "output_type": "execute_result"
    }
   ],
   "source": [
    "my_list"
   ]
  },
  {
   "cell_type": "code",
   "execution_count": 43,
   "id": "c65f0813-1c1f-43d7-87b2-730c82c39488",
   "metadata": {},
   "outputs": [
    {
     "data": {
      "text/plain": [
       "800"
      ]
     },
     "execution_count": 43,
     "metadata": {},
     "output_type": "execute_result"
    }
   ],
   "source": [
    "# deleting last item from my_list\n",
    "my_list.pop()"
   ]
  },
  {
   "cell_type": "code",
   "execution_count": 44,
   "id": "9d523cf9-55ef-4032-add4-025dbbf58db8",
   "metadata": {},
   "outputs": [
    {
     "data": {
      "text/plain": [
       "[100, 10, 20, 200, 30, 40, 'Hello']"
      ]
     },
     "execution_count": 44,
     "metadata": {},
     "output_type": "execute_result"
    }
   ],
   "source": [
    "my_list"
   ]
  },
  {
   "cell_type": "code",
   "execution_count": 45,
   "id": "1baaa45d-be0e-427e-bd23-d5c4175f3b22",
   "metadata": {},
   "outputs": [],
   "source": [
    "# deleting items using remove"
   ]
  },
  {
   "cell_type": "code",
   "execution_count": 46,
   "id": "a32fd27e-bee7-4bf7-ad1c-608a3ab394db",
   "metadata": {},
   "outputs": [],
   "source": [
    "my_list.remove(\"Hello\")"
   ]
  },
  {
   "cell_type": "code",
   "execution_count": 47,
   "id": "2881552f-347f-45a1-b246-930750294beb",
   "metadata": {},
   "outputs": [
    {
     "data": {
      "text/plain": [
       "[100, 10, 20, 200, 30, 40]"
      ]
     },
     "execution_count": 47,
     "metadata": {},
     "output_type": "execute_result"
    }
   ],
   "source": [
    "my_list"
   ]
  },
  {
   "cell_type": "markdown",
   "id": "f72cd044-d776-4982-a237-b9ce0db92785",
   "metadata": {},
   "source": [
    "**sort and reverse**"
   ]
  },
  {
   "cell_type": "code",
   "execution_count": 48,
   "id": "ec25d0a9-32b6-4e28-8ab9-97507990874b",
   "metadata": {},
   "outputs": [],
   "source": [
    "# reversing the list\n",
    "my_list.reverse()"
   ]
  },
  {
   "cell_type": "code",
   "execution_count": 49,
   "id": "ebd02887-a635-4859-958c-ecc4b2a65b1b",
   "metadata": {},
   "outputs": [
    {
     "data": {
      "text/plain": [
       "[40, 30, 200, 20, 10, 100]"
      ]
     },
     "execution_count": 49,
     "metadata": {},
     "output_type": "execute_result"
    }
   ],
   "source": [
    "my_list"
   ]
  },
  {
   "cell_type": "code",
   "execution_count": 50,
   "id": "e26f1d05-724a-4d76-b531-b5e090cb9e03",
   "metadata": {},
   "outputs": [],
   "source": [
    "my_list.sort()"
   ]
  },
  {
   "cell_type": "code",
   "execution_count": 51,
   "id": "a26b7cdf-ccee-46f6-bc1a-2e514d3b9df1",
   "metadata": {},
   "outputs": [
    {
     "data": {
      "text/plain": [
       "[10, 20, 30, 40, 100, 200]"
      ]
     },
     "execution_count": 51,
     "metadata": {},
     "output_type": "execute_result"
    }
   ],
   "source": [
    "my_list"
   ]
  },
  {
   "cell_type": "code",
   "execution_count": null,
   "id": "ca6e4dfa-edf2-45be-9457-744c22a90d75",
   "metadata": {},
   "outputs": [],
   "source": []
  },
  {
   "cell_type": "code",
   "execution_count": null,
   "id": "10164c3e-e9cb-45a6-a450-7c6392628808",
   "metadata": {},
   "outputs": [],
   "source": []
  }
 ],
 "metadata": {
  "kernelspec": {
   "display_name": "Python 3 (ipykernel)",
   "language": "python",
   "name": "python3"
  },
  "language_info": {
   "codemirror_mode": {
    "name": "ipython",
    "version": 3
   },
   "file_extension": ".py",
   "mimetype": "text/x-python",
   "name": "python",
   "nbconvert_exporter": "python",
   "pygments_lexer": "ipython3",
   "version": "3.10.5"
  }
 },
 "nbformat": 4,
 "nbformat_minor": 5
}
