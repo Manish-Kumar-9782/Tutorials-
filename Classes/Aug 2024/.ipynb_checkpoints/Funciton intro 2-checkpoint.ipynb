{
 "cells": [
  {
   "cell_type": "markdown",
   "id": "44d5f1c1-9241-49f7-9921-a8dddd304332",
   "metadata": {},
   "source": [
    "## Function introduction\n",
    "\n",
    "**syntax**\n",
    "\n",
    "```python\n",
    "def <function_name>(<argument_list>):\n",
    "    # statements\n",
    "```"
   ]
  },
  {
   "cell_type": "code",
   "execution_count": 1,
   "id": "97dde7fa-d37b-4e6a-8a0e-e3ec8b637421",
   "metadata": {},
   "outputs": [],
   "source": [
    "def isAdult(age):\n",
    "\n",
    "    if age >= 18:\n",
    "        return True\n",
    "    else:\n",
    "        return False\n",
    "    "
   ]
  },
  {
   "cell_type": "code",
   "execution_count": 2,
   "id": "c11cf6a1-0721-4572-b5bf-460eca1ae9f8",
   "metadata": {},
   "outputs": [
    {
     "data": {
      "text/plain": [
       "False"
      ]
     },
     "execution_count": 2,
     "metadata": {},
     "output_type": "execute_result"
    }
   ],
   "source": [
    "isAdult(12) # call or run the isAdult function"
   ]
  },
  {
   "cell_type": "code",
   "execution_count": 5,
   "id": "e1b57001-7efc-4eb5-8fb0-e4960e0cc551",
   "metadata": {},
   "outputs": [],
   "source": [
    "def TestAge(age):\n",
    "\n",
    "    if age >= 18:\n",
    "        print(\"Person is adult\")\n",
    "    else:\n",
    "        print(\"Person is minor\")"
   ]
  },
  {
   "cell_type": "code",
   "execution_count": 6,
   "id": "8c3518dc-9755-417b-9d1f-639a49275dae",
   "metadata": {},
   "outputs": [
    {
     "name": "stdout",
     "output_type": "stream",
     "text": [
      "Person is minor\n"
     ]
    }
   ],
   "source": [
    "TestAge(12)"
   ]
  },
  {
   "cell_type": "code",
   "execution_count": 7,
   "id": "9ebf8ac6-0376-47c7-9429-38624340f7e8",
   "metadata": {},
   "outputs": [
    {
     "name": "stdin",
     "output_type": "stream",
     "text": [
      "Enter age 15\n"
     ]
    },
    {
     "name": "stdout",
     "output_type": "stream",
     "text": [
      "Person is minor\n"
     ]
    },
    {
     "name": "stdin",
     "output_type": "stream",
     "text": [
      "Enter age 45\n"
     ]
    },
    {
     "name": "stdout",
     "output_type": "stream",
     "text": [
      "Person is adult\n"
     ]
    },
    {
     "name": "stdin",
     "output_type": "stream",
     "text": [
      "Enter age 56\n"
     ]
    },
    {
     "name": "stdout",
     "output_type": "stream",
     "text": [
      "Person is adult\n"
     ]
    },
    {
     "name": "stdin",
     "output_type": "stream",
     "text": [
      "Enter age 23\n"
     ]
    },
    {
     "name": "stdout",
     "output_type": "stream",
     "text": [
      "Person is adult\n"
     ]
    },
    {
     "name": "stdin",
     "output_type": "stream",
     "text": [
      "Enter age 14\n"
     ]
    },
    {
     "name": "stdout",
     "output_type": "stream",
     "text": [
      "Person is minor\n"
     ]
    }
   ],
   "source": [
    "for i in range(5):\n",
    "    age = input(\"Enter age\")\n",
    "    age = int(age)\n",
    "\n",
    "    TestAge(age)"
   ]
  },
  {
   "cell_type": "markdown",
   "id": "19c0c22a-cf5d-45f9-967f-923b6e86a5d7",
   "metadata": {},
   "source": [
    "**Email Splitter**\n",
    "\n",
    "create a function which takes email input from user and spilt the email text into username and domains. store these usernames and domains into separate list"
   ]
  },
  {
   "cell_type": "markdown",
   "id": "004a6f41-b4eb-4f0e-960d-18573a4161b5",
   "metadata": {},
   "source": [
    "**text split example**"
   ]
  },
  {
   "cell_type": "code",
   "execution_count": 3,
   "id": "70a092fd-013d-4a92-88f8-06d1c878ba4f",
   "metadata": {},
   "outputs": [],
   "source": [
    "text= \"fazri_superman_009@bigboss.com\""
   ]
  },
  {
   "cell_type": "code",
   "execution_count": 6,
   "id": "941802f5-1928-438d-9baf-007869484564",
   "metadata": {},
   "outputs": [
    {
     "data": {
      "text/plain": [
       "['fazri_superman_009', 'bigboss.com']"
      ]
     },
     "execution_count": 6,
     "metadata": {},
     "output_type": "execute_result"
    }
   ],
   "source": [
    "text.split(\"@\")"
   ]
  },
  {
   "cell_type": "code",
   "execution_count": 7,
   "id": "1d2518e1-76a7-4166-aee5-f4cfe686b39a",
   "metadata": {},
   "outputs": [],
   "source": [
    "text_spllited = text.split(\"@\")"
   ]
  },
  {
   "cell_type": "code",
   "execution_count": 8,
   "id": "a2926361-7e17-47c0-9ce5-d15b44601fb7",
   "metadata": {},
   "outputs": [
    {
     "data": {
      "text/plain": [
       "['fazri_superman_009', 'bigboss.com']"
      ]
     },
     "execution_count": 8,
     "metadata": {},
     "output_type": "execute_result"
    }
   ],
   "source": [
    "text_spllited"
   ]
  },
  {
   "cell_type": "code",
   "execution_count": 9,
   "id": "4880136b-dc56-4569-b75f-5e362b27c8bd",
   "metadata": {},
   "outputs": [
    {
     "data": {
      "text/plain": [
       "'fazri_superman_009'"
      ]
     },
     "execution_count": 9,
     "metadata": {},
     "output_type": "execute_result"
    }
   ],
   "source": [
    "# accessing list values returned from text.split method\n",
    "text_spllited[0]"
   ]
  },
  {
   "cell_type": "code",
   "execution_count": 10,
   "id": "cab7ccfb-be29-4ca4-8b16-bc512fc9a017",
   "metadata": {},
   "outputs": [
    {
     "data": {
      "text/plain": [
       "'bigboss.com'"
      ]
     },
     "execution_count": 10,
     "metadata": {},
     "output_type": "execute_result"
    }
   ],
   "source": [
    "text_spllited[1]"
   ]
  },
  {
   "cell_type": "code",
   "execution_count": 11,
   "id": "a3c503d3-6efd-41de-8757-24744e836754",
   "metadata": {},
   "outputs": [
    {
     "ename": "IndexError",
     "evalue": "list index out of range",
     "output_type": "error",
     "traceback": [
      "\u001b[1;31m---------------------------------------------------------------------------\u001b[0m",
      "\u001b[1;31mIndexError\u001b[0m                                Traceback (most recent call last)",
      "Cell \u001b[1;32mIn [11], line 1\u001b[0m\n\u001b[1;32m----> 1\u001b[0m \u001b[43mtext_spllited\u001b[49m\u001b[43m[\u001b[49m\u001b[38;5;241;43m2\u001b[39;49m\u001b[43m]\u001b[49m\n",
      "\u001b[1;31mIndexError\u001b[0m: list index out of range"
     ]
    }
   ],
   "source": [
    "text_spllited[2]"
   ]
  },
  {
   "cell_type": "code",
   "execution_count": 12,
   "id": "61cc71c7-5a03-441d-aa92-30406fdf1e57",
   "metadata": {},
   "outputs": [],
   "source": [
    "user_name = text_spllited[0]\n",
    "domain = text_spllited[1]"
   ]
  },
  {
   "cell_type": "code",
   "execution_count": 13,
   "id": "6b135921-ce28-4c35-b7c3-2ae94d72fd77",
   "metadata": {},
   "outputs": [
    {
     "data": {
      "text/plain": [
       "('fazri_superman_009', 'bigboss.com')"
      ]
     },
     "execution_count": 13,
     "metadata": {},
     "output_type": "execute_result"
    }
   ],
   "source": [
    "user_name, domain"
   ]
  },
  {
   "cell_type": "code",
   "execution_count": 15,
   "id": "08c0080a-4a9f-4b2d-b457-810771569edf",
   "metadata": {},
   "outputs": [],
   "source": [
    "def emailSplitter(n):\n",
    "    # n : number of email we need to split\n",
    "    emails = [] # an empty list to store only emails\n",
    "    user_names = [] # an empty list to store only usernames\n",
    "    domains = [] # an empty list to store only domains.\n",
    "    \n",
    "    for i in range(n):\n",
    "        email = input(\"Enter email: \")\n",
    "        emails.append(email)\n",
    "\n",
    "        # splitting email\n",
    "        email_splitted = email.split(\"@\")\n",
    "        user_name = email_splitted[0]  # accessing username\n",
    "        domain = email_splitted[1] # accessing domain name\n",
    "\n",
    "        # adding username and domain to user_names and domains list\n",
    "        user_names.append(user_name)\n",
    "        domains.append(domain)\n",
    "    \n",
    "    return emails, user_names, domains"
   ]
  },
  {
   "cell_type": "code",
   "execution_count": 17,
   "id": "69cde9f1-f699-48a4-ad88-fc9b69e98be1",
   "metadata": {},
   "outputs": [
    {
     "name": "stdin",
     "output_type": "stream",
     "text": [
      "Enter email:  ironman123@gmail.com\n",
      "Enter email:  sipderman008@spidy.com\n"
     ]
    },
    {
     "data": {
      "text/plain": [
       "(['ironman123@gmail.com', 'sipderman008@spidy.com'],\n",
       " ['ironman123', 'sipderman008'],\n",
       " ['gmail.com', 'spidy.com'])"
      ]
     },
     "execution_count": 17,
     "metadata": {},
     "output_type": "execute_result"
    }
   ],
   "source": [
    "emailSplitter(2)"
   ]
  },
  {
   "cell_type": "code",
   "execution_count": null,
   "id": "d6d973c0-4e07-46c6-8cc9-a8d482f0301d",
   "metadata": {},
   "outputs": [],
   "source": []
  }
 ],
 "metadata": {
  "kernelspec": {
   "display_name": "Python 3 (ipykernel)",
   "language": "python",
   "name": "python3"
  },
  "language_info": {
   "codemirror_mode": {
    "name": "ipython",
    "version": 3
   },
   "file_extension": ".py",
   "mimetype": "text/x-python",
   "name": "python",
   "nbconvert_exporter": "python",
   "pygments_lexer": "ipython3",
   "version": "3.10.5"
  }
 },
 "nbformat": 4,
 "nbformat_minor": 5
}
