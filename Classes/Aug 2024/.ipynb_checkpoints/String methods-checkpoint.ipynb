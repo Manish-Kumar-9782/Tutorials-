{
 "cells": [
  {
   "cell_type": "markdown",
   "id": "fbfe0a73-265b-430a-912f-b13111c20022",
   "metadata": {},
   "source": [
    "## String Methods\n",
    "\n",
    "1. capitalize, upper, lower, title\n",
    "2. center, ljust, rjust\n",
    "3. count(...)\n",
    "4. endswith, startswith\n",
    "5. find, rfind\n",
    "6. format\n",
    "7. index, rindex\n",
    "8. join\n",
    "9. split , rsplit\n",
    "10. splitlines\n",
    "11. strip, lstrip\n",
    "12. removesuffix, removeprefix"
   ]
  },
  {
   "cell_type": "code",
   "execution_count": null,
   "id": "f41bec00-42be-4877-859f-d25efc0819c8",
   "metadata": {},
   "outputs": [],
   "source": []
  }
 ],
 "metadata": {
  "kernelspec": {
   "display_name": "Python 3 (ipykernel)",
   "language": "python",
   "name": "python3"
  },
  "language_info": {
   "codemirror_mode": {
    "name": "ipython",
    "version": 3
   },
   "file_extension": ".py",
   "mimetype": "text/x-python",
   "name": "python",
   "nbconvert_exporter": "python",
   "pygments_lexer": "ipython3",
   "version": "3.10.5"
  }
 },
 "nbformat": 4,
 "nbformat_minor": 5
}
