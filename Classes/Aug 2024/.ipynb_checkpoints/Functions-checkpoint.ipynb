{
 "cells": [
  {
   "cell_type": "markdown",
   "id": "2371cc07-aa1c-4429-8fb0-65cf13a6f5fd",
   "metadata": {},
   "source": [
    "# Function Intro\n",
    "\n",
    "```python\n",
    "def <function_name>(<parameters>):\n",
    "    \n",
    "    # statements\n",
    "\n",
    "```"
   ]
  },
  {
   "cell_type": "code",
   "execution_count": 15,
   "id": "0c4d3fc0-6743-4184-a229-81fd4ffc86fb",
   "metadata": {},
   "outputs": [],
   "source": [
    "# add function without checking the type\n",
    "def add(a,b):\n",
    "    print(\"a and b addition: \", a+b)"
   ]
  },
  {
   "cell_type": "code",
   "execution_count": 7,
   "id": "9c27be1c-d01a-47d1-b98b-2166fdef2978",
   "metadata": {},
   "outputs": [
    {
     "name": "stdout",
     "output_type": "stream",
     "text": [
      "a and b addition:  30\n"
     ]
    }
   ],
   "source": [
    "# adding with integer\n",
    "add(10,20)"
   ]
  },
  {
   "cell_type": "code",
   "execution_count": 9,
   "id": "dcad7ad0-8503-4f88-9e36-0065c1edf4c5",
   "metadata": {},
   "outputs": [
    {
     "ename": "TypeError",
     "evalue": "unsupported operand type(s) for +: 'int' and 'str'",
     "output_type": "error",
     "traceback": [
      "\u001b[1;31m---------------------------------------------------------------------------\u001b[0m",
      "\u001b[1;31mTypeError\u001b[0m                                 Traceback (most recent call last)",
      "Cell \u001b[1;32mIn [9], line 2\u001b[0m\n\u001b[0;32m      1\u001b[0m \u001b[38;5;66;03m# adding with int + str\u001b[39;00m\n\u001b[1;32m----> 2\u001b[0m \u001b[43madd\u001b[49m\u001b[43m(\u001b[49m\u001b[38;5;241;43m10\u001b[39;49m\u001b[43m,\u001b[49m\u001b[38;5;124;43m'\u001b[39;49m\u001b[38;5;124;43m20\u001b[39;49m\u001b[38;5;124;43m'\u001b[39;49m\u001b[43m)\u001b[49m\n",
      "Cell \u001b[1;32mIn [4], line 3\u001b[0m, in \u001b[0;36madd\u001b[1;34m(a, b)\u001b[0m\n\u001b[0;32m      2\u001b[0m \u001b[38;5;28;01mdef\u001b[39;00m \u001b[38;5;21madd\u001b[39m(a,b):\n\u001b[1;32m----> 3\u001b[0m     \u001b[38;5;28mprint\u001b[39m(\u001b[38;5;124m\"\u001b[39m\u001b[38;5;124ma and b addition: \u001b[39m\u001b[38;5;124m\"\u001b[39m, \u001b[43ma\u001b[49m\u001b[38;5;241;43m+\u001b[39;49m\u001b[43mb\u001b[49m)\n",
      "\u001b[1;31mTypeError\u001b[0m: unsupported operand type(s) for +: 'int' and 'str'"
     ]
    }
   ],
   "source": [
    "# adding with int + str\n",
    "add(10,'20')"
   ]
  },
  {
   "cell_type": "code",
   "execution_count": 10,
   "id": "6001e4ec-5b80-45c2-b3ba-06e97774ba20",
   "metadata": {},
   "outputs": [
    {
     "name": "stdout",
     "output_type": "stream",
     "text": [
      "a and b addition:  [1, 2, 3, 4, 5, 6]\n"
     ]
    }
   ],
   "source": [
    "# adding with list\n",
    "x = [1,2,3]\n",
    "y = [4,5,6]\n",
    "add(x,y)"
   ]
  },
  {
   "cell_type": "markdown",
   "id": "d4169eff-dfe5-4d45-8d17-9cdfb94b3f5a",
   "metadata": {},
   "source": [
    "Note1: if the type of a and b is mismatched then we will have type error.\n",
    "\n",
    "Note2: if object does not support the addition operation will have typeError. "
   ]
  },
  {
   "cell_type": "code",
   "execution_count": 14,
   "id": "7918b1bf-50fb-443a-84da-4a2a7086c271",
   "metadata": {},
   "outputs": [],
   "source": [
    "def add2(a,b):\n",
    "    # add function with checking the type\n",
    "    if type(a) != type(b):\n",
    "        print(\"Type Missmatch\")\n",
    "        return\n",
    "        \n",
    "    print(\"a and b addition: \", a+b)"
   ]
  },
  {
   "cell_type": "code",
   "execution_count": 11,
   "id": "1f14a24b-122b-4bb0-95bd-a9a3c9c55906",
   "metadata": {},
   "outputs": [],
   "source": [
    "a = 10\n",
    "b = '20'"
   ]
  },
  {
   "cell_type": "code",
   "execution_count": 12,
   "id": "b84ed352-a6f0-4174-82c3-1da64431e797",
   "metadata": {},
   "outputs": [
    {
     "data": {
      "text/plain": [
       "False"
      ]
     },
     "execution_count": 12,
     "metadata": {},
     "output_type": "execute_result"
    }
   ],
   "source": [
    "# Now testing our type\n",
    "type(a) == type(b)"
   ]
  },
  {
   "cell_type": "code",
   "execution_count": 2,
   "id": "d360dfe4-1f0c-4983-87ab-b2b80e2091bf",
   "metadata": {},
   "outputs": [
    {
     "name": "stdout",
     "output_type": "stream",
     "text": [
      "a and b addition:  3\n"
     ]
    }
   ],
   "source": [
    "add(1,2)"
   ]
  },
  {
   "cell_type": "code",
   "execution_count": 3,
   "id": "3eb5ba58-2891-4ba6-ba9b-6090caf3113d",
   "metadata": {},
   "outputs": [
    {
     "ename": "TypeError",
     "evalue": "unsupported operand type(s) for +: 'int' and 'str'",
     "output_type": "error",
     "traceback": [
      "\u001b[1;31m---------------------------------------------------------------------------\u001b[0m",
      "\u001b[1;31mTypeError\u001b[0m                                 Traceback (most recent call last)",
      "Cell \u001b[1;32mIn [3], line 1\u001b[0m\n\u001b[1;32m----> 1\u001b[0m \u001b[43madd\u001b[49m\u001b[43m(\u001b[49m\u001b[38;5;241;43m4\u001b[39;49m\u001b[43m,\u001b[49m\u001b[38;5;124;43m\"\u001b[39;49m\u001b[38;5;124;43m5\u001b[39;49m\u001b[38;5;124;43m\"\u001b[39;49m\u001b[43m)\u001b[49m\n",
      "Cell \u001b[1;32mIn [1], line 2\u001b[0m, in \u001b[0;36madd\u001b[1;34m(a, b)\u001b[0m\n\u001b[0;32m      1\u001b[0m \u001b[38;5;28;01mdef\u001b[39;00m \u001b[38;5;21madd\u001b[39m(a,b):\n\u001b[1;32m----> 2\u001b[0m     \u001b[38;5;28mprint\u001b[39m(\u001b[38;5;124m\"\u001b[39m\u001b[38;5;124ma and b addition: \u001b[39m\u001b[38;5;124m\"\u001b[39m, \u001b[43ma\u001b[49m\u001b[38;5;241;43m+\u001b[39;49m\u001b[43mb\u001b[49m)\n",
      "\u001b[1;31mTypeError\u001b[0m: unsupported operand type(s) for +: 'int' and 'str'"
     ]
    }
   ],
   "source": [
    "add(4,\"5\")"
   ]
  },
  {
   "cell_type": "code",
   "execution_count": 16,
   "id": "3b739d7e-b37b-418b-a042-be829e42b5ff",
   "metadata": {},
   "outputs": [
    {
     "name": "stdout",
     "output_type": "stream",
     "text": [
      "Type Missmatch\n"
     ]
    }
   ],
   "source": [
    "# testing our new add function with differnt data types.\n",
    "add2(10,\"20\")"
   ]
  },
  {
   "cell_type": "code",
   "execution_count": 17,
   "id": "929cb96a-9fbe-452e-9053-8ba4be7a5157",
   "metadata": {},
   "outputs": [
    {
     "ename": "TypeError",
     "evalue": "unsupported operand type(s) for +: 'int' and 'str'",
     "output_type": "error",
     "traceback": [
      "\u001b[1;31m---------------------------------------------------------------------------\u001b[0m",
      "\u001b[1;31mTypeError\u001b[0m                                 Traceback (most recent call last)",
      "Cell \u001b[1;32mIn [17], line 1\u001b[0m\n\u001b[1;32m----> 1\u001b[0m \u001b[43madd\u001b[49m\u001b[43m(\u001b[49m\u001b[38;5;241;43m10\u001b[39;49m\u001b[43m,\u001b[49m\u001b[38;5;124;43m\"\u001b[39;49m\u001b[38;5;124;43m20\u001b[39;49m\u001b[38;5;124;43m\"\u001b[39;49m\u001b[43m)\u001b[49m\n",
      "Cell \u001b[1;32mIn [15], line 3\u001b[0m, in \u001b[0;36madd\u001b[1;34m(a, b)\u001b[0m\n\u001b[0;32m      2\u001b[0m \u001b[38;5;28;01mdef\u001b[39;00m \u001b[38;5;21madd\u001b[39m(a,b):\n\u001b[1;32m----> 3\u001b[0m     \u001b[38;5;28mprint\u001b[39m(\u001b[38;5;124m\"\u001b[39m\u001b[38;5;124ma and b addition: \u001b[39m\u001b[38;5;124m\"\u001b[39m, \u001b[43ma\u001b[49m\u001b[38;5;241;43m+\u001b[39;49m\u001b[43mb\u001b[49m)\n",
      "\u001b[1;31mTypeError\u001b[0m: unsupported operand type(s) for +: 'int' and 'str'"
     ]
    }
   ],
   "source": [
    "add(10,\"20\")"
   ]
  },
  {
   "cell_type": "code",
   "execution_count": 6,
   "id": "9af6496a-a244-4335-8bfc-96818061a4bf",
   "metadata": {},
   "outputs": [
    {
     "ename": "TypeError",
     "evalue": "'tuple' object does not support item assignment",
     "output_type": "error",
     "traceback": [
      "\u001b[1;31m---------------------------------------------------------------------------\u001b[0m",
      "\u001b[1;31mTypeError\u001b[0m                                 Traceback (most recent call last)",
      "Cell \u001b[1;32mIn [6], line 1\u001b[0m\n\u001b[1;32m----> 1\u001b[0m \u001b[43ma\u001b[49m\u001b[43m[\u001b[49m\u001b[38;5;241;43m2\u001b[39;49m\u001b[43m]\u001b[49m \u001b[38;5;241m=\u001b[39m \u001b[38;5;241m40\u001b[39m\n",
      "\u001b[1;31mTypeError\u001b[0m: 'tuple' object does not support item assignment"
     ]
    }
   ],
   "source": [
    "a[2] = 40"
   ]
  },
  {
   "cell_type": "markdown",
   "id": "120d2f56-6472-4652-b59d-19db4d7b4194",
   "metadata": {},
   "source": [
    "**Restricting the Value Type**"
   ]
  },
  {
   "cell_type": "code",
   "execution_count": 28,
   "id": "55a3e2a5-3e66-45dc-8d47-07a222d401fa",
   "metadata": {},
   "outputs": [],
   "source": [
    "def add3(a:int,b:int):\n",
    "    # add function with checking the type\n",
    "    \"\"\"\n",
    "    Adds two integers and return its value as integer.\n",
    "    a:int :: a must be integer value.\n",
    "    b:int :: b must be integer value.\n",
    "\n",
    "    return: returns int if type is matched (a and b) else return None.\n",
    "    \"\"\"\n",
    "\n",
    "    # Type testing condition\n",
    "    if type(a) != int or type(b) != int:\n",
    "        print(\"arguments a and b must be type of int.\")\n",
    "        return\n",
    "        \n",
    "    return a+b"
   ]
  },
  {
   "cell_type": "code",
   "execution_count": 30,
   "id": "10bbea5c-96aa-409a-a6e7-d845d3058372",
   "metadata": {},
   "outputs": [
    {
     "name": "stdout",
     "output_type": "stream",
     "text": [
      "arguments a and b must be type of int.\n"
     ]
    }
   ],
   "source": [
    "add3(19,\"20\")"
   ]
  },
  {
   "cell_type": "markdown",
   "id": "717a537e-faa0-48c1-9453-7a2dec1df0b6",
   "metadata": {},
   "source": [
    "**Prime Number Testing function**"
   ]
  },
  {
   "cell_type": "code",
   "execution_count": 32,
   "id": "2644b52d-ed29-4509-8960-accdc195bc6a",
   "metadata": {},
   "outputs": [],
   "source": [
    "def isPrime(n:int):\n",
    "    \"\"\"\n",
    "    Tests that given n integer is prime number or not.\n",
    "\n",
    "    n:int :: argument n must be type of integer and greater than 1.\n",
    "\n",
    "    return: boolean, True is number is prime else False.\n",
    "    \"\"\"\n",
    "    # Validating type:  input number testing\n",
    "    if type(n) != int:\n",
    "        print(\"TypeError: can't perform prime number testing, n must be type of int\")\n",
    "        return None\n",
    "    \n",
    "    # Validating value: input value greater than 1.\n",
    "    if n <=1:\n",
    "        print(\"ValueError: argument n must be greater than 1.\")\n",
    "        return None\n",
    "\n",
    "    for i in range(2,n):\n",
    "        if n%i == 0:\n",
    "            # if any number in b/w the [2,n-1] gives remainder 0\n",
    "            # it means our number n is not prime number\n",
    "            # hence return False.\n",
    "            return False\n",
    "\n",
    "    return True\n",
    "    "
   ]
  },
  {
   "cell_type": "code",
   "execution_count": 34,
   "id": "209095f6-124e-4dc1-b973-409a131d69c7",
   "metadata": {},
   "outputs": [
    {
     "data": {
      "text/plain": [
       "False"
      ]
     },
     "execution_count": 34,
     "metadata": {},
     "output_type": "execute_result"
    }
   ],
   "source": [
    "isPrime(10)"
   ]
  },
  {
   "cell_type": "code",
   "execution_count": 37,
   "id": "4f06f416-29b1-46a1-86ec-d4084bd2c7f3",
   "metadata": {},
   "outputs": [
    {
     "name": "stdout",
     "output_type": "stream",
     "text": [
      "17 is prime number\n"
     ]
    }
   ],
   "source": [
    "n = 17\n",
    "if isPrime(n):\n",
    "    print(f\"{n} is prime number\")\n",
    "else:\n",
    "    print(f\"{n} is not prime number\")"
   ]
  },
  {
   "cell_type": "code",
   "execution_count": null,
   "id": "5eca9e5e-594e-4edf-8b63-8c60740ff549",
   "metadata": {},
   "outputs": [],
   "source": []
  }
 ],
 "metadata": {
  "kernelspec": {
   "display_name": "Python 3 (ipykernel)",
   "language": "python",
   "name": "python3"
  },
  "language_info": {
   "codemirror_mode": {
    "name": "ipython",
    "version": 3
   },
   "file_extension": ".py",
   "mimetype": "text/x-python",
   "name": "python",
   "nbconvert_exporter": "python",
   "pygments_lexer": "ipython3",
   "version": "3.10.5"
  }
 },
 "nbformat": 4,
 "nbformat_minor": 5
}
