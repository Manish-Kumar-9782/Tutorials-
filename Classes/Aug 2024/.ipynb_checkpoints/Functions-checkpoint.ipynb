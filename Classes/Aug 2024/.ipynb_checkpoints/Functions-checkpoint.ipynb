{
 "cells": [
  {
   "cell_type": "markdown",
   "id": "2371cc07-aa1c-4429-8fb0-65cf13a6f5fd",
   "metadata": {},
   "source": [
    "# Function Intro\n",
    "\n",
    "```python\n",
    "def <function_name>(<parameters>):\n",
    "    \n",
    "    # statements\n",
    "\n",
    "```"
   ]
  },
  {
   "cell_type": "code",
   "execution_count": 15,
   "id": "0c4d3fc0-6743-4184-a229-81fd4ffc86fb",
   "metadata": {},
   "outputs": [],
   "source": [
    "# add function without checking the type\n",
    "def add(a,b):\n",
    "    print(\"a and b addition: \", a+b)"
   ]
  },
  {
   "cell_type": "code",
   "execution_count": 7,
   "id": "9c27be1c-d01a-47d1-b98b-2166fdef2978",
   "metadata": {},
   "outputs": [
    {
     "name": "stdout",
     "output_type": "stream",
     "text": [
      "a and b addition:  30\n"
     ]
    }
   ],
   "source": [
    "# adding with integer\n",
    "add(10,20)"
   ]
  },
  {
   "cell_type": "code",
   "execution_count": 9,
   "id": "dcad7ad0-8503-4f88-9e36-0065c1edf4c5",
   "metadata": {},
   "outputs": [
    {
     "ename": "TypeError",
     "evalue": "unsupported operand type(s) for +: 'int' and 'str'",
     "output_type": "error",
     "traceback": [
      "\u001b[1;31m---------------------------------------------------------------------------\u001b[0m",
      "\u001b[1;31mTypeError\u001b[0m                                 Traceback (most recent call last)",
      "Cell \u001b[1;32mIn [9], line 2\u001b[0m\n\u001b[0;32m      1\u001b[0m \u001b[38;5;66;03m# adding with int + str\u001b[39;00m\n\u001b[1;32m----> 2\u001b[0m \u001b[43madd\u001b[49m\u001b[43m(\u001b[49m\u001b[38;5;241;43m10\u001b[39;49m\u001b[43m,\u001b[49m\u001b[38;5;124;43m'\u001b[39;49m\u001b[38;5;124;43m20\u001b[39;49m\u001b[38;5;124;43m'\u001b[39;49m\u001b[43m)\u001b[49m\n",
      "Cell \u001b[1;32mIn [4], line 3\u001b[0m, in \u001b[0;36madd\u001b[1;34m(a, b)\u001b[0m\n\u001b[0;32m      2\u001b[0m \u001b[38;5;28;01mdef\u001b[39;00m \u001b[38;5;21madd\u001b[39m(a,b):\n\u001b[1;32m----> 3\u001b[0m     \u001b[38;5;28mprint\u001b[39m(\u001b[38;5;124m\"\u001b[39m\u001b[38;5;124ma and b addition: \u001b[39m\u001b[38;5;124m\"\u001b[39m, \u001b[43ma\u001b[49m\u001b[38;5;241;43m+\u001b[39;49m\u001b[43mb\u001b[49m)\n",
      "\u001b[1;31mTypeError\u001b[0m: unsupported operand type(s) for +: 'int' and 'str'"
     ]
    }
   ],
   "source": [
    "# adding with int + str\n",
    "add(10,'20')"
   ]
  },
  {
   "cell_type": "code",
   "execution_count": 10,
   "id": "6001e4ec-5b80-45c2-b3ba-06e97774ba20",
   "metadata": {},
   "outputs": [
    {
     "name": "stdout",
     "output_type": "stream",
     "text": [
      "a and b addition:  [1, 2, 3, 4, 5, 6]\n"
     ]
    }
   ],
   "source": [
    "# adding with list\n",
    "x = [1,2,3]\n",
    "y = [4,5,6]\n",
    "add(x,y)"
   ]
  },
  {
   "cell_type": "markdown",
   "id": "d4169eff-dfe5-4d45-8d17-9cdfb94b3f5a",
   "metadata": {},
   "source": [
    "Note1: if the type of a and b is mismatched then we will have type error.\n",
    "\n",
    "Note2: if object does not support the addition operation will have typeError. "
   ]
  },
  {
   "cell_type": "code",
   "execution_count": 14,
   "id": "7918b1bf-50fb-443a-84da-4a2a7086c271",
   "metadata": {},
   "outputs": [],
   "source": [
    "def add2(a,b):\n",
    "    # add function with checking the type\n",
    "    if type(a) != type(b):\n",
    "        print(\"Type Missmatch\")\n",
    "        return\n",
    "        \n",
    "    print(\"a and b addition: \", a+b)"
   ]
  },
  {
   "cell_type": "code",
   "execution_count": 11,
   "id": "1f14a24b-122b-4bb0-95bd-a9a3c9c55906",
   "metadata": {},
   "outputs": [],
   "source": [
    "a = 10\n",
    "b = '20'"
   ]
  },
  {
   "cell_type": "code",
   "execution_count": 12,
   "id": "b84ed352-a6f0-4174-82c3-1da64431e797",
   "metadata": {},
   "outputs": [
    {
     "data": {
      "text/plain": [
       "False"
      ]
     },
     "execution_count": 12,
     "metadata": {},
     "output_type": "execute_result"
    }
   ],
   "source": [
    "# Now testing our type\n",
    "type(a) == type(b)"
   ]
  },
  {
   "cell_type": "code",
   "execution_count": 2,
   "id": "d360dfe4-1f0c-4983-87ab-b2b80e2091bf",
   "metadata": {},
   "outputs": [
    {
     "name": "stdout",
     "output_type": "stream",
     "text": [
      "a and b addition:  3\n"
     ]
    }
   ],
   "source": [
    "add(1,2)"
   ]
  },
  {
   "cell_type": "code",
   "execution_count": 3,
   "id": "3eb5ba58-2891-4ba6-ba9b-6090caf3113d",
   "metadata": {},
   "outputs": [
    {
     "ename": "TypeError",
     "evalue": "unsupported operand type(s) for +: 'int' and 'str'",
     "output_type": "error",
     "traceback": [
      "\u001b[1;31m---------------------------------------------------------------------------\u001b[0m",
      "\u001b[1;31mTypeError\u001b[0m                                 Traceback (most recent call last)",
      "Cell \u001b[1;32mIn [3], line 1\u001b[0m\n\u001b[1;32m----> 1\u001b[0m \u001b[43madd\u001b[49m\u001b[43m(\u001b[49m\u001b[38;5;241;43m4\u001b[39;49m\u001b[43m,\u001b[49m\u001b[38;5;124;43m\"\u001b[39;49m\u001b[38;5;124;43m5\u001b[39;49m\u001b[38;5;124;43m\"\u001b[39;49m\u001b[43m)\u001b[49m\n",
      "Cell \u001b[1;32mIn [1], line 2\u001b[0m, in \u001b[0;36madd\u001b[1;34m(a, b)\u001b[0m\n\u001b[0;32m      1\u001b[0m \u001b[38;5;28;01mdef\u001b[39;00m \u001b[38;5;21madd\u001b[39m(a,b):\n\u001b[1;32m----> 2\u001b[0m     \u001b[38;5;28mprint\u001b[39m(\u001b[38;5;124m\"\u001b[39m\u001b[38;5;124ma and b addition: \u001b[39m\u001b[38;5;124m\"\u001b[39m, \u001b[43ma\u001b[49m\u001b[38;5;241;43m+\u001b[39;49m\u001b[43mb\u001b[49m)\n",
      "\u001b[1;31mTypeError\u001b[0m: unsupported operand type(s) for +: 'int' and 'str'"
     ]
    }
   ],
   "source": [
    "add(4,\"5\")"
   ]
  },
  {
   "cell_type": "code",
   "execution_count": 16,
   "id": "3b739d7e-b37b-418b-a042-be829e42b5ff",
   "metadata": {},
   "outputs": [
    {
     "name": "stdout",
     "output_type": "stream",
     "text": [
      "Type Missmatch\n"
     ]
    }
   ],
   "source": [
    "# testing our new add function with differnt data types.\n",
    "add2(10,\"20\")"
   ]
  },
  {
   "cell_type": "code",
   "execution_count": 17,
   "id": "929cb96a-9fbe-452e-9053-8ba4be7a5157",
   "metadata": {},
   "outputs": [
    {
     "ename": "TypeError",
     "evalue": "unsupported operand type(s) for +: 'int' and 'str'",
     "output_type": "error",
     "traceback": [
      "\u001b[1;31m---------------------------------------------------------------------------\u001b[0m",
      "\u001b[1;31mTypeError\u001b[0m                                 Traceback (most recent call last)",
      "Cell \u001b[1;32mIn [17], line 1\u001b[0m\n\u001b[1;32m----> 1\u001b[0m \u001b[43madd\u001b[49m\u001b[43m(\u001b[49m\u001b[38;5;241;43m10\u001b[39;49m\u001b[43m,\u001b[49m\u001b[38;5;124;43m\"\u001b[39;49m\u001b[38;5;124;43m20\u001b[39;49m\u001b[38;5;124;43m\"\u001b[39;49m\u001b[43m)\u001b[49m\n",
      "Cell \u001b[1;32mIn [15], line 3\u001b[0m, in \u001b[0;36madd\u001b[1;34m(a, b)\u001b[0m\n\u001b[0;32m      2\u001b[0m \u001b[38;5;28;01mdef\u001b[39;00m \u001b[38;5;21madd\u001b[39m(a,b):\n\u001b[1;32m----> 3\u001b[0m     \u001b[38;5;28mprint\u001b[39m(\u001b[38;5;124m\"\u001b[39m\u001b[38;5;124ma and b addition: \u001b[39m\u001b[38;5;124m\"\u001b[39m, \u001b[43ma\u001b[49m\u001b[38;5;241;43m+\u001b[39;49m\u001b[43mb\u001b[49m)\n",
      "\u001b[1;31mTypeError\u001b[0m: unsupported operand type(s) for +: 'int' and 'str'"
     ]
    }
   ],
   "source": [
    "add(10,\"20\")"
   ]
  },
  {
   "cell_type": "code",
   "execution_count": 6,
   "id": "9af6496a-a244-4335-8bfc-96818061a4bf",
   "metadata": {},
   "outputs": [
    {
     "ename": "TypeError",
     "evalue": "'tuple' object does not support item assignment",
     "output_type": "error",
     "traceback": [
      "\u001b[1;31m---------------------------------------------------------------------------\u001b[0m",
      "\u001b[1;31mTypeError\u001b[0m                                 Traceback (most recent call last)",
      "Cell \u001b[1;32mIn [6], line 1\u001b[0m\n\u001b[1;32m----> 1\u001b[0m \u001b[43ma\u001b[49m\u001b[43m[\u001b[49m\u001b[38;5;241;43m2\u001b[39;49m\u001b[43m]\u001b[49m \u001b[38;5;241m=\u001b[39m \u001b[38;5;241m40\u001b[39m\n",
      "\u001b[1;31mTypeError\u001b[0m: 'tuple' object does not support item assignment"
     ]
    }
   ],
   "source": [
    "a[2] = 40"
   ]
  },
  {
   "cell_type": "markdown",
   "id": "120d2f56-6472-4652-b59d-19db4d7b4194",
   "metadata": {},
   "source": [
    "**Restricting the Value Type**"
   ]
  },
  {
   "cell_type": "code",
   "execution_count": 28,
   "id": "55a3e2a5-3e66-45dc-8d47-07a222d401fa",
   "metadata": {},
   "outputs": [],
   "source": [
    "def add3(a:int,b:int):\n",
    "    # add function with checking the type\n",
    "    \"\"\"\n",
    "    Adds two integers and return its value as integer.\n",
    "    a:int :: a must be integer value.\n",
    "    b:int :: b must be integer value.\n",
    "\n",
    "    return: returns int if type is matched (a and b) else return None.\n",
    "    \"\"\"\n",
    "\n",
    "    # Type testing condition\n",
    "    if type(a) != int or type(b) != int:\n",
    "        print(\"arguments a and b must be type of int.\")\n",
    "        return\n",
    "        \n",
    "    return a+b"
   ]
  },
  {
   "cell_type": "code",
   "execution_count": 30,
   "id": "10bbea5c-96aa-409a-a6e7-d845d3058372",
   "metadata": {},
   "outputs": [
    {
     "name": "stdout",
     "output_type": "stream",
     "text": [
      "arguments a and b must be type of int.\n"
     ]
    }
   ],
   "source": [
    "add3(19,\"20\")"
   ]
  },
  {
   "cell_type": "markdown",
   "id": "717a537e-faa0-48c1-9453-7a2dec1df0b6",
   "metadata": {},
   "source": [
    "**Prime Number Testing function**"
   ]
  },
  {
   "cell_type": "code",
   "execution_count": 1,
   "id": "2644b52d-ed29-4509-8960-accdc195bc6a",
   "metadata": {},
   "outputs": [],
   "source": [
    "def isPrime(n:int):\n",
    "    \"\"\"\n",
    "    Tests that given n integer is prime number or not.\n",
    "\n",
    "    n:int :: argument n must be type of integer and greater than 1.\n",
    "\n",
    "    return: boolean, True is number is prime else False.\n",
    "    \"\"\"\n",
    "    # Validating type:  input number testing\n",
    "    if type(n) != int:\n",
    "        print(\"TypeError: can't perform prime number testing, n must be type of int\")\n",
    "        return None\n",
    "    \n",
    "    # Validating value: input value greater than 1.\n",
    "    if n <=1:\n",
    "        print(\"ValueError: argument n must be greater than 1.\")\n",
    "        return None\n",
    "\n",
    "    for i in range(2,n):\n",
    "        if n%i == 0:\n",
    "            # if any number in b/w the [2,n-1] gives remainder 0\n",
    "            # it means our number n is not prime number\n",
    "            # hence return False.\n",
    "            return False\n",
    "\n",
    "    return True\n",
    "    "
   ]
  },
  {
   "cell_type": "code",
   "execution_count": 4,
   "id": "209095f6-124e-4dc1-b973-409a131d69c7",
   "metadata": {},
   "outputs": [
    {
     "name": "stdout",
     "output_type": "stream",
     "text": [
      "ValueError: argument n must be greater than 1.\n"
     ]
    }
   ],
   "source": [
    "isPrime(-1)"
   ]
  },
  {
   "cell_type": "code",
   "execution_count": 37,
   "id": "4f06f416-29b1-46a1-86ec-d4084bd2c7f3",
   "metadata": {},
   "outputs": [
    {
     "name": "stdout",
     "output_type": "stream",
     "text": [
      "17 is prime number\n"
     ]
    }
   ],
   "source": [
    "n = 17\n",
    "if isPrime(n):\n",
    "    print(f\"{n} is prime number\")\n",
    "else:\n",
    "    print(f\"{n} is not prime number\")"
   ]
  },
  {
   "cell_type": "markdown",
   "id": "0b11cf12-333e-4ada-a9f4-5242e8318dae",
   "metadata": {},
   "source": [
    "**Finding max and min value from a list**"
   ]
  },
  {
   "cell_type": "code",
   "execution_count": 6,
   "id": "9ca50222-3d83-483a-a4bb-be7da5cfddf7",
   "metadata": {},
   "outputs": [],
   "source": [
    "import random"
   ]
  },
  {
   "cell_type": "code",
   "execution_count": 8,
   "id": "166cdc8b-6176-449e-a07f-d2d34cbfb351",
   "metadata": {},
   "outputs": [],
   "source": [
    "# creating an empty list\n",
    "random_list = []\n",
    "\n",
    "for i in range(30):\n",
    "    _random_number = random.randint(10,100)\n",
    "    random_list.append(_random_number)"
   ]
  },
  {
   "cell_type": "markdown",
   "id": "bd0ced30-efac-4c33-a412-43e5bcb16b79",
   "metadata": {},
   "source": [
    "**Picking random value form random list**"
   ]
  },
  {
   "cell_type": "code",
   "execution_count": 10,
   "id": "7a9b8ca6-cfda-4a85-81c9-1a5877cb609d",
   "metadata": {},
   "outputs": [],
   "source": [
    "bucket = []\n",
    "for i in range(10):\n",
    "    # first access/pick value from random_list\n",
    "    _ri = random.randint(0,29)\n",
    "    # now _ri is the random index number\n",
    "    _rvalue = random_list[_ri]\n",
    "    bucket.append(_rvalue)"
   ]
  },
  {
   "cell_type": "code",
   "execution_count": 13,
   "id": "4d7f58f6-e681-46ab-85a2-e3264f5c1454",
   "metadata": {},
   "outputs": [
    {
     "data": {
      "text/plain": [
       "11"
      ]
     },
     "execution_count": 13,
     "metadata": {},
     "output_type": "execute_result"
    }
   ],
   "source": [
    "min(bucket)"
   ]
  },
  {
   "cell_type": "code",
   "execution_count": 14,
   "id": "57d0416d-39c9-4c72-a9c0-0e4758cd1cfa",
   "metadata": {},
   "outputs": [
    {
     "data": {
      "text/plain": [
       "88"
      ]
     },
     "execution_count": 14,
     "metadata": {},
     "output_type": "execute_result"
    }
   ],
   "source": [
    "max(bucket)"
   ]
  },
  {
   "cell_type": "markdown",
   "id": "4f94509d-5e58-4291-8132-cab03281037f",
   "metadata": {},
   "source": [
    "**Findig max value using custom function**"
   ]
  },
  {
   "cell_type": "code",
   "execution_count": 15,
   "id": "1df87577-7813-44cb-aa73-facbe4df6aee",
   "metadata": {},
   "outputs": [],
   "source": [
    "def find_max(sequence:list):\n",
    "    _max_value = sequence[0]\n",
    "    for value in sequence:\n",
    "        if value > _max_value:\n",
    "            _max_value = value\n",
    "    return _max_value"
   ]
  },
  {
   "cell_type": "code",
   "execution_count": 16,
   "id": "3b9b005e-10b4-4a3a-9831-9f1b51d14f4a",
   "metadata": {},
   "outputs": [
    {
     "data": {
      "text/plain": [
       "88"
      ]
     },
     "execution_count": 16,
     "metadata": {},
     "output_type": "execute_result"
    }
   ],
   "source": [
    "find_max(bucket)"
   ]
  },
  {
   "cell_type": "code",
   "execution_count": 20,
   "id": "f4de9968-3f1c-4107-b13f-dce339a21f68",
   "metadata": {},
   "outputs": [],
   "source": [
    "def find_min(sequence:list):\n",
    "    _min_value = sequence[0]\n",
    "    for value in sequence:\n",
    "        if value < _min_value:\n",
    "            _min_value = value\n",
    "    return _min_value"
   ]
  },
  {
   "cell_type": "code",
   "execution_count": 21,
   "id": "e5562e5d-9de1-4560-afbe-9f49d23db54e",
   "metadata": {},
   "outputs": [
    {
     "data": {
      "text/plain": [
       "11"
      ]
     },
     "execution_count": 21,
     "metadata": {},
     "output_type": "execute_result"
    }
   ],
   "source": [
    "find_min(bucket)"
   ]
  },
  {
   "cell_type": "markdown",
   "id": "ef7be1ec-c1ae-4fa5-9b61-1f04fd1b230f",
   "metadata": {},
   "source": [
    "Question: \\\n",
    "Write a Python program to calculate the difference between a given number and 17. If the number is greater than 17, return twice the absolute difference."
   ]
  },
  {
   "cell_type": "code",
   "execution_count": 24,
   "id": "89bad084-92cd-4fb4-9dcc-b820a882e7b8",
   "metadata": {},
   "outputs": [],
   "source": [
    "def find_diff(n):\n",
    "    fixed_value = 17\n",
    "    # calculate the diff\n",
    "    diff = n - fixed_value\n",
    "    # n can be greater than fixed_value or can be less than.\n",
    "\n",
    "    if n > fixed_value:\n",
    "        return abs(diff)*2\n",
    "    else:\n",
    "        return abs(diff)"
   ]
  },
  {
   "cell_type": "code",
   "execution_count": 26,
   "id": "e63c2196-bc80-40f7-bc79-ed303249b462",
   "metadata": {},
   "outputs": [
    {
     "data": {
      "text/plain": [
       "16"
      ]
     },
     "execution_count": 26,
     "metadata": {},
     "output_type": "execute_result"
    }
   ],
   "source": [
    "find_diff(25)"
   ]
  },
  {
   "cell_type": "markdown",
   "id": "1c18af3f-cbac-4353-bfcd-30491aa75a65",
   "metadata": {},
   "source": [
    "**Question:** \\\n",
    "Write a Python program that returns true if the two given integer values are equal or their sum or difference is 5."
   ]
  },
  {
   "cell_type": "code",
   "execution_count": 38,
   "id": "7beed661-cef7-49f6-a3f4-a0e7ff382c7b",
   "metadata": {},
   "outputs": [],
   "source": [
    "def number_test_1(a:int,b:int):\n",
    "\n",
    "    if type(a) != int or type(b) != int:\n",
    "        print(\"TypeError: argument a and b must be type of int!\")\n",
    "        return None # at this point we don't need to process furthur\n",
    "        # need to break the function and go out of it.\n",
    "\n",
    "    if a == b or (abs(a+b) == 5) or (abs(a-b) == 5):\n",
    "        return True\n",
    "    \n",
    "    return False"
   ]
  },
  {
   "cell_type": "code",
   "execution_count": 40,
   "id": "ce44b023-6c29-4d75-9d45-3a0be7bc293b",
   "metadata": {},
   "outputs": [
    {
     "name": "stdin",
     "output_type": "stream",
     "text": [
      "Enter Two values 66 66\n"
     ]
    },
    {
     "data": {
      "text/plain": [
       "True"
      ]
     },
     "execution_count": 40,
     "metadata": {},
     "output_type": "execute_result"
    }
   ],
   "source": [
    "input_data =  input(\"Enter Two values\")\n",
    "input_data =  input_data.split(\" \")\n",
    "a = int(input_data[0])\n",
    "b = int(input_data[1])\n",
    "\n",
    "# passing value of a and b to the function:number_test_1\n",
    "number_test_1(a,b)"
   ]
  },
  {
   "cell_type": "code",
   "execution_count": 35,
   "id": "21b18456-13f2-4ab5-9cae-fb578ba34c84",
   "metadata": {},
   "outputs": [
    {
     "data": {
      "text/plain": [
       "False"
      ]
     },
     "execution_count": 35,
     "metadata": {},
     "output_type": "execute_result"
    }
   ],
   "source": [
    "a == b"
   ]
  },
  {
   "cell_type": "code",
   "execution_count": 36,
   "id": "1c8b2305-679a-4539-b88d-cf7445e2cb51",
   "metadata": {},
   "outputs": [
    {
     "data": {
      "text/plain": [
       "False"
      ]
     },
     "execution_count": 36,
     "metadata": {},
     "output_type": "execute_result"
    }
   ],
   "source": [
    "a+b == 5"
   ]
  },
  {
   "cell_type": "code",
   "execution_count": 37,
   "id": "4a587054-458b-48d8-b8ee-2df21d4aa59f",
   "metadata": {},
   "outputs": [
    {
     "data": {
      "text/plain": [
       "False"
      ]
     },
     "execution_count": 37,
     "metadata": {},
     "output_type": "execute_result"
    }
   ],
   "source": [
    "a-b == 5"
   ]
  },
  {
   "cell_type": "code",
   "execution_count": null,
   "id": "804da760-ddbd-4a5f-858d-4436c0537afc",
   "metadata": {},
   "outputs": [],
   "source": []
  }
 ],
 "metadata": {
  "kernelspec": {
   "display_name": "Python 3 (ipykernel)",
   "language": "python",
   "name": "python3"
  },
  "language_info": {
   "codemirror_mode": {
    "name": "ipython",
    "version": 3
   },
   "file_extension": ".py",
   "mimetype": "text/x-python",
   "name": "python",
   "nbconvert_exporter": "python",
   "pygments_lexer": "ipython3",
   "version": "3.10.5"
  }
 },
 "nbformat": 4,
 "nbformat_minor": 5
}
