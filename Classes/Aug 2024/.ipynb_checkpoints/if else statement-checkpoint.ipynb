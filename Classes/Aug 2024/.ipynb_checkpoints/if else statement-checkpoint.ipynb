{
 "cells": [
  {
   "cell_type": "code",
   "execution_count": 1,
   "id": "c848bd7e-348e-46f3-97d7-0107e00c42b5",
   "metadata": {},
   "outputs": [
    {
     "name": "stdout",
     "output_type": "stream",
     "text": [
      "person is adult\n"
     ]
    }
   ],
   "source": [
    "age = 34\n",
    "\n",
    "if age >= 18:\n",
    "    print(\"person is adult\")\n",
    "else:\n",
    "    print(\"person is minor\")"
   ]
  },
  {
   "cell_type": "markdown",
   "id": "1cb610ff-ded4-43db-b089-e35638858afc",
   "metadata": {},
   "source": [
    "Now taking input form user."
   ]
  },
  {
   "cell_type": "code",
   "execution_count": 2,
   "id": "ce548e35-3c8e-4976-b64a-5bd27fcbb247",
   "metadata": {},
   "outputs": [
    {
     "name": "stdin",
     "output_type": "stream",
     "text": [
      "Enter your age:  12\n"
     ]
    },
    {
     "ename": "TypeError",
     "evalue": "'>=' not supported between instances of 'str' and 'int'",
     "output_type": "error",
     "traceback": [
      "\u001b[1;31m---------------------------------------------------------------------------\u001b[0m",
      "\u001b[1;31mTypeError\u001b[0m                                 Traceback (most recent call last)",
      "Cell \u001b[1;32mIn [2], line 3\u001b[0m\n\u001b[0;32m      1\u001b[0m age \u001b[38;5;241m=\u001b[39m \u001b[38;5;28minput\u001b[39m(\u001b[38;5;124m\"\u001b[39m\u001b[38;5;124mEnter your age: \u001b[39m\u001b[38;5;124m\"\u001b[39m)\n\u001b[1;32m----> 3\u001b[0m \u001b[38;5;28;01mif\u001b[39;00m \u001b[43mage\u001b[49m\u001b[43m \u001b[49m\u001b[38;5;241;43m>\u001b[39;49m\u001b[38;5;241;43m=\u001b[39;49m\u001b[43m \u001b[49m\u001b[38;5;241;43m18\u001b[39;49m:\n\u001b[0;32m      4\u001b[0m     \u001b[38;5;28mprint\u001b[39m(\u001b[38;5;124m\"\u001b[39m\u001b[38;5;124mperson is adult\u001b[39m\u001b[38;5;124m\"\u001b[39m)\n\u001b[0;32m      5\u001b[0m \u001b[38;5;28;01melse\u001b[39;00m:\n",
      "\u001b[1;31mTypeError\u001b[0m: '>=' not supported between instances of 'str' and 'int'"
     ]
    }
   ],
   "source": [
    "age = input(\"Enter your age: \")\n",
    "\n",
    "if age >= 18:\n",
    "    print(\"person is adult\")\n",
    "else:\n",
    "    print(\"person is minor\")"
   ]
  },
  {
   "cell_type": "markdown",
   "id": "da6a4876-3de5-4333-be2a-347001699993",
   "metadata": {},
   "source": [
    "Note: input function always return values in string (str) type."
   ]
  },
  {
   "cell_type": "code",
   "execution_count": 3,
   "id": "db2212f7-f618-495b-a52c-275746becda4",
   "metadata": {},
   "outputs": [
    {
     "name": "stdin",
     "output_type": "stream",
     "text": [
      "Enter your age 12\n"
     ]
    },
    {
     "data": {
      "text/plain": [
       "str"
      ]
     },
     "execution_count": 3,
     "metadata": {},
     "output_type": "execute_result"
    }
   ],
   "source": [
    "# taking input from user\n",
    "age = input(\"Enter your age\")\n",
    "# testing typr for age value.\n",
    "type(age)"
   ]
  },
  {
   "cell_type": "markdown",
   "id": "c6457568-fafd-469c-b246-dd32be5aa0a6",
   "metadata": {},
   "source": [
    "Note: Since we are using input value to get age varaible value from user. In this case we need to convert our age value from str -> int. since age value will be str initially."
   ]
  },
  {
   "cell_type": "code",
   "execution_count": 5,
   "id": "e6a843d4-9fc5-4265-965d-b2c39d6b6086",
   "metadata": {},
   "outputs": [
    {
     "name": "stdin",
     "output_type": "stream",
     "text": [
      "Enter your age:  12\n"
     ]
    },
    {
     "name": "stdout",
     "output_type": "stream",
     "text": [
      "person is minor\n"
     ]
    }
   ],
   "source": [
    "age = input(\"Enter your age: \") # getting user age value as string. (str)\n",
    "age = int(age) # converting age from str to integer\n",
    "if age >= 18:\n",
    "    print(\"person is adult\")\n",
    "else:\n",
    "    print(\"person is minor\")"
   ]
  },
  {
   "cell_type": "markdown",
   "id": "1bb3c50c-c1c8-4011-bfae-22c387b0f289",
   "metadata": {},
   "source": [
    "____"
   ]
  },
  {
   "cell_type": "markdown",
   "id": "9ea4ff60-7f25-4f25-a358-fc494c4f64fd",
   "metadata": {},
   "source": [
    "**Input number is positive on negative**"
   ]
  },
  {
   "cell_type": "code",
   "execution_count": 8,
   "id": "fe1435a2-7299-4cc8-b274-f26b3b9e049b",
   "metadata": {},
   "outputs": [
    {
     "name": "stdin",
     "output_type": "stream",
     "text": [
      "Enter a value:  0\n"
     ]
    },
    {
     "name": "stdout",
     "output_type": "stream",
     "text": [
      "number is zero.\n"
     ]
    }
   ],
   "source": [
    "# testing that our user inpute value is negative or positive.\n",
    "number = input(\"Enter a value: \")\n",
    "number = int(number)\n",
    "\n",
    "if number > 0:\n",
    "    print(\"number is positive\")\n",
    "elif number < 0:\n",
    "    print(\"number is negative\")\n",
    "else:\n",
    "    print(\"number is zero.\")\n",
    "    "
   ]
  },
  {
   "cell_type": "markdown",
   "id": "30f2f2eb-2b99-48ca-9db1-0ecc7697b072",
   "metadata": {},
   "source": [
    "**getting five numbers**"
   ]
  },
  {
   "cell_type": "code",
   "execution_count": 10,
   "id": "ab4243c7-d648-4125-9ae7-c101edd2dcbd",
   "metadata": {},
   "outputs": [
    {
     "name": "stdin",
     "output_type": "stream",
     "text": [
      "Enter a value:  12\n"
     ]
    },
    {
     "name": "stdout",
     "output_type": "stream",
     "text": [
      "number is positive\n",
      "0\n",
      "-----------------------------------\n"
     ]
    },
    {
     "name": "stdin",
     "output_type": "stream",
     "text": [
      "Enter a value:  45\n"
     ]
    },
    {
     "name": "stdout",
     "output_type": "stream",
     "text": [
      "number is positive\n",
      "1\n",
      "-----------------------------------\n"
     ]
    },
    {
     "name": "stdin",
     "output_type": "stream",
     "text": [
      "Enter a value:  -25\n"
     ]
    },
    {
     "name": "stdout",
     "output_type": "stream",
     "text": [
      "number is negative\n",
      "2\n",
      "-----------------------------------\n"
     ]
    },
    {
     "name": "stdin",
     "output_type": "stream",
     "text": [
      "Enter a value:  0\n"
     ]
    },
    {
     "name": "stdout",
     "output_type": "stream",
     "text": [
      "number is zero.\n",
      "3\n",
      "-----------------------------------\n"
     ]
    },
    {
     "name": "stdin",
     "output_type": "stream",
     "text": [
      "Enter a value:  74\n"
     ]
    },
    {
     "name": "stdout",
     "output_type": "stream",
     "text": [
      "number is positive\n",
      "4\n",
      "-----------------------------------\n"
     ]
    }
   ],
   "source": [
    "for i in range(5):\n",
    "    number = input(\"Enter a value: \")\n",
    "    number = int(number)\n",
    "    \n",
    "    if number > 0:\n",
    "        print(\"number is positive\")\n",
    "    elif number < 0:\n",
    "        print(\"number is negative\")\n",
    "    else:\n",
    "        print(\"number is zero.\")\n",
    "    \n",
    "    print(i)\n",
    "    print(\"-----------------------------------\")"
   ]
  },
  {
   "cell_type": "markdown",
   "id": "2bc073f4-f335-4e4e-b7d8-aa6c0bc29b93",
   "metadata": {},
   "source": [
    "**Creatig a list to store the number result**"
   ]
  },
  {
   "cell_type": "code",
   "execution_count": 16,
   "id": "6e076b5d-cdeb-4479-bdd8-a348c2128fca",
   "metadata": {},
   "outputs": [
    {
     "name": "stdin",
     "output_type": "stream",
     "text": [
      "Enter a value:  12\n"
     ]
    },
    {
     "name": "stdout",
     "output_type": "stream",
     "text": [
      "number is positive\n",
      "0\n",
      "-----------------------------------\n"
     ]
    },
    {
     "name": "stdin",
     "output_type": "stream",
     "text": [
      "Enter a value:  -12\n"
     ]
    },
    {
     "name": "stdout",
     "output_type": "stream",
     "text": [
      "number is negative\n",
      "1\n",
      "-----------------------------------\n"
     ]
    },
    {
     "name": "stdin",
     "output_type": "stream",
     "text": [
      "Enter a value:  36\n"
     ]
    },
    {
     "name": "stdout",
     "output_type": "stream",
     "text": [
      "number is positive\n",
      "2\n",
      "-----------------------------------\n"
     ]
    },
    {
     "name": "stdin",
     "output_type": "stream",
     "text": [
      "Enter a value:  -52\n"
     ]
    },
    {
     "name": "stdout",
     "output_type": "stream",
     "text": [
      "number is negative\n",
      "3\n",
      "-----------------------------------\n"
     ]
    },
    {
     "name": "stdin",
     "output_type": "stream",
     "text": [
      "Enter a value:  0\n"
     ]
    },
    {
     "name": "stdout",
     "output_type": "stream",
     "text": [
      "number is zero.\n",
      "4\n",
      "-----------------------------------\n",
      "['positive', 'negative', 'positive', 'negative', 'zero']\n"
     ]
    }
   ],
   "source": [
    "# creating an empty list\n",
    "number_results = []  # empty list\n",
    "\n",
    "for i in range(5):\n",
    "    number = input(\"Enter a value: \")\n",
    "    number = int(number)\n",
    "    \n",
    "    if number > 0:\n",
    "        print(\"number is positive\")\n",
    "        number_results.append(\"positive\")\n",
    "        \n",
    "    elif number < 0:\n",
    "        print(\"number is negative\")\n",
    "        number_results.append(\"negative\")\n",
    "        \n",
    "    else:\n",
    "        print(\"number is zero.\")\n",
    "        number_results.append(\"zero\")\n",
    "    \n",
    "    print(i)\n",
    "    print(\"-----------------------------------\")\n",
    "\n",
    "print(number_results)"
   ]
  },
  {
   "cell_type": "code",
   "execution_count": null,
   "id": "e0e5fe38-7ac8-4bf9-8cef-f09363222b8d",
   "metadata": {},
   "outputs": [],
   "source": []
  },
  {
   "cell_type": "code",
   "execution_count": 11,
   "id": "94c17f0f-4411-4c34-b5e4-494cfb1a288b",
   "metadata": {},
   "outputs": [],
   "source": [
    "items = []"
   ]
  },
  {
   "cell_type": "code",
   "execution_count": 12,
   "id": "99f0812b-a45b-440e-80e9-82ef918bddf2",
   "metadata": {},
   "outputs": [],
   "source": [
    "items.append(10)"
   ]
  },
  {
   "cell_type": "code",
   "execution_count": 13,
   "id": "5ce902be-0267-4bc7-8297-c37e56517a55",
   "metadata": {},
   "outputs": [
    {
     "data": {
      "text/plain": [
       "[10]"
      ]
     },
     "execution_count": 13,
     "metadata": {},
     "output_type": "execute_result"
    }
   ],
   "source": [
    "items"
   ]
  },
  {
   "cell_type": "code",
   "execution_count": 14,
   "id": "653ad834-5f50-4466-84ed-26a631183c9a",
   "metadata": {},
   "outputs": [],
   "source": [
    "items.append(20)"
   ]
  },
  {
   "cell_type": "code",
   "execution_count": 15,
   "id": "5fb17083-27fd-4da7-8f08-9db6f5e344fb",
   "metadata": {},
   "outputs": [
    {
     "data": {
      "text/plain": [
       "[10, 20]"
      ]
     },
     "execution_count": 15,
     "metadata": {},
     "output_type": "execute_result"
    }
   ],
   "source": [
    "items"
   ]
  },
  {
   "cell_type": "code",
   "execution_count": null,
   "id": "298cca4d-c20e-49dd-a52d-0c6868df504d",
   "metadata": {},
   "outputs": [],
   "source": []
  }
 ],
 "metadata": {
  "kernelspec": {
   "display_name": "Python 3 (ipykernel)",
   "language": "python",
   "name": "python3"
  },
  "language_info": {
   "codemirror_mode": {
    "name": "ipython",
    "version": 3
   },
   "file_extension": ".py",
   "mimetype": "text/x-python",
   "name": "python",
   "nbconvert_exporter": "python",
   "pygments_lexer": "ipython3",
   "version": "3.10.5"
  }
 },
 "nbformat": 4,
 "nbformat_minor": 5
}
