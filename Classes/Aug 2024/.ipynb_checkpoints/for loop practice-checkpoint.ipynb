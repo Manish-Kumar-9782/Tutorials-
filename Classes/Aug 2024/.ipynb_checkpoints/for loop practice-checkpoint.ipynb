{
 "cells": [
  {
   "cell_type": "markdown",
   "id": "313af779-1c10-4496-8c12-891acda8fadf",
   "metadata": {},
   "source": [
    "## Problem: Counting Vowels from a text string"
   ]
  },
  {
   "cell_type": "code",
   "execution_count": 1,
   "id": "3a2026be-2e2a-453d-9bcd-ba693055cfa1",
   "metadata": {},
   "outputs": [],
   "source": [
    "myText = \"By understanding and acknowledging the signs, individuals can take \\\n",
    "proactive steps to improve their diets and overall health. Dr Rahul Sharma, Senior\\\n",
    "Consultant at BMG Global Hospital, Bhubaneswar, says that there are ways your body \\\n",
    "communicates nutritional deficiencies, highlighting the importance of balanced nutrition\\\n",
    "and the need for a well-rounded diet. Addressing these deficiencies not only enhances \\\n",
    "physical health but also promotes mental and emotional well-being, he says.\""
   ]
  },
  {
   "cell_type": "code",
   "execution_count": 2,
   "id": "68ce6f0c-585a-4600-8e6c-186619744b28",
   "metadata": {},
   "outputs": [
    {
     "name": "stdout",
     "output_type": "stream",
     "text": [
      "By understanding and acknowledging the signs, individuals can take proactive steps to improve their diets and overall health. Dr Rahul Sharma, SeniorConsultant at BMG Global Hospital, Bhubaneswar, says that there are ways your body communicates nutritional deficiencies, highlighting the importance of balanced nutritionand the need for a well-rounded diet. Addressing these deficiencies not only enhances physical health but also promotes mental and emotional well-being, he says.\n"
     ]
    }
   ],
   "source": [
    "print(myText)"
   ]
  },
  {
   "cell_type": "markdown",
   "id": "fe9769fa-d5cf-43b2-bcf3-8afa54abf88e",
   "metadata": {},
   "source": [
    "Note: counting process.\n",
    "\n",
    "0. create a counting varaible.\n",
    "1. first take a single (one by one) character form string.\n",
    "2. test that this character is vowels.\n",
    "3. if character is vowel then increase the counting by one.\n",
    "4. repeate this process until all character are checked."
   ]
  },
  {
   "cell_type": "code",
   "execution_count": 3,
   "id": "a04f9a28-b4f2-46f7-8e82-3da9fd681936",
   "metadata": {},
   "outputs": [],
   "source": [
    "count = 0"
   ]
  },
  {
   "cell_type": "code",
   "execution_count": 4,
   "id": "b8e368f0-c48a-4ffe-8f02-1f7ebc851fbc",
   "metadata": {},
   "outputs": [],
   "source": [
    "char = \"x\""
   ]
  },
  {
   "cell_type": "code",
   "execution_count": 5,
   "id": "9f4ffbc6-4009-4013-b559-c7208643f5f9",
   "metadata": {},
   "outputs": [],
   "source": [
    "vowels = [\"a\",\"e\",\"i\",\"o\",\"u\"]"
   ]
  },
  {
   "cell_type": "code",
   "execution_count": 7,
   "id": "f0675b10-979b-44ec-873b-b56723edeb8b",
   "metadata": {},
   "outputs": [
    {
     "data": {
      "text/plain": [
       "False"
      ]
     },
     "execution_count": 7,
     "metadata": {},
     "output_type": "execute_result"
    }
   ],
   "source": [
    "# testing that our char is present inside the list.\n",
    "char in vowels"
   ]
  },
  {
   "cell_type": "code",
   "execution_count": 8,
   "id": "94334b37-dea1-472f-b5ff-e28394046c9f",
   "metadata": {},
   "outputs": [
    {
     "data": {
      "text/plain": [
       "True"
      ]
     },
     "execution_count": 8,
     "metadata": {},
     "output_type": "execute_result"
    }
   ],
   "source": [
    "char = \"a\"\n",
    "char in vowels # expression for testing that char is a vowel."
   ]
  },
  {
   "cell_type": "code",
   "execution_count": 11,
   "id": "7e9aecf3-12fa-4b1d-a517-dca921f041ba",
   "metadata": {},
   "outputs": [
    {
     "name": "stdout",
     "output_type": "stream",
     "text": [
      "H---e---l---l---o--- ---w---o---r---l---d---.---.---.---!---"
     ]
    }
   ],
   "source": [
    "# applying for loop on string.\n",
    "myStr = 'Hello world...!'\n",
    "for char in myStr:\n",
    "    print(char, end=\"---\")"
   ]
  },
  {
   "cell_type": "markdown",
   "id": "ed7154ad-c72a-4ba3-a6bf-716bd91bbd25",
   "metadata": {},
   "source": [
    "Note: Now we can read each character by using for loop on string variable."
   ]
  },
  {
   "cell_type": "code",
   "execution_count": 12,
   "id": "5bcd9c2c-cca2-48ba-af19-c784a1988c56",
   "metadata": {},
   "outputs": [],
   "source": [
    "# Now counting vowels in myStr\n",
    "count = 0\n",
    "for char in myStr:\n",
    "    if char in vowels:\n",
    "        count += 1\n"
   ]
  },
  {
   "cell_type": "code",
   "execution_count": 13,
   "id": "016ea7fa-47a1-42b3-a4f2-e7af32cda126",
   "metadata": {},
   "outputs": [
    {
     "data": {
      "text/plain": [
       "3"
      ]
     },
     "execution_count": 13,
     "metadata": {},
     "output_type": "execute_result"
    }
   ],
   "source": [
    "count"
   ]
  },
  {
   "cell_type": "code",
   "execution_count": 17,
   "id": "d6922056-e7f7-4b96-a614-552f9e44b51c",
   "metadata": {},
   "outputs": [],
   "source": [
    "def countVowels(strVar):\n",
    "\n",
    "    vowels =  [\"a\",\"e\",\"i\",\"o\",\"u\"]\n",
    "    # first create a count variable\n",
    "    count = 0\n",
    "    # now read each character from strVar\n",
    "    for char in strVar:\n",
    "        # test that char is present in our vowels\n",
    "        if char in vowels:\n",
    "            count += 1\n",
    "\n",
    "    # This program does not count capital character of vowels\n",
    "    # exclude : A, E, I, O, U\n",
    "    return count"
   ]
  },
  {
   "cell_type": "code",
   "execution_count": 18,
   "id": "f140a87a-04e3-4d56-991a-792f071b5535",
   "metadata": {},
   "outputs": [
    {
     "data": {
      "text/plain": [
       "3"
      ]
     },
     "execution_count": 18,
     "metadata": {},
     "output_type": "execute_result"
    }
   ],
   "source": [
    "countVowels(myStr)"
   ]
  },
  {
   "cell_type": "code",
   "execution_count": 19,
   "id": "4d362a6e-47a6-4131-8a67-a36d00856288",
   "metadata": {},
   "outputs": [
    {
     "data": {
      "text/plain": [
       "150"
      ]
     },
     "execution_count": 19,
     "metadata": {},
     "output_type": "execute_result"
    }
   ],
   "source": [
    "countVowels(myText)"
   ]
  },
  {
   "cell_type": "code",
   "execution_count": null,
   "id": "c641d564-a4f4-4137-afac-94285b815be2",
   "metadata": {},
   "outputs": [],
   "source": []
  }
 ],
 "metadata": {
  "kernelspec": {
   "display_name": "Python 3 (ipykernel)",
   "language": "python",
   "name": "python3"
  },
  "language_info": {
   "codemirror_mode": {
    "name": "ipython",
    "version": 3
   },
   "file_extension": ".py",
   "mimetype": "text/x-python",
   "name": "python",
   "nbconvert_exporter": "python",
   "pygments_lexer": "ipython3",
   "version": "3.10.5"
  }
 },
 "nbformat": 4,
 "nbformat_minor": 5
}
