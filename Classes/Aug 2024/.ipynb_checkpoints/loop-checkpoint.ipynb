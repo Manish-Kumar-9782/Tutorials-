{
 "cells": [
  {
   "cell_type": "markdown",
   "id": "ce0ca6f0-172a-41f7-a0f4-6f64edaf0b7e",
   "metadata": {},
   "source": [
    "## Loops"
   ]
  },
  {
   "cell_type": "code",
   "execution_count": 1,
   "id": "1681b6a8-941b-45d6-b5ba-9b0906e3f598",
   "metadata": {},
   "outputs": [
    {
     "name": "stdout",
     "output_type": "stream",
     "text": [
      "hello world...!\n"
     ]
    }
   ],
   "source": [
    "print(\"hello world...!\")"
   ]
  },
  {
   "cell_type": "code",
   "execution_count": 4,
   "id": "52e1484f-c6f3-48f3-8f95-8697744bf98a",
   "metadata": {},
   "outputs": [
    {
     "name": "stdout",
     "output_type": "stream",
     "text": [
      "hello world...!\n",
      "hello world...!\n",
      "hello world...!\n",
      "hello world...!\n",
      "hello world...!\n",
      "hello world...!\n",
      "hello world...!\n",
      "hello world...!\n",
      "hello world...!\n",
      "hello world...!\n"
     ]
    }
   ],
   "source": [
    "print(\"hello world...!\")\n",
    "print(\"hello world...!\")\n",
    "print(\"hello world...!\")\n",
    "print(\"hello world...!\")\n",
    "print(\"hello world...!\")\n",
    "print(\"hello world...!\")\n",
    "print(\"hello world...!\")\n",
    "print(\"hello world...!\")\n",
    "print(\"hello world...!\")\n",
    "print(\"hello world...!\")"
   ]
  },
  {
   "cell_type": "markdown",
   "id": "d51b3f7b-3bef-4e6b-914e-0379cbd66785",
   "metadata": {},
   "source": [
    "Note: Now we want to write only single print statement and run it 10 times.\n",
    "\n",
    "## for - loop Syntax\n",
    "```python\n",
    "for <var> in <sequence>:\n",
    "    pass\n",
    "\n",
    "# example\n",
    "for var in range(10):\n",
    "    print(\"hello\")\n",
    "```\n"
   ]
  },
  {
   "cell_type": "code",
   "execution_count": 5,
   "id": "1c09bf1c-3345-40bc-820a-fcc2884dec59",
   "metadata": {},
   "outputs": [
    {
     "name": "stdout",
     "output_type": "stream",
     "text": [
      "hello world\n",
      "hello world\n",
      "hello world\n",
      "hello world\n",
      "hello world\n",
      "hello world\n",
      "hello world\n",
      "hello world\n",
      "hello world\n",
      "hello world\n"
     ]
    }
   ],
   "source": [
    "for var in range(10):\n",
    "    print(\"hello world\")"
   ]
  },
  {
   "cell_type": "markdown",
   "id": "317a7c1c-718d-4a02-b350-513de5ecd337",
   "metadata": {},
   "source": [
    "```python\n",
    "# range method syntax\n",
    "range(endvalue) -> range(10)\n",
    "\n",
    "range(start, end) -> range(1,10)\n",
    "\n",
    "range(strat, end, step) -> range(1,10,3)\n",
    "\n",
    "```"
   ]
  },
  {
   "cell_type": "code",
   "execution_count": 6,
   "id": "acb8a3df-504a-4af1-8e04-fd8114f46f6d",
   "metadata": {},
   "outputs": [],
   "source": [
    "numbers = range(10)"
   ]
  },
  {
   "cell_type": "code",
   "execution_count": 7,
   "id": "cdcf9ae5-71c3-4c7a-a42c-adc18b2ab9cc",
   "metadata": {},
   "outputs": [
    {
     "data": {
      "text/plain": [
       "range(0, 10)"
      ]
     },
     "execution_count": 7,
     "metadata": {},
     "output_type": "execute_result"
    }
   ],
   "source": [
    "numbers"
   ]
  },
  {
   "cell_type": "code",
   "execution_count": 8,
   "id": "6ad98234-bc59-4413-a199-b12449c8ceb3",
   "metadata": {},
   "outputs": [
    {
     "data": {
      "text/plain": [
       "[0, 1, 2, 3, 4, 5, 6, 7, 8, 9]"
      ]
     },
     "execution_count": 8,
     "metadata": {},
     "output_type": "execute_result"
    }
   ],
   "source": [
    "list(numbers)"
   ]
  },
  {
   "cell_type": "code",
   "execution_count": 12,
   "id": "acfc7989-4d4d-4010-89a0-1541d6dc41c9",
   "metadata": {},
   "outputs": [
    {
     "data": {
      "text/plain": [
       "[0, 1, 2, 3, 4, 5, 6, 7, 8, 9, 10, 11, 12, 13, 14, 15, 16, 17, 18, 19]"
      ]
     },
     "execution_count": 12,
     "metadata": {},
     "output_type": "execute_result"
    }
   ],
   "source": [
    "# in single step\n",
    "list(range(20))"
   ]
  },
  {
   "cell_type": "code",
   "execution_count": 14,
   "id": "a4ab82e0-b3de-4f39-a0e1-8a1243eaa4cd",
   "metadata": {},
   "outputs": [
    {
     "data": {
      "text/plain": [
       "[5, 6, 7, 8, 9, 10, 11, 12, 13, 14, 15]"
      ]
     },
     "execution_count": 14,
     "metadata": {},
     "output_type": "execute_result"
    }
   ],
   "source": [
    "# using satrt and end values\n",
    "list(range(5, 15+1))"
   ]
  },
  {
   "cell_type": "code",
   "execution_count": 19,
   "id": "a9ab450a-ae73-4a30-a610-94ff58a07362",
   "metadata": {},
   "outputs": [
    {
     "name": "stdout",
     "output_type": "stream",
     "text": [
      "hello world 5\n",
      "hello world 6\n",
      "hello world 7\n",
      "hello world 8\n",
      "hello world 9\n"
     ]
    }
   ],
   "source": [
    "for var in range(5,10):\n",
    "    print(\"hello world\", var)"
   ]
  },
  {
   "cell_type": "code",
   "execution_count": 18,
   "id": "9705b8fb-edee-4fa8-8d40-30ecb2f6de96",
   "metadata": {},
   "outputs": [
    {
     "data": {
      "text/plain": [
       "[5, 6, 7, 8, 9]"
      ]
     },
     "execution_count": 18,
     "metadata": {},
     "output_type": "execute_result"
    }
   ],
   "source": [
    "list(range(5,10))"
   ]
  },
  {
   "cell_type": "code",
   "execution_count": 20,
   "id": "535ddb4c-3007-4b32-b8f3-842b19b22a32",
   "metadata": {},
   "outputs": [
    {
     "data": {
      "text/plain": [
       "[2, 5, 8, 11, 14, 17, 20]"
      ]
     },
     "execution_count": 20,
     "metadata": {},
     "output_type": "execute_result"
    }
   ],
   "source": [
    "# using start, end and step\n",
    "list(range(2,21,3))"
   ]
  },
  {
   "cell_type": "code",
   "execution_count": 23,
   "id": "0dfc8ab9-b629-4adf-8998-0f2741d0eab7",
   "metadata": {},
   "outputs": [
    {
     "data": {
      "text/plain": [
       "[10, 9, 8, 7, 6, 5, 4, 3, 2]"
      ]
     },
     "execution_count": 23,
     "metadata": {},
     "output_type": "execute_result"
    }
   ],
   "source": [
    "list(range(10,1,-1))"
   ]
  },
  {
   "cell_type": "code",
   "execution_count": 25,
   "id": "f72fbd52-149b-4e5d-b825-f81bfed77c30",
   "metadata": {},
   "outputs": [
    {
     "name": "stdout",
     "output_type": "stream",
     "text": [
      "hello\n",
      "hello\n",
      "hello\n",
      "hello\n",
      "hello\n",
      "hello\n",
      "hello\n",
      "hello\n",
      "hello\n",
      "hello\n"
     ]
    }
   ],
   "source": [
    "for var in range(10):\n",
    "    print (\"hello\")"
   ]
  },
  {
   "cell_type": "code",
   "execution_count": 26,
   "id": "ef3fafcd-cf63-4327-b446-6f53515d84d9",
   "metadata": {},
   "outputs": [
    {
     "data": {
      "text/plain": [
       "[0, 1, 2, 3, 4, 5, 6, 7, 8, 9, 10, 11, 12]"
      ]
     },
     "execution_count": 26,
     "metadata": {},
     "output_type": "execute_result"
    }
   ],
   "source": [
    "list(range(13))"
   ]
  },
  {
   "cell_type": "code",
   "execution_count": 27,
   "id": "a08ece33-1646-4a10-8ac3-ff5da6187db5",
   "metadata": {},
   "outputs": [
    {
     "data": {
      "text/plain": [
       "[5, 6, 7, 8, 9, 10, 11, 12, 13, 14, 15, 16, 17, 18, 19]"
      ]
     },
     "execution_count": 27,
     "metadata": {},
     "output_type": "execute_result"
    }
   ],
   "source": [
    "list(range(5,20))"
   ]
  },
  {
   "cell_type": "code",
   "execution_count": 29,
   "id": "bb329881-ca77-4899-bb7a-a1ec97eab27d",
   "metadata": {},
   "outputs": [
    {
     "data": {
      "text/plain": [
       "[1, 6, 11, 16, 21, 26]"
      ]
     },
     "execution_count": 29,
     "metadata": {},
     "output_type": "execute_result"
    }
   ],
   "source": [
    "list(range(1,30,5))"
   ]
  },
  {
   "cell_type": "code",
   "execution_count": 32,
   "id": "913203b4-d6ca-4255-8d59-fb683c05c948",
   "metadata": {},
   "outputs": [
    {
     "name": "stdout",
     "output_type": "stream",
     "text": [
      "hello\n",
      "hello\n",
      "hello\n",
      "hello\n",
      "hello\n",
      "hello\n",
      "hello\n",
      "hello\n"
     ]
    }
   ],
   "source": [
    "for var in range(2,10):\n",
    "    print (\"hello\")"
   ]
  },
  {
   "cell_type": "code",
   "execution_count": 40,
   "id": "7b6bfc8d-222a-459c-a216-e08d0a07d0ae",
   "metadata": {},
   "outputs": [
    {
     "data": {
      "text/plain": [
       "[30,\n",
       " 29,\n",
       " 28,\n",
       " 27,\n",
       " 26,\n",
       " 25,\n",
       " 24,\n",
       " 23,\n",
       " 22,\n",
       " 21,\n",
       " 20,\n",
       " 19,\n",
       " 18,\n",
       " 17,\n",
       " 16,\n",
       " 15,\n",
       " 14,\n",
       " 13,\n",
       " 12,\n",
       " 11,\n",
       " 10,\n",
       " 9,\n",
       " 8,\n",
       " 7,\n",
       " 6,\n",
       " 5,\n",
       " 4,\n",
       " 3,\n",
       " 2,\n",
       " 1]"
      ]
     },
     "execution_count": 40,
     "metadata": {},
     "output_type": "execute_result"
    }
   ],
   "source": [
    "list(range(30,0,-1))"
   ]
  },
  {
   "cell_type": "code",
   "execution_count": 48,
   "id": "be8ff61b-c311-4840-8657-b30ef73414e3",
   "metadata": {},
   "outputs": [
    {
     "name": "stdout",
     "output_type": "stream",
     "text": [
      "1\n",
      "2\n",
      "3\n",
      "4\n",
      "5\n",
      "6\n",
      "7\n",
      "8\n",
      "9\n",
      "10\n"
     ]
    }
   ],
   "source": [
    "for var in range(1,10+1):\n",
    "    print(var)"
   ]
  },
  {
   "cell_type": "code",
   "execution_count": 53,
   "id": "c4815480-a62b-452d-8779-a5f3defe1325",
   "metadata": {},
   "outputs": [
    {
     "name": "stdout",
     "output_type": "stream",
     "text": [
      "10\n",
      "9\n",
      "8\n",
      "7\n",
      "6\n",
      "5\n",
      "4\n",
      "3\n",
      "2\n",
      "1\n"
     ]
    }
   ],
   "source": [
    "for var in range(10,1-1,-1):\n",
    "    print(var)"
   ]
  },
  {
   "cell_type": "code",
   "execution_count": 60,
   "id": "b148e73b-14d6-4986-a5bd-d8c1f1a44697",
   "metadata": {},
   "outputs": [
    {
     "name": "stdout",
     "output_type": "stream",
     "text": [
      "1\n",
      "2\n",
      "3\n",
      "4\n",
      "5\n",
      "6\n",
      "7\n",
      "8\n",
      "9\n",
      "10\n",
      "11\n",
      "12\n",
      "13\n",
      "14\n",
      "15\n",
      "16\n",
      "17\n",
      "18\n",
      "19\n",
      "20\n",
      "21\n",
      "22\n",
      "23\n",
      "24\n",
      "25\n",
      "26\n",
      "27\n",
      "28\n",
      "29\n",
      "30\n",
      "31\n",
      "32\n",
      "33\n",
      "34\n",
      "35\n",
      "36\n",
      "37\n",
      "38\n",
      "39\n"
     ]
    }
   ],
   "source": [
    "A=1\n",
    "Z=40\n",
    "for var in range(A,Z):\n",
    "    print(var)"
   ]
  },
  {
   "cell_type": "code",
   "execution_count": 67,
   "id": "fd94e81b-5cba-4ddd-a9b6-4bc3df3e4542",
   "metadata": {},
   "outputs": [
    {
     "name": "stdout",
     "output_type": "stream",
     "text": [
      "8\n",
      "9\n",
      "10\n",
      "11\n",
      "12\n",
      "13\n",
      "14\n",
      "15\n",
      "16\n",
      "17\n",
      "18\n",
      "19\n"
     ]
    }
   ],
   "source": [
    "for var in range(2*4,20):\n",
    "    print(var)"
   ]
  },
  {
   "cell_type": "code",
   "execution_count": 72,
   "id": "3a309a0c-f073-4c25-ae1d-6a9141c34b71",
   "metadata": {},
   "outputs": [
    {
     "name": "stdout",
     "output_type": "stream",
     "text": [
      "8\n",
      "9\n",
      "10\n",
      "11\n",
      "12\n",
      "13\n",
      "14\n",
      "15\n",
      "16\n",
      "17\n",
      "18\n",
      "19\n",
      "20\n"
     ]
    }
   ],
   "source": [
    "for var in range(2**3,20+1):\n",
    "    print(var)"
   ]
  },
  {
   "cell_type": "markdown",
   "id": "d94d4f61-5ff0-475e-852e-fd96a0a69e16",
   "metadata": {},
   "source": [
    "## Nested loop\n",
    "\n",
    "**syntax**\n",
    "\n",
    "```python\n",
    "# outer loop\n",
    "for <var> in <sequence>:\n",
    "\n",
    "    # outer loop statement befor inner loop\n",
    "    \n",
    "    # inner loop\n",
    "    for <var2> in <sequence2>:\n",
    "        # inner loop statements\n",
    "        ...\n",
    "        # more statement\n",
    "\n",
    "    # outer loop statement after inner loop statement\n",
    "        \n",
    "```"
   ]
  },
  {
   "cell_type": "code",
   "execution_count": 2,
   "id": "e7bfed7d-b948-4955-8e9e-885ced0fe4bf",
   "metadata": {},
   "outputs": [
    {
     "name": "stdout",
     "output_type": "stream",
     "text": [
      "i :  0\n",
      "-------------------\n",
      "i:  0 \t j:  0\n",
      "i:  0 \t j:  1\n",
      "i:  0 \t j:  2\n",
      "i:  0 \t j:  3\n",
      "i:  0 \t j:  4\n",
      "\n",
      "i :  1\n",
      "-------------------\n",
      "i:  1 \t j:  0\n",
      "i:  1 \t j:  1\n",
      "i:  1 \t j:  2\n",
      "i:  1 \t j:  3\n",
      "i:  1 \t j:  4\n",
      "\n",
      "i :  2\n",
      "-------------------\n",
      "i:  2 \t j:  0\n",
      "i:  2 \t j:  1\n",
      "i:  2 \t j:  2\n",
      "i:  2 \t j:  3\n",
      "i:  2 \t j:  4\n",
      "\n"
     ]
    }
   ],
   "source": [
    "for i in range(3):\n",
    "\n",
    "    print(\"i : \", i)\n",
    "    print(\"-------------------\")\n",
    "    \n",
    "    for j in range(5):\n",
    "        print(\"i: \", i, \"\\t\", \"j: \", j)\n",
    "    \n",
    "    print()  # adding a new line after completing a cycle of outer loop"
   ]
  },
  {
   "cell_type": "markdown",
   "id": "3ac6b987-8809-4498-9da1-b1115c70bd7a",
   "metadata": {},
   "source": [
    "**Using above for loop combination to show star pattern**"
   ]
  },
  {
   "cell_type": "code",
   "execution_count": 4,
   "id": "214b6a6b-5a3c-4619-b9cb-c223cb8a0f7f",
   "metadata": {},
   "outputs": [
    {
     "name": "stdout",
     "output_type": "stream",
     "text": [
      "i :  0\n",
      "-------------------\n",
      "* * * * * \n",
      "i :  1\n",
      "-------------------\n",
      "* * * * * \n",
      "i :  2\n",
      "-------------------\n",
      "* * * * * \n"
     ]
    }
   ],
   "source": [
    "for i in range(3):\n",
    "\n",
    "    print(\"i : \", i)\n",
    "    print(\"-------------------\")\n",
    "    \n",
    "    for j in range(5):\n",
    "        # print(\"i: \", i, \"\\t\", \"j: \", j)\n",
    "        print(\"*\", end=\" \")\n",
    "    \n",
    "    print()  # adding a new line after completing a cycle of outer loop"
   ]
  },
  {
   "cell_type": "code",
   "execution_count": 5,
   "id": "73c6b7d8-4100-4962-9782-6ac4f0ae9eea",
   "metadata": {},
   "outputs": [
    {
     "name": "stdout",
     "output_type": "stream",
     "text": [
      "* * * * * \n",
      "* * * * * \n",
      "* * * * * \n"
     ]
    }
   ],
   "source": [
    "for i in range(3):\n",
    "\n",
    "    # print(\"i : \", i)\n",
    "    # print(\"-------------------\")\n",
    "    \n",
    "    for j in range(5):\n",
    "        # print(\"i: \", i, \"\\t\", \"j: \", j)\n",
    "        print(\"*\", end=\" \")\n",
    "    \n",
    "    print()  # adding a new line after completing a cycle of outer loop"
   ]
  },
  {
   "cell_type": "markdown",
   "id": "acc1448e-3c10-4963-b399-d14ae1c2d126",
   "metadata": {},
   "source": [
    "**Star Pattern 1**"
   ]
  },
  {
   "cell_type": "code",
   "execution_count": null,
   "id": "667b3f74-9c61-47f1-8b4e-599a96d94e87",
   "metadata": {},
   "outputs": [],
   "source": [
    "for i in range(3):\n",
    "\n",
    "    # print(\"i : \", i)\n",
    "    # print(\"-------------------\")\n",
    "    \n",
    "    for j in range(i):\n",
    "        # print(\"i: \", i, \"\\t\", \"j: \", j)\n",
    "        print(\"*\", end=\" \")\n",
    "    \n",
    "    print()  # adding a new line after completing a cycle of outer loop"
   ]
  }
 ],
 "metadata": {
  "kernelspec": {
   "display_name": "Python 3 (ipykernel)",
   "language": "python",
   "name": "python3"
  },
  "language_info": {
   "codemirror_mode": {
    "name": "ipython",
    "version": 3
   },
   "file_extension": ".py",
   "mimetype": "text/x-python",
   "name": "python",
   "nbconvert_exporter": "python",
   "pygments_lexer": "ipython3",
   "version": "3.10.5"
  }
 },
 "nbformat": 4,
 "nbformat_minor": 5
}
