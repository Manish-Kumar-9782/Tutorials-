{
 "cells": [
  {
   "cell_type": "markdown",
   "id": "dba451f3-9bf5-4030-af46-1ffb29b544d3",
   "metadata": {},
   "source": [
    "# List Introduction"
   ]
  },
  {
   "cell_type": "code",
   "execution_count": 10,
   "id": "447479ed-acae-4704-b727-91c919f813be",
   "metadata": {},
   "outputs": [],
   "source": [
    "my_list = [1,2,3,\"Hello\",True]"
   ]
  },
  {
   "cell_type": "code",
   "execution_count": 2,
   "id": "5f7030af-2e4c-46b0-b974-3338ed8392ae",
   "metadata": {},
   "outputs": [
    {
     "data": {
      "text/plain": [
       "list"
      ]
     },
     "execution_count": 2,
     "metadata": {},
     "output_type": "execute_result"
    }
   ],
   "source": [
    "type(my_list)"
   ]
  },
  {
   "cell_type": "code",
   "execution_count": 5,
   "id": "db9e4f3e-04fa-40a8-864c-b06cd5200c90",
   "metadata": {},
   "outputs": [],
   "source": [
    "# my_list = 10"
   ]
  },
  {
   "cell_type": "code",
   "execution_count": 6,
   "id": "62f162ae-4276-4f73-812e-2d6de5323132",
   "metadata": {},
   "outputs": [
    {
     "name": "stdout",
     "output_type": "stream",
     "text": [
      "Not a list object\n"
     ]
    }
   ],
   "source": [
    "if type(my_list) == list:\n",
    "    print(\"This is list object\")\n",
    "else:\n",
    "    print(\"Not a list object\")"
   ]
  },
  {
   "cell_type": "code",
   "execution_count": 7,
   "id": "d86d91e2-655b-4a63-860c-6d4f6a017a47",
   "metadata": {},
   "outputs": [],
   "source": [
    "def isList(object):\n",
    "    \n",
    "    if type(object) == list:\n",
    "        return True\n",
    "\n",
    "    return False"
   ]
  },
  {
   "cell_type": "code",
   "execution_count": 11,
   "id": "0d1ce630-9c28-44aa-a18e-335512f86b86",
   "metadata": {},
   "outputs": [
    {
     "data": {
      "text/plain": [
       "True"
      ]
     },
     "execution_count": 11,
     "metadata": {},
     "output_type": "execute_result"
    }
   ],
   "source": [
    "isList(my_list)"
   ]
  },
  {
   "cell_type": "code",
   "execution_count": null,
   "id": "916a3e1f-2ad4-4a94-8ca0-a49200fbea79",
   "metadata": {},
   "outputs": [],
   "source": []
  }
 ],
 "metadata": {
  "kernelspec": {
   "display_name": "Python 3 (ipykernel)",
   "language": "python",
   "name": "python3"
  },
  "language_info": {
   "codemirror_mode": {
    "name": "ipython",
    "version": 3
   },
   "file_extension": ".py",
   "mimetype": "text/x-python",
   "name": "python",
   "nbconvert_exporter": "python",
   "pygments_lexer": "ipython3",
   "version": "3.10.5"
  }
 },
 "nbformat": 4,
 "nbformat_minor": 5
}
