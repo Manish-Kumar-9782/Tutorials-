{
 "cells": [
  {
   "cell_type": "markdown",
   "id": "dbe1acb8-3264-4c88-a90f-9baee6495549",
   "metadata": {},
   "source": [
    "## Dict\n",
    "\n",
    "**Creating dict**"
   ]
  },
  {
   "cell_type": "code",
   "execution_count": 2,
   "id": "b3dc16cf-7969-4f02-bbfc-65d0aeeed9cf",
   "metadata": {},
   "outputs": [],
   "source": [
    "mydict = {\"name\":\"rahul\", \"age\":22, \"height\":5.7, \"bloodgroup\":\"O-\"}"
   ]
  },
  {
   "cell_type": "markdown",
   "id": "a3288eae-1549-48d1-8fa4-776226d1ac88",
   "metadata": {},
   "source": [
    "**reading accessing data**"
   ]
  },
  {
   "cell_type": "code",
   "execution_count": 3,
   "id": "bfe10881-bcac-4703-8c11-54c0428956da",
   "metadata": {},
   "outputs": [
    {
     "data": {
      "text/plain": [
       "'rahul'"
      ]
     },
     "execution_count": 3,
     "metadata": {},
     "output_type": "execute_result"
    }
   ],
   "source": [
    "mydict[\"name\"]"
   ]
  },
  {
   "cell_type": "code",
   "execution_count": 4,
   "id": "937fe53d-a80c-461f-82f9-8b1c582a306c",
   "metadata": {},
   "outputs": [
    {
     "data": {
      "text/plain": [
       "22"
      ]
     },
     "execution_count": 4,
     "metadata": {},
     "output_type": "execute_result"
    }
   ],
   "source": [
    "mydict['age']"
   ]
  },
  {
   "cell_type": "code",
   "execution_count": 5,
   "id": "d771d57a-09ab-4d9a-b397-f06f7133d7ee",
   "metadata": {},
   "outputs": [
    {
     "data": {
      "text/plain": [
       "5.7"
      ]
     },
     "execution_count": 5,
     "metadata": {},
     "output_type": "execute_result"
    }
   ],
   "source": [
    "mydict[\"height\"]"
   ]
  },
  {
   "cell_type": "code",
   "execution_count": 6,
   "id": "bac83cd4-0cce-4187-b0fb-f8b4521e37c9",
   "metadata": {},
   "outputs": [
    {
     "data": {
      "text/plain": [
       "'rahul'"
      ]
     },
     "execution_count": 6,
     "metadata": {},
     "output_type": "execute_result"
    }
   ],
   "source": [
    "key = \"name\"\n",
    "mydict[key]"
   ]
  },
  {
   "cell_type": "markdown",
   "id": "f8b5cfa5-40d4-473e-8110-9d155eead214",
   "metadata": {},
   "source": [
    "**What if key is not in dictionary**"
   ]
  },
  {
   "cell_type": "code",
   "execution_count": 8,
   "id": "9b53f8bd-c966-426f-90d7-f209a4e99e94",
   "metadata": {},
   "outputs": [
    {
     "ename": "KeyError",
     "evalue": "'Name'",
     "output_type": "error",
     "traceback": [
      "\u001b[1;31m---------------------------------------------------------------------------\u001b[0m",
      "\u001b[1;31mKeyError\u001b[0m                                  Traceback (most recent call last)",
      "Cell \u001b[1;32mIn [8], line 1\u001b[0m\n\u001b[1;32m----> 1\u001b[0m \u001b[43mmydict\u001b[49m\u001b[43m[\u001b[49m\u001b[38;5;124;43m\"\u001b[39;49m\u001b[38;5;124;43mName\u001b[39;49m\u001b[38;5;124;43m\"\u001b[39;49m\u001b[43m]\u001b[49m\n",
      "\u001b[1;31mKeyError\u001b[0m: 'Name'"
     ]
    }
   ],
   "source": [
    "mydict[\"Name\"]"
   ]
  },
  {
   "cell_type": "markdown",
   "id": "67efcb2e-c1fc-4515-88d4-44d0a5cd1a27",
   "metadata": {},
   "source": [
    "Note: key \"Name\" is not present in our dictionary, so it gives KeyError. This will be handled very much in django course."
   ]
  },
  {
   "cell_type": "code",
   "execution_count": 10,
   "id": "e99deb9f-85e4-4dc8-8a47-3feaec0f4499",
   "metadata": {},
   "outputs": [],
   "source": [
    "mydict.get(\"Name\")"
   ]
  },
  {
   "cell_type": "markdown",
   "id": "c1db1e4e-5ab8-4b33-a986-fb34cc7a9f0f",
   "metadata": {},
   "source": [
    "Note: by using get method, we avoid the KeyError. but if key is not present then it will return \"None\" by default."
   ]
  },
  {
   "cell_type": "code",
   "execution_count": 11,
   "id": "6fa5b17f-4b01-4df8-bfd1-689327bfcaac",
   "metadata": {},
   "outputs": [
    {
     "name": "stdout",
     "output_type": "stream",
     "text": [
      "Help on method_descriptor:\n",
      "\n",
      "get(self, key, default=None, /)\n",
      "    Return the value for key if key is in the dictionary, else default.\n",
      "\n"
     ]
    }
   ],
   "source": [
    "help(dict.get)"
   ]
  },
  {
   "cell_type": "code",
   "execution_count": 16,
   "id": "607f232f-18a7-4580-ad21-e53ea6a80976",
   "metadata": {},
   "outputs": [
    {
     "data": {
      "text/plain": [
       "'unknown'"
      ]
     },
     "execution_count": 16,
     "metadata": {},
     "output_type": "execute_result"
    }
   ],
   "source": [
    "mydict.get(\"Name\",\"unknown\")"
   ]
  },
  {
   "cell_type": "code",
   "execution_count": 17,
   "id": "710d798c-359a-4341-ad6a-283b233dcfb3",
   "metadata": {},
   "outputs": [
    {
     "data": {
      "text/plain": [
       "'rahul'"
      ]
     },
     "execution_count": 17,
     "metadata": {},
     "output_type": "execute_result"
    }
   ],
   "source": [
    "mydict.get(\"name\",\"unknown\")"
   ]
  },
  {
   "cell_type": "code",
   "execution_count": null,
   "id": "50c738c4-e0cb-47ec-8067-073cad6e68d7",
   "metadata": {},
   "outputs": [],
   "source": []
  }
 ],
 "metadata": {
  "kernelspec": {
   "display_name": "Python 3 (ipykernel)",
   "language": "python",
   "name": "python3"
  },
  "language_info": {
   "codemirror_mode": {
    "name": "ipython",
    "version": 3
   },
   "file_extension": ".py",
   "mimetype": "text/x-python",
   "name": "python",
   "nbconvert_exporter": "python",
   "pygments_lexer": "ipython3",
   "version": "3.10.5"
  }
 },
 "nbformat": 4,
 "nbformat_minor": 5
}
