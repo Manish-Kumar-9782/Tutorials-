{
 "cells": [
  {
   "cell_type": "markdown",
   "id": "gothic-disabled",
   "metadata": {},
   "source": [
    "# Selenium "
   ]
  },
  {
   "cell_type": "code",
   "execution_count": 83,
   "id": "focused-princeton",
   "metadata": {},
   "outputs": [],
   "source": [
    "# importing required modules\n",
    "from selenium import webdriver\n",
    "from selenium.webdriver.common.keys import Keys\n",
    "from selenium.webdriver.common.by import By\n",
    "from selenium.webdriver.chrome.options import Options\n",
    "import time \n",
    "import json"
   ]
  },
  {
   "cell_type": "code",
   "execution_count": 89,
   "id": "soviet-czech",
   "metadata": {},
   "outputs": [],
   "source": [
    "def delete_element(driver, element):\n",
    "    \"\"\"\n",
    "    This method will be used to delete the element form a web page.\n",
    "    \"\"\"\n",
    "    \n",
    "    driver.execute_script(\"\"\"\n",
    "                            var element = arguments[0];\n",
    "                            element.parentNode.removeChild(element);\n",
    "                            \"\"\", element)"
   ]
  },
  {
   "cell_type": "code",
   "execution_count": 90,
   "id": "committed-brook",
   "metadata": {},
   "outputs": [],
   "source": [
    "elements = {'forkongithub':(By.ID, 'forkongithub'),\n",
    "           'main-nav':(By.CLASS_NAME, 'main-nav'),\n",
    "            'related':(By.CLASS_NAME, 'related'),\n",
    "            'sphinxsidebar':(By.CLASS_NAME, 'sphinxsidebar')\n",
    "           }"
   ]
  },
  {
   "cell_type": "code",
   "execution_count": 107,
   "id": "related-discrimination",
   "metadata": {},
   "outputs": [],
   "source": [
    "\n",
    "appState = {\"recentDestinations\": [{\"id\": \"Save as PDF\", \"origin\": \"local\", \"account\": \"\"}],\n",
    "            \"selectedDestinationId\": \"Save as PDF\",\n",
    "            \"version\": 2,\n",
    "            \"isHeaderFooterEnabled\": False,\n",
    "            \"isLandscapeEnabled\": True,\n",
    "            \"scalingType\": 3,\n",
    "            \"scaling\": \"141\"}\n",
    "\n",
    "prefs = {'printing.print_preview_sticky_settings.appState': json.dumps(appState)}\n",
    "chrome_options = webdriver.ChromeOptions()\n",
    "chrome_options.add_experimental_option('prefs', prefs)\n",
    "chrome_options.add_argument('kiosk-printing')"
   ]
  },
  {
   "cell_type": "code",
   "execution_count": 108,
   "id": "arctic-interim",
   "metadata": {},
   "outputs": [
    {
     "name": "stdout",
     "output_type": "stream",
     "text": [
      "Writing documentation — Matplotlib 3.4.2 documentation\n"
     ]
    }
   ],
   "source": [
    "# Now we will selecet our driver for now we will use only google chromedriver\n",
    "driver = webdriver.Chrome(executable_path=\"C:\\WorkData\\Programming\\chromedriver_win32\\chromedriver.exe\")\n",
    "driver.get(\"https://matplotlib.org/stable/devel/documenting_mpl.html\")\n",
    "print(driver.title)\n",
    "# driver.close()\n",
    "time.sleep(2)\n",
    "for item , key in elements.items():\n",
    "    \n",
    "    ele = driver.find_element(key[0], key[1])\n",
    "    \n",
    "    delete_element(driver, ele)\n",
    "    \n",
    "script1 = 'document.styleSheets[1].insertRule(\" div.bodywrapper {margin: 0px 0px 0px 0px;}\", 0 )'\n",
    "script2 = 'document.styleSheets[1].insertRule(\".body {min-width:1100px; max-width:1500px; font-size:17px}\", 0 )' \n",
    "driver.execute_script(script1)\n",
    "driver.execute_script(script2)\n",
    "driver.execute_script('window.print();')"
   ]
  },
  {
   "cell_type": "markdown",
   "id": "structural-romantic",
   "metadata": {},
   "source": [
    "**deleting an element**"
   ]
  },
  {
   "cell_type": "markdown",
   "id": "therapeutic-surname",
   "metadata": {},
   "source": [
    "```ruby\n",
    "ele = driver.find_element_by_xpath(xpath=\"/html/body/div[1]/div[2]\")\n",
    "driver.execute_script(\"\"\"\n",
    "var element = arguments[0];\n",
    "element.parentNode.removeChild(element);\n",
    "\"\"\", ele)\n",
    "```"
   ]
  },
  {
   "cell_type": "code",
   "execution_count": 47,
   "id": "widespread-elevation",
   "metadata": {},
   "outputs": [
    {
     "name": "stdout",
     "output_type": "stream",
     "text": [
      "element found:  <selenium.webdriver.remote.webelement.WebElement (session=\"d4f80472b103dfcfad7c5e74ceedabf1\", element=\"7de631a4-28e3-4837-b8ce-38cecfd216d7\")>\n"
     ]
    }
   ],
   "source": [
    "driver = webdriver.Chrome(executable_path=\"C:\\WorkData\\Programming\\chromedriver_win32\\chromedriver.exe\")\n",
    "driver.get(\"https://matplotlib.org/stable/devel/documenting_mpl.html\")\n",
    "\n",
    "ele = driver.find_element_by_class_name('body')\n",
    "print(\"element found: \",ele)\n",
    "script1 = 'document.styleSheets[0].insertRule(\" div.bodywrapper {margin: 0px}\", 0 )'\n",
    "script2 = 'document.styleSheets[0].insertRule(\".body {min-width:1200px; max-width:1500px; font-size:18px}\", 0 )' \n",
    "driver.execute_script(script1)\n",
    "driver.execute_script(script2)"
   ]
  },
  {
   "cell_type": "code",
   "execution_count": 13,
   "id": "square-husband",
   "metadata": {},
   "outputs": [
    {
     "data": {
      "text/plain": [
       "\u001b[1;31mSignature:\u001b[0m \u001b[0mdriver\u001b[0m\u001b[1;33m.\u001b[0m\u001b[0mexecute_script\u001b[0m\u001b[1;33m(\u001b[0m\u001b[0mscript\u001b[0m\u001b[1;33m,\u001b[0m \u001b[1;33m*\u001b[0m\u001b[0margs\u001b[0m\u001b[1;33m)\u001b[0m\u001b[1;33m\u001b[0m\u001b[1;33m\u001b[0m\u001b[0m\n",
       "\u001b[1;31mDocstring:\u001b[0m\n",
       "Synchronously Executes JavaScript in the current window/frame.\n",
       "\n",
       ":Args:\n",
       " - script: The JavaScript to execute.\n",
       " - \\*args: Any applicable arguments for your JavaScript.\n",
       "\n",
       ":Usage:\n",
       "    driver.execute_script('return document.title;')\n",
       "\u001b[1;31mFile:\u001b[0m      c:\\python\\python38\\lib\\site-packages\\selenium\\webdriver\\remote\\webdriver.py\n",
       "\u001b[1;31mType:\u001b[0m      method\n"
      ]
     },
     "metadata": {},
     "output_type": "display_data"
    }
   ],
   "source": [
    "driver.execute_script?"
   ]
  },
  {
   "cell_type": "code",
   "execution_count": 70,
   "id": "acceptable-duncan",
   "metadata": {},
   "outputs": [
    {
     "data": {
      "text/plain": [
       "<property at 0x1ab583bad10>"
      ]
     },
     "execution_count": 70,
     "metadata": {},
     "output_type": "execute_result"
    }
   ],
   "source": [
    "Options.experimental_options."
   ]
  },
  {
   "cell_type": "code",
   "execution_count": 72,
   "id": "realistic-place",
   "metadata": {},
   "outputs": [],
   "source": [
    "op =  webdriver.ChromeOptions()"
   ]
  },
  {
   "cell_type": "code",
   "execution_count": 73,
   "id": "senior-yemen",
   "metadata": {},
   "outputs": [
    {
     "data": {
      "text/plain": [
       "<selenium.webdriver.chrome.options.Options at 0x1ab5ac95340>"
      ]
     },
     "execution_count": 73,
     "metadata": {},
     "output_type": "execute_result"
    }
   ],
   "source": [
    "op."
   ]
  },
  {
   "cell_type": "code",
   "execution_count": 96,
   "id": "maritime-arrangement",
   "metadata": {},
   "outputs": [
    {
     "data": {
      "text/plain": [
       "{'prefs': {'printing.print_preview_sticky_settings.appState': '{\"appState\": {\"recentDestinations\": [{\"id\": \"Save as PDF\", \"origin\": \"local\", \"account\": \"\"}], \"selectedDestinationId\": \"Save as PDF\", \"version\": 2, \"isGcpPromoDismissed\": false, \"Destination\": \"Save as PDF\"}}'}}"
      ]
     },
     "execution_count": 96,
     "metadata": {},
     "output_type": "execute_result"
    }
   ],
   "source": [
    "chrome_options.experimental_options"
   ]
  },
  {
   "cell_type": "code",
   "execution_count": 98,
   "id": "retained-lingerie",
   "metadata": {},
   "outputs": [
    {
     "data": {
      "text/plain": [
       "''"
      ]
     },
     "execution_count": 98,
     "metadata": {},
     "output_type": "execute_result"
    }
   ],
   "source": [
    "chrome_options.binary_location"
   ]
  },
  {
   "cell_type": "code",
   "execution_count": null,
   "id": "indonesian-screening",
   "metadata": {},
   "outputs": [],
   "source": []
  }
 ],
 "metadata": {
  "kernelspec": {
   "display_name": "Python 3",
   "language": "python",
   "name": "python3"
  },
  "language_info": {
   "codemirror_mode": {
    "name": "ipython",
    "version": 3
   },
   "file_extension": ".py",
   "mimetype": "text/x-python",
   "name": "python",
   "nbconvert_exporter": "python",
   "pygments_lexer": "ipython3",
   "version": "3.8.3"
  }
 },
 "nbformat": 4,
 "nbformat_minor": 5
}
