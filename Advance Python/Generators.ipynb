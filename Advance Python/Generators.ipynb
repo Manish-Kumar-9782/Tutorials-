{
 "cells": [
  {
   "cell_type": "markdown",
   "id": "naughty-livestock",
   "metadata": {},
   "source": [
    "# Generators\n",
    "\n",
    "* Generators are basically special kind of function which contains yield keyword instead of the return keyword, these are basically lazy iterator are used as the itarator just like other iterable like list, tuple, set and arrays.\n",
    "\n",
    "* The basic use of the generators is that they don;t hold all the database at once they only give us some amount of data at a time , and the advantage of this is that we can do on large amount data in less memory with generators"
   ]
  },
  {
   "cell_type": "markdown",
   "id": "residential-leeds",
   "metadata": {},
   "source": [
    "## Making generators by defining method"
   ]
  },
  {
   "cell_type": "code",
   "execution_count": 2,
   "id": "suspected-athletics",
   "metadata": {},
   "outputs": [],
   "source": [
    "# Now we will make a afunction in which we will use yield insted of the return\n",
    "def my_func():\n",
    "    \n",
    "    str_1 = \"Hello world\"\n",
    "    str_2 = \"Hello world again\"\n",
    "    \n",
    "    # Now we will use yield\n",
    "    yield str_1\n",
    "    yield str_2"
   ]
  },
  {
   "cell_type": "code",
   "execution_count": 4,
   "id": "external-punch",
   "metadata": {},
   "outputs": [
    {
     "data": {
      "text/plain": [
       "<generator object my_func at 0x00000217699A1890>"
      ]
     },
     "execution_count": 4,
     "metadata": {},
     "output_type": "execute_result"
    }
   ],
   "source": [
    "# Now if we inspect this fuction then we will get that this is generator\n",
    "my_func()"
   ]
  },
  {
   "cell_type": "markdown",
   "id": "greek-ferry",
   "metadata": {},
   "source": [
    "Now you can see that this is generator object , in which it yield an object at a time and suspends the function untill next call, we can call the next by using the `next()` method of we can use the for loop or a while loop to call this method."
   ]
  },
  {
   "cell_type": "code",
   "execution_count": 9,
   "id": "convinced-thomson",
   "metadata": {},
   "outputs": [],
   "source": [
    "# before using the generator we will store it in another variable\n",
    "gen = my_func()\n",
    "# Now after creating the gen we can use this gen by calling next method or in a for loop"
   ]
  },
  {
   "cell_type": "code",
   "execution_count": 10,
   "id": "cooked-rhythm",
   "metadata": {},
   "outputs": [
    {
     "data": {
      "text/plain": [
       "'Hello world'"
      ]
     },
     "execution_count": 10,
     "metadata": {},
     "output_type": "execute_result"
    }
   ],
   "source": [
    "# getting the first object or value by using the next method\n",
    "next(gen)"
   ]
  },
  {
   "cell_type": "markdown",
   "id": "possible-american",
   "metadata": {},
   "source": [
    "Now if you can see that we have put two yield statement but only one of them is called, this is because yield statement will suspend the function execution after executing the yield. When the function is suspended, the state of the functionis saved."
   ]
  },
  {
   "cell_type": "code",
   "execution_count": 11,
   "id": "central-hungary",
   "metadata": {},
   "outputs": [
    {
     "data": {
      "text/plain": [
       "'Hello world again'"
      ]
     },
     "execution_count": 11,
     "metadata": {},
     "output_type": "execute_result"
    }
   ],
   "source": [
    "# Now if we call this my_func method by using the next method then it will return the \"Hello world again\" \n",
    "next(gen)"
   ]
  },
  {
   "cell_type": "markdown",
   "id": "derived-binary",
   "metadata": {},
   "source": [
    "Now you can see that this time it yielded the second string as we expected. So, Now we will see that how it is usefull over the list or any other iterable which holds all the data in once."
   ]
  },
  {
   "cell_type": "markdown",
   "id": "lesbian-capability",
   "metadata": {},
   "source": [
    "## Creaging a generator by using genxpr."
   ]
  },
  {
   "cell_type": "code",
   "execution_count": 19,
   "id": "noticed-adaptation",
   "metadata": {},
   "outputs": [],
   "source": [
    "# We can also create the  generator with the help of tuple comprehensive or we can say gen expression.\n",
    "# Now if we make a list with 100 item and also we make a gen with same item then we will compare the size of the object\n",
    "list_obj = [i for i in range(100)]\n",
    "gen_obj = (i for i in range(100))"
   ]
  },
  {
   "cell_type": "code",
   "execution_count": 16,
   "id": "talented-happening",
   "metadata": {},
   "outputs": [
    {
     "name": "stdout",
     "output_type": "stream",
     "text": [
      "size of the list:  904\n",
      "size of the gen:  112\n"
     ]
    }
   ],
   "source": [
    "# Now if we compare the size of the object by using the sys.sizeof()\n",
    "import sys\n",
    "print(\"size of the list: \", sys.getsizeof(list_obj))\n",
    "print(\"size of the gen: \", sys.getsizeof(gen_obj))"
   ]
  },
  {
   "cell_type": "markdown",
   "id": "continental-georgia",
   "metadata": {},
   "source": [
    "As you can see that there is a houge difference in the memory of the object, this difference is because gen don't holds all the values at the same time while executing but the list holds all the value at once that's why list are not usable while handling the large amount of data.\n",
    " \n",
    "In this kind of situation we need to use the generators to handle the large amount of data. Now if we use the loop on the gen obj."
   ]
  },
  {
   "cell_type": "code",
   "execution_count": 20,
   "id": "homeless-facility",
   "metadata": {},
   "outputs": [
    {
     "name": "stdout",
     "output_type": "stream",
     "text": [
      "0,1,2,3,4,5,6,7,8,9,10,11,12,13,14,15,16,17,18,19,20,21,22,23,24,25,26,27,28,29,30,31,32,33,34,35,36,37,38,39,40,41,42,43,44,45,46,47,48,49,50,51,52,53,54,55,56,57,58,59,60,61,62,63,64,65,66,67,68,69,70,71,72,73,74,75,76,77,78,79,80,81,82,83,84,85,86,87,88,89,90,91,92,93,94,95,96,97,98,99,"
     ]
    }
   ],
   "source": [
    "for i in gen_obj:\n",
    "    print(i, end=',')"
   ]
  },
  {
   "cell_type": "code",
   "execution_count": 22,
   "id": "separate-withdrawal",
   "metadata": {},
   "outputs": [
    {
     "ename": "StopIteration",
     "evalue": "",
     "output_type": "error",
     "traceback": [
      "\u001b[1;31m---------------------------------------------------------------------------\u001b[0m",
      "\u001b[1;31mStopIteration\u001b[0m                             Traceback (most recent call last)",
      "\u001b[1;32m<ipython-input-22-208630c39d29>\u001b[0m in \u001b[0;36m<module>\u001b[1;34m\u001b[0m\n\u001b[0;32m      1\u001b[0m \u001b[1;31m# and now if we use the next method on the gen_obj it will raise Exeption \"StopItertion\"\u001b[0m\u001b[1;33m\u001b[0m\u001b[1;33m\u001b[0m\u001b[1;33m\u001b[0m\u001b[0m\n\u001b[0;32m      2\u001b[0m \u001b[1;31m# because there is no element remaining in the gen_obj.\u001b[0m\u001b[1;33m\u001b[0m\u001b[1;33m\u001b[0m\u001b[1;33m\u001b[0m\u001b[0m\n\u001b[1;32m----> 3\u001b[1;33m \u001b[0mnext\u001b[0m\u001b[1;33m(\u001b[0m\u001b[0mgen_obj\u001b[0m\u001b[1;33m)\u001b[0m\u001b[1;33m\u001b[0m\u001b[1;33m\u001b[0m\u001b[0m\n\u001b[0m",
      "\u001b[1;31mStopIteration\u001b[0m: "
     ]
    }
   ],
   "source": [
    "# and now if we use the next method on the gen_obj it will raise Exeption \"StopItertion\"\n",
    "# because there is no element remaining in the gen_obj.\n",
    "next(gen_obj)"
   ]
  },
  {
   "cell_type": "markdown",
   "id": "ongoing-sound",
   "metadata": {},
   "source": [
    "Note: if we use the generator with for loop then we will not get any `StopIteration` Error because it will handle the error itself but in case of `while loop` and `next()` method we need to handle the execption by manually."
   ]
  },
  {
   "cell_type": "markdown",
   "id": "dying-offset",
   "metadata": {},
   "source": [
    "## Advance generator methods"
   ]
  },
  {
   "cell_type": "markdown",
   "id": "sustainable-cutting",
   "metadata": {},
   "source": [
    "Until now we have seen a normal generator which uses only a yield keyword but a generator can alos use some special methods like `.send(), .throw(), .close()`"
   ]
  },
  {
   "cell_type": "markdown",
   "id": "vocal-mills",
   "metadata": {},
   "source": [
    "### Using .send() method\n",
    "\n",
    "To explain the .send() method working principle we will use a inifinite sequence generator with some filtering. for that we will use `palindrome_detector`\n",
    "it will filter all the value which are same in read from both sides (left and right). for that first of all we need to make a palindrom method."
   ]
  },
  {
   "cell_type": "code",
   "execution_count": 25,
   "id": "happy-correspondence",
   "metadata": {},
   "outputs": [],
   "source": [
    "# Making a palindrom detector which will filter all the palindrom values.\n",
    "def is_palindrom(num):\n",
    "    \"\"\"\n",
    "    num: number which is need to check that it is a palindrom or not.\n",
    "    \"\"\"\n",
    "    \n",
    "    if num // 10 == 0:\n",
    "        return False\n",
    "    \n",
    "    temp = num\n",
    "    reversed_num = 0\n",
    "    \n",
    "    while temp != 0:\n",
    "        reversed_num = (reversed_num * 10) + (temp % 10)\n",
    "        temp = temp // 10\n",
    "        \n",
    "    if num == reversed_num:\n",
    "        return True\n",
    "    else:\n",
    "        return False"
   ]
  },
  {
   "cell_type": "code",
   "execution_count": 26,
   "id": "surface-southeast",
   "metadata": {},
   "outputs": [
    {
     "name": "stdout",
     "output_type": "stream",
     "text": [
      "True\n"
     ]
    }
   ],
   "source": [
    "# Now we will test 1221 is a palindrom or not\n",
    "print(is_palindrom(1221))"
   ]
  },
  {
   "cell_type": "markdown",
   "id": "recorded-anime",
   "metadata": {},
   "source": [
    "Now we can see that it is returning True because our number is a palindrom number now we will generate 100 palindrom number from 0."
   ]
  },
  {
   "cell_type": "code",
   "execution_count": 34,
   "id": "first-flooring",
   "metadata": {},
   "outputs": [],
   "source": [
    "# to generate finite or infinite palindrom, we will make another method \n",
    "def palindroms():\n",
    "    num = 0\n",
    "    \n",
    "    while True:\n",
    "        if is_palindrom(num):\n",
    "            i = yield num    # here you can see that here we have assigned i with the value of yield num\n",
    "            # it means the yield is sending num to i variable now this i value can be handled outside the gen by using \n",
    "            # the send() method on the gen object.\n",
    "            \n",
    "            # This allows you to manipulate the yielded value. More importantly, it allows you to .send() as value back to genertor. \n",
    "            # when execution picks up after yield, i wil take the value that is sent.\n",
    "            if i is not None:\n",
    "                print(\"\\nINFO In Gen: getting back i form the send method: \", i)\n",
    "                num = i\n",
    "        num +=1"
   ]
  },
  {
   "cell_type": "code",
   "execution_count": 35,
   "id": "average-backing",
   "metadata": {},
   "outputs": [
    {
     "name": "stdout",
     "output_type": "stream",
     "text": [
      "INFO outside to gen: getting form gen:  11\n",
      "next i will be in digits:  3\n",
      "\n",
      "INFO In Gen: getting back i form the send method:  100\n",
      "INFO outside to gen: getting form gen:  111\n",
      "next i will be in digits:  4\n",
      "\n",
      "INFO In Gen: getting back i form the send method:  1000\n",
      "INFO outside to gen: getting form gen:  1111\n",
      "next i will be in digits:  5\n",
      "\n",
      "INFO In Gen: getting back i form the send method:  10000\n"
     ]
    }
   ],
   "source": [
    "# Now we will intiate the generator object in a variable so we can use it :\n",
    "gen = palindroms()\n",
    "for i in gen:\n",
    "    print(\"INFO outside to gen: getting form gen: \", i)\n",
    "    # here i is the value which is yielded from the generator.\n",
    "    digits = len(str(i)) # getting the length of the digits\n",
    "    print('next i will be in digits: ', digits+1)\n",
    "    gen.send(10**digits)  # this will sent back to the i variable which is defined in the generator.\n",
    "    if i > 1000:\n",
    "        break"
   ]
  },
  {
   "cell_type": "markdown",
   "id": "original-gauge",
   "metadata": {},
   "source": [
    "NOw you can see that we  can manipulate the yielded value and from outside the genertor and we can send it in the generator again, and also there we can manipulate the value. \n",
    "\n",
    "In general we can get some information, value, object or instance after yielded an object or a value it can be helpful in various situation. when we want to put some restriction or some kind of logic before yielding another object from the generator."
   ]
  },
  {
   "cell_type": "markdown",
   "id": "charming-switch",
   "metadata": {},
   "source": [
    "### Using .throw() method\n",
    "it allows you to throw exception with the generator. if we write the above code with an additional line to produce some exception."
   ]
  },
  {
   "cell_type": "code",
   "execution_count": 39,
   "id": "classical-skiing",
   "metadata": {},
   "outputs": [
    {
     "name": "stdout",
     "output_type": "stream",
     "text": [
      "INFO outside to gen: getting form gen:  11\n",
      "next i will be in digits:  3\n",
      "\n",
      "INFO In Gen: getting back i form the send method:  100\n",
      "INFO outside to gen: getting form gen:  111\n",
      "next i will be in digits:  4\n",
      "\n",
      "INFO In Gen: getting back i form the send method:  1000\n",
      "INFO outside to gen: getting form gen:  1111\n",
      "next i will be in digits:  5\n",
      "\n",
      "INFO In Gen: getting back i form the send method:  10000\n",
      "INFO outside to gen: getting form gen:  10101\n",
      "next i will be in digits:  6\n"
     ]
    },
    {
     "ename": "ValueError",
     "evalue": "can't generate greater then 5 digits palindrom",
     "output_type": "error",
     "traceback": [
      "\u001b[1;31m---------------------------------------------------------------------------\u001b[0m",
      "\u001b[1;31mValueError\u001b[0m                                Traceback (most recent call last)",
      "\u001b[1;32m<ipython-input-39-76b19d00820c>\u001b[0m in \u001b[0;36m<module>\u001b[1;34m\u001b[0m\n\u001b[0;32m      7\u001b[0m     \u001b[0mprint\u001b[0m\u001b[1;33m(\u001b[0m\u001b[1;34m'next i will be in digits: '\u001b[0m\u001b[1;33m,\u001b[0m \u001b[0mdigits\u001b[0m\u001b[1;33m+\u001b[0m\u001b[1;36m1\u001b[0m\u001b[1;33m)\u001b[0m\u001b[1;33m\u001b[0m\u001b[1;33m\u001b[0m\u001b[0m\n\u001b[0;32m      8\u001b[0m     \u001b[1;32mif\u001b[0m \u001b[0mdigits\u001b[0m \u001b[1;33m==\u001b[0m \u001b[1;36m5\u001b[0m\u001b[1;33m:\u001b[0m\u001b[1;33m\u001b[0m\u001b[1;33m\u001b[0m\u001b[0m\n\u001b[1;32m----> 9\u001b[1;33m         \u001b[0mgen\u001b[0m\u001b[1;33m.\u001b[0m\u001b[0mthrow\u001b[0m\u001b[1;33m(\u001b[0m\u001b[0mValueError\u001b[0m\u001b[1;33m(\u001b[0m\u001b[1;34m\"can't generate greater then 5 digits palindrom\"\u001b[0m\u001b[1;33m)\u001b[0m\u001b[1;33m)\u001b[0m\u001b[1;33m\u001b[0m\u001b[1;33m\u001b[0m\u001b[0m\n\u001b[0m\u001b[0;32m     10\u001b[0m     \u001b[0mgen\u001b[0m\u001b[1;33m.\u001b[0m\u001b[0msend\u001b[0m\u001b[1;33m(\u001b[0m\u001b[1;36m10\u001b[0m\u001b[1;33m**\u001b[0m\u001b[0mdigits\u001b[0m\u001b[1;33m)\u001b[0m  \u001b[1;31m# this will sent back to the i variable which is defined in the generator.\u001b[0m\u001b[1;33m\u001b[0m\u001b[1;33m\u001b[0m\u001b[0m\n\u001b[0;32m     11\u001b[0m \u001b[1;33m\u001b[0m\u001b[0m\n",
      "\u001b[1;32m<ipython-input-34-32e0ea21665e>\u001b[0m in \u001b[0;36mpalindroms\u001b[1;34m()\u001b[0m\n\u001b[0;32m      5\u001b[0m     \u001b[1;32mwhile\u001b[0m \u001b[1;32mTrue\u001b[0m\u001b[1;33m:\u001b[0m\u001b[1;33m\u001b[0m\u001b[1;33m\u001b[0m\u001b[0m\n\u001b[0;32m      6\u001b[0m         \u001b[1;32mif\u001b[0m \u001b[0mis_palindrom\u001b[0m\u001b[1;33m(\u001b[0m\u001b[0mnum\u001b[0m\u001b[1;33m)\u001b[0m\u001b[1;33m:\u001b[0m\u001b[1;33m\u001b[0m\u001b[1;33m\u001b[0m\u001b[0m\n\u001b[1;32m----> 7\u001b[1;33m             \u001b[0mi\u001b[0m \u001b[1;33m=\u001b[0m \u001b[1;32myield\u001b[0m \u001b[0mnum\u001b[0m    \u001b[1;31m# here you can see that here we have assigned i with the value of yield num\u001b[0m\u001b[1;33m\u001b[0m\u001b[1;33m\u001b[0m\u001b[0m\n\u001b[0m\u001b[0;32m      8\u001b[0m             \u001b[1;31m# it means the yield is sending num to i variable now this i value can be handled outside the gen by using\u001b[0m\u001b[1;33m\u001b[0m\u001b[1;33m\u001b[0m\u001b[1;33m\u001b[0m\u001b[0m\n\u001b[0;32m      9\u001b[0m             \u001b[1;31m# the send() method on the gen object.\u001b[0m\u001b[1;33m\u001b[0m\u001b[1;33m\u001b[0m\u001b[1;33m\u001b[0m\u001b[0m\n",
      "\u001b[1;31mValueError\u001b[0m: can't generate greater then 5 digits palindrom"
     ]
    }
   ],
   "source": [
    "# Now we will intiate the generator object in a variable so we can use it :\n",
    "gen = palindroms()\n",
    "for i in gen:\n",
    "    print(\"INFO outside to gen: getting form gen: \", i)\n",
    "    # here i is the value which is yielded from the generator.\n",
    "    digits = len(str(i)) # getting the length of the digits\n",
    "    print('next i will be in digits: ', digits+1)\n",
    "    if digits == 5:\n",
    "        gen.throw(ValueError(\"can't generate greater then 5 digits palindrom\"))\n",
    "    gen.send(10**digits)  # this will sent back to the i variable which is defined in the generator.\n",
    "    "
   ]
  },
  {
   "cell_type": "markdown",
   "id": "written-purse",
   "metadata": {},
   "source": [
    "Throw method can be useful while generating infinite sequence and we want to break the loop with some exception condition then throw can be useful."
   ]
  },
  {
   "cell_type": "markdown",
   "id": "tracked-electron",
   "metadata": {},
   "source": [
    "### Using .close() method"
   ]
  },
  {
   "cell_type": "markdown",
   "id": "binding-jurisdiction",
   "metadata": {},
   "source": [
    "close method is similar to the .throw() method it also help us to close the loop in a particular condition (if we set that) and it stops the loop with StopIteration Excetption. \n",
    "\n",
    "Now if we replace our .throw() method with .close() method then our gen will stop with an StopIteration Exception."
   ]
  },
  {
   "cell_type": "code",
   "execution_count": 40,
   "id": "complex-pearl",
   "metadata": {},
   "outputs": [
    {
     "name": "stdout",
     "output_type": "stream",
     "text": [
      "INFO outside to gen: getting form gen:  11\n",
      "next i will be in digits:  3\n",
      "\n",
      "INFO In Gen: getting back i form the send method:  100\n",
      "INFO outside to gen: getting form gen:  111\n",
      "next i will be in digits:  4\n",
      "\n",
      "INFO In Gen: getting back i form the send method:  1000\n",
      "INFO outside to gen: getting form gen:  1111\n",
      "next i will be in digits:  5\n",
      "\n",
      "INFO In Gen: getting back i form the send method:  10000\n",
      "INFO outside to gen: getting form gen:  10101\n",
      "next i will be in digits:  6\n"
     ]
    },
    {
     "ename": "StopIteration",
     "evalue": "",
     "output_type": "error",
     "traceback": [
      "\u001b[1;31m---------------------------------------------------------------------------\u001b[0m",
      "\u001b[1;31mStopIteration\u001b[0m                             Traceback (most recent call last)",
      "\u001b[1;32m<ipython-input-40-8b43d5100ca3>\u001b[0m in \u001b[0;36m<module>\u001b[1;34m\u001b[0m\n\u001b[0;32m      8\u001b[0m     \u001b[1;32mif\u001b[0m \u001b[0mdigits\u001b[0m \u001b[1;33m==\u001b[0m \u001b[1;36m5\u001b[0m\u001b[1;33m:\u001b[0m\u001b[1;33m\u001b[0m\u001b[1;33m\u001b[0m\u001b[0m\n\u001b[0;32m      9\u001b[0m         \u001b[0mgen\u001b[0m\u001b[1;33m.\u001b[0m\u001b[0mclose\u001b[0m\u001b[1;33m(\u001b[0m\u001b[1;33m)\u001b[0m\u001b[1;33m\u001b[0m\u001b[1;33m\u001b[0m\u001b[0m\n\u001b[1;32m---> 10\u001b[1;33m     \u001b[0mgen\u001b[0m\u001b[1;33m.\u001b[0m\u001b[0msend\u001b[0m\u001b[1;33m(\u001b[0m\u001b[1;36m10\u001b[0m\u001b[1;33m**\u001b[0m\u001b[0mdigits\u001b[0m\u001b[1;33m)\u001b[0m  \u001b[1;31m# this will sent back to the i variable which is defined in the generator.\u001b[0m\u001b[1;33m\u001b[0m\u001b[1;33m\u001b[0m\u001b[0m\n\u001b[0m\u001b[0;32m     11\u001b[0m \u001b[1;33m\u001b[0m\u001b[0m\n",
      "\u001b[1;31mStopIteration\u001b[0m: "
     ]
    }
   ],
   "source": [
    "# Now we will intiate the generator object in a variable so we can use it :\n",
    "gen = palindroms()\n",
    "for i in gen:\n",
    "    print(\"INFO outside to gen: getting form gen: \", i)\n",
    "    # here i is the value which is yielded from the generator.\n",
    "    digits = len(str(i)) # getting the length of the digits\n",
    "    print('next i will be in digits: ', digits+1)\n",
    "    if digits == 5:\n",
    "        gen.close()\n",
    "    gen.send(10**digits)  # this will sent back to the i variable which is defined in the generator.\n",
    "    "
   ]
  },
  {
   "cell_type": "markdown",
   "id": "bizarre-strain",
   "metadata": {},
   "source": [
    "As you can see that we have stopped the iteration with StopIteration , because it uses the StopIteration Exception and if we want to use different Exception then we need to use the .throw() method."
   ]
  },
  {
   "cell_type": "markdown",
   "id": "weekly-coaching",
   "metadata": {},
   "source": [
    "___"
   ]
  },
  {
   "cell_type": "markdown",
   "id": "studied-weather",
   "metadata": {},
   "source": [
    "## Creating Data Pipelines With Generators\n",
    "Data pipelines allows you tho string together code to process large datasets or streams of data without maxing out your machine's memory. Here we will use a Timer_Data.csv which is not large but we can use any large dataset ."
   ]
  },
  {
   "cell_type": "code",
   "execution_count": 42,
   "id": "composite-denial",
   "metadata": {},
   "outputs": [],
   "source": [
    "# first of all we will see that how our dataset looks like with the help of the pandas\n",
    "import pandas as pd"
   ]
  },
  {
   "cell_type": "code",
   "execution_count": 43,
   "id": "revolutionary-lodge",
   "metadata": {},
   "outputs": [],
   "source": [
    "data = pd.read_csv('Timer_Data.csv')"
   ]
  },
  {
   "cell_type": "code",
   "execution_count": 45,
   "id": "adopted-roberts",
   "metadata": {},
   "outputs": [
    {
     "data": {
      "text/html": [
       "<div>\n",
       "<style scoped>\n",
       "    .dataframe tbody tr th:only-of-type {\n",
       "        vertical-align: middle;\n",
       "    }\n",
       "\n",
       "    .dataframe tbody tr th {\n",
       "        vertical-align: top;\n",
       "    }\n",
       "\n",
       "    .dataframe thead th {\n",
       "        text-align: right;\n",
       "    }\n",
       "</style>\n",
       "<table border=\"1\" class=\"dataframe\">\n",
       "  <thead>\n",
       "    <tr style=\"text-align: right;\">\n",
       "      <th></th>\n",
       "      <th>Record Type</th>\n",
       "      <th>Record Name</th>\n",
       "      <th>Record Topic</th>\n",
       "      <th>Record SubTopic</th>\n",
       "      <th>Date</th>\n",
       "      <th>Start Time</th>\n",
       "      <th>TTime</th>\n",
       "      <th>CTime</th>\n",
       "      <th>End Time</th>\n",
       "      <th>ETime</th>\n",
       "      <th>Total Time</th>\n",
       "      <th>Restart-1</th>\n",
       "      <th>R1-Start Time</th>\n",
       "      <th>R1-CTime</th>\n",
       "      <th>R1-End Time</th>\n",
       "      <th>R1-ETime</th>\n",
       "    </tr>\n",
       "  </thead>\n",
       "  <tbody>\n",
       "    <tr>\n",
       "      <th>0</th>\n",
       "      <td>Activity</td>\n",
       "      <td>Timer</td>\n",
       "      <td>Testing</td>\n",
       "      <td>Total time</td>\n",
       "      <td>02-Jun-21</td>\n",
       "      <td>5:54:51 PM</td>\n",
       "      <td>00:01:00</td>\n",
       "      <td>00:01:00</td>\n",
       "      <td>5:56:06 PM</td>\n",
       "      <td>00:00:14</td>\n",
       "      <td>75</td>\n",
       "      <td>NaN</td>\n",
       "      <td>NaN</td>\n",
       "      <td>NaN</td>\n",
       "      <td>NaN</td>\n",
       "      <td>NaN</td>\n",
       "    </tr>\n",
       "    <tr>\n",
       "      <th>1</th>\n",
       "      <td>Activity</td>\n",
       "      <td>Timer</td>\n",
       "      <td>Save countdown time</td>\n",
       "      <td>testing</td>\n",
       "      <td>02-Jun-21</td>\n",
       "      <td>6:59:08 PM</td>\n",
       "      <td>00:01:00</td>\n",
       "      <td>00:01:00</td>\n",
       "      <td>7:00:30 PM</td>\n",
       "      <td>00:00:20</td>\n",
       "      <td>153</td>\n",
       "      <td>00:01:00</td>\n",
       "      <td>7:00:30 PM</td>\n",
       "      <td>00:01:00</td>\n",
       "      <td>7:01:44 PM</td>\n",
       "      <td>00:00:11</td>\n",
       "    </tr>\n",
       "    <tr>\n",
       "      <th>2</th>\n",
       "      <td>Activity</td>\n",
       "      <td>Timer</td>\n",
       "      <td>Countdown</td>\n",
       "      <td>Test Saving timer</td>\n",
       "      <td>02-Jun-21</td>\n",
       "      <td>7:03:19 PM</td>\n",
       "      <td>00:01:00</td>\n",
       "      <td>00:01:00</td>\n",
       "      <td>7:04:25 PM</td>\n",
       "      <td>00:00:04</td>\n",
       "      <td>65</td>\n",
       "      <td>NaN</td>\n",
       "      <td>NaN</td>\n",
       "      <td>NaN</td>\n",
       "      <td>NaN</td>\n",
       "      <td>NaN</td>\n",
       "    </tr>\n",
       "    <tr>\n",
       "      <th>3</th>\n",
       "      <td>Activity</td>\n",
       "      <td>Testing</td>\n",
       "      <td>testing time</td>\n",
       "      <td>Saving time</td>\n",
       "      <td>03-Jun-2021</td>\n",
       "      <td>11:34:42 AM</td>\n",
       "      <td>00:01:00</td>\n",
       "      <td>00:01:00</td>\n",
       "      <td>11:36:26 AM</td>\n",
       "      <td>00:00:43</td>\n",
       "      <td>103</td>\n",
       "      <td>NaN</td>\n",
       "      <td>NaN</td>\n",
       "      <td>NaN</td>\n",
       "      <td>NaN</td>\n",
       "      <td>NaN</td>\n",
       "    </tr>\n",
       "    <tr>\n",
       "      <th>4</th>\n",
       "      <td>Activity</td>\n",
       "      <td>Recording ACtivity</td>\n",
       "      <td>Fresh</td>\n",
       "      <td>Test Saving Time</td>\n",
       "      <td>03-Jun-2021</td>\n",
       "      <td>11:42:26 AM</td>\n",
       "      <td>00:5:00</td>\n",
       "      <td>00:05:00</td>\n",
       "      <td>11:54:52 AM</td>\n",
       "      <td>NaN</td>\n",
       "      <td>746</td>\n",
       "      <td>NaN</td>\n",
       "      <td>NaN</td>\n",
       "      <td>NaN</td>\n",
       "      <td>NaN</td>\n",
       "      <td>NaN</td>\n",
       "    </tr>\n",
       "    <tr>\n",
       "      <th>5</th>\n",
       "      <td>Activity</td>\n",
       "      <td>Food</td>\n",
       "      <td>Take breakfast</td>\n",
       "      <td>Breakfast</td>\n",
       "      <td>03-Jun-2021</td>\n",
       "      <td>12:01:34 PM</td>\n",
       "      <td>00:15:00</td>\n",
       "      <td>NaN</td>\n",
       "      <td>NaN</td>\n",
       "      <td>NaN</td>\n",
       "      <td>233</td>\n",
       "      <td>NaN</td>\n",
       "      <td>NaN</td>\n",
       "      <td>NaN</td>\n",
       "      <td>NaN</td>\n",
       "      <td>NaN</td>\n",
       "    </tr>\n",
       "    <tr>\n",
       "      <th>6</th>\n",
       "      <td>Activity</td>\n",
       "      <td>Food Retry 1</td>\n",
       "      <td>Get BreakFast</td>\n",
       "      <td>BreakFast</td>\n",
       "      <td>03-Jun-2021</td>\n",
       "      <td>12:13:39 PM</td>\n",
       "      <td>00:15:00</td>\n",
       "      <td>00:15:00</td>\n",
       "      <td>12:43:04 PM</td>\n",
       "      <td>00:14:24</td>\n",
       "      <td>1764</td>\n",
       "      <td>NaN</td>\n",
       "      <td>NaN</td>\n",
       "      <td>NaN</td>\n",
       "      <td>NaN</td>\n",
       "      <td>NaN</td>\n",
       "    </tr>\n",
       "    <tr>\n",
       "      <th>7</th>\n",
       "      <td>Subject</td>\n",
       "      <td>Root</td>\n",
       "      <td>TM-TYT</td>\n",
       "      <td>NaN</td>\n",
       "      <td>04-Jun-2021</td>\n",
       "      <td>04:19:42 PM</td>\n",
       "      <td>00:01:00</td>\n",
       "      <td>00:00:30</td>\n",
       "      <td>04:20:13 PM</td>\n",
       "      <td>NaN</td>\n",
       "      <td>31</td>\n",
       "      <td>NaN</td>\n",
       "      <td>NaN</td>\n",
       "      <td>NaN</td>\n",
       "      <td>NaN</td>\n",
       "      <td>NaN</td>\n",
       "    </tr>\n",
       "    <tr>\n",
       "      <th>8</th>\n",
       "      <td>Activity</td>\n",
       "      <td>Testing</td>\n",
       "      <td>Watch List</td>\n",
       "      <td>Timer</td>\n",
       "      <td>04-Jun-2021</td>\n",
       "      <td>04:20:54 PM</td>\n",
       "      <td>00:01:00</td>\n",
       "      <td>00:01:00</td>\n",
       "      <td>04:22:03 PM</td>\n",
       "      <td>00:00:07</td>\n",
       "      <td>68</td>\n",
       "      <td>NaN</td>\n",
       "      <td>NaN</td>\n",
       "      <td>NaN</td>\n",
       "      <td>NaN</td>\n",
       "      <td>NaN</td>\n",
       "    </tr>\n",
       "    <tr>\n",
       "      <th>9</th>\n",
       "      <td>Subject</td>\n",
       "      <td>Root</td>\n",
       "      <td>TM-TYT</td>\n",
       "      <td>NaN</td>\n",
       "      <td>04-Jun-2021</td>\n",
       "      <td>05:20:51 PM</td>\n",
       "      <td>00:01:00</td>\n",
       "      <td>00:01:00</td>\n",
       "      <td>05:22:05 PM</td>\n",
       "      <td>00:00:12</td>\n",
       "      <td>73</td>\n",
       "      <td>NaN</td>\n",
       "      <td>NaN</td>\n",
       "      <td>NaN</td>\n",
       "      <td>NaN</td>\n",
       "      <td>NaN</td>\n",
       "    </tr>\n",
       "  </tbody>\n",
       "</table>\n",
       "</div>"
      ],
      "text/plain": [
       "  Record Type         Record Name         Record Topic    Record SubTopic  \\\n",
       "0    Activity               Timer             Testing          Total time   \n",
       "1    Activity              Timer   Save countdown time            testing   \n",
       "2    Activity               Timer            Countdown  Test Saving timer   \n",
       "3    Activity             Testing         testing time        Saving time   \n",
       "4    Activity  Recording ACtivity                Fresh   Test Saving Time   \n",
       "5    Activity                Food       Take breakfast          Breakfast   \n",
       "6    Activity        Food Retry 1        Get BreakFast          BreakFast   \n",
       "7     Subject                Root               TM-TYT                NaN   \n",
       "8    Activity            Testing            Watch List              Timer   \n",
       "9     Subject                Root               TM-TYT                NaN   \n",
       "\n",
       "          Date   Start Time     TTime     CTime     End Time     ETime  \\\n",
       "0    02-Jun-21   5:54:51 PM  00:01:00  00:01:00   5:56:06 PM  00:00:14   \n",
       "1    02-Jun-21   6:59:08 PM  00:01:00  00:01:00   7:00:30 PM  00:00:20   \n",
       "2    02-Jun-21   7:03:19 PM  00:01:00  00:01:00   7:04:25 PM  00:00:04   \n",
       "3  03-Jun-2021  11:34:42 AM  00:01:00  00:01:00  11:36:26 AM  00:00:43   \n",
       "4  03-Jun-2021  11:42:26 AM   00:5:00  00:05:00  11:54:52 AM       NaN   \n",
       "5  03-Jun-2021  12:01:34 PM  00:15:00       NaN          NaN       NaN   \n",
       "6  03-Jun-2021  12:13:39 PM  00:15:00  00:15:00  12:43:04 PM  00:14:24   \n",
       "7  04-Jun-2021  04:19:42 PM  00:01:00  00:00:30  04:20:13 PM       NaN   \n",
       "8  04-Jun-2021  04:20:54 PM  00:01:00  00:01:00  04:22:03 PM  00:00:07   \n",
       "9  04-Jun-2021  05:20:51 PM  00:01:00  00:01:00  05:22:05 PM  00:00:12   \n",
       "\n",
       "   Total Time Restart-1 R1-Start Time  R1-CTime R1-End Time  R1-ETime  \n",
       "0          75       NaN           NaN       NaN         NaN       NaN  \n",
       "1         153  00:01:00    7:00:30 PM  00:01:00  7:01:44 PM  00:00:11  \n",
       "2          65       NaN           NaN       NaN         NaN       NaN  \n",
       "3         103       NaN           NaN       NaN         NaN       NaN  \n",
       "4         746       NaN           NaN       NaN         NaN       NaN  \n",
       "5         233       NaN           NaN       NaN         NaN       NaN  \n",
       "6        1764       NaN           NaN       NaN         NaN       NaN  \n",
       "7          31       NaN           NaN       NaN         NaN       NaN  \n",
       "8          68       NaN           NaN       NaN         NaN       NaN  \n",
       "9          73       NaN           NaN       NaN         NaN       NaN  "
      ]
     },
     "execution_count": 45,
     "metadata": {},
     "output_type": "execute_result"
    }
   ],
   "source": [
    "data.head(10)"
   ]
  },
  {
   "cell_type": "markdown",
   "id": "simplified-object",
   "metadata": {},
   "source": [
    "So this is our data looks like now we will do some analytical work here we will compute Activity time in a day.\n",
    "\n",
    "So here is the Recipe:\n",
    "1. Read every line of the file.\n",
    "2. Split each line into a list of values.\n",
    "3. Extract the clumn names.\n",
    "4. Use the column names and lists to create a dictionary.\n",
    "5. Filter out the Record Type and other column in which you are not intrested.\n",
    "6. Make a dictionary for separate day data. \n",
    "7. Calculate the total time of that Record Type time for a day.\n",
    "\n",
    "`Note:` Here we will note use any kind of the module to do this thing, we will make ourself this kind of recipe to do some work with the help of the generators."
   ]
  },
  {
   "cell_type": "code",
   "execution_count": 46,
   "id": "headed-thousand",
   "metadata": {},
   "outputs": [],
   "source": [
    "# So now first of all we need to read the file\n",
    "file_name = 'Timer_Data.csv'\n",
    "file_lines = (line for line in open(file_name))   # making a generator which will read one line at a time"
   ]
  },
  {
   "cell_type": "code",
   "execution_count": 47,
   "id": "mighty-civilian",
   "metadata": {},
   "outputs": [
    {
     "data": {
      "text/plain": [
       "<generator object <genexpr> at 0x000002177B46EC80>"
      ]
     },
     "execution_count": 47,
     "metadata": {},
     "output_type": "execute_result"
    }
   ],
   "source": [
    "# Now we will check that it is a generator or not\n",
    "file_lines"
   ]
  },
  {
   "cell_type": "markdown",
   "id": "starting-weekend",
   "metadata": {},
   "source": [
    "As you can see that it is a generator, Now we will print our first with the help of next , first line of the file will be header so we will store it in a header variable."
   ]
  },
  {
   "cell_type": "code",
   "execution_count": 48,
   "id": "western-option",
   "metadata": {},
   "outputs": [],
   "source": [
    "header = next(file_lines)"
   ]
  },
  {
   "cell_type": "code",
   "execution_count": 49,
   "id": "pressed-invention",
   "metadata": {},
   "outputs": [
    {
     "name": "stdout",
     "output_type": "stream",
     "text": [
      "Record Type,Record Name,Record Topic,Record SubTopic,Date,Start Time,TTime,CTime,End Time,ETime,Total Time,Restart-1,R1-Start Time,R1-CTime,R1-End Time,R1-ETime\n",
      "\n"
     ]
    }
   ],
   "source": [
    "# checking the headers\n",
    "print(header)"
   ]
  },
  {
   "cell_type": "markdown",
   "id": "advance-request",
   "metadata": {},
   "source": [
    "As you can see that it return all the column name at once but we did not want that we need one column at a time so for that we need to make another generator which will give us the column vlaue one by one."
   ]
  },
  {
   "cell_type": "code",
   "execution_count": 50,
   "id": "unnecessary-shuttle",
   "metadata": {},
   "outputs": [],
   "source": [
    "# resetting the data\n",
    "file_name = 'Timer_Data.csv'\n",
    "file_lines = (line for line in open(file_name)) \n",
    "\n",
    "# Now making another generator to hold the columns\n",
    "line_cols = (x.rstrip().split(',') for x in file_lines)"
   ]
  },
  {
   "cell_type": "markdown",
   "id": "laden-package",
   "metadata": {},
   "source": [
    "Now this recent line again makes another generator which will give us the columns one by one."
   ]
  },
  {
   "cell_type": "code",
   "execution_count": 51,
   "id": "linear-supply",
   "metadata": {},
   "outputs": [
    {
     "data": {
      "text/plain": [
       "['Record Type',\n",
       " 'Record Name',\n",
       " 'Record Topic',\n",
       " 'Record SubTopic',\n",
       " 'Date',\n",
       " 'Start Time',\n",
       " 'TTime',\n",
       " 'CTime',\n",
       " 'End Time',\n",
       " 'ETime',\n",
       " 'Total Time',\n",
       " 'Restart-1',\n",
       " 'R1-Start Time',\n",
       " 'R1-CTime',\n",
       " 'R1-End Time',\n",
       " 'R1-ETime']"
      ]
     },
     "execution_count": 51,
     "metadata": {},
     "output_type": "execute_result"
    }
   ],
   "source": [
    "# testing of column name by using the next , as we are excepting it should return only one line columns value at a time.\n",
    "# also it will return a list  of column values not a string this time.\n",
    "next(line_cols)"
   ]
  },
  {
   "cell_type": "markdown",
   "id": "floppy-coast",
   "metadata": {},
   "source": [
    "Now we have got our header in the form of list now we need to make a dictionary with the values and their corresponding column name. we can achieve this also by using the generator expression.\n",
    "\n",
    "But going furthur we will reset our generator and we will store our header (column names)  in a variable."
   ]
  },
  {
   "cell_type": "code",
   "execution_count": 53,
   "id": "abandoned-cloud",
   "metadata": {},
   "outputs": [],
   "source": [
    "# resetting the data\n",
    "file_name = 'Timer_Data.csv'\n",
    "file_lines = (line for line in open(file_name)) \n",
    "\n",
    "# Now making another generator to hold the columns\n",
    "line_cols = (x.rstrip().split(',') for x in file_lines)\n",
    "\n",
    "header = next(line_cols)   # storing the header or column names in the header "
   ]
  },
  {
   "cell_type": "code",
   "execution_count": 54,
   "id": "gothic-cattle",
   "metadata": {},
   "outputs": [
    {
     "name": "stdout",
     "output_type": "stream",
     "text": [
      "['Record Type', 'Record Name', 'Record Topic', 'Record SubTopic', 'Date', 'Start Time', 'TTime', 'CTime', 'End Time', 'ETime', 'Total Time', 'Restart-1', 'R1-Start Time', 'R1-CTime', 'R1-End Time', 'R1-ETime']\n"
     ]
    }
   ],
   "source": [
    "print(header)"
   ]
  },
  {
   "cell_type": "code",
   "execution_count": 55,
   "id": "distant-lewis",
   "metadata": {},
   "outputs": [],
   "source": [
    "# Now creating the dict for each row values.\n",
    "data_dict  = (dict(zip(header, value)) for value in line_cols)"
   ]
  },
  {
   "cell_type": "markdown",
   "id": "metric-dover",
   "metadata": {},
   "source": [
    "Now this is also a data_dict which will return the dict of our data,  header value as key and row values as the value fo their corresponding keys.   "
   ]
  },
  {
   "cell_type": "code",
   "execution_count": 56,
   "id": "floating-equipment",
   "metadata": {},
   "outputs": [
    {
     "data": {
      "text/plain": [
       "{'Record Type': 'Activity',\n",
       " 'Record Name': 'Timer',\n",
       " 'Record Topic': 'Testing ',\n",
       " 'Record SubTopic': 'Total time',\n",
       " 'Date': '02-Jun-21',\n",
       " 'Start Time': '5:54:51 PM',\n",
       " 'TTime': '00:01:00',\n",
       " 'CTime': '00:01:00',\n",
       " 'End Time': '5:56:06 PM',\n",
       " 'ETime': '00:00:14',\n",
       " 'Total Time': '75',\n",
       " 'Restart-1': '',\n",
       " 'R1-Start Time': '',\n",
       " 'R1-CTime': '',\n",
       " 'R1-End Time': '',\n",
       " 'R1-ETime': ''}"
      ]
     },
     "execution_count": 56,
     "metadata": {},
     "output_type": "execute_result"
    }
   ],
   "source": [
    "# Now if we want to check our first dict then we can use it by using a next method.\n",
    "next(data_dict)"
   ]
  },
  {
   "cell_type": "markdown",
   "id": "piano-metropolitan",
   "metadata": {},
   "source": [
    "As you can see after applying three generator our data will look like this, and the best thing is that noting is stored in the memory excepte some bytes which is used to holds the generator state of variables and other values."
   ]
  },
  {
   "cell_type": "code",
   "execution_count": 250,
   "id": "august-welcome",
   "metadata": {},
   "outputs": [],
   "source": [
    "# Now we will get the total time of activity in a day for that we need to get the date activity and total time at the same time.\n",
    "# these all condition can't be defined in a single line so we need to define our generator by using the function method.\n",
    "\n",
    "def get_today_time(record, file):\n",
    "    # here record is the record type\n",
    "    # Now we will put all of our code here \n",
    "    \n",
    "    #1. first of all reading the file\n",
    "    rows = (row for row in open(file))\n",
    "    \n",
    "    #2. now we need to split the columns \n",
    "    cols = (x.rstrip().split(',') for x in rows)\n",
    "    \n",
    "    #3. now we need to store our column \n",
    "    header = next(cols)\n",
    "    \n",
    "    #4. Paring our header with each row values by making a dictionary\n",
    "    data_dict = (dict(zip(header, value)) for value in cols)\n",
    "    \n",
    "    # Now we need to filter our record for a day.\n",
    "    date = None    # to store the date only for once\n",
    "    data = {}\n",
    "    \n",
    "    for row in data_dict:\n",
    "        \n",
    "        if row['Record Type'] == record:\n",
    "            \n",
    "            if isinstance(data.get(row['Date'], None), list):\n",
    "                # if data has the list ofr data then appending the data of the same date.\n",
    "                data[row['Date']].append(row)\n",
    "            else:\n",
    "                if isinstance(data.get(date, None), list):\n",
    "                    yield date, (i for i in data[date])\n",
    "                    # after yielding we will delete the data of \n",
    "                    del data[date]\n",
    "                    \n",
    "                date = row['Date'] \n",
    "                data[row['Date']] = [row]\n",
    "                \n",
    "                # if data do not have data correponding to the date then will assing a list and we will add a row \n",
    "                # which has the data of the date .\n",
    "                \n",
    "    # Now we will return the final data which will not be yielded because of misplaced conditions\n",
    "    yield date, (i for i in data[date])\n",
    "    del data \n",
    "    del date # finally deleting the date and data."
   ]
  },
  {
   "cell_type": "code",
   "execution_count": 251,
   "id": "future-joyce",
   "metadata": {},
   "outputs": [],
   "source": [
    "# Now need to initate the generatro by providing the file name and Record Type\n",
    "data_gen = get_today_time(\"Activity\", \"Timer_Data.csv\")"
   ]
  },
  {
   "cell_type": "code",
   "execution_count": 252,
   "id": "artistic-wisdom",
   "metadata": {},
   "outputs": [],
   "source": [
    "# getting first day data\n",
    "# day_one = next(data_gen)\n",
    "# if we want to optimize the yielded data then \n",
    "date, data  = next(data_gen)   # getting one day data , date will hold date of the data\n",
    "# data will hold the yielded "
   ]
  },
  {
   "cell_type": "code",
   "execution_count": 253,
   "id": "hawaiian-season",
   "metadata": {},
   "outputs": [
    {
     "name": "stdout",
     "output_type": "stream",
     "text": [
      "{'Record Type': 'Activity', 'Record Name': 'Timer', 'Record Topic': 'Testing ', 'Record SubTopic': 'Total time', 'Date': '02-Jun-21', 'Start Time': '5:54:51 PM', 'TTime': '00:01:00', 'CTime': '00:01:00', 'End Time': '5:56:06 PM', 'ETime': '00:00:14', 'Total Time': '75', 'Restart-1': '', 'R1-Start Time': '', 'R1-CTime': '', 'R1-End Time': '', 'R1-ETime': ''}\n",
      "{'Record Type': 'Activity', 'Record Name': 'Timer ', 'Record Topic': 'Save countdown time', 'Record SubTopic': 'testing', 'Date': '02-Jun-21', 'Start Time': '6:59:08 PM', 'TTime': '00:01:00', 'CTime': '00:01:00', 'End Time': '7:00:30 PM', 'ETime': '00:00:20', 'Total Time': '153', 'Restart-1': '00:01:00', 'R1-Start Time': '7:00:30 PM', 'R1-CTime': '00:01:00', 'R1-End Time': '7:01:44 PM', 'R1-ETime': '00:00:11'}\n",
      "{'Record Type': 'Activity', 'Record Name': 'Timer', 'Record Topic': 'Countdown', 'Record SubTopic': 'Test Saving timer', 'Date': '02-Jun-21', 'Start Time': '7:03:19 PM', 'TTime': '00:01:00', 'CTime': '00:01:00', 'End Time': '7:04:25 PM', 'ETime': '00:00:04', 'Total Time': '65', 'Restart-1': '', 'R1-Start Time': '', 'R1-CTime': '', 'R1-End Time': '', 'R1-ETime': ''}\n"
     ]
    }
   ],
   "source": [
    "for act in data:\n",
    "    print(act)"
   ]
  },
  {
   "cell_type": "code",
   "execution_count": 257,
   "id": "median-microphone",
   "metadata": {},
   "outputs": [
    {
     "name": "stdout",
     "output_type": "stream",
     "text": [
      "06-Jun-2021:\t (1465, 104)\n",
      "07-Jun-2021:\t (21809, 317)\n",
      "08-Jun-2021:\t (18615, 2517)\n",
      "09-Jun-2021:\t (8765, 5640)\n",
      "10-Jun-2021:\t (10687, 5097)\n",
      "11-Jun-2021:\t (3424, 4844)\n",
      "12-Jun-2021:\t (6754, 4391)\n",
      "13-Jun-2021:\t (3751, 3875)\n",
      "14-Jun-2021:\t (8526, 2301)\n",
      "15-Jun-2021:\t (5660, 4003)\n",
      "16-Jun-2021:\t (5841, 4290)\n",
      "17-Jun-2021:\t (2588, 3771)\n",
      "18-Jun-2021:\t (3485, 4364)\n",
      "19-Jun-2021:\t (5975, 4958)\n",
      "20-Jun-2021:\t (1991, 5094)\n",
      "21-Jun-2021:\t (1867, 5589)\n",
      "22-Jun-2021:\t (6018, 5475)\n",
      "23-Jun-2021:\t (2608, 5283)\n"
     ]
    }
   ],
   "source": [
    "project_data = get_today_time(\"Project\", \"Timer_Data.csv\")\n",
    "subject_data = get_today_time('Subject', 'Timer_Data.csv')\n",
    "pt_time = 0\n",
    "st_time = 0\n",
    "for p, s in zip(project_data, subject_data):\n",
    "    \n",
    "    for project, subject in zip(p[1], s[1]):\n",
    "        \n",
    "        pt_time += int(project['Total Time'])\n",
    "        st_time += int(subject['Total Time'])\n",
    "#     print(f\"{date}:\\t {t_time/3600:.02f}\")\n",
    "    print(f\"{p[0]}:\\t {pt_time , st_time}\")\n",
    "    pt_time = 0\n",
    "    st_time = 0\n",
    "    \n"
   ]
  },
  {
   "cell_type": "code",
   "execution_count": 260,
   "id": "considerable-estate",
   "metadata": {},
   "outputs": [
    {
     "name": "stdout",
     "output_type": "stream",
     "text": [
      "06-Jun-2021:\t 12659\n",
      "07-Jun-2021:\t 21809\n",
      "08-Jun-2021:\t 18615\n",
      "09-Jun-2021:\t 19674\n",
      "10-Jun-2021:\t 12819\n",
      "11-Jun-2021:\t 12146\n",
      "12-Jun-2021:\t 18633\n",
      "13-Jun-2021:\t 3751\n",
      "14-Jun-2021:\t 24510\n",
      "15-Jun-2021:\t 18781\n",
      "16-Jun-2021:\t 20114\n",
      "17-Jun-2021:\t 10756\n",
      "18-Jun-2021:\t 3485\n",
      "19-Jun-2021:\t 9162\n",
      "20-Jun-2021:\t 10304\n",
      "21-Jun-2021:\t 6126\n",
      "22-Jun-2021:\t 11749\n",
      "23-Jun-2021:\t 8285\n",
      "24-Jun-2021:\t 11750\n",
      "25-Jun-2021:\t 15860\n",
      "26-Jun-2021:\t 13527\n",
      "27-Jun-2021:\t 22823\n",
      "28-Jun-2021:\t 15512\n",
      "29-Jun-2021:\t 13225\n"
     ]
    }
   ],
   "source": [
    "project_data = get_today_time(\"Project\", \"Timer_Data.csv\")\n",
    "\n",
    "t_time =0\n",
    "for date, data in project_data:\n",
    "    for row in data:\n",
    "        t_time += int(row['Total Time'])\n",
    "        \n",
    "    print(f\"{date}:\\t {t_time}\")\n",
    "    t_time = 0"
   ]
  },
  {
   "cell_type": "code",
   "execution_count": 261,
   "id": "rural-digest",
   "metadata": {},
   "outputs": [
    {
     "name": "stdout",
     "output_type": "stream",
     "text": [
      "04-Jun-2021:\t 104\n",
      "05-Jun-2021:\t 336\n",
      "06-Jun-2021:\t 2690\n",
      "10-Jun-2021:\t 5640\n",
      "13-Jun-2021:\t 5097\n",
      "14-Jun-2021:\t 4844\n",
      "15-Jun-2021:\t 4391\n",
      "16-Jun-2021:\t 3875\n",
      "17-Jun-2021:\t 2301\n",
      "19-Jun-2021:\t 4003\n",
      "21-Jun-2021:\t 4290\n",
      "22-Jun-2021:\t 3771\n",
      "23-Jun-2021:\t 4364\n",
      "24-Jun-2021:\t 4958\n",
      "25-Jun-2021:\t 5094\n",
      "26-Jun-2021:\t 5589\n",
      "28-Jun-2021:\t 5475\n",
      "29-Jun-2021:\t 5283\n"
     ]
    }
   ],
   "source": [
    "subject_data = get_today_time('Subject', 'Timer_Data.csv')\n",
    "t_time =0\n",
    "for date, data in subject_data:\n",
    "    for row in data:\n",
    "        t_time += int(row['Total Time'])\n",
    "        \n",
    "    print(f\"{date}:\\t {t_time}\")\n",
    "    t_time = 0"
   ]
  },
  {
   "cell_type": "code",
   "execution_count": null,
   "id": "regular-interim",
   "metadata": {},
   "outputs": [],
   "source": []
  },
  {
   "cell_type": "markdown",
   "id": "stopped-suspect",
   "metadata": {},
   "source": [
    "Now we will put this into another fucntion which will be considered as another pipline block which will compute the total_time for a desired Record Type."
   ]
  },
  {
   "cell_type": "code",
   "execution_count": 298,
   "id": "subtle-summer",
   "metadata": {},
   "outputs": [],
   "source": [
    "def get_total_time(Record_type, file, col = 'Total Time', obj_type=int):\n",
    "    \n",
    "    \"\"\"\n",
    "    Record_type: type of the record for which we are looking for.\n",
    "    file:str, file path in which we want to look.\n",
    "    col: column name for which we want to canculate the sum of the value for given output\n",
    "    obj_type: by default int \n",
    "    \"\"\"\n",
    "    t_time = 0\n",
    "    data_gen = get_today_time(Record_type,file)\n",
    "    for date, data in data_gen:\n",
    "        \n",
    "        for activity in data:\n",
    "#             print(activity[col])\n",
    "            t_time += int(activity[col])\n",
    "        yield date, t_time\n",
    "        t_time = 0\n",
    "        # Now this will give us the total time for a particular record Type\n",
    "    "
   ]
  },
  {
   "cell_type": "code",
   "execution_count": 301,
   "id": "stopped-gnome",
   "metadata": {},
   "outputs": [
    {
     "name": "stdout",
     "output_type": "stream",
     "text": [
      "06-Jun-2021:\t 12659\n",
      "07-Jun-2021:\t 21809\n",
      "08-Jun-2021:\t 18615\n",
      "09-Jun-2021:\t 19674\n",
      "10-Jun-2021:\t 12819\n",
      "11-Jun-2021:\t 12146\n",
      "12-Jun-2021:\t 18633\n",
      "13-Jun-2021:\t 3751\n",
      "14-Jun-2021:\t 24510\n",
      "15-Jun-2021:\t 18781\n",
      "16-Jun-2021:\t 20114\n",
      "17-Jun-2021:\t 10756\n",
      "18-Jun-2021:\t 3485\n",
      "19-Jun-2021:\t 9162\n",
      "20-Jun-2021:\t 10304\n",
      "21-Jun-2021:\t 6126\n",
      "22-Jun-2021:\t 11749\n",
      "23-Jun-2021:\t 8285\n",
      "24-Jun-2021:\t 11750\n",
      "25-Jun-2021:\t 15860\n",
      "26-Jun-2021:\t 13527\n",
      "27-Jun-2021:\t 22823\n",
      "28-Jun-2021:\t 15512\n",
      "29-Jun-2021:\t 13225\n"
     ]
    }
   ],
   "source": [
    "project = get_total_time('Project', 'Timer_Data.csv') \n",
    "for date, time in project:\n",
    "    print(f\"{date}:\\t {time}\")"
   ]
  },
  {
   "cell_type": "code",
   "execution_count": 308,
   "id": "oriented-capability",
   "metadata": {},
   "outputs": [
    {
     "name": "stdout",
     "output_type": "stream",
     "text": [
      "Activityclasses: Total Time\n",
      "12-Jun-2021:\t 21820\n",
      "13-Jun-2021:\t 9340\n",
      "14-Jun-2021:\t 30106\n",
      "15-Jun-2021:\t 17866\n",
      "16-Jun-2021:\t 23375\n",
      "17-Jun-2021:\t 2963\n",
      "18-Jun-2021:\t 25154\n",
      "19-Jun-2021:\t 7979\n",
      "20-Jun-2021:\t 29171\n",
      "21-Jun-2021:\t 3354\n",
      "22-Jun-2021:\t 21124\n",
      "23-Jun-2021:\t 10696\n",
      "24-Jun-2021:\t 13860\n",
      "25-Jun-2021:\t 14388\n",
      "26-Jun-2021:\t 15912\n",
      "27-Jun-2021:\t 10152\n",
      "28-Jun-2021:\t 10948\n",
      "29-Jun-2021:\t 8857\n",
      "30-Jun-2021:\t 4404\n"
     ]
    }
   ],
   "source": [
    "activity = get_total_time('ActivityClasses', 'Timer_Data.csv') \n",
    "print(f\"Activityclasses: Total Time\")\n",
    "for date, time in activity:\n",
    "    print(f\"{date}:\\t {time}\")"
   ]
  },
  {
   "cell_type": "code",
   "execution_count": 309,
   "id": "integral-peoples",
   "metadata": {},
   "outputs": [
    {
     "name": "stdout",
     "output_type": "stream",
     "text": [
      "size of project gen: 112\n",
      "size of activity gen: 112\n"
     ]
    }
   ],
   "source": [
    "print('size of project gen:', sys.getsizeof(project))\n",
    "print('size of activity gen:',sys.getsizeof(activity))"
   ]
  },
  {
   "cell_type": "markdown",
   "id": "usual-referral",
   "metadata": {},
   "source": [
    "As you can see that both generator takes only 112 bytes because they dont hold the all the data at once, they compute the data at the genertor execution time.\n",
    "\n",
    "Now we will do a compairison b/w list and generator. we will compute the time complexity and the memory taken by both list and generator in various kind of sets."
   ]
  },
  {
   "cell_type": "code",
   "execution_count": 335,
   "id": "crude-notion",
   "metadata": {},
   "outputs": [],
   "source": [
    "sets =[i*1000 for i in range(1,2000)]\n"
   ]
  },
  {
   "cell_type": "code",
   "execution_count": 341,
   "id": "absent-double",
   "metadata": {},
   "outputs": [],
   "source": [
    "import os\n",
    "import sys\n",
    "import time\n",
    "import matplotlib.pyplot as plt"
   ]
  },
  {
   "cell_type": "code",
   "execution_count": 382,
   "id": "stylish-wrong",
   "metadata": {},
   "outputs": [],
   "source": [
    "def list_test(sets):\n",
    "    time_stamps = {}\n",
    "    for value in sets:\n",
    "        start = time.time()\n",
    "        List = [i for i in range(value)]\n",
    "        end = time.time()\n",
    "        time_stamps.update({value:end-start})\n",
    "    return time_stamps\n",
    "\n",
    "def gen_test(sets):\n",
    "    for index, value in enumerate(sets):\n",
    "        yield index, (i for i in range(value))\n",
    "    \n",
    "    # time will be calculated outside the generator\n",
    "    "
   ]
  },
  {
   "cell_type": "code",
   "execution_count": 338,
   "id": "shared-joint",
   "metadata": {},
   "outputs": [],
   "source": [
    "List = list_test(sets)"
   ]
  },
  {
   "cell_type": "code",
   "execution_count": 417,
   "id": "cheap-affiliate",
   "metadata": {},
   "outputs": [
    {
     "data": {
      "image/png": "[encoded data removed]",
      "text/plain": [
       "<Figure size 1200x600 with 1 Axes>"
      ]
     },
     "metadata": {
      "needs_background": "light"
     },
     "output_type": "display_data"
    }
   ],
   "source": [
    "plt.figure(figsize=(6,3), dpi=200)\n",
    "plt.plot(List.keys(), List.values())\n",
    "plt.show()"
   ]
  },
  {
   "cell_type": "markdown",
   "id": "fossil-slide",
   "metadata": {},
   "source": [
    "As we can see that time increase with amount of data and number of iteration in linear "
   ]
  },
  {
   "cell_type": "code",
   "execution_count": 387,
   "id": "overhead-kidney",
   "metadata": {},
   "outputs": [
    {
     "name": "stdout",
     "output_type": "stream",
     "text": [
      "total time taken:  146.4121162891388\n",
      "Total size of list (in bytes):  73816\n"
     ]
    }
   ],
   "source": [
    "print(\"total time taken: \", sum(List.values()))\n",
    "print('Total size of list (in bytes): ', sys.getsizeof(List))\n",
    "# in seconds"
   ]
  },
  {
   "cell_type": "code",
   "execution_count": 384,
   "id": "protective-murray",
   "metadata": {},
   "outputs": [],
   "source": [
    "Gen = gen_test(sets)"
   ]
  },
  {
   "cell_type": "code",
   "execution_count": 385,
   "id": "incomplete-correction",
   "metadata": {},
   "outputs": [
    {
     "name": "stdout",
     "output_type": "stream",
     "text": [
      "Processed: 1998/1999\t\t\r"
     ]
    }
   ],
   "source": [
    "gen_time = {}\n",
    "length = len(sets)\n",
    "for index, each in Gen:\n",
    "    print(f\"\\rProcessed: {index}/{length}\", end='\\t\\r')\n",
    "    start = time.time()\n",
    "    for value in each:\n",
    "        pass\n",
    "    end = time.time()\n",
    "    gen_time.update({value:end-start})    "
   ]
  },
  {
   "cell_type": "code",
   "execution_count": 414,
   "id": "taken-drink",
   "metadata": {},
   "outputs": [
    {
     "data": {
      "image/png": "[encoded data removed]",
      "text/plain": [
       "<Figure size 1200x600 with 1 Axes>"
      ]
     },
     "metadata": {
      "needs_background": "light"
     },
     "output_type": "display_data"
    }
   ],
   "source": [
    "plt.figure(figsize=(6,3), dpi=200)\n",
    "plt.plot(gen_time.keys(), gen_time.values())\n",
    "plt.show()"
   ]
  },
  {
   "cell_type": "markdown",
   "id": "educational-movie",
   "metadata": {},
   "source": [
    "As you can see that it's processing time also increases in linear manner , but it takes much time for each iteration then the list but at the same time it dont hold all the element that's why it can be usefull over list when we are working on the large amount of data."
   ]
  },
  {
   "cell_type": "code",
   "execution_count": 389,
   "id": "wicked-mailing",
   "metadata": {},
   "outputs": [
    {
     "name": "stdout",
     "output_type": "stream",
     "text": [
      "Total time taken:  233.1218123435974\n",
      "Total memory taken:  112\n"
     ]
    }
   ],
   "source": [
    "print('Total time taken: ', sum(gen_time.values()))\n",
    "print(\"Total memory taken: \", sys.getsizeof(Gen))"
   ]
  },
  {
   "cell_type": "markdown",
   "id": "hollow-behalf",
   "metadata": {},
   "source": [
    "Now we will make a comman graph by using only 100 values. "
   ]
  },
  {
   "cell_type": "code",
   "execution_count": 397,
   "id": "recognized-audit",
   "metadata": {},
   "outputs": [],
   "source": [
    "xlist = list(List.keys())[::20]\n",
    "ylist = list(List.values())[::20]"
   ]
  },
  {
   "cell_type": "code",
   "execution_count": 398,
   "id": "cloudy-collins",
   "metadata": {},
   "outputs": [],
   "source": [
    "xgen = list(gen_time.keys())[::20]\n",
    "ygen = list(gen_time.values())[::20]"
   ]
  },
  {
   "cell_type": "code",
   "execution_count": 413,
   "id": "round-irrigation",
   "metadata": {},
   "outputs": [
    {
     "data": {
      "image/png": "[encoded data removed]",
      "text/plain": [
       "<Figure size 1200x600 with 1 Axes>"
      ]
     },
     "metadata": {
      "needs_background": "light"
     },
     "output_type": "display_data"
    }
   ],
   "source": [
    "plt.figure(figsize=(6,3), dpi=200)\n",
    "plt.plot(xlist, ylist)\n",
    "plt.plot(xgen, ygen)\n",
    "plt.title(\"Time taken by a List and Generator\")\n",
    "plt.legend([\"List\", \"Generator\"])\n",
    "plt.xticks(xlist[::10])\n",
    "plt.show()"
   ]
  },
  {
   "cell_type": "markdown",
   "id": "modular-aspect",
   "metadata": {},
   "source": [
    "Here from the gaph you can see that there is a large difference b/w the computation time for list and generator, here generator takes much time in each iteration then a list."
   ]
  },
  {
   "cell_type": "code",
   "execution_count": null,
   "id": "better-resistance",
   "metadata": {},
   "outputs": [],
   "source": []
  }
 ],
 "metadata": {
  "kernelspec": {
   "display_name": "Python 3",
   "language": "python",
   "name": "python3"
  },
  "language_info": {
   "codemirror_mode": {
    "name": "ipython",
    "version": 3
   },
   "file_extension": ".py",
   "mimetype": "text/x-python",
   "name": "python",
   "nbconvert_exporter": "python",
   "pygments_lexer": "ipython3",
   "version": "3.8.3"
  }
 },
 "nbformat": 4,
 "nbformat_minor": 5
}
