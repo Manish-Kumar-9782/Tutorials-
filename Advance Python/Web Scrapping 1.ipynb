{
 "cells": [
  {
   "cell_type": "markdown",
   "id": "convenient-thumbnail",
   "metadata": {},
   "source": [
    "# Web Scrappin 1 with Beautiful soup"
   ]
  },
  {
   "cell_type": "code",
   "execution_count": 27,
   "id": "twenty-devil",
   "metadata": {},
   "outputs": [],
   "source": [
    "from urllib.request import urlopen\n",
    "from IPython.display import HTML as display_html\n",
    "from IPython.display import Code as display_code\n",
    "from bs4 import BeautifulSoup as bs\n",
    "from urllib.parse import urljoin"
   ]
  },
  {
   "cell_type": "code",
   "execution_count": 2,
   "id": "employed-patio",
   "metadata": {},
   "outputs": [],
   "source": [
    "url = \"https://matplotlib.org/stable/api/axes_api.html\""
   ]
  },
  {
   "cell_type": "code",
   "execution_count": 3,
   "id": "automotive-exclusion",
   "metadata": {},
   "outputs": [],
   "source": [
    "url_read = urlopen(url)\n",
    "url_data = url_read.read()"
   ]
  },
  {
   "cell_type": "code",
   "execution_count": 13,
   "id": "optional-array",
   "metadata": {},
   "outputs": [],
   "source": [
    "# display_code(url_data.decode(), language='html')"
   ]
  },
  {
   "cell_type": "code",
   "execution_count": 14,
   "id": "liberal-fifty",
   "metadata": {},
   "outputs": [],
   "source": [
    "with open('temp.html','w') as file:\n",
    "    file.write(url_data.decode())"
   ]
  },
  {
   "cell_type": "code",
   "execution_count": 15,
   "id": "straight-depth",
   "metadata": {},
   "outputs": [],
   "source": [
    "import requests"
   ]
  },
  {
   "cell_type": "code",
   "execution_count": 17,
   "id": "stretch-sally",
   "metadata": {},
   "outputs": [],
   "source": [
    "soup = bs(url_data, 'html.parser')"
   ]
  },
  {
   "cell_type": "code",
   "execution_count": 19,
   "id": "prepared-sunday",
   "metadata": {},
   "outputs": [],
   "source": [
    "link1 = soup.find('link')"
   ]
  },
  {
   "cell_type": "code",
   "execution_count": 25,
   "id": "oriental-traffic",
   "metadata": {},
   "outputs": [
    {
     "data": {
      "text/plain": [
       "'../_static/mpl.css?v3.4.2-2-gf801f04d09-dirty'"
      ]
     },
     "execution_count": 25,
     "metadata": {},
     "output_type": "execute_result"
    }
   ],
   "source": [
    "link1.attrs.get('href')"
   ]
  },
  {
   "cell_type": "code",
   "execution_count": 28,
   "id": "intellectual-surface",
   "metadata": {},
   "outputs": [],
   "source": [
    "# get the CSS files\n",
    "css_files = []\n",
    "\n",
    "for css in soup.find_all(\"link\"):\n",
    "    if css.attrs.get(\"href\"):\n",
    "        # if the link tag has the 'href' attribute\n",
    "        css_url = urljoin(url, css.attrs.get(\"href\"))\n",
    "        css_files.append(css_url)"
   ]
  },
  {
   "cell_type": "code",
   "execution_count": 29,
   "id": "crude-mining",
   "metadata": {},
   "outputs": [
    {
     "data": {
      "text/plain": [
       "['https://matplotlib.org/stable/_static/mpl.css?v3.4.2-2-gf801f04d09-dirty',\n",
       " 'https://matplotlib.org/stable/_static/pygments.css',\n",
       " 'https://matplotlib.org/stable/_static/graphviz.css',\n",
       " 'https://matplotlib.org/stable/_static/plot_directive.css',\n",
       " 'https://matplotlib.org/stable/_static/copybutton.css',\n",
       " 'https://matplotlib.org/stable/_static/gallery.css',\n",
       " 'https://matplotlib.org/stable/_static/gallery-binder.css',\n",
       " 'https://matplotlib.org/stable/_static/gallery-dataframe.css',\n",
       " 'https://matplotlib.org/stable/_static/opensearch.xml',\n",
       " 'https://matplotlib.org/stable/_static/favicon.ico',\n",
       " 'https://matplotlib.org/stable/genindex.html',\n",
       " 'https://matplotlib.org/stable/search.html',\n",
       " 'https://matplotlib.org/stable/api/_as_gen/matplotlib.axes.SubplotBase.html',\n",
       " 'https://matplotlib.org/stable/api/_as_gen/matplotlib.artist.ArtistInspector.html',\n",
       " 'https://matplotlib.org/stable/api/axes_api.html',\n",
       " 'https://matplotlib.org/stable/api/axes_api.html',\n",
       " 'https://matplotlib.org/stable/_static/custom.css']"
      ]
     },
     "execution_count": 29,
     "metadata": {},
     "output_type": "execute_result"
    }
   ],
   "source": [
    "css_files"
   ]
  },
  {
   "cell_type": "code",
   "execution_count": null,
   "id": "capital-collins",
   "metadata": {},
   "outputs": [],
   "source": []
  }
 ],
 "metadata": {
  "kernelspec": {
   "display_name": "Python 3",
   "language": "python",
   "name": "python3"
  },
  "language_info": {
   "codemirror_mode": {
    "name": "ipython",
    "version": 3
   },
   "file_extension": ".py",
   "mimetype": "text/x-python",
   "name": "python",
   "nbconvert_exporter": "python",
   "pygments_lexer": "ipython3",
   "version": "3.8.3"
  }
 },
 "nbformat": 4,
 "nbformat_minor": 5
}
