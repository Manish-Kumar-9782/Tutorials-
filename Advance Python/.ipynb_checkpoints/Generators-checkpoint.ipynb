{
 "cells": [
  {
   "cell_type": "markdown",
   "id": "passing-italic",
   "metadata": {},
   "source": [
    "# Generators\n",
    "\n",
    "* Generators are basically special kind of function which contains yield keyword instead of the return keyword, these are basically lazy iterator are used as the itarator just like other iterable like list, tuple, set and arrays.\n",
    "\n",
    "* The basic use of the generators is that they don;t hold all the database at once they only give us some amount of data at a time , and the advantage of this is that we can do on large amount data in less memory with generators"
   ]
  },
  {
   "cell_type": "markdown",
   "id": "forbidden-carnival",
   "metadata": {},
   "source": [
    "## Making generators by defining method"
   ]
  },
  {
   "cell_type": "code",
   "execution_count": 2,
   "id": "visible-ultimate",
   "metadata": {},
   "outputs": [],
   "source": [
    "# Now we will make a afunction in which we will use yield insted of the return\n",
    "def my_func():\n",
    "    \n",
    "    str_1 = \"Hello world\"\n",
    "    str_2 = \"Hello world again\"\n",
    "    \n",
    "    # Now we will use yield\n",
    "    yield str_1\n",
    "    yield str_2"
   ]
  },
  {
   "cell_type": "code",
   "execution_count": 4,
   "id": "still-jerusalem",
   "metadata": {},
   "outputs": [
    {
     "data": {
      "text/plain": [
       "<generator object my_func at 0x00000217699A1890>"
      ]
     },
     "execution_count": 4,
     "metadata": {},
     "output_type": "execute_result"
    }
   ],
   "source": [
    "# Now if we inspect this fuction then we will get that this is generator\n",
    "my_func()"
   ]
  },
  {
   "cell_type": "markdown",
   "id": "expanded-trustee",
   "metadata": {},
   "source": [
    "Now you can see that this is generator object , in which it yield an object at a time and suspends the function untill next call, we can call the next by using the `next()` method of we can use the for loop or a while loop to call this method."
   ]
  },
  {
   "cell_type": "code",
   "execution_count": 9,
   "id": "virtual-interval",
   "metadata": {},
   "outputs": [],
   "source": [
    "# before using the generator we will store it in another variable\n",
    "gen = my_func()\n",
    "# Now after creating the gen we can use this gen by calling next method or in a for loop"
   ]
  },
  {
   "cell_type": "code",
   "execution_count": 10,
   "id": "polyphonic-donna",
   "metadata": {},
   "outputs": [
    {
     "data": {
      "text/plain": [
       "'Hello world'"
      ]
     },
     "execution_count": 10,
     "metadata": {},
     "output_type": "execute_result"
    }
   ],
   "source": [
    "# getting the first object or value by using the next method\n",
    "next(gen)"
   ]
  },
  {
   "cell_type": "markdown",
   "id": "communist-tours",
   "metadata": {},
   "source": [
    "Now if you can see that we have put two yield statement but only one of them is called, this is because yield statement will suspend the function execution after executing the yield. When the function is suspended, the state of the functionis saved."
   ]
  },
  {
   "cell_type": "code",
   "execution_count": 11,
   "id": "horizontal-dryer",
   "metadata": {},
   "outputs": [
    {
     "data": {
      "text/plain": [
       "'Hello world again'"
      ]
     },
     "execution_count": 11,
     "metadata": {},
     "output_type": "execute_result"
    }
   ],
   "source": [
    "# Now if we call this my_func method by using the next method then it will return the \"Hello world again\" \n",
    "next(gen)"
   ]
  },
  {
   "cell_type": "markdown",
   "id": "extra-pension",
   "metadata": {},
   "source": [
    "Now you can see that this time it yielded the second string as we expected. So, Now we will see that how it is usefull over the list or any other iterable which holds all the data in once."
   ]
  },
  {
   "cell_type": "markdown",
   "id": "driven-apartment",
   "metadata": {},
   "source": [
    "## Creaging a generator by using genxpr."
   ]
  },
  {
   "cell_type": "code",
   "execution_count": 19,
   "id": "saved-savannah",
   "metadata": {},
   "outputs": [],
   "source": [
    "# We can also create the  generator with the help of tuple comprehensive or we can say gen expression.\n",
    "# Now if we make a list with 100 item and also we make a gen with same item then we will compare the size of the object\n",
    "list_obj = [i for i in range(100)]\n",
    "gen_obj = (i for i in range(100))"
   ]
  },
  {
   "cell_type": "code",
   "execution_count": 16,
   "id": "suspended-malta",
   "metadata": {},
   "outputs": [
    {
     "name": "stdout",
     "output_type": "stream",
     "text": [
      "size of the list:  904\n",
      "size of the gen:  112\n"
     ]
    }
   ],
   "source": [
    "# Now if we compare the size of the object by using the sys.sizeof()\n",
    "import sys\n",
    "print(\"size of the list: \", sys.getsizeof(list_obj))\n",
    "print(\"size of the gen: \", sys.getsizeof(gen_obj))"
   ]
  },
  {
   "cell_type": "markdown",
   "id": "decent-bicycle",
   "metadata": {},
   "source": [
    "As you can see that there is a houge difference in the memory of the object, this difference is because gen don't holds all the values at the same time while executing but the list holds all the value at once that's why list are not usable while handling the large amount of data.\n",
    " \n",
    "In this kind of situation we need to use the generators to handle the large amount of data. Now if we use the loop on the gen obj."
   ]
  },
  {
   "cell_type": "code",
   "execution_count": 20,
   "id": "manufactured-tourism",
   "metadata": {},
   "outputs": [
    {
     "name": "stdout",
     "output_type": "stream",
     "text": [
      "0,1,2,3,4,5,6,7,8,9,10,11,12,13,14,15,16,17,18,19,20,21,22,23,24,25,26,27,28,29,30,31,32,33,34,35,36,37,38,39,40,41,42,43,44,45,46,47,48,49,50,51,52,53,54,55,56,57,58,59,60,61,62,63,64,65,66,67,68,69,70,71,72,73,74,75,76,77,78,79,80,81,82,83,84,85,86,87,88,89,90,91,92,93,94,95,96,97,98,99,"
     ]
    }
   ],
   "source": [
    "for i in gen_obj:\n",
    "    print(i, end=',')"
   ]
  },
  {
   "cell_type": "code",
   "execution_count": 22,
   "id": "hollow-conclusion",
   "metadata": {},
   "outputs": [
    {
     "ename": "StopIteration",
     "evalue": "",
     "output_type": "error",
     "traceback": [
      "\u001b[1;31m---------------------------------------------------------------------------\u001b[0m",
      "\u001b[1;31mStopIteration\u001b[0m                             Traceback (most recent call last)",
      "\u001b[1;32m<ipython-input-22-208630c39d29>\u001b[0m in \u001b[0;36m<module>\u001b[1;34m\u001b[0m\n\u001b[0;32m      1\u001b[0m \u001b[1;31m# and now if we use the next method on the gen_obj it will raise Exeption \"StopItertion\"\u001b[0m\u001b[1;33m\u001b[0m\u001b[1;33m\u001b[0m\u001b[1;33m\u001b[0m\u001b[0m\n\u001b[0;32m      2\u001b[0m \u001b[1;31m# because there is no element remaining in the gen_obj.\u001b[0m\u001b[1;33m\u001b[0m\u001b[1;33m\u001b[0m\u001b[1;33m\u001b[0m\u001b[0m\n\u001b[1;32m----> 3\u001b[1;33m \u001b[0mnext\u001b[0m\u001b[1;33m(\u001b[0m\u001b[0mgen_obj\u001b[0m\u001b[1;33m)\u001b[0m\u001b[1;33m\u001b[0m\u001b[1;33m\u001b[0m\u001b[0m\n\u001b[0m",
      "\u001b[1;31mStopIteration\u001b[0m: "
     ]
    }
   ],
   "source": [
    "# and now if we use the next method on the gen_obj it will raise Exeption \"StopItertion\"\n",
    "# because there is no element remaining in the gen_obj.\n",
    "next(gen_obj)"
   ]
  },
  {
   "cell_type": "markdown",
   "id": "german-simulation",
   "metadata": {},
   "source": [
    "Note: if we use the generator with for loop then we will not get any `StopIteration` Error because it will handle the error itself but in case of `while loop` and `next()` method we need to handle the execption by manually."
   ]
  },
  {
   "cell_type": "markdown",
   "id": "paperback-introduction",
   "metadata": {},
   "source": [
    "## Advance generator methods"
   ]
  },
  {
   "cell_type": "markdown",
   "id": "thermal-wilderness",
   "metadata": {},
   "source": [
    "Until now we have seen a normal generator which uses only a yield keyword but a generator can alos use some special methods like `.send(), .throw(), .close()`"
   ]
  },
  {
   "cell_type": "markdown",
   "id": "anticipated-vermont",
   "metadata": {},
   "source": [
    "### Using .send() method\n",
    "\n",
    "To explain the .send() method working principle we will use a inifinite sequence generator with some filtering. for that we will use `palindrome_detector`\n",
    "it will filter all the value which are same in read from both sides (left and right). for that first of all we need to make a palindrom method."
   ]
  },
  {
   "cell_type": "code",
   "execution_count": 25,
   "id": "thrown-belarus",
   "metadata": {},
   "outputs": [],
   "source": [
    "# Making a palindrom detector which will filter all the palindrom values.\n",
    "def is_palindrom(num):\n",
    "    \"\"\"\n",
    "    num: number which is need to check that it is a palindrom or not.\n",
    "    \"\"\"\n",
    "    \n",
    "    if num // 10 == 0:\n",
    "        return False\n",
    "    \n",
    "    temp = num\n",
    "    reversed_num = 0\n",
    "    \n",
    "    while temp != 0:\n",
    "        reversed_num = (reversed_num * 10) + (temp % 10)\n",
    "        temp = temp // 10\n",
    "        \n",
    "    if num == reversed_num:\n",
    "        return True\n",
    "    else:\n",
    "        return False"
   ]
  },
  {
   "cell_type": "code",
   "execution_count": 26,
   "id": "incorporate-steps",
   "metadata": {},
   "outputs": [
    {
     "name": "stdout",
     "output_type": "stream",
     "text": [
      "True\n"
     ]
    }
   ],
   "source": [
    "# Now we will test 1221 is a palindrom or not\n",
    "print(is_palindrom(1221))"
   ]
  },
  {
   "cell_type": "markdown",
   "id": "finished-license",
   "metadata": {},
   "source": [
    "Now we can see that it is returning True because our number is a palindrom number now we will generate 100 palindrom number from 0."
   ]
  },
  {
   "cell_type": "code",
   "execution_count": 34,
   "id": "surgical-germany",
   "metadata": {},
   "outputs": [],
   "source": [
    "# to generate finite or infinite palindrom, we will make another method \n",
    "def palindroms():\n",
    "    num = 0\n",
    "    \n",
    "    while True:\n",
    "        if is_palindrom(num):\n",
    "            i = yield num    # here you can see that here we have assigned i with the value of yield num\n",
    "            # it means the yield is sending num to i variable now this i value can be handled outside the gen by using \n",
    "            # the send() method on the gen object.\n",
    "            \n",
    "            # This allows you to manipulate the yielded value. More importantly, it allows you to .send() as value back to genertor. \n",
    "            # when execution picks up after yield, i wil take the value that is sent.\n",
    "            if i is not None:\n",
    "                print(\"\\nINFO In Gen: getting back i form the send method: \", i)\n",
    "                num = i\n",
    "        num +=1"
   ]
  },
  {
   "cell_type": "code",
   "execution_count": 35,
   "id": "cutting-maximum",
   "metadata": {},
   "outputs": [
    {
     "name": "stdout",
     "output_type": "stream",
     "text": [
      "INFO outside to gen: getting form gen:  11\n",
      "next i will be in digits:  3\n",
      "\n",
      "INFO In Gen: getting back i form the send method:  100\n",
      "INFO outside to gen: getting form gen:  111\n",
      "next i will be in digits:  4\n",
      "\n",
      "INFO In Gen: getting back i form the send method:  1000\n",
      "INFO outside to gen: getting form gen:  1111\n",
      "next i will be in digits:  5\n",
      "\n",
      "INFO In Gen: getting back i form the send method:  10000\n"
     ]
    }
   ],
   "source": [
    "# Now we will intiate the generator object in a variable so we can use it :\n",
    "gen = palindroms()\n",
    "for i in gen:\n",
    "    print(\"INFO outside to gen: getting form gen: \", i)\n",
    "    # here i is the value which is yielded from the generator.\n",
    "    digits = len(str(i)) # getting the length of the digits\n",
    "    print('next i will be in digits: ', digits+1)\n",
    "    gen.send(10**digits)  # this will sent back to the i variable which is defined in the generator.\n",
    "    if i > 1000:\n",
    "        break"
   ]
  },
  {
   "cell_type": "markdown",
   "id": "allied-symphony",
   "metadata": {},
   "source": [
    "NOw you can see that we  can manipulate the yielded value and from outside the genertor and we can send it in the generator again, and also there we can manipulate the value. \n",
    "\n",
    "In general we can get some information, value, object or instance after yielded an object or a value it can be helpful in various situation. when we want to put some restriction or some kind of logic before yielding another object from the generator."
   ]
  },
  {
   "cell_type": "markdown",
   "id": "fitted-present",
   "metadata": {},
   "source": [
    "### Using .throw() method\n",
    "it allows you to throw exception with the generator. if we write the above code with an additional line to produce some exception."
   ]
  },
  {
   "cell_type": "code",
   "execution_count": 39,
   "id": "skilled-immigration",
   "metadata": {},
   "outputs": [
    {
     "name": "stdout",
     "output_type": "stream",
     "text": [
      "INFO outside to gen: getting form gen:  11\n",
      "next i will be in digits:  3\n",
      "\n",
      "INFO In Gen: getting back i form the send method:  100\n",
      "INFO outside to gen: getting form gen:  111\n",
      "next i will be in digits:  4\n",
      "\n",
      "INFO In Gen: getting back i form the send method:  1000\n",
      "INFO outside to gen: getting form gen:  1111\n",
      "next i will be in digits:  5\n",
      "\n",
      "INFO In Gen: getting back i form the send method:  10000\n",
      "INFO outside to gen: getting form gen:  10101\n",
      "next i will be in digits:  6\n"
     ]
    },
    {
     "ename": "ValueError",
     "evalue": "can't generate greater then 5 digits palindrom",
     "output_type": "error",
     "traceback": [
      "\u001b[1;31m---------------------------------------------------------------------------\u001b[0m",
      "\u001b[1;31mValueError\u001b[0m                                Traceback (most recent call last)",
      "\u001b[1;32m<ipython-input-39-76b19d00820c>\u001b[0m in \u001b[0;36m<module>\u001b[1;34m\u001b[0m\n\u001b[0;32m      7\u001b[0m     \u001b[0mprint\u001b[0m\u001b[1;33m(\u001b[0m\u001b[1;34m'next i will be in digits: '\u001b[0m\u001b[1;33m,\u001b[0m \u001b[0mdigits\u001b[0m\u001b[1;33m+\u001b[0m\u001b[1;36m1\u001b[0m\u001b[1;33m)\u001b[0m\u001b[1;33m\u001b[0m\u001b[1;33m\u001b[0m\u001b[0m\n\u001b[0;32m      8\u001b[0m     \u001b[1;32mif\u001b[0m \u001b[0mdigits\u001b[0m \u001b[1;33m==\u001b[0m \u001b[1;36m5\u001b[0m\u001b[1;33m:\u001b[0m\u001b[1;33m\u001b[0m\u001b[1;33m\u001b[0m\u001b[0m\n\u001b[1;32m----> 9\u001b[1;33m         \u001b[0mgen\u001b[0m\u001b[1;33m.\u001b[0m\u001b[0mthrow\u001b[0m\u001b[1;33m(\u001b[0m\u001b[0mValueError\u001b[0m\u001b[1;33m(\u001b[0m\u001b[1;34m\"can't generate greater then 5 digits palindrom\"\u001b[0m\u001b[1;33m)\u001b[0m\u001b[1;33m)\u001b[0m\u001b[1;33m\u001b[0m\u001b[1;33m\u001b[0m\u001b[0m\n\u001b[0m\u001b[0;32m     10\u001b[0m     \u001b[0mgen\u001b[0m\u001b[1;33m.\u001b[0m\u001b[0msend\u001b[0m\u001b[1;33m(\u001b[0m\u001b[1;36m10\u001b[0m\u001b[1;33m**\u001b[0m\u001b[0mdigits\u001b[0m\u001b[1;33m)\u001b[0m  \u001b[1;31m# this will sent back to the i variable which is defined in the generator.\u001b[0m\u001b[1;33m\u001b[0m\u001b[1;33m\u001b[0m\u001b[0m\n\u001b[0;32m     11\u001b[0m \u001b[1;33m\u001b[0m\u001b[0m\n",
      "\u001b[1;32m<ipython-input-34-32e0ea21665e>\u001b[0m in \u001b[0;36mpalindroms\u001b[1;34m()\u001b[0m\n\u001b[0;32m      5\u001b[0m     \u001b[1;32mwhile\u001b[0m \u001b[1;32mTrue\u001b[0m\u001b[1;33m:\u001b[0m\u001b[1;33m\u001b[0m\u001b[1;33m\u001b[0m\u001b[0m\n\u001b[0;32m      6\u001b[0m         \u001b[1;32mif\u001b[0m \u001b[0mis_palindrom\u001b[0m\u001b[1;33m(\u001b[0m\u001b[0mnum\u001b[0m\u001b[1;33m)\u001b[0m\u001b[1;33m:\u001b[0m\u001b[1;33m\u001b[0m\u001b[1;33m\u001b[0m\u001b[0m\n\u001b[1;32m----> 7\u001b[1;33m             \u001b[0mi\u001b[0m \u001b[1;33m=\u001b[0m \u001b[1;32myield\u001b[0m \u001b[0mnum\u001b[0m    \u001b[1;31m# here you can see that here we have assigned i with the value of yield num\u001b[0m\u001b[1;33m\u001b[0m\u001b[1;33m\u001b[0m\u001b[0m\n\u001b[0m\u001b[0;32m      8\u001b[0m             \u001b[1;31m# it means the yield is sending num to i variable now this i value can be handled outside the gen by using\u001b[0m\u001b[1;33m\u001b[0m\u001b[1;33m\u001b[0m\u001b[1;33m\u001b[0m\u001b[0m\n\u001b[0;32m      9\u001b[0m             \u001b[1;31m# the send() method on the gen object.\u001b[0m\u001b[1;33m\u001b[0m\u001b[1;33m\u001b[0m\u001b[1;33m\u001b[0m\u001b[0m\n",
      "\u001b[1;31mValueError\u001b[0m: can't generate greater then 5 digits palindrom"
     ]
    }
   ],
   "source": [
    "# Now we will intiate the generator object in a variable so we can use it :\n",
    "gen = palindroms()\n",
    "for i in gen:\n",
    "    print(\"INFO outside to gen: getting form gen: \", i)\n",
    "    # here i is the value which is yielded from the generator.\n",
    "    digits = len(str(i)) # getting the length of the digits\n",
    "    print('next i will be in digits: ', digits+1)\n",
    "    if digits == 5:\n",
    "        gen.throw(ValueError(\"can't generate greater then 5 digits palindrom\"))\n",
    "    gen.send(10**digits)  # this will sent back to the i variable which is defined in the generator.\n",
    "    "
   ]
  },
  {
   "cell_type": "markdown",
   "id": "specialized-israel",
   "metadata": {},
   "source": [
    "Throw method can be useful while generating infinite sequence and we want to break the loop with some exception condition then throw can be useful."
   ]
  },
  {
   "cell_type": "markdown",
   "id": "flush-steal",
   "metadata": {},
   "source": [
    "### Using .close() method"
   ]
  },
  {
   "cell_type": "markdown",
   "id": "incorporated-appliance",
   "metadata": {},
   "source": [
    "close method is similar to the .throw() method it also help us to close the loop in a particular condition (if we set that) and it stops the loop with StopIteration Excetption. \n",
    "\n",
    "Now if we replace our .throw() method with .close() method then our gen will stop with an StopIteration Exception."
   ]
  },
  {
   "cell_type": "code",
   "execution_count": 40,
   "id": "alike-folks",
   "metadata": {},
   "outputs": [
    {
     "name": "stdout",
     "output_type": "stream",
     "text": [
      "INFO outside to gen: getting form gen:  11\n",
      "next i will be in digits:  3\n",
      "\n",
      "INFO In Gen: getting back i form the send method:  100\n",
      "INFO outside to gen: getting form gen:  111\n",
      "next i will be in digits:  4\n",
      "\n",
      "INFO In Gen: getting back i form the send method:  1000\n",
      "INFO outside to gen: getting form gen:  1111\n",
      "next i will be in digits:  5\n",
      "\n",
      "INFO In Gen: getting back i form the send method:  10000\n",
      "INFO outside to gen: getting form gen:  10101\n",
      "next i will be in digits:  6\n"
     ]
    },
    {
     "ename": "StopIteration",
     "evalue": "",
     "output_type": "error",
     "traceback": [
      "\u001b[1;31m---------------------------------------------------------------------------\u001b[0m",
      "\u001b[1;31mStopIteration\u001b[0m                             Traceback (most recent call last)",
      "\u001b[1;32m<ipython-input-40-8b43d5100ca3>\u001b[0m in \u001b[0;36m<module>\u001b[1;34m\u001b[0m\n\u001b[0;32m      8\u001b[0m     \u001b[1;32mif\u001b[0m \u001b[0mdigits\u001b[0m \u001b[1;33m==\u001b[0m \u001b[1;36m5\u001b[0m\u001b[1;33m:\u001b[0m\u001b[1;33m\u001b[0m\u001b[1;33m\u001b[0m\u001b[0m\n\u001b[0;32m      9\u001b[0m         \u001b[0mgen\u001b[0m\u001b[1;33m.\u001b[0m\u001b[0mclose\u001b[0m\u001b[1;33m(\u001b[0m\u001b[1;33m)\u001b[0m\u001b[1;33m\u001b[0m\u001b[1;33m\u001b[0m\u001b[0m\n\u001b[1;32m---> 10\u001b[1;33m     \u001b[0mgen\u001b[0m\u001b[1;33m.\u001b[0m\u001b[0msend\u001b[0m\u001b[1;33m(\u001b[0m\u001b[1;36m10\u001b[0m\u001b[1;33m**\u001b[0m\u001b[0mdigits\u001b[0m\u001b[1;33m)\u001b[0m  \u001b[1;31m# this will sent back to the i variable which is defined in the generator.\u001b[0m\u001b[1;33m\u001b[0m\u001b[1;33m\u001b[0m\u001b[0m\n\u001b[0m\u001b[0;32m     11\u001b[0m \u001b[1;33m\u001b[0m\u001b[0m\n",
      "\u001b[1;31mStopIteration\u001b[0m: "
     ]
    }
   ],
   "source": [
    "# Now we will intiate the generator object in a variable so we can use it :\n",
    "gen = palindroms()\n",
    "for i in gen:\n",
    "    print(\"INFO outside to gen: getting form gen: \", i)\n",
    "    # here i is the value which is yielded from the generator.\n",
    "    digits = len(str(i)) # getting the length of the digits\n",
    "    print('next i will be in digits: ', digits+1)\n",
    "    if digits == 5:\n",
    "        gen.close()\n",
    "    gen.send(10**digits)  # this will sent back to the i variable which is defined in the generator.\n",
    "    "
   ]
  },
  {
   "cell_type": "markdown",
   "id": "ranging-guest",
   "metadata": {},
   "source": [
    "As you can see that we have stopped the iteration with StopIteration , because it uses the StopIteration Exception and if we want to use different Exception then we need to use the .throw() method."
   ]
  },
  {
   "cell_type": "markdown",
   "id": "athletic-dispatch",
   "metadata": {},
   "source": [
    "___"
   ]
  },
  {
   "cell_type": "markdown",
   "id": "reduced-gabriel",
   "metadata": {},
   "source": [
    "## Creating Data Pipelines With Generators\n",
    "Data pipelines allows you tho string together code to process large datasets or streams of data without maxing out your machine's memory. Here we will use a Timer_Data.csv which is not large but we can use any large dataset ."
   ]
  },
  {
   "cell_type": "code",
   "execution_count": 42,
   "id": "british-andrew",
   "metadata": {},
   "outputs": [],
   "source": [
    "# first of all we will see that how our dataset looks like with the help of the pandas\n",
    "import pandas as pd"
   ]
  },
  {
   "cell_type": "code",
   "execution_count": 43,
   "id": "active-humanitarian",
   "metadata": {},
   "outputs": [],
   "source": [
    "data = pd.read_csv('Timer_Data.csv')"
   ]
  },
  {
   "cell_type": "code",
   "execution_count": 45,
   "id": "unusual-retailer",
   "metadata": {},
   "outputs": [
    {
     "data": {
      "text/html": [
       "<div>\n",
       "<style scoped>\n",
       "    .dataframe tbody tr th:only-of-type {\n",
       "        vertical-align: middle;\n",
       "    }\n",
       "\n",
       "    .dataframe tbody tr th {\n",
       "        vertical-align: top;\n",
       "    }\n",
       "\n",
       "    .dataframe thead th {\n",
       "        text-align: right;\n",
       "    }\n",
       "</style>\n",
       "<table border=\"1\" class=\"dataframe\">\n",
       "  <thead>\n",
       "    <tr style=\"text-align: right;\">\n",
       "      <th></th>\n",
       "      <th>Record Type</th>\n",
       "      <th>Record Name</th>\n",
       "      <th>Record Topic</th>\n",
       "      <th>Record SubTopic</th>\n",
       "      <th>Date</th>\n",
       "      <th>Start Time</th>\n",
       "      <th>TTime</th>\n",
       "      <th>CTime</th>\n",
       "      <th>End Time</th>\n",
       "      <th>ETime</th>\n",
       "      <th>Total Time</th>\n",
       "      <th>Restart-1</th>\n",
       "      <th>R1-Start Time</th>\n",
       "      <th>R1-CTime</th>\n",
       "      <th>R1-End Time</th>\n",
       "      <th>R1-ETime</th>\n",
       "    </tr>\n",
       "  </thead>\n",
       "  <tbody>\n",
       "    <tr>\n",
       "      <th>0</th>\n",
       "      <td>Activity</td>\n",
       "      <td>Timer</td>\n",
       "      <td>Testing</td>\n",
       "      <td>Total time</td>\n",
       "      <td>02-Jun-21</td>\n",
       "      <td>5:54:51 PM</td>\n",
       "      <td>00:01:00</td>\n",
       "      <td>00:01:00</td>\n",
       "      <td>5:56:06 PM</td>\n",
       "      <td>00:00:14</td>\n",
       "      <td>75</td>\n",
       "      <td>NaN</td>\n",
       "      <td>NaN</td>\n",
       "      <td>NaN</td>\n",
       "      <td>NaN</td>\n",
       "      <td>NaN</td>\n",
       "    </tr>\n",
       "    <tr>\n",
       "      <th>1</th>\n",
       "      <td>Activity</td>\n",
       "      <td>Timer</td>\n",
       "      <td>Save countdown time</td>\n",
       "      <td>testing</td>\n",
       "      <td>02-Jun-21</td>\n",
       "      <td>6:59:08 PM</td>\n",
       "      <td>00:01:00</td>\n",
       "      <td>00:01:00</td>\n",
       "      <td>7:00:30 PM</td>\n",
       "      <td>00:00:20</td>\n",
       "      <td>153</td>\n",
       "      <td>00:01:00</td>\n",
       "      <td>7:00:30 PM</td>\n",
       "      <td>00:01:00</td>\n",
       "      <td>7:01:44 PM</td>\n",
       "      <td>00:00:11</td>\n",
       "    </tr>\n",
       "    <tr>\n",
       "      <th>2</th>\n",
       "      <td>Activity</td>\n",
       "      <td>Timer</td>\n",
       "      <td>Countdown</td>\n",
       "      <td>Test Saving timer</td>\n",
       "      <td>02-Jun-21</td>\n",
       "      <td>7:03:19 PM</td>\n",
       "      <td>00:01:00</td>\n",
       "      <td>00:01:00</td>\n",
       "      <td>7:04:25 PM</td>\n",
       "      <td>00:00:04</td>\n",
       "      <td>65</td>\n",
       "      <td>NaN</td>\n",
       "      <td>NaN</td>\n",
       "      <td>NaN</td>\n",
       "      <td>NaN</td>\n",
       "      <td>NaN</td>\n",
       "    </tr>\n",
       "    <tr>\n",
       "      <th>3</th>\n",
       "      <td>Activity</td>\n",
       "      <td>Testing</td>\n",
       "      <td>testing time</td>\n",
       "      <td>Saving time</td>\n",
       "      <td>03-Jun-2021</td>\n",
       "      <td>11:34:42 AM</td>\n",
       "      <td>00:01:00</td>\n",
       "      <td>00:01:00</td>\n",
       "      <td>11:36:26 AM</td>\n",
       "      <td>00:00:43</td>\n",
       "      <td>103</td>\n",
       "      <td>NaN</td>\n",
       "      <td>NaN</td>\n",
       "      <td>NaN</td>\n",
       "      <td>NaN</td>\n",
       "      <td>NaN</td>\n",
       "    </tr>\n",
       "    <tr>\n",
       "      <th>4</th>\n",
       "      <td>Activity</td>\n",
       "      <td>Recording ACtivity</td>\n",
       "      <td>Fresh</td>\n",
       "      <td>Test Saving Time</td>\n",
       "      <td>03-Jun-2021</td>\n",
       "      <td>11:42:26 AM</td>\n",
       "      <td>00:5:00</td>\n",
       "      <td>00:05:00</td>\n",
       "      <td>11:54:52 AM</td>\n",
       "      <td>NaN</td>\n",
       "      <td>746</td>\n",
       "      <td>NaN</td>\n",
       "      <td>NaN</td>\n",
       "      <td>NaN</td>\n",
       "      <td>NaN</td>\n",
       "      <td>NaN</td>\n",
       "    </tr>\n",
       "    <tr>\n",
       "      <th>5</th>\n",
       "      <td>Activity</td>\n",
       "      <td>Food</td>\n",
       "      <td>Take breakfast</td>\n",
       "      <td>Breakfast</td>\n",
       "      <td>03-Jun-2021</td>\n",
       "      <td>12:01:34 PM</td>\n",
       "      <td>00:15:00</td>\n",
       "      <td>NaN</td>\n",
       "      <td>NaN</td>\n",
       "      <td>NaN</td>\n",
       "      <td>233</td>\n",
       "      <td>NaN</td>\n",
       "      <td>NaN</td>\n",
       "      <td>NaN</td>\n",
       "      <td>NaN</td>\n",
       "      <td>NaN</td>\n",
       "    </tr>\n",
       "    <tr>\n",
       "      <th>6</th>\n",
       "      <td>Activity</td>\n",
       "      <td>Food Retry 1</td>\n",
       "      <td>Get BreakFast</td>\n",
       "      <td>BreakFast</td>\n",
       "      <td>03-Jun-2021</td>\n",
       "      <td>12:13:39 PM</td>\n",
       "      <td>00:15:00</td>\n",
       "      <td>00:15:00</td>\n",
       "      <td>12:43:04 PM</td>\n",
       "      <td>00:14:24</td>\n",
       "      <td>1764</td>\n",
       "      <td>NaN</td>\n",
       "      <td>NaN</td>\n",
       "      <td>NaN</td>\n",
       "      <td>NaN</td>\n",
       "      <td>NaN</td>\n",
       "    </tr>\n",
       "    <tr>\n",
       "      <th>7</th>\n",
       "      <td>Subject</td>\n",
       "      <td>Root</td>\n",
       "      <td>TM-TYT</td>\n",
       "      <td>NaN</td>\n",
       "      <td>04-Jun-2021</td>\n",
       "      <td>04:19:42 PM</td>\n",
       "      <td>00:01:00</td>\n",
       "      <td>00:00:30</td>\n",
       "      <td>04:20:13 PM</td>\n",
       "      <td>NaN</td>\n",
       "      <td>31</td>\n",
       "      <td>NaN</td>\n",
       "      <td>NaN</td>\n",
       "      <td>NaN</td>\n",
       "      <td>NaN</td>\n",
       "      <td>NaN</td>\n",
       "    </tr>\n",
       "    <tr>\n",
       "      <th>8</th>\n",
       "      <td>Activity</td>\n",
       "      <td>Testing</td>\n",
       "      <td>Watch List</td>\n",
       "      <td>Timer</td>\n",
       "      <td>04-Jun-2021</td>\n",
       "      <td>04:20:54 PM</td>\n",
       "      <td>00:01:00</td>\n",
       "      <td>00:01:00</td>\n",
       "      <td>04:22:03 PM</td>\n",
       "      <td>00:00:07</td>\n",
       "      <td>68</td>\n",
       "      <td>NaN</td>\n",
       "      <td>NaN</td>\n",
       "      <td>NaN</td>\n",
       "      <td>NaN</td>\n",
       "      <td>NaN</td>\n",
       "    </tr>\n",
       "    <tr>\n",
       "      <th>9</th>\n",
       "      <td>Subject</td>\n",
       "      <td>Root</td>\n",
       "      <td>TM-TYT</td>\n",
       "      <td>NaN</td>\n",
       "      <td>04-Jun-2021</td>\n",
       "      <td>05:20:51 PM</td>\n",
       "      <td>00:01:00</td>\n",
       "      <td>00:01:00</td>\n",
       "      <td>05:22:05 PM</td>\n",
       "      <td>00:00:12</td>\n",
       "      <td>73</td>\n",
       "      <td>NaN</td>\n",
       "      <td>NaN</td>\n",
       "      <td>NaN</td>\n",
       "      <td>NaN</td>\n",
       "      <td>NaN</td>\n",
       "    </tr>\n",
       "  </tbody>\n",
       "</table>\n",
       "</div>"
      ],
      "text/plain": [
       "  Record Type         Record Name         Record Topic    Record SubTopic  \\\n",
       "0    Activity               Timer             Testing          Total time   \n",
       "1    Activity              Timer   Save countdown time            testing   \n",
       "2    Activity               Timer            Countdown  Test Saving timer   \n",
       "3    Activity             Testing         testing time        Saving time   \n",
       "4    Activity  Recording ACtivity                Fresh   Test Saving Time   \n",
       "5    Activity                Food       Take breakfast          Breakfast   \n",
       "6    Activity        Food Retry 1        Get BreakFast          BreakFast   \n",
       "7     Subject                Root               TM-TYT                NaN   \n",
       "8    Activity            Testing            Watch List              Timer   \n",
       "9     Subject                Root               TM-TYT                NaN   \n",
       "\n",
       "          Date   Start Time     TTime     CTime     End Time     ETime  \\\n",
       "0    02-Jun-21   5:54:51 PM  00:01:00  00:01:00   5:56:06 PM  00:00:14   \n",
       "1    02-Jun-21   6:59:08 PM  00:01:00  00:01:00   7:00:30 PM  00:00:20   \n",
       "2    02-Jun-21   7:03:19 PM  00:01:00  00:01:00   7:04:25 PM  00:00:04   \n",
       "3  03-Jun-2021  11:34:42 AM  00:01:00  00:01:00  11:36:26 AM  00:00:43   \n",
       "4  03-Jun-2021  11:42:26 AM   00:5:00  00:05:00  11:54:52 AM       NaN   \n",
       "5  03-Jun-2021  12:01:34 PM  00:15:00       NaN          NaN       NaN   \n",
       "6  03-Jun-2021  12:13:39 PM  00:15:00  00:15:00  12:43:04 PM  00:14:24   \n",
       "7  04-Jun-2021  04:19:42 PM  00:01:00  00:00:30  04:20:13 PM       NaN   \n",
       "8  04-Jun-2021  04:20:54 PM  00:01:00  00:01:00  04:22:03 PM  00:00:07   \n",
       "9  04-Jun-2021  05:20:51 PM  00:01:00  00:01:00  05:22:05 PM  00:00:12   \n",
       "\n",
       "   Total Time Restart-1 R1-Start Time  R1-CTime R1-End Time  R1-ETime  \n",
       "0          75       NaN           NaN       NaN         NaN       NaN  \n",
       "1         153  00:01:00    7:00:30 PM  00:01:00  7:01:44 PM  00:00:11  \n",
       "2          65       NaN           NaN       NaN         NaN       NaN  \n",
       "3         103       NaN           NaN       NaN         NaN       NaN  \n",
       "4         746       NaN           NaN       NaN         NaN       NaN  \n",
       "5         233       NaN           NaN       NaN         NaN       NaN  \n",
       "6        1764       NaN           NaN       NaN         NaN       NaN  \n",
       "7          31       NaN           NaN       NaN         NaN       NaN  \n",
       "8          68       NaN           NaN       NaN         NaN       NaN  \n",
       "9          73       NaN           NaN       NaN         NaN       NaN  "
      ]
     },
     "execution_count": 45,
     "metadata": {},
     "output_type": "execute_result"
    }
   ],
   "source": [
    "data.head(10)"
   ]
  },
  {
   "cell_type": "markdown",
   "id": "faced-leeds",
   "metadata": {},
   "source": [
    "So this is our data looks like now we will do some analytical work here we will compute Activity time in a day.\n",
    "\n",
    "So here is the Recipe:\n",
    "1. Read every line of the file.\n",
    "2. Split each line into a list of values.\n",
    "3. Extract the clumn names.\n",
    "4. Use the column names and lists to create a dictionary.\n",
    "5. Filter out the Record Type and other column in which you are not intrested.\n",
    "6. Make a dictionary for separate day data. \n",
    "7. Calculate the total time of that Record Type time for a day.\n",
    "\n",
    "`Note:` Here we will note use any kind of the module to do this thing, we will make ourself this kind of recipe to do some work with the help of the generators."
   ]
  },
  {
   "cell_type": "code",
   "execution_count": 46,
   "id": "arctic-luxury",
   "metadata": {},
   "outputs": [],
   "source": [
    "# So now first of all we need to read the file\n",
    "file_name = 'Timer_Data.csv'\n",
    "file_lines = (line for line in open(file_name))   # making a generator which will read one line at a time"
   ]
  },
  {
   "cell_type": "code",
   "execution_count": 47,
   "id": "circular-module",
   "metadata": {},
   "outputs": [
    {
     "data": {
      "text/plain": [
       "<generator object <genexpr> at 0x000002177B46EC80>"
      ]
     },
     "execution_count": 47,
     "metadata": {},
     "output_type": "execute_result"
    }
   ],
   "source": [
    "# Now we will check that it is a generator or not\n",
    "file_lines"
   ]
  },
  {
   "cell_type": "markdown",
   "id": "floral-carol",
   "metadata": {},
   "source": [
    "As you can see that it is a generator, Now we will print our first with the help of next , first line of the file will be header so we will store it in a header variable."
   ]
  },
  {
   "cell_type": "code",
   "execution_count": 48,
   "id": "linear-division",
   "metadata": {},
   "outputs": [],
   "source": [
    "header = next(file_lines)"
   ]
  },
  {
   "cell_type": "code",
   "execution_count": 49,
   "id": "aggregate-silence",
   "metadata": {},
   "outputs": [
    {
     "name": "stdout",
     "output_type": "stream",
     "text": [
      "Record Type,Record Name,Record Topic,Record SubTopic,Date,Start Time,TTime,CTime,End Time,ETime,Total Time,Restart-1,R1-Start Time,R1-CTime,R1-End Time,R1-ETime\n",
      "\n"
     ]
    }
   ],
   "source": [
    "# checking the headers\n",
    "print(header)"
   ]
  },
  {
   "cell_type": "markdown",
   "id": "major-closure",
   "metadata": {},
   "source": [
    "As you can see that it return all the column name at once but we did not want that we need one column at a time so for that we need to make another generator which will give us the column vlaue one by one."
   ]
  },
  {
   "cell_type": "code",
   "execution_count": 50,
   "id": "single-administration",
   "metadata": {},
   "outputs": [],
   "source": [
    "# resetting the data\n",
    "file_name = 'Timer_Data.csv'\n",
    "file_lines = (line for line in open(file_name)) \n",
    "\n",
    "# Now making another generator to hold the columns\n",
    "line_cols = (x.rstrip().split(',') for x in file_lines)"
   ]
  },
  {
   "cell_type": "markdown",
   "id": "found-terrorist",
   "metadata": {},
   "source": [
    "Now this recent line again makes another generator which will give us the columns one by one."
   ]
  },
  {
   "cell_type": "code",
   "execution_count": 51,
   "id": "obvious-sight",
   "metadata": {},
   "outputs": [
    {
     "data": {
      "text/plain": [
       "['Record Type',\n",
       " 'Record Name',\n",
       " 'Record Topic',\n",
       " 'Record SubTopic',\n",
       " 'Date',\n",
       " 'Start Time',\n",
       " 'TTime',\n",
       " 'CTime',\n",
       " 'End Time',\n",
       " 'ETime',\n",
       " 'Total Time',\n",
       " 'Restart-1',\n",
       " 'R1-Start Time',\n",
       " 'R1-CTime',\n",
       " 'R1-End Time',\n",
       " 'R1-ETime']"
      ]
     },
     "execution_count": 51,
     "metadata": {},
     "output_type": "execute_result"
    }
   ],
   "source": [
    "# testing of column name by using the next , as we are excepting it should return only one line columns value at a time.\n",
    "# also it will return a list  of column values not a string this time.\n",
    "next(line_cols)"
   ]
  },
  {
   "cell_type": "markdown",
   "id": "aboriginal-generation",
   "metadata": {},
   "source": [
    "Now we have got our header in the form of list now we need to make a dictionary with the values and their corresponding column name. we can achieve this also by using the generator expression.\n",
    "\n",
    "But going furthur we will reset our generator and we will store our header (column names)  in a variable."
   ]
  },
  {
   "cell_type": "code",
   "execution_count": 53,
   "id": "round-prague",
   "metadata": {},
   "outputs": [],
   "source": [
    "# resetting the data\n",
    "file_name = 'Timer_Data.csv'\n",
    "file_lines = (line for line in open(file_name)) \n",
    "\n",
    "# Now making another generator to hold the columns\n",
    "line_cols = (x.rstrip().split(',') for x in file_lines)\n",
    "\n",
    "header = next(line_cols)   # storing the header or column names in the header "
   ]
  },
  {
   "cell_type": "code",
   "execution_count": 54,
   "id": "color-intensity",
   "metadata": {},
   "outputs": [
    {
     "name": "stdout",
     "output_type": "stream",
     "text": [
      "['Record Type', 'Record Name', 'Record Topic', 'Record SubTopic', 'Date', 'Start Time', 'TTime', 'CTime', 'End Time', 'ETime', 'Total Time', 'Restart-1', 'R1-Start Time', 'R1-CTime', 'R1-End Time', 'R1-ETime']\n"
     ]
    }
   ],
   "source": [
    "print(header)"
   ]
  },
  {
   "cell_type": "code",
   "execution_count": 55,
   "id": "chubby-speech",
   "metadata": {},
   "outputs": [],
   "source": [
    "# Now creating the dict for each row values.\n",
    "data_dict  = (dict(zip(header, value)) for value in line_cols)"
   ]
  },
  {
   "cell_type": "markdown",
   "id": "continuous-produce",
   "metadata": {},
   "source": [
    "Now this is also a data_dict which will return the dict of our data,  header value as key and row values as the value fo their corresponding keys.   "
   ]
  },
  {
   "cell_type": "code",
   "execution_count": 56,
   "id": "spatial-pizza",
   "metadata": {},
   "outputs": [
    {
     "data": {
      "text/plain": [
       "{'Record Type': 'Activity',\n",
       " 'Record Name': 'Timer',\n",
       " 'Record Topic': 'Testing ',\n",
       " 'Record SubTopic': 'Total time',\n",
       " 'Date': '02-Jun-21',\n",
       " 'Start Time': '5:54:51 PM',\n",
       " 'TTime': '00:01:00',\n",
       " 'CTime': '00:01:00',\n",
       " 'End Time': '5:56:06 PM',\n",
       " 'ETime': '00:00:14',\n",
       " 'Total Time': '75',\n",
       " 'Restart-1': '',\n",
       " 'R1-Start Time': '',\n",
       " 'R1-CTime': '',\n",
       " 'R1-End Time': '',\n",
       " 'R1-ETime': ''}"
      ]
     },
     "execution_count": 56,
     "metadata": {},
     "output_type": "execute_result"
    }
   ],
   "source": [
    "# Now if we want to check our first dict then we can use it by using a next method.\n",
    "next(data_dict)"
   ]
  },
  {
   "cell_type": "markdown",
   "id": "behavioral-double",
   "metadata": {},
   "source": [
    "As you can see after applying three generator our data will look like this, and the best thing is that noting is stored in the memory excepte some bytes which is used to holds the generator state of variables and other values."
   ]
  },
  {
   "cell_type": "code",
   "execution_count": 58,
   "id": "coupled-documentary",
   "metadata": {},
   "outputs": [],
   "source": [
    "# Now we will get the total time of activity in a day for that we need to get the date activity and total time at the same time.\n",
    "# these all condition can't be defined in a single line so we need to define our generator by using the function method.\n",
    "\n",
    "def get_today_time(record, file):\n",
    "    # here record is the record type\n",
    "    # Now we will put all of our code here \n",
    "    \n",
    "    #1. first of all reading the file\n",
    "    rows = (row for row in open(file))\n",
    "    \n",
    "    #2. now we need to split the columns \n",
    "    cols = (x.rstrip().split(',') for x in rows)\n",
    "    \n",
    "    #3. now we need to store our column \n",
    "    header = next(cols)\n",
    "    \n",
    "    #4. Paring our header with each row values by making a dictionary\n",
    "    data_dict = (dict(zip(header, value)) for value in cols)\n",
    "    \n",
    "    # Now we need to filter our record for a day.\n",
    "    date = None    # to store the date only for once\n",
    "    date_data = None\n",
    "    for row in data_dict:\n",
    "        \n",
    "        if date is None:\n",
    "            date = row['Date']    # store the date only for once until we dont make it None \n",
    "            date_data = {date: []}   # it should return only one day data at once.\n",
    "            \n",
    "        # now we will have our date filter our data according to date.\n",
    "        if date is not None and date == row['Date']:\n",
    "            date_data[date].append(row)\n",
    "        else:\n",
    "            yield date_data\n",
    "            # Now after yielding we will make date and date_data None\n",
    "            data = None\n",
    "            date_data = None\n",
    "            \n",
    "            # Now thid will return us only ony day data\n",
    "            \n",
    "        \n",
    "        "
   ]
  },
  {
   "cell_type": "code",
   "execution_count": 63,
   "id": "centered-tolerance",
   "metadata": {},
   "outputs": [],
   "source": [
    "# Now need to initate the generatro by providing the file name and Record Type\n",
    "data_gen = get_today_time(\"Activity\", \"Timer_Data.csv\")"
   ]
  },
  {
   "cell_type": "code",
   "execution_count": 64,
   "id": "precious-borough",
   "metadata": {},
   "outputs": [],
   "source": [
    "# getting first day data\n",
    "# day_one = next(data_gen)\n",
    "# if we want to optimize the yielded data then \n",
    "one_day = next(data_gen)"
   ]
  },
  {
   "cell_type": "code",
   "execution_count": 68,
   "id": "universal-problem",
   "metadata": {},
   "outputs": [
    {
     "name": "stdout",
     "output_type": "stream",
     "text": [
      "02-Jun-21\n"
     ]
    }
   ],
   "source": []
  },
  {
   "cell_type": "code",
   "execution_count": null,
   "id": "designed-inventory",
   "metadata": {},
   "outputs": [],
   "source": []
  },
  {
   "cell_type": "code",
   "execution_count": null,
   "id": "black-determination",
   "metadata": {},
   "outputs": [],
   "source": []
  }
 ],
 "metadata": {
  "kernelspec": {
   "display_name": "Python 3",
   "language": "python",
   "name": "python3"
  },
  "language_info": {
   "codemirror_mode": {
    "name": "ipython",
    "version": 3
   },
   "file_extension": ".py",
   "mimetype": "text/x-python",
   "name": "python",
   "nbconvert_exporter": "python",
   "pygments_lexer": "ipython3",
   "version": "3.8.3"
  }
 },
 "nbformat": 4,
 "nbformat_minor": 5
}
