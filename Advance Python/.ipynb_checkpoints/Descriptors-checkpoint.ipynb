{
 "cells": [
  {
   "cell_type": "markdown",
   "id": "alien-tuning",
   "metadata": {},
   "source": [
    "## Descriptors\n",
    "A descriptors is what we call nay object that defines __get__(), __set__(), or __delete__(). optionally descriptors cn gave a __set_name__() method also.\n",
    "\n",
    "Note: descriptors are called in another class they can't be used alone, if we want to use a descriptors then we need to initiate them in another class."
   ]
  },
  {
   "cell_type": "code",
   "execution_count": 7,
   "id": "integral-nudist",
   "metadata": {},
   "outputs": [],
   "source": [
    "# a simple descriptors with get and set mehtod only\n",
    "class LoggedAccess:\n",
    "    \n",
    "    # set method takes three argument self, obj, object_class:\n",
    "    def __set__(self, obj, value):\n",
    "        \"\"\"\n",
    "        :param self: self is the object of the descriptors class.\n",
    "        :param obj:instance, an instance of the class in which a descriptor is initiated.\n",
    "        :param obje_class:type, it is the class itself in which we are using the descriptors.\n",
    "        \"\"\"\n",
    "        print(\"In LoggedAccess descriptors: inside __set__ method:\")\n",
    "        print(\"-----------------------------------------------------\")\n",
    "        # Now to check about each object we need to pring them\n",
    "        print(\"self: \",self)\n",
    "        print('obj: ', obj)\n",
    "        print('value: ', value)\n",
    "        \n",
    "    \n",
    "    def __get__(self, obj, owner=None):\n",
    "        \n",
    "        \"\"\"\n",
    "        :param self: self is the object of the descriptors class.\n",
    "        :param obj:instance, an instance of the class in which a descriptor is initiated.\n",
    "        :param owner:type, it is the class itself in which we are using the descriptors.\n",
    "        \"\"\"\n",
    "        \n",
    "        print(\"In LoggedAccess descriptors: inside __get__ method:\")\n",
    "        print(\"-----------------------------------------------------\")\n",
    "        # Now to check about each object we need to pring them\n",
    "        print(\"self: \",self)\n",
    "        print('obj: ', obj)\n",
    "        print('owner: ', owner)\n",
    "        "
   ]
  },
  {
   "cell_type": "code",
   "execution_count": 8,
   "id": "revised-maldives",
   "metadata": {},
   "outputs": [],
   "source": [
    "class Person:\n",
    "    \n",
    "    # Now in this call we need to make an instance of the descriptor class\n",
    "    age = LoggedAccess()"
   ]
  },
  {
   "cell_type": "markdown",
   "id": "hybrid-automation",
   "metadata": {},
   "source": [
    " Now we need to make an instance of the Person class. "
   ]
  },
  {
   "cell_type": "code",
   "execution_count": 9,
   "id": "ignored-license",
   "metadata": {},
   "outputs": [],
   "source": [
    "manish = Person()\n",
    "# now we will access the age class variable by using the manish instance"
   ]
  },
  {
   "cell_type": "code",
   "execution_count": 10,
   "id": "printable-culture",
   "metadata": {},
   "outputs": [
    {
     "name": "stdout",
     "output_type": "stream",
     "text": [
      "In LoggedAccess descriptors: inside __get__ method:\n",
      "-----------------------------------------------------\n",
      "self:  <__main__.LoggedAccess object at 0x000001A8A1241EE0>\n",
      "obj:  <__main__.Person object at 0x000001A89F995B80>\n",
      "owner:  <class '__main__.Person'>\n"
     ]
    }
   ],
   "source": [
    "manish.age  # this will call the __get__ method form the descriptor"
   ]
  },
  {
   "cell_type": "markdown",
   "id": "tracked-motivation",
   "metadata": {},
   "source": [
    "Here you can see that:\\\n",
    "`self`: self is the instance of the LoggedAccess class.\\\n",
    "`obj`: obj is the instance of the Person class in which we have creted the LoaggedAccess object.\\\n",
    "`owner`: ii is the owner of class of the object and also LoggedAccess instance because we created it in this class.\n",
    "\n",
    "**Now we will invoke the __set__ method by assinging a value to the object**"
   ]
  },
  {
   "cell_type": "code",
   "execution_count": 11,
   "id": "determined-ridge",
   "metadata": {},
   "outputs": [
    {
     "name": "stdout",
     "output_type": "stream",
     "text": [
      "In LoggedAccess descriptors: inside __set__ method:\n",
      "-----------------------------------------------------\n",
      "self:  <__main__.LoggedAccess object at 0x000001A8A1241EE0>\n",
      "obj:  <__main__.Person object at 0x000001A89F995B80>\n",
      "value:  10\n"
     ]
    }
   ],
   "source": [
    "manish.age = 10  # this will invoke the __set__ method from the descriptor"
   ]
  },
  {
   "cell_type": "markdown",
   "id": "brown-switzerland",
   "metadata": {},
   "source": [
    "Here you can see that:\\\n",
    "`self`: self is the instance of the LoggedAccess class.\\\n",
    "`obj`: obj is the instance of the Person class in which we have creted the LoaggedAccess object.\\\n",
    "`value`: it is the new value which is assigned in the age object.."
   ]
  },
  {
   "cell_type": "markdown",
   "id": "corresponding-renaissance",
   "metadata": {},
   "source": [
    "___"
   ]
  },
  {
   "cell_type": "markdown",
   "id": "hourly-debut",
   "metadata": {},
   "source": [
    "Now we have seen that a __get__ and __set__ method takes three argument and also we have seen that what these three argument contains. \n",
    "\n",
    "So its time to move a step ahed an manupulate the age variabel by setting some computation inside both classes."
   ]
  },
  {
   "cell_type": "code",
   "execution_count": 16,
   "id": "durable-memphis",
   "metadata": {},
   "outputs": [],
   "source": [
    "# a simple descriptors with get and set mehtod only\n",
    "class LoggedAccess:\n",
    "    \n",
    "    # set method takes three argument self, obj, object_class:\n",
    "    def __set__(self, obj, value):\n",
    "        \"\"\"\n",
    "        :param self: self is the object of the descriptors class.\n",
    "        :param obj:instance, an instance of the class in which a descriptor is initiated.\n",
    "        :param obje_class:type, it is the class itself in which we are using the descriptors.\n",
    "        \"\"\"\n",
    "        print(\"In LoggedAccess descriptors: inside __set__ method:\")\n",
    "        print(\"-----------------------------------------------------\")\n",
    "        # Now to check about each object we need to pring them\n",
    "        print(\"self: \",self)\n",
    "        print('obj: ', obj)\n",
    "        print('value: ', value)\n",
    "        \n",
    "        # Now since obj is the instace of the class person so it will hold the age variable \n",
    "        # so we will use the obj.age to get the age variable then we will return it \n",
    "        \n",
    "        print(\"dict of the object: \",obj.__dict__)\n",
    "        obj._age = value   # here we need to use the private name of the object to avoid the infinite recursion\n",
    "        \n",
    "        # obj.age   --> it is the public name of the variable\n",
    "        # obj._age  --> it is the private name of the varable\n",
    "        \n",
    "    \n",
    "    def __get__(self, obj, owner=None):\n",
    "        \n",
    "        \"\"\"\n",
    "        :param self: self is the object of the descriptors class.\n",
    "        :param obj:instance, an instance of the class in which a descriptor is initiated.\n",
    "        :param owner:type, it is the class itself in which we are using the descriptors.\n",
    "        \"\"\"\n",
    "        \n",
    "        print(\"In LoggedAccess descriptors: inside __get__ method:\")\n",
    "        print(\"-----------------------------------------------------\")\n",
    "        # Now to check about each object we need to pring them\n",
    "        print(\"self: \",self)\n",
    "        print('obj: ', obj)\n",
    "        print('owner: ', owner)\n",
    "        \n",
    "        # Now in __set__() method also obj will contain the age variable so we need to access it.\n",
    "        # to modify its value.\n",
    "        return obj._age\n",
    "        \n",
    "        \n",
    "class Person:\n",
    "    \n",
    "    # Now in this call we need to make an instance of the descriptor class\n",
    "    age = LoggedAccess()          # Descriptor instacne\n",
    "    \n",
    "    # Now here also we will make some modification to store the age value in the instance of the Person object\n",
    "    def __init__(self, name, age):\n",
    "        \n",
    "        self.name  = name       # Regular instance attribute\n",
    "        self.age = age          # Calls __set__()\n",
    "        \n",
    "    # here now we will add a method which will increase the value of the age.\n",
    "    def addAge(self):\n",
    "        self.age += 1            # Calls __set__() and __get__() both"
   ]
  },
  {
   "cell_type": "code",
   "execution_count": 17,
   "id": "indoor-cloud",
   "metadata": {},
   "outputs": [
    {
     "name": "stdout",
     "output_type": "stream",
     "text": [
      "In LoggedAccess descriptors: inside __set__ method:\n",
      "-----------------------------------------------------\n",
      "self:  <__main__.LoggedAccess object at 0x000001E2722C30D0>\n",
      "obj:  <__main__.Person object at 0x000001E272153C40>\n",
      "value:  25\n",
      "dict of the object:  {'name': 'manish'}\n"
     ]
    }
   ],
   "source": [
    "manish = Person('manish', 25)"
   ]
  },
  {
   "cell_type": "markdown",
   "id": "tight-barrier",
   "metadata": {},
   "source": [
    "Caution: Note that here in above code to assign and retrieve the age attribute we have used _age (private name) of the variable to avoide the infinite recursion but in this case we have restricated with the name of the object of the class we cant change it. \n",
    "\n",
    "or in other word:\n",
    "\n",
    "One major issue with this example is that the private name _age is hardwired in the LoggedAccess class. That means that each instance can only have one logged attribute and that its name is unchangeable."
   ]
  },
  {
   "cell_type": "code",
   "execution_count": 26,
   "id": "finnish-kuwait",
   "metadata": {},
   "outputs": [],
   "source": [
    "        \n",
    "class Person:\n",
    "    \n",
    "    # Changing the name of the age attribute to another to see the effect of __set__ and __get__ methods.\n",
    "    AGE = LoggedAccess()          # Descriptor instacne\n",
    "     \n",
    "    # Now here also we will make some modification to store the age value in the instance of the Person object\n",
    "    def __init__(self, name, age):\n",
    "        \n",
    "        self.name  = name       # Regular instance attribute\n",
    "        self.AGE = age          # Calls __set__()\n",
    "        \n",
    "    # here now we will add a method which will increase the value of the age.\n",
    "    def addAge(self):\n",
    "        self.AGE += 1            # Calls __set__() and __get__() both"
   ]
  },
  {
   "cell_type": "code",
   "execution_count": 27,
   "id": "extended-snake",
   "metadata": {},
   "outputs": [
    {
     "name": "stdout",
     "output_type": "stream",
     "text": [
      "In LoggedAccess descriptors: inside __set__ method:\n",
      "-----------------------------------------------------\n",
      "self:  <__main__.LoggedAccess object at 0x000001E2722EA850>\n",
      "obj:  <__main__.Person object at 0x000001E2722EA2B0>\n",
      "value:  25\n",
      "dict of the object:  {'name': 'manish'}\n"
     ]
    }
   ],
   "source": [
    "Name = Person('manish', 25)"
   ]
  },
  {
   "cell_type": "code",
   "execution_count": 28,
   "id": "entire-empty",
   "metadata": {},
   "outputs": [
    {
     "name": "stdout",
     "output_type": "stream",
     "text": [
      "In LoggedAccess descriptors: inside __get__ method:\n",
      "-----------------------------------------------------\n",
      "self:  <__main__.LoggedAccess object at 0x000001E2722EA850>\n",
      "obj:  <__main__.Person object at 0x000001E2722EA2B0>\n",
      "owner:  <class '__main__.Person'>\n"
     ]
    },
    {
     "data": {
      "text/plain": [
       "25"
      ]
     },
     "execution_count": 28,
     "metadata": {},
     "output_type": "execute_result"
    }
   ],
   "source": [
    "Name.AGE"
   ]
  },
  {
   "cell_type": "code",
   "execution_count": 32,
   "id": "surrounded-evolution",
   "metadata": {},
   "outputs": [
    {
     "name": "stdout",
     "output_type": "stream",
     "text": [
      "In LoggedAccess descriptors: inside __get__ method:\n",
      "-----------------------------------------------------\n",
      "self:  <__main__.LoggedAccess object at 0x000001E2722EA850>\n",
      "obj:  <__main__.Person object at 0x000001E2722EA2B0>\n",
      "owner:  <class '__main__.Person'>\n",
      "In LoggedAccess descriptors: inside __set__ method:\n",
      "-----------------------------------------------------\n",
      "self:  <__main__.LoggedAccess object at 0x000001E2722EA850>\n",
      "obj:  <__main__.Person object at 0x000001E2722EA2B0>\n",
      "value:  28\n",
      "dict of the object:  {'name': 'manish', '_age': 27}\n"
     ]
    }
   ],
   "source": [
    "Name.addAge()"
   ]
  },
  {
   "cell_type": "markdown",
   "id": "sexual-aggregate",
   "metadata": {},
   "source": [
    "here you can see that the name of the object is still _age after changing the name of the object (`AGE = LoggedAccess()` )."
   ]
  },
  {
   "cell_type": "markdown",
   "id": "viral-setting",
   "metadata": {},
   "source": [
    "Now we will resolve this problem by adding a new method called `__set_name__()` which will be invoked during the creatiion of the instance of the LoggedAccess Descriptor instance."
   ]
  },
  {
   "cell_type": "markdown",
   "id": "appointed-project",
   "metadata": {},
   "source": [
    "## Adding name functionallity to the descriptor"
   ]
  },
  {
   "cell_type": "code",
   "execution_count": 39,
   "id": "ecological-hanging",
   "metadata": {},
   "outputs": [
    {
     "name": "stdout",
     "output_type": "stream",
     "text": [
      "In LoggedAccess descriptors: inside __set_name__ method:\n",
      "-----------------------------------------------------\n",
      "self:  <__main__.LoggedAccess object at 0x000001E27213E940>\n",
      "owner:  <class '__main__.Person'>\n",
      "name:  name\n",
      "\n",
      "In LoggedAccess descriptors: inside __set_name__ method:\n",
      "-----------------------------------------------------\n",
      "self:  <__main__.LoggedAccess object at 0x000001E27213ED90>\n",
      "owner:  <class '__main__.Person'>\n",
      "name:  age\n",
      "\n"
     ]
    }
   ],
   "source": [
    "# a simple descriptors with get and set mehtod only\n",
    "class LoggedAccess:\n",
    "    \n",
    "    \n",
    "    def __set_name__(self, owner, name):\n",
    "        \n",
    "        \"\"\"\n",
    "        :param self: self is the object of the descriptors class.\n",
    "        :param owner:type, it is the class itself in which we are using the descriptors.\n",
    "        :param name:name, it is the name of the object of the self object.\n",
    "        \n",
    "        \"\"\"\n",
    "        print(\"In LoggedAccess descriptors: inside __set_name__ method:\")\n",
    "        print(\"-----------------------------------------------------\")\n",
    "        # Now to check about each object we need to pring them\n",
    "        print(\"self: \",self)\n",
    "        print('owner: ', owner)\n",
    "        print('name: ', name)\n",
    "        print()\n",
    "    \n",
    "    # set method takes three argument self, obj, object_class:\n",
    "    def __set__(self, obj, value):\n",
    "        \"\"\"\n",
    "        :param self: self is the object of the descriptors class.\n",
    "        :param obj:instance, an instance of the class in which a descriptor is initiated.\n",
    "        :param obje_class:type, it is the class itself in which we are using the descriptors.\n",
    "        \"\"\"\n",
    "        print(\"In LoggedAccess descriptors: inside __set__ method:\")\n",
    "        print(\"-----------------------------------------------------\")\n",
    "        # Now to check about each object we need to pring them\n",
    "        print(\"self: \",self)\n",
    "        print('obj: ', obj)\n",
    "        print('value: ', value)\n",
    "        \n",
    "        # Now since obj is the instace of the class person so it will hold the age variable \n",
    "        # so we will use the obj.age to get the age variable then we will return it \n",
    "        \n",
    "        print(\"dict of the object: \",obj.__dict__)\n",
    "        obj._age = value   # here we need to use the private name of the object to avoid the infinite recursion\n",
    "        \n",
    "        # obj.age   --> it is the public name of the variable\n",
    "        # obj._age  --> it is the private name of the varable\n",
    "        print()\n",
    "    \n",
    "    def __get__(self, obj, owner=None):\n",
    "        \n",
    "        \"\"\"\n",
    "        This method will be invoked as we creates the object of the LoggedAccess instance.\n",
    "        \n",
    "        :param self: self is the object of the descriptors class.\n",
    "        :param obj:instance, an instance of the class in which a descriptor is initiated.\n",
    "        :param owner:type, it is the class itself in which we are using the descriptors.\n",
    "        \"\"\"\n",
    "        \n",
    "        print(\"In LoggedAccess descriptors: inside __get__ method:\")\n",
    "        print(\"-----------------------------------------------------\")\n",
    "        # Now to check about each object we need to pring them\n",
    "        print(\"self: \",self)\n",
    "        print('obj: ', obj)\n",
    "        print('owner: ', owner)\n",
    "        print()\n",
    "        \n",
    "        # Now in __set__() method also obj will contain the age variable so we need to access it.\n",
    "        # to modify its value.\n",
    "        return obj._age\n",
    "        \n",
    "        \n",
    "class Person:\n",
    "    \n",
    "    # Now in this call we need to make an instance of the descriptor class\n",
    "    name = LoggedAccess()          # first Descriptor instacne\n",
    "    age = LoggedAccess()           # seconf Descriptor instance\n",
    "    \n",
    "    # Now here also we will make some modification to store the age value in the instance of the Person object\n",
    "    def __init__(self, name, age):\n",
    "        \n",
    "        self.name  = name       # Regular instance attribute\n",
    "        self.age = age          # Calls __set__()\n",
    "        \n",
    "    # here now we will add a method which will increase the value of the age.\n",
    "    def addAge(self):\n",
    "        self.age += 1            # Calls __set__() and __get__() both"
   ]
  },
  {
   "cell_type": "markdown",
   "id": "superb-celebrity",
   "metadata": {},
   "source": [
    "As you can see that as soon as we creates the instance of the LoggedAccess then it will call the `__set_name__()` method.\n",
    "\n",
    "Now we will use this `__set_name__()` method to change the name of the attribute dynamically."
   ]
  },
  {
   "cell_type": "markdown",
   "id": "returning-sympathy",
   "metadata": {},
   "source": [
    "### Customize the name of the instance."
   ]
  },
  {
   "cell_type": "code",
   "execution_count": 40,
   "id": "sustained-laser",
   "metadata": {},
   "outputs": [
    {
     "name": "stdout",
     "output_type": "stream",
     "text": [
      "In LoggedAccess descriptors: inside __set_name__ method:\n",
      "-----------------------------------------------------\n",
      "self:  <__main__.LoggedAccess object at 0x000001E2724651F0>\n",
      "owner:  <class '__main__.Person'>\n",
      "name:  name\n",
      "\n",
      "In LoggedAccess descriptors: inside __set_name__ method:\n",
      "-----------------------------------------------------\n",
      "self:  <__main__.LoggedAccess object at 0x000001E2724657F0>\n",
      "owner:  <class '__main__.Person'>\n",
      "name:  age\n",
      "\n"
     ]
    }
   ],
   "source": [
    "# a simple descriptors with get and set mehtod only\n",
    "class LoggedAccess:\n",
    "    \n",
    "    \n",
    "    def __set_name__(self, owner, name):\n",
    "        \n",
    "        \"\"\"\n",
    "        :param self: self is the object of the descriptors class.\n",
    "        :param owner:type, it is the class itself in which we are using the descriptors.\n",
    "        :param name:name, it is the name of the object of the self object.\n",
    "        \n",
    "        \"\"\"\n",
    "        print(\"In LoggedAccess descriptors: inside __set_name__ method:\")\n",
    "        print(\"-----------------------------------------------------\")\n",
    "        # Now to check about each object we need to pring them\n",
    "        print(\"self: \",self)\n",
    "        print('owner: ', owner)\n",
    "        print('name: ', name)\n",
    "        print()\n",
    "        \n",
    "        # Now here we need to add variable for the self instance of the Descriptor.\n",
    "        self.public_name = name\n",
    "        self.private_name = '_' + name\n",
    "        \n",
    "        # Now after assigning the name of the instance we need to use these name in the __set__ and _get__ method.\n",
    "        # and also we can use setattr() and getattr() method since now we have the name of the instance.\n",
    "    \n",
    "    # set method takes three argument self, obj, object_class:\n",
    "    def __set__(self, obj, value):\n",
    "        \"\"\"\n",
    "        :param self: self is the object of the descriptors class.\n",
    "        :param obj:instance, an instance of the class in which a descriptor is initiated.\n",
    "        :param obje_class:type, it is the class itself in which we are using the descriptors.\n",
    "        \"\"\"\n",
    "        print(\"In LoggedAccess descriptors: inside __set__ method:\")\n",
    "        print(\"-----------------------------------------------------\")\n",
    "        # Now to check about each object we need to pring them\n",
    "        print(\"self: \",self)\n",
    "        print('obj: ', obj)\n",
    "        print('value: ', value)\n",
    "        \n",
    "        # Now since obj is the instace of the class person so it will hold the age variable \n",
    "        # so we will use the obj.age to get the age variable then we will return it \n",
    "        \n",
    "        print(\"dict of the object: \",obj.__dict__)\n",
    "        setattr(obj, self.private_name, value)   # using setattr() to assing the value in the instance.\n",
    "        \n",
    "        # obj.age   --> it is the public name of the variable\n",
    "        # obj._age  --> it is the private name of the varable\n",
    "        print()\n",
    "    \n",
    "    def __get__(self, obj, owner=None):\n",
    "        \n",
    "        \"\"\"\n",
    "        This method will be invoked as we creates the object of the LoggedAccess instance.\n",
    "        \n",
    "        :param self: self is the object of the descriptors class.\n",
    "        :param obj:instance, an instance of the class in which a descriptor is initiated.\n",
    "        :param owner:type, it is the class itself in which we are using the descriptors.\n",
    "        \"\"\"\n",
    "        \n",
    "        print(\"In LoggedAccess descriptors: inside __get__ method:\")\n",
    "        print(\"-----------------------------------------------------\")\n",
    "        # Now to check about each object we need to pring them\n",
    "        print(\"self: \",self)\n",
    "        print('obj: ', obj)\n",
    "        print('owner: ', owner)\n",
    "        print()\n",
    "        \n",
    "        # Now in __set__() method also obj will contain the age variable so we need to access it.\n",
    "        # to modify its value.\n",
    "        return getattr(obj, self.private_name)  # using getattr() to get the self value\n",
    "        \n",
    "        \n",
    "class Person:\n",
    "    \n",
    "    # Now in this call we need to make an instance of the descriptor class\n",
    "    name = LoggedAccess()          # first Descriptor instacne\n",
    "    age = LoggedAccess()           # seconf Descriptor instance\n",
    "    \n",
    "    # Now here also we will make some modification to store the age value in the instance of the Person object\n",
    "    def __init__(self, name, age):\n",
    "        \n",
    "        self.name  = name       # Regular instance attribute\n",
    "        self.age = age          # Calls __set__()\n",
    "        \n",
    "    # here now we will add a method which will increase the value of the age.\n",
    "    def addAge(self):\n",
    "        self.age += 1            # Calls __set__() and __get__() both"
   ]
  },
  {
   "cell_type": "markdown",
   "id": "liked-opening",
   "metadata": {},
   "source": [
    "Now we will make two instance of person class."
   ]
  },
  {
   "cell_type": "code",
   "execution_count": 41,
   "id": "honest-stocks",
   "metadata": {},
   "outputs": [
    {
     "name": "stdout",
     "output_type": "stream",
     "text": [
      "In LoggedAccess descriptors: inside __set__ method:\n",
      "-----------------------------------------------------\n",
      "self:  <__main__.LoggedAccess object at 0x000001E2724651F0>\n",
      "obj:  <__main__.Person object at 0x000001E2721998B0>\n",
      "value:  manish\n",
      "dict of the object:  {}\n",
      "\n",
      "In LoggedAccess descriptors: inside __set__ method:\n",
      "-----------------------------------------------------\n",
      "self:  <__main__.LoggedAccess object at 0x000001E2724657F0>\n",
      "obj:  <__main__.Person object at 0x000001E2721998B0>\n",
      "value:  25\n",
      "dict of the object:  {'_name': 'manish'}\n",
      "\n",
      "In LoggedAccess descriptors: inside __set__ method:\n",
      "-----------------------------------------------------\n",
      "self:  <__main__.LoggedAccess object at 0x000001E2724651F0>\n",
      "obj:  <__main__.Person object at 0x000001E272037C40>\n",
      "value:  sagar\n",
      "dict of the object:  {}\n",
      "\n",
      "In LoggedAccess descriptors: inside __set__ method:\n",
      "-----------------------------------------------------\n",
      "self:  <__main__.LoggedAccess object at 0x000001E2724657F0>\n",
      "obj:  <__main__.Person object at 0x000001E272037C40>\n",
      "value:  24\n",
      "dict of the object:  {'_name': 'sagar'}\n",
      "\n"
     ]
    }
   ],
   "source": [
    "one = Person('manish', 25)\n",
    "two = Person('sagar', 24)"
   ]
  },
  {
   "cell_type": "markdown",
   "id": "peripheral-phoenix",
   "metadata": {},
   "source": [
    "Note: note that here` __set__` method is called twice for single Person() instance, because now we have two variable in Person() instance and both invokes the `__set__` method to set their corresponding value and also you can see the difference in each call of the `__set__` method."
   ]
  },
  {
   "cell_type": "code",
   "execution_count": 42,
   "id": "experimental-functionality",
   "metadata": {},
   "outputs": [
    {
     "data": {
      "text/plain": [
       "{'_name': 'sagar', '_age': 24}"
      ]
     },
     "execution_count": 42,
     "metadata": {},
     "output_type": "execute_result"
    }
   ],
   "source": [
    "vars(two)"
   ]
  },
  {
   "cell_type": "code",
   "execution_count": 43,
   "id": "incredible-western",
   "metadata": {},
   "outputs": [
    {
     "name": "stdout",
     "output_type": "stream",
     "text": [
      "In LoggedAccess descriptors: inside __get__ method:\n",
      "-----------------------------------------------------\n",
      "self:  <__main__.LoggedAccess object at 0x000001E2724657F0>\n",
      "obj:  <__main__.Person object at 0x000001E272037C40>\n",
      "owner:  <class '__main__.Person'>\n",
      "\n"
     ]
    },
    {
     "data": {
      "text/plain": [
       "24"
      ]
     },
     "execution_count": 43,
     "metadata": {},
     "output_type": "execute_result"
    }
   ],
   "source": [
    "two.age"
   ]
  },
  {
   "cell_type": "code",
   "execution_count": 44,
   "id": "previous-exhibit",
   "metadata": {},
   "outputs": [
    {
     "name": "stdout",
     "output_type": "stream",
     "text": [
      "In LoggedAccess descriptors: inside __get__ method:\n",
      "-----------------------------------------------------\n",
      "self:  <__main__.LoggedAccess object at 0x000001E2724651F0>\n",
      "obj:  <__main__.Person object at 0x000001E272037C40>\n",
      "owner:  <class '__main__.Person'>\n",
      "\n"
     ]
    },
    {
     "data": {
      "text/plain": [
       "'sagar'"
      ]
     },
     "execution_count": 44,
     "metadata": {},
     "output_type": "execute_result"
    }
   ],
   "source": [
    "two.name"
   ]
  },
  {
   "cell_type": "code",
   "execution_count": 47,
   "id": "constant-simon",
   "metadata": {},
   "outputs": [
    {
     "data": {
      "text/plain": [
       "{'public_name': 'name', 'private_name': '_name'}"
      ]
     },
     "execution_count": 47,
     "metadata": {},
     "output_type": "execute_result"
    }
   ],
   "source": [
    "vars(vars(Person)['name'])"
   ]
  },
  {
   "cell_type": "markdown",
   "id": "listed-thompson",
   "metadata": {},
   "source": [
    "## Validator Example\n",
    "a validator class can help us to validate and control on class attributes with various conditions. \n",
    "\n",
    "Note: example is taken form the Descriptor guide documentation"
   ]
  },
  {
   "cell_type": "code",
   "execution_count": 66,
   "id": "signed-difficulty",
   "metadata": {},
   "outputs": [],
   "source": [
    "# This validator class is both an abstract base cla and a managed attribute descriptor.\n",
    "from abc import ABC, abstractmethod\n",
    "\n",
    "\n",
    "# Now we will define our Validator class:\n",
    "\n",
    "class Validator(ABC):\n",
    "    # in this we have inherited ABC class to use the abstractmethod decorator\n",
    "    # We have created this Validator class to avoid the repetition of same code in each validator class\n",
    "    # Now if we want to make our custom class with same piece of code then we can use this Validator class\n",
    "    # to avoid the repetition of the code.\n",
    "\n",
    "    def __set_name__(self, owner, name):\n",
    "        self.private_name = '_' + name\n",
    "\n",
    "    def __set__(self, obj, value):\n",
    "        print(\"set is called form the validator\")\n",
    "        self.validate(value)  # it is the abstract method which is defined with no body.\n",
    "        setattr(obj, self.private_name, value)\n",
    "\n",
    "    def __get__(self, obj, objtype=None):\n",
    "        return getattr(obj, self.private_name)\n",
    "\n",
    "    # Now we will define our abstractmethod which we have used in the __set__ method.\n",
    "\n",
    "    @abstractmethod\n",
    "    def validate(self, value):  # Note that a abstract method does not have any definition body\n",
    "        pass\n",
    "    # To use the validate method we need to define it in its owner class in which we will make an instance\n",
    "    # of this descriptor class.\n"
   ]
  },
  {
   "cell_type": "markdown",
   "id": "regional-concentrate",
   "metadata": {},
   "source": [
    "**Now we will make some other class in which we will use this validator**\\\n",
    "`Note`: Custom validator need to inherit from Validator and must supply a validate() mehod to tet various restriction as needed."
   ]
  },
  {
   "cell_type": "code",
   "execution_count": 67,
   "id": "apart-shoulder",
   "metadata": {},
   "outputs": [],
   "source": [
    "class OneOf(Validator):\n",
    "    # inherited the Validatro class to create custom validator\n",
    "    \"\"\"\n",
    "    OneOf class will be used to verifies that a value is one of a restricated set of options. \n",
    "    it the value does not matches the value from the options then it will raise an ValueError or we can make any \n",
    "    kind of exception as we want.\n",
    "    \"\"\"\n",
    "    \n",
    "    def __init__(self, *options):\n",
    "        self.options = set(options)    \n",
    "        # we will set this options\n",
    "        \n",
    "    def validate(self, value):\n",
    "        print(\"validate is called\")\n",
    "        if value not in self.options:\n",
    "            raise ValueError(f\"Expected {value!r} to be one of {self.options!r}\")"
   ]
  },
  {
   "cell_type": "code",
   "execution_count": 68,
   "id": "proved-testing",
   "metadata": {},
   "outputs": [],
   "source": [
    "class Component:\n",
    "    kind = OneOf('notified', 'delayed', 'upcoming')\n",
    "\n",
    "    # 1. when we create this 'kind' instance of OneOf class will call the __set_name__ method to set the name of the instance\n",
    "    # this name of the instance will take place on the self.kind in below __init__ method.\n",
    "\n",
    "    # 2. After calling the __set__name method it will call the __init__ method from the OneOf class and it will\n",
    "    # put some values in self.options as the reference from which we can compare the value of the self.kind\n",
    "\n",
    "    # since init method will set the self.options value by calling the set method\n",
    "    # Note set method of the Validator will be called only when we will set the kind instance of the OneOf validator or descriptor class\n",
    "\n",
    "    def __init__(self, kind):\n",
    "        print('trying to set the value of kind ')\n",
    "        self.kind = kind"
   ]
  },
  {
   "cell_type": "code",
   "execution_count": 70,
   "id": "confidential-assignment",
   "metadata": {},
   "outputs": [
    {
     "name": "stdout",
     "output_type": "stream",
     "text": [
      "trying to set the value of kind \n",
      "set is called form the validator\n",
      "validate is called\n"
     ]
    },
    {
     "ename": "ValueError",
     "evalue": "Expected 'pending' to be one of {'notified', 'upcoming', 'delayed'}",
     "output_type": "error",
     "traceback": [
      "\u001b[1;31m---------------------------------------------------------------------------\u001b[0m",
      "\u001b[1;31mValueError\u001b[0m                                Traceback (most recent call last)",
      "\u001b[1;32m<ipython-input-70-82b02c01b330>\u001b[0m in \u001b[0;36m<module>\u001b[1;34m\u001b[0m\n\u001b[1;32m----> 1\u001b[1;33m \u001b[0mfake\u001b[0m \u001b[1;33m=\u001b[0m \u001b[0mComponent\u001b[0m\u001b[1;33m(\u001b[0m\u001b[1;34m'pending'\u001b[0m\u001b[1;33m)\u001b[0m\u001b[1;33m\u001b[0m\u001b[1;33m\u001b[0m\u001b[0m\n\u001b[0m\u001b[0;32m      2\u001b[0m \u001b[1;31m# Now when we creates the fake instance of the Component class it will call the __init__ method form Component\u001b[0m\u001b[1;33m\u001b[0m\u001b[1;33m\u001b[0m\u001b[1;33m\u001b[0m\u001b[0m\n\u001b[0;32m      3\u001b[0m \u001b[1;31m# class and it will try to set the self.kind instance, since self.kind will be considered as the object of the OneOf descriptor\u001b[0m\u001b[1;33m\u001b[0m\u001b[1;33m\u001b[0m\u001b[1;33m\u001b[0m\u001b[0m\n\u001b[0;32m      4\u001b[0m \u001b[1;31m# os it will call the __set__ method from the OneOf  while setting the value in it.\u001b[0m\u001b[1;33m\u001b[0m\u001b[1;33m\u001b[0m\u001b[1;33m\u001b[0m\u001b[0m\n\u001b[0;32m      5\u001b[0m \u001b[1;31m# Now __set__ method will call the validate method to validate the value of the instance.\u001b[0m\u001b[1;33m\u001b[0m\u001b[1;33m\u001b[0m\u001b[1;33m\u001b[0m\u001b[0m\n",
      "\u001b[1;32m<ipython-input-68-55f8552d9145>\u001b[0m in \u001b[0;36m__init__\u001b[1;34m(self, kind)\u001b[0m\n\u001b[0;32m     13\u001b[0m     \u001b[1;32mdef\u001b[0m \u001b[0m__init__\u001b[0m\u001b[1;33m(\u001b[0m\u001b[0mself\u001b[0m\u001b[1;33m,\u001b[0m \u001b[0mkind\u001b[0m\u001b[1;33m)\u001b[0m\u001b[1;33m:\u001b[0m\u001b[1;33m\u001b[0m\u001b[1;33m\u001b[0m\u001b[0m\n\u001b[0;32m     14\u001b[0m         \u001b[0mprint\u001b[0m\u001b[1;33m(\u001b[0m\u001b[1;34m'trying to set the value of kind '\u001b[0m\u001b[1;33m)\u001b[0m\u001b[1;33m\u001b[0m\u001b[1;33m\u001b[0m\u001b[0m\n\u001b[1;32m---> 15\u001b[1;33m         \u001b[0mself\u001b[0m\u001b[1;33m.\u001b[0m\u001b[0mkind\u001b[0m \u001b[1;33m=\u001b[0m \u001b[0mkind\u001b[0m\u001b[1;33m\u001b[0m\u001b[1;33m\u001b[0m\u001b[0m\n\u001b[0m",
      "\u001b[1;32m<ipython-input-66-9807d47a00e1>\u001b[0m in \u001b[0;36m__set__\u001b[1;34m(self, obj, value)\u001b[0m\n\u001b[0;32m     16\u001b[0m     \u001b[1;32mdef\u001b[0m \u001b[0m__set__\u001b[0m\u001b[1;33m(\u001b[0m\u001b[0mself\u001b[0m\u001b[1;33m,\u001b[0m \u001b[0mobj\u001b[0m\u001b[1;33m,\u001b[0m \u001b[0mvalue\u001b[0m\u001b[1;33m)\u001b[0m\u001b[1;33m:\u001b[0m\u001b[1;33m\u001b[0m\u001b[1;33m\u001b[0m\u001b[0m\n\u001b[0;32m     17\u001b[0m         \u001b[0mprint\u001b[0m\u001b[1;33m(\u001b[0m\u001b[1;34m\"set is called form the validator\"\u001b[0m\u001b[1;33m)\u001b[0m\u001b[1;33m\u001b[0m\u001b[1;33m\u001b[0m\u001b[0m\n\u001b[1;32m---> 18\u001b[1;33m         \u001b[0mself\u001b[0m\u001b[1;33m.\u001b[0m\u001b[0mvalidate\u001b[0m\u001b[1;33m(\u001b[0m\u001b[0mvalue\u001b[0m\u001b[1;33m)\u001b[0m  \u001b[1;31m# it is the abstract method which is defined with no body.\u001b[0m\u001b[1;33m\u001b[0m\u001b[1;33m\u001b[0m\u001b[0m\n\u001b[0m\u001b[0;32m     19\u001b[0m         \u001b[0msetattr\u001b[0m\u001b[1;33m(\u001b[0m\u001b[0mobj\u001b[0m\u001b[1;33m,\u001b[0m \u001b[0mself\u001b[0m\u001b[1;33m.\u001b[0m\u001b[0mprivate_name\u001b[0m\u001b[1;33m,\u001b[0m \u001b[0mvalue\u001b[0m\u001b[1;33m)\u001b[0m\u001b[1;33m\u001b[0m\u001b[1;33m\u001b[0m\u001b[0m\n\u001b[0;32m     20\u001b[0m \u001b[1;33m\u001b[0m\u001b[0m\n",
      "\u001b[1;32m<ipython-input-67-3630dbc87af7>\u001b[0m in \u001b[0;36mvalidate\u001b[1;34m(self, value)\u001b[0m\n\u001b[0;32m     14\u001b[0m         \u001b[0mprint\u001b[0m\u001b[1;33m(\u001b[0m\u001b[1;34m\"validate is called\"\u001b[0m\u001b[1;33m)\u001b[0m\u001b[1;33m\u001b[0m\u001b[1;33m\u001b[0m\u001b[0m\n\u001b[0;32m     15\u001b[0m         \u001b[1;32mif\u001b[0m \u001b[0mvalue\u001b[0m \u001b[1;32mnot\u001b[0m \u001b[1;32min\u001b[0m \u001b[0mself\u001b[0m\u001b[1;33m.\u001b[0m\u001b[0moptions\u001b[0m\u001b[1;33m:\u001b[0m\u001b[1;33m\u001b[0m\u001b[1;33m\u001b[0m\u001b[0m\n\u001b[1;32m---> 16\u001b[1;33m             \u001b[1;32mraise\u001b[0m \u001b[0mValueError\u001b[0m\u001b[1;33m(\u001b[0m\u001b[1;34mf\"Expected {value!r} to be one of {self.options!r}\"\u001b[0m\u001b[1;33m)\u001b[0m\u001b[1;33m\u001b[0m\u001b[1;33m\u001b[0m\u001b[0m\n\u001b[0m",
      "\u001b[1;31mValueError\u001b[0m: Expected 'pending' to be one of {'notified', 'upcoming', 'delayed'}"
     ]
    }
   ],
   "source": [
    "fake = Component('pending')\n",
    "# Now when we creates the fake instance of the Component class it will call the __init__ method form Component\n",
    "# class and it will try to set the self.kind instance, since self.kind will be considered as the object of the OneOf descriptor\n",
    "# os it will call the __set__ method from the OneOf  while setting the value in it.\n",
    "# Now __set__ method will call the validate method to validate the value of the instance.\n"
   ]
  },
  {
   "cell_type": "markdown",
   "id": "apart-tamil",
   "metadata": {},
   "source": [
    "Note: We can apply any kind of restriction as we want during defining the validatro calss and validate function , this will add extra protection in our program."
   ]
  },
  {
   "cell_type": "markdown",
   "id": "sunrise-transsexual",
   "metadata": {},
   "source": [
    "**adding two more validator of different functionality**"
   ]
  },
  {
   "cell_type": "code",
   "execution_count": 72,
   "id": "civic-trail",
   "metadata": {},
   "outputs": [],
   "source": [
    "class Number(Validator):\n",
    "    \"\"\"\n",
    "    A validating class of number with some restriction of range.\n",
    "    \"\"\"\n",
    "    def __init__(self, minvalue, maxvalue, predicate=None):\n",
    "        \"\"\"\n",
    "        minvalue: to assign the mininum value for this kind of instance.\n",
    "        maxvalue: to assign the maximum value for this kind of instance.\n",
    "        \"\"\"\n",
    "        self.minvalue = minvalue\n",
    "        self.maxvalue = maxvalue\n",
    "        \n",
    "    def validate(self, value):\n",
    "        \n",
    "        if not isinstance(value, (int, float)):\n",
    "            raise TypeError(f\"Expected {value!r} to be an int or float.\")\n",
    "            \n",
    "        if self.minvalue is not None and value < self.minvalue:\n",
    "            raise ValueError(f\"Expected {value!r} at least {self.minvalue!r}\")\n",
    "            \n",
    "        if self.maxvalue is not None and value > self.maxvalue:\n",
    "            raise ValueError(f\"Expected {value!r} to be no more than {self.maxvalue!r}\")"
   ]
  },
  {
   "cell_type": "code",
   "execution_count": 73,
   "id": "industrial-thompson",
   "metadata": {},
   "outputs": [],
   "source": [
    "# making another kind of validator\n",
    "class String(Validator):\n",
    "    \"\"\"\n",
    "    A String Validating class which will be used to apply some restrication on the instance of the String class.\n",
    "    \"\"\"\n",
    "    \n",
    "    def __init__(self, minsize=None, maxsize=None, predicate=None):\n",
    "        self.minsize = minsize\n",
    "        self.maxsize = maxsize\n",
    "        self.predicate = predicate\n",
    "        \n",
    "    def validate(self, value):\n",
    "        \n",
    "        if not isinstance(value, str):\n",
    "            raise TypeError(f\"Expected {value!r} to be an str!\")\n",
    "            \n",
    "        if self.minsize is not None and len(value) < self.minsize:\n",
    "            raise ValueError(f\"Expected {value!r} to be no smaller than {self.minsize!r}\")\n",
    "            \n",
    "        if self.maxsize is not None and len(value) > self.maxsize:\n",
    "            raise ValueError(f\"Expected {value!r} to no bigger than {self.maxsize!r}\")\n",
    "            \n",
    "        if self.predicate is not None and not self.predicate(value):\n",
    "            raise ValueError(f\"Expected {self.predicate!r} to be true for {valuea!r}\")"
   ]
  },
  {
   "cell_type": "markdown",
   "id": "resident-league",
   "metadata": {},
   "source": [
    "**NOw we will redefine our Component class with new Validators**"
   ]
  },
  {
   "cell_type": "code",
   "execution_count": 75,
   "id": "integrated-heritage",
   "metadata": {},
   "outputs": [],
   "source": [
    "class Component:\n",
    "    kind = OneOf('metal', 'wood', 'plastic')\n",
    "    quantity = Number(minvalue=0, maxvalue=10)\n",
    "    name = String(minsize=3, maxsize=10, predicate=str.isupper)\n",
    "\n",
    "    # The descriptors will prevent invalid instance from being created.\n",
    "    def __init__(self, name, kind, quantity):\n",
    "        \n",
    "        self.kind = kind\n",
    "        self.name = name\n",
    "        self.quantity = quantity"
   ]
  },
  {
   "cell_type": "code",
   "execution_count": 76,
   "id": "fixed-creation",
   "metadata": {},
   "outputs": [
    {
     "name": "stdout",
     "output_type": "stream",
     "text": [
      "set is called form the validator\n",
      "validate is called\n",
      "set is called form the validator\n",
      "set is called form the validator\n"
     ]
    },
    {
     "data": {
      "text/plain": [
       "<__main__.Component at 0x1e272b2a070>"
      ]
     },
     "execution_count": 76,
     "metadata": {},
     "output_type": "execute_result"
    }
   ],
   "source": [
    "Component('TABLE', \"wood\", 5)"
   ]
  },
  {
   "cell_type": "markdown",
   "id": "sweet-fault",
   "metadata": {},
   "source": [
    "## Property Descriptor\n",
    "\n",
    "Now we will create a property descriptor which will same as the built in `property()` or `@property` in which we will se that how property follows the descriptor protocol.  "
   ]
  },
  {
   "cell_type": "markdown",
   "id": "sharp-score",
   "metadata": {},
   "source": [
    "To create a property descriptor first of all we will see the property behaviour. To check that wi need to create an instance of the property descriptor. property descriptor needs four functions to work it fully funtional. fget, fset, fdel and doc. Now first we will create a descriptor without any class."
   ]
  },
  {
   "cell_type": "code",
   "execution_count": 2,
   "id": "concrete-straight",
   "metadata": {},
   "outputs": [],
   "source": [
    "pdes = property()"
   ]
  },
  {
   "cell_type": "code",
   "execution_count": 6,
   "id": "systematic-spending",
   "metadata": {},
   "outputs": [
    {
     "name": "stdout",
     "output_type": "stream",
     "text": [
      "<property object at 0x0000029D84B74DB0>\n",
      "<class 'property'>\n"
     ]
    }
   ],
   "source": [
    "print(pdes)\n",
    "print(type(pdes))\n",
    "\n",
    "# if we try to set something in this\n",
    "pdes = 10"
   ]
  },
  {
   "cell_type": "code",
   "execution_count": 9,
   "id": "alien-addiction",
   "metadata": {},
   "outputs": [
    {
     "name": "stdout",
     "output_type": "stream",
     "text": [
      "10 <class 'int'>\n"
     ]
    }
   ],
   "source": [
    "print(pdes, type(pdes))\n",
    "# As you can see that if we dont create the descriptor inside the class then instance will loss its original identity\n",
    "# as it did after assigning 10 in it."
   ]
  },
  {
   "cell_type": "markdown",
   "id": "active-winter",
   "metadata": {},
   "source": [
    "Now we will create a dummy class to work this propery properly."
   ]
  },
  {
   "cell_type": "code",
   "execution_count": 10,
   "id": "parental-reporter",
   "metadata": {},
   "outputs": [],
   "source": [
    "class dummy():\n",
    "    \n",
    "    def __init__(self):\n",
    "        self.__value = 'dummy test variable'\n",
    "    \n",
    "    def fget(self):\n",
    "        print(\"getting the value variable \")\n",
    "        return self.__value\n",
    "    \n",
    "    def fset(self, value): \n",
    "        print(\"setting the dummy valriable with value: \", value)\n",
    "        self.__value = value\n",
    "    \n",
    "    def fdel(self):\n",
    "        print(\"deleting the dummy variable\")\n",
    "        del self.__value\n",
    "        \n",
    "    # Now we willl create a instance of the property by passing these three functions inside the property\n",
    "    # Note: the name of the instance should match name of self.__value and just remove '__' double underscore.\n",
    "    value = property(fget, fset, fdel, \"This a dummy class instance\")\n",
    "    \n",
    "    # Now value can be used as a variable which will call all these three function \n",
    "    # when we will use the value , assign some thing in value and deleting the attribute.\n",
    "    # Note: vlaue will take place of the self.__value attribute.\n",
    "    "
   ]
  },
  {
   "cell_type": "markdown",
   "id": "conservative-typing",
   "metadata": {},
   "source": [
    "Now we will make an instance of the dummy class and we will test our value variable of the class"
   ]
  },
  {
   "cell_type": "code",
   "execution_count": 11,
   "id": "color-gossip",
   "metadata": {},
   "outputs": [],
   "source": [
    "test = dummy()"
   ]
  },
  {
   "cell_type": "code",
   "execution_count": 12,
   "id": "requested-flashing",
   "metadata": {},
   "outputs": [
    {
     "name": "stdout",
     "output_type": "stream",
     "text": [
      "getting the value variable \n"
     ]
    },
    {
     "data": {
      "text/plain": [
       "'dummy test variable'"
      ]
     },
     "execution_count": 12,
     "metadata": {},
     "output_type": "execute_result"
    }
   ],
   "source": [
    "# Now we will get the value attribute of the test instance.\n",
    "test.value"
   ]
  },
  {
   "cell_type": "code",
   "execution_count": 13,
   "id": "reasonable-hawaii",
   "metadata": {},
   "outputs": [
    {
     "name": "stdout",
     "output_type": "stream",
     "text": [
      "setting the dummy valriable with value:  New dummy test variable\n"
     ]
    }
   ],
   "source": [
    "test.value = 'New dummy test variable'"
   ]
  },
  {
   "cell_type": "code",
   "execution_count": 14,
   "id": "protecting-newsletter",
   "metadata": {},
   "outputs": [
    {
     "name": "stdout",
     "output_type": "stream",
     "text": [
      "getting the value variable \n"
     ]
    },
    {
     "data": {
      "text/plain": [
       "'New dummy test variable'"
      ]
     },
     "execution_count": 14,
     "metadata": {},
     "output_type": "execute_result"
    }
   ],
   "source": [
    "test.value"
   ]
  },
  {
   "cell_type": "code",
   "execution_count": 15,
   "id": "separate-columbus",
   "metadata": {},
   "outputs": [
    {
     "name": "stdout",
     "output_type": "stream",
     "text": [
      "deleting the dummy variable\n"
     ]
    }
   ],
   "source": [
    "del test.value"
   ]
  },
  {
   "cell_type": "markdown",
   "id": "aggregate-conditions",
   "metadata": {},
   "source": [
    "Now we will define our own property descriptor which will work same as the privious one."
   ]
  },
  {
   "cell_type": "code",
   "execution_count": 34,
   "id": "fundamental-happening",
   "metadata": {},
   "outputs": [],
   "source": [
    "class Property():\n",
    "    \n",
    "    # property has four main variable fget, fset , fdel, and doc for documentation.\n",
    "    # so now we will create a init method to initiate those variables\n",
    "    \n",
    "    def __init__(self, fget=None, fset=None, fdel=None, doc=None):\n",
    "        \"\"\"\n",
    "        fget: override method to set the __get__ method when the instance is accessed.\n",
    "        fset: override the __set__ method when a value is assigned to instance.\n",
    "        fdel: overide the __del__ method.\n",
    "        doc: documentation for the instance.\n",
    "        \"\"\"\n",
    "        \n",
    "        self.fget = fget\n",
    "        self.fset = fset\n",
    "        self.fdel = fdel\n",
    "        \n",
    "        if doc is None and fget is not None:\n",
    "            doc = fget.__doc__\n",
    "            \n",
    "        self.__doc__ = doc\n",
    "        \n",
    "        \n",
    "    def __get__(self, obj, objtype=None):\n",
    "        \n",
    "        print(f\"getting {obj} which is instance of {obj.__class__} \")\n",
    "        if obj is None:\n",
    "            # if obj is None then it means that Property instance is not created inside a class\n",
    "            return self\n",
    "        \n",
    "        if self.fget is None:\n",
    "            raise AttributeError(\"unreadable attribute\")\n",
    "        \n",
    "        return self.fget(obj)\n",
    "        # Now in this we will return the object by using the self.fget which will be provided when the Property \n",
    "        # Instance will be created.\n",
    "        \n",
    "    def __set__(self, obj, value):\n",
    "        \n",
    "        print(f\"setting the attribute {obj} which is the instance of the {obj.__class__}\")\n",
    "        \n",
    "        if self.fset is None:\n",
    "            raise AttributeError(\"can't set attribute\")\n",
    "            \n",
    "        self.fset(obj, value)\n",
    "        \n",
    "    def __delete__(self, obj):\n",
    "        \n",
    "        print(f\"deleting the attribute {obj} which is the instance of the {obj.__class__}\")\n",
    "        \n",
    "        if self.fdel is None:\n",
    "            raise AttributeError(\"can't delete the attribute\")\n",
    "            \n",
    "        self.fdel(obj)\n",
    "        \n",
    "        \n",
    "    # NOw we will make few more attribute setting method which can be used as the decorator property.\n",
    "    # these will override the self.fget, self.fset, and self.fdel methods.\n",
    "    def getter(self, fget):\n",
    "        return type(self)(fget, self.fset, self.fdel, self.__doc__)\n",
    "    \n",
    "    def setter(self, fset):\n",
    "        return type(self)(self.fget, fset, self.fdel, self.__doc__)\n",
    "    \n",
    "    def deleter(self, fdel):\n",
    "        return type(self)(self.fget, self.fset, fdel, self.__doc__)\n",
    "    "
   ]
  },
  {
   "cell_type": "markdown",
   "id": "dietary-basics",
   "metadata": {},
   "source": [
    "Now we will make our dummy class as we did before but this time we will use our Property class."
   ]
  },
  {
   "cell_type": "code",
   "execution_count": 35,
   "id": "compound-nightmare",
   "metadata": {},
   "outputs": [],
   "source": [
    "class dummy():\n",
    "    \n",
    "    def __init__(self):\n",
    "        self.__value = 'dummy test variable'\n",
    "    \n",
    "    def fget(self):\n",
    "        print(\"getting the value variable \")\n",
    "        return self.__value\n",
    "    \n",
    "    def fset(self, value): \n",
    "        print(\"setting the dummy valriable with value: \", value)\n",
    "        self.__value = value\n",
    "    \n",
    "    def fdel(self):\n",
    "        print(\"deleting the dummy variable\")\n",
    "        del self.__value\n",
    "        \n",
    "    # Now we willl create a instance of the property by passing these three functions inside the property\n",
    "    # Note: the name of the instance should match name of self.__value and just remove '__' double underscore.\n",
    "    value = Property(fget, fset, fdel, \"This a dummy class instance\")\n",
    "    \n",
    "    # Now value can be used as a variable which will call all these three function \n",
    "    # when we will use the value , assign some thing in value and deleting the attribute.\n",
    "    # Note: vlaue will take place of the self.__value attribute.\n",
    "    "
   ]
  },
  {
   "cell_type": "markdown",
   "id": "awful-price",
   "metadata": {},
   "source": [
    "Ok, so now we have created our dummy class now we will get and set our value attribute by making an instance of dummy class"
   ]
  },
  {
   "cell_type": "code",
   "execution_count": 36,
   "id": "parallel-danish",
   "metadata": {},
   "outputs": [],
   "source": [
    "test = dummy()"
   ]
  },
  {
   "cell_type": "code",
   "execution_count": 37,
   "id": "intended-conversation",
   "metadata": {},
   "outputs": [
    {
     "name": "stdout",
     "output_type": "stream",
     "text": [
      "getting <__main__.dummy object at 0x000001EBCD9E19A0> which is instance of <class '__main__.dummy'> \n",
      "getting the value variable \n"
     ]
    },
    {
     "data": {
      "text/plain": [
       "'dummy test variable'"
      ]
     },
     "execution_count": 37,
     "metadata": {},
     "output_type": "execute_result"
    }
   ],
   "source": [
    "test.value"
   ]
  },
  {
   "cell_type": "code",
   "execution_count": 38,
   "id": "innocent-backup",
   "metadata": {},
   "outputs": [
    {
     "name": "stdout",
     "output_type": "stream",
     "text": [
      "setting the attribute <__main__.dummy object at 0x000001EBCD9E19A0> which is the instance of the <class '__main__.dummy'>\n",
      "setting the dummy valriable with value:  changing the dummy values\n"
     ]
    }
   ],
   "source": [
    "test.value = \"changing the dummy values\""
   ]
  },
  {
   "cell_type": "markdown",
   "id": "suffering-wayne",
   "metadata": {},
   "source": [
    "## Lazy Property Descriptor Example"
   ]
  },
  {
   "cell_type": "code",
   "execution_count": 39,
   "id": "valuable-mobile",
   "metadata": {},
   "outputs": [],
   "source": [
    "# suppose that we have a a regular function which perform some specific task after waiting some time.\n",
    "import time\n",
    "\n",
    "class DeepThought:\n",
    "    \n",
    "    def life(self):\n",
    "        time.sleep(3)\n",
    "        return \"Life if beautiful\"\n",
    "    "
   ]
  },
  {
   "cell_type": "markdown",
   "id": "immediate-cream",
   "metadata": {},
   "source": [
    "Now if we run this function by creating DeepThought instance."
   ]
  },
  {
   "cell_type": "code",
   "execution_count": 40,
   "id": "generic-tomato",
   "metadata": {},
   "outputs": [],
   "source": [
    "thought = DeepThought()"
   ]
  },
  {
   "cell_type": "code",
   "execution_count": 42,
   "id": "steady-fifteen",
   "metadata": {},
   "outputs": [
    {
     "name": "stdout",
     "output_type": "stream",
     "text": [
      "Life if beautiful\n",
      "Life if beautiful\n",
      "Life if beautiful\n"
     ]
    }
   ],
   "source": [
    "# accessing the life method by three times\n",
    "print(thought.life())  \n",
    "print(thought.life())\n",
    "print(thought.life())"
   ]
  },
  {
   "cell_type": "markdown",
   "id": "covered-helicopter",
   "metadata": {},
   "source": [
    "Now as we thought every statements takes 3 seconds to execute the life function.\n",
    "\n",
    "But if we use this with lazy property which is a descriptor then what will happen let's see by creating a lazy property, lazy property will work like a decorator so it will take a function and it will return a function."
   ]
  },
  {
   "cell_type": "code",
   "execution_count": 53,
   "id": "promising-collins",
   "metadata": {},
   "outputs": [],
   "source": [
    "# defining the LazyProprty descriptor\n",
    "class LazyProperty:\n",
    "    \n",
    "    # first of all we will define a __init__method to take the function as argument\n",
    "    def __init__(self, func):\n",
    "        print(\"getting function: \", func)\n",
    "        self.func = func      # function itself\n",
    "        print(\"function name: \", func.__name__)\n",
    "        self.name = func.__name__   # name of the function to get the function by its name during calling the __get__ method.\n",
    "        \n",
    "    def __get__(self, obj, objtype=None):\n",
    "        \n",
    "        # Now first of all we will get the function by using its name and obj.__dict__[]\n",
    "        obj.__dict__[self.name] = self.func(obj)             # calling the function and storing the value \n",
    "        # setting the fucntion in the dictionary of the object \n",
    "        # here obj is taking the place of self arument.\n",
    "        \n",
    "        return obj.__dict__[self.name]   # returning the function.\n",
    "    \n",
    "    # NOte that it is a non-data descriptor since we haven't used the __set__() method in this."
   ]
  },
  {
   "cell_type": "code",
   "execution_count": 70,
   "id": "driven-fusion",
   "metadata": {},
   "outputs": [
    {
     "name": "stdout",
     "output_type": "stream",
     "text": [
      "getting function:  <function DeepThought.life at 0x000001EBCD9CE700>\n",
      "function name:  life\n"
     ]
    }
   ],
   "source": [
    "\n",
    "# suppose that we have a a regular function which perform some specific task after waiting some time.\n",
    "import time\n",
    "\n",
    "class DeepThought:\n",
    "    \n",
    "    # Now in this we will use the LazyProperty as the decoratior\n",
    "    @LazyProperty\n",
    "    def life(self):\n",
    "        time.sleep(3)\n",
    "        return \"Life is beautiful\"\n",
    "\n",
    "# Now if we make an instance of the object then access the life method"
   ]
  },
  {
   "cell_type": "code",
   "execution_count": 71,
   "id": "logical-panel",
   "metadata": {},
   "outputs": [],
   "source": [
    "thought = DeepThought()"
   ]
  },
  {
   "cell_type": "code",
   "execution_count": 72,
   "id": "undefined-frontier",
   "metadata": {},
   "outputs": [
    {
     "data": {
      "text/plain": [
       "{}"
      ]
     },
     "execution_count": 72,
     "metadata": {},
     "output_type": "execute_result"
    }
   ],
   "source": [
    "thought.__dict__"
   ]
  },
  {
   "cell_type": "code",
   "execution_count": 73,
   "id": "collective-exemption",
   "metadata": {},
   "outputs": [
    {
     "name": "stdout",
     "output_type": "stream",
     "text": [
      "Life is beautiful\n",
      "Wall time: 3 s\n"
     ]
    }
   ],
   "source": [
    "%%time\n",
    "# accessing the life method by three times\n",
    "# Note that after applying the @LazyProperty life will act like an attribute so \n",
    "# we will not put () after life.\n",
    "# Now first we will  execute the thought.life by one time \n",
    "print(thought.life)  \n",
    "\n",
    "#  this wiil store the \"life is beautiful\" in the obj.__dict__() so next time we dont have to wait for 3 seconds"
   ]
  },
  {
   "cell_type": "code",
   "execution_count": 74,
   "id": "forward-stranger",
   "metadata": {},
   "outputs": [
    {
     "name": "stdout",
     "output_type": "stream",
     "text": [
      "Life is beautiful\n",
      "Life is beautiful\n",
      "Wall time: 975 µs\n"
     ]
    }
   ],
   "source": [
    "%%time\n",
    "print(thought.life)\n",
    "print(thought.life)"
   ]
  },
  {
   "cell_type": "markdown",
   "id": "indian-programming",
   "metadata": {},
   "source": [
    "As you can that after first executation of  `thought.life` takes 3 seconds to be executed but in second time it is executed immediately, this is because we were using the `obj.__dict__[]` to store the value of the life attribute in the object attriubte dictionary. and by the rule of lookup chain it will return the value just after finding the value of `life` attribute and it will not return execute the `self.func(obj)` inside the LazyProperty.\n",
    "\n",
    "if we want to check that how it is going to return, then we can do some print statement inside the LazyProperty."
   ]
  },
  {
   "cell_type": "code",
   "execution_count": 75,
   "id": "special-clark",
   "metadata": {},
   "outputs": [
    {
     "name": "stdout",
     "output_type": "stream",
     "text": [
      "getting function:  <function DeepThought.life at 0x000001EBCD9CEAF0>\n",
      "function name:  life\n"
     ]
    }
   ],
   "source": [
    "# defining the LazyProprty descriptor\n",
    "class LazyProperty:\n",
    "    \n",
    "    # first of all we will define a __init__method to take the function as argument\n",
    "    def __init__(self, func):\n",
    "        print(\"getting function: \", func)\n",
    "        self.func = func      # function itself\n",
    "        print(\"function name: \", func.__name__)\n",
    "        self.name = func.__name__   # name of the function to get the function by its name during calling the __get__ method.\n",
    "        \n",
    "    def __get__(self, obj, objtype=None):\n",
    "        \n",
    "        print(f'calling the self.func({obj}) and saving it in obj.__dict__[{self.name}]')\n",
    "        # Now first of all we will get the function by using its name and obj.__dict__[]\n",
    "        obj.__dict__[self.name] = self.func(obj)             # calling the function and storing the value \n",
    "        # setting the fucntion in the dictionary of the object \n",
    "        # here obj is taking the place of self arument.\n",
    "        print(f\"returning the obj.__dict__[{self.name}]\")\n",
    "        return obj.__dict__[self.name]   # returning the function.\n",
    "    \n",
    "    # NOte that it is a non-data descriptor since we haven't used the __set__() method in this.\n",
    "    \n",
    "# suppose that we have a a regular function which perform some specific task after waiting some time.\n",
    "import time\n",
    "\n",
    "class DeepThought:\n",
    "    \n",
    "    # Now in this we will use the LazyProperty as the decoratior\n",
    "    @LazyProperty\n",
    "    def life(self):\n",
    "        time.sleep(3)\n",
    "        return \"Life is beautiful\"\n",
    "\n",
    "# Now if we make an instance of the object then access the life method"
   ]
  },
  {
   "cell_type": "code",
   "execution_count": 78,
   "id": "linear-window",
   "metadata": {},
   "outputs": [],
   "source": [
    "thought = DeepThought()"
   ]
  },
  {
   "cell_type": "code",
   "execution_count": 79,
   "id": "considered-divorce",
   "metadata": {},
   "outputs": [
    {
     "name": "stdout",
     "output_type": "stream",
     "text": [
      "calling the self.func(<__main__.DeepThought object at 0x000001EBCDA21970>) and saving it in obj.__dict__[life]\n",
      "returning the obj.__dict__[life]\n",
      "Wall time: 3 s\n"
     ]
    },
    {
     "data": {
      "text/plain": [
       "'Life is beautiful'"
      ]
     },
     "execution_count": 79,
     "metadata": {},
     "output_type": "execute_result"
    }
   ],
   "source": [
    "%%time\n",
    "# first access \n",
    "thought.life"
   ]
  },
  {
   "cell_type": "code",
   "execution_count": 80,
   "id": "sustainable-update",
   "metadata": {},
   "outputs": [
    {
     "name": "stdout",
     "output_type": "stream",
     "text": [
      "Wall time: 0 ns\n"
     ]
    },
    {
     "data": {
      "text/plain": [
       "'Life is beautiful'"
      ]
     },
     "execution_count": 80,
     "metadata": {},
     "output_type": "execute_result"
    }
   ],
   "source": [
    "%%time\n",
    "# accessing again\n",
    "thought.life"
   ]
  },
  {
   "cell_type": "markdown",
   "id": "reflected-certificate",
   "metadata": {},
   "source": [
    " As you can see that second time it does not calls the` __dict__` method from our `@LazyProperty` descriptor , becauese our descriptor is a non-data descriptor\n",
    " which comes after the data descriptor in lookup chain."
   ]
  },
  {
   "cell_type": "markdown",
   "id": "signed-pontiac",
   "metadata": {},
   "source": [
    "## Rule of lookup chain"
   ]
  },
  {
   "cell_type": "markdown",
   "id": "african-hypothetical",
   "metadata": {},
   "source": [
    "* First, you’ll get the result returned from the __get__ method of the data descriptor named after the attribute you’re looking for.\n",
    "\n",
    "* If that fails, then you’ll get the value of your object’s __dict__ for the key named after the attribute you’re looking for.\n",
    "\n",
    "* If that fails, then you’ll get the result returned from the __get__ method of the non-data descriptor named after the attribute you’re looking for.\n",
    "\n",
    "* If that fails, then you’ll get the value of your object type’s __dict__ for the key named after the attribute you’re looking for.\n",
    "\n",
    "* If that fails, then you’ll get the value of your object parent type’s __dict__ for the key named after the attribute you’re looking for.\n",
    "\n",
    "* If that fails, then the previous step is repeated for all the parent’s types in the method resolution order of your object.\n",
    "\n",
    "* If everything else has failed, then you’ll get an AttributeError exception."
   ]
  },
  {
   "cell_type": "code",
   "execution_count": null,
   "id": "saved-marsh",
   "metadata": {},
   "outputs": [],
   "source": []
  }
 ],
 "metadata": {
  "kernelspec": {
   "display_name": "Python 3",
   "language": "python",
   "name": "python3"
  },
  "language_info": {
   "codemirror_mode": {
    "name": "ipython",
    "version": 3
   },
   "file_extension": ".py",
   "mimetype": "text/x-python",
   "name": "python",
   "nbconvert_exporter": "python",
   "pygments_lexer": "ipython3",
   "version": "3.8.3"
  }
 },
 "nbformat": 4,
 "nbformat_minor": 5
}
