{
 "cells": [
  {
   "cell_type": "markdown",
   "id": "ac98b165-0fbb-4b37-ba4b-23299d14e738",
   "metadata": {},
   "source": [
    "## Change logging levles"
   ]
  },
  {
   "cell_type": "markdown",
   "id": "6e25e01a-1e50-492f-85a0-b90e34cd11f5",
   "metadata": {},
   "source": [
    "### 2. Change logging level\n",
    "\n",
    "To change the logging level we need to use the basicConfig() method.\n",
    "\n",
    "```ruby\n",
    "logging.basicConfig(level=<levelName>)\n",
    "\n",
    "levelNames = [logging.DEBUG, logging.INFO, logging.WARNING, logging.ERROR, logging.CRITICAL]\n",
    "```\n",
    "after setting the logging level we can show the message classified by that kind of level.\n"
   ]
  },
  {
   "cell_type": "code",
   "execution_count": 4,
   "id": "8d62207a-5f7b-4322-a27e-ff90a55d2064",
   "metadata": {},
   "outputs": [],
   "source": [
    "# first import the logging\n",
    "import logging\n",
    "\n",
    "# here we will change the logging level\n",
    "logging.basicConfig(level=logging.DEBUG)\n",
    "\n",
    "def add(x, y):\n",
    "    return a+y\n",
    "\n",
    "def sub(x,y):\n",
    "    return x-y\n",
    "\n",
    "def multi(x,y):\n",
    "    return x*y\n",
    "\n",
    "def divide(x,y):\n",
    "    return x/y"
   ]
  },
  {
   "cell_type": "code",
   "execution_count": 5,
   "id": "6f5e27a8-7ccd-4e7f-a971-d48a69d0f522",
   "metadata": {},
   "outputs": [],
   "source": [
    "a = 10\n",
    "b = 5"
   ]
  },
  {
   "cell_type": "code",
   "execution_count": 6,
   "id": "7cafd664-b549-40b1-9bdb-9e5084c2970e",
   "metadata": {},
   "outputs": [
    {
     "name": "stderr",
     "output_type": "stream",
     "text": [
      "DEBUG:root:Add: 10 + 5 = 15\n",
      "DEBUG:root:Sub: 10 - 5 = 5\n",
      "DEBUG:root:Mul: 10 * 5 = 50\n",
      "DEBUG:root:Div: 10 / 5 = 2.0\n"
     ]
    }
   ],
   "source": [
    "# here we need to change the logging level\n",
    "add_result = add(a, b)\n",
    "sub_result = sub(a,b)\n",
    "mul_result = multi(a,b)\n",
    "div_result = divide(a,b) \n",
    "\n",
    "logging.debug(f'Add: {a} + {b} = {add_result}')\n",
    "logging.debug(f'Sub: {a} - {b} = {sub_result}')\n",
    "logging.debug(f'Mul: {a} * {b} = {mul_result}')\n",
    "logging.debug(f'Div: {a} / {b} = {div_result}')"
   ]
  },
  {
   "cell_type": "markdown",
   "id": "78690a5e-049d-4c6e-ae94-db99f34c9e4d",
   "metadata": {},
   "source": [
    "`Note:` We cannot change the logging level dynamically by using the **logging.basicConfig()** method for that we need to use the **logging.handlers** form the **logging.getLogger()** instance."
   ]
  },
  {
   "cell_type": "code",
   "execution_count": null,
   "id": "c33af350-2cc7-4634-bf45-e126cf851e76",
   "metadata": {},
   "outputs": [],
   "source": []
  }
 ],
 "metadata": {
  "kernelspec": {
   "display_name": "Python 3 (ipykernel)",
   "language": "python",
   "name": "python3"
  },
  "language_info": {
   "codemirror_mode": {
    "name": "ipython",
    "version": 3
   },
   "file_extension": ".py",
   "mimetype": "text/x-python",
   "name": "python",
   "nbconvert_exporter": "python",
   "pygments_lexer": "ipython3",
   "version": "3.8.3"
  }
 },
 "nbformat": 4,
 "nbformat_minor": 5
}
