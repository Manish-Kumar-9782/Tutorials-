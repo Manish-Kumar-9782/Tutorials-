{
 "cells": [
  {
   "cell_type": "markdown",
   "id": "2d1d8f37-a568-447f-90ce-970deddef07c",
   "metadata": {},
   "source": [
    "## Formatting logging logs"
   ]
  },
  {
   "cell_type": "markdown",
   "id": "17ddf386-857c-4941-8a14-4c50832586c8",
   "metadata": {},
   "source": [
    "In this section we will change the format of the logging so we can use our custom format for different levels."
   ]
  },
  {
   "cell_type": "code",
   "execution_count": null,
   "id": "544ec776-2a7a-4852-af5d-e4d7e1945a37",
   "metadata": {},
   "outputs": [],
   "source": []
  },
  {
   "cell_type": "code",
   "execution_count": null,
   "id": "d9ace92f-ce34-4f31-8396-585022dd2a76",
   "metadata": {},
   "outputs": [],
   "source": [
    "# first import the logging\n",
    "import logging\n",
    "\n",
    "# here we will change the logging level\n",
    "logging.basicConfig(level=logging.DEBUG)\n",
    "\n",
    "def add(x, y):\n",
    "    return a+y\n",
    "\n",
    "def sub(x,y):\n",
    "    return x-y\n",
    "\n",
    "def multi(x,y):\n",
    "    return x*y\n",
    "\n",
    "def divide(x,y):\n",
    "    return x/y"
   ]
  },
  {
   "cell_type": "code",
   "execution_count": null,
   "id": "220082d3-dc98-4fc7-8941-da080540da4d",
   "metadata": {},
   "outputs": [],
   "source": [
    "a = 10\n",
    "b = 5"
   ]
  },
  {
   "cell_type": "code",
   "execution_count": null,
   "id": "712037d8-0825-4932-9ed3-1c87e86a9678",
   "metadata": {},
   "outputs": [],
   "source": [
    "# here we need to change the logging level\n",
    "add_result = add(a, b)\n",
    "sub_result = sub(a,b)\n",
    "mul_result = multi(a,b)\n",
    "div_result = divide(a,b) \n",
    "\n",
    "logging.debug(f'Add: {a} + {b} = {add_result}')\n",
    "logging.debug(f'Sub: {a} - {b} = {sub_result}')\n",
    "logging.debug(f'Mul: {a} * {b} = {mul_result}')\n",
    "logging.debug(f'Div: {a} / {b} = {div_result}')"
   ]
  }
 ],
 "metadata": {
  "kernelspec": {
   "display_name": "Python 3 (ipykernel)",
   "language": "python",
   "name": "python3"
  },
  "language_info": {
   "codemirror_mode": {
    "name": "ipython",
    "version": 3
   },
   "file_extension": ".py",
   "mimetype": "text/x-python",
   "name": "python",
   "nbconvert_exporter": "python",
   "pygments_lexer": "ipython3",
   "version": "3.8.3"
  }
 },
 "nbformat": 4,
 "nbformat_minor": 5
}
