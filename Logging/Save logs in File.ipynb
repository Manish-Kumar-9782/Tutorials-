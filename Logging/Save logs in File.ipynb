{
 "cells": [
  {
   "cell_type": "markdown",
   "id": "955d2fce-a5af-4135-9115-c01f20cadd63",
   "metadata": {},
   "source": [
    "## Save logs in a file"
   ]
  },
  {
   "cell_type": "markdown",
   "id": "80f077da-ae38-4e06-884c-d08af8cf6833",
   "metadata": {},
   "source": [
    "logging gives us the functionality to save the logs in a file so we can check them and resolve the identifid issue in program or it can be used to help us to happen certain events etc."
   ]
  },
  {
   "cell_type": "markdown",
   "id": "769e25d6-efa3-4bf7-bc81-635b8118d2bc",
   "metadata": {},
   "source": [
    "To save the logs in a file we need to give the filename inside the basicConfig function.\n",
    "\n",
    "```ruby\n",
    "logging.basicConfig(filename='file.log', level=logging.DEBUG)\n",
    "```"
   ]
  },
  {
   "cell_type": "markdown",
   "id": "93f94916-13fb-4ff9-a21c-f509b2516f5d",
   "metadata": {},
   "source": [
    "Note: another advantage of to save the logs is that it also contain the previosly saved long on the file so we can see the whole logs from first saved log until we don't clear them."
   ]
  },
  {
   "cell_type": "code",
   "execution_count": 1,
   "id": "9016a0cf-9201-4b00-932c-39e036ee9a18",
   "metadata": {},
   "outputs": [],
   "source": [
    "# first import the logging\n",
    "import logging\n",
    "\n",
    "# here we will change the logging level\n",
    "logging.basicConfig(level=logging.DEBUG, filename='test.log')\n",
    "\n",
    "def add(x, y):\n",
    "    return a+y\n",
    "\n",
    "def sub(x,y):\n",
    "    return x-y\n",
    "\n",
    "def multi(x,y):\n",
    "    return x*y\n",
    "\n",
    "def divide(x,y):\n",
    "    return x/y"
   ]
  },
  {
   "cell_type": "code",
   "execution_count": 2,
   "id": "834f72dc-3fc8-4f4f-a5c9-2ecc1120f947",
   "metadata": {},
   "outputs": [],
   "source": [
    "a = 10\n",
    "b = 5"
   ]
  },
  {
   "cell_type": "code",
   "execution_count": 3,
   "id": "2914f51b-97bc-4465-a152-cf100de20bfe",
   "metadata": {},
   "outputs": [],
   "source": [
    "# here we need to change the logging level\n",
    "add_result = add(a, b)\n",
    "sub_result = sub(a,b)\n",
    "mul_result = multi(a,b)\n",
    "div_result = divide(a,b) \n",
    "\n",
    "logging.debug(f'Add: {a} + {b} = {add_result}')\n",
    "logging.debug(f'Sub: {a} - {b} = {sub_result}')\n",
    "logging.debug(f'Mul: {a} * {b} = {mul_result}')\n",
    "logging.debug(f'Div: {a} / {b} = {div_result}')"
   ]
  },
  {
   "cell_type": "markdown",
   "id": "dbfd9c4a-4522-4b66-ad53-73fc8a6ed982",
   "metadata": {},
   "source": [
    "`Note:` Here we don't see the logging output since we are saving them into the test.log file, so to check all the logs we need to see in that file."
   ]
  },
  {
   "cell_type": "code",
   "execution_count": 4,
   "id": "565130ba-aee7-4f3e-bcd7-dac83f46a879",
   "metadata": {},
   "outputs": [],
   "source": [
    "# if we rerun this with different values\n",
    "a = 30\n",
    "b = 10\n",
    "\n",
    "add_result = add(a, b)\n",
    "sub_result = sub(a,b)\n",
    "mul_result = multi(a,b)\n",
    "div_result = divide(a,b) \n",
    "\n",
    "logging.debug(f'Add: {a} + {b} = {add_result}')\n",
    "logging.debug(f'Sub: {a} - {b} = {sub_result}')\n",
    "logging.debug(f'Mul: {a} * {b} = {mul_result}')\n",
    "logging.debug(f'Div: {a} / {b} = {div_result}')"
   ]
  },
  {
   "cell_type": "markdown",
   "id": "3a4b5afb-9474-4334-bbbc-6e08cb7fab38",
   "metadata": {},
   "source": [
    "Note: logs are saved in test.log file check that file."
   ]
  },
  {
   "cell_type": "code",
   "execution_count": null,
   "id": "74f74d2f-6eb6-42c5-8d9d-917c99faf40e",
   "metadata": {},
   "outputs": [],
   "source": []
  }
 ],
 "metadata": {
  "kernelspec": {
   "display_name": "Python 3 (ipykernel)",
   "language": "python",
   "name": "python3"
  },
  "language_info": {
   "codemirror_mode": {
    "name": "ipython",
    "version": 3
   },
   "file_extension": ".py",
   "mimetype": "text/x-python",
   "name": "python",
   "nbconvert_exporter": "python",
   "pygments_lexer": "ipython3",
   "version": "3.8.3"
  }
 },
 "nbformat": 4,
 "nbformat_minor": 5
}
