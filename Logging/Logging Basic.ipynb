{
 "cells": [
  {
   "cell_type": "markdown",
   "id": "114c8814-c9d8-4760-af06-064272996197",
   "metadata": {},
   "source": [
    "# Logging\n",
    "\n",
    "**What is logging:** logging is basically a technique to dispaly or store messages according to their state, the logs created by the \n",
    "application can be saved in a file and we can read them later to debug the code.\n",
    "\n",
    "logging help us to ensure and debug the code when our code or application became large so logging is usefull to track the process of the application."
   ]
  },
  {
   "cell_type": "markdown",
   "id": "f6f14cc5-299f-4869-9c58-f9ab45803302",
   "metadata": {},
   "source": [
    "**logging Levels:** Logging has many level to distinguish the logging message state that how much this message is important. \n",
    "\n",
    "`Logging Levels:`\n",
    "\n",
    "1. DEBUG: Detaild inforamtion, typically of interest only when diagnosing problem.\n",
    "\n",
    "2. INFO: confirmation that things are working as expected.\n",
    "\n",
    "3. WARNING: An indication that something unexpected happed, or indicative of some problem in the near future. (eg. disk space is low). The software/program is still working as expected.\n",
    "\n",
    "4. ERROR: Due to more serious problem, the software has not been able to perform some function.\n",
    "\n",
    "5. CRITICAL: A Serious error, indicating that the program itself may be unable to continue running.\n",
    "\n",
    "\n",
    "* Note: By default logging level is set to WARNING so if we just wanted to display the information about the some task then we need to change the logging level."
   ]
  },
  {
   "cell_type": "markdown",
   "id": "2baf0bd4-5856-424d-875b-6699d93fa9a0",
   "metadata": {},
   "source": [
    "### 1. Logging Basics"
   ]
  },
  {
   "cell_type": "markdown",
   "id": "f516b155-519b-49c1-8462-e66952a011c4",
   "metadata": {},
   "source": [
    "In this section we will se the very basic thing of the logging and try to understand that how logging are very useful to moniter our program process instead monitering the process by print method."
   ]
  },
  {
   "cell_type": "markdown",
   "id": "a126346c-008a-4f81-87a6-ad1da52df8b9",
   "metadata": {},
   "source": [
    "For now we will not change the logging level and see what kind of message we will see."
   ]
  },
  {
   "cell_type": "code",
   "execution_count": 1,
   "id": "d7a3fe87-1c76-4fa2-a5ac-34665c5509cb",
   "metadata": {},
   "outputs": [],
   "source": [
    "import logging"
   ]
  },
  {
   "cell_type": "markdown",
   "id": "97e6c16b-aa21-4cb0-93a5-6703167609e1",
   "metadata": {},
   "source": [
    "For simplicity of logging we will use simple funciton and see the logging here we will use the add, sub, mulit and divide function."
   ]
  },
  {
   "cell_type": "code",
   "execution_count": 2,
   "id": "225afabd-af74-4b45-8c25-bdb66c19c1fc",
   "metadata": {},
   "outputs": [],
   "source": [
    "def add(x, y):\n",
    "    return a+y\n",
    "\n",
    "def sub(x,y):\n",
    "    return x-y\n",
    "\n",
    "def multi(x,y):\n",
    "    return x*y\n",
    "\n",
    "def divide(x,y):\n",
    "    return x/y"
   ]
  },
  {
   "cell_type": "markdown",
   "id": "99254490-4937-40f9-b45f-a46e8e4bf4f0",
   "metadata": {},
   "source": [
    "Now we have defined our function so now we need to check our result or wnat to display our result so we will use logging for that process."
   ]
  },
  {
   "cell_type": "code",
   "execution_count": 4,
   "id": "98f96e1f-9139-4b02-9241-07d07383a38a",
   "metadata": {},
   "outputs": [],
   "source": [
    "a = 10\n",
    "b = 5\n",
    "add_result = add(a, b)\n",
    "sub_result = sub(a,b)\n",
    "mul_result = multi(a,b)\n",
    "div_result = divide(a,b) "
   ]
  },
  {
   "cell_type": "code",
   "execution_count": 5,
   "id": "f24367db-b2c5-4538-83c6-9ee8df4b4483",
   "metadata": {},
   "outputs": [
    {
     "name": "stderr",
     "output_type": "stream",
     "text": [
      "WARNING:root:Add: 10 + 5 = 15\n",
      "WARNING:root:Sub: 10 - 5 = 5\n",
      "WARNING:root:Mul: 10 * 5 = 50\n",
      "WARNING:root:Div: 10 / 5 = 2.0\n"
     ]
    }
   ],
   "source": [
    "# to see the result we will use logging instead of print statement.\n",
    "# since by default logging level is set to warning so we need to use waring.\n",
    "logging.warning(f'Add: {a} + {b} = {add_result}')\n",
    "logging.warning(f'Sub: {a} - {b} = {sub_result}')\n",
    "logging.warning(f'Mul: {a} * {b} = {mul_result}')\n",
    "logging.warning(f'Div: {a} / {b} = {div_result}')"
   ]
  },
  {
   "cell_type": "markdown",
   "id": "d9474244-dfc0-489f-a64b-79a30ebf513c",
   "metadata": {},
   "source": [
    "`Note:` Here we saw the message with colored background which is done by the ipython kernel, if we run this code on idle or pycharm or any other direct python kernel then we will see the simple messagase with loggging Level."
   ]
  },
  {
   "cell_type": "markdown",
   "id": "ab8206f0-8c48-4207-b20d-6de8d28960f1",
   "metadata": {},
   "source": [
    "___"
   ]
  },
  {
   "cell_type": "markdown",
   "id": "c7f07c8d-f94f-4006-8889-d7f3010da3b1",
   "metadata": {},
   "source": [
    "### 2. Change logging level\n",
    "\n",
    "To change the logging level we need to use the basicConfig() method.\n",
    "\n",
    "```ruby\n",
    "logging.basicConfig(level=<levelName>)\n",
    "\n",
    "levelNames = [logging.DEBUG, logging.INFO, logging.WARNING, logging.ERROR, logging.CRITICAL]\n",
    "```\n",
    "after setting the logging level we can show the message classified by that kind of level.\n",
    "\n",
    "Note: we will use the above all four results."
   ]
  },
  {
   "cell_type": "code",
   "execution_count": 21,
   "id": "d65fef5a-81b2-4386-bc70-ef37bf690c8a",
   "metadata": {},
   "outputs": [],
   "source": [
    "import logging"
   ]
  },
  {
   "cell_type": "code",
   "execution_count": 26,
   "id": "5f796adc",
   "metadata": {},
   "outputs": [],
   "source": [
    "# here we will change the logging level\n",
    "logging.basicConfig(level=logging.INFO)"
   ]
  },
  {
   "cell_type": "code",
   "execution_count": 23,
   "id": "6a35a90d-cd78-48c7-b3d0-85ba10ff6283",
   "metadata": {},
   "outputs": [],
   "source": [
    "def add(x, y):\n",
    "    return a+y\n",
    "\n",
    "def sub(x,y):\n",
    "    return x-y\n",
    "\n",
    "def multi(x,y):\n",
    "    return x*y\n",
    "\n",
    "def divide(x,y):\n",
    "    return x/y"
   ]
  },
  {
   "cell_type": "code",
   "execution_count": 24,
   "id": "d84cb3a4-353d-4328-acb7-08c48cf4ad5e",
   "metadata": {},
   "outputs": [],
   "source": [
    "a = 10\n",
    "b = 5"
   ]
  },
  {
   "cell_type": "code",
   "execution_count": 28,
   "id": "a79ac16e-291f-4e97-955f-4981fad2be58",
   "metadata": {},
   "outputs": [
    {
     "name": "stderr",
     "output_type": "stream",
     "text": [
      "WARNING:root:Add: 10 + 5 = 15\n"
     ]
    }
   ],
   "source": [
    "# here we need to change the logging level\n",
    "add_result = add(a, b)\n",
    "sub_result = sub(a,b)\n",
    "mul_result = multi(a,b)\n",
    "div_result = divide(a,b) \n",
    "\n",
    "logging.warning(f'Add: {a} + {b} = {add_result}')\n",
    "logging.info(f'Sub: {a} - {b} = {sub_result}')\n",
    "logging.debug(f'Mul: {a} * {b} = {mul_result}')\n",
    "logging.debug(f'Div: {a} / {b} = {div_result}')"
   ]
  },
  {
   "cell_type": "code",
   "execution_count": 11,
   "id": "6c017a88-96fe-449d-af78-80fa3701e047",
   "metadata": {},
   "outputs": [],
   "source": [
    "import IPython"
   ]
  },
  {
   "cell_type": "code",
   "execution_count": null,
   "id": "b470f71c-0fc6-4d05-9f7c-30b4d0822c16",
   "metadata": {},
   "outputs": [],
   "source": [
    "IPython."
   ]
  }
 ],
 "metadata": {
  "kernelspec": {
   "display_name": "Python 3 (ipykernel)",
   "language": "python",
   "name": "python3"
  },
  "language_info": {
   "codemirror_mode": {
    "name": "ipython",
    "version": 3
   },
   "file_extension": ".py",
   "mimetype": "text/x-python",
   "name": "python",
   "nbconvert_exporter": "python",
   "pygments_lexer": "ipython3",
   "version": "3.8.3"
  }
 },
 "nbformat": 4,
 "nbformat_minor": 5
}
