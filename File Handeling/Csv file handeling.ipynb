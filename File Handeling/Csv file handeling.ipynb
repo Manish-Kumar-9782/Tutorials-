{
 "cells": [
  {
   "cell_type": "markdown",
   "id": "printable-tuition",
   "metadata": {},
   "source": [
    "# CSV File handeling\n",
    "\n",
    "CSV is a comman seperated values file in which the data are strored in the rows and column foramt. The columns are seperated by a comma and rows are made by using a newline charater.\n",
    "\n",
    "The csv module implements classes to read and write tabular data in CSV format. To work on the csv file we need to import the csv module.\n",
    "\n",
    "Note: In this section we will use the contex manger to work on the file."
   ]
  },
  {
   "cell_type": "code",
   "execution_count": 2,
   "id": "applied-suffering",
   "metadata": {},
   "outputs": [],
   "source": [
    "import csv\n",
    "\n",
    "filename = 'test.csv'\n",
    "# storing the file name so we don't need to use this name agian "
   ]
  },
  {
   "cell_type": "markdown",
   "id": "bright-facility",
   "metadata": {},
   "source": [
    "### 1. Reading a CSV file using csv.reader() method"
   ]
  },
  {
   "cell_type": "code",
   "execution_count": 11,
   "id": "younger-equipment",
   "metadata": {},
   "outputs": [
    {
     "name": "stdout",
     "output_type": "stream",
     "text": [
      "['John\\tDoe\\tjohn-doe@bogusemail.com']\n",
      "['Mary\\tSmith-Robinson\\tmaryjacobs@bogusemail.com']\n",
      "['Dave\\tSmith\\tdavesmith@bogusemail.com']\n",
      "['Jane\\tStuart\\tjanestuart@bogusemail.com']\n"
     ]
    }
   ],
   "source": [
    "# first we have to make an file object to read the file.\n",
    "\n",
    "\n",
    "with open(filename, 'r' , newline='') as csv_file:\n",
    "    \n",
    "    # now we need to use the csv.reader() to read a csv file.\n",
    "    file = csv.reader(csv_file)\n",
    "    \n",
    "    header = next(file)\n",
    "    # header will store the first row of the file which contains the columns names or you can say 'fieldnames'\n",
    "    # now we have a csv.reader object, to read data from the object we need to iterate it.\n",
    "\n",
    "    # for now we only read a few line since this is a test only\n",
    "    for i in range(4):\n",
    "        print(next(file))\n",
    "    "
   ]
  },
  {
   "cell_type": "markdown",
   "id": "listed-robin",
   "metadata": {},
   "source": [
    "In above output we can see that a csv.reader returns a list for each line. But this list only contains a single string but we need seperated values on which we can work.\n",
    "\n",
    "for that we need to pass value in the _delimiter_ parameter as `delimiter=','`."
   ]
  },
  {
   "cell_type": "code",
   "execution_count": 13,
   "id": "american-mississippi",
   "metadata": {},
   "outputs": [
    {
     "name": "stdout",
     "output_type": "stream",
     "text": [
      "['John', 'Doe', 'john-doe@bogusemail.com']\n",
      "['Mary', 'Smith-Robinson', 'maryjacobs@bogusemail.com']\n",
      "['Dave', 'Smith', 'davesmith@bogusemail.com']\n",
      "['Jane', 'Stuart', 'janestuart@bogusemail.com']\n"
     ]
    }
   ],
   "source": [
    "# first we have to make an file object to read the file.\n",
    "\n",
    "\n",
    "with open(filename, 'r' , newline='') as csv_file:\n",
    "    \n",
    "    # now we need to use the csv.reader() to read a csv file.\n",
    "    file = csv.reader(csv_file , delimiter= '\\t')\n",
    "    \n",
    "    header = next(file)\n",
    "    # header will store the first row of the file which contains the columns names or you can say 'fieldnames'\n",
    "    # now we have a csv.reader object, to read data from the object we need to iterate it.\n",
    "\n",
    "    # for now we only read a few line since this is a test only\n",
    "    for i in range(4):\n",
    "        print(next(file))\n",
    "    "
   ]
  },
  {
   "cell_type": "markdown",
   "id": "intense-mobility",
   "metadata": {},
   "source": [
    "Now as you can see that we have seperated values now, in this we used the delimiter as '\\t' character, since these values were seperated with a single tab value so to seperate them we need to use the delimiter as tab in the _csv.reader_ parameter.\n",
    "\n",
    "Now we can use these values for our work we can manipulate or update these valuse.\n",
    "\n",
    "Note while updating the values we should use the enumerator to track the line number in which that entry is stored."
   ]
  },
  {
   "cell_type": "markdown",
   "id": "referenced-atlanta",
   "metadata": {},
   "source": [
    "### 2. Adding a new entry by using csv.writer method"
   ]
  },
  {
   "cell_type": "code",
   "execution_count": 14,
   "id": "earned-australia",
   "metadata": {},
   "outputs": [],
   "source": [
    "with open(filename, 'a', newline='') as csv_file:\n",
    "    \n",
    "    # use the append mode to update the file\n",
    "    \n",
    "    file = csv.writer(csv_file, delimiter='\\t')\n",
    "    \n",
    "    # Since existed file contains the delimiter ='\\t' so we have to use the same delimiter.\n",
    "    \n",
    "    new_entry = ['Manish', 'Kumar', 'manishkumar9782@gmail.com']\n",
    "    \n",
    "    # now we have a list to add a new entry to the database\n",
    "    # Now to add new entry, we need to use csv.writerow() method\n",
    "    \n",
    "    file.writerow(new_entry)\n",
    "    \n",
    "    # Note: note that delimeter should be same as it is used in the existed file. \n"
   ]
  },
  {
   "cell_type": "code",
   "execution_count": 29,
   "id": "universal-monster",
   "metadata": {},
   "outputs": [
    {
     "name": "stdout",
     "output_type": "stream",
     "text": [
      "['John,Doe,john-doe@bogusemail.com']\n",
      "['Mary,Smith-Robinson,maryjacobs@bogusemail.com']\n",
      "['Dave,Smith,davesmith@bogusemail.com']\n",
      "['Jane,Stuart,janestuart@bogusemail.com']\n",
      "['Tom,Wright,tomwright@bogusemail.com']\n",
      "['Steve,Robinson,steverobinson@bogusemail.com']\n",
      "['Nicole,Jacobs,nicolejacobs@bogusemail.com']\n",
      "['Jane,Wright,janewright@bogusemail.com']\n",
      "['Jane,Doe,janedoe@bogusemail.com']\n",
      "['Kurt,Wright,kurtwright@bogusemail.com']\n",
      "['Kurt,Robinson,kurtrobinson@bogusemail.com']\n",
      "['Jane,Jenkins,janejenkins@bogusemail.com']\n",
      "['Neil,Robinson,neilrobinson@bogusemail.com']\n",
      "['Tom,Patterson,tompatterson@bogusemail.com']\n",
      "['Sam,Jenkins,samjenkins@bogusemail.com']\n",
      "['Steve,Stuart,stevestuart@bogusemail.com']\n",
      "['Maggie,Patterson,maggiepatterson@bogusemail.com']\n",
      "['Maggie,Stuart,maggiestuart@bogusemail.com']\n",
      "['Jane,Doe,janedoe@bogusemail.com']\n",
      "['Steve,Patterson,stevepatterson@bogusemail.com']\n",
      "['Dave,Smith,davesmith@bogusemail.com']\n",
      "['Sam,Wilks,samwilks@bogusemail.com']\n",
      "['Kurt,Jefferson,kurtjefferson@bogusemail.com']\n",
      "['Sam,Stuart,samstuart@bogusemail.com']\n",
      "['Jane,Stuart,janestuart@bogusemail.com']\n",
      "['Dave,Davis,davedavis@bogusemail.com']\n",
      "['Sam,Patterson,sampatterson@bogusemail.com']\n",
      "['Tom,Jefferson,tomjefferson@bogusemail.com']\n",
      "['Jane,Stuart,janestuart@bogusemail.com']\n",
      "['Maggie,Jefferson,maggiejefferson@bogusemail.com']\n",
      "['Mary,Wilks,marywilks@bogusemail.com']\n",
      "['Neil,Patterson,neilpatterson@bogusemail.com']\n",
      "['Corey,Davis,coreydavis@bogusemail.com']\n",
      "['Steve,Jacobs,stevejacobs@bogusemail.com']\n",
      "['Jane,Jenkins,janejenkins@bogusemail.com']\n",
      "['John,Jacobs,johnjacobs@bogusemail.com']\n",
      "['Neil,Smith,neilsmith@bogusemail.com']\n",
      "['Corey,Wilks,coreywilks@bogusemail.com']\n",
      "['Corey,Smith,coreysmith@bogusemail.com']\n",
      "['Mary,Patterson,marypatterson@bogusemail.com']\n",
      "['Jane,Stuart,janestuart@bogusemail.com']\n",
      "['Travis,Arnold,travisarnold@bogusemail.com']\n",
      "['John,Robinson,johnrobinson@bogusemail.com']\n",
      "['Travis,Arnold,travisarnold@bogusemail.com']\n"
     ]
    }
   ],
   "source": [
    "# first we have to make an file object to read the file.\n",
    "\n",
    "\n",
    "with open(filename, 'r' , newline='') as csv_file:\n",
    "    \n",
    "    # now we need to use the csv.reader() to read a csv file.\n",
    "    file = csv.reader(csv_file , delimiter= '\\t')\n",
    "    \n",
    "    header = next(file)\n",
    "    # header will store the first row of the file which contains the columns names or you can say 'fieldnames'\n",
    "    # now we have a csv.reader object, to read data from the object we need to iterate it.\n",
    "    \n",
    "    # Now we will \n",
    "    \n",
    "    for entries in file:\n",
    "        print(entries)\n",
    "    "
   ]
  },
  {
   "cell_type": "markdown",
   "id": "isolated-ownership",
   "metadata": {},
   "source": [
    "We can see that we have our new entry at the end of the file."
   ]
  },
  {
   "cell_type": "markdown",
   "id": "reflected-volunteer",
   "metadata": {},
   "source": [
    "### 3. Updating an entry "
   ]
  },
  {
   "cell_type": "code",
   "execution_count": 50,
   "id": "charitable-syracuse",
   "metadata": {},
   "outputs": [
    {
     "name": "stdout",
     "output_type": "stream",
     "text": [
      "['John', 'Doe', 'john-doe@bogusemail.com']\n",
      "['Manish', 'Kumar', 'john-doe@bogusemail.com']\n"
     ]
    }
   ],
   "source": [
    "# first we have to make an file object to read the file.\n",
    "\n",
    "# Since there is no direct way to update an entry so we need to use a low end method \n",
    "# In this we will use the standard mehtod to update an entry\n",
    "\n",
    "\n",
    "with open(filename ,'r+' , newline ='') as csv_file:\n",
    "    \n",
    "    # now we need to use the csv.reader() to read a csv file.\n",
    "    file = csv.reader(csv_file , delimiter= ',')\n",
    "    \n",
    "    filewriter = csv.writer(csv_file, delimiter= ',')\n",
    "    \n",
    "    try:\n",
    "        \n",
    "        header = next(file)\n",
    "    except:\n",
    "        print(\"File has no data...\")\n",
    "  \n",
    "    # first of all we need a value which is going to be updated.\n",
    "    \n",
    "    first_name = 'John'\n",
    "    last_name = 'Doe'\n",
    "    \n",
    "    for entry in file:\n",
    "        \n",
    "        if entry[0] == first_name and entry[1]== last_name:\n",
    "            print(entry)\n",
    "            \n",
    "            entry[0]= \"Manish\"\n",
    "            entry[1]= \"Kumar\"\n",
    "\n",
    "            print(entry)\n",
    "            \n",
    "            filewriter.writerow(entry)\n",
    "            \n",
    "            \n",
    "            break"
   ]
  },
  {
   "cell_type": "code",
   "execution_count": 64,
   "id": "freelance-worthy",
   "metadata": {},
   "outputs": [
    {
     "name": "stdout",
     "output_type": "stream",
     "text": [
      ",\n",
      "True\n",
      "None\n",
      "\n",
      "\n",
      "\"\n",
      "0\n",
      "False\n",
      "False\n",
      "['excel', 'excel-tab', 'unix']\n"
     ]
    }
   ],
   "source": [
    "with open(filename ,'r+' , newline ='') as csv_file:\n",
    "    \n",
    "    # now we need to use the csv.reader() to read a csv file.\n",
    "    file = csv.reader(csv_file , delimiter= ',')\n",
    "    \n",
    "    dialect = file.dialect\n",
    "    \n",
    "    print(dialect.delimiter)\n",
    "    print(dialect.doublequote)\n",
    "    print(dialect.escapechar)\n",
    "    print(dialect.lineterminator)\n",
    "    print(dialect.quotechar)\n",
    "    print(dialect.quoting)\n",
    "    print(dialect.skipinitialspace)\n",
    "    print(dialect.strict)\n",
    "    print(csv.list_dialects())"
   ]
  },
  {
   "cell_type": "code",
   "execution_count": 148,
   "id": "advisory-raise",
   "metadata": {},
   "outputs": [
    {
     "name": "stdout",
     "output_type": "stream",
     "text": [
      "First_name,Last_name,Email\n",
      "\n"
     ]
    }
   ],
   "source": [
    "with open(filename ,'r+' , newline ='') as csv_file:\n",
    "    \n",
    "    line = csv_file.readline()\n",
    "    print(line)"
   ]
  },
  {
   "cell_type": "code",
   "execution_count": 189,
   "id": "increasing-papua",
   "metadata": {},
   "outputs": [
    {
     "name": "stdout",
     "output_type": "stream",
     "text": [
      "0\n",
      "1\n",
      "found data in line:  1\n",
      "0 First_name,Last_name,Email\n",
      "\n",
      "1 manish,Kumar,john-doe@bogusemail.com\n",
      "\n",
      "2 Tom,Wright,tomwright@bogusemail.com\n",
      "\n",
      "\n"
     ]
    }
   ],
   "source": [
    "file = open(filename, 'r+')\n",
    "count_line = 0 \n",
    "for line in file:\n",
    "    print(  count_line )\n",
    "    if 'manish' in line:\n",
    "        \n",
    "        print(\"found data in line: \",count_line)\n",
    "        count +=len(line)\n",
    "   \n",
    "    \n",
    "        file.seek(0)\n",
    "        \n",
    "        for index, line in enumerate(file):\n",
    "  \n",
    "            print(index, line)\n",
    "            \n",
    "            if index > count_line:\n",
    "                \n",
    "                file.write(\"Moni,Kumar,Manishkuamr@gmail.com\\n\")\n",
    "                \n",
    "                print(file.readline())\n",
    "                \n",
    "                break\n",
    "\n",
    "              \n",
    "        #file.write()\n",
    "        \n",
    "        break\n",
    "    count_line +=1\n",
    "    \n",
    "f.close()"
   ]
  },
  {
   "cell_type": "code",
   "execution_count": 150,
   "id": "funny-lucas",
   "metadata": {},
   "outputs": [
    {
     "data": {
      "text/plain": [
       "'John,Doe,john-doe@bogusemail.com\\n'"
      ]
     },
     "execution_count": 150,
     "metadata": {},
     "output_type": "execute_result"
    }
   ],
   "source": [
    "line "
   ]
  },
  {
   "cell_type": "code",
   "execution_count": 151,
   "id": "bizarre-chile",
   "metadata": {},
   "outputs": [],
   "source": []
  },
  {
   "cell_type": "code",
   "execution_count": 152,
   "id": "supposed-indonesia",
   "metadata": {},
   "outputs": [
    {
     "data": {
      "text/plain": [
       "'manish,Kumar,john-doe@bogusemail.com\\n'"
      ]
     },
     "execution_count": 152,
     "metadata": {},
     "output_type": "execute_result"
    }
   ],
   "source": [
    "line"
   ]
  },
  {
   "cell_type": "code",
   "execution_count": null,
   "id": "senior-prompt",
   "metadata": {},
   "outputs": [],
   "source": []
  },
  {
   "cell_type": "code",
   "execution_count": 154,
   "id": "classified-warner",
   "metadata": {},
   "outputs": [
    {
     "data": {
      "text/plain": [
       "37"
      ]
     },
     "execution_count": 154,
     "metadata": {},
     "output_type": "execute_result"
    }
   ],
   "source": [
    "f.seek(28)\n",
    "f.write(line)"
   ]
  },
  {
   "cell_type": "code",
   "execution_count": 155,
   "id": "alert-gather",
   "metadata": {},
   "outputs": [],
   "source": [
    "f.close()"
   ]
  },
  {
   "cell_type": "code",
   "execution_count": 156,
   "id": "sensitive-stretch",
   "metadata": {},
   "outputs": [
    {
     "name": "stdout",
     "output_type": "stream",
     "text": [
      "First_name,Last_name,Email\n",
      "\n",
      "manish,Kumar,john-doe@bogusemail.com\n",
      "\n",
      ",Stuart,janestuart@bogusemail.com\n",
      "\n",
      "Tom,Wright,tomwright@bogusemail.com\n",
      "\n"
     ]
    }
   ],
   "source": [
    "f = open(filename ,'r+')\n",
    "\n",
    "for i in range(4):\n",
    "    \n",
    "    print(f.readline())"
   ]
  },
  {
   "cell_type": "code",
   "execution_count": 187,
   "id": "alpha-onion",
   "metadata": {},
   "outputs": [],
   "source": [
    "f.close()"
   ]
  },
  {
   "cell_type": "code",
   "execution_count": 190,
   "id": "owned-building",
   "metadata": {},
   "outputs": [],
   "source": [
    "f = open(filename ,'r+')\n",
    "readfile = f.read()\n",
    "\n",
    "# we can use the find method to get the location of the charcter in the file.\n",
    "# this is how we can remove the "
   ]
  },
  {
   "cell_type": "code",
   "execution_count": 193,
   "id": "sustained-image",
   "metadata": {},
   "outputs": [
    {
     "data": {
      "text/plain": [
       "27"
      ]
     },
     "execution_count": 193,
     "metadata": {},
     "output_type": "execute_result"
    }
   ],
   "source": [
    "readfile.find(\"manish\")"
   ]
  },
  {
   "cell_type": "code",
   "execution_count": 194,
   "id": "unlimited-reading",
   "metadata": {},
   "outputs": [],
   "source": [
    "f.close()"
   ]
  },
  {
   "cell_type": "code",
   "execution_count": 196,
   "id": "norwegian-watson",
   "metadata": {},
   "outputs": [
    {
     "name": "stdout",
     "output_type": "stream",
     "text": [
      "\n",
      "manish\n"
     ]
    }
   ],
   "source": [
    "f = open(filename ,'r+')\n",
    "f.seek(27)\n",
    "f.write(\"Kumar\")\n",
    "readfile = f.read(7)\n",
    "print(readfile)"
   ]
  },
  {
   "cell_type": "code",
   "execution_count": 197,
   "id": "precise-speaker",
   "metadata": {},
   "outputs": [
    {
     "data": {
      "text/plain": [
       "6"
      ]
     },
     "execution_count": 197,
     "metadata": {},
     "output_type": "execute_result"
    }
   ],
   "source": [
    "len(\"manish\")"
   ]
  },
  {
   "cell_type": "code",
   "execution_count": null,
   "id": "cultural-pittsburgh",
   "metadata": {},
   "outputs": [],
   "source": []
  }
 ],
 "metadata": {
  "kernelspec": {
   "display_name": "Python 3",
   "language": "python",
   "name": "python3"
  },
  "language_info": {
   "codemirror_mode": {
    "name": "ipython",
    "version": 3
   },
   "file_extension": ".py",
   "mimetype": "text/x-python",
   "name": "python",
   "nbconvert_exporter": "python",
   "pygments_lexer": "ipython3",
   "version": "3.8.3"
  }
 },
 "nbformat": 4,
 "nbformat_minor": 5
}
