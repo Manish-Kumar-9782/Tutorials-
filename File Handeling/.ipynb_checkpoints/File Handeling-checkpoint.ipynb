{
 "cells": [
  {
   "cell_type": "markdown",
   "id": "binding-posting",
   "metadata": {},
   "source": [
    "## File Handeling"
   ]
  },
  {
   "cell_type": "markdown",
   "id": "general-terror",
   "metadata": {},
   "source": [
    "In this section we will perform some file input-output operation and for that we will use the built in function `open()` to perfrom the I/O operation."
   ]
  },
  {
   "cell_type": "markdown",
   "id": "charitable-cigarette",
   "metadata": {},
   "source": [
    "Files are named locations on disk to store related information. They are used to permanently store data in a non-volatile memory (e.g. hard disk).\n",
    "\n",
    "Since Random Access Memory (RAM) is volatile (which loses its data when the computer is turned off), we use files for future use of the data by permanently storing them.\n",
    "\n",
    "When we want to read from or write to a file, we need to open it first. When we are done, it needs to be closed so that the resources that are tied with the file are freed."
   ]
  },
  {
   "cell_type": "markdown",
   "id": "military-florida",
   "metadata": {},
   "source": [
    "Operation on a file takes in three steps:\n",
    "1. `Open file:` In this first of all we will open a file by using a open() built in function.\n",
    "2. `Read & write:` In this we will read or write the file. type of the file operation have to be defined in the open function during the opening of the file.\n",
    "3. `Close:` After working on the file we need to close the file with the help of the close method."
   ]
  },
  {
   "cell_type": "markdown",
   "id": "fiscal-cargo",
   "metadata": {},
   "source": [
    "**File operating modes**\n",
    "\n",
    "if we want to work on the file then we have to specify the file mode in which we want to work. there are some file mode are defined in python.\n",
    "\n",
    "* `r`: Open a file for reading. (default), if you dont give any mode then this will be used as reading file only.\n",
    "* `w`: Open a file for writing. vreates a niw file if it does not exist or truncates the file if it exists.\n",
    "*  `x`: Open a file for exclusive creation. if the file already exists, the operation fails.\n",
    "* `a`: Opens a file for apppending at the end of the file without truncating it, Creates a new file if it does not exist.\n",
    "* `t`: OPen in text mode. (default mode)\n",
    "* `b`: Open in binary mode.\n",
    "* `+`: Opens a file for updating (reading or writing)"
   ]
  },
  {
   "cell_type": "markdown",
   "id": "lucky-welding",
   "metadata": {},
   "source": [
    "## Opening a file "
   ]
  },
  {
   "cell_type": "markdown",
   "id": "cloudy-opening",
   "metadata": {},
   "source": [
    "#### 1. Opening a file in reading mode"
   ]
  },
  {
   "cell_type": "code",
   "execution_count": 1,
   "id": "stainless-wallet",
   "metadata": {},
   "outputs": [
    {
     "name": "stdout",
     "output_type": "stream",
     "text": [
      "Hello this is only a test file.\n",
      "In this file we will test the read and write operation.\n",
      "we will use the python open() built in function for that.\n",
      "My name is joni, and im NO-One.\n"
     ]
    }
   ],
   "source": [
    "# for reading mode can use the `r` attribute or we just leave it for default value.\n",
    "\n",
    "f = open(\"test.txt\") # this open method is used to open the file and creates a file object on which we can perform some operation\n",
    "print(f.read()) \n",
    "# printitng the data which is read by the file object\n"
   ]
  },
  {
   "cell_type": "markdown",
   "id": "identified-vector",
   "metadata": {},
   "source": [
    "Now this is the content of the file, by default the file is in read mode after reading we have to close it."
   ]
  },
  {
   "cell_type": "code",
   "execution_count": 3,
   "id": "architectural-drama",
   "metadata": {},
   "outputs": [
    {
     "ename": "ValueError",
     "evalue": "I/O operation on closed file.",
     "output_type": "error",
     "traceback": [
      "\u001b[1;31m---------------------------------------------------------------------------\u001b[0m",
      "\u001b[1;31mValueError\u001b[0m                                Traceback (most recent call last)",
      "\u001b[1;32m<ipython-input-3-e7c5053d1ebd>\u001b[0m in \u001b[0;36m<module>\u001b[1;34m\u001b[0m\n\u001b[0;32m      1\u001b[0m \u001b[0mf\u001b[0m\u001b[1;33m.\u001b[0m\u001b[0mclose\u001b[0m\u001b[1;33m(\u001b[0m\u001b[1;33m)\u001b[0m\u001b[1;33m\u001b[0m\u001b[1;33m\u001b[0m\u001b[0m\n\u001b[0;32m      2\u001b[0m \u001b[1;31m# NOw we have closed the file if we want to work on the file then it will throw an error\u001b[0m\u001b[1;33m\u001b[0m\u001b[1;33m\u001b[0m\u001b[1;33m\u001b[0m\u001b[0m\n\u001b[1;32m----> 3\u001b[1;33m \u001b[0mf\u001b[0m\u001b[1;33m.\u001b[0m\u001b[0mread\u001b[0m\u001b[1;33m(\u001b[0m\u001b[1;33m)\u001b[0m\u001b[1;33m\u001b[0m\u001b[1;33m\u001b[0m\u001b[0m\n\u001b[0m\u001b[0;32m      4\u001b[0m \u001b[1;31m# reading file after closing the file.\u001b[0m\u001b[1;33m\u001b[0m\u001b[1;33m\u001b[0m\u001b[1;33m\u001b[0m\u001b[0m\n",
      "\u001b[1;31mValueError\u001b[0m: I/O operation on closed file."
     ]
    }
   ],
   "source": [
    "f.close()\n",
    "# NOw we have closed the file if we want to work on the file then it will throw an error\n",
    "f.read()\n",
    "# reading file after closing the file."
   ]
  },
  {
   "cell_type": "markdown",
   "id": "ideal-butter",
   "metadata": {},
   "source": [
    "As you can see that it throwing an error because the file has been closed."
   ]
  },
  {
   "cell_type": "markdown",
   "id": "handmade-ordinary",
   "metadata": {},
   "source": [
    "Now if we want to write some content insde the file then we need to use the `w` attribute, without this we cant write someting on the file.\n",
    "\n",
    "**Writing a file**"
   ]
  },
  {
   "cell_type": "code",
   "execution_count": 4,
   "id": "conditional-movement",
   "metadata": {},
   "outputs": [
    {
     "ename": "UnsupportedOperation",
     "evalue": "not writable",
     "output_type": "error",
     "traceback": [
      "\u001b[1;31m---------------------------------------------------------------------------\u001b[0m",
      "\u001b[1;31mUnsupportedOperation\u001b[0m                      Traceback (most recent call last)",
      "\u001b[1;32m<ipython-input-4-4b52cdba65f8>\u001b[0m in \u001b[0;36m<module>\u001b[1;34m\u001b[0m\n\u001b[0;32m      5\u001b[0m \u001b[1;31m# now we will writte some text content  in the file.\u001b[0m\u001b[1;33m\u001b[0m\u001b[1;33m\u001b[0m\u001b[1;33m\u001b[0m\u001b[0m\n\u001b[0;32m      6\u001b[0m \u001b[0mcontent\u001b[0m \u001b[1;33m=\u001b[0m \u001b[1;34m\"Hello this is updating of the file.\"\u001b[0m\u001b[1;33m\u001b[0m\u001b[1;33m\u001b[0m\u001b[0m\n\u001b[1;32m----> 7\u001b[1;33m \u001b[0mf\u001b[0m\u001b[1;33m.\u001b[0m\u001b[0mwrite\u001b[0m\u001b[1;33m(\u001b[0m\u001b[0mcontent\u001b[0m\u001b[1;33m)\u001b[0m\u001b[1;33m\u001b[0m\u001b[1;33m\u001b[0m\u001b[0m\n\u001b[0m",
      "\u001b[1;31mUnsupportedOperation\u001b[0m: not writable"
     ]
    }
   ],
   "source": [
    "# now again we will open the file in read mode\n",
    "\n",
    "f = open(\"test.txt\")\n",
    "\n",
    "# now we will writte some text content  in the file.\n",
    "content = \"Hello this is updating of the file.\"\n",
    "f.write(content)"
   ]
  },
  {
   "cell_type": "markdown",
   "id": "transparent-import",
   "metadata": {},
   "source": [
    "As you can see that file is not writable, Because we opened it by using the read mode, if we want to write the file then we need to use the `w` write mode.\n",
    "\n",
    "Note:  To check the file is writable or not , use `f.writable()` function. if it returns `Fasle` then is not writable and if returns `True` then file is writable.\n",
    "\n",
    "***Checking the file is writable or not***"
   ]
  },
  {
   "cell_type": "code",
   "execution_count": 6,
   "id": "comprehensive-wholesale",
   "metadata": {},
   "outputs": [
    {
     "data": {
      "text/plain": [
       "False"
      ]
     },
     "execution_count": 6,
     "metadata": {},
     "output_type": "execute_result"
    }
   ],
   "source": [
    "f.writable()"
   ]
  },
  {
   "cell_type": "markdown",
   "id": "moving-paris",
   "metadata": {},
   "source": [
    "As you can see that file is not writable because it is opened in the read mode. To make it writable we need to open it in the writable mode. but for that first we need to close the file. \n",
    "\n",
    "We can check a file is closed or not by using its object. To check that the file is closed or not use the `f.closed` attribute."
   ]
  },
  {
   "cell_type": "code",
   "execution_count": 7,
   "id": "complete-wesley",
   "metadata": {},
   "outputs": [
    {
     "data": {
      "text/plain": [
       "False"
      ]
     },
     "execution_count": 7,
     "metadata": {},
     "output_type": "execute_result"
    }
   ],
   "source": [
    "# closing the opend file\n",
    "f.closed"
   ]
  },
  {
   "cell_type": "markdown",
   "id": "alternative-backup",
   "metadata": {},
   "source": [
    "Since it show that the file is not closed then we need to close it and then we will open it in write mode."
   ]
  },
  {
   "cell_type": "code",
   "execution_count": 8,
   "id": "soviet-charlotte",
   "metadata": {},
   "outputs": [
    {
     "data": {
      "text/plain": [
       "True"
      ]
     },
     "execution_count": 8,
     "metadata": {},
     "output_type": "execute_result"
    }
   ],
   "source": [
    "f.close()\n",
    "# closing the file and checking the file is closed or not\n",
    "f.closed"
   ]
  },
  {
   "cell_type": "markdown",
   "id": "absolute-circle",
   "metadata": {},
   "source": [
    "Now file has been closed, we can open the file in write mode."
   ]
  },
  {
   "cell_type": "markdown",
   "id": "pursuant-appraisal",
   "metadata": {},
   "source": [
    "#### 2. Opening File in write mode"
   ]
  },
  {
   "cell_type": "code",
   "execution_count": 10,
   "id": "earned-pixel",
   "metadata": {},
   "outputs": [
    {
     "data": {
      "text/plain": [
       "'w'"
      ]
     },
     "execution_count": 10,
     "metadata": {},
     "output_type": "execute_result"
    }
   ],
   "source": [
    "f = open(\"test.txt\",'w')\n",
    "\n",
    "# Now we have opened the file with attribute 'w'. if want to check the file mode then\n",
    "# we can use the f.mode attribute.\n",
    "\n",
    "f.mode"
   ]
  },
  {
   "cell_type": "markdown",
   "id": "global-norfolk",
   "metadata": {},
   "source": [
    "As you can see that file is now in write mode we, we can check also file name if we want. Now we will check some properties of the file like:\n",
    "* file is closed or open\n",
    "* file is writable or not\n",
    "* file name"
   ]
  },
  {
   "cell_type": "code",
   "execution_count": 13,
   "id": "otherwise-producer",
   "metadata": {},
   "outputs": [
    {
     "name": "stdout",
     "output_type": "stream",
     "text": [
      "file 'test.txt' status:\n",
      "file closed: False\n",
      "file writable: True\n"
     ]
    }
   ],
   "source": [
    "# checking the fiel close or open\n",
    "print(f\"file '{f.name}' status:\")\n",
    "print(\"file closed:\", f.closed)\n",
    "print(\"file writable:\",f.writable())"
   ]
  },
  {
   "cell_type": "markdown",
   "id": "certain-laser",
   "metadata": {},
   "source": [
    "Now we wil write some content in the file."
   ]
  },
  {
   "cell_type": "code",
   "execution_count": 14,
   "id": "physical-indian",
   "metadata": {},
   "outputs": [
    {
     "name": "stdout",
     "output_type": "stream",
     "text": [
      "Hello this is updating of the file.\n"
     ]
    }
   ],
   "source": [
    "print(content)"
   ]
  },
  {
   "cell_type": "code",
   "execution_count": 15,
   "id": "valued-german",
   "metadata": {},
   "outputs": [
    {
     "data": {
      "text/plain": [
       "35"
      ]
     },
     "execution_count": 15,
     "metadata": {},
     "output_type": "execute_result"
    }
   ],
   "source": [
    "# we will write this content in the file, not that the file mode is 'w'\n",
    "f.write(content)\n"
   ]
  },
  {
   "cell_type": "markdown",
   "id": "convertible-republican",
   "metadata": {},
   "source": [
    "Now after writing the file , we need to check it that the content is written or not, for that we will use the read method."
   ]
  },
  {
   "cell_type": "code",
   "execution_count": 16,
   "id": "secondary-discount",
   "metadata": {},
   "outputs": [
    {
     "ename": "UnsupportedOperation",
     "evalue": "not readable",
     "output_type": "error",
     "traceback": [
      "\u001b[1;31m---------------------------------------------------------------------------\u001b[0m",
      "\u001b[1;31mUnsupportedOperation\u001b[0m                      Traceback (most recent call last)",
      "\u001b[1;32m<ipython-input-16-571e9fb02258>\u001b[0m in \u001b[0;36m<module>\u001b[1;34m\u001b[0m\n\u001b[1;32m----> 1\u001b[1;33m \u001b[0mf\u001b[0m\u001b[1;33m.\u001b[0m\u001b[0mread\u001b[0m\u001b[1;33m(\u001b[0m\u001b[1;33m)\u001b[0m\u001b[1;33m\u001b[0m\u001b[1;33m\u001b[0m\u001b[0m\n\u001b[0m",
      "\u001b[1;31mUnsupportedOperation\u001b[0m: not readable"
     ]
    }
   ],
   "source": [
    "f.read()"
   ]
  },
  {
   "cell_type": "markdown",
   "id": "looking-story",
   "metadata": {},
   "source": [
    "On now file is not readable, Since this time the file is in write mode to read it, first we need to close it then we need to open it in the read mode. \n",
    "\n",
    "To check that the file is readable or not. we can use `f.readable()` method."
   ]
  },
  {
   "cell_type": "code",
   "execution_count": 17,
   "id": "radio-feeding",
   "metadata": {},
   "outputs": [
    {
     "name": "stdout",
     "output_type": "stream",
     "text": [
      "file is readable or not:  False\n"
     ]
    }
   ],
   "source": [
    "# checking the file is readable or not\n",
    "print(\"file is readable or not: \",f.readable())"
   ]
  },
  {
   "cell_type": "markdown",
   "id": "outdoor-executive",
   "metadata": {},
   "source": [
    "As we can see that the file is not readable that's why we got error during reading file. Now to read the file first we need to close the file and after that we will open the file in the reading mode.\n",
    "\n",
    "**Opening file in read mode**"
   ]
  },
  {
   "cell_type": "code",
   "execution_count": 18,
   "id": "senior-campaign",
   "metadata": {},
   "outputs": [
    {
     "name": "stdout",
     "output_type": "stream",
     "text": [
      "Is file closed: False\n"
     ]
    }
   ],
   "source": [
    "# Now first we will check that file is closed or not\n",
    "print(\"Is file closed:\", f.closed)"
   ]
  },
  {
   "cell_type": "code",
   "execution_count": 19,
   "id": "dietary-guarantee",
   "metadata": {},
   "outputs": [
    {
     "name": "stdout",
     "output_type": "stream",
     "text": [
      "Is file closed: True\n"
     ]
    }
   ],
   "source": [
    "# file is not closed, so first we should close it.\n",
    "f.close()\n",
    "print(\"Is file closed:\", f.closed)"
   ]
  },
  {
   "cell_type": "code",
   "execution_count": 21,
   "id": "compact-letters",
   "metadata": {},
   "outputs": [
    {
     "name": "stdout",
     "output_type": "stream",
     "text": [
      "File mode:  r\n",
      "File is readable: True\n",
      "Is file closed:  False\n",
      "Is file writable:  False\n"
     ]
    }
   ],
   "source": [
    "# Now file is closed, we can open the file in read mode\n",
    "f = open(\"test.txt\")\n",
    "\n",
    "# chekcing file properties\n",
    "print(\"File mode: \",f.mode)\n",
    "print(\"File is readable:\",f.readable())\n",
    "print(\"Is file closed: \",f.closed)\n",
    "print(\"Is file writable: \",f.writable())\n",
    "\n"
   ]
  },
  {
   "cell_type": "markdown",
   "id": "foster-malpractice",
   "metadata": {},
   "source": [
    "Now we can see that file is in read mode and it is readable. now we can see our new content in the file."
   ]
  },
  {
   "cell_type": "code",
   "execution_count": 22,
   "id": "placed-effects",
   "metadata": {},
   "outputs": [
    {
     "data": {
      "text/plain": [
       "'Hello this is updating of the file.'"
      ]
     },
     "execution_count": 22,
     "metadata": {},
     "output_type": "execute_result"
    }
   ],
   "source": [
    "f.read()"
   ]
  },
  {
   "cell_type": "markdown",
   "id": "lovely-telescope",
   "metadata": {},
   "source": [
    "Note: we should note that our previous data is earsed beacuse we used the `w` mode in which the existed data is earsed and new data is feed to the file.\n",
    "\n",
    "if file does not exist then it creates a file with the given name.\n",
    "\n",
    "Now if we want to add new content inside the file without earsing the previous data then we need to use the `a` attribute during the file opening."
   ]
  },
  {
   "cell_type": "code",
   "execution_count": 23,
   "id": "incoming-linux",
   "metadata": {},
   "outputs": [
    {
     "name": "stdout",
     "output_type": "stream",
     "text": [
      "Is file closed:  True\n"
     ]
    }
   ],
   "source": [
    "# closing the fiel againg to open it in append mode\n",
    "f.close()\n",
    "print(\"Is file closed: \",f.closed)"
   ]
  },
  {
   "cell_type": "markdown",
   "id": "express-capture",
   "metadata": {},
   "source": [
    "#### 3. Opening File in appending mode."
   ]
  },
  {
   "cell_type": "code",
   "execution_count": 31,
   "id": "every-policy",
   "metadata": {},
   "outputs": [
    {
     "name": "stdout",
     "output_type": "stream",
     "text": [
      "File mode:  a\n",
      "File is readable: False\n",
      "Is file closed:  False\n",
      "Is file writable:  True\n"
     ]
    }
   ],
   "source": [
    "# opening the file in appending mode by using the 'a' attribute.\n",
    "\n",
    "f = open(\"test.txt\",'a')\n",
    "\n",
    "# chekcing file properties\n",
    "print(\"File mode: \",f.mode)\n",
    "print(\"File is readable:\",f.readable())\n",
    "print(\"Is file closed: \",f.closed)\n",
    "print(\"Is file writable: \",f.writable())\n"
   ]
  },
  {
   "cell_type": "markdown",
   "id": "mysterious-chase",
   "metadata": {},
   "source": [
    "Now from the above output we can see that file is now in appending mode and it is writable but not readable.\n",
    "\n",
    "Now now we will perform write operation two time to see that the new content appends or not."
   ]
  },
  {
   "cell_type": "code",
   "execution_count": 32,
   "id": "major-skiing",
   "metadata": {},
   "outputs": [],
   "source": [
    "content1 = \"\"\"Hello this is only a test file.\n",
    "In this file we will test the read and write operation.\n",
    "we will use the python open() built in function for that.\n",
    "My name is joni, and im NO-One.\"\"\"\n",
    "\n",
    "content = \"Hello this is updating of the file.\"\n"
   ]
  },
  {
   "cell_type": "markdown",
   "id": "polyphonic-quest",
   "metadata": {},
   "source": [
    "Now first we will add `content1` in the file."
   ]
  },
  {
   "cell_type": "code",
   "execution_count": 33,
   "id": "illegal-paste",
   "metadata": {},
   "outputs": [
    {
     "name": "stdout",
     "output_type": "stream",
     "text": [
      "Hello this is updating of the file.Hello this is only a test file.\n",
      "In this file we will test the read and write operation.\n",
      "we will use the python open() built in function for that.\n",
      "My name is joni, and im NO-One.\n"
     ]
    }
   ],
   "source": [
    "f.write(content1)\n",
    "# now to see the new content we need to close the file and need to open it in read mode.\n",
    "f.close()\n",
    "f = open(\"test.txt\", 'r')\n",
    "print(f.read())\n",
    "f.close()\n",
    "# for better pratice we need to use the close the file after operation is done."
   ]
  },
  {
   "cell_type": "markdown",
   "id": "painful-wrist",
   "metadata": {},
   "source": [
    "Now As you can see that, this time previous data is not earsed and new data is appends just after the old data.\n",
    "\n",
    "Note: if you wants the new data with some space or new line then you need to specify that in during the file writng operation.\n",
    "\n",
    "Now we will add `content` with new line in the text file."
   ]
  },
  {
   "cell_type": "code",
   "execution_count": 35,
   "id": "coastal-boring",
   "metadata": {},
   "outputs": [
    {
     "name": "stdout",
     "output_type": "stream",
     "text": [
      "Hello this is updating of the file.Hello this is only a test file.\n",
      "In this file we will test the read and write operation.\n",
      "we will use the python open() built in function for that.\n",
      "My name is joni, and im NO-One.\n",
      "Hello this is updating of the file.\n"
     ]
    }
   ],
   "source": [
    "f = open('test.txt', 'a')\n",
    "# file is in append mode\n",
    "\n",
    "# writing the content with new linw\n",
    "f.write('\\n'+content)\n",
    "# now to see the new content we need to close the file and need to open it in read mode.\n",
    "f.close()\n",
    "f = open(\"test.txt\", 'r')\n",
    "print(f.read())\n",
    "f.close()\n",
    "# for better pratice we need to use the close the file after operation is done."
   ]
  },
  {
   "cell_type": "markdown",
   "id": "raised-healthcare",
   "metadata": {},
   "source": [
    "Now in this you can see that we have added some new content iniside the file with a new line.\n",
    "\n",
    "Note: Since it is very frustrating to open file to use read and write operation on the file, but we can use both of them by changing the file mode. for that we need to use the `r+`  mode."
   ]
  },
  {
   "cell_type": "markdown",
   "id": "random-distinction",
   "metadata": {},
   "source": [
    "#### 4. Openning the file in read & write mode."
   ]
  },
  {
   "cell_type": "code",
   "execution_count": 36,
   "id": "charitable-portable",
   "metadata": {},
   "outputs": [
    {
     "name": "stdout",
     "output_type": "stream",
     "text": [
      "File mode:  r+\n",
      "File is readable: True\n",
      "Is file closed:  False\n",
      "Is file writable:  True\n"
     ]
    }
   ],
   "source": [
    "# Now we will use \"r+\" mode to open file in read and write mode.\n",
    "f = open(\"test.txt\", 'r+')\n",
    "\n",
    "# chekcing file properties\n",
    "print(\"File mode: \",f.mode)\n",
    "print(\"File is readable:\",f.readable())\n",
    "print(\"Is file closed: \",f.closed)\n",
    "print(\"Is file writable: \",f.writable())"
   ]
  },
  {
   "cell_type": "markdown",
   "id": "seasonal-plaza",
   "metadata": {},
   "source": [
    "Now as you can see that file is now readable and writable, now we don't need to close the file every time after writing and reading something.\n",
    "\n",
    "**Writing and reading content at once.**\n",
    "\n",
    "Now this time we will ues the readline and writeline methods to read and write. but to see the difference of use of these methods we need multilne content."
   ]
  },
  {
   "cell_type": "code",
   "execution_count": 37,
   "id": "radio-bonus",
   "metadata": {},
   "outputs": [
    {
     "name": "stdout",
     "output_type": "stream",
     "text": [
      "we will test the read and write operation.\n",
      "we will use the python open() built in function for that.\n",
      "My name is joni, and im NO-One.\n",
      "Hello this is updating of the file.\n"
     ]
    }
   ],
   "source": [
    "# creating a dummy line content\n",
    "lines = \"\"\"This is first line\n",
    "This is second line\n",
    "This is thrid line\n",
    "This is fourth line.\"\"\"\n",
    "\n",
    "# Now we will use the write some content in the file,\n",
    "f.writelines(lines)\n",
    "\n",
    "# after writing we will read the file by using the read method.\n",
    "print(f.read())"
   ]
  },
  {
   "cell_type": "code",
   "execution_count": 40,
   "id": "heated-semiconductor",
   "metadata": {},
   "outputs": [
    {
     "name": "stdout",
     "output_type": "stream",
     "text": [
      "This is first line\n",
      "This is second line\n",
      "This is thrid line\n",
      "This is fourth line.we will test the read and write operation.\n",
      "we will use the python open() built in function for that.\n",
      "My name is joni, and im NO-One.\n",
      "Hello this is updating of the file.\n"
     ]
    }
   ],
   "source": [
    "f.seek(0)\n",
    "print(f.read())\n",
    "f.close()"
   ]
  },
  {
   "cell_type": "markdown",
   "id": "incomplete-bosnia",
   "metadata": {},
   "source": [
    "As you can see that our we have written some list of line inside the file but there is a problem, New content replaced the previuous one to avoide this situation we need to use the append attribute also."
   ]
  },
  {
   "cell_type": "markdown",
   "id": "colonial-training",
   "metadata": {},
   "source": [
    "#### 5. Opening the file with read, write and append mode."
   ]
  },
  {
   "cell_type": "code",
   "execution_count": 41,
   "id": "another-creator",
   "metadata": {},
   "outputs": [
    {
     "ename": "ValueError",
     "evalue": "must have exactly one of create/read/write/append mode",
     "output_type": "error",
     "traceback": [
      "\u001b[1;31m---------------------------------------------------------------------------\u001b[0m",
      "\u001b[1;31mValueError\u001b[0m                                Traceback (most recent call last)",
      "\u001b[1;32m<ipython-input-41-2c2bb7cc6006>\u001b[0m in \u001b[0;36m<module>\u001b[1;34m\u001b[0m\n\u001b[0;32m      2\u001b[0m \u001b[1;33m\u001b[0m\u001b[0m\n\u001b[0;32m      3\u001b[0m \u001b[1;31m# Now we will use \"r+\" mode to open file in read and write mode.\u001b[0m\u001b[1;33m\u001b[0m\u001b[1;33m\u001b[0m\u001b[1;33m\u001b[0m\u001b[0m\n\u001b[1;32m----> 4\u001b[1;33m \u001b[0mf\u001b[0m \u001b[1;33m=\u001b[0m \u001b[0mopen\u001b[0m\u001b[1;33m(\u001b[0m\u001b[1;34m\"test.txt\"\u001b[0m\u001b[1;33m,\u001b[0m \u001b[1;34m'r+a'\u001b[0m\u001b[1;33m)\u001b[0m\u001b[1;33m\u001b[0m\u001b[1;33m\u001b[0m\u001b[0m\n\u001b[0m\u001b[0;32m      5\u001b[0m \u001b[1;33m\u001b[0m\u001b[0m\n\u001b[0;32m      6\u001b[0m \u001b[1;31m# chekcing file properties\u001b[0m\u001b[1;33m\u001b[0m\u001b[1;33m\u001b[0m\u001b[1;33m\u001b[0m\u001b[0m\n",
      "\u001b[1;31mValueError\u001b[0m: must have exactly one of create/read/write/append mode"
     ]
    }
   ],
   "source": [
    "# To make it read, write and append mode we need to use 'r+a' mode.\n",
    "\n",
    "# Now we will use \"r+\" mode to open file in read and write mode.\n",
    "f = open(\"test.txt\", 'r+a')\n",
    "\n",
    "# chekcing file properties\n",
    "print(\"File mode: \",f.mode)\n",
    "print(\"File is readable:\",f.readable())\n",
    "print(\"Is file closed: \",f.closed)\n",
    "print(\"Is file writable: \",f.writable())"
   ]
  },
  {
   "cell_type": "markdown",
   "id": "dangerous-convenience",
   "metadata": {},
   "source": [
    "OHH, No open() method does not supports the read, write and append mode together, for that we need to use a different method.\n",
    "\n",
    "To reach at the end of the file we can use another approach, by using the `seek()` method.\n",
    "* `seek()`: This method changes the current file location to access the byte (data.) \n",
    "\n",
    "In this seek mehod we can use os seek methods.\n",
    "* os.SEEK_CUR\n",
    "* os.SEEK_END\n",
    "* os.SEEK_SET\n",
    "\n",
    "like:\n",
    "```ruby\n",
    "f.seek(0, os.SEEK_END)\n",
    "```\n",
    "for that we need to import the os module."
   ]
  },
  {
   "cell_type": "code",
   "execution_count": 64,
   "id": "awful-fetish",
   "metadata": {},
   "outputs": [],
   "source": [
    "import os"
   ]
  },
  {
   "cell_type": "code",
   "execution_count": 65,
   "id": "greatest-circle",
   "metadata": {},
   "outputs": [
    {
     "name": "stdout",
     "output_type": "stream",
     "text": [
      "File Location : 0\n"
     ]
    }
   ],
   "source": [
    "f = open('test.txt','r+')\n",
    "# now we need to check the file loaction\n",
    "print(\"File Location :\",f.tell()) # this will gives the file location"
   ]
  },
  {
   "cell_type": "markdown",
   "id": "absolute-rover",
   "metadata": {},
   "source": [
    "This zero shows us that we are at the begining of the file, if we perform the write operation then it will start to wrtie from begining of file and also it will repalace the old data. \n",
    "\n",
    "so for now we need use the `os.SEEK_END` property of set the file location at the end of the file."
   ]
  },
  {
   "cell_type": "code",
   "execution_count": 66,
   "id": "established-election",
   "metadata": {},
   "outputs": [
    {
     "data": {
      "text/plain": [
       "217"
      ]
     },
     "execution_count": 66,
     "metadata": {},
     "output_type": "execute_result"
    }
   ],
   "source": [
    "f.seek(0,os.SEEK_END)\n",
    "# this will set the file location at the end of the file."
   ]
  },
  {
   "cell_type": "markdown",
   "id": "quick-portland",
   "metadata": {},
   "source": [
    "Now if again we see the location of the file then we can see that we have reached the at the end of the file."
   ]
  },
  {
   "cell_type": "code",
   "execution_count": 67,
   "id": "remarkable-tourist",
   "metadata": {},
   "outputs": [
    {
     "name": "stdout",
     "output_type": "stream",
     "text": [
      "File current location: 217\n"
     ]
    }
   ],
   "source": [
    "# to check the file location we\n",
    "print(\"File current location:\",f.tell())"
   ]
  },
  {
   "cell_type": "markdown",
   "id": "diverse-holly",
   "metadata": {},
   "source": [
    "Now if we read a single byte then it will be empty, since there is nothing at the end of the file."
   ]
  },
  {
   "cell_type": "code",
   "execution_count": 68,
   "id": "typical-accuracy",
   "metadata": {},
   "outputs": [
    {
     "data": {
      "text/plain": [
       "''"
      ]
     },
     "execution_count": 68,
     "metadata": {},
     "output_type": "execute_result"
    }
   ],
   "source": [
    "# reading the file at the end of the file.\n",
    "f.read(1) # reading 1 chararacter fromt the file."
   ]
  },
  {
   "cell_type": "markdown",
   "id": "wrapped-greene",
   "metadata": {},
   "source": [
    "Now as you can see that `f.read()` returns an empty string which means there is nothig after reaching at the end of the file.\n",
    "\n",
    "Now we can write the new data by appending it at the end of the file.\n",
    "\n",
    "`Note`: if you write the data after reaching at the end of the file then new data will be appended on the same line at which last character of the file is palced. To write the new data form new line then we need to use the `\\n` newline character before the data."
   ]
  },
  {
   "cell_type": "code",
   "execution_count": 69,
   "id": "acceptable-bowling",
   "metadata": {},
   "outputs": [
    {
     "name": "stdout",
     "output_type": "stream",
     "text": [
      "This is first line\n",
      "This is second line\n",
      "This is thrid line\n",
      "This is fourth line.\n"
     ]
    }
   ],
   "source": [
    "# the data which we will write to the file\\\n",
    "print(lines)"
   ]
  },
  {
   "cell_type": "code",
   "execution_count": 70,
   "id": "configured-medicaid",
   "metadata": {},
   "outputs": [
    {
     "data": {
      "text/plain": [
       "79"
      ]
     },
     "execution_count": 70,
     "metadata": {},
     "output_type": "execute_result"
    }
   ],
   "source": [
    "# now we need to add the '\\n' before content in the write funtion.\n",
    "f.write('\\n'+lines)"
   ]
  },
  {
   "cell_type": "code",
   "execution_count": 72,
   "id": "friendly-break",
   "metadata": {},
   "outputs": [
    {
     "name": "stdout",
     "output_type": "stream",
     "text": [
      "Hello this is only a test file.\n",
      "In this file we will test the read and write operation.\n",
      "we will use the python open() built in function for that.\n",
      "My name is joni, and im NO-One.\n",
      "Hello this is updating of the file.\n",
      "This is first line\n",
      "This is second line\n",
      "This is thrid line\n",
      "This is fourth line.\n"
     ]
    }
   ],
   "source": [
    "# After writing data we will print updated file.\n",
    "# but before that we need to set the file location at the begining of the file.\n",
    "f.seek(0)\n",
    "print(f.read())"
   ]
  },
  {
   "cell_type": "markdown",
   "id": "cleared-moldova",
   "metadata": {},
   "source": [
    "**if we use the writelines method to write data**"
   ]
  },
  {
   "cell_type": "code",
   "execution_count": 73,
   "id": "coupled-bottle",
   "metadata": {},
   "outputs": [
    {
     "data": {
      "text/plain": [
       "300"
      ]
     },
     "execution_count": 73,
     "metadata": {},
     "output_type": "execute_result"
    }
   ],
   "source": [
    "# setting the file location at the end of the file to append the new data\n",
    "f.seek(0,os.SEEK_END)"
   ]
  },
  {
   "cell_type": "code",
   "execution_count": 74,
   "id": "varied-attack",
   "metadata": {},
   "outputs": [],
   "source": [
    "f.writelines(lines)"
   ]
  },
  {
   "cell_type": "code",
   "execution_count": 75,
   "id": "copyrighted-simple",
   "metadata": {},
   "outputs": [
    {
     "name": "stdout",
     "output_type": "stream",
     "text": [
      "Hello this is only a test file.\n",
      "In this file we will test the read and write operation.\n",
      "we will use the python open() built in function for that.\n",
      "My name is joni, and im NO-One.\n",
      "Hello this is updating of the file.\n",
      "This is first line\n",
      "This is second line\n",
      "This is thrid line\n",
      "This is fourth line.This is first line\n",
      "This is second line\n",
      "This is thrid line\n",
      "This is fourth line.\n"
     ]
    }
   ],
   "source": [
    "# setting the file location\n",
    "f.seek(0) # at the begining.\n",
    "\n",
    "print(f.read())"
   ]
  },
  {
   "cell_type": "code",
   "execution_count": 77,
   "id": "optical-virginia",
   "metadata": {},
   "outputs": [],
   "source": [
    "f.close()"
   ]
  },
  {
   "cell_type": "markdown",
   "id": "racial-courtesy",
   "metadata": {},
   "source": [
    "<h4 style=\"color: red\">Note:</h4> \n",
    "\n",
    "`write`: write method write character by character at once. if there is a memory issue then we should use the write method, since it do not make any extra load on the memory.\n",
    "\n",
    "`writelines`: writelines write the whole line at once. Since it uses all the data at once that's why it make load on the memory."
   ]
  },
  {
   "cell_type": "markdown",
   "id": "accessory-processor",
   "metadata": {},
   "source": [
    "#### 6. Open file in binary mode With context manager"
   ]
  },
  {
   "cell_type": "code",
   "execution_count": 81,
   "id": "collaborative-hearts",
   "metadata": {},
   "outputs": [
    {
     "name": "stdout",
     "output_type": "stream",
     "text": [
      "b'Hello this file working on the binary mode.'\n"
     ]
    }
   ],
   "source": [
    "# in this we will open the file in binary mode with read and write mode.\n",
    "\n",
    "# in this we will not use the conventional way to open the file.\n",
    "# we will use the 'with' context manager to open and create a scope of the file.\n",
    "\n",
    "with open('test2.txt','r+b') as f:\n",
    "    \n",
    "    # This above statement creates a scope for the file.\n",
    "    # Now we can perform only with the scope of the file.\n",
    "    # if we use the f object outside this scope we will get an error\n",
    "    # as soon as we go outside this scope file will close itself we dont need to use the close() mehtod.\n",
    "    \n",
    "    content = \"Hello this file working on the binary mode.\"\n",
    "    content2 =\"Hello again this is second line of the file.\" \n",
    "    \n",
    "    # Note: before passong the string to write function we need to covert the string into binary string.\n",
    "            # By using the encode() method on the string object.\n",
    "    \n",
    "    content = content.encode()\n",
    "    \n",
    "    f.write(content)\n",
    "    \n",
    "    # setting the file location at the 0\n",
    "    f.seek(0)\n",
    "    print(f.read())\n",
    "    "
   ]
  },
  {
   "cell_type": "markdown",
   "id": "rental-incidence",
   "metadata": {},
   "source": [
    "As you can see that this is a binary string. we have to use the `decode()` method on the binary stirng object to convert it into the normal string."
   ]
  },
  {
   "cell_type": "code",
   "execution_count": 82,
   "id": "proprietary-listing",
   "metadata": {},
   "outputs": [
    {
     "name": "stdout",
     "output_type": "stream",
     "text": [
      "Hello this file working on the binary mode.\n"
     ]
    }
   ],
   "source": [
    "with open('test2.txt', 'r+b') as f:\n",
    "    \n",
    "    content = f.read() # getting the data into content variable.\n",
    "    \n",
    "    content_decodee = content.decode() # decoding the data.\n",
    "    print(content_decodee)"
   ]
  },
  {
   "cell_type": "markdown",
   "id": "regulation-philippines",
   "metadata": {},
   "source": [
    "As you can see that we have converted the binary string into the normal string."
   ]
  },
  {
   "cell_type": "markdown",
   "id": "controlling-martial",
   "metadata": {},
   "source": [
    "<h4 style = \"color : #3273a8\" >Some other method and attribute of the open objet</h4>"
   ]
  },
  {
   "cell_type": "markdown",
   "id": "revised-ecuador",
   "metadata": {},
   "source": [
    "There are some other methods available which can be usefull at some point.\n",
    "\n",
    "* `detach():` Separates the underliying binary buffer from the _TextIOBase_ and returns it.\n",
    "* `fineno():` Returns an interger number (file descriptor) of the file.\n",
    "* `flush():` Flushes the write buffer of the file stream.\n",
    "* `isattay():` Return _True_ if the file stream is interactive.\n",
    "* `seekable():` Returns _True_ if the file stream supports random access.\n",
    "* `truncate():` Resizes the file stream to _size_ bytes. If _size_ is not specified, resizes to current location."
   ]
  },
  {
   "cell_type": "markdown",
   "id": "beautiful-assist",
   "metadata": {},
   "source": [
    "##### 1. Seekable method"
   ]
  },
  {
   "cell_type": "code",
   "execution_count": 92,
   "id": "inner-mentor",
   "metadata": {},
   "outputs": [
    {
     "name": "stdout",
     "output_type": "stream",
     "text": [
      "Is file is seekable True\n"
     ]
    }
   ],
   "source": [
    "with open('test.txt', 'r+b') as f:\n",
    "    \n",
    "    # fine is in read and write mode.\n",
    "    # checking that file is seekable or not\n",
    "    print(\"Is file is seekable\" , f.seekable())"
   ]
  },
  {
   "cell_type": "code",
   "execution_count": 93,
   "id": "parliamentary-prior",
   "metadata": {},
   "outputs": [
    {
     "name": "stdout",
     "output_type": "stream",
     "text": [
      "is file seekable:  True\n"
     ]
    }
   ],
   "source": [
    "with open('test2.txt', 'r') as f:\n",
    "    \n",
    "    # file is only in read mode.\n",
    "    print(\"is file seekable: \",f.seekable())"
   ]
  },
  {
   "cell_type": "markdown",
   "id": "compatible-shape",
   "metadata": {},
   "source": [
    "##### 2. truncate method"
   ]
  },
  {
   "cell_type": "code",
   "execution_count": 101,
   "id": "british-lincoln",
   "metadata": {},
   "outputs": [
    {
     "name": "stdout",
     "output_type": "stream",
     "text": [
      "file Location:  0\n",
      "Hello this is joni\n",
      "Hello this is Moni.\n",
      "Hello this is a test file.\n",
      "this is line one.\n",
      "19\n",
      "\n",
      "\n",
      "Hello this is joni\n",
      "\n"
     ]
    }
   ],
   "source": [
    "with open('test.txt', 'r+') as f:\n",
    "    \n",
    "    # testing the postitin of the file.\n",
    "    print(\"file Location: \",f.tell())\n",
    "    print(f.read())\n",
    "    # setting at 0\n",
    "    f.seek(19)\n",
    "    \n",
    "    # truncating for 15 bytes\n",
    "    \n",
    "    print(f.truncate(19))\n",
    "    print()\n",
    "    \n",
    "    # this truncate method will earase evertihng except the given size data\n",
    "    # truncate(n) / if we give n, this will leave n character from the current postion.\n",
    "    # and it will earse everything else.\n",
    "    \n",
    "    # again pring the file after truncating\n",
    "    print()\n",
    "    print(f.read())\n",
    "    "
   ]
  },
  {
   "cell_type": "code",
   "execution_count": null,
   "id": "primary-strip",
   "metadata": {},
   "outputs": [],
   "source": []
  }
 ],
 "metadata": {
  "kernelspec": {
   "display_name": "Python 3",
   "language": "python",
   "name": "python3"
  },
  "language_info": {
   "codemirror_mode": {
    "name": "ipython",
    "version": 3
   },
   "file_extension": ".py",
   "mimetype": "text/x-python",
   "name": "python",
   "nbconvert_exporter": "python",
   "pygments_lexer": "ipython3",
   "version": "3.8.3"
  }
 },
 "nbformat": 4,
 "nbformat_minor": 5
}
