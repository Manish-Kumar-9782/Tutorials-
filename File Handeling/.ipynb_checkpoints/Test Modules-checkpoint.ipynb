{
 "cells": [
  {
   "cell_type": "code",
   "execution_count": 1,
   "id": "behind-channels",
   "metadata": {},
   "outputs": [],
   "source": [
    "import sqlite3 as sql"
   ]
  },
  {
   "cell_type": "code",
   "execution_count": 7,
   "id": "backed-robert",
   "metadata": {},
   "outputs": [
    {
     "name": "stdout",
     "output_type": "stream",
     "text": [
      "('Manish', 'Kumar', 'manishkumar9782@gmail.com', '8955530880')\n",
      "('Rahul', 'Kumar', 'rahulaim9414@gmail.com', '7073509024')\n",
      "('Anil', 'Meena', 'anilmeena876@gmail.com', '8085125364')\n",
      "('Praveen', 'Kumar', 'pkbaba@gmail.com', '9431148124')\n",
      "('sagar', 'verma', 'sagarverma953@gmail.com', '9414774395')\n"
     ]
    }
   ],
   "source": [
    "connect = sql.connect('database.db')\n",
    "\n",
    "cursor = connect.cursor()\n",
    "\n",
    "cursor.execute(\"SELECT * FROM test\")\n",
    "\n",
    "for value in cursor.fetchall():\n",
    "    print(value)\n",
    "connect.close()"
   ]
  },
  {
   "cell_type": "code",
   "execution_count": 6,
   "id": "choice-luxembourg",
   "metadata": {},
   "outputs": [],
   "source": []
  },
  {
   "cell_type": "code",
   "execution_count": 9,
   "id": "coated-kruger",
   "metadata": {},
   "outputs": [
    {
     "name": "stdout",
     "output_type": "stream",
     "text": [
      "('Manish', 'Kumar', 'PG in Mechanical ')\n",
      "('Rahul', 'Kumar', 'B.Sc 2nd Year')\n",
      "('Anil', 'Kumar', 'PG in Diploma')\n"
     ]
    }
   ],
   "source": [
    "connect = sql.connect('test.db')\n",
    "\n",
    "cursor = connect.cursor()\n",
    "\n",
    "cursor.execute(\"SELECT * FROM test\")\n",
    "\n",
    "for value in cursor.fetchall():\n",
    "    print(value)\n",
    "connect.close()"
   ]
  },
  {
   "cell_type": "code",
   "execution_count": 1,
   "id": "valid-avatar",
   "metadata": {},
   "outputs": [],
   "source": [
    "import json\n"
   ]
  },
  {
   "cell_type": "code",
   "execution_count": 2,
   "id": "according-validation",
   "metadata": {},
   "outputs": [],
   "source": [
    "data = {\n",
    "    \"config\":[]\n",
    "}"
   ]
  },
  {
   "cell_type": "code",
   "execution_count": 6,
   "id": "valued-benchmark",
   "metadata": {},
   "outputs": [],
   "source": [
    "with open(\"config.json\", \"w\") as file:\n",
    "    json.dump(data, file, indent = 2)"
   ]
  },
  {
   "cell_type": "code",
   "execution_count": 7,
   "id": "greenhouse-physics",
   "metadata": {},
   "outputs": [],
   "source": [
    "config = {\"User id\":21254,\n",
    "         \"User Name\": \"Manish Kumar\",\n",
    "          \"Key\":\"jhjhfjdhajsdkfhudakfhuiehfjhdasf\"\n",
    "             }"
   ]
  },
  {
   "cell_type": "code",
   "execution_count": 8,
   "id": "lasting-analyst",
   "metadata": {},
   "outputs": [],
   "source": [
    "with open(\"config.json\",'r+') as file:\n",
    "    data = json.load(file)\n",
    "    data[\"config\"].append(config)\n",
    "    json.dump(data, file, indent=2)"
   ]
  },
  {
   "cell_type": "code",
   "execution_count": 11,
   "id": "after-ceramic",
   "metadata": {},
   "outputs": [
    {
     "name": "stdout",
     "output_type": "stream",
     "text": [
      "{'config': [{'User id': 21254, 'User Name': 'Manish Kumar', 'Key': 'jhjhfjdhajsdkfhudakfhuiehfjhdasf'}]}\n"
     ]
    }
   ],
   "source": [
    "with open(\"config.json\", \"r\") as file:\n",
    "    data = json.load(file)\n",
    "    print(data)"
   ]
  },
  {
   "cell_type": "code",
   "execution_count": 12,
   "id": "international-black",
   "metadata": {},
   "outputs": [
    {
     "data": {
      "text/plain": [
       "{'config': [{'User id': 21254,\n",
       "   'User Name': 'Manish Kumar',\n",
       "   'Key': 'jhjhfjdhajsdkfhudakfhuiehfjhdasf'}]}"
      ]
     },
     "execution_count": 12,
     "metadata": {},
     "output_type": "execute_result"
    }
   ],
   "source": [
    "data"
   ]
  },
  {
   "cell_type": "code",
   "execution_count": 14,
   "id": "official-chamber",
   "metadata": {},
   "outputs": [],
   "source": [
    "data['config'].append(config)"
   ]
  },
  {
   "cell_type": "code",
   "execution_count": 15,
   "id": "operational-messaging",
   "metadata": {},
   "outputs": [
    {
     "data": {
      "text/plain": [
       "{'config': [{'User id': 21254,\n",
       "   'User Name': 'Manish Kumar',\n",
       "   'Key': 'jhjhfjdhajsdkfhudakfhuiehfjhdasf'},\n",
       "  {'User id': 21254,\n",
       "   'User Name': 'Manish Kumar',\n",
       "   'Key': 'jhjhfjdhajsdkfhudakfhuiehfjhdasf'}]}"
      ]
     },
     "execution_count": 15,
     "metadata": {},
     "output_type": "execute_result"
    }
   ],
   "source": [
    "data"
   ]
  },
  {
   "cell_type": "code",
   "execution_count": 16,
   "id": "enabling-clarity",
   "metadata": {},
   "outputs": [],
   "source": [
    "with open(\"config.json\",'w') as file:\n",
    "    json.dump(data, file)"
   ]
  },
  {
   "cell_type": "code",
   "execution_count": 17,
   "id": "ancient-corps",
   "metadata": {},
   "outputs": [
    {
     "data": {
      "text/plain": [
       "{'config': [{'User id': 21254,\n",
       "   'User Name': 'Manish Kumar',\n",
       "   'Key': 'jhjhfjdhajsdkfhudakfhuiehfjhdasf'},\n",
       "  {'User id': 21254,\n",
       "   'User Name': 'Manish Kumar',\n",
       "   'Key': 'jhjhfjdhajsdkfhudakfhuiehfjhdasf'}]}"
      ]
     },
     "execution_count": 17,
     "metadata": {},
     "output_type": "execute_result"
    }
   ],
   "source": [
    "data"
   ]
  },
  {
   "cell_type": "code",
   "execution_count": null,
   "id": "chubby-trout",
   "metadata": {},
   "outputs": [],
   "source": [
    "config = {\"User id\":21245,\n",
    "         \"User Name\": \"Rahul Kumar\",\n",
    "          \"Key\":\"jhjhfjdhajsdkfhudakfhuiehfjhdasf\"\n",
    "             }"
   ]
  }
 ],
 "metadata": {
  "kernelspec": {
   "display_name": "Python 3",
   "language": "python",
   "name": "python3"
  },
  "language_info": {
   "codemirror_mode": {
    "name": "ipython",
    "version": 3
   },
   "file_extension": ".py",
   "mimetype": "text/x-python",
   "name": "python",
   "nbconvert_exporter": "python",
   "pygments_lexer": "ipython3",
   "version": "3.8.3"
  }
 },
 "nbformat": 4,
 "nbformat_minor": 5
}
