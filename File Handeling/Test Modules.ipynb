{
 "cells": [
  {
   "cell_type": "code",
   "execution_count": 1,
   "id": "approved-harrison",
   "metadata": {},
   "outputs": [],
   "source": [
    "import sqlite3 as sql"
   ]
  },
  {
   "cell_type": "code",
   "execution_count": 7,
   "id": "experimental-sailing",
   "metadata": {},
   "outputs": [
    {
     "name": "stdout",
     "output_type": "stream",
     "text": [
      "('Manish', 'Kumar', 'manishkumar9782@gmail.com', '8955530880')\n",
      "('Rahul', 'Kumar', 'rahulaim9414@gmail.com', '7073509024')\n",
      "('Anil', 'Meena', 'anilmeena876@gmail.com', '8085125364')\n",
      "('Praveen', 'Kumar', 'pkbaba@gmail.com', '9431148124')\n",
      "('sagar', 'verma', 'sagarverma953@gmail.com', '9414774395')\n"
     ]
    }
   ],
   "source": [
    "connect = sql.connect('database.db')\n",
    "\n",
    "cursor = connect.cursor()\n",
    "\n",
    "cursor.execute(\"SELECT * FROM test\")\n",
    "\n",
    "for value in cursor.fetchall():\n",
    "    print(value)\n",
    "connect.close()"
   ]
  },
  {
   "cell_type": "code",
   "execution_count": 6,
   "id": "technical-baking",
   "metadata": {},
   "outputs": [],
   "source": []
  },
  {
   "cell_type": "code",
   "execution_count": 9,
   "id": "educational-finish",
   "metadata": {},
   "outputs": [
    {
     "name": "stdout",
     "output_type": "stream",
     "text": [
      "('Manish', 'Kumar', 'PG in Mechanical ')\n",
      "('Rahul', 'Kumar', 'B.Sc 2nd Year')\n",
      "('Anil', 'Kumar', 'PG in Diploma')\n"
     ]
    }
   ],
   "source": [
    "connect = sql.connect('test.db')\n",
    "\n",
    "cursor = connect.cursor()\n",
    "\n",
    "cursor.execute(\"SELECT * FROM test\")\n",
    "\n",
    "for value in cursor.fetchall():\n",
    "    print(value)\n",
    "connect.close()"
   ]
  },
  {
   "cell_type": "code",
   "execution_count": 1,
   "id": "noticed-concentrate",
   "metadata": {},
   "outputs": [],
   "source": [
    "import json\n"
   ]
  },
  {
   "cell_type": "code",
   "execution_count": 2,
   "id": "civic-winner",
   "metadata": {},
   "outputs": [],
   "source": [
    "data = {\n",
    "    \"config\":[]\n",
    "}"
   ]
  },
  {
   "cell_type": "code",
   "execution_count": 6,
   "id": "alleged-sewing",
   "metadata": {},
   "outputs": [],
   "source": [
    "with open(\"config.json\", \"w\") as file:\n",
    "    json.dump(data, file, indent = 2)"
   ]
  },
  {
   "cell_type": "code",
   "execution_count": 7,
   "id": "careful-inside",
   "metadata": {},
   "outputs": [],
   "source": [
    "config = {\"User id\":21254,\n",
    "         \"User Name\": \"Manish Kumar\",\n",
    "          \"Key\":\"jhjhfjdhajsdkfhudakfhuiehfjhdasf\"\n",
    "             }"
   ]
  },
  {
   "cell_type": "code",
   "execution_count": 8,
   "id": "engaging-chapel",
   "metadata": {},
   "outputs": [],
   "source": [
    "with open(\"config.json\",'r+') as file:\n",
    "    data = json.load(file)\n",
    "    data[\"config\"].append(config)\n",
    "    json.dump(data, file, indent=2)"
   ]
  },
  {
   "cell_type": "code",
   "execution_count": 11,
   "id": "genuine-alliance",
   "metadata": {},
   "outputs": [
    {
     "name": "stdout",
     "output_type": "stream",
     "text": [
      "{'config': [{'User id': 21254, 'User Name': 'Manish Kumar', 'Key': 'jhjhfjdhajsdkfhudakfhuiehfjhdasf'}]}\n"
     ]
    }
   ],
   "source": [
    "with open(\"config.json\", \"r\") as file:\n",
    "    data = json.load(file)\n",
    "    print(data)"
   ]
  },
  {
   "cell_type": "code",
   "execution_count": 12,
   "id": "distinct-extent",
   "metadata": {},
   "outputs": [
    {
     "data": {
      "text/plain": [
       "{'config': [{'User id': 21254,\n",
       "   'User Name': 'Manish Kumar',\n",
       "   'Key': 'jhjhfjdhajsdkfhudakfhuiehfjhdasf'}]}"
      ]
     },
     "execution_count": 12,
     "metadata": {},
     "output_type": "execute_result"
    }
   ],
   "source": [
    "data"
   ]
  },
  {
   "cell_type": "code",
   "execution_count": 14,
   "id": "speaking-surfing",
   "metadata": {},
   "outputs": [],
   "source": [
    "data['config'].append(config)"
   ]
  },
  {
   "cell_type": "code",
   "execution_count": 15,
   "id": "hired-poultry",
   "metadata": {},
   "outputs": [
    {
     "data": {
      "text/plain": [
       "{'config': [{'User id': 21254,\n",
       "   'User Name': 'Manish Kumar',\n",
       "   'Key': 'jhjhfjdhajsdkfhudakfhuiehfjhdasf'},\n",
       "  {'User id': 21254,\n",
       "   'User Name': 'Manish Kumar',\n",
       "   'Key': 'jhjhfjdhajsdkfhudakfhuiehfjhdasf'}]}"
      ]
     },
     "execution_count": 15,
     "metadata": {},
     "output_type": "execute_result"
    }
   ],
   "source": [
    "data"
   ]
  },
  {
   "cell_type": "code",
   "execution_count": 21,
   "id": "wired-marriage",
   "metadata": {},
   "outputs": [],
   "source": [
    "with open(\"config.json\",'w') as file:\n",
    "    json.dump(data, file)"
   ]
  },
  {
   "cell_type": "code",
   "execution_count": 17,
   "id": "precious-emerald",
   "metadata": {},
   "outputs": [
    {
     "data": {
      "text/plain": [
       "{'config': [{'User id': 21254,\n",
       "   'User Name': 'Manish Kumar',\n",
       "   'Key': 'jhjhfjdhajsdkfhudakfhuiehfjhdasf'},\n",
       "  {'User id': 21254,\n",
       "   'User Name': 'Manish Kumar',\n",
       "   'Key': 'jhjhfjdhajsdkfhudakfhuiehfjhdasf'}]}"
      ]
     },
     "execution_count": 17,
     "metadata": {},
     "output_type": "execute_result"
    }
   ],
   "source": [
    "data"
   ]
  },
  {
   "cell_type": "code",
   "execution_count": 18,
   "id": "awful-eclipse",
   "metadata": {},
   "outputs": [],
   "source": [
    "config = {\"User id\":21245,\n",
    "         \"User Name\": \"Rahul Kumar\",\n",
    "          \"Key\":\"jhjhfjdhajsdkfhudakfhuiehfjhdasf\"\n",
    "             }"
   ]
  },
  {
   "cell_type": "code",
   "execution_count": 19,
   "id": "cordless-muslim",
   "metadata": {},
   "outputs": [],
   "source": [
    "data['config'].append(config)"
   ]
  },
  {
   "cell_type": "code",
   "execution_count": 20,
   "id": "becoming-corps",
   "metadata": {},
   "outputs": [
    {
     "data": {
      "text/plain": [
       "{'config': [{'User id': 21254,\n",
       "   'User Name': 'Manish Kumar',\n",
       "   'Key': 'jhjhfjdhajsdkfhudakfhuiehfjhdasf'},\n",
       "  {'User id': 21254,\n",
       "   'User Name': 'Manish Kumar',\n",
       "   'Key': 'jhjhfjdhajsdkfhudakfhuiehfjhdasf'},\n",
       "  {'User id': 21245,\n",
       "   'User Name': 'Rahul Kumar',\n",
       "   'Key': 'jhjhfjdhajsdkfhudakfhuiehfjhdasf'}]}"
      ]
     },
     "execution_count": 20,
     "metadata": {},
     "output_type": "execute_result"
    }
   ],
   "source": [
    "data"
   ]
  },
  {
   "cell_type": "code",
   "execution_count": 25,
   "id": "alike-fashion",
   "metadata": {},
   "outputs": [],
   "source": [
    "import json\n",
    "\n",
    "with open(\"config.json\",'r') as file:\n",
    "    Data = json.load(file)"
   ]
  },
  {
   "cell_type": "code",
   "execution_count": 23,
   "id": "individual-stress",
   "metadata": {},
   "outputs": [
    {
     "data": {
      "text/plain": [
       "{'User Config': {'Manish Kumar2': {'User id': 34677,\n",
       "   'User Name': 'Manish Kumar2',\n",
       "   'Key': 'd7c9e9d6d54c4525f70f2037f080829fefa17a722e2d148615a5768ce6d72e237ac71b47b27e1a53eec0a37f2093ab23c5c56aab12276a859461a521fc11093a',\n",
       "   'xnonce': '129a5e2c3eda41377055b3a6989cbbf9',\n",
       "   'xsalt': '4b7ed2509e7760d010325c38fb9e10fc'}}}"
      ]
     },
     "execution_count": 23,
     "metadata": {},
     "output_type": "execute_result"
    }
   ],
   "source": [
    "Data"
   ]
  },
  {
   "cell_type": "code",
   "execution_count": 26,
   "id": "exterior-deadline",
   "metadata": {},
   "outputs": [
    {
     "ename": "KeyError",
     "evalue": "'Manish Kumar2'",
     "output_type": "error",
     "traceback": [
      "\u001b[1;31m---------------------------------------------------------------------------\u001b[0m",
      "\u001b[1;31mKeyError\u001b[0m                                  Traceback (most recent call last)",
      "\u001b[1;32m<ipython-input-26-891ccd0db4ab>\u001b[0m in \u001b[0;36m<module>\u001b[1;34m\u001b[0m\n\u001b[1;32m----> 1\u001b[1;33m \u001b[0mData\u001b[0m\u001b[1;33m[\u001b[0m\u001b[1;34m\"Manish Kumar2\"\u001b[0m\u001b[1;33m]\u001b[0m\u001b[1;33m\u001b[0m\u001b[1;33m\u001b[0m\u001b[0m\n\u001b[0m",
      "\u001b[1;31mKeyError\u001b[0m: 'Manish Kumar2'"
     ]
    }
   ],
   "source": [
    "Data[\"Manish Kumar2\"]"
   ]
  },
  {
   "cell_type": "code",
   "execution_count": 29,
   "id": "religious-rubber",
   "metadata": {},
   "outputs": [
    {
     "data": {
      "text/plain": [
       "'129a5e2c3eda41377055b3a6989cbbf9'"
      ]
     },
     "execution_count": 29,
     "metadata": {},
     "output_type": "execute_result"
    }
   ],
   "source": [
    "Data['User Config'][\"Manish Kumar2\"]['xnonce']"
   ]
  },
  {
   "cell_type": "code",
   "execution_count": 44,
   "id": "dominican-young",
   "metadata": {},
   "outputs": [],
   "source": [
    "a = '129a5e2c3eda41377055b3a6989cbbf9'"
   ]
  },
  {
   "cell_type": "code",
   "execution_count": 45,
   "id": "weekly-mainstream",
   "metadata": {},
   "outputs": [
    {
     "data": {
      "text/plain": [
       "b'\\x12\\x9a^,>\\xdaA7pU\\xb3\\xa6\\x98\\x9c\\xbb\\xf9'"
      ]
     },
     "execution_count": 45,
     "metadata": {},
     "output_type": "execute_result"
    }
   ],
   "source": [
    "bytes().fromhex(a)"
   ]
  },
  {
   "cell_type": "code",
   "execution_count": 47,
   "id": "changing-bibliography",
   "metadata": {},
   "outputs": [
    {
     "data": {
      "text/plain": [
       "b'\\x12\\x9a^,>\\xdaA7pU\\xb3\\xa6\\x98\\x9c\\xbb\\xf9'"
      ]
     },
     "execution_count": 47,
     "metadata": {},
     "output_type": "execute_result"
    }
   ],
   "source": [
    "bytes().fromhex(a)"
   ]
  },
  {
   "cell_type": "code",
   "execution_count": null,
   "id": "subject-worker",
   "metadata": {},
   "outputs": [],
   "source": []
  }
 ],
 "metadata": {
  "kernelspec": {
   "display_name": "Python 3",
   "language": "python",
   "name": "python3"
  },
  "language_info": {
   "codemirror_mode": {
    "name": "ipython",
    "version": 3
   },
   "file_extension": ".py",
   "mimetype": "text/x-python",
   "name": "python",
   "nbconvert_exporter": "python",
   "pygments_lexer": "ipython3",
   "version": "3.8.3"
  }
 },
 "nbformat": 4,
 "nbformat_minor": 5
}
