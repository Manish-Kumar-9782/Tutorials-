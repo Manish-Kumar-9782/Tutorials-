{
 "cells": [
  {
   "cell_type": "markdown",
   "id": "voluntary-movement",
   "metadata": {},
   "source": [
    "# SQL DataBase\n",
    "\n",
    "SQL is structured query language, in this we store the data in a structrured format which is called the table format. In this we make key and pair values tables which helps us to manipulate the data in much more flexibale way,\n"
   ]
  },
  {
   "cell_type": "markdown",
   "id": "abroad-planning",
   "metadata": {},
   "source": [
    "### 1. Creating a database:\n",
    "To create a database in sql, first we need to import the sqlite3.\n",
    "\n",
    "```ruby\n",
    "mport sqlite3 as sql\n",
    "```\n",
    "Now we need to connect a database on which we want to work with its path on the system. To connet the database we need to use the `connect()` method to connect the database.\n",
    "\n",
    "```ruby\n",
    "sql.connect(\"database name\")\n",
    "```\n",
    "`Note:` This _connect_ function will create a database if there is no database with given name, if there is a database with a given name then it will connect to the database.\n",
    "\n",
    "\n"
   ]
  },
  {
   "cell_type": "code",
   "execution_count": 1,
   "id": "hollow-banana",
   "metadata": {},
   "outputs": [],
   "source": [
    "import sqlite3 as sql"
   ]
  },
  {
   "cell_type": "markdown",
   "id": "strategic-rates",
   "metadata": {},
   "source": [
    "Now after importing the sqlite3 we need to connect it to the database."
   ]
  },
  {
   "cell_type": "code",
   "execution_count": 2,
   "id": "caring-option",
   "metadata": {},
   "outputs": [],
   "source": [
    "connect = sql.connect('test.db')"
   ]
  },
  {
   "cell_type": "markdown",
   "id": "broadband-venue",
   "metadata": {},
   "source": [
    "Once you have connected to the database, you need to create cursor object which will do the read and writing operation on the database."
   ]
  },
  {
   "cell_type": "code",
   "execution_count": 3,
   "id": "tamil-still",
   "metadata": {},
   "outputs": [],
   "source": [
    "cursor = connect.cursor()"
   ]
  },
  {
   "cell_type": "markdown",
   "id": "complimentary-classics",
   "metadata": {},
   "source": [
    "Now after creating a cursor we need to execute a some commands, These commands are sql commands and should be written in doc string for multiline command."
   ]
  },
  {
   "cell_type": "code",
   "execution_count": 5,
   "id": "advisory-baking",
   "metadata": {},
   "outputs": [
    {
     "data": {
      "text/plain": [
       "<sqlite3.Cursor at 0x2268d152ea0>"
      ]
     },
     "execution_count": 5,
     "metadata": {},
     "output_type": "execute_result"
    }
   ],
   "source": [
    "cursor.execute(\"\"\"CREATE TABLE test (\n",
    "                    first_name text,\n",
    "                    laset_name text,\n",
    "                    address text\n",
    "                    )\"\"\")"
   ]
  },
  {
   "cell_type": "markdown",
   "id": "controversial-spell",
   "metadata": {},
   "source": [
    "To execute a sql command you should know some sql commands before using the execute command, In this execute command we have created a table and after creating a table we need to put some enteries."
   ]
  },
  {
   "cell_type": "code",
   "execution_count": 7,
   "id": "purple-glossary",
   "metadata": {},
   "outputs": [
    {
     "data": {
      "text/plain": [
       "<sqlite3.Cursor at 0x2268d152ea0>"
      ]
     },
     "execution_count": 7,
     "metadata": {},
     "output_type": "execute_result"
    }
   ],
   "source": [
    "cursor.execute(\"\"\"INSERT INTO test VALUES ('Manish','Kumar','PG in Mechanical ')\"\"\")\n",
    "cursor.execute(\"\"\"INSERT INTO test VALUES ('Rahul','Kumar','B.Sc 2nd Year')\"\"\")\n",
    "cursor.execute(\"\"\"INSERT INTO test VALUES ('Anil','Kumar','PG in Diploma')\"\"\")"
   ]
  },
  {
   "cell_type": "markdown",
   "id": "armed-cherry",
   "metadata": {},
   "source": [
    "Now after creating some enteries into the data base we need to commit the changes and save the database by using `commit()` function.\n",
    "\n",
    "`Note:` All commit will be performed on the database object _\"connect\"_ not on the _\"cursor\"_ object."
   ]
  },
  {
   "cell_type": "code",
   "execution_count": 8,
   "id": "global-recognition",
   "metadata": {},
   "outputs": [],
   "source": [
    "connect.commit()"
   ]
  },
  {
   "cell_type": "markdown",
   "id": "devoted-encyclopedia",
   "metadata": {},
   "source": [
    "After committing the changes (all changes) we need to close the database by using the _colse()_ method. "
   ]
  },
  {
   "cell_type": "code",
   "execution_count": 9,
   "id": "possible-perception",
   "metadata": {},
   "outputs": [],
   "source": [
    "connect.close()"
   ]
  },
  {
   "cell_type": "markdown",
   "id": "hairy-ferry",
   "metadata": {},
   "source": [
    "Now we have created a database, Now we will create or read a database in single  cell.\n",
    "\n",
    "---"
   ]
  },
  {
   "cell_type": "markdown",
   "id": "amber-release",
   "metadata": {},
   "source": [
    "### 2. Creating another database in memor"
   ]
  },
  {
   "cell_type": "code",
   "execution_count": 11,
   "id": "ceramic-anthropology",
   "metadata": {},
   "outputs": [],
   "source": [
    "connect = sql.connect(':memory:')\n",
    "# here we used :memory: to create a database in the memory not in the harddisk.\n",
    "\n",
    "cursor = connect.cursor()\n",
    "\n",
    "# creating a table\n",
    "cursor.execute(\"\"\"CREATE TABLE test (\n",
    "                        First_Name text,\n",
    "                        Last_Name text,\n",
    "                        email text,\n",
    "                        Phone_Number text)\"\"\")\n",
    "# This will create a table with some defined columns\n",
    "\n",
    "# adding some data\n",
    "cursor.execute(\"\"\"INSERT INTO test VALUES ('Manish','Kumar','manishkumar9782@gmail.com','8955530880')\"\"\")\n",
    "cursor.execute(\"\"\"INSERT INTO test VALUES ('Rahul','Kumar','rahulaim9414@gmail.com','7073509024')\"\"\")\n",
    "cursor.execute(\"\"\"INSERT INTO test VALUES ('Anil','Kumar','anilmeena876@gmail.com','8085125364')\"\"\")\n",
    "cursor.execute(\"\"\"INSERT INTO test VALUES ('Praveen','Kumar','pkbaba@gmail.com','9431148124')\"\"\")\n",
    "cursor.execute(\"\"\"INSERT INTO test VALUES ('sagar','verma','sagarverma953@gmail.com','9414774395')\"\"\")\n",
    "\n",
    "# Now after doing all the opration we need to commit the all changes.\n",
    "connect.commit()\n",
    "\n",
    "#after adding some values now we need to colose the database \n",
    "connect.close()"
   ]
  },
  {
   "cell_type": "markdown",
   "id": "brown-military",
   "metadata": {},
   "source": [
    "----\n",
    "### 3. Retrieving the data from the created database.\n",
    "For now, to retrieve the data from the database we will use the `SELECT` and `FROM` statement, both statements are used in the SQL. "
   ]
  },
  {
   "cell_type": "code",
   "execution_count": 20,
   "id": "homeless-death",
   "metadata": {},
   "outputs": [],
   "source": [
    "# to retrive the data we need to use the SELECT and FROM statement inside the execute command.\n",
    "\n",
    "# first connect to the database \n",
    "connect = sql.connect(\"test.db\")\n",
    "\n",
    "# now we need to create a cursor\n",
    "cursor = connect.cursor()\n",
    "\n",
    "# Now we will use cursor to execute a command or statement to retrive data\n",
    "data = cursor.execute(\"\"\"SELECT * FROM test\"\"\")\n",
    "\n",
    "# Here we used the SELECT statement to select values and by using the '*' we have selected all the values.\n",
    "# Now we used the FROM statement to select the table from the database.\n",
    "\n",
    "# now we have all the values in the data object to see that we will can use print statement."
   ]
  },
  {
   "cell_type": "code",
   "execution_count": 21,
   "id": "proved-occasion",
   "metadata": {},
   "outputs": [
    {
     "name": "stdout",
     "output_type": "stream",
     "text": [
      "<sqlite3.Cursor object at 0x000002268D949EA0>\n"
     ]
    }
   ],
   "source": [
    "# Accessing the data by using the pring statement\n",
    "print(data)"
   ]
  },
  {
   "cell_type": "markdown",
   "id": "velvet-campus",
   "metadata": {},
   "source": [
    "Since the data is a cursor object, we need to retrive the data form it. for that we can make a list or we can iterate it from in a for loop."
   ]
  },
  {
   "cell_type": "code",
   "execution_count": 22,
   "id": "disciplinary-printing",
   "metadata": {},
   "outputs": [
    {
     "name": "stdout",
     "output_type": "stream",
     "text": [
      "('Manish', 'Kumar', 'PG in Mechanical ')\n",
      "('Rahul', 'Kumar', 'B.Sc 2nd Year')\n",
      "('Anil', 'Kumar', 'PG in Diploma')\n"
     ]
    }
   ],
   "source": [
    "for values in data:\n",
    "    print(values)"
   ]
  },
  {
   "cell_type": "markdown",
   "id": "successful-bishop",
   "metadata": {},
   "source": [
    "As you can see that this data contains some values, these values are the row of the table and stored in the tuple data sturcture.\n",
    "\n",
    "Now we will add some more entries."
   ]
  },
  {
   "cell_type": "code",
   "execution_count": 35,
   "id": "novel-teach",
   "metadata": {},
   "outputs": [
    {
     "ename": "OperationalError",
     "evalue": "database is locked",
     "output_type": "error",
     "traceback": [
      "\u001b[1;31m---------------------------------------------------------------------------\u001b[0m",
      "\u001b[1;31mOperationalError\u001b[0m                          Traceback (most recent call last)",
      "\u001b[1;32m<ipython-input-35-ecc9814ccaa6>\u001b[0m in \u001b[0;36m<module>\u001b[1;34m\u001b[0m\n\u001b[0;32m      1\u001b[0m \u001b[0mcursor\u001b[0m\u001b[1;33m.\u001b[0m\u001b[0mexecute\u001b[0m\u001b[1;33m(\u001b[0m\u001b[1;34m\"\"\"INSERT INTO test VALUES ('Kunal','Singh','PG in mechanical')\"\"\"\u001b[0m\u001b[1;33m)\u001b[0m\u001b[1;33m\u001b[0m\u001b[1;33m\u001b[0m\u001b[0m\n\u001b[0;32m      2\u001b[0m \u001b[1;31m# after making some changes we need to commit it\u001b[0m\u001b[1;33m\u001b[0m\u001b[1;33m\u001b[0m\u001b[1;33m\u001b[0m\u001b[0m\n\u001b[1;32m----> 3\u001b[1;33m \u001b[0mconnect\u001b[0m\u001b[1;33m.\u001b[0m\u001b[0mcommit\u001b[0m\u001b[1;33m(\u001b[0m\u001b[1;33m)\u001b[0m\u001b[1;33m\u001b[0m\u001b[1;33m\u001b[0m\u001b[0m\n\u001b[0m\u001b[0;32m      4\u001b[0m \u001b[1;31m# after commit we need to close the database.\u001b[0m\u001b[1;33m\u001b[0m\u001b[1;33m\u001b[0m\u001b[1;33m\u001b[0m\u001b[0m\n\u001b[0;32m      5\u001b[0m \u001b[0mconnect\u001b[0m\u001b[1;33m.\u001b[0m\u001b[0mclose\u001b[0m\u001b[1;33m(\u001b[0m\u001b[1;33m)\u001b[0m\u001b[1;33m\u001b[0m\u001b[1;33m\u001b[0m\u001b[0m\n",
      "\u001b[1;31mOperationalError\u001b[0m: database is locked"
     ]
    }
   ],
   "source": [
    "cursor.execute(\"\"\"INSERT INTO test VALUES ('Kunal','Singh','PG in mechanical')\"\"\")\n",
    "# after making some changes we need to commit it\n",
    "connect.commit()\n",
    "# after commit we need to close the database.\n",
    "connect.close()"
   ]
  },
  {
   "cell_type": "code",
   "execution_count": null,
   "id": "frequent-merit",
   "metadata": {},
   "outputs": [],
   "source": [
    "# we have another method to det all the values.\n",
    "print(cursor.fetchall())\n",
    "# if this doesn't work fine then we can make our own metohod to retrieve all the values."
   ]
  },
  {
   "cell_type": "markdown",
   "id": "falling-receipt",
   "metadata": {},
   "source": [
    "#### $ Function to retrieve values from a database"
   ]
  },
  {
   "cell_type": "code",
   "execution_count": 11,
   "id": "appreciated-africa",
   "metadata": {},
   "outputs": [],
   "source": [
    "# function to retrieve all the values\n",
    "def get_data(Database, table):\n",
    "    \n",
    "    \"\"\" Since after closing the database we can't retrieve the data from the database so we need to \n",
    "        make another copy to see the data.\n",
    "        \n",
    "        This function does not retrive the original data it just returns a copy of the data.\n",
    "    \"\"\"\n",
    "    \n",
    "    \n",
    "    # conneting to the database\n",
    "    try:\n",
    "        Data = []\n",
    "        connect = sql.connect(Database)    \n",
    "        # creating a cursor object\n",
    "        cursor = connect.cursor()\n",
    "\n",
    "        # using cursor to get the values.\n",
    "        cursor.execute(f\"SELECT * FROM {table}\")\n",
    "        \n",
    "        for values in cursor.fetchall():\n",
    "            Data.append(values)\n",
    "        \n",
    "        connect.close()\n",
    "\n",
    "        return Data\n",
    "    except:\n",
    "        print(f\"Unable to connect the {Database} database,\\n It may be locked or does not exist\")"
   ]
  },
  {
   "cell_type": "markdown",
   "id": "facial-easter",
   "metadata": {},
   "source": [
    "##### $ Accessing the values form the database"
   ]
  },
  {
   "cell_type": "code",
   "execution_count": 73,
   "id": "boxed-deployment",
   "metadata": {},
   "outputs": [
    {
     "name": "stdout",
     "output_type": "stream",
     "text": [
      "('Manish', 'Kumar', 'manishkumar9782@gmail.com', '8955530880')\n",
      "('Rahul', 'Kumar', 'rahulaim9414@gmail.com', '7073509024')\n",
      "('Anil', 'Kumar', 'anilmeena876@gmail.com', '8085125364')\n",
      "('Praveen', 'Kumar', 'pkbaba@gmail.com', '9431148124')\n",
      "('sagar', 'verma', 'sagarverma953@gmail.com', '9414774395')\n"
     ]
    }
   ],
   "source": [
    "Data = get_data('test2.db','test')\n",
    "\n",
    "for values in Data:\n",
    "    print(values)"
   ]
  },
  {
   "cell_type": "markdown",
   "id": "caroline-exhaust",
   "metadata": {},
   "source": [
    "<h4 style=\"color: red\">Note 1:</h4>  Usually your SQL operations will need to use values fom python variables. You shouldn't assemble your query using Python's string operations because doing so is indecure; it makes your program vulnerable to an SQL injection attack.\n",
    "\n",
    "For Example:\n",
    "```ruby\n",
    "# We should never use this format of the string\n",
    "Fisrt_Name = 'Manish'\n",
    "cursor.execute(\"SELECT * FROM test WHERE First_Name = '%s'  \" % First_Name)\n",
    "```\n",
    "Instead, use the DB-API's parameter substitution. PUt a placeholder wherever you want to use a value, an then provide a tuple of values as the second argument to the cursor's  `execute()` method.\n",
    "* An SQL statement may use one of two kinds of placeholders: question mark (qmark style) or named placeholders (named style).\n",
    "* For the qmark style, parameters must be a sequence. \n",
    "* For the named style, it can be either a sequence or dict instance. The length of the sequence must match thenumber of placeholders, or a ProgrammingError is raised.\n",
    "* if a dict is given, it must contain keys for all named parameters. an extra items are ignored.\n",
    "\n",
    "---\n",
    "For example"
   ]
  },
  {
   "cell_type": "markdown",
   "id": "smooth-cream",
   "metadata": {},
   "source": [
    "#####  1. qmark style"
   ]
  },
  {
   "cell_type": "code",
   "execution_count": 76,
   "id": "british-heath",
   "metadata": {},
   "outputs": [
    {
     "name": "stdout",
     "output_type": "stream",
     "text": [
      "('Manish', 'Kumar', 'manishkumar9782@gmail.com', '8955530880')\n",
      "('Rahul', 'Kumar', 'rahulaim9414@gmail.com', '7073509024')\n",
      "('Anil', 'Kumar', 'anilmeena876@gmail.com', '8085125364')\n",
      "('Praveen', 'Kumar', 'pkbaba@gmail.com', '9431148124')\n",
      "('sagar', 'verma', 'sagarverma953@gmail.com', '9414774395')\n"
     ]
    }
   ],
   "source": [
    "connect = sql.connect(':memory:')\n",
    "# here we used :memory: to create a database in the memory not in the harddisk.\n",
    "\n",
    "cursor = connect.cursor()\n",
    "\n",
    "# creating a table\n",
    "cursor.execute(\"\"\"CREATE TABLE test (\n",
    "                        First_Name text,\n",
    "                        Last_Name text,\n",
    "                        email text,\n",
    "                        Phone_Number text)\"\"\")\n",
    "# This will create a table with some defined columns\n",
    "\n",
    "# adding some data using the qmark style\n",
    "# \n",
    "cursor.execute(\"INSERT INTO test VALUES (?,?,?,?)\" ,('Manish','Kumar','manishkumar9782@gmail.com','8955530880') )\n",
    "cursor.execute(\"INSERT INTO test VALUES (?,?,?,?)\" ,('Rahul','Kumar','rahulaim9414@gmail.com','7073509024') )\n",
    "cursor.execute(\"INSERT INTO test VALUES (?,?,?,?)\" ,('Anil','Kumar','anilmeena876@gmail.com','8085125364') )\n",
    "cursor.execute(\"INSERT INTO test VALUES (?,?,?,?)\" ,('Praveen','Kumar','pkbaba@gmail.com','9431148124') )\n",
    "cursor.execute(\"INSERT INTO test VALUES (?,?,?,?)\" ,('sagar','verma','sagarverma953@gmail.com','9414774395') )\n",
    "\n",
    "cursor.execute(\"SELECT * FROM test\")\n",
    "\n",
    "for values in cursor.fetchall():\n",
    "    print(values)\n",
    "\n",
    "#after adding some values now we need to colose the database \n",
    "connect.close()"
   ]
  },
  {
   "cell_type": "markdown",
   "id": "worthy-bosnia",
   "metadata": {},
   "source": [
    "Here you can see that have added some values in the database by using the qmark substitution method. Note that this is created on RAM memory not on the disk memory.\n",
    "\n",
    "---\n",
    "##### 2. qmark style with a list sequence using _executemany()_ method.\n",
    "\n",
    "With method of substitution we can insert multiple values (rows) at once."
   ]
  },
  {
   "cell_type": "code",
   "execution_count": 77,
   "id": "available-package",
   "metadata": {},
   "outputs": [
    {
     "name": "stdout",
     "output_type": "stream",
     "text": [
      "('Manish', 'Kumar', 'manishkumar9782@gmail.com', '8955530880')\n",
      "('Rahul', 'Kumar', 'rahulaim9414@gmail.com', '7073509024')\n",
      "('Anil', 'Kumar', 'anilmeena876@gmail.com', '8085125364')\n",
      "('Praveen', 'Kumar', 'pkbaba@gmail.com', '9431148124')\n",
      "('sagar', 'verma', 'sagarverma953@gmail.com', '9414774395')\n"
     ]
    }
   ],
   "source": [
    "connect = sql.connect(':memory:')\n",
    "# here we used :memory: to create a database in the memory not in the harddisk.\n",
    "\n",
    "cursor = connect.cursor()\n",
    "\n",
    "# creating a table\n",
    "cursor.execute(\"\"\"CREATE TABLE test (\n",
    "                        First_Name text,\n",
    "                        Last_Name text,\n",
    "                        email text,\n",
    "                        Phone_Number text)\"\"\")\n",
    "\n",
    "values = [ \n",
    "         ('Manish','Kumar','manishkumar9782@gmail.com','8955530880') , \n",
    "         ('Rahul','Kumar','rahulaim9414@gmail.com','7073509024'),\n",
    "         ('Anil','Kumar','anilmeena876@gmail.com','8085125364'),\n",
    "         ('Praveen','Kumar','pkbaba@gmail.com','9431148124') ,\n",
    "         ('sagar','verma','sagarverma953@gmail.com','9414774395')\n",
    "            ]\n",
    "\n",
    "# This will create a table with some defined columns\n",
    "\n",
    "# in this by using the executemany() method we can insert many vlaues at once\n",
    " \n",
    "cursor.executemany(\"INSERT INTO test VALUES (?,?,?,?)\" , values)\n",
    "\n",
    "\n",
    "cursor.execute(\"SELECT * FROM test\")\n",
    "\n",
    "for values in cursor.fetchall():\n",
    "    print(values)\n",
    "\n",
    "#after adding some values now we need to colose the database \n",
    "connect.close()"
   ]
  },
  {
   "cell_type": "markdown",
   "id": "looking-musical",
   "metadata": {},
   "source": [
    "Here also we have added may values at once by using the _executemany()_ method.\n",
    "\n",
    "Note: in qmark style we need to give the values in order, according to the table columns orders."
   ]
  },
  {
   "cell_type": "markdown",
   "id": "adjacent-superintendent",
   "metadata": {},
   "source": [
    "---\n",
    "\n",
    "##### 3. named style (dictionary format)\n",
    "\n",
    "In named style we use some named placeholder instead of using some qmark.\n",
    "\n",
    "(?, ?, ?)- - - - - - > (:name1, :name2, :name3)"
   ]
  },
  {
   "cell_type": "code",
   "execution_count": 78,
   "id": "contained-tower",
   "metadata": {},
   "outputs": [
    {
     "name": "stdout",
     "output_type": "stream",
     "text": [
      "('Manish', 'Kumar', 'manishkumar9782@gamil.com', '8955530880')\n",
      "('Rahul', 'Kumar', 'rahulaim9414@gmail.com', '7073509024')\n",
      "('Anil', 'Kumar', 'anilmeena876@gmail.com', '8085125364')\n",
      "('Praveen', 'Kumar', 'pkbaba@gmail.com', '9431148124')\n",
      "('Sagar', 'Verma', 'sagarverma953@gmail.com', '9414774395')\n"
     ]
    }
   ],
   "source": [
    "connect = sql.connect(':memory:')\n",
    "# here we used :memory: to create a database in the memory not in the harddisk.\n",
    "\n",
    "cursor = connect.cursor()\n",
    "\n",
    "# creating a table\n",
    "cursor.execute(\"\"\"CREATE TABLE test (\n",
    "                        First_Name text,\n",
    "                        Last_Name text,\n",
    "                        email text,\n",
    "                        Phone_Number text)\"\"\")\n",
    "# This will create a table with some defined columns\n",
    "\n",
    "# adding some data using the named style\n",
    "# In this we will use a named palceholder for every value\n",
    "# This named key will have values in the dictonary\n",
    "\n",
    "\n",
    "\n",
    "cursor.execute(\"INSERT INTO test VALUES (:FirstName,:LastName,:email,:Phone)\" ,{'FirstName':'Manish', 'LastName':'Kumar', 'email':'manishkumar9782@gamil.com', 'Phone':'8955530880'})\n",
    "cursor.execute(\"INSERT INTO test VALUES (:FirstName,:LastName,:email,:Phone)\" ,{'FirstName':'Rahul', 'LastName':'Kumar', 'email':'rahulaim9414@gmail.com', 'Phone':'7073509024'} )\n",
    "cursor.execute(\"INSERT INTO test VALUES (:FirstName,:LastName,:email,:Phone)\" ,{'FirstName':'Anil', 'LastName':'Kumar', 'email':'anilmeena876@gmail.com', 'Phone':'8085125364'} )\n",
    "cursor.execute(\"INSERT INTO test VALUES (:FirstName,:LastName,:email,:Phone)\" ,{'FirstName':'Praveen', 'LastName':'Kumar','email':'pkbaba@gmail.com', 'Phone':'9431148124'} )\n",
    "cursor.execute(\"INSERT INTO test VALUES (:FirstName,:LastName,:email,:Phone)\" ,{'FirstName':'Sagar', 'LastName':'Verma', 'email':'sagarverma953@gmail.com', 'Phone':'9414774395'} )\n",
    "\n",
    "\n",
    "# ('Manish','Kumar','manishkumar9782@gmail.com','8955530880') , \n",
    "# ('Rahul','Kumar','rahulaim9414@gmail.com','7073509024'),\n",
    "#('Anil','Kumar','anilmeena876@gmail.com','8085125364'),\n",
    "#('Praveen','Kumar','pkbaba@gmail.com','9431148124') ,\n",
    "#('sagar','verma','sagarverma953@gmail.com','9414774395')\n",
    "\n",
    "cursor.execute(\"SELECT * FROM test\")\n",
    "\n",
    "for values in cursor.fetchall():\n",
    "    print(values)\n",
    "\n",
    "#after adding some values now we need to colose the database \n",
    "connect.close()"
   ]
  },
  {
   "cell_type": "markdown",
   "id": "laughing-rolling",
   "metadata": {},
   "source": [
    "Here, You can see that we have used named style to access the vlaues from the database.\n",
    "\n",
    "Note: by using above three method we can bind user input values to the SQL script."
   ]
  },
  {
   "cell_type": "markdown",
   "id": "accomplished-parks",
   "metadata": {},
   "source": [
    "---\n",
    "### 4. Getting the keys or columns of the tables\n",
    "\n",
    "we can use the description attribute of the cursor object. \n",
    "* This attribute contains the column names of the last query.\n",
    "* it returns,a tuple for each column and each tuple contains 7 vlaues, in which first one contains the name of the respective column and other 6 are None.\n",
    "* This attribute will be set after the _SELECT_ statement"
   ]
  },
  {
   "cell_type": "code",
   "execution_count": 89,
   "id": "pressed-humidity",
   "metadata": {},
   "outputs": [
    {
     "name": "stdout",
     "output_type": "stream",
     "text": [
      "('Manish', 'Kumar', 'manishkumar9782@gmail.com', '8955530880')\n",
      "\n",
      "First_Name\n",
      "Last_Name\n",
      "email\n",
      "Phone_Number\n"
     ]
    }
   ],
   "source": [
    "connect = sql.connect('test2.db')\n",
    "# here we used :memory: to create a database in the memory not in the harddisk.\n",
    "\n",
    "# here\n",
    "\n",
    "cursor = connect.cursor()\n",
    "\n",
    "cursor.execute(\"SELECT * FROM test\")\n",
    "print(cursor.fetchone())\n",
    "print()\n",
    "for i in cursor.description:\n",
    "    print(i[0])\n",
    "    \n",
    "connect.close()"
   ]
  },
  {
   "cell_type": "markdown",
   "id": "wrapped-intermediate",
   "metadata": {},
   "source": [
    "We can make a function to retrieve the coulumns name of the table form a database\n",
    "\n",
    "**Function to get columns of table**"
   ]
  },
  {
   "cell_type": "code",
   "execution_count": 5,
   "id": "creative-planet",
   "metadata": {},
   "outputs": [],
   "source": [
    "# creating a function to retrieve the columns of the table\n",
    "def get_columns(Database, table):\n",
    "\n",
    "    \"\"\"\n",
    "    This method is used to retrieve a coulmns name of the table in a databse.\n",
    "    In this mehtod we will use the cursor's description attribute which contains the Name of the column last\n",
    "    accessed row.\n",
    "    \"\"\"\n",
    "    try:\n",
    "        columns = []\n",
    "        # connecting to the database\n",
    "        connect = sql.connect(Database)\n",
    "\n",
    "        # After connection we will make a cursor object to work on the file\n",
    "        cursor = connect.cursor()\n",
    "\n",
    "        # now we have cursor object, so we need to execute the select for all command.\n",
    "        cursor.execute(f\"SELECT * FROM {table}\")\n",
    "\n",
    "        # Now we will fetch a singel row in the cursor object\n",
    "        cursor.fetchone()\n",
    "\n",
    "        # Now this cursor object has a atribute 'description' which contains the Name of columns of the row.\n",
    "        for column in cursor.description:\n",
    "            columns.append(column[0])\n",
    "            # since column name is placed at the first postition  of the tuple.\n",
    "            \n",
    "        connect.close()\n",
    "\n",
    "        return columns\n",
    "\n",
    "    except:\n",
    "        print(\"\"\"\n",
    "        Unable to connect the database:\n",
    "        Possible reason:\n",
    "        1. Database doesn't exist.\n",
    "        2. Database is not in the current directory\n",
    "        3. Database is locked.\n",
    "        4. Don't have enough privilege.\"\"\")\n"
   ]
  },
  {
   "cell_type": "code",
   "execution_count": 95,
   "id": "violent-lecture",
   "metadata": {},
   "outputs": [
    {
     "name": "stdout",
     "output_type": "stream",
     "text": [
      "['First_Name', 'Last_Name', 'email', 'Phone_Number']\n"
     ]
    }
   ],
   "source": [
    "columns = get_columns(\"test2.db\",'test')\n",
    "print(columns)"
   ]
  },
  {
   "cell_type": "markdown",
   "id": "realistic-baseball",
   "metadata": {},
   "source": [
    "---\n",
    "### 5. Update value in a database\n",
    "Now will update some values in the database by using the UPDATE keyword.\n",
    "\n",
    "`Note:` Be careful when updating records in a table! Notice the WHERE clause in the UPDATE statement. The WHERE clause specifies which record(s) that should be updated. If you omit the WHERE clause, all records in the table will be updated!\n",
    "\n",
    "Here during using the UPDATE keyword:\n",
    "* UPDATE: This selecte the table which to be updated.\n",
    "* SET: This keyword is used to take focus on the coulumn on which this update is going on.\n",
    "* WHERE: This keyword select the row or the value in the selected columns. "
   ]
  },
  {
   "cell_type": "code",
   "execution_count": 6,
   "id": "acquired-touch",
   "metadata": {},
   "outputs": [
    {
     "name": "stdout",
     "output_type": "stream",
     "text": [
      "('Manish', 'Kumar', 'manishkumar9782@gmail.com', '8955530880')\n",
      "('Rahul', 'Kumar', 'rahulaim9414@gmail.com', '7073509024')\n",
      "('Anil', 'Kumar', 'anilmeena876@gmail.com', '8085125364')\n",
      "('Praveen', 'Kumar', 'pkbaba@gmail.com', '9431148124')\n",
      "('sagar', 'verma', 'sagarverma953@gmail.com', '9414774395')\n",
      "returning \n",
      "('Manish', 'Kumar', 'manishkumar9782@gmail.com', '8955530880')\n",
      "('Rahul', 'Kumar', 'rahulaim9414@gmail.com', '7073509024')\n",
      "('Anil', 'Kumar', 'anilmeena876@gmail.com', '8085125364')\n",
      "('Praveen', 'Kumar', 'pkbaba@gmail.com', '9431148124')\n",
      "('sagar', 'verma', 'sagarverma953@gmail.com', '9414774395')\n"
     ]
    }
   ],
   "source": [
    "# first of all we will get the data which is need to be updated.\n",
    "for values in get_data('database.db', 'test'):\n",
    "    print(values)"
   ]
  },
  {
   "cell_type": "markdown",
   "id": "touched-installation",
   "metadata": {},
   "source": [
    "Now we need to get the column of the database."
   ]
  },
  {
   "cell_type": "code",
   "execution_count": 7,
   "id": "hungarian-pharmaceutical",
   "metadata": {},
   "outputs": [
    {
     "name": "stdout",
     "output_type": "stream",
     "text": [
      "First_Name\n",
      "Last_Name\n",
      "email\n",
      "Phone_Number\n"
     ]
    }
   ],
   "source": [
    "for values in get_columns('database.db', 'test'):\n",
    "    print(values)"
   ]
  },
  {
   "cell_type": "markdown",
   "id": "strategic-comparative",
   "metadata": {},
   "source": [
    "Now we will change the last name of the 'Anil'."
   ]
  },
  {
   "cell_type": "code",
   "execution_count": 8,
   "id": "stone-lottery",
   "metadata": {},
   "outputs": [],
   "source": [
    "# first of all we need to connect to the database\n",
    "connect = sql.connect('database.db')\n",
    "\n",
    "cursor = connect.cursor()\n",
    "\n",
    "command = \"\"\"\n",
    "UPDATE test\n",
    "SET Last_Name = 'Meena'\n",
    "WHERE First_Name = 'Anil'\n",
    "\"\"\"\n",
    "\n",
    "cursor.execute(command)\n",
    "\n",
    "connect.commit()\n",
    "connect.close()"
   ]
  },
  {
   "cell_type": "markdown",
   "id": "naked-fitting",
   "metadata": {},
   "source": [
    "After updating the data we will check the updated database."
   ]
  },
  {
   "cell_type": "code",
   "execution_count": 9,
   "id": "reported-nepal",
   "metadata": {},
   "outputs": [
    {
     "name": "stdout",
     "output_type": "stream",
     "text": [
      "('Manish', 'Kumar', 'manishkumar9782@gmail.com', '8955530880')\n",
      "('Rahul', 'Kumar', 'rahulaim9414@gmail.com', '7073509024')\n",
      "('Anil', 'Meena', 'anilmeena876@gmail.com', '8085125364')\n",
      "('Praveen', 'Kumar', 'pkbaba@gmail.com', '9431148124')\n",
      "('sagar', 'verma', 'sagarverma953@gmail.com', '9414774395')\n"
     ]
    }
   ],
   "source": [
    "connect = sql.connect('database.db')\n",
    "\n",
    "cursor = connect.cursor()\n",
    "\n",
    "cursor.execute(\"SELECT * FROM test\")\n",
    "\n",
    "for value in cursor.fetchall():\n",
    "    print(value)\n",
    "connect.close()"
   ]
  },
  {
   "cell_type": "markdown",
   "id": "coral-cholesterol",
   "metadata": {},
   "source": [
    "Here you can see that we have updated a database. In this we have changed _last_name_ from 'Kumar' to 'Meena'.\n",
    "\n",
    "---"
   ]
  },
  {
   "cell_type": "markdown",
   "id": "sporting-dominant",
   "metadata": {},
   "source": [
    "### 6. Delete an Row or a Column\n",
    "In this we will use a `DELETE` Keyword to delete a record from a database.\n",
    "\n",
    "DELETE: This keyword is used to delete existing records in a table.\n",
    "\n",
    "`Note:` Be careful when deleting records in a table! Notice the WHERE clause in the DELETE statement. The WHERE clause specifies which record(s) should be deleted. If you omit the WHERE clause, all records in the table will be deleted!"
   ]
  },
  {
   "cell_type": "markdown",
   "id": "discrete-whole",
   "metadata": {},
   "source": [
    "##### 1. DELETE COMMAND\n",
    "To delete a record we need to use syntex:\n",
    "```ruby\n",
    "cur.execute(\"DELETE FROM test WHERE first_name = 'Anil' \")\n",
    "```\n"
   ]
  },
  {
   "cell_type": "markdown",
   "id": "endangered-width",
   "metadata": {},
   "source": [
    "Before deleting we will see the data so we can match and verify our operation."
   ]
  },
  {
   "cell_type": "code",
   "execution_count": 12,
   "id": "latin-corner",
   "metadata": {},
   "outputs": [
    {
     "data": {
      "text/plain": [
       "[('Manish', 'Kumar', 'manishkumar9782@gmail.com', '8955530880'),\n",
       " ('Rahul', 'Kumar', 'rahulaim9414@gmail.com', '7073509024'),\n",
       " ('Anil', 'Meena', 'anilmeena876@gmail.com', '8085125364'),\n",
       " ('Praveen', 'Kumar', 'pkbaba@gmail.com', '9431148124'),\n",
       " ('sagar', 'verma', 'sagarverma953@gmail.com', '9414774395')]"
      ]
     },
     "execution_count": 12,
     "metadata": {},
     "output_type": "execute_result"
    }
   ],
   "source": [
    "get_data('database.db','test')"
   ]
  },
  {
   "cell_type": "code",
   "execution_count": 15,
   "id": "broad-hunger",
   "metadata": {},
   "outputs": [
    {
     "name": "stdout",
     "output_type": "stream",
     "text": [
      "('Manish', 'Kumar', 'manishkumar9782@gmail.com', '8955530880')\n",
      "('Rahul', 'Kumar', 'rahulaim9414@gmail.com', '7073509024')\n",
      "('Praveen', 'Kumar', 'pkbaba@gmail.com', '9431148124')\n",
      "('sagar', 'verma', 'sagarverma953@gmail.com', '9414774395')\n"
     ]
    }
   ],
   "source": [
    "# in this we will delete a record from the database.\n",
    "connect = sql.connect('database.db')\n",
    "\n",
    "cursor = connect.cursor()\n",
    "\n",
    "# Now we will use the DELETE command\n",
    "cursor.execute(\"DELETE FROM test WHERE First_Name = 'Anil' \")\n",
    "\n",
    "# After deleting the records we will see the database\n",
    "cursor.execute(\"SELECT * FROM test\")\n",
    "\n",
    "for value in cursor.fetchall():\n",
    "    print(value)\n",
    "    \n",
    "# to make the changes in the database we need to make a commit.    \n",
    "connect.commit()\n",
    "\n",
    "# after all of the operation we should always close the database.    \n",
    "connect.close()"
   ]
  },
  {
   "cell_type": "markdown",
   "id": "viral-beginning",
   "metadata": {},
   "source": [
    "Now here you can see that we have removed a "
   ]
  },
  {
   "cell_type": "markdown",
   "id": "israeli-fifty",
   "metadata": {},
   "source": [
    "##### 2. DROP COLUMN COMMAND\n",
    "\n",
    "`Note:` Sqlite3 does't supprt the ALTER AND DROP keyword, in sqlite we can't drop the columns for that we need to create another table or rewirte a table."
   ]
  },
  {
   "cell_type": "markdown",
   "id": "czech-entry",
   "metadata": {},
   "source": [
    "### 7. Insert a record in a database\n",
    "\n",
    "To insert a record in a database we need to use INSERT command, we have already used this command when we have created a database. Here again we will use this command."
   ]
  },
  {
   "cell_type": "code",
   "execution_count": 16,
   "id": "numerous-atlas",
   "metadata": {},
   "outputs": [
    {
     "data": {
      "text/plain": [
       "[('Manish', 'Kumar', 'manishkumar9782@gmail.com', '8955530880'),\n",
       " ('Rahul', 'Kumar', 'rahulaim9414@gmail.com', '7073509024'),\n",
       " ('Praveen', 'Kumar', 'pkbaba@gmail.com', '9431148124'),\n",
       " ('sagar', 'verma', 'sagarverma953@gmail.com', '9414774395')]"
      ]
     },
     "execution_count": 16,
     "metadata": {},
     "output_type": "execute_result"
    }
   ],
   "source": [
    "get_data('database.db','test')"
   ]
  },
  {
   "cell_type": "code",
   "execution_count": 18,
   "id": "atmospheric-international",
   "metadata": {},
   "outputs": [
    {
     "name": "stdout",
     "output_type": "stream",
     "text": [
      "('Manish', 'Kumar', 'manishkumar9782@gmail.com', '8955530880')\n",
      "('Rahul', 'Kumar', 'rahulaim9414@gmail.com', '7073509024')\n",
      "('Praveen', 'Kumar', 'pkbaba@gmail.com', '9431148124')\n",
      "('sagar', 'verma', 'sagarverma953@gmail.com', '9414774395')\n",
      "('Anil', 'Kumar', 'anilmeena876@gmail.com', '8085125364')\n",
      "('Anil', 'Meena', 'anilmeena876@gmail.com', '8085125364')\n"
     ]
    }
   ],
   "source": [
    "# in this we will Insert a record into the \n",
    "connect = sql.connect('database.db')\n",
    "\n",
    "cursor = connect.cursor()\n",
    "\n",
    "# Now we will use the DELETE command\n",
    "cursor.execute(\"INSERT INTO test VALUES (:FirstName,:LastName,:email,:Phone)\" ,\n",
    "               {'FirstName':'Anil', 'LastName':'Meena', 'email':'anilmeena876@gmail.com', 'Phone':'8085125364'} )\n",
    "\n",
    "# After deleting the records we will see the database\n",
    "cursor.execute(\"SELECT * FROM test\")\n",
    "\n",
    "for value in cursor.fetchall():\n",
    "    print(value)\n",
    "\n",
    "# to make the changes in the database we need to make a commit.    \n",
    "connect.commit()\n",
    "\n",
    "# after all of the operation we should always close the database.    \n",
    "connect.close()"
   ]
  },
  {
   "cell_type": "markdown",
   "id": "narrative-insulin",
   "metadata": {},
   "source": [
    "---\n",
    "### 8. Checking a table exist in a database\n",
    "\n",
    "To check the table exist in a database in Sqlite3 we need to use the _sqlite_master_  scope in which we can found the all available tables."
   ]
  },
  {
   "cell_type": "code",
   "execution_count": 19,
   "id": "adverse-buying",
   "metadata": {},
   "outputs": [
    {
     "name": "stdout",
     "output_type": "stream",
     "text": [
      "('test',)\n"
     ]
    }
   ],
   "source": [
    "# first connect to the databse\n",
    "\n",
    "connect  = sql.connect('database.db')\n",
    "\n",
    "# after connecting we have a query statement like this\n",
    "table_name = 'test'\n",
    "query = f\"SELECT name FROM sqlite_master WHERE type = 'table' and name = 'test';\"\n",
    "\n",
    "\n",
    "\n",
    "# this query execution will not excuted on the cursor, it will be executed on the connect.\n",
    "cursor = connect.execute(query)\n",
    "\n",
    "print(cursor.fetchone())\n",
    "\n",
    "connect.close()"
   ]
  },
  {
   "cell_type": "markdown",
   "id": "forbidden-surrey",
   "metadata": {},
   "source": [
    "### 9. Gel a list of tables in a database"
   ]
  },
  {
   "cell_type": "code",
   "execution_count": 18,
   "id": "reasonable-sculpture",
   "metadata": {},
   "outputs": [
    {
     "name": "stdout",
     "output_type": "stream",
     "text": [
      "[('test',), ('test2',)]\n"
     ]
    }
   ],
   "source": [
    "# first connect to the databse\n",
    "\n",
    "connect  = sql.connect('database.db')\n",
    "\n",
    "# after connecting we have a query statement like this\n",
    "\n",
    "query2 = \"SELECT name FROM sqlite_master WHERE type = 'table';\"\n",
    "\n",
    "# this query execution will not excuted on the cursor, it will be executed on the connect.\n",
    "cursor = connect.execute(query2)\n",
    "\n",
    "print(cursor.fetchall())\n",
    "\n",
    "connect.close()"
   ]
  },
  {
   "cell_type": "markdown",
   "id": "working-incidence",
   "metadata": {},
   "source": [
    "### 10. Add a table if it does not exist\n",
    "\n",
    "There are many situation at which we need to check that the table is exist or not, in this commond if table exist then there will be no change will be made in the table, but if the table does not exist then it will create a tabel.\n",
    "```ruby\n",
    "Syntex:\n",
    "    statement = \"CREATE TABLE IF NOT EXISTS table_name (column1 text , coulumn2 text, coulumn3 text);\"\n",
    "```"
   ]
  },
  {
   "cell_type": "code",
   "execution_count": 21,
   "id": "interim-journey",
   "metadata": {},
   "outputs": [],
   "source": [
    "# first of all we need to connect the database\n",
    "# in this we will connect to the test.db database\n",
    "\n",
    "# we will create a table with name 'moni' with three column if it does not exitst then it will create a new table\n",
    "connect = sql.connect('test.db')\n",
    "\n",
    "# making cursor\n",
    "cursor = connect.cursor()\n",
    "\n",
    "cursor.execute(\"CREATE TABLE IF NOT EXISTS moni (column1 text , coulumn2 text, coulumn3 text);\")\n",
    "\n",
    "connect.commit()\n",
    "connect.close()"
   ]
  },
  {
   "cell_type": "markdown",
   "id": "extensive-buffer",
   "metadata": {},
   "source": [
    "Now we will look into database and check that test.db contains any table with name moni and also we will check its columns.\n",
    "\n",
    "**checking table and its columns**"
   ]
  },
  {
   "cell_type": "code",
   "execution_count": 26,
   "id": "oriental-shakespeare",
   "metadata": {},
   "outputs": [
    {
     "name": "stdout",
     "output_type": "stream",
     "text": [
      "table moni exits\n",
      "['column1', 'coulumn2', 'coulumn3']\n"
     ]
    }
   ],
   "source": [
    "# first connect to the databse\n",
    "\n",
    "connect  = sql.connect('test.db')\n",
    "\n",
    "columns = []\n",
    "# after connecting we have a query statement like this\n",
    "\n",
    "# Since in previous table we have created a table named as 'moni', So we need to check for moni\n",
    "table_name = 'moni'\n",
    "query = f\"SELECT name FROM sqlite_master WHERE type = 'table' and name = '{table_name}';\"\n",
    "\n",
    "# this query execution will not excuted on the cursor, it will be executed on the connect.\n",
    "Tables = connect.execute(query)\n",
    "\n",
    "table = Tables.fetchone()\n",
    "\n",
    "if table[0] != None:\n",
    "    print(f\"table {table[0]} exits\")\n",
    "    \n",
    "    cursor = connect.cursor()\n",
    "\n",
    "    cursor.execute(f\"SELECT * FROM {table[0]}\")\n",
    "    \n",
    "    cursor.fetchone()\n",
    "    \n",
    "    for values in cursor.description:\n",
    "        columns.append(values[0])\n",
    "print(columns)\n",
    "\n",
    "connect.close()"
   ]
  },
  {
   "cell_type": "markdown",
   "id": "welsh-mayor",
   "metadata": {},
   "source": [
    "Now you can see that our database have a table with three columns. now if create again the same table with different coulumns.\n",
    "\n",
    "***Recreating a table***"
   ]
  },
  {
   "cell_type": "code",
   "execution_count": 27,
   "id": "cutting-american",
   "metadata": {},
   "outputs": [],
   "source": [
    "# first of all we need to connect the database\n",
    "# in this we will connect to the test.db database\n",
    "\n",
    "# we will create a table with name 'moni' with three column if it does not exitst then it will create a new table\n",
    "connect = sql.connect('test.db')\n",
    "\n",
    "# making cursor\n",
    "cursor = connect.cursor()\n",
    "\n",
    "cursor.execute(\"CREATE TABLE IF NOT EXISTS moni (first_name text , last_name text, Address text);\")\n",
    "\n",
    "connect.commit()\n",
    "connect.close()"
   ]
  },
  {
   "cell_type": "markdown",
   "id": "continuing-gabriel",
   "metadata": {},
   "source": [
    "***Checking again of table and its colulmn***"
   ]
  },
  {
   "cell_type": "code",
   "execution_count": 28,
   "id": "changing-captain",
   "metadata": {},
   "outputs": [
    {
     "name": "stdout",
     "output_type": "stream",
     "text": [
      "table moni exits\n",
      "['column1', 'coulumn2', 'coulumn3']\n"
     ]
    }
   ],
   "source": [
    "# first connect to the databse\n",
    "\n",
    "connect  = sql.connect('test.db')\n",
    "\n",
    "columns = []\n",
    "# after connecting we have a query statement like this\n",
    "\n",
    "# Since in previous table we have created a table named as 'moni', So we need to check for moni\n",
    "table_name = 'moni'\n",
    "query = f\"SELECT name FROM sqlite_master WHERE type = 'table' and name = '{table_name}';\"\n",
    "\n",
    "# this query execution will not excuted on the cursor, it will be executed on the connect.\n",
    "Tables = connect.execute(query)\n",
    "\n",
    "table = Tables.fetchone()\n",
    "\n",
    "if table[0] != None:\n",
    "    print(f\"table {table[0]} exits\")\n",
    "    \n",
    "    cursor = connect.cursor()\n",
    "\n",
    "    cursor.execute(f\"SELECT * FROM {table[0]}\")\n",
    "    \n",
    "    cursor.fetchone()\n",
    "    \n",
    "    for values in cursor.description:\n",
    "        columns.append(values[0])\n",
    "print(columns)\n",
    "\n",
    "connect.close()"
   ]
  },
  {
   "cell_type": "markdown",
   "id": "centered-expression",
   "metadata": {},
   "source": [
    "Now you can see that, Since we already had a table with same name so it doesn't create a new table."
   ]
  },
  {
   "cell_type": "code",
   "execution_count": 31,
   "id": "promising-pendant",
   "metadata": {},
   "outputs": [
    {
     "name": "stdout",
     "output_type": "stream",
     "text": [
      "('Manish', 'Kumar', 'manishkumar9782@gmail.com', '8955530880')\n"
     ]
    }
   ],
   "source": [
    "connect = sql.connect('database.db')\n",
    "\n",
    "cursor =  connect.cursor()\n",
    "\n",
    "cursor.execute(\"SELECT * FROM test WHERE First_Name='Manish'\")\n",
    "\n",
    "print(cursor.fetchone())\n",
    "\n",
    "connect.close()"
   ]
  },
  {
   "cell_type": "code",
   "execution_count": null,
   "id": "starting-authority",
   "metadata": {},
   "outputs": [],
   "source": []
  }
 ],
 "metadata": {
  "kernelspec": {
   "display_name": "Python 3",
   "language": "python",
   "name": "python3"
  },
  "language_info": {
   "codemirror_mode": {
    "name": "ipython",
    "version": 3
   },
   "file_extension": ".py",
   "mimetype": "text/x-python",
   "name": "python",
   "nbconvert_exporter": "python",
   "pygments_lexer": "ipython3",
   "version": "3.8.3"
  }
 },
 "nbformat": 4,
 "nbformat_minor": 5
}
