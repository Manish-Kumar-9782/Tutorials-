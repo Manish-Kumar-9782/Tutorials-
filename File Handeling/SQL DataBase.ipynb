{
 "cells": [
  {
   "cell_type": "markdown",
   "id": "applied-spokesman",
   "metadata": {},
   "source": [
    "# SQL DataBase\n",
    "\n",
    "SQL is structured query language, in this we store the data in a structrured format which is called the table format. In this we make key and pair values tables which helps us to manipulate the data in much more flexibale way,\n"
   ]
  },
  {
   "cell_type": "markdown",
   "id": "brave-dollar",
   "metadata": {},
   "source": [
    "### 1. Creating a database:\n",
    "To create a database in sql, first we need to import the sqlite3.\n",
    "\n",
    "```ruby\n",
    "mport sqlite3 as sql\n",
    "```\n",
    "Now we need to connect a database on which we want to work with its path on the system. To connet the database we need to use the `connect()` method to connect the database.\n",
    "\n",
    "```ruby\n",
    "sql.connect(\"database name\")\n",
    "```\n",
    "`Note:` This _connect_ function will create a database if there is no database with given name, if there is a database with a given name then it will connect to the database.\n",
    "\n",
    "\n"
   ]
  },
  {
   "cell_type": "code",
   "execution_count": 1,
   "id": "obvious-guatemala",
   "metadata": {},
   "outputs": [],
   "source": [
    "import sqlite3 as sql"
   ]
  },
  {
   "cell_type": "markdown",
   "id": "massive-floor",
   "metadata": {},
   "source": [
    "Now after importing the sqlite3 we need to connect it to the database."
   ]
  },
  {
   "cell_type": "code",
   "execution_count": 2,
   "id": "closing-cancellation",
   "metadata": {},
   "outputs": [],
   "source": [
    "connect = sql.connect('test.db')"
   ]
  },
  {
   "cell_type": "markdown",
   "id": "loose-thomas",
   "metadata": {},
   "source": [
    "Once you have connected to the database, you need to create cursor object which will do the read and writing operation on the database."
   ]
  },
  {
   "cell_type": "code",
   "execution_count": 3,
   "id": "metallic-confusion",
   "metadata": {},
   "outputs": [],
   "source": [
    "cursor = connect.cursor()"
   ]
  },
  {
   "cell_type": "markdown",
   "id": "approximate-scout",
   "metadata": {},
   "source": [
    "Now after creating a cursor we need to execute a some commands, These commands are sql commands and should be written in doc string for multiline command."
   ]
  },
  {
   "cell_type": "code",
   "execution_count": 5,
   "id": "tamil-bennett",
   "metadata": {},
   "outputs": [
    {
     "data": {
      "text/plain": [
       "<sqlite3.Cursor at 0x2268d152ea0>"
      ]
     },
     "execution_count": 5,
     "metadata": {},
     "output_type": "execute_result"
    }
   ],
   "source": [
    "cursor.execute(\"\"\"CREATE TABLE test (\n",
    "                    first_name text,\n",
    "                    laset_name text,\n",
    "                    address text\n",
    "                    )\"\"\")"
   ]
  },
  {
   "cell_type": "markdown",
   "id": "prerequisite-discount",
   "metadata": {},
   "source": [
    "To execute a sql command you should know some sql commands before using the execute command, In this execute command we have created a table and after creating a table we need to put some enteries."
   ]
  },
  {
   "cell_type": "code",
   "execution_count": 7,
   "id": "protective-still",
   "metadata": {},
   "outputs": [
    {
     "data": {
      "text/plain": [
       "<sqlite3.Cursor at 0x2268d152ea0>"
      ]
     },
     "execution_count": 7,
     "metadata": {},
     "output_type": "execute_result"
    }
   ],
   "source": [
    "cursor.execute(\"\"\"INSERT INTO test VALUES ('Manish','Kumar','PG in Mechanical ')\"\"\")\n",
    "cursor.execute(\"\"\"INSERT INTO test VALUES ('Rahul','Kumar','B.Sc 2nd Year')\"\"\")\n",
    "cursor.execute(\"\"\"INSERT INTO test VALUES ('Anil','Kumar','PG in Diploma')\"\"\")"
   ]
  },
  {
   "cell_type": "markdown",
   "id": "blank-sight",
   "metadata": {},
   "source": [
    "Now after creating some enteries into the data base we need to commit the changes and save the database by using `commit()` function.\n",
    "\n",
    "`Note:` All commit will be performed on the database object _\"connect\"_ not on the _\"cursor\"_ object."
   ]
  },
  {
   "cell_type": "code",
   "execution_count": 8,
   "id": "engaged-north",
   "metadata": {},
   "outputs": [],
   "source": [
    "connect.commit()"
   ]
  },
  {
   "cell_type": "markdown",
   "id": "ranging-oxide",
   "metadata": {},
   "source": [
    "After committing the changes (all changes) we need to close the database by using the _colse()_ method. "
   ]
  },
  {
   "cell_type": "code",
   "execution_count": 9,
   "id": "antique-death",
   "metadata": {},
   "outputs": [],
   "source": [
    "connect.close()"
   ]
  },
  {
   "cell_type": "code",
   "execution_count": null,
   "id": "portable-vegetable",
   "metadata": {},
   "outputs": [],
   "source": []
  }
 ],
 "metadata": {
  "kernelspec": {
   "display_name": "Python 3",
   "language": "python",
   "name": "python3"
  },
  "language_info": {
   "codemirror_mode": {
    "name": "ipython",
    "version": 3
   },
   "file_extension": ".py",
   "mimetype": "text/x-python",
   "name": "python",
   "nbconvert_exporter": "python",
   "pygments_lexer": "ipython3",
   "version": "3.8.3"
  }
 },
 "nbformat": 4,
 "nbformat_minor": 5
}
