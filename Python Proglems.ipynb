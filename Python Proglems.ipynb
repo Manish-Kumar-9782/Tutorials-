{
 "cells": [
  {
   "cell_type": "markdown",
   "id": "67a4aec9-adc8-45b8-95c6-eb45e9c8aaf9",
   "metadata": {},
   "source": [
    "# List Problems"
   ]
  },
  {
   "cell_type": "markdown",
   "id": "845e10a5-f809-4eb0-aa71-9b63cbcd8890",
   "metadata": {},
   "source": [
    "### Problem 1"
   ]
  },
  {
   "cell_type": "markdown",
   "id": "526e97a9-b081-457a-8494-fef3a8c33816",
   "metadata": {},
   "source": [
    "The record of a student (Name, Roll No.,\n",
    "Marks in five subjects and percentage of\n",
    "marks) is stored in the following list:\n",
    "\n",
    "```python\n",
    "stRecord = ['Raman','A-36',[56,98,99,72,69],\n",
    "78.8]\n",
    "```\n",
    "\n",
    "Write Python statements to retrieve the following\n",
    "information from the list stRecord.\n",
    "1. Percentage of the student\n",
    "2. Marks in the fifth subject\n",
    "3. Maximum marks of the student\n",
    "4. Roll no. of the student\n",
    "5. Change the name of the student from ‘Raman’ to ‘Raghav’"
   ]
  },
  {
   "cell_type": "code",
   "execution_count": 1,
   "id": "fcde0693-9a85-4bf3-8144-bc1f914acd16",
   "metadata": {},
   "outputs": [],
   "source": [
    "stRecord = ['Jigyasa', 'B-25', [56,98,99,72,69],78.8]"
   ]
  },
  {
   "cell_type": "code",
   "execution_count": 4,
   "id": "dbf01a86-3704-4706-a93b-a2008fdbc849",
   "metadata": {},
   "outputs": [],
   "source": [
    "stRecord[0] = \"Raman\""
   ]
  },
  {
   "cell_type": "code",
   "execution_count": 5,
   "id": "237dc8fe-026b-4f58-8dbf-841f4a8f08e6",
   "metadata": {},
   "outputs": [
    {
     "data": {
      "text/plain": [
       "['Raman', 'B-25', [56, 98, 99, 72, 69], 78.8]"
      ]
     },
     "execution_count": 5,
     "metadata": {},
     "output_type": "execute_result"
    }
   ],
   "source": [
    "stRecord"
   ]
  },
  {
   "cell_type": "code",
   "execution_count": 8,
   "id": "037bb763-57ff-4c7f-907a-e7eac0026200",
   "metadata": {},
   "outputs": [],
   "source": [
    "def studentRecord(st_record):\n",
    "    \n",
    "    print(\"Percenteage: \", st_record[3])\n",
    "    print(\"Marks In Fifth Subject: \", st_record[2][4])\n",
    "    print(\"Maximum marks of the student: \", max(st_record[2]))\n",
    "    print(\"Roll-No of Student: \", st_record[1])"
   ]
  },
  {
   "cell_type": "code",
   "execution_count": 9,
   "id": "d6ea6501-d43e-4aa1-94ae-18937a995a3e",
   "metadata": {},
   "outputs": [
    {
     "name": "stdout",
     "output_type": "stream",
     "text": [
      "Percenteage:  78.8\n",
      "Marks In Fifth Subject:  69\n",
      "Maximum marks of the student:  99\n",
      "Roll-No of Student:  B-25\n"
     ]
    }
   ],
   "source": [
    "studentRecord(stRecord)"
   ]
  },
  {
   "cell_type": "markdown",
   "id": "efe016e0-155e-471a-a300-2213c6645693",
   "metadata": {},
   "source": [
    "____"
   ]
  },
  {
   "cell_type": "markdown",
   "id": "877fe59e-3d6c-4ee9-bd97-f528e38bd06e",
   "metadata": {},
   "source": [
    "### Problem 2\n",
    "Write a program to read elements of a list.\n",
    "\n",
    "1. The program should ask for the position of\n",
    "the element to be deleted from the list. Write\n",
    "a function to delete the element at the desired\n",
    "position in the list.\n",
    "\n",
    "2. The program should ask for the value of the\n",
    "element to be deleted from the list. Write a\n",
    "function to delete the element of this value\n",
    "from the list."
   ]
  },
  {
   "cell_type": "code",
   "execution_count": 10,
   "id": "1dd1d993-54ce-41b7-ac8b-2e29d7752631",
   "metadata": {},
   "outputs": [],
   "source": [
    "# first making a list,\n",
    "mylist = [10, 20, \"hello\", \"jaipur\", \"2020\", 3.2, True]"
   ]
  },
  {
   "cell_type": "code",
   "execution_count": 22,
   "id": "277e8d0b-c45e-473d-83b6-062c88d96fd4",
   "metadata": {},
   "outputs": [],
   "source": [
    "#Now we will make a function which will take our list and index number of\n",
    "# value to be deleted.\n",
    "\n",
    "def deleteByIndex(List):\n",
    "    \n",
    "    value = input(\"Enter Index Number: \")\n",
    "    # our value is in string format now we need to convert into integer\n",
    "    value = int(value)\n",
    "    \n",
    "    List.pop(value)\n",
    "    print(\"List: \", List)"
   ]
  },
  {
   "cell_type": "code",
   "execution_count": 12,
   "id": "fdcdd6d2-0650-4b78-b5ab-5f251375a6af",
   "metadata": {},
   "outputs": [
    {
     "name": "stdin",
     "output_type": "stream",
     "text": [
      "Enter Index Number:  2\n"
     ]
    }
   ],
   "source": [
    "deleteByIndex(mylist)"
   ]
  },
  {
   "cell_type": "code",
   "execution_count": 13,
   "id": "522712f1-4628-4218-82a0-6d20e216c057",
   "metadata": {},
   "outputs": [
    {
     "data": {
      "text/plain": [
       "[10, 20, 'jaipur', '2020', 3.2, True]"
      ]
     },
     "execution_count": 13,
     "metadata": {},
     "output_type": "execute_result"
    }
   ],
   "source": [
    "mylist"
   ]
  },
  {
   "cell_type": "code",
   "execution_count": 23,
   "id": "0c61ad3e-ca39-4d26-8b0f-9fe6443f5bfb",
   "metadata": {},
   "outputs": [],
   "source": [
    "def deleteByValue(List):\n",
    "    \n",
    "    value = input(\"Enter Value To Delete: \")\n",
    "    # our value is in string format now we need to convert into integer\n",
    "    # value = int(value)\n",
    "    \n",
    "    List.remove(value)\n",
    "    print(\"List: \", List)"
   ]
  },
  {
   "cell_type": "code",
   "execution_count": 24,
   "id": "879fa23b-96ff-4a0f-bc24-07e6b9d78386",
   "metadata": {},
   "outputs": [],
   "source": [
    "mylist2 = [\"manish\", \"kushal\", \"Jigyasa\", \"ravi\", \"Kuldeep\"]"
   ]
  },
  {
   "cell_type": "code",
   "execution_count": 25,
   "id": "51bcdd0e-1670-466e-920a-be6135b7af11",
   "metadata": {},
   "outputs": [
    {
     "name": "stdin",
     "output_type": "stream",
     "text": [
      "Enter Value To Delete:  kushal\n"
     ]
    },
    {
     "name": "stdout",
     "output_type": "stream",
     "text": [
      "List:  ['manish', 'Jigyasa', 'ravi', 'Kuldeep']\n"
     ]
    }
   ],
   "source": [
    "deleteByValue(mylist2)"
   ]
  },
  {
   "cell_type": "code",
   "execution_count": 20,
   "id": "36f157fb-cd9d-4c62-892d-bf7c04880697",
   "metadata": {},
   "outputs": [
    {
     "data": {
      "text/plain": [
       "['manish', 'Jigyasa', 'ravi', 'Kuldeep']"
      ]
     },
     "execution_count": 20,
     "metadata": {},
     "output_type": "execute_result"
    }
   ],
   "source": [
    "mylist2"
   ]
  },
  {
   "cell_type": "markdown",
   "id": "8ba0a036-4006-43a1-84e2-df30d22ef4a3",
   "metadata": {},
   "source": [
    "## Problem 3\n",
    "\n",
    " What will be the output of the following code\n",
    "segment:\n",
    "```python\n",
    "myList = [1,2,3,4,5,6,7,8,9,10]\n",
    "del myList[3:]\n",
    "print(myList)\n",
    "\n",
    "myList = [1,2,3,4,5,6,7,8,9,10]\n",
    "del myList[:5]\n",
    "print(myList)\n",
    "\n",
    "\n",
    "myList = [1,2,3,4,5,6,7,8,9,10]\n",
    "del myList[::2]\n",
    "print(myList)\n",
    "```"
   ]
  },
  {
   "cell_type": "markdown",
   "id": "66045126-7640-415c-bbed-355de0f4358d",
   "metadata": {},
   "source": [
    "**1. Slicing left Portion**\n"
   ]
  },
  {
   "cell_type": "code",
   "execution_count": 1,
   "id": "e84c545f-4ada-4892-b387-5e968e6a6f64",
   "metadata": {},
   "outputs": [],
   "source": [
    "myList = [1,2,3,4,5,6,7,8,9,10]"
   ]
  },
  {
   "cell_type": "code",
   "execution_count": 3,
   "id": "1fcc5597-1f0f-4682-8501-a3331716b1a3",
   "metadata": {},
   "outputs": [
    {
     "data": {
      "text/plain": [
       "[4, 5, 6, 7, 8, 9, 10]"
      ]
     },
     "execution_count": 3,
     "metadata": {},
     "output_type": "execute_result"
    }
   ],
   "source": [
    "# Now we will give the start point only , no end point\n",
    "myList[3:]"
   ]
  },
  {
   "cell_type": "code",
   "execution_count": 4,
   "id": "2eaf980c-eff6-4072-8fcc-4ba0dde268c9",
   "metadata": {},
   "outputs": [],
   "source": [
    "# Now deleting the above selected list items\n",
    "del myList[3:]"
   ]
  },
  {
   "cell_type": "code",
   "execution_count": 5,
   "id": "5cdc8b29-f97b-4fd0-95f8-5effc0aa48df",
   "metadata": {},
   "outputs": [
    {
     "data": {
      "text/plain": [
       "[1, 2, 3]"
      ]
     },
     "execution_count": 5,
     "metadata": {},
     "output_type": "execute_result"
    }
   ],
   "source": [
    "# Now checking our List\n",
    "myList"
   ]
  },
  {
   "cell_type": "markdown",
   "id": "2c53e1f9-8b66-4b76-80ea-fcc2b6454a8a",
   "metadata": {},
   "source": [
    "____\n",
    "**2.Slicing Right Portion**"
   ]
  },
  {
   "cell_type": "code",
   "execution_count": 6,
   "id": "f75b585c-5e5d-4380-b482-bfe0a548e42f",
   "metadata": {},
   "outputs": [],
   "source": [
    "myList = [1,2,3,4,5,6,7,8,9,10]"
   ]
  },
  {
   "cell_type": "code",
   "execution_count": 7,
   "id": "799d53a8-2228-4323-9661-7798123c0f74",
   "metadata": {},
   "outputs": [
    {
     "data": {
      "text/plain": [
       "[1, 2, 3, 4, 5]"
      ]
     },
     "execution_count": 7,
     "metadata": {},
     "output_type": "execute_result"
    }
   ],
   "source": [
    "# slicing right portion from index number 5\n",
    "myList[:5]"
   ]
  },
  {
   "cell_type": "code",
   "execution_count": 8,
   "id": "62c9659b-ecbc-4fe3-974b-53a326a65377",
   "metadata": {},
   "outputs": [],
   "source": [
    "# now deleting above sliced items\n",
    "del myList[:5]"
   ]
  },
  {
   "cell_type": "code",
   "execution_count": 9,
   "id": "186e3c05-1cec-4fcb-b1f1-d550d028fbab",
   "metadata": {},
   "outputs": [
    {
     "data": {
      "text/plain": [
       "[6, 7, 8, 9, 10]"
      ]
     },
     "execution_count": 9,
     "metadata": {},
     "output_type": "execute_result"
    }
   ],
   "source": [
    "# checking our list after deleting sliced items\n",
    "myList"
   ]
  },
  {
   "cell_type": "markdown",
   "id": "8d55ace7-0f8d-4366-ba9e-9d59038e3b49",
   "metadata": {},
   "source": [
    "____\n",
    "**3. Slicing with step**"
   ]
  },
  {
   "cell_type": "code",
   "execution_count": 10,
   "id": "6874852f-4fd0-4695-9165-ead08b23c0d7",
   "metadata": {},
   "outputs": [],
   "source": [
    "myList = [1,2,3,4,5,6,7,8,9,10]"
   ]
  },
  {
   "cell_type": "code",
   "execution_count": 11,
   "id": "1fec6e78-71b3-413f-a137-757eb5fe989c",
   "metadata": {},
   "outputs": [
    {
     "data": {
      "text/plain": [
       "[1, 3, 5, 7, 9]"
      ]
     },
     "execution_count": 11,
     "metadata": {},
     "output_type": "execute_result"
    }
   ],
   "source": [
    "# Now slicing our list with step 2\n",
    "myList[::2]"
   ]
  },
  {
   "cell_type": "code",
   "execution_count": 12,
   "id": "6c041c0f-95e2-4963-9321-195ddd2d079a",
   "metadata": {},
   "outputs": [],
   "source": [
    "# deleting the sliced items from list\n",
    "del myList[::2]"
   ]
  },
  {
   "cell_type": "code",
   "execution_count": 13,
   "id": "f26d420a-0d6c-4f45-ba4e-561d38f75fce",
   "metadata": {},
   "outputs": [
    {
     "data": {
      "text/plain": [
       "[2, 4, 6, 8, 10]"
      ]
     },
     "execution_count": 13,
     "metadata": {},
     "output_type": "execute_result"
    }
   ],
   "source": [
    "# checking our list\n",
    "myList"
   ]
  },
  {
   "cell_type": "markdown",
   "id": "51e2e8d9-2a84-438e-9a40-325992552409",
   "metadata": {},
   "source": []
  }
 ],
 "metadata": {
  "kernelspec": {
   "display_name": "Python 3 (ipykernel)",
   "language": "python",
   "name": "python3"
  },
  "language_info": {
   "codemirror_mode": {
    "name": "ipython",
    "version": 3
   },
   "file_extension": ".py",
   "mimetype": "text/x-python",
   "name": "python",
   "nbconvert_exporter": "python",
   "pygments_lexer": "ipython3",
   "version": "3.10.5"
  }
 },
 "nbformat": 4,
 "nbformat_minor": 5
}
