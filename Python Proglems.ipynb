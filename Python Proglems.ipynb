{
 "cells": [
  {
   "cell_type": "markdown",
   "id": "67a4aec9-adc8-45b8-95c6-eb45e9c8aaf9",
   "metadata": {},
   "source": [
    "# List Problems"
   ]
  },
  {
   "cell_type": "markdown",
   "id": "845e10a5-f809-4eb0-aa71-9b63cbcd8890",
   "metadata": {},
   "source": [
    "### Problem 1"
   ]
  },
  {
   "cell_type": "markdown",
   "id": "526e97a9-b081-457a-8494-fef3a8c33816",
   "metadata": {},
   "source": [
    "The record of a student (Name, Roll No.,\n",
    "Marks in five subjects and percentage of\n",
    "marks) is stored in the following list:\n",
    "\n",
    "```python\n",
    "stRecord = ['Raman','A-36',[56,98,99,72,69],\n",
    "78.8]\n",
    "```\n",
    "\n",
    "Write Python statements to retrieve the following\n",
    "information from the list stRecord.\n",
    "1. Percentage of the student\n",
    "2. Marks in the fifth subject\n",
    "3. Maximum marks of the student\n",
    "4. Roll no. of the student\n",
    "5. Change the name of the student from ‘Raman’ to ‘Raghav’"
   ]
  },
  {
   "cell_type": "code",
   "execution_count": 1,
   "id": "fcde0693-9a85-4bf3-8144-bc1f914acd16",
   "metadata": {},
   "outputs": [],
   "source": [
    "stRecord = ['Jigyasa', 'B-25', [56,98,99,72,69],78.8]"
   ]
  },
  {
   "cell_type": "code",
   "execution_count": 4,
   "id": "dbf01a86-3704-4706-a93b-a2008fdbc849",
   "metadata": {},
   "outputs": [],
   "source": [
    "stRecord[0] = \"Raman\""
   ]
  },
  {
   "cell_type": "code",
   "execution_count": 5,
   "id": "237dc8fe-026b-4f58-8dbf-841f4a8f08e6",
   "metadata": {},
   "outputs": [
    {
     "data": {
      "text/plain": [
       "['Raman', 'B-25', [56, 98, 99, 72, 69], 78.8]"
      ]
     },
     "execution_count": 5,
     "metadata": {},
     "output_type": "execute_result"
    }
   ],
   "source": [
    "stRecord"
   ]
  },
  {
   "cell_type": "code",
   "execution_count": 8,
   "id": "037bb763-57ff-4c7f-907a-e7eac0026200",
   "metadata": {},
   "outputs": [],
   "source": [
    "def studentRecord(st_record):\n",
    "    \n",
    "    print(\"Percenteage: \", st_record[3])\n",
    "    print(\"Marks In Fifth Subject: \", st_record[2][4])\n",
    "    print(\"Maximum marks of the student: \", max(st_record[2]))\n",
    "    print(\"Roll-No of Student: \", st_record[1])"
   ]
  },
  {
   "cell_type": "code",
   "execution_count": 9,
   "id": "d6ea6501-d43e-4aa1-94ae-18937a995a3e",
   "metadata": {},
   "outputs": [
    {
     "name": "stdout",
     "output_type": "stream",
     "text": [
      "Percenteage:  78.8\n",
      "Marks In Fifth Subject:  69\n",
      "Maximum marks of the student:  99\n",
      "Roll-No of Student:  B-25\n"
     ]
    }
   ],
   "source": [
    "studentRecord(stRecord)"
   ]
  },
  {
   "cell_type": "markdown",
   "id": "efe016e0-155e-471a-a300-2213c6645693",
   "metadata": {},
   "source": [
    "____"
   ]
  },
  {
   "cell_type": "markdown",
   "id": "877fe59e-3d6c-4ee9-bd97-f528e38bd06e",
   "metadata": {},
   "source": [
    "### Problem 2\n",
    "Write a program to read elements of a list.\n",
    "\n",
    "1. The program should ask for the position of\n",
    "the element to be deleted from the list. Write\n",
    "a function to delete the element at the desired\n",
    "position in the list.\n",
    "\n",
    "2. The program should ask for the value of the\n",
    "element to be deleted from the list. Write a\n",
    "function to delete the element of this value\n",
    "from the list."
   ]
  },
  {
   "cell_type": "code",
   "execution_count": 10,
   "id": "1dd1d993-54ce-41b7-ac8b-2e29d7752631",
   "metadata": {},
   "outputs": [],
   "source": [
    "# first making a list,\n",
    "mylist = [10, 20, \"hello\", \"jaipur\", \"2020\", 3.2, True]"
   ]
  },
  {
   "cell_type": "code",
   "execution_count": 22,
   "id": "277e8d0b-c45e-473d-83b6-062c88d96fd4",
   "metadata": {},
   "outputs": [],
   "source": [
    "#Now we will make a function which will take our list and index number of\n",
    "# value to be deleted.\n",
    "\n",
    "def deleteByIndex(List):\n",
    "    \n",
    "    value = input(\"Enter Index Number: \")\n",
    "    # our value is in string format now we need to convert into integer\n",
    "    value = int(value)\n",
    "    \n",
    "    List.pop(value)\n",
    "    print(\"List: \", List)"
   ]
  },
  {
   "cell_type": "code",
   "execution_count": 12,
   "id": "fdcdd6d2-0650-4b78-b5ab-5f251375a6af",
   "metadata": {},
   "outputs": [
    {
     "name": "stdin",
     "output_type": "stream",
     "text": [
      "Enter Index Number:  2\n"
     ]
    }
   ],
   "source": [
    "deleteByIndex(mylist)"
   ]
  },
  {
   "cell_type": "code",
   "execution_count": 13,
   "id": "522712f1-4628-4218-82a0-6d20e216c057",
   "metadata": {},
   "outputs": [
    {
     "data": {
      "text/plain": [
       "[10, 20, 'jaipur', '2020', 3.2, True]"
      ]
     },
     "execution_count": 13,
     "metadata": {},
     "output_type": "execute_result"
    }
   ],
   "source": [
    "mylist"
   ]
  },
  {
   "cell_type": "code",
   "execution_count": 23,
   "id": "0c61ad3e-ca39-4d26-8b0f-9fe6443f5bfb",
   "metadata": {},
   "outputs": [],
   "source": [
    "def deleteByValue(List):\n",
    "    \n",
    "    value = input(\"Enter Value To Delete: \")\n",
    "    # our value is in string format now we need to convert into integer\n",
    "    # value = int(value)\n",
    "    \n",
    "    List.remove(value)\n",
    "    print(\"List: \", List)"
   ]
  },
  {
   "cell_type": "code",
   "execution_count": 24,
   "id": "879fa23b-96ff-4a0f-bc24-07e6b9d78386",
   "metadata": {},
   "outputs": [],
   "source": [
    "mylist2 = [\"manish\", \"kushal\", \"Jigyasa\", \"ravi\", \"Kuldeep\"]"
   ]
  },
  {
   "cell_type": "code",
   "execution_count": 25,
   "id": "51bcdd0e-1670-466e-920a-be6135b7af11",
   "metadata": {},
   "outputs": [
    {
     "name": "stdin",
     "output_type": "stream",
     "text": [
      "Enter Value To Delete:  kushal\n"
     ]
    },
    {
     "name": "stdout",
     "output_type": "stream",
     "text": [
      "List:  ['manish', 'Jigyasa', 'ravi', 'Kuldeep']\n"
     ]
    }
   ],
   "source": [
    "deleteByValue(mylist2)"
   ]
  },
  {
   "cell_type": "code",
   "execution_count": 20,
   "id": "36f157fb-cd9d-4c62-892d-bf7c04880697",
   "metadata": {},
   "outputs": [
    {
     "data": {
      "text/plain": [
       "['manish', 'Jigyasa', 'ravi', 'Kuldeep']"
      ]
     },
     "execution_count": 20,
     "metadata": {},
     "output_type": "execute_result"
    }
   ],
   "source": [
    "mylist2"
   ]
  },
  {
   "cell_type": "code",
   "execution_count": null,
   "id": "b2ffc3e8-c381-4eaf-be20-d64054bfedc8",
   "metadata": {},
   "outputs": [],
   "source": []
  }
 ],
 "metadata": {
  "kernelspec": {
   "display_name": "Python 3 (ipykernel)",
   "language": "python",
   "name": "python3"
  },
  "language_info": {
   "codemirror_mode": {
    "name": "ipython",
    "version": 3
   },
   "file_extension": ".py",
   "mimetype": "text/x-python",
   "name": "python",
   "nbconvert_exporter": "python",
   "pygments_lexer": "ipython3",
   "version": "3.10.5"
  }
 },
 "nbformat": 4,
 "nbformat_minor": 5
}
