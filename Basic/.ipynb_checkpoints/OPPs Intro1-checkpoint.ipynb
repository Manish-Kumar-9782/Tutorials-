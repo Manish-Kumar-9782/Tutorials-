{
 "cells": [
  {
   "cell_type": "markdown",
   "id": "73da9fe7-9bc4-46ca-965e-fbeb29e34db8",
   "metadata": {},
   "source": [
    "## OOPs in Python"
   ]
  },
  {
   "cell_type": "code",
   "execution_count": 1,
   "id": "10580205-7119-466a-b55f-39c64a1b99a3",
   "metadata": {},
   "outputs": [
    {
     "name": "stdout",
     "output_type": "stream",
     "text": [
      "Help on class object in module builtins:\n",
      "\n",
      "class object\n",
      " |  The base class of the class hierarchy.\n",
      " |  \n",
      " |  When called, it accepts no arguments and returns a new featureless\n",
      " |  instance that has no instance attributes and cannot be given any.\n",
      " |  \n",
      " |  Built-in subclasses:\n",
      " |      ArgNotFound\n",
      " |      async_generator\n",
      " |      BaseException\n",
      " |      builtin_function_or_method\n",
      " |      ... and 119 other subclasses\n",
      " |  \n",
      " |  Methods defined here:\n",
      " |  \n",
      " |  __delattr__(self, name, /)\n",
      " |      Implement delattr(self, name).\n",
      " |  \n",
      " |  __dir__(self, /)\n",
      " |      Default dir() implementation.\n",
      " |  \n",
      " |  __eq__(self, value, /)\n",
      " |      Return self==value.\n",
      " |  \n",
      " |  __format__(self, format_spec, /)\n",
      " |      Default object formatter.\n",
      " |  \n",
      " |  __ge__(self, value, /)\n",
      " |      Return self>=value.\n",
      " |  \n",
      " |  __getattribute__(self, name, /)\n",
      " |      Return getattr(self, name).\n",
      " |  \n",
      " |  __gt__(self, value, /)\n",
      " |      Return self>value.\n",
      " |  \n",
      " |  __hash__(self, /)\n",
      " |      Return hash(self).\n",
      " |  \n",
      " |  __init__(self, /, *args, **kwargs)\n",
      " |      Initialize self.  See help(type(self)) for accurate signature.\n",
      " |  \n",
      " |  __le__(self, value, /)\n",
      " |      Return self<=value.\n",
      " |  \n",
      " |  __lt__(self, value, /)\n",
      " |      Return self<value.\n",
      " |  \n",
      " |  __ne__(self, value, /)\n",
      " |      Return self!=value.\n",
      " |  \n",
      " |  __reduce__(self, /)\n",
      " |      Helper for pickle.\n",
      " |  \n",
      " |  __reduce_ex__(self, protocol, /)\n",
      " |      Helper for pickle.\n",
      " |  \n",
      " |  __repr__(self, /)\n",
      " |      Return repr(self).\n",
      " |  \n",
      " |  __setattr__(self, name, value, /)\n",
      " |      Implement setattr(self, name, value).\n",
      " |  \n",
      " |  __sizeof__(self, /)\n",
      " |      Size of object in memory, in bytes.\n",
      " |  \n",
      " |  __str__(self, /)\n",
      " |      Return str(self).\n",
      " |  \n",
      " |  ----------------------------------------------------------------------\n",
      " |  Class methods defined here:\n",
      " |  \n",
      " |  __init_subclass__(...) from builtins.type\n",
      " |      This method is called when a class is subclassed.\n",
      " |      \n",
      " |      The default implementation does nothing. It may be\n",
      " |      overridden to extend subclasses.\n",
      " |  \n",
      " |  __subclasshook__(...) from builtins.type\n",
      " |      Abstract classes can override this to customize issubclass().\n",
      " |      \n",
      " |      This is invoked early on by abc.ABCMeta.__subclasscheck__().\n",
      " |      It should return True, False or NotImplemented.  If it returns\n",
      " |      NotImplemented, the normal algorithm is used.  Otherwise, it\n",
      " |      overrides the normal algorithm (and the outcome is cached).\n",
      " |  \n",
      " |  ----------------------------------------------------------------------\n",
      " |  Static methods defined here:\n",
      " |  \n",
      " |  __new__(*args, **kwargs) from builtins.type\n",
      " |      Create and return a new object.  See help(type) for accurate signature.\n",
      " |  \n",
      " |  ----------------------------------------------------------------------\n",
      " |  Data and other attributes defined here:\n",
      " |  \n",
      " |  __class__ = <class 'type'>\n",
      " |      type(object_or_name, bases, dict)\n",
      " |      type(object) -> the object's type\n",
      " |      type(name, bases, dict) -> a new type\n",
      "\n"
     ]
    }
   ],
   "source": [
    "help(object)"
   ]
  },
  {
   "cell_type": "markdown",
   "id": "673e8d7f-249a-40ac-96f0-7c887212f475",
   "metadata": {},
   "source": [
    "### Basic Concept of the object oriented."
   ]
  },
  {
   "cell_type": "markdown",
   "id": "c3916570-9e89-47e2-a417-80873da3b5b8",
   "metadata": {},
   "source": [
    "1. object\n",
    "2. class\n",
    "3. inheritance\n",
    "4. polymorphism\n",
    "5. abstraction.\n",
    "6. encaptulation."
   ]
  },
  {
   "cell_type": "markdown",
   "id": "52271459-8588-49e8-bd22-1aa902387282",
   "metadata": {},
   "source": [
    "## Making a class of Student"
   ]
  },
  {
   "cell_type": "code",
   "execution_count": 5,
   "id": "adb8d12a-3c64-4072-85f1-f75dec5cdb7a",
   "metadata": {},
   "outputs": [],
   "source": [
    "class Student:\n",
    "    \n",
    "    def __init__(self):\n",
    "        \n",
    "        self.name = None;\n",
    "        self.std = None;\n",
    "        self.age = None;\n",
    "        "
   ]
  },
  {
   "cell_type": "code",
   "execution_count": 6,
   "id": "33fb4405-abc1-4157-b9ff-e5029f33bf2b",
   "metadata": {},
   "outputs": [
    {
     "name": "stdout",
     "output_type": "stream",
     "text": [
      "Help on class Student in module __main__:\n",
      "\n",
      "class Student(builtins.object)\n",
      " |  Methods defined here:\n",
      " |  \n",
      " |  __init__(self)\n",
      " |      Initialize self.  See help(type(self)) for accurate signature.\n",
      " |  \n",
      " |  ----------------------------------------------------------------------\n",
      " |  Data descriptors defined here:\n",
      " |  \n",
      " |  __dict__\n",
      " |      dictionary for instance variables (if defined)\n",
      " |  \n",
      " |  __weakref__\n",
      " |      list of weak references to the object (if defined)\n",
      "\n"
     ]
    }
   ],
   "source": [
    "help(Student)"
   ]
  },
  {
   "cell_type": "code",
   "execution_count": 7,
   "id": "ad3bf387-56d4-466c-90fe-7f17a838b9c1",
   "metadata": {},
   "outputs": [],
   "source": [
    "st1 = Student()"
   ]
  },
  {
   "cell_type": "code",
   "execution_count": 8,
   "id": "0515f7f5-0357-4f4d-af42-17a1e5a021ec",
   "metadata": {},
   "outputs": [
    {
     "data": {
      "text/plain": [
       "<__main__.Student at 0x20fbbad0cd0>"
      ]
     },
     "execution_count": 8,
     "metadata": {},
     "output_type": "execute_result"
    }
   ],
   "source": [
    "st1"
   ]
  },
  {
   "cell_type": "code",
   "execution_count": 9,
   "id": "646d79a4-5d83-49f3-af03-fa1e229d6447",
   "metadata": {},
   "outputs": [],
   "source": [
    "st1.name = \"Joyti\" \n",
    "st1.std = \"graduate\"\n",
    "st1.age = 31"
   ]
  },
  {
   "cell_type": "code",
   "execution_count": 12,
   "id": "939ce779-3757-4aca-8586-0666d36a8d50",
   "metadata": {},
   "outputs": [],
   "source": []
  },
  {
   "cell_type": "code",
   "execution_count": 13,
   "id": "0c5d89ef-44fb-4ffa-90d9-66fd7c1e96bd",
   "metadata": {},
   "outputs": [],
   "source": []
  },
  {
   "cell_type": "code",
   "execution_count": 14,
   "id": "d7667eb0-f3cc-42fa-8a78-f0b3b2d20c72",
   "metadata": {},
   "outputs": [
    {
     "data": {
      "text/plain": [
       "<__main__.Student at 0x20fbbad0cd0>"
      ]
     },
     "execution_count": 14,
     "metadata": {},
     "output_type": "execute_result"
    }
   ],
   "source": [
    "st1"
   ]
  },
  {
   "cell_type": "code",
   "execution_count": 15,
   "id": "79341172-4f52-47ae-8d9d-ee5c43c8d83a",
   "metadata": {},
   "outputs": [
    {
     "name": "stdout",
     "output_type": "stream",
     "text": [
      "Name:  Joyti\n",
      "Std:  graduate\n",
      "Age:  31\n"
     ]
    }
   ],
   "source": [
    "print(\"Name: \", st1.name)\n",
    "print(\"Std: \", st1.std)\n",
    "print(\"Age: \", st1.age)"
   ]
  },
  {
   "cell_type": "markdown",
   "id": "c06cdaeb-0f03-405f-82a8-5c8ff7281206",
   "metadata": {},
   "source": [
    "### adding printing method to student class"
   ]
  },
  {
   "cell_type": "code",
   "execution_count": 21,
   "id": "b616db86-f1bb-4e86-9e11-57f3040baacd",
   "metadata": {},
   "outputs": [],
   "source": [
    "# adding show_info method.\n",
    "\n",
    "class Student:\n",
    "    \n",
    "    def __init__(self):\n",
    "        \n",
    "        self.name = None;\n",
    "        self.std = None;\n",
    "        self.age = None;\n",
    "        \n",
    "        \n",
    "    def show_info(self):\n",
    "        \n",
    "        print(\"Name: \", self.name)\n",
    "        print(\"Std: \", self.std)\n",
    "        print(\"Age: \", self.age)"
   ]
  },
  {
   "cell_type": "code",
   "execution_count": 22,
   "id": "5dbad8b1-60e1-497b-8e25-ffcf58530b7c",
   "metadata": {},
   "outputs": [],
   "source": [
    "st2 = Student()"
   ]
  },
  {
   "cell_type": "code",
   "execution_count": 23,
   "id": "f6cd79bf-1087-45f1-9074-a376d8798d20",
   "metadata": {},
   "outputs": [
    {
     "name": "stdout",
     "output_type": "stream",
     "text": [
      "Name:  None\n",
      "Std:  None\n",
      "Age:  None\n"
     ]
    }
   ],
   "source": [
    "st2.show_info()"
   ]
  },
  {
   "cell_type": "code",
   "execution_count": 24,
   "id": "4ba0b42b-2a02-4c79-8588-88bec65cda8b",
   "metadata": {},
   "outputs": [],
   "source": [
    "st2.name = \"Manish Kumar\"\n",
    "st2.std = \"Graduate\"\n",
    "st2.age  = 26"
   ]
  },
  {
   "cell_type": "code",
   "execution_count": 25,
   "id": "6773eb2d-34f9-454c-8f8d-f5e978a57813",
   "metadata": {},
   "outputs": [
    {
     "name": "stdout",
     "output_type": "stream",
     "text": [
      "Name:  Manish Kumar\n",
      "Std:  Graduate\n",
      "Age:  26\n"
     ]
    }
   ],
   "source": [
    "st2.show_info()"
   ]
  },
  {
   "cell_type": "code",
   "execution_count": 26,
   "id": "96cf3a88-65b4-4526-b4d8-a8e0288951f3",
   "metadata": {},
   "outputs": [],
   "source": [
    "st1 = Student()"
   ]
  },
  {
   "cell_type": "code",
   "execution_count": 27,
   "id": "1f98daed-c5ee-4cc0-8abf-5ecdc3b572aa",
   "metadata": {},
   "outputs": [],
   "source": [
    "st1.name = \"Joyti\" \n",
    "st1.std = \"graduate\"\n",
    "st1.age = 31"
   ]
  },
  {
   "cell_type": "code",
   "execution_count": 28,
   "id": "851c831d-9f61-436a-9e0f-499a1ad6b524",
   "metadata": {},
   "outputs": [
    {
     "name": "stdout",
     "output_type": "stream",
     "text": [
      "Name:  Joyti\n",
      "Std:  graduate\n",
      "Age:  31\n"
     ]
    }
   ],
   "source": [
    "st1.show_info()"
   ]
  },
  {
   "cell_type": "code",
   "execution_count": 29,
   "id": "fbd7b0d4-223a-476e-b909-fe17873c72c7",
   "metadata": {},
   "outputs": [
    {
     "name": "stdout",
     "output_type": "stream",
     "text": [
      "Name:  Manish Kumar\n",
      "Std:  Graduate\n",
      "Age:  26\n"
     ]
    }
   ],
   "source": [
    "st2.show_info()"
   ]
  },
  {
   "cell_type": "markdown",
   "id": "8ea39fc5-d9ff-4287-afff-3aa5662b80f1",
   "metadata": {},
   "source": [
    "### passing argument in __init__ method of Student"
   ]
  },
  {
   "cell_type": "code",
   "execution_count": 41,
   "id": "c00c744c-e487-41ba-9b73-5de581455994",
   "metadata": {},
   "outputs": [],
   "source": [
    "# adding show_info method.\n",
    "\n",
    "class Student:\n",
    "    \n",
    "    def __init__(self, name=None, std=None, age=None):\n",
    "        \n",
    "        self.name = name;\n",
    "        self.std = std;\n",
    "        self.age = age;\n",
    "        \n",
    "        \n",
    "    def show_info(self):\n",
    "        \n",
    "        print(\"Name: \", self.name)\n",
    "        print(\"Std: \", self.std)\n",
    "        print(\"Age: \", self.age)\n",
    "        \n",
    "    @staticmethod\n",
    "    def show_label():\n",
    "        print(\"%-10s %-10s %-10s\"%(\"Name\", \"Std\", \"Age\"))\n",
    "        \n",
    "    def show_values(self):\n",
    "        print(\"%-10s %-10s %-10s\"%(self.name, self.std, self.age))"
   ]
  },
  {
   "cell_type": "code",
   "execution_count": 42,
   "id": "96a82f08-7343-4286-a020-9b96505ed4c8",
   "metadata": {},
   "outputs": [],
   "source": [
    "st3 = Student(\"Sagar Soni\", \"Graduate\", 25)\n",
    "st1 = Student(\"Joyti\", \"Graduate\", 31)\n",
    "st2 = Student(\"Manish\", \"UnderGraduate\", 22)"
   ]
  },
  {
   "cell_type": "code",
   "execution_count": 32,
   "id": "0edfa1a1-c406-40f0-992b-c705ea785264",
   "metadata": {},
   "outputs": [
    {
     "name": "stdout",
     "output_type": "stream",
     "text": [
      "Name:  Sagar Soni\n",
      "Std:  Graduate\n",
      "Age:  25\n"
     ]
    }
   ],
   "source": [
    "st3.show_info()"
   ]
  },
  {
   "cell_type": "code",
   "execution_count": 34,
   "id": "14ad4496-06c0-4f9c-853c-223b8242175f",
   "metadata": {},
   "outputs": [
    {
     "name": "stdout",
     "output_type": "stream",
     "text": [
      "Name:  Joyti\n",
      "Std:  graduate\n",
      "Age:  31\n"
     ]
    }
   ],
   "source": [
    "st1.show_info()"
   ]
  },
  {
   "cell_type": "code",
   "execution_count": 35,
   "id": "6a5e1a64-7b55-44ab-b020-6e1b6c54a397",
   "metadata": {},
   "outputs": [
    {
     "name": "stdout",
     "output_type": "stream",
     "text": [
      "Name:  Manish Kumar\n",
      "Std:  Graduate\n",
      "Age:  26\n"
     ]
    }
   ],
   "source": [
    "st2.show_info()"
   ]
  },
  {
   "cell_type": "code",
   "execution_count": 36,
   "id": "940ad199-c2ed-4dc4-8162-bcc684ea9138",
   "metadata": {},
   "outputs": [
    {
     "name": "stdout",
     "output_type": "stream",
     "text": [
      "Name:  Sagar Soni\n",
      "Std:  Graduate\n",
      "Age:  25\n"
     ]
    }
   ],
   "source": [
    "st3.show_info()"
   ]
  },
  {
   "cell_type": "code",
   "execution_count": 43,
   "id": "1e197b8a-2ca7-42ec-b268-47bbf5a00509",
   "metadata": {},
   "outputs": [],
   "source": [
    "students = [st1, st2, st3]"
   ]
  },
  {
   "cell_type": "code",
   "execution_count": 44,
   "id": "55759f1c-2fea-4898-af00-1c327834c093",
   "metadata": {},
   "outputs": [
    {
     "name": "stdout",
     "output_type": "stream",
     "text": [
      "Name:  Joyti\n",
      "Std:  Graduate\n",
      "Age:  31\n",
      "----------------------------------------\n",
      "\n",
      "Name:  Manish\n",
      "Std:  UnderGraduate\n",
      "Age:  22\n",
      "----------------------------------------\n",
      "\n",
      "Name:  Sagar Soni\n",
      "Std:  Graduate\n",
      "Age:  25\n",
      "----------------------------------------\n",
      "\n"
     ]
    }
   ],
   "source": [
    "for st in students:\n",
    "    st.show_info()\n",
    "    print(\"----------------------------------------\\n\")"
   ]
  },
  {
   "cell_type": "code",
   "execution_count": 45,
   "id": "ee0418a2-38bf-4293-b8cc-0ebf3616a125",
   "metadata": {},
   "outputs": [
    {
     "name": "stdout",
     "output_type": "stream",
     "text": [
      "Name       Std        Age       \n"
     ]
    }
   ],
   "source": [
    "Student.show_label()"
   ]
  },
  {
   "cell_type": "code",
   "execution_count": 46,
   "id": "187dc1ce-00d1-4238-b299-c2d1ea31f18d",
   "metadata": {},
   "outputs": [
    {
     "name": "stdout",
     "output_type": "stream",
     "text": [
      "Joyti      Graduate   31        \n",
      "Manish     UnderGraduate 22        \n",
      "Sagar Soni Graduate   25        \n"
     ]
    }
   ],
   "source": [
    "for st in students:\n",
    "    st.show_values()"
   ]
  },
  {
   "cell_type": "code",
   "execution_count": 47,
   "id": "5e85d66c-bf24-40a4-8688-f1c54c2aa778",
   "metadata": {},
   "outputs": [
    {
     "name": "stdout",
     "output_type": "stream",
     "text": [
      "Name       Std        Age       \n",
      "Joyti      Graduate   31        \n",
      "Manish     UnderGraduate 22        \n",
      "Sagar Soni Graduate   25        \n"
     ]
    }
   ],
   "source": [
    "Student.show_label()\n",
    "print(\"-\"*50)\n",
    "for st in students:\n",
    "    st.show_values()"
   ]
  },
  {
   "cell_type": "code",
   "execution_count": null,
   "id": "c68651f7-7204-4c1e-a17c-48d1f232abae",
   "metadata": {},
   "outputs": [],
   "source": []
  }
 ],
 "metadata": {
  "kernelspec": {
   "display_name": "Python 3 (ipykernel)",
   "language": "python",
   "name": "python3"
  },
  "language_info": {
   "codemirror_mode": {
    "name": "ipython",
    "version": 3
   },
   "file_extension": ".py",
   "mimetype": "text/x-python",
   "name": "python",
   "nbconvert_exporter": "python",
   "pygments_lexer": "ipython3",
   "version": "3.8.3"
  }
 },
 "nbformat": 4,
 "nbformat_minor": 5
}
