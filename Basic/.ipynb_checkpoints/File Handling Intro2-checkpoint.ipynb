{
 "cells": [
  {
   "cell_type": "markdown",
   "id": "8b637ac2-eed1-4eb5-a6ff-f511d3fc1b78",
   "metadata": {},
   "source": [
    "## File Handling"
   ]
  },
  {
   "cell_type": "code",
   "execution_count": 1,
   "id": "e2a23791-1730-4c07-a718-0d75b1549334",
   "metadata": {},
   "outputs": [
    {
     "name": "stdout",
     "output_type": "stream",
     "text": [
      "Help on built-in function open in module io:\n",
      "\n",
      "open(file, mode='r', buffering=-1, encoding=None, errors=None, newline=None, closefd=True, opener=None)\n",
      "    Open file and return a stream.  Raise OSError upon failure.\n",
      "    \n",
      "    file is either a text or byte string giving the name (and the path\n",
      "    if the file isn't in the current working directory) of the file to\n",
      "    be opened or an integer file descriptor of the file to be\n",
      "    wrapped. (If a file descriptor is given, it is closed when the\n",
      "    returned I/O object is closed, unless closefd is set to False.)\n",
      "    \n",
      "    mode is an optional string that specifies the mode in which the file\n",
      "    is opened. It defaults to 'r' which means open for reading in text\n",
      "    mode.  Other common values are 'w' for writing (truncating the file if\n",
      "    it already exists), 'x' for creating and writing to a new file, and\n",
      "    'a' for appending (which on some Unix systems, means that all writes\n",
      "    append to the end of the file regardless of the current seek position).\n",
      "    In text mode, if encoding is not specified the encoding used is platform\n",
      "    dependent: locale.getpreferredencoding(False) is called to get the\n",
      "    current locale encoding. (For reading and writing raw bytes use binary\n",
      "    mode and leave encoding unspecified.) The available modes are:\n",
      "    \n",
      "    ========= ===============================================================\n",
      "    Character Meaning\n",
      "    --------- ---------------------------------------------------------------\n",
      "    'r'       open for reading (default)\n",
      "    'w'       open for writing, truncating the file first\n",
      "    'x'       create a new file and open it for writing\n",
      "    'a'       open for writing, appending to the end of the file if it exists\n",
      "    'b'       binary mode\n",
      "    't'       text mode (default)\n",
      "    '+'       open a disk file for updating (reading and writing)\n",
      "    'U'       universal newline mode (deprecated)\n",
      "    ========= ===============================================================\n",
      "    \n",
      "    The default mode is 'rt' (open for reading text). For binary random\n",
      "    access, the mode 'w+b' opens and truncates the file to 0 bytes, while\n",
      "    'r+b' opens the file without truncation. The 'x' mode implies 'w' and\n",
      "    raises an `FileExistsError` if the file already exists.\n",
      "    \n",
      "    Python distinguishes between files opened in binary and text modes,\n",
      "    even when the underlying operating system doesn't. Files opened in\n",
      "    binary mode (appending 'b' to the mode argument) return contents as\n",
      "    bytes objects without any decoding. In text mode (the default, or when\n",
      "    't' is appended to the mode argument), the contents of the file are\n",
      "    returned as strings, the bytes having been first decoded using a\n",
      "    platform-dependent encoding or using the specified encoding if given.\n",
      "    \n",
      "    'U' mode is deprecated and will raise an exception in future versions\n",
      "    of Python.  It has no effect in Python 3.  Use newline to control\n",
      "    universal newlines mode.\n",
      "    \n",
      "    buffering is an optional integer used to set the buffering policy.\n",
      "    Pass 0 to switch buffering off (only allowed in binary mode), 1 to select\n",
      "    line buffering (only usable in text mode), and an integer > 1 to indicate\n",
      "    the size of a fixed-size chunk buffer.  When no buffering argument is\n",
      "    given, the default buffering policy works as follows:\n",
      "    \n",
      "    * Binary files are buffered in fixed-size chunks; the size of the buffer\n",
      "      is chosen using a heuristic trying to determine the underlying device's\n",
      "      \"block size\" and falling back on `io.DEFAULT_BUFFER_SIZE`.\n",
      "      On many systems, the buffer will typically be 4096 or 8192 bytes long.\n",
      "    \n",
      "    * \"Interactive\" text files (files for which isatty() returns True)\n",
      "      use line buffering.  Other text files use the policy described above\n",
      "      for binary files.\n",
      "    \n",
      "    encoding is the name of the encoding used to decode or encode the\n",
      "    file. This should only be used in text mode. The default encoding is\n",
      "    platform dependent, but any encoding supported by Python can be\n",
      "    passed.  See the codecs module for the list of supported encodings.\n",
      "    \n",
      "    errors is an optional string that specifies how encoding errors are to\n",
      "    be handled---this argument should not be used in binary mode. Pass\n",
      "    'strict' to raise a ValueError exception if there is an encoding error\n",
      "    (the default of None has the same effect), or pass 'ignore' to ignore\n",
      "    errors. (Note that ignoring encoding errors can lead to data loss.)\n",
      "    See the documentation for codecs.register or run 'help(codecs.Codec)'\n",
      "    for a list of the permitted encoding error strings.\n",
      "    \n",
      "    newline controls how universal newlines works (it only applies to text\n",
      "    mode). It can be None, '', '\\n', '\\r', and '\\r\\n'.  It works as\n",
      "    follows:\n",
      "    \n",
      "    * On input, if newline is None, universal newlines mode is\n",
      "      enabled. Lines in the input can end in '\\n', '\\r', or '\\r\\n', and\n",
      "      these are translated into '\\n' before being returned to the\n",
      "      caller. If it is '', universal newline mode is enabled, but line\n",
      "      endings are returned to the caller untranslated. If it has any of\n",
      "      the other legal values, input lines are only terminated by the given\n",
      "      string, and the line ending is returned to the caller untranslated.\n",
      "    \n",
      "    * On output, if newline is None, any '\\n' characters written are\n",
      "      translated to the system default line separator, os.linesep. If\n",
      "      newline is '' or '\\n', no translation takes place. If newline is any\n",
      "      of the other legal values, any '\\n' characters written are translated\n",
      "      to the given string.\n",
      "    \n",
      "    If closefd is False, the underlying file descriptor will be kept open\n",
      "    when the file is closed. This does not work when a file name is given\n",
      "    and must be True in that case.\n",
      "    \n",
      "    A custom opener can be used by passing a callable as *opener*. The\n",
      "    underlying file descriptor for the file object is then obtained by\n",
      "    calling *opener* with (*file*, *flags*). *opener* must return an open\n",
      "    file descriptor (passing os.open as *opener* results in functionality\n",
      "    similar to passing None).\n",
      "    \n",
      "    open() returns a file object whose type depends on the mode, and\n",
      "    through which the standard file operations such as reading and writing\n",
      "    are performed. When open() is used to open a file in a text mode ('w',\n",
      "    'r', 'wt', 'rt', etc.), it returns a TextIOWrapper. When used to open\n",
      "    a file in a binary mode, the returned class varies: in read binary\n",
      "    mode, it returns a BufferedReader; in write binary and append binary\n",
      "    modes, it returns a BufferedWriter, and in read/write mode, it returns\n",
      "    a BufferedRandom.\n",
      "    \n",
      "    It is also possible to use a string or bytearray as a file for both\n",
      "    reading and writing. For strings StringIO can be used like a file\n",
      "    opened in a text mode, and for bytes a BytesIO can be used like a file\n",
      "    opened in a binary mode.\n",
      "\n"
     ]
    }
   ],
   "source": [
    "help(open)"
   ]
  },
  {
   "cell_type": "markdown",
   "id": "1788f256-3bd4-40d4-ac17-9a975156c93c",
   "metadata": {},
   "source": [
    "### making a csv_reader by readign Life Expectancy file"
   ]
  },
  {
   "cell_type": "code",
   "execution_count": 37,
   "id": "033ad6c5-6907-4632-986f-c6f624ba1a3d",
   "metadata": {},
   "outputs": [],
   "source": [
    "csv_reader = open(\"Life Expectancy Data.csv\", 'r')"
   ]
  },
  {
   "cell_type": "code",
   "execution_count": 38,
   "id": "ea33f224-0c50-4034-8b5f-af7a4aff4912",
   "metadata": {},
   "outputs": [],
   "source": [
    "# first split all the header \n",
    "header = csv_reader.readline()"
   ]
  },
  {
   "cell_type": "code",
   "execution_count": 39,
   "id": "537e159d-421c-4849-9a5c-a9b9854efa35",
   "metadata": {},
   "outputs": [
    {
     "data": {
      "text/plain": [
       "'Country,Year,Status,Life expectancy ,Adult Mortality,infant deaths,Alcohol,percentage expenditure,Hepatitis B,Measles , BMI ,under-five deaths ,Polio,Total expenditure,Diphtheria , HIV/AIDS,GDP,Population, thinness  1-19 years, thinness 5-9 years,Income composition of resources,Schooling\\n'"
      ]
     },
     "execution_count": 39,
     "metadata": {},
     "output_type": "execute_result"
    }
   ],
   "source": [
    "header"
   ]
  },
  {
   "cell_type": "code",
   "execution_count": 40,
   "id": "aaef13d7-0b08-4cd8-8e2a-780462e8ede6",
   "metadata": {},
   "outputs": [
    {
     "data": {
      "text/plain": [
       "['Country',\n",
       " 'Year',\n",
       " 'Status',\n",
       " 'Life expectancy ',\n",
       " 'Adult Mortality',\n",
       " 'infant deaths',\n",
       " 'Alcohol',\n",
       " 'percentage expenditure',\n",
       " 'Hepatitis B',\n",
       " 'Measles ',\n",
       " ' BMI ',\n",
       " 'under-five deaths ',\n",
       " 'Polio',\n",
       " 'Total expenditure',\n",
       " 'Diphtheria ',\n",
       " ' HIV/AIDS',\n",
       " 'GDP',\n",
       " 'Population',\n",
       " ' thinness  1-19 years',\n",
       " ' thinness 5-9 years',\n",
       " 'Income composition of resources',\n",
       " 'Schooling\\n']"
      ]
     },
     "execution_count": 40,
     "metadata": {},
     "output_type": "execute_result"
    }
   ],
   "source": [
    "# since header is a string we need to split each column by comma.\n",
    "header = header.split(\",\")\n",
    "header"
   ]
  },
  {
   "cell_type": "code",
   "execution_count": 41,
   "id": "1ea84632-2eab-4267-85aa-309a719a1d9e",
   "metadata": {},
   "outputs": [
    {
     "data": {
      "text/plain": [
       "['Country',\n",
       " 'Year',\n",
       " 'Status',\n",
       " 'Life expectancy ',\n",
       " 'Adult Mortality',\n",
       " 'infant deaths']"
      ]
     },
     "execution_count": 41,
     "metadata": {},
     "output_type": "execute_result"
    }
   ],
   "source": [
    "first_six_columns = header[0:6]\n",
    "first_six_columns"
   ]
  },
  {
   "cell_type": "code",
   "execution_count": 42,
   "id": "bd1df92d-09f1-4b88-8ea8-ff301d6f2394",
   "metadata": {},
   "outputs": [],
   "source": [
    "_format = \"|{:20s}|\"*len(first_six_columns)"
   ]
  },
  {
   "cell_type": "code",
   "execution_count": 43,
   "id": "ed09a015-cbdf-4162-a489-37cb96596713",
   "metadata": {},
   "outputs": [
    {
     "data": {
      "text/plain": [
       "'|{:20s}||{:20s}||{:20s}||{:20s}||{:20s}||{:20s}|'"
      ]
     },
     "execution_count": 43,
     "metadata": {},
     "output_type": "execute_result"
    }
   ],
   "source": [
    "_format"
   ]
  },
  {
   "cell_type": "code",
   "execution_count": 44,
   "id": "8cc72848-fced-4503-862c-0ccc73bd82c8",
   "metadata": {},
   "outputs": [
    {
     "name": "stdout",
     "output_type": "stream",
     "text": [
      "|Country             ||Year                ||Status              ||Life expectancy     ||Adult Mortality     ||infant deaths       |\n"
     ]
    }
   ],
   "source": [
    "print(_format.format(*first_six_columns))"
   ]
  },
  {
   "cell_type": "code",
   "execution_count": 45,
   "id": "48dd3793-2c36-4b57-bf31-b497cff779c4",
   "metadata": {},
   "outputs": [],
   "source": [
    "line = csv_reader.readline()"
   ]
  },
  {
   "cell_type": "code",
   "execution_count": 46,
   "id": "5e911491-607e-49d9-875a-7266af2f2577",
   "metadata": {},
   "outputs": [
    {
     "data": {
      "text/plain": [
       "'Afghanistan,2015,Developing,65,263,62,0.01,71.27962362,65,1154,19.1,83,6,8.16,65,0.1,584.25921,33736494,17.2,17.3,0.479,10.1\\n'"
      ]
     },
     "execution_count": 46,
     "metadata": {},
     "output_type": "execute_result"
    }
   ],
   "source": [
    "line"
   ]
  },
  {
   "cell_type": "code",
   "execution_count": 47,
   "id": "4fd01f0b-21b8-4373-9ed3-cd1665e4529a",
   "metadata": {},
   "outputs": [
    {
     "name": "stdout",
     "output_type": "stream",
     "text": [
      "|Country             ||Year                ||Status              ||Life expectancy     ||Adult Mortality     ||infant deaths       |\n",
      "----------------------------------------------------------------------------------------------------\n",
      "|Afghanistan         ||2015                ||Developing          ||65                  ||263                 ||62                  |\n"
     ]
    }
   ],
   "source": [
    "line = line.split(\",\")\n",
    "line = line[0:6]\n"
   ]
  },
  {
   "cell_type": "code",
   "execution_count": 52,
   "id": "423dd531-bb17-4659-b420-88f1225c1864",
   "metadata": {},
   "outputs": [
    {
     "name": "stdout",
     "output_type": "stream",
     "text": [
      "|Country             ||Year                ||Status              ||Life expectancy     ||Adult Mortality     ||infant deaths       |\n",
      "------------------------------------------------------------------------------------------------------------------------------------\n",
      "|Afghanistan         ||2015                ||Developing          ||65                  ||263                 ||62                  |\n"
     ]
    }
   ],
   "source": [
    "print(_format.format(*first_six_columns))\n",
    "print(\"-\"*len(_format.format(*first_six_columns)))\n",
    "print(_format.format(*line))"
   ]
  },
  {
   "cell_type": "markdown",
   "id": "02acc609-a4b8-44ce-b7e2-af99b180aff6",
   "metadata": {},
   "source": [
    "## Making a funciton for csv reader."
   ]
  },
  {
   "cell_type": "code",
   "execution_count": 64,
   "id": "6439f12b-1ded-4ae6-8a01-a35a0470e9e9",
   "metadata": {},
   "outputs": [],
   "source": [
    "def format_line(line:str, cols=6):\n",
    "    \n",
    "    line = line.split(\",\")\n",
    "    line = line[0:cols]\n",
    "    \n",
    "    _format = \"|{:20s}|\"*len(line)\n",
    "    \n",
    "    return _format.format(*line)"
   ]
  },
  {
   "cell_type": "code",
   "execution_count": 65,
   "id": "33767a53-8838-4ed0-8446-c77b366db6c1",
   "metadata": {},
   "outputs": [],
   "source": [
    "def separator(header:str, stype=\"-\"):    \n",
    "    return \"-\"*len(header)"
   ]
  },
  {
   "cell_type": "code",
   "execution_count": 66,
   "id": "249e53cc-8db8-4d60-9ebf-9230db280a04",
   "metadata": {},
   "outputs": [],
   "source": [
    "def csv_reader(file, mode, cols=6, rows=10):\n",
    "\n",
    "    reader = open(file, mode)  # opening the file\n",
    "    \n",
    "    header = format_line(reader.readline(), cols=cols)\n",
    "    print(header)  ## printing the formated header\n",
    "    \n",
    "    print(separator(header)) ## printing the formatted separator.\n",
    "    \n",
    "    ## now we will read the rows\n",
    "    for row in range(0, rows):\n",
    "        line = format_line(reader.readline(), cols=cols)\n",
    "        print(line)\n",
    "        \n",
    "    reader.close() # closing the file after reading."
   ]
  },
  {
   "cell_type": "code",
   "execution_count": 67,
   "id": "6a665d96-ca81-4e53-bc7c-a972a8230bb4",
   "metadata": {},
   "outputs": [
    {
     "name": "stdout",
     "output_type": "stream",
     "text": [
      "|Country             ||Year                ||Status              ||Life expectancy     ||Adult Mortality     ||infant deaths       |\n",
      "------------------------------------------------------------------------------------------------------------------------------------\n",
      "|Afghanistan         ||2015                ||Developing          ||65                  ||263                 ||62                  |\n",
      "|Afghanistan         ||2014                ||Developing          ||59.9                ||271                 ||64                  |\n",
      "|Afghanistan         ||2013                ||Developing          ||59.9                ||268                 ||66                  |\n",
      "|Afghanistan         ||2012                ||Developing          ||59.5                ||272                 ||69                  |\n",
      "|Afghanistan         ||2011                ||Developing          ||59.2                ||275                 ||71                  |\n",
      "|Afghanistan         ||2010                ||Developing          ||58.8                ||279                 ||74                  |\n",
      "|Afghanistan         ||2009                ||Developing          ||58.6                ||281                 ||77                  |\n",
      "|Afghanistan         ||2008                ||Developing          ||58.1                ||287                 ||80                  |\n",
      "|Afghanistan         ||2007                ||Developing          ||57.5                ||295                 ||82                  |\n",
      "|Afghanistan         ||2006                ||Developing          ||57.3                ||295                 ||84                  |\n"
     ]
    }
   ],
   "source": [
    "csv_reader(\"Life Expectancy Data.csv\", 'r')"
   ]
  },
  {
   "cell_type": "markdown",
   "id": "c4a703d5-70b3-4c58-a68a-4eb78cc9da90",
   "metadata": {},
   "source": [
    "----\n",
    "----\n",
    "----"
   ]
  },
  {
   "cell_type": "markdown",
   "id": "3e2c7dc6-c7e8-42e8-aa34-9cb002efa269",
   "metadata": {},
   "source": [
    "### CSV Writer"
   ]
  },
  {
   "cell_type": "code",
   "execution_count": 70,
   "id": "85b92b58-12c3-4050-ab1e-b625ff9e2adf",
   "metadata": {},
   "outputs": [],
   "source": [
    "def Student_info():\n",
    "    \n",
    "    print(\"Enter Student Info in Order:\")\n",
    "    print(\"----------------------------\\n\")\n",
    "    \n",
    "    InfoList = []\n",
    "    \n",
    "    # input for first name\n",
    "    InfoList.append(input(\"Enter First Name: \"))\n",
    "    \n",
    "    # input for second Name\n",
    "    InfoList.append(input(\"Enter Secon Name: \"))\n",
    "    \n",
    "    # input for Age\n",
    "    InfoList.append(int(input(\"Enter Age: \")))\n",
    "    \n",
    "    # input for blood group\n",
    "    InfoList.append(input(\"Enter Boold Group: \"))\n",
    "    \n",
    "    return InfoList"
   ]
  },
  {
   "cell_type": "code",
   "execution_count": 71,
   "id": "a76dcb57-9c8e-4d72-b56a-63ee4d954e6f",
   "metadata": {},
   "outputs": [
    {
     "name": "stdout",
     "output_type": "stream",
     "text": [
      "Enter Student Info in Order:\n",
      "----------------------------\n",
      "\n"
     ]
    },
    {
     "name": "stdin",
     "output_type": "stream",
     "text": [
      "Enter First Name:  Manish\n",
      "Enter Secon Name:  Kumar\n",
      "Enter Age:  26\n",
      "Enter Boold Group:  O-Negative\n"
     ]
    },
    {
     "data": {
      "text/plain": [
       "['Manish', 'Kumar', 26, 'O-Negative']"
      ]
     },
     "execution_count": 71,
     "metadata": {},
     "output_type": "execute_result"
    }
   ],
   "source": [
    "Student_info()"
   ]
  },
  {
   "cell_type": "code",
   "execution_count": 93,
   "id": "4ce8dc77-800b-48ca-986a-50fe02f17847",
   "metadata": {},
   "outputs": [],
   "source": [
    "st = ['Manish', 'Kumar', 26, 'O-Negative']"
   ]
  },
  {
   "cell_type": "code",
   "execution_count": 94,
   "id": "6a661c0b-89e9-4618-9433-0382c5feb157",
   "metadata": {},
   "outputs": [
    {
     "data": {
      "text/plain": [
       "['Manish', 'Kumar', 26, 'O-Negative']"
      ]
     },
     "execution_count": 94,
     "metadata": {},
     "output_type": "execute_result"
    }
   ],
   "source": [
    "st"
   ]
  },
  {
   "cell_type": "code",
   "execution_count": 91,
   "id": "77f6b2e6-f1c9-485c-94f8-326c7341b22b",
   "metadata": {},
   "outputs": [],
   "source": [
    "st = [str(item) for item in st]"
   ]
  },
  {
   "cell_type": "code",
   "execution_count": 92,
   "id": "940c15ba-a1ac-40a7-af63-93e05bc297d4",
   "metadata": {},
   "outputs": [
    {
     "data": {
      "text/plain": [
       "['Manish', 'Kumar', '26', 'O-Negative']"
      ]
     },
     "execution_count": 92,
     "metadata": {},
     "output_type": "execute_result"
    }
   ],
   "source": [
    "st"
   ]
  },
  {
   "cell_type": "code",
   "execution_count": 89,
   "id": "7df31d6c-a1a4-4d23-98bd-00efb69617ec",
   "metadata": {},
   "outputs": [],
   "source": [
    "st2 = ['Manish', 'Kumar', '26', 'O-Negative']"
   ]
  },
  {
   "cell_type": "code",
   "execution_count": 90,
   "id": "f64cc468-02b9-478c-bb98-c4bc88eb19ff",
   "metadata": {
    "tags": []
   },
   "outputs": [
    {
     "data": {
      "text/plain": [
       "'Manish,Kumar,26,O-Negative'"
      ]
     },
     "execution_count": 90,
     "metadata": {},
     "output_type": "execute_result"
    }
   ],
   "source": [
    "\",\".join(st2)"
   ]
  },
  {
   "cell_type": "markdown",
   "id": "a33662c0-aabf-4173-9347-3c39bbd527fc",
   "metadata": {
    "tags": []
   },
   "source": [
    "## CSV_Writer to make a csv file"
   ]
  },
  {
   "cell_type": "code",
   "execution_count": 87,
   "id": "b63fa5c1-9f2b-4f9f-ada1-b64c543ab3c0",
   "metadata": {
    "tags": []
   },
   "outputs": [],
   "source": [
    "def str_join(str_iterable, joiner=\",\"):\n",
    "    \n",
    "    ## str_iterable will be a list/tuple or any iterable\n",
    "    ## joiner a single character which will be used to join the all string element.\n",
    "    result = \"\"\n",
    "    \n",
    "    for index, item in enumerate(str_iterable):\n",
    "        \n",
    "        if index != len(str_iterable)-1:  ## 3 != 3; \n",
    "            result +=str(item)+joiner\n",
    "        else:\n",
    "            result += str(item)\n",
    "    \n",
    "    return result\n",
    "    "
   ]
  },
  {
   "cell_type": "code",
   "execution_count": 88,
   "id": "dc0a0164-18b3-4c18-9401-b0a02ce3f195",
   "metadata": {},
   "outputs": [
    {
     "data": {
      "text/plain": [
       "'Manish,Kumar,26,O-Negative'"
      ]
     },
     "execution_count": 88,
     "metadata": {},
     "output_type": "execute_result"
    }
   ],
   "source": [
    "str_join(st)"
   ]
  },
  {
   "cell_type": "code",
   "execution_count": 96,
   "id": "17db0ca0-e670-4786-b753-7700f7659bd2",
   "metadata": {},
   "outputs": [],
   "source": [
    "def CSV_Writer(filename, mode='a', header=None, data=None,joiner=','):\n",
    "    \n",
    "    writer = open(filename, mode)\n",
    "    \n",
    "    if header:\n",
    "        \n",
    "        _header = str_join(header, joiner)\n",
    "        writer.write(_header+\"\\n\")\n",
    "        \n",
    "    if data:\n",
    "        \n",
    "        _data = str_join(data, joiner)\n",
    "        writer.write(_data+\"\\n\")\n",
    "        \n",
    "    writer.close()"
   ]
  },
  {
   "cell_type": "markdown",
   "id": "233bfe91-d826-4372-9d85-adf52a0e645c",
   "metadata": {},
   "source": [
    "## putting heading of the Stude_info csv file"
   ]
  },
  {
   "cell_type": "code",
   "execution_count": 97,
   "id": "5b097df8-26fc-4bed-bb9e-6d586d3ef6c8",
   "metadata": {},
   "outputs": [],
   "source": [
    "filename = \"Student_Info.csv\""
   ]
  },
  {
   "cell_type": "code",
   "execution_count": 98,
   "id": "dcf7c3d1-e1b0-4408-8bd5-8394ebba5e8a",
   "metadata": {},
   "outputs": [],
   "source": [
    "CSV_Writer(filename, header=[\"First Name\", \"Last Name\", \"Age\", \"Blood Group\"])"
   ]
  },
  {
   "cell_type": "code",
   "execution_count": 99,
   "id": "2866a45b-6006-40f5-901d-84bbb148ff46",
   "metadata": {},
   "outputs": [
    {
     "name": "stdout",
     "output_type": "stream",
     "text": [
      "Enter Student Info in Order:\n",
      "----------------------------\n",
      "\n"
     ]
    },
    {
     "name": "stdin",
     "output_type": "stream",
     "text": [
      "Enter First Name:  Manish\n",
      "Enter Secon Name:  Kumar\n",
      "Enter Age:  26\n",
      "Enter Boold Group:  O-Negative\n"
     ]
    },
    {
     "name": "stdout",
     "output_type": "stream",
     "text": [
      "Enter Student Info in Order:\n",
      "----------------------------\n",
      "\n"
     ]
    },
    {
     "name": "stdin",
     "output_type": "stream",
     "text": [
      "Enter First Name:  Joyti\n",
      "Enter Secon Name:  Saini\n",
      "Enter Age:  31\n",
      "Enter Boold Group:  A-Positive\n"
     ]
    },
    {
     "name": "stdout",
     "output_type": "stream",
     "text": [
      "Enter Student Info in Order:\n",
      "----------------------------\n",
      "\n"
     ]
    },
    {
     "name": "stdin",
     "output_type": "stream",
     "text": [
      "Enter First Name:  Sagar\n",
      "Enter Secon Name:  Soni\n",
      "Enter Age:  26\n",
      "Enter Boold Group:  O-Positive\n"
     ]
    },
    {
     "name": "stdout",
     "output_type": "stream",
     "text": [
      "Enter Student Info in Order:\n",
      "----------------------------\n",
      "\n"
     ]
    },
    {
     "name": "stdin",
     "output_type": "stream",
     "text": [
      "Enter First Name:  Rahul\n",
      "Enter Secon Name:  Kumar\n",
      "Enter Age:  21\n",
      "Enter Boold Group:  O-Negative\n"
     ]
    },
    {
     "name": "stdout",
     "output_type": "stream",
     "text": [
      "\r"
     ]
    }
   ],
   "source": [
    "filename = \"Student_Info.csv\"\n",
    "for i in range(0,4):\n",
    "    \n",
    "    st = Student_info();\n",
    "    CSV_Writer(filename, data=st)\n",
    "    "
   ]
  },
  {
   "cell_type": "code",
   "execution_count": null,
   "id": "437f4846-41cf-41e0-9c12-99dcf07a2c2b",
   "metadata": {},
   "outputs": [],
   "source": []
  }
 ],
 "metadata": {
  "kernelspec": {
   "display_name": "Python 3 (ipykernel)",
   "language": "python",
   "name": "python3"
  },
  "language_info": {
   "codemirror_mode": {
    "name": "ipython",
    "version": 3
   },
   "file_extension": ".py",
   "mimetype": "text/x-python",
   "name": "python",
   "nbconvert_exporter": "python",
   "pygments_lexer": "ipython3",
   "version": "3.8.3"
  }
 },
 "nbformat": 4,
 "nbformat_minor": 5
}
