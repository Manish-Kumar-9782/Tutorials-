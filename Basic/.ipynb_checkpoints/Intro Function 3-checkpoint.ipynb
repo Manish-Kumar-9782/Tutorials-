{
 "cells": [
  {
   "cell_type": "markdown",
   "id": "ca92448a-3627-4596-b13f-c779eaf70cca",
   "metadata": {},
   "source": [
    "### funciton with *args"
   ]
  },
  {
   "cell_type": "code",
   "execution_count": 12,
   "id": "bf240ca4-32e3-4807-8d6b-7be6aba43220",
   "metadata": {},
   "outputs": [],
   "source": [
    "# in this we will make a funciton which will take mutiple arguments **kwargs\n",
    "\n",
    "def mfunc(*args):\n",
    "    \n",
    "    print(args)\n",
    "    for arg in args:\n",
    "        print(arg)"
   ]
  },
  {
   "cell_type": "code",
   "execution_count": 14,
   "id": "4579f143-1007-4c08-9581-f27d86d98c9b",
   "metadata": {},
   "outputs": [
    {
     "name": "stdout",
     "output_type": "stream",
     "text": [
      "('Manish', 'Sagar', 'Rahul')\n",
      "Manish\n",
      "Sagar\n",
      "Rahul\n"
     ]
    }
   ],
   "source": [
    "mfunc(\"Manish\", \"Sagar\", \"Rahul\")"
   ]
  },
  {
   "cell_type": "code",
   "execution_count": 21,
   "id": "edf6d9d6-368b-4aa0-b24c-f4e13f2ea915",
   "metadata": {},
   "outputs": [],
   "source": [
    "def Arguments(Name, Age, *args, **kwargs):\n",
    "    \n",
    "    print(f\"Name: \", Name)\n",
    "    print(f\"Age: \", Age)\n",
    "    \n",
    "    print(args)\n",
    "    \n",
    "    print(kwargs)"
   ]
  },
  {
   "cell_type": "code",
   "execution_count": 41,
   "id": "7b97a8f1-b13e-459b-894f-045072dc2477",
   "metadata": {},
   "outputs": [
    {
     "name": "stdout",
     "output_type": "stream",
     "text": [
      "Name:  Manish\n",
      "Age:  26\n",
      "('Rahul', 'Manish')\n",
      "{'name': 'rahul'}\n"
     ]
    }
   ],
   "source": [
    "Arguments(\"Manish\", 26, 'Rahul',\"Manish\", name=\"rahul\")"
   ]
  },
  {
   "cell_type": "code",
   "execution_count": null,
   "id": "74bcc640-379f-47cf-83a1-267aac2fb176",
   "metadata": {},
   "outputs": [],
   "source": []
  },
  {
   "cell_type": "code",
   "execution_count": 6,
   "id": "7ace58b3-b4c2-49e3-b2dd-a59213973092",
   "metadata": {},
   "outputs": [],
   "source": [
    "def func(n=5):\n",
    "    \n",
    "    return n*n, n*n*n"
   ]
  },
  {
   "cell_type": "code",
   "execution_count": 4,
   "id": "96f94071-d5da-44d1-b6ca-3e03637d123c",
   "metadata": {},
   "outputs": [
    {
     "data": {
      "text/plain": [
       "(16, 64)"
      ]
     },
     "execution_count": 4,
     "metadata": {},
     "output_type": "execute_result"
    }
   ],
   "source": [
    "func(4)"
   ]
  },
  {
   "cell_type": "code",
   "execution_count": 42,
   "id": "5f20a1f7-fde4-447b-86ca-759e43eff54c",
   "metadata": {},
   "outputs": [],
   "source": [
    "square, cube = func(10)"
   ]
  },
  {
   "cell_type": "code",
   "execution_count": 43,
   "id": "c35c0005-09e6-4a46-ade8-48f541bed6da",
   "metadata": {},
   "outputs": [],
   "source": [
    "def str_join(*args, sep=\" \"):\n",
    "    \n",
    "    return sep.join(args)"
   ]
  },
  {
   "cell_type": "code",
   "execution_count": 44,
   "id": "81dac9d9-2b35-43c9-af80-a4e8237310d3",
   "metadata": {},
   "outputs": [
    {
     "data": {
      "text/plain": [
       "'Hello this is args list'"
      ]
     },
     "execution_count": 44,
     "metadata": {},
     "output_type": "execute_result"
    }
   ],
   "source": [
    "str_join(\"Hello\",\"this\",\"is\",\"args\",\"list\")"
   ]
  },
  {
   "cell_type": "markdown",
   "id": "5d0537a6-740a-4fcd-9fea-ccc56684268d",
   "metadata": {},
   "source": [
    "### filter"
   ]
  },
  {
   "cell_type": "code",
   "execution_count": 45,
   "id": "c7c36ee0-5744-45a4-a6f3-07ad9da0bee0",
   "metadata": {},
   "outputs": [
    {
     "name": "stdout",
     "output_type": "stream",
     "text": [
      "Help on class filter in module builtins:\n",
      "\n",
      "class filter(object)\n",
      " |  filter(function or None, iterable) --> filter object\n",
      " |  \n",
      " |  Return an iterator yielding those items of iterable for which function(item)\n",
      " |  is true. If function is None, return the items that are true.\n",
      " |  \n",
      " |  Methods defined here:\n",
      " |  \n",
      " |  __getattribute__(self, name, /)\n",
      " |      Return getattr(self, name).\n",
      " |  \n",
      " |  __iter__(self, /)\n",
      " |      Implement iter(self).\n",
      " |  \n",
      " |  __next__(self, /)\n",
      " |      Implement next(self).\n",
      " |  \n",
      " |  __reduce__(...)\n",
      " |      Return state information for pickling.\n",
      " |  \n",
      " |  ----------------------------------------------------------------------\n",
      " |  Static methods defined here:\n",
      " |  \n",
      " |  __new__(*args, **kwargs) from builtins.type\n",
      " |      Create and return a new object.  See help(type) for accurate signature.\n",
      "\n"
     ]
    }
   ],
   "source": [
    "help(filter)"
   ]
  },
  {
   "cell_type": "code",
   "execution_count": 56,
   "id": "ef196573-91c3-4e43-b288-3e4e93be446a",
   "metadata": {},
   "outputs": [],
   "source": [
    "def odd(item):\n",
    "    \n",
    "    if item % 2 != 0:\n",
    "        return True\n",
    "    else:\n",
    "        return False\n",
    "    \n",
    "    \n",
    "def even(item):\n",
    "    \n",
    "    if item % 2 != 0:\n",
    "        return False\n",
    "    else:\n",
    "        return True"
   ]
  },
  {
   "cell_type": "code",
   "execution_count": 47,
   "id": "14b284b4-d3ee-407a-8fc0-c66bf1a87efa",
   "metadata": {},
   "outputs": [
    {
     "data": {
      "text/plain": [
       "True"
      ]
     },
     "execution_count": 47,
     "metadata": {},
     "output_type": "execute_result"
    }
   ],
   "source": [
    "odd(7)"
   ]
  },
  {
   "cell_type": "code",
   "execution_count": 48,
   "id": "acf0b3a9-302d-4ce5-8761-a0376d320dab",
   "metadata": {},
   "outputs": [
    {
     "data": {
      "text/plain": [
       "False"
      ]
     },
     "execution_count": 48,
     "metadata": {},
     "output_type": "execute_result"
    }
   ],
   "source": [
    "odd(6)"
   ]
  },
  {
   "cell_type": "code",
   "execution_count": 53,
   "id": "ae00c7f0-62f9-4a5b-a49c-553e55663c9f",
   "metadata": {},
   "outputs": [],
   "source": [
    "a =filter(odd, range(1,30))"
   ]
  },
  {
   "cell_type": "code",
   "execution_count": 54,
   "id": "2a830a89-cb38-49db-8b4f-461328ea5880",
   "metadata": {},
   "outputs": [
    {
     "data": {
      "text/plain": [
       "<filter at 0x2920e6d29d0>"
      ]
     },
     "execution_count": 54,
     "metadata": {},
     "output_type": "execute_result"
    }
   ],
   "source": [
    "a"
   ]
  },
  {
   "cell_type": "code",
   "execution_count": 55,
   "id": "5baf11ee-6f0a-4909-8f67-69edd8684640",
   "metadata": {},
   "outputs": [
    {
     "data": {
      "text/plain": [
       "[1, 3, 5, 7, 9, 11, 13, 15, 17, 19, 21, 23, 25, 27, 29]"
      ]
     },
     "execution_count": 55,
     "metadata": {},
     "output_type": "execute_result"
    }
   ],
   "source": [
    "list(a)"
   ]
  },
  {
   "cell_type": "code",
   "execution_count": 58,
   "id": "c21de6a5-1de1-4aad-bd58-29a843b8997a",
   "metadata": {},
   "outputs": [],
   "source": [
    "b = filter(even, range(1,30))"
   ]
  },
  {
   "cell_type": "code",
   "execution_count": 59,
   "id": "d71205b8-f039-40e3-953c-036bcc0af1fc",
   "metadata": {},
   "outputs": [
    {
     "data": {
      "text/plain": [
       "[2, 4, 6, 8, 10, 12, 14, 16, 18, 20, 22, 24, 26, 28]"
      ]
     },
     "execution_count": 59,
     "metadata": {},
     "output_type": "execute_result"
    }
   ],
   "source": [
    "list(b)"
   ]
  },
  {
   "cell_type": "code",
   "execution_count": 63,
   "id": "fa4447af-d985-4dee-8799-b6e634d3da41",
   "metadata": {},
   "outputs": [],
   "source": [
    "def isprime(item):\n",
    "    \n",
    "    for i in range(2,item):\n",
    "        if item % i == 0:\n",
    "            return False\n",
    "        \n",
    "    return True"
   ]
  },
  {
   "cell_type": "code",
   "execution_count": 64,
   "id": "a35db789-2185-4bd2-9f47-e09a1195aae4",
   "metadata": {},
   "outputs": [
    {
     "data": {
      "text/plain": [
       "False"
      ]
     },
     "execution_count": 64,
     "metadata": {},
     "output_type": "execute_result"
    }
   ],
   "source": [
    "isprime(6)"
   ]
  },
  {
   "cell_type": "code",
   "execution_count": 68,
   "id": "5d441af1-50bb-48c3-a254-65da7d6a130d",
   "metadata": {},
   "outputs": [],
   "source": [
    "import random"
   ]
  },
  {
   "cell_type": "code",
   "execution_count": 69,
   "id": "51057948-90bf-44aa-9fc8-d3269f24528c",
   "metadata": {},
   "outputs": [],
   "source": [
    "rand_item = []\n",
    "\n",
    "for i in range(1, 20):\n",
    "    rand_item.append(random.randint(1,100))"
   ]
  },
  {
   "cell_type": "code",
   "execution_count": 70,
   "id": "2f4e703e-0c73-4933-9bd3-0c21a9e271d4",
   "metadata": {},
   "outputs": [
    {
     "data": {
      "text/plain": [
       "[45, 6, 78, 14, 100, 74, 87, 50, 80, 45, 22, 72, 41, 58, 23, 52, 38, 91, 97]"
      ]
     },
     "execution_count": 70,
     "metadata": {},
     "output_type": "execute_result"
    }
   ],
   "source": [
    "rand_item"
   ]
  },
  {
   "cell_type": "code",
   "execution_count": 72,
   "id": "fc995603-db34-4b91-a5be-35efd520e568",
   "metadata": {},
   "outputs": [
    {
     "data": {
      "text/plain": [
       "[45, 87, 45, 41, 23, 91, 97]"
      ]
     },
     "execution_count": 72,
     "metadata": {},
     "output_type": "execute_result"
    }
   ],
   "source": [
    "list(filter(odd, rand_item))"
   ]
  },
  {
   "cell_type": "code",
   "execution_count": 73,
   "id": "669fe67e-c3e3-4caa-a296-49b01a282208",
   "metadata": {},
   "outputs": [
    {
     "data": {
      "text/plain": [
       "[6, 78, 14, 100, 74, 50, 80, 22, 72, 58, 52, 38]"
      ]
     },
     "execution_count": 73,
     "metadata": {},
     "output_type": "execute_result"
    }
   ],
   "source": [
    "list(filter(even, rand_item))"
   ]
  },
  {
   "cell_type": "code",
   "execution_count": 74,
   "id": "1b8237ec-95e0-475f-a5e1-3e4c46030999",
   "metadata": {},
   "outputs": [
    {
     "data": {
      "text/plain": [
       "[41, 23, 97]"
      ]
     },
     "execution_count": 74,
     "metadata": {},
     "output_type": "execute_result"
    }
   ],
   "source": [
    "list(filter(isprime, rand_item))"
   ]
  },
  {
   "cell_type": "code",
   "execution_count": null,
   "id": "409fea93-88f0-4faf-bfe4-4c23bda87ea9",
   "metadata": {},
   "outputs": [],
   "source": []
  }
 ],
 "metadata": {
  "kernelspec": {
   "display_name": "Python 3 (ipykernel)",
   "language": "python",
   "name": "python3"
  },
  "language_info": {
   "codemirror_mode": {
    "name": "ipython",
    "version": 3
   },
   "file_extension": ".py",
   "mimetype": "text/x-python",
   "name": "python",
   "nbconvert_exporter": "python",
   "pygments_lexer": "ipython3",
   "version": "3.8.3"
  }
 },
 "nbformat": 4,
 "nbformat_minor": 5
}
