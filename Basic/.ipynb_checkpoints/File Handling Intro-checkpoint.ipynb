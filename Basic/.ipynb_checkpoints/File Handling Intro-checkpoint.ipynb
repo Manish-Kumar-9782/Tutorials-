{
 "cells": [
  {
   "cell_type": "markdown",
   "id": "22c5e344-92ea-479b-a429-d8f3fbe5710a",
   "metadata": {},
   "source": [
    "## File Handling"
   ]
  },
  {
   "cell_type": "code",
   "execution_count": 1,
   "id": "738f8fee-818b-474a-8d13-3eb33aaceffd",
   "metadata": {},
   "outputs": [
    {
     "name": "stdout",
     "output_type": "stream",
     "text": [
      "Help on built-in function open in module io:\n",
      "\n",
      "open(file, mode='r', buffering=-1, encoding=None, errors=None, newline=None, closefd=True, opener=None)\n",
      "    Open file and return a stream.  Raise OSError upon failure.\n",
      "    \n",
      "    file is either a text or byte string giving the name (and the path\n",
      "    if the file isn't in the current working directory) of the file to\n",
      "    be opened or an integer file descriptor of the file to be\n",
      "    wrapped. (If a file descriptor is given, it is closed when the\n",
      "    returned I/O object is closed, unless closefd is set to False.)\n",
      "    \n",
      "    mode is an optional string that specifies the mode in which the file\n",
      "    is opened. It defaults to 'r' which means open for reading in text\n",
      "    mode.  Other common values are 'w' for writing (truncating the file if\n",
      "    it already exists), 'x' for creating and writing to a new file, and\n",
      "    'a' for appending (which on some Unix systems, means that all writes\n",
      "    append to the end of the file regardless of the current seek position).\n",
      "    In text mode, if encoding is not specified the encoding used is platform\n",
      "    dependent: locale.getpreferredencoding(False) is called to get the\n",
      "    current locale encoding. (For reading and writing raw bytes use binary\n",
      "    mode and leave encoding unspecified.) The available modes are:\n",
      "    \n",
      "    ========= ===============================================================\n",
      "    Character Meaning\n",
      "    --------- ---------------------------------------------------------------\n",
      "    'r'       open for reading (default)\n",
      "    'w'       open for writing, truncating the file first\n",
      "    'x'       create a new file and open it for writing\n",
      "    'a'       open for writing, appending to the end of the file if it exists\n",
      "    'b'       binary mode\n",
      "    't'       text mode (default)\n",
      "    '+'       open a disk file for updating (reading and writing)\n",
      "    'U'       universal newline mode (deprecated)\n",
      "    ========= ===============================================================\n",
      "    \n",
      "    The default mode is 'rt' (open for reading text). For binary random\n",
      "    access, the mode 'w+b' opens and truncates the file to 0 bytes, while\n",
      "    'r+b' opens the file without truncation. The 'x' mode implies 'w' and\n",
      "    raises an `FileExistsError` if the file already exists.\n",
      "    \n",
      "    Python distinguishes between files opened in binary and text modes,\n",
      "    even when the underlying operating system doesn't. Files opened in\n",
      "    binary mode (appending 'b' to the mode argument) return contents as\n",
      "    bytes objects without any decoding. In text mode (the default, or when\n",
      "    't' is appended to the mode argument), the contents of the file are\n",
      "    returned as strings, the bytes having been first decoded using a\n",
      "    platform-dependent encoding or using the specified encoding if given.\n",
      "    \n",
      "    'U' mode is deprecated and will raise an exception in future versions\n",
      "    of Python.  It has no effect in Python 3.  Use newline to control\n",
      "    universal newlines mode.\n",
      "    \n",
      "    buffering is an optional integer used to set the buffering policy.\n",
      "    Pass 0 to switch buffering off (only allowed in binary mode), 1 to select\n",
      "    line buffering (only usable in text mode), and an integer > 1 to indicate\n",
      "    the size of a fixed-size chunk buffer.  When no buffering argument is\n",
      "    given, the default buffering policy works as follows:\n",
      "    \n",
      "    * Binary files are buffered in fixed-size chunks; the size of the buffer\n",
      "      is chosen using a heuristic trying to determine the underlying device's\n",
      "      \"block size\" and falling back on `io.DEFAULT_BUFFER_SIZE`.\n",
      "      On many systems, the buffer will typically be 4096 or 8192 bytes long.\n",
      "    \n",
      "    * \"Interactive\" text files (files for which isatty() returns True)\n",
      "      use line buffering.  Other text files use the policy described above\n",
      "      for binary files.\n",
      "    \n",
      "    encoding is the name of the encoding used to decode or encode the\n",
      "    file. This should only be used in text mode. The default encoding is\n",
      "    platform dependent, but any encoding supported by Python can be\n",
      "    passed.  See the codecs module for the list of supported encodings.\n",
      "    \n",
      "    errors is an optional string that specifies how encoding errors are to\n",
      "    be handled---this argument should not be used in binary mode. Pass\n",
      "    'strict' to raise a ValueError exception if there is an encoding error\n",
      "    (the default of None has the same effect), or pass 'ignore' to ignore\n",
      "    errors. (Note that ignoring encoding errors can lead to data loss.)\n",
      "    See the documentation for codecs.register or run 'help(codecs.Codec)'\n",
      "    for a list of the permitted encoding error strings.\n",
      "    \n",
      "    newline controls how universal newlines works (it only applies to text\n",
      "    mode). It can be None, '', '\\n', '\\r', and '\\r\\n'.  It works as\n",
      "    follows:\n",
      "    \n",
      "    * On input, if newline is None, universal newlines mode is\n",
      "      enabled. Lines in the input can end in '\\n', '\\r', or '\\r\\n', and\n",
      "      these are translated into '\\n' before being returned to the\n",
      "      caller. If it is '', universal newline mode is enabled, but line\n",
      "      endings are returned to the caller untranslated. If it has any of\n",
      "      the other legal values, input lines are only terminated by the given\n",
      "      string, and the line ending is returned to the caller untranslated.\n",
      "    \n",
      "    * On output, if newline is None, any '\\n' characters written are\n",
      "      translated to the system default line separator, os.linesep. If\n",
      "      newline is '' or '\\n', no translation takes place. If newline is any\n",
      "      of the other legal values, any '\\n' characters written are translated\n",
      "      to the given string.\n",
      "    \n",
      "    If closefd is False, the underlying file descriptor will be kept open\n",
      "    when the file is closed. This does not work when a file name is given\n",
      "    and must be True in that case.\n",
      "    \n",
      "    A custom opener can be used by passing a callable as *opener*. The\n",
      "    underlying file descriptor for the file object is then obtained by\n",
      "    calling *opener* with (*file*, *flags*). *opener* must return an open\n",
      "    file descriptor (passing os.open as *opener* results in functionality\n",
      "    similar to passing None).\n",
      "    \n",
      "    open() returns a file object whose type depends on the mode, and\n",
      "    through which the standard file operations such as reading and writing\n",
      "    are performed. When open() is used to open a file in a text mode ('w',\n",
      "    'r', 'wt', 'rt', etc.), it returns a TextIOWrapper. When used to open\n",
      "    a file in a binary mode, the returned class varies: in read binary\n",
      "    mode, it returns a BufferedReader; in write binary and append binary\n",
      "    modes, it returns a BufferedWriter, and in read/write mode, it returns\n",
      "    a BufferedRandom.\n",
      "    \n",
      "    It is also possible to use a string or bytearray as a file for both\n",
      "    reading and writing. For strings StringIO can be used like a file\n",
      "    opened in a text mode, and for bytes a BytesIO can be used like a file\n",
      "    opened in a binary mode.\n",
      "\n"
     ]
    }
   ],
   "source": [
    "help(open)"
   ]
  },
  {
   "cell_type": "markdown",
   "id": "f499c70c-5369-4dbe-9bed-eaea7ae8a925",
   "metadata": {},
   "source": [
    "#### Opening and writing file"
   ]
  },
  {
   "cell_type": "code",
   "execution_count": 2,
   "id": "ff264db4-ff37-44f7-b8b6-0ef0eff74db6",
   "metadata": {},
   "outputs": [],
   "source": [
    "file = open(\"text.txt\", 'w', newline='\\n')"
   ]
  },
  {
   "cell_type": "code",
   "execution_count": 3,
   "id": "a5d4ae53-405d-40f7-b5bf-20524ef51fa4",
   "metadata": {},
   "outputs": [
    {
     "data": {
      "text/plain": [
       "_io.TextIOWrapper"
      ]
     },
     "execution_count": 3,
     "metadata": {},
     "output_type": "execute_result"
    }
   ],
   "source": [
    "type(file)"
   ]
  },
  {
   "cell_type": "code",
   "execution_count": 4,
   "id": "c64d3204-d742-4b67-8b1f-504b98c24205",
   "metadata": {},
   "outputs": [
    {
     "name": "stdout",
     "output_type": "stream",
     "text": [
      "Help on TextIOWrapper object:\n",
      "\n",
      "class TextIOWrapper(_TextIOBase)\n",
      " |  TextIOWrapper(buffer, encoding=None, errors=None, newline=None, line_buffering=False, write_through=False)\n",
      " |  \n",
      " |  Character and line based layer over a BufferedIOBase object, buffer.\n",
      " |  \n",
      " |  encoding gives the name of the encoding that the stream will be\n",
      " |  decoded or encoded with. It defaults to locale.getpreferredencoding(False).\n",
      " |  \n",
      " |  errors determines the strictness of encoding and decoding (see\n",
      " |  help(codecs.Codec) or the documentation for codecs.register) and\n",
      " |  defaults to \"strict\".\n",
      " |  \n",
      " |  newline controls how line endings are handled. It can be None, '',\n",
      " |  '\\n', '\\r', and '\\r\\n'.  It works as follows:\n",
      " |  \n",
      " |  * On input, if newline is None, universal newlines mode is\n",
      " |    enabled. Lines in the input can end in '\\n', '\\r', or '\\r\\n', and\n",
      " |    these are translated into '\\n' before being returned to the\n",
      " |    caller. If it is '', universal newline mode is enabled, but line\n",
      " |    endings are returned to the caller untranslated. If it has any of\n",
      " |    the other legal values, input lines are only terminated by the given\n",
      " |    string, and the line ending is returned to the caller untranslated.\n",
      " |  \n",
      " |  * On output, if newline is None, any '\\n' characters written are\n",
      " |    translated to the system default line separator, os.linesep. If\n",
      " |    newline is '' or '\\n', no translation takes place. If newline is any\n",
      " |    of the other legal values, any '\\n' characters written are translated\n",
      " |    to the given string.\n",
      " |  \n",
      " |  If line_buffering is True, a call to flush is implied when a call to\n",
      " |  write contains a newline character.\n",
      " |  \n",
      " |  Method resolution order:\n",
      " |      TextIOWrapper\n",
      " |      _TextIOBase\n",
      " |      _IOBase\n",
      " |      builtins.object\n",
      " |  \n",
      " |  Methods defined here:\n",
      " |  \n",
      " |  __init__(self, /, *args, **kwargs)\n",
      " |      Initialize self.  See help(type(self)) for accurate signature.\n",
      " |  \n",
      " |  __next__(self, /)\n",
      " |      Implement next(self).\n",
      " |  \n",
      " |  __repr__(self, /)\n",
      " |      Return repr(self).\n",
      " |  \n",
      " |  close(self, /)\n",
      " |      Flush and close the IO object.\n",
      " |      \n",
      " |      This method has no effect if the file is already closed.\n",
      " |  \n",
      " |  detach(self, /)\n",
      " |      Separate the underlying buffer from the TextIOBase and return it.\n",
      " |      \n",
      " |      After the underlying buffer has been detached, the TextIO is in an\n",
      " |      unusable state.\n",
      " |  \n",
      " |  fileno(self, /)\n",
      " |      Returns underlying file descriptor if one exists.\n",
      " |      \n",
      " |      OSError is raised if the IO object does not use a file descriptor.\n",
      " |  \n",
      " |  flush(self, /)\n",
      " |      Flush write buffers, if applicable.\n",
      " |      \n",
      " |      This is not implemented for read-only and non-blocking streams.\n",
      " |  \n",
      " |  isatty(self, /)\n",
      " |      Return whether this is an 'interactive' stream.\n",
      " |      \n",
      " |      Return False if it can't be determined.\n",
      " |  \n",
      " |  read(self, size=-1, /)\n",
      " |      Read at most n characters from stream.\n",
      " |      \n",
      " |      Read from underlying buffer until we have n characters or we hit EOF.\n",
      " |      If n is negative or omitted, read until EOF.\n",
      " |  \n",
      " |  readable(self, /)\n",
      " |      Return whether object was opened for reading.\n",
      " |      \n",
      " |      If False, read() will raise OSError.\n",
      " |  \n",
      " |  readline(self, size=-1, /)\n",
      " |      Read until newline or EOF.\n",
      " |      \n",
      " |      Returns an empty string if EOF is hit immediately.\n",
      " |  \n",
      " |  reconfigure(self, /, *, encoding=None, errors=None, newline=None, line_buffering=None, write_through=None)\n",
      " |      Reconfigure the text stream with new parameters.\n",
      " |      \n",
      " |      This also does an implicit stream flush.\n",
      " |  \n",
      " |  seek(self, cookie, whence=0, /)\n",
      " |      Change stream position.\n",
      " |      \n",
      " |      Change the stream position to the given byte offset. The offset is\n",
      " |      interpreted relative to the position indicated by whence.  Values\n",
      " |      for whence are:\n",
      " |      \n",
      " |      * 0 -- start of stream (the default); offset should be zero or positive\n",
      " |      * 1 -- current stream position; offset may be negative\n",
      " |      * 2 -- end of stream; offset is usually negative\n",
      " |      \n",
      " |      Return the new absolute position.\n",
      " |  \n",
      " |  seekable(self, /)\n",
      " |      Return whether object supports random access.\n",
      " |      \n",
      " |      If False, seek(), tell() and truncate() will raise OSError.\n",
      " |      This method may need to do a test seek().\n",
      " |  \n",
      " |  tell(self, /)\n",
      " |      Return current stream position.\n",
      " |  \n",
      " |  truncate(self, pos=None, /)\n",
      " |      Truncate file to size bytes.\n",
      " |      \n",
      " |      File pointer is left unchanged.  Size defaults to the current IO\n",
      " |      position as reported by tell().  Returns the new size.\n",
      " |  \n",
      " |  writable(self, /)\n",
      " |      Return whether object was opened for writing.\n",
      " |      \n",
      " |      If False, write() will raise OSError.\n",
      " |  \n",
      " |  write(self, text, /)\n",
      " |      Write string to stream.\n",
      " |      Returns the number of characters written (which is always equal to\n",
      " |      the length of the string).\n",
      " |  \n",
      " |  ----------------------------------------------------------------------\n",
      " |  Static methods defined here:\n",
      " |  \n",
      " |  __new__(*args, **kwargs) from builtins.type\n",
      " |      Create and return a new object.  See help(type) for accurate signature.\n",
      " |  \n",
      " |  ----------------------------------------------------------------------\n",
      " |  Data descriptors defined here:\n",
      " |  \n",
      " |  buffer\n",
      " |  \n",
      " |  closed\n",
      " |  \n",
      " |  encoding\n",
      " |      Encoding of the text stream.\n",
      " |      \n",
      " |      Subclasses should override.\n",
      " |  \n",
      " |  errors\n",
      " |      The error setting of the decoder or encoder.\n",
      " |      \n",
      " |      Subclasses should override.\n",
      " |  \n",
      " |  line_buffering\n",
      " |  \n",
      " |  name\n",
      " |  \n",
      " |  newlines\n",
      " |      Line endings translated so far.\n",
      " |      \n",
      " |      Only line endings translated during reading are considered.\n",
      " |      \n",
      " |      Subclasses should override.\n",
      " |  \n",
      " |  write_through\n",
      " |  \n",
      " |  ----------------------------------------------------------------------\n",
      " |  Methods inherited from _IOBase:\n",
      " |  \n",
      " |  __del__(...)\n",
      " |  \n",
      " |  __enter__(...)\n",
      " |  \n",
      " |  __exit__(...)\n",
      " |  \n",
      " |  __iter__(self, /)\n",
      " |      Implement iter(self).\n",
      " |  \n",
      " |  readlines(self, hint=-1, /)\n",
      " |      Return a list of lines from the stream.\n",
      " |      \n",
      " |      hint can be specified to control the number of lines read: no more\n",
      " |      lines will be read if the total size (in bytes/characters) of all\n",
      " |      lines so far exceeds hint.\n",
      " |  \n",
      " |  writelines(self, lines, /)\n",
      " |      Write a list of lines to stream.\n",
      " |      \n",
      " |      Line separators are not added, so it is usual for each of the\n",
      " |      lines provided to have a line separator at the end.\n",
      " |  \n",
      " |  ----------------------------------------------------------------------\n",
      " |  Data descriptors inherited from _IOBase:\n",
      " |  \n",
      " |  __dict__\n",
      "\n"
     ]
    }
   ],
   "source": [
    "help(file)"
   ]
  },
  {
   "cell_type": "code",
   "execution_count": 10,
   "id": "94e1aa0f-4eef-4fef-ba74-6d4a69c09788",
   "metadata": {},
   "outputs": [],
   "source": [
    "abs_path = \"H:\\\\test2.txt\""
   ]
  },
  {
   "cell_type": "code",
   "execution_count": 11,
   "id": "ac0e4710-ac7d-46fb-bb60-65089f6c7b22",
   "metadata": {},
   "outputs": [
    {
     "data": {
      "text/plain": [
       "'H:\\\\test2.txt'"
      ]
     },
     "execution_count": 11,
     "metadata": {},
     "output_type": "execute_result"
    }
   ],
   "source": [
    "abs_path"
   ]
  },
  {
   "cell_type": "code",
   "execution_count": 7,
   "id": "6d13f40f-c77a-41e5-a253-0dc605a504f8",
   "metadata": {},
   "outputs": [],
   "source": [
    "path = \"h:\\test\""
   ]
  },
  {
   "cell_type": "code",
   "execution_count": 12,
   "id": "e8fe825b-4dc8-46de-ad8b-0dcf7ef61e86",
   "metadata": {},
   "outputs": [],
   "source": [
    "path = abs_path"
   ]
  },
  {
   "cell_type": "code",
   "execution_count": 13,
   "id": "58cd238d-7d8e-4c81-b44d-1d80d19a51e7",
   "metadata": {},
   "outputs": [],
   "source": [
    "file = open(path)"
   ]
  },
  {
   "cell_type": "code",
   "execution_count": 14,
   "id": "86e009c3-9cbc-4b0f-88f9-92f6d75577e6",
   "metadata": {},
   "outputs": [],
   "source": [
    "import os "
   ]
  },
  {
   "cell_type": "code",
   "execution_count": 17,
   "id": "13edecff-5178-4d61-a396-4cc7291eb427",
   "metadata": {},
   "outputs": [
    {
     "data": {
      "text/plain": [
       "'H:\\\\test2.txt\\\\hello'"
      ]
     },
     "execution_count": 17,
     "metadata": {},
     "output_type": "execute_result"
    }
   ],
   "source": [
    "os.path.join(\"H:\\\\\",\"test2.txt\", \"hello\")"
   ]
  },
  {
   "cell_type": "code",
   "execution_count": 21,
   "id": "4ffe0841-a324-4dfb-b7ce-42c0cc00b9e9",
   "metadata": {},
   "outputs": [],
   "source": [
    "reader = open(abs_path)"
   ]
  },
  {
   "cell_type": "code",
   "execution_count": 22,
   "id": "4a997fd4-9222-4a6a-872e-79927d33b496",
   "metadata": {},
   "outputs": [],
   "source": [
    "output = reader.read()"
   ]
  },
  {
   "cell_type": "code",
   "execution_count": 20,
   "id": "059e3a6d-627b-42db-a35f-4aaf906ddb74",
   "metadata": {},
   "outputs": [
    {
     "data": {
      "text/plain": [
       "''"
      ]
     },
     "execution_count": 20,
     "metadata": {},
     "output_type": "execute_result"
    }
   ],
   "source": [
    "reader.read()"
   ]
  },
  {
   "cell_type": "code",
   "execution_count": 24,
   "id": "1a73740c-11d8-42bc-bb1a-4bde158f6acc",
   "metadata": {},
   "outputs": [
    {
     "data": {
      "text/plain": [
       "'this is test 4 of file handling\\nThis a line after making a new line'"
      ]
     },
     "execution_count": 24,
     "metadata": {},
     "output_type": "execute_result"
    }
   ],
   "source": [
    "output"
   ]
  },
  {
   "cell_type": "code",
   "execution_count": 25,
   "id": "d941ee8d-240a-4df8-b31f-7b87e2f06683",
   "metadata": {},
   "outputs": [
    {
     "data": {
      "text/plain": [
       "str"
      ]
     },
     "execution_count": 25,
     "metadata": {},
     "output_type": "execute_result"
    }
   ],
   "source": [
    "type(output)"
   ]
  },
  {
   "cell_type": "code",
   "execution_count": 26,
   "id": "6423a645-508a-4ce5-b9fc-5512bbb61c4b",
   "metadata": {},
   "outputs": [
    {
     "data": {
      "text/plain": [
       "['this is test 4 of file handling', 'This a line after making a new line']"
      ]
     },
     "execution_count": 26,
     "metadata": {},
     "output_type": "execute_result"
    }
   ],
   "source": [
    "output.split(\"\\n\")"
   ]
  },
  {
   "cell_type": "code",
   "execution_count": 27,
   "id": "5bfb99fd-b40c-412a-82c5-a65a60f4577a",
   "metadata": {},
   "outputs": [],
   "source": [
    "reader = open(abs_path)\n",
    "output = reader.readline()"
   ]
  },
  {
   "cell_type": "code",
   "execution_count": 28,
   "id": "6058277a-68eb-49cb-9b55-d541478c15b5",
   "metadata": {},
   "outputs": [
    {
     "data": {
      "text/plain": [
       "'this is test 4 of file handling\\n'"
      ]
     },
     "execution_count": 28,
     "metadata": {},
     "output_type": "execute_result"
    }
   ],
   "source": [
    "output"
   ]
  },
  {
   "cell_type": "code",
   "execution_count": 29,
   "id": "00fa9d40-6515-445e-a598-6fef95042169",
   "metadata": {},
   "outputs": [
    {
     "data": {
      "text/plain": [
       "'This a line after making a new line'"
      ]
     },
     "execution_count": 29,
     "metadata": {},
     "output_type": "execute_result"
    }
   ],
   "source": [
    "reader.readline()"
   ]
  },
  {
   "cell_type": "code",
   "execution_count": 30,
   "id": "24c8b845-88c7-487f-8ef4-0389900579d6",
   "metadata": {},
   "outputs": [],
   "source": [
    "reader = open(abs_path)"
   ]
  },
  {
   "cell_type": "code",
   "execution_count": 31,
   "id": "2428f903-fc19-4bac-b126-329695af6895",
   "metadata": {},
   "outputs": [
    {
     "data": {
      "text/plain": [
       "['this is test 4 of file handling\\n', 'This a line after making a new line']"
      ]
     },
     "execution_count": 31,
     "metadata": {},
     "output_type": "execute_result"
    }
   ],
   "source": [
    "reader.readlines()"
   ]
  },
  {
   "cell_type": "code",
   "execution_count": 32,
   "id": "df6c3fca-b107-471b-8a3d-61cad8ddc153",
   "metadata": {},
   "outputs": [
    {
     "name": "stdout",
     "output_type": "stream",
     "text": [
      "this is test 4 of file handling\n",
      "This a line after making a new line\n"
     ]
    }
   ],
   "source": [
    "reader = open(abs_path)\n",
    "print(reader.read())"
   ]
  },
  {
   "cell_type": "markdown",
   "id": "b9a50cc9-04cb-408b-9818-afa492d7fb4d",
   "metadata": {},
   "source": [
    "## reading a csv file"
   ]
  },
  {
   "cell_type": "code",
   "execution_count": 35,
   "id": "4977c556-294d-4989-97f5-65fede609cdc",
   "metadata": {},
   "outputs": [],
   "source": [
    "csv_reader = open(\"Life Expectancy Data.csv\")"
   ]
  },
  {
   "cell_type": "code",
   "execution_count": 36,
   "id": "b37999f4-616a-4d4a-b7be-d62d2ee10e2f",
   "metadata": {},
   "outputs": [
    {
     "name": "stdout",
     "output_type": "stream",
     "text": [
      "Country,Year,Status,Life expectancy ,Adult Mortality,infant deaths,Alcohol,percentage expenditure,Hepatitis B,Measles , BMI ,under-five deaths ,Polio,Total expenditure,Diphtheria , HIV/AIDS,GDP,Population, thinness  1-19 years, thinness 5-9 years,Income composition of resources,Schooling\n",
      "\n",
      "Afghanistan,2015,Developing,65,263,62,0.01,71.27962362,65,1154,19.1,83,6,8.16,65,0.1,584.25921,33736494,17.2,17.3,0.479,10.1\n",
      "\n",
      "Afghanistan,2014,Developing,59.9,271,64,0.01,73.52358168,62,492,18.6,86,58,8.18,62,0.1,612.696514,327582,17.5,17.5,0.476,10\n",
      "\n",
      "Afghanistan,2013,Developing,59.9,268,66,0.01,73.21924272,64,430,18.1,89,62,8.13,64,0.1,631.744976,31731688,17.7,17.7,0.47,9.9\n",
      "\n",
      "Afghanistan,2012,Developing,59.5,272,69,0.01,78.1842153,67,2787,17.6,93,67,8.52,67,0.1,669.959,3696958,17.9,18,0.463,9.8\n",
      "\n",
      "Afghanistan,2011,Developing,59.2,275,71,0.01,7.097108703,68,3013,17.2,97,68,7.87,68,0.1,63.537231,2978599,18.2,18.2,0.454,9.5\n",
      "\n",
      "Afghanistan,2010,Developing,58.8,279,74,0.01,79.67936736,66,1989,16.7,102,66,9.2,66,0.1,553.32894,2883167,18.4,18.4,0.448,9.2\n",
      "\n",
      "Afghanistan,2009,Developing,58.6,281,77,0.01,56.76221682,63,2861,16.2,106,63,9.42,63,0.1,445.8932979,284331,18.6,18.7,0.434,8.9\n",
      "\n",
      "Afghanistan,2008,Developing,58.1,287,80,0.03,25.87392536,64,1599,15.7,110,64,8.33,64,0.1,373.3611163,2729431,18.8,18.9,0.433,8.7\n",
      "\n",
      "Afghanistan,2007,Developing,57.5,295,82,0.02,10.91015598,63,1141,15.2,113,63,6.73,63,0.1,369.835796,26616792,19,19.1,0.415,8.4\n",
      "\n",
      "Afghanistan,2006,Developing,57.3,295,84,0.03,17.17151751,64,1990,14.7,116,58,7.43,58,0.1,272.56377,2589345,19.2,19.3,0.405,8.1\n",
      "\n",
      "Afghanistan,2005,Developing,57.3,291,85,0.02,1.388647732,66,1296,14.2,118,58,8.7,58,0.1,25.2941299,257798,19.3,19.5,0.396,7.9\n",
      "\n",
      "Afghanistan,2004,Developing,57,293,87,0.02,15.29606643,67,466,13.8,120,5,8.79,5,0.1,219.1413528,24118979,19.5,19.7,0.381,6.8\n",
      "\n",
      "Afghanistan,2003,Developing,56.7,295,87,0.01,11.08905273,65,798,13.4,122,41,8.82,41,0.1,198.7285436,2364851,19.7,19.9,0.373,6.5\n",
      "\n",
      "Afghanistan,2002,Developing,56.2,3,88,0.01,16.88735091,64,2486,13,122,36,7.76,36,0.1,187.84595,21979923,19.9,2.2,0.341,6.2\n",
      "\n",
      "Afghanistan,2001,Developing,55.3,316,88,0.01,10.5747282,63,8762,12.6,122,35,7.8,33,0.1,117.49698,2966463,2.1,2.4,0.34,5.9\n",
      "\n",
      "Afghanistan,2000,Developing,54.8,321,88,0.01,10.42496,62,6532,12.2,122,24,8.2,24,0.1,114.56,293756,2.3,2.5,0.338,5.5\n",
      "\n",
      "Albania,2015,Developing,77.8,74,0,4.6,364.9752287,99,0,58,0,99,6,99,0.1,3954.22783,28873,1.2,1.3,0.762,14.2\n",
      "\n",
      "Albania,2014,Developing,77.5,8,0,4.51,428.7490668,98,0,57.2,1,98,5.88,98,0.1,4575.763787,288914,1.2,1.3,0.761,14.2\n",
      "\n",
      "Albania,2013,Developing,77.2,84,0,4.76,430.8769785,99,0,56.5,1,99,5.66,99,0.1,4414.72314,289592,1.3,1.4,0.759,14.2\n",
      "\n",
      "Albania,2012,Developing,76.9,86,0,5.14,412.4433563,99,9,55.8,1,99,5.59,99,0.1,4247.61438,2941,1.3,1.4,0.752,14.2\n",
      "\n",
      "Albania,2011,Developing,76.6,88,0,5.37,437.0621,99,28,55.1,1,99,5.71,99,0.1,4437.17868,295195,1.4,1.5,0.738,13.3\n",
      "\n",
      "Albania,2010,Developing,76.2,91,1,5.28,41.82275719,99,10,54.3,1,99,5.34,99,0.1,494.358832,291321,1.4,1.5,0.725,12.5\n",
      "\n",
      "Albania,2009,Developing,76.1,91,1,5.79,348.0559517,98,0,53.5,1,98,5.79,98,0.1,4114.136545,2927519,1.5,1.6,0.721,12.2\n",
      "\n",
      "Albania,2008,Developing,75.3,1,1,5.61,36.62206845,99,0,52.6,1,99,5.87,99,0.1,437.539647,2947314,1.6,1.6,0.713,12\n",
      "\n",
      "Albania,2007,Developing,75.9,9,1,5.58,32.24655228,98,22,51.7,1,99,6.1,98,0.1,363.13685,29717,1.6,1.7,0.703,11.6\n",
      "\n",
      "Albania,2006,Developing,74.2,99,1,5.31,3.3021542,98,68,5.8,1,97,5.86,97,0.1,35.1293,2992547,1.7,1.8,0.696,11.4\n",
      "\n",
      "Albania,2005,Developing,73.5,15,1,5.16,26.99312143,98,6,49.9,1,97,6.12,98,0.1,279.142931,311487,1.8,1.8,0.685,10.8\n",
      "\n",
      "Albania,2004,Developing,73,17,1,4.54,221.8428,99,7,48.9,1,98,6.38,97,0.1,2416.588235,326939,1.8,1.9,0.681,10.9\n",
      "\n",
      "Albania,2003,Developing,72.8,18,1,4.29,14.71928882,97,8,47.9,1,97,6.27,97,0.1,189.681557,339616,1.9,2,0.674,10.7\n",
      "\n"
     ]
    }
   ],
   "source": [
    "for i in range(0, 30):\n",
    "    print(csv_reader.readline())\n",
    "\n",
    "csv_reader.close()"
   ]
  },
  {
   "cell_type": "code",
   "execution_count": 37,
   "id": "c57eafac-fa67-495d-828d-6c21ef634e76",
   "metadata": {},
   "outputs": [],
   "source": [
    "csv_reader = open(\"Life Expectancy Data.csv\")"
   ]
  },
  {
   "cell_type": "code",
   "execution_count": 38,
   "id": "67825ba5-814b-487a-8dea-fefd698e269c",
   "metadata": {},
   "outputs": [],
   "source": [
    "header = csv_reader.readline()"
   ]
  },
  {
   "cell_type": "code",
   "execution_count": 39,
   "id": "533ef5e5-1ca6-4a3a-8323-6ce870ffa9e6",
   "metadata": {},
   "outputs": [
    {
     "data": {
      "text/plain": [
       "'Country,Year,Status,Life expectancy ,Adult Mortality,infant deaths,Alcohol,percentage expenditure,Hepatitis B,Measles , BMI ,under-five deaths ,Polio,Total expenditure,Diphtheria , HIV/AIDS,GDP,Population, thinness  1-19 years, thinness 5-9 years,Income composition of resources,Schooling\\n'"
      ]
     },
     "execution_count": 39,
     "metadata": {},
     "output_type": "execute_result"
    }
   ],
   "source": [
    "header"
   ]
  },
  {
   "cell_type": "code",
   "execution_count": 40,
   "id": "0b36df54-95d1-4b6a-aad7-fef5c546519e",
   "metadata": {},
   "outputs": [],
   "source": [
    "columns = header.split(\",\")"
   ]
  },
  {
   "cell_type": "code",
   "execution_count": 43,
   "id": "919c9578-cba7-449c-be4b-a4ad3051f397",
   "metadata": {},
   "outputs": [],
   "source": [
    "columns = [i.rstrip(\"\\n\") for i in columns]"
   ]
  },
  {
   "cell_type": "code",
   "execution_count": 44,
   "id": "83e46d3a-f430-4d44-8e50-bd0df55ba820",
   "metadata": {},
   "outputs": [
    {
     "data": {
      "text/plain": [
       "['Country',\n",
       " 'Year',\n",
       " 'Status',\n",
       " 'Life expectancy ',\n",
       " 'Adult Mortality',\n",
       " 'infant deaths',\n",
       " 'Alcohol',\n",
       " 'percentage expenditure',\n",
       " 'Hepatitis B',\n",
       " 'Measles ',\n",
       " ' BMI ',\n",
       " 'under-five deaths ',\n",
       " 'Polio',\n",
       " 'Total expenditure',\n",
       " 'Diphtheria ',\n",
       " ' HIV/AIDS',\n",
       " 'GDP',\n",
       " 'Population',\n",
       " ' thinness  1-19 years',\n",
       " ' thinness 5-9 years',\n",
       " 'Income composition of resources',\n",
       " 'Schooling']"
      ]
     },
     "execution_count": 44,
     "metadata": {},
     "output_type": "execute_result"
    }
   ],
   "source": [
    "columns"
   ]
  },
  {
   "cell_type": "code",
   "execution_count": 45,
   "id": "1493d1a1-62c3-48c7-bb1c-03a1002c1e6c",
   "metadata": {},
   "outputs": [
    {
     "data": {
      "text/plain": [
       "22"
      ]
     },
     "execution_count": 45,
     "metadata": {},
     "output_type": "execute_result"
    }
   ],
   "source": [
    "len(columns)"
   ]
  },
  {
   "cell_type": "code",
   "execution_count": 53,
   "id": "e10397d2-d20e-42bc-9ca4-9c3672665736",
   "metadata": {},
   "outputs": [],
   "source": [
    "_format = \"%-10s \""
   ]
  },
  {
   "cell_type": "code",
   "execution_count": 49,
   "id": "64674c1f-6f88-4acb-b2bb-2917d031c754",
   "metadata": {},
   "outputs": [
    {
     "data": {
      "text/plain": [
       "'%-30s %-30s %-30s %-30s %-30s %-30s %-30s %-30s %-30s %-30s %-30s %-30s %-30s %-30s %-30s %-30s %-30s %-30s %-30s %-30s %-30s %-30s '"
      ]
     },
     "execution_count": 49,
     "metadata": {},
     "output_type": "execute_result"
    }
   ],
   "source": [
    "_format*22"
   ]
  },
  {
   "cell_type": "code",
   "execution_count": 51,
   "id": "2538924f-2508-4db1-9ac2-31aee925dec6",
   "metadata": {},
   "outputs": [
    {
     "name": "stdout",
     "output_type": "stream",
     "text": [
      "%-30s %-30s %-30s %-30s %-30s %-30s %-30s %-30s %-30s %-30s %-30s %-30s %-30s %-30s %-30s %-30s %-30s %-30s %-30s %-30s %-30s %-30s \n"
     ]
    }
   ],
   "source": [
    "print(str(_format*22).format(*columns))"
   ]
  },
  {
   "cell_type": "code",
   "execution_count": 54,
   "id": "c1af1e22-0cb9-4f20-a804-18975746f23b",
   "metadata": {},
   "outputs": [
    {
     "name": "stdout",
     "output_type": "stream",
     "text": [
      "Country    Year       Status     \n"
     ]
    }
   ],
   "source": [
    "print(str(_format*3) % (columns[0], columns[1], columns[2]))"
   ]
  },
  {
   "cell_type": "code",
   "execution_count": 55,
   "id": "a1501a88-3ed0-4813-a846-bf114a6c7976",
   "metadata": {},
   "outputs": [
    {
     "data": {
      "text/plain": [
       "'{} {} {} '"
      ]
     },
     "execution_count": 55,
     "metadata": {},
     "output_type": "execute_result"
    }
   ],
   "source": [
    "\"{} \"*3"
   ]
  },
  {
   "cell_type": "code",
   "execution_count": 57,
   "id": "a74dbaaf-7c57-4823-8ad8-50d6f693265a",
   "metadata": {},
   "outputs": [
    {
     "name": "stdout",
     "output_type": "stream",
     "text": [
      "Country Year Status \n"
     ]
    }
   ],
   "source": [
    "print(str(\"{:10s} \"*3).format(*columns[0:4]))"
   ]
  },
  {
   "cell_type": "code",
   "execution_count": null,
   "id": "4afbc0b7-5c86-4b10-92c8-75f083fcec07",
   "metadata": {},
   "outputs": [],
   "source": []
  }
 ],
 "metadata": {
  "kernelspec": {
   "display_name": "Python 3 (ipykernel)",
   "language": "python",
   "name": "python3"
  },
  "language_info": {
   "codemirror_mode": {
    "name": "ipython",
    "version": 3
   },
   "file_extension": ".py",
   "mimetype": "text/x-python",
   "name": "python",
   "nbconvert_exporter": "python",
   "pygments_lexer": "ipython3",
   "version": "3.8.3"
  }
 },
 "nbformat": 4,
 "nbformat_minor": 5
}
