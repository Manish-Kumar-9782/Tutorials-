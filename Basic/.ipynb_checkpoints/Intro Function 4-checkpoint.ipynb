{
 "cells": [
  {
   "cell_type": "markdown",
   "id": "c3d3595a-dca7-4355-b5a0-42b985dadbc5",
   "metadata": {},
   "source": [
    "### map() function"
   ]
  },
  {
   "cell_type": "code",
   "execution_count": 2,
   "id": "0fa824ef-30c8-4628-ad88-f4ff33b77a64",
   "metadata": {},
   "outputs": [
    {
     "name": "stdout",
     "output_type": "stream",
     "text": [
      "Help on class map in module builtins:\n",
      "\n",
      "class map(object)\n",
      " |  map(func, *iterables) --> map object\n",
      " |  \n",
      " |  Make an iterator that computes the function using arguments from\n",
      " |  each of the iterables.  Stops when the shortest iterable is exhausted.\n",
      " |  \n",
      " |  Methods defined here:\n",
      " |  \n",
      " |  __getattribute__(self, name, /)\n",
      " |      Return getattr(self, name).\n",
      " |  \n",
      " |  __iter__(self, /)\n",
      " |      Implement iter(self).\n",
      " |  \n",
      " |  __next__(self, /)\n",
      " |      Implement next(self).\n",
      " |  \n",
      " |  __reduce__(...)\n",
      " |      Return state information for pickling.\n",
      " |  \n",
      " |  ----------------------------------------------------------------------\n",
      " |  Static methods defined here:\n",
      " |  \n",
      " |  __new__(*args, **kwargs) from builtins.type\n",
      " |      Create and return a new object.  See help(type) for accurate signature.\n",
      "\n"
     ]
    }
   ],
   "source": [
    "help(map)\n"
   ]
  },
  {
   "cell_type": "code",
   "execution_count": 3,
   "id": "283a97b6-29ac-4a3c-bb60-55f6045bf461",
   "metadata": {},
   "outputs": [],
   "source": [
    "def isprime(item):\n",
    "    \n",
    "    for i in range(2,item):\n",
    "        if item % i == 0:\n",
    "            return False\n",
    "        \n",
    "    return True"
   ]
  },
  {
   "cell_type": "code",
   "execution_count": 4,
   "id": "31184997-1056-48b4-839c-b66f1ae4fb53",
   "metadata": {},
   "outputs": [],
   "source": [
    "List = [1, 3, 5, 7, 9, 11, 13, 15, 17, 19, 21, 23, 25, 27, 29]"
   ]
  },
  {
   "cell_type": "code",
   "execution_count": 5,
   "id": "cf4491c3-96fd-4de2-8c51-63a20d89ac3c",
   "metadata": {},
   "outputs": [
    {
     "data": {
      "text/plain": [
       "[1, 3, 5, 7, 9, 11, 13, 15, 17, 19, 21, 23, 25, 27, 29]"
      ]
     },
     "execution_count": 5,
     "metadata": {},
     "output_type": "execute_result"
    }
   ],
   "source": [
    "List"
   ]
  },
  {
   "cell_type": "code",
   "execution_count": 32,
   "id": "d631fb0d-0bcb-465f-845f-a2056fbdd7d8",
   "metadata": {},
   "outputs": [],
   "source": [
    "Maped = map(isprime, List)"
   ]
  },
  {
   "cell_type": "code",
   "execution_count": 33,
   "id": "0a50c99e-997b-4f74-9067-6f36d03a7980",
   "metadata": {},
   "outputs": [
    {
     "data": {
      "text/plain": [
       "<map at 0x1bde4d43ee0>"
      ]
     },
     "execution_count": 33,
     "metadata": {},
     "output_type": "execute_result"
    }
   ],
   "source": [
    "Maped"
   ]
  },
  {
   "cell_type": "code",
   "execution_count": 34,
   "id": "9498891c-4f08-46e2-8186-36a0e88225ae",
   "metadata": {},
   "outputs": [
    {
     "name": "stdout",
     "output_type": "stream",
     "text": [
      "1\n",
      "3\n",
      "5\n",
      "7\n",
      "11\n",
      "13\n",
      "17\n",
      "19\n",
      "23\n",
      "29\n"
     ]
    }
   ],
   "source": [
    "for index, res in enumerate(Maped):\n",
    "    if res:\n",
    "        print(List[index])\n",
    "    "
   ]
  },
  {
   "cell_type": "code",
   "execution_count": 35,
   "id": "0eece806-2b6c-4163-8350-c29c12c2bdc2",
   "metadata": {},
   "outputs": [
    {
     "name": "stdout",
     "output_type": "stream",
     "text": [
      "1\n",
      "3\n",
      "5\n",
      "7\n",
      "11\n",
      "13\n",
      "17\n",
      "19\n",
      "23\n",
      "29\n"
     ]
    }
   ],
   "source": [
    "for i in List:\n",
    "    if isprime(i):\n",
    "        print(i)"
   ]
  },
  {
   "cell_type": "code",
   "execution_count": 12,
   "id": "743131f1-ce55-4e97-87a8-10666d7e1050",
   "metadata": {},
   "outputs": [],
   "source": [
    "for i in Maped:\n",
    "    pirnt(i)"
   ]
  },
  {
   "cell_type": "code",
   "execution_count": 15,
   "id": "86fbd989-9dc6-462a-bc63-9d31cf5d2140",
   "metadata": {},
   "outputs": [
    {
     "ename": "TypeError",
     "evalue": "object of type 'map' has no len()",
     "output_type": "error",
     "traceback": [
      "\u001b[1;31m---------------------------------------------------------------------------\u001b[0m",
      "\u001b[1;31mTypeError\u001b[0m                                 Traceback (most recent call last)",
      "Input \u001b[1;32mIn [15]\u001b[0m, in \u001b[0;36m<cell line: 1>\u001b[1;34m()\u001b[0m\n\u001b[1;32m----> 1\u001b[0m \u001b[38;5;28;43mlen\u001b[39;49m\u001b[43m(\u001b[49m\u001b[43mMaped\u001b[49m\u001b[43m)\u001b[49m\n",
      "\u001b[1;31mTypeError\u001b[0m: object of type 'map' has no len()"
     ]
    }
   ],
   "source": []
  },
  {
   "cell_type": "code",
   "execution_count": 31,
   "id": "90b20371-de9e-4933-9b3d-f3c11a03f24d",
   "metadata": {},
   "outputs": [
    {
     "ename": "StopIteration",
     "evalue": "",
     "output_type": "error",
     "traceback": [
      "\u001b[1;31m---------------------------------------------------------------------------\u001b[0m",
      "\u001b[1;31mStopIteration\u001b[0m                             Traceback (most recent call last)",
      "Input \u001b[1;32mIn [31]\u001b[0m, in \u001b[0;36m<cell line: 1>\u001b[1;34m()\u001b[0m\n\u001b[1;32m----> 1\u001b[0m \u001b[38;5;28;43mnext\u001b[39;49m\u001b[43m(\u001b[49m\u001b[43mMaped\u001b[49m\u001b[43m)\u001b[49m\n",
      "\u001b[1;31mStopIteration\u001b[0m: "
     ]
    }
   ],
   "source": [
    "next(Maped)"
   ]
  },
  {
   "cell_type": "code",
   "execution_count": 38,
   "id": "d9684af3-bc24-4050-828f-1fa27ab05183",
   "metadata": {},
   "outputs": [
    {
     "ename": "NameError",
     "evalue": "name 'reduce' is not defined",
     "output_type": "error",
     "traceback": [
      "\u001b[1;31m---------------------------------------------------------------------------\u001b[0m",
      "\u001b[1;31mNameError\u001b[0m                                 Traceback (most recent call last)",
      "Input \u001b[1;32mIn [38]\u001b[0m, in \u001b[0;36m<cell line: 1>\u001b[1;34m()\u001b[0m\n\u001b[1;32m----> 1\u001b[0m help(\u001b[43mreduce\u001b[49m)\n",
      "\u001b[1;31mNameError\u001b[0m: name 'reduce' is not defined"
     ]
    }
   ],
   "source": [
    "help(reduce)"
   ]
  },
  {
   "cell_type": "code",
   "execution_count": 40,
   "id": "b44d2a43-bb4c-48d5-b6de-a00f709b604e",
   "metadata": {},
   "outputs": [],
   "source": [
    "from functools import reduce"
   ]
  },
  {
   "cell_type": "code",
   "execution_count": 41,
   "id": "bb7efbe9-29e7-4865-970d-c46ed0a9e0c1",
   "metadata": {},
   "outputs": [
    {
     "name": "stdout",
     "output_type": "stream",
     "text": [
      "Help on built-in function reduce in module _functools:\n",
      "\n",
      "reduce(...)\n",
      "    reduce(function, sequence[, initial]) -> value\n",
      "    \n",
      "    Apply a function of two arguments cumulatively to the items of a sequence,\n",
      "    from left to right, so as to reduce the sequence to a single value.\n",
      "    For example, reduce(lambda x, y: x+y, [1, 2, 3, 4, 5]) calculates\n",
      "    ((((1+2)+3)+4)+5).  If initial is present, it is placed before the items\n",
      "    of the sequence in the calculation, and serves as a default when the\n",
      "    sequence is empty.\n",
      "\n"
     ]
    }
   ],
   "source": [
    "help(reduce)"
   ]
  },
  {
   "cell_type": "code",
   "execution_count": 42,
   "id": "4267dc9e-d1ba-4e32-832b-baeb04603262",
   "metadata": {},
   "outputs": [
    {
     "data": {
      "text/plain": [
       "225"
      ]
     },
     "execution_count": 42,
     "metadata": {},
     "output_type": "execute_result"
    }
   ],
   "source": [
    "sum(List)\n"
   ]
  },
  {
   "cell_type": "markdown",
   "id": "d1af7422-07a9-4aef-8caa-8e0ca11ffa6a",
   "metadata": {},
   "source": []
  },
  {
   "cell_type": "code",
   "execution_count": 45,
   "id": "34c55ee3-c710-403b-bc20-839500ce02bd",
   "metadata": {},
   "outputs": [
    {
     "data": {
      "text/plain": [
       "6190283353629375"
      ]
     },
     "execution_count": 45,
     "metadata": {},
     "output_type": "execute_result"
    }
   ],
   "source": [
    "reduce(lambda x,y: x*y, List)"
   ]
  },
  {
   "cell_type": "code",
   "execution_count": 51,
   "id": "770ff4b7-0298-41b9-b66f-8ddc7fea2bf2",
   "metadata": {},
   "outputs": [],
   "source": [
    "def factorial(n):\n",
    "    \n",
    "    print(f\"n : {n}\")\n",
    "    \n",
    "    if n==0:\n",
    "        return 1;\n",
    "    \n",
    "    return factorial(n-1)*n"
   ]
  },
  {
   "cell_type": "code",
   "execution_count": 50,
   "id": "0cf79326-e3eb-40ab-9b15-a441fb9aa362",
   "metadata": {},
   "outputs": [
    {
     "name": "stdout",
     "output_type": "stream",
     "text": [
      "n : 4\n",
      "n : 3\n",
      "n : 2\n",
      "n : 1\n",
      "n : 0\n"
     ]
    },
    {
     "data": {
      "text/plain": [
       "24"
      ]
     },
     "execution_count": 50,
     "metadata": {},
     "output_type": "execute_result"
    }
   ],
   "source": [
    "factorial(4)"
   ]
  },
  {
   "cell_type": "code",
   "execution_count": 52,
   "id": "053ab3dd-593b-41e8-af33-cc357db74d7c",
   "metadata": {},
   "outputs": [],
   "source": [
    "def sum_of(number):\n",
    "    \n",
    "\n",
    "    if number == 0:\n",
    "        return 0;\n",
    "    \n",
    "    return sum_of(number-1)+number"
   ]
  },
  {
   "cell_type": "code",
   "execution_count": 54,
   "id": "3030364b-227b-463c-a93c-e1ee4dee8401",
   "metadata": {},
   "outputs": [
    {
     "data": {
      "text/plain": [
       "55"
      ]
     },
     "execution_count": 54,
     "metadata": {},
     "output_type": "execute_result"
    }
   ],
   "source": [
    "sum_of(10)"
   ]
  },
  {
   "cell_type": "code",
   "execution_count": 1,
   "id": "70b59a9a-7ce8-46fa-81d4-05127421dbab",
   "metadata": {},
   "outputs": [],
   "source": []
  },
  {
   "cell_type": "code",
   "execution_count": 51,
   "id": "958ddebe-5dd0-42a9-b303-dac941638ced",
   "metadata": {},
   "outputs": [
    {
     "ename": "SyntaxError",
     "evalue": "invalid syntax (1467514918.py, line 17)",
     "output_type": "error",
     "traceback": [
      "\u001b[1;36m  Input \u001b[1;32mIn [51]\u001b[1;36m\u001b[0m\n\u001b[1;33m    devide(arr, lb, mid, partition=\"left\", level += 1)  # for left partition\u001b[0m\n\u001b[1;37m                                                 ^\u001b[0m\n\u001b[1;31mSyntaxError\u001b[0m\u001b[1;31m:\u001b[0m invalid syntax\n"
     ]
    }
   ],
   "source": [
    "List = [1, 3, 5, 7, 9, 11, 13, 15, 17, 19, 21, 23, 25, 27, 29]\n",
    "def devide(arr,lb, ub, partition=\"Initial\" , level=0):\n",
    "    \n",
    "    if lb<ub:\n",
    "        level += 1;\n",
    "        if len(arr[lb:ub])  == 1:\n",
    "            print(arr[lb:ub])\n",
    "            \n",
    "            if arr[lb] == 29: # checkig the 29 in the list\n",
    "                \n",
    "                arr[lb] = 1000; # assigning the 1000 by replacing 29 from List.\n",
    "            \n",
    "            return 0\n",
    "        \n",
    "        mid = (ub+lb)//2\n",
    "        \n",
    "        devide(arr, lb, mid, partition=\"left\", level )  # for left partition\n",
    "     \n",
    "        devide(arr, mid, ub, partition=\"right\",level) # for right partition.\n",
    "        \n",
    "        print(arr[lb:ub], \"<--------------------------\", partition, '------', level)\n",
    "        \n",
    "        "
   ]
  },
  {
   "cell_type": "code",
   "execution_count": 48,
   "id": "cf8a96e1-66b1-490a-817b-bd3bbaa96c34",
   "metadata": {},
   "outputs": [
    {
     "data": {
      "text/plain": [
       "[1, 3, 5, 7, 9, 11, 13, 15, 17, 19, 21, 23, 25, 27, 29]"
      ]
     },
     "execution_count": 48,
     "metadata": {},
     "output_type": "execute_result"
    }
   ],
   "source": [
    "List"
   ]
  },
  {
   "cell_type": "code",
   "execution_count": 49,
   "id": "a0825afd-3bfa-44e8-bf4e-6c723c5f948f",
   "metadata": {},
   "outputs": [
    {
     "name": "stdout",
     "output_type": "stream",
     "text": [
      "[1]\n",
      "[3]\n",
      "[5]\n",
      "[3, 5] <-------------------------- right\n",
      "[1, 3, 5] <-------------------------- left\n",
      "[7]\n",
      "[9]\n",
      "[7, 9] <-------------------------- left\n",
      "[11]\n",
      "[13]\n",
      "[11, 13] <-------------------------- right\n",
      "[7, 9, 11, 13] <-------------------------- right\n",
      "[1, 3, 5, 7, 9, 11, 13] <-------------------------- left\n",
      "[15]\n",
      "[17]\n",
      "[15, 17] <-------------------------- left\n",
      "[19]\n",
      "[21]\n",
      "[19, 21] <-------------------------- right\n",
      "[15, 17, 19, 21] <-------------------------- left\n",
      "[23]\n",
      "[25]\n",
      "[23, 25] <-------------------------- left\n",
      "[27]\n",
      "[29]\n",
      "[27, 1000] <-------------------------- right\n",
      "[23, 25, 27, 1000] <-------------------------- right\n",
      "[15, 17, 19, 21, 23, 25, 27, 1000] <-------------------------- right\n",
      "[1, 3, 5, 7, 9, 11, 13, 15, 17, 19, 21, 23, 25, 27, 1000] <-------------------------- Initial\n"
     ]
    },
    {
     "data": {
      "text/plain": [
       "[1, 3, 5, 7, 9, 11, 13, 15, 17, 19, 21, 23, 25, 27, 1000]"
      ]
     },
     "execution_count": 49,
     "metadata": {},
     "output_type": "execute_result"
    }
   ],
   "source": [
    "devide(List, 0, len(List))\n",
    "List"
   ]
  },
  {
   "cell_type": "code",
   "execution_count": 8,
   "id": "233a8709-5b61-4829-bca7-2d57c2016430",
   "metadata": {},
   "outputs": [
    {
     "data": {
      "text/plain": [
       "15"
      ]
     },
     "execution_count": 8,
     "metadata": {},
     "output_type": "execute_result"
    }
   ],
   "source": [
    "len(List)"
   ]
  },
  {
   "cell_type": "code",
   "execution_count": 21,
   "id": "610cbd18-a1b8-4c4e-b00b-66a81d1600a0",
   "metadata": {},
   "outputs": [
    {
     "data": {
      "text/plain": [
       "[1, 3, 5, 7, 9, 11, 13, 15, 17, 19, 21, 23, 25, 27, 100]"
      ]
     },
     "execution_count": 21,
     "metadata": {},
     "output_type": "execute_result"
    }
   ],
   "source": [
    "List"
   ]
  },
  {
   "cell_type": "code",
   "execution_count": 25,
   "id": "36c118e3-2fdc-4fc4-9baf-2ce752511834",
   "metadata": {},
   "outputs": [
    {
     "data": {
      "text/plain": [
       "15"
      ]
     },
     "execution_count": 25,
     "metadata": {},
     "output_type": "execute_result"
    }
   ],
   "source": [
    "len(List)"
   ]
  },
  {
   "cell_type": "code",
   "execution_count": 28,
   "id": "3b3328f9-5603-4d6c-ac0f-713f0388aa21",
   "metadata": {},
   "outputs": [
    {
     "data": {
      "text/plain": [
       "[29]"
      ]
     },
     "execution_count": 28,
     "metadata": {},
     "output_type": "execute_result"
    }
   ],
   "source": [
    "List[14:15]"
   ]
  },
  {
   "cell_type": "code",
   "execution_count": 29,
   "id": "52a92786-9abf-4db9-b3e6-169f57900266",
   "metadata": {},
   "outputs": [
    {
     "data": {
      "text/plain": [
       "2175685657024"
      ]
     },
     "execution_count": 29,
     "metadata": {},
     "output_type": "execute_result"
    }
   ],
   "source": [
    "id(List)"
   ]
  },
  {
   "cell_type": "code",
   "execution_count": 30,
   "id": "bd393866-cff9-4149-870e-2988fbfb2600",
   "metadata": {},
   "outputs": [
    {
     "data": {
      "text/plain": [
       "2175685780096"
      ]
     },
     "execution_count": 30,
     "metadata": {},
     "output_type": "execute_result"
    }
   ],
   "source": [
    "id(List[14:15])"
   ]
  },
  {
   "cell_type": "code",
   "execution_count": 32,
   "id": "ebb6a11c-2821-405c-86bc-9178eef19199",
   "metadata": {},
   "outputs": [],
   "source": [
    "List[14:15] = [10]"
   ]
  },
  {
   "cell_type": "code",
   "execution_count": 33,
   "id": "082aebd0-6f53-4048-8c5c-354f699d3bb8",
   "metadata": {},
   "outputs": [
    {
     "data": {
      "text/plain": [
       "[1, 3, 5, 7, 9, 11, 13, 15, 17, 19, 21, 23, 25, 27, 10]"
      ]
     },
     "execution_count": 33,
     "metadata": {},
     "output_type": "execute_result"
    }
   ],
   "source": [
    "List"
   ]
  },
  {
   "cell_type": "code",
   "execution_count": 34,
   "id": "1b44a6bd-439b-46d6-a06a-15f5fc712fe4",
   "metadata": {},
   "outputs": [
    {
     "data": {
      "text/plain": [
       "[1, 3, 5, 7, 9, 11, 13, 15, 17, 19, 21, 23, 25, 27, 10]"
      ]
     },
     "execution_count": 34,
     "metadata": {},
     "output_type": "execute_result"
    }
   ],
   "source": [
    "List"
   ]
  },
  {
   "cell_type": "code",
   "execution_count": 35,
   "id": "49f4c405-82a5-4e0c-bf5e-19bb01c346b2",
   "metadata": {},
   "outputs": [
    {
     "data": {
      "text/plain": [
       "[10]"
      ]
     },
     "execution_count": 35,
     "metadata": {},
     "output_type": "execute_result"
    }
   ],
   "source": [
    "List[14:15]"
   ]
  },
  {
   "cell_type": "code",
   "execution_count": 37,
   "id": "6824d302-979f-4a84-8772-a0f8a421dd7d",
   "metadata": {},
   "outputs": [
    {
     "data": {
      "text/plain": [
       "10"
      ]
     },
     "execution_count": 37,
     "metadata": {},
     "output_type": "execute_result"
    }
   ],
   "source": [
    "List[14]"
   ]
  },
  {
   "cell_type": "code",
   "execution_count": null,
   "id": "47d7b277-2ba7-4d2f-b341-50982b44661f",
   "metadata": {},
   "outputs": [],
   "source": []
  }
 ],
 "metadata": {
  "kernelspec": {
   "display_name": "Python 3 (ipykernel)",
   "language": "python",
   "name": "python3"
  },
  "language_info": {
   "codemirror_mode": {
    "name": "ipython",
    "version": 3
   },
   "file_extension": ".py",
   "mimetype": "text/x-python",
   "name": "python",
   "nbconvert_exporter": "python",
   "pygments_lexer": "ipython3",
   "version": "3.8.3"
  }
 },
 "nbformat": 4,
 "nbformat_minor": 5
}
