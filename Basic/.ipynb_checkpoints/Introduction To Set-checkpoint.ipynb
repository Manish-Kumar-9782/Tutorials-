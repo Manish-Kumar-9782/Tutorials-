{
 "cells": [
  {
   "cell_type": "markdown",
   "id": "196816dd-c1e5-4c9c-930d-3574cf20a485",
   "metadata": {},
   "source": [
    "# Sets in Python"
   ]
  },
  {
   "cell_type": "markdown",
   "id": "e8c2c428-f4c7-4415-9225-fc9a4af6ce3b",
   "metadata": {},
   "source": [
    "We have built-in data type as set in python which is more powerfull to work with mathematical/ statististical in scientific computation.\n",
    "\n",
    "A Set is an unordered collection data type taht is iterable, mutable and has no duplicate elements."
   ]
  },
  {
   "cell_type": "markdown",
   "id": "9ca0aa2d-fa01-4d4d-b679-c14179b1f913",
   "metadata": {},
   "source": [
    "`Set is define in {}`"
   ]
  },
  {
   "cell_type": "markdown",
   "id": "6886387f-5f7a-4099-a087-2511da7d883b",
   "metadata": {},
   "source": [
    "**Advantage of Using Sets**\n",
    "\n",
    "The major advantage of using a set, is that it has a higly optimized method for checking whether a specific element is contained in the set. This is based on a data structure as a hash table.\n",
    "\n",
    "* Sets are unordered, we cannot access items using indexes.\n",
    "\n",
    "* set() ---> it return the empty set \n",
    "* set(iterable)--> it return a set with unique values."
   ]
  },
  {
   "cell_type": "markdown",
   "id": "d5c82e96-72a2-4aaa-ba0d-38e242351070",
   "metadata": {},
   "source": [
    "## 1. Creating a set"
   ]
  },
  {
   "cell_type": "markdown",
   "id": "66606e45-136f-48d6-9264-b935a9ba2ea8",
   "metadata": {},
   "source": [
    "Now first of all we will see that how to create a set. We can create a set by passing values in a curly braces separated by comma.\n",
    "\n",
    "like `{'a', 'c', 'd'}`"
   ]
  },
  {
   "cell_type": "markdown",
   "id": "1249f2e2-c68b-4c99-b8fd-b55bd941c388",
   "metadata": {},
   "source": [
    "### 1.1 Creating a set by passing values.\n",
    "we can create a set by passing values in b/w the curly braces `{....}` and assign it to variable."
   ]
  },
  {
   "cell_type": "code",
   "execution_count": 1,
   "id": "c2699c8b-38d0-47b4-8807-455b41c1656e",
   "metadata": {},
   "outputs": [],
   "source": [
    "# in this we will pass the valus in b/w the curly braces.\n",
    "\n",
    "set1 = {'a', 'b', 'c', 'd'}\n",
    "set2 = {'A', 'B', 'C', 'D'}"
   ]
  },
  {
   "cell_type": "markdown",
   "id": "6ee594f1-d614-40af-a54b-c1366b2220ad",
   "metadata": {},
   "source": [
    "if we check the type of set1 and set2."
   ]
  },
  {
   "cell_type": "code",
   "execution_count": 2,
   "id": "65b8c15d-f3b3-4280-84df-e143cd2002e6",
   "metadata": {},
   "outputs": [
    {
     "name": "stdout",
     "output_type": "stream",
     "text": [
      "type of set1 :  <class 'set'>\n",
      "type of set2 :  <class 'set'>\n"
     ]
    }
   ],
   "source": [
    "print(\"type of set1 : \", type(set1))\n",
    "print(\"type of set2 : \", type(set2))"
   ]
  },
  {
   "cell_type": "markdown",
   "id": "382cb958-da17-43fb-a8bf-557064eb70c4",
   "metadata": {},
   "source": [
    "As you can see that type of set1 and set2 is type of class set. \n",
    "\n",
    "We can create a set by other iterables like list, tuple or other iterable objects."
   ]
  },
  {
   "cell_type": "markdown",
   "id": "700344f4-c016-43d2-abcc-1096f38315ee",
   "metadata": {},
   "source": [
    "### 1.2 Creating a list by passing iterable.\n",
    "\n",
    "`Iterable:` An iterable is any python object capable of returning its memeber one at a time, permitting it to be iterated over in a for-loop.\n"
   ]
  },
  {
   "cell_type": "code",
   "execution_count": 3,
   "id": "37066069-6065-4633-af81-b14bd35c378e",
   "metadata": {},
   "outputs": [
    {
     "name": "stdout",
     "output_type": "stream",
     "text": [
      "type of the set3:  <class 'set'>\n"
     ]
    }
   ],
   "source": [
    "# Now first of all we will create a list from that we will create the set\n",
    "List1 = ['a', 'b', 'c', 'd']\n",
    "\n",
    "# Now we need to use the set(iterable) buit-in function to convert it into a set\n",
    "set3 = set(List1)\n",
    "\n",
    "# Now we have the set3 as a class set object, if we check it's type\n",
    "print(\"type of the set3: \", type(set3))"
   ]
  },
  {
   "cell_type": "markdown",
   "id": "375c660d-5e27-4fbd-ae29-ae5b9c455900",
   "metadata": {},
   "source": [
    "### 1.3 Creating an empty set\n",
    "\n",
    "We can create an empty set by using the `set()` with no argument. it will create an empty set."
   ]
  },
  {
   "cell_type": "code",
   "execution_count": 4,
   "id": "56a28269-7c67-4bfc-aefb-0ce811a8dbd2",
   "metadata": {},
   "outputs": [
    {
     "name": "stdout",
     "output_type": "stream",
     "text": [
      "type of set4 :  <class 'set'>\n"
     ]
    }
   ],
   "source": [
    "# creating an empty set.\n",
    "set4 = set() # this is an emtpy set\n",
    "\n",
    "# if we want to check the type of set4\n",
    "print(\"type of set4 : \", type(set4))"
   ]
  },
  {
   "cell_type": "markdown",
   "id": "0855767f-6444-47d2-b28c-d5366fcfd226",
   "metadata": {},
   "source": [
    "We can add items in a this set by using the add() method.\n",
    "\n",
    "**Note:** if we try to make an empty set with blank curly braces then it will create a dict object not set object.\n",
    "\n",
    "To create an empty object only use set() method."
   ]
  },
  {
   "cell_type": "code",
   "execution_count": 21,
   "id": "d07e00a7-8722-46c4-8bd6-6946942f9537",
   "metadata": {},
   "outputs": [
    {
     "name": "stdout",
     "output_type": "stream",
     "text": [
      "type of empty_set :  <class 'dict'>\n"
     ]
    }
   ],
   "source": [
    "# if we try to create \n",
    "empty_set = {} ## this will aslo create an empty set.\n",
    "# empty_set is dict object\n",
    "print(\"type of empty_set : \", type(empty_set))"
   ]
  },
  {
   "cell_type": "markdown",
   "id": "507030b7-5191-4f80-8964-49560d5709ef",
   "metadata": {},
   "source": [
    "___"
   ]
  },
  {
   "cell_type": "markdown",
   "id": "61596168-6f94-4d19-8c0c-6d193039275a",
   "metadata": {},
   "source": [
    "**Adding items to empty set by using the add() method.**"
   ]
  },
  {
   "cell_type": "code",
   "execution_count": 8,
   "id": "dfe03f01-3458-40bd-8717-e2932b90bdf6",
   "metadata": {},
   "outputs": [
    {
     "name": "stdout",
     "output_type": "stream",
     "text": [
      "Help on method_descriptor:\n",
      "\n",
      "add(...)\n",
      "    Add an element to a set.\n",
      "    \n",
      "    This has no effect if the element is already present.\n",
      "\n"
     ]
    }
   ],
   "source": [
    "help(set.add)"
   ]
  },
  {
   "cell_type": "code",
   "execution_count": 9,
   "id": "7fdf4128-2025-4fc0-b2a2-f96ca19bc81e",
   "metadata": {},
   "outputs": [],
   "source": [
    "# now we will use the add method.\n",
    "set4.add(4)  # this will take a single items at at time"
   ]
  },
  {
   "cell_type": "markdown",
   "id": "872fe52c-944d-4354-946e-4ce12d9fa7ba",
   "metadata": {},
   "source": [
    "Note: add method will not accept the unhashable type object."
   ]
  },
  {
   "cell_type": "markdown",
   "id": "b2c9a2bc-081d-4f71-8221-25a3b1eab6fd",
   "metadata": {},
   "source": [
    "### 1.4 A Set with mixed datatype\n",
    "\n",
    "A set may support the multiple datatypes as item if they are hashable, if an item is not hasable then it will raise an error.\n",
    "\n",
    "* it will accept immutable object \n",
    "* it will not accept mutable object"
   ]
  },
  {
   "cell_type": "markdown",
   "id": "f7004ad6-9158-4a2e-a5cf-a74085b503fd",
   "metadata": {},
   "source": [
    "**Set with immutable items**\n",
    "\n",
    "First we will make a set with the immutable items.\n",
    "\n",
    "`Immutable Objects:` These are of in-built types like int, float, bool, string, unicode, tuple."
   ]
  },
  {
   "cell_type": "code",
   "execution_count": 16,
   "id": "bcf2d386-ce0c-4c68-a712-6a211739f584",
   "metadata": {},
   "outputs": [],
   "source": [
    "set5 = {1, 1.8, True, \"hello\", (1,2,3)}"
   ]
  },
  {
   "cell_type": "code",
   "execution_count": 17,
   "id": "d9cedf11-e15d-4927-94be-b9dfeaae703b",
   "metadata": {},
   "outputs": [
    {
     "data": {
      "text/plain": [
       "{(1, 2, 3), 1, 1.8, 'hello'}"
      ]
     },
     "execution_count": 17,
     "metadata": {},
     "output_type": "execute_result"
    }
   ],
   "source": [
    "set5"
   ]
  },
  {
   "cell_type": "markdown",
   "id": "42e4758e-8631-4d16-9dfe-e8f16834699d",
   "metadata": {},
   "source": [
    "As you can see that we have made a set with multiple data type. in which all the data types are immutable.\n",
    "\n",
    "if we try to add any mutable object like list we will get `TypeError`."
   ]
  },
  {
   "cell_type": "markdown",
   "id": "77cc824f-a9d4-49ef-ba32-e54ab74dc9ba",
   "metadata": {},
   "source": [
    "**Trying to add mutable items**"
   ]
  },
  {
   "cell_type": "code",
   "execution_count": 18,
   "id": "d7073b0b-bb8b-4532-97fa-875d18d91616",
   "metadata": {},
   "outputs": [
    {
     "ename": "TypeError",
     "evalue": "unhashable type: 'list'",
     "output_type": "error",
     "traceback": [
      "\u001b[1;31m---------------------------------------------------------------------------\u001b[0m",
      "\u001b[1;31mTypeError\u001b[0m                                 Traceback (most recent call last)",
      "Input \u001b[1;32mIn [18]\u001b[0m, in \u001b[0;36m<cell line: 2>\u001b[1;34m()\u001b[0m\n\u001b[0;32m      1\u001b[0m \u001b[38;5;66;03m# Now if we try to add mutable object in set\u001b[39;00m\n\u001b[1;32m----> 2\u001b[0m \u001b[43mset5\u001b[49m\u001b[38;5;241;43m.\u001b[39;49m\u001b[43madd\u001b[49m\u001b[43m(\u001b[49m\u001b[43m[\u001b[49m\u001b[38;5;241;43m1\u001b[39;49m\u001b[43m,\u001b[49m\u001b[38;5;241;43m2\u001b[39;49m\u001b[43m,\u001b[49m\u001b[38;5;241;43m3\u001b[39;49m\u001b[43m]\u001b[49m\u001b[43m)\u001b[49m\n",
      "\u001b[1;31mTypeError\u001b[0m: unhashable type: 'list'"
     ]
    }
   ],
   "source": [
    "# Now if we try to add mutable object in set\n",
    "set5.add([1,2,3])"
   ]
  },
  {
   "cell_type": "markdown",
   "id": "fb50a8cd-7975-4224-8e3c-d3520275ea01",
   "metadata": {},
   "source": [
    "As you can see that we have an error while trying to add an mutable object.\n",
    "\n",
    "* it says that it need a hashable object and list is not hashable object."
   ]
  }
 ],
 "metadata": {
  "kernelspec": {
   "display_name": "Python 3 (ipykernel)",
   "language": "python",
   "name": "python3"
  },
  "language_info": {
   "codemirror_mode": {
    "name": "ipython",
    "version": 3
   },
   "file_extension": ".py",
   "mimetype": "text/x-python",
   "name": "python",
   "nbconvert_exporter": "python",
   "pygments_lexer": "ipython3",
   "version": "3.8.3"
  }
 },
 "nbformat": 4,
 "nbformat_minor": 5
}
