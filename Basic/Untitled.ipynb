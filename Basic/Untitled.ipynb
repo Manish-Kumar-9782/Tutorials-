{
 "cells": [
  {
   "cell_type": "code",
   "execution_count": 1,
   "id": "4fadd9b0-93f4-4a35-a97d-f0b7a5246e9a",
   "metadata": {},
   "outputs": [
    {
     "name": "stdout",
     "output_type": "stream",
     "text": [
      "Hello world\n"
     ]
    }
   ],
   "source": [
    "print(\"Hello world\")"
   ]
  },
  {
   "cell_type": "code",
   "execution_count": 2,
   "id": "e9d3210d-6a6a-4c34-bf48-fb230ea42267",
   "metadata": {},
   "outputs": [
    {
     "name": "stdin",
     "output_type": "stream",
     "text": [
      "Enter your name manish\n"
     ]
    },
    {
     "name": "stdout",
     "output_type": "stream",
     "text": [
      "Hello manish, how are you.\n"
     ]
    }
   ],
   "source": [
    "name = input(\"Enter your name\")\n",
    "print(f\"Hello {name}, how are you.\")"
   ]
  },
  {
   "cell_type": "markdown",
   "id": "2f7be1cb-a633-4657-b301-f1225862bc58",
   "metadata": {},
   "source": [
    "string"
   ]
  },
  {
   "cell_type": "code",
   "execution_count": 3,
   "id": "3b5c11f6-c237-41c0-9687-e9bff0c350b5",
   "metadata": {},
   "outputs": [
    {
     "data": {
      "text/plain": [
       "''"
      ]
     },
     "execution_count": 3,
     "metadata": {},
     "output_type": "execute_result"
    }
   ],
   "source": [
    "'' \"\" \"\"\"\"\"\" "
   ]
  },
  {
   "cell_type": "code",
   "execution_count": 4,
   "id": "c0dac0f5-eea1-4e2e-a6f1-f6e9b20ff87c",
   "metadata": {},
   "outputs": [
    {
     "data": {
      "text/plain": [
       "14"
      ]
     },
     "execution_count": 4,
     "metadata": {},
     "output_type": "execute_result"
    }
   ],
   "source": [
    "6 + 8"
   ]
  },
  {
   "cell_type": "code",
   "execution_count": 5,
   "id": "15af7ad8-5bba-4e28-a3f0-2be342d38105",
   "metadata": {},
   "outputs": [
    {
     "data": {
      "text/plain": [
       "'68'"
      ]
     },
     "execution_count": 5,
     "metadata": {},
     "output_type": "execute_result"
    }
   ],
   "source": [
    "\"6\"+\"8\""
   ]
  },
  {
   "cell_type": "code",
   "execution_count": 6,
   "id": "802adc14-eabc-4871-8ce7-98df5cc38f5f",
   "metadata": {},
   "outputs": [
    {
     "data": {
      "text/plain": [
       "\"Manish's father name is ....\""
      ]
     },
     "execution_count": 6,
     "metadata": {},
     "output_type": "execute_result"
    }
   ],
   "source": [
    "\"Manish's father name is ....\""
   ]
  },
  {
   "cell_type": "code",
   "execution_count": 7,
   "id": "9014f894-7664-4890-bddc-e4401e64f777",
   "metadata": {},
   "outputs": [
    {
     "data": {
      "text/plain": [
       "'ManishKumar'"
      ]
     },
     "execution_count": 7,
     "metadata": {},
     "output_type": "execute_result"
    }
   ],
   "source": [
    "\"Manish\" + \"Kumar\""
   ]
  },
  {
   "cell_type": "code",
   "execution_count": null,
   "id": "1669233e-93a7-4047-94be-df84082c8abc",
   "metadata": {},
   "outputs": [],
   "source": []
  }
 ],
 "metadata": {
  "kernelspec": {
   "display_name": "Python 3 (ipykernel)",
   "language": "python",
   "name": "python3"
  },
  "language_info": {
   "codemirror_mode": {
    "name": "ipython",
    "version": 3
   },
   "file_extension": ".py",
   "mimetype": "text/x-python",
   "name": "python",
   "nbconvert_exporter": "python",
   "pygments_lexer": "ipython3",
   "version": "3.10.5"
  }
 },
 "nbformat": 4,
 "nbformat_minor": 5
}
