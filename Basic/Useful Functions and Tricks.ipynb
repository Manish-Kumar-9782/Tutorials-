{
 "cells": [
  {
   "cell_type": "markdown",
   "id": "apparent-saint",
   "metadata": {},
   "source": [
    "# List Comprehensions\n",
    "\n",
    "Comprehension is a power full trick when it comes to the short code and compution with large data with a simple logic. comprehension is done only in single line we don't need to define any function for that perticular task and we dont make it to return just do it in a single line.\n",
    "\n",
    "* like we have a list and we want to canculate the square of these Then what is the old method.\n",
    "\n",
    "```ruby\n",
    "List = [1,2,3,4,5,6,7,8,9]\n",
    "\n",
    "def square (a):\n",
    "    \n",
    "    return a*a\n",
    "```\n",
    "\n",
    "* if we want to create a list of number with a range of (1,100) then we might use the old method like\n",
    "\n",
    "```ruby\n",
    "\n",
    "def ListRange():\n",
    "    List = []\n",
    "    for i in range(1,100):\n",
    "            List.append(i)\n",
    "    return List\n",
    "        \n",
    "````\n",
    "But both of above task can be done in single line with list comprehension."
   ]
  },
  {
   "cell_type": "code",
   "execution_count": 7,
   "id": "tender-fashion",
   "metadata": {},
   "outputs": [
    {
     "name": "stdout",
     "output_type": "stream",
     "text": [
      "[1, 4, 9, 16, 25, 36, 49, 64, 81]\n"
     ]
    }
   ],
   "source": [
    "# first task to make the square of the every Element of the List\n",
    "List = [1,2,3,4,5,6,7,8,9]\n",
    "\n",
    "squarelist = [i**2 for i in List]\n",
    "print(squarelist)"
   ]
  },
  {
   "cell_type": "code",
   "execution_count": 8,
   "id": "bearing-bracelet",
   "metadata": {},
   "outputs": [
    {
     "name": "stdout",
     "output_type": "stream",
     "text": [
      "[1, 2, 3, 4, 5, 6, 7, 8, 9, 10, 11, 12, 13, 14, 15, 16, 17, 18, 19, 20, 21, 22, 23, 24, 25, 26, 27, 28, 29, 30, 31, 32, 33, 34, 35, 36, 37, 38, 39, 40, 41, 42, 43, 44, 45, 46, 47, 48, 49, 50, 51, 52, 53, 54, 55, 56, 57, 58, 59, 60, 61, 62, 63, 64, 65, 66, 67, 68, 69, 70, 71, 72, 73, 74, 75, 76, 77, 78, 79, 80, 81, 82, 83, 84, 85, 86, 87, 88, 89, 90, 91, 92, 93, 94, 95, 96, 97, 98, 99]\n"
     ]
    }
   ],
   "source": [
    "# Second task to make the list which conatain the all number in range of (1,00)\n",
    "\n",
    "numbers = [i for i in range(1,100)]\n",
    "print(numbers)"
   ]
  },
  {
   "cell_type": "markdown",
   "id": "mighty-teens",
   "metadata": {},
   "source": [
    "As you can see that many problem which conatins ony one or two loops and have a few condition can be solved by using the comprehension method. this increase the producity of the program and also look pretty and easy to read.\n",
    "\n",
    "Now we will see anoter example of the list comprehension which is used many time in the numpy which is flatting the array.\n",
    "\n",
    "Suppose that we an array or the list and this list alos contains the sublist like this.\n",
    "\n",
    "```ruby\n",
    "my_list = [[1,2],[3,4],[5,6],[7,8]]\n",
    "```\n",
    "\n",
    "Now wee need to flatten the list. we will see the both way to do it."
   ]
  },
  {
   "cell_type": "markdown",
   "id": "grave-basement",
   "metadata": {},
   "source": [
    "**General method**"
   ]
  },
  {
   "cell_type": "code",
   "execution_count": 10,
   "id": "promising-happening",
   "metadata": {},
   "outputs": [
    {
     "data": {
      "text/plain": [
       "[1, 2, 3, 4, 5, 6, 7, 8]"
      ]
     },
     "execution_count": 10,
     "metadata": {},
     "output_type": "execute_result"
    }
   ],
   "source": [
    "def flatten(array):\n",
    "    \n",
    "    flatten_array = []\n",
    "    for i in array:\n",
    "        for j in i:\n",
    "            flatten_array.append(j)\n",
    "    return flatten_array\n",
    "\n",
    "my_list = [[1,2],[3,4],[5,6],[7,8]] \n",
    "\n",
    "flatten(my_list)"
   ]
  },
  {
   "cell_type": "markdown",
   "id": "narrow-ability",
   "metadata": {},
   "source": [
    "**List Comprehension way**"
   ]
  },
  {
   "cell_type": "code",
   "execution_count": 14,
   "id": "early-costa",
   "metadata": {},
   "outputs": [
    {
     "name": "stdout",
     "output_type": "stream",
     "text": [
      "[1, 2, 3, 4, 5, 6, 7, 8]\n"
     ]
    }
   ],
   "source": [
    "my_list = [[1,2],[3,4],[5,6],[7,8]] \n",
    "\n",
    "flatten_array = [j for i in my_list for j in i]\n",
    "\n",
    "print(flatten_array)"
   ]
  },
  {
   "cell_type": "markdown",
   "id": "behind-timeline",
   "metadata": {},
   "source": [
    "To understand the above code we will seperate this into three part.\n",
    "\n",
    "* first part is the out put part which is `j`\n",
    "* Second part is for accessing the outer list element which is `for i in my_list`.\n",
    "* Third part is for accessing the every element from the inner list which is `for j in i`\n",
    "\n",
    "This can be explaned in this manner that we have a list which have the sublist inside it and we need to access them and put them in a new list right.\n",
    "\n",
    "```ruby\n",
    "[j for i in my_list for j in i]\n",
    "```\n",
    "\n",
    "So, in above code first of all we are accessing the `my_list` and the result of this element is holded by variable `i` now variable `i` also holds something, but in this case case `i` holds anoter list which is 'inner' list now we also need to access the element from that list also we call another for loop after first one `for j in i` in this we are accessing the values from `i` and the result is holded by the `j` variable which is the final result. now this variable is put at very first postion in the comprehsion because it is the output whcih is required. "
   ]
  },
  {
   "cell_type": "markdown",
   "id": "ignored-ground",
   "metadata": {},
   "source": [
    "***"
   ]
  },
  {
   "cell_type": "markdown",
   "id": "living-brunei",
   "metadata": {},
   "source": [
    "# 1. Map Function\n",
    "\n",
    "```ruby\n",
    "map(func, *iterables) --> map object\n",
    "```\n",
    "map function takes two argument inside it. in which one is func which is noting but he function object itself and the another is iteralble it can be anything like tuple, list, array, series, Dataframe, Dictionary etc.\n",
    "\n",
    "```ruby\n",
    "func: it is the function object like any other function.\n",
    "iterabel: it the any iterabel object like list, array, dictionary and others.\n",
    "```\n",
    "\n",
    "First of all we will make a function which will be passed in the map function the will make some relation betweenn the function and the iterable object.\n",
    "\n",
    "So we will perform the map function on:\n",
    "1. List\n",
    "2. Tuple \n",
    "3. Dictionary"
   ]
  },
  {
   "cell_type": "code",
   "execution_count": 1,
   "id": "adapted-madonna",
   "metadata": {},
   "outputs": [],
   "source": [
    "# this is squre function which will return the square of the every item of the list\n",
    "\n",
    "List = [1,2,3,4,5,6,7,8,9]\n",
    "\n",
    "def square (a):\n",
    "    # It takes only the interger value \n",
    "    return a*a\n",
    "# Note: note that this function does not take any kind of iterable object and does not make any for loop \n",
    "# it simply takes the single argument and return it's square. Let's check it."
   ]
  },
  {
   "cell_type": "markdown",
   "id": "criminal-glucose",
   "metadata": {},
   "source": [
    "Now if we test this function it will take a single value and return its square. "
   ]
  },
  {
   "cell_type": "code",
   "execution_count": 2,
   "id": "adjustable-photograph",
   "metadata": {},
   "outputs": [
    {
     "ename": "TypeError",
     "evalue": "can't multiply sequence by non-int of type 'list'",
     "output_type": "error",
     "traceback": [
      "\u001b[1;31m---------------------------------------------------------------------------\u001b[0m",
      "\u001b[1;31mTypeError\u001b[0m                                 Traceback (most recent call last)",
      "\u001b[1;32m<ipython-input-2-d28cab0821fd>\u001b[0m in \u001b[0;36m<module>\u001b[1;34m\u001b[0m\n\u001b[1;32m----> 1\u001b[1;33m \u001b[0msquare\u001b[0m\u001b[1;33m(\u001b[0m\u001b[0mList\u001b[0m\u001b[1;33m)\u001b[0m\u001b[1;33m\u001b[0m\u001b[1;33m\u001b[0m\u001b[0m\n\u001b[0m",
      "\u001b[1;32m<ipython-input-1-191c93d69b90>\u001b[0m in \u001b[0;36msquare\u001b[1;34m(a)\u001b[0m\n\u001b[0;32m      5\u001b[0m \u001b[1;32mdef\u001b[0m \u001b[0msquare\u001b[0m \u001b[1;33m(\u001b[0m\u001b[0ma\u001b[0m\u001b[1;33m)\u001b[0m\u001b[1;33m:\u001b[0m\u001b[1;33m\u001b[0m\u001b[1;33m\u001b[0m\u001b[0m\n\u001b[0;32m      6\u001b[0m \u001b[1;33m\u001b[0m\u001b[0m\n\u001b[1;32m----> 7\u001b[1;33m     \u001b[1;32mreturn\u001b[0m \u001b[0ma\u001b[0m\u001b[1;33m*\u001b[0m\u001b[0ma\u001b[0m\u001b[1;33m\u001b[0m\u001b[1;33m\u001b[0m\u001b[0m\n\u001b[0m\u001b[0;32m      8\u001b[0m \u001b[1;31m# Note: note that this function does not take any kind of iterable object and does not make any for loop\u001b[0m\u001b[1;33m\u001b[0m\u001b[1;33m\u001b[0m\u001b[1;33m\u001b[0m\u001b[0m\n\u001b[0;32m      9\u001b[0m \u001b[1;31m# it simply takes the single argument and return it's square. Let's check it.\u001b[0m\u001b[1;33m\u001b[0m\u001b[1;33m\u001b[0m\u001b[1;33m\u001b[0m\u001b[0m\n",
      "\u001b[1;31mTypeError\u001b[0m: can't multiply sequence by non-int of type 'list'"
     ]
    }
   ],
   "source": [
    "square(List)"
   ]
  },
  {
   "cell_type": "markdown",
   "id": "hawaiian-charm",
   "metadata": {},
   "source": [
    "In above output we can see that this error comes because the square function does not take any kind of iterable or you can say that it does not take anything except a single integer value."
   ]
  },
  {
   "cell_type": "code",
   "execution_count": 3,
   "id": "wired-advance",
   "metadata": {},
   "outputs": [
    {
     "data": {
      "text/plain": [
       "4"
      ]
     },
     "execution_count": 3,
     "metadata": {},
     "output_type": "execute_result"
    }
   ],
   "source": [
    "square(2)"
   ]
  },
  {
   "cell_type": "markdown",
   "id": "flexible-gross",
   "metadata": {},
   "source": [
    "**Applying the map function**"
   ]
  },
  {
   "cell_type": "markdown",
   "id": "demanding-extraction",
   "metadata": {},
   "source": [
    " Now we have the funtion which will define the operation to the map function and we also have the iterable object.\n",
    " \n",
    " map function generally make the bridge to connect them by taking one value from the iterable from it and pass it \n",
    "to the function which is provided in the map function. "
   ]
  },
  {
   "cell_type": "code",
   "execution_count": 4,
   "id": "entertaining-february",
   "metadata": {},
   "outputs": [
    {
     "data": {
      "text/plain": [
       "<map at 0x2a2973ed040>"
      ]
     },
     "execution_count": 4,
     "metadata": {},
     "output_type": "execute_result"
    }
   ],
   "source": [
    "# now we defines the map function\n",
    "map(square,List)"
   ]
  },
  {
   "cell_type": "markdown",
   "id": "southwest-nylon",
   "metadata": {},
   "source": [
    "Now we have sme output but it doesn't seem the output like we desired this is something else becaues we needed the square of the every element of the List but this is something eles. It says that it is a map object at some location 0x2a2973ed040 in the memory.\n",
    "\n",
    "but don't worry we can access this map object by doing the type casting.\n",
    "```ruby\n",
    "squarelist = list(map(square, list))\n",
    "```\n",
    "This will convert the map into the list and this list would contain the all the values which are square of the List element."
   ]
  },
  {
   "cell_type": "code",
   "execution_count": 6,
   "id": "selective-marketing",
   "metadata": {},
   "outputs": [
    {
     "name": "stdout",
     "output_type": "stream",
     "text": [
      "[1, 4, 9, 16, 25, 36, 49, 64, 81]\n"
     ]
    }
   ],
   "source": [
    "squarelist = list(map(square, List))\n",
    "print(squarelist)"
   ]
  },
  {
   "cell_type": "markdown",
   "id": "cultural-apartment",
   "metadata": {},
   "source": [
    "Now we found the our desired result.\n",
    "\n",
    "Now we will try it by using the list comphrension."
   ]
  },
  {
   "cell_type": "code",
   "execution_count": 15,
   "id": "lined-daughter",
   "metadata": {},
   "outputs": [
    {
     "name": "stdout",
     "output_type": "stream",
     "text": [
      "[1, 4, 9, 16, 25, 36, 49, 64, 81]\n"
     ]
    }
   ],
   "source": [
    "squarelist = [i**2 for i in List]\n",
    "print(squarelist)"
   ]
  },
  {
   "cell_type": "markdown",
   "id": "continued-panama",
   "metadata": {},
   "source": [
    "As you can see that we have got the same result. both map function and the list comprehension has done same thing then what is the difference b/w them. Well as you can see the map function takes the function and iterable this function can take the complex defination of complex operation in it but the list comprehension does not takes that complexity.\n",
    "\n",
    "So, The motive to use map funtion and list comprehension.\n",
    "\n",
    "* `map funcion:` We should use map function where we have some complex algoritm with multiple condition.\n",
    "* `list comprehension:` We should use list comprehension where we don't have a complex algorithm and nither we have multiple conditions and the task can be done in one line then we should use the list comprehension.\n"
   ]
  },
  {
   "cell_type": "markdown",
   "id": "original-touch",
   "metadata": {},
   "source": [
    "***"
   ]
  },
  {
   "cell_type": "markdown",
   "id": "rubber-precipitation",
   "metadata": {},
   "source": [
    "# 2. Filter function\n",
    "\n",
    "filter funtion is similar to the map function because the argument of the map function and the filter function are same.\n",
    "\n",
    "The `filter()` method filters the given sequence with the help of a function that tests each element in the sequence to be true or not.\n",
    "\n",
    "```ruby\n",
    "filter(function or None, iterable) --> filter object\n",
    "```\n",
    "it takes a function and a iterabel object and the apply the operation.\n",
    "\n",
    "`When to use filter:` We use the filter when we need to select some element or data from the large amount of data, but to search this data we need to specify some condition and if the condition is satisfied them we get over result. it means filter that filter function works on the True and False if the condition is True then we get over result or else it returns False.  \n",
    "\n",
    "Now suppose that we have a list:\n",
    "\n",
    "```ruby\n",
    "[1, 4, 9, 16, 25, 36, 49, 64, 81]\n",
    "```\n",
    "we need to filter all the even and odd values from it, to do this we need to define that function because filter also take the funtion to perform the task.\n",
    "\n",
    "so we will make the function for the even and odd values.\n"
   ]
  },
  {
   "cell_type": "code",
   "execution_count": 20,
   "id": "square-istanbul",
   "metadata": {},
   "outputs": [],
   "source": [
    "List = [1, 4, 9, 16, 25, 36, 49, 64, 81]\n",
    "\n",
    "def even(a):\n",
    "    # descripion of this function\n",
    "    \n",
    "    # because filter funtion takes one element at a time so this function should also take one element \n",
    "    if a%2 == 0:\n",
    "        # a%2 == 0 this will check that a number is even or odd\n",
    "        return True\n",
    "    # if the number is even it will return the True else False\n",
    "    else: return False\n",
    "\n",
    "\n",
    "def odd(a):\n",
    "    if a%2 != 0:\n",
    "         # a%2 != 0 this will check that a number is even or odd\n",
    "        return True\n",
    "    # if the number is even it will return the True else False\n",
    "    else: return False\n",
    "    "
   ]
  },
  {
   "cell_type": "markdown",
   "id": "static-finnish",
   "metadata": {},
   "source": [
    "Now we will pass even and odd function inisde the filter function. "
   ]
  },
  {
   "cell_type": "code",
   "execution_count": 22,
   "id": "overall-sequence",
   "metadata": {},
   "outputs": [
    {
     "name": "stdout",
     "output_type": "stream",
     "text": [
      "Our main list is : [1, 4, 9, 16, 25, 36, 49, 64, 81]\n",
      "\n",
      "Even numbers are : [4, 16, 36, 64]\n",
      "\n",
      "Odd numbers are : [1, 9, 25, 49, 81]\n"
     ]
    }
   ],
   "source": [
    "print(\"Our main list is :\",List)\n",
    "print(\"\\nEven numbers are :\",list(filter(even,List)))\n",
    "print(\"\\nOdd numbers are :\",list(filter(odd,List)))"
   ]
  },
  {
   "cell_type": "markdown",
   "id": "external-english",
   "metadata": {},
   "source": [
    "As you can see that we got our result as we desired but there is a little confusion takes place that bith even and odd funtion does not return the values they just return `True` and `False`.\n",
    "\n",
    "`Note:`filter just takes the **True** and **False** from the function after that if the filter gets **True** then it will pass that value and add it to the list and if it gets the **False** then it will not retrun anything or pass that value."
   ]
  },
  {
   "cell_type": "markdown",
   "id": "supported-silence",
   "metadata": {},
   "source": [
    "***"
   ]
  },
  {
   "cell_type": "markdown",
   "id": "living-blond",
   "metadata": {},
   "source": [
    "# 3. Reduse Funtction\n",
    "\n",
    "The reduce(fun,seq) function is used to apply a particular function passed in its argument to all of the list elements mentioned in the sequence passed along.This function is defined in “functools” module.\n",
    "\n",
    "```ruby\n",
    "reduce(function, sequence[, initial]) -> value\n",
    "```\n",
    "\n",
    "`Working :` \n",
    "\n",
    "* At first step, first two elements of sequence are picked and the result is obtained.\n",
    "* Next step is to apply the same function to the previously attained result and the number just succeeding the second element and the result is again stored.\n",
    "* This process continues till no more elements are left in the container.\n",
    "* The final returned result is returned and printed on console."
   ]
  },
  {
   "cell_type": "code",
   "execution_count": 24,
   "id": "cooked-material",
   "metadata": {},
   "outputs": [],
   "source": [
    "# Since reduce function is found in the functools modoule so we need to import it.\n",
    "from functools import reduce"
   ]
  },
  {
   "cell_type": "markdown",
   "id": "sixth-ethics",
   "metadata": {},
   "source": [
    "To understand the working of the reduce funtion we will make a function which will do the same task as the reduce function"
   ]
  },
  {
   "cell_type": "code",
   "execution_count": 25,
   "id": "revised-chemistry",
   "metadata": {},
   "outputs": [
    {
     "name": "stdout",
     "output_type": "stream",
     "text": [
      "my_reduce funtions result is :  285\n"
     ]
    }
   ],
   "source": [
    "def my_reduce(List):\n",
    "    result = 0\n",
    "    # as the recuce function takes the iterble so we aslo take a iterable object.\n",
    "    for i in List:\n",
    "        # now it will iterate over every element\n",
    "        result +=i\n",
    "        # we are giving it the addition operation but in reduce funtion it return the result for the next calculation \n",
    "        # we will see the same result of form the reduce fucntion\n",
    "    return result\n",
    "\n",
    "List = [1, 4, 9, 16, 25, 36, 49, 64, 81]\n",
    "\n",
    "result = my_reduce(List)\n",
    "print(\"my_reduce funtions result is : \", result)"
   ]
  },
  {
   "cell_type": "code",
   "execution_count": 26,
   "id": "entire-england",
   "metadata": {},
   "outputs": [
    {
     "name": "stdout",
     "output_type": "stream",
     "text": [
      "reduce funtion result is: 285\n"
     ]
    }
   ],
   "source": [
    "# and now the result form the reduce funtion\n",
    "# but before that we need to make the funtion for that operation\n",
    "\n",
    "def task(a,b): return a+b\n",
    "\n",
    "result = reduce(task,List) #<-----------\n",
    "\n",
    "print(\"reduce funtion result is:\", result)"
   ]
  },
  {
   "cell_type": "markdown",
   "id": "lesbian-exposure",
   "metadata": {},
   "source": [
    "* As you can see that we have got the same result from both of the funtion.\n",
    "* Form both of these funtions you can understand that reduce function takes its result as the next input for further operations. "
   ]
  },
  {
   "cell_type": "markdown",
   "id": "usual-tract",
   "metadata": {},
   "source": [
    "# 4. lambda funtion\n",
    "\n",
    "`Note:` All of the above funtion can be done with the lambda funtion if over logic or condition are short and can be written in one line."
   ]
  },
  {
   "cell_type": "code",
   "execution_count": 28,
   "id": "precise-spokesman",
   "metadata": {},
   "outputs": [],
   "source": [
    "List = [1,2,3,4,5,6,7,8,9]\n",
    "\n",
    "# Now we have the list of some element \n",
    "# we will use lambda for the every above task "
   ]
  },
  {
   "cell_type": "markdown",
   "id": "virgin-friendly",
   "metadata": {},
   "source": [
    "**Task1:** find the square with the help of the list and map"
   ]
  },
  {
   "cell_type": "code",
   "execution_count": 30,
   "id": "collected-questionnaire",
   "metadata": {
    "scrolled": true,
    "tags": []
   },
   "outputs": [
    {
     "name": "stdout",
     "output_type": "stream",
     "text": [
      "square list: [1, 4, 9, 16, 25, 36, 49, 64, 81]\n"
     ]
    }
   ],
   "source": [
    "squarelist = list(map(lambda x: x**2, List))\n",
    "\n",
    "# IN this  lambda function takes one argument and return its square This will compute one element at a time.\n",
    "\n",
    "print(\"square list:\",squarelist)"
   ]
  },
  {
   "cell_type": "markdown",
   "id": "moral-bread",
   "metadata": {},
   "source": [
    "**Task2:** Find even and odd numvers from the squarelist"
   ]
  },
  {
   "cell_type": "code",
   "execution_count": 35,
   "id": "sophisticated-neighbor",
   "metadata": {},
   "outputs": [
    {
     "name": "stdout",
     "output_type": "stream",
     "text": [
      "Even numbers: [4, 16, 36, 64]\n",
      "\n",
      "Odd numbers: [1, 9, 25, 49, 81]\n"
     ]
    }
   ],
   "source": [
    "even = filter(lambda x: x%2 == 0, squarelist)\n",
    "\n",
    "# this will get the even number\n",
    "# in this above line we pass an element into the lambada funtion it check the it is even or odd.\n",
    "# if it is even then it wil pass that element ahead.\n",
    "\n",
    "odd  = filter(lambda x: x%2 != 0, squarelist)\n",
    "\n",
    "# odd is similar to the even, but in ths case we are checking for the odd number and passing it.\n",
    "\n",
    "print(\"Even numbers:\",list(even))\n",
    "print(\"\\nOdd numbers:\",list(odd))\n",
    " "
   ]
  },
  {
   "cell_type": "markdown",
   "id": "violent-scanner",
   "metadata": {},
   "source": [
    "**Task3:** Find the sum of the elemnts of the square list"
   ]
  },
  {
   "cell_type": "code",
   "execution_count": 38,
   "id": "marine-huntington",
   "metadata": {},
   "outputs": [
    {
     "name": "stdout",
     "output_type": "stream",
     "text": [
      "sum of the square list by using the in-built funtion sum:  285\n",
      "sum of the square list by using the reduce:  285\n"
     ]
    }
   ],
   "source": [
    "# sum of the squarelist can be found by using the sum() funtion\n",
    "\n",
    "sum1 = sum(squarelist)\n",
    "\n",
    "print(\"sum of the square list by using the in-built funtion sum: \",sum1)\n",
    "\n",
    "sum2 = reduce(lambda a,b: a+b, squarelist)\n",
    "\n",
    "print(\"sum of the square list by using the reduce: \",sum2)"
   ]
  },
  {
   "cell_type": "markdown",
   "id": "medium-allergy",
   "metadata": {},
   "source": [
    "**Task4:** Get the factorial of the n numbers."
   ]
  },
  {
   "cell_type": "code",
   "execution_count": 46,
   "id": "recreational-supplement",
   "metadata": {},
   "outputs": [
    {
     "name": "stdout",
     "output_type": "stream",
     "text": [
      "Please enter the number for factorial: 10\n",
      "factorial of 10 numbers: 3628800\n"
     ]
    }
   ],
   "source": [
    "# we can do this with with the help of the reduce funtion\n",
    "n = input(\"Please enter the number for factorial: \")\n",
    "\n",
    "factorial = reduce(lambda a,b: a*b, [i for i in range (1,int(n)+1) ])\n",
    "\n",
    "print(f\"factorial of {n} numbers: {factorial}\")"
   ]
  },
  {
   "cell_type": "code",
   "execution_count": null,
   "id": "suspended-builder",
   "metadata": {},
   "outputs": [],
   "source": []
  }
 ],
 "metadata": {
  "kernelspec": {
   "display_name": "Python 3 (ipykernel)",
   "language": "python",
   "name": "python3"
  },
  "language_info": {
   "codemirror_mode": {
    "name": "ipython",
    "version": 3
   },
   "file_extension": ".py",
   "mimetype": "text/x-python",
   "name": "python",
   "nbconvert_exporter": "python",
   "pygments_lexer": "ipython3",
   "version": "3.10.5"
  }
 },
 "nbformat": 4,
 "nbformat_minor": 5
}
