{
 "cells": [
  {
   "cell_type": "markdown",
   "id": "66dd88bc-c963-47a5-8c4f-6f681d56df94",
   "metadata": {},
   "source": [
    "## Set Modification\n",
    "\n",
    "Sets are mutable. However, since they are unordered, indexing has no meaning. \n",
    "\n",
    "We cannot access or change an element of a set using indexing or slicing. Set datatype does not support it.\n",
    "\n",
    "In this section we will see that how to modify a set object by it's memeber method."
   ]
  },
  {
   "cell_type": "markdown",
   "id": "3a2d3dd8-c259-4989-8ffe-0693f4d3f0c9",
   "metadata": {},
   "source": [
    "___"
   ]
  },
  {
   "cell_type": "markdown",
   "id": "4e2a1ca2-d714-4a03-9490-3f0a9caa6bf4",
   "metadata": {},
   "source": [
    "### 1. Members Methods to modify a set\n",
    "\n",
    "Set provides many methods to perfrom various kind of operation. from those set's methods we have some method to modify the set which are listed below.\n",
    "\n",
    "* `add():` Add an element to the set.\n",
    "* `clear():` Remove all the elements from the set.\n",
    "* `remove():` Remove an element from the set. if the element is not a member is not a membrer, raise a ***KeyError***.\n",
    "* `pop():` Remove and returns an arbitrary set element. Raise ***KeyError*** if the set is empty.\n",
    "* `update():` Update the set with the union of itself and others.\n",
    "\n",
    "\n",
    "`Note:` There are some other method to update a set like **intersection_update()**, **symmetric_difference_update()**, **difference_update()** but these method will be discussed with their own operations."
   ]
  },
  {
   "cell_type": "markdown",
   "id": "4ffc39bb-f64a-41bf-a2c9-768e62652414",
   "metadata": {},
   "source": [
    "___"
   ]
  },
  {
   "cell_type": "markdown",
   "id": "c88f3e88-bbb4-4067-9e75-c5ce1d912054",
   "metadata": {},
   "source": [
    "#### 1. add() Method\n",
    "\n",
    "Now we will make a new empty set and we will add some items in it.\n",
    "\n",
    "* it accept only immutable type of object.\n",
    "* it accept only one element at a time.\n",
    "* if you want to add multiple items then use update method."
   ]
  },
  {
   "cell_type": "code",
   "execution_count": 1,
   "id": "5c3afa27-1c0e-4380-9a8b-8c91b86c569f",
   "metadata": {},
   "outputs": [
    {
     "data": {
      "text/plain": [
       "set()"
      ]
     },
     "execution_count": 1,
     "metadata": {},
     "output_type": "execute_result"
    }
   ],
   "source": [
    "# creating an empty set\n",
    "set1 = set()  # gives emmpty set\n",
    "\n",
    "# inspecting set1\n",
    "set1"
   ]
  },
  {
   "cell_type": "markdown",
   "id": "b69c18d5-1604-4090-8943-c5f5c7d592f1",
   "metadata": {},
   "source": [
    "Now we will add some items in it. all the items will be immutable type."
   ]
  },
  {
   "cell_type": "code",
   "execution_count": 8,
   "id": "fbc38c99-e2e2-4fe9-b459-9a1e01ffa4ef",
   "metadata": {},
   "outputs": [
    {
     "data": {
      "text/plain": [
       "{(1, 2, 3), 19, 34.35, 'Hello'}"
      ]
     },
     "execution_count": 8,
     "metadata": {},
     "output_type": "execute_result"
    }
   ],
   "source": [
    "# adding an integer\n",
    "set1.add(19)\n",
    "\n",
    "# adding a float\n",
    "set1.add(34.35)\n",
    "\n",
    "# adding a string\n",
    "set1.add(\"Hello\")\n",
    "\n",
    "# adding a tuple\n",
    "set1.add((1,2,3))\n",
    "\n",
    "# Note: we can't add a list since is not hashable and immutalbe.\n",
    "\n",
    "# now we will inspect the set1\n",
    "set1"
   ]
  },
  {
   "cell_type": "markdown",
   "id": "5ffccd11-a90b-44c0-a6c9-282c164c206c",
   "metadata": {},
   "source": [
    "As you can see that we have added some items in the set1 one. If we try to add an unhashable or immutable object then it will raise **TypeError**."
   ]
  },
  {
   "cell_type": "code",
   "execution_count": 3,
   "id": "3c97372b-4141-4e30-9bc7-40505e08aa1b",
   "metadata": {},
   "outputs": [
    {
     "ename": "TypeError",
     "evalue": "unhashable type: 'list'",
     "output_type": "error",
     "traceback": [
      "\u001b[1;31m---------------------------------------------------------------------------\u001b[0m",
      "\u001b[1;31mTypeError\u001b[0m                                 Traceback (most recent call last)",
      "Input \u001b[1;32mIn [3]\u001b[0m, in \u001b[0;36m<cell line: 2>\u001b[1;34m()\u001b[0m\n\u001b[0;32m      1\u001b[0m \u001b[38;5;66;03m# trying to add a list in a set.\u001b[39;00m\n\u001b[1;32m----> 2\u001b[0m \u001b[43mset1\u001b[49m\u001b[38;5;241;43m.\u001b[39;49m\u001b[43madd\u001b[49m\u001b[43m(\u001b[49m\u001b[43m[\u001b[49m\u001b[38;5;241;43m1\u001b[39;49m\u001b[43m,\u001b[49m\u001b[38;5;241;43m2\u001b[39;49m\u001b[43m,\u001b[49m\u001b[38;5;241;43m3\u001b[39;49m\u001b[43m]\u001b[49m\u001b[43m)\u001b[49m\n",
      "\u001b[1;31mTypeError\u001b[0m: unhashable type: 'list'"
     ]
    }
   ],
   "source": [
    "# trying to add a list in a set.\n",
    "set1.add([1,2,3])"
   ]
  },
  {
   "cell_type": "markdown",
   "id": "67e3f594-acee-4c93-ad41-57a809f89f5f",
   "metadata": {},
   "source": [
    "____"
   ]
  },
  {
   "cell_type": "markdown",
   "id": "193bc22b-68b6-44aa-8b66-981ecd883156",
   "metadata": {},
   "source": [
    "### 2. clear() Method\n",
    "\n",
    "This method removes all the elements from the set. it does not take any argument."
   ]
  },
  {
   "cell_type": "markdown",
   "id": "0ef419b6-4005-4f32-b03c-2bf71d8ebf7d",
   "metadata": {},
   "source": [
    "Now we will clear all the elements from **set1**."
   ]
  },
  {
   "cell_type": "code",
   "execution_count": 9,
   "id": "714e4985-6536-47a1-a796-9ef3435a23c1",
   "metadata": {},
   "outputs": [
    {
     "name": "stdout",
     "output_type": "stream",
     "text": [
      "set1 before clearing items: \n",
      "----> {34.35, 19, 'Hello', (1, 2, 3)}\n",
      "set1 after clearing: \n",
      "----> set()\n"
     ]
    }
   ],
   "source": [
    "# inspecting the set1 before clearing.\n",
    "print(\"set1 before clearing items: \\n---->\", set1)\n",
    "\n",
    "# Now we will clear all the items of set1\n",
    "set1.clear()\n",
    "\n",
    "# now we will see the set1 after clearing it.\n",
    "print(\"set1 after clearing: \\n---->\", set1)"
   ]
  },
  {
   "cell_type": "markdown",
   "id": "640fbabf-3c10-4e45-9140-bb4d0f47cfd5",
   "metadata": {},
   "source": [
    "As we can see that clear method removed all the elements from the set1."
   ]
  },
  {
   "cell_type": "markdown",
   "id": "05a2e4a0-67ef-44d6-a209-eb1fe6af54e3",
   "metadata": {},
   "source": [
    "____"
   ]
  },
  {
   "cell_type": "markdown",
   "id": "bd05b514-1777-4356-b56c-513600c1b470",
   "metadata": {},
   "source": [
    "### 3. remove() Method\n",
    "\n",
    "It Removes an element from the set it is present. if the element is not exist in the set then it will raise an **KeyError**."
   ]
  },
  {
   "cell_type": "code",
   "execution_count": 10,
   "id": "87c2b277-c55e-4d2e-9f20-81bcf77fc5a1",
   "metadata": {},
   "outputs": [
    {
     "name": "stdout",
     "output_type": "stream",
     "text": [
      "Help on method_descriptor:\n",
      "\n",
      "remove(...)\n",
      "    Remove an element from a set; it must be a member.\n",
      "    \n",
      "    If the element is not a member, raise a KeyError.\n",
      "\n"
     ]
    }
   ],
   "source": [
    "help(set.remove)"
   ]
  },
  {
   "cell_type": "markdown",
   "id": "ad807e40-f16f-49e3-8f6a-6db058d35eac",
   "metadata": {},
   "source": [
    "* it takes an element to be removed from the set.\n",
    "\n",
    "Now first we will create a new set and we will remove one item form it."
   ]
  },
  {
   "cell_type": "code",
   "execution_count": 19,
   "id": "fff8fc7d-4160-48eb-9c98-3b428b47ebac",
   "metadata": {},
   "outputs": [
    {
     "data": {
      "text/plain": [
       "{(1, 2, 3), 34.35, 'Hello'}"
      ]
     },
     "execution_count": 19,
     "metadata": {},
     "output_type": "execute_result"
    }
   ],
   "source": [
    "# creating a new set\n",
    "set1 = {(1, 2, 3), 19, 34.35, 'Hello'}\n",
    "\n",
    "# now we will remove items.\n",
    "set1.remove(19) \n",
    "\n",
    "# inspecting the set1\\\n",
    "set1"
   ]
  },
  {
   "cell_type": "markdown",
   "id": "5be8d74c-219d-461b-b5d2-df5a0baeae0f",
   "metadata": {},
   "source": [
    "As you can see that we have removed the 19 from the set. \n",
    "\n",
    "if you want to remove a string or tuple form the set1 then you must proive the perfect match for that objct.\n",
    "\n",
    "* for example if we want to remove 'Hello', then \"Hello\" should be passed not 'hello'.\n",
    "\n",
    "* if we remove a tuple then all the element of that tuple should be match."
   ]
  },
  {
   "cell_type": "code",
   "execution_count": 13,
   "id": "deceafa6-ebee-44bd-b334-43b5bc3c007f",
   "metadata": {},
   "outputs": [
    {
     "ename": "KeyError",
     "evalue": "'hello'",
     "output_type": "error",
     "traceback": [
      "\u001b[1;31m---------------------------------------------------------------------------\u001b[0m",
      "\u001b[1;31mKeyError\u001b[0m                                  Traceback (most recent call last)",
      "Input \u001b[1;32mIn [13]\u001b[0m, in \u001b[0;36m<cell line: 2>\u001b[1;34m()\u001b[0m\n\u001b[0;32m      1\u001b[0m \u001b[38;5;66;03m# removing Hello by passing hello\u001b[39;00m\n\u001b[1;32m----> 2\u001b[0m \u001b[43mset1\u001b[49m\u001b[38;5;241;43m.\u001b[39;49m\u001b[43mremove\u001b[49m\u001b[43m(\u001b[49m\u001b[38;5;124;43m\"\u001b[39;49m\u001b[38;5;124;43mhello\u001b[39;49m\u001b[38;5;124;43m\"\u001b[39;49m\u001b[43m)\u001b[49m\n",
      "\u001b[1;31mKeyError\u001b[0m: 'hello'"
     ]
    }
   ],
   "source": [
    "# removing Hello by passing hello\n",
    "set1.remove(\"hello\")"
   ]
  },
  {
   "cell_type": "code",
   "execution_count": 14,
   "id": "147e5a98-3787-490d-944a-ab73865d4a03",
   "metadata": {},
   "outputs": [
    {
     "ename": "KeyError",
     "evalue": "(1, 2, 4)",
     "output_type": "error",
     "traceback": [
      "\u001b[1;31m---------------------------------------------------------------------------\u001b[0m",
      "\u001b[1;31mKeyError\u001b[0m                                  Traceback (most recent call last)",
      "Input \u001b[1;32mIn [14]\u001b[0m, in \u001b[0;36m<cell line: 2>\u001b[1;34m()\u001b[0m\n\u001b[0;32m      1\u001b[0m \u001b[38;5;66;03m# removing the (1,2,3) by passing (1,2,4)\u001b[39;00m\n\u001b[1;32m----> 2\u001b[0m \u001b[43mset1\u001b[49m\u001b[38;5;241;43m.\u001b[39;49m\u001b[43mremove\u001b[49m\u001b[43m(\u001b[49m\u001b[43m(\u001b[49m\u001b[38;5;241;43m1\u001b[39;49m\u001b[43m,\u001b[49m\u001b[38;5;241;43m2\u001b[39;49m\u001b[43m,\u001b[49m\u001b[38;5;241;43m4\u001b[39;49m\u001b[43m)\u001b[49m\u001b[43m)\u001b[49m\n",
      "\u001b[1;31mKeyError\u001b[0m: (1, 2, 4)"
     ]
    }
   ],
   "source": [
    "# removing the (1,2,3) by passing (1,2,4)\n",
    "set1.remove((1,2,4))"
   ]
  },
  {
   "cell_type": "markdown",
   "id": "034c7974-02d7-4cbf-aba9-3965e6f032a8",
   "metadata": {},
   "source": [
    "`Conclusion:` While remove an element we should take care of the perfect match of the value. otherwise we will get **KeyError**."
   ]
  },
  {
   "cell_type": "code",
   "execution_count": 17,
   "id": "5cf1d360-8b66-4808-a2b5-fcd221554cdd",
   "metadata": {},
   "outputs": [
    {
     "data": {
      "text/plain": [
       "{34.35, 'Hello'}"
      ]
     },
     "execution_count": 17,
     "metadata": {},
     "output_type": "execute_result"
    }
   ],
   "source": [
    "# removing tuple with perfect match.\n",
    "set1.remove((1,2,3))\n",
    "set1"
   ]
  },
  {
   "cell_type": "code",
   "execution_count": 18,
   "id": "17ffc3f8-6471-4cf2-8319-e85f5d9e5760",
   "metadata": {},
   "outputs": [
    {
     "data": {
      "text/plain": [
       "{34.35}"
      ]
     },
     "execution_count": 18,
     "metadata": {},
     "output_type": "execute_result"
    }
   ],
   "source": [
    "# removing the 'Hello' with perfect match.\n",
    "set1.remove(\"Hello\")\n",
    "set1"
   ]
  },
  {
   "cell_type": "markdown",
   "id": "ebed38d1-adc1-448c-b2a4-3af58c1f72a7",
   "metadata": {},
   "source": [
    "As we can see that we have removed an integer, a tuple and a String with perfect match of the value.|"
   ]
  },
  {
   "cell_type": "markdown",
   "id": "281ddf4e-7db0-44db-92e7-7349154574d8",
   "metadata": {},
   "source": [
    "___"
   ]
  },
  {
   "cell_type": "markdown",
   "id": "23a9e153-d9c4-465b-a1e3-86dfed909061",
   "metadata": {},
   "source": [
    "### 4. pop() Method\n",
    "\n",
    "This method Remove and returns an arbitrary set element. Raise **KeyError** if the set is empty."
   ]
  },
  {
   "cell_type": "code",
   "execution_count": 20,
   "id": "386f504e-3118-4713-8c3a-a5fa42c3263f",
   "metadata": {},
   "outputs": [
    {
     "data": {
      "text/plain": [
       "{(1, 2, 3), 19, 34.35, 'Hello'}"
      ]
     },
     "execution_count": 20,
     "metadata": {},
     "output_type": "execute_result"
    }
   ],
   "source": [
    "# first we will create a set \n",
    "set1 = {(1, 2, 3), 19, 34.35, 'Hello'}\n",
    "set1"
   ]
  },
  {
   "cell_type": "markdown",
   "id": "7ecc0f4d-7078-4c04-9ac0-772f11abe242",
   "metadata": {},
   "source": [
    "Now we will use the pop method on the **set1**."
   ]
  },
  {
   "cell_type": "code",
   "execution_count": 21,
   "id": "5446910e-321a-49bd-8dd2-468600890ab4",
   "metadata": {},
   "outputs": [
    {
     "data": {
      "text/plain": [
       "19"
      ]
     },
     "execution_count": 21,
     "metadata": {},
     "output_type": "execute_result"
    }
   ],
   "source": [
    "# popping an item from set1.\n",
    "set1.pop()"
   ]
  },
  {
   "cell_type": "markdown",
   "id": "0bd463aa-9f30-431d-9ada-86f4afbe2267",
   "metadata": {},
   "source": [
    "`Note:` it returned ***19*** arbitrarily from the set1, because set is unordered object."
   ]
  },
  {
   "cell_type": "code",
   "execution_count": 22,
   "id": "66b49977-4436-410b-ab71-cfb42dc42c39",
   "metadata": {},
   "outputs": [
    {
     "data": {
      "text/plain": [
       "34.35"
      ]
     },
     "execution_count": 22,
     "metadata": {},
     "output_type": "execute_result"
    }
   ],
   "source": [
    "# now if we use pop on set1 it will remove another random item\n",
    "set1.pop()"
   ]
  },
  {
   "cell_type": "code",
   "execution_count": 23,
   "id": "eadfd536-a843-43c7-9459-e001b5d3415a",
   "metadata": {},
   "outputs": [
    {
     "data": {
      "text/plain": [
       "'Hello'"
      ]
     },
     "execution_count": 23,
     "metadata": {},
     "output_type": "execute_result"
    }
   ],
   "source": [
    "# removing remaining 2 items\n",
    "set1.pop()\n",
    "set1.pop()"
   ]
  },
  {
   "cell_type": "markdown",
   "id": "74d74e08-456a-4c05-bb59-40326b82d773",
   "metadata": {},
   "source": [
    "Now set is empty:"
   ]
  },
  {
   "cell_type": "code",
   "execution_count": 24,
   "id": "ec145698-7d73-453a-9c6d-b93d166dfa43",
   "metadata": {},
   "outputs": [
    {
     "data": {
      "text/plain": [
       "set()"
      ]
     },
     "execution_count": 24,
     "metadata": {},
     "output_type": "execute_result"
    }
   ],
   "source": [
    "# inspecting the set\n",
    "set1"
   ]
  },
  {
   "cell_type": "markdown",
   "id": "b72fb340-a5a7-4384-8d2f-6f56edbfb81d",
   "metadata": {},
   "source": [
    "Now if we use the pop on an empty set then we will have an KeyError."
   ]
  },
  {
   "cell_type": "code",
   "execution_count": 25,
   "id": "d434d98c-e3a5-4aa4-9032-7d715d4bde85",
   "metadata": {},
   "outputs": [
    {
     "ename": "KeyError",
     "evalue": "'pop from an empty set'",
     "output_type": "error",
     "traceback": [
      "\u001b[1;31m---------------------------------------------------------------------------\u001b[0m",
      "\u001b[1;31mKeyError\u001b[0m                                  Traceback (most recent call last)",
      "Input \u001b[1;32mIn [25]\u001b[0m, in \u001b[0;36m<cell line: 1>\u001b[1;34m()\u001b[0m\n\u001b[1;32m----> 1\u001b[0m \u001b[43mset1\u001b[49m\u001b[38;5;241;43m.\u001b[39;49m\u001b[43mpop\u001b[49m\u001b[43m(\u001b[49m\u001b[43m)\u001b[49m\n",
      "\u001b[1;31mKeyError\u001b[0m: 'pop from an empty set'"
     ]
    }
   ],
   "source": [
    "set1.pop()"
   ]
  },
  {
   "cell_type": "markdown",
   "id": "e310965f-0270-4d96-a94f-241526a2af6a",
   "metadata": {},
   "source": [
    "`Note:` Always check that a set is empty or have item/items before using pop method on it."
   ]
  },
  {
   "cell_type": "markdown",
   "id": "89ef3a41-60d2-4084-8c4e-f3a04da4a96c",
   "metadata": {},
   "source": [
    "___"
   ]
  },
  {
   "cell_type": "markdown",
   "id": "a490d137-2109-4964-b3a6-731ca278e73e",
   "metadata": {},
   "source": [
    "### 5. update() Method\n",
    "\n",
    "This method updates the set with union of itself and others.\n",
    "\n",
    "* we can add multiple items by using the update method\n",
    "* if an item is already exist then there will be no duplicate entry will be added for that item.\n",
    "* update method use the union method to add items in a set.\n",
    "* update method can take the list as iterable but it will not accept the list as item."
   ]
  },
  {
   "cell_type": "markdown",
   "id": "01c737d3-e53a-4166-8d48-00af78a95fd5",
   "metadata": {},
   "source": [
    "Now we will create some new set and we will update an existing set with new item or set. "
   ]
  },
  {
   "cell_type": "code",
   "execution_count": 28,
   "id": "e0fedf5c-1762-4445-b4df-a7567d2b69c3",
   "metadata": {},
   "outputs": [
    {
     "name": "stdout",
     "output_type": "stream",
     "text": [
      "Help on method_descriptor:\n",
      "\n",
      "update(...)\n",
      "    Update a set with the union of itself and others.\n",
      "\n"
     ]
    }
   ],
   "source": [
    "help(set.update)"
   ]
  },
  {
   "cell_type": "code",
   "execution_count": 26,
   "id": "b9d80bbd-0f64-4af5-bfeb-8a64a3571f18",
   "metadata": {},
   "outputs": [],
   "source": [
    "# creating some new set\n",
    "set1 = {(1, 2, 3), 19, 34.35, 'Hello'}\n",
    "set2 = {1, 2, 3, 4, 5}\n",
    "set3 = {4, 5, 6, 7, 8}"
   ]
  },
  {
   "cell_type": "markdown",
   "id": "a0cfdca4-43e5-4813-a69b-8e93ef49af8a",
   "metadata": {},
   "source": [
    "**Updating set1**\n",
    "Now we will update the set1 by passing some new item by using the update method."
   ]
  },
  {
   "cell_type": "code",
   "execution_count": 32,
   "id": "a013575d-335a-48e1-9665-3082e3512791",
   "metadata": {},
   "outputs": [],
   "source": [
    "# updatin the set1\n",
    "set1.update(['a', 'c', 8, 0])"
   ]
  },
  {
   "cell_type": "markdown",
   "id": "16d60f09-12b0-4fd7-99a1-b9fa4a5dfb8a",
   "metadata": {},
   "source": [
    "here we passed multiple item through a list, update method \n",
    "support an iterable object as an argument but it will not accept a list\n",
    "object inside an iterable.\n",
    "\n",
    "In other word, if we want to add list inside the set it will raise error."
   ]
  },
  {
   "cell_type": "code",
   "execution_count": 33,
   "id": "dd25edf5-dc72-4e06-92fa-a754b77007e8",
   "metadata": {},
   "outputs": [
    {
     "ename": "TypeError",
     "evalue": "descriptor 'update' for 'set' objects doesn't apply to a 'list' object",
     "output_type": "error",
     "traceback": [
      "\u001b[1;31m---------------------------------------------------------------------------\u001b[0m",
      "\u001b[1;31mTypeError\u001b[0m                                 Traceback (most recent call last)",
      "Input \u001b[1;32mIn [33]\u001b[0m, in \u001b[0;36m<cell line: 2>\u001b[1;34m()\u001b[0m\n\u001b[0;32m      1\u001b[0m \u001b[38;5;66;03m# passing a list object inside a list/iterable\u001b[39;00m\n\u001b[1;32m----> 2\u001b[0m \u001b[38;5;28;43mset\u001b[39;49m\u001b[38;5;241;43m.\u001b[39;49m\u001b[43mupdate\u001b[49m\u001b[43m(\u001b[49m\u001b[43m[\u001b[49m\u001b[43m[\u001b[49m\u001b[38;5;241;43m1\u001b[39;49m\u001b[43m,\u001b[49m\u001b[38;5;241;43m2\u001b[39;49m\u001b[43m]\u001b[49m\u001b[43m,\u001b[49m\u001b[43m \u001b[49m\u001b[43m[\u001b[49m\u001b[38;5;241;43m3\u001b[39;49m\u001b[43m,\u001b[49m\u001b[38;5;241;43m4\u001b[39;49m\u001b[43m]\u001b[49m\u001b[43m]\u001b[49m\u001b[43m)\u001b[49m\n",
      "\u001b[1;31mTypeError\u001b[0m: descriptor 'update' for 'set' objects doesn't apply to a 'list' object"
     ]
    }
   ],
   "source": [
    "# passing a list object inside a list/iterable\n",
    "set.update([[1,2], [3,4]])\n",
    "# it will raise TypeError"
   ]
  },
  {
   "cell_type": "markdown",
   "id": "01610283-58da-48da-80e7-600eedcfc746",
   "metadata": {},
   "source": [
    "**|----> Updating a set1 with other sets**"
   ]
  },
  {
   "cell_type": "code",
   "execution_count": 35,
   "id": "fb671a81-b8f3-4222-8f95-e2c967877c73",
   "metadata": {},
   "outputs": [
    {
     "data": {
      "text/plain": [
       "{(1, 2, 3), 0, 1, 19, 2, 3, 34.35, 4, 5, 8, 'Hello', 'a', 'c'}"
      ]
     },
     "execution_count": 35,
     "metadata": {},
     "output_type": "execute_result"
    }
   ],
   "source": [
    "# updating set1 with set2.\n",
    "set1.update(set2)\n",
    "set1"
   ]
  },
  {
   "cell_type": "markdown",
   "id": "e680c77e-3a0f-4910-86aa-a414c3e26245",
   "metadata": {},
   "source": [
    "As you can that we have added all the element of set2 which were not already exist in the set1."
   ]
  },
  {
   "cell_type": "markdown",
   "id": "75ead2c9-fd08-480e-a43e-49a77a14c5dc",
   "metadata": {},
   "source": [
    "___"
   ]
  },
  {
   "cell_type": "markdown",
   "id": "492a960e-fffe-4e33-81e0-b54ebe6af004",
   "metadata": {},
   "source": [
    "**|----> Updateing a set with list of sets**\n",
    "\n",
    "if we pass a list of sets to update an existing set then it will raise an TypeError, because set object itself unhashable object. so it will not accept an set object inside the iterable. "
   ]
  },
  {
   "cell_type": "code",
   "execution_count": 39,
   "id": "d56f641b-a8fd-4207-8b1c-22185583c305",
   "metadata": {},
   "outputs": [
    {
     "ename": "TypeError",
     "evalue": "unhashable type: 'set'",
     "output_type": "error",
     "traceback": [
      "\u001b[1;31m---------------------------------------------------------------------------\u001b[0m",
      "\u001b[1;31mTypeError\u001b[0m                                 Traceback (most recent call last)",
      "Input \u001b[1;32mIn [39]\u001b[0m, in \u001b[0;36m<cell line: 2>\u001b[1;34m()\u001b[0m\n\u001b[0;32m      1\u001b[0m \u001b[38;5;66;03m# updating set1 with [set2, set3]\u001b[39;00m\n\u001b[1;32m----> 2\u001b[0m \u001b[43mset1\u001b[49m\u001b[38;5;241;43m.\u001b[39;49m\u001b[43mupdate\u001b[49m\u001b[43m(\u001b[49m\u001b[43m[\u001b[49m\u001b[43mset2\u001b[49m\u001b[43m,\u001b[49m\u001b[43m \u001b[49m\u001b[43mset3\u001b[49m\u001b[43m]\u001b[49m\u001b[43m)\u001b[49m\n",
      "\u001b[1;31mTypeError\u001b[0m: unhashable type: 'set'"
     ]
    }
   ],
   "source": [
    "# updating set1 with [set2, set3]\n",
    "set1.update([set2, set3])"
   ]
  },
  {
   "cell_type": "markdown",
   "id": "284e9e56-6928-4181-ae3b-f5e1fdeb1868",
   "metadata": {},
   "source": [
    "___"
   ]
  },
  {
   "cell_type": "markdown",
   "id": "fc951b7b-7103-4129-a7c7-e497f0a83b88",
   "metadata": {},
   "source": [
    "**|----> Updating a set with list of upacked sets**\n",
    "\n",
    "we can update a set while passing a list of sets, but all the sets should be unpacked in a list/iterable."
   ]
  },
  {
   "cell_type": "code",
   "execution_count": 41,
   "id": "3ca94f36-2e80-4080-9fac-1c150e8c8b3b",
   "metadata": {},
   "outputs": [
    {
     "name": "stdout",
     "output_type": "stream",
     "text": [
      "set2 items: \t {1, 2, 3, 4, 5}\n",
      "set3 items: \t {4, 5, 6, 7, 8}\n",
      "setx items: \t {1, 2, 3, 4, 5, 6, 7, 8}\n"
     ]
    }
   ],
   "source": [
    "# updating setx with [*set2, *set3] (unpacked sets)\n",
    "setx = set() # creating a new empty set\n",
    "setx.update([*set2, *set3])\n",
    "\n",
    "# Now we have all the items of set2 and set3 in setx.\n",
    "print(\"set2 items: \\t\", set2)\n",
    "print(\"set3 items: \\t\", set3)\n",
    "print(\"setx items: \\t\", setx)"
   ]
  },
  {
   "cell_type": "markdown",
   "id": "fd58db46-349d-4cdf-859f-98e16a4de199",
   "metadata": {},
   "source": [
    "`Conclusion:`\n",
    "\n",
    "* update method takes an iterable as an argument.\n",
    "* an iterable can contain mulitple type of items.\n",
    "* if an iterable contains the unhashable object like __list__ it will raise KeyError.\n",
    "* Since set object is also an iterable object so it will consider it also as common iterable and add element if not exist.\n",
    "* unpack all the sets before passing in a iterable(list) to update method."
   ]
  }
 ],
 "metadata": {
  "kernelspec": {
   "display_name": "Python 3 (ipykernel)",
   "language": "python",
   "name": "python3"
  },
  "language_info": {
   "codemirror_mode": {
    "name": "ipython",
    "version": 3
   },
   "file_extension": ".py",
   "mimetype": "text/x-python",
   "name": "python",
   "nbconvert_exporter": "python",
   "pygments_lexer": "ipython3",
   "version": "3.8.3"
  }
 },
 "nbformat": 4,
 "nbformat_minor": 5
}
