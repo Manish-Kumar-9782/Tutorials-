{
 "cells": [
  {
   "cell_type": "markdown",
   "id": "global-passion",
   "metadata": {},
   "source": [
    "# Python built function"
   ]
  },
  {
   "cell_type": "markdown",
   "id": "sapphire-divide",
   "metadata": {},
   "source": [
    "Python comes with the various kind of built-in functions, these function can be used during over project to malipulate our data form on format to the another. In this exercise will see the built in function in alphabetic order."
   ]
  },
  {
   "cell_type": "markdown",
   "id": "opened-tsunami",
   "metadata": {},
   "source": [
    "***"
   ]
  },
  {
   "cell_type": "markdown",
   "id": "fiscal-trace",
   "metadata": {},
   "source": [
    "## 1. Functions startes with 'a'.\n",
    "\n",
    "1. abs()\n",
    "2. all()\n",
    "3. any()\n",
    "4. ascii()"
   ]
  },
  {
   "cell_type": "markdown",
   "id": "intelligent-tours",
   "metadata": {},
   "source": [
    "### 1.1 abs()\n",
    "\n",
    "```ruby\n",
    "abs(x, /)\n",
    "Docstring: Return the absolute value of the argument.\n",
    "```\n",
    "num: - a number whose absolute value is to be returned. The number can be:\n",
    "* integer\n",
    "* floating number\n",
    "* complex number\n",
    "\n",
    "`Absolute Value:` In mathematics, the absolute value or modulus of a real number x, denoted |x|, is the non-negative value of x without regard to its sign. Namely, |x| = x if x is positive, and |x| = −x if x is negative (in which case −x is positive), and |0| = 0. For example, the absolute value of 3 is 3, and the absolute value of −3 is also 3. The absolute value of a number may be thought of as its distance from zero."
   ]
  },
  {
   "cell_type": "markdown",
   "id": "decimal-fifty",
   "metadata": {},
   "source": [
    "### 1.1.1 absolute value of interger and floting values"
   ]
  },
  {
   "cell_type": "code",
   "execution_count": 1,
   "id": "comprehensive-means",
   "metadata": {},
   "outputs": [
    {
     "name": "stdout",
     "output_type": "stream",
     "text": [
      "absolute value of a:  6\n",
      "absolute value of b:  6\n",
      "absolute value of a:  10.444\n",
      "absolute value of b:  10.444\n"
     ]
    }
   ],
   "source": [
    "# absolute value returs the absolute value of the inpyt argument.\n",
    "\n",
    "# now we have two values a and b\n",
    "# where a is positve and b is negative \n",
    "\n",
    "#----------------integer--------------------\n",
    "a = 6\n",
    "b = -6\n",
    "print(\"absolute value of a: \",abs(a))\n",
    "print(\"absolute value of b: \",abs(b))\n",
    "#---------------------------------------------\n",
    "\n",
    "#----------------foting value-------------------\n",
    "a = 10.444\n",
    "b = -10.444\n",
    "print(\"absolute value of a: \",abs(a))\n",
    "print(\"absolute value of b: \",abs(b))\n",
    "#---------------------------------------------\n",
    "\n",
    "# then the absolute values of the a and b values\n",
    "\n"
   ]
  },
  {
   "cell_type": "markdown",
   "id": "extreme-dominant",
   "metadata": {},
   "source": [
    "As you can see that the output of the abd(a) and abs(b) are same because absolute value is nothing but the modulus of the value and it is always positve in nature.\n",
    "\n",
    "***"
   ]
  },
  {
   "cell_type": "markdown",
   "id": "therapeutic-adrian",
   "metadata": {},
   "source": [
    "### 1.1.2 absolute value of the complex numbers"
   ]
  },
  {
   "cell_type": "code",
   "execution_count": 2,
   "id": "earned-collins",
   "metadata": {},
   "outputs": [
    {
     "name": "stdout",
     "output_type": "stream",
     "text": [
      "Magnitude of 3 - 4j is: 5.656854249492381\n"
     ]
    }
   ],
   "source": [
    "# complex number \n",
    "# random complex number\n",
    "complex = (4 - 4j)\n",
    "\n",
    "# here j is the imaginary number\n",
    "\n",
    "print('Magnitude of 3 - 4j is:', abs(complex))"
   ]
  },
  {
   "cell_type": "markdown",
   "id": "abstract-ecology",
   "metadata": {},
   "source": [
    "# 2. all()\n",
    "\n",
    "The all() function takes a single parameter:\n",
    "\n",
    "iterable - any iterable (list, tuple, dictionary, etc.) which contains the elements\n",
    "Return Value from all()\n",
    "\n",
    "`all() function returns:`\n",
    "* True - If all elements in an iterable are true\n",
    "* False - If any element in an iterable is false\n",
    "\n",
    "all() function can be usefull when we try to compute a data and we want the computation with every element and we want the result as True or False after some computation with some conditions."
   ]
  },
  {
   "cell_type": "markdown",
   "id": "narrow-parish",
   "metadata": {},
   "source": [
    "### 2.1 all funciton with list and tuple"
   ]
  },
  {
   "cell_type": "code",
   "execution_count": 3,
   "id": "pharmaceutical-completion",
   "metadata": {},
   "outputs": [],
   "source": [
    "# suppose that we have a list of random number and we want to see that the list cotains the even nubers or odd numbers.\n",
    "from random import randint\n",
    "# to make the random number we will use the randint function in \n",
    "\n",
    "random_set = [randint(1,100) for i in range(1,20)]"
   ]
  },
  {
   "cell_type": "markdown",
   "id": "accomplished-prerequisite",
   "metadata": {},
   "source": [
    "**General Method to compute the number is even or odd**"
   ]
  },
  {
   "cell_type": "code",
   "execution_count": 4,
   "id": "material-spider",
   "metadata": {},
   "outputs": [],
   "source": [
    "# now we will check that the random set contains the  all even or odd\n",
    "\n",
    "def all_even(numbers):\n",
    "    \"\"\"\n",
    "    This function will return a list of True and False in which if the element is even then it will return at that location \n",
    "    otherwise it will return the False.\n",
    "    \"\"\"\n",
    "    return_list = []\n",
    "    # this list contains all the resutl\n",
    "    \n",
    "    for num in numbers:\n",
    "        if num%2 == 0:\n",
    "            return_list.append(True)\n",
    "        else:\n",
    "            return_list.append(False)\n",
    "            \n",
    "    return return_list \n",
    "            \n",
    "def all_odd():\n",
    "    \n",
    "    \"\"\"\n",
    "    This function will return a list of True and False in which if the element is eodd then it will return at that location \n",
    "    otherwise it will return the False.\n",
    "    \"\"\"\n",
    "    return_list = []\n",
    "    # this list contains all the resutl\n",
    "    \n",
    "    for num in numbers:\n",
    "        if num%2 != 0:\n",
    "            return_list.append(True)\n",
    "        else:\n",
    "            return_list.append(False)\n",
    "    return return_list\n"
   ]
  },
  {
   "cell_type": "markdown",
   "id": "single-agreement",
   "metadata": {},
   "source": [
    "**List Comprehension method**"
   ]
  },
  {
   "cell_type": "code",
   "execution_count": 5,
   "id": "ambient-sheet",
   "metadata": {},
   "outputs": [],
   "source": [
    "# Now we will use the list comprehension method to short the above code\n",
    "\n",
    "is_even = [i%2 == 0 for i in random_set]\n",
    "# this code wiil put the True if it is even else it will put False at the location of the number\n",
    "\n",
    "is_odd = [i%2 != 0 for i in random_set]\n",
    "# this is also similar to the above code but it just put the True when the nuber is odd else True.\n"
   ]
  },
  {
   "cell_type": "markdown",
   "id": "industrial-wiring",
   "metadata": {},
   "source": [
    "We can see that above code is very much shorter then the previous one."
   ]
  },
  {
   "cell_type": "code",
   "execution_count": 6,
   "id": "liberal-future",
   "metadata": {},
   "outputs": [
    {
     "name": "stdout",
     "output_type": "stream",
     "text": [
      "List for the even number result:   [False, False, True, True, False, True, False, False, True, True, True, False, False, False, False, False, False, False, True]\n",
      "\n",
      "List for the odd number result:   [True, True, False, False, True, False, True, True, False, False, False, True, True, True, True, True, True, True, False]\n"
     ]
    }
   ],
   "source": [
    "print(\"List for the even number result:  \",is_even)\n",
    "print(\"\\nList for the odd number result:  \",is_odd)"
   ]
  },
  {
   "cell_type": "markdown",
   "id": "involved-journal",
   "metadata": {},
   "source": [
    "Here we can see that we have a list of True and Fasle (0 and 1) if we pass this to the all Then it will compute this list and it will check for the all element if all are True then it will return True and if any of them is False it will return False."
   ]
  },
  {
   "cell_type": "code",
   "execution_count": 7,
   "id": "alike-flood",
   "metadata": {},
   "outputs": [
    {
     "name": "stdout",
     "output_type": "stream",
     "text": [
      "Check that all elements are even : False\n",
      "Check that all elements are odd : False\n"
     ]
    }
   ],
   "source": [
    "print(\"Check that all elements are even :\", all(is_even))\n",
    "\n",
    "print(\"Check that all elements are odd :\", all(is_odd))"
   ]
  },
  {
   "cell_type": "code",
   "execution_count": 8,
   "id": "european-feedback",
   "metadata": {},
   "outputs": [
    {
     "name": "stdout",
     "output_type": "stream",
     "text": [
      "this is a set of even numbers:  [18, 40, 66, 86, 84, 36, 96]\n"
     ]
    }
   ],
   "source": [
    "# now if we check the it when all the values are True and False\n",
    "\n",
    "evens = [i for i in random_set if i%2 == 0  ]\n",
    "print(\"this is a set of even numbers: \", evens)"
   ]
  },
  {
   "cell_type": "code",
   "execution_count": 9,
   "id": "characteristic-triangle",
   "metadata": {},
   "outputs": [
    {
     "name": "stdout",
     "output_type": "stream",
     "text": [
      "evens set in True and False:  [True, True, True, True, True, True, True]\n"
     ]
    }
   ],
   "source": [
    "# now if we pass it to the all in the formate of True and False \n",
    "\n",
    "evens = [True for i in random_set if i%2 == 0]\n",
    "print(\"evens set in True and False: \",evens)"
   ]
  },
  {
   "cell_type": "markdown",
   "id": "superior-fleece",
   "metadata": {},
   "source": [
    "As you can see the length of the first evens and seconds evens are same but the difference is that now we are representing the s list whcih telling that all the bumbers in the evens are True. if we pass it to the all thenn all tell us that this even list contains all the elements which are even."
   ]
  },
  {
   "cell_type": "code",
   "execution_count": 10,
   "id": "comprehensive-midwest",
   "metadata": {},
   "outputs": [
    {
     "name": "stdout",
     "output_type": "stream",
     "text": [
      "is evens list contais all even : True\n"
     ]
    }
   ],
   "source": [
    "print(\"is evens list contais all even :\", all(evens))"
   ]
  },
  {
   "cell_type": "markdown",
   "id": "passive-double",
   "metadata": {},
   "source": [
    "As you can see that now it tells us that all element are true. This all thing can be put together for both evens and odds.\n",
    "\n",
    "**Putting the all operation into single function**"
   ]
  },
  {
   "cell_type": "code",
   "execution_count": 21,
   "id": "lesbian-islam",
   "metadata": {},
   "outputs": [],
   "source": [
    "def is_even_or_odd(iterable,find=None):\n",
    "    \n",
    "    \"\"\"This function find out that a list has all even number or odd number \n",
    "        \n",
    "        find: this argument should be passed as even or odd. if you pass any other argument it will retrun -1\n",
    "        iterable: iterable can be any object like tuple, list, dictionary, set etc.\n",
    "        \n",
    "        return: --> True or False or -1\n",
    "    \"\"\"\n",
    "\n",
    "    if find == 'even':\n",
    "        \n",
    "        numbers = [i%2 == 0 for i in iterable]\n",
    "        return all(numbers)\n",
    "        # This will retrun True for the even nubers\n",
    "        \n",
    "        \n",
    "    elif find == 'odd':\n",
    "        numbers = [i%2 != 0 for i in iterable]\n",
    "        # this will return True for the odd noumbers\n",
    "        return all(numbers)\n",
    "        \n",
    "    else:\n",
    "        print(\"Wrong input! input should be even or odd\")\n",
    "        return -1\n",
    "    "
   ]
  },
  {
   "cell_type": "markdown",
   "id": "coordinated-yukon",
   "metadata": {},
   "source": [
    "Now we will test our function remember it just checks that, a list contains all even or odd numbers\n",
    "\n",
    "we have Three list:\n",
    "```ruby\n",
    "random_set: [35, 1, 18, 40, 81, 66, 73, 53, 86, 84, 36, 99, 31, 51, 27, 11, 81, 5, 96]\n",
    "evens: [18, 40, 66, 86, 84, 36, 96]\n",
    "odds:[35, 1, 81, 73, 53, 99, 31, 51, 27, 11, 81, 5]\n",
    "```\n"
   ]
  },
  {
   "cell_type": "code",
   "execution_count": 23,
   "id": "working-maryland",
   "metadata": {},
   "outputs": [
    {
     "name": "stdout",
     "output_type": "stream",
     "text": [
      "1.Cheking random set for even : False\n",
      "\n",
      "2.Cheking random set for odd : False\n",
      "\n",
      "3.Cheking evens for even : True\n",
      "\n",
      "4.Cheking evens for odd : False\n",
      "\n",
      "5.Cheking odds for even : False\n",
      "\n",
      "6.Cheking odds for odd : True\n"
     ]
    }
   ],
   "source": [
    "random_set = [35, 1, 18, 40, 81, 66, 73, 53, 86, 84, 36, 99, 31, 51, 27, 11, 81, 5, 96]\n",
    "evens =  [18, 40, 66, 86, 84, 36, 96]\n",
    "odds = [35, 1, 81, 73, 53, 99, 31, 51, 27, 11, 81, 5]\n",
    "\n",
    "\n",
    "print(\"1.Cheking random set for even :\",is_even_or_odd(random_set,'even'))\n",
    "print(\"\\n2.Cheking random set for odd :\",is_even_or_odd(random_set,'odd'))\n",
    "print(\"\\n3.Cheking evens for even :\",is_even_or_odd(evens,'even'))\n",
    "print(\"\\n4.Cheking evens for odd :\",is_even_or_odd(evens,'odd'))\n",
    "print(\"\\n5.Cheking odds for even :\",is_even_or_odd(odds,'even'))\n",
    "print(\"\\n6.Cheking odds for odd :\",is_even_or_odd(odds,'odd'))"
   ]
  },
  {
   "cell_type": "markdown",
   "id": "present-saturn",
   "metadata": {},
   "source": [
    "`Result 1 and 2:` Since random set contains both even and odd numbers that's why it returns False on both test.\n",
    "\n",
    "`Result 3 and 4:` Since evens contains only even numbers that's why it returns True in 3 and return False in 4.\n",
    "\n",
    "`Result 5 and 6:` Since odds contains only odd numbers that's why it returns True in 5 and returns False in 6.\n",
    "\n",
    "**Note:** Now we have seen that how all() function is usefull to check all element in an iterable.\n",
    "\n",
    "***"
   ]
  },
  {
   "cell_type": "markdown",
   "id": "skilled-prescription",
   "metadata": {},
   "source": [
    "# 3. any()"
   ]
  },
  {
   "cell_type": "markdown",
   "id": "musical-credit",
   "metadata": {},
   "source": [
    "Now we will see the another function whcih works similar to the all() function but in this any function all the items do not need to be True to return true it will return True if any of them is True and it will return if all of the element contains False.\n",
    "\n",
    "| | **True** | **False** |\n",
    "|--|-------|--------|\n",
    "|**True**|True | True|\n",
    "|**False**|True | False |\n",
    "\n",
    "This table can show the output of the any() funtion.\n",
    "\n",
    "* if all element are True ---> return **True**\n",
    "* if one element is True ---> return **True**\n",
    "* if one element is False ----> return **True**\n",
    "* if all elements are False -----> return **False**\n",
    "\n",
    "\n",
    "Now we will apply some even odd number test which have done in all() function.\n",
    "\n",
    "```ruby\n",
    "random_set: [35, 1, 18, 40, 81, 66, 73, 53, 86, 84, 36, 99, 31, 51, 27, 11, 81, 5, 96]\n",
    "evens: [18, 40, 66, 86, 84, 36, 96]\n",
    "odds:[35, 1, 81, 73, 53, 99, 31, 51, 27, 11, 81, 5]\n",
    "```\n"
   ]
  },
  {
   "cell_type": "code",
   "execution_count": 4,
   "id": "recorded-region",
   "metadata": {},
   "outputs": [],
   "source": [
    "random_set = [35, 1, 18, 40, 81, 66, 73, 53, 86, 84, 36, 99, 31, 51, 27, 11, 81, 5, 96]\n",
    "evens = [18, 40, 66, 86, 84, 36, 96]\n",
    "odds = [35, 1, 81, 73, 53, 99, 31, 51, 27, 11, 81, 5]"
   ]
  },
  {
   "cell_type": "markdown",
   "id": "patent-casino",
   "metadata": {},
   "source": [
    "Now we have our set will be the result of the any function, like before we will make a function to test this function."
   ]
  },
  {
   "cell_type": "code",
   "execution_count": 5,
   "id": "genetic-grade",
   "metadata": {},
   "outputs": [],
   "source": [
    "# this funtion is very similar to the other one but it has some changes.\n",
    "# this time it will use the any funtion to return the final funtion.\n",
    "def is_even_or_odd(iterable,find=None):\n",
    "    \n",
    "    \"\"\"This function find out that a list has all even number or odd number \n",
    "        \n",
    "        find: this argument should be passed as even or odd. if you pass any other argument it will retrun -1\n",
    "        iterable: iterable can be any object like tuple, list, dictionary, set etc.\n",
    "        \n",
    "        return: --> True or False or -1\n",
    "    \"\"\"\n",
    "\n",
    "    if find == 'even':\n",
    "        \n",
    "        numbers = [i%2 == 0 for i in iterable]\n",
    "        return any(numbers)\n",
    "        # This will retrun True for the even nubers\n",
    "        \n",
    "        \n",
    "    elif find == 'odd':\n",
    "        numbers = [i%2 != 0 for i in iterable]\n",
    "        # this will return True for the odd noumbers\n",
    "        return any(numbers)\n",
    "        \n",
    "    else:\n",
    "        print(\"Wrong input! input should be even or odd\")\n",
    "        return -1"
   ]
  },
  {
   "cell_type": "code",
   "execution_count": 6,
   "id": "charming-vegetation",
   "metadata": {},
   "outputs": [
    {
     "name": "stdout",
     "output_type": "stream",
     "text": [
      "1.Cheking random set for even : True\n",
      "\n",
      "2.Cheking random set for odd : True\n",
      "\n",
      "3.Cheking evens for even : True\n",
      "\n",
      "4.Cheking evens for odd : False\n",
      "\n",
      "5.Cheking odds for even : False\n",
      "\n",
      "6.Cheking odds for odd : True\n"
     ]
    }
   ],
   "source": [
    "print(\"1.Cheking random set for even :\",is_even_or_odd(random_set,'even'))\n",
    "print(\"\\n2.Cheking random set for odd :\",is_even_or_odd(random_set,'odd'))\n",
    "print(\"\\n3.Cheking evens for even :\",is_even_or_odd(evens,'even'))\n",
    "print(\"\\n4.Cheking evens for odd :\",is_even_or_odd(evens,'odd'))\n",
    "print(\"\\n5.Cheking odds for even :\",is_even_or_odd(odds,'even'))\n",
    "print(\"\\n6.Cheking odds for odd :\",is_even_or_odd(odds,'odd'))"
   ]
  },
  {
   "cell_type": "markdown",
   "id": "driven-liechtenstein",
   "metadata": {},
   "source": [
    "This time the result is different from the all() funtion Let's crack the result.\n",
    "\n",
    "`Result 1:` Result 1 is True because we are testing that at least one element is even in the random_set list.\n",
    "\n",
    "`Result 2:` Result 2 is True because we are testing that at least one element is odd in the random_set list.\n",
    "\n",
    "`Result 3:` Result 3 is True, in this we are checking that the list after the filter contains any evens, because all the elements are even in this list that's why it return True.\n",
    "\n",
    "`Result 4:` Result 4 is False, in this we are checking that the list after the filter contins any odd, but this list contains even all the numbers.\n",
    "\n",
    "`Result 5:` Result 5 is False, in this we are checking that the list after the filter contains any evens, because all the elements are odd in this list that's why it return False.\n",
    "\n",
    "`Result 6:` Result 6 is True, in this we are checking that the list after the filter contins any odd, and this list contains odd numbers only thats why it return True.\n",
    "\n",
    "`Note:` From the above result we have seen the output of the any function and how it works."
   ]
  },
  {
   "cell_type": "markdown",
   "id": "unexpected-panama",
   "metadata": {},
   "source": [
    "# 4.ascii()\n",
    "\n",
    "The ascii() method returns a string containing a printable representation of an object. It escapes the non-ASCII characters in the string using \\x, \\u or \\U escapes.\n",
    "\n",
    "```ruby \n",
    "ascii(object)\n",
    "```\n",
    "\n",
    "ascii() method takes an object (like: strings, list etc).\n",
    "\n",
    "Return Value from ascii()\n",
    "It returns a string containing a printable representation of an object.\n",
    "\n",
    "For example, ö is changed to \\xf6n, √ is changed to \\u221a\n",
    "\n",
    "The non-ASCII characters in the string are escaped using \\x, \\u or \\U."
   ]
  },
  {
   "cell_type": "code",
   "execution_count": 14,
   "id": "defensive-expansion",
   "metadata": {},
   "outputs": [
    {
     "data": {
      "text/plain": [
       "\"'Pyth\\\\xf6n is interesting'\""
      ]
     },
     "execution_count": 14,
     "metadata": {},
     "output_type": "execute_result"
    }
   ],
   "source": [
    "ascii('Pythön is interesting')"
   ]
  },
  {
   "cell_type": "markdown",
   "id": "challenging-surgery",
   "metadata": {},
   "source": [
    "In this 'ö' is converted to its ascii value in hexa decimal format. "
   ]
  },
  {
   "cell_type": "code",
   "execution_count": 16,
   "id": "grand-watershed",
   "metadata": {},
   "outputs": [
    {
     "data": {
      "text/plain": [
       "\"'my name is manish.'\""
      ]
     },
     "execution_count": 16,
     "metadata": {},
     "output_type": "execute_result"
    }
   ],
   "source": [
    "ascii(\"my name is manish.\")"
   ]
  },
  {
   "cell_type": "markdown",
   "id": "instrumental-albert",
   "metadata": {},
   "source": [
    "***\n",
    "***"
   ]
  },
  {
   "cell_type": "markdown",
   "id": "tropical-louis",
   "metadata": {},
   "source": [
    "## 2. Functions startes with 'b'."
   ]
  },
  {
   "cell_type": "markdown",
   "id": "differential-crash",
   "metadata": {},
   "source": [
    "* bin(1)\n",
    "* bool()\n",
    "* bytes()\n",
    "* bytearray()"
   ]
  },
  {
   "cell_type": "markdown",
   "id": "cellular-split",
   "metadata": {},
   "source": [
    "## 2.1 bin()\n",
    "\n",
    "```ruby\n",
    " bin(number, /)\n",
    "\n",
    "Return ----> the binary representation of an integer.\n",
    "\n",
    ">>> bin(2796202)\n",
    "'0b1010101010101010101010'\n",
    "\n",
    "```\n",
    "\n",
    "\n",
    "As we can see that binary function return the binary value of the given interger.\n",
    "\n",
    "`Note:` This takes only integer"
   ]
  },
  {
   "cell_type": "code",
   "execution_count": 8,
   "id": "passive-repository",
   "metadata": {},
   "outputs": [
    {
     "data": {
      "text/plain": [
       "'0b10010'"
      ]
     },
     "execution_count": 8,
     "metadata": {},
     "output_type": "execute_result"
    }
   ],
   "source": [
    "# now if we call the bin function on a random interger value\n",
    "bin(18)"
   ]
  },
  {
   "cell_type": "markdown",
   "id": "prime-intake",
   "metadata": {},
   "source": [
    "It produce this kind of result there this result need to break in to term.\n",
    "```ruby\n",
    "result: 0b10010\n",
    "```\n",
    "here we have two thing in this result \"0b\" and \"10010\".\n",
    "\n",
    "```ruby\n",
    "0b: represents that this is the binary value.\n",
    "10010: represent that this number is the binary value of the given interger to the bin function.\n",
    "```"
   ]
  },
  {
   "cell_type": "markdown",
   "id": "frank-maintenance",
   "metadata": {},
   "source": [
    "Now we will produce the binary value of some first 10 integer. but in this result we will remove the '0b' notation from the output and will print the actual value only."
   ]
  },
  {
   "cell_type": "code",
   "execution_count": 9,
   "id": "natural-classics",
   "metadata": {},
   "outputs": [
    {
     "name": "stdout",
     "output_type": "stream",
     "text": [
      "The binary value of 0 is : 0\n",
      "The binary value of 1 is : 1\n",
      "The binary value of 2 is : 10\n",
      "The binary value of 3 is : 11\n",
      "The binary value of 4 is : 100\n",
      "The binary value of 5 is : 101\n",
      "The binary value of 6 is : 110\n",
      "The binary value of 7 is : 111\n",
      "The binary value of 8 is : 1000\n",
      "The binary value of 9 is : 1001\n"
     ]
    }
   ],
   "source": [
    "# now we will produce a list of binary numbers \n",
    "\n",
    "for i in range(10):\n",
    "    \n",
    "    print(f\"The binary value of {i} is : {bin(i).split('0b')[1]}\")\n"
   ]
  },
  {
   "cell_type": "markdown",
   "id": "cooperative-integral",
   "metadata": {},
   "source": [
    "## 2.2 bool()"
   ]
  },
  {
   "cell_type": "markdown",
   "id": "empty-universal",
   "metadata": {},
   "source": [
    "```ruby\n",
    "bool(self, /, *args, **kwargs)\n",
    "    \n",
    "return bool(x) -> bool\n",
    "```\n",
    "Returns True when the argument x is true, False otherwise.\n",
    "The builtins True and False are the only two instances of the class bool.\n",
    "The class bool is a subclass of the class int, and cannot be subclassed.`\n"
   ]
  },
  {
   "cell_type": "code",
   "execution_count": null,
   "id": "differential-omaha",
   "metadata": {},
   "outputs": [],
   "source": []
  },
  {
   "cell_type": "code",
   "execution_count": null,
   "id": "rubber-vanilla",
   "metadata": {},
   "outputs": [],
   "source": []
  },
  {
   "cell_type": "code",
   "execution_count": null,
   "id": "southwest-extension",
   "metadata": {},
   "outputs": [],
   "source": []
  },
  {
   "cell_type": "markdown",
   "id": "amended-responsibility",
   "metadata": {},
   "source": [
    "## 2.3 bytes()"
   ]
  },
  {
   "cell_type": "code",
   "execution_count": null,
   "id": "spread-baking",
   "metadata": {},
   "outputs": [],
   "source": []
  },
  {
   "cell_type": "code",
   "execution_count": null,
   "id": "magnetic-jurisdiction",
   "metadata": {},
   "outputs": [],
   "source": []
  },
  {
   "cell_type": "code",
   "execution_count": null,
   "id": "accessible-volume",
   "metadata": {},
   "outputs": [],
   "source": []
  },
  {
   "cell_type": "code",
   "execution_count": null,
   "id": "innovative-thomas",
   "metadata": {},
   "outputs": [],
   "source": []
  },
  {
   "cell_type": "markdown",
   "id": "willing-basic",
   "metadata": {},
   "source": [
    "## 2.4 bytearray()"
   ]
  },
  {
   "cell_type": "code",
   "execution_count": null,
   "id": "assured-monster",
   "metadata": {},
   "outputs": [],
   "source": []
  },
  {
   "cell_type": "code",
   "execution_count": null,
   "id": "bright-march",
   "metadata": {},
   "outputs": [],
   "source": []
  },
  {
   "cell_type": "code",
   "execution_count": null,
   "id": "incident-awareness",
   "metadata": {},
   "outputs": [],
   "source": []
  },
  {
   "cell_type": "code",
   "execution_count": 20,
   "id": "restricted-expansion",
   "metadata": {},
   "outputs": [
    {
     "data": {
      "text/plain": [
       "'0b100'"
      ]
     },
     "execution_count": 20,
     "metadata": {},
     "output_type": "execute_result"
    }
   ],
   "source": [
    "bin(4)"
   ]
  },
  {
   "cell_type": "code",
   "execution_count": null,
   "id": "alpine-banks",
   "metadata": {},
   "outputs": [],
   "source": []
  }
 ],
 "metadata": {
  "kernelspec": {
   "display_name": "Python 3 (ipykernel)",
   "language": "python",
   "name": "python3"
  },
  "language_info": {
   "codemirror_mode": {
    "name": "ipython",
    "version": 3
   },
   "file_extension": ".py",
   "mimetype": "text/x-python",
   "name": "python",
   "nbconvert_exporter": "python",
   "pygments_lexer": "ipython3",
   "version": "3.8.3"
  }
 },
 "nbformat": 4,
 "nbformat_minor": 5
}
