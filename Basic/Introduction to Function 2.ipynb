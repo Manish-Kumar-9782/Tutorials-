{
 "cells": [
  {
   "cell_type": "code",
   "execution_count": 5,
   "id": "b400a87e-473b-4c58-9992-21e410e41634",
   "metadata": {},
   "outputs": [],
   "source": [
    "# using **kwargs in a funciton\n",
    "def Triangle(number=5):\n",
    "    \n",
    "    for i in range(0,number+1):\n",
    "        \n",
    "        for j in range(0,i):\n",
    "            print(\"*\", end='')\n",
    "            \n",
    "        print()\n",
    "        \n",
    "def RTriangle(number=5):\n",
    "    \n",
    "    for i in range(0,number+1):\n",
    "        \n",
    "        for j in range(0,number-i):\n",
    "            print(\"*\", end='')\n",
    "            \n",
    "        print()\n",
    "        \n",
    "def headTriangle(number=10):\n",
    "    \n",
    "    Triangle(int(number/2))\n",
    "    RTriangle(int(number/2))"
   ]
  },
  {
   "cell_type": "code",
   "execution_count": 6,
   "id": "bacc609f-5515-408a-b294-fc490d075f28",
   "metadata": {},
   "outputs": [
    {
     "name": "stdout",
     "output_type": "stream",
     "text": [
      "\n",
      "*\n",
      "**\n",
      "***\n",
      "****\n",
      "*****\n",
      "*****\n",
      "****\n",
      "***\n",
      "**\n",
      "*\n",
      "\n"
     ]
    }
   ],
   "source": [
    "headTriangle()"
   ]
  },
  {
   "cell_type": "code",
   "execution_count": 17,
   "id": "31b539af-532c-426b-b128-60fe6209b8ab",
   "metadata": {},
   "outputs": [],
   "source": [
    "def Shape1(Type='Triangle', n=5):\n",
    "    \n",
    "    valid_option = ['triangle', 'rtriangle', 'headtriangle'] \n",
    "    Type = Type.lower()\n",
    "    # initially it will check the Type with valid option\n",
    "    # if option is not matched then it will raise KeyError exception.\n",
    "    if Type in valid_option:\n",
    "            \n",
    "        # if no KerError found\n",
    "        if Type =='triangle':\n",
    "            Triangle(n)\n",
    "            \n",
    "        elif Type =='rtriangle':\n",
    "            RTriangle(n)\n",
    "            \n",
    "        elif Type == 'headtriangle':\n",
    "            headTriangle(n*2)\n",
    "    else:\n",
    "        raise KeyError(f\"{Type} is not valid option\")\n",
    "        \n",
    "    "
   ]
  },
  {
   "cell_type": "code",
   "execution_count": 18,
   "id": "7a8450b9-0e2c-4b8a-87bd-bab0abcb50a1",
   "metadata": {},
   "outputs": [
    {
     "name": "stdin",
     "output_type": "stream",
     "text": [
      "Enter Shape type:  HeadTriangle\n"
     ]
    },
    {
     "name": "stdout",
     "output_type": "stream",
     "text": [
      "\n",
      "*\n",
      "**\n",
      "***\n",
      "****\n",
      "*****\n",
      "*****\n",
      "****\n",
      "***\n",
      "**\n",
      "*\n",
      "\n"
     ]
    }
   ],
   "source": [
    "Type = input(\"Enter Shape type: \")\n",
    "Shape1(Type)"
   ]
  },
  {
   "cell_type": "code",
   "execution_count": 27,
   "id": "2e9c52e3-94c9-4b95-9bb3-10ac647e0db4",
   "metadata": {},
   "outputs": [],
   "source": [
    "def Shape2(Type=\"Triangle\", n=5):\n",
    "    \n",
    "    Type = Type.lower()\n",
    "    \n",
    "    Shapes = {\"triangle\":Triangle,\n",
    "                    \"rtriangle\": RTriangle,\n",
    "                    'headtriangle':headTriangle}\n",
    "    \n",
    "    Shapes[Type](n)"
   ]
  },
  {
   "cell_type": "code",
   "execution_count": 30,
   "id": "5646bd3c-96a3-4dd1-a1bf-273e90a4a0f6",
   "metadata": {},
   "outputs": [
    {
     "ename": "KeyError",
     "evalue": "'rtringle'",
     "output_type": "error",
     "traceback": [
      "\u001b[1;31m---------------------------------------------------------------------------\u001b[0m",
      "\u001b[1;31mKeyError\u001b[0m                                  Traceback (most recent call last)",
      "Input \u001b[1;32mIn [30]\u001b[0m, in \u001b[0;36m<cell line: 1>\u001b[1;34m()\u001b[0m\n\u001b[1;32m----> 1\u001b[0m \u001b[43mShape2\u001b[49m\u001b[43m(\u001b[49m\u001b[38;5;124;43m'\u001b[39;49m\u001b[38;5;124;43mrtringle\u001b[39;49m\u001b[38;5;124;43m'\u001b[39;49m\u001b[43m)\u001b[49m\n",
      "Input \u001b[1;32mIn [27]\u001b[0m, in \u001b[0;36mShape2\u001b[1;34m(Type, n)\u001b[0m\n\u001b[0;32m      3\u001b[0m Type \u001b[38;5;241m=\u001b[39m Type\u001b[38;5;241m.\u001b[39mlower()\n\u001b[0;32m      5\u001b[0m Shapes \u001b[38;5;241m=\u001b[39m {\u001b[38;5;124m\"\u001b[39m\u001b[38;5;124mtriangle\u001b[39m\u001b[38;5;124m\"\u001b[39m:Triangle,\n\u001b[0;32m      6\u001b[0m                 \u001b[38;5;124m\"\u001b[39m\u001b[38;5;124mrtriangle\u001b[39m\u001b[38;5;124m\"\u001b[39m: RTriangle,\n\u001b[0;32m      7\u001b[0m                 \u001b[38;5;124m'\u001b[39m\u001b[38;5;124mheadtriangle\u001b[39m\u001b[38;5;124m'\u001b[39m:headTriangle}\n\u001b[1;32m----> 9\u001b[0m \u001b[43mShapes\u001b[49m\u001b[43m[\u001b[49m\u001b[43mType\u001b[49m\u001b[43m]\u001b[49m(n)\n",
      "\u001b[1;31mKeyError\u001b[0m: 'rtringle'"
     ]
    }
   ],
   "source": [
    "Shape2('rtringle')"
   ]
  },
  {
   "cell_type": "markdown",
   "id": "af4e135d-eafd-4e23-90c8-432147e1b676",
   "metadata": {},
   "source": [
    "**Handling the KeyError of above function**"
   ]
  },
  {
   "cell_type": "code",
   "execution_count": 36,
   "id": "17e2652e-11cc-4af9-a9ba-18c9e90c1b30",
   "metadata": {},
   "outputs": [],
   "source": [
    "def Shape3(Type=\"Triangle\", n=5):\n",
    "    \n",
    "    Type = Type.lower()\n",
    "    \n",
    "    Shapes = {\"triangle\":Triangle,\n",
    "                    \"rtriangle\": RTriangle,\n",
    "                    'headtriangle':headTriangle}\n",
    "    \n",
    "    try:\n",
    "        \n",
    "        Shapes[Type](n)\n",
    "        \n",
    "    except KeyError:\n",
    "        print(f\"{Type} is not a valid option\")\n",
    "        \n",
    "    except Exception:\n",
    "        print(\"Unknonw Error\")\n",
    "    \n",
    "    \n"
   ]
  },
  {
   "cell_type": "code",
   "execution_count": 37,
   "id": "cc884ab6-7713-4ce5-a569-f0728fca8886",
   "metadata": {},
   "outputs": [
    {
     "name": "stdout",
     "output_type": "stream",
     "text": [
      "rt is not a valid option\n"
     ]
    }
   ],
   "source": [
    "Shape3('rt')"
   ]
  },
  {
   "cell_type": "code",
   "execution_count": null,
   "id": "e4940f4e-d8c9-4bd8-a42c-1e473e2507af",
   "metadata": {},
   "outputs": [],
   "source": []
  },
  {
   "cell_type": "code",
   "execution_count": null,
   "id": "b1abcacc-d765-4f89-a77c-91008e38653f",
   "metadata": {},
   "outputs": [],
   "source": []
  },
  {
   "cell_type": "markdown",
   "id": "6eaf3a3a-0218-4d82-ac71-b3ea7b823358",
   "metadata": {},
   "source": [
    "#### function call testing from dict"
   ]
  },
  {
   "cell_type": "code",
   "execution_count": 20,
   "id": "78424382-846b-416d-a70d-6aa17caece0a",
   "metadata": {},
   "outputs": [],
   "source": [
    "Shapes = {\"triangle\":Triangle,\n",
    "                    \"rtriangle\": RTriangle,\n",
    "                    'headtriangle':headTriangle}"
   ]
  },
  {
   "cell_type": "code",
   "execution_count": 21,
   "id": "053a842c-7a2a-4ff6-80d0-4d7f02c1d662",
   "metadata": {},
   "outputs": [
    {
     "data": {
      "text/plain": [
       "dict"
      ]
     },
     "execution_count": 21,
     "metadata": {},
     "output_type": "execute_result"
    }
   ],
   "source": [
    "type(Shapes)"
   ]
  },
  {
   "cell_type": "code",
   "execution_count": 22,
   "id": "a06d054d-c836-4c34-913a-8b12ec151ec1",
   "metadata": {},
   "outputs": [
    {
     "data": {
      "text/plain": [
       "dict_items([('triangle', <function Triangle at 0x0000014E15A34430>), ('rtriangle', <function RTriangle at 0x0000014E13F04160>), ('headtriangle', <function headTriangle at 0x0000014E13F041F0>)])"
      ]
     },
     "execution_count": 22,
     "metadata": {},
     "output_type": "execute_result"
    }
   ],
   "source": [
    "Shapes.items()"
   ]
  },
  {
   "cell_type": "code",
   "execution_count": 26,
   "id": "a3f80322-1fb2-4cb7-945e-dd544c08bf6b",
   "metadata": {},
   "outputs": [
    {
     "name": "stdout",
     "output_type": "stream",
     "text": [
      "\n",
      "*\n",
      "**\n",
      "***\n",
      "****\n",
      "*****\n",
      "******\n",
      "*******\n",
      "********\n",
      "*********\n",
      "**********\n"
     ]
    }
   ],
   "source": [
    "Shapes[\"triangle\"](10)"
   ]
  },
  {
   "cell_type": "markdown",
   "id": "73f50db8-d80f-4bcc-aa0a-7cbc27cda4d3",
   "metadata": {},
   "source": [
    "## lambda function"
   ]
  },
  {
   "cell_type": "code",
   "execution_count": 67,
   "id": "185c975d-898b-4fa2-82c6-a2e7d13b42c8",
   "metadata": {},
   "outputs": [],
   "source": [
    "def square(n):\n",
    "    return n*n\n",
    "\n",
    "def cube(n):\n",
    "    return n*n*n"
   ]
  },
  {
   "cell_type": "code",
   "execution_count": 41,
   "id": "53e8f3e6-29d8-4b11-b67b-0d899978322f",
   "metadata": {},
   "outputs": [
    {
     "data": {
      "text/plain": [
       "100"
      ]
     },
     "execution_count": 41,
     "metadata": {},
     "output_type": "execute_result"
    }
   ],
   "source": [
    "square(10)"
   ]
  },
  {
   "cell_type": "code",
   "execution_count": 64,
   "id": "a3457d40-a5e4-457d-9cf9-59368eda8bc9",
   "metadata": {},
   "outputs": [],
   "source": [
    "def math(func, n = 2):\n",
    "    return func(n)"
   ]
  },
  {
   "cell_type": "code",
   "execution_count": 69,
   "id": "d19652fe-b13c-4cbe-ad0a-e9dd849eea20",
   "metadata": {},
   "outputs": [
    {
     "data": {
      "text/plain": [
       "64"
      ]
     },
     "execution_count": 69,
     "metadata": {},
     "output_type": "execute_result"
    }
   ],
   "source": [
    "math(cube, 4)"
   ]
  },
  {
   "cell_type": "code",
   "execution_count": 60,
   "id": "cb964f67-9b69-4bf9-a912-0582954afa9c",
   "metadata": {},
   "outputs": [],
   "source": [
    "def _lambda(x):\n",
    "    return x*x*x"
   ]
  },
  {
   "cell_type": "code",
   "execution_count": 50,
   "id": "aea6b5f9-29bb-4a8f-8c07-57e0ea38bc40",
   "metadata": {},
   "outputs": [
    {
     "ename": "TypeError",
     "evalue": "'int' object is not callable",
     "output_type": "error",
     "traceback": [
      "\u001b[1;31m---------------------------------------------------------------------------\u001b[0m",
      "\u001b[1;31mTypeError\u001b[0m                                 Traceback (most recent call last)",
      "Input \u001b[1;32mIn [50]\u001b[0m, in \u001b[0;36m<cell line: 1>\u001b[1;34m()\u001b[0m\n\u001b[1;32m----> 1\u001b[0m \u001b[43mmath\u001b[49m\u001b[43m(\u001b[49m\u001b[38;5;241;43m10\u001b[39;49m\u001b[43m)\u001b[49m\n",
      "Input \u001b[1;32mIn [47]\u001b[0m, in \u001b[0;36mmath\u001b[1;34m(func)\u001b[0m\n\u001b[0;32m      1\u001b[0m \u001b[38;5;28;01mdef\u001b[39;00m \u001b[38;5;21mmath\u001b[39m(func):\n\u001b[1;32m----> 2\u001b[0m     \u001b[38;5;28;01mreturn\u001b[39;00m \u001b[43mfunc\u001b[49m\u001b[43m(\u001b[49m\u001b[43m)\u001b[49m\n",
      "\u001b[1;31mTypeError\u001b[0m: 'int' object is not callable"
     ]
    }
   ],
   "source": [
    "math(10)"
   ]
  },
  {
   "cell_type": "code",
   "execution_count": 61,
   "id": "d5079ca8-77c1-4d8f-83a1-a5f03bc3ef9d",
   "metadata": {},
   "outputs": [],
   "source": [
    "Func = _lambda"
   ]
  },
  {
   "cell_type": "code",
   "execution_count": 62,
   "id": "82fdd91b-a264-4c39-98ba-e34f84602a47",
   "metadata": {},
   "outputs": [
    {
     "data": {
      "text/plain": [
       "<function __main__._lambda(x)>"
      ]
     },
     "execution_count": 62,
     "metadata": {},
     "output_type": "execute_result"
    }
   ],
   "source": [
    "Func"
   ]
  },
  {
   "cell_type": "code",
   "execution_count": 77,
   "id": "773b148e-4dec-42a2-963a-79fe785ab8c9",
   "metadata": {},
   "outputs": [],
   "source": [
    "def math2(func):\n",
    "    return func()"
   ]
  },
  {
   "cell_type": "code",
   "execution_count": 78,
   "id": "d5505478-b1de-4671-8566-45d69180cb5c",
   "metadata": {},
   "outputs": [
    {
     "data": {
      "text/plain": [
       "8"
      ]
     },
     "execution_count": 78,
     "metadata": {},
     "output_type": "execute_result"
    }
   ],
   "source": [
    "math2(lambda x=2: cube(x))"
   ]
  },
  {
   "cell_type": "code",
   "execution_count": 80,
   "id": "b12274eb-b780-4d1a-9529-3321fb2da7a4",
   "metadata": {},
   "outputs": [
    {
     "ename": "TypeError",
     "evalue": "cube() missing 1 required positional argument: 'n'",
     "output_type": "error",
     "traceback": [
      "\u001b[1;31m---------------------------------------------------------------------------\u001b[0m",
      "\u001b[1;31mTypeError\u001b[0m                                 Traceback (most recent call last)",
      "Input \u001b[1;32mIn [80]\u001b[0m, in \u001b[0;36m<cell line: 1>\u001b[1;34m()\u001b[0m\n\u001b[1;32m----> 1\u001b[0m \u001b[43mmath2\u001b[49m\u001b[43m(\u001b[49m\u001b[43mcube\u001b[49m\u001b[43m)\u001b[49m\n",
      "Input \u001b[1;32mIn [77]\u001b[0m, in \u001b[0;36mmath2\u001b[1;34m(func)\u001b[0m\n\u001b[0;32m      1\u001b[0m \u001b[38;5;28;01mdef\u001b[39;00m \u001b[38;5;21mmath2\u001b[39m(func):\n\u001b[1;32m----> 2\u001b[0m     \u001b[38;5;28;01mreturn\u001b[39;00m \u001b[43mfunc\u001b[49m\u001b[43m(\u001b[49m\u001b[43m)\u001b[49m\n",
      "\u001b[1;31mTypeError\u001b[0m: cube() missing 1 required positional argument: 'n'"
     ]
    }
   ],
   "source": [
    "math2(cube)"
   ]
  },
  {
   "cell_type": "code",
   "execution_count": 81,
   "id": "af4c8a80-df8f-4a22-b0be-4a33d484c0c0",
   "metadata": {},
   "outputs": [],
   "source": [
    "def _lambda(x=2):\n",
    "    return cube(x)"
   ]
  },
  {
   "cell_type": "code",
   "execution_count": null,
   "id": "6b8c8d8e-7949-49be-8752-f5dd9c9c446e",
   "metadata": {},
   "outputs": [],
   "source": [
    "def math2(func = _lambda):\n",
    "    return _lambda()"
   ]
  }
 ],
 "metadata": {
  "kernelspec": {
   "display_name": "Python 3 (ipykernel)",
   "language": "python",
   "name": "python3"
  },
  "language_info": {
   "codemirror_mode": {
    "name": "ipython",
    "version": 3
   },
   "file_extension": ".py",
   "mimetype": "text/x-python",
   "name": "python",
   "nbconvert_exporter": "python",
   "pygments_lexer": "ipython3",
   "version": "3.10.5"
  }
 },
 "nbformat": 4,
 "nbformat_minor": 5
}
