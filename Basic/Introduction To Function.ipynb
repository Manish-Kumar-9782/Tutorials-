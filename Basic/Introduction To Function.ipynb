{
 "cells": [
  {
   "cell_type": "markdown",
   "id": "d7518be2-580f-4506-a68c-2ede4208c8e9",
   "metadata": {},
   "source": [
    "## function"
   ]
  },
  {
   "cell_type": "code",
   "execution_count": 48,
   "id": "0981cc1d-b427-4771-ae8c-9373beee542c",
   "metadata": {},
   "outputs": [],
   "source": [
    " a = 20"
   ]
  },
  {
   "cell_type": "code",
   "execution_count": 49,
   "id": "e9467475-e7b5-41a4-807d-2432a7039d70",
   "metadata": {},
   "outputs": [
    {
     "data": {
      "text/plain": [
       "20"
      ]
     },
     "execution_count": 49,
     "metadata": {},
     "output_type": "execute_result"
    }
   ],
   "source": [
    "a"
   ]
  },
  {
   "cell_type": "code",
   "execution_count": 53,
   "id": "f3a49155-7313-4cd2-8ab1-35237f91911d",
   "metadata": {},
   "outputs": [],
   "source": [
    "def show1():\n",
    "    global a;\n",
    "    a = 10;\n",
    "    b = 20;\n",
    "    print(\"a is : \", a)\n",
    "    print(\"b is : \", b)"
   ]
  },
  {
   "cell_type": "code",
   "execution_count": 51,
   "id": "aec39f70-33a4-48cb-9339-dd16431cffe1",
   "metadata": {},
   "outputs": [
    {
     "name": "stdout",
     "output_type": "stream",
     "text": [
      "a is :  10\n",
      "b is :  20\n"
     ]
    }
   ],
   "source": [
    "show1()"
   ]
  },
  {
   "cell_type": "code",
   "execution_count": 52,
   "id": "abcb587f-e5d1-4c63-9ff0-7f39fd17da9d",
   "metadata": {},
   "outputs": [
    {
     "data": {
      "text/plain": [
       "10"
      ]
     },
     "execution_count": 52,
     "metadata": {},
     "output_type": "execute_result"
    }
   ],
   "source": [
    "a"
   ]
  },
  {
   "cell_type": "code",
   "execution_count": 10,
   "id": "83051602-da4d-459b-9cb6-d3ce2831fc2d",
   "metadata": {},
   "outputs": [
    {
     "ename": "NameError",
     "evalue": "name 'a' is not defined",
     "output_type": "error",
     "traceback": [
      "\u001b[1;31m---------------------------------------------------------------------------\u001b[0m",
      "\u001b[1;31mNameError\u001b[0m                                 Traceback (most recent call last)",
      "Input \u001b[1;32mIn [10]\u001b[0m, in \u001b[0;36m<cell line: 1>\u001b[1;34m()\u001b[0m\n\u001b[1;32m----> 1\u001b[0m \u001b[43ma\u001b[49m\n",
      "\u001b[1;31mNameError\u001b[0m: name 'a' is not defined"
     ]
    }
   ],
   "source": [
    "a"
   ]
  },
  {
   "cell_type": "code",
   "execution_count": 14,
   "id": "d103fd93-4828-4a75-8d65-250f230b975d",
   "metadata": {},
   "outputs": [],
   "source": [
    "Name1 = \"Manish\""
   ]
  },
  {
   "cell_type": "code",
   "execution_count": 20,
   "id": "c56388a7-6a0a-494a-b9c9-d9a8e0249928",
   "metadata": {},
   "outputs": [],
   "source": [
    "Name2 = \"Manish\" + \"Kumar\""
   ]
  },
  {
   "cell_type": "code",
   "execution_count": 17,
   "id": "17f15c94-ffa2-437c-8460-934b1ae432d8",
   "metadata": {},
   "outputs": [
    {
     "data": {
      "text/plain": [
       "True"
      ]
     },
     "execution_count": 17,
     "metadata": {},
     "output_type": "execute_result"
    }
   ],
   "source": [
    "Name1 is Name2"
   ]
  },
  {
   "cell_type": "code",
   "execution_count": 18,
   "id": "cfdfab45-ec28-4e47-9f02-1015212bd450",
   "metadata": {},
   "outputs": [
    {
     "data": {
      "text/plain": [
       "2387481933488"
      ]
     },
     "execution_count": 18,
     "metadata": {},
     "output_type": "execute_result"
    }
   ],
   "source": [
    "id(Name1)"
   ]
  },
  {
   "cell_type": "code",
   "execution_count": 19,
   "id": "9639d315-2892-4308-acf5-bb51f45d2935",
   "metadata": {},
   "outputs": [
    {
     "data": {
      "text/plain": [
       "2387481933488"
      ]
     },
     "execution_count": 19,
     "metadata": {},
     "output_type": "execute_result"
    }
   ],
   "source": [
    "id(Name2)"
   ]
  },
  {
   "cell_type": "code",
   "execution_count": 21,
   "id": "abe5e0ea-a19b-4eb9-b637-69dce227a47f",
   "metadata": {},
   "outputs": [
    {
     "data": {
      "text/plain": [
       "'Manish'"
      ]
     },
     "execution_count": 21,
     "metadata": {},
     "output_type": "execute_result"
    }
   ],
   "source": [
    "Name1"
   ]
  },
  {
   "cell_type": "code",
   "execution_count": 22,
   "id": "e31f94e0-de0c-491d-82ec-71f3ecfd5c60",
   "metadata": {},
   "outputs": [
    {
     "data": {
      "text/plain": [
       "'ManishKumar'"
      ]
     },
     "execution_count": 22,
     "metadata": {},
     "output_type": "execute_result"
    }
   ],
   "source": [
    "Name2"
   ]
  },
  {
   "cell_type": "code",
   "execution_count": 23,
   "id": "53dffa21-8c6f-4083-8aa0-d162bbe1fb1e",
   "metadata": {},
   "outputs": [
    {
     "data": {
      "text/plain": [
       "2387482630320"
      ]
     },
     "execution_count": 23,
     "metadata": {},
     "output_type": "execute_result"
    }
   ],
   "source": [
    "id(Name2)"
   ]
  },
  {
   "cell_type": "code",
   "execution_count": 24,
   "id": "c91bad8b-07fe-4b48-8bc4-0e3c681c1870",
   "metadata": {},
   "outputs": [],
   "source": [
    "Name3 = \"ManishKumar\""
   ]
  },
  {
   "cell_type": "code",
   "execution_count": 25,
   "id": "845be5ac-6204-4ad8-9f6e-d5b04cf0000c",
   "metadata": {},
   "outputs": [
    {
     "data": {
      "text/plain": [
       "2387482630320"
      ]
     },
     "execution_count": 25,
     "metadata": {},
     "output_type": "execute_result"
    }
   ],
   "source": [
    "id(Name3)"
   ]
  },
  {
   "cell_type": "code",
   "execution_count": 26,
   "id": "3a394426-fe26-4054-8e25-5f1b095eb861",
   "metadata": {},
   "outputs": [
    {
     "data": {
      "text/plain": [
       "True"
      ]
     },
     "execution_count": 26,
     "metadata": {},
     "output_type": "execute_result"
    }
   ],
   "source": [
    "Name2 is Name3"
   ]
  },
  {
   "cell_type": "code",
   "execution_count": 54,
   "id": "e940b81f-89eb-40e6-a3ca-2b9fb4614a56",
   "metadata": {},
   "outputs": [],
   "source": [
    "def name(first=\"Manish\", second=\"Kumar\"):\n",
    "    print(f\"{first} {second}\")"
   ]
  },
  {
   "cell_type": "code",
   "execution_count": 55,
   "id": "9ae4aa8f-37cd-4018-a18a-d8c2fd4d61d6",
   "metadata": {},
   "outputs": [
    {
     "name": "stdout",
     "output_type": "stream",
     "text": [
      "Hello Kumar\n"
     ]
    }
   ],
   "source": [
    "name(first=\"Hello\")"
   ]
  },
  {
   "cell_type": "code",
   "execution_count": 56,
   "id": "00c8f3e5-d5e0-46cc-9dc5-3f7dbdcde2ef",
   "metadata": {},
   "outputs": [],
   "source": [
    "import numpy as np"
   ]
  },
  {
   "cell_type": "code",
   "execution_count": 71,
   "id": "ab0326ff-1b5f-4c6e-8079-f8cc586a5a70",
   "metadata": {},
   "outputs": [],
   "source": [
    "def kwargs(**kwargs):\n",
    "    \n",
    "    para_list = [\"first\", \"second\"]\n",
    "    \n",
    "    for key in kwargs:\n",
    "        if key in para_list:\n",
    "            pass\n",
    "        else:\n",
    "            raise KeyError(f\"{key} is not a valid argument\")\n",
    "            \n",
    "            \n",
    "    print(kw)"
   ]
  },
  {
   "cell_type": "code",
   "execution_count": 72,
   "id": "d22eabe9-e232-4ba8-8d6c-4f237968f869",
   "metadata": {},
   "outputs": [
    {
     "ename": "KeyError",
     "evalue": "'school is not a valid argument'",
     "output_type": "error",
     "traceback": [
      "\u001b[1;31m---------------------------------------------------------------------------\u001b[0m",
      "\u001b[1;31mKeyError\u001b[0m                                  Traceback (most recent call last)",
      "Input \u001b[1;32mIn [72]\u001b[0m, in \u001b[0;36m<cell line: 1>\u001b[1;34m()\u001b[0m\n\u001b[1;32m----> 1\u001b[0m \u001b[43mkwargs\u001b[49m\u001b[43m(\u001b[49m\u001b[43mfirst\u001b[49m\u001b[38;5;241;43m=\u001b[39;49m\u001b[38;5;124;43m\"\u001b[39;49m\u001b[38;5;124;43mManish\u001b[39;49m\u001b[38;5;124;43m\"\u001b[39;49m\u001b[43m,\u001b[49m\u001b[43m \u001b[49m\u001b[43msecond\u001b[49m\u001b[38;5;241;43m=\u001b[39;49m\u001b[38;5;124;43m\"\u001b[39;49m\u001b[38;5;124;43mkumar\u001b[39;49m\u001b[38;5;124;43m\"\u001b[39;49m\u001b[43m,\u001b[49m\u001b[43m \u001b[49m\u001b[43mschool\u001b[49m\u001b[38;5;241;43m=\u001b[39;49m\u001b[38;5;124;43m\"\u001b[39;49m\u001b[38;5;124;43mSMDJ\u001b[39;49m\u001b[38;5;124;43m\"\u001b[39;49m\u001b[43m)\u001b[49m\n",
      "Input \u001b[1;32mIn [71]\u001b[0m, in \u001b[0;36mkwargs\u001b[1;34m(**kwargs)\u001b[0m\n\u001b[0;32m      7\u001b[0m         \u001b[38;5;28;01mpass\u001b[39;00m\n\u001b[0;32m      8\u001b[0m     \u001b[38;5;28;01melse\u001b[39;00m:\n\u001b[1;32m----> 9\u001b[0m         \u001b[38;5;28;01mraise\u001b[39;00m \u001b[38;5;167;01mKeyError\u001b[39;00m(\u001b[38;5;124mf\u001b[39m\u001b[38;5;124m\"\u001b[39m\u001b[38;5;132;01m{\u001b[39;00mkey\u001b[38;5;132;01m}\u001b[39;00m\u001b[38;5;124m is not a valid argument\u001b[39m\u001b[38;5;124m\"\u001b[39m)\n\u001b[0;32m     12\u001b[0m \u001b[38;5;28mprint\u001b[39m(kw)\n",
      "\u001b[1;31mKeyError\u001b[0m: 'school is not a valid argument'"
     ]
    }
   ],
   "source": [
    "kwargs(first=\"Manish\", second=\"kumar\", school=\"SMDJ\")"
   ]
  },
  {
   "cell_type": "code",
   "execution_count": 64,
   "id": "f7da1c36-af8f-41b0-b4cd-2e02e790c17b",
   "metadata": {},
   "outputs": [],
   "source": [
    "import tkinter as tk"
   ]
  },
  {
   "cell_type": "code",
   "execution_count": 67,
   "id": "cb0e041d-2948-459a-9e83-d810fff012e1",
   "metadata": {},
   "outputs": [],
   "source": [
    "main = tk.Tk()"
   ]
  },
  {
   "cell_type": "code",
   "execution_count": 73,
   "id": "9ec95aae-7b90-47cd-bac3-b91858011230",
   "metadata": {},
   "outputs": [
    {
     "ename": "TclError",
     "evalue": "unknown option \"-padz\"",
     "output_type": "error",
     "traceback": [
      "\u001b[1;31m---------------------------------------------------------------------------\u001b[0m",
      "\u001b[1;31mTclError\u001b[0m                                  Traceback (most recent call last)",
      "Input \u001b[1;32mIn [73]\u001b[0m, in \u001b[0;36m<cell line: 1>\u001b[1;34m()\u001b[0m\n\u001b[1;32m----> 1\u001b[0m label \u001b[38;5;241m=\u001b[39m \u001b[43mtk\u001b[49m\u001b[38;5;241;43m.\u001b[39;49m\u001b[43mLabel\u001b[49m\u001b[43m(\u001b[49m\u001b[43mpadz\u001b[49m\u001b[38;5;241;43m=\u001b[39;49m\u001b[38;5;241;43m10\u001b[39;49m\u001b[43m)\u001b[49m\n",
      "File \u001b[1;32mi:\\programs\\python\\python 3.8.3\\lib\\tkinter\\__init__.py:3143\u001b[0m, in \u001b[0;36mLabel.__init__\u001b[1;34m(self, master, cnf, **kw)\u001b[0m\n\u001b[0;32m   3125\u001b[0m \u001b[38;5;28;01mdef\u001b[39;00m \u001b[38;5;21m__init__\u001b[39m(\u001b[38;5;28mself\u001b[39m, master\u001b[38;5;241m=\u001b[39m\u001b[38;5;28;01mNone\u001b[39;00m, cnf\u001b[38;5;241m=\u001b[39m{}, \u001b[38;5;241m*\u001b[39m\u001b[38;5;241m*\u001b[39mkw):\n\u001b[0;32m   3126\u001b[0m     \u001b[38;5;124;03m\"\"\"Construct a label widget with the parent MASTER.\u001b[39;00m\n\u001b[0;32m   3127\u001b[0m \n\u001b[0;32m   3128\u001b[0m \u001b[38;5;124;03m    STANDARD OPTIONS\u001b[39;00m\n\u001b[1;32m   (...)\u001b[0m\n\u001b[0;32m   3141\u001b[0m \n\u001b[0;32m   3142\u001b[0m \u001b[38;5;124;03m    \"\"\"\u001b[39;00m\n\u001b[1;32m-> 3143\u001b[0m     \u001b[43mWidget\u001b[49m\u001b[38;5;241;43m.\u001b[39;49m\u001b[38;5;21;43m__init__\u001b[39;49m\u001b[43m(\u001b[49m\u001b[38;5;28;43mself\u001b[39;49m\u001b[43m,\u001b[49m\u001b[43m \u001b[49m\u001b[43mmaster\u001b[49m\u001b[43m,\u001b[49m\u001b[43m \u001b[49m\u001b[38;5;124;43m'\u001b[39;49m\u001b[38;5;124;43mlabel\u001b[39;49m\u001b[38;5;124;43m'\u001b[39;49m\u001b[43m,\u001b[49m\u001b[43m \u001b[49m\u001b[43mcnf\u001b[49m\u001b[43m,\u001b[49m\u001b[43m \u001b[49m\u001b[43mkw\u001b[49m\u001b[43m)\u001b[49m\n",
      "File \u001b[1;32mi:\\programs\\python\\python 3.8.3\\lib\\tkinter\\__init__.py:2567\u001b[0m, in \u001b[0;36mBaseWidget.__init__\u001b[1;34m(self, master, widgetName, cnf, kw, extra)\u001b[0m\n\u001b[0;32m   2565\u001b[0m \u001b[38;5;28;01mfor\u001b[39;00m k, v \u001b[38;5;129;01min\u001b[39;00m classes:\n\u001b[0;32m   2566\u001b[0m     \u001b[38;5;28;01mdel\u001b[39;00m cnf[k]\n\u001b[1;32m-> 2567\u001b[0m \u001b[38;5;28;43mself\u001b[39;49m\u001b[38;5;241;43m.\u001b[39;49m\u001b[43mtk\u001b[49m\u001b[38;5;241;43m.\u001b[39;49m\u001b[43mcall\u001b[49m\u001b[43m(\u001b[49m\n\u001b[0;32m   2568\u001b[0m \u001b[43m    \u001b[49m\u001b[43m(\u001b[49m\u001b[43mwidgetName\u001b[49m\u001b[43m,\u001b[49m\u001b[43m \u001b[49m\u001b[38;5;28;43mself\u001b[39;49m\u001b[38;5;241;43m.\u001b[39;49m\u001b[43m_w\u001b[49m\u001b[43m)\u001b[49m\u001b[43m \u001b[49m\u001b[38;5;241;43m+\u001b[39;49m\u001b[43m \u001b[49m\u001b[43mextra\u001b[49m\u001b[43m \u001b[49m\u001b[38;5;241;43m+\u001b[39;49m\u001b[43m \u001b[49m\u001b[38;5;28;43mself\u001b[39;49m\u001b[38;5;241;43m.\u001b[39;49m\u001b[43m_options\u001b[49m\u001b[43m(\u001b[49m\u001b[43mcnf\u001b[49m\u001b[43m)\u001b[49m\u001b[43m)\u001b[49m\n\u001b[0;32m   2569\u001b[0m \u001b[38;5;28;01mfor\u001b[39;00m k, v \u001b[38;5;129;01min\u001b[39;00m classes:\n\u001b[0;32m   2570\u001b[0m     k\u001b[38;5;241m.\u001b[39mconfigure(\u001b[38;5;28mself\u001b[39m, v)\n",
      "\u001b[1;31mTclError\u001b[0m: unknown option \"-padz\""
     ]
    }
   ],
   "source": [
    "label = tk.Label(padz=10)"
   ]
  },
  {
   "cell_type": "code",
   "execution_count": 66,
   "id": "155d4cb7-0b1d-48c6-af98-1be4fbd27b04",
   "metadata": {},
   "outputs": [],
   "source": [
    "main.mainloop()"
   ]
  },
  {
   "cell_type": "code",
   "execution_count": 1,
   "id": "da28487c-6e38-46a4-9fb5-1f4a8cb7700f",
   "metadata": {},
   "outputs": [],
   "source": [
    "def Triangle(number=5):\n",
    "    \n",
    "    for i in range(0,number+1):\n",
    "        \n",
    "        for j in range(0,i):\n",
    "            print(\"*\", end='')\n",
    "            \n",
    "        print()"
   ]
  },
  {
   "cell_type": "code",
   "execution_count": 2,
   "id": "931bfeda-80fe-4a5e-a96a-ead8c865a2cf",
   "metadata": {},
   "outputs": [
    {
     "name": "stdout",
     "output_type": "stream",
     "text": [
      "\n",
      "*\n",
      "**\n",
      "***\n",
      "****\n",
      "*****\n"
     ]
    }
   ],
   "source": [
    "Triangle()"
   ]
  },
  {
   "cell_type": "code",
   "execution_count": 3,
   "id": "a6628f83-77d2-43e2-908a-26a949afcd8a",
   "metadata": {},
   "outputs": [],
   "source": [
    "def RTriangle(number=5):\n",
    "    \n",
    "    for i in range(0,number+1):\n",
    "        \n",
    "        for j in range(0,number-i):\n",
    "            print(\"*\", end='')\n",
    "            \n",
    "        print()"
   ]
  },
  {
   "cell_type": "code",
   "execution_count": 4,
   "id": "bf5a9a8c-7675-4eb6-bf72-ffd25b85e192",
   "metadata": {},
   "outputs": [
    {
     "name": "stdout",
     "output_type": "stream",
     "text": [
      "*****\n",
      "****\n",
      "***\n",
      "**\n",
      "*\n",
      "\n"
     ]
    }
   ],
   "source": [
    "RTriangle()"
   ]
  },
  {
   "cell_type": "code",
   "execution_count": 5,
   "id": "e39381d4-c469-481d-b76e-ed9660963d0d",
   "metadata": {},
   "outputs": [],
   "source": [
    "def draw(shape=\"Triangle\", n=5):\n",
    "    \n",
    "    shapes = [Triangle, RTriangle]\n",
    "    \n",
    "    \n",
    "    \n",
    "    if shape == \"Triangle\":\n",
    "        Triangle(n)\n",
    "    elif shape == \"RTriangle\":\n",
    "        RTriangle(n)\n",
    "    else:\n",
    "        raise Exception(f\"Shape {shape} is not defined\")"
   ]
  },
  {
   "cell_type": "code",
   "execution_count": 9,
   "id": "92e51048-50a9-46f9-9c60-5a54e6c547ab",
   "metadata": {},
   "outputs": [
    {
     "name": "stdin",
     "output_type": "stream",
     "text": [
      "Enter Shape Name:  rect\n",
      "Size of shape:  10\n"
     ]
    },
    {
     "ename": "KeyError",
     "evalue": "'shape rect is not defined'",
     "output_type": "error",
     "traceback": [
      "\u001b[1;31m---------------------------------------------------------------------------\u001b[0m",
      "\u001b[1;31mKeyError\u001b[0m                                  Traceback (most recent call last)",
      "Input \u001b[1;32mIn [17]\u001b[0m, in \u001b[0;36mdraw\u001b[1;34m(shape, n)\u001b[0m\n\u001b[0;32m      6\u001b[0m \u001b[38;5;28;01mtry\u001b[39;00m:\n\u001b[1;32m----> 7\u001b[0m     \u001b[43mshapes\u001b[49m\u001b[43m[\u001b[49m\u001b[43mshape\u001b[49m\u001b[43m]\u001b[49m(n)\n\u001b[0;32m      8\u001b[0m \u001b[38;5;28;01mexcept\u001b[39;00m \u001b[38;5;167;01mKeyError\u001b[39;00m:\n",
      "\u001b[1;31mKeyError\u001b[0m: 'rect'",
      "\nDuring handling of the above exception, another exception occurred:\n",
      "\u001b[1;31mKeyError\u001b[0m                                  Traceback (most recent call last)",
      "Input \u001b[1;32mIn [18]\u001b[0m, in \u001b[0;36m<cell line: 3>\u001b[1;34m()\u001b[0m\n\u001b[0;32m      1\u001b[0m Shape \u001b[38;5;241m=\u001b[39m \u001b[38;5;28minput\u001b[39m(\u001b[38;5;124m\"\u001b[39m\u001b[38;5;124mEnter Shape Name: \u001b[39m\u001b[38;5;124m\"\u001b[39m)\n\u001b[0;32m      2\u001b[0m nrows \u001b[38;5;241m=\u001b[39m \u001b[38;5;28mint\u001b[39m(\u001b[38;5;28minput\u001b[39m(\u001b[38;5;124m\"\u001b[39m\u001b[38;5;124mSize of shape: \u001b[39m\u001b[38;5;124m\"\u001b[39m))\n\u001b[1;32m----> 3\u001b[0m \u001b[43mdraw\u001b[49m\u001b[43m(\u001b[49m\u001b[43mShape\u001b[49m\u001b[43m,\u001b[49m\u001b[43m \u001b[49m\u001b[43mnrows\u001b[49m\u001b[43m)\u001b[49m\n",
      "Input \u001b[1;32mIn [17]\u001b[0m, in \u001b[0;36mdraw\u001b[1;34m(shape, n)\u001b[0m\n\u001b[0;32m      7\u001b[0m     shapes[shape](n)\n\u001b[0;32m      8\u001b[0m \u001b[38;5;28;01mexcept\u001b[39;00m \u001b[38;5;167;01mKeyError\u001b[39;00m:\n\u001b[1;32m----> 9\u001b[0m     \u001b[38;5;28;01mraise\u001b[39;00m \u001b[38;5;167;01mKeyError\u001b[39;00m(\u001b[38;5;124mf\u001b[39m\u001b[38;5;124m\"\u001b[39m\u001b[38;5;124mshape \u001b[39m\u001b[38;5;132;01m{\u001b[39;00mshape\u001b[38;5;132;01m}\u001b[39;00m\u001b[38;5;124m is not defined\u001b[39m\u001b[38;5;124m\"\u001b[39m)\n",
      "\u001b[1;31mKeyError\u001b[0m: 'shape rect is not defined'"
     ]
    }
   ],
   "source": [
    "Shape = input(\"Enter Shape Name: \")\n",
    "nrows = int(input(\"Size of shape: \"))\n",
    "draw(Shape, nrows)"
   ]
  },
  {
   "cell_type": "code",
   "execution_count": null,
   "id": "c3fd6339-fb93-4289-a5bb-7ae30bcc2266",
   "metadata": {},
   "outputs": [],
   "source": []
  }
 ],
 "metadata": {
  "kernelspec": {
   "display_name": "Python 3 (ipykernel)",
   "language": "python",
   "name": "python3"
  },
  "language_info": {
   "codemirror_mode": {
    "name": "ipython",
    "version": 3
   },
   "file_extension": ".py",
   "mimetype": "text/x-python",
   "name": "python",
   "nbconvert_exporter": "python",
   "pygments_lexer": "ipython3",
   "version": "3.8.3"
  }
 },
 "nbformat": 4,
 "nbformat_minor": 5
}
