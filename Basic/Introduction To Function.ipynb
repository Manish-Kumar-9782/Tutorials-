{
 "cells": [
  {
   "cell_type": "markdown",
   "id": "d7518be2-580f-4506-a68c-2ede4208c8e9",
   "metadata": {},
   "source": [
    "## function"
   ]
  },
  {
   "cell_type": "code",
   "execution_count": 1,
   "id": "0981cc1d-b427-4771-ae8c-9373beee542c",
   "metadata": {},
   "outputs": [],
   "source": [
    " a = 20"
   ]
  },
  {
   "cell_type": "code",
   "execution_count": 2,
   "id": "e9467475-e7b5-41a4-807d-2432a7039d70",
   "metadata": {},
   "outputs": [
    {
     "data": {
      "text/plain": [
       "20"
      ]
     },
     "execution_count": 2,
     "metadata": {},
     "output_type": "execute_result"
    }
   ],
   "source": [
    "a"
   ]
  },
  {
   "cell_type": "code",
   "execution_count": 3,
   "id": "f3a49155-7313-4cd2-8ab1-35237f91911d",
   "metadata": {},
   "outputs": [],
   "source": [
    "def show1():\n",
    "    global a;\n",
    "    a = 10;\n",
    "    b = 20;\n",
    "    print(\"a is : \", a)\n",
    "    print(\"b is : \", b)"
   ]
  },
  {
   "cell_type": "code",
   "execution_count": 4,
   "id": "aec39f70-33a4-48cb-9339-dd16431cffe1",
   "metadata": {},
   "outputs": [
    {
     "name": "stdout",
     "output_type": "stream",
     "text": [
      "a is :  10\n",
      "b is :  20\n"
     ]
    }
   ],
   "source": [
    "show1()"
   ]
  },
  {
   "cell_type": "code",
   "execution_count": 5,
   "id": "abcb587f-e5d1-4c63-9ff0-7f39fd17da9d",
   "metadata": {},
   "outputs": [
    {
     "data": {
      "text/plain": [
       "10"
      ]
     },
     "execution_count": 5,
     "metadata": {},
     "output_type": "execute_result"
    }
   ],
   "source": [
    "a"
   ]
  },
  {
   "cell_type": "code",
   "execution_count": 6,
   "id": "83051602-da4d-459b-9cb6-d3ce2831fc2d",
   "metadata": {},
   "outputs": [
    {
     "data": {
      "text/plain": [
       "10"
      ]
     },
     "execution_count": 6,
     "metadata": {},
     "output_type": "execute_result"
    }
   ],
   "source": [
    "a"
   ]
  },
  {
   "cell_type": "code",
   "execution_count": 7,
   "id": "d103fd93-4828-4a75-8d65-250f230b975d",
   "metadata": {},
   "outputs": [],
   "source": [
    "Name1 = \"Manish\""
   ]
  },
  {
   "cell_type": "code",
   "execution_count": 8,
   "id": "c56388a7-6a0a-494a-b9c9-d9a8e0249928",
   "metadata": {},
   "outputs": [],
   "source": [
    "Name2 = \"Manish\" + \"Kumar\""
   ]
  },
  {
   "cell_type": "code",
   "execution_count": 9,
   "id": "17f15c94-ffa2-437c-8460-934b1ae432d8",
   "metadata": {},
   "outputs": [
    {
     "data": {
      "text/plain": [
       "False"
      ]
     },
     "execution_count": 9,
     "metadata": {},
     "output_type": "execute_result"
    }
   ],
   "source": [
    "Name1 is Name2"
   ]
  },
  {
   "cell_type": "code",
   "execution_count": 10,
   "id": "cfdfab45-ec28-4e47-9f02-1015212bd450",
   "metadata": {},
   "outputs": [
    {
     "data": {
      "text/plain": [
       "2314480491504"
      ]
     },
     "execution_count": 10,
     "metadata": {},
     "output_type": "execute_result"
    }
   ],
   "source": [
    "id(Name1)"
   ]
  },
  {
   "cell_type": "code",
   "execution_count": 11,
   "id": "9639d315-2892-4308-acf5-bb51f45d2935",
   "metadata": {},
   "outputs": [
    {
     "data": {
      "text/plain": [
       "2314479905136"
      ]
     },
     "execution_count": 11,
     "metadata": {},
     "output_type": "execute_result"
    }
   ],
   "source": [
    "id(Name2)"
   ]
  },
  {
   "cell_type": "code",
   "execution_count": 12,
   "id": "abe5e0ea-a19b-4eb9-b637-69dce227a47f",
   "metadata": {},
   "outputs": [
    {
     "data": {
      "text/plain": [
       "'Manish'"
      ]
     },
     "execution_count": 12,
     "metadata": {},
     "output_type": "execute_result"
    }
   ],
   "source": [
    "Name1"
   ]
  },
  {
   "cell_type": "code",
   "execution_count": 13,
   "id": "e31f94e0-de0c-491d-82ec-71f3ecfd5c60",
   "metadata": {},
   "outputs": [
    {
     "data": {
      "text/plain": [
       "'ManishKumar'"
      ]
     },
     "execution_count": 13,
     "metadata": {},
     "output_type": "execute_result"
    }
   ],
   "source": [
    "Name2"
   ]
  },
  {
   "cell_type": "code",
   "execution_count": 14,
   "id": "53dffa21-8c6f-4083-8aa0-d162bbe1fb1e",
   "metadata": {},
   "outputs": [
    {
     "data": {
      "text/plain": [
       "2314479905136"
      ]
     },
     "execution_count": 14,
     "metadata": {},
     "output_type": "execute_result"
    }
   ],
   "source": [
    "id(Name2)"
   ]
  },
  {
   "cell_type": "code",
   "execution_count": 15,
   "id": "c91bad8b-07fe-4b48-8bc4-0e3c681c1870",
   "metadata": {},
   "outputs": [],
   "source": [
    "Name3 = \"ManishKumar\""
   ]
  },
  {
   "cell_type": "code",
   "execution_count": 16,
   "id": "845be5ac-6204-4ad8-9f6e-d5b04cf0000c",
   "metadata": {},
   "outputs": [
    {
     "data": {
      "text/plain": [
       "2314479905136"
      ]
     },
     "execution_count": 16,
     "metadata": {},
     "output_type": "execute_result"
    }
   ],
   "source": [
    "id(Name3)"
   ]
  },
  {
   "cell_type": "code",
   "execution_count": 17,
   "id": "3a394426-fe26-4054-8e25-5f1b095eb861",
   "metadata": {},
   "outputs": [
    {
     "data": {
      "text/plain": [
       "True"
      ]
     },
     "execution_count": 17,
     "metadata": {},
     "output_type": "execute_result"
    }
   ],
   "source": [
    "Name2 is Name3"
   ]
  },
  {
   "cell_type": "code",
   "execution_count": 18,
   "id": "e940b81f-89eb-40e6-a3ca-2b9fb4614a56",
   "metadata": {},
   "outputs": [],
   "source": [
    "def name(first=\"Manish\", second=\"Kumar\"):\n",
    "    print(f\"{first} {second}\")"
   ]
  },
  {
   "cell_type": "code",
   "execution_count": 19,
   "id": "9ae4aa8f-37cd-4018-a18a-d8c2fd4d61d6",
   "metadata": {},
   "outputs": [
    {
     "name": "stdout",
     "output_type": "stream",
     "text": [
      "Hello Kumar\n"
     ]
    }
   ],
   "source": [
    "name(first=\"Hello\")"
   ]
  },
  {
   "cell_type": "code",
   "execution_count": 20,
   "id": "00c8f3e5-d5e0-46cc-9dc5-3f7dbdcde2ef",
   "metadata": {},
   "outputs": [],
   "source": [
    "import numpy as np"
   ]
  },
  {
   "cell_type": "code",
   "execution_count": 21,
   "id": "ab0326ff-1b5f-4c6e-8079-f8cc586a5a70",
   "metadata": {},
   "outputs": [],
   "source": [
    "def kwargs(**kwargs):\n",
    "    \n",
    "    para_list = [\"first\", \"second\"]\n",
    "    \n",
    "    for key in kwargs:\n",
    "        if key in para_list:\n",
    "            pass\n",
    "        else:\n",
    "            raise KeyError(f\"{key} is not a valid argument\")\n",
    "            \n",
    "            \n",
    "    print(kw)"
   ]
  },
  {
   "cell_type": "code",
   "execution_count": 22,
   "id": "d22eabe9-e232-4ba8-8d6c-4f237968f869",
   "metadata": {},
   "outputs": [
    {
     "ename": "KeyError",
     "evalue": "'school is not a valid argument'",
     "output_type": "error",
     "traceback": [
      "\u001b[1;31m---------------------------------------------------------------------------\u001b[0m",
      "\u001b[1;31mKeyError\u001b[0m                                  Traceback (most recent call last)",
      "Input \u001b[1;32mIn [22]\u001b[0m, in \u001b[0;36m<cell line: 1>\u001b[1;34m()\u001b[0m\n\u001b[1;32m----> 1\u001b[0m \u001b[43mkwargs\u001b[49m\u001b[43m(\u001b[49m\u001b[43mfirst\u001b[49m\u001b[38;5;241;43m=\u001b[39;49m\u001b[38;5;124;43m\"\u001b[39;49m\u001b[38;5;124;43mManish\u001b[39;49m\u001b[38;5;124;43m\"\u001b[39;49m\u001b[43m,\u001b[49m\u001b[43m \u001b[49m\u001b[43msecond\u001b[49m\u001b[38;5;241;43m=\u001b[39;49m\u001b[38;5;124;43m\"\u001b[39;49m\u001b[38;5;124;43mkumar\u001b[39;49m\u001b[38;5;124;43m\"\u001b[39;49m\u001b[43m,\u001b[49m\u001b[43m \u001b[49m\u001b[43mschool\u001b[49m\u001b[38;5;241;43m=\u001b[39;49m\u001b[38;5;124;43m\"\u001b[39;49m\u001b[38;5;124;43mSMDJ\u001b[39;49m\u001b[38;5;124;43m\"\u001b[39;49m\u001b[43m)\u001b[49m\n",
      "Input \u001b[1;32mIn [21]\u001b[0m, in \u001b[0;36mkwargs\u001b[1;34m(**kwargs)\u001b[0m\n\u001b[0;32m      7\u001b[0m         \u001b[38;5;28;01mpass\u001b[39;00m\n\u001b[0;32m      8\u001b[0m     \u001b[38;5;28;01melse\u001b[39;00m:\n\u001b[1;32m----> 9\u001b[0m         \u001b[38;5;28;01mraise\u001b[39;00m \u001b[38;5;167;01mKeyError\u001b[39;00m(\u001b[38;5;124mf\u001b[39m\u001b[38;5;124m\"\u001b[39m\u001b[38;5;132;01m{\u001b[39;00mkey\u001b[38;5;132;01m}\u001b[39;00m\u001b[38;5;124m is not a valid argument\u001b[39m\u001b[38;5;124m\"\u001b[39m)\n\u001b[0;32m     12\u001b[0m \u001b[38;5;28mprint\u001b[39m(kw)\n",
      "\u001b[1;31mKeyError\u001b[0m: 'school is not a valid argument'"
     ]
    }
   ],
   "source": [
    "kwargs(first=\"Manish\", second=\"kumar\", school=\"SMDJ\")"
   ]
  },
  {
   "cell_type": "code",
   "execution_count": 23,
   "id": "da28487c-6e38-46a4-9fb5-1f4a8cb7700f",
   "metadata": {},
   "outputs": [],
   "source": [
    "def Triangle(number=5):\n",
    "    \n",
    "    for i in range(0,number+1):\n",
    "        \n",
    "        for j in range(0,i):\n",
    "            print(\"*\", end='')\n",
    "            \n",
    "        print()"
   ]
  },
  {
   "cell_type": "code",
   "execution_count": 24,
   "id": "931bfeda-80fe-4a5e-a96a-ead8c865a2cf",
   "metadata": {},
   "outputs": [
    {
     "name": "stdout",
     "output_type": "stream",
     "text": [
      "\n",
      "*\n",
      "**\n",
      "***\n",
      "****\n",
      "*****\n"
     ]
    }
   ],
   "source": [
    "Triangle()"
   ]
  },
  {
   "cell_type": "code",
   "execution_count": 25,
   "id": "a6628f83-77d2-43e2-908a-26a949afcd8a",
   "metadata": {},
   "outputs": [],
   "source": [
    "def RTriangle(number=5):\n",
    "    \n",
    "    for i in range(0,number+1):\n",
    "        \n",
    "        for j in range(0,number-i):\n",
    "            print(\"*\", end='')\n",
    "            \n",
    "        print()"
   ]
  },
  {
   "cell_type": "code",
   "execution_count": 26,
   "id": "bf5a9a8c-7675-4eb6-bf72-ffd25b85e192",
   "metadata": {},
   "outputs": [
    {
     "name": "stdout",
     "output_type": "stream",
     "text": [
      "*****\n",
      "****\n",
      "***\n",
      "**\n",
      "*\n",
      "\n"
     ]
    }
   ],
   "source": [
    "RTriangle()"
   ]
  },
  {
   "cell_type": "code",
   "execution_count": 27,
   "id": "e39381d4-c469-481d-b76e-ed9660963d0d",
   "metadata": {},
   "outputs": [],
   "source": [
    "def draw(shape=\"Triangle\", n=5):\n",
    "    \n",
    "    shapes = [Triangle, RTriangle]\n",
    "    \n",
    "    if shape == \"Triangle\":\n",
    "        Triangle(n)\n",
    "    elif shape == \"RTriangle\":\n",
    "        RTriangle(n)\n",
    "    else:\n",
    "        raise Exception(f\"Shape {shape} is not defined\")"
   ]
  },
  {
   "cell_type": "code",
   "execution_count": null,
   "id": "92e51048-50a9-46f9-9c60-5a54e6c547ab",
   "metadata": {},
   "outputs": [],
   "source": [
    "Shape = input(\"Enter Shape Name: \")\n",
    "nrows = int(input(\"Size of shape: \"))\n",
    "draw(Shape, nrows)"
   ]
  },
  {
   "cell_type": "code",
   "execution_count": null,
   "id": "c3fd6339-fb93-4289-a5bb-7ae30bcc2266",
   "metadata": {},
   "outputs": [],
   "source": []
  }
 ],
 "metadata": {
  "kernelspec": {
   "display_name": "Python 3 (ipykernel)",
   "language": "python",
   "name": "python3"
  },
  "language_info": {
   "codemirror_mode": {
    "name": "ipython",
    "version": 3
   },
   "file_extension": ".py",
   "mimetype": "text/x-python",
   "name": "python",
   "nbconvert_exporter": "python",
   "pygments_lexer": "ipython3",
   "version": "3.8.3"
  }
 },
 "nbformat": 4,
 "nbformat_minor": 5
}
