{
 "cells": [
  {
   "cell_type": "markdown",
   "id": "efe827c7-28e3-43c6-a5ac-de0ef90e784e",
   "metadata": {},
   "source": [
    "### set"
   ]
  },
  {
   "cell_type": "code",
   "execution_count": 1,
   "id": "99f907ee-2166-4f64-a515-1d69db446798",
   "metadata": {},
   "outputs": [
    {
     "name": "stdout",
     "output_type": "stream",
     "text": [
      "Help on class set in module builtins:\n",
      "\n",
      "class set(object)\n",
      " |  set() -> new empty set object\n",
      " |  set(iterable) -> new set object\n",
      " |  \n",
      " |  Build an unordered collection of unique elements.\n",
      " |  \n",
      " |  Methods defined here:\n",
      " |  \n",
      " |  __and__(self, value, /)\n",
      " |      Return self&value.\n",
      " |  \n",
      " |  __contains__(...)\n",
      " |      x.__contains__(y) <==> y in x.\n",
      " |  \n",
      " |  __eq__(self, value, /)\n",
      " |      Return self==value.\n",
      " |  \n",
      " |  __ge__(self, value, /)\n",
      " |      Return self>=value.\n",
      " |  \n",
      " |  __getattribute__(self, name, /)\n",
      " |      Return getattr(self, name).\n",
      " |  \n",
      " |  __gt__(self, value, /)\n",
      " |      Return self>value.\n",
      " |  \n",
      " |  __iand__(self, value, /)\n",
      " |      Return self&=value.\n",
      " |  \n",
      " |  __init__(self, /, *args, **kwargs)\n",
      " |      Initialize self.  See help(type(self)) for accurate signature.\n",
      " |  \n",
      " |  __ior__(self, value, /)\n",
      " |      Return self|=value.\n",
      " |  \n",
      " |  __isub__(self, value, /)\n",
      " |      Return self-=value.\n",
      " |  \n",
      " |  __iter__(self, /)\n",
      " |      Implement iter(self).\n",
      " |  \n",
      " |  __ixor__(self, value, /)\n",
      " |      Return self^=value.\n",
      " |  \n",
      " |  __le__(self, value, /)\n",
      " |      Return self<=value.\n",
      " |  \n",
      " |  __len__(self, /)\n",
      " |      Return len(self).\n",
      " |  \n",
      " |  __lt__(self, value, /)\n",
      " |      Return self<value.\n",
      " |  \n",
      " |  __ne__(self, value, /)\n",
      " |      Return self!=value.\n",
      " |  \n",
      " |  __or__(self, value, /)\n",
      " |      Return self|value.\n",
      " |  \n",
      " |  __rand__(self, value, /)\n",
      " |      Return value&self.\n",
      " |  \n",
      " |  __reduce__(...)\n",
      " |      Return state information for pickling.\n",
      " |  \n",
      " |  __repr__(self, /)\n",
      " |      Return repr(self).\n",
      " |  \n",
      " |  __ror__(self, value, /)\n",
      " |      Return value|self.\n",
      " |  \n",
      " |  __rsub__(self, value, /)\n",
      " |      Return value-self.\n",
      " |  \n",
      " |  __rxor__(self, value, /)\n",
      " |      Return value^self.\n",
      " |  \n",
      " |  __sizeof__(...)\n",
      " |      S.__sizeof__() -> size of S in memory, in bytes\n",
      " |  \n",
      " |  __sub__(self, value, /)\n",
      " |      Return self-value.\n",
      " |  \n",
      " |  __xor__(self, value, /)\n",
      " |      Return self^value.\n",
      " |  \n",
      " |  add(...)\n",
      " |      Add an element to a set.\n",
      " |      \n",
      " |      This has no effect if the element is already present.\n",
      " |  \n",
      " |  clear(...)\n",
      " |      Remove all elements from this set.\n",
      " |  \n",
      " |  copy(...)\n",
      " |      Return a shallow copy of a set.\n",
      " |  \n",
      " |  difference(...)\n",
      " |      Return the difference of two or more sets as a new set.\n",
      " |      \n",
      " |      (i.e. all elements that are in this set but not the others.)\n",
      " |  \n",
      " |  difference_update(...)\n",
      " |      Remove all elements of another set from this set.\n",
      " |  \n",
      " |  discard(...)\n",
      " |      Remove an element from a set if it is a member.\n",
      " |      \n",
      " |      If the element is not a member, do nothing.\n",
      " |  \n",
      " |  intersection(...)\n",
      " |      Return the intersection of two sets as a new set.\n",
      " |      \n",
      " |      (i.e. all elements that are in both sets.)\n",
      " |  \n",
      " |  intersection_update(...)\n",
      " |      Update a set with the intersection of itself and another.\n",
      " |  \n",
      " |  isdisjoint(...)\n",
      " |      Return True if two sets have a null intersection.\n",
      " |  \n",
      " |  issubset(...)\n",
      " |      Report whether another set contains this set.\n",
      " |  \n",
      " |  issuperset(...)\n",
      " |      Report whether this set contains another set.\n",
      " |  \n",
      " |  pop(...)\n",
      " |      Remove and return an arbitrary set element.\n",
      " |      Raises KeyError if the set is empty.\n",
      " |  \n",
      " |  remove(...)\n",
      " |      Remove an element from a set; it must be a member.\n",
      " |      \n",
      " |      If the element is not a member, raise a KeyError.\n",
      " |  \n",
      " |  symmetric_difference(...)\n",
      " |      Return the symmetric difference of two sets as a new set.\n",
      " |      \n",
      " |      (i.e. all elements that are in exactly one of the sets.)\n",
      " |  \n",
      " |  symmetric_difference_update(...)\n",
      " |      Update a set with the symmetric difference of itself and another.\n",
      " |  \n",
      " |  union(...)\n",
      " |      Return the union of sets as a new set.\n",
      " |      \n",
      " |      (i.e. all elements that are in either set.)\n",
      " |  \n",
      " |  update(...)\n",
      " |      Update a set with the union of itself and others.\n",
      " |  \n",
      " |  ----------------------------------------------------------------------\n",
      " |  Static methods defined here:\n",
      " |  \n",
      " |  __new__(*args, **kwargs) from builtins.type\n",
      " |      Create and return a new object.  See help(type) for accurate signature.\n",
      " |  \n",
      " |  ----------------------------------------------------------------------\n",
      " |  Data and other attributes defined here:\n",
      " |  \n",
      " |  __hash__ = None\n",
      "\n"
     ]
    }
   ],
   "source": [
    "help(set)"
   ]
  },
  {
   "cell_type": "code",
   "execution_count": 13,
   "id": "9b85c20f-ead7-4e7c-9e82-448fc7ac5906",
   "metadata": {},
   "outputs": [],
   "source": [
    "set1 = {i*i for i in range(1, 10)}"
   ]
  },
  {
   "cell_type": "code",
   "execution_count": 5,
   "id": "391a9678-27ec-428d-8184-6ff5cc1f078d",
   "metadata": {},
   "outputs": [
    {
     "data": {
      "text/plain": [
       "{1, 4, 9, 16, 25, 36, 49, 64, 81}"
      ]
     },
     "execution_count": 5,
     "metadata": {},
     "output_type": "execute_result"
    }
   ],
   "source": [
    "set1"
   ]
  },
  {
   "cell_type": "code",
   "execution_count": 6,
   "id": "354c1677-abea-4f6d-8e61-04be3e651282",
   "metadata": {},
   "outputs": [
    {
     "data": {
      "text/plain": [
       "{1, 8, 27, 64, 125, 216, 343, 512, 729}"
      ]
     },
     "execution_count": 6,
     "metadata": {},
     "output_type": "execute_result"
    }
   ],
   "source": [
    "set2 = {i*i*i for i in range(1,10)}\n",
    "set2"
   ]
  },
  {
   "cell_type": "code",
   "execution_count": 14,
   "id": "61804f36-335c-4c2a-8286-089121ce8fc8",
   "metadata": {},
   "outputs": [
    {
     "data": {
      "text/plain": [
       "{1, 64}"
      ]
     },
     "execution_count": 14,
     "metadata": {},
     "output_type": "execute_result"
    }
   ],
   "source": [
    "set1.intersection(set2)"
   ]
  },
  {
   "cell_type": "code",
   "execution_count": 15,
   "id": "31908ecd-3dad-4a45-8dd2-b30d7fd299bb",
   "metadata": {},
   "outputs": [],
   "source": [
    "dict1 = {'key1': 'a',\n",
    "        'key2': 'b',\n",
    "        'key3': 'c'}\n",
    "\n",
    "\n",
    "dict2 = {\"key1\": 'b',\n",
    "        'key3': 'c',\n",
    "        'key4': 'd'}"
   ]
  },
  {
   "cell_type": "code",
   "execution_count": 16,
   "id": "0d109b85-3eb1-46db-b477-07c64dbdfd88",
   "metadata": {},
   "outputs": [
    {
     "data": {
      "text/plain": [
       "dict_keys(['key1', 'key2', 'key3'])"
      ]
     },
     "execution_count": 16,
     "metadata": {},
     "output_type": "execute_result"
    }
   ],
   "source": [
    "dict1.keys()"
   ]
  },
  {
   "cell_type": "code",
   "execution_count": 17,
   "id": "9751890f-92bf-4896-bdf0-da17fd5b872f",
   "metadata": {},
   "outputs": [
    {
     "data": {
      "text/plain": [
       "dict_keys(['key1', 'key3', 'key4'])"
      ]
     },
     "execution_count": 17,
     "metadata": {},
     "output_type": "execute_result"
    }
   ],
   "source": [
    "dict2.keys()"
   ]
  },
  {
   "cell_type": "code",
   "execution_count": 18,
   "id": "4470b3f2-4083-471f-9154-8322a0b32f81",
   "metadata": {},
   "outputs": [],
   "source": [
    "dict1_set = set(dict1.keys())\n",
    "dict2_set = set(dict2.keys())"
   ]
  },
  {
   "cell_type": "code",
   "execution_count": 19,
   "id": "4c0f1ab6-1255-47f3-a111-7d056addc816",
   "metadata": {},
   "outputs": [
    {
     "data": {
      "text/plain": [
       "{'key1', 'key2', 'key3'}"
      ]
     },
     "execution_count": 19,
     "metadata": {},
     "output_type": "execute_result"
    }
   ],
   "source": [
    "dict1_set"
   ]
  },
  {
   "cell_type": "code",
   "execution_count": 20,
   "id": "cd84b9b5-de02-4973-9322-1be6565ddbd2",
   "metadata": {},
   "outputs": [
    {
     "data": {
      "text/plain": [
       "{'key1', 'key3', 'key4'}"
      ]
     },
     "execution_count": 20,
     "metadata": {},
     "output_type": "execute_result"
    }
   ],
   "source": [
    "dict2_set"
   ]
  },
  {
   "cell_type": "code",
   "execution_count": 21,
   "id": "f13e6749-7add-4193-9978-6048694eadf7",
   "metadata": {},
   "outputs": [
    {
     "data": {
      "text/plain": [
       "{'key1', 'key3'}"
      ]
     },
     "execution_count": 21,
     "metadata": {},
     "output_type": "execute_result"
    }
   ],
   "source": [
    "dict1_set.intersection(dict2_set)"
   ]
  },
  {
   "cell_type": "markdown",
   "id": "2ccd878e-d039-4a78-83dd-29408b7eec1b",
   "metadata": {},
   "source": [
    "## find the common keys in dict1 and dict2"
   ]
  },
  {
   "cell_type": "code",
   "execution_count": 74,
   "id": "71436697-d8fe-4ca8-b081-a446c9de3824",
   "metadata": {},
   "outputs": [],
   "source": [
    "dict1 = {'key1': 'a',\n",
    "        'key2': 'b',\n",
    "        'key3': 'c'}\n",
    "\n",
    "\n",
    "dict2 = {\"key1\": 'b',\n",
    "        'key3': 'c',\n",
    "        'key4': 'd'}\n",
    "\n",
    "dict3 = {\"key1\": 'z',\n",
    "        'key5': 'i',\n",
    "        'key7': 'c',\n",
    "        'key3': 'i'}\n",
    "\n",
    "dict4  = {\"key10\": 'z',\n",
    "        'key11': 'i',\n",
    "        'key12': 'c',\n",
    "        'key13': 'i'}\n",
    "\n",
    "dict5 = {'key5': 'i',\n",
    "        'key7': 'c'}\n",
    "\n",
    "dict6 = {'key11': 'i',\n",
    "        'key12': 'c'}\n",
    "\n",
    "dict7 = {'key3': 'c', \n",
    "        'key11': 'i',\n",
    "        'key7': 'c'}"
   ]
  },
  {
   "cell_type": "code",
   "execution_count": 78,
   "id": "e760eb4a-6fc2-4627-b486-c4e7ed1604ed",
   "metadata": {},
   "outputs": [],
   "source": [
    "dict1_set = set(dict1.keys())\n",
    "dict2_set = set(dict2.keys())\n",
    "dict3_set = set(dict3.keys())\n",
    "dict4_set = set(dict4.keys())\n",
    "dict5_set = set(dict5.keys())\n",
    "dict6_set = set(dict6.keys())\n",
    "dict7_set = set(dict7.keys())"
   ]
  },
  {
   "cell_type": "code",
   "execution_count": 79,
   "id": "87f57a29-542b-4af2-824a-434e36eacf86",
   "metadata": {},
   "outputs": [
    {
     "data": {
      "text/plain": [
       "[{'key1', 'key2', 'key3'},\n",
       " {'key1', 'key3', 'key4'},\n",
       " {'key1', 'key3', 'key5', 'key7'},\n",
       " {'key10', 'key11', 'key12', 'key13'},\n",
       " {'key5', 'key7'},\n",
       " {'key11', 'key12'},\n",
       " {'key11', 'key3', 'key7'}]"
      ]
     },
     "execution_count": 79,
     "metadata": {},
     "output_type": "execute_result"
    }
   ],
   "source": [
    "Sets = [dict1_set, dict2_set, dict3_set, dict4_set, dict5_set, dict6_set, dict7_set]\n",
    "Sets"
   ]
  },
  {
   "cell_type": "markdown",
   "id": "be750743-c829-4c33-a51b-35cb4bfee6f7",
   "metadata": {},
   "source": [
    "**Sample Space**\n",
    "Sample space contain all the unique values of all set. "
   ]
  },
  {
   "cell_type": "code",
   "execution_count": 90,
   "id": "ea28a836-0d13-4374-96dd-3fec603724e2",
   "metadata": {},
   "outputs": [],
   "source": [
    "def SampleSpace(sets):\n",
    "    \n",
    "    SP = set()\n",
    "    \n",
    "    for Set in sets:\n",
    "        SP = SP.union(Set)\n",
    "        \n",
    "    return SP\n",
    "\n",
    "def Subset(target, sets):\n",
    "    \n",
    "    subset_of = []\n",
    "    \n",
    "    for Set in sets:\n",
    "        if target.issubset(Set):\n",
    "            subset_of.append(Set)\n",
    "            \n",
    "    return subset_of\n",
    "            \n",
    "def mapsets(sets):\n",
    "    \n",
    "    prefix = 'set'\n",
    "    Sets = {}\n",
    "    for i,Set in enumerate(sets):\n",
    "        \n",
    "        Sets.update({prefix + f\"{i+1}\" : Set})\n",
    "        \n",
    "    return Sets"
   ]
  },
  {
   "cell_type": "code",
   "execution_count": 91,
   "id": "094bb2b0-5459-4eb1-abc6-b2e82b24674a",
   "metadata": {},
   "outputs": [
    {
     "data": {
      "text/plain": [
       "{'set1': {'key1', 'key2', 'key3'},\n",
       " 'set2': {'key1', 'key3', 'key4'},\n",
       " 'set3': {'key1', 'key3', 'key5', 'key7'},\n",
       " 'set4': {'key10', 'key11', 'key12', 'key13'},\n",
       " 'set5': {'key5', 'key7'},\n",
       " 'set6': {'key11', 'key12'},\n",
       " 'set7': {'key11', 'key3', 'key7'}}"
      ]
     },
     "execution_count": 91,
     "metadata": {},
     "output_type": "execute_result"
    }
   ],
   "source": [
    "MapSets = mapsets(Sets)\n",
    "MapSets"
   ]
  },
  {
   "cell_type": "code",
   "execution_count": 60,
   "id": "07ddc0a4-2ea8-49b7-9449-77caa8fb3234",
   "metadata": {},
   "outputs": [
    {
     "data": {
      "text/plain": [
       "[{'key1', 'key2', 'key3'},\n",
       " {'key1', 'key3', 'key4'},\n",
       " {'key1', 'key3', 'key5', 'key7'},\n",
       " {'key10', 'key11', 'key12', 'key13'}]"
      ]
     },
     "execution_count": 60,
     "metadata": {},
     "output_type": "execute_result"
    }
   ],
   "source": [
    "Sets"
   ]
  },
  {
   "cell_type": "code",
   "execution_count": 61,
   "id": "23954b78-0c46-4701-97ef-bb1e7c2d31f8",
   "metadata": {},
   "outputs": [],
   "source": [
    "Sample_Space = SampleSpace(Sets)"
   ]
  },
  {
   "cell_type": "code",
   "execution_count": 62,
   "id": "4107db9a-89d2-40b6-9967-bd8344ddaa93",
   "metadata": {},
   "outputs": [
    {
     "data": {
      "text/plain": [
       "{'key1',\n",
       " 'key10',\n",
       " 'key11',\n",
       " 'key12',\n",
       " 'key13',\n",
       " 'key2',\n",
       " 'key3',\n",
       " 'key4',\n",
       " 'key5',\n",
       " 'key7'}"
      ]
     },
     "execution_count": 62,
     "metadata": {},
     "output_type": "execute_result"
    }
   ],
   "source": [
    "Sample_Space"
   ]
  },
  {
   "cell_type": "code",
   "execution_count": 63,
   "id": "98a18942-65b7-450a-b5b5-d0ea27d30b47",
   "metadata": {},
   "outputs": [
    {
     "data": {
      "text/plain": [
       "{'key1', 'key2', 'key3'}"
      ]
     },
     "execution_count": 63,
     "metadata": {},
     "output_type": "execute_result"
    }
   ],
   "source": [
    "dict1_set."
   ]
  },
  {
   "cell_type": "markdown",
   "id": "40d73d23-384b-4e0a-9162-1819a03a2df4",
   "metadata": {},
   "source": [
    "### Union in b/w set1 and set3"
   ]
  },
  {
   "cell_type": "code",
   "execution_count": 71,
   "id": "fb182849-bbd6-44e2-b2a0-168f215320df",
   "metadata": {},
   "outputs": [
    {
     "name": "stdout",
     "output_type": "stream",
     "text": [
      "set1:  {'key2', 'key1', 'key3'}\n",
      "set3:  {'key3', 'key1', 'key7', 'key5'}\n",
      "Union in b/w set1 and set:  {'key2', 'key3', 'key1', 'key7', 'key5'}\n"
     ]
    }
   ],
   "source": [
    "print(\"set1: \", dict1_set)\n",
    "print(\"set3: \", dict3_set)\n",
    "print(\"Union in b/w set1 and set: \", dict1_set.union(dict3_set))"
   ]
  },
  {
   "cell_type": "markdown",
   "id": "7e09dfbb-84d6-45d1-93ec-9b5711673d42",
   "metadata": {},
   "source": [
    "### Intersection b/w set1 and set3"
   ]
  },
  {
   "cell_type": "code",
   "execution_count": 70,
   "id": "394fcf80-6742-4b9b-b486-a8858643dee2",
   "metadata": {},
   "outputs": [
    {
     "name": "stdout",
     "output_type": "stream",
     "text": [
      "set1:  {'key2', 'key1', 'key3'}\n",
      "set3:  {'key3', 'key1', 'key7', 'key5'}\n",
      "Intersection in b/w Set1 and Set3:  {'key3', 'key1'}\n"
     ]
    }
   ],
   "source": [
    "print(\"set1: \", dict1_set)\n",
    "print(\"set3: \", dict3_set)\n",
    "print(\"Intersection in b/w Set1 and Set3: \", dict1_set.intersection(dict3_set))"
   ]
  },
  {
   "cell_type": "markdown",
   "id": "79652cae-fe42-4e21-8a52-c6b1a8c5b91e",
   "metadata": {},
   "source": [
    "### Isdisjoint set1 and set3"
   ]
  },
  {
   "cell_type": "code",
   "execution_count": 72,
   "id": "a698912d-7dc7-4815-9df5-4cfd0e1dc8d7",
   "metadata": {},
   "outputs": [
    {
     "name": "stdout",
     "output_type": "stream",
     "text": [
      "set1:  {'key2', 'key1', 'key3'}\n",
      "set3:  {'key3', 'key1', 'key7', 'key5'}\n",
      "Is set1 and set3 disjoint False\n"
     ]
    }
   ],
   "source": [
    "print(\"set1: \", dict1_set)\n",
    "print(\"set3: \", dict3_set)\n",
    "print(\"Is set1 and set3 disjoint: \", dict1_set.isdisjoint(dict3_set))"
   ]
  },
  {
   "cell_type": "markdown",
   "id": "cbd7cd3e-ad17-46f8-8eb5-bfadab0ec27d",
   "metadata": {},
   "source": [
    "### Isdisjoint set1 and set4"
   ]
  },
  {
   "cell_type": "code",
   "execution_count": 73,
   "id": "4ea5111f-05ce-4b17-bbdf-6136b3ac422e",
   "metadata": {},
   "outputs": [
    {
     "name": "stdout",
     "output_type": "stream",
     "text": [
      "set1:  {'key2', 'key1', 'key3'}\n",
      "set4:  {'key12', 'key13', 'key10', 'key11'}\n",
      "Is set1 and set4 disjoint:  True\n"
     ]
    }
   ],
   "source": [
    "print(\"set1: \", dict1_set)\n",
    "print(\"set4: \", dict4_set)\n",
    "print(\"Is set1 and set4 disjoint: \", dict1_set.isdisjoint(dict4_set))"
   ]
  },
  {
   "cell_type": "markdown",
   "id": "e11f8a42-5d6f-4ca7-9152-0c95d210c1af",
   "metadata": {},
   "source": [
    "### set5 is subset of..."
   ]
  },
  {
   "cell_type": "code",
   "execution_count": 81,
   "id": "7dc64b98-b6d7-497c-9ae7-bc114cf017c9",
   "metadata": {},
   "outputs": [
    {
     "data": {
      "text/plain": [
       "[{'key1', 'key3', 'key5', 'key7'}, {'key5', 'key7'}]"
      ]
     },
     "execution_count": 81,
     "metadata": {},
     "output_type": "execute_result"
    }
   ],
   "source": [
    "Subset(dict5_set, Sets)"
   ]
  },
  {
   "cell_type": "code",
   "execution_count": 82,
   "id": "c75c55f2-5fa8-49e7-8ef3-f78543587471",
   "metadata": {},
   "outputs": [
    {
     "data": {
      "text/plain": [
       "[{'key1', 'key2', 'key3'},\n",
       " {'key1', 'key3', 'key4'},\n",
       " {'key1', 'key3', 'key5', 'key7'},\n",
       " {'key10', 'key11', 'key12', 'key13'},\n",
       " {'key5', 'key7'},\n",
       " {'key11', 'key12'},\n",
       " {'key11', 'key3', 'key7'}]"
      ]
     },
     "execution_count": 82,
     "metadata": {},
     "output_type": "execute_result"
    }
   ],
   "source": [
    "Sets"
   ]
  },
  {
   "cell_type": "code",
   "execution_count": 29,
   "id": "433b5b43-2a83-451d-8f72-f30105a865fe",
   "metadata": {},
   "outputs": [],
   "source": [
    "dupkeys =[]\n",
    "\n",
    "for key1 in dict1:\n",
    "    \n",
    "    for key2 in dict2:\n",
    "        \n",
    "        if key1 == key2:\n",
    "            dupkeys.append(key1)"
   ]
  },
  {
   "cell_type": "markdown",
   "id": "1d0a12a8-f34c-4cde-a03f-62f564fd9807",
   "metadata": {},
   "source": [
    "___"
   ]
  },
  {
   "cell_type": "markdown",
   "id": "adeeecc3-b2de-41dd-953b-d5a8eb6923ca",
   "metadata": {},
   "source": [
    "**unioun on set**"
   ]
  },
  {
   "cell_type": "code",
   "execution_count": 31,
   "id": "baea6e43-a321-408f-8c28-36fd5c3aae15",
   "metadata": {},
   "outputs": [
    {
     "data": {
      "text/plain": [
       "{'key1', 'key2', 'key3'}"
      ]
     },
     "execution_count": 31,
     "metadata": {},
     "output_type": "execute_result"
    }
   ],
   "source": [
    "dict1_set"
   ]
  },
  {
   "cell_type": "code",
   "execution_count": 33,
   "id": "f6fa9d97-2629-4b70-a5dd-c2d329d3807a",
   "metadata": {},
   "outputs": [
    {
     "data": {
      "text/plain": [
       "{'key1', 'key3', 'key4'}"
      ]
     },
     "execution_count": 33,
     "metadata": {},
     "output_type": "execute_result"
    }
   ],
   "source": [
    "dict2_set"
   ]
  },
  {
   "cell_type": "code",
   "execution_count": 34,
   "id": "c3b503a4-affc-458f-b182-575688efe0cf",
   "metadata": {},
   "outputs": [
    {
     "data": {
      "text/plain": [
       "{'key1', 'key2', 'key3', 'key4'}"
      ]
     },
     "execution_count": 34,
     "metadata": {},
     "output_type": "execute_result"
    }
   ],
   "source": [
    "dict1_set.union(dict2_set)"
   ]
  },
  {
   "cell_type": "code",
   "execution_count": 35,
   "id": "c2358d0f-f57f-4d44-b837-5ae9574420f5",
   "metadata": {},
   "outputs": [],
   "source": [
    "dup_dict = dict1_set.copy()"
   ]
  },
  {
   "cell_type": "code",
   "execution_count": 36,
   "id": "78cc3840-1055-4d7a-b956-450249481815",
   "metadata": {},
   "outputs": [
    {
     "data": {
      "text/plain": [
       "{'key1', 'key2', 'key3'}"
      ]
     },
     "execution_count": 36,
     "metadata": {},
     "output_type": "execute_result"
    }
   ],
   "source": [
    "dup_dict"
   ]
  },
  {
   "cell_type": "code",
   "execution_count": 37,
   "id": "acf4d148-6984-4ce0-b670-f0208b89f689",
   "metadata": {},
   "outputs": [],
   "source": [
    "dup_dict.clear()"
   ]
  },
  {
   "cell_type": "code",
   "execution_count": 38,
   "id": "67c07e44-dfa5-42c7-9022-14a4f517b0a6",
   "metadata": {},
   "outputs": [
    {
     "data": {
      "text/plain": [
       "set()"
      ]
     },
     "execution_count": 38,
     "metadata": {},
     "output_type": "execute_result"
    }
   ],
   "source": [
    "dup_dict"
   ]
  },
  {
   "cell_type": "markdown",
   "id": "a8c9a867-ba6d-4458-9f12-5ef304975f7b",
   "metadata": {},
   "source": [
    "**isdisjoint**"
   ]
  },
  {
   "cell_type": "code",
   "execution_count": 39,
   "id": "994c24d3-57a8-4d0c-8676-fd39e38af455",
   "metadata": {},
   "outputs": [
    {
     "data": {
      "text/plain": [
       "{'key1', 'key2', 'key3'}"
      ]
     },
     "execution_count": 39,
     "metadata": {},
     "output_type": "execute_result"
    }
   ],
   "source": [
    "dict1_set"
   ]
  },
  {
   "cell_type": "code",
   "execution_count": 40,
   "id": "a675060a-9a51-47ec-b61a-e739f6f13217",
   "metadata": {},
   "outputs": [
    {
     "data": {
      "text/plain": [
       "{'key1', 'key3', 'key4'}"
      ]
     },
     "execution_count": 40,
     "metadata": {},
     "output_type": "execute_result"
    }
   ],
   "source": [
    "dict2_set"
   ]
  },
  {
   "cell_type": "code",
   "execution_count": 41,
   "id": "8c4855e2-6b95-491b-a2d1-2ffb002f5ef4",
   "metadata": {},
   "outputs": [
    {
     "data": {
      "text/plain": [
       "False"
      ]
     },
     "execution_count": 41,
     "metadata": {},
     "output_type": "execute_result"
    }
   ],
   "source": [
    "dict1_set.isdisjoint(dict2_set)"
   ]
  },
  {
   "cell_type": "markdown",
   "id": "fdbd495f-4c62-48ae-b00e-29aa719469de",
   "metadata": {},
   "source": []
  }
 ],
 "metadata": {
  "kernelspec": {
   "display_name": "Python 3 (ipykernel)",
   "language": "python",
   "name": "python3"
  },
  "language_info": {
   "codemirror_mode": {
    "name": "ipython",
    "version": 3
   },
   "file_extension": ".py",
   "mimetype": "text/x-python",
   "name": "python",
   "nbconvert_exporter": "python",
   "pygments_lexer": "ipython3",
   "version": "3.8.3"
  }
 },
 "nbformat": 4,
 "nbformat_minor": 5
}
