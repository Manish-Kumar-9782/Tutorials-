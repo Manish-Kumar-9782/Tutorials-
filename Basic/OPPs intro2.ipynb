{
 "cells": [
  {
   "cell_type": "markdown",
   "id": "a0ac8db8-367d-4a81-a172-8e65f46b4072",
   "metadata": {},
   "source": [
    "### Pyton OPPs Student class"
   ]
  },
  {
   "cell_type": "code",
   "execution_count": 1,
   "id": "92c375b9-a73b-4d12-80a6-3f57ee7eafc5",
   "metadata": {},
   "outputs": [],
   "source": [
    "# adding show_info method.\n",
    "\n",
    "class Student:\n",
    "    \n",
    "    def __init__(self, name=None, std=None, age=None):\n",
    "        \n",
    "        self.name = name;\n",
    "        self.std = std;\n",
    "        self.age = age;\n",
    "        \n",
    "        \n",
    "    def show_info(self):\n",
    "        \n",
    "        print(\"Name: \", self.name)\n",
    "        print(\"Std: \", self.std)\n",
    "        print(\"Age: \", self.age)\n",
    "        \n",
    "    @staticmethod\n",
    "    def show_label():\n",
    "        print(\"%-10s %-10s %-10s\"%(\"Name\", \"Std\", \"Age\"))\n",
    "        \n",
    "    def show_values(self):\n",
    "        print(\"%-10s %-10s %-10s\"%(self.name, self.std, self.age))"
   ]
  },
  {
   "cell_type": "markdown",
   "id": "cb116a92-c0c4-4e57-82ee-37d99ba80c9b",
   "metadata": {},
   "source": [
    "**Metod defined upto this point**"
   ]
  },
  {
   "cell_type": "markdown",
   "id": "e5c01c15-8d6d-4372-9d17-fd22b1ff2e32",
   "metadata": {},
   "source": [
    "1. `__init__`()\n",
    "2. show_info()\n",
    "3. show_label()\n",
    "4. show_values()"
   ]
  },
  {
   "cell_type": "code",
   "execution_count": 50,
   "id": "d748f5ff-4595-4d17-b966-ee85e63227e4",
   "metadata": {},
   "outputs": [],
   "source": [
    "# adding show_info method.\n",
    "\n",
    "class Student:\n",
    "    \n",
    "    def __init__(self, name=None, std=None, age=None):\n",
    "        \"\"\"\n",
    "        name: string, it is the name of the student and only contain the string as input.\n",
    "        std: string, it is the standard (what is graduation of the student.)\n",
    "        age: int, age of the student in the form of the integer data type.\n",
    "        \"\"\"\n",
    "        \n",
    "        self.name = name;\n",
    "        self.std = std;\n",
    "        self.age = age;\n",
    "        \n",
    "    def __str__(self):\n",
    "        \n",
    "        string = f\"\"\"\n",
    "'Name': {self.name}\n",
    "'Std': {self.std}\n",
    "'age': {self.age}\n",
    "        \"\"\"\n",
    "        return string\n",
    "    \n",
    "    def __eq__(self, other):\n",
    "        \n",
    "        if self.name == other.name:\n",
    "            return True\n",
    "        else:\n",
    "            return False\n",
    "    def show_info(self):\n",
    "        \n",
    "        print(\"Name: \", self.name)\n",
    "        print(\"Std: \", self.std)\n",
    "        print(\"Age: \", self.age)\n",
    "        \n",
    "    @staticmethod\n",
    "    def show_label():\n",
    "        print(\"%-10s %-10s %-10s\"%(\"Name\", \"Std\", \"Age\"))\n",
    "        \n",
    "    def show_values(self):\n",
    "        print(\"%-10s %-10s %-10s\"%(self.name, self.std, self.age))\n",
    "        \n",
    "    "
   ]
  },
  {
   "cell_type": "code",
   "execution_count": 51,
   "id": "7df0a1f0-0dd3-480f-8067-d86aec060f55",
   "metadata": {},
   "outputs": [],
   "source": [
    "st1 = Student(\"Manish\", 'graduate', 26)"
   ]
  },
  {
   "cell_type": "code",
   "execution_count": 43,
   "id": "a89fd5cb-4992-4b44-a0fb-030a89409818",
   "metadata": {},
   "outputs": [
    {
     "name": "stdout",
     "output_type": "stream",
     "text": [
      "\n",
      "'Name': Manish\n",
      "'Std': graduate\n",
      "'age': 26\n",
      "        \n"
     ]
    }
   ],
   "source": [
    "print(st1)"
   ]
  },
  {
   "cell_type": "code",
   "execution_count": 44,
   "id": "8db3d371-7110-43f5-b3b1-5766d3942897",
   "metadata": {},
   "outputs": [
    {
     "data": {
      "text/plain": [
       "<__main__.Student at 0x2b1b1a8f7f0>"
      ]
     },
     "execution_count": 44,
     "metadata": {},
     "output_type": "execute_result"
    }
   ],
   "source": [
    "st1"
   ]
  },
  {
   "cell_type": "code",
   "execution_count": 45,
   "id": "0be9d172-9362-40b1-9f00-2456d4d3ab04",
   "metadata": {},
   "outputs": [
    {
     "name": "stdout",
     "output_type": "stream",
     "text": [
      "Help on Student in module __main__ object:\n",
      "\n",
      "class Student(builtins.object)\n",
      " |  Student(name=None, std=None, age=None)\n",
      " |  \n",
      " |  Methods defined here:\n",
      " |  \n",
      " |  __init__(self, name=None, std=None, age=None)\n",
      " |      name: string, it is the name of the student and only contain the string as input.\n",
      " |      std: string, it is the standard (what is graduation of the student.)\n",
      " |      age: int, age of the student in the form of the integer data type.\n",
      " |  \n",
      " |  __str__(self)\n",
      " |      Return str(self).\n",
      " |  \n",
      " |  show_info(self)\n",
      " |  \n",
      " |  show_values(self)\n",
      " |  \n",
      " |  ----------------------------------------------------------------------\n",
      " |  Static methods defined here:\n",
      " |  \n",
      " |  show_label()\n",
      " |  \n",
      " |  ----------------------------------------------------------------------\n",
      " |  Data descriptors defined here:\n",
      " |  \n",
      " |  __dict__\n",
      " |      dictionary for instance variables (if defined)\n",
      " |  \n",
      " |  __weakref__\n",
      " |      list of weak references to the object (if defined)\n",
      "\n"
     ]
    }
   ],
   "source": [
    "help(st1)"
   ]
  },
  {
   "cell_type": "code",
   "execution_count": null,
   "id": "5d7419f4-8ae8-44d9-9291-3c295a2a268d",
   "metadata": {},
   "outputs": [],
   "source": []
  },
  {
   "cell_type": "code",
   "execution_count": 54,
   "id": "8837d49d-a445-4fdb-964d-4b10b11fe11e",
   "metadata": {},
   "outputs": [],
   "source": [
    "st2  = Student(\"Manish\", \"B.sc\", 22)"
   ]
  },
  {
   "cell_type": "code",
   "execution_count": 56,
   "id": "6bf2562e-30a5-4806-8a80-136c252ad2d1",
   "metadata": {},
   "outputs": [],
   "source": [
    "st2.name = \"Manish\""
   ]
  },
  {
   "cell_type": "code",
   "execution_count": 49,
   "id": "53e05a1b-5b8f-493f-b617-460a5c3d375a",
   "metadata": {},
   "outputs": [
    {
     "name": "stdout",
     "output_type": "stream",
     "text": [
      "Help on class object in module builtins:\n",
      "\n",
      "class object\n",
      " |  The base class of the class hierarchy.\n",
      " |  \n",
      " |  When called, it accepts no arguments and returns a new featureless\n",
      " |  instance that has no instance attributes and cannot be given any.\n",
      " |  \n",
      " |  Built-in subclasses:\n",
      " |      ArgNotFound\n",
      " |      async_generator\n",
      " |      BaseException\n",
      " |      builtin_function_or_method\n",
      " |      ... and 119 other subclasses\n",
      " |  \n",
      " |  Methods defined here:\n",
      " |  \n",
      " |  __delattr__(self, name, /)\n",
      " |      Implement delattr(self, name).\n",
      " |  \n",
      " |  __dir__(self, /)\n",
      " |      Default dir() implementation.\n",
      " |  \n",
      " |  __eq__(self, value, /)\n",
      " |      Return self==value.\n",
      " |  \n",
      " |  __format__(self, format_spec, /)\n",
      " |      Default object formatter.\n",
      " |  \n",
      " |  __ge__(self, value, /)\n",
      " |      Return self>=value.\n",
      " |  \n",
      " |  __getattribute__(self, name, /)\n",
      " |      Return getattr(self, name).\n",
      " |  \n",
      " |  __gt__(self, value, /)\n",
      " |      Return self>value.\n",
      " |  \n",
      " |  __hash__(self, /)\n",
      " |      Return hash(self).\n",
      " |  \n",
      " |  __init__(self, /, *args, **kwargs)\n",
      " |      Initialize self.  See help(type(self)) for accurate signature.\n",
      " |  \n",
      " |  __le__(self, value, /)\n",
      " |      Return self<=value.\n",
      " |  \n",
      " |  __lt__(self, value, /)\n",
      " |      Return self<value.\n",
      " |  \n",
      " |  __ne__(self, value, /)\n",
      " |      Return self!=value.\n",
      " |  \n",
      " |  __reduce__(self, /)\n",
      " |      Helper for pickle.\n",
      " |  \n",
      " |  __reduce_ex__(self, protocol, /)\n",
      " |      Helper for pickle.\n",
      " |  \n",
      " |  __repr__(self, /)\n",
      " |      Return repr(self).\n",
      " |  \n",
      " |  __setattr__(self, name, value, /)\n",
      " |      Implement setattr(self, name, value).\n",
      " |  \n",
      " |  __sizeof__(self, /)\n",
      " |      Size of object in memory, in bytes.\n",
      " |  \n",
      " |  __str__(self, /)\n",
      " |      Return str(self).\n",
      " |  \n",
      " |  ----------------------------------------------------------------------\n",
      " |  Class methods defined here:\n",
      " |  \n",
      " |  __init_subclass__(...) from builtins.type\n",
      " |      This method is called when a class is subclassed.\n",
      " |      \n",
      " |      The default implementation does nothing. It may be\n",
      " |      overridden to extend subclasses.\n",
      " |  \n",
      " |  __subclasshook__(...) from builtins.type\n",
      " |      Abstract classes can override this to customize issubclass().\n",
      " |      \n",
      " |      This is invoked early on by abc.ABCMeta.__subclasscheck__().\n",
      " |      It should return True, False or NotImplemented.  If it returns\n",
      " |      NotImplemented, the normal algorithm is used.  Otherwise, it\n",
      " |      overrides the normal algorithm (and the outcome is cached).\n",
      " |  \n",
      " |  ----------------------------------------------------------------------\n",
      " |  Static methods defined here:\n",
      " |  \n",
      " |  __new__(*args, **kwargs) from builtins.type\n",
      " |      Create and return a new object.  See help(type) for accurate signature.\n",
      " |  \n",
      " |  ----------------------------------------------------------------------\n",
      " |  Data and other attributes defined here:\n",
      " |  \n",
      " |  __class__ = <class 'type'>\n",
      " |      type(object_or_name, bases, dict)\n",
      " |      type(object) -> the object's type\n",
      " |      type(name, bases, dict) -> a new type\n",
      "\n"
     ]
    }
   ],
   "source": [
    "help(object)"
   ]
  },
  {
   "cell_type": "code",
   "execution_count": null,
   "id": "dacd5cd8-ecfe-4cb4-83f9-886bf8312bee",
   "metadata": {},
   "outputs": [],
   "source": []
  }
 ],
 "metadata": {
  "kernelspec": {
   "display_name": "Python 3 (ipykernel)",
   "language": "python",
   "name": "python3"
  },
  "language_info": {
   "codemirror_mode": {
    "name": "ipython",
    "version": 3
   },
   "file_extension": ".py",
   "mimetype": "text/x-python",
   "name": "python",
   "nbconvert_exporter": "python",
   "pygments_lexer": "ipython3",
   "version": "3.8.3"
  }
 },
 "nbformat": 4,
 "nbformat_minor": 5
}
