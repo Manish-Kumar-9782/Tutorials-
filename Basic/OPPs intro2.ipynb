{
 "cells": [
  {
   "cell_type": "markdown",
   "id": "a0ac8db8-367d-4a81-a172-8e65f46b4072",
   "metadata": {},
   "source": [
    "### Pyton OPPs Student class"
   ]
  },
  {
   "cell_type": "code",
   "execution_count": null,
   "id": "92c375b9-a73b-4d12-80a6-3f57ee7eafc5",
   "metadata": {},
   "outputs": [],
   "source": [
    "# adding show_info method.\n",
    "\n",
    "class Student:\n",
    "    \n",
    "    def __init__(self, name=None, std=None, age=None):\n",
    "        \n",
    "        self.name = name;\n",
    "        self.std = std;\n",
    "        self.age = age;\n",
    "        \n",
    "        \n",
    "    def show_info(self):\n",
    "        \n",
    "        print(\"Name: \", self.name)\n",
    "        print(\"Std: \", self.std)\n",
    "        print(\"Age: \", self.age)\n",
    "        \n",
    "    @staticmethod\n",
    "    def show_label():\n",
    "        print(\"%-10s %-10s %-10s\"%(\"Name\", \"Std\", \"Age\"))\n",
    "        \n",
    "    def show_values(self):\n",
    "        print(\"%-10s %-10s %-10s\"%(self.name, self.std, self.age))"
   ]
  },
  {
   "cell_type": "markdown",
   "id": "cb116a92-c0c4-4e57-82ee-37d99ba80c9b",
   "metadata": {},
   "source": [
    "**Metod defined upto this point**"
   ]
  },
  {
   "cell_type": "markdown",
   "id": "e5c01c15-8d6d-4372-9d17-fd22b1ff2e32",
   "metadata": {},
   "source": [
    "1. `__init__`()\n",
    "2. show_info()\n",
    "3. show_label()\n",
    "4. show_values()"
   ]
  },
  {
   "cell_type": "code",
   "execution_count": 14,
   "id": "d748f5ff-4595-4d17-b966-ee85e63227e4",
   "metadata": {},
   "outputs": [],
   "source": [
    "# adding show_info method.\n",
    "\n",
    "class Student:\n",
    "    \n",
    "    def __init__(self, name=None, std=None, age=None):\n",
    "        \"\"\"\n",
    "        name: string, it is the name of the student and only contain the string as input.\n",
    "        std: string, it is the standard (what is graduation of the student.)\n",
    "        age: int, age of the student in the form of the integer data type.\n",
    "        \"\"\"\n",
    "        \n",
    "        self.name = name;\n",
    "        self.std = std;\n",
    "        self.age = age;\n",
    "        \n",
    "    def __str__(self):\n",
    "        \n",
    "        string = f\"\"\"\n",
    "'Name': {self.name}\n",
    "'Std': {self.std}\n",
    "'age': {self.age}\n",
    "        \"\"\"\n",
    "        return string\n",
    "    \n",
    "    def __eq__(self, other):\n",
    "        \n",
    "        if self.name == other.name:\n",
    "            return True\n",
    "        else:\n",
    "            return False\n",
    "        \n",
    "    def show_info(self):\n",
    "        \n",
    "        print(\"Name: \", self.name)\n",
    "        print(\"Std: \", self.std)\n",
    "        print(\"Age: \", self.age)\n",
    "        \n",
    "    @staticmethod\n",
    "    def show_label():\n",
    "        print(\"%-10s %-10s %-10s\"%(\"Name\", \"Std\", \"Age\"))\n",
    "        \n",
    "    def show_values(self):\n",
    "        print(\"%-10s %-10s %-10s\"%(self.name, self.std, self.age))\n",
    "        \n",
    "    "
   ]
  },
  {
   "cell_type": "code",
   "execution_count": 15,
   "id": "7df0a1f0-0dd3-480f-8067-d86aec060f55",
   "metadata": {},
   "outputs": [],
   "source": [
    "st1 = Student(\"Manish\", 'graduate', 26)"
   ]
  },
  {
   "cell_type": "code",
   "execution_count": 16,
   "id": "a89fd5cb-4992-4b44-a0fb-030a89409818",
   "metadata": {},
   "outputs": [
    {
     "name": "stdout",
     "output_type": "stream",
     "text": [
      "\n",
      "'Name': Manish\n",
      "'Std': graduate\n",
      "'age': 26\n",
      "        \n"
     ]
    }
   ],
   "source": [
    "print(st1)"
   ]
  },
  {
   "cell_type": "code",
   "execution_count": 17,
   "id": "8db3d371-7110-43f5-b3b1-5766d3942897",
   "metadata": {},
   "outputs": [
    {
     "data": {
      "text/plain": [
       "<__main__.Student at 0x1414f7e71f0>"
      ]
     },
     "execution_count": 17,
     "metadata": {},
     "output_type": "execute_result"
    }
   ],
   "source": [
    "st1"
   ]
  },
  {
   "cell_type": "code",
   "execution_count": 18,
   "id": "0be9d172-9362-40b1-9f00-2456d4d3ab04",
   "metadata": {},
   "outputs": [
    {
     "name": "stdout",
     "output_type": "stream",
     "text": [
      "Help on Student in module __main__ object:\n",
      "\n",
      "class Student(builtins.object)\n",
      " |  Student(name=None, std=None, age=None)\n",
      " |  \n",
      " |  Methods defined here:\n",
      " |  \n",
      " |  __eq__(self, other)\n",
      " |      Return self==value.\n",
      " |  \n",
      " |  __init__(self, name=None, std=None, age=None)\n",
      " |      name: string, it is the name of the student and only contain the string as input.\n",
      " |      std: string, it is the standard (what is graduation of the student.)\n",
      " |      age: int, age of the student in the form of the integer data type.\n",
      " |  \n",
      " |  __str__(self)\n",
      " |      Return str(self).\n",
      " |  \n",
      " |  show_info(self)\n",
      " |  \n",
      " |  show_values(self)\n",
      " |  \n",
      " |  ----------------------------------------------------------------------\n",
      " |  Static methods defined here:\n",
      " |  \n",
      " |  show_label()\n",
      " |  \n",
      " |  ----------------------------------------------------------------------\n",
      " |  Data descriptors defined here:\n",
      " |  \n",
      " |  __dict__\n",
      " |      dictionary for instance variables (if defined)\n",
      " |  \n",
      " |  __weakref__\n",
      " |      list of weak references to the object (if defined)\n",
      " |  \n",
      " |  ----------------------------------------------------------------------\n",
      " |  Data and other attributes defined here:\n",
      " |  \n",
      " |  __hash__ = None\n",
      "\n"
     ]
    }
   ],
   "source": [
    "help(st1)"
   ]
  },
  {
   "cell_type": "code",
   "execution_count": null,
   "id": "5d7419f4-8ae8-44d9-9291-3c295a2a268d",
   "metadata": {},
   "outputs": [],
   "source": []
  },
  {
   "cell_type": "code",
   "execution_count": 19,
   "id": "8837d49d-a445-4fdb-964d-4b10b11fe11e",
   "metadata": {},
   "outputs": [],
   "source": [
    "st2  = Student(\"Manish\", \"B.sc\", 22)"
   ]
  },
  {
   "cell_type": "code",
   "execution_count": 20,
   "id": "6bf2562e-30a5-4806-8a80-136c252ad2d1",
   "metadata": {},
   "outputs": [],
   "source": [
    "st2.name = \"Manish\""
   ]
  },
  {
   "cell_type": "code",
   "execution_count": 21,
   "id": "53e05a1b-5b8f-493f-b617-460a5c3d375a",
   "metadata": {},
   "outputs": [
    {
     "name": "stdout",
     "output_type": "stream",
     "text": [
      "Help on class object in module builtins:\n",
      "\n",
      "class object\n",
      " |  The base class of the class hierarchy.\n",
      " |  \n",
      " |  When called, it accepts no arguments and returns a new featureless\n",
      " |  instance that has no instance attributes and cannot be given any.\n",
      " |  \n",
      " |  Built-in subclasses:\n",
      " |      ArgNotFound\n",
      " |      async_generator\n",
      " |      BaseException\n",
      " |      builtin_function_or_method\n",
      " |      ... and 119 other subclasses\n",
      " |  \n",
      " |  Methods defined here:\n",
      " |  \n",
      " |  __delattr__(self, name, /)\n",
      " |      Implement delattr(self, name).\n",
      " |  \n",
      " |  __dir__(self, /)\n",
      " |      Default dir() implementation.\n",
      " |  \n",
      " |  __eq__(self, value, /)\n",
      " |      Return self==value.\n",
      " |  \n",
      " |  __format__(self, format_spec, /)\n",
      " |      Default object formatter.\n",
      " |  \n",
      " |  __ge__(self, value, /)\n",
      " |      Return self>=value.\n",
      " |  \n",
      " |  __getattribute__(self, name, /)\n",
      " |      Return getattr(self, name).\n",
      " |  \n",
      " |  __gt__(self, value, /)\n",
      " |      Return self>value.\n",
      " |  \n",
      " |  __hash__(self, /)\n",
      " |      Return hash(self).\n",
      " |  \n",
      " |  __init__(self, /, *args, **kwargs)\n",
      " |      Initialize self.  See help(type(self)) for accurate signature.\n",
      " |  \n",
      " |  __le__(self, value, /)\n",
      " |      Return self<=value.\n",
      " |  \n",
      " |  __lt__(self, value, /)\n",
      " |      Return self<value.\n",
      " |  \n",
      " |  __ne__(self, value, /)\n",
      " |      Return self!=value.\n",
      " |  \n",
      " |  __reduce__(self, /)\n",
      " |      Helper for pickle.\n",
      " |  \n",
      " |  __reduce_ex__(self, protocol, /)\n",
      " |      Helper for pickle.\n",
      " |  \n",
      " |  __repr__(self, /)\n",
      " |      Return repr(self).\n",
      " |  \n",
      " |  __setattr__(self, name, value, /)\n",
      " |      Implement setattr(self, name, value).\n",
      " |  \n",
      " |  __sizeof__(self, /)\n",
      " |      Size of object in memory, in bytes.\n",
      " |  \n",
      " |  __str__(self, /)\n",
      " |      Return str(self).\n",
      " |  \n",
      " |  ----------------------------------------------------------------------\n",
      " |  Class methods defined here:\n",
      " |  \n",
      " |  __init_subclass__(...) from builtins.type\n",
      " |      This method is called when a class is subclassed.\n",
      " |      \n",
      " |      The default implementation does nothing. It may be\n",
      " |      overridden to extend subclasses.\n",
      " |  \n",
      " |  __subclasshook__(...) from builtins.type\n",
      " |      Abstract classes can override this to customize issubclass().\n",
      " |      \n",
      " |      This is invoked early on by abc.ABCMeta.__subclasscheck__().\n",
      " |      It should return True, False or NotImplemented.  If it returns\n",
      " |      NotImplemented, the normal algorithm is used.  Otherwise, it\n",
      " |      overrides the normal algorithm (and the outcome is cached).\n",
      " |  \n",
      " |  ----------------------------------------------------------------------\n",
      " |  Static methods defined here:\n",
      " |  \n",
      " |  __new__(*args, **kwargs) from builtins.type\n",
      " |      Create and return a new object.  See help(type) for accurate signature.\n",
      " |  \n",
      " |  ----------------------------------------------------------------------\n",
      " |  Data and other attributes defined here:\n",
      " |  \n",
      " |  __class__ = <class 'type'>\n",
      " |      type(object_or_name, bases, dict)\n",
      " |      type(object) -> the object's type\n",
      " |      type(name, bases, dict) -> a new type\n",
      "\n"
     ]
    }
   ],
   "source": [
    "help(object)"
   ]
  },
  {
   "cell_type": "markdown",
   "id": "3ba261c2-02b4-4cd7-848c-5265eadd357b",
   "metadata": {},
   "source": [
    "## Data Validation"
   ]
  },
  {
   "cell_type": "code",
   "execution_count": 22,
   "id": "716e56c0-e506-4106-b43f-89d4bd828d16",
   "metadata": {},
   "outputs": [],
   "source": [
    "class Validate:\n",
    "    \n",
    "    def __init__(self, Type='int', value=None):\n",
    "        \n",
    "        self.var_type = Type\n",
    "        self.xvalue = value\n",
    "        \n",
    "        self.__attribute_value = None  # the value of the attribute \n",
    "#       _Validate__attribute_vallue\n",
    "        \n",
    "        self.setter()\n",
    "        \n",
    "        \n",
    "        \n",
    "    def setter(self):\n",
    "        \n",
    "        if self.var_type == \"int\" and isinstance(self.xvalue, int):\n",
    "            self.__attribute_value = self.xvalue\n",
    "        else:\n",
    "            raise ValueError(\"value should be int type.\")\n",
    "        \n",
    "        \n",
    "    \n",
    "    def getter():\n",
    "        return self.__attribute_value\n",
    "        \n",
    "    "
   ]
  },
  {
   "cell_type": "code",
   "execution_count": 31,
   "id": "dacd5cd8-ecfe-4cb4-83f9-886bf8312bee",
   "metadata": {},
   "outputs": [],
   "source": [
    "# adding show_info method.\n",
    "\n",
    "class Student:\n",
    "    \n",
    "    def __init__(self, name=None, std=None, age=None):\n",
    "        \"\"\"\n",
    "        name: string, it is the name of the student and only contain the string as input.\n",
    "        std: string, it is the standard (what is graduation of the student.)\n",
    "        age: int, age of the student in the form of the integer data type.\n",
    "        \"\"\"\n",
    "        \n",
    "        self.name = name\n",
    "        self.std = std\n",
    "        self.__age = None  # self.age\n",
    "        \n",
    "        self.setter(age)\n",
    "        \n",
    "    def __repr__(self):\n",
    "        return(f\"Student({self.name}, {self.std}, {self.__age})\")\n",
    "        \n",
    "    def show_info(self):\n",
    "        \n",
    "        print(\"Name: \", self.name)\n",
    "        print(\"Std: \", self.std)\n",
    "        print(\"Age: \", self.__age)\n",
    "        \n",
    "    \n",
    "    def getter(self):\n",
    "        return self.__age\n",
    "    \n",
    "    def setter(self, value):\n",
    "        print(\"setter function is called \")\n",
    "        if isinstance(value, int):\n",
    "            self.__age = value\n",
    "        else:\n",
    "            raise ValueError(\"value should be int type.\")\n",
    "    \n",
    "    age = property(fget=getter, fset=setter)\n",
    "    # class object not an instance object\n",
    "    "
   ]
  },
  {
   "cell_type": "code",
   "execution_count": 2,
   "id": "ad166cd2-35af-4931-a6c6-9bc610d1168e",
   "metadata": {},
   "outputs": [
    {
     "name": "stdout",
     "output_type": "stream",
     "text": [
      "setter function is called \n"
     ]
    }
   ],
   "source": [
    "st1 = Student(\"Manish\", \"b.tech\", 26)"
   ]
  },
  {
   "cell_type": "code",
   "execution_count": 3,
   "id": "6ab1ce28-bc20-4dfb-a52b-803804b83d21",
   "metadata": {},
   "outputs": [
    {
     "name": "stdout",
     "output_type": "stream",
     "text": [
      "setter function is called \n"
     ]
    },
    {
     "ename": "ValueError",
     "evalue": "value should be int type.",
     "output_type": "error",
     "traceback": [
      "\u001b[1;31m---------------------------------------------------------------------------\u001b[0m",
      "\u001b[1;31mValueError\u001b[0m                                Traceback (most recent call last)",
      "Input \u001b[1;32mIn [3]\u001b[0m, in \u001b[0;36m<cell line: 1>\u001b[1;34m()\u001b[0m\n\u001b[1;32m----> 1\u001b[0m st1\u001b[38;5;241m.\u001b[39mage \u001b[38;5;241m=\u001b[39m \u001b[38;5;124m\"\u001b[39m\u001b[38;5;124m26\u001b[39m\u001b[38;5;124m\"\u001b[39m\n",
      "Input \u001b[1;32mIn [1]\u001b[0m, in \u001b[0;36mStudent.setter\u001b[1;34m(self, value)\u001b[0m\n\u001b[0;32m     31\u001b[0m     \u001b[38;5;28mself\u001b[39m\u001b[38;5;241m.\u001b[39m__age \u001b[38;5;241m=\u001b[39m value\n\u001b[0;32m     32\u001b[0m \u001b[38;5;28;01melse\u001b[39;00m:\n\u001b[1;32m---> 33\u001b[0m     \u001b[38;5;28;01mraise\u001b[39;00m \u001b[38;5;167;01mValueError\u001b[39;00m(\u001b[38;5;124m\"\u001b[39m\u001b[38;5;124mvalue should be int type.\u001b[39m\u001b[38;5;124m\"\u001b[39m)\n",
      "\u001b[1;31mValueError\u001b[0m: value should be int type."
     ]
    }
   ],
   "source": [
    "st1.age = \"26\""
   ]
  },
  {
   "cell_type": "code",
   "execution_count": 4,
   "id": "bdd8199f-e0e1-4850-875e-976e731708fe",
   "metadata": {},
   "outputs": [
    {
     "name": "stdout",
     "output_type": "stream",
     "text": [
      "<__main__.Student object at 0x000001414E8FE9D0>\n"
     ]
    }
   ],
   "source": [
    "print(st1)"
   ]
  },
  {
   "cell_type": "code",
   "execution_count": 5,
   "id": "5d56d3f6-f5d3-4f51-9e9b-4a42578f141f",
   "metadata": {},
   "outputs": [
    {
     "data": {
      "text/plain": [
       "26"
      ]
     },
     "execution_count": 5,
     "metadata": {},
     "output_type": "execute_result"
    }
   ],
   "source": [
    "st1.age"
   ]
  },
  {
   "cell_type": "code",
   "execution_count": 23,
   "id": "18add699-4f2b-4cb3-8bbd-ceecb0047815",
   "metadata": {},
   "outputs": [
    {
     "data": {
      "text/plain": [
       "{'name': 'Manish', 'std': 'graduate', 'age': 26}"
      ]
     },
     "execution_count": 23,
     "metadata": {},
     "output_type": "execute_result"
    }
   ],
   "source": [
    "st1.__dict__"
   ]
  },
  {
   "cell_type": "code",
   "execution_count": 32,
   "id": "500ca960-85b1-4a8e-82bb-7deee3f08766",
   "metadata": {},
   "outputs": [
    {
     "name": "stdout",
     "output_type": "stream",
     "text": [
      "setter function is called \n",
      "setter function is called \n",
      "setter function is called \n",
      "setter function is called \n",
      "setter function is called \n",
      "setter function is called \n",
      "setter function is called \n",
      "setter function is called \n",
      "setter function is called \n",
      "setter function is called \n"
     ]
    }
   ],
   "source": [
    "import random\n",
    "students = []\n",
    "for i in range(0,10):\n",
    "    students.append(Student(f\"student{i}\", None, random.randint(20,30)))"
   ]
  },
  {
   "cell_type": "code",
   "execution_count": 33,
   "id": "b9988211-0ec7-4bef-b33d-fbbac043374c",
   "metadata": {},
   "outputs": [
    {
     "data": {
      "text/plain": [
       "[Student(student0, None, 27),\n",
       " Student(student1, None, 28),\n",
       " Student(student2, None, 26),\n",
       " Student(student3, None, 24),\n",
       " Student(student4, None, 24),\n",
       " Student(student5, None, 30),\n",
       " Student(student6, None, 30),\n",
       " Student(student7, None, 26),\n",
       " Student(student8, None, 30),\n",
       " Student(student9, None, 22)]"
      ]
     },
     "execution_count": 33,
     "metadata": {},
     "output_type": "execute_result"
    }
   ],
   "source": [
    "students"
   ]
  },
  {
   "cell_type": "code",
   "execution_count": 29,
   "id": "99642716-66ab-4a0d-8409-9472d24a6931",
   "metadata": {},
   "outputs": [
    {
     "name": "stdout",
     "output_type": "stream",
     "text": [
      "Name:  student0\n",
      "Std:  None\n",
      "Age:  24\n",
      "--------------------\n",
      "Name:  student1\n",
      "Std:  None\n",
      "Age:  20\n",
      "--------------------\n",
      "Name:  student2\n",
      "Std:  None\n",
      "Age:  22\n",
      "--------------------\n",
      "Name:  student3\n",
      "Std:  None\n",
      "Age:  26\n",
      "--------------------\n",
      "Name:  student4\n",
      "Std:  None\n",
      "Age:  26\n",
      "--------------------\n",
      "Name:  student5\n",
      "Std:  None\n",
      "Age:  27\n",
      "--------------------\n",
      "Name:  student6\n",
      "Std:  None\n",
      "Age:  28\n",
      "--------------------\n",
      "Name:  student7\n",
      "Std:  None\n",
      "Age:  22\n",
      "--------------------\n",
      "Name:  student8\n",
      "Std:  None\n",
      "Age:  20\n",
      "--------------------\n",
      "Name:  student9\n",
      "Std:  None\n",
      "Age:  22\n",
      "--------------------\n"
     ]
    }
   ],
   "source": [
    "for st in students:\n",
    "    st.show_info()\n",
    "    print(\"-\"*20)"
   ]
  },
  {
   "cell_type": "code",
   "execution_count": 30,
   "id": "a244e05d-a903-4a06-9f6c-14902bff0d05",
   "metadata": {},
   "outputs": [],
   "source": [
    "strs = [\"one\", \"two\", \"three\"]"
   ]
  },
  {
   "cell_type": "code",
   "execution_count": 34,
   "id": "b57bf477-cf78-4359-8dae-91de24d74e83",
   "metadata": {},
   "outputs": [],
   "source": [
    "a = 10"
   ]
  },
  {
   "cell_type": "code",
   "execution_count": 35,
   "id": "b90b89a1-509b-4731-b6da-189226ca6424",
   "metadata": {},
   "outputs": [
    {
     "data": {
      "text/plain": [
       "10"
      ]
     },
     "execution_count": 35,
     "metadata": {},
     "output_type": "execute_result"
    }
   ],
   "source": [
    "a"
   ]
  },
  {
   "cell_type": "code",
   "execution_count": null,
   "id": "0a703ca1-3ae6-4fab-b04b-2e45688ddf77",
   "metadata": {},
   "outputs": [],
   "source": []
  }
 ],
 "metadata": {
  "kernelspec": {
   "display_name": "Python 3 (ipykernel)",
   "language": "python",
   "name": "python3"
  },
  "language_info": {
   "codemirror_mode": {
    "name": "ipython",
    "version": 3
   },
   "file_extension": ".py",
   "mimetype": "text/x-python",
   "name": "python",
   "nbconvert_exporter": "python",
   "pygments_lexer": "ipython3",
   "version": "3.8.3"
  }
 },
 "nbformat": 4,
 "nbformat_minor": 5
}
