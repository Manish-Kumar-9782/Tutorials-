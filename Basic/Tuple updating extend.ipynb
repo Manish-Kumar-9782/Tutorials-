{
 "cells": [
  {
   "cell_type": "markdown",
   "id": "1d254f61-be26-4206-8f0c-cf20f9f2dcd6",
   "metadata": {},
   "source": [
    "### Extending a tuple"
   ]
  },
  {
   "cell_type": "code",
   "execution_count": 4,
   "id": "e9e1e831-8e50-4a68-ab3f-5c5f5fd4ebc4",
   "metadata": {},
   "outputs": [],
   "source": [
    "def extend_tuple(old_tuple, new_tuple):\n",
    "    \n",
    "    return old_tuple + new_tuple"
   ]
  },
  {
   "cell_type": "code",
   "execution_count": 5,
   "id": "7cacc8a1-1c03-4571-a3a0-d95285a58eae",
   "metadata": {},
   "outputs": [],
   "source": [
    "def getStudent():\n",
    "    \n",
    "    n_student = int(input(\"How many students to enter: \"))\n",
    "    \n",
    "    email_ids = tuple()\n",
    "    usernames = tuple()\n",
    "    domains = tuple()\n",
    "    \n",
    "    for i in range(0,n_student):\n",
    "        \n",
    "        email = input(f\"Enter Student {i+1} Email Id: \")\n",
    "        \n",
    "        email_ids = extend_tuple(email_ids, (email,))  # <---------- extending email_ids tuple\n",
    "        \n",
    "        user , domain = email.split(\"@\")\n",
    "        \n",
    "        usernames = extend_tuple(usernames, (user, ))  # <----- extending usernames tuple\n",
    "        \n",
    "        domains = extend_tuple(domains, (domain, ))    # <----- extending domains tuple\n",
    "        \n",
    "    print(\"OutPut\".center(70,'-'))\n",
    "    print(\"\\n\")\n",
    "        \n",
    "        \n",
    "    \n",
    "    # print(\"\\nemail_ids :\", email_ids)\n",
    "    # print(\"\\nusernames :\", usernames)\n",
    "    # print(\"\\ndomains   :\", domains)\n",
    "    print(\"%-25s\\t %-15s\\t %-10s\" % (\"Gmail\", \"UserName\", \"Domain\"))\n",
    "    print(\"-\"*70)\n",
    "    \n",
    "    for i in range(0, n_student):\n",
    "        \n",
    "        print(\"%-25s\\t %-15s\\t %-10s\"  % (email_ids[i], usernames[i], domains[i]))\n",
    "        "
   ]
  },
  {
   "cell_type": "code",
   "execution_count": 6,
   "id": "f0c551ab-466d-466b-af6a-d5379869b1bb",
   "metadata": {
    "jp-MarkdownHeadingCollapsed": true,
    "tags": []
   },
   "outputs": [
    {
     "name": "stdin",
     "output_type": "stream",
     "text": [
      "How many students to enter:  4\n",
      "Enter Student 1 Email Id:  ManishKumar@gmail.com\n",
      "Enter Student 2 Email Id:  rahulkumar@hotmail.com\n",
      "Enter Student 3 Email Id:  jyotisaini@gmail.com\n",
      "Enter Student 4 Email Id:  sagarsoni@outlook.com\n"
     ]
    },
    {
     "name": "stdout",
     "output_type": "stream",
     "text": [
      "---------------------------OutPut---------------------------\n",
      "\n",
      "\n",
      "Gmail                    \t UserName       \t Domain    \n",
      "--------------------------------------------------\n",
      "ManishKumar@gmail.com    \t ManishKumar    \t gmail.com \n",
      "rahulkumar@hotmail.com   \t rahulkumar     \t hotmail.com\n",
      "jyotisaini@gmail.com     \t jyotisaini     \t gmail.com \n",
      "sagarsoni@outlook.com    \t sagarsoni      \t outlook.com\n"
     ]
    }
   ],
   "source": [
    "getStudent()"
   ]
  },
  {
   "cell_type": "code",
   "execution_count": 9,
   "id": "3717129e-5016-44fd-92b1-4324e6622a39",
   "metadata": {},
   "outputs": [],
   "source": [
    "def getStudent2():\n",
    "    \n",
    "    n_student = int(input(\"How many students to enter: \"))\n",
    "    \n",
    "    email_ids = tuple()\n",
    "    usernames = tuple()\n",
    "    domains = tuple()\n",
    "    \n",
    "    for i in range(0,n_student):\n",
    "        \n",
    "        email = input(f\"Enter Student {i+1} Email Id: \")\n",
    "        \n",
    "        email_ids = extend_tuple(email_ids, (email,))  # <---------- extending email_ids tuple\n",
    "        \n",
    "        user , domain = email.split(\"@\")\n",
    "        \n",
    "        usernames = extend_tuple(usernames, (user, ))  # <----- extending usernames tuple\n",
    "        \n",
    "        domains = extend_tuple(domains, (domain, ))    # <----- extending domains tuple\n",
    "        \n",
    "    \n",
    "    print(\"\\nemail_ids :\", email_ids)\n",
    "    print(\"\\nusernames :\", usernames)\n",
    "    print(\"\\ndomains   :\", domains)\n",
    "    \n",
    "    for i in range(0, n_student):\n",
    "        \n",
    "        print(f\"\\n\\n{email_ids[i]}  {usernames[i]}  {domains[i]}\")\n",
    "        "
   ]
  }
 ],
 "metadata": {
  "kernelspec": {
   "display_name": "Python 3 (ipykernel)",
   "language": "python",
   "name": "python3"
  },
  "language_info": {
   "codemirror_mode": {
    "name": "ipython",
    "version": 3
   },
   "file_extension": ".py",
   "mimetype": "text/x-python",
   "name": "python",
   "nbconvert_exporter": "python",
   "pygments_lexer": "ipython3",
   "version": "3.8.3"
  }
 },
 "nbformat": 4,
 "nbformat_minor": 5
}
