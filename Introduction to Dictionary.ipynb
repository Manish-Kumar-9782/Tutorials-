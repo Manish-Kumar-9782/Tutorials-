{
 "cells": [
  {
   "cell_type": "markdown",
   "id": "a67fe788-eb18-405d-8894-467811b5b9fd",
   "metadata": {},
   "source": [
    "# Dictionary In Python"
   ]
  },
  {
   "cell_type": "markdown",
   "id": "ba1444b4-98d7-41b6-bfba-bc6faabbfcbe",
   "metadata": {},
   "source": [
    "In this section we will see that what is dictionary in python and how to use it."
   ]
  },
  {
   "cell_type": "markdown",
   "id": "22b7d275-189e-40b7-8839-fc58a206a998",
   "metadata": {},
   "source": [
    "### Dictionary:"
   ]
  },
  {
   "cell_type": "markdown",
   "id": "492f1beb-1d29-43b5-bc55-4abd0df89ab3",
   "metadata": {},
   "source": [
    "**Dictionary in Python** is an unordered collection of data values, used to store data values like a map, which, unlike other data types which hold only a single value as an element.\n",
    "\n",
    "Dictionary holds key:value pair. in dictionary we can access any value by using it's key. since accessing of any element has time complexity O(1) therefore it very efficient to store relational kind of data with key and value pair."
   ]
  },
  {
   "cell_type": "markdown",
   "id": "95071eec-7dec-4836-a43f-0fc934531867",
   "metadata": {},
   "source": [
    "##### Help on dict:\n",
    "\n",
    "if we use the help function on the dict class it will give us the all the useful information of the it's member methods with many special kind of method."
   ]
  },
  {
   "cell_type": "code",
   "execution_count": 1,
   "id": "dba68b1a-8618-473f-b57a-ffcf58a7df65",
   "metadata": {},
   "outputs": [
    {
     "name": "stdout",
     "output_type": "stream",
     "text": [
      "Help on class dict in module builtins:\n",
      "\n",
      "class dict(object)\n",
      " |  dict() -> new empty dictionary\n",
      " |  dict(mapping) -> new dictionary initialized from a mapping object's\n",
      " |      (key, value) pairs\n",
      " |  dict(iterable) -> new dictionary initialized as if via:\n",
      " |      d = {}\n",
      " |      for k, v in iterable:\n",
      " |          d[k] = v\n",
      " |  dict(**kwargs) -> new dictionary initialized with the name=value pairs\n",
      " |      in the keyword argument list.  For example:  dict(one=1, two=2)\n",
      " |  \n",
      " |  Built-in subclasses:\n",
      " |      StgDict\n",
      " |  \n",
      " |  Methods defined here:\n",
      " |  \n",
      " |  __contains__(self, key, /)\n",
      " |      True if the dictionary has the specified key, else False.\n",
      " |  \n",
      " |  __delitem__(self, key, /)\n",
      " |      Delete self[key].\n",
      " |  \n",
      " |  __eq__(self, value, /)\n",
      " |      Return self==value.\n",
      " |  \n",
      " |  __ge__(self, value, /)\n",
      " |      Return self>=value.\n",
      " |  \n",
      " |  __getattribute__(self, name, /)\n",
      " |      Return getattr(self, name).\n",
      " |  \n",
      " |  __getitem__(...)\n",
      " |      x.__getitem__(y) <==> x[y]\n",
      " |  \n",
      " |  __gt__(self, value, /)\n",
      " |      Return self>value.\n",
      " |  \n",
      " |  __init__(self, /, *args, **kwargs)\n",
      " |      Initialize self.  See help(type(self)) for accurate signature.\n",
      " |  \n",
      " |  __iter__(self, /)\n",
      " |      Implement iter(self).\n",
      " |  \n",
      " |  __le__(self, value, /)\n",
      " |      Return self<=value.\n",
      " |  \n",
      " |  __len__(self, /)\n",
      " |      Return len(self).\n",
      " |  \n",
      " |  __lt__(self, value, /)\n",
      " |      Return self<value.\n",
      " |  \n",
      " |  __ne__(self, value, /)\n",
      " |      Return self!=value.\n",
      " |  \n",
      " |  __repr__(self, /)\n",
      " |      Return repr(self).\n",
      " |  \n",
      " |  __reversed__(self, /)\n",
      " |      Return a reverse iterator over the dict keys.\n",
      " |  \n",
      " |  __setitem__(self, key, value, /)\n",
      " |      Set self[key] to value.\n",
      " |  \n",
      " |  __sizeof__(...)\n",
      " |      D.__sizeof__() -> size of D in memory, in bytes\n",
      " |  \n",
      " |  clear(...)\n",
      " |      D.clear() -> None.  Remove all items from D.\n",
      " |  \n",
      " |  copy(...)\n",
      " |      D.copy() -> a shallow copy of D\n",
      " |  \n",
      " |  get(self, key, default=None, /)\n",
      " |      Return the value for key if key is in the dictionary, else default.\n",
      " |  \n",
      " |  items(...)\n",
      " |      D.items() -> a set-like object providing a view on D's items\n",
      " |  \n",
      " |  keys(...)\n",
      " |      D.keys() -> a set-like object providing a view on D's keys\n",
      " |  \n",
      " |  pop(...)\n",
      " |      D.pop(k[,d]) -> v, remove specified key and return the corresponding value.\n",
      " |      If key is not found, d is returned if given, otherwise KeyError is raised\n",
      " |  \n",
      " |  popitem(self, /)\n",
      " |      Remove and return a (key, value) pair as a 2-tuple.\n",
      " |      \n",
      " |      Pairs are returned in LIFO (last-in, first-out) order.\n",
      " |      Raises KeyError if the dict is empty.\n",
      " |  \n",
      " |  setdefault(self, key, default=None, /)\n",
      " |      Insert key with a value of default if key is not in the dictionary.\n",
      " |      \n",
      " |      Return the value for key if key is in the dictionary, else default.\n",
      " |  \n",
      " |  update(...)\n",
      " |      D.update([E, ]**F) -> None.  Update D from dict/iterable E and F.\n",
      " |      If E is present and has a .keys() method, then does:  for k in E: D[k] = E[k]\n",
      " |      If E is present and lacks a .keys() method, then does:  for k, v in E: D[k] = v\n",
      " |      In either case, this is followed by: for k in F:  D[k] = F[k]\n",
      " |  \n",
      " |  values(...)\n",
      " |      D.values() -> an object providing a view on D's values\n",
      " |  \n",
      " |  ----------------------------------------------------------------------\n",
      " |  Class methods defined here:\n",
      " |  \n",
      " |  fromkeys(iterable, value=None, /) from builtins.type\n",
      " |      Create a new dictionary with keys from iterable and values set to value.\n",
      " |  \n",
      " |  ----------------------------------------------------------------------\n",
      " |  Static methods defined here:\n",
      " |  \n",
      " |  __new__(*args, **kwargs) from builtins.type\n",
      " |      Create and return a new object.  See help(type) for accurate signature.\n",
      " |  \n",
      " |  ----------------------------------------------------------------------\n",
      " |  Data and other attributes defined here:\n",
      " |  \n",
      " |  __hash__ = None\n",
      "\n"
     ]
    }
   ],
   "source": [
    "help(dict)"
   ]
  },
  {
   "cell_type": "markdown",
   "id": "27733c28-aceb-4d38-ba16-faa22d009cfc",
   "metadata": {},
   "source": [
    "As we can see that dict has many  special and normal use methods, but in this section we will focus on the normal user methods, Which are."
   ]
  },
  {
   "cell_type": "markdown",
   "id": "8a537654-6b59-4520-a6f0-d42d1c4187c1",
   "metadata": {},
   "source": [
    "* copy()\n",
    "* clear()\n",
    "* fromkeys()\n",
    "* update()\n",
    "* items()\n",
    "* keys()\n",
    "* values()\n",
    "* pop()\n",
    "* popitem()\n",
    "* get()\n",
    "* setdefault()"
   ]
  },
  {
   "cell_type": "markdown",
   "id": "863868e3-28d3-46ba-b852-7eddd03af0ca",
   "metadata": {},
   "source": [
    "Now we will see one by one on each method and we will see their working example. "
   ]
  },
  {
   "cell_type": "markdown",
   "id": "c2b4ac15-6474-4e5b-9aa3-b6073f53a1ce",
   "metadata": {},
   "source": [
    "To perfrom all the above operation we will make dictionary with some key and values."
   ]
  },
  {
   "cell_type": "code",
   "execution_count": 2,
   "id": "c5695b8b-49f4-4a68-8416-77e638af66cd",
   "metadata": {},
   "outputs": [],
   "source": [
    "dict1 = {\"Name\": \"Manihs\",\n",
    "        \"Age\": 26,\n",
    "        \"hight\": 5.5,\n",
    "        \"Contact\": 1234567890}"
   ]
  },
  {
   "cell_type": "markdown",
   "id": "d09a1dfb-e56f-4188-9361-acb7300b37da",
   "metadata": {},
   "source": [
    "### copy() method:\n",
    "\n",
    "This method is used to make a shallow copy of the dictionary items and return a new dictionary with new reference.\n",
    "\n",
    "This copy method is usefull when we don't want to change the data of the our original dictionary and want to work on it, then we can use the copy method."
   ]
  },
  {
   "cell_type": "code",
   "execution_count": 3,
   "id": "fbdce7f1-4e53-4e90-8f81-826cd12ac55d",
   "metadata": {},
   "outputs": [
    {
     "data": {
      "text/plain": [
       "{'Name': 'Manihs', 'Age': 26, 'hight': 5.5, 'Contact': 1234567890}"
      ]
     },
     "execution_count": 3,
     "metadata": {},
     "output_type": "execute_result"
    }
   ],
   "source": [
    "# first of all we will check our dict1 \n",
    "dict1"
   ]
  },
  {
   "cell_type": "markdown",
   "id": "9bce7728-9dff-4c1d-962d-43f358c0ac2d",
   "metadata": {},
   "source": [
    "As we can see that we have a dictionary which has 4 items. Now we will make a copy of this dict1 and store it in dict2"
   ]
  },
  {
   "cell_type": "code",
   "execution_count": 4,
   "id": "51861f38-5ee2-4294-850f-df26ef32105f",
   "metadata": {},
   "outputs": [
    {
     "data": {
      "text/plain": [
       "{'Name': 'Manihs', 'Age': 26, 'hight': 5.5, 'Contact': 1234567890}"
      ]
     },
     "execution_count": 4,
     "metadata": {},
     "output_type": "execute_result"
    }
   ],
   "source": [
    "# coping dict1 into dict2\n",
    "dict2 = dict1.copy()\n",
    "dict2"
   ]
  },
  {
   "cell_type": "markdown",
   "id": "b1f63e70-27df-4659-b746-1d803aede0dd",
   "metadata": {},
   "source": [
    "As you can see that we have created a new dictionary by copying all the item of dict1 into dict2. if we check that they are both different dictionary then we can do that by chekcking their ids"
   ]
  },
  {
   "cell_type": "code",
   "execution_count": 5,
   "id": "9ea97df3-5389-477e-b4ab-f75e157444fa",
   "metadata": {},
   "outputs": [
    {
     "data": {
      "text/plain": [
       "False"
      ]
     },
     "execution_count": 5,
     "metadata": {},
     "output_type": "execute_result"
    }
   ],
   "source": [
    "# checking by id\n",
    "id(dict1) == id(dict2)"
   ]
  },
  {
   "cell_type": "code",
   "execution_count": 6,
   "id": "b0d40062-e967-442e-bd58-c733e45bae83",
   "metadata": {},
   "outputs": [
    {
     "data": {
      "text/plain": [
       "False"
      ]
     },
     "execution_count": 6,
     "metadata": {},
     "output_type": "execute_result"
    }
   ],
   "source": [
    "# checking by is operator\n",
    "dict1 is dict2"
   ]
  },
  {
   "cell_type": "markdown",
   "id": "80155d1d-e8ac-4d95-9d64-a9c53e7c6978",
   "metadata": {},
   "source": [
    "Conclusion: Now we know that both the dicitonaries are different because they have differrent reference.\n",
    "\n",
    "It means that when use the copy method on dict1 object it copied all the items into a new dictionary and allocate it to the dict2 object."
   ]
  },
  {
   "cell_type": "markdown",
   "id": "42f74147-7b51-45dd-95c1-76f96e965432",
   "metadata": {},
   "source": [
    "___"
   ]
  },
  {
   "cell_type": "markdown",
   "id": "1c91dae3-a233-4d0b-bb0e-b17ed9dd2735",
   "metadata": {},
   "source": [
    "### clear() Method\n",
    "\n",
    "This method is used to remove all the items or delete all the items from a dictionary. \n",
    "\n",
    "Now we will delete the dict2 items."
   ]
  },
  {
   "cell_type": "code",
   "execution_count": 7,
   "id": "83c98aeb-eb70-4dde-83b6-10e624b76360",
   "metadata": {},
   "outputs": [],
   "source": [
    "# deleting all items from dict2 \n",
    "dict2.clear()"
   ]
  },
  {
   "cell_type": "code",
   "execution_count": 8,
   "id": "f579702e-51bb-4bf8-9574-ab730692f5e0",
   "metadata": {},
   "outputs": [
    {
     "data": {
      "text/plain": [
       "{}"
      ]
     },
     "execution_count": 8,
     "metadata": {},
     "output_type": "execute_result"
    }
   ],
   "source": [
    "# Now if we check the dict2 item than there will be nothing, it will be empty\n",
    "dict2"
   ]
  },
  {
   "cell_type": "markdown",
   "id": "d104cca4-26e0-46e5-aad3-60a3a205b59e",
   "metadata": {},
   "source": [
    "this is empty dictionary."
   ]
  },
  {
   "cell_type": "markdown",
   "id": "382eec46-ae0b-434e-b25d-805c6778c91a",
   "metadata": {},
   "source": [
    "___"
   ]
  },
  {
   "cell_type": "markdown",
   "id": "701cbcd6-ecb4-4a18-a596-99957f4fef39",
   "metadata": {},
   "source": [
    "### items() Method\n",
    "\n",
    "This method is used to retrieve all the key and values called items of the dictionaries in a sequence called dict_items.\n",
    "\n",
    "Note: we are again copying all the item of dict1 into dict2, so we don't change our original dict1 by mistake."
   ]
  },
  {
   "cell_type": "code",
   "execution_count": 12,
   "id": "2fd362b6-88f2-43bc-b614-167869888777",
   "metadata": {},
   "outputs": [
    {
     "data": {
      "text/plain": [
       "{'Name': 'Manihs', 'Age': 26, 'hight': 5.5, 'Contact': 1234567890}"
      ]
     },
     "execution_count": 12,
     "metadata": {},
     "output_type": "execute_result"
    }
   ],
   "source": [
    "# copying dict1 again into dict2\n",
    "dict2 = dict1.copy()\n",
    "dict2"
   ]
  },
  {
   "cell_type": "code",
   "execution_count": null,
   "id": "89d51c04-6f86-400f-b5da-7de2aa381515",
   "metadata": {},
   "outputs": [],
   "source": []
  }
 ],
 "metadata": {
  "kernelspec": {
   "display_name": "Python 3 (ipykernel)",
   "language": "python",
   "name": "python3"
  },
  "language_info": {
   "codemirror_mode": {
    "name": "ipython",
    "version": 3
   },
   "file_extension": ".py",
   "mimetype": "text/x-python",
   "name": "python",
   "nbconvert_exporter": "python",
   "pygments_lexer": "ipython3",
   "version": "3.8.3"
  }
 },
 "nbformat": 4,
 "nbformat_minor": 5
}
