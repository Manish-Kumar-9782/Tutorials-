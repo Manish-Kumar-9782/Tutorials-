{
 "cells": [
  {
   "cell_type": "code",
   "execution_count": 1,
   "metadata": {},
   "outputs": [],
   "source": [
    "import os\n",
    "from os import system\n",
    "import time\n",
    "import pandas as pd"
   ]
  },
  {
   "cell_type": "code",
   "execution_count": 2,
   "metadata": {},
   "outputs": [],
   "source": [
    "# Global Variable for directories\n",
    "# For Current Working User\n",
    "User_Name = \"admin\"\n",
    "Record_Dir = User_Name +\"/records/student_record.csv\""
   ]
  },
  {
   "cell_type": "markdown",
   "metadata": {},
   "source": [
    "# Regestration"
   ]
  },
  {
   "cell_type": "code",
   "execution_count": 3,
   "metadata": {},
   "outputs": [],
   "source": [
    "def Regestration():\n",
    "    \"\"\" This Function is to make an account for to manage Student Record\n",
    "    \"\"\"\n",
    "    # ask user name\n",
    "    # ask Password\n",
    "    # ask confirm password\n",
    "    \n",
    "    username = input(\"Please Enter the User Name to regester:- \")\n",
    "    password = input(\"Please enter the password:- \")\n",
    "    repassword = input(\"Please re-enter the password:- \")\n",
    "    \n",
    "    #print(username)\n",
    "    #print(password)\n",
    "    #print(repassword)\n",
    "    \n",
    "    #confirm regestration\n",
    "    if password == repassword:\n",
    "        #create the New account\n",
    "        os.mkdir(f\"{username}\")\n",
    "        filepath =username+\"/Config\"  \n",
    "        \n",
    "        file = open(filepath,'w')\n",
    "        \n",
    "        file.write(\"UserName: \"+ username+\"\\n\")\n",
    "        file.write(\"password: \"+ password+ \"\\n\")\n",
    "        file.close()\n",
    "        print(\"Regestration completed. \")\n",
    "        time.sleep(2)\n",
    "        return Login()\n",
    "    "
   ]
  },
  {
   "cell_type": "markdown",
   "metadata": {},
   "source": [
    "# Read Config File"
   ]
  },
  {
   "cell_type": "code",
   "execution_count": 4,
   "metadata": {},
   "outputs": [],
   "source": [
    "def Readconfig(username):\n",
    "    # retrive the data from the config file\n",
    "    filepath = username+\"/Config\"\n",
    "    \n",
    "    try:\n",
    "        file =open(filepath,'r')\n",
    "\n",
    "        line = file.readline()\n",
    "        username = line.split(\":\")[1].strip()\n",
    "        #print (line.split(\":\")[1].strip())\n",
    "\n",
    "        line = file.readline()\n",
    "        password = line.split(\":\")[1].strip() \n",
    "        #print(password)\n",
    "\n",
    "        file.close()\n",
    "        \n",
    "        return username , password\n",
    "        \n",
    "    except:\n",
    "        return False\n",
    "\n",
    "    \n",
    "    "
   ]
  },
  {
   "cell_type": "markdown",
   "metadata": {},
   "source": [
    "# Login Screen"
   ]
  },
  {
   "cell_type": "code",
   "execution_count": 5,
   "metadata": {},
   "outputs": [],
   "source": [
    "def Login():\n",
    "    \n",
    "    # ask for the userName and password\n",
    "    \n",
    "    system(\"cls\")\n",
    "    UserName = input(\"Please Enter the user Name:- \")\n",
    "    Password = input(\"Please Enter the Password:- \" )\n",
    "    \n",
    "    Data = Readconfig(UserName)\n",
    "    \n",
    "    if Data != False:\n",
    "        \n",
    "        # Compare the Password\n",
    "        if Password == Data[1]:\n",
    "            \n",
    "            global User_Name \n",
    "            User_Name = UserName\n",
    "            print(\"\\nAccess Granted\")\n",
    "            return True\n",
    "        else:\n",
    "            print(\"User Name or Password is incorrect.  Please Try again.\\n\")\n",
    "            time.sleep(3)\n",
    "            system(\"cls\")\n",
    "            print(\"Login...\\n\")\n",
    "            return Login()\n",
    "            \n",
    "        \n",
    "    else:\n",
    "        print(\"User Name is not found\")\n",
    "        return False\n",
    "    "
   ]
  },
  {
   "cell_type": "markdown",
   "metadata": {},
   "source": [
    "# Student Entry\n",
    "\n",
    "Student Name, class, Section, Stream, Roll no., Sports, Hobbies, Grade"
   ]
  },
  {
   "cell_type": "code",
   "execution_count": 6,
   "metadata": {},
   "outputs": [],
   "source": [
    "#from os import system\n",
    "#import time\n",
    "\n",
    "def Student_new_entry(User_Name):\n",
    "    # Enter the Details of Student\n",
    "    # create or check the directory for the record.\n",
    "    DirName = User_Name + \"/records\"\n",
    "    \n",
    "    if os.path.isdir(DirName):\n",
    "    \n",
    "        print(\"Enter the Details of the Students as asked.\")\n",
    "\n",
    "        Student_Name = input(\"Student Name:- \")\n",
    "        Class = input(\"Class:- \")\n",
    "        Section = input(\"Section:- \")\n",
    "        Stream = input(\"Stream:- \")\n",
    "        Roll_no = input(\"Roll no.:- \")\n",
    "        Sports = input(\"Sports:- \")\n",
    "        Hobbies = input(\"Hobbies:- \")\n",
    "        Grade = input(\"Grade:- \")\n",
    "        \n",
    "        file = open(DirName+\"/student_records.csv\",'a')\n",
    "        file.write(f\"{Student_Name},{Class},{Section},{Stream},{Roll_no},{Sports},{Hobbies},{Grade}\\n\")\n",
    "        file.close()\n",
    "        \n",
    "    else :\n",
    "        \n",
    "        os.mkdir(User_Name +\"/records\")\n",
    "        file = open(DirName+\"/student_records.csv\",'w')\n",
    "        file.write(\"Name,Class,Section,Stream,Roll No.,Sports,Hobbies,Grade\\n\")\n",
    "        file.close()\n",
    "        \n",
    "        return Student_new_entry(User_Name) \n",
    "          "
   ]
  },
  {
   "cell_type": "markdown",
   "metadata": {},
   "source": [
    "# Return to Main Menu"
   ]
  },
  {
   "cell_type": "code",
   "execution_count": 16,
   "metadata": {},
   "outputs": [],
   "source": [
    "def return_menu():\n",
    "    global User_Name\n",
    "    cmd = input(\"\\n\\n Press 0 to return main menu: \")\n",
    "    if cmd =='0':\n",
    "        return Show_options(User_Name)\n",
    "    else:\n",
    "        return return_menu()"
   ]
  },
  {
   "cell_type": "markdown",
   "metadata": {},
   "source": [
    "# Show Details"
   ]
  },
  {
   "cell_type": "code",
   "execution_count": 7,
   "metadata": {},
   "outputs": [],
   "source": [
    "def Show_Student_details(User_Name):\n",
    "    system(\"cls\")\n",
    "    print(\"Student Details:>\\n\\n\")\n",
    "    # This will show the all student Details\n",
    "    DIR = User_Name+\"/records/student_records.csv\"\n",
    "    file = pd.read_csv(DIR)\n",
    "    file.set_index(\"Name\",inplace=True)\n",
    "    print(file)\n",
    "    \n",
    "    return_menu()"
   ]
  },
  {
   "cell_type": "markdown",
   "metadata": {},
   "source": [
    "# Update the Student Data Entry"
   ]
  },
  {
   "cell_type": "code",
   "execution_count": 8,
   "metadata": {},
   "outputs": [],
   "source": [
    "def Update(User_Name):\n",
    "    \n",
    "    # This Function is used to update the inforamtion of a student in a column\n",
    "    DIR = User_Name+\"/records/student_records.csv\"\n",
    "    \n",
    "    file = pd.read_csv(DIR)\n",
    "    file.set_index(\"Name\",inplace=True)\n",
    "    \n",
    "    Student_Name = input(\"\\nPlease Enter the Student Name:- \")\n",
    "    print(file.loc[Student_Name])\n",
    "    \n",
    "    while(1):\n",
    "        cat = input(\"\\nSelect the catageory to Update:- \")\n",
    "        CatValue =False\n",
    "        \n",
    "        if cat != \"exit\":\n",
    "            \n",
    "            for icat in file.columns.to_list():\n",
    "                \n",
    "                if icat == cat:\n",
    "                    CatValue = True\n",
    "                    break\n",
    "                else:\n",
    "                    CatValue = False\n",
    "                \n",
    "            if CatValue==True:\n",
    "                \n",
    "                Input_data = input(\"\\nEnter New Value:- \")\n",
    "                file.loc[Student_Name,cat] = Input_data\n",
    "                print(file.head())\n",
    "            else:\n",
    "                print(\"\\nInvalid Catagery Please try Again.\")\n",
    "        \n",
    "        else: break\n",
    "       \n",
    "    \n",
    "    # Now after updating the data we need to save the file\n",
    "    \n",
    "    print(file.head())\n",
    "    file.to_csv(User_Name+\"/records/student_records.csv\")\n",
    "    "
   ]
  },
  {
   "cell_type": "markdown",
   "metadata": {},
   "source": [
    "# Delete Entry"
   ]
  },
  {
   "cell_type": "code",
   "execution_count": 9,
   "metadata": {},
   "outputs": [],
   "source": [
    "def Delete_Entry(User_Name):\n",
    "    DIR = User_Name+\"/records/student_records.csv\"\n",
    "    \n",
    "    file = pd.read_csv(DIR)\n",
    "    file.set_index(\"Name\",inplace=True)\n",
    "    \n",
    "    # Select the Student Name to Delete\n",
    "    Show_Student_details(User_Name)\n",
    "    \n",
    "    Student_Name = input(\"Please select the student to delete:- \")\n",
    "    \n",
    "    # delete entries if it is not exit \n",
    "    while(1):\n",
    "        \n",
    "        if Student_Name !=\"exit\":\n",
    "            # confirmation before deletion   Y/y or N/n\n",
    "            \n",
    "            print(f\"\\n\\n{file.loc[Student_Name]}\")\n",
    "            confirm = input(f\"Are you sure to delete {Student_Name}'s entry (Y/N):> \")\n",
    "            confirm  = confirm.lower()\n",
    "            \n",
    "            if confirm != \"n\":\n",
    "                file.drop(Student_Name,inplace=True)\n",
    "                file.to_csv(User_Name+\"/records/student_records.csv\")\n",
    "            \n",
    "            else :\n",
    "                return Delete_Entry(User_Name)\n",
    "            \n",
    "        else : break"
   ]
  },
  {
   "cell_type": "markdown",
   "metadata": {},
   "source": [
    "# Login or Regestration"
   ]
  },
  {
   "cell_type": "code",
   "execution_count": 10,
   "metadata": {},
   "outputs": [],
   "source": [
    "def Account_entry():\n",
    "    print(\"1. Login \\n2. Regestration \\n \")\n",
    "    selection = input(\"Select the option in number:-  \")\n",
    "    \n",
    "    if selection=='1':\n",
    "        return Login()\n",
    "    elif selection == '2':\n",
    "        return Regestration()\n",
    "    else:\n",
    "        print(\"\\nInvalid Selection Please Select the option from above... \")\n",
    "        time.sleep(2)\n",
    "        system(\"cls\")\n",
    "        print(\"Please Try Again\\n\")\n",
    "        \n",
    "        return Account_entry()"
   ]
  },
  {
   "cell_type": "markdown",
   "metadata": {},
   "source": [
    "# Option Menu for Student Data"
   ]
  },
  {
   "cell_type": "code",
   "execution_count": 11,
   "metadata": {},
   "outputs": [],
   "source": [
    "def Show_options(User_Name):\n",
    "    user = User_Name\n",
    "    system(\"cls\")\n",
    "    \n",
    "    print(\"1. New Student Entry\")\n",
    "    print(\"2. Update Student Entry\")\n",
    "    print(\"3. Delete Student Entry\")\n",
    "    print(\"4. Show Students Record\")\n",
    "    print(\"5. Close the program\\n\\n\")\n",
    "    \n",
    "    selection = input(\"Please Select the option in Number:- \")\n",
    "    \n",
    "    if selection == '1' or selection == '2' or selection == '3' or selection == '4': \n",
    "        return selection\n",
    "    \n",
    "    elif selection == '5' :\n",
    "        cmd = input(\"\\nDo you realy want to close the program (Y/N): \")\n",
    "        cmd = cmd.lower()\n",
    "        \n",
    "        if cmd == 'y':\n",
    "            system(\"exit\")\n",
    "        else:\n",
    "            print(f\"User Name: {user}\")\n",
    "            return Show_options(user)\n",
    "    else:\n",
    "        print(\"\\nSelection is not Valid. Please try Again\")\n",
    "        time.sleep(3)\n",
    "        system(\"cls\")\n",
    "        print(f\"User Name: {user}\")\n",
    "        return Show_options(user)\n",
    "    "
   ]
  },
  {
   "cell_type": "markdown",
   "metadata": {},
   "source": [
    "# Main Scereen Function"
   ]
  },
  {
   "cell_type": "code",
   "execution_count": 12,
   "metadata": {},
   "outputs": [],
   "source": [
    "def main():\n",
    "    global User_Name\n",
    "    # first Ask for Login or Regestrarion   \n",
    "    \n",
    "    # capture login result Acc\n",
    "    Access_result = Account_entry()\n",
    "    \n",
    "    if Access_result ==True:\n",
    "        selection = Show_options(User_Name)\n",
    "        \n",
    "        if selection == '1':\n",
    "            # This selectio if for to make a new student entry\n",
    "            Student_new_entry(User_Name)\n",
    "            system(\"cls\")\n",
    "            return Show_options()\n",
    "        \n",
    "        elif selection == '2':\n",
    "              # This selectio if for to Update the Entry\n",
    "            Update(User_Name)\n",
    "            system(\"cls\")\n",
    "            return Show_options()\n",
    "        \n",
    "        elif selection == '3':\n",
    "              # This selectio if for to Delete The Entry\n",
    "            Delete_Entry(User_Name)\n",
    "            system(\"cls\")\n",
    "            return Show_options()\n",
    "        \n",
    "        elif selection == '4':\n",
    "              # This selectio if for showing the Students records\n",
    "            Show_Student_details(User_Name)\n",
    "        else:\n",
    "            print(\"Invalid Selection..\")\n",
    "        \n",
    "    else:\n",
    "        print(\"||Access Denied||\")"
   ]
  },
  {
   "cell_type": "code",
   "execution_count": 13,
   "metadata": {},
   "outputs": [
    {
     "name": "stdout",
     "output_type": "stream",
     "text": [
      "1. Login \n",
      "2. Regestration \n",
      " \n",
      "Select the option in number:-  1\n",
      "Please Enter the user Name:- Manish Kumar\n",
      "Please Enter the Password:- hello\n",
      "\n",
      "Access Granted\n",
      "1. New Student Entry\n",
      "2. Update Student Entry\n",
      "3. Delete Student Entry\n",
      "4. Show Students Record\n",
      "5. Close the program\n",
      "\n",
      "\n",
      "Please Select the option in Number:- 4\n",
      "Student Details:>\n",
      "\n",
      "        Class Section    Stream  Roll No.   Sports      Hobbies Grade\n",
      "Name                                                                 \n",
      "Manish     10       B   Science        52  cricket  video Games     B\n",
      "Arjun      10       A  Commerce         2  Archery       Gaming    B+\n"
     ]
    }
   ],
   "source": [
    "if __name__ == \"__main__\":\n",
    "    main()"
   ]
  }
 ],
 "metadata": {
  "kernelspec": {
   "display_name": "Python 3",
   "language": "python",
   "name": "python3"
  },
  "language_info": {
   "codemirror_mode": {
    "name": "ipython",
    "version": 3
   },
   "file_extension": ".py",
   "mimetype": "text/x-python",
   "name": "python",
   "nbconvert_exporter": "python",
   "pygments_lexer": "ipython3",
   "version": "3.8.3"
  }
 },
 "nbformat": 4,
 "nbformat_minor": 4
}
