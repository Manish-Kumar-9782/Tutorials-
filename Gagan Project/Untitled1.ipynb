{
 "cells": [
  {
   "cell_type": "code",
   "execution_count": 6,
   "metadata": {},
   "outputs": [
    {
     "name": "stdout",
     "output_type": "stream",
     "text": [
      "                                                  Welcome\n",
      "                                                    To\n",
      "                                        Student Management System\n"
     ]
    }
   ],
   "source": [
    "import os\n",
    "import time\n",
    "\n",
    "def welcome_screen():\n",
    "    os.system(\"cls\")\n",
    "    \n",
    "    print(\"{}Welcome\".format(\" \"*50))\n",
    "    print(\"{}To\".format(\" \"*52))\n",
    "    print(\"{}Student Management System\".format(\" \"*40))\n",
    "    time.sleep(5)\n",
    "welcome_screen()      "
   ]
  },
  {
   "cell_type": "code",
   "execution_count": 15,
   "metadata": {},
   "outputs": [
    {
     "name": "stdout",
     "output_type": "stream",
     "text": [
      "                                                  Student Management System\n",
      "________________________________________________________________________________________________________________________\n"
     ]
    }
   ],
   "source": [
    "def Heading():\n",
    "    os.system(\"cls\")\n",
    "    print(\"{}Student Management System\".format(\" \"*50))\n",
    "    print(\"{}\".format(\"_\"*120))\n",
    "\n",
    "Heading()\n",
    "    "
   ]
  },
  {
   "cell_type": "code",
   "execution_count": null,
   "metadata": {},
   "outputs": [],
   "source": []
  }
 ],
 "metadata": {
  "kernelspec": {
   "display_name": "Python 3",
   "language": "python",
   "name": "python3"
  },
  "language_info": {
   "codemirror_mode": {
    "name": "ipython",
    "version": 3
   },
   "file_extension": ".py",
   "mimetype": "text/x-python",
   "name": "python",
   "nbconvert_exporter": "python",
   "pygments_lexer": "ipython3",
   "version": "3.8.3"
  }
 },
 "nbformat": 4,
 "nbformat_minor": 4
}
