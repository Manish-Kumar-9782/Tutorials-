{
 "cells": [
  {
   "cell_type": "markdown",
   "id": "c28ff2fc-c639-42dd-8584-fb9369238605",
   "metadata": {},
   "source": [
    "## Python List\n",
    "\n",
    "List: it is a cotanier of multiple value which can differnt kind of data types. it stores all the values in a sequence, (consecutive order). we can use loop on list to retrieve each item from it.\n",
    "\n",
    "List: to make  a list we use \"`[]`\" bracket containing multiple values separeted by comman.\n",
    "\n",
    "For example:\n",
    "\n",
    "```python\n",
    "list: [1,\"Hello\", 3.4, True, 5]\n",
    "```"
   ]
  },
  {
   "cell_type": "code",
   "execution_count": 1,
   "id": "de10f829-073c-426d-bdca-2655deca9955",
   "metadata": {},
   "outputs": [],
   "source": [
    "mylist = [1,2,3,4,5]"
   ]
  },
  {
   "cell_type": "code",
   "execution_count": 2,
   "id": "8f4856cb-4178-4045-88e9-586c436c4545",
   "metadata": {},
   "outputs": [
    {
     "data": {
      "text/plain": [
       "list"
      ]
     },
     "execution_count": 2,
     "metadata": {},
     "output_type": "execute_result"
    }
   ],
   "source": [
    "# To check the type fo mylist var we can use type() function.\n",
    "type(mylist)"
   ]
  },
  {
   "cell_type": "code",
   "execution_count": 4,
   "id": "8dbd4bcf-71fc-4fb8-81d3-abe98c3df3c4",
   "metadata": {},
   "outputs": [
    {
     "name": "stdout",
     "output_type": "stream",
     "text": [
      "[1, 2, 3, 4, 5]\n"
     ]
    }
   ],
   "source": [
    "# To show/print the list we can use print function.\n",
    "print(mylist)"
   ]
  },
  {
   "cell_type": "markdown",
   "id": "ace00477-079d-4daa-b257-e398786ddbff",
   "metadata": {},
   "source": [
    "Now we will show all the funciton with the help of `help()` function."
   ]
  },
  {
   "cell_type": "code",
   "execution_count": 5,
   "id": "8f534310-324a-4501-9e88-0d54d04c25d7",
   "metadata": {},
   "outputs": [
    {
     "name": "stdout",
     "output_type": "stream",
     "text": [
      "Help on class list in module builtins:\n",
      "\n",
      "class list(object)\n",
      " |  list(iterable=(), /)\n",
      " |  \n",
      " |  Built-in mutable sequence.\n",
      " |  \n",
      " |  If no argument is given, the constructor creates a new empty list.\n",
      " |  The argument must be an iterable if specified.\n",
      " |  \n",
      " |  Methods defined here:\n",
      " |  \n",
      " |  __add__(self, value, /)\n",
      " |      Return self+value.\n",
      " |  \n",
      " |  __contains__(self, key, /)\n",
      " |      Return key in self.\n",
      " |  \n",
      " |  __delitem__(self, key, /)\n",
      " |      Delete self[key].\n",
      " |  \n",
      " |  __eq__(self, value, /)\n",
      " |      Return self==value.\n",
      " |  \n",
      " |  __ge__(self, value, /)\n",
      " |      Return self>=value.\n",
      " |  \n",
      " |  __getattribute__(self, name, /)\n",
      " |      Return getattr(self, name).\n",
      " |  \n",
      " |  __getitem__(...)\n",
      " |      x.__getitem__(y) <==> x[y]\n",
      " |  \n",
      " |  __gt__(self, value, /)\n",
      " |      Return self>value.\n",
      " |  \n",
      " |  __iadd__(self, value, /)\n",
      " |      Implement self+=value.\n",
      " |  \n",
      " |  __imul__(self, value, /)\n",
      " |      Implement self*=value.\n",
      " |  \n",
      " |  __init__(self, /, *args, **kwargs)\n",
      " |      Initialize self.  See help(type(self)) for accurate signature.\n",
      " |  \n",
      " |  __iter__(self, /)\n",
      " |      Implement iter(self).\n",
      " |  \n",
      " |  __le__(self, value, /)\n",
      " |      Return self<=value.\n",
      " |  \n",
      " |  __len__(self, /)\n",
      " |      Return len(self).\n",
      " |  \n",
      " |  __lt__(self, value, /)\n",
      " |      Return self<value.\n",
      " |  \n",
      " |  __mul__(self, value, /)\n",
      " |      Return self*value.\n",
      " |  \n",
      " |  __ne__(self, value, /)\n",
      " |      Return self!=value.\n",
      " |  \n",
      " |  __repr__(self, /)\n",
      " |      Return repr(self).\n",
      " |  \n",
      " |  __reversed__(self, /)\n",
      " |      Return a reverse iterator over the list.\n",
      " |  \n",
      " |  __rmul__(self, value, /)\n",
      " |      Return value*self.\n",
      " |  \n",
      " |  __setitem__(self, key, value, /)\n",
      " |      Set self[key] to value.\n",
      " |  \n",
      " |  __sizeof__(self, /)\n",
      " |      Return the size of the list in memory, in bytes.\n",
      " |  \n",
      " |  append(self, object, /)\n",
      " |      Append object to the end of the list.\n",
      " |  \n",
      " |  clear(self, /)\n",
      " |      Remove all items from list.\n",
      " |  \n",
      " |  copy(self, /)\n",
      " |      Return a shallow copy of the list.\n",
      " |  \n",
      " |  count(self, value, /)\n",
      " |      Return number of occurrences of value.\n",
      " |  \n",
      " |  extend(self, iterable, /)\n",
      " |      Extend list by appending elements from the iterable.\n",
      " |  \n",
      " |  index(self, value, start=0, stop=9223372036854775807, /)\n",
      " |      Return first index of value.\n",
      " |      \n",
      " |      Raises ValueError if the value is not present.\n",
      " |  \n",
      " |  insert(self, index, object, /)\n",
      " |      Insert object before index.\n",
      " |  \n",
      " |  pop(self, index=-1, /)\n",
      " |      Remove and return item at index (default last).\n",
      " |      \n",
      " |      Raises IndexError if list is empty or index is out of range.\n",
      " |  \n",
      " |  remove(self, value, /)\n",
      " |      Remove first occurrence of value.\n",
      " |      \n",
      " |      Raises ValueError if the value is not present.\n",
      " |  \n",
      " |  reverse(self, /)\n",
      " |      Reverse *IN PLACE*.\n",
      " |  \n",
      " |  sort(self, /, *, key=None, reverse=False)\n",
      " |      Sort the list in ascending order and return None.\n",
      " |      \n",
      " |      The sort is in-place (i.e. the list itself is modified) and stable (i.e. the\n",
      " |      order of two equal elements is maintained).\n",
      " |      \n",
      " |      If a key function is given, apply it once to each list item and sort them,\n",
      " |      ascending or descending, according to their function values.\n",
      " |      \n",
      " |      The reverse flag can be set to sort in descending order.\n",
      " |  \n",
      " |  ----------------------------------------------------------------------\n",
      " |  Class methods defined here:\n",
      " |  \n",
      " |  __class_getitem__(...) from builtins.type\n",
      " |      See PEP 585\n",
      " |  \n",
      " |  ----------------------------------------------------------------------\n",
      " |  Static methods defined here:\n",
      " |  \n",
      " |  __new__(*args, **kwargs) from builtins.type\n",
      " |      Create and return a new object.  See help(type) for accurate signature.\n",
      " |  \n",
      " |  ----------------------------------------------------------------------\n",
      " |  Data and other attributes defined here:\n",
      " |  \n",
      " |  __hash__ = None\n",
      "\n"
     ]
    }
   ],
   "source": [
    "help(list)"
   ]
  },
  {
   "cell_type": "code",
   "execution_count": 7,
   "id": "e0c85bbd-1e47-418b-8073-1cd4ccdae996",
   "metadata": {},
   "outputs": [
    {
     "data": {
      "text/plain": [
       "[1, 2, 3, 4, 5]"
      ]
     },
     "execution_count": 7,
     "metadata": {},
     "output_type": "execute_result"
    }
   ],
   "source": [
    "mylist"
   ]
  },
  {
   "cell_type": "markdown",
   "id": "ba438f11-77de-46c6-b4eb-2165d5461845",
   "metadata": {},
   "source": [
    "**1. append Method**"
   ]
  },
  {
   "cell_type": "code",
   "execution_count": 8,
   "id": "b8cf1166-4df2-488a-878a-0e7505ef4039",
   "metadata": {},
   "outputs": [
    {
     "name": "stdout",
     "output_type": "stream",
     "text": [
      "Help on method_descriptor:\n",
      "\n",
      "append(self, object, /)\n",
      "    Append object to the end of the list.\n",
      "\n"
     ]
    }
   ],
   "source": [
    "help(list.append)"
   ]
  },
  {
   "cell_type": "markdown",
   "id": "2517ed35-139d-46fb-9ff8-19032a60d869",
   "metadata": {},
   "source": [
    "It is used to add an item at the end of the list."
   ]
  },
  {
   "cell_type": "code",
   "execution_count": 10,
   "id": "8acf7f99-e466-409a-a45b-3573be238fb4",
   "metadata": {},
   "outputs": [
    {
     "data": {
      "text/plain": [
       "[1, 2, 3, 4, 5]"
      ]
     },
     "execution_count": 10,
     "metadata": {},
     "output_type": "execute_result"
    }
   ],
   "source": [
    "# inspecting the mylist\n",
    "mylist"
   ]
  },
  {
   "cell_type": "code",
   "execution_count": 11,
   "id": "dd8f1777-63b0-4a68-bc4f-487ef2531e50",
   "metadata": {},
   "outputs": [],
   "source": [
    "# Now we will add one item to the list\n",
    "mylist.append(\"Jigyasa\")"
   ]
  },
  {
   "cell_type": "code",
   "execution_count": 12,
   "id": "c0cbe9ce-1972-4dc7-b345-bacaf278ead9",
   "metadata": {},
   "outputs": [
    {
     "data": {
      "text/plain": [
       "[1, 2, 3, 4, 5, 'Jigyasa']"
      ]
     },
     "execution_count": 12,
     "metadata": {},
     "output_type": "execute_result"
    }
   ],
   "source": [
    "mylist"
   ]
  },
  {
   "cell_type": "markdown",
   "id": "061f1688-483f-4660-82de-499811257752",
   "metadata": {},
   "source": [
    "Now we can see that we have added on item (string type) at the end of the list."
   ]
  },
  {
   "cell_type": "markdown",
   "id": "277f3c03-0993-42c9-88dc-b2edb0212873",
   "metadata": {},
   "source": [
    "____\n",
    "\n",
    "**2. copy**"
   ]
  },
  {
   "cell_type": "code",
   "execution_count": 13,
   "id": "250dd0d9-23d5-4776-9208-0df312b3870a",
   "metadata": {},
   "outputs": [
    {
     "name": "stdout",
     "output_type": "stream",
     "text": [
      "Help on method_descriptor:\n",
      "\n",
      "copy(self, /)\n",
      "    Return a shallow copy of the list.\n",
      "\n"
     ]
    }
   ],
   "source": [
    "help(list.copy)"
   ]
  },
  {
   "cell_type": "code",
   "execution_count": 14,
   "id": "424b0d93-0bff-4cdd-ac14-ce03c5c8f863",
   "metadata": {},
   "outputs": [],
   "source": [
    "copied_list = mylist.copy()"
   ]
  },
  {
   "cell_type": "code",
   "execution_count": 15,
   "id": "687ad42a-24f1-4edb-8394-c674fcdf4021",
   "metadata": {},
   "outputs": [
    {
     "data": {
      "text/plain": [
       "[1, 2, 3, 4, 5, 'Jigyasa']"
      ]
     },
     "execution_count": 15,
     "metadata": {},
     "output_type": "execute_result"
    }
   ],
   "source": [
    "copied_list"
   ]
  },
  {
   "cell_type": "code",
   "execution_count": 16,
   "id": "97f86730-729f-4b24-a199-7fa5f9dfced9",
   "metadata": {},
   "outputs": [
    {
     "data": {
      "text/plain": [
       "[1, 2, 3, 4, 5, 'Jigyasa']"
      ]
     },
     "execution_count": 16,
     "metadata": {},
     "output_type": "execute_result"
    }
   ],
   "source": [
    "mylist"
   ]
  },
  {
   "cell_type": "markdown",
   "id": "113fd280-64c2-4030-9a5a-5cf8c438a423",
   "metadata": {},
   "source": [
    "Note: Now we have a copy of mylist, we will clear that copied list by using the `clear()` method."
   ]
  },
  {
   "cell_type": "markdown",
   "id": "b3fcabae-da78-4392-9eb8-cc7fa0b8dd0a",
   "metadata": {},
   "source": [
    "**3. clear Method**"
   ]
  },
  {
   "cell_type": "code",
   "execution_count": 21,
   "id": "13b6e30b-416d-4dea-94ad-f3d02443765c",
   "metadata": {},
   "outputs": [
    {
     "name": "stdout",
     "output_type": "stream",
     "text": [
      "Help on method_descriptor:\n",
      "\n",
      "clear(self, /)\n",
      "    Remove all items from list.\n",
      "\n"
     ]
    }
   ],
   "source": [
    "help(list.clear)"
   ]
  },
  {
   "cell_type": "code",
   "execution_count": 17,
   "id": "725e973f-1e9e-471d-b66f-15459681c702",
   "metadata": {},
   "outputs": [
    {
     "data": {
      "text/plain": [
       "[1, 2, 3, 4, 5, 'Jigyasa']"
      ]
     },
     "execution_count": 17,
     "metadata": {},
     "output_type": "execute_result"
    }
   ],
   "source": [
    "copied_list"
   ]
  },
  {
   "cell_type": "code",
   "execution_count": 18,
   "id": "fbbdfae7-452b-4bde-8967-1af76cb23f04",
   "metadata": {},
   "outputs": [],
   "source": [
    "# Now clearing the copied_list \n",
    "copied_list.clear()"
   ]
  },
  {
   "cell_type": "code",
   "execution_count": 19,
   "id": "0d3be6cf-08cf-4d6e-8dd9-e831b65f6bad",
   "metadata": {},
   "outputs": [
    {
     "data": {
      "text/plain": [
       "[]"
      ]
     },
     "execution_count": 19,
     "metadata": {},
     "output_type": "execute_result"
    }
   ],
   "source": [
    "# Now again inspecting the copied_list object\n",
    "copied_list"
   ]
  },
  {
   "cell_type": "code",
   "execution_count": 20,
   "id": "380d47ce-62e2-47da-ae9b-b06380a46ef2",
   "metadata": {},
   "outputs": [
    {
     "data": {
      "text/plain": [
       "[1, 2, 3, 4, 5, 'Jigyasa']"
      ]
     },
     "execution_count": 20,
     "metadata": {},
     "output_type": "execute_result"
    }
   ],
   "source": [
    "mylist"
   ]
  },
  {
   "cell_type": "markdown",
   "id": "7c9b32b0-3851-4efe-8775-3a864119ce46",
   "metadata": {},
   "source": [
    "**4. count Method**"
   ]
  },
  {
   "cell_type": "code",
   "execution_count": 22,
   "id": "b6d69e3a-11cb-4d0b-880e-c6aa2ac53e82",
   "metadata": {},
   "outputs": [
    {
     "name": "stdout",
     "output_type": "stream",
     "text": [
      "Help on method_descriptor:\n",
      "\n",
      "count(self, value, /)\n",
      "    Return number of occurrences of value.\n",
      "\n"
     ]
    }
   ],
   "source": [
    "help(list.count)"
   ]
  },
  {
   "cell_type": "code",
   "execution_count": 23,
   "id": "7df028ad-d037-4983-a4b0-76d9b64dfb41",
   "metadata": {},
   "outputs": [],
   "source": [
    "import random"
   ]
  },
  {
   "cell_type": "code",
   "execution_count": 26,
   "id": "adfeff36-1083-44c8-be5d-a92f672f507a",
   "metadata": {},
   "outputs": [],
   "source": [
    "number = []\n",
    "for i in range(30):\n",
    "    number.append(random.randint(1,10))"
   ]
  },
  {
   "cell_type": "code",
   "execution_count": 28,
   "id": "8f9531ca-9154-4140-b276-e57bf68bb003",
   "metadata": {},
   "outputs": [
    {
     "name": "stdout",
     "output_type": "stream",
     "text": [
      "[7, 5, 7, 3, 2, 5, 1, 5, 7, 7, 9, 10, 9, 6, 5, 1, 8, 6, 7, 2, 8, 10, 1, 8, 10, 6, 9, 5, 6, 7]\n"
     ]
    }
   ],
   "source": [
    "print(number)"
   ]
  },
  {
   "cell_type": "code",
   "execution_count": 30,
   "id": "94bec83d-9782-4b7c-b95e-4e782fdd5a93",
   "metadata": {},
   "outputs": [
    {
     "name": "stdout",
     "output_type": "stream",
     "text": [
      "length of number-list:  30\n"
     ]
    }
   ],
   "source": [
    "print(\"length of number-list: \", len(number))"
   ]
  },
  {
   "cell_type": "code",
   "execution_count": 32,
   "id": "6c7a90fe-0598-45c2-aa12-3dd5b8bfaaec",
   "metadata": {},
   "outputs": [
    {
     "name": "stdout",
     "output_type": "stream",
     "text": [
      "occurrence of 7:  6\n",
      "occurrence of 5:  5\n",
      "occurrence of 3:  1\n"
     ]
    }
   ],
   "source": [
    "print(\"occurrence of 7: \", number.count(7))\n",
    "print(\"occurrence of 5: \", number.count(5))\n",
    "print(\"occurrence of 3: \", number.count(3))"
   ]
  },
  {
   "cell_type": "markdown",
   "id": "f87fedc0-a3ed-4aac-97bb-9ac5a33fa76b",
   "metadata": {},
   "source": [
    "**5. Extend Method**"
   ]
  },
  {
   "cell_type": "code",
   "execution_count": 34,
   "id": "748b0ee6-baf0-4c75-9ca8-149c3171d958",
   "metadata": {},
   "outputs": [
    {
     "name": "stdout",
     "output_type": "stream",
     "text": [
      "Help on method_descriptor:\n",
      "\n",
      "extend(self, iterable, /)\n",
      "    Extend list by appending elements from the iterable.\n",
      "\n"
     ]
    }
   ],
   "source": [
    "help(list.extend)"
   ]
  },
  {
   "cell_type": "markdown",
   "id": "8489cd3e-9a45-442d-98cf-7554b870852d",
   "metadata": {},
   "source": [
    "iterable: consider it as a list or any object which act as a list and store all the items in a sequence."
   ]
  },
  {
   "cell_type": "code",
   "execution_count": 33,
   "id": "63a71e70-f3c5-4210-8376-4e14ced91fac",
   "metadata": {},
   "outputs": [
    {
     "data": {
      "text/plain": [
       "[1, 2, 3, 4, 5, 'Jigyasa']"
      ]
     },
     "execution_count": 33,
     "metadata": {},
     "output_type": "execute_result"
    }
   ],
   "source": [
    "mylist"
   ]
  },
  {
   "cell_type": "markdown",
   "id": "02b53e96-3d35-4541-83e1-eac403d7b18e",
   "metadata": {},
   "source": [
    "Now we extend our list by passing another list  "
   ]
  },
  {
   "cell_type": "code",
   "execution_count": 35,
   "id": "15d47194-3d7a-4961-8fcf-20eb6db7e030",
   "metadata": {},
   "outputs": [],
   "source": [
    "list2 = [16, 5.4, \"O+\"]\n",
    "# Now we need to pass this list2 into the extend function/method.\n",
    "mylist.extend(list2)"
   ]
  },
  {
   "cell_type": "code",
   "execution_count": 36,
   "id": "6ef0dec0-b235-4426-abd7-7691d21cb4e8",
   "metadata": {},
   "outputs": [
    {
     "data": {
      "text/plain": [
       "[1, 2, 3, 4, 5, 'Jigyasa', 16, 5.4, 'O+']"
      ]
     },
     "execution_count": 36,
     "metadata": {},
     "output_type": "execute_result"
    }
   ],
   "source": [
    "# inspecting the mylist\n",
    "mylist"
   ]
  },
  {
   "cell_type": "code",
   "execution_count": null,
   "id": "51fddb3f-9d44-47b1-b936-5d5ca7b27f4a",
   "metadata": {},
   "outputs": [],
   "source": []
  }
 ],
 "metadata": {
  "kernelspec": {
   "display_name": "Python 3 (ipykernel)",
   "language": "python",
   "name": "python3"
  },
  "language_info": {
   "codemirror_mode": {
    "name": "ipython",
    "version": 3
   },
   "file_extension": ".py",
   "mimetype": "text/x-python",
   "name": "python",
   "nbconvert_exporter": "python",
   "pygments_lexer": "ipython3",
   "version": "3.10.5"
  }
 },
 "nbformat": 4,
 "nbformat_minor": 5
}
