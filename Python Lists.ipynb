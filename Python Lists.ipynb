{
 "cells": [
  {
   "cell_type": "markdown",
   "id": "c28ff2fc-c639-42dd-8584-fb9369238605",
   "metadata": {},
   "source": [
    "## Python List\n",
    "\n",
    "List: it is a cotanier of multiple value which can differnt kind of data types. it stores all the values in a sequence, (consecutive order). we can use loop on list to retrieve each item from it.\n",
    "\n",
    "List: to make  a list we use \"`[]`\" bracket containing multiple values separeted by comman.\n",
    "\n",
    "For example:\n",
    "\n",
    "```python\n",
    "list: [1,\"Hello\", 3.4, True, 5]\n",
    "```"
   ]
  },
  {
   "cell_type": "code",
   "execution_count": 2,
   "id": "de10f829-073c-426d-bdca-2655deca9955",
   "metadata": {},
   "outputs": [],
   "source": [
    "mylist = [1,2,3,4,5]"
   ]
  },
  {
   "cell_type": "code",
   "execution_count": 3,
   "id": "8f4856cb-4178-4045-88e9-586c436c4545",
   "metadata": {},
   "outputs": [
    {
     "data": {
      "text/plain": [
       "list"
      ]
     },
     "execution_count": 3,
     "metadata": {},
     "output_type": "execute_result"
    }
   ],
   "source": [
    "# To check the type fo mylist var we can use type() function.\n",
    "type(mylist)"
   ]
  },
  {
   "cell_type": "code",
   "execution_count": 4,
   "id": "8dbd4bcf-71fc-4fb8-81d3-abe98c3df3c4",
   "metadata": {},
   "outputs": [
    {
     "name": "stdout",
     "output_type": "stream",
     "text": [
      "[1, 2, 3, 4, 5]\n"
     ]
    }
   ],
   "source": [
    "# To show/print the list we can use print function.\n",
    "print(mylist)"
   ]
  },
  {
   "cell_type": "markdown",
   "id": "ace00477-079d-4daa-b257-e398786ddbff",
   "metadata": {},
   "source": [
    "Now we will show all the funciton with the help of `help()` function."
   ]
  },
  {
   "cell_type": "code",
   "execution_count": 5,
   "id": "8f534310-324a-4501-9e88-0d54d04c25d7",
   "metadata": {},
   "outputs": [
    {
     "name": "stdout",
     "output_type": "stream",
     "text": [
      "Help on class list in module builtins:\n",
      "\n",
      "class list(object)\n",
      " |  list(iterable=(), /)\n",
      " |  \n",
      " |  Built-in mutable sequence.\n",
      " |  \n",
      " |  If no argument is given, the constructor creates a new empty list.\n",
      " |  The argument must be an iterable if specified.\n",
      " |  \n",
      " |  Methods defined here:\n",
      " |  \n",
      " |  __add__(self, value, /)\n",
      " |      Return self+value.\n",
      " |  \n",
      " |  __contains__(self, key, /)\n",
      " |      Return key in self.\n",
      " |  \n",
      " |  __delitem__(self, key, /)\n",
      " |      Delete self[key].\n",
      " |  \n",
      " |  __eq__(self, value, /)\n",
      " |      Return self==value.\n",
      " |  \n",
      " |  __ge__(self, value, /)\n",
      " |      Return self>=value.\n",
      " |  \n",
      " |  __getattribute__(self, name, /)\n",
      " |      Return getattr(self, name).\n",
      " |  \n",
      " |  __getitem__(...)\n",
      " |      x.__getitem__(y) <==> x[y]\n",
      " |  \n",
      " |  __gt__(self, value, /)\n",
      " |      Return self>value.\n",
      " |  \n",
      " |  __iadd__(self, value, /)\n",
      " |      Implement self+=value.\n",
      " |  \n",
      " |  __imul__(self, value, /)\n",
      " |      Implement self*=value.\n",
      " |  \n",
      " |  __init__(self, /, *args, **kwargs)\n",
      " |      Initialize self.  See help(type(self)) for accurate signature.\n",
      " |  \n",
      " |  __iter__(self, /)\n",
      " |      Implement iter(self).\n",
      " |  \n",
      " |  __le__(self, value, /)\n",
      " |      Return self<=value.\n",
      " |  \n",
      " |  __len__(self, /)\n",
      " |      Return len(self).\n",
      " |  \n",
      " |  __lt__(self, value, /)\n",
      " |      Return self<value.\n",
      " |  \n",
      " |  __mul__(self, value, /)\n",
      " |      Return self*value.\n",
      " |  \n",
      " |  __ne__(self, value, /)\n",
      " |      Return self!=value.\n",
      " |  \n",
      " |  __repr__(self, /)\n",
      " |      Return repr(self).\n",
      " |  \n",
      " |  __reversed__(self, /)\n",
      " |      Return a reverse iterator over the list.\n",
      " |  \n",
      " |  __rmul__(self, value, /)\n",
      " |      Return value*self.\n",
      " |  \n",
      " |  __setitem__(self, key, value, /)\n",
      " |      Set self[key] to value.\n",
      " |  \n",
      " |  __sizeof__(self, /)\n",
      " |      Return the size of the list in memory, in bytes.\n",
      " |  \n",
      " |  append(self, object, /)\n",
      " |      Append object to the end of the list.\n",
      " |  \n",
      " |  clear(self, /)\n",
      " |      Remove all items from list.\n",
      " |  \n",
      " |  copy(self, /)\n",
      " |      Return a shallow copy of the list.\n",
      " |  \n",
      " |  count(self, value, /)\n",
      " |      Return number of occurrences of value.\n",
      " |  \n",
      " |  extend(self, iterable, /)\n",
      " |      Extend list by appending elements from the iterable.\n",
      " |  \n",
      " |  index(self, value, start=0, stop=9223372036854775807, /)\n",
      " |      Return first index of value.\n",
      " |      \n",
      " |      Raises ValueError if the value is not present.\n",
      " |  \n",
      " |  insert(self, index, object, /)\n",
      " |      Insert object before index.\n",
      " |  \n",
      " |  pop(self, index=-1, /)\n",
      " |      Remove and return item at index (default last).\n",
      " |      \n",
      " |      Raises IndexError if list is empty or index is out of range.\n",
      " |  \n",
      " |  remove(self, value, /)\n",
      " |      Remove first occurrence of value.\n",
      " |      \n",
      " |      Raises ValueError if the value is not present.\n",
      " |  \n",
      " |  reverse(self, /)\n",
      " |      Reverse *IN PLACE*.\n",
      " |  \n",
      " |  sort(self, /, *, key=None, reverse=False)\n",
      " |      Sort the list in ascending order and return None.\n",
      " |      \n",
      " |      The sort is in-place (i.e. the list itself is modified) and stable (i.e. the\n",
      " |      order of two equal elements is maintained).\n",
      " |      \n",
      " |      If a key function is given, apply it once to each list item and sort them,\n",
      " |      ascending or descending, according to their function values.\n",
      " |      \n",
      " |      The reverse flag can be set to sort in descending order.\n",
      " |  \n",
      " |  ----------------------------------------------------------------------\n",
      " |  Class methods defined here:\n",
      " |  \n",
      " |  __class_getitem__(...) from builtins.type\n",
      " |      See PEP 585\n",
      " |  \n",
      " |  ----------------------------------------------------------------------\n",
      " |  Static methods defined here:\n",
      " |  \n",
      " |  __new__(*args, **kwargs) from builtins.type\n",
      " |      Create and return a new object.  See help(type) for accurate signature.\n",
      " |  \n",
      " |  ----------------------------------------------------------------------\n",
      " |  Data and other attributes defined here:\n",
      " |  \n",
      " |  __hash__ = None\n",
      "\n"
     ]
    }
   ],
   "source": [
    "help(list)"
   ]
  },
  {
   "cell_type": "code",
   "execution_count": 6,
   "id": "e0c85bbd-1e47-418b-8073-1cd4ccdae996",
   "metadata": {},
   "outputs": [
    {
     "data": {
      "text/plain": [
       "[1, 2, 3, 4, 5]"
      ]
     },
     "execution_count": 6,
     "metadata": {},
     "output_type": "execute_result"
    }
   ],
   "source": [
    "mylist"
   ]
  },
  {
   "cell_type": "markdown",
   "id": "ba438f11-77de-46c6-b4eb-2165d5461845",
   "metadata": {},
   "source": [
    "**1. append Method**"
   ]
  },
  {
   "cell_type": "code",
   "execution_count": 7,
   "id": "b8cf1166-4df2-488a-878a-0e7505ef4039",
   "metadata": {},
   "outputs": [
    {
     "name": "stdout",
     "output_type": "stream",
     "text": [
      "Help on method_descriptor:\n",
      "\n",
      "append(self, object, /)\n",
      "    Append object to the end of the list.\n",
      "\n"
     ]
    }
   ],
   "source": [
    "help(list.append)"
   ]
  },
  {
   "cell_type": "markdown",
   "id": "2517ed35-139d-46fb-9ff8-19032a60d869",
   "metadata": {},
   "source": [
    "It is used to add an item at the end of the list."
   ]
  },
  {
   "cell_type": "code",
   "execution_count": 8,
   "id": "8acf7f99-e466-409a-a45b-3573be238fb4",
   "metadata": {},
   "outputs": [
    {
     "data": {
      "text/plain": [
       "[1, 2, 3, 4, 5]"
      ]
     },
     "execution_count": 8,
     "metadata": {},
     "output_type": "execute_result"
    }
   ],
   "source": [
    "# inspecting the mylist\n",
    "mylist"
   ]
  },
  {
   "cell_type": "code",
   "execution_count": 9,
   "id": "dd8f1777-63b0-4a68-bc4f-487ef2531e50",
   "metadata": {},
   "outputs": [],
   "source": [
    "# Now we will add one item to the list\n",
    "mylist.append(\"Jigyasa\")"
   ]
  },
  {
   "cell_type": "code",
   "execution_count": 10,
   "id": "c0cbe9ce-1972-4dc7-b345-bacaf278ead9",
   "metadata": {},
   "outputs": [
    {
     "data": {
      "text/plain": [
       "[1, 2, 3, 4, 5, 'Jigyasa']"
      ]
     },
     "execution_count": 10,
     "metadata": {},
     "output_type": "execute_result"
    }
   ],
   "source": [
    "mylist"
   ]
  },
  {
   "cell_type": "markdown",
   "id": "061f1688-483f-4660-82de-499811257752",
   "metadata": {},
   "source": [
    "Now we can see that we have added on item (string type) at the end of the list."
   ]
  },
  {
   "cell_type": "markdown",
   "id": "277f3c03-0993-42c9-88dc-b2edb0212873",
   "metadata": {},
   "source": [
    "____\n",
    "\n",
    "**2. copy**"
   ]
  },
  {
   "cell_type": "code",
   "execution_count": 11,
   "id": "250dd0d9-23d5-4776-9208-0df312b3870a",
   "metadata": {},
   "outputs": [
    {
     "name": "stdout",
     "output_type": "stream",
     "text": [
      "Help on method_descriptor:\n",
      "\n",
      "copy(self, /)\n",
      "    Return a shallow copy of the list.\n",
      "\n"
     ]
    }
   ],
   "source": [
    "help(list.copy)"
   ]
  },
  {
   "cell_type": "code",
   "execution_count": 12,
   "id": "424b0d93-0bff-4cdd-ac14-ce03c5c8f863",
   "metadata": {},
   "outputs": [],
   "source": [
    "copied_list = mylist.copy()"
   ]
  },
  {
   "cell_type": "code",
   "execution_count": 13,
   "id": "687ad42a-24f1-4edb-8394-c674fcdf4021",
   "metadata": {},
   "outputs": [
    {
     "data": {
      "text/plain": [
       "[1, 2, 3, 4, 5, 'Jigyasa']"
      ]
     },
     "execution_count": 13,
     "metadata": {},
     "output_type": "execute_result"
    }
   ],
   "source": [
    "copied_list"
   ]
  },
  {
   "cell_type": "code",
   "execution_count": 14,
   "id": "97f86730-729f-4b24-a199-7fa5f9dfced9",
   "metadata": {},
   "outputs": [
    {
     "data": {
      "text/plain": [
       "[1, 2, 3, 4, 5, 'Jigyasa']"
      ]
     },
     "execution_count": 14,
     "metadata": {},
     "output_type": "execute_result"
    }
   ],
   "source": [
    "mylist"
   ]
  },
  {
   "cell_type": "markdown",
   "id": "113fd280-64c2-4030-9a5a-5cf8c438a423",
   "metadata": {},
   "source": [
    "Note: Now we have a copy of mylist, we will clear that copied list by using the `clear()` method."
   ]
  },
  {
   "cell_type": "markdown",
   "id": "b3fcabae-da78-4392-9eb8-cc7fa0b8dd0a",
   "metadata": {},
   "source": [
    "**3. clear Method**"
   ]
  },
  {
   "cell_type": "code",
   "execution_count": 15,
   "id": "13b6e30b-416d-4dea-94ad-f3d02443765c",
   "metadata": {},
   "outputs": [
    {
     "name": "stdout",
     "output_type": "stream",
     "text": [
      "Help on method_descriptor:\n",
      "\n",
      "clear(self, /)\n",
      "    Remove all items from list.\n",
      "\n"
     ]
    }
   ],
   "source": [
    "help(list.clear)"
   ]
  },
  {
   "cell_type": "code",
   "execution_count": 16,
   "id": "725e973f-1e9e-471d-b66f-15459681c702",
   "metadata": {},
   "outputs": [
    {
     "data": {
      "text/plain": [
       "[1, 2, 3, 4, 5, 'Jigyasa']"
      ]
     },
     "execution_count": 16,
     "metadata": {},
     "output_type": "execute_result"
    }
   ],
   "source": [
    "copied_list"
   ]
  },
  {
   "cell_type": "code",
   "execution_count": 17,
   "id": "fbbdfae7-452b-4bde-8967-1af76cb23f04",
   "metadata": {},
   "outputs": [],
   "source": [
    "# Now clearing the copied_list \n",
    "copied_list.clear()"
   ]
  },
  {
   "cell_type": "code",
   "execution_count": 18,
   "id": "0d3be6cf-08cf-4d6e-8dd9-e831b65f6bad",
   "metadata": {},
   "outputs": [
    {
     "data": {
      "text/plain": [
       "[]"
      ]
     },
     "execution_count": 18,
     "metadata": {},
     "output_type": "execute_result"
    }
   ],
   "source": [
    "# Now again inspecting the copied_list object\n",
    "copied_list"
   ]
  },
  {
   "cell_type": "code",
   "execution_count": 19,
   "id": "380d47ce-62e2-47da-ae9b-b06380a46ef2",
   "metadata": {},
   "outputs": [
    {
     "data": {
      "text/plain": [
       "[1, 2, 3, 4, 5, 'Jigyasa']"
      ]
     },
     "execution_count": 19,
     "metadata": {},
     "output_type": "execute_result"
    }
   ],
   "source": [
    "mylist"
   ]
  },
  {
   "cell_type": "markdown",
   "id": "7c9b32b0-3851-4efe-8775-3a864119ce46",
   "metadata": {},
   "source": [
    "**4. count Method**"
   ]
  },
  {
   "cell_type": "code",
   "execution_count": 20,
   "id": "b6d69e3a-11cb-4d0b-880e-c6aa2ac53e82",
   "metadata": {},
   "outputs": [
    {
     "name": "stdout",
     "output_type": "stream",
     "text": [
      "Help on method_descriptor:\n",
      "\n",
      "count(self, value, /)\n",
      "    Return number of occurrences of value.\n",
      "\n"
     ]
    }
   ],
   "source": [
    "help(list.count)"
   ]
  },
  {
   "cell_type": "code",
   "execution_count": 21,
   "id": "7df028ad-d037-4983-a4b0-76d9b64dfb41",
   "metadata": {},
   "outputs": [],
   "source": [
    "import random"
   ]
  },
  {
   "cell_type": "code",
   "execution_count": 22,
   "id": "adfeff36-1083-44c8-be5d-a92f672f507a",
   "metadata": {},
   "outputs": [],
   "source": [
    "number = []\n",
    "for i in range(30):\n",
    "    number.append(random.randint(1,10))"
   ]
  },
  {
   "cell_type": "code",
   "execution_count": 23,
   "id": "8f9531ca-9154-4140-b276-e57bf68bb003",
   "metadata": {},
   "outputs": [
    {
     "name": "stdout",
     "output_type": "stream",
     "text": [
      "[8, 2, 5, 9, 8, 4, 10, 5, 8, 8, 7, 1, 8, 3, 9, 6, 1, 8, 2, 10, 1, 2, 10, 1, 8, 10, 5, 7, 5, 8]\n"
     ]
    }
   ],
   "source": [
    "print(number)"
   ]
  },
  {
   "cell_type": "code",
   "execution_count": 24,
   "id": "94bec83d-9782-4b7c-b95e-4e782fdd5a93",
   "metadata": {},
   "outputs": [
    {
     "name": "stdout",
     "output_type": "stream",
     "text": [
      "length of number-list:  30\n"
     ]
    }
   ],
   "source": [
    "print(\"length of number-list: \", len(number))"
   ]
  },
  {
   "cell_type": "code",
   "execution_count": 25,
   "id": "6c7a90fe-0598-45c2-aa12-3dd5b8bfaaec",
   "metadata": {},
   "outputs": [
    {
     "name": "stdout",
     "output_type": "stream",
     "text": [
      "occurrence of 7:  2\n",
      "occurrence of 5:  4\n",
      "occurrence of 3:  1\n"
     ]
    }
   ],
   "source": [
    "print(\"occurrence of 7: \", number.count(7))\n",
    "print(\"occurrence of 5: \", number.count(5))\n",
    "print(\"occurrence of 3: \", number.count(3))"
   ]
  },
  {
   "cell_type": "markdown",
   "id": "f87fedc0-a3ed-4aac-97bb-9ac5a33fa76b",
   "metadata": {},
   "source": [
    "**5. Extend Method**"
   ]
  },
  {
   "cell_type": "code",
   "execution_count": 26,
   "id": "748b0ee6-baf0-4c75-9ca8-149c3171d958",
   "metadata": {},
   "outputs": [
    {
     "name": "stdout",
     "output_type": "stream",
     "text": [
      "Help on method_descriptor:\n",
      "\n",
      "extend(self, iterable, /)\n",
      "    Extend list by appending elements from the iterable.\n",
      "\n"
     ]
    }
   ],
   "source": [
    "help(list.extend)"
   ]
  },
  {
   "cell_type": "markdown",
   "id": "8489cd3e-9a45-442d-98cf-7554b870852d",
   "metadata": {},
   "source": [
    "iterable: consider it as a list or any object which act as a list and store all the items in a sequence."
   ]
  },
  {
   "cell_type": "code",
   "execution_count": 27,
   "id": "63a71e70-f3c5-4210-8376-4e14ced91fac",
   "metadata": {},
   "outputs": [
    {
     "data": {
      "text/plain": [
       "[1, 2, 3, 4, 5, 'Jigyasa']"
      ]
     },
     "execution_count": 27,
     "metadata": {},
     "output_type": "execute_result"
    }
   ],
   "source": [
    "mylist"
   ]
  },
  {
   "cell_type": "markdown",
   "id": "02b53e96-3d35-4541-83e1-eac403d7b18e",
   "metadata": {},
   "source": [
    "Now we extend our list by passing another list  "
   ]
  },
  {
   "cell_type": "code",
   "execution_count": 28,
   "id": "15d47194-3d7a-4961-8fcf-20eb6db7e030",
   "metadata": {},
   "outputs": [],
   "source": [
    "list2 = [16, 5.4, \"O+\"]\n",
    "# Now we need to pass this list2 into the extend function/method.\n",
    "mylist.extend(list2)"
   ]
  },
  {
   "cell_type": "code",
   "execution_count": 29,
   "id": "6ef0dec0-b235-4426-abd7-7691d21cb4e8",
   "metadata": {},
   "outputs": [
    {
     "data": {
      "text/plain": [
       "[1, 2, 3, 4, 5, 'Jigyasa', 16, 5.4, 'O+']"
      ]
     },
     "execution_count": 29,
     "metadata": {},
     "output_type": "execute_result"
    }
   ],
   "source": [
    "# inspecting the mylist\n",
    "mylist"
   ]
  },
  {
   "cell_type": "markdown",
   "id": "80336d24-41f3-440a-acba-149d98876636",
   "metadata": {},
   "source": [
    "____\n",
    "\n",
    "**6. index Method**"
   ]
  },
  {
   "cell_type": "code",
   "execution_count": 30,
   "id": "00b633d8-3f14-4fcc-9a6b-0495fc3a9b4e",
   "metadata": {},
   "outputs": [
    {
     "name": "stdout",
     "output_type": "stream",
     "text": [
      "Help on method_descriptor:\n",
      "\n",
      "index(self, value, start=0, stop=9223372036854775807, /)\n",
      "    Return first index of value.\n",
      "    \n",
      "    Raises ValueError if the value is not present.\n",
      "\n"
     ]
    }
   ],
   "source": [
    "help(list.index)"
   ]
  },
  {
   "cell_type": "code",
   "execution_count": 33,
   "id": "27680011-93b9-40b8-80e0-ade4fb2ba565",
   "metadata": {},
   "outputs": [
    {
     "name": "stdout",
     "output_type": "stream",
     "text": [
      "[8, 2, 5, 9, 8, 4, 10, 5, 8, 8, 7, 1, 8, 3, 9, 6, 1, 8, 2, 10, 1, 2, 10, 1, 8, 10, 5, 7, 5, 8]\n"
     ]
    }
   ],
   "source": [
    "print(number)"
   ]
  },
  {
   "cell_type": "code",
   "execution_count": 34,
   "id": "2246d8ce-118d-40fb-93bf-6f2f411fc99a",
   "metadata": {},
   "outputs": [
    {
     "name": "stdout",
     "output_type": "stream",
     "text": [
      "Occurring of 10:  4\n"
     ]
    }
   ],
   "source": [
    "# first we will see how my time 10 is occurring.\n",
    "print(\"Occurring of 10: \", number.count(10))"
   ]
  },
  {
   "cell_type": "code",
   "execution_count": 35,
   "id": "d351827c-1772-4a48-aa17-e2ff33e113e6",
   "metadata": {},
   "outputs": [
    {
     "data": {
      "text/plain": [
       "6"
      ]
     },
     "execution_count": 35,
     "metadata": {},
     "output_type": "execute_result"
    }
   ],
   "source": [
    "# first occurrance index number\n",
    "number.index(10)"
   ]
  },
  {
   "cell_type": "code",
   "execution_count": 38,
   "id": "51db9dc4-15e0-44f5-90dc-45ef8eda9662",
   "metadata": {},
   "outputs": [
    {
     "data": {
      "text/plain": [
       "19"
      ]
     },
     "execution_count": 38,
     "metadata": {},
     "output_type": "execute_result"
    }
   ],
   "source": [
    "# secon occurrance index number\n",
    "# in this case we need to start from the index number of first occurance.\n",
    "number.index(10, 7)"
   ]
  },
  {
   "cell_type": "code",
   "execution_count": 39,
   "id": "1aa01884-c7ec-4c4c-b0a6-f4761ada0a50",
   "metadata": {},
   "outputs": [
    {
     "data": {
      "text/plain": [
       "22"
      ]
     },
     "execution_count": 39,
     "metadata": {},
     "output_type": "execute_result"
    }
   ],
   "source": [
    "# thired occurrance index number\n",
    "# starting from second occurrance index +1\n",
    "number.index(10, 20)"
   ]
  },
  {
   "cell_type": "code",
   "execution_count": 40,
   "id": "249b2338-d2a4-4c64-8268-d6b04637df24",
   "metadata": {},
   "outputs": [
    {
     "data": {
      "text/plain": [
       "25"
      ]
     },
     "execution_count": 40,
     "metadata": {},
     "output_type": "execute_result"
    }
   ],
   "source": [
    "# starting from third occurrance index +1\n",
    "number.index(10, 23)"
   ]
  },
  {
   "cell_type": "code",
   "execution_count": 45,
   "id": "000d1f08-3843-41a1-a3f2-309c19773998",
   "metadata": {},
   "outputs": [
    {
     "name": "stdout",
     "output_type": "stream",
     "text": [
      "Occurrance of 1 at:  6\n",
      "Occurrance of 2 at:  19\n",
      "Occurrance of 3 at:  22\n",
      "Occurrance of 4 at:  25\n"
     ]
    }
   ],
   "source": [
    "prev = 0\n",
    "for i in range(1,number.count(10)+1):\n",
    "    index = number.index(10,prev)\n",
    "    print(f\"Occurrance of {i} at: \", index)\n",
    "    prev = index + 1"
   ]
  },
  {
   "cell_type": "markdown",
   "id": "efa5bb2f-607e-4f80-91b2-b589ba72a56c",
   "metadata": {},
   "source": [
    "_____\n",
    "**7. insert method**"
   ]
  },
  {
   "cell_type": "code",
   "execution_count": 48,
   "id": "24b175ed-d225-437d-bb4d-59f3360dbe26",
   "metadata": {},
   "outputs": [
    {
     "name": "stdout",
     "output_type": "stream",
     "text": [
      "Help on method_descriptor:\n",
      "\n",
      "insert(self, index, object, /)\n",
      "    Insert object before index.\n",
      "\n"
     ]
    }
   ],
   "source": [
    "help(list.insert)"
   ]
  },
  {
   "cell_type": "code",
   "execution_count": 49,
   "id": "9430005b-fac6-4c99-bf2d-5fefea1c9b32",
   "metadata": {},
   "outputs": [
    {
     "data": {
      "text/plain": [
       "[1, 2, 3, 4, 5, 'Jigyasa', 16, 5.4, 'O+']"
      ]
     },
     "execution_count": 49,
     "metadata": {},
     "output_type": "execute_result"
    }
   ],
   "source": [
    "mylist"
   ]
  },
  {
   "cell_type": "code",
   "execution_count": 50,
   "id": "bdf3476e-76b8-4702-9f09-2225da0a6aa2",
   "metadata": {},
   "outputs": [],
   "source": [
    "# inserting at the first postion of list\n",
    "mylist.insert(0, \"hello\")"
   ]
  },
  {
   "cell_type": "code",
   "execution_count": 51,
   "id": "37dd2d6d-90b2-4d02-8051-2401d80bed5a",
   "metadata": {},
   "outputs": [
    {
     "data": {
      "text/plain": [
       "['hello', 1, 2, 3, 4, 5, 'Jigyasa', 16, 5.4, 'O+']"
      ]
     },
     "execution_count": 51,
     "metadata": {},
     "output_type": "execute_result"
    }
   ],
   "source": [
    "mylist"
   ]
  },
  {
   "cell_type": "code",
   "execution_count": 52,
   "id": "5022c739-47f8-4b07-86c1-1d612e6f3815",
   "metadata": {},
   "outputs": [
    {
     "name": "stdout",
     "output_type": "stream",
     "text": [
      "['hello', 1, 2, 3, 4, 5, '6th', 'Jigyasa', 16, 5.4, 'O+']\n"
     ]
    }
   ],
   "source": [
    "# inserting at the mid position of list.\n",
    "mylist.insert(6, \"6th\")\n",
    "print(mylist)"
   ]
  },
  {
   "cell_type": "code",
   "execution_count": 57,
   "id": "1a13ab48-4b10-4ea8-a26a-594bcf526376",
   "metadata": {},
   "outputs": [],
   "source": [
    "# inserting at last position of list\n",
    "mylist.insert(len(mylist), \"Last\")"
   ]
  },
  {
   "cell_type": "code",
   "execution_count": 59,
   "id": "dfa83d9d-a4c7-4530-a20f-2ebf0808c865",
   "metadata": {},
   "outputs": [
    {
     "name": "stdout",
     "output_type": "stream",
     "text": [
      "['Last', 'hello', 1, 2, 3, 4, 5, '6th', 'Jigyasa', 16, 5.4, 'Last', 'O+', 'Last']\n"
     ]
    }
   ],
   "source": [
    "print(mylist)"
   ]
  },
  {
   "cell_type": "markdown",
   "id": "5adb5b0f-ba3a-4cfd-9cad-a42f5515bd82",
   "metadata": {},
   "source": [
    "____\n",
    "\n",
    "**8. pop mehtod**"
   ]
  },
  {
   "cell_type": "code",
   "execution_count": 60,
   "id": "60ec72e8-3edf-4431-828b-b2425568c0d8",
   "metadata": {},
   "outputs": [
    {
     "name": "stdout",
     "output_type": "stream",
     "text": [
      "Help on method_descriptor:\n",
      "\n",
      "pop(self, index=-1, /)\n",
      "    Remove and return item at index (default last).\n",
      "    \n",
      "    Raises IndexError if list is empty or index is out of range.\n",
      "\n"
     ]
    }
   ],
   "source": [
    "help(list.pop)"
   ]
  },
  {
   "cell_type": "code",
   "execution_count": 62,
   "id": "b4fc9ccb-5118-4f56-aab3-a356074de54c",
   "metadata": {},
   "outputs": [
    {
     "name": "stdout",
     "output_type": "stream",
     "text": [
      "['Last', 'hello', 1, 2, 3, 4, 5, '6th', 'Jigyasa', 16, 5.4, 'Last', 'O+', 'Last']\n"
     ]
    }
   ],
   "source": [
    "print(mylist)"
   ]
  },
  {
   "cell_type": "code",
   "execution_count": 63,
   "id": "a6183c30-5578-4acc-9486-1fdeab006845",
   "metadata": {},
   "outputs": [
    {
     "data": {
      "text/plain": [
       "'Last'"
      ]
     },
     "execution_count": 63,
     "metadata": {},
     "output_type": "execute_result"
    }
   ],
   "source": [
    "# bydefault we will remvoe the last item and return it.\n",
    "mylist.pop()"
   ]
  },
  {
   "cell_type": "code",
   "execution_count": 64,
   "id": "bea900ae-0ec9-4275-b862-d9b88a2d6aff",
   "metadata": {},
   "outputs": [
    {
     "name": "stdout",
     "output_type": "stream",
     "text": [
      "['Last', 'hello', 1, 2, 3, 4, 5, '6th', 'Jigyasa', 16, 5.4, 'Last', 'O+']\n"
     ]
    }
   ],
   "source": [
    "print(mylist)"
   ]
  },
  {
   "cell_type": "code",
   "execution_count": 65,
   "id": "cee488d5-e34d-4cae-b412-92d41074fd05",
   "metadata": {},
   "outputs": [
    {
     "data": {
      "text/plain": [
       "'O+'"
      ]
     },
     "execution_count": 65,
     "metadata": {},
     "output_type": "execute_result"
    }
   ],
   "source": [
    "mylist.pop()"
   ]
  },
  {
   "cell_type": "code",
   "execution_count": 66,
   "id": "e9a698a9-978d-4e82-9b19-2e81c7e85b47",
   "metadata": {},
   "outputs": [
    {
     "name": "stdout",
     "output_type": "stream",
     "text": [
      "['Last', 'hello', 1, 2, 3, 4, 5, '6th', 'Jigyasa', 16, 5.4, 'Last']\n"
     ]
    }
   ],
   "source": [
    "print(mylist)"
   ]
  },
  {
   "cell_type": "code",
   "execution_count": 67,
   "id": "345b5744-686f-45b1-a788-dd2fbfae2613",
   "metadata": {},
   "outputs": [
    {
     "data": {
      "text/plain": [
       "'Last'"
      ]
     },
     "execution_count": 67,
     "metadata": {},
     "output_type": "execute_result"
    }
   ],
   "source": [
    "# removing the first item\n",
    "mylist.pop(0)"
   ]
  },
  {
   "cell_type": "code",
   "execution_count": 68,
   "id": "88440a68-a70d-41cf-87f0-02bea920bd73",
   "metadata": {},
   "outputs": [
    {
     "data": {
      "text/plain": [
       "['hello', 1, 2, 3, 4, 5, '6th', 'Jigyasa', 16, 5.4, 'Last']"
      ]
     },
     "execution_count": 68,
     "metadata": {},
     "output_type": "execute_result"
    }
   ],
   "source": [
    "mylist"
   ]
  },
  {
   "cell_type": "code",
   "execution_count": 69,
   "id": "fd34748d-535e-4b59-8719-d7fe659003a6",
   "metadata": {},
   "outputs": [
    {
     "data": {
      "text/plain": [
       "'6th'"
      ]
     },
     "execution_count": 69,
     "metadata": {},
     "output_type": "execute_result"
    }
   ],
   "source": [
    "# removeing the 6th number item\n",
    "mylist.pop(6)"
   ]
  },
  {
   "cell_type": "code",
   "execution_count": 70,
   "id": "38ca72db-bb7d-49f4-a2b0-631ce1ad8083",
   "metadata": {},
   "outputs": [
    {
     "data": {
      "text/plain": [
       "['hello', 1, 2, 3, 4, 5, 'Jigyasa', 16, 5.4, 'Last']"
      ]
     },
     "execution_count": 70,
     "metadata": {},
     "output_type": "execute_result"
    }
   ],
   "source": [
    "mylist"
   ]
  },
  {
   "cell_type": "markdown",
   "id": "f3c73015-d1f9-469b-b147-1cac4140e722",
   "metadata": {},
   "source": [
    "_____\n",
    "**9. remove mehtod**"
   ]
  },
  {
   "cell_type": "code",
   "execution_count": 71,
   "id": "695d86d8-1c3b-495c-a0ab-8c2d20929f0d",
   "metadata": {},
   "outputs": [
    {
     "name": "stdout",
     "output_type": "stream",
     "text": [
      "Help on method_descriptor:\n",
      "\n",
      "remove(self, value, /)\n",
      "    Remove first occurrence of value.\n",
      "    \n",
      "    Raises ValueError if the value is not present.\n",
      "\n"
     ]
    }
   ],
   "source": [
    "help(list.remove)"
   ]
  },
  {
   "cell_type": "code",
   "execution_count": 72,
   "id": "4e7b4060-1b09-461c-8ab5-0a3a74a56ffe",
   "metadata": {},
   "outputs": [
    {
     "data": {
      "text/plain": [
       "['hello', 1, 2, 3, 4, 5, 'Jigyasa', 16, 5.4, 'Last']"
      ]
     },
     "execution_count": 72,
     "metadata": {},
     "output_type": "execute_result"
    }
   ],
   "source": [
    "mylist"
   ]
  },
  {
   "cell_type": "code",
   "execution_count": 73,
   "id": "58812e28-b856-438d-a194-f2c7e865ab51",
   "metadata": {},
   "outputs": [],
   "source": [
    "# removing the item by passing the value of item not index number.\n",
    "mylist.remove(\"Last\")"
   ]
  },
  {
   "cell_type": "code",
   "execution_count": 74,
   "id": "b305763b-f215-465e-bc03-1abe7409abde",
   "metadata": {},
   "outputs": [
    {
     "data": {
      "text/plain": [
       "['hello', 1, 2, 3, 4, 5, 'Jigyasa', 16, 5.4]"
      ]
     },
     "execution_count": 74,
     "metadata": {},
     "output_type": "execute_result"
    }
   ],
   "source": [
    "mylist"
   ]
  },
  {
   "cell_type": "code",
   "execution_count": 75,
   "id": "921c5949-e5a1-4788-9ee9-8f83c3025964",
   "metadata": {},
   "outputs": [],
   "source": [
    "# removing the 'hello' from list\n",
    "mylist.remove(\"hello\")"
   ]
  },
  {
   "cell_type": "code",
   "execution_count": 76,
   "id": "716662f3-2896-4212-9e4d-dbe85bb3b515",
   "metadata": {},
   "outputs": [
    {
     "data": {
      "text/plain": [
       "[1, 2, 3, 4, 5, 'Jigyasa', 16, 5.4]"
      ]
     },
     "execution_count": 76,
     "metadata": {},
     "output_type": "execute_result"
    }
   ],
   "source": [
    "mylist"
   ]
  },
  {
   "cell_type": "code",
   "execution_count": 77,
   "id": "a5016dff-ac71-4ec2-bc56-834c7bf59767",
   "metadata": {},
   "outputs": [
    {
     "ename": "ValueError",
     "evalue": "list.remove(x): x not in list",
     "output_type": "error",
     "traceback": [
      "\u001b[1;31m---------------------------------------------------------------------------\u001b[0m",
      "\u001b[1;31mValueError\u001b[0m                                Traceback (most recent call last)",
      "Cell \u001b[1;32mIn [77], line 2\u001b[0m\n\u001b[0;32m      1\u001b[0m \u001b[38;5;66;03m# now if we remove 'hello' value from list we will get error\u001b[39;00m\n\u001b[1;32m----> 2\u001b[0m \u001b[43mmylist\u001b[49m\u001b[38;5;241;43m.\u001b[39;49m\u001b[43mremove\u001b[49m\u001b[43m(\u001b[49m\u001b[38;5;124;43m\"\u001b[39;49m\u001b[38;5;124;43mhello\u001b[39;49m\u001b[38;5;124;43m\"\u001b[39;49m\u001b[43m)\u001b[49m\n",
      "\u001b[1;31mValueError\u001b[0m: list.remove(x): x not in list"
     ]
    }
   ],
   "source": [
    "# now if we remove 'hello' value from list we will get error\n",
    "mylist.remove(\"hello\")"
   ]
  },
  {
   "cell_type": "markdown",
   "id": "078dec12-44d1-4ab4-b856-46dfe797af08",
   "metadata": {},
   "source": [
    "_____\n",
    "**10. reverse mehtod**"
   ]
  },
  {
   "cell_type": "code",
   "execution_count": 78,
   "id": "68a49536-ec54-4a1e-a5e6-080dab3bb428",
   "metadata": {},
   "outputs": [
    {
     "name": "stdout",
     "output_type": "stream",
     "text": [
      "Help on method_descriptor:\n",
      "\n",
      "reverse(self, /)\n",
      "    Reverse *IN PLACE*.\n",
      "\n"
     ]
    }
   ],
   "source": [
    "help(list.reverse)"
   ]
  },
  {
   "cell_type": "code",
   "execution_count": 80,
   "id": "46d2a611-b06e-4754-a893-6eae063978aa",
   "metadata": {},
   "outputs": [],
   "source": [
    "mylist.insert(4, \"Manish\")\n",
    "mylist.insert(7, \"Suraj\")\n",
    "mylist.insert(2, \"Gotam\")\n",
    "mylist.insert(1, \"Abhi\")\n",
    "mylist.insert(8, \"Varsha\")"
   ]
  },
  {
   "cell_type": "code",
   "execution_count": 82,
   "id": "a64f6bb5-e564-4a70-b456-d85ca4016938",
   "metadata": {},
   "outputs": [
    {
     "name": "stdout",
     "output_type": "stream",
     "text": [
      "[1, 'Abhi', 2, 'Gotam', 3, 4, 'Manish', 5, 'Varsha', 'Jigyasa', 'Suraj', 16, 5.4]\n"
     ]
    }
   ],
   "source": [
    "print(mylist)"
   ]
  },
  {
   "cell_type": "code",
   "execution_count": 83,
   "id": "93e5c688-5bd7-4139-bd26-0a19e4b47c0b",
   "metadata": {},
   "outputs": [],
   "source": [
    "# Now we will reverse the list\n",
    "mylist.reverse()"
   ]
  },
  {
   "cell_type": "code",
   "execution_count": 85,
   "id": "d430cde1-c690-4eb4-8042-21eb76700d4a",
   "metadata": {},
   "outputs": [
    {
     "name": "stdout",
     "output_type": "stream",
     "text": [
      "[5.4, 16, 'Suraj', 'Jigyasa', 'Varsha', 5, 'Manish', 4, 3, 'Gotam', 2, 'Abhi', 1]\n"
     ]
    }
   ],
   "source": [
    "print(mylist)"
   ]
  },
  {
   "cell_type": "markdown",
   "id": "e582fbd2-251a-4cfe-b8f0-e89121a5d2a4",
   "metadata": {},
   "source": [
    "____\n",
    "**11. sort method**"
   ]
  },
  {
   "cell_type": "code",
   "execution_count": 86,
   "id": "34f025d9-4f1a-4521-a2ea-185b4be3ba45",
   "metadata": {},
   "outputs": [
    {
     "name": "stdout",
     "output_type": "stream",
     "text": [
      "Help on method_descriptor:\n",
      "\n",
      "sort(self, /, *, key=None, reverse=False)\n",
      "    Sort the list in ascending order and return None.\n",
      "    \n",
      "    The sort is in-place (i.e. the list itself is modified) and stable (i.e. the\n",
      "    order of two equal elements is maintained).\n",
      "    \n",
      "    If a key function is given, apply it once to each list item and sort them,\n",
      "    ascending or descending, according to their function values.\n",
      "    \n",
      "    The reverse flag can be set to sort in descending order.\n",
      "\n"
     ]
    }
   ],
   "source": [
    "help(list.sort)"
   ]
  },
  {
   "cell_type": "code",
   "execution_count": 87,
   "id": "d1c65f1f-d4f8-4ca5-b0e4-732ee7eda566",
   "metadata": {},
   "outputs": [
    {
     "name": "stdout",
     "output_type": "stream",
     "text": [
      "[5.4, 16, 'Suraj', 'Jigyasa', 'Varsha', 5, 'Manish', 4, 3, 'Gotam', 2, 'Abhi', 1]\n"
     ]
    }
   ],
   "source": [
    "print(mylist)"
   ]
  },
  {
   "cell_type": "code",
   "execution_count": 89,
   "id": "c0e22856-8023-473a-8eda-2a7a02b40f94",
   "metadata": {},
   "outputs": [
    {
     "ename": "TypeError",
     "evalue": "'<' not supported between instances of 'str' and 'int'",
     "output_type": "error",
     "traceback": [
      "\u001b[1;31m---------------------------------------------------------------------------\u001b[0m",
      "\u001b[1;31mTypeError\u001b[0m                                 Traceback (most recent call last)",
      "Cell \u001b[1;32mIn [89], line 2\u001b[0m\n\u001b[0;32m      1\u001b[0m \u001b[38;5;66;03m# Now we are soring our list.\u001b[39;00m\n\u001b[1;32m----> 2\u001b[0m \u001b[43mmylist\u001b[49m\u001b[38;5;241;43m.\u001b[39;49m\u001b[43msort\u001b[49m\u001b[43m(\u001b[49m\u001b[43m)\u001b[49m\n",
      "\u001b[1;31mTypeError\u001b[0m: '<' not supported between instances of 'str' and 'int'"
     ]
    }
   ],
   "source": [
    "# Now we are soring our list.\n",
    "mylist.sort()"
   ]
  },
  {
   "cell_type": "code",
   "execution_count": 91,
   "id": "ace9a34c-a7cc-41e9-8a04-83f0d0a4f6bf",
   "metadata": {},
   "outputs": [
    {
     "name": "stdout",
     "output_type": "stream",
     "text": [
      "[8, 2, 5, 9, 8, 4, 10, 5, 8, 8, 7, 1, 8, 3, 9, 6, 1, 8, 2, 10, 1, 2, 10, 1, 8, 10, 5, 7, 5, 8]\n"
     ]
    }
   ],
   "source": [
    "print(number)"
   ]
  },
  {
   "cell_type": "code",
   "execution_count": 92,
   "id": "a94ef426-7a09-4986-99b0-45d99ad16d5c",
   "metadata": {},
   "outputs": [],
   "source": [
    "number.sort()"
   ]
  },
  {
   "cell_type": "code",
   "execution_count": 94,
   "id": "93c2531f-4d9d-48a0-a815-8bab9662b127",
   "metadata": {},
   "outputs": [
    {
     "name": "stdout",
     "output_type": "stream",
     "text": [
      "[1, 1, 1, 1, 2, 2, 2, 3, 4, 5, 5, 5, 5, 6, 7, 7, 8, 8, 8, 8, 8, 8, 8, 8, 9, 9, 10, 10, 10, 10]\n"
     ]
    }
   ],
   "source": [
    "print(number)"
   ]
  },
  {
   "cell_type": "code",
   "execution_count": 101,
   "id": "3b59dc11-480e-42e9-9ee7-82d66d5f53c2",
   "metadata": {},
   "outputs": [],
   "source": [
    "num2 =  list(filter(lambda x: isinstance(x,(float,int)), mylist))"
   ]
  },
  {
   "cell_type": "code",
   "execution_count": 102,
   "id": "00c2b98a-4262-4b6c-93ba-4305ddb3321d",
   "metadata": {},
   "outputs": [
    {
     "data": {
      "text/plain": [
       "[5.4, 16, 5, 4, 3, 2, 1]"
      ]
     },
     "execution_count": 102,
     "metadata": {},
     "output_type": "execute_result"
    }
   ],
   "source": [
    "num2"
   ]
  },
  {
   "cell_type": "code",
   "execution_count": 103,
   "id": "88f4993c-d126-4ed9-ac18-fadfc85db2c7",
   "metadata": {},
   "outputs": [],
   "source": [
    "num2.sort()"
   ]
  },
  {
   "cell_type": "code",
   "execution_count": 104,
   "id": "9d2db8a0-64f7-4cd4-8cb7-53edc40e4963",
   "metadata": {},
   "outputs": [
    {
     "name": "stdout",
     "output_type": "stream",
     "text": [
      "[1, 2, 3, 4, 5, 5.4, 16]\n"
     ]
    }
   ],
   "source": [
    "print(num2)"
   ]
  },
  {
   "cell_type": "code",
   "execution_count": 105,
   "id": "3ca299ad-17d3-4008-91be-18fb6a6a09db",
   "metadata": {},
   "outputs": [
    {
     "name": "stdout",
     "output_type": "stream",
     "text": [
      "1\n",
      "2\n",
      "3\n",
      "4\n",
      "5\n",
      "5.4\n",
      "16\n"
     ]
    }
   ],
   "source": [
    "for i in num2:\n",
    "    print(i)"
   ]
  },
  {
   "cell_type": "markdown",
   "id": "4cba6465-9c3a-4a3a-a6a5-5eec1e345233",
   "metadata": {},
   "source": [
    "### List Slicing"
   ]
  },
  {
   "cell_type": "markdown",
   "id": "e3b5bf69-8002-418b-85e7-f4d4b2651adc",
   "metadata": {},
   "source": [
    "List Slicing is an operation of getting items from list in selected range, we slice the list (1D) by specifying start and end point by seperating `:` Operator\n",
    "\n",
    "```python\n",
    "    mylist = [1, 2, 3, 4, 5, 'Jigyasa', 16, 5.4]\n",
    "    \n",
    "    # slicing left portion\n",
    "    mylist[:endpoint]\n",
    "    \n",
    "    # slicing right portion\n",
    "    mylist[startpoint:]\n",
    "    \n",
    "    # slicing in b/w portion\n",
    "    mylist[startpoint:endpoint]\n",
    "    \n",
    "    # slicing with step\n",
    "    mylist[startpoint:endpoint:skip-step]\n",
    "```\n",
    "\n",
    "Here `startpoint` and `endpoint` are index number of list.\n",
    "\n",
    "Note: here `endpoint` is exclusive.\n"
   ]
  },
  {
   "cell_type": "code",
   "execution_count": 1,
   "id": "f2eb02bc-04c9-4c7d-bbe9-57bbd0fc64b0",
   "metadata": {},
   "outputs": [],
   "source": [
    "mylist = [1, 2, 3, 4, 5, 'Jigyasa', 16, 5.4]"
   ]
  },
  {
   "cell_type": "code",
   "execution_count": 2,
   "id": "005ce82b-ff8a-44c6-987c-94d3591e440a",
   "metadata": {},
   "outputs": [
    {
     "data": {
      "text/plain": [
       "[1, 2, 3]"
      ]
     },
     "execution_count": 2,
     "metadata": {},
     "output_type": "execute_result"
    }
   ],
   "source": [
    "# slicing list upto 3rd index point\n",
    "mylist[:3]"
   ]
  },
  {
   "cell_type": "code",
   "execution_count": 3,
   "id": "d3218a43-9a8f-42b1-a07f-548e96ff810c",
   "metadata": {},
   "outputs": [
    {
     "data": {
      "text/plain": [
       "[5, 'Jigyasa', 16, 5.4]"
      ]
     },
     "execution_count": 3,
     "metadata": {},
     "output_type": "execute_result"
    }
   ],
   "source": [
    "# slicing list from index number 4.\n",
    "mylist[4:]"
   ]
  },
  {
   "cell_type": "code",
   "execution_count": 4,
   "id": "41f76957-4259-4e71-9dce-9f51fc52cecc",
   "metadata": {},
   "outputs": [
    {
     "data": {
      "text/plain": [
       "[3, 4, 5]"
      ]
     },
     "execution_count": 4,
     "metadata": {},
     "output_type": "execute_result"
    }
   ],
   "source": [
    "# slicing list in b/w \n",
    "mylist[2:5]"
   ]
  },
  {
   "cell_type": "code",
   "execution_count": null,
   "id": "962f7381-6170-46d1-8472-ba610c3838f1",
   "metadata": {},
   "outputs": [],
   "source": []
  }
 ],
 "metadata": {
  "kernelspec": {
   "display_name": "Python 3 (ipykernel)",
   "language": "python",
   "name": "python3"
  },
  "language_info": {
   "codemirror_mode": {
    "name": "ipython",
    "version": 3
   },
   "file_extension": ".py",
   "mimetype": "text/x-python",
   "name": "python",
   "nbconvert_exporter": "python",
   "pygments_lexer": "ipython3",
   "version": "3.10.5"
  }
 },
 "nbformat": 4,
 "nbformat_minor": 5
}
