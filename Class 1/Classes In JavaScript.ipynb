{
 "cells": [
  {
   "cell_type": "markdown",
   "id": "de74156f-a327-4ad7-b3a9-4abe9dfb441c",
   "metadata": {},
   "source": [
    "# Classes in JavaScript"
   ]
  },
  {
   "cell_type": "markdown",
   "id": "5a3b5c55-0b2f-45e9-a793-05d2a599f8fe",
   "metadata": {},
   "source": [
    "```js\n",
    "    class <class_name>{\n",
    "        // class body, constructor+property, methods.\n",
    "    }\n",
    "```"
   ]
  },
  {
   "cell_type": "code",
   "execution_count": null,
   "id": "9fe5cf23-ace6-42c0-9614-b23b6393c31e",
   "metadata": {},
   "outputs": [],
   "source": [
    "class Person{\n",
    "    \n",
    "    // to handle the process of making the object of class Person.\n",
    "    constructor(){\n",
    "        // constructor is special funciton which does not have function keyword \n",
    "        // as prefix \n",
    "        \n",
    "        console.log(\"Constructor is called, one object made of Person Class.\");\n",
    "        \n",
    "        // Note it does not return any thing.\n",
    "    }\n",
    "}"
   ]
  },
  {
   "cell_type": "code",
   "execution_count": null,
   "id": "b0823dee-6ac9-4f3e-a235-b19cbc47381e",
   "metadata": {},
   "outputs": [],
   "source": [
    "new Person(); // making an object of Person, it will call constructor"
   ]
  },
  {
   "cell_type": "markdown",
   "id": "60c64d2b-aa37-4802-b628-292fcef2b105",
   "metadata": {},
   "source": [
    "Now we need to store the object in a variable to work on it."
   ]
  },
  {
   "cell_type": "code",
   "execution_count": null,
   "id": "4389c936-88c9-4f09-9c64-2bcd04770297",
   "metadata": {},
   "outputs": [],
   "source": [
    "let man = new Person();"
   ]
  },
  {
   "cell_type": "code",
   "execution_count": null,
   "id": "5a60653a-f0fe-484e-bb39-225d9c77f7ca",
   "metadata": {},
   "outputs": [],
   "source": [
    "man"
   ]
  },
  {
   "cell_type": "markdown",
   "id": "3e740364-4deb-4055-a503-bb7ac7c0579f",
   "metadata": {},
   "source": [
    "**adding more details in our Person Class**"
   ]
  },
  {
   "cell_type": "code",
   "execution_count": null,
   "id": "480ffb0f-1f51-4367-aece-b9e588ae0bb7",
   "metadata": {},
   "outputs": [],
   "source": [
    "class Person{\n",
    "    constructor(){\n",
    "        // console.log(\"Constructor is called, one object made of Person Class.\");\n",
    "        this.name;\n",
    "        this.age;\n",
    "        this.height;\n",
    "        this.bloodgroup;\n",
    "    }\n",
    "}"
   ]
  },
  {
   "cell_type": "code",
   "execution_count": null,
   "id": "26d0e6b6-ee04-4e34-938f-13ae9bb0a10e",
   "metadata": {},
   "outputs": [],
   "source": [
    "let man = new Person();"
   ]
  },
  {
   "cell_type": "code",
   "execution_count": null,
   "id": "296eb94a-b17e-4d20-9034-96746bfb3198",
   "metadata": {},
   "outputs": [],
   "source": [
    "man"
   ]
  },
  {
   "cell_type": "markdown",
   "id": "245fafbf-27a2-4aa0-b02c-cdd5702e43d2",
   "metadata": {},
   "source": [
    "Note: here in this case we have not assigned any value to our properties of Person class, that's why we are seeing the empty object."
   ]
  },
  {
   "cell_type": "code",
   "execution_count": null,
   "id": "b23db370-f228-4621-9fb2-357a41023918",
   "metadata": {},
   "outputs": [],
   "source": [
    "class Person1{\n",
    "    // to make our constructor dynamic we need to make some parameters\n",
    "    // to hold the arguments.\n",
    "    constructor(name, age, height, bloodgroup){\n",
    "        // console.log(\"Constructor is called, one object made of Person Class.\");\n",
    "        this.name = name;\n",
    "        this.age = age;\n",
    "        this.height = height;\n",
    "        this.bloodgroup = bloodgroup;\n",
    "    }\n",
    "}"
   ]
  },
  {
   "cell_type": "code",
   "execution_count": null,
   "id": "18416eae-8aa4-4321-ac4a-e0cff4ea9e21",
   "metadata": {},
   "outputs": [],
   "source": [
    "let man1 = new Person1(\"suraj\", 27, 5.7, \"AB+\");"
   ]
  },
  {
   "cell_type": "code",
   "execution_count": null,
   "id": "2b126fa3-2eb6-4e65-ad31-83c3d9f38ab6",
   "metadata": {},
   "outputs": [],
   "source": [
    "man1"
   ]
  },
  {
   "cell_type": "code",
   "execution_count": null,
   "id": "3559e3d1-0df0-446b-b7ad-ee366061d243",
   "metadata": {},
   "outputs": [],
   "source": [
    "man2 = new Person1(\"gotam\", 20, 5.7, \"B+\");"
   ]
  },
  {
   "cell_type": "code",
   "execution_count": null,
   "id": "1f59cc22-2221-44f0-a59f-f9661df7d717",
   "metadata": {},
   "outputs": [],
   "source": [
    "man2"
   ]
  },
  {
   "cell_type": "markdown",
   "id": "a5f9a41d-ff0d-46de-b5de-33de2de701c8",
   "metadata": {},
   "source": [
    "**adding some functionality to the Person class**"
   ]
  },
  {
   "cell_type": "code",
   "execution_count": 1,
   "id": "44b66fd6-a701-48f9-bf2f-4854105b8fc4",
   "metadata": {},
   "outputs": [],
   "source": [
    "class Person2{\n",
    "    // to make our constructor dynamic we need to make some parameters\n",
    "    // to hold the arguments.\n",
    "    constructor(name, age, height, bloodgroup){\n",
    "        // console.log(\"Constructor is called, one object made of Person Class.\");\n",
    "        this.name = name;\n",
    "        this.age = age;\n",
    "        this.height = height;\n",
    "        this.bloodgroup = bloodgroup;\n",
    "    }\n",
    "    \n",
    "    // Now we will make a function to show the info\n",
    "    \n",
    "    show_info(){\n",
    "        console.log(`Name:\\t${this.name}`)\n",
    "        console.log(`Age:\\t${this.age}`)\n",
    "        console.log(`Height:\\t${this.height}`)\n",
    "        console.log(`BloodGroup:\\t${this.bloodgroup}`)\n",
    "    }\n",
    "}"
   ]
  },
  {
   "cell_type": "code",
   "execution_count": 2,
   "id": "6932c61e-e163-402c-a130-5f4841208a2a",
   "metadata": {},
   "outputs": [],
   "source": [
    "let xman = new Person2(\"gotam\", 20, 5.7, \"B+\")"
   ]
  },
  {
   "cell_type": "code",
   "execution_count": 3,
   "id": "857b2e4d-5adb-4e6e-84df-d83bbca13a83",
   "metadata": {},
   "outputs": [
    {
     "data": {
      "text/plain": [
       "Person2 { name: 'gotam', age: 20, height: 5.7, bloodgroup: 'B+' }"
      ]
     },
     "execution_count": 3,
     "metadata": {},
     "output_type": "execute_result"
    }
   ],
   "source": [
    "xman"
   ]
  },
  {
   "cell_type": "code",
   "execution_count": 4,
   "id": "b3b43fdd-52a5-46e5-8f1b-a5b51d8280eb",
   "metadata": {},
   "outputs": [
    {
     "name": "stdout",
     "output_type": "stream",
     "text": [
      "Name:\tgotam\n",
      "Age:\t20\n",
      "Height:\t5.7\n",
      "BloodGroup:\tB+\n"
     ]
    }
   ],
   "source": [
    "xman.show_info()"
   ]
  },
  {
   "cell_type": "code",
   "execution_count": 5,
   "id": "11140f90-c0bf-473e-9dc3-e7f71d59639e",
   "metadata": {},
   "outputs": [],
   "source": [
    "let yman = new Person2(\"narendra\", 21, 5.6, \"A+\")"
   ]
  },
  {
   "cell_type": "code",
   "execution_count": 6,
   "id": "b9d4045c-0bf4-4906-a533-e58c21180cc0",
   "metadata": {},
   "outputs": [
    {
     "data": {
      "text/plain": [
       "Person2 { name: 'narendra', age: 21, height: 5.6, bloodgroup: 'A+' }"
      ]
     },
     "execution_count": 6,
     "metadata": {},
     "output_type": "execute_result"
    }
   ],
   "source": [
    "yman"
   ]
  },
  {
   "cell_type": "code",
   "execution_count": 7,
   "id": "cbd71b12-2a8d-420f-b170-e029a4949da2",
   "metadata": {},
   "outputs": [
    {
     "name": "stdout",
     "output_type": "stream",
     "text": [
      "Name:\tnarendra\n",
      "Age:\t21\n",
      "Height:\t5.6\n",
      "BloodGroup:\tA+\n"
     ]
    }
   ],
   "source": [
    "yman.show_info()"
   ]
  },
  {
   "cell_type": "markdown",
   "id": "383d1945-e3c7-4423-84f7-e055c201d430",
   "metadata": {},
   "source": [
    "**Adding few more function**"
   ]
  },
  {
   "cell_type": "code",
   "execution_count": 9,
   "id": "a12e8954-04cf-4be4-975d-6fa619599cbe",
   "metadata": {},
   "outputs": [],
   "source": [
    "class Person3{\n",
    "    // to make our constructor dynamic we need to make some parameters\n",
    "    // to hold the arguments.\n",
    "    constructor(name, age, height, bloodgroup, favourite){\n",
    "        // console.log(\"Constructor is called, one object made of Person Class.\");\n",
    "        this.name = name;\n",
    "        this.age = age;\n",
    "        this.height = height;\n",
    "        this.bloodgroup = bloodgroup;\n",
    "        this.favourite = favourite;\n",
    "    }\n",
    "    \n",
    "    // Now we will make a function to show the info\n",
    "    \n",
    "    show_info(){\n",
    "        console.log(`Name:\\t${this.name}`)\n",
    "        console.log(`Age:\\t${this.age}`)\n",
    "        console.log(`Height:\\t${this.height}`)\n",
    "        console.log(`BloodGroup:\\t${this.bloodgroup}`)\n",
    "    }\n",
    "    \n",
    "    inline_show_info(){\n",
    "        console.log(`${this.name}\\t${this.age}\\t${this.height}\\t${this.bloodgroup}`);\n",
    "    }\n",
    "    \n",
    "    greet(){\n",
    "        console.log(`Hello, my name is ${this.name} and i am ${this.age} years old.`);\n",
    "    }\n",
    "    \n",
    "    favourite_sport(){\n",
    "        console.log(`My favourite sport is: ${this.favourite}`);\n",
    "    }\n",
    "    \n",
    "}"
   ]
  },
  {
   "cell_type": "code",
   "execution_count": 10,
   "id": "35dcd9b7-ad6e-4c88-9e74-cb924964f8e8",
   "metadata": {},
   "outputs": [],
   "source": [
    "let manx = new Person3(\"narendra\", 21, 5.6, \"A+\", \"cricket\");"
   ]
  },
  {
   "cell_type": "code",
   "execution_count": 11,
   "id": "9cdb0002-86af-4106-97db-32964102dcfa",
   "metadata": {},
   "outputs": [
    {
     "data": {
      "text/plain": [
       "Person3 {\n",
       "  name: 'narendra',\n",
       "  age: 21,\n",
       "  height: 5.6,\n",
       "  bloodgroup: 'A+',\n",
       "  favourite: 'cricket'\n",
       "}"
      ]
     },
     "execution_count": 11,
     "metadata": {},
     "output_type": "execute_result"
    }
   ],
   "source": [
    "manx"
   ]
  },
  {
   "cell_type": "markdown",
   "id": "c0ce2211-fadc-4b96-a45c-8f9f1cc4f822",
   "metadata": {},
   "source": [
    "### static keyword"
   ]
  },
  {
   "cell_type": "code",
   "execution_count": 1,
   "id": "5f564aef-4051-4bb3-b2a7-7b4d23ccdb70",
   "metadata": {},
   "outputs": [],
   "source": [
    "class Book{\n",
    "    constructor(title, author, pages, publisher,price, dateOfPublish, edition ){\n",
    "        this.title = title;\n",
    "        this.author= author;\n",
    "        this.pages = pages;\n",
    "        this.publisher = publisher;\n",
    "        this.price = price;\n",
    "        this.dateOfPublish = dateOfPublish;\n",
    "        this.edition = edition; \n",
    "    }\n",
    "\n",
    "\n",
    "    update(obj){\n",
    "        /**\n",
    "         * { \n",
    "         * title: title_value;\n",
    "         * author: author_vlaue;\n",
    "         * ....\n",
    "         * edition: edition_value;\n",
    "         * }\n",
    "         */\n",
    "        // first we will reterieve our data.\n",
    "        \n",
    "        let keys = Object.keys(obj);\n",
    "        let values = Object.values(obj);\n",
    "\n",
    "        for(let i=0; i<keys.length; i++){\n",
    "            this[keys[i]] = values[i] \n",
    "        }\n",
    "    }\n",
    "\n",
    "\n",
    "    details(){\n",
    "        console.log(`Title:\\t${this.title}`);\n",
    "        console.log(`Author:\\t${this.author}`);\n",
    "        console.log(`Pages:\\t${this.pages}`);\n",
    "        console.log(`Publisher:\\t${this.publisher}`);\n",
    "        console.log(`Price:\\t${this.price}`);\n",
    "        console.log(`DOP:\\t${this.dateOfPublish}`);\n",
    "        console.log(`Edition:\\t${this.edition}`);\n",
    "    }\n",
    "};"
   ]
  },
  {
   "cell_type": "code",
   "execution_count": 2,
   "id": "db3c5375",
   "metadata": {},
   "outputs": [
    {
     "data": {
      "text/plain": [
       "Book {\n",
       "  title: 'JavaScript',\n",
       "  author: 'Suraj420',\n",
       "  pages: 420,\n",
       "  publisher: 'Sindoli',\n",
       "  price: 10,\n",
       "  dateOfPublish: '19-09-2022',\n",
       "  edition: 1\n",
       "}"
      ]
     },
     "execution_count": 2,
     "metadata": {},
     "output_type": "execute_result"
    }
   ],
   "source": [
    "// Now we are going to create the first object.\n",
    "// 1. Create the object.\n",
    "book = new Book(\"JavaScript\",\"Suraj420\",420, \"Sindoli\", 10, \"19-09-2022\", 1);"
   ]
  },
  {
   "cell_type": "code",
   "execution_count": 3,
   "id": "8a1cc5d5",
   "metadata": {},
   "outputs": [
    {
     "name": "stdout",
     "output_type": "stream",
     "text": [
      "Title:\tJavaScript\n",
      "Author:\tSuraj420\n",
      "Pages:\t420\n",
      "Publisher:\tSindoli\n",
      "Price:\t10\n",
      "DOP:\t19-09-2022\n",
      "Edition:\t1\n"
     ]
    }
   ],
   "source": [
    "// 2. Read the book details\n",
    "book.details()"
   ]
  },
  {
   "cell_type": "code",
   "execution_count": 4,
   "id": "baf34a9d",
   "metadata": {},
   "outputs": [
    {
     "data": {
      "text/plain": [
       "{\n",
       "  title: 'JavaScript',\n",
       "  author: 'suraj',\n",
       "  pages: 150,\n",
       "  price: 20,\n",
       "  dateOfPublish: '20-09-2022'\n",
       "}"
      ]
     },
     "execution_count": 4,
     "metadata": {},
     "output_type": "execute_result"
    }
   ],
   "source": [
    "update = {\n",
    "    title: \"JavaScript\",\n",
    "    author: \"suraj\",\n",
    "    pages: 150,\n",
    "    price: 20,\n",
    "    dateOfPublish:\"20-09-2022\"\n",
    "}"
   ]
  },
  {
   "cell_type": "code",
   "execution_count": 5,
   "id": "1e5e5695",
   "metadata": {},
   "outputs": [],
   "source": [
    "// 3. update operator.\n",
    "book.update(update)"
   ]
  },
  {
   "cell_type": "code",
   "execution_count": 6,
   "id": "2a5e0e28",
   "metadata": {},
   "outputs": [
    {
     "name": "stdout",
     "output_type": "stream",
     "text": [
      "Title:\tJavaScript\n",
      "Author:\tsuraj\n",
      "Pages:\t150\n",
      "Publisher:\tSindoli\n",
      "Price:\t20\n",
      "DOP:\t20-09-2022\n",
      "Edition:\t1\n"
     ]
    }
   ],
   "source": [
    "book.details()"
   ]
  },
  {
   "cell_type": "code",
   "execution_count": 7,
   "id": "6959872e",
   "metadata": {},
   "outputs": [
    {
     "data": {
      "text/plain": [
       "true"
      ]
     },
     "execution_count": 7,
     "metadata": {},
     "output_type": "execute_result"
    }
   ],
   "source": [
    "// 4. delete the book\n",
    "delete book"
   ]
  },
  {
   "cell_type": "code",
   "execution_count": 8,
   "id": "f468000d",
   "metadata": {},
   "outputs": [
    {
     "ename": "ReferenceError",
     "evalue": "book is not defined",
     "output_type": "error",
     "traceback": [
      "evalmachine.<anonymous>:1",
      "book",
      "^",
      "",
      "ReferenceError: book is not defined",
      "    at evalmachine.<anonymous>:1:1",
      "    at Script.runInThisContext (node:vm:129:12)",
      "    at Object.runInThisContext (node:vm:313:38)",
      "    at run ([eval]:1020:15)",
      "    at onRunRequest ([eval]:864:18)",
      "    at onMessage ([eval]:828:13)",
      "    at process.emit (node:events:513:28)",
      "    at emit (node:internal/child_process:939:14)",
      "    at processTicksAndRejections (node:internal/process/task_queues:84:21)"
     ]
    }
   ],
   "source": [
    "book"
   ]
  },
  {
   "cell_type": "code",
   "execution_count": 1,
   "id": "f5bdb84d",
   "metadata": {},
   "outputs": [],
   "source": [
    "let update = {\n",
    "    title: \"JavaScript\",\n",
    "    author: \"suraj420\",\n",
    "    pages: 12345,\n",
    "    price: 10\n",
    "}"
   ]
  },
  {
   "cell_type": "code",
   "execution_count": 5,
   "id": "d037227b",
   "metadata": {},
   "outputs": [],
   "source": [
    "function updatex(obj){\n",
    "    /**\n",
    "     * { \n",
    "     * title: title_value;\n",
    "     * author: author_vlaue;\n",
    "     * ....\n",
    "     * edition: edition_value;\n",
    "     * }\n",
    "     */\n",
    "    // first we will reterieve our data.\n",
    "    \n",
    "    keys = Object.keys(obj);\n",
    "    values = Object.values(obj);\n",
    "\n",
    "    for(let i=0; i<keys.length; i++){\n",
    "        // this[keys[i]] = values[0] \n",
    "        console.log(`${keys[i]} = ${values[i]}  ----> this[${keys[i]}] = ${values[i]}`)\n",
    "    }\n",
    "\n",
    "\n",
    "}"
   ]
  },
  {
   "cell_type": "code",
   "execution_count": 6,
   "id": "c6d45315",
   "metadata": {},
   "outputs": [
    {
     "name": "stdout",
     "output_type": "stream",
     "text": [
      "title = JavaScript  ----> this[title] = JavaScript\n",
      "author = suraj420  ----> this[author] = suraj420\n",
      "pages = 12345  ----> this[pages] = 12345\n",
      "price = 10  ----> this[price] = 10\n"
     ]
    }
   ],
   "source": [
    "updatex(update)"
   ]
  },
  {
   "cell_type": "code",
   "execution_count": 7,
   "id": "c5e8066f",
   "metadata": {},
   "outputs": [
    {
     "data": {
      "text/plain": [
       "'JavaScript'"
      ]
     },
     "execution_count": 7,
     "metadata": {},
     "output_type": "execute_result"
    }
   ],
   "source": [
    "update.title"
   ]
  },
  {
   "cell_type": "code",
   "execution_count": 8,
   "id": "d025b24f",
   "metadata": {},
   "outputs": [
    {
     "data": {
      "text/plain": [
       "'JavaScript'"
      ]
     },
     "execution_count": 8,
     "metadata": {},
     "output_type": "execute_result"
    }
   ],
   "source": [
    "update[\"title\"]"
   ]
  },
  {
   "cell_type": "code",
   "execution_count": null,
   "id": "e4b8009f",
   "metadata": {},
   "outputs": [],
   "source": []
  }
 ],
 "metadata": {
  "kernelspec": {
   "display_name": "JavaScript (Node.js)",
   "language": "javascript",
   "name": "javascript"
  },
  "language_info": {
   "file_extension": ".js",
   "mimetype": "application/javascript",
   "name": "javascript",
   "version": "16.17.0"
  }
 },
 "nbformat": 4,
 "nbformat_minor": 5
}
