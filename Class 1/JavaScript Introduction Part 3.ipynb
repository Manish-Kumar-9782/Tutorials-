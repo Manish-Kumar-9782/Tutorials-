{
 "cells": [
  {
   "cell_type": "markdown",
   "id": "9fcdefbe-4ca7-42ca-af0c-0dbcfbd835db",
   "metadata": {},
   "source": [
    "# String in JavaScript"
   ]
  },
  {
   "cell_type": "markdown",
   "id": "f9f853b7-43b6-41e7-b2ae-b41b6c0f1aee",
   "metadata": {},
   "source": [
    "**What is String**\n",
    "\n",
    "* String is a sequence of characters which placed in b/w the \"\"(double qoutes), ''(single qouts) or ``(backticks)."
   ]
  },
  {
   "cell_type": "markdown",
   "id": "cbc99c78-be9a-4d4b-bf69-9399aec29a8e",
   "metadata": {},
   "source": [
    "```js\n",
    "    // 1. string in double qutes. (literal string)\n",
    "    let str1 = \"Hello this is double qoutes string.\"\n",
    "    // 2. string in single qoutes.\n",
    "    let str2 = 'Hello this is single qoutes string.'\n",
    "    // 3. string in backticks.\n",
    "    let str3 = `Hello this is backticks string.`\n",
    "    \n",
    "    // 4. string by using the String() constructor.\n",
    "    let str4 = new String(\"Hello this is constructor based string.\")\n",
    "    \n",
    "```"
   ]
  },
  {
   "cell_type": "code",
   "execution_count": 1,
   "id": "4a782452-47d6-4550-bd25-3a77589e15dc",
   "metadata": {},
   "outputs": [],
   "source": [
    " // 1. string in double qutes. (literal string)\n",
    "    let str1 = \"Hello this is double qoutes string.\"\n",
    "    // 2. string in single qoutes.\n",
    "    let str2 = 'Hello this is single qoutes string.'"
   ]
  },
  {
   "cell_type": "code",
   "execution_count": 2,
   "id": "7b237aeb-5189-43c0-9d24-dfd56490a63a",
   "metadata": {},
   "outputs": [],
   "source": [
    "// if we want write like this bellow string.\n",
    "/*\n",
    "    hello this is 'new string' with double qoutes.\n",
    "*/"
   ]
  },
  {
   "cell_type": "code",
   "execution_count": 3,
   "id": "5c04275c-2da1-4cfd-8ba4-5c6cbe98e2f7",
   "metadata": {},
   "outputs": [],
   "source": [
    "let new_string= 'hello this is \"new string\" with double qoutes.'"
   ]
  },
  {
   "cell_type": "code",
   "execution_count": 4,
   "id": "91816bda-1814-42f0-9434-8c271de3cfcb",
   "metadata": {},
   "outputs": [
    {
     "data": {
      "text/plain": [
       "'hello this is \"new string\" with double qoutes.'"
      ]
     },
     "execution_count": 4,
     "metadata": {},
     "output_type": "execute_result"
    }
   ],
   "source": [
    "new_string"
   ]
  },
  {
   "cell_type": "markdown",
   "id": "ad160fcd-2100-4dfc-b844-c7e0d8c52c29",
   "metadata": {},
   "source": [
    "**Accessing characters form string**\n",
    "\n",
    "1. by using subscritpt `[]`.\n",
    "2. by using `at()` method of string."
   ]
  },
  {
   "cell_type": "code",
   "execution_count": 5,
   "id": "b1d2171c-3223-4eb1-9884-b3cdeec1da24",
   "metadata": {},
   "outputs": [
    {
     "data": {
      "text/plain": [
       "'hello this is \"new string\" with double qoutes.'"
      ]
     },
     "execution_count": 5,
     "metadata": {},
     "output_type": "execute_result"
    }
   ],
   "source": [
    "new_string"
   ]
  },
  {
   "cell_type": "code",
   "execution_count": 11,
   "id": "c468d003-3824-4598-b1b3-8bd8991d37db",
   "metadata": {},
   "outputs": [
    {
     "data": {
      "text/plain": [
       "'\"'"
      ]
     },
     "execution_count": 11,
     "metadata": {},
     "output_type": "execute_result"
    }
   ],
   "source": [
    "new_string[14]"
   ]
  },
  {
   "cell_type": "code",
   "execution_count": 12,
   "id": "4b21a788-0a06-467c-8c23-d8fd562ddc64",
   "metadata": {},
   "outputs": [
    {
     "data": {
      "text/plain": [
       "'\"'"
      ]
     },
     "execution_count": 12,
     "metadata": {},
     "output_type": "execute_result"
    }
   ],
   "source": [
    "new_string.at(14)"
   ]
  },
  {
   "cell_type": "markdown",
   "id": "525461da-61c7-430c-b6cd-9a75bd96afa1",
   "metadata": {},
   "source": [
    "**indexOf() method of string**"
   ]
  },
  {
   "cell_type": "code",
   "execution_count": 18,
   "id": "6bfe640a-793a-4b19-b557-82ab9dc67210",
   "metadata": {},
   "outputs": [
    {
     "data": {
      "text/plain": [
       "14"
      ]
     },
     "execution_count": 18,
     "metadata": {},
     "output_type": "execute_result"
    }
   ],
   "source": [
    "new_string.indexOf('\"new string\"')"
   ]
  },
  {
   "cell_type": "markdown",
   "id": "5974b33c-1faf-4fc9-a3c8-a476ad848b5d",
   "metadata": {},
   "source": [
    "Note: if we try to find 'new string' from the above string by using internal single qoutes ('') then it will return -1.\n",
    "\n",
    "Because in our string we have double qoutes (\"\")."
   ]
  },
  {
   "cell_type": "markdown",
   "id": "f95cf3a6-d70e-4934-a658-81c70a947c99",
   "metadata": {},
   "source": [
    "**trim() method of string**"
   ]
  },
  {
   "cell_type": "code",
   "execution_count": 21,
   "id": "53fa7436-495f-425e-aa66-a53b3587cb51",
   "metadata": {},
   "outputs": [
    {
     "data": {
      "text/plain": [
       "'    hello this    is bakwas stirng    '"
      ]
     },
     "execution_count": 21,
     "metadata": {},
     "output_type": "execute_result"
    }
   ],
   "source": [
    " input = \"    hello this    is bakwas stirng    \""
   ]
  },
  {
   "cell_type": "markdown",
   "id": "d5565b5e-17d0-43af-8d82-9a184d4867a7",
   "metadata": {},
   "source": [
    "1MB = 1024 killo bytes. (Kb).\n",
    "1KB = 1024 bytes.\n",
    "\n",
    "each character is equal to 2bytes."
   ]
  },
  {
   "cell_type": "code",
   "execution_count": 23,
   "id": "c7dc9aef-8571-424a-9c9a-71f792df3548",
   "metadata": {},
   "outputs": [
    {
     "data": {
      "text/plain": [
       "76000"
      ]
     },
     "execution_count": 23,
     "metadata": {},
     "output_type": "execute_result"
    }
   ],
   "source": [
    "input.length * 2 * 1000"
   ]
  },
  {
   "cell_type": "code",
   "execution_count": 24,
   "id": "782e837f-d1d8-4497-9a65-82e8f6e81a1c",
   "metadata": {},
   "outputs": [
    {
     "data": {
      "text/plain": [
       "'hello this    is bakwas stirng'"
      ]
     },
     "execution_count": 24,
     "metadata": {},
     "output_type": "execute_result"
    }
   ],
   "source": [
    "input.trim()"
   ]
  },
  {
   "cell_type": "markdown",
   "id": "22fb32d2-fbb3-4fad-866c-ff86015ab57f",
   "metadata": {},
   "source": [
    "**length property of string**\n",
    "\n",
    "* this property is used to get the length of the string, which tells that how many character are present in our string."
   ]
  },
  {
   "cell_type": "code",
   "execution_count": 25,
   "id": "df977246-02a9-4840-9c3e-3432850dec3f",
   "metadata": {},
   "outputs": [
    {
     "data": {
      "text/plain": [
       "38"
      ]
     },
     "execution_count": 25,
     "metadata": {},
     "output_type": "execute_result"
    }
   ],
   "source": [
    "input.length"
   ]
  },
  {
   "cell_type": "code",
   "execution_count": 26,
   "id": "9ae629d3-537b-4c96-9c3f-b917e33a8be8",
   "metadata": {},
   "outputs": [
    {
     "data": {
      "text/plain": [
       "'    hello this    is bakwas stirng    '"
      ]
     },
     "execution_count": 26,
     "metadata": {},
     "output_type": "execute_result"
    }
   ],
   "source": [
    "input"
   ]
  },
  {
   "cell_type": "code",
   "execution_count": 1,
   "id": "373e83ec-0f8c-4e38-864e-329ff680e52b",
   "metadata": {},
   "outputs": [],
   "source": [
    "let strx = \"hello welcome\""
   ]
  },
  {
   "cell_type": "code",
   "execution_count": 2,
   "id": "c61e942a-7458-4bad-aa5d-6367c5105a81",
   "metadata": {},
   "outputs": [
    {
     "data": {
      "text/plain": [
       "'hello jelcome'"
      ]
     },
     "execution_count": 2,
     "metadata": {},
     "output_type": "execute_result"
    }
   ],
   "source": [
    "strx.replace(\"welcome\", \"jelcome\")"
   ]
  },
  {
   "cell_type": "code",
   "execution_count": 3,
   "id": "9dbbfa28-f660-4663-8dbb-0008092c340d",
   "metadata": {},
   "outputs": [
    {
     "data": {
      "text/plain": [
       "'hello welcome'"
      ]
     },
     "execution_count": 3,
     "metadata": {},
     "output_type": "execute_result"
    }
   ],
   "source": [
    "strx"
   ]
  },
  {
   "cell_type": "markdown",
   "id": "0b7a7918-f1ef-4600-bb15-a82207248c75",
   "metadata": {},
   "source": [
    "Note: Since `replace()` method does not change the original string, it returns a modified copy string.\n",
    "\n",
    "To modifiy the original string with the returned value we need to reassign, the `returned value` into our variable which holds the original string. "
   ]
  },
  {
   "cell_type": "code",
   "execution_count": 4,
   "id": "08157186-d389-451f-982e-6d49c81cb34b",
   "metadata": {},
   "outputs": [
    {
     "data": {
      "text/plain": [
       "'hello jelcome'"
      ]
     },
     "execution_count": 4,
     "metadata": {},
     "output_type": "execute_result"
    }
   ],
   "source": [
    "strx = strx.replace(\"welcome\", \"jelcome\")"
   ]
  },
  {
   "cell_type": "code",
   "execution_count": 5,
   "id": "80cd933b-b31a-4f50-bcb1-f59537407734",
   "metadata": {},
   "outputs": [
    {
     "data": {
      "text/plain": [
       "'hello jelcome'"
      ]
     },
     "execution_count": 5,
     "metadata": {},
     "output_type": "execute_result"
    }
   ],
   "source": [
    "strx"
   ]
  },
  {
   "cell_type": "markdown",
   "id": "e0c324e7-915b-4057-bb22-14defdd9bbc0",
   "metadata": {},
   "source": []
  },
  {
   "cell_type": "markdown",
   "id": "226a4f35-cc71-4574-adef-93ccc1b57492",
   "metadata": {},
   "source": [
    "**concat() method of string**\n",
    "\n",
    "it is used to join two or more strings together."
   ]
  },
  {
   "cell_type": "code",
   "execution_count": 6,
   "id": "e8a30cb1-448d-4f2a-9a3d-cff75dc07c18",
   "metadata": {},
   "outputs": [
    {
     "data": {
      "text/plain": [
       "'hello jelcome'"
      ]
     },
     "execution_count": 6,
     "metadata": {},
     "output_type": "execute_result"
    }
   ],
   "source": [
    "strx"
   ]
  },
  {
   "cell_type": "code",
   "execution_count": 7,
   "id": "9943a28d-76da-47d4-86aa-46a756797905",
   "metadata": {},
   "outputs": [
    {
     "data": {
      "text/plain": [
       "'hello jelcome welcome Falcom winter is comming'"
      ]
     },
     "execution_count": 7,
     "metadata": {},
     "output_type": "execute_result"
    }
   ],
   "source": [
    "strx.concat(\" welcome\", \" Falcom\", \" winter is comming\")"
   ]
  },
  {
   "cell_type": "code",
   "execution_count": 8,
   "id": "153f1448-87c0-4c1d-9e66-64bb15766074",
   "metadata": {},
   "outputs": [
    {
     "data": {
      "text/plain": [
       "'hello jelcome'"
      ]
     },
     "execution_count": 8,
     "metadata": {},
     "output_type": "execute_result"
    }
   ],
   "source": [
    "strx"
   ]
  },
  {
   "cell_type": "code",
   "execution_count": 9,
   "id": "48ea28b2-f02b-4f25-bbd8-05f8aee61fe6",
   "metadata": {},
   "outputs": [
    {
     "data": {
      "text/plain": [
       "'hello jelcome welcome Falcom winter is comming'"
      ]
     },
     "execution_count": 9,
     "metadata": {},
     "output_type": "execute_result"
    }
   ],
   "source": [
    "// to modify we need to reassign the value.\n",
    "strx = strx.concat(\" welcome\", \" Falcom\", \" winter is comming\")"
   ]
  },
  {
   "cell_type": "code",
   "execution_count": 10,
   "id": "5e9d2a7e-6620-474b-a488-4cecc8a52a8b",
   "metadata": {},
   "outputs": [
    {
     "data": {
      "text/plain": [
       "'hello jelcome welcome Falcom winter is comming'"
      ]
     },
     "execution_count": 10,
     "metadata": {},
     "output_type": "execute_result"
    }
   ],
   "source": [
    "strx"
   ]
  },
  {
   "cell_type": "code",
   "execution_count": 11,
   "id": "c9699626-47a2-4044-ad0f-e973d946adb6",
   "metadata": {},
   "outputs": [],
   "source": [
    "const strxx = \"hello this is good\""
   ]
  },
  {
   "cell_type": "code",
   "execution_count": 12,
   "id": "76701c7e-a16e-41ba-b63b-05754ee4b504",
   "metadata": {},
   "outputs": [
    {
     "data": {
      "text/plain": [
       "'hello this is good not good  chalo bhago '"
      ]
     },
     "execution_count": 12,
     "metadata": {},
     "output_type": "execute_result"
    }
   ],
   "source": [
    "strxx.concat(\" not good \", \" chalo bhago \")"
   ]
  },
  {
   "cell_type": "code",
   "execution_count": 13,
   "id": "f89cecf0-9f2a-4625-b0f0-4c2ce5eb7e1a",
   "metadata": {},
   "outputs": [
    {
     "ename": "TypeError",
     "evalue": "Assignment to constant variable.",
     "execution_count": 13,
     "output_type": "error",
     "traceback": [
      "evalmachine.<anonymous>:1",
      "strxx =  strxx.concat(\" not good \", \" chalo bhago \")",
      "      ^",
      "",
      "TypeError: Assignment to constant variable.",
      "    at evalmachine.<anonymous>:1:7",
      "    at Script.runInThisContext (node:vm:129:12)",
      "    at Object.runInThisContext (node:vm:313:38)",
      "    at run ([eval]:1020:15)",
      "    at onRunRequest ([eval]:864:18)",
      "    at onMessage ([eval]:828:13)",
      "    at process.emit (node:events:513:28)",
      "    at emit (node:internal/child_process:939:14)",
      "    at processTicksAndRejections (node:internal/process/task_queues:84:21)"
     ]
    }
   ],
   "source": [
    "strxx =  strxx.concat(\" not good \", \" chalo bhago \")"
   ]
  },
  {
   "cell_type": "markdown",
   "id": "8b3ca9f9-3162-433e-baf8-7015ebb1f9b0",
   "metadata": {},
   "source": [
    "**includes()  method of string**\n",
    "\n",
    "It is used to check that a substring exist inside the string, if exist it will return `true` else `false`."
   ]
  },
  {
   "cell_type": "markdown",
   "id": "0101ab3e-3115-48cf-a1f5-c826343ad845",
   "metadata": {},
   "source": [
    "bb"
   ]
  },
  {
   "cell_type": "code",
   "execution_count": 14,
   "id": "c4ea152c-b18f-4e67-9755-2167b200c0e3",
   "metadata": {},
   "outputs": [
    {
     "data": {
      "text/plain": [
       "'hello this is good'"
      ]
     },
     "execution_count": 14,
     "metadata": {},
     "output_type": "execute_result"
    }
   ],
   "source": [
    "strxx"
   ]
  },
  {
   "cell_type": "code",
   "execution_count": 16,
   "id": "48f54b89-3946-4495-94a0-6252fbd3f0e2",
   "metadata": {},
   "outputs": [
    {
     "data": {
      "text/plain": [
       "true"
      ]
     },
     "execution_count": 16,
     "metadata": {},
     "output_type": "execute_result"
    }
   ],
   "source": [
    "// checking that good is exist in our string.\n",
    "strxx.includes(\"good\")"
   ]
  },
  {
   "cell_type": "code",
   "execution_count": 17,
   "id": "59b628f7-b415-44fd-894f-3d2fa0ffce3f",
   "metadata": {},
   "outputs": [
    {
     "data": {
      "text/plain": [
       "'surajgurjar420@gmail.com'"
      ]
     },
     "execution_count": 17,
     "metadata": {},
     "output_type": "execute_result"
    }
   ],
   "source": [
    "mail = \"surajgurjar420@gmail.com\""
   ]
  },
  {
   "cell_type": "code",
   "execution_count": 18,
   "id": "17db139a-d068-42f7-8b2a-287aa028ef11",
   "metadata": {},
   "outputs": [
    {
     "data": {
      "text/plain": [
       "true"
      ]
     },
     "execution_count": 18,
     "metadata": {},
     "output_type": "execute_result"
    }
   ],
   "source": [
    "// 1. check that our string contains @\n",
    "mail.includes(\"@\")"
   ]
  },
  {
   "cell_type": "code",
   "execution_count": 20,
   "id": "58b6b229-6896-4ed0-a382-ad193d59138f",
   "metadata": {},
   "outputs": [
    {
     "data": {
      "text/plain": [
       "true"
      ]
     },
     "execution_count": 20,
     "metadata": {},
     "output_type": "execute_result"
    }
   ],
   "source": [
    "// 2. check that our string \n",
    "mail.includes(\"gmail\")"
   ]
  },
  {
   "cell_type": "code",
   "execution_count": 21,
   "id": "bfba2162-97c4-4c44-847e-6baed77d801c",
   "metadata": {},
   "outputs": [
    {
     "data": {
      "text/plain": [
       "false"
      ]
     },
     "execution_count": 21,
     "metadata": {},
     "output_type": "execute_result"
    }
   ],
   "source": [
    "// it does not contain the hotmail.\n",
    "mail.includes(\"hotmail\")"
   ]
  },
  {
   "cell_type": "markdown",
   "id": "4f78bb95-d117-4451-b454-1ad90b0eb8d7",
   "metadata": {},
   "source": [
    "**endsWith() method of string**"
   ]
  },
  {
   "cell_type": "code",
   "execution_count": 22,
   "id": "a4526614-ce45-46bd-8b39-5fd2420e7c8f",
   "metadata": {},
   "outputs": [
    {
     "data": {
      "text/plain": [
       "'surajgurjar420@gmail.com'"
      ]
     },
     "execution_count": 22,
     "metadata": {},
     "output_type": "execute_result"
    }
   ],
   "source": [
    "mail"
   ]
  },
  {
   "cell_type": "code",
   "execution_count": 23,
   "id": "addf0565-6bb0-478f-8eed-d0ae02770944",
   "metadata": {},
   "outputs": [
    {
     "data": {
      "text/plain": [
       "true"
      ]
     },
     "execution_count": 23,
     "metadata": {},
     "output_type": "execute_result"
    }
   ],
   "source": [
    "// to check the last substring \n",
    "mail.endsWith(\".com\")"
   ]
  },
  {
   "cell_type": "code",
   "execution_count": 24,
   "id": "0ff48572-99b9-4c18-9e5d-82a31adcc453",
   "metadata": {},
   "outputs": [
    {
     "data": {
      "text/plain": [
       "false"
      ]
     },
     "execution_count": 24,
     "metadata": {},
     "output_type": "execute_result"
    }
   ],
   "source": [
    "mail.endsWith(\".org\")"
   ]
  },
  {
   "cell_type": "markdown",
   "id": "e8bcf8cd-9edd-4a6c-8be9-87becc3c2a8c",
   "metadata": {},
   "source": [
    "**startsWith() method of string**"
   ]
  },
  {
   "cell_type": "code",
   "execution_count": 26,
   "id": "eb91c5d5-95cb-4aa8-b320-a65f9695fa61",
   "metadata": {},
   "outputs": [
    {
     "data": {
      "text/plain": [
       "'+91-9874563310'"
      ]
     },
     "execution_count": 26,
     "metadata": {},
     "output_type": "execute_result"
    }
   ],
   "source": [
    "phno = \"+91-9874563310\""
   ]
  },
  {
   "cell_type": "code",
   "execution_count": 27,
   "id": "e8997293-e607-466d-b99e-cc8d4d43fc31",
   "metadata": {},
   "outputs": [
    {
     "data": {
      "text/plain": [
       "true"
      ]
     },
     "execution_count": 27,
     "metadata": {},
     "output_type": "execute_result"
    }
   ],
   "source": [
    "// to check that given phone number has indian country code.\n",
    "phno.startsWith(\"+91\")"
   ]
  },
  {
   "cell_type": "code",
   "execution_count": 28,
   "id": "d0bd2175-dac2-4aed-a43e-c09a78c0b55e",
   "metadata": {},
   "outputs": [
    {
     "data": {
      "text/plain": [
       "false"
      ]
     },
     "execution_count": 28,
     "metadata": {},
     "output_type": "execute_result"
    }
   ],
   "source": [
    "phno.startsWith(\"+92\")"
   ]
  },
  {
   "cell_type": "markdown",
   "id": "267294a8-ff64-475d-b772-9a9ae97a5520",
   "metadata": {},
   "source": [
    "**padEnd() & padStart() method of string**"
   ]
  },
  {
   "cell_type": "code",
   "execution_count": 29,
   "id": "a7d5d66a-46b7-4862-886c-ac599d497f15",
   "metadata": {},
   "outputs": [],
   "source": [
    "let name = \"Gotam Singh\""
   ]
  },
  {
   "cell_type": "code",
   "execution_count": 31,
   "id": "02bc2d70-9c81-45d1-b933-2d6835c0fa66",
   "metadata": {},
   "outputs": [
    {
     "data": {
      "text/plain": [
       "'Gotam Singh---------'"
      ]
     },
     "execution_count": 31,
     "metadata": {},
     "output_type": "execute_result"
    }
   ],
   "source": [
    "name.padEnd(20, '-')"
   ]
  },
  {
   "cell_type": "code",
   "execution_count": 32,
   "id": "2f67337d-4280-4f6e-b7b4-03bbe381e82e",
   "metadata": {},
   "outputs": [
    {
     "data": {
      "text/plain": [
       "20"
      ]
     },
     "execution_count": 32,
     "metadata": {},
     "output_type": "execute_result"
    }
   ],
   "source": [
    "'Gotam Singh---------'.length"
   ]
  },
  {
   "cell_type": "code",
   "execution_count": 33,
   "id": "6b4c6f49-9a24-4def-b3ab-b5d5516125a9",
   "metadata": {},
   "outputs": [
    {
     "data": {
      "text/plain": [
       "'*********Gotam Singh'"
      ]
     },
     "execution_count": 33,
     "metadata": {},
     "output_type": "execute_result"
    }
   ],
   "source": [
    "name.padStart(20, '*')"
   ]
  },
  {
   "cell_type": "markdown",
   "id": "6d3babad-d9e5-4e10-a80f-0b54d56b3235",
   "metadata": {},
   "source": [
    "Note: it takes two arguments, \n",
    "\n",
    "first arg:: int:: it must be number, number will dicide the final length of the modified string.\n",
    "\n",
    "second arg:: ch:: it must be the character which need to be paded on string.\n",
    "\n",
    "NOte2: if first arg intger is less than the original, no effect will be shown."
   ]
  },
  {
   "cell_type": "code",
   "execution_count": 35,
   "id": "8b227bcd-ce72-43dc-83bd-cc6293bd793e",
   "metadata": {},
   "outputs": [
    {
     "data": {
      "text/plain": [
       "11"
      ]
     },
     "execution_count": 35,
     "metadata": {},
     "output_type": "execute_result"
    }
   ],
   "source": [
    "name.length"
   ]
  },
  {
   "cell_type": "code",
   "execution_count": 36,
   "id": "4ea8b598-b153-4339-9f69-fa57c73a1a0e",
   "metadata": {},
   "outputs": [
    {
     "data": {
      "text/plain": [
       "'Gotam Singh'"
      ]
     },
     "execution_count": 36,
     "metadata": {},
     "output_type": "execute_result"
    }
   ],
   "source": [
    "name.padEnd(10,'-')"
   ]
  },
  {
   "cell_type": "markdown",
   "id": "84658e6e-df75-4389-b1d0-dda7b9d47826",
   "metadata": {},
   "source": [
    "**toUpperCase() & toLowerCase() method of string**"
   ]
  },
  {
   "cell_type": "code",
   "execution_count": 37,
   "id": "355759e5-5000-4121-ad86-b360ab2672cc",
   "metadata": {},
   "outputs": [
    {
     "data": {
      "text/plain": [
       "'Gotam Singh'"
      ]
     },
     "execution_count": 37,
     "metadata": {},
     "output_type": "execute_result"
    }
   ],
   "source": [
    "name "
   ]
  },
  {
   "cell_type": "code",
   "execution_count": 38,
   "id": "6fa3a82e-d4c1-4c60-83c0-72e071a907d5",
   "metadata": {},
   "outputs": [
    {
     "data": {
      "text/plain": [
       "'GOTAM SINGH'"
      ]
     },
     "execution_count": 38,
     "metadata": {},
     "output_type": "execute_result"
    }
   ],
   "source": [
    "name.toUpperCase()"
   ]
  },
  {
   "cell_type": "code",
   "execution_count": 39,
   "id": "2558639e-a2b3-41b2-94a4-7bd088b1d550",
   "metadata": {},
   "outputs": [
    {
     "data": {
      "text/plain": [
       "'gotam singh'"
      ]
     },
     "execution_count": 39,
     "metadata": {},
     "output_type": "execute_result"
    }
   ],
   "source": [
    "name.toLowerCase()"
   ]
  },
  {
   "cell_type": "code",
   "execution_count": 40,
   "id": "26ddc72b-c035-4e61-b185-a9b20e46cb72",
   "metadata": {},
   "outputs": [
    {
     "data": {
      "text/plain": [
       "'run'"
      ]
     },
     "execution_count": 40,
     "metadata": {},
     "output_type": "execute_result"
    }
   ],
   "source": [
    "cmd = \"run\""
   ]
  },
  {
   "cell_type": "code",
   "execution_count": 41,
   "id": "a13771ca-591b-441a-8666-97f3136e0f36",
   "metadata": {},
   "outputs": [
    {
     "data": {
      "text/plain": [
       "'Run'"
      ]
     },
     "execution_count": 41,
     "metadata": {},
     "output_type": "execute_result"
    }
   ],
   "source": [
    "input = \"Run\""
   ]
  },
  {
   "cell_type": "code",
   "execution_count": 42,
   "id": "af08ddda-85cf-4193-a955-93bba6881df5",
   "metadata": {},
   "outputs": [
    {
     "data": {
      "text/plain": [
       "'run'"
      ]
     },
     "execution_count": 42,
     "metadata": {},
     "output_type": "execute_result"
    }
   ],
   "source": [
    "input.toLowerCase()"
   ]
  },
  {
   "cell_type": "code",
   "execution_count": null,
   "id": "5eb5f038-aea6-4b79-bcf2-37832933cb5d",
   "metadata": {},
   "outputs": [],
   "source": []
  }
 ],
 "metadata": {
  "kernelspec": {
   "display_name": "JavaScript (Node.js)",
   "language": "javascript",
   "name": "javascript"
  },
  "language_info": {
   "file_extension": ".js",
   "mimetype": "application/javascript",
   "name": "javascript",
   "version": "16.17.0"
  }
 },
 "nbformat": 4,
 "nbformat_minor": 5
}
