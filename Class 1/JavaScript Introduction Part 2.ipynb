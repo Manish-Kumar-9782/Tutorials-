{
 "cells": [
  {
   "cell_type": "markdown",
   "id": "07f4a643-730c-47f0-8093-051755487486",
   "metadata": {},
   "source": [
    "# JavaScript Introduction Part 2"
   ]
  },
  {
   "cell_type": "markdown",
   "id": "9f750f7a-15a2-4548-a753-801e88b17053",
   "metadata": {},
   "source": [
    "## Array in JavaScript"
   ]
  },
  {
   "cell_type": "markdown",
   "id": "7c9a1c91-bfd1-4ad0-90ad-60d4dc4a3d9c",
   "metadata": {},
   "source": [
    "Suppose that we have a variable x; it can only store one item at a time."
   ]
  },
  {
   "cell_type": "code",
   "execution_count": 1,
   "id": "a32e4048-c42a-4db7-8689-2cec59e31fce",
   "metadata": {},
   "outputs": [],
   "source": [
    "let x = 10;"
   ]
  },
  {
   "cell_type": "markdown",
   "id": "de73cce1-6d9e-4a51-8586-f3531049284b",
   "metadata": {},
   "source": [
    "In this case we use array.\n",
    "\n",
    "`Array:` array is a conatiner of multiple values which may have multiple data types.It works in sequentional manner, it means every element will have its own position from where we can access it.\n",
    "\n",
    "`Array element position:` element position is called `index` number which starts form 0 and ends at n-1 number, where n is the length of the array."
   ]
  },
  {
   "cell_type": "markdown",
   "id": "477805a6-790e-4b0e-bfdd-0c971f49710b",
   "metadata": {},
   "source": [
    "```js\n",
    "    let arr = [1,2,3,\"hello\",'jeloo', true, false, 3.5, null, undefined]\n",
    "```"
   ]
  },
  {
   "cell_type": "code",
   "execution_count": 2,
   "id": "2b3c68e7-dda5-430c-9dca-f5498cc3820f",
   "metadata": {},
   "outputs": [],
   "source": [
    "let arr = [1,2,3,\"hello\",'jeloo', true, false, 3.5, null, undefined]"
   ]
  },
  {
   "cell_type": "code",
   "execution_count": 3,
   "id": "52d7970c-7749-40bb-9d5b-be23c485c444",
   "metadata": {},
   "outputs": [
    {
     "data": {
      "text/plain": [
       "[\n",
       "  1,       2,\n",
       "  3,       'hello',\n",
       "  'jeloo', true,\n",
       "  false,   3.5,\n",
       "  null,    undefined\n",
       "]"
      ]
     },
     "execution_count": 3,
     "metadata": {},
     "output_type": "execute_result"
    }
   ],
   "source": [
    "arr"
   ]
  },
  {
   "cell_type": "code",
   "execution_count": 4,
   "id": "324767dd-e518-433f-ba83-dc98667a87a2",
   "metadata": {},
   "outputs": [
    {
     "data": {
      "text/plain": [
       "'object'"
      ]
     },
     "execution_count": 4,
     "metadata": {},
     "output_type": "execute_result"
    }
   ],
   "source": [
    "typeof(arr)"
   ]
  },
  {
   "cell_type": "markdown",
   "id": "ed12eef4-76fb-4ffb-ae3d-474e323c626a",
   "metadata": {},
   "source": [
    "**Accessing array element**\n",
    "\n",
    "We can access array element if it is in the range, by using `[]-subscript`, we need to pass the index number in tese brackets to access that element."
   ]
  },
  {
   "cell_type": "code",
   "execution_count": 5,
   "id": "8a927efc-d549-40f9-80a3-b6fbc9b9a4bb",
   "metadata": {},
   "outputs": [
    {
     "data": {
      "text/plain": [
       "[\n",
       "  1,       2,\n",
       "  3,       'hello',\n",
       "  'jeloo', true,\n",
       "  false,   3.5,\n",
       "  null,    undefined\n",
       "]"
      ]
     },
     "execution_count": 5,
     "metadata": {},
     "output_type": "execute_result"
    }
   ],
   "source": [
    "arr"
   ]
  },
  {
   "cell_type": "code",
   "execution_count": 8,
   "id": "627e21eb-5221-4f42-899a-d65e3d03754a",
   "metadata": {},
   "outputs": [
    {
     "data": {
      "text/plain": [
       "'hello'"
      ]
     },
     "execution_count": 8,
     "metadata": {},
     "output_type": "execute_result"
    }
   ],
   "source": [
    "arr[3]"
   ]
  },
  {
   "cell_type": "markdown",
   "id": "81d380f4-893a-455f-8629-a1baa9b1b605",
   "metadata": {},
   "source": [
    "**alternative to access element by using the index number**"
   ]
  },
  {
   "cell_type": "code",
   "execution_count": 9,
   "id": "546f47ec-2453-4db5-81d8-854d2f654bc7",
   "metadata": {},
   "outputs": [
    {
     "data": {
      "text/plain": [
       "'hello'"
      ]
     },
     "execution_count": 9,
     "metadata": {},
     "output_type": "execute_result"
    }
   ],
   "source": [
    "arr.at(3)"
   ]
  },
  {
   "cell_type": "markdown",
   "id": "c1c20cdd-40cf-4b90-af8b-c0f586e7bad2",
   "metadata": {},
   "source": [
    "**indexOf() method of array**\n",
    "\n",
    "what is we don't have the index number of the element, then we need to use the `indexOf()` method on array."
   ]
  },
  {
   "cell_type": "code",
   "execution_count": 10,
   "id": "c70a400e-c1a5-4f9b-97b4-f8ab482c9be2",
   "metadata": {},
   "outputs": [
    {
     "data": {
      "text/plain": [
       "3"
      ]
     },
     "execution_count": 10,
     "metadata": {},
     "output_type": "execute_result"
    }
   ],
   "source": [
    "arr.indexOf('hello')"
   ]
  },
  {
   "cell_type": "markdown",
   "id": "f8bc9b87-9c7d-4f27-991e-83569d290cc3",
   "metadata": {},
   "source": [
    "Note: `at()` and `indexOf()` both are method of array.\n",
    "\n",
    "`at():` it will return the element values.\n",
    "\n",
    "`indexOf():` it will return the element index number.\n",
    "\n",
    "`Note:` \n",
    "\n",
    "   -> some method modify the array,\\\n",
    "   -> some method return something, \\\n",
    "   -> some method return the copy of the modified or asked array,\\\n",
    "   -> or some method don't return any thing."
   ]
  },
  {
   "cell_type": "markdown",
   "id": "3a87920f-1e31-4f37-b5c1-bed06899feb1",
   "metadata": {},
   "source": [
    "##### pop(), push()\n",
    "\n",
    "`pop():` it will remove/delete an element form the last index of the array by default, also it will return the removed/deleted values.\n",
    "\n",
    "`push():` it add and element at the end of the array by default."
   ]
  },
  {
   "cell_type": "code",
   "execution_count": 11,
   "id": "7aaf8e65-9a19-4a96-bf78-6e452fa920df",
   "metadata": {},
   "outputs": [
    {
     "data": {
      "text/plain": [
       "[\n",
       "  1,       2,\n",
       "  3,       'hello',\n",
       "  'jeloo', true,\n",
       "  false,   3.5,\n",
       "  null,    undefined\n",
       "]"
      ]
     },
     "execution_count": 11,
     "metadata": {},
     "output_type": "execute_result"
    }
   ],
   "source": [
    "arr"
   ]
  },
  {
   "cell_type": "code",
   "execution_count": 12,
   "id": "893feab9-81b1-42ac-b201-03688bb38a8b",
   "metadata": {},
   "outputs": [],
   "source": [
    "// removing the last element from the array.\n",
    "arr.pop()"
   ]
  },
  {
   "cell_type": "code",
   "execution_count": 13,
   "id": "b7081c84-c9b6-494a-9bcf-171f5ef13e14",
   "metadata": {},
   "outputs": [
    {
     "data": {
      "text/plain": [
       "null"
      ]
     },
     "execution_count": 13,
     "metadata": {},
     "output_type": "execute_result"
    }
   ],
   "source": [
    "arr.pop()"
   ]
  },
  {
   "cell_type": "code",
   "execution_count": 14,
   "id": "81c35833-87c3-4eee-9551-9c55208df9cb",
   "metadata": {},
   "outputs": [
    {
     "data": {
      "text/plain": [
       "[ 1, 2, 3, 'hello', 'jeloo', true, false, 3.5 ]"
      ]
     },
     "execution_count": 14,
     "metadata": {},
     "output_type": "execute_result"
    }
   ],
   "source": [
    "// after removing last 2 element, checking the array.\n",
    "arr"
   ]
  },
  {
   "cell_type": "code",
   "execution_count": 16,
   "id": "55236582-ccd5-4795-94e4-11268cb5154b",
   "metadata": {},
   "outputs": [
    {
     "data": {
      "text/plain": [
       "false"
      ]
     },
     "execution_count": 16,
     "metadata": {},
     "output_type": "execute_result"
    }
   ],
   "source": [
    "// removing \n",
    "arr.pop()"
   ]
  },
  {
   "cell_type": "code",
   "execution_count": 17,
   "id": "c32c3cbc-980c-4d0d-9bc5-982d85e69183",
   "metadata": {},
   "outputs": [
    {
     "data": {
      "text/plain": [
       "[ 1, 2, 3, 'hello', 'jeloo', true ]"
      ]
     },
     "execution_count": 17,
     "metadata": {},
     "output_type": "execute_result"
    }
   ],
   "source": [
    "arr"
   ]
  },
  {
   "cell_type": "markdown",
   "id": "28d18000-3442-4bb9-adac-06339f91f334",
   "metadata": {},
   "source": [
    "**push() method on array**"
   ]
  },
  {
   "cell_type": "code",
   "execution_count": 19,
   "id": "129b62d2-2166-4704-a46b-8497b15e4b3b",
   "metadata": {},
   "outputs": [
    {
     "data": {
      "text/plain": [
       "7"
      ]
     },
     "execution_count": 19,
     "metadata": {},
     "output_type": "execute_result"
    }
   ],
   "source": [
    "// it works opposite to the pop method, it add the element at the end of the array.\n",
    "arr.push(\"suraj420\");"
   ]
  },
  {
   "cell_type": "code",
   "execution_count": 21,
   "id": "59a09c61-9eb9-4317-9844-6e3136892f9b",
   "metadata": {},
   "outputs": [
    {
     "data": {
      "text/plain": [
       "7"
      ]
     },
     "execution_count": 21,
     "metadata": {},
     "output_type": "execute_result"
    }
   ],
   "source": [
    "arr.length"
   ]
  },
  {
   "cell_type": "code",
   "execution_count": 22,
   "id": "3045378e-eaa8-4340-95dd-71c172aa1009",
   "metadata": {},
   "outputs": [
    {
     "data": {
      "text/plain": [
       "[ 1, 2, 3, 'hello', 'jeloo', true, 'suraj420' ]"
      ]
     },
     "execution_count": 22,
     "metadata": {},
     "output_type": "execute_result"
    }
   ],
   "source": [
    "arr"
   ]
  },
  {
   "cell_type": "code",
   "execution_count": null,
   "id": "1fc837ac-ae83-4ea8-89bd-0c99e3b2286e",
   "metadata": {},
   "outputs": [],
   "source": []
  }
 ],
 "metadata": {
  "kernelspec": {
   "display_name": "JavaScript (Node.js)",
   "language": "javascript",
   "name": "javascript"
  },
  "language_info": {
   "file_extension": ".js",
   "mimetype": "application/javascript",
   "name": "javascript",
   "version": "16.17.0"
  }
 },
 "nbformat": 4,
 "nbformat_minor": 5
}
