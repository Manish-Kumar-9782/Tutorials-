{
 "cells": [
  {
   "cell_type": "markdown",
   "id": "07f4a643-730c-47f0-8093-051755487486",
   "metadata": {},
   "source": [
    "# JavaScript Introduction Part 2"
   ]
  },
  {
   "cell_type": "markdown",
   "id": "9f750f7a-15a2-4548-a753-801e88b17053",
   "metadata": {},
   "source": [
    "## Array in JavaScript"
   ]
  },
  {
   "cell_type": "markdown",
   "id": "7c9a1c91-bfd1-4ad0-90ad-60d4dc4a3d9c",
   "metadata": {},
   "source": [
    "Suppose that we have a variable x; it can only store one item at a time."
   ]
  },
  {
   "cell_type": "code",
   "execution_count": 1,
   "id": "a32e4048-c42a-4db7-8689-2cec59e31fce",
   "metadata": {},
   "outputs": [],
   "source": [
    "let x = 10;"
   ]
  },
  {
   "cell_type": "markdown",
   "id": "de73cce1-6d9e-4a51-8586-f3531049284b",
   "metadata": {},
   "source": [
    "In this case we use array.\n",
    "\n",
    "`Array:` array is a conatiner of multiple values which may have multiple data types.It works in sequentional manner, it means every element will have its own position from where we can access it.\n",
    "\n",
    "`Array element position:` element position is called `index` number which starts form 0 and ends at n-1 number, where n is the length of the array."
   ]
  },
  {
   "cell_type": "markdown",
   "id": "477805a6-790e-4b0e-bfdd-0c971f49710b",
   "metadata": {},
   "source": [
    "```js\n",
    "    let arr = [1,2,3,\"hello\",'jeloo', true, false, 3.5, null, undefined]\n",
    "```"
   ]
  },
  {
   "cell_type": "code",
   "execution_count": 15,
   "id": "2b3c68e7-dda5-430c-9dca-f5498cc3820f",
   "metadata": {},
   "outputs": [
    {
     "ename": "SyntaxError",
     "evalue": "Identifier 'arr' has already been declared",
     "execution_count": 15,
     "output_type": "error",
     "traceback": [
      "evalmachine.<anonymous>:1",
      "let arr = [1,2,3,\"hello\",'jeloo', true, false, 3.5, null, undefined]",
      "^",
      "",
      "SyntaxError: Identifier 'arr' has already been declared",
      "    at Script.runInThisContext (node:vm:129:12)",
      "    at Object.runInThisContext (node:vm:313:38)",
      "    at run ([eval]:1020:15)",
      "    at onRunRequest ([eval]:864:18)",
      "    at onMessage ([eval]:828:13)",
      "    at process.emit (node:events:513:28)",
      "    at emit (node:internal/child_process:939:14)",
      "    at processTicksAndRejections (node:internal/process/task_queues:84:21)"
     ]
    }
   ],
   "source": [
    "let arr = [1,2,3,\"hello\",'jeloo', true, false, 3.5, null, undefined]"
   ]
  },
  {
   "cell_type": "code",
   "execution_count": 33,
   "id": "a2a04c56-902e-4fee-9157-270591ed9b2b",
   "metadata": {},
   "outputs": [
    {
     "data": {
      "text/plain": [
       "[\n",
       "  1,       2,\n",
       "  3,       'hello',\n",
       "  'jeloo', true,\n",
       "  false,   3.5,\n",
       "  null,    undefined\n",
       "]"
      ]
     },
     "execution_count": 33,
     "metadata": {},
     "output_type": "execute_result"
    }
   ],
   "source": [
    "arr = [1,2,3,\"hello\",'jeloo', true, false, 3.5, null, undefined]"
   ]
  },
  {
   "cell_type": "code",
   "execution_count": 34,
   "id": "52d7970c-7749-40bb-9d5b-be23c485c444",
   "metadata": {},
   "outputs": [
    {
     "data": {
      "text/plain": [
       "[\n",
       "  1,       2,\n",
       "  3,       'hello',\n",
       "  'jeloo', true,\n",
       "  false,   3.5,\n",
       "  null,    undefined\n",
       "]"
      ]
     },
     "execution_count": 34,
     "metadata": {},
     "output_type": "execute_result"
    }
   ],
   "source": [
    "arr"
   ]
  },
  {
   "cell_type": "code",
   "execution_count": 35,
   "id": "324767dd-e518-433f-ba83-dc98667a87a2",
   "metadata": {},
   "outputs": [
    {
     "data": {
      "text/plain": [
       "'object'"
      ]
     },
     "execution_count": 35,
     "metadata": {},
     "output_type": "execute_result"
    }
   ],
   "source": [
    "typeof(arr)"
   ]
  },
  {
   "cell_type": "markdown",
   "id": "ed12eef4-76fb-4ffb-ae3d-474e323c626a",
   "metadata": {},
   "source": [
    "**Accessing array element**\n",
    "\n",
    "We can access array element if it is in the range, by using `[]-subscript`, we need to pass the index number in tese brackets to access that element."
   ]
  },
  {
   "cell_type": "code",
   "execution_count": 36,
   "id": "8a927efc-d549-40f9-80a3-b6fbc9b9a4bb",
   "metadata": {},
   "outputs": [
    {
     "data": {
      "text/plain": [
       "[\n",
       "  1,       2,\n",
       "  3,       'hello',\n",
       "  'jeloo', true,\n",
       "  false,   3.5,\n",
       "  null,    undefined\n",
       "]"
      ]
     },
     "execution_count": 36,
     "metadata": {},
     "output_type": "execute_result"
    }
   ],
   "source": [
    "arr"
   ]
  },
  {
   "cell_type": "code",
   "execution_count": 37,
   "id": "627e21eb-5221-4f42-899a-d65e3d03754a",
   "metadata": {},
   "outputs": [
    {
     "data": {
      "text/plain": [
       "'hello'"
      ]
     },
     "execution_count": 37,
     "metadata": {},
     "output_type": "execute_result"
    }
   ],
   "source": [
    "arr[3]"
   ]
  },
  {
   "cell_type": "code",
   "execution_count": 38,
   "id": "6b53cd84-89bf-4d7f-83b6-a5c8f5aca3b0",
   "metadata": {},
   "outputs": [
    {
     "data": {
      "text/plain": [
       "'jeloo'"
      ]
     },
     "execution_count": 38,
     "metadata": {},
     "output_type": "execute_result"
    }
   ],
   "source": [
    "arr[4]"
   ]
  },
  {
   "cell_type": "markdown",
   "id": "81d380f4-893a-455f-8629-a1baa9b1b605",
   "metadata": {},
   "source": [
    "**alternative to access element by using the index number**"
   ]
  },
  {
   "cell_type": "code",
   "execution_count": 39,
   "id": "546f47ec-2453-4db5-81d8-854d2f654bc7",
   "metadata": {},
   "outputs": [
    {
     "data": {
      "text/plain": [
       "'hello'"
      ]
     },
     "execution_count": 39,
     "metadata": {},
     "output_type": "execute_result"
    }
   ],
   "source": [
    "arr.at(3)"
   ]
  },
  {
   "cell_type": "markdown",
   "id": "c1c20cdd-40cf-4b90-af8b-c0f586e7bad2",
   "metadata": {},
   "source": [
    "**indexOf() method of array**\n",
    "\n",
    "what is we don't have the index number of the element, then we need to use the `indexOf()` method on array."
   ]
  },
  {
   "cell_type": "code",
   "execution_count": 40,
   "id": "c70a400e-c1a5-4f9b-97b4-f8ab482c9be2",
   "metadata": {},
   "outputs": [
    {
     "data": {
      "text/plain": [
       "7"
      ]
     },
     "execution_count": 40,
     "metadata": {},
     "output_type": "execute_result"
    }
   ],
   "source": [
    "arr.indexOf(3.5)"
   ]
  },
  {
   "cell_type": "code",
   "execution_count": 41,
   "id": "98a053d2-c2fe-47ff-b81f-232880b96285",
   "metadata": {},
   "outputs": [
    {
     "data": {
      "text/plain": [
       "-1"
      ]
     },
     "execution_count": 41,
     "metadata": {},
     "output_type": "execute_result"
    }
   ],
   "source": [
    "arr.indexOf('3.5')"
   ]
  },
  {
   "cell_type": "code",
   "execution_count": 42,
   "id": "a6ae282d-5695-483a-a31d-253808e38330",
   "metadata": {},
   "outputs": [
    {
     "ename": "SyntaxError",
     "evalue": "Unexpected end of input",
     "execution_count": 42,
     "output_type": "error",
     "traceback": [
      "evalmachine.<anonymous>:1",
      "arr.",
      "    ",
      "",
      "SyntaxError: Unexpected end of input",
      "    at new Script (node:vm:100:7)",
      "    at createScript (node:vm:265:10)",
      "    at Object.runInThisContext (node:vm:313:10)",
      "    at run ([eval]:1020:15)",
      "    at onRunRequest ([eval]:864:18)",
      "    at onMessage ([eval]:828:13)",
      "    at process.emit (node:events:513:28)",
      "    at emit (node:internal/child_process:939:14)",
      "    at processTicksAndRejections (node:internal/process/task_queues:84:21)"
     ]
    }
   ],
   "source": [
    "arr."
   ]
  },
  {
   "cell_type": "markdown",
   "id": "f8bc9b87-9c7d-4f27-991e-83569d290cc3",
   "metadata": {},
   "source": [
    "Note: `at()` and `indexOf()` both are method of array.\n",
    "\n",
    "`at():` it will return the element values.\n",
    "\n",
    "`indexOf():` it will return the element index number.\n",
    "\n",
    "`Note:` \n",
    "\n",
    "   -> some method modify the array,\\\n",
    "   -> some method return something, \\\n",
    "   -> some method return the copy of the modified or asked array,\\\n",
    "   -> or some method don't return any thing."
   ]
  },
  {
   "cell_type": "markdown",
   "id": "3a87920f-1e31-4f37-b5c1-bed06899feb1",
   "metadata": {},
   "source": [
    "##### pop(), push()\n",
    "\n",
    "`pop():` it will remove/delete an element form the last index of the array by default, also it will return the removed/deleted values.\n",
    "\n",
    "`push():` it add and element at the end of the array by default."
   ]
  },
  {
   "cell_type": "code",
   "execution_count": 43,
   "id": "7aaf8e65-9a19-4a96-bf78-6e452fa920df",
   "metadata": {},
   "outputs": [
    {
     "data": {
      "text/plain": [
       "[\n",
       "  1,       2,\n",
       "  3,       'hello',\n",
       "  'jeloo', true,\n",
       "  false,   3.5,\n",
       "  null,    undefined\n",
       "]"
      ]
     },
     "execution_count": 43,
     "metadata": {},
     "output_type": "execute_result"
    }
   ],
   "source": [
    "arr"
   ]
  },
  {
   "cell_type": "code",
   "execution_count": 44,
   "id": "893feab9-81b1-42ac-b201-03688bb38a8b",
   "metadata": {},
   "outputs": [],
   "source": [
    "// removing the last element from the array.\n",
    "arr.pop() // removing undefined will not show any thing"
   ]
  },
  {
   "cell_type": "code",
   "execution_count": 45,
   "id": "b7081c84-c9b6-494a-9bcf-171f5ef13e14",
   "metadata": {},
   "outputs": [
    {
     "data": {
      "text/plain": [
       "null"
      ]
     },
     "execution_count": 45,
     "metadata": {},
     "output_type": "execute_result"
    }
   ],
   "source": [
    "arr.pop() // removing null value"
   ]
  },
  {
   "cell_type": "code",
   "execution_count": 46,
   "id": "e6331823-46e8-486d-b786-ff2f9be95a3c",
   "metadata": {},
   "outputs": [
    {
     "data": {
      "text/plain": [
       "false"
      ]
     },
     "execution_count": 46,
     "metadata": {},
     "output_type": "execute_result"
    }
   ],
   "source": [
    "// // after removing last 2 element, checking the array.\n",
    "arr.pop() // removing 3.5\n",
    "arr.pop() // removing false\n",
    "\n",
    "// Note: it will not display the 3.5 since we are not using console.log() to display the output."
   ]
  },
  {
   "cell_type": "code",
   "execution_count": 47,
   "id": "ffabf4d0-edc8-4bfc-b405-f0662f7764ba",
   "metadata": {},
   "outputs": [
    {
     "data": {
      "text/plain": [
       "[ 1, 2, 3, 'hello', 'jeloo', true ]"
      ]
     },
     "execution_count": 47,
     "metadata": {},
     "output_type": "execute_result"
    }
   ],
   "source": [
    "arr"
   ]
  },
  {
   "cell_type": "code",
   "execution_count": 48,
   "id": "81c35833-87c3-4eee-9551-9c55208df9cb",
   "metadata": {},
   "outputs": [
    {
     "name": "stdout",
     "output_type": "stream",
     "text": [
      "true\n",
      "jeloo\n"
     ]
    }
   ],
   "source": [
    "\n",
    "console.log(arr.pop()) // removing true\n",
    "console.log(arr.pop()) // removing jello"
   ]
  },
  {
   "cell_type": "code",
   "execution_count": 50,
   "id": "55236582-ccd5-4795-94e4-11268cb5154b",
   "metadata": {},
   "outputs": [
    {
     "data": {
      "text/plain": [
       "[ 1, 2, 3, 'hello' ]"
      ]
     },
     "execution_count": 50,
     "metadata": {},
     "output_type": "execute_result"
    }
   ],
   "source": [
    "arr"
   ]
  },
  {
   "cell_type": "markdown",
   "id": "28d18000-3442-4bb9-adac-06339f91f334",
   "metadata": {},
   "source": [
    "**push() method on array**"
   ]
  },
  {
   "cell_type": "code",
   "execution_count": 51,
   "id": "129b62d2-2166-4704-a46b-8497b15e4b3b",
   "metadata": {},
   "outputs": [
    {
     "data": {
      "text/plain": [
       "5"
      ]
     },
     "execution_count": 51,
     "metadata": {},
     "output_type": "execute_result"
    }
   ],
   "source": [
    "// it works opposite to the pop method, it add the element at the end of the array.\n",
    "arr.push(\"suraj420\");"
   ]
  },
  {
   "cell_type": "code",
   "execution_count": 52,
   "id": "59a09c61-9eb9-4317-9844-6e3136892f9b",
   "metadata": {},
   "outputs": [
    {
     "data": {
      "text/plain": [
       "5"
      ]
     },
     "execution_count": 52,
     "metadata": {},
     "output_type": "execute_result"
    }
   ],
   "source": [
    "arr.length"
   ]
  },
  {
   "cell_type": "code",
   "execution_count": 53,
   "id": "3045378e-eaa8-4340-95dd-71c172aa1009",
   "metadata": {},
   "outputs": [
    {
     "data": {
      "text/plain": [
       "[ 1, 2, 3, 'hello', 'suraj420' ]"
      ]
     },
     "execution_count": 53,
     "metadata": {},
     "output_type": "execute_result"
    }
   ],
   "source": [
    "arr"
   ]
  },
  {
   "cell_type": "markdown",
   "id": "5474e7f0-33b6-48db-916b-13c3f13fa762",
   "metadata": {},
   "source": [
    "**concat() method of array**"
   ]
  },
  {
   "cell_type": "code",
   "execution_count": 54,
   "id": "0cb13caf-cc14-49dd-b621-30dbd1b85c9b",
   "metadata": {},
   "outputs": [
    {
     "data": {
      "text/plain": [
       "[\n",
       "  1,          2,\n",
       "  3,          'hello',\n",
       "  'suraj420', 'narendra',\n",
       "  'Gotam',    'manish',\n",
       "  'suraj'\n",
       "]"
      ]
     },
     "execution_count": 54,
     "metadata": {},
     "output_type": "execute_result"
    }
   ],
   "source": [
    "arr.concat([\"narendra\",\"Gotam\",\"manish\",\"suraj\"])"
   ]
  },
  {
   "cell_type": "markdown",
   "id": "d4f550d0-bc9c-4bec-9d6e-52325a18508f",
   "metadata": {},
   "source": [
    "Note: it will return a modified copy of the `arr's` array."
   ]
  },
  {
   "cell_type": "code",
   "execution_count": 56,
   "id": "255fd23b-4248-47f1-89c6-87a77064a344",
   "metadata": {},
   "outputs": [
    {
     "data": {
      "text/plain": [
       "[ 1, 2, 3, 'hello', 'suraj420' ]"
      ]
     },
     "execution_count": 56,
     "metadata": {},
     "output_type": "execute_result"
    }
   ],
   "source": [
    "arr"
   ]
  },
  {
   "cell_type": "markdown",
   "id": "a21729e7-9315-4ee7-aa2f-9adf1c853964",
   "metadata": {},
   "source": [
    "**fill() method of array**"
   ]
  },
  {
   "cell_type": "code",
   "execution_count": 57,
   "id": "459b87a5-23de-4e56-8f5d-682a8572b302",
   "metadata": {},
   "outputs": [
    {
     "data": {
      "text/plain": [
       "[ 1, 2, 3, 'hello', 'suraj420' ]"
      ]
     },
     "execution_count": 57,
     "metadata": {},
     "output_type": "execute_result"
    }
   ],
   "source": [
    "arr"
   ]
  },
  {
   "cell_type": "markdown",
   "id": "171dc194-edee-45c6-94b3-e788b4e03d90",
   "metadata": {},
   "source": [
    "```js\n",
    "    arr.fill(value,startIndex, endIndex);\n",
    "\n",
    "    /** \n",
    "     @param::value: the value which need to be placed in the array at specified positions.\n",
    "     \n",
    "     @param::strantIndex: strating point/position from where we should strart our filling operation.\n",
    "     \n",
    "     @param::endIndex: end point/position at where we should stop our filling operation, endIndex + 1;\n",
    "    */\n",
    "```"
   ]
  },
  {
   "cell_type": "code",
   "execution_count": 61,
   "id": "fae92fd0-8944-4f4a-8e75-c0ca14889d80",
   "metadata": {},
   "outputs": [
    {
     "data": {
      "text/plain": [
       "[ 1, '0X0', '0X0', '0X0', 'suraj420' ]"
      ]
     },
     "execution_count": 61,
     "metadata": {},
     "output_type": "execute_result"
    }
   ],
   "source": [
    "arr.fill(\"0X0\", 1,3+1)"
   ]
  },
  {
   "cell_type": "code",
   "execution_count": 62,
   "id": "229d9775-7eee-4a1d-8ec6-cfae94417f6c",
   "metadata": {},
   "outputs": [
    {
     "data": {
      "text/plain": [
       "[ 'style1', 'style2', 'style3', 'style4' ]"
      ]
     },
     "execution_count": 62,
     "metadata": {},
     "output_type": "execute_result"
    }
   ],
   "source": [
    "arr2 = [\"element1\", \"element2\", \"element3\" , \"element4\"]\n",
    "styles = [\"style1\", \"style2\", \"style3\", \"style4\"]"
   ]
  },
  {
   "cell_type": "code",
   "execution_count": 63,
   "id": "7344aab4-d49e-4ee6-95c7-62a160af1759",
   "metadata": {},
   "outputs": [
    {
     "name": "stdout",
     "output_type": "stream",
     "text": [
      "element1\n",
      "style1\n"
     ]
    }
   ],
   "source": [
    "console.log(arr2[0])\n",
    "console.log(styles[0])"
   ]
  },
  {
   "cell_type": "code",
   "execution_count": 66,
   "id": "a81a2962-724c-46f9-8299-73e6ea5d12ef",
   "metadata": {},
   "outputs": [
    {
     "name": "stdout",
     "output_type": "stream",
     "text": [
      "element1 is mapped to ----> style1\n",
      "element2 is mapped to ----> style2\n",
      "element3 is mapped to ----> style3\n",
      "element4 is mapped to ----> style4\n"
     ]
    }
   ],
   "source": [
    "for(let i=0; i<4;i++){\n",
    "    console.log(`${arr2[i]} is mapped to ----> ${styles[i]}`)\n",
    "}"
   ]
  },
  {
   "cell_type": "code",
   "execution_count": 67,
   "id": "5fc5e301-5155-4065-a411-51637815dc7e",
   "metadata": {},
   "outputs": [
    {
     "data": {
      "text/plain": [
       "[ 'newStyle', 'newStyle', 'newStyle', 'newStyle' ]"
      ]
     },
     "execution_count": 67,
     "metadata": {},
     "output_type": "execute_result"
    }
   ],
   "source": [
    "styles.fill(\"newStyle\")"
   ]
  },
  {
   "cell_type": "code",
   "execution_count": 68,
   "id": "fc9781b7-62a4-499f-8d90-038fdcc47810",
   "metadata": {},
   "outputs": [
    {
     "name": "stdout",
     "output_type": "stream",
     "text": [
      "element1 is mapped to ----> newStyle\n",
      "element2 is mapped to ----> newStyle\n",
      "element3 is mapped to ----> newStyle\n",
      "element4 is mapped to ----> newStyle\n"
     ]
    }
   ],
   "source": [
    "for(let i=0; i<4;i++){\n",
    "    console.log(`${arr2[i]} is mapped to ----> ${styles[i]}`)\n",
    "}"
   ]
  },
  {
   "cell_type": "code",
   "execution_count": null,
   "id": "4301271c-d8f0-48ed-9a5e-e58f3a677203",
   "metadata": {},
   "outputs": [],
   "source": []
  }
 ],
 "metadata": {
  "kernelspec": {
   "display_name": "JavaScript (Node.js)",
   "language": "javascript",
   "name": "javascript"
  },
  "language_info": {
   "file_extension": ".js",
   "mimetype": "application/javascript",
   "name": "javascript",
   "version": "16.17.0"
  }
 },
 "nbformat": 4,
 "nbformat_minor": 5
}
