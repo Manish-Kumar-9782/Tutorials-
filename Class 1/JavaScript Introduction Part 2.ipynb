{
 "cells": [
  {
   "cell_type": "markdown",
   "id": "07f4a643-730c-47f0-8093-051755487486",
   "metadata": {},
   "source": [
    "# JavaScript Introduction Part 2"
   ]
  },
  {
   "cell_type": "code",
   "execution_count": null,
   "id": "d3efc941-7eee-4cb8-a7a1-0b94dfcb35db",
   "metadata": {},
   "outputs": [],
   "source": []
  }
 ],
 "metadata": {
  "kernelspec": {
   "display_name": "JavaScript (Node.js)",
   "language": "javascript",
   "name": "javascript"
  },
  "language_info": {
   "file_extension": ".js",
   "mimetype": "application/javascript",
   "name": "javascript",
   "version": "16.17.0"
  }
 },
 "nbformat": 4,
 "nbformat_minor": 5
}
