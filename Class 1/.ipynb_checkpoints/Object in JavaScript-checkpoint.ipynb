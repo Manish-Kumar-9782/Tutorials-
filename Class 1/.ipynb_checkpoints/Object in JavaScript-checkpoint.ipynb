{
 "cells": [
  {
   "cell_type": "markdown",
   "id": "75ce7210-2fcf-48f1-bbca-357cacc67a67",
   "metadata": {},
   "source": [
    "# Object in JavaScript\n",
    "\n",
    "Object are basic data structure to maintain the relation b/w the data and its behavior (method), An object is the representation of individual block of data in memory which may contain many properties or methods.\n",
    "\n",
    "Each object is isolated to another object.\n",
    "\n",
    "We can access the data memeber of method by using the `.` memeber operator."
   ]
  },
  {
   "cell_type": "markdown",
   "id": "0ddbcbfe-df8d-49fb-a16b-e97d46695527",
   "metadata": {},
   "source": [
    "To make an object we need to follow some rule.\n",
    "\n",
    "1. create a variable if not already made.\n",
    "2. assigen the `{};` block to that variable.\n",
    "3. define some properities inside that block.\n",
    "4. each property is separated with` ','`."
   ]
  },
  {
   "cell_type": "code",
   "execution_count": 4,
   "id": "39b56b80-f742-41d3-b8c3-072bac031c39",
   "metadata": {},
   "outputs": [
    {
     "data": {
      "text/plain": [
       "{ name: 'Gotam', age: 20, height: 5.7 }"
      ]
     },
     "execution_count": 4,
     "metadata": {},
     "output_type": "execute_result"
    }
   ],
   "source": [
    "Student = {\n",
    "    name: \"Gotam\",\n",
    "    age: 20,\n",
    "    height: 5.7\n",
    "};"
   ]
  },
  {
   "cell_type": "code",
   "execution_count": 5,
   "id": "042fda56-093e-487b-9932-fc25c8ae27e0",
   "metadata": {},
   "outputs": [],
   "source": [
    "// Note: here we need to make the items in key:vlaue pairs.\n",
    "\n",
    "let Studentx = {\n",
    "    name: \"Gotam\",\n",
    "    age: 20,\n",
    "    height : 5.7\n",
    "};"
   ]
  },
  {
   "cell_type": "code",
   "execution_count": 6,
   "id": "f43056e6-61db-41f7-b8d4-808f2bc759ab",
   "metadata": {},
   "outputs": [
    {
     "data": {
      "text/plain": [
       "'object'"
      ]
     },
     "execution_count": 6,
     "metadata": {},
     "output_type": "execute_result"
    }
   ],
   "source": [
    "typeof Student"
   ]
  },
  {
   "cell_type": "code",
   "execution_count": 7,
   "id": "a94fb4cf-1088-4cca-a2f1-a418b53ee20a",
   "metadata": {},
   "outputs": [
    {
     "data": {
      "text/plain": [
       "'object'"
      ]
     },
     "execution_count": 7,
     "metadata": {},
     "output_type": "execute_result"
    }
   ],
   "source": [
    "typeof Studentx"
   ]
  },
  {
   "cell_type": "code",
   "execution_count": 8,
   "id": "351fd0f8-62e1-4290-b63e-ef99e532d5b5",
   "metadata": {},
   "outputs": [
    {
     "data": {
      "text/plain": [
       "'Gotam'"
      ]
     },
     "execution_count": 8,
     "metadata": {},
     "output_type": "execute_result"
    }
   ],
   "source": [
    "Student[\"name\"]"
   ]
  },
  {
   "cell_type": "code",
   "execution_count": 10,
   "id": "f566a23b-3da0-4cb4-b8c6-16e40d023f8a",
   "metadata": {},
   "outputs": [
    {
     "data": {
      "text/plain": [
       "'Gotam'"
      ]
     },
     "execution_count": 10,
     "metadata": {},
     "output_type": "execute_result"
    }
   ],
   "source": [
    "Student.name"
   ]
  },
  {
   "cell_type": "markdown",
   "id": "e926e8ce-501b-40b1-ac57-a17c64fcb083",
   "metadata": {},
   "source": [
    "Note: we can access the values by using the key with `[\"keyname\"]` or with `.keyname` member operator."
   ]
  },
  {
   "cell_type": "code",
   "execution_count": 11,
   "id": "d40e5d02-bcce-420d-b53f-b1c6f9169b12",
   "metadata": {},
   "outputs": [],
   "source": [
    "let Studenty = {\n",
    "    name: \"Narendra\",\n",
    "    age: 22,\n",
    "    height : 5.6\n",
    "};\n",
    "\n",
    "let Studentz = {\n",
    "    name: \"Suraj\",\n",
    "    age: 21,\n",
    "    height : 5.8\n",
    "};"
   ]
  },
  {
   "cell_type": "code",
   "execution_count": 12,
   "id": "d36096f9-7adf-4bee-9b2c-4046294632b1",
   "metadata": {},
   "outputs": [],
   "source": [
    "let students = [Studentx, Studenty, Studentz]"
   ]
  },
  {
   "cell_type": "code",
   "execution_count": 13,
   "id": "17fe3cf2-bf87-4bef-81b5-b1810a31dec7",
   "metadata": {},
   "outputs": [
    {
     "data": {
      "text/plain": [
       "[\n",
       "  { name: 'Gotam', age: 20, height: 5.7 },\n",
       "  { name: 'Narendra', age: 22, height: 5.6 },\n",
       "  { name: 'Suraj', age: 21, height: 5.8 }\n",
       "]"
      ]
     },
     "execution_count": 13,
     "metadata": {},
     "output_type": "execute_result"
    }
   ],
   "source": [
    "students"
   ]
  },
  {
   "cell_type": "code",
   "execution_count": 30,
   "id": "925adde3-2300-4029-8c29-29f7693e195d",
   "metadata": {},
   "outputs": [
    {
     "name": "stdout",
     "output_type": "stream",
     "text": [
      "Name\t\tAge\t\tHeight\n",
      "Gotam\t\t20\t\t5.7\n",
      "Narendra\t\t22\t\t5.6\n",
      "Suraj\t\t21\t\t5.8\n"
     ]
    }
   ],
   "source": [
    "console.log(\"Name\\t\\tAge\\t\\tHeight\")  // \\t : tab to make some space  \n",
    "// for( couter initialization; termination condition; counter increment){body block.};\n",
    "for(let i =0; i<students.length; i++){\n",
    "    // console.log(\"Name\\t\\tAge\\t\\tHeight\") \n",
    "    studenT = students[i]\n",
    "    console.log(`${studenT.name}\\t\\t${studenT.age}\\t\\t${studenT.height}`)\n",
    "    // console.log(studenT.name +\"\\t\\t\" + studenT.age + \"\\t\" + studenT.height)\n",
    "}"
   ]
  },
  {
   "cell_type": "code",
   "execution_count": 31,
   "id": "049db2dd-3337-4b7d-8872-07b01a0864d9",
   "metadata": {},
   "outputs": [
    {
     "data": {
      "text/plain": [
       "{\n",
       "  name: 'Suraj 420',\n",
       "  age: 21,\n",
       "  height: 5.8,\n",
       "  show_info: [Function: show_info]\n",
       "}"
      ]
     },
     "execution_count": 31,
     "metadata": {},
     "output_type": "execute_result"
    }
   ],
   "source": [
    "Studentx = {\n",
    "    name: \"Gotam Singh\",\n",
    "    age: 20,\n",
    "    height: 5.7,\n",
    "    show_info: function(){\n",
    "        console.log(`${this.name}\\t\\t${this.age}\\t\\t${this.height}`)\n",
    "    } \n",
    "};\n",
    "\n",
    "Studenty = {\n",
    "    name: \"Narendra\",\n",
    "    age: 22,\n",
    "    height: 5.7,\n",
    "    show_info: function(){\n",
    "        console.log(`${this.name}\\t\\t${this.age}\\t\\t${this.height}`)\n",
    "    } \n",
    "};\n",
    "\n",
    "Studentz = {\n",
    "    name: \"Suraj 420\",\n",
    "    age: 21,\n",
    "    height: 5.8,\n",
    "    show_info: function(){\n",
    "        console.log(`${this.name}\\t\\t${this.age}\\t\\t${this.height}`)\n",
    "    } \n",
    "};"
   ]
  },
  {
   "cell_type": "code",
   "execution_count": 32,
   "id": "0e661cbc-bf47-4292-acb4-958ed37d5e33",
   "metadata": {},
   "outputs": [
    {
     "data": {
      "text/plain": [
       "[\n",
       "  {\n",
       "    name: 'Gotam Singh',\n",
       "    age: 20,\n",
       "    height: 5.7,\n",
       "    show_info: [Function: show_info]\n",
       "  },\n",
       "  {\n",
       "    name: 'Narendra',\n",
       "    age: 22,\n",
       "    height: 5.7,\n",
       "    show_info: [Function: show_info]\n",
       "  },\n",
       "  {\n",
       "    name: 'Suraj 420',\n",
       "    age: 21,\n",
       "    height: 5.8,\n",
       "    show_info: [Function: show_info]\n",
       "  }\n",
       "]"
      ]
     },
     "execution_count": 32,
     "metadata": {},
     "output_type": "execute_result"
    }
   ],
   "source": [
    "students = [Studentx, Studenty, Studentz]"
   ]
  },
  {
   "cell_type": "code",
   "execution_count": 37,
   "id": "ff140386-68ec-4bb5-9655-b4d2b54c8567",
   "metadata": {},
   "outputs": [
    {
     "name": "stdout",
     "output_type": "stream",
     "text": [
      "Name\t\t\tAge\t\tHeight\n",
      "Gotam Singh\t\t20\t\t5.7\n",
      "Narendra\t\t22\t\t5.7\n",
      "Suraj 420\t\t21\t\t5.8\n"
     ]
    }
   ],
   "source": [
    "console.log(\"Name\\t\\t\\tAge\\t\\tHeight\")  // \\t : tab to make some space  \n",
    "// for( couter initialization; termination condition; counter increment){body block.};\n",
    "for(let i =0; i<students.length; i++){\n",
    "    // console.log(\"Name\\t\\tAge\\t\\tHeight\") \n",
    "    studenT = students[i]\n",
    "    studenT.show_info()\n",
    "    // console.log(studenT.name +\"\\t\\t\" + studenT.age + \"\\t\" + studenT.height)\n",
    "}"
   ]
  },
  {
   "cell_type": "code",
   "execution_count": null,
   "id": "b98d5f09-1abf-4e3f-8043-644f2dac00d8",
   "metadata": {},
   "outputs": [],
   "source": []
  }
 ],
 "metadata": {
  "kernelspec": {
   "display_name": "JavaScript (Node.js)",
   "language": "javascript",
   "name": "javascript"
  },
  "language_info": {
   "file_extension": ".js",
   "mimetype": "application/javascript",
   "name": "javascript",
   "version": "16.17.0"
  }
 },
 "nbformat": 4,
 "nbformat_minor": 5
}
