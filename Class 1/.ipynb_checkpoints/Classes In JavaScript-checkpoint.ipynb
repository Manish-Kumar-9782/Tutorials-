{
 "cells": [
  {
   "cell_type": "markdown",
   "id": "de74156f-a327-4ad7-b3a9-4abe9dfb441c",
   "metadata": {},
   "source": [
    "# Classes in JavaScript"
   ]
  },
  {
   "cell_type": "markdown",
   "id": "5a3b5c55-0b2f-45e9-a793-05d2a599f8fe",
   "metadata": {},
   "source": [
    "```js\n",
    "    class <class_name>{\n",
    "        // class body, constructor+property, methods.\n",
    "    }\n",
    "```"
   ]
  },
  {
   "cell_type": "code",
   "execution_count": null,
   "id": "9fe5cf23-ace6-42c0-9614-b23b6393c31e",
   "metadata": {},
   "outputs": [],
   "source": [
    "class Person{\n",
    "    \n",
    "    // to handle the process of making the object of class Person.\n",
    "    constructor(){\n",
    "        // constructor is special funciton which does not have function keyword \n",
    "        // as prefix \n",
    "        \n",
    "        console.log(\"Constructor is called, one object made of Person Class.\");\n",
    "        \n",
    "        // Note it does not return any thing.\n",
    "    }\n",
    "}"
   ]
  },
  {
   "cell_type": "code",
   "execution_count": null,
   "id": "b0823dee-6ac9-4f3e-a235-b19cbc47381e",
   "metadata": {},
   "outputs": [],
   "source": [
    "new Person(); // making an object of Person, it will call constructor"
   ]
  },
  {
   "cell_type": "markdown",
   "id": "60c64d2b-aa37-4802-b628-292fcef2b105",
   "metadata": {},
   "source": [
    "Now we need to store the object in a variable to work on it."
   ]
  },
  {
   "cell_type": "code",
   "execution_count": null,
   "id": "4389c936-88c9-4f09-9c64-2bcd04770297",
   "metadata": {},
   "outputs": [],
   "source": [
    "let man = new Person();"
   ]
  },
  {
   "cell_type": "code",
   "execution_count": null,
   "id": "5a60653a-f0fe-484e-bb39-225d9c77f7ca",
   "metadata": {},
   "outputs": [],
   "source": [
    "man"
   ]
  },
  {
   "cell_type": "markdown",
   "id": "3e740364-4deb-4055-a503-bb7ac7c0579f",
   "metadata": {},
   "source": [
    "**adding more details in our Person Class**"
   ]
  },
  {
   "cell_type": "code",
   "execution_count": 1,
   "id": "480ffb0f-1f51-4367-aece-b9e588ae0bb7",
   "metadata": {},
   "outputs": [],
   "source": [
    "class Person{\n",
    "    constructor(){\n",
    "        // console.log(\"Constructor is called, one object made of Person Class.\");\n",
    "        this.name;\n",
    "        this.age;\n",
    "        this.height;\n",
    "        this.bloodgroup;\n",
    "    }\n",
    "}"
   ]
  },
  {
   "cell_type": "code",
   "execution_count": 2,
   "id": "26d0e6b6-ee04-4e34-938f-13ae9bb0a10e",
   "metadata": {},
   "outputs": [],
   "source": [
    "let man = new Person();"
   ]
  },
  {
   "cell_type": "code",
   "execution_count": 3,
   "id": "296eb94a-b17e-4d20-9034-96746bfb3198",
   "metadata": {},
   "outputs": [
    {
     "data": {
      "text/plain": [
       "Person {}"
      ]
     },
     "execution_count": 3,
     "metadata": {},
     "output_type": "execute_result"
    }
   ],
   "source": [
    "man"
   ]
  },
  {
   "cell_type": "markdown",
   "id": "245fafbf-27a2-4aa0-b02c-cdd5702e43d2",
   "metadata": {},
   "source": [
    "Note: here in this case we have not assigned any value to our properties of Person class, that's why we are seeing the empty object."
   ]
  },
  {
   "cell_type": "code",
   "execution_count": 5,
   "id": "b23db370-f228-4621-9fb2-357a41023918",
   "metadata": {},
   "outputs": [],
   "source": [
    "class Person1{\n",
    "    // to make our constructor dynamic we need to make some parameters\n",
    "    // to hold the arguments.\n",
    "    constructor(name, age, height, bloodgroup){\n",
    "        // console.log(\"Constructor is called, one object made of Person Class.\");\n",
    "        this.name = name;\n",
    "        this.age = age;\n",
    "        this.height = height;\n",
    "        this.bloodgroup = bloodgroup;\n",
    "    }\n",
    "}"
   ]
  },
  {
   "cell_type": "code",
   "execution_count": 6,
   "id": "18416eae-8aa4-4321-ac4a-e0cff4ea9e21",
   "metadata": {},
   "outputs": [],
   "source": [
    "let man1 = new Person1(\"suraj\", 27, 5.7, \"AB+\");"
   ]
  },
  {
   "cell_type": "code",
   "execution_count": 7,
   "id": "2b126fa3-2eb6-4e65-ad31-83c3d9f38ab6",
   "metadata": {},
   "outputs": [
    {
     "data": {
      "text/plain": [
       "Person1 { name: 'suraj', age: 27, height: 5.7, bloodgroup: 'AB+' }"
      ]
     },
     "execution_count": 7,
     "metadata": {},
     "output_type": "execute_result"
    }
   ],
   "source": [
    "man1"
   ]
  },
  {
   "cell_type": "code",
   "execution_count": 9,
   "id": "3559e3d1-0df0-446b-b7ad-ee366061d243",
   "metadata": {},
   "outputs": [
    {
     "data": {
      "text/plain": [
       "Person1 { name: 'gotam', age: 20, height: 5.7, bloodgroup: 'B+' }"
      ]
     },
     "execution_count": 9,
     "metadata": {},
     "output_type": "execute_result"
    }
   ],
   "source": [
    "man2 = new Person1(\"gotam\", 20, 5.7, \"B+\");"
   ]
  },
  {
   "cell_type": "code",
   "execution_count": 10,
   "id": "1f59cc22-2221-44f0-a59f-f9661df7d717",
   "metadata": {},
   "outputs": [
    {
     "data": {
      "text/plain": [
       "Person1 { name: 'gotam', age: 20, height: 5.7, bloodgroup: 'B+' }"
      ]
     },
     "execution_count": 10,
     "metadata": {},
     "output_type": "execute_result"
    }
   ],
   "source": [
    "man2"
   ]
  },
  {
   "cell_type": "markdown",
   "id": "a5f9a41d-ff0d-46de-b5de-33de2de701c8",
   "metadata": {},
   "source": [
    "**adding some functionality to the Person class**"
   ]
  },
  {
   "cell_type": "code",
   "execution_count": 13,
   "id": "44b66fd6-a701-48f9-bf2f-4854105b8fc4",
   "metadata": {},
   "outputs": [],
   "source": [
    "class Person2{\n",
    "    // to make our constructor dynamic we need to make some parameters\n",
    "    // to hold the arguments.\n",
    "    constructor(name, age, height, bloodgroup){\n",
    "        // console.log(\"Constructor is called, one object made of Person Class.\");\n",
    "        this.name = name;\n",
    "        this.age = age;\n",
    "        this.height = height;\n",
    "        this.bloodgroup = bloodgroup;\n",
    "    }\n",
    "    \n",
    "    // Now we will make a function to show the info\n",
    "    \n",
    "    show_info(){\n",
    "        console.log(`Name:\\t${this.name}`)\n",
    "        console.log(`Age:\\t${this.age}`)\n",
    "        console.log(`Height:\\t${this.height}`)\n",
    "        console.log(`BloodGroup:\\t${this.bloodgroup}`)\n",
    "    }\n",
    "}"
   ]
  },
  {
   "cell_type": "code",
   "execution_count": 14,
   "id": "6932c61e-e163-402c-a130-5f4841208a2a",
   "metadata": {},
   "outputs": [],
   "source": [
    "let xman = new Person2(\"gotam\", 20, 5.7, \"B+\")"
   ]
  },
  {
   "cell_type": "code",
   "execution_count": 15,
   "id": "857b2e4d-5adb-4e6e-84df-d83bbca13a83",
   "metadata": {},
   "outputs": [
    {
     "data": {
      "text/plain": [
       "Person2 { name: 'gotam', age: 20, height: 5.7, bloodgroup: 'B+' }"
      ]
     },
     "execution_count": 15,
     "metadata": {},
     "output_type": "execute_result"
    }
   ],
   "source": [
    "xman"
   ]
  },
  {
   "cell_type": "code",
   "execution_count": 16,
   "id": "b3b43fdd-52a5-46e5-8f1b-a5b51d8280eb",
   "metadata": {},
   "outputs": [
    {
     "name": "stdout",
     "output_type": "stream",
     "text": [
      "Name:\t\tgotam\n",
      "Name:\t\t20\n",
      "Name:\t\t5.7\n",
      "Name:\t\tB+\n"
     ]
    }
   ],
   "source": [
    "xman.show_info()"
   ]
  },
  {
   "cell_type": "code",
   "execution_count": null,
   "id": "11140f90-c0bf-473e-9dc3-e7f71d59639e",
   "metadata": {},
   "outputs": [],
   "source": []
  }
 ],
 "metadata": {
  "kernelspec": {
   "display_name": "JavaScript (Node.js)",
   "language": "javascript",
   "name": "javascript"
  },
  "language_info": {
   "file_extension": ".js",
   "mimetype": "application/javascript",
   "name": "javascript",
   "version": "16.17.0"
  }
 },
 "nbformat": 4,
 "nbformat_minor": 5
}
