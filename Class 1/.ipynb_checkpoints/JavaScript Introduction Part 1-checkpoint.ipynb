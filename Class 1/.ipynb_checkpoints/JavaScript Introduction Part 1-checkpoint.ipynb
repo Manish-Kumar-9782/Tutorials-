{
 "cells": [
  {
   "cell_type": "markdown",
   "id": "15f20854-6b9c-443a-9054-73c64c29b444",
   "metadata": {},
   "source": [
    "# JavaScript Introduction Part 1"
   ]
  },
  {
   "cell_type": "markdown",
   "id": "e8e7c39b-c89f-4911-bbdb-6f3fa4327c97",
   "metadata": {},
   "source": [
    "___"
   ]
  },
  {
   "cell_type": "markdown",
   "id": "06861e4d-11ab-4d3a-9a52-fabe4f15e6eb",
   "metadata": {},
   "source": [
    "## Operator in JavaScript\n",
    "\n",
    "1. Arithmatic Operators\n",
    "2. Assignment Operators\n",
    "3. Logical Operators\n",
    "4. Relational Opeartors\n",
    "5. Bitwise Operator\n",
    "6. Other Operators"
   ]
  },
  {
   "cell_type": "markdown",
   "id": "1cefe7aa-aadb-47c1-8cac-ca8cf7ea3338",
   "metadata": {},
   "source": [
    "### 1. Arithmatic Operators"
   ]
  },
  {
   "cell_type": "markdown",
   "id": "807e2ecf-c529-4c13-8114-feaff7ef6c4b",
   "metadata": {},
   "source": [
    "1. `+` plus operator\n",
    "2. `-` minus operator\n",
    "3. `*` multipy operator\n",
    "4. `/` divide operator\n",
    "5. `%` modulus operator\n",
    "\n",
    "-> Each operator may have different meaning and different operation with differnt kind of data types.\n",
    "\n",
    "-> They will work as math rules with numerical data types like Integer and Float.\n",
    "\n",
    "`Integers:` 1,2,3,4,5,6,5,6,7,4343,4,3435....n\\\n",
    "`Float:` 2.353, 35.343, 343.353, 6.4534\n",
    "\n",
    "-> all arithmatic operators are `binary operators` which will have two values. left and right values.\n",
    "left value is called as `lvalue` and right value called as `rvalue`"
   ]
  },
  {
   "cell_type": "markdown",
   "id": "b9b9ff9a-ad91-41df-bbf8-ef3fd37297f9",
   "metadata": {},
   "source": [
    "**`+` plus operator**"
   ]
  },
  {
   "cell_type": "code",
   "execution_count": 1,
   "id": "8f010ed6-e55f-4912-8b32-dcdb10a1a6ca",
   "metadata": {},
   "outputs": [],
   "source": [
    "// making two variable and adding them (Integers)\n",
    "let a = 10\n",
    "let b = 25"
   ]
  },
  {
   "cell_type": "code",
   "execution_count": 2,
   "id": "3b5e16d0-7736-49f0-9371-976ed007fef5",
   "metadata": {},
   "outputs": [
    {
     "data": {
      "text/plain": [
       "35"
      ]
     },
     "execution_count": 2,
     "metadata": {},
     "output_type": "execute_result"
    }
   ],
   "source": [
    "a + b"
   ]
  },
  {
   "cell_type": "markdown",
   "id": "67f08fd7-57b8-4426-8e8b-02a6079679bd",
   "metadata": {},
   "source": [
    "Result of add opertion with two numerical will be same as the math operation. remaining arithmatic operators works in the same way."
   ]
  },
  {
   "cell_type": "markdown",
   "id": "05497849-9264-4d47-9fdf-e081b73feda5",
   "metadata": {},
   "source": [
    "**`-` minus Operator**"
   ]
  },
  {
   "cell_type": "code",
   "execution_count": 4,
   "id": "2f32cccf-03fd-4b96-9f29-bd5123555388",
   "metadata": {},
   "outputs": [
    {
     "data": {
      "text/plain": [
       "-23"
      ]
     },
     "execution_count": 4,
     "metadata": {},
     "output_type": "execute_result"
    }
   ],
   "source": [
    "// subtractin a with b\n",
    "// Note: since a anb b are already made so we will only update them by assigning \n",
    "// some value by using the assignment operator.\n",
    "\n",
    "a = 45\n",
    "b = 68\n",
    "\n",
    "a - b"
   ]
  },
  {
   "cell_type": "code",
   "execution_count": 5,
   "id": "33728d15-10f3-4a16-a5ad-c685f8f7d27e",
   "metadata": {},
   "outputs": [
    {
     "data": {
      "text/plain": [
       "578"
      ]
     },
     "execution_count": 5,
     "metadata": {},
     "output_type": "execute_result"
    }
   ],
   "source": [
    "// subtracting\n",
    "a = 646\n",
    "b = 68\n",
    "a - b"
   ]
  },
  {
   "cell_type": "markdown",
   "id": "8b2f1ba7-f9c1-4d0a-aa12-7d75c3075a32",
   "metadata": {},
   "source": [
    "**`*` multiply opertor**"
   ]
  },
  {
   "cell_type": "code",
   "execution_count": 6,
   "id": "6b9c0d6d-e163-4340-8aff-b13ffc4e376a",
   "metadata": {},
   "outputs": [
    {
     "data": {
      "text/plain": [
       "200"
      ]
     },
     "execution_count": 6,
     "metadata": {},
     "output_type": "execute_result"
    }
   ],
   "source": [
    "// it will multipy left and right value as do in math.\n",
    "a = 10 \n",
    "b = 20\n",
    "a * b"
   ]
  },
  {
   "cell_type": "markdown",
   "id": "378e3544-193e-450a-9df7-0a474d9a9092",
   "metadata": {},
   "source": [
    "**`/` divide operator**"
   ]
  },
  {
   "cell_type": "code",
   "execution_count": 7,
   "id": "55917d26-4774-4c0a-84b2-c0562dd290ec",
   "metadata": {},
   "outputs": [
    {
     "data": {
      "text/plain": [
       "0.5"
      ]
     },
     "execution_count": 7,
     "metadata": {},
     "output_type": "execute_result"
    }
   ],
   "source": [
    "// it will divide the left value by right as do in math\n",
    "a = 10 \n",
    "b = 20\n",
    "a/b "
   ]
  },
  {
   "cell_type": "code",
   "execution_count": 8,
   "id": "7828cbf2-5182-48d8-9cf9-864a1cc5d55e",
   "metadata": {},
   "outputs": [
    {
     "data": {
      "text/plain": [
       "2"
      ]
     },
     "execution_count": 8,
     "metadata": {},
     "output_type": "execute_result"
    }
   ],
   "source": [
    "b/a"
   ]
  },
  {
   "cell_type": "markdown",
   "id": "4f4e0366-b350-4f1c-bcd2-724d1dbfd96d",
   "metadata": {},
   "source": [
    "**`%` modulus opertor**\n",
    "\n",
    "Note: modulus operator will return the remaining part of the divide operation. if a value is completly divided then it will return 0 else will return the remaining. \n",
    "\n",
    "-> if `lvalue` is less than `rvalue` then it will return the `lvalue`.\\\n",
    "-> if `lvalue` is greater than `rvalue` then it will return the remaining or 0."
   ]
  },
  {
   "cell_type": "code",
   "execution_count": 9,
   "id": "0b01714e-ea82-4ed7-9625-4a44f6336b62",
   "metadata": {},
   "outputs": [
    {
     "data": {
      "text/plain": [
       "1"
      ]
     },
     "execution_count": 9,
     "metadata": {},
     "output_type": "execute_result"
    }
   ],
   "source": [
    "//  trying to get the remaing value of 10%3 operation\n",
    "10%3"
   ]
  },
  {
   "cell_type": "code",
   "execution_count": 10,
   "id": "73cc7c86-828c-430e-8bc2-a916a3c9459f",
   "metadata": {},
   "outputs": [
    {
     "data": {
      "text/plain": [
       "2"
      ]
     },
     "execution_count": 10,
     "metadata": {},
     "output_type": "execute_result"
    }
   ],
   "source": [
    "11%3"
   ]
  },
  {
   "cell_type": "code",
   "execution_count": 11,
   "id": "a16dc785-a36c-436f-a2a8-4e968605f353",
   "metadata": {},
   "outputs": [
    {
     "data": {
      "text/plain": [
       "4"
      ]
     },
     "execution_count": 11,
     "metadata": {},
     "output_type": "execute_result"
    }
   ],
   "source": [
    "// lvalue is less than rvalue\n",
    "4%7"
   ]
  },
  {
   "cell_type": "markdown",
   "id": "38c8e4e5-6cf9-4ee4-b651-901a28f9558e",
   "metadata": {},
   "source": [
    "Note: Now we will get the remianing of 30 values form 1 to 30 by using the `rvalue` as 7."
   ]
  },
  {
   "cell_type": "code",
   "execution_count": 13,
   "id": "6bf147f3-9e50-4411-b45e-08b1baa463af",
   "metadata": {},
   "outputs": [
    {
     "name": "stdout",
     "output_type": "stream",
     "text": [
      "1%7 =  1\n"
     ]
    }
   ],
   "source": [
    "// suppose i is 1.\n",
    "console.log(1+\"%\"+7+\" = \" ,1%7)"
   ]
  },
  {
   "cell_type": "code",
   "execution_count": 14,
   "id": "d333eb1b-ab88-4e95-90e5-0d9a33ef6925",
   "metadata": {},
   "outputs": [
    {
     "name": "stdout",
     "output_type": "stream",
     "text": [
      "1%7 =  1\n",
      "2%7 =  2\n",
      "3%7 =  3\n",
      "4%7 =  4\n",
      "5%7 =  5\n",
      "6%7 =  6\n",
      "7%7 =  0\n",
      "8%7 =  1\n",
      "9%7 =  2\n",
      "10%7 =  3\n",
      "11%7 =  4\n",
      "12%7 =  5\n",
      "13%7 =  6\n",
      "14%7 =  0\n",
      "15%7 =  1\n",
      "16%7 =  2\n",
      "17%7 =  3\n",
      "18%7 =  4\n",
      "19%7 =  5\n",
      "20%7 =  6\n",
      "21%7 =  0\n",
      "22%7 =  1\n",
      "23%7 =  2\n",
      "24%7 =  3\n",
      "25%7 =  4\n",
      "26%7 =  5\n",
      "27%7 =  6\n",
      "28%7 =  0\n",
      "29%7 =  1\n",
      "30%7 =  2\n"
     ]
    }
   ],
   "source": [
    "for(let i=1; i<31; i++){\n",
    "    console.log(i+\"%\"+7+\" = \", i%7)\n",
    "}"
   ]
  },
  {
   "cell_type": "markdown",
   "id": "4f32df9a-51e2-4ae5-bd8a-7eb16e7b11e0",
   "metadata": {},
   "source": [
    "___"
   ]
  },
  {
   "cell_type": "markdown",
   "id": "114bf821-eaf6-4cac-8e27-6b2afc497949",
   "metadata": {},
   "source": [
    "### 2. Assigment Operators\n",
    "\n",
    "1. `=` assign operator\n",
    "2. `+=` plus and assign operator\n",
    "3. `-=` minus and assign operator\n",
    "4. `/=` divide and assign operator\n",
    "5. `%=` modulus and assign operator\n",
    "\n",
    "Note: operators 2 to 5 will perfom the difined arithmatic operation first then it will assign the result of the arithmatic operaton to the `loperand` _(lvalue must be variable not a value)_"
   ]
  },
  {
   "cell_type": "code",
   "execution_count": 1,
   "id": "25618f24-6780-4131-9777-4f66769dcbc7",
   "metadata": {},
   "outputs": [
    {
     "data": {
      "text/plain": [
       "20"
      ]
     },
     "execution_count": 1,
     "metadata": {},
     "output_type": "execute_result"
    }
   ],
   "source": [
    "// suppose that we have a vaiable x\n",
    "let x = 10\n",
    "\n",
    "//  now we want to add some value into x\n",
    "x + 10"
   ]
  },
  {
   "cell_type": "code",
   "execution_count": 2,
   "id": "fc7865f5-4c0c-49ff-9c80-93b73e7b14e1",
   "metadata": {},
   "outputs": [
    {
     "data": {
      "text/plain": [
       "10"
      ]
     },
     "execution_count": 2,
     "metadata": {},
     "output_type": "execute_result"
    }
   ],
   "source": [
    "// in above arithmatic operatoion x is not updated. it means it is same as initialized.\n",
    "x"
   ]
  },
  {
   "cell_type": "code",
   "execution_count": 3,
   "id": "518cf0ee-5f5f-4057-b064-ed933c1b13a6",
   "metadata": {},
   "outputs": [
    {
     "data": {
      "text/plain": [
       "20"
      ]
     },
     "execution_count": 3,
     "metadata": {},
     "output_type": "execute_result"
    }
   ],
   "source": [
    "// if we want update the x with result value.\n",
    "x = x + 10 // here x + 10 is rvalue of assign opeartor\n",
    "// this expression x+10 will be performed frist then the result of this expression will be \n",
    "// assigned to the left operand of the assignment operator"
   ]
  },
  {
   "cell_type": "code",
   "execution_count": 4,
   "id": "47f34c27-baf9-459e-8312-2c805690293f",
   "metadata": {},
   "outputs": [
    {
     "data": {
      "text/plain": [
       "20"
      ]
     },
     "execution_count": 4,
     "metadata": {},
     "output_type": "execute_result"
    }
   ],
   "source": [
    "x"
   ]
  },
  {
   "cell_type": "code",
   "execution_count": 5,
   "id": "d914e1cf-48cc-4274-a362-df1f9381f47a",
   "metadata": {},
   "outputs": [
    {
     "data": {
      "text/plain": [
       "40"
      ]
     },
     "execution_count": 5,
     "metadata": {},
     "output_type": "execute_result"
    }
   ],
   "source": [
    "x = x + 20\n",
    "x"
   ]
  },
  {
   "cell_type": "code",
   "execution_count": 6,
   "id": "89dbf4a4-aa3b-44cf-977b-589aacac1837",
   "metadata": {},
   "outputs": [
    {
     "data": {
      "text/plain": [
       "60"
      ]
     },
     "execution_count": 6,
     "metadata": {},
     "output_type": "execute_result"
    }
   ],
   "source": [
    "x += 20 // x = x + 20;"
   ]
  },
  {
   "cell_type": "markdown",
   "id": "38e8dfa7-62a6-4dd0-b209-0be366bd7717",
   "metadata": {},
   "source": [
    "Note: The above expression can be used as the alternative of `++` Increment Operator. if we use this operation in a for loop with a given step."
   ]
  },
  {
   "cell_type": "code",
   "execution_count": 15,
   "id": "2040e932-c804-4dad-9c7b-ab1d0e9f2a35",
   "metadata": {},
   "outputs": [
    {
     "data": {
      "text/plain": [
       "1"
      ]
     },
     "execution_count": 15,
     "metadata": {},
     "output_type": "execute_result"
    }
   ],
   "source": [
    "step = 1;\n",
    "// step is a variable which holds given rvalue."
   ]
  },
  {
   "cell_type": "code",
   "execution_count": 16,
   "id": "cc8844d8-2b06-4440-872c-9b7299be4c5b",
   "metadata": {},
   "outputs": [
    {
     "name": "stdout",
     "output_type": "stream",
     "text": [
      "i:  0\n",
      "i:  1\n",
      "i:  2\n",
      "i:  3\n",
      "i:  4\n",
      "i:  5\n",
      "i:  6\n",
      "i:  7\n",
      "i:  8\n",
      "i:  9\n"
     ]
    }
   ],
   "source": [
    "for(let i=0; i<10; i+=step){\n",
    "    console.log(\"i: \", i);\n",
    "}"
   ]
  },
  {
   "cell_type": "markdown",
   "id": "98016e6b-773e-4a65-9f51-2052e4281dc4",
   "metadata": {},
   "source": [
    "**`-=` Minus & assign Operator**"
   ]
  },
  {
   "cell_type": "code",
   "execution_count": 19,
   "id": "38b85ca1-d371-45e7-891e-1e27d53f28ec",
   "metadata": {},
   "outputs": [
    {
     "data": {
      "text/plain": [
       "10"
      ]
     },
     "execution_count": 19,
     "metadata": {},
     "output_type": "execute_result"
    }
   ],
   "source": [
    "x = 10;"
   ]
  },
  {
   "cell_type": "markdown",
   "id": "eb0dc81b-ffbd-4577-943c-5599159a6a0d",
   "metadata": {},
   "source": [
    " Since we are using for loop, it takes three parameters in paranthesis. ()\n",
    " \n",
    "* 1st Param: initialization of the counter variable. if a variable is already initialized then \n",
    "    we must assign some value to it to reset the value.\n",
    "\n",
    "\n",
    "* 2nd Param: Stop Condition, in this we define a stop condition by using relational operators. \n",
    "    to stop our for loop. \n",
    "\n",
    "* 3rd Param: Increment, in this we define the Increment of the counter variable, we can use increment \n",
    "    operator for step=1 or we can use `+=`,`-=`,`/=`,`%=` operators."
   ]
  },
  {
   "cell_type": "code",
   "execution_count": 21,
   "id": "3f8dc07c-5f0c-4ae5-8a7a-a58b36fea5a9",
   "metadata": {},
   "outputs": [
    {
     "name": "stdout",
     "output_type": "stream",
     "text": [
      "i:  10\n",
      "i:  8\n",
      "i:  6\n",
      "i:  4\n",
      "i:  2\n"
     ]
    }
   ],
   "source": [
    "//  using `-=` minus & assig operator.\n",
    "step = 2;\n",
    "for(let i=10; i>0; i-=step){\n",
    "    console.log(\"i: \", i);\n",
    "}"
   ]
  },
  {
   "cell_type": "markdown",
   "id": "5c2e3d32-b159-4978-9be7-580f9711fec9",
   "metadata": {},
   "source": [
    "**`*=` Multipy Operator**"
   ]
  },
  {
   "cell_type": "code",
   "execution_count": 2,
   "id": "0fdce0c7-eeff-4486-b04e-177e27c3bbe2",
   "metadata": {},
   "outputs": [
    {
     "name": "stdout",
     "output_type": "stream",
     "text": [
      "i:  1\n",
      "i:  2\n",
      "i:  4\n",
      "i:  8\n",
      "i:  16\n",
      "i:  32\n"
     ]
    }
   ],
   "source": [
    "//  using `*=` multiply & assig operator.\n",
    "\n",
    "// in this section since we are using the multiply & assign operator that will increase the value \n",
    "// very fast.\n",
    "\n",
    "\n",
    "// Note: while using *= multiply and assign operator we must initialize our counter\n",
    "// variable from 1 not 0;\n",
    "\n",
    "step = 2;\n",
    "for(let i=1; i<50; i*=step){\n",
    "    console.log(\"i: \", i);\n",
    "}"
   ]
  },
  {
   "cell_type": "markdown",
   "id": "2b1a385d-750c-4d60-afad-158966a3482a",
   "metadata": {},
   "source": [
    "<b style=\"color:red;\">Warning:</b>\n",
    "if we are using `*=` multiply and assign operator then we should not initialize our counter variable from zero (0), if we do then it will become a inifinte loop which will brake."
   ]
  },
  {
   "cell_type": "code",
   "execution_count": null,
   "id": "6281ccfc-7192-4581-8265-70fdf0cf88c2",
   "metadata": {},
   "outputs": [],
   "source": []
  },
  {
   "cell_type": "markdown",
   "id": "52e6c956-3f3e-4093-a90f-e2a3b46bf300",
   "metadata": {},
   "source": [
    "**`/=` Divide Operator**"
   ]
  },
  {
   "cell_type": "code",
   "execution_count": 4,
   "id": "2c0a5265-8c90-49c3-90b3-9bfd024c6f73",
   "metadata": {},
   "outputs": [
    {
     "name": "stdout",
     "output_type": "stream",
     "text": [
      "i:  50\n",
      "i:  25\n",
      "i:  12.5\n",
      "i:  6.25\n",
      "i:  3.125\n",
      "i:  1.5625\n"
     ]
    }
   ],
   "source": [
    "//  using `/=` divide & assig operator.\n",
    "\n",
    "// in this section since we are using the divide & assign operator that will decrease the value \n",
    "// very fast.\n",
    "\n",
    "\n",
    "// Note: while using /= divide and assign operator we must initialize our counter\n",
    "// variable from 1 not 0;\n",
    "\n",
    "step = 2;\n",
    "for(let i=50; i>1; i/=step){\n",
    "    console.log(\"i: \", i);\n",
    "}"
   ]
  },
  {
   "cell_type": "markdown",
   "id": "d9769e57-4346-4a73-84f9-f515b7db888a",
   "metadata": {},
   "source": [
    "### 3. Relational Opertor \n",
    "1. `==` Comparision Operator (equal equal Operator)\n",
    "2. `<=` less than equl operator\n",
    "3. `>=` greater than equal operator\n",
    "4. `<` less than operator\n",
    "5. `>` greater than operator\n",
    "\n",
    "Note: These Operator always return boolean value (True/False)."
   ]
  },
  {
   "cell_type": "code",
   "execution_count": null,
   "id": "7d5bf989-b1fd-4a49-9b6f-f762d6ed09cb",
   "metadata": {},
   "outputs": [],
   "source": []
  }
 ],
 "metadata": {
  "kernelspec": {
   "display_name": "JavaScript (Node.js)",
   "language": "javascript",
   "name": "javascript"
  },
  "language_info": {
   "file_extension": ".js",
   "mimetype": "application/javascript",
   "name": "javascript",
   "version": "16.17.0"
  }
 },
 "nbformat": 4,
 "nbformat_minor": 5
}
