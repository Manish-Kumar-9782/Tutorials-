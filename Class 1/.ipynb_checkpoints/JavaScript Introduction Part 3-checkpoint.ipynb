{
 "cells": [
  {
   "cell_type": "markdown",
   "id": "9fcdefbe-4ca7-42ca-af0c-0dbcfbd835db",
   "metadata": {},
   "source": [
    "# String in JavaScript"
   ]
  },
  {
   "cell_type": "markdown",
   "id": "f9f853b7-43b6-41e7-b2ae-b41b6c0f1aee",
   "metadata": {},
   "source": [
    "**What is String**\n",
    "\n",
    "* String is a sequence of characters which placed in b/w the \"\"(double qoutes), ''(single qouts) or ``(backticks)."
   ]
  },
  {
   "cell_type": "markdown",
   "id": "cbc99c78-be9a-4d4b-bf69-9399aec29a8e",
   "metadata": {},
   "source": [
    "```js\n",
    "    // 1. string in double qutes. (literal string)\n",
    "    let str1 = \"Hello this is double qoutes string.\"\n",
    "    // 2. string in single qoutes.\n",
    "    let str2 = 'Hello this is single qoutes string.'\n",
    "    // 3. string in backticks.\n",
    "    let str3 = `Hello this is backticks string.`\n",
    "    \n",
    "    // 4. string by using the String() constructor.\n",
    "    let str4 = new String(\"Hello this is constructor based string.\")\n",
    "    \n",
    "```"
   ]
  },
  {
   "cell_type": "code",
   "execution_count": 1,
   "id": "4a782452-47d6-4550-bd25-3a77589e15dc",
   "metadata": {},
   "outputs": [],
   "source": [
    " // 1. string in double qutes. (literal string)\n",
    "    let str1 = \"Hello this is double qoutes string.\"\n",
    "    // 2. string in single qoutes.\n",
    "    let str2 = 'Hello this is single qoutes string.'"
   ]
  },
  {
   "cell_type": "code",
   "execution_count": 2,
   "id": "7b237aeb-5189-43c0-9d24-dfd56490a63a",
   "metadata": {},
   "outputs": [],
   "source": [
    "// if we want write like this bellow string.\n",
    "/*\n",
    "    hello this is 'new string' with double qoutes.\n",
    "*/"
   ]
  },
  {
   "cell_type": "code",
   "execution_count": 3,
   "id": "5c04275c-2da1-4cfd-8ba4-5c6cbe98e2f7",
   "metadata": {},
   "outputs": [],
   "source": [
    "let new_string= 'hello this is \"new string\" with double qoutes.'"
   ]
  },
  {
   "cell_type": "code",
   "execution_count": 4,
   "id": "91816bda-1814-42f0-9434-8c271de3cfcb",
   "metadata": {},
   "outputs": [
    {
     "data": {
      "text/plain": [
       "'hello this is \"new string\" with double qoutes.'"
      ]
     },
     "execution_count": 4,
     "metadata": {},
     "output_type": "execute_result"
    }
   ],
   "source": [
    "new_string"
   ]
  },
  {
   "cell_type": "markdown",
   "id": "ad160fcd-2100-4dfc-b844-c7e0d8c52c29",
   "metadata": {},
   "source": [
    "**Accessing characters form string**\n",
    "\n",
    "1. by using subscritpt `[]`.\n",
    "2. by using `at()` method of string."
   ]
  },
  {
   "cell_type": "code",
   "execution_count": 5,
   "id": "b1d2171c-3223-4eb1-9884-b3cdeec1da24",
   "metadata": {},
   "outputs": [
    {
     "data": {
      "text/plain": [
       "'hello this is \"new string\" with double qoutes.'"
      ]
     },
     "execution_count": 5,
     "metadata": {},
     "output_type": "execute_result"
    }
   ],
   "source": [
    "new_string"
   ]
  },
  {
   "cell_type": "code",
   "execution_count": 11,
   "id": "c468d003-3824-4598-b1b3-8bd8991d37db",
   "metadata": {},
   "outputs": [
    {
     "data": {
      "text/plain": [
       "'\"'"
      ]
     },
     "execution_count": 11,
     "metadata": {},
     "output_type": "execute_result"
    }
   ],
   "source": [
    "new_string[14]"
   ]
  },
  {
   "cell_type": "code",
   "execution_count": 12,
   "id": "4b21a788-0a06-467c-8c23-d8fd562ddc64",
   "metadata": {},
   "outputs": [
    {
     "data": {
      "text/plain": [
       "'\"'"
      ]
     },
     "execution_count": 12,
     "metadata": {},
     "output_type": "execute_result"
    }
   ],
   "source": [
    "new_string.at(14)"
   ]
  },
  {
   "cell_type": "markdown",
   "id": "525461da-61c7-430c-b6cd-9a75bd96afa1",
   "metadata": {},
   "source": [
    "**indexOf() method of string**"
   ]
  },
  {
   "cell_type": "code",
   "execution_count": 18,
   "id": "6bfe640a-793a-4b19-b557-82ab9dc67210",
   "metadata": {},
   "outputs": [
    {
     "data": {
      "text/plain": [
       "14"
      ]
     },
     "execution_count": 18,
     "metadata": {},
     "output_type": "execute_result"
    }
   ],
   "source": [
    "new_string.indexOf('\"new string\"')"
   ]
  },
  {
   "cell_type": "markdown",
   "id": "5974b33c-1faf-4fc9-a3c8-a476ad848b5d",
   "metadata": {},
   "source": [
    "Note: if we try to find 'new string' from the above string by using internal single qoutes ('') then it will return -1.\n",
    "\n",
    "Because in our string we have double qoutes (\"\")."
   ]
  },
  {
   "cell_type": "markdown",
   "id": "f95cf3a6-d70e-4934-a658-81c70a947c99",
   "metadata": {},
   "source": [
    "**trim() method of string**"
   ]
  },
  {
   "cell_type": "code",
   "execution_count": 19,
   "id": "53fa7436-495f-425e-aa66-a53b3587cb51",
   "metadata": {},
   "outputs": [],
   "source": [
    "let input = \"    hello this    is bakwas stirng    \""
   ]
  },
  {
   "cell_type": "markdown",
   "id": "d5565b5e-17d0-43af-8d82-9a184d4867a7",
   "metadata": {},
   "source": [
    "1MB = 1024 killo bytes. (Kb).\n",
    "\n",
    "each character is equal to 2bytes."
   ]
  }
 ],
 "metadata": {
  "kernelspec": {
   "display_name": "JavaScript (Node.js)",
   "language": "javascript",
   "name": "javascript"
  },
  "language_info": {
   "file_extension": ".js",
   "mimetype": "application/javascript",
   "name": "javascript",
   "version": "16.17.0"
  }
 },
 "nbformat": 4,
 "nbformat_minor": 5
}
