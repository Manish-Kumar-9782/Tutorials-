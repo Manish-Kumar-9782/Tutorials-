{
 "cells": [
  {
   "cell_type": "markdown",
   "id": "72ecc001-a029-45e7-b3a4-eebd8f8c1d90",
   "metadata": {},
   "source": [
    "## functions in Javascript\n",
    "\n",
    "functions are used to bind mulitple code statment together, and they can be executed whenever we want. after calling the function all statement will be executed in their order.\n",
    "\n",
    "Note: a function can be used again and agian .The advantage of function is that we need to define a function body once and we can use it again and agian.\n",
    "\n",
    "```js\n",
    "    function <function_name>(parameter_list...){\n",
    "        // body block\n",
    "        \n",
    "        // statement 1\n",
    "        // statement 2\n",
    "        // statement 3.\n",
    "    \n",
    "        return value.\n",
    "    }\n",
    "```\n",
    "\n",
    "1. without argument and no return value.\n",
    "2. with argument and no return value.\n",
    "3. without argument and return value.\n",
    "4. with argument and return value. \n",
    "\n",
    "Note: Inside the parameter list parameters are the variable who needs some values to work with function, these values are called arguments."
   ]
  },
  {
   "cell_type": "markdown",
   "id": "a219b0ad-9b85-46cf-b59a-ed54d68aeb63",
   "metadata": {},
   "source": [
    "### 1. Function without argument list No return value."
   ]
  },
  {
   "cell_type": "code",
   "execution_count": 2,
   "id": "73f3300c-7866-46f9-9856-87670af8b04a",
   "metadata": {},
   "outputs": [],
   "source": [
    "function withoutArg_noReturn(){\n",
    "  \n",
    "    // This function does not take anything and also\n",
    "    // does not give/return anything.\n",
    "    let x , y;\n",
    "    x = 10;\n",
    "    y = 20;  \n",
    "    console.log(`The product of x and y: ${x*y}`)\n",
    "    \n",
    "};"
   ]
  },
  {
   "cell_type": "code",
   "execution_count": 3,
   "id": "8b32268d-6c77-4d59-bf12-1806e99f0855",
   "metadata": {},
   "outputs": [
    {
     "name": "stdout",
     "output_type": "stream",
     "text": [
      "The product of x and y: 200\n"
     ]
    }
   ],
   "source": [
    "// calling/ using the function \n",
    "withoutArg_noReturn();"
   ]
  },
  {
   "cell_type": "markdown",
   "id": "d491a2ea-e6fc-4928-a5e5-ccbfa7304004",
   "metadata": {},
   "source": [
    "### function with argument but no return value"
   ]
  },
  {
   "cell_type": "code",
   "execution_count": 6,
   "id": "b7416116-a6ce-4909-bbee-21d51ada5f1f",
   "metadata": {},
   "outputs": [],
   "source": [
    "function withArg_noReturn(X, Y){\n",
    "  \n",
    "    // This function does take two values. and also\n",
    "    // does not give/return anything.\n",
    "    \n",
    "    let x , y;\n",
    "    x = X;\n",
    "    y = Y;  \n",
    "    console.log(`The product of ${x} and ${y}: ${x*y}`)\n",
    "    \n",
    "};"
   ]
  },
  {
   "cell_type": "code",
   "execution_count": 7,
   "id": "c8717b7f-f42d-43be-854e-189577179e0b",
   "metadata": {},
   "outputs": [
    {
     "name": "stdout",
     "output_type": "stream",
     "text": [
      "The product of 4 and 5: 20\n"
     ]
    }
   ],
   "source": [
    "// calling the withArg_noReturnArg_noreturn\n",
    "withArg_noReturn(4,5)"
   ]
  },
  {
   "cell_type": "code",
   "execution_count": 8,
   "id": "ef35f168-2e32-443c-99a0-fda04225c89b",
   "metadata": {},
   "outputs": [
    {
     "name": "stdout",
     "output_type": "stream",
     "text": [
      "The product of 5 and 7: 35\n"
     ]
    }
   ],
   "source": [
    "withArg_noReturn(5,7)"
   ]
  },
  {
   "cell_type": "markdown",
   "id": "8d8eb7e6-a736-44ea-94ea-3fb3b01a6386",
   "metadata": {},
   "source": [
    "### function without argument but return value."
   ]
  },
  {
   "cell_type": "code",
   "execution_count": 10,
   "id": "9c1e313e-df7c-415c-b3ed-1649e61ac2fc",
   "metadata": {},
   "outputs": [],
   "source": [
    "function withoutArg_Return(){\n",
    "  \n",
    "    // This function does take two values. and also\n",
    "    // does not give/return anything.\n",
    "    \n",
    "    let x , y;\n",
    "    x = 10;\n",
    "    y = 20;  \n",
    "    // console.log(`The product of ${x} and ${y}: ${x*y}`)\n",
    "    // let z = x*y;\n",
    "    // return x*y;\n",
    "};"
   ]
  },
  {
   "cell_type": "code",
   "execution_count": 11,
   "id": "a646600c-099f-4b80-8e1a-dfce138852d0",
   "metadata": {},
   "outputs": [],
   "source": [
    "// calling withoutArg_Return\n"
   ]
  },
  {
   "cell_type": "code",
   "execution_count": null,
   "id": "ee30a035-76cf-4020-9216-6eea47ee925c",
   "metadata": {},
   "outputs": [],
   "source": [
    "/"
   ]
  }
 ],
 "metadata": {
  "kernelspec": {
   "display_name": "JavaScript (Node.js)",
   "language": "javascript",
   "name": "javascript"
  },
  "language_info": {
   "file_extension": ".js",
   "mimetype": "application/javascript",
   "name": "javascript",
   "version": "16.17.0"
  }
 },
 "nbformat": 4,
 "nbformat_minor": 5
}
