{
 "cells": [
  {
   "cell_type": "markdown",
   "id": "72ecc001-a029-45e7-b3a4-eebd8f8c1d90",
   "metadata": {},
   "source": [
    "## functions in Javascript\n",
    "\n",
    "functions are used to bind mulitple code statment together, and they can be executed whenever we want. after calling the function all statement will be executed in their order.\n",
    "\n",
    "Note: a function can be used again and agian .The advantage of function is that we need to define a function body once and we can use it again and agian.\n",
    "\n",
    "```js\n",
    "    function <function_name>(parameter_list...){\n",
    "        // body block\n",
    "        \n",
    "        // statement 1\n",
    "        // statement 2\n",
    "        // statement 3.\n",
    "    \n",
    "        return value.\n",
    "    }\n",
    "```\n",
    "\n",
    "1. without argument and no return value.\n",
    "2. with argument and no return value.\n",
    "3. without argument and return value.\n",
    "4. with argument and return value. \n",
    "\n",
    "Note: Inside the parameter list parameters are the variable who needs some values to work with function, these values are called arguments."
   ]
  },
  {
   "cell_type": "markdown",
   "id": "d13acb1b-7707-45fb-b77a-ebeb7b3d71ad",
   "metadata": {},
   "source": [
    "String with `backticks or template string`: template string are used with object to display their vlaue inside the string. "
   ]
  },
  {
   "cell_type": "code",
   "execution_count": 1,
   "id": "2e37d407-d572-4d2a-8de8-9783c3785228",
   "metadata": {},
   "outputs": [
    {
     "ename": "SyntaxError",
     "evalue": "Unexpected token '}'",
     "execution_count": 1,
     "output_type": "error",
     "traceback": [
      "evalmachine.<anonymous>:1",
      "`${}`",
      "   ^",
      "",
      "SyntaxError: Unexpected token '}'",
      "    at new Script (node:vm:100:7)",
      "    at createScript (node:vm:265:10)",
      "    at Object.runInThisContext (node:vm:313:10)",
      "    at run ([eval]:1020:15)",
      "    at onRunRequest ([eval]:864:18)",
      "    at onMessage ([eval]:828:13)",
      "    at process.emit (node:events:513:28)",
      "    at emit (node:internal/child_process:939:14)",
      "    at processTicksAndRejections (node:internal/process/task_queues:84:21)"
     ]
    }
   ],
   "source": [
    "x = 10\n",
    "`${x}`\n",
    "\n",
    "// object representation of the object"
   ]
  },
  {
   "cell_type": "markdown",
   "id": "a219b0ad-9b85-46cf-b59a-ed54d68aeb63",
   "metadata": {},
   "source": [
    "### 1. Function without argument list No return value."
   ]
  },
  {
   "cell_type": "code",
   "execution_count": 2,
   "id": "73f3300c-7866-46f9-9856-87670af8b04a",
   "metadata": {},
   "outputs": [],
   "source": [
    "function withoutArg_noReturn(){\n",
    "  \n",
    "    // This function does not take anything and also\n",
    "    // does not give/return anything.\n",
    "    let x , y;\n",
    "    x = 10;\n",
    "    y = 20;  \n",
    "    console.log(`The product of x and y: ${x*y}`)\n",
    "    \n",
    "};"
   ]
  },
  {
   "cell_type": "code",
   "execution_count": 3,
   "id": "8b32268d-6c77-4d59-bf12-1806e99f0855",
   "metadata": {},
   "outputs": [
    {
     "name": "stdout",
     "output_type": "stream",
     "text": [
      "The product of x and y: 200\n"
     ]
    }
   ],
   "source": [
    "// calling/ using the function \n",
    "withoutArg_noReturn();"
   ]
  },
  {
   "cell_type": "markdown",
   "id": "d491a2ea-e6fc-4928-a5e5-ccbfa7304004",
   "metadata": {},
   "source": [
    "### 2. Function with argument but no return value"
   ]
  },
  {
   "cell_type": "code",
   "execution_count": 6,
   "id": "b7416116-a6ce-4909-bbee-21d51ada5f1f",
   "metadata": {},
   "outputs": [],
   "source": [
    "function withArg_noReturn(X, Y){\n",
    "  \n",
    "    // This function does take two values. and also\n",
    "    // does not give/return anything.\n",
    "    \n",
    "    let x , y;\n",
    "    x = X;\n",
    "    y = Y;  \n",
    "    console.log(`The product of ${x} and ${y}: ${x*y}`)\n",
    "    \n",
    "};"
   ]
  },
  {
   "cell_type": "code",
   "execution_count": 7,
   "id": "c8717b7f-f42d-43be-854e-189577179e0b",
   "metadata": {},
   "outputs": [
    {
     "name": "stdout",
     "output_type": "stream",
     "text": [
      "The product of 4 and 5: 20\n"
     ]
    }
   ],
   "source": [
    "// calling the withArg_noReturnArg_noreturn\n",
    "withArg_noReturn(4,5)"
   ]
  },
  {
   "cell_type": "code",
   "execution_count": 8,
   "id": "ef35f168-2e32-443c-99a0-fda04225c89b",
   "metadata": {},
   "outputs": [
    {
     "name": "stdout",
     "output_type": "stream",
     "text": [
      "The product of 5 and 7: 35\n"
     ]
    }
   ],
   "source": [
    "withArg_noReturn(5,7)"
   ]
  },
  {
   "cell_type": "markdown",
   "id": "8d8eb7e6-a736-44ea-94ea-3fb3b01a6386",
   "metadata": {},
   "source": [
    "### 3. Function without argument but return value."
   ]
  },
  {
   "cell_type": "code",
   "execution_count": 15,
   "id": "9c1e313e-df7c-415c-b3ed-1649e61ac2fc",
   "metadata": {},
   "outputs": [],
   "source": [
    "function withoutArg_Return(){\n",
    "  \n",
    "    // This function does take two values. and also\n",
    "    // does not give/return anything.\n",
    "    \n",
    "    let x , y;\n",
    "    x = 10;\n",
    "    y = 20;  \n",
    "    // console.log(`The product of ${x} and ${y}: ${x*y}`)\n",
    "    // let z = x*y;\n",
    "    return x*y;\n",
    "};"
   ]
  },
  {
   "cell_type": "code",
   "execution_count": 18,
   "id": "a646600c-099f-4b80-8e1a-dfce138852d0",
   "metadata": {},
   "outputs": [
    {
     "data": {
      "text/plain": [
       "100"
      ]
     },
     "execution_count": 18,
     "metadata": {},
     "output_type": "execute_result"
    }
   ],
   "source": [
    "// calling withoutArg_ReturnoutArg_Return\n",
    "withoutArg_Return();\n",
    "// Note Now we will not see the returned value of withoutArg_Return() function.\n",
    "// due to below statment.\n",
    "x = 100"
   ]
  },
  {
   "cell_type": "code",
   "execution_count": 19,
   "id": "ee30a035-76cf-4020-9216-6eea47ee925c",
   "metadata": {},
   "outputs": [
    {
     "name": "stdout",
     "output_type": "stream",
     "text": [
      "returned value:  200\n"
     ]
    }
   ],
   "source": [
    "// To show the returned value we must catch it in variable.\n",
    "returned_value = withoutArg_Return();\n",
    "console.log(\"returned value: \", returned_value )\n"
   ]
  },
  {
   "cell_type": "markdown",
   "id": "24c6efdd-339f-476d-856d-fb44d07dde75",
   "metadata": {},
   "source": [
    "### 4. Fucntion with arguments and return value"
   ]
  },
  {
   "cell_type": "code",
   "execution_count": 21,
   "id": "6a55717e-747a-4140-8362-78da7f70886e",
   "metadata": {},
   "outputs": [],
   "source": [
    "// Now we will make a funciton which will return values and take some argument.\n",
    "function withArg_Return(X, Y){\n",
    "  \n",
    "    // This function does take two values. and also\n",
    "    // does not give/return anything.\n",
    "    \n",
    "    let x , y;\n",
    "    x = X;\n",
    "    y = Y;  \n",
    "    // console.log(`The product of ${x} and ${y}: ${x*y}`)\n",
    "    // let z = x*y;\n",
    "    return x*y;\n",
    "};"
   ]
  },
  {
   "cell_type": "code",
   "execution_count": 22,
   "id": "77ef716c-d212-47ac-87b7-9c7fa5d4ea2f",
   "metadata": {},
   "outputs": [
    {
     "data": {
      "text/plain": [
       "728"
      ]
     },
     "execution_count": 22,
     "metadata": {},
     "output_type": "execute_result"
    }
   ],
   "source": [
    "// calling the withArg_Return function.\n",
    "\n",
    "withArg_Return(13, 56);"
   ]
  },
  {
   "cell_type": "code",
   "execution_count": 23,
   "id": "cb2a448c-f0c2-429b-a16d-7a73e37242c8",
   "metadata": {},
   "outputs": [
    {
     "data": {
      "text/plain": [
       "728"
      ]
     },
     "execution_count": 23,
     "metadata": {},
     "output_type": "execute_result"
    }
   ],
   "source": [
    "// catch the return value to use it later.\n",
    "\n",
    "x = withArg_Return(13, 56);"
   ]
  },
  {
   "cell_type": "code",
   "execution_count": 24,
   "id": "dcd33b21-7bed-4fb5-983d-a5a993a8a100",
   "metadata": {},
   "outputs": [
    {
     "data": {
      "text/plain": [
       "728"
      ]
     },
     "execution_count": 24,
     "metadata": {},
     "output_type": "execute_result"
    }
   ],
   "source": [
    "x"
   ]
  },
  {
   "cell_type": "markdown",
   "id": "29934260-e525-4539-82d1-bcab433786c0",
   "metadata": {},
   "source": [
    "### A function to check that a number is a prime number"
   ]
  },
  {
   "cell_type": "code",
   "execution_count": 26,
   "id": "41af0062-bd52-435f-8f7d-20ba10a16af7",
   "metadata": {},
   "outputs": [],
   "source": [
    "function isPrime(number){\n",
    "    \n",
    "    let i=2;\n",
    "    \n",
    "    while(1){\n",
    "    \n",
    "    // console.log(\"i at -> \", i);\n",
    "    \n",
    "    if (i==number){\n",
    "        // console.log(`${number} is prime number.`);\n",
    "        // break; \n",
    "        return true\n",
    "    }\n",
    "    else{\n",
    "        \n",
    "        if(number%i == 0){\n",
    "            // console.log(`${number} is not a prime number`);\n",
    "            // break; \n",
    "            return false\n",
    "        }\n",
    "    }\n",
    "    i++;\n",
    "}}"
   ]
  },
  {
   "cell_type": "code",
   "execution_count": 27,
   "id": "6e18c5c8-8c73-4186-bcb5-4694c31f2e94",
   "metadata": {},
   "outputs": [
    {
     "data": {
      "text/plain": [
       "true"
      ]
     },
     "execution_count": 27,
     "metadata": {},
     "output_type": "execute_result"
    }
   ],
   "source": [
    "isPrime(7)"
   ]
  },
  {
   "cell_type": "code",
   "execution_count": 28,
   "id": "84a8638f-6d43-49d9-9ce5-8fdaea6ba36f",
   "metadata": {},
   "outputs": [
    {
     "data": {
      "text/plain": [
       "false"
      ]
     },
     "execution_count": 28,
     "metadata": {},
     "output_type": "execute_result"
    }
   ],
   "source": [
    "isPrime(6)"
   ]
  },
  {
   "cell_type": "code",
   "execution_count": null,
   "id": "63cf34c1-64f9-45ef-9856-b4b365e9a455",
   "metadata": {},
   "outputs": [],
   "source": []
  }
 ],
 "metadata": {
  "kernelspec": {
   "display_name": "JavaScript (Node.js)",
   "language": "javascript",
   "name": "javascript"
  },
  "language_info": {
   "file_extension": ".js",
   "mimetype": "application/javascript",
   "name": "javascript",
   "version": "16.17.0"
  }
 },
 "nbformat": 4,
 "nbformat_minor": 5
}
