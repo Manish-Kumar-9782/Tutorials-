{
 "cells": [
  {
   "cell_type": "markdown",
   "id": "583e6fee-95e0-4f83-b969-23a5a169c49d",
   "metadata": {},
   "source": [
    "# Control Statement\n",
    "\n",
    "Control Stamenet is java script are if...else statment which controls the execution of statment.\n",
    "\n",
    "by using the control we can contorl the exectution of statements by specifying the block of condition, if condition is true then the associated block will run.\n",
    "\n",
    "```js\n",
    "    // the first condition will start form `if` keyword.\n",
    "    if(condition1){\n",
    "        // block 1\n",
    "    }\n",
    "    // if only one condition is definned then we need to use the above syntax.\n",
    "\n",
    "\n",
    "    // 2. either this,  or this.\n",
    "    // if we have only two conditions both are oppostite in nature or \n",
    "    // second statement does follw a ~conditions.\n",
    "\n",
    "    if(condition){\n",
    "        // statment.\n",
    "    }\n",
    "    else{\n",
    "        // ~condition statement.\n",
    "    }\n",
    "\n",
    "\n",
    "    // 3. if we have multiple conditions with else statement.\n",
    "    if(condition){\n",
    "        // statment 1\n",
    "    }\n",
    "    else if(condition2){\n",
    "        // statment 3\n",
    "    }\n",
    "    else if(condition3){\n",
    "        // statement 4 \n",
    "    }\n",
    "    else if(condition4){\n",
    "        // statment 5\n",
    "    }\n",
    "    else{\n",
    "        // Universal statment.\n",
    "    }\n",
    "\n",
    "```"
   ]
  },
  {
   "cell_type": "markdown",
   "id": "11430275-65c4-4d0d-800c-58f1bed69842",
   "metadata": {},
   "source": [
    "#### if statment\n",
    "\n",
    "If we have only one condition to run a specific task then we will use the `if-control statment`"
   ]
  },
  {
   "cell_type": "code",
   "execution_count": 3,
   "id": "f043b2c3-20af-43e0-8b17-701fe6ef785a",
   "metadata": {},
   "outputs": [],
   "source": [
    "function find_atSymbol(str){\n",
    "    // str: a variable to hold the string.\n",
    "    \n",
    "    for(let i=0; i<str.length; i++){\n",
    "        \n",
    "        if(str[i] == \"@\"){\n",
    "            return i; // returning the index\n",
    "        }\n",
    "    }\n",
    "    return -1;\n",
    "}"
   ]
  },
  {
   "cell_type": "code",
   "execution_count": 4,
   "id": "928de96e-c29a-4328-b2f7-9211d46b83e7",
   "metadata": {},
   "outputs": [
    {
     "data": {
      "text/plain": [
       "-1"
      ]
     },
     "execution_count": 4,
     "metadata": {},
     "output_type": "execute_result"
    }
   ],
   "source": [
    "find_atSymbol(\"suraj420$gamil.com\")"
   ]
  },
  {
   "cell_type": "code",
   "execution_count": 5,
   "id": "99873128-882f-4cf3-9209-c53c48351b32",
   "metadata": {},
   "outputs": [
    {
     "data": {
      "text/plain": [
       "8"
      ]
     },
     "execution_count": 5,
     "metadata": {},
     "output_type": "execute_result"
    }
   ],
   "source": [
    "find_atSymbol(\"suraj420@gamil.com\")"
   ]
  },
  {
   "cell_type": "code",
   "execution_count": 6,
   "id": "030230bd-1cde-4889-b50a-b97d1c995464",
   "metadata": {},
   "outputs": [
    {
     "data": {
      "text/plain": [
       "'suraj420@gamil.com'"
      ]
     },
     "execution_count": 6,
     "metadata": {},
     "output_type": "execute_result"
    }
   ],
   "source": [
    "str = \"suraj420@gamil.com\""
   ]
  },
  {
   "cell_type": "code",
   "execution_count": 7,
   "id": "249af11d-e896-4f5b-9878-f6830d268fe7",
   "metadata": {},
   "outputs": [
    {
     "data": {
      "text/plain": [
       "'@'"
      ]
     },
     "execution_count": 7,
     "metadata": {},
     "output_type": "execute_result"
    }
   ],
   "source": [
    "str[8]"
   ]
  },
  {
   "cell_type": "code",
   "execution_count": 9,
   "id": "6af54842-96a9-46a6-b807-338c8bda37b7",
   "metadata": {},
   "outputs": [
    {
     "data": {
      "text/plain": [
       "8"
      ]
     },
     "execution_count": 9,
     "metadata": {},
     "output_type": "execute_result"
    }
   ],
   "source": [
    "str.indexOf(\"@\")"
   ]
  },
  {
   "cell_type": "markdown",
   "id": "e28285ae-5eb3-4ff4-bdc5-7c5531c04ff1",
   "metadata": {},
   "source": [
    "#### if-else statement\n",
    "\n",
    "if we have a _set of conditions_ and _set of ~conditions_ then we can use the if-else statment."
   ]
  },
  {
   "cell_type": "code",
   "execution_count": 11,
   "id": "98413c8e-0414-42a2-94a6-a7687fb11dea",
   "metadata": {},
   "outputs": [],
   "source": [
    "function login(password){\n",
    "    \n",
    "    if(password == \"suraj420\"){\n",
    "        console.log(\"Access Granted\");\n",
    "    }\n",
    "    else{\n",
    "        console.log(\"Access Denied\");\n",
    "    }\n",
    "}"
   ]
  },
  {
   "cell_type": "code",
   "execution_count": null,
   "id": "54839b5e-e549-4dd2-b91b-5fa75db19b42",
   "metadata": {},
   "outputs": [],
   "source": [
    "\"\""
   ]
  }
 ],
 "metadata": {
  "kernelspec": {
   "display_name": "JavaScript (Node.js)",
   "language": "javascript",
   "name": "javascript"
  },
  "language_info": {
   "file_extension": ".js",
   "mimetype": "application/javascript",
   "name": "javascript",
   "version": "16.17.0"
  }
 },
 "nbformat": 4,
 "nbformat_minor": 5
}
