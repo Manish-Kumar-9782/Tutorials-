{
 "cells": [
  {
   "cell_type": "markdown",
   "id": "6949d3bd-4c71-4f48-8aa5-914cffe220c0",
   "metadata": {},
   "source": [
    "### Person class"
   ]
  },
  {
   "cell_type": "code",
   "execution_count": 104,
   "id": "10d02e0e-b670-42a0-b8e8-e9280d7f40a8",
   "metadata": {},
   "outputs": [],
   "source": [
    "class Student:\n",
    "    \n",
    "    def __init__(self, name, std, roll_no, age, libid,**other):\n",
    "        \n",
    "        self.name = name\n",
    "        self.std = std\n",
    "        self.roll_no = roll_no\n",
    "        self.age = age\n",
    "        self.libid = libid\n",
    "        \n",
    "        \n",
    "    def __str__(self):\n",
    "        \n",
    "        result = f\"\"\"Name:{self.name}\n",
    "Std: {self.std}\n",
    "RollNo: {self.roll_no}\n",
    "Age: {self.age}\n",
    "LibId: {self.libid}\n",
    "        \"\"\"\n",
    "        \n",
    "        return result\n",
    "    \n",
    "    def __repr__(self):\n",
    "        return f\"Student({self.name},{self.std},{self.roll_no},{self.age},{self.libid})\"\n",
    "    "
   ]
  },
  {
   "cell_type": "markdown",
   "id": "5e598e5d-3f56-4ec9-a310-98429e2fcc9c",
   "metadata": {},
   "source": [
    "### Employee Class"
   ]
  },
  {
   "cell_type": "code",
   "execution_count": 105,
   "id": "1f880748-f5b8-40c4-a182-54e9d96d7945",
   "metadata": {},
   "outputs": [],
   "source": [
    "class Employee(Student):\n",
    "    \n",
    "    def __init__(self, name, age, graduation, _id, designation, address , salary=None):\n",
    "        \n",
    "        super().__init__(name, age, graduation)\n",
    "        \n",
    "        self.id = _id\n",
    "        self.designation = designation\n",
    "        self.address = address\n",
    "        self.salary = None\n",
    "        \n",
    "    def __str__(self):\n",
    "        \n",
    "        result= f\"\"\"Name:\\t\\t{self.name}\\nGraduation:\\t{self.graduation}\\nAge:\\t\\t{self.age}\n",
    "Id:\\t\\t{self.id}\\nDesignation:\\t{self.designation}\\naddress:\\t{self.address}\n",
    "salary:\\t{self.salary}\n",
    "        \"\"\"\n",
    "        \n",
    "        return result\n",
    "    \n",
    "    def __repr__(self):\n",
    "        return f\"Employee({self.name},{self.age},{self.graduation},{self.id},{self.designation},{self.address}, {self.salary})\"\n",
    "    \n",
    "    \n",
    "    def get_detail(self):\n",
    "        \n",
    "        result1 = *Person.get_detail(self), self.id, self.designation, self.address, self.salary\n",
    "        result2 =  self.name, self.age, self.graduation, self.id, self.designation, self.address, self.salary\n",
    "        \n",
    "        return result2"
   ]
  },
  {
   "cell_type": "markdown",
   "id": "a399759c-50e9-4100-a0ef-e87b44e4d469",
   "metadata": {},
   "source": [
    "### Address Class"
   ]
  },
  {
   "cell_type": "code",
   "execution_count": 106,
   "id": "c37b9af8-8dcf-493b-b984-1a2c2c3cdef2",
   "metadata": {},
   "outputs": [],
   "source": [
    "class Address:\n",
    "    \n",
    "    def __init__(self, plot_no, street, landmark, city, state, country, pincode):\n",
    "        \n",
    "        self.plot_no = plot_no\n",
    "        self.street = street\n",
    "        self.landmark = landmark\n",
    "        self.city = city\n",
    "        self.state = state\n",
    "        self.country = country\n",
    "        self.pincode = pincode\n",
    "        \n",
    "    def __str__(self):\n",
    "        return f\"plot_No:{self.plot_no},{self.street}, near {self.landmark}, in {self.city},{self.state},{self.country}, Pincode: {self.pincode}\"\n",
    "    \n",
    "    def __repr__(self):\n",
    "        \n",
    "        return f\"Address({self.plot_no},{self.street},{self.landmark},{self.city},{self.state},{self.country},{self.pincode})\""
   ]
  },
  {
   "cell_type": "markdown",
   "id": "9f30487e-8e3c-47ff-898b-6e0599bb0881",
   "metadata": {},
   "source": [
    "### Book Class"
   ]
  },
  {
   "cell_type": "code",
   "execution_count": 107,
   "id": "8bd94d36-461c-400f-9c9b-1d2f1d3d87c1",
   "metadata": {},
   "outputs": [],
   "source": [
    "class Book:\n",
    "    \n",
    "    def __init__(self, title, author, pages, publisher, subject=None, department=None ):\n",
    "        \n",
    "        self.author = author\n",
    "        self.pages = pages\n",
    "        self.title = title\n",
    "        self.publisher = publisher\n",
    "        self.subject = subject\n",
    "        self.department = department\n",
    "        \n",
    "    def __str__(self):\n",
    "        \n",
    "        return  f\"Author: {self.author}\\n\\\n",
    "Pages: {self.pages}\\nTitle: {self.title}\\nPublisher: {self.publisher}\\nSubject: {self.subject}\\nDepartment: {self.department}\" \n",
    "    \n",
    "    def __repr__(self):\n",
    "        \n",
    "        return  f\"Book({self.title},{self.author},{self.pages},{self.publisher},{self.subject},{self.department})\" "
   ]
  },
  {
   "cell_type": "code",
   "execution_count": 108,
   "id": "8ec37628-5822-4905-b1b9-aeb461c7de56",
   "metadata": {},
   "outputs": [
    {
     "data": {
      "text/plain": [
       "Book(Introduction to python,Manish,100,jk,None,None)"
      ]
     },
     "execution_count": 108,
     "metadata": {},
     "output_type": "execute_result"
    }
   ],
   "source": [
    "Book(\"Introduction to python\", \"Manish\", 100,  \"jk\")"
   ]
  },
  {
   "cell_type": "markdown",
   "id": "aea13534-73a7-4d15-b87d-97e65530cff3",
   "metadata": {},
   "source": [
    "### Login Section"
   ]
  },
  {
   "cell_type": "markdown",
   "id": "fb2fa9cd-63f2-4f96-a548-c45122c56e51",
   "metadata": {},
   "source": [
    "users/students.csv\n",
    "\n",
    "users/teachers.csv\n",
    "\n",
    "ids/students_ids.csv\n",
    "\n",
    "ids/teachers_ids.csv\n"
   ]
  },
  {
   "cell_type": "markdown",
   "id": "97d1b14f-472c-4b13-9ccf-97ca7ecb8f04",
   "metadata": {},
   "source": [
    "**1.Student Login Section**"
   ]
  },
  {
   "cell_type": "code",
   "execution_count": 109,
   "id": "805a197d-d3dd-4395-9fcb-86a77b519258",
   "metadata": {},
   "outputs": [],
   "source": [
    "import os"
   ]
  },
  {
   "cell_type": "markdown",
   "id": "a6c1e4d3-6f10-4599-8d8e-8c02116d44d7",
   "metadata": {},
   "source": [
    "`os.mkdir()`: to add a new directory\n",
    "\n",
    "`os.rmdir()`: to remove a director\n",
    "\n",
    "`os.path.join()`: to join directory paths\n",
    "\n",
    "`os.path.isdir()`: to check that given path is a directory\n",
    "\n",
    "`os.path.isfile()`: to check that given path is a file"
   ]
  },
  {
   "cell_type": "code",
   "execution_count": null,
   "id": "75254374-679e-492c-a4fe-76813c9d2985",
   "metadata": {},
   "outputs": [],
   "source": []
  },
  {
   "cell_type": "code",
   "execution_count": 110,
   "id": "a2867f98-3413-4dcc-a2ef-a90c3f1757e0",
   "metadata": {},
   "outputs": [],
   "source": [
    "class Login:\n",
    "    \n",
    "    def __init__(self, user_libid, password):\n",
    "        \n",
    "        self.user_libid = user_libid\n",
    "        self.passwrod = password\n",
    "        \n",
    "        self.__root_dir = \"users\"\n",
    "        # root_dir for users accounts (students , teachers)\n",
    "        # self.__section = None\n",
    "        \n",
    "        # self.check_intigrites(self.__root_dir, \"teachers\")\n",
    "        \n",
    "    def check_intigrites(self,section):\n",
    "        \n",
    "        if os.path.isdir(self.__root_dir):\n",
    "            login_section = os.path.join(self.__root_dir, section+\".csv\")\n",
    "            \n",
    "            if os.path.isfile(login_section):\n",
    "                self.process_login()\n",
    "            else:\n",
    "                fp = open(login_section, \"w\")\n",
    "                fp.write(\"libid,password\\n\")\n",
    "                fp.close()\n",
    "        # process the login\n",
    "        else:\n",
    "            os.mkdir(self.__root_dir)\n",
    "        \n",
    "        \n",
    "    def process_login(self):\n",
    "        pass\n",
    "        \n",
    "        "
   ]
  },
  {
   "cell_type": "markdown",
   "id": "f258c76a-00f1-48ba-a8a9-4f7a472e5fe6",
   "metadata": {},
   "source": [
    "### Utilites."
   ]
  },
  {
   "cell_type": "code",
   "execution_count": 118,
   "id": "fa314637-00c2-4e0a-a0a0-0dbe50a57b74",
   "metadata": {},
   "outputs": [],
   "source": [
    "class LoginUtility:\n",
    "    \n",
    "    \n",
    "    def __init__(self, root_dir,libid=None, section=None):\n",
    "        \n",
    "        self.__root_dir = root_dir\n",
    "        self.__libid = libid\n",
    "        self.__section = section\n",
    "        self.issection_available()\n",
    "    \n",
    "    \n",
    "    #-----------------------------------------------------------------#\n",
    "    \n",
    "    \n",
    "    \n",
    "    #-----------------------------------------------------------------#\n",
    "    \n",
    "    def issection_available(self):\n",
    "        # issection will be used to check the section available in our Login diretory.\n",
    "            if os.path.isdir(self.__root_dir):\n",
    "                self.ispresent()\n",
    "                # checking that section is present or not\n",
    "            else:\n",
    "                raise Exception(f\"{self.__root_dir} is not present!\")\n",
    "    #-----------------------------------------------------------------#\n",
    "    \n",
    "    \n",
    "    #-----------------------------------------------------------------#\n",
    "    def ispresent(self):\n",
    "        # \n",
    "        if os.path.isfile(os.path.join(self.__root_dir, self.__section + \".csv\")):  \n",
    "            self.is_libid_present()\n",
    "            # if section is available then we will search for the libid of the user.\n",
    "        else:\n",
    "            raise Exception(f\"user accounts database {self.__section} is not present!\")\n",
    "    #-----------------------------------------------------------------#\n",
    "    \n",
    "    #-----------------------------------------------------------------#        \n",
    "    def is_libid_present(self):\n",
    "        \n",
    "        file_name = os.path.join(self.__root_dir, self.__section + \".csv\")    \n",
    "        file = open(file_name, 'r')\n",
    "        header = self.get_line(file)\n",
    "    \n",
    "        line = True\n",
    "        print(\"checking liblid inside is_libid_present\")\n",
    "        \n",
    "        while line:\n",
    "            line = self.get_line(file)\n",
    "            # print(line)\n",
    "            if line and self.__libid == line[0]:\n",
    "                print(\"id found\")\n",
    "                file.close()\n",
    "                return True\n",
    "            \n",
    "        file.close()\n",
    "        print(\"id not found\")\n",
    "        return False\n",
    "    #-----------------------------------------------------------------#\n",
    "        \n",
    "        \n",
    "    #-----------------------------------------------------------------#\n",
    "    def get_line(self, file):\n",
    "        \n",
    "        line = file.readline()\n",
    "        if line:\n",
    "            line = line.split(\",\")\n",
    "            line[-1] = line[-1].strip(\"\\n\")\n",
    "            return line\n",
    "        \n",
    "        else:\n",
    "            return False\n",
    "        \n",
    "    \n",
    "    #-----------------------------------------------------------------#\n",
    "    # matching password."
   ]
  },
  {
   "cell_type": "code",
   "execution_count": 120,
   "id": "083ce752-d14f-45b8-9e62-5ba7632aa8fb",
   "metadata": {},
   "outputs": [
    {
     "name": "stdout",
     "output_type": "stream",
     "text": [
      "checking liblid inside is_libid_present\n",
      "id found\n"
     ]
    }
   ],
   "source": [
    "utility = LoginUtility(\"users\", \"10123\",\"students\")"
   ]
  },
  {
   "cell_type": "code",
   "execution_count": 121,
   "id": "b73e4a44-395f-4f29-aafa-791a7a4b9b5f",
   "metadata": {},
   "outputs": [
    {
     "data": {
      "text/plain": [
       "<__main__.LoginUtility at 0x1c96723e1c0>"
      ]
     },
     "execution_count": 121,
     "metadata": {},
     "output_type": "execute_result"
    }
   ],
   "source": [
    "utility"
   ]
  },
  {
   "cell_type": "code",
   "execution_count": 56,
   "id": "8959edf9-06b8-4f4b-abb1-b5f0b566cec5",
   "metadata": {},
   "outputs": [],
   "source": [
    "class StudentLogin(Login):\n",
    "    \n",
    "    def __init__(self, libid, password):\n",
    "        \n",
    "        super().__init__(libid, password)\n",
    "        \n",
    "        self.__section = \"students\"\n",
    "        \n",
    "        self.check_intigrites(self.__section)\n",
    "        \n",
    "    def process_login(self, section):\n",
    "        \n",
    "        print(\"Login processed\")\n",
    "        \n",
    "    \n",
    "   "
   ]
  },
  {
   "cell_type": "code",
   "execution_count": 130,
   "id": "016b2006-6b27-4142-8de8-7df4760d6be5",
   "metadata": {},
   "outputs": [],
   "source": [
    "a = ''"
   ]
  },
  {
   "cell_type": "code",
   "execution_count": 126,
   "id": "5e90a018-9b5a-4096-8803-9b6bcca0a01d",
   "metadata": {},
   "outputs": [
    {
     "data": {
      "text/plain": [
       "['']"
      ]
     },
     "execution_count": 126,
     "metadata": {},
     "output_type": "execute_result"
    }
   ],
   "source": [
    "a.split(\",\")"
   ]
  },
  {
   "cell_type": "code",
   "execution_count": 131,
   "id": "d3f9bbe7-d07c-45f4-83e0-9d8a43a5e4a0",
   "metadata": {},
   "outputs": [
    {
     "name": "stdout",
     "output_type": "stream",
     "text": [
      "empty\n"
     ]
    }
   ],
   "source": [
    "if a:\n",
    "    print(\"line has something\")\n",
    "else:\n",
    "    print(\"empty\")"
   ]
  },
  {
   "cell_type": "code",
   "execution_count": 2,
   "id": "5164688f-fbe5-4b24-91b0-b294276e6913",
   "metadata": {},
   "outputs": [],
   "source": [
    "a = \"hello\"\n",
    "import os"
   ]
  },
  {
   "cell_type": "code",
   "execution_count": 5,
   "id": "0bdea981-6f27-4d80-b6d1-5c55ada718a0",
   "metadata": {},
   "outputs": [
    {
     "data": {
      "text/plain": [
       "'I:\\\\WorkData\\\\Programming\\\\Python\\\\PyTutorial\\\\Advance'"
      ]
     },
     "execution_count": 5,
     "metadata": {},
     "output_type": "execute_result"
    }
   ],
   "source": [
    "os.getcwd()"
   ]
  },
  {
   "cell_type": "code",
   "execution_count": 6,
   "id": "2c6f7661-d85e-498f-aed0-eb76a50d716d",
   "metadata": {},
   "outputs": [
    {
     "data": {
      "text/plain": [
       "['.ipynb_checkpoints',\n",
       " 'Library Management Project.ipynb',\n",
       " 'OOPs Multiple Inheritance.ipynb',\n",
       " 'OPPs Inheritance Intro.ipynb',\n",
       " 'OPPs Intro1.ipynb',\n",
       " 'OPPs intro2.ipynb',\n",
       " 'OPPs Intro3.ipynb',\n",
       " 'users']"
      ]
     },
     "execution_count": 6,
     "metadata": {},
     "output_type": "execute_result"
    }
   ],
   "source": [
    "os.listdir(os.getcwd())"
   ]
  },
  {
   "cell_type": "code",
   "execution_count": 11,
   "id": "5db5b561-adb1-43cb-91ff-079a2f59e2bb",
   "metadata": {},
   "outputs": [
    {
     "data": {
      "text/plain": [
       "['.ipynb_checkpoints',\n",
       " 'Library Management Project.ipynb',\n",
       " 'OOPs Multiple Inheritance.ipynb',\n",
       " 'OPPs Inheritance Intro.ipynb',\n",
       " 'OPPs Intro1.ipynb',\n",
       " 'OPPs intro2.ipynb',\n",
       " 'OPPs Intro3.ipynb',\n",
       " 'users']"
      ]
     },
     "execution_count": 11,
     "metadata": {},
     "output_type": "execute_result"
    }
   ],
   "source": [
    "os.listdir(\"../Advance\")"
   ]
  },
  {
   "cell_type": "code",
   "execution_count": 13,
   "id": "16932f6b-911f-4764-9f2f-aaf4aa4c247d",
   "metadata": {},
   "outputs": [],
   "source": [
    "file = open(\"users/students.csv\", 'r')"
   ]
  },
  {
   "cell_type": "code",
   "execution_count": 15,
   "id": "c3d2cd35-235e-4744-b8f3-f79544089950",
   "metadata": {},
   "outputs": [
    {
     "data": {
      "text/plain": [
       "10"
      ]
     },
     "execution_count": 15,
     "metadata": {},
     "output_type": "execute_result"
    }
   ],
   "source": [
    "file.seek(10)"
   ]
  },
  {
   "cell_type": "code",
   "execution_count": 16,
   "id": "5433c3b0-eac6-42e0-bc38-5a4f9a9debb3",
   "metadata": {},
   "outputs": [
    {
     "data": {
      "text/plain": [
       "'word\\n10123'"
      ]
     },
     "execution_count": 16,
     "metadata": {},
     "output_type": "execute_result"
    }
   ],
   "source": [
    "file.read(10)"
   ]
  },
  {
   "cell_type": "code",
   "execution_count": 17,
   "id": "21b99dd4-9c50-485e-a25d-34c4cc4c247e",
   "metadata": {},
   "outputs": [
    {
     "data": {
      "text/plain": [
       "10"
      ]
     },
     "execution_count": 17,
     "metadata": {},
     "output_type": "execute_result"
    }
   ],
   "source": [
    "file.seek(10)"
   ]
  },
  {
   "cell_type": "code",
   "execution_count": 18,
   "id": "babfea89-1882-4d2b-b5f6-392cd7a64b94",
   "metadata": {},
   "outputs": [
    {
     "data": {
      "text/plain": [
       "'word\\n10123'"
      ]
     },
     "execution_count": 18,
     "metadata": {},
     "output_type": "execute_result"
    }
   ],
   "source": [
    "file.read(1)"
   ]
  },
  {
   "cell_type": "code",
   "execution_count": null,
   "id": "55a517f0-ad2a-44e2-bc6d-bbcd0d44e942",
   "metadata": {},
   "outputs": [],
   "source": []
  }
 ],
 "metadata": {
  "kernelspec": {
   "display_name": "Python 3 (ipykernel)",
   "language": "python",
   "name": "python3"
  },
  "language_info": {
   "codemirror_mode": {
    "name": "ipython",
    "version": 3
   },
   "file_extension": ".py",
   "mimetype": "text/x-python",
   "name": "python",
   "nbconvert_exporter": "python",
   "pygments_lexer": "ipython3",
   "version": "3.10.5"
  }
 },
 "nbformat": 4,
 "nbformat_minor": 5
}
