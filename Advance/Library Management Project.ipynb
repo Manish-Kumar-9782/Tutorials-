{
 "cells": [
  {
   "cell_type": "markdown",
   "id": "6949d3bd-4c71-4f48-8aa5-914cffe220c0",
   "metadata": {},
   "source": [
    "### Person class"
   ]
  },
  {
   "cell_type": "code",
   "execution_count": 40,
   "id": "10d02e0e-b670-42a0-b8e8-e9280d7f40a8",
   "metadata": {},
   "outputs": [],
   "source": [
    "class Student:\n",
    "    \n",
    "    def __init__(self, name, std, roll_no, age, libid,**other):\n",
    "        \n",
    "        self.name = name\n",
    "        self.std = std\n",
    "        self.roll_no = roll_no\n",
    "        self.age = age\n",
    "        self.libid = libid\n",
    "        \n",
    "        \n",
    "    def __str__(self):\n",
    "        \n",
    "        result = f\"\"\"Name:{self.name}\n",
    "Std: {self.std}\n",
    "RollNo: {self.roll_no}\n",
    "Age: {self.age}\n",
    "LibId: {self.libid}\n",
    "        \"\"\"\n",
    "        \n",
    "        return result\n",
    "    \n",
    "    def __repr__(self):\n",
    "        return f\"Student({self.name},{self.std},{self.roll_no},{self.age},{self.libid})\"\n",
    "    "
   ]
  },
  {
   "cell_type": "markdown",
   "id": "5e598e5d-3f56-4ec9-a310-98429e2fcc9c",
   "metadata": {},
   "source": [
    "### Employee Class"
   ]
  },
  {
   "cell_type": "code",
   "execution_count": 2,
   "id": "1f880748-f5b8-40c4-a182-54e9d96d7945",
   "metadata": {},
   "outputs": [],
   "source": [
    "class Employee(Person):\n",
    "    \n",
    "    def __init__(self, name, age, graduation, _id, designation, address , salary=None):\n",
    "        \n",
    "        super().__init__(name, age, graduation)\n",
    "        \n",
    "        self.id = _id\n",
    "        self.designation = designation\n",
    "        self.address = address\n",
    "        self.salary = None\n",
    "        \n",
    "    def __str__(self):\n",
    "        \n",
    "        result= f\"\"\"Name:\\t\\t{self.name}\\nGraduation:\\t{self.graduation}\\nAge:\\t\\t{self.age}\n",
    "Id:\\t\\t{self.id}\\nDesignation:\\t{self.designation}\\naddress:\\t{self.address}\n",
    "salary:\\t{self.salary}\n",
    "        \"\"\"\n",
    "        \n",
    "        return result\n",
    "    \n",
    "    def __repr__(self):\n",
    "        return f\"Employee({self.name},{self.age},{self.graduation},{self.id},{self.designation},{self.address}, {self.salary})\"\n",
    "    \n",
    "    \n",
    "    def get_detail(self):\n",
    "        \n",
    "        result1 = *Person.get_detail(self), self.id, self.designation, self.address, self.salary\n",
    "        result2 =  self.name, self.age, self.graduation, self.id, self.designation, self.address, self.salary\n",
    "        \n",
    "        return result2"
   ]
  },
  {
   "cell_type": "markdown",
   "id": "a399759c-50e9-4100-a0ef-e87b44e4d469",
   "metadata": {},
   "source": [
    "### Address Class"
   ]
  },
  {
   "cell_type": "code",
   "execution_count": 3,
   "id": "c37b9af8-8dcf-493b-b984-1a2c2c3cdef2",
   "metadata": {},
   "outputs": [],
   "source": [
    "class Address:\n",
    "    \n",
    "    def __init__(self, plot_no, street, landmark, city, state, country, pincode):\n",
    "        \n",
    "        self.plot_no = plot_no\n",
    "        self.street = street\n",
    "        self.landmark = landmark\n",
    "        self.city = city\n",
    "        self.state = state\n",
    "        self.country = country\n",
    "        self.pincode = pincode\n",
    "        \n",
    "    def __str__(self):\n",
    "        return f\"plot_No:{self.plot_no},{self.street}, near {self.landmark}, in {self.city},{self.state},{self.country}, Pincode: {self.pincode}\"\n",
    "    \n",
    "    def __repr__(self):\n",
    "        \n",
    "        return f\"Address({self.plot_no},{self.street},{self.landmark},{self.city},{self.state},{self.country},{self.pincode})\""
   ]
  },
  {
   "cell_type": "markdown",
   "id": "9f30487e-8e3c-47ff-898b-6e0599bb0881",
   "metadata": {},
   "source": [
    "### Book Class"
   ]
  },
  {
   "cell_type": "code",
   "execution_count": 36,
   "id": "8bd94d36-461c-400f-9c9b-1d2f1d3d87c1",
   "metadata": {},
   "outputs": [],
   "source": [
    "class Book:\n",
    "    \n",
    "    def __init__(self, title, author, pages, publisher, subject=None, department=None ):\n",
    "        \n",
    "        self.author = author\n",
    "        self.pages = pages\n",
    "        self.title = title\n",
    "        self.publisher = publisher\n",
    "        self.subject = subject\n",
    "        self.department = department\n",
    "        \n",
    "    def __str__(self):\n",
    "        \n",
    "        return  f\"Author: {self.author}\\n\\\n",
    "Pages: {self.pages}\\nTitle: {self.title}\\nPublisher: {self.publisher}\\nSubject: {self.subject}\\nDepartment: {self.department}\" \n",
    "    \n",
    "    def __repr__(self):\n",
    "        \n",
    "        return  f\"Book({self.title},{self.author},{self.pages},{self.publisher},{self.subject},{self.department})\" "
   ]
  },
  {
   "cell_type": "code",
   "execution_count": 37,
   "id": "8ec37628-5822-4905-b1b9-aeb461c7de56",
   "metadata": {},
   "outputs": [
    {
     "data": {
      "text/plain": [
       "Book(Introduction to python,Manish,100,jk,None,None)"
      ]
     },
     "execution_count": 37,
     "metadata": {},
     "output_type": "execute_result"
    }
   ],
   "source": [
    "Book(\"Introduction to python\", \"Manish\", 100,  \"jk\")"
   ]
  },
  {
   "cell_type": "markdown",
   "id": "aea13534-73a7-4d15-b87d-97e65530cff3",
   "metadata": {},
   "source": [
    "### Login Section"
   ]
  },
  {
   "cell_type": "markdown",
   "id": "fb2fa9cd-63f2-4f96-a548-c45122c56e51",
   "metadata": {},
   "source": [
    "users/students.csv\n",
    "\n",
    "users/teachers.csv\n",
    "\n",
    "ids/students_ids.csv\n",
    "\n",
    "ids/teachers_ids.csv\n"
   ]
  },
  {
   "cell_type": "markdown",
   "id": "97d1b14f-472c-4b13-9ccf-97ca7ecb8f04",
   "metadata": {},
   "source": [
    "**1.Student Login Section**"
   ]
  },
  {
   "cell_type": "code",
   "execution_count": 46,
   "id": "805a197d-d3dd-4395-9fcb-86a77b519258",
   "metadata": {},
   "outputs": [],
   "source": [
    "import os"
   ]
  },
  {
   "cell_type": "markdown",
   "id": "a6c1e4d3-6f10-4599-8d8e-8c02116d44d7",
   "metadata": {},
   "source": [
    "`os.mkdir()`: to add a new directory\n",
    "\n",
    "`os.rmdir()`: to remove a director\n",
    "\n",
    "`os.path.join()`: to join directory paths\n",
    "\n",
    "`os.path.isdir()`: to check that given path is a directory\n",
    "\n",
    "`os.path.isfile()`: to check that given path is a file"
   ]
  },
  {
   "cell_type": "code",
   "execution_count": 58,
   "id": "a2867f98-3413-4dcc-a2ef-a90c3f1757e0",
   "metadata": {},
   "outputs": [],
   "source": [
    "class Login:\n",
    "    \n",
    "    def __init__(self, user_libid, password):\n",
    "        \n",
    "        self.user_libid = user_libid\n",
    "        self.passwrod = password\n",
    "        \n",
    "        self.__root_dir = \"users\"\n",
    "        # self.__section = None\n",
    "        \n",
    "        # self.check_intigrites(self.__root_dir, \"teachers\")\n",
    "        \n",
    "    def check_intigrites(self, root_dir, section):\n",
    "        \n",
    "        if os.path.isdir(root_dir):\n",
    "            login_section = os.path.join(self.__root_dir, section+\".csv\")\n",
    "            if os.path.isfile(login_section):\n",
    "                pass\n",
    "            else:\n",
    "                os.path.mkdir(login_section)\n",
    "        # process the login\n",
    "        else:\n",
    "            os.mkdir(self.__root_dir)\n",
    "        \n",
    "        \n",
    "    def process_login(self):\n",
    "        pass\n",
    "        \n",
    "        "
   ]
  },
  {
   "cell_type": "code",
   "execution_count": 59,
   "id": "2e24046e-347b-4657-8c7b-32edd349a413",
   "metadata": {},
   "outputs": [
    {
     "data": {
      "text/plain": [
       "<__main__.Login at 0x21d2f2e9730>"
      ]
     },
     "execution_count": 59,
     "metadata": {},
     "output_type": "execute_result"
    }
   ],
   "source": [
    "Login(10203, \"Manish\")"
   ]
  },
  {
   "cell_type": "code",
   "execution_count": 62,
   "id": "d9fd5fb7-1a0f-4104-bed4-af459b73b0bc",
   "metadata": {},
   "outputs": [
    {
     "data": {
      "text/plain": [
       "False"
      ]
     },
     "execution_count": 62,
     "metadata": {},
     "output_type": "execute_result"
    }
   ],
   "source": [
    "root_dir = 'users'\n",
    "section = \"teachers\"\n",
    "\n",
    "\n",
    "\n",
    "os.path.isfile(os.path.join(root_dir, section+\".csv\"))"
   ]
  },
  {
   "cell_type": "code",
   "execution_count": 77,
   "id": "f2917c92-307f-492b-9a44-1b8f02952fde",
   "metadata": {},
   "outputs": [],
   "source": [
    "class StudentLogin(Login):\n",
    "    \n",
    "    \n",
    "    def __init__(self, user_libid, password):\n",
    "        \n",
    "        super().__init__(user_libid, password)\n",
    "        print(\"section: \", )"
   ]
  },
  {
   "cell_type": "code",
   "execution_count": 78,
   "id": "2d0bed04-4ed8-4b21-8e4f-6dbb18b1ea33",
   "metadata": {},
   "outputs": [
    {
     "ename": "AttributeError",
     "evalue": "'super' object has no attribute '_StudentLogin__section'",
     "output_type": "error",
     "traceback": [
      "\u001b[1;31m---------------------------------------------------------------------------\u001b[0m",
      "\u001b[1;31mAttributeError\u001b[0m                            Traceback (most recent call last)",
      "Input \u001b[1;32mIn [78]\u001b[0m, in \u001b[0;36m<cell line: 1>\u001b[1;34m()\u001b[0m\n\u001b[1;32m----> 1\u001b[0m a \u001b[38;5;241m=\u001b[39m \u001b[43mStudentLogin\u001b[49m\u001b[43m(\u001b[49m\u001b[38;5;241;43m1022\u001b[39;49m\u001b[43m,\u001b[49m\u001b[43m \u001b[49m\u001b[38;5;124;43m\"\u001b[39;49m\u001b[38;5;124;43mmanish\u001b[39;49m\u001b[38;5;124;43m\"\u001b[39;49m\u001b[43m)\u001b[49m\n",
      "Input \u001b[1;32mIn [77]\u001b[0m, in \u001b[0;36mStudentLogin.__init__\u001b[1;34m(self, user_libid, password)\u001b[0m\n\u001b[0;32m      4\u001b[0m \u001b[38;5;28;01mdef\u001b[39;00m \u001b[38;5;21m__init__\u001b[39m(\u001b[38;5;28mself\u001b[39m, user_libid, password):\n\u001b[0;32m      6\u001b[0m     \u001b[38;5;28msuper\u001b[39m()\u001b[38;5;241m.\u001b[39m\u001b[38;5;21m__init__\u001b[39m(user_libid, password)\n\u001b[1;32m----> 7\u001b[0m     \u001b[38;5;28mprint\u001b[39m(\u001b[38;5;124m\"\u001b[39m\u001b[38;5;124msection: \u001b[39m\u001b[38;5;124m\"\u001b[39m, \u001b[38;5;28;43msuper\u001b[39;49m\u001b[43m(\u001b[49m\u001b[43m)\u001b[49m\u001b[38;5;241;43m.\u001b[39;49m\u001b[43m__section\u001b[49m)\n",
      "\u001b[1;31mAttributeError\u001b[0m: 'super' object has no attribute '_StudentLogin__section'"
     ]
    }
   ],
   "source": [
    "a = StudentLogin(1022, \"manish\")"
   ]
  },
  {
   "cell_type": "code",
   "execution_count": null,
   "id": "1e19d896-4788-40dd-a3b3-01bf819d770c",
   "metadata": {},
   "outputs": [],
   "source": []
  }
 ],
 "metadata": {
  "kernelspec": {
   "display_name": "Python 3 (ipykernel)",
   "language": "python",
   "name": "python3"
  },
  "language_info": {
   "codemirror_mode": {
    "name": "ipython",
    "version": 3
   },
   "file_extension": ".py",
   "mimetype": "text/x-python",
   "name": "python",
   "nbconvert_exporter": "python",
   "pygments_lexer": "ipython3",
   "version": "3.8.3"
  }
 },
 "nbformat": 4,
 "nbformat_minor": 5
}
