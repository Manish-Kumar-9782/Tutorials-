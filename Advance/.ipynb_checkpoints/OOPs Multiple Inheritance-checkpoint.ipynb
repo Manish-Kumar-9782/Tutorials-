{
 "cells": [
  {
   "cell_type": "markdown",
   "id": "f2ceabcd-e469-4942-ac97-01dcf841d4ff",
   "metadata": {},
   "source": [
    "### OPPs mulitple Inheritance"
   ]
  },
  {
   "cell_type": "code",
   "execution_count": 1,
   "id": "d64fcb08-942d-4b41-8e00-bfde5e9a0c7f",
   "metadata": {},
   "outputs": [],
   "source": [
    "class A:\n",
    "    \n",
    "    def __init__(self, name):\n",
    "        print(\"__init__ called from A\")\n",
    "        self.name\n",
    "        \n",
    "    def add(self):\n",
    "        print(\"add function from A is called\")\n",
    "        \n",
    "class B:\n",
    "    \n",
    "    def __init__(self, name):\n",
    "        print(\"__init__ called from A\")\n",
    "        self.name\n",
    "        \n",
    "    def add(self):\n",
    "        print(\"add function from B is called\")"
   ]
  },
  {
   "cell_type": "code",
   "execution_count": null,
   "id": "d6b3a62c-f55a-4bcc-be91-d9fe5b03ad48",
   "metadata": {},
   "outputs": [],
   "source": [
    "class C(A,B):\n",
    "    \n",
    "    def __init__(self, name):\n",
    "        super()\n",
    "        self.name\n",
    "        \n",
    "    def add(self):\n",
    "        print(\"add function from A is called\")"
   ]
  }
 ],
 "metadata": {
  "kernelspec": {
   "display_name": "Python 3 (ipykernel)",
   "language": "python",
   "name": "python3"
  },
  "language_info": {
   "codemirror_mode": {
    "name": "ipython",
    "version": 3
   },
   "file_extension": ".py",
   "mimetype": "text/x-python",
   "name": "python",
   "nbconvert_exporter": "python",
   "pygments_lexer": "ipython3",
   "version": "3.8.3"
  }
 },
 "nbformat": 4,
 "nbformat_minor": 5
}
