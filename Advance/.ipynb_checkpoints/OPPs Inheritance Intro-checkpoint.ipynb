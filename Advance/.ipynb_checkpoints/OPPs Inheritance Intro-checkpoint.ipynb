{
 "cells": [
  {
   "cell_type": "markdown",
   "id": "0cd31435-5c88-4dfa-995b-e405b50db40a",
   "metadata": {},
   "source": [
    "## Python Class Inheritance"
   ]
  },
  {
   "cell_type": "markdown",
   "id": "1a364dd1-a53e-4d5c-9050-c8487cf741c2",
   "metadata": {},
   "source": [
    "### 1. Person Class"
   ]
  },
  {
   "cell_type": "code",
   "execution_count": 2,
   "id": "4a386162-7d7e-4f7b-9722-ad6f62756c91",
   "metadata": {},
   "outputs": [],
   "source": [
    "class Person:\n",
    "    \n",
    "    def __init__(self, name, age, graduation):\n",
    "        \n",
    "        self.name = name\n",
    "        self.age = age\n",
    "        self.graduation = graduation\n",
    "        \n",
    "    def __str__(self):\n",
    "        \n",
    "        return f\"Name:\\t\\t{self.name}\\nGraduation:\\t{self.graduation}\\nAge:{self.age}\"\n",
    "    \n",
    "    def __repr__(self):\n",
    "        return f\"Person({self.name},{self.age},{self.graduation})\"\n",
    "    \n",
    "    def get_detail(self):\n",
    "        return self.name, self.age, self.graduation"
   ]
  },
  {
   "cell_type": "code",
   "execution_count": 3,
   "id": "c50311e1-0563-4bf4-b6ca-791e26232782",
   "metadata": {},
   "outputs": [],
   "source": [
    "pr1 = Person(\"Manish\",26,\"b.tech\")"
   ]
  },
  {
   "cell_type": "code",
   "execution_count": 4,
   "id": "a94faff5-b73c-4445-88f0-452c0af2aaed",
   "metadata": {},
   "outputs": [
    {
     "data": {
      "text/plain": [
       "Person(Manish,26,b.tech)"
      ]
     },
     "execution_count": 4,
     "metadata": {},
     "output_type": "execute_result"
    }
   ],
   "source": [
    "pr1"
   ]
  },
  {
   "cell_type": "markdown",
   "id": "6d6fe565-eef3-4647-8782-b0dd77931871",
   "metadata": {},
   "source": [
    "## 2. Employee class"
   ]
  },
  {
   "cell_type": "code",
   "execution_count": 5,
   "id": "bb524e77-7f7c-413f-82e3-23fb4de525ef",
   "metadata": {
    "jupyter": {
     "source_hidden": true
    },
    "tags": []
   },
   "outputs": [],
   "source": [
    "class Employee:\n",
    "    \n",
    "    def __init__(self, name, age, graduation, _id, designation, address):\n",
    "        \n",
    "        self.id = _id\n",
    "        self.designation = designation\n",
    "        self.address = address\n",
    "        \n",
    "    def __str__(self):\n",
    "        \n",
    "        return f\"Id:\\t\\t{self.id}\\nDesignation:\\t{self.designation}\\naddress:{self.address}\"\n",
    "    \n",
    "    def __repr__(self):\n",
    "        return f\"Employee({self.id},{self.designation},{self.address})\"\n",
    "    \n",
    "    "
   ]
  },
  {
   "cell_type": "code",
   "execution_count": 6,
   "id": "f1616493-c8f1-4446-99ae-56a11c66c09f",
   "metadata": {},
   "outputs": [],
   "source": [
    "emp1 = Employee(\"Manish\",26, 'b.tech', 101, \"Teacher\", \"Unknown\")"
   ]
  },
  {
   "cell_type": "code",
   "execution_count": 7,
   "id": "c1d84d98-5989-49d9-9bcd-93b313ff7e4b",
   "metadata": {},
   "outputs": [
    {
     "data": {
      "text/plain": [
       "Employee(101,Teacher,Unknown)"
      ]
     },
     "execution_count": 7,
     "metadata": {},
     "output_type": "execute_result"
    }
   ],
   "source": [
    "emp1"
   ]
  },
  {
   "cell_type": "code",
   "execution_count": null,
   "id": "13c0f783-43fd-4470-907b-7fe0494974c9",
   "metadata": {},
   "outputs": [],
   "source": []
  },
  {
   "cell_type": "markdown",
   "id": "8b0316fb-089e-4bce-9937-3bc0635806d7",
   "metadata": {},
   "source": [
    "### 3. Inheriting the Person into Employee class"
   ]
  },
  {
   "cell_type": "code",
   "execution_count": 9,
   "id": "0e5c69ac-3846-4b8c-9b11-b105ed368074",
   "metadata": {},
   "outputs": [],
   "source": [
    "class Employee(Person):\n",
    "    \n",
    "    def __init__(self, name, age, graduation, _id, designation, address , salary=None):\n",
    "        \n",
    "        super().__init__(name, age, graduation)\n",
    "        \n",
    "        self.id = _id\n",
    "        self.designation = designation\n",
    "        self.address = address\n",
    "        self.salary = None\n",
    "        \n",
    "    def __str__(self):\n",
    "        \n",
    "        result= f\"\"\"Name:\\t\\t{self.name}\\nGraduation:\\t{self.graduation}\\nAge:\\t\\t{self.age}\n",
    "Id:\\t\\t{self.id}\\nDesignation:\\t{self.designation}\\naddress:\\t{self.address}\n",
    "salary:\\t{self.salary}\n",
    "        \"\"\"\n",
    "        \n",
    "        return result\n",
    "    \n",
    "    def __repr__(self):\n",
    "        return f\"Employee({self.name},{self.age},{self.graduation},{self.id},{self.designation},{self.address}, {self.salary})\"\n",
    "    \n",
    "    \n",
    "    def get_detail(self):\n",
    "        \n",
    "        result1 = *Person.get_detail(self), self.id, self.designation, self.address, self.salary\n",
    "        result2 =  self.name, self.age, self.graduation, self.id, self.designation, self.address, self.salary\n",
    "        \n",
    "        return result2"
   ]
  },
  {
   "cell_type": "code",
   "execution_count": 10,
   "id": "aeff7967-28cb-42cc-9db6-87f11621db22",
   "metadata": {},
   "outputs": [],
   "source": [
    "emp1 = Employee(\"Manish\",26, 'b.tech', 101, \"Teacher\", \"Unknown\")"
   ]
  },
  {
   "cell_type": "code",
   "execution_count": 11,
   "id": "76ae6714-c2d4-4fad-a68e-61b4f96a9943",
   "metadata": {},
   "outputs": [
    {
     "data": {
      "text/plain": [
       "('Manish', 26, 'b.tech', 101, 'Teacher', 'Unknown', None)"
      ]
     },
     "execution_count": 11,
     "metadata": {},
     "output_type": "execute_result"
    }
   ],
   "source": [
    "emp1.get_detail()"
   ]
  },
  {
   "cell_type": "code",
   "execution_count": 12,
   "id": "dedbf07e-0f27-411e-b0d5-327c2829a446",
   "metadata": {},
   "outputs": [
    {
     "data": {
      "text/plain": [
       "Employee(Manish,26,b.tech,101,Teacher,Unknown, None)"
      ]
     },
     "execution_count": 12,
     "metadata": {},
     "output_type": "execute_result"
    }
   ],
   "source": [
    "emp1"
   ]
  },
  {
   "cell_type": "code",
   "execution_count": null,
   "id": "2ea0a741-5f6f-4000-96e5-66546145f1dd",
   "metadata": {},
   "outputs": [],
   "source": []
  },
  {
   "cell_type": "markdown",
   "id": "25a87445-8a06-4112-a108-21799456b74d",
   "metadata": {},
   "source": [
    "### 4. Making a class for address"
   ]
  },
  {
   "cell_type": "code",
   "execution_count": 13,
   "id": "af4fa9f1-6c07-484d-bf18-a71f4ffb0ba6",
   "metadata": {},
   "outputs": [],
   "source": [
    "class Address:\n",
    "    \n",
    "    def __init__(self, plot_no, street, landmark, city, state, country, pincode):\n",
    "        \n",
    "        self.plot_no = plot_no\n",
    "        self.street = street\n",
    "        self.landmark = landmark\n",
    "        self.city = city\n",
    "        self.state = state\n",
    "        self.country = country\n",
    "        self.pincode = pincode\n",
    "        \n",
    "    def __str__(self):\n",
    "        return f\"plot_No:{self.plot_no},{self.street}, near {self.landmark}, in {self.city},{self.state},{self.country}, Pincode: {self.pincode}\"\n",
    "    \n",
    "    def __repr__(self):\n",
    "        \n",
    "        return f\"Address({self.plot_no},{self.street},{self.landmark},{self.city},{self.state},{self.country},{self.pincode})\""
   ]
  },
  {
   "cell_type": "code",
   "execution_count": 14,
   "id": "e60e4619-795b-4c3e-b30d-637d1af781d4",
   "metadata": {},
   "outputs": [],
   "source": [
    "add1 = Address(\"21\",\"Vasant vihar\",\"Pawna restaurent\",\"jaipur\",\"Rajasthan\",\"India\",\"303030\")"
   ]
  },
  {
   "cell_type": "code",
   "execution_count": 15,
   "id": "4accc5a6-9641-44bf-bbcf-439d252d238c",
   "metadata": {},
   "outputs": [
    {
     "data": {
      "text/plain": [
       "Address(21,Vasant vihar,Pawna restaurent,jaipur,Rajasthan,India,303030)"
      ]
     },
     "execution_count": 15,
     "metadata": {},
     "output_type": "execute_result"
    }
   ],
   "source": [
    "add1"
   ]
  },
  {
   "cell_type": "code",
   "execution_count": 16,
   "id": "89e77d56-b840-4821-bf18-6ec9c04a72b5",
   "metadata": {},
   "outputs": [
    {
     "name": "stdout",
     "output_type": "stream",
     "text": [
      "plot_No:21,Vasant vihar, near Pawna restaurent, in jaipur,Rajasthan,India, Pincode: 303030\n"
     ]
    }
   ],
   "source": [
    "print(add1)"
   ]
  },
  {
   "cell_type": "code",
   "execution_count": 28,
   "id": "40a183f9-3359-4994-98f6-5909adebb75e",
   "metadata": {},
   "outputs": [],
   "source": [
    "class Employee(Person):\n",
    "    \n",
    "    def __init__(self, name, age, graduation, _id, designation, address:Address , salary=None):\n",
    "        \n",
    "        super().__init__(name, age, graduation)\n",
    "        \n",
    "        self.id = _id\n",
    "        self.designation = designation\n",
    "        self.salary = None\n",
    "        \n",
    "        if isinstance(address, Address):\n",
    "            self.address = address\n",
    "        else:\n",
    "            raise TypeError(\"address is not an instance of Address \")\n",
    "        \n",
    "    def __str__(self):\n",
    "        \n",
    "        result= f\"\"\"Name:\\t\\t{self.name}\\nGraduation:\\t{self.graduation}\\nAge:\\t\\t{self.age}\n",
    "Id:\\t\\t{self.id}\\nDesignation:\\t{self.designation}\\naddress:\\t{self.address}\n",
    "salary:\\t{self.salary}\n",
    "        \"\"\"\n",
    "        result2 = f\"id:\\t\\t{self.id}\\nDesignation:\\t{self.designation}\\nAddress:\\t{self.address}\"\n",
    "        \n",
    "        return super().__str__() + \"\\n\" + result2\n",
    "    \n",
    "    def __repr__(self):\n",
    "        return f\"Employee({self.name},{self.age},{self.graduation},{self.id},{self.designation},{repr(self.address)}, {self.salary})\"\n",
    "    \n",
    "    \n",
    "    def get_detail(self):\n",
    "        \n",
    "        result1 = *Person.get_detail(self), self.id, self.designation, self.address, self.salary\n",
    "        result2 =  self.name, self.age, self.graduation, self.id, self.designation, self.address, self.salary\n",
    "        \n",
    "        return result2"
   ]
  },
  {
   "cell_type": "code",
   "execution_count": 29,
   "id": "f7354c15-f48e-46d8-acc6-4cc0a382a625",
   "metadata": {},
   "outputs": [],
   "source": [
    "add1 = Address(\"21\",\"Vasant vihar\",\"Pawna restaurent\",\"jaipur\",\"Rajasthan\",\"India\",\"303030\")"
   ]
  },
  {
   "cell_type": "code",
   "execution_count": 30,
   "id": "846dcf1b-899c-488f-8940-cec2dec8480e",
   "metadata": {},
   "outputs": [],
   "source": [
    "emp1 = Employee(\"Manish\",26, 'b.tech', 101, \"Teacher\", add1)"
   ]
  },
  {
   "cell_type": "code",
   "execution_count": 31,
   "id": "dd2d0721-2f98-4642-9a1f-0ef273ddb413",
   "metadata": {},
   "outputs": [
    {
     "ename": "AttributeError",
     "evalue": "'Employee' object has no attribute 'result2'",
     "output_type": "error",
     "traceback": [
      "\u001b[1;31m---------------------------------------------------------------------------\u001b[0m",
      "\u001b[1;31mAttributeError\u001b[0m                            Traceback (most recent call last)",
      "Input \u001b[1;32mIn [31]\u001b[0m, in \u001b[0;36m<cell line: 1>\u001b[1;34m()\u001b[0m\n\u001b[1;32m----> 1\u001b[0m \u001b[38;5;28;43mprint\u001b[39;49m\u001b[43m(\u001b[49m\u001b[43memp1\u001b[49m\u001b[43m)\u001b[49m\n",
      "Input \u001b[1;32mIn [28]\u001b[0m, in \u001b[0;36mEmployee.__str__\u001b[1;34m(self)\u001b[0m\n\u001b[0;32m     18\u001b[0m         result\u001b[38;5;241m=\u001b[39m \u001b[38;5;124mf\u001b[39m\u001b[38;5;124m\"\"\"\u001b[39m\u001b[38;5;124mName:\u001b[39m\u001b[38;5;130;01m\\t\u001b[39;00m\u001b[38;5;130;01m\\t\u001b[39;00m\u001b[38;5;132;01m{\u001b[39;00m\u001b[38;5;28mself\u001b[39m\u001b[38;5;241m.\u001b[39mname\u001b[38;5;132;01m}\u001b[39;00m\u001b[38;5;130;01m\\n\u001b[39;00m\u001b[38;5;124mGraduation:\u001b[39m\u001b[38;5;130;01m\\t\u001b[39;00m\u001b[38;5;132;01m{\u001b[39;00m\u001b[38;5;28mself\u001b[39m\u001b[38;5;241m.\u001b[39mgraduation\u001b[38;5;132;01m}\u001b[39;00m\u001b[38;5;130;01m\\n\u001b[39;00m\u001b[38;5;124mAge:\u001b[39m\u001b[38;5;130;01m\\t\u001b[39;00m\u001b[38;5;130;01m\\t\u001b[39;00m\u001b[38;5;132;01m{\u001b[39;00m\u001b[38;5;28mself\u001b[39m\u001b[38;5;241m.\u001b[39mage\u001b[38;5;132;01m}\u001b[39;00m\n\u001b[0;32m     19\u001b[0m \u001b[38;5;124mId:\u001b[39m\u001b[38;5;130;01m\\t\u001b[39;00m\u001b[38;5;130;01m\\t\u001b[39;00m\u001b[38;5;132;01m{\u001b[39;00m\u001b[38;5;28mself\u001b[39m\u001b[38;5;241m.\u001b[39mid\u001b[38;5;132;01m}\u001b[39;00m\u001b[38;5;130;01m\\n\u001b[39;00m\u001b[38;5;124mDesignation:\u001b[39m\u001b[38;5;130;01m\\t\u001b[39;00m\u001b[38;5;132;01m{\u001b[39;00m\u001b[38;5;28mself\u001b[39m\u001b[38;5;241m.\u001b[39mdesignation\u001b[38;5;132;01m}\u001b[39;00m\u001b[38;5;130;01m\\n\u001b[39;00m\u001b[38;5;124maddress:\u001b[39m\u001b[38;5;130;01m\\t\u001b[39;00m\u001b[38;5;132;01m{\u001b[39;00m\u001b[38;5;28mself\u001b[39m\u001b[38;5;241m.\u001b[39maddress\u001b[38;5;132;01m}\u001b[39;00m\n\u001b[0;32m     20\u001b[0m \u001b[38;5;124msalary:\u001b[39m\u001b[38;5;130;01m\\t\u001b[39;00m\u001b[38;5;132;01m{\u001b[39;00m\u001b[38;5;28mself\u001b[39m\u001b[38;5;241m.\u001b[39msalary\u001b[38;5;132;01m}\u001b[39;00m\n\u001b[0;32m     21\u001b[0m \u001b[38;5;124m        \u001b[39m\u001b[38;5;124m\"\"\"\u001b[39m\n\u001b[0;32m     22\u001b[0m         result2 \u001b[38;5;241m=\u001b[39m \u001b[38;5;124mf\u001b[39m\u001b[38;5;124m\"\u001b[39m\u001b[38;5;124mid:\u001b[39m\u001b[38;5;130;01m\\t\u001b[39;00m\u001b[38;5;130;01m\\t\u001b[39;00m\u001b[38;5;132;01m{\u001b[39;00m\u001b[38;5;28mself\u001b[39m\u001b[38;5;241m.\u001b[39mid\u001b[38;5;132;01m}\u001b[39;00m\u001b[38;5;130;01m\\n\u001b[39;00m\u001b[38;5;124mDesignation:\u001b[39m\u001b[38;5;130;01m\\t\u001b[39;00m\u001b[38;5;132;01m{\u001b[39;00m\u001b[38;5;28mself\u001b[39m\u001b[38;5;241m.\u001b[39mdesignation\u001b[38;5;132;01m}\u001b[39;00m\u001b[38;5;130;01m\\n\u001b[39;00m\u001b[38;5;124mAddress:\u001b[39m\u001b[38;5;130;01m\\t\u001b[39;00m\u001b[38;5;132;01m{\u001b[39;00m\u001b[38;5;28mself\u001b[39m\u001b[38;5;241m.\u001b[39maddress\u001b[38;5;132;01m}\u001b[39;00m\u001b[38;5;124m\"\u001b[39m\n\u001b[1;32m---> 24\u001b[0m         \u001b[38;5;28;01mreturn\u001b[39;00m \u001b[38;5;28msuper\u001b[39m()\u001b[38;5;241m.\u001b[39m\u001b[38;5;21m__str__\u001b[39m() \u001b[38;5;241m+\u001b[39m \u001b[38;5;124m\"\u001b[39m\u001b[38;5;130;01m\\n\u001b[39;00m\u001b[38;5;124m\"\u001b[39m \u001b[38;5;241m+\u001b[39m \u001b[38;5;28;43mself\u001b[39;49m\u001b[38;5;241;43m.\u001b[39;49m\u001b[43mresult2\u001b[49m\n",
      "\u001b[1;31mAttributeError\u001b[0m: 'Employee' object has no attribute 'result2'"
     ]
    }
   ],
   "source": [
    "print(emp1)"
   ]
  },
  {
   "cell_type": "code",
   "execution_count": 21,
   "id": "5778ca4d-be3f-4937-8d41-da49056030e9",
   "metadata": {},
   "outputs": [
    {
     "data": {
      "text/plain": [
       "Address(21,Vasant vihar,Pawna restaurent,jaipur,Rajasthan,India,303030)"
      ]
     },
     "execution_count": 21,
     "metadata": {},
     "output_type": "execute_result"
    }
   ],
   "source": [
    "emp1.address"
   ]
  },
  {
   "cell_type": "code",
   "execution_count": 22,
   "id": "84f59497-2c90-4ff8-8634-c9e63d23c7e8",
   "metadata": {},
   "outputs": [
    {
     "data": {
      "text/plain": [
       "'303030'"
      ]
     },
     "execution_count": 22,
     "metadata": {},
     "output_type": "execute_result"
    }
   ],
   "source": [
    "emp1.address.pincode"
   ]
  },
  {
   "cell_type": "code",
   "execution_count": 23,
   "id": "73c3323e-d27e-41ed-a5c1-f9b4cae2ef09",
   "metadata": {},
   "outputs": [
    {
     "data": {
      "text/plain": [
       "'jaipur'"
      ]
     },
     "execution_count": 23,
     "metadata": {},
     "output_type": "execute_result"
    }
   ],
   "source": [
    "emp1.address.city"
   ]
  }
 ],
 "metadata": {
  "kernelspec": {
   "display_name": "Python 3 (ipykernel)",
   "language": "python",
   "name": "python3"
  },
  "language_info": {
   "codemirror_mode": {
    "name": "ipython",
    "version": 3
   },
   "file_extension": ".py",
   "mimetype": "text/x-python",
   "name": "python",
   "nbconvert_exporter": "python",
   "pygments_lexer": "ipython3",
   "version": "3.8.3"
  }
 },
 "nbformat": 4,
 "nbformat_minor": 5
}
