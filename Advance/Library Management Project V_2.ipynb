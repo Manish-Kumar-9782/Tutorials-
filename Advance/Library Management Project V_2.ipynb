{
 "cells": [
  {
   "cell_type": "code",
   "execution_count": 35,
   "id": "5985b1ba-56dd-4084-9df0-bdf20aefce38",
   "metadata": {},
   "outputs": [],
   "source": [
    "import os"
   ]
  },
  {
   "cell_type": "code",
   "execution_count": 36,
   "id": "be63a30b-cbb5-40a6-b76c-241ca0168130",
   "metadata": {},
   "outputs": [],
   "source": [
    "class Student:\n",
    "    \n",
    "    def __init__(self, name, std, roll_no, age, libid,**other):\n",
    "        \n",
    "        self.name = name\n",
    "        self.std = std\n",
    "        self.roll_no = roll_no\n",
    "        self.age = age\n",
    "        self.libid = libid\n",
    "        \n",
    "        \n",
    "    def __str__(self):\n",
    "        \n",
    "        result = f\"\"\"Name:{self.name}\n",
    "Std: {self.std}\n",
    "RollNo: {self.roll_no}\n",
    "Age: {self.age}\n",
    "LibId: {self.libid}\n",
    "        \"\"\"\n",
    "        \n",
    "        return result\n",
    "    \n",
    "    def __repr__(self):\n",
    "        return f\"Student({self.name},{self.std},{self.roll_no},{self.age},{self.libid})\"\n",
    "    "
   ]
  },
  {
   "cell_type": "code",
   "execution_count": 37,
   "id": "3309f533-6a8d-4797-ac25-095410602589",
   "metadata": {},
   "outputs": [],
   "source": [
    "class Employee(Student):\n",
    "    \n",
    "    def __init__(self, name, age, graduation, _id, designation, address , salary=None):\n",
    "        \n",
    "        super().__init__(name, age, graduation)\n",
    "        \n",
    "        self.id = _id\n",
    "        self.designation = designation\n",
    "        self.address = address\n",
    "        self.salary = None\n",
    "        \n",
    "    def __str__(self):\n",
    "        \n",
    "        result= f\"\"\"Name:\\t\\t{self.name}\\nGraduation:\\t{self.graduation}\\nAge:\\t\\t{self.age}\n",
    "Id:\\t\\t{self.id}\\nDesignation:\\t{self.designation}\\naddress:\\t{self.address}\n",
    "salary:\\t{self.salary}\n",
    "        \"\"\"\n",
    "        \n",
    "        return result\n",
    "    \n",
    "    def __repr__(self):\n",
    "        return f\"Employee({self.name},{self.age},{self.graduation},{self.id},{self.designation},{self.address}, {self.salary})\"\n",
    "    \n",
    "    \n",
    "    def get_detail(self):\n",
    "        \n",
    "        result1 = *Person.get_detail(self), self.id, self.designation, self.address, self.salary\n",
    "        result2 =  self.name, self.age, self.graduation, self.id, self.designation, self.address, self.salary\n",
    "        \n",
    "        return result2"
   ]
  },
  {
   "cell_type": "code",
   "execution_count": 38,
   "id": "099353c5-f91e-4195-a734-10f5fc9b55cb",
   "metadata": {},
   "outputs": [],
   "source": [
    "class Address:\n",
    "    \n",
    "    def __init__(self, plot_no, street, landmark, city, state, country, pincode):\n",
    "        \n",
    "        self.plot_no = plot_no\n",
    "        self.street = street\n",
    "        self.landmark = landmark\n",
    "        self.city = city\n",
    "        self.state = state\n",
    "        self.country = country\n",
    "        self.pincode = pincode\n",
    "        \n",
    "    def __str__(self):\n",
    "        return f\"plot_No:{self.plot_no},{self.street}, near {self.landmark}, in {self.city},{self.state},{self.country}, Pincode: {self.pincode}\"\n",
    "    \n",
    "    def __repr__(self):\n",
    "        \n",
    "        return f\"Address({self.plot_no},{self.street},{self.landmark},{self.city},{self.state},{self.country},{self.pincode})\""
   ]
  },
  {
   "cell_type": "code",
   "execution_count": 39,
   "id": "a61e0986-be33-4f4e-ad32-5e3f2bd0c52c",
   "metadata": {},
   "outputs": [],
   "source": [
    "class Book:\n",
    "    \n",
    "    def __init__(self, title, author, pages, publisher, subject=None, department=None ):\n",
    "        \n",
    "        self.author = author\n",
    "        self.pages = pages\n",
    "        self.title = title\n",
    "        self.publisher = publisher\n",
    "        self.subject = subject\n",
    "        self.department = department\n",
    "        \n",
    "    def __str__(self):\n",
    "        \n",
    "        return  f\"Author: {self.author}\\n\\\n",
    "Pages: {self.pages}\\nTitle: {self.title}\\nPublisher: {self.publisher}\\nSubject: {self.subject}\\nDepartment: {self.department}\" \n",
    "    \n",
    "    def __repr__(self):\n",
    "        \n",
    "        return  f\"Book({self.title},{self.author},{self.pages},{self.publisher},{self.subject},{self.department})\" "
   ]
  },
  {
   "cell_type": "code",
   "execution_count": 40,
   "id": "6fcb0ebf-f2ac-4022-8a9b-7082d17f2341",
   "metadata": {},
   "outputs": [],
   "source": [
    "class Login:\n",
    "    \n",
    "    def __init__(self, user_libid, password):\n",
    "        \n",
    "        self.user_libid = user_libid\n",
    "        self.passwrod = password\n",
    "        \n",
    "        self.__root_dir = \"users\"\n",
    "        # root_dir for users accounts (students , teachers)\n",
    "        # self.__section = None\n",
    "        \n",
    "        # self.check_intigrites(self.__root_dir, \"teachers\")\n",
    "        \n",
    "    def check_intigrites(self,section):\n",
    "        \n",
    "        if os.path.isdir(self.__root_dir):\n",
    "            login_section = os.path.join(self.__root_dir, section+\".csv\")\n",
    "            \n",
    "            if os.path.isfile(login_section):\n",
    "                self.process_login()\n",
    "            else:\n",
    "                fp = open(login_section, \"w\")\n",
    "                fp.write(\"libid,password\\n\")\n",
    "                fp.close()\n",
    "        # process the login\n",
    "        else:\n",
    "            os.mkdir(self.__root_dir)\n",
    "        \n",
    "    def get_root_dir(self):\n",
    "        return self.__root_dir\n",
    "        \n",
    "    def process_login(self):\n",
    "        pass\n",
    "        \n",
    "        "
   ]
  },
  {
   "cell_type": "code",
   "execution_count": 41,
   "id": "f4844f0a-e83b-4363-bd0a-7323c3c4c2f4",
   "metadata": {
    "tags": []
   },
   "outputs": [],
   "source": [
    "class LoginUtility:\n",
    "    \n",
    "    \n",
    "    def __init__(self, root_dir,libid=None, section=None):\n",
    "        \n",
    "        self.__root_dir = root_dir\n",
    "        self.__libid = libid\n",
    "        self.__section = section\n",
    "        \n",
    "    \n",
    "    \n",
    "    #-----------------------------------------------------------------#\n",
    "    \n",
    "    def matchPassword(self,libid=None, password=None, section=None):\n",
    "        \n",
    "        if libid is not None:\n",
    "            self.__libid = libid\n",
    "        \n",
    "        if section is not None:\n",
    "            self.__section = section\n",
    "            \n",
    "        # Now we need to check \n",
    "            # 1. section \n",
    "            # 2. libid \n",
    "            # 3. password match\n",
    "        \n",
    "        db_data = self.issection_available()\n",
    "        \n",
    "        if db_data  and db_data[1] == password:\n",
    "            return True\n",
    "        else:\n",
    "            return False\n",
    "    \n",
    "    #-----------------------------------------------------------------#\n",
    "    \n",
    "    def issection_available(self):\n",
    "        # issection will be used to check the section available in our Login diretory.\n",
    "            if os.path.isdir(self.__root_dir):\n",
    "                return self.ispresent()\n",
    "                # checking that section is present or not\n",
    "            else:\n",
    "                raise Exception(f\"{self.__root_dir} is not present!\")\n",
    "    #-----------------------------------------------------------------#\n",
    "    \n",
    "    \n",
    "    #-----------------------------------------------------------------#\n",
    "    def ispresent(self):\n",
    "        # \n",
    "        if os.path.isfile(os.path.join(self.__root_dir, self.__section + \".csv\")):  \n",
    "            return self.is_libid_present()\n",
    "            # if section is available then we will search for the libid of the user.\n",
    "        else:\n",
    "            raise Exception(f\"user accounts database {self.__section} is not present!\")\n",
    "    #-----------------------------------------------------------------#\n",
    "    \n",
    "    #-----------------------------------------------------------------#        \n",
    "    def is_libid_present(self):\n",
    "        \n",
    "        file_name = os.path.join(self.__root_dir, self.__section + \".csv\")    \n",
    "        file = open(file_name, 'r')\n",
    "        header = self.get_line(file)\n",
    "    \n",
    "        line = True\n",
    "        print(\"checking liblid inside is_libid_present\")\n",
    "        \n",
    "        while line:\n",
    "            line = self.get_line(file)\n",
    "            # print(line)\n",
    "            if line and self.__libid == line[0]:\n",
    "                print(\"id found\")\n",
    "                file.close()\n",
    "                return line\n",
    "            \n",
    "        file.close()\n",
    "        print(\"id not found\")\n",
    "        return False\n",
    "    #-----------------------------------------------------------------#\n",
    "        \n",
    "        \n",
    "    #-----------------------------------------------------------------#\n",
    "    def get_line(self, file):\n",
    "        \n",
    "        line = file.readline()\n",
    "        if line:\n",
    "            line = line.split(\",\")\n",
    "            line[-1] = line[-1].strip(\"\\n\")\n",
    "            return line\n",
    "        \n",
    "        else:\n",
    "            return False\n",
    "        \n",
    "    \n",
    "    #-----------------------------------------------------------------#\n",
    "    # matching password."
   ]
  },
  {
   "cell_type": "code",
   "execution_count": 42,
   "id": "6fbd93f3-cc9c-41e2-b4b6-eb562695b813",
   "metadata": {},
   "outputs": [],
   "source": [
    "login = LoginUtility('users')"
   ]
  },
  {
   "cell_type": "code",
   "execution_count": 43,
   "id": "abe1de3d-f964-43ea-937b-175762d8a650",
   "metadata": {},
   "outputs": [
    {
     "name": "stdout",
     "output_type": "stream",
     "text": [
      "checking liblid inside is_libid_present\n",
      "id found\n"
     ]
    },
    {
     "data": {
      "text/plain": [
       "True"
      ]
     },
     "execution_count": 43,
     "metadata": {},
     "output_type": "execute_result"
    }
   ],
   "source": [
    "login.matchPassword(\"10123\", \"hello123\", 'students')"
   ]
  },
  {
   "cell_type": "code",
   "execution_count": null,
   "id": "245489fc-1138-46cf-a62f-4d94f2dbae52",
   "metadata": {},
   "outputs": [],
   "source": []
  },
  {
   "cell_type": "code",
   "execution_count": 46,
   "id": "353bdb72-868c-4cbb-89a1-f8329bbde79c",
   "metadata": {},
   "outputs": [],
   "source": [
    "class StudentLogin(Login, LoginUtility):\n",
    "    \n",
    "    def __init__(self, libid, password):\n",
    "        \n",
    "        super().__init__(libid, password)\n",
    "        \n",
    "        self.__section = \"students\"\n",
    "        LoginUtility.__init__(self, root_dir= super().get_root_dir() , libid=libid, section=self.__section)\n",
    "        \n",
    "        \n",
    "        \n",
    "        # self.check_intigrites(self.__section)\n",
    "        \n",
    "        self.process_login(password)\n",
    "        \n",
    "    def process_login(self, password):\n",
    "        \n",
    "        if self.matchPassword(password=password):\n",
    "            print(\"Access Granted\")\n",
    "        else:\n",
    "            print(\"Access Denied\")\n",
    "        \n",
    "    \n",
    "   "
   ]
  },
  {
   "cell_type": "code",
   "execution_count": 49,
   "id": "69f7b8bf-0cd4-43ef-8e3c-73e835aba4d0",
   "metadata": {},
   "outputs": [
    {
     "name": "stdout",
     "output_type": "stream",
     "text": [
      "checking liblid inside is_libid_present\n",
      "id found\n",
      "Access Granted\n"
     ]
    },
    {
     "data": {
      "text/plain": [
       "<__main__.StudentLogin at 0x261c69c1df0>"
      ]
     },
     "execution_count": 49,
     "metadata": {},
     "output_type": "execute_result"
    }
   ],
   "source": [
    "StudentLogin(\"10123\",\"hello123\")"
   ]
  },
  {
   "cell_type": "code",
   "execution_count": null,
   "id": "39b643cb-bc5b-4b94-8367-398ac4da4a70",
   "metadata": {},
   "outputs": [],
   "source": []
  }
 ],
 "metadata": {
  "kernelspec": {
   "display_name": "Python 3 (ipykernel)",
   "language": "python",
   "name": "python3"
  },
  "language_info": {
   "codemirror_mode": {
    "name": "ipython",
    "version": 3
   },
   "file_extension": ".py",
   "mimetype": "text/x-python",
   "name": "python",
   "nbconvert_exporter": "python",
   "pygments_lexer": "ipython3",
   "version": "3.10.5"
  }
 },
 "nbformat": 4,
 "nbformat_minor": 5
}
