{
 "cells": [
  {
   "cell_type": "markdown",
   "id": "f2ceabcd-e469-4942-ac97-01dcf841d4ff",
   "metadata": {},
   "source": [
    "### OPPs mulitple Inheritance"
   ]
  },
  {
   "cell_type": "code",
   "execution_count": 84,
   "id": "d64fcb08-942d-4b41-8e00-bfde5e9a0c7f",
   "metadata": {},
   "outputs": [],
   "source": [
    "class A:\n",
    "    \n",
    "    def __init__(self, name):\n",
    "        print(\"__init__ called from A\")\n",
    "        self.name = name\n",
    "        \n",
    "    def add(self):\n",
    "        print(\"add function from A is called\")\n",
    "        \n",
    "    def multi(self):\n",
    "        print(\"multi function from A is Called\")\n",
    "        \n",
    "class B:\n",
    "    \n",
    "    def __init__(self, name):\n",
    "        print(\"__init__ called from B\")\n",
    "        self.name = name\n",
    "         \n",
    "    def add(self):\n",
    "        print(\"add function from B is called\")\n",
    "        \n",
    "    def divide(self):\n",
    "        print(\"divide function from B is called\")"
   ]
  },
  {
   "cell_type": "code",
   "execution_count": 85,
   "id": "d6b3a62c-f55a-4bcc-be91-d9fe5b03ad48",
   "metadata": {},
   "outputs": [],
   "source": [
    "class C(B,A):\n",
    "    \n",
    "    def __init__(self, name):\n",
    "        print(\"Hello\")\n",
    "        super().__init__(name)\n",
    "        # A.__init__(self,name)\n",
    "        # B.__init__(self,name)\n",
    "        # super(A,name).__init__()\n",
    "        self.name = name\n",
    "        \n",
    "    def add(self):\n",
    "        super().add()\n",
    "        \n",
    "    def multi(self):\n",
    "        super().multi()"
   ]
  },
  {
   "cell_type": "code",
   "execution_count": 86,
   "id": "06f25340-552f-4d7d-b29b-276369ba4fd8",
   "metadata": {},
   "outputs": [
    {
     "name": "stdout",
     "output_type": "stream",
     "text": [
      "Hello\n",
      "__init__ called from B\n"
     ]
    }
   ],
   "source": [
    "obj = C(\"hello\")"
   ]
  },
  {
   "cell_type": "code",
   "execution_count": 78,
   "id": "a0468d7b-a5e7-454c-80af-9ced37d7a0a3",
   "metadata": {},
   "outputs": [
    {
     "name": "stdout",
     "output_type": "stream",
     "text": [
      "multi function from A is Called\n"
     ]
    }
   ],
   "source": [
    "obj.multi()"
   ]
  },
  {
   "cell_type": "code",
   "execution_count": 79,
   "id": "5fcc44e6-dc7c-4a67-8eaa-ac5b22bfde8c",
   "metadata": {},
   "outputs": [
    {
     "name": "stdout",
     "output_type": "stream",
     "text": [
      "add function from B is called\n"
     ]
    }
   ],
   "source": [
    "obj.add()"
   ]
  },
  {
   "cell_type": "code",
   "execution_count": 80,
   "id": "2585b7aa-e77a-4b29-b250-7c347b9c378d",
   "metadata": {},
   "outputs": [
    {
     "data": {
      "text/plain": [
       "{'name': 'hello'}"
      ]
     },
     "execution_count": 80,
     "metadata": {},
     "output_type": "execute_result"
    }
   ],
   "source": []
  },
  {
   "cell_type": "code",
   "execution_count": 81,
   "id": "7e4fca4b-f1bb-40a4-8a2a-5e8f3ceb3bdc",
   "metadata": {},
   "outputs": [
    {
     "data": {
      "text/plain": [
       "mappingproxy({'__module__': '__main__',\n",
       "              '__init__': <function __main__.A.__init__(self, name)>,\n",
       "              'add': <function __main__.A.add(self)>,\n",
       "              'multi': <function __main__.A.multi(self)>,\n",
       "              '__dict__': <attribute '__dict__' of 'A' objects>,\n",
       "              '__weakref__': <attribute '__weakref__' of 'A' objects>,\n",
       "              '__doc__': None})"
      ]
     },
     "execution_count": 81,
     "metadata": {},
     "output_type": "execute_result"
    }
   ],
   "source": []
  },
  {
   "cell_type": "code",
   "execution_count": 83,
   "id": "9ab5e61c-53b7-4d39-b24a-075ca9dfb710",
   "metadata": {},
   "outputs": [
    {
     "data": {
      "text/plain": [
       "mappingproxy({'__module__': '__main__',\n",
       "              '__init__': <function __main__.C.__init__(self, name)>,\n",
       "              'add': <function __main__.C.add(self)>,\n",
       "              'multi': <function __main__.C.multi(self)>,\n",
       "              '__doc__': None})"
      ]
     },
     "execution_count": 83,
     "metadata": {},
     "output_type": "execute_result"
    }
   ],
   "source": [
    "C.__dict__"
   ]
  },
  {
   "cell_type": "code",
   "execution_count": null,
   "id": "9743d0e1-4d50-420c-a6b4-018bfa086f49",
   "metadata": {},
   "outputs": [],
   "source": []
  }
 ],
 "metadata": {
  "kernelspec": {
   "display_name": "Python 3 (ipykernel)",
   "language": "python",
   "name": "python3"
  },
  "language_info": {
   "codemirror_mode": {
    "name": "ipython",
    "version": 3
   },
   "file_extension": ".py",
   "mimetype": "text/x-python",
   "name": "python",
   "nbconvert_exporter": "python",
   "pygments_lexer": "ipython3",
   "version": "3.8.3"
  }
 },
 "nbformat": 4,
 "nbformat_minor": 5
}
