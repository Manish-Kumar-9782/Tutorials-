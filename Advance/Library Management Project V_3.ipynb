{
 "cells": [
  {
   "cell_type": "code",
   "execution_count": 2,
   "id": "a140ec1c-ae73-4cc0-b4c5-2325572c484d",
   "metadata": {},
   "outputs": [],
   "source": [
    "import os"
   ]
  },
  {
   "cell_type": "code",
   "execution_count": 3,
   "id": "754c7292-b1e8-43c5-bb8d-30239958da83",
   "metadata": {},
   "outputs": [],
   "source": [
    "class Student:\n",
    "    \n",
    "    def __init__(self, name, std, roll_no, age, libid,**other):\n",
    "        \n",
    "        self.name = name\n",
    "        self.std = std\n",
    "        self.roll_no = roll_no\n",
    "        self.age = age\n",
    "        self.libid = libid\n",
    "        \n",
    "        \n",
    "    def __str__(self):\n",
    "        \n",
    "        result = f\"\"\"Name:{self.name}\n",
    "Std: {self.std}\n",
    "RollNo: {self.roll_no}\n",
    "Age: {self.age}\n",
    "LibId: {self.libid}\n",
    "        \"\"\"\n",
    "        \n",
    "        return result\n",
    "    \n",
    "    def __repr__(self):\n",
    "        return f\"Student({self.name},{self.std},{self.roll_no},{self.age},{self.libid})\"\n",
    "    "
   ]
  },
  {
   "cell_type": "code",
   "execution_count": 4,
   "id": "65fbbba8-456f-49a7-9bbb-2d470f3f703a",
   "metadata": {},
   "outputs": [],
   "source": [
    "class Book:\n",
    "    \n",
    "    def __init__(self, title, author, pages, publisher, subject=None, department=None ):\n",
    "        \n",
    "        self.author = author\n",
    "        self.pages = pages\n",
    "        self.title = title\n",
    "        self.publisher = publisher\n",
    "        self.subject = subject\n",
    "        self.department = department\n",
    "        \n",
    "    def __str__(self):\n",
    "        \n",
    "        return  f\"Author: {self.author}\\n\\\n",
    "Pages: {self.pages}\\nTitle: {self.title}\\nPublisher: {self.publisher}\\nSubject: {self.subject}\\nDepartment: {self.department}\" \n",
    "    \n",
    "    def __repr__(self):\n",
    "        \n",
    "        return  f\"Book({self.title},{self.author},{self.pages},{self.publisher},{self.subject},{self.department})\" "
   ]
  },
  {
   "cell_type": "code",
   "execution_count": null,
   "id": "4acd8ab1-de3e-4848-af92-a85f614a5c5c",
   "metadata": {},
   "outputs": [],
   "source": []
  }
 ],
 "metadata": {
  "kernelspec": {
   "display_name": "Python 3 (ipykernel)",
   "language": "python",
   "name": "python3"
  },
  "language_info": {
   "codemirror_mode": {
    "name": "ipython",
    "version": 3
   },
   "file_extension": ".py",
   "mimetype": "text/x-python",
   "name": "python",
   "nbconvert_exporter": "python",
   "pygments_lexer": "ipython3",
   "version": "3.8.3"
  }
 },
 "nbformat": 4,
 "nbformat_minor": 5
}
