{
 "cells": [
  {
   "cell_type": "markdown",
   "id": "3d99c44d-707c-4042-90dd-9d71848b59ad",
   "metadata": {},
   "source": [
    "### OPPs Intro In python"
   ]
  },
  {
   "cell_type": "code",
   "execution_count": 84,
   "id": "6c55fa92-26e2-42ed-8e81-e42643c73a8e",
   "metadata": {},
   "outputs": [],
   "source": [
    "# adding show_info method.\n",
    "\n",
    "class Student:\n",
    "    \n",
    "    def __init__(self, name=None, std=None, age=None):\n",
    "        \"\"\"\n",
    "        name: string, it is the name of the student and only contain the string as input.\n",
    "        std: string, it is the standard (what is graduation of the student.)\n",
    "        age: int, age of the student in the form of the integer data type.\n",
    "        \"\"\"\n",
    "        \n",
    "        self.__name = None\n",
    "        self.std = std\n",
    "        self.age = age \n",
    "        \n",
    "        self.__set_name__(name) # assiging the name indirectly\n",
    "        \n",
    "    def __str__(self):\n",
    "        return f\"Name:\\t{self.__name}\\nStd:\\t{self.std}\\nAge:\\t{self.age}\"\n",
    "        \n",
    "    def __repr__(self):\n",
    "        return(f\"Student({self.__name}, {self.std}, {self.age})\")\n",
    "        \n",
    "    #------------------------------------------------------------------------------#\n",
    "    \n",
    "    def __set_name__(self, name):\n",
    "        \n",
    "#         checking the type of input of name\n",
    "        if isinstance(name, str):\n",
    "#             making a restriction on name length\n",
    "            if len(name) < 20:\n",
    "                self.__name = name\n",
    "            else:\n",
    "                raise Exception(\"name is too long, must be upto 20 characters.\")\n",
    "            \n",
    "        else:\n",
    "            raise TypeError(\"name should a 'str' type\")\n",
    "        \n",
    "        \n",
    "    def __get_name__(self, name):\n",
    "        return self.__name\n",
    "        \n",
    "    name = property(fset=__set_name__, fget=__get_name__)\n",
    "    \n",
    "    #------------------------------------------------------------------------------#\n",
    "    \n",
    "    \n",
    "    def get_details(self, pair=False):\n",
    "        \n",
    "        if pair:\n",
    "            return {\n",
    "                \"Name\": self.__name,\n",
    "                \"Std\": self.std,\n",
    "                \"Age\": self.age\n",
    "                }\n",
    "        \n",
    "        else:\n",
    "            return self.__name, self.std, self.age\n",
    "        \n",
    "    @staticmethod\n",
    "    def get_header():\n",
    "        return \"Name\", \"Std\", \"Age\""
   ]
  },
  {
   "cell_type": "code",
   "execution_count": 85,
   "id": "2a23d6e6-ff04-4d3c-9adc-d04445893dfe",
   "metadata": {},
   "outputs": [
    {
     "data": {
      "text/plain": [
       "('Name', 'Std', 'Age')"
      ]
     },
     "execution_count": 85,
     "metadata": {},
     "output_type": "execute_result"
    }
   ],
   "source": [
    "Student.get_header()"
   ]
  },
  {
   "cell_type": "code",
   "execution_count": 86,
   "id": "adb6e6f2-85b8-4ec1-ab87-b2db9e7fc547",
   "metadata": {},
   "outputs": [
    {
     "name": "stdin",
     "output_type": "stream",
     "text": [
      "Enter student Name:  Manish\n",
      "Enter student Std:  B.tech\n",
      "Enter student Age:  26\n"
     ]
    },
    {
     "name": "stdout",
     "output_type": "stream",
     "text": [
      "\n",
      "\n"
     ]
    },
    {
     "name": "stdin",
     "output_type": "stream",
     "text": [
      "Enter student Name:  Sagar\n",
      "Enter student Std:  BA\n",
      "Enter student Age:  26\n"
     ]
    },
    {
     "name": "stdout",
     "output_type": "stream",
     "text": [
      "\n",
      "\n"
     ]
    }
   ],
   "source": [
    "students = []\n",
    "\n",
    "st_details = []  # to store individual student details before creating the student \n",
    "\n",
    "for i in range(2):\n",
    "    \n",
    "    st_details.append(input(\"Enter student Name: \"))\n",
    "    st_details.append(input(\"Enter student Std: \"))\n",
    "    st_details.append(int(input(\"Enter student Age: \")))\n",
    "    \n",
    "    students.append(Student(*st_details))\n",
    "    # students.append(st_details)\n",
    "    st_details.clear()\n",
    "    print(\"\\n\")"
   ]
  },
  {
   "cell_type": "code",
   "execution_count": 87,
   "id": "649de7a9-c3cc-4ed9-8bbb-b6a8251d4f44",
   "metadata": {},
   "outputs": [
    {
     "data": {
      "text/plain": [
       "[Student(Manish, B.tech, 26), Student(Sagar, BA, 26)]"
      ]
     },
     "execution_count": 87,
     "metadata": {},
     "output_type": "execute_result"
    }
   ],
   "source": [
    "students"
   ]
  },
  {
   "cell_type": "code",
   "execution_count": 83,
   "id": "1de3572f-4817-418c-b771-09b74da17adc",
   "metadata": {},
   "outputs": [
    {
     "name": "stdout",
     "output_type": "stream",
     "text": [
      "Name           Std        Age  \n",
      "----------------------------------------------\n",
      "Manish         b.tech     26   \n",
      "Sagar          BA         26   \n"
     ]
    }
   ],
   "source": [
    "print(\"%-14s %-10s %-5s\" % st.get_header())\n",
    "print(\"----------------------------------------------\")\n",
    "for st in students:\n",
    "    print(\"%-14s %-10s %-5s\" % st.get_details())"
   ]
  },
  {
   "cell_type": "code",
   "execution_count": 92,
   "id": "30659da1-60cb-46ce-84bd-c1a09616ce8c",
   "metadata": {},
   "outputs": [
    {
     "data": {
      "text/plain": [
       "('Manish', 'B.tech', 26)"
      ]
     },
     "execution_count": 92,
     "metadata": {},
     "output_type": "execute_result"
    }
   ],
   "source": [
    "students[0].get_details()"
   ]
  },
  {
   "cell_type": "code",
   "execution_count": 93,
   "id": "218dd6dc-c530-41bc-acae-2852674db59b",
   "metadata": {},
   "outputs": [
    {
     "data": {
      "text/plain": [
       "{'Name': 'Manish', 'Std': 'B.tech', 'Age': 26}"
      ]
     },
     "execution_count": 93,
     "metadata": {},
     "output_type": "execute_result"
    }
   ],
   "source": [
    "students[0].get_details(pair=True)"
   ]
  },
  {
   "cell_type": "code",
   "execution_count": 95,
   "id": "0a75583c-ad93-4c99-b4f9-00ecb0cf0da0",
   "metadata": {},
   "outputs": [],
   "source": [
    "class Book:\n",
    "    \n",
    "    def __init__(self, name, pdate, author, subject):\n",
    "        \n",
    "        self.name = name\n",
    "        self.pdate = pdate\n",
    "        self.author = author\n",
    "        self.subject = subject\n",
    "        self.__issue_record\n",
    "        \n",
    "        \n",
    "    def book_details(self):\n",
    "        return self.name, self.pdate, self.author, self.subject\n",
    "    \n",
    "    "
   ]
  },
  {
   "cell_type": "code",
   "execution_count": null,
   "id": "f782c097-c40f-4142-8874-59adeee46b84",
   "metadata": {},
   "outputs": [],
   "source": []
  }
 ],
 "metadata": {
  "kernelspec": {
   "display_name": "Python 3 (ipykernel)",
   "language": "python",
   "name": "python3"
  },
  "language_info": {
   "codemirror_mode": {
    "name": "ipython",
    "version": 3
   },
   "file_extension": ".py",
   "mimetype": "text/x-python",
   "name": "python",
   "nbconvert_exporter": "python",
   "pygments_lexer": "ipython3",
   "version": "3.10.5"
  }
 },
 "nbformat": 4,
 "nbformat_minor": 5
}
