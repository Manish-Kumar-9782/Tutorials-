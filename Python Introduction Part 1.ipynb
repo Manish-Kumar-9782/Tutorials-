{
 "cells": [
  {
   "cell_type": "markdown",
   "id": "dbab2b0a-7a05-4d10-9c96-73c7be878d10",
   "metadata": {},
   "source": [
    "## String Inroduction"
   ]
  },
  {
   "cell_type": "markdown",
   "id": "dd09b3a1-3254-4126-a5e4-db0e72eb5215",
   "metadata": {},
   "source": [
    "### Data Types\n",
    "\n",
    "* number: int, float\n",
    "* string: (characters and sequence of characters.) like \"abcd\", \"hello world\"\n",
    "* boolean: true, false\n",
    "* list: [1,2,3];"
   ]
  },
  {
   "cell_type": "code",
   "execution_count": 2,
   "id": "39e37124-e826-4480-ad00-7254e8571a1b",
   "metadata": {},
   "outputs": [
    {
     "data": {
      "text/plain": [
       "int"
      ]
     },
     "execution_count": 2,
     "metadata": {},
     "output_type": "execute_result"
    }
   ],
   "source": [
    "a = 10\n",
    "# now we will test the data type of a\n",
    "type(a)"
   ]
  },
  {
   "cell_type": "code",
   "execution_count": 3,
   "id": "c4f093e1-4c6d-4ec9-b13e-9c790a6ccaf8",
   "metadata": {},
   "outputs": [
    {
     "data": {
      "text/plain": [
       "str"
      ]
     },
     "execution_count": 3,
     "metadata": {},
     "output_type": "execute_result"
    }
   ],
   "source": [
    "b = \"Hello\"\n",
    "# testing the b data type\n",
    "type(b)"
   ]
  },
  {
   "cell_type": "code",
   "execution_count": 1,
   "id": "f097cebc-b384-44a9-a97b-7efef09984b4",
   "metadata": {},
   "outputs": [
    {
     "data": {
      "text/plain": [
       "float"
      ]
     },
     "execution_count": 1,
     "metadata": {},
     "output_type": "execute_result"
    }
   ],
   "source": [
    "c = 10.20\n",
    "# testing type of c \n",
    "type(c)"
   ]
  },
  {
   "cell_type": "code",
   "execution_count": 2,
   "id": "43e40fcf-c27f-4b31-bc56-869fc688e22b",
   "metadata": {},
   "outputs": [
    {
     "data": {
      "text/plain": [
       "bool"
      ]
     },
     "execution_count": 2,
     "metadata": {},
     "output_type": "execute_result"
    }
   ],
   "source": [
    "a = False;\n",
    "# changing and testing the value of a\n",
    "type(a)"
   ]
  },
  {
   "cell_type": "code",
   "execution_count": 3,
   "id": "64b2c43c-2796-47e2-8dad-f6f951853a8d",
   "metadata": {},
   "outputs": [
    {
     "data": {
      "text/plain": [
       "list"
      ]
     },
     "execution_count": 3,
     "metadata": {},
     "output_type": "execute_result"
    }
   ],
   "source": [
    "a = [1,2,3,4]\n",
    "# testing our list type\n",
    "type(a)"
   ]
  },
  {
   "cell_type": "markdown",
   "id": "b0fce06c-b8f3-4465-8a10-bc26ca831736",
   "metadata": {},
   "source": [
    "### Arithmatic Operators"
   ]
  },
  {
   "cell_type": "markdown",
   "id": "0fe97725-e893-4eaa-9c3e-d24d6f052ffe",
   "metadata": {},
   "source": [
    "* `+`: add operator\n",
    "* `-`: minus operator\n",
    "* `*`: multiply operator\n",
    "* `/`: divide operator\n",
    "* `//`: floor division operator\n",
    "* `%`: modulus operator"
   ]
  },
  {
   "cell_type": "markdown",
   "id": "c5fb5a52-9d86-45b0-9bbc-b43f19956a8a",
   "metadata": {},
   "source": [
    "#### add operator"
   ]
  },
  {
   "cell_type": "markdown",
   "id": "0c4eb357-6543-4e4b-9091-7eace8eb8e4d",
   "metadata": {},
   "source": [
    "**1. add opearator with integer and float values**"
   ]
  },
  {
   "cell_type": "code",
   "execution_count": 4,
   "id": "f852cc74-12be-4a9d-80b5-c6e6cb54049f",
   "metadata": {},
   "outputs": [
    {
     "data": {
      "text/plain": [
       "30"
      ]
     },
     "execution_count": 4,
     "metadata": {},
     "output_type": "execute_result"
    }
   ],
   "source": [
    "a = 10\n",
    "b = 20\n",
    "a + b"
   ]
  },
  {
   "cell_type": "code",
   "execution_count": 5,
   "id": "f68e4b67-3c55-4d45-9028-1aa09298e139",
   "metadata": {},
   "outputs": [
    {
     "data": {
      "text/plain": [
       "80.6"
      ]
     },
     "execution_count": 5,
     "metadata": {},
     "output_type": "execute_result"
    }
   ],
   "source": [
    "a = 20.3\n",
    "b = 60.3\n",
    "a + b"
   ]
  },
  {
   "cell_type": "code",
   "execution_count": 6,
   "id": "1f2a9170-1fa5-4c02-8a04-ea9084a92a07",
   "metadata": {},
   "outputs": [
    {
     "data": {
      "text/plain": [
       "30.3"
      ]
     },
     "execution_count": 6,
     "metadata": {},
     "output_type": "execute_result"
    }
   ],
   "source": [
    "a = 10\n",
    "b = 20.3\n",
    "a + b"
   ]
  },
  {
   "cell_type": "code",
   "execution_count": 7,
   "id": "7db8bc48-b2c6-4f8e-8617-580192004b8a",
   "metadata": {},
   "outputs": [
    {
     "name": "stdout",
     "output_type": "stream",
     "text": [
      "addition of a + b:  30.3\n"
     ]
    }
   ],
   "source": [
    "print(\"addition of a + b: \", a+b)"
   ]
  },
  {
   "cell_type": "markdown",
   "id": "4c09e7e0-2d5e-409b-a7e5-4dca7e6681eb",
   "metadata": {},
   "source": [
    "**2. Add operator with string**"
   ]
  },
  {
   "cell_type": "code",
   "execution_count": 10,
   "id": "20c566d3-8a20-4ddd-9959-533515ed8abb",
   "metadata": {},
   "outputs": [
    {
     "data": {
      "text/plain": [
       "'Hello world'"
      ]
     },
     "execution_count": 10,
     "metadata": {},
     "output_type": "execute_result"
    }
   ],
   "source": [
    "str1 = \"Hello\"\n",
    "str2 = \" world\"\n",
    "str1 + str2"
   ]
  },
  {
   "cell_type": "code",
   "execution_count": 11,
   "id": "8fbc4ca1-0a72-46f2-9846-bca42826c315",
   "metadata": {},
   "outputs": [
    {
     "data": {
      "text/plain": [
       "10"
      ]
     },
     "execution_count": 11,
     "metadata": {},
     "output_type": "execute_result"
    }
   ],
   "source": [
    "a"
   ]
  },
  {
   "cell_type": "code",
   "execution_count": 12,
   "id": "a2f673af-15c9-487e-92d9-3b6a29e1c957",
   "metadata": {},
   "outputs": [
    {
     "ename": "TypeError",
     "evalue": "can only concatenate str (not \"int\") to str",
     "output_type": "error",
     "traceback": [
      "\u001b[1;31m---------------------------------------------------------------------------\u001b[0m",
      "\u001b[1;31mTypeError\u001b[0m                                 Traceback (most recent call last)",
      "Cell \u001b[1;32mIn [12], line 1\u001b[0m\n\u001b[1;32m----> 1\u001b[0m \u001b[43mstr1\u001b[49m\u001b[43m \u001b[49m\u001b[38;5;241;43m+\u001b[39;49m\u001b[43m \u001b[49m\u001b[43ma\u001b[49m\n",
      "\u001b[1;31mTypeError\u001b[0m: can only concatenate str (not \"int\") to str"
     ]
    }
   ],
   "source": [
    "str1 + a"
   ]
  },
  {
   "cell_type": "markdown",
   "id": "d06796c3-1379-4b84-bba8-b9148f5671c5",
   "metadata": {},
   "source": [
    "**3. Add operator with list**"
   ]
  },
  {
   "cell_type": "code",
   "execution_count": 13,
   "id": "82d703ad-077b-4d2d-b9b2-b14af831c8ab",
   "metadata": {},
   "outputs": [],
   "source": [
    "a  = [1,2,3]\n",
    "b = [4,5,6]"
   ]
  },
  {
   "cell_type": "code",
   "execution_count": 14,
   "id": "e18db287-88aa-48ed-af37-6f7f893a5b9a",
   "metadata": {},
   "outputs": [
    {
     "data": {
      "text/plain": [
       "[1, 2, 3, 4, 5, 6]"
      ]
     },
     "execution_count": 14,
     "metadata": {},
     "output_type": "execute_result"
    }
   ],
   "source": [
    "a + b"
   ]
  },
  {
   "cell_type": "markdown",
   "id": "3e869e72-0196-41eb-8304-61fc4f3ef45b",
   "metadata": {},
   "source": [
    "____"
   ]
  },
  {
   "cell_type": "markdown",
   "id": "96d3c069-1c5f-434a-a9da-ac57b64d6883",
   "metadata": {},
   "source": [
    "#### `-` Minus Operator"
   ]
  },
  {
   "cell_type": "markdown",
   "id": "5cfb5fb7-143b-47d0-8ab4-87f3aea19662",
   "metadata": {},
   "source": [
    "**1. Minus operator with int and float**"
   ]
  },
  {
   "cell_type": "code",
   "execution_count": 15,
   "id": "c4302110-cef0-46bc-809c-5b9ba9136837",
   "metadata": {},
   "outputs": [
    {
     "name": "stdout",
     "output_type": "stream",
     "text": [
      "a - b :  -10\n",
      "b - a:  10\n"
     ]
    }
   ],
   "source": [
    "a = 10\n",
    "b = 20\n",
    "print(\"a - b : \", a - b)\n",
    "print(\"b - a: \" , b - a)"
   ]
  },
  {
   "cell_type": "code",
   "execution_count": 16,
   "id": "248b6f33-973f-4735-b799-f80f474fd373",
   "metadata": {},
   "outputs": [
    {
     "name": "stdout",
     "output_type": "stream",
     "text": [
      "a - b :  -10.509999999999998\n",
      "b - a:  10.509999999999998\n"
     ]
    }
   ],
   "source": [
    "a = 10.48\n",
    "b = 20.99\n",
    "print(\"a - b : \", a - b)\n",
    "print(\"b - a: \" , b - a)"
   ]
  },
  {
   "cell_type": "markdown",
   "id": "c6b2ab47-ac36-4541-9959-0ba67edb6977",
   "metadata": {},
   "source": [
    "**2. Minus operator with string**"
   ]
  },
  {
   "cell_type": "code",
   "execution_count": 17,
   "id": "dd2d86bf-be93-4069-b857-6df69c80ba8f",
   "metadata": {},
   "outputs": [
    {
     "ename": "TypeError",
     "evalue": "unsupported operand type(s) for -: 'str' and 'str'",
     "output_type": "error",
     "traceback": [
      "\u001b[1;31m---------------------------------------------------------------------------\u001b[0m",
      "\u001b[1;31mTypeError\u001b[0m                                 Traceback (most recent call last)",
      "Cell \u001b[1;32mIn [17], line 3\u001b[0m\n\u001b[0;32m      1\u001b[0m str1 \u001b[38;5;241m=\u001b[39m \u001b[38;5;124m\"\u001b[39m\u001b[38;5;124mhello\u001b[39m\u001b[38;5;124m\"\u001b[39m\n\u001b[0;32m      2\u001b[0m str2 \u001b[38;5;241m=\u001b[39m \u001b[38;5;124m\"\u001b[39m\u001b[38;5;124mworld\u001b[39m\u001b[38;5;124m\"\u001b[39m\n\u001b[1;32m----> 3\u001b[0m \u001b[43mstr1\u001b[49m\u001b[43m \u001b[49m\u001b[38;5;241;43m-\u001b[39;49m\u001b[43m \u001b[49m\u001b[43mstr2\u001b[49m\n",
      "\u001b[1;31mTypeError\u001b[0m: unsupported operand type(s) for -: 'str' and 'str'"
     ]
    }
   ],
   "source": [
    "str1 = \"hello\"\n",
    "str2 = \"world\"\n",
    "str1 - str2"
   ]
  },
  {
   "cell_type": "markdown",
   "id": "4fb8b2d4-ca37-455d-9de2-3e2d2a122ceb",
   "metadata": {},
   "source": [
    "**3. Minus Operator with list**"
   ]
  },
  {
   "cell_type": "code",
   "execution_count": 18,
   "id": "1014f4b6-d6dd-4de0-b3e1-7f5db1c0a708",
   "metadata": {},
   "outputs": [
    {
     "ename": "TypeError",
     "evalue": "unsupported operand type(s) for -: 'list' and 'list'",
     "output_type": "error",
     "traceback": [
      "\u001b[1;31m---------------------------------------------------------------------------\u001b[0m",
      "\u001b[1;31mTypeError\u001b[0m                                 Traceback (most recent call last)",
      "Cell \u001b[1;32mIn [18], line 3\u001b[0m\n\u001b[0;32m      1\u001b[0m a  \u001b[38;5;241m=\u001b[39m [\u001b[38;5;241m1\u001b[39m,\u001b[38;5;241m2\u001b[39m,\u001b[38;5;241m3\u001b[39m]\n\u001b[0;32m      2\u001b[0m b \u001b[38;5;241m=\u001b[39m [\u001b[38;5;241m4\u001b[39m,\u001b[38;5;241m5\u001b[39m,\u001b[38;5;241m6\u001b[39m]\n\u001b[1;32m----> 3\u001b[0m \u001b[43ma\u001b[49m\u001b[43m \u001b[49m\u001b[38;5;241;43m-\u001b[39;49m\u001b[43m \u001b[49m\u001b[43mb\u001b[49m\n",
      "\u001b[1;31mTypeError\u001b[0m: unsupported operand type(s) for -: 'list' and 'list'"
     ]
    }
   ],
   "source": [
    "a  = [1,2,3]\n",
    "b = [4,5,6]\n",
    "a - b"
   ]
  },
  {
   "cell_type": "markdown",
   "id": "fd02cb62-6c41-4af6-8b98-58ecbbf780bb",
   "metadata": {},
   "source": [
    "____"
   ]
  },
  {
   "cell_type": "markdown",
   "id": "cf8f2920-617a-4b6e-ad18-8542dcb7c400",
   "metadata": {},
   "source": [
    "#### `*`: Multipy Operator"
   ]
  },
  {
   "cell_type": "markdown",
   "id": "474e9727-89e4-4035-a193-12a2c3314b1b",
   "metadata": {},
   "source": [
    "**1. Multiply operator with int and float**"
   ]
  },
  {
   "cell_type": "code",
   "execution_count": 19,
   "id": "b6ae5138-1bdc-4b80-a065-7a398298891b",
   "metadata": {},
   "outputs": [
    {
     "data": {
      "text/plain": [
       "200"
      ]
     },
     "execution_count": 19,
     "metadata": {},
     "output_type": "execute_result"
    }
   ],
   "source": [
    "a = 10\n",
    "b = 20\n",
    "a*b"
   ]
  },
  {
   "cell_type": "code",
   "execution_count": 21,
   "id": "a4af1126-ae1e-4ab1-926d-eed23a5ad434",
   "metadata": {},
   "outputs": [
    {
     "data": {
      "text/plain": [
       "34.0"
      ]
     },
     "execution_count": 21,
     "metadata": {},
     "output_type": "execute_result"
    }
   ],
   "source": [
    "a = 10\n",
    "b = 3.4\n",
    "a * b"
   ]
  },
  {
   "cell_type": "markdown",
   "id": "82b14ce7-4a06-4fea-a552-100e45552216",
   "metadata": {},
   "source": [
    "**2. Multiply operator with string**"
   ]
  },
  {
   "cell_type": "code",
   "execution_count": 22,
   "id": "b940521b-34cc-4c00-95f0-0de794d43854",
   "metadata": {},
   "outputs": [],
   "source": [
    "a = \"Hello\"\n",
    "b = \"world\""
   ]
  },
  {
   "cell_type": "code",
   "execution_count": 23,
   "id": "ad7ea340-59b9-4fda-94f3-8d5f66defa69",
   "metadata": {},
   "outputs": [
    {
     "ename": "TypeError",
     "evalue": "can't multiply sequence by non-int of type 'str'",
     "output_type": "error",
     "traceback": [
      "\u001b[1;31m---------------------------------------------------------------------------\u001b[0m",
      "\u001b[1;31mTypeError\u001b[0m                                 Traceback (most recent call last)",
      "Cell \u001b[1;32mIn [23], line 1\u001b[0m\n\u001b[1;32m----> 1\u001b[0m \u001b[43ma\u001b[49m\u001b[43m \u001b[49m\u001b[38;5;241;43m*\u001b[39;49m\u001b[43m \u001b[49m\u001b[43mb\u001b[49m\n",
      "\u001b[1;31mTypeError\u001b[0m: can't multiply sequence by non-int of type 'str'"
     ]
    }
   ],
   "source": [
    "a * b"
   ]
  },
  {
   "cell_type": "code",
   "execution_count": 24,
   "id": "92380626-d926-422d-ba84-59079b0959c5",
   "metadata": {},
   "outputs": [
    {
     "data": {
      "text/plain": [
       "'HelloHelloHelloHelloHelloHelloHelloHelloHelloHello'"
      ]
     },
     "execution_count": 24,
     "metadata": {},
     "output_type": "execute_result"
    }
   ],
   "source": [
    "a*10"
   ]
  },
  {
   "cell_type": "code",
   "execution_count": 25,
   "id": "aaab2ad6-ee2d-4112-9b45-0ff006aed46b",
   "metadata": {},
   "outputs": [
    {
     "data": {
      "text/plain": [
       "'worldworldworldworldworldworldworldworldworldworld'"
      ]
     },
     "execution_count": 25,
     "metadata": {},
     "output_type": "execute_result"
    }
   ],
   "source": [
    "b*10"
   ]
  },
  {
   "cell_type": "markdown",
   "id": "89ba532b-b157-49ba-b279-b45a9488e4d4",
   "metadata": {},
   "source": [
    "**3. Multiply operator with list**"
   ]
  },
  {
   "cell_type": "code",
   "execution_count": 26,
   "id": "3254c5c8-b765-4f02-81bc-f08490d29af6",
   "metadata": {},
   "outputs": [],
   "source": [
    "a  = [1,2,3]\n",
    "b = [4,5,6]"
   ]
  },
  {
   "cell_type": "code",
   "execution_count": 27,
   "id": "af6f7675-c8ec-4567-91d5-67aa1b882c49",
   "metadata": {},
   "outputs": [
    {
     "ename": "TypeError",
     "evalue": "can't multiply sequence by non-int of type 'list'",
     "output_type": "error",
     "traceback": [
      "\u001b[1;31m---------------------------------------------------------------------------\u001b[0m",
      "\u001b[1;31mTypeError\u001b[0m                                 Traceback (most recent call last)",
      "Cell \u001b[1;32mIn [27], line 1\u001b[0m\n\u001b[1;32m----> 1\u001b[0m \u001b[43ma\u001b[49m\u001b[43m \u001b[49m\u001b[38;5;241;43m*\u001b[39;49m\u001b[43mb\u001b[49m\n",
      "\u001b[1;31mTypeError\u001b[0m: can't multiply sequence by non-int of type 'list'"
     ]
    }
   ],
   "source": [
    "a *b"
   ]
  },
  {
   "cell_type": "code",
   "execution_count": 29,
   "id": "00e2acaa-25e4-495b-9602-9bdb6e0e796f",
   "metadata": {},
   "outputs": [
    {
     "data": {
      "text/plain": [
       "[1, 2, 3, 1, 2, 3, 1, 2, 3]"
      ]
     },
     "execution_count": 29,
     "metadata": {},
     "output_type": "execute_result"
    }
   ],
   "source": [
    "a*3"
   ]
  },
  {
   "cell_type": "code",
   "execution_count": 30,
   "id": "e64bbdfd-b252-4c20-9fca-d92edb351f14",
   "metadata": {},
   "outputs": [
    {
     "data": {
      "text/plain": [
       "[4, 5, 6, 4, 5, 6, 4, 5, 6]"
      ]
     },
     "execution_count": 30,
     "metadata": {},
     "output_type": "execute_result"
    }
   ],
   "source": [
    "b*3"
   ]
  },
  {
   "cell_type": "markdown",
   "id": "745dbfd4-1df1-4876-8cc8-be81c662e048",
   "metadata": {},
   "source": [
    "______\n",
    "\n",
    "#### `/`: divide operator\n",
    "\n",
    "**Divide operator with only int and float**"
   ]
  },
  {
   "cell_type": "code",
   "execution_count": 31,
   "id": "0a478c77-55af-4a2b-a702-b7b07ea28976",
   "metadata": {},
   "outputs": [
    {
     "data": {
      "text/plain": [
       "2.0"
      ]
     },
     "execution_count": 31,
     "metadata": {},
     "output_type": "execute_result"
    }
   ],
   "source": [
    "a = 20\n",
    "b = 10\n",
    "\n",
    "a/b"
   ]
  },
  {
   "cell_type": "code",
   "execution_count": 32,
   "id": "c40acb97-b75c-484d-a3e4-b79cb353c536",
   "metadata": {},
   "outputs": [
    {
     "data": {
      "text/plain": [
       "float"
      ]
     },
     "execution_count": 32,
     "metadata": {},
     "output_type": "execute_result"
    }
   ],
   "source": [
    "type(a/b)"
   ]
  },
  {
   "cell_type": "code",
   "execution_count": 33,
   "id": "a85ac21f-78d9-4e6b-a3fb-b2d49985fd0c",
   "metadata": {},
   "outputs": [],
   "source": [
    "a = 4.545\n",
    "b = 3.4"
   ]
  },
  {
   "cell_type": "code",
   "execution_count": 34,
   "id": "f4fa08e7-4fa0-4b8a-8af3-10919eae14a7",
   "metadata": {},
   "outputs": [
    {
     "data": {
      "text/plain": [
       "1.3367647058823529"
      ]
     },
     "execution_count": 34,
     "metadata": {},
     "output_type": "execute_result"
    }
   ],
   "source": [
    "a/b"
   ]
  },
  {
   "cell_type": "markdown",
   "id": "8e16c536-1fdf-47f7-b081-8814eedd5eb7",
   "metadata": {},
   "source": [
    "____\n",
    "#### `//`: floor division\n",
    "\n",
    "**Floor division with only int and float**"
   ]
  },
  {
   "cell_type": "code",
   "execution_count": 35,
   "id": "947f0ae5-0179-4b6f-8437-c63286f337c9",
   "metadata": {},
   "outputs": [
    {
     "data": {
      "text/plain": [
       "2"
      ]
     },
     "execution_count": 35,
     "metadata": {},
     "output_type": "execute_result"
    }
   ],
   "source": [
    "a = 20\n",
    "b = 10\n",
    "\n",
    "a//b"
   ]
  },
  {
   "cell_type": "code",
   "execution_count": 37,
   "id": "5b22e1f7-ecdf-4115-8240-a1e53f8315e1",
   "metadata": {},
   "outputs": [
    {
     "data": {
      "text/plain": [
       "1.0"
      ]
     },
     "execution_count": 37,
     "metadata": {},
     "output_type": "execute_result"
    }
   ],
   "source": [
    "a = 4.545\n",
    "b = 3.4\n",
    "a//b"
   ]
  },
  {
   "cell_type": "markdown",
   "id": "b007815b-9d17-4776-9b4a-bccea10d832a",
   "metadata": {},
   "source": [
    "____\n",
    "#### `%`: Modulus Operator\n",
    "**Modulus Operator with only int and float**"
   ]
  },
  {
   "cell_type": "code",
   "execution_count": 38,
   "id": "5c6585b7-48e0-4a01-8691-bf7d4dc3c3f9",
   "metadata": {},
   "outputs": [],
   "source": [
    "a = 7\n",
    "b = 3"
   ]
  },
  {
   "cell_type": "code",
   "execution_count": 40,
   "id": "f3179ba9-42b7-4e1c-b269-5214dc3299b2",
   "metadata": {},
   "outputs": [
    {
     "data": {
      "text/plain": [
       "1"
      ]
     },
     "execution_count": 40,
     "metadata": {},
     "output_type": "execute_result"
    }
   ],
   "source": [
    "a%b"
   ]
  },
  {
   "cell_type": "markdown",
   "id": "56b351a3-a97e-4a83-b91d-2e3b2f543f57",
   "metadata": {},
   "source": [
    "if `numerator value` is less than `denominator value` then `numerator` will be returned."
   ]
  },
  {
   "cell_type": "code",
   "execution_count": 41,
   "id": "0f154549-627d-435a-9db1-aa57bd9de194",
   "metadata": {},
   "outputs": [
    {
     "data": {
      "text/plain": [
       "3"
      ]
     },
     "execution_count": 41,
     "metadata": {},
     "output_type": "execute_result"
    }
   ],
   "source": [
    "b%a"
   ]
  },
  {
   "cell_type": "code",
   "execution_count": 42,
   "id": "4962fafe-dec1-49d2-b582-4a15969fc89f",
   "metadata": {},
   "outputs": [
    {
     "name": "stdout",
     "output_type": "stream",
     "text": [
      "0%3 = 0\n",
      "1%3 = 1\n",
      "2%3 = 2\n",
      "3%3 = 0\n",
      "4%3 = 1\n",
      "5%3 = 2\n",
      "6%3 = 0\n",
      "7%3 = 1\n",
      "8%3 = 2\n",
      "9%3 = 0\n",
      "10%3 = 1\n",
      "11%3 = 2\n",
      "12%3 = 0\n",
      "13%3 = 1\n",
      "14%3 = 2\n",
      "15%3 = 0\n",
      "16%3 = 1\n",
      "17%3 = 2\n",
      "18%3 = 0\n",
      "19%3 = 1\n"
     ]
    }
   ],
   "source": [
    "for i in range(20):\n",
    "    print(f\"{i}%3 = {i%3}\")"
   ]
  },
  {
   "cell_type": "markdown",
   "id": "8f4fd70c-4dc9-4eb1-94d4-0d5f5f7d507e",
   "metadata": {},
   "source": [
    "## Assignment Operators\n",
    "\n",
    "* `=`: Assignment operator\n",
    "* `+=`: add and assignment operator\n",
    "* `-=`: minus and assignment operator\n",
    "* `/=`: divide and assignment operator\n",
    "* `%=`: modulus and assignment operator"
   ]
  },
  {
   "cell_type": "markdown",
   "id": "1a3a0226-2e64-4b02-9e7f-9ddadac8e421",
   "metadata": {},
   "source": [
    "Note: These assignment operator are used to assign `right` value to the left `variable`, `object`."
   ]
  },
  {
   "cell_type": "markdown",
   "id": "65c89cab-7b99-42a9-8286-adb971afda56",
   "metadata": {},
   "source": [
    "**`=`: Assignment Operator**"
   ]
  },
  {
   "cell_type": "code",
   "execution_count": 1,
   "id": "77f4a6f2-f28c-4da7-834e-a6c3f8b3fe97",
   "metadata": {},
   "outputs": [],
   "source": [
    "# a simple assignment operator\n",
    "var = 10;\n",
    "\n",
    "# here we have assigned a value 10 (right vlaue/ rlvaue) to (left variable/ loperand)"
   ]
  },
  {
   "cell_type": "code",
   "execution_count": 2,
   "id": "76228616-6e27-4024-bec5-c351faded3a1",
   "metadata": {},
   "outputs": [
    {
     "data": {
      "text/plain": [
       "10"
      ]
     },
     "execution_count": 2,
     "metadata": {},
     "output_type": "execute_result"
    }
   ],
   "source": [
    "var"
   ]
  },
  {
   "cell_type": "code",
   "execution_count": 4,
   "id": "569cea75-26bf-45bc-9947-3c00f5cd0b68",
   "metadata": {},
   "outputs": [
    {
     "data": {
      "text/plain": [
       "int"
      ]
     },
     "execution_count": 4,
     "metadata": {},
     "output_type": "execute_result"
    }
   ],
   "source": [
    "# testing the type of the value which is hold by 'var' variable.\n",
    "type(var)"
   ]
  },
  {
   "cell_type": "markdown",
   "id": "c6f25fa1-eb9b-41db-bad5-e86d3af97728",
   "metadata": {},
   "source": [
    "____\n",
    "**`+=`: Add and Assignment Operator**"
   ]
  },
  {
   "cell_type": "markdown",
   "id": "95d1f5db-d5c5-4f4a-82ae-2bcf7633a558",
   "metadata": {},
   "source": [
    "if we want to update our value after adding somthing to it. we can do that by using the below expression."
   ]
  },
  {
   "cell_type": "code",
   "execution_count": 5,
   "id": "c6bd84d0-0c3b-4d29-8bfd-494f6a50647b",
   "metadata": {},
   "outputs": [
    {
     "data": {
      "text/plain": [
       "45"
      ]
     },
     "execution_count": 5,
     "metadata": {},
     "output_type": "execute_result"
    }
   ],
   "source": [
    "# suppose we want to add 35 to the `var` value\n",
    "# now var should contain var+35 value.\n",
    "\n",
    "var+ 35 # note var is not going be update\n",
    "# here we are only using the var's value to compute the exression."
   ]
  },
  {
   "cell_type": "code",
   "execution_count": 6,
   "id": "fbae822c-551d-49cd-9a79-a369e24a8126",
   "metadata": {},
   "outputs": [
    {
     "data": {
      "text/plain": [
       "10"
      ]
     },
     "execution_count": 6,
     "metadata": {},
     "output_type": "execute_result"
    }
   ],
   "source": [
    "# Now if we test the value of var then it will be same as old.\n",
    "var"
   ]
  },
  {
   "cell_type": "code",
   "execution_count": 7,
   "id": "fb4f5938-b41f-473b-82a9-284142d10fd5",
   "metadata": {},
   "outputs": [
    {
     "name": "stdout",
     "output_type": "stream",
     "text": [
      "var old value:  10\n",
      "var new value:  45\n"
     ]
    }
   ],
   "source": [
    "# Now if we want to update our var with new value then we can use the below exression.\n",
    "\n",
    "print(\"var old value: \", var)\n",
    "var = var + 35 # here we are first adding var (old value) with 35 then asssigning to var variable.\n",
    "print(\"var new value: \", var)"
   ]
  },
  {
   "cell_type": "code",
   "execution_count": 8,
   "id": "f9c1bf33-bb36-4d16-ba7e-b61034b68b52",
   "metadata": {},
   "outputs": [
    {
     "name": "stdout",
     "output_type": "stream",
     "text": [
      "var old value:  45\n",
      "var new value:  90\n"
     ]
    }
   ],
   "source": [
    "# Now the above expression can be written as \n",
    "# var = var + 45\n",
    "\n",
    "print(\"var old value: \", var)\n",
    "var += 45 # var = var + 45\n",
    "print(\"var new value: \", var)"
   ]
  },
  {
   "cell_type": "code",
   "execution_count": 9,
   "id": "e3d79bba-7b2a-4b17-861b-4b8ea3211bb6",
   "metadata": {},
   "outputs": [
    {
     "data": {
      "text/plain": [
       "90"
      ]
     },
     "execution_count": 9,
     "metadata": {},
     "output_type": "execute_result"
    }
   ],
   "source": [
    "var"
   ]
  },
  {
   "cell_type": "markdown",
   "id": "5aaa2603-60f6-4179-85fc-671a90c8214f",
   "metadata": {},
   "source": [
    "**`-=`: Minus and assignment operator**"
   ]
  },
  {
   "cell_type": "code",
   "execution_count": 10,
   "id": "fcc0057e-0ef4-4b9c-ad45-87178f6f00f5",
   "metadata": {},
   "outputs": [
    {
     "name": "stdout",
     "output_type": "stream",
     "text": [
      "var old value:  90\n",
      "var new value:  45\n"
     ]
    }
   ],
   "source": [
    "# Now we will subtract 45 and assign it to var \n",
    "\n",
    "print(\"var old value: \", var)\n",
    "var -= 45 # var = var - 45\n",
    "print(\"var new value: \", var)"
   ]
  },
  {
   "cell_type": "markdown",
   "id": "6e5307d9-98e9-4c75-b78d-8fcc7b276980",
   "metadata": {},
   "source": [
    "**`/=`: Divide and assignment operator**"
   ]
  },
  {
   "cell_type": "code",
   "execution_count": 11,
   "id": "66e473a1-2f29-48bd-890f-f14f111bdd4f",
   "metadata": {},
   "outputs": [
    {
     "name": "stdout",
     "output_type": "stream",
     "text": [
      "var old value:  45\n",
      "var new value:  9.0\n"
     ]
    }
   ],
   "source": [
    "# Now we will divide by 5 and assign it to var \n",
    "\n",
    "print(\"var old value: \", var)\n",
    "var /= 5 # var = var / 5\n",
    "print(\"var new value: \", var)"
   ]
  },
  {
   "cell_type": "markdown",
   "id": "eeea4908-0962-401b-9eda-cad5a5784b6d",
   "metadata": {},
   "source": [
    "**`/=`: Multiply and assignment operator**"
   ]
  },
  {
   "cell_type": "code",
   "execution_count": 12,
   "id": "6d274c77-0028-4e1c-af25-0055f5a6f39f",
   "metadata": {},
   "outputs": [
    {
     "name": "stdout",
     "output_type": "stream",
     "text": [
      "var old value:  9.0\n",
      "var new value:  45.0\n"
     ]
    }
   ],
   "source": [
    "# Now we will mutply 5 and assign it to var \n",
    "\n",
    "print(\"var old value: \", var)\n",
    "var *= 5 # var = var * 5\n",
    "print(\"var new value: \", var)"
   ]
  },
  {
   "cell_type": "code",
   "execution_count": 13,
   "id": "f4564959-e1fd-4d43-9557-91edcadb9715",
   "metadata": {},
   "outputs": [
    {
     "data": {
      "text/plain": [
       "45.0"
      ]
     },
     "execution_count": 13,
     "metadata": {},
     "output_type": "execute_result"
    }
   ],
   "source": []
  },
  {
   "cell_type": "markdown",
   "id": "394d18a3-5177-45e4-a719-70dfec0d20a7",
   "metadata": {},
   "source": [
    "**`%=`: Modulus and assignment operator**"
   ]
  },
  {
   "cell_type": "code",
   "execution_count": 14,
   "id": "91d76624-c02d-47f1-be00-3e5c00da3453",
   "metadata": {},
   "outputs": [
    {
     "name": "stdout",
     "output_type": "stream",
     "text": [
      "var old value:  45.0\n",
      "var new value:  3.0\n"
     ]
    }
   ],
   "source": [
    "# Now we will get remainder after dividing by 6 using modulus %= operator\n",
    "\n",
    "print(\"var old value: \", var)\n",
    "var %= 6 # var = var * 6\n",
    "print(\"var new value: \", var)"
   ]
  },
  {
   "cell_type": "markdown",
   "id": "9a134287-2eb9-4eee-9742-cd24af6f8d4f",
   "metadata": {},
   "source": [
    "_______\n",
    "_______"
   ]
  },
  {
   "cell_type": "markdown",
   "id": "85e135ba-3202-4f13-8e3c-2d06fcb0dba5",
   "metadata": {},
   "source": [
    "## Relational Operators\n",
    "\n",
    "* `==`: equality comparison Operator\\\n",
    "    This Operator is used to check that two values are equal or not.\n",
    "    \n",
    "* `<=`: Less equal Comparison Operator\\\n",
    "    This Operator is used to check that `lvalue` is less than or equal to `rvalue`.\n",
    "    \n",
    "* `>=`: Greater equal Comparison Operator\\\n",
    "    This Operator is used to check that `lvalue` is greater than  or equal to `rvalue`.\n",
    "    \n",
    "* `<` : Less than Comparison Operator\\\n",
    "    This Operator is used to check that `lvalue` is less than the `rvalue`.\n",
    "\n",
    "* `>` : Greater than comparison Operator\\\n",
    "    This Operator is used to check that `lvalue` is greater than  the `rvalue`."
   ]
  },
  {
   "cell_type": "markdown",
   "id": "b6758fc6-3b47-4674-8ab2-e9f6d7c4ed09",
   "metadata": {},
   "source": [
    "**`==` : equality operator**"
   ]
  },
  {
   "cell_type": "code",
   "execution_count": null,
   "id": "3b0211dc-da33-423d-abd7-d2fd84fe731c",
   "metadata": {},
   "outputs": [],
   "source": []
  },
  {
   "cell_type": "code",
   "execution_count": 5,
   "id": "2c2a948b-98ae-4728-8b0f-bc2ad291c37f",
   "metadata": {},
   "outputs": [
    {
     "name": "stdout",
     "output_type": "stream",
     "text": [
      "is a == b : False\n",
      "is a == c : True\n"
     ]
    }
   ],
   "source": [
    "a = 10 \n",
    "b = 20 \n",
    "c = 10\n",
    "print(\"is a == b :\", a==b);\n",
    "print(\"is a == c :\", a==c);"
   ]
  },
  {
   "cell_type": "markdown",
   "id": "f3a99259-8498-4af0-898b-b4e2ded7d710",
   "metadata": {},
   "source": [
    "**`<=` : Less or equal to Operator**"
   ]
  },
  {
   "cell_type": "code",
   "execution_count": 6,
   "id": "f7505e14-2703-4934-82cd-22b8d8a46009",
   "metadata": {},
   "outputs": [
    {
     "name": "stdout",
     "output_type": "stream",
     "text": [
      "is a <= b : True\n",
      "is a <= c : True\n"
     ]
    }
   ],
   "source": [
    "a = 10 \n",
    "b = 20 \n",
    "c = 10\n",
    "print(\"is a <= b :\", a<=b);\n",
    "print(\"is a <= c :\", a<=c);"
   ]
  },
  {
   "cell_type": "markdown",
   "id": "881fa240-c318-4b99-a447-013011933834",
   "metadata": {},
   "source": [
    "Note: \n",
    "1. in first case, a is less than b (True), but a is not equal to b (False).\n",
    "2. in second case, a is not less than c (False), but a is eqult bo c (True)."
   ]
  },
  {
   "cell_type": "markdown",
   "id": "b3a2313e-0b04-469c-a800-ede7bfbc0ac4",
   "metadata": {},
   "source": [
    "**`>=`: Greater or Equal To Operator**"
   ]
  },
  {
   "cell_type": "code",
   "execution_count": 8,
   "id": "3455a110-665f-4dbc-b869-27a16db705e5",
   "metadata": {},
   "outputs": [
    {
     "name": "stdout",
     "output_type": "stream",
     "text": [
      "is a >= b : False\n",
      "is a >= c : True\n"
     ]
    }
   ],
   "source": [
    "a = 10 \n",
    "b = 20 \n",
    "c = 10\n",
    "print(\"is a >= b :\", a>=b);\n",
    "print(\"is a >= c :\", a>=c);"
   ]
  },
  {
   "cell_type": "markdown",
   "id": "03099d01-095e-414d-b23e-321bc33fc624",
   "metadata": {},
   "source": [
    "Note: \n",
    "1. in first case, a is not greater than b (False), but a is not equal to b (False).\n",
    "2. in second case, a is not greater than c (False), but a is eqult bo c (True)."
   ]
  },
  {
   "cell_type": "markdown",
   "id": "40a5310f-afab-4b80-b208-c96b961d6e2e",
   "metadata": {},
   "source": [
    "**`>`: Less than operator**"
   ]
  },
  {
   "cell_type": "code",
   "execution_count": 11,
   "id": "9de84f00-d96d-4241-b481-1679b0afca70",
   "metadata": {},
   "outputs": [
    {
     "name": "stdout",
     "output_type": "stream",
     "text": [
      "is a > b : False\n",
      "is a > c : False\n"
     ]
    }
   ],
   "source": [
    "a = 10 \n",
    "b = 20 \n",
    "c = 10\n",
    "print(\"is a > b :\", a>b);\n",
    "print(\"is a > c :\", a>c);"
   ]
  },
  {
   "cell_type": "markdown",
   "id": "93497dd3-4e47-411b-834c-f1a3fe3fbc8a",
   "metadata": {},
   "source": [
    "Note:\n",
    "1. a is not greater than b, it is less than b (False)\n",
    "2. a is not greater than c, is is equal to c (False)"
   ]
  },
  {
   "cell_type": "markdown",
   "id": "bc27a418-2003-42ae-8493-4f1f5a067351",
   "metadata": {},
   "source": [
    "**`<`: Greater than Operator**"
   ]
  },
  {
   "cell_type": "code",
   "execution_count": 12,
   "id": "e9701605-a8dc-4e93-a88d-94ba1980455b",
   "metadata": {},
   "outputs": [
    {
     "name": "stdout",
     "output_type": "stream",
     "text": [
      "is a < b : True\n",
      "is a < c : False\n"
     ]
    }
   ],
   "source": [
    "a = 10 \n",
    "b = 20 \n",
    "c = 10\n",
    "print(\"is a < b :\", a<b);\n",
    "print(\"is a < c :\", a<c);"
   ]
  },
  {
   "cell_type": "markdown",
   "id": "a861cf64-0ff0-4d9e-acf4-2e9292267fa3",
   "metadata": {},
   "source": [
    "Note:\n",
    "1. a is less than b (True).\n",
    "2. a is not less than c, is is equal to c (False)"
   ]
  },
  {
   "cell_type": "markdown",
   "id": "01149cff-7544-4101-bc8a-80aa7d6e9675",
   "metadata": {},
   "source": [
    "_____\n",
    "_____"
   ]
  },
  {
   "cell_type": "markdown",
   "id": "62101f91-78d8-41c7-be70-af276f67d027",
   "metadata": {},
   "source": [
    "## Logical Operators\n",
    "\n",
    "* `&&`, `and` : and operaotr\n",
    "* `||`, `or` : or operator\n",
    "* `!`, `not` : not operator"
   ]
  },
  {
   "cell_type": "markdown",
   "id": "f553ccac-031c-4dd5-952b-c0a0d1aa89bf",
   "metadata": {},
   "source": [
    "**`and` operator**"
   ]
  },
  {
   "cell_type": "markdown",
   "id": "df158dc2-43c1-4fcd-ba10-613ba6039fe6",
   "metadata": {},
   "source": [
    "* `False` and `True` ---> `False`\n",
    "* `True` and `False` ---> `False`\n",
    "* `True` and `True` ---> `True`\n",
    "* `False` and `False` ---> `False`"
   ]
  },
  {
   "cell_type": "code",
   "execution_count": 14,
   "id": "8bc67b5b-6e56-4219-96f3-3f5d8e230d3c",
   "metadata": {},
   "outputs": [
    {
     "name": "stdout",
     "output_type": "stream",
     "text": [
      "a and b:  False\n",
      "b and c:  False\n",
      "c and a:  True\n"
     ]
    }
   ],
   "source": [
    "a = True\n",
    "b = False\n",
    "c = True\n",
    "print(\"a and b: \", a and b)\n",
    "print(\"b and c: \", b and c)\n",
    "print(\"c and a: \", c and a)"
   ]
  },
  {
   "cell_type": "markdown",
   "id": "1d90012b-3934-4482-b9cd-1d6b72a1a699",
   "metadata": {},
   "source": [
    "**`or` Operator**"
   ]
  },
  {
   "cell_type": "markdown",
   "id": "b265bd6d-089f-4342-bac5-8fb43bb47d9b",
   "metadata": {},
   "source": [
    "* `False` or `True` ---> `True`\n",
    "* `True` or `False` ---> `True`\n",
    "* `True` or `True` ---> `True`\n",
    "* `False` and `False` ---> `False`"
   ]
  },
  {
   "cell_type": "code",
   "execution_count": 15,
   "id": "b0dc7f2e-9468-4366-ab71-11ee1c312edc",
   "metadata": {},
   "outputs": [
    {
     "name": "stdout",
     "output_type": "stream",
     "text": [
      "a or b:  True\n",
      "b or c:  True\n",
      "c or a:  True\n"
     ]
    }
   ],
   "source": [
    "a = True\n",
    "b = False\n",
    "c = True\n",
    "print(\"a or b: \", a or b)\n",
    "print(\"b or c: \", b or c)\n",
    "print(\"c or a: \", c or a)"
   ]
  },
  {
   "cell_type": "markdown",
   "id": "1ed9270c-3e32-4384-a5fe-7866d1ee35de",
   "metadata": {},
   "source": [
    "**`not`: Operator**"
   ]
  },
  {
   "cell_type": "markdown",
   "id": "788a3297-0202-4503-b946-34ef47e6abce",
   "metadata": {},
   "source": [
    "* not `True` ---> `False`\n",
    "* not `False` ---> `True`"
   ]
  },
  {
   "cell_type": "code",
   "execution_count": 16,
   "id": "943bde83-6043-44ba-84a2-48d08afb6ca6",
   "metadata": {},
   "outputs": [
    {
     "name": "stdout",
     "output_type": "stream",
     "text": [
      "not a:  False\n",
      "not b:  True\n",
      "not c:  False\n"
     ]
    }
   ],
   "source": [
    "a = True\n",
    "b = False\n",
    "c = True\n",
    "print(\"not a: \", not a )\n",
    "print(\"not b: \", not b )\n",
    "print(\"not c: \", not c )"
   ]
  },
  {
   "cell_type": "markdown",
   "id": "87c9c720-40d5-457e-8b02-4813ff347a22",
   "metadata": {},
   "source": [
    "_____\n",
    "_____\n",
    "\n",
    "\n",
    "#### Check that you can go to coaching.\n",
    "\n",
    "1. Condition: you have bike/scooty key.\n",
    "2. Condition: bike/scooty must have at least half liter petrol\n",
    "\n",
    "```py\n",
    "\n",
    "if condition1 and condition2 :\n",
    "    print(\"You can go to coaching.\")\n",
    "else:\n",
    "    print(\"You can't go to coaching.\")\n",
    "\n",
    "```"
   ]
  },
  {
   "cell_type": "code",
   "execution_count": 18,
   "id": "4e50d57c-605b-4e21-ba89-29e029d74a62",
   "metadata": {},
   "outputs": [
    {
     "name": "stdout",
     "output_type": "stream",
     "text": [
      "You can't go to coaching.\n"
     ]
    }
   ],
   "source": [
    "\n",
    "key = True\n",
    "petrol = 0.3\n",
    "\n",
    "if key and  petrol >= 0.5:\n",
    "    print(\"You can go to coaching.\")\n",
    "else:\n",
    "    print(\"You can't go to coaching.\")"
   ]
  },
  {
   "cell_type": "code",
   "execution_count": null,
   "id": "cb6d963b-c8a8-4cc7-81a3-dc78efcb4090",
   "metadata": {},
   "outputs": [],
   "source": []
  }
 ],
 "metadata": {
  "kernelspec": {
   "display_name": "Python 3 (ipykernel)",
   "language": "python",
   "name": "python3"
  },
  "language_info": {
   "codemirror_mode": {
    "name": "ipython",
    "version": 3
   },
   "file_extension": ".py",
   "mimetype": "text/x-python",
   "name": "python",
   "nbconvert_exporter": "python",
   "pygments_lexer": "ipython3",
   "version": "3.10.5"
  }
 },
 "nbformat": 4,
 "nbformat_minor": 5
}
