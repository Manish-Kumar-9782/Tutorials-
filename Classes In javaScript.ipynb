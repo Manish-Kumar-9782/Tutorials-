{
 "cells": [
  {
   "cell_type": "markdown",
   "metadata": {},
   "source": [
    "# Classes in javaScript\n",
    "\n",
    "A Javascript class is a blueprint for creating Objects. A class ecapsulates (bind mulitple things in an entity) data and functions that munipulate data.\n",
    "\n",
    "In JavaScript classes are the simple way to design the objects, it works like a syntatic sugar over the *prototypal inheritance*. In other words,classes are just special functtions."
   ]
  },
  {
   "cell_type": "markdown",
   "metadata": {},
   "source": [
    "**Note:** if we don't use the classes then we have to use the constructor/prototype pattern to bind the object data and method which is a very tidious task. an example of the constructor and prototypal can be seen as showing below."
   ]
  },
  {
   "cell_type": "code",
   "execution_count": 1,
   "metadata": {},
   "outputs": [
    {
     "name": "stdout",
     "output_type": "stream",
     "text": [
      "Person { name: 'person', age: 22, height: 5.6 }\n"
     ]
    }
   ],
   "source": [
    "// first we need to create a constructor function\n",
    "function Person(name, age, height){\n",
    "    this.name = name;\n",
    "    this.age = age;\n",
    "    this.height = height;\n",
    "};\n",
    "\n",
    "// Now if we want to add any method to work on the Person then we need \n",
    "// to use the proptotypal method as shown below.\n",
    "Person.prototype.showinfo = function(){\n",
    "    console.log(`Name:\\t ${this.name}`);\n",
    "    console.log(`Age:\\t ${this.age}`);\n",
    "    console.log(`Height:\\t ${this.height}`);\n",
    "};\n",
    "\n",
    "// Now if we create an object of the person then we can use\n",
    "let person = new Person(\"person\", 22, 5.6);\n",
    "console.log(person)"
   ]
  },
  {
   "cell_type": "markdown",
   "metadata": {},
   "source": [
    "**Process of object with constructor & prototypal mechanism**\n",
    "\n",
    "1. First it creates the `Person` as a constructor function that has some properties.\n",
    "2. The `showinfo()` function is assigned to the prototype so that it can be shared by all instance of the Person type.\n",
    "3. The, create a new instance of the `Person` type using the `new` operator. \n",
    "4. Now an object is create `person` (in our case) and `Object` through prototypal inheritance."
   ]
  },
  {
   "cell_type": "markdown",
   "metadata": {},
   "source": [
    "## Classes in JavaScript\n",
    "\n",
    "If we use the classes in the javascript the above process will be very easy to do since all the code will be written a single block which does not require any prototypal inheritance."
   ]
  },
  {
   "cell_type": "markdown",
   "metadata": {},
   "source": [
    "**Syntax**\n",
    "\n",
    "```js\n",
    "    class <class_name>{\n",
    "        // static or non static properties\n",
    "        // constructor for the Person.\n",
    "        // some method for the Person.\n",
    "    }\n",
    "```\n",
    "\n",
    "**`constructor:`** Constructor is special kind of function inside the javascirpt class which called during creating the new object of that class. by constructor we can assign the values to the object properties and we can provide some security layer over the assigning value during the construction of the object.\n",
    "\n",
    "**`properties:`** These are the variable which hold the data of the object, these variables are known as the properties of the object.\n",
    "\n",
    "**`method:`** These are the function binded to the object and used for manipulate/(to work on) the data of the object."
   ]
  },
  {
   "cell_type": "code",
   "execution_count": 3,
   "metadata": {},
   "outputs": [],
   "source": [
    "class Person1{\n",
    "\n",
    "    // constructor which will take some arguments.\n",
    "    constructor(name, age, height){\n",
    "        this.name = name;\n",
    "        this.age = age;\n",
    "        this.height = height;\n",
    "        // this constructor will take and assign all the values to their\n",
    "        // corresponding properties.\n",
    "    }\n",
    "\n",
    "    showinfo(){\n",
    "        console.log(`Name:\\t ${this.name}`);\n",
    "        console.log(`Age:\\t ${this.age}`);\n",
    "        console.log(`Height:\\t ${this.height}`);\n",
    "    }\n",
    "}"
   ]
  },
  {
   "cell_type": "markdown",
   "metadata": {},
   "source": [
    "Now if we want to create a Person1 class object then we can do it by using the new operator. the result will be same as we have got by using the constructor & prototypal inheritance."
   ]
  },
  {
   "cell_type": "code",
   "execution_count": 4,
   "metadata": {},
   "outputs": [
    {
     "name": "stdout",
     "output_type": "stream",
     "text": [
      "Person { name: 'person', age: 22, height: 5.6 }\n"
     ]
    }
   ],
   "source": [
    "let person1 = new Person1(\"person\", 22, 5.6);\n",
    "console.log(person)"
   ]
  },
  {
   "cell_type": "markdown",
   "metadata": {},
   "source": [
    "**Process of the above code**\n",
    "\n",
    "1. As we run the `new Person1()` it will start to construct the object for `Person1` class and automatically calls the constructor which is defined inside the class.\n",
    "2. That constructor assigns the given values to their corresponding properties.\n",
    "3. In result we get a new object of the `Person1` class which  is stored in the `person1` varible.\n",
    "\n",
    "Now this object also have the `showinfo` method to show the details of it's properties."
   ]
  },
  {
   "cell_type": "code",
   "execution_count": 5,
   "metadata": {},
   "outputs": [
    {
     "name": "stdout",
     "output_type": "stream",
     "text": [
      "Name:\t person\n",
      "Age:\t 22\n",
      "Height:\t 5.6\n"
     ]
    }
   ],
   "source": [
    "person1.showinfo()"
   ]
  },
  {
   "cell_type": "markdown",
   "metadata": {},
   "source": [
    "**use of `instanceof` operator**\n",
    "\n",
    "Note: if we are working with the classes or object then we should know that how to verify that which object belongs to which kind of class, for that we have an operator which is called *`instanceof`* operator.\n",
    "\n",
    "Syntax:\n",
    "```js\n",
    "object instanceof class\n",
    "```\n",
    "it will return `true` or `false` according to the relation b/w the object and the class type."
   ]
  },
  {
   "cell_type": "code",
   "execution_count": 8,
   "metadata": {},
   "outputs": [
    {
     "name": "stdout",
     "output_type": "stream",
     "text": [
      "is person1 instanceof Person1 class:  true\n",
      "is person1 instanceof Object class:  true\n"
     ]
    }
   ],
   "source": [
    "// Now we will check that person1 is the instanceof the Person1 class.\n",
    "console.log(\"is person1 instanceof Person1 class: \", person1 instanceof Person1);\n",
    "\n",
    "// here also we will test that person1 is an instanceof the Object class also. \n",
    "console.log(\"is person1 instanceof Object class: \", person1 instanceof Object);\n",
    "\n"
   ]
  },
  {
   "cell_type": "markdown",
   "metadata": {},
   "source": [
    "**Note:** Every class inherit the Object class since it is the base class for each object in the javascript. here object class act as a prototype for the Each derived class."
   ]
  },
  {
   "cell_type": "markdown",
   "metadata": {},
   "source": []
  }
 ],
 "metadata": {
  "kernelspec": {
   "display_name": "JavaScript (Node.js)",
   "language": "javascript",
   "name": "javascript"
  },
  "language_info": {
   "file_extension": ".js",
   "mimetype": "application/javascript",
   "name": "javascript",
   "version": "16.17.0"
  }
 },
 "nbformat": 4,
 "nbformat_minor": 4
}
