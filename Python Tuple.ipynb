{
 "cells": [
  {
   "cell_type": "markdown",
   "id": "bdd7274b-c92f-474a-9065-a9b66938653f",
   "metadata": {},
   "source": [
    "# Tuple"
   ]
  },
  {
   "cell_type": "markdown",
   "id": "e57619a9-cf0f-43ed-94d6-f515206ae6b3",
   "metadata": {},
   "source": [
    "Tuple is also a data structure like a list but in tuple we can not change the data, because tuple object are immutable.\n",
    "\n",
    "immutable object: object which cannot be changed after initialized. we can extend our tuple with + operator."
   ]
  },
  {
   "cell_type": "markdown",
   "id": "0a994010-e3ab-44f4-a1da-7e26146e07cf",
   "metadata": {},
   "source": [
    "## Creating a Tuple object\n",
    "\n",
    "Syntax of Tupel:\n",
    "```python\n",
    "VarName = (value1, value2, value3,..., valuen)\n",
    "```\n",
    "\n",
    "\n",
    "Syntax of List:\n",
    "```python\n",
    "VarName = [value1, value2, value3,..., valuen]\n",
    "```"
   ]
  },
  {
   "cell_type": "code",
   "execution_count": 1,
   "id": "26f4d0e8-4bd0-4b9f-b41d-0f13660fd357",
   "metadata": {},
   "outputs": [],
   "source": [
    "# now we will make a tuple and list with same values.\n",
    "\n",
    "List = [\"jigyasa\", 17, 5.2]\n",
    "Tuple = (\"jigyasa\", 17, 5.2)"
   ]
  },
  {
   "cell_type": "markdown",
   "id": "12b83d6c-3a42-4278-9d84-93bcd88cd047",
   "metadata": {},
   "source": [
    "Now to check that which object is tuple and which object is not tuple or list> "
   ]
  },
  {
   "cell_type": "code",
   "execution_count": 2,
   "id": "8261d875-e6c6-4902-b160-e962370cecf7",
   "metadata": {},
   "outputs": [
    {
     "data": {
      "text/plain": [
       "list"
      ]
     },
     "execution_count": 2,
     "metadata": {},
     "output_type": "execute_result"
    }
   ],
   "source": [
    "type(List)"
   ]
  },
  {
   "cell_type": "code",
   "execution_count": 3,
   "id": "67e098c6-e4b1-41c0-86aa-a1bd8503aa4f",
   "metadata": {},
   "outputs": [
    {
     "data": {
      "text/plain": [
       "tuple"
      ]
     },
     "execution_count": 3,
     "metadata": {},
     "output_type": "execute_result"
    }
   ],
   "source": [
    "type(Tuple)"
   ]
  },
  {
   "cell_type": "markdown",
   "id": "7f90d207-f05f-4dd9-91ff-127cf5e0eb58",
   "metadata": {},
   "source": [
    "We can also use a `tuple()` function to create a tuple with given values."
   ]
  },
  {
   "cell_type": "code",
   "execution_count": 5,
   "id": "ef168b88-a868-4279-9cc5-5f162483cf9b",
   "metadata": {},
   "outputs": [],
   "source": [
    "Tuple2 = tuple([\"jigyasa\", 17, 5.2])"
   ]
  },
  {
   "cell_type": "code",
   "execution_count": 7,
   "id": "c162df28-a609-46d9-aad0-9a8239ecfd4c",
   "metadata": {},
   "outputs": [
    {
     "data": {
      "text/plain": [
       "('jigyasa', 17, 5.2)"
      ]
     },
     "execution_count": 7,
     "metadata": {},
     "output_type": "execute_result"
    }
   ],
   "source": [
    "Tuple2"
   ]
  },
  {
   "cell_type": "code",
   "execution_count": 9,
   "id": "91e8e469-0d0a-490c-abb8-49c740c19bcb",
   "metadata": {},
   "outputs": [
    {
     "data": {
      "text/plain": [
       "tuple"
      ]
     },
     "execution_count": 9,
     "metadata": {},
     "output_type": "execute_result"
    }
   ],
   "source": [
    "type(Tuple2)"
   ]
  },
  {
   "cell_type": "markdown",
   "id": "f95d50d0-d685-4107-97f1-8b5d3f14c090",
   "metadata": {},
   "source": [
    "## Accessing Element from tuple object"
   ]
  },
  {
   "cell_type": "markdown",
   "id": "575f5d66-6be3-4d92-8d62-5b569e7d3fdc",
   "metadata": {},
   "source": [
    "we can access element form `tuple` object by using the indexing method `[]` (subscripting) "
   ]
  },
  {
   "cell_type": "code",
   "execution_count": 11,
   "id": "d37c934e-9df8-457a-b9cf-4c9881f61a04",
   "metadata": {},
   "outputs": [
    {
     "data": {
      "text/plain": [
       "('jigyasa', 17, 5.2)"
      ]
     },
     "execution_count": 11,
     "metadata": {},
     "output_type": "execute_result"
    }
   ],
   "source": [
    "Tuple"
   ]
  },
  {
   "cell_type": "code",
   "execution_count": 13,
   "id": "6f88a70e-9400-4251-8926-9aa3bd87265b",
   "metadata": {},
   "outputs": [
    {
     "data": {
      "text/plain": [
       "17"
      ]
     },
     "execution_count": 13,
     "metadata": {},
     "output_type": "execute_result"
    }
   ],
   "source": [
    "# accessing 17 from tuple\n",
    "Tuple[1]"
   ]
  },
  {
   "cell_type": "code",
   "execution_count": 14,
   "id": "dd6ecff4-cb55-4b64-a50e-5d244bceb413",
   "metadata": {},
   "outputs": [
    {
     "data": {
      "text/plain": [
       "'jigyasa'"
      ]
     },
     "execution_count": 14,
     "metadata": {},
     "output_type": "execute_result"
    }
   ],
   "source": [
    "# accessing 'jigyasa' from tuple\n",
    "Tuple[0]"
   ]
  },
  {
   "cell_type": "markdown",
   "id": "b5482f4f-91d9-4b9b-b4f0-bb04ea717300",
   "metadata": {},
   "source": [
    "## updaing element value or replacing value\n",
    "\n",
    "Update or replace syntax (item assignment):\n",
    "\n",
    "```python\n",
    "TupleObject[i] = value;\n",
    "# i: index number\n",
    "```"
   ]
  },
  {
   "cell_type": "code",
   "execution_count": 15,
   "id": "f9692591-2fcd-4aca-85b2-4f3a4d00ec5f",
   "metadata": {},
   "outputs": [
    {
     "ename": "TypeError",
     "evalue": "'tuple' object does not support item assignment",
     "output_type": "error",
     "traceback": [
      "\u001b[1;31m---------------------------------------------------------------------------\u001b[0m",
      "\u001b[1;31mTypeError\u001b[0m                                 Traceback (most recent call last)",
      "Cell \u001b[1;32mIn [15], line 1\u001b[0m\n\u001b[1;32m----> 1\u001b[0m \u001b[43mTuple\u001b[49m\u001b[43m[\u001b[49m\u001b[38;5;241;43m0\u001b[39;49m\u001b[43m]\u001b[49m \u001b[38;5;241m=\u001b[39m \u001b[38;5;124m\"\u001b[39m\u001b[38;5;124mManish\u001b[39m\u001b[38;5;124m\"\u001b[39m\n",
      "\u001b[1;31mTypeError\u001b[0m: 'tuple' object does not support item assignment"
     ]
    }
   ],
   "source": [
    "Tuple[0] = \"Manish\""
   ]
  },
  {
   "cell_type": "markdown",
   "id": "c0f485cb-8a51-4a35-9358-adab9c46fbd7",
   "metadata": {},
   "source": [
    "## method of tuple object"
   ]
  },
  {
   "cell_type": "code",
   "execution_count": 16,
   "id": "39884434-0cc8-426f-b0e0-a149ea7da91e",
   "metadata": {},
   "outputs": [
    {
     "data": {
      "text/plain": [
       "['__add__',\n",
       " '__class__',\n",
       " '__class_getitem__',\n",
       " '__contains__',\n",
       " '__delattr__',\n",
       " '__dir__',\n",
       " '__doc__',\n",
       " '__eq__',\n",
       " '__format__',\n",
       " '__ge__',\n",
       " '__getattribute__',\n",
       " '__getitem__',\n",
       " '__getnewargs__',\n",
       " '__gt__',\n",
       " '__hash__',\n",
       " '__init__',\n",
       " '__init_subclass__',\n",
       " '__iter__',\n",
       " '__le__',\n",
       " '__len__',\n",
       " '__lt__',\n",
       " '__mul__',\n",
       " '__ne__',\n",
       " '__new__',\n",
       " '__reduce__',\n",
       " '__reduce_ex__',\n",
       " '__repr__',\n",
       " '__rmul__',\n",
       " '__setattr__',\n",
       " '__sizeof__',\n",
       " '__str__',\n",
       " '__subclasshook__',\n",
       " 'count',\n",
       " 'index']"
      ]
     },
     "execution_count": 16,
     "metadata": {},
     "output_type": "execute_result"
    }
   ],
   "source": [
    "dir(tuple)"
   ]
  },
  {
   "cell_type": "markdown",
   "id": "cba02d2a-5248-476d-8498-d1a256ffc281",
   "metadata": {},
   "source": [
    "From above result we have only two usefull method of tuple object\n",
    "1. count : it gives number of occurrence of an item.\n",
    "2. index : index number of a particular item."
   ]
  },
  {
   "cell_type": "code",
   "execution_count": 18,
   "id": "da07eb92-68d0-4b94-8982-cde7560a6a7a",
   "metadata": {},
   "outputs": [
    {
     "data": {
      "text/plain": [
       "1"
      ]
     },
     "execution_count": 18,
     "metadata": {},
     "output_type": "execute_result"
    }
   ],
   "source": [
    "# finding the index number of 17 value from Tuple object.\n",
    "Tuple.index(17)"
   ]
  },
  {
   "cell_type": "code",
   "execution_count": 19,
   "id": "6911a965-5534-4e41-9282-09a21ec6a217",
   "metadata": {},
   "outputs": [
    {
     "ename": "ValueError",
     "evalue": "tuple.index(x): x not in tuple",
     "output_type": "error",
     "traceback": [
      "\u001b[1;31m---------------------------------------------------------------------------\u001b[0m",
      "\u001b[1;31mValueError\u001b[0m                                Traceback (most recent call last)",
      "Cell \u001b[1;32mIn [19], line 1\u001b[0m\n\u001b[1;32m----> 1\u001b[0m \u001b[43mTuple\u001b[49m\u001b[38;5;241;43m.\u001b[39;49m\u001b[43mindex\u001b[49m\u001b[43m(\u001b[49m\u001b[38;5;124;43m\"\u001b[39;49m\u001b[38;5;124;43mmanihs\u001b[39;49m\u001b[38;5;124;43m\"\u001b[39;49m\u001b[43m)\u001b[49m\n",
      "\u001b[1;31mValueError\u001b[0m: tuple.index(x): x not in tuple"
     ]
    }
   ],
   "source": [
    "Tuple.index(\"manihs\")"
   ]
  },
  {
   "cell_type": "code",
   "execution_count": 20,
   "id": "8d471b39-e072-49f5-a2da-a88a6945d010",
   "metadata": {},
   "outputs": [],
   "source": [
    "tuple3 = tuple([8, 2, 5, 9, 8, 4, 10, 5, 8, 8, 7, 1, 8, 3, 9, 6, 1, 8, 2, 10, 1, 2, 10, 1, 8, 10, 5, 7, 5, 8])"
   ]
  },
  {
   "cell_type": "code",
   "execution_count": 21,
   "id": "4090ce57-d358-43a6-aeaf-20c2f49681b5",
   "metadata": {},
   "outputs": [
    {
     "name": "stdout",
     "output_type": "stream",
     "text": [
      "(8, 2, 5, 9, 8, 4, 10, 5, 8, 8, 7, 1, 8, 3, 9, 6, 1, 8, 2, 10, 1, 2, 10, 1, 8, 10, 5, 7, 5, 8)\n"
     ]
    }
   ],
   "source": [
    "print(tuple3)"
   ]
  },
  {
   "cell_type": "code",
   "execution_count": 22,
   "id": "2b704c3f-9cce-47a7-999a-73d9db17b84e",
   "metadata": {},
   "outputs": [
    {
     "data": {
      "text/plain": [
       "8"
      ]
     },
     "execution_count": 22,
     "metadata": {},
     "output_type": "execute_result"
    }
   ],
   "source": [
    "# counting the occurrence of number 8\n",
    "tuple3.count(8)"
   ]
  },
  {
   "cell_type": "code",
   "execution_count": 23,
   "id": "ca219a53-9bc1-4ac3-af3f-4f3c6173ebc8",
   "metadata": {},
   "outputs": [
    {
     "data": {
      "text/plain": [
       "4"
      ]
     },
     "execution_count": 23,
     "metadata": {},
     "output_type": "execute_result"
    }
   ],
   "source": [
    "# counting the occurrence of number 5\n",
    "tuple3.count(5)"
   ]
  },
  {
   "cell_type": "code",
   "execution_count": null,
   "id": "b79c773c-3cc8-4bcd-8718-5f17339292ee",
   "metadata": {},
   "outputs": [],
   "source": []
  }
 ],
 "metadata": {
  "kernelspec": {
   "display_name": "Python 3 (ipykernel)",
   "language": "python",
   "name": "python3"
  },
  "language_info": {
   "codemirror_mode": {
    "name": "ipython",
    "version": 3
   },
   "file_extension": ".py",
   "mimetype": "text/x-python",
   "name": "python",
   "nbconvert_exporter": "python",
   "pygments_lexer": "ipython3",
   "version": "3.10.5"
  }
 },
 "nbformat": 4,
 "nbformat_minor": 5
}
