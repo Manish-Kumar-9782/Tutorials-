{
 "cells": [
  {
   "cell_type": "markdown",
   "id": "137a0729-f4c2-4028-be36-7a74e5eddfc9",
   "metadata": {},
   "source": [
    "# Practice Set 1"
   ]
  },
  {
   "cell_type": "markdown",
   "id": "5d5f40ff-619b-436e-8e54-0217b299ef44",
   "metadata": {},
   "source": [
    "### 1. check that a number is prime or not."
   ]
  },
  {
   "cell_type": "code",
   "execution_count": 12,
   "id": "a534304d-2398-4667-84c0-e86c30811215",
   "metadata": {},
   "outputs": [],
   "source": [
    "def isPrime(number):\n",
    "    \n",
    "    # div, a variable which will divide the number\n",
    "    # Now we will test remainder of number%div.\n",
    "    # where div range is [2,number-1]\n",
    "    \n",
    "    if number == 0 or number == 1:\n",
    "        return False\n",
    "    \n",
    "    for div in range(2,number):\n",
    "        \n",
    "        # test the condition\n",
    "        if number%div == 0:\n",
    "            return False\n",
    "        \n",
    "    return True"
   ]
  },
  {
   "cell_type": "code",
   "execution_count": 2,
   "id": "63fe9116-d52b-419f-9301-18071a7ad032",
   "metadata": {},
   "outputs": [
    {
     "data": {
      "text/plain": [
       "False"
      ]
     },
     "execution_count": 2,
     "metadata": {},
     "output_type": "execute_result"
    }
   ],
   "source": [
    "# test isPrime number\n",
    "isPrime(10)"
   ]
  },
  {
   "cell_type": "code",
   "execution_count": 3,
   "id": "d4679f58-16e5-4673-b6b1-0cbd33d37575",
   "metadata": {},
   "outputs": [
    {
     "data": {
      "text/plain": [
       "True"
      ]
     },
     "execution_count": 3,
     "metadata": {},
     "output_type": "execute_result"
    }
   ],
   "source": [
    "isPrime(7)"
   ]
  },
  {
   "cell_type": "code",
   "execution_count": 4,
   "id": "23826307-b736-437c-ae20-1c9e71316047",
   "metadata": {},
   "outputs": [
    {
     "data": {
      "text/plain": [
       "True"
      ]
     },
     "execution_count": 4,
     "metadata": {},
     "output_type": "execute_result"
    }
   ],
   "source": [
    "isPrime(11)"
   ]
  },
  {
   "cell_type": "code",
   "execution_count": 7,
   "id": "fdd1f537-af91-4157-a098-eaea19189099",
   "metadata": {},
   "outputs": [
    {
     "data": {
      "text/plain": [
       "False"
      ]
     },
     "execution_count": 7,
     "metadata": {},
     "output_type": "execute_result"
    }
   ],
   "source": [
    "isPrime(12)"
   ]
  },
  {
   "cell_type": "markdown",
   "id": "3ba0f7f3-247a-4202-aee2-8ab6b53bab15",
   "metadata": {},
   "source": [
    "### 2. get prime numbers from a range."
   ]
  },
  {
   "cell_type": "code",
   "execution_count": 13,
   "id": "7cc6a8c7-a71b-494b-b6ca-d8b6082c801b",
   "metadata": {},
   "outputs": [],
   "source": [
    "def isPrimeRange(start=0, end=10):\n",
    "    \n",
    "    Primes = [] # a list of prime numbers.\n",
    "    \n",
    "    for num in range(start, end+1):\n",
    "        \n",
    "        if isPrime(num):\n",
    "            Primes.append(num)\n",
    "            \n",
    "    return Primes"
   ]
  },
  {
   "cell_type": "code",
   "execution_count": 14,
   "id": "62c57aad-0977-4ab2-aa42-8ad6c5b45803",
   "metadata": {},
   "outputs": [
    {
     "data": {
      "text/plain": [
       "[2, 3, 5, 7]"
      ]
     },
     "execution_count": 14,
     "metadata": {},
     "output_type": "execute_result"
    }
   ],
   "source": [
    "# testing the isPrimeRange function\n",
    "isPrimeRange()"
   ]
  },
  {
   "cell_type": "code",
   "execution_count": 15,
   "id": "882a235a-3247-4697-b238-b2ec48ed9f1f",
   "metadata": {
    "collapsed": true,
    "jupyter": {
     "outputs_hidden": true
    },
    "tags": []
   },
   "outputs": [
    {
     "data": {
      "text/plain": [
       "[2,\n",
       " 3,\n",
       " 5,\n",
       " 7,\n",
       " 11,\n",
       " 13,\n",
       " 17,\n",
       " 19,\n",
       " 23,\n",
       " 29,\n",
       " 31,\n",
       " 37,\n",
       " 41,\n",
       " 43,\n",
       " 47,\n",
       " 53,\n",
       " 59,\n",
       " 61,\n",
       " 67,\n",
       " 71,\n",
       " 73,\n",
       " 79,\n",
       " 83,\n",
       " 89,\n",
       " 97]"
      ]
     },
     "execution_count": 15,
     "metadata": {},
     "output_type": "execute_result"
    }
   ],
   "source": [
    "isPrimeRange(1, 100)"
   ]
  },
  {
   "cell_type": "markdown",
   "id": "7aeb638e-6d03-4e33-a6f1-ef8edecd945e",
   "metadata": {},
   "source": [
    "### Count the number of digits in a integer."
   ]
  },
  {
   "cell_type": "markdown",
   "id": "c76160f1-9051-47b4-b3e4-ceab9076dd5c",
   "metadata": {},
   "source": [
    "1233445645 --> \"1233445645\""
   ]
  },
  {
   "cell_type": "code",
   "execution_count": 16,
   "id": "666faa7f-3c57-4203-ae6f-cf2b2f1e16f1",
   "metadata": {},
   "outputs": [],
   "source": [
    "#\n",
    "num = \"1233445645\""
   ]
  },
  {
   "cell_type": "code",
   "execution_count": 17,
   "id": "1f464805-4f05-4de1-99a5-42e1a3a04421",
   "metadata": {},
   "outputs": [
    {
     "data": {
      "text/plain": [
       "10"
      ]
     },
     "execution_count": 17,
     "metadata": {},
     "output_type": "execute_result"
    }
   ],
   "source": [
    "len(num)"
   ]
  },
  {
   "cell_type": "code",
   "execution_count": 38,
   "id": "01aa4204-0736-46a4-87c7-c4df533d28b3",
   "metadata": {},
   "outputs": [],
   "source": [
    "def countDigit(number):\n",
    "    \n",
    "    # first of all we need to test that number value is an integer.\n",
    "    # isinstance()\n",
    "    \n",
    "    if isinstance(number, int):\n",
    "        \n",
    "        count=0;\n",
    "        while(number>10):\n",
    "            # infinite loop\\\n",
    "            print(f\"{number} = {number}/10 ---> {number/10} \\t\\t {count+1}\")\n",
    "            number = number/10;\n",
    "            count+=1;  ## counting the last remaining\n",
    "        count += 1\n",
    "        return count\n",
    "    else:\n",
    "        print(\"Error: number must be integer..!\")"
   ]
  },
  {
   "cell_type": "code",
   "execution_count": 39,
   "id": "0a7b58e3-2bb8-4526-b5dd-f20658f5d82f",
   "metadata": {},
   "outputs": [
    {
     "name": "stdout",
     "output_type": "stream",
     "text": [
      "1234567890 = 1234567890/10 ---> 123456789.0 \t\t 1\n",
      "123456789.0 = 123456789.0/10 ---> 12345678.9 \t\t 2\n",
      "12345678.9 = 12345678.9/10 ---> 1234567.8900000001 \t\t 3\n",
      "1234567.8900000001 = 1234567.8900000001/10 ---> 123456.78900000002 \t\t 4\n",
      "123456.78900000002 = 123456.78900000002/10 ---> 12345.678900000003 \t\t 5\n",
      "12345.678900000003 = 12345.678900000003/10 ---> 1234.5678900000003 \t\t 6\n",
      "1234.5678900000003 = 1234.5678900000003/10 ---> 123.45678900000003 \t\t 7\n",
      "123.45678900000003 = 123.45678900000003/10 ---> 12.345678900000003 \t\t 8\n",
      "12.345678900000003 = 12.345678900000003/10 ---> 1.2345678900000003 \t\t 9\n"
     ]
    },
    {
     "data": {
      "text/plain": [
       "10"
      ]
     },
     "execution_count": 39,
     "metadata": {},
     "output_type": "execute_result"
    }
   ],
   "source": [
    "countDigit(1234567890)"
   ]
  },
  {
   "cell_type": "code",
   "execution_count": null,
   "id": "c872c275-1e7a-4936-a438-c33b0c7ac6c1",
   "metadata": {},
   "outputs": [],
   "source": []
  }
 ],
 "metadata": {
  "kernelspec": {
   "display_name": "Python 3 (ipykernel)",
   "language": "python",
   "name": "python3"
  },
  "language_info": {
   "codemirror_mode": {
    "name": "ipython",
    "version": 3
   },
   "file_extension": ".py",
   "mimetype": "text/x-python",
   "name": "python",
   "nbconvert_exporter": "python",
   "pygments_lexer": "ipython3",
   "version": "3.8.3"
  }
 },
 "nbformat": 4,
 "nbformat_minor": 5
}
