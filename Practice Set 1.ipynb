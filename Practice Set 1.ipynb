{
 "cells": [
  {
   "cell_type": "markdown",
   "id": "137a0729-f4c2-4028-be36-7a74e5eddfc9",
   "metadata": {},
   "source": [
    "# Practice Set 1"
   ]
  },
  {
   "cell_type": "markdown",
   "id": "5d5f40ff-619b-436e-8e54-0217b299ef44",
   "metadata": {},
   "source": [
    "### 1. check that a number is prime or not."
   ]
  },
  {
   "cell_type": "code",
   "execution_count": 1,
   "id": "a534304d-2398-4667-84c0-e86c30811215",
   "metadata": {},
   "outputs": [],
   "source": [
    "def isPrime(number):\n",
    "    \n",
    "    # div, a variable which will divide the number\n",
    "    # Now we will test remainder of number%div.\n",
    "    # where div range is [2,number-1]\n",
    "    \n",
    "    if number == 0 or number == 1:\n",
    "        return False\n",
    "    \n",
    "    for div in range(2,number):\n",
    "        \n",
    "        # test the condition\n",
    "        if number%div == 0:\n",
    "            return False\n",
    "        \n",
    "    return True"
   ]
  },
  {
   "cell_type": "code",
   "execution_count": 8,
   "id": "63fe9116-d52b-419f-9301-18071a7ad032",
   "metadata": {},
   "outputs": [
    {
     "data": {
      "text/plain": [
       "True"
      ]
     },
     "execution_count": 8,
     "metadata": {},
     "output_type": "execute_result"
    }
   ],
   "source": [
    "# test isPrime number\n",
    "isPrime(number=7)"
   ]
  },
  {
   "cell_type": "code",
   "execution_count": 3,
   "id": "d4679f58-16e5-4673-b6b1-0cbd33d37575",
   "metadata": {},
   "outputs": [
    {
     "data": {
      "text/plain": [
       "True"
      ]
     },
     "execution_count": 3,
     "metadata": {},
     "output_type": "execute_result"
    }
   ],
   "source": [
    "isPrime(7)"
   ]
  },
  {
   "cell_type": "code",
   "execution_count": 4,
   "id": "23826307-b736-437c-ae20-1c9e71316047",
   "metadata": {},
   "outputs": [
    {
     "data": {
      "text/plain": [
       "True"
      ]
     },
     "execution_count": 4,
     "metadata": {},
     "output_type": "execute_result"
    }
   ],
   "source": [
    "isPrime(11)"
   ]
  },
  {
   "cell_type": "code",
   "execution_count": 7,
   "id": "fdd1f537-af91-4157-a098-eaea19189099",
   "metadata": {},
   "outputs": [
    {
     "data": {
      "text/plain": [
       "False"
      ]
     },
     "execution_count": 7,
     "metadata": {},
     "output_type": "execute_result"
    }
   ],
   "source": [
    "isPrime(12)"
   ]
  },
  {
   "cell_type": "markdown",
   "id": "3ba0f7f3-247a-4202-aee2-8ab6b53bab15",
   "metadata": {},
   "source": [
    "### 2. get prime numbers from a range."
   ]
  },
  {
   "cell_type": "code",
   "execution_count": 13,
   "id": "7cc6a8c7-a71b-494b-b6ca-d8b6082c801b",
   "metadata": {},
   "outputs": [],
   "source": [
    "def isPrimeRange(start=0, end=10):\n",
    "    \n",
    "    Primes = [] # a list of prime numbers.\n",
    "    \n",
    "    for num in range(start, end+1):\n",
    "        \n",
    "        if isPrime(num):\n",
    "            Primes.append(num)\n",
    "            \n",
    "    return Primes"
   ]
  },
  {
   "cell_type": "code",
   "execution_count": 7,
   "id": "62c57aad-0977-4ab2-aa42-8ad6c5b45803",
   "metadata": {},
   "outputs": [
    {
     "ename": "NameError",
     "evalue": "name 'isPrimeRange' is not defined",
     "output_type": "error",
     "traceback": [
      "\u001b[1;31m---------------------------------------------------------------------------\u001b[0m",
      "\u001b[1;31mNameError\u001b[0m                                 Traceback (most recent call last)",
      "\u001b[1;32mi:\\WorkData\\Programming\\Python\\PyTutorial\\Practice Set 1.ipynb Cell 10\u001b[0m in \u001b[0;36m<cell line: 2>\u001b[1;34m()\u001b[0m\n\u001b[0;32m      <a href='vscode-notebook-cell:/i%3A/WorkData/Programming/Python/PyTutorial/Practice%20Set%201.ipynb#X12sZmlsZQ%3D%3D?line=0'>1</a>\u001b[0m \u001b[39m# testing the isPrimeRange function\u001b[39;00m\n\u001b[1;32m----> <a href='vscode-notebook-cell:/i%3A/WorkData/Programming/Python/PyTutorial/Practice%20Set%201.ipynb#X12sZmlsZQ%3D%3D?line=1'>2</a>\u001b[0m isPrimeRange()\n",
      "\u001b[1;31mNameError\u001b[0m: name 'isPrimeRange' is not defined"
     ]
    }
   ],
   "source": [
    "# testing the isPrimeRange function\n",
    "isPrimeRange()"
   ]
  },
  {
   "cell_type": "code",
   "execution_count": null,
   "id": "882a235a-3247-4697-b238-b2ec48ed9f1f",
   "metadata": {
    "collapsed": true,
    "jupyter": {
     "outputs_hidden": true
    },
    "tags": []
   },
   "outputs": [],
   "source": []
  },
  {
   "cell_type": "markdown",
   "id": "7aeb638e-6d03-4e33-a6f1-ef8edecd945e",
   "metadata": {},
   "source": [
    "### Count the number of digits in a integer."
   ]
  },
  {
   "cell_type": "markdown",
   "id": "c76160f1-9051-47b4-b3e4-ceab9076dd5c",
   "metadata": {},
   "source": [
    "1233445645 --> \"1233445645\""
   ]
  },
  {
   "cell_type": "code",
   "execution_count": 16,
   "id": "666faa7f-3c57-4203-ae6f-cf2b2f1e16f1",
   "metadata": {},
   "outputs": [],
   "source": [
    "#\n",
    "num = \"1233445645\""
   ]
  },
  {
   "cell_type": "code",
   "execution_count": 17,
   "id": "1f464805-4f05-4de1-99a5-42e1a3a04421",
   "metadata": {},
   "outputs": [
    {
     "data": {
      "text/plain": [
       "10"
      ]
     },
     "execution_count": 17,
     "metadata": {},
     "output_type": "execute_result"
    }
   ],
   "source": [
    "len(num)"
   ]
  },
  {
   "cell_type": "code",
   "execution_count": 38,
   "id": "01aa4204-0736-46a4-87c7-c4df533d28b3",
   "metadata": {},
   "outputs": [],
   "source": [
    "def countDigit(number):\n",
    "    \n",
    "    # first of all we need to test that number value is an integer.\n",
    "    # isinstance()\n",
    "    \n",
    "    if isinstance(number, int):\n",
    "        \n",
    "        count=0;\n",
    "        while(number>10):\n",
    "            # infinite loop\\\n",
    "            print(f\"{number} = {number}/10 ---> {number/10} \\t\\t {count+1}\")\n",
    "            number = number/10;\n",
    "            count+=1;  ## counting the last remaining\n",
    "        count += 1\n",
    "        return count\n",
    "    else:\n",
    "        print(\"Error: number must be integer..!\")"
   ]
  },
  {
   "cell_type": "code",
   "execution_count": 39,
   "id": "0a7b58e3-2bb8-4526-b5dd-f20658f5d82f",
   "metadata": {},
   "outputs": [
    {
     "name": "stdout",
     "output_type": "stream",
     "text": [
      "1234567890 = 1234567890/10 ---> 123456789.0 \t\t 1\n",
      "123456789.0 = 123456789.0/10 ---> 12345678.9 \t\t 2\n",
      "12345678.9 = 12345678.9/10 ---> 1234567.8900000001 \t\t 3\n",
      "1234567.8900000001 = 1234567.8900000001/10 ---> 123456.78900000002 \t\t 4\n",
      "123456.78900000002 = 123456.78900000002/10 ---> 12345.678900000003 \t\t 5\n",
      "12345.678900000003 = 12345.678900000003/10 ---> 1234.5678900000003 \t\t 6\n",
      "1234.5678900000003 = 1234.5678900000003/10 ---> 123.45678900000003 \t\t 7\n",
      "123.45678900000003 = 123.45678900000003/10 ---> 12.345678900000003 \t\t 8\n",
      "12.345678900000003 = 12.345678900000003/10 ---> 1.2345678900000003 \t\t 9\n"
     ]
    },
    {
     "data": {
      "text/plain": [
       "10"
      ]
     },
     "execution_count": 39,
     "metadata": {},
     "output_type": "execute_result"
    }
   ],
   "source": [
    "countDigit(1234567890)"
   ]
  },
  {
   "cell_type": "markdown",
   "id": "8f3cd8ae",
   "metadata": {},
   "source": [
    "### Reverse the given string "
   ]
  },
  {
   "cell_type": "code",
   "execution_count": 19,
   "id": "c872c275-1e7a-4936-a438-c33b0c7ac6c1",
   "metadata": {},
   "outputs": [],
   "source": [
    "def reverse_string(value):\n",
    "    \n",
    "    # first we need to check/verify that. \n",
    "    if isinstance(value, str):\n",
    "        # after checking the string verification we need to apply the logic.\n",
    "        rString = \"\" # a blank string which will hold the reverse string.\n",
    "\n",
    "        for ch in value:\n",
    "            rString = ch + rString\n",
    "            # Now we will\n",
    "            # print(\"{} = {} + {}\".format(rString, ch, rString))\n",
    "        \n",
    "        return rString\n",
    "    else:\n",
    "        print(\"Error: Require string...\")"
   ]
  },
  {
   "cell_type": "code",
   "execution_count": 6,
   "id": "df534241-ad27-41c4-a350-66c6229c0481",
   "metadata": {},
   "outputs": [
    {
     "name": "stdout",
     "output_type": "stream",
     "text": [
      "K = K + K\n",
      "uK = u + uK\n",
      "suK = s + suK\n",
      "hsuK = h + hsuK\n",
      "ahsuK = a + ahsuK\n",
      "lahsuK = l + lahsuK\n"
     ]
    },
    {
     "data": {
      "text/plain": [
       "'lahsuK'"
      ]
     },
     "execution_count": 6,
     "metadata": {},
     "output_type": "execute_result"
    }
   ],
   "source": [
    "reverse_string(\"Kushal\")"
   ]
  },
  {
   "cell_type": "code",
   "execution_count": 12,
   "id": "26cb1934",
   "metadata": {},
   "outputs": [
    {
     "name": "stdout",
     "output_type": "stream",
     "text": [
      "Error: Require string...\n"
     ]
    }
   ],
   "source": [
    "reverse_string(10)"
   ]
  },
  {
   "cell_type": "markdown",
   "id": "51dd033b",
   "metadata": {},
   "source": [
    "**use of isinstance**\n",
    "\n",
    "`isinstance: ` it is a in-built function which is used to check the type of a given object with a given type.\n",
    "\n",
    "Syntax:\n",
    "```python\n",
    "\n",
    "    var1 = \"manish\"   # it is a string.\n",
    "    var2 = 10 # it is a int.\n",
    "\n",
    "    # if we want to verify that our var1 contains a string then we need to check by using the \n",
    "    # isinstance() function.\n",
    "\n",
    "    isinstance(var1, str) # return True or False.\n",
    "```"
   ]
  },
  {
   "cell_type": "code",
   "execution_count": 8,
   "id": "d5e1c39e",
   "metadata": {},
   "outputs": [],
   "source": [
    "var1 = \"mansih\"\n",
    "var2 = 10"
   ]
  },
  {
   "cell_type": "code",
   "execution_count": 9,
   "id": "4b159649",
   "metadata": {},
   "outputs": [
    {
     "data": {
      "text/plain": [
       "True"
      ]
     },
     "execution_count": 9,
     "metadata": {},
     "output_type": "execute_result"
    }
   ],
   "source": [
    "isinstance(var1, str)"
   ]
  },
  {
   "cell_type": "code",
   "execution_count": 10,
   "id": "f156f3cb",
   "metadata": {},
   "outputs": [
    {
     "data": {
      "text/plain": [
       "True"
      ]
     },
     "execution_count": 10,
     "metadata": {},
     "output_type": "execute_result"
    }
   ],
   "source": [
    "isinstance(var2, int)"
   ]
  },
  {
   "cell_type": "code",
   "execution_count": 11,
   "id": "66936a98",
   "metadata": {},
   "outputs": [
    {
     "data": {
      "text/plain": [
       "False"
      ]
     },
     "execution_count": 11,
     "metadata": {},
     "output_type": "execute_result"
    }
   ],
   "source": [
    "isinstance(var2, str)"
   ]
  },
  {
   "cell_type": "markdown",
   "id": "07521197",
   "metadata": {},
   "source": [
    "### Find that given string is a palindrome strong.\n",
    "\n",
    "kayak\n",
    "deified\n",
    "rotator\n",
    "repaper\n",
    "deed\n",
    "peep\n",
    "wow\n",
    "noon\n",
    "civic\n",
    "racecar\n",
    "level\n",
    "mom\n",
    "birdrib\n",
    "tacocat"
   ]
  },
  {
   "cell_type": "code",
   "execution_count": 20,
   "id": "f759919d",
   "metadata": {},
   "outputs": [],
   "source": [
    "def isPalindrome(value):\n",
    "\n",
    "    if isinstance(value, str):\n",
    "        if reverse_string(value) == value:\n",
    "            print(\"{} is Palindrome\".format(value))\n",
    "            return True\n",
    "        else:\n",
    "            print(\"{} Not a Palindrome\".format(value))\n",
    "            return False"
   ]
  },
  {
   "cell_type": "code",
   "execution_count": 21,
   "id": "7c8d0a8b",
   "metadata": {},
   "outputs": [
    {
     "name": "stdout",
     "output_type": "stream",
     "text": [
      "kayak is Palindrome\n"
     ]
    },
    {
     "data": {
      "text/plain": [
       "True"
      ]
     },
     "execution_count": 21,
     "metadata": {},
     "output_type": "execute_result"
    }
   ],
   "source": [
    "isPalindrome(\"kayak\")"
   ]
  },
  {
   "cell_type": "code",
   "execution_count": 22,
   "id": "3e8dc938",
   "metadata": {},
   "outputs": [
    {
     "name": "stdout",
     "output_type": "stream",
     "text": [
      "coock Not a Palindrome\n"
     ]
    },
    {
     "data": {
      "text/plain": [
       "False"
      ]
     },
     "execution_count": 22,
     "metadata": {},
     "output_type": "execute_result"
    }
   ],
   "source": [
    "isPalindrome(\"coock\")"
   ]
  },
  {
   "cell_type": "code",
   "execution_count": 1,
   "id": "576023f4",
   "metadata": {},
   "outputs": [],
   "source": [
    "Goku = \"hi i am goku and i love anime\""
   ]
  },
  {
   "cell_type": "code",
   "execution_count": 2,
   "id": "a9c128e4",
   "metadata": {},
   "outputs": [
    {
     "name": "stdout",
     "output_type": "stream",
     "text": [
      "else statement\n",
      "not replaced\n"
     ]
    }
   ],
   "source": [
    "if Goku.find(\"love\") == 1000:\n",
    "    print(\"if statement\")\n",
    "    print(Goku.replace(\"love\", \"feel\"))\n",
    "    print(\"replaced\")\n",
    "else:\n",
    "    print(\"else statement\")\n",
    "    print(\"not replaced\")"
   ]
  },
  {
   "cell_type": "code",
   "execution_count": 3,
   "id": "3547f928",
   "metadata": {},
   "outputs": [
    {
     "data": {
      "text/plain": [
       "19"
      ]
     },
     "execution_count": 3,
     "metadata": {},
     "output_type": "execute_result"
    }
   ],
   "source": [
    "Goku.find(\"love\")"
   ]
  },
  {
   "cell_type": "code",
   "execution_count": 4,
   "id": "5801095d",
   "metadata": {},
   "outputs": [
    {
     "data": {
      "text/plain": [
       "29"
      ]
     },
     "execution_count": 4,
     "metadata": {},
     "output_type": "execute_result"
    }
   ],
   "source": [
    "len(Goku)"
   ]
  },
  {
   "cell_type": "code",
   "execution_count": 6,
   "id": "a1685a19",
   "metadata": {},
   "outputs": [
    {
     "data": {
      "text/plain": [
       "-1"
      ]
     },
     "execution_count": 6,
     "metadata": {},
     "output_type": "execute_result"
    }
   ],
   "source": [
    "Goku.find(\"power\")"
   ]
  },
  {
   "cell_type": "code",
   "execution_count": 11,
   "id": "7803d06c",
   "metadata": {},
   "outputs": [
    {
     "name": "stdout",
     "output_type": "stream",
     "text": [
      "false\n"
     ]
    }
   ],
   "source": [
    "if 0:\n",
    "    print(\"True\")\n",
    "else:\n",
    "    print(\"false\")"
   ]
  },
  {
   "cell_type": "markdown",
   "id": "b301f0de",
   "metadata": {},
   "source": [
    "Note here in the above if-else, if there is any valid value except, then it will show the `True`, it will return/show `False` only if we have zero in our result."
   ]
  },
  {
   "cell_type": "code",
   "execution_count": 13,
   "id": "43a91e2e",
   "metadata": {},
   "outputs": [
    {
     "name": "stdout",
     "output_type": "stream",
     "text": [
      "string is empty\n"
     ]
    }
   ],
   "source": [
    "string = \"\"\n",
    "\n",
    "if string:\n",
    "    print(\"string has something\")\n",
    "else:\n",
    "    print(\"string is empty\")"
   ]
  },
  {
   "cell_type": "markdown",
   "id": "4be56f01",
   "metadata": {},
   "source": [
    "Note: in above code if string has something inside it, then it will return the `True`, if we have any empty string then it will return the `False`. "
   ]
  },
  {
   "cell_type": "code",
   "execution_count": 16,
   "id": "3a29d3ee",
   "metadata": {},
   "outputs": [
    {
     "data": {
      "text/plain": [
       "False"
      ]
     },
     "execution_count": 16,
     "metadata": {},
     "output_type": "execute_result"
    }
   ],
   "source": [
    "Goku.find(\"love\") == 1000"
   ]
  },
  {
   "cell_type": "code",
   "execution_count": 15,
   "id": "7813f938",
   "metadata": {},
   "outputs": [
    {
     "data": {
      "text/plain": [
       "True"
      ]
     },
     "execution_count": 15,
     "metadata": {},
     "output_type": "execute_result"
    }
   ],
   "source": [
    "1000 == 1000"
   ]
  },
  {
   "cell_type": "code",
   "execution_count": 17,
   "id": "c9fce1a2",
   "metadata": {},
   "outputs": [
    {
     "data": {
      "text/plain": [
       "-1"
      ]
     },
     "execution_count": 17,
     "metadata": {},
     "output_type": "execute_result"
    }
   ],
   "source": [
    "Goku.find(\"1000\")"
   ]
  },
  {
   "cell_type": "code",
   "execution_count": 1,
   "id": "1d41bf8e",
   "metadata": {},
   "outputs": [],
   "source": [
    "def isEvenOdd(number):\n",
    "\n",
    "    if number%2==0:\n",
    "        print(\"{} is even number.\".format(number))\n",
    "    else:\n",
    "        print(\"{} is odd number.\".format(number))\n"
   ]
  },
  {
   "cell_type": "code",
   "execution_count": 2,
   "id": "707c627d",
   "metadata": {},
   "outputs": [
    {
     "name": "stdout",
     "output_type": "stream",
     "text": [
      "10 is even number.\n"
     ]
    }
   ],
   "source": [
    "isEvenOdd(10)"
   ]
  },
  {
   "cell_type": "code",
   "execution_count": 3,
   "id": "25127901",
   "metadata": {},
   "outputs": [
    {
     "name": "stdout",
     "output_type": "stream",
     "text": [
      "11 is odd number.\n"
     ]
    }
   ],
   "source": [
    "isEvenOdd(11)"
   ]
  },
  {
   "cell_type": "code",
   "execution_count": 4,
   "id": "0da23e88",
   "metadata": {},
   "outputs": [],
   "source": [
    "import random\n",
    "\n",
    "rand_nums = [random.randint(10,100) for i in range(1,50)]"
   ]
  },
  {
   "cell_type": "code",
   "execution_count": 6,
   "id": "a6cb415d",
   "metadata": {},
   "outputs": [],
   "source": [
    "rand_nums = list(set(rand_nums))"
   ]
  },
  {
   "cell_type": "code",
   "execution_count": 7,
   "id": "e3c48f51",
   "metadata": {},
   "outputs": [
    {
     "data": {
      "text/plain": [
       "[10,\n",
       " 11,\n",
       " 12,\n",
       " 14,\n",
       " 17,\n",
       " 19,\n",
       " 23,\n",
       " 24,\n",
       " 27,\n",
       " 29,\n",
       " 33,\n",
       " 35,\n",
       " 38,\n",
       " 41,\n",
       " 42,\n",
       " 45,\n",
       " 49,\n",
       " 50,\n",
       " 52,\n",
       " 55,\n",
       " 57,\n",
       " 58,\n",
       " 60,\n",
       " 64,\n",
       " 65,\n",
       " 67,\n",
       " 70,\n",
       " 71,\n",
       " 75,\n",
       " 81,\n",
       " 82,\n",
       " 84,\n",
       " 87,\n",
       " 88,\n",
       " 89,\n",
       " 99,\n",
       " 100]"
      ]
     },
     "execution_count": 7,
     "metadata": {},
     "output_type": "execute_result"
    }
   ],
   "source": [
    "rand_nums"
   ]
  },
  {
   "cell_type": "code",
   "execution_count": 8,
   "id": "21c02abc",
   "metadata": {},
   "outputs": [
    {
     "data": {
      "text/plain": [
       "37"
      ]
     },
     "execution_count": 8,
     "metadata": {},
     "output_type": "execute_result"
    }
   ],
   "source": [
    "len(rand_nums)"
   ]
  },
  {
   "cell_type": "code",
   "execution_count": 9,
   "id": "7fa09100",
   "metadata": {},
   "outputs": [],
   "source": [
    "def isEven(number):\n",
    "\n",
    "    if number%2==0:\n",
    "        return True # true means number is even\n",
    "    else: return False # false means number is odd."
   ]
  },
  {
   "cell_type": "code",
   "execution_count": 10,
   "id": "531203c5",
   "metadata": {},
   "outputs": [],
   "source": [
    "def getEvenOdd(numbers):\n",
    "\n",
    "    evens = [] # a list to hold the all even number\n",
    "    odds = [] # a list to hold the all odd number\n",
    "\n",
    "    for num in numbers:\n",
    "\n",
    "        if isEven(num):\n",
    "            evens.append(num)\n",
    "        else:\n",
    "            odds.append(num)\n",
    "\n",
    "    return evens, odds"
   ]
  },
  {
   "cell_type": "code",
   "execution_count": 12,
   "id": "a17f9018",
   "metadata": {},
   "outputs": [],
   "source": [
    "output =  getEvenOdd(rand_nums)"
   ]
  },
  {
   "cell_type": "code",
   "execution_count": 13,
   "id": "5b1d670d",
   "metadata": {},
   "outputs": [
    {
     "data": {
      "text/plain": [
       "tuple"
      ]
     },
     "execution_count": 13,
     "metadata": {},
     "output_type": "execute_result"
    }
   ],
   "source": [
    "type(output)"
   ]
  },
  {
   "cell_type": "code",
   "execution_count": 16,
   "id": "259e7f49",
   "metadata": {},
   "outputs": [
    {
     "data": {
      "text/plain": [
       "[10, 12, 14, 24, 38, 42, 50, 52, 58, 60, 64, 70, 82, 84, 88, 100]"
      ]
     },
     "execution_count": 16,
     "metadata": {},
     "output_type": "execute_result"
    }
   ],
   "source": [
    "output[0] # since we have all even number at 0"
   ]
  },
  {
   "cell_type": "code",
   "execution_count": 18,
   "id": "9e088379",
   "metadata": {},
   "outputs": [
    {
     "name": "stdout",
     "output_type": "stream",
     "text": [
      "[11, 17, 19, 23, 27, 29, 33, 35, 41, 45, 49, 55, 57, 65, 67, 71, 75, 81, 87, 89, 99]\n"
     ]
    }
   ],
   "source": [
    "output[1] # since we have all odd number at 1\n",
    "print(output[1])"
   ]
  },
  {
   "cell_type": "code",
   "execution_count": null,
   "id": "56425202",
   "metadata": {},
   "outputs": [],
   "source": []
  }
 ],
 "metadata": {
  "kernelspec": {
   "display_name": "Python 3 (ipykernel)",
   "language": "python",
   "name": "python3"
  },
  "language_info": {
   "codemirror_mode": {
    "name": "ipython",
    "version": 3
   },
   "file_extension": ".py",
   "mimetype": "text/x-python",
   "name": "python",
   "nbconvert_exporter": "python",
   "pygments_lexer": "ipython3",
   "version": "3.10.5"
  },
  "vscode": {
   "interpreter": {
    "hash": "97acfddfe09d4bda15fdb42cefccf524698e32d0a9fd5f366669b74ded1a2f43"
   }
  }
 },
 "nbformat": 4,
 "nbformat_minor": 5
}
