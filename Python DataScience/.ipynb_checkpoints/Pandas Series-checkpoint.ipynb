{
 "cells": [
  {
   "cell_type": "markdown",
   "id": "b866d75d-874b-49b0-8ab8-5900e3cc0e29",
   "metadata": {},
   "source": [
    "# Pandas Series\n",
    "\n",
    "```python\n",
    "class pandas.Series(data=None, index=None, dtype=None, name=None, copy=None, fastpath=False)\n",
    "```\n",
    "\n",
    "One-dimensional ndarray with axis labels (including time series).\n",
    "\n",
    "Labels need not be unique but must be a hashable type. The object supports both integer- and label-based indexing and\n",
    "provides a host of methods for performing operations involving the index. Statistical methods from ndarray have been\n",
    "overridden to automatically exclude missing data (currently represented as NaN).\n",
    "Operations between Series `(+, -, /, *, **)` align values based on their associated index values– they need not be the same length.\n",
    "\n",
    "The result index will be the sorted union of the two indexes."
   ]
  },
  {
   "cell_type": "code",
   "execution_count": 2,
   "id": "e7538ef1-63fa-4d86-ac6f-e82af3914f7f",
   "metadata": {},
   "outputs": [],
   "source": [
    "import pandas as pd\n",
    "import numpy as np"
   ]
  },
  {
   "cell_type": "markdown",
   "id": "16889277-96d0-4131-93ff-4d5679e8869a",
   "metadata": {},
   "source": [
    "### 1. creating a series\n",
    "\n",
    "**Creating series with list**"
   ]
  },
  {
   "cell_type": "code",
   "execution_count": 3,
   "id": "1a07c0a8-c862-4270-867c-8ad31df4472d",
   "metadata": {},
   "outputs": [
    {
     "data": {
      "text/plain": [
       "0    10\n",
       "1    20\n",
       "2    30\n",
       "3    40\n",
       "4    50\n",
       "5    60\n",
       "6    70\n",
       "7    80\n",
       "8    90\n",
       "dtype: int64"
      ]
     },
     "execution_count": 3,
     "metadata": {},
     "output_type": "execute_result"
    }
   ],
   "source": [
    "# creating a sereies by passing a list to data parameters\n",
    "_list = list(range(10,100, 10))\n",
    "ps = pd.Series(data=_list)\n",
    "ps"
   ]
  },
  {
   "cell_type": "markdown",
   "id": "98f70420-9495-492c-bd5d-45e337b5a2e3",
   "metadata": {},
   "source": [
    "**Creating Series with dictionary**"
   ]
  },
  {
   "cell_type": "code",
   "execution_count": 4,
   "id": "74633413-2e02-4699-ab02-211265001c77",
   "metadata": {},
   "outputs": [
    {
     "data": {
      "text/plain": [
       "John       25\n",
       "Jane       30\n",
       "Bob        35\n",
       "Alice      40\n",
       "Charlie    45\n",
       "David      50\n",
       "Eve        55\n",
       "Frank      60\n",
       "Grace      65\n",
       "Henry      70\n",
       "dtype: int64"
      ]
     },
     "execution_count": 4,
     "metadata": {},
     "output_type": "execute_result"
    }
   ],
   "source": [
    "_dict = {\"John\": 25, \"Jane\": 30, \"Bob\": 35, \"Alice\": 40, \"Charlie\": 45, \n",
    "         \"David\": 50, \"Eve\": 55, \"Frank\": 60, \"Grace\": 65, \"Henry\": 70}\n",
    "\n",
    "ps = pd.Series(data=_dict)\n",
    "ps"
   ]
  },
  {
   "cell_type": "markdown",
   "id": "4c480fca-2322-47fe-bc3f-212021c1a222",
   "metadata": {},
   "source": [
    "Note: in this we are haing index values as the key of the dict, which is provided to data parameters. with those names as index values we can access series values by using their index named value."
   ]
  },
  {
   "cell_type": "markdown",
   "id": "b705baf6-92dc-4031-a10d-9348c9ccd964",
   "metadata": {},
   "source": [
    "Note: if we provede additional values to the index parameters then it will override the index values."
   ]
  },
  {
   "cell_type": "markdown",
   "id": "d35bc82c-dbcc-47ce-9dad-a7f4c75a44f3",
   "metadata": {},
   "source": [
    "**Creating series with tuple**\\\n",
    "`Note:` we can only create a series with only array-like object, dicttionary, iterable object or a scalar value. so we can also create a series by passing the tuple."
   ]
  },
  {
   "cell_type": "code",
   "execution_count": 5,
   "id": "406bb18e-0156-4ac8-b87e-766797985531",
   "metadata": {},
   "outputs": [],
   "source": [
    "_tuple = ((\"John\", 25), (\"Jane\", 30), (\"Bob\", 35), (\"Alice\", 40), (\"Charlie\", 45), (\"David\", 50), \n",
    "         (\"Eve\", 55), (\"Frank\", 60), (\"Grace\", 65), (\"Henry\", 70))\n",
    "ps = pd.Series(data=_tuple)"
   ]
  },
  {
   "cell_type": "code",
   "execution_count": 6,
   "id": "21afe575-94cd-4fad-a139-61f84985880b",
   "metadata": {},
   "outputs": [
    {
     "data": {
      "text/plain": [
       "0       (John, 25)\n",
       "1       (Jane, 30)\n",
       "2        (Bob, 35)\n",
       "3      (Alice, 40)\n",
       "4    (Charlie, 45)\n",
       "5      (David, 50)\n",
       "6        (Eve, 55)\n",
       "7      (Frank, 60)\n",
       "8      (Grace, 65)\n",
       "9      (Henry, 70)\n",
       "dtype: object"
      ]
     },
     "execution_count": 6,
     "metadata": {},
     "output_type": "execute_result"
    }
   ],
   "source": [
    "ps"
   ]
  },
  {
   "cell_type": "markdown",
   "id": "9374bd3e-ed8a-485a-9a91-611e47447beb",
   "metadata": {},
   "source": [
    "`Note:` In this result values ar the pair of the `name` and the `age` together which can be useful some time but it would be better if all the names treated as the index values. For that we need to convert this tuple in the dict object."
   ]
  },
  {
   "cell_type": "code",
   "execution_count": 7,
   "id": "ae703a0d-6775-4c3a-85f0-70148ec5c9d0",
   "metadata": {},
   "outputs": [
    {
     "data": {
      "text/plain": [
       "John       25\n",
       "Jane       30\n",
       "Bob        35\n",
       "Alice      40\n",
       "Charlie    45\n",
       "David      50\n",
       "Eve        55\n",
       "Frank      60\n",
       "Grace      65\n",
       "Henry      70\n",
       "dtype: int64"
      ]
     },
     "execution_count": 7,
     "metadata": {},
     "output_type": "execute_result"
    }
   ],
   "source": [
    "_tuple = ((\"John\", 25), (\"Jane\", 30), (\"Bob\", 35), (\"Alice\", 40), (\"Charlie\", 45), (\"David\", 50), \n",
    "         (\"Eve\", 55), (\"Frank\", 60), (\"Grace\", 65), (\"Henry\", 70))\n",
    "ps = pd.Series(data=dict(_tuple))\n",
    "ps"
   ]
  },
  {
   "cell_type": "markdown",
   "id": "6fea8e36-c980-4ca5-9604-c4a7528716dc",
   "metadata": {},
   "source": [
    "Now as we can see that, our result is more meaningful than the above result."
   ]
  },
  {
   "cell_type": "markdown",
   "id": "c53be894-8533-4d63-8649-f415b93df646",
   "metadata": {},
   "source": [
    "# Series's mostly used attributes\n",
    "\n",
    "* array: The ExtensionArray of the data backing this Series or Index."
   ]
  },
  {
   "cell_type": "markdown",
   "id": "40c9bcdf-2a1e-445c-b912-6be442016897",
   "metadata": {},
   "source": [
    "**Creating a series for testing our dataset**"
   ]
  },
  {
   "cell_type": "code",
   "execution_count": 8,
   "id": "cd768fc5-e57e-46a9-8bb7-aa4db4b4af19",
   "metadata": {},
   "outputs": [
    {
     "data": {
      "text/plain": [
       "0      NaN\n",
       "1     15.0\n",
       "2      3.0\n",
       "3      2.0\n",
       "4      9.0\n",
       "5     22.0\n",
       "6     49.0\n",
       "7     24.0\n",
       "8      NaN\n",
       "9      NaN\n",
       "10     5.0\n",
       "11     NaN\n",
       "12     NaN\n",
       "13    18.0\n",
       "14    12.0\n",
       "15    12.0\n",
       "16    13.0\n",
       "17     7.0\n",
       "18    23.0\n",
       "19    10.0\n",
       "20    46.0\n",
       "21    43.0\n",
       "22    49.0\n",
       "23    11.0\n",
       "24     NaN\n",
       "25     1.0\n",
       "26    24.0\n",
       "27    38.0\n",
       "28    33.0\n",
       "29    28.0\n",
       "30    35.0\n",
       "31    36.0\n",
       "32     NaN\n",
       "33    36.0\n",
       "34     NaN\n",
       "35    25.0\n",
       "36     NaN\n",
       "37    27.0\n",
       "38    49.0\n",
       "39    40.0\n",
       "40     7.0\n",
       "41    39.0\n",
       "42    14.0\n",
       "43    29.0\n",
       "44    15.0\n",
       "45    49.0\n",
       "46    18.0\n",
       "47    20.0\n",
       "48     NaN\n",
       "49    31.0\n",
       "dtype: float64"
      ]
     },
     "execution_count": 8,
     "metadata": {},
     "output_type": "execute_result"
    }
   ],
   "source": [
    "_rs = np.random.randint(50, size=50)\n",
    "ps = pd.Series(_rs)\n",
    "for i in range(10):\n",
    "    ps[np.random.randint(0,49,)] = np.nan \n",
    "ps"
   ]
  },
  {
   "cell_type": "markdown",
   "id": "eb0de351-dace-4cb4-bd30-10cccb8fa11b",
   "metadata": {},
   "source": [
    "Now we have a randomly generated series with having some `NaN` not a number values. Now we will work on the some Pandas Series attributes.\n",
    "\n",
    "`Note:` here **NaN**(not a number) is the standard missing data marker used in pandas. "
   ]
  },
  {
   "cell_type": "markdown",
   "id": "2e1eaea4-87a3-489e-aa6d-f2a51e82af7b",
   "metadata": {},
   "source": [
    "#### 1. array - attribute\n",
    "The ExtensionArray of the data backing this Series or Index.\n",
    "\n",
    "Pandas Series objects have a .array attribute that can be used to access the underlying array of data for a Series object. This can be useful for working with data in a Series, but can also lead to problems if the underlying array contains different data types. To avoid this, it is important to ensure that the data types in the underlying array are all the same. Additionally, the .array attribute can be used to create a new Series object from an existing array."
   ]
  },
  {
   "cell_type": "code",
   "execution_count": 9,
   "id": "701f5342-0973-45a1-a0b6-ca44644b7151",
   "metadata": {},
   "outputs": [
    {
     "data": {
      "text/plain": [
       "<PandasArray>\n",
       "[ nan, 15.0,  3.0,  2.0,  9.0, 22.0, 49.0, 24.0,  nan,  nan,  5.0,  nan,  nan,\n",
       " 18.0, 12.0, 12.0, 13.0,  7.0, 23.0, 10.0, 46.0, 43.0, 49.0, 11.0,  nan,  1.0,\n",
       " 24.0, 38.0, 33.0, 28.0, 35.0, 36.0,  nan, 36.0,  nan, 25.0,  nan, 27.0, 49.0,\n",
       " 40.0,  7.0, 39.0, 14.0, 29.0, 15.0, 49.0, 18.0, 20.0,  nan, 31.0]\n",
       "Length: 50, dtype: float64"
      ]
     },
     "execution_count": 9,
     "metadata": {},
     "output_type": "execute_result"
    }
   ],
   "source": [
    "# getting the array form the series.\n",
    "ps.array"
   ]
  },
  {
   "cell_type": "markdown",
   "id": "c7fd6773-d23d-4967-a0bb-bff620d4c34b",
   "metadata": {},
   "source": [
    "Note: if we want to work on the pure numpy array then we need to use the `Series.to_numpy()` method."
   ]
  },
  {
   "cell_type": "code",
   "execution_count": 10,
   "id": "956e07a7-21f6-47b2-9496-33bd3ccd363f",
   "metadata": {},
   "outputs": [
    {
     "data": {
      "text/plain": [
       "array([nan, 15.,  3.,  2.,  9., 22., 49., 24., nan, nan,  5., nan, nan,\n",
       "       18., 12., 12., 13.,  7., 23., 10., 46., 43., 49., 11., nan,  1.,\n",
       "       24., 38., 33., 28., 35., 36., nan, 36., nan, 25., nan, 27., 49.,\n",
       "       40.,  7., 39., 14., 29., 15., 49., 18., 20., nan, 31.])"
      ]
     },
     "execution_count": 10,
     "metadata": {},
     "output_type": "execute_result"
    }
   ],
   "source": [
    "ps.to_numpy()"
   ]
  },
  {
   "cell_type": "markdown",
   "id": "1828c8f0-c78d-4e17-88bf-915a9d4a570b",
   "metadata": {},
   "source": [
    "Now above result gives the numpy array from Pandas series."
   ]
  },
  {
   "cell_type": "markdown",
   "id": "218664f8-9566-496a-b883-61fa331fdda4",
   "metadata": {},
   "source": [
    "___"
   ]
  },
  {
   "cell_type": "markdown",
   "id": "7fd3d6cb-464f-4db2-ac63-dbb7631e667e",
   "metadata": {},
   "source": [
    "#### 2. axes - attribute\n",
    "\n",
    "Pandas Series.axes is an attribute that contains a list of the row and column axes labels of the Series. If the row and column axes have different labels, then the Series.axes attribute will include both labels. Problems with the Series.axes attribute can arise if the labels of the row and column axes are not properly set. To solve this issue, you can use the Series.renameaxis() method to correctly set the labels of the axes. Additionally, you can use the Series.resetindex() method to reset the index of the Series, which will also reset the labels of the axes."
   ]
  },
  {
   "cell_type": "code",
   "execution_count": 11,
   "id": "6ec65662-8eb5-4812-85b8-5c744ff996f7",
   "metadata": {},
   "outputs": [
    {
     "data": {
      "text/plain": [
       "[RangeIndex(start=0, stop=50, step=1)]"
      ]
     },
     "execution_count": 11,
     "metadata": {},
     "output_type": "execute_result"
    }
   ],
   "source": [
    "ps.axes"
   ]
  },
  {
   "cell_type": "markdown",
   "id": "4918a8bf-1b0b-4fdf-b420-7cad9c4d0bdd",
   "metadata": {},
   "source": [
    "____"
   ]
  },
  {
   "cell_type": "markdown",
   "id": "66ed264c-0f2e-4fee-837f-cd15f77e3e45",
   "metadata": {},
   "source": [
    "#### 3. dtype and dtypes - attributes\n",
    "-> both dtype and dtypes Return the dtype object of the underlying data\n"
   ]
  },
  {
   "cell_type": "code",
   "execution_count": 12,
   "id": "d6120820-d3e0-4e50-b096-a98d2a87e9b3",
   "metadata": {},
   "outputs": [
    {
     "data": {
      "text/plain": [
       "dtype('float64')"
      ]
     },
     "execution_count": 12,
     "metadata": {},
     "output_type": "execute_result"
    }
   ],
   "source": [
    "ps.dtype"
   ]
  },
  {
   "cell_type": "code",
   "execution_count": 13,
   "id": "944c37e0-55a9-4d90-bfed-3b33d5e7df2c",
   "metadata": {},
   "outputs": [
    {
     "data": {
      "text/plain": [
       "dtype('float64')"
      ]
     },
     "execution_count": 13,
     "metadata": {},
     "output_type": "execute_result"
    }
   ],
   "source": [
    "ps.dtypes"
   ]
  },
  {
   "cell_type": "markdown",
   "id": "a8ba92d5-918f-4f31-9a67-0551c67de871",
   "metadata": {},
   "source": [
    "____"
   ]
  },
  {
   "cell_type": "markdown",
   "id": "e8c829ec-6525-497a-bc3b-54a12edd338d",
   "metadata": {},
   "source": [
    "#### 4. hasnans - attribute\n",
    "-> Returns true if there are any NaNs values present inside the series."
   ]
  },
  {
   "cell_type": "code",
   "execution_count": 14,
   "id": "dee5d6be-a82e-49af-abeb-7eadaafe67fc",
   "metadata": {},
   "outputs": [
    {
     "data": {
      "text/plain": [
       "<PandasArray>\n",
       "[ nan, 15.0,  3.0,  2.0,  9.0, 22.0, 49.0, 24.0,  nan,  nan,  5.0,  nan,  nan,\n",
       " 18.0, 12.0, 12.0, 13.0,  7.0, 23.0, 10.0, 46.0, 43.0, 49.0, 11.0,  nan,  1.0,\n",
       " 24.0, 38.0, 33.0, 28.0, 35.0, 36.0,  nan, 36.0,  nan, 25.0,  nan, 27.0, 49.0,\n",
       " 40.0,  7.0, 39.0, 14.0, 29.0, 15.0, 49.0, 18.0, 20.0,  nan, 31.0]\n",
       "Length: 50, dtype: float64"
      ]
     },
     "execution_count": 14,
     "metadata": {},
     "output_type": "execute_result"
    }
   ],
   "source": [
    "ps.array"
   ]
  },
  {
   "cell_type": "markdown",
   "id": "e93f68bc-6cf9-46d7-8165-4f310502ce86",
   "metadata": {},
   "source": [
    "As we can see that it contains the NaNs values, so if we want to test that our series without printing the whole series , we can use `Series.hasnans` attribute."
   ]
  },
  {
   "cell_type": "code",
   "execution_count": 15,
   "id": "1ed6ad37-bd5a-44f9-af91-538ff557dd0d",
   "metadata": {},
   "outputs": [
    {
     "data": {
      "text/plain": [
       "True"
      ]
     },
     "execution_count": 15,
     "metadata": {},
     "output_type": "execute_result"
    }
   ],
   "source": [
    "ps.hasnans"
   ]
  },
  {
   "cell_type": "markdown",
   "id": "83309902-9fd5-44d3-b917-21cba496e59f",
   "metadata": {},
   "source": [
    "___"
   ]
  },
  {
   "cell_type": "markdown",
   "id": "4236b66d-6e61-4b6b-aaa2-0fb23b86aebe",
   "metadata": {},
   "source": [
    "#### 5. index - attribute\n",
    "-> The index (axis labels) of the Series."
   ]
  },
  {
   "cell_type": "code",
   "execution_count": 16,
   "id": "7bb82e2b-62a9-4034-83fe-9af5ef53e874",
   "metadata": {},
   "outputs": [
    {
     "data": {
      "text/plain": [
       "RangeIndex(start=0, stop=50, step=1)"
      ]
     },
     "execution_count": 16,
     "metadata": {},
     "output_type": "execute_result"
    }
   ],
   "source": [
    "ps.index"
   ]
  },
  {
   "cell_type": "markdown",
   "id": "d928f310-923e-41bb-986a-c6509c1fadfd",
   "metadata": {},
   "source": [
    "In this section as we can see that our index and axes values both are RangeIndex values."
   ]
  },
  {
   "cell_type": "markdown",
   "id": "58f35fb5-57b1-41ce-b489-ca5f7da6ed30",
   "metadata": {},
   "source": [
    "____"
   ]
  },
  {
   "cell_type": "markdown",
   "id": "12f17599-c49e-4374-8ac6-8ba985e39d50",
   "metadata": {},
   "source": [
    "#### 6. name - attribute\n",
    "-> It return the name of the Series.\n",
    "\n",
    "The name of a Series becomes its index or column name if it is used to form a DataFrame. It is also used whenever displaying the Series using the interpreter."
   ]
  },
  {
   "cell_type": "code",
   "execution_count": 17,
   "id": "90ae5cf2-2711-4ae5-ade5-883f2a5a25d9",
   "metadata": {},
   "outputs": [
    {
     "data": {
      "text/plain": [
       "0     NaN\n",
       "1    15.0\n",
       "2     3.0\n",
       "3     2.0\n",
       "4     9.0\n",
       "dtype: float64"
      ]
     },
     "execution_count": 17,
     "metadata": {},
     "output_type": "execute_result"
    }
   ],
   "source": [
    "# Now we will print the first 5 values\n",
    "ps.head()"
   ]
  },
  {
   "cell_type": "markdown",
   "id": "7681716d-9ed4-4e7c-b9d8-b5167e763032",
   "metadata": {},
   "source": [
    "As we can see that it does not contains any name, so if we use the `Series.name` method it will return None."
   ]
  },
  {
   "cell_type": "code",
   "execution_count": 18,
   "id": "55757666-39bc-48bb-9a3b-4d6656662b2c",
   "metadata": {},
   "outputs": [],
   "source": [
    "ps.name"
   ]
  },
  {
   "cell_type": "markdown",
   "id": "1fffa894-e21d-4b48-be30-208851238b06",
   "metadata": {},
   "source": [
    "Now we will set the name of this above series."
   ]
  },
  {
   "cell_type": "code",
   "execution_count": 19,
   "id": "6d48ed5e-47e0-49cd-aae0-291bcc8af949",
   "metadata": {},
   "outputs": [],
   "source": [
    "ps.name = \"Random Series\""
   ]
  },
  {
   "cell_type": "code",
   "execution_count": 20,
   "id": "f4482abc-6afd-4f3b-b518-b974bd1f533b",
   "metadata": {},
   "outputs": [
    {
     "data": {
      "text/plain": [
       "'Random Series'"
      ]
     },
     "execution_count": 20,
     "metadata": {},
     "output_type": "execute_result"
    }
   ],
   "source": [
    "ps.name"
   ]
  },
  {
   "cell_type": "code",
   "execution_count": 21,
   "id": "036d72ac-1500-47ea-88ab-1587331406bd",
   "metadata": {},
   "outputs": [
    {
     "data": {
      "text/plain": [
       "0     NaN\n",
       "1    15.0\n",
       "2     3.0\n",
       "3     2.0\n",
       "4     9.0\n",
       "Name: Random Series, dtype: float64"
      ]
     },
     "execution_count": 21,
     "metadata": {},
     "output_type": "execute_result"
    }
   ],
   "source": [
    "ps.head()"
   ]
  },
  {
   "cell_type": "markdown",
   "id": "fc8f75a9-79f8-4b53-be2f-fafccc6c0c52",
   "metadata": {},
   "source": [
    "Now we can see the name of this series on both return values, form `name` attribute and the `head()` method as well."
   ]
  },
  {
   "cell_type": "markdown",
   "id": "5d5e213f-e978-4635-8b3e-d37b3cd5b02a",
   "metadata": {},
   "source": [
    "___"
   ]
  },
  {
   "cell_type": "markdown",
   "id": "65e9e9a6-9a2d-475a-8e86-1ebba5cb64af",
   "metadata": {},
   "source": [
    "#### nbytes - attribute\n",
    "-> Return the number of bytes in the underlying data."
   ]
  },
  {
   "cell_type": "code",
   "execution_count": 22,
   "id": "212272eb-0515-496c-b3ec-51613e156082",
   "metadata": {},
   "outputs": [
    {
     "data": {
      "text/plain": [
       "400"
      ]
     },
     "execution_count": 22,
     "metadata": {},
     "output_type": "execute_result"
    }
   ],
   "source": [
    "ps.nbytes"
   ]
  },
  {
   "cell_type": "markdown",
   "id": "ce5384ea-5e79-4769-a0f5-c8f76d3a9505",
   "metadata": {},
   "source": [
    "As we can see that we have got 400 bytes consumed by this series. we have 50 items inside this series and each of them 8-bytes since they are `float64` dtype values."
   ]
  },
  {
   "cell_type": "code",
   "execution_count": 23,
   "id": "142c8a6b-d071-4a55-ac44-5b54c02c88e7",
   "metadata": {},
   "outputs": [
    {
     "data": {
      "text/plain": [
       "\u001b[1;31mInit signature:\u001b[0m \u001b[0mnp\u001b[0m\u001b[1;33m.\u001b[0m\u001b[0mfloat64\u001b[0m\u001b[1;33m(\u001b[0m\u001b[0mx\u001b[0m\u001b[1;33m=\u001b[0m\u001b[1;36m0\u001b[0m\u001b[1;33m,\u001b[0m \u001b[1;33m/\u001b[0m\u001b[1;33m)\u001b[0m\u001b[1;33m\u001b[0m\u001b[1;33m\u001b[0m\u001b[0m\n",
       "\u001b[1;31mDocstring:\u001b[0m     \n",
       "Double-precision floating-point number type, compatible with Python `float`\n",
       "and C ``double``.\n",
       "\n",
       ":Character code: ``'d'``\n",
       ":Canonical name: `numpy.double`\n",
       ":Alias: `numpy.float_`\n",
       ":Alias on this platform (win32 AMD64): `numpy.float64`: 64-bit precision floating-point number type: sign bit, 11 bits exponent, 52 bits mantissa.\n",
       "\u001b[1;31mFile:\u001b[0m           c:\\users\\manis\\appdata\\local\\programs\\python\\python310\\lib\\site-packages\\numpy\\__init__.py\n",
       "\u001b[1;31mType:\u001b[0m           type\n",
       "\u001b[1;31mSubclasses:\u001b[0m     \n"
      ]
     },
     "metadata": {},
     "output_type": "display_data"
    }
   ],
   "source": [
    "np.float64?"
   ]
  },
  {
   "cell_type": "markdown",
   "id": "9cbcfd53-961b-4fd5-be2d-abb198142a1c",
   "metadata": {},
   "source": [
    "#### 7. size - attribute\n",
    "   -> Return thenumber of elements in the ynderlying data."
   ]
  },
  {
   "cell_type": "code",
   "execution_count": 24,
   "id": "fea0de42-3196-4da5-8821-4ddf95c990fb",
   "metadata": {},
   "outputs": [
    {
     "data": {
      "text/plain": [
       "50"
      ]
     },
     "execution_count": 24,
     "metadata": {},
     "output_type": "execute_result"
    }
   ],
   "source": [
    "ps.size"
   ]
  },
  {
   "cell_type": "markdown",
   "id": "ab26dbf6-76ec-4fbe-8bb6-2654b3c79758",
   "metadata": {},
   "source": [
    "As we know that our series contains 50 items as size attribute gives."
   ]
  },
  {
   "cell_type": "markdown",
   "id": "f9e0906f-ef06-4f2c-b65f-9ff0c844c4f0",
   "metadata": {},
   "source": [
    "#### 8. values - attribute\n",
    " -> Return Series as ndarray or ndarray-like depending on the dtype."
   ]
  },
  {
   "cell_type": "code",
   "execution_count": 25,
   "id": "3123a3f4-4fbe-4416-bf52-e257e6117097",
   "metadata": {},
   "outputs": [
    {
     "data": {
      "text/plain": [
       "array([nan, 15.,  3.,  2.,  9., 22., 49., 24., nan, nan,  5., nan, nan,\n",
       "       18., 12., 12., 13.,  7., 23., 10., 46., 43., 49., 11., nan,  1.,\n",
       "       24., 38., 33., 28., 35., 36., nan, 36., nan, 25., nan, 27., 49.,\n",
       "       40.,  7., 39., 14., 29., 15., 49., 18., 20., nan, 31.])"
      ]
     },
     "execution_count": 25,
     "metadata": {},
     "output_type": "execute_result"
    }
   ],
   "source": [
    "ps.values"
   ]
  },
  {
   "cell_type": "markdown",
   "id": "13b57983-2b79-4a5b-9c15-ce8c8a32533d",
   "metadata": {},
   "source": [
    "As per pandas documentation we should avoid to use `Series.values` attribute instead we should use `Series.array` attribute or `Series.to_numpy()` method."
   ]
  },
  {
   "cell_type": "markdown",
   "id": "a53e7334-380b-4934-8b9f-229314702ef7",
   "metadata": {},
   "source": [
    "___"
   ]
  },
  {
   "cell_type": "markdown",
   "id": "47d589c9-fff9-4604-92ad-ee076c01afb8",
   "metadata": {},
   "source": [
    "#### 9. is_unique - attribute\n",
    "Return boolean if values in the object are unique."
   ]
  },
  {
   "cell_type": "code",
   "execution_count": 26,
   "id": "34c5bd4e-1ab3-4af8-86d8-99b9fdeed510",
   "metadata": {},
   "outputs": [
    {
     "data": {
      "text/plain": [
       "False"
      ]
     },
     "execution_count": 26,
     "metadata": {},
     "output_type": "execute_result"
    }
   ],
   "source": [
    "ps.is_unique"
   ]
  },
  {
   "cell_type": "markdown",
   "id": "ef821a51-a44d-414f-a794-b4f3802f00d0",
   "metadata": {},
   "source": [
    "___"
   ]
  },
  {
   "cell_type": "markdown",
   "id": "cc14ddaa-7f52-429f-be23-d77019738edf",
   "metadata": {},
   "source": [
    "# Pandas Series Mostly used methods"
   ]
  },
  {
   "cell_type": "markdown",
   "id": "f2f15814-01db-4844-8547-5ae68482e778",
   "metadata": {},
   "source": [
    "#### 1. Basic Level methods"
   ]
  },
  {
   "cell_type": "markdown",
   "id": "c97289d2-810f-4a45-930c-b006caa9e0d8",
   "metadata": {},
   "source": [
    "* `add():` Return addition of series and other, element wise (binary operator add).\n",
    "* `sub():` Return Subtraction of series and othe, element-wise (binary operator sub).\n",
    "* `mul():` Return Multiplication of series and other, element-wise (binary operator mul).\n",
    "* `div():` Return Floating division of series and other, element-wise (binary operator div)\n",
    "* `info():` Print a concise summary of a Series.\n",
    "* `describe():` Generate descriptive statistics.\n",
    "* `min():` Return the minimum of the values over the requested axis.\n",
    "* `max():`  Return the maximum of the values over the requested axis.\n",
    "* `mean():`  Return the mean of the values over the requested axis.\n",
    "* `median():` Return the median of the values over the requested axis.\n",
    "* `mode():` Return the mode(s) of the Series.\n",
    "* `count():` Return number of non-NA/null observations in the series."
   ]
  },
  {
   "cell_type": "markdown",
   "id": "c529a7d9-37bc-4e71-853d-d6d811307573",
   "metadata": {},
   "source": [
    "##### `Series.add()` method\n",
    "```python\n",
    "Series.add(other, level=None, fill_value=None, axis=0\n",
    "```\n",
    "Return Addition of series and other, element-wise (binary operator add).\n",
    "\n",
    "Equivalent to `series + other`, but with support to substitute a fill_value for missing data in either one of the inputs."
   ]
  },
  {
   "cell_type": "code",
   "execution_count": 27,
   "id": "3c9fe158-caf2-4b3a-b553-58f4b1a62031",
   "metadata": {},
   "outputs": [],
   "source": [
    "# first we will create two random series then we will add them\n",
    "s1 = pd.Series(data = np.random.randint(0,100, 10))\n",
    "s2 = pd.Series(data = np.random.randint(0,100, 10))"
   ]
  },
  {
   "cell_type": "markdown",
   "id": "bba9c8c7-e200-4b54-a7f3-61f43b4f38cc",
   "metadata": {},
   "source": [
    "adding s1 and s2 series"
   ]
  },
  {
   "cell_type": "code",
   "execution_count": 28,
   "id": "0b8eb2d6-346c-4c85-9dc0-3e803c1939ef",
   "metadata": {},
   "outputs": [
    {
     "name": "stdout",
     "output_type": "stream",
     "text": [
      "Series s1:  [99 10 74 60 40 17 39 75 78 16]\n",
      "Series s2:  [12 65 78 32 45 84 63 29 94 42]\n",
      "Series s1 + s2:  [111  75 152  92  85 101 102 104 172  58]\n"
     ]
    }
   ],
   "source": [
    "# first printing both series as array\n",
    "print(\"Series s1: \",s1.to_numpy())\n",
    "print(\"Series s2: \",s2.to_numpy())\n",
    "\n",
    "# Now adding both series\n",
    "s3 = s1.add(s2)\n",
    "print(\"Series s1 + s2: \", s3.to_numpy())"
   ]
  },
  {
   "cell_type": "markdown",
   "id": "a7795124-0060-4d07-ab4b-fb1bd5ebac59",
   "metadata": {},
   "source": [
    "Displaying both series all three series combine by using the Pandas.concat method."
   ]
  },
  {
   "cell_type": "code",
   "execution_count": 29,
   "id": "4c5fb7b1-040e-4989-ab00-e61c5278e684",
   "metadata": {},
   "outputs": [
    {
     "data": {
      "text/html": [
       "<div>\n",
       "<style scoped>\n",
       "    .dataframe tbody tr th:only-of-type {\n",
       "        vertical-align: middle;\n",
       "    }\n",
       "\n",
       "    .dataframe tbody tr th {\n",
       "        vertical-align: top;\n",
       "    }\n",
       "\n",
       "    .dataframe thead th {\n",
       "        text-align: right;\n",
       "    }\n",
       "</style>\n",
       "<table border=\"1\" class=\"dataframe\">\n",
       "  <thead>\n",
       "    <tr style=\"text-align: right;\">\n",
       "      <th></th>\n",
       "      <th>Series s1</th>\n",
       "      <th>Series s2</th>\n",
       "      <th>Series s1 + s2</th>\n",
       "    </tr>\n",
       "  </thead>\n",
       "  <tbody>\n",
       "    <tr>\n",
       "      <th>0</th>\n",
       "      <td>99</td>\n",
       "      <td>12</td>\n",
       "      <td>111</td>\n",
       "    </tr>\n",
       "    <tr>\n",
       "      <th>1</th>\n",
       "      <td>10</td>\n",
       "      <td>65</td>\n",
       "      <td>75</td>\n",
       "    </tr>\n",
       "    <tr>\n",
       "      <th>2</th>\n",
       "      <td>74</td>\n",
       "      <td>78</td>\n",
       "      <td>152</td>\n",
       "    </tr>\n",
       "    <tr>\n",
       "      <th>3</th>\n",
       "      <td>60</td>\n",
       "      <td>32</td>\n",
       "      <td>92</td>\n",
       "    </tr>\n",
       "    <tr>\n",
       "      <th>4</th>\n",
       "      <td>40</td>\n",
       "      <td>45</td>\n",
       "      <td>85</td>\n",
       "    </tr>\n",
       "    <tr>\n",
       "      <th>5</th>\n",
       "      <td>17</td>\n",
       "      <td>84</td>\n",
       "      <td>101</td>\n",
       "    </tr>\n",
       "    <tr>\n",
       "      <th>6</th>\n",
       "      <td>39</td>\n",
       "      <td>63</td>\n",
       "      <td>102</td>\n",
       "    </tr>\n",
       "    <tr>\n",
       "      <th>7</th>\n",
       "      <td>75</td>\n",
       "      <td>29</td>\n",
       "      <td>104</td>\n",
       "    </tr>\n",
       "    <tr>\n",
       "      <th>8</th>\n",
       "      <td>78</td>\n",
       "      <td>94</td>\n",
       "      <td>172</td>\n",
       "    </tr>\n",
       "    <tr>\n",
       "      <th>9</th>\n",
       "      <td>16</td>\n",
       "      <td>42</td>\n",
       "      <td>58</td>\n",
       "    </tr>\n",
       "  </tbody>\n",
       "</table>\n",
       "</div>"
      ],
      "text/plain": [
       "   Series s1  Series s2  Series s1 + s2\n",
       "0         99         12             111\n",
       "1         10         65              75\n",
       "2         74         78             152\n",
       "3         60         32              92\n",
       "4         40         45              85\n",
       "5         17         84             101\n",
       "6         39         63             102\n",
       "7         75         29             104\n",
       "8         78         94             172\n",
       "9         16         42              58"
      ]
     },
     "execution_count": 29,
     "metadata": {},
     "output_type": "execute_result"
    }
   ],
   "source": [
    "pd.concat([s1,s2,s3], axis=1, keys=[\"Series s1\", \"Series s2\", \"Series s1 + s2\"])"
   ]
  },
  {
   "cell_type": "markdown",
   "id": "476950a9-55b0-4c44-b4f8-f3a7421cc9f4",
   "metadata": {},
   "source": [
    "##### `Series.sub()` Method\n",
    "\n",
    "Return Subtraction of series and other, element-wise (binary operator sub).\n",
    "\n",
    "Equivalent to `series - other`, but with support to substitute a fill_value for missing data in either one of the inputs."
   ]
  },
  {
   "cell_type": "code",
   "execution_count": 30,
   "id": "e076aa15-698c-48de-8c3e-5c7f5c4b18c9",
   "metadata": {},
   "outputs": [
    {
     "name": "stdout",
     "output_type": "stream",
     "text": [
      "Series s1:  [99 10 74 60 40 17 39 75 78 16]\n",
      "Series s2:  [12 65 78 32 45 84 63 29 94 42]\n",
      "Series s1 + s2:  [ 87 -55  -4  28  -5 -67 -24  46 -16 -26]\n"
     ]
    }
   ],
   "source": [
    "# first printing both series as array\n",
    "print(\"Series s1: \",s1.to_numpy())\n",
    "print(\"Series s2: \",s2.to_numpy())\n",
    "\n",
    "# Now adding both series\n",
    "s3 = s1.sub(s2)\n",
    "print(\"Series s1 + s2: \", s3.to_numpy())"
   ]
  },
  {
   "cell_type": "code",
   "execution_count": 31,
   "id": "293e9646-1b76-4de4-bcc8-6bf0d23cf2b9",
   "metadata": {},
   "outputs": [
    {
     "data": {
      "text/html": [
       "<div>\n",
       "<style scoped>\n",
       "    .dataframe tbody tr th:only-of-type {\n",
       "        vertical-align: middle;\n",
       "    }\n",
       "\n",
       "    .dataframe tbody tr th {\n",
       "        vertical-align: top;\n",
       "    }\n",
       "\n",
       "    .dataframe thead th {\n",
       "        text-align: right;\n",
       "    }\n",
       "</style>\n",
       "<table border=\"1\" class=\"dataframe\">\n",
       "  <thead>\n",
       "    <tr style=\"text-align: right;\">\n",
       "      <th></th>\n",
       "      <th>Series s1</th>\n",
       "      <th>Series s2</th>\n",
       "      <th>Series s1 - s2</th>\n",
       "    </tr>\n",
       "  </thead>\n",
       "  <tbody>\n",
       "    <tr>\n",
       "      <th>0</th>\n",
       "      <td>99</td>\n",
       "      <td>12</td>\n",
       "      <td>87</td>\n",
       "    </tr>\n",
       "    <tr>\n",
       "      <th>1</th>\n",
       "      <td>10</td>\n",
       "      <td>65</td>\n",
       "      <td>-55</td>\n",
       "    </tr>\n",
       "    <tr>\n",
       "      <th>2</th>\n",
       "      <td>74</td>\n",
       "      <td>78</td>\n",
       "      <td>-4</td>\n",
       "    </tr>\n",
       "    <tr>\n",
       "      <th>3</th>\n",
       "      <td>60</td>\n",
       "      <td>32</td>\n",
       "      <td>28</td>\n",
       "    </tr>\n",
       "    <tr>\n",
       "      <th>4</th>\n",
       "      <td>40</td>\n",
       "      <td>45</td>\n",
       "      <td>-5</td>\n",
       "    </tr>\n",
       "    <tr>\n",
       "      <th>5</th>\n",
       "      <td>17</td>\n",
       "      <td>84</td>\n",
       "      <td>-67</td>\n",
       "    </tr>\n",
       "    <tr>\n",
       "      <th>6</th>\n",
       "      <td>39</td>\n",
       "      <td>63</td>\n",
       "      <td>-24</td>\n",
       "    </tr>\n",
       "    <tr>\n",
       "      <th>7</th>\n",
       "      <td>75</td>\n",
       "      <td>29</td>\n",
       "      <td>46</td>\n",
       "    </tr>\n",
       "    <tr>\n",
       "      <th>8</th>\n",
       "      <td>78</td>\n",
       "      <td>94</td>\n",
       "      <td>-16</td>\n",
       "    </tr>\n",
       "    <tr>\n",
       "      <th>9</th>\n",
       "      <td>16</td>\n",
       "      <td>42</td>\n",
       "      <td>-26</td>\n",
       "    </tr>\n",
       "  </tbody>\n",
       "</table>\n",
       "</div>"
      ],
      "text/plain": [
       "   Series s1  Series s2  Series s1 - s2\n",
       "0         99         12              87\n",
       "1         10         65             -55\n",
       "2         74         78              -4\n",
       "3         60         32              28\n",
       "4         40         45              -5\n",
       "5         17         84             -67\n",
       "6         39         63             -24\n",
       "7         75         29              46\n",
       "8         78         94             -16\n",
       "9         16         42             -26"
      ]
     },
     "execution_count": 31,
     "metadata": {},
     "output_type": "execute_result"
    }
   ],
   "source": [
    "pd.concat([s1,s2,s3], axis=1, keys=[\"Series s1\", \"Series s2\", \"Series s1 - s2\"])"
   ]
  },
  {
   "cell_type": "markdown",
   "id": "af79f3b9-f7ab-41a9-b813-abdf2670deb5",
   "metadata": {},
   "source": [
    "##### `Series.mul()` method\n",
    "\n",
    "Return Multiplication of series and other, element-wise (binary operator mul).\n",
    "\n",
    "Equivalent to `series * other`, but with support to substitute a fill_value for missing data in either one of the inputs."
   ]
  },
  {
   "cell_type": "code",
   "execution_count": 32,
   "id": "44b14111-18a5-47eb-835b-a571f983a3d3",
   "metadata": {},
   "outputs": [
    {
     "name": "stdout",
     "output_type": "stream",
     "text": [
      "Series s1:  [99 10 74 60 40 17 39 75 78 16]\n",
      "Series s2:  [12 65 78 32 45 84 63 29 94 42]\n",
      "Series s1 + s2:  [1188  650 5772 1920 1800 1428 2457 2175 7332  672]\n"
     ]
    }
   ],
   "source": [
    "# first printing both series as array\n",
    "print(\"Series s1: \",s1.to_numpy())\n",
    "print(\"Series s2: \",s2.to_numpy())\n",
    "\n",
    "# Now adding both series\n",
    "s3 = s1.mul(s2)\n",
    "print(\"Series s1 + s2: \", s3.to_numpy())"
   ]
  },
  {
   "cell_type": "code",
   "execution_count": 33,
   "id": "215b6dfa-e74b-48b6-9b78-a36500bf1391",
   "metadata": {},
   "outputs": [
    {
     "data": {
      "text/html": [
       "<div>\n",
       "<style scoped>\n",
       "    .dataframe tbody tr th:only-of-type {\n",
       "        vertical-align: middle;\n",
       "    }\n",
       "\n",
       "    .dataframe tbody tr th {\n",
       "        vertical-align: top;\n",
       "    }\n",
       "\n",
       "    .dataframe thead th {\n",
       "        text-align: right;\n",
       "    }\n",
       "</style>\n",
       "<table border=\"1\" class=\"dataframe\">\n",
       "  <thead>\n",
       "    <tr style=\"text-align: right;\">\n",
       "      <th></th>\n",
       "      <th>Series s1</th>\n",
       "      <th>Series s2</th>\n",
       "      <th>Series s1 * s2</th>\n",
       "    </tr>\n",
       "  </thead>\n",
       "  <tbody>\n",
       "    <tr>\n",
       "      <th>0</th>\n",
       "      <td>99</td>\n",
       "      <td>12</td>\n",
       "      <td>1188</td>\n",
       "    </tr>\n",
       "    <tr>\n",
       "      <th>1</th>\n",
       "      <td>10</td>\n",
       "      <td>65</td>\n",
       "      <td>650</td>\n",
       "    </tr>\n",
       "    <tr>\n",
       "      <th>2</th>\n",
       "      <td>74</td>\n",
       "      <td>78</td>\n",
       "      <td>5772</td>\n",
       "    </tr>\n",
       "    <tr>\n",
       "      <th>3</th>\n",
       "      <td>60</td>\n",
       "      <td>32</td>\n",
       "      <td>1920</td>\n",
       "    </tr>\n",
       "    <tr>\n",
       "      <th>4</th>\n",
       "      <td>40</td>\n",
       "      <td>45</td>\n",
       "      <td>1800</td>\n",
       "    </tr>\n",
       "    <tr>\n",
       "      <th>5</th>\n",
       "      <td>17</td>\n",
       "      <td>84</td>\n",
       "      <td>1428</td>\n",
       "    </tr>\n",
       "    <tr>\n",
       "      <th>6</th>\n",
       "      <td>39</td>\n",
       "      <td>63</td>\n",
       "      <td>2457</td>\n",
       "    </tr>\n",
       "    <tr>\n",
       "      <th>7</th>\n",
       "      <td>75</td>\n",
       "      <td>29</td>\n",
       "      <td>2175</td>\n",
       "    </tr>\n",
       "    <tr>\n",
       "      <th>8</th>\n",
       "      <td>78</td>\n",
       "      <td>94</td>\n",
       "      <td>7332</td>\n",
       "    </tr>\n",
       "    <tr>\n",
       "      <th>9</th>\n",
       "      <td>16</td>\n",
       "      <td>42</td>\n",
       "      <td>672</td>\n",
       "    </tr>\n",
       "  </tbody>\n",
       "</table>\n",
       "</div>"
      ],
      "text/plain": [
       "   Series s1  Series s2  Series s1 * s2\n",
       "0         99         12            1188\n",
       "1         10         65             650\n",
       "2         74         78            5772\n",
       "3         60         32            1920\n",
       "4         40         45            1800\n",
       "5         17         84            1428\n",
       "6         39         63            2457\n",
       "7         75         29            2175\n",
       "8         78         94            7332\n",
       "9         16         42             672"
      ]
     },
     "execution_count": 33,
     "metadata": {},
     "output_type": "execute_result"
    }
   ],
   "source": [
    "pd.concat([s1,s2,s3], axis=1, keys=[\"Series s1\", \"Series s2\", \"Series s1 * s2\"])"
   ]
  },
  {
   "cell_type": "markdown",
   "id": "c89dab92-a0fd-41e7-be25-560acbf5a7e5",
   "metadata": {},
   "source": [
    "##### `Series.div()` metod\n",
    "\n",
    "Return Floating division of series and other, element-wise (binary operator truediv).\n",
    "\n",
    "Equivalent to `series / other`, but with support to substitute a fill_value for missing data in either one of the inputs."
   ]
  },
  {
   "cell_type": "code",
   "execution_count": 34,
   "id": "77e280e4-6e65-4032-abdf-ad6a653b158e",
   "metadata": {},
   "outputs": [
    {
     "name": "stdout",
     "output_type": "stream",
     "text": [
      "Series s1:  [99 10 74 60 40 17 39 75 78 16]\n",
      "Series s2:  [12 65 78 32 45 84 63 29 94 42]\n",
      "Series s1 + s2:  [8.25       0.15384615 0.94871795 1.875      0.88888889 0.20238095\n",
      " 0.61904762 2.5862069  0.82978723 0.38095238]\n"
     ]
    }
   ],
   "source": [
    "# first printing both series as array\n",
    "print(\"Series s1: \",s1.to_numpy())\n",
    "print(\"Series s2: \",s2.to_numpy())\n",
    "\n",
    "# Now adding both series\n",
    "s3 = s1.div(s2)\n",
    "print(\"Series s1 + s2: \", s3.to_numpy())"
   ]
  },
  {
   "cell_type": "code",
   "execution_count": 35,
   "id": "d3a4b7ab-7c24-47a3-878e-4c2795cfac49",
   "metadata": {},
   "outputs": [
    {
     "data": {
      "text/html": [
       "<div>\n",
       "<style scoped>\n",
       "    .dataframe tbody tr th:only-of-type {\n",
       "        vertical-align: middle;\n",
       "    }\n",
       "\n",
       "    .dataframe tbody tr th {\n",
       "        vertical-align: top;\n",
       "    }\n",
       "\n",
       "    .dataframe thead th {\n",
       "        text-align: right;\n",
       "    }\n",
       "</style>\n",
       "<table border=\"1\" class=\"dataframe\">\n",
       "  <thead>\n",
       "    <tr style=\"text-align: right;\">\n",
       "      <th></th>\n",
       "      <th>Series s1</th>\n",
       "      <th>Series s2</th>\n",
       "      <th>Series s1 / s2</th>\n",
       "    </tr>\n",
       "  </thead>\n",
       "  <tbody>\n",
       "    <tr>\n",
       "      <th>0</th>\n",
       "      <td>99</td>\n",
       "      <td>12</td>\n",
       "      <td>8.250000</td>\n",
       "    </tr>\n",
       "    <tr>\n",
       "      <th>1</th>\n",
       "      <td>10</td>\n",
       "      <td>65</td>\n",
       "      <td>0.153846</td>\n",
       "    </tr>\n",
       "    <tr>\n",
       "      <th>2</th>\n",
       "      <td>74</td>\n",
       "      <td>78</td>\n",
       "      <td>0.948718</td>\n",
       "    </tr>\n",
       "    <tr>\n",
       "      <th>3</th>\n",
       "      <td>60</td>\n",
       "      <td>32</td>\n",
       "      <td>1.875000</td>\n",
       "    </tr>\n",
       "    <tr>\n",
       "      <th>4</th>\n",
       "      <td>40</td>\n",
       "      <td>45</td>\n",
       "      <td>0.888889</td>\n",
       "    </tr>\n",
       "    <tr>\n",
       "      <th>5</th>\n",
       "      <td>17</td>\n",
       "      <td>84</td>\n",
       "      <td>0.202381</td>\n",
       "    </tr>\n",
       "    <tr>\n",
       "      <th>6</th>\n",
       "      <td>39</td>\n",
       "      <td>63</td>\n",
       "      <td>0.619048</td>\n",
       "    </tr>\n",
       "    <tr>\n",
       "      <th>7</th>\n",
       "      <td>75</td>\n",
       "      <td>29</td>\n",
       "      <td>2.586207</td>\n",
       "    </tr>\n",
       "    <tr>\n",
       "      <th>8</th>\n",
       "      <td>78</td>\n",
       "      <td>94</td>\n",
       "      <td>0.829787</td>\n",
       "    </tr>\n",
       "    <tr>\n",
       "      <th>9</th>\n",
       "      <td>16</td>\n",
       "      <td>42</td>\n",
       "      <td>0.380952</td>\n",
       "    </tr>\n",
       "  </tbody>\n",
       "</table>\n",
       "</div>"
      ],
      "text/plain": [
       "   Series s1  Series s2  Series s1 / s2\n",
       "0         99         12        8.250000\n",
       "1         10         65        0.153846\n",
       "2         74         78        0.948718\n",
       "3         60         32        1.875000\n",
       "4         40         45        0.888889\n",
       "5         17         84        0.202381\n",
       "6         39         63        0.619048\n",
       "7         75         29        2.586207\n",
       "8         78         94        0.829787\n",
       "9         16         42        0.380952"
      ]
     },
     "execution_count": 35,
     "metadata": {},
     "output_type": "execute_result"
    }
   ],
   "source": [
    "pd.concat([s1,s2,s3], axis=1, keys=[\"Series s1\", \"Series s2\", \"Series s1 / s2\"])"
   ]
  },
  {
   "cell_type": "markdown",
   "id": "35bcbe06-d912-46c5-bbf2-dcbfac3f111d",
   "metadata": {},
   "source": [
    "_____"
   ]
  },
  {
   "cell_type": "markdown",
   "id": "4cfdc4c4-7a47-4539-be9e-665f063c92cf",
   "metadata": {},
   "source": [
    "##### `Series.describe()` method\n",
    "\n",
    "Generate descriptive statistics.\n",
    "\n",
    "Descriptive statistics include those that summarize the central tendency, dispersion and shape of a dataset’s distribution, excluding NaN values.\n",
    "\n",
    "Analyzes both numeric and object series, as well as DataFrame column sets of mixed data types. The output will vary depending on what is provided. Refer to the notes below for more detail.\n",
    "\n",
    "For numeric data, the result’s index will include count, mean, std, min, max as well as lower, 50 and upper percentiles. By default the lower percentile is 25 and the upper percentile is 75. The 50 percentile is the same as the median.\n",
    "\n",
    "For object data (e.g. strings or timestamps), the result’s index will include count, unique, top, and freq. The top is the most common value. The freq is the most common value’s frequency. Timestamps also include the first and last items.\n",
    "\n",
    "If multiple object values have the highest count, then the count and top results will be arbitrarily chosen from among those with the highest count.\n",
    "\n",
    "For mixed data types provided via a DataFrame, the default is to return only an analysis of numeric columns. If the dataframe consists only of object and categorical data without any numeric columns, the default is to return an analysis of both the object and categorical columns. If include='all' is provided as an option, the result will include a union of attributes of each type.\n",
    "\n",
    "The include and exclude parameters can be used to limit which columns in a DataFrame are analyzed for the output. The parameters are ignored when analyzing a Series."
   ]
  },
  {
   "cell_type": "code",
   "execution_count": 36,
   "id": "010c6d76-2fe4-4436-a745-67a1ab59cebe",
   "metadata": {},
   "outputs": [
    {
     "data": {
      "text/plain": [
       "count    10.000000\n",
       "mean     50.800000\n",
       "std      30.814138\n",
       "min      10.000000\n",
       "25%      22.500000\n",
       "50%      50.000000\n",
       "75%      74.750000\n",
       "max      99.000000\n",
       "dtype: float64"
      ]
     },
     "execution_count": 36,
     "metadata": {},
     "output_type": "execute_result"
    }
   ],
   "source": [
    "s1.describe()"
   ]
  },
  {
   "cell_type": "markdown",
   "id": "42845371-dda5-4829-9324-42ff9b145734",
   "metadata": {},
   "source": [
    "* count : it defins the number of non-NA/null values.\n",
    "* mean : mean of the all values, it does not count NA/null values.\n",
    "* std : standard deviation of the values.\n",
    "* min : mininum value in the series.\n",
    "* max : maximum value in the series.\n",
    "* 25%, 50%, 75% are percentile values for the given series."
   ]
  },
  {
   "cell_type": "markdown",
   "id": "6b06be9a-bcfa-4bfe-aa73-2cbfa21450ad",
   "metadata": {},
   "source": [
    "_____"
   ]
  },
  {
   "cell_type": "markdown",
   "id": "5725755b-582b-4067-b34f-e4071e179a45",
   "metadata": {},
   "source": [
    "##### `Series.info()` method\n",
    "\n",
    "Print a concise summary of a Series.\n",
    "\n",
    "This method prints information about a Series including the index dtype, non-null values and memory usage."
   ]
  },
  {
   "cell_type": "code",
   "execution_count": 54,
   "id": "cbe70f86-d6aa-4700-be15-b5b0a082a6b5",
   "metadata": {},
   "outputs": [
    {
     "name": "stdout",
     "output_type": "stream",
     "text": [
      "<class 'pandas.core.series.Series'>\n",
      "RangeIndex: 50 entries, 0 to 49\n",
      "Series name: Random Series\n",
      "Non-Null Count  Dtype  \n",
      "--------------  -----  \n",
      "40 non-null     float64\n",
      "dtypes: float64(1)\n",
      "memory usage: 528.0 bytes\n"
     ]
    }
   ],
   "source": [
    "ps.info()"
   ]
  },
  {
   "cell_type": "markdown",
   "id": "037ebc25-a66e-4e63-abe6-2f7325d1df40",
   "metadata": {},
   "source": [
    "_____"
   ]
  },
  {
   "cell_type": "markdown",
   "id": "644a3b07-872d-4754-bab4-919b4993478c",
   "metadata": {},
   "source": [
    "##### `Series.min()` method\n",
    "\n",
    "Return the minimum of the values over the requested axis.\n",
    "\n",
    "If you want the index of the minimum, use idxmin. This is the equivalent of the numpy.ndarray method argmin."
   ]
  },
  {
   "cell_type": "code",
   "execution_count": 37,
   "id": "a58b001f-18dd-4146-aa82-c4c2a7a6f831",
   "metadata": {},
   "outputs": [
    {
     "data": {
      "text/plain": [
       "array([99, 10, 74, 60, 40, 17, 39, 75, 78, 16])"
      ]
     },
     "execution_count": 37,
     "metadata": {},
     "output_type": "execute_result"
    }
   ],
   "source": [
    "s1.to_numpy()"
   ]
  },
  {
   "cell_type": "code",
   "execution_count": 38,
   "id": "5d724654-6673-4f19-9056-9089a252f68e",
   "metadata": {},
   "outputs": [
    {
     "data": {
      "text/plain": [
       "10"
      ]
     },
     "execution_count": 38,
     "metadata": {},
     "output_type": "execute_result"
    }
   ],
   "source": [
    "s1.min()"
   ]
  },
  {
   "cell_type": "code",
   "execution_count": 39,
   "id": "c4543e16-b6b3-4d6b-be31-9ae5403ab4b2",
   "metadata": {},
   "outputs": [
    {
     "data": {
      "text/plain": [
       "array([nan, 15.,  3.,  2.,  9., 22., 49., 24., nan, nan,  5., nan, nan,\n",
       "       18., 12., 12., 13.,  7., 23., 10., 46., 43., 49., 11., nan,  1.,\n",
       "       24., 38., 33., 28., 35., 36., nan, 36., nan, 25., nan, 27., 49.,\n",
       "       40.,  7., 39., 14., 29., 15., 49., 18., 20., nan, 31.])"
      ]
     },
     "execution_count": 39,
     "metadata": {},
     "output_type": "execute_result"
    }
   ],
   "source": [
    "ps.to_numpy()"
   ]
  },
  {
   "cell_type": "code",
   "execution_count": 40,
   "id": "d72f00f2-f9fb-4851-b3f9-00bb98ce4802",
   "metadata": {},
   "outputs": [
    {
     "data": {
      "text/plain": [
       "1.0"
      ]
     },
     "execution_count": 40,
     "metadata": {},
     "output_type": "execute_result"
    }
   ],
   "source": [
    "ps.min()"
   ]
  },
  {
   "cell_type": "markdown",
   "id": "b6b7a9ce-a2ea-42ff-bd72-8a79326ec548",
   "metadata": {},
   "source": [
    "_____"
   ]
  },
  {
   "cell_type": "markdown",
   "id": "89db8c16-f3b1-4e28-bdbf-6460b65adc26",
   "metadata": {},
   "source": [
    "##### `Series.max()` method\n",
    "\n",
    "Return the maximum of the values over the requested axis.\n",
    "\n",
    "If you want the index of the maximum, use idxmax. This is the equivalent of the numpy.ndarray method argmax."
   ]
  },
  {
   "cell_type": "code",
   "execution_count": 41,
   "id": "bac5432a-5d52-4b2e-acb1-efd7e269d30b",
   "metadata": {},
   "outputs": [
    {
     "data": {
      "text/plain": [
       "array([nan, 15.,  3.,  2.,  9., 22., 49., 24., nan, nan,  5., nan, nan,\n",
       "       18., 12., 12., 13.,  7., 23., 10., 46., 43., 49., 11., nan,  1.,\n",
       "       24., 38., 33., 28., 35., 36., nan, 36., nan, 25., nan, 27., 49.,\n",
       "       40.,  7., 39., 14., 29., 15., 49., 18., 20., nan, 31.])"
      ]
     },
     "execution_count": 41,
     "metadata": {},
     "output_type": "execute_result"
    }
   ],
   "source": [
    "ps.to_numpy()"
   ]
  },
  {
   "cell_type": "code",
   "execution_count": 42,
   "id": "5b7cd19f-c65c-49f1-a53b-a6828e4a2fac",
   "metadata": {},
   "outputs": [
    {
     "data": {
      "text/plain": [
       "49.0"
      ]
     },
     "execution_count": 42,
     "metadata": {},
     "output_type": "execute_result"
    }
   ],
   "source": [
    "ps.max()"
   ]
  },
  {
   "cell_type": "code",
   "execution_count": 43,
   "id": "24aff185-135a-4e9c-b2d2-5b1dc2eed6ff",
   "metadata": {},
   "outputs": [
    {
     "name": "stdout",
     "output_type": "stream",
     "text": [
      "max value in s1:  99\n",
      "max value in s2:  94\n"
     ]
    }
   ],
   "source": [
    "print(\"max value in s1: \", s1.max())\n",
    "print(\"max value in s2: \", s2.max())"
   ]
  },
  {
   "cell_type": "markdown",
   "id": "8adcc8be-69bb-443d-989a-e48b38e54625",
   "metadata": {},
   "source": [
    "_____"
   ]
  },
  {
   "cell_type": "markdown",
   "id": "4885f488-736e-4029-aeac-8756da1c53c7",
   "metadata": {},
   "source": [
    "##### `Series.count()` method\n",
    "\n",
    "-> Return number of non-NA/null observations in the Series."
   ]
  },
  {
   "cell_type": "code",
   "execution_count": 44,
   "id": "78246ab3-5fe4-4515-8020-dca60954bf4f",
   "metadata": {},
   "outputs": [
    {
     "data": {
      "text/plain": [
       "array([nan, 15.,  3.,  2.,  9., 22., 49., 24., nan, nan,  5., nan, nan,\n",
       "       18., 12., 12., 13.,  7., 23., 10., 46., 43., 49., 11., nan,  1.,\n",
       "       24., 38., 33., 28., 35., 36., nan, 36., nan, 25., nan, 27., 49.,\n",
       "       40.,  7., 39., 14., 29., 15., 49., 18., 20., nan, 31.])"
      ]
     },
     "execution_count": 44,
     "metadata": {},
     "output_type": "execute_result"
    }
   ],
   "source": [
    "ps.to_numpy()"
   ]
  },
  {
   "cell_type": "code",
   "execution_count": 45,
   "id": "158f40cb-b8ef-483a-8ceb-745d0a75424a",
   "metadata": {},
   "outputs": [
    {
     "name": "stdout",
     "output_type": "stream",
     "text": [
      "length of the ps series:  50\n",
      "non-NA/null count in ps series:  40\n"
     ]
    }
   ],
   "source": [
    "print(\"length of the ps series: \", len(ps))\n",
    "print(\"non-NA/null count in ps series: \", ps.count())"
   ]
  },
  {
   "cell_type": "markdown",
   "id": "954dec80-44b5-49e1-bf50-325ae641f2d3",
   "metadata": {},
   "source": [
    "_____"
   ]
  },
  {
   "cell_type": "markdown",
   "id": "a42c113a-da08-4fb5-97ef-382874d7779f",
   "metadata": {},
   "source": [
    "##### `Series.mean()` method\n",
    "\n",
    "Return the mean of the values over the requested axis.\n",
    "\n",
    "by default it will skip all the NA/null values from the computation."
   ]
  },
  {
   "cell_type": "code",
   "execution_count": 46,
   "id": "c26989aa-e238-44d2-8436-185e37350b6e",
   "metadata": {},
   "outputs": [
    {
     "data": {
      "text/plain": [
       "array([nan, 15.,  3.,  2.,  9., 22., 49., 24., nan, nan,  5., nan, nan,\n",
       "       18., 12., 12., 13.,  7., 23., 10., 46., 43., 49., 11., nan,  1.,\n",
       "       24., 38., 33., 28., 35., 36., nan, 36., nan, 25., nan, 27., 49.,\n",
       "       40.,  7., 39., 14., 29., 15., 49., 18., 20., nan, 31.])"
      ]
     },
     "execution_count": 46,
     "metadata": {},
     "output_type": "execute_result"
    }
   ],
   "source": [
    "ps.to_numpy()"
   ]
  },
  {
   "cell_type": "code",
   "execution_count": 47,
   "id": "bba127b7-837d-4d7e-82ce-2cf97fe8b963",
   "metadata": {},
   "outputs": [
    {
     "data": {
      "text/plain": [
       "24.175"
      ]
     },
     "execution_count": 47,
     "metadata": {},
     "output_type": "execute_result"
    }
   ],
   "source": [
    "ps.mean()"
   ]
  },
  {
   "cell_type": "markdown",
   "id": "34bea0da-745e-47ec-99be-e9c87de37779",
   "metadata": {},
   "source": [
    "____"
   ]
  },
  {
   "cell_type": "markdown",
   "id": "8bd54baa-6761-4f91-9ccf-13e9cf7831f1",
   "metadata": {},
   "source": [
    "##### `Series.median()` method\n",
    "\n",
    "Return the median of the values over the requested axis.\n",
    "\n",
    "by default it will skip all NA/null values from the computation."
   ]
  },
  {
   "cell_type": "code",
   "execution_count": 48,
   "id": "7f1d9de1-45bf-4df2-a8d8-7f0d2f2829c8",
   "metadata": {},
   "outputs": [
    {
     "data": {
      "text/plain": [
       "array([nan, 15.,  3.,  2.,  9., 22., 49., 24., nan, nan,  5., nan, nan,\n",
       "       18., 12., 12., 13.,  7., 23., 10., 46., 43., 49., 11., nan,  1.,\n",
       "       24., 38., 33., 28., 35., 36., nan, 36., nan, 25., nan, 27., 49.,\n",
       "       40.,  7., 39., 14., 29., 15., 49., 18., 20., nan, 31.])"
      ]
     },
     "execution_count": 48,
     "metadata": {},
     "output_type": "execute_result"
    }
   ],
   "source": [
    "ps.to_numpy()"
   ]
  },
  {
   "cell_type": "code",
   "execution_count": 49,
   "id": "2fcf3936-0b4f-4669-b169-1778ea60e1f5",
   "metadata": {},
   "outputs": [
    {
     "data": {
      "text/plain": [
       "23.5"
      ]
     },
     "execution_count": 49,
     "metadata": {},
     "output_type": "execute_result"
    }
   ],
   "source": [
    "ps.median()"
   ]
  },
  {
   "cell_type": "markdown",
   "id": "fb7362a0-222e-417d-ac77-8cb1d8f06c88",
   "metadata": {},
   "source": [
    "____"
   ]
  },
  {
   "cell_type": "markdown",
   "id": "16449f51-632e-414a-b708-0fefece2a574",
   "metadata": {},
   "source": [
    "##### `Series.mode()` method\n",
    "\n",
    "Return the mode(s) of the Series.\n",
    "\n",
    "The mode is the value that appears most often. There can be multiple modes.\n",
    "\n",
    "Always returns Series even if only one value is returned."
   ]
  },
  {
   "cell_type": "code",
   "execution_count": 50,
   "id": "dc268e54-aeb5-4813-a59f-1bc5d15f8616",
   "metadata": {},
   "outputs": [
    {
     "data": {
      "text/plain": [
       "array([nan, 15.,  3.,  2.,  9., 22., 49., 24., nan, nan,  5., nan, nan,\n",
       "       18., 12., 12., 13.,  7., 23., 10., 46., 43., 49., 11., nan,  1.,\n",
       "       24., 38., 33., 28., 35., 36., nan, 36., nan, 25., nan, 27., 49.,\n",
       "       40.,  7., 39., 14., 29., 15., 49., 18., 20., nan, 31.])"
      ]
     },
     "execution_count": 50,
     "metadata": {},
     "output_type": "execute_result"
    }
   ],
   "source": [
    "ps.to_numpy()"
   ]
  },
  {
   "cell_type": "code",
   "execution_count": 51,
   "id": "383d69bf-4337-4131-8e55-bc41ad49cf89",
   "metadata": {},
   "outputs": [
    {
     "data": {
      "text/plain": [
       "0    49.0\n",
       "Name: Random Series, dtype: float64"
      ]
     },
     "execution_count": 51,
     "metadata": {},
     "output_type": "execute_result"
    }
   ],
   "source": [
    "ps.mode()"
   ]
  },
  {
   "cell_type": "markdown",
   "id": "ec6ff5c0-b442-41e5-befd-18f04b0d63c3",
   "metadata": {},
   "source": [
    "____"
   ]
  },
  {
   "cell_type": "markdown",
   "id": "fa55378f-61b3-4812-8e9a-1cd2224508a9",
   "metadata": {},
   "source": [
    "# Series method for indexing / Iteration / Selection of items\n",
    "These method allow us to access an item by using index over the `Series`. we can access the item by using the index number of label name.\n",
    "\n",
    "* `Series.at():` Access a single value for a row/column lable pair.\n",
    "* `Series.iat():` Acces a single value fro a row/column pair by integer position.\n",
    "* `Series.loc():` Acces group of erows and columns by labels or boolean array.\n",
    "* `Series.iloc():` Purely integer-location based indexing for selection by position."
   ]
  },
  {
   "cell_type": "markdown",
   "id": "0845446a-eb31-48fe-92f2-05472b8da17e",
   "metadata": {},
   "source": [
    "##### `Series.at()` & `Series.iat()` method\n",
    "\n",
    "Access a single value for a row/column label pair.\n",
    "\n",
    "Similar to `loc`, in that both provide label-based lookups. Use `at` if you only need to get or set a single value in a DataFrame or Series."
   ]
  },
  {
   "cell_type": "code",
   "execution_count": 74,
   "id": "45d2be09-2e59-499c-b274-b4aed1bbcc8d",
   "metadata": {},
   "outputs": [],
   "source": [
    "_dict = {\"John\": 25, \"Jane\": 30, \"Bob\": 35, \"Alice\": 40, \"Charlie\": 45, \n",
    "         \"David\": 50, \"Eve\": 55, \"Frank\": 60, \"Grace\": 65, \"Henry\": 70}\n",
    "\n",
    "ps = pd.Series(data=_dict, name=\"Person\", dtype=np.int8)"
   ]
  },
  {
   "cell_type": "markdown",
   "id": "c20e1d38-87fd-4f43-8201-56d627de8da7",
   "metadata": {},
   "source": [
    "Now we have a Series named as Students which is having student name's as the label of index and it's values are `np.int8` types.\n",
    "\n",
    "Note: not if we use this `at()` method on a Dataframe then to access a single value from it we need to provide column name first. but since Series itself act as a Column so we just need to pass the label/index name."
   ]
  },
  {
   "cell_type": "code",
   "execution_count": 75,
   "id": "46b4329b-8eab-4946-b486-61515439039d",
   "metadata": {},
   "outputs": [
    {
     "data": {
      "text/plain": [
       "John       25\n",
       "Jane       30\n",
       "Bob        35\n",
       "Alice      40\n",
       "Charlie    45\n",
       "David      50\n",
       "Eve        55\n",
       "Frank      60\n",
       "Grace      65\n",
       "Henry      70\n",
       "Name: Person, dtype: int8"
      ]
     },
     "execution_count": 75,
     "metadata": {},
     "output_type": "execute_result"
    }
   ],
   "source": [
    "ps"
   ]
  },
  {
   "cell_type": "code",
   "execution_count": 76,
   "id": "8e03bd54-ac5a-4aac-9902-ab6281769775",
   "metadata": {},
   "outputs": [
    {
     "data": {
      "text/plain": [
       "35"
      ]
     },
     "execution_count": 76,
     "metadata": {},
     "output_type": "execute_result"
    }
   ],
   "source": [
    "# we can access the any value by its label name\n",
    "ps.at[\"Bob\"]"
   ]
  },
  {
   "cell_type": "markdown",
   "id": "536f75a7-9e15-4c4d-8fe1-ac0e599a5c85",
   "metadata": {},
   "source": [
    "if we want to access the value by its index number then also we can use the `Series.iat()` method instead of using the `Series.at()` method."
   ]
  },
  {
   "cell_type": "code",
   "execution_count": 77,
   "id": "dd140cc1-c31d-41b0-b86d-51c4d6a6dcc8",
   "metadata": {},
   "outputs": [
    {
     "data": {
      "text/plain": [
       "35"
      ]
     },
     "execution_count": 77,
     "metadata": {},
     "output_type": "execute_result"
    }
   ],
   "source": [
    "ps.iat[2]"
   ]
  },
  {
   "cell_type": "markdown",
   "id": "8c2e45bc-b794-494a-97b6-019decc7ed19",
   "metadata": {},
   "source": [
    "Note: if we pass a list or tuple, or in other case multiple values to access multiple values then it will raise Error.\n",
    "\n",
    "____"
   ]
  },
  {
   "cell_type": "markdown",
   "id": "554efda4-d013-4d03-9158-385f497415f5",
   "metadata": {},
   "source": [
    "##### `Series.loc()` & `Series.iloc()` method **\n",
    "\n",
    "Access a group of rows and columns by label(s) or a boolean array.\n",
    "\n",
    "`.loc[]` is primarily label based, but may also be used with a boolean array.\n",
    "\n",
    "* A single label, e.g. 5 or 'a', (note that 5 is interpreted as a label of the index, and never as an integer position along the index).\n",
    "\n",
    "* A list or array of labels, e.g. ['a', 'b', 'c'].\n",
    "\n",
    "* A slice object with labels, e.g. 'a':'f'.\n",
    "\n",
    "* A boolean array of the same length as the axis being sliced, e.g. [True, False, True].\n",
    "\n",
    "* An alignable boolean Series. The index of the key will be aligned before masking.\n",
    "\n",
    "* An alignable Index. The Index of the returned selection will be the input.\n",
    "\n",
    "* A callable function with one argument (the calling Series or DataFrame) and that returns valid output for indexing (one of the above)\n"
   ]
  },
  {
   "cell_type": "code",
   "execution_count": 78,
   "id": "761ebdee-0419-4bf0-85d3-5a87c43b23fd",
   "metadata": {},
   "outputs": [
    {
     "data": {
      "text/plain": [
       "John       25\n",
       "Jane       30\n",
       "Bob        35\n",
       "Alice      40\n",
       "Charlie    45\n",
       "David      50\n",
       "Eve        55\n",
       "Frank      60\n",
       "Grace      65\n",
       "Henry      70\n",
       "Name: Person, dtype: int8"
      ]
     },
     "execution_count": 78,
     "metadata": {},
     "output_type": "execute_result"
    }
   ],
   "source": [
    "ps"
   ]
  },
  {
   "cell_type": "markdown",
   "id": "fd07e837-bd2a-46a1-b7d7-be7f2a444d6a",
   "metadata": {},
   "source": [
    "Accessing a Single value by label"
   ]
  },
  {
   "cell_type": "code",
   "execution_count": 79,
   "id": "e7873dab-15c5-49b2-9bc4-8594c80161a2",
   "metadata": {},
   "outputs": [
    {
     "data": {
      "text/plain": [
       "25"
      ]
     },
     "execution_count": 79,
     "metadata": {},
     "output_type": "execute_result"
    }
   ],
   "source": [
    "ps.loc[\"John\"]"
   ]
  },
  {
   "cell_type": "markdown",
   "id": "d7547bb5-e934-4833-b728-e6dd50fe649a",
   "metadata": {},
   "source": [
    "Accessing multiple values by passing the a list of labels."
   ]
  },
  {
   "cell_type": "code",
   "execution_count": 80,
   "id": "f8f148b4-6750-48e1-8e13-136c467f3bfa",
   "metadata": {},
   "outputs": [
    {
     "data": {
      "text/plain": [
       "John    25\n",
       "Bob     35\n",
       "Name: Person, dtype: int8"
      ]
     },
     "execution_count": 80,
     "metadata": {},
     "output_type": "execute_result"
    }
   ],
   "source": [
    "ps.loc[[\"John\", \"Bob\"]]"
   ]
  },
  {
   "cell_type": "markdown",
   "id": "dcb66339-0d8c-4be7-9100-942468afd8a5",
   "metadata": {},
   "source": [
    "Accessing the multiple value by slicing the Series like a list."
   ]
  },
  {
   "cell_type": "code",
   "execution_count": 81,
   "id": "e1eb421a-d599-4f10-9129-ebc2e31486ff",
   "metadata": {},
   "outputs": [
    {
     "data": {
      "text/plain": [
       "Charlie    45\n",
       "David      50\n",
       "Eve        55\n",
       "Frank      60\n",
       "Name: Person, dtype: int8"
      ]
     },
     "execution_count": 81,
     "metadata": {},
     "output_type": "execute_result"
    }
   ],
   "source": [
    "ps.loc[\"Charlie\": \"Frank\"]"
   ]
  },
  {
   "cell_type": "markdown",
   "id": "09feea4d-eb94-400d-8c4f-7b3851579eba",
   "metadata": {},
   "source": [
    "Note: During Slicing the Pandas Series or Dataframe, both the start and stop of th eslice are included."
   ]
  },
  {
   "cell_type": "markdown",
   "id": "4a9218ff-8d5a-42dd-8dc8-5df77fe7b7a8",
   "metadata": {},
   "source": [
    "Filtering the selection with the boolean array.  we can create a boolean array by broadcasting operation on the series.\n",
    "\n",
    "like getting all the person below the 55 age."
   ]
  },
  {
   "cell_type": "code",
   "execution_count": 84,
   "id": "923222d8-aff6-459d-a2d2-8911911d6ec3",
   "metadata": {},
   "outputs": [
    {
     "data": {
      "text/plain": [
       "<PandasArray>\n",
       "[True, True, True, False, False, False, False, False, False, False]\n",
       "Length: 10, dtype: bool"
      ]
     },
     "execution_count": 84,
     "metadata": {},
     "output_type": "execute_result"
    }
   ],
   "source": [
    "# first creating the boolean array.\n",
    "_filter = ps < 40\n",
    "_filter.array"
   ]
  },
  {
   "cell_type": "code",
   "execution_count": 85,
   "id": "e9885f2a-53cd-4e2b-aafe-88ef9e18d394",
   "metadata": {},
   "outputs": [
    {
     "data": {
      "text/plain": [
       "John    25\n",
       "Jane    30\n",
       "Bob     35\n",
       "Name: Person, dtype: int8"
      ]
     },
     "execution_count": 85,
     "metadata": {},
     "output_type": "execute_result"
    }
   ],
   "source": [
    "# Now accessing the element by using the _filter boolean array.\n",
    "ps.loc[_filter]"
   ]
  },
  {
   "cell_type": "markdown",
   "id": "c13fd50c-1de7-4102-acde-a2f761e6d879",
   "metadata": {},
   "source": [
    "Note: `.loc[]` method can be used with both `Pandas.Series` and `Pandas.Dataframe`, we will se more of the operation of `.loc[]` while working with `Pandas.Dataframe`"
   ]
  },
  {
   "cell_type": "markdown",
   "id": "9200f4ae-2c07-4f5b-9143-c4aefd2f8d66",
   "metadata": {},
   "source": [
    "_____\n",
    "**`Series.iloc[]`**\n",
    "\n",
    "Purely integer-location based indexing for selection by position.\n",
    "\n",
    ".iloc[] is primarily integer position based (from 0 to length-1 of the axis), but may also be used with a boolean array.\n",
    "\n",
    "* An integer, e.g. 5.\n",
    "\n",
    "* A list or array of integers, e.g. [4, 3, 0].\n",
    "\n",
    "* A slice object with ints, e.g. 1:7.\n",
    "\n",
    "* A boolean array.\n",
    "\n",
    "* A callable function with one argument (the calling Series or DataFrame) and that returns valid output for indexing (one of the above). This is useful in method chains, when you don’t have a reference to the calling object, but would like to base your selection on some value.\n",
    "\n",
    "* A tuple of row and column indexes. The tuple elements consist of one of the above inputs, e.g. (0, 1).\n",
    "\n",
    "`.iloc` will raise IndexError if a requested indexer is out-of-bounds, except slice indexers which allow out-of-bounds indexing (this conforms with python/numpy slice semantics)."
   ]
  },
  {
   "cell_type": "markdown",
   "id": "879b5ea2-c3f9-4704-a9df-462191b45d59",
   "metadata": {},
   "source": [
    "Accessing a single value by passing its index number."
   ]
  },
  {
   "cell_type": "code",
   "execution_count": 87,
   "id": "673699cf-004d-4c5b-a9db-907db43c8dc2",
   "metadata": {},
   "outputs": [
    {
     "data": {
      "text/plain": [
       "45"
      ]
     },
     "execution_count": 87,
     "metadata": {},
     "output_type": "execute_result"
    }
   ],
   "source": [
    "ps.iloc[4]"
   ]
  },
  {
   "cell_type": "markdown",
   "id": "303739b6-f790-4dcd-bd03-86f25c92dc59",
   "metadata": {},
   "source": [
    "Slicing the series in given range of index."
   ]
  },
  {
   "cell_type": "code",
   "execution_count": 88,
   "id": "1dd1e07b-100b-40dd-b16b-c52dba816c84",
   "metadata": {},
   "outputs": [
    {
     "data": {
      "text/plain": [
       "Alice      40\n",
       "Charlie    45\n",
       "David      50\n",
       "Eve        55\n",
       "Name: Person, dtype: int8"
      ]
     },
     "execution_count": 88,
     "metadata": {},
     "output_type": "execute_result"
    }
   ],
   "source": [
    "ps.iloc[3:7]"
   ]
  },
  {
   "cell_type": "markdown",
   "id": "7a407d70-9d06-4ca0-9d19-dd6a0a9c9efb",
   "metadata": {},
   "source": [
    "_____"
   ]
  },
  {
   "cell_type": "markdown",
   "id": "744fe238-e2c3-4c37-a958-39ba9572d68f",
   "metadata": {},
   "source": [
    "##### `Series.items()` method\n",
    "\n",
    "Lazily iterate over (index, value) tuples.\n",
    "\n",
    "This method returns an iterable tuple (index, value). This is convenient if you want to create a lazy iterator."
   ]
  },
  {
   "cell_type": "code",
   "execution_count": 100,
   "id": "d67130f7-b28b-468d-9e2b-f7cac251fa02",
   "metadata": {},
   "outputs": [
    {
     "name": "stdout",
     "output_type": "stream",
     "text": [
      "John --> 25\n",
      "Jane --> 30\n",
      "Bob --> 35\n",
      "Alice --> 40\n",
      "Charlie --> 45\n",
      "David --> 50\n",
      "Eve --> 55\n",
      "Frank --> 60\n",
      "Grace --> 65\n",
      "Henry --> 70\n"
     ]
    }
   ],
   "source": [
    "for key, value in ps.items():\n",
    "    print(key,\"-->\",value)"
   ]
  },
  {
   "cell_type": "markdown",
   "id": "e7183407-a04a-4545-8e8e-35afa53ac313",
   "metadata": {},
   "source": [
    "____"
   ]
  },
  {
   "cell_type": "markdown",
   "id": "cb003372-4015-411d-9b69-9031e6d4c3f6",
   "metadata": {},
   "source": [
    "##### `Series.keys()` method\n",
    "\n",
    "Return alias for index."
   ]
  },
  {
   "cell_type": "code",
   "execution_count": 101,
   "id": "017a39fb-7f51-49be-8539-48f1d443e8aa",
   "metadata": {},
   "outputs": [
    {
     "data": {
      "text/plain": [
       "Index(['John', 'Jane', 'Bob', 'Alice', 'Charlie', 'David', 'Eve', 'Frank',\n",
       "       'Grace', 'Henry'],\n",
       "      dtype='object')"
      ]
     },
     "execution_count": 101,
     "metadata": {},
     "output_type": "execute_result"
    }
   ],
   "source": [
    "ps.keys()"
   ]
  },
  {
   "cell_type": "markdown",
   "id": "861cad97-d56f-45fb-b958-846d4f822515",
   "metadata": {},
   "source": [
    "##### `Series.pop()` method\n",
    "Return item and drops fr4om series. Raise KeyError if not found."
   ]
  },
  {
   "cell_type": "code",
   "execution_count": 105,
   "id": "99eba3e2-dc44-4c70-8366-0ebbfc2f5ba9",
   "metadata": {},
   "outputs": [
    {
     "data": {
      "text/plain": [
       "0    1\n",
       "1    2\n",
       "2    3\n",
       "dtype: int64"
      ]
     },
     "execution_count": 105,
     "metadata": {},
     "output_type": "execute_result"
    }
   ],
   "source": [
    "ser = pd.Series([1,2,3])\n",
    "ser"
   ]
  },
  {
   "cell_type": "code",
   "execution_count": 106,
   "id": "6099b784-9d7d-4481-9f07-9111473dd4aa",
   "metadata": {},
   "outputs": [
    {
     "data": {
      "text/plain": [
       "1"
      ]
     },
     "execution_count": 106,
     "metadata": {},
     "output_type": "execute_result"
    }
   ],
   "source": [
    "ser.pop(0)"
   ]
  },
  {
   "cell_type": "code",
   "execution_count": 107,
   "id": "800e97c0-fd46-4679-b2ea-7b6ea774756a",
   "metadata": {},
   "outputs": [
    {
     "data": {
      "text/plain": [
       "1    2\n",
       "2    3\n",
       "dtype: int64"
      ]
     },
     "execution_count": 107,
     "metadata": {},
     "output_type": "execute_result"
    }
   ],
   "source": [
    "ser"
   ]
  },
  {
   "cell_type": "markdown",
   "id": "abdd8626-add7-46ca-8632-133b4fa1fb3b",
   "metadata": {},
   "source": [
    "_____\n",
    "_____"
   ]
  },
  {
   "cell_type": "markdown",
   "id": "6475f115-5a24-4091-9d05-05a8b07a47b3",
   "metadata": {},
   "source": [
    "# Reindexing / Selection / Label Manipulation\n",
    "\n",
    "Note: in this section we will work on the real dataset, we have a carSale dataset which contains many fields. but only from them we need a series. so we will get the "
   ]
  },
  {
   "cell_type": "code",
   "execution_count": 112,
   "id": "c62fd894-9fb3-4844-a6c1-5e4e98e6a09a",
   "metadata": {},
   "outputs": [],
   "source": [
    "carSale = pd.read_csv(\"./Carsales_dataset.csv\")"
   ]
  },
  {
   "cell_type": "code",
   "execution_count": 113,
   "id": "ae0cc3ca-ad77-4adc-9f0b-7c9637013f76",
   "metadata": {},
   "outputs": [
    {
     "data": {
      "text/html": [
       "<div>\n",
       "<style scoped>\n",
       "    .dataframe tbody tr th:only-of-type {\n",
       "        vertical-align: middle;\n",
       "    }\n",
       "\n",
       "    .dataframe tbody tr th {\n",
       "        vertical-align: top;\n",
       "    }\n",
       "\n",
       "    .dataframe thead th {\n",
       "        text-align: right;\n",
       "    }\n",
       "</style>\n",
       "<table border=\"1\" class=\"dataframe\">\n",
       "  <thead>\n",
       "    <tr style=\"text-align: right;\">\n",
       "      <th></th>\n",
       "      <th>Manufacturer</th>\n",
       "      <th>Model</th>\n",
       "      <th>Sales_in_thousands</th>\n",
       "      <th>__year_resale_value</th>\n",
       "      <th>Vehicle_type</th>\n",
       "      <th>Price_in_thousands</th>\n",
       "      <th>Engine_size</th>\n",
       "      <th>Horsepower</th>\n",
       "      <th>Wheelbase</th>\n",
       "      <th>Width</th>\n",
       "      <th>Length</th>\n",
       "      <th>Curb_weight</th>\n",
       "      <th>Fuel_capacity</th>\n",
       "      <th>Fuel_efficiency</th>\n",
       "      <th>Latest_Launch</th>\n",
       "      <th>Power_perf_factor</th>\n",
       "    </tr>\n",
       "  </thead>\n",
       "  <tbody>\n",
       "    <tr>\n",
       "      <th>0</th>\n",
       "      <td>Acura</td>\n",
       "      <td>Integra</td>\n",
       "      <td>16.919</td>\n",
       "      <td>16.360</td>\n",
       "      <td>Passenger</td>\n",
       "      <td>21.50</td>\n",
       "      <td>1.8</td>\n",
       "      <td>140.0</td>\n",
       "      <td>101.2</td>\n",
       "      <td>67.3</td>\n",
       "      <td>172.4</td>\n",
       "      <td>2.639</td>\n",
       "      <td>13.2</td>\n",
       "      <td>28.0</td>\n",
       "      <td>02-02-2012</td>\n",
       "      <td>58.280150</td>\n",
       "    </tr>\n",
       "    <tr>\n",
       "      <th>1</th>\n",
       "      <td>Acura</td>\n",
       "      <td>TL</td>\n",
       "      <td>39.384</td>\n",
       "      <td>19.875</td>\n",
       "      <td>Passenger</td>\n",
       "      <td>28.40</td>\n",
       "      <td>3.2</td>\n",
       "      <td>225.0</td>\n",
       "      <td>108.1</td>\n",
       "      <td>70.3</td>\n",
       "      <td>192.9</td>\n",
       "      <td>3.517</td>\n",
       "      <td>17.2</td>\n",
       "      <td>25.0</td>\n",
       "      <td>06-03-2011</td>\n",
       "      <td>91.370778</td>\n",
       "    </tr>\n",
       "    <tr>\n",
       "      <th>2</th>\n",
       "      <td>Acura</td>\n",
       "      <td>CL</td>\n",
       "      <td>14.114</td>\n",
       "      <td>18.225</td>\n",
       "      <td>Passenger</td>\n",
       "      <td>NaN</td>\n",
       "      <td>3.2</td>\n",
       "      <td>225.0</td>\n",
       "      <td>106.9</td>\n",
       "      <td>70.6</td>\n",
       "      <td>192.0</td>\n",
       "      <td>3.470</td>\n",
       "      <td>17.2</td>\n",
       "      <td>26.0</td>\n",
       "      <td>01-04-2012</td>\n",
       "      <td>NaN</td>\n",
       "    </tr>\n",
       "    <tr>\n",
       "      <th>3</th>\n",
       "      <td>Acura</td>\n",
       "      <td>RL</td>\n",
       "      <td>8.588</td>\n",
       "      <td>29.725</td>\n",
       "      <td>Passenger</td>\n",
       "      <td>42.00</td>\n",
       "      <td>3.5</td>\n",
       "      <td>210.0</td>\n",
       "      <td>114.6</td>\n",
       "      <td>71.4</td>\n",
       "      <td>196.6</td>\n",
       "      <td>3.850</td>\n",
       "      <td>18.0</td>\n",
       "      <td>22.0</td>\n",
       "      <td>03-10-2011</td>\n",
       "      <td>91.389779</td>\n",
       "    </tr>\n",
       "    <tr>\n",
       "      <th>4</th>\n",
       "      <td>Audi</td>\n",
       "      <td>A4</td>\n",
       "      <td>20.397</td>\n",
       "      <td>22.255</td>\n",
       "      <td>Passenger</td>\n",
       "      <td>23.99</td>\n",
       "      <td>1.8</td>\n",
       "      <td>150.0</td>\n",
       "      <td>102.6</td>\n",
       "      <td>68.2</td>\n",
       "      <td>178.0</td>\n",
       "      <td>2.998</td>\n",
       "      <td>16.4</td>\n",
       "      <td>27.0</td>\n",
       "      <td>10-08-2011</td>\n",
       "      <td>62.777639</td>\n",
       "    </tr>\n",
       "  </tbody>\n",
       "</table>\n",
       "</div>"
      ],
      "text/plain": [
       "  Manufacturer    Model  Sales_in_thousands  __year_resale_value Vehicle_type  \\\n",
       "0        Acura  Integra              16.919               16.360    Passenger   \n",
       "1        Acura       TL              39.384               19.875    Passenger   \n",
       "2        Acura       CL              14.114               18.225    Passenger   \n",
       "3        Acura       RL               8.588               29.725    Passenger   \n",
       "4         Audi       A4              20.397               22.255    Passenger   \n",
       "\n",
       "   Price_in_thousands  Engine_size  Horsepower  Wheelbase  Width  Length  \\\n",
       "0               21.50          1.8       140.0      101.2   67.3   172.4   \n",
       "1               28.40          3.2       225.0      108.1   70.3   192.9   \n",
       "2                 NaN          3.2       225.0      106.9   70.6   192.0   \n",
       "3               42.00          3.5       210.0      114.6   71.4   196.6   \n",
       "4               23.99          1.8       150.0      102.6   68.2   178.0   \n",
       "\n",
       "   Curb_weight  Fuel_capacity  Fuel_efficiency Latest_Launch  \\\n",
       "0        2.639           13.2             28.0    02-02-2012   \n",
       "1        3.517           17.2             25.0    06-03-2011   \n",
       "2        3.470           17.2             26.0    01-04-2012   \n",
       "3        3.850           18.0             22.0    03-10-2011   \n",
       "4        2.998           16.4             27.0    10-08-2011   \n",
       "\n",
       "   Power_perf_factor  \n",
       "0          58.280150  \n",
       "1          91.370778  \n",
       "2                NaN  \n",
       "3          91.389779  \n",
       "4          62.777639  "
      ]
     },
     "execution_count": 113,
     "metadata": {},
     "output_type": "execute_result"
    }
   ],
   "source": [
    "carSale.head()"
   ]
  },
  {
   "cell_type": "code",
   "execution_count": null,
   "id": "6a3b20db-bd83-4e68-97ff-6d74dae81c31",
   "metadata": {},
   "outputs": [],
   "source": []
  }
 ],
 "metadata": {
  "kernelspec": {
   "display_name": "Python 3 (ipykernel)",
   "language": "python",
   "name": "python3"
  },
  "language_info": {
   "codemirror_mode": {
    "name": "ipython",
    "version": 3
   },
   "file_extension": ".py",
   "mimetype": "text/x-python",
   "name": "python",
   "nbconvert_exporter": "python",
   "pygments_lexer": "ipython3",
   "version": "3.10.5"
  },
  "toc-autonumbering": false,
  "toc-showcode": false,
  "toc-showmarkdowntxt": false
 },
 "nbformat": 4,
 "nbformat_minor": 5
}
