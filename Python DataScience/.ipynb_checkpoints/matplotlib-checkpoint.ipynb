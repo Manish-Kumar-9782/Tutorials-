{
 "cells": [
  {
   "cell_type": "code",
   "execution_count": 55,
   "id": "112caad5-a626-4be7-9625-36725841028d",
   "metadata": {},
   "outputs": [],
   "source": [
    "import pandas as pd\n",
    "import matplotlib.pyplot as plt\n",
    "import numpy as np"
   ]
  },
  {
   "cell_type": "code",
   "execution_count": 56,
   "id": "0e0249fb-6e1a-4542-86ec-b4bb2b503f0a",
   "metadata": {},
   "outputs": [],
   "source": [
    "import math"
   ]
  },
  {
   "cell_type": "code",
   "execution_count": null,
   "id": "f0308b98-f806-4e74-aaff-0d0ac1c2e53e",
   "metadata": {},
   "outputs": [],
   "source": []
  },
  {
   "cell_type": "code",
   "execution_count": 2,
   "id": "de34f7fe-0e4a-4bcc-a2ee-78fce810c087",
   "metadata": {},
   "outputs": [],
   "source": [
    "plt.style.use(\"ggplot\")"
   ]
  },
  {
   "cell_type": "code",
   "execution_count": 3,
   "id": "b8760e2c-28eb-488c-9348-b729644d9faf",
   "metadata": {},
   "outputs": [],
   "source": [
    "df = pd.read_csv(\"./datasets/pizza_delivery.csv\")"
   ]
  },
  {
   "cell_type": "code",
   "execution_count": 4,
   "id": "bd888c59-8b1b-47c1-adad-2628a7f67903",
   "metadata": {},
   "outputs": [
    {
     "data": {
      "text/html": [
       "<div>\n",
       "<style scoped>\n",
       "    .dataframe tbody tr th:only-of-type {\n",
       "        vertical-align: middle;\n",
       "    }\n",
       "\n",
       "    .dataframe tbody tr th {\n",
       "        vertical-align: top;\n",
       "    }\n",
       "\n",
       "    .dataframe thead th {\n",
       "        text-align: right;\n",
       "    }\n",
       "</style>\n",
       "<table border=\"1\" class=\"dataframe\">\n",
       "  <thead>\n",
       "    <tr style=\"text-align: right;\">\n",
       "      <th></th>\n",
       "      <th>day</th>\n",
       "      <th>date</th>\n",
       "      <th>time</th>\n",
       "      <th>operator</th>\n",
       "      <th>branch</th>\n",
       "      <th>driver</th>\n",
       "      <th>temperature</th>\n",
       "      <th>bill</th>\n",
       "      <th>pizzas</th>\n",
       "      <th>free_wine</th>\n",
       "      <th>got_wine</th>\n",
       "      <th>discount_customer</th>\n",
       "    </tr>\n",
       "  </thead>\n",
       "  <tbody>\n",
       "    <tr>\n",
       "      <th>0</th>\n",
       "      <td>Thursday</td>\n",
       "      <td>01-May-14</td>\n",
       "      <td>35.128367</td>\n",
       "      <td>Laura</td>\n",
       "      <td>East</td>\n",
       "      <td>Bruno</td>\n",
       "      <td>68.287716</td>\n",
       "      <td>58.4</td>\n",
       "      <td>4</td>\n",
       "      <td>0</td>\n",
       "      <td>0</td>\n",
       "      <td>1</td>\n",
       "    </tr>\n",
       "    <tr>\n",
       "      <th>1</th>\n",
       "      <td>Thursday</td>\n",
       "      <td>01-May-14</td>\n",
       "      <td>25.203074</td>\n",
       "      <td>Melissa</td>\n",
       "      <td>East</td>\n",
       "      <td>Salvatore</td>\n",
       "      <td>70.997791</td>\n",
       "      <td>26.4</td>\n",
       "      <td>2</td>\n",
       "      <td>0</td>\n",
       "      <td>0</td>\n",
       "      <td>0</td>\n",
       "    </tr>\n",
       "    <tr>\n",
       "      <th>2</th>\n",
       "      <td>Thursday</td>\n",
       "      <td>01-May-14</td>\n",
       "      <td>45.643404</td>\n",
       "      <td>Melissa</td>\n",
       "      <td>West</td>\n",
       "      <td>Salvatore</td>\n",
       "      <td>53.394145</td>\n",
       "      <td>58.1</td>\n",
       "      <td>3</td>\n",
       "      <td>1</td>\n",
       "      <td>0</td>\n",
       "      <td>0</td>\n",
       "    </tr>\n",
       "    <tr>\n",
       "      <th>3</th>\n",
       "      <td>Thursday</td>\n",
       "      <td>01-May-14</td>\n",
       "      <td>29.374298</td>\n",
       "      <td>Melissa</td>\n",
       "      <td>East</td>\n",
       "      <td>Salvatore</td>\n",
       "      <td>70.306596</td>\n",
       "      <td>35.2</td>\n",
       "      <td>3</td>\n",
       "      <td>0</td>\n",
       "      <td>0</td>\n",
       "      <td>0</td>\n",
       "    </tr>\n",
       "    <tr>\n",
       "      <th>4</th>\n",
       "      <td>Thursday</td>\n",
       "      <td>01-May-14</td>\n",
       "      <td>29.994610</td>\n",
       "      <td>Melissa</td>\n",
       "      <td>West</td>\n",
       "      <td>Salvatore</td>\n",
       "      <td>71.501688</td>\n",
       "      <td>38.4</td>\n",
       "      <td>2</td>\n",
       "      <td>0</td>\n",
       "      <td>0</td>\n",
       "      <td>0</td>\n",
       "    </tr>\n",
       "  </tbody>\n",
       "</table>\n",
       "</div>"
      ],
      "text/plain": [
       "        day       date       time operator branch     driver  temperature  \\\n",
       "0  Thursday  01-May-14  35.128367    Laura   East      Bruno    68.287716   \n",
       "1  Thursday  01-May-14  25.203074  Melissa   East  Salvatore    70.997791   \n",
       "2  Thursday  01-May-14  45.643404  Melissa   West  Salvatore    53.394145   \n",
       "3  Thursday  01-May-14  29.374298  Melissa   East  Salvatore    70.306596   \n",
       "4  Thursday  01-May-14  29.994610  Melissa   West  Salvatore    71.501688   \n",
       "\n",
       "   bill  pizzas  free_wine  got_wine  discount_customer  \n",
       "0  58.4       4          0         0                  1  \n",
       "1  26.4       2          0         0                  0  \n",
       "2  58.1       3          1         0                  0  \n",
       "3  35.2       3          0         0                  0  \n",
       "4  38.4       2          0         0                  0  "
      ]
     },
     "execution_count": 4,
     "metadata": {},
     "output_type": "execute_result"
    }
   ],
   "source": [
    "df.head()"
   ]
  },
  {
   "cell_type": "code",
   "execution_count": 5,
   "id": "9c857e1c-76f1-4c5d-8ece-4eaf9b591eee",
   "metadata": {},
   "outputs": [
    {
     "data": {
      "text/plain": [
       "(1266, 12)"
      ]
     },
     "execution_count": 5,
     "metadata": {},
     "output_type": "execute_result"
    }
   ],
   "source": [
    "df.shape"
   ]
  },
  {
   "cell_type": "code",
   "execution_count": 6,
   "id": "b2ad89fb-49b2-422a-87eb-0d7e2b2b8017",
   "metadata": {},
   "outputs": [
    {
     "data": {
      "text/plain": [
       "<matplotlib.collections.LineCollection at 0x1c5a8db9ba0>"
      ]
     },
     "execution_count": 6,
     "metadata": {},
     "output_type": "execute_result"
    },
    {
     "data": {
      "image/png": "[encoded data removed]",
      "text/plain": [
       "<Figure size 640x480 with 1 Axes>"
      ]
     },
     "metadata": {},
     "output_type": "display_data"
    }
   ],
   "source": [
    "df.temperature.plot.hist();\n",
    "plt.vlines(df.temperature.mean(), 0,300, color=\"red\")"
   ]
  },
  {
   "cell_type": "markdown",
   "id": "910ade3a-23dc-4ba7-97a1-f0ab91fc2f7d",
   "metadata": {
    "tags": []
   },
   "source": [
    "### Frequency table"
   ]
  },
  {
   "cell_type": "code",
   "execution_count": 7,
   "id": "5805ac60-3639-4d72-8779-1887c84bec26",
   "metadata": {},
   "outputs": [],
   "source": [
    "frequencies, groups =   np.histogram(df.temperature)"
   ]
  },
  {
   "cell_type": "code",
   "execution_count": 8,
   "id": "f3c13cb1-bddd-4e8b-a2d1-b9705c37cd29",
   "metadata": {},
   "outputs": [
    {
     "data": {
      "text/plain": [
       "array([  7,  46, 122, 270, 323, 284, 140,  54,  14,   6], dtype=int64)"
      ]
     },
     "execution_count": 8,
     "metadata": {},
     "output_type": "execute_result"
    }
   ],
   "source": [
    "frequencies"
   ]
  },
  {
   "cell_type": "code",
   "execution_count": 9,
   "id": "c2804eea-785d-4d87-8b57-91d166ac559c",
   "metadata": {},
   "outputs": [
    {
     "data": {
      "text/plain": [
       "array([41.75871798, 46.34108839, 50.9234588 , 55.5058292 , 60.08819961,\n",
       "       64.67057002, 69.25294043, 73.83531084, 78.41768124, 83.00005165,\n",
       "       87.58242206])"
      ]
     },
     "execution_count": 9,
     "metadata": {},
     "output_type": "execute_result"
    }
   ],
   "source": [
    "groups"
   ]
  },
  {
   "cell_type": "code",
   "execution_count": 10,
   "id": "0622d5d1-7688-49c2-8fa8-13ee362726f6",
   "metadata": {},
   "outputs": [
    {
     "data": {
      "text/plain": [
       "(10,)"
      ]
     },
     "execution_count": 10,
     "metadata": {},
     "output_type": "execute_result"
    }
   ],
   "source": [
    "frequencies.shape"
   ]
  },
  {
   "cell_type": "code",
   "execution_count": 11,
   "id": "c268e047-4dfc-4787-ac33-71a114cbd4ec",
   "metadata": {},
   "outputs": [
    {
     "data": {
      "text/plain": [
       "(11,)"
      ]
     },
     "execution_count": 11,
     "metadata": {},
     "output_type": "execute_result"
    }
   ],
   "source": [
    "groups.shape"
   ]
  },
  {
   "cell_type": "code",
   "execution_count": 12,
   "id": "9fcc6053-97bb-4ad3-a8f1-16c7db6cda1d",
   "metadata": {},
   "outputs": [],
   "source": [
    "frequencies, groups =   np.histogram(df.temperature, bins=10)\n",
    "table =  {f\"{groups[i]:.2f}-{groups[i+1]:.2f}\":frequencies[i]  for i in range(len(frequencies))}"
   ]
  },
  {
   "cell_type": "code",
   "execution_count": 13,
   "id": "0f7fac8b-b496-4611-905c-5ac038db04ff",
   "metadata": {},
   "outputs": [
    {
     "data": {
      "text/plain": [
       "41.76-46.34      7\n",
       "46.34-50.92     46\n",
       "50.92-55.51    122\n",
       "55.51-60.09    270\n",
       "60.09-64.67    323\n",
       "64.67-69.25    284\n",
       "69.25-73.84    140\n",
       "73.84-78.42     54\n",
       "78.42-83.00     14\n",
       "83.00-87.58      6\n",
       "dtype: int64"
      ]
     },
     "execution_count": 13,
     "metadata": {},
     "output_type": "execute_result"
    }
   ],
   "source": [
    "frequencty_table =  pd.Series(table)\n",
    "frequencty_table"
   ]
  },
  {
   "cell_type": "code",
   "execution_count": null,
   "id": "eb8b8235-1dbb-4713-bdad-4d8d14717820",
   "metadata": {},
   "outputs": [],
   "source": []
  },
  {
   "cell_type": "code",
   "execution_count": 14,
   "id": "fd96300f-c03d-4daf-9e3a-0fbafb7f3f1e",
   "metadata": {},
   "outputs": [
    {
     "data": {
      "text/plain": [
       "62.86394976242496"
      ]
     },
     "execution_count": 14,
     "metadata": {},
     "output_type": "execute_result"
    }
   ],
   "source": [
    "df.temperature.mean()"
   ]
  },
  {
   "cell_type": "code",
   "execution_count": 15,
   "id": "ad95c615-60db-4725-a390-4520e6b92132",
   "metadata": {},
   "outputs": [
    {
     "data": {
      "text/plain": [
       "62.92665713"
      ]
     },
     "execution_count": 15,
     "metadata": {},
     "output_type": "execute_result"
    }
   ],
   "source": [
    "df.temperature.median()"
   ]
  },
  {
   "cell_type": "code",
   "execution_count": 16,
   "id": "bc2579a9-5ee6-4766-9ef7-80e7c4bf800d",
   "metadata": {},
   "outputs": [
    {
     "data": {
      "text/plain": [
       "-0.0627073675750438"
      ]
     },
     "execution_count": 16,
     "metadata": {},
     "output_type": "execute_result"
    }
   ],
   "source": [
    "df.temperature.mean() - df.temperature.median()"
   ]
  },
  {
   "cell_type": "code",
   "execution_count": 17,
   "id": "a8c9ebd9-66ab-4cf7-9d40-5ff382a12dad",
   "metadata": {},
   "outputs": [
    {
     "data": {
      "text/plain": [
       "6.9057076612181785"
      ]
     },
     "execution_count": 17,
     "metadata": {},
     "output_type": "execute_result"
    }
   ],
   "source": [
    "df.temperature.std()"
   ]
  },
  {
   "cell_type": "markdown",
   "id": "e654986c-e5db-457d-aea3-28a253faebbc",
   "metadata": {},
   "source": [
    "### relative frequenct table"
   ]
  },
  {
   "cell_type": "code",
   "execution_count": 18,
   "id": "93fe34bb-3a29-4627-b073-00e6e26ca7a0",
   "metadata": {},
   "outputs": [
    {
     "data": {
      "text/plain": [
       "41.76-46.34      7\n",
       "46.34-50.92     46\n",
       "50.92-55.51    122\n",
       "55.51-60.09    270\n",
       "60.09-64.67    323\n",
       "64.67-69.25    284\n",
       "69.25-73.84    140\n",
       "73.84-78.42     54\n",
       "78.42-83.00     14\n",
       "83.00-87.58      6\n",
       "dtype: int64"
      ]
     },
     "execution_count": 18,
     "metadata": {},
     "output_type": "execute_result"
    }
   ],
   "source": [
    "frequencies, groups =   np.histogram(df.temperature)\n",
    "table =  {f\"{groups[i]:.2f}-{groups[i+1]:.2f}\":frequencies[i]  for i in range(10)}\n",
    "rfrequency_table =  pd.Series(table)\n",
    "rfrequency_table"
   ]
  },
  {
   "cell_type": "code",
   "execution_count": 19,
   "id": "289fc6da-c560-45bf-9b5e-fc0158816118",
   "metadata": {},
   "outputs": [],
   "source": [
    "table_x = pd.DataFrame({\"Frequency Table\":frequencty_table, \"Relative Frequency Table\": frequencty_table/frequencty_table.sum()*100})"
   ]
  },
  {
   "cell_type": "code",
   "execution_count": 20,
   "id": "dbfbafcd-b7af-44d6-a981-8da746c14db7",
   "metadata": {},
   "outputs": [
    {
     "data": {
      "text/html": [
       "<div>\n",
       "<style scoped>\n",
       "    .dataframe tbody tr th:only-of-type {\n",
       "        vertical-align: middle;\n",
       "    }\n",
       "\n",
       "    .dataframe tbody tr th {\n",
       "        vertical-align: top;\n",
       "    }\n",
       "\n",
       "    .dataframe thead th {\n",
       "        text-align: right;\n",
       "    }\n",
       "</style>\n",
       "<table border=\"1\" class=\"dataframe\">\n",
       "  <thead>\n",
       "    <tr style=\"text-align: right;\">\n",
       "      <th></th>\n",
       "      <th>Frequency Table</th>\n",
       "      <th>Relative Frequency Table</th>\n",
       "    </tr>\n",
       "  </thead>\n",
       "  <tbody>\n",
       "    <tr>\n",
       "      <th>41.76-46.34</th>\n",
       "      <td>7</td>\n",
       "      <td>0.552923</td>\n",
       "    </tr>\n",
       "    <tr>\n",
       "      <th>46.34-50.92</th>\n",
       "      <td>46</td>\n",
       "      <td>3.633491</td>\n",
       "    </tr>\n",
       "    <tr>\n",
       "      <th>50.92-55.51</th>\n",
       "      <td>122</td>\n",
       "      <td>9.636651</td>\n",
       "    </tr>\n",
       "    <tr>\n",
       "      <th>55.51-60.09</th>\n",
       "      <td>270</td>\n",
       "      <td>21.327014</td>\n",
       "    </tr>\n",
       "    <tr>\n",
       "      <th>60.09-64.67</th>\n",
       "      <td>323</td>\n",
       "      <td>25.513428</td>\n",
       "    </tr>\n",
       "    <tr>\n",
       "      <th>64.67-69.25</th>\n",
       "      <td>284</td>\n",
       "      <td>22.432859</td>\n",
       "    </tr>\n",
       "    <tr>\n",
       "      <th>69.25-73.84</th>\n",
       "      <td>140</td>\n",
       "      <td>11.058452</td>\n",
       "    </tr>\n",
       "    <tr>\n",
       "      <th>73.84-78.42</th>\n",
       "      <td>54</td>\n",
       "      <td>4.265403</td>\n",
       "    </tr>\n",
       "    <tr>\n",
       "      <th>78.42-83.00</th>\n",
       "      <td>14</td>\n",
       "      <td>1.105845</td>\n",
       "    </tr>\n",
       "    <tr>\n",
       "      <th>83.00-87.58</th>\n",
       "      <td>6</td>\n",
       "      <td>0.473934</td>\n",
       "    </tr>\n",
       "  </tbody>\n",
       "</table>\n",
       "</div>"
      ],
      "text/plain": [
       "             Frequency Table  Relative Frequency Table\n",
       "41.76-46.34                7                  0.552923\n",
       "46.34-50.92               46                  3.633491\n",
       "50.92-55.51              122                  9.636651\n",
       "55.51-60.09              270                 21.327014\n",
       "60.09-64.67              323                 25.513428\n",
       "64.67-69.25              284                 22.432859\n",
       "69.25-73.84              140                 11.058452\n",
       "73.84-78.42               54                  4.265403\n",
       "78.42-83.00               14                  1.105845\n",
       "83.00-87.58                6                  0.473934"
      ]
     },
     "execution_count": 20,
     "metadata": {},
     "output_type": "execute_result"
    }
   ],
   "source": [
    "table_x"
   ]
  },
  {
   "cell_type": "code",
   "execution_count": 21,
   "id": "5d164a3a-d92b-4c47-9088-79de24ee6de8",
   "metadata": {},
   "outputs": [
    {
     "data": {
      "text/plain": [
       "99.99999999999999"
      ]
     },
     "execution_count": 21,
     "metadata": {},
     "output_type": "execute_result"
    }
   ],
   "source": [
    "table_x[\"Relative Frequency Table\"].sum()"
   ]
  },
  {
   "cell_type": "code",
   "execution_count": 22,
   "id": "ea6717c8-c67b-403c-a9dc-f38160f5c02f",
   "metadata": {},
   "outputs": [
    {
     "data": {
      "image/png": "[encoded data removed]",
      "text/plain": [
       "<Figure size 640x480 with 1 Axes>"
      ]
     },
     "metadata": {},
     "output_type": "display_data"
    }
   ],
   "source": [
    "df.temperature.plot.hist(density=True, bins=50);"
   ]
  },
  {
   "cell_type": "code",
   "execution_count": null,
   "id": "2167bcfd-1435-4b93-8b06-0326ec5ddaf8",
   "metadata": {},
   "outputs": [],
   "source": []
  },
  {
   "cell_type": "markdown",
   "id": "bf4ab0fd-aab1-4709-97fa-476bb837e584",
   "metadata": {},
   "source": [
    "## histogram for time and bill"
   ]
  },
  {
   "cell_type": "code",
   "execution_count": 23,
   "id": "b6310d5e-3b25-4c78-8906-277abd268de2",
   "metadata": {},
   "outputs": [
    {
     "data": {
      "text/plain": [
       "<Axes: ylabel='Frequency'>"
      ]
     },
     "execution_count": 23,
     "metadata": {},
     "output_type": "execute_result"
    },
    {
     "data": {
      "image/png": "[encoded data removed]",
      "text/plain": [
       "<Figure size 640x480 with 1 Axes>"
      ]
     },
     "metadata": {},
     "output_type": "display_data"
    }
   ],
   "source": [
    "df.time.plot.hist(bins=30)"
   ]
  },
  {
   "cell_type": "code",
   "execution_count": 24,
   "id": "37a5cb33-b61a-4dc9-8100-66a12c4ec6fd",
   "metadata": {},
   "outputs": [
    {
     "data": {
      "text/plain": [
       "<Axes: ylabel='Frequency'>"
      ]
     },
     "execution_count": 24,
     "metadata": {},
     "output_type": "execute_result"
    },
    {
     "data": {
      "image/png": "[encoded data removed]",
      "text/plain": [
       "<Figure size 640x480 with 1 Axes>"
      ]
     },
     "metadata": {},
     "output_type": "display_data"
    }
   ],
   "source": [
    "df.bill.plot.hist(bins=30)"
   ]
  },
  {
   "cell_type": "markdown",
   "id": "1ce96f01-11db-419f-ae0e-795c162b83b2",
   "metadata": {},
   "source": [
    "## plotting temprature, time and bill histogram"
   ]
  },
  {
   "cell_type": "code",
   "execution_count": 25,
   "id": "08a6ff0b-8ac8-4d40-8f12-95ff9bb57477",
   "metadata": {},
   "outputs": [
    {
     "data": {
      "text/plain": [
       "<matplotlib.legend.Legend at 0x1c5ac45db10>"
      ]
     },
     "execution_count": 25,
     "metadata": {},
     "output_type": "execute_result"
    },
    {
     "data": {
      "image/png": "[encoded data removed]",
      "text/plain": [
       "<Figure size 1500x700 with 4 Axes>"
      ]
     },
     "metadata": {},
     "output_type": "display_data"
    }
   ],
   "source": [
    "fig, axeses =  plt.subplots(figsize=(15,7), ncols=2, nrows=2, tight_layout=True)\n",
    "\n",
    "((axes1, axes2), (axes3, axes4)) = axeses\n",
    "\n",
    "axes1.hist(df.time, bins=30)\n",
    "axes1.set_title(\"time histogram\")\n",
    "axes1.set_xlabel(\"time\")\n",
    "axes1.set_ylabel(\"frequency\")\n",
    "axes1.vlines(df.time.mean(), 0, 100, color='green', label=\"mean\")\n",
    "axes1.vlines(df.time.median(), 0, 100, color='yellow', label=\"median\")\n",
    "axes1.legend()\n",
    "\n",
    "\n",
    "axes2.hist(df.temperature, bins=30)\n",
    "axes2.set_title(\"temperature histogram\")\n",
    "axes2.set_xlabel(\"temperature\")\n",
    "axes2.set_ylabel(\"frequency\")\n",
    "axes2.vlines(df.temperature.mean(), 0, 100, color='green', label=\"mean\")\n",
    "axes2.vlines(df.temperature.median(), 0, 100, color='yellow', label=\"median\")\n",
    "axes2.legend()\n",
    "\n",
    "\n",
    "axes3.hist(df.bill, bins=30)\n",
    "axes3.set_title(\"bill histogram\")\n",
    "axes3.set_xlabel(\"bill\")\n",
    "axes3.set_ylabel(\"frequency\")\n",
    "axes3.vlines(df.bill.mean(), 0, 100, color='green', label=\"mean\")\n",
    "axes3.vlines(df.bill.median(), 0, 100, color='yellow', label=\"median\")\n",
    "\n",
    "axes3.legend()\n",
    "\n"
   ]
  },
  {
   "cell_type": "markdown",
   "id": "e7949b24-f81a-4ca4-ba73-1bf5a90ea7ba",
   "metadata": {},
   "source": [
    "## Spreading of data\n",
    "\n",
    "1. range\n",
    "2. standard deviation\n",
    "3. variance"
   ]
  },
  {
   "cell_type": "code",
   "execution_count": 26,
   "id": "4048a2a5-8d62-4493-ad51-d851142e7d95",
   "metadata": {},
   "outputs": [
    {
     "data": {
      "text/html": [
       "<div>\n",
       "<style scoped>\n",
       "    .dataframe tbody tr th:only-of-type {\n",
       "        vertical-align: middle;\n",
       "    }\n",
       "\n",
       "    .dataframe tbody tr th {\n",
       "        vertical-align: top;\n",
       "    }\n",
       "\n",
       "    .dataframe thead th {\n",
       "        text-align: right;\n",
       "    }\n",
       "</style>\n",
       "<table border=\"1\" class=\"dataframe\">\n",
       "  <thead>\n",
       "    <tr style=\"text-align: right;\">\n",
       "      <th></th>\n",
       "      <th>day</th>\n",
       "      <th>date</th>\n",
       "      <th>time</th>\n",
       "      <th>operator</th>\n",
       "      <th>branch</th>\n",
       "      <th>driver</th>\n",
       "      <th>temperature</th>\n",
       "      <th>bill</th>\n",
       "      <th>pizzas</th>\n",
       "      <th>free_wine</th>\n",
       "      <th>got_wine</th>\n",
       "      <th>discount_customer</th>\n",
       "    </tr>\n",
       "  </thead>\n",
       "  <tbody>\n",
       "    <tr>\n",
       "      <th>0</th>\n",
       "      <td>Thursday</td>\n",
       "      <td>01-May-14</td>\n",
       "      <td>35.128367</td>\n",
       "      <td>Laura</td>\n",
       "      <td>East</td>\n",
       "      <td>Bruno</td>\n",
       "      <td>68.287716</td>\n",
       "      <td>58.4</td>\n",
       "      <td>4</td>\n",
       "      <td>0</td>\n",
       "      <td>0</td>\n",
       "      <td>1</td>\n",
       "    </tr>\n",
       "    <tr>\n",
       "      <th>1</th>\n",
       "      <td>Thursday</td>\n",
       "      <td>01-May-14</td>\n",
       "      <td>25.203074</td>\n",
       "      <td>Melissa</td>\n",
       "      <td>East</td>\n",
       "      <td>Salvatore</td>\n",
       "      <td>70.997791</td>\n",
       "      <td>26.4</td>\n",
       "      <td>2</td>\n",
       "      <td>0</td>\n",
       "      <td>0</td>\n",
       "      <td>0</td>\n",
       "    </tr>\n",
       "    <tr>\n",
       "      <th>2</th>\n",
       "      <td>Thursday</td>\n",
       "      <td>01-May-14</td>\n",
       "      <td>45.643404</td>\n",
       "      <td>Melissa</td>\n",
       "      <td>West</td>\n",
       "      <td>Salvatore</td>\n",
       "      <td>53.394145</td>\n",
       "      <td>58.1</td>\n",
       "      <td>3</td>\n",
       "      <td>1</td>\n",
       "      <td>0</td>\n",
       "      <td>0</td>\n",
       "    </tr>\n",
       "    <tr>\n",
       "      <th>3</th>\n",
       "      <td>Thursday</td>\n",
       "      <td>01-May-14</td>\n",
       "      <td>29.374298</td>\n",
       "      <td>Melissa</td>\n",
       "      <td>East</td>\n",
       "      <td>Salvatore</td>\n",
       "      <td>70.306596</td>\n",
       "      <td>35.2</td>\n",
       "      <td>3</td>\n",
       "      <td>0</td>\n",
       "      <td>0</td>\n",
       "      <td>0</td>\n",
       "    </tr>\n",
       "    <tr>\n",
       "      <th>4</th>\n",
       "      <td>Thursday</td>\n",
       "      <td>01-May-14</td>\n",
       "      <td>29.994610</td>\n",
       "      <td>Melissa</td>\n",
       "      <td>West</td>\n",
       "      <td>Salvatore</td>\n",
       "      <td>71.501688</td>\n",
       "      <td>38.4</td>\n",
       "      <td>2</td>\n",
       "      <td>0</td>\n",
       "      <td>0</td>\n",
       "      <td>0</td>\n",
       "    </tr>\n",
       "  </tbody>\n",
       "</table>\n",
       "</div>"
      ],
      "text/plain": [
       "        day       date       time operator branch     driver  temperature  \\\n",
       "0  Thursday  01-May-14  35.128367    Laura   East      Bruno    68.287716   \n",
       "1  Thursday  01-May-14  25.203074  Melissa   East  Salvatore    70.997791   \n",
       "2  Thursday  01-May-14  45.643404  Melissa   West  Salvatore    53.394145   \n",
       "3  Thursday  01-May-14  29.374298  Melissa   East  Salvatore    70.306596   \n",
       "4  Thursday  01-May-14  29.994610  Melissa   West  Salvatore    71.501688   \n",
       "\n",
       "   bill  pizzas  free_wine  got_wine  discount_customer  \n",
       "0  58.4       4          0         0                  1  \n",
       "1  26.4       2          0         0                  0  \n",
       "2  58.1       3          1         0                  0  \n",
       "3  35.2       3          0         0                  0  \n",
       "4  38.4       2          0         0                  0  "
      ]
     },
     "execution_count": 26,
     "metadata": {},
     "output_type": "execute_result"
    }
   ],
   "source": [
    "df.head()"
   ]
  },
  {
   "cell_type": "code",
   "execution_count": 27,
   "id": "b952aac9-0b93-4016-8eb0-bc1c28ff053a",
   "metadata": {},
   "outputs": [
    {
     "data": {
      "text/html": [
       "<div>\n",
       "<style scoped>\n",
       "    .dataframe tbody tr th:only-of-type {\n",
       "        vertical-align: middle;\n",
       "    }\n",
       "\n",
       "    .dataframe tbody tr th {\n",
       "        vertical-align: top;\n",
       "    }\n",
       "\n",
       "    .dataframe thead th {\n",
       "        text-align: right;\n",
       "    }\n",
       "</style>\n",
       "<table border=\"1\" class=\"dataframe\">\n",
       "  <thead>\n",
       "    <tr style=\"text-align: right;\">\n",
       "      <th></th>\n",
       "      <th>time</th>\n",
       "      <th>temperature</th>\n",
       "      <th>bill</th>\n",
       "    </tr>\n",
       "  </thead>\n",
       "  <tbody>\n",
       "    <tr>\n",
       "      <th>count</th>\n",
       "      <td>1266.000000</td>\n",
       "      <td>1266.000000</td>\n",
       "      <td>1266.000000</td>\n",
       "    </tr>\n",
       "    <tr>\n",
       "      <th>mean</th>\n",
       "      <td>34.229551</td>\n",
       "      <td>62.863950</td>\n",
       "      <td>42.755924</td>\n",
       "    </tr>\n",
       "    <tr>\n",
       "      <th>std</th>\n",
       "      <td>6.461478</td>\n",
       "      <td>6.905708</td>\n",
       "      <td>11.222918</td>\n",
       "    </tr>\n",
       "    <tr>\n",
       "      <th>min</th>\n",
       "      <td>12.266028</td>\n",
       "      <td>41.758718</td>\n",
       "      <td>9.100000</td>\n",
       "    </tr>\n",
       "    <tr>\n",
       "      <th>25%</th>\n",
       "      <td>30.061151</td>\n",
       "      <td>58.242364</td>\n",
       "      <td>35.500000</td>\n",
       "    </tr>\n",
       "    <tr>\n",
       "      <th>50%</th>\n",
       "      <td>34.381964</td>\n",
       "      <td>62.926657</td>\n",
       "      <td>42.900000</td>\n",
       "    </tr>\n",
       "    <tr>\n",
       "      <th>75%</th>\n",
       "      <td>38.577021</td>\n",
       "      <td>67.228628</td>\n",
       "      <td>50.500000</td>\n",
       "    </tr>\n",
       "    <tr>\n",
       "      <th>max</th>\n",
       "      <td>53.096264</td>\n",
       "      <td>87.582422</td>\n",
       "      <td>75.000000</td>\n",
       "    </tr>\n",
       "  </tbody>\n",
       "</table>\n",
       "</div>"
      ],
      "text/plain": [
       "              time  temperature         bill\n",
       "count  1266.000000  1266.000000  1266.000000\n",
       "mean     34.229551    62.863950    42.755924\n",
       "std       6.461478     6.905708    11.222918\n",
       "min      12.266028    41.758718     9.100000\n",
       "25%      30.061151    58.242364    35.500000\n",
       "50%      34.381964    62.926657    42.900000\n",
       "75%      38.577021    67.228628    50.500000\n",
       "max      53.096264    87.582422    75.000000"
      ]
     },
     "execution_count": 27,
     "metadata": {},
     "output_type": "execute_result"
    }
   ],
   "source": [
    "df[[\"time\", \"temperature\",\"bill\"]].describe()"
   ]
  },
  {
   "cell_type": "code",
   "execution_count": 28,
   "id": "9e510626-07cb-4825-ad4f-3519ab5f52c1",
   "metadata": {},
   "outputs": [
    {
     "data": {
      "text/plain": [
       "38.57702064"
      ]
     },
     "execution_count": 28,
     "metadata": {},
     "output_type": "execute_result"
    }
   ],
   "source": [
    "np.percentile(df.time.sort_values(), 75)"
   ]
  },
  {
   "cell_type": "markdown",
   "id": "cbc32fc7-32ec-4b84-969f-7d8e762c3576",
   "metadata": {},
   "source": [
    "**random data**"
   ]
  },
  {
   "cell_type": "code",
   "execution_count": 29,
   "id": "2502b1e5-d4b9-42db-b684-a7ee5b255881",
   "metadata": {},
   "outputs": [],
   "source": [
    "# loc:mean, scale: std, size,\n",
    "# np.random.normal()"
   ]
  },
  {
   "cell_type": "code",
   "execution_count": 30,
   "id": "68e22d70-4f44-4c94-a46e-5c0bebc76398",
   "metadata": {},
   "outputs": [
    {
     "name": "stdout",
     "output_type": "stream",
     "text": [
      "time mean:  34.229551489873614\n",
      "time std:  6.461478108714831\n"
     ]
    }
   ],
   "source": [
    "print(\"time mean: \", df.time.mean())\n",
    "print(\"time std: \", df.time.std())"
   ]
  },
  {
   "cell_type": "code",
   "execution_count": 31,
   "id": "e74552bc-9388-43a6-a5b8-c366cd6d896b",
   "metadata": {},
   "outputs": [],
   "source": [
    "_mean = round(df.time.mean(), 2)\n",
    "_std = round(df.time.std(), 2)"
   ]
  },
  {
   "cell_type": "code",
   "execution_count": 32,
   "id": "771e612d-2292-4f10-8539-877d005af3f9",
   "metadata": {},
   "outputs": [
    {
     "data": {
      "text/plain": [
       "(34.23, 6.46)"
      ]
     },
     "execution_count": 32,
     "metadata": {},
     "output_type": "execute_result"
    }
   ],
   "source": [
    "_mean, _std"
   ]
  },
  {
   "cell_type": "code",
   "execution_count": null,
   "id": "1310ba2c-3e5d-4aaa-98f4-d296468cfcac",
   "metadata": {},
   "outputs": [],
   "source": []
  },
  {
   "cell_type": "code",
   "execution_count": 33,
   "id": "e8009acf-5f75-4ca7-84f9-2545387e2fef",
   "metadata": {},
   "outputs": [
    {
     "data": {
      "image/png": "[encoded data removed]",
      "text/plain": [
       "<Figure size 640x480 with 1 Axes>"
      ]
     },
     "metadata": {},
     "output_type": "display_data"
    },
    {
     "name": "stdout",
     "output_type": "stream",
     "text": [
      "range: ((29.64912274234733, 39.245048225755085))\n"
     ]
    }
   ],
   "source": [
    "random_data =  np.random.normal(_mean, _std-5, 1266)\n",
    "plt.hist(random_data, bins=30)\n",
    "plt.vlines(_mean, 0, 130, color='yellow')\n",
    "\n",
    "pcts = [np.percentile(random_data, i) for i in [25, 50, 75]]\n",
    "\n",
    "plt.vlines(pcts, 0, 130, color='purple')\n",
    "plt.show()\n",
    "\n",
    "print(f\"range: ({random_data.min(), random_data.max()})\")"
   ]
  },
  {
   "cell_type": "code",
   "execution_count": 34,
   "id": "a71e6314-f2d5-4191-97c0-452a6c684d33",
   "metadata": {},
   "outputs": [
    {
     "data": {
      "text/plain": [
       "33.25551813302897"
      ]
     },
     "execution_count": 34,
     "metadata": {},
     "output_type": "execute_result"
    }
   ],
   "source": [
    "np.percentile(random_data, 25)"
   ]
  },
  {
   "cell_type": "markdown",
   "id": "70ea9dcc-821c-4a87-84a9-2f729cc1e8e7",
   "metadata": {},
   "source": [
    "**Standard Deviation**\n",
    "\n",
    " ${\\displaystyle s_{n}={\\sqrt {{\\frac {1}{n-1}}\\sum _{i=1}^{n}\\left(x_{i}-{\\bar {x}}\\right)^{2}}},}$"
   ]
  },
  {
   "cell_type": "code",
   "execution_count": 35,
   "id": "0c6ec513-e6f3-4f40-b201-494fc6c503d7",
   "metadata": {},
   "outputs": [],
   "source": [
    "# calculating the mean of the df.time data\n",
    "_mean =  df.time.mean()"
   ]
  },
  {
   "cell_type": "code",
   "execution_count": 36,
   "id": "f965c4b2-42c9-4794-bf06-cf3089de971f",
   "metadata": {},
   "outputs": [
    {
     "data": {
      "text/plain": [
       "34.229551489873614"
      ]
     },
     "execution_count": 36,
     "metadata": {},
     "output_type": "execute_result"
    }
   ],
   "source": [
    "# here _mean is our x_bar value.\n",
    "_mean"
   ]
  },
  {
   "cell_type": "code",
   "execution_count": 37,
   "id": "21b840c8-cc4f-4140-9f28-844c5bad91c0",
   "metadata": {},
   "outputs": [],
   "source": [
    "# Now we will calculate the deviation for each point around mean.\n",
    "_deviation = df.time - _mean"
   ]
  },
  {
   "cell_type": "code",
   "execution_count": 38,
   "id": "abdad2b6-4c2a-46c9-bf9c-11b6f16772df",
   "metadata": {},
   "outputs": [
    {
     "data": {
      "text/plain": [
       "(-21.963523279873613, 18.866712820126388)"
      ]
     },
     "execution_count": 38,
     "metadata": {},
     "output_type": "execute_result"
    }
   ],
   "source": [
    "# checking the minimun and maximum value\n",
    "_deviation.min(), _deviation.max()"
   ]
  },
  {
   "cell_type": "code",
   "execution_count": 39,
   "id": "0a82479e-f677-48a3-ac08-f8293d8115c2",
   "metadata": {},
   "outputs": [
    {
     "data": {
      "text/plain": [
       "-0.22999999999991871"
      ]
     },
     "execution_count": 39,
     "metadata": {},
     "output_type": "execute_result"
    }
   ],
   "source": [
    "_deviation.round(2).sum()"
   ]
  },
  {
   "cell_type": "markdown",
   "id": "724ea19d-6b85-4392-aab1-63017ff24877",
   "metadata": {},
   "source": [
    "Note: since each left and right deviation from mean canceling to each other, and reduced to zero. to avoide this we will calculate the sum of square of deviation."
   ]
  },
  {
   "cell_type": "code",
   "execution_count": 41,
   "id": "6b2d4f0c-4dc6-490f-9161-e8c11f42bb85",
   "metadata": {},
   "outputs": [],
   "source": [
    "squared_sum = _deviation**2"
   ]
  },
  {
   "cell_type": "code",
   "execution_count": 42,
   "id": "de35f95d-35c4-473c-8dd0-585c87d69eda",
   "metadata": {},
   "outputs": [
    {
     "data": {
      "text/plain": [
       "0      0.807869\n",
       "1     81.477302\n",
       "2    130.276032\n",
       "3     23.573491\n",
       "4     17.934727\n",
       "Name: time, dtype: float64"
      ]
     },
     "execution_count": 42,
     "metadata": {},
     "output_type": "execute_result"
    }
   ],
   "source": [
    "squared_sum.head()"
   ]
  },
  {
   "cell_type": "code",
   "execution_count": 43,
   "id": "2fc515e9-e635-494b-b86c-82edf7d959d3",
   "metadata": {},
   "outputs": [
    {
     "data": {
      "text/plain": [
       "0     0.898816\n",
       "1    -9.026478\n",
       "2    11.413853\n",
       "3    -4.855254\n",
       "4    -4.234941\n",
       "Name: time, dtype: float64"
      ]
     },
     "execution_count": 43,
     "metadata": {},
     "output_type": "execute_result"
    }
   ],
   "source": [
    "_deviation.head()"
   ]
  },
  {
   "cell_type": "markdown",
   "id": "815cf7bd-2fac-4e5d-93d2-b7730f5e7c00",
   "metadata": {},
   "source": [
    "**mean of sum of squared of deviation (Variance)**"
   ]
  },
  {
   "cell_type": "code",
   "execution_count": 52,
   "id": "5a46ad5a-13ad-42bb-a1bb-93f9f15863c4",
   "metadata": {},
   "outputs": [],
   "source": [
    "variance = round(sum(squared_sum)/(len(_deviation)-1), 2)"
   ]
  },
  {
   "cell_type": "code",
   "execution_count": 53,
   "id": "6e6f0ef4-881f-4623-a936-805f21f503f7",
   "metadata": {},
   "outputs": [
    {
     "name": "stdout",
     "output_type": "stream",
     "text": [
      "Variance: 41.75 m^2\n"
     ]
    }
   ],
   "source": [
    "print(f\"Variance: {variance} m^2\")"
   ]
  },
  {
   "cell_type": "code",
   "execution_count": 51,
   "id": "1e6d41c8-e606-476b-9d4d-6162a0e9f58c",
   "metadata": {},
   "outputs": [
    {
     "data": {
      "text/plain": [
       "41.75069934940099"
      ]
     },
     "execution_count": 51,
     "metadata": {},
     "output_type": "execute_result"
    }
   ],
   "source": [
    "df.time.var()"
   ]
  },
  {
   "cell_type": "code",
   "execution_count": 59,
   "id": "ce1e8c64-4357-4c9b-879c-a529f5d4af52",
   "metadata": {},
   "outputs": [
    {
     "data": {
      "text/plain": [
       "6.461478108714831"
      ]
     },
     "execution_count": 59,
     "metadata": {},
     "output_type": "execute_result"
    }
   ],
   "source": [
    "df.time.std()"
   ]
  },
  {
   "cell_type": "code",
   "execution_count": 60,
   "id": "8e7546e2-7dc0-4ea7-9d48-096d44816ad5",
   "metadata": {},
   "outputs": [
    {
     "data": {
      "text/plain": [
       "6.461478108714831"
      ]
     },
     "execution_count": 60,
     "metadata": {},
     "output_type": "execute_result"
    }
   ],
   "source": [
    "math.sqrt(df.time.var())"
   ]
  },
  {
   "cell_type": "markdown",
   "id": "312e922a-4482-4d03-9be5-664a07807c41",
   "metadata": {},
   "source": [
    "*Coclusion:* On average each data point are deviated by 6.46 units from mean."
   ]
  },
  {
   "cell_type": "markdown",
   "id": "51699a1f-67df-4dbe-9dc3-77f04ea19472",
   "metadata": {},
   "source": [
    "## Plotting line chart"
   ]
  },
  {
   "cell_type": "code",
   "execution_count": null,
   "id": "153de309-6be1-4b93-99e9-b98ce763e54e",
   "metadata": {},
   "outputs": [],
   "source": []
  }
 ],
 "metadata": {
  "kernelspec": {
   "display_name": "Python 3 (ipykernel)",
   "language": "python",
   "name": "python3"
  },
  "language_info": {
   "codemirror_mode": {
    "name": "ipython",
    "version": 3
   },
   "file_extension": ".py",
   "mimetype": "text/x-python",
   "name": "python",
   "nbconvert_exporter": "python",
   "pygments_lexer": "ipython3",
   "version": "3.10.5"
  }
 },
 "nbformat": 4,
 "nbformat_minor": 5
}
