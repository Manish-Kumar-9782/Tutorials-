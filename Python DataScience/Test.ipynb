{
 "cells": [
  {
   "cell_type": "code",
   "execution_count": 1,
   "id": "d57defe4-8428-4678-bc4b-9ec6f7179c62",
   "metadata": {},
   "outputs": [],
   "source": [
    "import numpy as np\n",
    "import matplotlib.pyplot as plt\n",
    "import pandas as pd"
   ]
  },
  {
   "cell_type": "code",
   "execution_count": 2,
   "id": "17737300",
   "metadata": {},
   "outputs": [],
   "source": [
    "data = [\n",
    "    {\"name\": \"Alice\", \"year\": 2020, \"sales\": 1000},\n",
    "    {\"name\": \"Bob\", \"year\": 2020, \"sales\": 1500},\n",
    "    {\"name\": \"Charlie\", \"year\": 2020, \"sales\": 1200},\n",
    "    {\"name\": \"David\", \"year\": 2020, \"sales\": 800},\n",
    "    {\"name\": \"Eve\", \"year\": 2020, \"sales\": 900},\n",
    "    {\"name\": \"Alice\", \"year\": 2021, \"sales\": 1100},\n",
    "    {\"name\": \"Bob\", \"year\": 2021, \"sales\": 1600},\n",
    "    {\"name\": \"Charlie\", \"year\": 2021, \"sales\": 1300},\n",
    "    {\"name\": \"David\", \"year\": 2021, \"sales\": 900},\n",
    "    {\"name\": \"Eve\", \"year\": 2021, \"sales\": 1000},\n",
    "    {\"name\": \"Alice\", \"year\": 2022, \"sales\": 1200},\n",
    "    {\"name\": \"Bob\", \"year\": 2022, \"sales\": 1700},\n",
    "    {\"name\": \"Charlie\", \"year\": 2022, \"sales\": 1400},\n",
    "    {\"name\": \"David\", \"year\": 2022, \"sales\": 1000},\n",
    "    {\"name\": \"Eve\", \"year\": 2022, \"sales\": 1100},\n",
    "    {\"name\": \"Alice\", \"year\": 2023, \"sales\": 1300},\n",
    "    {\"name\": \"Bob\", \"year\": 2023, \"sales\": 1800},\n",
    "    {\"name\": \"Charlie\", \"year\": 2023, \"sales\": 1500},\n",
    "    {\"name\": \"David\", \"year\": 2023, \"sales\": 1100},\n",
    "    {\"name\": \"Eve\", \"year\": 2023, \"sales\": 1200}\n",
    "]"
   ]
  },
  {
   "cell_type": "code",
   "execution_count": 7,
   "id": "ea43b431-429d-4af5-9f78-cfd4e64cc616",
   "metadata": {},
   "outputs": [
    {
     "data": {
      "text/html": [
       "<div>\n",
       "<style scoped>\n",
       "    .dataframe tbody tr th:only-of-type {\n",
       "        vertical-align: middle;\n",
       "    }\n",
       "\n",
       "    .dataframe tbody tr th {\n",
       "        vertical-align: top;\n",
       "    }\n",
       "\n",
       "    .dataframe thead th {\n",
       "        text-align: right;\n",
       "    }\n",
       "</style>\n",
       "<table border=\"1\" class=\"dataframe\">\n",
       "  <thead>\n",
       "    <tr style=\"text-align: right;\">\n",
       "      <th></th>\n",
       "      <th>name</th>\n",
       "      <th>year</th>\n",
       "      <th>sales</th>\n",
       "    </tr>\n",
       "  </thead>\n",
       "  <tbody>\n",
       "    <tr>\n",
       "      <th>0</th>\n",
       "      <td>Alice</td>\n",
       "      <td>2020</td>\n",
       "      <td>1000</td>\n",
       "    </tr>\n",
       "    <tr>\n",
       "      <th>1</th>\n",
       "      <td>Bob</td>\n",
       "      <td>2020</td>\n",
       "      <td>1500</td>\n",
       "    </tr>\n",
       "    <tr>\n",
       "      <th>2</th>\n",
       "      <td>Charlie</td>\n",
       "      <td>2020</td>\n",
       "      <td>1200</td>\n",
       "    </tr>\n",
       "    <tr>\n",
       "      <th>3</th>\n",
       "      <td>David</td>\n",
       "      <td>2020</td>\n",
       "      <td>800</td>\n",
       "    </tr>\n",
       "    <tr>\n",
       "      <th>4</th>\n",
       "      <td>Eve</td>\n",
       "      <td>2020</td>\n",
       "      <td>900</td>\n",
       "    </tr>\n",
       "  </tbody>\n",
       "</table>\n",
       "</div>"
      ],
      "text/plain": [
       "      name  year  sales\n",
       "0    Alice  2020   1000\n",
       "1      Bob  2020   1500\n",
       "2  Charlie  2020   1200\n",
       "3    David  2020    800\n",
       "4      Eve  2020    900"
      ]
     },
     "execution_count": 7,
     "metadata": {},
     "output_type": "execute_result"
    }
   ],
   "source": [
    "df = pd.DataFrame(data)\n",
    "df.head()"
   ]
  },
  {
   "cell_type": "code",
   "execution_count": 8,
   "id": "252046a1-d200-41f7-b491-a80b868b937b",
   "metadata": {},
   "outputs": [],
   "source": [
    "byName =  df.groupby(['name',\"year\"]).sum()"
   ]
  },
  {
   "cell_type": "code",
   "execution_count": 9,
   "id": "a6fad76c-f18a-4485-aba6-8c1440e00457",
   "metadata": {},
   "outputs": [
    {
     "data": {
      "text/html": [
       "<div>\n",
       "<style scoped>\n",
       "    .dataframe tbody tr th:only-of-type {\n",
       "        vertical-align: middle;\n",
       "    }\n",
       "\n",
       "    .dataframe tbody tr th {\n",
       "        vertical-align: top;\n",
       "    }\n",
       "\n",
       "    .dataframe thead th {\n",
       "        text-align: right;\n",
       "    }\n",
       "</style>\n",
       "<table border=\"1\" class=\"dataframe\">\n",
       "  <thead>\n",
       "    <tr style=\"text-align: right;\">\n",
       "      <th></th>\n",
       "      <th></th>\n",
       "      <th>sales</th>\n",
       "    </tr>\n",
       "    <tr>\n",
       "      <th>name</th>\n",
       "      <th>year</th>\n",
       "      <th></th>\n",
       "    </tr>\n",
       "  </thead>\n",
       "  <tbody>\n",
       "    <tr>\n",
       "      <th rowspan=\"4\" valign=\"top\">Alice</th>\n",
       "      <th>2020</th>\n",
       "      <td>1000</td>\n",
       "    </tr>\n",
       "    <tr>\n",
       "      <th>2021</th>\n",
       "      <td>1100</td>\n",
       "    </tr>\n",
       "    <tr>\n",
       "      <th>2022</th>\n",
       "      <td>1200</td>\n",
       "    </tr>\n",
       "    <tr>\n",
       "      <th>2023</th>\n",
       "      <td>1300</td>\n",
       "    </tr>\n",
       "    <tr>\n",
       "      <th rowspan=\"4\" valign=\"top\">Bob</th>\n",
       "      <th>2020</th>\n",
       "      <td>1500</td>\n",
       "    </tr>\n",
       "    <tr>\n",
       "      <th>2021</th>\n",
       "      <td>1600</td>\n",
       "    </tr>\n",
       "    <tr>\n",
       "      <th>2022</th>\n",
       "      <td>1700</td>\n",
       "    </tr>\n",
       "    <tr>\n",
       "      <th>2023</th>\n",
       "      <td>1800</td>\n",
       "    </tr>\n",
       "    <tr>\n",
       "      <th rowspan=\"4\" valign=\"top\">Charlie</th>\n",
       "      <th>2020</th>\n",
       "      <td>1200</td>\n",
       "    </tr>\n",
       "    <tr>\n",
       "      <th>2021</th>\n",
       "      <td>1300</td>\n",
       "    </tr>\n",
       "    <tr>\n",
       "      <th>2022</th>\n",
       "      <td>1400</td>\n",
       "    </tr>\n",
       "    <tr>\n",
       "      <th>2023</th>\n",
       "      <td>1500</td>\n",
       "    </tr>\n",
       "    <tr>\n",
       "      <th rowspan=\"4\" valign=\"top\">David</th>\n",
       "      <th>2020</th>\n",
       "      <td>800</td>\n",
       "    </tr>\n",
       "    <tr>\n",
       "      <th>2021</th>\n",
       "      <td>900</td>\n",
       "    </tr>\n",
       "    <tr>\n",
       "      <th>2022</th>\n",
       "      <td>1000</td>\n",
       "    </tr>\n",
       "    <tr>\n",
       "      <th>2023</th>\n",
       "      <td>1100</td>\n",
       "    </tr>\n",
       "    <tr>\n",
       "      <th rowspan=\"4\" valign=\"top\">Eve</th>\n",
       "      <th>2020</th>\n",
       "      <td>900</td>\n",
       "    </tr>\n",
       "    <tr>\n",
       "      <th>2021</th>\n",
       "      <td>1000</td>\n",
       "    </tr>\n",
       "    <tr>\n",
       "      <th>2022</th>\n",
       "      <td>1100</td>\n",
       "    </tr>\n",
       "    <tr>\n",
       "      <th>2023</th>\n",
       "      <td>1200</td>\n",
       "    </tr>\n",
       "  </tbody>\n",
       "</table>\n",
       "</div>"
      ],
      "text/plain": [
       "              sales\n",
       "name    year       \n",
       "Alice   2020   1000\n",
       "        2021   1100\n",
       "        2022   1200\n",
       "        2023   1300\n",
       "Bob     2020   1500\n",
       "        2021   1600\n",
       "        2022   1700\n",
       "        2023   1800\n",
       "Charlie 2020   1200\n",
       "        2021   1300\n",
       "        2022   1400\n",
       "        2023   1500\n",
       "David   2020    800\n",
       "        2021    900\n",
       "        2022   1000\n",
       "        2023   1100\n",
       "Eve     2020    900\n",
       "        2021   1000\n",
       "        2022   1100\n",
       "        2023   1200"
      ]
     },
     "execution_count": 9,
     "metadata": {},
     "output_type": "execute_result"
    }
   ],
   "source": [
    "byName"
   ]
  },
  {
   "cell_type": "code",
   "execution_count": 12,
   "id": "942a0dc9-ae08-4a60-8fea-47c653cde393",
   "metadata": {},
   "outputs": [],
   "source": [
    "s1 =  byName.loc[\"Alice\"]\n",
    "s2 = byName.loc[\"Bob\"]"
   ]
  },
  {
   "cell_type": "code",
   "execution_count": 14,
   "id": "b10f94b9-3dea-425e-ad51-90eb5742a9d9",
   "metadata": {},
   "outputs": [
    {
     "data": {
      "text/html": [
       "<div>\n",
       "<style scoped>\n",
       "    .dataframe tbody tr th:only-of-type {\n",
       "        vertical-align: middle;\n",
       "    }\n",
       "\n",
       "    .dataframe tbody tr th {\n",
       "        vertical-align: top;\n",
       "    }\n",
       "\n",
       "    .dataframe thead tr th {\n",
       "        text-align: left;\n",
       "    }\n",
       "\n",
       "    .dataframe thead tr:last-of-type th {\n",
       "        text-align: right;\n",
       "    }\n",
       "</style>\n",
       "<table border=\"1\" class=\"dataframe\">\n",
       "  <thead>\n",
       "    <tr>\n",
       "      <th></th>\n",
       "      <th colspan=\"2\" halign=\"left\">sales</th>\n",
       "    </tr>\n",
       "    <tr>\n",
       "      <th></th>\n",
       "      <th>self</th>\n",
       "      <th>other</th>\n",
       "    </tr>\n",
       "    <tr>\n",
       "      <th>year</th>\n",
       "      <th></th>\n",
       "      <th></th>\n",
       "    </tr>\n",
       "  </thead>\n",
       "  <tbody>\n",
       "    <tr>\n",
       "      <th>2020</th>\n",
       "      <td>1000</td>\n",
       "      <td>1500</td>\n",
       "    </tr>\n",
       "    <tr>\n",
       "      <th>2021</th>\n",
       "      <td>1100</td>\n",
       "      <td>1600</td>\n",
       "    </tr>\n",
       "    <tr>\n",
       "      <th>2022</th>\n",
       "      <td>1200</td>\n",
       "      <td>1700</td>\n",
       "    </tr>\n",
       "    <tr>\n",
       "      <th>2023</th>\n",
       "      <td>1300</td>\n",
       "      <td>1800</td>\n",
       "    </tr>\n",
       "  </tbody>\n",
       "</table>\n",
       "</div>"
      ],
      "text/plain": [
       "     sales      \n",
       "      self other\n",
       "year            \n",
       "2020  1000  1500\n",
       "2021  1100  1600\n",
       "2022  1200  1700\n",
       "2023  1300  1800"
      ]
     },
     "execution_count": 14,
     "metadata": {},
     "output_type": "execute_result"
    }
   ],
   "source": [
    "s1.compare(s2)"
   ]
  },
  {
   "cell_type": "code",
   "execution_count": 5,
   "id": "cb4a817f-94df-4eca-b082-321d7529e746",
   "metadata": {},
   "outputs": [],
   "source": [
    "df = pd.read_csv(\"./datasets/pizza_delivery.csv\")"
   ]
  },
  {
   "cell_type": "code",
   "execution_count": 7,
   "id": "d437a123-49b0-4edf-a8e5-6748f05d6608",
   "metadata": {},
   "outputs": [
    {
     "data": {
      "text/html": [
       "<div>\n",
       "<style scoped>\n",
       "    .dataframe tbody tr th:only-of-type {\n",
       "        vertical-align: middle;\n",
       "    }\n",
       "\n",
       "    .dataframe tbody tr th {\n",
       "        vertical-align: top;\n",
       "    }\n",
       "\n",
       "    .dataframe thead th {\n",
       "        text-align: right;\n",
       "    }\n",
       "</style>\n",
       "<table border=\"1\" class=\"dataframe\">\n",
       "  <thead>\n",
       "    <tr style=\"text-align: right;\">\n",
       "      <th></th>\n",
       "      <th>day</th>\n",
       "      <th>date</th>\n",
       "      <th>time</th>\n",
       "      <th>operator</th>\n",
       "      <th>branch</th>\n",
       "      <th>driver</th>\n",
       "      <th>temperature</th>\n",
       "      <th>bill</th>\n",
       "      <th>pizzas</th>\n",
       "      <th>free_wine</th>\n",
       "      <th>got_wine</th>\n",
       "      <th>discount_customer</th>\n",
       "    </tr>\n",
       "  </thead>\n",
       "  <tbody>\n",
       "    <tr>\n",
       "      <th>0</th>\n",
       "      <td>Thursday</td>\n",
       "      <td>01-May-14</td>\n",
       "      <td>35.128367</td>\n",
       "      <td>Laura</td>\n",
       "      <td>East</td>\n",
       "      <td>Bruno</td>\n",
       "      <td>68.287716</td>\n",
       "      <td>58.4</td>\n",
       "      <td>4</td>\n",
       "      <td>0</td>\n",
       "      <td>0</td>\n",
       "      <td>1</td>\n",
       "    </tr>\n",
       "    <tr>\n",
       "      <th>1</th>\n",
       "      <td>Thursday</td>\n",
       "      <td>01-May-14</td>\n",
       "      <td>25.203074</td>\n",
       "      <td>Melissa</td>\n",
       "      <td>East</td>\n",
       "      <td>Salvatore</td>\n",
       "      <td>70.997791</td>\n",
       "      <td>26.4</td>\n",
       "      <td>2</td>\n",
       "      <td>0</td>\n",
       "      <td>0</td>\n",
       "      <td>0</td>\n",
       "    </tr>\n",
       "    <tr>\n",
       "      <th>2</th>\n",
       "      <td>Thursday</td>\n",
       "      <td>01-May-14</td>\n",
       "      <td>45.643404</td>\n",
       "      <td>Melissa</td>\n",
       "      <td>West</td>\n",
       "      <td>Salvatore</td>\n",
       "      <td>53.394145</td>\n",
       "      <td>58.1</td>\n",
       "      <td>3</td>\n",
       "      <td>1</td>\n",
       "      <td>0</td>\n",
       "      <td>0</td>\n",
       "    </tr>\n",
       "    <tr>\n",
       "      <th>3</th>\n",
       "      <td>Thursday</td>\n",
       "      <td>01-May-14</td>\n",
       "      <td>29.374298</td>\n",
       "      <td>Melissa</td>\n",
       "      <td>East</td>\n",
       "      <td>Salvatore</td>\n",
       "      <td>70.306596</td>\n",
       "      <td>35.2</td>\n",
       "      <td>3</td>\n",
       "      <td>0</td>\n",
       "      <td>0</td>\n",
       "      <td>0</td>\n",
       "    </tr>\n",
       "    <tr>\n",
       "      <th>4</th>\n",
       "      <td>Thursday</td>\n",
       "      <td>01-May-14</td>\n",
       "      <td>29.994610</td>\n",
       "      <td>Melissa</td>\n",
       "      <td>West</td>\n",
       "      <td>Salvatore</td>\n",
       "      <td>71.501688</td>\n",
       "      <td>38.4</td>\n",
       "      <td>2</td>\n",
       "      <td>0</td>\n",
       "      <td>0</td>\n",
       "      <td>0</td>\n",
       "    </tr>\n",
       "  </tbody>\n",
       "</table>\n",
       "</div>"
      ],
      "text/plain": [
       "        day       date       time operator branch     driver  temperature  \\\n",
       "0  Thursday  01-May-14  35.128367    Laura   East      Bruno    68.287716   \n",
       "1  Thursday  01-May-14  25.203074  Melissa   East  Salvatore    70.997791   \n",
       "2  Thursday  01-May-14  45.643404  Melissa   West  Salvatore    53.394145   \n",
       "3  Thursday  01-May-14  29.374298  Melissa   East  Salvatore    70.306596   \n",
       "4  Thursday  01-May-14  29.994610  Melissa   West  Salvatore    71.501688   \n",
       "\n",
       "   bill  pizzas  free_wine  got_wine  discount_customer  \n",
       "0  58.4       4          0         0                  1  \n",
       "1  26.4       2          0         0                  0  \n",
       "2  58.1       3          1         0                  0  \n",
       "3  35.2       3          0         0                  0  \n",
       "4  38.4       2          0         0                  0  "
      ]
     },
     "execution_count": 7,
     "metadata": {},
     "output_type": "execute_result"
    }
   ],
   "source": [
    "df.head()"
   ]
  },
  {
   "cell_type": "code",
   "execution_count": 8,
   "id": "819b83b0-a9c0-460a-a591-752497109787",
   "metadata": {},
   "outputs": [
    {
     "data": {
      "text/html": [
       "<div>\n",
       "<style scoped>\n",
       "    .dataframe tbody tr th:only-of-type {\n",
       "        vertical-align: middle;\n",
       "    }\n",
       "\n",
       "    .dataframe tbody tr th {\n",
       "        vertical-align: top;\n",
       "    }\n",
       "\n",
       "    .dataframe thead th {\n",
       "        text-align: right;\n",
       "    }\n",
       "</style>\n",
       "<table border=\"1\" class=\"dataframe\">\n",
       "  <thead>\n",
       "    <tr style=\"text-align: right;\">\n",
       "      <th>branch</th>\n",
       "      <th>Centre</th>\n",
       "      <th>East</th>\n",
       "      <th>West</th>\n",
       "    </tr>\n",
       "    <tr>\n",
       "      <th>driver</th>\n",
       "      <th></th>\n",
       "      <th></th>\n",
       "      <th></th>\n",
       "    </tr>\n",
       "  </thead>\n",
       "  <tbody>\n",
       "    <tr>\n",
       "      <th>Bruno</th>\n",
       "      <td>6346.9</td>\n",
       "      <td>3083.4</td>\n",
       "      <td>5254.4</td>\n",
       "    </tr>\n",
       "    <tr>\n",
       "      <th>Domenico</th>\n",
       "      <td>589.1</td>\n",
       "      <td>1766.3</td>\n",
       "      <td>740.4</td>\n",
       "    </tr>\n",
       "    <tr>\n",
       "      <th>Luigi</th>\n",
       "      <td>1980.6</td>\n",
       "      <td>2204.9</td>\n",
       "      <td>1645.5</td>\n",
       "    </tr>\n",
       "    <tr>\n",
       "      <th>Mario</th>\n",
       "      <td>5157.0</td>\n",
       "      <td>4805.0</td>\n",
       "      <td>5402.6</td>\n",
       "    </tr>\n",
       "    <tr>\n",
       "      <th>Salvatore</th>\n",
       "      <td>5757.8</td>\n",
       "      <td>3204.6</td>\n",
       "      <td>6190.5</td>\n",
       "    </tr>\n",
       "  </tbody>\n",
       "</table>\n",
       "</div>"
      ],
      "text/plain": [
       "branch     Centre    East    West\n",
       "driver                           \n",
       "Bruno      6346.9  3083.4  5254.4\n",
       "Domenico    589.1  1766.3   740.4\n",
       "Luigi      1980.6  2204.9  1645.5\n",
       "Mario      5157.0  4805.0  5402.6\n",
       "Salvatore  5757.8  3204.6  6190.5"
      ]
     },
     "execution_count": 8,
     "metadata": {},
     "output_type": "execute_result"
    }
   ],
   "source": [
    "df.groupby([\"driver\",\"branch\"]).bill.sum().unstack()"
   ]
  },
  {
   "cell_type": "code",
   "execution_count": null,
   "id": "a8bf34ae-2ccb-41e2-a8ea-135625572d7a",
   "metadata": {},
   "outputs": [],
   "source": []
  },
  {
   "cell_type": "code",
   "execution_count": 9,
   "id": "5554e311-ab83-4390-bedd-79e6677fdd4e",
   "metadata": {},
   "outputs": [
    {
     "data": {
      "text/plain": [
       "0       13.765653\n",
       "1      -17.649128\n",
       "2       14.050872\n",
       "3       -8.849128\n",
       "4       -5.649128\n",
       "          ...    \n",
       "1261     3.782123\n",
       "1262    -1.288172\n",
       "1263     4.636620\n",
       "1264    -5.049128\n",
       "1265    -1.934347\n",
       "Name: bill, Length: 1266, dtype: float64"
      ]
     },
     "execution_count": 9,
     "metadata": {},
     "output_type": "execute_result"
    }
   ],
   "source": [
    "df.groupby(\"driver\").bill.transform(lambda x : x - x.mean())"
   ]
  },
  {
   "cell_type": "code",
   "execution_count": 10,
   "id": "76bb3967-5815-4e7b-8c0b-fd7fa0ab4ec2",
   "metadata": {},
   "outputs": [
    {
     "data": {
      "text/plain": [
       "driver         \n",
       "Bruno      0       13.765653\n",
       "           5       17.165653\n",
       "           6       13.265653\n",
       "           9        0.165653\n",
       "           10       4.865653\n",
       "                     ...    \n",
       "Salvatore  1253     4.450872\n",
       "           1254    -5.149128\n",
       "           1255     8.850872\n",
       "           1259    -4.049128\n",
       "           1264    -5.049128\n",
       "Name: bill, Length: 1266, dtype: float64"
      ]
     },
     "execution_count": 10,
     "metadata": {},
     "output_type": "execute_result"
    }
   ],
   "source": [
    "df.groupby(\"driver\").bill.apply(lambda x : x - x.mean())"
   ]
  },
  {
   "cell_type": "markdown",
   "id": "2828d5c4-6298-4197-8d25-8289724d3429",
   "metadata": {},
   "source": [
    "___"
   ]
  },
  {
   "cell_type": "code",
   "execution_count": 11,
   "id": "d20de830-a487-41af-b064-b014585d2ad2",
   "metadata": {},
   "outputs": [],
   "source": [
    "df2 = pd.read_excel(\"./datasets/stocks.xlsx\", header=[0,1], index_col=0)"
   ]
  },
  {
   "cell_type": "code",
   "execution_count": 12,
   "id": "b557f435-612f-4239-a728-c1ab74c5257e",
   "metadata": {},
   "outputs": [
    {
     "data": {
      "text/html": [
       "<div>\n",
       "<style scoped>\n",
       "    .dataframe tbody tr th:only-of-type {\n",
       "        vertical-align: middle;\n",
       "    }\n",
       "\n",
       "    .dataframe tbody tr th {\n",
       "        vertical-align: top;\n",
       "    }\n",
       "\n",
       "    .dataframe thead tr th {\n",
       "        text-align: left;\n",
       "    }\n",
       "</style>\n",
       "<table border=\"1\" class=\"dataframe\">\n",
       "  <thead>\n",
       "    <tr>\n",
       "      <th></th>\n",
       "      <th colspan=\"3\" halign=\"left\">Price</th>\n",
       "      <th colspan=\"3\" halign=\"left\">Price to earnings ratio (P/E)</th>\n",
       "    </tr>\n",
       "    <tr>\n",
       "      <th>Company</th>\n",
       "      <th>Facebook</th>\n",
       "      <th>Google</th>\n",
       "      <th>Microsoft</th>\n",
       "      <th>Facebook</th>\n",
       "      <th>Google</th>\n",
       "      <th>Microsoft</th>\n",
       "    </tr>\n",
       "  </thead>\n",
       "  <tbody>\n",
       "    <tr>\n",
       "      <th>2017-06-05</th>\n",
       "      <td>155</td>\n",
       "      <td>955</td>\n",
       "      <td>66</td>\n",
       "      <td>37.10</td>\n",
       "      <td>32.0</td>\n",
       "      <td>30.31</td>\n",
       "    </tr>\n",
       "    <tr>\n",
       "      <th>2017-06-06</th>\n",
       "      <td>150</td>\n",
       "      <td>987</td>\n",
       "      <td>69</td>\n",
       "      <td>36.98</td>\n",
       "      <td>31.3</td>\n",
       "      <td>30.56</td>\n",
       "    </tr>\n",
       "    <tr>\n",
       "      <th>2017-06-07</th>\n",
       "      <td>153</td>\n",
       "      <td>963</td>\n",
       "      <td>62</td>\n",
       "      <td>36.78</td>\n",
       "      <td>31.7</td>\n",
       "      <td>30.46</td>\n",
       "    </tr>\n",
       "    <tr>\n",
       "      <th>2017-06-08</th>\n",
       "      <td>155</td>\n",
       "      <td>1000</td>\n",
       "      <td>61</td>\n",
       "      <td>36.11</td>\n",
       "      <td>31.2</td>\n",
       "      <td>30.11</td>\n",
       "    </tr>\n",
       "    <tr>\n",
       "      <th>2017-06-09</th>\n",
       "      <td>156</td>\n",
       "      <td>1012</td>\n",
       "      <td>66</td>\n",
       "      <td>37.07</td>\n",
       "      <td>30.0</td>\n",
       "      <td>31.00</td>\n",
       "    </tr>\n",
       "  </tbody>\n",
       "</table>\n",
       "</div>"
      ],
      "text/plain": [
       "              Price                  Price to earnings ratio (P/E)         \\\n",
       "Company    Facebook Google Microsoft                      Facebook Google   \n",
       "2017-06-05      155    955        66                         37.10   32.0   \n",
       "2017-06-06      150    987        69                         36.98   31.3   \n",
       "2017-06-07      153    963        62                         36.78   31.7   \n",
       "2017-06-08      155   1000        61                         36.11   31.2   \n",
       "2017-06-09      156   1012        66                         37.07   30.0   \n",
       "\n",
       "                      \n",
       "Company    Microsoft  \n",
       "2017-06-05     30.31  \n",
       "2017-06-06     30.56  \n",
       "2017-06-07     30.46  \n",
       "2017-06-08     30.11  \n",
       "2017-06-09     31.00  "
      ]
     },
     "execution_count": 12,
     "metadata": {},
     "output_type": "execute_result"
    }
   ],
   "source": [
    "df2.head()"
   ]
  },
  {
   "cell_type": "code",
   "execution_count": 13,
   "id": "e0b9abce-c845-4de0-b043-d0a9ac8092f9",
   "metadata": {},
   "outputs": [
    {
     "data": {
      "text/html": [
       "<div>\n",
       "<style scoped>\n",
       "    .dataframe tbody tr th:only-of-type {\n",
       "        vertical-align: middle;\n",
       "    }\n",
       "\n",
       "    .dataframe tbody tr th {\n",
       "        vertical-align: top;\n",
       "    }\n",
       "\n",
       "    .dataframe thead th {\n",
       "        text-align: right;\n",
       "    }\n",
       "</style>\n",
       "<table border=\"1\" class=\"dataframe\">\n",
       "  <thead>\n",
       "    <tr style=\"text-align: right;\">\n",
       "      <th></th>\n",
       "      <th></th>\n",
       "      <th>Price</th>\n",
       "      <th>Price to earnings ratio (P/E)</th>\n",
       "    </tr>\n",
       "    <tr>\n",
       "      <th></th>\n",
       "      <th>Company</th>\n",
       "      <th></th>\n",
       "      <th></th>\n",
       "    </tr>\n",
       "  </thead>\n",
       "  <tbody>\n",
       "    <tr>\n",
       "      <th rowspan=\"3\" valign=\"top\">2017-06-05</th>\n",
       "      <th>Facebook</th>\n",
       "      <td>155</td>\n",
       "      <td>37.10</td>\n",
       "    </tr>\n",
       "    <tr>\n",
       "      <th>Google</th>\n",
       "      <td>955</td>\n",
       "      <td>32.00</td>\n",
       "    </tr>\n",
       "    <tr>\n",
       "      <th>Microsoft</th>\n",
       "      <td>66</td>\n",
       "      <td>30.31</td>\n",
       "    </tr>\n",
       "    <tr>\n",
       "      <th rowspan=\"3\" valign=\"top\">2017-06-06</th>\n",
       "      <th>Facebook</th>\n",
       "      <td>150</td>\n",
       "      <td>36.98</td>\n",
       "    </tr>\n",
       "    <tr>\n",
       "      <th>Google</th>\n",
       "      <td>987</td>\n",
       "      <td>31.30</td>\n",
       "    </tr>\n",
       "    <tr>\n",
       "      <th>Microsoft</th>\n",
       "      <td>69</td>\n",
       "      <td>30.56</td>\n",
       "    </tr>\n",
       "    <tr>\n",
       "      <th rowspan=\"3\" valign=\"top\">2017-06-07</th>\n",
       "      <th>Facebook</th>\n",
       "      <td>153</td>\n",
       "      <td>36.78</td>\n",
       "    </tr>\n",
       "    <tr>\n",
       "      <th>Google</th>\n",
       "      <td>963</td>\n",
       "      <td>31.70</td>\n",
       "    </tr>\n",
       "    <tr>\n",
       "      <th>Microsoft</th>\n",
       "      <td>62</td>\n",
       "      <td>30.46</td>\n",
       "    </tr>\n",
       "    <tr>\n",
       "      <th rowspan=\"3\" valign=\"top\">2017-06-08</th>\n",
       "      <th>Facebook</th>\n",
       "      <td>155</td>\n",
       "      <td>36.11</td>\n",
       "    </tr>\n",
       "    <tr>\n",
       "      <th>Google</th>\n",
       "      <td>1000</td>\n",
       "      <td>31.20</td>\n",
       "    </tr>\n",
       "    <tr>\n",
       "      <th>Microsoft</th>\n",
       "      <td>61</td>\n",
       "      <td>30.11</td>\n",
       "    </tr>\n",
       "    <tr>\n",
       "      <th rowspan=\"3\" valign=\"top\">2017-06-09</th>\n",
       "      <th>Facebook</th>\n",
       "      <td>156</td>\n",
       "      <td>37.07</td>\n",
       "    </tr>\n",
       "    <tr>\n",
       "      <th>Google</th>\n",
       "      <td>1012</td>\n",
       "      <td>30.00</td>\n",
       "    </tr>\n",
       "    <tr>\n",
       "      <th>Microsoft</th>\n",
       "      <td>66</td>\n",
       "      <td>31.00</td>\n",
       "    </tr>\n",
       "  </tbody>\n",
       "</table>\n",
       "</div>"
      ],
      "text/plain": [
       "                      Price  Price to earnings ratio (P/E)\n",
       "           Company                                        \n",
       "2017-06-05 Facebook     155                          37.10\n",
       "           Google       955                          32.00\n",
       "           Microsoft     66                          30.31\n",
       "2017-06-06 Facebook     150                          36.98\n",
       "           Google       987                          31.30\n",
       "           Microsoft     69                          30.56\n",
       "2017-06-07 Facebook     153                          36.78\n",
       "           Google       963                          31.70\n",
       "           Microsoft     62                          30.46\n",
       "2017-06-08 Facebook     155                          36.11\n",
       "           Google      1000                          31.20\n",
       "           Microsoft     61                          30.11\n",
       "2017-06-09 Facebook     156                          37.07\n",
       "           Google      1012                          30.00\n",
       "           Microsoft     66                          31.00"
      ]
     },
     "execution_count": 13,
     "metadata": {},
     "output_type": "execute_result"
    }
   ],
   "source": [
    "df2_stacked =  df2.stack()\n",
    "df2_stacked"
   ]
  },
  {
   "cell_type": "code",
   "execution_count": 14,
   "id": "2470b70c-2907-4ae1-9eab-fb52971ee2b2",
   "metadata": {},
   "outputs": [
    {
     "data": {
      "text/plain": [
       "Price                            6010.00\n",
       "Price to earnings ratio (P/E)     492.68\n",
       "dtype: float64"
      ]
     },
     "execution_count": 14,
     "metadata": {},
     "output_type": "execute_result"
    }
   ],
   "source": [
    "df2_stacked.sum()"
   ]
  },
  {
   "cell_type": "code",
   "execution_count": 35,
   "id": "142a7d91-f844-46a1-80f6-eb25849fc9ec",
   "metadata": {},
   "outputs": [],
   "source": [
    "arrays = [[1, 1, 2, 2,3], \n",
    "          ['red', 'blue', 'red', 'blue',\"green\"], \n",
    "          [\"win\",\"loose\",\"loose\",\"win\",\"loose\"]]"
   ]
  },
  {
   "cell_type": "code",
   "execution_count": 36,
   "id": "0929bcb2-d25a-41cc-b43f-ba0f75bf10a2",
   "metadata": {},
   "outputs": [
    {
     "data": {
      "text/plain": [
       "DatetimeIndex(['2017-06-05', '2017-06-06', '2017-06-07', '2017-06-08',\n",
       "               '2017-06-09'],\n",
       "              dtype='datetime64[ns]', freq=None)"
      ]
     },
     "execution_count": 36,
     "metadata": {},
     "output_type": "execute_result"
    }
   ],
   "source": [
    "df2.index"
   ]
  },
  {
   "cell_type": "code",
   "execution_count": 37,
   "id": "b91a5c5c-c822-4884-b6a0-fc33600ba813",
   "metadata": {},
   "outputs": [],
   "source": [
    "mindex =  pd.MultiIndex.from_arrays(arrays, names=(\"number\",\"color\",\"tag\"))"
   ]
  },
  {
   "cell_type": "code",
   "execution_count": 38,
   "id": "c6ad34b4-7c2f-4952-8463-cd9d77ef6a1f",
   "metadata": {},
   "outputs": [
    {
     "data": {
      "text/plain": [
       "FrozenList(['number', 'color', 'tag'])"
      ]
     },
     "execution_count": 38,
     "metadata": {},
     "output_type": "execute_result"
    }
   ],
   "source": [
    "mindex.names"
   ]
  },
  {
   "cell_type": "code",
   "execution_count": 39,
   "id": "b7cfafa6-9304-43ea-8822-763b41518f7b",
   "metadata": {},
   "outputs": [
    {
     "data": {
      "text/plain": [
       "3"
      ]
     },
     "execution_count": 39,
     "metadata": {},
     "output_type": "execute_result"
    }
   ],
   "source": [
    "mindex.nlevels"
   ]
  },
  {
   "cell_type": "code",
   "execution_count": 40,
   "id": "a0b3ac40-9667-4e86-8e8c-4cf489e80079",
   "metadata": {},
   "outputs": [
    {
     "data": {
      "text/plain": [
       "(3, 3, 2)"
      ]
     },
     "execution_count": 40,
     "metadata": {},
     "output_type": "execute_result"
    }
   ],
   "source": [
    "mindex.levshape"
   ]
  },
  {
   "cell_type": "code",
   "execution_count": 41,
   "id": "dabc44ee-71c1-422f-9ada-362cde1a3d2c",
   "metadata": {},
   "outputs": [
    {
     "data": {
      "text/plain": [
       "dtype('O')"
      ]
     },
     "execution_count": 41,
     "metadata": {},
     "output_type": "execute_result"
    }
   ],
   "source": [
    "mindex.dtype"
   ]
  },
  {
   "cell_type": "code",
   "execution_count": 47,
   "id": "bf202ec4-1f87-4572-a5c3-bc724a23898f",
   "metadata": {},
   "outputs": [],
   "source": [
    "df2_stacked.index.names =[\"Date\",\"Company\"]"
   ]
  },
  {
   "cell_type": "code",
   "execution_count": 54,
   "id": "8f9115fe-3e75-40ae-9eab-49685dae9e61",
   "metadata": {},
   "outputs": [
    {
     "data": {
      "text/html": [
       "<div>\n",
       "<style scoped>\n",
       "    .dataframe tbody tr th:only-of-type {\n",
       "        vertical-align: middle;\n",
       "    }\n",
       "\n",
       "    .dataframe tbody tr th {\n",
       "        vertical-align: top;\n",
       "    }\n",
       "\n",
       "    .dataframe thead th {\n",
       "        text-align: right;\n",
       "    }\n",
       "</style>\n",
       "<table border=\"1\" class=\"dataframe\">\n",
       "  <thead>\n",
       "    <tr style=\"text-align: right;\">\n",
       "      <th></th>\n",
       "      <th>Price</th>\n",
       "      <th>Price to earnings ratio (P/E)</th>\n",
       "    </tr>\n",
       "    <tr>\n",
       "      <th>Company</th>\n",
       "      <th></th>\n",
       "      <th></th>\n",
       "    </tr>\n",
       "  </thead>\n",
       "  <tbody>\n",
       "    <tr>\n",
       "      <th>Facebook</th>\n",
       "      <td>155</td>\n",
       "      <td>37.10</td>\n",
       "    </tr>\n",
       "    <tr>\n",
       "      <th>Google</th>\n",
       "      <td>955</td>\n",
       "      <td>32.00</td>\n",
       "    </tr>\n",
       "    <tr>\n",
       "      <th>Microsoft</th>\n",
       "      <td>66</td>\n",
       "      <td>30.31</td>\n",
       "    </tr>\n",
       "  </tbody>\n",
       "</table>\n",
       "</div>"
      ],
      "text/plain": [
       "           Price  Price to earnings ratio (P/E)\n",
       "Company                                        \n",
       "Facebook     155                          37.10\n",
       "Google       955                          32.00\n",
       "Microsoft     66                          30.31"
      ]
     },
     "execution_count": 54,
     "metadata": {},
     "output_type": "execute_result"
    }
   ],
   "source": [
    "df2_stacked.loc[\"2017-06-05\"]"
   ]
  },
  {
   "cell_type": "code",
   "execution_count": null,
   "id": "25a3873d-ffd3-42c7-a3a9-d67aba498478",
   "metadata": {},
   "outputs": [],
   "source": []
  },
  {
   "cell_type": "code",
   "execution_count": null,
   "id": "ae98c188-285c-421e-abe9-1643a102578a",
   "metadata": {},
   "outputs": [],
   "source": []
  }
 ],
 "metadata": {
  "kernelspec": {
   "display_name": "Python 3 (ipykernel)",
   "language": "python",
   "name": "python3"
  },
  "language_info": {
   "codemirror_mode": {
    "name": "ipython",
    "version": 3
   },
   "file_extension": ".py",
   "mimetype": "text/x-python",
   "name": "python",
   "nbconvert_exporter": "python",
   "pygments_lexer": "ipython3",
   "version": "3.10.5"
  }
 },
 "nbformat": 4,
 "nbformat_minor": 5
}
