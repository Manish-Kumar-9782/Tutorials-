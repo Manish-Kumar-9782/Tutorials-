{
 "cells": [
  {
   "cell_type": "code",
   "execution_count": 34,
   "id": "7064c657-6e59-4bcd-adfc-d5019892491c",
   "metadata": {},
   "outputs": [],
   "source": [
    "import numpy as np\n",
    "import matplotlib.pyplot as plt\n",
    "import pandas as pd\n",
    "from sklearn.preprocessing import OneHotEncoder, StandardScaler\n",
    "from sklearn.linear_model import LinearRegression, SGDRegressor\n",
    "from sklearn.model_selection import train_test_split\n",
    "from sklearn.metrics import r2_score, mean_absolute_error, mean_squared_error\n",
    "from sklearn.model_selection import GridSearchCV\n",
    "from sklearn.impute import SimpleImputer\n",
    "from sklearn.model_selection import cross_val_score\n",
    "import math"
   ]
  },
  {
   "cell_type": "code",
   "execution_count": 2,
   "id": "a78b16f5-70b0-4ce5-b144-50871e0297d5",
   "metadata": {},
   "outputs": [],
   "source": [
    "df = pd.read_csv(\"housing.csv\")"
   ]
  },
  {
   "cell_type": "code",
   "execution_count": 3,
   "id": "c9c04d2a-ab56-4046-a9f3-607bc0be29ac",
   "metadata": {},
   "outputs": [
    {
     "data": {
      "text/html": [
       "<div>\n",
       "<style scoped>\n",
       "    .dataframe tbody tr th:only-of-type {\n",
       "        vertical-align: middle;\n",
       "    }\n",
       "\n",
       "    .dataframe tbody tr th {\n",
       "        vertical-align: top;\n",
       "    }\n",
       "\n",
       "    .dataframe thead th {\n",
       "        text-align: right;\n",
       "    }\n",
       "</style>\n",
       "<table border=\"1\" class=\"dataframe\">\n",
       "  <thead>\n",
       "    <tr style=\"text-align: right;\">\n",
       "      <th></th>\n",
       "      <th>longitude</th>\n",
       "      <th>latitude</th>\n",
       "      <th>housing_median_age</th>\n",
       "      <th>total_rooms</th>\n",
       "      <th>total_bedrooms</th>\n",
       "      <th>population</th>\n",
       "      <th>households</th>\n",
       "      <th>median_income</th>\n",
       "      <th>median_house_value</th>\n",
       "      <th>ocean_proximity</th>\n",
       "    </tr>\n",
       "  </thead>\n",
       "  <tbody>\n",
       "    <tr>\n",
       "      <th>0</th>\n",
       "      <td>-122.23</td>\n",
       "      <td>37.88</td>\n",
       "      <td>41.0</td>\n",
       "      <td>880.0</td>\n",
       "      <td>129.0</td>\n",
       "      <td>322.0</td>\n",
       "      <td>126.0</td>\n",
       "      <td>8.3252</td>\n",
       "      <td>452600.0</td>\n",
       "      <td>NEAR BAY</td>\n",
       "    </tr>\n",
       "    <tr>\n",
       "      <th>1</th>\n",
       "      <td>-122.22</td>\n",
       "      <td>37.86</td>\n",
       "      <td>21.0</td>\n",
       "      <td>7099.0</td>\n",
       "      <td>1106.0</td>\n",
       "      <td>2401.0</td>\n",
       "      <td>1138.0</td>\n",
       "      <td>8.3014</td>\n",
       "      <td>358500.0</td>\n",
       "      <td>NEAR BAY</td>\n",
       "    </tr>\n",
       "    <tr>\n",
       "      <th>2</th>\n",
       "      <td>-122.24</td>\n",
       "      <td>37.85</td>\n",
       "      <td>52.0</td>\n",
       "      <td>1467.0</td>\n",
       "      <td>190.0</td>\n",
       "      <td>496.0</td>\n",
       "      <td>177.0</td>\n",
       "      <td>7.2574</td>\n",
       "      <td>352100.0</td>\n",
       "      <td>NEAR BAY</td>\n",
       "    </tr>\n",
       "    <tr>\n",
       "      <th>3</th>\n",
       "      <td>-122.25</td>\n",
       "      <td>37.85</td>\n",
       "      <td>52.0</td>\n",
       "      <td>1274.0</td>\n",
       "      <td>235.0</td>\n",
       "      <td>558.0</td>\n",
       "      <td>219.0</td>\n",
       "      <td>5.6431</td>\n",
       "      <td>341300.0</td>\n",
       "      <td>NEAR BAY</td>\n",
       "    </tr>\n",
       "    <tr>\n",
       "      <th>4</th>\n",
       "      <td>-122.25</td>\n",
       "      <td>37.85</td>\n",
       "      <td>52.0</td>\n",
       "      <td>1627.0</td>\n",
       "      <td>280.0</td>\n",
       "      <td>565.0</td>\n",
       "      <td>259.0</td>\n",
       "      <td>3.8462</td>\n",
       "      <td>342200.0</td>\n",
       "      <td>NEAR BAY</td>\n",
       "    </tr>\n",
       "  </tbody>\n",
       "</table>\n",
       "</div>"
      ],
      "text/plain": [
       "   longitude  latitude  housing_median_age  total_rooms  total_bedrooms  \\\n",
       "0    -122.23     37.88                41.0        880.0           129.0   \n",
       "1    -122.22     37.86                21.0       7099.0          1106.0   \n",
       "2    -122.24     37.85                52.0       1467.0           190.0   \n",
       "3    -122.25     37.85                52.0       1274.0           235.0   \n",
       "4    -122.25     37.85                52.0       1627.0           280.0   \n",
       "\n",
       "   population  households  median_income  median_house_value ocean_proximity  \n",
       "0       322.0       126.0         8.3252            452600.0        NEAR BAY  \n",
       "1      2401.0      1138.0         8.3014            358500.0        NEAR BAY  \n",
       "2       496.0       177.0         7.2574            352100.0        NEAR BAY  \n",
       "3       558.0       219.0         5.6431            341300.0        NEAR BAY  \n",
       "4       565.0       259.0         3.8462            342200.0        NEAR BAY  "
      ]
     },
     "execution_count": 3,
     "metadata": {},
     "output_type": "execute_result"
    }
   ],
   "source": [
    "df.head()"
   ]
  },
  {
   "cell_type": "code",
   "execution_count": 8,
   "id": "6652ffff-1b26-4cc3-832c-2f707059cbd1",
   "metadata": {},
   "outputs": [
    {
     "data": {
      "text/plain": [
       "longitude               0\n",
       "latitude                0\n",
       "housing_median_age      0\n",
       "total_rooms             0\n",
       "total_bedrooms        207\n",
       "population              0\n",
       "households              0\n",
       "median_income           0\n",
       "median_house_value      0\n",
       "ocean_proximity         0\n",
       "dtype: int64"
      ]
     },
     "execution_count": 8,
     "metadata": {},
     "output_type": "execute_result"
    }
   ],
   "source": [
    "df.isna().sum()"
   ]
  },
  {
   "cell_type": "markdown",
   "id": "fda8a343-28d2-49b6-8924-6c41d2a30eb5",
   "metadata": {},
   "source": [
    "## imputing the null values"
   ]
  },
  {
   "cell_type": "code",
   "execution_count": 13,
   "id": "f96da937-8e59-4299-9ecc-268d8b0a44b5",
   "metadata": {},
   "outputs": [],
   "source": [
    "imputer = SimpleImputer()\n",
    "imputer.set_output(transform=\"pandas\")\n",
    "df2 =  imputer.fit_transform(df.drop(columns='ocean_proximity'))"
   ]
  },
  {
   "cell_type": "code",
   "execution_count": 15,
   "id": "4e9ba20a-9bc3-4e29-8530-68ff0995154a",
   "metadata": {},
   "outputs": [
    {
     "data": {
      "text/html": [
       "<div>\n",
       "<style scoped>\n",
       "    .dataframe tbody tr th:only-of-type {\n",
       "        vertical-align: middle;\n",
       "    }\n",
       "\n",
       "    .dataframe tbody tr th {\n",
       "        vertical-align: top;\n",
       "    }\n",
       "\n",
       "    .dataframe thead th {\n",
       "        text-align: right;\n",
       "    }\n",
       "</style>\n",
       "<table border=\"1\" class=\"dataframe\">\n",
       "  <thead>\n",
       "    <tr style=\"text-align: right;\">\n",
       "      <th></th>\n",
       "      <th>longitude</th>\n",
       "      <th>latitude</th>\n",
       "      <th>housing_median_age</th>\n",
       "      <th>total_rooms</th>\n",
       "      <th>total_bedrooms</th>\n",
       "      <th>population</th>\n",
       "      <th>households</th>\n",
       "      <th>median_income</th>\n",
       "      <th>median_house_value</th>\n",
       "    </tr>\n",
       "  </thead>\n",
       "  <tbody>\n",
       "    <tr>\n",
       "      <th>0</th>\n",
       "      <td>-122.23</td>\n",
       "      <td>37.88</td>\n",
       "      <td>41.0</td>\n",
       "      <td>880.0</td>\n",
       "      <td>129.0</td>\n",
       "      <td>322.0</td>\n",
       "      <td>126.0</td>\n",
       "      <td>8.3252</td>\n",
       "      <td>452600.0</td>\n",
       "    </tr>\n",
       "    <tr>\n",
       "      <th>1</th>\n",
       "      <td>-122.22</td>\n",
       "      <td>37.86</td>\n",
       "      <td>21.0</td>\n",
       "      <td>7099.0</td>\n",
       "      <td>1106.0</td>\n",
       "      <td>2401.0</td>\n",
       "      <td>1138.0</td>\n",
       "      <td>8.3014</td>\n",
       "      <td>358500.0</td>\n",
       "    </tr>\n",
       "    <tr>\n",
       "      <th>2</th>\n",
       "      <td>-122.24</td>\n",
       "      <td>37.85</td>\n",
       "      <td>52.0</td>\n",
       "      <td>1467.0</td>\n",
       "      <td>190.0</td>\n",
       "      <td>496.0</td>\n",
       "      <td>177.0</td>\n",
       "      <td>7.2574</td>\n",
       "      <td>352100.0</td>\n",
       "    </tr>\n",
       "    <tr>\n",
       "      <th>3</th>\n",
       "      <td>-122.25</td>\n",
       "      <td>37.85</td>\n",
       "      <td>52.0</td>\n",
       "      <td>1274.0</td>\n",
       "      <td>235.0</td>\n",
       "      <td>558.0</td>\n",
       "      <td>219.0</td>\n",
       "      <td>5.6431</td>\n",
       "      <td>341300.0</td>\n",
       "    </tr>\n",
       "    <tr>\n",
       "      <th>4</th>\n",
       "      <td>-122.25</td>\n",
       "      <td>37.85</td>\n",
       "      <td>52.0</td>\n",
       "      <td>1627.0</td>\n",
       "      <td>280.0</td>\n",
       "      <td>565.0</td>\n",
       "      <td>259.0</td>\n",
       "      <td>3.8462</td>\n",
       "      <td>342200.0</td>\n",
       "    </tr>\n",
       "  </tbody>\n",
       "</table>\n",
       "</div>"
      ],
      "text/plain": [
       "   longitude  latitude  housing_median_age  total_rooms  total_bedrooms  \\\n",
       "0    -122.23     37.88                41.0        880.0           129.0   \n",
       "1    -122.22     37.86                21.0       7099.0          1106.0   \n",
       "2    -122.24     37.85                52.0       1467.0           190.0   \n",
       "3    -122.25     37.85                52.0       1274.0           235.0   \n",
       "4    -122.25     37.85                52.0       1627.0           280.0   \n",
       "\n",
       "   population  households  median_income  median_house_value  \n",
       "0       322.0       126.0         8.3252            452600.0  \n",
       "1      2401.0      1138.0         8.3014            358500.0  \n",
       "2       496.0       177.0         7.2574            352100.0  \n",
       "3       558.0       219.0         5.6431            341300.0  \n",
       "4       565.0       259.0         3.8462            342200.0  "
      ]
     },
     "execution_count": 15,
     "metadata": {},
     "output_type": "execute_result"
    }
   ],
   "source": [
    "df2.head()"
   ]
  },
  {
   "cell_type": "code",
   "execution_count": 16,
   "id": "abec3dcd-a724-4fdf-893a-24b062f164a9",
   "metadata": {},
   "outputs": [
    {
     "data": {
      "text/plain": [
       "longitude             0\n",
       "latitude              0\n",
       "housing_median_age    0\n",
       "total_rooms           0\n",
       "total_bedrooms        0\n",
       "population            0\n",
       "households            0\n",
       "median_income         0\n",
       "median_house_value    0\n",
       "dtype: int64"
      ]
     },
     "execution_count": 16,
     "metadata": {},
     "output_type": "execute_result"
    }
   ],
   "source": [
    "df2.isna().sum()"
   ]
  },
  {
   "cell_type": "code",
   "execution_count": 18,
   "id": "d14f7373-b35f-48fc-9074-db06b638efb9",
   "metadata": {},
   "outputs": [],
   "source": [
    "data_x = df2.drop(columns=\"median_house_value\")\n",
    "data_y = df2[\"median_house_value\"]"
   ]
  },
  {
   "cell_type": "code",
   "execution_count": 19,
   "id": "e3ae9d6d-e6d9-461e-a36c-7a4f93877afc",
   "metadata": {},
   "outputs": [],
   "source": [
    "scaler = StandardScaler()\n",
    "scaler.set_output(transform=\"pandas\")\n",
    "data_x = scaler.fit_transform(data_x)"
   ]
  },
  {
   "cell_type": "code",
   "execution_count": 24,
   "id": "0c374450-5e46-4b20-8d68-13a739055461",
   "metadata": {},
   "outputs": [],
   "source": [
    "train_x, test_x, train_y, test_y = train_test_split(data_x, data_y, test_size=0.2)"
   ]
  },
  {
   "cell_type": "code",
   "execution_count": 23,
   "id": "a075faf6-5cfb-493a-99ed-8c3bf308795a",
   "metadata": {},
   "outputs": [],
   "source": [
    "sgd_reg = SGDRegressor()"
   ]
  },
  {
   "cell_type": "code",
   "execution_count": 25,
   "id": "337d7cda-82d9-4a4d-85d5-a1eb36e77564",
   "metadata": {},
   "outputs": [
    {
     "data": {
      "text/html": [
       "<style>#sk-container-id-1 {color: black;}#sk-container-id-1 pre{padding: 0;}#sk-container-id-1 div.sk-toggleable {background-color: white;}#sk-container-id-1 label.sk-toggleable__label {cursor: pointer;display: block;width: 100%;margin-bottom: 0;padding: 0.3em;box-sizing: border-box;text-align: center;}#sk-container-id-1 label.sk-toggleable__label-arrow:before {content: \"▸\";float: left;margin-right: 0.25em;color: #696969;}#sk-container-id-1 label.sk-toggleable__label-arrow:hover:before {color: black;}#sk-container-id-1 div.sk-estimator:hover label.sk-toggleable__label-arrow:before {color: black;}#sk-container-id-1 div.sk-toggleable__content {max-height: 0;max-width: 0;overflow: hidden;text-align: left;background-color: #f0f8ff;}#sk-container-id-1 div.sk-toggleable__content pre {margin: 0.2em;color: black;border-radius: 0.25em;background-color: #f0f8ff;}#sk-container-id-1 input.sk-toggleable__control:checked~div.sk-toggleable__content {max-height: 200px;max-width: 100%;overflow: auto;}#sk-container-id-1 input.sk-toggleable__control:checked~label.sk-toggleable__label-arrow:before {content: \"▾\";}#sk-container-id-1 div.sk-estimator input.sk-toggleable__control:checked~label.sk-toggleable__label {background-color: #d4ebff;}#sk-container-id-1 div.sk-label input.sk-toggleable__control:checked~label.sk-toggleable__label {background-color: #d4ebff;}#sk-container-id-1 input.sk-hidden--visually {border: 0;clip: rect(1px 1px 1px 1px);clip: rect(1px, 1px, 1px, 1px);height: 1px;margin: -1px;overflow: hidden;padding: 0;position: absolute;width: 1px;}#sk-container-id-1 div.sk-estimator {font-family: monospace;background-color: #f0f8ff;border: 1px dotted black;border-radius: 0.25em;box-sizing: border-box;margin-bottom: 0.5em;}#sk-container-id-1 div.sk-estimator:hover {background-color: #d4ebff;}#sk-container-id-1 div.sk-parallel-item::after {content: \"\";width: 100%;border-bottom: 1px solid gray;flex-grow: 1;}#sk-container-id-1 div.sk-label:hover label.sk-toggleable__label {background-color: #d4ebff;}#sk-container-id-1 div.sk-serial::before {content: \"\";position: absolute;border-left: 1px solid gray;box-sizing: border-box;top: 0;bottom: 0;left: 50%;z-index: 0;}#sk-container-id-1 div.sk-serial {display: flex;flex-direction: column;align-items: center;background-color: white;padding-right: 0.2em;padding-left: 0.2em;position: relative;}#sk-container-id-1 div.sk-item {position: relative;z-index: 1;}#sk-container-id-1 div.sk-parallel {display: flex;align-items: stretch;justify-content: center;background-color: white;position: relative;}#sk-container-id-1 div.sk-item::before, #sk-container-id-1 div.sk-parallel-item::before {content: \"\";position: absolute;border-left: 1px solid gray;box-sizing: border-box;top: 0;bottom: 0;left: 50%;z-index: -1;}#sk-container-id-1 div.sk-parallel-item {display: flex;flex-direction: column;z-index: 1;position: relative;background-color: white;}#sk-container-id-1 div.sk-parallel-item:first-child::after {align-self: flex-end;width: 50%;}#sk-container-id-1 div.sk-parallel-item:last-child::after {align-self: flex-start;width: 50%;}#sk-container-id-1 div.sk-parallel-item:only-child::after {width: 0;}#sk-container-id-1 div.sk-dashed-wrapped {border: 1px dashed gray;margin: 0 0.4em 0.5em 0.4em;box-sizing: border-box;padding-bottom: 0.4em;background-color: white;}#sk-container-id-1 div.sk-label label {font-family: monospace;font-weight: bold;display: inline-block;line-height: 1.2em;}#sk-container-id-1 div.sk-label-container {text-align: center;}#sk-container-id-1 div.sk-container {/* jupyter's `normalize.less` sets `[hidden] { display: none; }` but bootstrap.min.css set `[hidden] { display: none !important; }` so we also need the `!important` here to be able to override the default hidden behavior on the sphinx rendered scikit-learn.org. See: https://github.com/scikit-learn/scikit-learn/issues/21755 */display: inline-block !important;position: relative;}#sk-container-id-1 div.sk-text-repr-fallback {display: none;}</style><div id=\"sk-container-id-1\" class=\"sk-top-container\"><div class=\"sk-text-repr-fallback\"><pre>SGDRegressor()</pre><b>In a Jupyter environment, please rerun this cell to show the HTML representation or trust the notebook. <br />On GitHub, the HTML representation is unable to render, please try loading this page with nbviewer.org.</b></div><div class=\"sk-container\" hidden><div class=\"sk-item\"><div class=\"sk-estimator sk-toggleable\"><input class=\"sk-toggleable__control sk-hidden--visually\" id=\"sk-estimator-id-1\" type=\"checkbox\" checked><label for=\"sk-estimator-id-1\" class=\"sk-toggleable__label sk-toggleable__label-arrow\">SGDRegressor</label><div class=\"sk-toggleable__content\"><pre>SGDRegressor()</pre></div></div></div></div></div>"
      ],
      "text/plain": [
       "SGDRegressor()"
      ]
     },
     "execution_count": 25,
     "metadata": {},
     "output_type": "execute_result"
    }
   ],
   "source": [
    "sgd_reg.fit(train_x, train_y)"
   ]
  },
  {
   "cell_type": "code",
   "execution_count": 26,
   "id": "f58024f9-ad32-429b-9c16-95f61080ca50",
   "metadata": {},
   "outputs": [],
   "source": [
    "def regSummary(y_true, y_pred):\n",
    "    return{\n",
    "        \"r2_score\": r2_score(y_true, y_pred),\n",
    "        \"mae\": mean_absolute_error(y_true, y_pred),\n",
    "        \"mse\": mean_squared_error(y_true, y_pred),\n",
    "        \"rmse\": math.sqrt(mean_squared_error(y_true, y_pred))\n",
    "    }"
   ]
  },
  {
   "cell_type": "code",
   "execution_count": 27,
   "id": "4587bfc5-d4b1-40fd-b6a2-bca1c8979bb4",
   "metadata": {},
   "outputs": [
    {
     "data": {
      "text/plain": [
       "{'r2_score': 0.6167365394721278,\n",
       " 'mae': 50931.88537292954,\n",
       " 'mse': 4916563779.218932,\n",
       " 'rmse': 70118.21289236436}"
      ]
     },
     "execution_count": 27,
     "metadata": {},
     "output_type": "execute_result"
    }
   ],
   "source": [
    "y_pred = sgd_reg.predict(test_x)\n",
    "regSummary(test_y, y_pred)"
   ]
  },
  {
   "cell_type": "code",
   "execution_count": 33,
   "id": "2dfa7e50-0700-40c9-a3dc-256d8c266b8d",
   "metadata": {},
   "outputs": [
    {
     "data": {
      "text/plain": [
       "{'r2_score': 0.6123094233695723,\n",
       " 'mae': 51100.437282019695,\n",
       " 'mse': 4973355518.891278,\n",
       " 'rmse': 70522.0215173337}"
      ]
     },
     "execution_count": 33,
     "metadata": {},
     "output_type": "execute_result"
    }
   ],
   "source": [
    "# tuning the max_iter, n_iter_no_change, eta0, power_t\n",
    "sgd_reg = SGDRegressor(early_stopping=True, eta0= 0.1, max_iter=5000, n_iter_no_change=30)\n",
    "sgd_reg.fit(train_x, train_y)\n",
    "y_pred = sgd_reg.predict(test_x)\n",
    "regSummary(test_y, y_pred)"
   ]
  },
  {
   "cell_type": "code",
   "execution_count": 36,
   "id": "4d5f9524-674d-459c-8aee-dc450537285a",
   "metadata": {},
   "outputs": [
    {
     "name": "stdout",
     "output_type": "stream",
     "text": [
      "[CV] END ...................... score: (test=-5123830284.719) total time=   0.0s\n",
      "[CV] END ...................... score: (test=-4319810465.030) total time=   0.0s\n",
      "[CV] END ...................... score: (test=-5116085955.611) total time=   0.0s\n",
      "[CV] END ...................... score: (test=-5329909332.540) total time=   0.0s\n",
      "[CV] END ...................... score: (test=-4969279201.619) total time=   0.0s\n",
      "[CV] END ...................... score: (test=-4840245567.049) total time=   0.0s\n",
      "[CV] END ...................... score: (test=-4888346836.895) total time=   0.0s\n",
      "[CV] END ...................... score: (test=-5458693646.608) total time=   0.0s\n",
      "[CV] END ...................... score: (test=-8629926224.822) total time=   0.0s\n",
      "[CV] END ...................... score: (test=-5345703231.694) total time=   0.0s\n"
     ]
    }
   ],
   "source": [
    "test_result =  cross_val_score(sgd_reg, train_x, train_y, scoring=\"neg_mean_squared_error\", \n",
    "                cv=10, verbose=3)"
   ]
  },
  {
   "cell_type": "code",
   "execution_count": 41,
   "id": "3ae2e0ce-356a-4c43-b0a9-44f04de9ca7b",
   "metadata": {},
   "outputs": [
    {
     "data": {
      "text/plain": [
       "73499.54472415855"
      ]
     },
     "execution_count": 41,
     "metadata": {},
     "output_type": "execute_result"
    }
   ],
   "source": [
    "math.sqrt((test_result*-1).mean())"
   ]
  },
  {
   "cell_type": "code",
   "execution_count": 43,
   "id": "b0ab15b0-183a-4a2c-940c-181dde26454a",
   "metadata": {},
   "outputs": [],
   "source": [
    "\n",
    "param_grid = {\n",
    "    \"eta0\": [0.1, 0.3, 0.5, 0.8], \n",
    "    \"max_iter\":[1000,2000,3000,4000,5000], \n",
    "    \"n_iter_no_change\":[10,20,30]\n",
    "}\n",
    "\n",
    "grid_search = GridSearchCV(sgd_reg, param_grid, cv=10, n_jobs=None)"
   ]
  },
  {
   "cell_type": "code",
   "execution_count": 46,
   "id": "fa2c30dd-68c9-44a9-9b3d-5721cab91083",
   "metadata": {},
   "outputs": [
    {
     "name": "stdout",
     "output_type": "stream",
     "text": [
      "Fitting 5 folds for each of 60 candidates, totalling 300 fits\n",
      "[CV 1/5] END eta0=0.1, max_iter=1000, n_iter_no_change=10;, score=0.589 total time=   0.0s\n",
      "[CV 2/5] END eta0=0.1, max_iter=1000, n_iter_no_change=10;, score=0.611 total time=   0.0s\n",
      "[CV 3/5] END eta0=0.1, max_iter=1000, n_iter_no_change=10;, score=0.644 total time=   0.0s\n",
      "[CV 4/5] END eta0=0.1, max_iter=1000, n_iter_no_change=10;, score=0.625 total time=   0.0s\n",
      "[CV 5/5] END eta0=0.1, max_iter=1000, n_iter_no_change=10;, score=0.613 total time=   0.0s\n",
      "[CV 1/5] END eta0=0.1, max_iter=1000, n_iter_no_change=20;, score=0.645 total time=   0.0s\n",
      "[CV 2/5] END eta0=0.1, max_iter=1000, n_iter_no_change=20;, score=0.607 total time=   0.0s\n",
      "[CV 3/5] END eta0=0.1, max_iter=1000, n_iter_no_change=20;, score=0.646 total time=   0.0s\n",
      "[CV 4/5] END eta0=0.1, max_iter=1000, n_iter_no_change=20;, score=0.621 total time=   0.0s\n",
      "[CV 5/5] END eta0=0.1, max_iter=1000, n_iter_no_change=20;, score=0.622 total time=   0.0s\n",
      "[CV 1/5] END eta0=0.1, max_iter=1000, n_iter_no_change=30;, score=0.652 total time=   0.0s\n",
      "[CV 2/5] END eta0=0.1, max_iter=1000, n_iter_no_change=30;, score=0.612 total time=   0.0s\n",
      "[CV 3/5] END eta0=0.1, max_iter=1000, n_iter_no_change=30;, score=0.645 total time=   0.0s\n",
      "[CV 4/5] END eta0=0.1, max_iter=1000, n_iter_no_change=30;, score=0.526 total time=   0.0s\n",
      "[CV 5/5] END eta0=0.1, max_iter=1000, n_iter_no_change=30;, score=0.618 total time=   0.0s\n",
      "[CV 1/5] END eta0=0.1, max_iter=2000, n_iter_no_change=10;, score=0.650 total time=   0.0s\n",
      "[CV 2/5] END eta0=0.1, max_iter=2000, n_iter_no_change=10;, score=0.610 total time=   0.0s\n",
      "[CV 3/5] END eta0=0.1, max_iter=2000, n_iter_no_change=10;, score=0.609 total time=   0.0s\n",
      "[CV 4/5] END eta0=0.1, max_iter=2000, n_iter_no_change=10;, score=0.625 total time=   0.0s\n",
      "[CV 5/5] END eta0=0.1, max_iter=2000, n_iter_no_change=10;, score=0.630 total time=   0.0s\n",
      "[CV 1/5] END eta0=0.1, max_iter=2000, n_iter_no_change=20;, score=0.631 total time=   0.0s\n",
      "[CV 2/5] END eta0=0.1, max_iter=2000, n_iter_no_change=20;, score=0.613 total time=   0.0s\n",
      "[CV 3/5] END eta0=0.1, max_iter=2000, n_iter_no_change=20;, score=0.641 total time=   0.0s\n",
      "[CV 4/5] END eta0=0.1, max_iter=2000, n_iter_no_change=20;, score=0.624 total time=   0.0s\n",
      "[CV 5/5] END eta0=0.1, max_iter=2000, n_iter_no_change=20;, score=0.632 total time=   0.0s\n",
      "[CV 1/5] END eta0=0.1, max_iter=2000, n_iter_no_change=30;, score=0.653 total time=   0.0s\n",
      "[CV 2/5] END eta0=0.1, max_iter=2000, n_iter_no_change=30;, score=0.605 total time=   0.0s\n",
      "[CV 3/5] END eta0=0.1, max_iter=2000, n_iter_no_change=30;, score=0.647 total time=   0.0s\n",
      "[CV 4/5] END eta0=0.1, max_iter=2000, n_iter_no_change=30;, score=0.617 total time=   0.0s\n",
      "[CV 5/5] END eta0=0.1, max_iter=2000, n_iter_no_change=30;, score=0.630 total time=   0.0s\n",
      "[CV 1/5] END eta0=0.1, max_iter=3000, n_iter_no_change=10;, score=0.641 total time=   0.0s\n",
      "[CV 2/5] END eta0=0.1, max_iter=3000, n_iter_no_change=10;, score=0.589 total time=   0.0s\n",
      "[CV 3/5] END eta0=0.1, max_iter=3000, n_iter_no_change=10;, score=0.608 total time=   0.0s\n",
      "[CV 4/5] END eta0=0.1, max_iter=3000, n_iter_no_change=10;, score=0.627 total time=   0.0s\n",
      "[CV 5/5] END eta0=0.1, max_iter=3000, n_iter_no_change=10;, score=0.629 total time=   0.0s\n",
      "[CV 1/5] END eta0=0.1, max_iter=3000, n_iter_no_change=20;, score=0.653 total time=   0.0s\n",
      "[CV 2/5] END eta0=0.1, max_iter=3000, n_iter_no_change=20;, score=0.594 total time=   0.0s\n",
      "[CV 3/5] END eta0=0.1, max_iter=3000, n_iter_no_change=20;, score=0.642 total time=   0.0s\n",
      "[CV 4/5] END eta0=0.1, max_iter=3000, n_iter_no_change=20;, score=0.620 total time=   0.0s\n",
      "[CV 5/5] END eta0=0.1, max_iter=3000, n_iter_no_change=20;, score=0.632 total time=   0.0s\n",
      "[CV 1/5] END eta0=0.1, max_iter=3000, n_iter_no_change=30;, score=0.650 total time=   0.0s\n",
      "[CV 2/5] END eta0=0.1, max_iter=3000, n_iter_no_change=30;, score=0.609 total time=   0.0s\n",
      "[CV 3/5] END eta0=0.1, max_iter=3000, n_iter_no_change=30;, score=0.645 total time=   0.0s\n",
      "[CV 4/5] END eta0=0.1, max_iter=3000, n_iter_no_change=30;, score=0.628 total time=   0.0s\n",
      "[CV 5/5] END eta0=0.1, max_iter=3000, n_iter_no_change=30;, score=0.630 total time=   0.0s\n",
      "[CV 1/5] END eta0=0.1, max_iter=4000, n_iter_no_change=10;, score=0.648 total time=   0.0s\n",
      "[CV 2/5] END eta0=0.1, max_iter=4000, n_iter_no_change=10;, score=0.604 total time=   0.0s\n",
      "[CV 3/5] END eta0=0.1, max_iter=4000, n_iter_no_change=10;, score=0.649 total time=   0.0s\n",
      "[CV 4/5] END eta0=0.1, max_iter=4000, n_iter_no_change=10;, score=0.616 total time=   0.0s\n",
      "[CV 5/5] END eta0=0.1, max_iter=4000, n_iter_no_change=10;, score=0.621 total time=   0.0s\n",
      "[CV 1/5] END eta0=0.1, max_iter=4000, n_iter_no_change=20;, score=0.660 total time=   0.0s\n",
      "[CV 2/5] END eta0=0.1, max_iter=4000, n_iter_no_change=20;, score=0.613 total time=   0.0s\n",
      "[CV 3/5] END eta0=0.1, max_iter=4000, n_iter_no_change=20;, score=0.643 total time=   0.0s\n",
      "[CV 4/5] END eta0=0.1, max_iter=4000, n_iter_no_change=20;, score=0.620 total time=   0.0s\n",
      "[CV 5/5] END eta0=0.1, max_iter=4000, n_iter_no_change=20;, score=0.632 total time=   0.0s\n",
      "[CV 1/5] END eta0=0.1, max_iter=4000, n_iter_no_change=30;, score=0.647 total time=   0.0s\n",
      "[CV 2/5] END eta0=0.1, max_iter=4000, n_iter_no_change=30;, score=0.606 total time=   0.0s\n",
      "[CV 3/5] END eta0=0.1, max_iter=4000, n_iter_no_change=30;, score=0.644 total time=   0.0s\n",
      "[CV 4/5] END eta0=0.1, max_iter=4000, n_iter_no_change=30;, score=0.619 total time=   0.0s\n",
      "[CV 5/5] END eta0=0.1, max_iter=4000, n_iter_no_change=30;, score=0.635 total time=   0.0s\n",
      "[CV 1/5] END eta0=0.1, max_iter=5000, n_iter_no_change=10;, score=0.652 total time=   0.0s\n",
      "[CV 2/5] END eta0=0.1, max_iter=5000, n_iter_no_change=10;, score=0.602 total time=   0.0s\n",
      "[CV 3/5] END eta0=0.1, max_iter=5000, n_iter_no_change=10;, score=0.630 total time=   0.0s\n",
      "[CV 4/5] END eta0=0.1, max_iter=5000, n_iter_no_change=10;, score=0.616 total time=   0.0s\n",
      "[CV 5/5] END eta0=0.1, max_iter=5000, n_iter_no_change=10;, score=0.630 total time=   0.0s\n",
      "[CV 1/5] END eta0=0.1, max_iter=5000, n_iter_no_change=20;, score=0.651 total time=   0.0s\n",
      "[CV 2/5] END eta0=0.1, max_iter=5000, n_iter_no_change=20;, score=0.616 total time=   0.0s\n",
      "[CV 3/5] END eta0=0.1, max_iter=5000, n_iter_no_change=20;, score=0.633 total time=   0.0s\n",
      "[CV 4/5] END eta0=0.1, max_iter=5000, n_iter_no_change=20;, score=0.604 total time=   0.0s\n",
      "[CV 5/5] END eta0=0.1, max_iter=5000, n_iter_no_change=20;, score=0.630 total time=   0.0s\n",
      "[CV 1/5] END eta0=0.1, max_iter=5000, n_iter_no_change=30;, score=0.651 total time=   0.0s\n",
      "[CV 2/5] END eta0=0.1, max_iter=5000, n_iter_no_change=30;, score=0.609 total time=   0.0s\n",
      "[CV 3/5] END eta0=0.1, max_iter=5000, n_iter_no_change=30;, score=0.645 total time=   0.0s\n",
      "[CV 4/5] END eta0=0.1, max_iter=5000, n_iter_no_change=30;, score=0.616 total time=   0.0s\n",
      "[CV 5/5] END eta0=0.1, max_iter=5000, n_iter_no_change=30;, score=0.634 total time=   0.0s\n",
      "[CV 1/5] END eta0=0.3, max_iter=1000, n_iter_no_change=10;, score=0.648 total time=   0.0s\n",
      "[CV 2/5] END eta0=0.3, max_iter=1000, n_iter_no_change=10;, score=0.544 total time=   0.0s\n",
      "[CV 3/5] END eta0=0.3, max_iter=1000, n_iter_no_change=10;, score=0.640 total time=   0.0s\n",
      "[CV 4/5] END eta0=0.3, max_iter=1000, n_iter_no_change=10;, score=0.614 total time=   0.0s\n",
      "[CV 5/5] END eta0=0.3, max_iter=1000, n_iter_no_change=10;, score=0.607 total time=   0.0s\n",
      "[CV 1/5] END eta0=0.3, max_iter=1000, n_iter_no_change=20;, score=0.598 total time=   0.0s\n",
      "[CV 2/5] END eta0=0.3, max_iter=1000, n_iter_no_change=20;, score=0.600 total time=   0.0s\n",
      "[CV 3/5] END eta0=0.3, max_iter=1000, n_iter_no_change=20;, score=0.627 total time=   0.0s\n",
      "[CV 4/5] END eta0=0.3, max_iter=1000, n_iter_no_change=20;, score=0.620 total time=   0.0s\n",
      "[CV 5/5] END eta0=0.3, max_iter=1000, n_iter_no_change=20;, score=0.623 total time=   0.0s\n",
      "[CV 1/5] END eta0=0.3, max_iter=1000, n_iter_no_change=30;, score=0.642 total time=   0.0s\n",
      "[CV 2/5] END eta0=0.3, max_iter=1000, n_iter_no_change=30;, score=0.586 total time=   0.0s\n",
      "[CV 3/5] END eta0=0.3, max_iter=1000, n_iter_no_change=30;, score=0.647 total time=   0.0s\n",
      "[CV 4/5] END eta0=0.3, max_iter=1000, n_iter_no_change=30;, score=0.612 total time=   0.0s\n",
      "[CV 5/5] END eta0=0.3, max_iter=1000, n_iter_no_change=30;, score=0.607 total time=   0.0s\n",
      "[CV 1/5] END eta0=0.3, max_iter=2000, n_iter_no_change=10;, score=0.650 total time=   0.0s\n",
      "[CV 2/5] END eta0=0.3, max_iter=2000, n_iter_no_change=10;, score=0.559 total time=   0.0s\n",
      "[CV 3/5] END eta0=0.3, max_iter=2000, n_iter_no_change=10;, score=0.574 total time=   0.0s\n",
      "[CV 4/5] END eta0=0.3, max_iter=2000, n_iter_no_change=10;, score=0.619 total time=   0.0s\n",
      "[CV 5/5] END eta0=0.3, max_iter=2000, n_iter_no_change=10;, score=0.592 total time=   0.0s\n",
      "[CV 1/5] END eta0=0.3, max_iter=2000, n_iter_no_change=20;, score=0.282 total time=   0.0s\n",
      "[CV 2/5] END eta0=0.3, max_iter=2000, n_iter_no_change=20;, score=0.604 total time=   0.0s\n",
      "[CV 3/5] END eta0=0.3, max_iter=2000, n_iter_no_change=20;, score=0.614 total time=   0.0s\n",
      "[CV 4/5] END eta0=0.3, max_iter=2000, n_iter_no_change=20;, score=0.524 total time=   0.0s\n",
      "[CV 5/5] END eta0=0.3, max_iter=2000, n_iter_no_change=20;, score=0.601 total time=   0.0s\n",
      "[CV 1/5] END eta0=0.3, max_iter=2000, n_iter_no_change=30;, score=0.640 total time=   0.0s\n",
      "[CV 2/5] END eta0=0.3, max_iter=2000, n_iter_no_change=30;, score=0.588 total time=   0.0s\n",
      "[CV 3/5] END eta0=0.3, max_iter=2000, n_iter_no_change=30;, score=0.640 total time=   0.0s\n",
      "[CV 4/5] END eta0=0.3, max_iter=2000, n_iter_no_change=30;, score=0.606 total time=   0.0s\n",
      "[CV 5/5] END eta0=0.3, max_iter=2000, n_iter_no_change=30;, score=0.603 total time=   0.0s\n",
      "[CV 1/5] END eta0=0.3, max_iter=3000, n_iter_no_change=10;, score=0.651 total time=   0.0s\n",
      "[CV 2/5] END eta0=0.3, max_iter=3000, n_iter_no_change=10;, score=0.591 total time=   0.0s\n",
      "[CV 3/5] END eta0=0.3, max_iter=3000, n_iter_no_change=10;, score=0.296 total time=   0.0s\n",
      "[CV 4/5] END eta0=0.3, max_iter=3000, n_iter_no_change=10;, score=0.580 total time=   0.0s\n",
      "[CV 5/5] END eta0=0.3, max_iter=3000, n_iter_no_change=10;, score=0.587 total time=   0.0s\n",
      "[CV 1/5] END eta0=0.3, max_iter=3000, n_iter_no_change=20;, score=0.639 total time=   0.0s\n",
      "[CV 2/5] END eta0=0.3, max_iter=3000, n_iter_no_change=20;, score=0.599 total time=   0.0s\n",
      "[CV 3/5] END eta0=0.3, max_iter=3000, n_iter_no_change=20;, score=0.630 total time=   0.0s\n",
      "[CV 4/5] END eta0=0.3, max_iter=3000, n_iter_no_change=20;, score=0.623 total time=   0.0s\n",
      "[CV 5/5] END eta0=0.3, max_iter=3000, n_iter_no_change=20;, score=0.586 total time=   0.0s\n",
      "[CV 1/5] END eta0=0.3, max_iter=3000, n_iter_no_change=30;, score=0.152 total time=   0.0s\n",
      "[CV 2/5] END eta0=0.3, max_iter=3000, n_iter_no_change=30;, score=0.603 total time=   0.0s\n",
      "[CV 3/5] END eta0=0.3, max_iter=3000, n_iter_no_change=30;, score=0.622 total time=   0.0s\n",
      "[CV 4/5] END eta0=0.3, max_iter=3000, n_iter_no_change=30;, score=0.616 total time=   0.0s\n",
      "[CV 5/5] END eta0=0.3, max_iter=3000, n_iter_no_change=30;, score=0.624 total time=   0.0s\n",
      "[CV 1/5] END eta0=0.3, max_iter=4000, n_iter_no_change=10;, score=0.594 total time=   0.0s\n",
      "[CV 2/5] END eta0=0.3, max_iter=4000, n_iter_no_change=10;, score=0.593 total time=   0.0s\n",
      "[CV 3/5] END eta0=0.3, max_iter=4000, n_iter_no_change=10;, score=0.612 total time=   0.0s\n",
      "[CV 4/5] END eta0=0.3, max_iter=4000, n_iter_no_change=10;, score=0.612 total time=   0.0s\n",
      "[CV 5/5] END eta0=0.3, max_iter=4000, n_iter_no_change=10;, score=0.554 total time=   0.0s\n",
      "[CV 1/5] END eta0=0.3, max_iter=4000, n_iter_no_change=20;, score=0.636 total time=   0.0s\n",
      "[CV 2/5] END eta0=0.3, max_iter=4000, n_iter_no_change=20;, score=0.586 total time=   0.0s\n",
      "[CV 3/5] END eta0=0.3, max_iter=4000, n_iter_no_change=20;, score=0.620 total time=   0.0s\n",
      "[CV 4/5] END eta0=0.3, max_iter=4000, n_iter_no_change=20;, score=0.624 total time=   0.0s\n",
      "[CV 5/5] END eta0=0.3, max_iter=4000, n_iter_no_change=20;, score=0.581 total time=   0.0s\n",
      "[CV 1/5] END eta0=0.3, max_iter=4000, n_iter_no_change=30;, score=0.638 total time=   0.0s\n",
      "[CV 2/5] END eta0=0.3, max_iter=4000, n_iter_no_change=30;, score=0.578 total time=   0.0s\n",
      "[CV 3/5] END eta0=0.3, max_iter=4000, n_iter_no_change=30;, score=0.581 total time=   0.0s\n",
      "[CV 4/5] END eta0=0.3, max_iter=4000, n_iter_no_change=30;, score=0.608 total time=   0.0s\n",
      "[CV 5/5] END eta0=0.3, max_iter=4000, n_iter_no_change=30;, score=0.613 total time=   0.0s\n",
      "[CV 1/5] END eta0=0.3, max_iter=5000, n_iter_no_change=10;, score=0.633 total time=   0.0s\n",
      "[CV 2/5] END eta0=0.3, max_iter=5000, n_iter_no_change=10;, score=0.606 total time=   0.0s\n",
      "[CV 3/5] END eta0=0.3, max_iter=5000, n_iter_no_change=10;, score=0.635 total time=   0.0s\n",
      "[CV 4/5] END eta0=0.3, max_iter=5000, n_iter_no_change=10;, score=0.627 total time=   0.0s\n",
      "[CV 5/5] END eta0=0.3, max_iter=5000, n_iter_no_change=10;, score=0.620 total time=   0.0s\n",
      "[CV 1/5] END eta0=0.3, max_iter=5000, n_iter_no_change=20;, score=0.596 total time=   0.0s\n",
      "[CV 2/5] END eta0=0.3, max_iter=5000, n_iter_no_change=20;, score=0.606 total time=   0.0s\n",
      "[CV 3/5] END eta0=0.3, max_iter=5000, n_iter_no_change=20;, score=0.648 total time=   0.0s\n",
      "[CV 4/5] END eta0=0.3, max_iter=5000, n_iter_no_change=20;, score=0.597 total time=   0.0s\n",
      "[CV 5/5] END eta0=0.3, max_iter=5000, n_iter_no_change=20;, score=0.608 total time=   0.0s\n",
      "[CV 1/5] END eta0=0.3, max_iter=5000, n_iter_no_change=30;, score=0.632 total time=   0.0s\n",
      "[CV 2/5] END eta0=0.3, max_iter=5000, n_iter_no_change=30;, score=0.573 total time=   0.0s\n",
      "[CV 3/5] END eta0=0.3, max_iter=5000, n_iter_no_change=30;, score=0.635 total time=   0.0s\n",
      "[CV 4/5] END eta0=0.3, max_iter=5000, n_iter_no_change=30;, score=0.615 total time=   0.0s\n",
      "[CV 5/5] END eta0=0.3, max_iter=5000, n_iter_no_change=30;, score=0.596 total time=   0.0s\n",
      "[CV 1/5] END eta0=0.5, max_iter=1000, n_iter_no_change=10;, score=0.632 total time=   0.0s\n",
      "[CV 2/5] END eta0=0.5, max_iter=1000, n_iter_no_change=10;, score=0.590 total time=   0.0s\n",
      "[CV 3/5] END eta0=0.5, max_iter=1000, n_iter_no_change=10;, score=0.587 total time=   0.0s\n",
      "[CV 4/5] END eta0=0.5, max_iter=1000, n_iter_no_change=10;, score=0.608 total time=   0.0s\n",
      "[CV 5/5] END eta0=0.5, max_iter=1000, n_iter_no_change=10;, score=0.598 total time=   0.0s\n",
      "[CV 1/5] END eta0=0.5, max_iter=1000, n_iter_no_change=20;, score=0.236 total time=   0.0s\n",
      "[CV 2/5] END eta0=0.5, max_iter=1000, n_iter_no_change=20;, score=0.344 total time=   0.0s\n",
      "[CV 3/5] END eta0=0.5, max_iter=1000, n_iter_no_change=20;, score=0.629 total time=   0.0s\n",
      "[CV 4/5] END eta0=0.5, max_iter=1000, n_iter_no_change=20;, score=0.596 total time=   0.0s\n",
      "[CV 5/5] END eta0=0.5, max_iter=1000, n_iter_no_change=20;, score=0.583 total time=   0.0s\n",
      "[CV 1/5] END eta0=0.5, max_iter=1000, n_iter_no_change=30;, score=0.643 total time=   0.0s\n",
      "[CV 2/5] END eta0=0.5, max_iter=1000, n_iter_no_change=30;, score=0.606 total time=   0.0s\n",
      "[CV 3/5] END eta0=0.5, max_iter=1000, n_iter_no_change=30;, score=0.620 total time=   0.0s\n",
      "[CV 4/5] END eta0=0.5, max_iter=1000, n_iter_no_change=30;, score=0.620 total time=   0.0s\n",
      "[CV 5/5] END eta0=0.5, max_iter=1000, n_iter_no_change=30;, score=0.478 total time=   0.0s\n",
      "[CV 1/5] END eta0=0.5, max_iter=2000, n_iter_no_change=10;, score=0.597 total time=   0.0s\n",
      "[CV 2/5] END eta0=0.5, max_iter=2000, n_iter_no_change=10;, score=0.533 total time=   0.0s\n",
      "[CV 3/5] END eta0=0.5, max_iter=2000, n_iter_no_change=10;, score=0.606 total time=   0.0s\n",
      "[CV 4/5] END eta0=0.5, max_iter=2000, n_iter_no_change=10;, score=0.561 total time=   0.0s\n",
      "[CV 5/5] END eta0=0.5, max_iter=2000, n_iter_no_change=10;, score=0.611 total time=   0.0s\n",
      "[CV 1/5] END eta0=0.5, max_iter=2000, n_iter_no_change=20;, score=0.552 total time=   0.0s\n",
      "[CV 2/5] END eta0=0.5, max_iter=2000, n_iter_no_change=20;, score=0.583 total time=   0.0s\n",
      "[CV 3/5] END eta0=0.5, max_iter=2000, n_iter_no_change=20;, score=0.577 total time=   0.0s\n",
      "[CV 4/5] END eta0=0.5, max_iter=2000, n_iter_no_change=20;, score=0.627 total time=   0.0s\n",
      "[CV 5/5] END eta0=0.5, max_iter=2000, n_iter_no_change=20;, score=0.466 total time=   0.0s\n",
      "[CV 1/5] END eta0=0.5, max_iter=2000, n_iter_no_change=30;, score=0.628 total time=   0.0s\n",
      "[CV 2/5] END eta0=0.5, max_iter=2000, n_iter_no_change=30;, score=0.486 total time=   0.0s\n",
      "[CV 3/5] END eta0=0.5, max_iter=2000, n_iter_no_change=30;, score=0.632 total time=   0.0s\n",
      "[CV 4/5] END eta0=0.5, max_iter=2000, n_iter_no_change=30;, score=0.602 total time=   0.0s\n",
      "[CV 5/5] END eta0=0.5, max_iter=2000, n_iter_no_change=30;, score=0.586 total time=   0.0s\n",
      "[CV 1/5] END eta0=0.5, max_iter=3000, n_iter_no_change=10;, score=0.645 total time=   0.0s\n",
      "[CV 2/5] END eta0=0.5, max_iter=3000, n_iter_no_change=10;, score=0.586 total time=   0.0s\n",
      "[CV 3/5] END eta0=0.5, max_iter=3000, n_iter_no_change=10;, score=0.610 total time=   0.0s\n",
      "[CV 4/5] END eta0=0.5, max_iter=3000, n_iter_no_change=10;, score=0.543 total time=   0.0s\n",
      "[CV 5/5] END eta0=0.5, max_iter=3000, n_iter_no_change=10;, score=0.596 total time=   0.0s\n",
      "[CV 1/5] END eta0=0.5, max_iter=3000, n_iter_no_change=20;, score=0.588 total time=   0.0s\n",
      "[CV 2/5] END eta0=0.5, max_iter=3000, n_iter_no_change=20;, score=0.479 total time=   0.0s\n",
      "[CV 3/5] END eta0=0.5, max_iter=3000, n_iter_no_change=20;, score=0.613 total time=   0.0s\n",
      "[CV 4/5] END eta0=0.5, max_iter=3000, n_iter_no_change=20;, score=0.547 total time=   0.0s\n",
      "[CV 5/5] END eta0=0.5, max_iter=3000, n_iter_no_change=20;, score=0.575 total time=   0.0s\n",
      "[CV 1/5] END eta0=0.5, max_iter=3000, n_iter_no_change=30;, score=0.239 total time=   0.0s\n",
      "[CV 2/5] END eta0=0.5, max_iter=3000, n_iter_no_change=30;, score=0.595 total time=   0.0s\n",
      "[CV 3/5] END eta0=0.5, max_iter=3000, n_iter_no_change=30;, score=0.627 total time=   0.0s\n",
      "[CV 4/5] END eta0=0.5, max_iter=3000, n_iter_no_change=30;, score=0.593 total time=   0.0s\n",
      "[CV 5/5] END eta0=0.5, max_iter=3000, n_iter_no_change=30;, score=0.625 total time=   0.0s\n",
      "[CV 1/5] END eta0=0.5, max_iter=4000, n_iter_no_change=10;, score=0.507 total time=   0.0s\n",
      "[CV 2/5] END eta0=0.5, max_iter=4000, n_iter_no_change=10;, score=0.591 total time=   0.0s\n",
      "[CV 3/5] END eta0=0.5, max_iter=4000, n_iter_no_change=10;, score=0.625 total time=   0.0s\n",
      "[CV 4/5] END eta0=0.5, max_iter=4000, n_iter_no_change=10;, score=0.585 total time=   0.0s\n",
      "[CV 5/5] END eta0=0.5, max_iter=4000, n_iter_no_change=10;, score=0.575 total time=   0.0s\n",
      "[CV 1/5] END eta0=0.5, max_iter=4000, n_iter_no_change=20;, score=0.623 total time=   0.0s\n",
      "[CV 2/5] END eta0=0.5, max_iter=4000, n_iter_no_change=20;, score=0.604 total time=   0.0s\n",
      "[CV 3/5] END eta0=0.5, max_iter=4000, n_iter_no_change=20;, score=0.517 total time=   0.0s\n",
      "[CV 4/5] END eta0=0.5, max_iter=4000, n_iter_no_change=20;, score=0.546 total time=   0.0s\n",
      "[CV 5/5] END eta0=0.5, max_iter=4000, n_iter_no_change=20;, score=0.578 total time=   0.0s\n",
      "[CV 1/5] END eta0=0.5, max_iter=4000, n_iter_no_change=30;, score=0.629 total time=   0.0s\n",
      "[CV 2/5] END eta0=0.5, max_iter=4000, n_iter_no_change=30;, score=0.606 total time=   0.0s\n",
      "[CV 3/5] END eta0=0.5, max_iter=4000, n_iter_no_change=30;, score=0.402 total time=   0.0s\n",
      "[CV 4/5] END eta0=0.5, max_iter=4000, n_iter_no_change=30;, score=0.565 total time=   0.0s\n",
      "[CV 5/5] END eta0=0.5, max_iter=4000, n_iter_no_change=30;, score=0.636 total time=   0.0s\n",
      "[CV 1/5] END eta0=0.5, max_iter=5000, n_iter_no_change=10;, score=0.614 total time=   0.0s\n",
      "[CV 2/5] END eta0=0.5, max_iter=5000, n_iter_no_change=10;, score=0.478 total time=   0.0s\n",
      "[CV 3/5] END eta0=0.5, max_iter=5000, n_iter_no_change=10;, score=0.563 total time=   0.0s\n",
      "[CV 4/5] END eta0=0.5, max_iter=5000, n_iter_no_change=10;, score=0.551 total time=   0.0s\n",
      "[CV 5/5] END eta0=0.5, max_iter=5000, n_iter_no_change=10;, score=0.557 total time=   0.0s\n",
      "[CV 1/5] END eta0=0.5, max_iter=5000, n_iter_no_change=20;, score=0.649 total time=   0.0s\n",
      "[CV 2/5] END eta0=0.5, max_iter=5000, n_iter_no_change=20;, score=0.563 total time=   0.0s\n",
      "[CV 3/5] END eta0=0.5, max_iter=5000, n_iter_no_change=20;, score=0.599 total time=   0.0s\n",
      "[CV 4/5] END eta0=0.5, max_iter=5000, n_iter_no_change=20;, score=0.476 total time=   0.0s\n",
      "[CV 5/5] END eta0=0.5, max_iter=5000, n_iter_no_change=20;, score=0.599 total time=   0.0s\n",
      "[CV 1/5] END eta0=0.5, max_iter=5000, n_iter_no_change=30;, score=0.634 total time=   0.0s\n",
      "[CV 2/5] END eta0=0.5, max_iter=5000, n_iter_no_change=30;, score=0.563 total time=   0.0s\n",
      "[CV 3/5] END eta0=0.5, max_iter=5000, n_iter_no_change=30;, score=0.598 total time=   0.0s\n",
      "[CV 4/5] END eta0=0.5, max_iter=5000, n_iter_no_change=30;, score=0.611 total time=   0.0s\n",
      "[CV 5/5] END eta0=0.5, max_iter=5000, n_iter_no_change=30;, score=0.574 total time=   0.0s\n",
      "[CV 1/5] END eta0=0.8, max_iter=1000, n_iter_no_change=10;, score=0.572 total time=   0.0s\n",
      "[CV 2/5] END eta0=0.8, max_iter=1000, n_iter_no_change=10;, score=0.534 total time=   0.0s\n",
      "[CV 3/5] END eta0=0.8, max_iter=1000, n_iter_no_change=10;, score=0.603 total time=   0.0s\n",
      "[CV 4/5] END eta0=0.8, max_iter=1000, n_iter_no_change=10;, score=0.182 total time=   0.0s\n",
      "[CV 5/5] END eta0=0.8, max_iter=1000, n_iter_no_change=10;, score=0.003 total time=   0.0s\n",
      "[CV 1/5] END eta0=0.8, max_iter=1000, n_iter_no_change=20;, score=0.499 total time=   0.0s\n",
      "[CV 2/5] END eta0=0.8, max_iter=1000, n_iter_no_change=20;, score=0.560 total time=   0.0s\n",
      "[CV 3/5] END eta0=0.8, max_iter=1000, n_iter_no_change=20;, score=0.629 total time=   0.0s\n",
      "[CV 4/5] END eta0=0.8, max_iter=1000, n_iter_no_change=20;, score=0.574 total time=   0.0s\n",
      "[CV 5/5] END eta0=0.8, max_iter=1000, n_iter_no_change=20;, score=0.407 total time=   0.0s\n",
      "[CV 1/5] END eta0=0.8, max_iter=1000, n_iter_no_change=30;, score=0.627 total time=   0.0s\n",
      "[CV 2/5] END eta0=0.8, max_iter=1000, n_iter_no_change=30;, score=0.588 total time=   0.0s\n",
      "[CV 3/5] END eta0=0.8, max_iter=1000, n_iter_no_change=30;, score=0.307 total time=   0.0s\n",
      "[CV 4/5] END eta0=0.8, max_iter=1000, n_iter_no_change=30;, score=0.575 total time=   0.0s\n",
      "[CV 5/5] END eta0=0.8, max_iter=1000, n_iter_no_change=30;, score=0.544 total time=   0.0s\n",
      "[CV 1/5] END eta0=0.8, max_iter=2000, n_iter_no_change=10;, score=0.579 total time=   0.0s\n",
      "[CV 2/5] END eta0=0.8, max_iter=2000, n_iter_no_change=10;, score=0.520 total time=   0.0s\n",
      "[CV 3/5] END eta0=0.8, max_iter=2000, n_iter_no_change=10;, score=0.545 total time=   0.0s\n",
      "[CV 4/5] END eta0=0.8, max_iter=2000, n_iter_no_change=10;, score=0.584 total time=   0.0s\n",
      "[CV 5/5] END eta0=0.8, max_iter=2000, n_iter_no_change=10;, score=0.445 total time=   0.0s\n",
      "[CV 1/5] END eta0=0.8, max_iter=2000, n_iter_no_change=20;, score=0.504 total time=   0.0s\n",
      "[CV 2/5] END eta0=0.8, max_iter=2000, n_iter_no_change=20;, score=0.520 total time=   0.0s\n",
      "[CV 3/5] END eta0=0.8, max_iter=2000, n_iter_no_change=20;, score=0.539 total time=   0.0s\n",
      "[CV 4/5] END eta0=0.8, max_iter=2000, n_iter_no_change=20;, score=0.474 total time=   0.0s\n",
      "[CV 5/5] END eta0=0.8, max_iter=2000, n_iter_no_change=20;, score=0.589 total time=   0.0s\n",
      "[CV 1/5] END eta0=0.8, max_iter=2000, n_iter_no_change=30;, score=0.488 total time=   0.0s\n",
      "[CV 2/5] END eta0=0.8, max_iter=2000, n_iter_no_change=30;, score=0.579 total time=   0.0s\n",
      "[CV 3/5] END eta0=0.8, max_iter=2000, n_iter_no_change=30;, score=0.362 total time=   0.0s\n",
      "[CV 4/5] END eta0=0.8, max_iter=2000, n_iter_no_change=30;, score=0.547 total time=   0.0s\n",
      "[CV 5/5] END eta0=0.8, max_iter=2000, n_iter_no_change=30;, score=0.559 total time=   0.0s\n",
      "[CV 1/5] END eta0=0.8, max_iter=3000, n_iter_no_change=10;, score=0.505 total time=   0.0s\n",
      "[CV 2/5] END eta0=0.8, max_iter=3000, n_iter_no_change=10;, score=0.527 total time=   0.0s\n",
      "[CV 3/5] END eta0=0.8, max_iter=3000, n_iter_no_change=10;, score=0.601 total time=   0.0s\n",
      "[CV 4/5] END eta0=0.8, max_iter=3000, n_iter_no_change=10;, score=0.585 total time=   0.0s\n",
      "[CV 5/5] END eta0=0.8, max_iter=3000, n_iter_no_change=10;, score=0.564 total time=   0.0s\n",
      "[CV 1/5] END eta0=0.8, max_iter=3000, n_iter_no_change=20;, score=0.506 total time=   0.0s\n",
      "[CV 2/5] END eta0=0.8, max_iter=3000, n_iter_no_change=20;, score=0.490 total time=   0.0s\n",
      "[CV 3/5] END eta0=0.8, max_iter=3000, n_iter_no_change=20;, score=0.581 total time=   0.0s\n",
      "[CV 4/5] END eta0=0.8, max_iter=3000, n_iter_no_change=20;, score=0.599 total time=   0.0s\n",
      "[CV 5/5] END eta0=0.8, max_iter=3000, n_iter_no_change=20;, score=0.620 total time=   0.0s\n",
      "[CV 1/5] END eta0=0.8, max_iter=3000, n_iter_no_change=30;, score=0.644 total time=   0.0s\n",
      "[CV 2/5] END eta0=0.8, max_iter=3000, n_iter_no_change=30;, score=0.578 total time=   0.0s\n",
      "[CV 3/5] END eta0=0.8, max_iter=3000, n_iter_no_change=30;, score=0.539 total time=   0.0s\n",
      "[CV 4/5] END eta0=0.8, max_iter=3000, n_iter_no_change=30;, score=0.608 total time=   0.0s\n",
      "[CV 5/5] END eta0=0.8, max_iter=3000, n_iter_no_change=30;, score=0.588 total time=   0.0s\n",
      "[CV 1/5] END eta0=0.8, max_iter=4000, n_iter_no_change=10;, score=-0.438 total time=   0.0s\n",
      "[CV 2/5] END eta0=0.8, max_iter=4000, n_iter_no_change=10;, score=0.595 total time=   0.0s\n",
      "[CV 3/5] END eta0=0.8, max_iter=4000, n_iter_no_change=10;, score=0.589 total time=   0.0s\n",
      "[CV 4/5] END eta0=0.8, max_iter=4000, n_iter_no_change=10;, score=0.466 total time=   0.0s\n",
      "[CV 5/5] END eta0=0.8, max_iter=4000, n_iter_no_change=10;, score=0.549 total time=   0.0s\n",
      "[CV 1/5] END eta0=0.8, max_iter=4000, n_iter_no_change=20;, score=0.617 total time=   0.0s\n",
      "[CV 2/5] END eta0=0.8, max_iter=4000, n_iter_no_change=20;, score=0.545 total time=   0.0s\n",
      "[CV 3/5] END eta0=0.8, max_iter=4000, n_iter_no_change=20;, score=0.567 total time=   0.0s\n",
      "[CV 4/5] END eta0=0.8, max_iter=4000, n_iter_no_change=20;, score=0.505 total time=   0.0s\n",
      "[CV 5/5] END eta0=0.8, max_iter=4000, n_iter_no_change=20;, score=0.545 total time=   0.0s\n",
      "[CV 1/5] END eta0=0.8, max_iter=4000, n_iter_no_change=30;, score=0.633 total time=   0.0s\n",
      "[CV 2/5] END eta0=0.8, max_iter=4000, n_iter_no_change=30;, score=0.596 total time=   0.0s\n",
      "[CV 3/5] END eta0=0.8, max_iter=4000, n_iter_no_change=30;, score=0.506 total time=   0.0s\n",
      "[CV 4/5] END eta0=0.8, max_iter=4000, n_iter_no_change=30;, score=0.542 total time=   0.0s\n",
      "[CV 5/5] END eta0=0.8, max_iter=4000, n_iter_no_change=30;, score=-3.320 total time=   0.0s\n",
      "[CV 1/5] END eta0=0.8, max_iter=5000, n_iter_no_change=10;, score=0.547 total time=   0.0s\n",
      "[CV 2/5] END eta0=0.8, max_iter=5000, n_iter_no_change=10;, score=0.550 total time=   0.0s\n",
      "[CV 3/5] END eta0=0.8, max_iter=5000, n_iter_no_change=10;, score=-0.032 total time=   0.0s\n",
      "[CV 4/5] END eta0=0.8, max_iter=5000, n_iter_no_change=10;, score=0.539 total time=   0.0s\n",
      "[CV 5/5] END eta0=0.8, max_iter=5000, n_iter_no_change=10;, score=0.505 total time=   0.0s\n",
      "[CV 1/5] END eta0=0.8, max_iter=5000, n_iter_no_change=20;, score=0.526 total time=   0.0s\n",
      "[CV 2/5] END eta0=0.8, max_iter=5000, n_iter_no_change=20;, score=0.457 total time=   0.0s\n",
      "[CV 3/5] END eta0=0.8, max_iter=5000, n_iter_no_change=20;, score=-0.249 total time=   0.0s\n",
      "[CV 4/5] END eta0=0.8, max_iter=5000, n_iter_no_change=20;, score=0.462 total time=   0.0s\n",
      "[CV 5/5] END eta0=0.8, max_iter=5000, n_iter_no_change=20;, score=0.031 total time=   0.0s\n",
      "[CV 1/5] END eta0=0.8, max_iter=5000, n_iter_no_change=30;, score=-7.993 total time=   0.0s\n",
      "[CV 2/5] END eta0=0.8, max_iter=5000, n_iter_no_change=30;, score=0.593 total time=   0.0s\n",
      "[CV 3/5] END eta0=0.8, max_iter=5000, n_iter_no_change=30;, score=0.560 total time=   0.0s\n",
      "[CV 4/5] END eta0=0.8, max_iter=5000, n_iter_no_change=30;, score=0.606 total time=   0.0s\n",
      "[CV 5/5] END eta0=0.8, max_iter=5000, n_iter_no_change=30;, score=0.592 total time=   0.0s\n",
      "CPU times: total: 1.31 s\n",
      "Wall time: 15.9 s\n"
     ]
    },
    {
     "data": {
      "text/html": [
       "<style>#sk-container-id-3 {color: black;}#sk-container-id-3 pre{padding: 0;}#sk-container-id-3 div.sk-toggleable {background-color: white;}#sk-container-id-3 label.sk-toggleable__label {cursor: pointer;display: block;width: 100%;margin-bottom: 0;padding: 0.3em;box-sizing: border-box;text-align: center;}#sk-container-id-3 label.sk-toggleable__label-arrow:before {content: \"▸\";float: left;margin-right: 0.25em;color: #696969;}#sk-container-id-3 label.sk-toggleable__label-arrow:hover:before {color: black;}#sk-container-id-3 div.sk-estimator:hover label.sk-toggleable__label-arrow:before {color: black;}#sk-container-id-3 div.sk-toggleable__content {max-height: 0;max-width: 0;overflow: hidden;text-align: left;background-color: #f0f8ff;}#sk-container-id-3 div.sk-toggleable__content pre {margin: 0.2em;color: black;border-radius: 0.25em;background-color: #f0f8ff;}#sk-container-id-3 input.sk-toggleable__control:checked~div.sk-toggleable__content {max-height: 200px;max-width: 100%;overflow: auto;}#sk-container-id-3 input.sk-toggleable__control:checked~label.sk-toggleable__label-arrow:before {content: \"▾\";}#sk-container-id-3 div.sk-estimator input.sk-toggleable__control:checked~label.sk-toggleable__label {background-color: #d4ebff;}#sk-container-id-3 div.sk-label input.sk-toggleable__control:checked~label.sk-toggleable__label {background-color: #d4ebff;}#sk-container-id-3 input.sk-hidden--visually {border: 0;clip: rect(1px 1px 1px 1px);clip: rect(1px, 1px, 1px, 1px);height: 1px;margin: -1px;overflow: hidden;padding: 0;position: absolute;width: 1px;}#sk-container-id-3 div.sk-estimator {font-family: monospace;background-color: #f0f8ff;border: 1px dotted black;border-radius: 0.25em;box-sizing: border-box;margin-bottom: 0.5em;}#sk-container-id-3 div.sk-estimator:hover {background-color: #d4ebff;}#sk-container-id-3 div.sk-parallel-item::after {content: \"\";width: 100%;border-bottom: 1px solid gray;flex-grow: 1;}#sk-container-id-3 div.sk-label:hover label.sk-toggleable__label {background-color: #d4ebff;}#sk-container-id-3 div.sk-serial::before {content: \"\";position: absolute;border-left: 1px solid gray;box-sizing: border-box;top: 0;bottom: 0;left: 50%;z-index: 0;}#sk-container-id-3 div.sk-serial {display: flex;flex-direction: column;align-items: center;background-color: white;padding-right: 0.2em;padding-left: 0.2em;position: relative;}#sk-container-id-3 div.sk-item {position: relative;z-index: 1;}#sk-container-id-3 div.sk-parallel {display: flex;align-items: stretch;justify-content: center;background-color: white;position: relative;}#sk-container-id-3 div.sk-item::before, #sk-container-id-3 div.sk-parallel-item::before {content: \"\";position: absolute;border-left: 1px solid gray;box-sizing: border-box;top: 0;bottom: 0;left: 50%;z-index: -1;}#sk-container-id-3 div.sk-parallel-item {display: flex;flex-direction: column;z-index: 1;position: relative;background-color: white;}#sk-container-id-3 div.sk-parallel-item:first-child::after {align-self: flex-end;width: 50%;}#sk-container-id-3 div.sk-parallel-item:last-child::after {align-self: flex-start;width: 50%;}#sk-container-id-3 div.sk-parallel-item:only-child::after {width: 0;}#sk-container-id-3 div.sk-dashed-wrapped {border: 1px dashed gray;margin: 0 0.4em 0.5em 0.4em;box-sizing: border-box;padding-bottom: 0.4em;background-color: white;}#sk-container-id-3 div.sk-label label {font-family: monospace;font-weight: bold;display: inline-block;line-height: 1.2em;}#sk-container-id-3 div.sk-label-container {text-align: center;}#sk-container-id-3 div.sk-container {/* jupyter's `normalize.less` sets `[hidden] { display: none; }` but bootstrap.min.css set `[hidden] { display: none !important; }` so we also need the `!important` here to be able to override the default hidden behavior on the sphinx rendered scikit-learn.org. See: https://github.com/scikit-learn/scikit-learn/issues/21755 */display: inline-block !important;position: relative;}#sk-container-id-3 div.sk-text-repr-fallback {display: none;}</style><div id=\"sk-container-id-3\" class=\"sk-top-container\"><div class=\"sk-text-repr-fallback\"><pre>GridSearchCV(cv=5,\n",
       "             estimator=SGDRegressor(early_stopping=True, eta0=0.1,\n",
       "                                    max_iter=5000, n_iter_no_change=30),\n",
       "             param_grid={&#x27;eta0&#x27;: [0.1, 0.3, 0.5, 0.8],\n",
       "                         &#x27;max_iter&#x27;: [1000, 2000, 3000, 4000, 5000],\n",
       "                         &#x27;n_iter_no_change&#x27;: [10, 20, 30]},\n",
       "             verbose=3)</pre><b>In a Jupyter environment, please rerun this cell to show the HTML representation or trust the notebook. <br />On GitHub, the HTML representation is unable to render, please try loading this page with nbviewer.org.</b></div><div class=\"sk-container\" hidden><div class=\"sk-item sk-dashed-wrapped\"><div class=\"sk-label-container\"><div class=\"sk-label sk-toggleable\"><input class=\"sk-toggleable__control sk-hidden--visually\" id=\"sk-estimator-id-3\" type=\"checkbox\" ><label for=\"sk-estimator-id-3\" class=\"sk-toggleable__label sk-toggleable__label-arrow\">GridSearchCV</label><div class=\"sk-toggleable__content\"><pre>GridSearchCV(cv=5,\n",
       "             estimator=SGDRegressor(early_stopping=True, eta0=0.1,\n",
       "                                    max_iter=5000, n_iter_no_change=30),\n",
       "             param_grid={&#x27;eta0&#x27;: [0.1, 0.3, 0.5, 0.8],\n",
       "                         &#x27;max_iter&#x27;: [1000, 2000, 3000, 4000, 5000],\n",
       "                         &#x27;n_iter_no_change&#x27;: [10, 20, 30]},\n",
       "             verbose=3)</pre></div></div></div><div class=\"sk-parallel\"><div class=\"sk-parallel-item\"><div class=\"sk-item\"><div class=\"sk-label-container\"><div class=\"sk-label sk-toggleable\"><input class=\"sk-toggleable__control sk-hidden--visually\" id=\"sk-estimator-id-4\" type=\"checkbox\" ><label for=\"sk-estimator-id-4\" class=\"sk-toggleable__label sk-toggleable__label-arrow\">estimator: SGDRegressor</label><div class=\"sk-toggleable__content\"><pre>SGDRegressor(early_stopping=True, eta0=0.1, max_iter=5000, n_iter_no_change=30)</pre></div></div></div><div class=\"sk-serial\"><div class=\"sk-item\"><div class=\"sk-estimator sk-toggleable\"><input class=\"sk-toggleable__control sk-hidden--visually\" id=\"sk-estimator-id-5\" type=\"checkbox\" ><label for=\"sk-estimator-id-5\" class=\"sk-toggleable__label sk-toggleable__label-arrow\">SGDRegressor</label><div class=\"sk-toggleable__content\"><pre>SGDRegressor(early_stopping=True, eta0=0.1, max_iter=5000, n_iter_no_change=30)</pre></div></div></div></div></div></div></div></div></div></div>"
      ],
      "text/plain": [
       "GridSearchCV(cv=5,\n",
       "             estimator=SGDRegressor(early_stopping=True, eta0=0.1,\n",
       "                                    max_iter=5000, n_iter_no_change=30),\n",
       "             param_grid={'eta0': [0.1, 0.3, 0.5, 0.8],\n",
       "                         'max_iter': [1000, 2000, 3000, 4000, 5000],\n",
       "                         'n_iter_no_change': [10, 20, 30]},\n",
       "             verbose=3)"
      ]
     },
     "execution_count": 46,
     "metadata": {},
     "output_type": "execute_result"
    }
   ],
   "source": [
    "%%time\n",
    "grid_search = GridSearchCV(sgd_reg, param_grid, cv=5, n_jobs=None, verbose=3)\n",
    "grid_search.fit(train_x, train_y)"
   ]
  },
  {
   "cell_type": "code",
   "execution_count": 47,
   "id": "a3de06bd-5a06-4e59-b9c4-db4f58b79f10",
   "metadata": {},
   "outputs": [
    {
     "data": {
      "text/html": [
       "<style>#sk-container-id-4 {color: black;}#sk-container-id-4 pre{padding: 0;}#sk-container-id-4 div.sk-toggleable {background-color: white;}#sk-container-id-4 label.sk-toggleable__label {cursor: pointer;display: block;width: 100%;margin-bottom: 0;padding: 0.3em;box-sizing: border-box;text-align: center;}#sk-container-id-4 label.sk-toggleable__label-arrow:before {content: \"▸\";float: left;margin-right: 0.25em;color: #696969;}#sk-container-id-4 label.sk-toggleable__label-arrow:hover:before {color: black;}#sk-container-id-4 div.sk-estimator:hover label.sk-toggleable__label-arrow:before {color: black;}#sk-container-id-4 div.sk-toggleable__content {max-height: 0;max-width: 0;overflow: hidden;text-align: left;background-color: #f0f8ff;}#sk-container-id-4 div.sk-toggleable__content pre {margin: 0.2em;color: black;border-radius: 0.25em;background-color: #f0f8ff;}#sk-container-id-4 input.sk-toggleable__control:checked~div.sk-toggleable__content {max-height: 200px;max-width: 100%;overflow: auto;}#sk-container-id-4 input.sk-toggleable__control:checked~label.sk-toggleable__label-arrow:before {content: \"▾\";}#sk-container-id-4 div.sk-estimator input.sk-toggleable__control:checked~label.sk-toggleable__label {background-color: #d4ebff;}#sk-container-id-4 div.sk-label input.sk-toggleable__control:checked~label.sk-toggleable__label {background-color: #d4ebff;}#sk-container-id-4 input.sk-hidden--visually {border: 0;clip: rect(1px 1px 1px 1px);clip: rect(1px, 1px, 1px, 1px);height: 1px;margin: -1px;overflow: hidden;padding: 0;position: absolute;width: 1px;}#sk-container-id-4 div.sk-estimator {font-family: monospace;background-color: #f0f8ff;border: 1px dotted black;border-radius: 0.25em;box-sizing: border-box;margin-bottom: 0.5em;}#sk-container-id-4 div.sk-estimator:hover {background-color: #d4ebff;}#sk-container-id-4 div.sk-parallel-item::after {content: \"\";width: 100%;border-bottom: 1px solid gray;flex-grow: 1;}#sk-container-id-4 div.sk-label:hover label.sk-toggleable__label {background-color: #d4ebff;}#sk-container-id-4 div.sk-serial::before {content: \"\";position: absolute;border-left: 1px solid gray;box-sizing: border-box;top: 0;bottom: 0;left: 50%;z-index: 0;}#sk-container-id-4 div.sk-serial {display: flex;flex-direction: column;align-items: center;background-color: white;padding-right: 0.2em;padding-left: 0.2em;position: relative;}#sk-container-id-4 div.sk-item {position: relative;z-index: 1;}#sk-container-id-4 div.sk-parallel {display: flex;align-items: stretch;justify-content: center;background-color: white;position: relative;}#sk-container-id-4 div.sk-item::before, #sk-container-id-4 div.sk-parallel-item::before {content: \"\";position: absolute;border-left: 1px solid gray;box-sizing: border-box;top: 0;bottom: 0;left: 50%;z-index: -1;}#sk-container-id-4 div.sk-parallel-item {display: flex;flex-direction: column;z-index: 1;position: relative;background-color: white;}#sk-container-id-4 div.sk-parallel-item:first-child::after {align-self: flex-end;width: 50%;}#sk-container-id-4 div.sk-parallel-item:last-child::after {align-self: flex-start;width: 50%;}#sk-container-id-4 div.sk-parallel-item:only-child::after {width: 0;}#sk-container-id-4 div.sk-dashed-wrapped {border: 1px dashed gray;margin: 0 0.4em 0.5em 0.4em;box-sizing: border-box;padding-bottom: 0.4em;background-color: white;}#sk-container-id-4 div.sk-label label {font-family: monospace;font-weight: bold;display: inline-block;line-height: 1.2em;}#sk-container-id-4 div.sk-label-container {text-align: center;}#sk-container-id-4 div.sk-container {/* jupyter's `normalize.less` sets `[hidden] { display: none; }` but bootstrap.min.css set `[hidden] { display: none !important; }` so we also need the `!important` here to be able to override the default hidden behavior on the sphinx rendered scikit-learn.org. See: https://github.com/scikit-learn/scikit-learn/issues/21755 */display: inline-block !important;position: relative;}#sk-container-id-4 div.sk-text-repr-fallback {display: none;}</style><div id=\"sk-container-id-4\" class=\"sk-top-container\"><div class=\"sk-text-repr-fallback\"><pre>SGDRegressor(early_stopping=True, eta0=0.1, max_iter=4000, n_iter_no_change=20)</pre><b>In a Jupyter environment, please rerun this cell to show the HTML representation or trust the notebook. <br />On GitHub, the HTML representation is unable to render, please try loading this page with nbviewer.org.</b></div><div class=\"sk-container\" hidden><div class=\"sk-item\"><div class=\"sk-estimator sk-toggleable\"><input class=\"sk-toggleable__control sk-hidden--visually\" id=\"sk-estimator-id-6\" type=\"checkbox\" checked><label for=\"sk-estimator-id-6\" class=\"sk-toggleable__label sk-toggleable__label-arrow\">SGDRegressor</label><div class=\"sk-toggleable__content\"><pre>SGDRegressor(early_stopping=True, eta0=0.1, max_iter=4000, n_iter_no_change=20)</pre></div></div></div></div></div>"
      ],
      "text/plain": [
       "SGDRegressor(early_stopping=True, eta0=0.1, max_iter=4000, n_iter_no_change=20)"
      ]
     },
     "execution_count": 47,
     "metadata": {},
     "output_type": "execute_result"
    }
   ],
   "source": [
    "grid_search.best_estimator_"
   ]
  },
  {
   "cell_type": "code",
   "execution_count": 48,
   "id": "54343547-3896-4d47-9ed0-d4ede17a8972",
   "metadata": {},
   "outputs": [
    {
     "data": {
      "text/plain": [
       "0.6336372905610401"
      ]
     },
     "execution_count": 48,
     "metadata": {},
     "output_type": "execute_result"
    }
   ],
   "source": [
    "grid_search.best_score_"
   ]
  },
  {
   "cell_type": "code",
   "execution_count": 49,
   "id": "234d54ea-06fc-481f-b58e-d5345d990203",
   "metadata": {},
   "outputs": [
    {
     "data": {
      "text/plain": [
       "{'r2_score': 0.6191120050019236,\n",
       " 'mae': 50701.03485919641,\n",
       " 'mse': 4886090934.856228,\n",
       " 'rmse': 69900.57893076586}"
      ]
     },
     "execution_count": 49,
     "metadata": {},
     "output_type": "execute_result"
    }
   ],
   "source": [
    "y_pred = grid_search.best_estimator_.predict(test_x)\n",
    "regSummary(test_y, y_pred)"
   ]
  },
  {
   "cell_type": "code",
   "execution_count": 51,
   "id": "be0463fe-43e2-42a8-8e46-64b698d55ced",
   "metadata": {},
   "outputs": [
    {
     "data": {
      "text/plain": [
       "array([0.01      , 0.01183673, 0.01367347, 0.0155102 , 0.01734694,\n",
       "       0.01918367, 0.02102041, 0.02285714, 0.02469388, 0.02653061,\n",
       "       0.02836735, 0.03020408, 0.03204082, 0.03387755, 0.03571429,\n",
       "       0.03755102, 0.03938776, 0.04122449, 0.04306122, 0.04489796,\n",
       "       0.04673469, 0.04857143, 0.05040816, 0.0522449 , 0.05408163,\n",
       "       0.05591837, 0.0577551 , 0.05959184, 0.06142857, 0.06326531,\n",
       "       0.06510204, 0.06693878, 0.06877551, 0.07061224, 0.07244898,\n",
       "       0.07428571, 0.07612245, 0.07795918, 0.07979592, 0.08163265,\n",
       "       0.08346939, 0.08530612, 0.08714286, 0.08897959, 0.09081633,\n",
       "       0.09265306, 0.0944898 , 0.09632653, 0.09816327, 0.1       ])"
      ]
     },
     "execution_count": 51,
     "metadata": {},
     "output_type": "execute_result"
    }
   ],
   "source": [
    "np.linspace(0.01, 0.1, 50)"
   ]
  },
  {
   "cell_type": "code",
   "execution_count": null,
   "id": "4b48b586-b023-4b80-8a1e-8c372cd5a224",
   "metadata": {},
   "outputs": [],
   "source": []
  }
 ],
 "metadata": {
  "kernelspec": {
   "display_name": "Python 3 (ipykernel)",
   "language": "python",
   "name": "python3"
  },
  "language_info": {
   "codemirror_mode": {
    "name": "ipython",
    "version": 3
   },
   "file_extension": ".py",
   "mimetype": "text/x-python",
   "name": "python",
   "nbconvert_exporter": "python",
   "pygments_lexer": "ipython3",
   "version": "3.10.5"
  }
 },
 "nbformat": 4,
 "nbformat_minor": 5
}
