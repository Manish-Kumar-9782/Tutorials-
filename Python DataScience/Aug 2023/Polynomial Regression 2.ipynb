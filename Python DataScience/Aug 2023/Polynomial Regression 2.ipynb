{
 "cells": [
  {
   "cell_type": "code",
   "execution_count": 1,
   "id": "cddffb6e-1cc3-45f4-b442-947a8ea14aff",
   "metadata": {},
   "outputs": [],
   "source": [
    "import numpy as np\n",
    "import pandas as pd\n",
    "import matplotlib.pyplot as plt\n",
    "from sklearn.linear_model import LinearRegression\n",
    "from sklearn.preprocessing import PolynomialFeatures"
   ]
  },
  {
   "cell_type": "code",
   "execution_count": 2,
   "id": "22b4ae27-e221-432e-9950-559ca4ee986d",
   "metadata": {},
   "outputs": [],
   "source": [
    "def create_poly_data(size=100):\n",
    "    x = 6 * np.random.rand(size,1) - 3\n",
    "    \n",
    "    y = 0.5 * x**2 + x + 5 + np.random.randn(size,1)\n",
    "    return x,y"
   ]
  },
  {
   "cell_type": "code",
   "execution_count": 3,
   "id": "04f7bba1-9245-49af-a836-aeb996f1f4e7",
   "metadata": {},
   "outputs": [],
   "source": [
    "def plot_data(x,y,y_pred=None):\n",
    "    \n",
    "    if y_pred is not None:\n",
    "        \n",
    "        if x.ndim != 1 and y.ndim != 1:\n",
    "            raise ValueError(\"x and y dimension must be 1D\")\n",
    "        \n",
    "        x_y = np.array([x,y]).T\n",
    "    \n",
    "    plt.scatter(x,y)\n",
    "    plt.show()\n",
    "    "
   ]
  },
  {
   "cell_type": "code",
   "execution_count": 4,
   "id": "e79db118-eb8d-4343-be15-983d30d2ae37",
   "metadata": {},
   "outputs": [],
   "source": [
    "x,y = create_poly_data(10)"
   ]
  },
  {
   "cell_type": "code",
   "execution_count": 23,
   "id": "5ec6ef24-2959-4199-90ff-7c772e3da9b2",
   "metadata": {},
   "outputs": [
    {
     "ename": "SyntaxError",
     "evalue": "expected ':' (815973153.py, line 6)",
     "output_type": "error",
     "traceback": [
      "\u001b[1;36m  Cell \u001b[1;32mIn [23], line 6\u001b[1;36m\u001b[0m\n\u001b[1;33m    if x.ndim == 2\u001b[0m\n\u001b[1;37m                    ^\u001b[0m\n\u001b[1;31mSyntaxError\u001b[0m\u001b[1;31m:\u001b[0m expected ':'\n"
     ]
    }
   ],
   "source": [
    "def pair_xy(x,y):\n",
    "    \"\"\"Pair the x and y data point with 1D data, Note that x and y data point must be 1D \n",
    "    or a columns vector. if column vector is provided then it will be converted to the 1D\n",
    "    array\"\"\"\n",
    "    \n",
    "    if x.ndim == 2  \n",
    "    "
   ]
  },
  {
   "cell_type": "code",
   "execution_count": 22,
   "id": "3593d86c-359f-4d60-a099-4628d7994be1",
   "metadata": {},
   "outputs": [
    {
     "data": {
      "text/plain": [
       "1"
      ]
     },
     "execution_count": 22,
     "metadata": {},
     "output_type": "execute_result"
    }
   ],
   "source": [
    "x.ravel().ndim"
   ]
  },
  {
   "cell_type": "code",
   "execution_count": 21,
   "id": "aa3654ce-ad45-4bd2-b93f-cfb7b5326ab2",
   "metadata": {},
   "outputs": [],
   "source": [
    "sorted_item =  np.lexsort(x)"
   ]
  },
  {
   "cell_type": "code",
   "execution_count": 22,
   "id": "0577c820-242a-45e8-9cbe-5922a958bd72",
   "metadata": {},
   "outputs": [
    {
     "data": {
      "text/plain": [
       "array([0], dtype=int64)"
      ]
     },
     "execution_count": 22,
     "metadata": {},
     "output_type": "execute_result"
    }
   ],
   "source": [
    "sorted_item"
   ]
  },
  {
   "cell_type": "code",
   "execution_count": 33,
   "id": "21bf7a2f-1308-4c7a-be24-063ab4575a9b",
   "metadata": {},
   "outputs": [
    {
     "ename": "SyntaxError",
     "evalue": "did you forget parentheses around the comprehension target? (221884753.py, line 1)",
     "output_type": "error",
     "traceback": [
      "\u001b[1;36m  Cell \u001b[1;32mIn [33], line 1\u001b[1;36m\u001b[0m\n\u001b[1;33m    np.array([(x[i][0]), (y[i][0]) for i in np.argsort(x, axis=0)])\u001b[0m\n\u001b[1;37m               ^\u001b[0m\n\u001b[1;31mSyntaxError\u001b[0m\u001b[1;31m:\u001b[0m did you forget parentheses around the comprehension target?\n"
     ]
    }
   ],
   "source": [
    "np.array()"
   ]
  },
  {
   "cell_type": "code",
   "execution_count": 31,
   "id": "5cf490ff-ae7b-4f34-816b-6bd4f604732c",
   "metadata": {},
   "outputs": [
    {
     "data": {
      "text/plain": [
       "array([-1.65976524])"
      ]
     },
     "execution_count": 31,
     "metadata": {},
     "output_type": "execute_result"
    }
   ],
   "source": [
    "x[0]"
   ]
  },
  {
   "cell_type": "code",
   "execution_count": 48,
   "id": "c487ab38-4869-4817-9518-d7ae31f37715",
   "metadata": {},
   "outputs": [
    {
     "data": {
      "text/plain": [
       "[(-2.6334973021971533, 4.687329667653917),\n",
       " (-2.1680110867397953, 6.217179073344907),\n",
       " (-1.6957551395844355, 4.779033130710317),\n",
       " (-1.6597652380328423, 5.17330659706402),\n",
       " (-1.6350395933306252, 4.537104474983028),\n",
       " (-1.3619926185345803, 4.6277370633565615),\n",
       " (-0.31074726142940534, 3.6574207109805803),\n",
       " (-0.20763808311081355, 4.3570371842848985),\n",
       " (0.24722240954435293, 5.500863009640093),\n",
       " (0.6233254217899491, 5.232640358792393)]"
      ]
     },
     "execution_count": 48,
     "metadata": {},
     "output_type": "execute_result"
    }
   ],
   "source": [
    "[ (x[i,0], y[i,0]) for i in np.argsort(x, axis=0).ravel()]"
   ]
  },
  {
   "cell_type": "code",
   "execution_count": 49,
   "id": "5e41c351-e978-47a6-a9ad-e9f6efe95c19",
   "metadata": {},
   "outputs": [
    {
     "data": {
      "text/plain": [
       "array([[-2.6334973 ,  4.68732967],\n",
       "       [-2.16801109,  6.21717907],\n",
       "       [-1.69575514,  4.77903313],\n",
       "       [-1.65976524,  5.1733066 ],\n",
       "       [-1.63503959,  4.53710447],\n",
       "       [-1.36199262,  4.62773706],\n",
       "       [-0.31074726,  3.65742071],\n",
       "       [-0.20763808,  4.35703718],\n",
       "       [ 0.24722241,  5.50086301],\n",
       "       [ 0.62332542,  5.23264036]])"
      ]
     },
     "execution_count": 49,
     "metadata": {},
     "output_type": "execute_result"
    }
   ],
   "source": [
    "np.array([ (x[i,0], y[i,0]) for i in np.argsort(x, axis=0).ravel()])"
   ]
  },
  {
   "cell_type": "code",
   "execution_count": 14,
   "id": "9796f718-8731-466b-bf45-8f6533e8345d",
   "metadata": {},
   "outputs": [],
   "source": [
    " a =np.array([x[:,0],y[:,0]]).T"
   ]
  },
  {
   "cell_type": "code",
   "execution_count": 16,
   "id": "0ebc114c-a91b-4945-a914-458548df2591",
   "metadata": {},
   "outputs": [
    {
     "data": {
      "text/plain": [
       "array([[-1.30427847,  4.85032962],\n",
       "       [ 2.42556047,  9.36952385],\n",
       "       [-0.39577581,  4.0495563 ],\n",
       "       [ 2.65645272, 10.06214705],\n",
       "       [ 1.33329692,  4.78460354],\n",
       "       [ 2.8163019 , 10.47757485],\n",
       "       [-2.51895172,  6.67600844],\n",
       "       [ 0.87190501,  5.62703322],\n",
       "       [ 2.62808966, 11.77555873],\n",
       "       [ 2.19180187,  9.09850834]])"
      ]
     },
     "execution_count": 16,
     "metadata": {},
     "output_type": "execute_result"
    }
   ],
   "source": [
    "a"
   ]
  },
  {
   "cell_type": "code",
   "execution_count": 12,
   "id": "39540e8f-12ee-451a-9985-0a56b89fa583",
   "metadata": {},
   "outputs": [
    {
     "data": {
      "text/plain": [
       "array([[-1.30427847,  2.42556047, -0.39577581,  2.65645272,  1.33329692,\n",
       "         2.8163019 , -2.51895172,  0.87190501,  2.62808966,  2.19180187],\n",
       "       [ 4.85032962,  9.36952385,  4.0495563 , 10.06214705,  4.78460354,\n",
       "        10.47757485,  6.67600844,  5.62703322, 11.77555873,  9.09850834]])"
      ]
     },
     "execution_count": 12,
     "metadata": {},
     "output_type": "execute_result"
    }
   ],
   "source": [
    "a"
   ]
  },
  {
   "cell_type": "code",
   "execution_count": 13,
   "id": "28c438dc-6a52-467d-b7c2-13acb843eb1e",
   "metadata": {},
   "outputs": [
    {
     "data": {
      "text/plain": [
       "array([[[-1.30427847],\n",
       "        [ 2.42556047],\n",
       "        [-0.39577581],\n",
       "        [ 2.65645272],\n",
       "        [ 1.33329692],\n",
       "        [ 2.8163019 ],\n",
       "        [-2.51895172],\n",
       "        [ 0.87190501],\n",
       "        [ 2.62808966],\n",
       "        [ 2.19180187]],\n",
       "\n",
       "       [[ 4.85032962],\n",
       "        [ 9.36952385],\n",
       "        [ 4.0495563 ],\n",
       "        [10.06214705],\n",
       "        [ 4.78460354],\n",
       "        [10.47757485],\n",
       "        [ 6.67600844],\n",
       "        [ 5.62703322],\n",
       "        [11.77555873],\n",
       "        [ 9.09850834]]])"
      ]
     },
     "execution_count": 13,
     "metadata": {},
     "output_type": "execute_result"
    }
   ],
   "source": [
    "np.array([x,y])"
   ]
  },
  {
   "cell_type": "code",
   "execution_count": null,
   "id": "a5914d08-aede-4b44-a655-aa4d5e939c21",
   "metadata": {},
   "outputs": [],
   "source": []
  },
  {
   "cell_type": "code",
   "execution_count": null,
   "id": "c929f145-b5c8-4748-98a1-6915bd33bd98",
   "metadata": {},
   "outputs": [],
   "source": []
  }
 ],
 "metadata": {
  "kernelspec": {
   "display_name": "Python 3 (ipykernel)",
   "language": "python",
   "name": "python3"
  },
  "language_info": {
   "codemirror_mode": {
    "name": "ipython",
    "version": 3
   },
   "file_extension": ".py",
   "mimetype": "text/x-python",
   "name": "python",
   "nbconvert_exporter": "python",
   "pygments_lexer": "ipython3",
   "version": "3.10.5"
  }
 },
 "nbformat": 4,
 "nbformat_minor": 5
}
