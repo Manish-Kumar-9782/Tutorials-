{
 "cells": [
  {
   "cell_type": "code",
   "execution_count": 7,
   "id": "112caad5-a626-4be7-9625-36725841028d",
   "metadata": {},
   "outputs": [],
   "source": [
    "import pandas as pd\n",
    "import matplotlib.pyplot as plt\n",
    "import numpy as np"
   ]
  },
  {
   "cell_type": "code",
   "execution_count": 2,
   "id": "b8760e2c-28eb-488c-9348-b729644d9faf",
   "metadata": {},
   "outputs": [],
   "source": [
    "df = pd.read_csv(\"./datasets/pizza_delivery.csv\")"
   ]
  },
  {
   "cell_type": "code",
   "execution_count": 3,
   "id": "bd888c59-8b1b-47c1-adad-2628a7f67903",
   "metadata": {},
   "outputs": [
    {
     "data": {
      "text/html": [
       "<div>\n",
       "<style scoped>\n",
       "    .dataframe tbody tr th:only-of-type {\n",
       "        vertical-align: middle;\n",
       "    }\n",
       "\n",
       "    .dataframe tbody tr th {\n",
       "        vertical-align: top;\n",
       "    }\n",
       "\n",
       "    .dataframe thead th {\n",
       "        text-align: right;\n",
       "    }\n",
       "</style>\n",
       "<table border=\"1\" class=\"dataframe\">\n",
       "  <thead>\n",
       "    <tr style=\"text-align: right;\">\n",
       "      <th></th>\n",
       "      <th>day</th>\n",
       "      <th>date</th>\n",
       "      <th>time</th>\n",
       "      <th>operator</th>\n",
       "      <th>branch</th>\n",
       "      <th>driver</th>\n",
       "      <th>temperature</th>\n",
       "      <th>bill</th>\n",
       "      <th>pizzas</th>\n",
       "      <th>free_wine</th>\n",
       "      <th>got_wine</th>\n",
       "      <th>discount_customer</th>\n",
       "    </tr>\n",
       "  </thead>\n",
       "  <tbody>\n",
       "    <tr>\n",
       "      <th>0</th>\n",
       "      <td>Thursday</td>\n",
       "      <td>01-May-14</td>\n",
       "      <td>35.128367</td>\n",
       "      <td>Laura</td>\n",
       "      <td>East</td>\n",
       "      <td>Bruno</td>\n",
       "      <td>68.287716</td>\n",
       "      <td>58.4</td>\n",
       "      <td>4</td>\n",
       "      <td>0</td>\n",
       "      <td>0</td>\n",
       "      <td>1</td>\n",
       "    </tr>\n",
       "    <tr>\n",
       "      <th>1</th>\n",
       "      <td>Thursday</td>\n",
       "      <td>01-May-14</td>\n",
       "      <td>25.203074</td>\n",
       "      <td>Melissa</td>\n",
       "      <td>East</td>\n",
       "      <td>Salvatore</td>\n",
       "      <td>70.997791</td>\n",
       "      <td>26.4</td>\n",
       "      <td>2</td>\n",
       "      <td>0</td>\n",
       "      <td>0</td>\n",
       "      <td>0</td>\n",
       "    </tr>\n",
       "    <tr>\n",
       "      <th>2</th>\n",
       "      <td>Thursday</td>\n",
       "      <td>01-May-14</td>\n",
       "      <td>45.643404</td>\n",
       "      <td>Melissa</td>\n",
       "      <td>West</td>\n",
       "      <td>Salvatore</td>\n",
       "      <td>53.394145</td>\n",
       "      <td>58.1</td>\n",
       "      <td>3</td>\n",
       "      <td>1</td>\n",
       "      <td>0</td>\n",
       "      <td>0</td>\n",
       "    </tr>\n",
       "    <tr>\n",
       "      <th>3</th>\n",
       "      <td>Thursday</td>\n",
       "      <td>01-May-14</td>\n",
       "      <td>29.374298</td>\n",
       "      <td>Melissa</td>\n",
       "      <td>East</td>\n",
       "      <td>Salvatore</td>\n",
       "      <td>70.306596</td>\n",
       "      <td>35.2</td>\n",
       "      <td>3</td>\n",
       "      <td>0</td>\n",
       "      <td>0</td>\n",
       "      <td>0</td>\n",
       "    </tr>\n",
       "    <tr>\n",
       "      <th>4</th>\n",
       "      <td>Thursday</td>\n",
       "      <td>01-May-14</td>\n",
       "      <td>29.994610</td>\n",
       "      <td>Melissa</td>\n",
       "      <td>West</td>\n",
       "      <td>Salvatore</td>\n",
       "      <td>71.501688</td>\n",
       "      <td>38.4</td>\n",
       "      <td>2</td>\n",
       "      <td>0</td>\n",
       "      <td>0</td>\n",
       "      <td>0</td>\n",
       "    </tr>\n",
       "  </tbody>\n",
       "</table>\n",
       "</div>"
      ],
      "text/plain": [
       "        day       date       time operator branch     driver  temperature  \\\n",
       "0  Thursday  01-May-14  35.128367    Laura   East      Bruno    68.287716   \n",
       "1  Thursday  01-May-14  25.203074  Melissa   East  Salvatore    70.997791   \n",
       "2  Thursday  01-May-14  45.643404  Melissa   West  Salvatore    53.394145   \n",
       "3  Thursday  01-May-14  29.374298  Melissa   East  Salvatore    70.306596   \n",
       "4  Thursday  01-May-14  29.994610  Melissa   West  Salvatore    71.501688   \n",
       "\n",
       "   bill  pizzas  free_wine  got_wine  discount_customer  \n",
       "0  58.4       4          0         0                  1  \n",
       "1  26.4       2          0         0                  0  \n",
       "2  58.1       3          1         0                  0  \n",
       "3  35.2       3          0         0                  0  \n",
       "4  38.4       2          0         0                  0  "
      ]
     },
     "execution_count": 3,
     "metadata": {},
     "output_type": "execute_result"
    }
   ],
   "source": [
    "df.head()"
   ]
  },
  {
   "cell_type": "code",
   "execution_count": 4,
   "id": "9c857e1c-76f1-4c5d-8ece-4eaf9b591eee",
   "metadata": {},
   "outputs": [
    {
     "data": {
      "text/plain": [
       "(1266, 12)"
      ]
     },
     "execution_count": 4,
     "metadata": {},
     "output_type": "execute_result"
    }
   ],
   "source": [
    "df.shape"
   ]
  },
  {
   "cell_type": "code",
   "execution_count": 27,
   "id": "b2ad89fb-49b2-422a-87eb-0d7e2b2b8017",
   "metadata": {},
   "outputs": [
    {
     "data": {
      "text/plain": [
       "<matplotlib.collections.LineCollection at 0x22933199840>"
      ]
     },
     "execution_count": 27,
     "metadata": {},
     "output_type": "execute_result"
    },
    {
     "data": {
      "image/png": "[encoded data removed]",
      "text/plain": [
       "<Figure size 640x480 with 1 Axes>"
      ]
     },
     "metadata": {},
     "output_type": "display_data"
    }
   ],
   "source": [
    "df.temperature.plot.hist();\n",
    "plt.vlines(df.temperature.mean(), 0,300, color=\"red\")"
   ]
  },
  {
   "cell_type": "code",
   "execution_count": 9,
   "id": "5805ac60-3639-4d72-8779-1887c84bec26",
   "metadata": {},
   "outputs": [],
   "source": [
    "frequencies, groups =   np.histogram(df.temperature)"
   ]
  },
  {
   "cell_type": "code",
   "execution_count": 10,
   "id": "f3c13cb1-bddd-4e8b-a2d1-b9705c37cd29",
   "metadata": {},
   "outputs": [
    {
     "data": {
      "text/plain": [
       "array([  7,  46, 122, 270, 323, 284, 140,  54,  14,   6], dtype=int64)"
      ]
     },
     "execution_count": 10,
     "metadata": {},
     "output_type": "execute_result"
    }
   ],
   "source": [
    "frequencies"
   ]
  },
  {
   "cell_type": "code",
   "execution_count": 11,
   "id": "c2804eea-785d-4d87-8b57-91d166ac559c",
   "metadata": {},
   "outputs": [
    {
     "data": {
      "text/plain": [
       "array([41.75871798, 46.34108839, 50.9234588 , 55.5058292 , 60.08819961,\n",
       "       64.67057002, 69.25294043, 73.83531084, 78.41768124, 83.00005165,\n",
       "       87.58242206])"
      ]
     },
     "execution_count": 11,
     "metadata": {},
     "output_type": "execute_result"
    }
   ],
   "source": [
    "groups"
   ]
  },
  {
   "cell_type": "code",
   "execution_count": 12,
   "id": "0622d5d1-7688-49c2-8fa8-13ee362726f6",
   "metadata": {},
   "outputs": [
    {
     "data": {
      "text/plain": [
       "(10,)"
      ]
     },
     "execution_count": 12,
     "metadata": {},
     "output_type": "execute_result"
    }
   ],
   "source": [
    "frequencies.shape"
   ]
  },
  {
   "cell_type": "code",
   "execution_count": 14,
   "id": "c268e047-4dfc-4787-ac33-71a114cbd4ec",
   "metadata": {},
   "outputs": [
    {
     "data": {
      "text/plain": [
       "(11,)"
      ]
     },
     "execution_count": 14,
     "metadata": {},
     "output_type": "execute_result"
    }
   ],
   "source": [
    "groups.shape"
   ]
  },
  {
   "cell_type": "code",
   "execution_count": 22,
   "id": "9fcc6053-97bb-4ad3-a8f1-16c7db6cda1d",
   "metadata": {},
   "outputs": [],
   "source": [
    "table =  {f\"{groups[i]:.2f}-{groups[i+1]:.2f}\":frequencies[i]  for i in range(10)}"
   ]
  },
  {
   "cell_type": "code",
   "execution_count": 23,
   "id": "0f7fac8b-b496-4611-905c-5ac038db04ff",
   "metadata": {},
   "outputs": [
    {
     "data": {
      "text/plain": [
       "41.76-46.34      7\n",
       "46.34-50.92     46\n",
       "50.92-55.51    122\n",
       "55.51-60.09    270\n",
       "60.09-64.67    323\n",
       "64.67-69.25    284\n",
       "69.25-73.84    140\n",
       "73.84-78.42     54\n",
       "78.42-83.00     14\n",
       "83.00-87.58      6\n",
       "dtype: int64"
      ]
     },
     "execution_count": 23,
     "metadata": {},
     "output_type": "execute_result"
    }
   ],
   "source": [
    "pd.Series(table)"
   ]
  },
  {
   "cell_type": "code",
   "execution_count": 24,
   "id": "fd96300f-c03d-4daf-9e3a-0fbafb7f3f1e",
   "metadata": {},
   "outputs": [
    {
     "data": {
      "text/plain": [
       "62.86394976242496"
      ]
     },
     "execution_count": 24,
     "metadata": {},
     "output_type": "execute_result"
    }
   ],
   "source": [
    "df.temperature.mean()"
   ]
  },
  {
   "cell_type": "code",
   "execution_count": 25,
   "id": "ad95c615-60db-4725-a390-4520e6b92132",
   "metadata": {},
   "outputs": [
    {
     "data": {
      "text/plain": [
       "62.92665713"
      ]
     },
     "execution_count": 25,
     "metadata": {},
     "output_type": "execute_result"
    }
   ],
   "source": [
    "df.temperature.median()"
   ]
  },
  {
   "cell_type": "code",
   "execution_count": 26,
   "id": "bc2579a9-5ee6-4766-9ef7-80e7c4bf800d",
   "metadata": {},
   "outputs": [
    {
     "data": {
      "text/plain": [
       "-0.0627073675750438"
      ]
     },
     "execution_count": 26,
     "metadata": {},
     "output_type": "execute_result"
    }
   ],
   "source": [
    "df.temperature.mean() - df.temperature.median()"
   ]
  },
  {
   "cell_type": "code",
   "execution_count": 28,
   "id": "a8c9ebd9-66ab-4cf7-9d40-5ff382a12dad",
   "metadata": {},
   "outputs": [
    {
     "data": {
      "text/plain": [
       "6.9057076612181785"
      ]
     },
     "execution_count": 28,
     "metadata": {},
     "output_type": "execute_result"
    }
   ],
   "source": [
    "df.temperature.std()"
   ]
  },
  {
   "cell_type": "code",
   "execution_count": null,
   "id": "e0bd4e6f-9774-4561-b586-f5527c308f48",
   "metadata": {},
   "outputs": [],
   "source": []
  }
 ],
 "metadata": {
  "kernelspec": {
   "display_name": "Python 3 (ipykernel)",
   "language": "python",
   "name": "python3"
  },
  "language_info": {
   "codemirror_mode": {
    "name": "ipython",
    "version": 3
   },
   "file_extension": ".py",
   "mimetype": "text/x-python",
   "name": "python",
   "nbconvert_exporter": "python",
   "pygments_lexer": "ipython3",
   "version": "3.10.5"
  }
 },
 "nbformat": 4,
 "nbformat_minor": 5
}
