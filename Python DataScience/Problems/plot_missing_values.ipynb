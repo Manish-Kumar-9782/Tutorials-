{
 "cells": [
  {
   "cell_type": "markdown",
   "metadata": {},
   "source": [
    "\n",
    "# Imputing missing values before building an estimator\n",
    "\n",
    "Missing values can be replaced by the mean, the median or the most frequent\n",
    "value using the basic :class:`~sklearn.impute.SimpleImputer`.\n",
    "\n",
    "In this example we will investigate different imputation techniques:\n",
    "\n",
    "- imputation by the constant value 0\n",
    "- imputation by the mean value of each feature combined with a missing-ness\n",
    "  indicator auxiliary variable\n",
    "- k nearest neighbor imputation\n",
    "- iterative imputation\n",
    "\n",
    "We will use two datasets: Diabetes dataset which consists of 10 feature\n",
    "variables collected from diabetes patients with an aim to predict disease\n",
    "progression and California Housing dataset for which the target is the median\n",
    "house value for California districts.\n",
    "\n",
    "As neither of these datasets have missing values, we will remove some\n",
    "values to create new versions with artificially missing data. The performance\n",
    "of\n",
    ":class:`~sklearn.ensemble.RandomForestRegressor` on the full original dataset\n",
    "is then compared the performance on the altered datasets with the artificially\n",
    "missing values imputed using different techniques.\n"
   ]
  },
  {
   "cell_type": "code",
   "execution_count": 27,
   "metadata": {
    "collapsed": false,
    "jupyter": {
     "outputs_hidden": false
    }
   },
   "outputs": [],
   "source": [
    "# Authors: Maria Telenczuk  <https://github.com/maikia>\n",
    "# License: BSD 3 clause"
   ]
  },
  {
   "cell_type": "markdown",
   "metadata": {},
   "source": [
    "## Download the data and make missing values sets\n",
    "\n",
    " First we download the two datasets. Diabetes dataset is shipped with\n",
    " scikit-learn. It has 442 entries, each with 10 features. California Housing\n",
    " dataset is much larger with 20640 entries and 8 features. It needs to be\n",
    " downloaded. We will only use the first 400 entries for the sake of speeding\n",
    " up the calculations but feel free to use the whole dataset.\n",
    "\n",
    "\n"
   ]
  },
  {
   "cell_type": "code",
   "execution_count": 28,
   "metadata": {
    "collapsed": false,
    "jupyter": {
     "outputs_hidden": false
    }
   },
   "outputs": [],
   "source": [
    "import numpy as np\n",
    "\n",
    "from sklearn.datasets import fetch_california_housing, load_diabetes\n",
    "\n",
    "rng = np.random.RandomState(42)\n",
    "\n",
    "X_diabetes, y_diabetes = load_diabetes(return_X_y=True)\n",
    "X_california, y_california = fetch_california_housing(return_X_y=True)\n",
    "X_california = X_california[:300]\n",
    "y_california = y_california[:300]\n",
    "X_diabetes = X_diabetes[:300]\n",
    "y_diabetes = y_diabetes[:300]\n",
    "\n",
    "\n",
    "def add_missing_values(X_full, y_full):\n",
    "    n_samples, n_features = X_full.shape\n",
    "\n",
    "    # Add missing values in 75% of the lines\n",
    "    missing_rate = 0.75\n",
    "    n_missing_samples = int(n_samples * missing_rate)\n",
    "\n",
    "    missing_samples = np.zeros(n_samples, dtype=bool)\n",
    "    missing_samples[:n_missing_samples] = True\n",
    "\n",
    "    rng.shuffle(missing_samples)\n",
    "    missing_features = rng.randint(0, n_features, n_missing_samples)\n",
    "    X_missing = X_full.copy()\n",
    "    X_missing[missing_samples, missing_features] = np.nan\n",
    "    y_missing = y_full.copy()\n",
    "\n",
    "    return X_missing, y_missing\n",
    "\n",
    "\n",
    "X_miss_california, y_miss_california = add_missing_values(X_california, y_california)\n",
    "\n",
    "X_miss_diabetes, y_miss_diabetes = add_missing_values(X_diabetes, y_diabetes)"
   ]
  },
  {
   "cell_type": "markdown",
   "metadata": {},
   "source": [
    "## Impute the missing data and score\n",
    "Now we will write a function which will score the results on the differently\n",
    "imputed data. Let's look at each imputer separately:\n",
    "\n",
    "\n"
   ]
  },
  {
   "cell_type": "code",
   "execution_count": 29,
   "metadata": {
    "collapsed": false,
    "jupyter": {
     "outputs_hidden": false
    }
   },
   "outputs": [],
   "source": [
    "rng = np.random.RandomState(0)\n",
    "\n",
    "from sklearn.ensemble import RandomForestRegressor\n",
    "\n",
    "# To use the experimental IterativeImputer, we need to explicitly ask for it:\n",
    "from sklearn.experimental import enable_iterative_imputer  # noqa\n",
    "from sklearn.impute import IterativeImputer, KNNImputer, SimpleImputer\n",
    "from sklearn.model_selection import cross_val_score\n",
    "from sklearn.pipeline import make_pipeline\n",
    "\n",
    "N_SPLITS = 4\n",
    "regressor = RandomForestRegressor(random_state=0)"
   ]
  },
  {
   "cell_type": "markdown",
   "metadata": {},
   "source": [
    "### Missing information\n",
    "In addition to imputing the missing values, the imputers have an\n",
    "`add_indicator` parameter that marks the values that were missing, which\n",
    "might carry some information.\n",
    "\n",
    "\n"
   ]
  },
  {
   "cell_type": "code",
   "execution_count": 30,
   "metadata": {
    "collapsed": false,
    "jupyter": {
     "outputs_hidden": false
    }
   },
   "outputs": [],
   "source": [
    "def get_scores_for_imputer(imputer, X_missing, y_missing):\n",
    "    estimator = make_pipeline(imputer, regressor)\n",
    "    impute_scores = cross_val_score(\n",
    "        estimator, X_missing, y_missing, scoring=\"neg_mean_squared_error\", cv=N_SPLITS\n",
    "    )\n",
    "    return impute_scores\n",
    "\n",
    "\n",
    "x_labels = []\n",
    "\n",
    "mses_california = np.zeros(5)\n",
    "stds_california = np.zeros(5)\n",
    "mses_diabetes = np.zeros(5)\n",
    "stds_diabetes = np.zeros(5)"
   ]
  },
  {
   "cell_type": "code",
   "execution_count": 31,
   "metadata": {},
   "outputs": [],
   "source": [
    "def show_scores():\n",
    "    print(\"mses_california: \", mses_california)\n",
    "    print(\"stds_califormin: \", stds_california)\n",
    "    print(\"mses_diabetes: \", mses_diabetes)\n",
    "    print(\"stds_diabetes: \", stds_diabetes)"
   ]
  },
  {
   "cell_type": "code",
   "execution_count": 32,
   "metadata": {},
   "outputs": [
    {
     "name": "stdout",
     "output_type": "stream",
     "text": [
      "mses_california:  [0. 0. 0. 0. 0.]\n",
      "stds_califormin:  [0. 0. 0. 0. 0.]\n",
      "mses_diabetes:  [0. 0. 0. 0. 0.]\n",
      "stds_diabetes:  [0. 0. 0. 0. 0.]\n"
     ]
    }
   ],
   "source": [
    "show_scores()"
   ]
  },
  {
   "cell_type": "markdown",
   "metadata": {},
   "source": [
    "### Estimate the score\n",
    "First, we want to estimate the score on the original data:\n",
    "\n",
    "\n"
   ]
  },
  {
   "cell_type": "code",
   "execution_count": 33,
   "metadata": {
    "collapsed": false,
    "jupyter": {
     "outputs_hidden": false
    }
   },
   "outputs": [],
   "source": [
    "def get_full_score(X_full, y_full):\n",
    "    full_scores = cross_val_score(\n",
    "        regressor, X_full, y_full, scoring=\"neg_mean_squared_error\", cv=N_SPLITS\n",
    "    )\n",
    "    return full_scores.mean(), full_scores.std()\n",
    "\n",
    "\n",
    "mses_california[0], stds_california[0] = get_full_score(X_california, y_california)\n",
    "mses_diabetes[0], stds_diabetes[0] = get_full_score(X_diabetes, y_diabetes)\n",
    "x_labels.append(\"Full data\")"
   ]
  },
  {
   "cell_type": "code",
   "execution_count": 34,
   "metadata": {},
   "outputs": [
    {
     "name": "stdout",
     "output_type": "stream",
     "text": [
      "mses_california:  [-0.25579821  0.          0.          0.          0.        ]\n",
      "stds_califormin:  [0.13077601 0.         0.         0.         0.        ]\n",
      "mses_diabetes:  [-3179.54716133     0.             0.             0.\n",
      "     0.        ]\n",
      "stds_diabetes:  [112.01121167   0.           0.           0.           0.        ]\n"
     ]
    }
   ],
   "source": [
    "show_scores()"
   ]
  },
  {
   "cell_type": "markdown",
   "metadata": {},
   "source": [
    "### Replace missing values by 0\n",
    "\n",
    "Now we will estimate the score on the data where the missing values are\n",
    "replaced by 0:\n",
    "\n",
    "\n"
   ]
  },
  {
   "cell_type": "code",
   "execution_count": 35,
   "metadata": {
    "collapsed": false,
    "jupyter": {
     "outputs_hidden": false
    }
   },
   "outputs": [],
   "source": [
    "def get_impute_zero_score(X_missing, y_missing):\n",
    "    imputer = SimpleImputer(\n",
    "        missing_values=np.nan, add_indicator=True, strategy=\"constant\", fill_value=0\n",
    "    )\n",
    "    zero_impute_scores = get_scores_for_imputer(imputer, X_missing, y_missing)\n",
    "    return zero_impute_scores.mean(), zero_impute_scores.std()\n",
    "\n",
    "\n",
    "mses_california[1], stds_california[1] = get_impute_zero_score(\n",
    "    X_miss_california, y_miss_california\n",
    ")\n",
    "mses_diabetes[1], stds_diabetes[1] = get_impute_zero_score(\n",
    "    X_miss_diabetes, y_miss_diabetes\n",
    ")\n",
    "x_labels.append(\"Zero imputation\")"
   ]
  },
  {
   "cell_type": "markdown",
   "metadata": {},
   "source": [
    "### kNN-imputation of the missing values\n",
    "\n",
    ":class:`~sklearn.impute.KNNImputer` imputes missing values using the weighted\n",
    "or unweighted mean of the desired number of nearest neighbors.\n",
    "\n"
   ]
  },
  {
   "cell_type": "code",
   "execution_count": 36,
   "metadata": {
    "collapsed": false,
    "jupyter": {
     "outputs_hidden": false
    }
   },
   "outputs": [],
   "source": [
    "def get_impute_knn_score(X_missing, y_missing):\n",
    "    imputer = KNNImputer(missing_values=np.nan, add_indicator=True)\n",
    "    knn_impute_scores = get_scores_for_imputer(imputer, X_missing, y_missing)\n",
    "    return knn_impute_scores.mean(), knn_impute_scores.std()\n",
    "\n",
    "\n",
    "mses_california[2], stds_california[2] = get_impute_knn_score(\n",
    "    X_miss_california, y_miss_california\n",
    ")\n",
    "mses_diabetes[2], stds_diabetes[2] = get_impute_knn_score(\n",
    "    X_miss_diabetes, y_miss_diabetes\n",
    ")\n",
    "x_labels.append(\"KNN Imputation\")"
   ]
  },
  {
   "cell_type": "markdown",
   "metadata": {},
   "source": [
    "### Impute missing values with mean\n",
    "\n",
    "\n"
   ]
  },
  {
   "cell_type": "code",
   "execution_count": 37,
   "metadata": {
    "collapsed": false,
    "jupyter": {
     "outputs_hidden": false
    }
   },
   "outputs": [],
   "source": [
    "def get_impute_mean(X_missing, y_missing):\n",
    "    imputer = SimpleImputer(missing_values=np.nan, strategy=\"mean\", add_indicator=True)\n",
    "    mean_impute_scores = get_scores_for_imputer(imputer, X_missing, y_missing)\n",
    "    return mean_impute_scores.mean(), mean_impute_scores.std()\n",
    "\n",
    "\n",
    "mses_california[3], stds_california[3] = get_impute_mean(\n",
    "    X_miss_california, y_miss_california\n",
    ")\n",
    "mses_diabetes[3], stds_diabetes[3] = get_impute_mean(X_miss_diabetes, y_miss_diabetes)\n",
    "x_labels.append(\"Mean Imputation\")"
   ]
  },
  {
   "cell_type": "markdown",
   "metadata": {},
   "source": [
    "### Iterative imputation of the missing values\n",
    "\n",
    "Another option is the :class:`~sklearn.impute.IterativeImputer`. This uses\n",
    "round-robin linear regression, modeling each feature with missing values as a\n",
    "function of other features, in turn.\n",
    "The version implemented assumes Gaussian (output) variables. If your features\n",
    "are obviously non-normal, consider transforming them to look more normal\n",
    "to potentially improve performance.\n",
    "\n",
    "\n"
   ]
  },
  {
   "cell_type": "code",
   "execution_count": 38,
   "metadata": {
    "collapsed": false,
    "jupyter": {
     "outputs_hidden": false
    }
   },
   "outputs": [],
   "source": [
    "def get_impute_iterative(X_missing, y_missing):\n",
    "    imputer = IterativeImputer(\n",
    "        missing_values=np.nan,\n",
    "        add_indicator=True,\n",
    "        random_state=0,\n",
    "        n_nearest_features=3,\n",
    "        max_iter=1,\n",
    "        sample_posterior=True,\n",
    "    )\n",
    "    iterative_impute_scores = get_scores_for_imputer(imputer, X_missing, y_missing)\n",
    "    return iterative_impute_scores.mean(), iterative_impute_scores.std()\n",
    "\n",
    "\n",
    "mses_california[4], stds_california[4] = get_impute_iterative(\n",
    "    X_miss_california, y_miss_california\n",
    ")\n",
    "mses_diabetes[4], stds_diabetes[4] = get_impute_iterative(\n",
    "    X_miss_diabetes, y_miss_diabetes\n",
    ")\n",
    "x_labels.append(\"Iterative Imputation\")\n",
    "\n"
   ]
  },
  {
   "cell_type": "code",
   "execution_count": 39,
   "metadata": {},
   "outputs": [
    {
     "name": "stdout",
     "output_type": "stream",
     "text": [
      "mses_california:  [-0.25579821 -0.36133507 -0.29875512 -0.3176806  -0.32824132]\n",
      "stds_califormin:  [0.13077601 0.1778192  0.1469152  0.1463665  0.13457611]\n",
      "mses_diabetes:  [-3179.54716133 -3389.91018533 -3314.67311867 -3378.122649\n",
      " -3410.25819867]\n",
      "stds_diabetes:  [112.01121167 234.75154497 114.77193581 222.53804171 160.1734859 ]\n"
     ]
    }
   ],
   "source": [
    "show_scores()"
   ]
  },
  {
   "cell_type": "code",
   "execution_count": 40,
   "metadata": {},
   "outputs": [],
   "source": [
    "mses_diabetes = mses_diabetes * -1\n",
    "mses_california = mses_california * -1"
   ]
  },
  {
   "cell_type": "code",
   "execution_count": 41,
   "metadata": {},
   "outputs": [],
   "source": [
    "n_bars = np.arange(len(mses_diabetes))"
   ]
  },
  {
   "cell_type": "code",
   "execution_count": 42,
   "metadata": {},
   "outputs": [
    {
     "data": {
      "text/plain": [
       "array([0, 1, 2, 3, 4])"
      ]
     },
     "execution_count": 42,
     "metadata": {},
     "output_type": "execute_result"
    }
   ],
   "source": [
    "n_bars"
   ]
  },
  {
   "cell_type": "code",
   "execution_count": 43,
   "metadata": {},
   "outputs": [],
   "source": [
    "import matplotlib.pyplot as plt"
   ]
  },
  {
   "cell_type": "code",
   "execution_count": 44,
   "metadata": {},
   "outputs": [
    {
     "data": {
      "image/png": "[encoded data removed]",
      "text/plain": [
       "<Figure size 640x480 with 1 Axes>"
      ]
     },
     "metadata": {},
     "output_type": "display_data"
    }
   ],
   "source": [
    "for i in n_bars:\n",
    "    plt.barh(i, mses_diabetes[i], 0.6, xerr=stds_diabetes[i])"
   ]
  },
  {
   "cell_type": "markdown",
   "metadata": {},
   "source": [
    "## Plot the results\n",
    "\n",
    "Finally we are going to visualize the score:\n",
    "\n",
    "\n"
   ]
  },
  {
   "cell_type": "code",
   "execution_count": 45,
   "metadata": {
    "collapsed": false,
    "jupyter": {
     "outputs_hidden": false
    }
   },
   "outputs": [
    {
     "data": {
      "image/png": "[encoded data removed]",
      "text/plain": [
       "<Figure size 1200x600 with 2 Axes>"
      ]
     },
     "metadata": {},
     "output_type": "display_data"
    }
   ],
   "source": [
    "import matplotlib.pyplot as plt\n",
    "\n",
    "n_bars = len(mses_diabetes)\n",
    "xval = np.arange(n_bars)\n",
    "\n",
    "colors = [\"r\", \"g\", \"b\", \"orange\", \"black\"]\n",
    "\n",
    "# plot diabetes results\n",
    "plt.figure(figsize=(12, 6))\n",
    "ax1 = plt.subplot(121)\n",
    "for j in xval:\n",
    "    ax1.barh(\n",
    "        j,\n",
    "        mses_diabetes[j],\n",
    "        xerr=stds_diabetes[j],\n",
    "        color=colors[j],\n",
    "        alpha=0.6,\n",
    "        align=\"center\",\n",
    "    )\n",
    "\n",
    "ax1.set_title(\"Imputation Techniques with Diabetes Data\")\n",
    "ax1.set_xlim(left=np.min(mses_diabetes) * 0.9, right=np.max(mses_diabetes) * 1.1)\n",
    "ax1.set_yticks(xval)\n",
    "ax1.set_xlabel(\"MSE\")\n",
    "ax1.invert_yaxis()\n",
    "ax1.set_yticklabels(x_labels)\n",
    "\n",
    "# plot california dataset results\n",
    "ax2 = plt.subplot(122)\n",
    "for j in xval:\n",
    "    ax2.barh(\n",
    "        j,\n",
    "        mses_california[j],\n",
    "        xerr=stds_california[j],\n",
    "        color=colors[j],\n",
    "        alpha=0.6,\n",
    "        align=\"center\",\n",
    "    )\n",
    "\n",
    "ax2.set_title(\"Imputation Techniques with California Data\")\n",
    "ax2.set_yticks(xval)\n",
    "ax2.set_xlabel(\"MSE\")\n",
    "ax2.invert_yaxis()\n",
    "ax2.set_yticklabels([\"\"] * n_bars)\n",
    "\n",
    "plt.show()"
   ]
  },
  {
   "cell_type": "markdown",
   "metadata": {},
   "source": [
    "You can also try different techniques. For instance, the median is a more\n",
    "robust estimator for data with high magnitude variables which could dominate\n",
    "results (otherwise known as a 'long tail').\n",
    "\n"
   ]
  }
 ],
 "metadata": {
  "kernelspec": {
   "display_name": "Python 3 (ipykernel)",
   "language": "python",
   "name": "python3"
  },
  "language_info": {
   "codemirror_mode": {
    "name": "ipython",
    "version": 3
   },
   "file_extension": ".py",
   "mimetype": "text/x-python",
   "name": "python",
   "nbconvert_exporter": "python",
   "pygments_lexer": "ipython3",
   "version": "3.10.5"
  }
 },
 "nbformat": 4,
 "nbformat_minor": 4
}
