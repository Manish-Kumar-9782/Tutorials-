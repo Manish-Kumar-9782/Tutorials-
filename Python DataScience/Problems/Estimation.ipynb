{
 "cells": [
  {
   "cell_type": "code",
   "execution_count": 1,
   "metadata": {},
   "outputs": [],
   "source": [
    "import numpy as np\n",
    "import scipy.stats as stat"
   ]
  },
  {
   "cell_type": "markdown",
   "metadata": {},
   "source": [
    "**Critical Value**"
   ]
  },
  {
   "cell_type": "code",
   "execution_count": 26,
   "metadata": {},
   "outputs": [],
   "source": [
    "# critical value for a confidence interval\n",
    "critical_value = lambda cl : abs(round(stat.norm.ppf(0.5 - (cl/2)), 3)) "
   ]
  },
  {
   "cell_type": "code",
   "execution_count": 30,
   "metadata": {},
   "outputs": [
    {
     "data": {
      "text/plain": [
       "2.576"
      ]
     },
     "execution_count": 30,
     "metadata": {},
     "output_type": "execute_result"
    }
   ],
   "source": [
    "critical_value(.99)"
   ]
  },
  {
   "cell_type": "markdown",
   "metadata": {},
   "source": [
    "**Confidence Interval**"
   ]
  },
  {
   "cell_type": "code",
   "execution_count": 38,
   "metadata": {},
   "outputs": [
    {
     "data": {
      "text/plain": [
       "array([177.08016729, 156.89368786, 188.85379359, 182.36785019,\n",
       "       163.04878063, 171.03983012, 154.70345866, 167.19858991,\n",
       "       179.12226023, 165.70033233, 155.35390916, 163.51776612,\n",
       "       159.92116268, 170.45336665, 158.73517514, 165.49816153,\n",
       "       175.61697116, 144.08773938, 166.421403  , 172.9749837 ,\n",
       "       153.82790078, 162.77493369, 166.64078028, 158.85880452,\n",
       "       175.05120366, 175.28582684, 161.11909439, 175.77720092,\n",
       "       155.68807386, 170.86520923, 162.03287838, 152.57130914,\n",
       "       169.5415479 , 167.24625688, 161.79983819, 173.49161249,\n",
       "       169.40820294, 168.51940987, 177.94956248, 188.39307745,\n",
       "       172.3626231 , 182.33473153, 156.96285213, 179.85714418,\n",
       "       163.61619537, 163.80817448, 175.63596691, 161.501672  ,\n",
       "       177.35949015, 184.35367614, 168.45459597, 158.96569934,\n",
       "       175.8168872 , 167.51044779, 171.86872417, 150.82955773,\n",
       "       178.06662393, 181.69798194, 188.28568242, 173.66275403,\n",
       "       159.84389081, 183.34585619, 181.56213203, 150.36735923,\n",
       "       170.05172104, 176.68838626, 177.82558758, 174.67779792,\n",
       "       166.26709922, 166.23260729, 187.47293865, 157.69922968,\n",
       "       163.4497397 , 171.11147617, 174.07490164, 154.09002311,\n",
       "       156.60012863, 175.59056424, 167.21209755, 173.70332901,\n",
       "       186.12540572, 168.1320886 , 155.67236435, 165.89915635,\n",
       "       170.41901946, 180.57247968, 188.32468644, 173.95636438,\n",
       "       163.37989256, 160.9060889 , 155.39481979, 170.4070021 ,\n",
       "       172.57803804, 164.31209536, 167.30709412, 171.85461012,\n",
       "       177.47560384, 176.35771174, 167.0620493 , 179.21162897])"
      ]
     },
     "execution_count": 38,
     "metadata": {},
     "output_type": "execute_result"
    }
   ],
   "source": [
    "stat.norm.rvs(size=100, loc=170, scale=10)"
   ]
  },
  {
   "cell_type": "code",
   "execution_count": 17,
   "metadata": {},
   "outputs": [
    {
     "data": {
      "text/plain": [
       "0.475"
      ]
     },
     "execution_count": 17,
     "metadata": {},
     "output_type": "execute_result"
    }
   ],
   "source": [
    "0.95/2"
   ]
  },
  {
   "cell_type": "code",
   "execution_count": 18,
   "metadata": {},
   "outputs": [
    {
     "data": {
      "text/plain": [
       "0.025000000000000022"
      ]
     },
     "execution_count": 18,
     "metadata": {},
     "output_type": "execute_result"
    }
   ],
   "source": [
    "0.5 - 0.475"
   ]
  },
  {
   "cell_type": "code",
   "execution_count": null,
   "metadata": {},
   "outputs": [],
   "source": []
  }
 ],
 "metadata": {
  "kernelspec": {
   "display_name": "Python 3",
   "language": "python",
   "name": "python3"
  },
  "language_info": {
   "codemirror_mode": {
    "name": "ipython",
    "version": 3
   },
   "file_extension": ".py",
   "mimetype": "text/x-python",
   "name": "python",
   "nbconvert_exporter": "python",
   "pygments_lexer": "ipython3",
   "version": "3.10.5"
  }
 },
 "nbformat": 4,
 "nbformat_minor": 2
}
