{
 "cells": [
  {
   "cell_type": "markdown",
   "id": "67a4aec9-adc8-45b8-95c6-eb45e9c8aaf9",
   "metadata": {},
   "source": [
    "# List Problems"
   ]
  },
  {
   "cell_type": "markdown",
   "id": "845e10a5-f809-4eb0-aa71-9b63cbcd8890",
   "metadata": {},
   "source": [
    "### Problem 1"
   ]
  },
  {
   "cell_type": "markdown",
   "id": "526e97a9-b081-457a-8494-fef3a8c33816",
   "metadata": {},
   "source": [
    "The record of a student (Name, Roll No.,\n",
    "Marks in five subjects and percentage of\n",
    "marks) is stored in the following list:\n",
    "\n",
    "```python\n",
    "stRecord = ['Raman','A-36',[56,98,99,72,69],\n",
    "78.8]\n",
    "```\n",
    "\n",
    "Write Python statements to retrieve the following\n",
    "information from the list stRecord.\n",
    "1. Percentage of the student\n",
    "2. Marks in the fifth subject\n",
    "3. Maximum marks of the student\n",
    "4. Roll no. of the student\n",
    "5. Change the name of the student from ‘Raman’ to ‘Raghav’"
   ]
  },
  {
   "cell_type": "code",
   "execution_count": 1,
   "id": "fcde0693-9a85-4bf3-8144-bc1f914acd16",
   "metadata": {},
   "outputs": [],
   "source": [
    "stRecord = ['Jigyasa', 'B-25', [56,98,99,72,69],78.8]"
   ]
  },
  {
   "cell_type": "code",
   "execution_count": 4,
   "id": "dbf01a86-3704-4706-a93b-a2008fdbc849",
   "metadata": {},
   "outputs": [],
   "source": [
    "stRecord[0] = \"Raman\""
   ]
  },
  {
   "cell_type": "code",
   "execution_count": 5,
   "id": "237dc8fe-026b-4f58-8dbf-841f4a8f08e6",
   "metadata": {},
   "outputs": [
    {
     "data": {
      "text/plain": [
       "['Raman', 'B-25', [56, 98, 99, 72, 69], 78.8]"
      ]
     },
     "execution_count": 5,
     "metadata": {},
     "output_type": "execute_result"
    }
   ],
   "source": [
    "stRecord"
   ]
  },
  {
   "cell_type": "code",
   "execution_count": 8,
   "id": "037bb763-57ff-4c7f-907a-e7eac0026200",
   "metadata": {},
   "outputs": [],
   "source": [
    "def studentRecord(st_record):\n",
    "    \n",
    "    print(\"Percenteage: \", st_record[3])\n",
    "    print(\"Marks In Fifth Subject: \", st_record[2][4])\n",
    "    print(\"Maximum marks of the student: \", max(st_record[2]))\n",
    "    print(\"Roll-No of Student: \", st_record[1])"
   ]
  },
  {
   "cell_type": "code",
   "execution_count": 9,
   "id": "d6ea6501-d43e-4aa1-94ae-18937a995a3e",
   "metadata": {},
   "outputs": [
    {
     "name": "stdout",
     "output_type": "stream",
     "text": [
      "Percenteage:  78.8\n",
      "Marks In Fifth Subject:  69\n",
      "Maximum marks of the student:  99\n",
      "Roll-No of Student:  B-25\n"
     ]
    }
   ],
   "source": [
    "studentRecord(stRecord)"
   ]
  },
  {
   "cell_type": "markdown",
   "id": "efe016e0-155e-471a-a300-2213c6645693",
   "metadata": {},
   "source": [
    "____"
   ]
  },
  {
   "cell_type": "markdown",
   "id": "877fe59e-3d6c-4ee9-bd97-f528e38bd06e",
   "metadata": {},
   "source": [
    "### Problem 2\n",
    "Write a program to read elements of a list.\n",
    "\n",
    "1. The program should ask for the position of\n",
    "the element to be deleted from the list. Write\n",
    "a function to delete the element at the desired\n",
    "position in the list.\n",
    "\n",
    "2. The program should ask for the value of the\n",
    "element to be deleted from the list. Write a\n",
    "function to delete the element of this value\n",
    "from the list."
   ]
  },
  {
   "cell_type": "code",
   "execution_count": 10,
   "id": "1dd1d993-54ce-41b7-ac8b-2e29d7752631",
   "metadata": {},
   "outputs": [],
   "source": [
    "# first making a list,\n",
    "mylist = [10, 20, \"hello\", \"jaipur\", \"2020\", 3.2, True]"
   ]
  },
  {
   "cell_type": "code",
   "execution_count": 22,
   "id": "277e8d0b-c45e-473d-83b6-062c88d96fd4",
   "metadata": {},
   "outputs": [],
   "source": [
    "#Now we will make a function which will take our list and index number of\n",
    "# value to be deleted.\n",
    "\n",
    "def deleteByIndex(List):\n",
    "    \n",
    "    value = input(\"Enter Index Number: \")\n",
    "    # our value is in string format now we need to convert into integer\n",
    "    value = int(value)\n",
    "    \n",
    "    List.pop(value)\n",
    "    print(\"List: \", List)"
   ]
  },
  {
   "cell_type": "code",
   "execution_count": 12,
   "id": "fdcdd6d2-0650-4b78-b5ab-5f251375a6af",
   "metadata": {},
   "outputs": [
    {
     "name": "stdin",
     "output_type": "stream",
     "text": [
      "Enter Index Number:  2\n"
     ]
    }
   ],
   "source": [
    "deleteByIndex(mylist)"
   ]
  },
  {
   "cell_type": "code",
   "execution_count": 13,
   "id": "522712f1-4628-4218-82a0-6d20e216c057",
   "metadata": {},
   "outputs": [
    {
     "data": {
      "text/plain": [
       "[10, 20, 'jaipur', '2020', 3.2, True]"
      ]
     },
     "execution_count": 13,
     "metadata": {},
     "output_type": "execute_result"
    }
   ],
   "source": [
    "mylist"
   ]
  },
  {
   "cell_type": "code",
   "execution_count": 23,
   "id": "0c61ad3e-ca39-4d26-8b0f-9fe6443f5bfb",
   "metadata": {},
   "outputs": [],
   "source": [
    "def deleteByValue(List):\n",
    "    \n",
    "    value = input(\"Enter Value To Delete: \")\n",
    "    # our value is in string format now we need to convert into integer\n",
    "    # value = int(value)\n",
    "    \n",
    "    List.remove(value)\n",
    "    print(\"List: \", List)"
   ]
  },
  {
   "cell_type": "code",
   "execution_count": 24,
   "id": "879fa23b-96ff-4a0f-bc24-07e6b9d78386",
   "metadata": {},
   "outputs": [],
   "source": [
    "mylist2 = [\"manish\", \"kushal\", \"Jigyasa\", \"ravi\", \"Kuldeep\"]"
   ]
  },
  {
   "cell_type": "code",
   "execution_count": 25,
   "id": "51bcdd0e-1670-466e-920a-be6135b7af11",
   "metadata": {},
   "outputs": [
    {
     "name": "stdin",
     "output_type": "stream",
     "text": [
      "Enter Value To Delete:  kushal\n"
     ]
    },
    {
     "name": "stdout",
     "output_type": "stream",
     "text": [
      "List:  ['manish', 'Jigyasa', 'ravi', 'Kuldeep']\n"
     ]
    }
   ],
   "source": [
    "deleteByValue(mylist2)"
   ]
  },
  {
   "cell_type": "code",
   "execution_count": 20,
   "id": "36f157fb-cd9d-4c62-892d-bf7c04880697",
   "metadata": {},
   "outputs": [
    {
     "data": {
      "text/plain": [
       "['manish', 'Jigyasa', 'ravi', 'Kuldeep']"
      ]
     },
     "execution_count": 20,
     "metadata": {},
     "output_type": "execute_result"
    }
   ],
   "source": [
    "mylist2"
   ]
  },
  {
   "cell_type": "markdown",
   "id": "8ba0a036-4006-43a1-84e2-df30d22ef4a3",
   "metadata": {},
   "source": [
    "## Problem 3\n",
    "\n",
    " What will be the output of the following code\n",
    "segment:\n",
    "```python\n",
    "myList = [1,2,3,4,5,6,7,8,9,10]\n",
    "del myList[3:]\n",
    "print(myList)\n",
    "\n",
    "myList = [1,2,3,4,5,6,7,8,9,10]\n",
    "del myList[:5]\n",
    "print(myList)\n",
    "\n",
    "\n",
    "myList = [1,2,3,4,5,6,7,8,9,10]\n",
    "del myList[::2]\n",
    "print(myList)\n",
    "```"
   ]
  },
  {
   "cell_type": "markdown",
   "id": "66045126-7640-415c-bbed-355de0f4358d",
   "metadata": {},
   "source": [
    "**1. Slicing left Portion**\n"
   ]
  },
  {
   "cell_type": "code",
   "execution_count": 1,
   "id": "e84c545f-4ada-4892-b387-5e968e6a6f64",
   "metadata": {},
   "outputs": [],
   "source": [
    "myList = [1,2,3,4,5,6,7,8,9,10]"
   ]
  },
  {
   "cell_type": "code",
   "execution_count": 3,
   "id": "1fcc5597-1f0f-4682-8501-a3331716b1a3",
   "metadata": {},
   "outputs": [
    {
     "data": {
      "text/plain": [
       "[4, 5, 6, 7, 8, 9, 10]"
      ]
     },
     "execution_count": 3,
     "metadata": {},
     "output_type": "execute_result"
    }
   ],
   "source": [
    "# Now we will give the start point only , no end point\n",
    "myList[3:]"
   ]
  },
  {
   "cell_type": "code",
   "execution_count": 4,
   "id": "2eaf980c-eff6-4072-8fcc-4ba0dde268c9",
   "metadata": {},
   "outputs": [],
   "source": [
    "# Now deleting the above selected list items\n",
    "del myList[3:]"
   ]
  },
  {
   "cell_type": "code",
   "execution_count": 5,
   "id": "5cdc8b29-f97b-4fd0-95f8-5effc0aa48df",
   "metadata": {},
   "outputs": [
    {
     "data": {
      "text/plain": [
       "[1, 2, 3]"
      ]
     },
     "execution_count": 5,
     "metadata": {},
     "output_type": "execute_result"
    }
   ],
   "source": [
    "# Now checking our List\n",
    "myList"
   ]
  },
  {
   "cell_type": "markdown",
   "id": "2c53e1f9-8b66-4b76-80ea-fcc2b6454a8a",
   "metadata": {},
   "source": [
    "____\n",
    "**2.Slicing Right Portion**"
   ]
  },
  {
   "cell_type": "code",
   "execution_count": 6,
   "id": "f75b585c-5e5d-4380-b482-bfe0a548e42f",
   "metadata": {},
   "outputs": [],
   "source": [
    "myList = [1,2,3,4,5,6,7,8,9,10]"
   ]
  },
  {
   "cell_type": "code",
   "execution_count": 7,
   "id": "799d53a8-2228-4323-9661-7798123c0f74",
   "metadata": {},
   "outputs": [
    {
     "data": {
      "text/plain": [
       "[1, 2, 3, 4, 5]"
      ]
     },
     "execution_count": 7,
     "metadata": {},
     "output_type": "execute_result"
    }
   ],
   "source": [
    "# slicing right portion from index number 5\n",
    "myList[:5]"
   ]
  },
  {
   "cell_type": "code",
   "execution_count": 8,
   "id": "62c9659b-ecbc-4fe3-974b-53a326a65377",
   "metadata": {},
   "outputs": [],
   "source": [
    "# now deleting above sliced items\n",
    "del myList[:5]"
   ]
  },
  {
   "cell_type": "code",
   "execution_count": 9,
   "id": "186e3c05-1cec-4fcb-b1f1-d550d028fbab",
   "metadata": {},
   "outputs": [
    {
     "data": {
      "text/plain": [
       "[6, 7, 8, 9, 10]"
      ]
     },
     "execution_count": 9,
     "metadata": {},
     "output_type": "execute_result"
    }
   ],
   "source": [
    "# checking our list after deleting sliced items\n",
    "myList"
   ]
  },
  {
   "cell_type": "markdown",
   "id": "8d55ace7-0f8d-4366-ba9e-9d59038e3b49",
   "metadata": {},
   "source": [
    "____\n",
    "**3. Slicing with step**"
   ]
  },
  {
   "cell_type": "code",
   "execution_count": 10,
   "id": "6874852f-4fd0-4695-9165-ead08b23c0d7",
   "metadata": {},
   "outputs": [],
   "source": [
    "myList = [1,2,3,4,5,6,7,8,9,10]"
   ]
  },
  {
   "cell_type": "code",
   "execution_count": 11,
   "id": "1fec6e78-71b3-413f-a137-757eb5fe989c",
   "metadata": {},
   "outputs": [
    {
     "data": {
      "text/plain": [
       "[1, 3, 5, 7, 9]"
      ]
     },
     "execution_count": 11,
     "metadata": {},
     "output_type": "execute_result"
    }
   ],
   "source": [
    "# Now slicing our list with step 2\n",
    "myList[::2]"
   ]
  },
  {
   "cell_type": "code",
   "execution_count": 12,
   "id": "6c041c0f-95e2-4963-9321-195ddd2d079a",
   "metadata": {},
   "outputs": [],
   "source": [
    "# deleting the sliced items from list\n",
    "del myList[::2]"
   ]
  },
  {
   "cell_type": "code",
   "execution_count": 13,
   "id": "f26d420a-0d6c-4f45-ba4e-561d38f75fce",
   "metadata": {},
   "outputs": [
    {
     "data": {
      "text/plain": [
       "[2, 4, 6, 8, 10]"
      ]
     },
     "execution_count": 13,
     "metadata": {},
     "output_type": "execute_result"
    }
   ],
   "source": [
    "# checking our list\n",
    "myList"
   ]
  },
  {
   "cell_type": "markdown",
   "id": "51e2e8d9-2a84-438e-9a40-325992552409",
   "metadata": {},
   "source": [
    "## Problem 4\n",
    "\n",
    "Write a program to read a list of n integers and find their median.\n",
    "\n",
    "`Note`: The median value of a list of values is the middle one when they are arranged in order. If there are two middle values then take their average.\n",
    "\n",
    "`Hint`: You can use an built-in function to sort the list\n",
    "\n",
    "1. first sort the list.\n",
    "2. find the length of the list.\n",
    "3. if length value is odd find the middle value. (it is the median value )\n",
    "4. if length value is even then find the average of two middle values "
   ]
  },
  {
   "cell_type": "code",
   "execution_count": 2,
   "id": "cd288484-368d-46b5-a81d-2530118f7026",
   "metadata": {},
   "outputs": [],
   "source": [
    "mylist1 = [56, 98, 99, 72, 69] # odd length\n",
    "mylist2 = [2,3,6,7,5,8,9,4,2, 7] # even length"
   ]
  },
  {
   "cell_type": "code",
   "execution_count": 3,
   "id": "38915cb9-87d0-43e3-8604-2c4971574800",
   "metadata": {},
   "outputs": [],
   "source": [
    "# first using mylist1\n",
    "\n",
    "# sorting mylist1\n",
    "mylist1.sort()"
   ]
  },
  {
   "cell_type": "code",
   "execution_count": 4,
   "id": "9f929055-c2a9-4e5a-ae44-288ab477e55e",
   "metadata": {},
   "outputs": [],
   "source": [
    "# finding the length of mylist1\n",
    "length = len(mylist1)"
   ]
  },
  {
   "cell_type": "code",
   "execution_count": 5,
   "id": "8c3c4851-57f7-458c-83fc-ec182a5f2692",
   "metadata": {},
   "outputs": [
    {
     "data": {
      "text/plain": [
       "5"
      ]
     },
     "execution_count": 5,
     "metadata": {},
     "output_type": "execute_result"
    }
   ],
   "source": [
    "length"
   ]
  },
  {
   "cell_type": "code",
   "execution_count": 7,
   "id": "1c4b2bf7-be66-4986-bae2-85c21f1dd63e",
   "metadata": {},
   "outputs": [
    {
     "data": {
      "text/plain": [
       "2"
      ]
     },
     "execution_count": 7,
     "metadata": {},
     "output_type": "execute_result"
    }
   ],
   "source": [
    "# getting the half of length\n",
    "int(length/2)"
   ]
  },
  {
   "cell_type": "code",
   "execution_count": 8,
   "id": "7a8e97d8-df12-4eea-a871-add31368faa9",
   "metadata": {},
   "outputs": [],
   "source": [
    "midPoint = int(length/2)"
   ]
  },
  {
   "cell_type": "code",
   "execution_count": 9,
   "id": "6379970d-48a7-4cb3-a79c-b36d23134508",
   "metadata": {},
   "outputs": [
    {
     "data": {
      "text/plain": [
       "2"
      ]
     },
     "execution_count": 9,
     "metadata": {},
     "output_type": "execute_result"
    }
   ],
   "source": [
    "midPoint"
   ]
  },
  {
   "cell_type": "code",
   "execution_count": 10,
   "id": "4e8f67ef-2555-4afc-af61-cea23ab733ba",
   "metadata": {},
   "outputs": [
    {
     "data": {
      "text/plain": [
       "[56, 69, 72, 98, 99]"
      ]
     },
     "execution_count": 10,
     "metadata": {},
     "output_type": "execute_result"
    }
   ],
   "source": [
    "# firt checking our sorted mylist1\n",
    "mylist1"
   ]
  },
  {
   "cell_type": "code",
   "execution_count": 11,
   "id": "37946852-768b-4d78-8cb5-7dee777c5007",
   "metadata": {},
   "outputs": [
    {
     "data": {
      "text/plain": [
       "72"
      ]
     },
     "execution_count": 11,
     "metadata": {},
     "output_type": "execute_result"
    }
   ],
   "source": [
    "mylist1[midPoint]"
   ]
  },
  {
   "cell_type": "markdown",
   "id": "ca8796fd-1600-4582-9d22-cdc90929149c",
   "metadata": {},
   "source": [
    "Now we will put above code into function."
   ]
  },
  {
   "cell_type": "code",
   "execution_count": 12,
   "id": "b84fed70-6b3e-4b17-9785-ac28011a7e07",
   "metadata": {},
   "outputs": [],
   "source": [
    "# this function will only work on odd number of list items\n",
    "def find_median(Mylist):\n",
    "    \n",
    "    # sort the list\n",
    "    Mylist.sort()\n",
    "    \n",
    "    # now find the length\n",
    "    length = len(Mylist)\n",
    "    \n",
    "    #getting the midPoint Index\n",
    "    midPoint = int(length/2)\n",
    "    \n",
    "    # Accessing midPoint value from sotred list.\n",
    "    return Mylist[midPoint]"
   ]
  },
  {
   "cell_type": "code",
   "execution_count": 15,
   "id": "19d91e91-a172-494e-8477-f4af90e898fb",
   "metadata": {},
   "outputs": [
    {
     "data": {
      "text/plain": [
       "6"
      ]
     },
     "execution_count": 15,
     "metadata": {},
     "output_type": "execute_result"
    }
   ],
   "source": [
    "find_median(mylist2)"
   ]
  },
  {
   "cell_type": "code",
   "execution_count": 16,
   "id": "663db46c-ca25-43ad-af85-5f1af1a11d83",
   "metadata": {},
   "outputs": [],
   "source": [
    "# this function will work on all list\n",
    "def find_median(Mylist):\n",
    "    \n",
    "    # sort the list\n",
    "    Mylist.sort()\n",
    "    \n",
    "    # now find the length\n",
    "    length = len(Mylist)\n",
    "    \n",
    "    #getting the midPoint Index\n",
    "    midPoint = int(length/2)\n",
    "    \n",
    "    if(length % 2 == 0 ):\n",
    "        # this is even number of list items case\n",
    "        midValueSum = Mylist[midPoint] + Mylist[midPoint-1]\n",
    "        return midValueSum/2\n",
    "    else:\n",
    "        # this is odd number of list items case\n",
    "        # Accessing midPoint value from sotred list.\n",
    "        return Mylist[midPoint]"
   ]
  },
  {
   "cell_type": "code",
   "execution_count": 17,
   "id": "d5a3e015-fbd9-4a97-98c3-5c374ec9d3b4",
   "metadata": {},
   "outputs": [
    {
     "data": {
      "text/plain": [
       "[56, 69, 72, 98, 99]"
      ]
     },
     "execution_count": 17,
     "metadata": {},
     "output_type": "execute_result"
    }
   ],
   "source": [
    "mylist1"
   ]
  },
  {
   "cell_type": "code",
   "execution_count": 18,
   "id": "7438cc50-a92b-492c-b255-27473b46f64b",
   "metadata": {},
   "outputs": [
    {
     "data": {
      "text/plain": [
       "72"
      ]
     },
     "execution_count": 18,
     "metadata": {},
     "output_type": "execute_result"
    }
   ],
   "source": [
    "find_median(mylist1)"
   ]
  },
  {
   "cell_type": "code",
   "execution_count": 19,
   "id": "9c367df7-1551-4b91-9b76-c8ce791b28e1",
   "metadata": {},
   "outputs": [
    {
     "data": {
      "text/plain": [
       "[2, 2, 3, 4, 5, 6, 7, 7, 8, 9]"
      ]
     },
     "execution_count": 19,
     "metadata": {},
     "output_type": "execute_result"
    }
   ],
   "source": [
    "mylist2"
   ]
  },
  {
   "cell_type": "code",
   "execution_count": 20,
   "id": "17f781fe-9856-4609-9f8c-0e227b0bee4a",
   "metadata": {},
   "outputs": [
    {
     "data": {
      "text/plain": [
       "5.5"
      ]
     },
     "execution_count": 20,
     "metadata": {},
     "output_type": "execute_result"
    }
   ],
   "source": [
    "find_median(mylist2)"
   ]
  },
  {
   "cell_type": "code",
   "execution_count": 21,
   "id": "0a092af3-0755-4228-83a9-36715234c7ec",
   "metadata": {},
   "outputs": [
    {
     "data": {
      "text/plain": [
       "[2, 2, 3, 4, 5, 6, 7, 7, 8, 9]"
      ]
     },
     "execution_count": 21,
     "metadata": {},
     "output_type": "execute_result"
    }
   ],
   "source": [
    "mylist2"
   ]
  },
  {
   "cell_type": "code",
   "execution_count": 22,
   "id": "f005fb6c-5727-417f-b2d8-48dd0da1f43a",
   "metadata": {},
   "outputs": [],
   "source": [
    "mylist2.reverse()"
   ]
  },
  {
   "cell_type": "code",
   "execution_count": 23,
   "id": "ad7936e9-1d87-4f3f-9bc3-a83e8158bd83",
   "metadata": {},
   "outputs": [
    {
     "data": {
      "text/plain": [
       "[9, 8, 7, 7, 6, 5, 4, 3, 2, 2]"
      ]
     },
     "execution_count": 23,
     "metadata": {},
     "output_type": "execute_result"
    }
   ],
   "source": [
    "mylist2"
   ]
  },
  {
   "cell_type": "markdown",
   "id": "0653dea5-9e53-4d36-8555-5332b0dc010b",
   "metadata": {},
   "source": [
    "# Tuples Problems"
   ]
  },
  {
   "cell_type": "markdown",
   "id": "9bc1eb34-ec25-4419-a1b2-6a9585aaae58",
   "metadata": {},
   "source": [
    "### 1. Problem one\n",
    "\n",
    "Write a program to read email IDs of n number of\n",
    "students and store them in a tuple. Create two new\n",
    "tuples, one to store only the usernames from the\n",
    "email IDs and second to store domain names from\n",
    "the email IDs. Print all three tuples at the end of the\n",
    "program. [Hint: You may use the function split()]\n",
    "\n",
    "`Problem Steps`\n",
    "\n",
    "1. Take input of n number of students.\n",
    "2. Now we will take email as input for each student.\n",
    "3. append each input into a list or tuple.\n",
    "4. Make two tuples,\n",
    "5. first tuple will take only the user name of all inputs.\n",
    "6. second tuple will take only the domain names.\n",
    "\n",
    "For example: \n",
    "\n",
    "```python\n",
    "    emial = \"jigyasa007@gmail.com\";\n",
    "    \n",
    "    output = (\"jigyasa007\") (\"gmail.com\")\n",
    "```"
   ]
  },
  {
   "cell_type": "markdown",
   "id": "97f1e926-6910-4b24-beb0-4c8598a840af",
   "metadata": {},
   "source": [
    "## Problem 2\n",
    "\n",
    "**Problem:**\n",
    "\n",
    "Write a program to input names of n students and\n",
    "store them in a tuple. Also, input a name from the\n",
    "user and find if this student is present in the tuple or not.\n",
    "\n",
    "We can accomplish these by:\n",
    "1. writing a user defined function\n",
    "2. using the built-in function\n",
    "\n",
    "\n",
    "`Problem Steps`\n",
    "\n",
    "1. we have n number of students name in tupel (any means of input.)\n",
    "2. Now we will take another input in which we take name of studnet.\n",
    "3. Now match the recent input student name is present inside the our students name's tuple.\n",
    "\n",
    "\n",
    "`Hint: ` Make function with for loop, test each item with user input."
   ]
  },
  {
   "cell_type": "code",
   "execution_count": 1,
   "id": "8228179a-00ab-4136-b790-2398a33eef02",
   "metadata": {},
   "outputs": [],
   "source": [
    "def User():\n",
    "    # first we will take the input, that how many user input we will get.\n",
    "    n_user = int(input(\"Enter user Numbers: \"))\n",
    "    \n",
    "    # now we will make a blank list in which we will store all the input users.\n",
    "    users = []\n",
    "    for user_index in range(0, n_user):\n",
    "        users.append(input(f\"Enter {user_index+1} User Name: \"))\n",
    "        \n",
    "    return users"
   ]
  },
  {
   "cell_type": "code",
   "execution_count": 4,
   "id": "4b0d0f5e-7417-4bc4-9948-de0f934436bd",
   "metadata": {},
   "outputs": [
    {
     "name": "stdin",
     "output_type": "stream",
     "text": [
      "Enter user Numbers:  4\n",
      "Enter 1 User Name:  Manish\n",
      "Enter 2 User Name:  Jigarasa\n",
      "Enter 3 User Name:  Shushma\n",
      "Enter 4 User Name:  Joyti\n"
     ]
    }
   ],
   "source": [
    "userNames = tuple(User())"
   ]
  },
  {
   "cell_type": "code",
   "execution_count": 5,
   "id": "9f234a48-b3d1-495d-aea2-ec85b7f8f576",
   "metadata": {},
   "outputs": [
    {
     "data": {
      "text/plain": [
       "('Manish', 'Jigarasa', 'Shushma', 'Joyti')"
      ]
     },
     "execution_count": 5,
     "metadata": {},
     "output_type": "execute_result"
    }
   ],
   "source": [
    "# Now we have all the input user names in the 'userNames' variable.\n",
    "userNames"
   ]
  },
  {
   "cell_type": "code",
   "execution_count": 6,
   "id": "a515ea33-c85a-493a-89d5-b84685eba2c5",
   "metadata": {},
   "outputs": [],
   "source": [
    "def testStudent(studentName, studentTuple):\n",
    "    flag = False\n",
    "    \n",
    "    for st in studentTuple:\n",
    "        if st == studentName:\n",
    "            flag = True\n",
    "            \n",
    "    if flag:\n",
    "        print(\"Student is Present\")\n",
    "    else:\n",
    "        print(\"Student is not Present\")\n",
    "    "
   ]
  },
  {
   "cell_type": "code",
   "execution_count": 7,
   "id": "50218247-3cee-4fa1-9ebb-e4b1fc39eb86",
   "metadata": {},
   "outputs": [],
   "source": [
    "def testStudent2(studentName, studentTuple):\n",
    "    if studentName in studentTuple:\n",
    "        return True\n",
    "    return False"
   ]
  },
  {
   "cell_type": "code",
   "execution_count": 8,
   "id": "135819ae-d7e9-4340-bbb5-457d9291f34f",
   "metadata": {},
   "outputs": [
    {
     "name": "stdout",
     "output_type": "stream",
     "text": [
      "Student is Present\n"
     ]
    }
   ],
   "source": [
    "testStudent(\"Manish\", userNames)"
   ]
  },
  {
   "cell_type": "code",
   "execution_count": 9,
   "id": "df28f6ea-916f-41a3-9a9e-532ebcb39844",
   "metadata": {},
   "outputs": [
    {
     "name": "stdout",
     "output_type": "stream",
     "text": [
      "Student is not Present\n"
     ]
    }
   ],
   "source": [
    "testStudent(\"Rahul\", userNames)"
   ]
  },
  {
   "cell_type": "code",
   "execution_count": 10,
   "id": "b561a329-750a-420b-a08f-c31e7591026e",
   "metadata": {},
   "outputs": [
    {
     "data": {
      "text/plain": [
       "True"
      ]
     },
     "execution_count": 10,
     "metadata": {},
     "output_type": "execute_result"
    }
   ],
   "source": [
    "testStudent2(\"Manish\", userNames)"
   ]
  },
  {
   "cell_type": "code",
   "execution_count": 11,
   "id": "d3557397-186a-4f36-9a9f-8818824cb776",
   "metadata": {},
   "outputs": [
    {
     "data": {
      "text/plain": [
       "False"
      ]
     },
     "execution_count": 11,
     "metadata": {},
     "output_type": "execute_result"
    }
   ],
   "source": [
    "testStudent2(\"Rahul\", userNames)"
   ]
  },
  {
   "cell_type": "markdown",
   "id": "72516a33-c0b1-4c30-a6c3-db6c80ba9698",
   "metadata": {},
   "source": [
    "### Problem 3"
   ]
  },
  {
   "cell_type": "markdown",
   "id": "c798b222-7806-4a5a-905e-264cbc1a5750",
   "metadata": {},
   "source": [
    "Write a program to input your friends’ names\n",
    "and their Phone Numbers and store them in the\n",
    "dictionary as the key-value pair. Perform the\n",
    "following operations on the dictionary:\n",
    "\n",
    "1. Display the name and phone number of all your\n",
    "friends.\n",
    "\n",
    "2. Add a new key-value pair in this dictionary and\n",
    "display the modified dictionary\n",
    "3. Delete a particular friend from the dictionary\n",
    "4. Modify the phone number of an existing friend\n",
    "5. Check if a friend is present in the dictionary or\n",
    "not\n",
    "6. Display the dictionary in sorted order of names"
   ]
  },
  {
   "cell_type": "code",
   "execution_count": null,
   "id": "db90cc79-1b2a-4d2c-b479-7b2b52895cdc",
   "metadata": {},
   "outputs": [],
   "source": []
  }
 ],
 "metadata": {
  "kernelspec": {
   "display_name": "Python 3 (ipykernel)",
   "language": "python",
   "name": "python3"
  },
  "language_info": {
   "codemirror_mode": {
    "name": "ipython",
    "version": 3
   },
   "file_extension": ".py",
   "mimetype": "text/x-python",
   "name": "python",
   "nbconvert_exporter": "python",
   "pygments_lexer": "ipython3",
   "version": "3.10.5"
  }
 },
 "nbformat": 4,
 "nbformat_minor": 5
}
