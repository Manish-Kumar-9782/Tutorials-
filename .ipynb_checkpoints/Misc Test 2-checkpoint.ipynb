{
 "cells": [
  {
   "cell_type": "markdown",
   "id": "burning-brass",
   "metadata": {},
   "source": [
    "## TM-TYT Card saving test"
   ]
  },
  {
   "cell_type": "markdown",
   "id": "realistic-porcelain",
   "metadata": {},
   "source": [
    "#### Updating the card details"
   ]
  },
  {
   "cell_type": "code",
   "execution_count": 5,
   "id": "encouraging-encyclopedia",
   "metadata": {},
   "outputs": [
    {
     "name": "stdout",
     "output_type": "stream",
     "text": [
      "C:\\WorkData\\Programming\\Python\\MY PROJECTS\\STUDY MANAGEMENT - TYT\\data\n"
     ]
    }
   ],
   "source": [
    "# Now in this we will test the update an existing record.\n",
    "import os\n",
    "import json\n",
    "os.chdir(r\"C:\\WorkData\\Programming\\Python\\MY PROJECTS\\STUDY MANAGEMENT - TYT\\data\")\n",
    "print(os.getcwd())"
   ]
  },
  {
   "cell_type": "code",
   "execution_count": 6,
   "id": "catholic-house",
   "metadata": {},
   "outputs": [],
   "source": [
    "with open('KeepCards.json','r') as f:\n",
    "    file = json.load(f)"
   ]
  },
  {
   "cell_type": "code",
   "execution_count": 7,
   "id": "sunset-kitchen",
   "metadata": {},
   "outputs": [
    {
     "data": {
      "text/plain": [
       "{'Cards': {'Card 1': {'title': 'Card 1',\n",
       "   'Id': 4365,\n",
       "   'date': '29-May-2021',\n",
       "   'time': '06:30:36 PM',\n",
       "   'content': [['title 1\\n', 0]]},\n",
       "  'Card2': {'title': 'Card2',\n",
       "   'Id': 4365,\n",
       "   'date': '29-May-2021',\n",
       "   'time': '06:31:12 PM',\n",
       "   'content': [['title 1\\n', 0], ['title 2\\n', 0], ['title 3\\n', 0]]},\n",
       "  'Title ': {'title': 'Title ',\n",
       "   'Id': 4365,\n",
       "   'date': '29-May-2021',\n",
       "   'time': '10:40:52 PM',\n",
       "   'content': [['Hello this is one\\n', 0]]},\n",
       "  'Card4': {'title': 'Card4',\n",
       "   'Id': 4365,\n",
       "   'date': '29-May-2021',\n",
       "   'time': '11:13:59 PM',\n",
       "   'content': [['This is card 4 data\\n', 0]]},\n",
       "  'Card4 ': {'title': 'Card4 ',\n",
       "   'Id': 4365,\n",
       "   'date': '29-May-2021',\n",
       "   'time': '11:18:10 PM',\n",
       "   'content': [['Hello this is card4\\n', 0],\n",
       "    ['In this we will do deletion of cards\\n', 0]]}},\n",
       " 'Card_ids': [4365, 4365, 4365, 4365, 4365]}"
      ]
     },
     "execution_count": 7,
     "metadata": {},
     "output_type": "execute_result"
    }
   ],
   "source": [
    "file"
   ]
  },
  {
   "cell_type": "code",
   "execution_count": 13,
   "id": "furnished-pantyhose",
   "metadata": {},
   "outputs": [],
   "source": [
    "# Now we will add new check in card 1 \n",
    "card = {'Card 1': {'title': 'Card 1',\n",
    "   'Id': 4365,\n",
    "   'date': '29-May-2021',\n",
    "   'time': '06:30:36 PM',\n",
    "   'content': [['title 1\\n', 0] ,['This is the update\\n', 0] ]}}\n",
    "\n",
    "card1 = {'title': 'Card 1',\n",
    "   'Id': 4365,\n",
    "   'date': '29-May-2021',\n",
    "   'time': '06:30:36 PM',\n",
    "   'content': [['title 1\\n', 0] ,['This is the updated content\\n', 0] ]}"
   ]
  },
  {
   "cell_type": "code",
   "execution_count": 14,
   "id": "super-portal",
   "metadata": {},
   "outputs": [
    {
     "data": {
      "text/plain": [
       "{'title': 'Card 1',\n",
       " 'Id': 4365,\n",
       " 'date': '29-May-2021',\n",
       " 'time': '06:30:36 PM',\n",
       " 'content': [['title 1\\n', 0], ['This is the updated content\\n', 0]]}"
      ]
     },
     "execution_count": 14,
     "metadata": {},
     "output_type": "execute_result"
    }
   ],
   "source": [
    "card1"
   ]
  },
  {
   "cell_type": "code",
   "execution_count": 16,
   "id": "departmental-surface",
   "metadata": {},
   "outputs": [],
   "source": [
    "file[\"Cards\"].update({'Card 1':card1})"
   ]
  },
  {
   "cell_type": "code",
   "execution_count": 17,
   "id": "fundamental-receipt",
   "metadata": {},
   "outputs": [
    {
     "data": {
      "text/plain": [
       "{'Cards': {'Card 1': {'title': 'Card 1',\n",
       "   'Id': 4365,\n",
       "   'date': '29-May-2021',\n",
       "   'time': '06:30:36 PM',\n",
       "   'content': [['title 1\\n', 0], ['This is the updated content\\n', 0]]},\n",
       "  'Card2': {'title': 'Card2',\n",
       "   'Id': 4365,\n",
       "   'date': '29-May-2021',\n",
       "   'time': '06:31:12 PM',\n",
       "   'content': [['title 1\\n', 0], ['title 2\\n', 0], ['title 3\\n', 0]]},\n",
       "  'Title ': {'title': 'Title ',\n",
       "   'Id': 4365,\n",
       "   'date': '29-May-2021',\n",
       "   'time': '10:40:52 PM',\n",
       "   'content': [['Hello this is one\\n', 0]]},\n",
       "  'Card4': {'title': 'Card4',\n",
       "   'Id': 4365,\n",
       "   'date': '29-May-2021',\n",
       "   'time': '11:13:59 PM',\n",
       "   'content': [['This is card 4 data\\n', 0]]},\n",
       "  'Card4 ': {'title': 'Card4 ',\n",
       "   'Id': 4365,\n",
       "   'date': '29-May-2021',\n",
       "   'time': '11:18:10 PM',\n",
       "   'content': [['Hello this is card4\\n', 0],\n",
       "    ['In this we will do deletion of cards\\n', 0]]}},\n",
       " 'Card_ids': [4365, 4365, 4365, 4365, 4365]}"
      ]
     },
     "execution_count": 17,
     "metadata": {},
     "output_type": "execute_result"
    }
   ],
   "source": [
    "file"
   ]
  },
  {
   "cell_type": "code",
   "execution_count": 18,
   "id": "federal-spoke",
   "metadata": {},
   "outputs": [],
   "source": [
    "a = [1,2]"
   ]
  },
  {
   "cell_type": "code",
   "execution_count": 19,
   "id": "genuine-coating",
   "metadata": {},
   "outputs": [],
   "source": [
    "del a[0]"
   ]
  },
  {
   "cell_type": "code",
   "execution_count": 20,
   "id": "bulgarian-wellington",
   "metadata": {},
   "outputs": [
    {
     "data": {
      "text/plain": [
       "[2]"
      ]
     },
     "execution_count": 20,
     "metadata": {},
     "output_type": "execute_result"
    }
   ],
   "source": [
    "a"
   ]
  },
  {
   "cell_type": "code",
   "execution_count": 21,
   "id": "taken-ceiling",
   "metadata": {},
   "outputs": [
    {
     "data": {
      "text/plain": [
       "2"
      ]
     },
     "execution_count": 21,
     "metadata": {},
     "output_type": "execute_result"
    }
   ],
   "source": []
  },
  {
   "cell_type": "code",
   "execution_count": 22,
   "id": "potential-indicator",
   "metadata": {},
   "outputs": [],
   "source": [
    "from tkinter import ttk"
   ]
  },
  {
   "cell_type": "code",
   "execution_count": 23,
   "id": "burning-mileage",
   "metadata": {},
   "outputs": [],
   "source": [
    "style = ttk.Style()"
   ]
  },
  {
   "cell_type": "code",
   "execution_count": 24,
   "id": "corresponding-productivity",
   "metadata": {},
   "outputs": [
    {
     "data": {
      "text/plain": [
       "('winnative', 'clam', 'alt', 'default', 'classic', 'vista', 'xpnative')"
      ]
     },
     "execution_count": 24,
     "metadata": {},
     "output_type": "execute_result"
    }
   ],
   "source": [
    "style.theme_names()"
   ]
  },
  {
   "cell_type": "code",
   "execution_count": 26,
   "id": "closing-completion",
   "metadata": {},
   "outputs": [],
   "source": [
    "from tkinter import Tk, font\n",
    "root = Tk()\n",
    "a = ttk.Checkbutton()\n"
   ]
  },
  {
   "cell_type": "code",
   "execution_count": 34,
   "id": "temporal-evans",
   "metadata": {},
   "outputs": [],
   "source": [
    "import tkinter as tk"
   ]
  },
  {
   "cell_type": "code",
   "execution_count": 50,
   "id": "alpine-title",
   "metadata": {},
   "outputs": [],
   "source": [
    "class TTH_ProgressBar(tk.Frame):\n",
    "    \n",
    "    def __init__(self, master=None):\n",
    "    \n",
    "        super().__init__(master)\n",
    "        self.config(height=50, width=100, bg='red')\n",
    "        self.pack_propagate(False)\n",
    "        \n",
    "        label = tk.Label(self, text='self frame testing.')\n",
    "        label.pack()\n",
    "        \n"
   ]
  },
  {
   "cell_type": "code",
   "execution_count": 51,
   "id": "hawaiian-latex",
   "metadata": {},
   "outputs": [],
   "source": [
    "root = tk.Tk()\n",
    "\n",
    "mainframe = TTH_ProgressBar(root)\n",
    "mainframe.pack()\n",
    "\n",
    "root.mainloop()"
   ]
  },
  {
   "cell_type": "code",
   "execution_count": 45,
   "id": "diagnostic-feature",
   "metadata": {},
   "outputs": [],
   "source": [
    "a = tk.Label()"
   ]
  },
  {
   "cell_type": "code",
   "execution_count": 53,
   "id": "continuous-champagne",
   "metadata": {},
   "outputs": [],
   "source": []
  },
  {
   "cell_type": "code",
   "execution_count": 54,
   "id": "complete-walter",
   "metadata": {},
   "outputs": [],
   "source": [
    "a = {'l1l': 1, 'l1h': 3, 'l2l': 3, 'l2h': 6, 'l3l': 6, 'l3h': 8}\n",
    "t1 = (a['l1l'], a['l1h'])\n",
    "t2 = (a['l2l'], a['l2h'])\n",
    "t3 = (a['l3l'], a['l3h'])"
   ]
  },
  {
   "cell_type": "code",
   "execution_count": 69,
   "id": "modern-franklin",
   "metadata": {},
   "outputs": [
    {
     "data": {
      "text/plain": [
       "((1, 3), (3, 6), (6, 8))"
      ]
     },
     "execution_count": 69,
     "metadata": {},
     "output_type": "execute_result"
    }
   ],
   "source": [
    "a = (t1, t2, t3)\n",
    "a"
   ]
  },
  {
   "cell_type": "code",
   "execution_count": 63,
   "id": "finnish-champion",
   "metadata": {},
   "outputs": [],
   "source": [
    "def subtract(a,b):\n",
    "    print(b-a)\n",
    "    return b-a"
   ]
  },
  {
   "cell_type": "code",
   "execution_count": 65,
   "id": "organizational-albania",
   "metadata": {},
   "outputs": [
    {
     "name": "stdout",
     "output_type": "stream",
     "text": [
      "<map object at 0x000001838C080970>\n",
      "<map object at 0x000001838C080E50>\n",
      "<map object at 0x000001838C080970>\n"
     ]
    }
   ],
   "source": []
  },
  {
   "cell_type": "code",
   "execution_count": 66,
   "id": "isolated-resident",
   "metadata": {},
   "outputs": [
    {
     "data": {
      "text/plain": [
       "<map at 0x1838c080340>"
      ]
     },
     "execution_count": 66,
     "metadata": {},
     "output_type": "execute_result"
    }
   ],
   "source": [
    "map(subtract, t1)"
   ]
  },
  {
   "cell_type": "code",
   "execution_count": 67,
   "id": "variable-fields",
   "metadata": {},
   "outputs": [],
   "source": [
    "a,b = t1"
   ]
  },
  {
   "cell_type": "code",
   "execution_count": 68,
   "id": "adaptive-republic",
   "metadata": {},
   "outputs": [
    {
     "data": {
      "text/plain": [
       "1"
      ]
     },
     "execution_count": 68,
     "metadata": {},
     "output_type": "execute_result"
    }
   ],
   "source": [
    "a"
   ]
  },
  {
   "cell_type": "code",
   "execution_count": 70,
   "id": "considerable-spoke",
   "metadata": {},
   "outputs": [
    {
     "data": {
      "text/plain": [
       "<tkinter.ttk.Style at 0x1838b5bb460>"
      ]
     },
     "execution_count": 70,
     "metadata": {},
     "output_type": "execute_result"
    }
   ],
   "source": [
    "style"
   ]
  },
  {
   "cell_type": "code",
   "execution_count": 76,
   "id": "billion-kernel",
   "metadata": {},
   "outputs": [
    {
     "data": {
      "text/plain": [
       "[('Horizontal.Progressbar.trough',\n",
       "  {'sticky': 'nswe',\n",
       "   'children': [('Horizontal.Progressbar.pbar',\n",
       "     {'side': 'left', 'sticky': 'ns'})]})]"
      ]
     },
     "execution_count": 76,
     "metadata": {},
     "output_type": "execute_result"
    }
   ],
   "source": [
    "style.layout(\"Horizontal.TProgressbar\")"
   ]
  },
  {
   "cell_type": "code",
   "execution_count": 77,
   "id": "august-orbit",
   "metadata": {},
   "outputs": [
    {
     "data": {
      "text/plain": [
       "()"
      ]
     },
     "execution_count": 77,
     "metadata": {},
     "output_type": "execute_result"
    }
   ],
   "source": [
    "style.element_options('Horizontal.Progressbar.pbar')"
   ]
  },
  {
   "cell_type": "code",
   "execution_count": 82,
   "id": "particular-michigan",
   "metadata": {},
   "outputs": [
    {
     "ename": "TclError",
     "evalue": "Duplicate element My.Horizontal.Scrollbar.trough",
     "output_type": "error",
     "traceback": [
      "\u001b[1;31m---------------------------------------------------------------------------\u001b[0m",
      "\u001b[1;31mTclError\u001b[0m                                  Traceback (most recent call last)",
      "\u001b[1;32m<ipython-input-82-81c9d1c572c3>\u001b[0m in \u001b[0;36m<module>\u001b[1;34m\u001b[0m\n\u001b[0;32m     31\u001b[0m \u001b[1;33m\u001b[0m\u001b[0m\n\u001b[0;32m     32\u001b[0m \u001b[1;32mif\u001b[0m \u001b[0m__name__\u001b[0m \u001b[1;33m==\u001b[0m \u001b[1;34m'__main__'\u001b[0m\u001b[1;33m:\u001b[0m\u001b[1;33m\u001b[0m\u001b[1;33m\u001b[0m\u001b[0m\n\u001b[1;32m---> 33\u001b[1;33m     \u001b[0mmain\u001b[0m\u001b[1;33m(\u001b[0m\u001b[1;33m)\u001b[0m\u001b[1;33m\u001b[0m\u001b[1;33m\u001b[0m\u001b[0m\n\u001b[0m",
      "\u001b[1;32m<ipython-input-82-81c9d1c572c3>\u001b[0m in \u001b[0;36mmain\u001b[1;34m()\u001b[0m\n\u001b[0;32m      7\u001b[0m \u001b[1;33m\u001b[0m\u001b[0m\n\u001b[0;32m      8\u001b[0m     \u001b[1;31m# import the 'trough' element from the 'default' engine.\u001b[0m\u001b[1;33m\u001b[0m\u001b[1;33m\u001b[0m\u001b[1;33m\u001b[0m\u001b[0m\n\u001b[1;32m----> 9\u001b[1;33m     \u001b[0mstyle\u001b[0m\u001b[1;33m.\u001b[0m\u001b[0melement_create\u001b[0m\u001b[1;33m(\u001b[0m\u001b[1;34m\"My.Horizontal.Scrollbar.trough\"\u001b[0m\u001b[1;33m,\u001b[0m \u001b[1;34m\"from\"\u001b[0m\u001b[1;33m,\u001b[0m \u001b[1;34m\"default\"\u001b[0m\u001b[1;33m)\u001b[0m\u001b[1;33m\u001b[0m\u001b[1;33m\u001b[0m\u001b[0m\n\u001b[0m\u001b[0;32m     10\u001b[0m \u001b[1;33m\u001b[0m\u001b[0m\n\u001b[0;32m     11\u001b[0m     \u001b[1;31m# Redefine the horizontal scrollbar layout to use the custom trough.\u001b[0m\u001b[1;33m\u001b[0m\u001b[1;33m\u001b[0m\u001b[1;33m\u001b[0m\u001b[0m\n",
      "\u001b[1;32mc:\\python\\python38\\lib\\tkinter\\ttk.py\u001b[0m in \u001b[0;36melement_create\u001b[1;34m(self, elementname, etype, *args, **kw)\u001b[0m\n\u001b[0;32m    463\u001b[0m         \u001b[1;34m\"\"\"Create a new element in the current theme of given etype.\"\"\"\u001b[0m\u001b[1;33m\u001b[0m\u001b[1;33m\u001b[0m\u001b[0m\n\u001b[0;32m    464\u001b[0m         \u001b[0mspec\u001b[0m\u001b[1;33m,\u001b[0m \u001b[0mopts\u001b[0m \u001b[1;33m=\u001b[0m \u001b[0m_format_elemcreate\u001b[0m\u001b[1;33m(\u001b[0m\u001b[0metype\u001b[0m\u001b[1;33m,\u001b[0m \u001b[1;32mFalse\u001b[0m\u001b[1;33m,\u001b[0m \u001b[1;33m*\u001b[0m\u001b[0margs\u001b[0m\u001b[1;33m,\u001b[0m \u001b[1;33m**\u001b[0m\u001b[0mkw\u001b[0m\u001b[1;33m)\u001b[0m\u001b[1;33m\u001b[0m\u001b[1;33m\u001b[0m\u001b[0m\n\u001b[1;32m--> 465\u001b[1;33m         self.tk.call(self._name, \"element\", \"create\", elementname, etype,\n\u001b[0m\u001b[0;32m    466\u001b[0m             spec, *opts)\n\u001b[0;32m    467\u001b[0m \u001b[1;33m\u001b[0m\u001b[0m\n",
      "\u001b[1;31mTclError\u001b[0m: Duplicate element My.Horizontal.Scrollbar.trough"
     ]
    }
   ],
   "source": [
    "from tkinter import *\n",
    "from tkinter.ttk import *\n",
    "\n",
    "def main():\n",
    "    app = Tk()\n",
    "    style = Style()\n",
    "\n",
    "    # import the 'trough' element from the 'default' engine.\n",
    "    style.element_create(\"My.Horizontal.Scrollbar.trough\", \"from\", \"default\")\n",
    "\n",
    "    # Redefine the horizontal scrollbar layout to use the custom trough.\n",
    "    # This one is appropriate for the 'vista' theme.\n",
    "    style.layout(\"My.Horizontal.TScrollbar\",\n",
    "        [('My.Horizontal.Scrollbar.trough', {'children':\n",
    "            [('Horizontal.Scrollbar.leftarrow', {'side': 'left', 'sticky': ''}),\n",
    "             ('Horizontal.Scrollbar.rightarrow', {'side': 'right', 'sticky': ''}),\n",
    "             ('Horizontal.Scrollbar.thumb', {'unit': '1', 'children':\n",
    "                 [('Horizontal.Scrollbar.grip', {'sticky': ''})],\n",
    "            'sticky': 'nswe'})],\n",
    "        'sticky': 'we'})])\n",
    "    # Copy original style configuration and add our new custom configuration option.\n",
    "    style.configure(\"My.Horizontal.TScrollbar\", **style.configure(\"Horizontal.TScrollbar\"))\n",
    "    style.configure(\"My.Horizontal.TScrollbar\", troughcolor=\"red\")\n",
    "\n",
    "    # Create and show a widget using the custom style\n",
    "    hs = Scrollbar(app, orient=\"horizontal\", style=\"My.Horizontal.TScrollbar\")\n",
    "    hs.place(x=5, y=5, width=150)\n",
    "    hs.set(0.2,0.3)\n",
    "\n",
    "    app.mainloop()\n",
    "\n",
    "if __name__ == '__main__':\n",
    "    main()"
   ]
  },
  {
   "cell_type": "code",
   "execution_count": 90,
   "id": "transparent-psychiatry",
   "metadata": {},
   "outputs": [],
   "source": [
    "def createClosableTabStyle():\n",
    "\n",
    "        style = ttk.Style()\n",
    "\n",
    "        style.element_create(\"close\", \"image\", \"img_close\",\n",
    "            (\"active\", \"pressed\", \"!disabled\", \"img_closepressed\"),\n",
    "            (\"active\", \"!disabled\", \"img_closeactive\"), border=8, sticky='')\n",
    "\n",
    "        style.layout(\"ButtonNotebook\", [(\"ButtonNotebook.client\", {\"sticky\": \"nswe\"})])\n",
    "        style.layout(\"ButtonNotebook.Tab\", [\n",
    "            (\"ButtonNotebook.tab\", {\"sticky\": \"nswe\", \"children\":\n",
    "                [(\"ButtonNotebook.padding\", {\"side\": \"top\", \"sticky\": \"nswe\",\n",
    "                                             \"children\":\n",
    "                    [(\"ButtonNotebook.focus\", {\"side\": \"top\", \"sticky\": \"nswe\",\n",
    "                                               \"children\":\n",
    "                        [(\"ButtonNotebook.label\", {\"side\": \"left\", \"sticky\": ''}),\n",
    "                         (\"ButtonNotebook.close\", {\"side\": \"left\", \"sticky\": ''})]\n",
    "                    })]\n",
    "                })]\n",
    "            })]\n",
    "        )\n",
    "\n",
    "        return style "
   ]
  },
  {
   "cell_type": "code",
   "execution_count": 105,
   "id": "infectious-washer",
   "metadata": {},
   "outputs": [
    {
     "name": "stdout",
     "output_type": "stream",
     "text": [
      "('Horizontal.Scrollbar.leftarrow', 'Vertical.Scale.slider', 'Spinbox.uparrow', 'Horizontal.Scrollbar.thumb', 'Horizontal.Scrollbar.trough', 'Horizontal.Scrollbar.rightarrow', 'Vertical.Scrollbar.grip', 'Menubutton.dropdown', 'Horizontal.Progressbar.pbar', 'Vertical.Scrollbar.downarrow', 'Combobox.border', 'Spinbox.field', 'Spinbox.innerbg', 'Combobox.background', 'Button.button2', 'Combobox.rightdownarrow', 'Entry.background', 'Horizontal.Scale.slider', 'ComboboxPopdownFrame.background', 'Spinbox.background', 'Vertical.Scrollbar.thumb', 'Vertical.Scrollbar.uparrow', 'Vertical.Scrollbar.trough', 'Horizontal.Scrollbar.grip', 'Entry.field', 'Spinbox.downarrow', 'Vertical.Progressbar.pbar')\n",
      "[('Button.button', {'sticky': 'nswe', 'children': [('Button.focus', {'sticky': 'nswe', 'children': [('Button.padding', {'sticky': 'nswe', 'children': [('Button.label', {'sticky': 'nswe'})]})]})]})]\n"
     ]
    }
   ],
   "source": [
    "style = _initialize_style()\n",
    "print(style.element_names())\n",
    "print(style.layout('TButton'))\n",
    "root = tk.Tk()\n",
    "\n",
    "button = ttk.Button(root, text='style', style='TButton')\n",
    "\n",
    "button.pack()\n",
    "\n",
    "root.mainloop()"
   ]
  },
  {
   "cell_type": "code",
   "execution_count": 92,
   "id": "proprietary-tyler",
   "metadata": {},
   "outputs": [],
   "source": [
    "cancel_image_data = '''\n",
    "    R0lGODlhEAAQAMQZAMPDw+zs7L+/v8HBwcDAwLW1teLi4t7e3uDg4MLCwuHh4e7u7t/f38TExLa2\n",
    "    tre3t7i4uL6+vu/v77q6uu3t7b29vby8vLm5ubu7u+3t7QAAAAAAAAAAAAAAAAAAAAAAACH5BAEA\n",
    "    ABkALAAAAAAQABAAAAWNYCaOZFlWV6pWZlZhTQwAyYSdcGRZGGYNE8vo1RgYCD2BIkK43DKXRsQg\n",
    "    oUQiFAkCI3iILgCLIEvJBiyQiOML6GElVcsFUllD25N3FQN51L81b2ULARN+dhcDFggSAT0BEgcQ\n",
    "    FgUicgQVDHwQEwc+DxMjcgITfQ8Pk6AlfBEVrjuqJhMOtA4FBRctuiUhADs=\n",
    "'''\n",
    " \n",
    "image_data = '''\n",
    "    R0lGODlhKgAaAOfnAFdZVllbWFpcWVtdWlxeW11fXF9hXmBiX2ZnZWhpZ2lraGxua25wbXJ0\n",
    "    cXR2c3V3dHZ4dXh6d3x+e31/fH6AfYSGg4eJhoiKh4qMiYuNio2PjHmUqnqVq3yXrZGTkJKU\n",
    "    kX+asJSWk32cuJWXlIGcs5aYlX6euZeZloOetZial4SftpqbmIWgt4GhvYahuIKivpudmYei\n",
    "    uYOjv5yem4ijuoSkwIWlwYmlu56gnYamwp+hnoenw4unvaCin4ioxJCnuZykrImpxZmlsoaq\n",
    "    zI2pv6KkoZGouoqqxpqms4erzaOloo6qwYurx5Kqu5untIiszqSmo5CrwoysyJeqtpOrvJyo\n",
    "    tZGsw42typSsvaaopZKtxJWtvp6qt4+uy6epppOuxZCvzKiqp5quuZSvxoyx06mrqJWwx42y\n",
    "    1JKxzpmwwaqsqZaxyI6z1ZqxwqutqpOzz4+01qyuq56yvpizypS00Jm0y5W10Zq1zJa20rCy\n",
    "    rpu3zqizwbGzr6C3yZy4z7K0saG4yp250LO1sqK5y5660Z+70qO7zKy4xaC806S8zba4taG9\n",
    "    1KW9zq66x6+7yLi6t6S/1rC8yrm7uLO8xLG9y7q8ubS9xabB2anB07K+zLW+xrO/za7CzrTA\n",
    "    zrjAyLXBz77BvbbC0K/G2LjD0bnE0rLK28TGw8bIxcLL07vP28HN28rMycvOyr/T38DU4cnR\n",
    "    2s/RztHT0NLU0cTY5MrW5MvX5dHX2c3Z59bY1dPb5Nbb3dLe7Nvd2t3f3NXh797g3d3j5dnl\n",
    "    9OPl4eTm4+Ln6tzo9uXn5Obo5eDp8efp5uHq8uXq7ejq5+nr6OPs9Ovu6unu8O3v6+vw8+7w\n",
    "    7ezx9O/x7vDy7/Hz8O/19/P18vT38/L3+fb49Pf59vX6/fj69/b7/vn7+Pr8+ff9//v9+vz/\n",
    "    +/7//P//////////////////////////////////////////////////////////////////\n",
    "    /////////////////////////////////yH/C05FVFNDQVBFMi4wAwEAAAAh+QQJZAD/ACwC\n",
    "    AAIAKAAWAAAI/gD/CRz4bwUGCg8eQFjIsGHDBw4iTLAQgqBFgisuePCiyJOpUyBDihRpypMi\n",
    "    Lx8qaLhIMIyGFZ5sAUsmjZrNmzhzWpO2DJgtTysqfGDpxoMbW8ekeQsXzty4p1CjRjUXrps3\n",
    "    asJsuclQ4uKKSbamMR3n1JzZs2jRkh1HzuxVXX8y4CDYAwqua+DInVrRwMGJU2kDp31KThy1\n",
    "    XGWGDlxhi1rTPAUICBBAoEAesoIzn6Vm68MKgVAUHftmzhOCBCtQwQKSoABgzZnJdSMmyIPA\n",
    "    FbCotdUQAIhNa9B6DPCAGbZac+SowVIMRVe4pwkA4GpqDlwuAAmMZx4nTtfnf1mO5JEDNy46\n",
    "    MHJkxQEDgKC49rPjwC0bqGaZuOoZAKjBPE4NgAzUvYcWOc0QZF91imAnCDHJ5JFAAJN0I2Ba\n",
    "    4iRDUC/gOEVNDwIUcEABCAgAAATUTIgWOMBYRFp80ghiAQIIVAAEAwJIYI2JZnUji0XSYAYO\n",
    "    NcsQA8wy0hCTwAASXGOiONFcxAtpTokTHznfiLMNMAkcAMuE43jDC0vLeGOWe2R5o4sn1LgH\n",
    "    GzkWsvTPMgEOaA433Ag4TjjMuDkQMNi0tZ12sqWoJ0HATMPNffAZZ6U0wLAyqJ62RGoLLrhI\n",
    "    aqmlpzwaEAAh+QQJZAD/ACwAAAAAKgAaAAAI/gD/CRw40JEhQoEC+fGjcOHCMRAjRkxDsKLF\n",
    "    f5YcAcID582ZjyBDJhmZZIjJIUySEDHiBMhFghrtdNnRAgSHmzhz6sTZQcSLITx+CHn5bxSk\n",
    "    Nz5MCMGy55CjTVCjbuJEtSrVQ3uwqDBRQwrFi476SHHxow8qXcemVbPGtm21t3CnTaP27Jgu\n",
    "    VHtuiIjBsuImQkRiiEEFTNo2cOTMKV7MuLE5cN68QUOGSgwKG1EqJqJDY8+rZt8UjxtNunTj\n",
    "    cY3DgZOWS46KIFgGjiI0ZIsqaqNNjWjgYMUpx8Adc3v2aosNMAI1DbqyI9WycOb4IAggQEAB\n",
    "    A3lQBxet/TG4cMpI/tHwYeSfIzxM0uTKNs7UgAQrYL1akaDA7+3bueVqY4NJlUhIcQLNYx8E\n",
    "    AIQ01mwjTQ8DeNAdfouNA8440GBCQxJY3MEGD6p4Y844CQCAizcSgpMLAAlAuJ03qOyQRBR3\n",
    "    nEHEK+BMGKIui4kDDAAIPKiiYuSYSMQQRCDCxhiziPMYBgDkEaEaAGQA3Y+MjUPOLFoMoUUh\n",
    "    cKxRC4ngeILiH8Qkk0cCAUzSDZWpzbLEE1EwggcYqWCj2DNADFDAAQUgIAAAEFDDJmPYqNJF\n",
    "    F1s4cscTmCDjDTjdSPOHBQggUAEQDAgggTWDPoYMJkFoUdRmddyyjWLeULMMMcAsIw0x4wkM\n",
    "    IME1g25zyxpHxFYUHmyIggw4H4ojITnfiLMNMAkcAAub4BQjihRdDGTJHmvc4Qo1wD6Imje6\n",
    "    eILbj+BQ4wqu5Q3ECSJ0FOKKMtv4mBg33Pw4zjbKuBIIE1xYpIkhdQQiyi7OtAucj6dt48wu\n",
    "    otQhBRa6VvSJIRwhIkotvgRTzMUYZ6xxMcj4QkspeKDxxRhEmUfIHWjAgQcijEDissuXvCyz\n",
    "    zH7Q8YQURxDhUsn/bCInR3AELfTQZBRt9BBJkCGFFVhMwTNBlnBCSCGEIJQQIAklZMXWRBAR\n",
    "    RRRWENHwRQEBADs=\n",
    "'''"
   ]
  },
  {
   "cell_type": "code",
   "execution_count": 109,
   "id": "olympic-contribution",
   "metadata": {},
   "outputs": [],
   "source": [
    "import tkinter as tk\n",
    "from tkinter import ttk\n",
    "\n",
    "def _initialize_style():\n",
    "    style = ttk.Style()\n",
    "    image = tk.PhotoImage(data=cancel_image_data, format=\"gif -index 0\")\n",
    "    style.element_create(\"Button.button2\", \n",
    "                               \"image\", image, \n",
    "                               sticky=\"e\")\n",
    "    style.layout('TButton',[\n",
    "        ('Button.button2',\n",
    "                      {'sticky': 'nswe',\n",
    "                       'children': \n",
    "               [('Button.focus',\n",
    "                         {'sticky': 'nswe',\n",
    "                          'children': \n",
    "                  [('Button.padding',\n",
    "                            {'sticky': 'nswe',\n",
    "                             'children': \n",
    "                     [('Button.label', {'sticky': 'nswe'})]})]})]})\n",
    "    ])\n",
    "    \n",
    "    return style\n",
    "\n",
    "style = _initialize_style()\n",
    "style.configure(\"TButton\", background='red')\n",
    "root = tk.Tk()\n",
    "button = ttk.Button(root, text='style', style='TButton')\n",
    "button.pack()\n",
    "root.mainloop()"
   ]
  },
  {
   "cell_type": "markdown",
   "id": "elementary-impression",
   "metadata": {},
   "source": [
    "```ruby\n",
    "set img1 [image create photo -file button.png]\n",
    "set img2 [image create photo -file button-pressed.png]\n",
    "set img3 [image create photo -file button-active.png]\n",
    "style element create Button.button image \\\n",
    "    [list $img1  pressed $img2  active $img3] \\\n",
    "    -border {2 4} -sticky we\n",
    "```"
   ]
  },
  {
   "cell_type": "code",
   "execution_count": 96,
   "id": "baking-calculator",
   "metadata": {},
   "outputs": [
    {
     "data": {
      "text/plain": [
       "[('Button.button',\n",
       "  {'sticky': 'nswe',\n",
       "   'children': [('Button.focus',\n",
       "     {'sticky': 'nswe',\n",
       "      'children': [('Button.padding',\n",
       "        {'sticky': 'nswe',\n",
       "         'children': [('Button.label', {'sticky': 'nswe'})]})]})]})]"
      ]
     },
     "execution_count": 96,
     "metadata": {},
     "output_type": "execute_result"
    }
   ],
   "source": [
    "style.layout(\"TButton\")"
   ]
  },
  {
   "cell_type": "code",
   "execution_count": 2,
   "id": "enclosed-newport",
   "metadata": {},
   "outputs": [
    {
     "ename": "TclError",
     "evalue": "Layout Search.entry not found",
     "output_type": "error",
     "traceback": [
      "\u001b[1;31m---------------------------------------------------------------------------\u001b[0m",
      "\u001b[1;31mTclError\u001b[0m                                  Traceback (most recent call last)",
      "\u001b[1;32m<ipython-input-2-2b0ccae33e2e>\u001b[0m in \u001b[0;36m<module>\u001b[1;34m\u001b[0m\n\u001b[0;32m    275\u001b[0m     \u001b[0mroot\u001b[0m \u001b[1;33m=\u001b[0m \u001b[0mtk\u001b[0m\u001b[1;33m.\u001b[0m\u001b[0mTk\u001b[0m\u001b[1;33m(\u001b[0m\u001b[1;33m)\u001b[0m\u001b[1;33m\u001b[0m\u001b[1;33m\u001b[0m\u001b[0m\n\u001b[0;32m    276\u001b[0m \u001b[1;33m\u001b[0m\u001b[0m\n\u001b[1;32m--> 277\u001b[1;33m     \u001b[0me1\u001b[0m \u001b[1;33m=\u001b[0m \u001b[0mSearchEntry\u001b[0m\u001b[1;33m(\u001b[0m\u001b[0mroot\u001b[0m\u001b[1;33m)\u001b[0m\u001b[1;33m\u001b[0m\u001b[1;33m\u001b[0m\u001b[0m\n\u001b[0m\u001b[0;32m    278\u001b[0m     \u001b[0me1\u001b[0m\u001b[1;33m.\u001b[0m\u001b[0mpack\u001b[0m\u001b[1;33m(\u001b[0m\u001b[0mside\u001b[0m\u001b[1;33m=\u001b[0m\u001b[1;34m\"top\"\u001b[0m\u001b[1;33m)\u001b[0m\u001b[1;33m\u001b[0m\u001b[1;33m\u001b[0m\u001b[0m\n\u001b[0;32m    279\u001b[0m     \u001b[0mroot\u001b[0m\u001b[1;33m.\u001b[0m\u001b[0mmainloop\u001b[0m\u001b[1;33m(\u001b[0m\u001b[1;33m)\u001b[0m\u001b[1;33m\u001b[0m\u001b[1;33m\u001b[0m\u001b[0m\n",
      "\u001b[1;32m<ipython-input-2-2b0ccae33e2e>\u001b[0m in \u001b[0;36m__init__\u001b[1;34m(self, parent, *args, **kwargs)\u001b[0m\n\u001b[0;32m     72\u001b[0m     \u001b[1;32mdef\u001b[0m \u001b[0m__init__\u001b[0m\u001b[1;33m(\u001b[0m\u001b[0mself\u001b[0m\u001b[1;33m,\u001b[0m \u001b[0mparent\u001b[0m\u001b[1;33m,\u001b[0m \u001b[1;33m*\u001b[0m\u001b[0margs\u001b[0m\u001b[1;33m,\u001b[0m \u001b[1;33m**\u001b[0m\u001b[0mkwargs\u001b[0m\u001b[1;33m)\u001b[0m\u001b[1;33m:\u001b[0m\u001b[1;33m\u001b[0m\u001b[1;33m\u001b[0m\u001b[0m\n\u001b[0;32m     73\u001b[0m \u001b[1;33m\u001b[0m\u001b[0m\n\u001b[1;32m---> 74\u001b[1;33m         \u001b[0mSearchBox\u001b[0m\u001b[1;33m.\u001b[0m\u001b[0m__init__\u001b[0m\u001b[1;33m(\u001b[0m\u001b[0mself\u001b[0m\u001b[1;33m,\u001b[0m \u001b[0mparent\u001b[0m\u001b[1;33m,\u001b[0m \u001b[1;33m*\u001b[0m\u001b[0margs\u001b[0m\u001b[1;33m,\u001b[0m \u001b[1;33m**\u001b[0m\u001b[0mkwargs\u001b[0m\u001b[1;33m)\u001b[0m\u001b[1;33m\u001b[0m\u001b[1;33m\u001b[0m\u001b[0m\n\u001b[0m\u001b[0;32m     75\u001b[0m         \u001b[0mvalidatecommand\u001b[0m \u001b[1;33m=\u001b[0m \u001b[1;33m(\u001b[0m\u001b[0mself\u001b[0m\u001b[1;33m.\u001b[0m\u001b[0mregister\u001b[0m\u001b[1;33m(\u001b[0m\u001b[0mself\u001b[0m\u001b[1;33m.\u001b[0m\u001b[0m_on_validate\u001b[0m\u001b[1;33m)\u001b[0m\u001b[1;33m,\u001b[0m \u001b[1;34m\"%P\"\u001b[0m\u001b[1;33m)\u001b[0m\u001b[1;33m\u001b[0m\u001b[1;33m\u001b[0m\u001b[0m\n\u001b[0;32m     76\u001b[0m         \u001b[0mself\u001b[0m\u001b[1;33m.\u001b[0m\u001b[0m_stringvar\u001b[0m \u001b[1;33m=\u001b[0m \u001b[0mtk\u001b[0m\u001b[1;33m.\u001b[0m\u001b[0mStringVar\u001b[0m\u001b[1;33m(\u001b[0m\u001b[1;33m)\u001b[0m\u001b[1;33m\u001b[0m\u001b[1;33m\u001b[0m\u001b[0m\n",
      "\u001b[1;32m<ipython-input-2-2b0ccae33e2e>\u001b[0m in \u001b[0;36m__init__\u001b[1;34m(self, parent, *args, **kwargs)\u001b[0m\n\u001b[0;32m     19\u001b[0m         \u001b[0mself\u001b[0m\u001b[1;33m.\u001b[0m\u001b[0mparent\u001b[0m \u001b[1;33m=\u001b[0m \u001b[0mparent\u001b[0m\u001b[1;33m\u001b[0m\u001b[1;33m\u001b[0m\u001b[0m\n\u001b[0;32m     20\u001b[0m         \u001b[1;32mif\u001b[0m \u001b[0mself\u001b[0m\u001b[1;33m.\u001b[0m\u001b[0mimage1\u001b[0m \u001b[1;32mis\u001b[0m \u001b[1;32mNone\u001b[0m\u001b[1;33m:\u001b[0m\u001b[1;33m\u001b[0m\u001b[1;33m\u001b[0m\u001b[0m\n\u001b[1;32m---> 21\u001b[1;33m             \u001b[0mself\u001b[0m\u001b[1;33m.\u001b[0m\u001b[0m_initialize_style\u001b[0m\u001b[1;33m(\u001b[0m\u001b[1;33m)\u001b[0m\u001b[1;33m\u001b[0m\u001b[1;33m\u001b[0m\u001b[0m\n\u001b[0m\u001b[0;32m     22\u001b[0m \u001b[1;33m\u001b[0m\u001b[0m\n\u001b[0;32m     23\u001b[0m         \u001b[1;31m# argh! ttk style layout remain a big mystery to me. Even though\u001b[0m\u001b[1;33m\u001b[0m\u001b[1;33m\u001b[0m\u001b[1;33m\u001b[0m\u001b[0m\n",
      "\u001b[1;32m<ipython-input-2-2b0ccae33e2e>\u001b[0m in \u001b[0;36m_initialize_style\u001b[1;34m(self)\u001b[0m\n\u001b[0;32m     49\u001b[0m         \u001b[0mself\u001b[0m\u001b[1;33m.\u001b[0m\u001b[0mfocus_image\u001b[0m \u001b[1;33m=\u001b[0m \u001b[0mtk\u001b[0m\u001b[1;33m.\u001b[0m\u001b[0mPhotoImage\u001b[0m\u001b[1;33m(\u001b[0m\u001b[0mdata\u001b[0m\u001b[1;33m=\u001b[0m\u001b[0mimage_data\u001b[0m\u001b[1;33m,\u001b[0m \u001b[0mformat\u001b[0m\u001b[1;33m=\u001b[0m\u001b[1;34m\"gif -index 1\"\u001b[0m\u001b[1;33m)\u001b[0m\u001b[1;33m\u001b[0m\u001b[1;33m\u001b[0m\u001b[0m\n\u001b[0;32m     50\u001b[0m         \u001b[0mself\u001b[0m\u001b[1;33m.\u001b[0m\u001b[0mcancel_image\u001b[0m \u001b[1;33m=\u001b[0m \u001b[0mtk\u001b[0m\u001b[1;33m.\u001b[0m\u001b[0mPhotoImage\u001b[0m\u001b[1;33m(\u001b[0m\u001b[0mdata\u001b[0m\u001b[1;33m=\u001b[0m\u001b[0mcancel_image_data\u001b[0m\u001b[1;33m)\u001b[0m\u001b[1;33m\u001b[0m\u001b[1;33m\u001b[0m\u001b[0m\n\u001b[1;32m---> 51\u001b[1;33m         \u001b[0mself\u001b[0m\u001b[1;33m.\u001b[0m\u001b[0mconfigure\u001b[0m\u001b[1;33m(\u001b[0m\u001b[0mstyle\u001b[0m\u001b[1;33m=\u001b[0m\u001b[1;34m\"Search.entry\"\u001b[0m\u001b[1;33m,\u001b[0m \u001b[0mwidth\u001b[0m\u001b[1;33m=\u001b[0m\u001b[1;36m40\u001b[0m\u001b[1;33m)\u001b[0m\u001b[1;33m\u001b[0m\u001b[1;33m\u001b[0m\u001b[0m\n\u001b[0m\u001b[0;32m     52\u001b[0m \u001b[1;33m\u001b[0m\u001b[0m\n\u001b[0;32m     53\u001b[0m         ttk.Style().element_create(\"Search.cancel\", \n",
      "\u001b[1;32mc:\\python\\python38\\lib\\tkinter\\__init__.py\u001b[0m in \u001b[0;36mconfigure\u001b[1;34m(self, cnf, **kw)\u001b[0m\n\u001b[0;32m   1635\u001b[0m         \u001b[0mthe\u001b[0m \u001b[0mallowed\u001b[0m \u001b[0mkeyword\u001b[0m \u001b[0marguments\u001b[0m \u001b[0mcall\u001b[0m \u001b[0mthe\u001b[0m \u001b[0mmethod\u001b[0m \u001b[0mkeys\u001b[0m\u001b[1;33m.\u001b[0m\u001b[1;33m\u001b[0m\u001b[1;33m\u001b[0m\u001b[0m\n\u001b[0;32m   1636\u001b[0m         \"\"\"\n\u001b[1;32m-> 1637\u001b[1;33m         \u001b[1;32mreturn\u001b[0m \u001b[0mself\u001b[0m\u001b[1;33m.\u001b[0m\u001b[0m_configure\u001b[0m\u001b[1;33m(\u001b[0m\u001b[1;34m'configure'\u001b[0m\u001b[1;33m,\u001b[0m \u001b[0mcnf\u001b[0m\u001b[1;33m,\u001b[0m \u001b[0mkw\u001b[0m\u001b[1;33m)\u001b[0m\u001b[1;33m\u001b[0m\u001b[1;33m\u001b[0m\u001b[0m\n\u001b[0m\u001b[0;32m   1638\u001b[0m \u001b[1;33m\u001b[0m\u001b[0m\n\u001b[0;32m   1639\u001b[0m     \u001b[0mconfig\u001b[0m \u001b[1;33m=\u001b[0m \u001b[0mconfigure\u001b[0m\u001b[1;33m\u001b[0m\u001b[1;33m\u001b[0m\u001b[0m\n",
      "\u001b[1;32mc:\\python\\python38\\lib\\tkinter\\__init__.py\u001b[0m in \u001b[0;36m_configure\u001b[1;34m(self, cmd, cnf, kw)\u001b[0m\n\u001b[0;32m   1625\u001b[0m         \u001b[1;32mif\u001b[0m \u001b[0misinstance\u001b[0m\u001b[1;33m(\u001b[0m\u001b[0mcnf\u001b[0m\u001b[1;33m,\u001b[0m \u001b[0mstr\u001b[0m\u001b[1;33m)\u001b[0m\u001b[1;33m:\u001b[0m\u001b[1;33m\u001b[0m\u001b[1;33m\u001b[0m\u001b[0m\n\u001b[0;32m   1626\u001b[0m             \u001b[1;32mreturn\u001b[0m \u001b[0mself\u001b[0m\u001b[1;33m.\u001b[0m\u001b[0m_getconfigure1\u001b[0m\u001b[1;33m(\u001b[0m\u001b[0m_flatten\u001b[0m\u001b[1;33m(\u001b[0m\u001b[1;33m(\u001b[0m\u001b[0mself\u001b[0m\u001b[1;33m.\u001b[0m\u001b[0m_w\u001b[0m\u001b[1;33m,\u001b[0m \u001b[0mcmd\u001b[0m\u001b[1;33m,\u001b[0m \u001b[1;34m'-'\u001b[0m\u001b[1;33m+\u001b[0m\u001b[0mcnf\u001b[0m\u001b[1;33m)\u001b[0m\u001b[1;33m)\u001b[0m\u001b[1;33m)\u001b[0m\u001b[1;33m\u001b[0m\u001b[1;33m\u001b[0m\u001b[0m\n\u001b[1;32m-> 1627\u001b[1;33m         \u001b[0mself\u001b[0m\u001b[1;33m.\u001b[0m\u001b[0mtk\u001b[0m\u001b[1;33m.\u001b[0m\u001b[0mcall\u001b[0m\u001b[1;33m(\u001b[0m\u001b[0m_flatten\u001b[0m\u001b[1;33m(\u001b[0m\u001b[1;33m(\u001b[0m\u001b[0mself\u001b[0m\u001b[1;33m.\u001b[0m\u001b[0m_w\u001b[0m\u001b[1;33m,\u001b[0m \u001b[0mcmd\u001b[0m\u001b[1;33m)\u001b[0m\u001b[1;33m)\u001b[0m \u001b[1;33m+\u001b[0m \u001b[0mself\u001b[0m\u001b[1;33m.\u001b[0m\u001b[0m_options\u001b[0m\u001b[1;33m(\u001b[0m\u001b[0mcnf\u001b[0m\u001b[1;33m)\u001b[0m\u001b[1;33m)\u001b[0m\u001b[1;33m\u001b[0m\u001b[1;33m\u001b[0m\u001b[0m\n\u001b[0m\u001b[0;32m   1628\u001b[0m     \u001b[1;31m# These used to be defined in Widget:\u001b[0m\u001b[1;33m\u001b[0m\u001b[1;33m\u001b[0m\u001b[1;33m\u001b[0m\u001b[0m\n\u001b[0;32m   1629\u001b[0m \u001b[1;33m\u001b[0m\u001b[0m\n",
      "\u001b[1;31mTclError\u001b[0m: Layout Search.entry not found"
     ]
    }
   ],
   "source": [
    "''' SearchEntry - entry widget with search icon and rounded ends\n",
    " \n",
    "This isn't just the entry widget, but also logic for traversing the list\n",
    "of matches. This assumes that the target widget is a text widget. If\n",
    "you want to search some other widget you'll have to give it an interface\n",
    "similar to a text widget (eg: tag_nextrange, mark_set, etc)\n",
    "'''\n",
    " \n",
    "import tkinter as tk\n",
    "from tkinter import ttk\n",
    " \n",
    "class SearchBox(ttk.Entry):\n",
    "    image1 = None\n",
    "    image2 = None\n",
    "    def __init__(self, parent, *args, **kwargs):\n",
    "        ttk.Entry.__init__(self, parent, *args, **kwargs)\n",
    "        # what an awful hack. This really should be part of\n",
    "        # the style. For now, this is good enough. \n",
    "        self.parent = parent\n",
    "        if self.image1 is None:\n",
    "            self._initialize_style()\n",
    " \n",
    "        # argh! ttk style layout remain a big mystery to me. Even though\n",
    "        # the style layout includes the \"Search.cancel\" element, it's not\n",
    "        # showing up. Why? I have no idea. So, we'll go old school \n",
    "        # and place a label there. *sigh*. \n",
    "        self.cancel_label = tk.Label(self, image=self.cancel_image, background=\"white\", \n",
    "                                     borderwidth=0, highlightthickness=0,\n",
    "                                     cursor = \"left_ptr\")\n",
    "        self.cancel_label.place(relx=1.0, rely=.5, anchor=\"e\", x=-8)\n",
    "        self.cancel_label.bind(\"<1>\", self._on_cancel)\n",
    "        self.bind(\"<Escape>\", self._on_cancel)\n",
    " \n",
    "    def _on_cancel(self, event):\n",
    "        self.delete(0, \"end\")\n",
    "        self.cancel()\n",
    "        return \"break\"\n",
    " \n",
    "    def cancel(self):\n",
    "        # do nothing; subclasses can override, obviously\n",
    "        pass\n",
    " \n",
    "    def focus(self):\n",
    "        ttk.Entry.focus(self)\n",
    "        self.selection_range(0,\"end\")\n",
    "         \n",
    "    def _initialize_style(self):\n",
    "        self.normal_image = tk.PhotoImage(data=image_data, format=\"gif -index 0\")\n",
    "        self.focus_image = tk.PhotoImage(data=image_data, format=\"gif -index 1\")\n",
    "        self.cancel_image = tk.PhotoImage(data=cancel_image_data)\n",
    "        self.configure(style=\"Search.entry\", width=40)\n",
    "        \n",
    "        ttk.Style().element_create(\"Search.cancel\", \n",
    "                                   \"image\", self.cancel_image, \n",
    "                                   sticky=\"e\")\n",
    "        ttk.Style().element_create(\"Search.frame\", \n",
    "                                   \"image\", self.normal_image, (\"focus\", self.focus_image),\n",
    "                                   border=(22, 7, 14), sticky=\"ew\")\n",
    "        ttk.Style().layout(\"Search.entry\", [\n",
    "                (\"Search.frame\", {\"sticky\": \"nsew\", \"border\": 1, \"children\": [\n",
    "                            (\"Entry.padding\", {\"sticky\": \"nsew\", \"children\": [\n",
    "                                        # this causes space to be reserved, but it's\n",
    "                                        # not showing up. I have no idea why.\n",
    "                                        (\"Search.cancel\", {\"side\": \"right\"}),\n",
    "                                        (\"Entry.textarea\", {\"sticky\": \"nsw\"}),\n",
    "                                        ]}),\n",
    "                            ]})\n",
    "                ])\n",
    "        \n",
    "         \n",
    "class SearchEntry(SearchBox):\n",
    "    def __init__(self, parent, *args, **kwargs):\n",
    "         \n",
    "        SearchBox.__init__(self, parent, *args, **kwargs)\n",
    "        validatecommand = (self.register(self._on_validate), \"%P\")\n",
    "        self._stringvar = tk.StringVar()\n",
    "        self.configure(validate=\"key\", validatecommand=validatecommand,\n",
    "                       textvariable=self._stringvar)\n",
    " \n",
    "        self.bind(\"<Return>\", self._on_next)\n",
    "        self.bind(\"<Control-n>\", self._on_next)\n",
    "        self.bind(\"<Control-p>\", self._on_previous)\n",
    "        self.bind(\"<Control-g>\", self._on_next)\n",
    "        self.bind(\"<F3>\", self._on_next)\n",
    " \n",
    "    def _on_previous(self, event):\n",
    "        self.previous()\n",
    "        return \"break\"\n",
    " \n",
    "    def _on_next(self, event):\n",
    "        self.next()\n",
    "        return \"break\"\n",
    " \n",
    "    def cancel(self):\n",
    "        '''Remove all highlighting, reset search string, and set focus to target window'''\n",
    "        self.reset()\n",
    "        target = self.parent.get_search_target()\n",
    "        target.focus()\n",
    " \n",
    "         \n",
    "    def next(self):\n",
    "        '''Select the next match and move the cursor to it'''\n",
    "        target = self.parent.get_search_target()\n",
    "        search_range = target.tag_nextrange(\"find\", \"insert\")\n",
    "        # if the cursor is inside the range we just found, look a \n",
    "        # little further\n",
    "        if (len(search_range) == 2 and\n",
    "            target.compare(\"insert\", \"<=\", search_range[1]) and\n",
    "            target.compare(\"insert\", \">=\", search_range[0])):\n",
    "            search_range = target.tag_nextrange(\"find\", search_range[1])\n",
    "             \n",
    "        # if the range is null, wrap around to the start of the widget\n",
    "        if len(search_range) == 0:\n",
    "            search_range = target.tag_nextrange(\"find\", 1.0)\n",
    "            self.bell()\n",
    " \n",
    "        # if, after all that, the range is still null, well, blimey!\n",
    "        if len(search_range) == 0:\n",
    "            self.bell()\n",
    "        else:\n",
    "            self._mark_current(*search_range)\n",
    " \n",
    " \n",
    "    def previous(self):\n",
    "        '''Select the previous match and move the cursor to it'''\n",
    "        target = self.parent.get_search_target()\n",
    "        search_range = target.tag_prevrange(\"find\", \"insert\")\n",
    "        # if the cursor is inside the range we just found, look a \n",
    "        # little further\n",
    "        if (len(search_range) == 2 and\n",
    "            target.compare(\"insert\", \"<=\", search_range[1]) and\n",
    "            target.compare(\"insert\", \">=\", search_range[0])):\n",
    "            search_range = target.tag_prevrange(\"find\", search_range[0])\n",
    "             \n",
    "        # if the range is null, wrap around to the end of the widget\n",
    "        if len(search_range) == 0:\n",
    "            search_range = target.tag_prevrange(\"find\", \"end\")\n",
    "            self.bell()\n",
    " \n",
    "        # if, after all that, the range is still null, well, blimey!\n",
    "        if len(search_range) == 0:\n",
    "            self.bell()\n",
    "        else:\n",
    "            self._mark_current(*search_range)\n",
    " \n",
    "    def _on_validate(self, P):\n",
    "        '''Called whenever the search string changes\n",
    "         \n",
    "        This method will cancel any existing search that\n",
    "        is in progress, then start a new search if the passed\n",
    "        in string is not empty\n",
    " \n",
    "        This is called from the entry widget validation command, so \n",
    "        even though we're not validating anything per se, we still\n",
    "        need to return True or this method will stop being called. \n",
    "        '''\n",
    "        self.reset()\n",
    "        if len(P) > 0:\n",
    "            self.begin(P)\n",
    "        return True\n",
    " \n",
    "    def begin(self, pattern, start=\"insert\"):\n",
    "        '''Begin a new search'''\n",
    "        target = self.parent.get_search_target()\n",
    " \n",
    "        self.reset()\n",
    "        start = target.index(start)\n",
    " \n",
    "        range1 = (start, \"end\")\n",
    "        if target.compare(start, \"!=\", \"1.0\"):\n",
    "            range2 = (\"1.0\", start)\n",
    "        else:\n",
    "            range2 = ()\n",
    " \n",
    "        # tkinter's text widget doesn't support the -all option for searching,\n",
    "        # so we'll have to directly interface with the tcl subsystem\n",
    "        command = [target._w, \"search\", \"-nocase\", \"-all\", \"-forwards\"]\n",
    "        command.append(pattern)\n",
    " \n",
    "        # search first from start to EOF, then from 1.0 to \n",
    "        # the starting point. Why? Most likely the user is\n",
    "        # wanting to find the next occurrance. This simply\n",
    "        # optimizes the search so the first match is closest\n",
    "        # to the insertion cursor\n",
    "        result1 = self.tk.call(tuple(command + [\"insert linestart\", \"end\"]))\n",
    "        result2 = self.tk.call(tuple(command + [\"1.0\", \"insert lineend\"]))\n",
    " \n",
    "        # why reverse result2? It represents results above the\n",
    "        # starting point, so if result1 is null, this guarantees\n",
    "        # that the first result is nearest the search start\n",
    "        result = list(result1) + list(reversed(result2))\n",
    "        if len(result) > 0:\n",
    "            i = result[0]\n",
    "            self._mark_current(i, \"%s + %sc\" % (i, len(pattern)))\n",
    "        for index in result:\n",
    "            target.tag_add(\"find\", index, \"%s + %sc\" % (index, len(pattern)))\n",
    " \n",
    "    def _mark_current(self, start, end):\n",
    "        '''Mark the 'current' match'''\n",
    "        target = self.parent.get_search_target()\n",
    "        target.tag_remove(\"current_find\", 1.0, \"end\")\n",
    "        target.tag_add(\"current_find\", start, end)\n",
    "        target.tag_remove(\"sel\", 1.0, \"end\")\n",
    "        target.tag_add(\"sel\", start, end)\n",
    "        target.mark_set(\"insert\", start)\n",
    "        target.tag_raise(\"sel\")\n",
    "        target.tag_raise(\"current_find\")\n",
    "        target.see(start)\n",
    " \n",
    "    def reset(self):\n",
    "        '''Reset the searching mechanism'''\n",
    "        target = self.parent.get_search_target()\n",
    "        target.tag_configure(\"find\", background=\"yellow\", foreground=\"black\")\n",
    "        target.tag_configure(\"current_find\", \n",
    "                             background=target.tag_cget(\"sel\", \"background\"),\n",
    "                             foreground=target.tag_cget(\"sel\", \"foreground\"))\n",
    "        target.tag_remove(\"current_find\", 1.0, \"end\")\n",
    "        target.tag_remove(\"find\", 1.0, \"end\")\n",
    "        target.tag_raise(\"find\")\n",
    "        target.tag_raise(\"current_find\", \"find\")\n",
    "        target.tag_raise(\"current_find\", \"sel\")\n",
    " \n",
    " \n",
    "cancel_image_data = '''\n",
    "    R0lGODlhEAAQAMQZAMPDw+zs7L+/v8HBwcDAwLW1teLi4t7e3uDg4MLCwuHh4e7u7t/f38TExLa2\n",
    "    tre3t7i4uL6+vu/v77q6uu3t7b29vby8vLm5ubu7u+3t7QAAAAAAAAAAAAAAAAAAAAAAACH5BAEA\n",
    "    ABkALAAAAAAQABAAAAWNYCaOZFlWV6pWZlZhTQwAyYSdcGRZGGYNE8vo1RgYCD2BIkK43DKXRsQg\n",
    "    oUQiFAkCI3iILgCLIEvJBiyQiOML6GElVcsFUllD25N3FQN51L81b2ULARN+dhcDFggSAT0BEgcQ\n",
    "    FgUicgQVDHwQEwc+DxMjcgITfQ8Pk6AlfBEVrjuqJhMOtA4FBRctuiUhADs=\n",
    "'''\n",
    " \n",
    "image_data = '''\n",
    "    R0lGODlhKgAaAOfnAFdZVllbWFpcWVtdWlxeW11fXF9hXmBiX2ZnZWhpZ2lraGxua25wbXJ0\n",
    "    cXR2c3V3dHZ4dXh6d3x+e31/fH6AfYSGg4eJhoiKh4qMiYuNio2PjHmUqnqVq3yXrZGTkJKU\n",
    "    kX+asJSWk32cuJWXlIGcs5aYlX6euZeZloOetZial4SftpqbmIWgt4GhvYahuIKivpudmYei\n",
    "    uYOjv5yem4ijuoSkwIWlwYmlu56gnYamwp+hnoenw4unvaCin4ioxJCnuZykrImpxZmlsoaq\n",
    "    zI2pv6KkoZGouoqqxpqms4erzaOloo6qwYurx5Kqu5untIiszqSmo5CrwoysyJeqtpOrvJyo\n",
    "    tZGsw42typSsvaaopZKtxJWtvp6qt4+uy6epppOuxZCvzKiqp5quuZSvxoyx06mrqJWwx42y\n",
    "    1JKxzpmwwaqsqZaxyI6z1ZqxwqutqpOzz4+01qyuq56yvpizypS00Jm0y5W10Zq1zJa20rCy\n",
    "    rpu3zqizwbGzr6C3yZy4z7K0saG4yp250LO1sqK5y5660Z+70qO7zKy4xaC806S8zba4taG9\n",
    "    1KW9zq66x6+7yLi6t6S/1rC8yrm7uLO8xLG9y7q8ubS9xabB2anB07K+zLW+xrO/za7CzrTA\n",
    "    zrjAyLXBz77BvbbC0K/G2LjD0bnE0rLK28TGw8bIxcLL07vP28HN28rMycvOyr/T38DU4cnR\n",
    "    2s/RztHT0NLU0cTY5MrW5MvX5dHX2c3Z59bY1dPb5Nbb3dLe7Nvd2t3f3NXh797g3d3j5dnl\n",
    "    9OPl4eTm4+Ln6tzo9uXn5Obo5eDp8efp5uHq8uXq7ejq5+nr6OPs9Ovu6unu8O3v6+vw8+7w\n",
    "    7ezx9O/x7vDy7/Hz8O/19/P18vT38/L3+fb49Pf59vX6/fj69/b7/vn7+Pr8+ff9//v9+vz/\n",
    "    +/7//P//////////////////////////////////////////////////////////////////\n",
    "    /////////////////////////////////yH/C05FVFNDQVBFMi4wAwEAAAAh+QQJZAD/ACwC\n",
    "    AAIAKAAWAAAI/gD/CRz4bwUGCg8eQFjIsGHDBw4iTLAQgqBFgisuePCiyJOpUyBDihRpypMi\n",
    "    Lx8qaLhIMIyGFZ5sAUsmjZrNmzhzWpO2DJgtTysqfGDpxoMbW8ekeQsXzty4p1CjRjUXrps3\n",
    "    asJsuclQ4uKKSbamMR3n1JzZs2jRkh1HzuxVXX8y4CDYAwqua+DInVrRwMGJU2kDp31KThy1\n",
    "    XGWGDlxhi1rTPAUICBBAoEAesoIzn6Vm68MKgVAUHftmzhOCBCtQwQKSoABgzZnJdSMmyIPA\n",
    "    FbCotdUQAIhNa9B6DPCAGbZac+SowVIMRVe4pwkA4GpqDlwuAAmMZx4nTtfnf1mO5JEDNy46\n",
    "    MHJkxQEDgKC49rPjwC0bqGaZuOoZAKjBPE4NgAzUvYcWOc0QZF91imAnCDHJ5JFAAJN0I2Ba\n",
    "    4iRDUC/gOEVNDwIUcEABCAgAAATUTIgWOMBYRFp80ghiAQIIVAAEAwJIYI2JZnUji0XSYAYO\n",
    "    NcsQA8wy0hCTwAASXGOiONFcxAtpTokTHznfiLMNMAkcAMuE43jDC0vLeGOWe2R5o4sn1LgH\n",
    "    GzkWsvTPMgEOaA433Ag4TjjMuDkQMNi0tZ12sqWoJ0HATMPNffAZZ6U0wLAyqJ62RGoLLrhI\n",
    "    aqmlpzwaEAAh+QQJZAD/ACwAAAAAKgAaAAAI/gD/CRw40JEhQoEC+fGjcOHCMRAjRkxDsKLF\n",
    "    f5YcAcID582ZjyBDJhmZZIjJIUySEDHiBMhFghrtdNnRAgSHmzhz6sTZQcSLITx+CHn5bxSk\n",
    "    Nz5MCMGy55CjTVCjbuJEtSrVQ3uwqDBRQwrFi476SHHxow8qXcemVbPGtm21t3CnTaP27Jgu\n",
    "    VHtuiIjBsuImQkRiiEEFTNo2cOTMKV7MuLE5cN68QUOGSgwKG1EqJqJDY8+rZt8UjxtNunTj\n",
    "    cY3DgZOWS46KIFgGjiI0ZIsqaqNNjWjgYMUpx8Adc3v2aosNMAI1DbqyI9WycOb4IAggQEAB\n",
    "    A3lQBxet/TG4cMpI/tHwYeSfIzxM0uTKNs7UgAQrYL1akaDA7+3bueVqY4NJlUhIcQLNYx8E\n",
    "    AIQ01mwjTQ8DeNAdfouNA8440GBCQxJY3MEGD6p4Y844CQCAizcSgpMLAAlAuJ03qOyQRBR3\n",
    "    nEHEK+BMGKIui4kDDAAIPKiiYuSYSMQQRCDCxhiziPMYBgDkEaEaAGQA3Y+MjUPOLFoMoUUh\n",
    "    cKxRC4ngeILiH8Qkk0cCAUzSDZWpzbLEE1EwggcYqWCj2DNADFDAAQUgIAAAEFDDJmPYqNJF\n",
    "    F1s4cscTmCDjDTjdSPOHBQggUAEQDAgggTWDPoYMJkFoUdRmddyyjWLeULMMMcAsIw0x4wkM\n",
    "    IME1g25zyxpHxFYUHmyIggw4H4ojITnfiLMNMAkcAAub4BQjihRdDGTJHmvc4Qo1wD6Imje6\n",
    "    eILbj+BQ4wqu5Q3ECSJ0FOKKMtv4mBg33Pw4zjbKuBIIE1xYpIkhdQQiyi7OtAucj6dt48wu\n",
    "    otQhBRa6VvSJIRwhIkotvgRTzMUYZ6xxMcj4QkspeKDxxRhEmUfIHWjAgQcijEDissuXvCyz\n",
    "    zH7Q8YQURxDhUsn/bCInR3AELfTQZBRt9BBJkCGFFVhMwTNBlnBCSCGEIJQQIAklZMXWRBAR\n",
    "    RRRWENHwRQEBADs=\n",
    "'''\n",
    " \n",
    "if __name__ == \"__main__\":\n",
    "    root = tk.Tk()\n",
    " \n",
    "    e1 = SearchEntry(root)\n",
    "    e1.pack(side=\"top\")\n",
    "    root.mainloop()"
   ]
  },
  {
   "cell_type": "code",
   "execution_count": 1,
   "id": "dynamic-greece",
   "metadata": {},
   "outputs": [
    {
     "name": "stdout",
     "output_type": "stream",
     "text": [
      "[('Entry.highlight', {'sticky': 'nswe', 'children': [('Entry.border', {'sticky': 'nswe', 'border': '1', 'children': [('Entry.padding', {'sticky': 'nswe', 'children': [('Entry.textarea', {'sticky': 'nswe'})]})]})]})]\n",
      "[('Entry.highlight', {'sticky': 'nswe', 'children': [('Entry.field', {'sticky': 'nswe', 'border': '1', 'children': [('Entry.padding', {'sticky': 'nswe', 'children': [('Entry.textarea', {'sticky': 'nswe'})]})]})]})]\n"
     ]
    }
   ],
   "source": [
    "try:\n",
    "    import tkinter as tk\n",
    "    import tkinter.ttk as ttk\n",
    "except ImportError:\n",
    "    import Tkinter as tk\n",
    "    import ttk\n",
    "\n",
    "#   root\n",
    "root = tk.Tk()\n",
    "\n",
    "#   declare style variable\n",
    "s = ttk.Style()\n",
    "#   assume that classic theme in use\n",
    "s.theme_use('classic')\n",
    "\n",
    "#   configure relief\n",
    "s.configure('SOExample.TEntry', relief='flat')\n",
    "\n",
    "#   lets try to change this structure\n",
    "s.layout('SOExample.TEntry', [\n",
    "    ('Entry.highlight', {\n",
    "        'sticky': 'nswe',\n",
    "        'children':\n",
    "            [('Entry.border', {\n",
    "                'border': '1',\n",
    "                'sticky': 'nswe',\n",
    "                'children':\n",
    "                    [('Entry.padding', {\n",
    "                        'sticky': 'nswe',\n",
    "                        'children':\n",
    "                            [('Entry.textarea',\n",
    "                              {'sticky': 'nswe'})]\n",
    "                    })]\n",
    "            })]\n",
    "    })])\n",
    "\n",
    "#   let's find some differences between this two\n",
    "print(s.layout('SOExample.TEntry'))\n",
    "print(s.layout('TEntry'))\n",
    "\n",
    "#    packing\n",
    "frame1 = tk.Frame(root)\n",
    "label1 = tk.Label(frame1, text='Flat Entry')\n",
    "entry1 = ttk.Entry(frame1, style='SOExample.TEntry')\n",
    "label1.pack()\n",
    "entry1.pack()\n",
    "frame1.pack(side='left')\n",
    "\n",
    "frame2 = tk.Frame(root)\n",
    "label2 = tk.Label(frame2, text='Default Entry')\n",
    "entry2 = ttk.Entry(frame2)\n",
    "label2.pack()\n",
    "entry2.pack()\n",
    "frame2.pack(side='right')\n",
    "\n",
    "#   mainloop\n",
    "root.mainloop()"
   ]
  },
  {
   "cell_type": "code",
   "execution_count": 12,
   "id": "upper-winner",
   "metadata": {},
   "outputs": [],
   "source": [
    "style = ttk.Style()\n",
    "style.theme_use(\"clam\")"
   ]
  },
  {
   "cell_type": "code",
   "execution_count": 13,
   "id": "listed-destination",
   "metadata": {},
   "outputs": [
    {
     "data": {
      "text/plain": [
       "[('Button.border',\n",
       "  {'sticky': 'nswe',\n",
       "   'border': '1',\n",
       "   'children': [('Button.focus',\n",
       "     {'sticky': 'nswe',\n",
       "      'children': [('Button.padding',\n",
       "        {'sticky': 'nswe',\n",
       "         'children': [('Button.label', {'sticky': 'nswe'})]})]})]})]"
      ]
     },
     "execution_count": 13,
     "metadata": {},
     "output_type": "execute_result"
    }
   ],
   "source": [
    "style.layout(\"TButton\")"
   ]
  },
  {
   "cell_type": "code",
   "execution_count": 14,
   "id": "lesser-china",
   "metadata": {},
   "outputs": [
    {
     "data": {
      "text/plain": [
       "[('Horizontal.Progressbar.trough',\n",
       "  {'sticky': 'nswe',\n",
       "   'children': [('Horizontal.Progressbar.pbar',\n",
       "     {'side': 'left', 'sticky': 'ns'})]})]"
      ]
     },
     "execution_count": 14,
     "metadata": {},
     "output_type": "execute_result"
    }
   ],
   "source": [
    "style.layout(\"Horizontal.TProgressbar\")"
   ]
  },
  {
   "cell_type": "code",
   "execution_count": 44,
   "id": "confident-jersey",
   "metadata": {},
   "outputs": [
    {
     "ename": "TclError",
     "evalue": "Duplicate element Horizontal.TProgressbar.border2",
     "output_type": "error",
     "traceback": [
      "\u001b[1;31m---------------------------------------------------------------------------\u001b[0m",
      "\u001b[1;31mTclError\u001b[0m                                  Traceback (most recent call last)",
      "\u001b[1;32m<ipython-input-44-1f9d3db6825f>\u001b[0m in \u001b[0;36m<module>\u001b[1;34m\u001b[0m\n\u001b[0;32m      9\u001b[0m \u001b[1;33m\u001b[0m\u001b[0m\n\u001b[0;32m     10\u001b[0m \u001b[1;33m\u001b[0m\u001b[0m\n\u001b[1;32m---> 11\u001b[1;33m ttk.Style().element_create(\"Horizontal.TProgressbar.border2\", \n\u001b[0m\u001b[0;32m     12\u001b[0m                            \u001b[1;34m\"from\"\u001b[0m\u001b[1;33m,\u001b[0m \u001b[1;34m'clam'\u001b[0m\u001b[1;33m,\u001b[0m\u001b[1;33m\u001b[0m\u001b[1;33m\u001b[0m\u001b[0m\n\u001b[0;32m     13\u001b[0m                            sticky=\"nwse\", border = 4, padding=4)\n",
      "\u001b[1;32mc:\\python\\python38\\lib\\tkinter\\ttk.py\u001b[0m in \u001b[0;36melement_create\u001b[1;34m(self, elementname, etype, *args, **kw)\u001b[0m\n\u001b[0;32m    463\u001b[0m         \u001b[1;34m\"\"\"Create a new element in the current theme of given etype.\"\"\"\u001b[0m\u001b[1;33m\u001b[0m\u001b[1;33m\u001b[0m\u001b[0m\n\u001b[0;32m    464\u001b[0m         \u001b[0mspec\u001b[0m\u001b[1;33m,\u001b[0m \u001b[0mopts\u001b[0m \u001b[1;33m=\u001b[0m \u001b[0m_format_elemcreate\u001b[0m\u001b[1;33m(\u001b[0m\u001b[0metype\u001b[0m\u001b[1;33m,\u001b[0m \u001b[1;32mFalse\u001b[0m\u001b[1;33m,\u001b[0m \u001b[1;33m*\u001b[0m\u001b[0margs\u001b[0m\u001b[1;33m,\u001b[0m \u001b[1;33m**\u001b[0m\u001b[0mkw\u001b[0m\u001b[1;33m)\u001b[0m\u001b[1;33m\u001b[0m\u001b[1;33m\u001b[0m\u001b[0m\n\u001b[1;32m--> 465\u001b[1;33m         self.tk.call(self._name, \"element\", \"create\", elementname, etype,\n\u001b[0m\u001b[0;32m    466\u001b[0m             spec, *opts)\n\u001b[0;32m    467\u001b[0m \u001b[1;33m\u001b[0m\u001b[0m\n",
      "\u001b[1;31mTclError\u001b[0m: Duplicate element Horizontal.TProgressbar.border2"
     ]
    }
   ],
   "source": [
    "root = tk.Tk()\n",
    "root.geometry(\"300x100\")\n",
    "\n",
    "style = ttk.Style()\n",
    "style.theme_use('clam')\n",
    "\n",
    "style.configure(\"New.Horizontal.TProgressbar\", relef='flat')\n",
    "\n",
    "\n",
    "  \n",
    "ttk.Style().element_create(\"Horizontal.TProgressbar.border2\", \n",
    "                           \"from\", 'clam', \n",
    "                           sticky=\"nwse\", border = 4, padding=4)\n",
    "\n",
    "# ttk.Style().element_create(\"Search.frame\", \n",
    "#                            \"image\", normal_image, (\"focus\", self.focus_image),\n",
    "#                            border=(22, 7, 14), sticky=\"ew\")\n",
    "\n",
    "\n",
    "style.layout(\"New.Horizontal.TProgressbar\",[(\"Horizontal.TProgressbar.border2\", \n",
    "                                            \n",
    "            {'sticky':'nswe','children':[\n",
    "    ('Horizontal.Progressbar.trough',\n",
    "  {'sticky': 'nswe',\n",
    "   'children': [('Horizontal.Progressbar.pbar',\n",
    "     {'side': 'left', 'sticky': 'ns','border':1})    ]  })] })]  )\n",
    "\n",
    "pbar_var = tk.IntVar()\n",
    "pbar_var.set(60)\n",
    "pbar = ttk.Progressbar(root, variable =pbar_var ,style = \"New.Horizontal.TProgressbar\")\n",
    "pbar.pack(pady=20)\n",
    "\n",
    "root.mainloop()"
   ]
  },
  {
   "cell_type": "code",
   "execution_count": 36,
   "id": "naughty-completion",
   "metadata": {},
   "outputs": [
    {
     "data": {
      "text/plain": [
       "('Horizontal.Scrollbar.leftarrow',\n",
       " 'Vertical.Scale.slider',\n",
       " 'Spinbox.uparrow',\n",
       " 'Horizontal.TProgressbar.border',\n",
       " 'Horizontal.Scrollbar.thumb',\n",
       " 'Horizontal.Scrollbar.trough',\n",
       " 'Horizontal.Scrollbar.rightarrow',\n",
       " 'Horizontal.TProgressbar.border2',\n",
       " 'Vertical.Scrollbar.grip',\n",
       " 'Menubutton.dropdown',\n",
       " 'Horizontal.Progressbar.pbar',\n",
       " 'Vertical.Scrollbar.downarrow',\n",
       " 'Combobox.border',\n",
       " 'Spinbox.field',\n",
       " 'Spinbox.innerbg',\n",
       " 'Combobox.background',\n",
       " 'Combobox.rightdownarrow',\n",
       " 'Entry.background',\n",
       " 'Horizontal.Scale.slider',\n",
       " 'ComboboxPopdownFrame.background',\n",
       " 'Spinbox.background',\n",
       " 'Vertical.Scrollbar.thumb',\n",
       " 'Vertical.Scrollbar.uparrow',\n",
       " 'Vertical.Scrollbar.trough',\n",
       " 'Horizontal.Scrollbar.grip',\n",
       " 'Entry.field',\n",
       " 'Spinbox.downarrow',\n",
       " 'Vertical.Progressbar.pbar')"
      ]
     },
     "execution_count": 36,
     "metadata": {},
     "output_type": "execute_result"
    }
   ],
   "source": [
    "style.element_names()"
   ]
  },
  {
   "cell_type": "code",
   "execution_count": 37,
   "id": "printable-width",
   "metadata": {},
   "outputs": [
    {
     "data": {
      "text/plain": [
       "('bordercolor', 'lightcolor', 'darkcolor', 'relief', 'borderwidth')"
      ]
     },
     "execution_count": 37,
     "metadata": {},
     "output_type": "execute_result"
    }
   ],
   "source": [
    "style.element_options('Horizontal.TProgressbar.border')"
   ]
  },
  {
   "cell_type": "markdown",
   "id": "political-chest",
   "metadata": {},
   "source": [
    "## tk check button image"
   ]
  },
  {
   "cell_type": "code",
   "execution_count": 2,
   "id": "dimensional-concept",
   "metadata": {},
   "outputs": [],
   "source": [
    "import tkinter as tk\n",
    "root = tk.Tk()\n",
    "\n",
    "on_image = tk.PhotoImage(width=48, height=24)\n",
    "off_image = tk.PhotoImage(width=48, height=24)\n",
    "on_image.put((\"green\",), to=(0, 0, 23,23))\n",
    "off_image.put((\"red\",), to=(24, 0, 47, 23))\n",
    "\n",
    "var1 = tk.IntVar(value=1)\n",
    "var2 = tk.IntVar(value=0)\n",
    "cb1 = tk.Checkbutton(root, image=off_image, selectimage=on_image, indicatoron=False,\n",
    "                     onvalue=1, offvalue=0, variable=var1)\n",
    "cb2 = tk.Checkbutton(root, image=off_image, selectimage=on_image, indicatoron=False,\n",
    "                     onvalue=1, offvalue=0, variable=var2)\n",
    "\n",
    "cb1.pack(padx=20, pady=10)\n",
    "cb2.pack(padx=20, pady=10)\n",
    "\n",
    "root.mainloop()"
   ]
  },
  {
   "cell_type": "markdown",
   "id": "employed-terry",
   "metadata": {},
   "source": [
    "### Tkinter Withdraw, deiconify, iconify test"
   ]
  },
  {
   "cell_type": "code",
   "execution_count": 18,
   "id": "optimum-church",
   "metadata": {},
   "outputs": [
    {
     "name": "stderr",
     "output_type": "stream",
     "text": [
      "Exception in Tkinter callback\n",
      "Traceback (most recent call last):\n",
      "  File \"c:\\python\\python38\\lib\\tkinter\\__init__.py\", line 1883, in __call__\n",
      "    return self.func(*args)\n",
      "  File \"<ipython-input-18-11c03be0eb7e>\", line 23, in root_iconify\n",
      "    root.iconify()\n",
      "  File \"c:\\python\\python38\\lib\\tkinter\\__init__.py\", line 2077, in wm_iconify\n",
      "    return self.tk.call('wm', 'iconify', self._w)\n",
      "_tkinter.TclError: can't iconify \".\": override-redirect flag is set\n"
     ]
    },
    {
     "ename": "KeyboardInterrupt",
     "evalue": "",
     "output_type": "error",
     "traceback": [
      "\u001b[1;31m---------------------------------------------------------------------------\u001b[0m",
      "\u001b[1;31mKeyboardInterrupt\u001b[0m                         Traceback (most recent call last)",
      "\u001b[1;32m<ipython-input-18-11c03be0eb7e>\u001b[0m in \u001b[0;36m<module>\u001b[1;34m\u001b[0m\n\u001b[0;32m     33\u001b[0m \u001b[0mbutton3\u001b[0m\u001b[1;33m.\u001b[0m\u001b[0mconfig\u001b[0m\u001b[1;33m(\u001b[0m\u001b[0mcommand\u001b[0m \u001b[1;33m=\u001b[0m \u001b[0mroot_withdraw\u001b[0m\u001b[1;33m)\u001b[0m\u001b[1;33m\u001b[0m\u001b[1;33m\u001b[0m\u001b[0m\n\u001b[0;32m     34\u001b[0m \u001b[1;33m\u001b[0m\u001b[0m\n\u001b[1;32m---> 35\u001b[1;33m \u001b[0mroot\u001b[0m\u001b[1;33m.\u001b[0m\u001b[0mmainloop\u001b[0m\u001b[1;33m(\u001b[0m\u001b[1;33m)\u001b[0m\u001b[1;33m\u001b[0m\u001b[1;33m\u001b[0m\u001b[0m\n\u001b[0m",
      "\u001b[1;32mc:\\python\\python38\\lib\\tkinter\\__init__.py\u001b[0m in \u001b[0;36mmainloop\u001b[1;34m(self, n)\u001b[0m\n\u001b[0;32m   1418\u001b[0m     \u001b[1;32mdef\u001b[0m \u001b[0mmainloop\u001b[0m\u001b[1;33m(\u001b[0m\u001b[0mself\u001b[0m\u001b[1;33m,\u001b[0m \u001b[0mn\u001b[0m\u001b[1;33m=\u001b[0m\u001b[1;36m0\u001b[0m\u001b[1;33m)\u001b[0m\u001b[1;33m:\u001b[0m\u001b[1;33m\u001b[0m\u001b[1;33m\u001b[0m\u001b[0m\n\u001b[0;32m   1419\u001b[0m         \u001b[1;34m\"\"\"Call the mainloop of Tk.\"\"\"\u001b[0m\u001b[1;33m\u001b[0m\u001b[1;33m\u001b[0m\u001b[0m\n\u001b[1;32m-> 1420\u001b[1;33m         \u001b[0mself\u001b[0m\u001b[1;33m.\u001b[0m\u001b[0mtk\u001b[0m\u001b[1;33m.\u001b[0m\u001b[0mmainloop\u001b[0m\u001b[1;33m(\u001b[0m\u001b[0mn\u001b[0m\u001b[1;33m)\u001b[0m\u001b[1;33m\u001b[0m\u001b[1;33m\u001b[0m\u001b[0m\n\u001b[0m\u001b[0;32m   1421\u001b[0m \u001b[1;33m\u001b[0m\u001b[0m\n\u001b[0;32m   1422\u001b[0m     \u001b[1;32mdef\u001b[0m \u001b[0mquit\u001b[0m\u001b[1;33m(\u001b[0m\u001b[0mself\u001b[0m\u001b[1;33m)\u001b[0m\u001b[1;33m:\u001b[0m\u001b[1;33m\u001b[0m\u001b[1;33m\u001b[0m\u001b[0m\n",
      "\u001b[1;31mKeyboardInterrupt\u001b[0m: "
     ]
    }
   ],
   "source": [
    "import tkinter as tk\n",
    "root = tk.Tk()\n",
    "root.title(\"Root window\")\n",
    "root.geometry(\"200x200\")\n",
    "root.overrideredirect(True)\n",
    "\n",
    "label1 = tk.Label(root, text=\"This is root window.\")\n",
    "label1.pack()\n",
    "\n",
    "newroot = tk.Toplevel()\n",
    "newroot.title(\"New Root Window\")\n",
    "newroot.geometry(\"200x200\")\n",
    "label2 = tk.Label(newroot, text = 'This is newroot window.')\n",
    "button1 = tk.Button(newroot, text = 'deiconify')\n",
    "button2 = tk.Button(newroot, text = 'iconify')\n",
    "button3 = tk.Button(newroot, text= 'withdraw')\n",
    "\n",
    "label2.pack()\n",
    "button1.pack()\n",
    "button2.pack()\n",
    "button3.pack()\n",
    "def root_iconify():\n",
    "    root.iconify()\n",
    "    \n",
    "def root_deiconify():\n",
    "    root.deiconify()\n",
    "    \n",
    "def root_withdraw():\n",
    "    root.withdraw()\n",
    "    \n",
    "button1.config(command = root_deiconify)\n",
    "button2.config(command = root_iconify)\n",
    "button3.config(command = root_withdraw)\n",
    "\n",
    "root.mainloop()"
   ]
  },
  {
   "cell_type": "markdown",
   "id": "static-colon",
   "metadata": {},
   "source": [
    "### Comparing Datetime"
   ]
  },
  {
   "cell_type": "code",
   "execution_count": 1,
   "id": "twenty-tulsa",
   "metadata": {},
   "outputs": [],
   "source": [
    "import datetime"
   ]
  },
  {
   "cell_type": "code",
   "execution_count": 2,
   "id": "relative-citizen",
   "metadata": {},
   "outputs": [],
   "source": [
    "day1 = datetime.date(2021,6,9)"
   ]
  },
  {
   "cell_type": "code",
   "execution_count": 3,
   "id": "broken-carol",
   "metadata": {},
   "outputs": [],
   "source": [
    "day2 = datetime.date(2021,6,10)"
   ]
  },
  {
   "cell_type": "code",
   "execution_count": 4,
   "id": "statewide-coaching",
   "metadata": {},
   "outputs": [
    {
     "data": {
      "text/plain": [
       "True"
      ]
     },
     "execution_count": 4,
     "metadata": {},
     "output_type": "execute_result"
    }
   ],
   "source": [
    "day2 > day1"
   ]
  },
  {
   "cell_type": "code",
   "execution_count": 5,
   "id": "instrumental-ancient",
   "metadata": {},
   "outputs": [],
   "source": [
    "a = '09-Jun-2021'"
   ]
  },
  {
   "cell_type": "code",
   "execution_count": null,
   "id": "reserved-process",
   "metadata": {},
   "outputs": [],
   "source": []
  },
  {
   "cell_type": "markdown",
   "id": "affecting-porter",
   "metadata": {},
   "source": [
    "## ttk Checkbutton image test "
   ]
  },
  {
   "cell_type": "code",
   "execution_count": 34,
   "id": "aerial-vertical",
   "metadata": {},
   "outputs": [
    {
     "name": "stdout",
     "output_type": "stream",
     "text": [
      "intital state of the checkbutton:   ('alternate',)\n",
      "('alternate', 'hover')\n",
      "('focus', 'selected', 'hover')\n",
      "('focus', 'hover')\n",
      "('focus', 'selected', 'hover')\n",
      "('focus', 'hover')\n",
      "('focus', 'selected', 'hover')\n",
      "('focus', 'selected', 'hover')\n"
     ]
    }
   ],
   "source": [
    "import tkinter as tk\n",
    "from tkinter import ttk\n",
    "from ttkthemes import ThemedTk\n",
    "# root = tk.Tk()\n",
    "\n",
    "root  = ThemedTk(theme=\"Arc\")\n",
    "\n",
    "image1 = tk.PhotoImage(file = r\"C:\\WorkData\\Programming\\Python\\MY PROJECTS\\STUDY MANAGEMENT - TYT\\Resources\\Icons\\icons8_unchecked_checkbox_32.png\")\n",
    "\n",
    "style = ttk.Style()\n",
    "style.configure(\"Test.TCheckbutton\", background = 'white', indicatormargin = 50)\n",
    "\n",
    "style.map(\"Test.TCheckbutton\",  \n",
    "          indicatoron=[('pressed', 'red'), ('selected', '#4a6984')],\n",
    "          indicatorbackground = [('hover', 'white')],\n",
    "          indicatorcolor = [('hover', 'yellow'), ('focus', 'red')],\n",
    "          compound = [('hover', image1)]\n",
    "         )\n",
    "checkbutton = ttk.Checkbutton(root, text='this is trial', style = 'Test.TCheckbutton')\n",
    "checkbutton.pack(pady=50, padx = 50)\n",
    "\n",
    "var = tk.IntVar()\n",
    "var.set(60)\n",
    "progress = ttk.Progressbar(root, variable =var )\n",
    "progress.pack()\n",
    "\n",
    "\n",
    "print(\"intital state of the checkbutton:  \", checkbutton.state())\n",
    "\n",
    "\n",
    "def checkstate(event):\n",
    "    print(checkbutton.state())\n",
    "\n",
    "checkbutton.bind(\"<Enter>\", checkstate)    \n",
    "\n",
    "root.mainloop()"
   ]
  },
  {
   "cell_type": "markdown",
   "id": "applicable-radio",
   "metadata": {},
   "source": [
    "('alternate', 'hover')\\\n",
    "('alternate', 'hover')\\\n",
    "('focus', 'selected', 'hover')\\\n",
    "('focus', 'selected', 'hover')\\\n",
    "('focus', 'hover')\\\n",
    "('focus', 'hover')\\\n",
    "('focus', 'hover')"
   ]
  },
  {
   "cell_type": "code",
   "execution_count": null,
   "id": "german-queensland",
   "metadata": {},
   "outputs": [],
   "source": []
  }
 ],
 "metadata": {
  "kernelspec": {
   "display_name": "Python 3",
   "language": "python",
   "name": "python3"
  },
  "language_info": {
   "codemirror_mode": {
    "name": "ipython",
    "version": 3
   },
   "file_extension": ".py",
   "mimetype": "text/x-python",
   "name": "python",
   "nbconvert_exporter": "python",
   "pygments_lexer": "ipython3",
   "version": "3.8.3"
  }
 },
 "nbformat": 4,
 "nbformat_minor": 5
}
