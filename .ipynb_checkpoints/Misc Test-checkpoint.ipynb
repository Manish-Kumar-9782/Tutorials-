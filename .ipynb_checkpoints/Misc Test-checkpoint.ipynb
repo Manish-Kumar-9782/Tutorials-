{
 "cells": [
  {
   "cell_type": "code",
   "execution_count": 1,
   "id": "textile-louis",
   "metadata": {},
   "outputs": [],
   "source": [
    "import numpy as np"
   ]
  },
  {
   "cell_type": "markdown",
   "id": "orange-subscriber",
   "metadata": {},
   "source": [
    "## Embed matplotlib charts in tkinter"
   ]
  },
  {
   "cell_type": "code",
   "execution_count": 3,
   "id": "monetary-grove",
   "metadata": {},
   "outputs": [],
   "source": [
    "from tkinter import *\n",
    "from matplotlib.figure import Figure\n",
    "from matplotlib.backends.backend_tkagg import (FigureCanvasTkAgg,\n",
    "NavigationToolbar2Tk)\n",
    "\n",
    "# plot function is created for\n",
    "# plotting the graph in\n",
    "# tkinter window\n",
    "def plot():\n",
    "\n",
    "\t# the figure that will contain the plot\n",
    "\tfig = Figure(figsize = (5, 5),\n",
    "\t\t\t\tdpi = 100)\n",
    "\n",
    "\t# list of squares\n",
    "\ty = [i**2 for i in range(101)]\n",
    "\n",
    "\t# adding the subplot\n",
    "\tplot1 = fig.add_subplot(111)\n",
    "\n",
    "\t# plotting the graph\n",
    "\tplot1.plot(y)\n",
    "\n",
    "\t# creating the Tkinter canvas\n",
    "\t# containing the Matplotlib figure\n",
    "\tcanvas = FigureCanvasTkAgg(fig,\n",
    "\t\t\t\t\t\t\tmaster = window)\n",
    "\tcanvas.draw()\n",
    "\n",
    "\t# placing the canvas on the Tkinter window\n",
    "\tcanvas.get_tk_widget().pack()\n",
    "\n",
    "\t# creating the Matplotlib toolbar\n",
    "\ttoolbar = NavigationToolbar2Tk(canvas,\n",
    "\t\t\t\t\t\t\t\twindow)\n",
    "\ttoolbar.update()\n",
    "\n",
    "\t# placing the toolbar on the Tkinter window\n",
    "\tcanvas.get_tk_widget().pack()\n",
    "\n",
    "# the main Tkinter window\n",
    "window = Tk()\n",
    "\n",
    "# setting the title\n",
    "window.title('Plotting in Tkinter')\n",
    "\n",
    "# dimensions of the main window\n",
    "window.geometry(\"500x500\")\n",
    "\n",
    "# button that displays the plot\n",
    "plot_button = Button(master = window,\n",
    "\t\t\t\t\tcommand = plot,\n",
    "\t\t\t\t\theight = 2,\n",
    "\t\t\t\t\twidth = 10,\n",
    "\t\t\t\t\ttext = \"Plot\")\n",
    "\n",
    "# place the button\n",
    "# in main window\n",
    "plot_button.pack()\n",
    "\n",
    "# run the gui\n",
    "window.mainloop()\n"
   ]
  },
  {
   "cell_type": "markdown",
   "id": "checked-chester",
   "metadata": {},
   "source": [
    "## Testing New SM-TYT apps Classes"
   ]
  },
  {
   "cell_type": "code",
   "execution_count": 1,
   "id": "balanced-association",
   "metadata": {},
   "outputs": [],
   "source": [
    "root = r\"C:\\WorkData\\Programming\\Python\\MY PROJECTS\\STUDY MANAGEMENT - TYT\"\n",
    "import os\n",
    "os.chdir(root)\n",
    "os.getcwd()\n",
    "import Apps_func as app\n",
    "import tkinter as tk\n",
    "import time\n",
    "ttime = app.Time()"
   ]
  },
  {
   "cell_type": "code",
   "execution_count": 4,
   "id": "quantitative-frederick",
   "metadata": {},
   "outputs": [],
   "source": [
    "ttime = app.Time()\n",
    "savetime = app.SaveTime()"
   ]
  },
  {
   "cell_type": "code",
   "execution_count": 5,
   "id": "atomic-hybrid",
   "metadata": {},
   "outputs": [
    {
     "name": "stdout",
     "output_type": "stream",
     "text": [
      "[['Date', 'Countdown time', 'Countdown completion time', 'Additional time 0', 'Restart1 Completion', 'Additional time 1', 'Restart2 Completion', 'Additional time 2'], ['15-May-2021', '07:58:04 PM', '00:00:06', '00:00:06', '00:00:02']]\n",
      "old data:  ['Date', 'Countdown time', 'Countdown completion time', 'Additional time 0', 'Restart1 Completion', 'Additional time 1', 'Restart2 Completion', 'Additional time 2']\n"
     ]
    },
    {
     "ename": "AttributeError",
     "evalue": "'NoneType' object has no attribute 'keys'",
     "output_type": "error",
     "traceback": [
      "\u001b[1;31m---------------------------------------------------------------------------\u001b[0m",
      "\u001b[1;31mAttributeError\u001b[0m                            Traceback (most recent call last)",
      "\u001b[1;32m<ipython-input-5-6ac75f914b4a>\u001b[0m in \u001b[0;36m<module>\u001b[1;34m\u001b[0m\n\u001b[1;32m----> 1\u001b[1;33m \u001b[0msavetime\u001b[0m\u001b[1;33m.\u001b[0m\u001b[0msave_countdown_time\u001b[0m\u001b[1;33m(\u001b[0m\u001b[1;34m\"./data/temp.csv\"\u001b[0m\u001b[1;33m)\u001b[0m\u001b[1;33m\u001b[0m\u001b[1;33m\u001b[0m\u001b[0m\n\u001b[0m",
      "\u001b[1;32mC:\\WorkData\\Programming\\Python\\MY PROJECTS\\STUDY MANAGEMENT - TYT\\Apps_func.py\u001b[0m in \u001b[0;36msave_countdown_time\u001b[1;34m(self, fp, data)\u001b[0m\n\u001b[0;32m    175\u001b[0m         \u001b[1;32melse\u001b[0m\u001b[1;33m:\u001b[0m\u001b[1;33m\u001b[0m\u001b[1;33m\u001b[0m\u001b[0m\n\u001b[0;32m    176\u001b[0m             \u001b[0mprint\u001b[0m\u001b[1;33m(\u001b[0m\u001b[1;34m\"old data: \"\u001b[0m\u001b[1;33m,\u001b[0m\u001b[0mtime_data\u001b[0m\u001b[1;33m[\u001b[0m\u001b[1;36m0\u001b[0m\u001b[1;33m]\u001b[0m\u001b[1;33m)\u001b[0m\u001b[1;33m\u001b[0m\u001b[1;33m\u001b[0m\u001b[0m\n\u001b[1;32m--> 177\u001b[1;33m             \u001b[0mprint\u001b[0m\u001b[1;33m(\u001b[0m\u001b[1;34m\"new data: \"\u001b[0m\u001b[1;33m,\u001b[0m\u001b[0mdata\u001b[0m\u001b[1;33m.\u001b[0m\u001b[0mkeys\u001b[0m\u001b[1;33m(\u001b[0m\u001b[1;33m)\u001b[0m\u001b[1;33m)\u001b[0m\u001b[1;33m\u001b[0m\u001b[1;33m\u001b[0m\u001b[0m\n\u001b[0m\u001b[0;32m    178\u001b[0m             \u001b[1;32mif\u001b[0m \u001b[0mlen\u001b[0m\u001b[1;33m(\u001b[0m\u001b[0mtime_data\u001b[0m\u001b[1;33m[\u001b[0m\u001b[1;36m0\u001b[0m\u001b[1;33m]\u001b[0m \u001b[1;33m)\u001b[0m \u001b[1;33m<\u001b[0m \u001b[0mlen\u001b[0m\u001b[1;33m(\u001b[0m\u001b[0mdata\u001b[0m\u001b[1;33m.\u001b[0m\u001b[0mkeys\u001b[0m\u001b[1;33m(\u001b[0m\u001b[1;33m)\u001b[0m\u001b[1;33m)\u001b[0m\u001b[1;33m:\u001b[0m\u001b[1;33m\u001b[0m\u001b[1;33m\u001b[0m\u001b[0m\n\u001b[0;32m    179\u001b[0m                 \u001b[1;31m# if new data has more column then we need add them in our existing data.\u001b[0m\u001b[1;33m\u001b[0m\u001b[1;33m\u001b[0m\u001b[1;33m\u001b[0m\u001b[0m\n",
      "\u001b[1;31mAttributeError\u001b[0m: 'NoneType' object has no attribute 'keys'"
     ]
    }
   ],
   "source": [
    "savetime.save_countdown_time(\"./data/temp.csv\")"
   ]
  },
  {
   "cell_type": "code",
   "execution_count": 1,
   "id": "chubby-stake",
   "metadata": {},
   "outputs": [
    {
     "name": "stdout",
     "output_type": "stream",
     "text": [
      " time elapsed: 42.0 \t idle time: 15.0 \t countdown time: (0, 4, 33)\r"
     ]
    }
   ],
   "source": [
    "# A simple script of the CountDown timer and Idle timer.\n",
    "\n",
    "root = r\"C:\\WorkData\\Programming\\Python\\MY PROJECTS\\STUDY MANAGEMENT - TYT\"\n",
    "import os\n",
    "os.chdir(root)\n",
    "os.getcwd()\n",
    "import Apps_func as app\n",
    "import tkinter as tk\n",
    "import time\n",
    "ttime = app.Time()\n",
    "'''\n",
    "Initially the Idle time will be in runnning mode, if we are running a countdown or a stopwatch then we also need to stop the \n",
    "idle timer. here in this idle timer we need to remind some points.\n",
    "\n",
    "1. at the start of the application or idle_timer object, idle timer will be in running mode.\n",
    "\n",
    "2. if we set the Idle_Time_status as 'Stopped' then the idle timer will be paused and there will be no count of seconds.\n",
    "    In a countdown application Idle_Time_status as 'Stopped' can be defined by pressing pause and stop button.\n",
    "\n",
    "3. if we set the Idle_Time_status as 'Start' or 'Running' then it will start to run again and it will count the with last\n",
    "    counted.\n",
    "    \n",
    "Here in this small application of idle_timer, we will use this idle timer with a countdown application.\n",
    "\n",
    "Note: Apps_func is the custom module and it is located at the root directory.\n",
    "\n",
    "'''\n",
    "##---------------------------GLOBAL VARIABLES----------------------------\n",
    "global countdown_status, root_after_id\n",
    "\n",
    "# here we need to define the countdown_status, root_after_id as global by global declaration,\n",
    "# countdown_status: will be used to start, stop and pause the countdown timer.\n",
    "# root_after_id: it will be used to track the root.after() loop id.\n",
    "\n",
    "countdown_status = 'running' # it can be running, paused, stopped.\n",
    "ttime = app.Time()\n",
    "init_time = time.mktime(time.localtime())\n",
    "root_after_id = None\n",
    "\n",
    "#-------------------------------------------------------------------------------\n",
    "\n",
    "root = tk.Tk()\n",
    "\n",
    "Seconds = 300 \n",
    "countdown = app.Time.Countdown(Seconds) # here we need to define the second , we will set this as 300 seconds or 5 min.\n",
    "\n",
    "# In this application , initially both idle_timer and countdown_timer are both running mode\n",
    "# so we need to stop idle_timer by setting  'Pause_Idle'\n",
    "\n",
    "ttime.Idle_Timer_status = 'Pause_Idle'\n",
    "ttime.idle_timer()\n",
    "# now, since we are initilizing the conuntdown timer so we need to pause the the idle_timer\n",
    "# to pause the idle_timer we need to set the Idle_Timer_status as 'Pause_Idle'\n",
    "\n",
    "\n",
    "start = tk.Button(root, text = 'start')\n",
    "pause = tk.Button(root, text = 'pause')\n",
    "stop = tk.Button(root, text = 'stop')\n",
    "\n",
    "start.pack(side=tk.LEFT)\n",
    "pause.pack(side=tk.LEFT)\n",
    "stop.pack(side=tk.LEFT)\n",
    "    \n",
    "\n",
    "def show_idle_time():\n",
    "    '''\n",
    "    Now this function will be used to display the time and control the countdown timer and idle timer.\n",
    "    Initially the countdown_timer will be in running mode and the idle_timer will be paused.\n",
    "    \n",
    "    * if we press the the pause button, then it will pause the countdown_timer and start the idle_timer.\n",
    "    * if we press the start button, then it will pause the idle_timer and start the countdown_timer.\n",
    "    '''\n",
    "    global countdown_status, root_after_id\n",
    "    countdown_time = countdown.timer()\n",
    "    #print(\"\\ncountdown status: \",countdown_status )\n",
    "    \n",
    "    if countdown_status == 'running':\n",
    "        # if countdown in running mode then we need to subtract 1 in each sec.\n",
    "        countdown.seconds -= 1\n",
    "        \n",
    "    elif countdown_status == 'paused':\n",
    "        # if countdown in paused then we wont subtract anything.\n",
    "        countdown.seconds = countdown.seconds\n",
    "        \n",
    "    elif countdown_status == 'stopped':\n",
    "        print(\"timer is stopped\")\n",
    "    \n",
    "    else:\n",
    "        print(\"wrong status.\")\n",
    "    \n",
    "    # here we need to continuously call the idle_timer() from the Time class so we can update the idle_timer.\n",
    "    # the idle timer will be update according to the Idle_Timer_status\n",
    "    ttime.idle_timer()\n",
    "    \n",
    "    # time_elapsed will be in running mode, it will be used to see the difference of running and paused duration seconds.\n",
    "    time_elapsed = time.mktime(time.localtime()) - init_time \n",
    "    print(f\"\\r time elapsed: {time_elapsed} \\t idle time: {ttime.Idle_Time} \\t countdown time: {countdown_time}\", end = '\\r')\n",
    "    \n",
    "    # root.after() infinite loop to run the show_idlw_time method, this after id will be tracked by the root_after_id\n",
    "    root_after_id = root.after(1000,show_idle_time)\n",
    "    \n",
    "show_idle_time()\n",
    "\n",
    "\n",
    "def set_idle_time(button):\n",
    "    global countdown_status, root_after_id\n",
    "\n",
    "    # if start button is pressed then we need pause the idle_timer and run the countdown_timer\n",
    "    if button.cget('text') == 'start':\n",
    "        \n",
    "        ttime.Idle_Timer_status = \"Pause\"\n",
    "        countdown_status = 'running'\n",
    "        \n",
    "    # if we press pause button then we need to run the idle_time and pause the countdown_timer.\n",
    "    elif button.cget('text') == 'pause':\n",
    "        \n",
    "        ttime.Idle_Timer_status = 'Run'\n",
    "        countdown_status = 'paused'\n",
    "     \n",
    "    # if we press the stop button then idle_timer will be set to run and countdown_timer will be stopped\n",
    "    # in this application we will stop the both timer by canceling the root.after() loop.\n",
    "    elif button.cget('text') == 'stop':\n",
    "        \n",
    "        ttime.Idle_Timer_status = 'Run'\n",
    "        countdown_status = 'stopped'\n",
    "        root.after_cancel(root_after_id)\n",
    "    \n",
    "    else:\n",
    "        print(\"wrong status\")\n",
    "    ttime.idle_timer()\n",
    "        \n",
    "start.config(command = lambda x = start: set_idle_time(x))\n",
    "pause.config(command = lambda x = pause: set_idle_time(x))\n",
    "stop.config(command = lambda x = stop: set_idle_time(x))\n",
    "\n",
    "\n",
    "root.mainloop()        "
   ]
  },
  {
   "cell_type": "code",
   "execution_count": 9,
   "id": "egyptian-oliver",
   "metadata": {},
   "outputs": [
    {
     "data": {
      "text/plain": [
       "'07:56:34 PM'"
      ]
     },
     "execution_count": 9,
     "metadata": {},
     "output_type": "execute_result"
    }
   ],
   "source": [
    "import time\n",
    "time.strftime(\"%I:%M:%S %p\")"
   ]
  },
  {
   "cell_type": "code",
   "execution_count": 14,
   "id": "naughty-senate",
   "metadata": {},
   "outputs": [
    {
     "name": "stdout",
     "output_type": "stream",
     "text": [
      "time elapsed:  2.0\n"
     ]
    }
   ],
   "source": [
    "time1 = time.mktime(time.localtime())\n",
    "time.sleep(2)\n",
    "time2 = time.mktime(time.localtime())\n",
    "\n",
    "print(\"time elapsed: \",time2 - time1)"
   ]
  },
  {
   "cell_type": "code",
   "execution_count": 6,
   "id": "remarkable-regular",
   "metadata": {},
   "outputs": [
    {
     "data": {
      "text/plain": [
       "True"
      ]
     },
     "execution_count": 6,
     "metadata": {},
     "output_type": "execute_result"
    }
   ],
   "source": [
    "isinstance(a, list)"
   ]
  },
  {
   "cell_type": "code",
   "execution_count": 7,
   "id": "lucky-singles",
   "metadata": {},
   "outputs": [],
   "source": [
    "import time"
   ]
  },
  {
   "cell_type": "code",
   "execution_count": 8,
   "id": "scheduled-edgar",
   "metadata": {},
   "outputs": [
    {
     "data": {
      "text/plain": [
       "1621062775.7186568"
      ]
     },
     "execution_count": 8,
     "metadata": {},
     "output_type": "execute_result"
    }
   ],
   "source": [
    "time.time()"
   ]
  },
  {
   "cell_type": "code",
   "execution_count": 9,
   "id": "interesting-oasis",
   "metadata": {},
   "outputs": [
    {
     "data": {
      "text/plain": [
       "time.struct_time(tm_year=2021, tm_mon=5, tm_mday=15, tm_hour=12, tm_min=43, tm_sec=6, tm_wday=5, tm_yday=135, tm_isdst=0)"
      ]
     },
     "execution_count": 9,
     "metadata": {},
     "output_type": "execute_result"
    }
   ],
   "source": [
    "time.localtime()"
   ]
  },
  {
   "cell_type": "code",
   "execution_count": 12,
   "id": "demanding-husband",
   "metadata": {},
   "outputs": [
    {
     "data": {
      "text/plain": [
       "'Sat May 15 12:44:24 2021'"
      ]
     },
     "execution_count": 12,
     "metadata": {},
     "output_type": "execute_result"
    }
   ],
   "source": [
    "time.strftime(\"%c\")"
   ]
  },
  {
   "cell_type": "code",
   "execution_count": 13,
   "id": "wanted-timothy",
   "metadata": {},
   "outputs": [
    {
     "data": {
      "text/plain": [
       "'15-May-2021'"
      ]
     },
     "execution_count": 13,
     "metadata": {},
     "output_type": "execute_result"
    }
   ],
   "source": [
    "time.strftime(\"%d-%b-%Y\")"
   ]
  },
  {
   "cell_type": "code",
   "execution_count": 2,
   "id": "patient-mailman",
   "metadata": {},
   "outputs": [],
   "source": [
    "import tkinter as tk"
   ]
  },
  {
   "cell_type": "code",
   "execution_count": 9,
   "id": "rough-dependence",
   "metadata": {},
   "outputs": [
    {
     "name": "stdout",
     "output_type": "stream",
     "text": [
      "root window class:  Tk <class 'str'>\n",
      "button class:  Button\n",
      "new_root window class:  Toplevel\n"
     ]
    }
   ],
   "source": [
    "root = tk.Tk()\n",
    "\n",
    "button = tk.Button(root, text ='toplevel')\n",
    "button.pack()\n",
    "\n",
    "def create_toplevel():\n",
    "    \n",
    "    new_root = tk.Toplevel()\n",
    "    print(\"root window class: \",root.winfo_class(), type(root.winfo_class()))\n",
    "    print(\"button class: \",button.winfo_class())\n",
    "    print(\"new_root window class: \",new_root.winfo_class())\n",
    "    new_root.mainloop()\n",
    "    \n",
    "    \n",
    "\n",
    "button.config(command = create_toplevel)\n",
    "\n",
    "\n",
    "\n",
    "\n",
    "root.mainloop()"
   ]
  },
  {
   "cell_type": "code",
   "execution_count": 12,
   "id": "disciplinary-commons",
   "metadata": {},
   "outputs": [],
   "source": [
    "record_data = {\"Record Type\": 1,\n",
    "                       \"Record Name\":2,\n",
    "                       \"Record Topic\":3,\n",
    "                       \"Record SubTopic\":4}"
   ]
  },
  {
   "cell_type": "code",
   "execution_count": 11,
   "id": "waiting-controversy",
   "metadata": {},
   "outputs": [
    {
     "ename": "TypeError",
     "evalue": "unsupported operand type(s) for +: 'dict' and 'dict'",
     "output_type": "error",
     "traceback": [
      "\u001b[1;31m---------------------------------------------------------------------------\u001b[0m",
      "\u001b[1;31mTypeError\u001b[0m                                 Traceback (most recent call last)",
      "\u001b[1;32m<ipython-input-11-fe622e5316d4>\u001b[0m in \u001b[0;36m<module>\u001b[1;34m\u001b[0m\n\u001b[1;32m----> 1\u001b[1;33m \u001b[0mrecord_data\u001b[0m \u001b[1;33m+\u001b[0m \u001b[0mrecord_data\u001b[0m\u001b[1;33m\u001b[0m\u001b[1;33m\u001b[0m\u001b[0m\n\u001b[0m",
      "\u001b[1;31mTypeError\u001b[0m: unsupported operand type(s) for +: 'dict' and 'dict'"
     ]
    }
   ],
   "source": [
    "record_data + record_data"
   ]
  },
  {
   "cell_type": "code",
   "execution_count": 13,
   "id": "yellow-wayne",
   "metadata": {},
   "outputs": [],
   "source": [
    "record_data.update(record_data)"
   ]
  },
  {
   "cell_type": "code",
   "execution_count": 14,
   "id": "paperback-tender",
   "metadata": {},
   "outputs": [
    {
     "data": {
      "text/plain": [
       "{'Record Type': 1, 'Record Name': 2, 'Record Topic': 3, 'Record SubTopic': 4}"
      ]
     },
     "execution_count": 14,
     "metadata": {},
     "output_type": "execute_result"
    }
   ],
   "source": [
    "record_data"
   ]
  },
  {
   "cell_type": "code",
   "execution_count": 15,
   "id": "acute-roller",
   "metadata": {},
   "outputs": [],
   "source": [
    "data = {\"Type\": 1,\n",
    "        \"Name\":2,\n",
    "        \"Topic\":3,\n",
    "        \"SubTopic\":4}"
   ]
  },
  {
   "cell_type": "code",
   "execution_count": 16,
   "id": "exposed-bread",
   "metadata": {},
   "outputs": [],
   "source": [
    "record_data.update(data)"
   ]
  },
  {
   "cell_type": "code",
   "execution_count": 17,
   "id": "strong-mechanics",
   "metadata": {},
   "outputs": [
    {
     "data": {
      "text/plain": [
       "{'Record Type': 1,\n",
       " 'Record Name': 2,\n",
       " 'Record Topic': 3,\n",
       " 'Record SubTopic': 4,\n",
       " 'Type': 1,\n",
       " 'Name': 2,\n",
       " 'Topic': 3,\n",
       " 'SubTopic': 4}"
      ]
     },
     "execution_count": 17,
     "metadata": {},
     "output_type": "execute_result"
    }
   ],
   "source": [
    "record_data"
   ]
  },
  {
   "cell_type": "code",
   "execution_count": 18,
   "id": "graduate-strength",
   "metadata": {},
   "outputs": [
    {
     "name": "stdout",
     "output_type": "stream",
     "text": [
      "data present\n"
     ]
    }
   ],
   "source": [
    "if record_data:\n",
    "    print(\"data present\")"
   ]
  },
  {
   "cell_type": "code",
   "execution_count": 19,
   "id": "vanilla-poker",
   "metadata": {},
   "outputs": [],
   "source": [
    "data = None"
   ]
  },
  {
   "cell_type": "code",
   "execution_count": 20,
   "id": "hazardous-hughes",
   "metadata": {},
   "outputs": [
    {
     "name": "stdout",
     "output_type": "stream",
     "text": [
      "data not present\n"
     ]
    }
   ],
   "source": [
    "if data:\n",
    "    print('data present')\n",
    "else:\n",
    "    print(\"data not present\")"
   ]
  },
  {
   "cell_type": "code",
   "execution_count": 21,
   "id": "wireless-contents",
   "metadata": {},
   "outputs": [],
   "source": [
    "a = []"
   ]
  },
  {
   "cell_type": "code",
   "execution_count": 22,
   "id": "advance-decision",
   "metadata": {},
   "outputs": [
    {
     "data": {
      "text/plain": [
       "0"
      ]
     },
     "execution_count": 22,
     "metadata": {},
     "output_type": "execute_result"
    }
   ],
   "source": [
    "len(a)"
   ]
  },
  {
   "cell_type": "code",
   "execution_count": 23,
   "id": "demanding-bernard",
   "metadata": {},
   "outputs": [],
   "source": [
    "from tkinter import ttk"
   ]
  },
  {
   "cell_type": "code",
   "execution_count": 24,
   "id": "backed-thanksgiving",
   "metadata": {},
   "outputs": [],
   "source": [
    "pro = ttk.Progressbar(None)"
   ]
  },
  {
   "cell_type": "code",
   "execution_count": 25,
   "id": "interpreted-compiler",
   "metadata": {},
   "outputs": [],
   "source": [
    "s = ttk.Style()"
   ]
  },
  {
   "cell_type": "code",
   "execution_count": 27,
   "id": "timely-permission",
   "metadata": {},
   "outputs": [
    {
     "data": {
      "text/plain": [
       "'TProgressbar'"
      ]
     },
     "execution_count": 27,
     "metadata": {},
     "output_type": "execute_result"
    }
   ],
   "source": [
    "pro.winfo_class()"
   ]
  },
  {
   "cell_type": "code",
   "execution_count": 28,
   "id": "infrared-genome",
   "metadata": {},
   "outputs": [
    {
     "ename": "TclError",
     "evalue": "Layout TProgressbar not found",
     "output_type": "error",
     "traceback": [
      "\u001b[1;31m---------------------------------------------------------------------------\u001b[0m",
      "\u001b[1;31mTclError\u001b[0m                                  Traceback (most recent call last)",
      "\u001b[1;32m<ipython-input-28-8a32da0e6bcd>\u001b[0m in \u001b[0;36m<module>\u001b[1;34m\u001b[0m\n\u001b[1;32m----> 1\u001b[1;33m \u001b[0ms\u001b[0m\u001b[1;33m.\u001b[0m\u001b[0mlayout\u001b[0m\u001b[1;33m(\u001b[0m\u001b[1;34m'TProgressbar'\u001b[0m\u001b[1;33m)\u001b[0m\u001b[1;33m\u001b[0m\u001b[1;33m\u001b[0m\u001b[0m\n\u001b[0m",
      "\u001b[1;32mc:\\python\\python38\\lib\\tkinter\\ttk.py\u001b[0m in \u001b[0;36mlayout\u001b[1;34m(self, style, layoutspec)\u001b[0m\n\u001b[0;32m    457\u001b[0m \u001b[1;33m\u001b[0m\u001b[0m\n\u001b[0;32m    458\u001b[0m         return _list_from_layouttuple(self.tk,\n\u001b[1;32m--> 459\u001b[1;33m             self.tk.call(self._name, \"layout\", style, lspec))\n\u001b[0m\u001b[0;32m    460\u001b[0m \u001b[1;33m\u001b[0m\u001b[0m\n\u001b[0;32m    461\u001b[0m \u001b[1;33m\u001b[0m\u001b[0m\n",
      "\u001b[1;31mTclError\u001b[0m: Layout TProgressbar not found"
     ]
    }
   ],
   "source": [
    "pro"
   ]
  },
  {
   "cell_type": "code",
   "execution_count": 33,
   "id": "excellent-element",
   "metadata": {},
   "outputs": [
    {
     "data": {
      "text/plain": [
       "()"
      ]
     },
     "execution_count": 33,
     "metadata": {},
     "output_type": "execute_result"
    }
   ],
   "source": [
    "s.element_options('Progressbar')"
   ]
  },
  {
   "cell_type": "code",
   "execution_count": 34,
   "id": "accurate-michigan",
   "metadata": {},
   "outputs": [
    {
     "ename": "TclError",
     "evalue": "Layout Progressbar not found",
     "output_type": "error",
     "traceback": [
      "\u001b[1;31m---------------------------------------------------------------------------\u001b[0m",
      "\u001b[1;31mTclError\u001b[0m                                  Traceback (most recent call last)",
      "\u001b[1;32m<ipython-input-34-a891810c4d4e>\u001b[0m in \u001b[0;36m<module>\u001b[1;34m\u001b[0m\n\u001b[1;32m----> 1\u001b[1;33m \u001b[0ms\u001b[0m\u001b[1;33m.\u001b[0m\u001b[0mlayout\u001b[0m\u001b[1;33m(\u001b[0m\u001b[1;34m'Progressbar'\u001b[0m\u001b[1;33m)\u001b[0m\u001b[1;33m\u001b[0m\u001b[1;33m\u001b[0m\u001b[0m\n\u001b[0m",
      "\u001b[1;32mc:\\python\\python38\\lib\\tkinter\\ttk.py\u001b[0m in \u001b[0;36mlayout\u001b[1;34m(self, style, layoutspec)\u001b[0m\n\u001b[0;32m    457\u001b[0m \u001b[1;33m\u001b[0m\u001b[0m\n\u001b[0;32m    458\u001b[0m         return _list_from_layouttuple(self.tk,\n\u001b[1;32m--> 459\u001b[1;33m             self.tk.call(self._name, \"layout\", style, lspec))\n\u001b[0m\u001b[0;32m    460\u001b[0m \u001b[1;33m\u001b[0m\u001b[0m\n\u001b[0;32m    461\u001b[0m \u001b[1;33m\u001b[0m\u001b[0m\n",
      "\u001b[1;31mTclError\u001b[0m: Layout Progressbar not found"
     ]
    }
   ],
   "source": [
    "s.layout('Progressbar')"
   ]
  },
  {
   "cell_type": "code",
   "execution_count": 32,
   "id": "stone-coating",
   "metadata": {},
   "outputs": [
    {
     "data": {
      "text/plain": [
       "[('Button.button',\n",
       "  {'sticky': 'nswe',\n",
       "   'children': [('Button.focus',\n",
       "     {'sticky': 'nswe',\n",
       "      'children': [('Button.padding',\n",
       "        {'sticky': 'nswe',\n",
       "         'children': [('Button.label', {'sticky': 'nswe'})]})]})]})]"
      ]
     },
     "execution_count": 32,
     "metadata": {},
     "output_type": "execute_result"
    }
   ],
   "source": [
    "s.layout('TButton')"
   ]
  },
  {
   "cell_type": "code",
   "execution_count": 35,
   "id": "medium-indonesian",
   "metadata": {},
   "outputs": [
    {
     "ename": "ModuleNotFoundError",
     "evalue": "No module named 'ttk'",
     "output_type": "error",
     "traceback": [
      "\u001b[1;31m---------------------------------------------------------------------------\u001b[0m",
      "\u001b[1;31mModuleNotFoundError\u001b[0m                       Traceback (most recent call last)",
      "\u001b[1;32m<ipython-input-35-6ad936eb9d13>\u001b[0m in \u001b[0;36m<module>\u001b[1;34m\u001b[0m\n\u001b[0;32m      1\u001b[0m \u001b[1;32mimport\u001b[0m \u001b[0mTkinter\u001b[0m \u001b[1;32mas\u001b[0m \u001b[0mtk\u001b[0m\u001b[1;33m\u001b[0m\u001b[1;33m\u001b[0m\u001b[0m\n\u001b[1;32m----> 2\u001b[1;33m \u001b[1;32mimport\u001b[0m \u001b[0mttk\u001b[0m \u001b[1;32mas\u001b[0m \u001b[0mttk\u001b[0m\u001b[1;33m\u001b[0m\u001b[1;33m\u001b[0m\u001b[0m\n\u001b[0m\u001b[0;32m      3\u001b[0m \u001b[0mroot\u001b[0m \u001b[1;33m=\u001b[0m \u001b[0mtk\u001b[0m\u001b[1;33m.\u001b[0m\u001b[0mTk\u001b[0m\u001b[1;33m(\u001b[0m\u001b[1;33m)\u001b[0m\u001b[1;33m\u001b[0m\u001b[1;33m\u001b[0m\u001b[0m\n\u001b[0;32m      4\u001b[0m \u001b[0mframe\u001b[0m \u001b[1;33m=\u001b[0m \u001b[0mtk\u001b[0m\u001b[1;33m.\u001b[0m\u001b[0mFrame\u001b[0m\u001b[1;33m(\u001b[0m\u001b[0mroot\u001b[0m\u001b[1;33m)\u001b[0m\u001b[1;33m\u001b[0m\u001b[1;33m\u001b[0m\u001b[0m\n\u001b[0;32m      5\u001b[0m \u001b[0mframe\u001b[0m\u001b[1;33m.\u001b[0m\u001b[0mgrid\u001b[0m\u001b[1;33m(\u001b[0m\u001b[1;33m)\u001b[0m\u001b[1;33m\u001b[0m\u001b[1;33m\u001b[0m\u001b[0m\n",
      "\u001b[1;31mModuleNotFoundError\u001b[0m: No module named 'ttk'"
     ]
    }
   ],
   "source": [
    "import Tkinter as tk\n",
    "import ttk as ttk\n",
    "root = tk.Tk()\n",
    "frame = tk.Frame(root)\n",
    "frame.grid()\n",
    "s = ttk.Style()\n",
    "s.theme_use('clam')\n",
    "s.configure(\"red.Horizontal.TProgressbar\", foreground='red', background='red')\n",
    "ttk.Progressbar(frame, style=\"red.Horizontal.TProgressbar\", orient=\"horizontal\", length=600, mode=\"determinate\", maximum=4, value=1).grid(row=1, column=1)\n",
    "frame.pack()\n",
    "\n",
    "root.mainloop()"
   ]
  },
  {
   "cell_type": "code",
   "execution_count": 36,
   "id": "incomplete-photographer",
   "metadata": {},
   "outputs": [
    {
     "data": {
      "text/plain": [
       "('Horizontal.Scrollbar.leftarrow',\n",
       " 'Vertical.Scale.slider',\n",
       " 'Spinbox.uparrow',\n",
       " 'Horizontal.Scrollbar.thumb',\n",
       " 'Horizontal.Scrollbar.trough',\n",
       " 'Horizontal.Scrollbar.rightarrow',\n",
       " 'Vertical.Scrollbar.grip',\n",
       " 'Menubutton.dropdown',\n",
       " 'Horizontal.Progressbar.pbar',\n",
       " 'Vertical.Scrollbar.downarrow',\n",
       " 'Combobox.border',\n",
       " 'Spinbox.field',\n",
       " 'Spinbox.innerbg',\n",
       " 'Combobox.background',\n",
       " 'Combobox.rightdownarrow',\n",
       " 'Entry.background',\n",
       " 'Horizontal.Scale.slider',\n",
       " 'ComboboxPopdownFrame.background',\n",
       " 'Spinbox.background',\n",
       " 'Vertical.Scrollbar.thumb',\n",
       " 'Vertical.Scrollbar.uparrow',\n",
       " 'Vertical.Scrollbar.trough',\n",
       " 'Horizontal.Scrollbar.grip',\n",
       " 'Entry.field',\n",
       " 'Spinbox.downarrow',\n",
       " 'Vertical.Progressbar.pbar')"
      ]
     },
     "execution_count": 36,
     "metadata": {},
     "output_type": "execute_result"
    }
   ],
   "source": [
    "s.element_names()"
   ]
  },
  {
   "cell_type": "code",
   "execution_count": 37,
   "id": "emerging-wagon",
   "metadata": {},
   "outputs": [
    {
     "data": {
      "text/plain": [
       "()"
      ]
     },
     "execution_count": 37,
     "metadata": {},
     "output_type": "execute_result"
    }
   ],
   "source": [
    "s.element_options('Horizontal.Progressbar.pbar')"
   ]
  },
  {
   "cell_type": "code",
   "execution_count": 38,
   "id": "covered-hindu",
   "metadata": {},
   "outputs": [
    {
     "ename": "TclError",
     "evalue": "Layout Horizontal.Progressbar.pbar not found",
     "output_type": "error",
     "traceback": [
      "\u001b[1;31m---------------------------------------------------------------------------\u001b[0m",
      "\u001b[1;31mTclError\u001b[0m                                  Traceback (most recent call last)",
      "\u001b[1;32m<ipython-input-38-15dab9c369bc>\u001b[0m in \u001b[0;36m<module>\u001b[1;34m\u001b[0m\n\u001b[1;32m----> 1\u001b[1;33m \u001b[0ms\u001b[0m\u001b[1;33m.\u001b[0m\u001b[0mlayout\u001b[0m\u001b[1;33m(\u001b[0m\u001b[1;34m'Horizontal.Progressbar.pbar'\u001b[0m\u001b[1;33m)\u001b[0m\u001b[1;33m\u001b[0m\u001b[1;33m\u001b[0m\u001b[0m\n\u001b[0m",
      "\u001b[1;32mc:\\python\\python38\\lib\\tkinter\\ttk.py\u001b[0m in \u001b[0;36mlayout\u001b[1;34m(self, style, layoutspec)\u001b[0m\n\u001b[0;32m    457\u001b[0m \u001b[1;33m\u001b[0m\u001b[0m\n\u001b[0;32m    458\u001b[0m         return _list_from_layouttuple(self.tk,\n\u001b[1;32m--> 459\u001b[1;33m             self.tk.call(self._name, \"layout\", style, lspec))\n\u001b[0m\u001b[0;32m    460\u001b[0m \u001b[1;33m\u001b[0m\u001b[0m\n\u001b[0;32m    461\u001b[0m \u001b[1;33m\u001b[0m\u001b[0m\n",
      "\u001b[1;31mTclError\u001b[0m: Layout Horizontal.Progressbar.pbar not found"
     ]
    }
   ],
   "source": []
  },
  {
   "cell_type": "code",
   "execution_count": 41,
   "id": "early-focus",
   "metadata": {},
   "outputs": [
    {
     "name": "stdout",
     "output_type": "stream",
     "text": [
      "Help on method element_create in module tkinter.ttk:\n",
      "\n",
      "element_create(elementname, etype, *args, **kw) method of tkinter.ttk.Style instance\n",
      "    Create a new element in the current theme of given etype.\n",
      "\n"
     ]
    }
   ],
   "source": [
    "help(s.element_create)"
   ]
  },
  {
   "cell_type": "code",
   "execution_count": 42,
   "id": "subjective-procurement",
   "metadata": {},
   "outputs": [
    {
     "ename": "TypeError",
     "evalue": "configure() argument after * must be an iterable, not NoneType",
     "output_type": "error",
     "traceback": [
      "\u001b[1;31m---------------------------------------------------------------------------\u001b[0m",
      "\u001b[1;31mTypeError\u001b[0m                                 Traceback (most recent call last)",
      "\u001b[1;32m<ipython-input-42-f4850e5f064a>\u001b[0m in \u001b[0;36m<module>\u001b[1;34m\u001b[0m\n\u001b[0;32m     31\u001b[0m \u001b[1;33m\u001b[0m\u001b[0m\n\u001b[0;32m     32\u001b[0m \u001b[1;32mif\u001b[0m \u001b[0m__name__\u001b[0m \u001b[1;33m==\u001b[0m \u001b[1;34m'__main__'\u001b[0m\u001b[1;33m:\u001b[0m\u001b[1;33m\u001b[0m\u001b[1;33m\u001b[0m\u001b[0m\n\u001b[1;32m---> 33\u001b[1;33m     \u001b[0mmain\u001b[0m\u001b[1;33m(\u001b[0m\u001b[1;33m)\u001b[0m\u001b[1;33m\u001b[0m\u001b[1;33m\u001b[0m\u001b[0m\n\u001b[0m",
      "\u001b[1;32m<ipython-input-42-f4850e5f064a>\u001b[0m in \u001b[0;36mmain\u001b[1;34m()\u001b[0m\n\u001b[0;32m     20\u001b[0m         'sticky': 'we'})])\n\u001b[0;32m     21\u001b[0m     \u001b[1;31m# Copy original style configuration and add our new custom configuration option.\u001b[0m\u001b[1;33m\u001b[0m\u001b[1;33m\u001b[0m\u001b[1;33m\u001b[0m\u001b[0m\n\u001b[1;32m---> 22\u001b[1;33m     \u001b[0mstyle\u001b[0m\u001b[1;33m.\u001b[0m\u001b[0mconfigure\u001b[0m\u001b[1;33m(\u001b[0m\u001b[1;34m\"My.Horizontal.TScrollbar\"\u001b[0m\u001b[1;33m,\u001b[0m \u001b[1;33m*\u001b[0m\u001b[0mstyle\u001b[0m\u001b[1;33m.\u001b[0m\u001b[0mconfigure\u001b[0m\u001b[1;33m(\u001b[0m\u001b[1;34m\"Horizontal.TScrollbar\"\u001b[0m\u001b[1;33m)\u001b[0m\u001b[1;33m)\u001b[0m\u001b[1;33m\u001b[0m\u001b[1;33m\u001b[0m\u001b[0m\n\u001b[0m\u001b[0;32m     23\u001b[0m     \u001b[0mstyle\u001b[0m\u001b[1;33m.\u001b[0m\u001b[0mconfigure\u001b[0m\u001b[1;33m(\u001b[0m\u001b[1;34m\"My.Horizontal.TScrollbar\"\u001b[0m\u001b[1;33m,\u001b[0m \u001b[0mtroughcolor\u001b[0m\u001b[1;33m=\u001b[0m\u001b[1;34m\"red\"\u001b[0m\u001b[1;33m)\u001b[0m\u001b[1;33m\u001b[0m\u001b[1;33m\u001b[0m\u001b[0m\n\u001b[0;32m     24\u001b[0m \u001b[1;33m\u001b[0m\u001b[0m\n",
      "\u001b[1;31mTypeError\u001b[0m: configure() argument after * must be an iterable, not NoneType"
     ]
    }
   ],
   "source": [
    "from tkinter import *\n",
    "from tkinter.ttk import *\n",
    "\n",
    "def main():\n",
    "    app = Tk()\n",
    "    style = Style()\n",
    "\n",
    "    # import the 'trough' element from the 'default' engine.\n",
    "    style.element_create(\"My.Horizontal.Scrollbar.trough\", \"from\", \"default\")\n",
    "\n",
    "    # Redefine the horizontal scrollbar layout to use the custom trough.\n",
    "    # This one is appropriate for the 'vista' theme.\n",
    "    style.layout(\"My.Horizontal.TScrollbar\",\n",
    "        [('My.Horizontal.Scrollbar.trough', {'children':\n",
    "            [('Horizontal.Scrollbar.leftarrow', {'side': 'left', 'sticky': ''}),\n",
    "             ('Horizontal.Scrollbar.rightarrow', {'side': 'right', 'sticky': ''}),\n",
    "             ('Horizontal.Scrollbar.thumb', {'unit': '1', 'children':\n",
    "                 [('Horizontal.Scrollbar.grip', {'sticky': ''})],\n",
    "            'sticky': 'nswe'})],\n",
    "        'sticky': 'we'})])\n",
    "    # Copy original style configuration and add our new custom configuration option.\n",
    "    style.configure(\"My.Horizontal.TScrollbar\", *style.configure(\"Horizontal.TScrollbar\"))\n",
    "    style.configure(\"My.Horizontal.TScrollbar\", troughcolor=\"red\")\n",
    "\n",
    "    # Create and show a widget using the custom style\n",
    "    hs = Scrollbar(app, orient=\"horizontal\", style=\"My.Horizontal.TScrollbar\")\n",
    "    hs.place(x=5, y=5, width=150)\n",
    "    hs.set(0.2,0.3)\n",
    "\n",
    "    app.mainloop()\n",
    "\n",
    "if __name__ == '__main__':\n",
    "    main()"
   ]
  },
  {
   "cell_type": "code",
   "execution_count": 44,
   "id": "altered-technician",
   "metadata": {},
   "outputs": [
    {
     "name": "stdout",
     "output_type": "stream",
     "text": [
      "None\n"
     ]
    }
   ],
   "source": [
    "from tkinter import *\n",
    "from tkinter.ttk import *\n",
    "\n",
    "\n",
    "app = Tk()\n",
    "style = Style()\n",
    "print(style.configure(\"Horizontal.TScrollbar\"))"
   ]
  },
  {
   "cell_type": "code",
   "execution_count": 45,
   "id": "robust-rebate",
   "metadata": {},
   "outputs": [
    {
     "data": {
      "text/plain": [
       "('winnative', 'clam', 'alt', 'default', 'classic', 'vista', 'xpnative')"
      ]
     },
     "execution_count": 45,
     "metadata": {},
     "output_type": "execute_result"
    }
   ],
   "source": [
    "style.theme_names()"
   ]
  },
  {
   "cell_type": "code",
   "execution_count": 48,
   "id": "assumed-columbus",
   "metadata": {},
   "outputs": [
    {
     "name": "stdout",
     "output_type": "stream",
     "text": [
      "('winnative', 'clam', 'alt', 'default', 'shadow', 'classic', 'vista', 'xpnative')\n"
     ]
    },
    {
     "name": "stderr",
     "output_type": "stream",
     "text": [
      "Exception in Tkinter callback\n",
      "Traceback (most recent call last):\n",
      "  File \"c:\\python\\python38\\lib\\tkinter\\__init__.py\", line 1883, in __call__\n",
      "    return self.func(*args)\n",
      "  File \"<ipython-input-48-d9b5c3b6254b>\", line 11, in new_window\n",
      "    pop_up = Top(self.master)\n",
      "  File \"<ipython-input-48-d9b5c3b6254b>\", line 19, in __init__\n",
      "    self.s.theme_create('shadow', parent = 'default')\n",
      "  File \"c:\\python\\python38\\lib\\tkinter\\ttk.py\", line 491, in theme_create\n",
      "    self.tk.call(self._name, \"theme\", \"create\", themename,\n",
      "_tkinter.TclError: Theme shadow already exists\n",
      "Exception in Tkinter callback\n",
      "Traceback (most recent call last):\n",
      "  File \"c:\\python\\python38\\lib\\tkinter\\__init__.py\", line 1883, in __call__\n",
      "    return self.func(*args)\n",
      "  File \"<ipython-input-48-d9b5c3b6254b>\", line 11, in new_window\n",
      "    pop_up = Top(self.master)\n",
      "  File \"<ipython-input-48-d9b5c3b6254b>\", line 19, in __init__\n",
      "    self.s.theme_create('shadow', parent = 'default')\n",
      "  File \"c:\\python\\python38\\lib\\tkinter\\ttk.py\", line 491, in theme_create\n",
      "    self.tk.call(self._name, \"theme\", \"create\", themename,\n",
      "_tkinter.TclError: Theme shadow already exists\n"
     ]
    }
   ],
   "source": [
    "from tkinter import *\n",
    "from tkinter import ttk\n",
    "\n",
    "class Main:\n",
    "    def __init__(self, master):\n",
    "        self.master = master\n",
    "        self.main_button = ttk.Button(self.master, text = 'New', command = self.new_window)\n",
    "        self.main_button.grid()\n",
    "\n",
    "    def new_window(self):\n",
    "        pop_up = Top(self.master)\n",
    "\n",
    "class Top:\n",
    "    def __init__(self, master):\n",
    "        pop_up = self.pop_up = Toplevel(master)\n",
    "        self.pop_up_frame = ttk.Frame(pop_up, height = 100, width = 100)\n",
    "        self.pop_up_frame.grid(sticky = E+W+S+N)\n",
    "        self.s = ttk.Style()\n",
    "        self.s.theme_create('shadow', parent = 'default')\n",
    "\n",
    "        print(self.s.theme_names())\n",
    "\n",
    "        self.c1_button = ttk.Button(pop_up, text = 'Default', command = self.get_default)\n",
    "        self.c2_button = ttk.Button(pop_up, text = 'Vista', command = self.get_shadow)\n",
    "\n",
    "        self.c1_button.grid()\n",
    "        self.c2_button.grid()\n",
    "\n",
    "    def get_default(self):\n",
    "        self.s.theme_use('default')\n",
    "\n",
    "    def get_shadow(self):\n",
    "        self.s.theme_use('vista')\n",
    "        self.s.configure('TButton', foreground = 'white', background = 'blue')\n",
    "        self.s.configure('TFrame', background = 'black')\n",
    "\n",
    "\n",
    "\n",
    "root = Tk()\n",
    "root.geometry('400x400')\n",
    "\n",
    "app = Main(root)\n",
    "\n",
    "root.mainloop()"
   ]
  },
  {
   "cell_type": "code",
   "execution_count": 1,
   "id": "affected-narrative",
   "metadata": {},
   "outputs": [],
   "source": [
    "import time"
   ]
  },
  {
   "cell_type": "code",
   "execution_count": 2,
   "id": "tutorial-soldier",
   "metadata": {},
   "outputs": [
    {
     "data": {
      "text/plain": [
       "'18-May-2021'"
      ]
     },
     "execution_count": 2,
     "metadata": {},
     "output_type": "execute_result"
    }
   ],
   "source": [
    "time.strftime(\"%d-%b-%Y\")"
   ]
  },
  {
   "cell_type": "code",
   "execution_count": 4,
   "id": "divided-deficit",
   "metadata": {},
   "outputs": [
    {
     "data": {
      "text/plain": [
       "'09:28:21 PM'"
      ]
     },
     "execution_count": 4,
     "metadata": {},
     "output_type": "execute_result"
    }
   ],
   "source": [
    "time.strftime(\"%I:%M:%S %p\")"
   ]
  },
  {
   "cell_type": "code",
   "execution_count": 12,
   "id": "piano-economy",
   "metadata": {},
   "outputs": [
    {
     "name": "stdout",
     "output_type": "stream",
     "text": [
      "\n"
     ]
    }
   ],
   "source": [
    "import tkinter as tk\n",
    "from tkinter import ttk\n",
    "\n",
    "root = tk.Tk()\n",
    "\n",
    "mygreen = \"#d2ffd2\"\n",
    "white = \"white\"\n",
    "\n",
    "style = ttk.Style()\n",
    "\n",
    "style.theme_create( \"yummy\", parent=\"alt\", settings={\n",
    "        \"TNotebook\": {\"configure\": {\"tabmargins\": [2, 5, 2, 0] } },\n",
    "        \n",
    "    \"TNotebook.Tab\": {\n",
    "            \"configure\": {\"padding\": [5, 10], \"background\": mygreen , 'font':('sarif',10,'bold') , 'foreground':'blue'},\n",
    "            \"map\":       {\"background\": [(\"selected\", white)],\n",
    "                          \"expand\": [(\"selected\", [2, 1, 1, 0])] } } } )\n",
    "\n",
    "style.theme_use(\"yummy\")\n",
    "\n",
    "note = ttk.Notebook(root)\n",
    "\n",
    "print(note['style'])\n",
    "f1 = ttk.Frame(note, width=300, height=200)\n",
    "note.add(f1, text = 'First')\n",
    "f2 = ttk.Frame(note, width=300, height=200)\n",
    "note.add(f2, text = 'Second')\n",
    "note.pack(expand=1, fill='both', padx=5, pady=5)\n",
    "\n",
    "tk.Button(root, text='yummy!').pack(fill='x')\n",
    "\n",
    "root.mainloop()"
   ]
  },
  {
   "cell_type": "code",
   "execution_count": 13,
   "id": "dental-package",
   "metadata": {},
   "outputs": [
    {
     "name": "stdout",
     "output_type": "stream",
     "text": [
      "hello\n",
      "Mini-event loop finished!\n"
     ]
    }
   ],
   "source": [
    "from tkinter import *\n",
    "\n",
    "def on_win_request(parent):\n",
    "    dialog = Toplevel()\n",
    "    parent.wait_window(dialog)\n",
    "    # executed only when \"dialog\" is destroyed\n",
    "    print(\"Mini-event loop finished!\")\n",
    "\n",
    "r = Tk()\n",
    "b = Button(r, text='New Window', command=lambda: on_win_request(r))\n",
    "b.pack()\n",
    "b2 = Button(r, text='Hello!', command=lambda: print(\"hello\"))\n",
    "b2.pack()\n",
    "r.mainloop()"
   ]
  },
  {
   "cell_type": "code",
   "execution_count": 14,
   "id": "meaningful-metropolitan",
   "metadata": {},
   "outputs": [],
   "source": [
    "Name = 'TM-TYT.Track Record.Add Track Record'"
   ]
  },
  {
   "cell_type": "code",
   "execution_count": 15,
   "id": "extra-chancellor",
   "metadata": {},
   "outputs": [
    {
     "data": {
      "text/plain": [
       "['TM-TYT', 'Track Record', 'Add Track Record']"
      ]
     },
     "execution_count": 15,
     "metadata": {},
     "output_type": "execute_result"
    }
   ],
   "source": [
    "a = Name.split('.')\n",
    "a"
   ]
  },
  {
   "cell_type": "code",
   "execution_count": 49,
   "id": "abandoned-bibliography",
   "metadata": {},
   "outputs": [],
   "source": [
    "dic = {'TM-TYT':\n",
    "       {'Topic':{\"Track Record\":\n",
    "                 {'Topic':{'Add Track Record':None}\n",
    "                 }}\n",
    "                }\n",
    "       }\n",
    "      "
   ]
  },
  {
   "cell_type": "code",
   "execution_count": 50,
   "id": "marked-intention",
   "metadata": {},
   "outputs": [
    {
     "data": {
      "text/plain": [
       "{'TM-TYT': {'Topic': {'Track Record': {'Topic': {'Add Track Record': None}}}}}"
      ]
     },
     "execution_count": 50,
     "metadata": {},
     "output_type": "execute_result"
    }
   ],
   "source": [
    "dic"
   ]
  },
  {
   "cell_type": "code",
   "execution_count": 51,
   "id": "acting-swift",
   "metadata": {},
   "outputs": [
    {
     "name": "stdout",
     "output_type": "stream",
     "text": [
      "{'Track Record': {'Topic': {'Add Track Record': None}}}\n",
      "{'Add Track Record': None}\n"
     ]
    }
   ],
   "source": [
    "for i, topic in enumerate(a):\n",
    "    if list(dic.values())[0] != None:\n",
    "        dic = dic[topic][\"Topic\"]\n",
    "        print(dic)\n",
    "    \n",
    "        "
   ]
  },
  {
   "cell_type": "code",
   "execution_count": 7,
   "id": "frequent-magnet",
   "metadata": {},
   "outputs": [],
   "source": [
    "root = r\"C:\\WorkData\\Programming\\Python\\MY PROJECTS\\STUDY MANAGEMENT - TYT\"\n",
    "import os\n",
    "import json\n",
    "os.chdir(root)\n",
    "os.getcwd()\n",
    "import Apps_func as app\n",
    "import tkinter as tk\n",
    "import time\n",
    "ttime = app.Time()\n",
    "from IPython import display\n",
    "\n",
    "save = app.Tracks_Cards()\n",
    "Root = {\n",
    "  \"Root\": {\n",
    "    \"TM-TYT\": {\n",
    "      \"Type\": \"Project\",\n",
    "      \"Name\": \"TM-TYT\",\n",
    "      \"Date\": \"25-May-2021\",\n",
    "      \"Time\": \"10:23:34 AM\",\n",
    "      \"Topic\": {\"Card1\":\n",
    "                    {\"Type\": \"Subcard\",\n",
    "                      \"Name\": \"Card1\",\n",
    "                      \"Date\": \"25-May-2021\",\n",
    "                      \"Time\": \"10:23:34 AM\",\n",
    "                      \"Topic\": {\"Card1_1\": { \"Type\": \"Subcard\",\n",
    "                                              \"Name\": \"Card1_1\",\n",
    "                                              \"Date\": \"25-May-2021\",\n",
    "                                              \"Time\": \"10:23:34 AM\",\n",
    "                                              \"Topic\": {},\n",
    "                                              \"Target Hour\": \"001:00:00\",\n",
    "                                              \"EndDate\": \"1-January-2021\",\n",
    "                                              \"Progress\": 0,\n",
    "                                              \"Parent\": \"Root.TM-TYT.Card1\",\n",
    "                                              \"FullPath\": \"Root.TM-TYT.Card1.Card1_1\",\n",
    "                                              \"Childs\": 0}},\n",
    "                     \n",
    "                      \"Target Hour\": \"001:00:00\",\n",
    "                      \"EndDate\": \"1-January-2021\",\n",
    "                      \"Progress\": 0,\n",
    "                      \"Parent\": \"Root.TM-TYT\",\n",
    "                      \"FullPath\": \"Root.TM-TYT.Card1\",\n",
    "                      \"Childs\": 0},\n",
    "                \n",
    "                \"Card2\":\n",
    "                    {\"Type\": \"Subcard\",\n",
    "                      \"Name\": \"Card2\",\n",
    "                      \"Date\": \"25-May-2021\",\n",
    "                      \"Time\": \"10:23:34 AM\",\n",
    "                      \"Topic\": {},\n",
    "                      \"Target Hour\": \"001:00:00\",\n",
    "                      \"EndDate\": \"1-January-2021\",\n",
    "                      \"Progress\": 0,\n",
    "                      \"Parent\": \"Root.TM-TYT\",\n",
    "                      \"FullPath\": \"Root.TM-TYT.Card1\",\n",
    "                      \"Childs\": 0}},\n",
    "      \"Target Hour\": \"001:00:00\",\n",
    "      \"EndDate\": \"1-January-2021\",\n",
    "      \"Progress\": 0,\n",
    "      \"Parent\": \"Root\",\n",
    "      \"FullPath\": \"Root.TM-TYT\",\n",
    "      \"Childs\": 0\n",
    "    }\n",
    "  }\n",
    "}\n",
    "\n",
    "fullName = 'Root.TM-TYT.Card1'\n",
    "Parent = fullName.split('.')\n",
    "data = {\n",
    "    \"Card1_2\": {\n",
    "      \"Type\": \"Project\",\n",
    "      \"Name\": \"Card1_2\",\n",
    "      \"Date\": \"25-May-2021\",\n",
    "      \"Time\": \"10:23:34 AM\",\n",
    "      \"Topic\": {},\n",
    "      \"Target Hour\": \"001:00:00\",\n",
    "      \"EndDate\": \"1-January-2021\",\n",
    "      \"Progress\": 0,\n",
    "      \"Parent\": \"Root.TM-TYT.Card1\",\n",
    "      \"FullPath\": \"Root.TM-TYT.Card1.Card1_2\",\n",
    "      \"Childs\": 0\n",
    "    }\n",
    "  }"
   ]
  },
  {
   "cell_type": "code",
   "execution_count": 65,
   "id": "fresh-consultancy",
   "metadata": {},
   "outputs": [],
   "source": [
    "cards = save.Add_SubCard(Parent=fullName,Child=None,Data=data,Database=Root)\n",
    "card = json.dumps(cards, indent=4)\n",
    "#print(card)"
   ]
  },
  {
   "cell_type": "code",
   "execution_count": 66,
   "id": "molecular-looking",
   "metadata": {},
   "outputs": [],
   "source": [
    "data = {\n",
    "    \"Card2-1\": {\n",
    "      \"Name\": \"Card2-1\",\n",
    "      \"Date\": \"25-May-2021\",\n",
    "      \"Time\": \"10:23:34 AM\",\n",
    "      \"Topic\": {},\n",
    "      \"Target Hour\": \"001:00:00\",\n",
    "      \"EndDate\": \"1-January-2021\",\n",
    "      \"Progress\": 0,\n",
    "      \"Parent\": \"Root.TM-TYT.Card2\",\n",
    "      \"FullPath\": \"Root.TM-TYT.Card2.Card2-1\",\n",
    "      \"Childs\": 0\n",
    "    }\n",
    "  }\n",
    "\n",
    "fullName = \"Root.TM-TYT.Card2\"\n",
    "cards = save.Add_SubCard(Parent=fullName,Child=None,Data=data,Database=cards)\n",
    "card = json.dumps(cards, indent=4)\n",
    "#print(card)"
   ]
  },
  {
   "cell_type": "code",
   "execution_count": 2,
   "id": "painted-marker",
   "metadata": {},
   "outputs": [],
   "source": [
    "# Access every element in a dict\n",
    "dic = {\"Root\":{\"TM-TYT\":{\"Name\":\"TM-TYT\",\n",
    "                \"Topic\":{\"Card1\":{\"Name\":\"Card1\",\n",
    "                                 \"Topic\":{\"Card1_1\":{\"Name\":\"Card1_1\",\n",
    "                                                     \"Topic\":{}},\n",
    "                                         \"Card1_2\":{\"Name\":\"Card2_1\",\n",
    "                                                     \"Topic\":{}}}},\n",
    "                        \"Card2\":{\"Name\":\"Card2\",\n",
    "                                 \"Topic\":{\"Card2_1\":{\"Name\":\"Card2_1\",\n",
    "                                                     \"Topic\":{}},\n",
    "                                         \"Card2_2\":{\"Name\":\"Card2_2\",\n",
    "                                                     \"Topic\":{}}}},\n",
    "                        \"Card3\":{\"Name\":\"Card3\",\n",
    "                                 \"Topic\":{\"Card3_1\":{\"Name\":\"Card3_1\",\n",
    "                                                     \"Topic\":{}},\n",
    "                                         \"Card3_2\":{\"Name\":\"Card3_2\",\n",
    "                                                     \"Topic\":{}}}}}},\n",
    "      \"TM-TYT2\":{\"Name\":\"TM-TYT2\",\n",
    "                \"Topic\":{\"Card1\":{\"Name\":\"Card1\",\n",
    "                                 \"Topic\":{\"Card1_1\":{\"Name\":\"Card1_1\",\n",
    "                                                     \"Topic\":{}},\n",
    "                                         \"Card1_2\":{\"Name\":\"Card2_1\",\n",
    "                                                     \"Topic\":{}}}},\n",
    "                        \"Card2\":{\"Name\":\"Card2\",\n",
    "                                 \"Topic\":{\"Card2_1\":{\"Name\":\"Card2_1\",\n",
    "                                                     \"Topic\":{}},\n",
    "                                         \"Card2_2\":{\"Name\":\"Card2_2\",\n",
    "                                                     \"Topic\":{}}}},\n",
    "                        \"Card3\":{\"Name\":\"Card3\",\n",
    "                                 \"Topic\":{\"Card3_1\":{\"Name\":\"Card3_1\",\n",
    "                                                     \"Topic\":{}},\n",
    "                                         \"Card3_2\":{\"Name\":\"Card3_2\",\n",
    "                                                     \"Topic\":{}}}}}}}}"
   ]
  },
  {
   "cell_type": "code",
   "execution_count": 17,
   "id": "destroyed-department",
   "metadata": {},
   "outputs": [],
   "source": [
    "jdic = json.dumps(dic,indent=2)\n",
    "#print(jdic)"
   ]
  },
  {
   "cell_type": "code",
   "execution_count": 59,
   "id": "sustained-disability",
   "metadata": {},
   "outputs": [],
   "source": [
    "from collections.abc import Mapping\n",
    "def access_keys(dic):\n",
    "    print(\"Checking keys: \",list(dic.keys()))\n",
    "    \n",
    "    if len(list(dic.keys()))==0:\n",
    "        #print(\"No key found:\")\n",
    "        return \n",
    "    \n",
    "    for key , value in dic.items():\n",
    "        \n",
    "        if isinstance(dic.get(key, None), Mapping):\n",
    "            #print(f\"{key}:{value}\")\n",
    "            new_dic = json.dumps(dic.get(key), indent=2)\n",
    "            print(key,new_dic)\n",
    "            print(f\"{'_'*20}\\n{'_'*20}\\n\")\n",
    "            yield key\n",
    "            yield from access_keys(dic.get(key, None))\n",
    "#             print(f\"key:{key}\")\n",
    "#             print(f\"value:{value}\")\n",
    "        \n",
    "        else:\n",
    "            print(\"None dic got\",f\"{key}:{dic[key]}\")\n",
    "        \n",
    "        #print(dic.get(key))\n",
    "    "
   ]
  },
  {
   "cell_type": "code",
   "execution_count": 61,
   "id": "comparative-operation",
   "metadata": {},
   "outputs": [],
   "source": [
    "from collections.abc import Mapping\n",
    "def access_keys(dic):\n",
    "    print(\"Checking keys: \",list(dic.keys()))\n",
    "    \n",
    "#     if len(list(dic.keys()))==0:\n",
    "#         print(\"No key found:\")\n",
    "#         return \n",
    "    \n",
    "    for key , value in dic.items():\n",
    "        \n",
    "        if isinstance(dic.get(key, None), Mapping):\n",
    "            #print(f\"{key}:{value}\")\n",
    "            new_dic = json.dumps(dic.get(key), indent=2)\n",
    "            print(key,new_dic)\n",
    "            print(f\"{'_'*20}\\n{'_'*20}\\n\")\n",
    "            access_keys(dic.get(key, None))\n",
    "        \n",
    "        else:\n",
    "            print(\"None dic got\",f\"{key}:{dic[key]}\")\n",
    "        \n",
    "        #print(dic.get(key))"
   ]
  },
  {
   "cell_type": "code",
   "execution_count": 63,
   "id": "black-fisher",
   "metadata": {},
   "outputs": [],
   "source": [
    "#access_keys(dic)"
   ]
  },
  {
   "cell_type": "code",
   "execution_count": 67,
   "id": "growing-buffalo",
   "metadata": {},
   "outputs": [],
   "source": [
    "def recursive_items(dict_name):\n",
    "    \n",
    "    for key, value in dict_name.items():\n",
    "        if type(value) is dict:\n",
    "            #yield (key)\n",
    "            yield from recursive_items(value)\n",
    "            \n",
    "        else:\n",
    "            yield (key, value)\n",
    "\n",
    "# print the keys \n",
    "# for item in recursive_items(dic):\n",
    "#     print(item)"
   ]
  },
  {
   "cell_type": "code",
   "execution_count": 7,
   "id": "victorian-relaxation",
   "metadata": {},
   "outputs": [],
   "source": [
    "Root = {\n",
    "  \"Root\": {\n",
    "    \"TM-TYT\": {\n",
    "      \"Type\": \"Project\",\n",
    "      \"Name\": \"TM-TYT\",\n",
    "      \"Date\": \"25-May-2021\",\n",
    "      \"Time\": \"10:23:34 AM\",\n",
    "      \"Topic\": {\"Card1\":\n",
    "                    {\"Type\": \"Subcard\",\n",
    "                      \"Name\": \"Card1\",\n",
    "                      \"Date\": \"25-May-2021\",\n",
    "                      \"Time\": \"10:23:34 AM\",\n",
    "                      \"Topic\": {\"Card1_1\": { \"Type\": \"Subcard\",\n",
    "                                              \"Name\": \"Card1_1\",\n",
    "                                              \"Date\": \"25-May-2021\",\n",
    "                                              \"Time\": \"10:23:34 AM\",\n",
    "                                              \"Topic\": {\"Card1_1_1\": { \"Type\": \"Subcard\",\n",
    "                                                                      \"Name\": \"Card1_1_1\",\n",
    "                                                                      \"Date\": \"25-May-2021\",\n",
    "                                                                      \"Time\": \"10:23:34 AM\",\n",
    "                                                                      \"Topic\": {},\n",
    "                                                                      \"Target Hour\": \"001:00:00\",\n",
    "                                                                      \"EndDate\": \"1-January-2021\",\n",
    "                                                                      \"Progress\": 0,\n",
    "                                                                      \"Parent\": \"Root.TM-TYT.Card1.Card1_1\",\n",
    "                                                                      \"FullPath\": \"Root.TM-TYT.Card1.Card1_1.Card1_1_1\",\n",
    "                                                                      \"Childs\": 0}},\n",
    "                                              \"Target Hour\": \"001:00:00\",\n",
    "                                              \"EndDate\": \"1-January-2021\",\n",
    "                                              \"Progress\": 0,\n",
    "                                              \"Parent\": \"Root.TM-TYT.Card1\",\n",
    "                                              \"FullPath\": \"Root.TM-TYT.Card1.Card1_1\",\n",
    "                                              \"Childs\": 0}},\n",
    "                     \n",
    "                      \"Target Hour\": \"001:00:00\",\n",
    "                      \"EndDate\": \"1-January-2021\",\n",
    "                      \"Progress\": 0,\n",
    "                      \"Parent\": \"Root.TM-TYT\",\n",
    "                      \"FullPath\": \"Root.TM-TYT.Card1\",\n",
    "                      \"Childs\": 0},\n",
    "                \n",
    "                \"Card2\":\n",
    "                    {\"Type\": \"Subcard\",\n",
    "                      \"Name\": \"Card2\",\n",
    "                      \"Date\": \"25-May-2021\",\n",
    "                      \"Time\": \"10:23:34 AM\",\n",
    "                      \"Topic\": {\"Card2_1\": { \"Type\": \"Subcard\",\n",
    "                                              \"Name\": \"Card2_1\",\n",
    "                                              \"Date\": \"25-May-2021\",\n",
    "                                              \"Time\": \"10:23:34 AM\",\n",
    "                                              \"Topic\": {},\n",
    "                                              \"Target Hour\": \"001:00:00\",\n",
    "                                              \"EndDate\": \"1-January-2021\",\n",
    "                                              \"Progress\": 0,\n",
    "                                              \"Parent\": \"Root.TM-TYT.Card2\",\n",
    "                                              \"FullPath\": \"Root.TM-TYT.Card2.Card2_1\",\n",
    "                                              \"Childs\": 0},\n",
    "                               \"Card2_2\": { \"Type\": \"Subcard\",\n",
    "                                              \"Name\": \"Card2_2\",\n",
    "                                              \"Date\": \"25-May-2021\",\n",
    "                                              \"Time\": \"10:23:34 AM\",\n",
    "                                              \"Topic\": {},\n",
    "                                              \"Target Hour\": \"001:00:00\",\n",
    "                                              \"EndDate\": \"1-January-2021\",\n",
    "                                              \"Progress\": 0,\n",
    "                                              \"Parent\": \"Root.TM-TYT.Card2\",\n",
    "                                              \"FullPath\": \"Root.TM-TYT.Card2.Card2_2\",\n",
    "                                              \"Childs\": 0},\n",
    "                               \"Card2_3\": { \"Type\": \"Subcard\",\n",
    "                                              \"Name\": \"Card2_3\",\n",
    "                                              \"Date\": \"25-May-2021\",\n",
    "                                              \"Time\": \"10:23:34 AM\",\n",
    "                                              \"Topic\": {\"Card2_3_1\": { \"Type\": \"Subcard\",\n",
    "                                                                      \"Name\": \"Card2_3_1\",\n",
    "                                                                      \"Date\": \"25-May-2021\",\n",
    "                                                                      \"Time\": \"10:23:34 AM\",\n",
    "                                                                      \"Topic\": {},\n",
    "                                                                      \"Target Hour\": \"001:00:00\",\n",
    "                                                                      \"EndDate\": \"1-January-2021\",\n",
    "                                                                      \"Progress\": 0,\n",
    "                                                                      \"Parent\": \"Root.TM-TYT.Card2.Card2_3\",\n",
    "                                                                      \"FullPath\": \"Root.TM-TYT.Card2.Card2_3.Card2_3_1\",\n",
    "                                                                      \"Childs\": 0},\n",
    "                                                       \"Card2_3_2\": { \"Type\": \"Subcard\",\n",
    "                                                                      \"Name\": \"Card2_3_2\",\n",
    "                                                                      \"Date\": \"25-May-2021\",\n",
    "                                                                      \"Time\": \"10:23:34 AM\",\n",
    "                                                                      \"Topic\": {},\n",
    "                                                                      \"Target Hour\": \"001:00:00\",\n",
    "                                                                      \"EndDate\": \"1-January-2021\",\n",
    "                                                                      \"Progress\": 0,\n",
    "                                                                      \"Parent\": \"Root.TM-TYT.Card2.Card2_3\",\n",
    "                                                                      \"FullPath\": \"Root.TM-TYT.Card2.Card2_3.Card2_3_2\",\n",
    "                                                                      \"Childs\": 0}},\n",
    "                                              \"Target Hour\": \"001:00:00\",\n",
    "                                              \"EndDate\": \"1-January-2021\",\n",
    "                                              \"Progress\": 0,\n",
    "                                              \"Parent\": \"Root.TM-TYT.Card2\",\n",
    "                                              \"FullPath\": \"Root.TM-TYT.Card2.Card2_3\",\n",
    "                                              \"Childs\": 0}},\n",
    "                      \"Target Hour\": \"001:00:00\",\n",
    "                      \"EndDate\": \"1-January-2021\",\n",
    "                      \"Progress\": 0,\n",
    "                      \"Parent\": \"Root.TM-TYT\",\n",
    "                      \"FullPath\": \"Root.TM-TYT.Card2\",\n",
    "                      \"Childs\": 0}},\n",
    "      \"Target Hour\": \"001:00:00\",\n",
    "      \"EndDate\": \"1-January-2021\",\n",
    "      \"Progress\": 0,\n",
    "      \"Parent\": \"Root\",\n",
    "      \"FullPath\": \"Root.TM-TYT\",\n",
    "      \"Childs\": 0\n",
    "    }\n",
    "  }\n",
    "}\n",
    "\n",
    "\n",
    "root = r\"C:\\WorkData\\Programming\\Python\\MY PROJECTS\\STUDY MANAGEMENT - TYT\"\n",
    "import os\n",
    "import json\n",
    "os.chdir(root)\n",
    "os.getcwd()\n",
    "import Apps_func as app\n",
    "from Widgets import Widgets as wid\n",
    "import tkinter as tk\n",
    "import time\n",
    "ttime = app.Time()\n",
    "from IPython import display\n",
    "\n",
    "get = app.Tracks_Cards()\n",
    "\n"
   ]
  },
  {
   "cell_type": "code",
   "execution_count": 14,
   "id": "cloudy-creek",
   "metadata": {},
   "outputs": [
    {
     "name": "stdout",
     "output_type": "stream",
     "text": [
      ".\n",
      "Root card parent name: Root.TM-TYT\n",
      "Inside the Create Track Record.\n",
      "TM-TYT Root frame:  .!frame.!frame.!frame2\n",
      "____________________________________________________________________________________________________\n",
      "____________________________________________________________________________________________________\n",
      "child Card info:\n",
      "Child Card Name:  Card1\n",
      "child Card parent: Root.TM-TYT\n",
      "Child Card frame: .!frame.!frame.!frame2\n",
      "Child Card own frame: Root.TM-TYT.Card1\n",
      "\n",
      "____________________________________________________________________________________________________\n",
      "____________________________________________________________________________________________________\n",
      "child Card info:\n",
      "Child Card Name:  Card1_1\n",
      "child Card parent: Root.TM-TYT.Card1\n",
      "Child Card frame: .!frame.!frame.!frame2.!frame.!frame2\n",
      "Child Card own frame: Root.TM-TYT.Card1.Card1_1\n",
      "\n",
      "____________________________________________________________________________________________________\n",
      "____________________________________________________________________________________________________\n",
      "child Card info:\n",
      "Child Card Name:  Card1_1_1\n",
      "child Card parent: Root.TM-TYT.Card1.Card1_1\n",
      "Child Card frame: .!frame.!frame.!frame2.!frame.!frame2.!frame.!frame2\n",
      "Child Card own frame: Root.TM-TYT.Card1.Card1_1.Card1_1_1\n",
      "\n",
      "____________________________________________________________________________________________________\n",
      "____________________________________________________________________________________________________\n",
      "child Card info:\n",
      "Child Card Name:  Card2\n",
      "child Card parent: Root.TM-TYT\n",
      "Child Card frame: .!frame.!frame.!frame2\n",
      "Child Card own frame: Root.TM-TYT.Card2\n",
      "\n",
      "____________________________________________________________________________________________________\n",
      "____________________________________________________________________________________________________\n",
      "child Card info:\n",
      "Child Card Name:  Card2_1\n",
      "child Card parent: Root.TM-TYT.Card2\n",
      "Child Card frame: .!frame.!frame.!frame2.!frame2.!frame2\n",
      "Child Card own frame: Root.TM-TYT.Card2.Card2_1\n",
      "\n",
      "____________________________________________________________________________________________________\n",
      "____________________________________________________________________________________________________\n",
      "child Card info:\n",
      "Child Card Name:  Card2_2\n",
      "child Card parent: Root.TM-TYT.Card2\n",
      "Child Card frame: .!frame.!frame.!frame2.!frame2.!frame2\n",
      "Child Card own frame: Root.TM-TYT.Card2.Card2_2\n",
      "\n",
      "____________________________________________________________________________________________________\n",
      "____________________________________________________________________________________________________\n",
      "child Card info:\n",
      "Child Card Name:  Card2_3\n",
      "child Card parent: Root.TM-TYT.Card2\n",
      "Child Card frame: .!frame.!frame.!frame2.!frame2.!frame2\n",
      "Child Card own frame: Root.TM-TYT.Card2.Card2_3\n",
      "\n",
      "____________________________________________________________________________________________________\n",
      "____________________________________________________________________________________________________\n",
      "child Card info:\n",
      "Child Card Name:  Card2_3_1\n",
      "child Card parent: Root.TM-TYT.Card2.Card2_3\n",
      "Child Card frame: .!frame.!frame.!frame2.!frame2.!frame2.!frame3.!frame2\n",
      "Child Card own frame: Root.TM-TYT.Card2.Card2_3.Card2_3_1\n",
      "\n",
      "____________________________________________________________________________________________________\n",
      "____________________________________________________________________________________________________\n",
      "child Card info:\n",
      "Child Card Name:  Card2_3_2\n",
      "child Card parent: Root.TM-TYT.Card2.Card2_3\n",
      "Child Card frame: .!frame.!frame.!frame2.!frame2.!frame2.!frame3.!frame2\n",
      "Child Card own frame: Root.TM-TYT.Card2.Card2_3.Card2_3_2\n",
      "\n",
      "All frames\n",
      "____________________________________________________________________________________________________\n",
      "____________________________________________________________________________________________________\n",
      "Root.TM-TYT:.!frame.!frame.!frame2\n",
      "Root.TM-TYT.Card1:.!frame.!frame.!frame2.!frame.!frame2\n",
      "Root.TM-TYT.Card1.Card1_1:.!frame.!frame.!frame2.!frame.!frame2.!frame.!frame2\n",
      "Root.TM-TYT.Card1.Card1_1.Card1_1_1:.!frame.!frame.!frame2.!frame.!frame2.!frame.!frame2.!frame.!frame2\n",
      "Root.TM-TYT.Card2:.!frame.!frame.!frame2.!frame2.!frame2\n",
      "Root.TM-TYT.Card2.Card2_1:.!frame.!frame.!frame2.!frame2.!frame2.!frame.!frame2\n",
      "Root.TM-TYT.Card2.Card2_2:.!frame.!frame.!frame2.!frame2.!frame2.!frame2.!frame2\n",
      "Root.TM-TYT.Card2.Card2_3:.!frame.!frame.!frame2.!frame2.!frame2.!frame3.!frame2\n",
      "Root.TM-TYT.Card2.Card2_3.Card2_3_1:.!frame.!frame.!frame2.!frame2.!frame2.!frame3.!frame2.!frame.!frame2\n",
      "Root.TM-TYT.Card2.Card2_3.Card2_3_2:.!frame.!frame.!frame2.!frame2.!frame2.!frame3.!frame2.!frame2.!frame2\n",
      "add record button pressed\n",
      "______________________________\n",
      "Sub card Parent in widgets.Create_Tracks.Add_SubCard:  Root.TM-TYT.Card2.Card2_3.Card2_3_2\n",
      "self.SubDictData => {'Card2_3_2_1': {'Name': 'Card2_3_2_1', 'Date': '26-May-2021', 'Time': '03:56:36 PM', 'Topic': {}, 'Target Hour': '001:01:00', 'EndDate': '1-January-2021', 'Progress': 0, 'Parent': 'Root.TM-TYT.Card2.Card2_3.Card2_3_2', 'FullPath': 'Root.TM-TYT.Card2.Card2_3.Card2_3_2.Card2_3_2_1', 'Childs': 0}}\n",
      "______________________________\n"
     ]
    }
   ],
   "source": [
    "root = tk.Tk()\n",
    "print(root)\n",
    "cards = wid.Track_Card(root)\n",
    "\n",
    "main_frame = tk.Frame(root, height = 900, width = 900)\n",
    "main_frame.pack()\n",
    "main_frame.pack_propagate(True)\n",
    "for key, card in get.Retrieve_Cards(Root):\n",
    "    # NOw we need to identify that it is a root method or not\n",
    "    #time.sleep(1)\n",
    "    if key != \"Root\":\n",
    "        \n",
    "        if key == 'Topic':\n",
    "            pass\n",
    "        else:\n",
    "            # in this we will get all the cards\n",
    "            if card['Parent'] == \"Root\":\n",
    "                # then the card is Parent card or Root card\n",
    "                #print(\"data ==> \",card)\n",
    "                name = card['Name']\n",
    "                parent = card['FullPath']\n",
    "                print('Root card parent name:',parent)\n",
    "                cards.Create_Track_Record_Card(main_frame,name,data=card ,use = 'retrieve')\n",
    "                parent_frame = cards.Tracks_Cards_Frames.get(parent,None)\n",
    "                parent_frame.pack_propagate(True)\n",
    "                parent_frame.config(bg='red', height = 2000)\n",
    "                \n",
    "                root_frame = cards.Tracks_Cards_Frames.get('Root.TM-TYT',None)\n",
    "                print(\"TM-TYT Root frame: \",root_frame)\n",
    "                root_frame.config(bg = 'blue')\n",
    "                #print(cards.Tracks_Cards_Frames)\n",
    "                #print(name,parent,parent_frame)\n",
    "                \n",
    "#                 label = tk.Label(parent_frame, text='hello', height = 5)\n",
    "#                 label.pack()\n",
    "                \n",
    "            else:\n",
    "                # if Parent is not root then the card is a child card\n",
    "                print(f\"{'_'*100}\\n{'_'*100}\")\n",
    "                name = card['Name']\n",
    "                parent = card['Parent']\n",
    "                fullpath = card['FullPath']\n",
    "                parent_frame = cards.Tracks_Cards_Frames.get(parent,None)\n",
    "                \n",
    "#                 parent_frame.pack_propagate(True)\n",
    "#                 parent_frame.config(height = 200)\n",
    "#                 print(cards.Tracks_Cards_Frames)\n",
    "                print(\"child Card info:\")\n",
    "                print(\"Child Card Name: \",name)\n",
    "                print(\"child Card parent:\",parent)\n",
    "                print(\"Child Card frame:\",parent_frame)\n",
    "                print(\"Child Card own frame:\",fullpath)\n",
    "                \n",
    "                cards.Create_Track_Record_Sub_Card(master = parent_frame ,Parent= parent,CardName=name, FullName=fullpath,Data=card, use = 'retrieve')\n",
    "                parent_frame.pack_propagate(True)\n",
    "                parent_frame.config(height = 2000)\n",
    "                print()\n",
    "print(\"All frames\")\n",
    "data = json.dumps(list(cards.Tracks_Cards_Frames),indent=2)\n",
    "\n",
    "#print(cards.Tracks_Cards_Frames, type(cards.Tracks_Cards_Frames))\n",
    "print(f\"{'_'*100}\\n{'_'*100}\")\n",
    "for key, value in cards.Tracks_Cards_Frames.items():\n",
    "    print(f\"{key}:{value}\")\n",
    "\n",
    "root.mainloop()"
   ]
  },
  {
   "cell_type": "code",
   "execution_count": null,
   "id": "waiting-township",
   "metadata": {},
   "outputs": [],
   "source": []
  },
  {
   "cell_type": "code",
   "execution_count": 20,
   "id": "offensive-boards",
   "metadata": {},
   "outputs": [],
   "source": [
    "data = json.dumps(next(get.Retrieve_Cards(Root)), indent = 2)"
   ]
  },
  {
   "cell_type": "code",
   "execution_count": 25,
   "id": "descending-voice",
   "metadata": {},
   "outputs": [
    {
     "name": "stdout",
     "output_type": "stream",
     "text": [
      "('Root', {'TM-TYT': {'Type': 'Project', 'Name': 'TM-TYT', 'Date': '25-May-2021', 'Time': '10:23:34 AM', 'Topic': {'Card1': {'Type': 'Subcard', 'Name': 'Card1', 'Date': '25-May-2021', 'Time': '10:23:34 AM', 'Topic': {'Card1_1': {'Type': 'Subcard', 'Name': 'Card1_1', 'Date': '25-May-2021', 'Time': '10:23:34 AM', 'Topic': {}, 'Target Hour': '001:00:00', 'EndDate': '1-January-2021', 'Progress': 0, 'Parent': 'Root.TM-TYT.Card1', 'FullPath': 'Root.TM-TYT.Card1.Card1_1', 'Childs': 0}}, 'Target Hour': '001:00:00', 'EndDate': '1-January-2021', 'Progress': 0, 'Parent': 'Root.TM-TYT', 'FullPath': 'Root.TM-TYT.Card1', 'Childs': 0}, 'Card2': {'Type': 'Subcard', 'Name': 'Card2', 'Date': '25-May-2021', 'Time': '10:23:34 AM', 'Topic': {}, 'Target Hour': '001:00:00', 'EndDate': '1-January-2021', 'Progress': 0, 'Parent': 'Root.TM-TYT', 'FullPath': 'Root.TM-TYT.Card1', 'Childs': 0}}, 'Target Hour': '001:00:00', 'EndDate': '1-January-2021', 'Progress': 0, 'Parent': 'Root', 'FullPath': 'Root.TM-TYT', 'Childs': 0}})\n"
     ]
    }
   ],
   "source": [
    "data= next(get.Retrieve_Cards(Root))\n",
    "print(data)"
   ]
  },
  {
   "cell_type": "code",
   "execution_count": 26,
   "id": "offshore-culture",
   "metadata": {},
   "outputs": [
    {
     "data": {
      "text/plain": [
       "'Root'"
      ]
     },
     "execution_count": 26,
     "metadata": {},
     "output_type": "execute_result"
    }
   ],
   "source": [
    "data[0]"
   ]
  },
  {
   "cell_type": "code",
   "execution_count": 44,
   "id": "narrative-translator",
   "metadata": {},
   "outputs": [
    {
     "name": "stdout",
     "output_type": "stream",
     "text": [
      "\n",
      "Card Parent: Root\n",
      "***********************Root Card***********************\n",
      "Card key:  TM-TYT {'Type': 'Project', 'Name': 'TM-TYT', 'Date': '25-May-2021', 'Time': '10:23:34 AM', 'Topic': {'Card1': {'Type': 'Subcard', 'Name': 'Card1', 'Date': '25-May-2021', 'Time': '10:23:34 AM', 'Topic': {'Card1_1': {'Type': 'Subcard', 'Name': 'Card1_1', 'Date': '25-May-2021', 'Time': '10:23:34 AM', 'Topic': {}, 'Target Hour': '001:00:00', 'EndDate': '1-January-2021', 'Progress': 0, 'Parent': 'Root.TM-TYT.Card1', 'FullPath': 'Root.TM-TYT.Card1.Card1_1', 'Childs': 0}}, 'Target Hour': '001:00:00', 'EndDate': '1-January-2021', 'Progress': 0, 'Parent': 'Root.TM-TYT', 'FullPath': 'Root.TM-TYT.Card1', 'Childs': 0}, 'Card2': {'Type': 'Subcard', 'Name': 'Card2', 'Date': '25-May-2021', 'Time': '10:23:34 AM', 'Topic': {}, 'Target Hour': '001:00:00', 'EndDate': '1-January-2021', 'Progress': 0, 'Parent': 'Root.TM-TYT', 'FullPath': 'Root.TM-TYT.Card1', 'Childs': 0}}, 'Target Hour': '001:00:00', 'EndDate': '1-January-2021', 'Progress': 0, 'Parent': 'Root', 'FullPath': 'Root.TM-TYT', 'Childs': 0}\n",
      "____________________________________________________________________________________________________\n",
      "\n",
      "Card Parent: Root.TM-TYT\n",
      "***********************Child Card***********************\n",
      "Card key:  Card1 {'Type': 'Subcard', 'Name': 'Card1', 'Date': '25-May-2021', 'Time': '10:23:34 AM', 'Topic': {'Card1_1': {'Type': 'Subcard', 'Name': 'Card1_1', 'Date': '25-May-2021', 'Time': '10:23:34 AM', 'Topic': {}, 'Target Hour': '001:00:00', 'EndDate': '1-January-2021', 'Progress': 0, 'Parent': 'Root.TM-TYT.Card1', 'FullPath': 'Root.TM-TYT.Card1.Card1_1', 'Childs': 0}}, 'Target Hour': '001:00:00', 'EndDate': '1-January-2021', 'Progress': 0, 'Parent': 'Root.TM-TYT', 'FullPath': 'Root.TM-TYT.Card1', 'Childs': 0}\n",
      "____________________________________________________________________________________________________\n",
      "\n",
      "Card Parent: Root.TM-TYT.Card1\n",
      "***********************Child Card***********************\n",
      "Card key:  Card1_1 {'Type': 'Subcard', 'Name': 'Card1_1', 'Date': '25-May-2021', 'Time': '10:23:34 AM', 'Topic': {}, 'Target Hour': '001:00:00', 'EndDate': '1-January-2021', 'Progress': 0, 'Parent': 'Root.TM-TYT.Card1', 'FullPath': 'Root.TM-TYT.Card1.Card1_1', 'Childs': 0}\n",
      "____________________________________________________________________________________________________\n",
      "\n",
      "Card Parent: Root.TM-TYT\n",
      "***********************Child Card***********************\n",
      "Card key:  Card2 {'Type': 'Subcard', 'Name': 'Card2', 'Date': '25-May-2021', 'Time': '10:23:34 AM', 'Topic': {}, 'Target Hour': '001:00:00', 'EndDate': '1-January-2021', 'Progress': 0, 'Parent': 'Root.TM-TYT', 'FullPath': 'Root.TM-TYT.Card1', 'Childs': 0}\n",
      "____________________________________________________________________________________________________\n"
     ]
    }
   ],
   "source": [
    "\n",
    "\n",
    "for key , value in get.Retrieve_Cards(Root):\n",
    "    #print(key)\n",
    "    \n",
    "    if key != \"Root\":\n",
    "    \n",
    "        if key == \"Topic\":\n",
    "            pass\n",
    "        else:\n",
    "            # Now from here we can identify card is root or not by its fullname\n",
    "            print(f\"\\nCard Parent: {value['Parent']}\")\n",
    "            if value['Parent']==\"Root\":\n",
    "                print(\"***********************Root Card***********************\")\n",
    "                \n",
    "            else:\n",
    "                print(\"***********************Child Card***********************\")\n",
    "            print(\"Card key: \",key, value)\n",
    "            \n",
    "            \n",
    "            print(f\"{'_'*100}\")\n",
    "            \n"
   ]
  },
  {
   "cell_type": "code",
   "execution_count": 4,
   "id": "sunrise-circular",
   "metadata": {},
   "outputs": [],
   "source": [
    "a = {}"
   ]
  },
  {
   "cell_type": "code",
   "execution_count": 10,
   "id": "broad-while",
   "metadata": {},
   "outputs": [],
   "source": [
    "a.update({'Name1':'manish'})"
   ]
  },
  {
   "cell_type": "code",
   "execution_count": 11,
   "id": "worthy-storage",
   "metadata": {},
   "outputs": [
    {
     "data": {
      "text/plain": [
       "{'Name': 'manish', 'Name2': 'manish2', 'Name1': 'manish'}"
      ]
     },
     "execution_count": 11,
     "metadata": {},
     "output_type": "execute_result"
    }
   ],
   "source": [
    "a"
   ]
  },
  {
   "cell_type": "code",
   "execution_count": 12,
   "id": "tired-confusion",
   "metadata": {},
   "outputs": [],
   "source": [
    "a.update({'Name2':'manish2'})"
   ]
  },
  {
   "cell_type": "code",
   "execution_count": 13,
   "id": "statutory-indicator",
   "metadata": {},
   "outputs": [
    {
     "data": {
      "text/plain": [
       "{'Name': 'manish', 'Name2': 'manish2', 'Name1': 'manish'}"
      ]
     },
     "execution_count": 13,
     "metadata": {},
     "output_type": "execute_result"
    }
   ],
   "source": [
    "a"
   ]
  },
  {
   "cell_type": "code",
   "execution_count": 15,
   "id": "continuous-laundry",
   "metadata": {},
   "outputs": [],
   "source": [
    "a = {\"Root\":{}}"
   ]
  },
  {
   "cell_type": "code",
   "execution_count": 16,
   "id": "forced-oasis",
   "metadata": {},
   "outputs": [],
   "source": [
    "a[\"Root\"].update({\"Card1\":1})"
   ]
  },
  {
   "cell_type": "code",
   "execution_count": 17,
   "id": "wired-triumph",
   "metadata": {},
   "outputs": [
    {
     "data": {
      "text/plain": [
       "{'Root': {'Card1': 1}}"
      ]
     },
     "execution_count": 17,
     "metadata": {},
     "output_type": "execute_result"
    }
   ],
   "source": [
    "a"
   ]
  },
  {
   "cell_type": "code",
   "execution_count": 47,
   "id": "clear-equilibrium",
   "metadata": {},
   "outputs": [],
   "source": [
    "from tkinter import Tk, Frame, Label ,Button , StringVar , Spinbox, Toplevel, Entry, Text,IntVar\n",
    "from tkinter import ttk\n",
    "class KeepCardCheck(Frame):\n",
    "    \"\"\"\n",
    "    This class will be used to create a check in a checklist. it will contain a checkbox and a Text widget, checkbox will be\n",
    "    linked to the Text widget.\n",
    "    \"\"\"\n",
    "    def __init__(self, master = None, cnf=None):\n",
    "        super().__init__(master)\n",
    "\n",
    "                # Now we will use the init constructor to create KeepCardCheck\n",
    "                # we need a Frame which can hold both checkbox and Text widget\n",
    "        self.MainFrame = Frame(master , width = 20, cnf=cnf, bg='red')\n",
    "                # this will be the main frame in which we will put the checkbox and the Text widget\n",
    "\n",
    "                # making the checkbox\n",
    "        self.check = ttk.Checkbutton(self.MainFrame)\n",
    "        self.check.pack(side='left', anchor='nw')\n",
    "\n",
    "                # now we need to put the text box\n",
    "        self.text = Text(self.MainFrame, height = 1, width = 40)\n",
    "        self.text.pack(side='left', anchor='nw')\n",
    "\n",
    "        print(\"keep initiated\")\n",
    "\n",
    "\n",
    "    def pack(self, cnf={}, **packvalues):\n",
    "        \n",
    "        self.MainFrame.pack(cnf,**packvalues)\n",
    "        "
   ]
  },
  {
   "cell_type": "code",
   "execution_count": 48,
   "id": "pregnant-dress",
   "metadata": {},
   "outputs": [
    {
     "name": "stdout",
     "output_type": "stream",
     "text": [
      "keep initiated\n",
      "('alternate',)\n",
      "('!selected',)\n",
      "{'in': <tkinter.Tk object .>, 'anchor': 'center', 'expand': 0, 'fill': 'none', 'ipadx': 0, 'ipady': 0, 'padx': 0, 'pady': 0, 'side': 'top'}\n"
     ]
    }
   ],
   "source": [
    "root = Tk()\n",
    "\n",
    "keep = KeepCardCheck(root)\n",
    "keep.pack()\n",
    "\n",
    "check = ttk.Checkbutton(root)\n",
    "check.pack()\n",
    "\n",
    "var = IntVar()\n",
    "var.set(0)\n",
    "print(check.state())\n",
    "# check.state(['deselected'])\n",
    "print(check.state(['selected']))\n",
    "print(check.info())\n",
    "\n",
    "def show_state():\n",
    "    print(check.state())\n",
    "    \n",
    "check.config(command = show_state, variable = var)\n",
    "\n",
    "root.mainloop()"
   ]
  },
  {
   "cell_type": "code",
   "execution_count": 28,
   "id": "medium-deviation",
   "metadata": {},
   "outputs": [
    {
     "data": {
      "text/plain": [
       "6"
      ]
     },
     "execution_count": 28,
     "metadata": {},
     "output_type": "execute_result"
    }
   ],
   "source": [
    "46%40"
   ]
  },
  {
   "cell_type": "code",
   "execution_count": 8,
   "id": "charged-companion",
   "metadata": {},
   "outputs": [
    {
     "data": {
      "text/plain": [
       "dict"
      ]
     },
     "execution_count": 8,
     "metadata": {},
     "output_type": "execute_result"
    }
   ],
   "source": [
    "a"
   ]
  },
  {
   "cell_type": "code",
   "execution_count": 10,
   "id": "reliable-tuition",
   "metadata": {},
   "outputs": [
    {
     "ename": "TypeError",
     "evalue": "'type' object does not support item assignment",
     "output_type": "error",
     "traceback": [
      "\u001b[1;31m---------------------------------------------------------------------------\u001b[0m",
      "\u001b[1;31mTypeError\u001b[0m                                 Traceback (most recent call last)",
      "\u001b[1;32m<ipython-input-10-281b18333c17>\u001b[0m in \u001b[0;36m<module>\u001b[1;34m\u001b[0m\n\u001b[1;32m----> 1\u001b[1;33m \u001b[0ma\u001b[0m\u001b[1;33m[\u001b[0m\u001b[1;34m's'\u001b[0m\u001b[1;33m]\u001b[0m\u001b[1;33m=\u001b[0m\u001b[1;34m'a'\u001b[0m\u001b[1;33m\u001b[0m\u001b[1;33m\u001b[0m\u001b[0m\n\u001b[0m",
      "\u001b[1;31mTypeError\u001b[0m: 'type' object does not support item assignment"
     ]
    }
   ],
   "source": [
    "a['s']='a'"
   ]
  },
  {
   "cell_type": "code",
   "execution_count": 49,
   "id": "immediate-better",
   "metadata": {},
   "outputs": [],
   "source": [
    "import tkinter as tk"
   ]
  },
  {
   "cell_type": "code",
   "execution_count": 66,
   "id": "adopted-caribbean",
   "metadata": {},
   "outputs": [],
   "source": [
    "root = tk.Tk()\n",
    "\n",
    "text = tk.Text(root, width = 40, height = 1, wrap = 'word')\n",
    "text.pack(pady = 50)\n",
    "\n",
    "strike = tk.Button(root, text = 'strike')\n",
    "strike.pack()\n",
    "\n",
    "unstrike = tk.Button(root, text = 'unstrike')\n",
    "unstrike.pack()\n",
    "\n",
    "\n",
    "def _strike():\n",
    "    text.tag_add('CheckCompleted', \"1.0\",'end')\n",
    "    text.tag_config('CheckCompleted',overstrike = 1)\n",
    "    \n",
    "def rem_strike():\n",
    "    text.tag_config('CheckCompleted', overstrike = 0)\n",
    "\n",
    "strike.config(command = _strike)\n",
    "unstrike.config(command = rem_strike)\n",
    "\n",
    "after_id = None\n",
    "# Now i want to increase the height after wraping\n",
    "def update():\n",
    "    line_length = text.cget('width')\n",
    "    \n",
    "    lines = len(text.get(1.0, 'end'))//line_length  +1# This is to get the current lines.\n",
    "    \n",
    "    text.config(height = lines) # this will update the height of the text widget.\n",
    "    after_id = text.after(600, update)\n",
    "\n",
    "update()    \n",
    "\n",
    "root.mainloop()"
   ]
  },
  {
   "cell_type": "code",
   "execution_count": 73,
   "id": "hollywood-subscriber",
   "metadata": {},
   "outputs": [],
   "source": [
    "import tkinter as tk\n",
    "\n",
    "class ResizedText(tk.Text):\n",
    "    \n",
    "    def __init__(self, parent, *args, **kwargs):\n",
    "        self.parent = parent\n",
    "        self.container_container = tk.Frame(parent, bg=\"blue\")\n",
    "        self.container = tk.Frame(self.container_container, bg=\"red\")\n",
    "        super().__init__(self.container, *args, **kwargs)\n",
    "        self.container_container.bind(\"<Configure>\", self.resize)\n",
    "        self.bind(\"<KeyRelease>\", self.resize)\n",
    "        \n",
    "    def grid(self, *args, **kwargs):\n",
    "        self.container_container.grid(*args, **kwargs)\n",
    "        self.container.grid_propagate(True)\n",
    "        self.container.grid(row=0, column=0, sticky=\"nsew\")\n",
    "        super().grid(row=0, column=0, sticky=\"nsew\")\n",
    "        #self.container.grid_columnconfigure(0, weight=1)\n",
    "        \n",
    "    def bind(self, *args, **kwargs):\n",
    "        if \"add\" not in kwargs: kwargs[\"add\"] = True\n",
    "        super().bind(*args, **kwargs)\n",
    "        \n",
    "    def resize(self, event=None):\n",
    "        self.container.config(width=self.container_container.winfo_width())\n",
    "        if self.bbox(\"end-1c\"):\n",
    "            text_height = (self.bbox(\"end-1c\")[1]+self.bbox(\"end-1c\")[3])+4\n",
    "            if text_height < 20: text_height = 20\n",
    "        else: text_height = 20\n",
    "        self.container.config(height=text_height)\n",
    "        \n",
    "        #after this statement, self.container.winfo_height = 1\n",
    "        #BUT self.container.cget(\"height\") = 20\n",
    " \n",
    "        \n",
    "class ScrollableFrame(tk.Frame):\n",
    "    def __init__(self, parent, *args, **kwargs):\n",
    "        self.parent = parent\n",
    "        self.frame = tk.Frame(parent)\n",
    "        self.frame.grid_rowconfigure(0, weight=1)\n",
    "        self.frame.grid_columnconfigure(0, weight=1)\n",
    "        yscroll = tk.Scrollbar(self.frame)\n",
    "        yscroll.grid(row=0, column=1, sticky=\"ns\")\n",
    "        self.canvas = tk.Canvas(self.frame, yscrollcommand=yscroll.set, *args,\n",
    "                **kwargs)\n",
    "        self.canvas.grid(row=0, column=0, sticky=\"nsew\",)\n",
    "        yscroll.config(command=self.canvas.yview)\n",
    "        super().__init__(self.canvas)\n",
    "        self.grid_propagate(False)\n",
    "        self.canvas.create_window((0,0), window=self, anchor=\"nw\")\n",
    "        self.frame.bind(\"<Configure>\", self.resize_main)\n",
    "        self.bind(\"<Configure>\", self.resize_canvas)\n",
    "        \n",
    "    def grid(self, *args, **kwargs):\n",
    "        self.frame.grid(*args, **kwargs)\n",
    "        \n",
    "    def resize_canvas(self, event):\n",
    "        self.canvas.config(scrollregion=self.canvas.bbox(\"all\"))\n",
    "        \n",
    "    def resize_main(self, event):\n",
    "        self.config(width=event.width, height=self.bbox(\"all\")[3])\n",
    "        \n",
    "    \n",
    "\n",
    "GUI = tk.Tk()\n",
    "\n",
    "GUI.grid_rowconfigure(0, weight=1)\n",
    "\n",
    "GUI.grid_columnconfigure(0, weight=1)\n",
    "\n",
    "f = ScrollableFrame(GUI, bg=\"brown\")\n",
    "\n",
    "f.grid(row=0, column=0, sticky=\"nsew\")\n",
    "f.grid_columnconfigure(0, weight=1)\n",
    "\n",
    "t = ResizedText(f, bg=\"blue\")\n",
    "t.grid(row=1, column=0, sticky=\"nsew\")\n",
    "\n",
    "\n",
    "GUI.mainloop()"
   ]
  },
  {
   "cell_type": "markdown",
   "id": "portuguese-domain",
   "metadata": {},
   "source": []
  },
  {
   "cell_type": "code",
   "execution_count": 83,
   "id": "norwegian-option",
   "metadata": {},
   "outputs": [],
   "source": [
    "def update_textheight(self, event):\n",
    "    \n",
    "    \"\"\"\n",
    "    This method will be used to update the height of the Textbox according to the check box current lines\n",
    "    :return: None\n",
    "    \"\"\"\n",
    "    if event.char != 'Return':\n",
    "        self.text_len = None\n",
    "        lchar = self.text.cget('width')\n",
    "        line = self.text.get(1.0, 'end')\n",
    "        lines = len(line)//lchar +1\n",
    "        if self.lines + 1 ==  lines:\n",
    "            print(\"line increased:\", self.lines, lines)\n",
    "            self.text.config(height=lines)\n",
    "            self.lines +=1"
   ]
  },
  {
   "cell_type": "code",
   "execution_count": 10,
   "id": "functioning-timber",
   "metadata": {},
   "outputs": [],
   "source": [
    "import tkinter as tk\n",
    "root = tk.Tk()\n",
    "\n",
    "text = tk.Text(root, width = 40, height = 1, wrap = 'word')\n",
    "text.pack(pady = 50)\n",
    "# first of all we need to get the width of the Text box, width are equl to number of char.\n",
    "line_length = text.cget('width')\n",
    "Init_line = 1  # to compare the lines.\n",
    "# Now we want to increase the height after wraping of text in the text box\n",
    "# For that we will use event handlers, we will use KeyPress event\n",
    "# whenever the key is pressed then the update will be called\n",
    "\n",
    "def Update_TextHeight(event):\n",
    "    # Now in this we need to get the current number of char in the text box \n",
    "    # for the we will use .get() method.\n",
    "    text_length = len(text.get(1.0, tk.END))  \n",
    "    \n",
    "    # Now after this we need to get the total number of lines int the textbox\n",
    "    bline = text_length//line_length + 1 \n",
    "    # bline will be current lines in the text box\n",
    "    # text_length is the total number of char in the box\n",
    "    # Since we have line_length number of char in one line so by doing \n",
    "    # text_length//line_length we will get the totol line of numbers.\n",
    "    # 1 is added since initially it has one line in text box \n",
    "    # Now we need to update the length\n",
    "    if event.char != 'Return':\n",
    "        global Init_line\n",
    "        if Init_line +1 == bline:\n",
    "            text.config(height = bline)\n",
    "            text.update()\n",
    "            Init_line += 1\n",
    "            \n",
    "# Nowe we will bind the KeyPress event with our update method.\n",
    "text.bind(\"<KeyPress>\",Update_TextHeight)\n",
    "root.mainloop()"
   ]
  },
  {
   "cell_type": "code",
   "execution_count": 17,
   "id": "bacterial-billion",
   "metadata": {},
   "outputs": [
    {
     "name": "stdout",
     "output_type": "stream",
     "text": [
      "delete called\n",
      "deleted\n"
     ]
    }
   ],
   "source": [
    "import tkinter as tk\n",
    "from tkinter import ttk\n",
    "\n",
    "root = tk.Tk()\n",
    "root.geometry('300x200')\n",
    "root.resizable(False, False)\n",
    "root.title('Separator Widget Demo')\n",
    "\n",
    "l1 = ttk.Label(root, text=\"First Label\")\n",
    "l1.pack()\n",
    "\n",
    "separator = ttk.Separator(root, orient='horizontal')\n",
    "separator.pack(fill='x')\n",
    "ttk.Label(root, text=\"Second Label\").pack()\n",
    "\n",
    "\n",
    "delete = tk.Button(root, text='delete first label')\n",
    "delete.pack()\n",
    "\n",
    "def delete_label():\n",
    "    print(\"delete called\")\n",
    "    if l1:\n",
    "        print('deleted')\n",
    "        l1.destroy()\n",
    "delete.config(command = delete_label)\n",
    "root.mainloop()"
   ]
  },
  {
   "cell_type": "code",
   "execution_count": null,
   "id": "plain-respect",
   "metadata": {},
   "outputs": [],
   "source": []
  }
 ],
 "metadata": {
  "kernelspec": {
   "display_name": "Python 3",
   "language": "python",
   "name": "python3"
  },
  "language_info": {
   "codemirror_mode": {
    "name": "ipython",
    "version": 3
   },
   "file_extension": ".py",
   "mimetype": "text/x-python",
   "name": "python",
   "nbconvert_exporter": "python",
   "pygments_lexer": "ipython3",
   "version": "3.8.3"
  }
 },
 "nbformat": 4,
 "nbformat_minor": 5
}
