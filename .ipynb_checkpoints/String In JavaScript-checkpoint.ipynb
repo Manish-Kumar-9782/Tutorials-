{
 "cells": [
  {
   "cell_type": "markdown",
   "id": "64186067-5695-4ae3-81c9-31debba43ac9",
   "metadata": {},
   "source": [
    "<style>\n",
    "    b.hlight{\n",
    "    background:#1f2f3f;\n",
    "    color:whitesmoke;\n",
    "    }\n",
    "</style>"
   ]
  },
  {
   "cell_type": "markdown",
   "id": "b60f64ab-77a5-444e-bd04-7a4866d1a394",
   "metadata": {},
   "source": [
    "# String\n",
    "\n",
    "The `String` object is used to represent and manipulate a sequence of character.\n",
    "\n",
    "Strings are useful for holding data that can be represent in text form. \n",
    "\n",
    "-> Some of the most-used operatoion on string are to check their length, to join two more string together by using the `+` or `+=` string operators.\n",
    "\n",
    "-> we can check the existence or location of a substring with `indexOf` method.\n",
    "\n",
    "-> we can extract substring by using the `substring()` metho.\n",
    "\n",
    "-> In this section we will see various kind of operation which we can perfrom on a string object or literal string."
   ]
  },
  {
   "cell_type": "markdown",
   "id": "bb323205-4ae4-4f57-bef7-79c8d37e4cec",
   "metadata": {},
   "source": [
    "### Creating Strings\n",
    "\n",
    "We can create a string as primitive by using the string literal or we can create a strign object by using the `String()` constructor."
   ]
  },
  {
   "cell_type": "code",
   "execution_count": 1,
   "id": "cb50d1aa-f55e-453f-b374-4a85be9049cb",
   "metadata": {},
   "outputs": [],
   "source": [
    "const string1 = \"A string primitive\";\n",
    "const string2 = 'Also a string primitive';\n",
    "const string3 = `Yet another string primitive`;\n",
    "const string4 = new String(\"A String object\")"
   ]
  },
  {
   "cell_type": "code",
   "execution_count": null,
   "id": "a4a64abb-dcf1-43b4-8087-70b1633fdef1",
   "metadata": {},
   "outputs": [],
   "source": []
  },
  {
   "cell_type": "markdown",
   "id": "d4179b3b-c49b-414a-b590-91eaccb81d0c",
   "metadata": {},
   "source": [
    "`string1:` string1 is a string ('literal string') created by using the double quote.\n",
    "\n",
    "`string2:` string2 is string ('literal string') created by using the single quote.\n",
    "\n",
    "`string3:` string3 is template string ('template literal string') created by using the \"backtick or back quote\".\n",
    "\n",
    "`string4:` string4 is String object which works similar to the  'literal string' but the both has the different working process.\n",
    "\n",
    "Note: String primitives and string objects share many behaviors, but have other important differences and caveats.\n",
    "\n",
    "String literlas can be specified using single or doubles, which are treated identically, or using the backtick character <b style=\"background:#f1f2f3; color:blue; padding:0px 5px; font-size: 1.2rem\">``</b>. This last form specifies a 'template literal:' with this form we can interpolate expression. "
   ]
  },
  {
   "cell_type": "markdown",
   "id": "b6b33409-e712-468e-bd50-dc585e609b19",
   "metadata": {},
   "source": [
    "### Character Access\n",
    "\n",
    "There are two ways to access an individual character in a string. The first is the `charAt()` method."
   ]
  },
  {
   "cell_type": "code",
   "execution_count": 2,
   "id": "5b0e963e-999f-4dd2-a2c5-262eebc62f14",
   "metadata": {},
   "outputs": [
    {
     "data": {
      "text/plain": [
       "'e'"
      ]
     },
     "execution_count": 2,
     "metadata": {},
     "output_type": "execute_result"
    }
   ],
   "source": [
    "'Hello'.charAt(1)"
   ]
  },
  {
   "cell_type": "markdown",
   "id": "370044c6-e10a-491a-adc0-9db8a7314891",
   "metadata": {},
   "source": [
    "In output we can see that we have got 'e' which is at 1st position in the string.\n",
    "\n",
    "The other way is to treat the string as an array-like object. where inidividual characters correspond to a numerical index:"
   ]
  },
  {
   "cell_type": "code",
   "execution_count": 4,
   "id": "91787511-d362-4e52-87bb-f81b32c44fda",
   "metadata": {},
   "outputs": [],
   "source": [
    "let str = \"Hello\";"
   ]
  },
  {
   "cell_type": "code",
   "execution_count": 5,
   "id": "d5f11adc-ff80-47cb-9d88-49ff21645774",
   "metadata": {},
   "outputs": [
    {
     "data": {
      "text/plain": [
       "'e'"
      ]
     },
     "execution_count": 5,
     "metadata": {},
     "output_type": "execute_result"
    }
   ],
   "source": [
    "str[1]"
   ]
  },
  {
   "cell_type": "markdown",
   "id": "03adcb0d-a3fe-420d-86ae-1b1045c563a5",
   "metadata": {},
   "source": [
    "### Comparing Strings\n",
    "\n",
    "We can compare string by using the `< less than ` or `> greater than` or by using the `== equal equal` operators."
   ]
  },
  {
   "cell_type": "code",
   "execution_count": 6,
   "id": "d69cc55c-2c10-4132-b6c7-8fdee0a6fe20",
   "metadata": {},
   "outputs": [],
   "source": [
    "let word1 = \"Hello\"\n",
    "let word2 = \"jello\"\n",
    "let word3 = \"hello\""
   ]
  },
  {
   "cell_type": "markdown",
   "id": "7452186b-c012-4b04-bb91-cba5fd99a59d",
   "metadata": {},
   "source": [
    "Checeking that which string is greater than other string."
   ]
  },
  {
   "cell_type": "code",
   "execution_count": 7,
   "id": "d8ff892f-fa83-4a9d-bc58-70dc7b0bdc79",
   "metadata": {},
   "outputs": [
    {
     "data": {
      "text/plain": [
       "true"
      ]
     },
     "execution_count": 7,
     "metadata": {},
     "output_type": "execute_result"
    }
   ],
   "source": [
    "word1 < word2"
   ]
  },
  {
   "cell_type": "markdown",
   "id": "6fea556c-2d68-4956-b9f7-2f8979e15e1f",
   "metadata": {},
   "source": [
    "It means \"Hello\" is less than the word \"jello\", it means in sorting 'jello' will come after the \"Hello\" word, if sorting is in accending order."
   ]
  },
  {
   "cell_type": "code",
   "execution_count": 8,
   "id": "f3acd72e-ec3f-40e2-a3e5-2d371d1793dd",
   "metadata": {},
   "outputs": [
    {
     "data": {
      "text/plain": [
       "false"
      ]
     },
     "execution_count": 8,
     "metadata": {},
     "output_type": "execute_result"
    }
   ],
   "source": [
    "word1 > word3"
   ]
  },
  {
   "cell_type": "markdown",
   "id": "55dca9ba-2387-4839-83b8-b54f60d0ee89",
   "metadata": {},
   "source": [
    "similarly \"Hello\" is less than the \"hello\" word."
   ]
  },
  {
   "cell_type": "markdown",
   "id": "e21359b0-d24e-4b4d-b0cc-386bb35cf4c7",
   "metadata": {},
   "source": [
    "Note: if we want to check that two strings are equal or note then we should use the `==` operator."
   ]
  },
  {
   "cell_type": "code",
   "execution_count": 9,
   "id": "02275dc9-72f8-4b0d-9b1c-66897366f1ed",
   "metadata": {},
   "outputs": [
    {
     "data": {
      "text/plain": [
       "false"
      ]
     },
     "execution_count": 9,
     "metadata": {},
     "output_type": "execute_result"
    }
   ],
   "source": [
    "word1 == word3"
   ]
  },
  {
   "cell_type": "code",
   "execution_count": 10,
   "id": "53c5e411-b2a3-4020-beaf-6414b692b072",
   "metadata": {},
   "outputs": [
    {
     "data": {
      "text/plain": [
       "true"
      ]
     },
     "execution_count": 10,
     "metadata": {},
     "output_type": "execute_result"
    }
   ],
   "source": [
    "word1 != word3"
   ]
  },
  {
   "cell_type": "code",
   "execution_count": 11,
   "id": "3ca8431e-7d99-407a-b6d6-d58234b22a70",
   "metadata": {},
   "outputs": [
    {
     "data": {
      "text/plain": [
       "false"
      ]
     },
     "execution_count": 11,
     "metadata": {},
     "output_type": "execute_result"
    }
   ],
   "source": [
    "\"Hello\" == \"hello\""
   ]
  },
  {
   "cell_type": "code",
   "execution_count": 14,
   "id": "65c807cd-fccb-40dd-a353-81d352fd1002",
   "metadata": {},
   "outputs": [
    {
     "data": {
      "text/plain": [
       "false"
      ]
     },
     "execution_count": 14,
     "metadata": {},
     "output_type": "execute_result"
    }
   ],
   "source": [
    "\"Hello\" === \"hello\""
   ]
  },
  {
   "cell_type": "markdown",
   "id": "b9132e4b-382a-4ee1-9504-0c12c2667407",
   "metadata": {},
   "source": [
    "Note: a similar result can be achieved using the `localCompare()` method inherited by String instances.\n",
    "\n",
    "This method works with the different local languages and works in a little differnt way than the usual comparison."
   ]
  },
  {
   "cell_type": "markdown",
   "id": "b801e7b4-717b-4e8b-8a27-ebf7ec6873ba",
   "metadata": {},
   "source": [
    "### String primitives and String objects\n",
    "\n",
    "Note that JavaScript distinguishes b/w `String` objects and 'primitives string' values. In simplear words that String objects are differnt in comparision to 'primitives string', both work in different manner."
   ]
  },
  {
   "cell_type": "markdown",
   "id": "19138c49-e58b-4b0b-b7f5-74eec734e583",
   "metadata": {},
   "source": [
    "String literals (denoted by double or single quotes) and strings returned from `String` calls in a non-constructor context (that is, called without using the the `new` keyword) are primitive strings.\n",
    "\n",
    "Note: In contexts where a method is to be invoked on a primitive string or a property looup occurs, JavaScript will automatically wrap the string primitve and call the method or perform the property lookup on the wrapper object instead."
   ]
  },
  {
   "cell_type": "code",
   "execution_count": 15,
   "id": "5bf1eb7a-d87c-497f-b32c-d575100c8602",
   "metadata": {},
   "outputs": [
    {
     "name": "stdout",
     "output_type": "stream",
     "text": [
      "string\n",
      "string\n",
      "string\n",
      "object\n"
     ]
    }
   ],
   "source": [
    "const strPrim = \"foo\"; // A literal is a string primitive\n",
    "const strPrim2 = String(1); // Coerced into the string primitive \"1\"\n",
    "const strPrim3 = String(true); // Coerced into the string primitive \"true\"\n",
    "const strObj = new String(strPrim); // String with new returns a string wrapper object.\n",
    "\n",
    "console.log(typeof strPrim); // Logs \"string\"\n",
    "console.log(typeof strPrim2); // Logs \"string\"\n",
    "console.log(typeof strPrim3); // Logs \"string\"\n",
    "console.log(typeof strObj);  // Logs \"object\""
   ]
  },
  {
   "cell_type": "markdown",
   "id": "62d0d8c4-56db-41f4-8d09-2547553cbd7c",
   "metadata": {},
   "source": [
    "<b style=\"color:red;\">Warning:</b> We should rarely find ourselve using 'String' as a constructor."
   ]
  },
  {
   "cell_type": "markdown",
   "id": "02a184b3-a202-4d87-8c0c-b0471d0d94db",
   "metadata": {},
   "source": [
    "String primitives and `String` objects also gives different results when using eval(). Primitives passed to `eval` are treated as source code; `String` objects are treated as all other objects are, by returning the object."
   ]
  },
  {
   "cell_type": "code",
   "execution_count": 16,
   "id": "af807a6f-26a4-4650-abf8-345258b19f79",
   "metadata": {},
   "outputs": [
    {
     "name": "stdout",
     "output_type": "stream",
     "text": [
      "4\n",
      "[String: '2 + 2']\n"
     ]
    }
   ],
   "source": [
    "const s1 = '2 + 2';              // creates a string primitive\n",
    "const s2 = new String('2 + 2');  // creates a String object\n",
    "console.log(eval(s1));           // returns the number 4\n",
    "console.log(eval(s2));           // returns the string \"2 + 2\""
   ]
  },
  {
   "cell_type": "markdown",
   "id": "9bac633f-4485-492f-91ca-3d8a873d6e83",
   "metadata": {},
   "source": [
    "Conclusion: for these reason, the code may break when it encounters `String` objects when it expects a primitives string instead.\n",
    "\n",
    "Note: A `String` object can always be converted to its primitive counterpart with the `valueOf()` method."
   ]
  },
  {
   "cell_type": "code",
   "execution_count": 17,
   "id": "554efdac-eeb3-482b-b15f-8ee11952a679",
   "metadata": {},
   "outputs": [
    {
     "name": "stdout",
     "output_type": "stream",
     "text": [
      "4\n"
     ]
    }
   ],
   "source": [
    "console.log(eval(s2.valueOf()))  // returns the number 4"
   ]
  },
  {
   "cell_type": "markdown",
   "id": "00411503-1431-4e17-9042-48b5edaeb909",
   "metadata": {},
   "source": [
    "String Coercion"
   ]
  },
  {
   "cell_type": "markdown",
   "id": "2a66c7c4-aa64-4d3f-b64f-b2eb7044bcb5",
   "metadata": {},
   "source": [
    "Many built-in operations that expect strings would first coerce their arguments to strings (which is largely why `String` objects behave similarly to string primitives.)"
   ]
  },
  {
   "cell_type": "markdown",
   "id": "525350a9-894a-48ef-887b-4bbe5788a491",
   "metadata": {},
   "source": [
    "***Strings are returned as-is***\n",
    "\n",
    "* `undefined` turns to `\"undefined\"`.\n",
    "\n",
    "* `null` turns into `\"null\"`.\n",
    "\n",
    "* `true` truns into \"true\"; false turns into \"false\".\n",
    "\n",
    "* `Numbers` are converted with the same algorithm as `toString(10)`.\n",
    "\n",
    "* `BigInts` are converted with the same algorithm as `toString(10)`.\n",
    "\n",
    "* `Symbols throw a` `\"TypeError\"`.\n"
   ]
  },
  {
   "cell_type": "code",
   "execution_count": null,
   "id": "c9d63714-1e0f-42d0-b72d-118b3a846717",
   "metadata": {},
   "outputs": [],
   "source": []
  }
 ],
 "metadata": {
  "kernelspec": {
   "display_name": "JavaScript (Node.js)",
   "language": "javascript",
   "name": "javascript"
  },
  "language_info": {
   "file_extension": ".js",
   "mimetype": "application/javascript",
   "name": "javascript",
   "version": "16.17.0"
  }
 },
 "nbformat": 4,
 "nbformat_minor": 5
}
