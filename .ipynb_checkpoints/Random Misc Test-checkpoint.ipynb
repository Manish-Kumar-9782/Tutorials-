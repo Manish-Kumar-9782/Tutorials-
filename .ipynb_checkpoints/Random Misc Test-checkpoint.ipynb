{
 "cells": [
  {
   "cell_type": "code",
   "execution_count": 1,
   "id": "rubber-cleaners",
   "metadata": {},
   "outputs": [],
   "source": [
    "import tkinter as tk"
   ]
  },
  {
   "cell_type": "code",
   "execution_count": 16,
   "id": "black-sunset",
   "metadata": {},
   "outputs": [],
   "source": [
    "root = tk.Tk()\n",
    "\n",
    "entry_var = tk.StringVar()\n",
    "label = tk.Label(root, text='Color Value: ')\n",
    "entry1 = tk.Entry(root, textvariable = entry_var, font=('sarif',12))\n",
    "label1 = tk.Label(root, width = 50, height = 10, bg='white')\n",
    "button1 = tk.Button(root, text='Set Color')\n",
    "\n",
    "xpad = 10\n",
    "\n",
    "label.place(x=10,y=10)\n",
    "entry1.pack(pady=(10,5), padx = xpad)\n",
    "label1.pack(pady=5,padx = xpad)\n",
    "button1.pack(pady=5, padx = xpad)\n",
    "\n",
    "\n",
    "def get_color():\n",
    "    print(\"selected color: \",entry_var.get())\n",
    "    label1.config(bg=entry_var.get())\n",
    "\n",
    "    \n",
    "button1.config(command = get_color)\n",
    "root.mainloop()"
   ]
  },
  {
   "cell_type": "code",
   "execution_count": 31,
   "id": "equipped-crash",
   "metadata": {},
   "outputs": [
    {
     "name": "stdout",
     "output_type": "stream",
     "text": [
      "Fixedsys\n",
      "<VirtualEvent event x=0 y=0>\n",
      "Terminal\n",
      "<VirtualEvent event x=0 y=0>\n",
      "System\n",
      "<VirtualEvent event x=0 y=0>\n",
      "8514oem\n",
      "<VirtualEvent event x=0 y=0>\n",
      "Fixedsys\n",
      "<VirtualEvent event x=0 y=0>\n"
     ]
    }
   ],
   "source": [
    "import tkinter as tk\n",
    "from tkinter import ttk, font\n",
    "root = tk.Tk()\n",
    "\n",
    "entry_var = tk.StringVar()\n",
    "\n",
    "font_list = font.families(root)\n",
    "entry_var.set(font_list[0])\n",
    "\n",
    "\n",
    "text = \"Almost before we knew it, we had left the ground.\"\n",
    "\n",
    "label = tk.Label(root, text='Color Value: ')\n",
    "entry1 = ttk.Combobox(root, textvariable = entry_var, values=font_list )\n",
    "label1 = tk.Message(root, text=text , aspect = 400, font = ('sarif', 20))\n",
    "\n",
    "\n",
    "xpad = 10\n",
    "\n",
    "label.place(x=10,y=10)\n",
    "entry1.pack(pady=(10,5), padx = xpad)\n",
    "label1.pack(pady=5,padx = xpad)\n",
    "\n",
    "def get_text(event):\n",
    "    print(entry_var.get())\n",
    "    label1.config(font = (entry_var.get(),20))\n",
    "    print(event)\n",
    "    \n",
    "entry1.bind(\"<<ComboboxSelected>>\", get_text)\n",
    "\n",
    "root.mainloop()"
   ]
  },
  {
   "cell_type": "markdown",
   "id": "identified-wages",
   "metadata": {},
   "source": [
    "### Testing of ttk.Checkbutton label text overstrike"
   ]
  },
  {
   "cell_type": "code",
   "execution_count": 37,
   "id": "experienced-campaign",
   "metadata": {},
   "outputs": [],
   "source": [
    "import tkinter as tk\n",
    "from tkinter import ttk, font"
   ]
  },
  {
   "cell_type": "code",
   "execution_count": 38,
   "id": "colonial-dream",
   "metadata": {},
   "outputs": [],
   "source": []
  },
  {
   "cell_type": "code",
   "execution_count": 55,
   "id": "lovely-brush",
   "metadata": {},
   "outputs": [
    {
     "name": "stdout",
     "output_type": "stream",
     "text": [
      "selected\n",
      "deselected!\n",
      "selected\n",
      "deselected!\n",
      "selected\n",
      "deselected!\n",
      "selected\n",
      "deselected!\n"
     ]
    }
   ],
   "source": [
    "# Now we need make some checkbutton \n",
    "\n",
    "root = tk.Tk()\n",
    "\n",
    "normal = font.Font(root, family='sarif', size=12)\n",
    "overstriked = font.Font(root, family='sarif', size=12, overstrike=1)\n",
    "\n",
    "style = ttk.Style()\n",
    "style.configure('UnCheck.TCheckbutton', font=normal)\n",
    "style.configure(\"Check.TCheckbutton\", font=overstriked)\n",
    "\n",
    "\n",
    "textvar = tk.StringVar()\n",
    "textvar.set('Hello this is test trial!')\n",
    "var = tk.IntVar()\n",
    "var.set(0)\n",
    "\n",
    "\n",
    "check  = ttk.Checkbutton(root, textvariable = textvar, variable=var, style = 'UnCheck.TCheckbutton')\n",
    "check.pack(pady=50)\n",
    "\n",
    "def oncheck(event):\n",
    "    result =var.get() \n",
    "\n",
    "    if not result:  # selected\n",
    "        print(\"selected\")\n",
    "        check.configure(style = \"Check.TCheckbutton\")\n",
    "    else:   # Not selected.\n",
    "        print(\"deselected!\")\n",
    "        check.configure(style= \"UnCheck.TCheckbutton\")\n",
    "\n",
    "check.bind(\"<Button-1>\", oncheck)\n",
    "root.mainloop()"
   ]
  },
  {
   "cell_type": "markdown",
   "id": "inside-little",
   "metadata": {},
   "source": [
    "#### tkinter ttk frame test"
   ]
  },
  {
   "cell_type": "code",
   "execution_count": 3,
   "id": "political-refund",
   "metadata": {},
   "outputs": [],
   "source": [
    "import tkinter as tk\n",
    "from tkinter import ttk"
   ]
  },
  {
   "cell_type": "code",
   "execution_count": 5,
   "id": "executive-kinase",
   "metadata": {},
   "outputs": [
    {
     "name": "stdout",
     "output_type": "stream",
     "text": [
      "TFrame\n"
     ]
    }
   ],
   "source": [
    "root = tk.Tk()\n",
    "\n",
    "style= ttk.Style()\n",
    "\n",
    "\n",
    "frame = ttk.Frame(root, width=250, height=300)\n",
    "frame.pack()\n",
    "print(frame.winfo_class())\n",
    "root.mainloop()"
   ]
  },
  {
   "cell_type": "code",
   "execution_count": null,
   "id": "built-boxing",
   "metadata": {},
   "outputs": [],
   "source": []
  }
 ],
 "metadata": {
  "kernelspec": {
   "display_name": "Python 3",
   "language": "python",
   "name": "python3"
  },
  "language_info": {
   "codemirror_mode": {
    "name": "ipython",
    "version": 3
   },
   "file_extension": ".py",
   "mimetype": "text/x-python",
   "name": "python",
   "nbconvert_exporter": "python",
   "pygments_lexer": "ipython3",
   "version": "3.8.3"
  }
 },
 "nbformat": 4,
 "nbformat_minor": 5
}
