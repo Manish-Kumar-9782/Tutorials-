{
 "cells": [
  {
   "cell_type": "markdown",
   "metadata": {},
   "source": [
    "# Classes in javaScript\n",
    "\n",
    "A Javascript class is a blueprint for creating Objects. A class ecapsulates (bind mulitple things in an entity) data and functions that munipulate data.\n",
    "\n",
    "In JavaScript classes are the simple way to design the objects, it works like a syntatic sugar over the *prototypal inheritance*. In other words,classes are just special functtions."
   ]
  },
  {
   "cell_type": "markdown",
   "metadata": {},
   "source": [
    "**Note:** if we don't use the classes then we have to use the constructor/prototype pattern to bind the object data and method which is a very tidious task. an example of the constructor and prototypal can be seen as showing below."
   ]
  },
  {
   "cell_type": "code",
   "execution_count": 1,
   "metadata": {},
   "outputs": [
    {
     "name": "stdout",
     "output_type": "stream",
     "text": [
      "Person { name: 'person', age: 22, height: 5.6 }\n"
     ]
    }
   ],
   "source": [
    "// first we need to create a constructor function\n",
    "function Person(name, age, height){\n",
    "    this.name = name;\n",
    "    this.age = age;\n",
    "    this.height = height;\n",
    "};\n",
    "\n",
    "// Now if we want to add any method to work on the Person then we need \n",
    "// to use the proptotypal method as shown below.\n",
    "Person.prototype.showinfo = function(){\n",
    "    console.log(`Name:\\t ${this.name}`);\n",
    "    console.log(`Age:\\t ${this.age}`);\n",
    "    console.log(`Height:\\t ${this.height}`);\n",
    "};\n",
    "\n",
    "// Now if we create an object of the person then we can use\n",
    "let person = new Person(\"person\", 22, 5.6);\n",
    "console.log(person)"
   ]
  },
  {
   "cell_type": "markdown",
   "metadata": {},
   "source": [
    "**Process of object with constructor & prototypal mechanism**\n",
    "\n",
    "1. First it creates the `Person` as a constructor function that has some properties.\n",
    "2. The `showinfo()` function is assigned to the prototype so that it can be shared by all instance of the Person type.\n",
    "3. The, create a new instance of the `Person` type using the `new` operator. \n",
    "4. Now an object is create `person` (in our case) and `Object` through prototypal inheritance."
   ]
  },
  {
   "cell_type": "markdown",
   "metadata": {},
   "source": [
    "## Classes in JavaScript\n",
    "\n",
    "If we use the classes in the javascript the above process will be very easy to do since all the code will be written a single block which does not require any prototypal inheritance."
   ]
  },
  {
   "cell_type": "markdown",
   "metadata": {},
   "source": [
    "**Syntax**\n",
    "\n",
    "```js\n",
    "    class <class_name>{\n",
    "        // static or non static properties\n",
    "        // constructor for the Person.\n",
    "        // some method for the Person.\n",
    "    }\n",
    "```\n",
    "\n",
    "`constructor:` Constructor is special kind of function inside the javascirpt class which called during creating the new object of that class. by constructor we can assign the values to the object properties and we can provide some security layer over the assigning value during the construction of the object.\n",
    "\n",
    "`properties:` These are the variable which hold the data of the object, these variables are known as the properties of the object.\n",
    "\n",
    "`method:` These are the function binded to the object and used for manipulate/(to work on) the data of the object."
   ]
  },
  {
   "cell_type": "code",
   "execution_count": null,
   "metadata": {},
   "outputs": [],
   "source": [
    "class Person{\n",
    "\n",
    "    // constructor which will take some arguments.\n",
    "    constructor(name, age, height){\n",
    "        this.name = name;\n",
    "        this.age = age;\n",
    "        this.height = height;\n",
    "        // this constructor will take and assign all the values to their\n",
    "        // corresponding properties.\n",
    "    }\n",
    "\n",
    "    showinfo(){\n",
    "        console.log(`Name:\\t ${this.name}`);\n",
    "        console.log(`Age:\\t ${this.age}`);\n",
    "        console.log(`Height:\\t ${this.height}`);\n",
    "    }\n",
    "\n",
    "\n",
    "}"
   ]
  }
 ],
 "metadata": {
  "kernelspec": {
   "display_name": "JavaScript (Node.js)",
   "language": "javascript",
   "name": "javascript"
  },
  "language_info": {
   "file_extension": ".js",
   "mimetype": "application/javascript",
   "name": "javascript",
   "version": "16.17.0"
  },
  "orig_nbformat": 4
 },
 "nbformat": 4,
 "nbformat_minor": 2
}
