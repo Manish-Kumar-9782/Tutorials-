{
 "cells": [
  {
   "cell_type": "markdown",
   "id": "a67fe788-eb18-405d-8894-467811b5b9fd",
   "metadata": {},
   "source": [
    "# Dictionary In Python"
   ]
  },
  {
   "cell_type": "markdown",
   "id": "ba1444b4-98d7-41b6-bfba-bc6faabbfcbe",
   "metadata": {},
   "source": [
    "In this section we will see that what is dictionary in python and how to use it."
   ]
  },
  {
   "cell_type": "markdown",
   "id": "22b7d275-189e-40b7-8839-fc58a206a998",
   "metadata": {},
   "source": [
    "### Dictionary:"
   ]
  },
  {
   "cell_type": "markdown",
   "id": "492f1beb-1d29-43b5-bc55-4abd0df89ab3",
   "metadata": {},
   "source": [
    "**Dictionary in Python** is an unordered collection of data values, used to store data values like a map, which, unlike other data types which hold only a single value as an element.\n",
    "\n",
    "Dictionary holds key:value pair. in dictionary we can access any value by using it's key. since accessing of any element has time complexity O(1) therefore it very efficient to store relational kind of data with key and value pair."
   ]
  },
  {
   "cell_type": "markdown",
   "id": "95071eec-7dec-4836-a43f-0fc934531867",
   "metadata": {},
   "source": [
    "##### Help on dict:\n",
    "\n",
    "if we use the help function on the dict class it will give us the all the useful information of the it's member methods with many special kind of method."
   ]
  },
  {
   "cell_type": "code",
   "execution_count": 3,
   "id": "dba68b1a-8618-473f-b57a-ffcf58a7df65",
   "metadata": {},
   "outputs": [
    {
     "name": "stdout",
     "output_type": "stream",
     "text": [
      "Help on class dict in module builtins:\n",
      "\n",
      "class dict(object)\n",
      " |  dict() -> new empty dictionary\n",
      " |  dict(mapping) -> new dictionary initialized from a mapping object's\n",
      " |      (key, value) pairs\n",
      " |  dict(iterable) -> new dictionary initialized as if via:\n",
      " |      d = {}\n",
      " |      for k, v in iterable:\n",
      " |          d[k] = v\n",
      " |  dict(**kwargs) -> new dictionary initialized with the name=value pairs\n",
      " |      in the keyword argument list.  For example:  dict(one=1, two=2)\n",
      " |  \n",
      " |  Built-in subclasses:\n",
      " |      StgDict\n",
      " |  \n",
      " |  Methods defined here:\n",
      " |  \n",
      " |  __contains__(self, key, /)\n",
      " |      True if the dictionary has the specified key, else False.\n",
      " |  \n",
      " |  __delitem__(self, key, /)\n",
      " |      Delete self[key].\n",
      " |  \n",
      " |  __eq__(self, value, /)\n",
      " |      Return self==value.\n",
      " |  \n",
      " |  __ge__(self, value, /)\n",
      " |      Return self>=value.\n",
      " |  \n",
      " |  __getattribute__(self, name, /)\n",
      " |      Return getattr(self, name).\n",
      " |  \n",
      " |  __getitem__(...)\n",
      " |      x.__getitem__(y) <==> x[y]\n",
      " |  \n",
      " |  __gt__(self, value, /)\n",
      " |      Return self>value.\n",
      " |  \n",
      " |  __init__(self, /, *args, **kwargs)\n",
      " |      Initialize self.  See help(type(self)) for accurate signature.\n",
      " |  \n",
      " |  __iter__(self, /)\n",
      " |      Implement iter(self).\n",
      " |  \n",
      " |  __le__(self, value, /)\n",
      " |      Return self<=value.\n",
      " |  \n",
      " |  __len__(self, /)\n",
      " |      Return len(self).\n",
      " |  \n",
      " |  __lt__(self, value, /)\n",
      " |      Return self<value.\n",
      " |  \n",
      " |  __ne__(self, value, /)\n",
      " |      Return self!=value.\n",
      " |  \n",
      " |  __repr__(self, /)\n",
      " |      Return repr(self).\n",
      " |  \n",
      " |  __reversed__(self, /)\n",
      " |      Return a reverse iterator over the dict keys.\n",
      " |  \n",
      " |  __setitem__(self, key, value, /)\n",
      " |      Set self[key] to value.\n",
      " |  \n",
      " |  __sizeof__(...)\n",
      " |      D.__sizeof__() -> size of D in memory, in bytes\n",
      " |  \n",
      " |  clear(...)\n",
      " |      D.clear() -> None.  Remove all items from D.\n",
      " |  \n",
      " |  copy(...)\n",
      " |      D.copy() -> a shallow copy of D\n",
      " |  \n",
      " |  get(self, key, default=None, /)\n",
      " |      Return the value for key if key is in the dictionary, else default.\n",
      " |  \n",
      " |  items(...)\n",
      " |      D.items() -> a set-like object providing a view on D's items\n",
      " |  \n",
      " |  keys(...)\n",
      " |      D.keys() -> a set-like object providing a view on D's keys\n",
      " |  \n",
      " |  pop(...)\n",
      " |      D.pop(k[,d]) -> v, remove specified key and return the corresponding value.\n",
      " |      If key is not found, d is returned if given, otherwise KeyError is raised\n",
      " |  \n",
      " |  popitem(self, /)\n",
      " |      Remove and return a (key, value) pair as a 2-tuple.\n",
      " |      \n",
      " |      Pairs are returned in LIFO (last-in, first-out) order.\n",
      " |      Raises KeyError if the dict is empty.\n",
      " |  \n",
      " |  setdefault(self, key, default=None, /)\n",
      " |      Insert key with a value of default if key is not in the dictionary.\n",
      " |      \n",
      " |      Return the value for key if key is in the dictionary, else default.\n",
      " |  \n",
      " |  update(...)\n",
      " |      D.update([E, ]**F) -> None.  Update D from dict/iterable E and F.\n",
      " |      If E is present and has a .keys() method, then does:  for k in E: D[k] = E[k]\n",
      " |      If E is present and lacks a .keys() method, then does:  for k, v in E: D[k] = v\n",
      " |      In either case, this is followed by: for k in F:  D[k] = F[k]\n",
      " |  \n",
      " |  values(...)\n",
      " |      D.values() -> an object providing a view on D's values\n",
      " |  \n",
      " |  ----------------------------------------------------------------------\n",
      " |  Class methods defined here:\n",
      " |  \n",
      " |  fromkeys(iterable, value=None, /) from builtins.type\n",
      " |      Create a new dictionary with keys from iterable and values set to value.\n",
      " |  \n",
      " |  ----------------------------------------------------------------------\n",
      " |  Static methods defined here:\n",
      " |  \n",
      " |  __new__(*args, **kwargs) from builtins.type\n",
      " |      Create and return a new object.  See help(type) for accurate signature.\n",
      " |  \n",
      " |  ----------------------------------------------------------------------\n",
      " |  Data and other attributes defined here:\n",
      " |  \n",
      " |  __hash__ = None\n",
      "\n"
     ]
    }
   ],
   "source": [
    "help(dict)"
   ]
  },
  {
   "cell_type": "markdown",
   "id": "27733c28-aceb-4d38-ba16-faa22d009cfc",
   "metadata": {},
   "source": [
    "As we can see that dict has many  special and normal use methods, but in this section we will focus on the normal user methods, Which are."
   ]
  },
  {
   "cell_type": "markdown",
   "id": "8a537654-6b59-4520-a6f0-d42d1c4187c1",
   "metadata": {},
   "source": [
    "* copy()\n",
    "* clear()\n",
    "* fromkeys()\n",
    "* update()\n",
    "* items()\n",
    "* keys()\n",
    "* values()\n",
    "* pop()\n",
    "* popitem()\n",
    "* get()\n",
    "* setdefault()"
   ]
  },
  {
   "cell_type": "markdown",
   "id": "863868e3-28d3-46ba-b852-7eddd03af0ca",
   "metadata": {},
   "source": [
    "Now we will see one by one on each method and we will see their working example. "
   ]
  },
  {
   "cell_type": "markdown",
   "id": "c2b4ac15-6474-4e5b-9aa3-b6073f53a1ce",
   "metadata": {},
   "source": [
    "To perfrom all the above operation we will make dictionary with some key and values."
   ]
  },
  {
   "cell_type": "code",
   "execution_count": 4,
   "id": "c5695b8b-49f4-4a68-8416-77e638af66cd",
   "metadata": {},
   "outputs": [],
   "source": [
    "dict1 = {\"Name\": \"Manish\",\n",
    "        \"Age\": 26,\n",
    "        \"hight\": 5.5,\n",
    "        \"Contact\": 1234567890}"
   ]
  },
  {
   "cell_type": "markdown",
   "id": "d09a1dfb-e56f-4188-9361-acb7300b37da",
   "metadata": {},
   "source": [
    "### copy() method:\n",
    "\n",
    "This method is used to make a shallow copy of the dictionary items and return a new dictionary with new reference.\n",
    "\n",
    "This copy method is usefull when we don't want to change the data of the our original dictionary and want to work on it, then we can use the copy method."
   ]
  },
  {
   "cell_type": "code",
   "execution_count": 5,
   "id": "fbdce7f1-4e53-4e90-8f81-826cd12ac55d",
   "metadata": {},
   "outputs": [
    {
     "data": {
      "text/plain": [
       "{'Name': 'Manish', 'Age': 26, 'hight': 5.5, 'Contact': 1234567890}"
      ]
     },
     "execution_count": 5,
     "metadata": {},
     "output_type": "execute_result"
    }
   ],
   "source": [
    "# first of all we will check our dict1 \n",
    "dict1"
   ]
  },
  {
   "cell_type": "markdown",
   "id": "9bce7728-9dff-4c1d-962d-43f358c0ac2d",
   "metadata": {},
   "source": [
    "As we can see that we have a dictionary which has 4 items. Now we will make a copy of this dict1 and store it in dict2"
   ]
  },
  {
   "cell_type": "code",
   "execution_count": 6,
   "id": "51861f38-5ee2-4294-850f-df26ef32105f",
   "metadata": {},
   "outputs": [
    {
     "data": {
      "text/plain": [
       "{'Name': 'Manish', 'Age': 26, 'hight': 5.5, 'Contact': 1234567890}"
      ]
     },
     "execution_count": 6,
     "metadata": {},
     "output_type": "execute_result"
    }
   ],
   "source": [
    "# coping dict1 into dict2\n",
    "dict2 = dict1.copy()\n",
    "dict2"
   ]
  },
  {
   "cell_type": "markdown",
   "id": "b1f63e70-27df-4659-b746-1d803aede0dd",
   "metadata": {},
   "source": [
    "As you can see that we have created a new dictionary by copying all the item of dict1 into dict2. if we check that they are both different dictionary then we can do that by chekcking their ids"
   ]
  },
  {
   "cell_type": "code",
   "execution_count": 7,
   "id": "9ea97df3-5389-477e-b4ab-f75e157444fa",
   "metadata": {},
   "outputs": [
    {
     "data": {
      "text/plain": [
       "False"
      ]
     },
     "execution_count": 7,
     "metadata": {},
     "output_type": "execute_result"
    }
   ],
   "source": [
    "# checking by id\n",
    "id(dict1) == id(dict2)"
   ]
  },
  {
   "cell_type": "code",
   "execution_count": 8,
   "id": "b0d40062-e967-442e-bd58-c733e45bae83",
   "metadata": {},
   "outputs": [
    {
     "data": {
      "text/plain": [
       "False"
      ]
     },
     "execution_count": 8,
     "metadata": {},
     "output_type": "execute_result"
    }
   ],
   "source": [
    "# checking by is operator\n",
    "dict1 is dict2"
   ]
  },
  {
   "cell_type": "markdown",
   "id": "80155d1d-e8ac-4d95-9d64-a9c53e7c6978",
   "metadata": {},
   "source": [
    "Conclusion: Now we know that both the dicitonaries are different because they have differrent reference.\n",
    "\n",
    "It means that when use the copy method on dict1 object it copied all the items into a new dictionary and allocate it to the dict2 object."
   ]
  },
  {
   "cell_type": "markdown",
   "id": "42f74147-7b51-45dd-95c1-76f96e965432",
   "metadata": {},
   "source": [
    "___"
   ]
  },
  {
   "cell_type": "markdown",
   "id": "1c91dae3-a233-4d0b-bb0e-b17ed9dd2735",
   "metadata": {},
   "source": [
    "### clear() Method\n",
    "\n",
    "This method is used to remove all the items or delete all the items from a dictionary. \n",
    "\n",
    "Now we will delete the dict2 items."
   ]
  },
  {
   "cell_type": "code",
   "execution_count": 9,
   "id": "83c98aeb-eb70-4dde-83b6-10e624b76360",
   "metadata": {},
   "outputs": [],
   "source": [
    "# deleting all items from dict2 \n",
    "dict2.clear()"
   ]
  },
  {
   "cell_type": "code",
   "execution_count": 10,
   "id": "f579702e-51bb-4bf8-9574-ab730692f5e0",
   "metadata": {},
   "outputs": [
    {
     "data": {
      "text/plain": [
       "{}"
      ]
     },
     "execution_count": 10,
     "metadata": {},
     "output_type": "execute_result"
    }
   ],
   "source": [
    "# Now if we check the dict2 item than there will be nothing, it will be empty\n",
    "dict2"
   ]
  },
  {
   "cell_type": "markdown",
   "id": "d104cca4-26e0-46e5-aad3-60a3a205b59e",
   "metadata": {},
   "source": [
    "this is empty dictionary."
   ]
  },
  {
   "cell_type": "markdown",
   "id": "382eec46-ae0b-434e-b25d-805c6778c91a",
   "metadata": {},
   "source": [
    "___"
   ]
  },
  {
   "cell_type": "markdown",
   "id": "701cbcd6-ecb4-4a18-a596-99957f4fef39",
   "metadata": {},
   "source": [
    "### items() Method\n",
    "\n",
    "This method is used to retrieve all the `key and value` pair called items of the dictionaries in a sequence called dict_items.All the items are packed in dict_item object, which they are placed as `(key, value)` pair tuple.\n",
    "\n",
    "Note: we are again copying all the item of dict1 into dict2, so we don't change our original dict1 by mistake."
   ]
  },
  {
   "cell_type": "code",
   "execution_count": 11,
   "id": "2fd362b6-88f2-43bc-b614-167869888777",
   "metadata": {},
   "outputs": [
    {
     "data": {
      "text/plain": [
       "{'Name': 'Manish', 'Age': 26, 'hight': 5.5, 'Contact': 1234567890}"
      ]
     },
     "execution_count": 11,
     "metadata": {},
     "output_type": "execute_result"
    }
   ],
   "source": [
    "# copying dict1 again into dict2\n",
    "dict2 = dict1.copy()\n",
    "dict2"
   ]
  },
  {
   "cell_type": "markdown",
   "id": "6a36042f-9101-4a13-b2bc-1510b2e6e769",
   "metadata": {},
   "source": [
    "**Retrieveing the items**"
   ]
  },
  {
   "cell_type": "code",
   "execution_count": 12,
   "id": "7c32a7e5-1b18-424b-a858-0d0bc2446032",
   "metadata": {},
   "outputs": [
    {
     "data": {
      "text/plain": [
       "dict_items([('Name', 'Manish'), ('Age', 26), ('hight', 5.5), ('Contact', 1234567890)])"
      ]
     },
     "execution_count": 12,
     "metadata": {},
     "output_type": "execute_result"
    }
   ],
   "source": [
    "dict_items = dict1.items()\n",
    "dict_items"
   ]
  },
  {
   "cell_type": "markdown",
   "id": "05471513-18a1-403f-a0e3-9208c17d89a2",
   "metadata": {},
   "source": [
    "As you can see that we have all the items in `(key, value)` pair.\n",
    "* This dict itme is iterable, means we can run a for loop on it.\n",
    "* return -----> this will return view objects dict_items.\n",
    "* In a for loop it will give each item as a tuple of `(key, value)` pair.\n",
    "* We can't perform the indexing operation on the dict_item like we do on lists."
   ]
  },
  {
   "cell_type": "markdown",
   "id": "9d00e147-45e5-4168-8e2b-1e7df3282e69",
   "metadata": {},
   "source": [
    "**A simple use of items method**\n",
    "\n",
    "Suppose that we want to display all the key and values of a given list in a simple format. To do that we need to get each item. \n",
    "and use the simple formatting on the key and values. As given in below example"
   ]
  },
  {
   "cell_type": "code",
   "execution_count": 13,
   "id": "e4fc46c1-cf7f-4d6a-9806-9897062de15a",
   "metadata": {},
   "outputs": [
    {
     "name": "stdout",
     "output_type": "stream",
     "text": [
      "Name \t\tManish\n",
      "Age \t\t26\n",
      "hight \t\t5.5\n",
      "Contact \t\t1234567890\n"
     ]
    }
   ],
   "source": [
    "# simple formatting to display the key and values pair.\n",
    "# in this we will use the for loop to access the each element.\n",
    "\n",
    "for item in dict1.items():\n",
    "    \n",
    "    # Now we will unpack the key and value form the item.\n",
    "    key, value = item \n",
    "    \n",
    "    # now we need to make a simple format to display all the items.\n",
    "    print(f\"{key} \\t\\t{value}\")"
   ]
  },
  {
   "cell_type": "markdown",
   "id": "5e4ccb14-6a2e-4470-9436-5df48a764a2a",
   "metadata": {},
   "source": [
    "**Another formatting**"
   ]
  },
  {
   "cell_type": "code",
   "execution_count": 14,
   "id": "41d459ed-8b0d-413b-9e1e-c0e8b94fa8a9",
   "metadata": {},
   "outputs": [
    {
     "name": "stdout",
     "output_type": "stream",
     "text": [
      " Name        Manish    \n",
      " Age         26        \n",
      " hight       5.5       \n",
      " Contact     1234567890\n"
     ]
    }
   ],
   "source": [
    "for item in dict1.items():\n",
    "    \n",
    "    # Now we will unpack the key and value form the item.\n",
    "    key, value = item \n",
    "    \n",
    "    # now we need to make a simple format to display all the items.\n",
    "    print(\" %-10s  %-10s\" % (key, value))"
   ]
  },
  {
   "cell_type": "markdown",
   "id": "968e0896-8ac2-41f8-8001-b2f8fbb67a29",
   "metadata": {},
   "source": [
    "`Note:` This was just a simple example of how to use dict_items by using the loop in other section we may work on different kind of problem related to the dictionary. "
   ]
  },
  {
   "cell_type": "markdown",
   "id": "4ed82af2-0358-4775-9a64-d38a015e8eed",
   "metadata": {},
   "source": [
    "____"
   ]
  },
  {
   "cell_type": "markdown",
   "id": "f6de6d86-9648-4486-b592-7b1cbb6b228e",
   "metadata": {},
   "source": [
    "### keys() Method\n",
    "\n",
    "We have seen that how `items()` method gives use the `dict_items`, in similar manner keys methods gives us the `dict_keys` in which this object contain only keys of the dictionary.\n",
    "\n",
    "* This method is useful where we only want to work with the keys of the dictionary.\n",
    "* There are many problem which where we can use the keys() method.\n",
    "* return --> this will return view objects dict_keys.\n",
    "* we can't perform the indexing operation (not subscriptable) on the dict_keys.\n",
    "* we can access them by for loop."
   ]
  },
  {
   "cell_type": "markdown",
   "id": "abbec5ea-370d-413f-80d2-b6edccd73cf5",
   "metadata": {},
   "source": [
    "**A Simple use of keys method**"
   ]
  },
  {
   "cell_type": "code",
   "execution_count": 15,
   "id": "826b89ae-542a-49f9-8e8d-ec90969c59ac",
   "metadata": {},
   "outputs": [
    {
     "name": "stdout",
     "output_type": "stream",
     "text": [
      "Name\n",
      "Age\n",
      "hight\n",
      "Contact\n"
     ]
    }
   ],
   "source": [
    "# In this section we will see that how to use the keys method.\n",
    "# accessing the keys by using the loop\n",
    "\n",
    "for key in dict1.keys():\n",
    "    print(key)"
   ]
  },
  {
   "cell_type": "code",
   "execution_count": 16,
   "id": "bf0880db-4461-49ef-97a1-b017363c28a5",
   "metadata": {},
   "outputs": [
    {
     "data": {
      "text/plain": [
       "['Name', 'Age', 'hight', 'Contact']"
      ]
     },
     "execution_count": 16,
     "metadata": {},
     "output_type": "execute_result"
    }
   ],
   "source": [
    "# converting the dict_item into a list.\n",
    "\n",
    "dict_list = list(dict1.keys())\n",
    "dict_list"
   ]
  },
  {
   "cell_type": "markdown",
   "id": "945ee9c5-cf1a-4c22-801d-09a97cb44dcc",
   "metadata": {},
   "source": [
    "Now on this list we can perform the indexing or slicing operation, and also all the operation of the list object."
   ]
  },
  {
   "cell_type": "code",
   "execution_count": 17,
   "id": "e8cbd8c0-e23a-4464-bcab-e56def058fc3",
   "metadata": {},
   "outputs": [
    {
     "data": {
      "text/plain": [
       "('Name', 'Age', 'hight', 'Contact')"
      ]
     },
     "execution_count": 17,
     "metadata": {},
     "output_type": "execute_result"
    }
   ],
   "source": [
    "#  converting the dict_item into a tuple\n",
    "dict_tuple = tuple(dict1.keys())\n",
    "dict_tuple"
   ]
  },
  {
   "cell_type": "markdown",
   "id": "5705ee32-9370-4a2a-9163-bfb7f65f3ae7",
   "metadata": {},
   "source": [
    "Now on this tuple we can perfrom the indexing or slicing, and other tuple operations, which are limited."
   ]
  },
  {
   "cell_type": "markdown",
   "id": "7c60053f-0553-4714-bfcd-5edacf10640d",
   "metadata": {},
   "source": [
    "Note: To increase/maintain the performance efficiency don't convert the dict_keys or dict_items into list or tuple unecessary."
   ]
  },
  {
   "cell_type": "markdown",
   "id": "aa7db6d8-0326-4dcf-bd5c-d3585ce47b66",
   "metadata": {},
   "source": [
    "____"
   ]
  },
  {
   "cell_type": "markdown",
   "id": "0b0f853b-21ea-4df9-9332-2dd75cad0ff4",
   "metadata": {},
   "source": [
    "### values() Method\n",
    "\n",
    "This method gives us an object `dict_values` which contain all the values contained by the dict object. \n",
    "\n",
    "* This `dict_values` object is iterable so we can use it in for loop.\n",
    "* return --> this will return view objects dict_values.\n",
    "* we can't perform the indexing operation (not subscriptable) on the dict_values.\n",
    "* we can access them by using for loop."
   ]
  },
  {
   "cell_type": "code",
   "execution_count": 18,
   "id": "a063006f-fe8a-477c-9ee7-dbacde8f5340",
   "metadata": {},
   "outputs": [
    {
     "data": {
      "text/plain": [
       "dict_values(['Manish', 26, 5.5, 1234567890])"
      ]
     },
     "execution_count": 18,
     "metadata": {},
     "output_type": "execute_result"
    }
   ],
   "source": [
    "# dict_values \n",
    "dict_values = dict1.values()\n",
    "dict_values"
   ]
  },
  {
   "cell_type": "markdown",
   "id": "02711e4b-b64c-48e0-899c-03240ac196be",
   "metadata": {},
   "source": [
    "Now as we can see that we have dict_values object, it contains all the values from the dict1 dictionary. we can iterate over these values by using the for loop, we can also convert these into list, tuple etc. according to our need."
   ]
  },
  {
   "cell_type": "code",
   "execution_count": 19,
   "id": "609a8702-5c01-422f-bcd8-ee1ddf059080",
   "metadata": {},
   "outputs": [
    {
     "name": "stdout",
     "output_type": "stream",
     "text": [
      "Name        Manish    \n",
      "Age         26        \n",
      "hight       5.5       \n",
      "Contact     1234567890\n"
     ]
    }
   ],
   "source": [
    "# a simple use of the dict_values and dict_keys together to make a formatted view.\n",
    "for key, value in zip(dict1.keys(), dict1.values()):\n",
    "    \n",
    "    print(\"%-10s  %-10s\" % (key, value))"
   ]
  },
  {
   "cell_type": "markdown",
   "id": "a0918c41-3f19-40db-a530-ee0ce946690d",
   "metadata": {},
   "source": [
    "\n",
    "`Conclusion:` Here you can see that we have created a formatted view of the key values by using the **keys()** and **values()** methods. we can use this view object in many type of problems, we will do them in dictionary exercise.\n",
    "\n",
    "`Note:` In this class we have used the **zip()** built-in function it will be discussed in the buil-in funciton section."
   ]
  },
  {
   "cell_type": "markdown",
   "id": "f2908930-f0a6-4c26-854a-69eec942546d",
   "metadata": {},
   "source": [
    "____"
   ]
  },
  {
   "cell_type": "markdown",
   "id": "3ebc2f4e-6401-4737-8119-aadd0d32e1ab",
   "metadata": {},
   "source": [
    "### update() Method\n",
    "\n",
    "In this section we will see another usefull method which is generally used to update the dictionary.\n",
    "\n",
    "* it will update the value of any key if it is already present inside the existing dictionary.\n",
    "* it will add a new entry in our dictionary if we don't have the given key in our dictionary.\n",
    "* return ----> None, it dones not return any thing.\n",
    "* args: as argument it can take a dict object, iterable or list of pairs.\n",
    "\n",
    "**Here a some Possible way to pass values in update method**\n",
    "\n",
    "* if we pass a single tuple/list of `(value1, value2)` in a list it will consider value1 as key, value2 as value.\n",
    "* if we pass a single dict with single/multiple enteries it will update all the existing values and make new entries for non-existing key.\n",
    "* if we pass multiple tuple of size two `(key, value)` pair then it will update existing keys values and add new entries.\n",
    "* if we pass multiple tuple of size greater than two it will raise error of mismatch length.\n",
    "* if we pass only two list contained by a list then it will consider first **list/seq as keys** list/seq and second **list/seq as values** list/seq. "
   ]
  },
  {
   "cell_type": "code",
   "execution_count": 20,
   "id": "fb8122fd-df64-42bc-841a-5b562bcf7621",
   "metadata": {},
   "outputs": [
    {
     "name": "stdout",
     "output_type": "stream",
     "text": [
      "Help on method_descriptor:\n",
      "\n",
      "update(...)\n",
      "    D.update([E, ]**F) -> None.  Update D from dict/iterable E and F.\n",
      "    If E is present and has a .keys() method, then does:  for k in E: D[k] = E[k]\n",
      "    If E is present and lacks a .keys() method, then does:  for k, v in E: D[k] = v\n",
      "    In either case, this is followed by: for k in F:  D[k] = F[k]\n",
      "\n"
     ]
    }
   ],
   "source": [
    "# a basic description of the udpate method.\n",
    "help(dict.update)"
   ]
  },
  {
   "cell_type": "markdown",
   "id": "7c6b0355-f393-4839-98a7-b378ee90a728",
   "metadata": {},
   "source": [
    "Now we will make a new dict2 and we will update it by using the udpate method."
   ]
  },
  {
   "cell_type": "code",
   "execution_count": 21,
   "id": "e4d7c8c4-4e50-4f13-9b82-bd15079da12f",
   "metadata": {},
   "outputs": [],
   "source": [
    "dict2 = dict1.copy()"
   ]
  },
  {
   "cell_type": "code",
   "execution_count": 22,
   "id": "8a4f9c37-a030-4396-aaae-d86ccbfe5fda",
   "metadata": {},
   "outputs": [
    {
     "data": {
      "text/plain": [
       "{'Name': 'Manish', 'Age': 26, 'hight': 5.5, 'Contact': 1234567890}"
      ]
     },
     "execution_count": 22,
     "metadata": {},
     "output_type": "execute_result"
    }
   ],
   "source": [
    "dict2"
   ]
  },
  {
   "cell_type": "markdown",
   "id": "992bbf60-59ae-4c5c-a19f-72445f6d590a",
   "metadata": {},
   "source": [
    "Here we have a different dictionary, individual dictionary.\n",
    "\n",
    "--> Now we will udpate our dictionary in multiple ways."
   ]
  },
  {
   "cell_type": "markdown",
   "id": "4faf22c4-30fb-4724-855e-5bd3d5f1ea5b",
   "metadata": {},
   "source": [
    "#### 1.1 Updating the existing value\n",
    "\n",
    "if we want to update an existing value (considering that key already existing) we can use update method.\n",
    "\n",
    "**Updating: using dictionary**"
   ]
  },
  {
   "cell_type": "code",
   "execution_count": 23,
   "id": "4d635a8c-e7f9-4770-8c71-30f1aa92c02b",
   "metadata": {},
   "outputs": [
    {
     "data": {
      "text/plain": [
       "{'Name': 'Manish', 'Age': 26, 'hight': 5.5, 'Contact': 9874563210}"
      ]
     },
     "execution_count": 23,
     "metadata": {},
     "output_type": "execute_result"
    }
   ],
   "source": [
    "dict2.update({\"Contact\": 9874563210})\n",
    "dict2"
   ]
  },
  {
   "cell_type": "markdown",
   "id": "f93a1124-b1d9-4235-8046-0ddb31ea1e2c",
   "metadata": {},
   "source": [
    "Note: not there we have passed a dict object in the update method which contain only single `(key, value)` pair."
   ]
  },
  {
   "cell_type": "markdown",
   "id": "ea0a2efb-493d-40f1-a7e0-b2c6a222b240",
   "metadata": {},
   "source": [
    "**Updating: using tuple**"
   ]
  },
  {
   "cell_type": "code",
   "execution_count": 24,
   "id": "b487966e-15ce-486c-baf5-7df1dfe6af3e",
   "metadata": {},
   "outputs": [],
   "source": [
    "# Now here again we will update our dict2, now we willl update the Name.\n",
    "dict2.update([(\"Name\", \"Rahul\")])"
   ]
  },
  {
   "cell_type": "code",
   "execution_count": 25,
   "id": "bcc29fc5-aa38-43ab-8883-e58d221cd90f",
   "metadata": {},
   "outputs": [
    {
     "data": {
      "text/plain": [
       "{'Name': 'Rahul', 'Age': 26, 'hight': 5.5, 'Contact': 9874563210}"
      ]
     },
     "execution_count": 25,
     "metadata": {},
     "output_type": "execute_result"
    }
   ],
   "source": [
    "dict2"
   ]
  },
  {
   "cell_type": "markdown",
   "id": "decf1dee-2089-421b-814d-dc35c257967c",
   "metadata": {},
   "source": [
    "As you can see that before updating our Name was \"Manish\" and now it becomes \"Rahul\". \n",
    "\n",
    "`Note:` Here we should note that we have passed a single tuple contained by a list. \n"
   ]
  },
  {
   "cell_type": "markdown",
   "id": "9b6d0d47-5f3d-4389-b773-d22b319139ab",
   "metadata": {},
   "source": [
    "#### 1.2 Updating non-existing key-value pair\n",
    "\n",
    "if a key is not existing in our dictionary, then it will make a new entry in our dictionary."
   ]
  },
  {
   "cell_type": "code",
   "execution_count": 26,
   "id": "a75e1007-99f1-4127-8e93-95728fab313e",
   "metadata": {},
   "outputs": [
    {
     "data": {
      "text/plain": [
       "{'Name': 'Manish', 'Age': 26, 'hight': 5.5, 'Contact': 1234567890}"
      ]
     },
     "execution_count": 26,
     "metadata": {},
     "output_type": "execute_result"
    }
   ],
   "source": [
    "# inspecting our dicitonary\n",
    "dict1"
   ]
  },
  {
   "cell_type": "markdown",
   "id": "036b3642-32fd-4c62-8082-324fb7e62bab",
   "metadata": {},
   "source": [
    "Now in our dictionary we don't have **School** as key, if we use the update method with **(School, value)** then it will make a new entry for school key-value."
   ]
  },
  {
   "cell_type": "code",
   "execution_count": 27,
   "id": "32a74dda-a517-4e1b-9fdb-6af2532be4c9",
   "metadata": {},
   "outputs": [
    {
     "data": {
      "text/plain": [
       "{'Name': 'Manish',\n",
       " 'Age': 26,\n",
       " 'hight': 5.5,\n",
       " 'Contact': 1234567890,\n",
       " 'School': 'SMDJ'}"
      ]
     },
     "execution_count": 27,
     "metadata": {},
     "output_type": "execute_result"
    }
   ],
   "source": [
    "dict1.update([(\"School\", \"SMDJ\")])\n",
    "dict1"
   ]
  },
  {
   "cell_type": "markdown",
   "id": "d22023f1-8c26-43eb-8406-3a866885e962",
   "metadata": {},
   "source": [
    "As you can see that it has added a new entry of `(School, SMDJ)` in our dictionary."
   ]
  },
  {
   "cell_type": "markdown",
   "id": "fd5e9308-c229-4fb8-9b4d-a7c763fb612e",
   "metadata": {},
   "source": [
    "#### 1.3 Updating muliple values by using the update method.\n",
    "\n",
    "if we have multiple values then we can update or add new entries at once by using the **update()** method.\n",
    "\n",
    "* it will udpate exisitng `(key, value)` pair.\n",
    "* it will add new entry if key is not present."
   ]
  },
  {
   "cell_type": "code",
   "execution_count": 28,
   "id": "0ba67e19-813b-45f3-8efb-3a3baf24a572",
   "metadata": {},
   "outputs": [
    {
     "data": {
      "text/plain": [
       "{'Name': 'Rahul', 'Age': 26, 'hight': 5.5, 'Contact': 9874563210}"
      ]
     },
     "execution_count": 28,
     "metadata": {},
     "output_type": "execute_result"
    }
   ],
   "source": [
    "# inspecting our dictionary\n",
    "dict2"
   ]
  },
  {
   "cell_type": "markdown",
   "id": "629cfef6-91f1-4046-8578-fcdd46b7cdc2",
   "metadata": {},
   "source": [
    "**updateing Some existing and non-existing entries**"
   ]
  },
  {
   "cell_type": "code",
   "execution_count": 29,
   "id": "8758558c-ce61-466e-998d-088493eb2922",
   "metadata": {},
   "outputs": [],
   "source": [
    "dict2.update({\"Name\":\"Manish\",\n",
    "            \"Age\": 24,\n",
    "            \"School\":\"SMDJ\",\n",
    "            \"HomeTowm\":\"Dausa\"})"
   ]
  },
  {
   "cell_type": "code",
   "execution_count": 30,
   "id": "b69a779d-c617-490c-9c1f-6543eb932ab9",
   "metadata": {},
   "outputs": [
    {
     "data": {
      "text/plain": [
       "{'Name': 'Manish',\n",
       " 'Age': 24,\n",
       " 'hight': 5.5,\n",
       " 'Contact': 9874563210,\n",
       " 'School': 'SMDJ',\n",
       " 'HomeTowm': 'Dausa'}"
      ]
     },
     "execution_count": 30,
     "metadata": {},
     "output_type": "execute_result"
    }
   ],
   "source": [
    "dict2"
   ]
  },
  {
   "cell_type": "markdown",
   "id": "351bf94f-4cd5-4116-a323-65f9c92334b4",
   "metadata": {},
   "source": [
    "As you can see that it has updated the **Name** and **Age** values and it has made two new entries of **School** and **HomeTown**."
   ]
  },
  {
   "cell_type": "markdown",
   "id": "89b97eaf-a014-4313-9f5b-81cbafdd5130",
   "metadata": {},
   "source": [
    "We can also achieve the same result by passing the values in pair of key and values of tuple in a list."
   ]
  },
  {
   "cell_type": "markdown",
   "id": "63d3854c-c8f3-4004-a3b1-c4566609dd80",
   "metadata": {},
   "source": [
    "**Method2: updateing Some existing and non-existing entries**"
   ]
  },
  {
   "cell_type": "markdown",
   "id": "7e4bbcc1-e89c-4675-ad3b-b3b168ea191d",
   "metadata": {},
   "source": [
    "First of all we will reset our dictionary\n",
    "\n",
    "**Reseting our dict2**"
   ]
  },
  {
   "cell_type": "code",
   "execution_count": 31,
   "id": "5793af47-ea4f-4620-bf8d-300863b8a54f",
   "metadata": {},
   "outputs": [
    {
     "data": {
      "text/plain": [
       "{'Name': 'Manish', 'Age': 26, 'hight': 5.5, 'Contact': 1234567890}"
      ]
     },
     "execution_count": 31,
     "metadata": {},
     "output_type": "execute_result"
    }
   ],
   "source": [
    "dict2 = dict1.copy()\n",
    "del dict2[\"School\"]  # removing the School entry from the dict2.\n",
    "dict2"
   ]
  },
  {
   "cell_type": "markdown",
   "id": "91c766ce-2306-433b-baef-fd16e83ecd42",
   "metadata": {},
   "source": [
    "**updating**\n",
    "\n",
    "Now in this we will pass a list of tuple which contain the key,value paris."
   ]
  },
  {
   "cell_type": "code",
   "execution_count": 32,
   "id": "2303fd02-75b3-498e-b4dd-abce0b261296",
   "metadata": {},
   "outputs": [
    {
     "data": {
      "text/plain": [
       "{'Name': 'Rahul',\n",
       " 'Age': 24,\n",
       " 'hight': 5.5,\n",
       " 'Contact': 1234567890,\n",
       " 'School': 'SMDJ',\n",
       " 'HomeTown': 'Dausa'}"
      ]
     },
     "execution_count": 32,
     "metadata": {},
     "output_type": "execute_result"
    }
   ],
   "source": [
    "dict2.update([(\"Name\", \"Rahul\"), (\"Age\", 24), (\"School\", \"SMDJ\"), (\"HomeTown\", \"Dausa\")])\n",
    "dict2"
   ]
  },
  {
   "cell_type": "markdown",
   "id": "822e99b8-3450-4098-a4ef-90932765e8e9",
   "metadata": {},
   "source": [
    "As you can see that we have updated the existing values and added missing (non-existing values.)"
   ]
  },
  {
   "cell_type": "markdown",
   "id": "4fe1f848-7a04-487a-acd0-d0d30b626195",
   "metadata": {},
   "source": [
    "**Method3: updateing Some existing and non-existing entries**"
   ]
  },
  {
   "cell_type": "markdown",
   "id": "a986089f-2db2-489e-abce-ae42693dc002",
   "metadata": {},
   "source": [
    "In this we will pass two list or (iterable sequence) in a list.\n",
    "\n",
    "Note: these two list must be equal in length.\n",
    "\n",
    "**Reseting our dict2**"
   ]
  },
  {
   "cell_type": "code",
   "execution_count": 33,
   "id": "94862f28-2904-4e45-8a08-3a03972dd619",
   "metadata": {},
   "outputs": [
    {
     "data": {
      "text/plain": [
       "{'Name': 'Manish', 'Age': 26, 'hight': 5.5, 'Contact': 1234567890}"
      ]
     },
     "execution_count": 33,
     "metadata": {},
     "output_type": "execute_result"
    }
   ],
   "source": [
    "dict2 = dict1.copy()\n",
    "del dict2[\"School\"]  # removing the School entry from the dict2.\n",
    "dict2"
   ]
  },
  {
   "cell_type": "markdown",
   "id": "fdce00e9-fa3a-4e1a-b9f2-fd918b6ba876",
   "metadata": {},
   "source": [
    "**Updating**"
   ]
  },
  {
   "cell_type": "code",
   "execution_count": 46,
   "id": "0757001b-2609-4e40-b568-42a69ff3fa06",
   "metadata": {},
   "outputs": [],
   "source": [
    "maps = zip([\"Name\", \"Age\", \"School\", \"HomeTown\"],[\"Rahul\", 24, \"SMDJ\", \"Dausa\"])\n",
    "dict2.update([pair for pair in maps])"
   ]
  },
  {
   "cell_type": "code",
   "execution_count": 47,
   "id": "c9f0a2d8-e1f1-4c40-bb97-9298bfb11c15",
   "metadata": {},
   "outputs": [
    {
     "data": {
      "text/plain": [
       "{'Name': 'Rahul',\n",
       " 'Age': 24,\n",
       " 'hight': 5.5,\n",
       " 'Contact': 1234567890,\n",
       " 'School': 'SMDJ',\n",
       " 'HomeTown': 'Dausa'}"
      ]
     },
     "execution_count": 47,
     "metadata": {},
     "output_type": "execute_result"
    }
   ],
   "source": [
    "dict2"
   ]
  },
  {
   "cell_type": "markdown",
   "id": "b0b1d8eb-ef4f-446f-a172-a2f9008b46f9",
   "metadata": {},
   "source": [
    "Note: Here we have used the zip method which will be discussed in built-in function section. Until now we have see that how to update a dictionay by usin the udpate method with dict or iterable objects."
   ]
  },
  {
   "cell_type": "markdown",
   "id": "ca4339a9-4efe-4ed2-8f56-fe58ddbc23fd",
   "metadata": {},
   "source": [
    "___"
   ]
  },
  {
   "cell_type": "markdown",
   "id": "e795a879-6a88-4338-af3f-8e300c07cb00",
   "metadata": {},
   "source": [
    "### pop() Method\n",
    "\n",
    "In general pop operation is used to delete an entry from the data structure and return that value form that data structure.\n",
    "\n",
    "Here also we will remove/delete an item from the dictionary by using the key and it will return the value of that key.\n",
    "\n",
    "* if a given key is present in the dictionary than it will return that corresponding key's value and delete it from the dicitonary.\n",
    "* if a given key is not present in the dictionary than it will raise an `KeyError`.\n",
    "* it takes the `key`  as argument."
   ]
  },
  {
   "cell_type": "code",
   "execution_count": 48,
   "id": "1e82dcf4-6330-4a8e-9288-f8389b05b3e0",
   "metadata": {},
   "outputs": [
    {
     "name": "stdout",
     "output_type": "stream",
     "text": [
      "Help on method_descriptor:\n",
      "\n",
      "pop(...)\n",
      "    D.pop(k[,d]) -> v, remove specified key and return the corresponding value.\n",
      "    If key is not found, d is returned if given, otherwise KeyError is raised\n",
      "\n"
     ]
    }
   ],
   "source": [
    "help(dict.pop)"
   ]
  },
  {
   "cell_type": "code",
   "execution_count": 52,
   "id": "7331b321-2c50-4dfb-95cf-78e507ada33b",
   "metadata": {},
   "outputs": [
    {
     "data": {
      "text/plain": [
       "{'Name': 'Rahul',\n",
       " 'Age': 24,\n",
       " 'hight': 5.5,\n",
       " 'Contact': 1234567890,\n",
       " 'School': 'SMDJ',\n",
       " 'HomeTown': 'Dausa'}"
      ]
     },
     "execution_count": 52,
     "metadata": {},
     "output_type": "execute_result"
    }
   ],
   "source": [
    "#inspecting our dict2\n",
    "dict2"
   ]
  },
  {
   "cell_type": "markdown",
   "id": "fec9d950-41a3-4f54-97aa-2aeb48437cfa",
   "metadata": {},
   "source": [
    "As we have added some new entries in our dicitonary, now it is time to pop some values. poping will return a value and delete that entry."
   ]
  },
  {
   "cell_type": "markdown",
   "id": "b531661f-e3c9-4ea5-982a-4afa91456474",
   "metadata": {},
   "source": [
    "**Using pop method on dict2**"
   ]
  },
  {
   "cell_type": "code",
   "execution_count": 53,
   "id": "46a0c0a4-258b-41df-a29a-5e014e0f2ac1",
   "metadata": {},
   "outputs": [
    {
     "data": {
      "text/plain": [
       "'Dausa'"
      ]
     },
     "execution_count": 53,
     "metadata": {},
     "output_type": "execute_result"
    }
   ],
   "source": [
    "# now we will pop the HomeTown value.\n",
    "dict2.pop('HomeTown')"
   ]
  },
  {
   "cell_type": "code",
   "execution_count": 54,
   "id": "8a2c970f-5eae-4ccd-93bc-404d297c0537",
   "metadata": {},
   "outputs": [
    {
     "data": {
      "text/plain": [
       "{'Name': 'Rahul',\n",
       " 'Age': 24,\n",
       " 'hight': 5.5,\n",
       " 'Contact': 1234567890,\n",
       " 'School': 'SMDJ'}"
      ]
     },
     "execution_count": 54,
     "metadata": {},
     "output_type": "execute_result"
    }
   ],
   "source": [
    "dict2"
   ]
  },
  {
   "cell_type": "markdown",
   "id": "ddce59d5-a0b6-48a9-894b-4628a134b3f8",
   "metadata": {},
   "source": [
    "As you can see that pop operation return the 'Dause' the value of the 'HomeTown', and also it removed that paritcular items form the dict2."
   ]
  },
  {
   "cell_type": "markdown",
   "id": "d938df05-8090-4911-ba60-36ee876984a5",
   "metadata": {},
   "source": [
    "____"
   ]
  },
  {
   "cell_type": "markdown",
   "id": "1d1459a6-deaa-4328-8cc0-d0fbaa0373f8",
   "metadata": {},
   "source": [
    "### popitem() Method\n",
    "\n",
    "This Method is similar to the pop item, instead it does not take any argument.\n",
    "\n",
    "* it return last entry form the dictionary and delete it from the dictionary.\n",
    "* it follows the LIFO (Last In First Out) operation which is used in stack.\n",
    "* We can use our dictionary as the stack by using the popitem, if we want."
   ]
  },
  {
   "cell_type": "code",
   "execution_count": 55,
   "id": "69078dc9-f9e1-497a-87c8-ed57f8a008d8",
   "metadata": {},
   "outputs": [
    {
     "data": {
      "text/plain": [
       "{'Name': 'Rahul',\n",
       " 'Age': 24,\n",
       " 'hight': 5.5,\n",
       " 'Contact': 1234567890,\n",
       " 'School': 'SMDJ'}"
      ]
     },
     "execution_count": 55,
     "metadata": {},
     "output_type": "execute_result"
    }
   ],
   "source": [
    "#inspecting the dict2\n",
    "dict2"
   ]
  },
  {
   "cell_type": "markdown",
   "id": "7a4ca252-3a5a-4d76-b829-7cb04f185d1b",
   "metadata": {},
   "source": [
    "Form the result we know that we have last items as '(School, SMDJ)' so it will return this item and delete it form the dictionary. "
   ]
  },
  {
   "cell_type": "markdown",
   "id": "b90ab962-4add-4c60-b2a6-20fc0cd3727a",
   "metadata": {},
   "source": [
    "**Using popitem on dict2**"
   ]
  },
  {
   "cell_type": "code",
   "execution_count": 56,
   "id": "f87a3df8-07d2-40d2-97bf-c4fc907874c5",
   "metadata": {},
   "outputs": [
    {
     "data": {
      "text/plain": [
       "('School', 'SMDJ')"
      ]
     },
     "execution_count": 56,
     "metadata": {},
     "output_type": "execute_result"
    }
   ],
   "source": [
    "dict2.popitem()"
   ]
  },
  {
   "cell_type": "code",
   "execution_count": 57,
   "id": "8443e789-2fe7-41b6-b056-54fcec036358",
   "metadata": {},
   "outputs": [
    {
     "data": {
      "text/plain": [
       "{'Name': 'Rahul', 'Age': 24, 'hight': 5.5, 'Contact': 1234567890}"
      ]
     },
     "execution_count": 57,
     "metadata": {},
     "output_type": "execute_result"
    }
   ],
   "source": [
    "dict2"
   ]
  },
  {
   "cell_type": "markdown",
   "id": "3172469b-da85-4f3d-8e89-ed2ff1791dc6",
   "metadata": {},
   "source": [
    "As you can see that popitem() method returned last item of the dict2 and deleted it form the dictionary, the final result we can see from above two cells."
   ]
  },
  {
   "cell_type": "markdown",
   "id": "36620dd3-9e6e-4275-ba49-d0e092333aa4",
   "metadata": {},
   "source": [
    "___"
   ]
  },
  {
   "cell_type": "markdown",
   "id": "1ce59672-84f0-409d-b06e-e009b27c6a4c",
   "metadata": {},
   "source": [
    "### get() Method"
   ]
  },
  {
   "cell_type": "markdown",
   "id": "2ce2a875-aa3a-497d-8106-f61eb3a81f46",
   "metadata": {},
   "source": [
    "This method is very useful to get the value from the dictionary by using a key.\n",
    "* if key is present in the dictionary then it will return the value.\n",
    "* if key is not present in the dictionary then it will return the default key, set by the user.\n",
    "* it takes two argument `key` and `default`.\n",
    "* `key:` to get the value mapped to that key.\n",
    "* `default:` a default value to be returned, if key is not present in the dictionary."
   ]
  },
  {
   "cell_type": "code",
   "execution_count": 58,
   "id": "251f8b1c-f7da-4853-b0bc-d5be6f0ebf62",
   "metadata": {},
   "outputs": [
    {
     "name": "stdout",
     "output_type": "stream",
     "text": [
      "Help on method_descriptor:\n",
      "\n",
      "get(self, key, default=None, /)\n",
      "    Return the value for key if key is in the dictionary, else default.\n",
      "\n"
     ]
    }
   ],
   "source": [
    "# get method doc\n",
    "help(dict.get)"
   ]
  },
  {
   "cell_type": "markdown",
   "id": "b03f5302-4399-48d6-b019-a421558a8543",
   "metadata": {},
   "source": [
    "Now we will retrieve values of existing and non-existing keys."
   ]
  },
  {
   "cell_type": "markdown",
   "id": "b103e5e5-699e-4f04-b191-f7cb19f5420e",
   "metadata": {},
   "source": [
    "**Get a key which is present in the dictionary**\n",
    "\n",
    "if key is present we will get mapped value to the key."
   ]
  },
  {
   "cell_type": "code",
   "execution_count": 59,
   "id": "ac233423-72ee-424d-a814-bf759fc59988",
   "metadata": {},
   "outputs": [
    {
     "data": {
      "text/plain": [
       "'Rahul'"
      ]
     },
     "execution_count": 59,
     "metadata": {},
     "output_type": "execute_result"
    }
   ],
   "source": [
    "# getting value form key.\n",
    "dict2.get(\"Name\")"
   ]
  },
  {
   "cell_type": "markdown",
   "id": "fe01dbb1-079e-4d8a-a83d-7b760d55b94d",
   "metadata": {},
   "source": [
    "As you can see that we had a key  as \"Name\" in our dict2 that's why it returned a value which is mapped to it. if it had not that value then it will return it's default values (which is None by default)."
   ]
  }
 ],
 "metadata": {
  "kernelspec": {
   "display_name": "Python 3 (ipykernel)",
   "language": "python",
   "name": "python3"
  },
  "language_info": {
   "codemirror_mode": {
    "name": "ipython",
    "version": 3
   },
   "file_extension": ".py",
   "mimetype": "text/x-python",
   "name": "python",
   "nbconvert_exporter": "python",
   "pygments_lexer": "ipython3",
   "version": "3.8.3"
  }
 },
 "nbformat": 4,
 "nbformat_minor": 5
}
