{
 "cells": [
  {
   "cell_type": "markdown",
   "id": "9a1daaa1-08e4-4f7a-86d6-1e22a932c753",
   "metadata": {},
   "source": [
    "## Practice Set 1"
   ]
  },
  {
   "cell_type": "markdown",
   "id": "89818cdf-1b10-4c74-ad4e-503fab0b8336",
   "metadata": {},
   "source": [
    "##### 1. IsPrime Number"
   ]
  },
  {
   "cell_type": "code",
   "execution_count": 1,
   "id": "7048463d-28d3-48e2-a67f-33fbde68bc5e",
   "metadata": {},
   "outputs": [],
   "source": [
    "function isPrime(number){\n",
    "    /** \n",
    "    number: it is the number which need to be check that a number is prime or not.\n",
    "    */\n",
    "    \n",
    "    if(number>=2){\n",
    "        \n",
    "        for(let i=2; i<number; i++){\n",
    "            \n",
    "            if(number%i == 0)\n",
    "                return false;\n",
    "            }\n",
    "        return true;\n",
    "    }\n",
    "}"
   ]
  },
  {
   "cell_type": "code",
   "execution_count": 5,
   "id": "e8335cf7-2243-4b19-8b72-a4aa3ab3549d",
   "metadata": {},
   "outputs": [
    {
     "data": {
      "text/plain": [
       "true"
      ]
     },
     "execution_count": 5,
     "metadata": {},
     "output_type": "execute_result"
    }
   ],
   "source": [
    "isPrime(5)"
   ]
  },
  {
   "cell_type": "markdown",
   "id": "e51502e5-1505-416e-88a2-59970bf37a3c",
   "metadata": {},
   "source": [
    "##### 2. Prime number in a range\n",
    "\n",
    "`Program:` find the prime number in a given range."
   ]
  },
  {
   "cell_type": "code",
   "execution_count": 7,
   "id": "7c05b6af-d2f2-42b1-b8e4-68bb58efa0a7",
   "metadata": {},
   "outputs": [
    {
     "data": {
      "text/plain": [
       "'function isPrime(number){\\n' +\n",
       "  '    /** \\n' +\n",
       "  '    number: it is the number which need to be check that a number is prime or not.\\n' +\n",
       "  '    */\\n' +\n",
       "  '    \\n' +\n",
       "  '    if(number>=2){\\n' +\n",
       "  '        \\n' +\n",
       "  '        for(let i=2; i<number; i++){\\n' +\n",
       "  '            \\n' +\n",
       "  '            if(number%i == 0)\\n' +\n",
       "  '                return false;\\n' +\n",
       "  '            }\\n' +\n",
       "  '        return true;\\n' +\n",
       "  '    }\\n' +\n",
       "  '}'"
      ]
     },
     "execution_count": 7,
     "metadata": {},
     "output_type": "execute_result"
    }
   ],
   "source": []
  },
  {
   "cell_type": "code",
   "execution_count": 11,
   "id": "3de07d09-4b18-48f3-8e22-503108e34222",
   "metadata": {},
   "outputs": [],
   "source": [
    "function isPrimeRange(start=2 , end=10){\n",
    "    \n",
    "    /** \n",
    "        strat: integer value for starting point of searching range.\n",
    "        end: integer value for end point of searching range.\n",
    "    */\n",
    "    let primes = [];\n",
    "    \n",
    "    for(let i=start; i<=end; i++){\n",
    "        isprime = isPrime(i);\n",
    "        \n",
    "        if (isprime)\n",
    "            primes.push(i)\n",
    "    }\n",
    "    return primes\n",
    "}"
   ]
  },
  {
   "cell_type": "code",
   "execution_count": 12,
   "id": "7fe83e8c-247c-43f8-80c9-52755e049293",
   "metadata": {},
   "outputs": [
    {
     "data": {
      "text/plain": [
       "[ 2, 3, 5, 7 ]"
      ]
     },
     "execution_count": 12,
     "metadata": {},
     "output_type": "execute_result"
    }
   ],
   "source": [
    "// using the default range.\n",
    "isPrimeRange()"
   ]
  },
  {
   "cell_type": "code",
   "execution_count": 13,
   "id": "418c1437-dd98-4be7-9f57-13b9191d3b2e",
   "metadata": {},
   "outputs": [
    {
     "data": {
      "text/plain": [
       "[\n",
       "   2,  3,  5,  7, 11, 13, 17, 19,\n",
       "  23, 29, 31, 37, 41, 43, 47, 53,\n",
       "  59, 61, 67, 71, 73, 79, 83, 89,\n",
       "  97\n",
       "]"
      ]
     },
     "execution_count": 13,
     "metadata": {},
     "output_type": "execute_result"
    }
   ],
   "source": [
    "isPrimeRange(2, 100)"
   ]
  },
  {
   "cell_type": "code",
   "execution_count": 14,
   "id": "d3cf94f1-ad3f-4cca-b50a-acdfd8c6da22",
   "metadata": {},
   "outputs": [
    {
     "data": {
      "text/plain": [
       "[\n",
       "  211, 223, 227, 229, 233, 239, 241, 251,\n",
       "  257, 263, 269, 271, 277, 281, 283, 293,\n",
       "  307, 311, 313, 317, 331, 337, 347, 349,\n",
       "  353, 359, 367, 373, 379, 383, 389, 397,\n",
       "  401, 409, 419, 421, 431, 433, 439, 443,\n",
       "  449, 457, 461, 463, 467, 479, 487, 491,\n",
       "  499\n",
       "]"
      ]
     },
     "execution_count": 14,
     "metadata": {},
     "output_type": "execute_result"
    }
   ],
   "source": [
    "isPrimeRange(200,500)"
   ]
  },
  {
   "cell_type": "markdown",
   "id": "ffbfc1a2-b1e5-4b17-ae1d-fac0916bca76",
   "metadata": {},
   "source": [
    "##### 3. count digits of number\n",
    "\n",
    "count that how many digits a number contains."
   ]
  },
  {
   "cell_type": "markdown",
   "id": "a35a95de-562c-4dea-8b27-d4e726387f44",
   "metadata": {},
   "source": [
    "**method 1**\n",
    "\n",
    "1. first convert the number into string.\n",
    "2. get the length of that string."
   ]
  },
  {
   "cell_type": "code",
   "execution_count": 18,
   "id": "cb68819a-ae99-4a00-997b-49378a51b287",
   "metadata": {},
   "outputs": [],
   "source": [
    "function countDigits_1(number){\n",
    "    \n",
    "    number = number.toString()\n",
    "    \n",
    "    return number.length\n",
    "}"
   ]
  },
  {
   "cell_type": "code",
   "execution_count": 19,
   "id": "abce3de8-1982-4413-a1a9-3355de0e6827",
   "metadata": {},
   "outputs": [
    {
     "data": {
      "text/plain": [
       "10"
      ]
     },
     "execution_count": 19,
     "metadata": {},
     "output_type": "execute_result"
    }
   ],
   "source": [
    "countDigits_1(1213121646)"
   ]
  },
  {
   "cell_type": "code",
   "execution_count": 17,
   "id": "2b7043d4-615e-4186-9fe3-3535b65643cc",
   "metadata": {},
   "outputs": [
    {
     "data": {
      "text/plain": [
       "'100'"
      ]
     },
     "execution_count": 17,
     "metadata": {},
     "output_type": "execute_result"
    }
   ],
   "source": [
    "num.toString()"
   ]
  },
  {
   "cell_type": "markdown",
   "id": "3548d36a-d865-45ca-824f-ac86608c229d",
   "metadata": {},
   "source": [
    "**method 2**\n",
    "\n",
    "1. get the remainder after divide by 10.\n",
    "2. update the value with remainder.\n",
    "3. count each modulo operation"
   ]
  },
  {
   "cell_type": "code",
   "execution_count": 42,
   "id": "eed4706e-d95a-4cd9-8301-85dd02a47e55",
   "metadata": {},
   "outputs": [],
   "source": [
    "function countDigits_2(number){\n",
    "    \n",
    "    let remainder; // to hold the remainder.\n",
    "    let count = 0;\n",
    "    \n",
    "    while(number>10){\n",
    "        \n",
    "        remainder = number/10;\n",
    "        count++;\n",
    "        number = remainder;\n",
    "    }\n",
    "    count++;\n",
    "    return count\n",
    "}"
   ]
  },
  {
   "cell_type": "markdown",
   "id": "9c095429-9f79-4628-942b-cf44f1c11cda",
   "metadata": {},
   "source": [
    "##### 4. Reverse a string\n",
    "\n",
    "* if a string is abcdefg ----> gfedcba\n",
    "\n",
    "1. iterate over the string.\n",
    "2. strart form last charcter.\n",
    "3. use pop"
   ]
  },
  {
   "cell_type": "code",
   "execution_count": null,
   "id": "34d85530-a0e1-488f-98e3-da13a205910e",
   "metadata": {},
   "outputs": [],
   "source": [
    "function reverseString(str){\n",
    "    \n",
    "    result = \"\"\n",
    "    \n",
    "    for(let i=str.length; i>0; i--){\n",
    "        console.log(\"picking and putting into resutl --->\"str[i])\n",
    "        result += str[i];\n",
    "    }\n",
    "}"
   ]
  },
  {
   "cell_type": "code",
   "execution_count": 47,
   "id": "b9f523ea-f2a3-43b2-bf3e-4dad16e05d05",
   "metadata": {},
   "outputs": [
    {
     "data": {
      "text/plain": [
       "'jaglkadslf'"
      ]
     },
     "execution_count": 47,
     "metadata": {},
     "output_type": "execute_result"
    }
   ],
   "source": [
    "a = \"jaglkadslf\""
   ]
  },
  {
   "cell_type": "code",
   "execution_count": null,
   "id": "57fd64f4-2b2c-41ff-9d01-2ad7b3263eb3",
   "metadata": {},
   "outputs": [],
   "source": [
    "a."
   ]
  }
 ],
 "metadata": {
  "kernelspec": {
   "display_name": "JavaScript (Node.js)",
   "language": "javascript",
   "name": "javascript"
  },
  "language_info": {
   "file_extension": ".js",
   "mimetype": "application/javascript",
   "name": "javascript",
   "version": "16.17.0"
  }
 },
 "nbformat": 4,
 "nbformat_minor": 5
}
