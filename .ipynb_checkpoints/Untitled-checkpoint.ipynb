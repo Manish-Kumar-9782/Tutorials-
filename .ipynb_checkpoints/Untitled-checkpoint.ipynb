{
 "cells": [
  {
   "cell_type": "code",
   "execution_count": 1,
   "id": "9f26c12f-b1ba-4640-ba44-d07052f76c9b",
   "metadata": {},
   "outputs": [],
   "source": [
    "dict1 = {\"Name\": \"Manihs\",\n",
    "        \"Age\": 26,\n",
    "        \"hight\": 5.5,\n",
    "        \"Contact\": 1234567890}"
   ]
  },
  {
   "cell_type": "code",
   "execution_count": 68,
   "id": "ad71bfdb-5620-441e-b493-3de33430a32b",
   "metadata": {},
   "outputs": [],
   "source": [
    "String = \"Hello tHis is good Python\""
   ]
  },
  {
   "cell_type": "code",
   "execution_count": 69,
   "id": "b89cc779-0834-4072-960b-b5bf184330a6",
   "metadata": {},
   "outputs": [],
   "source": [
    "def CountChar(Str):\n",
    "    \n",
    "    result = {}\n",
    "    \n",
    "    for ch in Str:\n",
    "        if ch in result:\n",
    "            result[ch] += 1\n",
    "        else:\n",
    "            result[ch] = 1  # initial found of that character and increase the number\n",
    "        \n",
    "    return result"
   ]
  },
  {
   "cell_type": "code",
   "execution_count": 81,
   "id": "164674e7-cb68-4623-853c-dda03d261ce8",
   "metadata": {},
   "outputs": [],
   "source": [
    "def CountChar2(Str):\n",
    "    result = {}\n",
    "    for ch in Str:\n",
    "        result.update({ch:result.get(ch,0)+1})\n",
    "        \n",
    "    return result"
   ]
  },
  {
   "cell_type": "code",
   "execution_count": 84,
   "id": "b0165c41-6271-4be3-b102-5be2cab14e24",
   "metadata": {},
   "outputs": [],
   "source": [
    "students = {\"Manish\": [\"Manish\", \"SMDJ\", \"Jagtpura\"],\n",
    "           \"Sagar\": [\"Sager\", \"JCA\", \"Jagatpura\"],\n",
    "           \"Jyoti\": [\"Jyoti\", \"BL\", \"Jhohari\"]}"
   ]
  },
  {
   "cell_type": "code",
   "execution_count": 85,
   "id": "efb9fce3-d975-4766-a0d0-8b25518a2324",
   "metadata": {},
   "outputs": [
    {
     "data": {
      "text/plain": [
       "{'Manish': ['Manish', 'SMDJ', 'Jagtpura'],\n",
       " 'Sagar': ['Sager', 'JCA', 'Jagatpura'],\n",
       " 'Jyoti': ['Jyoti', 'BL', 'Jhohari']}"
      ]
     },
     "execution_count": 85,
     "metadata": {},
     "output_type": "execute_result"
    }
   ],
   "source": [
    "students"
   ]
  },
  {
   "cell_type": "code",
   "execution_count": null,
   "id": "2ae33e5e-0cab-48f4-8462-459874e3aabc",
   "metadata": {},
   "outputs": [],
   "source": []
  }
 ],
 "metadata": {
  "kernelspec": {
   "display_name": "Python 3 (ipykernel)",
   "language": "python",
   "name": "python3"
  },
  "language_info": {
   "codemirror_mode": {
    "name": "ipython",
    "version": 3
   },
   "file_extension": ".py",
   "mimetype": "text/x-python",
   "name": "python",
   "nbconvert_exporter": "python",
   "pygments_lexer": "ipython3",
   "version": "3.8.3"
  }
 },
 "nbformat": 4,
 "nbformat_minor": 5
}
