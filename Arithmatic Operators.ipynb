{
 "cells": [
  {
   "cell_type": "markdown",
   "id": "62ebb82f-1c6b-4712-8ebe-c0528e38c71e",
   "metadata": {},
   "source": [
    "## Arithmatic Operators\n",
    "\n",
    "### + : add/plus Operator"
   ]
  },
  {
   "cell_type": "code",
   "execution_count": 1,
   "id": "731ae8a4-a2e5-47db-aea6-960427aa87cb",
   "metadata": {},
   "outputs": [],
   "source": [
    "myList = [\"Hello\", 1, False, 5.6]"
   ]
  },
  {
   "cell_type": "code",
   "execution_count": 2,
   "id": "26892d19-6c79-48a6-b4ba-1faeb94f9f8e",
   "metadata": {},
   "outputs": [
    {
     "data": {
      "text/plain": [
       "['Hello', 1, False, 5.6]"
      ]
     },
     "execution_count": 2,
     "metadata": {},
     "output_type": "execute_result"
    }
   ],
   "source": [
    "myList"
   ]
  },
  {
   "cell_type": "code",
   "execution_count": 3,
   "id": "d4ff81f3-6a4e-4ebd-a9be-9bb0094b807b",
   "metadata": {},
   "outputs": [],
   "source": [
    "myList2 = [1,2,3,4,5,5]"
   ]
  },
  {
   "cell_type": "code",
   "execution_count": 4,
   "id": "18498184-3429-4f39-ab93-42376310d780",
   "metadata": {},
   "outputs": [
    {
     "data": {
      "text/plain": [
       "5"
      ]
     },
     "execution_count": 4,
     "metadata": {},
     "output_type": "execute_result"
    }
   ],
   "source": [
    "2 + 3"
   ]
  },
  {
   "cell_type": "code",
   "execution_count": 6,
   "id": "701f0375-fe4c-4953-be63-47187a715196",
   "metadata": {},
   "outputs": [
    {
     "data": {
      "text/plain": [
       "'Hello bye'"
      ]
     },
     "execution_count": 6,
     "metadata": {},
     "output_type": "execute_result"
    }
   ],
   "source": [
    "\"Hello \" + \"bye\""
   ]
  },
  {
   "cell_type": "code",
   "execution_count": 7,
   "id": "1cbf174e-ba6e-4ff3-b4ef-e2d9e481271e",
   "metadata": {},
   "outputs": [
    {
     "ename": "TypeError",
     "evalue": "unsupported operand type(s) for +: 'int' and 'str'",
     "output_type": "error",
     "traceback": [
      "\u001b[1;31m---------------------------------------------------------------------------\u001b[0m",
      "\u001b[1;31mTypeError\u001b[0m                                 Traceback (most recent call last)",
      "Cell \u001b[1;32mIn [7], line 1\u001b[0m\n\u001b[1;32m----> 1\u001b[0m \u001b[38;5;241;43m10\u001b[39;49m\u001b[43m \u001b[49m\u001b[38;5;241;43m+\u001b[39;49m\u001b[43m \u001b[49m\u001b[38;5;124;43m\"\u001b[39;49m\u001b[38;5;124;43mpx\u001b[39;49m\u001b[38;5;124;43m\"\u001b[39;49m\n",
      "\u001b[1;31mTypeError\u001b[0m: unsupported operand type(s) for +: 'int' and 'str'"
     ]
    }
   ],
   "source": [
    "10 + \"px\""
   ]
  },
  {
   "cell_type": "code",
   "execution_count": 8,
   "id": "3ba7f00e-020a-449c-a39d-67564f34a428",
   "metadata": {},
   "outputs": [
    {
     "data": {
      "text/plain": [
       "['Hello', 1, False, 5.6, 1, 2, 3, 4, 5, 5]"
      ]
     },
     "execution_count": 8,
     "metadata": {},
     "output_type": "execute_result"
    }
   ],
   "source": [
    "myList + myList2"
   ]
  },
  {
   "cell_type": "markdown",
   "id": "8b1809c6-89ea-4587-9651-9b1bcf1504e6",
   "metadata": {},
   "source": [
    "# - : minus Operator"
   ]
  },
  {
   "cell_type": "code",
   "execution_count": 9,
   "id": "3f255c97-3069-43d5-aa16-c58b94a612e7",
   "metadata": {},
   "outputs": [
    {
     "data": {
      "text/plain": [
       "-10"
      ]
     },
     "execution_count": 9,
     "metadata": {},
     "output_type": "execute_result"
    }
   ],
   "source": [
    "10 - 20"
   ]
  },
  {
   "cell_type": "code",
   "execution_count": 10,
   "id": "8f343f77-0794-4af2-a850-f0d4811cabb2",
   "metadata": {},
   "outputs": [
    {
     "ename": "TypeError",
     "evalue": "unsupported operand type(s) for -: 'str' and 'str'",
     "output_type": "error",
     "traceback": [
      "\u001b[1;31m---------------------------------------------------------------------------\u001b[0m",
      "\u001b[1;31mTypeError\u001b[0m                                 Traceback (most recent call last)",
      "Cell \u001b[1;32mIn [10], line 1\u001b[0m\n\u001b[1;32m----> 1\u001b[0m \u001b[38;5;124;43m\"\u001b[39;49m\u001b[38;5;124;43mHello\u001b[39;49m\u001b[38;5;124;43m\"\u001b[39;49m\u001b[43m \u001b[49m\u001b[38;5;241;43m-\u001b[39;49m\u001b[43m \u001b[49m\u001b[38;5;124;43m\"\u001b[39;49m\u001b[38;5;124;43mKello\u001b[39;49m\u001b[38;5;124;43m\"\u001b[39;49m\n",
      "\u001b[1;31mTypeError\u001b[0m: unsupported operand type(s) for -: 'str' and 'str'"
     ]
    }
   ],
   "source": [
    "\"Hello\" - \"Kello\""
   ]
  },
  {
   "cell_type": "code",
   "execution_count": 12,
   "id": "764e4324-41cc-4f11-b099-a0f4370b92a4",
   "metadata": {},
   "outputs": [
    {
     "ename": "TypeError",
     "evalue": "unsupported operand type(s) for -: 'list' and 'list'",
     "output_type": "error",
     "traceback": [
      "\u001b[1;31m---------------------------------------------------------------------------\u001b[0m",
      "\u001b[1;31mTypeError\u001b[0m                                 Traceback (most recent call last)",
      "Cell \u001b[1;32mIn [12], line 1\u001b[0m\n\u001b[1;32m----> 1\u001b[0m \u001b[43mmyList\u001b[49m\u001b[43m \u001b[49m\u001b[38;5;241;43m-\u001b[39;49m\u001b[43m \u001b[49m\u001b[43mmyList2\u001b[49m\n",
      "\u001b[1;31mTypeError\u001b[0m: unsupported operand type(s) for -: 'list' and 'list'"
     ]
    }
   ],
   "source": [
    "myList - myList2"
   ]
  },
  {
   "cell_type": "markdown",
   "id": "002a8656-4c8c-467e-8e69-3bf8d4442ee5",
   "metadata": {},
   "source": [
    "### / : division Operator"
   ]
  },
  {
   "cell_type": "code",
   "execution_count": 16,
   "id": "d76cc758-0e69-4876-810e-05c308e076ed",
   "metadata": {},
   "outputs": [
    {
     "data": {
      "text/plain": [
       "2"
      ]
     },
     "execution_count": 16,
     "metadata": {},
     "output_type": "execute_result"
    }
   ],
   "source": [
    "20//10"
   ]
  },
  {
   "cell_type": "code",
   "execution_count": 17,
   "id": "6a2241c6-08c1-439c-8fe2-a416ecbfd8e6",
   "metadata": {},
   "outputs": [
    {
     "data": {
      "text/plain": [
       "2.3333333333333335"
      ]
     },
     "execution_count": 17,
     "metadata": {},
     "output_type": "execute_result"
    }
   ],
   "source": [
    "7/3"
   ]
  },
  {
   "cell_type": "code",
   "execution_count": 18,
   "id": "fc3a9101-c846-4bd3-92db-9e001d7c75a7",
   "metadata": {},
   "outputs": [
    {
     "data": {
      "text/plain": [
       "2"
      ]
     },
     "execution_count": 18,
     "metadata": {},
     "output_type": "execute_result"
    }
   ],
   "source": [
    "7//3"
   ]
  },
  {
   "cell_type": "code",
   "execution_count": 19,
   "id": "5a4b3a9d-e8f5-49eb-ba27-e59e90a9a259",
   "metadata": {},
   "outputs": [
    {
     "data": {
      "text/plain": [
       "3.142857142857143"
      ]
     },
     "execution_count": 19,
     "metadata": {},
     "output_type": "execute_result"
    }
   ],
   "source": [
    "22/7"
   ]
  },
  {
   "cell_type": "code",
   "execution_count": 20,
   "id": "3d5daf8c-2f0d-4f8b-84de-bc642e80a8ff",
   "metadata": {},
   "outputs": [
    {
     "data": {
      "text/plain": [
       "3"
      ]
     },
     "execution_count": 20,
     "metadata": {},
     "output_type": "execute_result"
    }
   ],
   "source": [
    "22//7"
   ]
  },
  {
   "cell_type": "code",
   "execution_count": 23,
   "id": "84401c54-c518-471a-8276-cd21acbaf44a",
   "metadata": {},
   "outputs": [
    {
     "data": {
      "text/plain": [
       "2"
      ]
     },
     "execution_count": 23,
     "metadata": {},
     "output_type": "execute_result"
    }
   ],
   "source": [
    "20//7"
   ]
  },
  {
   "cell_type": "markdown",
   "id": "ae4bd9df-3c20-4927-8fb4-f1fd1425494f",
   "metadata": {},
   "source": [
    "# // : Floor Division"
   ]
  },
  {
   "cell_type": "code",
   "execution_count": 24,
   "id": "79cda0ea-fb9c-4603-9a6d-3b9e6e8d39e5",
   "metadata": {},
   "outputs": [
    {
     "data": {
      "text/plain": [
       "2.857142857142857"
      ]
     },
     "execution_count": 24,
     "metadata": {},
     "output_type": "execute_result"
    }
   ],
   "source": [
    "20/ 7"
   ]
  },
  {
   "cell_type": "code",
   "execution_count": 26,
   "id": "22f5cd8f-e525-4d18-b9d8-d2a09b99257e",
   "metadata": {},
   "outputs": [
    {
     "data": {
      "text/plain": [
       "2"
      ]
     },
     "execution_count": 26,
     "metadata": {},
     "output_type": "execute_result"
    }
   ],
   "source": [
    "20//7"
   ]
  },
  {
   "cell_type": "markdown",
   "id": "4d29e274-82bb-428a-bc5d-065ce7335bab",
   "metadata": {},
   "source": [
    "# % : modulus operator"
   ]
  },
  {
   "cell_type": "code",
   "execution_count": 27,
   "id": "3b78fe61-692a-4fb0-bdac-37f3dae41fb4",
   "metadata": {},
   "outputs": [
    {
     "data": {
      "text/plain": [
       "6"
      ]
     },
     "execution_count": 27,
     "metadata": {},
     "output_type": "execute_result"
    }
   ],
   "source": [
    "20%7"
   ]
  },
  {
   "cell_type": "code",
   "execution_count": 1,
   "id": "4c839569-0678-49e7-8c73-d1eb8ca540ff",
   "metadata": {},
   "outputs": [],
   "source": [
    "a = 10"
   ]
  },
  {
   "cell_type": "code",
   "execution_count": 2,
   "id": "dd5c75a6-0d3d-45b2-9e9c-f3b6fa492e4e",
   "metadata": {},
   "outputs": [],
   "source": [
    "a += 10"
   ]
  },
  {
   "cell_type": "code",
   "execution_count": 3,
   "id": "17259ddf-e567-4730-914c-c667a7f0206c",
   "metadata": {},
   "outputs": [
    {
     "data": {
      "text/plain": [
       "20"
      ]
     },
     "execution_count": 3,
     "metadata": {},
     "output_type": "execute_result"
    }
   ],
   "source": [
    "a"
   ]
  },
  {
   "cell_type": "markdown",
   "id": "8cb052cb-8587-4975-b0d7-2cf3b364c826",
   "metadata": {},
   "source": [
    "logical Operator\n",
    "1. and (&&)\n",
    "2. or (||)\n",
    "3. not (!)"
   ]
  },
  {
   "cell_type": "code",
   "execution_count": 4,
   "id": "9daaafd6-1851-4307-b94e-1751e10921b8",
   "metadata": {},
   "outputs": [],
   "source": [
    "a = True\n",
    "b = False\n",
    "c = True"
   ]
  },
  {
   "cell_type": "code",
   "execution_count": 5,
   "id": "889a4cf6-1bac-4564-bc50-56ddbb2bc832",
   "metadata": {},
   "outputs": [
    {
     "data": {
      "text/plain": [
       "False"
      ]
     },
     "execution_count": 5,
     "metadata": {},
     "output_type": "execute_result"
    }
   ],
   "source": [
    "a and b"
   ]
  },
  {
   "cell_type": "code",
   "execution_count": 6,
   "id": "c005c3ec-d205-4f6d-b52a-7f528790e71a",
   "metadata": {},
   "outputs": [
    {
     "data": {
      "text/plain": [
       "True"
      ]
     },
     "execution_count": 6,
     "metadata": {},
     "output_type": "execute_result"
    }
   ],
   "source": [
    "a and c"
   ]
  },
  {
   "cell_type": "code",
   "execution_count": 7,
   "id": "1a36c550-934f-4f56-a670-6a73c3c5b361",
   "metadata": {},
   "outputs": [
    {
     "data": {
      "text/plain": [
       "True"
      ]
     },
     "execution_count": 7,
     "metadata": {},
     "output_type": "execute_result"
    }
   ],
   "source": [
    "a or b"
   ]
  },
  {
   "cell_type": "code",
   "execution_count": 8,
   "id": "e650b374-387b-4dea-88c0-0d77d6826f23",
   "metadata": {},
   "outputs": [
    {
     "data": {
      "text/plain": [
       "True"
      ]
     },
     "execution_count": 8,
     "metadata": {},
     "output_type": "execute_result"
    }
   ],
   "source": [
    "a or c"
   ]
  },
  {
   "cell_type": "code",
   "execution_count": 9,
   "id": "53d34427-ded2-4ca6-8c36-33a08e19793c",
   "metadata": {},
   "outputs": [
    {
     "data": {
      "text/plain": [
       "True"
      ]
     },
     "execution_count": 9,
     "metadata": {},
     "output_type": "execute_result"
    }
   ],
   "source": [
    "a"
   ]
  },
  {
   "cell_type": "code",
   "execution_count": 10,
   "id": "a3b18def-019d-4561-a40e-0ddc6788c782",
   "metadata": {},
   "outputs": [
    {
     "data": {
      "text/plain": [
       "False"
      ]
     },
     "execution_count": 10,
     "metadata": {},
     "output_type": "execute_result"
    }
   ],
   "source": [
    "not a"
   ]
  },
  {
   "cell_type": "code",
   "execution_count": 11,
   "id": "4f94c19d-76e2-4476-8c01-7d9875c22c7f",
   "metadata": {},
   "outputs": [
    {
     "data": {
      "text/plain": [
       "True"
      ]
     },
     "execution_count": 11,
     "metadata": {},
     "output_type": "execute_result"
    }
   ],
   "source": [
    "not b"
   ]
  },
  {
   "cell_type": "code",
   "execution_count": 12,
   "id": "52d942c0-4201-442d-bb5b-f8aa227f9bae",
   "metadata": {},
   "outputs": [],
   "source": [
    "a = 10\n",
    "b = 20\n",
    "c = 30\n",
    "d = 10"
   ]
  },
  {
   "cell_type": "code",
   "execution_count": 13,
   "id": "cecb3bb3-3d9c-4693-969b-c90fd7310c6e",
   "metadata": {},
   "outputs": [
    {
     "data": {
      "text/plain": [
       "False"
      ]
     },
     "execution_count": 13,
     "metadata": {},
     "output_type": "execute_result"
    }
   ],
   "source": [
    "a > b"
   ]
  },
  {
   "cell_type": "code",
   "execution_count": 14,
   "id": "2d1e514c-055e-431e-b52a-6898b5a6d38f",
   "metadata": {},
   "outputs": [
    {
     "data": {
      "text/plain": [
       "True"
      ]
     },
     "execution_count": 14,
     "metadata": {},
     "output_type": "execute_result"
    }
   ],
   "source": [
    "a < b"
   ]
  },
  {
   "cell_type": "code",
   "execution_count": 15,
   "id": "20e31813-0487-47d0-8d15-67d627d929d4",
   "metadata": {},
   "outputs": [
    {
     "data": {
      "text/plain": [
       "False"
      ]
     },
     "execution_count": 15,
     "metadata": {},
     "output_type": "execute_result"
    }
   ],
   "source": [
    "a >= b"
   ]
  },
  {
   "cell_type": "code",
   "execution_count": 16,
   "id": "0b91f708-8631-4d2f-9d22-1c160844c5ca",
   "metadata": {},
   "outputs": [
    {
     "data": {
      "text/plain": [
       "True"
      ]
     },
     "execution_count": 16,
     "metadata": {},
     "output_type": "execute_result"
    }
   ],
   "source": [
    "a <= b"
   ]
  },
  {
   "cell_type": "code",
   "execution_count": 17,
   "id": "9db30429-b589-42d9-a8a8-acd8f709ef2a",
   "metadata": {},
   "outputs": [
    {
     "data": {
      "text/plain": [
       "False"
      ]
     },
     "execution_count": 17,
     "metadata": {},
     "output_type": "execute_result"
    }
   ],
   "source": [
    "a == b"
   ]
  },
  {
   "cell_type": "code",
   "execution_count": 18,
   "id": "d01c50b9-a869-4add-aaf4-850a5b79f554",
   "metadata": {},
   "outputs": [
    {
     "data": {
      "text/plain": [
       "True"
      ]
     },
     "execution_count": 18,
     "metadata": {},
     "output_type": "execute_result"
    }
   ],
   "source": [
    "a == d"
   ]
  },
  {
   "cell_type": "markdown",
   "id": "4898d1d4-58c6-4c31-95f5-ba04869c931f",
   "metadata": {},
   "source": [
    "membership Operator: --> in\n",
    "\n",
    "identity Operator: --> is"
   ]
  },
  {
   "cell_type": "code",
   "execution_count": 22,
   "id": "d96fa49c-ac78-421e-b6ab-4ec221bb6a3e",
   "metadata": {},
   "outputs": [],
   "source": [
    "a = [10,20,30]\n",
    "c = [10,20,30]\n",
    "b = [10,40,90]"
   ]
  },
  {
   "cell_type": "code",
   "execution_count": 21,
   "id": "81225f97-ce1b-4961-9821-05b34ddf98f3",
   "metadata": {},
   "outputs": [
    {
     "data": {
      "text/plain": [
       "False"
      ]
     },
     "execution_count": 21,
     "metadata": {},
     "output_type": "execute_result"
    }
   ],
   "source": [
    "50 in a"
   ]
  },
  {
   "cell_type": "code",
   "execution_count": 23,
   "id": "f3c6c036-04ad-41f5-933a-fdaf89cd7628",
   "metadata": {},
   "outputs": [
    {
     "data": {
      "text/plain": [
       "True"
      ]
     },
     "execution_count": 23,
     "metadata": {},
     "output_type": "execute_result"
    }
   ],
   "source": [
    "# if they have same values.\n",
    "a == c"
   ]
  },
  {
   "cell_type": "code",
   "execution_count": 25,
   "id": "dffae343-3360-4b99-a1fc-8c9dc35ad20f",
   "metadata": {},
   "outputs": [
    {
     "data": {
      "text/plain": [
       "False"
      ]
     },
     "execution_count": 25,
     "metadata": {},
     "output_type": "execute_result"
    }
   ],
   "source": [
    "a == b"
   ]
  },
  {
   "cell_type": "code",
   "execution_count": 26,
   "id": "efe1e93d-d365-4329-95b5-c1275132ca77",
   "metadata": {},
   "outputs": [
    {
     "data": {
      "text/plain": [
       "False"
      ]
     },
     "execution_count": 26,
     "metadata": {},
     "output_type": "execute_result"
    }
   ],
   "source": [
    "a is c"
   ]
  },
  {
   "cell_type": "code",
   "execution_count": 28,
   "id": "ecdf12f7-10e9-4d34-80c3-b4f409ef544e",
   "metadata": {},
   "outputs": [],
   "source": [
    "x = a # copying the reference of list a with x"
   ]
  },
  {
   "cell_type": "code",
   "execution_count": 29,
   "id": "654558bb-d349-483b-9205-a1fcd2d5cec9",
   "metadata": {},
   "outputs": [
    {
     "data": {
      "text/plain": [
       "True"
      ]
     },
     "execution_count": 29,
     "metadata": {},
     "output_type": "execute_result"
    }
   ],
   "source": [
    "a is x"
   ]
  },
  {
   "cell_type": "code",
   "execution_count": 30,
   "id": "a5ae6643-d1ad-4c68-8c1d-1901f7f8500e",
   "metadata": {},
   "outputs": [
    {
     "data": {
      "text/plain": [
       "False"
      ]
     },
     "execution_count": 30,
     "metadata": {},
     "output_type": "execute_result"
    }
   ],
   "source": [
    "b is x"
   ]
  },
  {
   "cell_type": "markdown",
   "id": "de992f92-bd58-4717-8f68-74a385b1a287",
   "metadata": {},
   "source": [
    "**Data Types**\n",
    "\n",
    "1. int\n",
    "2. string\n",
    "3. float\n",
    "4. bool\n",
    "\n",
    "**sequence**\n",
    "1. list\n",
    "2. tuple\n",
    "3. set\n",
    "\n",
    "**Mapping**\n",
    "1. dict\n"
   ]
  },
  {
   "cell_type": "markdown",
   "id": "f9139d9a-eda4-4462-bb93-f8d1740cd9c9",
   "metadata": {},
   "source": [
    "## List\n",
    "\n",
    "```python\n",
    "a = [1,2,3,4]\n",
    "```"
   ]
  },
  {
   "cell_type": "code",
   "execution_count": 31,
   "id": "2a354390-84b4-4b48-b6a4-8f71a98ec639",
   "metadata": {},
   "outputs": [],
   "source": [
    "myList = [1,2,3,4,\"hello\"]"
   ]
  },
  {
   "cell_type": "code",
   "execution_count": 32,
   "id": "b27a432f-71f5-42c2-8402-37da19aa20b8",
   "metadata": {},
   "outputs": [
    {
     "data": {
      "text/plain": [
       "5"
      ]
     },
     "execution_count": 32,
     "metadata": {},
     "output_type": "execute_result"
    }
   ],
   "source": [
    "# len()\n",
    "len(myList)"
   ]
  },
  {
   "cell_type": "markdown",
   "id": "e1db88be-c10f-4c76-a1b5-5923bcc80cff",
   "metadata": {},
   "source": [
    "**Accessing Element**"
   ]
  },
  {
   "cell_type": "code",
   "execution_count": 34,
   "id": "bb04bd82-185b-40f2-a84e-b6a080e58682",
   "metadata": {},
   "outputs": [
    {
     "data": {
      "text/plain": [
       "1"
      ]
     },
     "execution_count": 34,
     "metadata": {},
     "output_type": "execute_result"
    }
   ],
   "source": [
    "myList[0] # accessing the element/items by using the indexing"
   ]
  },
  {
   "cell_type": "code",
   "execution_count": 35,
   "id": "20a49745-9f61-45f2-9126-7f995e2389e0",
   "metadata": {},
   "outputs": [
    {
     "name": "stdout",
     "output_type": "stream",
     "text": [
      "Help on list object:\n",
      "\n",
      "class list(object)\n",
      " |  list(iterable=(), /)\n",
      " |  \n",
      " |  Built-in mutable sequence.\n",
      " |  \n",
      " |  If no argument is given, the constructor creates a new empty list.\n",
      " |  The argument must be an iterable if specified.\n",
      " |  \n",
      " |  Methods defined here:\n",
      " |  \n",
      " |  __add__(self, value, /)\n",
      " |      Return self+value.\n",
      " |  \n",
      " |  __contains__(self, key, /)\n",
      " |      Return key in self.\n",
      " |  \n",
      " |  __delitem__(self, key, /)\n",
      " |      Delete self[key].\n",
      " |  \n",
      " |  __eq__(self, value, /)\n",
      " |      Return self==value.\n",
      " |  \n",
      " |  __ge__(self, value, /)\n",
      " |      Return self>=value.\n",
      " |  \n",
      " |  __getattribute__(self, name, /)\n",
      " |      Return getattr(self, name).\n",
      " |  \n",
      " |  __getitem__(...)\n",
      " |      x.__getitem__(y) <==> x[y]\n",
      " |  \n",
      " |  __gt__(self, value, /)\n",
      " |      Return self>value.\n",
      " |  \n",
      " |  __iadd__(self, value, /)\n",
      " |      Implement self+=value.\n",
      " |  \n",
      " |  __imul__(self, value, /)\n",
      " |      Implement self*=value.\n",
      " |  \n",
      " |  __init__(self, /, *args, **kwargs)\n",
      " |      Initialize self.  See help(type(self)) for accurate signature.\n",
      " |  \n",
      " |  __iter__(self, /)\n",
      " |      Implement iter(self).\n",
      " |  \n",
      " |  __le__(self, value, /)\n",
      " |      Return self<=value.\n",
      " |  \n",
      " |  __len__(self, /)\n",
      " |      Return len(self).\n",
      " |  \n",
      " |  __lt__(self, value, /)\n",
      " |      Return self<value.\n",
      " |  \n",
      " |  __mul__(self, value, /)\n",
      " |      Return self*value.\n",
      " |  \n",
      " |  __ne__(self, value, /)\n",
      " |      Return self!=value.\n",
      " |  \n",
      " |  __repr__(self, /)\n",
      " |      Return repr(self).\n",
      " |  \n",
      " |  __reversed__(self, /)\n",
      " |      Return a reverse iterator over the list.\n",
      " |  \n",
      " |  __rmul__(self, value, /)\n",
      " |      Return value*self.\n",
      " |  \n",
      " |  __setitem__(self, key, value, /)\n",
      " |      Set self[key] to value.\n",
      " |  \n",
      " |  __sizeof__(self, /)\n",
      " |      Return the size of the list in memory, in bytes.\n",
      " |  \n",
      " |  append(self, object, /)\n",
      " |      Append object to the end of the list.\n",
      " |  \n",
      " |  clear(self, /)\n",
      " |      Remove all items from list.\n",
      " |  \n",
      " |  copy(self, /)\n",
      " |      Return a shallow copy of the list.\n",
      " |  \n",
      " |  count(self, value, /)\n",
      " |      Return number of occurrences of value.\n",
      " |  \n",
      " |  extend(self, iterable, /)\n",
      " |      Extend list by appending elements from the iterable.\n",
      " |  \n",
      " |  index(self, value, start=0, stop=9223372036854775807, /)\n",
      " |      Return first index of value.\n",
      " |      \n",
      " |      Raises ValueError if the value is not present.\n",
      " |  \n",
      " |  insert(self, index, object, /)\n",
      " |      Insert object before index.\n",
      " |  \n",
      " |  pop(self, index=-1, /)\n",
      " |      Remove and return item at index (default last).\n",
      " |      \n",
      " |      Raises IndexError if list is empty or index is out of range.\n",
      " |  \n",
      " |  remove(self, value, /)\n",
      " |      Remove first occurrence of value.\n",
      " |      \n",
      " |      Raises ValueError if the value is not present.\n",
      " |  \n",
      " |  reverse(self, /)\n",
      " |      Reverse *IN PLACE*.\n",
      " |  \n",
      " |  sort(self, /, *, key=None, reverse=False)\n",
      " |      Sort the list in ascending order and return None.\n",
      " |      \n",
      " |      The sort is in-place (i.e. the list itself is modified) and stable (i.e. the\n",
      " |      order of two equal elements is maintained).\n",
      " |      \n",
      " |      If a key function is given, apply it once to each list item and sort them,\n",
      " |      ascending or descending, according to their function values.\n",
      " |      \n",
      " |      The reverse flag can be set to sort in descending order.\n",
      " |  \n",
      " |  ----------------------------------------------------------------------\n",
      " |  Class methods defined here:\n",
      " |  \n",
      " |  __class_getitem__(...) from builtins.type\n",
      " |      See PEP 585\n",
      " |  \n",
      " |  ----------------------------------------------------------------------\n",
      " |  Static methods defined here:\n",
      " |  \n",
      " |  __new__(*args, **kwargs) from builtins.type\n",
      " |      Create and return a new object.  See help(type) for accurate signature.\n",
      " |  \n",
      " |  ----------------------------------------------------------------------\n",
      " |  Data and other attributes defined here:\n",
      " |  \n",
      " |  __hash__ = None\n",
      "\n"
     ]
    }
   ],
   "source": [
    "help(myList)"
   ]
  },
  {
   "cell_type": "code",
   "execution_count": 36,
   "id": "4a2e5b29-18a3-4e4b-adaf-b7454cdcaba3",
   "metadata": {},
   "outputs": [],
   "source": [
    "myList.append(\"Karan\")"
   ]
  },
  {
   "cell_type": "code",
   "execution_count": 37,
   "id": "4bbf898d-896e-4ed4-b74b-1b948a620404",
   "metadata": {},
   "outputs": [
    {
     "data": {
      "text/plain": [
       "[1, 2, 3, 4, 'hello', 'Karan']"
      ]
     },
     "execution_count": 37,
     "metadata": {},
     "output_type": "execute_result"
    }
   ],
   "source": [
    "myList"
   ]
  },
  {
   "cell_type": "code",
   "execution_count": 38,
   "id": "a779a1d1-bc5c-4895-81e3-db241fc8594d",
   "metadata": {},
   "outputs": [],
   "source": [
    "yourList = myList.copy()"
   ]
  },
  {
   "cell_type": "code",
   "execution_count": 39,
   "id": "20658301-c639-4296-9af9-ff81a22938a0",
   "metadata": {},
   "outputs": [
    {
     "data": {
      "text/plain": [
       "[1, 2, 3, 4, 'hello', 'Karan']"
      ]
     },
     "execution_count": 39,
     "metadata": {},
     "output_type": "execute_result"
    }
   ],
   "source": [
    "yourList"
   ]
  },
  {
   "cell_type": "code",
   "execution_count": 40,
   "id": "d79a7fda-3188-41cf-88fe-ebed56c67dd1",
   "metadata": {},
   "outputs": [
    {
     "data": {
      "text/plain": [
       "[1, 2, 3, 4, 'hello', 'Karan']"
      ]
     },
     "execution_count": 40,
     "metadata": {},
     "output_type": "execute_result"
    }
   ],
   "source": [
    "myList"
   ]
  },
  {
   "cell_type": "code",
   "execution_count": 44,
   "id": "56f6113e-7784-438a-bc6a-4ba52256bace",
   "metadata": {},
   "outputs": [
    {
     "data": {
      "text/plain": [
       "True"
      ]
     },
     "execution_count": 44,
     "metadata": {},
     "output_type": "execute_result"
    }
   ],
   "source": [
    "myList is not yourList"
   ]
  },
  {
   "cell_type": "code",
   "execution_count": 45,
   "id": "23d8c488-0d68-410b-98d4-af691afe71c7",
   "metadata": {},
   "outputs": [],
   "source": [
    "yourList.clear()"
   ]
  },
  {
   "cell_type": "code",
   "execution_count": 46,
   "id": "b6fbb606-373b-462f-8641-3af11c85823c",
   "metadata": {},
   "outputs": [
    {
     "data": {
      "text/plain": [
       "[]"
      ]
     },
     "execution_count": 46,
     "metadata": {},
     "output_type": "execute_result"
    }
   ],
   "source": [
    "yourList"
   ]
  },
  {
   "cell_type": "code",
   "execution_count": 47,
   "id": "a1057775-148c-4ac3-9c88-c0f2fcec9f32",
   "metadata": {},
   "outputs": [
    {
     "data": {
      "text/plain": [
       "[1, 2, 3, 4, 'hello', 'Karan']"
      ]
     },
     "execution_count": 47,
     "metadata": {},
     "output_type": "execute_result"
    }
   ],
   "source": [
    "myList.copy()"
   ]
  },
  {
   "cell_type": "code",
   "execution_count": 48,
   "id": "50fc7bda-53ca-44bf-b016-8f42403ee2cf",
   "metadata": {},
   "outputs": [],
   "source": [
    "# count, index, extend, insert"
   ]
  },
  {
   "cell_type": "code",
   "execution_count": 49,
   "id": "b9259094-e17a-4545-903c-329bfab091d1",
   "metadata": {},
   "outputs": [],
   "source": [
    "import random"
   ]
  },
  {
   "cell_type": "code",
   "execution_count": 50,
   "id": "c46b97de-c4f3-412b-95f5-faab7d6161e1",
   "metadata": {},
   "outputs": [],
   "source": [
    "yourList = [random.randint(1,10) for i in range(20)]"
   ]
  },
  {
   "cell_type": "code",
   "execution_count": 51,
   "id": "72080ae6-7b60-47f4-bfba-34a771604e1b",
   "metadata": {},
   "outputs": [
    {
     "data": {
      "text/plain": [
       "[5, 9, 8, 2, 4, 8, 5, 1, 3, 3, 3, 2, 8, 3, 6, 4, 9, 10, 8, 10]"
      ]
     },
     "execution_count": 51,
     "metadata": {},
     "output_type": "execute_result"
    }
   ],
   "source": [
    "yourList"
   ]
  },
  {
   "cell_type": "code",
   "execution_count": 52,
   "id": "43a25f5f-2149-4212-a365-396ab82fb9e8",
   "metadata": {},
   "outputs": [
    {
     "data": {
      "text/plain": [
       "20"
      ]
     },
     "execution_count": 52,
     "metadata": {},
     "output_type": "execute_result"
    }
   ],
   "source": [
    "len(yourList)"
   ]
  },
  {
   "cell_type": "code",
   "execution_count": 56,
   "id": "e71bbd44-c530-4fa8-811d-c063cb1adf88",
   "metadata": {},
   "outputs": [
    {
     "data": {
      "text/plain": [
       "4"
      ]
     },
     "execution_count": 56,
     "metadata": {},
     "output_type": "execute_result"
    }
   ],
   "source": [
    "yourList.count(3)"
   ]
  },
  {
   "cell_type": "code",
   "execution_count": 57,
   "id": "5379f2c8-4e65-4ef3-9820-84c6b2055078",
   "metadata": {},
   "outputs": [
    {
     "data": {
      "text/plain": [
       "[1, 2, 3, 4, 'hello', 'Karan']"
      ]
     },
     "execution_count": 57,
     "metadata": {},
     "output_type": "execute_result"
    }
   ],
   "source": [
    "myList"
   ]
  },
  {
   "cell_type": "code",
   "execution_count": 61,
   "id": "f8d7d05e-b4c0-41ca-a29e-22a32d1ad177",
   "metadata": {},
   "outputs": [
    {
     "data": {
      "text/plain": [
       "5"
      ]
     },
     "execution_count": 61,
     "metadata": {},
     "output_type": "execute_result"
    }
   ],
   "source": [
    "myList.index('Karan')"
   ]
  },
  {
   "cell_type": "code",
   "execution_count": 66,
   "id": "d54c2193-3649-4ed2-821a-2183595f734f",
   "metadata": {},
   "outputs": [
    {
     "data": {
      "text/plain": [
       "6"
      ]
     },
     "execution_count": 66,
     "metadata": {},
     "output_type": "execute_result"
    }
   ],
   "source": [
    "yourList.index(5,1)"
   ]
  },
  {
   "cell_type": "code",
   "execution_count": 67,
   "id": "8e35bf07-ef7a-4f6b-8c78-493b417f9734",
   "metadata": {},
   "outputs": [
    {
     "data": {
      "text/plain": [
       "[5, 9, 8, 2, 4, 8, 5, 1, 3, 3, 3, 2, 8, 3, 6, 4, 9, 10, 8, 10]"
      ]
     },
     "execution_count": 67,
     "metadata": {},
     "output_type": "execute_result"
    }
   ],
   "source": [
    "yourList"
   ]
  },
  {
   "cell_type": "code",
   "execution_count": null,
   "id": "2e4144ec-74f3-45a8-81fe-a564cd3c09cf",
   "metadata": {},
   "outputs": [],
   "source": []
  }
 ],
 "metadata": {
  "kernelspec": {
   "display_name": "Python 3 (ipykernel)",
   "language": "python",
   "name": "python3"
  },
  "language_info": {
   "codemirror_mode": {
    "name": "ipython",
    "version": 3
   },
   "file_extension": ".py",
   "mimetype": "text/x-python",
   "name": "python",
   "nbconvert_exporter": "python",
   "pygments_lexer": "ipython3",
   "version": "3.10.5"
  }
 },
 "nbformat": 4,
 "nbformat_minor": 5
}
