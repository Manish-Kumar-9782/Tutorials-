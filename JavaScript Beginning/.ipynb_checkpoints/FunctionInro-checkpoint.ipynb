{
 "cells": [
  {
   "attachments": {},
   "cell_type": "markdown",
   "metadata": {},
   "source": [
    "# Function In javaScrpt"
   ]
  },
  {
   "attachments": {},
   "cell_type": "markdown",
   "metadata": {},
   "source": [
    "### Definition of function\n",
    "\n",
    "Function is building block for our statements. it is used to make block of statements and executes in a procedural manner.\n",
    "\n",
    "Syntax of function\n",
    "```js\n",
    "<keyword> <function name>( <parameter_list>){\n",
    "    // statements\n",
    "\n",
    "    return value.\n",
    "}\n",
    "```\n",
    "\n",
    "* `keyword:` function\n",
    "* `function name:` it is an identifier, (user defined name)\n",
    "* `parameter list:` an input list from external scope.\n",
    "  * `parameters:` variables to hold the input vales.\n",
    "  * `arguments: ` input values for function are called arguments.\n",
    "* `{}:` body block of the function, in which we define multiple statements, these statement will be executed whenever we will call function.\n",
    "* `return:` it is the values which is returned by the function to the user for further usage."
   ]
  },
  {
   "attachments": {},
   "cell_type": "markdown",
   "metadata": {},
   "source": [
    "To user a function we have to stage.\n",
    "1. Define a function.\n",
    "2. Call the function."
   ]
  },
  {
   "attachments": {},
   "cell_type": "markdown",
   "metadata": {},
   "source": [
    "##### A simple function which will add 2 values.\n",
    "\n",
    "This function will take two inputs as arguments.\n",
    "\n",
    "**1. Defining A function**"
   ]
  },
  {
   "cell_type": "code",
   "execution_count": 1,
   "metadata": {},
   "outputs": [],
   "source": [
    "function add(a,b){\n",
    "    const result = a+b;\n",
    "    return result; // this function weill return add of a and b.\n",
    "}"
   ]
  },
  {
   "attachments": {},
   "cell_type": "markdown",
   "metadata": {},
   "source": [
    "`Note:` if we don't return a value form the add function we will not get any value, instead we will get\n",
    "_undefined_ value.\n",
    "\n",
    "Now we will call this `add()` function to use it.\n",
    "\n",
    "**2. Calling The Function**"
   ]
  },
  {
   "cell_type": "code",
   "execution_count": 3,
   "metadata": {},
   "outputs": [
    {
     "data": {
      "text/plain": [
       "30"
      ]
     },
     "execution_count": 3,
     "metadata": {},
     "output_type": "execute_result"
    }
   ],
   "source": [
    "// Now we will pas 10, 20 as argument \n",
    "add(10,20);"
   ]
  },
  {
   "attachments": {},
   "cell_type": "markdown",
   "metadata": {},
   "source": [
    "##### A Greeting function To say Hello"
   ]
  },
  {
   "cell_type": "code",
   "execution_count": 8,
   "metadata": {},
   "outputs": [],
   "source": [
    "function greeting(name){\n",
    "    console.log(`Hello, My Name is ${name}, and who are you..!`)\n",
    "    console.log(\"Good Morning, Have a good day..!\")\n",
    "}"
   ]
  },
  {
   "cell_type": "code",
   "execution_count": 9,
   "metadata": {},
   "outputs": [
    {
     "name": "stdout",
     "output_type": "stream",
     "text": [
      "Hello, My Name is Kurshid, and who are you..!\n",
      "Good Morning, Have a good day..!\n"
     ]
    }
   ],
   "source": [
    "greeting(\"Kurshid\")"
   ]
  },
  {
   "cell_type": "code",
   "execution_count": 10,
   "metadata": {},
   "outputs": [
    {
     "name": "stdout",
     "output_type": "stream",
     "text": [
      "Hello, My Name is Bhanu, and who are you..!\n",
      "Good Morning, Have a good day..!\n"
     ]
    }
   ],
   "source": [
    "greeting(\"Bhanu\")"
   ]
  },
  {
   "cell_type": "code",
   "execution_count": 11,
   "metadata": {},
   "outputs": [
    {
     "name": "stdout",
     "output_type": "stream",
     "text": [
      "Hello, My Name is Mahesh, and who are you..!\n",
      "Good Morning, Have a good day..!\n"
     ]
    }
   ],
   "source": [
    "greeting(\"Mahesh\")"
   ]
  },
  {
   "attachments": {},
   "cell_type": "markdown",
   "metadata": {},
   "source": [
    "# Conditional Statements"
   ]
  },
  {
   "attachments": {},
   "cell_type": "markdown",
   "metadata": {},
   "source": [
    "In JavaScript we have two method to write conditional statement.\n",
    "1. if-else statement\n",
    "2. switch statement\n",
    "\n",
    "`Note:` \n",
    "\n",
    "* in if-else we use Logical and Relational operators to implement the condition\n",
    "* In switch statement we use constant values.\n"
   ]
  },
  {
   "attachments": {},
   "cell_type": "markdown",
   "metadata": {},
   "source": [
    "### if-else statement\n",
    "\n",
    "If we want to control what code should execute according to a particular defined condition by using any kind of logical and Relational operator or any kind of expression which results true or false values. In this situation we use if-else statement.\n",
    "\n",
    "*Syntax: for single condition*\n",
    "```js\n",
    "if(condition){\n",
    "    // statement block\n",
    "}\n",
    "```\n",
    "\n",
    "*Syntax: for two condition, this or that type problem*\n",
    "```js\n",
    "if(condition){\n",
    "    // if statement block\n",
    "}\n",
    "else{\n",
    "    // else statement block\n",
    "}\n",
    "```\n",
    "\n",
    "*Syntax: for multiple conditions*\n",
    "```js\n",
    "if(condition){\n",
    "    // 1st if statement block\n",
    "}\n",
    "else if(){\n",
    "    // 2nd if statement block\n",
    "}\n",
    "\n",
    "else if(){\n",
    "    // 3rd if statement block\n",
    "}\n",
    "...\n",
    "else{\n",
    "    // final default condition block\n",
    "}\n",
    "```"
   ]
  },
  {
   "attachments": {},
   "cell_type": "markdown",
   "metadata": {},
   "source": [
    "**Testing that a is greater than b**"
   ]
  },
  {
   "cell_type": "code",
   "execution_count": 12,
   "metadata": {},
   "outputs": [],
   "source": [
    "let a = 10;\n",
    "let b = 20;"
   ]
  },
  {
   "cell_type": "code",
   "execution_count": 18,
   "metadata": {},
   "outputs": [
    {
     "name": "stdout",
     "output_type": "stream",
     "text": [
      "a is greater than b... Hurree..!\n"
     ]
    }
   ],
   "source": [
    "a = 30;\n",
    "// only for single condition.\n",
    "if(a>=b){\n",
    "    console.log(\"a is greater than b... Hurree..!\")\n",
    "}\n",
    "// Note: this condition will only execute if a>b return true."
   ]
  },
  {
   "cell_type": "code",
   "execution_count": 20,
   "metadata": {},
   "outputs": [
    {
     "data": {
      "text/plain": [
       "true"
      ]
     },
     "execution_count": 20,
     "metadata": {},
     "output_type": "execute_result"
    }
   ],
   "source": [
    "// Inspecting the a>b result.\n",
    "a>=b"
   ]
  },
  {
   "attachments": {},
   "cell_type": "markdown",
   "metadata": {},
   "source": [
    "**This or that type condition**\n"
   ]
  },
  {
   "cell_type": "code",
   "execution_count": 22,
   "metadata": {},
   "outputs": [
    {
     "name": "stdout",
     "output_type": "stream",
     "text": [
      "a is less than b... Hurrah..!\n"
     ]
    }
   ],
   "source": [
    "// Now we will test our condition for both message equal to or not equal to.\n",
    "a = 5;\n",
    "// for two this or that type condition.\n",
    "if(a>b){\n",
    "    // for true.\n",
    "    console.log(\"a is greater than b... Hurrah..!\")\n",
    "}else{\n",
    "    // for false.\n",
    "    console.log(\"a is less than b... Hurrah..!\")\n",
    "}"
   ]
  },
  {
   "attachments": {},
   "cell_type": "markdown",
   "metadata": {},
   "source": [
    "**For multiple Conditions**\n",
    "To understand multiple conditions we can use the traffic light system in which we use red light for stop, green light for go, orange light for alert.\n",
    "\n",
    "and a default conditions when no light is available. call the traffic police."
   ]
  },
  {
   "cell_type": "code",
   "execution_count": 23,
   "metadata": {},
   "outputs": [],
   "source": [
    "// to store the light signal.\n",
    "let light;"
   ]
  },
  {
   "cell_type": "code",
   "execution_count": 28,
   "metadata": {},
   "outputs": [
    {
     "name": "stdout",
     "output_type": "stream",
     "text": [
      "Traffic System has been failed, please call traffic police..\n"
     ]
    }
   ],
   "source": [
    "light = \"jldsfjasljf\";\n",
    "\n",
    "\n",
    "if (light == \"green\") {\n",
    "    console.log(\"Light is green: You can go.\");\n",
    "    \n",
    "} else if(light == \"orange\") {\n",
    "    console.log(\"Light is orange: Danger is ahead please be careful.\");\n",
    "}\n",
    "else if(light == \"red\") {\n",
    "    console.log(\"Light is red: please stop.\");\n",
    "}\n",
    "else{\n",
    "    console.log(\"Traffic System has been failed, please call traffic police..\");\n",
    "}"
   ]
  },
  {
   "attachments": {},
   "cell_type": "markdown",
   "metadata": {},
   "source": [
    "Note: all the conditions will be tested in top to down order, if any condition is satisfied then other conditions will not be tested.\n",
    "\n",
    "Note: if all of the if conditions are not satisfied then last else condition will be executed.\n",
    "\n",
    "Note: if, `else` condition is defined, then it will be executed always if not any other conditions are not satisfied."
   ]
  },
  {
   "cell_type": "markdown",
   "metadata": {},
   "source": []
  }
 ],
 "metadata": {
  "kernelspec": {
   "display_name": "JavaScript (Node.js)",
   "language": "javascript",
   "name": "javascript"
  },
  "language_info": {
   "file_extension": ".js",
   "mimetype": "application/javascript",
   "name": "javascript",
   "version": "18.12.0"
  },
  "orig_nbformat": 4
 },
 "nbformat": 4,
 "nbformat_minor": 2
}
