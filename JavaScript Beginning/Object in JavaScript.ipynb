{
 "cells": [
  {
   "attachments": {},
   "cell_type": "markdown",
   "metadata": {},
   "source": [
    "```js\n",
    "\n",
    "let object = {\n",
    "    \"name\": \"Manish\",\n",
    "    \"age\": 20,\n",
    "    \"height\":5.6\n",
    "}\n",
    "\n",
    "```"
   ]
  },
  {
   "cell_type": "code",
   "execution_count": 1,
   "metadata": {},
   "outputs": [],
   "source": [
    "let object = {\n",
    "    \"name\": \"Manish\",\n",
    "    \"age\": 20,\n",
    "    \"height\":5.6\n",
    "}"
   ]
  },
  {
   "cell_type": "code",
   "execution_count": 2,
   "metadata": {},
   "outputs": [
    {
     "data": {
      "text/plain": [
       "'Manish'"
      ]
     },
     "execution_count": 2,
     "metadata": {},
     "output_type": "execute_result"
    }
   ],
   "source": [
    "object.name"
   ]
  },
  {
   "cell_type": "code",
   "execution_count": 3,
   "metadata": {},
   "outputs": [],
   "source": [
    "let balls = ['black', 'white', 'red', 'green', 'black', 'white', 'blue', 'green', 'green', 'red', 'white',\n",
    " 'red', 'red', 'red', 'blue', 'red', 'white', 'red', 'green', 'white', 'black', 'blue', 'black', 'black',\n",
    "  'green', 'red', 'white', 'black', 'red', 'red', 'blue', 'green', 'black', 'red', 'green', 'white', \n",
    "  'white', 'red', 'blue', 'white', 'black', 'green', 'green', 'black', 'red', 'red', 'red', 'white', \n",
    "  'green', 'white', 'white', 'black', 'blue', 'green', 'green', 'black', 'white', 'red', 'green', 'blue', \n",
    "  'white', 'black', 'green', 'red', 'white', 'red', 'red', 'red', 'black', 'red', 'blue', 'white', 'black',\n",
    "   'blue', 'white', 'blue', 'green', 'white', 'blue', 'green', 'green', 'green', 'green', 'green', 'red', \n",
    "   'green', 'red', 'white', 'white', 'red', 'white', 'green', 'black', 'green', 'blue', 'red', 'green', \n",
    "   'red', 'blue']"
   ]
  },
  {
   "cell_type": "code",
   "execution_count": 5,
   "metadata": {},
   "outputs": [],
   "source": [
    "let colorBalls = {\n",
    "    red: 0,\n",
    "    green: 0,\n",
    "    blue: 0,\n",
    "    black: 0,\n",
    "    white: 0\n",
    "}"
   ]
  },
  {
   "cell_type": "code",
   "execution_count": 7,
   "metadata": {},
   "outputs": [
    {
     "data": {
      "text/plain": [
       "12"
      ]
     },
     "execution_count": 7,
     "metadata": {},
     "output_type": "execute_result"
    }
   ],
   "source": [
    "for(let i =0; i<balls.length; i++) {\n",
    "\n",
    "    let key = balls[i];\n",
    "\n",
    "    switch (key) {\n",
    "        case \"red\":\n",
    "            colorBalls.red++;\n",
    "            break;\n",
    "        case \"green\":\n",
    "            colorBalls.green++;\n",
    "            break;\n",
    "        case \"blue\":\n",
    "            colorBalls.blue++;\n",
    "            break;\n",
    "        case \"black\":\n",
    "            colorBalls.black++;\n",
    "            break;\n",
    "        case \"white\":\n",
    "            colorBalls.white++;\n",
    "            break;\n",
    "        default:\n",
    "            break;\n",
    "    }\n",
    "}"
   ]
  },
  {
   "cell_type": "code",
   "execution_count": 8,
   "metadata": {},
   "outputs": [
    {
     "data": {
      "text/plain": [
       "{ red: 26, green: 24, blue: 13, black: 15, white: 21 }"
      ]
     },
     "execution_count": 8,
     "metadata": {},
     "output_type": "execute_result"
    }
   ],
   "source": [
    "colorBalls"
   ]
  },
  {
   "cell_type": "code",
   "execution_count": 10,
   "metadata": {},
   "outputs": [
    {
     "data": {
      "text/plain": [
       "23"
      ]
     },
     "execution_count": 10,
     "metadata": {},
     "output_type": "execute_result"
    }
   ],
   "source": [
    "colorBalls.yellow = 23;"
   ]
  },
  {
   "cell_type": "code",
   "execution_count": 11,
   "metadata": {},
   "outputs": [
    {
     "data": {
      "text/plain": [
       "{ red: 26, green: 24, blue: 13, black: 15, white: 21, yellow: 23 }"
      ]
     },
     "execution_count": 11,
     "metadata": {},
     "output_type": "execute_result"
    }
   ],
   "source": [
    "colorBalls"
   ]
  },
  {
   "cell_type": "code",
   "execution_count": 12,
   "metadata": {},
   "outputs": [],
   "source": [
    "let Student = {\n",
    "    name: \"Aasif\",\n",
    "    age: 20,\n",
    "    height: 5.6,\n",
    "    bloodGroup: \"B+\",\n",
    "    showInfo: function(){\n",
    "        console.log(\"Name:\"+Student.name);\n",
    "        console.log(\"Age:\"+Student.age);\n",
    "        console.log(\"Height:\"+Student.height);\n",
    "        console.log(\"Blood Group:\"+Student.bloodGroup);\n",
    "    }\n",
    "}"
   ]
  },
  {
   "cell_type": "code",
   "execution_count": 15,
   "metadata": {},
   "outputs": [
    {
     "name": "stdout",
     "output_type": "stream",
     "text": [
      "Name:Aasif\n",
      "Age:20\n",
      "Height:5.6\n",
      "Blood Group:B+\n"
     ]
    }
   ],
   "source": [
    "Student.showInfo()"
   ]
  },
  {
   "cell_type": "code",
   "execution_count": 16,
   "metadata": {},
   "outputs": [],
   "source": [
    "let student = {\n",
    "    name: \"Aasif\",\n",
    "    age: 20,\n",
    "    height: 5.6,\n",
    "    bloodGroup: \"B+\",\n",
    "    \n",
    "    showInfo: function(){\n",
    "        console.log(\"Name:\"+this.name);\n",
    "        console.log(\"Age:\"+this.age);\n",
    "        console.log(\"Height:\"+this.height);\n",
    "        console.log(\"Blood Group:\"+this.bloodGroup);\n",
    "    }\n",
    "}"
   ]
  },
  {
   "cell_type": "code",
   "execution_count": 17,
   "metadata": {},
   "outputs": [
    {
     "name": "stdout",
     "output_type": "stream",
     "text": [
      "Name:Aasif\n",
      "Age:20\n",
      "Height:5.6\n",
      "Blood Group:B+\n"
     ]
    }
   ],
   "source": [
    "student.showInfo()"
   ]
  },
  {
   "cell_type": "code",
   "execution_count": 18,
   "metadata": {},
   "outputs": [
    {
     "data": {
      "text/plain": [
       "'object'"
      ]
     },
     "execution_count": 18,
     "metadata": {},
     "output_type": "execute_result"
    }
   ],
   "source": [
    "typeof student"
   ]
  },
  {
   "cell_type": "code",
   "execution_count": 19,
   "metadata": {},
   "outputs": [
    {
     "data": {
      "text/plain": [
       "{\n",
       "  name: 'Aasif',\n",
       "  age: 20,\n",
       "  height: 5.6,\n",
       "  bloodGroup: 'B+',\n",
       "  showInfo: [Function: showInfo]\n",
       "}"
      ]
     },
     "execution_count": 19,
     "metadata": {},
     "output_type": "execute_result"
    }
   ],
   "source": [
    "student"
   ]
  },
  {
   "cell_type": "code",
   "execution_count": 20,
   "metadata": {},
   "outputs": [
    {
     "data": {
      "text/plain": [
       "[Function: assign]"
      ]
     },
     "execution_count": 20,
     "metadata": {},
     "output_type": "execute_result"
    }
   ],
   "source": []
  },
  {
   "attachments": {},
   "cell_type": "markdown",
   "metadata": {},
   "source": [
    "### Function as a Constructor for a type of object.\n",
    "\n",
    "In this we will make a function which may take any number of arguments. and if arguments are given then this will be assigned to the object properties after doing some computation.\n",
    "\n",
    "```js\n",
    "function Person(name, age, height){\n",
    "    this.name = name;\n",
    "    this.age = age;\n",
    "    this.height = height;\n",
    "};\n",
    "```\n",
    "\n",
    "In this above case we are making a constructor to create a Person object, this will take three arguments name, age and height.\n",
    "\n",
    "all three arguments will be passed to the constructor and will be assigned tos the object properties.Now we can create any number of Person objects containing same amount of properties.\n",
    "\n",
    "In below code...\n",
    "\n",
    "```js\n",
    "let student = {\n",
    "    name: \"Aasif\",\n",
    "    age: 20,\n",
    "    height: 5.6,\n",
    "    bloodGroup: \"B+\",\n",
    "    \n",
    "    showInfo: function(){\n",
    "        console.log(\"Name:\"+this.name);\n",
    "        console.log(\"Age:\"+this.age);\n",
    "        console.log(\"Height:\"+this.height);\n",
    "        console.log(\"Blood Group:\"+this.bloodGroup);\n",
    "    }\n",
    "}\n",
    "```\n",
    "we are creating only a single student object, and if we want to store more students information then we need to create each student object individually. To do this operation we need to write the same amount of code for each student. To solve this kind of problem we can create a constructor for a student object."
   ]
  },
  {
   "cell_type": "code",
   "execution_count": 1,
   "metadata": {},
   "outputs": [],
   "source": [
    "// Now we will define a constructor for student object.\n",
    "\n",
    "function Student(name, age, height, bloodGroup){\n",
    "    this.name = name;\n",
    "    this.age = age;\n",
    "    this.height = height;\n",
    "    this.bloodGroup = bloodGroup;\n",
    "}"
   ]
  },
  {
   "attachments": {},
   "cell_type": "markdown",
   "metadata": {},
   "source": [
    "Now using this Student constructor we can create any amount of new students. we just need to pass its required arguments to the constructor."
   ]
  },
  {
   "cell_type": "code",
   "execution_count": 5,
   "metadata": {},
   "outputs": [],
   "source": [
    "// Now we will create a new student.\n",
    "let student2 = new Student(\"Aasif\", 21, 5.5, \"B+\");"
   ]
  },
  {
   "cell_type": "code",
   "execution_count": 6,
   "metadata": {},
   "outputs": [
    {
     "data": {
      "text/plain": [
       "Student { name: 'Aasif', age: 21, height: 5.5, bloodGroup: 'B+' }"
      ]
     },
     "execution_count": 6,
     "metadata": {},
     "output_type": "execute_result"
    }
   ],
   "source": [
    "student2"
   ]
  },
  {
   "cell_type": "code",
   "execution_count": null,
   "metadata": {},
   "outputs": [],
   "source": []
  }
 ],
 "metadata": {
  "kernelspec": {
   "display_name": "JavaScript (Node.js)",
   "language": "javascript",
   "name": "javascript"
  },
  "language_info": {
   "file_extension": ".js",
   "mimetype": "application/javascript",
   "name": "javascript",
   "version": "18.12.0"
  },
  "orig_nbformat": 4
 },
 "nbformat": 4,
 "nbformat_minor": 2
}
