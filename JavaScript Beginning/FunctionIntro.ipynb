{
 "cells": [
  {
   "attachments": {},
   "cell_type": "markdown",
   "metadata": {},
   "source": [
    "# Function In javaScrpt"
   ]
  },
  {
   "attachments": {},
   "cell_type": "markdown",
   "metadata": {},
   "source": [
    "### Definition of function\n",
    "\n",
    "Function is building block for our statements. it is used to make block of statements and executes in a procedural manner.\n",
    "\n",
    "Syntax of function\n",
    "```js\n",
    "<keyword> <function name>( <parameter_list>){\n",
    "    // statements\n",
    "\n",
    "    return value.\n",
    "}\n",
    "```\n",
    "\n",
    "* `keyword:` function\n",
    "* `function name:` it is an identifier, (user defined name)\n",
    "* `parameter list:` an input list from external scope.\n",
    "  * `parameters:` variables to hold the input vales. we can pass any number of parameters.\n",
    "  * `arguments: ` input values for function are called arguments.\n",
    "* `{}:` body block of the function, in which we define multiple statements, these statement will be executed whenever we will call function.\n",
    "* `return:` it is the values which is returned by the function to the user for further usage."
   ]
  },
  {
   "attachments": {},
   "cell_type": "markdown",
   "metadata": {},
   "source": [
    "To use a function we have to stage.\n",
    "1. Define a function.\n",
    "2. Call the function."
   ]
  },
  {
   "attachments": {},
   "cell_type": "markdown",
   "metadata": {},
   "source": [
    "##### A simple function which will add 2 values.\n",
    "\n",
    "This function will take two inputs as arguments.\n",
    "\n",
    "**1. Defining A function**"
   ]
  },
  {
   "cell_type": "code",
   "execution_count": 1,
   "metadata": {},
   "outputs": [],
   "source": [
    "function add(a,b){\n",
    "    // a anb b are parameters, which is used to hold the values coming from outside of the function.\n",
    "    // we can user these a anb b values inside the function anywhere.\n",
    "    const result = a+b; // here we can use any keyword let, var, const.\n",
    "    return result; // this function weill return add of a and b.\n",
    "}"
   ]
  },
  {
   "attachments": {},
   "cell_type": "markdown",
   "metadata": {},
   "source": [
    "`Note:` if we don't return a value form the add function we will not get any value, instead we will get\n",
    "_undefined_ value.\n",
    "\n",
    "Now we will call this `add()` function to use it.\n",
    "\n",
    "**2. Calling The Function**"
   ]
  },
  {
   "cell_type": "code",
   "execution_count": 2,
   "metadata": {},
   "outputs": [
    {
     "data": {
      "text/plain": [
       "30"
      ]
     },
     "execution_count": 2,
     "metadata": {},
     "output_type": "execute_result"
    }
   ],
   "source": [
    "// Now we will pas 10, 20 as argument \n",
    "add(10,20);"
   ]
  },
  {
   "attachments": {},
   "cell_type": "markdown",
   "metadata": {},
   "source": [
    "**A function which does not return any value.**\n",
    "\n",
    "if we don't define return keyword inside the function then it will return undefined.\n",
    "\n",
    "`Note:` return keyword break the function and exits from the function."
   ]
  },
  {
   "attachments": {},
   "cell_type": "markdown",
   "metadata": {},
   "source": [
    "##### A Greeting function To say Hello"
   ]
  },
  {
   "cell_type": "code",
   "execution_count": 3,
   "metadata": {},
   "outputs": [],
   "source": [
    "function greeting(name){\n",
    "    console.log(`Hello, My Name is ${name}, and who are you..!`)\n",
    "    console.log(\"Good Morning, Have a good day..!\")\n",
    "}"
   ]
  },
  {
   "cell_type": "code",
   "execution_count": 4,
   "metadata": {},
   "outputs": [
    {
     "name": "stdout",
     "output_type": "stream",
     "text": [
      "Hello, My Name is Kurshid, and who are you..!\n",
      "Good Morning, Have a good day..!\n"
     ]
    }
   ],
   "source": [
    "greeting(\"Kurshid\")"
   ]
  },
  {
   "cell_type": "code",
   "execution_count": 5,
   "metadata": {},
   "outputs": [
    {
     "name": "stdout",
     "output_type": "stream",
     "text": [
      "Hello, My Name is Bhanu, and who are you..!\n",
      "Good Morning, Have a good day..!\n"
     ]
    }
   ],
   "source": [
    "greeting(\"Bhanu\")"
   ]
  },
  {
   "cell_type": "code",
   "execution_count": 6,
   "metadata": {},
   "outputs": [
    {
     "name": "stdout",
     "output_type": "stream",
     "text": [
      "Hello, My Name is undefined, and who are you..!\n",
      "Good Morning, Have a good day..!\n"
     ]
    }
   ],
   "source": [
    "greeting()"
   ]
  },
  {
   "attachments": {},
   "cell_type": "markdown",
   "metadata": {},
   "source": [
    "`Note: `If we don't pass any values to the function, and function takes some arguments, then all arguments will have `undefined` values."
   ]
  },
  {
   "attachments": {},
   "cell_type": "markdown",
   "metadata": {},
   "source": [
    "**Greeting with or without name**\n",
    "In this section we will make a if statement from which we can control the undefined name greeting.\n",
    "so we don't need to display undefined greeting."
   ]
  },
  {
   "cell_type": "code",
   "execution_count": 8,
   "metadata": {},
   "outputs": [],
   "source": [
    "function greeting(name){\n",
    "    if(name != undefined){\n",
    "        console.log(`Hello, My Name is ${name}, and who are you..!`)\n",
    "        console.log(\"Good Morning, Have a good day..!\")\n",
    "    }\n",
    "}"
   ]
  },
  {
   "cell_type": "code",
   "execution_count": 9,
   "metadata": {},
   "outputs": [
    {
     "name": "stdout",
     "output_type": "stream",
     "text": [
      "Hello, My Name is Jakir, and who are you..!\n",
      "Good Morning, Have a good day..!\n"
     ]
    }
   ],
   "source": [
    "greeting(\"Jakir\")"
   ]
  },
  {
   "cell_type": "code",
   "execution_count": 10,
   "metadata": {},
   "outputs": [],
   "source": [
    "greeting()"
   ]
  },
  {
   "attachments": {},
   "cell_type": "markdown",
   "metadata": {},
   "source": [
    "## Order of Positional arguments.\n",
    "In this section we will see that how our arguments are fetched from parameter list, how their positions play role to get the information inside the function.\n",
    "\n",
    "Note: all the arguments will passed in sequence order like as an array.\n",
    "\n",
    "for example:\n",
    "\n",
    "```js\n",
    "function func(value1, value2, ..., valueN){\n",
    "    // statements\n",
    "    // all arguments will be assigned to the parameters in defined order of parameter list.\n",
    "    return value;\n",
    "}\n",
    "```"
   ]
  },
  {
   "attachments": {},
   "cell_type": "markdown",
   "metadata": {},
   "source": [
    "`Note:` Now if don't pass any value to the name in greeting function it will not display any greeting message."
   ]
  },
  {
   "cell_type": "code",
   "execution_count": 1,
   "metadata": {},
   "outputs": [],
   "source": [
    "// defining the function\n",
    "\n",
    "function student(name, age, height, bloodGroup){\n",
    "    // Note the order of name, age, height, bloodGroup.\n",
    "    console.log(\"name: \", name);\n",
    "    console.log(\"age: \", age);\n",
    "    console.log(\"height: \", height);\n",
    "    console.log(\"bloodGroup: \", bloodGroup);\n",
    "}"
   ]
  },
  {
   "attachments": {},
   "cell_type": "markdown",
   "metadata": {},
   "source": [
    "**Case1: Matching the Order during passing arguments**"
   ]
  },
  {
   "cell_type": "code",
   "execution_count": 2,
   "metadata": {},
   "outputs": [
    {
     "name": "stdout",
     "output_type": "stream",
     "text": [
      "name:  Sushma\n",
      "age:  21\n",
      "height:  5.5\n",
      "bloodGroup:  AB+\n"
     ]
    }
   ],
   "source": [
    "student('Sushma', 21, 5.5, 'AB+')"
   ]
  },
  {
   "attachments": {},
   "cell_type": "markdown",
   "metadata": {},
   "source": [
    "Note: if order matches then all identifier get their values, as expected."
   ]
  },
  {
   "attachments": {},
   "cell_type": "markdown",
   "metadata": {},
   "source": [
    "**Case2: Passing arguments in random order**"
   ]
  },
  {
   "cell_type": "code",
   "execution_count": 3,
   "metadata": {},
   "outputs": [
    {
     "name": "stdout",
     "output_type": "stream",
     "text": [
      "name:  AB+\n",
      "age:  5.5\n",
      "height:  21\n",
      "bloodGroup:  Sushma\n"
     ]
    }
   ],
   "source": [
    "student('AB+', 5.5, 21, \"Sushma\")"
   ]
  },
  {
   "cell_type": "code",
   "execution_count": 4,
   "metadata": {},
   "outputs": [
    {
     "name": "stdout",
     "output_type": "stream",
     "text": [
      "name:  AB+\n",
      "age:  5.5\n",
      "height:  21\n",
      "bloodGroup:  sushma\n"
     ]
    }
   ],
   "source": [
    "student(bloodGroup=\"AB+\", height=5.5, age = 21, name=\"sushma\")"
   ]
  },
  {
   "attachments": {},
   "cell_type": "markdown",
   "metadata": {},
   "source": [
    "Note: if don't pass the values in defined order, even if we use the parameter identifier then also it will take the value in the defined order not in random order.(order given by user.)"
   ]
  },
  {
   "attachments": {},
   "cell_type": "markdown",
   "metadata": {},
   "source": [
    "**Case3 : Missing some arguments**"
   ]
  },
  {
   "cell_type": "code",
   "execution_count": 7,
   "metadata": {},
   "outputs": [
    {
     "name": "stdout",
     "output_type": "stream",
     "text": [
      "name:  mahesh\n",
      "age:  21\n",
      "height:  5.7\n",
      "bloodGroup:  undefined\n"
     ]
    }
   ],
   "source": [
    "student(\"mahesh\", 21, 5.7)"
   ]
  },
  {
   "attachments": {},
   "cell_type": "markdown",
   "metadata": {},
   "source": [
    "## Arrow Function : un-named function\n",
    "\n",
    "```js\n",
    "// if we have multiple parameters.\n",
    "(parameter_list)=>{\n",
    "    // statements \n",
    "    return value;\n",
    "}\n",
    "\n",
    "// if we have single parameters.\n",
    "parm => {\n",
    "    // statements\n",
    "    return value;\n",
    "}\n",
    "\n",
    "// if we don't have any parameter\n",
    "()=>{\n",
    "    // statements\n",
    "    return value;\n",
    "}\n",
    "```"
   ]
  },
  {
   "attachments": {},
   "cell_type": "markdown",
   "metadata": {},
   "source": [
    "## function as object \n",
    "\n",
    "```js\n",
    "let myFunc = function(){\n",
    "    // statements\n",
    "\n",
    "    return value;\n",
    "}\n",
    "```"
   ]
  },
  {
   "attachments": {},
   "cell_type": "markdown",
   "metadata": {},
   "source": [
    "Difference in b/w the simple function and object function."
   ]
  },
  {
   "cell_type": "code",
   "execution_count": 1,
   "metadata": {},
   "outputs": [],
   "source": [
    "let myObj = {\n",
    "    name: \"manish\",\n",
    "    age: 21,\n",
    "    height: 5.6,\n",
    "    bloodGroup: \"O-\",\n",
    "    showInfo: function(){\n",
    "        console.log(\"Name: \", this.name);\n",
    "        console.log(\"Age: \", this.age);\n",
    "        console.log(\"Height: \", this.height);\n",
    "        console.log(\"BloodGroup: \", this.bloodGroup);\n",
    "        console.log(\"this --> \", this)\n",
    "    }\n",
    "}"
   ]
  },
  {
   "cell_type": "code",
   "execution_count": 2,
   "metadata": {},
   "outputs": [
    {
     "name": "stdout",
     "output_type": "stream",
     "text": [
      "Name:  manish\n",
      "Age:  21\n",
      "Height:  5.6\n",
      "BloodGroup:  O-\n",
      "this -->  {\n",
      "  name: 'manish',\n",
      "  age: 21,\n",
      "  height: 5.6,\n",
      "  bloodGroup: 'O-',\n",
      "  showInfo: [Function: showInfo]\n",
      "}\n"
     ]
    }
   ],
   "source": [
    "myObj.showInfo()"
   ]
  },
  {
   "cell_type": "code",
   "execution_count": 3,
   "metadata": {},
   "outputs": [],
   "source": [
    "let myObj2 = {\n",
    "    name: \"manish\",\n",
    "    age: 21,\n",
    "    height: 5.6,\n",
    "    bloodGroup: \"O-\",\n",
    "    showInfo: ()=>{\n",
    "        console.log(\"Name: \", this.name);\n",
    "        console.log(\"Age: \", this.age);\n",
    "        console.log(\"Height: \", this.height);\n",
    "        console.log(\"BloodGroup: \", this.bloodGroup);\n",
    "        console.log(\"this --> \", this)\n",
    "    }\n",
    "}"
   ]
  },
  {
   "cell_type": "code",
   "execution_count": 4,
   "metadata": {},
   "outputs": [
    {
     "name": "stdout",
     "output_type": "stream",
     "text": [
      "Name:  undefined\n",
      "Age:  undefined\n",
      "Height:  undefined\n",
      "BloodGroup:  undefined\n",
      "this -->  <ref *1> Object [global] {\n",
      "  global: [Circular *1],\n",
      "  queueMicrotask: [Function: queueMicrotask],\n",
      "  clearImmediate: [Function: clearImmediate],\n",
      "  setImmediate: [Function: setImmediate] {\n",
      "    [Symbol(nodejs.util.promisify.custom)]: [Getter]\n",
      "  },\n",
      "  structuredClone: [Function: structuredClone],\n",
      "  clearInterval: [Function: clearInterval],\n",
      "  clearTimeout: [Function: clearTimeout],\n",
      "  setInterval: [Function: setInterval],\n",
      "  setTimeout: [Function: setTimeout] {\n",
      "    [Symbol(nodejs.util.promisify.custom)]: [Getter]\n",
      "  },\n",
      "  atob: [Function: atob],\n",
      "  btoa: [Function: btoa],\n",
      "  performance: Performance {\n",
      "    nodeTiming: PerformanceNodeTiming {\n",
      "      name: 'node',\n",
      "      entryType: 'node',\n",
      "      startTime: 0,\n",
      "      duration: 33167.126099999994,\n",
      "      nodeStart: 3.4130000001750886,\n",
      "      v8Start: 8.132100000046194,\n",
      "      bootstrapComplete: 52.23350000008941,\n",
      "      environment: 25.510000000242144,\n",
      "      loopStart: 56.643600000068545,\n",
      "      loopExit: -1,\n",
      "      idleTime: 33089.9841\n",
      "    },\n",
      "    timeOrigin: 1678784225106.916\n",
      "  },\n",
      "  fetch: [AsyncFunction: fetch],\n",
      "  __filename: '[eval]',\n",
      "  module: <ref *2> [Function: Module] {\n",
      "    builtinModules: [\n",
      "      '_http_agent',         '_http_client',        '_http_common',\n",
      "      '_http_incoming',      '_http_outgoing',      '_http_server',\n",
      "      '_stream_duplex',      '_stream_passthrough', '_stream_readable',\n",
      "      '_stream_transform',   '_stream_wrap',        '_stream_writable',\n",
      "      '_tls_common',         '_tls_wrap',           'assert',\n",
      "      'assert/strict',       'async_hooks',         'buffer',\n",
      "      'child_process',       'cluster',             'console',\n",
      "      'constants',           'crypto',              'dgram',\n",
      "      'diagnostics_channel', 'dns',                 'dns/promises',\n",
      "      'domain',              'events',              'fs',\n",
      "      'fs/promises',         'http',                'http2',\n",
      "      'https',               'inspector',           'module',\n",
      "      'net',                 'os',                  'path',\n",
      "      'path/posix',          'path/win32',          'perf_hooks',\n",
      "      'process',             'punycode',            'querystring',\n",
      "      'readline',            'readline/promises',   'repl',\n",
      "      'stream',              'stream/consumers',    'stream/promises',\n",
      "      'stream/web',          'string_decoder',      'sys',\n",
      "      'timers',              'timers/promises',     'tls',\n",
      "      'trace_events',        'tty',                 'url',\n",
      "      'util',                'util/types',          'v8',\n",
      "      'vm',                  'worker_threads',      'zlib'\n",
      "    ],\n",
      "    _cache: [Object: null prototype] {},\n",
      "    _pathCache: [Object: null prototype] {},\n",
      "    _extensions: [Object: null prototype] {\n",
      "      '.js': [Function (anonymous)],\n",
      "      '.json': [Function (anonymous)],\n",
      "      '.node': [Function (anonymous)]\n",
      "    },\n",
      "    globalPaths: [\n",
      "      'C:\\\\Users\\\\manis\\\\.node_modules',\n",
      "      'C:\\\\Users\\\\manis\\\\.node_libraries',\n",
      "      'C:\\\\Program Files\\\\nodejs\\\\lib\\\\node'\n",
      "    ],\n",
      "    _debug: [Function: deprecated],\n",
      "    _findPath: [Function (anonymous)],\n",
      "    _nodeModulePaths: [Function (anonymous)],\n",
      "    _resolveLookupPaths: [Function (anonymous)],\n",
      "    _load: [Function (anonymous)],\n",
      "    _resolveFilename: [Function (anonymous)],\n",
      "    createRequire: [Function: createRequire],\n",
      "    _initPaths: [Function (anonymous)],\n",
      "    _preloadModules: [Function (anonymous)],\n",
      "    syncBuiltinESMExports: [Function: syncBuiltinESMExports],\n",
      "    isBuiltin: [Function: isBuiltin],\n",
      "    Module: [Circular *2],\n",
      "    runMain: [Function: executeUserEntryPoint],\n",
      "    findSourceMap: [Function: findSourceMap],\n",
      "    SourceMap: [class SourceMap]\n",
      "  },\n",
      "  exports: {},\n",
      "  __dirname: '.',\n",
      "  require: [Function: require] {\n",
      "    resolve: [Function: resolve] { paths: [Function: paths] },\n",
      "    main: undefined,\n",
      "    extensions: [Object: null prototype] {\n",
      "      '.js': [Function (anonymous)],\n",
      "      '.json': [Function (anonymous)],\n",
      "      '.node': [Function (anonymous)]\n",
      "    },\n",
      "    cache: [Object: null prototype] {}\n",
      "  },\n",
      "  '$$mimer$$': [Function: defaultMimer],\n",
      "  '$$done$$': [Function: bound bound done],\n",
      "  console: Console [console] {\n",
      "    log: [Function: log],\n",
      "    warn: [Function: warn],\n",
      "    dir: [Function: dir],\n",
      "    time: [Function: time],\n",
      "    timeEnd: [Function: timeEnd],\n",
      "    timeLog: [Function: timeLog],\n",
      "    trace: [Function: trace],\n",
      "    assert: [Function: assert],\n",
      "    clear: [Function: clear],\n",
      "    count: [Function: count],\n",
      "    countReset: [Function: countReset],\n",
      "    group: [Function: group],\n",
      "    groupEnd: [Function: groupEnd],\n",
      "    table: [Function: table],\n",
      "    debug: [Function: debug],\n",
      "    info: [Function: info],\n",
      "    dirxml: [Function: dirxml],\n",
      "    error: [Function: error],\n",
      "    groupCollapsed: [Function: groupCollapsed],\n",
      "    Console: [Function: Console]\n",
      "  },\n",
      "  '$$': [Object: null prototype] {\n",
      "    async: [Function: bound async],\n",
      "    done: [Function: bound done],\n",
      "    sendResult: [Function: bound ],\n",
      "    sendError: [Function: bound ],\n",
      "    mime: [Function: bound ],\n",
      "    text: [Function: bound ],\n",
      "    html: [Function: bound ],\n",
      "    svg: [Function: bound ],\n",
      "    png: [Function: bound ],\n",
      "    jpeg: [Function: bound ],\n",
      "    json: [Function: bound ],\n",
      "    input: [Function: bound input],\n",
      "    display: [Function: bound createDisplay],\n",
      "    clear: [Function: bound clear]\n",
      "  }\n",
      "}\n"
     ]
    }
   ],
   "source": [
    "myObj2.showInfo()"
   ]
  },
  {
   "attachments": {},
   "cell_type": "markdown",
   "metadata": {},
   "source": [
    "## Function as Constructor\n",
    "\n",
    "if we want to make a constructor using function, then we need to use the following syntax:\n",
    "\n",
    "```js\n",
    "    function Student(name, age, height, bloodGroup){\n",
    "        // here we will use this keyword to create property for current\n",
    "        // user.\n",
    "        this.name = name;\n",
    "        this.age = age;\n",
    "        this.height = height;\n",
    "        this.bloodGroup = bloodGroup;\n",
    "\n",
    "        // In this we can have different property names to the parameters names. \n",
    "    }\n",
    "```"
   ]
  },
  {
   "cell_type": "code",
   "execution_count": 1,
   "metadata": {},
   "outputs": [],
   "source": [
    "function Student(name, age, height, bloodGroup){\n",
    "    // here we will use this keyword to create property for current\n",
    "    // user.\n",
    "    this.name = name;\n",
    "    this.age = age;\n",
    "    this.height = height;\n",
    "    this.bloodGroup = bloodGroup;\n",
    "\n",
    "    // In this we can have different property names to the parameters names. \n",
    "}\n",
    "// a constructor need `new` keyword to allocate memory to a new object."
   ]
  },
  {
   "cell_type": "code",
   "execution_count": 2,
   "metadata": {},
   "outputs": [],
   "source": [
    "// creating a new student\n",
    "let st1 = new Student(\"Kuldeep\", 19, 5.6, \"AB+\")"
   ]
  },
  {
   "cell_type": "code",
   "execution_count": 4,
   "metadata": {},
   "outputs": [],
   "source": [
    "let st2 = new Student(\"Bhanu\", 18, 5.5, \"O+\")"
   ]
  },
  {
   "cell_type": "code",
   "execution_count": 7,
   "metadata": {},
   "outputs": [
    {
     "data": {
      "text/plain": [
       "{}"
      ]
     },
     "execution_count": 7,
     "metadata": {},
     "output_type": "execute_result"
    }
   ],
   "source": [
    "Student.prototype"
   ]
  },
  {
   "cell_type": "code",
   "execution_count": 6,
   "metadata": {},
   "outputs": [
    {
     "name": "stdout",
     "output_type": "stream",
     "text": [
      "Student { name: 'Kuldeep', age: 19, height: 5.6, bloodGroup: 'AB+' }\n",
      "Student { name: 'Bhanu', age: 18, height: 5.5, bloodGroup: 'O+' }\n"
     ]
    }
   ],
   "source": [
    "console.log(st1)\n",
    "console.log(st2)"
   ]
  },
  {
   "cell_type": "code",
   "execution_count": 8,
   "metadata": {},
   "outputs": [
    {
     "data": {
      "text/plain": [
       "{}"
      ]
     },
     "execution_count": 8,
     "metadata": {},
     "output_type": "execute_result"
    }
   ],
   "source": [
    "st1.__proto__"
   ]
  },
  {
   "attachments": {},
   "cell_type": "markdown",
   "metadata": {},
   "source": [
    "**Adding Prototypes to the constructor**"
   ]
  },
  {
   "cell_type": "code",
   "execution_count": 1,
   "metadata": {},
   "outputs": [],
   "source": [
    "function Student(name, age, height, bloodGroup){\n",
    "    // here we will use this keyword to create property for current\n",
    "    // user.\n",
    "    this.name = name;\n",
    "    this.age = age;\n",
    "    this.height = height;\n",
    "    this.bloodGroup = bloodGroup;\n",
    "\n",
    "    // In this we can have different property names to the parameters names. \n",
    "}\n",
    "// a constructor need `new` keyword to allocate memory to a new object."
   ]
  },
  {
   "cell_type": "code",
   "execution_count": 2,
   "metadata": {},
   "outputs": [
    {
     "data": {
      "text/plain": [
       "[Function (anonymous)]"
      ]
     },
     "execution_count": 2,
     "metadata": {},
     "output_type": "execute_result"
    }
   ],
   "source": [
    "Student.prototype.showInfo = function(){\n",
    "    console.log(\"Name: \", this.name);\n",
    "        console.log(\"Age: \", this.age);\n",
    "        console.log(\"Height: \", this.height);\n",
    "        console.log(\"BloodGroup: \", this.bloodGroup);\n",
    "}"
   ]
  },
  {
   "cell_type": "code",
   "execution_count": 3,
   "metadata": {},
   "outputs": [
    {
     "data": {
      "text/plain": [
       "{ showInfo: [Function (anonymous)] }"
      ]
     },
     "execution_count": 3,
     "metadata": {},
     "output_type": "execute_result"
    }
   ],
   "source": [
    "Student.prototype"
   ]
  },
  {
   "cell_type": "code",
   "execution_count": 4,
   "metadata": {},
   "outputs": [],
   "source": [
    "let student1 = new Student(\"Kuldeep\", 19, 5.6, \"AB+\")\n",
    "let student2 = new Student(\"Bhanu\", 18, 5.5, \"O+\")"
   ]
  },
  {
   "cell_type": "code",
   "execution_count": 5,
   "metadata": {},
   "outputs": [
    {
     "data": {
      "text/plain": [
       "{ showInfo: [Function (anonymous)] }"
      ]
     },
     "execution_count": 5,
     "metadata": {},
     "output_type": "execute_result"
    }
   ],
   "source": [
    "student1.__proto__"
   ]
  },
  {
   "cell_type": "code",
   "execution_count": 6,
   "metadata": {},
   "outputs": [
    {
     "data": {
      "text/plain": [
       "{ showInfo: [Function (anonymous)] }"
      ]
     },
     "execution_count": 6,
     "metadata": {},
     "output_type": "execute_result"
    }
   ],
   "source": [
    "student2.__proto__"
   ]
  },
  {
   "cell_type": "code",
   "execution_count": 7,
   "metadata": {},
   "outputs": [
    {
     "name": "stdout",
     "output_type": "stream",
     "text": [
      "Name:  Kuldeep\n",
      "Age:  19\n",
      "Height:  5.6\n",
      "BloodGroup:  AB+\n"
     ]
    }
   ],
   "source": [
    "student1.showInfo()"
   ]
  },
  {
   "cell_type": "code",
   "execution_count": 9,
   "metadata": {},
   "outputs": [
    {
     "name": "stdout",
     "output_type": "stream",
     "text": [
      "Name:  Bhanu\n",
      "Age:  18\n",
      "Height:  5.5\n",
      "BloodGroup:  O+\n"
     ]
    }
   ],
   "source": [
    "student2.showInfo()"
   ]
  },
  {
   "attachments": {},
   "cell_type": "markdown",
   "metadata": {},
   "source": [
    "# Conditional Statements"
   ]
  },
  {
   "cell_type": "code",
   "execution_count": null,
   "metadata": {},
   "outputs": [],
   "source": []
  },
  {
   "cell_type": "code",
   "execution_count": null,
   "metadata": {},
   "outputs": [],
   "source": []
  },
  {
   "cell_type": "code",
   "execution_count": null,
   "metadata": {},
   "outputs": [],
   "source": []
  },
  {
   "attachments": {},
   "cell_type": "markdown",
   "metadata": {},
   "source": [
    "In JavaScript we have two method to write conditional statement.\n",
    "1. if-else statement\n",
    "2. switch statement\n",
    "\n",
    "`Note:` \n",
    "\n",
    "* in if-else we use Logical and Relational operators to implement the condition.\n",
    "* In switch statement we use constant values.\n"
   ]
  },
  {
   "attachments": {},
   "cell_type": "markdown",
   "metadata": {},
   "source": [
    "### if-else statement\n",
    "\n",
    "If we want to control what code should execute according to a particular defined condition by using any kind of logical and Relational operator or any kind of expression which results true or false values. In this situation we use if-else statement.\n",
    "\n",
    "\n",
    " * Rule1: condition must valid expression.\n",
    " * Rule2: expression must return true or false\n",
    " * Rule3: if code-block will run only on true value.\n",
    " * Rule4: else will run only on false value.\n",
    " * Rule5: if, if-code block gets true, then it will run and else will be ignored.\n",
    "\n",
    "**`Syntax: for single condition`**\n",
    "```js\n",
    "if(condition){\n",
    "    // statement block\n",
    "}\n",
    "```\n",
    "\n",
    "**`Syntax: for two condition, this or that type problem`**\n",
    "```js\n",
    "if(condition){\n",
    "    // if statement block\n",
    "}\n",
    "else{\n",
    "    // else statement block\n",
    "}\n",
    "```\n",
    "\n",
    "**`Syntax: for multiple conditions`**\n",
    "```js\n",
    "if(condition){\n",
    "    // 1st if statement block\n",
    "}\n",
    "else if(condition2){\n",
    "    // 2nd if statement block\n",
    "}\n",
    "\n",
    "else if(condition3){\n",
    "    // 3rd if statement block\n",
    "}\n",
    "...\n",
    "else{\n",
    "    // final default condition block\n",
    "}\n",
    "```"
   ]
  },
  {
   "attachments": {},
   "cell_type": "markdown",
   "metadata": {},
   "source": [
    "**Testing that a is greater than b**"
   ]
  },
  {
   "cell_type": "code",
   "execution_count": null,
   "metadata": {},
   "outputs": [],
   "source": [
    "let a = 10;\n",
    "let b = 20;"
   ]
  },
  {
   "cell_type": "code",
   "execution_count": null,
   "metadata": {},
   "outputs": [],
   "source": [
    "a = 5;\n",
    "// only for single condition.\n",
    "if(a>=b){\n",
    "    console.log(\"a is greater than b... Hurree..!\")\n",
    "}\n",
    "// Note: this condition will only execute if a>b return true."
   ]
  },
  {
   "cell_type": "code",
   "execution_count": null,
   "metadata": {},
   "outputs": [],
   "source": [
    "// Inspecting the a>b result.\n",
    "a>=b"
   ]
  },
  {
   "attachments": {},
   "cell_type": "markdown",
   "metadata": {},
   "source": [
    "**This or that type condition**\n"
   ]
  },
  {
   "cell_type": "code",
   "execution_count": null,
   "metadata": {},
   "outputs": [],
   "source": [
    "// Now we will test our condition for both message equal to or not equal to.\n",
    "a = 5;\n",
    "// for two this or that type condition.\n",
    "if(a>b){\n",
    "    // for true.\n",
    "    console.log(\"a is greater than b... Hurrah..!\")\n",
    "}else{\n",
    "    // for false.\n",
    "    console.log(\"a is less than b... Hurrah..!\")\n",
    "}"
   ]
  },
  {
   "attachments": {},
   "cell_type": "markdown",
   "metadata": {},
   "source": [
    "**For multiple Conditions**\n",
    "To understand multiple conditions we can use the traffic light system in which we use red light for stop, green light for go, orange light for alert.\n",
    "\n",
    "and a default conditions when no light is available. call the traffic police."
   ]
  },
  {
   "cell_type": "code",
   "execution_count": null,
   "metadata": {},
   "outputs": [],
   "source": [
    "// to store the light signal.\n",
    "let light;"
   ]
  },
  {
   "cell_type": "code",
   "execution_count": null,
   "metadata": {},
   "outputs": [],
   "source": [
    "light = \"jldsfjasljf\";\n",
    "\n",
    "\n",
    "if (light == \"green\") {\n",
    "    console.log(\"Light is green: You can go.\");\n",
    "    \n",
    "} else if(light == \"orange\") {\n",
    "    console.log(\"Light is orange: Danger is ahead please be careful.\");\n",
    "}\n",
    "else if(light == \"red\") {\n",
    "    console.log(\"Light is red: please stop.\");\n",
    "}\n",
    "else{\n",
    "    console.log(\"Traffic System has been failed, please call traffic police..\");\n",
    "}"
   ]
  },
  {
   "attachments": {},
   "cell_type": "markdown",
   "metadata": {},
   "source": [
    "<img src=\"./If Else Statement.jpeg\" width=\"800px\">"
   ]
  },
  {
   "attachments": {},
   "cell_type": "markdown",
   "metadata": {},
   "source": [
    "Note: all the conditions will be tested in top to down order, if any condition is satisfied then other conditions will not be tested.\n",
    "\n",
    "Note: if all of the `if` conditions are not satisfied then last else condition will be executed.\n",
    "\n",
    "Note: if, `else` condition is defined, then it will be executed always if not any other conditions are not satisfied."
   ]
  },
  {
   "cell_type": "code",
   "execution_count": null,
   "metadata": {},
   "outputs": [],
   "source": [
    "a = 10\n",
    "b = 20\n",
    "\n",
    "if(a>b){\n",
    "    console.log(\"a is greater then b\");\n",
    "}else if(a == b){\n",
    "    console.log(\"a is equal to b\");\n",
    "}else{\n",
    "     console.log(\"a is less than  b\");\n",
    "}"
   ]
  },
  {
   "cell_type": "code",
   "execution_count": null,
   "metadata": {},
   "outputs": [],
   "source": [
    "function isGreaterThan(a,b){\n",
    "    if(a>b){\n",
    "        console.log(`${a} is greater then ${b}`);\n",
    "    }else if(a == b){\n",
    "        console.log(`${a} is equal to ${b}`);\n",
    "    }else{\n",
    "         console.log(`${a} is less than  ${b}`);\n",
    "    }\n",
    "}"
   ]
  },
  {
   "cell_type": "code",
   "execution_count": null,
   "metadata": {},
   "outputs": [],
   "source": [
    "isGreaterThan(30,50)"
   ]
  },
  {
   "cell_type": "code",
   "execution_count": null,
   "metadata": {},
   "outputs": [],
   "source": [
    "function trafficLight(light){\n",
    "    \n",
    "    if(light == \"green\"){\n",
    "        console.log(\"Green Signal: You can go...\")\n",
    "    }\n",
    "    else if(light == \"orange\"){\n",
    "        console.log(\"Orange Signal: Please be Carefull. light is going to red.\")\n",
    "    }\n",
    "    else if(light == \"red\"){\n",
    "        console.log(\"Red Signal: Please Stop..!\")\n",
    "    }\n",
    "    else{\n",
    "        console.log(\"Traffic System has been failed, Please call traffic police\")\n",
    "    }\n",
    "}"
   ]
  },
  {
   "attachments": {},
   "cell_type": "markdown",
   "metadata": {},
   "source": [
    "### Function Parameters and default Parameters."
   ]
  },
  {
   "attachments": {},
   "cell_type": "markdown",
   "metadata": {},
   "source": [
    "Suppose that we have a function, in this function only single parameters is required,\n",
    "if we don't pass any value on the position of that parameter then it will set undefined."
   ]
  },
  {
   "cell_type": "code",
   "execution_count": 1,
   "metadata": {},
   "outputs": [],
   "source": [
    "function greeting(name){\n",
    "    console.log(`Hello, My Name is ${name}, and who are you..!`)\n",
    "    console.log(\"Good Morning, Have a good day..!\")\n",
    "}"
   ]
  },
  {
   "cell_type": "code",
   "execution_count": 2,
   "metadata": {},
   "outputs": [
    {
     "name": "stdout",
     "output_type": "stream",
     "text": [
      "Hello, My Name is undefined, and who are you..!\n",
      "Good Morning, Have a good day..!\n"
     ]
    }
   ],
   "source": [
    "greeting()"
   ]
  },
  {
   "attachments": {},
   "cell_type": "markdown",
   "metadata": {},
   "source": [
    "Now the problem is that if we don't pass any value to that function then it will be undefined, it will cause unexpected result. to avoid this we need to use default value for that parameter."
   ]
  },
  {
   "cell_type": "code",
   "execution_count": 6,
   "metadata": {},
   "outputs": [],
   "source": [
    "// passing a default value to name parameter during definition of function.\n",
    "function greeting(name=\"Guest\"){\n",
    "    console.log(`Hello, My Name is ${name}, and who are you..!`)\n",
    "    console.log(\"Good Morning, Have a good day..!\")\n",
    "}"
   ]
  },
  {
   "cell_type": "code",
   "execution_count": 8,
   "metadata": {},
   "outputs": [
    {
     "name": "stdout",
     "output_type": "stream",
     "text": [
      "Hello, My Name is Guest, and who are you..!\n",
      "Good Morning, Have a good day..!\n"
     ]
    }
   ],
   "source": [
    "// Now if we don't pass any value to the name parameter then it will take/use the \n",
    "// default value.\n",
    "greeting()"
   ]
  },
  {
   "cell_type": "code",
   "execution_count": null,
   "metadata": {},
   "outputs": [],
   "source": []
  },
  {
   "cell_type": "code",
   "execution_count": 9,
   "metadata": {},
   "outputs": [
    {
     "name": "stdout",
     "output_type": "stream",
     "text": [
      "Hello, My Name is Manish, and who are you..!\n",
      "Good Morning, Have a good day..!\n"
     ]
    }
   ],
   "source": [
    "// or if we pass any value to the name parameter then it will us the given value.\n",
    "greeting(\"Manish\")"
   ]
  },
  {
   "cell_type": "markdown",
   "metadata": {},
   "source": []
  },
  {
   "attachments": {},
   "cell_type": "markdown",
   "metadata": {},
   "source": [
    "### Order of Default Values Parameters:\n",
    "\n",
    "All the default values parameters should be specified at the end of the parameter list.\n",
    "\n",
    "Suppose that a function takes two parameters firstName and secondName and it returns the fullName with whitespace in between them."
   ]
  },
  {
   "cell_type": "code",
   "execution_count": 1,
   "metadata": {},
   "outputs": [],
   "source": [
    "// Note: In this function any parameter does not take default values.\n",
    "function fullName(firstName, secondName){\n",
    "    let fullName = firstName.concat(\" \", secondName);\n",
    "    return fullName;\n",
    "}"
   ]
  },
  {
   "cell_type": "code",
   "execution_count": 13,
   "metadata": {},
   "outputs": [
    {
     "data": {
      "text/plain": [
       "'Chandan Lakashkar'"
      ]
     },
     "execution_count": 13,
     "metadata": {},
     "output_type": "execute_result"
    }
   ],
   "source": [
    "// Note:In this case we are passing both parameters values.\n",
    "fullName(\"Chandan\",\"Lakashkar\")"
   ]
  },
  {
   "cell_type": "code",
   "execution_count": 18,
   "metadata": {},
   "outputs": [
    {
     "data": {
      "text/plain": [
       "'Aasif undefined'"
      ]
     },
     "execution_count": 18,
     "metadata": {},
     "output_type": "execute_result"
    }
   ],
   "source": [
    "// Note: in this case we are not passing both value, only first name will be passed\n",
    "// and secondName is undefined.\n",
    "fullName(\"Aasif\")\n",
    "// Note: in result we will get undefined at the end of the returned value."
   ]
  },
  {
   "attachments": {},
   "cell_type": "markdown",
   "metadata": {},
   "source": [
    "**Avoiding the undefined value:**\n",
    "\n",
    "Now we will give the default value to the secondName parameters."
   ]
  },
  {
   "cell_type": "code",
   "execution_count": 19,
   "metadata": {},
   "outputs": [],
   "source": [
    "// Note: In this function secondParameter does take a default value.\n",
    "function fullName(firstName, secondName=\"\"){\n",
    "    let fullName = `${firstName} ${secondName}`;\n",
    "    return fullName.trim();\n",
    "    // to remove the leading space if secondName is not passed.\n",
    "}"
   ]
  },
  {
   "cell_type": "code",
   "execution_count": 21,
   "metadata": {},
   "outputs": [
    {
     "data": {
      "text/plain": [
       "'Aasif'"
      ]
     },
     "execution_count": 21,
     "metadata": {},
     "output_type": "execute_result"
    }
   ],
   "source": [
    "\n",
    "fullName(\"Aasif\")"
   ]
  },
  {
   "attachments": {},
   "cell_type": "markdown",
   "metadata": {},
   "source": [
    "Note: In the above code we are passing only firstName and the secondName is taken form the default value of that parameter."
   ]
  },
  {
   "cell_type": "code",
   "execution_count": 22,
   "metadata": {},
   "outputs": [
    {
     "data": {
      "text/plain": [
       "'undefined'"
      ]
     },
     "execution_count": 22,
     "metadata": {},
     "output_type": "execute_result"
    }
   ],
   "source": [
    "fullName()"
   ]
  },
  {
   "attachments": {},
   "cell_type": "markdown",
   "metadata": {},
   "source": [
    "Note: if we don't pass any value then we should not get any name, only empty string should be returned. for that we need to pass a default value for the firstName parameter."
   ]
  },
  {
   "cell_type": "code",
   "execution_count": 23,
   "metadata": {},
   "outputs": [],
   "source": [
    "// Note: In this function both parameters take default values.\n",
    "function fullName(firstName=\"\", secondName=\"\"){\n",
    "    let fullName = `${firstName} ${secondName}`;\n",
    "    return fullName.trim();\n",
    "    // to remove the leading space if secondName is not passed.\n",
    "}"
   ]
  },
  {
   "cell_type": "code",
   "execution_count": 24,
   "metadata": {},
   "outputs": [
    {
     "data": {
      "text/plain": [
       "''"
      ]
     },
     "execution_count": 24,
     "metadata": {},
     "output_type": "execute_result"
    }
   ],
   "source": [
    "fullName()"
   ]
  },
  {
   "attachments": {},
   "cell_type": "markdown",
   "metadata": {},
   "source": [
    "### Parameter list with undefined and default values parameters.\n",
    "\n",
    "Suppose that we have multiple parameters and in that case we want to make some parameters with default values.\n",
    "\n",
    "student record for police officer application."
   ]
  },
  {
   "cell_type": "code",
   "execution_count": 27,
   "metadata": {},
   "outputs": [],
   "source": [
    "// Note: any parameter does not take any default value.\n",
    "function student(firstName, lastName, age, height, bloodGroup,email){\n",
    "    console.log(\"Name:\", `${firstName} ${lastName}`);\n",
    "    console.log(\"Age:\", `${age}`);\n",
    "    console.log(\"Height:\", `${height}`);\n",
    "    console.log(\"BloodGroup:\", `${bloodGroup}`);\n",
    "    console.log(\"Email:\", `${email}`);\n",
    "}"
   ]
  },
  {
   "attachments": {},
   "cell_type": "markdown",
   "metadata": {},
   "source": [
    "**Case 1**: in this case we are passing all values to the student function."
   ]
  },
  {
   "cell_type": "code",
   "execution_count": 28,
   "metadata": {},
   "outputs": [
    {
     "name": "stdout",
     "output_type": "stream",
     "text": [
      "Name: Aasif Khan\n",
      "Age: 21\n",
      "Height: 5.6\n",
      "BloodGroup: B+\n",
      "Email: Phooddunga007@dhansu.com\n"
     ]
    }
   ],
   "source": [
    "student(\"Aasif\", \"Khan\",21, 5.6,\"B+\",\"Phooddunga007@dhansu.com\")"
   ]
  },
  {
   "attachments": {},
   "cell_type": "markdown",
   "metadata": {},
   "source": [
    "**Case 2**: In this case we are not passing age, and height value."
   ]
  },
  {
   "cell_type": "code",
   "execution_count": 29,
   "metadata": {},
   "outputs": [
    {
     "name": "stdout",
     "output_type": "stream",
     "text": [
      "Name: Aasif Khan\n",
      "Age: B+\n",
      "Height: Phooddunga007@dhansu.com\n",
      "BloodGroup: undefined\n",
      "Email: undefined\n"
     ]
    }
   ],
   "source": [
    "student(\"Aasif\", \"Khan\",\"B+\",\"Phooddunga007@dhansu.com\")"
   ]
  },
  {
   "attachments": {},
   "cell_type": "markdown",
   "metadata": {},
   "source": [
    "Note: In above result we are getting undefined on the BloodGroup and Email. because all the arguments will be taken in sequence. \n",
    "\n",
    "Now we will use default values for age and height."
   ]
  },
  {
   "cell_type": "code",
   "execution_count": 30,
   "metadata": {},
   "outputs": [],
   "source": [
    "//Note: age and height are taking default values.\n",
    "function student(firstName, lastName, age=18, height=5.6, bloodGroup,email){\n",
    "    console.log(\"Name:\", `${firstName} ${lastName}`);\n",
    "    console.log(\"Age:\", `${age}`);\n",
    "    console.log(\"Height:\", `${height}`);\n",
    "    console.log(\"BloodGroup:\", `${bloodGroup}`);\n",
    "    console.log(\"Email:\", `${email}`);\n",
    "}"
   ]
  },
  {
   "cell_type": "code",
   "execution_count": 31,
   "metadata": {},
   "outputs": [
    {
     "name": "stdout",
     "output_type": "stream",
     "text": [
      "Name: Aasif Khan\n",
      "Age: B+\n",
      "Height: Phooddunga007@dhansu.com\n",
      "BloodGroup: undefined\n",
      "Email: undefined\n"
     ]
    }
   ],
   "source": [
    "student(\"Aasif\", \"Khan\",\"B+\",\"Phooddunga007@dhansu.com\")"
   ]
  },
  {
   "attachments": {},
   "cell_type": "markdown",
   "metadata": {},
   "source": [
    "Note: in above case after defining the default values, still we are getting undefined values for bloodGroup and email, because all values are taken in sequence.\n",
    "\n",
    "Now to avoid this kind of problem we need to shift the position of default value parameters at the end of the parameter list."
   ]
  },
  {
   "cell_type": "code",
   "execution_count": 32,
   "metadata": {},
   "outputs": [],
   "source": [
    "//Note: age and height are taking default values.\n",
    "function student(firstName, lastName, bloodGroup,email,age=18, height=5.6){\n",
    "    console.log(\"Name:\", `${firstName} ${lastName}`);\n",
    "    console.log(\"Age:\", `${age}`);\n",
    "    console.log(\"Height:\", `${height}`);\n",
    "    console.log(\"BloodGroup:\", `${bloodGroup}`);\n",
    "    console.log(\"Email:\", `${email}`);\n",
    "}"
   ]
  },
  {
   "cell_type": "code",
   "execution_count": 33,
   "metadata": {},
   "outputs": [
    {
     "name": "stdout",
     "output_type": "stream",
     "text": [
      "Name: Aasif Khan\n",
      "Age: 18\n",
      "Height: 5.6\n",
      "BloodGroup: B+\n",
      "Email: Phooddunga007@dhansu.com\n"
     ]
    }
   ],
   "source": [
    "student(\"Aasif\", \"Khan\",\"B+\",\"Phooddunga007@dhansu.com\")"
   ]
  },
  {
   "attachments": {},
   "cell_type": "markdown",
   "metadata": {},
   "source": [
    "## Switch Statement\n",
    "\n",
    "The switch statement is used when we don't want to control our code flow with if-else statements and we don't want to evaluate any kind of expression, and we have constant value then we can use switch statements.\n",
    "\n",
    "Note: In switch statements only a single switch case will be executed and tested. in this we don't test each switch case since each case will be mapped with its values by hashmap functionality.\n",
    "\n",
    "Syntax:\n",
    "\n",
    "```js\n",
    "switch(constant_value){\n",
    "    case 1:\n",
    "        console.log(\"1\");\n",
    "        break;\n",
    "    case 2:\n",
    "        console.log(\"2\");\n",
    "        break;\n",
    "    case 3:\n",
    "        console.log(\"3\");\n",
    "        break;\n",
    "    case 4:\n",
    "        console.log(\"4\");\n",
    "        break;\n",
    "    default:\n",
    "        console.log(\"default\");\n",
    "        break;\n",
    "}\n",
    "```"
   ]
  },
  {
   "attachments": {},
   "cell_type": "markdown",
   "metadata": {},
   "source": [
    "Now we will make a traffic system again with help of switch statements."
   ]
  },
  {
   "cell_type": "code",
   "execution_count": 2,
   "metadata": {},
   "outputs": [
    {
     "name": "stdout",
     "output_type": "stream",
     "text": [
      "The light is green: you can go.\n"
     ]
    }
   ],
   "source": [
    "let light = \"green\";\n",
    "\n",
    "switch(light){\n",
    "    case \"green\":\n",
    "        console.log(\"The light is green: you can go.\");\n",
    "        break;\n",
    "    case \"orange\":\n",
    "        console.log(\"The light is orange: Be Careful accident ho jayega.\");\n",
    "        break;\n",
    "    case \"red\":\n",
    "        console.log(\"The light is red: You can't go.\");\n",
    "        break;\n",
    "    default:\n",
    "        console.log(\"Traffic system has been failed. call the traffic police.\");\n",
    "        break;\n",
    "}"
   ]
  },
  {
   "attachments": {},
   "cell_type": "markdown",
   "metadata": {},
   "source": [
    "<img src=\"./Switch Statement.jpeg\" width=\"800px\">"
   ]
  },
  {
   "cell_type": "code",
   "execution_count": 3,
   "metadata": {},
   "outputs": [],
   "source": [
    "function trafficLight(light){\n",
    "    switch(light){\n",
    "        case \"green\":\n",
    "            console.log(\"The light is green: you can go.\");\n",
    "            break;\n",
    "        case \"orange\":\n",
    "            console.log(\"The light is orange: Be Careful accident ho jayega.\");\n",
    "            break;\n",
    "        case \"red\":\n",
    "            console.log(\"The light is red: You can't go.\");\n",
    "            break;\n",
    "        default:\n",
    "            console.log(\"Traffic system has been failed. call the traffic police.\");\n",
    "            break;\n",
    "    }\n",
    "}"
   ]
  },
  {
   "cell_type": "code",
   "execution_count": 4,
   "metadata": {},
   "outputs": [
    {
     "name": "stdout",
     "output_type": "stream",
     "text": [
      "The light is green: you can go.\n"
     ]
    }
   ],
   "source": [
    "trafficLight(\"green\")"
   ]
  },
  {
   "cell_type": "code",
   "execution_count": 6,
   "metadata": {},
   "outputs": [
    {
     "name": "stdout",
     "output_type": "stream",
     "text": [
      "The light is orange: Be Careful accident ho jayega.\n"
     ]
    }
   ],
   "source": [
    "trafficLight(\"orange\")"
   ]
  },
  {
   "cell_type": "code",
   "execution_count": 7,
   "metadata": {},
   "outputs": [
    {
     "name": "stdout",
     "output_type": "stream",
     "text": [
      "The light is red: You can't go.\n"
     ]
    }
   ],
   "source": [
    "trafficLight(\"red\")"
   ]
  },
  {
   "cell_type": "code",
   "execution_count": 8,
   "metadata": {},
   "outputs": [
    {
     "name": "stdout",
     "output_type": "stream",
     "text": [
      "Traffic system has been failed. call the traffic police.\n"
     ]
    }
   ],
   "source": [
    "trafficLight(\"sdfsdfs\")"
   ]
  },
  {
   "attachments": {},
   "cell_type": "markdown",
   "metadata": {},
   "source": [
    "## Difference b/w switch statement and if-else statements."
   ]
  },
  {
   "attachments": {},
   "cell_type": "markdown",
   "metadata": {},
   "source": [
    " <table>\n",
    "        <thead>\n",
    "            <tr>\n",
    "                <th>Switch Statement</th>\n",
    "                <th>if-else Statement</th>\n",
    "            </tr>\n",
    "        </thead>\n",
    "        <tbody>\n",
    "            <tr>\n",
    "                <td>\n",
    "                    switch statement tests expression based only on a single integer, enumerated\n",
    "                    value or String\n",
    "                </td>\n",
    "                <td>if-else statement can test the expression based on ranges of values or\n",
    "                    conditions.</td>\n",
    "            </tr>\n",
    "            <tr>\n",
    "                <td>It create a jump table/hash table during the compilation of program. it uses\n",
    "                    that jump table for selecting the path of execution depending on the value of\n",
    "                    the expression.</td>\n",
    "                <td>in case of if-else statement, it will test the each condition on runtime.</td>\n",
    "            </tr>\n",
    "            <tr>\n",
    "                <td>Switch statement is much faster when we are working on large number of cases.\n",
    "                </td>\n",
    "                <td>if else statement is slower than the switch statement.</td>\n",
    "            </tr>\n",
    "            <tr>\n",
    "                <td>switch statement are with with constant values</td>\n",
    "                <td>if-else statement are used with the boolean values or expression which gives us\n",
    "                    boolean values.</td>\n",
    "            </tr>\n",
    "            <tr>\n",
    "                <td>we use break statement keyword to to terminate the switch statement. </td>\n",
    "                <td>we use block to set the boundary of the if-else statements, at the end of the block they terminates.</td>\n",
    "            </tr>\n",
    "            <tr>\n",
    "                <td>default keyword statement is used to execute the default statement in case no case is matched.</td>\n",
    "                <td>else keyword statement is used at the end of if-else statement.</td>\n",
    "            </tr>\n",
    "            <tr>\n",
    "                <td>A switch statement looks much cleaner when you have to combine cases.\n",
    "                    Adding/removing labels is also easier with switch statements.</td>\n",
    "                <td>if-else statements are quit vulnerable to error, adding and removing the any if\n",
    "                    else statement less cleaner compare to switch.</td>\n",
    "            </tr>\n",
    "        </tbody>\n",
    "    </table>"
   ]
  },
  {
   "attachments": {},
   "cell_type": "markdown",
   "metadata": {},
   "source": [
    "\n"
   ]
  }
 ],
 "metadata": {
  "kernelspec": {
   "display_name": "JavaScript (Node.js)",
   "language": "javascript",
   "name": "javascript"
  },
  "language_info": {
   "file_extension": ".js",
   "mimetype": "application/javascript",
   "name": "javascript",
   "version": "18.12.0"
  },
  "orig_nbformat": 4
 },
 "nbformat": 4,
 "nbformat_minor": 2
}
