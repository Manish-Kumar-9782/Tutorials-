{
 "cells": [
  {
   "attachments": {},
   "cell_type": "markdown",
   "metadata": {},
   "source": [
    "Syntax:\n",
    "```js\n",
    "    for(initializer; condition; step/increment/decrement){\n",
    "        // statements.\n",
    "    }\n",
    "```"
   ]
  },
  {
   "cell_type": "code",
   "execution_count": 7,
   "metadata": {},
   "outputs": [],
   "source": [
    "let arr =[\"manish\",21, 5.6, \"B+\"]"
   ]
  },
  {
   "cell_type": "code",
   "execution_count": 2,
   "metadata": {},
   "outputs": [
    {
     "name": "stdout",
     "output_type": "stream",
     "text": [
      "manish\n",
      "21\n",
      "5.6\n",
      "B+\n"
     ]
    }
   ],
   "source": [
    "for(let i =0 ; i < arr.length ; i++){\n",
    "    console.log(arr[i]);\n",
    "}"
   ]
  },
  {
   "attachments": {},
   "cell_type": "markdown",
   "metadata": {},
   "source": [
    "**Count the Number of Balls in each color**"
   ]
  },
  {
   "cell_type": "code",
   "execution_count": 1,
   "metadata": {},
   "outputs": [],
   "source": [
    "let balls = ['black', 'white', 'red', 'green', 'black', 'white', 'blue', 'green', 'green', 'red', 'white',\n",
    " 'red', 'red', 'red', 'blue', 'red', 'white', 'red', 'green', 'white', 'black', 'blue', 'black', 'black',\n",
    "  'green', 'red', 'white', 'black', 'red', 'red', 'blue', 'green', 'black', 'red', 'green', 'white', \n",
    "  'white', 'red', 'blue', 'white', 'black', 'green', 'green', 'black', 'red', 'red', 'red', 'white', \n",
    "  'green', 'white', 'white', 'black', 'blue', 'green', 'green', 'black', 'white', 'red', 'green', 'blue', \n",
    "  'white', 'black', 'green', 'red', 'white', 'red', 'red', 'red', 'black', 'red', 'blue', 'white', 'black',\n",
    "   'blue', 'white', 'blue', 'green', 'white', 'blue', 'green', 'green', 'green', 'green', 'green', 'red', \n",
    "   'green', 'red', 'white', 'white', 'red', 'white', 'green', 'black', 'green', 'blue', 'red', 'green', \n",
    "   'red', 'blue']"
   ]
  },
  {
   "cell_type": "code",
   "execution_count": 2,
   "metadata": {},
   "outputs": [],
   "source": [
    "let ball_color = \"red\""
   ]
  },
  {
   "cell_type": "code",
   "execution_count": null,
   "metadata": {},
   "outputs": [],
   "source": []
  },
  {
   "cell_type": "code",
   "execution_count": 3,
   "metadata": {},
   "outputs": [],
   "source": [
    "let number_of_red_balls = 0;"
   ]
  },
  {
   "cell_type": "code",
   "execution_count": 4,
   "metadata": {},
   "outputs": [
    {
     "name": "stdout",
     "output_type": "stream",
     "text": [
      "Number of red balls:  26\n"
     ]
    }
   ],
   "source": [
    "for(let i=0; i<balls.length; i++){\n",
    "    if(balls[i] === ball_color){\n",
    "        number_of_red_balls++;\n",
    "    }\n",
    "}\n",
    "\n",
    "console.log(\"Number of red balls: \", number_of_red_balls);"
   ]
  },
  {
   "attachments": {},
   "cell_type": "markdown",
   "metadata": {},
   "source": [
    "Now we will make a visual representation of each ball by filtering red ball with counted number."
   ]
  },
  {
   "cell_type": "code",
   "execution_count": 6,
   "metadata": {},
   "outputs": [
    {
     "name": "stdout",
     "output_type": "stream",
     "text": [
      "black\n",
      "white\n",
      "red ------>  1\n",
      "green\n",
      "black\n",
      "white\n",
      "blue\n",
      "green\n",
      "green\n",
      "red ------>  2\n",
      "white\n",
      "red ------>  3\n",
      "red ------>  4\n",
      "red ------>  5\n",
      "blue\n",
      "red ------>  6\n",
      "white\n",
      "red ------>  7\n",
      "green\n",
      "white\n",
      "black\n",
      "blue\n",
      "black\n",
      "black\n",
      "green\n",
      "red ------>  8\n",
      "white\n",
      "black\n",
      "red ------>  9\n",
      "red ------>  10\n",
      "blue\n",
      "green\n",
      "black\n",
      "red ------>  11\n",
      "green\n",
      "white\n",
      "white\n",
      "red ------>  12\n",
      "blue\n",
      "white\n",
      "black\n",
      "green\n",
      "green\n",
      "black\n",
      "red ------>  13\n",
      "red ------>  14\n",
      "red ------>  15\n",
      "white\n",
      "green\n",
      "white\n",
      "white\n",
      "black\n",
      "blue\n",
      "green\n",
      "green\n",
      "black\n",
      "white\n",
      "red ------>  16\n",
      "green\n",
      "blue\n",
      "white\n",
      "black\n",
      "green\n",
      "red ------>  17\n",
      "white\n",
      "red ------>  18\n",
      "red ------>  19\n",
      "red ------>  20\n",
      "black\n",
      "red ------>  21\n",
      "blue\n",
      "white\n",
      "black\n",
      "blue\n",
      "white\n",
      "blue\n",
      "green\n",
      "white\n",
      "blue\n",
      "green\n",
      "green\n",
      "green\n",
      "green\n",
      "green\n",
      "red ------>  22\n",
      "green\n",
      "red ------>  23\n",
      "white\n",
      "white\n",
      "red ------>  24\n",
      "white\n",
      "green\n",
      "black\n",
      "green\n",
      "blue\n",
      "red ------>  25\n",
      "green\n",
      "red ------>  26\n",
      "blue\n"
     ]
    }
   ],
   "source": [
    "number_of_red_balls = 0;\n",
    "for(let i=0; i<balls.length; i++){\n",
    "    if(balls[i] === ball_color){\n",
    "        number_of_red_balls++;\n",
    "    console.log(balls[i], \"------> \", number_of_red_balls);\n",
    "    }\n",
    "    else{\n",
    "        console.log(balls[i]);\n",
    "    }\n",
    "}"
   ]
  },
  {
   "attachments": {},
   "cell_type": "markdown",
   "metadata": {},
   "source": [
    "Decorated Output 1: `Array: [\"manish\",21, 5.6, \"B+\"];`\n",
    "\n",
    "Decorated Output 2: \n",
    "```\n",
    "Array: [\n",
    "    0: \"manish\",\n",
    "    1: 21, \n",
    "    2: 5.6,\n",
    "    3: \"B+\"\n",
    "];\n",
    "```"
   ]
  },
  {
   "attachments": {},
   "cell_type": "markdown",
   "metadata": {},
   "source": [
    "**Decorated Output 1:**"
   ]
  },
  {
   "cell_type": "code",
   "execution_count": 10,
   "metadata": {},
   "outputs": [
    {
     "data": {
      "text/plain": [
       "[ 'manish', 21, 5.6, 'B+', '2001-10-10' ]"
      ]
     },
     "execution_count": 10,
     "metadata": {},
     "output_type": "execute_result"
    }
   ],
   "source": [
    "arr =[\"manish\",21, 5.6, \"B+\",\"2001-10-10\"]"
   ]
  },
  {
   "cell_type": "code",
   "execution_count": 11,
   "metadata": {},
   "outputs": [
    {
     "name": "stdout",
     "output_type": "stream",
     "text": [
      "Array: [manish,21,5.6,B+,2001-10-10]\n"
     ]
    }
   ],
   "source": [
    "result =\"Array: [\";\n",
    "for(let i =0 ; i < arr.length ; i++){\n",
    "    \n",
    "    if(i != arr.length-1){\n",
    "        result += arr[i] + \",\";\n",
    "    }\n",
    "    else{\n",
    "        result += arr[i];\n",
    "    }\n",
    "}\n",
    "// result = result.slice(0, -1);\n",
    "result += \"]\";\n",
    "console.log(result);"
   ]
  },
  {
   "attachments": {},
   "cell_type": "markdown",
   "metadata": {},
   "source": [
    "**Decorated Output 2:**"
   ]
  },
  {
   "cell_type": "code",
   "execution_count": 15,
   "metadata": {},
   "outputs": [
    {
     "name": "stdout",
     "output_type": "stream",
     "text": [
      "Array: [\n",
      "\t0: manish,\n",
      "\t1: 21,\n",
      "\t2: 5.6,\n",
      "\t3: B+\n",
      "    ]\n"
     ]
    }
   ],
   "source": [
    "result =\"Array: [\\n\";\n",
    "for(let i =0 ; i < arr.length ; i++){\n",
    "    \n",
    "    if(i != arr.length-1){\n",
    "        result += `\\t${i}: ${arr[i]}` + \",\\n\";\n",
    "    }\n",
    "    else{\n",
    "        result += `\\t${i}: ${arr[i]}\\n    ]`\n",
    "    }\n",
    "}\n",
    "console.log(result)"
   ]
  },
  {
   "attachments": {},
   "cell_type": "markdown",
   "metadata": {},
   "source": [
    "**Function to print Decorated array**"
   ]
  },
  {
   "cell_type": "code",
   "execution_count": 17,
   "metadata": {},
   "outputs": [],
   "source": [
    "function printArray(arr){\n",
    "    \n",
    "    result =\"Array: [\\n\";\n",
    "    for(let i =0 ; i < arr.length ; i++){\n",
    "        \n",
    "        if(i != arr.length-1){\n",
    "            result += `\\t${i}: ${arr[i]}` + \",\\n\";\n",
    "        }\n",
    "        else{\n",
    "            result += `\\t${i}: ${arr[i]}\\n    ]`\n",
    "        }\n",
    "    }\n",
    "    console.log(result)\n",
    "}"
   ]
  },
  {
   "cell_type": "code",
   "execution_count": 21,
   "metadata": {},
   "outputs": [
    {
     "name": "stdout",
     "output_type": "stream",
     "text": [
      "Array: [\n",
      "\t0: 1,\n",
      "\t1: 2,\n",
      "\t2: manish,\n",
      "\t3: kushal,\n",
      "\t4: aasif,\n",
      "\t5: chandan\n",
      "    ]\n"
     ]
    }
   ],
   "source": [
    "printArray([1, 2, \"manish\",\"kushal\",\"aasif\", \"chandan\"])"
   ]
  },
  {
   "cell_type": "markdown",
   "metadata": {},
   "source": [
    "**While Loop**"
   ]
  },
  {
   "attachments": {},
   "cell_type": "markdown",
   "metadata": {},
   "source": [
    "```js\n",
    "while(condition){\n",
    "    // statement \n",
    "}\n",
    "```"
   ]
  },
  {
   "cell_type": "code",
   "execution_count": 22,
   "metadata": {},
   "outputs": [
    {
     "name": "stdout",
     "output_type": "stream",
     "text": [
      "Array: [\n",
      "\t0: manish,\n",
      "\t1: 21,\n",
      "\t2: 5.6,\n",
      "\t3: B+\n",
      "    ]\n"
     ]
    }
   ],
   "source": [
    "let i = 0;\n",
    "result =\"Array: [\\n\";\n",
    "while(i < arr.length){\n",
    "\n",
    "    if(i != arr.length-1){\n",
    "        result += `\\t${i}: ${arr[i]}` + \",\\n\";\n",
    "    }\n",
    "    else{\n",
    "        result += `\\t${i}: ${arr[i]}\\n    ]`\n",
    "    }\n",
    "    i++;\n",
    "\n",
    "}\n",
    "console.log(result)"
   ]
  },
  {
   "cell_type": "markdown",
   "metadata": {},
   "source": [
    "**Object**"
   ]
  },
  {
   "cell_type": "code",
   "execution_count": 24,
   "metadata": {},
   "outputs": [],
   "source": [
    "let student = {\n",
    "    name: \"Assif\",\n",
    "    age: 20,\n",
    "    gender: \"male\",\n",
    "    height: 5.6,\n",
    "    bloodGroup: \"B+\"\n",
    "}"
   ]
  },
  {
   "cell_type": "code",
   "execution_count": 25,
   "metadata": {},
   "outputs": [
    {
     "data": {
      "text/plain": [
       "{\n",
       "  name: 'Assif',\n",
       "  age: 20,\n",
       "  gender: 'male',\n",
       "  height: 5.6,\n",
       "  bloodGroup: 'B+'\n",
       "}"
      ]
     },
     "execution_count": 25,
     "metadata": {},
     "output_type": "execute_result"
    }
   ],
   "source": [
    "student"
   ]
  },
  {
   "cell_type": "code",
   "execution_count": 26,
   "metadata": {},
   "outputs": [
    {
     "data": {
      "text/plain": [
       "'Assif'"
      ]
     },
     "execution_count": 26,
     "metadata": {},
     "output_type": "execute_result"
    }
   ],
   "source": [
    "student.name"
   ]
  },
  {
   "cell_type": "code",
   "execution_count": 27,
   "metadata": {},
   "outputs": [
    {
     "data": {
      "text/plain": [
       "20"
      ]
     },
     "execution_count": 27,
     "metadata": {},
     "output_type": "execute_result"
    }
   ],
   "source": [
    "student.age"
   ]
  },
  {
   "cell_type": "code",
   "execution_count": 28,
   "metadata": {},
   "outputs": [
    {
     "data": {
      "text/plain": [
       "5.6"
      ]
     },
     "execution_count": 28,
     "metadata": {},
     "output_type": "execute_result"
    }
   ],
   "source": [
    "student.height"
   ]
  },
  {
   "attachments": {},
   "cell_type": "markdown",
   "metadata": {},
   "source": [
    "### Star Pattern \n",
    "\n",
    "```\n",
    "*\n",
    "**\n",
    "***\n",
    "****\n",
    "*****\n",
    "******\n",
    "*******\n",
    "********\n",
    "*********\n",
    "```"
   ]
  },
  {
   "cell_type": "code",
   "execution_count": 12,
   "metadata": {},
   "outputs": [],
   "source": [
    "let patten = \"\";"
   ]
  },
  {
   "cell_type": "code",
   "execution_count": 13,
   "metadata": {},
   "outputs": [
    {
     "name": "stdout",
     "output_type": "stream",
     "text": [
      "\n",
      "*\n",
      "**\n",
      "***\n",
      "****\n",
      "*****\n",
      "******\n",
      "*******\n",
      "********\n",
      "*********\n",
      "**********\n",
      "\n"
     ]
    }
   ],
   "source": [
    "for(let i =0; i<=10; i++){\n",
    "\n",
    "    for(let j =0; j<i; j++){\n",
    "        patten += \"*\";\n",
    "    }\n",
    "    patten += \"\\n\";\n",
    "}\n",
    "\n",
    "console.log(patten);"
   ]
  },
  {
   "cell_type": "code",
   "execution_count": null,
   "metadata": {},
   "outputs": [],
   "source": []
  }
 ],
 "metadata": {
  "kernelspec": {
   "display_name": "JavaScript (Node.js)",
   "language": "javascript",
   "name": "javascript"
  },
  "language_info": {
   "file_extension": ".js",
   "mimetype": "application/javascript",
   "name": "javascript",
   "version": "18.12.0"
  },
  "orig_nbformat": 4
 },
 "nbformat": 4,
 "nbformat_minor": 2
}
