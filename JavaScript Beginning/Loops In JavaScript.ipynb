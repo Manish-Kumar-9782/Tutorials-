{
 "cells": [
  {
   "attachments": {},
   "cell_type": "markdown",
   "metadata": {},
   "source": [
    "# Loops in Java Script\n",
    "\n",
    "Loops are used to perform the same task in repetition. for example consider we want to display the number on screen, then the task to repeat is display (console.lo()), with the help of loops we can do that in few lines of codes.\n",
    "\n",
    "### There are three types of loops in JS\n",
    "\n",
    "1. for-loop\n",
    "2. while-loop\n",
    "3. do-while loop\n",
    "\n",
    "for example: display the number form 1 to 100 on the screen in a row or column, this kind of problem can be solved by using the for loop since we know the how many number we need to display.\n",
    "\n",
    "solution of above problem: \n",
    "\n",
    "```js\n",
    "    for(let i = 0; i < 100; i++){\n",
    "        console.log(i);\n",
    "    }\n",
    "```"
   ]
  },
  {
   "attachments": {},
   "cell_type": "markdown",
   "metadata": {},
   "source": [
    "Syntax:\n",
    "```js\n",
    "    for(initialization; condition; step/increment/decrement){\n",
    "        // statements.\n",
    "    }\n",
    "```\n",
    "\n",
    "1. `for`  it is keyword to make a for-loop statement.\n",
    "2. inside for loop round brackets we have three statements\n",
    "   1. initialization: in this we initialize the counter variable which will be used to control the for loop.\n",
    "   2. condition: here we make the condition mostly using counter variable to terminate the loop.\n",
    "   3. stepping: stepping can be either incremental or decremented\n",
    "3. body block of for loop: in this block we can write the multiple statements as we want in any order to perform the desired operation."
   ]
  },
  {
   "attachments": {},
   "cell_type": "markdown",
   "metadata": {},
   "source": [
    "When to use For loop: whenever we know that how many times our loop going to run.\n",
    "\n",
    "When to use while loop: whenever we don't know that how many our times will run."
   ]
  },
  {
   "cell_type": "code",
   "execution_count": 10,
   "metadata": {},
   "outputs": [
    {
     "name": "stdout",
     "output_type": "stream",
     "text": [
      "0\n",
      "1\n",
      "2\n",
      "3\n",
      "4\n",
      "5\n",
      "6\n",
      "7\n",
      "8\n",
      "9\n",
      "10\n",
      "11\n",
      "12\n",
      "13\n",
      "14\n",
      "15\n",
      "16\n",
      "17\n",
      "18\n",
      "19\n",
      "20\n",
      "21\n",
      "22\n",
      "23\n",
      "24\n",
      "25\n",
      "26\n",
      "27\n",
      "28\n",
      "29\n",
      "30\n",
      "31\n",
      "32\n",
      "33\n",
      "34\n",
      "35\n",
      "36\n",
      "37\n",
      "38\n",
      "39\n",
      "40\n",
      "41\n",
      "42\n",
      "43\n",
      "44\n",
      "45\n",
      "46\n",
      "47\n",
      "48\n",
      "49\n",
      "50\n",
      "51\n",
      "52\n",
      "53\n",
      "54\n",
      "55\n",
      "56\n",
      "57\n",
      "58\n",
      "59\n",
      "60\n",
      "61\n",
      "62\n",
      "63\n",
      "64\n",
      "65\n",
      "66\n",
      "67\n",
      "68\n",
      "69\n",
      "70\n",
      "71\n",
      "72\n",
      "73\n",
      "74\n",
      "75\n",
      "76\n",
      "77\n",
      "78\n",
      "79\n",
      "80\n",
      "81\n",
      "82\n",
      "83\n",
      "84\n",
      "85\n",
      "86\n",
      "87\n",
      "88\n",
      "89\n",
      "90\n",
      "91\n",
      "92\n",
      "93\n",
      "94\n",
      "95\n",
      "96\n",
      "97\n",
      "98\n",
      "99\n",
      "100\n"
     ]
    }
   ],
   "source": [
    "for(let i=0; i <= 100; i++){\n",
    "    console.log(i)\n",
    "}\n"
   ]
  },
  {
   "cell_type": "code",
   "execution_count": 9,
   "metadata": {},
   "outputs": [
    {
     "name": "stdout",
     "output_type": "stream",
     "text": [
      "0 1 2 3 4 5 6 7 8 9 10 11 12 13 14 15 16 17 18 19 20 21 22 23 24 25 26 27 28 29 30 31 32 33 34 35 36 37 38 39 40 41 42 43 44 45 46 47 48 49 50 51 52 53 54 55 56 57 58 59 60 61 62 63 64 65 66 67 68 69 70 71 72 73 74 75 76 77 78 79 80 81 82 83 84 85 86 87 88 89 90 91 92 93 94 95 96 97 98 99 100 \n"
     ]
    }
   ],
   "source": [
    "function show(){\n",
    "\n",
    "    let ch =\"\"\n",
    "\n",
    "    for(let i=0; i <= 100; i++){\n",
    "        ch += (i +\" \")\n",
    "    }\n",
    "\n",
    "    console.log(ch);    \n",
    "}\n",
    "\n",
    "// i <= 100 ; i = 10 , result => \n",
    "show()"
   ]
  },
  {
   "attachments": {},
   "cell_type": "markdown",
   "metadata": {},
   "source": [
    "### Increment and decrement Operators\n",
    "\n",
    "1 `++`: increment Operator\n",
    "\n",
    "2 `--`: decrement Operator\n",
    "\n",
    "Increment operator increases the number by one, decrement operator decreases the number by one.\n",
    "\n",
    "Post prefix: in this first we use (return) the old value then we perform the increment/decrement operations.\n",
    "\n",
    "    * i++, post increment Operation\n",
    "\n",
    "    * i--, Post decrement Operation\n",
    "  \n",
    "Pre prefix: in this first we perform the increment/decrement operations then use (return) the value. \n",
    "\n",
    "    * ++i, pre increment Operation\n",
    "\n",
    "    * --i, pre decrement Operation\n"
   ]
  },
  {
   "cell_type": "code",
   "execution_count": 1,
   "metadata": {},
   "outputs": [],
   "source": [
    "let a = 10;\n",
    "let b = 20;"
   ]
  },
  {
   "cell_type": "code",
   "execution_count": 2,
   "metadata": {},
   "outputs": [
    {
     "name": "stdout",
     "output_type": "stream",
     "text": [
      "before increment a is:  10\n",
      "increasing a by one i++:  10\n",
      "after increment a is:  11\n",
      "decreasing a by one i-- 11\n",
      "after decreasing a is:  10\n"
     ]
    }
   ],
   "source": [
    "console.log(\"before increment a is: \", a);\n",
    "console.log(\"increasing a by one i++: \", a++);// using 10 later increasing to 11.\n",
    "console.log(\"after increment a is: \", a);\n",
    "\n",
    "// now at current position a is 11.\n",
    "console.log(\"decreasing a by one i--\", a--); // using 11 later decreasing to 10.\n",
    "console.log(\"after decreasing a is: \", a);"
   ]
  },
  {
   "cell_type": "code",
   "execution_count": 3,
   "metadata": {},
   "outputs": [
    {
     "name": "stdout",
     "output_type": "stream",
     "text": [
      "before increment a is:  10\n",
      "increasing a by one ++a:  11\n",
      "after increment a is:  11\n",
      "decreasing a by one --a 10\n",
      "after decreasing a is:  10\n"
     ]
    }
   ],
   "source": [
    "a = 10\n",
    "\n",
    "// at start a is 10\n",
    "\n",
    "console.log(\"before increment a is: \", a);\n",
    "console.log(\"increasing a by one ++a: \", ++a);// using 10 later increasing to 11.\n",
    "console.log(\"after increment a is: \", a);\n",
    "\n",
    "// now at current position a is 11.\n",
    "console.log(\"decreasing a by one --a\", --a); // using 11 later decreasing to 10.\n",
    "console.log(\"after decreasing a is: \", a);"
   ]
  },
  {
   "cell_type": "code",
   "execution_count": 7,
   "metadata": {},
   "outputs": [],
   "source": [
    "let arr =[\"manish\",21, 5.6, \"B+\"]"
   ]
  },
  {
   "cell_type": "code",
   "execution_count": 2,
   "metadata": {},
   "outputs": [
    {
     "name": "stdout",
     "output_type": "stream",
     "text": [
      "manish\n",
      "21\n",
      "5.6\n",
      "B+\n"
     ]
    }
   ],
   "source": [
    "for(let i =0 ; i < arr.length ; i++){\n",
    "    console.log(arr[i]);\n",
    "}"
   ]
  },
  {
   "attachments": {},
   "cell_type": "markdown",
   "metadata": {},
   "source": [
    "**Count the Number of Balls in each color**"
   ]
  },
  {
   "cell_type": "code",
   "execution_count": 1,
   "metadata": {},
   "outputs": [],
   "source": [
    "let balls = ['black', 'white', 'red', 'green', 'black', 'white', 'blue', 'green', 'green', 'red', 'white',\n",
    " 'red', 'red', 'red', 'blue', 'red', 'white', 'red', 'green', 'white', 'black', 'blue', 'black', 'black',\n",
    "  'green', 'red', 'white', 'black', 'red', 'red', 'blue', 'green', 'black', 'red', 'green', 'white', \n",
    "  'white', 'red', 'blue', 'white', 'black', 'green', 'green', 'black', 'red', 'red', 'red', 'white', \n",
    "  'green', 'white', 'white', 'black', 'blue', 'green', 'green', 'black', 'white', 'red', 'green', 'blue', \n",
    "  'white', 'black', 'green', 'red', 'white', 'red', 'red', 'red', 'black', 'red', 'blue', 'white', 'black',\n",
    "   'blue', 'white', 'blue', 'green', 'white', 'blue', 'green', 'green', 'green', 'green', 'green', 'red', \n",
    "   'green', 'red', 'white', 'white', 'red', 'white', 'green', 'black', 'green', 'blue', 'red', 'green', \n",
    "   'red', 'blue']"
   ]
  },
  {
   "cell_type": "code",
   "execution_count": 2,
   "metadata": {},
   "outputs": [],
   "source": [
    "let ball_color = \"red\""
   ]
  },
  {
   "cell_type": "code",
   "execution_count": null,
   "metadata": {},
   "outputs": [],
   "source": []
  },
  {
   "cell_type": "code",
   "execution_count": 3,
   "metadata": {},
   "outputs": [],
   "source": [
    "let number_of_red_balls = 0;"
   ]
  },
  {
   "cell_type": "code",
   "execution_count": 4,
   "metadata": {},
   "outputs": [
    {
     "name": "stdout",
     "output_type": "stream",
     "text": [
      "Number of red balls:  26\n"
     ]
    }
   ],
   "source": [
    "for(let i=0; i<balls.length; i++){\n",
    "    if(balls[i] === ball_color){\n",
    "        number_of_red_balls++;\n",
    "    }\n",
    "}\n",
    "\n",
    "console.log(\"Number of red balls: \", number_of_red_balls);"
   ]
  },
  {
   "attachments": {},
   "cell_type": "markdown",
   "metadata": {},
   "source": [
    "Now we will make a visual representation of each ball by filtering red ball with counted number."
   ]
  },
  {
   "cell_type": "code",
   "execution_count": 6,
   "metadata": {},
   "outputs": [
    {
     "name": "stdout",
     "output_type": "stream",
     "text": [
      "black\n",
      "white\n",
      "red ------>  1\n",
      "green\n",
      "black\n",
      "white\n",
      "blue\n",
      "green\n",
      "green\n",
      "red ------>  2\n",
      "white\n",
      "red ------>  3\n",
      "red ------>  4\n",
      "red ------>  5\n",
      "blue\n",
      "red ------>  6\n",
      "white\n",
      "red ------>  7\n",
      "green\n",
      "white\n",
      "black\n",
      "blue\n",
      "black\n",
      "black\n",
      "green\n",
      "red ------>  8\n",
      "white\n",
      "black\n",
      "red ------>  9\n",
      "red ------>  10\n",
      "blue\n",
      "green\n",
      "black\n",
      "red ------>  11\n",
      "green\n",
      "white\n",
      "white\n",
      "red ------>  12\n",
      "blue\n",
      "white\n",
      "black\n",
      "green\n",
      "green\n",
      "black\n",
      "red ------>  13\n",
      "red ------>  14\n",
      "red ------>  15\n",
      "white\n",
      "green\n",
      "white\n",
      "white\n",
      "black\n",
      "blue\n",
      "green\n",
      "green\n",
      "black\n",
      "white\n",
      "red ------>  16\n",
      "green\n",
      "blue\n",
      "white\n",
      "black\n",
      "green\n",
      "red ------>  17\n",
      "white\n",
      "red ------>  18\n",
      "red ------>  19\n",
      "red ------>  20\n",
      "black\n",
      "red ------>  21\n",
      "blue\n",
      "white\n",
      "black\n",
      "blue\n",
      "white\n",
      "blue\n",
      "green\n",
      "white\n",
      "blue\n",
      "green\n",
      "green\n",
      "green\n",
      "green\n",
      "green\n",
      "red ------>  22\n",
      "green\n",
      "red ------>  23\n",
      "white\n",
      "white\n",
      "red ------>  24\n",
      "white\n",
      "green\n",
      "black\n",
      "green\n",
      "blue\n",
      "red ------>  25\n",
      "green\n",
      "red ------>  26\n",
      "blue\n"
     ]
    }
   ],
   "source": [
    "number_of_red_balls = 0;\n",
    "for(let i=0; i<balls.length; i++){\n",
    "    if(balls[i] === ball_color){\n",
    "        number_of_red_balls++;\n",
    "    console.log(balls[i], \"------> \", number_of_red_balls);\n",
    "    }\n",
    "    else{\n",
    "        console.log(balls[i]);\n",
    "    }\n",
    "}"
   ]
  },
  {
   "attachments": {},
   "cell_type": "markdown",
   "metadata": {},
   "source": [
    "Decorated Output 1: `Array: [\"manish\",21, 5.6, \"B+\"];`\n",
    "\n",
    "Decorated Output 2: \n",
    "```\n",
    "Array: [\n",
    "    0: \"manish\",\n",
    "    1: 21, \n",
    "    2: 5.6,\n",
    "    3: \"B+\"\n",
    "];\n",
    "```"
   ]
  },
  {
   "attachments": {},
   "cell_type": "markdown",
   "metadata": {},
   "source": [
    "**Decorated Output 1:**"
   ]
  },
  {
   "cell_type": "code",
   "execution_count": 10,
   "metadata": {},
   "outputs": [
    {
     "data": {
      "text/plain": [
       "[ 'manish', 21, 5.6, 'B+', '2001-10-10' ]"
      ]
     },
     "execution_count": 10,
     "metadata": {},
     "output_type": "execute_result"
    }
   ],
   "source": [
    "arr =[\"manish\",21, 5.6, \"B+\",\"2001-10-10\"]"
   ]
  },
  {
   "cell_type": "code",
   "execution_count": 11,
   "metadata": {},
   "outputs": [
    {
     "name": "stdout",
     "output_type": "stream",
     "text": [
      "Array: [manish,21,5.6,B+,2001-10-10]\n"
     ]
    }
   ],
   "source": [
    "result =\"Array: [\";\n",
    "for(let i =0 ; i < arr.length ; i++){\n",
    "    \n",
    "    if(i != arr.length-1){\n",
    "        result += arr[i] + \",\";\n",
    "    }\n",
    "    else{\n",
    "        result += arr[i];\n",
    "    }\n",
    "}\n",
    "// result = result.slice(0, -1);\n",
    "result += \"]\";\n",
    "console.log(result);"
   ]
  },
  {
   "attachments": {},
   "cell_type": "markdown",
   "metadata": {},
   "source": [
    "**Decorated Output 2:**"
   ]
  },
  {
   "cell_type": "code",
   "execution_count": 15,
   "metadata": {},
   "outputs": [
    {
     "name": "stdout",
     "output_type": "stream",
     "text": [
      "Array: [\n",
      "\t0: manish,\n",
      "\t1: 21,\n",
      "\t2: 5.6,\n",
      "\t3: B+\n",
      "    ]\n"
     ]
    }
   ],
   "source": [
    "result =\"Array: [\\n\";\n",
    "for(let i =0 ; i < arr.length ; i++){\n",
    "    \n",
    "    if(i != arr.length-1){\n",
    "        result += `\\t${i}: ${arr[i]}` + \",\\n\";\n",
    "    }\n",
    "    else{\n",
    "        result += `\\t${i}: ${arr[i]}\\n    ]`\n",
    "    }\n",
    "}\n",
    "console.log(result)"
   ]
  },
  {
   "attachments": {},
   "cell_type": "markdown",
   "metadata": {},
   "source": [
    "**Function to print Decorated array**"
   ]
  },
  {
   "cell_type": "code",
   "execution_count": 17,
   "metadata": {},
   "outputs": [],
   "source": [
    "function printArray(arr){\n",
    "    \n",
    "    result =\"Array: [\\n\";\n",
    "    for(let i =0 ; i < arr.length ; i++){\n",
    "        \n",
    "        if(i != arr.length-1){\n",
    "            result += `\\t${i}: ${arr[i]}` + \",\\n\";\n",
    "        }\n",
    "        else{\n",
    "            result += `\\t${i}: ${arr[i]}\\n    ]`\n",
    "        }\n",
    "    }\n",
    "    console.log(result)\n",
    "}"
   ]
  },
  {
   "cell_type": "code",
   "execution_count": 21,
   "metadata": {},
   "outputs": [
    {
     "name": "stdout",
     "output_type": "stream",
     "text": [
      "Array: [\n",
      "\t0: 1,\n",
      "\t1: 2,\n",
      "\t2: manish,\n",
      "\t3: kushal,\n",
      "\t4: aasif,\n",
      "\t5: chandan\n",
      "    ]\n"
     ]
    }
   ],
   "source": [
    "printArray([1, 2, \"manish\",\"kushal\",\"aasif\", \"chandan\"])"
   ]
  },
  {
   "cell_type": "markdown",
   "metadata": {},
   "source": [
    "**While Loop**"
   ]
  },
  {
   "attachments": {},
   "cell_type": "markdown",
   "metadata": {},
   "source": [
    "```js\n",
    "while(condition){\n",
    "    // statement \n",
    "}\n",
    "```"
   ]
  },
  {
   "cell_type": "code",
   "execution_count": 22,
   "metadata": {},
   "outputs": [
    {
     "name": "stdout",
     "output_type": "stream",
     "text": [
      "Array: [\n",
      "\t0: manish,\n",
      "\t1: 21,\n",
      "\t2: 5.6,\n",
      "\t3: B+\n",
      "    ]\n"
     ]
    }
   ],
   "source": [
    "let i = 0;\n",
    "result =\"Array: [\\n\";\n",
    "while(i < arr.length){\n",
    "\n",
    "    if(i != arr.length-1){\n",
    "        result += `\\t${i}: ${arr[i]}` + \",\\n\";\n",
    "    }\n",
    "    else{\n",
    "        result += `\\t${i}: ${arr[i]}\\n    ]`\n",
    "    }\n",
    "    i++;\n",
    "\n",
    "}\n",
    "console.log(result)"
   ]
  },
  {
   "cell_type": "markdown",
   "metadata": {},
   "source": [
    "**Object**"
   ]
  },
  {
   "cell_type": "code",
   "execution_count": 24,
   "metadata": {},
   "outputs": [],
   "source": [
    "let student = {\n",
    "    name: \"Assif\",\n",
    "    age: 20,\n",
    "    gender: \"male\",\n",
    "    height: 5.6,\n",
    "    bloodGroup: \"B+\"\n",
    "}"
   ]
  },
  {
   "cell_type": "code",
   "execution_count": 25,
   "metadata": {},
   "outputs": [
    {
     "data": {
      "text/plain": [
       "{\n",
       "  name: 'Assif',\n",
       "  age: 20,\n",
       "  gender: 'male',\n",
       "  height: 5.6,\n",
       "  bloodGroup: 'B+'\n",
       "}"
      ]
     },
     "execution_count": 25,
     "metadata": {},
     "output_type": "execute_result"
    }
   ],
   "source": [
    "student"
   ]
  },
  {
   "cell_type": "code",
   "execution_count": 26,
   "metadata": {},
   "outputs": [
    {
     "data": {
      "text/plain": [
       "'Assif'"
      ]
     },
     "execution_count": 26,
     "metadata": {},
     "output_type": "execute_result"
    }
   ],
   "source": [
    "student.name"
   ]
  },
  {
   "cell_type": "code",
   "execution_count": 27,
   "metadata": {},
   "outputs": [
    {
     "data": {
      "text/plain": [
       "20"
      ]
     },
     "execution_count": 27,
     "metadata": {},
     "output_type": "execute_result"
    }
   ],
   "source": [
    "student.age"
   ]
  },
  {
   "cell_type": "code",
   "execution_count": 28,
   "metadata": {},
   "outputs": [
    {
     "data": {
      "text/plain": [
       "5.6"
      ]
     },
     "execution_count": 28,
     "metadata": {},
     "output_type": "execute_result"
    }
   ],
   "source": [
    "student.height"
   ]
  },
  {
   "attachments": {},
   "cell_type": "markdown",
   "metadata": {},
   "source": [
    "### Star Pattern \n",
    "\n",
    "```\n",
    "*\n",
    "**\n",
    "***\n",
    "****\n",
    "*****\n",
    "******\n",
    "*******\n",
    "********\n",
    "*********\n",
    "```"
   ]
  },
  {
   "cell_type": "code",
   "execution_count": 12,
   "metadata": {},
   "outputs": [],
   "source": [
    "let patten = \"\";"
   ]
  },
  {
   "cell_type": "code",
   "execution_count": 13,
   "metadata": {},
   "outputs": [
    {
     "name": "stdout",
     "output_type": "stream",
     "text": [
      "\n",
      "*\n",
      "**\n",
      "***\n",
      "****\n",
      "*****\n",
      "******\n",
      "*******\n",
      "********\n",
      "*********\n",
      "**********\n",
      "\n"
     ]
    }
   ],
   "source": [
    "for(let i =0; i<=10; i++){\n",
    "\n",
    "    for(let j =0; j<i; j++){\n",
    "        patten += \"*\";\n",
    "    }\n",
    "    patten += \"\\n\";\n",
    "}\n",
    "\n",
    "console.log(patten);"
   ]
  },
  {
   "cell_type": "code",
   "execution_count": null,
   "metadata": {},
   "outputs": [],
   "source": []
  }
 ],
 "metadata": {
  "kernelspec": {
   "display_name": "JavaScript (Node.js)",
   "language": "javascript",
   "name": "javascript"
  },
  "language_info": {
   "file_extension": ".js",
   "mimetype": "application/javascript",
   "name": "javascript",
   "version": "18.12.0"
  },
  "orig_nbformat": 4
 },
 "nbformat": 4,
 "nbformat_minor": 2
}
