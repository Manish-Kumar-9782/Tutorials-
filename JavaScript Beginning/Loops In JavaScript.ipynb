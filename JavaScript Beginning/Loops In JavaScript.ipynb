{
 "cells": [
  {
   "attachments": {},
   "cell_type": "markdown",
   "metadata": {},
   "source": [
    "Syntax:\n",
    "```js\n",
    "    for(initializer; condition; step/increment/decrement){\n",
    "        // statements.\n",
    "    }\n",
    "```"
   ]
  },
  {
   "cell_type": "code",
   "execution_count": 1,
   "metadata": {},
   "outputs": [],
   "source": [
    "let arr =[\"manish\",21, 5.6, \"B+\"]"
   ]
  },
  {
   "cell_type": "code",
   "execution_count": 2,
   "metadata": {},
   "outputs": [
    {
     "name": "stdout",
     "output_type": "stream",
     "text": [
      "manish\n",
      "21\n",
      "5.6\n",
      "B+\n"
     ]
    }
   ],
   "source": [
    "for(let i =0 ; i < arr.length ; i++){\n",
    "    console.log(arr[i]);\n",
    "}"
   ]
  },
  {
   "attachments": {},
   "cell_type": "markdown",
   "metadata": {},
   "source": [
    "Decorated Output 1: `Array: [\"manish\",21, 5.6, \"B+\"];`\n",
    "\n",
    "Decorated Output 2: \n",
    "```\n",
    "Array: [\n",
    "    0: \"manish\",\n",
    "    1: 21, \n",
    "    2: 5.6,\n",
    "    3: \"B+\"\n",
    "];\n",
    "```"
   ]
  },
  {
   "attachments": {},
   "cell_type": "markdown",
   "metadata": {},
   "source": [
    "**Decorated Output 1:**"
   ]
  },
  {
   "cell_type": "code",
   "execution_count": 16,
   "metadata": {},
   "outputs": [
    {
     "name": "stdout",
     "output_type": "stream",
     "text": [
      "Array: [manish,21,5.6,B+]\n"
     ]
    }
   ],
   "source": [
    "result =\"Array: [\";\n",
    "for(let i =0 ; i < arr.length ; i++){\n",
    "    \n",
    "    if(i != arr.length-1){\n",
    "        result += arr[i] + \",\";\n",
    "    }\n",
    "    else{\n",
    "        result += arr[i];\n",
    "    }\n",
    "}\n",
    "// result = result.slice(0, -1);\n",
    "result += \"]\";\n",
    "console.log(result);"
   ]
  },
  {
   "attachments": {},
   "cell_type": "markdown",
   "metadata": {},
   "source": [
    "**Decorated Output 2:**"
   ]
  },
  {
   "cell_type": "code",
   "execution_count": 15,
   "metadata": {},
   "outputs": [
    {
     "name": "stdout",
     "output_type": "stream",
     "text": [
      "Array: [\n",
      "\t0: manish,\n",
      "\t1: 21,\n",
      "\t2: 5.6,\n",
      "\t3: B+\n",
      "    ]\n"
     ]
    }
   ],
   "source": [
    "result =\"Array: [\\n\";\n",
    "for(let i =0 ; i < arr.length ; i++){\n",
    "    \n",
    "    if(i != arr.length-1){\n",
    "        result += `\\t${i}: ${arr[i]}` + \",\\n\";\n",
    "    }\n",
    "    else{\n",
    "        result += `\\t${i}: ${arr[i]}\\n    ]`\n",
    "    }\n",
    "}\n",
    "console.log(result)"
   ]
  },
  {
   "attachments": {},
   "cell_type": "markdown",
   "metadata": {},
   "source": [
    "**Function to print Decorated array**"
   ]
  },
  {
   "cell_type": "code",
   "execution_count": 17,
   "metadata": {},
   "outputs": [],
   "source": [
    "function printArray(arr){\n",
    "    \n",
    "    result =\"Array: [\\n\";\n",
    "    for(let i =0 ; i < arr.length ; i++){\n",
    "        \n",
    "        if(i != arr.length-1){\n",
    "            result += `\\t${i}: ${arr[i]}` + \",\\n\";\n",
    "        }\n",
    "        else{\n",
    "            result += `\\t${i}: ${arr[i]}\\n    ]`\n",
    "        }\n",
    "    }\n",
    "    console.log(result)\n",
    "}"
   ]
  },
  {
   "cell_type": "code",
   "execution_count": 21,
   "metadata": {},
   "outputs": [
    {
     "name": "stdout",
     "output_type": "stream",
     "text": [
      "Array: [\n",
      "\t0: 1,\n",
      "\t1: 2,\n",
      "\t2: manish,\n",
      "\t3: kushal,\n",
      "\t4: aasif,\n",
      "\t5: chandan\n",
      "    ]\n"
     ]
    }
   ],
   "source": [
    "printArray([1, 2, \"manish\",\"kushal\",\"aasif\", \"chandan\"])"
   ]
  },
  {
   "cell_type": "markdown",
   "metadata": {},
   "source": [
    "**While Loop**"
   ]
  },
  {
   "attachments": {},
   "cell_type": "markdown",
   "metadata": {},
   "source": [
    "```js\n",
    "while(condition){\n",
    "    // statement \n",
    "}\n",
    "```"
   ]
  },
  {
   "cell_type": "code",
   "execution_count": 22,
   "metadata": {},
   "outputs": [
    {
     "name": "stdout",
     "output_type": "stream",
     "text": [
      "Array: [\n",
      "\t0: manish,\n",
      "\t1: 21,\n",
      "\t2: 5.6,\n",
      "\t3: B+\n",
      "    ]\n"
     ]
    }
   ],
   "source": [
    "let i = 0;\n",
    "result =\"Array: [\\n\";\n",
    "while(i < arr.length){\n",
    "\n",
    "    if(i != arr.length-1){\n",
    "        result += `\\t${i}: ${arr[i]}` + \",\\n\";\n",
    "    }\n",
    "    else{\n",
    "        result += `\\t${i}: ${arr[i]}\\n    ]`\n",
    "    }\n",
    "    i++;\n",
    "\n",
    "}\n",
    "console.log(result)"
   ]
  },
  {
   "cell_type": "markdown",
   "metadata": {},
   "source": [
    "**Object**"
   ]
  },
  {
   "cell_type": "code",
   "execution_count": 24,
   "metadata": {},
   "outputs": [],
   "source": [
    "let student = {\n",
    "    name: \"Assif\",\n",
    "    age: 20,\n",
    "    gender: \"male\",\n",
    "    height: 5.6,\n",
    "    bloodGroup: \"B+\"\n",
    "}"
   ]
  },
  {
   "cell_type": "code",
   "execution_count": 25,
   "metadata": {},
   "outputs": [
    {
     "data": {
      "text/plain": [
       "{\n",
       "  name: 'Assif',\n",
       "  age: 20,\n",
       "  gender: 'male',\n",
       "  height: 5.6,\n",
       "  bloodGroup: 'B+'\n",
       "}"
      ]
     },
     "execution_count": 25,
     "metadata": {},
     "output_type": "execute_result"
    }
   ],
   "source": [
    "student"
   ]
  },
  {
   "cell_type": "code",
   "execution_count": 26,
   "metadata": {},
   "outputs": [
    {
     "data": {
      "text/plain": [
       "'Assif'"
      ]
     },
     "execution_count": 26,
     "metadata": {},
     "output_type": "execute_result"
    }
   ],
   "source": [
    "student.name"
   ]
  },
  {
   "cell_type": "code",
   "execution_count": 27,
   "metadata": {},
   "outputs": [
    {
     "data": {
      "text/plain": [
       "20"
      ]
     },
     "execution_count": 27,
     "metadata": {},
     "output_type": "execute_result"
    }
   ],
   "source": [
    "student.age"
   ]
  },
  {
   "cell_type": "code",
   "execution_count": 28,
   "metadata": {},
   "outputs": [
    {
     "data": {
      "text/plain": [
       "5.6"
      ]
     },
     "execution_count": 28,
     "metadata": {},
     "output_type": "execute_result"
    }
   ],
   "source": [
    "student.height"
   ]
  },
  {
   "cell_type": "code",
   "execution_count": null,
   "metadata": {},
   "outputs": [],
   "source": []
  }
 ],
 "metadata": {
  "kernelspec": {
   "display_name": "JavaScript (Node.js)",
   "language": "javascript",
   "name": "javascript"
  },
  "language_info": {
   "file_extension": ".js",
   "mimetype": "application/javascript",
   "name": "javascript",
   "version": "18.12.0"
  },
  "orig_nbformat": 4
 },
 "nbformat": 4,
 "nbformat_minor": 2
}
