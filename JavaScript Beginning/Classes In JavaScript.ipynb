{
 "cells": [
  {
   "attachments": {},
   "cell_type": "markdown",
   "metadata": {},
   "source": [
    "```js\n",
    "class <className>{\n",
    "    // static properties.\n",
    "    // private properties\n",
    "\n",
    "    constructor(parm1, parm2){\n",
    "        this.parm1 = parm1;\n",
    "        this.parm2 = parm2;\n",
    "    }\n",
    "\n",
    "    function1(){\n",
    "        // some statements\n",
    "    }\n",
    "\n",
    "    function2(){\n",
    "        // some statements\n",
    "    }\n",
    "\n",
    "\n",
    "}\n",
    "```"
   ]
  },
  {
   "cell_type": "code",
   "execution_count": 1,
   "metadata": {},
   "outputs": [],
   "source": [
    "// Now we will make a class for Student.\n",
    "\n",
    "class Student{\n",
    "\n",
    "    constructor(name, age, height, bloodGroup){\n",
    "        this.name = name;\n",
    "        this.age = age;\n",
    "        this.height = height;\n",
    "        this.bloodGroup = bloodGroup;\n",
    "    }\n",
    "}\n"
   ]
  },
  {
   "cell_type": "code",
   "execution_count": 2,
   "metadata": {},
   "outputs": [],
   "source": [
    "// Now we will create a ne Student.\n",
    "let student = new Student(\"Chandan\",21, 5.6, \"B+\")"
   ]
  },
  {
   "cell_type": "code",
   "execution_count": 3,
   "metadata": {},
   "outputs": [
    {
     "data": {
      "text/plain": [
       "Student { name: 'Chandan', age: 21, height: 5.6, bloodGroup: 'B+' }"
      ]
     },
     "execution_count": 3,
     "metadata": {},
     "output_type": "execute_result"
    }
   ],
   "source": [
    "student"
   ]
  },
  {
   "cell_type": "code",
   "execution_count": 4,
   "metadata": {},
   "outputs": [
    {
     "data": {
      "text/plain": [
       "21"
      ]
     },
     "execution_count": 4,
     "metadata": {},
     "output_type": "execute_result"
    }
   ],
   "source": [
    "student.age"
   ]
  },
  {
   "attachments": {},
   "cell_type": "markdown",
   "metadata": {},
   "source": [
    "Now we will add some functionality to the Student class"
   ]
  },
  {
   "cell_type": "code",
   "execution_count": 6,
   "metadata": {},
   "outputs": [],
   "source": [
    "class Student1{\n",
    "\n",
    "    constructor(name, age, height, bloodGroup){\n",
    "        this.name = name;\n",
    "        this.age = age;\n",
    "        this.height = height;\n",
    "        this.bloodGroup = bloodGroup;\n",
    "    }\n",
    "\n",
    "    showInfo(){\n",
    "        console.log(\"Name: \" + this.name);\n",
    "        console.log(\"Age: \" + this.age);\n",
    "        console.log(\"Height:\" + this.height);\n",
    "        console.log(\"Blood Group: \" + this.bloodGroup);\n",
    "    }\n",
    "}   "
   ]
  },
  {
   "cell_type": "code",
   "execution_count": 8,
   "metadata": {},
   "outputs": [],
   "source": [
    "let student1 = new Student1(\"Chandan\",21, 5.6, \"B+\")"
   ]
  },
  {
   "cell_type": "code",
   "execution_count": 9,
   "metadata": {},
   "outputs": [
    {
     "name": "stdout",
     "output_type": "stream",
     "text": [
      "Name: Chandan\n",
      "Age: 21\n",
      "Height:5.6\n",
      "Blood Group: B+\n"
     ]
    }
   ],
   "source": [
    "student1.showInfo()"
   ]
  },
  {
   "cell_type": "code",
   "execution_count": 10,
   "metadata": {},
   "outputs": [
    {
     "ename": "TypeError",
     "evalue": "student.showInfo is not a function",
     "output_type": "error",
     "traceback": [
      "evalmachine.<anonymous>:1",
      "student.showInfo()",
      "        ^",
      "",
      "TypeError: student.showInfo is not a function",
      "    at evalmachine.<anonymous>:1:9",
      "    at Script.runInThisContext (node:vm:129:12)",
      "    at Object.runInThisContext (node:vm:313:38)",
      "    at run ([eval]:1020:15)",
      "    at onRunRequest ([eval]:864:18)",
      "    at onMessage ([eval]:828:13)",
      "    at process.emit (node:events:513:28)",
      "    at emit (node:internal/child_process:937:14)",
      "    at process.processTicksAndRejections (node:internal/process/task_queues:83:21)"
     ]
    }
   ],
   "source": [
    "student.showInfo()"
   ]
  },
  {
   "cell_type": "code",
   "execution_count": 11,
   "metadata": {},
   "outputs": [
    {
     "data": {
      "text/plain": [
       "{}"
      ]
     },
     "execution_count": 11,
     "metadata": {},
     "output_type": "execute_result"
    }
   ],
   "source": [
    "Student.prototype"
   ]
  },
  {
   "attachments": {},
   "cell_type": "markdown",
   "metadata": {},
   "source": [
    "### Static properties in class\n"
   ]
  },
  {
   "cell_type": "code",
   "execution_count": 1,
   "metadata": {},
   "outputs": [],
   "source": [
    "class Person{\n",
    "\n",
    "    // Now we will make a static property which will be used to count the number of Person objects\n",
    "    // created by this class.\n",
    "\n",
    "    static nPersons = 0; // initial number of person objects are zero.\n",
    "\n",
    "    constructor(name, age, height, bloodGroup){\n",
    "        this.name = name;\n",
    "        this.age = age;\n",
    "        this.height = height;\n",
    "        this.bloodGroup = bloodGroup;\n",
    "\n",
    "        // Increasing the number of created persons.\n",
    "        Person.nPersons++;\n",
    "    }\n",
    "\n",
    "    showInfo(){\n",
    "        console.log(\"Name: \" + this.name);\n",
    "        console.log(\"Age: \" + this.age);\n",
    "        console.log(\"Height:\" + this.height);\n",
    "        console.log(\"Blood Group: \" + this.bloodGroup);\n",
    "    }\n",
    "}"
   ]
  },
  {
   "cell_type": "code",
   "execution_count": 2,
   "metadata": {},
   "outputs": [],
   "source": [
    "let student1 = new Person(\"Chandan\",21, 5.6, \"B+\")"
   ]
  },
  {
   "cell_type": "code",
   "execution_count": 3,
   "metadata": {},
   "outputs": [],
   "source": [
    "let student_x2 = new Person(\"Aasif\",22, 5.5, \"A+\")"
   ]
  },
  {
   "cell_type": "code",
   "execution_count": 4,
   "metadata": {},
   "outputs": [],
   "source": [
    "let student_x3 = new Person(\"Parkash\",25, 5.7, \"PersonB+\")"
   ]
  },
  {
   "cell_type": "code",
   "execution_count": 6,
   "metadata": {},
   "outputs": [
    {
     "data": {
      "text/plain": [
       "3"
      ]
     },
     "execution_count": 6,
     "metadata": {},
     "output_type": "execute_result"
    }
   ],
   "source": [
    "Person.nPersons"
   ]
  },
  {
   "cell_type": "code",
   "execution_count": 7,
   "metadata": {},
   "outputs": [],
   "source": [
    "let student_x4 = new Person(\"Manish\",27, 5.6, \"O-\")"
   ]
  },
  {
   "cell_type": "code",
   "execution_count": 8,
   "metadata": {},
   "outputs": [
    {
     "data": {
      "text/plain": [
       "4"
      ]
     },
     "execution_count": 8,
     "metadata": {},
     "output_type": "execute_result"
    }
   ],
   "source": [
    "Person.nPersons"
   ]
  },
  {
   "cell_type": "code",
   "execution_count": 11,
   "metadata": {},
   "outputs": [
    {
     "name": "stdout",
     "output_type": "stream",
     "text": [
      "Name: Parkash\n",
      "Age: 25\n",
      "Height:5.7\n",
      "Blood Group: PersonB+\n"
     ]
    }
   ],
   "source": [
    "student_x3.showInfo()"
   ]
  },
  {
   "attachments": {},
   "cell_type": "markdown",
   "metadata": {},
   "source": [
    "### Private Properties.\n",
    "\n",
    "we use # as prefix to make a property as private property on its name."
   ]
  },
  {
   "cell_type": "code",
   "execution_count": 1,
   "metadata": {},
   "outputs": [],
   "source": [
    "class Person1{\n",
    "\n",
    "    // Now we will make a static property which will be used to count the number of Person objects\n",
    "    // created by this class.\n",
    "\n",
    "    static nPersons = 0; // initial number of person objects are zero.\n",
    "    name = null;\n",
    "    age = null;\n",
    "    height = null;\n",
    "    bloodGroup = null;\n",
    "    #phoneNumber = null;\n",
    "\n",
    "    constructor(name, age, height, bloodGroup, phoneNumber){\n",
    "        this.name = name;\n",
    "        this.age = age;\n",
    "        this.height = height;\n",
    "        this.bloodGroup = bloodGroup;\n",
    "        this.#phoneNumber = phoneNumber;\n",
    "        // #phoneNumber is a private property\n",
    "\n",
    "        // Increasing the number of created persons.\n",
    "        Person1.nPersons++;\n",
    "    }\n",
    "\n",
    "    showInfo(){\n",
    "        console.log(\"Name: \" + this.name);\n",
    "        console.log(\"Age: \" + this.age);\n",
    "        console.log(\"Height:\" + this.height);\n",
    "        console.log(\"Blood Group: \" + this.bloodGroup);\n",
    "        // console.log(\"Phone Number: \" + this.#phoneNumber);\n",
    "    }\n",
    "}"
   ]
  },
  {
   "cell_type": "code",
   "execution_count": 2,
   "metadata": {},
   "outputs": [],
   "source": [
    "let student = new Person1(\"Manish\",27, 5.6, \"O-\", 9784563217)"
   ]
  },
  {
   "cell_type": "code",
   "execution_count": 3,
   "metadata": {},
   "outputs": [
    {
     "name": "stdout",
     "output_type": "stream",
     "text": [
      "Name: Manish\n",
      "Age: 27\n",
      "Height:5.6\n",
      "Blood Group: O-\n",
      "Phone Number: 9784563217\n"
     ]
    }
   ],
   "source": [
    "student.showInfo()"
   ]
  },
  {
   "cell_type": "code",
   "execution_count": 4,
   "metadata": {},
   "outputs": [
    {
     "data": {
      "text/plain": [
       "'Manish'"
      ]
     },
     "execution_count": 4,
     "metadata": {},
     "output_type": "execute_result"
    }
   ],
   "source": [
    "student.name"
   ]
  },
  {
   "cell_type": "code",
   "execution_count": 5,
   "metadata": {},
   "outputs": [
    {
     "data": {
      "text/plain": [
       "27"
      ]
     },
     "execution_count": 5,
     "metadata": {},
     "output_type": "execute_result"
    }
   ],
   "source": [
    "student.age"
   ]
  },
  {
   "cell_type": "code",
   "execution_count": 6,
   "metadata": {},
   "outputs": [
    {
     "data": {
      "text/plain": [
       "5.6"
      ]
     },
     "execution_count": 6,
     "metadata": {},
     "output_type": "execute_result"
    }
   ],
   "source": [
    "student.height"
   ]
  },
  {
   "cell_type": "code",
   "execution_count": 7,
   "metadata": {},
   "outputs": [
    {
     "data": {
      "text/plain": [
       "'O-'"
      ]
     },
     "execution_count": 7,
     "metadata": {},
     "output_type": "execute_result"
    }
   ],
   "source": [
    "student.bloodGroup"
   ]
  },
  {
   "cell_type": "code",
   "execution_count": 8,
   "metadata": {},
   "outputs": [
    {
     "ename": "SyntaxError",
     "evalue": "Private field '#phoneNumber' must be declared in an enclosing class",
     "output_type": "error",
     "traceback": [
      "evalmachine.<anonymous>:1",
      "student.#phoneNumber",
      "       ^",
      "",
      "SyntaxError: Private field '#phoneNumber' must be declared in an enclosing class",
      "    at new Script (node:vm:100:7)",
      "    at createScript (node:vm:265:10)",
      "    at Object.runInThisContext (node:vm:313:10)",
      "    at run ([eval]:1020:15)",
      "    at onRunRequest ([eval]:864:18)",
      "    at onMessage ([eval]:828:13)",
      "    at process.emit (node:events:513:28)",
      "    at emit (node:internal/child_process:937:14)",
      "    at process.processTicksAndRejections (node:internal/process/task_queues:83:21)"
     ]
    }
   ],
   "source": [
    "student.#phoneNumber"
   ]
  },
  {
   "cell_type": "code",
   "execution_count": 9,
   "metadata": {},
   "outputs": [
    {
     "data": {
      "text/plain": [
       "'Aasif'"
      ]
     },
     "execution_count": 9,
     "metadata": {},
     "output_type": "execute_result"
    }
   ],
   "source": [
    "student.name =\"Aasif\""
   ]
  },
  {
   "cell_type": "code",
   "execution_count": 10,
   "metadata": {},
   "outputs": [
    {
     "name": "stdout",
     "output_type": "stream",
     "text": [
      "Name: Aasif\n",
      "Age: 27\n",
      "Height:5.6\n",
      "Blood Group: O-\n",
      "Phone Number: 9784563217\n"
     ]
    }
   ],
   "source": [
    "student.showInfo()"
   ]
  },
  {
   "cell_type": "code",
   "execution_count": null,
   "metadata": {},
   "outputs": [],
   "source": []
  }
 ],
 "metadata": {
  "kernelspec": {
   "display_name": "JavaScript (Node.js)",
   "language": "javascript",
   "name": "javascript"
  },
  "language_info": {
   "file_extension": ".js",
   "mimetype": "application/javascript",
   "name": "javascript",
   "version": "18.12.0"
  },
  "orig_nbformat": 4,
  "vscode": {
   "interpreter": {
    "hash": "8925120094c30cfcf52475a53e76e9e54f965c4e5eeb7d39eacd98c85315eb39"
   }
  }
 },
 "nbformat": 4,
 "nbformat_minor": 2
}
