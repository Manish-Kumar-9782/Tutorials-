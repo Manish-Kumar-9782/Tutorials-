{
 "cells": [
  {
   "attachments": {},
   "cell_type": "markdown",
   "metadata": {},
   "source": [
    "##  Classes"
   ]
  },
  {
   "cell_type": "code",
   "execution_count": 1,
   "metadata": {},
   "outputs": [],
   "source": [
    "class Student{\n",
    "\n",
    "    name = null;\n",
    "    age = null;\n",
    "    height = null;\n",
    "    bloodGroup = null;\n",
    "\n",
    "    constructor(name, age, height,bloodGroup){\n",
    "        this.name = name;\n",
    "        this.age = age;\n",
    "        this.height = height;\n",
    "        this.bloodGroup = bloodGroup;\n",
    "    }\n",
    "}"
   ]
  },
  {
   "cell_type": "code",
   "execution_count": 5,
   "metadata": {},
   "outputs": [],
   "source": [
    "let student = new Student('pankaj', 20, 5.6, \"O+\")"
   ]
  },
  {
   "cell_type": "code",
   "execution_count": 7,
   "metadata": {},
   "outputs": [
    {
     "data": {
      "text/plain": [
       "Student { name: 'pankaj', age: 20, height: 5.6, bloodGroup: 'O+' }"
      ]
     },
     "execution_count": 7,
     "metadata": {},
     "output_type": "execute_result"
    }
   ],
   "source": [
    "student"
   ]
  },
  {
   "cell_type": "code",
   "execution_count": 8,
   "metadata": {},
   "outputs": [],
   "source": [
    "class Student1{\n",
    "\n",
    "    constructor(name, age, height,bloodGroup){\n",
    "        this.name = name;\n",
    "        this.age = age;\n",
    "        this.height = height;\n",
    "        this.bloodGroup = bloodGroup;\n",
    "    }\n",
    "\n",
    "    show_info(){\n",
    "        console.log(\"Name:\", `${this.name} `);\n",
    "        console.log(\"Age:\", `${this.age}`);\n",
    "        console.log(\"Height:\", `${this.height}`);\n",
    "        console.log(\"BloodGroup:\", `${this.bloodGroup}`);\n",
    "    }\n",
    "}"
   ]
  },
  {
   "cell_type": "code",
   "execution_count": 10,
   "metadata": {},
   "outputs": [],
   "source": [
    "let student1 = new Student1('pankaj', 20, 5.6, \"O+\")"
   ]
  },
  {
   "cell_type": "code",
   "execution_count": 11,
   "metadata": {},
   "outputs": [
    {
     "name": "stdout",
     "output_type": "stream",
     "text": [
      "Name: pankaj \n",
      "Age: 20\n",
      "Height: 5.6\n",
      "BloodGroup: O+\n"
     ]
    }
   ],
   "source": [
    "student1.show_info()"
   ]
  },
  {
   "cell_type": "code",
   "execution_count": 1,
   "metadata": {},
   "outputs": [],
   "source": [
    "class Person{\n",
    "    constructor(name, age, height,bloodGroup){\n",
    "        this.name = name;\n",
    "        this.age = age;\n",
    "        this.height = height;\n",
    "        this.bloodGroup = bloodGroup;\n",
    "    }\n",
    "\n",
    "    show_info(){\n",
    "        console.log(\"Name:\", `${this.name} `);\n",
    "        console.log(\"Age:\", `${this.age}`);\n",
    "        console.log(\"Height:\", `${this.height}`);\n",
    "        console.log(\"BloodGroup:\", `${this.bloodGroup}`);\n",
    "    }\n",
    "}"
   ]
  },
  {
   "cell_type": "code",
   "execution_count": 2,
   "metadata": {},
   "outputs": [],
   "source": [
    "let person = new Person('pankaj', 20, 5.6, \"O+\")"
   ]
  },
  {
   "cell_type": "code",
   "execution_count": 3,
   "metadata": {},
   "outputs": [
    {
     "name": "stdout",
     "output_type": "stream",
     "text": [
      "Name: pankaj \n",
      "Age: 20\n",
      "Height: 5.6\n",
      "BloodGroup: O+\n"
     ]
    }
   ],
   "source": [
    "person.show_info()"
   ]
  },
  {
   "cell_type": "code",
   "execution_count": 4,
   "metadata": {},
   "outputs": [],
   "source": [
    "// extends keyword.\n",
    "class Student extends  Person{\n",
    "\n",
    "    constructor(name,age,height,bloodGroup,rollNo, school, std, mobileNumber){\n",
    "        super(name,age, height,bloodGroup)\n",
    "        this.rollNo = rollNo;\n",
    "        this.school = school;\n",
    "        this.std = std;\n",
    "        this.mobileNumber = mobileNumber;\n",
    "    }\n",
    "\n",
    "    // overriding the method.\n",
    "    show_info(){\n",
    "        super.show_info();\n",
    "        console.log(\"Roll No: \", this.rollNo);\n",
    "        console.log(\"School: \", this.school);\n",
    "        console.log(\"Standard: \", this.std);\n",
    "        console.log(\"Mobile No: \", this.mobileNumber);\n",
    "    }\n",
    "}"
   ]
  },
  {
   "cell_type": "code",
   "execution_count": 5,
   "metadata": {},
   "outputs": [],
   "source": [
    "let st = new Student('pankaj', 20, 5.6, \"O+\",'007',\"James bond school\",'19th', '---765--007')"
   ]
  },
  {
   "cell_type": "code",
   "execution_count": 6,
   "metadata": {},
   "outputs": [
    {
     "data": {
      "text/plain": [
       "Student {\n",
       "  name: 'pankaj',\n",
       "  age: 20,\n",
       "  height: 5.6,\n",
       "  bloodGroup: 'O+',\n",
       "  rollNo: '007',\n",
       "  school: 'James bond school',\n",
       "  std: '19th',\n",
       "  mobileNumber: '---765--007'\n",
       "}"
      ]
     },
     "execution_count": 6,
     "metadata": {},
     "output_type": "execute_result"
    }
   ],
   "source": [
    "st"
   ]
  },
  {
   "cell_type": "code",
   "execution_count": 7,
   "metadata": {},
   "outputs": [
    {
     "name": "stdout",
     "output_type": "stream",
     "text": [
      "Name: pankaj \n",
      "Age: 20\n",
      "Height: 5.6\n",
      "BloodGroup: O+\n",
      "Roll No:  007\n",
      "School:  James bond school\n",
      "Standard:  19th\n",
      "Mobile No:  ---765--007\n"
     ]
    }
   ],
   "source": [
    "st.show_info()"
   ]
  },
  {
   "cell_type": "code",
   "execution_count": null,
   "metadata": {},
   "outputs": [],
   "source": []
  }
 ],
 "metadata": {
  "kernelspec": {
   "display_name": "JavaScript (Node.js)",
   "language": "javascript",
   "name": "javascript"
  },
  "language_info": {
   "file_extension": ".js",
   "mimetype": "application/javascript",
   "name": "javascript",
   "version": "18.12.0"
  },
  "orig_nbformat": 4
 },
 "nbformat": 4,
 "nbformat_minor": 2
}
