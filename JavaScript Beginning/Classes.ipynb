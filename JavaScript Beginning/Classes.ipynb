{
 "cells": [
  {
   "attachments": {},
   "cell_type": "markdown",
   "metadata": {},
   "source": [
    "##  Classes"
   ]
  },
  {
   "cell_type": "code",
   "execution_count": 1,
   "metadata": {},
   "outputs": [],
   "source": [
    "class Student{\n",
    "\n",
    "    name = null;\n",
    "    age = null;\n",
    "    height = null;\n",
    "    bloodGroup = null;\n",
    "\n",
    "    constructor(name, age, height,bloodGroup){\n",
    "        this.name = name;\n",
    "        this.age = age;\n",
    "        this.height = height;\n",
    "        this.bloodGroup = bloodGroup;\n",
    "    }\n",
    "}"
   ]
  },
  {
   "cell_type": "code",
   "execution_count": 5,
   "metadata": {},
   "outputs": [],
   "source": [
    "let student = new Student('pankaj', 20, 5.6, \"O+\")"
   ]
  },
  {
   "cell_type": "code",
   "execution_count": 7,
   "metadata": {},
   "outputs": [
    {
     "data": {
      "text/plain": [
       "Student { name: 'pankaj', age: 20, height: 5.6, bloodGroup: 'O+' }"
      ]
     },
     "execution_count": 7,
     "metadata": {},
     "output_type": "execute_result"
    }
   ],
   "source": [
    "student"
   ]
  },
  {
   "cell_type": "code",
   "execution_count": 8,
   "metadata": {},
   "outputs": [],
   "source": [
    "class Student1{\n",
    "\n",
    "    constructor(name, age, height,bloodGroup){\n",
    "        this.name = name;\n",
    "        this.age = age;\n",
    "        this.height = height;\n",
    "        this.bloodGroup = bloodGroup;\n",
    "    }\n",
    "\n",
    "    show_info(){\n",
    "        console.log(\"Name:\", `${this.name} `);\n",
    "        console.log(\"Age:\", `${this.age}`);\n",
    "        console.log(\"Height:\", `${this.height}`);\n",
    "        console.log(\"BloodGroup:\", `${this.bloodGroup}`);\n",
    "    }\n",
    "}"
   ]
  },
  {
   "cell_type": "code",
   "execution_count": 10,
   "metadata": {},
   "outputs": [],
   "source": [
    "let student1 = new Student1('pankaj', 20, 5.6, \"O+\")"
   ]
  },
  {
   "cell_type": "code",
   "execution_count": 11,
   "metadata": {},
   "outputs": [
    {
     "name": "stdout",
     "output_type": "stream",
     "text": [
      "Name: pankaj \n",
      "Age: 20\n",
      "Height: 5.6\n",
      "BloodGroup: O+\n"
     ]
    }
   ],
   "source": [
    "student1.show_info()"
   ]
  },
  {
   "cell_type": "code",
   "execution_count": 1,
   "metadata": {},
   "outputs": [],
   "source": [
    "class Person{\n",
    "    constructor(name, age, height,bloodGroup){\n",
    "        this.name = name;\n",
    "        this.age = age;\n",
    "        this.height = height;\n",
    "        this.bloodGroup = bloodGroup;\n",
    "    }\n",
    "\n",
    "    show_info(){\n",
    "        console.log(\"Name:\", `${this.name} `);\n",
    "        console.log(\"Age:\", `${this.age}`);\n",
    "        console.log(\"Height:\", `${this.height}`);\n",
    "        console.log(\"BloodGroup:\", `${this.bloodGroup}`);\n",
    "    }\n",
    "}"
   ]
  },
  {
   "cell_type": "code",
   "execution_count": 2,
   "metadata": {},
   "outputs": [],
   "source": [
    "let person = new Person('pankaj', 20, 5.6, \"O+\")"
   ]
  },
  {
   "cell_type": "code",
   "execution_count": 3,
   "metadata": {},
   "outputs": [
    {
     "name": "stdout",
     "output_type": "stream",
     "text": [
      "Name: pankaj \n",
      "Age: 20\n",
      "Height: 5.6\n",
      "BloodGroup: O+\n"
     ]
    }
   ],
   "source": [
    "person.show_info()"
   ]
  },
  {
   "cell_type": "code",
   "execution_count": 2,
   "metadata": {},
   "outputs": [],
   "source": [
    "// extends keyword.\n",
    "class Student extends  Person{\n",
    "\n",
    "    // static variable or method are associated with the class not class object.\n",
    "    // we don't need to make a class object to access them.\n",
    "    static SCHOOL = \"IISc School\";\n",
    "    static STUDENTS = [] // this variable (array) will store all the student create by the Student constructor.\n",
    "\n",
    "    constructor(name,age,height,bloodGroup,rollNo, school, std, mobileNumber){\n",
    "        super(name,age, height,bloodGroup)\n",
    "        this.rollNo = rollNo;\n",
    "        // this.school = school;\n",
    "        this.std = std;\n",
    "        this.mobileNumber = mobileNumber;\n",
    "        this.school = Student.SCHOOL  // this will take value form class property.\n",
    "        Student.STUDENTS.push(this);\n",
    "    }\n",
    "\n",
    "    // overriding the method.\n",
    "    show_info(){\n",
    "        // super.show_info();\n",
    "        console.log(\"Roll No: \", this.rollNo);\n",
    "        console.log(\"School: \", this.school);\n",
    "        console.log(\"Standard: \", this.std);\n",
    "        console.log(\"Mobile No: \", this.mobileNumber);\n",
    "    }\n",
    "\n",
    "    static showStudents(){\n",
    "        this.STUDENTS.forEach((student)=> student.show_info())\n",
    "    }\n",
    "}"
   ]
  },
  {
   "cell_type": "code",
   "execution_count": 4,
   "metadata": {},
   "outputs": [],
   "source": [
    "let st = new Student('pankaj', 20, 5.6, \"O+\",'007',\"James bond school\",'19th', '---765--007')"
   ]
  },
  {
   "cell_type": "code",
   "execution_count": 5,
   "metadata": {},
   "outputs": [
    {
     "data": {
      "text/plain": [
       "Student {\n",
       "  name: 'lokesh',\n",
       "  age: 19,\n",
       "  height: 6,\n",
       "  bloodGroup: 'AB+',\n",
       "  rollNo: '001',\n",
       "  school: 'IISc School',\n",
       "  std: '45th',\n",
       "  mobileNumber: '---765--001'\n",
       "}"
      ]
     },
     "execution_count": 5,
     "metadata": {},
     "output_type": "execute_result"
    }
   ],
   "source": [
    "new Student('lokesh', 19, 6, \"AB+\",'001',\"MI 6\",'45th', '---765--001')"
   ]
  },
  {
   "cell_type": "code",
   "execution_count": 6,
   "metadata": {},
   "outputs": [
    {
     "name": "stdout",
     "output_type": "stream",
     "text": [
      "Roll No:  007\n",
      "School:  IISc School\n",
      "Standard:  19th\n",
      "Mobile No:  ---765--007\n"
     ]
    }
   ],
   "source": [
    "st.show_info()"
   ]
  },
  {
   "cell_type": "code",
   "execution_count": 1,
   "metadata": {},
   "outputs": [],
   "source": [
    "class Employee{\n",
    "\n",
    "    #AccountNo = null; // declaring the private property.\n",
    "    #Amount = 0;\n",
    "    #pinCode = null;\n",
    "    constructor(name, salary,designation,mobileNo, Address, AccountNo){\n",
    "        this.name = name;\n",
    "        this.salary = salary;\n",
    "        this.designation = designation;\n",
    "        this.mobileNo = mobileNo;\n",
    "        this.Address = Address;\n",
    "        this.#AccountNo = AccountNo; // private property.\n",
    "        this.#Amount = 0;\n",
    "        this.#pinCode = null;\n",
    "    }\n",
    "\n",
    "    setPincode(pinCode){\n",
    "        // Accessing the private property inside the class.\n",
    "        this.#pinCode = pinCode;\n",
    "    }\n",
    "\n",
    "    addMoney(pincode, amount){\n",
    "        if(pincode == this.#pinCode){\n",
    "            this.#Amount = amount;\n",
    "        }\n",
    "        else{\n",
    "            console.error(\"Error: Pincode is wrong\")\n",
    "        }\n",
    "    }\n",
    "\n",
    "    showAmount(pincode){\n",
    "        if(pincode == this.#pinCode){\n",
    "            console.info(\"Amount: \", this.#Amount)\n",
    "        }\n",
    "    }\n",
    "\n",
    "}"
   ]
  },
  {
   "cell_type": "code",
   "execution_count": 2,
   "metadata": {},
   "outputs": [],
   "source": [
    "let emp = new Employee(\"lokesh\", 200000, \"Project Manager\", 789654123, \"Lapta Ganj\", \"1324569872345\")"
   ]
  },
  {
   "cell_type": "code",
   "execution_count": 3,
   "metadata": {},
   "outputs": [],
   "source": [
    "emp.setPincode(9192)"
   ]
  },
  {
   "cell_type": "code",
   "execution_count": 4,
   "metadata": {},
   "outputs": [],
   "source": [
    "emp.addMoney(9192, 200000)"
   ]
  },
  {
   "cell_type": "code",
   "execution_count": 5,
   "metadata": {},
   "outputs": [
    {
     "name": "stdout",
     "output_type": "stream",
     "text": [
      "Amount:  200000\n"
     ]
    }
   ],
   "source": [
    "emp.showAmount(9192)"
   ]
  },
  {
   "attachments": {},
   "cell_type": "markdown",
   "metadata": {},
   "source": [
    "```js\n",
    "keywords: class, extends, constructor, super, this, get, set \n",
    "```"
   ]
  },
  {
   "cell_type": "code",
   "execution_count": 2,
   "metadata": {},
   "outputs": [],
   "source": [
    "class Student{\n",
    "\n",
    "    constructor(name){\n",
    "        this.name = name;\n",
    "    }\n",
    "\n",
    "    get name(){\n",
    "        console.log(\"getting name..\")\n",
    "        return this._name;\n",
    "    }\n",
    "\n",
    "    set name(value){\n",
    "        console.log(\"setting name\");\n",
    "        this._name = value;\n",
    "    }\n",
    "}"
   ]
  },
  {
   "cell_type": "code",
   "execution_count": 3,
   "metadata": {},
   "outputs": [
    {
     "name": "stdout",
     "output_type": "stream",
     "text": [
      "setting name\n"
     ]
    }
   ],
   "source": [
    "let st1 = new Student(\"lokesh\")"
   ]
  },
  {
   "cell_type": "code",
   "execution_count": 4,
   "metadata": {},
   "outputs": [
    {
     "name": "stdout",
     "output_type": "stream",
     "text": [
      "getting name..\n"
     ]
    },
    {
     "data": {
      "text/plain": [
       "'lokesh'"
      ]
     },
     "execution_count": 4,
     "metadata": {},
     "output_type": "execute_result"
    }
   ],
   "source": [
    "// during accessing the property, get name() will be called.\n",
    "st1.name"
   ]
  },
  {
   "cell_type": "code",
   "execution_count": 5,
   "metadata": {},
   "outputs": [
    {
     "name": "stdout",
     "output_type": "stream",
     "text": [
      "setting name\n"
     ]
    },
    {
     "data": {
      "text/plain": [
       "'myname'"
      ]
     },
     "execution_count": 5,
     "metadata": {},
     "output_type": "execute_result"
    }
   ],
   "source": [
    "st1.name = 'myname'"
   ]
  },
  {
   "cell_type": "code",
   "execution_count": 10,
   "metadata": {},
   "outputs": [
    {
     "name": "stdout",
     "output_type": "stream",
     "text": [
      "getting name..\n"
     ]
    },
    {
     "data": {
      "text/plain": [
       "'myname'"
      ]
     },
     "execution_count": 10,
     "metadata": {},
     "output_type": "execute_result"
    }
   ],
   "source": [
    "st1.name"
   ]
  },
  {
   "cell_type": "code",
   "execution_count": null,
   "metadata": {},
   "outputs": [],
   "source": []
  }
 ],
 "metadata": {
  "kernelspec": {
   "display_name": "JavaScript (Node.js)",
   "language": "javascript",
   "name": "javascript"
  },
  "language_info": {
   "file_extension": ".js",
   "mimetype": "application/javascript",
   "name": "javascript",
   "version": "18.12.0"
  },
  "orig_nbformat": 4
 },
 "nbformat": 4,
 "nbformat_minor": 2
}
