{
 "cells": [
  {
   "cell_type": "markdown",
   "id": "9c4c952c-df08-42d7-94a4-b323a2308e56",
   "metadata": {},
   "source": [
    "## String \n",
    "\n",
    "**`String:`** It is a sequence of character in a consecutive order. it is written in python by using, single quote(''), double quote (\"\"), or tripple quote (\"\"\" \"\"\").\n",
    "\n",
    "For example: \"This is a string.\""
   ]
  },
  {
   "cell_type": "code",
   "execution_count": 1,
   "id": "2a4b5cb0-f8df-432b-a238-ccde3f9063a2",
   "metadata": {},
   "outputs": [],
   "source": [
    "## first we will make a simple string. litral string.\n",
    "\n",
    "string = \"Hello world, how are you...\""
   ]
  },
  {
   "cell_type": "code",
   "execution_count": 2,
   "id": "7a9a1c8a-c371-45f6-9b5c-42259a9be1d9",
   "metadata": {},
   "outputs": [
    {
     "data": {
      "text/plain": [
       "str"
      ]
     },
     "execution_count": 2,
     "metadata": {},
     "output_type": "execute_result"
    }
   ],
   "source": [
    "type(string)"
   ]
  },
  {
   "cell_type": "code",
   "execution_count": 4,
   "id": "febeac65-11b5-48dd-9ed9-dc21f79dd501",
   "metadata": {},
   "outputs": [
    {
     "name": "stdin",
     "output_type": "stream",
     "text": [
      "Enter Your Name:  1\n"
     ]
    },
    {
     "data": {
      "text/plain": [
       "'1'"
      ]
     },
     "execution_count": 4,
     "metadata": {},
     "output_type": "execute_result"
    }
   ],
   "source": [
    "input(\"Enter Your Name: \")"
   ]
  },
  {
   "cell_type": "code",
   "execution_count": 5,
   "id": "148a9b0c-e30c-4115-9231-8df39d33cb0e",
   "metadata": {},
   "outputs": [
    {
     "name": "stdin",
     "output_type": "stream",
     "text": [
      "Enter your Name: 1\n"
     ]
    }
   ],
   "source": [
    "input_var = input(\"Enter your Name:\") "
   ]
  },
  {
   "cell_type": "code",
   "execution_count": 6,
   "id": "e63fac48-418d-4650-85b5-2194da34fca7",
   "metadata": {},
   "outputs": [
    {
     "data": {
      "text/plain": [
       "'1'"
      ]
     },
     "execution_count": 6,
     "metadata": {},
     "output_type": "execute_result"
    }
   ],
   "source": [
    "input_var"
   ]
  },
  {
   "cell_type": "code",
   "execution_count": 7,
   "id": "81f4655a-8d26-4404-ab01-7767cc455183",
   "metadata": {},
   "outputs": [
    {
     "data": {
      "text/plain": [
       "str"
      ]
     },
     "execution_count": 7,
     "metadata": {},
     "output_type": "execute_result"
    }
   ],
   "source": [
    "type(input_var)"
   ]
  },
  {
   "cell_type": "code",
   "execution_count": 8,
   "id": "63157c1d-1499-4112-84ac-7223695d8a5c",
   "metadata": {},
   "outputs": [
    {
     "name": "stdout",
     "output_type": "stream",
     "text": [
      "Help on method raw_input in module ipykernel.kernelbase:\n",
      "\n",
      "raw_input(prompt='') method of ipykernel.ipkernel.IPythonKernel instance\n",
      "    Forward raw_input to frontends\n",
      "    \n",
      "    Raises\n",
      "    ------\n",
      "    StdinNotImplementedError if active frontend doesn't support stdin.\n",
      "\n"
     ]
    }
   ],
   "source": [
    "help(input)"
   ]
  },
  {
   "cell_type": "code",
   "execution_count": 10,
   "id": "3932fb3e-99a7-4853-a0c8-2aa08e998b05",
   "metadata": {},
   "outputs": [
    {
     "data": {
      "text/plain": [
       "1"
      ]
     },
     "execution_count": 10,
     "metadata": {},
     "output_type": "execute_result"
    }
   ],
   "source": [
    "int(\"1\")"
   ]
  },
  {
   "cell_type": "code",
   "execution_count": 11,
   "id": "fd3aeda0-e7da-4452-ac04-1a061151b216",
   "metadata": {
    "collapsed": true,
    "jupyter": {
     "outputs_hidden": true
    },
    "tags": []
   },
   "outputs": [
    {
     "name": "stdout",
     "output_type": "stream",
     "text": [
      "Help on class str in module builtins:\n",
      "\n",
      "class str(object)\n",
      " |  str(object='') -> str\n",
      " |  str(bytes_or_buffer[, encoding[, errors]]) -> str\n",
      " |  \n",
      " |  Create a new string object from the given object. If encoding or\n",
      " |  errors is specified, then the object must expose a data buffer\n",
      " |  that will be decoded using the given encoding and error handler.\n",
      " |  Otherwise, returns the result of object.__str__() (if defined)\n",
      " |  or repr(object).\n",
      " |  encoding defaults to sys.getdefaultencoding().\n",
      " |  errors defaults to 'strict'.\n",
      " |  \n",
      " |  Methods defined here:\n",
      " |  \n",
      " |  __add__(self, value, /)\n",
      " |      Return self+value.\n",
      " |  \n",
      " |  __contains__(self, key, /)\n",
      " |      Return key in self.\n",
      " |  \n",
      " |  __eq__(self, value, /)\n",
      " |      Return self==value.\n",
      " |  \n",
      " |  __format__(self, format_spec, /)\n",
      " |      Return a formatted version of the string as described by format_spec.\n",
      " |  \n",
      " |  __ge__(self, value, /)\n",
      " |      Return self>=value.\n",
      " |  \n",
      " |  __getattribute__(self, name, /)\n",
      " |      Return getattr(self, name).\n",
      " |  \n",
      " |  __getitem__(self, key, /)\n",
      " |      Return self[key].\n",
      " |  \n",
      " |  __getnewargs__(...)\n",
      " |  \n",
      " |  __gt__(self, value, /)\n",
      " |      Return self>value.\n",
      " |  \n",
      " |  __hash__(self, /)\n",
      " |      Return hash(self).\n",
      " |  \n",
      " |  __iter__(self, /)\n",
      " |      Implement iter(self).\n",
      " |  \n",
      " |  __le__(self, value, /)\n",
      " |      Return self<=value.\n",
      " |  \n",
      " |  __len__(self, /)\n",
      " |      Return len(self).\n",
      " |  \n",
      " |  __lt__(self, value, /)\n",
      " |      Return self<value.\n",
      " |  \n",
      " |  __mod__(self, value, /)\n",
      " |      Return self%value.\n",
      " |  \n",
      " |  __mul__(self, value, /)\n",
      " |      Return self*value.\n",
      " |  \n",
      " |  __ne__(self, value, /)\n",
      " |      Return self!=value.\n",
      " |  \n",
      " |  __repr__(self, /)\n",
      " |      Return repr(self).\n",
      " |  \n",
      " |  __rmod__(self, value, /)\n",
      " |      Return value%self.\n",
      " |  \n",
      " |  __rmul__(self, value, /)\n",
      " |      Return value*self.\n",
      " |  \n",
      " |  __sizeof__(self, /)\n",
      " |      Return the size of the string in memory, in bytes.\n",
      " |  \n",
      " |  __str__(self, /)\n",
      " |      Return str(self).\n",
      " |  \n",
      " |  capitalize(self, /)\n",
      " |      Return a capitalized version of the string.\n",
      " |      \n",
      " |      More specifically, make the first character have upper case and the rest lower\n",
      " |      case.\n",
      " |  \n",
      " |  casefold(self, /)\n",
      " |      Return a version of the string suitable for caseless comparisons.\n",
      " |  \n",
      " |  center(self, width, fillchar=' ', /)\n",
      " |      Return a centered string of length width.\n",
      " |      \n",
      " |      Padding is done using the specified fill character (default is a space).\n",
      " |  \n",
      " |  count(...)\n",
      " |      S.count(sub[, start[, end]]) -> int\n",
      " |      \n",
      " |      Return the number of non-overlapping occurrences of substring sub in\n",
      " |      string S[start:end].  Optional arguments start and end are\n",
      " |      interpreted as in slice notation.\n",
      " |  \n",
      " |  encode(self, /, encoding='utf-8', errors='strict')\n",
      " |      Encode the string using the codec registered for encoding.\n",
      " |      \n",
      " |      encoding\n",
      " |        The encoding in which to encode the string.\n",
      " |      errors\n",
      " |        The error handling scheme to use for encoding errors.\n",
      " |        The default is 'strict' meaning that encoding errors raise a\n",
      " |        UnicodeEncodeError.  Other possible values are 'ignore', 'replace' and\n",
      " |        'xmlcharrefreplace' as well as any other name registered with\n",
      " |        codecs.register_error that can handle UnicodeEncodeErrors.\n",
      " |  \n",
      " |  endswith(...)\n",
      " |      S.endswith(suffix[, start[, end]]) -> bool\n",
      " |      \n",
      " |      Return True if S ends with the specified suffix, False otherwise.\n",
      " |      With optional start, test S beginning at that position.\n",
      " |      With optional end, stop comparing S at that position.\n",
      " |      suffix can also be a tuple of strings to try.\n",
      " |  \n",
      " |  expandtabs(self, /, tabsize=8)\n",
      " |      Return a copy where all tab characters are expanded using spaces.\n",
      " |      \n",
      " |      If tabsize is not given, a tab size of 8 characters is assumed.\n",
      " |  \n",
      " |  find(...)\n",
      " |      S.find(sub[, start[, end]]) -> int\n",
      " |      \n",
      " |      Return the lowest index in S where substring sub is found,\n",
      " |      such that sub is contained within S[start:end].  Optional\n",
      " |      arguments start and end are interpreted as in slice notation.\n",
      " |      \n",
      " |      Return -1 on failure.\n",
      " |  \n",
      " |  format(...)\n",
      " |      S.format(*args, **kwargs) -> str\n",
      " |      \n",
      " |      Return a formatted version of S, using substitutions from args and kwargs.\n",
      " |      The substitutions are identified by braces ('{' and '}').\n",
      " |  \n",
      " |  format_map(...)\n",
      " |      S.format_map(mapping) -> str\n",
      " |      \n",
      " |      Return a formatted version of S, using substitutions from mapping.\n",
      " |      The substitutions are identified by braces ('{' and '}').\n",
      " |  \n",
      " |  index(...)\n",
      " |      S.index(sub[, start[, end]]) -> int\n",
      " |      \n",
      " |      Return the lowest index in S where substring sub is found,\n",
      " |      such that sub is contained within S[start:end].  Optional\n",
      " |      arguments start and end are interpreted as in slice notation.\n",
      " |      \n",
      " |      Raises ValueError when the substring is not found.\n",
      " |  \n",
      " |  isalnum(self, /)\n",
      " |      Return True if the string is an alpha-numeric string, False otherwise.\n",
      " |      \n",
      " |      A string is alpha-numeric if all characters in the string are alpha-numeric and\n",
      " |      there is at least one character in the string.\n",
      " |  \n",
      " |  isalpha(self, /)\n",
      " |      Return True if the string is an alphabetic string, False otherwise.\n",
      " |      \n",
      " |      A string is alphabetic if all characters in the string are alphabetic and there\n",
      " |      is at least one character in the string.\n",
      " |  \n",
      " |  isascii(self, /)\n",
      " |      Return True if all characters in the string are ASCII, False otherwise.\n",
      " |      \n",
      " |      ASCII characters have code points in the range U+0000-U+007F.\n",
      " |      Empty string is ASCII too.\n",
      " |  \n",
      " |  isdecimal(self, /)\n",
      " |      Return True if the string is a decimal string, False otherwise.\n",
      " |      \n",
      " |      A string is a decimal string if all characters in the string are decimal and\n",
      " |      there is at least one character in the string.\n",
      " |  \n",
      " |  isdigit(self, /)\n",
      " |      Return True if the string is a digit string, False otherwise.\n",
      " |      \n",
      " |      A string is a digit string if all characters in the string are digits and there\n",
      " |      is at least one character in the string.\n",
      " |  \n",
      " |  isidentifier(self, /)\n",
      " |      Return True if the string is a valid Python identifier, False otherwise.\n",
      " |      \n",
      " |      Call keyword.iskeyword(s) to test whether string s is a reserved identifier,\n",
      " |      such as \"def\" or \"class\".\n",
      " |  \n",
      " |  islower(self, /)\n",
      " |      Return True if the string is a lowercase string, False otherwise.\n",
      " |      \n",
      " |      A string is lowercase if all cased characters in the string are lowercase and\n",
      " |      there is at least one cased character in the string.\n",
      " |  \n",
      " |  isnumeric(self, /)\n",
      " |      Return True if the string is a numeric string, False otherwise.\n",
      " |      \n",
      " |      A string is numeric if all characters in the string are numeric and there is at\n",
      " |      least one character in the string.\n",
      " |  \n",
      " |  isprintable(self, /)\n",
      " |      Return True if the string is printable, False otherwise.\n",
      " |      \n",
      " |      A string is printable if all of its characters are considered printable in\n",
      " |      repr() or if it is empty.\n",
      " |  \n",
      " |  isspace(self, /)\n",
      " |      Return True if the string is a whitespace string, False otherwise.\n",
      " |      \n",
      " |      A string is whitespace if all characters in the string are whitespace and there\n",
      " |      is at least one character in the string.\n",
      " |  \n",
      " |  istitle(self, /)\n",
      " |      Return True if the string is a title-cased string, False otherwise.\n",
      " |      \n",
      " |      In a title-cased string, upper- and title-case characters may only\n",
      " |      follow uncased characters and lowercase characters only cased ones.\n",
      " |  \n",
      " |  isupper(self, /)\n",
      " |      Return True if the string is an uppercase string, False otherwise.\n",
      " |      \n",
      " |      A string is uppercase if all cased characters in the string are uppercase and\n",
      " |      there is at least one cased character in the string.\n",
      " |  \n",
      " |  join(self, iterable, /)\n",
      " |      Concatenate any number of strings.\n",
      " |      \n",
      " |      The string whose method is called is inserted in between each given string.\n",
      " |      The result is returned as a new string.\n",
      " |      \n",
      " |      Example: '.'.join(['ab', 'pq', 'rs']) -> 'ab.pq.rs'\n",
      " |  \n",
      " |  ljust(self, width, fillchar=' ', /)\n",
      " |      Return a left-justified string of length width.\n",
      " |      \n",
      " |      Padding is done using the specified fill character (default is a space).\n",
      " |  \n",
      " |  lower(self, /)\n",
      " |      Return a copy of the string converted to lowercase.\n",
      " |  \n",
      " |  lstrip(self, chars=None, /)\n",
      " |      Return a copy of the string with leading whitespace removed.\n",
      " |      \n",
      " |      If chars is given and not None, remove characters in chars instead.\n",
      " |  \n",
      " |  partition(self, sep, /)\n",
      " |      Partition the string into three parts using the given separator.\n",
      " |      \n",
      " |      This will search for the separator in the string.  If the separator is found,\n",
      " |      returns a 3-tuple containing the part before the separator, the separator\n",
      " |      itself, and the part after it.\n",
      " |      \n",
      " |      If the separator is not found, returns a 3-tuple containing the original string\n",
      " |      and two empty strings.\n",
      " |  \n",
      " |  removeprefix(self, prefix, /)\n",
      " |      Return a str with the given prefix string removed if present.\n",
      " |      \n",
      " |      If the string starts with the prefix string, return string[len(prefix):].\n",
      " |      Otherwise, return a copy of the original string.\n",
      " |  \n",
      " |  removesuffix(self, suffix, /)\n",
      " |      Return a str with the given suffix string removed if present.\n",
      " |      \n",
      " |      If the string ends with the suffix string and that suffix is not empty,\n",
      " |      return string[:-len(suffix)]. Otherwise, return a copy of the original\n",
      " |      string.\n",
      " |  \n",
      " |  replace(self, old, new, count=-1, /)\n",
      " |      Return a copy with all occurrences of substring old replaced by new.\n",
      " |      \n",
      " |        count\n",
      " |          Maximum number of occurrences to replace.\n",
      " |          -1 (the default value) means replace all occurrences.\n",
      " |      \n",
      " |      If the optional argument count is given, only the first count occurrences are\n",
      " |      replaced.\n",
      " |  \n",
      " |  rfind(...)\n",
      " |      S.rfind(sub[, start[, end]]) -> int\n",
      " |      \n",
      " |      Return the highest index in S where substring sub is found,\n",
      " |      such that sub is contained within S[start:end].  Optional\n",
      " |      arguments start and end are interpreted as in slice notation.\n",
      " |      \n",
      " |      Return -1 on failure.\n",
      " |  \n",
      " |  rindex(...)\n",
      " |      S.rindex(sub[, start[, end]]) -> int\n",
      " |      \n",
      " |      Return the highest index in S where substring sub is found,\n",
      " |      such that sub is contained within S[start:end].  Optional\n",
      " |      arguments start and end are interpreted as in slice notation.\n",
      " |      \n",
      " |      Raises ValueError when the substring is not found.\n",
      " |  \n",
      " |  rjust(self, width, fillchar=' ', /)\n",
      " |      Return a right-justified string of length width.\n",
      " |      \n",
      " |      Padding is done using the specified fill character (default is a space).\n",
      " |  \n",
      " |  rpartition(self, sep, /)\n",
      " |      Partition the string into three parts using the given separator.\n",
      " |      \n",
      " |      This will search for the separator in the string, starting at the end. If\n",
      " |      the separator is found, returns a 3-tuple containing the part before the\n",
      " |      separator, the separator itself, and the part after it.\n",
      " |      \n",
      " |      If the separator is not found, returns a 3-tuple containing two empty strings\n",
      " |      and the original string.\n",
      " |  \n",
      " |  rsplit(self, /, sep=None, maxsplit=-1)\n",
      " |      Return a list of the substrings in the string, using sep as the separator string.\n",
      " |      \n",
      " |        sep\n",
      " |          The separator used to split the string.\n",
      " |      \n",
      " |          When set to None (the default value), will split on any whitespace\n",
      " |          character (including \\\\n \\\\r \\\\t \\\\f and spaces) and will discard\n",
      " |          empty strings from the result.\n",
      " |        maxsplit\n",
      " |          Maximum number of splits (starting from the left).\n",
      " |          -1 (the default value) means no limit.\n",
      " |      \n",
      " |      Splitting starts at the end of the string and works to the front.\n",
      " |  \n",
      " |  rstrip(self, chars=None, /)\n",
      " |      Return a copy of the string with trailing whitespace removed.\n",
      " |      \n",
      " |      If chars is given and not None, remove characters in chars instead.\n",
      " |  \n",
      " |  split(self, /, sep=None, maxsplit=-1)\n",
      " |      Return a list of the substrings in the string, using sep as the separator string.\n",
      " |      \n",
      " |        sep\n",
      " |          The separator used to split the string.\n",
      " |      \n",
      " |          When set to None (the default value), will split on any whitespace\n",
      " |          character (including \\\\n \\\\r \\\\t \\\\f and spaces) and will discard\n",
      " |          empty strings from the result.\n",
      " |        maxsplit\n",
      " |          Maximum number of splits (starting from the left).\n",
      " |          -1 (the default value) means no limit.\n",
      " |      \n",
      " |      Note, str.split() is mainly useful for data that has been intentionally\n",
      " |      delimited.  With natural text that includes punctuation, consider using\n",
      " |      the regular expression module.\n",
      " |  \n",
      " |  splitlines(self, /, keepends=False)\n",
      " |      Return a list of the lines in the string, breaking at line boundaries.\n",
      " |      \n",
      " |      Line breaks are not included in the resulting list unless keepends is given and\n",
      " |      true.\n",
      " |  \n",
      " |  startswith(...)\n",
      " |      S.startswith(prefix[, start[, end]]) -> bool\n",
      " |      \n",
      " |      Return True if S starts with the specified prefix, False otherwise.\n",
      " |      With optional start, test S beginning at that position.\n",
      " |      With optional end, stop comparing S at that position.\n",
      " |      prefix can also be a tuple of strings to try.\n",
      " |  \n",
      " |  strip(self, chars=None, /)\n",
      " |      Return a copy of the string with leading and trailing whitespace removed.\n",
      " |      \n",
      " |      If chars is given and not None, remove characters in chars instead.\n",
      " |  \n",
      " |  swapcase(self, /)\n",
      " |      Convert uppercase characters to lowercase and lowercase characters to uppercase.\n",
      " |  \n",
      " |  title(self, /)\n",
      " |      Return a version of the string where each word is titlecased.\n",
      " |      \n",
      " |      More specifically, words start with uppercased characters and all remaining\n",
      " |      cased characters have lower case.\n",
      " |  \n",
      " |  translate(self, table, /)\n",
      " |      Replace each character in the string using the given translation table.\n",
      " |      \n",
      " |        table\n",
      " |          Translation table, which must be a mapping of Unicode ordinals to\n",
      " |          Unicode ordinals, strings, or None.\n",
      " |      \n",
      " |      The table must implement lookup/indexing via __getitem__, for instance a\n",
      " |      dictionary or list.  If this operation raises LookupError, the character is\n",
      " |      left untouched.  Characters mapped to None are deleted.\n",
      " |  \n",
      " |  upper(self, /)\n",
      " |      Return a copy of the string converted to uppercase.\n",
      " |  \n",
      " |  zfill(self, width, /)\n",
      " |      Pad a numeric string with zeros on the left, to fill a field of the given width.\n",
      " |      \n",
      " |      The string is never truncated.\n",
      " |  \n",
      " |  ----------------------------------------------------------------------\n",
      " |  Static methods defined here:\n",
      " |  \n",
      " |  __new__(*args, **kwargs) from builtins.type\n",
      " |      Create and return a new object.  See help(type) for accurate signature.\n",
      " |  \n",
      " |  maketrans(...)\n",
      " |      Return a translation table usable for str.translate().\n",
      " |      \n",
      " |      If there is only one argument, it must be a dictionary mapping Unicode\n",
      " |      ordinals (integers) or characters to Unicode ordinals, strings or None.\n",
      " |      Character keys will be then converted to ordinals.\n",
      " |      If there are two arguments, they must be strings of equal length, and\n",
      " |      in the resulting dictionary, each character in x will be mapped to the\n",
      " |      character at the same position in y. If there is a third argument, it\n",
      " |      must be a string, whose characters will be mapped to None in the result.\n",
      "\n"
     ]
    }
   ],
   "source": [
    "help(str)"
   ]
  },
  {
   "cell_type": "code",
   "execution_count": 12,
   "id": "70b5ee79-2a03-4d68-be4c-ef6b7cf8cb51",
   "metadata": {},
   "outputs": [
    {
     "data": {
      "text/plain": [
       "'1'"
      ]
     },
     "execution_count": 12,
     "metadata": {},
     "output_type": "execute_result"
    }
   ],
   "source": [
    "input_var"
   ]
  },
  {
   "cell_type": "code",
   "execution_count": 13,
   "id": "6b94512a-0d17-4eaa-a7fd-bea1c2431776",
   "metadata": {},
   "outputs": [
    {
     "data": {
      "text/plain": [
       "True"
      ]
     },
     "execution_count": 13,
     "metadata": {},
     "output_type": "execute_result"
    }
   ],
   "source": [
    "input_var.isdigit()"
   ]
  },
  {
   "cell_type": "code",
   "execution_count": 14,
   "id": "41f9db5e-69e5-4913-9ede-52697dee8adf",
   "metadata": {},
   "outputs": [
    {
     "data": {
      "text/plain": [
       "False"
      ]
     },
     "execution_count": 14,
     "metadata": {},
     "output_type": "execute_result"
    }
   ],
   "source": [
    "\"a\".isdigit()"
   ]
  },
  {
   "cell_type": "code",
   "execution_count": 16,
   "id": "c4ba848a-b722-45a6-9458-448a90563ef3",
   "metadata": {},
   "outputs": [
    {
     "data": {
      "text/plain": [
       "True"
      ]
     },
     "execution_count": 16,
     "metadata": {},
     "output_type": "execute_result"
    }
   ],
   "source": [
    "\"a2one\".isalnum()"
   ]
  },
  {
   "cell_type": "code",
   "execution_count": 17,
   "id": "1ecf8e35-c33f-4b4c-840d-2df97df61ddc",
   "metadata": {},
   "outputs": [
    {
     "data": {
      "text/plain": [
       "False"
      ]
     },
     "execution_count": 17,
     "metadata": {},
     "output_type": "execute_result"
    }
   ],
   "source": [
    "\"@\".isalnum()"
   ]
  },
  {
   "cell_type": "code",
   "execution_count": 18,
   "id": "b8b19910-6f29-472e-a193-edd6d2e78de1",
   "metadata": {},
   "outputs": [
    {
     "name": "stdin",
     "output_type": "stream",
     "text": [
      "Enter input:  1.2\n"
     ]
    },
    {
     "data": {
      "text/plain": [
       "'1.2'"
      ]
     },
     "execution_count": 18,
     "metadata": {},
     "output_type": "execute_result"
    }
   ],
   "source": [
    "input(\"Enter input: \")"
   ]
  },
  {
   "cell_type": "code",
   "execution_count": 19,
   "id": "512899d3-cd12-4e73-936b-777989e5d050",
   "metadata": {},
   "outputs": [],
   "source": [
    "Name = \"Manish\""
   ]
  },
  {
   "cell_type": "code",
   "execution_count": 20,
   "id": "8a2267fc-ecdc-4420-b901-3c8e7820ecd7",
   "metadata": {},
   "outputs": [],
   "source": [
    "Age = 18"
   ]
  },
  {
   "cell_type": "code",
   "execution_count": 21,
   "id": "17e1549b-50e0-4491-a4fa-8ef7513d6c45",
   "metadata": {},
   "outputs": [],
   "source": [
    "Height = 5.4"
   ]
  },
  {
   "cell_type": "code",
   "execution_count": 34,
   "id": "bb643e68-16b5-44b9-8e95-18ff4e108b77",
   "metadata": {},
   "outputs": [
    {
     "name": "stdin",
     "output_type": "stream",
     "text": [
      "Enter Your Name:  jigaySA\n"
     ]
    }
   ],
   "source": [
    "input_var = input(\"Enter Your Name: \")"
   ]
  },
  {
   "cell_type": "code",
   "execution_count": 35,
   "id": "deca9d0b-227e-458c-be72-f43a255b9941",
   "metadata": {},
   "outputs": [
    {
     "data": {
      "text/plain": [
       "'JIGAYSA'"
      ]
     },
     "execution_count": 35,
     "metadata": {},
     "output_type": "execute_result"
    }
   ],
   "source": [
    "input_var.upper()"
   ]
  },
  {
   "cell_type": "code",
   "execution_count": 36,
   "id": "410034ef-578a-46e5-913e-74cf1ea7173a",
   "metadata": {},
   "outputs": [
    {
     "data": {
      "text/plain": [
       "'jigaysa'"
      ]
     },
     "execution_count": 36,
     "metadata": {},
     "output_type": "execute_result"
    }
   ],
   "source": [
    "input_var.casefold()"
   ]
  },
  {
   "cell_type": "markdown",
   "id": "c84601f6-ed94-486f-ba51-59653e96c2b6",
   "metadata": {},
   "source": [
    "**center**"
   ]
  },
  {
   "cell_type": "code",
   "execution_count": 37,
   "id": "9169d619-ad2d-46c8-9eed-ab1a5d46df8e",
   "metadata": {},
   "outputs": [
    {
     "name": "stdout",
     "output_type": "stream",
     "text": [
      "Help on built-in function center:\n",
      "\n",
      "center(width, fillchar=' ', /) method of builtins.str instance\n",
      "    Return a centered string of length width.\n",
      "    \n",
      "    Padding is done using the specified fill character (default is a space).\n",
      "\n"
     ]
    }
   ],
   "source": [
    "help(input_var.center)"
   ]
  },
  {
   "cell_type": "code",
   "execution_count": 53,
   "id": "4b70e08a-f81e-4c18-bfbb-02ff6aa3ab20",
   "metadata": {
    "tags": []
   },
   "outputs": [],
   "source": [
    "dashed_var =  input_var.center(20, '*')"
   ]
  },
  {
   "cell_type": "code",
   "execution_count": 54,
   "id": "d12f0e64-d739-4a33-8b4f-7e7a761f8c96",
   "metadata": {},
   "outputs": [
    {
     "data": {
      "text/plain": [
       "'******jigaySA*******'"
      ]
     },
     "execution_count": 54,
     "metadata": {},
     "output_type": "execute_result"
    }
   ],
   "source": [
    "dashed_var"
   ]
  },
  {
   "cell_type": "code",
   "execution_count": 52,
   "id": "4a0c3475-24d2-4912-8293-6bd0bf84991d",
   "metadata": {},
   "outputs": [
    {
     "data": {
      "text/plain": [
       "20"
      ]
     },
     "execution_count": 52,
     "metadata": {},
     "output_type": "execute_result"
    }
   ],
   "source": [
    "len(dashed_var)"
   ]
  },
  {
   "cell_type": "markdown",
   "id": "d99e0632-c5bc-455c-960a-b909b268b7a9",
   "metadata": {},
   "source": [
    "**count**"
   ]
  },
  {
   "cell_type": "code",
   "execution_count": 38,
   "id": "2ce202f4-7bfd-436a-baa4-82d2db7091fa",
   "metadata": {},
   "outputs": [
    {
     "data": {
      "text/plain": [
       "'jigaySA'"
      ]
     },
     "execution_count": 38,
     "metadata": {},
     "output_type": "execute_result"
    }
   ],
   "source": [
    "input_var"
   ]
  },
  {
   "cell_type": "code",
   "execution_count": 40,
   "id": "c29860ad-e64d-4c17-bbad-402ad0572690",
   "metadata": {},
   "outputs": [
    {
     "data": {
      "text/plain": [
       "7"
      ]
     },
     "execution_count": 40,
     "metadata": {},
     "output_type": "execute_result"
    }
   ],
   "source": [
    "# conting the input_var\n",
    "len(input_var)"
   ]
  },
  {
   "cell_type": "code",
   "execution_count": 41,
   "id": "d9118954-5ee9-4d03-9495-717b4ebaef72",
   "metadata": {},
   "outputs": [],
   "source": [
    "Test = \"Hey man, how are you man, are you good or bad.\""
   ]
  },
  {
   "cell_type": "code",
   "execution_count": 44,
   "id": "e53518c0-c95b-47e0-bd3b-a264767af406",
   "metadata": {},
   "outputs": [
    {
     "data": {
      "text/plain": [
       "1"
      ]
     },
     "execution_count": 44,
     "metadata": {},
     "output_type": "execute_result"
    }
   ],
   "source": [
    "\n",
    "Test.count(\"good\")"
   ]
  },
  {
   "cell_type": "code",
   "execution_count": 55,
   "id": "84b7f307-533c-4679-9bb7-0157b846d043",
   "metadata": {},
   "outputs": [],
   "source": [
    "gmail = \"HelloMyPython@gamil.com\""
   ]
  },
  {
   "cell_type": "code",
   "execution_count": 59,
   "id": "e066d6d7-5799-444d-babb-2ef81aaa54b1",
   "metadata": {},
   "outputs": [
    {
     "data": {
      "text/plain": [
       "True"
      ]
     },
     "execution_count": 59,
     "metadata": {},
     "output_type": "execute_result"
    }
   ],
   "source": [
    "gmail.endswith(\"@gamil.com\")"
   ]
  },
  {
   "cell_type": "code",
   "execution_count": 60,
   "id": "453b0ecc-5a5c-4257-a891-878e46174c87",
   "metadata": {},
   "outputs": [],
   "source": [
    "name = \"anjli gupta\""
   ]
  },
  {
   "cell_type": "code",
   "execution_count": 63,
   "id": "ed53ab52-476c-4f5d-854b-8f2d61182b0b",
   "metadata": {},
   "outputs": [
    {
     "data": {
      "text/plain": [
       "True"
      ]
     },
     "execution_count": 63,
     "metadata": {},
     "output_type": "execute_result"
    }
   ],
   "source": [
    "name.startswith(\"anjl\")"
   ]
  },
  {
   "cell_type": "markdown",
   "id": "e4c9252f-3f6d-4d06-83c4-135bfcfd4935",
   "metadata": {},
   "source": [
    "**find**"
   ]
  },
  {
   "cell_type": "code",
   "execution_count": 1,
   "id": "70a4ed67-9323-4285-870a-25a5bb34de34",
   "metadata": {},
   "outputs": [
    {
     "name": "stdout",
     "output_type": "stream",
     "text": [
      "Help on method_descriptor:\n",
      "\n",
      "find(...)\n",
      "    S.find(sub[, start[, end]]) -> int\n",
      "    \n",
      "    Return the lowest index in S where substring sub is found,\n",
      "    such that sub is contained within S[start:end].  Optional\n",
      "    arguments start and end are interpreted as in slice notation.\n",
      "    \n",
      "    Return -1 on failure.\n",
      "\n"
     ]
    }
   ],
   "source": [
    "help(str.find)"
   ]
  },
  {
   "cell_type": "code",
   "execution_count": 2,
   "id": "0f866dc9-dcc8-437a-bf7e-5545e9a03143",
   "metadata": {},
   "outputs": [],
   "source": [
    "Test = \"Hey man, how are you man, are you good or bad.\""
   ]
  },
  {
   "cell_type": "code",
   "execution_count": 3,
   "id": "ead8e47b-85bc-485c-b768-1adcf13220c2",
   "metadata": {},
   "outputs": [
    {
     "data": {
      "text/plain": [
       "34"
      ]
     },
     "execution_count": 3,
     "metadata": {},
     "output_type": "execute_result"
    }
   ],
   "source": [
    "Test.find(\"good\")"
   ]
  },
  {
   "cell_type": "code",
   "execution_count": 4,
   "id": "5fa5a73c-1b0c-462e-b7b5-06fdeaceddd5",
   "metadata": {},
   "outputs": [
    {
     "data": {
      "text/plain": [
       "'g'"
      ]
     },
     "execution_count": 4,
     "metadata": {},
     "output_type": "execute_result"
    }
   ],
   "source": [
    "Test[34]"
   ]
  },
  {
   "cell_type": "code",
   "execution_count": 5,
   "id": "621aae38-6221-4bdb-91c5-0edc791bf39b",
   "metadata": {},
   "outputs": [
    {
     "data": {
      "text/plain": [
       "-1"
      ]
     },
     "execution_count": 5,
     "metadata": {},
     "output_type": "execute_result"
    }
   ],
   "source": [
    "Test.find(\"Hello\")"
   ]
  },
  {
   "cell_type": "markdown",
   "id": "56a5a70b-0821-44f8-98de-019d9c434897",
   "metadata": {},
   "source": [
    "**index**"
   ]
  },
  {
   "cell_type": "code",
   "execution_count": 6,
   "id": "9d6f1df1-e8a9-4fa0-94ac-168168fb7e94",
   "metadata": {},
   "outputs": [
    {
     "name": "stdout",
     "output_type": "stream",
     "text": [
      "Help on method_descriptor:\n",
      "\n",
      "index(...)\n",
      "    S.index(sub[, start[, end]]) -> int\n",
      "    \n",
      "    Return the lowest index in S where substring sub is found,\n",
      "    such that sub is contained within S[start:end].  Optional\n",
      "    arguments start and end are interpreted as in slice notation.\n",
      "    \n",
      "    Raises ValueError when the substring is not found.\n",
      "\n"
     ]
    }
   ],
   "source": [
    "help(str.index)"
   ]
  },
  {
   "cell_type": "code",
   "execution_count": 8,
   "id": "414d10c2-d05a-48e8-90ea-ecfbf55d8dc6",
   "metadata": {},
   "outputs": [
    {
     "data": {
      "text/plain": [
       "34"
      ]
     },
     "execution_count": 8,
     "metadata": {},
     "output_type": "execute_result"
    }
   ],
   "source": [
    "# if value exist\n",
    "Test.index(\"good\")"
   ]
  },
  {
   "cell_type": "code",
   "execution_count": 9,
   "id": "76c9ab56-c3c9-48e1-beef-aeb407bafa66",
   "metadata": {},
   "outputs": [
    {
     "ename": "ValueError",
     "evalue": "substring not found",
     "output_type": "error",
     "traceback": [
      "\u001b[1;31m---------------------------------------------------------------------------\u001b[0m",
      "\u001b[1;31mValueError\u001b[0m                                Traceback (most recent call last)",
      "Cell \u001b[1;32mIn [9], line 2\u001b[0m\n\u001b[0;32m      1\u001b[0m \u001b[38;5;66;03m# if value does not exis then raise error.\u001b[39;00m\n\u001b[1;32m----> 2\u001b[0m \u001b[43mTest\u001b[49m\u001b[38;5;241;43m.\u001b[39;49m\u001b[43mindex\u001b[49m\u001b[43m(\u001b[49m\u001b[38;5;124;43m\"\u001b[39;49m\u001b[38;5;124;43mHello\u001b[39;49m\u001b[38;5;124;43m\"\u001b[39;49m\u001b[43m)\u001b[49m\n",
      "\u001b[1;31mValueError\u001b[0m: substring not found"
     ]
    }
   ],
   "source": [
    "# if value does not exis then raise error.\n",
    "Test.index(\"Hello\")"
   ]
  },
  {
   "cell_type": "markdown",
   "id": "3851492a-71ed-4df5-abd4-1d0e7a067411",
   "metadata": {},
   "source": [
    "**isspace**"
   ]
  },
  {
   "cell_type": "code",
   "execution_count": 32,
   "id": "c2bce197-cb53-4848-a646-225f4bf94e07",
   "metadata": {},
   "outputs": [
    {
     "name": "stdout",
     "output_type": "stream",
     "text": [
      "Help on method_descriptor:\n",
      "\n",
      "isspace(self, /)\n",
      "    Return True if the string is a whitespace string, False otherwise.\n",
      "    \n",
      "    A string is whitespace if all characters in the string are whitespace and there\n",
      "    is at least one character in the string.\n",
      "\n"
     ]
    }
   ],
   "source": [
    "help(str.isspace)"
   ]
  },
  {
   "cell_type": "code",
   "execution_count": 33,
   "id": "752fb392-4b89-42ef-afe0-7f1998c047aa",
   "metadata": {},
   "outputs": [
    {
     "data": {
      "text/plain": [
       "False"
      ]
     },
     "execution_count": 33,
     "metadata": {},
     "output_type": "execute_result"
    }
   ],
   "source": [
    "\"\".isspace()"
   ]
  },
  {
   "cell_type": "code",
   "execution_count": 34,
   "id": "3b82a6a6-a7ba-44a9-ad97-44376eb7b408",
   "metadata": {},
   "outputs": [
    {
     "data": {
      "text/plain": [
       "True"
      ]
     },
     "execution_count": 34,
     "metadata": {},
     "output_type": "execute_result"
    }
   ],
   "source": [
    "\"  \".isspace()"
   ]
  },
  {
   "cell_type": "code",
   "execution_count": 35,
   "id": "a67d6732-62a4-4a1d-a285-bf2d62c418b0",
   "metadata": {},
   "outputs": [],
   "source": [
    "string1 = \"Hello World My Name is Jigaysa\""
   ]
  },
  {
   "cell_type": "code",
   "execution_count": 38,
   "id": "25acbde4-34a2-4317-9cb1-e81d395eef8d",
   "metadata": {},
   "outputs": [
    {
     "data": {
      "text/plain": [
       "'Hello_World_My_Name_is_Jigaysa'"
      ]
     },
     "execution_count": 38,
     "metadata": {},
     "output_type": "execute_result"
    }
   ],
   "source": [
    "str2 = ''\n",
    "for char in string1:\n",
    "    if char.isspace():\n",
    "        str2 += \"_\"\n",
    "    else:\n",
    "        str2 += char\n",
    "        \n",
    "str2"
   ]
  },
  {
   "cell_type": "code",
   "execution_count": 37,
   "id": "5af48cd8-f501-40e6-a5c1-7cead6f50848",
   "metadata": {},
   "outputs": [
    {
     "data": {
      "text/plain": [
       "'Hello World My Name is Jigaysa'"
      ]
     },
     "execution_count": 37,
     "metadata": {},
     "output_type": "execute_result"
    }
   ],
   "source": [
    "string1"
   ]
  },
  {
   "cell_type": "markdown",
   "id": "140fde8a-47e3-4d01-b808-de9dd4213254",
   "metadata": {},
   "source": [
    "**istitle**"
   ]
  },
  {
   "cell_type": "code",
   "execution_count": 45,
   "id": "3ba933a4-c06e-4771-8b37-b9d7121bbd4d",
   "metadata": {},
   "outputs": [
    {
     "name": "stdout",
     "output_type": "stream",
     "text": [
      "Help on method_descriptor:\n",
      "\n",
      "istitle(self, /)\n",
      "    Return True if the string is a title-cased string, False otherwise.\n",
      "    \n",
      "    In a title-cased string, upper- and title-case characters may only\n",
      "    follow uncased characters and lowercase characters only cased ones.\n",
      "\n"
     ]
    }
   ],
   "source": [
    "help(str.istitle)"
   ]
  },
  {
   "cell_type": "code",
   "execution_count": 44,
   "id": "bf21322c-bb86-425f-b191-f627f1cadb04",
   "metadata": {},
   "outputs": [
    {
     "data": {
      "text/plain": [
       "False"
      ]
     },
     "execution_count": 44,
     "metadata": {},
     "output_type": "execute_result"
    }
   ],
   "source": [
    "\"Hello World How Are You\".istitle()"
   ]
  },
  {
   "cell_type": "markdown",
   "id": "073b3477-7cfa-4a53-ba2d-d4e0ce122e29",
   "metadata": {},
   "source": [
    "**strip**"
   ]
  },
  {
   "cell_type": "code",
   "execution_count": 46,
   "id": "218b08bb-6c91-40a1-8b74-cc77ce575a2a",
   "metadata": {},
   "outputs": [
    {
     "name": "stdout",
     "output_type": "stream",
     "text": [
      "Help on method_descriptor:\n",
      "\n",
      "strip(self, chars=None, /)\n",
      "    Return a copy of the string with leading and trailing whitespace removed.\n",
      "    \n",
      "    If chars is given and not None, remove characters in chars instead.\n",
      "\n"
     ]
    }
   ],
   "source": [
    "help(str.strip)"
   ]
  },
  {
   "cell_type": "code",
   "execution_count": 51,
   "id": "0f60eb27-eb01-4f25-bd78-1b307cb58ac7",
   "metadata": {},
   "outputs": [],
   "source": [
    "string1 = \"    Hello Wrold     \""
   ]
  },
  {
   "cell_type": "code",
   "execution_count": 52,
   "id": "6a404256-a850-4e56-af9d-38647577f4eb",
   "metadata": {},
   "outputs": [
    {
     "name": "stdout",
     "output_type": "stream",
     "text": [
      "    Hello Wrold      hi\n"
     ]
    }
   ],
   "source": [
    "print(string1, \"hi\")"
   ]
  },
  {
   "cell_type": "code",
   "execution_count": 53,
   "id": "66d24b60-fdaf-428b-b6f3-33a43afc7dd3",
   "metadata": {},
   "outputs": [
    {
     "data": {
      "text/plain": [
       "'Hello Wrold'"
      ]
     },
     "execution_count": 53,
     "metadata": {},
     "output_type": "execute_result"
    }
   ],
   "source": [
    "string1.strip()"
   ]
  },
  {
   "cell_type": "code",
   "execution_count": 54,
   "id": "023302e9-f444-4c97-9fb4-6ee41581bb55",
   "metadata": {},
   "outputs": [],
   "source": [
    "string1 = \"    Hello Wrold     hi\""
   ]
  },
  {
   "cell_type": "code",
   "execution_count": 55,
   "id": "f77d7d81-3056-46e2-92aa-10106893a333",
   "metadata": {},
   "outputs": [
    {
     "data": {
      "text/plain": [
       "'Hello Wrold     hi'"
      ]
     },
     "execution_count": 55,
     "metadata": {},
     "output_type": "execute_result"
    }
   ],
   "source": [
    "string1.strip()"
   ]
  },
  {
   "cell_type": "code",
   "execution_count": 56,
   "id": "462e17a9-c209-4faf-85f0-2fcb4863caab",
   "metadata": {},
   "outputs": [],
   "source": [
    "# Note it will only remove the leading edge charcters"
   ]
  },
  {
   "cell_type": "code",
   "execution_count": 57,
   "id": "91987daa-8b59-44c0-813c-b0f3ac1c48ff",
   "metadata": {},
   "outputs": [],
   "source": [
    "string1 = \"-------Hello World---- Hi ------\""
   ]
  },
  {
   "cell_type": "code",
   "execution_count": 58,
   "id": "78f0bcdb-fb6e-4ef1-a24c-01db17efb137",
   "metadata": {},
   "outputs": [
    {
     "data": {
      "text/plain": [
       "'-------Hello World---- Hi ------'"
      ]
     },
     "execution_count": 58,
     "metadata": {},
     "output_type": "execute_result"
    }
   ],
   "source": [
    "string1.strip()"
   ]
  },
  {
   "cell_type": "code",
   "execution_count": 59,
   "id": "465d5c17-40de-4f36-adc0-2dd894bc11e7",
   "metadata": {},
   "outputs": [
    {
     "data": {
      "text/plain": [
       "'Hello World---- Hi '"
      ]
     },
     "execution_count": 59,
     "metadata": {},
     "output_type": "execute_result"
    }
   ],
   "source": [
    "# if we want to remove the dash (\"-\") then we need to pass it into the function\n",
    "string1.strip(\"-\")"
   ]
  },
  {
   "cell_type": "code",
   "execution_count": 60,
   "id": "f8582e28-353f-49e3-b372-484a0f744b7f",
   "metadata": {},
   "outputs": [
    {
     "data": {
      "text/plain": [
       "'Hello World---- Hi ------'"
      ]
     },
     "execution_count": 60,
     "metadata": {},
     "output_type": "execute_result"
    }
   ],
   "source": [
    "string1.lstrip(\"-\")"
   ]
  },
  {
   "cell_type": "code",
   "execution_count": 61,
   "id": "eabc022b-4e82-4ae9-aada-8e256e335fbc",
   "metadata": {},
   "outputs": [
    {
     "data": {
      "text/plain": [
       "'-------Hello World---- Hi '"
      ]
     },
     "execution_count": 61,
     "metadata": {},
     "output_type": "execute_result"
    }
   ],
   "source": [
    "string1.rstrip(\"-\")"
   ]
  },
  {
   "cell_type": "markdown",
   "id": "a11b431f-6e75-4cdd-857f-0807d253ea25",
   "metadata": {},
   "source": [
    "**ljust**"
   ]
  },
  {
   "cell_type": "code",
   "execution_count": 62,
   "id": "19e2ecfe-f954-4749-a8cd-1f69543c09a2",
   "metadata": {},
   "outputs": [
    {
     "name": "stdout",
     "output_type": "stream",
     "text": [
      "Help on method_descriptor:\n",
      "\n",
      "ljust(self, width, fillchar=' ', /)\n",
      "    Return a left-justified string of length width.\n",
      "    \n",
      "    Padding is done using the specified fill character (default is a space).\n",
      "\n"
     ]
    }
   ],
   "source": [
    "help(str.ljust)"
   ]
  },
  {
   "cell_type": "code",
   "execution_count": 63,
   "id": "8c7e58fd-da3e-40ab-8db7-1de70072e288",
   "metadata": {},
   "outputs": [],
   "source": [
    "# if we want to set some space or char at the right side \n",
    "string1 =  \"Jigyasa\""
   ]
  },
  {
   "cell_type": "code",
   "execution_count": 64,
   "id": "73e58c83-08ca-4666-b319-ac5186db034d",
   "metadata": {},
   "outputs": [
    {
     "data": {
      "text/plain": [
       "'Jigyasa             '"
      ]
     },
     "execution_count": 64,
     "metadata": {},
     "output_type": "execute_result"
    }
   ],
   "source": [
    "string1.ljust(20)"
   ]
  },
  {
   "cell_type": "code",
   "execution_count": 65,
   "id": "0eec291c-657c-4cdb-851e-828e8e42aeb3",
   "metadata": {},
   "outputs": [
    {
     "data": {
      "text/plain": [
       "'             Jigyasa'"
      ]
     },
     "execution_count": 65,
     "metadata": {},
     "output_type": "execute_result"
    }
   ],
   "source": [
    "# if we want to set some space or char at the left side\n",
    "string1.rjust(20)"
   ]
  },
  {
   "cell_type": "code",
   "execution_count": 66,
   "id": "f76d4062-d74e-402b-9379-193d1f99b09f",
   "metadata": {},
   "outputs": [
    {
     "data": {
      "text/plain": [
       "'Jigyasa-------------'"
      ]
     },
     "execution_count": 66,
     "metadata": {},
     "output_type": "execute_result"
    }
   ],
   "source": [
    "string1.ljust(20, \"-\")"
   ]
  },
  {
   "cell_type": "code",
   "execution_count": 67,
   "id": "bb31132e-e0c8-4eda-9bd9-3dcd55299824",
   "metadata": {},
   "outputs": [
    {
     "data": {
      "text/plain": [
       "'-------------Jigyasa'"
      ]
     },
     "execution_count": 67,
     "metadata": {},
     "output_type": "execute_result"
    }
   ],
   "source": [
    "string1.rjust(20, \"-\")"
   ]
  },
  {
   "cell_type": "markdown",
   "id": "176e23dd-73db-4d57-9803-8212ea65f933",
   "metadata": {},
   "source": [
    "**replace**"
   ]
  },
  {
   "cell_type": "code",
   "execution_count": 68,
   "id": "6daf7e52-42bb-49bb-b25a-274a816e17ef",
   "metadata": {},
   "outputs": [
    {
     "name": "stdout",
     "output_type": "stream",
     "text": [
      "Help on method_descriptor:\n",
      "\n",
      "replace(self, old, new, count=-1, /)\n",
      "    Return a copy with all occurrences of substring old replaced by new.\n",
      "    \n",
      "      count\n",
      "        Maximum number of occurrences to replace.\n",
      "        -1 (the default value) means replace all occurrences.\n",
      "    \n",
      "    If the optional argument count is given, only the first count occurrences are\n",
      "    replaced.\n",
      "\n"
     ]
    }
   ],
   "source": [
    "help(str.replace)"
   ]
  },
  {
   "cell_type": "code",
   "execution_count": 69,
   "id": "9ee4e494-bb6d-4c6f-bb9f-9f0665c3e83b",
   "metadata": {},
   "outputs": [],
   "source": [
    "string1 = \"Hello World My Name is Jigaysa\""
   ]
  },
  {
   "cell_type": "code",
   "execution_count": 70,
   "id": "25a2da31-2c57-4a4d-841d-bbd5c0fd2f3c",
   "metadata": {},
   "outputs": [
    {
     "data": {
      "text/plain": [
       "'Hello_World_My_Name_is_Jigaysa'"
      ]
     },
     "execution_count": 70,
     "metadata": {},
     "output_type": "execute_result"
    }
   ],
   "source": [
    "string1.replace(\" \", \"_\")"
   ]
  },
  {
   "cell_type": "markdown",
   "id": "98397bfa-7a7a-48e3-8964-ccb2c4e207a5",
   "metadata": {},
   "source": [
    "**removeprefix**"
   ]
  },
  {
   "cell_type": "code",
   "execution_count": 71,
   "id": "4594622b-6ebc-4e56-8221-ba70d8074dd9",
   "metadata": {},
   "outputs": [
    {
     "name": "stdout",
     "output_type": "stream",
     "text": [
      "Help on method_descriptor:\n",
      "\n",
      "removeprefix(self, prefix, /)\n",
      "    Return a str with the given prefix string removed if present.\n",
      "    \n",
      "    If the string starts with the prefix string, return string[len(prefix):].\n",
      "    Otherwise, return a copy of the original string.\n",
      "\n"
     ]
    }
   ],
   "source": [
    "help(str.removeprefix)"
   ]
  },
  {
   "cell_type": "code",
   "execution_count": 72,
   "id": "0d696c51-cfe4-4158-bda6-81af89080dfa",
   "metadata": {},
   "outputs": [],
   "source": [
    "number = \"+918974563210\""
   ]
  },
  {
   "cell_type": "code",
   "execution_count": 73,
   "id": "eb66a7ca-994c-4ff3-bfdf-84066932df5b",
   "metadata": {},
   "outputs": [
    {
     "data": {
      "text/plain": [
       "'8974563210'"
      ]
     },
     "execution_count": 73,
     "metadata": {},
     "output_type": "execute_result"
    }
   ],
   "source": [
    "number.removeprefix(\"+91\")"
   ]
  },
  {
   "cell_type": "markdown",
   "id": "6140310b-1c09-4ba3-a51e-0039c40e6046",
   "metadata": {},
   "source": [
    "**removesuffix**"
   ]
  },
  {
   "cell_type": "code",
   "execution_count": 74,
   "id": "aff17847-49e4-42d3-9332-8396d1a41f82",
   "metadata": {},
   "outputs": [
    {
     "name": "stdout",
     "output_type": "stream",
     "text": [
      "Help on method_descriptor:\n",
      "\n",
      "removesuffix(self, suffix, /)\n",
      "    Return a str with the given suffix string removed if present.\n",
      "    \n",
      "    If the string ends with the suffix string and that suffix is not empty,\n",
      "    return string[:-len(suffix)]. Otherwise, return a copy of the original\n",
      "    string.\n",
      "\n"
     ]
    }
   ],
   "source": [
    "help(str.removesuffix)"
   ]
  },
  {
   "cell_type": "code",
   "execution_count": 78,
   "id": "af36ee06-96bb-4efe-8353-37b23a530312",
   "metadata": {},
   "outputs": [],
   "source": [
    "mail = \"Jigaya007@gmail.com\""
   ]
  },
  {
   "cell_type": "code",
   "execution_count": 79,
   "id": "6a53ca35-b136-4b43-98c3-de9bc4285082",
   "metadata": {},
   "outputs": [
    {
     "data": {
      "text/plain": [
       "'Jigaya007'"
      ]
     },
     "execution_count": 79,
     "metadata": {},
     "output_type": "execute_result"
    }
   ],
   "source": [
    "mail.removesuffix(\"@gmail.com\")"
   ]
  },
  {
   "cell_type": "markdown",
   "id": "0a56a260-515b-427b-a4d3-137c18a42569",
   "metadata": {},
   "source": [
    "**split**"
   ]
  },
  {
   "cell_type": "code",
   "execution_count": 86,
   "id": "02181f75-7a7e-4d19-b4e4-6869e1486d30",
   "metadata": {},
   "outputs": [
    {
     "name": "stdout",
     "output_type": "stream",
     "text": [
      "Help on method_descriptor:\n",
      "\n",
      "split(self, /, sep=None, maxsplit=-1)\n",
      "    Return a list of the substrings in the string, using sep as the separator string.\n",
      "    \n",
      "      sep\n",
      "        The separator used to split the string.\n",
      "    \n",
      "        When set to None (the default value), will split on any whitespace\n",
      "        character (including \\\\n \\\\r \\\\t \\\\f and spaces) and will discard\n",
      "        empty strings from the result.\n",
      "      maxsplit\n",
      "        Maximum number of splits (starting from the left).\n",
      "        -1 (the default value) means no limit.\n",
      "    \n",
      "    Note, str.split() is mainly useful for data that has been intentionally\n",
      "    delimited.  With natural text that includes punctuation, consider using\n",
      "    the regular expression module.\n",
      "\n"
     ]
    }
   ],
   "source": [
    "help(str.split)"
   ]
  },
  {
   "cell_type": "code",
   "execution_count": 81,
   "id": "25c5ff4d-8fc8-4a6d-b7c0-100b9488586d",
   "metadata": {},
   "outputs": [],
   "source": [
    "string1 = \"Hello World My Name is Jigaysa\""
   ]
  },
  {
   "cell_type": "code",
   "execution_count": 84,
   "id": "74ba1750-9dd4-4dff-aa57-994b2b8c6b36",
   "metadata": {},
   "outputs": [],
   "source": [
    "words = string1.split(\" \")"
   ]
  },
  {
   "cell_type": "code",
   "execution_count": 85,
   "id": "705642a6-d147-4dfd-9ffe-fc1cf77ac6e6",
   "metadata": {},
   "outputs": [
    {
     "data": {
      "text/plain": [
       "6"
      ]
     },
     "execution_count": 85,
     "metadata": {},
     "output_type": "execute_result"
    }
   ],
   "source": [
    "len(words)"
   ]
  },
  {
   "cell_type": "markdown",
   "id": "2fd4dc9e-8e3a-4e47-8787-77b1edc26236",
   "metadata": {},
   "source": [
    "**partition**"
   ]
  },
  {
   "cell_type": "code",
   "execution_count": 88,
   "id": "5aadf750-752b-4f68-9460-0cb4d1c552de",
   "metadata": {},
   "outputs": [
    {
     "name": "stdout",
     "output_type": "stream",
     "text": [
      "Help on method_descriptor:\n",
      "\n",
      "partition(self, sep, /)\n",
      "    Partition the string into three parts using the given separator.\n",
      "    \n",
      "    This will search for the separator in the string.  If the separator is found,\n",
      "    returns a 3-tuple containing the part before the separator, the separator\n",
      "    itself, and the part after it.\n",
      "    \n",
      "    If the separator is not found, returns a 3-tuple containing the original string\n",
      "    and two empty strings.\n",
      "\n"
     ]
    }
   ],
   "source": [
    "help(str.partition)"
   ]
  },
  {
   "cell_type": "code",
   "execution_count": 91,
   "id": "eff2c7f1-7b51-4330-b0bb-40343430eb54",
   "metadata": {},
   "outputs": [],
   "source": [
    "string1 = \"Hello World, My Name is Jigaysa\""
   ]
  },
  {
   "cell_type": "code",
   "execution_count": 92,
   "id": "1f0b5bd9-2ea6-424f-895c-26f7061e7813",
   "metadata": {},
   "outputs": [
    {
     "data": {
      "text/plain": [
       "('Hello World', ',', ' My Name is Jigaysa')"
      ]
     },
     "execution_count": 92,
     "metadata": {},
     "output_type": "execute_result"
    }
   ],
   "source": [
    "string1.partition(\",\")"
   ]
  },
  {
   "cell_type": "code",
   "execution_count": null,
   "id": "9dde789b-c6b7-45fa-97f6-b37a582a8a20",
   "metadata": {},
   "outputs": [],
   "source": []
  }
 ],
 "metadata": {
  "kernelspec": {
   "display_name": "Python 3 (ipykernel)",
   "language": "python",
   "name": "python3"
  },
  "language_info": {
   "codemirror_mode": {
    "name": "ipython",
    "version": 3
   },
   "file_extension": ".py",
   "mimetype": "text/x-python",
   "name": "python",
   "nbconvert_exporter": "python",
   "pygments_lexer": "ipython3",
   "version": "3.10.5"
  }
 },
 "nbformat": 4,
 "nbformat_minor": 5
}
