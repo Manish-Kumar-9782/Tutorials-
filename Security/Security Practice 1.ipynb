{
 "cells": [
  {
   "cell_type": "markdown",
   "metadata": {},
   "source": [
    "# RSA security modeule practice"
   ]
  },
  {
   "cell_type": "code",
   "execution_count": 1,
   "metadata": {},
   "outputs": [],
   "source": [
    "# first of all we will import the rsa module\n",
    "import rsa"
   ]
  },
  {
   "cell_type": "code",
   "execution_count": 2,
   "metadata": {},
   "outputs": [
    {
     "data": {
      "text/plain": [
       "['newkeys',\n",
       " 'encrypt',\n",
       " 'decrypt',\n",
       " 'sign',\n",
       " 'verify',\n",
       " 'PublicKey',\n",
       " 'PrivateKey',\n",
       " 'DecryptionError',\n",
       " 'VerificationError',\n",
       " 'find_signature_hash',\n",
       " 'compute_hash',\n",
       " 'sign_hash']"
      ]
     },
     "execution_count": 2,
     "metadata": {},
     "output_type": "execute_result"
    }
   ],
   "source": [
    "# Now we will see the all availabel callses in that module by useing __all__ attribute.\n",
    "[i for i in rsa.__all__]"
   ]
  },
  {
   "cell_type": "markdown",
   "metadata": {},
   "source": [
    "Now we will see the mostly used element in the RSA module.\n",
    "\n",
    "1. newkeys\n",
    "2. publickey\n",
    "3. privatekey\n",
    "4. encrypt\n",
    "5. decrypt"
   ]
  },
  {
   "cell_type": "code",
   "execution_count": 3,
   "metadata": {},
   "outputs": [
    {
     "data": {
      "text/plain": [
       "PrivateKey(5, 6, 7, 8, 9)"
      ]
     },
     "execution_count": 3,
     "metadata": {},
     "output_type": "execute_result"
    }
   ],
   "source": [
    "rsa.PrivateKey(5,6,7,8,9)"
   ]
  },
  {
   "cell_type": "markdown",
   "metadata": {},
   "source": [
    "## newkeys\n",
    "\n",
    "Newkeys class will generate the new publickey and privatekey this is the ranndom generator for the classes.\n",
    "\n",
    "```ruby\n",
    "rsa.newkeys(\n",
    "    nbits: int,\n",
    "    accurate: bool = True,\n",
    "    poolsize: int = 1,\n",
    "    exponent: int = 65537,\n",
    ") -> Tuple[rsa.key.PublicKey, rsa.key.PrivateKey]\n",
    "\n",
    "```\n",
    "We just need to pass the nbits which will decide the length of the key we should use 512 for a good security."
   ]
  },
  {
   "cell_type": "code",
   "execution_count": 4,
   "metadata": {},
   "outputs": [],
   "source": [
    "# now we know that\n",
    "PublicKey, PrivateKey = rsa.newkeys(nbits=512)"
   ]
  },
  {
   "cell_type": "markdown",
   "metadata": {},
   "source": [
    "Now we will print the PublicKey and the PrivateKey and we will see that what they contains."
   ]
  },
  {
   "cell_type": "markdown",
   "metadata": {},
   "source": [
    "## PublicKey and PrivateKey"
   ]
  },
  {
   "cell_type": "code",
   "execution_count": 5,
   "metadata": {},
   "outputs": [
    {
     "name": "stdout",
     "output_type": "stream",
     "text": [
      "This is PublicKey: \n",
      "\n",
      " PublicKey(10585613556380501911074482030831538381526062255238268766293074530052349368256555754562927576985719960124212839254212412064659413881173562259811871709931593, 65537)\n"
     ]
    }
   ],
   "source": [
    "print(\"This is PublicKey: \\n\\n\",PublicKey)"
   ]
  },
  {
   "cell_type": "code",
   "execution_count": 6,
   "metadata": {},
   "outputs": [
    {
     "name": "stdout",
     "output_type": "stream",
     "text": [
      "This is PrivateKey: \n",
      "\n",
      " PrivateKey(10585613556380501911074482030831538381526062255238268766293074530052349368256555754562927576985719960124212839254212412064659413881173562259811871709931593, 65537, 8124999904277101295951594818147288939162694502727476597202199186493482002024734033559528377369952176144476017357191422307114485338918114688720911392431213, 6057581648738320344534400758609015081151667512023562336518033379910177571453166231, 1747498287305014691486362007758862530326738847721634179082340055978575903)\n"
     ]
    }
   ],
   "source": [
    "print(\"This is PrivateKey: \\n\\n\",PrivateKey)"
   ]
  },
  {
   "cell_type": "markdown",
   "metadata": {},
   "source": [
    "***"
   ]
  },
  {
   "cell_type": "markdown",
   "metadata": {},
   "source": [
    "As we can see that PublicKey and the PrivateKey is the random numbers of the key which is used to encrypt and decrypt the our string such as password, Message and other kind of information.\n",
    "\n",
    "Now again we will create anoter *newkey* and we will see that newly created key will be diffrent.\n",
    "\n",
    "`Note:`This should be noted that we should to call the newkeys() function two time in a single security program this will change the PublicKey and PrivateKey which is not sutaible for the older encrypted data."
   ]
  },
  {
   "cell_type": "code",
   "execution_count": 7,
   "metadata": {},
   "outputs": [
    {
     "name": "stdout",
     "output_type": "stream",
     "text": [
      "\n",
      "\n",
      "This is PublicKey: \n",
      "\n",
      " PublicKey(12303113439288035260681581910013337283012167978161630999692286871861221939095361534114676986913689390063988068043119153665936994343626161463247822378065269, 65537)\n",
      "\n",
      "\n",
      "This is PrivateKey: \n",
      "\n",
      " PrivateKey(12303113439288035260681581910013337283012167978161630999692286871861221939095361534114676986913689390063988068043119153665936994343626161463247822378065269, 65537, 7738325512014466659757930450167993288417910130579681575877988878724864263809692317034164161318229216418637109638998302678958403809899663450749231154239873, 7136025141195133023110675773505616749457032179339505124984699151987235741058558101, 1724084934659790789445292541884623357173260017378397807283640417309526369)\n"
     ]
    }
   ],
   "source": [
    "PublicKey2, PrivateKey2 = rsa.newkeys(512)\n",
    "\n",
    "print(\"\\n\\nThis is PublicKey: \\n\\n\",PublicKey2)\n",
    "\n",
    "print(\"\\n\\nThis is PrivateKey: \\n\\n\",PrivateKey2)"
   ]
  },
  {
   "cell_type": "markdown",
   "metadata": {},
   "source": [
    "***"
   ]
  },
  {
   "cell_type": "markdown",
   "metadata": {},
   "source": [
    "Now we will compare the PublicKey and PublicKey2"
   ]
  },
  {
   "cell_type": "code",
   "execution_count": 8,
   "metadata": {},
   "outputs": [
    {
     "name": "stdout",
     "output_type": "stream",
     "text": [
      "\n",
      "\n",
      "This is PublicKey: \n",
      "\n",
      " PublicKey(10585613556380501911074482030831538381526062255238268766293074530052349368256555754562927576985719960124212839254212412064659413881173562259811871709931593, 65537)\n",
      "\n",
      "\n",
      "This is PublicKey2: \n",
      "\n",
      " PublicKey(12303113439288035260681581910013337283012167978161630999692286871861221939095361534114676986913689390063988068043119153665936994343626161463247822378065269, 65537)\n"
     ]
    }
   ],
   "source": [
    "print(\"\\n\\nThis is PublicKey: \\n\\n\",PublicKey)\n",
    "print(\"\\n\\nThis is PublicKey2: \\n\\n\",PublicKey2)"
   ]
  },
  {
   "cell_type": "markdown",
   "metadata": {},
   "source": [
    "As you can see that both PublicKeys are different. Similarly The both PrivateKeys are also different."
   ]
  },
  {
   "cell_type": "code",
   "execution_count": 9,
   "metadata": {},
   "outputs": [
    {
     "name": "stdout",
     "output_type": "stream",
     "text": [
      "\n",
      "\n",
      "This is PrivateKey: \n",
      "\n",
      " PrivateKey(10585613556380501911074482030831538381526062255238268766293074530052349368256555754562927576985719960124212839254212412064659413881173562259811871709931593, 65537, 8124999904277101295951594818147288939162694502727476597202199186493482002024734033559528377369952176144476017357191422307114485338918114688720911392431213, 6057581648738320344534400758609015081151667512023562336518033379910177571453166231, 1747498287305014691486362007758862530326738847721634179082340055978575903)\n",
      "\n",
      "\n",
      "This is PrivateKey2: \n",
      "\n",
      " PrivateKey(12303113439288035260681581910013337283012167978161630999692286871861221939095361534114676986913689390063988068043119153665936994343626161463247822378065269, 65537, 7738325512014466659757930450167993288417910130579681575877988878724864263809692317034164161318229216418637109638998302678958403809899663450749231154239873, 7136025141195133023110675773505616749457032179339505124984699151987235741058558101, 1724084934659790789445292541884623357173260017378397807283640417309526369)\n"
     ]
    }
   ],
   "source": [
    "print(\"\\n\\nThis is PrivateKey: \\n\\n\",PrivateKey)\n",
    "print(\"\\n\\nThis is PrivateKey2: \\n\\n\",PrivateKey2)"
   ]
  },
  {
   "cell_type": "markdown",
   "metadata": {},
   "source": [
    "***"
   ]
  },
  {
   "cell_type": "markdown",
   "metadata": {},
   "source": [
    "## Accessing the Keys"
   ]
  },
  {
   "cell_type": "markdown",
   "metadata": {},
   "source": [
    "Now we will access the PublicKey and PrivateKey values but there is a different method to access these values. if we want to access by using the indexing then if will show an access error. Let's try to access it by indixing."
   ]
  },
  {
   "cell_type": "code",
   "execution_count": 10,
   "metadata": {},
   "outputs": [
    {
     "ename": "TypeError",
     "evalue": "getattr(): attribute name must be string",
     "output_type": "error",
     "traceback": [
      "\u001b[1;31m---------------------------------------------------------------------------\u001b[0m",
      "\u001b[1;31mTypeError\u001b[0m                                 Traceback (most recent call last)",
      "\u001b[1;32m<ipython-input-10-2312c6b86c81>\u001b[0m in \u001b[0;36m<module>\u001b[1;34m\u001b[0m\n\u001b[1;32m----> 1\u001b[1;33m \u001b[0mPrivateKey\u001b[0m\u001b[1;33m[\u001b[0m\u001b[1;36m0\u001b[0m\u001b[1;33m]\u001b[0m\u001b[1;33m\u001b[0m\u001b[1;33m\u001b[0m\u001b[0m\n\u001b[0m",
      "\u001b[1;32mc:\\python\\python38\\lib\\site-packages\\rsa\\key.py\u001b[0m in \u001b[0;36m__getitem__\u001b[1;34m(self, key)\u001b[0m\n\u001b[0;32m    416\u001b[0m \u001b[1;33m\u001b[0m\u001b[0m\n\u001b[0;32m    417\u001b[0m     \u001b[1;32mdef\u001b[0m \u001b[0m__getitem__\u001b[0m\u001b[1;33m(\u001b[0m\u001b[0mself\u001b[0m\u001b[1;33m,\u001b[0m \u001b[0mkey\u001b[0m\u001b[1;33m:\u001b[0m \u001b[0mstr\u001b[0m\u001b[1;33m)\u001b[0m \u001b[1;33m->\u001b[0m \u001b[0mint\u001b[0m\u001b[1;33m:\u001b[0m\u001b[1;33m\u001b[0m\u001b[1;33m\u001b[0m\u001b[0m\n\u001b[1;32m--> 418\u001b[1;33m         \u001b[1;32mreturn\u001b[0m \u001b[0mgetattr\u001b[0m\u001b[1;33m(\u001b[0m\u001b[0mself\u001b[0m\u001b[1;33m,\u001b[0m \u001b[0mkey\u001b[0m\u001b[1;33m)\u001b[0m\u001b[1;33m\u001b[0m\u001b[1;33m\u001b[0m\u001b[0m\n\u001b[0m\u001b[0;32m    419\u001b[0m \u001b[1;33m\u001b[0m\u001b[0m\n\u001b[0;32m    420\u001b[0m     \u001b[1;32mdef\u001b[0m \u001b[0m__repr__\u001b[0m\u001b[1;33m(\u001b[0m\u001b[0mself\u001b[0m\u001b[1;33m)\u001b[0m \u001b[1;33m->\u001b[0m \u001b[0mstr\u001b[0m\u001b[1;33m:\u001b[0m\u001b[1;33m\u001b[0m\u001b[1;33m\u001b[0m\u001b[0m\n",
      "\u001b[1;31mTypeError\u001b[0m: getattr(): attribute name must be string"
     ]
    }
   ],
   "source": [
    "PrivateKey[0]"
   ]
  },
  {
   "cell_type": "markdown",
   "metadata": {},
   "source": [
    "It says that it need a attribute value not a index nuber. From this error we can understand that this private value contains a dic type element which holds all the values which we can see from the documentation or from the docstring which is defined in the defination of the Publickey.\n",
    "\n",
    "```ruby \n",
    "rsa.key.PublicKey(n: int, e: int) -> None\n",
    "     \n",
    "Represents a public RSA key.\n",
    "\n",
    "This key is also known as the 'encryption key'. It contains the 'n' and 'e'\n",
    "values.\n",
    "-----------------------------------------------------------------------------    \n",
    "rsa.key.PrivateKey(n: int, e: int, d: int, p: int, q: int) -> None\n",
    " ```    \n",
    "Represents a private RSA key.\n",
    "\n",
    "This key is also known as the 'decryption key'. It contains the 'n', 'e',\n",
    "'d', 'p', 'q' and other values.\n",
    "```\n",
    "```\n",
    "From the defination of the Publickey and PrivateKey we can see that we now we can access the values of these keys by giving them their corresponding values like n,e,d,p and q.\n",
    "\n",
    "**Accessing values of PublicKey**"
   ]
  },
  {
   "cell_type": "code",
   "execution_count": null,
   "metadata": {},
   "outputs": [],
   "source": [
    "print(\"This is the 'n' value of the Public key:\", PublicKey['n'])\n",
    "print(\"\\nThis is the 'e' value of the Public key: \", PublicKey['e'])"
   ]
  },
  {
   "cell_type": "markdown",
   "metadata": {},
   "source": [
    "**Accessing values of PrivateKeys**"
   ]
  },
  {
   "cell_type": "code",
   "execution_count": null,
   "metadata": {},
   "outputs": [],
   "source": [
    "print(\"This is the 'n' value of the Public key:\", PrivateKey['n'])\n",
    "print(\"\\nThis is the 'e' value of the Public key: \", PrivateKey['e'])\n",
    "print(\"\\nThis is the 'd' value of the Public key:\", PrivateKey['d'])\n",
    "print(\"\\nThis is the 'p' value of the Public key: \", PrivateKey['p'])\n",
    "print(\"\\nThis is the 'q' value of the Public key:\", PrivateKey['q'])"
   ]
  },
  {
   "cell_type": "markdown",
   "metadata": {},
   "source": [
    "***"
   ]
  },
  {
   "cell_type": "markdown",
   "metadata": {},
   "source": [
    "### ways to store the keys."
   ]
  },
  {
   "cell_type": "markdown",
   "metadata": {},
   "source": [
    "Now we know that how to access them, Now we can store them into variable and save them at a location or convert into anoter form of data like Hexadecimal form which would be hard to read.\n",
    "\n",
    "Now we have some options.\n",
    "1. We can store them as it is at a secured location like a remote location.\n",
    "2. We can make a registory like window registory.\n",
    "3. We can make both of above options after make it hexadecimal form."
   ]
  },
  {
   "cell_type": "markdown",
   "metadata": {},
   "source": [
    "## Encryption"
   ]
  },
  {
   "cell_type": "markdown",
   "metadata": {},
   "source": [
    "Now we will use the `rsa.encrypt()` function to encrypt a Message or you can say a string to make it unreadable from the third pary.\n",
    "\n",
    "```ruby\n",
    "rsa.encrypt(message: bytes, pub_key: rsa.key.PublicKey) -> bytes\n",
    " \n",
    "message: it contains the message which is need to encrypt. Note that this message must be in the binary format.\n",
    "pub_key: it contains the publickeys we just need to pass the publickey object of the rsa module. we will see that how to make the publickey object if we dont have any object of the publickey\n"
   ]
  },
  {
   "cell_type": "code",
   "execution_count": 11,
   "metadata": {},
   "outputs": [
    {
     "name": "stdout",
     "output_type": "stream",
     "text": [
      "This is simple message:  Hello world\n",
      "This is binary message:  b'Hello world'\n"
     ]
    }
   ],
   "source": [
    "# first of all we need a message which is need to be encrypted.\n",
    "message = \"Hello world\"\n",
    "# this message need to encode into binary format.\n",
    "bmessage = message.encode()\n",
    "# now if print the both message we can see the difference b/w them/.\n",
    "\n",
    "print(\"This is simple message: \",message)\n",
    "print(\"This is binary message: \",bmessage)"
   ]
  },
  {
   "cell_type": "markdown",
   "metadata": {},
   "source": [
    "As we can see that both message have different format. but we only need the binary formatted string so we will choose that one.\n",
    "\n",
    "**encrypting the message**"
   ]
  },
  {
   "cell_type": "code",
   "execution_count": 12,
   "metadata": {},
   "outputs": [],
   "source": [
    "encrypted_message = rsa.encrypt(bmessage,PublicKey)"
   ]
  },
  {
   "cell_type": "markdown",
   "metadata": {},
   "source": [
    "After excuting the above cell we have encrypted over message into a unreadabel formate.\n",
    "\n",
    "Now we will print that encrypted message and try to read it."
   ]
  },
  {
   "cell_type": "code",
   "execution_count": 13,
   "metadata": {},
   "outputs": [
    {
     "name": "stdout",
     "output_type": "stream",
     "text": [
      "This is the encrypted message:  b\"\\x83t\\x18u\\xadr\\xd0\\x9c\\x8eg\\x00\\x9eC&y*1\\xc8\\xdf`\\xf2~\\x972'\\xa8\\xa7FY\\xaa\\x96\\xfa\\xae\\xf8m\\xf8^\\x9bp\\\\\\x11m\\xd6\\xa2o\\xa1\\xe20\\xf4\\x9dt]\\xc3m\\xdaE\\xfd\\xf1.\\xb0\\x93.\\x07\\x9c\"\n"
     ]
    }
   ],
   "source": [
    "print(\"This is the encrypted message: \",encrypted_message)"
   ]
  },
  {
   "cell_type": "markdown",
   "metadata": {},
   "source": [
    "WOW! this cool, as we can see that our message has been encrypted and this is can't be read now. this how we encrypt a message and make it unreadable formate for the third party member.\n",
    "\n",
    "Now we will decrypt our message."
   ]
  },
  {
   "cell_type": "markdown",
   "metadata": {},
   "source": [
    "## Decryption"
   ]
  },
  {
   "cell_type": "markdown",
   "metadata": {},
   "source": [
    "Now will see that how we can decrypt a message which has been encrypted by using `rsa.decrypt()` function.\n",
    "\n",
    "```ruby\n",
    " rsa.decrypt(crypto: bytes, priv_key: rsa.key.PrivateKey) -> bytes\n",
    "\n",
    "crypto: this is the message which is encrypted or the message which need to be decrypt\n",
    "Priv_key: here we will use the privatekey, this will make the encrypted message into readable format.\n",
    "```\n",
    "**Decryption of the message**"
   ]
  },
  {
   "cell_type": "code",
   "execution_count": 14,
   "metadata": {},
   "outputs": [],
   "source": [
    "# here we will use the rsa.decrypt() function this requires two things as mentioned\n",
    "decrypted_message = rsa.decrypt(encrypted_message,PrivateKey)"
   ]
  },
  {
   "cell_type": "markdown",
   "metadata": {},
   "source": [
    "Now we will print the messag."
   ]
  },
  {
   "cell_type": "code",
   "execution_count": 15,
   "metadata": {},
   "outputs": [
    {
     "name": "stdout",
     "output_type": "stream",
     "text": [
      "This is our decrypted message:  b'Hello world'\n"
     ]
    }
   ],
   "source": [
    "print(\"This is our decrypted message: \",decrypted_message)"
   ]
  },
  {
   "cell_type": "markdown",
   "metadata": {},
   "source": [
    "As you can see this decrypted message is still in the binary format so we need to convert into the simple format."
   ]
  },
  {
   "cell_type": "code",
   "execution_count": 18,
   "metadata": {},
   "outputs": [
    {
     "name": "stdout",
     "output_type": "stream",
     "text": [
      "This is our simple message after decryption:  Hello world\n"
     ]
    }
   ],
   "source": [
    "simple_message = decrypted_message.decode()\n",
    "print(\"This is our simple message after decryption: \",simple_message)"
   ]
  },
  {
   "cell_type": "code",
   "execution_count": 22,
   "metadata": {},
   "outputs": [
    {
     "name": "stdout",
     "output_type": "stream",
     "text": [
      "n:  10585613556380501911074482030831538381526062255238268766293074530052349368256555754562927576985719960124212839254212412064659413881173562259811871709931593\n",
      "e:  65537\n",
      "d:  8124999904277101295951594818147288939162694502727476597202199186493482002024734033559528377369952176144476017357191422307114485338918114688720911392431213\n",
      "q:  1747498287305014691486362007758862530326738847721634179082340055978575903\n",
      "p:  6057581648738320344534400758609015081151667512023562336518033379910177571453166231\n"
     ]
    }
   ],
   "source": [
    "print(\"n: \",PrivateKey.n)\n",
    "print(\"e: \",PrivateKey.e)\n",
    "print(\"d: \",PrivateKey.d)\n",
    "print(\"q: \",PrivateKey.q)\n",
    "print(\"p: \",PrivateKey.p)"
   ]
  },
  {
   "cell_type": "markdown",
   "metadata": {},
   "source": [
    "## Making our key from the predifiend values\n",
    "\n",
    "Suppose that we have value n,e,d,q,p which is required to make a publickey and privatekey.\n",
    "\n",
    "```ruby\n",
    "n:10585613556380501911074482030831538381526062255238268766293074530052349368256555754562927576985719960124212839254212412064659413881173562259811871709931593\n",
    "\n",
    "e:65537\n",
    "\n",
    "d:8124999904277101295951594818147288939162694502727476597202199186493482002024734033559528377369952176144476017357191422307114485338918114688720911392431213\n",
    "\n",
    "p:6057581648738320344534400758609015081151667512023562336518033379910177571453166231\n",
    "\n",
    "q:1747498287305014691486362007758862530326738847721634179082340055978575903\n",
    "```\n",
    "\n",
    "Now we need to make the publickey and privatekey.\n",
    "\n",
    "PublicKey contains n and e and PrivateKey contains all the values like n,e,d,p and q. \n",
    "\n",
    "```ruby\n",
    "    PublicKey(n:int,e:int)\n",
    "    \n",
    "    Privatekey(n:int, e:int, d:int, p:int, q:int)\n",
    "```\n",
    "\n",
    "**Key:** To make publickey or PrivateKey we need to make an key  object by using the `rsa.key.PublicKey()` or `rsa.key.PrivateKey()`"
   ]
  },
  {
   "cell_type": "code",
   "execution_count": 24,
   "metadata": {},
   "outputs": [],
   "source": [
    "# first we will make the PublicKey\n",
    "n = 10585613556380501911074482030831538381526062255238268766293074530052349368256555754562927576985719960124212839254212412064659413881173562259811871709931593\n",
    "e = 65537\n",
    "d = 8124999904277101295951594818147288939162694502727476597202199186493482002024734033559528377369952176144476017357191422307114485338918114688720911392431213\n",
    "p = 6057581648738320344534400758609015081151667512023562336518033379910177571453166231\n",
    "q = 1747498287305014691486362007758862530326738847721634179082340055978575903\n",
    "\n",
    "# now we have all the required values \n",
    "Public_Key = rsa.key.PublicKey(n,e)\n",
    "\n",
    "# for Privatekey\n",
    "Priavte_Key = rsa.key.PrivateKey(n,e,d,p,q)\n",
    "# Now by excuting this cell we would make the PrivateKey and PublicKey"
   ]
  },
  {
   "cell_type": "markdown",
   "metadata": {},
   "source": [
    "Now we have created the both private and public keys to view them we need to print them."
   ]
  },
  {
   "cell_type": "code",
   "execution_count": 25,
   "metadata": {},
   "outputs": [
    {
     "name": "stdout",
     "output_type": "stream",
     "text": [
      "This is custom Public Key : PublicKey(10585613556380501911074482030831538381526062255238268766293074530052349368256555754562927576985719960124212839254212412064659413881173562259811871709931593, 65537)\n",
      "\n",
      "\n",
      "This is custom  Private Key:  PrivateKey(10585613556380501911074482030831538381526062255238268766293074530052349368256555754562927576985719960124212839254212412064659413881173562259811871709931593, 65537, 8124999904277101295951594818147288939162694502727476597202199186493482002024734033559528377369952176144476017357191422307114485338918114688720911392431213, 6057581648738320344534400758609015081151667512023562336518033379910177571453166231, 1747498287305014691486362007758862530326738847721634179082340055978575903)\n"
     ]
    }
   ],
   "source": [
    "print(\"This is custom Public Key :\", Public_Key)\n",
    "print(\"\\n\\nThis is custom  Private Key: \",Priavte_Key)"
   ]
  },
  {
   "cell_type": "markdown",
   "metadata": {},
   "source": [
    "As you can see that we have made PublicKey and PrivateKey we just need to check them that they are working properly"
   ]
  },
  {
   "cell_type": "markdown",
   "metadata": {},
   "source": [
    "***"
   ]
  },
  {
   "cell_type": "markdown",
   "metadata": {},
   "source": [
    "**Encryption by custom Key**"
   ]
  },
  {
   "cell_type": "code",
   "execution_count": 26,
   "metadata": {},
   "outputs": [
    {
     "name": "stdout",
     "output_type": "stream",
     "text": [
      "b'\\xba\\xca\\xe4E\\xd88\\xf7\\x92\\xf3\\x8b\\xcb^r\\xa8\\x80J\\x9c\\xb0\\xeb; \\xf0\\xf2\\xacAe\\xbb\\r%\\xc5\\xd8\\\\\\x92\\xfa\\xa2`\\\\\\xf4:\\xdd\\x04o\\x92\"k\\xf8\\xa2\\x0e\\xb7\\x06\\x17Q[Um\\xd5u\\x12\\xc9^\\xa9\"\\x80\\xfa'\n"
     ]
    }
   ],
   "source": [
    "# we have Public_Key\n",
    "\n",
    "message1 = \"Hello Manish\"\n",
    "encrypted_message = rsa.encrypt(message1.encode(),Public_Key)\n",
    "\n",
    "# now we will print the encrypted message to check the result\n",
    "print(encrypted_message)"
   ]
  },
  {
   "cell_type": "markdown",
   "metadata": {},
   "source": [
    "Now we can see that message has been encrypted but our work is not done yet we need to decrypt it to check that our keys are working properly.\n",
    "\n"
   ]
  },
  {
   "cell_type": "code",
   "execution_count": 28,
   "metadata": {},
   "outputs": [
    {
     "name": "stdout",
     "output_type": "stream",
     "text": [
      "This message is in binary format:  b'Hello Manish'\n",
      "This message is in Normal format:  Hello Manish\n"
     ]
    }
   ],
   "source": [
    "# We have Private_Key\n",
    "decrypted_message = rsa.decrypt(encrypted_message,Priavte_Key)\n",
    "# check the message\n",
    "print(\"This message is in binary format: \",decrypted_message)\n",
    "print(\"This message is in Normal format: \",decrypted_message.decode())"
   ]
  },
  {
   "cell_type": "markdown",
   "metadata": {},
   "source": [
    "Now we can see that we have succefully made the message. so we have completed the our basic exercise on the encryption and decryption next we will more in RSA module like sign, verify etc."
   ]
  },
  {
   "cell_type": "code",
   "execution_count": null,
   "metadata": {},
   "outputs": [],
   "source": []
  }
 ],
 "metadata": {
  "kernelspec": {
   "display_name": "Python 3",
   "language": "python",
   "name": "python3"
  },
  "language_info": {
   "codemirror_mode": {
    "name": "ipython",
    "version": 3
   },
   "file_extension": ".py",
   "mimetype": "text/x-python",
   "name": "python",
   "nbconvert_exporter": "python",
   "pygments_lexer": "ipython3",
   "version": "3.8.3"
  },
  "latex_envs": {
   "LaTeX_envs_menu_present": true,
   "autoclose": false,
   "autocomplete": true,
   "bibliofile": "biblio.bib",
   "cite_by": "apalike",
   "current_citInitial": 1,
   "eqLabelWithNumbers": true,
   "eqNumInitial": 1,
   "hotkeys": {
    "equation": "Ctrl-E",
    "itemize": "Ctrl-I"
   },
   "labels_anchors": false,
   "latex_user_defs": false,
   "report_style_numbering": false,
   "user_envs_cfg": true
  },
  "toc": {
   "base_numbering": 1,
   "nav_menu": {
    "height": "185px",
    "width": "222px"
   },
   "number_sections": true,
   "sideBar": true,
   "skip_h1_title": false,
   "title_cell": "Table of Contents",
   "title_sidebar": "Contents",
   "toc_cell": false,
   "toc_position": {},
   "toc_section_display": true,
   "toc_window_display": false
  }
 },
 "nbformat": 4,
 "nbformat_minor": 4
}
