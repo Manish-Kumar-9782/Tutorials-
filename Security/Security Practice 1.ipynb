{
 "cells": [
  {
   "cell_type": "markdown",
   "metadata": {},
   "source": [
    "# RSA security modeule practice"
   ]
  },
  {
   "cell_type": "code",
   "execution_count": 2,
   "metadata": {},
   "outputs": [],
   "source": [
    "# first of all we will import the rsa module\n",
    "import rsa"
   ]
  },
  {
   "cell_type": "code",
   "execution_count": 8,
   "metadata": {},
   "outputs": [
    {
     "data": {
      "text/plain": [
       "['newkeys',\n",
       " 'encrypt',\n",
       " 'decrypt',\n",
       " 'sign',\n",
       " 'verify',\n",
       " 'PublicKey',\n",
       " 'PrivateKey',\n",
       " 'DecryptionError',\n",
       " 'VerificationError',\n",
       " 'find_signature_hash',\n",
       " 'compute_hash',\n",
       " 'sign_hash']"
      ]
     },
     "execution_count": 8,
     "metadata": {},
     "output_type": "execute_result"
    }
   ],
   "source": [
    "# Now we will see the all availabel callses in that module by useing __all__ attribute.\n",
    "[i for i in rsa.__all__]"
   ]
  },
  {
   "cell_type": "markdown",
   "metadata": {},
   "source": [
    "Now we will see the mostly used element in the RSA module.\n",
    "\n",
    "1. newkeys\n",
    "2. publickey\n",
    "3. privatekey\n",
    "4. encrypt\n",
    "5. decrypt"
   ]
  },
  {
   "cell_type": "code",
   "execution_count": 10,
   "metadata": {},
   "outputs": [
    {
     "data": {
      "text/plain": [
       "PrivateKey(5, 6, 7, 8, 9)"
      ]
     },
     "execution_count": 10,
     "metadata": {},
     "output_type": "execute_result"
    }
   ],
   "source": [
    "rsa.PrivateKey(5,6,7,8,9)"
   ]
  },
  {
   "cell_type": "markdown",
   "metadata": {},
   "source": [
    "## newkeys\n",
    "\n",
    "Newkeys class will generate the new publickey and privatekey this is the ranndom generator for the classes.\n",
    "\n",
    "```ruby\n",
    "rsa.newkeys(\n",
    "    nbits: int,\n",
    "    accurate: bool = True,\n",
    "    poolsize: int = 1,\n",
    "    exponent: int = 65537,\n",
    ") -> Tuple[rsa.key.PublicKey, rsa.key.PrivateKey]\n",
    "\n",
    "```\n",
    "We just need to pass the nbits which will decide the length of the key we should use 512 for a good security."
   ]
  },
  {
   "cell_type": "code",
   "execution_count": 11,
   "metadata": {},
   "outputs": [],
   "source": [
    "# now we know that\n",
    "PublicKey, PrivateKey = rsa.newkeys(nbits=512)"
   ]
  },
  {
   "cell_type": "markdown",
   "metadata": {},
   "source": [
    "Now we will print the PublicKey and the PrivateKey and we will see that what they contains."
   ]
  },
  {
   "cell_type": "code",
   "execution_count": 15,
   "metadata": {},
   "outputs": [
    {
     "name": "stdout",
     "output_type": "stream",
     "text": [
      "This is PublicKey: \n",
      "\n",
      " PublicKey(12448043346697751761462946343937086738958358398096781389836554723591967268537363406131012386492733739428905560046669838448679730171292901585546081923994293, 65537)\n"
     ]
    }
   ],
   "source": [
    "print(\"This is PublicKey: \\n\\n\",PublicKey)"
   ]
  },
  {
   "cell_type": "code",
   "execution_count": 16,
   "metadata": {},
   "outputs": [
    {
     "name": "stdout",
     "output_type": "stream",
     "text": [
      "This is PrivateKey: \n",
      "\n",
      " PrivateKey(12448043346697751761462946343937086738958358398096781389836554723591967268537363406131012386492733739428905560046669838448679730171292901585546081923994293, 65537, 12259623690626766367756013729182282734425854750830168527808725218338397040972123083613172855470853169434039725395021363584779406496301109236072941380991553, 7336805181012610519536103934611621481590569080361527830425416312820958913538776849, 1696657201545005292226089385091571900619405552801139028984518807407821157)\n"
     ]
    }
   ],
   "source": [
    "print(\"This is PrivateKey: \\n\\n\",PrivateKey)"
   ]
  },
  {
   "cell_type": "markdown",
   "metadata": {},
   "source": [
    "***"
   ]
  },
  {
   "cell_type": "markdown",
   "metadata": {},
   "source": [
    "As we can see that PublicKey and the PrivateKey is the random numbers of the key which is used to encrypt and decrypt the our string such as password, Message and other kind of information.\n",
    "\n",
    "Now again we will create anoter *newkey* and we will see that newly created key will be diffrent.\n",
    "\n",
    "`Note:`This should be noted that we should to call the newkeys() function two time in a single security program this will change the PublicKey and PrivateKey which is not sutaible for the older encrypted data."
   ]
  },
  {
   "cell_type": "code",
   "execution_count": 17,
   "metadata": {},
   "outputs": [
    {
     "name": "stdout",
     "output_type": "stream",
     "text": [
      "\n",
      "\n",
      "This is PublicKey: \n",
      "\n",
      " PublicKey(8814708590888856427285428767121291754878519849556670305778949041521403893490154203204874059211943121014314387119199524439391685639856958045899937413063677, 65537)\n",
      "\n",
      "\n",
      "This is PrivateKey: \n",
      "\n",
      " PrivateKey(8814708590888856427285428767121291754878519849556670305778949041521403893490154203204874059211943121014314387119199524439391685639856958045899937413063677, 65537, 7926875894725508375398538685308458593855691378205775686122162148269000100197153887992281824399207566361398654552017512483428312761321418793988521068291873, 5092216194867536216280428965086292297159349388214918478600682448063640632084034051, 1731016173227922696096561121733713789753276632221767121908728259698979327)\n"
     ]
    }
   ],
   "source": [
    "PublicKey2, PrivateKey2 = rsa.newkeys(512)\n",
    "\n",
    "print(\"\\n\\nThis is PublicKey: \\n\\n\",PublicKey2)\n",
    "\n",
    "print(\"\\n\\nThis is PrivateKey: \\n\\n\",PrivateKey2)"
   ]
  },
  {
   "cell_type": "markdown",
   "metadata": {},
   "source": [
    "***"
   ]
  },
  {
   "cell_type": "markdown",
   "metadata": {},
   "source": [
    "Now we will compare the PublicKey and PublicKey2"
   ]
  },
  {
   "cell_type": "code",
   "execution_count": 19,
   "metadata": {},
   "outputs": [
    {
     "name": "stdout",
     "output_type": "stream",
     "text": [
      "\n",
      "\n",
      "This is PublicKey: \n",
      "\n",
      " PublicKey(12448043346697751761462946343937086738958358398096781389836554723591967268537363406131012386492733739428905560046669838448679730171292901585546081923994293, 65537)\n",
      "\n",
      "\n",
      "This is PublicKey2: \n",
      "\n",
      " PublicKey(8814708590888856427285428767121291754878519849556670305778949041521403893490154203204874059211943121014314387119199524439391685639856958045899937413063677, 65537)\n"
     ]
    }
   ],
   "source": [
    "print(\"\\n\\nThis is PublicKey: \\n\\n\",PublicKey)\n",
    "print(\"\\n\\nThis is PublicKey2: \\n\\n\",PublicKey2)"
   ]
  },
  {
   "cell_type": "markdown",
   "metadata": {},
   "source": [
    "As you can see that both PublicKeys are different. Similarly The both PrivateKeys are also different."
   ]
  },
  {
   "cell_type": "code",
   "execution_count": 21,
   "metadata": {},
   "outputs": [
    {
     "name": "stdout",
     "output_type": "stream",
     "text": [
      "\n",
      "\n",
      "This is PrivateKey: \n",
      "\n",
      " PrivateKey(12448043346697751761462946343937086738958358398096781389836554723591967268537363406131012386492733739428905560046669838448679730171292901585546081923994293, 65537, 12259623690626766367756013729182282734425854750830168527808725218338397040972123083613172855470853169434039725395021363584779406496301109236072941380991553, 7336805181012610519536103934611621481590569080361527830425416312820958913538776849, 1696657201545005292226089385091571900619405552801139028984518807407821157)\n",
      "\n",
      "\n",
      "This is PrivateKey2: \n",
      "\n",
      " PrivateKey(8814708590888856427285428767121291754878519849556670305778949041521403893490154203204874059211943121014314387119199524439391685639856958045899937413063677, 65537, 7926875894725508375398538685308458593855691378205775686122162148269000100197153887992281824399207566361398654552017512483428312761321418793988521068291873, 5092216194867536216280428965086292297159349388214918478600682448063640632084034051, 1731016173227922696096561121733713789753276632221767121908728259698979327)\n"
     ]
    }
   ],
   "source": [
    "print(\"\\n\\nThis is PrivateKey: \\n\\n\",PrivateKey)\n",
    "print(\"\\n\\nThis is PrivateKey2: \\n\\n\",PrivateKey2)"
   ]
  },
  {
   "cell_type": "markdown",
   "metadata": {},
   "source": [
    "***"
   ]
  },
  {
   "cell_type": "markdown",
   "metadata": {},
   "source": [
    "Now we will access the PublicKey and PrivateKey values but there is a different method to access these values. if we want to access by using the indexing then if will show an access error. Let's try to access it by indixing."
   ]
  },
  {
   "cell_type": "code",
   "execution_count": 22,
   "metadata": {},
   "outputs": [
    {
     "ename": "TypeError",
     "evalue": "getattr(): attribute name must be string",
     "output_type": "error",
     "traceback": [
      "\u001b[1;31m---------------------------------------------------------------------------\u001b[0m",
      "\u001b[1;31mTypeError\u001b[0m                                 Traceback (most recent call last)",
      "\u001b[1;32m<ipython-input-22-2312c6b86c81>\u001b[0m in \u001b[0;36m<module>\u001b[1;34m\u001b[0m\n\u001b[1;32m----> 1\u001b[1;33m \u001b[0mPrivateKey\u001b[0m\u001b[1;33m[\u001b[0m\u001b[1;36m0\u001b[0m\u001b[1;33m]\u001b[0m\u001b[1;33m\u001b[0m\u001b[1;33m\u001b[0m\u001b[0m\n\u001b[0m",
      "\u001b[1;32mc:\\python\\python38\\lib\\site-packages\\rsa\\key.py\u001b[0m in \u001b[0;36m__getitem__\u001b[1;34m(self, key)\u001b[0m\n\u001b[0;32m    416\u001b[0m \u001b[1;33m\u001b[0m\u001b[0m\n\u001b[0;32m    417\u001b[0m     \u001b[1;32mdef\u001b[0m \u001b[0m__getitem__\u001b[0m\u001b[1;33m(\u001b[0m\u001b[0mself\u001b[0m\u001b[1;33m,\u001b[0m \u001b[0mkey\u001b[0m\u001b[1;33m:\u001b[0m \u001b[0mstr\u001b[0m\u001b[1;33m)\u001b[0m \u001b[1;33m->\u001b[0m \u001b[0mint\u001b[0m\u001b[1;33m:\u001b[0m\u001b[1;33m\u001b[0m\u001b[1;33m\u001b[0m\u001b[0m\n\u001b[1;32m--> 418\u001b[1;33m         \u001b[1;32mreturn\u001b[0m \u001b[0mgetattr\u001b[0m\u001b[1;33m(\u001b[0m\u001b[0mself\u001b[0m\u001b[1;33m,\u001b[0m \u001b[0mkey\u001b[0m\u001b[1;33m)\u001b[0m\u001b[1;33m\u001b[0m\u001b[1;33m\u001b[0m\u001b[0m\n\u001b[0m\u001b[0;32m    419\u001b[0m \u001b[1;33m\u001b[0m\u001b[0m\n\u001b[0;32m    420\u001b[0m     \u001b[1;32mdef\u001b[0m \u001b[0m__repr__\u001b[0m\u001b[1;33m(\u001b[0m\u001b[0mself\u001b[0m\u001b[1;33m)\u001b[0m \u001b[1;33m->\u001b[0m \u001b[0mstr\u001b[0m\u001b[1;33m:\u001b[0m\u001b[1;33m\u001b[0m\u001b[1;33m\u001b[0m\u001b[0m\n",
      "\u001b[1;31mTypeError\u001b[0m: getattr(): attribute name must be string"
     ]
    }
   ],
   "source": [
    "PrivateKey[0]"
   ]
  },
  {
   "cell_type": "markdown",
   "metadata": {},
   "source": [
    "It says that it need a attribute value not a index nuber. From this error we can understand that this private value contains a dic type element which holds all the values which we can see from the documentation or from the docstring which is defined in the defination of the Publickey.\n",
    "\n",
    "```ruby \n",
    "rsa.key.PublicKey(n: int, e: int) -> None\n",
    "     \n",
    "Represents a public RSA key.\n",
    "\n",
    "This key is also known as the 'encryption key'. It contains the 'n' and 'e'\n",
    "values.\n",
    "-----------------------------------------------------------------------------    \n",
    "rsa.key.PrivateKey(n: int, e: int, d: int, p: int, q: int) -> None\n",
    "     \n",
    "Represents a private RSA key.\n",
    "\n",
    "This key is also known as the 'decryption key'. It contains the 'n', 'e',\n",
    "'d', 'p', 'q' and other values.\n",
    "```\n",
    "From the defination of the Publickey and PrivateKey we can see that we now we can access the values of these keys by giving them their corresponding values like n,e,d,p and q.\n",
    "\n",
    "**Accessing values of PublicKey**"
   ]
  },
  {
   "cell_type": "code",
   "execution_count": 26,
   "metadata": {},
   "outputs": [
    {
     "name": "stdout",
     "output_type": "stream",
     "text": [
      "This is the 'n' value of the Public key: 12448043346697751761462946343937086738958358398096781389836554723591967268537363406131012386492733739428905560046669838448679730171292901585546081923994293\n",
      "\n",
      "This is the 'e' value of the Public key:  65537\n"
     ]
    }
   ],
   "source": [
    "print(\"This is the 'n' value of the Public key:\", PublicKey['n'])\n",
    "print(\"\\nThis is the 'e' value of the Public key: \", PublicKey['e'])"
   ]
  },
  {
   "cell_type": "markdown",
   "metadata": {},
   "source": [
    "**Accessing values of PrivateKeys**"
   ]
  },
  {
   "cell_type": "code",
   "execution_count": 28,
   "metadata": {},
   "outputs": [
    {
     "name": "stdout",
     "output_type": "stream",
     "text": [
      "This is the 'n' value of the Public key: 12448043346697751761462946343937086738958358398096781389836554723591967268537363406131012386492733739428905560046669838448679730171292901585546081923994293\n",
      "\n",
      "This is the 'e' value of the Public key:  65537\n",
      "\n",
      "This is the 'd' value of the Public key: 12259623690626766367756013729182282734425854750830168527808725218338397040972123083613172855470853169434039725395021363584779406496301109236072941380991553\n",
      "\n",
      "This is the 'p' value of the Public key:  7336805181012610519536103934611621481590569080361527830425416312820958913538776849\n",
      "\n",
      "This is the 'q' value of the Public key: 1696657201545005292226089385091571900619405552801139028984518807407821157\n"
     ]
    }
   ],
   "source": [
    "print(\"This is the 'n' value of the Public key:\", PrivateKey['n'])\n",
    "print(\"\\nThis is the 'e' value of the Public key: \", PrivateKey['e'])\n",
    "print(\"\\nThis is the 'd' value of the Public key:\", PrivateKey['d'])\n",
    "print(\"\\nThis is the 'p' value of the Public key: \", PrivateKey['p'])\n",
    "print(\"\\nThis is the 'q' value of the Public key:\", PrivateKey['q'])"
   ]
  },
  {
   "cell_type": "markdown",
   "metadata": {},
   "source": [
    "***"
   ]
  },
  {
   "cell_type": "markdown",
   "metadata": {},
   "source": [
    "Now we know that how to access them "
   ]
  }
 ],
 "metadata": {
  "kernelspec": {
   "display_name": "Python 3",
   "language": "python",
   "name": "python3"
  },
  "language_info": {
   "codemirror_mode": {
    "name": "ipython",
    "version": 3
   },
   "file_extension": ".py",
   "mimetype": "text/x-python",
   "name": "python",
   "nbconvert_exporter": "python",
   "pygments_lexer": "ipython3",
   "version": "3.8.3"
  },
  "latex_envs": {
   "LaTeX_envs_menu_present": true,
   "autoclose": false,
   "autocomplete": true,
   "bibliofile": "biblio.bib",
   "cite_by": "apalike",
   "current_citInitial": 1,
   "eqLabelWithNumbers": true,
   "eqNumInitial": 1,
   "hotkeys": {
    "equation": "Ctrl-E",
    "itemize": "Ctrl-I"
   },
   "labels_anchors": false,
   "latex_user_defs": false,
   "report_style_numbering": false,
   "user_envs_cfg": true
  },
  "toc": {
   "base_numbering": 1,
   "nav_menu": {
    "height": "185px",
    "width": "222px"
   },
   "number_sections": true,
   "sideBar": true,
   "skip_h1_title": false,
   "title_cell": "Table of Contents",
   "title_sidebar": "Contents",
   "toc_cell": false,
   "toc_position": {},
   "toc_section_display": true,
   "toc_window_display": false
  }
 },
 "nbformat": 4,
 "nbformat_minor": 4
}
