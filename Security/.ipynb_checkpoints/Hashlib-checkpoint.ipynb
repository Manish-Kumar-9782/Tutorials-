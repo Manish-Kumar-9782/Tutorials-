{
 "cells": [
  {
   "cell_type": "markdown",
   "id": "buried-stamp",
   "metadata": {},
   "source": [
    "# Hashlib \n",
    "hashlib is a in-built mobule in python which is used for hashing the message into a binary hash values. This module implements a common interface to many different secure hash and message digest algorithms.\n",
    "\n",
    "It includes FIPS secure hah alogrithms SHA1, SHA224, SHA256, SHA384 and SHA512, as well as RSA's MD5 algorithm.\n",
    "\n",
    "### Hash algorithms\n",
    "There is one constructor method named for each type of hash. All return a hash object with the same simple interface. for example use `sha256()` or `md5` to create a SHA-256 or MD5 hash object.\n",
    "\n",
    "After creating a hash object we can feed this hash object with a byte-like object (or in simple word binary string or b' string ') using the update method.\n",
    "\n",
    "Now after feeding we need to digest the byte-like object (or in simple word we need to secure the hash object.) by using the digest() or hexdigest() methods.\n",
    "\n",
    "To use the hashlib first we need to import the hashlib."
   ]
  },
  {
   "cell_type": "code",
   "execution_count": 127,
   "id": "cubic-sunglasses",
   "metadata": {},
   "outputs": [],
   "source": [
    "import hashlib\n",
    "import os"
   ]
  },
  {
   "cell_type": "markdown",
   "id": "cutting-lesson",
   "metadata": {},
   "source": [
    "First of all we need to check all the available object and function in hashlib module by using __all__ attribute."
   ]
  },
  {
   "cell_type": "code",
   "execution_count": 5,
   "id": "subject-dakota",
   "metadata": {},
   "outputs": [
    {
     "data": {
      "text/plain": [
       "('md5',\n",
       " 'sha1',\n",
       " 'sha224',\n",
       " 'sha256',\n",
       " 'sha384',\n",
       " 'sha512',\n",
       " 'blake2b',\n",
       " 'blake2s',\n",
       " 'sha3_224',\n",
       " 'sha3_256',\n",
       " 'sha3_384',\n",
       " 'sha3_512',\n",
       " 'shake_128',\n",
       " 'shake_256',\n",
       " 'new',\n",
       " 'algorithms_guaranteed',\n",
       " 'algorithms_available',\n",
       " 'pbkdf2_hmac')"
      ]
     },
     "execution_count": 5,
     "metadata": {},
     "output_type": "execute_result"
    }
   ],
   "source": [
    "hashlib.__all__"
   ]
  },
  {
   "cell_type": "markdown",
   "id": "sweet-murray",
   "metadata": {},
   "source": [
    "In the above list we have hash algorithms 'md5', 'sha1', 'sha224', 'sha256','sha384', 'sha512', 'blake2b','blake2s', 'sha3_224', 'sha3_256','sha3_384', 'sha3_512','shake_128','shake_256'.\n",
    "\n",
    "`hashlib.new()` is a generic consturctor that takes the string name of the desired algorithms as its first parameters, it also exists to allow access to the above listed hashes as well as any other algorithms that your OpenSSL library may offer.\n",
    "\n",
    "`hashlib.algorthms_guaranteed`: A set containing the names of the hash algoritms guaranteed to be supported by this module on all platforms.\n",
    "\n",
    "`hashlib.algorithms_available`: A set containing the names of the hash algorithms that are available in the running python interpreter. These names will be recognized when passed to new(). _algorithms_guaranteed_ will always be a subset.\n",
    " "
   ]
  },
  {
   "cell_type": "markdown",
   "id": "romance-garlic",
   "metadata": {},
   "source": [
    "**Now we will see a md5 hash algorithm**"
   ]
  },
  {
   "cell_type": "markdown",
   "id": "sought-platform",
   "metadata": {},
   "source": [
    "#### MD5 algorithm:"
   ]
  },
  {
   "cell_type": "code",
   "execution_count": 7,
   "id": "communist-imagination",
   "metadata": {},
   "outputs": [],
   "source": [
    "# to make a md5 hash object we need to use md5 method form the hashlib class\n",
    "md5_hash = hashlib.md5()"
   ]
  },
  {
   "cell_type": "markdown",
   "id": "cognitive-jason",
   "metadata": {},
   "source": [
    "Now we have created a hash object using a MD5 algorithm, all the consturctors can be initiated by using a b' string '  like  *md5_hash = hashlib.md5(b\"Hello world\")*,. \n",
    "\n",
    "Now after creating a hash object we need to feed it some bytes by using update() method."
   ]
  },
  {
   "cell_type": "code",
   "execution_count": 43,
   "id": "crazy-contrast",
   "metadata": {},
   "outputs": [],
   "source": [
    "md5_hash.update(b\"Hello world\")"
   ]
  },
  {
   "cell_type": "markdown",
   "id": "proved-elephant",
   "metadata": {},
   "source": [
    "Now after feeding some bytes to the update function we need to digest all the bytes by using the _digest()_ or _hexdigest()_ methods."
   ]
  },
  {
   "cell_type": "code",
   "execution_count": 44,
   "id": "supposed-avatar",
   "metadata": {},
   "outputs": [
    {
     "name": "stdout",
     "output_type": "stream",
     "text": [
      "b'e\\xaf\\xd4;\\xba\\x1aZ~\\xd7\\x96\\x1b\\xb6\\x9e\\x02\\xect'\n"
     ]
    }
   ],
   "source": [
    "# digesting by using the digest method.\n",
    "digest1 = md5_hash.digest()\n",
    "print(digest1)"
   ]
  },
  {
   "cell_type": "code",
   "execution_count": 45,
   "id": "altered-nickel",
   "metadata": {},
   "outputs": [
    {
     "name": "stdout",
     "output_type": "stream",
     "text": [
      "65afd43bba1a5a7ed7961bb69e02ec74\n"
     ]
    }
   ],
   "source": [
    "# digesting by using the hexdigest method. it returns a hexadecimal formetted string.\n",
    "digest2 = md5_hash.hexdigest()\n",
    "print(digest2)"
   ]
  },
  {
   "cell_type": "markdown",
   "id": "recreational-category",
   "metadata": {},
   "source": [
    "if we concate somting to \"Hello world\" then the hash value after digesting will be different."
   ]
  },
  {
   "cell_type": "code",
   "execution_count": 46,
   "id": "premier-northern",
   "metadata": {},
   "outputs": [
    {
     "name": "stdout",
     "output_type": "stream",
     "text": [
      "cd240beb1569adcdf21f652157c25871\n"
     ]
    }
   ],
   "source": [
    "# add some thing to Hello World and feeding to the md5_hash object.\n",
    "md5_hash = hashlib.md5() # here we are re-initiating the constructor for new stirng.\n",
    "\n",
    "'''\n",
    "Note: if we dont make a new constructor here, then this new string will be concated into the 'Hello World' and new string \n",
    "will beccome 'Hello WorldHello World! Good Morning.'\n",
    "\n",
    "To avoid this we have created a new hash object.\n",
    "''' \n",
    "md5_hash.update(b\"Hello World! Good Morning.\")\n",
    "\n",
    "# digesting with hexdigest\n",
    "digest2 =  md5_hash.hexdigest()\n",
    "print(digest2)"
   ]
  },
  {
   "cell_type": "markdown",
   "id": "sudden-aspect",
   "metadata": {},
   "source": [
    "Now you can see that both string have different hash value, Now we will look into some attribute of a hash object.\n",
    "\n",
    "Since every hash object contains some attribute. We will use the dir method to see all the available attribute.\n",
    "\n",
    "Note: dir() method returns all the availabel attributes, classes or metods if available in corresponding object and there will be a subset of common attributes of pyton object. we will remove all the common attributes. "
   ]
  },
  {
   "cell_type": "code",
   "execution_count": 47,
   "id": "controlling-fleet",
   "metadata": {},
   "outputs": [],
   "source": [
    "common_attribute = dir(object())"
   ]
  },
  {
   "cell_type": "markdown",
   "id": "sensitive-connecticut",
   "metadata": {},
   "source": [
    "Now we will remove all the attributes which are common to every object."
   ]
  },
  {
   "cell_type": "code",
   "execution_count": 30,
   "id": "random-colony",
   "metadata": {},
   "outputs": [
    {
     "name": "stdout",
     "output_type": "stream",
     "text": [
      "['block_size', 'copy', 'digest', 'digest_size', 'hexdigest', 'name', 'update']\n"
     ]
    }
   ],
   "source": [
    "print([i for i in dir(md5_hash) if i not in common_attribute])"
   ]
  },
  {
   "cell_type": "markdown",
   "id": "rising-feeling",
   "metadata": {},
   "source": [
    "As you can see we have got some attribute as well as function. we already have seen update, digest and hexdigest so now will look into remaining attributes.\n",
    "```ruby\n",
    "blocksize: ' block size is the internal block size of the hash algoritm in bytes.'\n",
    "digest_size: ' The digest_size is the size of the resulting hash in bytes.'\n",
    "name: 'This returns the name of the hash algorithm which is used to create that hash object.'\n",
    "copy: 'This is a method to make copy of the hash object, the copy of the hash object can be stored in anoter vaiable or instance.'\n",
    "```\n",
    "Now we will look into each attribute one by one."
   ]
  },
  {
   "cell_type": "markdown",
   "id": "neutral-married",
   "metadata": {},
   "source": [
    "##### Hash object attribute and function"
   ]
  },
  {
   "cell_type": "code",
   "execution_count": 48,
   "id": "otherwise-header",
   "metadata": {},
   "outputs": [
    {
     "data": {
      "text/plain": [
       "16"
      ]
     },
     "execution_count": 48,
     "metadata": {},
     "output_type": "execute_result"
    }
   ],
   "source": [
    "# first of all we will look into the digest_size\n",
    "md5_hash.digest_size"
   ]
  },
  {
   "cell_type": "markdown",
   "id": "paperback-pioneer",
   "metadata": {},
   "source": [
    "Here 16 tells us that after hashing a string it will give us a 16 bytes of data."
   ]
  },
  {
   "cell_type": "code",
   "execution_count": 49,
   "id": "english-douglas",
   "metadata": {},
   "outputs": [
    {
     "data": {
      "text/plain": [
       "64"
      ]
     },
     "execution_count": 49,
     "metadata": {},
     "output_type": "execute_result"
    }
   ],
   "source": [
    "# block size of hash object.\n",
    "md5_hash.block_size\n",
    "# this "
   ]
  },
  {
   "cell_type": "code",
   "execution_count": 50,
   "id": "parental-membrane",
   "metadata": {},
   "outputs": [
    {
     "data": {
      "text/plain": [
       "'md5'"
      ]
     },
     "execution_count": 50,
     "metadata": {},
     "output_type": "execute_result"
    }
   ],
   "source": [
    "# name of the algorithm used in that hash object.\n",
    "md5_hash.name"
   ]
  },
  {
   "cell_type": "markdown",
   "id": "living-socket",
   "metadata": {},
   "source": [
    "Now we will make a copy of the hash object (md5_hash)."
   ]
  },
  {
   "cell_type": "code",
   "execution_count": 51,
   "id": "textile-phrase",
   "metadata": {},
   "outputs": [],
   "source": [
    "new_hash = md5_hash.copy()"
   ]
  },
  {
   "cell_type": "markdown",
   "id": "skilled-allen",
   "metadata": {},
   "source": [
    "Now we have copied our hash object into another object, now we will perform all the above operation on this copy."
   ]
  },
  {
   "cell_type": "code",
   "execution_count": 53,
   "id": "associate-honduras",
   "metadata": {},
   "outputs": [
    {
     "name": "stdout",
     "output_type": "stream",
     "text": [
      "cd240beb1569adcdf21f652157c25871\n",
      "\n",
      "digest size:  16\n",
      "block size:  64\n",
      "Name of the hash algorithm:  md5\n"
     ]
    }
   ],
   "source": [
    "# working with b\"Hello World! Good Morning.\"\n",
    "print(new_hash.hexdigest()+\"\\n\")\n",
    "\n",
    "\n",
    "# now will look each attribute of the new_hash object\n",
    "print(\"digest size: \",new_hash.digest_size)\n",
    "print(\"block size: \",new_hash.block_size)\n",
    "print(\"Name of the hash algorithm: \", new_hash.name)\n"
   ]
  },
  {
   "cell_type": "code",
   "execution_count": 55,
   "id": "wireless-passport",
   "metadata": {},
   "outputs": [
    {
     "name": "stdout",
     "output_type": "stream",
     "text": [
      "cd240beb1569adcdf21f652157c25871\n",
      "\n",
      "len of hex string:  32\n"
     ]
    }
   ],
   "source": [
    "print(new_hash.hexdigest()+\"\\n\")\n",
    "print(\"len of hex string: \", len(new_hash.hexdigest()))"
   ]
  },
  {
   "cell_type": "markdown",
   "id": "small-doctor",
   "metadata": {},
   "source": [
    "Now if this new_hash object will return the same hash value untill we don't feed new bytes to it. Now if we use the _update()_ method on the hash object it wiil concatenate bytes to new bytes and it will returns a new hash value for combined bytes. To see this we will use to different hash object sharing same hash alogritm."
   ]
  },
  {
   "cell_type": "code",
   "execution_count": 59,
   "id": "modern-weight",
   "metadata": {},
   "outputs": [
    {
     "name": "stdout",
     "output_type": "stream",
     "text": [
      "hash value from single hash object:  1cbb0a57f31511b426e2b9f89d52d9d9\n",
      "first hash value from multi hash object:  ed076287532e86365e841e92bfc50d8c\n",
      "final hash value from multi hash object:  1cbb0a57f31511b426e2b9f89d52d9d9\n"
     ]
    }
   ],
   "source": [
    "# Now we will create two hash object \n",
    "\n",
    "# We will use this  string: Hello World! how are you.\n",
    "single = hashlib.md5() \n",
    "'''\n",
    "In this single hash object we will not use the update function, insted of this we will give complete string and we will match\n",
    "the hash value from this object to other one.\n",
    "'''\n",
    "\n",
    "multi = hashlib.md5()\n",
    "'''\n",
    "In this we will use the update() mehtod to concatenate the string and after all concatenate we will match the finale hash value \n",
    "from the hash vlaue of single hash object.\n",
    "'''\n",
    "\n",
    "# feeding to single at once.\n",
    "single.update(b\"Hello World! how are you.\")\n",
    "\n",
    "single_hash_value = single.hexdigest()\n",
    "print(\"hash value from single hash object: \",single_hash_value)\n",
    "\n",
    "\n",
    "# feeding to multi by two times\n",
    "multi.update(b\"Hello World!\")\n",
    "print(\"first hash value from multi hash object: \",multi.hexdigest())\n",
    "\n",
    "#feeding again\n",
    "multi.update(b\" how are you.\") # not that, space shoud be considered during update.\n",
    "print(\"final hash value from multi hash object: \",multi.hexdigest())\n",
    "      \n",
    "multi_hash_value = multi.hexdigest()"
   ]
  },
  {
   "cell_type": "markdown",
   "id": "continent-conjunction",
   "metadata": {},
   "source": [
    "Now we will match both hash values. (_single_hash_value_  and _multi_hash_vlaue_)"
   ]
  },
  {
   "cell_type": "code",
   "execution_count": 60,
   "id": "western-lecture",
   "metadata": {},
   "outputs": [
    {
     "name": "stdout",
     "output_type": "stream",
     "text": [
      "is same single_hash_value and multi_hash_value same: True\n"
     ]
    }
   ],
   "source": [
    "print(\"is same single_hash_value and multi_hash_value same:\", single_hash_value == multi_hash_value)"
   ]
  },
  {
   "cell_type": "markdown",
   "id": "continued-treaty",
   "metadata": {},
   "source": [
    "As we can see that they are same, becaue after concatenation both string will be same and there is same hash value for same string."
   ]
  },
  {
   "cell_type": "markdown",
   "id": "completed-contents",
   "metadata": {},
   "source": [
    "##### Putting all steps in single function."
   ]
  },
  {
   "cell_type": "code",
   "execution_count": 80,
   "id": "mediterranean-operator",
   "metadata": {},
   "outputs": [],
   "source": [
    "def md5_single_hash(message):\n",
    "    \n",
    "    if isinstance(message, str):\n",
    "        message = message.encode()\n",
    "        # make a new hash object at every time\n",
    "        Hash = hashlib.md5()\n",
    "        Hash.update(message)\n",
    "        return Hash.hexdigest()\n",
    "        \n",
    "    \n",
    "    elif isinstance(message,bytes):\n",
    "        Hash = hashlib.md5()\n",
    "        Hash.update(message)\n",
    "        return Hash.hexdigest()\n",
    "    \n",
    "    else:\n",
    "        print(f\"{message.__class__} is not supported in hashing please pass a bytes like object.\")"
   ]
  },
  {
   "cell_type": "code",
   "execution_count": 82,
   "id": "destroyed-airfare",
   "metadata": {},
   "outputs": [
    {
     "data": {
      "text/plain": [
       "'c6cbb5c7a518d7e4152f77e90227a83f'"
      ]
     },
     "execution_count": 82,
     "metadata": {},
     "output_type": "execute_result"
    }
   ],
   "source": [
    "md5_single_hash(\"Manish\") # passing a string not binary string."
   ]
  },
  {
   "cell_type": "code",
   "execution_count": 83,
   "id": "appreciated-whale",
   "metadata": {},
   "outputs": [
    {
     "data": {
      "text/plain": [
       "'c6cbb5c7a518d7e4152f77e90227a83f'"
      ]
     },
     "execution_count": 83,
     "metadata": {},
     "output_type": "execute_result"
    }
   ],
   "source": [
    "md5_single_hash(b\"Manish\") # passing a binary string."
   ]
  },
  {
   "cell_type": "markdown",
   "id": "charged-conditions",
   "metadata": {},
   "source": [
    "## Key Derivation\n",
    "Key derivation andd key stretching algorithms are diesgned for secure password hashing. Navie alforithms such as sha1() aor not resistant against brute-force attacks. A good passrd hashing function must be tunable, slow ans include a salt.\n",
    "\n",
    "In this section we will see two key derivation functions.\n",
    "1. pbkdf2_mac()\n",
    "2. scrypt()\n",
    "\n",
    "To know more about these function we can see in python documantation or wikipedia."
   ]
  },
  {
   "cell_type": "markdown",
   "id": "intense-teach",
   "metadata": {},
   "source": [
    "### 1. pbkdf2_mac()"
   ]
  },
  {
   "cell_type": "markdown",
   "id": "declared-czech",
   "metadata": {},
   "source": [
    "This function generally takes five arguments to create a hash object:\n",
    "```ruby\n",
    "name: \"In this we need to pass the name of the hash algorithm.\"\n",
    "password: \"In this we will pass a password \"\n",
    "salt: \"This is the extra bytes to make the hashing more random.\"\n",
    "iterations: \"This is the iteration of hashing.\"\n",
    "dklen: \"In this we defines the digest_size of the hash object\"\n",
    "```\n",
    "**Making  a hex key using key derivation method**"
   ]
  },
  {
   "cell_type": "code",
   "execution_count": 92,
   "id": "different-developer",
   "metadata": {},
   "outputs": [],
   "source": [
    "# making a key derivation using md5 hash algorithm\n",
    "Hash = hashlib.pbkdf2_hmac(hash_name=\"md5\" ,password=b\"manish\", salt=b\"Kumar\" , iterations =100100 , dklen = 64 )"
   ]
  },
  {
   "cell_type": "markdown",
   "id": "mysterious-fluid",
   "metadata": {},
   "source": [
    "Now if we print this."
   ]
  },
  {
   "cell_type": "code",
   "execution_count": 95,
   "id": "coral-asian",
   "metadata": {},
   "outputs": [
    {
     "name": "stdout",
     "output_type": "stream",
     "text": [
      "b'\\xde\\xf6\\xc3!\\xee\\x1b\\\\(I\\xa2Y\\xfe\\xfd\\xac\\xd9\\xfd\\xb9\\x923\\x83Z\\xc9U\\x08m\\x8ahOp\\xcc#G\\x85\\xaeK\\\\ x\\xb9\\xd3E\\x00\\xde#\\xeb\\x12;\\x9b$\\x86\\xe5\\xe7{7\\xfc-\\xda\\xd1\\xa4,J\\x1b\\xad4'\n"
     ]
    }
   ],
   "source": [
    "# printing the hash value\n",
    "print(Hash)"
   ]
  },
  {
   "cell_type": "code",
   "execution_count": 96,
   "id": "directed-finance",
   "metadata": {},
   "outputs": [
    {
     "data": {
      "text/plain": [
       "'def6c321ee1b5c2849a259fefdacd9fdb99233835ac955086d8a684f70cc234785ae4b5c2078b9d34500de23eb123b9b2486e5e77b37fc2ddad1a42c4a1bad34'"
      ]
     },
     "execution_count": 96,
     "metadata": {},
     "output_type": "execute_result"
    }
   ],
   "source": [
    "# printing the hash value in hex format\n",
    "Hash.hex()"
   ]
  },
  {
   "cell_type": "markdown",
   "id": "psychological-telling",
   "metadata": {},
   "source": [
    "### 2. scrypt()"
   ]
  },
  {
   "cell_type": "markdown",
   "id": "alpha-michigan",
   "metadata": {},
   "source": [
    "This function provides scrypt pasword-based key deerivation function as defined in RFC  7914. in general it takes seven parameters.\n",
    "```ruby\n",
    "scrypt(password, *, salt=None, n=None, r=None, p=None, maxmem=0, dklen=64)\n",
    "\n",
    "password: \"The b string by which we are generating a hash key.\"\n",
    "salt: \"extra b string to create a random and complex hash key\"\n",
    "n: \"This is the CPU/Memory cost factor.\"\n",
    "r: \"This is block size of the hash object.\"\n",
    "p:\"parallelization factor.\"\n",
    "maxmen:\"maximum memory limit using by the hash algorithm.\"\n",
    "dklen: \"it is the digest lenght of hash object\"\n",
    "```"
   ]
  },
  {
   "cell_type": "markdown",
   "id": "conventional-award",
   "metadata": {},
   "source": [
    "**Now creating a new key using the scrypt key derivation function**"
   ]
  },
  {
   "cell_type": "code",
   "execution_count": 102,
   "id": "requested-economy",
   "metadata": {},
   "outputs": [
    {
     "ename": "ValueError",
     "evalue": "Invalid parameter combination for n, r, p, maxmem.",
     "output_type": "error",
     "traceback": [
      "\u001b[1;31m---------------------------------------------------------------------------\u001b[0m",
      "\u001b[1;31mValueError\u001b[0m                                Traceback (most recent call last)",
      "\u001b[1;32m<ipython-input-102-600661c8f8a7>\u001b[0m in \u001b[0;36m<module>\u001b[1;34m\u001b[0m\n\u001b[1;32m----> 1\u001b[1;33m \u001b[0mHash\u001b[0m \u001b[1;33m=\u001b[0m \u001b[0mhashlib\u001b[0m\u001b[1;33m.\u001b[0m\u001b[0mscrypt\u001b[0m\u001b[1;33m(\u001b[0m\u001b[0mpassword\u001b[0m \u001b[1;33m=\u001b[0m \u001b[1;34mb\"manish\"\u001b[0m\u001b[1;33m,\u001b[0m \u001b[0msalt\u001b[0m\u001b[1;33m=\u001b[0m\u001b[1;34mb\"kumar\"\u001b[0m\u001b[1;33m,\u001b[0m \u001b[0mdklen\u001b[0m \u001b[1;33m=\u001b[0m \u001b[1;36m64\u001b[0m \u001b[1;33m,\u001b[0m \u001b[0mn\u001b[0m\u001b[1;33m=\u001b[0m\u001b[1;36m4\u001b[0m\u001b[1;33m,\u001b[0m \u001b[0mr\u001b[0m\u001b[1;33m=\u001b[0m\u001b[1;36m32\u001b[0m\u001b[1;33m,\u001b[0m \u001b[0mp\u001b[0m\u001b[1;33m=\u001b[0m\u001b[1;36m1\u001b[0m\u001b[1;33m,\u001b[0m \u001b[0mmaxmem\u001b[0m\u001b[1;33m=\u001b[0m\u001b[1;36m1024\u001b[0m \u001b[1;33m)\u001b[0m\u001b[1;33m\u001b[0m\u001b[1;33m\u001b[0m\u001b[0m\n\u001b[0m\u001b[0;32m      2\u001b[0m \u001b[1;31m# printing the hash key\u001b[0m\u001b[1;33m\u001b[0m\u001b[1;33m\u001b[0m\u001b[1;33m\u001b[0m\u001b[0m\n\u001b[0;32m      3\u001b[0m \u001b[0mprint\u001b[0m\u001b[1;33m(\u001b[0m\u001b[0mHash\u001b[0m\u001b[1;33m)\u001b[0m\u001b[1;33m\u001b[0m\u001b[1;33m\u001b[0m\u001b[0m\n",
      "\u001b[1;31mValueError\u001b[0m: Invalid parameter combination for n, r, p, maxmem."
     ]
    }
   ],
   "source": [
    "Hash = hashlib.scrypt(password = b\"manish\", salt=b\"kumar\", dklen = 64 , n=4, r=32, p=1, maxmem=1024 )\n",
    "# printing the hash key\n",
    "print(Hash)"
   ]
  },
  {
   "cell_type": "markdown",
   "id": "located-amazon",
   "metadata": {},
   "source": [
    "we will see it later , with more information about this algorithm"
   ]
  },
  {
   "cell_type": "markdown",
   "id": "modern-brother",
   "metadata": {},
   "source": [
    "----\n",
    "## BLAKE2\n",
    "BLAKE2 is a cryptogarphic hash function defined in RFC RFC 7693 that comes in two flavours:\n",
    "\n",
    "`BLAKE2B:` optimized for 64-bit platforms and produces digests of any isze b/w 1-64 bytes.\n",
    "\n",
    "`BLAKE2S:`optimized for 32-bit platforms and produces digests of any size b/w 1-32 bytes.\n",
    "\n",
    "BLAKE2 supports keyed mode, salted hashing, personalization and tree hashing."
   ]
  },
  {
   "cell_type": "markdown",
   "id": "empirical-barrier",
   "metadata": {},
   "source": [
    "#### Creating hash objects\n",
    "```ruby\n",
    "blake2b(data=b'', /, *, digest_size=64, key=b'', salt=b'', person=b'', fanout=1, depth=1, leaf_size=0, node_offset=0, node_depth=0, inner_size=0, last_node=False)\n",
    "```\n",
    "`data:` initial chunk of data to hash, which must be bytes-like object. it can be passed only as positional argument.\n",
    "\n",
    "`digest_size:` size of output digest in bytes.\n",
    "\n",
    "`key:` key for keyed hashing:\n",
    "\n",
    "`salt:` salt for the randomized hashing.\n",
    "\n",
    "`person:` Personalization string."
   ]
  },
  {
   "cell_type": "code",
   "execution_count": 104,
   "id": "ordered-selling",
   "metadata": {},
   "outputs": [
    {
     "name": "stdout",
     "output_type": "stream",
     "text": [
      "Help on class blake2b in module _blake2:\n",
      "\n",
      "class blake2b(builtins.object)\n",
      " |  blake2b(data=b'', /, *, digest_size=64, key=b'', salt=b'', person=b'', fanout=1, depth=1, leaf_size=0, node_offset=0, node_depth=0, inner_size=0, last_node=False)\n",
      " |  \n",
      " |  Return a new BLAKE2b hash object.\n",
      " |  \n",
      " |  Methods defined here:\n",
      " |  \n",
      " |  copy(self, /)\n",
      " |      Return a copy of the hash object.\n",
      " |  \n",
      " |  digest(self, /)\n",
      " |      Return the digest value as a bytes object.\n",
      " |  \n",
      " |  hexdigest(self, /)\n",
      " |      Return the digest value as a string of hexadecimal digits.\n",
      " |  \n",
      " |  update(self, data, /)\n",
      " |      Update this hash object's state with the provided bytes-like object.\n",
      " |  \n",
      " |  ----------------------------------------------------------------------\n",
      " |  Static methods defined here:\n",
      " |  \n",
      " |  __new__(*args, **kwargs) from builtins.type\n",
      " |      Create and return a new object.  See help(type) for accurate signature.\n",
      " |  \n",
      " |  ----------------------------------------------------------------------\n",
      " |  Data descriptors defined here:\n",
      " |  \n",
      " |  block_size\n",
      " |  \n",
      " |  digest_size\n",
      " |  \n",
      " |  name\n",
      " |  \n",
      " |  ----------------------------------------------------------------------\n",
      " |  Data and other attributes defined here:\n",
      " |  \n",
      " |  MAX_DIGEST_SIZE = 64\n",
      " |  \n",
      " |  MAX_KEY_SIZE = 64\n",
      " |  \n",
      " |  PERSON_SIZE = 16\n",
      " |  \n",
      " |  SALT_SIZE = 16\n",
      "\n"
     ]
    }
   ],
   "source": [
    "# description of the black2b object using help function\n",
    "help(hashlib.blake2b)"
   ]
  },
  {
   "cell_type": "markdown",
   "id": "unauthorized-twelve",
   "metadata": {},
   "source": [
    "---\n",
    "#### 1. Simple Hashing\n",
    "This simple hashing is same as we done in above section (md5 section.), in this we dont provide any addtional paramaters to the blake2b function."
   ]
  },
  {
   "cell_type": "code",
   "execution_count": 106,
   "id": "amino-contributor",
   "metadata": {},
   "outputs": [
    {
     "name": "stdout",
     "output_type": "stream",
     "text": [
      "4386a08a265111c9896f56456e2cb61a64239115c4784cf438e36cc851221972da3fb0115f73cd02486254001f878ab1fd126aac69844ef1c1ca152379d0a9bd\n",
      "digest size:  64\n"
     ]
    }
   ],
   "source": [
    "# simple hashing needs no addintional parameters.\n",
    "# using 64-bit \n",
    "Hash = hashlib.blake2b()\n",
    "Hash.update(b\"Hello World\")\n",
    "\n",
    "print(Hash.hexdigest())\n",
    "print(\"digest size: \",Hash.digest_size)"
   ]
  },
  {
   "cell_type": "markdown",
   "id": "dimensional-sally",
   "metadata": {},
   "source": [
    "**we can also use a different digest size.**"
   ]
  },
  {
   "cell_type": "code",
   "execution_count": 107,
   "id": "intended-diabetes",
   "metadata": {},
   "outputs": [
    {
     "name": "stdout",
     "output_type": "stream",
     "text": [
      "080b13e1d4ef82de77f15ec360e0eee3e3b51cf974f512d9f8ce6b974b6d\n",
      "digest size:  30\n"
     ]
    }
   ],
   "source": [
    "Hash = hashlib.blake2b(digest_size=30)\n",
    "Hash.update(b\"Hello World\")\n",
    "\n",
    "print(Hash.hexdigest())\n",
    "print(\"digest size: \",Hash.digest_size)"
   ]
  },
  {
   "cell_type": "markdown",
   "id": "white-aquarium",
   "metadata": {},
   "source": [
    "`Note:` Note that digest size is an important fator to make a secure hash. larger bytes make a more complex hash values and reduces the collision risks."
   ]
  },
  {
   "cell_type": "markdown",
   "id": "korean-hostel",
   "metadata": {},
   "source": [
    "---\n",
    "#### 2. Keyed Hashing\n",
    "Keyed hashing can be used for authentication as faster and simpler repleacement for hash based message authentication code (HMAC). BLAKE2 can be securrelu used in prefix-MAC mode.\n",
    "\n",
    "To make a keyed hashing we just need to pass a key in the blake2b function."
   ]
  },
  {
   "cell_type": "code",
   "execution_count": 108,
   "id": "seven-bunny",
   "metadata": {},
   "outputs": [
    {
     "name": "stdout",
     "output_type": "stream",
     "text": [
      "db158dca338ce0a4b92c547b5471363e17a8488430e8f18fe3b6647f10c6\n",
      "digest size:  30\n"
     ]
    }
   ],
   "source": [
    "# making a keyed hashing.\n",
    "Hash = hashlib.blake2b(key = b\"Manish\", digest_size=30)\n",
    "Hash.update(b\"Hello World\")\n",
    "\n",
    "print(Hash.hexdigest())\n",
    "print(\"digest size: \",Hash.digest_size)"
   ]
  },
  {
   "cell_type": "code",
   "execution_count": 109,
   "id": "welcome-peninsula",
   "metadata": {},
   "outputs": [
    {
     "name": "stdout",
     "output_type": "stream",
     "text": [
      "4dd0db4006738a2139d26b0ea76cb92eaa82eb0ad79ba485b3ad6442c707\n",
      "digest size:  30\n"
     ]
    }
   ],
   "source": [
    "# making a keyed hashing.\n",
    "Hash = hashlib.blake2b(key = b\"Kumar\", digest_size=30)\n",
    "Hash.update(b\"Hello World\")\n",
    "\n",
    "print(Hash.hexdigest())\n",
    "print(\"digest size: \",Hash.digest_size)"
   ]
  },
  {
   "cell_type": "markdown",
   "id": "lightweight-satin",
   "metadata": {},
   "source": [
    "As you can see that with different key we have different hash value for common message. by using a keyed hashing we can make a simple user verifiation programme."
   ]
  },
  {
   "cell_type": "code",
   "execution_count": 110,
   "id": "supposed-nigeria",
   "metadata": {},
   "outputs": [],
   "source": [
    "from hmac import compare_digest"
   ]
  },
  {
   "cell_type": "code",
   "execution_count": 118,
   "id": "injured-stranger",
   "metadata": {},
   "outputs": [],
   "source": [
    "# now to make a keyed hashing we need two things one key and digest size.\n",
    "KEY = b\"Hello thie is security key\"\n",
    "SIZE = 30 # 30 bytes\n",
    "\n",
    "# Now we will make a sign function which will hash the user information.\n",
    "def user_sign(user_info):\n",
    "    # making a hash object\n",
    "    Hash = hashlib.blake2b(key = KEY , digest_size=SIZE)\n",
    "    # feed the message to the object\n",
    "    Hash.update(user_info.encode())\n",
    "    return Hash.hexdigest()\n",
    "\n",
    "\n",
    "# now we will \n",
    "def varify_information(user_info, stored_info):\n",
    "    \"\"\"\n",
    "    stored_info: it is the information which is stored in the system during the sign in.\n",
    "    user_info: it the information when we login in the system then it will be mathched with our stored information. \n",
    "                if they match it means that user varified.\n",
    "                \n",
    "                we will use the compare_digest() fucntion from hmac module.\n",
    "    \"\"\"\n",
    "    # using the user_sign to hash the user info.\n",
    "    result = user_sign(user_info)\n",
    "    \n",
    "    return compare_digest(result, stored_info)\n",
    "    \n",
    "    "
   ]
  },
  {
   "cell_type": "markdown",
   "id": "behind-destination",
   "metadata": {},
   "source": [
    "Now we have the user_sing_info functionality to matches the user functionallity "
   ]
  },
  {
   "cell_type": "code",
   "execution_count": 121,
   "id": "induced-absence",
   "metadata": {},
   "outputs": [],
   "source": [
    "signin = user_sign(\"Manish Kumar\")"
   ]
  },
  {
   "cell_type": "markdown",
   "id": "accomplished-child",
   "metadata": {},
   "source": [
    "Now we have signed up, now if we loging. with different user then it will return False if the user informatin wrong."
   ]
  },
  {
   "cell_type": "code",
   "execution_count": 124,
   "id": "ecological-combination",
   "metadata": {},
   "outputs": [
    {
     "name": "stdout",
     "output_type": "stream",
     "text": [
      "login states:  False\n"
     ]
    }
   ],
   "source": [
    "login = varify_information(\"Rahul Kumar\", signin)\n",
    "print(\"login states: \",login)"
   ]
  },
  {
   "cell_type": "markdown",
   "id": "declared-garlic",
   "metadata": {},
   "source": [
    "Now if we login with the signed up user."
   ]
  },
  {
   "cell_type": "code",
   "execution_count": 125,
   "id": "stupid-wheat",
   "metadata": {},
   "outputs": [
    {
     "name": "stdout",
     "output_type": "stream",
     "text": [
      "login states:  True\n"
     ]
    }
   ],
   "source": [
    "login = varify_information(\"Manish Kumar\", signin)\n",
    "print(\"login states: \",login)"
   ]
  },
  {
   "cell_type": "markdown",
   "id": "pending-copyright",
   "metadata": {},
   "source": [
    "---\n",
    "#### 3. Randomized Hashing\n",
    "By setting salt parameters users can introduce randomization to the hash function. Randomized hashing is useful for protecting against collistion attacks on the hash funcition used in digital signatures."
   ]
  },
  {
   "cell_type": "code",
   "execution_count": 126,
   "id": "searching-mechanism",
   "metadata": {},
   "outputs": [
    {
     "data": {
      "text/plain": [
       "16"
      ]
     },
     "execution_count": 126,
     "metadata": {},
     "output_type": "execute_result"
    }
   ],
   "source": [
    "hashlib.blake2b.SALT_SIZE"
   ]
  },
  {
   "cell_type": "code",
   "execution_count": 128,
   "id": "czech-hypothesis",
   "metadata": {},
   "outputs": [
    {
     "data": {
      "text/plain": [
       "b'\\t\\x998\\x995\\xa18Eh8\\x14\\x11)\\xf6\\xaaG'"
      ]
     },
     "execution_count": 128,
     "metadata": {},
     "output_type": "execute_result"
    }
   ],
   "source": [
    "os.urandom(hashlib.blake2b.SALT_SIZE)"
   ]
  },
  {
   "cell_type": "code",
   "execution_count": 130,
   "id": "technical-spray",
   "metadata": {},
   "outputs": [
    {
     "name": "stdout",
     "output_type": "stream",
     "text": [
      "Hash with salt1:  e8d9bd2e61442718691cac8a8e2b1b42ca19aa541b9045fc3251f337d12c\n",
      "Hash with salt2:  048113583a2c63fd7985d9877caa6b928bc3e55d0918749db87e4a049369\n",
      "Is both are same:  False\n"
     ]
    }
   ],
   "source": [
    "# making a randomized hashing using a salt key.\n",
    "# in this we will hash a message with two different random salt\n",
    "salt1 = os.urandom(hashlib.blake2b.SALT_SIZE)\n",
    "salt2 = os.urandom(hashlib.blake2b.SALT_SIZE)\n",
    "\n",
    "message = b\"Hello every one how are you.\"\n",
    "\n",
    "# hashing with first salt.\n",
    "Hash1 = hashlib.blake2b(salt =salt1 ,digest_size=30)\n",
    "Hash1.update(message)\n",
    "\n",
    "# hashing with second salt.\n",
    "Hash2 = hashlib.blake2b(salt =salt2 ,digest_size=30)\n",
    "Hash2.update(message)\n",
    "\n",
    "print(\"Hash with salt1: \",Hash1.hexdigest())\n",
    "print(\"Hash with salt2: \",Hash2.hexdigest())\n",
    "print(\"Is both are same: \",compare_digest(Hash1.hexdigest(),Hash2.hexdigest()))"
   ]
  },
  {
   "cell_type": "markdown",
   "id": "marked-butler",
   "metadata": {},
   "source": [
    "---\n",
    "#### 4. Personalization Hashing\n",
    "Sometimes it is useful to force hash function to produce different digests for the same input for different purposes."
   ]
  },
  {
   "cell_type": "code",
   "execution_count": 131,
   "id": "premier-tanzania",
   "metadata": {},
   "outputs": [
    {
     "name": "stdout",
     "output_type": "stream",
     "text": [
      "Hash with salt1:  10c249724ce7a0f83200d0f5e5d0eee479182e10f1d4ebd3e908f52ce802\n",
      "Hash with salt2:  1422220c19571721c300c1a90a2a943167d243609bdf344e82dd963b70a2\n",
      "Is both are same:  False\n"
     ]
    }
   ],
   "source": [
    "# now we will use the same message but with to different person key.\n",
    "Message = b\"Hello every one how are you.\"\n",
    "Person1 = b\"Manish Kuamr\"\n",
    "Person2 = b\"Rahul Kumar\"\n",
    "\n",
    "# hashing with first salt.\n",
    "Hash1 = hashlib.blake2b(person=Person1 ,digest_size=30)\n",
    "Hash1.update(Message)\n",
    "\n",
    "# hashing with second salt.\n",
    "Hash2 = hashlib.blake2b(person=Person2 ,digest_size=30)\n",
    "Hash2.update(Message)\n",
    "\n",
    "print(\"Hash with salt1: \",Hash1.hexdigest())\n",
    "print(\"Hash with salt2: \",Hash2.hexdigest())\n",
    "print(\"Is both are same: \",compare_digest(Hash1.hexdigest(),Hash2.hexdigest()))"
   ]
  },
  {
   "cell_type": "code",
   "execution_count": null,
   "id": "published-definition",
   "metadata": {},
   "outputs": [],
   "source": []
  },
  {
   "cell_type": "code",
   "execution_count": null,
   "id": "available-forest",
   "metadata": {},
   "outputs": [],
   "source": []
  }
 ],
 "metadata": {
  "kernelspec": {
   "display_name": "Python 3",
   "language": "python",
   "name": "python3"
  },
  "language_info": {
   "codemirror_mode": {
    "name": "ipython",
    "version": 3
   },
   "file_extension": ".py",
   "mimetype": "text/x-python",
   "name": "python",
   "nbconvert_exporter": "python",
   "pygments_lexer": "ipython3",
   "version": "3.8.3"
  }
 },
 "nbformat": 4,
 "nbformat_minor": 5
}
