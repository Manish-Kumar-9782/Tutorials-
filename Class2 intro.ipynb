{
 "cells": [
  {
   "cell_type": "markdown",
   "id": "b0a102ba-12c5-456c-9f49-415dbdb52357",
   "metadata": {},
   "source": [
    "data types"
   ]
  },
  {
   "cell_type": "markdown",
   "id": "5f2a670d-8c7b-44fd-92f1-cff4d2a8b39c",
   "metadata": {},
   "source": [
    "1. int, float (numaric)\n",
    "    * int: whole number 1,2,3,4....n.\n",
    "    * float: decimal number 1.23,434.55.\n",
    "\n",
    "2. string: sequence of character\n",
    "\n",
    "3. boolen: True, False\n",
    "\n",
    "4. list: \n",
    "```ruby\n",
    "list: [\"Manish\", 256, 52.526, object, True] \n",
    "```"
   ]
  },
  {
   "cell_type": "markdown",
   "id": "ecced25d-5a92-4272-9b43-37a01af02fc1",
   "metadata": {},
   "source": [
    "primitive data types"
   ]
  },
  {
   "cell_type": "markdown",
   "id": "5ec6108a-174b-4e46-83f0-c17f0249a09a",
   "metadata": {},
   "source": [
    "### Assignment operator (=)\n",
    "Assignment operator is used to assign/place right value to left_operand."
   ]
  },
  {
   "cell_type": "code",
   "execution_count": 4,
   "id": "c7054963-f35a-417a-a3e9-efd741cd3945",
   "metadata": {},
   "outputs": [],
   "source": [
    "a = 10  # 'a' is a variable"
   ]
  },
  {
   "cell_type": "code",
   "execution_count": 5,
   "id": "7e288f6c-d96f-462e-b7fc-77b404d2b2e6",
   "metadata": {},
   "outputs": [
    {
     "data": {
      "text/plain": [
       "10"
      ]
     },
     "execution_count": 5,
     "metadata": {},
     "output_type": "execute_result"
    }
   ],
   "source": [
    "a"
   ]
  },
  {
   "cell_type": "markdown",
   "id": "06c309e1-a7ad-4e24-8459-ad8472552856",
   "metadata": {},
   "source": [
    "`=` is an assignment operator\n",
    "\n",
    "left_part = right_part\n",
    "\n",
    "left_operand/lvalue = right_operand/rlvalue"
   ]
  },
  {
   "cell_type": "markdown",
   "id": "517e83a6-db46-4cab-9ccf-e78f9972565f",
   "metadata": {},
   "source": [
    "#### int data type\n",
    "int data types are numaric value (whole number) (-infinite to +inifinte by concept)"
   ]
  },
  {
   "cell_type": "code",
   "execution_count": 6,
   "id": "95866cd9-7512-4f67-bc9a-7d348a7e441f",
   "metadata": {},
   "outputs": [],
   "source": [
    "value1 = 12344"
   ]
  },
  {
   "cell_type": "markdown",
   "id": "417d988e-3d72-44f6-aaf6-c26948d7327d",
   "metadata": {},
   "source": [
    "Note: `value1` is a identifier (variable, function name, class name) (all of them object) "
   ]
  },
  {
   "cell_type": "code",
   "execution_count": 22,
   "id": "d93df061-f572-49a1-9f90-84563e1199d2",
   "metadata": {},
   "outputs": [],
   "source": [
    "kushal = '1' # '1' is a string\n",
    "ravi = 2 "
   ]
  },
  {
   "cell_type": "markdown",
   "id": "0c1a439f-99b8-46f0-985a-c205be4a2e2f",
   "metadata": {},
   "source": [
    "kushal and ravi (are identifier) variables to hold the given value"
   ]
  },
  {
   "cell_type": "code",
   "execution_count": 19,
   "id": "c3805bb8-e697-4d1e-80d8-e8e4ed11901a",
   "metadata": {},
   "outputs": [],
   "source": [
    "Name1 = \"kushal\"   # \"kushal\" is a string"
   ]
  },
  {
   "cell_type": "code",
   "execution_count": 20,
   "id": "44602194-3fd7-4876-9ab8-6ad427797662",
   "metadata": {},
   "outputs": [],
   "source": [
    "Name2 = \"ravi\"   # \"ravi\" is a string"
   ]
  },
  {
   "cell_type": "code",
   "execution_count": 15,
   "id": "9ad43d2c-d1d5-4015-a887-5842a86d7501",
   "metadata": {},
   "outputs": [
    {
     "data": {
      "text/plain": [
       "'kushal'"
      ]
     },
     "execution_count": 15,
     "metadata": {},
     "output_type": "execute_result"
    }
   ],
   "source": [
    "Name1"
   ]
  },
  {
   "cell_type": "code",
   "execution_count": 16,
   "id": "81d90eb6-fe18-4b90-9c6c-ff6632d02291",
   "metadata": {},
   "outputs": [
    {
     "data": {
      "text/plain": [
       "'1'"
      ]
     },
     "execution_count": 16,
     "metadata": {},
     "output_type": "execute_result"
    }
   ],
   "source": [
    "kushal"
   ]
  },
  {
   "cell_type": "code",
   "execution_count": 18,
   "id": "8f43dd6e-fbfc-4669-bd5e-d61cc939f87d",
   "metadata": {},
   "outputs": [
    {
     "data": {
      "text/plain": [
       "2"
      ]
     },
     "execution_count": 18,
     "metadata": {},
     "output_type": "execute_result"
    }
   ],
   "source": [
    "ravi"
   ]
  },
  {
   "cell_type": "markdown",
   "id": "f5791aaf-5695-4fb6-a0b9-d8f63fc8a268",
   "metadata": {},
   "source": [
    "**checking the type of variables**\n",
    "to check the type of a varible we use `type()` function."
   ]
  },
  {
   "cell_type": "code",
   "execution_count": 23,
   "id": "54da172a-36cd-4857-86f9-d289c5798996",
   "metadata": {},
   "outputs": [
    {
     "data": {
      "text/plain": [
       "str"
      ]
     },
     "execution_count": 23,
     "metadata": {},
     "output_type": "execute_result"
    }
   ],
   "source": [
    "# checking the Name1 \n",
    "type(Name1)"
   ]
  },
  {
   "cell_type": "code",
   "execution_count": 24,
   "id": "078efd96-811c-4952-af94-833c7e0b921c",
   "metadata": {},
   "outputs": [
    {
     "data": {
      "text/plain": [
       "str"
      ]
     },
     "execution_count": 24,
     "metadata": {},
     "output_type": "execute_result"
    }
   ],
   "source": [
    "# checking the kushal\n",
    "type(kushal)"
   ]
  },
  {
   "cell_type": "code",
   "execution_count": 25,
   "id": "27389657-bbdc-4ef6-b2b4-fa14f0b38c5e",
   "metadata": {},
   "outputs": [
    {
     "data": {
      "text/plain": [
       "int"
      ]
     },
     "execution_count": 25,
     "metadata": {},
     "output_type": "execute_result"
    }
   ],
   "source": [
    "# chekcing the ravi\n",
    "type(ravi)"
   ]
  },
  {
   "cell_type": "markdown",
   "id": "4a00ab58-061d-445e-b035-4109dee4f4f3",
   "metadata": {},
   "source": [
    "**Trying to add kushal and ravi**"
   ]
  },
  {
   "cell_type": "code",
   "execution_count": 26,
   "id": "a793c83e-108f-4377-991d-0f31c3f22ebe",
   "metadata": {},
   "outputs": [
    {
     "ename": "TypeError",
     "evalue": "can only concatenate str (not \"int\") to str",
     "output_type": "error",
     "traceback": [
      "\u001b[1;31m---------------------------------------------------------------------------\u001b[0m",
      "\u001b[1;31mTypeError\u001b[0m                                 Traceback (most recent call last)",
      "Input \u001b[1;32mIn [26]\u001b[0m, in \u001b[0;36m<cell line: 1>\u001b[1;34m()\u001b[0m\n\u001b[1;32m----> 1\u001b[0m \u001b[43mkushal\u001b[49m\u001b[43m \u001b[49m\u001b[38;5;241;43m+\u001b[39;49m\u001b[43m \u001b[49m\u001b[43mravi\u001b[49m\n",
      "\u001b[1;31mTypeError\u001b[0m: can only concatenate str (not \"int\") to str"
     ]
    }
   ],
   "source": [
    "kushal + ravi"
   ]
  },
  {
   "cell_type": "code",
   "execution_count": 27,
   "id": "c2fa9d0b-f94d-4014-bd7c-b4953a734968",
   "metadata": {},
   "outputs": [
    {
     "data": {
      "text/plain": [
       "2"
      ]
     },
     "execution_count": 27,
     "metadata": {},
     "output_type": "execute_result"
    }
   ],
   "source": [
    "ravi"
   ]
  },
  {
   "cell_type": "code",
   "execution_count": 31,
   "id": "f7a04ee7-c38e-4e97-9b62-452c1ec54e15",
   "metadata": {},
   "outputs": [
    {
     "data": {
      "text/plain": [
       "str"
      ]
     },
     "execution_count": 31,
     "metadata": {},
     "output_type": "execute_result"
    }
   ],
   "source": [
    "ravi = '2'\n",
    "type(ravi)"
   ]
  },
  {
   "cell_type": "code",
   "execution_count": 30,
   "id": "4b2d9964-c62b-42cb-b52d-345605d1fd99",
   "metadata": {},
   "outputs": [
    {
     "data": {
      "text/plain": [
       "'12'"
      ]
     },
     "execution_count": 30,
     "metadata": {},
     "output_type": "execute_result"
    }
   ],
   "source": [
    "kushal + ravi"
   ]
  },
  {
   "cell_type": "markdown",
   "id": "2095a4f8-db37-46c5-9c7b-30712a698190",
   "metadata": {},
   "source": [
    "Making two new variables to store int type data"
   ]
  },
  {
   "cell_type": "code",
   "execution_count": 38,
   "id": "6c2fe67b-6162-49ac-bb3c-e3cd3fbcf17f",
   "metadata": {},
   "outputs": [],
   "source": [
    "num1 = 1\n",
    "num2 = 2"
   ]
  },
  {
   "cell_type": "code",
   "execution_count": 39,
   "id": "b3fddd3b-2d98-4b5d-a09c-ade7303a2203",
   "metadata": {},
   "outputs": [
    {
     "data": {
      "text/plain": [
       "3"
      ]
     },
     "execution_count": 39,
     "metadata": {},
     "output_type": "execute_result"
    }
   ],
   "source": [
    "num1 + num2"
   ]
  },
  {
   "cell_type": "code",
   "execution_count": 40,
   "id": "ff2838a2-a094-4844-80da-9c3b66a841e7",
   "metadata": {},
   "outputs": [],
   "source": [
    "x1 = 2"
   ]
  },
  {
   "cell_type": "code",
   "execution_count": null,
   "id": "fd00d85e-31f8-4f82-bd93-ff18ffd3e5bc",
   "metadata": {},
   "outputs": [],
   "source": []
  },
  {
   "cell_type": "code",
   "execution_count": null,
   "id": "24fc0c11-dac4-494a-b8ec-7f8d56a86820",
   "metadata": {},
   "outputs": [],
   "source": []
  }
 ],
 "metadata": {
  "kernelspec": {
   "display_name": "Python 3 (ipykernel)",
   "language": "python",
   "name": "python3"
  },
  "language_info": {
   "codemirror_mode": {
    "name": "ipython",
    "version": 3
   },
   "file_extension": ".py",
   "mimetype": "text/x-python",
   "name": "python",
   "nbconvert_exporter": "python",
   "pygments_lexer": "ipython3",
   "version": "3.8.3"
  }
 },
 "nbformat": 4,
 "nbformat_minor": 5
}
