{
 "cells": [
  {
   "cell_type": "markdown",
   "metadata": {},
   "source": [
    "# Patterns\n",
    "\n",
    "### 1. Right Shift triangle\n",
    "```js\n",
    "*\n",
    "**\n",
    "***\n",
    "****\n",
    "*****\n",
    "******\n",
    "*******\n",
    "********\n",
    "*********\n",
    "**********\n",
    "````"
   ]
  },
  {
   "cell_type": "markdown",
   "metadata": {},
   "source": [
    "1. first we need to make two loop.\n",
    "2. outer loop \n",
    "3. inner loop (inside the outer loop)\n",
    "\n",
    "-> outer loop will work as row-controlling loop.\n",
    "\n",
    "-> inner loop will work as column-values inside the current row."
   ]
  },
  {
   "cell_type": "code",
   "execution_count": 2,
   "metadata": {},
   "outputs": [
    {
     "name": "stdout",
     "output_type": "stream",
     "text": [
      "*\n",
      "**\n",
      "***\n",
      "****\n",
      "*****\n",
      "******\n",
      "*******\n",
      "********\n",
      "*********\n",
      "**********\n"
     ]
    }
   ],
   "source": [
    "// outer loop to control the single row.\n",
    "for(let i = 1; i<=10; i++){\n",
    "\n",
    "    let str = \"\";\n",
    "    // inner loop to put the column values (*)\n",
    "    for(let j=1; j<=i; j++){\n",
    "        // this column will run upto the i-th value.\n",
    "        str+=\"*\";\n",
    "    }\n",
    "\n",
    "    console.log(str); // to change the row\n",
    "}"
   ]
  },
  {
   "cell_type": "markdown",
   "metadata": {},
   "source": [
    "### 2. Left Shift triangle"
   ]
  },
  {
   "cell_type": "markdown",
   "metadata": {},
   "source": [
    "```js\n",
    "          *\n",
    "         **\n",
    "        ***\n",
    "       ****\n",
    "      *****\n",
    "     ******\n",
    "    *******\n",
    "   ********\n",
    "  *********\n",
    " **********\n",
    "```"
   ]
  },
  {
   "cell_type": "markdown",
   "metadata": {},
   "source": [
    "* Here we need to put starts equal to i numbers.\n",
    "* But before we need to put i-10 number of white space `\" \"`; "
   ]
  },
  {
   "cell_type": "code",
   "execution_count": 5,
   "metadata": {},
   "outputs": [
    {
     "name": "stdout",
     "output_type": "stream",
     "text": [
      "         *\n",
      "        **\n",
      "       ***\n",
      "      ****\n",
      "     *****\n",
      "    ******\n",
      "   *******\n",
      "  ********\n",
      " *********\n",
      "**********\n"
     ]
    }
   ],
   "source": [
    "for(let i = 1; i<=10; i++){\n",
    "\n",
    "    let str = \"\";\n",
    "    // inner loop to put the column values (*)\n",
    "    for(let j=1; j<=10; j++){\n",
    "        // this column will run upto the i-th value.\n",
    "        if(j <=10-i){\n",
    "            str+=\" \";\n",
    "        }\n",
    "        else{\n",
    "            str+=\"*\";\n",
    "        }\n",
    "        \n",
    "    }\n",
    "\n",
    "    console.log(str); // to change the row\n",
    "}"
   ]
  },
  {
   "cell_type": "code",
   "execution_count": null,
   "metadata": {},
   "outputs": [],
   "source": []
  }
 ],
 "metadata": {
  "kernelspec": {
   "display_name": "JavaScript (Node.js)",
   "language": "javascript",
   "name": "javascript"
  },
  "language_info": {
   "file_extension": ".js",
   "mimetype": "application/javascript",
   "name": "javascript",
   "version": "16.17.0"
  },
  "orig_nbformat": 4
 },
 "nbformat": 4,
 "nbformat_minor": 2
}
