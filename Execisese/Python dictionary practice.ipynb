{
 "cells": [
  {
   "cell_type": "code",
   "execution_count": null,
   "id": "cubic-dylan",
   "metadata": {},
   "outputs": [],
   "source": [
    "def getmax(dic, getby = \"values\"):\n",
    "    \"\"\"\n",
    "    This function will be used to get the max vlaue from a dict.\n",
    "    dic: dictionary which in which we need to look for the max value.\n",
    "    getby: search the dictionary either in values or keys.\n",
    "    \n",
    "    return: This will return a tuple of key and value from a dictionary.\n",
    "    \"\"\"\n",
    "    items = list(dic.items())\n",
    "    \n",
    "    if getby ==  'values':\n",
    "        # in this we will get the max key, value with by vlaues.\n",
    "        values = list(dic.values())\n",
    "        \n",
    "        max_index = values.index(max(values))\n",
    "        return items[max_index]\n",
    "        \n",
    "    elif getby == 'keys':\n",
    "        # in this if we need to look which key is max then we will go for this section.\n",
    "        keys = list(dic.keys())\n",
    "        \n",
    "        max_index = keys.index(max(keys))\n",
    "        return items[max_index]\n",
    "    \n",
    "    else:\n",
    "        print(\"Key error\")\n",
    "    "
   ]
  },
  {
   "cell_type": "markdown",
   "id": "honey-politics",
   "metadata": {},
   "source": [
    "## Find a duplicate in a dictionary"
   ]
  },
  {
   "cell_type": "code",
   "execution_count": null,
   "id": "american-ensemble",
   "metadata": {},
   "outputs": [],
   "source": [
    "dic = {0: 5, 1: 4, 2: 1, 3: 2, 4: 2, 5: 2, 6: 3, 7: 5, 8: 2, 9: 5}\n",
    "# in this dictionary there are many duplicate.\n",
    "\n",
    "def getduplicate(dic):\n",
    "    \"\"\"\n",
    "    This function will get the duplicate from a dictionary and it will return the duplicate values keys.\n",
    "    \"\"\"\n",
    "    dup = {}\n",
    "    # first of all we will get the unique values with the help of set \n",
    "    unique_values = set(dic.values())\n",
    "    \n",
    "    # Now after getting the unique_values, we need to iterate over unique values.\n",
    "    for item in dic.items():\n",
    "        \n",
    "        if item[1] in unique_values:\n",
    "            \n",
    "            if item[1] not in dup.keys():    \n",
    "                dup [item[1]] = [item[0]]\n",
    "            else:\n",
    "                dup[item[1]].append(item[0])\n",
    "            \n",
    "    # NOw after getting the dict of for unique vlaue and their duplicate list \n",
    "    # we need to return only the duplicates. so we wll use the list comperhensive method to get the only duplicates.\n",
    "    return {i:k for i,k in zip(dup.keys(), dup.values()) if len(k) > 1} \n",
    "        "
   ]
  },
  {
   "cell_type": "code",
   "execution_count": null,
   "id": "chief-branch",
   "metadata": {},
   "outputs": [],
   "source": [
    "getduplicate(dic)"
   ]
  },
  {
   "cell_type": "markdown",
   "id": "sharing-horse",
   "metadata": {},
   "source": [
    "### Add common key values and combine the dict"
   ]
  },
  {
   "cell_type": "code",
   "execution_count": null,
   "id": "strong-alert",
   "metadata": {},
   "outputs": [],
   "source": [
    "d1 = {'a': 100, 'b': 200, 'c':300}\n",
    "d2 = {'a': 300, 'b': 200, 'd':400}\n",
    "\n",
    "def add_dict(dic1, dic2):\n",
    "    \n",
    "    dic1_keys = dic1.keys()\n",
    "    \n",
    "    for key, val in dic2.items():\n",
    "        \n",
    "        if key in dic1_keys:\n",
    "            dic1[key] = dic1[key] + val\n",
    "        else:\n",
    "            dic1[key] = val\n",
    "            \n",
    "    return dic1"
   ]
  },
  {
   "cell_type": "code",
   "execution_count": null,
   "id": "patient-circulation",
   "metadata": {},
   "outputs": [],
   "source": [
    "add_dict(d1, d2)"
   ]
  },
  {
   "cell_type": "markdown",
   "id": "electronic-quantum",
   "metadata": {},
   "source": [
    "## Combination of letters"
   ]
  },
  {
   "cell_type": "code",
   "execution_count": 54,
   "id": "located-redhead",
   "metadata": {},
   "outputs": [],
   "source": [
    "dic = {'1':['a','b'], '2':['c','d']}\n",
    "dic2 = {'1':['a','b'], '2':['c','d','e']}"
   ]
  },
  {
   "cell_type": "code",
   "execution_count": 55,
   "id": "sixth-participation",
   "metadata": {},
   "outputs": [],
   "source": [
    "l1 = dic.values()\n",
    "l2 = dic2.values()"
   ]
  },
  {
   "cell_type": "code",
   "execution_count": 56,
   "id": "civil-method",
   "metadata": {},
   "outputs": [],
   "source": [
    "l1 = list(l1)"
   ]
  },
  {
   "cell_type": "code",
   "execution_count": 57,
   "id": "early-union",
   "metadata": {},
   "outputs": [],
   "source": [
    "def combination(l1, l2):\n",
    "    \n",
    "    for letter1 in l1:\n",
    "        \n",
    "        for letter2 in l2:\n",
    "            print(letter1,letter2)\n",
    "        "
   ]
  },
  {
   "cell_type": "code",
   "execution_count": 58,
   "id": "falling-basis",
   "metadata": {},
   "outputs": [
    {
     "name": "stdout",
     "output_type": "stream",
     "text": [
      "a c\n",
      "a d\n",
      "b c\n",
      "b d\n"
     ]
    }
   ],
   "source": [
    "combination(l1[0], l1[1])"
   ]
  },
  {
   "cell_type": "code",
   "execution_count": 59,
   "id": "endless-dutch",
   "metadata": {},
   "outputs": [],
   "source": [
    "from itertools import product"
   ]
  },
  {
   "cell_type": "markdown",
   "id": "covered-attendance",
   "metadata": {},
   "source": [
    "## Python *args in a method.\n",
    "**args* is a wildcard argument keyword it means it can take any amount of argumet , and we can access them by using iteration method over the args. By using **args* we can pass multiple argument in a funtion without declaring them in a argument paranthesis."
   ]
  },
  {
   "cell_type": "code",
   "execution_count": 20,
   "id": "approximate-match",
   "metadata": {},
   "outputs": [
    {
     "name": "stdout",
     "output_type": "stream",
     "text": [
      "[[]]\n",
      "[['H']]\n",
      "[['H', 'e']]\n",
      "[['H', 'e', 'l']]\n",
      "[['H', 'e', 'l', 'l']]\n",
      "[['H', 'e', 'l', 'l', 'o']]\n",
      "[['H', 'e', 'l', 'l', 'o', 'M']]\n",
      "[['H', 'e', 'l', 'l', 'o', 'M', 'a']]\n",
      "[['H', 'e', 'l', 'l', 'o', 'M', 'a', 'n']]\n",
      "[['H', 'e', 'l', 'l', 'o', 'M', 'a', 'n', 'i']]\n",
      "[['H', 'e', 'l', 'l', 'o', 'M', 'a', 'n', 'i', 's']]\n"
     ]
    }
   ],
   "source": [
    "for pool in pools:\n",
    "    print(result)\n",
    "    result = [x+[y] for x in result for y in pool]"
   ]
  },
  {
   "cell_type": "code",
   "execution_count": 54,
   "id": "living-absorption",
   "metadata": {},
   "outputs": [],
   "source": [
    "def new_product(*args):\n",
    "    \n",
    "    \n",
    "    pools = args\n",
    "    print(pools)\n",
    "    result = [[]]\n",
    "    res = [[]]\n",
    "    for pool in pools:\n",
    "        print(pool)\n",
    "        print(\"----------------------\")\n",
    "        for y in pool:\n",
    "            for x in res:\n",
    "                \n",
    "                res = [x+[y]]\n",
    "                \n",
    "        print(res)\n",
    "        result = res\n",
    "        print(result)"
   ]
  },
  {
   "cell_type": "markdown",
   "id": "dominant-accused",
   "metadata": {},
   "source": [
    "## 3 Gighest values in dict with keys"
   ]
  },
  {
   "cell_type": "code",
   "execution_count": 240,
   "id": "advanced-population",
   "metadata": {},
   "outputs": [],
   "source": [
    "# to get this done first of all we need to sort the dict with sorted method.\n",
    "\n",
    "def get_highest(dic, range_=3):\n",
    "    \n",
    "    from operator import itemgetter\n",
    "\n",
    "    highest = []\n",
    "    # now we need to sort the dict\n",
    "    \n",
    "    dic = dict(sorted(dic.items(), key = itemgetter(1), reverse=True))\n",
    "    # itemgetter(1) for to sort the dict according to the values.\n",
    "    #print(dic)\n",
    "    \n",
    "    values = tuple(dic.values())\n",
    "    key = tuple(dic.keys())\n",
    "    \n",
    "    for i in range(range_):\n",
    "        highest.append((key[i], values[i]))\n",
    "        \n",
    "    return dict(highest)"
   ]
  },
  {
   "cell_type": "code",
   "execution_count": 256,
   "id": "renewable-architect",
   "metadata": {},
   "outputs": [],
   "source": [
    "def get_highest2(dic, range_=3):\n",
    "    \n",
    "    from operator import itemgetter\n",
    "    # now we need to sort the dict\n",
    "    \n",
    "    dic = sorted(dic.items(), key = itemgetter(1), reverse=True)\n",
    "    # itemgetter(1) for to sort the dict according to the values.\n",
    "    return dict(dic[:range_])"
   ]
  },
  {
   "cell_type": "code",
   "execution_count": 289,
   "id": "pediatric-utility",
   "metadata": {},
   "outputs": [],
   "source": [
    "import os"
   ]
  },
  {
   "cell_type": "code",
   "execution_count": 290,
   "id": "incident-warren",
   "metadata": {},
   "outputs": [],
   "source": [
    "os.chdir(r\"C:\\WorkData\\Programming\\Python\\MY PROJECTS\\STUDY MANAGEMENT - TYT\\data\")"
   ]
  },
  {
   "cell_type": "code",
   "execution_count": 291,
   "id": "metric-young",
   "metadata": {},
   "outputs": [
    {
     "data": {
      "text/plain": [
       "'C:\\\\WorkData\\\\Programming\\\\Python\\\\MY PROJECTS\\\\STUDY MANAGEMENT - TYT\\\\data'"
      ]
     },
     "execution_count": 291,
     "metadata": {},
     "output_type": "execute_result"
    }
   ],
   "source": [
    "os.getcwd()"
   ]
  },
  {
   "cell_type": "code",
   "execution_count": 292,
   "id": "norwegian-feelings",
   "metadata": {},
   "outputs": [],
   "source": [
    "file = open('temp','r')"
   ]
  },
  {
   "cell_type": "code",
   "execution_count": 295,
   "id": "higher-representation",
   "metadata": {},
   "outputs": [
    {
     "data": {
      "text/plain": [
       "False"
      ]
     },
     "execution_count": 295,
     "metadata": {},
     "output_type": "execute_result"
    }
   ],
   "source": [
    "file."
   ]
  },
  {
   "cell_type": "code",
   "execution_count": 298,
   "id": "stunning-salad",
   "metadata": {},
   "outputs": [
    {
     "data": {
      "text/plain": [
       "9"
      ]
     },
     "execution_count": 298,
     "metadata": {},
     "output_type": "execute_result"
    }
   ],
   "source": [
    "os.path.getsize('temp')"
   ]
  },
  {
   "cell_type": "code",
   "execution_count": 303,
   "id": "checked-plane",
   "metadata": {},
   "outputs": [],
   "source": [
    "import collections\n",
    "\n",
    "\n",
    "def deep_update(source, overrides):\n",
    "    \"\"\"\n",
    "    Update a nested dictionary or similar mapping.\n",
    "    Modify ``source`` in place.\n",
    "    \"\"\"\n",
    "    for key, value in overrides.items():\n",
    "        if isinstance(value, collections.Mapping) and value:\n",
    "            returned = deep_update(source.get(key, {}), value)\n",
    "            source[key] = returned\n",
    "        else:\n",
    "            source[key] = overrides[key]\n",
    "    return source"
   ]
  },
  {
   "cell_type": "code",
   "execution_count": 357,
   "id": "lyric-national",
   "metadata": {},
   "outputs": [],
   "source": [
    "Main = {'Root':{\"TM-TYT\":{\"Name\":\"TM-TYT\",\n",
    "               \"Topic\":{\"Card1\":None}}}}"
   ]
  },
  {
   "cell_type": "code",
   "execution_count": 322,
   "id": "absent-deployment",
   "metadata": {},
   "outputs": [],
   "source": [
    "child = {\"Topic\":{\"Card1\":{\"Name\":\"Card1\",\n",
    "                 \"Topic\":{}}}}"
   ]
  },
  {
   "cell_type": "code",
   "execution_count": 311,
   "id": "changed-boating",
   "metadata": {},
   "outputs": [
    {
     "data": {
      "text/plain": [
       "{'Card1': {'Name': 'Card1', 'Topic': {}},\n",
       " 'Root': {'Name': 'TMTYT', 'Topic': {'Card1': None}}}"
      ]
     },
     "execution_count": 311,
     "metadata": {},
     "output_type": "execute_result"
    }
   ],
   "source": [
    "deep_update(child,Main)"
   ]
  },
  {
   "cell_type": "code",
   "execution_count": 310,
   "id": "healthy-naples",
   "metadata": {},
   "outputs": [
    {
     "ename": "TypeError",
     "evalue": "Can't instantiate abstract class Mapping with abstract methods __getitem__, __iter__, __len__",
     "output_type": "error",
     "traceback": [
      "\u001b[1;31m---------------------------------------------------------------------------\u001b[0m",
      "\u001b[1;31mTypeError\u001b[0m                                 Traceback (most recent call last)",
      "\u001b[1;32m<ipython-input-310-702461de4205>\u001b[0m in \u001b[0;36m<module>\u001b[1;34m\u001b[0m\n\u001b[1;32m----> 1\u001b[1;33m \u001b[0mcollections\u001b[0m\u001b[1;33m.\u001b[0m\u001b[0mMapping\u001b[0m\u001b[1;33m(\u001b[0m\u001b[1;33m)\u001b[0m\u001b[1;33m\u001b[0m\u001b[1;33m\u001b[0m\u001b[0m\n\u001b[0m",
      "\u001b[1;31mTypeError\u001b[0m: Can't instantiate abstract class Mapping with abstract methods __getitem__, __iter__, __len__"
     ]
    }
   ],
   "source": [
    "collections.Mapping()"
   ]
  },
  {
   "cell_type": "code",
   "execution_count": 328,
   "id": "acquired-respect",
   "metadata": {},
   "outputs": [],
   "source": [
    "from collections import abc\n",
    "def deepupdate(original, update):\n",
    "    \"\"\"Recursively update a dict.\n",
    "\n",
    "    Subdict's won't be overwritten but also updated.\n",
    "    \"\"\"\n",
    "    if not isinstance(original, abc.Mapping):\n",
    "        return update\n",
    "    for key, value in update.items():\n",
    "        if isinstance(value, abc.Mapping):\n",
    "            print(\"Mapping\")\n",
    "            print(deepupdate(original.get(key, {}), value))\n",
    "            original[key] = deepupdate(original.get(key, {}), value)\n",
    "        else:\n",
    "            original[key] = value\n",
    "    return original"
   ]
  },
  {
   "cell_type": "code",
   "execution_count": 329,
   "id": "radical-ozone",
   "metadata": {},
   "outputs": [
    {
     "name": "stdout",
     "output_type": "stream",
     "text": [
      "Mapping\n",
      "Mapping\n",
      "Mapping\n",
      "{}\n",
      "{'Name': 'Card1', 'Topic': {}}\n",
      "Mapping\n",
      "{}\n",
      "{'Card1': {'Name': 'Card1', 'Topic': {}}}\n",
      "Mapping\n",
      "Mapping\n",
      "{}\n",
      "{'Name': 'Card1', 'Topic': {}}\n",
      "Mapping\n",
      "{}\n"
     ]
    },
    {
     "data": {
      "text/plain": [
       "{'Root': {'Name': 'TMTYT', 'Topic': {'Card1': None}},\n",
       " 'Topic': {'Card1': {'Name': 'Card1', 'Topic': {}}}}"
      ]
     },
     "execution_count": 329,
     "metadata": {},
     "output_type": "execute_result"
    }
   ],
   "source": [
    "deepupdate(Main,child)"
   ]
  },
  {
   "cell_type": "code",
   "execution_count": 24,
   "id": "institutional-coating",
   "metadata": {},
   "outputs": [],
   "source": [
    "Root = {\n",
    "  \"Root\": {\n",
    "    \"TM-TYT\": {\n",
    "      \"Type\": \"Project\",\n",
    "      \"Name\": \"TM-TYT\",\n",
    "      \"Date\": \"25-May-2021\",\n",
    "      \"Time\": \"10:23:34 AM\",\n",
    "      \"Topic\": {\"Card1\":\n",
    "                    {\"Type\": \"Subcard\",\n",
    "                      \"Name\": \"Card1\",\n",
    "                      \"Date\": \"25-May-2021\",\n",
    "                      \"Time\": \"10:23:34 AM\",\n",
    "                      \"Topic\": {\"Card1_1\": { \"Type\": \"Subcard\",\n",
    "                                              \"Name\": \"Card1_1\",\n",
    "                                              \"Date\": \"25-May-2021\",\n",
    "                                              \"Time\": \"10:23:34 AM\",\n",
    "                                              \"Topic\": {},\n",
    "                                              \"Target Hour\": \"001:00:00\",\n",
    "                                              \"EndDate\": \"1-January-2021\",\n",
    "                                              \"Progress\": 0,\n",
    "                                              \"Parent\": \"Root.TM-TYT.Card1\",\n",
    "                                              \"FullPath\": \"Root.TM-TYT.Card1.Card1_1\",\n",
    "                                              \"Childs\": 0}},\n",
    "                     \n",
    "                      \"Target Hour\": \"001:00:00\",\n",
    "                      \"EndDate\": \"1-January-2021\",\n",
    "                      \"Progress\": 0,\n",
    "                      \"Parent\": \"Root.TM-TYT\",\n",
    "                      \"FullPath\": \"Root.TM-TYT.Card1\",\n",
    "                      \"Childs\": 0},\n",
    "                \n",
    "                \"Card2\":\n",
    "                    {\"Type\": \"Subcard\",\n",
    "                      \"Name\": \"Card2\",\n",
    "                      \"Date\": \"25-May-2021\",\n",
    "                      \"Time\": \"10:23:34 AM\",\n",
    "                      \"Topic\": {},\n",
    "                      \"Target Hour\": \"001:00:00\",\n",
    "                      \"EndDate\": \"1-January-2021\",\n",
    "                      \"Progress\": 0,\n",
    "                      \"Parent\": \"Root.TM-TYT\",\n",
    "                      \"FullPath\": \"Root.TM-TYT.Card1\",\n",
    "                      \"Childs\": 0}},\n",
    "      \"Target Hour\": \"001:00:00\",\n",
    "      \"EndDate\": \"1-January-2021\",\n",
    "      \"Progress\": 0,\n",
    "      \"Parent\": \"Root\",\n",
    "      \"FullPath\": \"Root.TM-TYT\",\n",
    "      \"Childs\": 0\n",
    "    }\n",
    "  }\n",
    "}\n",
    "\n",
    "\n",
    "\n",
    "\n",
    "from collections import abc\n",
    "def recursive_keys(dic, fullName):\n",
    "    \n",
    "#     print(f\"{'_'*100}\\nGot New dic: \\n{'_'*100}\\n\",dic)\n",
    "    \n",
    "#     print(\"\")\n",
    "    parent = fullName.split('.')\n",
    "    print(\"Parents: \",parent )\n",
    "    \n",
    "    \n",
    "    key = parent[0]\n",
    "    print(f\"{'_'*100}\\nGetting {key} data:-\\n {'_'*100}\\n\")\n",
    "    \n",
    "    if key == '':\n",
    "        print(f\"{'*'*100}\\nGot Final dic: \\n{'*'*100}\\n\",dic)\n",
    "        \n",
    "        return dic\n",
    "    \n",
    "    if isinstance(dic.get(key) , abc.Mapping) and dic.get(key, None) != None:\n",
    "            \n",
    "        print(dic.get(key,None))\n",
    "        print(f\"{'*'*100}\\n{'_'*100}\\n{'*'*100}\")\n",
    "            \n",
    "        parent.pop(0)\n",
    "        \n",
    "        \n",
    "        dic[key] = recursive_keys(dic.get(key,{}),\".\".join(parent))\n",
    "        #print(f\"{'_'*100}\\nNew dic: \\n{'_'*100}\\n\",dic)\n",
    "            \n",
    "    else:\n",
    "        print(\"\\nRoot ends Here:\\n\")\n",
    "        if isinstance(dic.get('Topic'), abc.Mapping):\n",
    "            \n",
    "            print(f\"{'_'*100}\\n{'_'*100}\\n{'_'*100}\")\n",
    "            print(\"Topic got: \",dic.get('Topic'))\n",
    "            \n",
    "            #dic = dic[\"Topic\"]\n",
    "            dic[key] = recursive_keys(dic.get('Topic',None),\".\".join(parent))\n",
    "            print(f\"{'_'*100}\\n{'_'*100}\\n{'_'*100}\")\n",
    "            print(\"Got end dic: \",dic)\n",
    "        return dic\n",
    "#             if len(parent)<=1:\n",
    "#             print(f\"{'_'*100}\\nGetting final {key} data:-\\n {'_'*100}\\n\",dic.get(key,None))\n",
    "#             return dic[key]\n",
    "\n",
    "    return dic\n",
    "\n",
    "Main = {'Root':{\"TM-TYT\":{\"Name\":\"TM-TYT\",\n",
    "               \"Topic\":{\"Card1\":None}}}}\n",
    "\n",
    "fullName = 'Root.TM-TYT.Card1.Card1_1'"
   ]
  },
  {
   "cell_type": "code",
   "execution_count": null,
   "id": "quarterly-conspiracy",
   "metadata": {},
   "outputs": [],
   "source": []
  },
  {
   "cell_type": "code",
   "execution_count": 25,
   "id": "experienced-bottle",
   "metadata": {},
   "outputs": [],
   "source": [
    "def Dict_Update(Database, Data, fullName):\n",
    "    from collections.abc import Mapping\n",
    "    \n",
    "    Parent_list = fullName.split(\".\")\n",
    "    \n",
    "    def deep_update(Database, Data, Parent_list):\n",
    "        \n",
    "        # Now we need to check instance of mapping\n",
    "        print(Parent_list)\n",
    "        key = None\n",
    "        if len(Parent_list)<=0:\n",
    "           \n",
    "            \n",
    "            if len(Parent_list) == 0:\n",
    "                # then we have reached at the child level\n",
    "                # Now we need to add the child\n",
    "                print(\"Add new Data in Database:- \",Database)\n",
    "                Database['Topic'].update(Data)\n",
    "                \n",
    "                return Database\n",
    "        else:\n",
    "             key = Parent_list[0]\n",
    "                \n",
    "        if isinstance(Database.get(key,None),Mapping):\n",
    "            Parent_list.pop(0)\n",
    "            Datbase = deep_update(Database.get(key,None), Data, Parent_list)\n",
    "            \n",
    "        else:\n",
    "            if isinstance(Database.get('Topic',None), Mapping):\n",
    "                Database = deep_update(Database.get('Topic'), Data,Parent_list)\n",
    "        \n",
    "            return Database\n",
    "            \n",
    "        return Database\n",
    "    \n",
    "    return deep_update(Database,Data,Parent_list)"
   ]
  },
  {
   "cell_type": "code",
   "execution_count": 26,
   "id": "pointed-jersey",
   "metadata": {},
   "outputs": [
    {
     "name": "stdout",
     "output_type": "stream",
     "text": [
      "['Root', 'TM-TYT', 'Card1']\n",
      "['TM-TYT', 'Card1']\n",
      "['Card1']\n",
      "['Card1']\n",
      "[]\n",
      "Add new Data in Database:-  {'Type': 'Subcard', 'Name': 'Card1', 'Date': '25-May-2021', 'Time': '10:23:34 AM', 'Topic': {'Card1_1': {'Type': 'Subcard', 'Name': 'Card1_1', 'Date': '25-May-2021', 'Time': '10:23:34 AM', 'Topic': {}, 'Target Hour': '001:00:00', 'EndDate': '1-January-2021', 'Progress': 0, 'Parent': 'Root.TM-TYT.Card1', 'FullPath': 'Root.TM-TYT.Card1.Card1_1', 'Childs': 0}}, 'Target Hour': '001:00:00', 'EndDate': '1-January-2021', 'Progress': 0, 'Parent': 'Root.TM-TYT', 'FullPath': 'Root.TM-TYT.Card1', 'Childs': 0}\n"
     ]
    },
    {
     "data": {
      "text/plain": [
       "{'Root': {'TM-TYT': {'Type': 'Project',\n",
       "   'Name': 'TM-TYT',\n",
       "   'Date': '25-May-2021',\n",
       "   'Time': '10:23:34 AM',\n",
       "   'Topic': {'Card1': {'Type': 'Subcard',\n",
       "     'Name': 'Card1',\n",
       "     'Date': '25-May-2021',\n",
       "     'Time': '10:23:34 AM',\n",
       "     'Topic': {'Card1_1': {'Type': 'Subcard',\n",
       "       'Name': 'Card1_1',\n",
       "       'Date': '25-May-2021',\n",
       "       'Time': '10:23:34 AM',\n",
       "       'Topic': {},\n",
       "       'Target Hour': '001:00:00',\n",
       "       'EndDate': '1-January-2021',\n",
       "       'Progress': 0,\n",
       "       'Parent': 'Root.TM-TYT.Card1',\n",
       "       'FullPath': 'Root.TM-TYT.Card1.Card1_1',\n",
       "       'Childs': 0},\n",
       "      'Card1_2': {'Type': 'Project',\n",
       "       'Name': 'Card1_2',\n",
       "       'Date': '25-May-2021',\n",
       "       'Time': '10:23:34 AM',\n",
       "       'Topic': {},\n",
       "       'Target Hour': '001:00:00',\n",
       "       'EndDate': '1-January-2021',\n",
       "       'Progress': 0,\n",
       "       'Parent': 'Root.TM-TYT.Card1',\n",
       "       'FullPath': 'Root.TM-TYT.Card1.Card1_2',\n",
       "       'Childs': 0}},\n",
       "     'Target Hour': '001:00:00',\n",
       "     'EndDate': '1-January-2021',\n",
       "     'Progress': 0,\n",
       "     'Parent': 'Root.TM-TYT',\n",
       "     'FullPath': 'Root.TM-TYT.Card1',\n",
       "     'Childs': 0},\n",
       "    'Card2': {'Type': 'Subcard',\n",
       "     'Name': 'Card2',\n",
       "     'Date': '25-May-2021',\n",
       "     'Time': '10:23:34 AM',\n",
       "     'Topic': {},\n",
       "     'Target Hour': '001:00:00',\n",
       "     'EndDate': '1-January-2021',\n",
       "     'Progress': 0,\n",
       "     'Parent': 'Root.TM-TYT',\n",
       "     'FullPath': 'Root.TM-TYT.Card1',\n",
       "     'Childs': 0}},\n",
       "   'Target Hour': '001:00:00',\n",
       "   'EndDate': '1-January-2021',\n",
       "   'Progress': 0,\n",
       "   'Parent': 'Root',\n",
       "   'FullPath': 'Root.TM-TYT',\n",
       "   'Childs': 0}}}"
      ]
     },
     "execution_count": 26,
     "metadata": {},
     "output_type": "execute_result"
    }
   ],
   "source": [
    "\n",
    "fullName = 'Root.TM-TYT.Card1'\n",
    "parent = fullName.split('.')\n",
    "data = {\n",
    "    \"Card1_2\": {\n",
    "      \"Type\": \"Project\",\n",
    "      \"Name\": \"Card1_2\",\n",
    "      \"Date\": \"25-May-2021\",\n",
    "      \"Time\": \"10:23:34 AM\",\n",
    "      \"Topic\": {},\n",
    "      \"Target Hour\": \"001:00:00\",\n",
    "      \"EndDate\": \"1-January-2021\",\n",
    "      \"Progress\": 0,\n",
    "      \"Parent\": \"Root.TM-TYT.Card1\",\n",
    "      \"FullPath\": \"Root.TM-TYT.Card1.Card1_2\",\n",
    "      \"Childs\": 0\n",
    "    }\n",
    "  }\n",
    "Dict_Update(Root, data,fullName)"
   ]
  },
  {
   "cell_type": "code",
   "execution_count": 27,
   "id": "present-right",
   "metadata": {},
   "outputs": [],
   "source": [
    "Root = {'Root': {'TM-TYT': {'Type': 'Project',\n",
    "   'Name': 'TM-TYT',\n",
    "   'Date': '25-May-2021',\n",
    "   'Time': '10:23:34 AM',\n",
    "   'Topic': {'Card1': {'Type': 'Subcard',\n",
    "     'Name': 'Card1',\n",
    "     'Date': '25-May-2021',\n",
    "     'Time': '10:23:34 AM',\n",
    "     'Topic': {'Card1_1': {'Type': 'Subcard',\n",
    "       'Name': 'Card1_1',\n",
    "       'Date': '25-May-2021',\n",
    "       'Time': '10:23:34 AM',\n",
    "       'Topic': {},\n",
    "       'Target Hour': '001:00:00',\n",
    "       'EndDate': '1-January-2021',\n",
    "       'Progress': 0,\n",
    "       'Parent': 'Root.TM-TYT.Card1',\n",
    "       'FullPath': 'Root.TM-TYT.Card1.Card1_1',\n",
    "       'Childs': 0},\n",
    "      'Card1_2': {'Type': 'Project',\n",
    "       'Name': 'Card1_2',\n",
    "       'Date': '25-May-2021',\n",
    "       'Time': '10:23:34 AM',\n",
    "       'Topic': {},\n",
    "       'Target Hour': '001:00:00',\n",
    "       'EndDate': '1-January-2021',\n",
    "       'Progress': 0,\n",
    "       'Parent': 'Root.TM-TYT.Card1',\n",
    "       'FullPath': 'Root.TM-TYT.Card1.Card1_2',\n",
    "       'Childs': 0}},\n",
    "     'Target Hour': '001:00:00',\n",
    "     'EndDate': '1-January-2021',\n",
    "     'Progress': 0,\n",
    "     'Parent': 'Root.TM-TYT',\n",
    "     'FullPath': 'Root.TM-TYT.Card1',\n",
    "     'Childs': 0},\n",
    "    'Card2': {'Type': 'Subcard',\n",
    "     'Name': 'Card2',\n",
    "     'Date': '25-May-2021',\n",
    "     'Time': '10:23:34 AM',\n",
    "     'Topic': {},\n",
    "     'Target Hour': '001:00:00',\n",
    "     'EndDate': '1-January-2021',\n",
    "     'Progress': 0,\n",
    "     'Parent': 'Root.TM-TYT',\n",
    "     'FullPath': 'Root.TM-TYT.Card1',\n",
    "     'Childs': 0}},\n",
    "   'Target Hour': '001:00:00',\n",
    "   'EndDate': '1-January-2021',\n",
    "   'Progress': 0,\n",
    "   'Parent': 'Root',\n",
    "   'FullPath': 'Root.TM-TYT',\n",
    "   'Childs': 0}}}"
   ]
  },
  {
   "cell_type": "code",
   "execution_count": 32,
   "id": "serious-mission",
   "metadata": {},
   "outputs": [
    {
     "data": {
      "text/plain": [
       "dict_keys(['TM-TYT'])"
      ]
     },
     "execution_count": 32,
     "metadata": {},
     "output_type": "execute_result"
    }
   ],
   "source": [
    "Root['Root'].keys()"
   ]
  },
  {
   "cell_type": "code",
   "execution_count": 31,
   "id": "competent-demand",
   "metadata": {},
   "outputs": [
    {
     "data": {
      "text/plain": [
       "dict_keys(['Card1', 'Card2'])"
      ]
     },
     "execution_count": 31,
     "metadata": {},
     "output_type": "execute_result"
    }
   ],
   "source": [
    "Root['Root']['TM-TYT']['Topic'].keys()"
   ]
  },
  {
   "cell_type": "code",
   "execution_count": 33,
   "id": "hawaiian-black",
   "metadata": {},
   "outputs": [
    {
     "data": {
      "text/plain": [
       "dict_keys(['Card1_1', 'Card1_2'])"
      ]
     },
     "execution_count": 33,
     "metadata": {},
     "output_type": "execute_result"
    }
   ],
   "source": [
    "Root['Root']['TM-TYT']['Topic']['Card1']['Topic'].keys()"
   ]
  },
  {
   "cell_type": "code",
   "execution_count": 29,
   "id": "banner-administration",
   "metadata": {},
   "outputs": [
    {
     "data": {
      "text/plain": [
       "{'Type': 'Project',\n",
       " 'Name': 'TM-TYT',\n",
       " 'Date': '25-May-2021',\n",
       " 'Time': '10:23:34 AM',\n",
       " 'Topic': {'Card1': {'Type': 'Subcard',\n",
       "   'Name': 'Card1',\n",
       "   'Date': '25-May-2021',\n",
       "   'Time': '10:23:34 AM',\n",
       "   'Topic': {'Card1_1': {'Type': 'Subcard',\n",
       "     'Name': 'Card1_1',\n",
       "     'Date': '25-May-2021',\n",
       "     'Time': '10:23:34 AM',\n",
       "     'Topic': {},\n",
       "     'Target Hour': '001:00:00',\n",
       "     'EndDate': '1-January-2021',\n",
       "     'Progress': 0,\n",
       "     'Parent': 'Root.TM-TYT.Card1',\n",
       "     'FullPath': 'Root.TM-TYT.Card1.Card1_1',\n",
       "     'Childs': 0},\n",
       "    'Card1_2': {'Type': 'Project',\n",
       "     'Name': 'Card1_2',\n",
       "     'Date': '25-May-2021',\n",
       "     'Time': '10:23:34 AM',\n",
       "     'Topic': {},\n",
       "     'Target Hour': '001:00:00',\n",
       "     'EndDate': '1-January-2021',\n",
       "     'Progress': 0,\n",
       "     'Parent': 'Root.TM-TYT.Card1',\n",
       "     'FullPath': 'Root.TM-TYT.Card1.Card1_2',\n",
       "     'Childs': 0}},\n",
       "   'Target Hour': '001:00:00',\n",
       "   'EndDate': '1-January-2021',\n",
       "   'Progress': 0,\n",
       "   'Parent': 'Root.TM-TYT',\n",
       "   'FullPath': 'Root.TM-TYT.Card1',\n",
       "   'Childs': 0},\n",
       "  'Card2': {'Type': 'Subcard',\n",
       "   'Name': 'Card2',\n",
       "   'Date': '25-May-2021',\n",
       "   'Time': '10:23:34 AM',\n",
       "   'Topic': {},\n",
       "   'Target Hour': '001:00:00',\n",
       "   'EndDate': '1-January-2021',\n",
       "   'Progress': 0,\n",
       "   'Parent': 'Root.TM-TYT',\n",
       "   'FullPath': 'Root.TM-TYT.Card1',\n",
       "   'Childs': 0}},\n",
       " 'Target Hour': '001:00:00',\n",
       " 'EndDate': '1-January-2021',\n",
       " 'Progress': 0,\n",
       " 'Parent': 'Root',\n",
       " 'FullPath': 'Root.TM-TYT',\n",
       " 'Childs': 0}"
      ]
     },
     "execution_count": 29,
     "metadata": {},
     "output_type": "execute_result"
    }
   ],
   "source": [
    "Root['Root']['TM-TYT']"
   ]
  },
  {
   "cell_type": "code",
   "execution_count": null,
   "id": "patient-floating",
   "metadata": {},
   "outputs": [],
   "source": []
  }
 ],
 "metadata": {
  "kernelspec": {
   "display_name": "Python 3",
   "language": "python",
   "name": "python3"
  },
  "language_info": {
   "codemirror_mode": {
    "name": "ipython",
    "version": 3
   },
   "file_extension": ".py",
   "mimetype": "text/x-python",
   "name": "python",
   "nbconvert_exporter": "python",
   "pygments_lexer": "ipython3",
   "version": "3.8.3"
  }
 },
 "nbformat": 4,
 "nbformat_minor": 5
}
