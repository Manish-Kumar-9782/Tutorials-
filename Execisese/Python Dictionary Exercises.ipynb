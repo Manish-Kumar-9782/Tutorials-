{
 "cells": [
  {
   "cell_type": "markdown",
   "metadata": {},
   "source": [
    "#### 1. Write a Python script to sort (ascending and descending) a dictionary by value."
   ]
  },
  {
   "cell_type": "markdown",
   "metadata": {},
   "source": [
    "#### My code "
   ]
  },
  {
   "cell_type": "code",
   "execution_count": 28,
   "metadata": {},
   "outputs": [],
   "source": [
    "def dict_sort(dic):\n",
    "    \n",
    "    Dict2 = [k for k in dic.values()]\n",
    "    Dict2.sort()\n",
    "    New_dic = {}\n",
    "    pos = 0\n",
    "    while pos < len(Dict2):\n",
    "        \n",
    "        for i in dic:\n",
    "            \n",
    "            if dic[i] == Dict2[pos]:\n",
    "                \n",
    "                New_dic[i] = Dict2[pos]\n",
    "    \n",
    "        pos += 1     \n",
    "    \n",
    "    dic = New_dic\n",
    "    del New_dic\n",
    "    \n",
    "    return dic\n",
    "        \n",
    "        "
   ]
  },
  {
   "cell_type": "code",
   "execution_count": 29,
   "metadata": {},
   "outputs": [],
   "source": [
    "A = {1: 50, 2: 10, 3: 60, 4: 20, 5: 70, 6: 25}"
   ]
  },
  {
   "cell_type": "code",
   "execution_count": 30,
   "metadata": {},
   "outputs": [
    {
     "data": {
      "text/plain": [
       "{2: 10, 4: 20, 6: 25, 1: 50, 3: 60, 5: 70}"
      ]
     },
     "execution_count": 30,
     "metadata": {},
     "output_type": "execute_result"
    }
   ],
   "source": [
    "dict_sort(A)"
   ]
  },
  {
   "cell_type": "markdown",
   "metadata": {},
   "source": [
    "#### W3resourses code"
   ]
  },
  {
   "cell_type": "code",
   "execution_count": 2,
   "metadata": {},
   "outputs": [
    {
     "name": "stdout",
     "output_type": "stream",
     "text": [
      " Original dic is {1: 50, 2: 10, 3: 60, 4: 20, 5: 70, 6: 25}\n",
      "New dic is {2: 10, 4: 20, 6: 25, 1: 50, 3: 60, 5: 70}\n"
     ]
    }
   ],
   "source": [
    "import operator\n",
    "dic = {1: 50, 2: 10, 3: 60, 4: 20, 5: 70, 6: 25}\n",
    "\n",
    "print(f\" Original dic is {dic}\")\n",
    "\n",
    "sorted_dic = sorted(dic.items(), key = operator.itemgetter(1))\n",
    "# Here in this dic.items() will pass a list ot dict items in tuple format.\n",
    "# [(1, 50), (2, 10), (3, 60), (4, 20), (5, 70), (6, 25)] and this list will be sorted according to the index of the tuple\n",
    "# if we pass the index 1 in operator.itemgetter(1) then it will sort the dictionary according to the values.\n",
    "# if we pass the index 0 in opearator.itemgetter(0) the it will sort the dictionary according tho the keys.\n",
    "\n",
    "print(f\"New dic is {dict(sorted_dic)}\")\n"
   ]
  },
  {
   "cell_type": "markdown",
   "metadata": {},
   "source": [
    "#### 2. Write a Python script to add a key to a dictionary."
   ]
  },
  {
   "cell_type": "code",
   "execution_count": 34,
   "metadata": {},
   "outputs": [],
   "source": [
    "def add_key(dic,key):\n",
    "    \n",
    "    dic[key] = None\n",
    "        \n",
    "    return dic\n",
    "    \n",
    "    "
   ]
  },
  {
   "cell_type": "code",
   "execution_count": 35,
   "metadata": {},
   "outputs": [
    {
     "data": {
      "text/plain": [
       "{1: 50, 2: 10, 3: 60, 4: 20, 5: 70, 6: 25, 15: None}"
      ]
     },
     "execution_count": 35,
     "metadata": {},
     "output_type": "execute_result"
    }
   ],
   "source": [
    "add_key(A,15)"
   ]
  },
  {
   "cell_type": "code",
   "execution_count": 37,
   "metadata": {},
   "outputs": [],
   "source": [
    "A[15] = 17"
   ]
  },
  {
   "cell_type": "code",
   "execution_count": 38,
   "metadata": {},
   "outputs": [
    {
     "data": {
      "text/plain": [
       "{1: 50, 2: 10, 3: 60, 4: 20, 5: 70, 6: 25, 15: 17}"
      ]
     },
     "execution_count": 38,
     "metadata": {},
     "output_type": "execute_result"
    }
   ],
   "source": [
    "A"
   ]
  },
  {
   "cell_type": "code",
   "execution_count": 39,
   "metadata": {},
   "outputs": [],
   "source": [
    "A.update({25:30})"
   ]
  },
  {
   "cell_type": "code",
   "execution_count": 40,
   "metadata": {},
   "outputs": [
    {
     "data": {
      "text/plain": [
       "{1: 50, 2: 10, 3: 60, 4: 20, 5: 70, 6: 25, 15: 17, 25: 30}"
      ]
     },
     "execution_count": 40,
     "metadata": {},
     "output_type": "execute_result"
    }
   ],
   "source": [
    "A"
   ]
  },
  {
   "cell_type": "markdown",
   "metadata": {},
   "source": [
    "#### 3. Write a Python script to concatenate following dictionaries to create a new one."
   ]
  },
  {
   "cell_type": "code",
   "execution_count": 45,
   "metadata": {},
   "outputs": [],
   "source": [
    "dic1={1:10, 2:20}\n",
    "dic2={3:30, 4:40}\n",
    "dic3={5:50,6:60}\n",
    "\n",
    "dic_list = [dic1,dic2,dic3]\n",
    "\n",
    "def concat_dicts(dics):\n",
    "    \n",
    "    new_dic = {}\n",
    "    for i in dics:\n",
    "        new_dic.update(i)\n",
    "        \n",
    "    return new_dic "
   ]
  },
  {
   "cell_type": "code",
   "execution_count": 46,
   "metadata": {},
   "outputs": [
    {
     "data": {
      "text/plain": [
       "{1: 10, 2: 20, 3: 30, 4: 40, 5: 50, 6: 60}"
      ]
     },
     "execution_count": 46,
     "metadata": {},
     "output_type": "execute_result"
    }
   ],
   "source": [
    "concat_dicts(dic_list)"
   ]
  },
  {
   "cell_type": "markdown",
   "metadata": {},
   "source": [
    "#### 4. Write a Python script to check whether a given key already exists in a dictionary."
   ]
  },
  {
   "cell_type": "code",
   "execution_count": 74,
   "metadata": {},
   "outputs": [
    {
     "data": {
      "text/plain": [
       "True"
      ]
     },
     "execution_count": 74,
     "metadata": {},
     "output_type": "execute_result"
    }
   ],
   "source": [
    "def check_dict_key(dic, key):   \n",
    "\n",
    "    for k in dic.keys():\n",
    "        \n",
    "        if k == key:\n",
    "            \n",
    "            return True\n",
    "        else:\n",
    "            pass\n",
    "        \n",
    "    return False\n",
    "\n",
    "check_dict_key(A, 15)"
   ]
  },
  {
   "cell_type": "code",
   "execution_count": 75,
   "metadata": {},
   "outputs": [
    {
     "name": "stdout",
     "output_type": "stream",
     "text": [
      "value is not exist\n"
     ]
    }
   ],
   "source": [
    "def is_key_in_dict(dic,x):\n",
    "    \n",
    "    if x in dic:\n",
    "        print(\"value is exist\")\n",
    "    else:\n",
    "        print(\"value is not exist\")\n",
    "        \n",
    "is_key_in_dict(dic,223)"
   ]
  },
  {
   "cell_type": "code",
   "execution_count": 73,
   "metadata": {},
   "outputs": [
    {
     "data": {
      "text/plain": [
       "True"
      ]
     },
     "execution_count": 73,
     "metadata": {},
     "output_type": "execute_result"
    }
   ],
   "source": []
  },
  {
   "cell_type": "markdown",
   "metadata": {},
   "source": [
    "#### 5.Write a Python program to iterate over dictionaries using for loops."
   ]
  },
  {
   "cell_type": "code",
   "execution_count": 76,
   "metadata": {},
   "outputs": [
    {
     "name": "stdout",
     "output_type": "stream",
     "text": [
      "1: 50\n",
      "2: 10\n",
      "3: 60\n",
      "4: 20\n",
      "5: 70\n",
      "6: 25\n",
      "15: 17\n",
      "25: 30\n"
     ]
    }
   ],
   "source": [
    "def dic_iter(dic):\n",
    "    \n",
    "    for key, values in dic.items():\n",
    "        \n",
    "        print(f\"{key}: {values}\")\n",
    "        \n",
    "dic_iter(A)"
   ]
  },
  {
   "cell_type": "markdown",
   "metadata": {},
   "source": [
    "#### 6. Write a Python script to generate and print a dictionary that contains a number (between 1 and n) in the form (x, x*x). "
   ]
  },
  {
   "cell_type": "code",
   "execution_count": 81,
   "metadata": {},
   "outputs": [],
   "source": [
    "def dic_exponent(start,end,step=1):\n",
    "    dic ={}\n",
    "    for i in range(start,end+1,step):\n",
    "        \n",
    "        dic[i] = i*i\n",
    "        \n",
    "    return dic\n",
    "    "
   ]
  },
  {
   "cell_type": "code",
   "execution_count": 82,
   "metadata": {},
   "outputs": [
    {
     "data": {
      "text/plain": [
       "{1: 1, 2: 4, 3: 9, 4: 16, 5: 25, 6: 36, 7: 49, 8: 64, 9: 81, 10: 100}"
      ]
     },
     "execution_count": 82,
     "metadata": {},
     "output_type": "execute_result"
    }
   ],
   "source": [
    "dic_exponent(1,10)"
   ]
  },
  {
   "cell_type": "markdown",
   "metadata": {},
   "source": [
    "#### 7. Write a Python script to print a dictionary where the keys are numbers between 1 and 15 (both included) and the values are square of keys."
   ]
  },
  {
   "cell_type": "code",
   "execution_count": 83,
   "metadata": {},
   "outputs": [
    {
     "data": {
      "text/plain": [
       "{1: 1,\n",
       " 2: 4,\n",
       " 3: 9,\n",
       " 4: 16,\n",
       " 5: 25,\n",
       " 6: 36,\n",
       " 7: 49,\n",
       " 8: 64,\n",
       " 9: 81,\n",
       " 10: 100,\n",
       " 11: 121,\n",
       " 12: 144,\n",
       " 13: 169,\n",
       " 14: 196,\n",
       " 15: 225}"
      ]
     },
     "execution_count": 83,
     "metadata": {},
     "output_type": "execute_result"
    }
   ],
   "source": [
    "A = [i for i in range(1,16)]\n",
    "\n",
    "def key_square_dic(List):\n",
    "    dic ={}\n",
    "    for key in List:\n",
    "        \n",
    "        dic[key] = key**2\n",
    "        \n",
    "    return dic\n",
    "\n",
    "key_square_dic(A)"
   ]
  },
  {
   "cell_type": "markdown",
   "metadata": {},
   "source": [
    "#### 8. Write a Python script to merge two Python dictionaries."
   ]
  },
  {
   "cell_type": "code",
   "execution_count": 87,
   "metadata": {},
   "outputs": [
    {
     "name": "stdout",
     "output_type": "stream",
     "text": [
      "dict 1  {10: 100, 11: 121, 12: 144, 13: 169, 14: 196, 15: 225, 16: 256, 17: 289, 18: 324, 19: 361, 20: 400}\n",
      "dict 2  {25: 625, 26: 676, 27: 729, 28: 784, 29: 841}\n"
     ]
    },
    {
     "data": {
      "text/plain": [
       "{10: 100,\n",
       " 11: 121,\n",
       " 12: 144,\n",
       " 13: 169,\n",
       " 14: 196,\n",
       " 15: 225,\n",
       " 16: 256,\n",
       " 17: 289,\n",
       " 18: 324,\n",
       " 19: 361,\n",
       " 20: 400,\n",
       " 25: 625,\n",
       " 26: 676,\n",
       " 27: 729,\n",
       " 28: 784,\n",
       " 29: 841}"
      ]
     },
     "execution_count": 87,
     "metadata": {},
     "output_type": "execute_result"
    }
   ],
   "source": [
    "A = [i for i in range(10,21)]\n",
    "B = [i for i in range(25,30)]\n",
    "\n",
    "Adic = key_square_dic(A)\n",
    "Bdic = key_square_dic(B)\n",
    "\n",
    "print(f\"dict 1  {Adic}\")\n",
    "print(f\"dict 2  {Bdic}\")\n",
    "\n",
    "concat_dicts([Adic,Bdic])"
   ]
  },
  {
   "cell_type": "markdown",
   "metadata": {},
   "source": [
    "#### 9. Write a Python program to iterate over dictionaries using for loops."
   ]
  },
  {
   "cell_type": "code",
   "execution_count": 88,
   "metadata": {},
   "outputs": [],
   "source": [
    "# See example 5"
   ]
  },
  {
   "cell_type": "markdown",
   "metadata": {},
   "source": [
    "#### 10. Write a Python program to sum all the items in a dictionary."
   ]
  },
  {
   "cell_type": "code",
   "execution_count": 93,
   "metadata": {},
   "outputs": [
    {
     "name": "stdout",
     "output_type": "stream",
     "text": [
      "107\n"
     ]
    }
   ],
   "source": [
    "dict1 = {\"v1\":51,\"v2\":56 , \"v3\":96 , \"v4\":-89, \"v5\":78, \"v6\":-85} \n",
    "\n",
    "print(sum(dict1.values()))\n",
    "    \n",
    "    "
   ]
  },
  {
   "cell_type": "markdown",
   "metadata": {},
   "source": [
    "#### 11. Write a Python program to multiply all the items in a dictionary."
   ]
  },
  {
   "cell_type": "code",
   "execution_count": 94,
   "metadata": {},
   "outputs": [
    {
     "data": {
      "text/plain": [
       "161783032320"
      ]
     },
     "execution_count": 94,
     "metadata": {},
     "output_type": "execute_result"
    }
   ],
   "source": [
    "def mul_items(dic):\n",
    "    mul = 1 \n",
    "    for i in dic.values():\n",
    "            mul *=i\n",
    "            \n",
    "    return mul\n",
    "\n",
    "mul_items(dict1)\n",
    "        "
   ]
  },
  {
   "cell_type": "markdown",
   "metadata": {},
   "source": [
    "#### 12. Write a Python program to remove a key from a dictionary."
   ]
  },
  {
   "cell_type": "code",
   "execution_count": 96,
   "metadata": {},
   "outputs": [
    {
     "name": "stdout",
     "output_type": "stream",
     "text": [
      "before removing: {'v1': 51, 'v2': 56, 'v3': 96, 'v4': -89, 'v5': 78, 'v6': -85} \n",
      "\n",
      "After Removing {'v2': 56, 'v3': 96, 'v4': -89, 'v5': 78, 'v6': -85}\n"
     ]
    }
   ],
   "source": [
    "dict1 = {\"v1\":51,\"v2\":56 , \"v3\":96 , \"v4\":-89, \"v5\":78, \"v6\":-85} \n",
    "\n",
    "print(f\"before removing: {dict1} \")\n",
    "\n",
    "dict1.pop(\"v1\")\n",
    "print()\n",
    "print(f\"After Removing {dict1}\")"
   ]
  },
  {
   "cell_type": "code",
   "execution_count": 99,
   "metadata": {},
   "outputs": [
    {
     "name": "stdout",
     "output_type": "stream",
     "text": [
      "before removing: {'v1': 51, 'v2': 56, 'v3': 96, 'v4': -89, 'v5': 78, 'v6': -85} \n",
      "\n",
      "After Removing {'v2': 56, 'v3': 96, 'v4': -89, 'v5': 78, 'v6': -85}\n"
     ]
    }
   ],
   "source": [
    "dict1 = {\"v1\":51,\"v2\":56 , \"v3\":96 , \"v4\":-89, \"v5\":78, \"v6\":-85} \n",
    "\n",
    "print(f\"before removing: {dict1} \")\n",
    "\n",
    "def remove_key(dic,key):\n",
    "    \n",
    "    if key in dic:\n",
    "        del dic[key] # del is all use\n",
    "    return dic\n",
    "\n",
    "remove_key(dict1,\"v1\")\n",
    "print()\n",
    "print(f\"After Removing {dict1}\")\n"
   ]
  },
  {
   "cell_type": "markdown",
   "metadata": {},
   "source": [
    "#### 13. Write a Python program to map two lists into a dictionary."
   ]
  },
  {
   "cell_type": "code",
   "execution_count": 102,
   "metadata": {},
   "outputs": [
    {
     "data": {
      "text/plain": [
       "{'manish': 24, 'Anil': 23, 'Rahul': 18, 'Yogi': 26}"
      ]
     },
     "execution_count": 102,
     "metadata": {},
     "output_type": "execute_result"
    }
   ],
   "source": [
    "dict1 = {\"v1\":51,\"v2\":56 , \"v3\":96 , \"v4\":-89, \"v5\":78, \"v6\":-85} \n",
    "key = [\"manish\", \"Anil\",\"Rahul\", \"Yogi\" ]\n",
    "value = [24,23,18,26]\n",
    "\n",
    "def list_dict(key,value):\n",
    "    dic ={}\n",
    "    # for here to unpack multiple values you need to make it zip()\n",
    "    for k, v in zip(key,value):\n",
    "        \n",
    "        dic[k] =v\n",
    "        \n",
    "    return dic\n",
    "\n",
    "list_dict(key,value)\n"
   ]
  },
  {
   "cell_type": "markdown",
   "metadata": {},
   "source": [
    "#### 14. Write a Python program to sort a dictionary by key."
   ]
  },
  {
   "cell_type": "code",
   "execution_count": 103,
   "metadata": {},
   "outputs": [
    {
     "data": {
      "text/plain": [
       "{1: 50, 2: 10, 3: 60, 4: 20, 5: 70, 6: 25}"
      ]
     },
     "execution_count": 103,
     "metadata": {},
     "output_type": "execute_result"
    }
   ],
   "source": [
    "dic = {2: 10, 4: 20, 6: 25, 1: 50, 3: 60, 5: 70}\n",
    "\n",
    "def sort_by_key(dic):\n",
    "    result = {}\n",
    "    A = [i for i in dic.keys()]\n",
    "    A.sort()\n",
    "    \n",
    "    for i in A:\n",
    "        result[i] = dic[i]\n",
    "        \n",
    "    dic = result\n",
    "    del result\n",
    "    \n",
    "    return dic\n",
    "\n",
    "sort_by_key(dic)"
   ]
  },
  {
   "cell_type": "markdown",
   "metadata": {},
   "source": [
    "#### 15. Write a Python program to get the maximum and minimum value in a dictionary."
   ]
  },
  {
   "cell_type": "code",
   "execution_count": 3,
   "metadata": {},
   "outputs": [
    {
     "name": "stdout",
     "output_type": "stream",
     "text": [
      "Maximum value in dict : 70\n",
      "Minimum values in dict :10\n"
     ]
    }
   ],
   "source": [
    "dic = {2: 10, 4: 20, 6: 25, 1: 50, 3: 60, 5: 70}\n",
    "\n",
    "val = dic.values()\n",
    "print(f\"Maximum value in dict : {max(val)}\")\n",
    "print(f\"Minimum values in dict :{min(val)}\")\n",
    "\n",
    "# if we want to find the max values in keys and values pair then we can use below function.\n",
    "\n",
    "def getmax(dic, getby = \"values\"):\n",
    "    \"\"\"\n",
    "    This function will be used to get the max vlaue from a dict.\n",
    "    dic: dictionary which in which we need to look for the max value.\n",
    "    getby: search the dictionary either in values or keys.\n",
    "    \n",
    "    return: This will return a tuple of key and value from a dictionary.\n",
    "    \"\"\"\n",
    "    items = list(dic.items())\n",
    "    \n",
    "    if getby ==  'values':\n",
    "        # in this we will get the max key, value with by vlaues.\n",
    "        values = list(dic.values())\n",
    "        \n",
    "        max_index = values.index(max(values))\n",
    "        return items[max_index]\n",
    "        \n",
    "    elif getby == 'keys':\n",
    "        # in this if we need to look which key is max then we will go for this section.\n",
    "        keys = list(dic.keys())\n",
    "        \n",
    "        max_index = keys.index(max(keys))\n",
    "        return items[max_index]\n",
    "    \n",
    "    else:\n",
    "        print(\"Key error\")\n",
    "    "
   ]
  },
  {
   "cell_type": "markdown",
   "metadata": {},
   "source": [
    "#### 16. Write a Python program to get a dictionary from an object's fields."
   ]
  },
  {
   "cell_type": "code",
   "execution_count": 106,
   "metadata": {},
   "outputs": [
    {
     "name": "stdout",
     "output_type": "stream",
     "text": [
      "{'x': 'red', 'y': 'Yellow', 'z': 'Green'}\n"
     ]
    }
   ],
   "source": [
    "class dictObj(object):\n",
    "    def __init__(self):\n",
    "        self.x = 'red'\n",
    "        self.y = 'Yellow'\n",
    "        self.z = 'Green'\n",
    "    def do_nothing(self):\n",
    "         pass\n",
    "        \n",
    "test = dictObj()\n",
    "\n",
    "print(test.__dict__)"
   ]
  },
  {
   "cell_type": "markdown",
   "metadata": {},
   "source": [
    "#### 17.0 Get duplicates from a dict"
   ]
  },
  {
   "cell_type": "code",
   "execution_count": 4,
   "metadata": {},
   "outputs": [],
   "source": [
    "dic = {0: 5, 1: 4, 2: 1, 3: 2, 4: 2, 5: 2, 6: 3, 7: 5, 8: 2, 9: 5}\n",
    "# in this dictionary there are many duplicate.\n",
    "\n",
    "def getduplicate(dic):\n",
    "    \"\"\"\n",
    "    This function will get the duplicate from a dictionary and it will return the duplicate values keys.\n",
    "    \"\"\"\n",
    "    dup = {}\n",
    "    # first of all we will get the unique values with the help of set \n",
    "    unique_values = set(dic.values())\n",
    "    \n",
    "    # Now after getting the unique_values, we need to iterate over unique values.\n",
    "    for item in dic.items():\n",
    "        \n",
    "        if item[1] in unique_values:\n",
    "            \n",
    "            if item[1] not in dup.keys():    \n",
    "                dup [item[1]] = [item[0]]\n",
    "            else:\n",
    "                dup[item[1]].append(item[0])\n",
    "            \n",
    "    # NOw after getting the dict of for unique vlaue and their duplicate list \n",
    "    # we need to return only the duplicates. so we wll use the list comperhensive method to get the only duplicates.\n",
    "    return {i:k for i,k in zip(dup.keys(), dup.values()) if len(k) > 1} \n",
    "        "
   ]
  },
  {
   "cell_type": "markdown",
   "metadata": {},
   "source": [
    "#### 17. Write a Python program to remove duplicates from Dictionary."
   ]
  },
  {
   "cell_type": "code",
   "execution_count": 6,
   "metadata": {},
   "outputs": [],
   "source": [
    "def remove_duplicate(dic):\n",
    "    # This function will delete the duplicate key elemnts\n",
    "    res = {}\n",
    "    for i in dic.keys():\n",
    "        \n",
    "        if i not in res.keys():\n",
    "            \n",
    "            res[i] = dic[i]\n",
    "    \n",
    "    return res\n",
    "    "
   ]
  },
  {
   "cell_type": "code",
   "execution_count": 5,
   "metadata": {},
   "outputs": [
    {
     "data": {
      "text/plain": [
       "{2: 10, 4: 20, 6: 25, 1: 50, 3: 60, 5: 70}"
      ]
     },
     "execution_count": 5,
     "metadata": {},
     "output_type": "execute_result"
    }
   ],
   "source": [
    "dict1 = {2:10, 4:20, 6:25, 1:50, 3:60, 5:70 , 2:10 , 3:60}\n",
    "    \n",
    "remove_duplicate(dict1)"
   ]
  },
  {
   "cell_type": "code",
   "execution_count": 119,
   "metadata": {},
   "outputs": [
    {
     "name": "stdout",
     "output_type": "stream",
     "text": [
      "dict_keys(['id1', 'id2', 'id3', 'id4'])\n",
      "id1 : {'name': ['Sara'], 'class': ['V'], 'subject_integration': ['english, math, science']}\n",
      "\n",
      "id2 : {'name': ['David'], 'class': ['V'], 'subject_integration': ['english, math, science']}\n",
      "\n",
      "id3 : {'name': ['Sara'], 'class': ['V'], 'subject_integration': ['english, math, science']}\n",
      "\n",
      "id4 : {'name': ['Surya'], 'class': ['V'], 'subject_integration': ['english, math, science']}\n",
      "\n",
      "dict_keys(['id1', 'id2', 'id4'])\n"
     ]
    }
   ],
   "source": [
    "student_data = {'id1': \n",
    "   {'name': ['Sara'], \n",
    "    'class': ['V'], \n",
    "    'subject_integration': ['english, math, science']\n",
    "   },\n",
    " 'id2': \n",
    "  {'name': ['David'], \n",
    "    'class': ['V'], \n",
    "    'subject_integration': ['english, math, science']\n",
    "   },\n",
    " 'id3': \n",
    "    {'name': ['Sara'], \n",
    "    'class': ['V'], \n",
    "    'subject_integration': ['english, math, science']\n",
    "   },\n",
    " 'id4': \n",
    "   {'name': ['Surya'], \n",
    "    'class': ['V'], \n",
    "    'subject_integration': ['english, math, science']\n",
    "   },\n",
    "}\n",
    "\n",
    "result = {}\n",
    "\n",
    "print(student_data.keys())\n",
    "for key,value in student_data.items():\n",
    "    print(key,\":\",value)\n",
    "    print()\n",
    "    if value not in result.values():\n",
    "        result[key] = value\n",
    "\n",
    "print(result.keys())\n"
   ]
  },
  {
   "cell_type": "markdown",
   "metadata": {},
   "source": [
    "####  18. Write a Python program to check a dictionary is empty or not."
   ]
  },
  {
   "cell_type": "code",
   "execution_count": 1,
   "metadata": {},
   "outputs": [],
   "source": [
    "dic = {}\n",
    "dic1 = {1: 50, 2: 10, 3: 60, 4: 20, 5: 70, 6: 25}\n",
    "\n",
    "def is_empty(object):\n",
    "    \n",
    "    if object:\n",
    "        return False\n",
    "    else:\n",
    "        return True\n",
    "    \n"
   ]
  },
  {
   "cell_type": "code",
   "execution_count": 3,
   "metadata": {},
   "outputs": [
    {
     "name": "stdout",
     "output_type": "stream",
     "text": [
      "for dic -> it is empty  True\n"
     ]
    }
   ],
   "source": [
    "print(\"for dic -> it is empty \",is_empty(dic) )"
   ]
  },
  {
   "cell_type": "code",
   "execution_count": 4,
   "metadata": {},
   "outputs": [
    {
     "name": "stdout",
     "output_type": "stream",
     "text": [
      "for dic1 --> it is empty  False\n"
     ]
    }
   ],
   "source": [
    "print(\"for dic1 --> it is empty \",is_empty(dic1) )"
   ]
  },
  {
   "cell_type": "markdown",
   "metadata": {},
   "source": [
    "#### 19. Write a Python program to combine two dictionary adding values for common keys."
   ]
  },
  {
   "cell_type": "code",
   "execution_count": 8,
   "metadata": {},
   "outputs": [],
   "source": [
    "d1 = {'a': 100, 'b': 200, 'c':300}\n",
    "d2 = {'a': 300, 'b': 200, 'd':400}\n",
    "\n",
    "def add_dic_element(dic1,dic2):\n",
    "    \n",
    "    new_dic = {}\n",
    "    if dic1 and dic2:\n",
    "        \n",
    "        v1 = [val for val in dic1.values()]\n",
    "        v2 = [val for val in dic2.values()]\n",
    "            \n",
    "        for i, k in enumerate(dic1.keys()):\n",
    "            \n",
    "            new_dic[k] = v1[i] + v2[i]\n",
    "            \n",
    "        return new_dic           \n",
    "        \n",
    "    elif not dic1:\n",
    "        return dic2\n",
    "    elif not dic2:\n",
    "        return dic1\n",
    "\n",
    "#-----------------------------------------------------------------------------#\n",
    "#-----------------------------------------------------------------------------#\n",
    "\n",
    "## another method to combine the two dict and add values for same keys.\n",
    "def add_dict(dic1, dic2):\n",
    "    \n",
    "    dic1_keys = dic1.keys()\n",
    "    \n",
    "    for key, val in dic2.items():\n",
    "        \n",
    "        if key in dic1_keys:\n",
    "            dic1[key] = dic1[key] + val\n",
    "        else:\n",
    "            dic1[key] = val\n",
    "            \n",
    "    return dic1"
   ]
  },
  {
   "cell_type": "markdown",
   "metadata": {},
   "source": [
    "##### By using Counter Method"
   ]
  },
  {
   "cell_type": "code",
   "execution_count": 17,
   "metadata": {},
   "outputs": [
    {
     "data": {
      "text/plain": [
       "Counter({'a': 400, 'b': 400, 'c': 300, 'd': 400})"
      ]
     },
     "execution_count": 17,
     "metadata": {},
     "output_type": "execute_result"
    }
   ],
   "source": [
    "from collections import Counter\n",
    "\n",
    "d1 = {'a': 100, 'b': 200, 'c':300}\n",
    "d2 = {'a': 300, 'b': 200, 'd':400}\n",
    "\n",
    "# in counter method it will add only values of same keys \n",
    "# it means if there is two  different key at same index \n",
    "# then these will not take part in addition\n",
    "# different key:value pairs will be appended \n",
    "Counter(d1) + Counter(d2)"
   ]
  },
  {
   "cell_type": "markdown",
   "metadata": {},
   "source": [
    "#### 20. Write a Python program to print all unique values in a dictionary. "
   ]
  },
  {
   "cell_type": "code",
   "execution_count": 26,
   "metadata": {},
   "outputs": [
    {
     "name": "stdout",
     "output_type": "stream",
     "text": [
      "Sample Values: { ['S001', 'S002', 'S001', 'S005', 'S005', 'S009', 'S007'] }\n",
      "unique Values: { ['S001', 'S002', 'S005', 'S009', 'S007'] }\n"
     ]
    }
   ],
   "source": [
    "Dic = [{\"V\":\"S001\"}, {\"V\": \"S002\"}, {\"VI\": \"S001\"}, \n",
    "        {\"VI\": \"S005\"}, {\"VII\":\"S005\"}, \n",
    "        {\"V\":\"S009\"},{\"VIII\":\"S007\"}]\n",
    "\n",
    "values = [list(val.values())[0] for val in Dic] \n",
    "unique = []\n",
    "\n",
    "for i in values:\n",
    "    \n",
    "    if i not in unique:\n",
    "        \n",
    "        unique.append(i)\n",
    "        \n",
    "print(\"Sample Values:\",\"{\",values ,\"}\")\n",
    "\n",
    "print(\"unique Values:\",\"{\",unique,\"}\")\n",
    "    \n",
    "    \n",
    "    \n",
    "    \n",
    "    "
   ]
  },
  {
   "cell_type": "markdown",
   "metadata": {},
   "source": [
    "#### 21. Write a Python program to create and display all combinations of letters, selecting each letter from a different key in a dictionary."
   ]
  },
  {
   "cell_type": "code",
   "execution_count": 11,
   "metadata": {},
   "outputs": [
    {
     "name": "stdout",
     "output_type": "stream",
     "text": [
      "a c\n",
      "a d\n",
      "b c\n",
      "b d\n",
      "c a\n",
      "c b\n",
      "d a\n",
      "d b\n"
     ]
    }
   ],
   "source": [
    "#Sample data : {'1':['a','b'], '2':['c','d']}\n",
    "\n",
    "dic = {'1':['a','b'], '2':['c','d']}\n",
    "dic2 = {'1':['a','b'], '2':['c','d','e']}\n",
    "dic2 = {'1':['a','b'], '2':['c','d'], '3':['e','f']}\n",
    "\n",
    "def letter_combination(dic1):\n",
    "    \n",
    "    \"\"\"\n",
    "    1. First of all check how many pairs are there\n",
    "    2. maximum letters in a combinations is the maximum numbers of pairs\n",
    "    3. we can get the length of the pairs by storing dict values in a list \n",
    "    4. \n",
    "    \"\"\"\n",
    "    \n",
    "    # 1. Pick one element\n",
    "    # 2 \n",
    "    \n",
    "    values = [val for val in dic.values() ]\n",
    "    j = 0\n",
    "    \n",
    "    for i,val1 in enumerate(values):\n",
    "        \n",
    "        for j,val2  in enumerate(values):\n",
    "            \n",
    "            if i !=j:\n",
    "                \n",
    "                #print(val1,val2)\n",
    "                for k in range(len(val1)):\n",
    "                    \n",
    "                    for l in range(len(val2)):\n",
    "                        \n",
    "                        print(val1[k],val2[l])\n",
    "letter_combination(dic)\n",
    "\n",
    "\n",
    "## another method by myself.\n",
    "def combination(l1, l2):\n",
    "    \n",
    "    for letter1 in l1:\n",
    "        \n",
    "        for letter2 in l2:\n",
    "            print(letter1,letter2)\n",
    "# Time complexity:- n^2"
   ]
  },
  {
   "cell_type": "markdown",
   "metadata": {},
   "source": [
    "### Using itertools.product()"
   ]
  },
  {
   "cell_type": "code",
   "execution_count": 85,
   "metadata": {},
   "outputs": [
    {
     "name": "stdout",
     "output_type": "stream",
     "text": [
      "[['a', 'b'], ['c', 'd']] \n",
      "\n",
      " [['a', 'b'], ['c', 'd', 'e']] \n",
      "\n",
      " [['a', 'b'], ['c', 'd'], ['e', 'f']]\n"
     ]
    }
   ],
   "source": [
    "from itertools import product\n",
    "\n",
    "\n",
    "dic = {'1':['a','b'], '2':['c','d']}\n",
    "dic2 = {'1':['a','b'], '2':['c','d','e']}\n",
    "dic3 = {'1':['a','b'], '2':['c','d'], '3':['e','f']}\n",
    "\n",
    "\n",
    "dic = [i for i in dic.values() ]\n",
    "dic2 = [i for i in dic2.values()]\n",
    "dic3 = [i for i in dic3.values()]\n",
    "\n",
    "print(dic,\"\\n\\n\", dic2,\"\\n\\n\" , dic3)\n"
   ]
  },
  {
   "cell_type": "code",
   "execution_count": 88,
   "metadata": {},
   "outputs": [
    {
     "data": {
      "text/plain": [
       "[('a', 'c'), ('a', 'd'), ('b', 'c'), ('b', 'd')]"
      ]
     },
     "execution_count": 88,
     "metadata": {},
     "output_type": "execute_result"
    }
   ],
   "source": [
    "list(product(*dic))  \n",
    "# outpot-->"
   ]
  },
  {
   "cell_type": "code",
   "execution_count": 103,
   "metadata": {},
   "outputs": [
    {
     "name": "stdout",
     "output_type": "stream",
     "text": [
      "ac\n",
      "ad\n",
      "bc\n",
      "bd\n"
     ]
    }
   ],
   "source": [
    "# or it can be done to store list in seperate variable\n",
    "a , b = dic\n",
    "# but it be cost memory as per list need \n",
    "\n",
    "for i in product(a,b):\n",
    "    print(''.join(i))  # here ''.join(i) method will join all the element \n",
    "                       # from the iterable-object if it is a string\n",
    "                       # if there is a list = ['a','b','c','d']\n",
    "                        # then ''.join(list)\n",
    "                        # result--> abcd\n",
    "                        # or '+'.join(list)  result--> a+b+c+d\n",
    "                        "
   ]
  },
  {
   "cell_type": "markdown",
   "metadata": {},
   "source": [
    "#### 22. Write a Python program to find the highest 3 values in a dictionary. "
   ]
  },
  {
   "cell_type": "code",
   "execution_count": 1,
   "metadata": {},
   "outputs": [],
   "source": [
    "dic = {2:10, 4:20, 6:80, 1:50, 3:60, 5:70,7:90 }\n",
    "dict1 = {'a':500, 'b':5874, 'c': 560,'d':400, 'e':5875, 'f': 20}\n",
    "def highest_values(dic):\n",
    "    \n",
    "    top_heighest = []\n",
    "    high_index = 0\n",
    "    \n",
    "    \n",
    "    values = [val for val in dic.values()]\n",
    "  \n",
    "    for j in values:\n",
    "        heighest = 0\n",
    "        \n",
    "        for i,v in enumerate(values):\n",
    "\n",
    "            if v > heighest :\n",
    "                heighest = v\n",
    "                high_index = i\n",
    "        \n",
    "        top_heighest.append(values.pop(high_index))\n",
    "        \n",
    "    if len(top_heighest) >=3:\n",
    "        del values\n",
    "        return top_heighest[0:3]\n",
    "    else:\n",
    "        del values\n",
    "        return -1\n",
    "    \n",
    "    \n",
    "#------------------------------------------------------------#\n",
    "#------------------------------------------------------------#\n",
    "# Another method to get the highest values.\n",
    "\n",
    "# to get this done first of all we need to sort the dict with sorted method.\n",
    "\n",
    "def get_highest(dic, range_=3):\n",
    "    \n",
    "    from operator import itemgetter\n",
    "\n",
    "    highest = []\n",
    "    # now we need to sort the dict\n",
    "    \n",
    "    dic = sorted(dic.items(), key = itemgetter(1), reverse=True)\n",
    "    # itemgetter(1) for to sort the dict according to the values.\n",
    "    #print(dic)\n",
    "    \n",
    "    for i in range(range_):\n",
    "        highest.append(dic[i])\n",
    "        \n",
    "    return dict(highest)\n",
    "\n",
    "#------------------------------------------------------------#\n",
    "# we can also short the above method\n",
    "def get_highest2(dic, range_=3):\n",
    "    \n",
    "    from operator import itemgetter\n",
    "    # now we need to sort the dict\n",
    "    \n",
    "    dic = sorted(dic.items(), key = itemgetter(1), reverse=True)\n",
    "    # itemgetter(1) for to sort the dict according to the values.\n",
    "    return dict(dic[:range_])"
   ]
  },
  {
   "cell_type": "code",
   "execution_count": 79,
   "metadata": {},
   "outputs": [
    {
     "data": {
      "text/plain": [
       "[90, 80, 70]"
      ]
     },
     "execution_count": 79,
     "metadata": {},
     "output_type": "execute_result"
    }
   ],
   "source": [
    "highest_values(dic)"
   ]
  },
  {
   "cell_type": "code",
   "execution_count": 114,
   "metadata": {},
   "outputs": [
    {
     "data": {
      "text/plain": [
       "[5875, 5874, 560]"
      ]
     },
     "execution_count": 114,
     "metadata": {},
     "output_type": "execute_result"
    }
   ],
   "source": [
    "highest_values(dict1)"
   ]
  },
  {
   "cell_type": "markdown",
   "metadata": {},
   "source": [
    "### Uising heapq.nlargest() method"
   ]
  },
  {
   "cell_type": "code",
   "execution_count": 113,
   "metadata": {},
   "outputs": [
    {
     "name": "stdout",
     "output_type": "stream",
     "text": [
      "[5875, 5874, 560]\n"
     ]
    }
   ],
   "source": [
    "dict1 = {'a':500, 'b':5874, 'c': 560,'d':400, 'e':5875, 'f': 20} \n",
    "\n",
    "from heapq import nlargest\n",
    "\n",
    "values = [i for i in dict1.values()] \n",
    "\n",
    "# we will use nlargest number from the heapq module\n",
    "# nlargest(n, iterable, key=None)\n",
    "# it requre at leate 2 argg. first one is number of largest numbers\n",
    "# second is iterable- object\n",
    "# like--. list, tuple , array, dict, etc.\n",
    "\n",
    "print(nlargest(3,  values))"
   ]
  },
  {
   "cell_type": "markdown",
   "metadata": {},
   "source": [
    "#### 23. Write a Python program to combine values in python list of dictionaries."
   ]
  },
  {
   "cell_type": "markdown",
   "metadata": {},
   "source": [
    "```ruby \n",
    "\n",
    "Sample data: [{'item': 'item1', 'amount': 400}, \n",
    "               {'item': 'item2', 'amount': 300}, \n",
    "               {'item': 'item1', 'amount': 750}]\n",
    "\n",
    "Expected Output: Counter({'item1': 1150, 'item2': 300})\n",
    "\n",
    "```"
   ]
  },
  {
   "cell_type": "code",
   "execution_count": 2,
   "metadata": {},
   "outputs": [
    {
     "data": {
      "text/plain": [
       "Counter({'item1': 1150, 'item2': 300})"
      ]
     },
     "execution_count": 2,
     "metadata": {},
     "output_type": "execute_result"
    }
   ],
   "source": [
    "from collections import Counter\n",
    "\n",
    "# We will use the counter method  to combine the dictionaries\n",
    "\n",
    "dicts = [{'item': 'item1', 'amount': 400}, \n",
    "         {'item': 'item2', 'amount': 300}, \n",
    "         {'item': 'item1', 'amount': 750}]\n",
    "\n",
    "# for that we need to make dict values in a int form\n",
    "\n",
    "# so we need to make a  function which will return counter\n",
    "\n",
    "# 1. first of all we will make a new dict which will contain {item:value}\n",
    "#     pairs only and single element\n",
    "\n",
    "# 2. pass that to the counter and add to second new dict\n",
    "\n",
    "# 3. follow this upto end of the list\n",
    "\n",
    "# 4. return Counter object\n",
    "\n",
    "def Counter2(dic_list):\n",
    "    \n",
    "    counter = Counter() # making a empty Counter() bject\n",
    "     \n",
    "    for dic in dic_list: # iterating over dic_list\n",
    "        \n",
    "        k,v = dic.values() # for every element we need 'item_name' , and 'value'\n",
    "                           # which will be stored in k,v variable\n",
    "        counter += Counter({k:v}) \n",
    "                           # Put these k,v inside the Counter({k:v}) in the ofrm of\n",
    "                           # dict data type and add Counter() objects\n",
    "\n",
    "    return counter         # return Counter after alll things\n",
    "        \n",
    "Counter2(dicts)"
   ]
  },
  {
   "cell_type": "markdown",
   "metadata": {},
   "source": [
    "#### W3resources code"
   ]
  },
  {
   "cell_type": "code",
   "execution_count": 172,
   "metadata": {},
   "outputs": [
    {
     "name": "stdout",
     "output_type": "stream",
     "text": [
      "Counter({'item1': 1150, 'item2': 300})\n"
     ]
    }
   ],
   "source": [
    "from collections import Counter\n",
    "item_list = [{'item': 'item1', 'amount': 400}, {'item': 'item2', 'amount': 300}, {'item': 'item1', 'amount': 750}]\n",
    "result = Counter()\n",
    "for d in item_list:\n",
    "    result[d['item']] += d['amount']\n",
    "print(result)"
   ]
  },
  {
   "cell_type": "markdown",
   "metadata": {},
   "source": [
    "#### 24. Write a Python program to create a dictionary from a string. Go to the editor\n",
    "\n",
    "Note: Track the count of the letters from the string.\n",
    "\n",
    "Sample string : 'w3resource'\n",
    "\n",
    "Expected output: {'w': 1, '3': 1, 'r': 2, 'e': 2, 's': 1, 'o': 1, 'u': 1, 'c': 1}"
   ]
  },
  {
   "cell_type": "code",
   "execution_count": 183,
   "metadata": {},
   "outputs": [
    {
     "name": "stdout",
     "output_type": "stream",
     "text": [
      "{'w': 1, '3': 1, 'r': 2, 'e': 2, 's': 1, 'o': 1, 'u': 1, 'c': 1}\n"
     ]
    }
   ],
   "source": [
    "from collections import Counter\n",
    "String = 'w3resource'\n",
    "\n",
    "print(dict(Counter(String)))"
   ]
  },
  {
   "cell_type": "markdown",
   "metadata": {},
   "source": [
    "#### Without using library"
   ]
  },
  {
   "cell_type": "code",
   "execution_count": 192,
   "metadata": {},
   "outputs": [
    {
     "data": {
      "text/plain": [
       "{'w': 1, '3': 1, 'r': 2, 'e': 2, 's': 1, 'o': 1, 'u': 1, 'c': 1}"
      ]
     },
     "execution_count": 192,
     "metadata": {},
     "output_type": "execute_result"
    }
   ],
   "source": [
    "String = 'w3resource'\n",
    "\n",
    "def count_letter(str_object):\n",
    "    \n",
    "    \"\"\"\n",
    "    This method is used to count the number of \n",
    "    appearience letters in a string.\n",
    "    \"\"\"\n",
    "    ch_dict = {}\n",
    "    \n",
    "    for ch in str_object:\n",
    "        \n",
    "        ch_dict[ch] = ch_dict.get(ch,0) + 1\n",
    "        \n",
    "    return ch_dict\n",
    "\n",
    "count_letter(String)"
   ]
  },
  {
   "cell_type": "markdown",
   "metadata": {},
   "source": [
    "#### 25. Write a Python program to print a dictionary in table format."
   ]
  },
  {
   "cell_type": "code",
   "execution_count": 1,
   "metadata": {},
   "outputs": [
    {
     "name": "stdout",
     "output_type": "stream",
     "text": [
      "id          success          name\n",
      "1          True          Lary\n",
      "2          False          Rabi\n",
      "3          True          Alex\n"
     ]
    }
   ],
   "source": [
    "data = [{'id': '1', 'success': 'True', 'name': 'Lary'}, \n",
    "         {'id': '2', 'success': 'False', 'name': 'Rabi'}, \n",
    "         {'id': '3', 'success': 'True', 'name': 'Alex'}]\n",
    "    \n",
    "def dic_table(dic):\n",
    "    \n",
    "    head = [i for i in dic[0].keys()]\n",
    "    print(\"{}\".format(\" \"*10).join(head))\n",
    "    \n",
    "    \n",
    "    for dic in data:\n",
    "        \n",
    "        print(\"{}\".format(\" \"*10).join([i for i in dic.values()]))\n",
    "            \n",
    "            \n",
    "dic_table(data)"
   ]
  },
  {
   "cell_type": "code",
   "execution_count": 2,
   "metadata": {},
   "outputs": [
    {
     "name": "stdout",
     "output_type": "stream",
     "text": [
      "id             success        name           \n",
      "1              True           Lary           \n",
      "2              False          Rabi           \n",
      "3              True           Alex           "
     ]
    }
   ],
   "source": [
    "data = [{'id': 1, 'success': True, 'name': 'Lary'}, \n",
    "         {'id': 2, 'success': False, 'name': 'Rabi'}, \n",
    "         {'id': 3, 'success': True, 'name': 'Alex'}]\n",
    "\n",
    "def dic_table2(dics):\n",
    "    \n",
    "    head = [i for i in dics[0].keys()]\n",
    "    \n",
    "    total_len = 15\n",
    "    spaces = 0\n",
    "    \n",
    "    \n",
    "    for st in head:\n",
    "        spaces = total_len - len(st)\n",
    "        print(\"{}{}\".format(st,' '*spaces), end=\"\")\n",
    "     \n",
    "    for dic in dics:\n",
    "        data  = [d for d in dic.values()]\n",
    "        print()\n",
    "        for st in data:\n",
    "            spaces = total_len - len(str(st))\n",
    "            print(\"{}{}\".format(st,' '*spaces), end=\"\")\n",
    "    \n",
    "        \n",
    "dic_table2(data)"
   ]
  },
  {
   "cell_type": "code",
   "execution_count": 3,
   "metadata": {},
   "outputs": [
    {
     "name": "stdout",
     "output_type": "stream",
     "text": [
      "C1 C2 C3\n",
      "1 5 9\n",
      "2 6 10\n",
      "3 7 11\n"
     ]
    }
   ],
   "source": [
    "my_dict = {'C1':[1,2,3],'C2':[5,6,7],'C3':[9,10,11]}\n",
    "for row in zip(*([key] + (value) for key, value in sorted(my_dict.items()))):\n",
    "    print(*row)\n"
   ]
  },
  {
   "cell_type": "markdown",
   "metadata": {},
   "source": [
    "#### 26. Write a Python program to count the values associated with key in a dictionary."
   ]
  },
  {
   "cell_type": "code",
   "execution_count": 4,
   "metadata": {},
   "outputs": [
    {
     "data": {
      "text/plain": [
       "{True: 2, False: 1}"
      ]
     },
     "execution_count": 4,
     "metadata": {},
     "output_type": "execute_result"
    }
   ],
   "source": [
    "from collections import Counter\n",
    "\n",
    "data = [{'id': 1, 'success': True, 'name': 'Lary'}, \n",
    "        {'id': 2, 'success': False, 'name': 'Rabi'}, \n",
    "        {'id': 3, 'success': True, 'name': 'Alex'}]\n",
    "\n",
    "def count_success(dics,key):\n",
    "    \n",
    "    count_list = []\n",
    "    \n",
    "    for dic in dics:\n",
    "        \n",
    "        count_list.append(dic[key])\n",
    "    return dict(Counter(count_list))\n",
    "\n",
    "\n",
    "count_success(data,'success')\n",
    "            \n",
    "            "
   ]
  },
  {
   "cell_type": "markdown",
   "metadata": {},
   "source": [
    "#### 27. Write a Python program to convert a list into a nested dictionary of keys."
   ]
  },
  {
   "cell_type": "code",
   "execution_count": 28,
   "metadata": {},
   "outputs": [
    {
     "name": "stdout",
     "output_type": "stream",
     "text": [
      "Current is {}\n",
      "\n",
      "{'one': {}}\n",
      "Current is {}\n",
      "\n",
      "{'one': {'two': {}}}\n",
      "Current is {}\n",
      "\n",
      "{'one': {'two': {'three': {}}}}\n",
      "Current is {}\n",
      "\n",
      "{'one': {'two': {'three': {'four': {}}}}}\n",
      "Current is {}\n",
      "\n",
      "{'one': {'two': {'three': {'four': {'five': {}}}}}}\n"
     ]
    }
   ],
   "source": [
    "my_list = ['one','two','three','four','five']\n",
    "\n",
    "nested_dict = current ={}\n",
    "\n",
    "# here we refered the nested-dict and current at same point \n",
    "\n",
    "for key in my_list:\n",
    "    \n",
    "    current[key] ={} # first of all we will save the {} blank dict inside \n",
    "    \n",
    "    print(\"Current is\",current[key])                 # key element\n",
    "    current = current[key]\n",
    "                     \n",
    "                     # after that we need to shift the focus of the current\n",
    "                     # at current[key] 'value' by doing this we will insert\n",
    "                     # a ned dict inside the value of previous dict\n",
    "    print()\n",
    "    print(nested_dict)"
   ]
  },
  {
   "cell_type": "code",
   "execution_count": 12,
   "metadata": {},
   "outputs": [
    {
     "name": "stdout",
     "output_type": "stream",
     "text": [
      "{1: {}}\n",
      "{}                    {1: {}}\n",
      "{2: {}}\n",
      "{}                    {1: {2: {}}}\n",
      "{3: {}}\n",
      "{}                    {1: {2: {3: {}}}}\n",
      "{4: {}}\n",
      "{}                    {1: {2: {3: {4: {}}}}}\n",
      "{1: {2: {3: {4: {}}}}}\n"
     ]
    }
   ],
   "source": [
    "num_list = [1, 2, 3, 4]\n",
    "new_dict = current = {}\n",
    "\n",
    "for name in num_list:\n",
    "    \n",
    "    current[name] = {}\n",
    "    print(current)\n",
    "    \n",
    "    current = current[name]\n",
    "    print(current, end=\"                    \")\n",
    "    print(new_dict)\n",
    "    \n",
    "print(new_dict)\n"
   ]
  },
  {
   "cell_type": "markdown",
   "metadata": {},
   "source": [
    "#### 28. Write a Python program to sort a list alphabetically in a dictionary."
   ]
  },
  {
   "cell_type": "code",
   "execution_count": 32,
   "metadata": {},
   "outputs": [
    {
     "name": "stdout",
     "output_type": "stream",
     "text": [
      "{'a': [1, 5, 6, 9], 'b': [2, 3, 4, 7, 8], 'c': [1, 2, 6, 7, 8, 9]}\n"
     ]
    }
   ],
   "source": [
    "mydict = {'a':[1,9,5,6] , 'b':[4,8,2,3,7] , 'c':[8,6,7,9,2,1]}\n",
    "\n",
    "# you can use your own algorithm to sort the list \n",
    "# or you can us the sorted() algorithm \n",
    "\n",
    "newdict = {key: sorted(value)  for key , value in mydict.items()}\n",
    "\n",
    "print(newdict)"
   ]
  },
  {
   "cell_type": "markdown",
   "metadata": {},
   "source": [
    "#### 29. Write a Python program to remove spaces from dictionary keys. "
   ]
  },
  {
   "cell_type": "code",
   "execution_count": 33,
   "metadata": {},
   "outputs": [],
   "source": [
    "mydict = {\"He ll o\":'1' , \"Ma n i s h\":'2', \"ku m  a r\":'3' }"
   ]
  },
  {
   "cell_type": "code",
   "execution_count": 58,
   "metadata": {},
   "outputs": [
    {
     "data": {
      "text/plain": [
       "{'Hello': '1', 'Manish': '2', 'kumar': '3'}"
      ]
     },
     "execution_count": 58,
     "metadata": {},
     "output_type": "execute_result"
    }
   ],
   "source": [
    "def remove_space(key):\n",
    "    word =''\n",
    "    for i in key:\n",
    "        if not i.isspace():\n",
    "            word += i\n",
    "    return word\n",
    "\n",
    "new_dict ={remove_space(key):value  for key, value in mydict.items() }\n",
    "new_dict"
   ]
  },
  {
   "cell_type": "markdown",
   "metadata": {},
   "source": [
    "## Note:\n",
    "Above result can be achived by using 'string'.translate(table format)\n",
    "function"
   ]
  },
  {
   "cell_type": "code",
   "execution_count": 59,
   "metadata": {},
   "outputs": [
    {
     "data": {
      "text/plain": [
       "{'Hello': '1', 'Manish': '2', 'kumar': '3'}"
      ]
     },
     "execution_count": 59,
     "metadata": {},
     "output_type": "execute_result"
    }
   ],
   "source": [
    "{key.translate({32:None}):value  for key,value in mydict.items()}"
   ]
  },
  {
   "cell_type": "markdown",
   "metadata": {},
   "source": [
    "#### 30. Write a Python program to get the top three items in a shop. "
   ]
  },
  {
   "cell_type": "code",
   "execution_count": 71,
   "metadata": {},
   "outputs": [
    {
     "name": "stdout",
     "output_type": "stream",
     "text": [
      "item4 55\n",
      "item1 45.5\n",
      "item3 41.3\n"
     ]
    }
   ],
   "source": [
    "data ={'item1': 45.50, \n",
    "       'item2':35, \n",
    "       'item3': 41.30, \n",
    "       'item4':55, \n",
    "       'item5': 24}\n",
    "\n",
    " # here item:55  means item is is the name if the product and 55 \n",
    " #is the number of the rating of the productiong\n",
    "\n",
    "\n",
    "#top_three = sorted([top for top in data.values()], reverse=True)\n",
    "\n",
    "\n",
    "from heapq import nlargest\n",
    "from operator import itemgetter\n",
    "\n",
    "top = nlargest(3,data.items(), key=itemgetter(1))\n",
    "\n",
    "for key , value in top:\n",
    "    \n",
    "    print(key , value)"
   ]
  },
  {
   "cell_type": "markdown",
   "metadata": {},
   "source": [
    "#### 31. Write a Python program to get the key, value and item in a dictionary."
   ]
  },
  {
   "cell_type": "code",
   "execution_count": 72,
   "metadata": {},
   "outputs": [
    {
     "name": "stdout",
     "output_type": "stream",
     "text": [
      "key  value  count\n",
      "1     10      1\n",
      "2     20      2\n",
      "3     30      3\n",
      "4     40      4\n",
      "5     50      5\n",
      "6     60      6\n"
     ]
    }
   ],
   "source": [
    "dict_num = {1: 10, 2: 20, 3: 30, 4: 40, 5: 50, 6: 60}\n",
    "print(\"key  value  count\")\n",
    "for count, (key, value) in enumerate(dict_num.items(), 1):\n",
    "    print(key,'   ',value,'    ', count)\n"
   ]
  },
  {
   "cell_type": "markdown",
   "metadata": {},
   "source": [
    "#### 32. Write a Python program to print a dictionary line by line."
   ]
  },
  {
   "cell_type": "code",
   "execution_count": 73,
   "metadata": {},
   "outputs": [
    {
     "name": "stdout",
     "output_type": "stream",
     "text": [
      "Aex\n",
      "class : V\n",
      "rolld_id : 2\n",
      "Puja\n",
      "class : V\n",
      "roll_id : 3\n"
     ]
    }
   ],
   "source": [
    "students = {'Aex':{'class':'V',\n",
    "        'rolld_id':2},\n",
    "        'Puja':{'class':'V',\n",
    "        'roll_id':3}}\n",
    "for a in students:\n",
    "    print(a)\n",
    "    for b in students[a]:\n",
    "        print (b,':',students[a][b])\n",
    "\t\t"
   ]
  },
  {
   "cell_type": "markdown",
   "metadata": {},
   "source": [
    "#### 33. Write a Python program to check multiple keys exists in a dictionary. "
   ]
  },
  {
   "cell_type": "code",
   "execution_count": 74,
   "metadata": {},
   "outputs": [
    {
     "name": "stdout",
     "output_type": "stream",
     "text": [
      "True\n",
      "False\n",
      "True\n"
     ]
    }
   ],
   "source": [
    "student = {\n",
    "  'name': 'Alex',\n",
    "  'class': 'V',\n",
    "  'roll_id': '2'\n",
    "}\n",
    "print(student.keys() >= {'class', 'name'})\n",
    "print(student.keys() >= {'name', 'Alex'})\n",
    "print(student.keys() >= {'roll_id', 'name'})"
   ]
  },
  {
   "cell_type": "markdown",
   "metadata": {},
   "source": [
    "#### 34. Write a Python program to count number of items in a dictionary value that is a list."
   ]
  },
  {
   "cell_type": "code",
   "execution_count": 90,
   "metadata": {},
   "outputs": [
    {
     "name": "stdout",
     "output_type": "stream",
     "text": [
      "list  a    items:  4\n",
      "list  b    items:  5\n",
      "list  c    items:  6\n",
      "\n",
      "Total items:  15\n"
     ]
    }
   ],
   "source": [
    "mydict = {'a':[1,9,5,6] , 'b':[4,8,2,3,7] , 'c':[8,6,7,9,2,1]}\n",
    "\n",
    "for key, value in mydict.items():\n",
    "    \n",
    "    print(\"list \",key,\"   items: \",len(value))\n",
    "    \n",
    "print(\"\\nTotal items: \",sum(map(len,mydict.values())))"
   ]
  },
  {
   "cell_type": "code",
   "execution_count": 89,
   "metadata": {},
   "outputs": [
    {
     "data": {
      "text/plain": [
       "15"
      ]
     },
     "execution_count": 89,
     "metadata": {},
     "output_type": "execute_result"
    }
   ],
   "source": [
    "sum(map(len,mydict.values()))"
   ]
  },
  {
   "cell_type": "markdown",
   "metadata": {},
   "source": [
    "#### 35. Write a Python program to sort Counter by value."
   ]
  },
  {
   "cell_type": "code",
   "execution_count": 102,
   "metadata": {},
   "outputs": [],
   "source": [
    "data =  {'Math':81, 'Physics':83, 'Chemistry':87,'bio':27, 'Zhem':100}\n",
    "\n",
    "from collections import Counter\n",
    "\n",
    "new_data = Counter(data)"
   ]
  },
  {
   "cell_type": "code",
   "execution_count": 103,
   "metadata": {},
   "outputs": [
    {
     "data": {
      "text/plain": [
       "[('Zhem', 100), ('Chemistry', 87), ('Physics', 83), ('Math', 81), ('bio', 27)]"
      ]
     },
     "execution_count": 103,
     "metadata": {},
     "output_type": "execute_result"
    }
   ],
   "source": [
    "new_data.most_common()"
   ]
  },
  {
   "cell_type": "code",
   "execution_count": 105,
   "metadata": {},
   "outputs": [
    {
     "data": {
      "text/plain": [
       "[(6, 60), (5, 50), (4, 40), (3, 30), (2, 20), (1, 10)]"
      ]
     },
     "execution_count": 105,
     "metadata": {},
     "output_type": "execute_result"
    }
   ],
   "source": [
    "dict_num = {1: 10, 2: 20, 3: 30, 4: 40, 5: 50, 6: 60}\n",
    "\n",
    "Counter(dict_num).most_common()"
   ]
  },
  {
   "cell_type": "code",
   "execution_count": 107,
   "metadata": {},
   "outputs": [
    {
     "name": "stdout",
     "output_type": "stream",
     "text": [
      "('item4', 55)\n",
      "('item1', 45.5)\n",
      "('item3', 41.3)\n",
      "('item2', 35)\n",
      "('item5', 24)\n"
     ]
    }
   ],
   "source": [
    "data ={'item1': 45.50, \n",
    "       'item2':35, \n",
    "       'item3': 41.30, \n",
    "       'item4':55, \n",
    "       'item5': 24}\n",
    "\n",
    "for i in Counter(data).most_common():\n",
    "    print(i)"
   ]
  },
  {
   "cell_type": "markdown",
   "metadata": {},
   "source": [
    "### 36. Write a Python program to create a dictionary from two lists without losing duplicate values."
   ]
  },
  {
   "cell_type": "code",
   "execution_count": 111,
   "metadata": {},
   "outputs": [
    {
     "name": "stdout",
     "output_type": "stream",
     "text": [
      "{'Class-V': 1, 'Class-VI': 2, 'Class-VII': 2, 'Class-VIII': 3}\n"
     ]
    }
   ],
   "source": [
    "list1 =  ['Class-V', 'Class-VI', 'Class-VII', 'Class-VIII'] \n",
    "list2 = [1, 2, 2, 3]\n",
    "\n",
    "Dict = {}\n",
    "\n",
    "for key , value in zip(list1,list2):\n",
    "    \n",
    "    Dict[key]=value\n",
    "\n",
    "print(Dict)"
   ]
  },
  {
   "cell_type": "markdown",
   "metadata": {},
   "source": [
    "#### 37. Write a Python program to replace dictionary values with their average."
   ]
  },
  {
   "cell_type": "code",
   "execution_count": 113,
   "metadata": {},
   "outputs": [
    {
     "name": "stdout",
     "output_type": "stream",
     "text": [
      "defaultdict(<class 'set'>, {'Class-V': {1}, 'Class-VI': {2}, 'Class-VII': {2}, 'Class-VIII': {3}})\n"
     ]
    }
   ],
   "source": [
    "from collections import defaultdict\n",
    "\n",
    "class_list = ['Class-V', 'Class-VI', 'Class-VII', 'Class-VIII']\n",
    "id_list = [1, 2, 2, 3]\n",
    "\n",
    "temp = defaultdict(set)\n",
    "\n",
    "for c, i in zip(class_list, id_list):\n",
    "    temp[c].add(i)\n",
    "\n",
    "print(temp)"
   ]
  },
  {
   "cell_type": "code",
   "execution_count": 115,
   "metadata": {},
   "outputs": [
    {
     "name": "stdout",
     "output_type": "stream",
     "text": [
      "{'id': 1, 'subject': 'math', 'V+VI': 76.0}\n",
      "{'id': 2, 'subject': 'math', 'V+VI': 73.5}\n",
      "{'id': 3, 'subject': 'math', 'V+VI': 80.5}\n"
     ]
    }
   ],
   "source": [
    "def sum_math_v_vi_average(list_of_dicts):\n",
    "    for d in list_of_dicts:\n",
    "        n1 = d.pop('V')\n",
    "        n2 = d.pop('VI')\n",
    "        d['V+VI'] = (n1 + n2)/2\n",
    "    return list_of_dicts \n",
    "student_details= [\n",
    "  {'id' : 1, 'subject' : 'math', 'V' : 70, 'VI' : 82},\n",
    "  {'id' : 2, 'subject' : 'math', 'V' : 73, 'VI' : 74},\n",
    "  {'id' : 3, 'subject' : 'math', 'V' : 75, 'VI' : 86}\n",
    "]\n",
    "\n",
    "new_list = sum_math_v_vi_average(student_details)\n",
    "\n",
    "for i in new_list:\n",
    "    print(i)"
   ]
  },
  {
   "cell_type": "markdown",
   "metadata": {},
   "source": [
    "#### 38. Write a Python program to match key values in two dictionaries."
   ]
  },
  {
   "cell_type": "code",
   "execution_count": 119,
   "metadata": {},
   "outputs": [
    {
     "name": "stdout",
     "output_type": "stream",
     "text": [
      "key1  Yes\n",
      "key2  Yes\n",
      "key5  No\n"
     ]
    }
   ],
   "source": [
    "Dict1 = {'key1': 1, 'key2': 3, 'key3': 2} \n",
    "Dict2 = {'key1': 1, 'key2': 2, 'key5':5}\n",
    "\n",
    "for key1 in Dict2.keys():\n",
    "    \n",
    "    if key1 in Dict1.keys():\n",
    "        print(key1,\" Yes\")\n",
    "    else:\n",
    "        print(key1, \" No\")"
   ]
  },
  {
   "cell_type": "markdown",
   "metadata": {},
   "source": [
    "### 0.0 Access every key in a nested dictionary\n",
    "Suppose that we have a nested dictionary like this:\n",
    "```ruby\n",
    "dataDict = {\n",
    "    \"a\":{\n",
    "        \"r\": 1,\n",
    "        \"s\": 2,\n",
    "        \"t\": 3\n",
    "        },\n",
    "    \"b\":{\n",
    "        \"u\": 1,\n",
    "        \"v\": {\n",
    "            \"x\": 1,\n",
    "            \"y\": 2,\n",
    "            \"z\": 3\n",
    "        },\n",
    "        \"w\": 3\n",
    "        }\n",
    "}    \n",
    "```\n",
    "and we want to access every key or a desired key in a sequence. for that we can make a Generators method which will return a key value of that desired location."
   ]
  },
  {
   "cell_type": "code",
   "execution_count": 10,
   "metadata": {},
   "outputs": [],
   "source": [
    "# In this method we will use a Mapping class , yield keyword\n",
    "# first of all we need to import Mapping calss to varify a dictionary in a loop\n",
    "from collections.abc import Mapping\n",
    "\n",
    "def Access_keys(dic, key = None):\n",
    "    \"\"\"\n",
    "    This method will be used to Access every key-value in a dictionary.\n",
    "    dic: dic is the dictionary in which we want to look for the keys and values.\n",
    "    \n",
    "    Note that we will use yield inseted of the return, return will stop on first iteration on every level, \n",
    "    but yield wont stop the loop and also it will give us the every element accessed by a loop.\n",
    "    \n",
    "    if we just want to access only sub dict then dont use else condition.\n",
    "    if we just want to access only then do not yield anything inside if condintion, just yield in else condition.\n",
    "    \"\"\"\n",
    "    # Now we will iterate over the keys and values in every level of a nested dict.\n",
    "    for k, v in dic.items():\n",
    "        \n",
    "        if isinstance(dic.get(k, None), Mapping):\n",
    "            # this statement means that if dic.get(k, None) is a dictionary or any mapping object\n",
    "            # then we will go furthur. dic.get(k,None) will access k value in dictionary if it is present in dict \n",
    "            # else it will return None, this will note raise any keyError exception.\n",
    "            \n",
    "            # Now we need to yield the key,value in a tuple\n",
    "            yield (k,v)\n",
    "            \n",
    "            # Now we will yield from our method which will call it our method recursively.\n",
    "            yield from Access_keys(dic.get(k,None))\n",
    "        \n",
    "        else:\n",
    "            yield (k,v) # if we are getting a dict which do not have any nested dict then this will be yield.\n",
    "            # hen k is a key in a dictionry and v is a simple vlaue associated with that key, it is not any dictionary.\n",
    "            \n",
    "            \n",
    "    # Now this method is ready to give us every key in a dic.\n",
    "    # Note that this is a generator method which will return a generator object.\n",
    "    # To access values we need to use iteartor or next() method."
   ]
  },
  {
   "cell_type": "code",
   "execution_count": 11,
   "metadata": {},
   "outputs": [
    {
     "name": "stdout",
     "output_type": "stream",
     "text": [
      "('a', {'r': 1, 's': 2, 't': 3})\n",
      "('r', 1)\n",
      "('s', 2)\n",
      "('t', 3)\n",
      "('b', {'u': 1, 'v': {'x': 1, 'y': 2, 'z': 3}, 'w': 3})\n",
      "('u', 1)\n",
      "('v', {'x': 1, 'y': 2, 'z': 3})\n",
      "('x', 1)\n",
      "('y', 2)\n",
      "('z', 3)\n",
      "('w', 3)\n"
     ]
    }
   ],
   "source": [
    "dataDict = {\n",
    "    \"a\":{\n",
    "        \"r\": 1,\n",
    "        \"s\": 2,\n",
    "        \"t\": 3\n",
    "        },\n",
    "    \"b\":{\n",
    "        \"u\": 1,\n",
    "        \"v\": {\n",
    "            \"x\": 1,\n",
    "            \"y\": 2,\n",
    "            \"z\": 3\n",
    "        },\n",
    "        \"w\": 3\n",
    "        }\n",
    "}    \n",
    "for item in Access_keys(dataDict):\n",
    "    print(item)"
   ]
  },
  {
   "cell_type": "code",
   "execution_count": 7,
   "metadata": {},
   "outputs": [],
   "source": [
    "from collections.abc import Mapping\n",
    "def access_keys(dic):\n",
    "    print(\"Checking keys: \",list(dic.keys()))\n",
    "    \n",
    "#     if len(list(dic.keys()))==0:\n",
    "#         print(\"No key found:\")\n",
    "#         return \n",
    "    \n",
    "    for key , value in dic.items():\n",
    "        \n",
    "        if isinstance(dic.get(key, None), Mapping):\n",
    "            #print(f\"{key}:{value}\")\n",
    "            new_dic = json.dumps(dic.get(key), indent=2)\n",
    "            print(key,new_dic)\n",
    "            print(f\"{'_'*20}\\n{'_'*20}\\n\")\n",
    "            access_keys(dic.get(key, None))\n",
    "        \n",
    "        else:\n",
    "            print(\"None dic got\",f\"{key}:{dic[key]}\")"
   ]
  },
  {
   "cell_type": "code",
   "execution_count": 9,
   "metadata": {},
   "outputs": [
    {
     "name": "stdout",
     "output_type": "stream",
     "text": [
      "Checking keys:  ['a', 'b']\n",
      "a {\n",
      "  \"r\": 1,\n",
      "  \"s\": 2,\n",
      "  \"t\": 3\n",
      "}\n",
      "____________________\n",
      "____________________\n",
      "\n",
      "Checking keys:  ['r', 's', 't']\n",
      "None dic got r:1\n",
      "None dic got s:2\n",
      "None dic got t:3\n",
      "b {\n",
      "  \"u\": 1,\n",
      "  \"v\": {\n",
      "    \"x\": 1,\n",
      "    \"y\": 2,\n",
      "    \"z\": 3\n",
      "  },\n",
      "  \"w\": 3\n",
      "}\n",
      "____________________\n",
      "____________________\n",
      "\n",
      "Checking keys:  ['u', 'v', 'w']\n",
      "None dic got u:1\n",
      "v {\n",
      "  \"x\": 1,\n",
      "  \"y\": 2,\n",
      "  \"z\": 3\n",
      "}\n",
      "____________________\n",
      "____________________\n",
      "\n",
      "Checking keys:  ['x', 'y', 'z']\n",
      "None dic got x:1\n",
      "None dic got y:2\n",
      "None dic got z:3\n",
      "None dic got w:3\n"
     ]
    }
   ],
   "source": [
    "import json\n",
    "access_keys(dataDict)"
   ]
  },
  {
   "cell_type": "code",
   "execution_count": null,
   "metadata": {},
   "outputs": [],
   "source": []
  }
 ],
 "metadata": {
  "kernelspec": {
   "display_name": "Python 3",
   "language": "python",
   "name": "python3"
  },
  "language_info": {
   "codemirror_mode": {
    "name": "ipython",
    "version": 3
   },
   "file_extension": ".py",
   "mimetype": "text/x-python",
   "name": "python",
   "nbconvert_exporter": "python",
   "pygments_lexer": "ipython3",
   "version": "3.8.3"
  }
 },
 "nbformat": 4,
 "nbformat_minor": 4
}
