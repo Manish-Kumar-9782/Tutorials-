{
 "cells": [
  {
   "cell_type": "markdown",
   "id": "38545f3c-7884-42c4-89b9-0f67aedfeae7",
   "metadata": {},
   "source": [
    "## if-else statement\n",
    "\n",
    "if-else statement is the control statements which is used to control the flow of excution of code statements."
   ]
  },
  {
   "cell_type": "markdown",
   "id": "153523cb-27ff-41a6-98e8-a40d9f61d063",
   "metadata": {},
   "source": [
    "### type 1.\n",
    "```python\n",
    "    if condition:\n",
    "        # statments block1\n",
    "    else:\n",
    "        # statement block2\n",
    "```\n",
    "\n",
    "Note: \n",
    "\n",
    "1. if `condition` is true then only \"statement block\" will run else \"statement block2\" will run.\n",
    "\n",
    "2. if `condition` is false then else part \"statment block2\" will definitely run.\n",
    "\n",
    "3. There can be only on else block in each if-else statment.\n",
    "\n",
    "**Basic Use:** if we have only two options and one of them must be executed then we should use the single `if-else` statement (type 1)."
   ]
  },
  {
   "cell_type": "markdown",
   "id": "74c25a88-249f-4fb4-9637-1300098a407a",
   "metadata": {},
   "source": [
    "____\n",
    "\n",
    "#### Example 1: \n",
    "-> if a car is not running then it is definetely stainding one postion."
   ]
  },
  {
   "cell_type": "code",
   "execution_count": 2,
   "id": "d037e05f-8930-4cf5-82d0-55257ea26350",
   "metadata": {},
   "outputs": [
    {
     "name": "stdout",
     "output_type": "stream",
     "text": [
      "car is stopped...\n"
     ]
    }
   ],
   "source": [
    "# true : running\n",
    "# false: stopped.\n",
    "\n",
    "car = False\n",
    "\n",
    "if car == True:    \n",
    "    print(\"Car is running..\")\n",
    "else:\n",
    "    print(\"car is stopped...\")"
   ]
  },
  {
   "cell_type": "markdown",
   "id": "10eba5d6-304d-4f30-86df-2db3d06ac141",
   "metadata": {},
   "source": [
    "___"
   ]
  },
  {
   "cell_type": "markdown",
   "id": "1c34f7d0-fbfd-4340-ba93-5701d31dcd6b",
   "metadata": {},
   "source": [
    "### type 2\n",
    "\n",
    "if we have multiple condition (choices) then we can use if-elif-esle statement.\n",
    "\n",
    "```python\n",
    "\n",
    "    if condition1:\n",
    "        # block1\n",
    "    elif condition2:\n",
    "        # block2\n",
    "    elif condition3:\n",
    "        # block3\n",
    "    elif condition4:\n",
    "        # block4\n",
    "    elif condition5:\n",
    "        # block5\n",
    "    else:\n",
    "       # final block\n",
    "```\n",
    "\n",
    "1. all the condtions will be test in the given sequence. (condition1, conditon2 ... , condtion5)\n",
    "\n",
    "2. if any condition is statisfied (True), then that particular block will be excuted. other block \n",
    "    or condtion will be ignored.\n",
    "\n",
    "3. if non of them is true (satisfied) then else block will definitely run."
   ]
  },
  {
   "cell_type": "markdown",
   "id": "23cfa66f-dfe4-45b0-8625-b568df811e95",
   "metadata": {},
   "source": [
    "#### Exmaple 2\n",
    "\n",
    "we have a traffic signal system.\n",
    "\n",
    "1. if signal is red, then stop.\n",
    "2. if signal is green, Go.\n",
    "3. if signal is orange, then carefull,\n",
    "4. if no signal found, system crash, call traffic police."
   ]
  },
  {
   "cell_type": "code",
   "execution_count": 10,
   "id": "55ec792d-09fa-4bca-97ad-6aa763feb9ab",
   "metadata": {},
   "outputs": [
    {
     "name": "stdout",
     "output_type": "stream",
     "text": [
      "Signal is green: You can go..\n"
     ]
    }
   ],
   "source": [
    "signal = 'green'\n",
    "\n",
    "if signal == 'red':\n",
    "    print(\"Siganl is red: Pleas Stop...\")\n",
    "elif signal == \"orange\":\n",
    "    print(\"Signal is orange: BeCarefull..\")\n",
    "elif signal == \"green\":\n",
    "    print(\"Signal is green: You can go..\")\n",
    "else:\n",
    "    print(\"Traffic system not working, call traffic polic\")"
   ]
  },
  {
   "cell_type": "markdown",
   "id": "3706b8ef-b6c1-48f1-89fa-f0468bc2f6de",
   "metadata": {},
   "source": [
    "____\n",
    "____\n",
    "\n",
    "## Functions\n",
    "\n",
    "`function:` it is a block of piece of code (statment) which is associated with a identifier name (function name), it can take mulitple number of input and can return values as output.\n",
    "\n",
    "1. function are defined only once and they are used again and again.\n",
    "\n",
    "To make funciton we must follow some rules.\n",
    "\n",
    "1. `def` keyword is used to make (define) a funciton\n",
    "2. after `def` keyword we write the name of function.\n",
    "3. after function name we put a parameter list \"()\" in which we pass the arguments or input.\n",
    "4. after this we put : to start the block of that function."
   ]
  },
  {
   "cell_type": "markdown",
   "id": "8296c531-b2b5-4f14-982e-f47284d5b95b",
   "metadata": {},
   "source": [
    "`function syntax:`\n",
    "```python\n",
    "    def myfunc():\n",
    "        # statement 1 \n",
    "        # statement 2\n",
    "        \n",
    "    # this is out of myfunc\n",
    "```"
   ]
  },
  {
   "cell_type": "code",
   "execution_count": 12,
   "id": "ef253653-90ad-4c42-86c2-fef8a9efbc5c",
   "metadata": {},
   "outputs": [],
   "source": [
    "def traffic_signal(signal):\n",
    "    if signal == 'red':\n",
    "        print(\"Siganl is red: Pleas Stop...\")\n",
    "    elif signal == \"orange\":\n",
    "        print(\"Signal is orange: BeCarefull..\")\n",
    "    elif signal == \"green\":\n",
    "        print(\"Signal is green: You can go..\")\n",
    "    else:\n",
    "        print(\"Traffic system not working, call traffic polic\")"
   ]
  },
  {
   "cell_type": "code",
   "execution_count": 13,
   "id": "6a94796f-f3a7-4311-bef5-2c6885cde3eb",
   "metadata": {},
   "outputs": [
    {
     "name": "stdout",
     "output_type": "stream",
     "text": [
      "Siganl is red: Pleas Stop...\n"
     ]
    }
   ],
   "source": [
    "traffic_signal(\"red\")"
   ]
  },
  {
   "cell_type": "code",
   "execution_count": 14,
   "id": "90030f02-9b4b-453d-8a01-71eb2194e290",
   "metadata": {},
   "outputs": [
    {
     "name": "stdout",
     "output_type": "stream",
     "text": [
      "Traffic system not working, call traffic polic\n"
     ]
    }
   ],
   "source": [
    "traffic_signal(\"\")"
   ]
  },
  {
   "cell_type": "code",
   "execution_count": 15,
   "id": "c620d7f6-49fd-4e4c-b8b5-432eedc9680b",
   "metadata": {},
   "outputs": [
    {
     "name": "stdout",
     "output_type": "stream",
     "text": [
      "Signal is green: You can go..\n"
     ]
    }
   ],
   "source": [
    "traffic_signal(\"green\")"
   ]
  },
  {
   "cell_type": "code",
   "execution_count": null,
   "id": "55042ccb-ed9c-4381-9ad1-03b818e17bd3",
   "metadata": {},
   "outputs": [],
   "source": []
  }
 ],
 "metadata": {
  "kernelspec": {
   "display_name": "Python 3 (ipykernel)",
   "language": "python",
   "name": "python3"
  },
  "language_info": {
   "codemirror_mode": {
    "name": "ipython",
    "version": 3
   },
   "file_extension": ".py",
   "mimetype": "text/x-python",
   "name": "python",
   "nbconvert_exporter": "python",
   "pygments_lexer": "ipython3",
   "version": "3.10.5"
  }
 },
 "nbformat": 4,
 "nbformat_minor": 5
}
