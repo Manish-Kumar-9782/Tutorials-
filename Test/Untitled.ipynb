{
 "cells": [
  {
   "cell_type": "code",
   "execution_count": 1,
   "id": "fc898f9c-7847-4bb8-8c24-63d96c97f941",
   "metadata": {},
   "outputs": [],
   "source": [
    "from queue import Queue"
   ]
  },
  {
   "cell_type": "code",
   "execution_count": 2,
   "id": "6c72e8cb-58bb-4914-8d0f-7d27c59ff0b2",
   "metadata": {},
   "outputs": [],
   "source": [
    "buffer = Queue(maxsize=5)"
   ]
  },
  {
   "cell_type": "code",
   "execution_count": 3,
   "id": "8d646378-b8b1-4e41-a58f-99ad718f4945",
   "metadata": {},
   "outputs": [],
   "source": [
    "for i in range(5):\n",
    "    buffer.put(i)"
   ]
  },
  {
   "cell_type": "code",
   "execution_count": 4,
   "id": "bd458541-9872-4378-97cc-dfd41846eab0",
   "metadata": {},
   "outputs": [
    {
     "data": {
      "text/plain": [
       "<queue.Queue at 0x176d3a072e0>"
      ]
     },
     "execution_count": 4,
     "metadata": {},
     "output_type": "execute_result"
    }
   ],
   "source": [
    "buffer"
   ]
  },
  {
   "cell_type": "code",
   "execution_count": 11,
   "id": "b627e1aa-5666-4454-8d90-8fe0cab6579c",
   "metadata": {},
   "outputs": [
    {
     "data": {
      "text/plain": [
       "5"
      ]
     },
     "execution_count": 11,
     "metadata": {},
     "output_type": "execute_result"
    }
   ],
   "source": [
    "buffer.unfinished_tasks\n"
   ]
  },
  {
   "cell_type": "code",
   "execution_count": 14,
   "id": "d5aa81fa-3cba-4121-a1f7-4084724f26c0",
   "metadata": {},
   "outputs": [],
   "source": [
    "buffer.task_done()"
   ]
  },
  {
   "cell_type": "code",
   "execution_count": 15,
   "id": "778383a8-eb02-4ef5-a632-18ac3d34668c",
   "metadata": {},
   "outputs": [
    {
     "data": {
      "text/plain": [
       "0"
      ]
     },
     "execution_count": 15,
     "metadata": {},
     "output_type": "execute_result"
    }
   ],
   "source": [
    "buffer.get()"
   ]
  },
  {
   "cell_type": "code",
   "execution_count": 17,
   "id": "4cfd68b3-ebfb-4b42-b908-6b34f1680c64",
   "metadata": {},
   "outputs": [
    {
     "data": {
      "text/plain": [
       "2"
      ]
     },
     "execution_count": 17,
     "metadata": {},
     "output_type": "execute_result"
    }
   ],
   "source": [
    "buffer.unfinished_tasks"
   ]
  },
  {
   "cell_type": "code",
   "execution_count": 20,
   "id": "422faa50-4217-471d-a66d-ed5e316f3279",
   "metadata": {},
   "outputs": [],
   "source": [
    "buffer.put(5)"
   ]
  },
  {
   "cell_type": "code",
   "execution_count": 21,
   "id": "5a2ad06f-2655-4dc2-8394-99e34e52f9c9",
   "metadata": {},
   "outputs": [
    {
     "data": {
      "text/plain": [
       "deque([1, 2, 3, 4, 5])"
      ]
     },
     "execution_count": 21,
     "metadata": {},
     "output_type": "execute_result"
    }
   ],
   "source": [
    "buffer.queue"
   ]
  },
  {
   "cell_type": "code",
   "execution_count": 28,
   "id": "219e8d10-e4d3-4f32-93d5-1cf0af983ab2",
   "metadata": {},
   "outputs": [
    {
     "name": "stdout",
     "output_type": "stream",
     "text": [
      "wating for completion taskWorking on 0\n",
      "\n",
      "wating for completion task\n",
      "Finished 0\n",
      "Working on 1\n",
      "wating for completion task\n",
      "Finished 1\n",
      "Working on 2\n",
      "wating for completion task\n",
      "Finished 2\n",
      "Working on 3\n",
      "wating for completion task\n",
      "Finished 3\n",
      "Working on 4\n",
      "wating for completion task\n",
      "Finished 4\n",
      "Working on 5\n",
      "wating for completion task\n",
      "Finished 5\n",
      "Working on 6\n",
      "wating for completion task\n",
      "Finished 6\n",
      "Working on 7\n",
      "wating for completion task\n",
      "Finished 7\n",
      "Working on 8\n",
      "wating for completion task\n",
      "Finished 8\n",
      "Working on 9\n",
      "wating for completion task\n",
      "Finished 9\n",
      "Working on 10\n",
      "wating for completion task\n",
      "Finished 10\n",
      "Working on 11\n",
      "wating for completion task\n",
      "Finished 11\n",
      "Working on 12\n",
      "wating for completion task\n",
      "Finished 12\n",
      "Working on 13\n",
      "wating for completion task\n",
      "Finished 13\n",
      "Working on 14\n",
      "wating for completion task\n",
      "Finished 14\n",
      "Working on 15\n",
      "wating for completion task\n",
      "Finished 15\n",
      "Working on 16\n",
      "wating for completion task\n",
      "Finished 16\n",
      "Working on 17\n",
      "wating for completion task\n",
      "Finished 17\n",
      "Working on 18\n",
      "wating for completion task\n",
      "Finished 18\n",
      "Working on 19\n",
      "wating for completion task\n",
      "Finished 19\n",
      "Working on 20\n",
      "wating for completion task\n",
      "Finished 20\n",
      "Working on 21\n",
      "wating for completion task\n",
      "Finished 21\n",
      "Working on 22\n",
      "wating for completion task\n",
      "Finished 22\n",
      "Working on 23\n",
      "wating for completion task\n",
      "Finished 23\n",
      "Working on 24\n",
      "Finished 24\n",
      "Working on 25\n",
      "Finished 25\n",
      "Working on 26\n",
      "Finished 26\n",
      "Working on 27\n",
      "Finished 27\n",
      "Working on 28\n",
      "Finished 28\n",
      "Working on 29\n",
      "Finished 29\n",
      "All work completed\n"
     ]
    }
   ],
   "source": [
    "import threading\n",
    "import queue\n",
    "import time\n",
    "q = queue.Queue(maxsize=5)\n",
    "\n",
    "def worker():\n",
    "    while True:\n",
    "        item = q.get()\n",
    "        print(f'Working on {item}')\n",
    "        time.sleep(1)\n",
    "        print(f'Finished {item}')\n",
    "        q.task_done()\n",
    "\n",
    "# Turn-on the worker thread.\n",
    "threading.Thread(target=worker, daemon=True).start()\n",
    "\n",
    "# Send thirty task requests to the worker.\n",
    "for item in range(30):\n",
    "    if q.full():\n",
    "        print(\"wating for completion task\")\n",
    "    q.put(item, timeout=2)\n",
    "\n",
    "# Block until all tasks are done.\n",
    "q.join()\n",
    "print('All work completed')"
   ]
  },
  {
   "cell_type": "code",
   "execution_count": null,
   "id": "16cdaa33-4215-456c-a886-39605d7083dc",
   "metadata": {},
   "outputs": [],
   "source": []
  }
 ],
 "metadata": {
  "kernelspec": {
   "display_name": "Python 3 (ipykernel)",
   "language": "python",
   "name": "python3"
  },
  "language_info": {
   "codemirror_mode": {
    "name": "ipython",
    "version": 3
   },
   "file_extension": ".py",
   "mimetype": "text/x-python",
   "name": "python",
   "nbconvert_exporter": "python",
   "pygments_lexer": "ipython3",
   "version": "3.8.3"
  }
 },
 "nbformat": 4,
 "nbformat_minor": 5
}
