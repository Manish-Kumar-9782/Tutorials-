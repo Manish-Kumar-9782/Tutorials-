{
 "cells": [
  {
   "cell_type": "code",
   "execution_count": 3,
   "id": "celtic-panic",
   "metadata": {},
   "outputs": [],
   "source": [
    "import file1 as f"
   ]
  },
  {
   "cell_type": "code",
   "execution_count": null,
   "id": "subsequent-spirituality",
   "metadata": {},
   "outputs": [],
   "source": []
  },
  {
   "cell_type": "code",
   "execution_count": 4,
   "id": "bulgarian-connecticut",
   "metadata": {},
   "outputs": [
    {
     "name": "stdout",
     "output_type": "stream",
     "text": [
      "Hello this is global\n"
     ]
    }
   ],
   "source": [
    "print(f.notification)"
   ]
  },
  {
   "cell_type": "code",
   "execution_count": 6,
   "id": "reserved-dakota",
   "metadata": {},
   "outputs": [],
   "source": [
    "from tkinter import ttk\n",
    "import tkinter as tk"
   ]
  },
  {
   "cell_type": "code",
   "execution_count": 7,
   "id": "engaged-minister",
   "metadata": {},
   "outputs": [
    {
     "name": "stdout",
     "output_type": "stream",
     "text": [
      "('relief',)\n"
     ]
    }
   ],
   "source": [
    "root = tk.Tk()\n",
    "style = ttk.Style()\n",
    "\n",
    "print(style.element_options(\"TFrame.border\"))\n",
    "root.mainloop()"
   ]
  },
  {
   "cell_type": "code",
   "execution_count": 86,
   "id": "violent-prison",
   "metadata": {},
   "outputs": [],
   "source": [
    "from calendar import Calendar\n",
    "import datetime"
   ]
  },
  {
   "cell_type": "code",
   "execution_count": 90,
   "id": "published-qatar",
   "metadata": {},
   "outputs": [],
   "source": [
    "cal = calendar.Calendar(firstweekday=6)"
   ]
  },
  {
   "cell_type": "code",
   "execution_count": 83,
   "id": "swedish-reward",
   "metadata": {},
   "outputs": [],
   "source": [
    "days = cal.itermonthdays4(2021,6)"
   ]
  },
  {
   "cell_type": "code",
   "execution_count": 84,
   "id": "alternative-tackle",
   "metadata": {},
   "outputs": [],
   "source": [
    "week = 1\n",
    "month = {week:[]}"
   ]
  },
  {
   "cell_type": "code",
   "execution_count": 87,
   "id": "proof-right",
   "metadata": {},
   "outputs": [],
   "source": [
    "class weeks(Calendar):\n",
    "    \n",
    "    def __init__(self, year, month, date):\n",
    "        super().__init__()\n",
    "        self.year = year\n",
    "        self.month = month\n",
    "        self.date = date\n",
    "    \n",
    "    \n",
    "    \n",
    "    "
   ]
  },
  {
   "cell_type": "code",
   "execution_count": 88,
   "id": "useful-wallace",
   "metadata": {},
   "outputs": [],
   "source": [
    "a = weeks(2021, 6,26)"
   ]
  },
  {
   "cell_type": "code",
   "execution_count": 91,
   "id": "rational-broadcasting",
   "metadata": {},
   "outputs": [
    {
     "data": {
      "text/plain": [
       "<calendar.Calendar at 0x22d17ec8a30>"
      ]
     },
     "execution_count": 91,
     "metadata": {},
     "output_type": "execute_result"
    }
   ],
   "source": [
    "cal"
   ]
  },
  {
   "cell_type": "code",
   "execution_count": 5,
   "id": "typical-aquatic",
   "metadata": {},
   "outputs": [],
   "source": [
    "Data = []\n",
    "with open('dailyroutine.csv', 'r', newline='') as file:\n",
    "    reader = csv.DictReader(file)\n",
    "    for row in reader:\n",
    "        Data.append(row)"
   ]
  },
  {
   "cell_type": "code",
   "execution_count": 8,
   "id": "capable-stroke",
   "metadata": {},
   "outputs": [
    {
     "name": "stdout",
     "output_type": "stream",
     "text": [
      "{'Task': 'Water refill in Pot.', 'TaskId': '9211', 'CheckTaskid': '', 'TaskTitle': 'DailyRoutine', 'Init Date': '', 'Notify': 'True', 'NotifyTime': '(18, 0, 0)', 'AlertTime': '[]', 'StartTime': '(17, 0, 0)', 'EndTime': '(19, 0, 0)', 'NotifyDay': \"['Sunday', 'Monday', 'Tuesday', 'Wednesday', 'Thursday', 'Friday', 'Saturday']\", 'TaskCompleted': 'False', 'TaskStatus': '[]'}\n",
      "\n",
      "{'Task': 'Bathing', 'TaskId': '9211', 'CheckTaskid': '', 'TaskTitle': 'DailyRoutine', 'Init Date': '', 'Notify': 'True', 'NotifyTime': '(11, 0, 0)', 'AlertTime': '[]', 'StartTime': '(10, 0, 0)', 'EndTime': '(14, 0, 0)', 'NotifyDay': \"['Sunday', 'Monday', 'Tuesday', 'Wednesday', 'Thursday', 'Friday', 'Saturday']\", 'TaskCompleted': 'False', 'TaskStatus': '[]'}\n",
      "\n",
      "{'Task': '2 hour of study in a day', 'TaskId': '9211', 'CheckTaskid': '', 'TaskTitle': 'DailyRoutine', 'Init Date': '', 'Notify': 'True', 'NotifyTime': '(10, 0, 0)', 'AlertTime': '[]', 'StartTime': '(10, 0, 0)', 'EndTime': '(23, 59, 0)', 'NotifyDay': \"['Sunday', 'Monday', 'Tuesday', 'Wednesday', 'Thursday', 'Friday', 'Saturday']\", 'TaskCompleted': 'False', 'TaskStatus': '[]'}\n",
      "\n",
      "{'Task': '4 hour of study in a day', 'TaskId': '9211', 'CheckTaskid': '', 'TaskTitle': 'DailyRoutine', 'Init Date': '', 'Notify': 'True', 'NotifyTime': '(12, 0, 0)', 'AlertTime': '[]', 'StartTime': '(10, 0, 0)', 'EndTime': '(23, 59, 0)', 'NotifyDay': \"['Sunday', 'Monday', 'Tuesday', 'Wednesday', 'Thursday', 'Friday', 'Saturday']\", 'TaskCompleted': 'False', 'TaskStatus': '[]'}\n",
      "\n",
      "{'Task': '6 hour of study in a day', 'TaskId': '9211', 'CheckTaskid': '', 'TaskTitle': 'DailyRoutine', 'Init Date': '', 'Notify': 'True', 'NotifyTime': '(20, 0, 0)', 'AlertTime': '[]', 'StartTime': '(11, 0, 0)', 'EndTime': '(23, 41, 0)', 'NotifyDay': \"['Sunday', 'Monday', 'Tuesday', 'Wednesday', 'Thursday', 'Friday', 'Saturday']\", 'TaskCompleted': 'False', 'TaskStatus': '[]'}\n",
      "\n",
      "{'Task': 'Go for lunch', 'TaskId': '9211', 'CheckTaskid': '', 'TaskTitle': 'DailyRoutine', 'Init Date': '', 'Notify': 'True', 'NotifyTime': '(11, 0, 0)', 'AlertTime': '[]', 'StartTime': '(10, 0, 0)', 'EndTime': '(14, 0, 0)', 'NotifyDay': \"['Sunday', 'Monday', 'Tuesday', 'Wednesday', 'Thursday', 'Friday', 'Saturday']\", 'TaskCompleted': 'False', 'TaskStatus': '[]'}\n",
      "\n",
      "{'Task': 'Go for Dinner', 'TaskId': '9211', 'CheckTaskid': '', 'TaskTitle': 'DailyRoutine', 'Init Date': '', 'Notify': 'True', 'NotifyTime': '(19, 30, 0)', 'AlertTime': '[]', 'StartTime': '(0, 0, 0)', 'EndTime': '(20, 0, 0)', 'NotifyDay': \"['Sunday', 'Monday', 'Tuesday', 'Wednesday', 'Thursday', 'Friday', 'Saturday']\", 'TaskCompleted': 'False', 'TaskStatus': '[]'}\n",
      "\n",
      "{'Task': 'Workout', 'TaskId': '9211', 'CheckTaskid': '', 'TaskTitle': 'DailyRoutine', 'Init Date': '', 'Notify': 'True', 'NotifyTime': '(12, 0, 0)', 'AlertTime': '[]', 'StartTime': '(11, 0, 0)', 'EndTime': '(14, 0, 0)', 'NotifyDay': \"['Sunday', 'Monday', 'Tuesday', 'Wednesday', 'Thursday', 'Friday', 'Saturday']\", 'TaskCompleted': 'False', 'TaskStatus': '[]'}\n",
      "\n",
      "{'Task': 'Item one of TaskList', 'TaskId': '7997', 'CheckTaskid': '', 'TaskTitle': 'Test List', 'Init Date': '25-Jun-2021', 'Notify': 'False', 'NotifyTime': '', 'AlertTime': '', 'StartTime': '', 'EndTime': '', 'NotifyDay': '', 'TaskCompleted': '', 'TaskStatus': '[]'}\n",
      "\n"
     ]
    }
   ],
   "source": [
    "for i in Data:\n",
    "    print(i)\n",
    "    print()"
   ]
  },
  {
   "cell_type": "code",
   "execution_count": 12,
   "id": "conceptual-punishment",
   "metadata": {},
   "outputs": [],
   "source": [
    "task = Data[6]"
   ]
  },
  {
   "cell_type": "code",
   "execution_count": 13,
   "id": "mighty-separation",
   "metadata": {},
   "outputs": [
    {
     "data": {
      "text/plain": [
       "{'Task': 'Go for Dinner',\n",
       " 'TaskId': '9211',\n",
       " 'CheckTaskid': '',\n",
       " 'TaskTitle': 'DailyRoutine',\n",
       " 'Init Date': '',\n",
       " 'Notify': 'True',\n",
       " 'NotifyTime': '(19, 30, 0)',\n",
       " 'AlertTime': '[]',\n",
       " 'StartTime': '(0, 0, 0)',\n",
       " 'EndTime': '(20, 0, 0)',\n",
       " 'NotifyDay': \"['Sunday', 'Monday', 'Tuesday', 'Wednesday', 'Thursday', 'Friday', 'Saturday']\",\n",
       " 'TaskCompleted': 'False',\n",
       " 'TaskStatus': '[]'}"
      ]
     },
     "execution_count": 13,
     "metadata": {},
     "output_type": "execute_result"
    }
   ],
   "source": [
    "task"
   ]
  },
  {
   "cell_type": "code",
   "execution_count": 16,
   "id": "requested-professor",
   "metadata": {},
   "outputs": [],
   "source": [
    "new_task = task.copy()"
   ]
  },
  {
   "cell_type": "code",
   "execution_count": 17,
   "id": "declared-blake",
   "metadata": {},
   "outputs": [],
   "source": [
    "new_task['TaskStatus'] = [\"notified\"]"
   ]
  },
  {
   "cell_type": "code",
   "execution_count": 19,
   "id": "decimal-fashion",
   "metadata": {},
   "outputs": [
    {
     "data": {
      "text/plain": [
       "{'Task': 'Go for Dinner',\n",
       " 'TaskId': '9211',\n",
       " 'CheckTaskid': '',\n",
       " 'TaskTitle': 'DailyRoutine',\n",
       " 'Init Date': '',\n",
       " 'Notify': 'True',\n",
       " 'NotifyTime': '(19, 30, 0)',\n",
       " 'AlertTime': '[]',\n",
       " 'StartTime': '(0, 0, 0)',\n",
       " 'EndTime': '(20, 0, 0)',\n",
       " 'NotifyDay': \"['Sunday', 'Monday', 'Tuesday', 'Wednesday', 'Thursday', 'Friday', 'Saturday']\",\n",
       " 'TaskCompleted': 'False',\n",
       " 'TaskStatus': ['notified']}"
      ]
     },
     "execution_count": 19,
     "metadata": {},
     "output_type": "execute_result"
    }
   ],
   "source": [
    "new_task"
   ]
  },
  {
   "cell_type": "code",
   "execution_count": 21,
   "id": "exempt-phrase",
   "metadata": {},
   "outputs": [
    {
     "name": "stdout",
     "output_type": "stream",
     "text": [
      "8\n",
      "{'Task': 'Go for Dinner', 'TaskId': '9211', 'CheckTaskid': '', 'TaskTitle': 'DailyRoutine', 'Init Date': '', 'Notify': 'True', 'NotifyTime': '(19, 30, 0)', 'AlertTime': '[]', 'StartTime': '(0, 0, 0)', 'EndTime': '(20, 0, 0)', 'NotifyDay': \"['Sunday', 'Monday', 'Tuesday', 'Wednesday', 'Thursday', 'Friday', 'Saturday']\", 'TaskCompleted': 'False', 'TaskStatus': '[]'}\n"
     ]
    }
   ],
   "source": [
    "with open('dailyroutine.csv', 'r+', newline='') as file:\n",
    "    reader = csv.DictReader(file)\n",
    "    writer = csv.DictWriter(file, fieldnames=reader.fieldnames)\n",
    "    for row in reader:\n",
    "        if row == task:\n",
    "            print(reader.line_num)\n",
    "            print(row)\n",
    "            writer.writerow(new_task)"
   ]
  },
  {
   "cell_type": "code",
   "execution_count": 92,
   "id": "matched-accident",
   "metadata": {},
   "outputs": [],
   "source": [
    "import os"
   ]
  },
  {
   "cell_type": "code",
   "execution_count": 93,
   "id": "sudden-desert",
   "metadata": {},
   "outputs": [],
   "source": [
    "os.chdir(r'C:\\WorkData\\Programming\\Python\\MY PROJECTS\\STUDY MANAGEMENT - TYT')"
   ]
  },
  {
   "cell_type": "code",
   "execution_count": 94,
   "id": "broad-large",
   "metadata": {},
   "outputs": [],
   "source": [
    "import Apps_func as apps"
   ]
  },
  {
   "cell_type": "code",
   "execution_count": 95,
   "id": "fundamental-financing",
   "metadata": {},
   "outputs": [],
   "source": [
    "a = apps.Time()"
   ]
  },
  {
   "cell_type": "code",
   "execution_count": 96,
   "id": "preliminary-tulsa",
   "metadata": {},
   "outputs": [
    {
     "data": {
      "text/plain": [
       "<Apps_func.Time at 0x22d1871bee0>"
      ]
     },
     "execution_count": 96,
     "metadata": {},
     "output_type": "execute_result"
    }
   ],
   "source": [
    "a"
   ]
  },
  {
   "cell_type": "code",
   "execution_count": null,
   "id": "capital-evanescence",
   "metadata": {},
   "outputs": [],
   "source": []
  },
  {
   "cell_type": "code",
   "execution_count": 73,
   "id": "athletic-assurance",
   "metadata": {},
   "outputs": [],
   "source": [
    "class student:\n",
    "    def __init__(self, name, age):\n",
    "        self.name = name\n",
    "        self.age = age\n",
    "        \n",
    "    def __eq__(self, other):\n",
    "        \n",
    "        result = all([self.name == other.name,\n",
    "                     self.age == other.age])\n",
    "        return result\n",
    "    \n",
    "    def __str__(self):\n",
    "        return f\"Student(name={self.name}, age={self.age})\"\n",
    "    \n",
    "    def __repr__(self):\n",
    "        return f\"{self.__class__.__name__}(name={self.name}, age={self.age})\""
   ]
  },
  {
   "cell_type": "code",
   "execution_count": 74,
   "id": "direct-angola",
   "metadata": {},
   "outputs": [],
   "source": [
    "a = student('Manish', 24)\n",
    "b = student('Rahul', 20)\n",
    "c = student('anil', 24)\n",
    "d =  student('Manish', 24)\n",
    "st = [a,b,c]"
   ]
  },
  {
   "cell_type": "code",
   "execution_count": 75,
   "id": "proper-foundation",
   "metadata": {},
   "outputs": [
    {
     "data": {
      "text/plain": [
       "False"
      ]
     },
     "execution_count": 75,
     "metadata": {},
     "output_type": "execute_result"
    }
   ],
   "source": [
    "a == b"
   ]
  },
  {
   "cell_type": "code",
   "execution_count": 76,
   "id": "human-retailer",
   "metadata": {},
   "outputs": [
    {
     "data": {
      "text/plain": [
       "False"
      ]
     },
     "execution_count": 76,
     "metadata": {},
     "output_type": "execute_result"
    }
   ],
   "source": [
    "a == c"
   ]
  },
  {
   "cell_type": "code",
   "execution_count": 77,
   "id": "typical-malawi",
   "metadata": {},
   "outputs": [
    {
     "data": {
      "text/plain": [
       "student(name=Manish, age=24)"
      ]
     },
     "execution_count": 77,
     "metadata": {},
     "output_type": "execute_result"
    }
   ],
   "source": [
    "d "
   ]
  },
  {
   "cell_type": "code",
   "execution_count": 78,
   "id": "recent-economy",
   "metadata": {},
   "outputs": [
    {
     "name": "stdout",
     "output_type": "stream",
     "text": [
      "Student(name=Manish, age=24)\n"
     ]
    }
   ],
   "source": [
    "for i in st:\n",
    "    if i == d:\n",
    "        print(i)\n",
    "        "
   ]
  },
  {
   "cell_type": "code",
   "execution_count": 64,
   "id": "incoming-strain",
   "metadata": {},
   "outputs": [
    {
     "data": {
      "text/plain": [
       "'Student(name=Manish, age=24)'"
      ]
     },
     "execution_count": 64,
     "metadata": {},
     "output_type": "execute_result"
    }
   ],
   "source": [
    "a.__str__()"
   ]
  },
  {
   "cell_type": "code",
   "execution_count": 65,
   "id": "verified-japan",
   "metadata": {},
   "outputs": [
    {
     "name": "stdout",
     "output_type": "stream",
     "text": [
      "Student(name=Manish, age=24)\n"
     ]
    }
   ],
   "source": [
    "print(a)"
   ]
  },
  {
   "cell_type": "code",
   "execution_count": null,
   "id": "distributed-tourism",
   "metadata": {},
   "outputs": [],
   "source": []
  },
  {
   "cell_type": "code",
   "execution_count": 101,
   "id": "proved-tribute",
   "metadata": {},
   "outputs": [],
   "source": [
    "class A:\n",
    "    class B:\n",
    "        class C:\n",
    "            def me(self):\n",
    "                print(\"module: \",self.__module__)\n",
    "                print(\"name: \",type(self).__name__)\n",
    "                print(\"qualname:  \", type(self).__qualname__)\n",
    "                print(\"repr: \",repr(self))"
   ]
  },
  {
   "cell_type": "code",
   "execution_count": null,
   "id": "solid-bangladesh",
   "metadata": {},
   "outputs": [],
   "source": []
  },
  {
   "cell_type": "code",
   "execution_count": null,
   "id": "vertical-acting",
   "metadata": {},
   "outputs": [],
   "source": []
  },
  {
   "cell_type": "code",
   "execution_count": null,
   "id": "level-doctor",
   "metadata": {},
   "outputs": [],
   "source": []
  },
  {
   "cell_type": "code",
   "execution_count": 120,
   "id": "suspected-asbestos",
   "metadata": {},
   "outputs": [
    {
     "name": "stdout",
     "output_type": "stream",
     "text": [
      "Getting value\n",
      "Peter\n"
     ]
    }
   ],
   "source": [
    "\n",
    "# Python program to explain property()\n",
    "# function using decorator\n",
    "  \n",
    "class Alphabet:\n",
    "    def __init__(self, value):\n",
    "        self._value = value\n",
    "        self.value = self._value\n",
    "    # getting the values    \n",
    "    @property\n",
    "    def value(self):\n",
    "        print('Getting value')\n",
    "        return self._value\n",
    "          \n",
    "    # setting the values    \n",
    "    @value.setter\n",
    "    def value(self, value):\n",
    "        print('Setting value to ' + value)\n",
    "        raise AttributeError(\"cant't set value attrubute is protected\")\n",
    "          \n",
    "    # deleting the values\n",
    "    @value.deleter\n",
    "    def value(self):\n",
    "        print('Deleting value')\n",
    "        raise AttributeError(\"attribute is protected\")\n",
    "  \n",
    "  \n",
    "# passing the value\n",
    "x = Alphabet('Peter')\n",
    "print(x.value)\n",
    "  \n",
    "x._value = 'a'"
   ]
  },
  {
   "cell_type": "code",
   "execution_count": 121,
   "id": "transsexual-fiber",
   "metadata": {},
   "outputs": [
    {
     "data": {
      "text/plain": [
       "'a'"
      ]
     },
     "execution_count": 121,
     "metadata": {},
     "output_type": "execute_result"
    }
   ],
   "source": [
    "x._value"
   ]
  },
  {
   "cell_type": "code",
   "execution_count": 143,
   "id": "sublime-moderator",
   "metadata": {},
   "outputs": [
    {
     "name": "stdout",
     "output_type": "stream",
     "text": [
      "Getting value\n",
      "GeeksforGeeks\n",
      "Setting value to GfG\n",
      "Deleting value\n"
     ]
    }
   ],
   "source": [
    "# Python program to explain property() function\n",
    "\n",
    "# Alphabet class\n",
    "class Alphabet:\n",
    "\tdef __init__(self, value):\n",
    "\t\tself._value = value\n",
    "\t\t\n",
    "\t# getting the values\n",
    "\tdef getValue(self):\n",
    "\t\tprint('Getting value')\n",
    "\t\treturn self._value\n",
    "\t\t\n",
    "\t# setting the values\n",
    "\tdef setValue(self, value):\n",
    "\t\tprint('Setting value to ' + value)\n",
    "\t\tself._value = value\n",
    "\t\t\n",
    "\t# deleting the values\n",
    "\tdef delValue(self):\n",
    "\t\tprint('Deleting value')\n",
    "\t\tdel self._value\n",
    "\t\n",
    "\tpack = property(getValue, setValue, delValue, )\n",
    "\n",
    "# passing the value\n",
    "x = Alphabet('GeeksforGeeks')\n",
    "print(x.pack)\n",
    "\n",
    "x.pack = 'GfG'\n",
    "\n",
    "del x.pack\n"
   ]
  },
  {
   "cell_type": "code",
   "execution_count": 144,
   "id": "vocational-regression",
   "metadata": {},
   "outputs": [
    {
     "ename": "AttributeError",
     "evalue": "'Alphabet' object has no attribute '_value'",
     "output_type": "error",
     "traceback": [
      "\u001b[1;31m---------------------------------------------------------------------------\u001b[0m",
      "\u001b[1;31mAttributeError\u001b[0m                            Traceback (most recent call last)",
      "\u001b[1;32m<ipython-input-144-090693f5faed>\u001b[0m in \u001b[0;36m<module>\u001b[1;34m\u001b[0m\n\u001b[1;32m----> 1\u001b[1;33m \u001b[0mx\u001b[0m\u001b[1;33m.\u001b[0m\u001b[0m_value\u001b[0m\u001b[1;33m\u001b[0m\u001b[1;33m\u001b[0m\u001b[0m\n\u001b[0m",
      "\u001b[1;31mAttributeError\u001b[0m: 'Alphabet' object has no attribute '_value'"
     ]
    }
   ],
   "source": [
    "x._value"
   ]
  },
  {
   "cell_type": "code",
   "execution_count": 165,
   "id": "intermediate-worse",
   "metadata": {},
   "outputs": [],
   "source": [
    "class TestClass:\n",
    "    def __init__(self, values):\n",
    "            self.__values = values\n",
    "            self.data = self.__values\n",
    "            self.new = 1\n",
    "            self.two = 3\n",
    "            \n",
    "    def __setattr__(self, name, value):\n",
    "            print(\"Attempt to edit the attribute %s\" %(name))\n",
    "            \n",
    "            if name == 'data' and value is not self.__values:\n",
    "                print(f\"{name} can't be modified\")\n",
    "            else:\n",
    "            \n",
    "                object.__setattr__(self, name, value)\n",
    "                \n",
    "            print(self.__dict__)"
   ]
  },
  {
   "cell_type": "code",
   "execution_count": 169,
   "id": "split-forge",
   "metadata": {},
   "outputs": [
    {
     "name": "stdout",
     "output_type": "stream",
     "text": [
      "Attempt to edit the attribute _TestClass__values\n",
      "{'_TestClass__values': {'new': 1, 'two': 3}}\n",
      "Attempt to edit the attribute data\n",
      "{'_TestClass__values': {'new': 1, 'two': 3}, 'data': {'new': 1, 'two': 3}}\n",
      "Attempt to edit the attribute new\n",
      "{'_TestClass__values': {'new': 1, 'two': 3}, 'data': {'new': 1, 'two': 3}, 'new': 1}\n",
      "Attempt to edit the attribute two\n",
      "{'_TestClass__values': {'new': 1, 'two': 3}, 'data': {'new': 1, 'two': 3}, 'new': 1, 'two': 3}\n"
     ]
    }
   ],
   "source": [
    "a = {'new': 1, 'two': 3}\n",
    "test = TestClass(a)"
   ]
  },
  {
   "cell_type": "code",
   "execution_count": 170,
   "id": "liquid-caution",
   "metadata": {},
   "outputs": [
    {
     "name": "stdout",
     "output_type": "stream",
     "text": [
      "Attempt to edit the attribute data\n",
      "data can't be modified\n",
      "{'_TestClass__values': {'new': 1, 'two': 3}, 'data': {'new': 1, 'two': 3}, 'new': 1, 'two': 3}\n"
     ]
    }
   ],
   "source": [
    "test.data = 1"
   ]
  },
  {
   "cell_type": "code",
   "execution_count": 171,
   "id": "defensive-marathon",
   "metadata": {},
   "outputs": [
    {
     "name": "stdout",
     "output_type": "stream",
     "text": [
      "Attempt to edit the attribute data\n",
      "data can't be modified\n",
      "{'_TestClass__values': {'new': 1, 'two': 3}, 'data': {'new': 1, 'two': 3}, 'new': 1, 'two': 3}\n"
     ]
    }
   ],
   "source": [
    "test.data = {'new': 1, 'two': 3}"
   ]
  },
  {
   "cell_type": "code",
   "execution_count": 172,
   "id": "flying-principle",
   "metadata": {},
   "outputs": [
    {
     "name": "stdout",
     "output_type": "stream",
     "text": [
      "Attempt to edit the attribute data\n",
      "data can't be modified\n",
      "{'_TestClass__values': {'new': 1, 'two': 3}, 'data': {'new': 1, 'two': 3}, 'new': 1, 'two': 3}\n"
     ]
    }
   ],
   "source": [
    "test.data = 'dhanraj'"
   ]
  },
  {
   "cell_type": "code",
   "execution_count": 173,
   "id": "peaceful-diabetes",
   "metadata": {},
   "outputs": [
    {
     "name": "stdout",
     "output_type": "stream",
     "text": [
      "Attempt to edit the attribute data\n",
      "{'_TestClass__values': {'new': 1, 'two': 3}, 'data': {'new': 1, 'two': 3}, 'new': 1, 'two': 3}\n"
     ]
    }
   ],
   "source": [
    "test.data = a"
   ]
  },
  {
   "cell_type": "code",
   "execution_count": 198,
   "id": "flexible-wyoming",
   "metadata": {},
   "outputs": [],
   "source": [
    "class IntVar(object):\n",
    "    \n",
    "    def __init__(self, value=None, access='all'):\n",
    "        super().__init__()\n",
    "        self.__value = value\n",
    "        \n",
    "    @property\n",
    "    def value(self):\n",
    "        return self.__value\n",
    "    \n",
    "    @value.setter\n",
    "    def value(self, value):\n",
    "        print('setting the attribute value')\n",
    "        if isinstance(value, int):\n",
    "            self.__value = value\n",
    "        else:\n",
    "            raise TypeError(f'invalid type: required int type object got {type(value)}')\n",
    "    \n",
    "    "
   ]
  },
  {
   "cell_type": "code",
   "execution_count": 199,
   "id": "medium-print",
   "metadata": {},
   "outputs": [],
   "source": [
    "a = IntVar(10)"
   ]
  },
  {
   "cell_type": "code",
   "execution_count": 200,
   "id": "cognitive-fifty",
   "metadata": {},
   "outputs": [
    {
     "data": {
      "text/plain": [
       "<__main__.IntVar at 0x22d17ade310>"
      ]
     },
     "execution_count": 200,
     "metadata": {},
     "output_type": "execute_result"
    }
   ],
   "source": [
    "a"
   ]
  },
  {
   "cell_type": "code",
   "execution_count": 201,
   "id": "starting-buyer",
   "metadata": {},
   "outputs": [
    {
     "data": {
      "text/plain": [
       "10"
      ]
     },
     "execution_count": 201,
     "metadata": {},
     "output_type": "execute_result"
    }
   ],
   "source": [
    "a.value"
   ]
  },
  {
   "cell_type": "code",
   "execution_count": 202,
   "id": "running-anthropology",
   "metadata": {},
   "outputs": [
    {
     "name": "stdout",
     "output_type": "stream",
     "text": [
      "setting the attribute value\n"
     ]
    }
   ],
   "source": [
    "a.value = 20"
   ]
  },
  {
   "cell_type": "code",
   "execution_count": 203,
   "id": "quiet-brighton",
   "metadata": {},
   "outputs": [
    {
     "name": "stdout",
     "output_type": "stream",
     "text": [
      "setting the attribute value\n"
     ]
    },
    {
     "ename": "TypeError",
     "evalue": "invalid type: required int type object got <class 'list'>",
     "output_type": "error",
     "traceback": [
      "\u001b[1;31m---------------------------------------------------------------------------\u001b[0m",
      "\u001b[1;31mTypeError\u001b[0m                                 Traceback (most recent call last)",
      "\u001b[1;32m<ipython-input-203-f9fbbd5912a6>\u001b[0m in \u001b[0;36m<module>\u001b[1;34m\u001b[0m\n\u001b[1;32m----> 1\u001b[1;33m \u001b[0ma\u001b[0m\u001b[1;33m.\u001b[0m\u001b[0mvalue\u001b[0m \u001b[1;33m=\u001b[0m \u001b[1;33m[\u001b[0m\u001b[1;33m]\u001b[0m\u001b[1;33m\u001b[0m\u001b[1;33m\u001b[0m\u001b[0m\n\u001b[0m",
      "\u001b[1;32m<ipython-input-198-f074e599bd11>\u001b[0m in \u001b[0;36mvalue\u001b[1;34m(self, value)\u001b[0m\n\u001b[0;32m     15\u001b[0m             \u001b[0mself\u001b[0m\u001b[1;33m.\u001b[0m\u001b[0m__value\u001b[0m \u001b[1;33m=\u001b[0m \u001b[0mvalue\u001b[0m\u001b[1;33m\u001b[0m\u001b[1;33m\u001b[0m\u001b[0m\n\u001b[0;32m     16\u001b[0m         \u001b[1;32melse\u001b[0m\u001b[1;33m:\u001b[0m\u001b[1;33m\u001b[0m\u001b[1;33m\u001b[0m\u001b[0m\n\u001b[1;32m---> 17\u001b[1;33m             \u001b[1;32mraise\u001b[0m \u001b[0mTypeError\u001b[0m\u001b[1;33m(\u001b[0m\u001b[1;34mf'invalid type: required int type object got {type(value)}'\u001b[0m\u001b[1;33m)\u001b[0m\u001b[1;33m\u001b[0m\u001b[1;33m\u001b[0m\u001b[0m\n\u001b[0m\u001b[0;32m     18\u001b[0m \u001b[1;33m\u001b[0m\u001b[0m\n\u001b[0;32m     19\u001b[0m \u001b[1;33m\u001b[0m\u001b[0m\n",
      "\u001b[1;31mTypeError\u001b[0m: invalid type: required int type object got <class 'list'>"
     ]
    }
   ],
   "source": [
    "a.value = []"
   ]
  },
  {
   "cell_type": "code",
   "execution_count": 204,
   "id": "controlled-davis",
   "metadata": {},
   "outputs": [
    {
     "data": {
      "text/plain": [
       "{'_IntVar__value': 20}"
      ]
     },
     "execution_count": 204,
     "metadata": {},
     "output_type": "execute_result"
    }
   ],
   "source": [
    "a.__dict__"
   ]
  },
  {
   "cell_type": "code",
   "execution_count": 205,
   "id": "middle-merit",
   "metadata": {},
   "outputs": [
    {
     "data": {
      "text/plain": [
       "20"
      ]
     },
     "execution_count": 205,
     "metadata": {},
     "output_type": "execute_result"
    }
   ],
   "source": [
    "a.value"
   ]
  },
  {
   "cell_type": "code",
   "execution_count": 206,
   "id": "indirect-clear",
   "metadata": {},
   "outputs": [
    {
     "name": "stdout",
     "output_type": "stream",
     "text": [
      "setting the attribute value\n"
     ]
    }
   ],
   "source": [
    "a.value= 30"
   ]
  },
  {
   "cell_type": "code",
   "execution_count": 207,
   "id": "handmade-harrison",
   "metadata": {},
   "outputs": [
    {
     "data": {
      "text/plain": [
       "{'_IntVar__value': 30}"
      ]
     },
     "execution_count": 207,
     "metadata": {},
     "output_type": "execute_result"
    }
   ],
   "source": [
    "a.__dict__"
   ]
  },
  {
   "cell_type": "code",
   "execution_count": 217,
   "id": "normal-manchester",
   "metadata": {},
   "outputs": [],
   "source": [
    "class IntVar2:\n",
    "    \n",
    "    def __init__(self, value, access='all'):\n",
    "        # access control values ->> all, readonly, protected\n",
    "        self.__ref = value\n",
    "        self.__value = self.__ref\n",
    "        self.__access = access\n",
    "        \n",
    "    def __set__(self, name, value):\n",
    "        print(f\"setting {value } to object\")\n",
    "        if self.__access == 'all':\n",
    "            self.__dict__[name] = value\n",
    "            \n",
    "        elif self.__access == 'readonly':\n",
    "            pass\n",
    "        \n",
    "        elif self.__access == 'protected':\n",
    "            pass\n",
    "            \n",
    "        \n",
    "    def __get__(self, name, owner):\n",
    "        \n",
    "        if self.__access == 'all':\n",
    "            return self.__value\n",
    "            \n",
    "        elif self.__access == 'readonly':\n",
    "            return self.__value\n",
    "        \n",
    "        elif self.__access == 'protected':\n",
    "            raise PermissionError(f\"can't get attribute is {self.__access}\")\n",
    "        \n",
    "        \n",
    "    \n",
    "    def __del__(self, name):\n",
    "        if self.__access == 'all':\n",
    "            del self.__value\n",
    "            del self.__dict__[name]\n",
    "            \n",
    "        elif self.__access == 'readonly':\n",
    "            raise PermissionError(f\"can't delete attribute is {self.__access}\")\n",
    "            \n",
    "        elif self.__access == 'protected':\n",
    "            raise PermissionError(f\"can't delete attribute is {self.__access}\")\n",
    "    \n",
    "    def __repr__(self):\n",
    "        return f\"{self.__value}\"\n",
    "    \n",
    "    def __str__(self):\n",
    "        return f\"{self.__value}\"\n",
    "    "
   ]
  },
  {
   "cell_type": "code",
   "execution_count": 212,
   "id": "capital-alert",
   "metadata": {},
   "outputs": [],
   "source": [
    "a = IntVar2(10)"
   ]
  },
  {
   "cell_type": "code",
   "execution_count": 214,
   "id": "shaped-premiere",
   "metadata": {},
   "outputs": [],
   "source": [
    "a = 20"
   ]
  },
  {
   "cell_type": "code",
   "execution_count": 215,
   "id": "proud-vienna",
   "metadata": {},
   "outputs": [
    {
     "data": {
      "text/plain": [
       "20"
      ]
     },
     "execution_count": 215,
     "metadata": {},
     "output_type": "execute_result"
    }
   ],
   "source": [
    "a"
   ]
  },
  {
   "cell_type": "code",
   "execution_count": null,
   "id": "freelance-realtor",
   "metadata": {},
   "outputs": [],
   "source": []
  }
 ],
 "metadata": {
  "kernelspec": {
   "display_name": "Python 3",
   "language": "python",
   "name": "python3"
  },
  "language_info": {
   "codemirror_mode": {
    "name": "ipython",
    "version": 3
   },
   "file_extension": ".py",
   "mimetype": "text/x-python",
   "name": "python",
   "nbconvert_exporter": "python",
   "pygments_lexer": "ipython3",
   "version": "3.8.3"
  }
 },
 "nbformat": 4,
 "nbformat_minor": 5
}
